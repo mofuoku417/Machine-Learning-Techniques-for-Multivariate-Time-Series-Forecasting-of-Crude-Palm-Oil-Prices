{
  "nbformat": 4,
  "nbformat_minor": 0,
  "metadata": {
    "colab": {
      "name": "MV_MLP2.ipynb",
      "provenance": [],
      "authorship_tag": "ABX9TyMuiW1GC4rzTtHKZMF2kcIP",
      "include_colab_link": true
    },
    "kernelspec": {
      "name": "python3",
      "display_name": "Python 3"
    },
    "language_info": {
      "name": "python"
    }
  },
  "cells": [
    {
      "cell_type": "markdown",
      "metadata": {
        "id": "view-in-github",
        "colab_type": "text"
      },
      "source": [
        "<a href=\"https://colab.research.google.com/github/mofuoku417/Machine-Learning-Techniques-for-Multivariate-Time-Series-Forecasting-of-Crude-Palm-Oil-Prices/blob/main/MV_MLP2.ipynb\" target=\"_parent\"><img src=\"https://colab.research.google.com/assets/colab-badge.svg\" alt=\"Open In Colab\"/></a>"
      ]
    },
    {
      "cell_type": "markdown",
      "source": [
        "###Load the Libraries"
      ],
      "metadata": {
        "id": "tt6Yvzr3gZ-g"
      }
    },
    {
      "cell_type": "code",
      "source": [
        "import pandas as pd\n",
        "import numpy as np\n",
        "import matplotlib.pyplot as plt\n",
        "import seaborn as sns\n",
        "plt.rcParams['figure.figsize'] = (10, 5)\n",
        "plt.style.use('fivethirtyeight')\n",
        "from plotly.subplots import make_subplots\n",
        "import plotly.graph_objects as go\n",
        "import tensorflow as tf\n",
        "from tensorflow.keras import layers\n",
        "from sklearn.metrics import mean_absolute_error\n",
        "from sklearn.metrics import make_scorer, mean_squared_error\n",
        "from sklearn.metrics import explained_variance_score\n",
        "from sklearn.neural_network import MLPRegressor\n",
        "from sklearn.model_selection import GridSearchCV, RandomizedSearchCV\n",
        "import warnings\n",
        "warnings.filterwarnings('ignore')\n",
        "\n",
        "import matplotlib.dates as mdates\n",
        "from sklearn.preprocessing import RobustScaler"
      ],
      "metadata": {
        "id": "eJUaw5qy34It"
      },
      "execution_count": null,
      "outputs": []
    },
    {
      "cell_type": "markdown",
      "source": [
        "###Define Functions to Facilitate Metrics Evaluation"
      ],
      "metadata": {
        "id": "Gzu9V2o2gfZG"
      }
    },
    {
      "cell_type": "code",
      "source": [
        "#To compute Mean Directional Accuracy\n",
        "def mda(actual: np.ndarray, predicted: np.ndarray):\n",
        "    \"\"\" Mean Directional Accuracy \"\"\"\n",
        "    return np.mean((np.sign(actual[1:] - actual[:-1]) == np.sign(predicted[1:] - predicted[:-1])).astype(int))\n",
        "\n",
        "#Calculate the Mean Absolute Percentage Error\n",
        "#def MAPE(y_true, y_pred): \n",
        "    #mape = np.mean(np.abs((np.array(y_true) - np.array(y_pred)) / np.array(y_true))) * 100\n",
        "    #return mape\n",
        "\n",
        "def mean_absolute_percentage_error(y_true, y_pred): \n",
        "    y_true, y_pred = np.array(y_true), np.array(y_pred)\n",
        "    return np.mean(np.abs((y_true - y_pred) / y_true)) * 100\n",
        "\n",
        "def MAPE(y_true, y_pred): \n",
        "    y_true, y_pred = np.array(y_true), np.array(y_pred)\n",
        "    return np.mean(np.abs((y_true - y_pred) / y_true)) * 100\n",
        "\n",
        "#Calculate the Root Mean Squared Error:\n",
        "def RMSE(y_true, y_pred): \n",
        "    rmse = np.sqrt(mean_squared_error(y_true, y_pred))\n",
        "    return rmse"
      ],
      "metadata": {
        "id": "k7RYx1rN_Yf_"
      },
      "execution_count": null,
      "outputs": []
    },
    {
      "cell_type": "markdown",
      "source": [
        "###Load the Cleaned Data from Github"
      ],
      "metadata": {
        "id": "FVpIGyF7g4od"
      }
    },
    {
      "cell_type": "code",
      "source": [
        "from pandas import read_csv\n",
        "path = 'https://raw.githubusercontent.com/mofuoku417/multivariate-time-series-prediction-of-crude-palm-oil-price-data-science-approach/main/cleaned_data/preprocessed.csv'\n",
        "df = read_csv(path, index_col=0)\n",
        "df.head()"
      ],
      "metadata": {
        "colab": {
          "base_uri": "https://localhost:8080/",
          "height": 204
        },
        "id": "z_6wFR8b3xZf",
        "outputId": "4a98cb32-f007-4b93-ceb7-5fffc4afbac5"
      },
      "execution_count": null,
      "outputs": [
        {
          "output_type": "execute_result",
          "data": {
            "text/html": [
              "\n",
              "  <div id=\"df-ccf0d501-a4f4-4183-abcb-53c036ab3894\">\n",
              "    <div class=\"colab-df-container\">\n",
              "      <div>\n",
              "<style scoped>\n",
              "    .dataframe tbody tr th:only-of-type {\n",
              "        vertical-align: middle;\n",
              "    }\n",
              "\n",
              "    .dataframe tbody tr th {\n",
              "        vertical-align: top;\n",
              "    }\n",
              "\n",
              "    .dataframe thead th {\n",
              "        text-align: right;\n",
              "    }\n",
              "</style>\n",
              "<table border=\"1\" class=\"dataframe\">\n",
              "  <thead>\n",
              "    <tr style=\"text-align: right;\">\n",
              "      <th></th>\n",
              "      <th>Date</th>\n",
              "      <th>cpo_pri</th>\n",
              "      <th>cno_pri</th>\n",
              "      <th>rps_pri</th>\n",
              "      <th>pno_pri</th>\n",
              "      <th>sbo_pri</th>\n",
              "      <th>wti_spri</th>\n",
              "    </tr>\n",
              "  </thead>\n",
              "  <tbody>\n",
              "    <tr>\n",
              "      <th>0</th>\n",
              "      <td>2002-02-01</td>\n",
              "      <td>323.0</td>\n",
              "      <td>455.0</td>\n",
              "      <td>423.45</td>\n",
              "      <td>844.0</td>\n",
              "      <td>468.0</td>\n",
              "      <td>28.67</td>\n",
              "    </tr>\n",
              "    <tr>\n",
              "      <th>1</th>\n",
              "      <td>2002-03-01</td>\n",
              "      <td>345.0</td>\n",
              "      <td>546.0</td>\n",
              "      <td>415.85</td>\n",
              "      <td>799.0</td>\n",
              "      <td>485.0</td>\n",
              "      <td>24.49</td>\n",
              "    </tr>\n",
              "    <tr>\n",
              "      <th>2</th>\n",
              "      <td>2002-04-01</td>\n",
              "      <td>362.0</td>\n",
              "      <td>595.0</td>\n",
              "      <td>410.77</td>\n",
              "      <td>718.0</td>\n",
              "      <td>466.0</td>\n",
              "      <td>22.06</td>\n",
              "    </tr>\n",
              "    <tr>\n",
              "      <th>3</th>\n",
              "      <td>2002-05-01</td>\n",
              "      <td>376.0</td>\n",
              "      <td>636.0</td>\n",
              "      <td>414.82</td>\n",
              "      <td>614.0</td>\n",
              "      <td>442.0</td>\n",
              "      <td>21.64</td>\n",
              "    </tr>\n",
              "    <tr>\n",
              "      <th>4</th>\n",
              "      <td>2002-06-01</td>\n",
              "      <td>383.0</td>\n",
              "      <td>738.0</td>\n",
              "      <td>451.04</td>\n",
              "      <td>619.0</td>\n",
              "      <td>429.0</td>\n",
              "      <td>22.30</td>\n",
              "    </tr>\n",
              "  </tbody>\n",
              "</table>\n",
              "</div>\n",
              "      <button class=\"colab-df-convert\" onclick=\"convertToInteractive('df-ccf0d501-a4f4-4183-abcb-53c036ab3894')\"\n",
              "              title=\"Convert this dataframe to an interactive table.\"\n",
              "              style=\"display:none;\">\n",
              "        \n",
              "  <svg xmlns=\"http://www.w3.org/2000/svg\" height=\"24px\"viewBox=\"0 0 24 24\"\n",
              "       width=\"24px\">\n",
              "    <path d=\"M0 0h24v24H0V0z\" fill=\"none\"/>\n",
              "    <path d=\"M18.56 5.44l.94 2.06.94-2.06 2.06-.94-2.06-.94-.94-2.06-.94 2.06-2.06.94zm-11 1L8.5 8.5l.94-2.06 2.06-.94-2.06-.94L8.5 2.5l-.94 2.06-2.06.94zm10 10l.94 2.06.94-2.06 2.06-.94-2.06-.94-.94-2.06-.94 2.06-2.06.94z\"/><path d=\"M17.41 7.96l-1.37-1.37c-.4-.4-.92-.59-1.43-.59-.52 0-1.04.2-1.43.59L10.3 9.45l-7.72 7.72c-.78.78-.78 2.05 0 2.83L4 21.41c.39.39.9.59 1.41.59.51 0 1.02-.2 1.41-.59l7.78-7.78 2.81-2.81c.8-.78.8-2.07 0-2.86zM5.41 20L4 18.59l7.72-7.72 1.47 1.35L5.41 20z\"/>\n",
              "  </svg>\n",
              "      </button>\n",
              "      \n",
              "  <style>\n",
              "    .colab-df-container {\n",
              "      display:flex;\n",
              "      flex-wrap:wrap;\n",
              "      gap: 12px;\n",
              "    }\n",
              "\n",
              "    .colab-df-convert {\n",
              "      background-color: #E8F0FE;\n",
              "      border: none;\n",
              "      border-radius: 50%;\n",
              "      cursor: pointer;\n",
              "      display: none;\n",
              "      fill: #1967D2;\n",
              "      height: 32px;\n",
              "      padding: 0 0 0 0;\n",
              "      width: 32px;\n",
              "    }\n",
              "\n",
              "    .colab-df-convert:hover {\n",
              "      background-color: #E2EBFA;\n",
              "      box-shadow: 0px 1px 2px rgba(60, 64, 67, 0.3), 0px 1px 3px 1px rgba(60, 64, 67, 0.15);\n",
              "      fill: #174EA6;\n",
              "    }\n",
              "\n",
              "    [theme=dark] .colab-df-convert {\n",
              "      background-color: #3B4455;\n",
              "      fill: #D2E3FC;\n",
              "    }\n",
              "\n",
              "    [theme=dark] .colab-df-convert:hover {\n",
              "      background-color: #434B5C;\n",
              "      box-shadow: 0px 1px 3px 1px rgba(0, 0, 0, 0.15);\n",
              "      filter: drop-shadow(0px 1px 2px rgba(0, 0, 0, 0.3));\n",
              "      fill: #FFFFFF;\n",
              "    }\n",
              "  </style>\n",
              "\n",
              "      <script>\n",
              "        const buttonEl =\n",
              "          document.querySelector('#df-ccf0d501-a4f4-4183-abcb-53c036ab3894 button.colab-df-convert');\n",
              "        buttonEl.style.display =\n",
              "          google.colab.kernel.accessAllowed ? 'block' : 'none';\n",
              "\n",
              "        async function convertToInteractive(key) {\n",
              "          const element = document.querySelector('#df-ccf0d501-a4f4-4183-abcb-53c036ab3894');\n",
              "          const dataTable =\n",
              "            await google.colab.kernel.invokeFunction('convertToInteractive',\n",
              "                                                     [key], {});\n",
              "          if (!dataTable) return;\n",
              "\n",
              "          const docLinkHtml = 'Like what you see? Visit the ' +\n",
              "            '<a target=\"_blank\" href=https://colab.research.google.com/notebooks/data_table.ipynb>data table notebook</a>'\n",
              "            + ' to learn more about interactive tables.';\n",
              "          element.innerHTML = '';\n",
              "          dataTable['output_type'] = 'display_data';\n",
              "          await google.colab.output.renderOutput(dataTable, element);\n",
              "          const docLink = document.createElement('div');\n",
              "          docLink.innerHTML = docLinkHtml;\n",
              "          element.appendChild(docLink);\n",
              "        }\n",
              "      </script>\n",
              "    </div>\n",
              "  </div>\n",
              "  "
            ],
            "text/plain": [
              "         Date  cpo_pri  cno_pri  rps_pri  pno_pri  sbo_pri  wti_spri\n",
              "0  2002-02-01    323.0    455.0   423.45    844.0    468.0     28.67\n",
              "1  2002-03-01    345.0    546.0   415.85    799.0    485.0     24.49\n",
              "2  2002-04-01    362.0    595.0   410.77    718.0    466.0     22.06\n",
              "3  2002-05-01    376.0    636.0   414.82    614.0    442.0     21.64\n",
              "4  2002-06-01    383.0    738.0   451.04    619.0    429.0     22.30"
            ]
          },
          "metadata": {},
          "execution_count": 124
        }
      ]
    },
    {
      "cell_type": "code",
      "source": [
        "df.index = pd.to_datetime(df['Date'], format='%Y.%m.%d')\n",
        "del df['Date']"
      ],
      "metadata": {
        "id": "bABFH7Kd4nBN"
      },
      "execution_count": null,
      "outputs": []
    },
    {
      "cell_type": "code",
      "source": [
        "df.head()"
      ],
      "metadata": {
        "colab": {
          "base_uri": "https://localhost:8080/",
          "height": 235
        },
        "id": "PLpdJChY4wex",
        "outputId": "a0bf6a1c-2c01-49c9-bc20-9516704f2548"
      },
      "execution_count": null,
      "outputs": [
        {
          "output_type": "execute_result",
          "data": {
            "text/html": [
              "\n",
              "  <div id=\"df-2e2cc3cc-2999-4873-b2d3-c9302fa82395\">\n",
              "    <div class=\"colab-df-container\">\n",
              "      <div>\n",
              "<style scoped>\n",
              "    .dataframe tbody tr th:only-of-type {\n",
              "        vertical-align: middle;\n",
              "    }\n",
              "\n",
              "    .dataframe tbody tr th {\n",
              "        vertical-align: top;\n",
              "    }\n",
              "\n",
              "    .dataframe thead th {\n",
              "        text-align: right;\n",
              "    }\n",
              "</style>\n",
              "<table border=\"1\" class=\"dataframe\">\n",
              "  <thead>\n",
              "    <tr style=\"text-align: right;\">\n",
              "      <th></th>\n",
              "      <th>cpo_pri</th>\n",
              "      <th>cno_pri</th>\n",
              "      <th>rps_pri</th>\n",
              "      <th>pno_pri</th>\n",
              "      <th>sbo_pri</th>\n",
              "      <th>wti_spri</th>\n",
              "    </tr>\n",
              "    <tr>\n",
              "      <th>Date</th>\n",
              "      <th></th>\n",
              "      <th></th>\n",
              "      <th></th>\n",
              "      <th></th>\n",
              "      <th></th>\n",
              "      <th></th>\n",
              "    </tr>\n",
              "  </thead>\n",
              "  <tbody>\n",
              "    <tr>\n",
              "      <th>2002-02-01</th>\n",
              "      <td>323.0</td>\n",
              "      <td>455.0</td>\n",
              "      <td>423.45</td>\n",
              "      <td>844.0</td>\n",
              "      <td>468.0</td>\n",
              "      <td>28.67</td>\n",
              "    </tr>\n",
              "    <tr>\n",
              "      <th>2002-03-01</th>\n",
              "      <td>345.0</td>\n",
              "      <td>546.0</td>\n",
              "      <td>415.85</td>\n",
              "      <td>799.0</td>\n",
              "      <td>485.0</td>\n",
              "      <td>24.49</td>\n",
              "    </tr>\n",
              "    <tr>\n",
              "      <th>2002-04-01</th>\n",
              "      <td>362.0</td>\n",
              "      <td>595.0</td>\n",
              "      <td>410.77</td>\n",
              "      <td>718.0</td>\n",
              "      <td>466.0</td>\n",
              "      <td>22.06</td>\n",
              "    </tr>\n",
              "    <tr>\n",
              "      <th>2002-05-01</th>\n",
              "      <td>376.0</td>\n",
              "      <td>636.0</td>\n",
              "      <td>414.82</td>\n",
              "      <td>614.0</td>\n",
              "      <td>442.0</td>\n",
              "      <td>21.64</td>\n",
              "    </tr>\n",
              "    <tr>\n",
              "      <th>2002-06-01</th>\n",
              "      <td>383.0</td>\n",
              "      <td>738.0</td>\n",
              "      <td>451.04</td>\n",
              "      <td>619.0</td>\n",
              "      <td>429.0</td>\n",
              "      <td>22.30</td>\n",
              "    </tr>\n",
              "  </tbody>\n",
              "</table>\n",
              "</div>\n",
              "      <button class=\"colab-df-convert\" onclick=\"convertToInteractive('df-2e2cc3cc-2999-4873-b2d3-c9302fa82395')\"\n",
              "              title=\"Convert this dataframe to an interactive table.\"\n",
              "              style=\"display:none;\">\n",
              "        \n",
              "  <svg xmlns=\"http://www.w3.org/2000/svg\" height=\"24px\"viewBox=\"0 0 24 24\"\n",
              "       width=\"24px\">\n",
              "    <path d=\"M0 0h24v24H0V0z\" fill=\"none\"/>\n",
              "    <path d=\"M18.56 5.44l.94 2.06.94-2.06 2.06-.94-2.06-.94-.94-2.06-.94 2.06-2.06.94zm-11 1L8.5 8.5l.94-2.06 2.06-.94-2.06-.94L8.5 2.5l-.94 2.06-2.06.94zm10 10l.94 2.06.94-2.06 2.06-.94-2.06-.94-.94-2.06-.94 2.06-2.06.94z\"/><path d=\"M17.41 7.96l-1.37-1.37c-.4-.4-.92-.59-1.43-.59-.52 0-1.04.2-1.43.59L10.3 9.45l-7.72 7.72c-.78.78-.78 2.05 0 2.83L4 21.41c.39.39.9.59 1.41.59.51 0 1.02-.2 1.41-.59l7.78-7.78 2.81-2.81c.8-.78.8-2.07 0-2.86zM5.41 20L4 18.59l7.72-7.72 1.47 1.35L5.41 20z\"/>\n",
              "  </svg>\n",
              "      </button>\n",
              "      \n",
              "  <style>\n",
              "    .colab-df-container {\n",
              "      display:flex;\n",
              "      flex-wrap:wrap;\n",
              "      gap: 12px;\n",
              "    }\n",
              "\n",
              "    .colab-df-convert {\n",
              "      background-color: #E8F0FE;\n",
              "      border: none;\n",
              "      border-radius: 50%;\n",
              "      cursor: pointer;\n",
              "      display: none;\n",
              "      fill: #1967D2;\n",
              "      height: 32px;\n",
              "      padding: 0 0 0 0;\n",
              "      width: 32px;\n",
              "    }\n",
              "\n",
              "    .colab-df-convert:hover {\n",
              "      background-color: #E2EBFA;\n",
              "      box-shadow: 0px 1px 2px rgba(60, 64, 67, 0.3), 0px 1px 3px 1px rgba(60, 64, 67, 0.15);\n",
              "      fill: #174EA6;\n",
              "    }\n",
              "\n",
              "    [theme=dark] .colab-df-convert {\n",
              "      background-color: #3B4455;\n",
              "      fill: #D2E3FC;\n",
              "    }\n",
              "\n",
              "    [theme=dark] .colab-df-convert:hover {\n",
              "      background-color: #434B5C;\n",
              "      box-shadow: 0px 1px 3px 1px rgba(0, 0, 0, 0.15);\n",
              "      filter: drop-shadow(0px 1px 2px rgba(0, 0, 0, 0.3));\n",
              "      fill: #FFFFFF;\n",
              "    }\n",
              "  </style>\n",
              "\n",
              "      <script>\n",
              "        const buttonEl =\n",
              "          document.querySelector('#df-2e2cc3cc-2999-4873-b2d3-c9302fa82395 button.colab-df-convert');\n",
              "        buttonEl.style.display =\n",
              "          google.colab.kernel.accessAllowed ? 'block' : 'none';\n",
              "\n",
              "        async function convertToInteractive(key) {\n",
              "          const element = document.querySelector('#df-2e2cc3cc-2999-4873-b2d3-c9302fa82395');\n",
              "          const dataTable =\n",
              "            await google.colab.kernel.invokeFunction('convertToInteractive',\n",
              "                                                     [key], {});\n",
              "          if (!dataTable) return;\n",
              "\n",
              "          const docLinkHtml = 'Like what you see? Visit the ' +\n",
              "            '<a target=\"_blank\" href=https://colab.research.google.com/notebooks/data_table.ipynb>data table notebook</a>'\n",
              "            + ' to learn more about interactive tables.';\n",
              "          element.innerHTML = '';\n",
              "          dataTable['output_type'] = 'display_data';\n",
              "          await google.colab.output.renderOutput(dataTable, element);\n",
              "          const docLink = document.createElement('div');\n",
              "          docLink.innerHTML = docLinkHtml;\n",
              "          element.appendChild(docLink);\n",
              "        }\n",
              "      </script>\n",
              "    </div>\n",
              "  </div>\n",
              "  "
            ],
            "text/plain": [
              "            cpo_pri  cno_pri  rps_pri  pno_pri  sbo_pri  wti_spri\n",
              "Date                                                             \n",
              "2002-02-01    323.0    455.0   423.45    844.0    468.0     28.67\n",
              "2002-03-01    345.0    546.0   415.85    799.0    485.0     24.49\n",
              "2002-04-01    362.0    595.0   410.77    718.0    466.0     22.06\n",
              "2002-05-01    376.0    636.0   414.82    614.0    442.0     21.64\n",
              "2002-06-01    383.0    738.0   451.04    619.0    429.0     22.30"
            ]
          },
          "metadata": {},
          "execution_count": 126
        }
      ]
    },
    {
      "cell_type": "markdown",
      "source": [
        "###Plot the Target Variable"
      ],
      "metadata": {
        "id": "umNCevC24_-U"
      }
    },
    {
      "cell_type": "code",
      "source": [
        "plt.figure(figsize=(20,5))\n",
        "plt.grid()\n",
        "plt.plot(df.index, df['cpo_pri'], color = 'blue',  label = 'Test')\n",
        "ax = plt.gca()\n",
        "ax.xaxis.set_major_locator(mdates.MonthLocator(interval=12))\n",
        "ax.xaxis.set_major_formatter(mdates.DateFormatter('%m-%Y'))\n",
        "plt.gcf().autofmt_xdate() # Rotation\n",
        "plt.legend(['Actual Values', 'Crude Palm Oil Price 2002-2021'],loc='best')\n",
        "plt.title('Crude Palm Oil Price')\n",
        "plt.ylabel('Monthly Crude Palm Oil Price')\n",
        "plt.xlabel('Date')"
      ],
      "metadata": {
        "colab": {
          "base_uri": "https://localhost:8080/",
          "height": 356
        },
        "id": "UAxAksP-5GJn",
        "outputId": "811b3bce-6c8f-4849-b8d0-188928282277"
      },
      "execution_count": null,
      "outputs": [
        {
          "output_type": "execute_result",
          "data": {
            "text/plain": [
              "Text(0.5, 0, 'Date')"
            ]
          },
          "metadata": {},
          "execution_count": 127
        },
        {
          "output_type": "display_data",
          "data": {
            "image/png": "[encoded data removed]",
            "text/plain": [
              "<Figure size 1440x360 with 1 Axes>"
            ]
          },
          "metadata": {}
        }
      ]
    },
    {
      "cell_type": "markdown",
      "source": [
        "###Visualize Multiple Time Series"
      ],
      "metadata": {
        "id": "Xqo7Amf450Ea"
      }
    },
    {
      "cell_type": "code",
      "source": [
        "fig = make_subplots(rows=6, cols=1)\n",
        "fig.add_trace(\n",
        "    go.Scatter(x=df.reset_index()['Date'], y=df.reset_index()['cpo_pri'],name='crude palm oil price'),\n",
        "    row=1, col=1\n",
        ")\n",
        "fig.add_trace(\n",
        "    go.Scatter(x=df.reset_index()['Date'], y=df.reset_index()['cno_pri'],name='coconut oil price'),\n",
        "    row=2, col=1\n",
        ")\n",
        "fig.add_trace(\n",
        "    go.Scatter(x=df.reset_index()['Date'], y=df.reset_index()['rps_pri'],name='rapeseed oil price'),\n",
        "    row=3, col=1\n",
        ")\n",
        "fig.add_trace(\n",
        "    go.Scatter(x=df.reset_index()['Date'], y=df.reset_index()['pno_pri'],name='peanut oil price'),\n",
        "    row=4, col=1\n",
        ")\n",
        "fig.add_trace(\n",
        "    go.Scatter(x=df.reset_index()['Date'], y=df.reset_index()['sbo_pri'],name='soybean oil price'),\n",
        "    row=4, col=1\n",
        ")\n",
        "fig.add_trace(\n",
        "    go.Scatter(x=df.reset_index()['Date'], y=df.reset_index()['wti_spri'],name='west texas intermediate spot price'),\n",
        "    row=4, col=1\n",
        "\n",
        ")\n",
        "fig.update_layout(height=1000, width=1200, title_text=\"Time Series\")\n",
        "fig.show()"
      ],
      "metadata": {
        "colab": {
          "base_uri": "https://localhost:8080/",
          "height": 1000
        },
        "id": "Wsgst2AX598R",
        "outputId": "c995ca75-e5bf-42a5-883a-a4aca1af4b24"
      },
      "execution_count": null,
      "outputs": [
        {
          "output_type": "display_data",
          "data": {
            "text/html": [
              "<html>\n",
              "<head><meta charset=\"utf-8\" /></head>\n",
              "<body>\n",
              "    <div>            <script src=\"https://cdnjs.cloudflare.com/ajax/libs/mathjax/2.7.5/MathJax.js?config=TeX-AMS-MML_SVG\"></script><script type=\"text/javascript\">if (window.MathJax) {MathJax.Hub.Config({SVG: {font: \"STIX-Web\"}});}</script>                <script type=\"text/javascript\">window.PlotlyConfig = {MathJaxConfig: 'local'};</script>\n",
              "        <script src=\"https://cdn.plot.ly/plotly-2.8.3.min.js\"></script>                <div id=\"2c242327-fde5-429c-9d5d-88e773543abe\" class=\"plotly-graph-div\" style=\"height:1000px; width:1200px;\"></div>            <script type=\"text/javascript\">                                    window.PLOTLYENV=window.PLOTLYENV || {};                                    if (document.getElementById(\"2c242327-fde5-429c-9d5d-88e773543abe\")) {                    Plotly.newPlot(                        \"2c242327-fde5-429c-9d5d-88e773543abe\",                        [{\"name\":\"crude palm oil price\",\"x\":[\"2002-02-01T00:00:00\",\"2002-03-01T00:00:00\",\"2002-04-01T00:00:00\",\"2002-05-01T00:00:00\",\"2002-06-01T00:00:00\",\"2002-07-01T00:00:00\",\"2002-08-01T00:00:00\",\"2002-09-01T00:00:00\",\"2002-10-01T00:00:00\",\"2002-11-01T00:00:00\",\"2002-12-01T00:00:00\",\"2003-01-01T00:00:00\",\"2003-02-01T00:00:00\",\"2003-03-01T00:00:00\",\"2003-04-01T00:00:00\",\"2003-05-01T00:00:00\",\"2003-06-01T00:00:00\",\"2003-07-01T00:00:00\",\"2003-08-01T00:00:00\",\"2003-09-01T00:00:00\",\"2003-10-01T00:00:00\",\"2003-11-01T00:00:00\",\"2003-12-01T00:00:00\",\"2004-01-01T00:00:00\",\"2004-02-01T00:00:00\",\"2004-03-01T00:00:00\",\"2004-04-01T00:00:00\",\"2004-05-01T00:00:00\",\"2004-06-01T00:00:00\",\"2004-07-01T00:00:00\",\"2004-08-01T00:00:00\",\"2004-09-01T00:00:00\",\"2004-10-01T00:00:00\",\"2004-11-01T00:00:00\",\"2004-12-01T00:00:00\",\"2005-01-01T00:00:00\",\"2005-02-01T00:00:00\",\"2005-03-01T00:00:00\",\"2005-04-01T00:00:00\",\"2005-05-01T00:00:00\",\"2005-06-01T00:00:00\",\"2005-07-01T00:00:00\",\"2005-08-01T00:00:00\",\"2005-09-01T00:00:00\",\"2005-10-01T00:00:00\",\"2005-11-01T00:00:00\",\"2005-12-01T00:00:00\",\"2006-01-01T00:00:00\",\"2006-02-01T00:00:00\",\"2006-03-01T00:00:00\",\"2006-04-01T00:00:00\",\"2006-05-01T00:00:00\",\"2006-06-01T00:00:00\",\"2006-07-01T00:00:00\",\"2006-08-01T00:00:00\",\"2006-09-01T00:00:00\",\"2006-10-01T00:00:00\",\"2006-11-01T00:00:00\",\"2006-12-01T00:00:00\",\"2007-01-01T00:00:00\",\"2007-02-01T00:00:00\",\"2007-03-01T00:00:00\",\"2007-04-01T00:00:00\",\"2007-05-01T00:00:00\",\"2007-06-01T00:00:00\",\"2007-07-01T00:00:00\",\"2007-08-01T00:00:00\",\"2007-09-01T00:00:00\",\"2007-10-01T00:00:00\",\"2007-11-01T00:00:00\",\"2007-12-01T00:00:00\",\"2008-01-01T00:00:00\",\"2008-02-01T00:00:00\",\"2008-03-01T00:00:00\",\"2008-04-01T00:00:00\",\"2008-05-01T00:00:00\",\"2008-06-01T00:00:00\",\"2008-07-01T00:00:00\",\"2008-08-01T00:00:00\",\"2008-09-01T00:00:00\",\"2008-10-01T00:00:00\",\"2008-11-01T00:00:00\",\"2008-12-01T00:00:00\",\"2009-01-01T00:00:00\",\"2009-02-01T00:00:00\",\"2009-03-01T00:00:00\",\"2009-04-01T00:00:00\",\"2009-05-01T00:00:00\",\"2009-06-01T00:00:00\",\"2009-07-01T00:00:00\",\"2009-08-01T00:00:00\",\"2009-09-01T00:00:00\",\"2009-10-01T00:00:00\",\"2009-11-01T00:00:00\",\"2009-12-01T00:00:00\",\"2010-01-01T00:00:00\",\"2010-02-01T00:00:00\",\"2010-03-01T00:00:00\",\"2010-04-01T00:00:00\",\"2010-05-01T00:00:00\",\"2010-06-01T00:00:00\",\"2010-07-01T00:00:00\",\"2010-08-01T00:00:00\",\"2010-09-01T00:00:00\",\"2010-10-01T00:00:00\",\"2010-11-01T00:00:00\",\"2010-12-01T00:00:00\",\"2011-01-01T00:00:00\",\"2011-02-01T00:00:00\",\"2011-03-01T00:00:00\",\"2011-04-01T00:00:00\",\"2011-05-01T00:00:00\",\"2011-06-01T00:00:00\",\"2011-07-01T00:00:00\",\"2011-08-01T00:00:00\",\"2011-09-01T00:00:00\",\"2011-10-01T00:00:00\",\"2011-11-01T00:00:00\",\"2011-12-01T00:00:00\",\"2012-01-01T00:00:00\",\"2012-02-01T00:00:00\",\"2012-03-01T00:00:00\",\"2012-04-01T00:00:00\",\"2012-05-01T00:00:00\",\"2012-06-01T00:00:00\",\"2012-07-01T00:00:00\",\"2012-08-01T00:00:00\",\"2012-09-01T00:00:00\",\"2012-10-01T00:00:00\",\"2012-11-01T00:00:00\",\"2012-12-01T00:00:00\",\"2013-01-01T00:00:00\",\"2013-02-01T00:00:00\",\"2013-03-01T00:00:00\",\"2013-04-01T00:00:00\",\"2013-05-01T00:00:00\",\"2013-06-01T00:00:00\",\"2013-07-01T00:00:00\",\"2013-08-01T00:00:00\",\"2013-09-01T00:00:00\",\"2013-10-01T00:00:00\",\"2013-11-01T00:00:00\",\"2013-12-01T00:00:00\",\"2014-01-01T00:00:00\",\"2014-02-01T00:00:00\",\"2014-03-01T00:00:00\",\"2014-04-01T00:00:00\",\"2014-05-01T00:00:00\",\"2014-06-01T00:00:00\",\"2014-07-01T00:00:00\",\"2014-08-01T00:00:00\",\"2014-09-01T00:00:00\",\"2014-10-01T00:00:00\",\"2014-11-01T00:00:00\",\"2014-12-01T00:00:00\",\"2015-01-01T00:00:00\",\"2015-02-01T00:00:00\",\"2015-03-01T00:00:00\",\"2015-04-01T00:00:00\",\"2015-05-01T00:00:00\",\"2015-06-01T00:00:00\",\"2015-07-01T00:00:00\",\"2015-08-01T00:00:00\",\"2015-09-01T00:00:00\",\"2015-10-01T00:00:00\",\"2015-11-01T00:00:00\",\"2015-12-01T00:00:00\",\"2016-01-01T00:00:00\",\"2016-02-01T00:00:00\",\"2016-03-01T00:00:00\",\"2016-04-01T00:00:00\",\"2016-05-01T00:00:00\",\"2016-06-01T00:00:00\",\"2016-07-01T00:00:00\",\"2016-08-01T00:00:00\",\"2016-09-01T00:00:00\",\"2016-10-01T00:00:00\",\"2016-11-01T00:00:00\",\"2016-12-01T00:00:00\",\"2017-01-01T00:00:00\",\"2017-02-01T00:00:00\",\"2017-03-01T00:00:00\",\"2017-04-01T00:00:00\",\"2017-05-01T00:00:00\",\"2017-06-01T00:00:00\",\"2017-07-01T00:00:00\",\"2017-08-01T00:00:00\",\"2017-09-01T00:00:00\",\"2017-10-01T00:00:00\",\"2017-11-01T00:00:00\",\"2017-12-01T00:00:00\",\"2018-01-01T00:00:00\",\"2018-02-01T00:00:00\",\"2018-03-01T00:00:00\",\"2018-04-01T00:00:00\",\"2018-05-01T00:00:00\",\"2018-06-01T00:00:00\",\"2018-07-01T00:00:00\",\"2018-08-01T00:00:00\",\"2018-09-01T00:00:00\",\"2018-10-01T00:00:00\",\"2018-11-01T00:00:00\",\"2018-12-01T00:00:00\",\"2019-01-01T00:00:00\",\"2019-02-01T00:00:00\",\"2019-03-01T00:00:00\",\"2019-04-01T00:00:00\",\"2019-05-01T00:00:00\",\"2019-06-01T00:00:00\",\"2019-07-01T00:00:00\",\"2019-08-01T00:00:00\",\"2019-09-01T00:00:00\",\"2019-10-01T00:00:00\",\"2019-11-01T00:00:00\",\"2019-12-01T00:00:00\",\"2020-01-01T00:00:00\",\"2020-02-01T00:00:00\",\"2020-03-01T00:00:00\",\"2020-04-01T00:00:00\",\"2020-05-01T00:00:00\",\"2020-06-01T00:00:00\",\"2020-07-01T00:00:00\",\"2020-08-01T00:00:00\",\"2020-09-01T00:00:00\",\"2020-10-01T00:00:00\",\"2020-11-01T00:00:00\",\"2020-12-01T00:00:00\",\"2021-01-01T00:00:00\",\"2021-02-01T00:00:00\",\"2021-03-01T00:00:00\"],\"y\":[323.0,345.0,362.0,376.0,383.0,382.0,396.0,402.0,390.0,404.0,382.0,382.0,391.0,396.0,413.0,401.0,410.0,425.0,408.0,392.0,371.0,356.0,362.0,356.0,352.0,333.0,357.0,411.0,404.0,387.0,395.0,434.0,488.0,508.0,494.0,575.0,614.0,616.0,707.0,719.0,655.0,661.0,687.0,625.0,611.0,631.0,655.0,616.0,586.0,615.0,607.0,590.0,535.0,518.0,519.0,562.0,552.0,508.0,476.0,513.0,545.0,532.0,550.0,561.0,567.0,580.0,559.0,562.0,553.0,533.0,498.0,504.0,525.0,547.0,556.0,566.0,621.0,659.0,671.0,688.0,705.0,633.0,661.0,674.0,703.0,694.0,681.0,663.0,632.0,561.0,497.0,509.0,475.0,392.0,319.0,354.0,388.0,381.0,370.0,354.0,348.0,332.0,349.0,372.0,324.0,315.0,312.0,306.0,288.0,255.0,257.0,265.0,254.0,240.0,254.0,251.0,234.0,255.0,330.0,362.0,310.0,277.0,323.0,360.0,374.0,353.0,359.0,360.0,385.0,426.0,422.0,446.0,425.0,427.0,465.0,489.0,486.0,477.0,454.0,443.0,454.0,466.0,458.0,439.0,441.0,515.0,548.0,540.0,527.0,564.0,584.0,575.0,537.0,471.0,455.0,458.0,468.0,451.0,455.0,446.0,419.0,423.0,458.0,458.0,450.0,452.0,455.0,448.0,454.0,468.0,467.0,457.0,459.0,474.0,473.0,476.0,484.0,478.0,499.0,534.0,511.0,514.0,572.0,626.0,638.0,645.0,661.0,743.0,816.0,833.0,855.0,831.0,852.0,926.0,999.0,1002.0,1012.25,1012.25,1012.25,1012.25,1012.25,1012.25,1012.25,964.0,826.0,636.0,581.0,587.0,659.0,656.0,660.0,800.0,873.0,789.0,698.0,746.0,704.0,725.0,763.0,822.0,831.0,830.0,863.0,863.0,855.0,826.0,844.0,944.0,949.0,1012.25],\"type\":\"scatter\",\"xaxis\":\"x\",\"yaxis\":\"y\"},{\"name\":\"coconut oil price\",\"x\":[\"2002-02-01T00:00:00\",\"2002-03-01T00:00:00\",\"2002-04-01T00:00:00\",\"2002-05-01T00:00:00\",\"2002-06-01T00:00:00\",\"2002-07-01T00:00:00\",\"2002-08-01T00:00:00\",\"2002-09-01T00:00:00\",\"2002-10-01T00:00:00\",\"2002-11-01T00:00:00\",\"2002-12-01T00:00:00\",\"2003-01-01T00:00:00\",\"2003-02-01T00:00:00\",\"2003-03-01T00:00:00\",\"2003-04-01T00:00:00\",\"2003-05-01T00:00:00\",\"2003-06-01T00:00:00\",\"2003-07-01T00:00:00\",\"2003-08-01T00:00:00\",\"2003-09-01T00:00:00\",\"2003-10-01T00:00:00\",\"2003-11-01T00:00:00\",\"2003-12-01T00:00:00\",\"2004-01-01T00:00:00\",\"2004-02-01T00:00:00\",\"2004-03-01T00:00:00\",\"2004-04-01T00:00:00\",\"2004-05-01T00:00:00\",\"2004-06-01T00:00:00\",\"2004-07-01T00:00:00\",\"2004-08-01T00:00:00\",\"2004-09-01T00:00:00\",\"2004-10-01T00:00:00\",\"2004-11-01T00:00:00\",\"2004-12-01T00:00:00\",\"2005-01-01T00:00:00\",\"2005-02-01T00:00:00\",\"2005-03-01T00:00:00\",\"2005-04-01T00:00:00\",\"2005-05-01T00:00:00\",\"2005-06-01T00:00:00\",\"2005-07-01T00:00:00\",\"2005-08-01T00:00:00\",\"2005-09-01T00:00:00\",\"2005-10-01T00:00:00\",\"2005-11-01T00:00:00\",\"2005-12-01T00:00:00\",\"2006-01-01T00:00:00\",\"2006-02-01T00:00:00\",\"2006-03-01T00:00:00\",\"2006-04-01T00:00:00\",\"2006-05-01T00:00:00\",\"2006-06-01T00:00:00\",\"2006-07-01T00:00:00\",\"2006-08-01T00:00:00\",\"2006-09-01T00:00:00\",\"2006-10-01T00:00:00\",\"2006-11-01T00:00:00\",\"2006-12-01T00:00:00\",\"2007-01-01T00:00:00\",\"2007-02-01T00:00:00\",\"2007-03-01T00:00:00\",\"2007-04-01T00:00:00\",\"2007-05-01T00:00:00\",\"2007-06-01T00:00:00\",\"2007-07-01T00:00:00\",\"2007-08-01T00:00:00\",\"2007-09-01T00:00:00\",\"2007-10-01T00:00:00\",\"2007-11-01T00:00:00\",\"2007-12-01T00:00:00\",\"2008-01-01T00:00:00\",\"2008-02-01T00:00:00\",\"2008-03-01T00:00:00\",\"2008-04-01T00:00:00\",\"2008-05-01T00:00:00\",\"2008-06-01T00:00:00\",\"2008-07-01T00:00:00\",\"2008-08-01T00:00:00\",\"2008-09-01T00:00:00\",\"2008-10-01T00:00:00\",\"2008-11-01T00:00:00\",\"2008-12-01T00:00:00\",\"2009-01-01T00:00:00\",\"2009-02-01T00:00:00\",\"2009-03-01T00:00:00\",\"2009-04-01T00:00:00\",\"2009-05-01T00:00:00\",\"2009-06-01T00:00:00\",\"2009-07-01T00:00:00\",\"2009-08-01T00:00:00\",\"2009-09-01T00:00:00\",\"2009-10-01T00:00:00\",\"2009-11-01T00:00:00\",\"2009-12-01T00:00:00\",\"2010-01-01T00:00:00\",\"2010-02-01T00:00:00\",\"2010-03-01T00:00:00\",\"2010-04-01T00:00:00\",\"2010-05-01T00:00:00\",\"2010-06-01T00:00:00\",\"2010-07-01T00:00:00\",\"2010-08-01T00:00:00\",\"2010-09-01T00:00:00\",\"2010-10-01T00:00:00\",\"2010-11-01T00:00:00\",\"2010-12-01T00:00:00\",\"2011-01-01T00:00:00\",\"2011-02-01T00:00:00\",\"2011-03-01T00:00:00\",\"2011-04-01T00:00:00\",\"2011-05-01T00:00:00\",\"2011-06-01T00:00:00\",\"2011-07-01T00:00:00\",\"2011-08-01T00:00:00\",\"2011-09-01T00:00:00\",\"2011-10-01T00:00:00\",\"2011-11-01T00:00:00\",\"2011-12-01T00:00:00\",\"2012-01-01T00:00:00\",\"2012-02-01T00:00:00\",\"2012-03-01T00:00:00\",\"2012-04-01T00:00:00\",\"2012-05-01T00:00:00\",\"2012-06-01T00:00:00\",\"2012-07-01T00:00:00\",\"2012-08-01T00:00:00\",\"2012-09-01T00:00:00\",\"2012-10-01T00:00:00\",\"2012-11-01T00:00:00\",\"2012-12-01T00:00:00\",\"2013-01-01T00:00:00\",\"2013-02-01T00:00:00\",\"2013-03-01T00:00:00\",\"2013-04-01T00:00:00\",\"2013-05-01T00:00:00\",\"2013-06-01T00:00:00\",\"2013-07-01T00:00:00\",\"2013-08-01T00:00:00\",\"2013-09-01T00:00:00\",\"2013-10-01T00:00:00\",\"2013-11-01T00:00:00\",\"2013-12-01T00:00:00\",\"2014-01-01T00:00:00\",\"2014-02-01T00:00:00\",\"2014-03-01T00:00:00\",\"2014-04-01T00:00:00\",\"2014-05-01T00:00:00\",\"2014-06-01T00:00:00\",\"2014-07-01T00:00:00\",\"2014-08-01T00:00:00\",\"2014-09-01T00:00:00\",\"2014-10-01T00:00:00\",\"2014-11-01T00:00:00\",\"2014-12-01T00:00:00\",\"2015-01-01T00:00:00\",\"2015-02-01T00:00:00\",\"2015-03-01T00:00:00\",\"2015-04-01T00:00:00\",\"2015-05-01T00:00:00\",\"2015-06-01T00:00:00\",\"2015-07-01T00:00:00\",\"2015-08-01T00:00:00\",\"2015-09-01T00:00:00\",\"2015-10-01T00:00:00\",\"2015-11-01T00:00:00\",\"2015-12-01T00:00:00\",\"2016-01-01T00:00:00\",\"2016-02-01T00:00:00\",\"2016-03-01T00:00:00\",\"2016-04-01T00:00:00\",\"2016-05-01T00:00:00\",\"2016-06-01T00:00:00\",\"2016-07-01T00:00:00\",\"2016-08-01T00:00:00\",\"2016-09-01T00:00:00\",\"2016-10-01T00:00:00\",\"2016-11-01T00:00:00\",\"2016-12-01T00:00:00\",\"2017-01-01T00:00:00\",\"2017-02-01T00:00:00\",\"2017-03-01T00:00:00\",\"2017-04-01T00:00:00\",\"2017-05-01T00:00:00\",\"2017-06-01T00:00:00\",\"2017-07-01T00:00:00\",\"2017-08-01T00:00:00\",\"2017-09-01T00:00:00\",\"2017-10-01T00:00:00\",\"2017-11-01T00:00:00\",\"2017-12-01T00:00:00\",\"2018-01-01T00:00:00\",\"2018-02-01T00:00:00\",\"2018-03-01T00:00:00\",\"2018-04-01T00:00:00\",\"2018-05-01T00:00:00\",\"2018-06-01T00:00:00\",\"2018-07-01T00:00:00\",\"2018-08-01T00:00:00\",\"2018-09-01T00:00:00\",\"2018-10-01T00:00:00\",\"2018-11-01T00:00:00\",\"2018-12-01T00:00:00\",\"2019-01-01T00:00:00\",\"2019-02-01T00:00:00\",\"2019-03-01T00:00:00\",\"2019-04-01T00:00:00\",\"2019-05-01T00:00:00\",\"2019-06-01T00:00:00\",\"2019-07-01T00:00:00\",\"2019-08-01T00:00:00\",\"2019-09-01T00:00:00\",\"2019-10-01T00:00:00\",\"2019-11-01T00:00:00\",\"2019-12-01T00:00:00\",\"2020-01-01T00:00:00\",\"2020-02-01T00:00:00\",\"2020-03-01T00:00:00\",\"2020-04-01T00:00:00\",\"2020-05-01T00:00:00\",\"2020-06-01T00:00:00\",\"2020-07-01T00:00:00\",\"2020-08-01T00:00:00\",\"2020-09-01T00:00:00\",\"2020-10-01T00:00:00\",\"2020-11-01T00:00:00\",\"2020-12-01T00:00:00\",\"2021-01-01T00:00:00\",\"2021-02-01T00:00:00\",\"2021-03-01T00:00:00\"],\"y\":[455.0,546.0,595.0,636.0,738.0,702.0,644.0,647.0,638.0,589.0,528.0,494.0,501.0,493.0,496.0,461.0,444.0,439.0,427.0,402.0,418.0,436.0,460.0,455.0,424.0,419.0,464.0,615.0,595.0,573.0,539.0,560.0,599.0,608.0,579.0,596.0,622.0,621.0,706.0,692.0,622.0,636.0,632.0,619.0,616.0,668.0,693.0,686.0,677.0,718.0,750.0,718.0,711.0,738.0,723.0,756.0,778.0,816.0,775.0,742.0,721.0,722.0,760.0,777.0,768.0,768.0,737.0,710.0,654.0,637.0,597.0,567.0,615.0,627.0,616.0,586.0,558.0,559.0,578.0,618.0,723.0,652.0,667.0,667.0,652.0,695.0,752.0,774.0,763.0,745.0,700.0,827.0,874.0,796.0,656.0,684.0,704.0,690.0,703.0,703.0,654.0,591.0,552.0,550.0,481.0,437.0,400.0,371.0,332.0,340.0,367.0,329.0,319.0,285.0,289.0,293.0,295.0,317.0,358.0,363.0,322.0,307.0,330.0,339.0,362.0,376.0,366.0,411.0,420.0,446.0,445.0,443.0,410.0,434.0,457.0,482.0,494.0,477.0,441.0,421.0,440.0,459.0,439.0,421.0,431.0,487.0,515.0,583.0,584.0,642.0,685.0,736.0,716.0,658.0,669.0,627.0,657.0,642.0,659.0,654.0,646.0,646.0,710.0,679.0,647.0,639.0,606.0,550.0,559.0,587.0,582.0,553.0,569.0,591.0,575.0,578.0,583.0,575.0,583.0,606.0,609.0,626.0,656.0,732.0,731.0,763.0,769.0,828.0,894.0,979.0,929.0,910.0,930.0,1010.0,1092.875,1092.875,1092.875,1092.875,1092.875,1092.875,1092.875,1092.875,1092.875,1092.875,1092.875,856.0,719.0,740.0,734.0,673.0,625.0,747.0,843.0,747.0,685.0,747.0,701.0,706.0,729.0,768.0,784.0,798.0,921.0,940.0,932.0,993.0,1031.0,1092.875,1092.875,1092.875],\"type\":\"scatter\",\"xaxis\":\"x2\",\"yaxis\":\"y2\"},{\"name\":\"rapeseed oil price\",\"x\":[\"2002-02-01T00:00:00\",\"2002-03-01T00:00:00\",\"2002-04-01T00:00:00\",\"2002-05-01T00:00:00\",\"2002-06-01T00:00:00\",\"2002-07-01T00:00:00\",\"2002-08-01T00:00:00\",\"2002-09-01T00:00:00\",\"2002-10-01T00:00:00\",\"2002-11-01T00:00:00\",\"2002-12-01T00:00:00\",\"2003-01-01T00:00:00\",\"2003-02-01T00:00:00\",\"2003-03-01T00:00:00\",\"2003-04-01T00:00:00\",\"2003-05-01T00:00:00\",\"2003-06-01T00:00:00\",\"2003-07-01T00:00:00\",\"2003-08-01T00:00:00\",\"2003-09-01T00:00:00\",\"2003-10-01T00:00:00\",\"2003-11-01T00:00:00\",\"2003-12-01T00:00:00\",\"2004-01-01T00:00:00\",\"2004-02-01T00:00:00\",\"2004-03-01T00:00:00\",\"2004-04-01T00:00:00\",\"2004-05-01T00:00:00\",\"2004-06-01T00:00:00\",\"2004-07-01T00:00:00\",\"2004-08-01T00:00:00\",\"2004-09-01T00:00:00\",\"2004-10-01T00:00:00\",\"2004-11-01T00:00:00\",\"2004-12-01T00:00:00\",\"2005-01-01T00:00:00\",\"2005-02-01T00:00:00\",\"2005-03-01T00:00:00\",\"2005-04-01T00:00:00\",\"2005-05-01T00:00:00\",\"2005-06-01T00:00:00\",\"2005-07-01T00:00:00\",\"2005-08-01T00:00:00\",\"2005-09-01T00:00:00\",\"2005-10-01T00:00:00\",\"2005-11-01T00:00:00\",\"2005-12-01T00:00:00\",\"2006-01-01T00:00:00\",\"2006-02-01T00:00:00\",\"2006-03-01T00:00:00\",\"2006-04-01T00:00:00\",\"2006-05-01T00:00:00\",\"2006-06-01T00:00:00\",\"2006-07-01T00:00:00\",\"2006-08-01T00:00:00\",\"2006-09-01T00:00:00\",\"2006-10-01T00:00:00\",\"2006-11-01T00:00:00\",\"2006-12-01T00:00:00\",\"2007-01-01T00:00:00\",\"2007-02-01T00:00:00\",\"2007-03-01T00:00:00\",\"2007-04-01T00:00:00\",\"2007-05-01T00:00:00\",\"2007-06-01T00:00:00\",\"2007-07-01T00:00:00\",\"2007-08-01T00:00:00\",\"2007-09-01T00:00:00\",\"2007-10-01T00:00:00\",\"2007-11-01T00:00:00\",\"2007-12-01T00:00:00\",\"2008-01-01T00:00:00\",\"2008-02-01T00:00:00\",\"2008-03-01T00:00:00\",\"2008-04-01T00:00:00\",\"2008-05-01T00:00:00\",\"2008-06-01T00:00:00\",\"2008-07-01T00:00:00\",\"2008-08-01T00:00:00\",\"2008-09-01T00:00:00\",\"2008-10-01T00:00:00\",\"2008-11-01T00:00:00\",\"2008-12-01T00:00:00\",\"2009-01-01T00:00:00\",\"2009-02-01T00:00:00\",\"2009-03-01T00:00:00\",\"2009-04-01T00:00:00\",\"2009-05-01T00:00:00\",\"2009-06-01T00:00:00\",\"2009-07-01T00:00:00\",\"2009-08-01T00:00:00\",\"2009-09-01T00:00:00\",\"2009-10-01T00:00:00\",\"2009-11-01T00:00:00\",\"2009-12-01T00:00:00\",\"2010-01-01T00:00:00\",\"2010-02-01T00:00:00\",\"2010-03-01T00:00:00\",\"2010-04-01T00:00:00\",\"2010-05-01T00:00:00\",\"2010-06-01T00:00:00\",\"2010-07-01T00:00:00\",\"2010-08-01T00:00:00\",\"2010-09-01T00:00:00\",\"2010-10-01T00:00:00\",\"2010-11-01T00:00:00\",\"2010-12-01T00:00:00\",\"2011-01-01T00:00:00\",\"2011-02-01T00:00:00\",\"2011-03-01T00:00:00\",\"2011-04-01T00:00:00\",\"2011-05-01T00:00:00\",\"2011-06-01T00:00:00\",\"2011-07-01T00:00:00\",\"2011-08-01T00:00:00\",\"2011-09-01T00:00:00\",\"2011-10-01T00:00:00\",\"2011-11-01T00:00:00\",\"2011-12-01T00:00:00\",\"2012-01-01T00:00:00\",\"2012-02-01T00:00:00\",\"2012-03-01T00:00:00\",\"2012-04-01T00:00:00\",\"2012-05-01T00:00:00\",\"2012-06-01T00:00:00\",\"2012-07-01T00:00:00\",\"2012-08-01T00:00:00\",\"2012-09-01T00:00:00\",\"2012-10-01T00:00:00\",\"2012-11-01T00:00:00\",\"2012-12-01T00:00:00\",\"2013-01-01T00:00:00\",\"2013-02-01T00:00:00\",\"2013-03-01T00:00:00\",\"2013-04-01T00:00:00\",\"2013-05-01T00:00:00\",\"2013-06-01T00:00:00\",\"2013-07-01T00:00:00\",\"2013-08-01T00:00:00\",\"2013-09-01T00:00:00\",\"2013-10-01T00:00:00\",\"2013-11-01T00:00:00\",\"2013-12-01T00:00:00\",\"2014-01-01T00:00:00\",\"2014-02-01T00:00:00\",\"2014-03-01T00:00:00\",\"2014-04-01T00:00:00\",\"2014-05-01T00:00:00\",\"2014-06-01T00:00:00\",\"2014-07-01T00:00:00\",\"2014-08-01T00:00:00\",\"2014-09-01T00:00:00\",\"2014-10-01T00:00:00\",\"2014-11-01T00:00:00\",\"2014-12-01T00:00:00\",\"2015-01-01T00:00:00\",\"2015-02-01T00:00:00\",\"2015-03-01T00:00:00\",\"2015-04-01T00:00:00\",\"2015-05-01T00:00:00\",\"2015-06-01T00:00:00\",\"2015-07-01T00:00:00\",\"2015-08-01T00:00:00\",\"2015-09-01T00:00:00\",\"2015-10-01T00:00:00\",\"2015-11-01T00:00:00\",\"2015-12-01T00:00:00\",\"2016-01-01T00:00:00\",\"2016-02-01T00:00:00\",\"2016-03-01T00:00:00\",\"2016-04-01T00:00:00\",\"2016-05-01T00:00:00\",\"2016-06-01T00:00:00\",\"2016-07-01T00:00:00\",\"2016-08-01T00:00:00\",\"2016-09-01T00:00:00\",\"2016-10-01T00:00:00\",\"2016-11-01T00:00:00\",\"2016-12-01T00:00:00\",\"2017-01-01T00:00:00\",\"2017-02-01T00:00:00\",\"2017-03-01T00:00:00\",\"2017-04-01T00:00:00\",\"2017-05-01T00:00:00\",\"2017-06-01T00:00:00\",\"2017-07-01T00:00:00\",\"2017-08-01T00:00:00\",\"2017-09-01T00:00:00\",\"2017-10-01T00:00:00\",\"2017-11-01T00:00:00\",\"2017-12-01T00:00:00\",\"2018-01-01T00:00:00\",\"2018-02-01T00:00:00\",\"2018-03-01T00:00:00\",\"2018-04-01T00:00:00\",\"2018-05-01T00:00:00\",\"2018-06-01T00:00:00\",\"2018-07-01T00:00:00\",\"2018-08-01T00:00:00\",\"2018-09-01T00:00:00\",\"2018-10-01T00:00:00\",\"2018-11-01T00:00:00\",\"2018-12-01T00:00:00\",\"2019-01-01T00:00:00\",\"2019-02-01T00:00:00\",\"2019-03-01T00:00:00\",\"2019-04-01T00:00:00\",\"2019-05-01T00:00:00\",\"2019-06-01T00:00:00\",\"2019-07-01T00:00:00\",\"2019-08-01T00:00:00\",\"2019-09-01T00:00:00\",\"2019-10-01T00:00:00\",\"2019-11-01T00:00:00\",\"2019-12-01T00:00:00\",\"2020-01-01T00:00:00\",\"2020-02-01T00:00:00\",\"2020-03-01T00:00:00\",\"2020-04-01T00:00:00\",\"2020-05-01T00:00:00\",\"2020-06-01T00:00:00\",\"2020-07-01T00:00:00\",\"2020-08-01T00:00:00\",\"2020-09-01T00:00:00\",\"2020-10-01T00:00:00\",\"2020-11-01T00:00:00\",\"2020-12-01T00:00:00\",\"2021-01-01T00:00:00\",\"2021-02-01T00:00:00\",\"2021-03-01T00:00:00\"],\"y\":[423.45,415.85,410.77,414.82,451.04,477.29,521.14,525.01,539.31,593.04,616.49,623.72,585.76,551.92,557.22,607.17,612.27,582.56,553.48,564.09,615.82,620.32,648.67,675.49,704.51,687.6,644.98,700.61,699.96,650.92,667.68,657.92,668.92,684.68,709.72,683.88,647.24,663.64,651.7,652.57,642.01,645.33,654.17,687.82,734.38,727.47,711.64,728.91,716.23,738.57,773.72,828.42,829.91,820.58,809.12,785.73,784.4,822.39,854.31,823.02,790.39,771.51,808.43,844.71,867.68,925.81,958.29,1044.75,1146.97,1252.43,1336.75,1368.63375,1368.63375,1368.63375,1368.63375,1368.63375,1368.63375,1368.63375,1352.83,1238.29,1040.68,974.82,838.02,831.74,802.4,776.9,830.19,947.07,917.18,851.56,884.24,855.36,894.11,933.77,938.29,914.09,900.93,910.08,909.13,862.49,876.07,946.76,1012.94,1032.57,1149.51,1242.32,1368.63375,1368.63375,1368.63375,1368.63375,1368.63375,1368.63375,1368.63375,1368.63375,1350.5,1309.99,1270.51,1273.54,1244.66,1252.78,1287.68,1289.12,1303.59,1234.88,1183.37,1214.67,1230.73,1268.69,1214.2,1184.61,1188.18,1210.92,1216.99,1161.66,1131.82,1116.66,1147.34,1008.78,993.85,983.52,1010.85,1021.7,1007.11,948.01,971.77,1009.95,1011.42,954.94,948.33,892.08,851.75,836.46,859.11,841.33,814.81,777.72,762.51,751.16,747.72,769.95,841.79,809.98,753.56,771.69,809.13,799.62,820.94,781.35,779.88,766.26,808.51,805.59,793.48,767.83,817.52,849.65,914.14,918.26,930.43,890.82,874.38,847.32,839.33,842.05,847.47,905.99,875.36,872.87,897.25,962.98,901.97,848.38,827.48,800.24,793.31,811.49,838.02,848.61,853.67,821.47,850.55,840.39,827.02,859.73,829.7,808.68,805.96,815.84,840.01,845.27,877.48,903.07,908.67,910.73,924.5,941.46,902.34,796.67,758.96,799.83,850.98,890.21,921.55,938.14,927.71,1047.78,1097.63,1138.24,1272.13,1321.88],\"type\":\"scatter\",\"xaxis\":\"x3\",\"yaxis\":\"y3\"},{\"name\":\"peanut oil price\",\"x\":[\"2002-02-01T00:00:00\",\"2002-03-01T00:00:00\",\"2002-04-01T00:00:00\",\"2002-05-01T00:00:00\",\"2002-06-01T00:00:00\",\"2002-07-01T00:00:00\",\"2002-08-01T00:00:00\",\"2002-09-01T00:00:00\",\"2002-10-01T00:00:00\",\"2002-11-01T00:00:00\",\"2002-12-01T00:00:00\",\"2003-01-01T00:00:00\",\"2003-02-01T00:00:00\",\"2003-03-01T00:00:00\",\"2003-04-01T00:00:00\",\"2003-05-01T00:00:00\",\"2003-06-01T00:00:00\",\"2003-07-01T00:00:00\",\"2003-08-01T00:00:00\",\"2003-09-01T00:00:00\",\"2003-10-01T00:00:00\",\"2003-11-01T00:00:00\",\"2003-12-01T00:00:00\",\"2004-01-01T00:00:00\",\"2004-02-01T00:00:00\",\"2004-03-01T00:00:00\",\"2004-04-01T00:00:00\",\"2004-05-01T00:00:00\",\"2004-06-01T00:00:00\",\"2004-07-01T00:00:00\",\"2004-08-01T00:00:00\",\"2004-09-01T00:00:00\",\"2004-10-01T00:00:00\",\"2004-11-01T00:00:00\",\"2004-12-01T00:00:00\",\"2005-01-01T00:00:00\",\"2005-02-01T00:00:00\",\"2005-03-01T00:00:00\",\"2005-04-01T00:00:00\",\"2005-05-01T00:00:00\",\"2005-06-01T00:00:00\",\"2005-07-01T00:00:00\",\"2005-08-01T00:00:00\",\"2005-09-01T00:00:00\",\"2005-10-01T00:00:00\",\"2005-11-01T00:00:00\",\"2005-12-01T00:00:00\",\"2006-01-01T00:00:00\",\"2006-02-01T00:00:00\",\"2006-03-01T00:00:00\",\"2006-04-01T00:00:00\",\"2006-05-01T00:00:00\",\"2006-06-01T00:00:00\",\"2006-07-01T00:00:00\",\"2006-08-01T00:00:00\",\"2006-09-01T00:00:00\",\"2006-10-01T00:00:00\",\"2006-11-01T00:00:00\",\"2006-12-01T00:00:00\",\"2007-01-01T00:00:00\",\"2007-02-01T00:00:00\",\"2007-03-01T00:00:00\",\"2007-04-01T00:00:00\",\"2007-05-01T00:00:00\",\"2007-06-01T00:00:00\",\"2007-07-01T00:00:00\",\"2007-08-01T00:00:00\",\"2007-09-01T00:00:00\",\"2007-10-01T00:00:00\",\"2007-11-01T00:00:00\",\"2007-12-01T00:00:00\",\"2008-01-01T00:00:00\",\"2008-02-01T00:00:00\",\"2008-03-01T00:00:00\",\"2008-04-01T00:00:00\",\"2008-05-01T00:00:00\",\"2008-06-01T00:00:00\",\"2008-07-01T00:00:00\",\"2008-08-01T00:00:00\",\"2008-09-01T00:00:00\",\"2008-10-01T00:00:00\",\"2008-11-01T00:00:00\",\"2008-12-01T00:00:00\",\"2009-01-01T00:00:00\",\"2009-02-01T00:00:00\",\"2009-03-01T00:00:00\",\"2009-04-01T00:00:00\",\"2009-05-01T00:00:00\",\"2009-06-01T00:00:00\",\"2009-07-01T00:00:00\",\"2009-08-01T00:00:00\",\"2009-09-01T00:00:00\",\"2009-10-01T00:00:00\",\"2009-11-01T00:00:00\",\"2009-12-01T00:00:00\",\"2010-01-01T00:00:00\",\"2010-02-01T00:00:00\",\"2010-03-01T00:00:00\",\"2010-04-01T00:00:00\",\"2010-05-01T00:00:00\",\"2010-06-01T00:00:00\",\"2010-07-01T00:00:00\",\"2010-08-01T00:00:00\",\"2010-09-01T00:00:00\",\"2010-10-01T00:00:00\",\"2010-11-01T00:00:00\",\"2010-12-01T00:00:00\",\"2011-01-01T00:00:00\",\"2011-02-01T00:00:00\",\"2011-03-01T00:00:00\",\"2011-04-01T00:00:00\",\"2011-05-01T00:00:00\",\"2011-06-01T00:00:00\",\"2011-07-01T00:00:00\",\"2011-08-01T00:00:00\",\"2011-09-01T00:00:00\",\"2011-10-01T00:00:00\",\"2011-11-01T00:00:00\",\"2011-12-01T00:00:00\",\"2012-01-01T00:00:00\",\"2012-02-01T00:00:00\",\"2012-03-01T00:00:00\",\"2012-04-01T00:00:00\",\"2012-05-01T00:00:00\",\"2012-06-01T00:00:00\",\"2012-07-01T00:00:00\",\"2012-08-01T00:00:00\",\"2012-09-01T00:00:00\",\"2012-10-01T00:00:00\",\"2012-11-01T00:00:00\",\"2012-12-01T00:00:00\",\"2013-01-01T00:00:00\",\"2013-02-01T00:00:00\",\"2013-03-01T00:00:00\",\"2013-04-01T00:00:00\",\"2013-05-01T00:00:00\",\"2013-06-01T00:00:00\",\"2013-07-01T00:00:00\",\"2013-08-01T00:00:00\",\"2013-09-01T00:00:00\",\"2013-10-01T00:00:00\",\"2013-11-01T00:00:00\",\"2013-12-01T00:00:00\",\"2014-01-01T00:00:00\",\"2014-02-01T00:00:00\",\"2014-03-01T00:00:00\",\"2014-04-01T00:00:00\",\"2014-05-01T00:00:00\",\"2014-06-01T00:00:00\",\"2014-07-01T00:00:00\",\"2014-08-01T00:00:00\",\"2014-09-01T00:00:00\",\"2014-10-01T00:00:00\",\"2014-11-01T00:00:00\",\"2014-12-01T00:00:00\",\"2015-01-01T00:00:00\",\"2015-02-01T00:00:00\",\"2015-03-01T00:00:00\",\"2015-04-01T00:00:00\",\"2015-05-01T00:00:00\",\"2015-06-01T00:00:00\",\"2015-07-01T00:00:00\",\"2015-08-01T00:00:00\",\"2015-09-01T00:00:00\",\"2015-10-01T00:00:00\",\"2015-11-01T00:00:00\",\"2015-12-01T00:00:00\",\"2016-01-01T00:00:00\",\"2016-02-01T00:00:00\",\"2016-03-01T00:00:00\",\"2016-04-01T00:00:00\",\"2016-05-01T00:00:00\",\"2016-06-01T00:00:00\",\"2016-07-01T00:00:00\",\"2016-08-01T00:00:00\",\"2016-09-01T00:00:00\",\"2016-10-01T00:00:00\",\"2016-11-01T00:00:00\",\"2016-12-01T00:00:00\",\"2017-01-01T00:00:00\",\"2017-02-01T00:00:00\",\"2017-03-01T00:00:00\",\"2017-04-01T00:00:00\",\"2017-05-01T00:00:00\",\"2017-06-01T00:00:00\",\"2017-07-01T00:00:00\",\"2017-08-01T00:00:00\",\"2017-09-01T00:00:00\",\"2017-10-01T00:00:00\",\"2017-11-01T00:00:00\",\"2017-12-01T00:00:00\",\"2018-01-01T00:00:00\",\"2018-02-01T00:00:00\",\"2018-03-01T00:00:00\",\"2018-04-01T00:00:00\",\"2018-05-01T00:00:00\",\"2018-06-01T00:00:00\",\"2018-07-01T00:00:00\",\"2018-08-01T00:00:00\",\"2018-09-01T00:00:00\",\"2018-10-01T00:00:00\",\"2018-11-01T00:00:00\",\"2018-12-01T00:00:00\",\"2019-01-01T00:00:00\",\"2019-02-01T00:00:00\",\"2019-03-01T00:00:00\",\"2019-04-01T00:00:00\",\"2019-05-01T00:00:00\",\"2019-06-01T00:00:00\",\"2019-07-01T00:00:00\",\"2019-08-01T00:00:00\",\"2019-09-01T00:00:00\",\"2019-10-01T00:00:00\",\"2019-11-01T00:00:00\",\"2019-12-01T00:00:00\",\"2020-01-01T00:00:00\",\"2020-02-01T00:00:00\",\"2020-03-01T00:00:00\",\"2020-04-01T00:00:00\",\"2020-05-01T00:00:00\",\"2020-06-01T00:00:00\",\"2020-07-01T00:00:00\",\"2020-08-01T00:00:00\",\"2020-09-01T00:00:00\",\"2020-10-01T00:00:00\",\"2020-11-01T00:00:00\",\"2020-12-01T00:00:00\",\"2021-01-01T00:00:00\",\"2021-02-01T00:00:00\",\"2021-03-01T00:00:00\"],\"y\":[844.0,799.0,718.0,614.0,619.0,605.0,595.0,616.0,651.0,665.0,644.0,600.0,562.0,565.0,575.0,622.0,621.0,611.0,602.0,623.0,685.0,712.0,773.0,858.0,845.0,807.0,808.0,924.0,993.0,1011.0,1013.0,1030.0,1020.0,1014.0,1017.0,1018.0,1018.0,1029.0,1048.0,1062.0,1054.0,1025.0,990.0,981.0,973.0,965.0,969.0,980.0,981.0,990.0,995.0,988.0,959.0,925.0,911.0,895.0,897.0,904.0,902.0,885.0,879.0,874.0,868.0,868.0,874.0,886.0,896.0,938.0,981.0,1047.0,1096.0,1093.0,1083.0,1083.0,1090.0,1058.0,1055.0,1029.0,949.0,928.0,900.0,891.0,874.0,862.0,852.0,850.0,862.0,861.0,952.71,889.57,752.45,663.89,762.17,836.25,859.8,849.78,848.78,888.15,924.94,765.61,676.08,687.63,733.28,789.81,793.66,783.14,771.62,754.36,760.59,754.58,769.61,806.79,815.71,811.08,780.64,744.85,727.53,727.53,723.02,738.07,749.57,761.6,759.59,771.62,684.39,617.29,598.92,590.24,599.56,645.95,704.52,758.59,794.71,816.19,870.83,952.0,970.03,1016.45,1039.32,1064.23,1147.41,1234.59,1261.43,1299.68,1329.79,1359.2,1388.91,1402.33,1433.0,1433.0,1356.32,1322.77,1322.77,1264.65,1247.11,1234.59,1213.59,1212.54,1225.57,1233.63,1234.59,1234.59,1234.59,1223.04,1212.54,1198.51,1178.95,1165.1,1168.45,1129.08,1036.17,1036.17,1029.16,993.18,961.89,936.96,936.96,957.01,990.51,1041.92,1079.22,1102.31,1102.31,1102.31,1071.64,1016.33,1055.21,1078.17,1169.41,1268.18,1404.95,1472.3,1523.39,1633.34,1829.84,1851.46875,1851.46875,1851.46875,1851.46875,1851.46875,1851.46875,1851.46875,1851.46875,1851.46875,1851.46875,1851.46875,1851.46875,1761.69,1619.87,1543.24,1535.22,1433.0,1406.55,1338.81,1322.77,1310.18,1232.58,1155.42,1151.65,1181.87,1275.53,1287.5,1317.02,1361.62,1366.87,1366.87,1366.87,1383.9,1426.71,1471.32],\"type\":\"scatter\",\"xaxis\":\"x4\",\"yaxis\":\"y4\"},{\"name\":\"soybean oil price\",\"x\":[\"2002-02-01T00:00:00\",\"2002-03-01T00:00:00\",\"2002-04-01T00:00:00\",\"2002-05-01T00:00:00\",\"2002-06-01T00:00:00\",\"2002-07-01T00:00:00\",\"2002-08-01T00:00:00\",\"2002-09-01T00:00:00\",\"2002-10-01T00:00:00\",\"2002-11-01T00:00:00\",\"2002-12-01T00:00:00\",\"2003-01-01T00:00:00\",\"2003-02-01T00:00:00\",\"2003-03-01T00:00:00\",\"2003-04-01T00:00:00\",\"2003-05-01T00:00:00\",\"2003-06-01T00:00:00\",\"2003-07-01T00:00:00\",\"2003-08-01T00:00:00\",\"2003-09-01T00:00:00\",\"2003-10-01T00:00:00\",\"2003-11-01T00:00:00\",\"2003-12-01T00:00:00\",\"2004-01-01T00:00:00\",\"2004-02-01T00:00:00\",\"2004-03-01T00:00:00\",\"2004-04-01T00:00:00\",\"2004-05-01T00:00:00\",\"2004-06-01T00:00:00\",\"2004-07-01T00:00:00\",\"2004-08-01T00:00:00\",\"2004-09-01T00:00:00\",\"2004-10-01T00:00:00\",\"2004-11-01T00:00:00\",\"2004-12-01T00:00:00\",\"2005-01-01T00:00:00\",\"2005-02-01T00:00:00\",\"2005-03-01T00:00:00\",\"2005-04-01T00:00:00\",\"2005-05-01T00:00:00\",\"2005-06-01T00:00:00\",\"2005-07-01T00:00:00\",\"2005-08-01T00:00:00\",\"2005-09-01T00:00:00\",\"2005-10-01T00:00:00\",\"2005-11-01T00:00:00\",\"2005-12-01T00:00:00\",\"2006-01-01T00:00:00\",\"2006-02-01T00:00:00\",\"2006-03-01T00:00:00\",\"2006-04-01T00:00:00\",\"2006-05-01T00:00:00\",\"2006-06-01T00:00:00\",\"2006-07-01T00:00:00\",\"2006-08-01T00:00:00\",\"2006-09-01T00:00:00\",\"2006-10-01T00:00:00\",\"2006-11-01T00:00:00\",\"2006-12-01T00:00:00\",\"2007-01-01T00:00:00\",\"2007-02-01T00:00:00\",\"2007-03-01T00:00:00\",\"2007-04-01T00:00:00\",\"2007-05-01T00:00:00\",\"2007-06-01T00:00:00\",\"2007-07-01T00:00:00\",\"2007-08-01T00:00:00\",\"2007-09-01T00:00:00\",\"2007-10-01T00:00:00\",\"2007-11-01T00:00:00\",\"2007-12-01T00:00:00\",\"2008-01-01T00:00:00\",\"2008-02-01T00:00:00\",\"2008-03-01T00:00:00\",\"2008-04-01T00:00:00\",\"2008-05-01T00:00:00\",\"2008-06-01T00:00:00\",\"2008-07-01T00:00:00\",\"2008-08-01T00:00:00\",\"2008-09-01T00:00:00\",\"2008-10-01T00:00:00\",\"2008-11-01T00:00:00\",\"2008-12-01T00:00:00\",\"2009-01-01T00:00:00\",\"2009-02-01T00:00:00\",\"2009-03-01T00:00:00\",\"2009-04-01T00:00:00\",\"2009-05-01T00:00:00\",\"2009-06-01T00:00:00\",\"2009-07-01T00:00:00\",\"2009-08-01T00:00:00\",\"2009-09-01T00:00:00\",\"2009-10-01T00:00:00\",\"2009-11-01T00:00:00\",\"2009-12-01T00:00:00\",\"2010-01-01T00:00:00\",\"2010-02-01T00:00:00\",\"2010-03-01T00:00:00\",\"2010-04-01T00:00:00\",\"2010-05-01T00:00:00\",\"2010-06-01T00:00:00\",\"2010-07-01T00:00:00\",\"2010-08-01T00:00:00\",\"2010-09-01T00:00:00\",\"2010-10-01T00:00:00\",\"2010-11-01T00:00:00\",\"2010-12-01T00:00:00\",\"2011-01-01T00:00:00\",\"2011-02-01T00:00:00\",\"2011-03-01T00:00:00\",\"2011-04-01T00:00:00\",\"2011-05-01T00:00:00\",\"2011-06-01T00:00:00\",\"2011-07-01T00:00:00\",\"2011-08-01T00:00:00\",\"2011-09-01T00:00:00\",\"2011-10-01T00:00:00\",\"2011-11-01T00:00:00\",\"2011-12-01T00:00:00\",\"2012-01-01T00:00:00\",\"2012-02-01T00:00:00\",\"2012-03-01T00:00:00\",\"2012-04-01T00:00:00\",\"2012-05-01T00:00:00\",\"2012-06-01T00:00:00\",\"2012-07-01T00:00:00\",\"2012-08-01T00:00:00\",\"2012-09-01T00:00:00\",\"2012-10-01T00:00:00\",\"2012-11-01T00:00:00\",\"2012-12-01T00:00:00\",\"2013-01-01T00:00:00\",\"2013-02-01T00:00:00\",\"2013-03-01T00:00:00\",\"2013-04-01T00:00:00\",\"2013-05-01T00:00:00\",\"2013-06-01T00:00:00\",\"2013-07-01T00:00:00\",\"2013-08-01T00:00:00\",\"2013-09-01T00:00:00\",\"2013-10-01T00:00:00\",\"2013-11-01T00:00:00\",\"2013-12-01T00:00:00\",\"2014-01-01T00:00:00\",\"2014-02-01T00:00:00\",\"2014-03-01T00:00:00\",\"2014-04-01T00:00:00\",\"2014-05-01T00:00:00\",\"2014-06-01T00:00:00\",\"2014-07-01T00:00:00\",\"2014-08-01T00:00:00\",\"2014-09-01T00:00:00\",\"2014-10-01T00:00:00\",\"2014-11-01T00:00:00\",\"2014-12-01T00:00:00\",\"2015-01-01T00:00:00\",\"2015-02-01T00:00:00\",\"2015-03-01T00:00:00\",\"2015-04-01T00:00:00\",\"2015-05-01T00:00:00\",\"2015-06-01T00:00:00\",\"2015-07-01T00:00:00\",\"2015-08-01T00:00:00\",\"2015-09-01T00:00:00\",\"2015-10-01T00:00:00\",\"2015-11-01T00:00:00\",\"2015-12-01T00:00:00\",\"2016-01-01T00:00:00\",\"2016-02-01T00:00:00\",\"2016-03-01T00:00:00\",\"2016-04-01T00:00:00\",\"2016-05-01T00:00:00\",\"2016-06-01T00:00:00\",\"2016-07-01T00:00:00\",\"2016-08-01T00:00:00\",\"2016-09-01T00:00:00\",\"2016-10-01T00:00:00\",\"2016-11-01T00:00:00\",\"2016-12-01T00:00:00\",\"2017-01-01T00:00:00\",\"2017-02-01T00:00:00\",\"2017-03-01T00:00:00\",\"2017-04-01T00:00:00\",\"2017-05-01T00:00:00\",\"2017-06-01T00:00:00\",\"2017-07-01T00:00:00\",\"2017-08-01T00:00:00\",\"2017-09-01T00:00:00\",\"2017-10-01T00:00:00\",\"2017-11-01T00:00:00\",\"2017-12-01T00:00:00\",\"2018-01-01T00:00:00\",\"2018-02-01T00:00:00\",\"2018-03-01T00:00:00\",\"2018-04-01T00:00:00\",\"2018-05-01T00:00:00\",\"2018-06-01T00:00:00\",\"2018-07-01T00:00:00\",\"2018-08-01T00:00:00\",\"2018-09-01T00:00:00\",\"2018-10-01T00:00:00\",\"2018-11-01T00:00:00\",\"2018-12-01T00:00:00\",\"2019-01-01T00:00:00\",\"2019-02-01T00:00:00\",\"2019-03-01T00:00:00\",\"2019-04-01T00:00:00\",\"2019-05-01T00:00:00\",\"2019-06-01T00:00:00\",\"2019-07-01T00:00:00\",\"2019-08-01T00:00:00\",\"2019-09-01T00:00:00\",\"2019-10-01T00:00:00\",\"2019-11-01T00:00:00\",\"2019-12-01T00:00:00\",\"2020-01-01T00:00:00\",\"2020-02-01T00:00:00\",\"2020-03-01T00:00:00\",\"2020-04-01T00:00:00\",\"2020-05-01T00:00:00\",\"2020-06-01T00:00:00\",\"2020-07-01T00:00:00\",\"2020-08-01T00:00:00\",\"2020-09-01T00:00:00\",\"2020-10-01T00:00:00\",\"2020-11-01T00:00:00\",\"2020-12-01T00:00:00\",\"2021-01-01T00:00:00\",\"2021-02-01T00:00:00\",\"2021-03-01T00:00:00\"],\"y\":[468.0,485.0,466.0,442.0,429.0,414.0,434.0,425.0,439.0,456.0,429.0,409.0,421.0,418.0,437.0,436.0,444.0,433.0,438.0,448.0,448.0,461.0,505.0,483.0,489.0,491.0,536.0,589.0,602.0,577.0,586.0,584.0,594.0,571.0,560.0,600.0,672.0,642.0,706.0,693.0,674.0,663.0,652.0,610.0,595.0,611.0,626.0,616.0,614.0,638.0,623.0,579.0,554.0,548.0,538.0,582.0,591.0,563.0,549.0,565.0,569.0,528.0,517.0,514.0,534.0,527.0,541.0,541.0,541.0,550.0,535.0,544.0,555.0,611.0,676.0,622.0,625.0,634.0,652.0,662.0,671.0,629.0,612.0,592.0,615.0,614.0,614.0,591.0,541.63,482.36,444.36,442.68,421.5,405.88,391.4,412.37,413.93,399.53,387.31,374.67,369.79,357.94,363.49,366.24,337.97,330.17,339.3,328.92,312.49,314.02,316.78,320.57,304.81,303.78,327.63,326.01,295.17,286.89,421.36,427.49,385.09,373.03,390.69,396.87,389.18,364.92,359.21,370.86,399.89,456.81,489.63,502.75,505.67,528.57,582.0,591.03,540.72,522.43,522.52,540.9,549.24,545.85,531.41,515.69,558.02,608.26,630.62,637.36,656.97,682.08,689.43,672.46,627.96,581.74,605.08,604.65,601.6,583.49,561.19,552.06,519.98,495.73,543.69,545.88,537.98,560.15,561.26,550.08,545.16,578.62,558.93,537.66,535.83,533.27,540.6,540.44,588.29,600.55,630.01,632.18,602.35,614.71,675.67,698.12,697.33,715.04,719.03,753.7,788.7,835.55,887.12,921.79,970.08875,970.08875,970.08875,970.08875,970.08875,970.08875,970.08875,970.08875,970.08875,970.08875,970.08875,970.08875,970.08875,942.53,825.64,745.55,789.89,747.64,730.71,809.08,889.62,892.92,846.3,903.15,858.18,897.0,932.38,939.91,920.55,909.19,911.07,902.83,859.49,860.28,910.82,970.08875,970.08875,970.08875],\"type\":\"scatter\",\"xaxis\":\"x4\",\"yaxis\":\"y4\"},{\"name\":\"west texas intermediate spot price\",\"x\":[\"2002-02-01T00:00:00\",\"2002-03-01T00:00:00\",\"2002-04-01T00:00:00\",\"2002-05-01T00:00:00\",\"2002-06-01T00:00:00\",\"2002-07-01T00:00:00\",\"2002-08-01T00:00:00\",\"2002-09-01T00:00:00\",\"2002-10-01T00:00:00\",\"2002-11-01T00:00:00\",\"2002-12-01T00:00:00\",\"2003-01-01T00:00:00\",\"2003-02-01T00:00:00\",\"2003-03-01T00:00:00\",\"2003-04-01T00:00:00\",\"2003-05-01T00:00:00\",\"2003-06-01T00:00:00\",\"2003-07-01T00:00:00\",\"2003-08-01T00:00:00\",\"2003-09-01T00:00:00\",\"2003-10-01T00:00:00\",\"2003-11-01T00:00:00\",\"2003-12-01T00:00:00\",\"2004-01-01T00:00:00\",\"2004-02-01T00:00:00\",\"2004-03-01T00:00:00\",\"2004-04-01T00:00:00\",\"2004-05-01T00:00:00\",\"2004-06-01T00:00:00\",\"2004-07-01T00:00:00\",\"2004-08-01T00:00:00\",\"2004-09-01T00:00:00\",\"2004-10-01T00:00:00\",\"2004-11-01T00:00:00\",\"2004-12-01T00:00:00\",\"2005-01-01T00:00:00\",\"2005-02-01T00:00:00\",\"2005-03-01T00:00:00\",\"2005-04-01T00:00:00\",\"2005-05-01T00:00:00\",\"2005-06-01T00:00:00\",\"2005-07-01T00:00:00\",\"2005-08-01T00:00:00\",\"2005-09-01T00:00:00\",\"2005-10-01T00:00:00\",\"2005-11-01T00:00:00\",\"2005-12-01T00:00:00\",\"2006-01-01T00:00:00\",\"2006-02-01T00:00:00\",\"2006-03-01T00:00:00\",\"2006-04-01T00:00:00\",\"2006-05-01T00:00:00\",\"2006-06-01T00:00:00\",\"2006-07-01T00:00:00\",\"2006-08-01T00:00:00\",\"2006-09-01T00:00:00\",\"2006-10-01T00:00:00\",\"2006-11-01T00:00:00\",\"2006-12-01T00:00:00\",\"2007-01-01T00:00:00\",\"2007-02-01T00:00:00\",\"2007-03-01T00:00:00\",\"2007-04-01T00:00:00\",\"2007-05-01T00:00:00\",\"2007-06-01T00:00:00\",\"2007-07-01T00:00:00\",\"2007-08-01T00:00:00\",\"2007-09-01T00:00:00\",\"2007-10-01T00:00:00\",\"2007-11-01T00:00:00\",\"2007-12-01T00:00:00\",\"2008-01-01T00:00:00\",\"2008-02-01T00:00:00\",\"2008-03-01T00:00:00\",\"2008-04-01T00:00:00\",\"2008-05-01T00:00:00\",\"2008-06-01T00:00:00\",\"2008-07-01T00:00:00\",\"2008-08-01T00:00:00\",\"2008-09-01T00:00:00\",\"2008-10-01T00:00:00\",\"2008-11-01T00:00:00\",\"2008-12-01T00:00:00\",\"2009-01-01T00:00:00\",\"2009-02-01T00:00:00\",\"2009-03-01T00:00:00\",\"2009-04-01T00:00:00\",\"2009-05-01T00:00:00\",\"2009-06-01T00:00:00\",\"2009-07-01T00:00:00\",\"2009-08-01T00:00:00\",\"2009-09-01T00:00:00\",\"2009-10-01T00:00:00\",\"2009-11-01T00:00:00\",\"2009-12-01T00:00:00\",\"2010-01-01T00:00:00\",\"2010-02-01T00:00:00\",\"2010-03-01T00:00:00\",\"2010-04-01T00:00:00\",\"2010-05-01T00:00:00\",\"2010-06-01T00:00:00\",\"2010-07-01T00:00:00\",\"2010-08-01T00:00:00\",\"2010-09-01T00:00:00\",\"2010-10-01T00:00:00\",\"2010-11-01T00:00:00\",\"2010-12-01T00:00:00\",\"2011-01-01T00:00:00\",\"2011-02-01T00:00:00\",\"2011-03-01T00:00:00\",\"2011-04-01T00:00:00\",\"2011-05-01T00:00:00\",\"2011-06-01T00:00:00\",\"2011-07-01T00:00:00\",\"2011-08-01T00:00:00\",\"2011-09-01T00:00:00\",\"2011-10-01T00:00:00\",\"2011-11-01T00:00:00\",\"2011-12-01T00:00:00\",\"2012-01-01T00:00:00\",\"2012-02-01T00:00:00\",\"2012-03-01T00:00:00\",\"2012-04-01T00:00:00\",\"2012-05-01T00:00:00\",\"2012-06-01T00:00:00\",\"2012-07-01T00:00:00\",\"2012-08-01T00:00:00\",\"2012-09-01T00:00:00\",\"2012-10-01T00:00:00\",\"2012-11-01T00:00:00\",\"2012-12-01T00:00:00\",\"2013-01-01T00:00:00\",\"2013-02-01T00:00:00\",\"2013-03-01T00:00:00\",\"2013-04-01T00:00:00\",\"2013-05-01T00:00:00\",\"2013-06-01T00:00:00\",\"2013-07-01T00:00:00\",\"2013-08-01T00:00:00\",\"2013-09-01T00:00:00\",\"2013-10-01T00:00:00\",\"2013-11-01T00:00:00\",\"2013-12-01T00:00:00\",\"2014-01-01T00:00:00\",\"2014-02-01T00:00:00\",\"2014-03-01T00:00:00\",\"2014-04-01T00:00:00\",\"2014-05-01T00:00:00\",\"2014-06-01T00:00:00\",\"2014-07-01T00:00:00\",\"2014-08-01T00:00:00\",\"2014-09-01T00:00:00\",\"2014-10-01T00:00:00\",\"2014-11-01T00:00:00\",\"2014-12-01T00:00:00\",\"2015-01-01T00:00:00\",\"2015-02-01T00:00:00\",\"2015-03-01T00:00:00\",\"2015-04-01T00:00:00\",\"2015-05-01T00:00:00\",\"2015-06-01T00:00:00\",\"2015-07-01T00:00:00\",\"2015-08-01T00:00:00\",\"2015-09-01T00:00:00\",\"2015-10-01T00:00:00\",\"2015-11-01T00:00:00\",\"2015-12-01T00:00:00\",\"2016-01-01T00:00:00\",\"2016-02-01T00:00:00\",\"2016-03-01T00:00:00\",\"2016-04-01T00:00:00\",\"2016-05-01T00:00:00\",\"2016-06-01T00:00:00\",\"2016-07-01T00:00:00\",\"2016-08-01T00:00:00\",\"2016-09-01T00:00:00\",\"2016-10-01T00:00:00\",\"2016-11-01T00:00:00\",\"2016-12-01T00:00:00\",\"2017-01-01T00:00:00\",\"2017-02-01T00:00:00\",\"2017-03-01T00:00:00\",\"2017-04-01T00:00:00\",\"2017-05-01T00:00:00\",\"2017-06-01T00:00:00\",\"2017-07-01T00:00:00\",\"2017-08-01T00:00:00\",\"2017-09-01T00:00:00\",\"2017-10-01T00:00:00\",\"2017-11-01T00:00:00\",\"2017-12-01T00:00:00\",\"2018-01-01T00:00:00\",\"2018-02-01T00:00:00\",\"2018-03-01T00:00:00\",\"2018-04-01T00:00:00\",\"2018-05-01T00:00:00\",\"2018-06-01T00:00:00\",\"2018-07-01T00:00:00\",\"2018-08-01T00:00:00\",\"2018-09-01T00:00:00\",\"2018-10-01T00:00:00\",\"2018-11-01T00:00:00\",\"2018-12-01T00:00:00\",\"2019-01-01T00:00:00\",\"2019-02-01T00:00:00\",\"2019-03-01T00:00:00\",\"2019-04-01T00:00:00\",\"2019-05-01T00:00:00\",\"2019-06-01T00:00:00\",\"2019-07-01T00:00:00\",\"2019-08-01T00:00:00\",\"2019-09-01T00:00:00\",\"2019-10-01T00:00:00\",\"2019-11-01T00:00:00\",\"2019-12-01T00:00:00\",\"2020-01-01T00:00:00\",\"2020-02-01T00:00:00\",\"2020-03-01T00:00:00\",\"2020-04-01T00:00:00\",\"2020-05-01T00:00:00\",\"2020-06-01T00:00:00\",\"2020-07-01T00:00:00\",\"2020-08-01T00:00:00\",\"2020-09-01T00:00:00\",\"2020-10-01T00:00:00\",\"2020-11-01T00:00:00\",\"2020-12-01T00:00:00\",\"2021-01-01T00:00:00\",\"2021-02-01T00:00:00\",\"2021-03-01T00:00:00\"],\"y\":[28.67,24.49,22.06,21.64,22.3,23.82,27.84,29.62,29.49,26.71,27.14,29.02,30.25,29.41,26.24,28.92,31.03,33.23,30.84,26.02,24.29,26.33,27.04,28.36,25.21,25.93,26.57,26.15,27.15,27.47,29.96,30.63,33.59,31.32,33.28,36.9,37.59,42.64,37.3,32.25,35.69,36.86,41.04,40.94,39.25,46.36,48.74,52.85,53.48,51.91,49.45,50.11,54.11,51.62,52.32,56.57,55.55,56.08,58.66,57.01,50.14,46.67,45.91,46.93,41.73,45.32,45.77,47.31,46.96,50.3,54.06,53.14,57.51,60.38,64.54,62.71,63.18,64.68,67.94,71.51,80.36,86.12,84.58,77.92,72.35,57.58,45.0,30.88,31.54,30.62,36.45,37.77,43.33,49.67,45.52,49.81,47.69,51.14,52.3,50.99,54.91,55.84,59.89,63.02,58.65,61.73,59.81,59.42,57.61,58.94,61.35,67.44,66.94,65.6,73.53,76.15,70.59,66.9,68.28,60.18,62.25,63.04,71.52,74.8,77.66,77.31,80.41,78.47,73.99,65.75,71.61,75.9,73.44,69.0,67.62,67.3,71.32,71.35,71.67,70.65,72.99,72.64,80.03,80.06,79.57,73.69,69.69,71.43,69.69,73.76,72.76,73.9,74.16,77.43,76.02,72.38,72.33,66.6,60.79,48.06,40.77,44.6,44.1,50.51,53.13,53.33,46.31,38.49,40.49,41.15,39.72,34.23,29.05,27.41,34.04,36.12,41.29,43.42,40.39,39.92,40.3,45.28,42.12,49.34,49.44,50.17,46.41,47.65,43.89,40.23,40.5,40.68,41.82,43.86,48.32,48.95,52.22,50.36,50.88,54.03,59.21,57.82,60.61,58.88,60.21,61.61,49.86,43.02,45.12,48.41,51.45,56.83,54.4,48.42,51.29,49.29,51.75,48.84,51.61,53.83,51.82,46.32,27.02,15.2,26.2,34.03,35.5,35.81,33.59,33.57],\"type\":\"scatter\",\"xaxis\":\"x4\",\"yaxis\":\"y4\"}],                        {\"template\":{\"data\":{\"bar\":[{\"error_x\":{\"color\":\"#2a3f5f\"},\"error_y\":{\"color\":\"#2a3f5f\"},\"marker\":{\"line\":{\"color\":\"#E5ECF6\",\"width\":0.5},\"pattern\":{\"fillmode\":\"overlay\",\"size\":10,\"solidity\":0.2}},\"type\":\"bar\"}],\"barpolar\":[{\"marker\":{\"line\":{\"color\":\"#E5ECF6\",\"width\":0.5},\"pattern\":{\"fillmode\":\"overlay\",\"size\":10,\"solidity\":0.2}},\"type\":\"barpolar\"}],\"carpet\":[{\"aaxis\":{\"endlinecolor\":\"#2a3f5f\",\"gridcolor\":\"white\",\"linecolor\":\"white\",\"minorgridcolor\":\"white\",\"startlinecolor\":\"#2a3f5f\"},\"baxis\":{\"endlinecolor\":\"#2a3f5f\",\"gridcolor\":\"white\",\"linecolor\":\"white\",\"minorgridcolor\":\"white\",\"startlinecolor\":\"#2a3f5f\"},\"type\":\"carpet\"}],\"choropleth\":[{\"colorbar\":{\"outlinewidth\":0,\"ticks\":\"\"},\"type\":\"choropleth\"}],\"contour\":[{\"colorbar\":{\"outlinewidth\":0,\"ticks\":\"\"},\"colorscale\":[[0.0,\"#0d0887\"],[0.1111111111111111,\"#46039f\"],[0.2222222222222222,\"#7201a8\"],[0.3333333333333333,\"#9c179e\"],[0.4444444444444444,\"#bd3786\"],[0.5555555555555556,\"#d8576b\"],[0.6666666666666666,\"#ed7953\"],[0.7777777777777778,\"#fb9f3a\"],[0.8888888888888888,\"#fdca26\"],[1.0,\"#f0f921\"]],\"type\":\"contour\"}],\"contourcarpet\":[{\"colorbar\":{\"outlinewidth\":0,\"ticks\":\"\"},\"type\":\"contourcarpet\"}],\"heatmap\":[{\"colorbar\":{\"outlinewidth\":0,\"ticks\":\"\"},\"colorscale\":[[0.0,\"#0d0887\"],[0.1111111111111111,\"#46039f\"],[0.2222222222222222,\"#7201a8\"],[0.3333333333333333,\"#9c179e\"],[0.4444444444444444,\"#bd3786\"],[0.5555555555555556,\"#d8576b\"],[0.6666666666666666,\"#ed7953\"],[0.7777777777777778,\"#fb9f3a\"],[0.8888888888888888,\"#fdca26\"],[1.0,\"#f0f921\"]],\"type\":\"heatmap\"}],\"heatmapgl\":[{\"colorbar\":{\"outlinewidth\":0,\"ticks\":\"\"},\"colorscale\":[[0.0,\"#0d0887\"],[0.1111111111111111,\"#46039f\"],[0.2222222222222222,\"#7201a8\"],[0.3333333333333333,\"#9c179e\"],[0.4444444444444444,\"#bd3786\"],[0.5555555555555556,\"#d8576b\"],[0.6666666666666666,\"#ed7953\"],[0.7777777777777778,\"#fb9f3a\"],[0.8888888888888888,\"#fdca26\"],[1.0,\"#f0f921\"]],\"type\":\"heatmapgl\"}],\"histogram\":[{\"marker\":{\"pattern\":{\"fillmode\":\"overlay\",\"size\":10,\"solidity\":0.2}},\"type\":\"histogram\"}],\"histogram2d\":[{\"colorbar\":{\"outlinewidth\":0,\"ticks\":\"\"},\"colorscale\":[[0.0,\"#0d0887\"],[0.1111111111111111,\"#46039f\"],[0.2222222222222222,\"#7201a8\"],[0.3333333333333333,\"#9c179e\"],[0.4444444444444444,\"#bd3786\"],[0.5555555555555556,\"#d8576b\"],[0.6666666666666666,\"#ed7953\"],[0.7777777777777778,\"#fb9f3a\"],[0.8888888888888888,\"#fdca26\"],[1.0,\"#f0f921\"]],\"type\":\"histogram2d\"}],\"histogram2dcontour\":[{\"colorbar\":{\"outlinewidth\":0,\"ticks\":\"\"},\"colorscale\":[[0.0,\"#0d0887\"],[0.1111111111111111,\"#46039f\"],[0.2222222222222222,\"#7201a8\"],[0.3333333333333333,\"#9c179e\"],[0.4444444444444444,\"#bd3786\"],[0.5555555555555556,\"#d8576b\"],[0.6666666666666666,\"#ed7953\"],[0.7777777777777778,\"#fb9f3a\"],[0.8888888888888888,\"#fdca26\"],[1.0,\"#f0f921\"]],\"type\":\"histogram2dcontour\"}],\"mesh3d\":[{\"colorbar\":{\"outlinewidth\":0,\"ticks\":\"\"},\"type\":\"mesh3d\"}],\"parcoords\":[{\"line\":{\"colorbar\":{\"outlinewidth\":0,\"ticks\":\"\"}},\"type\":\"parcoords\"}],\"pie\":[{\"automargin\":true,\"type\":\"pie\"}],\"scatter\":[{\"marker\":{\"colorbar\":{\"outlinewidth\":0,\"ticks\":\"\"}},\"type\":\"scatter\"}],\"scatter3d\":[{\"line\":{\"colorbar\":{\"outlinewidth\":0,\"ticks\":\"\"}},\"marker\":{\"colorbar\":{\"outlinewidth\":0,\"ticks\":\"\"}},\"type\":\"scatter3d\"}],\"scattercarpet\":[{\"marker\":{\"colorbar\":{\"outlinewidth\":0,\"ticks\":\"\"}},\"type\":\"scattercarpet\"}],\"scattergeo\":[{\"marker\":{\"colorbar\":{\"outlinewidth\":0,\"ticks\":\"\"}},\"type\":\"scattergeo\"}],\"scattergl\":[{\"marker\":{\"colorbar\":{\"outlinewidth\":0,\"ticks\":\"\"}},\"type\":\"scattergl\"}],\"scattermapbox\":[{\"marker\":{\"colorbar\":{\"outlinewidth\":0,\"ticks\":\"\"}},\"type\":\"scattermapbox\"}],\"scatterpolar\":[{\"marker\":{\"colorbar\":{\"outlinewidth\":0,\"ticks\":\"\"}},\"type\":\"scatterpolar\"}],\"scatterpolargl\":[{\"marker\":{\"colorbar\":{\"outlinewidth\":0,\"ticks\":\"\"}},\"type\":\"scatterpolargl\"}],\"scatterternary\":[{\"marker\":{\"colorbar\":{\"outlinewidth\":0,\"ticks\":\"\"}},\"type\":\"scatterternary\"}],\"surface\":[{\"colorbar\":{\"outlinewidth\":0,\"ticks\":\"\"},\"colorscale\":[[0.0,\"#0d0887\"],[0.1111111111111111,\"#46039f\"],[0.2222222222222222,\"#7201a8\"],[0.3333333333333333,\"#9c179e\"],[0.4444444444444444,\"#bd3786\"],[0.5555555555555556,\"#d8576b\"],[0.6666666666666666,\"#ed7953\"],[0.7777777777777778,\"#fb9f3a\"],[0.8888888888888888,\"#fdca26\"],[1.0,\"#f0f921\"]],\"type\":\"surface\"}],\"table\":[{\"cells\":{\"fill\":{\"color\":\"#EBF0F8\"},\"line\":{\"color\":\"white\"}},\"header\":{\"fill\":{\"color\":\"#C8D4E3\"},\"line\":{\"color\":\"white\"}},\"type\":\"table\"}]},\"layout\":{\"annotationdefaults\":{\"arrowcolor\":\"#2a3f5f\",\"arrowhead\":0,\"arrowwidth\":1},\"autotypenumbers\":\"strict\",\"coloraxis\":{\"colorbar\":{\"outlinewidth\":0,\"ticks\":\"\"}},\"colorscale\":{\"diverging\":[[0,\"#8e0152\"],[0.1,\"#c51b7d\"],[0.2,\"#de77ae\"],[0.3,\"#f1b6da\"],[0.4,\"#fde0ef\"],[0.5,\"#f7f7f7\"],[0.6,\"#e6f5d0\"],[0.7,\"#b8e186\"],[0.8,\"#7fbc41\"],[0.9,\"#4d9221\"],[1,\"#276419\"]],\"sequential\":[[0.0,\"#0d0887\"],[0.1111111111111111,\"#46039f\"],[0.2222222222222222,\"#7201a8\"],[0.3333333333333333,\"#9c179e\"],[0.4444444444444444,\"#bd3786\"],[0.5555555555555556,\"#d8576b\"],[0.6666666666666666,\"#ed7953\"],[0.7777777777777778,\"#fb9f3a\"],[0.8888888888888888,\"#fdca26\"],[1.0,\"#f0f921\"]],\"sequentialminus\":[[0.0,\"#0d0887\"],[0.1111111111111111,\"#46039f\"],[0.2222222222222222,\"#7201a8\"],[0.3333333333333333,\"#9c179e\"],[0.4444444444444444,\"#bd3786\"],[0.5555555555555556,\"#d8576b\"],[0.6666666666666666,\"#ed7953\"],[0.7777777777777778,\"#fb9f3a\"],[0.8888888888888888,\"#fdca26\"],[1.0,\"#f0f921\"]]},\"colorway\":[\"#636efa\",\"#EF553B\",\"#00cc96\",\"#ab63fa\",\"#FFA15A\",\"#19d3f3\",\"#FF6692\",\"#B6E880\",\"#FF97FF\",\"#FECB52\"],\"font\":{\"color\":\"#2a3f5f\"},\"geo\":{\"bgcolor\":\"white\",\"lakecolor\":\"white\",\"landcolor\":\"#E5ECF6\",\"showlakes\":true,\"showland\":true,\"subunitcolor\":\"white\"},\"hoverlabel\":{\"align\":\"left\"},\"hovermode\":\"closest\",\"mapbox\":{\"style\":\"light\"},\"paper_bgcolor\":\"white\",\"plot_bgcolor\":\"#E5ECF6\",\"polar\":{\"angularaxis\":{\"gridcolor\":\"white\",\"linecolor\":\"white\",\"ticks\":\"\"},\"bgcolor\":\"#E5ECF6\",\"radialaxis\":{\"gridcolor\":\"white\",\"linecolor\":\"white\",\"ticks\":\"\"}},\"scene\":{\"xaxis\":{\"backgroundcolor\":\"#E5ECF6\",\"gridcolor\":\"white\",\"gridwidth\":2,\"linecolor\":\"white\",\"showbackground\":true,\"ticks\":\"\",\"zerolinecolor\":\"white\"},\"yaxis\":{\"backgroundcolor\":\"#E5ECF6\",\"gridcolor\":\"white\",\"gridwidth\":2,\"linecolor\":\"white\",\"showbackground\":true,\"ticks\":\"\",\"zerolinecolor\":\"white\"},\"zaxis\":{\"backgroundcolor\":\"#E5ECF6\",\"gridcolor\":\"white\",\"gridwidth\":2,\"linecolor\":\"white\",\"showbackground\":true,\"ticks\":\"\",\"zerolinecolor\":\"white\"}},\"shapedefaults\":{\"line\":{\"color\":\"#2a3f5f\"}},\"ternary\":{\"aaxis\":{\"gridcolor\":\"white\",\"linecolor\":\"white\",\"ticks\":\"\"},\"baxis\":{\"gridcolor\":\"white\",\"linecolor\":\"white\",\"ticks\":\"\"},\"bgcolor\":\"#E5ECF6\",\"caxis\":{\"gridcolor\":\"white\",\"linecolor\":\"white\",\"ticks\":\"\"}},\"title\":{\"x\":0.05},\"xaxis\":{\"automargin\":true,\"gridcolor\":\"white\",\"linecolor\":\"white\",\"ticks\":\"\",\"title\":{\"standoff\":15},\"zerolinecolor\":\"white\",\"zerolinewidth\":2},\"yaxis\":{\"automargin\":true,\"gridcolor\":\"white\",\"linecolor\":\"white\",\"ticks\":\"\",\"title\":{\"standoff\":15},\"zerolinecolor\":\"white\",\"zerolinewidth\":2}}},\"xaxis\":{\"anchor\":\"y\",\"domain\":[0.0,1.0]},\"yaxis\":{\"anchor\":\"x\",\"domain\":[0.875,1.0]},\"xaxis2\":{\"anchor\":\"y2\",\"domain\":[0.0,1.0]},\"yaxis2\":{\"anchor\":\"x2\",\"domain\":[0.7,0.825]},\"xaxis3\":{\"anchor\":\"y3\",\"domain\":[0.0,1.0]},\"yaxis3\":{\"anchor\":\"x3\",\"domain\":[0.525,0.65]},\"xaxis4\":{\"anchor\":\"y4\",\"domain\":[0.0,1.0]},\"yaxis4\":{\"anchor\":\"x4\",\"domain\":[0.35,0.475]},\"xaxis5\":{\"anchor\":\"y5\",\"domain\":[0.0,1.0]},\"yaxis5\":{\"anchor\":\"x5\",\"domain\":[0.175,0.3]},\"xaxis6\":{\"anchor\":\"y6\",\"domain\":[0.0,1.0]},\"yaxis6\":{\"anchor\":\"x6\",\"domain\":[0.0,0.125]},\"title\":{\"text\":\"Time Series\"},\"height\":1000,\"width\":1200},                        {\"responsive\": true}                    ).then(function(){\n",
              "                            \n",
              "var gd = document.getElementById('2c242327-fde5-429c-9d5d-88e773543abe');\n",
              "var x = new MutationObserver(function (mutations, observer) {{\n",
              "        var display = window.getComputedStyle(gd).display;\n",
              "        if (!display || display === 'none') {{\n",
              "            console.log([gd, 'removed!']);\n",
              "            Plotly.purge(gd);\n",
              "            observer.disconnect();\n",
              "        }}\n",
              "}});\n",
              "\n",
              "// Listen for the removal of the full notebook cells\n",
              "var notebookContainer = gd.closest('#notebook-container');\n",
              "if (notebookContainer) {{\n",
              "    x.observe(notebookContainer, {childList: true});\n",
              "}}\n",
              "\n",
              "// Listen for the clearing of the current output cell\n",
              "var outputEl = gd.closest('.output');\n",
              "if (outputEl) {{\n",
              "    x.observe(outputEl, {childList: true});\n",
              "}}\n",
              "\n",
              "                        })                };                            </script>        </div>\n",
              "</body>\n",
              "</html>"
            ]
          },
          "metadata": {}
        }
      ]
    },
    {
      "cell_type": "code",
      "source": [
        "# Plot an area chart\n",
        "plt.figure(figsize=(25,10))\n",
        "ax = df.plot.area(fontsize=12);\n",
        "\n",
        "# Additional customizations\n",
        "ax.set_xlabel('Date');\n",
        "ax.legend(fontsize=12);"
      ],
      "metadata": {
        "colab": {
          "base_uri": "https://localhost:8080/",
          "height": 378
        },
        "id": "pnKg-SfY6j9g",
        "outputId": "7771c650-7da1-4b94-f88f-1e5242a604d0"
      },
      "execution_count": null,
      "outputs": [
        {
          "output_type": "display_data",
          "data": {
            "text/plain": [
              "<Figure size 1800x720 with 0 Axes>"
            ]
          },
          "metadata": {}
        },
        {
          "output_type": "display_data",
          "data": {
            "image/png": "[encoded data removed]",
            "text/plain": [
              "<Figure size 720x360 with 1 Axes>"
            ]
          },
          "metadata": {}
        }
      ]
    },
    {
      "cell_type": "markdown",
      "source": [
        "##**Multilayer Forecasting Technique (MLP)**"
      ],
      "metadata": {
        "id": "dPoGjuS366Cc"
      }
    },
    {
      "cell_type": "markdown",
      "source": [
        "###**Split Data into Train Test Segments**"
      ],
      "metadata": {
        "id": "vFpT6OrD7KRv"
      }
    },
    {
      "cell_type": "code",
      "source": [
        "train_size = int(len(df) * 0.8)\n",
        "test_size = len(df) - train_size\n",
        "train, test = df.iloc[0:train_size], df.iloc[train_size:len(df)]\n",
        "print('Train size:',len(train))\n",
        "print('Test size:', len(test))"
      ],
      "metadata": {
        "colab": {
          "base_uri": "https://localhost:8080/"
        },
        "id": "nYZL-9Sy3xpJ",
        "outputId": "a1d90f84-f119-4529-fd69-e5e55e9a5ee0"
      },
      "execution_count": null,
      "outputs": [
        {
          "output_type": "stream",
          "name": "stdout",
          "text": [
            "Train size: 184\n",
            "Test size: 46\n"
          ]
        }
      ]
    },
    {
      "cell_type": "code",
      "source": [
        "train, test = df.iloc[0:train_size], df.iloc[train_size:len(df)]\n",
        "print(len(train), len(test))"
      ],
      "metadata": {
        "colab": {
          "base_uri": "https://localhost:8080/"
        },
        "id": "DGrD2nxFmNSu",
        "outputId": "19b4f57b-8d24-450b-f87d-e56c3e862629"
      },
      "execution_count": null,
      "outputs": [
        {
          "output_type": "stream",
          "name": "stdout",
          "text": [
            "184 46\n"
          ]
        }
      ]
    },
    {
      "cell_type": "code",
      "source": [
        "print(train.shape)\n",
        "train.head()"
      ],
      "metadata": {
        "colab": {
          "base_uri": "https://localhost:8080/",
          "height": 252
        },
        "id": "QvbHy-5RmPuI",
        "outputId": "c2416809-f760-4cc6-a2ce-0ca81952d497"
      },
      "execution_count": null,
      "outputs": [
        {
          "output_type": "stream",
          "name": "stdout",
          "text": [
            "(184, 6)\n"
          ]
        },
        {
          "output_type": "execute_result",
          "data": {
            "text/html": [
              "\n",
              "  <div id=\"df-14066dbc-5662-4472-b868-bb07b73648a9\">\n",
              "    <div class=\"colab-df-container\">\n",
              "      <div>\n",
              "<style scoped>\n",
              "    .dataframe tbody tr th:only-of-type {\n",
              "        vertical-align: middle;\n",
              "    }\n",
              "\n",
              "    .dataframe tbody tr th {\n",
              "        vertical-align: top;\n",
              "    }\n",
              "\n",
              "    .dataframe thead th {\n",
              "        text-align: right;\n",
              "    }\n",
              "</style>\n",
              "<table border=\"1\" class=\"dataframe\">\n",
              "  <thead>\n",
              "    <tr style=\"text-align: right;\">\n",
              "      <th></th>\n",
              "      <th>cpo_pri</th>\n",
              "      <th>cno_pri</th>\n",
              "      <th>rps_pri</th>\n",
              "      <th>pno_pri</th>\n",
              "      <th>sbo_pri</th>\n",
              "      <th>wti_spri</th>\n",
              "    </tr>\n",
              "    <tr>\n",
              "      <th>Date</th>\n",
              "      <th></th>\n",
              "      <th></th>\n",
              "      <th></th>\n",
              "      <th></th>\n",
              "      <th></th>\n",
              "      <th></th>\n",
              "    </tr>\n",
              "  </thead>\n",
              "  <tbody>\n",
              "    <tr>\n",
              "      <th>2002-02-01</th>\n",
              "      <td>323.0</td>\n",
              "      <td>455.0</td>\n",
              "      <td>423.45</td>\n",
              "      <td>844.0</td>\n",
              "      <td>468.0</td>\n",
              "      <td>28.67</td>\n",
              "    </tr>\n",
              "    <tr>\n",
              "      <th>2002-03-01</th>\n",
              "      <td>345.0</td>\n",
              "      <td>546.0</td>\n",
              "      <td>415.85</td>\n",
              "      <td>799.0</td>\n",
              "      <td>485.0</td>\n",
              "      <td>24.49</td>\n",
              "    </tr>\n",
              "    <tr>\n",
              "      <th>2002-04-01</th>\n",
              "      <td>362.0</td>\n",
              "      <td>595.0</td>\n",
              "      <td>410.77</td>\n",
              "      <td>718.0</td>\n",
              "      <td>466.0</td>\n",
              "      <td>22.06</td>\n",
              "    </tr>\n",
              "    <tr>\n",
              "      <th>2002-05-01</th>\n",
              "      <td>376.0</td>\n",
              "      <td>636.0</td>\n",
              "      <td>414.82</td>\n",
              "      <td>614.0</td>\n",
              "      <td>442.0</td>\n",
              "      <td>21.64</td>\n",
              "    </tr>\n",
              "    <tr>\n",
              "      <th>2002-06-01</th>\n",
              "      <td>383.0</td>\n",
              "      <td>738.0</td>\n",
              "      <td>451.04</td>\n",
              "      <td>619.0</td>\n",
              "      <td>429.0</td>\n",
              "      <td>22.30</td>\n",
              "    </tr>\n",
              "  </tbody>\n",
              "</table>\n",
              "</div>\n",
              "      <button class=\"colab-df-convert\" onclick=\"convertToInteractive('df-14066dbc-5662-4472-b868-bb07b73648a9')\"\n",
              "              title=\"Convert this dataframe to an interactive table.\"\n",
              "              style=\"display:none;\">\n",
              "        \n",
              "  <svg xmlns=\"http://www.w3.org/2000/svg\" height=\"24px\"viewBox=\"0 0 24 24\"\n",
              "       width=\"24px\">\n",
              "    <path d=\"M0 0h24v24H0V0z\" fill=\"none\"/>\n",
              "    <path d=\"M18.56 5.44l.94 2.06.94-2.06 2.06-.94-2.06-.94-.94-2.06-.94 2.06-2.06.94zm-11 1L8.5 8.5l.94-2.06 2.06-.94-2.06-.94L8.5 2.5l-.94 2.06-2.06.94zm10 10l.94 2.06.94-2.06 2.06-.94-2.06-.94-.94-2.06-.94 2.06-2.06.94z\"/><path d=\"M17.41 7.96l-1.37-1.37c-.4-.4-.92-.59-1.43-.59-.52 0-1.04.2-1.43.59L10.3 9.45l-7.72 7.72c-.78.78-.78 2.05 0 2.83L4 21.41c.39.39.9.59 1.41.59.51 0 1.02-.2 1.41-.59l7.78-7.78 2.81-2.81c.8-.78.8-2.07 0-2.86zM5.41 20L4 18.59l7.72-7.72 1.47 1.35L5.41 20z\"/>\n",
              "  </svg>\n",
              "      </button>\n",
              "      \n",
              "  <style>\n",
              "    .colab-df-container {\n",
              "      display:flex;\n",
              "      flex-wrap:wrap;\n",
              "      gap: 12px;\n",
              "    }\n",
              "\n",
              "    .colab-df-convert {\n",
              "      background-color: #E8F0FE;\n",
              "      border: none;\n",
              "      border-radius: 50%;\n",
              "      cursor: pointer;\n",
              "      display: none;\n",
              "      fill: #1967D2;\n",
              "      height: 32px;\n",
              "      padding: 0 0 0 0;\n",
              "      width: 32px;\n",
              "    }\n",
              "\n",
              "    .colab-df-convert:hover {\n",
              "      background-color: #E2EBFA;\n",
              "      box-shadow: 0px 1px 2px rgba(60, 64, 67, 0.3), 0px 1px 3px 1px rgba(60, 64, 67, 0.15);\n",
              "      fill: #174EA6;\n",
              "    }\n",
              "\n",
              "    [theme=dark] .colab-df-convert {\n",
              "      background-color: #3B4455;\n",
              "      fill: #D2E3FC;\n",
              "    }\n",
              "\n",
              "    [theme=dark] .colab-df-convert:hover {\n",
              "      background-color: #434B5C;\n",
              "      box-shadow: 0px 1px 3px 1px rgba(0, 0, 0, 0.15);\n",
              "      filter: drop-shadow(0px 1px 2px rgba(0, 0, 0, 0.3));\n",
              "      fill: #FFFFFF;\n",
              "    }\n",
              "  </style>\n",
              "\n",
              "      <script>\n",
              "        const buttonEl =\n",
              "          document.querySelector('#df-14066dbc-5662-4472-b868-bb07b73648a9 button.colab-df-convert');\n",
              "        buttonEl.style.display =\n",
              "          google.colab.kernel.accessAllowed ? 'block' : 'none';\n",
              "\n",
              "        async function convertToInteractive(key) {\n",
              "          const element = document.querySelector('#df-14066dbc-5662-4472-b868-bb07b73648a9');\n",
              "          const dataTable =\n",
              "            await google.colab.kernel.invokeFunction('convertToInteractive',\n",
              "                                                     [key], {});\n",
              "          if (!dataTable) return;\n",
              "\n",
              "          const docLinkHtml = 'Like what you see? Visit the ' +\n",
              "            '<a target=\"_blank\" href=https://colab.research.google.com/notebooks/data_table.ipynb>data table notebook</a>'\n",
              "            + ' to learn more about interactive tables.';\n",
              "          element.innerHTML = '';\n",
              "          dataTable['output_type'] = 'display_data';\n",
              "          await google.colab.output.renderOutput(dataTable, element);\n",
              "          const docLink = document.createElement('div');\n",
              "          docLink.innerHTML = docLinkHtml;\n",
              "          element.appendChild(docLink);\n",
              "        }\n",
              "      </script>\n",
              "    </div>\n",
              "  </div>\n",
              "  "
            ],
            "text/plain": [
              "            cpo_pri  cno_pri  rps_pri  pno_pri  sbo_pri  wti_spri\n",
              "Date                                                             \n",
              "2002-02-01    323.0    455.0   423.45    844.0    468.0     28.67\n",
              "2002-03-01    345.0    546.0   415.85    799.0    485.0     24.49\n",
              "2002-04-01    362.0    595.0   410.77    718.0    466.0     22.06\n",
              "2002-05-01    376.0    636.0   414.82    614.0    442.0     21.64\n",
              "2002-06-01    383.0    738.0   451.04    619.0    429.0     22.30"
            ]
          },
          "metadata": {},
          "execution_count": 132
        }
      ]
    },
    {
      "cell_type": "markdown",
      "source": [
        "###Rescale train dataset"
      ],
      "metadata": {
        "id": "Z5F4OyT2mwRs"
      }
    },
    {
      "cell_type": "code",
      "source": [
        "f_transformer = RobustScaler()\n",
        "feature_columns = ['cpo_pri','cno_pri', 'rps_pri', 'pno_pri', 'sbo_pri', 'wti_spri']\n",
        "f_transformer = f_transformer.fit(train[feature_columns].to_numpy())\n",
        "train.loc[:, feature_columns] = f_transformer.transform(train[feature_columns].to_numpy())\n",
        "train.head()"
      ],
      "metadata": {
        "colab": {
          "base_uri": "https://localhost:8080/",
          "height": 235
        },
        "id": "Lg-AQuNBmvZK",
        "outputId": "ea436892-e652-4dce-a29d-7f173222139f"
      },
      "execution_count": null,
      "outputs": [
        {
          "output_type": "execute_result",
          "data": {
            "text/html": [
              "\n",
              "  <div id=\"df-1a613e67-d796-4e8b-944a-0c2fad312e4a\">\n",
              "    <div class=\"colab-df-container\">\n",
              "      <div>\n",
              "<style scoped>\n",
              "    .dataframe tbody tr th:only-of-type {\n",
              "        vertical-align: middle;\n",
              "    }\n",
              "\n",
              "    .dataframe tbody tr th {\n",
              "        vertical-align: top;\n",
              "    }\n",
              "\n",
              "    .dataframe thead th {\n",
              "        text-align: right;\n",
              "    }\n",
              "</style>\n",
              "<table border=\"1\" class=\"dataframe\">\n",
              "  <thead>\n",
              "    <tr style=\"text-align: right;\">\n",
              "      <th></th>\n",
              "      <th>cpo_pri</th>\n",
              "      <th>cno_pri</th>\n",
              "      <th>rps_pri</th>\n",
              "      <th>pno_pri</th>\n",
              "      <th>sbo_pri</th>\n",
              "      <th>wti_spri</th>\n",
              "    </tr>\n",
              "    <tr>\n",
              "      <th>Date</th>\n",
              "      <th></th>\n",
              "      <th></th>\n",
              "      <th></th>\n",
              "      <th></th>\n",
              "      <th></th>\n",
              "      <th></th>\n",
              "    </tr>\n",
              "  </thead>\n",
              "  <tbody>\n",
              "    <tr>\n",
              "      <th>2002-02-01</th>\n",
              "      <td>-0.801187</td>\n",
              "      <td>-0.646119</td>\n",
              "      <td>-1.324544</td>\n",
              "      <td>-0.231262</td>\n",
              "      <td>-0.442244</td>\n",
              "      <td>-0.717978</td>\n",
              "    </tr>\n",
              "    <tr>\n",
              "      <th>2002-03-01</th>\n",
              "      <td>-0.670623</td>\n",
              "      <td>-0.230594</td>\n",
              "      <td>-1.348516</td>\n",
              "      <td>-0.395149</td>\n",
              "      <td>-0.338987</td>\n",
              "      <td>-0.856057</td>\n",
              "    </tr>\n",
              "    <tr>\n",
              "      <th>2002-04-01</th>\n",
              "      <td>-0.569733</td>\n",
              "      <td>-0.006849</td>\n",
              "      <td>-1.364539</td>\n",
              "      <td>-0.690145</td>\n",
              "      <td>-0.454392</td>\n",
              "      <td>-0.936328</td>\n",
              "    </tr>\n",
              "    <tr>\n",
              "      <th>2002-05-01</th>\n",
              "      <td>-0.486647</td>\n",
              "      <td>0.180365</td>\n",
              "      <td>-1.351764</td>\n",
              "      <td>-1.068905</td>\n",
              "      <td>-0.600167</td>\n",
              "      <td>-0.950202</td>\n",
              "    </tr>\n",
              "    <tr>\n",
              "      <th>2002-06-01</th>\n",
              "      <td>-0.445104</td>\n",
              "      <td>0.646119</td>\n",
              "      <td>-1.237519</td>\n",
              "      <td>-1.050696</td>\n",
              "      <td>-0.679128</td>\n",
              "      <td>-0.928400</td>\n",
              "    </tr>\n",
              "  </tbody>\n",
              "</table>\n",
              "</div>\n",
              "      <button class=\"colab-df-convert\" onclick=\"convertToInteractive('df-1a613e67-d796-4e8b-944a-0c2fad312e4a')\"\n",
              "              title=\"Convert this dataframe to an interactive table.\"\n",
              "              style=\"display:none;\">\n",
              "        \n",
              "  <svg xmlns=\"http://www.w3.org/2000/svg\" height=\"24px\"viewBox=\"0 0 24 24\"\n",
              "       width=\"24px\">\n",
              "    <path d=\"M0 0h24v24H0V0z\" fill=\"none\"/>\n",
              "    <path d=\"M18.56 5.44l.94 2.06.94-2.06 2.06-.94-2.06-.94-.94-2.06-.94 2.06-2.06.94zm-11 1L8.5 8.5l.94-2.06 2.06-.94-2.06-.94L8.5 2.5l-.94 2.06-2.06.94zm10 10l.94 2.06.94-2.06 2.06-.94-2.06-.94-.94-2.06-.94 2.06-2.06.94z\"/><path d=\"M17.41 7.96l-1.37-1.37c-.4-.4-.92-.59-1.43-.59-.52 0-1.04.2-1.43.59L10.3 9.45l-7.72 7.72c-.78.78-.78 2.05 0 2.83L4 21.41c.39.39.9.59 1.41.59.51 0 1.02-.2 1.41-.59l7.78-7.78 2.81-2.81c.8-.78.8-2.07 0-2.86zM5.41 20L4 18.59l7.72-7.72 1.47 1.35L5.41 20z\"/>\n",
              "  </svg>\n",
              "      </button>\n",
              "      \n",
              "  <style>\n",
              "    .colab-df-container {\n",
              "      display:flex;\n",
              "      flex-wrap:wrap;\n",
              "      gap: 12px;\n",
              "    }\n",
              "\n",
              "    .colab-df-convert {\n",
              "      background-color: #E8F0FE;\n",
              "      border: none;\n",
              "      border-radius: 50%;\n",
              "      cursor: pointer;\n",
              "      display: none;\n",
              "      fill: #1967D2;\n",
              "      height: 32px;\n",
              "      padding: 0 0 0 0;\n",
              "      width: 32px;\n",
              "    }\n",
              "\n",
              "    .colab-df-convert:hover {\n",
              "      background-color: #E2EBFA;\n",
              "      box-shadow: 0px 1px 2px rgba(60, 64, 67, 0.3), 0px 1px 3px 1px rgba(60, 64, 67, 0.15);\n",
              "      fill: #174EA6;\n",
              "    }\n",
              "\n",
              "    [theme=dark] .colab-df-convert {\n",
              "      background-color: #3B4455;\n",
              "      fill: #D2E3FC;\n",
              "    }\n",
              "\n",
              "    [theme=dark] .colab-df-convert:hover {\n",
              "      background-color: #434B5C;\n",
              "      box-shadow: 0px 1px 3px 1px rgba(0, 0, 0, 0.15);\n",
              "      filter: drop-shadow(0px 1px 2px rgba(0, 0, 0, 0.3));\n",
              "      fill: #FFFFFF;\n",
              "    }\n",
              "  </style>\n",
              "\n",
              "      <script>\n",
              "        const buttonEl =\n",
              "          document.querySelector('#df-1a613e67-d796-4e8b-944a-0c2fad312e4a button.colab-df-convert');\n",
              "        buttonEl.style.display =\n",
              "          google.colab.kernel.accessAllowed ? 'block' : 'none';\n",
              "\n",
              "        async function convertToInteractive(key) {\n",
              "          const element = document.querySelector('#df-1a613e67-d796-4e8b-944a-0c2fad312e4a');\n",
              "          const dataTable =\n",
              "            await google.colab.kernel.invokeFunction('convertToInteractive',\n",
              "                                                     [key], {});\n",
              "          if (!dataTable) return;\n",
              "\n",
              "          const docLinkHtml = 'Like what you see? Visit the ' +\n",
              "            '<a target=\"_blank\" href=https://colab.research.google.com/notebooks/data_table.ipynb>data table notebook</a>'\n",
              "            + ' to learn more about interactive tables.';\n",
              "          element.innerHTML = '';\n",
              "          dataTable['output_type'] = 'display_data';\n",
              "          await google.colab.output.renderOutput(dataTable, element);\n",
              "          const docLink = document.createElement('div');\n",
              "          docLink.innerHTML = docLinkHtml;\n",
              "          element.appendChild(docLink);\n",
              "        }\n",
              "      </script>\n",
              "    </div>\n",
              "  </div>\n",
              "  "
            ],
            "text/plain": [
              "             cpo_pri   cno_pri   rps_pri   pno_pri   sbo_pri  wti_spri\n",
              "Date                                                                  \n",
              "2002-02-01 -0.801187 -0.646119 -1.324544 -0.231262 -0.442244 -0.717978\n",
              "2002-03-01 -0.670623 -0.230594 -1.348516 -0.395149 -0.338987 -0.856057\n",
              "2002-04-01 -0.569733 -0.006849 -1.364539 -0.690145 -0.454392 -0.936328\n",
              "2002-05-01 -0.486647  0.180365 -1.351764 -1.068905 -0.600167 -0.950202\n",
              "2002-06-01 -0.445104  0.646119 -1.237519 -1.050696 -0.679128 -0.928400"
            ]
          },
          "metadata": {},
          "execution_count": 133
        }
      ]
    },
    {
      "cell_type": "code",
      "source": [
        "cpo_pri_transformer = RobustScaler()\n",
        "cpo_pri_transformer = cpo_pri_transformer.fit(train[['cpo_pri']])\n",
        "train['cpo_pri'] = cpo_pri_transformer.transform(train[['cpo_pri']])\n",
        "train['cpo_pri'].head()"
      ],
      "metadata": {
        "colab": {
          "base_uri": "https://localhost:8080/"
        },
        "id": "XNkE4gN9nJLt",
        "outputId": "60a7495d-0719-4e52-f5a4-0710aab69491"
      },
      "execution_count": null,
      "outputs": [
        {
          "output_type": "execute_result",
          "data": {
            "text/plain": [
              "Date\n",
              "2002-02-01   -0.801187\n",
              "2002-03-01   -0.670623\n",
              "2002-04-01   -0.569733\n",
              "2002-05-01   -0.486647\n",
              "2002-06-01   -0.445104\n",
              "Name: cpo_pri, dtype: float64"
            ]
          },
          "metadata": {},
          "execution_count": 134
        }
      ]
    },
    {
      "cell_type": "code",
      "source": [
        "test.loc[:, feature_columns] = f_transformer.transform(test[feature_columns].to_numpy())\n",
        "test.head()"
      ],
      "metadata": {
        "colab": {
          "base_uri": "https://localhost:8080/",
          "height": 235
        },
        "id": "aouQuJG5n6k8",
        "outputId": "82a1ad02-9a9d-4e96-cd37-d17f09a8fd2f"
      },
      "execution_count": null,
      "outputs": [
        {
          "output_type": "execute_result",
          "data": {
            "text/html": [
              "\n",
              "  <div id=\"df-9069eac5-300f-4c3b-b6ca-777f855f7b5b\">\n",
              "    <div class=\"colab-df-container\">\n",
              "      <div>\n",
              "<style scoped>\n",
              "    .dataframe tbody tr th:only-of-type {\n",
              "        vertical-align: middle;\n",
              "    }\n",
              "\n",
              "    .dataframe tbody tr th {\n",
              "        vertical-align: top;\n",
              "    }\n",
              "\n",
              "    .dataframe thead th {\n",
              "        text-align: right;\n",
              "    }\n",
              "</style>\n",
              "<table border=\"1\" class=\"dataframe\">\n",
              "  <thead>\n",
              "    <tr style=\"text-align: right;\">\n",
              "      <th></th>\n",
              "      <th>cpo_pri</th>\n",
              "      <th>cno_pri</th>\n",
              "      <th>rps_pri</th>\n",
              "      <th>pno_pri</th>\n",
              "      <th>sbo_pri</th>\n",
              "      <th>wti_spri</th>\n",
              "    </tr>\n",
              "    <tr>\n",
              "      <th>Date</th>\n",
              "      <th></th>\n",
              "      <th></th>\n",
              "      <th></th>\n",
              "      <th></th>\n",
              "      <th></th>\n",
              "      <th></th>\n",
              "    </tr>\n",
              "  </thead>\n",
              "  <tbody>\n",
              "    <tr>\n",
              "      <th>2017-06-01</th>\n",
              "      <td>1.068249</td>\n",
              "      <td>0.614155</td>\n",
              "      <td>0.012901</td>\n",
              "      <td>0.597786</td>\n",
              "      <td>0.950695</td>\n",
              "      <td>-0.031877</td>\n",
              "    </tr>\n",
              "    <tr>\n",
              "      <th>2017-07-01</th>\n",
              "      <td>1.109792</td>\n",
              "      <td>0.760274</td>\n",
              "      <td>0.197485</td>\n",
              "      <td>0.396351</td>\n",
              "      <td>1.058264</td>\n",
              "      <td>-0.007763</td>\n",
              "    </tr>\n",
              "    <tr>\n",
              "      <th>2017-08-01</th>\n",
              "      <td>1.204748</td>\n",
              "      <td>0.787671</td>\n",
              "      <td>0.100871</td>\n",
              "      <td>0.537949</td>\n",
              "      <td>1.082499</td>\n",
              "      <td>-0.131968</td>\n",
              "    </tr>\n",
              "    <tr>\n",
              "      <th>2017-09-01</th>\n",
              "      <td>1.691395</td>\n",
              "      <td>1.057078</td>\n",
              "      <td>0.093017</td>\n",
              "      <td>0.621567</td>\n",
              "      <td>1.293083</td>\n",
              "      <td>-0.091007</td>\n",
              "    </tr>\n",
              "    <tr>\n",
              "      <th>2017-10-01</th>\n",
              "      <td>2.124629</td>\n",
              "      <td>1.358447</td>\n",
              "      <td>0.169917</td>\n",
              "      <td>0.953857</td>\n",
              "      <td>1.505672</td>\n",
              "      <td>-0.215212</td>\n",
              "    </tr>\n",
              "  </tbody>\n",
              "</table>\n",
              "</div>\n",
              "      <button class=\"colab-df-convert\" onclick=\"convertToInteractive('df-9069eac5-300f-4c3b-b6ca-777f855f7b5b')\"\n",
              "              title=\"Convert this dataframe to an interactive table.\"\n",
              "              style=\"display:none;\">\n",
              "        \n",
              "  <svg xmlns=\"http://www.w3.org/2000/svg\" height=\"24px\"viewBox=\"0 0 24 24\"\n",
              "       width=\"24px\">\n",
              "    <path d=\"M0 0h24v24H0V0z\" fill=\"none\"/>\n",
              "    <path d=\"M18.56 5.44l.94 2.06.94-2.06 2.06-.94-2.06-.94-.94-2.06-.94 2.06-2.06.94zm-11 1L8.5 8.5l.94-2.06 2.06-.94-2.06-.94L8.5 2.5l-.94 2.06-2.06.94zm10 10l.94 2.06.94-2.06 2.06-.94-2.06-.94-.94-2.06-.94 2.06-2.06.94z\"/><path d=\"M17.41 7.96l-1.37-1.37c-.4-.4-.92-.59-1.43-.59-.52 0-1.04.2-1.43.59L10.3 9.45l-7.72 7.72c-.78.78-.78 2.05 0 2.83L4 21.41c.39.39.9.59 1.41.59.51 0 1.02-.2 1.41-.59l7.78-7.78 2.81-2.81c.8-.78.8-2.07 0-2.86zM5.41 20L4 18.59l7.72-7.72 1.47 1.35L5.41 20z\"/>\n",
              "  </svg>\n",
              "      </button>\n",
              "      \n",
              "  <style>\n",
              "    .colab-df-container {\n",
              "      display:flex;\n",
              "      flex-wrap:wrap;\n",
              "      gap: 12px;\n",
              "    }\n",
              "\n",
              "    .colab-df-convert {\n",
              "      background-color: #E8F0FE;\n",
              "      border: none;\n",
              "      border-radius: 50%;\n",
              "      cursor: pointer;\n",
              "      display: none;\n",
              "      fill: #1967D2;\n",
              "      height: 32px;\n",
              "      padding: 0 0 0 0;\n",
              "      width: 32px;\n",
              "    }\n",
              "\n",
              "    .colab-df-convert:hover {\n",
              "      background-color: #E2EBFA;\n",
              "      box-shadow: 0px 1px 2px rgba(60, 64, 67, 0.3), 0px 1px 3px 1px rgba(60, 64, 67, 0.15);\n",
              "      fill: #174EA6;\n",
              "    }\n",
              "\n",
              "    [theme=dark] .colab-df-convert {\n",
              "      background-color: #3B4455;\n",
              "      fill: #D2E3FC;\n",
              "    }\n",
              "\n",
              "    [theme=dark] .colab-df-convert:hover {\n",
              "      background-color: #434B5C;\n",
              "      box-shadow: 0px 1px 3px 1px rgba(0, 0, 0, 0.15);\n",
              "      filter: drop-shadow(0px 1px 2px rgba(0, 0, 0, 0.3));\n",
              "      fill: #FFFFFF;\n",
              "    }\n",
              "  </style>\n",
              "\n",
              "      <script>\n",
              "        const buttonEl =\n",
              "          document.querySelector('#df-9069eac5-300f-4c3b-b6ca-777f855f7b5b button.colab-df-convert');\n",
              "        buttonEl.style.display =\n",
              "          google.colab.kernel.accessAllowed ? 'block' : 'none';\n",
              "\n",
              "        async function convertToInteractive(key) {\n",
              "          const element = document.querySelector('#df-9069eac5-300f-4c3b-b6ca-777f855f7b5b');\n",
              "          const dataTable =\n",
              "            await google.colab.kernel.invokeFunction('convertToInteractive',\n",
              "                                                     [key], {});\n",
              "          if (!dataTable) return;\n",
              "\n",
              "          const docLinkHtml = 'Like what you see? Visit the ' +\n",
              "            '<a target=\"_blank\" href=https://colab.research.google.com/notebooks/data_table.ipynb>data table notebook</a>'\n",
              "            + ' to learn more about interactive tables.';\n",
              "          element.innerHTML = '';\n",
              "          dataTable['output_type'] = 'display_data';\n",
              "          await google.colab.output.renderOutput(dataTable, element);\n",
              "          const docLink = document.createElement('div');\n",
              "          docLink.innerHTML = docLinkHtml;\n",
              "          element.appendChild(docLink);\n",
              "        }\n",
              "      </script>\n",
              "    </div>\n",
              "  </div>\n",
              "  "
            ],
            "text/plain": [
              "             cpo_pri   cno_pri   rps_pri   pno_pri   sbo_pri  wti_spri\n",
              "Date                                                                  \n",
              "2017-06-01  1.068249  0.614155  0.012901  0.597786  0.950695 -0.031877\n",
              "2017-07-01  1.109792  0.760274  0.197485  0.396351  1.058264 -0.007763\n",
              "2017-08-01  1.204748  0.787671  0.100871  0.537949  1.082499 -0.131968\n",
              "2017-09-01  1.691395  1.057078  0.093017  0.621567  1.293083 -0.091007\n",
              "2017-10-01  2.124629  1.358447  0.169917  0.953857  1.505672 -0.215212"
            ]
          },
          "metadata": {},
          "execution_count": 135
        }
      ]
    },
    {
      "cell_type": "code",
      "source": [
        "test['cpo_pri'] = cpo_pri_transformer.transform(test[['cpo_pri']])\n",
        "test['cpo_pri'].head()"
      ],
      "metadata": {
        "colab": {
          "base_uri": "https://localhost:8080/"
        },
        "id": "GXgFSrz3n6o5",
        "outputId": "abd2d41f-0356-4681-c847-48bcf2e1b2e0"
      },
      "execution_count": null,
      "outputs": [
        {
          "output_type": "execute_result",
          "data": {
            "text/plain": [
              "Date\n",
              "2017-06-01    1.068249\n",
              "2017-07-01    1.109792\n",
              "2017-08-01    1.204748\n",
              "2017-09-01    1.691395\n",
              "2017-10-01    2.124629\n",
              "Name: cpo_pri, dtype: float64"
            ]
          },
          "metadata": {},
          "execution_count": 136
        }
      ]
    },
    {
      "cell_type": "markdown",
      "source": [
        "###Create X_train, y_train, X_test and y_test"
      ],
      "metadata": {
        "id": "p_2s3AO-ohCD"
      }
    },
    {
      "cell_type": "code",
      "source": [
        "def createDataset(X, y, time_steps):\n",
        "    Xs, ys = [], []\n",
        "    for i in range(len(X) - time_steps):\n",
        "        data = X.iloc[i:(i + time_steps)].values\n",
        "        Xs.append(data)        \n",
        "        ys.append(y.iloc[i + time_steps])\n",
        "        \n",
        "    return np.array(Xs), np.array(ys)\n",
        "\n",
        "time_steps = 3\n",
        "X_train, y_train = createDataset(train, train.cpo_pri, time_steps)\n",
        "X_test, y_test = createDataset(test, test.cpo_pri, time_steps)\n",
        "print(X_train.shape, y_train.shape)"
      ],
      "metadata": {
        "colab": {
          "base_uri": "https://localhost:8080/"
        },
        "id": "fGTyTKiYoJIb",
        "outputId": "794f41a5-bf38-4778-96da-eabd96fe0e64"
      },
      "execution_count": null,
      "outputs": [
        {
          "output_type": "stream",
          "name": "stdout",
          "text": [
            "(181, 3, 6) (181,)\n"
          ]
        }
      ]
    },
    {
      "cell_type": "markdown",
      "source": [
        "###Create Model"
      ],
      "metadata": {
        "id": "TVTF_aQ5o7m7"
      }
    },
    {
      "cell_type": "markdown",
      "source": [
        "####Declare input shape"
      ],
      "metadata": {
        "id": "csgKPO1MpMVt"
      }
    },
    {
      "cell_type": "code",
      "source": [
        "X_train_mlp = X_train[:, :, 0]\n",
        "X_test_mlp = X_test[:, :, 0]\n",
        "mlp_model = tf.keras.Sequential()\n",
        "mlp_model.add(tf.keras.layers.Dense(128, input_dim=X_train.shape[1], activation='relu'))\n",
        "mlp_model.add(tf.keras.layers.Dense(1))"
      ],
      "metadata": {
        "id": "H79nDA5Bo2VV"
      },
      "execution_count": null,
      "outputs": []
    },
    {
      "cell_type": "markdown",
      "source": [
        "###Compile the model"
      ],
      "metadata": {
        "id": "4KieL4e7qDEs"
      }
    },
    {
      "cell_type": "code",
      "source": [
        "mlp_model.compile(loss='mse', optimizer='adam')\n",
        "mlp_model"
      ],
      "metadata": {
        "colab": {
          "base_uri": "https://localhost:8080/"
        },
        "id": "eSbCZ-H-ps5f",
        "outputId": "587ed75f-1bde-4693-db55-add3e5a1add5"
      },
      "execution_count": null,
      "outputs": [
        {
          "output_type": "execute_result",
          "data": {
            "text/plain": [
              "<keras.engine.sequential.Sequential at 0x7fcdd18341d0>"
            ]
          },
          "metadata": {},
          "execution_count": 139
        }
      ]
    },
    {
      "cell_type": "markdown",
      "source": [
        "###Train the model"
      ],
      "metadata": {
        "id": "NVnyrRlRqQA7"
      }
    },
    {
      "cell_type": "code",
      "source": [
        "history = mlp_model.fit(\n",
        "    X_train_mlp, y_train, \n",
        "    epochs=100, \n",
        "    batch_size=32, \n",
        "    validation_split=0.1,\n",
        "    shuffle=False\n",
        ")"
      ],
      "metadata": {
        "colab": {
          "base_uri": "https://localhost:8080/"
        },
        "id": "qg6hIqjpoJOL",
        "outputId": "5732ca1d-d34b-4c3c-efce-ed9faa0e6b81"
      },
      "execution_count": null,
      "outputs": [
        {
          "output_type": "stream",
          "name": "stdout",
          "text": [
            "Epoch 1/100\n",
            "6/6 [==============================] - 1s 114ms/step - loss: 0.4266 - val_loss: 0.0723\n",
            "Epoch 2/100\n",
            "6/6 [==============================] - 0s 9ms/step - loss: 0.3178 - val_loss: 0.0587\n",
            "Epoch 3/100\n",
            "6/6 [==============================] - 0s 11ms/step - loss: 0.2362 - val_loss: 0.0476\n",
            "Epoch 4/100\n",
            "6/6 [==============================] - 0s 13ms/step - loss: 0.1731 - val_loss: 0.0388\n",
            "Epoch 5/100\n",
            "6/6 [==============================] - 0s 10ms/step - loss: 0.1266 - val_loss: 0.0319\n",
            "Epoch 6/100\n",
            "6/6 [==============================] - 0s 10ms/step - loss: 0.0944 - val_loss: 0.0268\n",
            "Epoch 7/100\n",
            "6/6 [==============================] - 0s 12ms/step - loss: 0.0739 - val_loss: 0.0234\n",
            "Epoch 8/100\n",
            "6/6 [==============================] - 0s 12ms/step - loss: 0.0622 - val_loss: 0.0212\n",
            "Epoch 9/100\n",
            "6/6 [==============================] - 0s 12ms/step - loss: 0.0560 - val_loss: 0.0199\n",
            "Epoch 10/100\n",
            "6/6 [==============================] - 0s 10ms/step - loss: 0.0530 - val_loss: 0.0192\n",
            "Epoch 11/100\n",
            "6/6 [==============================] - 0s 11ms/step - loss: 0.0513 - val_loss: 0.0189\n",
            "Epoch 12/100\n",
            "6/6 [==============================] - 0s 9ms/step - loss: 0.0502 - val_loss: 0.0188\n",
            "Epoch 13/100\n",
            "6/6 [==============================] - 0s 10ms/step - loss: 0.0493 - val_loss: 0.0189\n",
            "Epoch 14/100\n",
            "6/6 [==============================] - 0s 12ms/step - loss: 0.0485 - val_loss: 0.0190\n",
            "Epoch 15/100\n",
            "6/6 [==============================] - 0s 9ms/step - loss: 0.0477 - val_loss: 0.0190\n",
            "Epoch 16/100\n",
            "6/6 [==============================] - 0s 10ms/step - loss: 0.0470 - val_loss: 0.0190\n",
            "Epoch 17/100\n",
            "6/6 [==============================] - 0s 12ms/step - loss: 0.0464 - val_loss: 0.0189\n",
            "Epoch 18/100\n",
            "6/6 [==============================] - 0s 9ms/step - loss: 0.0457 - val_loss: 0.0188\n",
            "Epoch 19/100\n",
            "6/6 [==============================] - 0s 11ms/step - loss: 0.0450 - val_loss: 0.0187\n",
            "Epoch 20/100\n",
            "6/6 [==============================] - 0s 8ms/step - loss: 0.0444 - val_loss: 0.0186\n",
            "Epoch 21/100\n",
            "6/6 [==============================] - 0s 10ms/step - loss: 0.0438 - val_loss: 0.0186\n",
            "Epoch 22/100\n",
            "6/6 [==============================] - 0s 10ms/step - loss: 0.0431 - val_loss: 0.0185\n",
            "Epoch 23/100\n",
            "6/6 [==============================] - 0s 10ms/step - loss: 0.0425 - val_loss: 0.0184\n",
            "Epoch 24/100\n",
            "6/6 [==============================] - 0s 9ms/step - loss: 0.0419 - val_loss: 0.0184\n",
            "Epoch 25/100\n",
            "6/6 [==============================] - 0s 9ms/step - loss: 0.0413 - val_loss: 0.0183\n",
            "Epoch 26/100\n",
            "6/6 [==============================] - 0s 11ms/step - loss: 0.0408 - val_loss: 0.0183\n",
            "Epoch 27/100\n",
            "6/6 [==============================] - 0s 10ms/step - loss: 0.0402 - val_loss: 0.0182\n",
            "Epoch 28/100\n",
            "6/6 [==============================] - 0s 9ms/step - loss: 0.0397 - val_loss: 0.0181\n",
            "Epoch 29/100\n",
            "6/6 [==============================] - 0s 9ms/step - loss: 0.0392 - val_loss: 0.0180\n",
            "Epoch 30/100\n",
            "6/6 [==============================] - 0s 14ms/step - loss: 0.0387 - val_loss: 0.0179\n",
            "Epoch 31/100\n",
            "6/6 [==============================] - 0s 9ms/step - loss: 0.0382 - val_loss: 0.0178\n",
            "Epoch 32/100\n",
            "6/6 [==============================] - 0s 9ms/step - loss: 0.0378 - val_loss: 0.0177\n",
            "Epoch 33/100\n",
            "6/6 [==============================] - 0s 9ms/step - loss: 0.0373 - val_loss: 0.0176\n",
            "Epoch 34/100\n",
            "6/6 [==============================] - 0s 10ms/step - loss: 0.0369 - val_loss: 0.0175\n",
            "Epoch 35/100\n",
            "6/6 [==============================] - 0s 11ms/step - loss: 0.0365 - val_loss: 0.0174\n",
            "Epoch 36/100\n",
            "6/6 [==============================] - 0s 11ms/step - loss: 0.0362 - val_loss: 0.0173\n",
            "Epoch 37/100\n",
            "6/6 [==============================] - 0s 10ms/step - loss: 0.0358 - val_loss: 0.0173\n",
            "Epoch 38/100\n",
            "6/6 [==============================] - 0s 9ms/step - loss: 0.0354 - val_loss: 0.0172\n",
            "Epoch 39/100\n",
            "6/6 [==============================] - 0s 9ms/step - loss: 0.0351 - val_loss: 0.0171\n",
            "Epoch 40/100\n",
            "6/6 [==============================] - 0s 10ms/step - loss: 0.0348 - val_loss: 0.0170\n",
            "Epoch 41/100\n",
            "6/6 [==============================] - 0s 10ms/step - loss: 0.0345 - val_loss: 0.0169\n",
            "Epoch 42/100\n",
            "6/6 [==============================] - 0s 9ms/step - loss: 0.0342 - val_loss: 0.0168\n",
            "Epoch 43/100\n",
            "6/6 [==============================] - 0s 9ms/step - loss: 0.0339 - val_loss: 0.0167\n",
            "Epoch 44/100\n",
            "6/6 [==============================] - 0s 9ms/step - loss: 0.0336 - val_loss: 0.0166\n",
            "Epoch 45/100\n",
            "6/6 [==============================] - 0s 10ms/step - loss: 0.0333 - val_loss: 0.0165\n",
            "Epoch 46/100\n",
            "6/6 [==============================] - 0s 10ms/step - loss: 0.0331 - val_loss: 0.0164\n",
            "Epoch 47/100\n",
            "6/6 [==============================] - 0s 10ms/step - loss: 0.0328 - val_loss: 0.0163\n",
            "Epoch 48/100\n",
            "6/6 [==============================] - 0s 10ms/step - loss: 0.0326 - val_loss: 0.0163\n",
            "Epoch 49/100\n",
            "6/6 [==============================] - 0s 10ms/step - loss: 0.0323 - val_loss: 0.0162\n",
            "Epoch 50/100\n",
            "6/6 [==============================] - 0s 11ms/step - loss: 0.0321 - val_loss: 0.0161\n",
            "Epoch 51/100\n",
            "6/6 [==============================] - 0s 10ms/step - loss: 0.0319 - val_loss: 0.0161\n",
            "Epoch 52/100\n",
            "6/6 [==============================] - 0s 14ms/step - loss: 0.0317 - val_loss: 0.0160\n",
            "Epoch 53/100\n",
            "6/6 [==============================] - 0s 10ms/step - loss: 0.0315 - val_loss: 0.0159\n",
            "Epoch 54/100\n",
            "6/6 [==============================] - 0s 8ms/step - loss: 0.0313 - val_loss: 0.0159\n",
            "Epoch 55/100\n",
            "6/6 [==============================] - 0s 10ms/step - loss: 0.0311 - val_loss: 0.0158\n",
            "Epoch 56/100\n",
            "6/6 [==============================] - 0s 9ms/step - loss: 0.0309 - val_loss: 0.0157\n",
            "Epoch 57/100\n",
            "6/6 [==============================] - 0s 9ms/step - loss: 0.0307 - val_loss: 0.0157\n",
            "Epoch 58/100\n",
            "6/6 [==============================] - 0s 10ms/step - loss: 0.0305 - val_loss: 0.0156\n",
            "Epoch 59/100\n",
            "6/6 [==============================] - 0s 9ms/step - loss: 0.0304 - val_loss: 0.0156\n",
            "Epoch 60/100\n",
            "6/6 [==============================] - 0s 12ms/step - loss: 0.0302 - val_loss: 0.0155\n",
            "Epoch 61/100\n",
            "6/6 [==============================] - 0s 11ms/step - loss: 0.0300 - val_loss: 0.0155\n",
            "Epoch 62/100\n",
            "6/6 [==============================] - 0s 10ms/step - loss: 0.0299 - val_loss: 0.0154\n",
            "Epoch 63/100\n",
            "6/6 [==============================] - 0s 11ms/step - loss: 0.0297 - val_loss: 0.0153\n",
            "Epoch 64/100\n",
            "6/6 [==============================] - 0s 12ms/step - loss: 0.0295 - val_loss: 0.0153\n",
            "Epoch 65/100\n",
            "6/6 [==============================] - 0s 9ms/step - loss: 0.0294 - val_loss: 0.0152\n",
            "Epoch 66/100\n",
            "6/6 [==============================] - 0s 11ms/step - loss: 0.0292 - val_loss: 0.0152\n",
            "Epoch 67/100\n",
            "6/6 [==============================] - 0s 12ms/step - loss: 0.0291 - val_loss: 0.0151\n",
            "Epoch 68/100\n",
            "6/6 [==============================] - 0s 11ms/step - loss: 0.0289 - val_loss: 0.0151\n",
            "Epoch 69/100\n",
            "6/6 [==============================] - 0s 10ms/step - loss: 0.0288 - val_loss: 0.0150\n",
            "Epoch 70/100\n",
            "6/6 [==============================] - 0s 10ms/step - loss: 0.0287 - val_loss: 0.0149\n",
            "Epoch 71/100\n",
            "6/6 [==============================] - 0s 11ms/step - loss: 0.0285 - val_loss: 0.0149\n",
            "Epoch 72/100\n",
            "6/6 [==============================] - 0s 10ms/step - loss: 0.0284 - val_loss: 0.0148\n",
            "Epoch 73/100\n",
            "6/6 [==============================] - 0s 11ms/step - loss: 0.0283 - val_loss: 0.0148\n",
            "Epoch 74/100\n",
            "6/6 [==============================] - 0s 9ms/step - loss: 0.0282 - val_loss: 0.0148\n",
            "Epoch 75/100\n",
            "6/6 [==============================] - 0s 11ms/step - loss: 0.0280 - val_loss: 0.0147\n",
            "Epoch 76/100\n",
            "6/6 [==============================] - 0s 11ms/step - loss: 0.0279 - val_loss: 0.0147\n",
            "Epoch 77/100\n",
            "6/6 [==============================] - 0s 13ms/step - loss: 0.0278 - val_loss: 0.0146\n",
            "Epoch 78/100\n",
            "6/6 [==============================] - 0s 12ms/step - loss: 0.0277 - val_loss: 0.0146\n",
            "Epoch 79/100\n",
            "6/6 [==============================] - 0s 11ms/step - loss: 0.0276 - val_loss: 0.0145\n",
            "Epoch 80/100\n",
            "6/6 [==============================] - 0s 12ms/step - loss: 0.0275 - val_loss: 0.0145\n",
            "Epoch 81/100\n",
            "6/6 [==============================] - 0s 11ms/step - loss: 0.0274 - val_loss: 0.0145\n",
            "Epoch 82/100\n",
            "6/6 [==============================] - 0s 13ms/step - loss: 0.0273 - val_loss: 0.0144\n",
            "Epoch 83/100\n",
            "6/6 [==============================] - 0s 11ms/step - loss: 0.0272 - val_loss: 0.0144\n",
            "Epoch 84/100\n",
            "6/6 [==============================] - 0s 12ms/step - loss: 0.0271 - val_loss: 0.0144\n",
            "Epoch 85/100\n",
            "6/6 [==============================] - 0s 11ms/step - loss: 0.0270 - val_loss: 0.0143\n",
            "Epoch 86/100\n",
            "6/6 [==============================] - 0s 10ms/step - loss: 0.0269 - val_loss: 0.0143\n",
            "Epoch 87/100\n",
            "6/6 [==============================] - 0s 13ms/step - loss: 0.0268 - val_loss: 0.0142\n",
            "Epoch 88/100\n",
            "6/6 [==============================] - 0s 12ms/step - loss: 0.0267 - val_loss: 0.0142\n",
            "Epoch 89/100\n",
            "6/6 [==============================] - 0s 11ms/step - loss: 0.0267 - val_loss: 0.0142\n",
            "Epoch 90/100\n",
            "6/6 [==============================] - 0s 10ms/step - loss: 0.0266 - val_loss: 0.0141\n",
            "Epoch 91/100\n",
            "6/6 [==============================] - 0s 10ms/step - loss: 0.0265 - val_loss: 0.0141\n",
            "Epoch 92/100\n",
            "6/6 [==============================] - 0s 10ms/step - loss: 0.0264 - val_loss: 0.0140\n",
            "Epoch 93/100\n",
            "6/6 [==============================] - 0s 11ms/step - loss: 0.0263 - val_loss: 0.0140\n",
            "Epoch 94/100\n",
            "6/6 [==============================] - 0s 10ms/step - loss: 0.0263 - val_loss: 0.0140\n",
            "Epoch 95/100\n",
            "6/6 [==============================] - 0s 10ms/step - loss: 0.0262 - val_loss: 0.0140\n",
            "Epoch 96/100\n",
            "6/6 [==============================] - 0s 10ms/step - loss: 0.0261 - val_loss: 0.0139\n",
            "Epoch 97/100\n",
            "6/6 [==============================] - 0s 12ms/step - loss: 0.0261 - val_loss: 0.0139\n",
            "Epoch 98/100\n",
            "6/6 [==============================] - 0s 10ms/step - loss: 0.0260 - val_loss: 0.0139\n",
            "Epoch 99/100\n",
            "6/6 [==============================] - 0s 18ms/step - loss: 0.0259 - val_loss: 0.0138\n",
            "Epoch 100/100\n",
            "6/6 [==============================] - 0s 13ms/step - loss: 0.0259 - val_loss: 0.0138\n"
          ]
        }
      ]
    },
    {
      "cell_type": "markdown",
      "source": [
        "###Model Summary"
      ],
      "metadata": {
        "id": "l2EtfPEvmvw5"
      }
    },
    {
      "cell_type": "code",
      "source": [
        "mlp_model.summary()"
      ],
      "metadata": {
        "colab": {
          "base_uri": "https://localhost:8080/"
        },
        "id": "NrEWlKuaqiY0",
        "outputId": "2941bb60-d36b-41e3-b03a-00d76b8f8253"
      },
      "execution_count": null,
      "outputs": [
        {
          "output_type": "stream",
          "name": "stdout",
          "text": [
            "Model: \"sequential_8\"\n",
            "_________________________________________________________________\n",
            " Layer (type)                Output Shape              Param #   \n",
            "=================================================================\n",
            " dense_16 (Dense)            (None, 128)               512       \n",
            "                                                                 \n",
            " dense_17 (Dense)            (None, 1)                 129       \n",
            "                                                                 \n",
            "=================================================================\n",
            "Total params: 641\n",
            "Trainable params: 641\n",
            "Non-trainable params: 0\n",
            "_________________________________________________________________\n"
          ]
        }
      ]
    },
    {
      "cell_type": "markdown",
      "source": [
        "###Predict the test data"
      ],
      "metadata": {
        "id": "5V8c8T3NqtWQ"
      }
    },
    {
      "cell_type": "code",
      "source": [
        "y_pred = mlp_model.predict(X_test_mlp)\n",
        "y_pred"
      ],
      "metadata": {
        "colab": {
          "base_uri": "https://localhost:8080/"
        },
        "id": "L0h0-5Znqv6n",
        "outputId": "af3e180f-bffe-428c-b2fb-f30eefca3fb4"
      },
      "execution_count": null,
      "outputs": [
        {
          "output_type": "execute_result",
          "data": {
            "text/plain": [
              "array([[1.1623837 ],\n",
              "       [1.6614618 ],\n",
              "       [2.0103714 ],\n",
              "       [2.033488  ],\n",
              "       [2.1500742 ],\n",
              "       [1.9814544 ],\n",
              "       [2.1408138 ],\n",
              "       [2.5603783 ],\n",
              "       [2.9257367 ],\n",
              "       [2.8821843 ],\n",
              "       [2.9327927 ],\n",
              "       [2.9214532 ],\n",
              "       [2.9245908 ],\n",
              "       [2.9245908 ],\n",
              "       [2.9245908 ],\n",
              "       [2.9245908 ],\n",
              "       [2.9245908 ],\n",
              "       [2.6585555 ],\n",
              "       [1.9418153 ],\n",
              "       [0.99204946],\n",
              "       [0.7720654 ],\n",
              "       [0.7544354 ],\n",
              "       [1.2304914 ],\n",
              "       [1.1066346 ],\n",
              "       [1.1423253 ],\n",
              "       [2.022836  ],\n",
              "       [2.2904265 ],\n",
              "       [1.7574096 ],\n",
              "       [1.2626543 ],\n",
              "       [1.645133  ],\n",
              "       [1.3238299 ],\n",
              "       [1.4983658 ],\n",
              "       [1.7037768 ],\n",
              "       [2.0227823 ],\n",
              "       [2.0151312 ],\n",
              "       [1.9996645 ],\n",
              "       [2.2022083 ],\n",
              "       [2.1672304 ],\n",
              "       [2.1192157 ],\n",
              "       [1.949857  ],\n",
              "       [2.098943  ],\n",
              "       [2.6803415 ],\n",
              "       [2.6246412 ]], dtype=float32)"
            ]
          },
          "metadata": {},
          "execution_count": 142
        }
      ]
    },
    {
      "cell_type": "markdown",
      "source": [
        "###Inverse transformed data\n",
        "\n",
        "Scale the data back to the original representation"
      ],
      "metadata": {
        "id": "BWYvQYlGrBlq"
      }
    },
    {
      "cell_type": "code",
      "source": [
        "y_train_inv = cpo_pri_transformer.inverse_transform(y_train.reshape(1, -1))\n",
        "y_test_inv = cpo_pri_transformer.inverse_transform(y_test.reshape(1, -1))\n",
        "y_pred_inv = cpo_pri_transformer.inverse_transform(y_pred)\n",
        "print(y_train_inv)\n",
        "print(y_test_inv)\n",
        "print(y_pred_inv)"
      ],
      "metadata": {
        "colab": {
          "base_uri": "https://localhost:8080/"
        },
        "id": "0L5qHrknri1G",
        "outputId": "5e08cf5f-2070-4673-a1fa-8f37c03941d1"
      },
      "execution_count": null,
      "outputs": [
        {
          "output_type": "stream",
          "name": "stdout",
          "text": [
            "[[-0.48664688 -0.44510386 -0.45103858 -0.36795252 -0.33234421 -0.40356083\n",
            "  -0.32047478 -0.45103858 -0.45103858 -0.39762611 -0.36795252 -0.26706231\n",
            "  -0.33827893 -0.28486647 -0.1958457  -0.29673591 -0.39169139 -0.51632047\n",
            "  -0.60534125 -0.56973294 -0.60534125 -0.62908012 -0.74183976 -0.59940653\n",
            "  -0.27893175 -0.32047478 -0.42136499 -0.37388724 -0.14243323  0.17804154\n",
            "   0.29673591  0.21364985  0.69436202  0.92581602  0.93768546  1.47774481\n",
            "   1.54896142  1.16913947  1.20474777  1.35905045  0.99109792  0.90801187\n",
            "   1.02670623  1.16913947  0.93768546  0.75964392  0.93175074  0.884273\n",
            "   0.78338279  0.45697329  0.35608309  0.3620178   0.61721068  0.5578635\n",
            "   0.29673591  0.10682493  0.3264095   0.51632047  0.43916914  0.54599407\n",
            "   0.61127596  0.64688427  0.72403561  0.59940653  0.61721068  0.56379822\n",
            "   0.44510386  0.23738872  0.27299703  0.39762611  0.52818991  0.58160237\n",
            "   0.64094955  0.96735905  1.19287834  1.26409496  1.36498516  1.46587537\n",
            "   1.03857567  1.20474777  1.28189911  1.45400593  1.40059347  1.32344214\n",
            "   1.21661721  1.03264095  0.61127596  0.23145401  0.30267062  0.10089021\n",
            "  -0.39169139 -0.82492582 -0.61721068 -0.41543027 -0.45697329 -0.52225519\n",
            "  -0.61721068 -0.65281899 -0.74777448 -0.64688427 -0.51038576 -0.79525223\n",
            "  -0.84866469 -0.86646884 -0.90207715 -1.00890208 -1.20474777 -1.19287834\n",
            "  -1.14540059 -1.21068249 -1.29376855 -1.21068249 -1.22848665 -1.32937685\n",
            "  -1.20474777 -0.75964392 -0.56973294 -0.87833828 -1.07418398 -0.80118694\n",
            "  -0.58160237 -0.49851632 -0.6231454  -0.58753709 -0.58160237 -0.43323442\n",
            "  -0.18991098 -0.21364985 -0.07121662 -0.1958457  -0.18397626  0.04154303\n",
            "   0.18397626  0.16617211  0.11275964 -0.02373887 -0.08902077 -0.02373887\n",
            "   0.04747774  0.         -0.11275964 -0.10089021  0.33827893  0.53412463\n",
            "   0.48664688  0.40949555  0.62908012  0.74777448  0.69436202  0.46884273\n",
            "   0.07715134 -0.01780415  0.          0.05934718 -0.04154303 -0.01780415\n",
            "  -0.07121662 -0.23145401 -0.20771513  0.          0.         -0.04747774\n",
            "  -0.03560831 -0.01780415 -0.05934718 -0.02373887  0.05934718  0.05341246\n",
            "  -0.00593472  0.00593472  0.09495549  0.08902077  0.10682493  0.15430267\n",
            "   0.11869436  0.24332344  0.45103858  0.31454006  0.33234421  0.67655786\n",
            "   0.99703264]]\n",
            "[[1.69139466 2.12462908 2.22551929 2.35608309 2.21364985 2.33827893\n",
            "  2.77744807 3.21068249 3.22848665 3.28931751 3.28931751 3.28931751\n",
            "  3.28931751 3.28931751 3.28931751 3.28931751 3.00296736 2.18397626\n",
            "  1.05637982 0.72997033 0.76557864 1.19287834 1.17507418 1.19881306\n",
            "  2.02967359 2.46290801 1.96439169 1.42433234 1.70919881 1.45994065\n",
            "  1.58456973 1.81008902 2.16023739 2.21364985 2.20771513 2.40356083\n",
            "  2.40356083 2.35608309 2.18397626 2.29080119 2.884273   2.91394659\n",
            "  3.28931751]]\n",
            "[[1.1623837 ]\n",
            " [1.6614618 ]\n",
            " [2.0103714 ]\n",
            " [2.033488  ]\n",
            " [2.1500742 ]\n",
            " [1.9814544 ]\n",
            " [2.1408138 ]\n",
            " [2.5603783 ]\n",
            " [2.9257367 ]\n",
            " [2.8821843 ]\n",
            " [2.9327927 ]\n",
            " [2.9214532 ]\n",
            " [2.9245908 ]\n",
            " [2.9245908 ]\n",
            " [2.9245908 ]\n",
            " [2.9245908 ]\n",
            " [2.9245908 ]\n",
            " [2.6585555 ]\n",
            " [1.9418153 ]\n",
            " [0.99204946]\n",
            " [0.7720654 ]\n",
            " [0.7544354 ]\n",
            " [1.2304914 ]\n",
            " [1.1066346 ]\n",
            " [1.1423253 ]\n",
            " [2.022836  ]\n",
            " [2.2904265 ]\n",
            " [1.7574096 ]\n",
            " [1.2626543 ]\n",
            " [1.645133  ]\n",
            " [1.3238299 ]\n",
            " [1.4983658 ]\n",
            " [1.7037768 ]\n",
            " [2.0227823 ]\n",
            " [2.0151312 ]\n",
            " [1.9996645 ]\n",
            " [2.2022083 ]\n",
            " [2.1672304 ]\n",
            " [2.1192157 ]\n",
            " [1.949857  ]\n",
            " [2.098943  ]\n",
            " [2.6803415 ]\n",
            " [2.6246412 ]]\n"
          ]
        }
      ]
    },
    {
      "cell_type": "markdown",
      "source": [
        "###Plot history, actual and predicted value"
      ],
      "metadata": {
        "id": "T50ohW16vAiQ"
      }
    },
    {
      "cell_type": "code",
      "source": [
        "y_train_inv = y_train_inv.flatten()\n",
        "y_train_inv\n",
        "y_test_inv = y_test_inv.flatten()\n",
        "y_test_inv"
      ],
      "metadata": {
        "colab": {
          "base_uri": "https://localhost:8080/"
        },
        "id": "gzELVMC9vDwF",
        "outputId": "10c97310-fa63-4b36-cead-97deea65ca6d"
      },
      "execution_count": null,
      "outputs": [
        {
          "output_type": "execute_result",
          "data": {
            "text/plain": [
              "array([1.69139466, 2.12462908, 2.22551929, 2.35608309, 2.21364985,\n",
              "       2.33827893, 2.77744807, 3.21068249, 3.22848665, 3.28931751,\n",
              "       3.28931751, 3.28931751, 3.28931751, 3.28931751, 3.28931751,\n",
              "       3.28931751, 3.00296736, 2.18397626, 1.05637982, 0.72997033,\n",
              "       0.76557864, 1.19287834, 1.17507418, 1.19881306, 2.02967359,\n",
              "       2.46290801, 1.96439169, 1.42433234, 1.70919881, 1.45994065,\n",
              "       1.58456973, 1.81008902, 2.16023739, 2.21364985, 2.20771513,\n",
              "       2.40356083, 2.40356083, 2.35608309, 2.18397626, 2.29080119,\n",
              "       2.884273  , 2.91394659, 3.28931751])"
            ]
          },
          "metadata": {},
          "execution_count": 146
        }
      ]
    },
    {
      "cell_type": "code",
      "source": [
        "y_pred_inv = y_pred_inv.flatten()\n",
        "y_pred_inv"
      ],
      "metadata": {
        "colab": {
          "base_uri": "https://localhost:8080/"
        },
        "id": "OGvaoyIHs4Ji",
        "outputId": "21c81f7d-f193-4e1a-e668-6fc1bec1fca1"
      },
      "execution_count": null,
      "outputs": [
        {
          "output_type": "execute_result",
          "data": {
            "text/plain": [
              "array([1.1623837 , 1.6614618 , 2.0103714 , 2.033488  , 2.1500742 ,\n",
              "       1.9814544 , 2.1408138 , 2.5603783 , 2.9257367 , 2.8821843 ,\n",
              "       2.9327927 , 2.9214532 , 2.9245908 , 2.9245908 , 2.9245908 ,\n",
              "       2.9245908 , 2.9245908 , 2.6585555 , 1.9418153 , 0.99204946,\n",
              "       0.7720654 , 0.7544354 , 1.2304914 , 1.1066346 , 1.1423253 ,\n",
              "       2.022836  , 2.2904265 , 1.7574096 , 1.2626543 , 1.645133  ,\n",
              "       1.3238299 , 1.4983658 , 1.7037768 , 2.0227823 , 2.0151312 ,\n",
              "       1.9996645 , 2.2022083 , 2.1672304 , 2.1192157 , 1.949857  ,\n",
              "       2.098943  , 2.6803415 , 2.6246412 ], dtype=float32)"
            ]
          },
          "metadata": {},
          "execution_count": 147
        }
      ]
    },
    {
      "cell_type": "code",
      "source": [
        "plt.plot(np.arange(0, len(y_train)), y_train_inv, color='green', label=\"History\")\n",
        "plt.plot(np.arange(len(y_train), len(y_train) + len(y_test)), y_test_inv, color='blue', marker='.', label=\"Actual\")\n",
        "plt.plot(np.arange(len(y_train), len(y_train) + len(y_test)), y_pred_inv, color='red', label=\"Prediction\")\n",
        "plt.ylabel('Crude Price of Oil')\n",
        "plt.xlabel('Time Step')\n",
        "plt.legend()\n",
        "plt.show();"
      ],
      "metadata": {
        "colab": {
          "base_uri": "https://localhost:8080/",
          "height": 362
        },
        "id": "LlC4N3cuq5OQ",
        "outputId": "c8cc7260-6023-480b-9f22-7eda014551f3"
      },
      "execution_count": null,
      "outputs": [
        {
          "output_type": "display_data",
          "data": {
            "image/png": "[encoded data removed]",
            "text/plain": [
              "<Figure size 720x360 with 1 Axes>"
            ]
          },
          "metadata": {}
        }
      ]
    },
    {
      "cell_type": "markdown",
      "source": [
        "###Plot actual and predicted value"
      ],
      "metadata": {
        "id": "nJqimUI0xZPO"
      }
    },
    {
      "cell_type": "code",
      "source": [
        "plt.plot(y_test_inv, marker='.', label=\"Actual\")\n",
        "plt.plot(y_pred_inv, color='red', label=\"Prediction\")\n",
        "plt.ylabel('Crude Palm Oil Price')\n",
        "plt.xlabel('Time Step')\n",
        "plt.legend()\n",
        "plt.show();"
      ],
      "metadata": {
        "colab": {
          "base_uri": "https://localhost:8080/",
          "height": 362
        },
        "id": "nRuY1AtbqpjQ",
        "outputId": "b646f745-6ff4-40f2-fffa-1e8cffc6bb1d"
      },
      "execution_count": null,
      "outputs": [
        {
          "output_type": "display_data",
          "data": {
            "image/png": "[encoded data removed]",
            "text/plain": [
              "<Figure size 720x360 with 1 Axes>"
            ]
          },
          "metadata": {}
        }
      ]
    },
    {
      "cell_type": "code",
      "source": [
        "....updating"
      ],
      "metadata": {
        "id": "mDy3lJWwqp1U"
      },
      "execution_count": null,
      "outputs": []
    }
  ]
}