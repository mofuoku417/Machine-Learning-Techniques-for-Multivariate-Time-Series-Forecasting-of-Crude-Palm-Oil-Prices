{
  "nbformat": 4,
  "nbformat_minor": 0,
  "metadata": {
    "colab": {
      "name": "MLP RegressionC.ipynb",
      "provenance": [],
      "authorship_tag": "ABX9TyN1cxJWCYg0NZn0lJ7TuYqx",
      "include_colab_link": true
    },
    "kernelspec": {
      "name": "python3",
      "display_name": "Python 3"
    },
    "language_info": {
      "name": "python"
    }
  },
  "cells": [
    {
      "cell_type": "markdown",
      "metadata": {
        "id": "view-in-github",
        "colab_type": "text"
      },
      "source": [
        "<a href=\"https://colab.research.google.com/github/mofuoku417/Multivariate-Time-Series-Forecasting-of-Crude-Palm-Oil-Price-Using-Machine-Learning-Techniques/blob/main/MLP_RegressionC.ipynb\" target=\"_parent\"><img src=\"https://colab.research.google.com/assets/colab-badge.svg\" alt=\"Open In Colab\"/></a>"
      ]
    },
    {
      "cell_type": "markdown",
      "metadata": {
        "id": "pjFYF3Vx_2gC"
      },
      "source": [
        "##Objective\n",
        "The goal of this study is to apply Multi-Layer Perceptron Regression to predict monthly crude oil price."
      ]
    },
    {
      "cell_type": "markdown",
      "metadata": {
        "id": "mYDvWrWK_vL_"
      },
      "source": [
        "###Mount Google Drive"
      ]
    },
    {
      "cell_type": "code",
      "metadata": {
        "id": "YJBkP2il_tmx"
      },
      "source": [
        "from google.colab import drive\n",
        "drive.mount('/content/gdrive')"
      ],
      "execution_count": null,
      "outputs": []
    },
    {
      "cell_type": "code",
      "metadata": {
        "id": "pNaVw9l_pIln"
      },
      "source": [
        "import tensorflow as tf\n",
        "import pandas as pd\n",
        "import numpy as np\n",
        "import matplotlib.pyplot as plt\n",
        "import os\n",
        "import datetime\n",
        "from sklearn.svm import SVR\n",
        "from keras.models import Sequential\n",
        "from keras.layers import LSTM\n",
        "from keras.layers import Dense\n",
        "from keras.layers import Dropout\n",
        "from numpy import concatenate\n",
        "from sklearn.preprocessing import MinMaxScaler\n",
        "from math import sqrt\n",
        "from sklearn.metrics import mean_squared_error\n",
        "from sklearn.metrics import mean_absolute_error\n",
        "from sklearn.metrics import mean_absolute_error as MAE\n",
        "from sklearn.model_selection import train_test_split\n",
        "from sklearn.neural_network import MLPRegressor\n",
        "from sklearn.pipeline import Pipeline\n",
        "from sklearn.model_selection import GridSearchCV"
      ],
      "execution_count": null,
      "outputs": []
    },
    {
      "cell_type": "code",
      "metadata": {
        "id": "Qp7fH1rrlmtf"
      },
      "source": [
        "#To compute Mean Directional Accuracy\n",
        "def mda(actual: np.ndarray, predicted: np.ndarray):\n",
        "    \"\"\" Mean Directional Accuracy \"\"\"\n",
        "    return np.mean((np.sign(actual[1:] - actual[:-1]) == np.sign(predicted[1:] - predicted[:-1])).astype(int))\n",
        "\n",
        "#Calculate the root mean squared error:\n",
        "def RMSE(y_true, y_pred): \n",
        "    rmse = np.sqrt(mean_squared_error(y_true, y_pred))\n",
        "    return rmse\n",
        "\n",
        "#Calculate the mean absolute percentage error\n",
        "def MAPE(y_true, y_pred): \n",
        "    mape = np.mean(np.abs((np.array(y_true) - np.array(y_pred)) / np.array(y_true))) * 100\n",
        "    return mape\n",
        "\n",
        "def mean_absolute_percentage_error(y_true, y_pred): \n",
        "    y_true, y_pred = np.array(y_true), np.array(y_pred)\n",
        "    return np.mean(np.abs((y_true - y_pred) / y_true)) * 100"
      ],
      "execution_count": null,
      "outputs": []
    },
    {
      "cell_type": "code",
      "metadata": {
        "id": "li_-uzWrYB_y"
      },
      "source": [
        "#reading the csv file into pandas data frame\n",
        "df = pd.read_csv(\"/content/gdrive/MyDrive/raw_data/df3.csv\")\n",
        "date_rng = pd.date_range(start='2002-02-28', end='2021-03-31', freq='M')"
      ],
      "execution_count": null,
      "outputs": []
    },
    {
      "cell_type": "code",
      "metadata": {
        "colab": {
          "base_uri": "https://localhost:8080/"
        },
        "id": "7WM4wcnEF2iV",
        "outputId": "563e497d-dbe6-4f0e-d340-3e160c0b76c0"
      },
      "source": [
        "df.info()"
      ],
      "execution_count": null,
      "outputs": [
        {
          "output_type": "stream",
          "name": "stdout",
          "text": [
            "<class 'pandas.core.frame.DataFrame'>\n",
            "RangeIndex: 230 entries, 0 to 229\n",
            "Data columns (total 6 columns):\n",
            " #   Column      Non-Null Count  Dtype  \n",
            "---  ------      --------------  -----  \n",
            " 0   Unnamed: 0  230 non-null    int64  \n",
            " 1   Month       230 non-null    object \n",
            " 2   cpo_pri     230 non-null    int64  \n",
            " 3   cno_pri     230 non-null    int64  \n",
            " 4   sbo_pri     230 non-null    float64\n",
            " 5   pno_pri     230 non-null    float64\n",
            "dtypes: float64(2), int64(3), object(1)\n",
            "memory usage: 10.9+ KB\n"
          ]
        }
      ]
    },
    {
      "cell_type": "code",
      "metadata": {
        "id": "0WTCFx3RFzc_"
      },
      "source": [
        "df['Month'] = df['Month'].apply(pd.to_datetime)\n",
        "df['TimeIndex'] = pd.DataFrame(date_rng, columns=['Month'])"
      ],
      "execution_count": null,
      "outputs": []
    },
    {
      "cell_type": "code",
      "metadata": {
        "id": "MhpgmNh_fj08"
      },
      "source": [
        "del df['Unnamed: 0']"
      ],
      "execution_count": null,
      "outputs": []
    },
    {
      "cell_type": "code",
      "metadata": {
        "id": "nd1fHkxv_nvA"
      },
      "source": [
        "del df['Month']"
      ],
      "execution_count": null,
      "outputs": []
    },
    {
      "cell_type": "code",
      "metadata": {
        "colab": {
          "base_uri": "https://localhost:8080/",
          "height": 204
        },
        "id": "jfm43Vbq_sZU",
        "outputId": "fc489e27-6efa-4d35-d478-8f93443aefa9"
      },
      "source": [
        "df.head()"
      ],
      "execution_count": null,
      "outputs": [
        {
          "output_type": "execute_result",
          "data": {
            "text/html": [
              "<div>\n",
              "<style scoped>\n",
              "    .dataframe tbody tr th:only-of-type {\n",
              "        vertical-align: middle;\n",
              "    }\n",
              "\n",
              "    .dataframe tbody tr th {\n",
              "        vertical-align: top;\n",
              "    }\n",
              "\n",
              "    .dataframe thead th {\n",
              "        text-align: right;\n",
              "    }\n",
              "</style>\n",
              "<table border=\"1\" class=\"dataframe\">\n",
              "  <thead>\n",
              "    <tr style=\"text-align: right;\">\n",
              "      <th></th>\n",
              "      <th>cpo_pri</th>\n",
              "      <th>cno_pri</th>\n",
              "      <th>sbo_pri</th>\n",
              "      <th>pno_pri</th>\n",
              "      <th>TimeIndex</th>\n",
              "    </tr>\n",
              "  </thead>\n",
              "  <tbody>\n",
              "    <tr>\n",
              "      <th>0</th>\n",
              "      <td>323</td>\n",
              "      <td>455</td>\n",
              "      <td>468.0</td>\n",
              "      <td>844.0</td>\n",
              "      <td>2002-02-28</td>\n",
              "    </tr>\n",
              "    <tr>\n",
              "      <th>1</th>\n",
              "      <td>345</td>\n",
              "      <td>546</td>\n",
              "      <td>485.0</td>\n",
              "      <td>799.0</td>\n",
              "      <td>2002-03-31</td>\n",
              "    </tr>\n",
              "    <tr>\n",
              "      <th>2</th>\n",
              "      <td>362</td>\n",
              "      <td>595</td>\n",
              "      <td>466.0</td>\n",
              "      <td>718.0</td>\n",
              "      <td>2002-04-30</td>\n",
              "    </tr>\n",
              "    <tr>\n",
              "      <th>3</th>\n",
              "      <td>376</td>\n",
              "      <td>636</td>\n",
              "      <td>442.0</td>\n",
              "      <td>614.0</td>\n",
              "      <td>2002-05-31</td>\n",
              "    </tr>\n",
              "    <tr>\n",
              "      <th>4</th>\n",
              "      <td>383</td>\n",
              "      <td>738</td>\n",
              "      <td>429.0</td>\n",
              "      <td>619.0</td>\n",
              "      <td>2002-06-30</td>\n",
              "    </tr>\n",
              "  </tbody>\n",
              "</table>\n",
              "</div>"
            ],
            "text/plain": [
              "   cpo_pri  cno_pri  sbo_pri  pno_pri  TimeIndex\n",
              "0      323      455    468.0    844.0 2002-02-28\n",
              "1      345      546    485.0    799.0 2002-03-31\n",
              "2      362      595    466.0    718.0 2002-04-30\n",
              "3      376      636    442.0    614.0 2002-05-31\n",
              "4      383      738    429.0    619.0 2002-06-30"
            ]
          },
          "metadata": {},
          "execution_count": 10
        }
      ]
    },
    {
      "cell_type": "code",
      "metadata": {
        "colab": {
          "base_uri": "https://localhost:8080/"
        },
        "id": "RW6bgO-BCFQn",
        "outputId": "a7af70d3-b50f-4065-b049-af4b6d38cad5"
      },
      "source": [
        "df.info()"
      ],
      "execution_count": null,
      "outputs": [
        {
          "output_type": "stream",
          "name": "stdout",
          "text": [
            "<class 'pandas.core.frame.DataFrame'>\n",
            "RangeIndex: 230 entries, 0 to 229\n",
            "Data columns (total 5 columns):\n",
            " #   Column     Non-Null Count  Dtype         \n",
            "---  ------     --------------  -----         \n",
            " 0   cpo_pri    230 non-null    int64         \n",
            " 1   cno_pri    230 non-null    int64         \n",
            " 2   sbo_pri    230 non-null    float64       \n",
            " 3   pno_pri    230 non-null    float64       \n",
            " 4   TimeIndex  230 non-null    datetime64[ns]\n",
            "dtypes: datetime64[ns](1), float64(2), int64(2)\n",
            "memory usage: 9.1 KB\n"
          ]
        }
      ]
    },
    {
      "cell_type": "code",
      "metadata": {
        "id": "STC7bRzTfm8f",
        "colab": {
          "base_uri": "https://localhost:8080/",
          "height": 354
        },
        "outputId": "8dd96d82-ffb2-4a6b-ace1-778f63f51a6a"
      },
      "source": [
        "df.set_index('TimeIndex')[['cpo_pri', 'cno_pri','sbo_pri', 'pno_pri']].plot(subplots=True)"
      ],
      "execution_count": null,
      "outputs": [
        {
          "output_type": "execute_result",
          "data": {
            "text/plain": [
              "array([<matplotlib.axes._subplots.AxesSubplot object at 0x7f914944ef10>,\n",
              "       <matplotlib.axes._subplots.AxesSubplot object at 0x7f9149490810>,\n",
              "       <matplotlib.axes._subplots.AxesSubplot object at 0x7f914944eb10>,\n",
              "       <matplotlib.axes._subplots.AxesSubplot object at 0x7f91493a3c90>],\n",
              "      dtype=object)"
            ]
          },
          "metadata": {},
          "execution_count": 12
        },
        {
          "output_type": "display_data",
          "data": {
            "image/png": "[encoded data removed]",
            "text/plain": [
              "<Figure size 432x288 with 4 Axes>"
            ]
          },
          "metadata": {
            "needs_background": "light"
          }
        }
      ]
    },
    {
      "cell_type": "code",
      "metadata": {
        "colab": {
          "base_uri": "https://localhost:8080/",
          "height": 450
        },
        "id": "DxE8pb9RAqy4",
        "outputId": "c719b467-1138-476c-8f0a-3fa512ece38a"
      },
      "source": [
        "df.set_index('TimeIndex')"
      ],
      "execution_count": null,
      "outputs": [
        {
          "output_type": "execute_result",
          "data": {
            "text/html": [
              "<div>\n",
              "<style scoped>\n",
              "    .dataframe tbody tr th:only-of-type {\n",
              "        vertical-align: middle;\n",
              "    }\n",
              "\n",
              "    .dataframe tbody tr th {\n",
              "        vertical-align: top;\n",
              "    }\n",
              "\n",
              "    .dataframe thead th {\n",
              "        text-align: right;\n",
              "    }\n",
              "</style>\n",
              "<table border=\"1\" class=\"dataframe\">\n",
              "  <thead>\n",
              "    <tr style=\"text-align: right;\">\n",
              "      <th></th>\n",
              "      <th>cpo_pri</th>\n",
              "      <th>cno_pri</th>\n",
              "      <th>sbo_pri</th>\n",
              "      <th>pno_pri</th>\n",
              "    </tr>\n",
              "    <tr>\n",
              "      <th>TimeIndex</th>\n",
              "      <th></th>\n",
              "      <th></th>\n",
              "      <th></th>\n",
              "      <th></th>\n",
              "    </tr>\n",
              "  </thead>\n",
              "  <tbody>\n",
              "    <tr>\n",
              "      <th>2002-02-28</th>\n",
              "      <td>323</td>\n",
              "      <td>455</td>\n",
              "      <td>468.00</td>\n",
              "      <td>844.00</td>\n",
              "    </tr>\n",
              "    <tr>\n",
              "      <th>2002-03-31</th>\n",
              "      <td>345</td>\n",
              "      <td>546</td>\n",
              "      <td>485.00</td>\n",
              "      <td>799.00</td>\n",
              "    </tr>\n",
              "    <tr>\n",
              "      <th>2002-04-30</th>\n",
              "      <td>362</td>\n",
              "      <td>595</td>\n",
              "      <td>466.00</td>\n",
              "      <td>718.00</td>\n",
              "    </tr>\n",
              "    <tr>\n",
              "      <th>2002-05-31</th>\n",
              "      <td>376</td>\n",
              "      <td>636</td>\n",
              "      <td>442.00</td>\n",
              "      <td>614.00</td>\n",
              "    </tr>\n",
              "    <tr>\n",
              "      <th>2002-06-30</th>\n",
              "      <td>383</td>\n",
              "      <td>738</td>\n",
              "      <td>429.00</td>\n",
              "      <td>619.00</td>\n",
              "    </tr>\n",
              "    <tr>\n",
              "      <th>...</th>\n",
              "      <td>...</td>\n",
              "      <td>...</td>\n",
              "      <td>...</td>\n",
              "      <td>...</td>\n",
              "    </tr>\n",
              "    <tr>\n",
              "      <th>2020-11-30</th>\n",
              "      <td>826</td>\n",
              "      <td>993</td>\n",
              "      <td>860.28</td>\n",
              "      <td>1366.87</td>\n",
              "    </tr>\n",
              "    <tr>\n",
              "      <th>2020-12-31</th>\n",
              "      <td>844</td>\n",
              "      <td>1031</td>\n",
              "      <td>910.82</td>\n",
              "      <td>1366.87</td>\n",
              "    </tr>\n",
              "    <tr>\n",
              "      <th>2021-01-31</th>\n",
              "      <td>944</td>\n",
              "      <td>1170</td>\n",
              "      <td>997.62</td>\n",
              "      <td>1383.90</td>\n",
              "    </tr>\n",
              "    <tr>\n",
              "      <th>2021-02-28</th>\n",
              "      <td>949</td>\n",
              "      <td>1275</td>\n",
              "      <td>1035.26</td>\n",
              "      <td>1426.71</td>\n",
              "    </tr>\n",
              "    <tr>\n",
              "      <th>2021-03-31</th>\n",
              "      <td>1026</td>\n",
              "      <td>1412</td>\n",
              "      <td>1146.75</td>\n",
              "      <td>1471.32</td>\n",
              "    </tr>\n",
              "  </tbody>\n",
              "</table>\n",
              "<p>230 rows × 4 columns</p>\n",
              "</div>"
            ],
            "text/plain": [
              "            cpo_pri  cno_pri  sbo_pri  pno_pri\n",
              "TimeIndex                                     \n",
              "2002-02-28      323      455   468.00   844.00\n",
              "2002-03-31      345      546   485.00   799.00\n",
              "2002-04-30      362      595   466.00   718.00\n",
              "2002-05-31      376      636   442.00   614.00\n",
              "2002-06-30      383      738   429.00   619.00\n",
              "...             ...      ...      ...      ...\n",
              "2020-11-30      826      993   860.28  1366.87\n",
              "2020-12-31      844     1031   910.82  1366.87\n",
              "2021-01-31      944     1170   997.62  1383.90\n",
              "2021-02-28      949     1275  1035.26  1426.71\n",
              "2021-03-31     1026     1412  1146.75  1471.32\n",
              "\n",
              "[230 rows x 4 columns]"
            ]
          },
          "metadata": {},
          "execution_count": 13
        }
      ]
    },
    {
      "cell_type": "code",
      "metadata": {
        "colab": {
          "base_uri": "https://localhost:8080/",
          "height": 295
        },
        "id": "H_OqfjkSu2nT",
        "outputId": "96ee3edc-d51b-4ce9-f323-8c7a065cdca3"
      },
      "source": [
        "plt.figure(figsize=(12,4))\n",
        "plt.grid()\n",
        "plt.plot(df.TimeIndex, df.cpo_pri)\n",
        "plt.title('Crude palm oil price to production')\n",
        "plt.ylabel('Price')\n",
        "plt.xlabel('Date')\n",
        "plt.show()"
      ],
      "execution_count": null,
      "outputs": [
        {
          "output_type": "display_data",
          "data": {
            "image/png": "[encoded data removed]",
            "text/plain": [
              "<Figure size 864x288 with 1 Axes>"
            ]
          },
          "metadata": {
            "needs_background": "light"
          }
        }
      ]
    },
    {
      "cell_type": "code",
      "metadata": {
        "colab": {
          "base_uri": "https://localhost:8080/"
        },
        "id": "EbI8ChT36KR7",
        "outputId": "17007992-36ad-4395-8ad2-bd5f67ec2e1d"
      },
      "source": [
        "split_date = '2017-06'\n",
        "df_training = df.loc[df.TimeIndex <= split_date]\n",
        "df_test = df.loc[df.TimeIndex > split_date]\n",
        "print(f\"{len(df_training)} days of training data \\n {len(df_test)} days of testing data \")"
      ],
      "execution_count": null,
      "outputs": [
        {
          "output_type": "stream",
          "name": "stdout",
          "text": [
            "184 days of training data \n",
            " 46 days of testing data \n"
          ]
        }
      ]
    },
    {
      "cell_type": "code",
      "metadata": {
        "id": "ZeK4LGZk6KYz"
      },
      "source": [
        "# ADD time features to our model\n",
        "def create_time_features(df, target=None):\n",
        "    \"\"\"\n",
        "    Creates time series features from datetime index\n",
        "    \"\"\"\n",
        "    df['date'] = df.index\n",
        "    X = df.drop(['date'], axis=1)\n",
        "    if target:\n",
        "        y = df[target]\n",
        "        X = X.drop([target], axis=1)\n",
        "        return X, y\n",
        "\n",
        "    return X"
      ],
      "execution_count": null,
      "outputs": []
    },
    {
      "cell_type": "code",
      "metadata": {
        "id": "VGTp9wQzkpQa"
      },
      "source": [
        "x = df[['cno_pri', 'sbo_pri', 'pno_pri']]\n",
        "y = df[['cpo_pri']]"
      ],
      "execution_count": null,
      "outputs": []
    },
    {
      "cell_type": "code",
      "metadata": {
        "id": "GLN4HeMykpUc"
      },
      "source": [
        "#y = np.reshape(y, (-1,1))"
      ],
      "execution_count": null,
      "outputs": []
    },
    {
      "cell_type": "code",
      "metadata": {
        "colab": {
          "base_uri": "https://localhost:8080/"
        },
        "id": "Z9pGSBLAlEbY",
        "outputId": "f98ef486-8af1-476f-b6b9-9d06ed007b27"
      },
      "source": [
        "scaler_x = MinMaxScaler()   \n",
        "scaler_y = MinMaxScaler()\n",
        "print(scaler_x.fit(x))       \n",
        "xscale=scaler_x.transform(x)\n",
        "print(scaler_y.fit(y))               \n",
        "yscale=scaler_y.transform(y)"
      ],
      "execution_count": null,
      "outputs": [
        {
          "output_type": "stream",
          "name": "stdout",
          "text": [
            "MinMaxScaler(copy=True, feature_range=(0, 1))\n",
            "MinMaxScaler(copy=True, feature_range=(0, 1))\n"
          ]
        }
      ]
    },
    {
      "cell_type": "code",
      "metadata": {
        "id": "mQ6zYCGOlEgG"
      },
      "source": [
        "X_train, X_test, y_train, y_test = train_test_split(xscale, yscale, test_size=0.2, random_state=0)\n",
        "#X_train, X_test, Y_train, Y_test = train_test_split(X, Y, test_size=0.2, random_state=0)"
      ],
      "execution_count": null,
      "outputs": []
    },
    {
      "cell_type": "code",
      "metadata": {
        "id": "HDJPu3X7vW4J"
      },
      "source": [
        "pipe_MLPRegressor = Pipeline([('scaler',  MinMaxScaler()),\n",
        "            ('MLPRegressor', MLPRegressor(random_state = 42))])"
      ],
      "execution_count": null,
      "outputs": []
    },
    {
      "cell_type": "code",
      "metadata": {
        "colab": {
          "base_uri": "https://localhost:8080/"
        },
        "id": "Lq2iVPwbuBFm",
        "outputId": "8d9c78cc-53ca-40b3-c01b-55eeffc0162f"
      },
      "source": [
        "grid_params_MLPRegressor = [{\n",
        "    'MLPRegressor__solver': ['sgd', 'adam'],\n",
        "    'MLPRegressor__alpha': [0.0001, 0.05],\n",
        "    'MLPRegressor__max_iter': [100,200,300, 500, 1000],\n",
        "    'MLPRegressor__activation' : ['relu','logistic','tanh'],\n",
        "    'MLPRegressor__learning_rate' : ['constant', 'adaptive'],\n",
        "    'MLPRegressor__hidden_layer_sizes':[(50,50,50), (50,100,50), (100,)],}]\n",
        "\n",
        "\n",
        "CV_mlpregressor_grid = GridSearchCV (estimator = pipe_MLPRegressor,\n",
        "                               param_grid = grid_params_MLPRegressor, n_jobs=-1,\n",
        "                               cv = 5,return_train_score=True, verbose=0)\n",
        "\n",
        "\n",
        "CV_mlpregressor_grid.fit(X_train, y_train)\n",
        "\n",
        "ypred=CV_mlpregressor_grid.predict(X_test)\n",
        "\n",
        "print (np.c_[y_test, ypred])\n",
        "print('Train Accuracy : %.3f'%CV_mlpregressor_grid.best_estimator_.score(X_train, y_train))\n",
        "print('Test Accuracy : %.3f'%CV_mlpregressor_grid.best_estimator_.score(X_test, y_test))\n",
        "print('Best Accuracy Through Grid Search : %.3f'%CV_mlpregressor_grid.best_score_)\n",
        "print('Best Parameters : ',CV_mlpregressor_grid.best_params_)"
      ],
      "execution_count": null,
      "outputs": [
        {
          "output_type": "stream",
          "name": "stderr",
          "text": [
            "/usr/local/lib/python3.7/dist-packages/sklearn/neural_network/_multilayer_perceptron.py:1342: DataConversionWarning: A column-vector y was passed when a 1d array was expected. Please change the shape of y to (n_samples, ), for example using ravel().\n",
            "  y = column_or_1d(y, warn=True)\n"
          ]
        },
        {
          "output_type": "stream",
          "name": "stdout",
          "text": [
            "[[0.18285214 0.16706424]\n",
            " [0.92650919 0.96308364]\n",
            " [0.07786527 0.071098  ]\n",
            " [0.3735783  0.37828687]\n",
            " [0.20297463 0.18806102]\n",
            " [0.13473316 0.19387831]\n",
            " [0.4295713  0.43830963]\n",
            " [0.29046369 0.26559903]\n",
            " [0.52143482 0.47101078]\n",
            " [0.20384952 0.23117992]\n",
            " [0.24584427 0.23222372]\n",
            " [0.02712161 0.05141235]\n",
            " [0.29133858 0.28001992]\n",
            " [0.13648294 0.17330945]\n",
            " [0.167979   0.12447179]\n",
            " [0.19247594 0.16435065]\n",
            " [0.08573928 0.12645769]\n",
            " [0.12948381 0.17589809]\n",
            " [0.32983377 0.25956117]\n",
            " [0.18547682 0.26126671]\n",
            " [0.23184602 0.26585735]\n",
            " [0.04724409 0.04835914]\n",
            " [0.37182852 0.39875221]\n",
            " [0.55905512 0.47422448]\n",
            " [0.0183727  0.05022551]\n",
            " [0.28608924 0.27286609]\n",
            " [0.20734908 0.27792768]\n",
            " [0.33420822 0.28751023]\n",
            " [0.13735783 0.12341991]\n",
            " [0.17935258 0.16556883]\n",
            " [0.24234471 0.26477407]\n",
            " [0.22047244 0.18790714]\n",
            " [0.54330709 0.50254161]\n",
            " [0.28696413 0.30102899]\n",
            " [0.21084864 0.25063656]\n",
            " [0.15223097 0.11113756]\n",
            " [0.14610674 0.12004486]\n",
            " [0.24496938 0.27814347]\n",
            " [0.14698163 0.16658682]\n",
            " [0.12860892 0.18438992]\n",
            " [0.30358705 0.40030785]\n",
            " [0.28608924 0.24580024]\n",
            " [0.27471566 0.25379619]\n",
            " [0.20209974 0.19113748]\n",
            " [0.37270341 0.3413541 ]\n",
            " [0.63867017 0.74505775]]\n",
            "Train Accuracy : 0.924\n",
            "Test Accuracy : 0.936\n",
            "Best Accuracy Through Grid Search : 0.912\n",
            "Best Parameters :  {'MLPRegressor__activation': 'relu', 'MLPRegressor__alpha': 0.05, 'MLPRegressor__hidden_layer_sizes': (50, 100, 50), 'MLPRegressor__learning_rate': 'constant', 'MLPRegressor__max_iter': 100, 'MLPRegressor__solver': 'adam'}\n"
          ]
        }
      ]
    },
    {
      "cell_type": "code",
      "metadata": {
        "colab": {
          "base_uri": "https://localhost:8080/"
        },
        "id": "dQjs92xJkpcQ",
        "outputId": "95fdfc55-8431-4a5d-8eb2-618e2ab68e99"
      },
      "source": [
        "model = Sequential()\n",
        "model.add(Dense(12, input_dim=3, kernel_initializer='normal', activation='relu'))\n",
        "model.add(Dense(8, activation='relu'))\n",
        "model.add(Dense(1, activation='linear'))\n",
        "model.summary()"
      ],
      "execution_count": null,
      "outputs": [
        {
          "output_type": "stream",
          "name": "stdout",
          "text": [
            "Model: \"sequential_1\"\n",
            "_________________________________________________________________\n",
            " Layer (type)                Output Shape              Param #   \n",
            "=================================================================\n",
            " dense_3 (Dense)             (None, 12)                48        \n",
            "                                                                 \n",
            " dense_4 (Dense)             (None, 8)                 104       \n",
            "                                                                 \n",
            " dense_5 (Dense)             (None, 1)                 9         \n",
            "                                                                 \n",
            "=================================================================\n",
            "Total params: 161\n",
            "Trainable params: 161\n",
            "Non-trainable params: 0\n",
            "_________________________________________________________________\n"
          ]
        }
      ]
    },
    {
      "cell_type": "code",
      "metadata": {
        "id": "uT7177fFl0DT"
      },
      "source": [
        "model.compile(loss='mse', optimizer='adam', metrics=['mse','mae'])"
      ],
      "execution_count": null,
      "outputs": []
    },
    {
      "cell_type": "code",
      "metadata": {
        "colab": {
          "base_uri": "https://localhost:8080/"
        },
        "id": "0CEQIndzl0Ip",
        "outputId": "02970469-6aac-4dfd-ea32-75e18f573b70"
      },
      "source": [
        "history = model.fit(X_train, y_train, epochs=250, batch_size=50,  verbose=1, validation_split=0.2)"
      ],
      "execution_count": null,
      "outputs": [
        {
          "output_type": "stream",
          "name": "stdout",
          "text": [
            "Epoch 1/250\n",
            "3/3 [==============================] - 1s 82ms/step - loss: 0.1089 - mse: 0.1089 - mae: 0.2694 - val_loss: 0.1348 - val_mse: 0.1348 - val_mae: 0.3151\n",
            "Epoch 2/250\n",
            "3/3 [==============================] - 0s 14ms/step - loss: 0.1000 - mse: 0.1000 - mae: 0.2557 - val_loss: 0.1263 - val_mse: 0.1263 - val_mae: 0.3035\n",
            "Epoch 3/250\n",
            "3/3 [==============================] - 0s 15ms/step - loss: 0.0941 - mse: 0.0941 - mae: 0.2456 - val_loss: 0.1198 - val_mse: 0.1198 - val_mae: 0.2940\n",
            "Epoch 4/250\n",
            "3/3 [==============================] - 0s 14ms/step - loss: 0.0886 - mse: 0.0886 - mae: 0.2359 - val_loss: 0.1136 - val_mse: 0.1136 - val_mae: 0.2844\n",
            "Epoch 5/250\n",
            "3/3 [==============================] - 0s 15ms/step - loss: 0.0833 - mse: 0.0833 - mae: 0.2254 - val_loss: 0.1069 - val_mse: 0.1069 - val_mae: 0.2733\n",
            "Epoch 6/250\n",
            "3/3 [==============================] - 0s 16ms/step - loss: 0.0779 - mse: 0.0779 - mae: 0.2138 - val_loss: 0.0995 - val_mse: 0.0995 - val_mae: 0.2608\n",
            "Epoch 7/250\n",
            "3/3 [==============================] - 0s 14ms/step - loss: 0.0720 - mse: 0.0720 - mae: 0.2013 - val_loss: 0.0919 - val_mse: 0.0919 - val_mae: 0.2480\n",
            "Epoch 8/250\n",
            "3/3 [==============================] - 0s 14ms/step - loss: 0.0660 - mse: 0.0660 - mae: 0.1886 - val_loss: 0.0846 - val_mse: 0.0846 - val_mae: 0.2350\n",
            "Epoch 9/250\n",
            "3/3 [==============================] - 0s 16ms/step - loss: 0.0605 - mse: 0.0605 - mae: 0.1768 - val_loss: 0.0776 - val_mse: 0.0776 - val_mae: 0.2225\n",
            "Epoch 10/250\n",
            "3/3 [==============================] - 0s 14ms/step - loss: 0.0555 - mse: 0.0555 - mae: 0.1654 - val_loss: 0.0711 - val_mse: 0.0711 - val_mae: 0.2107\n",
            "Epoch 11/250\n",
            "3/3 [==============================] - 0s 14ms/step - loss: 0.0504 - mse: 0.0504 - mae: 0.1546 - val_loss: 0.0652 - val_mse: 0.0652 - val_mae: 0.2000\n",
            "Epoch 12/250\n",
            "3/3 [==============================] - 0s 14ms/step - loss: 0.0464 - mse: 0.0464 - mae: 0.1458 - val_loss: 0.0597 - val_mse: 0.0597 - val_mae: 0.1899\n",
            "Epoch 13/250\n",
            "3/3 [==============================] - 0s 15ms/step - loss: 0.0427 - mse: 0.0427 - mae: 0.1375 - val_loss: 0.0545 - val_mse: 0.0545 - val_mae: 0.1797\n",
            "Epoch 14/250\n",
            "3/3 [==============================] - 0s 15ms/step - loss: 0.0391 - mse: 0.0391 - mae: 0.1310 - val_loss: 0.0498 - val_mse: 0.0498 - val_mae: 0.1703\n",
            "Epoch 15/250\n",
            "3/3 [==============================] - 0s 17ms/step - loss: 0.0359 - mse: 0.0359 - mae: 0.1248 - val_loss: 0.0455 - val_mse: 0.0455 - val_mae: 0.1612\n",
            "Epoch 16/250\n",
            "3/3 [==============================] - 0s 14ms/step - loss: 0.0331 - mse: 0.0331 - mae: 0.1192 - val_loss: 0.0417 - val_mse: 0.0417 - val_mae: 0.1535\n",
            "Epoch 17/250\n",
            "3/3 [==============================] - 0s 16ms/step - loss: 0.0307 - mse: 0.0307 - mae: 0.1150 - val_loss: 0.0383 - val_mse: 0.0383 - val_mae: 0.1462\n",
            "Epoch 18/250\n",
            "3/3 [==============================] - 0s 14ms/step - loss: 0.0285 - mse: 0.0285 - mae: 0.1114 - val_loss: 0.0353 - val_mse: 0.0353 - val_mae: 0.1400\n",
            "Epoch 19/250\n",
            "3/3 [==============================] - 0s 15ms/step - loss: 0.0267 - mse: 0.0267 - mae: 0.1089 - val_loss: 0.0325 - val_mse: 0.0325 - val_mae: 0.1345\n",
            "Epoch 20/250\n",
            "3/3 [==============================] - 0s 16ms/step - loss: 0.0250 - mse: 0.0250 - mae: 0.1063 - val_loss: 0.0301 - val_mse: 0.0301 - val_mae: 0.1306\n",
            "Epoch 21/250\n",
            "3/3 [==============================] - 0s 14ms/step - loss: 0.0237 - mse: 0.0237 - mae: 0.1048 - val_loss: 0.0279 - val_mse: 0.0279 - val_mae: 0.1267\n",
            "Epoch 22/250\n",
            "3/3 [==============================] - 0s 15ms/step - loss: 0.0225 - mse: 0.0225 - mae: 0.1029 - val_loss: 0.0261 - val_mse: 0.0261 - val_mae: 0.1233\n",
            "Epoch 23/250\n",
            "3/3 [==============================] - 0s 17ms/step - loss: 0.0214 - mse: 0.0214 - mae: 0.1019 - val_loss: 0.0244 - val_mse: 0.0244 - val_mae: 0.1203\n",
            "Epoch 24/250\n",
            "3/3 [==============================] - 0s 17ms/step - loss: 0.0203 - mse: 0.0203 - mae: 0.1002 - val_loss: 0.0231 - val_mse: 0.0231 - val_mae: 0.1177\n",
            "Epoch 25/250\n",
            "3/3 [==============================] - 0s 16ms/step - loss: 0.0194 - mse: 0.0194 - mae: 0.0987 - val_loss: 0.0219 - val_mse: 0.0219 - val_mae: 0.1154\n",
            "Epoch 26/250\n",
            "3/3 [==============================] - 0s 16ms/step - loss: 0.0185 - mse: 0.0185 - mae: 0.0971 - val_loss: 0.0208 - val_mse: 0.0208 - val_mae: 0.1132\n",
            "Epoch 27/250\n",
            "3/3 [==============================] - 0s 15ms/step - loss: 0.0177 - mse: 0.0177 - mae: 0.0955 - val_loss: 0.0198 - val_mse: 0.0198 - val_mae: 0.1109\n",
            "Epoch 28/250\n",
            "3/3 [==============================] - 0s 14ms/step - loss: 0.0171 - mse: 0.0171 - mae: 0.0940 - val_loss: 0.0187 - val_mse: 0.0187 - val_mae: 0.1086\n",
            "Epoch 29/250\n",
            "3/3 [==============================] - 0s 15ms/step - loss: 0.0163 - mse: 0.0163 - mae: 0.0926 - val_loss: 0.0178 - val_mse: 0.0178 - val_mae: 0.1064\n",
            "Epoch 30/250\n",
            "3/3 [==============================] - 0s 15ms/step - loss: 0.0156 - mse: 0.0156 - mae: 0.0912 - val_loss: 0.0170 - val_mse: 0.0170 - val_mae: 0.1042\n",
            "Epoch 31/250\n",
            "3/3 [==============================] - 0s 15ms/step - loss: 0.0150 - mse: 0.0150 - mae: 0.0897 - val_loss: 0.0161 - val_mse: 0.0161 - val_mae: 0.1020\n",
            "Epoch 32/250\n",
            "3/3 [==============================] - 0s 14ms/step - loss: 0.0144 - mse: 0.0144 - mae: 0.0883 - val_loss: 0.0153 - val_mse: 0.0153 - val_mae: 0.0998\n",
            "Epoch 33/250\n",
            "3/3 [==============================] - 0s 14ms/step - loss: 0.0137 - mse: 0.0137 - mae: 0.0866 - val_loss: 0.0146 - val_mse: 0.0146 - val_mae: 0.0978\n",
            "Epoch 34/250\n",
            "3/3 [==============================] - 0s 15ms/step - loss: 0.0132 - mse: 0.0132 - mae: 0.0851 - val_loss: 0.0139 - val_mse: 0.0139 - val_mae: 0.0957\n",
            "Epoch 35/250\n",
            "3/3 [==============================] - 0s 14ms/step - loss: 0.0126 - mse: 0.0126 - mae: 0.0833 - val_loss: 0.0133 - val_mse: 0.0133 - val_mae: 0.0937\n",
            "Epoch 36/250\n",
            "3/3 [==============================] - 0s 13ms/step - loss: 0.0120 - mse: 0.0120 - mae: 0.0814 - val_loss: 0.0128 - val_mse: 0.0128 - val_mae: 0.0920\n",
            "Epoch 37/250\n",
            "3/3 [==============================] - 0s 15ms/step - loss: 0.0116 - mse: 0.0116 - mae: 0.0796 - val_loss: 0.0122 - val_mse: 0.0122 - val_mae: 0.0902\n",
            "Epoch 38/250\n",
            "3/3 [==============================] - 0s 13ms/step - loss: 0.0110 - mse: 0.0110 - mae: 0.0778 - val_loss: 0.0117 - val_mse: 0.0117 - val_mae: 0.0885\n",
            "Epoch 39/250\n",
            "3/3 [==============================] - 0s 14ms/step - loss: 0.0105 - mse: 0.0105 - mae: 0.0760 - val_loss: 0.0112 - val_mse: 0.0112 - val_mae: 0.0869\n",
            "Epoch 40/250\n",
            "3/3 [==============================] - 0s 23ms/step - loss: 0.0101 - mse: 0.0101 - mae: 0.0745 - val_loss: 0.0107 - val_mse: 0.0107 - val_mae: 0.0850\n",
            "Epoch 41/250\n",
            "3/3 [==============================] - 0s 18ms/step - loss: 0.0096 - mse: 0.0096 - mae: 0.0731 - val_loss: 0.0102 - val_mse: 0.0102 - val_mae: 0.0833\n",
            "Epoch 42/250\n",
            "3/3 [==============================] - 0s 16ms/step - loss: 0.0092 - mse: 0.0092 - mae: 0.0718 - val_loss: 0.0097 - val_mse: 0.0097 - val_mae: 0.0814\n",
            "Epoch 43/250\n",
            "3/3 [==============================] - 0s 19ms/step - loss: 0.0088 - mse: 0.0088 - mae: 0.0707 - val_loss: 0.0092 - val_mse: 0.0092 - val_mae: 0.0796\n",
            "Epoch 44/250\n",
            "3/3 [==============================] - 0s 16ms/step - loss: 0.0085 - mse: 0.0085 - mae: 0.0696 - val_loss: 0.0087 - val_mse: 0.0087 - val_mae: 0.0778\n",
            "Epoch 45/250\n",
            "3/3 [==============================] - 0s 13ms/step - loss: 0.0081 - mse: 0.0081 - mae: 0.0684 - val_loss: 0.0083 - val_mse: 0.0083 - val_mae: 0.0761\n",
            "Epoch 46/250\n",
            "3/3 [==============================] - 0s 16ms/step - loss: 0.0078 - mse: 0.0078 - mae: 0.0672 - val_loss: 0.0080 - val_mse: 0.0080 - val_mae: 0.0747\n",
            "Epoch 47/250\n",
            "3/3 [==============================] - 0s 15ms/step - loss: 0.0075 - mse: 0.0075 - mae: 0.0661 - val_loss: 0.0076 - val_mse: 0.0076 - val_mae: 0.0730\n",
            "Epoch 48/250\n",
            "3/3 [==============================] - 0s 15ms/step - loss: 0.0072 - mse: 0.0072 - mae: 0.0650 - val_loss: 0.0073 - val_mse: 0.0073 - val_mae: 0.0716\n",
            "Epoch 49/250\n",
            "3/3 [==============================] - 0s 17ms/step - loss: 0.0069 - mse: 0.0069 - mae: 0.0639 - val_loss: 0.0071 - val_mse: 0.0071 - val_mae: 0.0704\n",
            "Epoch 50/250\n",
            "3/3 [==============================] - 0s 16ms/step - loss: 0.0067 - mse: 0.0067 - mae: 0.0630 - val_loss: 0.0068 - val_mse: 0.0068 - val_mae: 0.0689\n",
            "Epoch 51/250\n",
            "3/3 [==============================] - 0s 15ms/step - loss: 0.0064 - mse: 0.0064 - mae: 0.0618 - val_loss: 0.0066 - val_mse: 0.0066 - val_mae: 0.0677\n",
            "Epoch 52/250\n",
            "3/3 [==============================] - 0s 16ms/step - loss: 0.0062 - mse: 0.0062 - mae: 0.0607 - val_loss: 0.0064 - val_mse: 0.0064 - val_mae: 0.0665\n",
            "Epoch 53/250\n",
            "3/3 [==============================] - 0s 18ms/step - loss: 0.0060 - mse: 0.0060 - mae: 0.0597 - val_loss: 0.0062 - val_mse: 0.0062 - val_mae: 0.0653\n",
            "Epoch 54/250\n",
            "3/3 [==============================] - 0s 16ms/step - loss: 0.0058 - mse: 0.0058 - mae: 0.0588 - val_loss: 0.0060 - val_mse: 0.0060 - val_mae: 0.0641\n",
            "Epoch 55/250\n",
            "3/3 [==============================] - 0s 16ms/step - loss: 0.0056 - mse: 0.0056 - mae: 0.0578 - val_loss: 0.0058 - val_mse: 0.0058 - val_mae: 0.0629\n",
            "Epoch 56/250\n",
            "3/3 [==============================] - 0s 18ms/step - loss: 0.0054 - mse: 0.0054 - mae: 0.0571 - val_loss: 0.0055 - val_mse: 0.0055 - val_mae: 0.0615\n",
            "Epoch 57/250\n",
            "3/3 [==============================] - 0s 14ms/step - loss: 0.0052 - mse: 0.0052 - mae: 0.0563 - val_loss: 0.0053 - val_mse: 0.0053 - val_mae: 0.0603\n",
            "Epoch 58/250\n",
            "3/3 [==============================] - 0s 14ms/step - loss: 0.0050 - mse: 0.0050 - mae: 0.0555 - val_loss: 0.0051 - val_mse: 0.0051 - val_mae: 0.0587\n",
            "Epoch 59/250\n",
            "3/3 [==============================] - 0s 14ms/step - loss: 0.0049 - mse: 0.0049 - mae: 0.0550 - val_loss: 0.0048 - val_mse: 0.0048 - val_mae: 0.0572\n",
            "Epoch 60/250\n",
            "3/3 [==============================] - 0s 19ms/step - loss: 0.0048 - mse: 0.0048 - mae: 0.0542 - val_loss: 0.0047 - val_mse: 0.0047 - val_mae: 0.0561\n",
            "Epoch 61/250\n",
            "3/3 [==============================] - 0s 14ms/step - loss: 0.0047 - mse: 0.0047 - mae: 0.0535 - val_loss: 0.0046 - val_mse: 0.0046 - val_mae: 0.0555\n",
            "Epoch 62/250\n",
            "3/3 [==============================] - 0s 13ms/step - loss: 0.0045 - mse: 0.0045 - mae: 0.0526 - val_loss: 0.0046 - val_mse: 0.0046 - val_mae: 0.0554\n",
            "Epoch 63/250\n",
            "3/3 [==============================] - 0s 14ms/step - loss: 0.0044 - mse: 0.0044 - mae: 0.0520 - val_loss: 0.0046 - val_mse: 0.0046 - val_mae: 0.0551\n",
            "Epoch 64/250\n",
            "3/3 [==============================] - 0s 22ms/step - loss: 0.0043 - mse: 0.0043 - mae: 0.0514 - val_loss: 0.0045 - val_mse: 0.0045 - val_mae: 0.0549\n",
            "Epoch 65/250\n",
            "3/3 [==============================] - 0s 15ms/step - loss: 0.0042 - mse: 0.0042 - mae: 0.0510 - val_loss: 0.0044 - val_mse: 0.0044 - val_mae: 0.0542\n",
            "Epoch 66/250\n",
            "3/3 [==============================] - 0s 16ms/step - loss: 0.0041 - mse: 0.0041 - mae: 0.0504 - val_loss: 0.0044 - val_mse: 0.0044 - val_mae: 0.0537\n",
            "Epoch 67/250\n",
            "3/3 [==============================] - 0s 17ms/step - loss: 0.0041 - mse: 0.0041 - mae: 0.0499 - val_loss: 0.0042 - val_mse: 0.0042 - val_mae: 0.0526\n",
            "Epoch 68/250\n",
            "3/3 [==============================] - 0s 19ms/step - loss: 0.0040 - mse: 0.0040 - mae: 0.0494 - val_loss: 0.0040 - val_mse: 0.0040 - val_mae: 0.0516\n",
            "Epoch 69/250\n",
            "3/3 [==============================] - 0s 14ms/step - loss: 0.0039 - mse: 0.0039 - mae: 0.0489 - val_loss: 0.0040 - val_mse: 0.0040 - val_mae: 0.0511\n",
            "Epoch 70/250\n",
            "3/3 [==============================] - 0s 14ms/step - loss: 0.0038 - mse: 0.0038 - mae: 0.0485 - val_loss: 0.0039 - val_mse: 0.0039 - val_mae: 0.0505\n",
            "Epoch 71/250\n",
            "3/3 [==============================] - 0s 15ms/step - loss: 0.0038 - mse: 0.0038 - mae: 0.0482 - val_loss: 0.0039 - val_mse: 0.0039 - val_mae: 0.0505\n",
            "Epoch 72/250\n",
            "3/3 [==============================] - 0s 18ms/step - loss: 0.0037 - mse: 0.0037 - mae: 0.0479 - val_loss: 0.0038 - val_mse: 0.0038 - val_mae: 0.0499\n",
            "Epoch 73/250\n",
            "3/3 [==============================] - 0s 16ms/step - loss: 0.0037 - mse: 0.0037 - mae: 0.0475 - val_loss: 0.0038 - val_mse: 0.0038 - val_mae: 0.0495\n",
            "Epoch 74/250\n",
            "3/3 [==============================] - 0s 17ms/step - loss: 0.0036 - mse: 0.0036 - mae: 0.0472 - val_loss: 0.0037 - val_mse: 0.0037 - val_mae: 0.0493\n",
            "Epoch 75/250\n",
            "3/3 [==============================] - 0s 16ms/step - loss: 0.0036 - mse: 0.0036 - mae: 0.0470 - val_loss: 0.0037 - val_mse: 0.0037 - val_mae: 0.0492\n",
            "Epoch 76/250\n",
            "3/3 [==============================] - 0s 14ms/step - loss: 0.0036 - mse: 0.0036 - mae: 0.0468 - val_loss: 0.0037 - val_mse: 0.0037 - val_mae: 0.0491\n",
            "Epoch 77/250\n",
            "3/3 [==============================] - 0s 15ms/step - loss: 0.0035 - mse: 0.0035 - mae: 0.0466 - val_loss: 0.0036 - val_mse: 0.0036 - val_mae: 0.0483\n",
            "Epoch 78/250\n",
            "3/3 [==============================] - 0s 17ms/step - loss: 0.0035 - mse: 0.0035 - mae: 0.0464 - val_loss: 0.0036 - val_mse: 0.0036 - val_mae: 0.0480\n",
            "Epoch 79/250\n",
            "3/3 [==============================] - 0s 17ms/step - loss: 0.0034 - mse: 0.0034 - mae: 0.0461 - val_loss: 0.0036 - val_mse: 0.0036 - val_mae: 0.0479\n",
            "Epoch 80/250\n",
            "3/3 [==============================] - 0s 17ms/step - loss: 0.0034 - mse: 0.0034 - mae: 0.0460 - val_loss: 0.0035 - val_mse: 0.0035 - val_mae: 0.0476\n",
            "Epoch 81/250\n",
            "3/3 [==============================] - 0s 18ms/step - loss: 0.0034 - mse: 0.0034 - mae: 0.0458 - val_loss: 0.0035 - val_mse: 0.0035 - val_mae: 0.0476\n",
            "Epoch 82/250\n",
            "3/3 [==============================] - 0s 15ms/step - loss: 0.0034 - mse: 0.0034 - mae: 0.0457 - val_loss: 0.0036 - val_mse: 0.0036 - val_mae: 0.0478\n",
            "Epoch 83/250\n",
            "3/3 [==============================] - 0s 16ms/step - loss: 0.0033 - mse: 0.0033 - mae: 0.0456 - val_loss: 0.0035 - val_mse: 0.0035 - val_mae: 0.0472\n",
            "Epoch 84/250\n",
            "3/3 [==============================] - 0s 18ms/step - loss: 0.0033 - mse: 0.0033 - mae: 0.0454 - val_loss: 0.0035 - val_mse: 0.0035 - val_mae: 0.0469\n",
            "Epoch 85/250\n",
            "3/3 [==============================] - 0s 18ms/step - loss: 0.0033 - mse: 0.0033 - mae: 0.0453 - val_loss: 0.0034 - val_mse: 0.0034 - val_mae: 0.0467\n",
            "Epoch 86/250\n",
            "3/3 [==============================] - 0s 15ms/step - loss: 0.0033 - mse: 0.0033 - mae: 0.0452 - val_loss: 0.0034 - val_mse: 0.0034 - val_mae: 0.0466\n",
            "Epoch 87/250\n",
            "3/3 [==============================] - 0s 16ms/step - loss: 0.0032 - mse: 0.0032 - mae: 0.0450 - val_loss: 0.0034 - val_mse: 0.0034 - val_mae: 0.0464\n",
            "Epoch 88/250\n",
            "3/3 [==============================] - 0s 15ms/step - loss: 0.0032 - mse: 0.0032 - mae: 0.0449 - val_loss: 0.0034 - val_mse: 0.0034 - val_mae: 0.0461\n",
            "Epoch 89/250\n",
            "3/3 [==============================] - 0s 15ms/step - loss: 0.0032 - mse: 0.0032 - mae: 0.0448 - val_loss: 0.0033 - val_mse: 0.0033 - val_mae: 0.0459\n",
            "Epoch 90/250\n",
            "3/3 [==============================] - 0s 16ms/step - loss: 0.0032 - mse: 0.0032 - mae: 0.0447 - val_loss: 0.0033 - val_mse: 0.0033 - val_mae: 0.0456\n",
            "Epoch 91/250\n",
            "3/3 [==============================] - 0s 17ms/step - loss: 0.0032 - mse: 0.0032 - mae: 0.0446 - val_loss: 0.0033 - val_mse: 0.0033 - val_mae: 0.0453\n",
            "Epoch 92/250\n",
            "3/3 [==============================] - 0s 16ms/step - loss: 0.0031 - mse: 0.0031 - mae: 0.0445 - val_loss: 0.0033 - val_mse: 0.0033 - val_mae: 0.0453\n",
            "Epoch 93/250\n",
            "3/3 [==============================] - 0s 26ms/step - loss: 0.0031 - mse: 0.0031 - mae: 0.0444 - val_loss: 0.0033 - val_mse: 0.0033 - val_mae: 0.0452\n",
            "Epoch 94/250\n",
            "3/3 [==============================] - 0s 13ms/step - loss: 0.0031 - mse: 0.0031 - mae: 0.0444 - val_loss: 0.0033 - val_mse: 0.0033 - val_mae: 0.0455\n",
            "Epoch 95/250\n",
            "3/3 [==============================] - 0s 15ms/step - loss: 0.0031 - mse: 0.0031 - mae: 0.0442 - val_loss: 0.0033 - val_mse: 0.0033 - val_mae: 0.0453\n",
            "Epoch 96/250\n",
            "3/3 [==============================] - 0s 15ms/step - loss: 0.0031 - mse: 0.0031 - mae: 0.0441 - val_loss: 0.0033 - val_mse: 0.0033 - val_mae: 0.0451\n",
            "Epoch 97/250\n",
            "3/3 [==============================] - 0s 18ms/step - loss: 0.0030 - mse: 0.0030 - mae: 0.0439 - val_loss: 0.0032 - val_mse: 0.0032 - val_mae: 0.0448\n",
            "Epoch 98/250\n",
            "3/3 [==============================] - 0s 20ms/step - loss: 0.0030 - mse: 0.0030 - mae: 0.0439 - val_loss: 0.0032 - val_mse: 0.0032 - val_mae: 0.0449\n",
            "Epoch 99/250\n",
            "3/3 [==============================] - 0s 15ms/step - loss: 0.0030 - mse: 0.0030 - mae: 0.0437 - val_loss: 0.0032 - val_mse: 0.0032 - val_mae: 0.0446\n",
            "Epoch 100/250\n",
            "3/3 [==============================] - 0s 15ms/step - loss: 0.0030 - mse: 0.0030 - mae: 0.0436 - val_loss: 0.0032 - val_mse: 0.0032 - val_mae: 0.0442\n",
            "Epoch 101/250\n",
            "3/3 [==============================] - 0s 16ms/step - loss: 0.0030 - mse: 0.0030 - mae: 0.0435 - val_loss: 0.0032 - val_mse: 0.0032 - val_mae: 0.0441\n",
            "Epoch 102/250\n",
            "3/3 [==============================] - 0s 15ms/step - loss: 0.0030 - mse: 0.0030 - mae: 0.0434 - val_loss: 0.0031 - val_mse: 0.0031 - val_mae: 0.0439\n",
            "Epoch 103/250\n",
            "3/3 [==============================] - 0s 16ms/step - loss: 0.0030 - mse: 0.0030 - mae: 0.0433 - val_loss: 0.0031 - val_mse: 0.0031 - val_mae: 0.0440\n",
            "Epoch 104/250\n",
            "3/3 [==============================] - 0s 19ms/step - loss: 0.0029 - mse: 0.0029 - mae: 0.0432 - val_loss: 0.0031 - val_mse: 0.0031 - val_mae: 0.0438\n",
            "Epoch 105/250\n",
            "3/3 [==============================] - 0s 17ms/step - loss: 0.0029 - mse: 0.0029 - mae: 0.0431 - val_loss: 0.0031 - val_mse: 0.0031 - val_mae: 0.0437\n",
            "Epoch 106/250\n",
            "3/3 [==============================] - 0s 16ms/step - loss: 0.0029 - mse: 0.0029 - mae: 0.0430 - val_loss: 0.0031 - val_mse: 0.0031 - val_mae: 0.0437\n",
            "Epoch 107/250\n",
            "3/3 [==============================] - 0s 16ms/step - loss: 0.0029 - mse: 0.0029 - mae: 0.0429 - val_loss: 0.0031 - val_mse: 0.0031 - val_mae: 0.0437\n",
            "Epoch 108/250\n",
            "3/3 [==============================] - 0s 15ms/step - loss: 0.0029 - mse: 0.0029 - mae: 0.0429 - val_loss: 0.0031 - val_mse: 0.0031 - val_mae: 0.0436\n",
            "Epoch 109/250\n",
            "3/3 [==============================] - 0s 14ms/step - loss: 0.0029 - mse: 0.0029 - mae: 0.0428 - val_loss: 0.0031 - val_mse: 0.0031 - val_mae: 0.0434\n",
            "Epoch 110/250\n",
            "3/3 [==============================] - 0s 17ms/step - loss: 0.0029 - mse: 0.0029 - mae: 0.0427 - val_loss: 0.0031 - val_mse: 0.0031 - val_mae: 0.0434\n",
            "Epoch 111/250\n",
            "3/3 [==============================] - 0s 16ms/step - loss: 0.0029 - mse: 0.0029 - mae: 0.0426 - val_loss: 0.0030 - val_mse: 0.0030 - val_mae: 0.0432\n",
            "Epoch 112/250\n",
            "3/3 [==============================] - 0s 17ms/step - loss: 0.0028 - mse: 0.0028 - mae: 0.0425 - val_loss: 0.0031 - val_mse: 0.0031 - val_mae: 0.0433\n",
            "Epoch 113/250\n",
            "3/3 [==============================] - 0s 18ms/step - loss: 0.0028 - mse: 0.0028 - mae: 0.0425 - val_loss: 0.0030 - val_mse: 0.0030 - val_mae: 0.0432\n",
            "Epoch 114/250\n",
            "3/3 [==============================] - 0s 16ms/step - loss: 0.0028 - mse: 0.0028 - mae: 0.0423 - val_loss: 0.0030 - val_mse: 0.0030 - val_mae: 0.0429\n",
            "Epoch 115/250\n",
            "3/3 [==============================] - 0s 16ms/step - loss: 0.0028 - mse: 0.0028 - mae: 0.0423 - val_loss: 0.0030 - val_mse: 0.0030 - val_mae: 0.0430\n",
            "Epoch 116/250\n",
            "3/3 [==============================] - 0s 15ms/step - loss: 0.0028 - mse: 0.0028 - mae: 0.0422 - val_loss: 0.0030 - val_mse: 0.0030 - val_mae: 0.0426\n",
            "Epoch 117/250\n",
            "3/3 [==============================] - 0s 15ms/step - loss: 0.0028 - mse: 0.0028 - mae: 0.0421 - val_loss: 0.0030 - val_mse: 0.0030 - val_mae: 0.0428\n",
            "Epoch 118/250\n",
            "3/3 [==============================] - 0s 16ms/step - loss: 0.0028 - mse: 0.0028 - mae: 0.0421 - val_loss: 0.0030 - val_mse: 0.0030 - val_mae: 0.0429\n",
            "Epoch 119/250\n",
            "3/3 [==============================] - 0s 18ms/step - loss: 0.0028 - mse: 0.0028 - mae: 0.0419 - val_loss: 0.0030 - val_mse: 0.0030 - val_mae: 0.0424\n",
            "Epoch 120/250\n",
            "3/3 [==============================] - 0s 22ms/step - loss: 0.0028 - mse: 0.0028 - mae: 0.0418 - val_loss: 0.0029 - val_mse: 0.0029 - val_mae: 0.0424\n",
            "Epoch 121/250\n",
            "3/3 [==============================] - 0s 16ms/step - loss: 0.0027 - mse: 0.0027 - mae: 0.0418 - val_loss: 0.0029 - val_mse: 0.0029 - val_mae: 0.0424\n",
            "Epoch 122/250\n",
            "3/3 [==============================] - 0s 22ms/step - loss: 0.0027 - mse: 0.0027 - mae: 0.0416 - val_loss: 0.0029 - val_mse: 0.0029 - val_mae: 0.0422\n",
            "Epoch 123/250\n",
            "3/3 [==============================] - 0s 15ms/step - loss: 0.0027 - mse: 0.0027 - mae: 0.0416 - val_loss: 0.0029 - val_mse: 0.0029 - val_mae: 0.0422\n",
            "Epoch 124/250\n",
            "3/3 [==============================] - 0s 25ms/step - loss: 0.0027 - mse: 0.0027 - mae: 0.0415 - val_loss: 0.0029 - val_mse: 0.0029 - val_mae: 0.0421\n",
            "Epoch 125/250\n",
            "3/3 [==============================] - 0s 16ms/step - loss: 0.0027 - mse: 0.0027 - mae: 0.0414 - val_loss: 0.0029 - val_mse: 0.0029 - val_mae: 0.0422\n",
            "Epoch 126/250\n",
            "3/3 [==============================] - 0s 15ms/step - loss: 0.0027 - mse: 0.0027 - mae: 0.0415 - val_loss: 0.0030 - val_mse: 0.0030 - val_mae: 0.0427\n",
            "Epoch 127/250\n",
            "3/3 [==============================] - 0s 16ms/step - loss: 0.0027 - mse: 0.0027 - mae: 0.0414 - val_loss: 0.0030 - val_mse: 0.0030 - val_mae: 0.0431\n",
            "Epoch 128/250\n",
            "3/3 [==============================] - 0s 16ms/step - loss: 0.0027 - mse: 0.0027 - mae: 0.0413 - val_loss: 0.0029 - val_mse: 0.0029 - val_mae: 0.0427\n",
            "Epoch 129/250\n",
            "3/3 [==============================] - 0s 17ms/step - loss: 0.0027 - mse: 0.0027 - mae: 0.0412 - val_loss: 0.0028 - val_mse: 0.0028 - val_mae: 0.0420\n",
            "Epoch 130/250\n",
            "3/3 [==============================] - 0s 17ms/step - loss: 0.0027 - mse: 0.0027 - mae: 0.0410 - val_loss: 0.0028 - val_mse: 0.0028 - val_mae: 0.0418\n",
            "Epoch 131/250\n",
            "3/3 [==============================] - 0s 16ms/step - loss: 0.0027 - mse: 0.0027 - mae: 0.0409 - val_loss: 0.0029 - val_mse: 0.0029 - val_mae: 0.0421\n",
            "Epoch 132/250\n",
            "3/3 [==============================] - 0s 28ms/step - loss: 0.0026 - mse: 0.0026 - mae: 0.0409 - val_loss: 0.0029 - val_mse: 0.0029 - val_mae: 0.0422\n",
            "Epoch 133/250\n",
            "3/3 [==============================] - 0s 17ms/step - loss: 0.0026 - mse: 0.0026 - mae: 0.0408 - val_loss: 0.0028 - val_mse: 0.0028 - val_mae: 0.0421\n",
            "Epoch 134/250\n",
            "3/3 [==============================] - 0s 16ms/step - loss: 0.0026 - mse: 0.0026 - mae: 0.0407 - val_loss: 0.0028 - val_mse: 0.0028 - val_mae: 0.0422\n",
            "Epoch 135/250\n",
            "3/3 [==============================] - 0s 15ms/step - loss: 0.0026 - mse: 0.0026 - mae: 0.0406 - val_loss: 0.0029 - val_mse: 0.0029 - val_mae: 0.0424\n",
            "Epoch 136/250\n",
            "3/3 [==============================] - 0s 19ms/step - loss: 0.0026 - mse: 0.0026 - mae: 0.0406 - val_loss: 0.0029 - val_mse: 0.0029 - val_mae: 0.0426\n",
            "Epoch 137/250\n",
            "3/3 [==============================] - 0s 15ms/step - loss: 0.0026 - mse: 0.0026 - mae: 0.0406 - val_loss: 0.0029 - val_mse: 0.0029 - val_mae: 0.0426\n",
            "Epoch 138/250\n",
            "3/3 [==============================] - 0s 19ms/step - loss: 0.0026 - mse: 0.0026 - mae: 0.0405 - val_loss: 0.0029 - val_mse: 0.0029 - val_mae: 0.0425\n",
            "Epoch 139/250\n",
            "3/3 [==============================] - 0s 15ms/step - loss: 0.0026 - mse: 0.0026 - mae: 0.0404 - val_loss: 0.0028 - val_mse: 0.0028 - val_mae: 0.0420\n",
            "Epoch 140/250\n",
            "3/3 [==============================] - 0s 17ms/step - loss: 0.0026 - mse: 0.0026 - mae: 0.0402 - val_loss: 0.0028 - val_mse: 0.0028 - val_mae: 0.0419\n",
            "Epoch 141/250\n",
            "3/3 [==============================] - 0s 19ms/step - loss: 0.0026 - mse: 0.0026 - mae: 0.0402 - val_loss: 0.0028 - val_mse: 0.0028 - val_mae: 0.0421\n",
            "Epoch 142/250\n",
            "3/3 [==============================] - 0s 17ms/step - loss: 0.0026 - mse: 0.0026 - mae: 0.0401 - val_loss: 0.0028 - val_mse: 0.0028 - val_mae: 0.0423\n",
            "Epoch 143/250\n",
            "3/3 [==============================] - 0s 18ms/step - loss: 0.0026 - mse: 0.0026 - mae: 0.0401 - val_loss: 0.0028 - val_mse: 0.0028 - val_mae: 0.0423\n",
            "Epoch 144/250\n",
            "3/3 [==============================] - 0s 19ms/step - loss: 0.0025 - mse: 0.0025 - mae: 0.0400 - val_loss: 0.0028 - val_mse: 0.0028 - val_mae: 0.0424\n",
            "Epoch 145/250\n",
            "3/3 [==============================] - 0s 16ms/step - loss: 0.0025 - mse: 0.0025 - mae: 0.0400 - val_loss: 0.0028 - val_mse: 0.0028 - val_mae: 0.0423\n",
            "Epoch 146/250\n",
            "3/3 [==============================] - 0s 25ms/step - loss: 0.0025 - mse: 0.0025 - mae: 0.0399 - val_loss: 0.0028 - val_mse: 0.0028 - val_mae: 0.0421\n",
            "Epoch 147/250\n",
            "3/3 [==============================] - 0s 20ms/step - loss: 0.0025 - mse: 0.0025 - mae: 0.0398 - val_loss: 0.0027 - val_mse: 0.0027 - val_mae: 0.0418\n",
            "Epoch 148/250\n",
            "3/3 [==============================] - 0s 16ms/step - loss: 0.0025 - mse: 0.0025 - mae: 0.0397 - val_loss: 0.0027 - val_mse: 0.0027 - val_mae: 0.0421\n",
            "Epoch 149/250\n",
            "3/3 [==============================] - 0s 16ms/step - loss: 0.0025 - mse: 0.0025 - mae: 0.0397 - val_loss: 0.0028 - val_mse: 0.0028 - val_mae: 0.0422\n",
            "Epoch 150/250\n",
            "3/3 [==============================] - 0s 25ms/step - loss: 0.0025 - mse: 0.0025 - mae: 0.0396 - val_loss: 0.0028 - val_mse: 0.0028 - val_mae: 0.0424\n",
            "Epoch 151/250\n",
            "3/3 [==============================] - 0s 16ms/step - loss: 0.0025 - mse: 0.0025 - mae: 0.0396 - val_loss: 0.0028 - val_mse: 0.0028 - val_mae: 0.0424\n",
            "Epoch 152/250\n",
            "3/3 [==============================] - 0s 16ms/step - loss: 0.0025 - mse: 0.0025 - mae: 0.0395 - val_loss: 0.0028 - val_mse: 0.0028 - val_mae: 0.0424\n",
            "Epoch 153/250\n",
            "3/3 [==============================] - 0s 16ms/step - loss: 0.0025 - mse: 0.0025 - mae: 0.0395 - val_loss: 0.0028 - val_mse: 0.0028 - val_mae: 0.0425\n",
            "Epoch 154/250\n",
            "3/3 [==============================] - 0s 18ms/step - loss: 0.0025 - mse: 0.0025 - mae: 0.0394 - val_loss: 0.0027 - val_mse: 0.0027 - val_mae: 0.0423\n",
            "Epoch 155/250\n",
            "3/3 [==============================] - 0s 18ms/step - loss: 0.0025 - mse: 0.0025 - mae: 0.0393 - val_loss: 0.0027 - val_mse: 0.0027 - val_mae: 0.0420\n",
            "Epoch 156/250\n",
            "3/3 [==============================] - 0s 16ms/step - loss: 0.0025 - mse: 0.0025 - mae: 0.0392 - val_loss: 0.0026 - val_mse: 0.0026 - val_mae: 0.0418\n",
            "Epoch 157/250\n",
            "3/3 [==============================] - 0s 15ms/step - loss: 0.0025 - mse: 0.0025 - mae: 0.0393 - val_loss: 0.0027 - val_mse: 0.0027 - val_mae: 0.0422\n",
            "Epoch 158/250\n",
            "3/3 [==============================] - 0s 19ms/step - loss: 0.0025 - mse: 0.0025 - mae: 0.0391 - val_loss: 0.0027 - val_mse: 0.0027 - val_mae: 0.0422\n",
            "Epoch 159/250\n",
            "3/3 [==============================] - 0s 17ms/step - loss: 0.0025 - mse: 0.0025 - mae: 0.0390 - val_loss: 0.0027 - val_mse: 0.0027 - val_mae: 0.0422\n",
            "Epoch 160/250\n",
            "3/3 [==============================] - 0s 17ms/step - loss: 0.0024 - mse: 0.0024 - mae: 0.0390 - val_loss: 0.0027 - val_mse: 0.0027 - val_mae: 0.0422\n",
            "Epoch 161/250\n",
            "3/3 [==============================] - 0s 19ms/step - loss: 0.0024 - mse: 0.0024 - mae: 0.0389 - val_loss: 0.0027 - val_mse: 0.0027 - val_mae: 0.0423\n",
            "Epoch 162/250\n",
            "3/3 [==============================] - 0s 18ms/step - loss: 0.0024 - mse: 0.0024 - mae: 0.0389 - val_loss: 0.0027 - val_mse: 0.0027 - val_mae: 0.0423\n",
            "Epoch 163/250\n",
            "3/3 [==============================] - 0s 17ms/step - loss: 0.0024 - mse: 0.0024 - mae: 0.0388 - val_loss: 0.0027 - val_mse: 0.0027 - val_mae: 0.0421\n",
            "Epoch 164/250\n",
            "3/3 [==============================] - 0s 19ms/step - loss: 0.0024 - mse: 0.0024 - mae: 0.0388 - val_loss: 0.0027 - val_mse: 0.0027 - val_mae: 0.0422\n",
            "Epoch 165/250\n",
            "3/3 [==============================] - 0s 15ms/step - loss: 0.0024 - mse: 0.0024 - mae: 0.0387 - val_loss: 0.0027 - val_mse: 0.0027 - val_mae: 0.0422\n",
            "Epoch 166/250\n",
            "3/3 [==============================] - 0s 19ms/step - loss: 0.0024 - mse: 0.0024 - mae: 0.0387 - val_loss: 0.0026 - val_mse: 0.0026 - val_mae: 0.0420\n",
            "Epoch 167/250\n",
            "3/3 [==============================] - 0s 26ms/step - loss: 0.0024 - mse: 0.0024 - mae: 0.0385 - val_loss: 0.0026 - val_mse: 0.0026 - val_mae: 0.0421\n",
            "Epoch 168/250\n",
            "3/3 [==============================] - 0s 18ms/step - loss: 0.0024 - mse: 0.0024 - mae: 0.0385 - val_loss: 0.0027 - val_mse: 0.0027 - val_mae: 0.0424\n",
            "Epoch 169/250\n",
            "3/3 [==============================] - 0s 17ms/step - loss: 0.0024 - mse: 0.0024 - mae: 0.0385 - val_loss: 0.0027 - val_mse: 0.0027 - val_mae: 0.0423\n",
            "Epoch 170/250\n",
            "3/3 [==============================] - 0s 16ms/step - loss: 0.0024 - mse: 0.0024 - mae: 0.0385 - val_loss: 0.0027 - val_mse: 0.0027 - val_mae: 0.0426\n",
            "Epoch 171/250\n",
            "3/3 [==============================] - 0s 17ms/step - loss: 0.0024 - mse: 0.0024 - mae: 0.0384 - val_loss: 0.0027 - val_mse: 0.0027 - val_mae: 0.0425\n",
            "Epoch 172/250\n",
            "3/3 [==============================] - 0s 15ms/step - loss: 0.0024 - mse: 0.0024 - mae: 0.0384 - val_loss: 0.0027 - val_mse: 0.0027 - val_mae: 0.0423\n",
            "Epoch 173/250\n",
            "3/3 [==============================] - 0s 18ms/step - loss: 0.0024 - mse: 0.0024 - mae: 0.0383 - val_loss: 0.0027 - val_mse: 0.0027 - val_mae: 0.0423\n",
            "Epoch 174/250\n",
            "3/3 [==============================] - 0s 17ms/step - loss: 0.0024 - mse: 0.0024 - mae: 0.0382 - val_loss: 0.0026 - val_mse: 0.0026 - val_mae: 0.0422\n",
            "Epoch 175/250\n",
            "3/3 [==============================] - 0s 16ms/step - loss: 0.0024 - mse: 0.0024 - mae: 0.0383 - val_loss: 0.0027 - val_mse: 0.0027 - val_mae: 0.0425\n",
            "Epoch 176/250\n",
            "3/3 [==============================] - 0s 21ms/step - loss: 0.0024 - mse: 0.0024 - mae: 0.0382 - val_loss: 0.0026 - val_mse: 0.0026 - val_mae: 0.0423\n",
            "Epoch 177/250\n",
            "3/3 [==============================] - 0s 18ms/step - loss: 0.0024 - mse: 0.0024 - mae: 0.0381 - val_loss: 0.0026 - val_mse: 0.0026 - val_mae: 0.0422\n",
            "Epoch 178/250\n",
            "3/3 [==============================] - 0s 16ms/step - loss: 0.0024 - mse: 0.0024 - mae: 0.0380 - val_loss: 0.0026 - val_mse: 0.0026 - val_mae: 0.0421\n",
            "Epoch 179/250\n",
            "3/3 [==============================] - 0s 18ms/step - loss: 0.0024 - mse: 0.0024 - mae: 0.0380 - val_loss: 0.0026 - val_mse: 0.0026 - val_mae: 0.0423\n",
            "Epoch 180/250\n",
            "3/3 [==============================] - 0s 17ms/step - loss: 0.0024 - mse: 0.0024 - mae: 0.0380 - val_loss: 0.0027 - val_mse: 0.0027 - val_mae: 0.0424\n",
            "Epoch 181/250\n",
            "3/3 [==============================] - 0s 15ms/step - loss: 0.0023 - mse: 0.0023 - mae: 0.0379 - val_loss: 0.0026 - val_mse: 0.0026 - val_mae: 0.0422\n",
            "Epoch 182/250\n",
            "3/3 [==============================] - 0s 19ms/step - loss: 0.0023 - mse: 0.0023 - mae: 0.0378 - val_loss: 0.0026 - val_mse: 0.0026 - val_mae: 0.0422\n",
            "Epoch 183/250\n",
            "3/3 [==============================] - 0s 18ms/step - loss: 0.0023 - mse: 0.0023 - mae: 0.0378 - val_loss: 0.0026 - val_mse: 0.0026 - val_mae: 0.0422\n",
            "Epoch 184/250\n",
            "3/3 [==============================] - 0s 18ms/step - loss: 0.0023 - mse: 0.0023 - mae: 0.0378 - val_loss: 0.0026 - val_mse: 0.0026 - val_mae: 0.0423\n",
            "Epoch 185/250\n",
            "3/3 [==============================] - 0s 14ms/step - loss: 0.0023 - mse: 0.0023 - mae: 0.0377 - val_loss: 0.0026 - val_mse: 0.0026 - val_mae: 0.0423\n",
            "Epoch 186/250\n",
            "3/3 [==============================] - 0s 17ms/step - loss: 0.0023 - mse: 0.0023 - mae: 0.0377 - val_loss: 0.0026 - val_mse: 0.0026 - val_mae: 0.0422\n",
            "Epoch 187/250\n",
            "3/3 [==============================] - 0s 18ms/step - loss: 0.0023 - mse: 0.0023 - mae: 0.0377 - val_loss: 0.0026 - val_mse: 0.0026 - val_mae: 0.0423\n",
            "Epoch 188/250\n",
            "3/3 [==============================] - 0s 20ms/step - loss: 0.0023 - mse: 0.0023 - mae: 0.0377 - val_loss: 0.0026 - val_mse: 0.0026 - val_mae: 0.0425\n",
            "Epoch 189/250\n",
            "3/3 [==============================] - 0s 16ms/step - loss: 0.0023 - mse: 0.0023 - mae: 0.0376 - val_loss: 0.0026 - val_mse: 0.0026 - val_mae: 0.0422\n",
            "Epoch 190/250\n",
            "3/3 [==============================] - 0s 19ms/step - loss: 0.0023 - mse: 0.0023 - mae: 0.0375 - val_loss: 0.0026 - val_mse: 0.0026 - val_mae: 0.0421\n",
            "Epoch 191/250\n",
            "3/3 [==============================] - 0s 16ms/step - loss: 0.0023 - mse: 0.0023 - mae: 0.0375 - val_loss: 0.0026 - val_mse: 0.0026 - val_mae: 0.0421\n",
            "Epoch 192/250\n",
            "3/3 [==============================] - 0s 14ms/step - loss: 0.0023 - mse: 0.0023 - mae: 0.0375 - val_loss: 0.0026 - val_mse: 0.0026 - val_mae: 0.0422\n",
            "Epoch 193/250\n",
            "3/3 [==============================] - 0s 14ms/step - loss: 0.0023 - mse: 0.0023 - mae: 0.0374 - val_loss: 0.0026 - val_mse: 0.0026 - val_mae: 0.0423\n",
            "Epoch 194/250\n",
            "3/3 [==============================] - 0s 16ms/step - loss: 0.0023 - mse: 0.0023 - mae: 0.0374 - val_loss: 0.0026 - val_mse: 0.0026 - val_mae: 0.0423\n",
            "Epoch 195/250\n",
            "3/3 [==============================] - 0s 16ms/step - loss: 0.0023 - mse: 0.0023 - mae: 0.0374 - val_loss: 0.0026 - val_mse: 0.0026 - val_mae: 0.0425\n",
            "Epoch 196/250\n",
            "3/3 [==============================] - 0s 15ms/step - loss: 0.0023 - mse: 0.0023 - mae: 0.0374 - val_loss: 0.0026 - val_mse: 0.0026 - val_mae: 0.0427\n",
            "Epoch 197/250\n",
            "3/3 [==============================] - 0s 15ms/step - loss: 0.0023 - mse: 0.0023 - mae: 0.0373 - val_loss: 0.0026 - val_mse: 0.0026 - val_mae: 0.0424\n",
            "Epoch 198/250\n",
            "3/3 [==============================] - 0s 17ms/step - loss: 0.0023 - mse: 0.0023 - mae: 0.0372 - val_loss: 0.0025 - val_mse: 0.0025 - val_mae: 0.0421\n",
            "Epoch 199/250\n",
            "3/3 [==============================] - 0s 22ms/step - loss: 0.0023 - mse: 0.0023 - mae: 0.0372 - val_loss: 0.0025 - val_mse: 0.0025 - val_mae: 0.0420\n",
            "Epoch 200/250\n",
            "3/3 [==============================] - 0s 17ms/step - loss: 0.0023 - mse: 0.0023 - mae: 0.0372 - val_loss: 0.0025 - val_mse: 0.0025 - val_mae: 0.0419\n",
            "Epoch 201/250\n",
            "3/3 [==============================] - 0s 17ms/step - loss: 0.0023 - mse: 0.0023 - mae: 0.0372 - val_loss: 0.0025 - val_mse: 0.0025 - val_mae: 0.0421\n",
            "Epoch 202/250\n",
            "3/3 [==============================] - 0s 17ms/step - loss: 0.0023 - mse: 0.0023 - mae: 0.0373 - val_loss: 0.0026 - val_mse: 0.0026 - val_mae: 0.0427\n",
            "Epoch 203/250\n",
            "3/3 [==============================] - 0s 15ms/step - loss: 0.0023 - mse: 0.0023 - mae: 0.0372 - val_loss: 0.0026 - val_mse: 0.0026 - val_mae: 0.0425\n",
            "Epoch 204/250\n",
            "3/3 [==============================] - 0s 15ms/step - loss: 0.0023 - mse: 0.0023 - mae: 0.0372 - val_loss: 0.0026 - val_mse: 0.0026 - val_mae: 0.0427\n",
            "Epoch 205/250\n",
            "3/3 [==============================] - 0s 14ms/step - loss: 0.0023 - mse: 0.0023 - mae: 0.0371 - val_loss: 0.0026 - val_mse: 0.0026 - val_mae: 0.0423\n",
            "Epoch 206/250\n",
            "3/3 [==============================] - 0s 18ms/step - loss: 0.0023 - mse: 0.0023 - mae: 0.0371 - val_loss: 0.0025 - val_mse: 0.0025 - val_mae: 0.0419\n",
            "Epoch 207/250\n",
            "3/3 [==============================] - 0s 17ms/step - loss: 0.0023 - mse: 0.0023 - mae: 0.0371 - val_loss: 0.0025 - val_mse: 0.0025 - val_mae: 0.0421\n",
            "Epoch 208/250\n",
            "3/3 [==============================] - 0s 17ms/step - loss: 0.0022 - mse: 0.0022 - mae: 0.0370 - val_loss: 0.0026 - val_mse: 0.0026 - val_mae: 0.0424\n",
            "Epoch 209/250\n",
            "3/3 [==============================] - 0s 16ms/step - loss: 0.0022 - mse: 0.0022 - mae: 0.0370 - val_loss: 0.0026 - val_mse: 0.0026 - val_mae: 0.0424\n",
            "Epoch 210/250\n",
            "3/3 [==============================] - 0s 17ms/step - loss: 0.0022 - mse: 0.0022 - mae: 0.0369 - val_loss: 0.0026 - val_mse: 0.0026 - val_mae: 0.0424\n",
            "Epoch 211/250\n",
            "3/3 [==============================] - 0s 18ms/step - loss: 0.0022 - mse: 0.0022 - mae: 0.0370 - val_loss: 0.0026 - val_mse: 0.0026 - val_mae: 0.0424\n",
            "Epoch 212/250\n",
            "3/3 [==============================] - 0s 18ms/step - loss: 0.0023 - mse: 0.0023 - mae: 0.0371 - val_loss: 0.0025 - val_mse: 0.0025 - val_mae: 0.0420\n",
            "Epoch 213/250\n",
            "3/3 [==============================] - 0s 16ms/step - loss: 0.0022 - mse: 0.0022 - mae: 0.0370 - val_loss: 0.0026 - val_mse: 0.0026 - val_mae: 0.0424\n",
            "Epoch 214/250\n",
            "3/3 [==============================] - 0s 28ms/step - loss: 0.0022 - mse: 0.0022 - mae: 0.0370 - val_loss: 0.0026 - val_mse: 0.0026 - val_mae: 0.0426\n",
            "Epoch 215/250\n",
            "3/3 [==============================] - 0s 24ms/step - loss: 0.0022 - mse: 0.0022 - mae: 0.0369 - val_loss: 0.0025 - val_mse: 0.0025 - val_mae: 0.0423\n",
            "Epoch 216/250\n",
            "3/3 [==============================] - 0s 16ms/step - loss: 0.0022 - mse: 0.0022 - mae: 0.0368 - val_loss: 0.0025 - val_mse: 0.0025 - val_mae: 0.0421\n",
            "Epoch 217/250\n",
            "3/3 [==============================] - 0s 22ms/step - loss: 0.0022 - mse: 0.0022 - mae: 0.0368 - val_loss: 0.0025 - val_mse: 0.0025 - val_mae: 0.0421\n",
            "Epoch 218/250\n",
            "3/3 [==============================] - 0s 18ms/step - loss: 0.0022 - mse: 0.0022 - mae: 0.0367 - val_loss: 0.0025 - val_mse: 0.0025 - val_mae: 0.0422\n",
            "Epoch 219/250\n",
            "3/3 [==============================] - 0s 15ms/step - loss: 0.0022 - mse: 0.0022 - mae: 0.0368 - val_loss: 0.0025 - val_mse: 0.0025 - val_mae: 0.0421\n",
            "Epoch 220/250\n",
            "3/3 [==============================] - 0s 17ms/step - loss: 0.0022 - mse: 0.0022 - mae: 0.0367 - val_loss: 0.0026 - val_mse: 0.0026 - val_mae: 0.0424\n",
            "Epoch 221/250\n",
            "3/3 [==============================] - 0s 15ms/step - loss: 0.0022 - mse: 0.0022 - mae: 0.0368 - val_loss: 0.0026 - val_mse: 0.0026 - val_mae: 0.0427\n",
            "Epoch 222/250\n",
            "3/3 [==============================] - 0s 15ms/step - loss: 0.0022 - mse: 0.0022 - mae: 0.0368 - val_loss: 0.0025 - val_mse: 0.0025 - val_mae: 0.0423\n",
            "Epoch 223/250\n",
            "3/3 [==============================] - 0s 17ms/step - loss: 0.0022 - mse: 0.0022 - mae: 0.0366 - val_loss: 0.0025 - val_mse: 0.0025 - val_mae: 0.0423\n",
            "Epoch 224/250\n",
            "3/3 [==============================] - 0s 15ms/step - loss: 0.0022 - mse: 0.0022 - mae: 0.0366 - val_loss: 0.0025 - val_mse: 0.0025 - val_mae: 0.0422\n",
            "Epoch 225/250\n",
            "3/3 [==============================] - 0s 19ms/step - loss: 0.0022 - mse: 0.0022 - mae: 0.0366 - val_loss: 0.0025 - val_mse: 0.0025 - val_mae: 0.0420\n",
            "Epoch 226/250\n",
            "3/3 [==============================] - 0s 17ms/step - loss: 0.0022 - mse: 0.0022 - mae: 0.0365 - val_loss: 0.0025 - val_mse: 0.0025 - val_mae: 0.0421\n",
            "Epoch 227/250\n",
            "3/3 [==============================] - 0s 15ms/step - loss: 0.0022 - mse: 0.0022 - mae: 0.0365 - val_loss: 0.0025 - val_mse: 0.0025 - val_mae: 0.0423\n",
            "Epoch 228/250\n",
            "3/3 [==============================] - 0s 19ms/step - loss: 0.0022 - mse: 0.0022 - mae: 0.0365 - val_loss: 0.0025 - val_mse: 0.0025 - val_mae: 0.0423\n",
            "Epoch 229/250\n",
            "3/3 [==============================] - 0s 20ms/step - loss: 0.0022 - mse: 0.0022 - mae: 0.0365 - val_loss: 0.0025 - val_mse: 0.0025 - val_mae: 0.0424\n",
            "Epoch 230/250\n",
            "3/3 [==============================] - 0s 17ms/step - loss: 0.0022 - mse: 0.0022 - mae: 0.0365 - val_loss: 0.0025 - val_mse: 0.0025 - val_mae: 0.0420\n",
            "Epoch 231/250\n",
            "3/3 [==============================] - 0s 15ms/step - loss: 0.0022 - mse: 0.0022 - mae: 0.0365 - val_loss: 0.0025 - val_mse: 0.0025 - val_mae: 0.0422\n",
            "Epoch 232/250\n",
            "3/3 [==============================] - 0s 17ms/step - loss: 0.0022 - mse: 0.0022 - mae: 0.0364 - val_loss: 0.0025 - val_mse: 0.0025 - val_mae: 0.0422\n",
            "Epoch 233/250\n",
            "3/3 [==============================] - 0s 21ms/step - loss: 0.0022 - mse: 0.0022 - mae: 0.0364 - val_loss: 0.0025 - val_mse: 0.0025 - val_mae: 0.0420\n",
            "Epoch 234/250\n",
            "3/3 [==============================] - 0s 18ms/step - loss: 0.0022 - mse: 0.0022 - mae: 0.0364 - val_loss: 0.0025 - val_mse: 0.0025 - val_mae: 0.0420\n",
            "Epoch 235/250\n",
            "3/3 [==============================] - 0s 21ms/step - loss: 0.0022 - mse: 0.0022 - mae: 0.0363 - val_loss: 0.0025 - val_mse: 0.0025 - val_mae: 0.0423\n",
            "Epoch 236/250\n",
            "3/3 [==============================] - 0s 17ms/step - loss: 0.0022 - mse: 0.0022 - mae: 0.0363 - val_loss: 0.0025 - val_mse: 0.0025 - val_mae: 0.0423\n",
            "Epoch 237/250\n",
            "3/3 [==============================] - 0s 18ms/step - loss: 0.0022 - mse: 0.0022 - mae: 0.0363 - val_loss: 0.0025 - val_mse: 0.0025 - val_mae: 0.0421\n",
            "Epoch 238/250\n",
            "3/3 [==============================] - 0s 19ms/step - loss: 0.0022 - mse: 0.0022 - mae: 0.0363 - val_loss: 0.0025 - val_mse: 0.0025 - val_mae: 0.0422\n",
            "Epoch 239/250\n",
            "3/3 [==============================] - 0s 19ms/step - loss: 0.0022 - mse: 0.0022 - mae: 0.0363 - val_loss: 0.0025 - val_mse: 0.0025 - val_mae: 0.0423\n",
            "Epoch 240/250\n",
            "3/3 [==============================] - 0s 17ms/step - loss: 0.0022 - mse: 0.0022 - mae: 0.0363 - val_loss: 0.0025 - val_mse: 0.0025 - val_mae: 0.0421\n",
            "Epoch 241/250\n",
            "3/3 [==============================] - 0s 17ms/step - loss: 0.0022 - mse: 0.0022 - mae: 0.0362 - val_loss: 0.0025 - val_mse: 0.0025 - val_mae: 0.0421\n",
            "Epoch 242/250\n",
            "3/3 [==============================] - 0s 16ms/step - loss: 0.0022 - mse: 0.0022 - mae: 0.0362 - val_loss: 0.0025 - val_mse: 0.0025 - val_mae: 0.0419\n",
            "Epoch 243/250\n",
            "3/3 [==============================] - 0s 20ms/step - loss: 0.0022 - mse: 0.0022 - mae: 0.0362 - val_loss: 0.0025 - val_mse: 0.0025 - val_mae: 0.0419\n",
            "Epoch 244/250\n",
            "3/3 [==============================] - 0s 18ms/step - loss: 0.0022 - mse: 0.0022 - mae: 0.0362 - val_loss: 0.0026 - val_mse: 0.0026 - val_mae: 0.0425\n",
            "Epoch 245/250\n",
            "3/3 [==============================] - 0s 17ms/step - loss: 0.0022 - mse: 0.0022 - mae: 0.0362 - val_loss: 0.0025 - val_mse: 0.0025 - val_mae: 0.0423\n",
            "Epoch 246/250\n",
            "3/3 [==============================] - 0s 20ms/step - loss: 0.0022 - mse: 0.0022 - mae: 0.0362 - val_loss: 0.0025 - val_mse: 0.0025 - val_mae: 0.0421\n",
            "Epoch 247/250\n",
            "3/3 [==============================] - 0s 17ms/step - loss: 0.0022 - mse: 0.0022 - mae: 0.0361 - val_loss: 0.0025 - val_mse: 0.0025 - val_mae: 0.0423\n",
            "Epoch 248/250\n",
            "3/3 [==============================] - 0s 15ms/step - loss: 0.0022 - mse: 0.0022 - mae: 0.0361 - val_loss: 0.0025 - val_mse: 0.0025 - val_mae: 0.0423\n",
            "Epoch 249/250\n",
            "3/3 [==============================] - 0s 17ms/step - loss: 0.0022 - mse: 0.0022 - mae: 0.0360 - val_loss: 0.0025 - val_mse: 0.0025 - val_mae: 0.0420\n",
            "Epoch 250/250\n",
            "3/3 [==============================] - 0s 16ms/step - loss: 0.0022 - mse: 0.0022 - mae: 0.0360 - val_loss: 0.0025 - val_mse: 0.0025 - val_mae: 0.0419\n"
          ]
        }
      ]
    },
    {
      "cell_type": "code",
      "metadata": {
        "colab": {
          "base_uri": "https://localhost:8080/",
          "height": 312
        },
        "id": "pJrZmQLhl0OM",
        "outputId": "1b78e6d9-d4ec-42bf-bd1c-1d015f692dbe"
      },
      "source": [
        "print(history.history.keys())\n",
        "# \"Loss\"\n",
        "plt.plot(history.history['loss'])\n",
        "plt.plot(history.history['val_loss'])\n",
        "plt.title('model loss')\n",
        "plt.ylabel('loss')\n",
        "plt.xlabel('epoch')\n",
        "plt.legend(['train', 'validation'], loc='upper left')\n",
        "plt.show()"
      ],
      "execution_count": null,
      "outputs": [
        {
          "output_type": "stream",
          "name": "stdout",
          "text": [
            "dict_keys(['loss', 'mse', 'mae', 'val_loss', 'val_mse', 'val_mae'])\n"
          ]
        },
        {
          "output_type": "display_data",
          "data": {
            "image/png": "[encoded data removed]",
            "text/plain": [
              "<Figure size 432x288 with 1 Axes>"
            ]
          },
          "metadata": {
            "needs_background": "light"
          }
        }
      ]
    },
    {
      "cell_type": "code",
      "metadata": {
        "id": "J1B0hOUmpEjG"
      },
      "source": [
        "ypred = model.predict(X_test)"
      ],
      "execution_count": null,
      "outputs": []
    },
    {
      "cell_type": "code",
      "metadata": {
        "id": "CxVmHT5zOP5I"
      },
      "source": [
        "mlp_pred = scaler_y.inverse_transform(ypred)"
      ],
      "execution_count": null,
      "outputs": []
    },
    {
      "cell_type": "code",
      "metadata": {
        "id": "DMrByxkusPOR"
      },
      "source": [
        "MLP_predictions = pd.DataFrame(mlp_pred, columns = ['Predictions'])"
      ],
      "execution_count": null,
      "outputs": []
    },
    {
      "cell_type": "code",
      "metadata": {
        "colab": {
          "base_uri": "https://localhost:8080/",
          "height": 204
        },
        "id": "GwFZnzKuuHga",
        "outputId": "da3d9544-b161-43db-cb7b-c763960d9122"
      },
      "source": [
        "MLP_predictions.head()"
      ],
      "execution_count": null,
      "outputs": [
        {
          "output_type": "execute_result",
          "data": {
            "text/html": [
              "<div>\n",
              "<style scoped>\n",
              "    .dataframe tbody tr th:only-of-type {\n",
              "        vertical-align: middle;\n",
              "    }\n",
              "\n",
              "    .dataframe tbody tr th {\n",
              "        vertical-align: top;\n",
              "    }\n",
              "\n",
              "    .dataframe thead th {\n",
              "        text-align: right;\n",
              "    }\n",
              "</style>\n",
              "<table border=\"1\" class=\"dataframe\">\n",
              "  <thead>\n",
              "    <tr style=\"text-align: right;\">\n",
              "      <th></th>\n",
              "      <th>Predictions</th>\n",
              "    </tr>\n",
              "  </thead>\n",
              "  <tbody>\n",
              "    <tr>\n",
              "      <th>0</th>\n",
              "      <td>418.773621</td>\n",
              "    </tr>\n",
              "    <tr>\n",
              "      <th>1</th>\n",
              "      <td>1363.503052</td>\n",
              "    </tr>\n",
              "    <tr>\n",
              "      <th>2</th>\n",
              "      <td>326.109131</td>\n",
              "    </tr>\n",
              "    <tr>\n",
              "      <th>3</th>\n",
              "      <td>645.592224</td>\n",
              "    </tr>\n",
              "    <tr>\n",
              "      <th>4</th>\n",
              "      <td>439.569336</td>\n",
              "    </tr>\n",
              "  </tbody>\n",
              "</table>\n",
              "</div>"
            ],
            "text/plain": [
              "   Predictions\n",
              "0   418.773621\n",
              "1  1363.503052\n",
              "2   326.109131\n",
              "3   645.592224\n",
              "4   439.569336"
            ]
          },
          "metadata": {},
          "execution_count": 140
        }
      ]
    },
    {
      "cell_type": "code",
      "metadata": {
        "id": "FbPeO3AdePVI"
      },
      "source": [
        "testY = scaler_y.inverse_transform(y_test)"
      ],
      "execution_count": null,
      "outputs": []
    },
    {
      "cell_type": "code",
      "metadata": {
        "id": "uIuu0bIQQpG_"
      },
      "source": [
        "testY2 = pd.DataFrame(testY, columns = ['Predictions'])"
      ],
      "execution_count": null,
      "outputs": []
    },
    {
      "cell_type": "code",
      "metadata": {
        "colab": {
          "base_uri": "https://localhost:8080/",
          "height": 204
        },
        "id": "B7Nl89H7wIiM",
        "outputId": "0c445936-f144-4237-be8b-7a3b19f5e88f"
      },
      "source": [
        "testY2.head()"
      ],
      "execution_count": null,
      "outputs": [
        {
          "output_type": "execute_result",
          "data": {
            "text/html": [
              "<div>\n",
              "<style scoped>\n",
              "    .dataframe tbody tr th:only-of-type {\n",
              "        vertical-align: middle;\n",
              "    }\n",
              "\n",
              "    .dataframe tbody tr th {\n",
              "        vertical-align: top;\n",
              "    }\n",
              "\n",
              "    .dataframe thead th {\n",
              "        text-align: right;\n",
              "    }\n",
              "</style>\n",
              "<table border=\"1\" class=\"dataframe\">\n",
              "  <thead>\n",
              "    <tr style=\"text-align: right;\">\n",
              "      <th></th>\n",
              "      <th>Predictions</th>\n",
              "    </tr>\n",
              "  </thead>\n",
              "  <tbody>\n",
              "    <tr>\n",
              "      <th>0</th>\n",
              "      <td>443.0</td>\n",
              "    </tr>\n",
              "    <tr>\n",
              "      <th>1</th>\n",
              "      <td>1293.0</td>\n",
              "    </tr>\n",
              "    <tr>\n",
              "      <th>2</th>\n",
              "      <td>323.0</td>\n",
              "    </tr>\n",
              "    <tr>\n",
              "      <th>3</th>\n",
              "      <td>661.0</td>\n",
              "    </tr>\n",
              "    <tr>\n",
              "      <th>4</th>\n",
              "      <td>466.0</td>\n",
              "    </tr>\n",
              "  </tbody>\n",
              "</table>\n",
              "</div>"
            ],
            "text/plain": [
              "   Predictions\n",
              "0        443.0\n",
              "1       1293.0\n",
              "2        323.0\n",
              "3        661.0\n",
              "4        466.0"
            ]
          },
          "metadata": {},
          "execution_count": 143
        }
      ]
    },
    {
      "cell_type": "code",
      "metadata": {
        "id": "2JSL_IgEOflz"
      },
      "source": [
        "ActPred = pd.DataFrame(np.concatenate([testY, mlp_pred], axis=1), columns= ['Actual','MLP Predicted'])"
      ],
      "execution_count": null,
      "outputs": []
    },
    {
      "cell_type": "code",
      "metadata": {
        "colab": {
          "base_uri": "https://localhost:8080/",
          "height": 1000
        },
        "id": "PBjmolcjiL0l",
        "outputId": "62a73475-f51e-40da-9638-74879189f6bd"
      },
      "source": [
        "ActPred "
      ],
      "execution_count": null,
      "outputs": [
        {
          "output_type": "execute_result",
          "data": {
            "text/html": [
              "<div>\n",
              "<style scoped>\n",
              "    .dataframe tbody tr th:only-of-type {\n",
              "        vertical-align: middle;\n",
              "    }\n",
              "\n",
              "    .dataframe tbody tr th {\n",
              "        vertical-align: top;\n",
              "    }\n",
              "\n",
              "    .dataframe thead th {\n",
              "        text-align: right;\n",
              "    }\n",
              "</style>\n",
              "<table border=\"1\" class=\"dataframe\">\n",
              "  <thead>\n",
              "    <tr style=\"text-align: right;\">\n",
              "      <th></th>\n",
              "      <th>Actual</th>\n",
              "      <th>MLP Predicted</th>\n",
              "    </tr>\n",
              "  </thead>\n",
              "  <tbody>\n",
              "    <tr>\n",
              "      <th>0</th>\n",
              "      <td>443.0</td>\n",
              "      <td>418.773621</td>\n",
              "    </tr>\n",
              "    <tr>\n",
              "      <th>1</th>\n",
              "      <td>1293.0</td>\n",
              "      <td>1363.503052</td>\n",
              "    </tr>\n",
              "    <tr>\n",
              "      <th>2</th>\n",
              "      <td>323.0</td>\n",
              "      <td>326.109131</td>\n",
              "    </tr>\n",
              "    <tr>\n",
              "      <th>3</th>\n",
              "      <td>661.0</td>\n",
              "      <td>645.592224</td>\n",
              "    </tr>\n",
              "    <tr>\n",
              "      <th>4</th>\n",
              "      <td>466.0</td>\n",
              "      <td>439.569336</td>\n",
              "    </tr>\n",
              "    <tr>\n",
              "      <th>5</th>\n",
              "      <td>388.0</td>\n",
              "      <td>451.841614</td>\n",
              "    </tr>\n",
              "    <tr>\n",
              "      <th>6</th>\n",
              "      <td>725.0</td>\n",
              "      <td>715.716125</td>\n",
              "    </tr>\n",
              "    <tr>\n",
              "      <th>7</th>\n",
              "      <td>566.0</td>\n",
              "      <td>519.049377</td>\n",
              "    </tr>\n",
              "    <tr>\n",
              "      <th>8</th>\n",
              "      <td>830.0</td>\n",
              "      <td>759.385925</td>\n",
              "    </tr>\n",
              "    <tr>\n",
              "      <th>9</th>\n",
              "      <td>467.0</td>\n",
              "      <td>482.655182</td>\n",
              "    </tr>\n",
              "    <tr>\n",
              "      <th>10</th>\n",
              "      <td>515.0</td>\n",
              "      <td>472.431976</td>\n",
              "    </tr>\n",
              "    <tr>\n",
              "      <th>11</th>\n",
              "      <td>265.0</td>\n",
              "      <td>303.573242</td>\n",
              "    </tr>\n",
              "    <tr>\n",
              "      <th>12</th>\n",
              "      <td>567.0</td>\n",
              "      <td>543.644165</td>\n",
              "    </tr>\n",
              "    <tr>\n",
              "      <th>13</th>\n",
              "      <td>390.0</td>\n",
              "      <td>440.378052</td>\n",
              "    </tr>\n",
              "    <tr>\n",
              "      <th>14</th>\n",
              "      <td>426.0</td>\n",
              "      <td>376.068451</td>\n",
              "    </tr>\n",
              "    <tr>\n",
              "      <th>15</th>\n",
              "      <td>454.0</td>\n",
              "      <td>416.904144</td>\n",
              "    </tr>\n",
              "    <tr>\n",
              "      <th>16</th>\n",
              "      <td>332.0</td>\n",
              "      <td>385.481567</td>\n",
              "    </tr>\n",
              "    <tr>\n",
              "      <th>17</th>\n",
              "      <td>382.0</td>\n",
              "      <td>452.229095</td>\n",
              "    </tr>\n",
              "    <tr>\n",
              "      <th>18</th>\n",
              "      <td>611.0</td>\n",
              "      <td>516.445312</td>\n",
              "    </tr>\n",
              "    <tr>\n",
              "      <th>19</th>\n",
              "      <td>446.0</td>\n",
              "      <td>506.580566</td>\n",
              "    </tr>\n",
              "    <tr>\n",
              "      <th>20</th>\n",
              "      <td>499.0</td>\n",
              "      <td>522.605286</td>\n",
              "    </tr>\n",
              "    <tr>\n",
              "      <th>21</th>\n",
              "      <td>288.0</td>\n",
              "      <td>298.188660</td>\n",
              "    </tr>\n",
              "    <tr>\n",
              "      <th>22</th>\n",
              "      <td>659.0</td>\n",
              "      <td>668.227417</td>\n",
              "    </tr>\n",
              "    <tr>\n",
              "      <th>23</th>\n",
              "      <td>873.0</td>\n",
              "      <td>765.108093</td>\n",
              "    </tr>\n",
              "    <tr>\n",
              "      <th>24</th>\n",
              "      <td>255.0</td>\n",
              "      <td>300.832062</td>\n",
              "    </tr>\n",
              "    <tr>\n",
              "      <th>25</th>\n",
              "      <td>561.0</td>\n",
              "      <td>536.185608</td>\n",
              "    </tr>\n",
              "    <tr>\n",
              "      <th>26</th>\n",
              "      <td>471.0</td>\n",
              "      <td>524.452576</td>\n",
              "    </tr>\n",
              "    <tr>\n",
              "      <th>27</th>\n",
              "      <td>616.0</td>\n",
              "      <td>544.183472</td>\n",
              "    </tr>\n",
              "    <tr>\n",
              "      <th>28</th>\n",
              "      <td>391.0</td>\n",
              "      <td>376.310852</td>\n",
              "    </tr>\n",
              "    <tr>\n",
              "      <th>29</th>\n",
              "      <td>439.0</td>\n",
              "      <td>424.650238</td>\n",
              "    </tr>\n",
              "    <tr>\n",
              "      <th>30</th>\n",
              "      <td>511.0</td>\n",
              "      <td>517.228394</td>\n",
              "    </tr>\n",
              "    <tr>\n",
              "      <th>31</th>\n",
              "      <td>486.0</td>\n",
              "      <td>437.865479</td>\n",
              "    </tr>\n",
              "    <tr>\n",
              "      <th>32</th>\n",
              "      <td>855.0</td>\n",
              "      <td>796.243652</td>\n",
              "    </tr>\n",
              "    <tr>\n",
              "      <th>33</th>\n",
              "      <td>562.0</td>\n",
              "      <td>565.334351</td>\n",
              "    </tr>\n",
              "    <tr>\n",
              "      <th>34</th>\n",
              "      <td>475.0</td>\n",
              "      <td>524.094543</td>\n",
              "    </tr>\n",
              "    <tr>\n",
              "      <th>35</th>\n",
              "      <td>408.0</td>\n",
              "      <td>362.502319</td>\n",
              "    </tr>\n",
              "    <tr>\n",
              "      <th>36</th>\n",
              "      <td>401.0</td>\n",
              "      <td>372.262970</td>\n",
              "    </tr>\n",
              "    <tr>\n",
              "      <th>37</th>\n",
              "      <td>514.0</td>\n",
              "      <td>530.726013</td>\n",
              "    </tr>\n",
              "    <tr>\n",
              "      <th>38</th>\n",
              "      <td>402.0</td>\n",
              "      <td>436.376221</td>\n",
              "    </tr>\n",
              "    <tr>\n",
              "      <th>39</th>\n",
              "      <td>381.0</td>\n",
              "      <td>438.115662</td>\n",
              "    </tr>\n",
              "    <tr>\n",
              "      <th>40</th>\n",
              "      <td>581.0</td>\n",
              "      <td>680.435669</td>\n",
              "    </tr>\n",
              "    <tr>\n",
              "      <th>41</th>\n",
              "      <td>561.0</td>\n",
              "      <td>505.838440</td>\n",
              "    </tr>\n",
              "    <tr>\n",
              "      <th>42</th>\n",
              "      <td>548.0</td>\n",
              "      <td>494.009430</td>\n",
              "    </tr>\n",
              "    <tr>\n",
              "      <th>43</th>\n",
              "      <td>465.0</td>\n",
              "      <td>446.451538</td>\n",
              "    </tr>\n",
              "    <tr>\n",
              "      <th>44</th>\n",
              "      <td>660.0</td>\n",
              "      <td>592.492981</td>\n",
              "    </tr>\n",
              "    <tr>\n",
              "      <th>45</th>\n",
              "      <td>964.0</td>\n",
              "      <td>1119.797852</td>\n",
              "    </tr>\n",
              "  </tbody>\n",
              "</table>\n",
              "</div>"
            ],
            "text/plain": [
              "    Actual  MLP Predicted\n",
              "0    443.0     418.773621\n",
              "1   1293.0    1363.503052\n",
              "2    323.0     326.109131\n",
              "3    661.0     645.592224\n",
              "4    466.0     439.569336\n",
              "5    388.0     451.841614\n",
              "6    725.0     715.716125\n",
              "7    566.0     519.049377\n",
              "8    830.0     759.385925\n",
              "9    467.0     482.655182\n",
              "10   515.0     472.431976\n",
              "11   265.0     303.573242\n",
              "12   567.0     543.644165\n",
              "13   390.0     440.378052\n",
              "14   426.0     376.068451\n",
              "15   454.0     416.904144\n",
              "16   332.0     385.481567\n",
              "17   382.0     452.229095\n",
              "18   611.0     516.445312\n",
              "19   446.0     506.580566\n",
              "20   499.0     522.605286\n",
              "21   288.0     298.188660\n",
              "22   659.0     668.227417\n",
              "23   873.0     765.108093\n",
              "24   255.0     300.832062\n",
              "25   561.0     536.185608\n",
              "26   471.0     524.452576\n",
              "27   616.0     544.183472\n",
              "28   391.0     376.310852\n",
              "29   439.0     424.650238\n",
              "30   511.0     517.228394\n",
              "31   486.0     437.865479\n",
              "32   855.0     796.243652\n",
              "33   562.0     565.334351\n",
              "34   475.0     524.094543\n",
              "35   408.0     362.502319\n",
              "36   401.0     372.262970\n",
              "37   514.0     530.726013\n",
              "38   402.0     436.376221\n",
              "39   381.0     438.115662\n",
              "40   581.0     680.435669\n",
              "41   561.0     505.838440\n",
              "42   548.0     494.009430\n",
              "43   465.0     446.451538\n",
              "44   660.0     592.492981\n",
              "45   964.0    1119.797852"
            ]
          },
          "metadata": {},
          "execution_count": 145
        }
      ]
    },
    {
      "cell_type": "code",
      "metadata": {
        "colab": {
          "base_uri": "https://localhost:8080/",
          "height": 513
        },
        "id": "7XXyV8WwiVw6",
        "outputId": "3a2dc403-1324-4ac8-9a36-00b8ba2397e4"
      },
      "source": [
        "plt.figure(figsize=(16,8))\n",
        "plt.grid()\n",
        "plt.plot(df_training.TimeIndex, df_training.cpo_pri, label = 'Train')\n",
        "plt.plot(df_test.TimeIndex, testY2,  label = 'Test')\n",
        "plt.plot(df_test.TimeIndex, ActPred,label = 'MLP Prediction')\n",
        "plt.legend(['True Values', 'Train Prediction by Mlp', 'Test Prediction by Mlp'],loc='best')\n",
        "plt.title('Mlp Method: Actual vs. Prediction')\n",
        "plt.ylabel('Monthly Crude Palm Oil Price')\n",
        "plt.xlabel('Date')\n",
        "plt.show()"
      ],
      "execution_count": null,
      "outputs": [
        {
          "output_type": "display_data",
          "data": {
            "image/png": "[encoded data removed]",
            "text/plain": [
              "<Figure size 1152x576 with 1 Axes>"
            ]
          },
          "metadata": {
            "needs_background": "light"
          }
        }
      ]
    },
    {
      "cell_type": "code",
      "metadata": {
        "colab": {
          "base_uri": "https://localhost:8080/",
          "height": 513
        },
        "id": "EslRsKkLvknP",
        "outputId": "6eea0adc-48ed-43d9-f273-8104809b98ac"
      },
      "source": [
        "plt.figure(figsize=(16,8))\n",
        "plt.grid()\n",
        "plt.plot(df_test.TimeIndex, testY2, color = 'red',  label = 'Test')\n",
        "plt.plot(df_test.TimeIndex,  MLP_predictions, color = 'blue',label = 'MLP Prediction')\n",
        "plt.legend(['True Values', 'Predictions by Mlp', 'MLP Prediction'],loc='best')\n",
        "plt.title('Mlp Method: Actual vs. Prediction')\n",
        "plt.ylabel('Monthly Crude Palm Oil Price')\n",
        "plt.xlabel('Date')\n",
        "plt.show()"
      ],
      "execution_count": null,
      "outputs": [
        {
          "output_type": "display_data",
          "data": {
            "image/png": "[encoded data removed]",
            "text/plain": [
              "<Figure size 1152x576 with 1 Axes>"
            ]
          },
          "metadata": {
            "needs_background": "light"
          }
        }
      ]
    },
    {
      "cell_type": "code",
      "metadata": {
        "colab": {
          "base_uri": "https://localhost:8080/"
        },
        "id": "9nsc8excPVqL",
        "outputId": "b28b7802-9f58-4de5-f6f1-2a6fe44bba56"
      },
      "source": [
        "MAE_mlp = mean_absolute_error(testY2, MLP_predictions)\n",
        "print('MAE value of the MLP Model is:', MAE_mlp)\n",
        "\n",
        "MDA_mlp = mda(testY2, MLP_predictions)\n",
        "print(\"MDA value of the MLP Model is:\", *MDA_mlp)\n",
        "\n",
        "MAPE_mlp = mean_absolute_percentage_error(testY2, MLP_predictions)\n",
        "print('MAPE value of the MLP Model is:', MAPE_mlp)\n",
        "\n",
        "RMSE_mlp = mean_squared_error(testY2, MLP_predictions, squared=False)\n",
        "print('RMSE value of the MLP Model is:', RMSE_mlp)\n",
        "\n",
        "MSE_mlp = mean_squared_error(testY2, MLP_predictions)\n",
        "print('MSE value of the MLP Model is:', MSE_mlp)"
      ],
      "execution_count": null,
      "outputs": [
        {
          "output_type": "stream",
          "name": "stdout",
          "text": [
            "MAE value of the MLP Model is: 44.3713146707286\n",
            "MDA value of the MLP Model is: 0.9565217391304348\n",
            "MAPE value of the MLP Model is: 8.625042333088063\n",
            "RMSE value of the MLP Model is: 53.80412557919221\n",
            "MSE value of the MLP Model is: 2894.8839293414853\n"
          ]
        }
      ]
    }
  ]
}