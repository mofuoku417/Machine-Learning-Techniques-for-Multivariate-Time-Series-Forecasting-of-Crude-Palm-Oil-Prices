{
  "nbformat": 4,
  "nbformat_minor": 0,
  "metadata": {
    "colab": {
      "name": "MLP RegressionC.ipynb",
      "provenance": [],
      "authorship_tag": "ABX9TyPwgAf8QehfxAjY+MgNT7+X",
      "include_colab_link": true
    },
    "kernelspec": {
      "name": "python3",
      "display_name": "Python 3"
    },
    "language_info": {
      "name": "python"
    }
  },
  "cells": [
    {
      "cell_type": "markdown",
      "metadata": {
        "id": "view-in-github",
        "colab_type": "text"
      },
      "source": [
        "<a href=\"https://colab.research.google.com/github/mofuoku417/Multivariate-Time-Series-Forecasting-of-Crude-Palm-Oil-Price-Using-Machine-Learning-Techniques/blob/main/MLP_RegressionC.ipynb\" target=\"_parent\"><img src=\"https://colab.research.google.com/assets/colab-badge.svg\" alt=\"Open In Colab\"/></a>"
      ]
    },
    {
      "cell_type": "code",
      "metadata": {
        "colab": {
          "base_uri": "https://localhost:8080/"
        },
        "id": "VOmTIp5AfNWw",
        "outputId": "957fd5dd-262e-4bfd-a68c-c627cb46098b"
      },
      "source": [
        "from google.colab import drive\n",
        "drive.mount('/content/gdrive')"
      ],
      "execution_count": null,
      "outputs": [
        {
          "output_type": "stream",
          "name": "stdout",
          "text": [
            "Mounted at /content/gdrive\n"
          ]
        }
      ]
    },
    {
      "cell_type": "code",
      "metadata": {
        "id": "pNaVw9l_pIln"
      },
      "source": [
        "import tensorflow as tf\n",
        "import pandas as pd\n",
        "import numpy as np\n",
        "import matplotlib.pyplot as plt\n",
        "import os\n",
        "import datetime\n",
        "from keras.models import Sequential\n",
        "from keras.layers import LSTM\n",
        "from keras.layers import Dense\n",
        "from keras.layers import Dropout\n",
        "from numpy import concatenate\n",
        "from sklearn.preprocessing import MinMaxScaler\n",
        "from math import sqrt\n",
        "from sklearn.metrics import mean_squared_error\n",
        "from sklearn.metrics import mean_absolute_error\n",
        "from sklearn.metrics import mean_absolute_error as MAE\n",
        "from sklearn.model_selection import train_test_split\n",
        "from sklearn.neural_network import MLPRegressor\n",
        "from sklearn.pipeline import Pipeline"
      ],
      "execution_count": null,
      "outputs": []
    },
    {
      "cell_type": "code",
      "metadata": {
        "id": "Qp7fH1rrlmtf"
      },
      "source": [
        "#To compute Mean Directional Accuracy\n",
        "def mda(actual: np.ndarray, predicted: np.ndarray):\n",
        "    \"\"\" Mean Directional Accuracy \"\"\"\n",
        "    return np.mean((np.sign(actual[1:] - actual[:-1]) == np.sign(predicted[1:] - predicted[:-1])).astype(int))\n",
        "\n",
        "#Calculate the root mean squared error:\n",
        "def RMSE(y_true, y_pred): \n",
        "    rmse = np.sqrt(mean_squared_error(y_true, y_pred))\n",
        "    return rmse\n",
        "\n",
        "#Calculate the mean absolute percentage error\n",
        "def MAPE(y_true, y_pred): \n",
        "    mape = np.mean(np.abs((np.array(y_true) - np.array(y_pred)) / np.array(y_true))) * 100\n",
        "    return mape\n",
        "\n",
        "def mean_absolute_percentage_error(y_true, y_pred): \n",
        "    y_true, y_pred = np.array(y_true), np.array(y_pred)\n",
        "    return np.mean(np.abs((y_true - y_pred) / y_true)) * 100"
      ],
      "execution_count": null,
      "outputs": []
    },
    {
      "cell_type": "code",
      "metadata": {
        "id": "0CZToiTnkdk2"
      },
      "source": [
        "import matplotlib.pyplot as plt\n",
        "import numpy as np\n",
        "import pandas as pd\n",
        "from sklearn.model_selection import train_test_split\n",
        "from sklearn.model_selection import cross_val_score\n",
        "from sklearn.model_selection import KFold\n",
        "from sklearn.pipeline import Pipeline\n",
        "from sklearn.preprocessing import MinMaxScaler\n",
        "from tensorflow.python.keras.models import Sequential\n",
        "from tensorflow.python.keras.layers import Dense\n",
        "from tensorflow.python.keras.wrappers.scikit_learn import KerasRegressor"
      ],
      "execution_count": null,
      "outputs": []
    },
    {
      "cell_type": "code",
      "metadata": {
        "id": "li_-uzWrYB_y"
      },
      "source": [
        "#reading the csv file into pandas data frame\n",
        "df = pd.read_csv(\"/content/gdrive/MyDrive/raw_data/df3.csv\")"
      ],
      "execution_count": null,
      "outputs": []
    },
    {
      "cell_type": "code",
      "metadata": {
        "id": "MhpgmNh_fj08"
      },
      "source": [
        "del df['Unnamed: 0']"
      ],
      "execution_count": null,
      "outputs": []
    },
    {
      "cell_type": "code",
      "metadata": {
        "id": "STC7bRzTfm8f"
      },
      "source": [
        "df.columns = ['Date', 'cpo_pri', 'cno_pri', 'sbo_pri', 'pno_pri']"
      ],
      "execution_count": null,
      "outputs": []
    },
    {
      "cell_type": "code",
      "metadata": {
        "id": "7Rx2gw1pfbUm"
      },
      "source": [
        "#setting the Date column as the index of the data frame\n",
        "df['Date'] = df['Date'].apply(pd.to_datetime)"
      ],
      "execution_count": null,
      "outputs": []
    },
    {
      "cell_type": "code",
      "metadata": {
        "colab": {
          "base_uri": "https://localhost:8080/",
          "height": 354
        },
        "id": "lCI0wLh8f2EU",
        "outputId": "331e62c0-4a12-4ae9-fa93-f93db6b09c59"
      },
      "source": [
        "df.set_index('Date')[['cpo_pri', 'cno_pri','sbo_pri', 'pno_pri']].plot(subplots=True)"
      ],
      "execution_count": null,
      "outputs": [
        {
          "output_type": "execute_result",
          "data": {
            "text/plain": [
              "array([<matplotlib.axes._subplots.AxesSubplot object at 0x7f39035e55d0>,\n",
              "       <matplotlib.axes._subplots.AxesSubplot object at 0x7f3901922810>,\n",
              "       <matplotlib.axes._subplots.AxesSubplot object at 0x7f39019c38d0>,\n",
              "       <matplotlib.axes._subplots.AxesSubplot object at 0x7f39022a8490>],\n",
              "      dtype=object)"
            ]
          },
          "metadata": {},
          "execution_count": 102
        },
        {
          "output_type": "display_data",
          "data": {
            "image/png": "[encoded data removed]",
            "text/plain": [
              "<Figure size 432x288 with 4 Axes>"
            ]
          },
          "metadata": {
            "needs_background": "light"
          }
        }
      ]
    },
    {
      "cell_type": "code",
      "metadata": {
        "colab": {
          "base_uri": "https://localhost:8080/",
          "height": 204
        },
        "id": "MPRC2FjalMFj",
        "outputId": "09b4ee9a-8242-42ff-ca45-601a38348cb7"
      },
      "source": [
        "df.head()"
      ],
      "execution_count": null,
      "outputs": [
        {
          "output_type": "execute_result",
          "data": {
            "text/html": [
              "<div>\n",
              "<style scoped>\n",
              "    .dataframe tbody tr th:only-of-type {\n",
              "        vertical-align: middle;\n",
              "    }\n",
              "\n",
              "    .dataframe tbody tr th {\n",
              "        vertical-align: top;\n",
              "    }\n",
              "\n",
              "    .dataframe thead th {\n",
              "        text-align: right;\n",
              "    }\n",
              "</style>\n",
              "<table border=\"1\" class=\"dataframe\">\n",
              "  <thead>\n",
              "    <tr style=\"text-align: right;\">\n",
              "      <th></th>\n",
              "      <th>Date</th>\n",
              "      <th>cpo_pri</th>\n",
              "      <th>cno_pri</th>\n",
              "      <th>sbo_pri</th>\n",
              "      <th>pno_pri</th>\n",
              "    </tr>\n",
              "  </thead>\n",
              "  <tbody>\n",
              "    <tr>\n",
              "      <th>0</th>\n",
              "      <td>2002-02-01</td>\n",
              "      <td>323</td>\n",
              "      <td>455</td>\n",
              "      <td>468.0</td>\n",
              "      <td>844.0</td>\n",
              "    </tr>\n",
              "    <tr>\n",
              "      <th>1</th>\n",
              "      <td>2002-03-01</td>\n",
              "      <td>345</td>\n",
              "      <td>546</td>\n",
              "      <td>485.0</td>\n",
              "      <td>799.0</td>\n",
              "    </tr>\n",
              "    <tr>\n",
              "      <th>2</th>\n",
              "      <td>2002-04-01</td>\n",
              "      <td>362</td>\n",
              "      <td>595</td>\n",
              "      <td>466.0</td>\n",
              "      <td>718.0</td>\n",
              "    </tr>\n",
              "    <tr>\n",
              "      <th>3</th>\n",
              "      <td>2002-05-01</td>\n",
              "      <td>376</td>\n",
              "      <td>636</td>\n",
              "      <td>442.0</td>\n",
              "      <td>614.0</td>\n",
              "    </tr>\n",
              "    <tr>\n",
              "      <th>4</th>\n",
              "      <td>2002-06-01</td>\n",
              "      <td>383</td>\n",
              "      <td>738</td>\n",
              "      <td>429.0</td>\n",
              "      <td>619.0</td>\n",
              "    </tr>\n",
              "  </tbody>\n",
              "</table>\n",
              "</div>"
            ],
            "text/plain": [
              "        Date  cpo_pri  cno_pri  sbo_pri  pno_pri\n",
              "0 2002-02-01      323      455    468.0    844.0\n",
              "1 2002-03-01      345      546    485.0    799.0\n",
              "2 2002-04-01      362      595    466.0    718.0\n",
              "3 2002-05-01      376      636    442.0    614.0\n",
              "4 2002-06-01      383      738    429.0    619.0"
            ]
          },
          "metadata": {},
          "execution_count": 103
        }
      ]
    },
    {
      "cell_type": "code",
      "metadata": {
        "id": "PYL1uc_0pabc"
      },
      "source": [
        "df_train = df.iloc[0:184]\n",
        "df_test = df.iloc[184:]"
      ],
      "execution_count": null,
      "outputs": []
    },
    {
      "cell_type": "code",
      "metadata": {
        "id": "Dw2fFA2dbT-f"
      },
      "source": [
        "del df['Date']"
      ],
      "execution_count": null,
      "outputs": []
    },
    {
      "cell_type": "code",
      "metadata": {
        "colab": {
          "base_uri": "https://localhost:8080/",
          "height": 419
        },
        "id": "-7cmTDMib7O1",
        "outputId": "d5aac020-b56d-4ce7-b421-4ab155c60499"
      },
      "source": [
        "df"
      ],
      "execution_count": null,
      "outputs": [
        {
          "output_type": "execute_result",
          "data": {
            "text/html": [
              "<div>\n",
              "<style scoped>\n",
              "    .dataframe tbody tr th:only-of-type {\n",
              "        vertical-align: middle;\n",
              "    }\n",
              "\n",
              "    .dataframe tbody tr th {\n",
              "        vertical-align: top;\n",
              "    }\n",
              "\n",
              "    .dataframe thead th {\n",
              "        text-align: right;\n",
              "    }\n",
              "</style>\n",
              "<table border=\"1\" class=\"dataframe\">\n",
              "  <thead>\n",
              "    <tr style=\"text-align: right;\">\n",
              "      <th></th>\n",
              "      <th>cpo_pri</th>\n",
              "      <th>cno_pri</th>\n",
              "      <th>sbo_pri</th>\n",
              "      <th>pno_pri</th>\n",
              "    </tr>\n",
              "  </thead>\n",
              "  <tbody>\n",
              "    <tr>\n",
              "      <th>0</th>\n",
              "      <td>323</td>\n",
              "      <td>455</td>\n",
              "      <td>468.00</td>\n",
              "      <td>844.00</td>\n",
              "    </tr>\n",
              "    <tr>\n",
              "      <th>1</th>\n",
              "      <td>345</td>\n",
              "      <td>546</td>\n",
              "      <td>485.00</td>\n",
              "      <td>799.00</td>\n",
              "    </tr>\n",
              "    <tr>\n",
              "      <th>2</th>\n",
              "      <td>362</td>\n",
              "      <td>595</td>\n",
              "      <td>466.00</td>\n",
              "      <td>718.00</td>\n",
              "    </tr>\n",
              "    <tr>\n",
              "      <th>3</th>\n",
              "      <td>376</td>\n",
              "      <td>636</td>\n",
              "      <td>442.00</td>\n",
              "      <td>614.00</td>\n",
              "    </tr>\n",
              "    <tr>\n",
              "      <th>4</th>\n",
              "      <td>383</td>\n",
              "      <td>738</td>\n",
              "      <td>429.00</td>\n",
              "      <td>619.00</td>\n",
              "    </tr>\n",
              "    <tr>\n",
              "      <th>...</th>\n",
              "      <td>...</td>\n",
              "      <td>...</td>\n",
              "      <td>...</td>\n",
              "      <td>...</td>\n",
              "    </tr>\n",
              "    <tr>\n",
              "      <th>225</th>\n",
              "      <td>826</td>\n",
              "      <td>993</td>\n",
              "      <td>860.28</td>\n",
              "      <td>1366.87</td>\n",
              "    </tr>\n",
              "    <tr>\n",
              "      <th>226</th>\n",
              "      <td>844</td>\n",
              "      <td>1031</td>\n",
              "      <td>910.82</td>\n",
              "      <td>1366.87</td>\n",
              "    </tr>\n",
              "    <tr>\n",
              "      <th>227</th>\n",
              "      <td>944</td>\n",
              "      <td>1170</td>\n",
              "      <td>997.62</td>\n",
              "      <td>1383.90</td>\n",
              "    </tr>\n",
              "    <tr>\n",
              "      <th>228</th>\n",
              "      <td>949</td>\n",
              "      <td>1275</td>\n",
              "      <td>1035.26</td>\n",
              "      <td>1426.71</td>\n",
              "    </tr>\n",
              "    <tr>\n",
              "      <th>229</th>\n",
              "      <td>1026</td>\n",
              "      <td>1412</td>\n",
              "      <td>1146.75</td>\n",
              "      <td>1471.32</td>\n",
              "    </tr>\n",
              "  </tbody>\n",
              "</table>\n",
              "<p>230 rows × 4 columns</p>\n",
              "</div>"
            ],
            "text/plain": [
              "     cpo_pri  cno_pri  sbo_pri  pno_pri\n",
              "0        323      455   468.00   844.00\n",
              "1        345      546   485.00   799.00\n",
              "2        362      595   466.00   718.00\n",
              "3        376      636   442.00   614.00\n",
              "4        383      738   429.00   619.00\n",
              "..       ...      ...      ...      ...\n",
              "225      826      993   860.28  1366.87\n",
              "226      844     1031   910.82  1366.87\n",
              "227      944     1170   997.62  1383.90\n",
              "228      949     1275  1035.26  1426.71\n",
              "229     1026     1412  1146.75  1471.32\n",
              "\n",
              "[230 rows x 4 columns]"
            ]
          },
          "metadata": {},
          "execution_count": 105
        }
      ]
    },
    {
      "cell_type": "code",
      "metadata": {
        "id": "VGTp9wQzkpQa"
      },
      "source": [
        "x = df[['cno_pri', 'sbo_pri', 'pno_pri']]\n",
        "y = df[['cpo_pri']]"
      ],
      "execution_count": null,
      "outputs": []
    },
    {
      "cell_type": "code",
      "metadata": {
        "id": "GLN4HeMykpUc"
      },
      "source": [
        "y = np.reshape(y, (-1,1))"
      ],
      "execution_count": null,
      "outputs": []
    },
    {
      "cell_type": "code",
      "metadata": {
        "colab": {
          "base_uri": "https://localhost:8080/"
        },
        "id": "Z9pGSBLAlEbY",
        "outputId": "9426108c-fc8c-42a4-f9f1-0fd73af50b6e"
      },
      "source": [
        "scaler_x = MinMaxScaler()\n",
        "scaler_y = MinMaxScaler()\n",
        "print(scaler_x.fit(x))\n",
        "xscale=scaler_x.transform(x)\n",
        "print(scaler_y.fit(y))\n",
        "yscale=scaler_y.transform(y)"
      ],
      "execution_count": null,
      "outputs": [
        {
          "output_type": "stream",
          "name": "stdout",
          "text": [
            "MinMaxScaler(copy=True, feature_range=(0, 1))\n",
            "MinMaxScaler(copy=True, feature_range=(0, 1))\n"
          ]
        }
      ]
    },
    {
      "cell_type": "code",
      "metadata": {
        "id": "mQ6zYCGOlEgG"
      },
      "source": [
        "X_train, X_test, y_train, y_test = train_test_split(xscale, yscale)"
      ],
      "execution_count": null,
      "outputs": []
    },
    {
      "cell_type": "code",
      "metadata": {
        "colab": {
          "base_uri": "https://localhost:8080/"
        },
        "id": "w7ITwAHUlEjT",
        "outputId": "d6a6f3b8-bd00-42dd-96e7-d0d1175ca4f9"
      },
      "source": [
        "len(X_train)"
      ],
      "execution_count": null,
      "outputs": [
        {
          "output_type": "execute_result",
          "data": {
            "text/plain": [
              "172"
            ]
          },
          "metadata": {},
          "execution_count": 110
        }
      ]
    },
    {
      "cell_type": "code",
      "metadata": {
        "colab": {
          "base_uri": "https://localhost:8080/"
        },
        "id": "4-GX0n9UkpYX",
        "outputId": "99d3f189-4bab-4e3f-eaef-00030ee9c980"
      },
      "source": [
        "230-172"
      ],
      "execution_count": null,
      "outputs": [
        {
          "output_type": "execute_result",
          "data": {
            "text/plain": [
              "58"
            ]
          },
          "metadata": {},
          "execution_count": 111
        }
      ]
    },
    {
      "cell_type": "code",
      "metadata": {
        "id": "HDJPu3X7vW4J"
      },
      "source": [
        "pipe_MLPRegressor = Pipeline([('scaler',  MinMaxScaler()),\n",
        "            ('MLPRegressor', MLPRegressor(random_state = 42))])"
      ],
      "execution_count": null,
      "outputs": []
    },
    {
      "cell_type": "code",
      "metadata": {
        "colab": {
          "base_uri": "https://localhost:8080/"
        },
        "id": "Lq2iVPwbuBFm",
        "outputId": "175879a8-f1e1-4200-ddde-356c90901338"
      },
      "source": [
        "grid_params_MLPRegressor = [{\n",
        "    'MLPRegressor__solver': ['lbfgs','sgd', 'adam'],\n",
        "    'MLPRegressor__alpha': [0.0001, 0.05],\n",
        "    'MLPRegressor__max_iter': [100,200,300, 500, 1000, 1500],\n",
        "    'MLPRegressor__activation' : ['relu','logistic','tanh'],\n",
        "    'MLPRegressor__learning_rate' : ['constant', 'invscaling', 'adaptive'],\n",
        "    'MLPRegressor__hidden_layer_sizes':[(50,50,50), (50,100,50), (100,)],}]\n",
        "\n",
        "\n",
        "CV_mlpregressor_grid = GridSearchCV (estimator = pipe_MLPRegressor,\n",
        "                               param_grid = grid_params_MLPRegressor, n_jobs=-1,\n",
        "                               cv = 5,return_train_score=True, verbose=0)\n",
        "\n",
        "\n",
        "CV_mlpregressor_grid.fit(X_train, y_train)\n",
        "\n",
        "ypred=CV_mlpregressor_grid.predict(X_test)\n",
        "\n",
        "print (np.c_[y_test, ypred])\n",
        "\n",
        "#print (np.c_[y_test, ypred])\n",
        "print('Train Accuracy : %.3f'%CV_mlpregressor_grid.best_estimator_.score(X_train, y_train))\n",
        "print('Test Accuracy : %.3f'%CV_mlpregressor_grid.best_estimator_.score(X_test, y_test))\n",
        "print('Best Accuracy Through Grid Search : %.3f'%CV_mlpregressor_grid.best_score_)\n",
        "print('Best Parameters : ',CV_mlpregressor_grid.best_params_)"
      ],
      "execution_count": null,
      "outputs": [
        {
          "output_type": "stream",
          "name": "stderr",
          "text": [
            "/usr/local/lib/python3.7/dist-packages/sklearn/neural_network/_multilayer_perceptron.py:1342: DataConversionWarning: A column-vector y was passed when a 1d array was expected. Please change the shape of y to (n_samples, ), for example using ravel().\n",
            "  y = column_or_1d(y, warn=True)\n"
          ]
        },
        {
          "output_type": "stream",
          "name": "stdout",
          "text": [
            "[[0.37182852 0.36622322]\n",
            " [0.10673666 0.12250471]\n",
            " [0.16185477 0.17746186]\n",
            " [0.11023622 0.15177128]\n",
            " [0.37270341 0.31449583]\n",
            " [0.32633421 0.32390379]\n",
            " [0.35958005 0.40136611]\n",
            " [0.52405949 0.49306911]\n",
            " [0.52230971 0.54579386]\n",
            " [0.60542432 0.59273485]\n",
            " [0.92650919 1.01779493]\n",
            " [0.51793526 0.59094498]\n",
            " [0.26771654 0.24361874]\n",
            " [0.32983377 0.30742244]\n",
            " [1.         0.98292412]\n",
            " [0.28608924 0.26530564]\n",
            " [0.24846894 0.2889818 ]\n",
            " [0.08661417 0.13878762]\n",
            " [0.14698163 0.12601118]\n",
            " [0.1032371  0.14307259]\n",
            " [0.16885389 0.1580106 ]\n",
            " [0.27646544 0.27360627]\n",
            " [0.1959755  0.19905945]\n",
            " [0.07786527 0.13295245]\n",
            " [0.30621172 0.30912201]\n",
            " [0.2615923  0.24789229]\n",
            " [0.18285214 0.18562595]\n",
            " [0.08573928 0.09854135]\n",
            " [0.167979   0.15800655]\n",
            " [0.26246719 0.30676391]\n",
            " [0.4295713  0.47734676]\n",
            " [0.26334208 0.29066108]\n",
            " [0.55905512 0.51684266]\n",
            " [0.01749781 0.03349061]\n",
            " [0.95013123 0.92923372]\n",
            " [0.29133858 0.27811694]\n",
            " [0.38495188 0.36281662]\n",
            " [0.13823272 0.19582482]\n",
            " [0.20209974 0.19425187]\n",
            " [0.21872266 0.24427616]\n",
            " [0.10673666 0.14204156]\n",
            " [0.19247594 0.20241028]\n",
            " [0.46281715 0.49411756]\n",
            " [0.20472441 0.21586329]\n",
            " [0.15485564 0.29757634]\n",
            " [0.24496938 0.26564044]\n",
            " [0.44794401 0.49238461]\n",
            " [0.20909886 0.19185565]\n",
            " [0.09711286 0.14034485]\n",
            " [0.00524934 0.02351177]\n",
            " [0.07786527 0.07154843]\n",
            " [0.111986   0.14084672]\n",
            " [0.31146107 0.28824307]\n",
            " [0.11898513 0.10496599]\n",
            " [0.22222222 0.26487448]\n",
            " [0.36832896 0.34373543]\n",
            " [0.18547682 0.18272859]\n",
            " [0.06299213 0.0483931 ]]\n",
            "Train Accuracy : 0.974\n",
            "Test Accuracy : 0.970\n",
            "Best Accuracy Through Grid Search : 0.955\n",
            "Best Parameters :  {'MLPRegressor__activation': 'relu', 'MLPRegressor__alpha': 0.0001, 'MLPRegressor__hidden_layer_sizes': (50, 100, 50), 'MLPRegressor__learning_rate': 'constant', 'MLPRegressor__max_iter': 300, 'MLPRegressor__solver': 'lbfgs'}\n"
          ]
        },
        {
          "output_type": "stream",
          "name": "stderr",
          "text": [
            "/usr/local/lib/python3.7/dist-packages/sklearn/neural_network/_multilayer_perceptron.py:470: ConvergenceWarning: lbfgs failed to converge (status=1):\n",
            "STOP: TOTAL NO. of ITERATIONS REACHED LIMIT.\n",
            "\n",
            "Increase the number of iterations (max_iter) or scale the data as shown in:\n",
            "    https://scikit-learn.org/stable/modules/preprocessing.html\n",
            "  self.n_iter_ = _check_optimize_result(\"lbfgs\", opt_res, self.max_iter)\n"
          ]
        }
      ]
    },
    {
      "cell_type": "markdown",
      "metadata": {
        "id": "WOlW--ri2a8i"
      },
      "source": [
        "Best Parameters :  {'MLPRegressor__activation': 'relu', 'MLPRegressor__alpha': 0.0001, 'MLPRegressor__hidden_layer_sizes': (50, 100, 50), 'MLPRegressor__learning_rate': 'constant', 'MLPRegressor__max_iter': 300, 'MLPRegressor__solver': 'lbfgs'}\n",
        "/usr/local/lib/python3.7/dist-packages/sklearn/neural_network/_multilayer_perceptron.py:470: ConvergenceWarning: lbfgs failed to converge (status=1):\n",
        "STOP: TOTAL NO. of ITERATIONS REACHED LIMIT."
      ]
    },
    {
      "cell_type": "code",
      "metadata": {
        "colab": {
          "base_uri": "https://localhost:8080/"
        },
        "id": "dQjs92xJkpcQ",
        "outputId": "12b04fd1-85b1-43ba-839c-ec5ec8dbbad0"
      },
      "source": [
        "model = Sequential()\n",
        "model.add(Dense(12, input_dim=3, kernel_initializer='normal', activation='relu'))\n",
        "model.add(Dense(8, activation='relu'))\n",
        "model.add(Dense(1, activation='linear'))\n",
        "model.summary()"
      ],
      "execution_count": null,
      "outputs": [
        {
          "output_type": "stream",
          "name": "stdout",
          "text": [
            "Model: \"sequential_2\"\n",
            "_________________________________________________________________\n",
            "Layer (type)                 Output Shape              Param #   \n",
            "=================================================================\n",
            "dense_6 (Dense)              (None, 12)                48        \n",
            "_________________________________________________________________\n",
            "dense_7 (Dense)              (None, 8)                 104       \n",
            "_________________________________________________________________\n",
            "dense_8 (Dense)              (None, 1)                 9         \n",
            "=================================================================\n",
            "Total params: 161\n",
            "Trainable params: 161\n",
            "Non-trainable params: 0\n",
            "_________________________________________________________________\n"
          ]
        }
      ]
    },
    {
      "cell_type": "code",
      "metadata": {
        "id": "uT7177fFl0DT"
      },
      "source": [
        "model.compile(loss='mse', optimizer='adam', metrics=['mse','mae'])"
      ],
      "execution_count": null,
      "outputs": []
    },
    {
      "cell_type": "code",
      "metadata": {
        "colab": {
          "base_uri": "https://localhost:8080/"
        },
        "id": "0CEQIndzl0Ip",
        "outputId": "9c544050-f0a4-437f-90ba-d92bcd62d407"
      },
      "source": [
        "history = model.fit(X_train, y_train, epochs=250, batch_size=50,  verbose=1, validation_split=0.2)"
      ],
      "execution_count": null,
      "outputs": [
        {
          "output_type": "stream",
          "name": "stdout",
          "text": [
            "Epoch 1/250\n",
            "3/3 [==============================] - 0s 58ms/step - loss: 0.0770 - mse: 0.0770 - mae: 0.2326 - val_loss: 0.0890 - val_mse: 0.0890 - val_mae: 0.2391\n",
            "Epoch 2/250\n",
            "3/3 [==============================] - 0s 10ms/step - loss: 0.0669 - mse: 0.0669 - mae: 0.2114 - val_loss: 0.0769 - val_mse: 0.0769 - val_mae: 0.2176\n",
            "Epoch 3/250\n",
            "3/3 [==============================] - 0s 10ms/step - loss: 0.0554 - mse: 0.0554 - mae: 0.1857 - val_loss: 0.0637 - val_mse: 0.0637 - val_mae: 0.1912\n",
            "Epoch 4/250\n",
            "3/3 [==============================] - 0s 11ms/step - loss: 0.0437 - mse: 0.0437 - mae: 0.1572 - val_loss: 0.0504 - val_mse: 0.0504 - val_mae: 0.1628\n",
            "Epoch 5/250\n",
            "3/3 [==============================] - 0s 11ms/step - loss: 0.0335 - mse: 0.0335 - mae: 0.1292 - val_loss: 0.0387 - val_mse: 0.0387 - val_mae: 0.1371\n",
            "Epoch 6/250\n",
            "3/3 [==============================] - 0s 10ms/step - loss: 0.0247 - mse: 0.0247 - mae: 0.1085 - val_loss: 0.0296 - val_mse: 0.0296 - val_mae: 0.1219\n",
            "Epoch 7/250\n",
            "3/3 [==============================] - 0s 11ms/step - loss: 0.0197 - mse: 0.0197 - mae: 0.1018 - val_loss: 0.0232 - val_mse: 0.0232 - val_mae: 0.1136\n",
            "Epoch 8/250\n",
            "3/3 [==============================] - 0s 11ms/step - loss: 0.0159 - mse: 0.0159 - mae: 0.1003 - val_loss: 0.0197 - val_mse: 0.0197 - val_mae: 0.1083\n",
            "Epoch 9/250\n",
            "3/3 [==============================] - 0s 13ms/step - loss: 0.0151 - mse: 0.0151 - mae: 0.1044 - val_loss: 0.0180 - val_mse: 0.0180 - val_mae: 0.1057\n",
            "Epoch 10/250\n",
            "3/3 [==============================] - 0s 11ms/step - loss: 0.0153 - mse: 0.0153 - mae: 0.1082 - val_loss: 0.0172 - val_mse: 0.0172 - val_mae: 0.1061\n",
            "Epoch 11/250\n",
            "3/3 [==============================] - 0s 10ms/step - loss: 0.0156 - mse: 0.0156 - mae: 0.1104 - val_loss: 0.0167 - val_mse: 0.0167 - val_mae: 0.1057\n",
            "Epoch 12/250\n",
            "3/3 [==============================] - 0s 9ms/step - loss: 0.0157 - mse: 0.0157 - mae: 0.1109 - val_loss: 0.0161 - val_mse: 0.0161 - val_mae: 0.1041\n",
            "Epoch 13/250\n",
            "3/3 [==============================] - 0s 9ms/step - loss: 0.0152 - mse: 0.0152 - mae: 0.1093 - val_loss: 0.0154 - val_mse: 0.0154 - val_mae: 0.1011\n",
            "Epoch 14/250\n",
            "3/3 [==============================] - 0s 9ms/step - loss: 0.0143 - mse: 0.0143 - mae: 0.1056 - val_loss: 0.0148 - val_mse: 0.0148 - val_mae: 0.0983\n",
            "Epoch 15/250\n",
            "3/3 [==============================] - 0s 10ms/step - loss: 0.0135 - mse: 0.0135 - mae: 0.1018 - val_loss: 0.0144 - val_mse: 0.0144 - val_mae: 0.0960\n",
            "Epoch 16/250\n",
            "3/3 [==============================] - 0s 10ms/step - loss: 0.0128 - mse: 0.0128 - mae: 0.0981 - val_loss: 0.0142 - val_mse: 0.0142 - val_mae: 0.0946\n",
            "Epoch 17/250\n",
            "3/3 [==============================] - 0s 10ms/step - loss: 0.0122 - mse: 0.0122 - mae: 0.0947 - val_loss: 0.0140 - val_mse: 0.0140 - val_mae: 0.0941\n",
            "Epoch 18/250\n",
            "3/3 [==============================] - 0s 9ms/step - loss: 0.0118 - mse: 0.0118 - mae: 0.0920 - val_loss: 0.0138 - val_mse: 0.0138 - val_mae: 0.0933\n",
            "Epoch 19/250\n",
            "3/3 [==============================] - 0s 10ms/step - loss: 0.0115 - mse: 0.0115 - mae: 0.0897 - val_loss: 0.0135 - val_mse: 0.0135 - val_mae: 0.0922\n",
            "Epoch 20/250\n",
            "3/3 [==============================] - 0s 9ms/step - loss: 0.0112 - mse: 0.0112 - mae: 0.0878 - val_loss: 0.0129 - val_mse: 0.0129 - val_mae: 0.0905\n",
            "Epoch 21/250\n",
            "3/3 [==============================] - 0s 9ms/step - loss: 0.0109 - mse: 0.0109 - mae: 0.0865 - val_loss: 0.0122 - val_mse: 0.0122 - val_mae: 0.0884\n",
            "Epoch 22/250\n",
            "3/3 [==============================] - 0s 9ms/step - loss: 0.0105 - mse: 0.0105 - mae: 0.0853 - val_loss: 0.0114 - val_mse: 0.0114 - val_mae: 0.0862\n",
            "Epoch 23/250\n",
            "3/3 [==============================] - 0s 9ms/step - loss: 0.0101 - mse: 0.0101 - mae: 0.0844 - val_loss: 0.0107 - val_mse: 0.0107 - val_mae: 0.0839\n",
            "Epoch 24/250\n",
            "3/3 [==============================] - 0s 10ms/step - loss: 0.0097 - mse: 0.0097 - mae: 0.0833 - val_loss: 0.0101 - val_mse: 0.0101 - val_mae: 0.0818\n",
            "Epoch 25/250\n",
            "3/3 [==============================] - 0s 10ms/step - loss: 0.0094 - mse: 0.0094 - mae: 0.0824 - val_loss: 0.0095 - val_mse: 0.0095 - val_mae: 0.0797\n",
            "Epoch 26/250\n",
            "3/3 [==============================] - 0s 11ms/step - loss: 0.0091 - mse: 0.0091 - mae: 0.0815 - val_loss: 0.0089 - val_mse: 0.0089 - val_mae: 0.0777\n",
            "Epoch 27/250\n",
            "3/3 [==============================] - 0s 10ms/step - loss: 0.0089 - mse: 0.0089 - mae: 0.0807 - val_loss: 0.0084 - val_mse: 0.0084 - val_mae: 0.0756\n",
            "Epoch 28/250\n",
            "3/3 [==============================] - 0s 10ms/step - loss: 0.0086 - mse: 0.0086 - mae: 0.0794 - val_loss: 0.0080 - val_mse: 0.0080 - val_mae: 0.0739\n",
            "Epoch 29/250\n",
            "3/3 [==============================] - 0s 11ms/step - loss: 0.0083 - mse: 0.0083 - mae: 0.0778 - val_loss: 0.0077 - val_mse: 0.0077 - val_mae: 0.0725\n",
            "Epoch 30/250\n",
            "3/3 [==============================] - 0s 12ms/step - loss: 0.0080 - mse: 0.0080 - mae: 0.0761 - val_loss: 0.0074 - val_mse: 0.0074 - val_mae: 0.0711\n",
            "Epoch 31/250\n",
            "3/3 [==============================] - 0s 10ms/step - loss: 0.0078 - mse: 0.0078 - mae: 0.0746 - val_loss: 0.0071 - val_mse: 0.0071 - val_mae: 0.0696\n",
            "Epoch 32/250\n",
            "3/3 [==============================] - 0s 10ms/step - loss: 0.0076 - mse: 0.0076 - mae: 0.0733 - val_loss: 0.0068 - val_mse: 0.0068 - val_mae: 0.0679\n",
            "Epoch 33/250\n",
            "3/3 [==============================] - 0s 9ms/step - loss: 0.0073 - mse: 0.0073 - mae: 0.0720 - val_loss: 0.0065 - val_mse: 0.0065 - val_mae: 0.0665\n",
            "Epoch 34/250\n",
            "3/3 [==============================] - 0s 9ms/step - loss: 0.0071 - mse: 0.0071 - mae: 0.0708 - val_loss: 0.0062 - val_mse: 0.0062 - val_mae: 0.0650\n",
            "Epoch 35/250\n",
            "3/3 [==============================] - 0s 9ms/step - loss: 0.0069 - mse: 0.0069 - mae: 0.0696 - val_loss: 0.0060 - val_mse: 0.0060 - val_mae: 0.0636\n",
            "Epoch 36/250\n",
            "3/3 [==============================] - 0s 10ms/step - loss: 0.0067 - mse: 0.0067 - mae: 0.0681 - val_loss: 0.0057 - val_mse: 0.0057 - val_mae: 0.0624\n",
            "Epoch 37/250\n",
            "3/3 [==============================] - 0s 9ms/step - loss: 0.0065 - mse: 0.0065 - mae: 0.0670 - val_loss: 0.0055 - val_mse: 0.0055 - val_mae: 0.0612\n",
            "Epoch 38/250\n",
            "3/3 [==============================] - 0s 13ms/step - loss: 0.0063 - mse: 0.0063 - mae: 0.0660 - val_loss: 0.0053 - val_mse: 0.0053 - val_mae: 0.0596\n",
            "Epoch 39/250\n",
            "3/3 [==============================] - 0s 10ms/step - loss: 0.0061 - mse: 0.0061 - mae: 0.0653 - val_loss: 0.0050 - val_mse: 0.0050 - val_mae: 0.0577\n",
            "Epoch 40/250\n",
            "3/3 [==============================] - 0s 11ms/step - loss: 0.0060 - mse: 0.0060 - mae: 0.0643 - val_loss: 0.0048 - val_mse: 0.0048 - val_mae: 0.0564\n",
            "Epoch 41/250\n",
            "3/3 [==============================] - 0s 10ms/step - loss: 0.0058 - mse: 0.0058 - mae: 0.0634 - val_loss: 0.0046 - val_mse: 0.0046 - val_mae: 0.0551\n",
            "Epoch 42/250\n",
            "3/3 [==============================] - 0s 12ms/step - loss: 0.0057 - mse: 0.0057 - mae: 0.0628 - val_loss: 0.0045 - val_mse: 0.0045 - val_mae: 0.0544\n",
            "Epoch 43/250\n",
            "3/3 [==============================] - 0s 11ms/step - loss: 0.0055 - mse: 0.0055 - mae: 0.0617 - val_loss: 0.0043 - val_mse: 0.0043 - val_mae: 0.0535\n",
            "Epoch 44/250\n",
            "3/3 [==============================] - 0s 10ms/step - loss: 0.0054 - mse: 0.0054 - mae: 0.0610 - val_loss: 0.0042 - val_mse: 0.0042 - val_mae: 0.0526\n",
            "Epoch 45/250\n",
            "3/3 [==============================] - 0s 10ms/step - loss: 0.0053 - mse: 0.0053 - mae: 0.0603 - val_loss: 0.0040 - val_mse: 0.0040 - val_mae: 0.0517\n",
            "Epoch 46/250\n",
            "3/3 [==============================] - 0s 12ms/step - loss: 0.0052 - mse: 0.0052 - mae: 0.0595 - val_loss: 0.0040 - val_mse: 0.0040 - val_mae: 0.0512\n",
            "Epoch 47/250\n",
            "3/3 [==============================] - 0s 10ms/step - loss: 0.0051 - mse: 0.0051 - mae: 0.0589 - val_loss: 0.0039 - val_mse: 0.0039 - val_mae: 0.0508\n",
            "Epoch 48/250\n",
            "3/3 [==============================] - 0s 10ms/step - loss: 0.0050 - mse: 0.0050 - mae: 0.0582 - val_loss: 0.0039 - val_mse: 0.0039 - val_mae: 0.0504\n",
            "Epoch 49/250\n",
            "3/3 [==============================] - 0s 10ms/step - loss: 0.0049 - mse: 0.0049 - mae: 0.0576 - val_loss: 0.0038 - val_mse: 0.0038 - val_mae: 0.0499\n",
            "Epoch 50/250\n",
            "3/3 [==============================] - 0s 12ms/step - loss: 0.0048 - mse: 0.0048 - mae: 0.0570 - val_loss: 0.0038 - val_mse: 0.0038 - val_mae: 0.0494\n",
            "Epoch 51/250\n",
            "3/3 [==============================] - 0s 9ms/step - loss: 0.0048 - mse: 0.0048 - mae: 0.0564 - val_loss: 0.0037 - val_mse: 0.0037 - val_mae: 0.0488\n",
            "Epoch 52/250\n",
            "3/3 [==============================] - 0s 10ms/step - loss: 0.0047 - mse: 0.0047 - mae: 0.0560 - val_loss: 0.0036 - val_mse: 0.0036 - val_mae: 0.0482\n",
            "Epoch 53/250\n",
            "3/3 [==============================] - 0s 9ms/step - loss: 0.0046 - mse: 0.0046 - mae: 0.0555 - val_loss: 0.0035 - val_mse: 0.0035 - val_mae: 0.0474\n",
            "Epoch 54/250\n",
            "3/3 [==============================] - 0s 9ms/step - loss: 0.0046 - mse: 0.0046 - mae: 0.0549 - val_loss: 0.0035 - val_mse: 0.0035 - val_mae: 0.0469\n",
            "Epoch 55/250\n",
            "3/3 [==============================] - 0s 12ms/step - loss: 0.0045 - mse: 0.0045 - mae: 0.0544 - val_loss: 0.0035 - val_mse: 0.0035 - val_mae: 0.0468\n",
            "Epoch 56/250\n",
            "3/3 [==============================] - 0s 10ms/step - loss: 0.0044 - mse: 0.0044 - mae: 0.0540 - val_loss: 0.0035 - val_mse: 0.0035 - val_mae: 0.0466\n",
            "Epoch 57/250\n",
            "3/3 [==============================] - 0s 10ms/step - loss: 0.0044 - mse: 0.0044 - mae: 0.0535 - val_loss: 0.0035 - val_mse: 0.0035 - val_mae: 0.0465\n",
            "Epoch 58/250\n",
            "3/3 [==============================] - 0s 10ms/step - loss: 0.0043 - mse: 0.0043 - mae: 0.0531 - val_loss: 0.0034 - val_mse: 0.0034 - val_mae: 0.0463\n",
            "Epoch 59/250\n",
            "3/3 [==============================] - 0s 9ms/step - loss: 0.0042 - mse: 0.0042 - mae: 0.0526 - val_loss: 0.0034 - val_mse: 0.0034 - val_mae: 0.0456\n",
            "Epoch 60/250\n",
            "3/3 [==============================] - 0s 9ms/step - loss: 0.0042 - mse: 0.0042 - mae: 0.0522 - val_loss: 0.0033 - val_mse: 0.0033 - val_mae: 0.0453\n",
            "Epoch 61/250\n",
            "3/3 [==============================] - 0s 12ms/step - loss: 0.0041 - mse: 0.0041 - mae: 0.0517 - val_loss: 0.0033 - val_mse: 0.0033 - val_mae: 0.0447\n",
            "Epoch 62/250\n",
            "3/3 [==============================] - 0s 10ms/step - loss: 0.0041 - mse: 0.0041 - mae: 0.0513 - val_loss: 0.0032 - val_mse: 0.0032 - val_mae: 0.0442\n",
            "Epoch 63/250\n",
            "3/3 [==============================] - 0s 10ms/step - loss: 0.0040 - mse: 0.0040 - mae: 0.0509 - val_loss: 0.0032 - val_mse: 0.0032 - val_mae: 0.0439\n",
            "Epoch 64/250\n",
            "3/3 [==============================] - 0s 11ms/step - loss: 0.0040 - mse: 0.0040 - mae: 0.0507 - val_loss: 0.0032 - val_mse: 0.0032 - val_mae: 0.0441\n",
            "Epoch 65/250\n",
            "3/3 [==============================] - 0s 11ms/step - loss: 0.0039 - mse: 0.0039 - mae: 0.0503 - val_loss: 0.0032 - val_mse: 0.0032 - val_mae: 0.0441\n",
            "Epoch 66/250\n",
            "3/3 [==============================] - 0s 9ms/step - loss: 0.0039 - mse: 0.0039 - mae: 0.0498 - val_loss: 0.0031 - val_mse: 0.0031 - val_mae: 0.0433\n",
            "Epoch 67/250\n",
            "3/3 [==============================] - 0s 16ms/step - loss: 0.0038 - mse: 0.0038 - mae: 0.0496 - val_loss: 0.0030 - val_mse: 0.0030 - val_mae: 0.0426\n",
            "Epoch 68/250\n",
            "3/3 [==============================] - 0s 13ms/step - loss: 0.0038 - mse: 0.0038 - mae: 0.0493 - val_loss: 0.0031 - val_mse: 0.0031 - val_mae: 0.0427\n",
            "Epoch 69/250\n",
            "3/3 [==============================] - 0s 10ms/step - loss: 0.0037 - mse: 0.0037 - mae: 0.0489 - val_loss: 0.0030 - val_mse: 0.0030 - val_mae: 0.0422\n",
            "Epoch 70/250\n",
            "3/3 [==============================] - 0s 11ms/step - loss: 0.0037 - mse: 0.0037 - mae: 0.0486 - val_loss: 0.0030 - val_mse: 0.0030 - val_mae: 0.0421\n",
            "Epoch 71/250\n",
            "3/3 [==============================] - 0s 9ms/step - loss: 0.0037 - mse: 0.0037 - mae: 0.0483 - val_loss: 0.0030 - val_mse: 0.0030 - val_mae: 0.0419\n",
            "Epoch 72/250\n",
            "3/3 [==============================] - 0s 12ms/step - loss: 0.0036 - mse: 0.0036 - mae: 0.0481 - val_loss: 0.0030 - val_mse: 0.0030 - val_mae: 0.0419\n",
            "Epoch 73/250\n",
            "3/3 [==============================] - 0s 12ms/step - loss: 0.0036 - mse: 0.0036 - mae: 0.0478 - val_loss: 0.0029 - val_mse: 0.0029 - val_mae: 0.0418\n",
            "Epoch 74/250\n",
            "3/3 [==============================] - 0s 20ms/step - loss: 0.0036 - mse: 0.0036 - mae: 0.0476 - val_loss: 0.0029 - val_mse: 0.0029 - val_mae: 0.0414\n",
            "Epoch 75/250\n",
            "3/3 [==============================] - 0s 13ms/step - loss: 0.0035 - mse: 0.0035 - mae: 0.0473 - val_loss: 0.0029 - val_mse: 0.0029 - val_mae: 0.0412\n",
            "Epoch 76/250\n",
            "3/3 [==============================] - 0s 14ms/step - loss: 0.0035 - mse: 0.0035 - mae: 0.0472 - val_loss: 0.0029 - val_mse: 0.0029 - val_mae: 0.0411\n",
            "Epoch 77/250\n",
            "3/3 [==============================] - 0s 11ms/step - loss: 0.0035 - mse: 0.0035 - mae: 0.0470 - val_loss: 0.0028 - val_mse: 0.0028 - val_mae: 0.0400\n",
            "Epoch 78/250\n",
            "3/3 [==============================] - 0s 9ms/step - loss: 0.0034 - mse: 0.0034 - mae: 0.0466 - val_loss: 0.0028 - val_mse: 0.0028 - val_mae: 0.0402\n",
            "Epoch 79/250\n",
            "3/3 [==============================] - 0s 9ms/step - loss: 0.0034 - mse: 0.0034 - mae: 0.0464 - val_loss: 0.0027 - val_mse: 0.0027 - val_mae: 0.0398\n",
            "Epoch 80/250\n",
            "3/3 [==============================] - 0s 13ms/step - loss: 0.0033 - mse: 0.0033 - mae: 0.0462 - val_loss: 0.0027 - val_mse: 0.0027 - val_mae: 0.0400\n",
            "Epoch 81/250\n",
            "3/3 [==============================] - 0s 10ms/step - loss: 0.0033 - mse: 0.0033 - mae: 0.0460 - val_loss: 0.0028 - val_mse: 0.0028 - val_mae: 0.0403\n",
            "Epoch 82/250\n",
            "3/3 [==============================] - 0s 11ms/step - loss: 0.0033 - mse: 0.0033 - mae: 0.0460 - val_loss: 0.0028 - val_mse: 0.0028 - val_mae: 0.0403\n",
            "Epoch 83/250\n",
            "3/3 [==============================] - 0s 14ms/step - loss: 0.0033 - mse: 0.0033 - mae: 0.0458 - val_loss: 0.0027 - val_mse: 0.0027 - val_mae: 0.0398\n",
            "Epoch 84/250\n",
            "3/3 [==============================] - 0s 10ms/step - loss: 0.0032 - mse: 0.0032 - mae: 0.0455 - val_loss: 0.0026 - val_mse: 0.0026 - val_mae: 0.0390\n",
            "Epoch 85/250\n",
            "3/3 [==============================] - 0s 11ms/step - loss: 0.0032 - mse: 0.0032 - mae: 0.0453 - val_loss: 0.0026 - val_mse: 0.0026 - val_mae: 0.0387\n",
            "Epoch 86/250\n",
            "3/3 [==============================] - 0s 11ms/step - loss: 0.0032 - mse: 0.0032 - mae: 0.0450 - val_loss: 0.0026 - val_mse: 0.0026 - val_mae: 0.0387\n",
            "Epoch 87/250\n",
            "3/3 [==============================] - 0s 10ms/step - loss: 0.0032 - mse: 0.0032 - mae: 0.0450 - val_loss: 0.0026 - val_mse: 0.0026 - val_mae: 0.0384\n",
            "Epoch 88/250\n",
            "3/3 [==============================] - 0s 11ms/step - loss: 0.0031 - mse: 0.0031 - mae: 0.0448 - val_loss: 0.0026 - val_mse: 0.0026 - val_mae: 0.0389\n",
            "Epoch 89/250\n",
            "3/3 [==============================] - 0s 14ms/step - loss: 0.0031 - mse: 0.0031 - mae: 0.0447 - val_loss: 0.0026 - val_mse: 0.0026 - val_mae: 0.0389\n",
            "Epoch 90/250\n",
            "3/3 [==============================] - 0s 10ms/step - loss: 0.0031 - mse: 0.0031 - mae: 0.0447 - val_loss: 0.0026 - val_mse: 0.0026 - val_mae: 0.0389\n",
            "Epoch 91/250\n",
            "3/3 [==============================] - 0s 14ms/step - loss: 0.0030 - mse: 0.0030 - mae: 0.0444 - val_loss: 0.0025 - val_mse: 0.0025 - val_mae: 0.0380\n",
            "Epoch 92/250\n",
            "3/3 [==============================] - 0s 12ms/step - loss: 0.0030 - mse: 0.0030 - mae: 0.0440 - val_loss: 0.0024 - val_mse: 0.0024 - val_mae: 0.0374\n",
            "Epoch 93/250\n",
            "3/3 [==============================] - 0s 11ms/step - loss: 0.0030 - mse: 0.0030 - mae: 0.0438 - val_loss: 0.0024 - val_mse: 0.0024 - val_mae: 0.0372\n",
            "Epoch 94/250\n",
            "3/3 [==============================] - 0s 11ms/step - loss: 0.0030 - mse: 0.0030 - mae: 0.0437 - val_loss: 0.0024 - val_mse: 0.0024 - val_mae: 0.0374\n",
            "Epoch 95/250\n",
            "3/3 [==============================] - 0s 9ms/step - loss: 0.0030 - mse: 0.0030 - mae: 0.0437 - val_loss: 0.0025 - val_mse: 0.0025 - val_mae: 0.0377\n",
            "Epoch 96/250\n",
            "3/3 [==============================] - 0s 9ms/step - loss: 0.0030 - mse: 0.0030 - mae: 0.0438 - val_loss: 0.0025 - val_mse: 0.0025 - val_mae: 0.0378\n",
            "Epoch 97/250\n",
            "3/3 [==============================] - 0s 11ms/step - loss: 0.0029 - mse: 0.0029 - mae: 0.0435 - val_loss: 0.0024 - val_mse: 0.0024 - val_mae: 0.0368\n",
            "Epoch 98/250\n",
            "3/3 [==============================] - 0s 10ms/step - loss: 0.0029 - mse: 0.0029 - mae: 0.0430 - val_loss: 0.0023 - val_mse: 0.0023 - val_mae: 0.0367\n",
            "Epoch 99/250\n",
            "3/3 [==============================] - 0s 12ms/step - loss: 0.0029 - mse: 0.0029 - mae: 0.0429 - val_loss: 0.0023 - val_mse: 0.0023 - val_mae: 0.0365\n",
            "Epoch 100/250\n",
            "3/3 [==============================] - 0s 10ms/step - loss: 0.0029 - mse: 0.0029 - mae: 0.0429 - val_loss: 0.0024 - val_mse: 0.0024 - val_mae: 0.0368\n",
            "Epoch 101/250\n",
            "3/3 [==============================] - 0s 12ms/step - loss: 0.0028 - mse: 0.0028 - mae: 0.0427 - val_loss: 0.0024 - val_mse: 0.0024 - val_mae: 0.0372\n",
            "Epoch 102/250\n",
            "3/3 [==============================] - 0s 11ms/step - loss: 0.0028 - mse: 0.0028 - mae: 0.0425 - val_loss: 0.0024 - val_mse: 0.0024 - val_mae: 0.0366\n",
            "Epoch 103/250\n",
            "3/3 [==============================] - 0s 10ms/step - loss: 0.0028 - mse: 0.0028 - mae: 0.0423 - val_loss: 0.0023 - val_mse: 0.0023 - val_mae: 0.0362\n",
            "Epoch 104/250\n",
            "3/3 [==============================] - 0s 10ms/step - loss: 0.0028 - mse: 0.0028 - mae: 0.0421 - val_loss: 0.0023 - val_mse: 0.0023 - val_mae: 0.0359\n",
            "Epoch 105/250\n",
            "3/3 [==============================] - 0s 15ms/step - loss: 0.0028 - mse: 0.0028 - mae: 0.0419 - val_loss: 0.0023 - val_mse: 0.0023 - val_mae: 0.0358\n",
            "Epoch 106/250\n",
            "3/3 [==============================] - 0s 12ms/step - loss: 0.0028 - mse: 0.0028 - mae: 0.0419 - val_loss: 0.0023 - val_mse: 0.0023 - val_mae: 0.0361\n",
            "Epoch 107/250\n",
            "3/3 [==============================] - 0s 11ms/step - loss: 0.0027 - mse: 0.0027 - mae: 0.0417 - val_loss: 0.0023 - val_mse: 0.0023 - val_mae: 0.0358\n",
            "Epoch 108/250\n",
            "3/3 [==============================] - 0s 9ms/step - loss: 0.0027 - mse: 0.0027 - mae: 0.0415 - val_loss: 0.0022 - val_mse: 0.0022 - val_mae: 0.0356\n",
            "Epoch 109/250\n",
            "3/3 [==============================] - 0s 13ms/step - loss: 0.0027 - mse: 0.0027 - mae: 0.0413 - val_loss: 0.0022 - val_mse: 0.0022 - val_mae: 0.0353\n",
            "Epoch 110/250\n",
            "3/3 [==============================] - 0s 13ms/step - loss: 0.0027 - mse: 0.0027 - mae: 0.0412 - val_loss: 0.0022 - val_mse: 0.0022 - val_mae: 0.0352\n",
            "Epoch 111/250\n",
            "3/3 [==============================] - 0s 11ms/step - loss: 0.0027 - mse: 0.0027 - mae: 0.0410 - val_loss: 0.0022 - val_mse: 0.0022 - val_mae: 0.0351\n",
            "Epoch 112/250\n",
            "3/3 [==============================] - 0s 13ms/step - loss: 0.0027 - mse: 0.0027 - mae: 0.0411 - val_loss: 0.0023 - val_mse: 0.0023 - val_mae: 0.0358\n",
            "Epoch 113/250\n",
            "3/3 [==============================] - 0s 9ms/step - loss: 0.0026 - mse: 0.0026 - mae: 0.0409 - val_loss: 0.0023 - val_mse: 0.0023 - val_mae: 0.0357\n",
            "Epoch 114/250\n",
            "3/3 [==============================] - 0s 13ms/step - loss: 0.0026 - mse: 0.0026 - mae: 0.0407 - val_loss: 0.0022 - val_mse: 0.0022 - val_mae: 0.0349\n",
            "Epoch 115/250\n",
            "3/3 [==============================] - 0s 11ms/step - loss: 0.0026 - mse: 0.0026 - mae: 0.0405 - val_loss: 0.0022 - val_mse: 0.0022 - val_mae: 0.0347\n",
            "Epoch 116/250\n",
            "3/3 [==============================] - 0s 12ms/step - loss: 0.0026 - mse: 0.0026 - mae: 0.0403 - val_loss: 0.0022 - val_mse: 0.0022 - val_mae: 0.0346\n",
            "Epoch 117/250\n",
            "3/3 [==============================] - 0s 12ms/step - loss: 0.0026 - mse: 0.0026 - mae: 0.0402 - val_loss: 0.0021 - val_mse: 0.0021 - val_mae: 0.0345\n",
            "Epoch 118/250\n",
            "3/3 [==============================] - 0s 12ms/step - loss: 0.0025 - mse: 0.0025 - mae: 0.0401 - val_loss: 0.0021 - val_mse: 0.0021 - val_mae: 0.0344\n",
            "Epoch 119/250\n",
            "3/3 [==============================] - 0s 11ms/step - loss: 0.0025 - mse: 0.0025 - mae: 0.0399 - val_loss: 0.0022 - val_mse: 0.0022 - val_mae: 0.0345\n",
            "Epoch 120/250\n",
            "3/3 [==============================] - 0s 12ms/step - loss: 0.0025 - mse: 0.0025 - mae: 0.0398 - val_loss: 0.0021 - val_mse: 0.0021 - val_mae: 0.0344\n",
            "Epoch 121/250\n",
            "3/3 [==============================] - 0s 13ms/step - loss: 0.0025 - mse: 0.0025 - mae: 0.0397 - val_loss: 0.0021 - val_mse: 0.0021 - val_mae: 0.0344\n",
            "Epoch 122/250\n",
            "3/3 [==============================] - 0s 10ms/step - loss: 0.0025 - mse: 0.0025 - mae: 0.0397 - val_loss: 0.0021 - val_mse: 0.0021 - val_mae: 0.0343\n",
            "Epoch 123/250\n",
            "3/3 [==============================] - 0s 14ms/step - loss: 0.0025 - mse: 0.0025 - mae: 0.0395 - val_loss: 0.0021 - val_mse: 0.0021 - val_mae: 0.0340\n",
            "Epoch 124/250\n",
            "3/3 [==============================] - 0s 11ms/step - loss: 0.0025 - mse: 0.0025 - mae: 0.0393 - val_loss: 0.0021 - val_mse: 0.0021 - val_mae: 0.0340\n",
            "Epoch 125/250\n",
            "3/3 [==============================] - 0s 11ms/step - loss: 0.0025 - mse: 0.0025 - mae: 0.0393 - val_loss: 0.0021 - val_mse: 0.0021 - val_mae: 0.0340\n",
            "Epoch 126/250\n",
            "3/3 [==============================] - 0s 11ms/step - loss: 0.0024 - mse: 0.0024 - mae: 0.0391 - val_loss: 0.0021 - val_mse: 0.0021 - val_mae: 0.0340\n",
            "Epoch 127/250\n",
            "3/3 [==============================] - 0s 11ms/step - loss: 0.0024 - mse: 0.0024 - mae: 0.0390 - val_loss: 0.0021 - val_mse: 0.0021 - val_mae: 0.0339\n",
            "Epoch 128/250\n",
            "3/3 [==============================] - 0s 11ms/step - loss: 0.0024 - mse: 0.0024 - mae: 0.0389 - val_loss: 0.0021 - val_mse: 0.0021 - val_mae: 0.0339\n",
            "Epoch 129/250\n",
            "3/3 [==============================] - 0s 10ms/step - loss: 0.0024 - mse: 0.0024 - mae: 0.0388 - val_loss: 0.0021 - val_mse: 0.0021 - val_mae: 0.0339\n",
            "Epoch 130/250\n",
            "3/3 [==============================] - 0s 12ms/step - loss: 0.0024 - mse: 0.0024 - mae: 0.0386 - val_loss: 0.0021 - val_mse: 0.0021 - val_mae: 0.0341\n",
            "Epoch 131/250\n",
            "3/3 [==============================] - 0s 13ms/step - loss: 0.0024 - mse: 0.0024 - mae: 0.0387 - val_loss: 0.0021 - val_mse: 0.0021 - val_mae: 0.0339\n",
            "Epoch 132/250\n",
            "3/3 [==============================] - 0s 14ms/step - loss: 0.0024 - mse: 0.0024 - mae: 0.0386 - val_loss: 0.0021 - val_mse: 0.0021 - val_mae: 0.0340\n",
            "Epoch 133/250\n",
            "3/3 [==============================] - 0s 12ms/step - loss: 0.0024 - mse: 0.0024 - mae: 0.0384 - val_loss: 0.0020 - val_mse: 0.0020 - val_mae: 0.0337\n",
            "Epoch 134/250\n",
            "3/3 [==============================] - 0s 13ms/step - loss: 0.0023 - mse: 0.0023 - mae: 0.0381 - val_loss: 0.0020 - val_mse: 0.0020 - val_mae: 0.0336\n",
            "Epoch 135/250\n",
            "3/3 [==============================] - 0s 11ms/step - loss: 0.0023 - mse: 0.0023 - mae: 0.0380 - val_loss: 0.0020 - val_mse: 0.0020 - val_mae: 0.0335\n",
            "Epoch 136/250\n",
            "3/3 [==============================] - 0s 10ms/step - loss: 0.0023 - mse: 0.0023 - mae: 0.0380 - val_loss: 0.0020 - val_mse: 0.0020 - val_mae: 0.0335\n",
            "Epoch 137/250\n",
            "3/3 [==============================] - 0s 9ms/step - loss: 0.0023 - mse: 0.0023 - mae: 0.0378 - val_loss: 0.0020 - val_mse: 0.0020 - val_mae: 0.0334\n",
            "Epoch 138/250\n",
            "3/3 [==============================] - 0s 11ms/step - loss: 0.0023 - mse: 0.0023 - mae: 0.0379 - val_loss: 0.0020 - val_mse: 0.0020 - val_mae: 0.0336\n",
            "Epoch 139/250\n",
            "3/3 [==============================] - 0s 14ms/step - loss: 0.0023 - mse: 0.0023 - mae: 0.0378 - val_loss: 0.0020 - val_mse: 0.0020 - val_mae: 0.0335\n",
            "Epoch 140/250\n",
            "3/3 [==============================] - 0s 13ms/step - loss: 0.0023 - mse: 0.0023 - mae: 0.0377 - val_loss: 0.0020 - val_mse: 0.0020 - val_mae: 0.0334\n",
            "Epoch 141/250\n",
            "3/3 [==============================] - 0s 13ms/step - loss: 0.0023 - mse: 0.0023 - mae: 0.0376 - val_loss: 0.0020 - val_mse: 0.0020 - val_mae: 0.0334\n",
            "Epoch 142/250\n",
            "3/3 [==============================] - 0s 11ms/step - loss: 0.0023 - mse: 0.0023 - mae: 0.0374 - val_loss: 0.0020 - val_mse: 0.0020 - val_mae: 0.0333\n",
            "Epoch 143/250\n",
            "3/3 [==============================] - 0s 10ms/step - loss: 0.0023 - mse: 0.0023 - mae: 0.0373 - val_loss: 0.0019 - val_mse: 0.0019 - val_mae: 0.0332\n",
            "Epoch 144/250\n",
            "3/3 [==============================] - 0s 11ms/step - loss: 0.0023 - mse: 0.0023 - mae: 0.0372 - val_loss: 0.0019 - val_mse: 0.0019 - val_mae: 0.0332\n",
            "Epoch 145/250\n",
            "3/3 [==============================] - 0s 12ms/step - loss: 0.0022 - mse: 0.0022 - mae: 0.0371 - val_loss: 0.0019 - val_mse: 0.0019 - val_mae: 0.0333\n",
            "Epoch 146/250\n",
            "3/3 [==============================] - 0s 13ms/step - loss: 0.0022 - mse: 0.0022 - mae: 0.0370 - val_loss: 0.0020 - val_mse: 0.0020 - val_mae: 0.0333\n",
            "Epoch 147/250\n",
            "3/3 [==============================] - 0s 11ms/step - loss: 0.0022 - mse: 0.0022 - mae: 0.0370 - val_loss: 0.0020 - val_mse: 0.0020 - val_mae: 0.0333\n",
            "Epoch 148/250\n",
            "3/3 [==============================] - 0s 11ms/step - loss: 0.0022 - mse: 0.0022 - mae: 0.0369 - val_loss: 0.0019 - val_mse: 0.0019 - val_mae: 0.0333\n",
            "Epoch 149/250\n",
            "3/3 [==============================] - 0s 10ms/step - loss: 0.0022 - mse: 0.0022 - mae: 0.0370 - val_loss: 0.0019 - val_mse: 0.0019 - val_mae: 0.0331\n",
            "Epoch 150/250\n",
            "3/3 [==============================] - 0s 13ms/step - loss: 0.0022 - mse: 0.0022 - mae: 0.0366 - val_loss: 0.0019 - val_mse: 0.0019 - val_mae: 0.0330\n",
            "Epoch 151/250\n",
            "3/3 [==============================] - 0s 12ms/step - loss: 0.0022 - mse: 0.0022 - mae: 0.0366 - val_loss: 0.0019 - val_mse: 0.0019 - val_mae: 0.0330\n",
            "Epoch 152/250\n",
            "3/3 [==============================] - 0s 10ms/step - loss: 0.0022 - mse: 0.0022 - mae: 0.0368 - val_loss: 0.0019 - val_mse: 0.0019 - val_mae: 0.0333\n",
            "Epoch 153/250\n",
            "3/3 [==============================] - 0s 9ms/step - loss: 0.0022 - mse: 0.0022 - mae: 0.0366 - val_loss: 0.0019 - val_mse: 0.0019 - val_mae: 0.0328\n",
            "Epoch 154/250\n",
            "3/3 [==============================] - 0s 11ms/step - loss: 0.0022 - mse: 0.0022 - mae: 0.0363 - val_loss: 0.0019 - val_mse: 0.0019 - val_mae: 0.0328\n",
            "Epoch 155/250\n",
            "3/3 [==============================] - 0s 11ms/step - loss: 0.0022 - mse: 0.0022 - mae: 0.0362 - val_loss: 0.0018 - val_mse: 0.0018 - val_mae: 0.0328\n",
            "Epoch 156/250\n",
            "3/3 [==============================] - 0s 13ms/step - loss: 0.0022 - mse: 0.0022 - mae: 0.0362 - val_loss: 0.0018 - val_mse: 0.0018 - val_mae: 0.0327\n",
            "Epoch 157/250\n",
            "3/3 [==============================] - 0s 12ms/step - loss: 0.0022 - mse: 0.0022 - mae: 0.0363 - val_loss: 0.0018 - val_mse: 0.0018 - val_mae: 0.0327\n",
            "Epoch 158/250\n",
            "3/3 [==============================] - 0s 11ms/step - loss: 0.0021 - mse: 0.0021 - mae: 0.0361 - val_loss: 0.0019 - val_mse: 0.0019 - val_mae: 0.0327\n",
            "Epoch 159/250\n",
            "3/3 [==============================] - 0s 11ms/step - loss: 0.0021 - mse: 0.0021 - mae: 0.0360 - val_loss: 0.0019 - val_mse: 0.0019 - val_mae: 0.0328\n",
            "Epoch 160/250\n",
            "3/3 [==============================] - 0s 11ms/step - loss: 0.0021 - mse: 0.0021 - mae: 0.0359 - val_loss: 0.0018 - val_mse: 0.0018 - val_mae: 0.0326\n",
            "Epoch 161/250\n",
            "3/3 [==============================] - 0s 11ms/step - loss: 0.0021 - mse: 0.0021 - mae: 0.0358 - val_loss: 0.0018 - val_mse: 0.0018 - val_mae: 0.0326\n",
            "Epoch 162/250\n",
            "3/3 [==============================] - 0s 10ms/step - loss: 0.0021 - mse: 0.0021 - mae: 0.0357 - val_loss: 0.0018 - val_mse: 0.0018 - val_mae: 0.0326\n",
            "Epoch 163/250\n",
            "3/3 [==============================] - 0s 11ms/step - loss: 0.0021 - mse: 0.0021 - mae: 0.0356 - val_loss: 0.0018 - val_mse: 0.0018 - val_mae: 0.0326\n",
            "Epoch 164/250\n",
            "3/3 [==============================] - 0s 13ms/step - loss: 0.0021 - mse: 0.0021 - mae: 0.0355 - val_loss: 0.0018 - val_mse: 0.0018 - val_mae: 0.0327\n",
            "Epoch 165/250\n",
            "3/3 [==============================] - 0s 12ms/step - loss: 0.0021 - mse: 0.0021 - mae: 0.0355 - val_loss: 0.0018 - val_mse: 0.0018 - val_mae: 0.0327\n",
            "Epoch 166/250\n",
            "3/3 [==============================] - 0s 9ms/step - loss: 0.0021 - mse: 0.0021 - mae: 0.0354 - val_loss: 0.0018 - val_mse: 0.0018 - val_mae: 0.0327\n",
            "Epoch 167/250\n",
            "3/3 [==============================] - 0s 20ms/step - loss: 0.0021 - mse: 0.0021 - mae: 0.0353 - val_loss: 0.0018 - val_mse: 0.0018 - val_mae: 0.0328\n",
            "Epoch 168/250\n",
            "3/3 [==============================] - 0s 10ms/step - loss: 0.0021 - mse: 0.0021 - mae: 0.0352 - val_loss: 0.0018 - val_mse: 0.0018 - val_mae: 0.0328\n",
            "Epoch 169/250\n",
            "3/3 [==============================] - 0s 15ms/step - loss: 0.0021 - mse: 0.0021 - mae: 0.0352 - val_loss: 0.0018 - val_mse: 0.0018 - val_mae: 0.0328\n",
            "Epoch 170/250\n",
            "3/3 [==============================] - 0s 12ms/step - loss: 0.0021 - mse: 0.0021 - mae: 0.0351 - val_loss: 0.0018 - val_mse: 0.0018 - val_mae: 0.0328\n",
            "Epoch 171/250\n",
            "3/3 [==============================] - 0s 14ms/step - loss: 0.0021 - mse: 0.0021 - mae: 0.0352 - val_loss: 0.0018 - val_mse: 0.0018 - val_mae: 0.0328\n",
            "Epoch 172/250\n",
            "3/3 [==============================] - 0s 14ms/step - loss: 0.0021 - mse: 0.0021 - mae: 0.0350 - val_loss: 0.0018 - val_mse: 0.0018 - val_mae: 0.0326\n",
            "Epoch 173/250\n",
            "3/3 [==============================] - 0s 11ms/step - loss: 0.0021 - mse: 0.0021 - mae: 0.0354 - val_loss: 0.0018 - val_mse: 0.0018 - val_mae: 0.0325\n",
            "Epoch 174/250\n",
            "3/3 [==============================] - 0s 12ms/step - loss: 0.0021 - mse: 0.0021 - mae: 0.0353 - val_loss: 0.0018 - val_mse: 0.0018 - val_mae: 0.0327\n",
            "Epoch 175/250\n",
            "3/3 [==============================] - 0s 10ms/step - loss: 0.0021 - mse: 0.0021 - mae: 0.0350 - val_loss: 0.0018 - val_mse: 0.0018 - val_mae: 0.0327\n",
            "Epoch 176/250\n",
            "3/3 [==============================] - 0s 9ms/step - loss: 0.0020 - mse: 0.0020 - mae: 0.0347 - val_loss: 0.0018 - val_mse: 0.0018 - val_mae: 0.0329\n",
            "Epoch 177/250\n",
            "3/3 [==============================] - 0s 13ms/step - loss: 0.0020 - mse: 0.0020 - mae: 0.0347 - val_loss: 0.0018 - val_mse: 0.0018 - val_mae: 0.0329\n",
            "Epoch 178/250\n",
            "3/3 [==============================] - 0s 13ms/step - loss: 0.0020 - mse: 0.0020 - mae: 0.0346 - val_loss: 0.0018 - val_mse: 0.0018 - val_mae: 0.0331\n",
            "Epoch 179/250\n",
            "3/3 [==============================] - 0s 13ms/step - loss: 0.0020 - mse: 0.0020 - mae: 0.0345 - val_loss: 0.0018 - val_mse: 0.0018 - val_mae: 0.0329\n",
            "Epoch 180/250\n",
            "3/3 [==============================] - 0s 13ms/step - loss: 0.0020 - mse: 0.0020 - mae: 0.0346 - val_loss: 0.0017 - val_mse: 0.0017 - val_mae: 0.0328\n",
            "Epoch 181/250\n",
            "3/3 [==============================] - 0s 12ms/step - loss: 0.0020 - mse: 0.0020 - mae: 0.0348 - val_loss: 0.0017 - val_mse: 0.0017 - val_mae: 0.0328\n",
            "Epoch 182/250\n",
            "3/3 [==============================] - 0s 14ms/step - loss: 0.0020 - mse: 0.0020 - mae: 0.0347 - val_loss: 0.0018 - val_mse: 0.0018 - val_mae: 0.0329\n",
            "Epoch 183/250\n",
            "3/3 [==============================] - 0s 11ms/step - loss: 0.0020 - mse: 0.0020 - mae: 0.0344 - val_loss: 0.0018 - val_mse: 0.0018 - val_mae: 0.0329\n",
            "Epoch 184/250\n",
            "3/3 [==============================] - 0s 10ms/step - loss: 0.0020 - mse: 0.0020 - mae: 0.0347 - val_loss: 0.0017 - val_mse: 0.0017 - val_mae: 0.0328\n",
            "Epoch 185/250\n",
            "3/3 [==============================] - 0s 12ms/step - loss: 0.0020 - mse: 0.0020 - mae: 0.0344 - val_loss: 0.0018 - val_mse: 0.0018 - val_mae: 0.0330\n",
            "Epoch 186/250\n",
            "3/3 [==============================] - 0s 11ms/step - loss: 0.0020 - mse: 0.0020 - mae: 0.0342 - val_loss: 0.0018 - val_mse: 0.0018 - val_mae: 0.0331\n",
            "Epoch 187/250\n",
            "3/3 [==============================] - 0s 11ms/step - loss: 0.0020 - mse: 0.0020 - mae: 0.0341 - val_loss: 0.0018 - val_mse: 0.0018 - val_mae: 0.0332\n",
            "Epoch 188/250\n",
            "3/3 [==============================] - 0s 10ms/step - loss: 0.0020 - mse: 0.0020 - mae: 0.0342 - val_loss: 0.0017 - val_mse: 0.0017 - val_mae: 0.0329\n",
            "Epoch 189/250\n",
            "3/3 [==============================] - 0s 11ms/step - loss: 0.0020 - mse: 0.0020 - mae: 0.0343 - val_loss: 0.0017 - val_mse: 0.0017 - val_mae: 0.0329\n",
            "Epoch 190/250\n",
            "3/3 [==============================] - 0s 11ms/step - loss: 0.0020 - mse: 0.0020 - mae: 0.0342 - val_loss: 0.0017 - val_mse: 0.0017 - val_mae: 0.0329\n",
            "Epoch 191/250\n",
            "3/3 [==============================] - 0s 11ms/step - loss: 0.0020 - mse: 0.0020 - mae: 0.0342 - val_loss: 0.0017 - val_mse: 0.0017 - val_mae: 0.0329\n",
            "Epoch 192/250\n",
            "3/3 [==============================] - 0s 10ms/step - loss: 0.0020 - mse: 0.0020 - mae: 0.0340 - val_loss: 0.0018 - val_mse: 0.0018 - val_mae: 0.0332\n",
            "Epoch 193/250\n",
            "3/3 [==============================] - 0s 11ms/step - loss: 0.0020 - mse: 0.0020 - mae: 0.0338 - val_loss: 0.0018 - val_mse: 0.0018 - val_mae: 0.0331\n",
            "Epoch 194/250\n",
            "3/3 [==============================] - 0s 11ms/step - loss: 0.0020 - mse: 0.0020 - mae: 0.0338 - val_loss: 0.0017 - val_mse: 0.0017 - val_mae: 0.0330\n",
            "Epoch 195/250\n",
            "3/3 [==============================] - 0s 13ms/step - loss: 0.0020 - mse: 0.0020 - mae: 0.0341 - val_loss: 0.0017 - val_mse: 0.0017 - val_mae: 0.0329\n",
            "Epoch 196/250\n",
            "3/3 [==============================] - 0s 11ms/step - loss: 0.0020 - mse: 0.0020 - mae: 0.0344 - val_loss: 0.0017 - val_mse: 0.0017 - val_mae: 0.0329\n",
            "Epoch 197/250\n",
            "3/3 [==============================] - 0s 12ms/step - loss: 0.0020 - mse: 0.0020 - mae: 0.0340 - val_loss: 0.0018 - val_mse: 0.0018 - val_mae: 0.0331\n",
            "Epoch 198/250\n",
            "3/3 [==============================] - 0s 11ms/step - loss: 0.0020 - mse: 0.0020 - mae: 0.0338 - val_loss: 0.0017 - val_mse: 0.0017 - val_mae: 0.0331\n",
            "Epoch 199/250\n",
            "3/3 [==============================] - 0s 11ms/step - loss: 0.0019 - mse: 0.0019 - mae: 0.0335 - val_loss: 0.0018 - val_mse: 0.0018 - val_mae: 0.0333\n",
            "Epoch 200/250\n",
            "3/3 [==============================] - 0s 10ms/step - loss: 0.0019 - mse: 0.0019 - mae: 0.0335 - val_loss: 0.0017 - val_mse: 0.0017 - val_mae: 0.0331\n",
            "Epoch 201/250\n",
            "3/3 [==============================] - 0s 12ms/step - loss: 0.0019 - mse: 0.0019 - mae: 0.0337 - val_loss: 0.0017 - val_mse: 0.0017 - val_mae: 0.0330\n",
            "Epoch 202/250\n",
            "3/3 [==============================] - 0s 12ms/step - loss: 0.0019 - mse: 0.0019 - mae: 0.0340 - val_loss: 0.0017 - val_mse: 0.0017 - val_mae: 0.0330\n",
            "Epoch 203/250\n",
            "3/3 [==============================] - 0s 11ms/step - loss: 0.0020 - mse: 0.0020 - mae: 0.0340 - val_loss: 0.0017 - val_mse: 0.0017 - val_mae: 0.0331\n",
            "Epoch 204/250\n",
            "3/3 [==============================] - 0s 16ms/step - loss: 0.0019 - mse: 0.0019 - mae: 0.0335 - val_loss: 0.0017 - val_mse: 0.0017 - val_mae: 0.0330\n",
            "Epoch 205/250\n",
            "3/3 [==============================] - 0s 11ms/step - loss: 0.0019 - mse: 0.0019 - mae: 0.0335 - val_loss: 0.0017 - val_mse: 0.0017 - val_mae: 0.0330\n",
            "Epoch 206/250\n",
            "3/3 [==============================] - 0s 11ms/step - loss: 0.0019 - mse: 0.0019 - mae: 0.0336 - val_loss: 0.0017 - val_mse: 0.0017 - val_mae: 0.0330\n",
            "Epoch 207/250\n",
            "3/3 [==============================] - 0s 11ms/step - loss: 0.0019 - mse: 0.0019 - mae: 0.0338 - val_loss: 0.0017 - val_mse: 0.0017 - val_mae: 0.0330\n",
            "Epoch 208/250\n",
            "3/3 [==============================] - 0s 11ms/step - loss: 0.0019 - mse: 0.0019 - mae: 0.0338 - val_loss: 0.0017 - val_mse: 0.0017 - val_mae: 0.0333\n",
            "Epoch 209/250\n",
            "3/3 [==============================] - 0s 11ms/step - loss: 0.0019 - mse: 0.0019 - mae: 0.0332 - val_loss: 0.0017 - val_mse: 0.0017 - val_mae: 0.0332\n",
            "Epoch 210/250\n",
            "3/3 [==============================] - 0s 11ms/step - loss: 0.0019 - mse: 0.0019 - mae: 0.0334 - val_loss: 0.0017 - val_mse: 0.0017 - val_mae: 0.0330\n",
            "Epoch 211/250\n",
            "3/3 [==============================] - 0s 12ms/step - loss: 0.0019 - mse: 0.0019 - mae: 0.0335 - val_loss: 0.0017 - val_mse: 0.0017 - val_mae: 0.0330\n",
            "Epoch 212/250\n",
            "3/3 [==============================] - 0s 10ms/step - loss: 0.0019 - mse: 0.0019 - mae: 0.0335 - val_loss: 0.0017 - val_mse: 0.0017 - val_mae: 0.0330\n",
            "Epoch 213/250\n",
            "3/3 [==============================] - 0s 10ms/step - loss: 0.0019 - mse: 0.0019 - mae: 0.0333 - val_loss: 0.0017 - val_mse: 0.0017 - val_mae: 0.0333\n",
            "Epoch 214/250\n",
            "3/3 [==============================] - 0s 12ms/step - loss: 0.0019 - mse: 0.0019 - mae: 0.0333 - val_loss: 0.0017 - val_mse: 0.0017 - val_mae: 0.0332\n",
            "Epoch 215/250\n",
            "3/3 [==============================] - 0s 11ms/step - loss: 0.0019 - mse: 0.0019 - mae: 0.0332 - val_loss: 0.0017 - val_mse: 0.0017 - val_mae: 0.0331\n",
            "Epoch 216/250\n",
            "3/3 [==============================] - 0s 13ms/step - loss: 0.0019 - mse: 0.0019 - mae: 0.0332 - val_loss: 0.0017 - val_mse: 0.0017 - val_mae: 0.0330\n",
            "Epoch 217/250\n",
            "3/3 [==============================] - 0s 12ms/step - loss: 0.0019 - mse: 0.0019 - mae: 0.0335 - val_loss: 0.0017 - val_mse: 0.0017 - val_mae: 0.0330\n",
            "Epoch 218/250\n",
            "3/3 [==============================] - 0s 9ms/step - loss: 0.0019 - mse: 0.0019 - mae: 0.0333 - val_loss: 0.0017 - val_mse: 0.0017 - val_mae: 0.0332\n",
            "Epoch 219/250\n",
            "3/3 [==============================] - 0s 11ms/step - loss: 0.0019 - mse: 0.0019 - mae: 0.0332 - val_loss: 0.0017 - val_mse: 0.0017 - val_mae: 0.0331\n",
            "Epoch 220/250\n",
            "3/3 [==============================] - 0s 11ms/step - loss: 0.0019 - mse: 0.0019 - mae: 0.0332 - val_loss: 0.0017 - val_mse: 0.0017 - val_mae: 0.0333\n",
            "Epoch 221/250\n",
            "3/3 [==============================] - 0s 11ms/step - loss: 0.0019 - mse: 0.0019 - mae: 0.0330 - val_loss: 0.0017 - val_mse: 0.0017 - val_mae: 0.0332\n",
            "Epoch 222/250\n",
            "3/3 [==============================] - 0s 11ms/step - loss: 0.0019 - mse: 0.0019 - mae: 0.0332 - val_loss: 0.0017 - val_mse: 0.0017 - val_mae: 0.0331\n",
            "Epoch 223/250\n",
            "3/3 [==============================] - 0s 9ms/step - loss: 0.0019 - mse: 0.0019 - mae: 0.0331 - val_loss: 0.0017 - val_mse: 0.0017 - val_mae: 0.0332\n",
            "Epoch 224/250\n",
            "3/3 [==============================] - 0s 10ms/step - loss: 0.0019 - mse: 0.0019 - mae: 0.0330 - val_loss: 0.0017 - val_mse: 0.0017 - val_mae: 0.0333\n",
            "Epoch 225/250\n",
            "3/3 [==============================] - 0s 11ms/step - loss: 0.0019 - mse: 0.0019 - mae: 0.0329 - val_loss: 0.0017 - val_mse: 0.0017 - val_mae: 0.0333\n",
            "Epoch 226/250\n",
            "3/3 [==============================] - 0s 10ms/step - loss: 0.0019 - mse: 0.0019 - mae: 0.0330 - val_loss: 0.0017 - val_mse: 0.0017 - val_mae: 0.0331\n",
            "Epoch 227/250\n",
            "3/3 [==============================] - 0s 10ms/step - loss: 0.0019 - mse: 0.0019 - mae: 0.0331 - val_loss: 0.0017 - val_mse: 0.0017 - val_mae: 0.0332\n",
            "Epoch 228/250\n",
            "3/3 [==============================] - 0s 14ms/step - loss: 0.0019 - mse: 0.0019 - mae: 0.0330 - val_loss: 0.0017 - val_mse: 0.0017 - val_mae: 0.0332\n",
            "Epoch 229/250\n",
            "3/3 [==============================] - 0s 15ms/step - loss: 0.0019 - mse: 0.0019 - mae: 0.0332 - val_loss: 0.0017 - val_mse: 0.0017 - val_mae: 0.0332\n",
            "Epoch 230/250\n",
            "3/3 [==============================] - 0s 12ms/step - loss: 0.0019 - mse: 0.0019 - mae: 0.0330 - val_loss: 0.0017 - val_mse: 0.0017 - val_mae: 0.0334\n",
            "Epoch 231/250\n",
            "3/3 [==============================] - 0s 13ms/step - loss: 0.0019 - mse: 0.0019 - mae: 0.0329 - val_loss: 0.0017 - val_mse: 0.0017 - val_mae: 0.0334\n",
            "Epoch 232/250\n",
            "3/3 [==============================] - 0s 12ms/step - loss: 0.0019 - mse: 0.0019 - mae: 0.0327 - val_loss: 0.0017 - val_mse: 0.0017 - val_mae: 0.0336\n",
            "Epoch 233/250\n",
            "3/3 [==============================] - 0s 12ms/step - loss: 0.0019 - mse: 0.0019 - mae: 0.0327 - val_loss: 0.0017 - val_mse: 0.0017 - val_mae: 0.0334\n",
            "Epoch 234/250\n",
            "3/3 [==============================] - 0s 12ms/step - loss: 0.0019 - mse: 0.0019 - mae: 0.0330 - val_loss: 0.0017 - val_mse: 0.0017 - val_mae: 0.0333\n",
            "Epoch 235/250\n",
            "3/3 [==============================] - 0s 13ms/step - loss: 0.0019 - mse: 0.0019 - mae: 0.0332 - val_loss: 0.0017 - val_mse: 0.0017 - val_mae: 0.0333\n",
            "Epoch 236/250\n",
            "3/3 [==============================] - 0s 12ms/step - loss: 0.0019 - mse: 0.0019 - mae: 0.0330 - val_loss: 0.0017 - val_mse: 0.0017 - val_mae: 0.0335\n",
            "Epoch 237/250\n",
            "3/3 [==============================] - 0s 15ms/step - loss: 0.0019 - mse: 0.0019 - mae: 0.0328 - val_loss: 0.0017 - val_mse: 0.0017 - val_mae: 0.0334\n",
            "Epoch 238/250\n",
            "3/3 [==============================] - 0s 11ms/step - loss: 0.0019 - mse: 0.0019 - mae: 0.0327 - val_loss: 0.0017 - val_mse: 0.0017 - val_mae: 0.0335\n",
            "Epoch 239/250\n",
            "3/3 [==============================] - 0s 12ms/step - loss: 0.0019 - mse: 0.0019 - mae: 0.0327 - val_loss: 0.0017 - val_mse: 0.0017 - val_mae: 0.0333\n",
            "Epoch 240/250\n",
            "3/3 [==============================] - 0s 11ms/step - loss: 0.0019 - mse: 0.0019 - mae: 0.0328 - val_loss: 0.0017 - val_mse: 0.0017 - val_mae: 0.0333\n",
            "Epoch 241/250\n",
            "3/3 [==============================] - 0s 12ms/step - loss: 0.0019 - mse: 0.0019 - mae: 0.0329 - val_loss: 0.0017 - val_mse: 0.0017 - val_mae: 0.0333\n",
            "Epoch 242/250\n",
            "3/3 [==============================] - 0s 15ms/step - loss: 0.0018 - mse: 0.0018 - mae: 0.0328 - val_loss: 0.0017 - val_mse: 0.0017 - val_mae: 0.0332\n",
            "Epoch 243/250\n",
            "3/3 [==============================] - 0s 12ms/step - loss: 0.0019 - mse: 0.0019 - mae: 0.0331 - val_loss: 0.0016 - val_mse: 0.0016 - val_mae: 0.0332\n",
            "Epoch 244/250\n",
            "3/3 [==============================] - 0s 18ms/step - loss: 0.0019 - mse: 0.0019 - mae: 0.0330 - val_loss: 0.0017 - val_mse: 0.0017 - val_mae: 0.0332\n",
            "Epoch 245/250\n",
            "3/3 [==============================] - 0s 12ms/step - loss: 0.0018 - mse: 0.0018 - mae: 0.0328 - val_loss: 0.0017 - val_mse: 0.0017 - val_mae: 0.0334\n",
            "Epoch 246/250\n",
            "3/3 [==============================] - 0s 11ms/step - loss: 0.0019 - mse: 0.0019 - mae: 0.0326 - val_loss: 0.0018 - val_mse: 0.0018 - val_mae: 0.0340\n",
            "Epoch 247/250\n",
            "3/3 [==============================] - 0s 13ms/step - loss: 0.0019 - mse: 0.0019 - mae: 0.0327 - val_loss: 0.0017 - val_mse: 0.0017 - val_mae: 0.0336\n",
            "Epoch 248/250\n",
            "3/3 [==============================] - 0s 12ms/step - loss: 0.0018 - mse: 0.0018 - mae: 0.0326 - val_loss: 0.0017 - val_mse: 0.0017 - val_mae: 0.0335\n",
            "Epoch 249/250\n",
            "3/3 [==============================] - 0s 12ms/step - loss: 0.0018 - mse: 0.0018 - mae: 0.0327 - val_loss: 0.0017 - val_mse: 0.0017 - val_mae: 0.0335\n",
            "Epoch 250/250\n",
            "3/3 [==============================] - 0s 9ms/step - loss: 0.0018 - mse: 0.0018 - mae: 0.0329 - val_loss: 0.0017 - val_mse: 0.0017 - val_mae: 0.0335\n"
          ]
        }
      ]
    },
    {
      "cell_type": "code",
      "metadata": {
        "colab": {
          "base_uri": "https://localhost:8080/",
          "height": 312
        },
        "id": "pJrZmQLhl0OM",
        "outputId": "efbb3d06-ade8-4293-e76f-729e4b8dd672"
      },
      "source": [
        "print(history.history.keys())\n",
        "# \"Loss\"\n",
        "plt.plot(history.history['loss'])\n",
        "plt.plot(history.history['val_loss'])\n",
        "plt.title('model loss')\n",
        "plt.ylabel('loss')\n",
        "plt.xlabel('epoch')\n",
        "plt.legend(['train', 'validation'], loc='upper left')\n",
        "plt.show()"
      ],
      "execution_count": null,
      "outputs": [
        {
          "output_type": "stream",
          "name": "stdout",
          "text": [
            "dict_keys(['loss', 'mse', 'mae', 'val_loss', 'val_mse', 'val_mae'])\n"
          ]
        },
        {
          "output_type": "display_data",
          "data": {
            "image/png": "[encoded data removed]",
            "text/plain": [
              "<Figure size 432x288 with 1 Axes>"
            ]
          },
          "metadata": {
            "needs_background": "light"
          }
        }
      ]
    },
    {
      "cell_type": "code",
      "metadata": {
        "id": "J1B0hOUmpEjG"
      },
      "source": [
        "y_pred = model.predict(X_test)"
      ],
      "execution_count": null,
      "outputs": []
    },
    {
      "cell_type": "code",
      "metadata": {
        "colab": {
          "base_uri": "https://localhost:8080/"
        },
        "id": "XodNBR_OpJZC",
        "outputId": "cd2bce97-3d04-48bc-a359-15a13a066987"
      },
      "source": [
        "MAE_mlp = mean_absolute_error(y_test, y_pred)\n",
        "print('MAE value of the MLP Model is:', MAE_mlp)\n",
        "\n",
        "MDA_mlp = np.mean((np.sign(y_test[1:] - y_test[:-1]) == np.sign(y_pred[1:] - y_pred[:-1])).astype(int))\n",
        "print('MDA value of the MLP Model is:', (MDA_mlp))\n",
        "\n",
        "MAPE_mlp = mean_absolute_percentage_error(y_test, y_pred)\n",
        "print('MAPE value of the MLP Model is:', (MAPE_mlp))\n",
        "\n",
        "RMSE_mlp = mean_squared_error(y_test, y_pred, squared=False)\n",
        "print('RMSE value of the MLP Model is:', (RMSE_mlp))\n",
        "\n",
        "MSE_mlp = mean_squared_error(y_test, y_pred)\n",
        "print('MSE value of the MLP Model is:', (MSE_mlp))"
      ],
      "execution_count": null,
      "outputs": [
        {
          "output_type": "stream",
          "name": "stdout",
          "text": [
            "MAE value of the MLP Model is: 0.03899795025302518\n",
            "MDA value of the MLP Model is: 0.9122807017543859\n",
            "MAPE value of the MLP Model is: 26.206230326245567\n",
            "RMSE value of the MLP Model is: 0.05059356018810106\n",
            "MSE value of the MLP Model is: 0.0025597083325070045\n"
          ]
        }
      ]
    },
    {
      "cell_type": "code",
      "metadata": {
        "colab": {
          "base_uri": "https://localhost:8080/",
          "height": 281
        },
        "id": "Ae5c15qNFtOq",
        "outputId": "13728b2d-1aa7-4318-92b0-65b59fad4cb3"
      },
      "source": [
        "plt.plot(y_test, color = 'red', label = 'Real data')\n",
        "plt.plot(y_pred, color = 'blue', label = 'Predicted data')\n",
        "plt.title('Prediction')\n",
        "plt.legend()\n",
        "plt.show()"
      ],
      "execution_count": null,
      "outputs": [
        {
          "output_type": "display_data",
          "data": {
            "image/png": "[encoded data removed]",
            "text/plain": [
              "<Figure size 432x288 with 1 Axes>"
            ]
          },
          "metadata": {
            "needs_background": "light"
          }
        }
      ]
    }
  ]
}