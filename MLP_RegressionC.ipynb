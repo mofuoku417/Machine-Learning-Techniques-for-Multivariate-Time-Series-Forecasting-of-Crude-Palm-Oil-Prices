{
  "nbformat": 4,
  "nbformat_minor": 0,
  "metadata": {
    "colab": {
      "name": "MLP RegressionC.ipynb",
      "provenance": [],
      "authorship_tag": "ABX9TyPPnMxZczeS5isEZwF2ziD5",
      "include_colab_link": true
    },
    "kernelspec": {
      "name": "python3",
      "display_name": "Python 3"
    },
    "language_info": {
      "name": "python"
    }
  },
  "cells": [
    {
      "cell_type": "markdown",
      "metadata": {
        "id": "view-in-github",
        "colab_type": "text"
      },
      "source": [
        "<a href=\"https://colab.research.google.com/github/mofuoku417/Multivariate-Time-Series-Forecasting-of-Crude-Palm-Oil-Price-Using-Machine-Learning-Techniques/blob/main/MLP_RegressionC.ipynb\" target=\"_parent\"><img src=\"https://colab.research.google.com/assets/colab-badge.svg\" alt=\"Open In Colab\"/></a>"
      ]
    },
    {
      "cell_type": "code",
      "metadata": {
        "colab": {
          "base_uri": "https://localhost:8080/"
        },
        "id": "VOmTIp5AfNWw",
        "outputId": "957fd5dd-262e-4bfd-a68c-c627cb46098b"
      },
      "source": [
        "from google.colab import drive\n",
        "drive.mount('/content/gdrive')"
      ],
      "execution_count": 1,
      "outputs": [
        {
          "output_type": "stream",
          "name": "stdout",
          "text": [
            "Mounted at /content/gdrive\n"
          ]
        }
      ]
    },
    {
      "cell_type": "code",
      "metadata": {
        "id": "pNaVw9l_pIln"
      },
      "source": [
        "import tensorflow as tf\n",
        "import pandas as pd\n",
        "import numpy as np\n",
        "import matplotlib.pyplot as plt\n",
        "import os\n",
        "import datetime\n",
        "from keras.models import Sequential\n",
        "from keras.layers import LSTM\n",
        "from keras.layers import Dense\n",
        "from keras.layers import Dropout\n",
        "from numpy import concatenate\n",
        "from sklearn.preprocessing import MinMaxScaler\n",
        "from math import sqrt\n",
        "from sklearn.metrics import mean_squared_error\n",
        "from sklearn.metrics import mean_absolute_error\n",
        "from sklearn.metrics import mean_absolute_error as MAE\n",
        "from sklearn.model_selection import train_test_split\n",
        "from sklearn.neural_network import MLPRegressor"
      ],
      "execution_count": 2,
      "outputs": []
    },
    {
      "cell_type": "code",
      "metadata": {
        "id": "Qp7fH1rrlmtf"
      },
      "source": [
        "#To compute Mean Directional Accuracy\n",
        "def mda(actual: np.ndarray, predicted: np.ndarray):\n",
        "    \"\"\" Mean Directional Accuracy \"\"\"\n",
        "    return np.mean((np.sign(actual[1:] - actual[:-1]) == np.sign(predicted[1:] - predicted[:-1])).astype(int))\n",
        "\n",
        "#Calculate the root mean squared error:\n",
        "def RMSE(y_true, y_pred): \n",
        "    rmse = np.sqrt(mean_squared_error(y_true, y_pred))\n",
        "    return rmse\n",
        "\n",
        "#Calculate the mean absolute percentage error\n",
        "def MAPE(y_true, y_pred): \n",
        "    mape = np.mean(np.abs((np.array(y_true) - np.array(y_pred)) / np.array(y_true))) * 100\n",
        "    return mape\n",
        "\n",
        "def mean_absolute_percentage_error(y_true, y_pred): \n",
        "    y_true, y_pred = np.array(y_true), np.array(y_pred)\n",
        "    return np.mean(np.abs((y_true - y_pred) / y_true)) * 100"
      ],
      "execution_count": 55,
      "outputs": []
    },
    {
      "cell_type": "code",
      "metadata": {
        "id": "0CZToiTnkdk2"
      },
      "source": [
        "import matplotlib.pyplot as plt\n",
        "import numpy as np\n",
        "import pandas as pd\n",
        "from sklearn.model_selection import train_test_split\n",
        "from sklearn.model_selection import cross_val_score\n",
        "from sklearn.model_selection import KFold\n",
        "from sklearn.pipeline import Pipeline\n",
        "from sklearn.preprocessing import MinMaxScaler\n",
        "from tensorflow.python.keras.models import Sequential\n",
        "from tensorflow.python.keras.layers import Dense\n",
        "from tensorflow.python.keras.wrappers.scikit_learn import KerasRegressor"
      ],
      "execution_count": 54,
      "outputs": []
    },
    {
      "cell_type": "code",
      "metadata": {
        "id": "li_-uzWrYB_y"
      },
      "source": [
        "#reading the csv file into pandas data frame\n",
        "df = pd.read_csv(\"/content/gdrive/MyDrive/raw_data/df3.csv\")"
      ],
      "execution_count": 56,
      "outputs": []
    },
    {
      "cell_type": "code",
      "metadata": {
        "id": "MhpgmNh_fj08"
      },
      "source": [
        "del df['Unnamed: 0']"
      ],
      "execution_count": 57,
      "outputs": []
    },
    {
      "cell_type": "code",
      "metadata": {
        "id": "STC7bRzTfm8f"
      },
      "source": [
        "df.columns = ['Date', 'cpo_pri', 'cno_pri', 'sbo_pri', 'pno_pri']"
      ],
      "execution_count": 58,
      "outputs": []
    },
    {
      "cell_type": "code",
      "metadata": {
        "id": "7Rx2gw1pfbUm"
      },
      "source": [
        "#setting the Date column as the index of the data frame\n",
        "df['Date'] = df['Date'].apply(pd.to_datetime)"
      ],
      "execution_count": 59,
      "outputs": []
    },
    {
      "cell_type": "code",
      "metadata": {
        "colab": {
          "base_uri": "https://localhost:8080/",
          "height": 354
        },
        "id": "lCI0wLh8f2EU",
        "outputId": "717a45d7-e0ba-4348-8f54-fd0791fd7dd3"
      },
      "source": [
        "df.set_index('Date')[['cpo_pri', 'cno_pri','sbo_pri', 'pno_pri']].plot(subplots=True)"
      ],
      "execution_count": 60,
      "outputs": [
        {
          "output_type": "execute_result",
          "data": {
            "text/plain": [
              "array([<matplotlib.axes._subplots.AxesSubplot object at 0x7f3903aefa50>,\n",
              "       <matplotlib.axes._subplots.AxesSubplot object at 0x7f3903a43d10>,\n",
              "       <matplotlib.axes._subplots.AxesSubplot object at 0x7f3903aef3d0>,\n",
              "       <matplotlib.axes._subplots.AxesSubplot object at 0x7f390399a8d0>],\n",
              "      dtype=object)"
            ]
          },
          "metadata": {},
          "execution_count": 60
        },
        {
          "output_type": "display_data",
          "data": {
            "image/png": "[encoded data removed]",
            "text/plain": [
              "<Figure size 432x288 with 4 Axes>"
            ]
          },
          "metadata": {
            "needs_background": "light"
          }
        }
      ]
    },
    {
      "cell_type": "code",
      "metadata": {
        "colab": {
          "base_uri": "https://localhost:8080/",
          "height": 204
        },
        "id": "MPRC2FjalMFj",
        "outputId": "067d0d31-8380-4e6d-b74d-36e6ed1ab63e"
      },
      "source": [
        "df.head()"
      ],
      "execution_count": 61,
      "outputs": [
        {
          "output_type": "execute_result",
          "data": {
            "text/html": [
              "<div>\n",
              "<style scoped>\n",
              "    .dataframe tbody tr th:only-of-type {\n",
              "        vertical-align: middle;\n",
              "    }\n",
              "\n",
              "    .dataframe tbody tr th {\n",
              "        vertical-align: top;\n",
              "    }\n",
              "\n",
              "    .dataframe thead th {\n",
              "        text-align: right;\n",
              "    }\n",
              "</style>\n",
              "<table border=\"1\" class=\"dataframe\">\n",
              "  <thead>\n",
              "    <tr style=\"text-align: right;\">\n",
              "      <th></th>\n",
              "      <th>Date</th>\n",
              "      <th>cpo_pri</th>\n",
              "      <th>cno_pri</th>\n",
              "      <th>sbo_pri</th>\n",
              "      <th>pno_pri</th>\n",
              "    </tr>\n",
              "  </thead>\n",
              "  <tbody>\n",
              "    <tr>\n",
              "      <th>0</th>\n",
              "      <td>2002-02-01</td>\n",
              "      <td>323</td>\n",
              "      <td>455</td>\n",
              "      <td>468.0</td>\n",
              "      <td>844.0</td>\n",
              "    </tr>\n",
              "    <tr>\n",
              "      <th>1</th>\n",
              "      <td>2002-03-01</td>\n",
              "      <td>345</td>\n",
              "      <td>546</td>\n",
              "      <td>485.0</td>\n",
              "      <td>799.0</td>\n",
              "    </tr>\n",
              "    <tr>\n",
              "      <th>2</th>\n",
              "      <td>2002-04-01</td>\n",
              "      <td>362</td>\n",
              "      <td>595</td>\n",
              "      <td>466.0</td>\n",
              "      <td>718.0</td>\n",
              "    </tr>\n",
              "    <tr>\n",
              "      <th>3</th>\n",
              "      <td>2002-05-01</td>\n",
              "      <td>376</td>\n",
              "      <td>636</td>\n",
              "      <td>442.0</td>\n",
              "      <td>614.0</td>\n",
              "    </tr>\n",
              "    <tr>\n",
              "      <th>4</th>\n",
              "      <td>2002-06-01</td>\n",
              "      <td>383</td>\n",
              "      <td>738</td>\n",
              "      <td>429.0</td>\n",
              "      <td>619.0</td>\n",
              "    </tr>\n",
              "  </tbody>\n",
              "</table>\n",
              "</div>"
            ],
            "text/plain": [
              "        Date  cpo_pri  cno_pri  sbo_pri  pno_pri\n",
              "0 2002-02-01      323      455    468.0    844.0\n",
              "1 2002-03-01      345      546    485.0    799.0\n",
              "2 2002-04-01      362      595    466.0    718.0\n",
              "3 2002-05-01      376      636    442.0    614.0\n",
              "4 2002-06-01      383      738    429.0    619.0"
            ]
          },
          "metadata": {},
          "execution_count": 61
        }
      ]
    },
    {
      "cell_type": "code",
      "metadata": {
        "id": "PYL1uc_0pabc"
      },
      "source": [
        "df_train = df.iloc[0:184]\n",
        "df_test = df.iloc[184:]"
      ],
      "execution_count": 62,
      "outputs": []
    },
    {
      "cell_type": "code",
      "metadata": {
        "id": "Dw2fFA2dbT-f"
      },
      "source": [
        "del df['Date']"
      ],
      "execution_count": 63,
      "outputs": []
    },
    {
      "cell_type": "code",
      "metadata": {
        "colab": {
          "base_uri": "https://localhost:8080/",
          "height": 419
        },
        "id": "-7cmTDMib7O1",
        "outputId": "2e95c21d-3b5f-4848-91b9-97e357004aea"
      },
      "source": [
        "df"
      ],
      "execution_count": 64,
      "outputs": [
        {
          "output_type": "execute_result",
          "data": {
            "text/html": [
              "<div>\n",
              "<style scoped>\n",
              "    .dataframe tbody tr th:only-of-type {\n",
              "        vertical-align: middle;\n",
              "    }\n",
              "\n",
              "    .dataframe tbody tr th {\n",
              "        vertical-align: top;\n",
              "    }\n",
              "\n",
              "    .dataframe thead th {\n",
              "        text-align: right;\n",
              "    }\n",
              "</style>\n",
              "<table border=\"1\" class=\"dataframe\">\n",
              "  <thead>\n",
              "    <tr style=\"text-align: right;\">\n",
              "      <th></th>\n",
              "      <th>cpo_pri</th>\n",
              "      <th>cno_pri</th>\n",
              "      <th>sbo_pri</th>\n",
              "      <th>pno_pri</th>\n",
              "    </tr>\n",
              "  </thead>\n",
              "  <tbody>\n",
              "    <tr>\n",
              "      <th>0</th>\n",
              "      <td>323</td>\n",
              "      <td>455</td>\n",
              "      <td>468.00</td>\n",
              "      <td>844.00</td>\n",
              "    </tr>\n",
              "    <tr>\n",
              "      <th>1</th>\n",
              "      <td>345</td>\n",
              "      <td>546</td>\n",
              "      <td>485.00</td>\n",
              "      <td>799.00</td>\n",
              "    </tr>\n",
              "    <tr>\n",
              "      <th>2</th>\n",
              "      <td>362</td>\n",
              "      <td>595</td>\n",
              "      <td>466.00</td>\n",
              "      <td>718.00</td>\n",
              "    </tr>\n",
              "    <tr>\n",
              "      <th>3</th>\n",
              "      <td>376</td>\n",
              "      <td>636</td>\n",
              "      <td>442.00</td>\n",
              "      <td>614.00</td>\n",
              "    </tr>\n",
              "    <tr>\n",
              "      <th>4</th>\n",
              "      <td>383</td>\n",
              "      <td>738</td>\n",
              "      <td>429.00</td>\n",
              "      <td>619.00</td>\n",
              "    </tr>\n",
              "    <tr>\n",
              "      <th>...</th>\n",
              "      <td>...</td>\n",
              "      <td>...</td>\n",
              "      <td>...</td>\n",
              "      <td>...</td>\n",
              "    </tr>\n",
              "    <tr>\n",
              "      <th>225</th>\n",
              "      <td>826</td>\n",
              "      <td>993</td>\n",
              "      <td>860.28</td>\n",
              "      <td>1366.87</td>\n",
              "    </tr>\n",
              "    <tr>\n",
              "      <th>226</th>\n",
              "      <td>844</td>\n",
              "      <td>1031</td>\n",
              "      <td>910.82</td>\n",
              "      <td>1366.87</td>\n",
              "    </tr>\n",
              "    <tr>\n",
              "      <th>227</th>\n",
              "      <td>944</td>\n",
              "      <td>1170</td>\n",
              "      <td>997.62</td>\n",
              "      <td>1383.90</td>\n",
              "    </tr>\n",
              "    <tr>\n",
              "      <th>228</th>\n",
              "      <td>949</td>\n",
              "      <td>1275</td>\n",
              "      <td>1035.26</td>\n",
              "      <td>1426.71</td>\n",
              "    </tr>\n",
              "    <tr>\n",
              "      <th>229</th>\n",
              "      <td>1026</td>\n",
              "      <td>1412</td>\n",
              "      <td>1146.75</td>\n",
              "      <td>1471.32</td>\n",
              "    </tr>\n",
              "  </tbody>\n",
              "</table>\n",
              "<p>230 rows × 4 columns</p>\n",
              "</div>"
            ],
            "text/plain": [
              "     cpo_pri  cno_pri  sbo_pri  pno_pri\n",
              "0        323      455   468.00   844.00\n",
              "1        345      546   485.00   799.00\n",
              "2        362      595   466.00   718.00\n",
              "3        376      636   442.00   614.00\n",
              "4        383      738   429.00   619.00\n",
              "..       ...      ...      ...      ...\n",
              "225      826      993   860.28  1366.87\n",
              "226      844     1031   910.82  1366.87\n",
              "227      944     1170   997.62  1383.90\n",
              "228      949     1275  1035.26  1426.71\n",
              "229     1026     1412  1146.75  1471.32\n",
              "\n",
              "[230 rows x 4 columns]"
            ]
          },
          "metadata": {},
          "execution_count": 64
        }
      ]
    },
    {
      "cell_type": "code",
      "metadata": {
        "id": "VGTp9wQzkpQa"
      },
      "source": [
        "x = df[['cno_pri', 'sbo_pri', 'pno_pri']]\n",
        "y = df[['cpo_pri']]"
      ],
      "execution_count": 66,
      "outputs": []
    },
    {
      "cell_type": "code",
      "metadata": {
        "id": "GLN4HeMykpUc"
      },
      "source": [
        "y = np.reshape(y, (-1,1))"
      ],
      "execution_count": 67,
      "outputs": []
    },
    {
      "cell_type": "code",
      "metadata": {
        "colab": {
          "base_uri": "https://localhost:8080/"
        },
        "id": "Z9pGSBLAlEbY",
        "outputId": "9655c4e7-0538-412f-87a6-5540761600df"
      },
      "source": [
        "scaler_x = MinMaxScaler()\n",
        "scaler_y = MinMaxScaler()\n",
        "print(scaler_x.fit(x))\n",
        "xscale=scaler_x.transform(x)\n",
        "print(scaler_y.fit(y))\n",
        "yscale=scaler_y.transform(y)"
      ],
      "execution_count": 69,
      "outputs": [
        {
          "output_type": "stream",
          "name": "stdout",
          "text": [
            "MinMaxScaler(copy=True, feature_range=(0, 1))\n",
            "MinMaxScaler(copy=True, feature_range=(0, 1))\n"
          ]
        }
      ]
    },
    {
      "cell_type": "code",
      "metadata": {
        "id": "mQ6zYCGOlEgG"
      },
      "source": [
        "X_train, X_test, y_train, y_test = train_test_split(xscale, yscale)"
      ],
      "execution_count": 72,
      "outputs": []
    },
    {
      "cell_type": "code",
      "metadata": {
        "colab": {
          "base_uri": "https://localhost:8080/"
        },
        "id": "w7ITwAHUlEjT",
        "outputId": "b33a2eeb-8d6d-442b-febd-5a4c919cd7fe"
      },
      "source": [
        "len(X_train)"
      ],
      "execution_count": 73,
      "outputs": [
        {
          "output_type": "execute_result",
          "data": {
            "text/plain": [
              "172"
            ]
          },
          "metadata": {},
          "execution_count": 73
        }
      ]
    },
    {
      "cell_type": "code",
      "metadata": {
        "colab": {
          "base_uri": "https://localhost:8080/"
        },
        "id": "4-GX0n9UkpYX",
        "outputId": "3570299c-cc51-411d-ccdd-063ef4fa6272"
      },
      "source": [
        "230-172"
      ],
      "execution_count": 74,
      "outputs": [
        {
          "output_type": "execute_result",
          "data": {
            "text/plain": [
              "58"
            ]
          },
          "metadata": {},
          "execution_count": 74
        }
      ]
    },
    {
      "cell_type": "code",
      "metadata": {
        "colab": {
          "base_uri": "https://localhost:8080/"
        },
        "id": "dQjs92xJkpcQ",
        "outputId": "c8f96218-2e4f-4b71-e0a9-4bbbfe0cc560"
      },
      "source": [
        "model = Sequential()\n",
        "model.add(Dense(12, input_dim=3, kernel_initializer='normal', activation='relu'))\n",
        "model.add(Dense(8, activation='relu'))\n",
        "model.add(Dense(1, activation='linear'))\n",
        "model.summary()"
      ],
      "execution_count": 78,
      "outputs": [
        {
          "output_type": "stream",
          "name": "stdout",
          "text": [
            "Model: \"sequential_1\"\n",
            "_________________________________________________________________\n",
            "Layer (type)                 Output Shape              Param #   \n",
            "=================================================================\n",
            "dense_3 (Dense)              (None, 12)                48        \n",
            "_________________________________________________________________\n",
            "dense_4 (Dense)              (None, 8)                 104       \n",
            "_________________________________________________________________\n",
            "dense_5 (Dense)              (None, 1)                 9         \n",
            "=================================================================\n",
            "Total params: 161\n",
            "Trainable params: 161\n",
            "Non-trainable params: 0\n",
            "_________________________________________________________________\n"
          ]
        }
      ]
    },
    {
      "cell_type": "code",
      "metadata": {
        "id": "uT7177fFl0DT"
      },
      "source": [
        "model.compile(loss='mse', optimizer='adam', metrics=['mse','mae'])"
      ],
      "execution_count": 79,
      "outputs": []
    },
    {
      "cell_type": "code",
      "metadata": {
        "colab": {
          "base_uri": "https://localhost:8080/"
        },
        "id": "0CEQIndzl0Ip",
        "outputId": "9557c98a-ad85-45d0-d4a8-e6393b2494d8"
      },
      "source": [
        "history = model.fit(X_train, y_train, epochs=150, batch_size=50,  verbose=1, validation_split=0.2)"
      ],
      "execution_count": 80,
      "outputs": [
        {
          "output_type": "stream",
          "name": "stdout",
          "text": [
            "Epoch 1/150\n",
            "3/3 [==============================] - 0s 68ms/step - loss: 0.1066 - mse: 0.1066 - mae: 0.2711 - val_loss: 0.0746 - val_mse: 0.0746 - val_mae: 0.2369\n",
            "Epoch 2/150\n",
            "3/3 [==============================] - 0s 12ms/step - loss: 0.0981 - mse: 0.0981 - mae: 0.2568 - val_loss: 0.0688 - val_mse: 0.0688 - val_mae: 0.2256\n",
            "Epoch 3/150\n",
            "3/3 [==============================] - 0s 9ms/step - loss: 0.0916 - mse: 0.0916 - mae: 0.2457 - val_loss: 0.0635 - val_mse: 0.0635 - val_mae: 0.2148\n",
            "Epoch 4/150\n",
            "3/3 [==============================] - 0s 11ms/step - loss: 0.0857 - mse: 0.0857 - mae: 0.2351 - val_loss: 0.0585 - val_mse: 0.0585 - val_mae: 0.2040\n",
            "Epoch 5/150\n",
            "3/3 [==============================] - 0s 13ms/step - loss: 0.0796 - mse: 0.0796 - mae: 0.2242 - val_loss: 0.0536 - val_mse: 0.0536 - val_mae: 0.1927\n",
            "Epoch 6/150\n",
            "3/3 [==============================] - 0s 11ms/step - loss: 0.0740 - mse: 0.0740 - mae: 0.2129 - val_loss: 0.0486 - val_mse: 0.0486 - val_mae: 0.1803\n",
            "Epoch 7/150\n",
            "3/3 [==============================] - 0s 11ms/step - loss: 0.0685 - mse: 0.0685 - mae: 0.2006 - val_loss: 0.0436 - val_mse: 0.0436 - val_mae: 0.1674\n",
            "Epoch 8/150\n",
            "3/3 [==============================] - 0s 9ms/step - loss: 0.0628 - mse: 0.0628 - mae: 0.1874 - val_loss: 0.0385 - val_mse: 0.0385 - val_mae: 0.1533\n",
            "Epoch 9/150\n",
            "3/3 [==============================] - 0s 10ms/step - loss: 0.0570 - mse: 0.0570 - mae: 0.1746 - val_loss: 0.0333 - val_mse: 0.0333 - val_mae: 0.1386\n",
            "Epoch 10/150\n",
            "3/3 [==============================] - 0s 10ms/step - loss: 0.0508 - mse: 0.0508 - mae: 0.1606 - val_loss: 0.0284 - val_mse: 0.0284 - val_mae: 0.1253\n",
            "Epoch 11/150\n",
            "3/3 [==============================] - 0s 11ms/step - loss: 0.0448 - mse: 0.0448 - mae: 0.1475 - val_loss: 0.0240 - val_mse: 0.0240 - val_mae: 0.1143\n",
            "Epoch 12/150\n",
            "3/3 [==============================] - 0s 11ms/step - loss: 0.0395 - mse: 0.0395 - mae: 0.1348 - val_loss: 0.0203 - val_mse: 0.0203 - val_mae: 0.1040\n",
            "Epoch 13/150\n",
            "3/3 [==============================] - 0s 11ms/step - loss: 0.0346 - mse: 0.0346 - mae: 0.1245 - val_loss: 0.0172 - val_mse: 0.0172 - val_mae: 0.0947\n",
            "Epoch 14/150\n",
            "3/3 [==============================] - 0s 10ms/step - loss: 0.0302 - mse: 0.0302 - mae: 0.1180 - val_loss: 0.0147 - val_mse: 0.0147 - val_mae: 0.0883\n",
            "Epoch 15/150\n",
            "3/3 [==============================] - 0s 10ms/step - loss: 0.0271 - mse: 0.0271 - mae: 0.1135 - val_loss: 0.0129 - val_mse: 0.0129 - val_mae: 0.0831\n",
            "Epoch 16/150\n",
            "3/3 [==============================] - 0s 9ms/step - loss: 0.0239 - mse: 0.0239 - mae: 0.1088 - val_loss: 0.0116 - val_mse: 0.0116 - val_mae: 0.0797\n",
            "Epoch 17/150\n",
            "3/3 [==============================] - 0s 10ms/step - loss: 0.0220 - mse: 0.0220 - mae: 0.1078 - val_loss: 0.0107 - val_mse: 0.0107 - val_mae: 0.0802\n",
            "Epoch 18/150\n",
            "3/3 [==============================] - 0s 9ms/step - loss: 0.0201 - mse: 0.0201 - mae: 0.1057 - val_loss: 0.0102 - val_mse: 0.0102 - val_mae: 0.0816\n",
            "Epoch 19/150\n",
            "3/3 [==============================] - 0s 11ms/step - loss: 0.0190 - mse: 0.0190 - mae: 0.1051 - val_loss: 0.0099 - val_mse: 0.0099 - val_mae: 0.0833\n",
            "Epoch 20/150\n",
            "3/3 [==============================] - 0s 10ms/step - loss: 0.0179 - mse: 0.0179 - mae: 0.1045 - val_loss: 0.0098 - val_mse: 0.0098 - val_mae: 0.0849\n",
            "Epoch 21/150\n",
            "3/3 [==============================] - 0s 10ms/step - loss: 0.0172 - mse: 0.0172 - mae: 0.1046 - val_loss: 0.0098 - val_mse: 0.0098 - val_mae: 0.0864\n",
            "Epoch 22/150\n",
            "3/3 [==============================] - 0s 11ms/step - loss: 0.0166 - mse: 0.0166 - mae: 0.1041 - val_loss: 0.0098 - val_mse: 0.0098 - val_mae: 0.0874\n",
            "Epoch 23/150\n",
            "3/3 [==============================] - 0s 14ms/step - loss: 0.0162 - mse: 0.0162 - mae: 0.1038 - val_loss: 0.0098 - val_mse: 0.0098 - val_mae: 0.0879\n",
            "Epoch 24/150\n",
            "3/3 [==============================] - 0s 12ms/step - loss: 0.0157 - mse: 0.0157 - mae: 0.1031 - val_loss: 0.0097 - val_mse: 0.0097 - val_mae: 0.0877\n",
            "Epoch 25/150\n",
            "3/3 [==============================] - 0s 14ms/step - loss: 0.0152 - mse: 0.0152 - mae: 0.1019 - val_loss: 0.0095 - val_mse: 0.0095 - val_mae: 0.0866\n",
            "Epoch 26/150\n",
            "3/3 [==============================] - 0s 10ms/step - loss: 0.0148 - mse: 0.0148 - mae: 0.1006 - val_loss: 0.0092 - val_mse: 0.0092 - val_mae: 0.0854\n",
            "Epoch 27/150\n",
            "3/3 [==============================] - 0s 10ms/step - loss: 0.0144 - mse: 0.0144 - mae: 0.0994 - val_loss: 0.0089 - val_mse: 0.0089 - val_mae: 0.0839\n",
            "Epoch 28/150\n",
            "3/3 [==============================] - 0s 10ms/step - loss: 0.0139 - mse: 0.0139 - mae: 0.0977 - val_loss: 0.0086 - val_mse: 0.0086 - val_mae: 0.0820\n",
            "Epoch 29/150\n",
            "3/3 [==============================] - 0s 11ms/step - loss: 0.0134 - mse: 0.0134 - mae: 0.0959 - val_loss: 0.0082 - val_mse: 0.0082 - val_mae: 0.0803\n",
            "Epoch 30/150\n",
            "3/3 [==============================] - 0s 11ms/step - loss: 0.0129 - mse: 0.0129 - mae: 0.0942 - val_loss: 0.0079 - val_mse: 0.0079 - val_mae: 0.0784\n",
            "Epoch 31/150\n",
            "3/3 [==============================] - 0s 10ms/step - loss: 0.0124 - mse: 0.0124 - mae: 0.0925 - val_loss: 0.0076 - val_mse: 0.0076 - val_mae: 0.0766\n",
            "Epoch 32/150\n",
            "3/3 [==============================] - 0s 10ms/step - loss: 0.0120 - mse: 0.0120 - mae: 0.0906 - val_loss: 0.0073 - val_mse: 0.0073 - val_mae: 0.0746\n",
            "Epoch 33/150\n",
            "3/3 [==============================] - 0s 11ms/step - loss: 0.0115 - mse: 0.0115 - mae: 0.0888 - val_loss: 0.0070 - val_mse: 0.0070 - val_mae: 0.0726\n",
            "Epoch 34/150\n",
            "3/3 [==============================] - 0s 10ms/step - loss: 0.0111 - mse: 0.0111 - mae: 0.0869 - val_loss: 0.0067 - val_mse: 0.0067 - val_mae: 0.0708\n",
            "Epoch 35/150\n",
            "3/3 [==============================] - 0s 11ms/step - loss: 0.0106 - mse: 0.0106 - mae: 0.0850 - val_loss: 0.0064 - val_mse: 0.0064 - val_mae: 0.0690\n",
            "Epoch 36/150\n",
            "3/3 [==============================] - 0s 12ms/step - loss: 0.0102 - mse: 0.0102 - mae: 0.0832 - val_loss: 0.0062 - val_mse: 0.0062 - val_mae: 0.0671\n",
            "Epoch 37/150\n",
            "3/3 [==============================] - 0s 10ms/step - loss: 0.0097 - mse: 0.0097 - mae: 0.0814 - val_loss: 0.0059 - val_mse: 0.0059 - val_mae: 0.0654\n",
            "Epoch 38/150\n",
            "3/3 [==============================] - 0s 10ms/step - loss: 0.0093 - mse: 0.0093 - mae: 0.0797 - val_loss: 0.0057 - val_mse: 0.0057 - val_mae: 0.0642\n",
            "Epoch 39/150\n",
            "3/3 [==============================] - 0s 9ms/step - loss: 0.0088 - mse: 0.0088 - mae: 0.0778 - val_loss: 0.0055 - val_mse: 0.0055 - val_mae: 0.0628\n",
            "Epoch 40/150\n",
            "3/3 [==============================] - 0s 10ms/step - loss: 0.0084 - mse: 0.0084 - mae: 0.0759 - val_loss: 0.0053 - val_mse: 0.0053 - val_mae: 0.0614\n",
            "Epoch 41/150\n",
            "3/3 [==============================] - 0s 13ms/step - loss: 0.0080 - mse: 0.0080 - mae: 0.0739 - val_loss: 0.0051 - val_mse: 0.0051 - val_mae: 0.0597\n",
            "Epoch 42/150\n",
            "3/3 [==============================] - 0s 11ms/step - loss: 0.0076 - mse: 0.0076 - mae: 0.0717 - val_loss: 0.0049 - val_mse: 0.0049 - val_mae: 0.0575\n",
            "Epoch 43/150\n",
            "3/3 [==============================] - 0s 13ms/step - loss: 0.0072 - mse: 0.0072 - mae: 0.0692 - val_loss: 0.0046 - val_mse: 0.0046 - val_mae: 0.0550\n",
            "Epoch 44/150\n",
            "3/3 [==============================] - 0s 11ms/step - loss: 0.0067 - mse: 0.0067 - mae: 0.0665 - val_loss: 0.0044 - val_mse: 0.0044 - val_mae: 0.0532\n",
            "Epoch 45/150\n",
            "3/3 [==============================] - 0s 10ms/step - loss: 0.0062 - mse: 0.0062 - mae: 0.0637 - val_loss: 0.0042 - val_mse: 0.0042 - val_mae: 0.0512\n",
            "Epoch 46/150\n",
            "3/3 [==============================] - 0s 10ms/step - loss: 0.0058 - mse: 0.0058 - mae: 0.0612 - val_loss: 0.0041 - val_mse: 0.0041 - val_mae: 0.0492\n",
            "Epoch 47/150\n",
            "3/3 [==============================] - 0s 9ms/step - loss: 0.0053 - mse: 0.0053 - mae: 0.0586 - val_loss: 0.0040 - val_mse: 0.0040 - val_mae: 0.0481\n",
            "Epoch 48/150\n",
            "3/3 [==============================] - 0s 9ms/step - loss: 0.0050 - mse: 0.0050 - mae: 0.0569 - val_loss: 0.0040 - val_mse: 0.0040 - val_mae: 0.0476\n",
            "Epoch 49/150\n",
            "3/3 [==============================] - 0s 9ms/step - loss: 0.0047 - mse: 0.0047 - mae: 0.0551 - val_loss: 0.0040 - val_mse: 0.0040 - val_mae: 0.0472\n",
            "Epoch 50/150\n",
            "3/3 [==============================] - 0s 10ms/step - loss: 0.0044 - mse: 0.0044 - mae: 0.0533 - val_loss: 0.0040 - val_mse: 0.0040 - val_mae: 0.0470\n",
            "Epoch 51/150\n",
            "3/3 [==============================] - 0s 11ms/step - loss: 0.0042 - mse: 0.0042 - mae: 0.0521 - val_loss: 0.0040 - val_mse: 0.0040 - val_mae: 0.0468\n",
            "Epoch 52/150\n",
            "3/3 [==============================] - 0s 11ms/step - loss: 0.0040 - mse: 0.0040 - mae: 0.0506 - val_loss: 0.0040 - val_mse: 0.0040 - val_mae: 0.0465\n",
            "Epoch 53/150\n",
            "3/3 [==============================] - 0s 13ms/step - loss: 0.0039 - mse: 0.0039 - mae: 0.0495 - val_loss: 0.0041 - val_mse: 0.0041 - val_mae: 0.0464\n",
            "Epoch 54/150\n",
            "3/3 [==============================] - 0s 11ms/step - loss: 0.0038 - mse: 0.0038 - mae: 0.0484 - val_loss: 0.0041 - val_mse: 0.0041 - val_mae: 0.0463\n",
            "Epoch 55/150\n",
            "3/3 [==============================] - 0s 10ms/step - loss: 0.0037 - mse: 0.0037 - mae: 0.0477 - val_loss: 0.0042 - val_mse: 0.0042 - val_mae: 0.0462\n",
            "Epoch 56/150\n",
            "3/3 [==============================] - 0s 11ms/step - loss: 0.0036 - mse: 0.0036 - mae: 0.0470 - val_loss: 0.0042 - val_mse: 0.0042 - val_mae: 0.0461\n",
            "Epoch 57/150\n",
            "3/3 [==============================] - 0s 10ms/step - loss: 0.0035 - mse: 0.0035 - mae: 0.0463 - val_loss: 0.0042 - val_mse: 0.0042 - val_mae: 0.0459\n",
            "Epoch 58/150\n",
            "3/3 [==============================] - 0s 10ms/step - loss: 0.0035 - mse: 0.0035 - mae: 0.0457 - val_loss: 0.0042 - val_mse: 0.0042 - val_mae: 0.0456\n",
            "Epoch 59/150\n",
            "3/3 [==============================] - 0s 10ms/step - loss: 0.0035 - mse: 0.0035 - mae: 0.0454 - val_loss: 0.0042 - val_mse: 0.0042 - val_mae: 0.0452\n",
            "Epoch 60/150\n",
            "3/3 [==============================] - 0s 12ms/step - loss: 0.0034 - mse: 0.0034 - mae: 0.0449 - val_loss: 0.0042 - val_mse: 0.0042 - val_mae: 0.0450\n",
            "Epoch 61/150\n",
            "3/3 [==============================] - 0s 14ms/step - loss: 0.0034 - mse: 0.0034 - mae: 0.0447 - val_loss: 0.0042 - val_mse: 0.0042 - val_mae: 0.0450\n",
            "Epoch 62/150\n",
            "3/3 [==============================] - 0s 9ms/step - loss: 0.0033 - mse: 0.0033 - mae: 0.0443 - val_loss: 0.0042 - val_mse: 0.0042 - val_mae: 0.0448\n",
            "Epoch 63/150\n",
            "3/3 [==============================] - 0s 9ms/step - loss: 0.0033 - mse: 0.0033 - mae: 0.0440 - val_loss: 0.0041 - val_mse: 0.0041 - val_mae: 0.0445\n",
            "Epoch 64/150\n",
            "3/3 [==============================] - 0s 12ms/step - loss: 0.0033 - mse: 0.0033 - mae: 0.0438 - val_loss: 0.0041 - val_mse: 0.0041 - val_mae: 0.0444\n",
            "Epoch 65/150\n",
            "3/3 [==============================] - 0s 10ms/step - loss: 0.0032 - mse: 0.0032 - mae: 0.0436 - val_loss: 0.0041 - val_mse: 0.0041 - val_mae: 0.0443\n",
            "Epoch 66/150\n",
            "3/3 [==============================] - 0s 10ms/step - loss: 0.0032 - mse: 0.0032 - mae: 0.0433 - val_loss: 0.0041 - val_mse: 0.0041 - val_mae: 0.0442\n",
            "Epoch 67/150\n",
            "3/3 [==============================] - 0s 12ms/step - loss: 0.0032 - mse: 0.0032 - mae: 0.0432 - val_loss: 0.0041 - val_mse: 0.0041 - val_mae: 0.0441\n",
            "Epoch 68/150\n",
            "3/3 [==============================] - 0s 12ms/step - loss: 0.0031 - mse: 0.0031 - mae: 0.0429 - val_loss: 0.0041 - val_mse: 0.0041 - val_mae: 0.0439\n",
            "Epoch 69/150\n",
            "3/3 [==============================] - 0s 11ms/step - loss: 0.0031 - mse: 0.0031 - mae: 0.0427 - val_loss: 0.0040 - val_mse: 0.0040 - val_mae: 0.0439\n",
            "Epoch 70/150\n",
            "3/3 [==============================] - 0s 10ms/step - loss: 0.0031 - mse: 0.0031 - mae: 0.0425 - val_loss: 0.0039 - val_mse: 0.0039 - val_mae: 0.0439\n",
            "Epoch 71/150\n",
            "3/3 [==============================] - 0s 11ms/step - loss: 0.0030 - mse: 0.0030 - mae: 0.0423 - val_loss: 0.0039 - val_mse: 0.0039 - val_mae: 0.0438\n",
            "Epoch 72/150\n",
            "3/3 [==============================] - 0s 10ms/step - loss: 0.0030 - mse: 0.0030 - mae: 0.0421 - val_loss: 0.0039 - val_mse: 0.0039 - val_mae: 0.0436\n",
            "Epoch 73/150\n",
            "3/3 [==============================] - 0s 10ms/step - loss: 0.0030 - mse: 0.0030 - mae: 0.0419 - val_loss: 0.0039 - val_mse: 0.0039 - val_mae: 0.0436\n",
            "Epoch 74/150\n",
            "3/3 [==============================] - 0s 11ms/step - loss: 0.0030 - mse: 0.0030 - mae: 0.0418 - val_loss: 0.0039 - val_mse: 0.0039 - val_mae: 0.0435\n",
            "Epoch 75/150\n",
            "3/3 [==============================] - 0s 15ms/step - loss: 0.0029 - mse: 0.0029 - mae: 0.0417 - val_loss: 0.0038 - val_mse: 0.0038 - val_mae: 0.0435\n",
            "Epoch 76/150\n",
            "3/3 [==============================] - 0s 12ms/step - loss: 0.0029 - mse: 0.0029 - mae: 0.0415 - val_loss: 0.0038 - val_mse: 0.0038 - val_mae: 0.0434\n",
            "Epoch 77/150\n",
            "3/3 [==============================] - 0s 11ms/step - loss: 0.0029 - mse: 0.0029 - mae: 0.0413 - val_loss: 0.0037 - val_mse: 0.0037 - val_mae: 0.0434\n",
            "Epoch 78/150\n",
            "3/3 [==============================] - 0s 10ms/step - loss: 0.0029 - mse: 0.0029 - mae: 0.0412 - val_loss: 0.0037 - val_mse: 0.0037 - val_mae: 0.0433\n",
            "Epoch 79/150\n",
            "3/3 [==============================] - 0s 10ms/step - loss: 0.0029 - mse: 0.0029 - mae: 0.0411 - val_loss: 0.0037 - val_mse: 0.0037 - val_mae: 0.0433\n",
            "Epoch 80/150\n",
            "3/3 [==============================] - 0s 10ms/step - loss: 0.0028 - mse: 0.0028 - mae: 0.0409 - val_loss: 0.0037 - val_mse: 0.0037 - val_mae: 0.0432\n",
            "Epoch 81/150\n",
            "3/3 [==============================] - 0s 10ms/step - loss: 0.0028 - mse: 0.0028 - mae: 0.0408 - val_loss: 0.0036 - val_mse: 0.0036 - val_mae: 0.0432\n",
            "Epoch 82/150\n",
            "3/3 [==============================] - 0s 11ms/step - loss: 0.0028 - mse: 0.0028 - mae: 0.0407 - val_loss: 0.0037 - val_mse: 0.0037 - val_mae: 0.0432\n",
            "Epoch 83/150\n",
            "3/3 [==============================] - 0s 10ms/step - loss: 0.0028 - mse: 0.0028 - mae: 0.0406 - val_loss: 0.0036 - val_mse: 0.0036 - val_mae: 0.0431\n",
            "Epoch 84/150\n",
            "3/3 [==============================] - 0s 13ms/step - loss: 0.0028 - mse: 0.0028 - mae: 0.0404 - val_loss: 0.0036 - val_mse: 0.0036 - val_mae: 0.0431\n",
            "Epoch 85/150\n",
            "3/3 [==============================] - 0s 12ms/step - loss: 0.0027 - mse: 0.0027 - mae: 0.0403 - val_loss: 0.0035 - val_mse: 0.0035 - val_mae: 0.0432\n",
            "Epoch 86/150\n",
            "3/3 [==============================] - 0s 12ms/step - loss: 0.0027 - mse: 0.0027 - mae: 0.0402 - val_loss: 0.0035 - val_mse: 0.0035 - val_mae: 0.0431\n",
            "Epoch 87/150\n",
            "3/3 [==============================] - 0s 10ms/step - loss: 0.0027 - mse: 0.0027 - mae: 0.0402 - val_loss: 0.0036 - val_mse: 0.0036 - val_mae: 0.0431\n",
            "Epoch 88/150\n",
            "3/3 [==============================] - 0s 10ms/step - loss: 0.0027 - mse: 0.0027 - mae: 0.0400 - val_loss: 0.0035 - val_mse: 0.0035 - val_mae: 0.0431\n",
            "Epoch 89/150\n",
            "3/3 [==============================] - 0s 11ms/step - loss: 0.0027 - mse: 0.0027 - mae: 0.0399 - val_loss: 0.0035 - val_mse: 0.0035 - val_mae: 0.0432\n",
            "Epoch 90/150\n",
            "3/3 [==============================] - 0s 9ms/step - loss: 0.0027 - mse: 0.0027 - mae: 0.0398 - val_loss: 0.0035 - val_mse: 0.0035 - val_mae: 0.0431\n",
            "Epoch 91/150\n",
            "3/3 [==============================] - 0s 11ms/step - loss: 0.0026 - mse: 0.0026 - mae: 0.0396 - val_loss: 0.0035 - val_mse: 0.0035 - val_mae: 0.0431\n",
            "Epoch 92/150\n",
            "3/3 [==============================] - 0s 11ms/step - loss: 0.0026 - mse: 0.0026 - mae: 0.0395 - val_loss: 0.0034 - val_mse: 0.0034 - val_mae: 0.0430\n",
            "Epoch 93/150\n",
            "3/3 [==============================] - 0s 11ms/step - loss: 0.0026 - mse: 0.0026 - mae: 0.0395 - val_loss: 0.0034 - val_mse: 0.0034 - val_mae: 0.0430\n",
            "Epoch 94/150\n",
            "3/3 [==============================] - 0s 12ms/step - loss: 0.0026 - mse: 0.0026 - mae: 0.0394 - val_loss: 0.0034 - val_mse: 0.0034 - val_mae: 0.0429\n",
            "Epoch 95/150\n",
            "3/3 [==============================] - 0s 14ms/step - loss: 0.0026 - mse: 0.0026 - mae: 0.0393 - val_loss: 0.0034 - val_mse: 0.0034 - val_mae: 0.0429\n",
            "Epoch 96/150\n",
            "3/3 [==============================] - 0s 11ms/step - loss: 0.0026 - mse: 0.0026 - mae: 0.0393 - val_loss: 0.0034 - val_mse: 0.0034 - val_mae: 0.0428\n",
            "Epoch 97/150\n",
            "3/3 [==============================] - 0s 10ms/step - loss: 0.0026 - mse: 0.0026 - mae: 0.0390 - val_loss: 0.0033 - val_mse: 0.0033 - val_mae: 0.0428\n",
            "Epoch 98/150\n",
            "3/3 [==============================] - 0s 11ms/step - loss: 0.0025 - mse: 0.0025 - mae: 0.0390 - val_loss: 0.0033 - val_mse: 0.0033 - val_mae: 0.0429\n",
            "Epoch 99/150\n",
            "3/3 [==============================] - 0s 13ms/step - loss: 0.0025 - mse: 0.0025 - mae: 0.0390 - val_loss: 0.0033 - val_mse: 0.0033 - val_mae: 0.0428\n",
            "Epoch 100/150\n",
            "3/3 [==============================] - 0s 12ms/step - loss: 0.0025 - mse: 0.0025 - mae: 0.0389 - val_loss: 0.0032 - val_mse: 0.0032 - val_mae: 0.0427\n",
            "Epoch 101/150\n",
            "3/3 [==============================] - 0s 10ms/step - loss: 0.0025 - mse: 0.0025 - mae: 0.0388 - val_loss: 0.0032 - val_mse: 0.0032 - val_mae: 0.0425\n",
            "Epoch 102/150\n",
            "3/3 [==============================] - 0s 10ms/step - loss: 0.0025 - mse: 0.0025 - mae: 0.0387 - val_loss: 0.0032 - val_mse: 0.0032 - val_mae: 0.0425\n",
            "Epoch 103/150\n",
            "3/3 [==============================] - 0s 10ms/step - loss: 0.0025 - mse: 0.0025 - mae: 0.0387 - val_loss: 0.0032 - val_mse: 0.0032 - val_mae: 0.0424\n",
            "Epoch 104/150\n",
            "3/3 [==============================] - 0s 10ms/step - loss: 0.0025 - mse: 0.0025 - mae: 0.0387 - val_loss: 0.0032 - val_mse: 0.0032 - val_mae: 0.0424\n",
            "Epoch 105/150\n",
            "3/3 [==============================] - 0s 10ms/step - loss: 0.0025 - mse: 0.0025 - mae: 0.0386 - val_loss: 0.0032 - val_mse: 0.0032 - val_mae: 0.0423\n",
            "Epoch 106/150\n",
            "3/3 [==============================] - 0s 15ms/step - loss: 0.0025 - mse: 0.0025 - mae: 0.0384 - val_loss: 0.0032 - val_mse: 0.0032 - val_mae: 0.0423\n",
            "Epoch 107/150\n",
            "3/3 [==============================] - 0s 11ms/step - loss: 0.0024 - mse: 0.0024 - mae: 0.0384 - val_loss: 0.0031 - val_mse: 0.0031 - val_mae: 0.0423\n",
            "Epoch 108/150\n",
            "3/3 [==============================] - 0s 12ms/step - loss: 0.0024 - mse: 0.0024 - mae: 0.0383 - val_loss: 0.0031 - val_mse: 0.0031 - val_mae: 0.0423\n",
            "Epoch 109/150\n",
            "3/3 [==============================] - 0s 11ms/step - loss: 0.0024 - mse: 0.0024 - mae: 0.0383 - val_loss: 0.0031 - val_mse: 0.0031 - val_mae: 0.0423\n",
            "Epoch 110/150\n",
            "3/3 [==============================] - 0s 10ms/step - loss: 0.0024 - mse: 0.0024 - mae: 0.0382 - val_loss: 0.0031 - val_mse: 0.0031 - val_mae: 0.0423\n",
            "Epoch 111/150\n",
            "3/3 [==============================] - 0s 10ms/step - loss: 0.0024 - mse: 0.0024 - mae: 0.0382 - val_loss: 0.0031 - val_mse: 0.0031 - val_mae: 0.0422\n",
            "Epoch 112/150\n",
            "3/3 [==============================] - 0s 11ms/step - loss: 0.0024 - mse: 0.0024 - mae: 0.0381 - val_loss: 0.0031 - val_mse: 0.0031 - val_mae: 0.0422\n",
            "Epoch 113/150\n",
            "3/3 [==============================] - 0s 10ms/step - loss: 0.0024 - mse: 0.0024 - mae: 0.0382 - val_loss: 0.0031 - val_mse: 0.0031 - val_mae: 0.0423\n",
            "Epoch 114/150\n",
            "3/3 [==============================] - 0s 12ms/step - loss: 0.0024 - mse: 0.0024 - mae: 0.0380 - val_loss: 0.0031 - val_mse: 0.0031 - val_mae: 0.0422\n",
            "Epoch 115/150\n",
            "3/3 [==============================] - 0s 12ms/step - loss: 0.0024 - mse: 0.0024 - mae: 0.0380 - val_loss: 0.0031 - val_mse: 0.0031 - val_mae: 0.0422\n",
            "Epoch 116/150\n",
            "3/3 [==============================] - 0s 12ms/step - loss: 0.0024 - mse: 0.0024 - mae: 0.0379 - val_loss: 0.0031 - val_mse: 0.0031 - val_mae: 0.0422\n",
            "Epoch 117/150\n",
            "3/3 [==============================] - 0s 10ms/step - loss: 0.0024 - mse: 0.0024 - mae: 0.0379 - val_loss: 0.0030 - val_mse: 0.0030 - val_mae: 0.0422\n",
            "Epoch 118/150\n",
            "3/3 [==============================] - 0s 11ms/step - loss: 0.0024 - mse: 0.0024 - mae: 0.0378 - val_loss: 0.0030 - val_mse: 0.0030 - val_mae: 0.0422\n",
            "Epoch 119/150\n",
            "3/3 [==============================] - 0s 12ms/step - loss: 0.0024 - mse: 0.0024 - mae: 0.0379 - val_loss: 0.0030 - val_mse: 0.0030 - val_mae: 0.0422\n",
            "Epoch 120/150\n",
            "3/3 [==============================] - 0s 10ms/step - loss: 0.0023 - mse: 0.0023 - mae: 0.0377 - val_loss: 0.0030 - val_mse: 0.0030 - val_mae: 0.0421\n",
            "Epoch 121/150\n",
            "3/3 [==============================] - 0s 10ms/step - loss: 0.0023 - mse: 0.0023 - mae: 0.0378 - val_loss: 0.0031 - val_mse: 0.0031 - val_mae: 0.0420\n",
            "Epoch 122/150\n",
            "3/3 [==============================] - 0s 14ms/step - loss: 0.0023 - mse: 0.0023 - mae: 0.0377 - val_loss: 0.0030 - val_mse: 0.0030 - val_mae: 0.0420\n",
            "Epoch 123/150\n",
            "3/3 [==============================] - 0s 10ms/step - loss: 0.0023 - mse: 0.0023 - mae: 0.0378 - val_loss: 0.0030 - val_mse: 0.0030 - val_mae: 0.0421\n",
            "Epoch 124/150\n",
            "3/3 [==============================] - 0s 11ms/step - loss: 0.0023 - mse: 0.0023 - mae: 0.0375 - val_loss: 0.0030 - val_mse: 0.0030 - val_mae: 0.0420\n",
            "Epoch 125/150\n",
            "3/3 [==============================] - 0s 13ms/step - loss: 0.0023 - mse: 0.0023 - mae: 0.0375 - val_loss: 0.0030 - val_mse: 0.0030 - val_mae: 0.0419\n",
            "Epoch 126/150\n",
            "3/3 [==============================] - 0s 12ms/step - loss: 0.0023 - mse: 0.0023 - mae: 0.0374 - val_loss: 0.0030 - val_mse: 0.0030 - val_mae: 0.0418\n",
            "Epoch 127/150\n",
            "3/3 [==============================] - 0s 10ms/step - loss: 0.0023 - mse: 0.0023 - mae: 0.0375 - val_loss: 0.0030 - val_mse: 0.0030 - val_mae: 0.0417\n",
            "Epoch 128/150\n",
            "3/3 [==============================] - 0s 12ms/step - loss: 0.0023 - mse: 0.0023 - mae: 0.0375 - val_loss: 0.0029 - val_mse: 0.0029 - val_mae: 0.0416\n",
            "Epoch 129/150\n",
            "3/3 [==============================] - 0s 10ms/step - loss: 0.0023 - mse: 0.0023 - mae: 0.0373 - val_loss: 0.0029 - val_mse: 0.0029 - val_mae: 0.0416\n",
            "Epoch 130/150\n",
            "3/3 [==============================] - 0s 11ms/step - loss: 0.0023 - mse: 0.0023 - mae: 0.0373 - val_loss: 0.0029 - val_mse: 0.0029 - val_mae: 0.0416\n",
            "Epoch 131/150\n",
            "3/3 [==============================] - 0s 11ms/step - loss: 0.0023 - mse: 0.0023 - mae: 0.0371 - val_loss: 0.0029 - val_mse: 0.0029 - val_mae: 0.0414\n",
            "Epoch 132/150\n",
            "3/3 [==============================] - 0s 10ms/step - loss: 0.0023 - mse: 0.0023 - mae: 0.0371 - val_loss: 0.0029 - val_mse: 0.0029 - val_mae: 0.0414\n",
            "Epoch 133/150\n",
            "3/3 [==============================] - 0s 10ms/step - loss: 0.0023 - mse: 0.0023 - mae: 0.0372 - val_loss: 0.0029 - val_mse: 0.0029 - val_mae: 0.0414\n",
            "Epoch 134/150\n",
            "3/3 [==============================] - 0s 13ms/step - loss: 0.0023 - mse: 0.0023 - mae: 0.0372 - val_loss: 0.0029 - val_mse: 0.0029 - val_mae: 0.0414\n",
            "Epoch 135/150\n",
            "3/3 [==============================] - 0s 10ms/step - loss: 0.0022 - mse: 0.0022 - mae: 0.0371 - val_loss: 0.0029 - val_mse: 0.0029 - val_mae: 0.0413\n",
            "Epoch 136/150\n",
            "3/3 [==============================] - 0s 11ms/step - loss: 0.0022 - mse: 0.0022 - mae: 0.0370 - val_loss: 0.0029 - val_mse: 0.0029 - val_mae: 0.0413\n",
            "Epoch 137/150\n",
            "3/3 [==============================] - 0s 14ms/step - loss: 0.0022 - mse: 0.0022 - mae: 0.0369 - val_loss: 0.0028 - val_mse: 0.0028 - val_mae: 0.0415\n",
            "Epoch 138/150\n",
            "3/3 [==============================] - 0s 11ms/step - loss: 0.0022 - mse: 0.0022 - mae: 0.0369 - val_loss: 0.0028 - val_mse: 0.0028 - val_mae: 0.0414\n",
            "Epoch 139/150\n",
            "3/3 [==============================] - 0s 11ms/step - loss: 0.0022 - mse: 0.0022 - mae: 0.0368 - val_loss: 0.0028 - val_mse: 0.0028 - val_mae: 0.0413\n",
            "Epoch 140/150\n",
            "3/3 [==============================] - 0s 10ms/step - loss: 0.0022 - mse: 0.0022 - mae: 0.0368 - val_loss: 0.0028 - val_mse: 0.0028 - val_mae: 0.0412\n",
            "Epoch 141/150\n",
            "3/3 [==============================] - 0s 11ms/step - loss: 0.0022 - mse: 0.0022 - mae: 0.0368 - val_loss: 0.0029 - val_mse: 0.0029 - val_mae: 0.0412\n",
            "Epoch 142/150\n",
            "3/3 [==============================] - 0s 11ms/step - loss: 0.0022 - mse: 0.0022 - mae: 0.0369 - val_loss: 0.0028 - val_mse: 0.0028 - val_mae: 0.0411\n",
            "Epoch 143/150\n",
            "3/3 [==============================] - 0s 10ms/step - loss: 0.0022 - mse: 0.0022 - mae: 0.0367 - val_loss: 0.0028 - val_mse: 0.0028 - val_mae: 0.0411\n",
            "Epoch 144/150\n",
            "3/3 [==============================] - 0s 10ms/step - loss: 0.0022 - mse: 0.0022 - mae: 0.0366 - val_loss: 0.0028 - val_mse: 0.0028 - val_mae: 0.0411\n",
            "Epoch 145/150\n",
            "3/3 [==============================] - 0s 12ms/step - loss: 0.0022 - mse: 0.0022 - mae: 0.0366 - val_loss: 0.0028 - val_mse: 0.0028 - val_mae: 0.0411\n",
            "Epoch 146/150\n",
            "3/3 [==============================] - 0s 10ms/step - loss: 0.0022 - mse: 0.0022 - mae: 0.0366 - val_loss: 0.0028 - val_mse: 0.0028 - val_mae: 0.0409\n",
            "Epoch 147/150\n",
            "3/3 [==============================] - 0s 14ms/step - loss: 0.0022 - mse: 0.0022 - mae: 0.0366 - val_loss: 0.0028 - val_mse: 0.0028 - val_mae: 0.0409\n",
            "Epoch 148/150\n",
            "3/3 [==============================] - 0s 11ms/step - loss: 0.0022 - mse: 0.0022 - mae: 0.0366 - val_loss: 0.0028 - val_mse: 0.0028 - val_mae: 0.0408\n",
            "Epoch 149/150\n",
            "3/3 [==============================] - 0s 11ms/step - loss: 0.0022 - mse: 0.0022 - mae: 0.0364 - val_loss: 0.0028 - val_mse: 0.0028 - val_mae: 0.0408\n",
            "Epoch 150/150\n",
            "3/3 [==============================] - 0s 12ms/step - loss: 0.0022 - mse: 0.0022 - mae: 0.0364 - val_loss: 0.0027 - val_mse: 0.0027 - val_mae: 0.0408\n"
          ]
        }
      ]
    },
    {
      "cell_type": "code",
      "metadata": {
        "colab": {
          "base_uri": "https://localhost:8080/",
          "height": 312
        },
        "id": "pJrZmQLhl0OM",
        "outputId": "94da59b8-bef3-4877-ccda-5df0de8a8edd"
      },
      "source": [
        "print(history.history.keys())\n",
        "# \"Loss\"\n",
        "plt.plot(history.history['loss'])\n",
        "plt.plot(history.history['val_loss'])\n",
        "plt.title('model loss')\n",
        "plt.ylabel('loss')\n",
        "plt.xlabel('epoch')\n",
        "plt.legend(['train', 'validation'], loc='upper left')\n",
        "plt.show()"
      ],
      "execution_count": 81,
      "outputs": [
        {
          "output_type": "stream",
          "name": "stdout",
          "text": [
            "dict_keys(['loss', 'mse', 'mae', 'val_loss', 'val_mse', 'val_mae'])\n"
          ]
        },
        {
          "output_type": "display_data",
          "data": {
            "image/png": "[encoded data removed]",
            "text/plain": [
              "<Figure size 432x288 with 1 Axes>"
            ]
          },
          "metadata": {
            "needs_background": "light"
          }
        }
      ]
    },
    {
      "cell_type": "code",
      "metadata": {
        "id": "J1B0hOUmpEjG"
      },
      "source": [
        "y_pred = model.predict(X_test)"
      ],
      "execution_count": 90,
      "outputs": []
    },
    {
      "cell_type": "code",
      "metadata": {
        "colab": {
          "base_uri": "https://localhost:8080/"
        },
        "id": "XodNBR_OpJZC",
        "outputId": "985783ef-0220-437f-97b9-0e7830af7ff2"
      },
      "source": [
        "MAE_mlp = mean_absolute_error(y_test, y_pred)\n",
        "print('MAE value of the MLP Model is:', MAE_mlp)\n",
        "\n",
        "MDA_mlp = np.mean((np.sign(y_test[1:] - y_test[:-1]) == np.sign(y_pred[1:] - y_pred[:-1])).astype(int))\n",
        "print('MDA value of the MLP Model is:', (MDA_mlp))\n",
        "\n",
        "MAPE_mlp = mean_absolute_percentage_error(y_test, y_pred)\n",
        "print('MAPE value of the MLP Model is:', (MAPE_mlp))\n",
        "\n",
        "RMSE_mlp = mean_squared_error(y_test, y_pred, squared=False)\n",
        "print('RMSE value of the MLP Model is:', (RMSE_mlp))\n",
        "\n",
        "MSE_mlp = mean_squared_error(y_test, y_pred)\n",
        "print('MSE value of the MLP Model is:', (MSE_mlp))"
      ],
      "execution_count": 93,
      "outputs": [
        {
          "output_type": "stream",
          "name": "stdout",
          "text": [
            "MAE value of the MLP Model is: 0.03618653438677184\n",
            "MDA value of the MLP Model is: 0.8596491228070176\n",
            "MAPE value of the MLP Model is: 24.424924482129338\n",
            "RMSE value of the MLP Model is: 0.044338992553224724\n",
            "MSE value of the MLP Model is: 0.0019659462606349174\n"
          ]
        }
      ]
    },
    {
      "cell_type": "code",
      "metadata": {
        "colab": {
          "base_uri": "https://localhost:8080/",
          "height": 281
        },
        "id": "Ae5c15qNFtOq",
        "outputId": "40484337-fe4e-42cd-b5f7-e5fbb7310f98"
      },
      "source": [
        "plt.plot(y_test, color = 'red', label = 'Real data')\n",
        "plt.plot(y_pred, color = 'blue', label = 'Predicted data')\n",
        "plt.title('Prediction')\n",
        "plt.legend()\n",
        "plt.show()"
      ],
      "execution_count": 94,
      "outputs": [
        {
          "output_type": "display_data",
          "data": {
            "image/png": "[encoded data removed]",
            "text/plain": [
              "<Figure size 432x288 with 1 Axes>"
            ]
          },
          "metadata": {
            "needs_background": "light"
          }
        }
      ]
    }
  ]
}