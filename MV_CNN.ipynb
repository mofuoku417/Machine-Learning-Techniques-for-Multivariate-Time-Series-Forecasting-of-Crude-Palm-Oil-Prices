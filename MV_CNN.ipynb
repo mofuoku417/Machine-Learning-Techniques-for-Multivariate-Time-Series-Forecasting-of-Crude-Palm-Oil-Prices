{
  "nbformat": 4,
  "nbformat_minor": 0,
  "metadata": {
    "colab": {
      "name": "MV_CNN.ipynb",
      "provenance": [],
      "authorship_tag": "ABX9TyPCp87FCJlB9hBYGUf0idNp",
      "include_colab_link": true
    },
    "kernelspec": {
      "name": "python3",
      "display_name": "Python 3"
    },
    "language_info": {
      "name": "python"
    },
    "gpuClass": "standard",
    "accelerator": "GPU"
  },
  "cells": [
    {
      "cell_type": "markdown",
      "metadata": {
        "id": "view-in-github",
        "colab_type": "text"
      },
      "source": [
        "<a href=\"https://colab.research.google.com/github/mofuoku417/Machine-Learning-Techniques-for-Multivariate-Time-Series-Forecasting-of-Crude-Palm-Oil-Prices/blob/main/MV_CNN.ipynb\" target=\"_parent\"><img src=\"https://colab.research.google.com/assets/colab-badge.svg\" alt=\"Open In Colab\"/></a>"
      ]
    },
    {
      "cell_type": "markdown",
      "source": [
        "##Objective: Predict Monthly Crude Palm Oil Price Using Convolutional Neural Network (CNN)"
      ],
      "metadata": {
        "id": "tt6Yvzr3gZ-g"
      }
    },
    {
      "cell_type": "markdown",
      "source": [
        "###Install dependencies"
      ],
      "metadata": {
        "id": "TvRmatc1Lo4v"
      }
    },
    {
      "cell_type": "code",
      "source": [
        "!pip install scikeras\n",
        "!pip install bayesian-optimization\n",
        "!pip install keras-tuner --upgrade"
      ],
      "metadata": {
        "id": "gGw0m6TUdgMM",
        "outputId": "91dff2b4-c30a-4e72-93a0-323b66b26e5e",
        "colab": {
          "base_uri": "https://localhost:8080/"
        }
      },
      "execution_count": 1,
      "outputs": [
        {
          "output_type": "stream",
          "name": "stdout",
          "text": [
            "Looking in indexes: https://pypi.org/simple, https://us-python.pkg.dev/colab-wheels/public/simple/\n",
            "Collecting scikeras\n",
            "  Downloading scikeras-0.10.0-py3-none-any.whl (27 kB)\n",
            "Requirement already satisfied: packaging>=0.21 in /usr/local/lib/python3.8/dist-packages (from scikeras) (23.0)\n",
            "Requirement already satisfied: scikit-learn>=1.0.0 in /usr/local/lib/python3.8/dist-packages (from scikeras) (1.0.2)\n",
            "Requirement already satisfied: threadpoolctl>=2.0.0 in /usr/local/lib/python3.8/dist-packages (from scikit-learn>=1.0.0->scikeras) (3.1.0)\n",
            "Requirement already satisfied: joblib>=0.11 in /usr/local/lib/python3.8/dist-packages (from scikit-learn>=1.0.0->scikeras) (1.2.0)\n",
            "Requirement already satisfied: numpy>=1.14.6 in /usr/local/lib/python3.8/dist-packages (from scikit-learn>=1.0.0->scikeras) (1.21.6)\n",
            "Requirement already satisfied: scipy>=1.1.0 in /usr/local/lib/python3.8/dist-packages (from scikit-learn>=1.0.0->scikeras) (1.7.3)\n",
            "Installing collected packages: scikeras\n",
            "Successfully installed scikeras-0.10.0\n",
            "Looking in indexes: https://pypi.org/simple, https://us-python.pkg.dev/colab-wheels/public/simple/\n",
            "Collecting bayesian-optimization\n",
            "  Downloading bayesian_optimization-1.4.2-py3-none-any.whl (17 kB)\n",
            "Collecting colorama>=0.4.6\n",
            "  Downloading colorama-0.4.6-py2.py3-none-any.whl (25 kB)\n",
            "Requirement already satisfied: numpy>=1.9.0 in /usr/local/lib/python3.8/dist-packages (from bayesian-optimization) (1.21.6)\n",
            "Requirement already satisfied: scipy>=1.0.0 in /usr/local/lib/python3.8/dist-packages (from bayesian-optimization) (1.7.3)\n",
            "Requirement already satisfied: scikit-learn>=0.18.0 in /usr/local/lib/python3.8/dist-packages (from bayesian-optimization) (1.0.2)\n",
            "Requirement already satisfied: joblib>=0.11 in /usr/local/lib/python3.8/dist-packages (from scikit-learn>=0.18.0->bayesian-optimization) (1.2.0)\n",
            "Requirement already satisfied: threadpoolctl>=2.0.0 in /usr/local/lib/python3.8/dist-packages (from scikit-learn>=0.18.0->bayesian-optimization) (3.1.0)\n",
            "Installing collected packages: colorama, bayesian-optimization\n",
            "Successfully installed bayesian-optimization-1.4.2 colorama-0.4.6\n",
            "Looking in indexes: https://pypi.org/simple, https://us-python.pkg.dev/colab-wheels/public/simple/\n",
            "Collecting keras-tuner\n",
            "  Downloading keras_tuner-1.2.1-py3-none-any.whl (169 kB)\n",
            "\u001b[2K     \u001b[90m━━━━━━━━━━━━━━━━━━━━━━━━━━━━━━━━━━━━━━━\u001b[0m \u001b[32m169.6/169.6 KB\u001b[0m \u001b[31m3.5 MB/s\u001b[0m eta \u001b[36m0:00:00\u001b[0m\n",
            "\u001b[?25hRequirement already satisfied: tensorflow>=2.0 in /usr/local/lib/python3.8/dist-packages (from keras-tuner) (2.11.0)\n",
            "Requirement already satisfied: ipython in /usr/local/lib/python3.8/dist-packages (from keras-tuner) (7.9.0)\n",
            "Requirement already satisfied: requests in /usr/local/lib/python3.8/dist-packages (from keras-tuner) (2.25.1)\n",
            "Requirement already satisfied: packaging in /usr/local/lib/python3.8/dist-packages (from keras-tuner) (23.0)\n",
            "Collecting kt-legacy\n",
            "  Downloading kt_legacy-1.0.4-py3-none-any.whl (9.6 kB)\n",
            "Requirement already satisfied: keras<2.12,>=2.11.0 in /usr/local/lib/python3.8/dist-packages (from tensorflow>=2.0->keras-tuner) (2.11.0)\n",
            "Requirement already satisfied: six>=1.12.0 in /usr/local/lib/python3.8/dist-packages (from tensorflow>=2.0->keras-tuner) (1.15.0)\n",
            "Requirement already satisfied: libclang>=13.0.0 in /usr/local/lib/python3.8/dist-packages (from tensorflow>=2.0->keras-tuner) (15.0.6.1)\n",
            "Requirement already satisfied: setuptools in /usr/local/lib/python3.8/dist-packages (from tensorflow>=2.0->keras-tuner) (57.4.0)\n",
            "Requirement already satisfied: tensorboard<2.12,>=2.11 in /usr/local/lib/python3.8/dist-packages (from tensorflow>=2.0->keras-tuner) (2.11.2)\n",
            "Requirement already satisfied: tensorflow-io-gcs-filesystem>=0.23.1 in /usr/local/lib/python3.8/dist-packages (from tensorflow>=2.0->keras-tuner) (0.30.0)\n",
            "Requirement already satisfied: protobuf<3.20,>=3.9.2 in /usr/local/lib/python3.8/dist-packages (from tensorflow>=2.0->keras-tuner) (3.19.6)\n",
            "Requirement already satisfied: opt-einsum>=2.3.2 in /usr/local/lib/python3.8/dist-packages (from tensorflow>=2.0->keras-tuner) (3.3.0)\n",
            "Requirement already satisfied: numpy>=1.20 in /usr/local/lib/python3.8/dist-packages (from tensorflow>=2.0->keras-tuner) (1.21.6)\n",
            "Requirement already satisfied: astunparse>=1.6.0 in /usr/local/lib/python3.8/dist-packages (from tensorflow>=2.0->keras-tuner) (1.6.3)\n",
            "Requirement already satisfied: tensorflow-estimator<2.12,>=2.11.0 in /usr/local/lib/python3.8/dist-packages (from tensorflow>=2.0->keras-tuner) (2.11.0)\n",
            "Requirement already satisfied: grpcio<2.0,>=1.24.3 in /usr/local/lib/python3.8/dist-packages (from tensorflow>=2.0->keras-tuner) (1.51.1)\n",
            "Requirement already satisfied: gast<=0.4.0,>=0.2.1 in /usr/local/lib/python3.8/dist-packages (from tensorflow>=2.0->keras-tuner) (0.4.0)\n",
            "Requirement already satisfied: wrapt>=1.11.0 in /usr/local/lib/python3.8/dist-packages (from tensorflow>=2.0->keras-tuner) (1.14.1)\n",
            "Requirement already satisfied: h5py>=2.9.0 in /usr/local/lib/python3.8/dist-packages (from tensorflow>=2.0->keras-tuner) (3.1.0)\n",
            "Requirement already satisfied: flatbuffers>=2.0 in /usr/local/lib/python3.8/dist-packages (from tensorflow>=2.0->keras-tuner) (23.1.21)\n",
            "Requirement already satisfied: termcolor>=1.1.0 in /usr/local/lib/python3.8/dist-packages (from tensorflow>=2.0->keras-tuner) (2.2.0)\n",
            "Requirement already satisfied: absl-py>=1.0.0 in /usr/local/lib/python3.8/dist-packages (from tensorflow>=2.0->keras-tuner) (1.4.0)\n",
            "Requirement already satisfied: typing-extensions>=3.6.6 in /usr/local/lib/python3.8/dist-packages (from tensorflow>=2.0->keras-tuner) (4.5.0)\n",
            "Requirement already satisfied: google-pasta>=0.1.1 in /usr/local/lib/python3.8/dist-packages (from tensorflow>=2.0->keras-tuner) (0.2.0)\n",
            "Requirement already satisfied: pygments in /usr/local/lib/python3.8/dist-packages (from ipython->keras-tuner) (2.6.1)\n",
            "Requirement already satisfied: prompt-toolkit<2.1.0,>=2.0.0 in /usr/local/lib/python3.8/dist-packages (from ipython->keras-tuner) (2.0.10)\n",
            "Requirement already satisfied: traitlets>=4.2 in /usr/local/lib/python3.8/dist-packages (from ipython->keras-tuner) (5.7.1)\n",
            "Collecting jedi>=0.10\n",
            "  Downloading jedi-0.18.2-py2.py3-none-any.whl (1.6 MB)\n",
            "\u001b[2K     \u001b[90m━━━━━━━━━━━━━━━━━━━━━━━━━━━━━━━━━━━━━━━━\u001b[0m \u001b[32m1.6/1.6 MB\u001b[0m \u001b[31m18.7 MB/s\u001b[0m eta \u001b[36m0:00:00\u001b[0m\n",
            "\u001b[?25hRequirement already satisfied: pickleshare in /usr/local/lib/python3.8/dist-packages (from ipython->keras-tuner) (0.7.5)\n",
            "Requirement already satisfied: decorator in /usr/local/lib/python3.8/dist-packages (from ipython->keras-tuner) (4.4.2)\n",
            "Requirement already satisfied: backcall in /usr/local/lib/python3.8/dist-packages (from ipython->keras-tuner) (0.2.0)\n",
            "Requirement already satisfied: pexpect in /usr/local/lib/python3.8/dist-packages (from ipython->keras-tuner) (4.8.0)\n",
            "Requirement already satisfied: certifi>=2017.4.17 in /usr/local/lib/python3.8/dist-packages (from requests->keras-tuner) (2022.12.7)\n",
            "Requirement already satisfied: urllib3<1.27,>=1.21.1 in /usr/local/lib/python3.8/dist-packages (from requests->keras-tuner) (1.24.3)\n",
            "Requirement already satisfied: chardet<5,>=3.0.2 in /usr/local/lib/python3.8/dist-packages (from requests->keras-tuner) (4.0.0)\n",
            "Requirement already satisfied: idna<3,>=2.5 in /usr/local/lib/python3.8/dist-packages (from requests->keras-tuner) (2.10)\n",
            "Requirement already satisfied: wheel<1.0,>=0.23.0 in /usr/local/lib/python3.8/dist-packages (from astunparse>=1.6.0->tensorflow>=2.0->keras-tuner) (0.38.4)\n",
            "Requirement already satisfied: parso<0.9.0,>=0.8.0 in /usr/local/lib/python3.8/dist-packages (from jedi>=0.10->ipython->keras-tuner) (0.8.3)\n",
            "Requirement already satisfied: wcwidth in /usr/local/lib/python3.8/dist-packages (from prompt-toolkit<2.1.0,>=2.0.0->ipython->keras-tuner) (0.2.6)\n",
            "Requirement already satisfied: werkzeug>=1.0.1 in /usr/local/lib/python3.8/dist-packages (from tensorboard<2.12,>=2.11->tensorflow>=2.0->keras-tuner) (1.0.1)\n",
            "Requirement already satisfied: markdown>=2.6.8 in /usr/local/lib/python3.8/dist-packages (from tensorboard<2.12,>=2.11->tensorflow>=2.0->keras-tuner) (3.4.1)\n",
            "Requirement already satisfied: tensorboard-data-server<0.7.0,>=0.6.0 in /usr/local/lib/python3.8/dist-packages (from tensorboard<2.12,>=2.11->tensorflow>=2.0->keras-tuner) (0.6.1)\n",
            "Requirement already satisfied: google-auth<3,>=1.6.3 in /usr/local/lib/python3.8/dist-packages (from tensorboard<2.12,>=2.11->tensorflow>=2.0->keras-tuner) (2.16.0)\n",
            "Requirement already satisfied: tensorboard-plugin-wit>=1.6.0 in /usr/local/lib/python3.8/dist-packages (from tensorboard<2.12,>=2.11->tensorflow>=2.0->keras-tuner) (1.8.1)\n",
            "Requirement already satisfied: google-auth-oauthlib<0.5,>=0.4.1 in /usr/local/lib/python3.8/dist-packages (from tensorboard<2.12,>=2.11->tensorflow>=2.0->keras-tuner) (0.4.6)\n",
            "Requirement already satisfied: ptyprocess>=0.5 in /usr/local/lib/python3.8/dist-packages (from pexpect->ipython->keras-tuner) (0.7.0)\n",
            "Requirement already satisfied: pyasn1-modules>=0.2.1 in /usr/local/lib/python3.8/dist-packages (from google-auth<3,>=1.6.3->tensorboard<2.12,>=2.11->tensorflow>=2.0->keras-tuner) (0.2.8)\n",
            "Requirement already satisfied: cachetools<6.0,>=2.0.0 in /usr/local/lib/python3.8/dist-packages (from google-auth<3,>=1.6.3->tensorboard<2.12,>=2.11->tensorflow>=2.0->keras-tuner) (5.3.0)\n",
            "Requirement already satisfied: rsa<5,>=3.1.4 in /usr/local/lib/python3.8/dist-packages (from google-auth<3,>=1.6.3->tensorboard<2.12,>=2.11->tensorflow>=2.0->keras-tuner) (4.9)\n",
            "Requirement already satisfied: requests-oauthlib>=0.7.0 in /usr/local/lib/python3.8/dist-packages (from google-auth-oauthlib<0.5,>=0.4.1->tensorboard<2.12,>=2.11->tensorflow>=2.0->keras-tuner) (1.3.1)\n",
            "Requirement already satisfied: importlib-metadata>=4.4 in /usr/local/lib/python3.8/dist-packages (from markdown>=2.6.8->tensorboard<2.12,>=2.11->tensorflow>=2.0->keras-tuner) (6.0.0)\n",
            "Requirement already satisfied: zipp>=0.5 in /usr/local/lib/python3.8/dist-packages (from importlib-metadata>=4.4->markdown>=2.6.8->tensorboard<2.12,>=2.11->tensorflow>=2.0->keras-tuner) (3.13.0)\n",
            "Requirement already satisfied: pyasn1<0.5.0,>=0.4.6 in /usr/local/lib/python3.8/dist-packages (from pyasn1-modules>=0.2.1->google-auth<3,>=1.6.3->tensorboard<2.12,>=2.11->tensorflow>=2.0->keras-tuner) (0.4.8)\n",
            "Requirement already satisfied: oauthlib>=3.0.0 in /usr/local/lib/python3.8/dist-packages (from requests-oauthlib>=0.7.0->google-auth-oauthlib<0.5,>=0.4.1->tensorboard<2.12,>=2.11->tensorflow>=2.0->keras-tuner) (3.2.2)\n",
            "Installing collected packages: kt-legacy, jedi, keras-tuner\n",
            "Successfully installed jedi-0.18.2 keras-tuner-1.2.1 kt-legacy-1.0.4\n"
          ]
        }
      ]
    },
    {
      "cell_type": "markdown",
      "source": [
        "###Load Libraries"
      ],
      "metadata": {
        "id": "r_2Cswg0sYN8"
      }
    },
    {
      "cell_type": "code",
      "source": [
        "from numpy.random import seed\n",
        "seed(1)\n",
        "import tensorflow as tf\n",
        "tf.random.set_seed(1)\n",
        "\n",
        "import pandas as pd\n",
        "import numpy as np\n",
        "import matplotlib.pyplot as plt\n",
        "import pickle\n",
        "import os\n",
        "import seaborn as sns\n",
        "plt.rcParams['figure.figsize'] = (10, 5)\n",
        "plt.style.use('fivethirtyeight')\n",
        "from plotly.subplots import make_subplots\n",
        "import plotly.graph_objects as go\n",
        "import tensorflow as tf\n",
        "from tensorflow.keras import layers\n",
        "from sklearn.metrics import mean_absolute_error\n",
        "from sklearn.metrics import make_scorer, mean_squared_error\n",
        "from keras.layers import Dense, Dropout\n",
        "from sklearn.metrics import explained_variance_score\n",
        "from sklearn.neural_network import MLPRegressor\n",
        "from sklearn.model_selection import GridSearchCV, RandomizedSearchCV\n",
        "import warnings\n",
        "warnings.filterwarnings('ignore')\n",
        "from keras.models import Sequential\n",
        "from keras.layers import Dense\n",
        "from keras.wrappers.scikit_learn import KerasRegressor\n",
        "from keras.wrappers.scikit_learn import KerasClassifier\n",
        "from sklearn.model_selection import KFold, cross_val_score\n",
        "from scikeras.wrappers import KerasRegressor\n",
        "from tensorflow import keras\n",
        "from kerastuner.tuners import RandomSearch\n",
        "from kerastuner import HyperModel, RandomSearch, Hyperband, BayesianOptimization\n",
        "from keras.callbacks import EarlyStopping\n",
        "from time import time\n",
        "import pickle\n",
        "\n",
        "import matplotlib.dates as mdates\n",
        "from sklearn.preprocessing import RobustScaler\n",
        "from sklearn.preprocessing import MinMaxScaler"
      ],
      "metadata": {
        "id": "eJUaw5qy34It"
      },
      "execution_count": 7,
      "outputs": []
    },
    {
      "cell_type": "markdown",
      "source": [
        "###Define Functions to Facilitate Metrics Evaluation"
      ],
      "metadata": {
        "id": "Gzu9V2o2gfZG"
      }
    },
    {
      "cell_type": "code",
      "source": [
        "#To compute Mean Directional Accuracy\n",
        "def mda(actual: np.ndarray, predicted: np.ndarray):\n",
        "    \"\"\" Mean Directional Accuracy \"\"\"\n",
        "    return np.mean((np.sign(actual[1:] - actual[:-1]) == np.sign(predicted[1:] - predicted[:-1])).astype(int))\n",
        "\n",
        "#Calculate the Mean Absolute Percentage Error\n",
        "#def MAPE(y_true, y_pred): \n",
        "    #mape = np.mean(np.abs((np.array(y_true) - np.array(y_pred)) / np.array(y_true))) * 100\n",
        "    #return mape\n",
        "\n",
        "def mean_absolute_percentage_error(y_true, y_pred): \n",
        "    y_true, y_pred = np.array(y_true), np.array(y_pred)\n",
        "    return np.mean(np.abs((y_true - y_pred) / y_true)) * 100\n",
        "\n",
        "def MAPE(y_true, y_pred): \n",
        "    y_true, y_pred = np.array(y_true), np.array(y_pred)\n",
        "    return np.mean(np.abs((y_true - y_pred) / y_true)) * 100\n",
        "\n",
        "#Calculate the Root Mean Squared Error:\n",
        "def RMSE(y_true, y_pred): \n",
        "    rmse = np.sqrt(mean_squared_error(y_true, y_pred))\n",
        "    return rmse"
      ],
      "metadata": {
        "id": "k7RYx1rN_Yf_"
      },
      "execution_count": 8,
      "outputs": []
    },
    {
      "cell_type": "markdown",
      "source": [
        "###Load the Cleaned Data from Github"
      ],
      "metadata": {
        "id": "FVpIGyF7g4od"
      }
    },
    {
      "cell_type": "code",
      "source": [
        "from pandas import read_csv\n",
        "path = 'https://raw.githubusercontent.com/mofuoku417/Machine-Learning-Techniques-for-Multivariate-Time-Series-Forecasting-of-Crude-Palm-Oil-Prices/main/Cleaned_data/FS_2.csv'\n",
        "df = read_csv(path)\n",
        "df.head()"
      ],
      "metadata": {
        "colab": {
          "base_uri": "https://localhost:8080/",
          "height": 228
        },
        "id": "z_6wFR8b3xZf",
        "outputId": "1cbb9714-aada-4415-dd7c-92261950f6a0"
      },
      "execution_count": 9,
      "outputs": [
        {
          "output_type": "execute_result",
          "data": {
            "text/plain": [
              "      date  cpo_pri  cno_pri  oli_pri  rps_pri  pno_pri  sbo_pri  sfo_pri\n",
              "0  12/1/10      323      455  3102.61   423.45    844.0    468.0    578.0\n",
              "1   1/1/11      345      546  3100.45   415.85    799.0    485.0    557.0\n",
              "2   2/1/11      362      595  3199.41   410.77    718.0    466.0    552.0\n",
              "3   3/1/11      376      636  3281.67   414.82    614.0    442.0    574.0\n",
              "4   4/1/11      383      738  3261.65   451.04    619.0    429.0    595.0"
            ],
            "text/html": [
              "\n",
              "  <div id=\"df-de06c118-fd8e-4306-9026-b7d8dcea0897\">\n",
              "    <div class=\"colab-df-container\">\n",
              "      <div>\n",
              "<style scoped>\n",
              "    .dataframe tbody tr th:only-of-type {\n",
              "        vertical-align: middle;\n",
              "    }\n",
              "\n",
              "    .dataframe tbody tr th {\n",
              "        vertical-align: top;\n",
              "    }\n",
              "\n",
              "    .dataframe thead th {\n",
              "        text-align: right;\n",
              "    }\n",
              "</style>\n",
              "<table border=\"1\" class=\"dataframe\">\n",
              "  <thead>\n",
              "    <tr style=\"text-align: right;\">\n",
              "      <th></th>\n",
              "      <th>date</th>\n",
              "      <th>cpo_pri</th>\n",
              "      <th>cno_pri</th>\n",
              "      <th>oli_pri</th>\n",
              "      <th>rps_pri</th>\n",
              "      <th>pno_pri</th>\n",
              "      <th>sbo_pri</th>\n",
              "      <th>sfo_pri</th>\n",
              "    </tr>\n",
              "  </thead>\n",
              "  <tbody>\n",
              "    <tr>\n",
              "      <th>0</th>\n",
              "      <td>12/1/10</td>\n",
              "      <td>323</td>\n",
              "      <td>455</td>\n",
              "      <td>3102.61</td>\n",
              "      <td>423.45</td>\n",
              "      <td>844.0</td>\n",
              "      <td>468.0</td>\n",
              "      <td>578.0</td>\n",
              "    </tr>\n",
              "    <tr>\n",
              "      <th>1</th>\n",
              "      <td>1/1/11</td>\n",
              "      <td>345</td>\n",
              "      <td>546</td>\n",
              "      <td>3100.45</td>\n",
              "      <td>415.85</td>\n",
              "      <td>799.0</td>\n",
              "      <td>485.0</td>\n",
              "      <td>557.0</td>\n",
              "    </tr>\n",
              "    <tr>\n",
              "      <th>2</th>\n",
              "      <td>2/1/11</td>\n",
              "      <td>362</td>\n",
              "      <td>595</td>\n",
              "      <td>3199.41</td>\n",
              "      <td>410.77</td>\n",
              "      <td>718.0</td>\n",
              "      <td>466.0</td>\n",
              "      <td>552.0</td>\n",
              "    </tr>\n",
              "    <tr>\n",
              "      <th>3</th>\n",
              "      <td>3/1/11</td>\n",
              "      <td>376</td>\n",
              "      <td>636</td>\n",
              "      <td>3281.67</td>\n",
              "      <td>414.82</td>\n",
              "      <td>614.0</td>\n",
              "      <td>442.0</td>\n",
              "      <td>574.0</td>\n",
              "    </tr>\n",
              "    <tr>\n",
              "      <th>4</th>\n",
              "      <td>4/1/11</td>\n",
              "      <td>383</td>\n",
              "      <td>738</td>\n",
              "      <td>3261.65</td>\n",
              "      <td>451.04</td>\n",
              "      <td>619.0</td>\n",
              "      <td>429.0</td>\n",
              "      <td>595.0</td>\n",
              "    </tr>\n",
              "  </tbody>\n",
              "</table>\n",
              "</div>\n",
              "      <button class=\"colab-df-convert\" onclick=\"convertToInteractive('df-de06c118-fd8e-4306-9026-b7d8dcea0897')\"\n",
              "              title=\"Convert this dataframe to an interactive table.\"\n",
              "              style=\"display:none;\">\n",
              "        \n",
              "  <svg xmlns=\"http://www.w3.org/2000/svg\" height=\"24px\"viewBox=\"0 0 24 24\"\n",
              "       width=\"24px\">\n",
              "    <path d=\"M0 0h24v24H0V0z\" fill=\"none\"/>\n",
              "    <path d=\"M18.56 5.44l.94 2.06.94-2.06 2.06-.94-2.06-.94-.94-2.06-.94 2.06-2.06.94zm-11 1L8.5 8.5l.94-2.06 2.06-.94-2.06-.94L8.5 2.5l-.94 2.06-2.06.94zm10 10l.94 2.06.94-2.06 2.06-.94-2.06-.94-.94-2.06-.94 2.06-2.06.94z\"/><path d=\"M17.41 7.96l-1.37-1.37c-.4-.4-.92-.59-1.43-.59-.52 0-1.04.2-1.43.59L10.3 9.45l-7.72 7.72c-.78.78-.78 2.05 0 2.83L4 21.41c.39.39.9.59 1.41.59.51 0 1.02-.2 1.41-.59l7.78-7.78 2.81-2.81c.8-.78.8-2.07 0-2.86zM5.41 20L4 18.59l7.72-7.72 1.47 1.35L5.41 20z\"/>\n",
              "  </svg>\n",
              "      </button>\n",
              "      \n",
              "  <style>\n",
              "    .colab-df-container {\n",
              "      display:flex;\n",
              "      flex-wrap:wrap;\n",
              "      gap: 12px;\n",
              "    }\n",
              "\n",
              "    .colab-df-convert {\n",
              "      background-color: #E8F0FE;\n",
              "      border: none;\n",
              "      border-radius: 50%;\n",
              "      cursor: pointer;\n",
              "      display: none;\n",
              "      fill: #1967D2;\n",
              "      height: 32px;\n",
              "      padding: 0 0 0 0;\n",
              "      width: 32px;\n",
              "    }\n",
              "\n",
              "    .colab-df-convert:hover {\n",
              "      background-color: #E2EBFA;\n",
              "      box-shadow: 0px 1px 2px rgba(60, 64, 67, 0.3), 0px 1px 3px 1px rgba(60, 64, 67, 0.15);\n",
              "      fill: #174EA6;\n",
              "    }\n",
              "\n",
              "    [theme=dark] .colab-df-convert {\n",
              "      background-color: #3B4455;\n",
              "      fill: #D2E3FC;\n",
              "    }\n",
              "\n",
              "    [theme=dark] .colab-df-convert:hover {\n",
              "      background-color: #434B5C;\n",
              "      box-shadow: 0px 1px 3px 1px rgba(0, 0, 0, 0.15);\n",
              "      filter: drop-shadow(0px 1px 2px rgba(0, 0, 0, 0.3));\n",
              "      fill: #FFFFFF;\n",
              "    }\n",
              "  </style>\n",
              "\n",
              "      <script>\n",
              "        const buttonEl =\n",
              "          document.querySelector('#df-de06c118-fd8e-4306-9026-b7d8dcea0897 button.colab-df-convert');\n",
              "        buttonEl.style.display =\n",
              "          google.colab.kernel.accessAllowed ? 'block' : 'none';\n",
              "\n",
              "        async function convertToInteractive(key) {\n",
              "          const element = document.querySelector('#df-de06c118-fd8e-4306-9026-b7d8dcea0897');\n",
              "          const dataTable =\n",
              "            await google.colab.kernel.invokeFunction('convertToInteractive',\n",
              "                                                     [key], {});\n",
              "          if (!dataTable) return;\n",
              "\n",
              "          const docLinkHtml = 'Like what you see? Visit the ' +\n",
              "            '<a target=\"_blank\" href=https://colab.research.google.com/notebooks/data_table.ipynb>data table notebook</a>'\n",
              "            + ' to learn more about interactive tables.';\n",
              "          element.innerHTML = '';\n",
              "          dataTable['output_type'] = 'display_data';\n",
              "          await google.colab.output.renderOutput(dataTable, element);\n",
              "          const docLink = document.createElement('div');\n",
              "          docLink.innerHTML = docLinkHtml;\n",
              "          element.appendChild(docLink);\n",
              "        }\n",
              "      </script>\n",
              "    </div>\n",
              "  </div>\n",
              "  "
            ]
          },
          "metadata": {},
          "execution_count": 9
        }
      ]
    },
    {
      "cell_type": "code",
      "source": [
        "df['date']=pd.to_datetime(df['date'])\n",
        "#del df['date']"
      ],
      "metadata": {
        "id": "bABFH7Kd4nBN"
      },
      "execution_count": 10,
      "outputs": []
    },
    {
      "cell_type": "code",
      "source": [
        "df.set_index('date', inplace=True)\n",
        "df.info()"
      ],
      "metadata": {
        "colab": {
          "base_uri": "https://localhost:8080/"
        },
        "id": "nZ-LB-rFdF5N",
        "outputId": "781734a6-9012-4ed0-f612-a2b5d11a035c"
      },
      "execution_count": 11,
      "outputs": [
        {
          "output_type": "stream",
          "name": "stdout",
          "text": [
            "<class 'pandas.core.frame.DataFrame'>\n",
            "DatetimeIndex: 124 entries, 2010-12-01 to 2021-03-01\n",
            "Data columns (total 7 columns):\n",
            " #   Column   Non-Null Count  Dtype  \n",
            "---  ------   --------------  -----  \n",
            " 0   cpo_pri  124 non-null    int64  \n",
            " 1   cno_pri  124 non-null    int64  \n",
            " 2   oli_pri  124 non-null    float64\n",
            " 3   rps_pri  124 non-null    float64\n",
            " 4   pno_pri  124 non-null    float64\n",
            " 5   sbo_pri  124 non-null    float64\n",
            " 6   sfo_pri  124 non-null    float64\n",
            "dtypes: float64(5), int64(2)\n",
            "memory usage: 7.8 KB\n"
          ]
        }
      ]
    },
    {
      "cell_type": "code",
      "source": [
        "df.head()"
      ],
      "metadata": {
        "colab": {
          "base_uri": "https://localhost:8080/",
          "height": 260
        },
        "id": "PLpdJChY4wex",
        "outputId": "21bb19b2-7610-46f2-92bb-7538d84c1f5f"
      },
      "execution_count": 12,
      "outputs": [
        {
          "output_type": "execute_result",
          "data": {
            "text/plain": [
              "            cpo_pri  cno_pri  oli_pri  rps_pri  pno_pri  sbo_pri  sfo_pri\n",
              "date                                                                     \n",
              "2010-12-01      323      455  3102.61   423.45    844.0    468.0    578.0\n",
              "2011-01-01      345      546  3100.45   415.85    799.0    485.0    557.0\n",
              "2011-02-01      362      595  3199.41   410.77    718.0    466.0    552.0\n",
              "2011-03-01      376      636  3281.67   414.82    614.0    442.0    574.0\n",
              "2011-04-01      383      738  3261.65   451.04    619.0    429.0    595.0"
            ],
            "text/html": [
              "\n",
              "  <div id=\"df-ce9579c4-1ade-4af7-a325-3d7d657df564\">\n",
              "    <div class=\"colab-df-container\">\n",
              "      <div>\n",
              "<style scoped>\n",
              "    .dataframe tbody tr th:only-of-type {\n",
              "        vertical-align: middle;\n",
              "    }\n",
              "\n",
              "    .dataframe tbody tr th {\n",
              "        vertical-align: top;\n",
              "    }\n",
              "\n",
              "    .dataframe thead th {\n",
              "        text-align: right;\n",
              "    }\n",
              "</style>\n",
              "<table border=\"1\" class=\"dataframe\">\n",
              "  <thead>\n",
              "    <tr style=\"text-align: right;\">\n",
              "      <th></th>\n",
              "      <th>cpo_pri</th>\n",
              "      <th>cno_pri</th>\n",
              "      <th>oli_pri</th>\n",
              "      <th>rps_pri</th>\n",
              "      <th>pno_pri</th>\n",
              "      <th>sbo_pri</th>\n",
              "      <th>sfo_pri</th>\n",
              "    </tr>\n",
              "    <tr>\n",
              "      <th>date</th>\n",
              "      <th></th>\n",
              "      <th></th>\n",
              "      <th></th>\n",
              "      <th></th>\n",
              "      <th></th>\n",
              "      <th></th>\n",
              "      <th></th>\n",
              "    </tr>\n",
              "  </thead>\n",
              "  <tbody>\n",
              "    <tr>\n",
              "      <th>2010-12-01</th>\n",
              "      <td>323</td>\n",
              "      <td>455</td>\n",
              "      <td>3102.61</td>\n",
              "      <td>423.45</td>\n",
              "      <td>844.0</td>\n",
              "      <td>468.0</td>\n",
              "      <td>578.0</td>\n",
              "    </tr>\n",
              "    <tr>\n",
              "      <th>2011-01-01</th>\n",
              "      <td>345</td>\n",
              "      <td>546</td>\n",
              "      <td>3100.45</td>\n",
              "      <td>415.85</td>\n",
              "      <td>799.0</td>\n",
              "      <td>485.0</td>\n",
              "      <td>557.0</td>\n",
              "    </tr>\n",
              "    <tr>\n",
              "      <th>2011-02-01</th>\n",
              "      <td>362</td>\n",
              "      <td>595</td>\n",
              "      <td>3199.41</td>\n",
              "      <td>410.77</td>\n",
              "      <td>718.0</td>\n",
              "      <td>466.0</td>\n",
              "      <td>552.0</td>\n",
              "    </tr>\n",
              "    <tr>\n",
              "      <th>2011-03-01</th>\n",
              "      <td>376</td>\n",
              "      <td>636</td>\n",
              "      <td>3281.67</td>\n",
              "      <td>414.82</td>\n",
              "      <td>614.0</td>\n",
              "      <td>442.0</td>\n",
              "      <td>574.0</td>\n",
              "    </tr>\n",
              "    <tr>\n",
              "      <th>2011-04-01</th>\n",
              "      <td>383</td>\n",
              "      <td>738</td>\n",
              "      <td>3261.65</td>\n",
              "      <td>451.04</td>\n",
              "      <td>619.0</td>\n",
              "      <td>429.0</td>\n",
              "      <td>595.0</td>\n",
              "    </tr>\n",
              "  </tbody>\n",
              "</table>\n",
              "</div>\n",
              "      <button class=\"colab-df-convert\" onclick=\"convertToInteractive('df-ce9579c4-1ade-4af7-a325-3d7d657df564')\"\n",
              "              title=\"Convert this dataframe to an interactive table.\"\n",
              "              style=\"display:none;\">\n",
              "        \n",
              "  <svg xmlns=\"http://www.w3.org/2000/svg\" height=\"24px\"viewBox=\"0 0 24 24\"\n",
              "       width=\"24px\">\n",
              "    <path d=\"M0 0h24v24H0V0z\" fill=\"none\"/>\n",
              "    <path d=\"M18.56 5.44l.94 2.06.94-2.06 2.06-.94-2.06-.94-.94-2.06-.94 2.06-2.06.94zm-11 1L8.5 8.5l.94-2.06 2.06-.94-2.06-.94L8.5 2.5l-.94 2.06-2.06.94zm10 10l.94 2.06.94-2.06 2.06-.94-2.06-.94-.94-2.06-.94 2.06-2.06.94z\"/><path d=\"M17.41 7.96l-1.37-1.37c-.4-.4-.92-.59-1.43-.59-.52 0-1.04.2-1.43.59L10.3 9.45l-7.72 7.72c-.78.78-.78 2.05 0 2.83L4 21.41c.39.39.9.59 1.41.59.51 0 1.02-.2 1.41-.59l7.78-7.78 2.81-2.81c.8-.78.8-2.07 0-2.86zM5.41 20L4 18.59l7.72-7.72 1.47 1.35L5.41 20z\"/>\n",
              "  </svg>\n",
              "      </button>\n",
              "      \n",
              "  <style>\n",
              "    .colab-df-container {\n",
              "      display:flex;\n",
              "      flex-wrap:wrap;\n",
              "      gap: 12px;\n",
              "    }\n",
              "\n",
              "    .colab-df-convert {\n",
              "      background-color: #E8F0FE;\n",
              "      border: none;\n",
              "      border-radius: 50%;\n",
              "      cursor: pointer;\n",
              "      display: none;\n",
              "      fill: #1967D2;\n",
              "      height: 32px;\n",
              "      padding: 0 0 0 0;\n",
              "      width: 32px;\n",
              "    }\n",
              "\n",
              "    .colab-df-convert:hover {\n",
              "      background-color: #E2EBFA;\n",
              "      box-shadow: 0px 1px 2px rgba(60, 64, 67, 0.3), 0px 1px 3px 1px rgba(60, 64, 67, 0.15);\n",
              "      fill: #174EA6;\n",
              "    }\n",
              "\n",
              "    [theme=dark] .colab-df-convert {\n",
              "      background-color: #3B4455;\n",
              "      fill: #D2E3FC;\n",
              "    }\n",
              "\n",
              "    [theme=dark] .colab-df-convert:hover {\n",
              "      background-color: #434B5C;\n",
              "      box-shadow: 0px 1px 3px 1px rgba(0, 0, 0, 0.15);\n",
              "      filter: drop-shadow(0px 1px 2px rgba(0, 0, 0, 0.3));\n",
              "      fill: #FFFFFF;\n",
              "    }\n",
              "  </style>\n",
              "\n",
              "      <script>\n",
              "        const buttonEl =\n",
              "          document.querySelector('#df-ce9579c4-1ade-4af7-a325-3d7d657df564 button.colab-df-convert');\n",
              "        buttonEl.style.display =\n",
              "          google.colab.kernel.accessAllowed ? 'block' : 'none';\n",
              "\n",
              "        async function convertToInteractive(key) {\n",
              "          const element = document.querySelector('#df-ce9579c4-1ade-4af7-a325-3d7d657df564');\n",
              "          const dataTable =\n",
              "            await google.colab.kernel.invokeFunction('convertToInteractive',\n",
              "                                                     [key], {});\n",
              "          if (!dataTable) return;\n",
              "\n",
              "          const docLinkHtml = 'Like what you see? Visit the ' +\n",
              "            '<a target=\"_blank\" href=https://colab.research.google.com/notebooks/data_table.ipynb>data table notebook</a>'\n",
              "            + ' to learn more about interactive tables.';\n",
              "          element.innerHTML = '';\n",
              "          dataTable['output_type'] = 'display_data';\n",
              "          await google.colab.output.renderOutput(dataTable, element);\n",
              "          const docLink = document.createElement('div');\n",
              "          docLink.innerHTML = docLinkHtml;\n",
              "          element.appendChild(docLink);\n",
              "        }\n",
              "      </script>\n",
              "    </div>\n",
              "  </div>\n",
              "  "
            ]
          },
          "metadata": {},
          "execution_count": 12
        }
      ]
    },
    {
      "cell_type": "code",
      "source": [
        "# Plot an area chart\n",
        "plt.figure(figsize=(25,10))\n",
        "ax = df.plot.area(fontsize=12);\n",
        "\n",
        "# Additional customizations\n",
        "ax.set_xlabel('date');\n",
        "ax.legend(fontsize=12);"
      ],
      "metadata": {
        "colab": {
          "base_uri": "https://localhost:8080/",
          "height": 399
        },
        "id": "pnKg-SfY6j9g",
        "outputId": "d5bd4f0f-f821-46e3-98f4-81770671982b"
      },
      "execution_count": 13,
      "outputs": [
        {
          "output_type": "display_data",
          "data": {
            "text/plain": [
              "<Figure size 1800x720 with 0 Axes>"
            ]
          },
          "metadata": {}
        },
        {
          "output_type": "display_data",
          "data": {
            "text/plain": [
              "<Figure size 720x360 with 1 Axes>"
            ],
            "image/png": "[encoded data removed]"
          },
          "metadata": {}
        }
      ]
    },
    {
      "cell_type": "markdown",
      "source": [
        "##**Convolutional Neural Network Forecasting Technique (CNN)**"
      ],
      "metadata": {
        "id": "dPoGjuS366Cc"
      }
    },
    {
      "cell_type": "markdown",
      "source": [
        "###**Split Data into Train Test Segments**"
      ],
      "metadata": {
        "id": "vFpT6OrD7KRv"
      }
    },
    {
      "cell_type": "code",
      "source": [
        "train_size = int(len(df) * 0.8)\n",
        "test_size = len(df) - train_size\n",
        "train, test = df.iloc[0:train_size], df.iloc[train_size:len(df)]\n",
        "print('Train size:',len(train))\n",
        "print('Test size:', len(test))"
      ],
      "metadata": {
        "colab": {
          "base_uri": "https://localhost:8080/"
        },
        "id": "nYZL-9Sy3xpJ",
        "outputId": "3d58e315-878d-45a3-f072-3dfece1f6a50"
      },
      "execution_count": 14,
      "outputs": [
        {
          "output_type": "stream",
          "name": "stdout",
          "text": [
            "Train size: 99\n",
            "Test size: 25\n"
          ]
        }
      ]
    },
    {
      "cell_type": "code",
      "source": [
        "split_date = '2019-02'\n",
        "df_training = df.loc[df.index <= split_date]\n",
        "df_test = df.loc[df.index > split_date]\n",
        "print(f\"{len(df_training)} days of training data \\n {len(df_test)} days of testing data \")"
      ],
      "metadata": {
        "colab": {
          "base_uri": "https://localhost:8080/"
        },
        "id": "qKDDSdp_JVu6",
        "outputId": "f5debc53-7cf9-428c-8562-e8cd453e9fb0"
      },
      "execution_count": 15,
      "outputs": [
        {
          "output_type": "stream",
          "name": "stdout",
          "text": [
            "99 days of training data \n",
            " 25 days of testing data \n"
          ]
        }
      ]
    },
    {
      "cell_type": "code",
      "source": [
        "train, test = df.iloc[0:train_size], df.iloc[train_size:len(df)]\n",
        "print(len(train), len(test))"
      ],
      "metadata": {
        "colab": {
          "base_uri": "https://localhost:8080/"
        },
        "id": "DGrD2nxFmNSu",
        "outputId": "ea0c972d-90ed-44ee-a0f3-662d29458179"
      },
      "execution_count": 16,
      "outputs": [
        {
          "output_type": "stream",
          "name": "stdout",
          "text": [
            "99 25\n"
          ]
        }
      ]
    },
    {
      "cell_type": "code",
      "source": [
        "print(train.shape)\n",
        "train.head()"
      ],
      "metadata": {
        "colab": {
          "base_uri": "https://localhost:8080/",
          "height": 278
        },
        "id": "QvbHy-5RmPuI",
        "outputId": "7be7e048-c038-49d4-e6c9-03bbdcc8990c"
      },
      "execution_count": 18,
      "outputs": [
        {
          "output_type": "stream",
          "name": "stdout",
          "text": [
            "(99, 7)\n"
          ]
        },
        {
          "output_type": "execute_result",
          "data": {
            "text/plain": [
              "            cpo_pri  cno_pri  oli_pri  rps_pri  pno_pri  sbo_pri  sfo_pri\n",
              "date                                                                     \n",
              "2010-12-01      323      455  3102.61   423.45    844.0    468.0    578.0\n",
              "2011-01-01      345      546  3100.45   415.85    799.0    485.0    557.0\n",
              "2011-02-01      362      595  3199.41   410.77    718.0    466.0    552.0\n",
              "2011-03-01      376      636  3281.67   414.82    614.0    442.0    574.0\n",
              "2011-04-01      383      738  3261.65   451.04    619.0    429.0    595.0"
            ],
            "text/html": [
              "\n",
              "  <div id=\"df-afa985d4-e47a-4632-944a-dd17d32a330f\">\n",
              "    <div class=\"colab-df-container\">\n",
              "      <div>\n",
              "<style scoped>\n",
              "    .dataframe tbody tr th:only-of-type {\n",
              "        vertical-align: middle;\n",
              "    }\n",
              "\n",
              "    .dataframe tbody tr th {\n",
              "        vertical-align: top;\n",
              "    }\n",
              "\n",
              "    .dataframe thead th {\n",
              "        text-align: right;\n",
              "    }\n",
              "</style>\n",
              "<table border=\"1\" class=\"dataframe\">\n",
              "  <thead>\n",
              "    <tr style=\"text-align: right;\">\n",
              "      <th></th>\n",
              "      <th>cpo_pri</th>\n",
              "      <th>cno_pri</th>\n",
              "      <th>oli_pri</th>\n",
              "      <th>rps_pri</th>\n",
              "      <th>pno_pri</th>\n",
              "      <th>sbo_pri</th>\n",
              "      <th>sfo_pri</th>\n",
              "    </tr>\n",
              "    <tr>\n",
              "      <th>date</th>\n",
              "      <th></th>\n",
              "      <th></th>\n",
              "      <th></th>\n",
              "      <th></th>\n",
              "      <th></th>\n",
              "      <th></th>\n",
              "      <th></th>\n",
              "    </tr>\n",
              "  </thead>\n",
              "  <tbody>\n",
              "    <tr>\n",
              "      <th>2010-12-01</th>\n",
              "      <td>323</td>\n",
              "      <td>455</td>\n",
              "      <td>3102.61</td>\n",
              "      <td>423.45</td>\n",
              "      <td>844.0</td>\n",
              "      <td>468.0</td>\n",
              "      <td>578.0</td>\n",
              "    </tr>\n",
              "    <tr>\n",
              "      <th>2011-01-01</th>\n",
              "      <td>345</td>\n",
              "      <td>546</td>\n",
              "      <td>3100.45</td>\n",
              "      <td>415.85</td>\n",
              "      <td>799.0</td>\n",
              "      <td>485.0</td>\n",
              "      <td>557.0</td>\n",
              "    </tr>\n",
              "    <tr>\n",
              "      <th>2011-02-01</th>\n",
              "      <td>362</td>\n",
              "      <td>595</td>\n",
              "      <td>3199.41</td>\n",
              "      <td>410.77</td>\n",
              "      <td>718.0</td>\n",
              "      <td>466.0</td>\n",
              "      <td>552.0</td>\n",
              "    </tr>\n",
              "    <tr>\n",
              "      <th>2011-03-01</th>\n",
              "      <td>376</td>\n",
              "      <td>636</td>\n",
              "      <td>3281.67</td>\n",
              "      <td>414.82</td>\n",
              "      <td>614.0</td>\n",
              "      <td>442.0</td>\n",
              "      <td>574.0</td>\n",
              "    </tr>\n",
              "    <tr>\n",
              "      <th>2011-04-01</th>\n",
              "      <td>383</td>\n",
              "      <td>738</td>\n",
              "      <td>3261.65</td>\n",
              "      <td>451.04</td>\n",
              "      <td>619.0</td>\n",
              "      <td>429.0</td>\n",
              "      <td>595.0</td>\n",
              "    </tr>\n",
              "  </tbody>\n",
              "</table>\n",
              "</div>\n",
              "      <button class=\"colab-df-convert\" onclick=\"convertToInteractive('df-afa985d4-e47a-4632-944a-dd17d32a330f')\"\n",
              "              title=\"Convert this dataframe to an interactive table.\"\n",
              "              style=\"display:none;\">\n",
              "        \n",
              "  <svg xmlns=\"http://www.w3.org/2000/svg\" height=\"24px\"viewBox=\"0 0 24 24\"\n",
              "       width=\"24px\">\n",
              "    <path d=\"M0 0h24v24H0V0z\" fill=\"none\"/>\n",
              "    <path d=\"M18.56 5.44l.94 2.06.94-2.06 2.06-.94-2.06-.94-.94-2.06-.94 2.06-2.06.94zm-11 1L8.5 8.5l.94-2.06 2.06-.94-2.06-.94L8.5 2.5l-.94 2.06-2.06.94zm10 10l.94 2.06.94-2.06 2.06-.94-2.06-.94-.94-2.06-.94 2.06-2.06.94z\"/><path d=\"M17.41 7.96l-1.37-1.37c-.4-.4-.92-.59-1.43-.59-.52 0-1.04.2-1.43.59L10.3 9.45l-7.72 7.72c-.78.78-.78 2.05 0 2.83L4 21.41c.39.39.9.59 1.41.59.51 0 1.02-.2 1.41-.59l7.78-7.78 2.81-2.81c.8-.78.8-2.07 0-2.86zM5.41 20L4 18.59l7.72-7.72 1.47 1.35L5.41 20z\"/>\n",
              "  </svg>\n",
              "      </button>\n",
              "      \n",
              "  <style>\n",
              "    .colab-df-container {\n",
              "      display:flex;\n",
              "      flex-wrap:wrap;\n",
              "      gap: 12px;\n",
              "    }\n",
              "\n",
              "    .colab-df-convert {\n",
              "      background-color: #E8F0FE;\n",
              "      border: none;\n",
              "      border-radius: 50%;\n",
              "      cursor: pointer;\n",
              "      display: none;\n",
              "      fill: #1967D2;\n",
              "      height: 32px;\n",
              "      padding: 0 0 0 0;\n",
              "      width: 32px;\n",
              "    }\n",
              "\n",
              "    .colab-df-convert:hover {\n",
              "      background-color: #E2EBFA;\n",
              "      box-shadow: 0px 1px 2px rgba(60, 64, 67, 0.3), 0px 1px 3px 1px rgba(60, 64, 67, 0.15);\n",
              "      fill: #174EA6;\n",
              "    }\n",
              "\n",
              "    [theme=dark] .colab-df-convert {\n",
              "      background-color: #3B4455;\n",
              "      fill: #D2E3FC;\n",
              "    }\n",
              "\n",
              "    [theme=dark] .colab-df-convert:hover {\n",
              "      background-color: #434B5C;\n",
              "      box-shadow: 0px 1px 3px 1px rgba(0, 0, 0, 0.15);\n",
              "      filter: drop-shadow(0px 1px 2px rgba(0, 0, 0, 0.3));\n",
              "      fill: #FFFFFF;\n",
              "    }\n",
              "  </style>\n",
              "\n",
              "      <script>\n",
              "        const buttonEl =\n",
              "          document.querySelector('#df-afa985d4-e47a-4632-944a-dd17d32a330f button.colab-df-convert');\n",
              "        buttonEl.style.display =\n",
              "          google.colab.kernel.accessAllowed ? 'block' : 'none';\n",
              "\n",
              "        async function convertToInteractive(key) {\n",
              "          const element = document.querySelector('#df-afa985d4-e47a-4632-944a-dd17d32a330f');\n",
              "          const dataTable =\n",
              "            await google.colab.kernel.invokeFunction('convertToInteractive',\n",
              "                                                     [key], {});\n",
              "          if (!dataTable) return;\n",
              "\n",
              "          const docLinkHtml = 'Like what you see? Visit the ' +\n",
              "            '<a target=\"_blank\" href=https://colab.research.google.com/notebooks/data_table.ipynb>data table notebook</a>'\n",
              "            + ' to learn more about interactive tables.';\n",
              "          element.innerHTML = '';\n",
              "          dataTable['output_type'] = 'display_data';\n",
              "          await google.colab.output.renderOutput(dataTable, element);\n",
              "          const docLink = document.createElement('div');\n",
              "          docLink.innerHTML = docLinkHtml;\n",
              "          element.appendChild(docLink);\n",
              "        }\n",
              "      </script>\n",
              "    </div>\n",
              "  </div>\n",
              "  "
            ]
          },
          "metadata": {},
          "execution_count": 18
        }
      ]
    },
    {
      "cell_type": "markdown",
      "source": [
        "###Rescaling Training Data"
      ],
      "metadata": {
        "id": "Z5F4OyT2mwRs"
      }
    },
    {
      "cell_type": "code",
      "source": [
        "f_transformer = MinMaxScaler()\n",
        "feature_columns = ['cno_pri', 'oli_pri', 'rps_pri', 'pno_pri', 'sbo_pri', 'sfo_pri']\n",
        "f_transformer = f_transformer.fit(train[feature_columns].to_numpy())\n",
        "train.loc[:, feature_columns] = f_transformer.transform(train[feature_columns].to_numpy())\n",
        "train.head()"
      ],
      "metadata": {
        "colab": {
          "base_uri": "https://localhost:8080/",
          "height": 260
        },
        "id": "Lg-AQuNBmvZK",
        "outputId": "a6e7a56c-b3f9-4419-caff-fe7ec1e39e4a"
      },
      "execution_count": 19,
      "outputs": [
        {
          "output_type": "execute_result",
          "data": {
            "text/plain": [
              "            cpo_pri   cno_pri   oli_pri   rps_pri   pno_pri   sbo_pri  \\\n",
              "date                                                                    \n",
              "2010-12-01      323  0.112288  0.140918  0.010736  0.528090  0.253193   \n",
              "2011-01-01      345  0.305085  0.140327  0.004301  0.443820  0.306536   \n",
              "2011-02-01      362  0.408898  0.167408  0.000000  0.292135  0.246917   \n",
              "2011-03-01      376  0.495763  0.189919  0.003429  0.097378  0.171609   \n",
              "2011-04-01      383  0.711864  0.184440  0.034095  0.106742  0.130817   \n",
              "\n",
              "             sfo_pri  \n",
              "date                  \n",
              "2010-12-01  0.023302  \n",
              "2011-01-01  0.009321  \n",
              "2011-02-01  0.005992  \n",
              "2011-03-01  0.020639  \n",
              "2011-04-01  0.034621  "
            ],
            "text/html": [
              "\n",
              "  <div id=\"df-b6ea0537-fbd2-4941-b642-e943dac5889c\">\n",
              "    <div class=\"colab-df-container\">\n",
              "      <div>\n",
              "<style scoped>\n",
              "    .dataframe tbody tr th:only-of-type {\n",
              "        vertical-align: middle;\n",
              "    }\n",
              "\n",
              "    .dataframe tbody tr th {\n",
              "        vertical-align: top;\n",
              "    }\n",
              "\n",
              "    .dataframe thead th {\n",
              "        text-align: right;\n",
              "    }\n",
              "</style>\n",
              "<table border=\"1\" class=\"dataframe\">\n",
              "  <thead>\n",
              "    <tr style=\"text-align: right;\">\n",
              "      <th></th>\n",
              "      <th>cpo_pri</th>\n",
              "      <th>cno_pri</th>\n",
              "      <th>oli_pri</th>\n",
              "      <th>rps_pri</th>\n",
              "      <th>pno_pri</th>\n",
              "      <th>sbo_pri</th>\n",
              "      <th>sfo_pri</th>\n",
              "    </tr>\n",
              "    <tr>\n",
              "      <th>date</th>\n",
              "      <th></th>\n",
              "      <th></th>\n",
              "      <th></th>\n",
              "      <th></th>\n",
              "      <th></th>\n",
              "      <th></th>\n",
              "      <th></th>\n",
              "    </tr>\n",
              "  </thead>\n",
              "  <tbody>\n",
              "    <tr>\n",
              "      <th>2010-12-01</th>\n",
              "      <td>323</td>\n",
              "      <td>0.112288</td>\n",
              "      <td>0.140918</td>\n",
              "      <td>0.010736</td>\n",
              "      <td>0.528090</td>\n",
              "      <td>0.253193</td>\n",
              "      <td>0.023302</td>\n",
              "    </tr>\n",
              "    <tr>\n",
              "      <th>2011-01-01</th>\n",
              "      <td>345</td>\n",
              "      <td>0.305085</td>\n",
              "      <td>0.140327</td>\n",
              "      <td>0.004301</td>\n",
              "      <td>0.443820</td>\n",
              "      <td>0.306536</td>\n",
              "      <td>0.009321</td>\n",
              "    </tr>\n",
              "    <tr>\n",
              "      <th>2011-02-01</th>\n",
              "      <td>362</td>\n",
              "      <td>0.408898</td>\n",
              "      <td>0.167408</td>\n",
              "      <td>0.000000</td>\n",
              "      <td>0.292135</td>\n",
              "      <td>0.246917</td>\n",
              "      <td>0.005992</td>\n",
              "    </tr>\n",
              "    <tr>\n",
              "      <th>2011-03-01</th>\n",
              "      <td>376</td>\n",
              "      <td>0.495763</td>\n",
              "      <td>0.189919</td>\n",
              "      <td>0.003429</td>\n",
              "      <td>0.097378</td>\n",
              "      <td>0.171609</td>\n",
              "      <td>0.020639</td>\n",
              "    </tr>\n",
              "    <tr>\n",
              "      <th>2011-04-01</th>\n",
              "      <td>383</td>\n",
              "      <td>0.711864</td>\n",
              "      <td>0.184440</td>\n",
              "      <td>0.034095</td>\n",
              "      <td>0.106742</td>\n",
              "      <td>0.130817</td>\n",
              "      <td>0.034621</td>\n",
              "    </tr>\n",
              "  </tbody>\n",
              "</table>\n",
              "</div>\n",
              "      <button class=\"colab-df-convert\" onclick=\"convertToInteractive('df-b6ea0537-fbd2-4941-b642-e943dac5889c')\"\n",
              "              title=\"Convert this dataframe to an interactive table.\"\n",
              "              style=\"display:none;\">\n",
              "        \n",
              "  <svg xmlns=\"http://www.w3.org/2000/svg\" height=\"24px\"viewBox=\"0 0 24 24\"\n",
              "       width=\"24px\">\n",
              "    <path d=\"M0 0h24v24H0V0z\" fill=\"none\"/>\n",
              "    <path d=\"M18.56 5.44l.94 2.06.94-2.06 2.06-.94-2.06-.94-.94-2.06-.94 2.06-2.06.94zm-11 1L8.5 8.5l.94-2.06 2.06-.94-2.06-.94L8.5 2.5l-.94 2.06-2.06.94zm10 10l.94 2.06.94-2.06 2.06-.94-2.06-.94-.94-2.06-.94 2.06-2.06.94z\"/><path d=\"M17.41 7.96l-1.37-1.37c-.4-.4-.92-.59-1.43-.59-.52 0-1.04.2-1.43.59L10.3 9.45l-7.72 7.72c-.78.78-.78 2.05 0 2.83L4 21.41c.39.39.9.59 1.41.59.51 0 1.02-.2 1.41-.59l7.78-7.78 2.81-2.81c.8-.78.8-2.07 0-2.86zM5.41 20L4 18.59l7.72-7.72 1.47 1.35L5.41 20z\"/>\n",
              "  </svg>\n",
              "      </button>\n",
              "      \n",
              "  <style>\n",
              "    .colab-df-container {\n",
              "      display:flex;\n",
              "      flex-wrap:wrap;\n",
              "      gap: 12px;\n",
              "    }\n",
              "\n",
              "    .colab-df-convert {\n",
              "      background-color: #E8F0FE;\n",
              "      border: none;\n",
              "      border-radius: 50%;\n",
              "      cursor: pointer;\n",
              "      display: none;\n",
              "      fill: #1967D2;\n",
              "      height: 32px;\n",
              "      padding: 0 0 0 0;\n",
              "      width: 32px;\n",
              "    }\n",
              "\n",
              "    .colab-df-convert:hover {\n",
              "      background-color: #E2EBFA;\n",
              "      box-shadow: 0px 1px 2px rgba(60, 64, 67, 0.3), 0px 1px 3px 1px rgba(60, 64, 67, 0.15);\n",
              "      fill: #174EA6;\n",
              "    }\n",
              "\n",
              "    [theme=dark] .colab-df-convert {\n",
              "      background-color: #3B4455;\n",
              "      fill: #D2E3FC;\n",
              "    }\n",
              "\n",
              "    [theme=dark] .colab-df-convert:hover {\n",
              "      background-color: #434B5C;\n",
              "      box-shadow: 0px 1px 3px 1px rgba(0, 0, 0, 0.15);\n",
              "      filter: drop-shadow(0px 1px 2px rgba(0, 0, 0, 0.3));\n",
              "      fill: #FFFFFF;\n",
              "    }\n",
              "  </style>\n",
              "\n",
              "      <script>\n",
              "        const buttonEl =\n",
              "          document.querySelector('#df-b6ea0537-fbd2-4941-b642-e943dac5889c button.colab-df-convert');\n",
              "        buttonEl.style.display =\n",
              "          google.colab.kernel.accessAllowed ? 'block' : 'none';\n",
              "\n",
              "        async function convertToInteractive(key) {\n",
              "          const element = document.querySelector('#df-b6ea0537-fbd2-4941-b642-e943dac5889c');\n",
              "          const dataTable =\n",
              "            await google.colab.kernel.invokeFunction('convertToInteractive',\n",
              "                                                     [key], {});\n",
              "          if (!dataTable) return;\n",
              "\n",
              "          const docLinkHtml = 'Like what you see? Visit the ' +\n",
              "            '<a target=\"_blank\" href=https://colab.research.google.com/notebooks/data_table.ipynb>data table notebook</a>'\n",
              "            + ' to learn more about interactive tables.';\n",
              "          element.innerHTML = '';\n",
              "          dataTable['output_type'] = 'display_data';\n",
              "          await google.colab.output.renderOutput(dataTable, element);\n",
              "          const docLink = document.createElement('div');\n",
              "          docLink.innerHTML = docLinkHtml;\n",
              "          element.appendChild(docLink);\n",
              "        }\n",
              "      </script>\n",
              "    </div>\n",
              "  </div>\n",
              "  "
            ]
          },
          "metadata": {},
          "execution_count": 19
        }
      ]
    },
    {
      "cell_type": "code",
      "source": [
        "cpo_pri_transformer = MinMaxScaler()\n",
        "cpo_pri_transformer = cpo_pri_transformer.fit(train[['cpo_pri']])\n",
        "train['cpo_pri'] = cpo_pri_transformer.transform(train[['cpo_pri']])\n",
        "train['cpo_pri'].head()"
      ],
      "metadata": {
        "colab": {
          "base_uri": "https://localhost:8080/"
        },
        "id": "XNkE4gN9nJLt",
        "outputId": "259836ec-36c0-43c4-e01a-cdcc459e29f3"
      },
      "execution_count": 20,
      "outputs": [
        {
          "output_type": "execute_result",
          "data": {
            "text/plain": [
              "date\n",
              "2010-12-01    0.0100\n",
              "2011-01-01    0.0650\n",
              "2011-02-01    0.1075\n",
              "2011-03-01    0.1425\n",
              "2011-04-01    0.1600\n",
              "Name: cpo_pri, dtype: float64"
            ]
          },
          "metadata": {},
          "execution_count": 20
        }
      ]
    },
    {
      "cell_type": "code",
      "source": [
        "test.loc[:, feature_columns] = f_transformer.transform(test[feature_columns].to_numpy())\n",
        "test.head()"
      ],
      "metadata": {
        "colab": {
          "base_uri": "https://localhost:8080/",
          "height": 260
        },
        "id": "aouQuJG5n6k8",
        "outputId": "329e7ef5-bcc4-47a6-f723-39782accb720"
      },
      "execution_count": 21,
      "outputs": [
        {
          "output_type": "execute_result",
          "data": {
            "text/plain": [
              "            cpo_pri   cno_pri   oli_pri   rps_pri   pno_pri   sbo_pri  \\\n",
              "date                                                                    \n",
              "2019-03-01      354  0.637712  0.194855  0.382454  0.381292 -0.039662   \n",
              "2019-04-01      348  0.533898  0.264388  0.393951  0.213633 -0.054975   \n",
              "2019-05-01      332  0.400424  0.246417  0.453802  0.235262 -0.092159   \n",
              "2019-06-01      349  0.317797  0.234308  0.509834  0.320749 -0.074743   \n",
              "2019-07-01      372  0.313559  0.223422  0.526454  0.426610 -0.066114   \n",
              "\n",
              "             sfo_pri  \n",
              "date                  \n",
              "2019-03-01  0.493342  \n",
              "2019-04-01  0.597870  \n",
              "2019-05-01  0.606525  \n",
              "2019-06-01  0.631824  \n",
              "2019-07-01  0.773462  "
            ],
            "text/html": [
              "\n",
              "  <div id=\"df-a17d2c76-f112-40f1-baa9-598aee60c7cf\">\n",
              "    <div class=\"colab-df-container\">\n",
              "      <div>\n",
              "<style scoped>\n",
              "    .dataframe tbody tr th:only-of-type {\n",
              "        vertical-align: middle;\n",
              "    }\n",
              "\n",
              "    .dataframe tbody tr th {\n",
              "        vertical-align: top;\n",
              "    }\n",
              "\n",
              "    .dataframe thead th {\n",
              "        text-align: right;\n",
              "    }\n",
              "</style>\n",
              "<table border=\"1\" class=\"dataframe\">\n",
              "  <thead>\n",
              "    <tr style=\"text-align: right;\">\n",
              "      <th></th>\n",
              "      <th>cpo_pri</th>\n",
              "      <th>cno_pri</th>\n",
              "      <th>oli_pri</th>\n",
              "      <th>rps_pri</th>\n",
              "      <th>pno_pri</th>\n",
              "      <th>sbo_pri</th>\n",
              "      <th>sfo_pri</th>\n",
              "    </tr>\n",
              "    <tr>\n",
              "      <th>date</th>\n",
              "      <th></th>\n",
              "      <th></th>\n",
              "      <th></th>\n",
              "      <th></th>\n",
              "      <th></th>\n",
              "      <th></th>\n",
              "      <th></th>\n",
              "    </tr>\n",
              "  </thead>\n",
              "  <tbody>\n",
              "    <tr>\n",
              "      <th>2019-03-01</th>\n",
              "      <td>354</td>\n",
              "      <td>0.637712</td>\n",
              "      <td>0.194855</td>\n",
              "      <td>0.382454</td>\n",
              "      <td>0.381292</td>\n",
              "      <td>-0.039662</td>\n",
              "      <td>0.493342</td>\n",
              "    </tr>\n",
              "    <tr>\n",
              "      <th>2019-04-01</th>\n",
              "      <td>348</td>\n",
              "      <td>0.533898</td>\n",
              "      <td>0.264388</td>\n",
              "      <td>0.393951</td>\n",
              "      <td>0.213633</td>\n",
              "      <td>-0.054975</td>\n",
              "      <td>0.597870</td>\n",
              "    </tr>\n",
              "    <tr>\n",
              "      <th>2019-05-01</th>\n",
              "      <td>332</td>\n",
              "      <td>0.400424</td>\n",
              "      <td>0.246417</td>\n",
              "      <td>0.453802</td>\n",
              "      <td>0.235262</td>\n",
              "      <td>-0.092159</td>\n",
              "      <td>0.606525</td>\n",
              "    </tr>\n",
              "    <tr>\n",
              "      <th>2019-06-01</th>\n",
              "      <td>349</td>\n",
              "      <td>0.317797</td>\n",
              "      <td>0.234308</td>\n",
              "      <td>0.509834</td>\n",
              "      <td>0.320749</td>\n",
              "      <td>-0.074743</td>\n",
              "      <td>0.631824</td>\n",
              "    </tr>\n",
              "    <tr>\n",
              "      <th>2019-07-01</th>\n",
              "      <td>372</td>\n",
              "      <td>0.313559</td>\n",
              "      <td>0.223422</td>\n",
              "      <td>0.526454</td>\n",
              "      <td>0.426610</td>\n",
              "      <td>-0.066114</td>\n",
              "      <td>0.773462</td>\n",
              "    </tr>\n",
              "  </tbody>\n",
              "</table>\n",
              "</div>\n",
              "      <button class=\"colab-df-convert\" onclick=\"convertToInteractive('df-a17d2c76-f112-40f1-baa9-598aee60c7cf')\"\n",
              "              title=\"Convert this dataframe to an interactive table.\"\n",
              "              style=\"display:none;\">\n",
              "        \n",
              "  <svg xmlns=\"http://www.w3.org/2000/svg\" height=\"24px\"viewBox=\"0 0 24 24\"\n",
              "       width=\"24px\">\n",
              "    <path d=\"M0 0h24v24H0V0z\" fill=\"none\"/>\n",
              "    <path d=\"M18.56 5.44l.94 2.06.94-2.06 2.06-.94-2.06-.94-.94-2.06-.94 2.06-2.06.94zm-11 1L8.5 8.5l.94-2.06 2.06-.94-2.06-.94L8.5 2.5l-.94 2.06-2.06.94zm10 10l.94 2.06.94-2.06 2.06-.94-2.06-.94-.94-2.06-.94 2.06-2.06.94z\"/><path d=\"M17.41 7.96l-1.37-1.37c-.4-.4-.92-.59-1.43-.59-.52 0-1.04.2-1.43.59L10.3 9.45l-7.72 7.72c-.78.78-.78 2.05 0 2.83L4 21.41c.39.39.9.59 1.41.59.51 0 1.02-.2 1.41-.59l7.78-7.78 2.81-2.81c.8-.78.8-2.07 0-2.86zM5.41 20L4 18.59l7.72-7.72 1.47 1.35L5.41 20z\"/>\n",
              "  </svg>\n",
              "      </button>\n",
              "      \n",
              "  <style>\n",
              "    .colab-df-container {\n",
              "      display:flex;\n",
              "      flex-wrap:wrap;\n",
              "      gap: 12px;\n",
              "    }\n",
              "\n",
              "    .colab-df-convert {\n",
              "      background-color: #E8F0FE;\n",
              "      border: none;\n",
              "      border-radius: 50%;\n",
              "      cursor: pointer;\n",
              "      display: none;\n",
              "      fill: #1967D2;\n",
              "      height: 32px;\n",
              "      padding: 0 0 0 0;\n",
              "      width: 32px;\n",
              "    }\n",
              "\n",
              "    .colab-df-convert:hover {\n",
              "      background-color: #E2EBFA;\n",
              "      box-shadow: 0px 1px 2px rgba(60, 64, 67, 0.3), 0px 1px 3px 1px rgba(60, 64, 67, 0.15);\n",
              "      fill: #174EA6;\n",
              "    }\n",
              "\n",
              "    [theme=dark] .colab-df-convert {\n",
              "      background-color: #3B4455;\n",
              "      fill: #D2E3FC;\n",
              "    }\n",
              "\n",
              "    [theme=dark] .colab-df-convert:hover {\n",
              "      background-color: #434B5C;\n",
              "      box-shadow: 0px 1px 3px 1px rgba(0, 0, 0, 0.15);\n",
              "      filter: drop-shadow(0px 1px 2px rgba(0, 0, 0, 0.3));\n",
              "      fill: #FFFFFF;\n",
              "    }\n",
              "  </style>\n",
              "\n",
              "      <script>\n",
              "        const buttonEl =\n",
              "          document.querySelector('#df-a17d2c76-f112-40f1-baa9-598aee60c7cf button.colab-df-convert');\n",
              "        buttonEl.style.display =\n",
              "          google.colab.kernel.accessAllowed ? 'block' : 'none';\n",
              "\n",
              "        async function convertToInteractive(key) {\n",
              "          const element = document.querySelector('#df-a17d2c76-f112-40f1-baa9-598aee60c7cf');\n",
              "          const dataTable =\n",
              "            await google.colab.kernel.invokeFunction('convertToInteractive',\n",
              "                                                     [key], {});\n",
              "          if (!dataTable) return;\n",
              "\n",
              "          const docLinkHtml = 'Like what you see? Visit the ' +\n",
              "            '<a target=\"_blank\" href=https://colab.research.google.com/notebooks/data_table.ipynb>data table notebook</a>'\n",
              "            + ' to learn more about interactive tables.';\n",
              "          element.innerHTML = '';\n",
              "          dataTable['output_type'] = 'display_data';\n",
              "          await google.colab.output.renderOutput(dataTable, element);\n",
              "          const docLink = document.createElement('div');\n",
              "          docLink.innerHTML = docLinkHtml;\n",
              "          element.appendChild(docLink);\n",
              "        }\n",
              "      </script>\n",
              "    </div>\n",
              "  </div>\n",
              "  "
            ]
          },
          "metadata": {},
          "execution_count": 21
        }
      ]
    },
    {
      "cell_type": "code",
      "source": [
        "test['cpo_pri'] = cpo_pri_transformer.transform(test[['cpo_pri']])\n",
        "test['cpo_pri'].head()"
      ],
      "metadata": {
        "colab": {
          "base_uri": "https://localhost:8080/"
        },
        "id": "GXgFSrz3n6o5",
        "outputId": "1c432bce-1709-411e-8d31-c86418f767ae"
      },
      "execution_count": 22,
      "outputs": [
        {
          "output_type": "execute_result",
          "data": {
            "text/plain": [
              "date\n",
              "2019-03-01    0.0875\n",
              "2019-04-01    0.0725\n",
              "2019-05-01    0.0325\n",
              "2019-06-01    0.0750\n",
              "2019-07-01    0.1325\n",
              "Name: cpo_pri, dtype: float64"
            ]
          },
          "metadata": {},
          "execution_count": 22
        }
      ]
    },
    {
      "cell_type": "markdown",
      "source": [
        "###Create X_train, y_train, X_test and y_test"
      ],
      "metadata": {
        "id": "p_2s3AO-ohCD"
      }
    },
    {
      "cell_type": "code",
      "source": [
        "def createDataset(X, y, time_steps):\n",
        "    Xs, ys = [], []\n",
        "    for i in range(len(X) - time_steps):\n",
        "        data = X.iloc[i:(i + time_steps)].values\n",
        "        Xs.append(data)        \n",
        "        ys.append(y.iloc[i + time_steps])\n",
        "        \n",
        "    return np.array(Xs), np.array(ys)\n",
        "\n",
        "time_steps = 3\n",
        "X_train, y_train = createDataset(train, train.cpo_pri, time_steps)\n",
        "X_test, y_test = createDataset(test, test.cpo_pri, time_steps)\n",
        "print(X_train.shape, y_train.shape)"
      ],
      "metadata": {
        "colab": {
          "base_uri": "https://localhost:8080/"
        },
        "id": "fGTyTKiYoJIb",
        "outputId": "ed9ef99a-57cb-429c-c12d-a3b28b26a546"
      },
      "execution_count": 23,
      "outputs": [
        {
          "output_type": "stream",
          "name": "stdout",
          "text": [
            "(96, 3, 7) (96,)\n"
          ]
        }
      ]
    },
    {
      "cell_type": "code",
      "source": [
        "#test_lag = test[1:23]\n",
        "#len(test) - 1"
      ],
      "metadata": {
        "id": "dt_elxfcLh_b"
      },
      "execution_count": null,
      "outputs": []
    },
    {
      "cell_type": "code",
      "source": [
        "#decrement naturally.\n",
        "#shifted = test.set_index([\"date\"]).unstack().shift(3).stack()"
      ],
      "metadata": {
        "id": "BqpvIj_hKO30"
      },
      "execution_count": null,
      "outputs": []
    },
    {
      "cell_type": "markdown",
      "source": [
        "###CNN Baseline Model Architecture"
      ],
      "metadata": {
        "id": "omYcAj1aKE61"
      }
    },
    {
      "cell_type": "code",
      "source": [
        "cnn_model = tf.keras.Sequential()\n",
        "cnn_model.add(tf.keras.layers.Conv1D(filters=85, kernel_size=2, activation='tanh', input_shape=(X_test.shape[1], X_test.shape[2])))\n",
        "cnn_model.add(tf.keras.layers.MaxPooling1D(pool_size=2))\n",
        "cnn_model.add(tf.keras.layers.Flatten())\n",
        "cnn_model.add(tf.keras.layers.Dense(64, activation='tanh'))\n",
        "cnn_model.add(tf.keras.layers.Dense(1))\n",
        "\n",
        "# compile model using adam\n",
        "cnn_model.compile(optimizer='adam',loss='mse',metrics=['mse'])\n",
        "# model training\n",
        "history = cnn_model.fit(X_train, y_train, epochs=100, batch_size = 64, validation_split=0.2) #epochs = 30, batch_size = 60\n",
        "\n",
        "# model evaluation\n",
        "cnn_model.evaluate(X_test, y_test)"
      ],
      "metadata": {
        "id": "EkQPUIAQOvX9",
        "outputId": "6db9b72f-8d90-4c34-e65e-fcb84ab9701c",
        "colab": {
          "base_uri": "https://localhost:8080/"
        }
      },
      "execution_count": 26,
      "outputs": [
        {
          "output_type": "stream",
          "name": "stdout",
          "text": [
            "Epoch 1/100\n",
            "2/2 [==============================] - 1s 164ms/step - loss: 0.1939 - mse: 0.1939 - val_loss: 0.0630 - val_mse: 0.0630\n",
            "Epoch 2/100\n",
            "2/2 [==============================] - 0s 31ms/step - loss: 0.0306 - mse: 0.0306 - val_loss: 0.0694 - val_mse: 0.0694\n",
            "Epoch 3/100\n",
            "2/2 [==============================] - 0s 31ms/step - loss: 0.0444 - mse: 0.0444 - val_loss: 0.1086 - val_mse: 0.1086\n",
            "Epoch 4/100\n",
            "2/2 [==============================] - 0s 30ms/step - loss: 0.0792 - mse: 0.0792 - val_loss: 0.0854 - val_mse: 0.0854\n",
            "Epoch 5/100\n",
            "2/2 [==============================] - 0s 30ms/step - loss: 0.0565 - mse: 0.0565 - val_loss: 0.0452 - val_mse: 0.0452\n",
            "Epoch 6/100\n",
            "2/2 [==============================] - 0s 29ms/step - loss: 0.0231 - mse: 0.0231 - val_loss: 0.0301 - val_mse: 0.0301\n",
            "Epoch 7/100\n",
            "2/2 [==============================] - 0s 29ms/step - loss: 0.0125 - mse: 0.0125 - val_loss: 0.0357 - val_mse: 0.0357\n",
            "Epoch 8/100\n",
            "2/2 [==============================] - 0s 28ms/step - loss: 0.0213 - mse: 0.0213 - val_loss: 0.0400 - val_mse: 0.0400\n",
            "Epoch 9/100\n",
            "2/2 [==============================] - 0s 47ms/step - loss: 0.0267 - mse: 0.0267 - val_loss: 0.0326 - val_mse: 0.0326\n",
            "Epoch 10/100\n",
            "2/2 [==============================] - 0s 32ms/step - loss: 0.0203 - mse: 0.0203 - val_loss: 0.0223 - val_mse: 0.0223\n",
            "Epoch 11/100\n",
            "2/2 [==============================] - 0s 30ms/step - loss: 0.0117 - mse: 0.0117 - val_loss: 0.0211 - val_mse: 0.0211\n",
            "Epoch 12/100\n",
            "2/2 [==============================] - 0s 31ms/step - loss: 0.0096 - mse: 0.0096 - val_loss: 0.0264 - val_mse: 0.0264\n",
            "Epoch 13/100\n",
            "2/2 [==============================] - 0s 31ms/step - loss: 0.0130 - mse: 0.0130 - val_loss: 0.0289 - val_mse: 0.0289\n",
            "Epoch 14/100\n",
            "2/2 [==============================] - 0s 29ms/step - loss: 0.0149 - mse: 0.0149 - val_loss: 0.0252 - val_mse: 0.0252\n",
            "Epoch 15/100\n",
            "2/2 [==============================] - 0s 29ms/step - loss: 0.0124 - mse: 0.0124 - val_loss: 0.0192 - val_mse: 0.0192\n",
            "Epoch 16/100\n",
            "2/2 [==============================] - 0s 28ms/step - loss: 0.0095 - mse: 0.0095 - val_loss: 0.0162 - val_mse: 0.0162\n",
            "Epoch 17/100\n",
            "2/2 [==============================] - 0s 29ms/step - loss: 0.0092 - mse: 0.0092 - val_loss: 0.0160 - val_mse: 0.0160\n",
            "Epoch 18/100\n",
            "2/2 [==============================] - 0s 28ms/step - loss: 0.0098 - mse: 0.0098 - val_loss: 0.0162 - val_mse: 0.0162\n",
            "Epoch 19/100\n",
            "2/2 [==============================] - 0s 29ms/step - loss: 0.0095 - mse: 0.0095 - val_loss: 0.0163 - val_mse: 0.0163\n",
            "Epoch 20/100\n",
            "2/2 [==============================] - 0s 36ms/step - loss: 0.0084 - mse: 0.0084 - val_loss: 0.0175 - val_mse: 0.0175\n",
            "Epoch 21/100\n",
            "2/2 [==============================] - 0s 31ms/step - loss: 0.0081 - mse: 0.0081 - val_loss: 0.0196 - val_mse: 0.0196\n",
            "Epoch 22/100\n",
            "2/2 [==============================] - 0s 30ms/step - loss: 0.0088 - mse: 0.0088 - val_loss: 0.0204 - val_mse: 0.0204\n",
            "Epoch 23/100\n",
            "2/2 [==============================] - 0s 29ms/step - loss: 0.0091 - mse: 0.0091 - val_loss: 0.0195 - val_mse: 0.0195\n",
            "Epoch 24/100\n",
            "2/2 [==============================] - 0s 43ms/step - loss: 0.0085 - mse: 0.0085 - val_loss: 0.0181 - val_mse: 0.0181\n",
            "Epoch 25/100\n",
            "2/2 [==============================] - 0s 32ms/step - loss: 0.0079 - mse: 0.0079 - val_loss: 0.0170 - val_mse: 0.0170\n",
            "Epoch 26/100\n",
            "2/2 [==============================] - 0s 31ms/step - loss: 0.0079 - mse: 0.0079 - val_loss: 0.0168 - val_mse: 0.0168\n",
            "Epoch 27/100\n",
            "2/2 [==============================] - 0s 30ms/step - loss: 0.0081 - mse: 0.0081 - val_loss: 0.0168 - val_mse: 0.0168\n",
            "Epoch 28/100\n",
            "2/2 [==============================] - 0s 32ms/step - loss: 0.0080 - mse: 0.0080 - val_loss: 0.0171 - val_mse: 0.0171\n",
            "Epoch 29/100\n",
            "2/2 [==============================] - 0s 30ms/step - loss: 0.0076 - mse: 0.0076 - val_loss: 0.0181 - val_mse: 0.0181\n",
            "Epoch 30/100\n",
            "2/2 [==============================] - 0s 30ms/step - loss: 0.0077 - mse: 0.0077 - val_loss: 0.0191 - val_mse: 0.0191\n",
            "Epoch 31/100\n",
            "2/2 [==============================] - 0s 36ms/step - loss: 0.0078 - mse: 0.0078 - val_loss: 0.0190 - val_mse: 0.0190\n",
            "Epoch 32/100\n",
            "2/2 [==============================] - 0s 32ms/step - loss: 0.0077 - mse: 0.0077 - val_loss: 0.0187 - val_mse: 0.0187\n",
            "Epoch 33/100\n",
            "2/2 [==============================] - 0s 31ms/step - loss: 0.0075 - mse: 0.0075 - val_loss: 0.0178 - val_mse: 0.0178\n",
            "Epoch 34/100\n",
            "2/2 [==============================] - 0s 32ms/step - loss: 0.0073 - mse: 0.0073 - val_loss: 0.0164 - val_mse: 0.0164\n",
            "Epoch 35/100\n",
            "2/2 [==============================] - 0s 32ms/step - loss: 0.0077 - mse: 0.0077 - val_loss: 0.0160 - val_mse: 0.0160\n",
            "Epoch 36/100\n",
            "2/2 [==============================] - 0s 30ms/step - loss: 0.0081 - mse: 0.0081 - val_loss: 0.0166 - val_mse: 0.0166\n",
            "Epoch 37/100\n",
            "2/2 [==============================] - 0s 29ms/step - loss: 0.0077 - mse: 0.0077 - val_loss: 0.0186 - val_mse: 0.0186\n",
            "Epoch 38/100\n",
            "2/2 [==============================] - 0s 30ms/step - loss: 0.0072 - mse: 0.0072 - val_loss: 0.0213 - val_mse: 0.0213\n",
            "Epoch 39/100\n",
            "2/2 [==============================] - 0s 31ms/step - loss: 0.0076 - mse: 0.0076 - val_loss: 0.0226 - val_mse: 0.0226\n",
            "Epoch 40/100\n",
            "2/2 [==============================] - 0s 32ms/step - loss: 0.0077 - mse: 0.0077 - val_loss: 0.0215 - val_mse: 0.0215\n",
            "Epoch 41/100\n",
            "2/2 [==============================] - 0s 29ms/step - loss: 0.0073 - mse: 0.0073 - val_loss: 0.0204 - val_mse: 0.0204\n",
            "Epoch 42/100\n",
            "2/2 [==============================] - 0s 29ms/step - loss: 0.0071 - mse: 0.0071 - val_loss: 0.0206 - val_mse: 0.0206\n",
            "Epoch 43/100\n",
            "2/2 [==============================] - 0s 30ms/step - loss: 0.0070 - mse: 0.0070 - val_loss: 0.0216 - val_mse: 0.0216\n",
            "Epoch 44/100\n",
            "2/2 [==============================] - 0s 34ms/step - loss: 0.0071 - mse: 0.0071 - val_loss: 0.0219 - val_mse: 0.0219\n",
            "Epoch 45/100\n",
            "2/2 [==============================] - 0s 29ms/step - loss: 0.0070 - mse: 0.0070 - val_loss: 0.0213 - val_mse: 0.0213\n",
            "Epoch 46/100\n",
            "2/2 [==============================] - 0s 30ms/step - loss: 0.0069 - mse: 0.0069 - val_loss: 0.0204 - val_mse: 0.0204\n",
            "Epoch 47/100\n",
            "2/2 [==============================] - 0s 29ms/step - loss: 0.0070 - mse: 0.0070 - val_loss: 0.0208 - val_mse: 0.0208\n",
            "Epoch 48/100\n",
            "2/2 [==============================] - 0s 30ms/step - loss: 0.0069 - mse: 0.0069 - val_loss: 0.0229 - val_mse: 0.0229\n",
            "Epoch 49/100\n",
            "2/2 [==============================] - 0s 30ms/step - loss: 0.0069 - mse: 0.0069 - val_loss: 0.0243 - val_mse: 0.0243\n",
            "Epoch 50/100\n",
            "2/2 [==============================] - 0s 29ms/step - loss: 0.0070 - mse: 0.0070 - val_loss: 0.0246 - val_mse: 0.0246\n",
            "Epoch 51/100\n",
            "2/2 [==============================] - 0s 35ms/step - loss: 0.0071 - mse: 0.0071 - val_loss: 0.0240 - val_mse: 0.0240\n",
            "Epoch 52/100\n",
            "2/2 [==============================] - 0s 31ms/step - loss: 0.0069 - mse: 0.0069 - val_loss: 0.0227 - val_mse: 0.0227\n",
            "Epoch 53/100\n",
            "2/2 [==============================] - 0s 31ms/step - loss: 0.0068 - mse: 0.0068 - val_loss: 0.0215 - val_mse: 0.0215\n",
            "Epoch 54/100\n",
            "2/2 [==============================] - 0s 30ms/step - loss: 0.0067 - mse: 0.0067 - val_loss: 0.0208 - val_mse: 0.0208\n",
            "Epoch 55/100\n",
            "2/2 [==============================] - 0s 36ms/step - loss: 0.0068 - mse: 0.0068 - val_loss: 0.0222 - val_mse: 0.0222\n",
            "Epoch 56/100\n",
            "2/2 [==============================] - 0s 31ms/step - loss: 0.0067 - mse: 0.0067 - val_loss: 0.0250 - val_mse: 0.0250\n",
            "Epoch 57/100\n",
            "2/2 [==============================] - 0s 34ms/step - loss: 0.0069 - mse: 0.0069 - val_loss: 0.0252 - val_mse: 0.0252\n",
            "Epoch 58/100\n",
            "2/2 [==============================] - 0s 47ms/step - loss: 0.0068 - mse: 0.0068 - val_loss: 0.0223 - val_mse: 0.0223\n",
            "Epoch 59/100\n",
            "2/2 [==============================] - 0s 31ms/step - loss: 0.0067 - mse: 0.0067 - val_loss: 0.0199 - val_mse: 0.0199\n",
            "Epoch 60/100\n",
            "2/2 [==============================] - 0s 34ms/step - loss: 0.0070 - mse: 0.0070 - val_loss: 0.0204 - val_mse: 0.0204\n",
            "Epoch 61/100\n",
            "2/2 [==============================] - 0s 33ms/step - loss: 0.0068 - mse: 0.0068 - val_loss: 0.0226 - val_mse: 0.0226\n",
            "Epoch 62/100\n",
            "2/2 [==============================] - 0s 36ms/step - loss: 0.0065 - mse: 0.0065 - val_loss: 0.0252 - val_mse: 0.0252\n",
            "Epoch 63/100\n",
            "2/2 [==============================] - 0s 30ms/step - loss: 0.0067 - mse: 0.0067 - val_loss: 0.0264 - val_mse: 0.0264\n",
            "Epoch 64/100\n",
            "2/2 [==============================] - 0s 32ms/step - loss: 0.0068 - mse: 0.0068 - val_loss: 0.0243 - val_mse: 0.0243\n",
            "Epoch 65/100\n",
            "2/2 [==============================] - 0s 48ms/step - loss: 0.0065 - mse: 0.0065 - val_loss: 0.0220 - val_mse: 0.0220\n",
            "Epoch 66/100\n",
            "2/2 [==============================] - 0s 38ms/step - loss: 0.0066 - mse: 0.0066 - val_loss: 0.0223 - val_mse: 0.0223\n",
            "Epoch 67/100\n",
            "2/2 [==============================] - 0s 29ms/step - loss: 0.0065 - mse: 0.0065 - val_loss: 0.0241 - val_mse: 0.0241\n",
            "Epoch 68/100\n",
            "2/2 [==============================] - 0s 30ms/step - loss: 0.0063 - mse: 0.0063 - val_loss: 0.0256 - val_mse: 0.0256\n",
            "Epoch 69/100\n",
            "2/2 [==============================] - 0s 32ms/step - loss: 0.0064 - mse: 0.0064 - val_loss: 0.0248 - val_mse: 0.0248\n",
            "Epoch 70/100\n",
            "2/2 [==============================] - 0s 31ms/step - loss: 0.0063 - mse: 0.0063 - val_loss: 0.0222 - val_mse: 0.0222\n",
            "Epoch 71/100\n",
            "2/2 [==============================] - 0s 30ms/step - loss: 0.0065 - mse: 0.0065 - val_loss: 0.0220 - val_mse: 0.0220\n",
            "Epoch 72/100\n",
            "2/2 [==============================] - 0s 39ms/step - loss: 0.0063 - mse: 0.0063 - val_loss: 0.0256 - val_mse: 0.0256\n",
            "Epoch 73/100\n",
            "2/2 [==============================] - 0s 30ms/step - loss: 0.0064 - mse: 0.0064 - val_loss: 0.0280 - val_mse: 0.0280\n",
            "Epoch 74/100\n",
            "2/2 [==============================] - 0s 29ms/step - loss: 0.0064 - mse: 0.0064 - val_loss: 0.0258 - val_mse: 0.0258\n",
            "Epoch 75/100\n",
            "2/2 [==============================] - 0s 30ms/step - loss: 0.0061 - mse: 0.0061 - val_loss: 0.0233 - val_mse: 0.0233\n",
            "Epoch 76/100\n",
            "2/2 [==============================] - 0s 38ms/step - loss: 0.0062 - mse: 0.0062 - val_loss: 0.0218 - val_mse: 0.0218\n",
            "Epoch 77/100\n",
            "2/2 [==============================] - 0s 30ms/step - loss: 0.0068 - mse: 0.0068 - val_loss: 0.0220 - val_mse: 0.0220\n",
            "Epoch 78/100\n",
            "2/2 [==============================] - 0s 31ms/step - loss: 0.0070 - mse: 0.0070 - val_loss: 0.0245 - val_mse: 0.0245\n",
            "Epoch 79/100\n",
            "2/2 [==============================] - 0s 30ms/step - loss: 0.0063 - mse: 0.0063 - val_loss: 0.0287 - val_mse: 0.0287\n",
            "Epoch 80/100\n",
            "2/2 [==============================] - 0s 34ms/step - loss: 0.0066 - mse: 0.0066 - val_loss: 0.0308 - val_mse: 0.0308\n",
            "Epoch 81/100\n",
            "2/2 [==============================] - 0s 30ms/step - loss: 0.0069 - mse: 0.0069 - val_loss: 0.0284 - val_mse: 0.0284\n",
            "Epoch 82/100\n",
            "2/2 [==============================] - 0s 32ms/step - loss: 0.0064 - mse: 0.0064 - val_loss: 0.0244 - val_mse: 0.0244\n",
            "Epoch 83/100\n",
            "2/2 [==============================] - 0s 31ms/step - loss: 0.0059 - mse: 0.0059 - val_loss: 0.0205 - val_mse: 0.0205\n",
            "Epoch 84/100\n",
            "2/2 [==============================] - 0s 33ms/step - loss: 0.0065 - mse: 0.0065 - val_loss: 0.0196 - val_mse: 0.0196\n",
            "Epoch 85/100\n",
            "2/2 [==============================] - 0s 29ms/step - loss: 0.0066 - mse: 0.0066 - val_loss: 0.0228 - val_mse: 0.0228\n",
            "Epoch 86/100\n",
            "2/2 [==============================] - 0s 29ms/step - loss: 0.0060 - mse: 0.0060 - val_loss: 0.0266 - val_mse: 0.0266\n",
            "Epoch 87/100\n",
            "2/2 [==============================] - 0s 29ms/step - loss: 0.0064 - mse: 0.0064 - val_loss: 0.0263 - val_mse: 0.0263\n",
            "Epoch 88/100\n",
            "2/2 [==============================] - 0s 28ms/step - loss: 0.0063 - mse: 0.0063 - val_loss: 0.0231 - val_mse: 0.0231\n",
            "Epoch 89/100\n",
            "2/2 [==============================] - 0s 42ms/step - loss: 0.0059 - mse: 0.0059 - val_loss: 0.0210 - val_mse: 0.0210\n",
            "Epoch 90/100\n",
            "2/2 [==============================] - 0s 33ms/step - loss: 0.0061 - mse: 0.0061 - val_loss: 0.0213 - val_mse: 0.0213\n",
            "Epoch 91/100\n",
            "2/2 [==============================] - 0s 32ms/step - loss: 0.0060 - mse: 0.0060 - val_loss: 0.0232 - val_mse: 0.0232\n",
            "Epoch 92/100\n",
            "2/2 [==============================] - 0s 48ms/step - loss: 0.0059 - mse: 0.0059 - val_loss: 0.0234 - val_mse: 0.0234\n",
            "Epoch 93/100\n",
            "2/2 [==============================] - 0s 30ms/step - loss: 0.0058 - mse: 0.0058 - val_loss: 0.0216 - val_mse: 0.0216\n",
            "Epoch 94/100\n",
            "2/2 [==============================] - 0s 47ms/step - loss: 0.0058 - mse: 0.0058 - val_loss: 0.0202 - val_mse: 0.0202\n",
            "Epoch 95/100\n",
            "2/2 [==============================] - 0s 31ms/step - loss: 0.0059 - mse: 0.0059 - val_loss: 0.0204 - val_mse: 0.0204\n",
            "Epoch 96/100\n",
            "2/2 [==============================] - 0s 37ms/step - loss: 0.0058 - mse: 0.0058 - val_loss: 0.0225 - val_mse: 0.0225\n",
            "Epoch 97/100\n",
            "2/2 [==============================] - 0s 31ms/step - loss: 0.0059 - mse: 0.0059 - val_loss: 0.0242 - val_mse: 0.0242\n",
            "Epoch 98/100\n",
            "2/2 [==============================] - 0s 31ms/step - loss: 0.0059 - mse: 0.0059 - val_loss: 0.0218 - val_mse: 0.0218\n",
            "Epoch 99/100\n",
            "2/2 [==============================] - 0s 33ms/step - loss: 0.0058 - mse: 0.0058 - val_loss: 0.0205 - val_mse: 0.0205\n",
            "Epoch 100/100\n",
            "2/2 [==============================] - 0s 34ms/step - loss: 0.0057 - mse: 0.0057 - val_loss: 0.0212 - val_mse: 0.0212\n",
            "1/1 [==============================] - 0s 23ms/step - loss: 0.0192 - mse: 0.0192\n"
          ]
        },
        {
          "output_type": "execute_result",
          "data": {
            "text/plain": [
              "[0.019204679876565933, 0.019204679876565933]"
            ]
          },
          "metadata": {},
          "execution_count": 26
        }
      ]
    },
    {
      "cell_type": "code",
      "source": [
        "print(history.history.keys())\n",
        "# \"Loss\"\n",
        "plt.plot(history.history['loss'])\n",
        "plt.plot(history.history['val_loss'])\n",
        "plt.title('model loss')\n",
        "plt.ylabel('loss')\n",
        "plt.xlabel('epoch')\n",
        "plt.legend(['train', 'validation'], loc='upper left')\n",
        "plt.show()"
      ],
      "metadata": {
        "colab": {
          "base_uri": "https://localhost:8080/",
          "height": 421
        },
        "id": "tvMUIg5SHsEF",
        "outputId": "34e76679-0de9-4553-886f-744ae62be0d5"
      },
      "execution_count": 27,
      "outputs": [
        {
          "output_type": "stream",
          "name": "stdout",
          "text": [
            "dict_keys(['loss', 'mse', 'val_loss', 'val_mse'])\n"
          ]
        },
        {
          "output_type": "display_data",
          "data": {
            "text/plain": [
              "<Figure size 720x360 with 1 Axes>"
            ],
            "image/png": "[encoded data removed]"
          },
          "metadata": {}
        }
      ]
    },
    {
      "cell_type": "code",
      "source": [
        "mse_cnn = cnn_model.evaluate(X_test, y_test)"
      ],
      "metadata": {
        "colab": {
          "base_uri": "https://localhost:8080/"
        },
        "id": "ImssP1C-YLO6",
        "outputId": "eb0005fe-60be-4652-b273-f63ed7444a2d"
      },
      "execution_count": 28,
      "outputs": [
        {
          "output_type": "stream",
          "name": "stdout",
          "text": [
            "1/1 [==============================] - 0s 27ms/step - loss: 0.0192 - mse: 0.0192\n"
          ]
        }
      ]
    },
    {
      "cell_type": "markdown",
      "source": [
        "####Baseline MSE = 0.0192"
      ],
      "metadata": {
        "id": "kaLutRuWgU4K"
      }
    },
    {
      "cell_type": "code",
      "source": [
        "cnn_model.summary()"
      ],
      "metadata": {
        "colab": {
          "base_uri": "https://localhost:8080/"
        },
        "id": "A8XbxYQeiCoj",
        "outputId": "f054e492-b38c-4c8d-e050-b08bc99435d4"
      },
      "execution_count": 29,
      "outputs": [
        {
          "output_type": "stream",
          "name": "stdout",
          "text": [
            "Model: \"sequential_2\"\n",
            "_________________________________________________________________\n",
            " Layer (type)                Output Shape              Param #   \n",
            "=================================================================\n",
            " conv1d_2 (Conv1D)           (None, 2, 85)             1275      \n",
            "                                                                 \n",
            " max_pooling1d_2 (MaxPooling  (None, 1, 85)            0         \n",
            " 1D)                                                             \n",
            "                                                                 \n",
            " flatten_2 (Flatten)         (None, 85)                0         \n",
            "                                                                 \n",
            " dense_4 (Dense)             (None, 64)                5504      \n",
            "                                                                 \n",
            " dense_5 (Dense)             (None, 1)                 65        \n",
            "                                                                 \n",
            "=================================================================\n",
            "Total params: 6,844\n",
            "Trainable params: 6,844\n",
            "Non-trainable params: 0\n",
            "_________________________________________________________________\n"
          ]
        }
      ]
    },
    {
      "cell_type": "markdown",
      "source": [
        "###Predict the Test without Hyperparameter Tuning"
      ],
      "metadata": {
        "id": "bNFFP1sSleo-"
      }
    },
    {
      "cell_type": "code",
      "source": [
        "y_pred = cnn_model.predict(X_test)\n",
        "y_pred"
      ],
      "metadata": {
        "colab": {
          "base_uri": "https://localhost:8080/"
        },
        "id": "wujQ6JNuiCyl",
        "outputId": "3f98d845-1ee2-4583-b8c4-c987b69d036e"
      },
      "execution_count": 30,
      "outputs": [
        {
          "output_type": "stream",
          "name": "stdout",
          "text": [
            "1/1 [==============================] - 0s 87ms/step\n"
          ]
        },
        {
          "output_type": "execute_result",
          "data": {
            "text/plain": [
              "array([[ 0.09915901],\n",
              "       [ 0.06474859],\n",
              "       [ 0.10742812],\n",
              "       [ 0.11503207],\n",
              "       [ 0.06183707],\n",
              "       [ 0.05928043],\n",
              "       [ 0.07553317],\n",
              "       [ 0.06122551],\n",
              "       [ 0.01604473],\n",
              "       [-0.02328485],\n",
              "       [-0.00617843],\n",
              "       [-0.01386675],\n",
              "       [-0.03029656],\n",
              "       [-0.02233214],\n",
              "       [-0.01146808],\n",
              "       [-0.04471519],\n",
              "       [-0.06055314],\n",
              "       [ 0.03745111],\n",
              "       [ 0.13719746],\n",
              "       [ 0.15733457],\n",
              "       [ 0.07945555],\n",
              "       [ 0.07220703]], dtype=float32)"
            ]
          },
          "metadata": {},
          "execution_count": 30
        }
      ]
    },
    {
      "cell_type": "code",
      "source": [
        "y_pred.reshape(1,-1)"
      ],
      "metadata": {
        "colab": {
          "base_uri": "https://localhost:8080/"
        },
        "id": "GI8XYmymlslh",
        "outputId": "34a5fa66-4e0c-4af5-aa30-186e1cd5be26"
      },
      "execution_count": 31,
      "outputs": [
        {
          "output_type": "execute_result",
          "data": {
            "text/plain": [
              "array([[ 0.09915901,  0.06474859,  0.10742812,  0.11503207,  0.06183707,\n",
              "         0.05928043,  0.07553317,  0.06122551,  0.01604473, -0.02328485,\n",
              "        -0.00617843, -0.01386675, -0.03029656, -0.02233214, -0.01146808,\n",
              "        -0.04471519, -0.06055314,  0.03745111,  0.13719746,  0.15733457,\n",
              "         0.07945555,  0.07220703]], dtype=float32)"
            ]
          },
          "metadata": {},
          "execution_count": 31
        }
      ]
    },
    {
      "cell_type": "markdown",
      "source": [
        "###Invert Transformed Data"
      ],
      "metadata": {
        "id": "jrtmvrZ_l2__"
      }
    },
    {
      "cell_type": "code",
      "source": [
        "y_train_inv = cpo_pri_transformer.inverse_transform(y_train.reshape(1, -1))\n",
        "y_test_inv = cpo_pri_transformer.inverse_transform(y_test.reshape(1, -1))\n",
        "y_pred_inv = cpo_pri_transformer.inverse_transform(y_pred.reshape(1,-1))\n",
        "print(y_train_inv)\n",
        "print(y_test_inv)\n",
        "print(y_pred_inv)"
      ],
      "metadata": {
        "colab": {
          "base_uri": "https://localhost:8080/"
        },
        "id": "FVSGGT57lxHw",
        "outputId": "e66a81ed-0a7b-42db-b15e-b1ebc46ed310"
      },
      "execution_count": 32,
      "outputs": [
        {
          "output_type": "stream",
          "name": "stdout",
          "text": [
            "[[376. 383. 382. 396. 402. 390. 404. 382. 382. 391. 396. 413. 401. 410.\n",
            "  425. 408. 392. 371. 356. 362. 356. 352. 333. 357. 411. 404. 387. 395.\n",
            "  434. 488. 508. 494. 575. 614. 616. 707. 719. 655. 661. 687. 625. 611.\n",
            "  631. 655. 616. 586. 615. 607. 590. 535. 518. 519. 562. 552. 508. 476.\n",
            "  513. 545. 532. 550. 561. 567. 580. 559. 562. 553. 533. 498. 504. 525.\n",
            "  547. 556. 566. 621. 659. 671. 688. 705. 633. 661. 674. 703. 694. 681.\n",
            "  663. 632. 561. 497. 509. 475. 392. 319. 354. 388. 381. 370.]]\n",
            "[[349. 372. 324. 315. 312. 306. 288. 255. 257. 265. 254. 240. 254. 251.\n",
            "  234. 255. 330. 362. 310. 277. 323. 360.]]\n",
            "[[358.6636  344.89944 361.97125 365.01285 343.73483 342.71216 349.21326\n",
            "  343.4902  325.4179  309.68607 316.52863 313.4533  306.88138 310.06714\n",
            "  314.41275 301.11392 294.77875 333.98044 373.87897 381.93384 350.78223\n",
            "  347.8828 ]]\n"
          ]
        }
      ]
    },
    {
      "cell_type": "markdown",
      "source": [
        "###Plot History, Actual and Predicted Value"
      ],
      "metadata": {
        "id": "PxYTgRmhmDtL"
      }
    },
    {
      "cell_type": "code",
      "source": [
        "y_train_inv = y_train_inv.flatten()\n",
        "y_train_inv"
      ],
      "metadata": {
        "colab": {
          "base_uri": "https://localhost:8080/"
        },
        "id": "YXY0nwhElxLo",
        "outputId": "82e6b168-6bcb-4b59-c109-6e76ac290a57"
      },
      "execution_count": 33,
      "outputs": [
        {
          "output_type": "execute_result",
          "data": {
            "text/plain": [
              "array([376., 383., 382., 396., 402., 390., 404., 382., 382., 391., 396.,\n",
              "       413., 401., 410., 425., 408., 392., 371., 356., 362., 356., 352.,\n",
              "       333., 357., 411., 404., 387., 395., 434., 488., 508., 494., 575.,\n",
              "       614., 616., 707., 719., 655., 661., 687., 625., 611., 631., 655.,\n",
              "       616., 586., 615., 607., 590., 535., 518., 519., 562., 552., 508.,\n",
              "       476., 513., 545., 532., 550., 561., 567., 580., 559., 562., 553.,\n",
              "       533., 498., 504., 525., 547., 556., 566., 621., 659., 671., 688.,\n",
              "       705., 633., 661., 674., 703., 694., 681., 663., 632., 561., 497.,\n",
              "       509., 475., 392., 319., 354., 388., 381., 370.])"
            ]
          },
          "metadata": {},
          "execution_count": 33
        }
      ]
    },
    {
      "cell_type": "code",
      "source": [
        "y_test_inv = y_test_inv.flatten()\n",
        "y_test_inv"
      ],
      "metadata": {
        "colab": {
          "base_uri": "https://localhost:8080/"
        },
        "id": "z_zQn_rpl_MC",
        "outputId": "d1b95507-a0d0-44b7-ab08-7c960054db86"
      },
      "execution_count": 34,
      "outputs": [
        {
          "output_type": "execute_result",
          "data": {
            "text/plain": [
              "array([349., 372., 324., 315., 312., 306., 288., 255., 257., 265., 254.,\n",
              "       240., 254., 251., 234., 255., 330., 362., 310., 277., 323., 360.])"
            ]
          },
          "metadata": {},
          "execution_count": 34
        }
      ]
    },
    {
      "cell_type": "code",
      "source": [
        "y_pred_inv = y_pred_inv.flatten()\n",
        "y_pred_inv"
      ],
      "metadata": {
        "colab": {
          "base_uri": "https://localhost:8080/"
        },
        "id": "X4GInUagmJUO",
        "outputId": "2bad5bdf-0263-4bc8-9982-9b5502064242"
      },
      "execution_count": 35,
      "outputs": [
        {
          "output_type": "execute_result",
          "data": {
            "text/plain": [
              "array([358.6636 , 344.89944, 361.97125, 365.01285, 343.73483, 342.71216,\n",
              "       349.21326, 343.4902 , 325.4179 , 309.68607, 316.52863, 313.4533 ,\n",
              "       306.88138, 310.06714, 314.41275, 301.11392, 294.77875, 333.98044,\n",
              "       373.87897, 381.93384, 350.78223, 347.8828 ], dtype=float32)"
            ]
          },
          "metadata": {},
          "execution_count": 35
        }
      ]
    },
    {
      "cell_type": "code",
      "source": [
        "plt.figure(figsize=(17,9))\n",
        "#plt.grid()\n",
        "#plt.plot(np.arange(0, len(y_train)), y_train_inv, color='green', label=\"History\")\n",
        "plt.plot(np.arange(len(y_train), len(y_train) + len(y_test)), y_test_inv, color='red', marker='.', label=\"Actual\")\n",
        "plt.plot(np.arange(len(y_train), len(y_train) + len(y_test)), y_pred_inv, color='green', label=\"Tuned CNN Prediction\")\n",
        "plt.ylabel('Crude Palm Oil Price')\n",
        "plt.xlabel('Time step')\n",
        "plt.legend()\n",
        "ax.grid()\n",
        "plt.savefig('graph_CNN.png')"
      ],
      "metadata": {
        "colab": {
          "base_uri": "https://localhost:8080/",
          "height": 528
        },
        "id": "vHGNO1xAmJYI",
        "outputId": "8d73bece-eb51-41c4-ad9f-f89f4728752e"
      },
      "execution_count": 37,
      "outputs": [
        {
          "output_type": "display_data",
          "data": {
            "text/plain": [
              "<Figure size 1224x648 with 1 Axes>"
            ],
            "image/png": "[encoded data removed]"
          },
          "metadata": {}
        }
      ]
    },
    {
      "cell_type": "markdown",
      "source": [
        "###Evaluate CNN Model Accuracy"
      ],
      "metadata": {
        "id": "1NImON2RmyWF"
      }
    },
    {
      "cell_type": "code",
      "source": [
        "MAE_cnn = mean_absolute_error(y_test_inv, y_pred_inv)\n",
        "print('MAE value of the CNN Model is:', MAE_cnn)\n",
        "\n",
        "MDA_cnn = mda(y_test_inv, y_pred_inv)\n",
        "print('MDA value of the CNN Model is:', MDA_cnn)\n",
        "\n",
        "MAPE_cnn = mean_absolute_percentage_error(y_test_inv, y_pred_inv)\n",
        "print('MAPE value of the CNN Model is:', MAPE_cnn)\n",
        "\n",
        "RMSE_cnn = mean_squared_error(y_test_inv,y_pred_inv, squared=False)\n",
        "print('RMSE value of the CNN Model is:', RMSE_cnn)\n",
        "\n",
        "MSE_cnn = mean_squared_error(y_test_inv,y_pred_inv)\n",
        "print('MSE value of the CNN Model is:', MSE_cnn)"
      ],
      "metadata": {
        "colab": {
          "base_uri": "https://localhost:8080/"
        },
        "id": "fIc5ITw4m2QJ",
        "outputId": "9f527c81-9215-443b-ecdd-3fc97febab23"
      },
      "execution_count": 38,
      "outputs": [
        {
          "output_type": "stream",
          "name": "stdout",
          "text": [
            "MAE value of the CNN Model is: 50.10967462713068\n",
            "MDA value of the CNN Model is: 0.23809523809523808\n",
            "MAPE value of the CNN Model is: 18.188775024877124\n",
            "RMSE value of the CNN Model is: 55.432380747793395\n",
            "MSE value of the CNN Model is: 3072.748835368336\n"
          ]
        }
      ]
    },
    {
      "cell_type": "markdown",
      "source": [
        "###Tuning CNN with Keras Tuner"
      ],
      "metadata": {
        "id": "fs98oM36Yw_r"
      }
    },
    {
      "cell_type": "markdown",
      "source": [
        "Define A Model-Building Class"
      ],
      "metadata": {
        "id": "UHH-Phuz1M-L"
      }
    },
    {
      "cell_type": "code",
      "source": [
        "#class ANNhypermodel(HyperModel):\n",
        "class CNNHyperModel(HyperModel):\n",
        "    \n",
        "    def __init__(self, input_shape):\n",
        "        self.input_shape= input_shape\n",
        "        \n",
        "    def build(self, hp):\n",
        "        model= keras.Sequential()\n",
        "        # Tune the number of units in the first Dense layer\n",
        "        # Defining dense units as a close approx to the original neural network to perform a fair comparision!\n",
        "        hp_units_1= hp.Int('units_1', min_value=64, max_value= 256, step=8)\n",
        "        hp_units_2= hp.Int('units_2', min_value=32, max_value= 128, step=8)\n",
        "        #hp_units_3= hp.Int('units_3', min_value=32, max_value= 64, step=16)\n",
        "        #hp_units_4= hp.Int('units_4', min_value=16, max_value= 32, step=8)\n",
        "\n",
        "        model.add(keras.layers.Dense(units=hp_units_1, input_shape= self.input_shape))\n",
        "        model.add(keras.layers.Dense(units=hp_units_2))\n",
        "        #model.add(keras.layers.Dense(units=hp_units_3, activation='tanh'))\n",
        "        #model.add(keras.layers.Dense(units=hp_units_4, activation='tanh'))\n",
        "        model.add(keras.layers.Dense(1))\n",
        "        #Tune the dropout\n",
        "        model.add(\n",
        "            Dropout(\n",
        "                rate=hp.Float(\n",
        "                    'dropout',\n",
        "                    min_value=0.0,\n",
        "                    max_value=0.5,\n",
        "                    default=0.25,\n",
        "                    step=0.05\n",
        "                )\n",
        "            )\n",
        "        )\n",
        "        \n",
        "        # Tune the epoch for the optimizer\n",
        "\n",
        "        #batch_size = hp.Int('batch_size',8,16,24,32,40,48,56,64,72,80,88,96, step=8)\n",
        "        \n",
        "        optimizers = hp.Choice('optimizer',values=['rmsprop','adam', 'AdamW', 'nadam','sgd','adadelta','adagrad'])\n",
        "\n",
        "        hp_dense_activation = hp.Choice('activation',values=['relu', 'tanh', 'sigmoid', 'linear', 'Softmax', 'ELU', 'linear'])\n",
        "\n",
        "        # Tune the batch size for the optimizer \n",
        "        hp_batch_size = hp.Int('batch_size', min_value = 8, max_value = 96, step = 8, default=8)\n",
        "        \n",
        "        # Tune the epoch for the optimizer\n",
        "        hp_epoch = hp.Int('epoch', min_value = 5, max_value = 100, step = 5, default=5)\n",
        "\n",
        "        # Tune the epoch for the momentum\n",
        "        hp_momentum = hp.Float('momentum', min_value = 0.8, max_value = 0.99, step = 0.01, default=0.9)\n",
        "\n",
        "        # Tune the epoch for the decay\n",
        "        hp_decay = hp.Float('decay', min_value = 1e-9, max_value = 1e-3, step= 0.0001, default=1e-7)\n",
        "\n",
        "        # Tune the learning rate for the optimizer \n",
        "        hp_learning_rate=hp.Float('learning_rate', min_value=1e-4, max_value=1e-2, sampling='LOG', default= 0.0005)\n",
        "       # -------------------------------------------------------\n",
        "        model.compile(loss='mse',\n",
        "                    optimizer= keras.optimizers.Adam(learning_rate=hp_learning_rate),\n",
        "                    metrics= ['mae','mse']\n",
        "                     )\n",
        "\n",
        "        return model\n",
        "\n",
        "#hypermodel= ANNhypermodel(input_shape = (X_test.shape[1], X_test.shape[2]))\n",
        "hypermodel = CNNHyperModel(input_shape = (X_test.shape[1], X_test.shape[2]))"
      ],
      "metadata": {
        "id": "6sH3KVfoj7jq"
      },
      "execution_count": 39,
      "outputs": []
    },
    {
      "cell_type": "markdown",
      "source": [
        "###Build Random Search Tuner"
      ],
      "metadata": {
        "id": "Vw6sRopRkNq-"
      }
    },
    {
      "cell_type": "code",
      "source": [
        "tuner_rs = RandomSearch(\n",
        "            hypermodel,\n",
        "            objective='mse',\n",
        "            seed=42,\n",
        "            max_trials=10,\n",
        "            executions_per_trial=2, overwrite=True\n",
        "        )"
      ],
      "metadata": {
        "id": "oPWNkr_dj7ng"
      },
      "execution_count": 40,
      "outputs": []
    },
    {
      "cell_type": "markdown",
      "source": [
        "###Run Random Search"
      ],
      "metadata": {
        "id": "UH8vIpuOkl0V"
      }
    },
    {
      "cell_type": "code",
      "source": [
        "tuner_rs.search(X_train, y_train, epochs=16, validation_split=0.2, verbose=0)"
      ],
      "metadata": {
        "id": "XC6nlTF4j7rN"
      },
      "execution_count": 41,
      "outputs": []
    },
    {
      "cell_type": "markdown",
      "source": [
        "###Evaluate Random Search"
      ],
      "metadata": {
        "id": "ZWc0whe7l-_0"
      }
    },
    {
      "cell_type": "code",
      "source": [
        "best_model = tuner_rs.get_best_models(num_models=1)[0]\n",
        "mse_rs = best_model.evaluate(X_test, y_test)[1]"
      ],
      "metadata": {
        "colab": {
          "base_uri": "https://localhost:8080/"
        },
        "id": "V0u8mTuTj7wl",
        "outputId": "0b7101cf-a5bd-4a7a-f096-d4882821d2cd"
      },
      "execution_count": 42,
      "outputs": [
        {
          "output_type": "stream",
          "name": "stdout",
          "text": [
            "1/1 [==============================] - 0s 440ms/step - loss: 0.1093 - mae: 0.3130 - mse: 0.1093\n"
          ]
        }
      ]
    },
    {
      "cell_type": "markdown",
      "source": [
        "####Random Search MSE = 0.1093"
      ],
      "metadata": {
        "id": "9jgCzQ74mQjM"
      }
    },
    {
      "cell_type": "code",
      "source": [
        "best_params = tuner_rs.get_best_hyperparameters()\n",
        "\n",
        "best_params[0].values"
      ],
      "metadata": {
        "colab": {
          "base_uri": "https://localhost:8080/"
        },
        "id": "jJ5NIqxpj72V",
        "outputId": "9715a4fd-5bc7-464f-c470-088f2cff7b12"
      },
      "execution_count": 43,
      "outputs": [
        {
          "output_type": "execute_result",
          "data": {
            "text/plain": [
              "{'units_1': 144,\n",
              " 'units_2': 80,\n",
              " 'dropout': 0.2,\n",
              " 'optimizer': 'sgd',\n",
              " 'activation': 'Softmax',\n",
              " 'batch_size': 8,\n",
              " 'epoch': 20,\n",
              " 'momentum': 0.8,\n",
              " 'decay': 0.000700001,\n",
              " 'learning_rate': 0.001083033272419774}"
            ]
          },
          "metadata": {},
          "execution_count": 43
        }
      ]
    },
    {
      "cell_type": "markdown",
      "source": [
        "###Build HYPERBAND optimization"
      ],
      "metadata": {
        "id": "9rYL672xrXtU"
      }
    },
    {
      "cell_type": "code",
      "source": [
        "MAX_TRIALS = 20\n",
        "tuner= RandomSearch(hypermodel,\n",
        "               objective= 'val_mse',\n",
        "               max_trials= MAX_TRIALS,\n",
        "               executions_per_trial= 2,\n",
        "               directory= 'random_search',\n",
        "               project_name='randomsearch',\n",
        "               overwrite=True)"
      ],
      "metadata": {
        "id": "CqxbIHGxmstL"
      },
      "execution_count": 44,
      "outputs": []
    },
    {
      "cell_type": "code",
      "source": [
        "HYPERBAND_MAX_EPOCHS = 150\n",
        "EXECUTION_PER_TRIAL = 2\n",
        "\n",
        "tuner= Hyperband(hypermodel,\n",
        "                   objective= 'val_mse',\n",
        "                   max_epochs=HYPERBAND_MAX_EPOCHS, #Set 100+ for good results\n",
        "                   executions_per_trial=EXECUTION_PER_TRIAL,\n",
        "                   directory= 'hyperband',\n",
        "                   project_name='hyper',\n",
        "                   overwrite=True)\n",
        "\n",
        "# tuner.search_space_summary()"
      ],
      "metadata": {
        "id": "eaGs4DAFosPl"
      },
      "execution_count": 46,
      "outputs": []
    },
    {
      "cell_type": "code",
      "source": [
        "print('searching for the best params!')\n",
        "\n",
        "t0 = time()\n",
        "tuner.search(x= X_train,\n",
        "             y= y_train,\n",
        "             epochs=100,\n",
        "             batch_size= 64,\n",
        "             validation_data= (X_test, y_test),\n",
        "             verbose=0,\n",
        "             callbacks= []\n",
        "            )\n",
        "print(time()- t0,\" secs\")\n",
        "\n",
        "# Retreive the optimal hyperparameters\n",
        "best_hps= tuner.get_best_hyperparameters(num_trials=1)[0]\n",
        "\n",
        "# Retrieve the best model\n",
        "best_model = tuner.get_best_models(num_models=1)[0]"
      ],
      "metadata": {
        "colab": {
          "base_uri": "https://localhost:8080/"
        },
        "id": "NXf_LR3mosWn",
        "outputId": "c9f8d8e3-6bf1-4b81-ad37-58892d04ad67"
      },
      "execution_count": 47,
      "outputs": [
        {
          "output_type": "stream",
          "name": "stdout",
          "text": [
            "searching for the best params!\n"
          ]
        },
        {
          "output_type": "stream",
          "name": "stderr",
          "text": [
            "WARNING:tensorflow:5 out of the last 22 calls to <function Model.make_test_function.<locals>.test_function at 0x7fc40c63b3a0> triggered tf.function retracing. Tracing is expensive and the excessive number of tracings could be due to (1) creating @tf.function repeatedly in a loop, (2) passing tensors with different shapes, (3) passing Python objects instead of tensors. For (1), please define your @tf.function outside of the loop. For (2), @tf.function has reduce_retracing=True option that can avoid unnecessary retracing. For (3), please refer to https://www.tensorflow.org/guide/function#controlling_retracing and https://www.tensorflow.org/api_docs/python/tf/function for  more details.\n",
            "WARNING:tensorflow:6 out of the last 24 calls to <function Model.make_test_function.<locals>.test_function at 0x7fc40c63cdc0> triggered tf.function retracing. Tracing is expensive and the excessive number of tracings could be due to (1) creating @tf.function repeatedly in a loop, (2) passing tensors with different shapes, (3) passing Python objects instead of tensors. For (1), please define your @tf.function outside of the loop. For (2), @tf.function has reduce_retracing=True option that can avoid unnecessary retracing. For (3), please refer to https://www.tensorflow.org/guide/function#controlling_retracing and https://www.tensorflow.org/api_docs/python/tf/function for  more details.\n"
          ]
        },
        {
          "output_type": "stream",
          "name": "stdout",
          "text": [
            "1496.0122952461243  secs\n"
          ]
        }
      ]
    },
    {
      "cell_type": "code",
      "source": [
        "print(f\"\"\"\n",
        "The hyperparameter search is complete. The optimal number of units in the \n",
        "first densely-connected layer is {best_hps.get('units_1')},\n",
        "second layer is {best_hps.get('units_2')} \n",
        "drop out is {best_hps.get('dropout')}\n",
        "batch_size is {best_hps.get('batch_size')}\n",
        "epoch is {best_hps.get('epoch')}\n",
        "optimizer is {best_hps.get('optimizer')}\n",
        "activation is {best_hps.get('activation')}\n",
        "\n",
        "momentum is {best_hps.get('momentum')}\n",
        "decay is {best_hps.get('decay')}\n",
        "\n",
        "#learning rate is {best_hps.get('learning_rate')}                                        \n",
        "\n",
        "and the optimal learning rate for the optimizer\n",
        "is {best_hps.get('learning_rate')}.\n",
        "\"\"\")\n",
        "\n",
        "# Evaluate the best model.\n",
        "print(best_model.metrics_names)\n",
        "loss, mae, mse = best_model.evaluate(X_test, y_test)\n",
        "print(f'loss:{loss} mae: {mae} mse: {mse}')"
      ],
      "metadata": {
        "colab": {
          "base_uri": "https://localhost:8080/"
        },
        "id": "UcOC-csfrvmH",
        "outputId": "4298717d-3ea7-47c5-dc03-66d99e4144f3"
      },
      "execution_count": 48,
      "outputs": [
        {
          "output_type": "stream",
          "name": "stdout",
          "text": [
            "\n",
            "The hyperparameter search is complete. The optimal number of units in the \n",
            "first densely-connected layer is 80,\n",
            "second layer is 48 \n",
            "drop out is 0.1\n",
            "batch_size is 8\n",
            "epoch is 40\n",
            "optimizer is adam\n",
            "activation is tanh\n",
            "\n",
            "momentum is 0.8\n",
            "decay is 0.000500001\n",
            "\n",
            "#learning rate is 0.00010295925479564696                                        \n",
            "\n",
            "and the optimal learning rate for the optimizer\n",
            "is 0.00010295925479564696.\n",
            "\n",
            "[]\n",
            "1/1 [==============================] - 0s 350ms/step - loss: 0.0120 - mae: 0.0959 - mse: 0.0120\n",
            "loss:0.012014300562441349 mae: 0.09594318270683289 mse: 0.012014300562441349\n"
          ]
        }
      ]
    },
    {
      "cell_type": "code",
      "source": [
        "# Get the optimal hyperparameters\n",
        "best_hps = tuner.get_best_hyperparameters(num_trials = 1)[0]\n",
        "print(best_hps.values)"
      ],
      "metadata": {
        "id": "q0e8tSIulgh_",
        "colab": {
          "base_uri": "https://localhost:8080/"
        },
        "outputId": "1737fd6e-1caa-4b78-b496-5bb8ba312e4e"
      },
      "execution_count": 49,
      "outputs": [
        {
          "output_type": "stream",
          "name": "stdout",
          "text": [
            "{'units_1': 80, 'units_2': 48, 'dropout': 0.1, 'optimizer': 'adam', 'activation': 'tanh', 'batch_size': 8, 'epoch': 40, 'momentum': 0.8, 'decay': 0.000500001, 'learning_rate': 0.00010295925479564696, 'tuner/epochs': 50, 'tuner/initial_epoch': 17, 'tuner/bracket': 2, 'tuner/round': 1, 'tuner/trial_id': '0210'}\n"
          ]
        }
      ]
    },
    {
      "cell_type": "markdown",
      "source": [
        "###Apply the trained parameters to the CNN"
      ],
      "metadata": {
        "id": "oggNSpcVpofH"
      }
    },
    {
      "cell_type": "code",
      "source": [
        "TUcnn_model = tf.keras.Sequential()\n",
        "TUcnn_model.add(tf.keras.layers.Conv1D(filters=80, kernel_size=2, activation='tanh', input_shape=(X_test.shape[1], X_test.shape[2])))\n",
        "TUcnn_model.add(tf.keras.layers.Dense(48, activation='tanh'))\n",
        "#TUcnn_model.add(layers.Dropout(0.1))\n",
        "TUcnn_model.add(tf.keras.layers.MaxPooling1D(pool_size=2))\n",
        "TUcnn_model.add(tf.keras.layers.Flatten())\n",
        "TUcnn_model.add(tf.keras.layers.Dense(1))"
      ],
      "metadata": {
        "id": "exKbi-BBYxAt"
      },
      "execution_count": 120,
      "outputs": []
    },
    {
      "cell_type": "code",
      "source": [
        "TUcnn_model.compile(loss = 'mse', optimizer= keras.optimizers.legacy.Adam(lr=0.00010295, decay = 0.00050), metrics= ['mae', 'mse'])\n",
        "history = TUcnn_model.fit(X_train, y_train, epochs=40, batch_size=8,validation_split=0.2,shuffle=False) # 80/160"
      ],
      "metadata": {
        "colab": {
          "base_uri": "https://localhost:8080/"
        },
        "id": "2OVvMjqyY2kW",
        "outputId": "9de9205f-5bdd-4bfd-eba2-d0d5740af52f"
      },
      "execution_count": 121,
      "outputs": [
        {
          "output_type": "stream",
          "name": "stdout",
          "text": [
            "Epoch 1/40\n"
          ]
        },
        {
          "output_type": "stream",
          "name": "stderr",
          "text": [
            "WARNING:tensorflow:Detecting that an object or model or tf.train.Checkpoint is being deleted with unrestored values. See the following logs for the specific values in question. To silence these warnings, use `status.expect_partial()`. See https://www.tensorflow.org/api_docs/python/tf/train/Checkpoint#restorefor details about the status object returned by the restore function.\n",
            "WARNING:tensorflow:Value in checkpoint could not be found in the restored object: (root).optimizer._variables.1\n",
            "WARNING:tensorflow:Value in checkpoint could not be found in the restored object: (root).optimizer._variables.2\n",
            "WARNING:tensorflow:Value in checkpoint could not be found in the restored object: (root).optimizer._variables.3\n",
            "WARNING:tensorflow:Value in checkpoint could not be found in the restored object: (root).optimizer._variables.4\n",
            "WARNING:tensorflow:Value in checkpoint could not be found in the restored object: (root).optimizer._variables.5\n",
            "WARNING:tensorflow:Value in checkpoint could not be found in the restored object: (root).optimizer._variables.6\n",
            "WARNING:tensorflow:Value in checkpoint could not be found in the restored object: (root).optimizer._variables.7\n",
            "WARNING:tensorflow:Value in checkpoint could not be found in the restored object: (root).optimizer._variables.8\n",
            "WARNING:tensorflow:Value in checkpoint could not be found in the restored object: (root).optimizer._variables.9\n",
            "WARNING:tensorflow:Value in checkpoint could not be found in the restored object: (root).optimizer._variables.10\n",
            "WARNING:tensorflow:Value in checkpoint could not be found in the restored object: (root).optimizer._variables.11\n",
            "WARNING:tensorflow:Value in checkpoint could not be found in the restored object: (root).optimizer._variables.12\n"
          ]
        },
        {
          "output_type": "stream",
          "name": "stdout",
          "text": [
            "10/10 [==============================] - 1s 32ms/step - loss: 0.0474 - mae: 0.1554 - mse: 0.0474 - val_loss: 0.1102 - val_mae: 0.3008 - val_mse: 0.1102\n",
            "Epoch 2/40\n",
            "10/10 [==============================] - 0s 8ms/step - loss: 0.0355 - mae: 0.1405 - mse: 0.0355 - val_loss: 0.1061 - val_mae: 0.2907 - val_mse: 0.1061\n",
            "Epoch 3/40\n",
            "10/10 [==============================] - 0s 10ms/step - loss: 0.0320 - mae: 0.1390 - mse: 0.0320 - val_loss: 0.1039 - val_mae: 0.2831 - val_mse: 0.1039\n",
            "Epoch 4/40\n",
            "10/10 [==============================] - 0s 8ms/step - loss: 0.0301 - mae: 0.1362 - mse: 0.0301 - val_loss: 0.0999 - val_mae: 0.2773 - val_mse: 0.0999\n",
            "Epoch 5/40\n",
            "10/10 [==============================] - 0s 10ms/step - loss: 0.0284 - mae: 0.1319 - mse: 0.0284 - val_loss: 0.0955 - val_mae: 0.2721 - val_mse: 0.0955\n",
            "Epoch 6/40\n",
            "10/10 [==============================] - 0s 9ms/step - loss: 0.0270 - mae: 0.1281 - mse: 0.0270 - val_loss: 0.0914 - val_mae: 0.2668 - val_mse: 0.0914\n",
            "Epoch 7/40\n",
            "10/10 [==============================] - 0s 8ms/step - loss: 0.0257 - mae: 0.1249 - mse: 0.0257 - val_loss: 0.0879 - val_mae: 0.2613 - val_mse: 0.0879\n",
            "Epoch 8/40\n",
            "10/10 [==============================] - 0s 11ms/step - loss: 0.0244 - mae: 0.1219 - mse: 0.0244 - val_loss: 0.0847 - val_mae: 0.2556 - val_mse: 0.0847\n",
            "Epoch 9/40\n",
            "10/10 [==============================] - 0s 9ms/step - loss: 0.0232 - mae: 0.1191 - mse: 0.0232 - val_loss: 0.0818 - val_mae: 0.2501 - val_mse: 0.0818\n",
            "Epoch 10/40\n",
            "10/10 [==============================] - 0s 8ms/step - loss: 0.0221 - mae: 0.1163 - mse: 0.0221 - val_loss: 0.0789 - val_mae: 0.2447 - val_mse: 0.0789\n",
            "Epoch 11/40\n",
            "10/10 [==============================] - 0s 9ms/step - loss: 0.0210 - mae: 0.1135 - mse: 0.0210 - val_loss: 0.0761 - val_mae: 0.2395 - val_mse: 0.0761\n",
            "Epoch 12/40\n",
            "10/10 [==============================] - 0s 8ms/step - loss: 0.0200 - mae: 0.1108 - mse: 0.0200 - val_loss: 0.0734 - val_mae: 0.2344 - val_mse: 0.0734\n",
            "Epoch 13/40\n",
            "10/10 [==============================] - 0s 10ms/step - loss: 0.0191 - mae: 0.1083 - mse: 0.0191 - val_loss: 0.0708 - val_mae: 0.2295 - val_mse: 0.0708\n",
            "Epoch 14/40\n",
            "10/10 [==============================] - 0s 9ms/step - loss: 0.0183 - mae: 0.1058 - mse: 0.0183 - val_loss: 0.0684 - val_mae: 0.2251 - val_mse: 0.0684\n",
            "Epoch 15/40\n",
            "10/10 [==============================] - 0s 14ms/step - loss: 0.0175 - mae: 0.1034 - mse: 0.0175 - val_loss: 0.0660 - val_mae: 0.2209 - val_mse: 0.0660\n",
            "Epoch 16/40\n",
            "10/10 [==============================] - 0s 12ms/step - loss: 0.0167 - mae: 0.1010 - mse: 0.0167 - val_loss: 0.0638 - val_mae: 0.2167 - val_mse: 0.0638\n",
            "Epoch 17/40\n",
            "10/10 [==============================] - 0s 11ms/step - loss: 0.0160 - mae: 0.0987 - mse: 0.0160 - val_loss: 0.0617 - val_mae: 0.2127 - val_mse: 0.0617\n",
            "Epoch 18/40\n",
            "10/10 [==============================] - 0s 13ms/step - loss: 0.0153 - mae: 0.0964 - mse: 0.0153 - val_loss: 0.0597 - val_mae: 0.2087 - val_mse: 0.0597\n",
            "Epoch 19/40\n",
            "10/10 [==============================] - 0s 11ms/step - loss: 0.0147 - mae: 0.0942 - mse: 0.0147 - val_loss: 0.0578 - val_mae: 0.2048 - val_mse: 0.0578\n",
            "Epoch 20/40\n",
            "10/10 [==============================] - 0s 11ms/step - loss: 0.0142 - mae: 0.0920 - mse: 0.0142 - val_loss: 0.0560 - val_mae: 0.2010 - val_mse: 0.0560\n",
            "Epoch 21/40\n",
            "10/10 [==============================] - 0s 12ms/step - loss: 0.0136 - mae: 0.0900 - mse: 0.0136 - val_loss: 0.0543 - val_mae: 0.1972 - val_mse: 0.0543\n",
            "Epoch 22/40\n",
            "10/10 [==============================] - 0s 11ms/step - loss: 0.0132 - mae: 0.0882 - mse: 0.0132 - val_loss: 0.0527 - val_mae: 0.1936 - val_mse: 0.0527\n",
            "Epoch 23/40\n",
            "10/10 [==============================] - 0s 12ms/step - loss: 0.0127 - mae: 0.0866 - mse: 0.0127 - val_loss: 0.0511 - val_mae: 0.1900 - val_mse: 0.0511\n",
            "Epoch 24/40\n",
            "10/10 [==============================] - 0s 11ms/step - loss: 0.0123 - mae: 0.0850 - mse: 0.0123 - val_loss: 0.0497 - val_mae: 0.1866 - val_mse: 0.0497\n",
            "Epoch 25/40\n",
            "10/10 [==============================] - 0s 12ms/step - loss: 0.0119 - mae: 0.0835 - mse: 0.0119 - val_loss: 0.0483 - val_mae: 0.1835 - val_mse: 0.0483\n",
            "Epoch 26/40\n",
            "10/10 [==============================] - 0s 12ms/step - loss: 0.0115 - mae: 0.0821 - mse: 0.0115 - val_loss: 0.0470 - val_mae: 0.1807 - val_mse: 0.0470\n",
            "Epoch 27/40\n",
            "10/10 [==============================] - 0s 13ms/step - loss: 0.0112 - mae: 0.0807 - mse: 0.0112 - val_loss: 0.0458 - val_mae: 0.1779 - val_mse: 0.0458\n",
            "Epoch 28/40\n",
            "10/10 [==============================] - 0s 13ms/step - loss: 0.0109 - mae: 0.0794 - mse: 0.0109 - val_loss: 0.0446 - val_mae: 0.1752 - val_mse: 0.0446\n",
            "Epoch 29/40\n",
            "10/10 [==============================] - 0s 14ms/step - loss: 0.0106 - mae: 0.0781 - mse: 0.0106 - val_loss: 0.0436 - val_mae: 0.1726 - val_mse: 0.0436\n",
            "Epoch 30/40\n",
            "10/10 [==============================] - 0s 12ms/step - loss: 0.0104 - mae: 0.0769 - mse: 0.0104 - val_loss: 0.0425 - val_mae: 0.1700 - val_mse: 0.0425\n",
            "Epoch 31/40\n",
            "10/10 [==============================] - 0s 12ms/step - loss: 0.0101 - mae: 0.0757 - mse: 0.0101 - val_loss: 0.0416 - val_mae: 0.1676 - val_mse: 0.0416\n",
            "Epoch 32/40\n",
            "10/10 [==============================] - 0s 14ms/step - loss: 0.0099 - mae: 0.0747 - mse: 0.0099 - val_loss: 0.0407 - val_mae: 0.1656 - val_mse: 0.0407\n",
            "Epoch 33/40\n",
            "10/10 [==============================] - 0s 13ms/step - loss: 0.0097 - mae: 0.0739 - mse: 0.0097 - val_loss: 0.0398 - val_mae: 0.1636 - val_mse: 0.0398\n",
            "Epoch 34/40\n",
            "10/10 [==============================] - 0s 11ms/step - loss: 0.0095 - mae: 0.0732 - mse: 0.0095 - val_loss: 0.0390 - val_mae: 0.1618 - val_mse: 0.0390\n",
            "Epoch 35/40\n",
            "10/10 [==============================] - 0s 9ms/step - loss: 0.0094 - mae: 0.0724 - mse: 0.0094 - val_loss: 0.0383 - val_mae: 0.1599 - val_mse: 0.0383\n",
            "Epoch 36/40\n",
            "10/10 [==============================] - 0s 10ms/step - loss: 0.0092 - mae: 0.0717 - mse: 0.0092 - val_loss: 0.0376 - val_mae: 0.1582 - val_mse: 0.0376\n",
            "Epoch 37/40\n",
            "10/10 [==============================] - 0s 8ms/step - loss: 0.0091 - mae: 0.0711 - mse: 0.0091 - val_loss: 0.0370 - val_mae: 0.1565 - val_mse: 0.0370\n",
            "Epoch 38/40\n",
            "10/10 [==============================] - 0s 9ms/step - loss: 0.0089 - mae: 0.0706 - mse: 0.0089 - val_loss: 0.0363 - val_mae: 0.1549 - val_mse: 0.0363\n",
            "Epoch 39/40\n",
            "10/10 [==============================] - 0s 8ms/step - loss: 0.0088 - mae: 0.0700 - mse: 0.0088 - val_loss: 0.0358 - val_mae: 0.1533 - val_mse: 0.0358\n",
            "Epoch 40/40\n",
            "10/10 [==============================] - 0s 8ms/step - loss: 0.0087 - mae: 0.0695 - mse: 0.0087 - val_loss: 0.0352 - val_mae: 0.1518 - val_mse: 0.0352\n"
          ]
        }
      ]
    },
    {
      "cell_type": "markdown",
      "source": [
        "Plot Model Loss"
      ],
      "metadata": {
        "id": "4KLve2-WilBF"
      }
    },
    {
      "cell_type": "code",
      "source": [
        "loss = history.history['loss']\n",
        "val_loss = history.history['val_loss']\n",
        "\n",
        "epochs=range(len(loss)) \n",
        "\n",
        "\n",
        "#------------------------------------------------\n",
        "# Plot training and validation loss per epoch\n",
        "#------------------------------------------------\n",
        "plt.plot(epochs, loss, 'r',label='loss')\n",
        "plt.plot(epochs,val_loss,'blue',label='val loss')\n",
        "plt.title('Training loss & Val Loss by Epochs')\n",
        "plt.xlabel(\"Epochs\")\n",
        "plt.ylabel(\"Loss\")\n",
        "plt.legend()\n",
        "\n",
        "plt.figure()"
      ],
      "metadata": {
        "colab": {
          "base_uri": "https://localhost:8080/",
          "height": 439
        },
        "id": "DXBeY_MGZSMP",
        "outputId": "1f377b1a-373a-449f-85c3-808f4cfbf8ca"
      },
      "execution_count": 122,
      "outputs": [
        {
          "output_type": "execute_result",
          "data": {
            "text/plain": [
              "<Figure size 720x360 with 0 Axes>"
            ]
          },
          "metadata": {},
          "execution_count": 122
        },
        {
          "output_type": "display_data",
          "data": {
            "text/plain": [
              "<Figure size 720x360 with 1 Axes>"
            ],
            "image/png": "[encoded data removed]"
          },
          "metadata": {}
        },
        {
          "output_type": "display_data",
          "data": {
            "text/plain": [
              "<Figure size 720x360 with 0 Axes>"
            ]
          },
          "metadata": {}
        }
      ]
    },
    {
      "cell_type": "code",
      "source": [
        "y_predTU = TUcnn_model.predict(X_test)\n",
        "y_predTU"
      ],
      "metadata": {
        "colab": {
          "base_uri": "https://localhost:8080/"
        },
        "id": "lHiuk7B6iQVK",
        "outputId": "ef232606-1552-4673-a866-5fa974983f20"
      },
      "execution_count": 123,
      "outputs": [
        {
          "output_type": "stream",
          "name": "stdout",
          "text": [
            "1/1 [==============================] - 0s 113ms/step\n"
          ]
        },
        {
          "output_type": "execute_result",
          "data": {
            "text/plain": [
              "array([[ 0.18059365],\n",
              "       [ 0.14198844],\n",
              "       [ 0.16179511],\n",
              "       [ 0.14135092],\n",
              "       [ 0.11376096],\n",
              "       [ 0.10112787],\n",
              "       [ 0.10334109],\n",
              "       [ 0.09881464],\n",
              "       [ 0.04872052],\n",
              "       [ 0.02736631],\n",
              "       [ 0.03831404],\n",
              "       [ 0.0346653 ],\n",
              "       [ 0.01681277],\n",
              "       [-0.01739877],\n",
              "       [-0.01312889],\n",
              "       [-0.04841103],\n",
              "       [-0.07393553],\n",
              "       [-0.02342767],\n",
              "       [ 0.11950532],\n",
              "       [ 0.15553656],\n",
              "       [ 0.10381223],\n",
              "       [ 0.06172872]], dtype=float32)"
            ]
          },
          "metadata": {},
          "execution_count": 123
        }
      ]
    },
    {
      "cell_type": "code",
      "source": [
        "y_predTU.reshape(1,-1)"
      ],
      "metadata": {
        "colab": {
          "base_uri": "https://localhost:8080/"
        },
        "id": "JbqyY5OriQYh",
        "outputId": "24406032-7a6a-4787-bfb4-17f8bea98b18"
      },
      "execution_count": 124,
      "outputs": [
        {
          "output_type": "execute_result",
          "data": {
            "text/plain": [
              "array([[ 0.18059365,  0.14198844,  0.16179511,  0.14135092,  0.11376096,\n",
              "         0.10112787,  0.10334109,  0.09881464,  0.04872052,  0.02736631,\n",
              "         0.03831404,  0.0346653 ,  0.01681277, -0.01739877, -0.01312889,\n",
              "        -0.04841103, -0.07393553, -0.02342767,  0.11950532,  0.15553656,\n",
              "         0.10381223,  0.06172872]], dtype=float32)"
            ]
          },
          "metadata": {},
          "execution_count": 124
        }
      ]
    },
    {
      "cell_type": "markdown",
      "source": [
        "###Invert Transformed Tuned Data"
      ],
      "metadata": {
        "id": "XXPkM7CFsB5U"
      }
    },
    {
      "cell_type": "code",
      "source": [
        "y_train_inv = cpo_pri_transformer.inverse_transform(y_train.reshape(1, -1))\n",
        "y_test_inv = cpo_pri_transformer.inverse_transform(y_test.reshape(1, -1))\n",
        "y_pred_inv = cpo_pri_transformer.inverse_transform(y_predTU.reshape(1,-1))\n",
        "print(y_train_inv)\n",
        "print(y_test_inv)\n",
        "print(y_pred_inv)"
      ],
      "metadata": {
        "colab": {
          "base_uri": "https://localhost:8080/"
        },
        "id": "gZ8inWeYy64m",
        "outputId": "942b2a69-4bc6-40b5-f24e-89085287d3e0"
      },
      "execution_count": 125,
      "outputs": [
        {
          "output_type": "stream",
          "name": "stdout",
          "text": [
            "[[376. 383. 382. 396. 402. 390. 404. 382. 382. 391. 396. 413. 401. 410.\n",
            "  425. 408. 392. 371. 356. 362. 356. 352. 333. 357. 411. 404. 387. 395.\n",
            "  434. 488. 508. 494. 575. 614. 616. 707. 719. 655. 661. 687. 625. 611.\n",
            "  631. 655. 616. 586. 615. 607. 590. 535. 518. 519. 562. 552. 508. 476.\n",
            "  513. 545. 532. 550. 561. 567. 580. 559. 562. 553. 533. 498. 504. 525.\n",
            "  547. 556. 566. 621. 659. 671. 688. 705. 633. 661. 674. 703. 694. 681.\n",
            "  663. 632. 561. 497. 509. 475. 392. 319. 354. 388. 381. 370.]]\n",
            "[[349. 372. 324. 315. 312. 306. 288. 255. 257. 265. 254. 240. 254. 251.\n",
            "  234. 255. 330. 362. 310. 277. 323. 360.]]\n",
            "[[391.2375  375.79538 383.71805 375.54037 364.5044  359.45114 360.33646\n",
            "  358.52585 338.48822 329.94653 334.32562 332.86612 325.7251  312.0405\n",
            "  313.74844 299.6356  289.42578 309.62894 366.80212 381.21463 360.5249\n",
            "  343.6915 ]]\n"
          ]
        }
      ]
    },
    {
      "cell_type": "code",
      "source": [
        "y_train_inv = y_train_inv.flatten()\n",
        "y_train_inv"
      ],
      "metadata": {
        "colab": {
          "base_uri": "https://localhost:8080/"
        },
        "id": "2g9TLmgHy7Hw",
        "outputId": "19d3535b-3123-44ce-ef3a-5ed7da6284c9"
      },
      "execution_count": 126,
      "outputs": [
        {
          "output_type": "execute_result",
          "data": {
            "text/plain": [
              "array([376., 383., 382., 396., 402., 390., 404., 382., 382., 391., 396.,\n",
              "       413., 401., 410., 425., 408., 392., 371., 356., 362., 356., 352.,\n",
              "       333., 357., 411., 404., 387., 395., 434., 488., 508., 494., 575.,\n",
              "       614., 616., 707., 719., 655., 661., 687., 625., 611., 631., 655.,\n",
              "       616., 586., 615., 607., 590., 535., 518., 519., 562., 552., 508.,\n",
              "       476., 513., 545., 532., 550., 561., 567., 580., 559., 562., 553.,\n",
              "       533., 498., 504., 525., 547., 556., 566., 621., 659., 671., 688.,\n",
              "       705., 633., 661., 674., 703., 694., 681., 663., 632., 561., 497.,\n",
              "       509., 475., 392., 319., 354., 388., 381., 370.])"
            ]
          },
          "metadata": {},
          "execution_count": 126
        }
      ]
    },
    {
      "cell_type": "code",
      "source": [
        "y_test_inv = y_test_inv.flatten()\n",
        "y_test_inv"
      ],
      "metadata": {
        "colab": {
          "base_uri": "https://localhost:8080/"
        },
        "id": "PDdnZUrXy7L4",
        "outputId": "d81133c4-eca1-4536-85a2-8bdd329cf630"
      },
      "execution_count": 127,
      "outputs": [
        {
          "output_type": "execute_result",
          "data": {
            "text/plain": [
              "array([349., 372., 324., 315., 312., 306., 288., 255., 257., 265., 254.,\n",
              "       240., 254., 251., 234., 255., 330., 362., 310., 277., 323., 360.])"
            ]
          },
          "metadata": {},
          "execution_count": 127
        }
      ]
    },
    {
      "cell_type": "code",
      "source": [
        "TU_CNN_Pred = y_pred_inv.flatten()   #y_pred_inv = TU_CNN_Pred\n",
        "TU_CNN_Pred"
      ],
      "metadata": {
        "colab": {
          "base_uri": "https://localhost:8080/"
        },
        "id": "fqq4-3-lsuEy",
        "outputId": "b77cdec1-673b-405f-d182-b7ecff65b584"
      },
      "execution_count": 128,
      "outputs": [
        {
          "output_type": "execute_result",
          "data": {
            "text/plain": [
              "array([391.2375 , 375.79538, 383.71805, 375.54037, 364.5044 , 359.45114,\n",
              "       360.33646, 358.52585, 338.48822, 329.94653, 334.32562, 332.86612,\n",
              "       325.7251 , 312.0405 , 313.74844, 299.6356 , 289.42578, 309.62894,\n",
              "       366.80212, 381.21463, 360.5249 , 343.6915 ], dtype=float32)"
            ]
          },
          "metadata": {},
          "execution_count": 128
        }
      ]
    },
    {
      "cell_type": "code",
      "source": [
        "plt.plot(np.arange(0, len(y_train)), y_train_inv, color='green', label=\"History\")\n",
        "plt.plot(np.arange(len(y_train), len(y_train) + len(y_test)), y_test_inv, color='blue', marker='.', label=\"Actual\")\n",
        "plt.plot(np.arange(len(y_train), len(y_train) + len(y_test)), TU_CNN_Pred, color='red', label=\"Tuned CNN Prediction\")\n",
        "plt.ylabel('Crude Palm Oil Price')\n",
        "plt.xlabel('Time step')\n",
        "plt.legend()\n",
        "plt.show();\n",
        "plt.savefig('CNNOpt.png')"
      ],
      "metadata": {
        "colab": {
          "base_uri": "https://localhost:8080/",
          "height": 400
        },
        "id": "nBN919VXsuNq",
        "outputId": "e8be5a15-8536-4201-de45-c2fe3d5e5482"
      },
      "execution_count": 119,
      "outputs": [
        {
          "output_type": "display_data",
          "data": {
            "text/plain": [
              "<Figure size 720x360 with 1 Axes>"
            ],
            "image/png": "[encoded data removed]"
          },
          "metadata": {}
        },
        {
          "output_type": "display_data",
          "data": {
            "text/plain": [
              "<Figure size 720x360 with 0 Axes>"
            ]
          },
          "metadata": {}
        }
      ]
    },
    {
      "cell_type": "code",
      "source": [
        "TUMAE_cnn = mean_absolute_error(y_test_inv, TU_CNN_Pred)\n",
        "print('MAE value of the CNN Model is:', TUMAE_cnn)\n",
        "\n",
        "TUMDA_cnn = mda(y_test_inv, TU_CNN_Pred)\n",
        "print('MDA value of the tuned CNN Model is:', TUMDA_cnn)\n",
        "\n",
        "TUMAPE_cnn = mean_absolute_percentage_error(y_test_inv, TU_CNN_Pred)\n",
        "print('MAPE value of the tuned CNN Model is:', TUMAPE_cnn)\n",
        "\n",
        "TURMSE_cnn = mean_squared_error(y_test_inv,TU_CNN_Pred, squared=False)\n",
        "print('RMSE value of the tuned CNN Model is:', TURMSE_cnn)\n",
        "\n",
        "TUMSE_cnn = mean_squared_error(y_test_inv,TU_CNN_Pred)\n",
        "print('MSE value of the tuned CNN Model is:', TUMSE_cnn)"
      ],
      "metadata": {
        "colab": {
          "base_uri": "https://localhost:8080/"
        },
        "id": "FqciJO0esuRc",
        "outputId": "08dbac94-1224-4f8b-fdd3-9d82736284d3"
      },
      "execution_count": 117,
      "outputs": [
        {
          "output_type": "stream",
          "name": "stdout",
          "text": [
            "MAE value of the CNN Model is: 38.3348423350941\n",
            "MDA value of the tuned CNN Model is: 0.3333333333333333\n",
            "MAPE value of the tuned CNN Model is: 13.117530443685885\n",
            "RMSE value of the tuned CNN Model is: 43.01671720661321\n",
            "MSE value of the tuned CNN Model is: 1850.4379592337327\n"
          ]
        }
      ]
    },
    {
      "cell_type": "markdown",
      "source": [
        "Comparing tuned CNN Actual VS Predicted (Zoomed-IN)"
      ],
      "metadata": {
        "id": "oczznVkQihRI"
      }
    },
    {
      "cell_type": "code",
      "source": [
        "#Plot the graph between actual vs predicted values\n",
        "#plt.figure(figsize=(15,7))  #(10,6))\n",
        "plt.figure(figsize=(16,8), dpi= 100, facecolor='w', edgecolor='k')\n",
        "plt.plot(TU_CNN_Pred, color= 'green',marker='.',label = 'Tuned CNN Predicted for cpo_pri')\n",
        "plt.plot(y_test_inv, color = 'red',marker='.',label = 'Actual cpo_pri ')\n",
        "plt.title(\"Tuned CNN Crude Palm Oil Price Prediction (Multivariate)\")\n",
        "plt.xlabel(\"Time step\")\n",
        "plt.ylabel(\"Crude Palm Oil Price\")\n",
        "plt.legend()\n",
        "plt.show()\n",
        "plt.savefig('graph_TUcnn.png')"
      ],
      "metadata": {
        "colab": {
          "base_uri": "https://localhost:8080/",
          "height": 541
        },
        "id": "RmqyhCu_iV_w",
        "outputId": "b4a6dcf1-fa24-496f-e063-c03b877144f4"
      },
      "execution_count": 118,
      "outputs": [
        {
          "output_type": "display_data",
          "data": {
            "text/plain": [
              "<Figure size 1600x800 with 1 Axes>"
            ],
            "image/png": "[encoded data removed]"
          },
          "metadata": {}
        },
        {
          "output_type": "display_data",
          "data": {
            "text/plain": [
              "<Figure size 720x360 with 0 Axes>"
            ]
          },
          "metadata": {}
        }
      ]
    },
    {
      "cell_type": "markdown",
      "source": [
        "##Results\n",
        "\n",
        "Baseline MSE         = 0.0192\n",
        "\n",
        "Random search MSE    = 0.1093\n",
        "\n",
        "Hyperband search MSE = 0.0120\n",
        "\n",
        "Baseline (CNN) RSME  = 55.43\n",
        "\n",
        "Tuned CNN RSME       = 43.01"
      ],
      "metadata": {
        "id": "xMdKc2DKj1e-"
      }
    },
    {
      "cell_type": "markdown",
      "source": [
        "The tuned CNN is superior to the basseline based on the RSME result"
      ],
      "metadata": {
        "id": "J9SI5KHvtAsT"
      }
    },
    {
      "cell_type": "code",
      "source": [
        "TU_CNN_Pred"
      ],
      "metadata": {
        "id": "TZ39HAx1d0RJ",
        "outputId": "6f2c1296-93f5-4ded-d847-ffa45963c22f",
        "colab": {
          "base_uri": "https://localhost:8080/"
        }
      },
      "execution_count": null,
      "outputs": [
        {
          "output_type": "execute_result",
          "data": {
            "text/plain": [
              "array([347.44516, 340.68094, 350.3727 , 349.47916, 338.25525, 325.55246,\n",
              "       326.9378 , 325.72952, 309.97247, 299.66055, 303.72882, 307.1458 ,\n",
              "       296.03058, 283.43015, 286.5078 , 285.74634, 274.33182, 275.08328,\n",
              "       328.6628 , 367.21143, 348.66684, 324.47903], dtype=float32)"
            ]
          },
          "metadata": {},
          "execution_count": 502
        }
      ]
    },
    {
      "cell_type": "code",
      "source": [
        "dfCNN = pd.DataFrame(TU_CNN_Pred)\n",
        "\n",
        "print(df)"
      ],
      "metadata": {
        "id": "CyZ4HpcBdydh",
        "outputId": "498a81e4-2a3e-4faa-eeca-82a65d71d8ab",
        "colab": {
          "base_uri": "https://localhost:8080/"
        }
      },
      "execution_count": null,
      "outputs": [
        {
          "output_type": "stream",
          "name": "stdout",
          "text": [
            "             0\n",
            "0   346.603302\n",
            "1   332.371765\n",
            "2   343.059052\n",
            "3   332.408813\n",
            "4   313.587738\n",
            "5   302.663574\n",
            "6   311.632263\n",
            "7   308.595581\n",
            "8   290.542999\n",
            "9   270.774170\n",
            "10  276.457581\n",
            "11  270.931183\n",
            "12  260.275299\n",
            "13  256.084198\n",
            "14  268.680023\n",
            "15  265.947815\n",
            "16  252.900360\n",
            "17  300.554657\n",
            "18  370.926758\n",
            "19  371.802551\n",
            "20  343.249298\n",
            "21  327.434967\n"
          ]
        }
      ]
    },
    {
      "cell_type": "code",
      "source": [],
      "metadata": {
        "id": "JLZgaBe6uWbe"
      },
      "execution_count": null,
      "outputs": []
    }
  ]
}