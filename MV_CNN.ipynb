{
  "nbformat": 4,
  "nbformat_minor": 0,
  "metadata": {
    "colab": {
      "name": "MV_CNN.ipynb",
      "provenance": [],
      "authorship_tag": "ABX9TyOh3QLuFM8mkmD6A0vDYhZh",
      "include_colab_link": true
    },
    "kernelspec": {
      "name": "python3",
      "display_name": "Python 3"
    },
    "language_info": {
      "name": "python"
    },
    "gpuClass": "standard",
    "accelerator": "GPU"
  },
  "cells": [
    {
      "cell_type": "markdown",
      "metadata": {
        "id": "view-in-github",
        "colab_type": "text"
      },
      "source": [
        "<a href=\"https://colab.research.google.com/github/mofuoku417/Machine-Learning-Techniques-for-Multivariate-Time-Series-Forecasting-of-Crude-Palm-Oil-Prices/blob/main/MV_CNN.ipynb\" target=\"_parent\"><img src=\"https://colab.research.google.com/assets/colab-badge.svg\" alt=\"Open In Colab\"/></a>"
      ]
    },
    {
      "cell_type": "markdown",
      "source": [
        "##Objective: Predict Monthly Crude Palm Oil Price Using Convolutional Neural Network (CNN)"
      ],
      "metadata": {
        "id": "tt6Yvzr3gZ-g"
      }
    },
    {
      "cell_type": "code",
      "source": [
        "!pip install scikeras\n",
        "!pip install bayesian-optimization\n",
        "!pip install keras-tuner --upgrade"
      ],
      "metadata": {
        "id": "gGw0m6TUdgMM",
        "outputId": "121593db-c73f-466b-9b6f-20ddb72a74f0",
        "colab": {
          "base_uri": "https://localhost:8080/"
        }
      },
      "execution_count": 1,
      "outputs": [
        {
          "output_type": "stream",
          "name": "stdout",
          "text": [
            "Looking in indexes: https://pypi.org/simple, https://us-python.pkg.dev/colab-wheels/public/simple/\n",
            "Collecting scikeras\n",
            "  Downloading scikeras-0.10.0-py3-none-any.whl (27 kB)\n",
            "Requirement already satisfied: packaging>=0.21 in /usr/local/lib/python3.8/dist-packages (from scikeras) (21.3)\n",
            "Requirement already satisfied: scikit-learn>=1.0.0 in /usr/local/lib/python3.8/dist-packages (from scikeras) (1.0.2)\n",
            "Requirement already satisfied: pyparsing!=3.0.5,>=2.0.2 in /usr/local/lib/python3.8/dist-packages (from packaging>=0.21->scikeras) (3.0.9)\n",
            "Requirement already satisfied: numpy>=1.14.6 in /usr/local/lib/python3.8/dist-packages (from scikit-learn>=1.0.0->scikeras) (1.21.6)\n",
            "Requirement already satisfied: threadpoolctl>=2.0.0 in /usr/local/lib/python3.8/dist-packages (from scikit-learn>=1.0.0->scikeras) (3.1.0)\n",
            "Requirement already satisfied: joblib>=0.11 in /usr/local/lib/python3.8/dist-packages (from scikit-learn>=1.0.0->scikeras) (1.2.0)\n",
            "Requirement already satisfied: scipy>=1.1.0 in /usr/local/lib/python3.8/dist-packages (from scikit-learn>=1.0.0->scikeras) (1.7.3)\n",
            "Installing collected packages: scikeras\n",
            "Successfully installed scikeras-0.10.0\n",
            "Looking in indexes: https://pypi.org/simple, https://us-python.pkg.dev/colab-wheels/public/simple/\n",
            "Collecting bayesian-optimization\n",
            "  Downloading bayesian_optimization-1.4.2-py3-none-any.whl (17 kB)\n",
            "Requirement already satisfied: scikit-learn>=0.18.0 in /usr/local/lib/python3.8/dist-packages (from bayesian-optimization) (1.0.2)\n",
            "Requirement already satisfied: numpy>=1.9.0 in /usr/local/lib/python3.8/dist-packages (from bayesian-optimization) (1.21.6)\n",
            "Collecting colorama>=0.4.6\n",
            "  Downloading colorama-0.4.6-py2.py3-none-any.whl (25 kB)\n",
            "Requirement already satisfied: scipy>=1.0.0 in /usr/local/lib/python3.8/dist-packages (from bayesian-optimization) (1.7.3)\n",
            "Requirement already satisfied: joblib>=0.11 in /usr/local/lib/python3.8/dist-packages (from scikit-learn>=0.18.0->bayesian-optimization) (1.2.0)\n",
            "Requirement already satisfied: threadpoolctl>=2.0.0 in /usr/local/lib/python3.8/dist-packages (from scikit-learn>=0.18.0->bayesian-optimization) (3.1.0)\n",
            "Installing collected packages: colorama, bayesian-optimization\n",
            "Successfully installed bayesian-optimization-1.4.2 colorama-0.4.6\n",
            "Looking in indexes: https://pypi.org/simple, https://us-python.pkg.dev/colab-wheels/public/simple/\n",
            "Collecting keras-tuner\n",
            "  Downloading keras_tuner-1.1.3-py3-none-any.whl (135 kB)\n",
            "\u001b[2K     \u001b[90m━━━━━━━━━━━━━━━━━━━━━━━━━━━━━━━━━━━━━━━\u001b[0m \u001b[32m135.7/135.7 KB\u001b[0m \u001b[31m4.6 MB/s\u001b[0m eta \u001b[36m0:00:00\u001b[0m\n",
            "\u001b[?25hRequirement already satisfied: ipython in /usr/local/lib/python3.8/dist-packages (from keras-tuner) (7.9.0)\n",
            "Requirement already satisfied: numpy in /usr/local/lib/python3.8/dist-packages (from keras-tuner) (1.21.6)\n",
            "Requirement already satisfied: packaging in /usr/local/lib/python3.8/dist-packages (from keras-tuner) (21.3)\n",
            "Requirement already satisfied: tensorboard in /usr/local/lib/python3.8/dist-packages (from keras-tuner) (2.9.1)\n",
            "Requirement already satisfied: requests in /usr/local/lib/python3.8/dist-packages (from keras-tuner) (2.25.1)\n",
            "Collecting kt-legacy\n",
            "  Downloading kt_legacy-1.0.4-py3-none-any.whl (9.6 kB)\n",
            "Requirement already satisfied: decorator in /usr/local/lib/python3.8/dist-packages (from ipython->keras-tuner) (4.4.2)\n",
            "Requirement already satisfied: traitlets>=4.2 in /usr/local/lib/python3.8/dist-packages (from ipython->keras-tuner) (5.7.1)\n",
            "Collecting jedi>=0.10\n",
            "  Downloading jedi-0.18.2-py2.py3-none-any.whl (1.6 MB)\n",
            "\u001b[2K     \u001b[90m━━━━━━━━━━━━━━━━━━━━━━━━━━━━━━━━━━━━━━━━\u001b[0m \u001b[32m1.6/1.6 MB\u001b[0m \u001b[31m29.8 MB/s\u001b[0m eta \u001b[36m0:00:00\u001b[0m\n",
            "\u001b[?25hRequirement already satisfied: prompt-toolkit<2.1.0,>=2.0.0 in /usr/local/lib/python3.8/dist-packages (from ipython->keras-tuner) (2.0.10)\n",
            "Requirement already satisfied: pygments in /usr/local/lib/python3.8/dist-packages (from ipython->keras-tuner) (2.6.1)\n",
            "Requirement already satisfied: backcall in /usr/local/lib/python3.8/dist-packages (from ipython->keras-tuner) (0.2.0)\n",
            "Requirement already satisfied: pickleshare in /usr/local/lib/python3.8/dist-packages (from ipython->keras-tuner) (0.7.5)\n",
            "Requirement already satisfied: pexpect in /usr/local/lib/python3.8/dist-packages (from ipython->keras-tuner) (4.8.0)\n",
            "Requirement already satisfied: setuptools>=18.5 in /usr/local/lib/python3.8/dist-packages (from ipython->keras-tuner) (57.4.0)\n",
            "Requirement already satisfied: pyparsing!=3.0.5,>=2.0.2 in /usr/local/lib/python3.8/dist-packages (from packaging->keras-tuner) (3.0.9)\n",
            "Requirement already satisfied: certifi>=2017.4.17 in /usr/local/lib/python3.8/dist-packages (from requests->keras-tuner) (2022.12.7)\n",
            "Requirement already satisfied: idna<3,>=2.5 in /usr/local/lib/python3.8/dist-packages (from requests->keras-tuner) (2.10)\n",
            "Requirement already satisfied: chardet<5,>=3.0.2 in /usr/local/lib/python3.8/dist-packages (from requests->keras-tuner) (4.0.0)\n",
            "Requirement already satisfied: urllib3<1.27,>=1.21.1 in /usr/local/lib/python3.8/dist-packages (from requests->keras-tuner) (1.24.3)\n",
            "Requirement already satisfied: werkzeug>=1.0.1 in /usr/local/lib/python3.8/dist-packages (from tensorboard->keras-tuner) (1.0.1)\n",
            "Requirement already satisfied: markdown>=2.6.8 in /usr/local/lib/python3.8/dist-packages (from tensorboard->keras-tuner) (3.4.1)\n",
            "Requirement already satisfied: wheel>=0.26 in /usr/local/lib/python3.8/dist-packages (from tensorboard->keras-tuner) (0.38.4)\n",
            "Requirement already satisfied: absl-py>=0.4 in /usr/local/lib/python3.8/dist-packages (from tensorboard->keras-tuner) (1.3.0)\n",
            "Requirement already satisfied: protobuf<3.20,>=3.9.2 in /usr/local/lib/python3.8/dist-packages (from tensorboard->keras-tuner) (3.19.6)\n",
            "Requirement already satisfied: grpcio>=1.24.3 in /usr/local/lib/python3.8/dist-packages (from tensorboard->keras-tuner) (1.51.1)\n",
            "Requirement already satisfied: tensorboard-plugin-wit>=1.6.0 in /usr/local/lib/python3.8/dist-packages (from tensorboard->keras-tuner) (1.8.1)\n",
            "Requirement already satisfied: google-auth<3,>=1.6.3 in /usr/local/lib/python3.8/dist-packages (from tensorboard->keras-tuner) (2.15.0)\n",
            "Requirement already satisfied: tensorboard-data-server<0.7.0,>=0.6.0 in /usr/local/lib/python3.8/dist-packages (from tensorboard->keras-tuner) (0.6.1)\n",
            "Requirement already satisfied: google-auth-oauthlib<0.5,>=0.4.1 in /usr/local/lib/python3.8/dist-packages (from tensorboard->keras-tuner) (0.4.6)\n",
            "Requirement already satisfied: cachetools<6.0,>=2.0.0 in /usr/local/lib/python3.8/dist-packages (from google-auth<3,>=1.6.3->tensorboard->keras-tuner) (5.2.0)\n",
            "Requirement already satisfied: pyasn1-modules>=0.2.1 in /usr/local/lib/python3.8/dist-packages (from google-auth<3,>=1.6.3->tensorboard->keras-tuner) (0.2.8)\n",
            "Requirement already satisfied: rsa<5,>=3.1.4 in /usr/local/lib/python3.8/dist-packages (from google-auth<3,>=1.6.3->tensorboard->keras-tuner) (4.9)\n",
            "Requirement already satisfied: six>=1.9.0 in /usr/local/lib/python3.8/dist-packages (from google-auth<3,>=1.6.3->tensorboard->keras-tuner) (1.15.0)\n",
            "Requirement already satisfied: requests-oauthlib>=0.7.0 in /usr/local/lib/python3.8/dist-packages (from google-auth-oauthlib<0.5,>=0.4.1->tensorboard->keras-tuner) (1.3.1)\n",
            "Requirement already satisfied: parso<0.9.0,>=0.8.0 in /usr/local/lib/python3.8/dist-packages (from jedi>=0.10->ipython->keras-tuner) (0.8.3)\n",
            "Requirement already satisfied: importlib-metadata>=4.4 in /usr/local/lib/python3.8/dist-packages (from markdown>=2.6.8->tensorboard->keras-tuner) (5.2.0)\n",
            "Requirement already satisfied: wcwidth in /usr/local/lib/python3.8/dist-packages (from prompt-toolkit<2.1.0,>=2.0.0->ipython->keras-tuner) (0.2.5)\n",
            "Requirement already satisfied: ptyprocess>=0.5 in /usr/local/lib/python3.8/dist-packages (from pexpect->ipython->keras-tuner) (0.7.0)\n",
            "Requirement already satisfied: zipp>=0.5 in /usr/local/lib/python3.8/dist-packages (from importlib-metadata>=4.4->markdown>=2.6.8->tensorboard->keras-tuner) (3.11.0)\n",
            "Requirement already satisfied: pyasn1<0.5.0,>=0.4.6 in /usr/local/lib/python3.8/dist-packages (from pyasn1-modules>=0.2.1->google-auth<3,>=1.6.3->tensorboard->keras-tuner) (0.4.8)\n",
            "Requirement already satisfied: oauthlib>=3.0.0 in /usr/local/lib/python3.8/dist-packages (from requests-oauthlib>=0.7.0->google-auth-oauthlib<0.5,>=0.4.1->tensorboard->keras-tuner) (3.2.2)\n",
            "Installing collected packages: kt-legacy, jedi, keras-tuner\n",
            "Successfully installed jedi-0.18.2 keras-tuner-1.1.3 kt-legacy-1.0.4\n"
          ]
        }
      ]
    },
    {
      "cell_type": "markdown",
      "source": [
        "###Load Libraries"
      ],
      "metadata": {
        "id": "r_2Cswg0sYN8"
      }
    },
    {
      "cell_type": "code",
      "source": [
        "from numpy.random import seed\n",
        "seed(1)\n",
        "import tensorflow as tf\n",
        "tf.random.set_seed(1)\n",
        "\n",
        "import pandas as pd\n",
        "import numpy as np\n",
        "import matplotlib.pyplot as plt\n",
        "import seaborn as sns\n",
        "plt.rcParams['figure.figsize'] = (10, 5)\n",
        "plt.style.use('fivethirtyeight')\n",
        "from plotly.subplots import make_subplots\n",
        "import plotly.graph_objects as go\n",
        "import tensorflow as tf\n",
        "from tensorflow.keras import layers\n",
        "from sklearn.metrics import mean_absolute_error\n",
        "from sklearn.metrics import make_scorer, mean_squared_error\n",
        "from keras.layers import Dense, Dropout\n",
        "from sklearn.metrics import explained_variance_score\n",
        "from sklearn.neural_network import MLPRegressor\n",
        "from sklearn.model_selection import GridSearchCV, RandomizedSearchCV\n",
        "import warnings\n",
        "warnings.filterwarnings('ignore')\n",
        "from keras.models import Sequential\n",
        "from keras.layers import Dense\n",
        "from keras.wrappers.scikit_learn import KerasRegressor\n",
        "from keras.wrappers.scikit_learn import KerasClassifier\n",
        "from sklearn.model_selection import KFold, cross_val_score\n",
        "from scikeras.wrappers import KerasRegressor\n",
        "from tensorflow import keras\n",
        "from kerastuner.tuners import RandomSearch\n",
        "from kerastuner import HyperModel, RandomSearch, Hyperband, BayesianOptimization\n",
        "from keras.callbacks import EarlyStopping\n",
        "from time import time\n",
        "import pickle\n",
        "\n",
        "import matplotlib.dates as mdates\n",
        "from sklearn.preprocessing import RobustScaler\n",
        "from sklearn.preprocessing import MinMaxScaler"
      ],
      "metadata": {
        "id": "eJUaw5qy34It"
      },
      "execution_count": 2,
      "outputs": []
    },
    {
      "cell_type": "markdown",
      "source": [
        "###Define Functions to Facilitate Metrics Evaluation"
      ],
      "metadata": {
        "id": "Gzu9V2o2gfZG"
      }
    },
    {
      "cell_type": "code",
      "source": [
        "#To compute Mean Directional Accuracy\n",
        "def mda(actual: np.ndarray, predicted: np.ndarray):\n",
        "    \"\"\" Mean Directional Accuracy \"\"\"\n",
        "    return np.mean((np.sign(actual[1:] - actual[:-1]) == np.sign(predicted[1:] - predicted[:-1])).astype(int))\n",
        "\n",
        "#Calculate the Mean Absolute Percentage Error\n",
        "#def MAPE(y_true, y_pred): \n",
        "    #mape = np.mean(np.abs((np.array(y_true) - np.array(y_pred)) / np.array(y_true))) * 100\n",
        "    #return mape\n",
        "\n",
        "def mean_absolute_percentage_error(y_true, y_pred): \n",
        "    y_true, y_pred = np.array(y_true), np.array(y_pred)\n",
        "    return np.mean(np.abs((y_true - y_pred) / y_true)) * 100\n",
        "\n",
        "def MAPE(y_true, y_pred): \n",
        "    y_true, y_pred = np.array(y_true), np.array(y_pred)\n",
        "    return np.mean(np.abs((y_true - y_pred) / y_true)) * 100\n",
        "\n",
        "#Calculate the Root Mean Squared Error:\n",
        "def RMSE(y_true, y_pred): \n",
        "    rmse = np.sqrt(mean_squared_error(y_true, y_pred))\n",
        "    return rmse"
      ],
      "metadata": {
        "id": "k7RYx1rN_Yf_"
      },
      "execution_count": 3,
      "outputs": []
    },
    {
      "cell_type": "markdown",
      "source": [
        "###Load the Cleaned Data from Github"
      ],
      "metadata": {
        "id": "FVpIGyF7g4od"
      }
    },
    {
      "cell_type": "code",
      "source": [
        "from pandas import read_csv\n",
        "path = 'https://raw.githubusercontent.com/mofuoku417/Machine-Learning-Techniques-for-Multivariate-Time-Series-Forecasting-of-Crude-Palm-Oil-Prices/main/Cleaned_data/FS_2.csv'\n",
        "df = read_csv(path)\n",
        "df.head()"
      ],
      "metadata": {
        "colab": {
          "base_uri": "https://localhost:8080/",
          "height": 201
        },
        "id": "z_6wFR8b3xZf",
        "outputId": "e0bfe7a2-d7ff-4a30-a825-7f467ef57aad"
      },
      "execution_count": 4,
      "outputs": [
        {
          "output_type": "execute_result",
          "data": {
            "text/plain": [
              "      date  cpo_pri  cno_pri  oli_pri  rps_pri  pno_pri  sbo_pri  sfo_pri\n",
              "0  12/1/10      323      455  3102.61   423.45    844.0    468.0    578.0\n",
              "1   1/1/11      345      546  3100.45   415.85    799.0    485.0    557.0\n",
              "2   2/1/11      362      595  3199.41   410.77    718.0    466.0    552.0\n",
              "3   3/1/11      376      636  3281.67   414.82    614.0    442.0    574.0\n",
              "4   4/1/11      383      738  3261.65   451.04    619.0    429.0    595.0"
            ],
            "text/html": [
              "\n",
              "  <div id=\"df-19f7a13c-b6f6-46ac-9dca-3c462d2d3a63\">\n",
              "    <div class=\"colab-df-container\">\n",
              "      <div>\n",
              "<style scoped>\n",
              "    .dataframe tbody tr th:only-of-type {\n",
              "        vertical-align: middle;\n",
              "    }\n",
              "\n",
              "    .dataframe tbody tr th {\n",
              "        vertical-align: top;\n",
              "    }\n",
              "\n",
              "    .dataframe thead th {\n",
              "        text-align: right;\n",
              "    }\n",
              "</style>\n",
              "<table border=\"1\" class=\"dataframe\">\n",
              "  <thead>\n",
              "    <tr style=\"text-align: right;\">\n",
              "      <th></th>\n",
              "      <th>date</th>\n",
              "      <th>cpo_pri</th>\n",
              "      <th>cno_pri</th>\n",
              "      <th>oli_pri</th>\n",
              "      <th>rps_pri</th>\n",
              "      <th>pno_pri</th>\n",
              "      <th>sbo_pri</th>\n",
              "      <th>sfo_pri</th>\n",
              "    </tr>\n",
              "  </thead>\n",
              "  <tbody>\n",
              "    <tr>\n",
              "      <th>0</th>\n",
              "      <td>12/1/10</td>\n",
              "      <td>323</td>\n",
              "      <td>455</td>\n",
              "      <td>3102.61</td>\n",
              "      <td>423.45</td>\n",
              "      <td>844.0</td>\n",
              "      <td>468.0</td>\n",
              "      <td>578.0</td>\n",
              "    </tr>\n",
              "    <tr>\n",
              "      <th>1</th>\n",
              "      <td>1/1/11</td>\n",
              "      <td>345</td>\n",
              "      <td>546</td>\n",
              "      <td>3100.45</td>\n",
              "      <td>415.85</td>\n",
              "      <td>799.0</td>\n",
              "      <td>485.0</td>\n",
              "      <td>557.0</td>\n",
              "    </tr>\n",
              "    <tr>\n",
              "      <th>2</th>\n",
              "      <td>2/1/11</td>\n",
              "      <td>362</td>\n",
              "      <td>595</td>\n",
              "      <td>3199.41</td>\n",
              "      <td>410.77</td>\n",
              "      <td>718.0</td>\n",
              "      <td>466.0</td>\n",
              "      <td>552.0</td>\n",
              "    </tr>\n",
              "    <tr>\n",
              "      <th>3</th>\n",
              "      <td>3/1/11</td>\n",
              "      <td>376</td>\n",
              "      <td>636</td>\n",
              "      <td>3281.67</td>\n",
              "      <td>414.82</td>\n",
              "      <td>614.0</td>\n",
              "      <td>442.0</td>\n",
              "      <td>574.0</td>\n",
              "    </tr>\n",
              "    <tr>\n",
              "      <th>4</th>\n",
              "      <td>4/1/11</td>\n",
              "      <td>383</td>\n",
              "      <td>738</td>\n",
              "      <td>3261.65</td>\n",
              "      <td>451.04</td>\n",
              "      <td>619.0</td>\n",
              "      <td>429.0</td>\n",
              "      <td>595.0</td>\n",
              "    </tr>\n",
              "  </tbody>\n",
              "</table>\n",
              "</div>\n",
              "      <button class=\"colab-df-convert\" onclick=\"convertToInteractive('df-19f7a13c-b6f6-46ac-9dca-3c462d2d3a63')\"\n",
              "              title=\"Convert this dataframe to an interactive table.\"\n",
              "              style=\"display:none;\">\n",
              "        \n",
              "  <svg xmlns=\"http://www.w3.org/2000/svg\" height=\"24px\"viewBox=\"0 0 24 24\"\n",
              "       width=\"24px\">\n",
              "    <path d=\"M0 0h24v24H0V0z\" fill=\"none\"/>\n",
              "    <path d=\"M18.56 5.44l.94 2.06.94-2.06 2.06-.94-2.06-.94-.94-2.06-.94 2.06-2.06.94zm-11 1L8.5 8.5l.94-2.06 2.06-.94-2.06-.94L8.5 2.5l-.94 2.06-2.06.94zm10 10l.94 2.06.94-2.06 2.06-.94-2.06-.94-.94-2.06-.94 2.06-2.06.94z\"/><path d=\"M17.41 7.96l-1.37-1.37c-.4-.4-.92-.59-1.43-.59-.52 0-1.04.2-1.43.59L10.3 9.45l-7.72 7.72c-.78.78-.78 2.05 0 2.83L4 21.41c.39.39.9.59 1.41.59.51 0 1.02-.2 1.41-.59l7.78-7.78 2.81-2.81c.8-.78.8-2.07 0-2.86zM5.41 20L4 18.59l7.72-7.72 1.47 1.35L5.41 20z\"/>\n",
              "  </svg>\n",
              "      </button>\n",
              "      \n",
              "  <style>\n",
              "    .colab-df-container {\n",
              "      display:flex;\n",
              "      flex-wrap:wrap;\n",
              "      gap: 12px;\n",
              "    }\n",
              "\n",
              "    .colab-df-convert {\n",
              "      background-color: #E8F0FE;\n",
              "      border: none;\n",
              "      border-radius: 50%;\n",
              "      cursor: pointer;\n",
              "      display: none;\n",
              "      fill: #1967D2;\n",
              "      height: 32px;\n",
              "      padding: 0 0 0 0;\n",
              "      width: 32px;\n",
              "    }\n",
              "\n",
              "    .colab-df-convert:hover {\n",
              "      background-color: #E2EBFA;\n",
              "      box-shadow: 0px 1px 2px rgba(60, 64, 67, 0.3), 0px 1px 3px 1px rgba(60, 64, 67, 0.15);\n",
              "      fill: #174EA6;\n",
              "    }\n",
              "\n",
              "    [theme=dark] .colab-df-convert {\n",
              "      background-color: #3B4455;\n",
              "      fill: #D2E3FC;\n",
              "    }\n",
              "\n",
              "    [theme=dark] .colab-df-convert:hover {\n",
              "      background-color: #434B5C;\n",
              "      box-shadow: 0px 1px 3px 1px rgba(0, 0, 0, 0.15);\n",
              "      filter: drop-shadow(0px 1px 2px rgba(0, 0, 0, 0.3));\n",
              "      fill: #FFFFFF;\n",
              "    }\n",
              "  </style>\n",
              "\n",
              "      <script>\n",
              "        const buttonEl =\n",
              "          document.querySelector('#df-19f7a13c-b6f6-46ac-9dca-3c462d2d3a63 button.colab-df-convert');\n",
              "        buttonEl.style.display =\n",
              "          google.colab.kernel.accessAllowed ? 'block' : 'none';\n",
              "\n",
              "        async function convertToInteractive(key) {\n",
              "          const element = document.querySelector('#df-19f7a13c-b6f6-46ac-9dca-3c462d2d3a63');\n",
              "          const dataTable =\n",
              "            await google.colab.kernel.invokeFunction('convertToInteractive',\n",
              "                                                     [key], {});\n",
              "          if (!dataTable) return;\n",
              "\n",
              "          const docLinkHtml = 'Like what you see? Visit the ' +\n",
              "            '<a target=\"_blank\" href=https://colab.research.google.com/notebooks/data_table.ipynb>data table notebook</a>'\n",
              "            + ' to learn more about interactive tables.';\n",
              "          element.innerHTML = '';\n",
              "          dataTable['output_type'] = 'display_data';\n",
              "          await google.colab.output.renderOutput(dataTable, element);\n",
              "          const docLink = document.createElement('div');\n",
              "          docLink.innerHTML = docLinkHtml;\n",
              "          element.appendChild(docLink);\n",
              "        }\n",
              "      </script>\n",
              "    </div>\n",
              "  </div>\n",
              "  "
            ]
          },
          "metadata": {},
          "execution_count": 4
        }
      ]
    },
    {
      "cell_type": "code",
      "source": [
        "df['date']=pd.to_datetime(df['date'])\n",
        "#del df['date']"
      ],
      "metadata": {
        "id": "bABFH7Kd4nBN"
      },
      "execution_count": 5,
      "outputs": []
    },
    {
      "cell_type": "code",
      "source": [
        "df.set_index('date', inplace=True)\n",
        "df.info()"
      ],
      "metadata": {
        "colab": {
          "base_uri": "https://localhost:8080/"
        },
        "id": "nZ-LB-rFdF5N",
        "outputId": "e3427ab0-ac0a-4390-fb9b-acde975a0f35"
      },
      "execution_count": 6,
      "outputs": [
        {
          "output_type": "stream",
          "name": "stdout",
          "text": [
            "<class 'pandas.core.frame.DataFrame'>\n",
            "DatetimeIndex: 124 entries, 2010-12-01 to 2021-03-01\n",
            "Data columns (total 7 columns):\n",
            " #   Column   Non-Null Count  Dtype  \n",
            "---  ------   --------------  -----  \n",
            " 0   cpo_pri  124 non-null    int64  \n",
            " 1   cno_pri  124 non-null    int64  \n",
            " 2   oli_pri  124 non-null    float64\n",
            " 3   rps_pri  124 non-null    float64\n",
            " 4   pno_pri  124 non-null    float64\n",
            " 5   sbo_pri  124 non-null    float64\n",
            " 6   sfo_pri  124 non-null    float64\n",
            "dtypes: float64(5), int64(2)\n",
            "memory usage: 7.8 KB\n"
          ]
        }
      ]
    },
    {
      "cell_type": "code",
      "source": [
        "df.head()"
      ],
      "metadata": {
        "colab": {
          "base_uri": "https://localhost:8080/",
          "height": 232
        },
        "id": "PLpdJChY4wex",
        "outputId": "c19fb761-41d5-452f-8d16-657699384049"
      },
      "execution_count": 7,
      "outputs": [
        {
          "output_type": "execute_result",
          "data": {
            "text/plain": [
              "            cpo_pri  cno_pri  oli_pri  rps_pri  pno_pri  sbo_pri  sfo_pri\n",
              "date                                                                     \n",
              "2010-12-01      323      455  3102.61   423.45    844.0    468.0    578.0\n",
              "2011-01-01      345      546  3100.45   415.85    799.0    485.0    557.0\n",
              "2011-02-01      362      595  3199.41   410.77    718.0    466.0    552.0\n",
              "2011-03-01      376      636  3281.67   414.82    614.0    442.0    574.0\n",
              "2011-04-01      383      738  3261.65   451.04    619.0    429.0    595.0"
            ],
            "text/html": [
              "\n",
              "  <div id=\"df-da2b43a8-8d83-4ac6-8e58-cc32975e310e\">\n",
              "    <div class=\"colab-df-container\">\n",
              "      <div>\n",
              "<style scoped>\n",
              "    .dataframe tbody tr th:only-of-type {\n",
              "        vertical-align: middle;\n",
              "    }\n",
              "\n",
              "    .dataframe tbody tr th {\n",
              "        vertical-align: top;\n",
              "    }\n",
              "\n",
              "    .dataframe thead th {\n",
              "        text-align: right;\n",
              "    }\n",
              "</style>\n",
              "<table border=\"1\" class=\"dataframe\">\n",
              "  <thead>\n",
              "    <tr style=\"text-align: right;\">\n",
              "      <th></th>\n",
              "      <th>cpo_pri</th>\n",
              "      <th>cno_pri</th>\n",
              "      <th>oli_pri</th>\n",
              "      <th>rps_pri</th>\n",
              "      <th>pno_pri</th>\n",
              "      <th>sbo_pri</th>\n",
              "      <th>sfo_pri</th>\n",
              "    </tr>\n",
              "    <tr>\n",
              "      <th>date</th>\n",
              "      <th></th>\n",
              "      <th></th>\n",
              "      <th></th>\n",
              "      <th></th>\n",
              "      <th></th>\n",
              "      <th></th>\n",
              "      <th></th>\n",
              "    </tr>\n",
              "  </thead>\n",
              "  <tbody>\n",
              "    <tr>\n",
              "      <th>2010-12-01</th>\n",
              "      <td>323</td>\n",
              "      <td>455</td>\n",
              "      <td>3102.61</td>\n",
              "      <td>423.45</td>\n",
              "      <td>844.0</td>\n",
              "      <td>468.0</td>\n",
              "      <td>578.0</td>\n",
              "    </tr>\n",
              "    <tr>\n",
              "      <th>2011-01-01</th>\n",
              "      <td>345</td>\n",
              "      <td>546</td>\n",
              "      <td>3100.45</td>\n",
              "      <td>415.85</td>\n",
              "      <td>799.0</td>\n",
              "      <td>485.0</td>\n",
              "      <td>557.0</td>\n",
              "    </tr>\n",
              "    <tr>\n",
              "      <th>2011-02-01</th>\n",
              "      <td>362</td>\n",
              "      <td>595</td>\n",
              "      <td>3199.41</td>\n",
              "      <td>410.77</td>\n",
              "      <td>718.0</td>\n",
              "      <td>466.0</td>\n",
              "      <td>552.0</td>\n",
              "    </tr>\n",
              "    <tr>\n",
              "      <th>2011-03-01</th>\n",
              "      <td>376</td>\n",
              "      <td>636</td>\n",
              "      <td>3281.67</td>\n",
              "      <td>414.82</td>\n",
              "      <td>614.0</td>\n",
              "      <td>442.0</td>\n",
              "      <td>574.0</td>\n",
              "    </tr>\n",
              "    <tr>\n",
              "      <th>2011-04-01</th>\n",
              "      <td>383</td>\n",
              "      <td>738</td>\n",
              "      <td>3261.65</td>\n",
              "      <td>451.04</td>\n",
              "      <td>619.0</td>\n",
              "      <td>429.0</td>\n",
              "      <td>595.0</td>\n",
              "    </tr>\n",
              "  </tbody>\n",
              "</table>\n",
              "</div>\n",
              "      <button class=\"colab-df-convert\" onclick=\"convertToInteractive('df-da2b43a8-8d83-4ac6-8e58-cc32975e310e')\"\n",
              "              title=\"Convert this dataframe to an interactive table.\"\n",
              "              style=\"display:none;\">\n",
              "        \n",
              "  <svg xmlns=\"http://www.w3.org/2000/svg\" height=\"24px\"viewBox=\"0 0 24 24\"\n",
              "       width=\"24px\">\n",
              "    <path d=\"M0 0h24v24H0V0z\" fill=\"none\"/>\n",
              "    <path d=\"M18.56 5.44l.94 2.06.94-2.06 2.06-.94-2.06-.94-.94-2.06-.94 2.06-2.06.94zm-11 1L8.5 8.5l.94-2.06 2.06-.94-2.06-.94L8.5 2.5l-.94 2.06-2.06.94zm10 10l.94 2.06.94-2.06 2.06-.94-2.06-.94-.94-2.06-.94 2.06-2.06.94z\"/><path d=\"M17.41 7.96l-1.37-1.37c-.4-.4-.92-.59-1.43-.59-.52 0-1.04.2-1.43.59L10.3 9.45l-7.72 7.72c-.78.78-.78 2.05 0 2.83L4 21.41c.39.39.9.59 1.41.59.51 0 1.02-.2 1.41-.59l7.78-7.78 2.81-2.81c.8-.78.8-2.07 0-2.86zM5.41 20L4 18.59l7.72-7.72 1.47 1.35L5.41 20z\"/>\n",
              "  </svg>\n",
              "      </button>\n",
              "      \n",
              "  <style>\n",
              "    .colab-df-container {\n",
              "      display:flex;\n",
              "      flex-wrap:wrap;\n",
              "      gap: 12px;\n",
              "    }\n",
              "\n",
              "    .colab-df-convert {\n",
              "      background-color: #E8F0FE;\n",
              "      border: none;\n",
              "      border-radius: 50%;\n",
              "      cursor: pointer;\n",
              "      display: none;\n",
              "      fill: #1967D2;\n",
              "      height: 32px;\n",
              "      padding: 0 0 0 0;\n",
              "      width: 32px;\n",
              "    }\n",
              "\n",
              "    .colab-df-convert:hover {\n",
              "      background-color: #E2EBFA;\n",
              "      box-shadow: 0px 1px 2px rgba(60, 64, 67, 0.3), 0px 1px 3px 1px rgba(60, 64, 67, 0.15);\n",
              "      fill: #174EA6;\n",
              "    }\n",
              "\n",
              "    [theme=dark] .colab-df-convert {\n",
              "      background-color: #3B4455;\n",
              "      fill: #D2E3FC;\n",
              "    }\n",
              "\n",
              "    [theme=dark] .colab-df-convert:hover {\n",
              "      background-color: #434B5C;\n",
              "      box-shadow: 0px 1px 3px 1px rgba(0, 0, 0, 0.15);\n",
              "      filter: drop-shadow(0px 1px 2px rgba(0, 0, 0, 0.3));\n",
              "      fill: #FFFFFF;\n",
              "    }\n",
              "  </style>\n",
              "\n",
              "      <script>\n",
              "        const buttonEl =\n",
              "          document.querySelector('#df-da2b43a8-8d83-4ac6-8e58-cc32975e310e button.colab-df-convert');\n",
              "        buttonEl.style.display =\n",
              "          google.colab.kernel.accessAllowed ? 'block' : 'none';\n",
              "\n",
              "        async function convertToInteractive(key) {\n",
              "          const element = document.querySelector('#df-da2b43a8-8d83-4ac6-8e58-cc32975e310e');\n",
              "          const dataTable =\n",
              "            await google.colab.kernel.invokeFunction('convertToInteractive',\n",
              "                                                     [key], {});\n",
              "          if (!dataTable) return;\n",
              "\n",
              "          const docLinkHtml = 'Like what you see? Visit the ' +\n",
              "            '<a target=\"_blank\" href=https://colab.research.google.com/notebooks/data_table.ipynb>data table notebook</a>'\n",
              "            + ' to learn more about interactive tables.';\n",
              "          element.innerHTML = '';\n",
              "          dataTable['output_type'] = 'display_data';\n",
              "          await google.colab.output.renderOutput(dataTable, element);\n",
              "          const docLink = document.createElement('div');\n",
              "          docLink.innerHTML = docLinkHtml;\n",
              "          element.appendChild(docLink);\n",
              "        }\n",
              "      </script>\n",
              "    </div>\n",
              "  </div>\n",
              "  "
            ]
          },
          "metadata": {},
          "execution_count": 7
        }
      ]
    },
    {
      "cell_type": "code",
      "source": [
        "# Plot an area chart\n",
        "plt.figure(figsize=(25,10))\n",
        "ax = df.plot.area(fontsize=12);\n",
        "\n",
        "# Additional customizations\n",
        "ax.set_xlabel('date');\n",
        "ax.legend(fontsize=12);"
      ],
      "metadata": {
        "colab": {
          "base_uri": "https://localhost:8080/",
          "height": 379
        },
        "id": "pnKg-SfY6j9g",
        "outputId": "dc6f9f38-4840-41e6-e351-3dcc44fc3269"
      },
      "execution_count": 8,
      "outputs": [
        {
          "output_type": "display_data",
          "data": {
            "text/plain": [
              "<Figure size 1800x720 with 0 Axes>"
            ]
          },
          "metadata": {}
        },
        {
          "output_type": "display_data",
          "data": {
            "text/plain": [
              "<Figure size 720x360 with 1 Axes>"
            ],
            "image/png": "[encoded data removed]"
          },
          "metadata": {}
        }
      ]
    },
    {
      "cell_type": "markdown",
      "source": [
        "##**Convolutional Neural Network Forecasting Technique (CNN)**"
      ],
      "metadata": {
        "id": "dPoGjuS366Cc"
      }
    },
    {
      "cell_type": "markdown",
      "source": [
        "###**Split Data into Train Test Segments**"
      ],
      "metadata": {
        "id": "vFpT6OrD7KRv"
      }
    },
    {
      "cell_type": "code",
      "source": [
        "train_size = int(len(df) * 0.8)\n",
        "test_size = len(df) - train_size\n",
        "train, test = df.iloc[0:train_size], df.iloc[train_size:len(df)]\n",
        "print('Train size:',len(train))\n",
        "print('Test size:', len(test))"
      ],
      "metadata": {
        "colab": {
          "base_uri": "https://localhost:8080/"
        },
        "id": "nYZL-9Sy3xpJ",
        "outputId": "1fdb1321-5b0c-4539-de38-05ca866d3c4d"
      },
      "execution_count": 9,
      "outputs": [
        {
          "output_type": "stream",
          "name": "stdout",
          "text": [
            "Train size: 99\n",
            "Test size: 25\n"
          ]
        }
      ]
    },
    {
      "cell_type": "code",
      "source": [
        "split_date = '2019-02'\n",
        "df_training = df.loc[df.index <= split_date]\n",
        "df_test = df.loc[df.index > split_date]\n",
        "print(f\"{len(df_training)} days of training data \\n {len(df_test)} days of testing data \")"
      ],
      "metadata": {
        "colab": {
          "base_uri": "https://localhost:8080/"
        },
        "id": "qKDDSdp_JVu6",
        "outputId": "581b1fbc-e9f2-4325-ff86-e74d5c4ea3b4"
      },
      "execution_count": 10,
      "outputs": [
        {
          "output_type": "stream",
          "name": "stdout",
          "text": [
            "99 days of training data \n",
            " 25 days of testing data \n"
          ]
        }
      ]
    },
    {
      "cell_type": "code",
      "source": [
        "train, test = df.iloc[0:train_size], df.iloc[train_size:len(df)]\n",
        "print(len(train), len(test))"
      ],
      "metadata": {
        "colab": {
          "base_uri": "https://localhost:8080/"
        },
        "id": "DGrD2nxFmNSu",
        "outputId": "05f31337-1c10-4ca4-e0f0-6f5beabc6a8c"
      },
      "execution_count": 11,
      "outputs": [
        {
          "output_type": "stream",
          "name": "stdout",
          "text": [
            "99 25\n"
          ]
        }
      ]
    },
    {
      "cell_type": "code",
      "source": [
        "print(train.shape)\n",
        "train.head()"
      ],
      "metadata": {
        "colab": {
          "base_uri": "https://localhost:8080/",
          "height": 248
        },
        "id": "QvbHy-5RmPuI",
        "outputId": "a2faf234-6f0a-4766-e740-fcf8789c595c"
      },
      "execution_count": 12,
      "outputs": [
        {
          "output_type": "stream",
          "name": "stdout",
          "text": [
            "(99, 7)\n"
          ]
        },
        {
          "output_type": "execute_result",
          "data": {
            "text/plain": [
              "            cpo_pri  cno_pri  oli_pri  rps_pri  pno_pri  sbo_pri  sfo_pri\n",
              "date                                                                     \n",
              "2010-12-01      323      455  3102.61   423.45    844.0    468.0    578.0\n",
              "2011-01-01      345      546  3100.45   415.85    799.0    485.0    557.0\n",
              "2011-02-01      362      595  3199.41   410.77    718.0    466.0    552.0\n",
              "2011-03-01      376      636  3281.67   414.82    614.0    442.0    574.0\n",
              "2011-04-01      383      738  3261.65   451.04    619.0    429.0    595.0"
            ],
            "text/html": [
              "\n",
              "  <div id=\"df-917b30ec-0daf-4053-87fb-5633d2d3f778\">\n",
              "    <div class=\"colab-df-container\">\n",
              "      <div>\n",
              "<style scoped>\n",
              "    .dataframe tbody tr th:only-of-type {\n",
              "        vertical-align: middle;\n",
              "    }\n",
              "\n",
              "    .dataframe tbody tr th {\n",
              "        vertical-align: top;\n",
              "    }\n",
              "\n",
              "    .dataframe thead th {\n",
              "        text-align: right;\n",
              "    }\n",
              "</style>\n",
              "<table border=\"1\" class=\"dataframe\">\n",
              "  <thead>\n",
              "    <tr style=\"text-align: right;\">\n",
              "      <th></th>\n",
              "      <th>cpo_pri</th>\n",
              "      <th>cno_pri</th>\n",
              "      <th>oli_pri</th>\n",
              "      <th>rps_pri</th>\n",
              "      <th>pno_pri</th>\n",
              "      <th>sbo_pri</th>\n",
              "      <th>sfo_pri</th>\n",
              "    </tr>\n",
              "    <tr>\n",
              "      <th>date</th>\n",
              "      <th></th>\n",
              "      <th></th>\n",
              "      <th></th>\n",
              "      <th></th>\n",
              "      <th></th>\n",
              "      <th></th>\n",
              "      <th></th>\n",
              "    </tr>\n",
              "  </thead>\n",
              "  <tbody>\n",
              "    <tr>\n",
              "      <th>2010-12-01</th>\n",
              "      <td>323</td>\n",
              "      <td>455</td>\n",
              "      <td>3102.61</td>\n",
              "      <td>423.45</td>\n",
              "      <td>844.0</td>\n",
              "      <td>468.0</td>\n",
              "      <td>578.0</td>\n",
              "    </tr>\n",
              "    <tr>\n",
              "      <th>2011-01-01</th>\n",
              "      <td>345</td>\n",
              "      <td>546</td>\n",
              "      <td>3100.45</td>\n",
              "      <td>415.85</td>\n",
              "      <td>799.0</td>\n",
              "      <td>485.0</td>\n",
              "      <td>557.0</td>\n",
              "    </tr>\n",
              "    <tr>\n",
              "      <th>2011-02-01</th>\n",
              "      <td>362</td>\n",
              "      <td>595</td>\n",
              "      <td>3199.41</td>\n",
              "      <td>410.77</td>\n",
              "      <td>718.0</td>\n",
              "      <td>466.0</td>\n",
              "      <td>552.0</td>\n",
              "    </tr>\n",
              "    <tr>\n",
              "      <th>2011-03-01</th>\n",
              "      <td>376</td>\n",
              "      <td>636</td>\n",
              "      <td>3281.67</td>\n",
              "      <td>414.82</td>\n",
              "      <td>614.0</td>\n",
              "      <td>442.0</td>\n",
              "      <td>574.0</td>\n",
              "    </tr>\n",
              "    <tr>\n",
              "      <th>2011-04-01</th>\n",
              "      <td>383</td>\n",
              "      <td>738</td>\n",
              "      <td>3261.65</td>\n",
              "      <td>451.04</td>\n",
              "      <td>619.0</td>\n",
              "      <td>429.0</td>\n",
              "      <td>595.0</td>\n",
              "    </tr>\n",
              "  </tbody>\n",
              "</table>\n",
              "</div>\n",
              "      <button class=\"colab-df-convert\" onclick=\"convertToInteractive('df-917b30ec-0daf-4053-87fb-5633d2d3f778')\"\n",
              "              title=\"Convert this dataframe to an interactive table.\"\n",
              "              style=\"display:none;\">\n",
              "        \n",
              "  <svg xmlns=\"http://www.w3.org/2000/svg\" height=\"24px\"viewBox=\"0 0 24 24\"\n",
              "       width=\"24px\">\n",
              "    <path d=\"M0 0h24v24H0V0z\" fill=\"none\"/>\n",
              "    <path d=\"M18.56 5.44l.94 2.06.94-2.06 2.06-.94-2.06-.94-.94-2.06-.94 2.06-2.06.94zm-11 1L8.5 8.5l.94-2.06 2.06-.94-2.06-.94L8.5 2.5l-.94 2.06-2.06.94zm10 10l.94 2.06.94-2.06 2.06-.94-2.06-.94-.94-2.06-.94 2.06-2.06.94z\"/><path d=\"M17.41 7.96l-1.37-1.37c-.4-.4-.92-.59-1.43-.59-.52 0-1.04.2-1.43.59L10.3 9.45l-7.72 7.72c-.78.78-.78 2.05 0 2.83L4 21.41c.39.39.9.59 1.41.59.51 0 1.02-.2 1.41-.59l7.78-7.78 2.81-2.81c.8-.78.8-2.07 0-2.86zM5.41 20L4 18.59l7.72-7.72 1.47 1.35L5.41 20z\"/>\n",
              "  </svg>\n",
              "      </button>\n",
              "      \n",
              "  <style>\n",
              "    .colab-df-container {\n",
              "      display:flex;\n",
              "      flex-wrap:wrap;\n",
              "      gap: 12px;\n",
              "    }\n",
              "\n",
              "    .colab-df-convert {\n",
              "      background-color: #E8F0FE;\n",
              "      border: none;\n",
              "      border-radius: 50%;\n",
              "      cursor: pointer;\n",
              "      display: none;\n",
              "      fill: #1967D2;\n",
              "      height: 32px;\n",
              "      padding: 0 0 0 0;\n",
              "      width: 32px;\n",
              "    }\n",
              "\n",
              "    .colab-df-convert:hover {\n",
              "      background-color: #E2EBFA;\n",
              "      box-shadow: 0px 1px 2px rgba(60, 64, 67, 0.3), 0px 1px 3px 1px rgba(60, 64, 67, 0.15);\n",
              "      fill: #174EA6;\n",
              "    }\n",
              "\n",
              "    [theme=dark] .colab-df-convert {\n",
              "      background-color: #3B4455;\n",
              "      fill: #D2E3FC;\n",
              "    }\n",
              "\n",
              "    [theme=dark] .colab-df-convert:hover {\n",
              "      background-color: #434B5C;\n",
              "      box-shadow: 0px 1px 3px 1px rgba(0, 0, 0, 0.15);\n",
              "      filter: drop-shadow(0px 1px 2px rgba(0, 0, 0, 0.3));\n",
              "      fill: #FFFFFF;\n",
              "    }\n",
              "  </style>\n",
              "\n",
              "      <script>\n",
              "        const buttonEl =\n",
              "          document.querySelector('#df-917b30ec-0daf-4053-87fb-5633d2d3f778 button.colab-df-convert');\n",
              "        buttonEl.style.display =\n",
              "          google.colab.kernel.accessAllowed ? 'block' : 'none';\n",
              "\n",
              "        async function convertToInteractive(key) {\n",
              "          const element = document.querySelector('#df-917b30ec-0daf-4053-87fb-5633d2d3f778');\n",
              "          const dataTable =\n",
              "            await google.colab.kernel.invokeFunction('convertToInteractive',\n",
              "                                                     [key], {});\n",
              "          if (!dataTable) return;\n",
              "\n",
              "          const docLinkHtml = 'Like what you see? Visit the ' +\n",
              "            '<a target=\"_blank\" href=https://colab.research.google.com/notebooks/data_table.ipynb>data table notebook</a>'\n",
              "            + ' to learn more about interactive tables.';\n",
              "          element.innerHTML = '';\n",
              "          dataTable['output_type'] = 'display_data';\n",
              "          await google.colab.output.renderOutput(dataTable, element);\n",
              "          const docLink = document.createElement('div');\n",
              "          docLink.innerHTML = docLinkHtml;\n",
              "          element.appendChild(docLink);\n",
              "        }\n",
              "      </script>\n",
              "    </div>\n",
              "  </div>\n",
              "  "
            ]
          },
          "metadata": {},
          "execution_count": 12
        }
      ]
    },
    {
      "cell_type": "markdown",
      "source": [
        "###Rescaling Training Data"
      ],
      "metadata": {
        "id": "Z5F4OyT2mwRs"
      }
    },
    {
      "cell_type": "code",
      "source": [
        "f_transformer = MinMaxScaler()\n",
        "feature_columns = ['cno_pri', 'oli_pri', 'rps_pri', 'pno_pri', 'sbo_pri', 'sfo_pri']\n",
        "f_transformer = f_transformer.fit(train[feature_columns].to_numpy())\n",
        "train.loc[:, feature_columns] = f_transformer.transform(train[feature_columns].to_numpy())\n",
        "train.head()"
      ],
      "metadata": {
        "colab": {
          "base_uri": "https://localhost:8080/",
          "height": 232
        },
        "id": "Lg-AQuNBmvZK",
        "outputId": "c07d88b0-4c03-4cb6-e5b6-2277a0325553"
      },
      "execution_count": 13,
      "outputs": [
        {
          "output_type": "execute_result",
          "data": {
            "text/plain": [
              "            cpo_pri   cno_pri   oli_pri   rps_pri   pno_pri   sbo_pri  \\\n",
              "date                                                                    \n",
              "2010-12-01      323  0.112288  0.140918  0.010736  0.528090  0.253193   \n",
              "2011-01-01      345  0.305085  0.140327  0.004301  0.443820  0.306536   \n",
              "2011-02-01      362  0.408898  0.167408  0.000000  0.292135  0.246917   \n",
              "2011-03-01      376  0.495763  0.189919  0.003429  0.097378  0.171609   \n",
              "2011-04-01      383  0.711864  0.184440  0.034095  0.106742  0.130817   \n",
              "\n",
              "             sfo_pri  \n",
              "date                  \n",
              "2010-12-01  0.023302  \n",
              "2011-01-01  0.009321  \n",
              "2011-02-01  0.005992  \n",
              "2011-03-01  0.020639  \n",
              "2011-04-01  0.034621  "
            ],
            "text/html": [
              "\n",
              "  <div id=\"df-209cbfb7-d1b0-46f2-9b02-5d4adce18538\">\n",
              "    <div class=\"colab-df-container\">\n",
              "      <div>\n",
              "<style scoped>\n",
              "    .dataframe tbody tr th:only-of-type {\n",
              "        vertical-align: middle;\n",
              "    }\n",
              "\n",
              "    .dataframe tbody tr th {\n",
              "        vertical-align: top;\n",
              "    }\n",
              "\n",
              "    .dataframe thead th {\n",
              "        text-align: right;\n",
              "    }\n",
              "</style>\n",
              "<table border=\"1\" class=\"dataframe\">\n",
              "  <thead>\n",
              "    <tr style=\"text-align: right;\">\n",
              "      <th></th>\n",
              "      <th>cpo_pri</th>\n",
              "      <th>cno_pri</th>\n",
              "      <th>oli_pri</th>\n",
              "      <th>rps_pri</th>\n",
              "      <th>pno_pri</th>\n",
              "      <th>sbo_pri</th>\n",
              "      <th>sfo_pri</th>\n",
              "    </tr>\n",
              "    <tr>\n",
              "      <th>date</th>\n",
              "      <th></th>\n",
              "      <th></th>\n",
              "      <th></th>\n",
              "      <th></th>\n",
              "      <th></th>\n",
              "      <th></th>\n",
              "      <th></th>\n",
              "    </tr>\n",
              "  </thead>\n",
              "  <tbody>\n",
              "    <tr>\n",
              "      <th>2010-12-01</th>\n",
              "      <td>323</td>\n",
              "      <td>0.112288</td>\n",
              "      <td>0.140918</td>\n",
              "      <td>0.010736</td>\n",
              "      <td>0.528090</td>\n",
              "      <td>0.253193</td>\n",
              "      <td>0.023302</td>\n",
              "    </tr>\n",
              "    <tr>\n",
              "      <th>2011-01-01</th>\n",
              "      <td>345</td>\n",
              "      <td>0.305085</td>\n",
              "      <td>0.140327</td>\n",
              "      <td>0.004301</td>\n",
              "      <td>0.443820</td>\n",
              "      <td>0.306536</td>\n",
              "      <td>0.009321</td>\n",
              "    </tr>\n",
              "    <tr>\n",
              "      <th>2011-02-01</th>\n",
              "      <td>362</td>\n",
              "      <td>0.408898</td>\n",
              "      <td>0.167408</td>\n",
              "      <td>0.000000</td>\n",
              "      <td>0.292135</td>\n",
              "      <td>0.246917</td>\n",
              "      <td>0.005992</td>\n",
              "    </tr>\n",
              "    <tr>\n",
              "      <th>2011-03-01</th>\n",
              "      <td>376</td>\n",
              "      <td>0.495763</td>\n",
              "      <td>0.189919</td>\n",
              "      <td>0.003429</td>\n",
              "      <td>0.097378</td>\n",
              "      <td>0.171609</td>\n",
              "      <td>0.020639</td>\n",
              "    </tr>\n",
              "    <tr>\n",
              "      <th>2011-04-01</th>\n",
              "      <td>383</td>\n",
              "      <td>0.711864</td>\n",
              "      <td>0.184440</td>\n",
              "      <td>0.034095</td>\n",
              "      <td>0.106742</td>\n",
              "      <td>0.130817</td>\n",
              "      <td>0.034621</td>\n",
              "    </tr>\n",
              "  </tbody>\n",
              "</table>\n",
              "</div>\n",
              "      <button class=\"colab-df-convert\" onclick=\"convertToInteractive('df-209cbfb7-d1b0-46f2-9b02-5d4adce18538')\"\n",
              "              title=\"Convert this dataframe to an interactive table.\"\n",
              "              style=\"display:none;\">\n",
              "        \n",
              "  <svg xmlns=\"http://www.w3.org/2000/svg\" height=\"24px\"viewBox=\"0 0 24 24\"\n",
              "       width=\"24px\">\n",
              "    <path d=\"M0 0h24v24H0V0z\" fill=\"none\"/>\n",
              "    <path d=\"M18.56 5.44l.94 2.06.94-2.06 2.06-.94-2.06-.94-.94-2.06-.94 2.06-2.06.94zm-11 1L8.5 8.5l.94-2.06 2.06-.94-2.06-.94L8.5 2.5l-.94 2.06-2.06.94zm10 10l.94 2.06.94-2.06 2.06-.94-2.06-.94-.94-2.06-.94 2.06-2.06.94z\"/><path d=\"M17.41 7.96l-1.37-1.37c-.4-.4-.92-.59-1.43-.59-.52 0-1.04.2-1.43.59L10.3 9.45l-7.72 7.72c-.78.78-.78 2.05 0 2.83L4 21.41c.39.39.9.59 1.41.59.51 0 1.02-.2 1.41-.59l7.78-7.78 2.81-2.81c.8-.78.8-2.07 0-2.86zM5.41 20L4 18.59l7.72-7.72 1.47 1.35L5.41 20z\"/>\n",
              "  </svg>\n",
              "      </button>\n",
              "      \n",
              "  <style>\n",
              "    .colab-df-container {\n",
              "      display:flex;\n",
              "      flex-wrap:wrap;\n",
              "      gap: 12px;\n",
              "    }\n",
              "\n",
              "    .colab-df-convert {\n",
              "      background-color: #E8F0FE;\n",
              "      border: none;\n",
              "      border-radius: 50%;\n",
              "      cursor: pointer;\n",
              "      display: none;\n",
              "      fill: #1967D2;\n",
              "      height: 32px;\n",
              "      padding: 0 0 0 0;\n",
              "      width: 32px;\n",
              "    }\n",
              "\n",
              "    .colab-df-convert:hover {\n",
              "      background-color: #E2EBFA;\n",
              "      box-shadow: 0px 1px 2px rgba(60, 64, 67, 0.3), 0px 1px 3px 1px rgba(60, 64, 67, 0.15);\n",
              "      fill: #174EA6;\n",
              "    }\n",
              "\n",
              "    [theme=dark] .colab-df-convert {\n",
              "      background-color: #3B4455;\n",
              "      fill: #D2E3FC;\n",
              "    }\n",
              "\n",
              "    [theme=dark] .colab-df-convert:hover {\n",
              "      background-color: #434B5C;\n",
              "      box-shadow: 0px 1px 3px 1px rgba(0, 0, 0, 0.15);\n",
              "      filter: drop-shadow(0px 1px 2px rgba(0, 0, 0, 0.3));\n",
              "      fill: #FFFFFF;\n",
              "    }\n",
              "  </style>\n",
              "\n",
              "      <script>\n",
              "        const buttonEl =\n",
              "          document.querySelector('#df-209cbfb7-d1b0-46f2-9b02-5d4adce18538 button.colab-df-convert');\n",
              "        buttonEl.style.display =\n",
              "          google.colab.kernel.accessAllowed ? 'block' : 'none';\n",
              "\n",
              "        async function convertToInteractive(key) {\n",
              "          const element = document.querySelector('#df-209cbfb7-d1b0-46f2-9b02-5d4adce18538');\n",
              "          const dataTable =\n",
              "            await google.colab.kernel.invokeFunction('convertToInteractive',\n",
              "                                                     [key], {});\n",
              "          if (!dataTable) return;\n",
              "\n",
              "          const docLinkHtml = 'Like what you see? Visit the ' +\n",
              "            '<a target=\"_blank\" href=https://colab.research.google.com/notebooks/data_table.ipynb>data table notebook</a>'\n",
              "            + ' to learn more about interactive tables.';\n",
              "          element.innerHTML = '';\n",
              "          dataTable['output_type'] = 'display_data';\n",
              "          await google.colab.output.renderOutput(dataTable, element);\n",
              "          const docLink = document.createElement('div');\n",
              "          docLink.innerHTML = docLinkHtml;\n",
              "          element.appendChild(docLink);\n",
              "        }\n",
              "      </script>\n",
              "    </div>\n",
              "  </div>\n",
              "  "
            ]
          },
          "metadata": {},
          "execution_count": 13
        }
      ]
    },
    {
      "cell_type": "code",
      "source": [
        "cpo_pri_transformer = MinMaxScaler()\n",
        "cpo_pri_transformer = cpo_pri_transformer.fit(train[['cpo_pri']])\n",
        "train['cpo_pri'] = cpo_pri_transformer.transform(train[['cpo_pri']])\n",
        "train['cpo_pri'].head()"
      ],
      "metadata": {
        "colab": {
          "base_uri": "https://localhost:8080/"
        },
        "id": "XNkE4gN9nJLt",
        "outputId": "7680720e-d8c5-4d9b-8de5-aed009416950"
      },
      "execution_count": 14,
      "outputs": [
        {
          "output_type": "execute_result",
          "data": {
            "text/plain": [
              "date\n",
              "2010-12-01    0.0100\n",
              "2011-01-01    0.0650\n",
              "2011-02-01    0.1075\n",
              "2011-03-01    0.1425\n",
              "2011-04-01    0.1600\n",
              "Name: cpo_pri, dtype: float64"
            ]
          },
          "metadata": {},
          "execution_count": 14
        }
      ]
    },
    {
      "cell_type": "code",
      "source": [
        "test.loc[:, feature_columns] = f_transformer.transform(test[feature_columns].to_numpy())\n",
        "test.head()"
      ],
      "metadata": {
        "colab": {
          "base_uri": "https://localhost:8080/",
          "height": 232
        },
        "id": "aouQuJG5n6k8",
        "outputId": "610ad3d4-93de-43ff-cad1-c2bdd8a0787a"
      },
      "execution_count": 15,
      "outputs": [
        {
          "output_type": "execute_result",
          "data": {
            "text/plain": [
              "            cpo_pri   cno_pri   oli_pri   rps_pri   pno_pri   sbo_pri  \\\n",
              "date                                                                    \n",
              "2019-03-01      354  0.637712  0.194855  0.382454  0.381292 -0.039662   \n",
              "2019-04-01      348  0.533898  0.264388  0.393951  0.213633 -0.054975   \n",
              "2019-05-01      332  0.400424  0.246417  0.453802  0.235262 -0.092159   \n",
              "2019-06-01      349  0.317797  0.234308  0.509834  0.320749 -0.074743   \n",
              "2019-07-01      372  0.313559  0.223422  0.526454  0.426610 -0.066114   \n",
              "\n",
              "             sfo_pri  \n",
              "date                  \n",
              "2019-03-01  0.493342  \n",
              "2019-04-01  0.597870  \n",
              "2019-05-01  0.606525  \n",
              "2019-06-01  0.631824  \n",
              "2019-07-01  0.773462  "
            ],
            "text/html": [
              "\n",
              "  <div id=\"df-b69c514a-387e-4ab3-b0e0-dcead6a9b258\">\n",
              "    <div class=\"colab-df-container\">\n",
              "      <div>\n",
              "<style scoped>\n",
              "    .dataframe tbody tr th:only-of-type {\n",
              "        vertical-align: middle;\n",
              "    }\n",
              "\n",
              "    .dataframe tbody tr th {\n",
              "        vertical-align: top;\n",
              "    }\n",
              "\n",
              "    .dataframe thead th {\n",
              "        text-align: right;\n",
              "    }\n",
              "</style>\n",
              "<table border=\"1\" class=\"dataframe\">\n",
              "  <thead>\n",
              "    <tr style=\"text-align: right;\">\n",
              "      <th></th>\n",
              "      <th>cpo_pri</th>\n",
              "      <th>cno_pri</th>\n",
              "      <th>oli_pri</th>\n",
              "      <th>rps_pri</th>\n",
              "      <th>pno_pri</th>\n",
              "      <th>sbo_pri</th>\n",
              "      <th>sfo_pri</th>\n",
              "    </tr>\n",
              "    <tr>\n",
              "      <th>date</th>\n",
              "      <th></th>\n",
              "      <th></th>\n",
              "      <th></th>\n",
              "      <th></th>\n",
              "      <th></th>\n",
              "      <th></th>\n",
              "      <th></th>\n",
              "    </tr>\n",
              "  </thead>\n",
              "  <tbody>\n",
              "    <tr>\n",
              "      <th>2019-03-01</th>\n",
              "      <td>354</td>\n",
              "      <td>0.637712</td>\n",
              "      <td>0.194855</td>\n",
              "      <td>0.382454</td>\n",
              "      <td>0.381292</td>\n",
              "      <td>-0.039662</td>\n",
              "      <td>0.493342</td>\n",
              "    </tr>\n",
              "    <tr>\n",
              "      <th>2019-04-01</th>\n",
              "      <td>348</td>\n",
              "      <td>0.533898</td>\n",
              "      <td>0.264388</td>\n",
              "      <td>0.393951</td>\n",
              "      <td>0.213633</td>\n",
              "      <td>-0.054975</td>\n",
              "      <td>0.597870</td>\n",
              "    </tr>\n",
              "    <tr>\n",
              "      <th>2019-05-01</th>\n",
              "      <td>332</td>\n",
              "      <td>0.400424</td>\n",
              "      <td>0.246417</td>\n",
              "      <td>0.453802</td>\n",
              "      <td>0.235262</td>\n",
              "      <td>-0.092159</td>\n",
              "      <td>0.606525</td>\n",
              "    </tr>\n",
              "    <tr>\n",
              "      <th>2019-06-01</th>\n",
              "      <td>349</td>\n",
              "      <td>0.317797</td>\n",
              "      <td>0.234308</td>\n",
              "      <td>0.509834</td>\n",
              "      <td>0.320749</td>\n",
              "      <td>-0.074743</td>\n",
              "      <td>0.631824</td>\n",
              "    </tr>\n",
              "    <tr>\n",
              "      <th>2019-07-01</th>\n",
              "      <td>372</td>\n",
              "      <td>0.313559</td>\n",
              "      <td>0.223422</td>\n",
              "      <td>0.526454</td>\n",
              "      <td>0.426610</td>\n",
              "      <td>-0.066114</td>\n",
              "      <td>0.773462</td>\n",
              "    </tr>\n",
              "  </tbody>\n",
              "</table>\n",
              "</div>\n",
              "      <button class=\"colab-df-convert\" onclick=\"convertToInteractive('df-b69c514a-387e-4ab3-b0e0-dcead6a9b258')\"\n",
              "              title=\"Convert this dataframe to an interactive table.\"\n",
              "              style=\"display:none;\">\n",
              "        \n",
              "  <svg xmlns=\"http://www.w3.org/2000/svg\" height=\"24px\"viewBox=\"0 0 24 24\"\n",
              "       width=\"24px\">\n",
              "    <path d=\"M0 0h24v24H0V0z\" fill=\"none\"/>\n",
              "    <path d=\"M18.56 5.44l.94 2.06.94-2.06 2.06-.94-2.06-.94-.94-2.06-.94 2.06-2.06.94zm-11 1L8.5 8.5l.94-2.06 2.06-.94-2.06-.94L8.5 2.5l-.94 2.06-2.06.94zm10 10l.94 2.06.94-2.06 2.06-.94-2.06-.94-.94-2.06-.94 2.06-2.06.94z\"/><path d=\"M17.41 7.96l-1.37-1.37c-.4-.4-.92-.59-1.43-.59-.52 0-1.04.2-1.43.59L10.3 9.45l-7.72 7.72c-.78.78-.78 2.05 0 2.83L4 21.41c.39.39.9.59 1.41.59.51 0 1.02-.2 1.41-.59l7.78-7.78 2.81-2.81c.8-.78.8-2.07 0-2.86zM5.41 20L4 18.59l7.72-7.72 1.47 1.35L5.41 20z\"/>\n",
              "  </svg>\n",
              "      </button>\n",
              "      \n",
              "  <style>\n",
              "    .colab-df-container {\n",
              "      display:flex;\n",
              "      flex-wrap:wrap;\n",
              "      gap: 12px;\n",
              "    }\n",
              "\n",
              "    .colab-df-convert {\n",
              "      background-color: #E8F0FE;\n",
              "      border: none;\n",
              "      border-radius: 50%;\n",
              "      cursor: pointer;\n",
              "      display: none;\n",
              "      fill: #1967D2;\n",
              "      height: 32px;\n",
              "      padding: 0 0 0 0;\n",
              "      width: 32px;\n",
              "    }\n",
              "\n",
              "    .colab-df-convert:hover {\n",
              "      background-color: #E2EBFA;\n",
              "      box-shadow: 0px 1px 2px rgba(60, 64, 67, 0.3), 0px 1px 3px 1px rgba(60, 64, 67, 0.15);\n",
              "      fill: #174EA6;\n",
              "    }\n",
              "\n",
              "    [theme=dark] .colab-df-convert {\n",
              "      background-color: #3B4455;\n",
              "      fill: #D2E3FC;\n",
              "    }\n",
              "\n",
              "    [theme=dark] .colab-df-convert:hover {\n",
              "      background-color: #434B5C;\n",
              "      box-shadow: 0px 1px 3px 1px rgba(0, 0, 0, 0.15);\n",
              "      filter: drop-shadow(0px 1px 2px rgba(0, 0, 0, 0.3));\n",
              "      fill: #FFFFFF;\n",
              "    }\n",
              "  </style>\n",
              "\n",
              "      <script>\n",
              "        const buttonEl =\n",
              "          document.querySelector('#df-b69c514a-387e-4ab3-b0e0-dcead6a9b258 button.colab-df-convert');\n",
              "        buttonEl.style.display =\n",
              "          google.colab.kernel.accessAllowed ? 'block' : 'none';\n",
              "\n",
              "        async function convertToInteractive(key) {\n",
              "          const element = document.querySelector('#df-b69c514a-387e-4ab3-b0e0-dcead6a9b258');\n",
              "          const dataTable =\n",
              "            await google.colab.kernel.invokeFunction('convertToInteractive',\n",
              "                                                     [key], {});\n",
              "          if (!dataTable) return;\n",
              "\n",
              "          const docLinkHtml = 'Like what you see? Visit the ' +\n",
              "            '<a target=\"_blank\" href=https://colab.research.google.com/notebooks/data_table.ipynb>data table notebook</a>'\n",
              "            + ' to learn more about interactive tables.';\n",
              "          element.innerHTML = '';\n",
              "          dataTable['output_type'] = 'display_data';\n",
              "          await google.colab.output.renderOutput(dataTable, element);\n",
              "          const docLink = document.createElement('div');\n",
              "          docLink.innerHTML = docLinkHtml;\n",
              "          element.appendChild(docLink);\n",
              "        }\n",
              "      </script>\n",
              "    </div>\n",
              "  </div>\n",
              "  "
            ]
          },
          "metadata": {},
          "execution_count": 15
        }
      ]
    },
    {
      "cell_type": "code",
      "source": [
        "test['cpo_pri'] = cpo_pri_transformer.transform(test[['cpo_pri']])\n",
        "test['cpo_pri'].head()"
      ],
      "metadata": {
        "colab": {
          "base_uri": "https://localhost:8080/"
        },
        "id": "GXgFSrz3n6o5",
        "outputId": "6dbfa822-c539-41e9-a998-4134eac21b57"
      },
      "execution_count": 16,
      "outputs": [
        {
          "output_type": "execute_result",
          "data": {
            "text/plain": [
              "date\n",
              "2019-03-01    0.0875\n",
              "2019-04-01    0.0725\n",
              "2019-05-01    0.0325\n",
              "2019-06-01    0.0750\n",
              "2019-07-01    0.1325\n",
              "Name: cpo_pri, dtype: float64"
            ]
          },
          "metadata": {},
          "execution_count": 16
        }
      ]
    },
    {
      "cell_type": "markdown",
      "source": [
        "###Create X_train, y_train, X_test and y_test"
      ],
      "metadata": {
        "id": "p_2s3AO-ohCD"
      }
    },
    {
      "cell_type": "code",
      "source": [
        "def createDataset(X, y, time_steps):\n",
        "    Xs, ys = [], []\n",
        "    for i in range(len(X) - time_steps):\n",
        "        data = X.iloc[i:(i + time_steps)].values\n",
        "        Xs.append(data)        \n",
        "        ys.append(y.iloc[i + time_steps])\n",
        "        \n",
        "    return np.array(Xs), np.array(ys)\n",
        "\n",
        "time_steps = 3\n",
        "X_train, y_train = createDataset(train, train.cpo_pri, time_steps)\n",
        "X_test, y_test = createDataset(test, test.cpo_pri, time_steps)\n",
        "print(X_train.shape, y_train.shape)"
      ],
      "metadata": {
        "colab": {
          "base_uri": "https://localhost:8080/"
        },
        "id": "fGTyTKiYoJIb",
        "outputId": "1f3c0baf-0c52-41fc-f504-3df328f64cd1"
      },
      "execution_count": 19,
      "outputs": [
        {
          "output_type": "stream",
          "name": "stdout",
          "text": [
            "(96, 3, 7) (96,)\n"
          ]
        }
      ]
    },
    {
      "cell_type": "code",
      "source": [
        "#test_lag = test[1:23]\n",
        "#len(test) - 1"
      ],
      "metadata": {
        "id": "dt_elxfcLh_b"
      },
      "execution_count": null,
      "outputs": []
    },
    {
      "cell_type": "code",
      "source": [
        "#decrement naturally.\n",
        "#shifted = test.set_index([\"date\"]).unstack().shift(3).stack()"
      ],
      "metadata": {
        "id": "BqpvIj_hKO30"
      },
      "execution_count": null,
      "outputs": []
    },
    {
      "cell_type": "code",
      "source": [
        "cnn_model = tf.keras.Sequential()\n",
        "cnn_model.add(tf.keras.layers.Conv1D(filters=64, kernel_size=2, activation='tanh', input_shape=(X_test.shape[1], X_test.shape[2])))\n",
        "cnn_model.add(tf.keras.layers.MaxPooling1D(pool_size=2))\n",
        "cnn_model.add(tf.keras.layers.Flatten())\n",
        "cnn_model.add(tf.keras.layers.Dense(64, activation='tanh'))\n",
        "cnn_model.add(tf.keras.layers.Dense(1, 'linear'))\n",
        "\n",
        "# compile model using adam\n",
        "cnn_model.compile(optimizer='adam',loss='mse',metrics=['mse'])\n",
        "# model training\n",
        "history = cnn_model.fit(X_train, y_train, epochs=300, batch_size = 128, validation_split=0.2) #epochs = 30, batch_size = 60\n",
        "\n",
        "# model evaluation\n",
        "cnn_model.evaluate(X_test, y_test)\n",
        "\n",
        "\n",
        "#cnn_model.compile(loss='mse', optimizer='adam')\n",
        "#cnn_model.summary()\n",
        "#bst -> epochs = 300, batch_size = 128, RMSE = 32\n",
        "#bst -> epochs = 350, batch_size = 100, RMSE = 36\n",
        "#bst -> epochs = 400, batch_size = 128, RMSE = 39"
      ],
      "metadata": {
        "id": "EkQPUIAQOvX9",
        "outputId": "067a4a7a-f401-48fd-b5e0-3cc2ac9bb8ba",
        "colab": {
          "base_uri": "https://localhost:8080/"
        }
      },
      "execution_count": 20,
      "outputs": [
        {
          "output_type": "stream",
          "name": "stdout",
          "text": [
            "Epoch 1/300\n",
            "1/1 [==============================] - 9s 9s/step - loss: 0.4581 - mse: 0.4581 - val_loss: 0.6216 - val_mse: 0.6216\n",
            "Epoch 2/300\n",
            "1/1 [==============================] - 0s 27ms/step - loss: 0.2858 - mse: 0.2858 - val_loss: 0.4097 - val_mse: 0.4097\n",
            "Epoch 3/300\n",
            "1/1 [==============================] - 0s 25ms/step - loss: 0.1590 - mse: 0.1590 - val_loss: 0.2525 - val_mse: 0.2525\n",
            "Epoch 4/300\n",
            "1/1 [==============================] - 0s 23ms/step - loss: 0.0762 - mse: 0.0762 - val_loss: 0.1470 - val_mse: 0.1470\n",
            "Epoch 5/300\n",
            "1/1 [==============================] - 0s 23ms/step - loss: 0.0336 - mse: 0.0336 - val_loss: 0.0872 - val_mse: 0.0872\n",
            "Epoch 6/300\n",
            "1/1 [==============================] - 0s 24ms/step - loss: 0.0245 - mse: 0.0245 - val_loss: 0.0629 - val_mse: 0.0629\n",
            "Epoch 7/300\n",
            "1/1 [==============================] - 0s 26ms/step - loss: 0.0385 - mse: 0.0385 - val_loss: 0.0601 - val_mse: 0.0601\n",
            "Epoch 8/300\n",
            "1/1 [==============================] - 0s 23ms/step - loss: 0.0618 - mse: 0.0618 - val_loss: 0.0649 - val_mse: 0.0649\n",
            "Epoch 9/300\n",
            "1/1 [==============================] - 0s 24ms/step - loss: 0.0821 - mse: 0.0821 - val_loss: 0.0679 - val_mse: 0.0679\n",
            "Epoch 10/300\n",
            "1/1 [==============================] - 0s 24ms/step - loss: 0.0922 - mse: 0.0922 - val_loss: 0.0659 - val_mse: 0.0659\n",
            "Epoch 11/300\n",
            "1/1 [==============================] - 0s 25ms/step - loss: 0.0909 - mse: 0.0909 - val_loss: 0.0598 - val_mse: 0.0598\n",
            "Epoch 12/300\n",
            "1/1 [==============================] - 0s 26ms/step - loss: 0.0807 - mse: 0.0807 - val_loss: 0.0523 - val_mse: 0.0523\n",
            "Epoch 13/300\n",
            "1/1 [==============================] - 0s 29ms/step - loss: 0.0653 - mse: 0.0653 - val_loss: 0.0467 - val_mse: 0.0467\n",
            "Epoch 14/300\n",
            "1/1 [==============================] - 0s 24ms/step - loss: 0.0489 - mse: 0.0489 - val_loss: 0.0453 - val_mse: 0.0453\n",
            "Epoch 15/300\n",
            "1/1 [==============================] - 0s 25ms/step - loss: 0.0346 - mse: 0.0346 - val_loss: 0.0491 - val_mse: 0.0491\n",
            "Epoch 16/300\n",
            "1/1 [==============================] - 0s 25ms/step - loss: 0.0243 - mse: 0.0243 - val_loss: 0.0580 - val_mse: 0.0580\n",
            "Epoch 17/300\n",
            "1/1 [==============================] - 0s 41ms/step - loss: 0.0188 - mse: 0.0188 - val_loss: 0.0708 - val_mse: 0.0708\n",
            "Epoch 18/300\n",
            "1/1 [==============================] - 0s 25ms/step - loss: 0.0179 - mse: 0.0179 - val_loss: 0.0854 - val_mse: 0.0854\n",
            "Epoch 19/300\n",
            "1/1 [==============================] - 0s 25ms/step - loss: 0.0203 - mse: 0.0203 - val_loss: 0.0993 - val_mse: 0.0993\n",
            "Epoch 20/300\n",
            "1/1 [==============================] - 0s 26ms/step - loss: 0.0246 - mse: 0.0246 - val_loss: 0.1106 - val_mse: 0.1106\n",
            "Epoch 21/300\n",
            "1/1 [==============================] - 0s 32ms/step - loss: 0.0290 - mse: 0.0290 - val_loss: 0.1174 - val_mse: 0.1174\n",
            "Epoch 22/300\n",
            "1/1 [==============================] - 0s 25ms/step - loss: 0.0324 - mse: 0.0324 - val_loss: 0.1190 - val_mse: 0.1190\n",
            "Epoch 23/300\n",
            "1/1 [==============================] - 0s 25ms/step - loss: 0.0338 - mse: 0.0338 - val_loss: 0.1156 - val_mse: 0.1156\n",
            "Epoch 24/300\n",
            "1/1 [==============================] - 0s 24ms/step - loss: 0.0331 - mse: 0.0331 - val_loss: 0.1078 - val_mse: 0.1078\n",
            "Epoch 25/300\n",
            "1/1 [==============================] - 0s 30ms/step - loss: 0.0305 - mse: 0.0305 - val_loss: 0.0969 - val_mse: 0.0969\n",
            "Epoch 26/300\n",
            "1/1 [==============================] - 0s 25ms/step - loss: 0.0269 - mse: 0.0269 - val_loss: 0.0843 - val_mse: 0.0843\n",
            "Epoch 27/300\n",
            "1/1 [==============================] - 0s 25ms/step - loss: 0.0228 - mse: 0.0228 - val_loss: 0.0715 - val_mse: 0.0715\n",
            "Epoch 28/300\n",
            "1/1 [==============================] - 0s 26ms/step - loss: 0.0191 - mse: 0.0191 - val_loss: 0.0595 - val_mse: 0.0595\n",
            "Epoch 29/300\n",
            "1/1 [==============================] - 0s 28ms/step - loss: 0.0164 - mse: 0.0164 - val_loss: 0.0492 - val_mse: 0.0492\n",
            "Epoch 30/300\n",
            "1/1 [==============================] - 0s 30ms/step - loss: 0.0148 - mse: 0.0148 - val_loss: 0.0410 - val_mse: 0.0410\n",
            "Epoch 31/300\n",
            "1/1 [==============================] - 0s 29ms/step - loss: 0.0144 - mse: 0.0144 - val_loss: 0.0349 - val_mse: 0.0349\n",
            "Epoch 32/300\n",
            "1/1 [==============================] - 0s 26ms/step - loss: 0.0150 - mse: 0.0150 - val_loss: 0.0306 - val_mse: 0.0306\n",
            "Epoch 33/300\n",
            "1/1 [==============================] - 0s 32ms/step - loss: 0.0160 - mse: 0.0160 - val_loss: 0.0278 - val_mse: 0.0278\n",
            "Epoch 34/300\n",
            "1/1 [==============================] - 0s 25ms/step - loss: 0.0171 - mse: 0.0171 - val_loss: 0.0261 - val_mse: 0.0261\n",
            "Epoch 35/300\n",
            "1/1 [==============================] - 0s 25ms/step - loss: 0.0179 - mse: 0.0179 - val_loss: 0.0251 - val_mse: 0.0251\n",
            "Epoch 36/300\n",
            "1/1 [==============================] - 0s 25ms/step - loss: 0.0181 - mse: 0.0181 - val_loss: 0.0246 - val_mse: 0.0246\n",
            "Epoch 37/300\n",
            "1/1 [==============================] - 0s 26ms/step - loss: 0.0176 - mse: 0.0176 - val_loss: 0.0246 - val_mse: 0.0246\n",
            "Epoch 38/300\n",
            "1/1 [==============================] - 0s 31ms/step - loss: 0.0166 - mse: 0.0166 - val_loss: 0.0250 - val_mse: 0.0250\n",
            "Epoch 39/300\n",
            "1/1 [==============================] - 0s 25ms/step - loss: 0.0153 - mse: 0.0153 - val_loss: 0.0260 - val_mse: 0.0260\n",
            "Epoch 40/300\n",
            "1/1 [==============================] - 0s 25ms/step - loss: 0.0140 - mse: 0.0140 - val_loss: 0.0275 - val_mse: 0.0275\n",
            "Epoch 41/300\n",
            "1/1 [==============================] - 0s 29ms/step - loss: 0.0129 - mse: 0.0129 - val_loss: 0.0294 - val_mse: 0.0294\n",
            "Epoch 42/300\n",
            "1/1 [==============================] - 0s 27ms/step - loss: 0.0122 - mse: 0.0122 - val_loss: 0.0315 - val_mse: 0.0315\n",
            "Epoch 43/300\n",
            "1/1 [==============================] - 0s 25ms/step - loss: 0.0119 - mse: 0.0119 - val_loss: 0.0336 - val_mse: 0.0336\n",
            "Epoch 44/300\n",
            "1/1 [==============================] - 0s 25ms/step - loss: 0.0119 - mse: 0.0119 - val_loss: 0.0354 - val_mse: 0.0354\n",
            "Epoch 45/300\n",
            "1/1 [==============================] - 0s 28ms/step - loss: 0.0121 - mse: 0.0121 - val_loss: 0.0366 - val_mse: 0.0366\n",
            "Epoch 46/300\n",
            "1/1 [==============================] - 0s 28ms/step - loss: 0.0124 - mse: 0.0124 - val_loss: 0.0371 - val_mse: 0.0371\n",
            "Epoch 47/300\n",
            "1/1 [==============================] - 0s 24ms/step - loss: 0.0125 - mse: 0.0125 - val_loss: 0.0366 - val_mse: 0.0366\n",
            "Epoch 48/300\n",
            "1/1 [==============================] - 0s 25ms/step - loss: 0.0125 - mse: 0.0125 - val_loss: 0.0354 - val_mse: 0.0354\n",
            "Epoch 49/300\n",
            "1/1 [==============================] - 0s 28ms/step - loss: 0.0122 - mse: 0.0122 - val_loss: 0.0336 - val_mse: 0.0336\n",
            "Epoch 50/300\n",
            "1/1 [==============================] - 0s 35ms/step - loss: 0.0118 - mse: 0.0118 - val_loss: 0.0313 - val_mse: 0.0313\n",
            "Epoch 51/300\n",
            "1/1 [==============================] - 0s 24ms/step - loss: 0.0113 - mse: 0.0113 - val_loss: 0.0288 - val_mse: 0.0288\n",
            "Epoch 52/300\n",
            "1/1 [==============================] - 0s 26ms/step - loss: 0.0108 - mse: 0.0108 - val_loss: 0.0264 - val_mse: 0.0264\n",
            "Epoch 53/300\n",
            "1/1 [==============================] - 0s 25ms/step - loss: 0.0104 - mse: 0.0104 - val_loss: 0.0242 - val_mse: 0.0242\n",
            "Epoch 54/300\n",
            "1/1 [==============================] - 0s 33ms/step - loss: 0.0102 - mse: 0.0102 - val_loss: 0.0224 - val_mse: 0.0224\n",
            "Epoch 55/300\n",
            "1/1 [==============================] - 0s 27ms/step - loss: 0.0101 - mse: 0.0101 - val_loss: 0.0209 - val_mse: 0.0209\n",
            "Epoch 56/300\n",
            "1/1 [==============================] - 0s 24ms/step - loss: 0.0101 - mse: 0.0101 - val_loss: 0.0198 - val_mse: 0.0198\n",
            "Epoch 57/300\n",
            "1/1 [==============================] - 0s 32ms/step - loss: 0.0101 - mse: 0.0101 - val_loss: 0.0191 - val_mse: 0.0191\n",
            "Epoch 58/300\n",
            "1/1 [==============================] - 0s 27ms/step - loss: 0.0101 - mse: 0.0101 - val_loss: 0.0186 - val_mse: 0.0186\n",
            "Epoch 59/300\n",
            "1/1 [==============================] - 0s 25ms/step - loss: 0.0101 - mse: 0.0101 - val_loss: 0.0183 - val_mse: 0.0183\n",
            "Epoch 60/300\n",
            "1/1 [==============================] - 0s 26ms/step - loss: 0.0100 - mse: 0.0100 - val_loss: 0.0181 - val_mse: 0.0181\n",
            "Epoch 61/300\n",
            "1/1 [==============================] - 0s 24ms/step - loss: 0.0098 - mse: 0.0098 - val_loss: 0.0181 - val_mse: 0.0181\n",
            "Epoch 62/300\n",
            "1/1 [==============================] - 0s 29ms/step - loss: 0.0095 - mse: 0.0095 - val_loss: 0.0182 - val_mse: 0.0182\n",
            "Epoch 63/300\n",
            "1/1 [==============================] - 0s 24ms/step - loss: 0.0093 - mse: 0.0093 - val_loss: 0.0184 - val_mse: 0.0184\n",
            "Epoch 64/300\n",
            "1/1 [==============================] - 0s 24ms/step - loss: 0.0092 - mse: 0.0092 - val_loss: 0.0186 - val_mse: 0.0186\n",
            "Epoch 65/300\n",
            "1/1 [==============================] - 0s 26ms/step - loss: 0.0090 - mse: 0.0090 - val_loss: 0.0188 - val_mse: 0.0188\n",
            "Epoch 66/300\n",
            "1/1 [==============================] - 0s 23ms/step - loss: 0.0090 - mse: 0.0090 - val_loss: 0.0189 - val_mse: 0.0189\n",
            "Epoch 67/300\n",
            "1/1 [==============================] - 0s 24ms/step - loss: 0.0090 - mse: 0.0090 - val_loss: 0.0189 - val_mse: 0.0189\n",
            "Epoch 68/300\n",
            "1/1 [==============================] - 0s 24ms/step - loss: 0.0089 - mse: 0.0089 - val_loss: 0.0187 - val_mse: 0.0187\n",
            "Epoch 69/300\n",
            "1/1 [==============================] - 0s 24ms/step - loss: 0.0089 - mse: 0.0089 - val_loss: 0.0184 - val_mse: 0.0184\n",
            "Epoch 70/300\n",
            "1/1 [==============================] - 0s 29ms/step - loss: 0.0088 - mse: 0.0088 - val_loss: 0.0180 - val_mse: 0.0180\n",
            "Epoch 71/300\n",
            "1/1 [==============================] - 0s 24ms/step - loss: 0.0088 - mse: 0.0088 - val_loss: 0.0175 - val_mse: 0.0175\n",
            "Epoch 72/300\n",
            "1/1 [==============================] - 0s 24ms/step - loss: 0.0087 - mse: 0.0087 - val_loss: 0.0169 - val_mse: 0.0169\n",
            "Epoch 73/300\n",
            "1/1 [==============================] - 0s 24ms/step - loss: 0.0085 - mse: 0.0085 - val_loss: 0.0164 - val_mse: 0.0164\n",
            "Epoch 74/300\n",
            "1/1 [==============================] - 0s 25ms/step - loss: 0.0085 - mse: 0.0085 - val_loss: 0.0159 - val_mse: 0.0159\n",
            "Epoch 75/300\n",
            "1/1 [==============================] - 0s 30ms/step - loss: 0.0084 - mse: 0.0084 - val_loss: 0.0156 - val_mse: 0.0156\n",
            "Epoch 76/300\n",
            "1/1 [==============================] - 0s 25ms/step - loss: 0.0083 - mse: 0.0083 - val_loss: 0.0153 - val_mse: 0.0153\n",
            "Epoch 77/300\n",
            "1/1 [==============================] - 0s 25ms/step - loss: 0.0083 - mse: 0.0083 - val_loss: 0.0151 - val_mse: 0.0151\n",
            "Epoch 78/300\n",
            "1/1 [==============================] - 0s 24ms/step - loss: 0.0083 - mse: 0.0083 - val_loss: 0.0150 - val_mse: 0.0150\n",
            "Epoch 79/300\n",
            "1/1 [==============================] - 0s 30ms/step - loss: 0.0083 - mse: 0.0083 - val_loss: 0.0149 - val_mse: 0.0149\n",
            "Epoch 80/300\n",
            "1/1 [==============================] - 0s 28ms/step - loss: 0.0082 - mse: 0.0082 - val_loss: 0.0148 - val_mse: 0.0148\n",
            "Epoch 81/300\n",
            "1/1 [==============================] - 0s 33ms/step - loss: 0.0082 - mse: 0.0082 - val_loss: 0.0148 - val_mse: 0.0148\n",
            "Epoch 82/300\n",
            "1/1 [==============================] - 0s 32ms/step - loss: 0.0081 - mse: 0.0081 - val_loss: 0.0148 - val_mse: 0.0148\n",
            "Epoch 83/300\n",
            "1/1 [==============================] - 0s 29ms/step - loss: 0.0080 - mse: 0.0080 - val_loss: 0.0147 - val_mse: 0.0147\n",
            "Epoch 84/300\n",
            "1/1 [==============================] - 0s 28ms/step - loss: 0.0080 - mse: 0.0080 - val_loss: 0.0147 - val_mse: 0.0147\n",
            "Epoch 85/300\n",
            "1/1 [==============================] - 0s 28ms/step - loss: 0.0080 - mse: 0.0080 - val_loss: 0.0147 - val_mse: 0.0147\n",
            "Epoch 86/300\n",
            "1/1 [==============================] - 0s 26ms/step - loss: 0.0079 - mse: 0.0079 - val_loss: 0.0147 - val_mse: 0.0147\n",
            "Epoch 87/300\n",
            "1/1 [==============================] - 0s 26ms/step - loss: 0.0079 - mse: 0.0079 - val_loss: 0.0147 - val_mse: 0.0147\n",
            "Epoch 88/300\n",
            "1/1 [==============================] - 0s 30ms/step - loss: 0.0079 - mse: 0.0079 - val_loss: 0.0147 - val_mse: 0.0147\n",
            "Epoch 89/300\n",
            "1/1 [==============================] - 0s 24ms/step - loss: 0.0079 - mse: 0.0079 - val_loss: 0.0146 - val_mse: 0.0146\n",
            "Epoch 90/300\n",
            "1/1 [==============================] - 0s 23ms/step - loss: 0.0078 - mse: 0.0078 - val_loss: 0.0146 - val_mse: 0.0146\n",
            "Epoch 91/300\n",
            "1/1 [==============================] - 0s 24ms/step - loss: 0.0078 - mse: 0.0078 - val_loss: 0.0146 - val_mse: 0.0146\n",
            "Epoch 92/300\n",
            "1/1 [==============================] - 0s 32ms/step - loss: 0.0078 - mse: 0.0078 - val_loss: 0.0146 - val_mse: 0.0146\n",
            "Epoch 93/300\n",
            "1/1 [==============================] - 0s 24ms/step - loss: 0.0077 - mse: 0.0077 - val_loss: 0.0146 - val_mse: 0.0146\n",
            "Epoch 94/300\n",
            "1/1 [==============================] - 0s 24ms/step - loss: 0.0077 - mse: 0.0077 - val_loss: 0.0147 - val_mse: 0.0147\n",
            "Epoch 95/300\n",
            "1/1 [==============================] - 0s 25ms/step - loss: 0.0077 - mse: 0.0077 - val_loss: 0.0147 - val_mse: 0.0147\n",
            "Epoch 96/300\n",
            "1/1 [==============================] - 0s 29ms/step - loss: 0.0077 - mse: 0.0077 - val_loss: 0.0148 - val_mse: 0.0148\n",
            "Epoch 97/300\n",
            "1/1 [==============================] - 0s 24ms/step - loss: 0.0076 - mse: 0.0076 - val_loss: 0.0148 - val_mse: 0.0148\n",
            "Epoch 98/300\n",
            "1/1 [==============================] - 0s 24ms/step - loss: 0.0076 - mse: 0.0076 - val_loss: 0.0149 - val_mse: 0.0149\n",
            "Epoch 99/300\n",
            "1/1 [==============================] - 0s 25ms/step - loss: 0.0076 - mse: 0.0076 - val_loss: 0.0149 - val_mse: 0.0149\n",
            "Epoch 100/300\n",
            "1/1 [==============================] - 0s 24ms/step - loss: 0.0076 - mse: 0.0076 - val_loss: 0.0150 - val_mse: 0.0150\n",
            "Epoch 101/300\n",
            "1/1 [==============================] - 0s 29ms/step - loss: 0.0075 - mse: 0.0075 - val_loss: 0.0150 - val_mse: 0.0150\n",
            "Epoch 102/300\n",
            "1/1 [==============================] - 0s 27ms/step - loss: 0.0075 - mse: 0.0075 - val_loss: 0.0151 - val_mse: 0.0151\n",
            "Epoch 103/300\n",
            "1/1 [==============================] - 0s 25ms/step - loss: 0.0075 - mse: 0.0075 - val_loss: 0.0151 - val_mse: 0.0151\n",
            "Epoch 104/300\n",
            "1/1 [==============================] - 0s 24ms/step - loss: 0.0075 - mse: 0.0075 - val_loss: 0.0151 - val_mse: 0.0151\n",
            "Epoch 105/300\n",
            "1/1 [==============================] - 0s 25ms/step - loss: 0.0075 - mse: 0.0075 - val_loss: 0.0152 - val_mse: 0.0152\n",
            "Epoch 106/300\n",
            "1/1 [==============================] - 0s 26ms/step - loss: 0.0074 - mse: 0.0074 - val_loss: 0.0153 - val_mse: 0.0153\n",
            "Epoch 107/300\n",
            "1/1 [==============================] - 0s 32ms/step - loss: 0.0074 - mse: 0.0074 - val_loss: 0.0153 - val_mse: 0.0153\n",
            "Epoch 108/300\n",
            "1/1 [==============================] - 0s 25ms/step - loss: 0.0074 - mse: 0.0074 - val_loss: 0.0154 - val_mse: 0.0154\n",
            "Epoch 109/300\n",
            "1/1 [==============================] - 0s 25ms/step - loss: 0.0074 - mse: 0.0074 - val_loss: 0.0155 - val_mse: 0.0155\n",
            "Epoch 110/300\n",
            "1/1 [==============================] - 0s 25ms/step - loss: 0.0074 - mse: 0.0074 - val_loss: 0.0157 - val_mse: 0.0157\n",
            "Epoch 111/300\n",
            "1/1 [==============================] - 0s 28ms/step - loss: 0.0074 - mse: 0.0074 - val_loss: 0.0158 - val_mse: 0.0158\n",
            "Epoch 112/300\n",
            "1/1 [==============================] - 0s 24ms/step - loss: 0.0073 - mse: 0.0073 - val_loss: 0.0159 - val_mse: 0.0159\n",
            "Epoch 113/300\n",
            "1/1 [==============================] - 0s 30ms/step - loss: 0.0073 - mse: 0.0073 - val_loss: 0.0160 - val_mse: 0.0160\n",
            "Epoch 114/300\n",
            "1/1 [==============================] - 0s 25ms/step - loss: 0.0073 - mse: 0.0073 - val_loss: 0.0161 - val_mse: 0.0161\n",
            "Epoch 115/300\n",
            "1/1 [==============================] - 0s 34ms/step - loss: 0.0073 - mse: 0.0073 - val_loss: 0.0162 - val_mse: 0.0162\n",
            "Epoch 116/300\n",
            "1/1 [==============================] - 0s 25ms/step - loss: 0.0073 - mse: 0.0073 - val_loss: 0.0162 - val_mse: 0.0162\n",
            "Epoch 117/300\n",
            "1/1 [==============================] - 0s 25ms/step - loss: 0.0073 - mse: 0.0073 - val_loss: 0.0163 - val_mse: 0.0163\n",
            "Epoch 118/300\n",
            "1/1 [==============================] - 0s 24ms/step - loss: 0.0072 - mse: 0.0072 - val_loss: 0.0163 - val_mse: 0.0163\n",
            "Epoch 119/300\n",
            "1/1 [==============================] - 0s 31ms/step - loss: 0.0072 - mse: 0.0072 - val_loss: 0.0164 - val_mse: 0.0164\n",
            "Epoch 120/300\n",
            "1/1 [==============================] - 0s 24ms/step - loss: 0.0072 - mse: 0.0072 - val_loss: 0.0165 - val_mse: 0.0165\n",
            "Epoch 121/300\n",
            "1/1 [==============================] - 0s 24ms/step - loss: 0.0072 - mse: 0.0072 - val_loss: 0.0165 - val_mse: 0.0165\n",
            "Epoch 122/300\n",
            "1/1 [==============================] - 0s 24ms/step - loss: 0.0072 - mse: 0.0072 - val_loss: 0.0166 - val_mse: 0.0166\n",
            "Epoch 123/300\n",
            "1/1 [==============================] - 0s 32ms/step - loss: 0.0072 - mse: 0.0072 - val_loss: 0.0167 - val_mse: 0.0167\n",
            "Epoch 124/300\n",
            "1/1 [==============================] - 0s 26ms/step - loss: 0.0071 - mse: 0.0071 - val_loss: 0.0168 - val_mse: 0.0168\n",
            "Epoch 125/300\n",
            "1/1 [==============================] - 0s 30ms/step - loss: 0.0071 - mse: 0.0071 - val_loss: 0.0169 - val_mse: 0.0169\n",
            "Epoch 126/300\n",
            "1/1 [==============================] - 0s 24ms/step - loss: 0.0071 - mse: 0.0071 - val_loss: 0.0170 - val_mse: 0.0170\n",
            "Epoch 127/300\n",
            "1/1 [==============================] - 0s 29ms/step - loss: 0.0071 - mse: 0.0071 - val_loss: 0.0171 - val_mse: 0.0171\n",
            "Epoch 128/300\n",
            "1/1 [==============================] - 0s 27ms/step - loss: 0.0071 - mse: 0.0071 - val_loss: 0.0172 - val_mse: 0.0172\n",
            "Epoch 129/300\n",
            "1/1 [==============================] - 0s 26ms/step - loss: 0.0071 - mse: 0.0071 - val_loss: 0.0173 - val_mse: 0.0173\n",
            "Epoch 130/300\n",
            "1/1 [==============================] - 0s 28ms/step - loss: 0.0071 - mse: 0.0071 - val_loss: 0.0173 - val_mse: 0.0173\n",
            "Epoch 131/300\n",
            "1/1 [==============================] - 0s 25ms/step - loss: 0.0070 - mse: 0.0070 - val_loss: 0.0174 - val_mse: 0.0174\n",
            "Epoch 132/300\n",
            "1/1 [==============================] - 0s 26ms/step - loss: 0.0070 - mse: 0.0070 - val_loss: 0.0175 - val_mse: 0.0175\n",
            "Epoch 133/300\n",
            "1/1 [==============================] - 0s 23ms/step - loss: 0.0070 - mse: 0.0070 - val_loss: 0.0175 - val_mse: 0.0175\n",
            "Epoch 134/300\n",
            "1/1 [==============================] - 0s 25ms/step - loss: 0.0070 - mse: 0.0070 - val_loss: 0.0176 - val_mse: 0.0176\n",
            "Epoch 135/300\n",
            "1/1 [==============================] - 0s 33ms/step - loss: 0.0070 - mse: 0.0070 - val_loss: 0.0176 - val_mse: 0.0176\n",
            "Epoch 136/300\n",
            "1/1 [==============================] - 0s 45ms/step - loss: 0.0070 - mse: 0.0070 - val_loss: 0.0177 - val_mse: 0.0177\n",
            "Epoch 137/300\n",
            "1/1 [==============================] - 0s 25ms/step - loss: 0.0070 - mse: 0.0070 - val_loss: 0.0178 - val_mse: 0.0178\n",
            "Epoch 138/300\n",
            "1/1 [==============================] - 0s 25ms/step - loss: 0.0069 - mse: 0.0069 - val_loss: 0.0178 - val_mse: 0.0178\n",
            "Epoch 139/300\n",
            "1/1 [==============================] - 0s 30ms/step - loss: 0.0069 - mse: 0.0069 - val_loss: 0.0179 - val_mse: 0.0179\n",
            "Epoch 140/300\n",
            "1/1 [==============================] - 0s 24ms/step - loss: 0.0069 - mse: 0.0069 - val_loss: 0.0180 - val_mse: 0.0180\n",
            "Epoch 141/300\n",
            "1/1 [==============================] - 0s 25ms/step - loss: 0.0069 - mse: 0.0069 - val_loss: 0.0180 - val_mse: 0.0180\n",
            "Epoch 142/300\n",
            "1/1 [==============================] - 0s 26ms/step - loss: 0.0069 - mse: 0.0069 - val_loss: 0.0181 - val_mse: 0.0181\n",
            "Epoch 143/300\n",
            "1/1 [==============================] - 0s 23ms/step - loss: 0.0069 - mse: 0.0069 - val_loss: 0.0182 - val_mse: 0.0182\n",
            "Epoch 144/300\n",
            "1/1 [==============================] - 0s 31ms/step - loss: 0.0069 - mse: 0.0069 - val_loss: 0.0183 - val_mse: 0.0183\n",
            "Epoch 145/300\n",
            "1/1 [==============================] - 0s 34ms/step - loss: 0.0069 - mse: 0.0069 - val_loss: 0.0183 - val_mse: 0.0183\n",
            "Epoch 146/300\n",
            "1/1 [==============================] - 0s 26ms/step - loss: 0.0068 - mse: 0.0068 - val_loss: 0.0184 - val_mse: 0.0184\n",
            "Epoch 147/300\n",
            "1/1 [==============================] - 0s 25ms/step - loss: 0.0068 - mse: 0.0068 - val_loss: 0.0185 - val_mse: 0.0185\n",
            "Epoch 148/300\n",
            "1/1 [==============================] - 0s 25ms/step - loss: 0.0068 - mse: 0.0068 - val_loss: 0.0185 - val_mse: 0.0185\n",
            "Epoch 149/300\n",
            "1/1 [==============================] - 0s 28ms/step - loss: 0.0068 - mse: 0.0068 - val_loss: 0.0186 - val_mse: 0.0186\n",
            "Epoch 150/300\n",
            "1/1 [==============================] - 0s 27ms/step - loss: 0.0068 - mse: 0.0068 - val_loss: 0.0186 - val_mse: 0.0186\n",
            "Epoch 151/300\n",
            "1/1 [==============================] - 0s 26ms/step - loss: 0.0068 - mse: 0.0068 - val_loss: 0.0187 - val_mse: 0.0187\n",
            "Epoch 152/300\n",
            "1/1 [==============================] - 0s 26ms/step - loss: 0.0068 - mse: 0.0068 - val_loss: 0.0187 - val_mse: 0.0187\n",
            "Epoch 153/300\n",
            "1/1 [==============================] - 0s 34ms/step - loss: 0.0068 - mse: 0.0068 - val_loss: 0.0188 - val_mse: 0.0188\n",
            "Epoch 154/300\n",
            "1/1 [==============================] - 0s 24ms/step - loss: 0.0067 - mse: 0.0067 - val_loss: 0.0188 - val_mse: 0.0188\n",
            "Epoch 155/300\n",
            "1/1 [==============================] - 0s 26ms/step - loss: 0.0067 - mse: 0.0067 - val_loss: 0.0189 - val_mse: 0.0189\n",
            "Epoch 156/300\n",
            "1/1 [==============================] - 0s 25ms/step - loss: 0.0067 - mse: 0.0067 - val_loss: 0.0189 - val_mse: 0.0189\n",
            "Epoch 157/300\n",
            "1/1 [==============================] - 0s 31ms/step - loss: 0.0067 - mse: 0.0067 - val_loss: 0.0190 - val_mse: 0.0190\n",
            "Epoch 158/300\n",
            "1/1 [==============================] - 0s 24ms/step - loss: 0.0067 - mse: 0.0067 - val_loss: 0.0190 - val_mse: 0.0190\n",
            "Epoch 159/300\n",
            "1/1 [==============================] - 0s 28ms/step - loss: 0.0067 - mse: 0.0067 - val_loss: 0.0191 - val_mse: 0.0191\n",
            "Epoch 160/300\n",
            "1/1 [==============================] - 0s 28ms/step - loss: 0.0067 - mse: 0.0067 - val_loss: 0.0191 - val_mse: 0.0191\n",
            "Epoch 161/300\n",
            "1/1 [==============================] - 0s 27ms/step - loss: 0.0067 - mse: 0.0067 - val_loss: 0.0192 - val_mse: 0.0192\n",
            "Epoch 162/300\n",
            "1/1 [==============================] - 0s 27ms/step - loss: 0.0066 - mse: 0.0066 - val_loss: 0.0192 - val_mse: 0.0192\n",
            "Epoch 163/300\n",
            "1/1 [==============================] - 0s 74ms/step - loss: 0.0066 - mse: 0.0066 - val_loss: 0.0193 - val_mse: 0.0193\n",
            "Epoch 164/300\n",
            "1/1 [==============================] - 0s 53ms/step - loss: 0.0066 - mse: 0.0066 - val_loss: 0.0193 - val_mse: 0.0193\n",
            "Epoch 165/300\n",
            "1/1 [==============================] - 0s 41ms/step - loss: 0.0066 - mse: 0.0066 - val_loss: 0.0194 - val_mse: 0.0194\n",
            "Epoch 166/300\n",
            "1/1 [==============================] - 0s 43ms/step - loss: 0.0066 - mse: 0.0066 - val_loss: 0.0194 - val_mse: 0.0194\n",
            "Epoch 167/300\n",
            "1/1 [==============================] - 0s 53ms/step - loss: 0.0066 - mse: 0.0066 - val_loss: 0.0194 - val_mse: 0.0194\n",
            "Epoch 168/300\n",
            "1/1 [==============================] - 0s 92ms/step - loss: 0.0066 - mse: 0.0066 - val_loss: 0.0195 - val_mse: 0.0195\n",
            "Epoch 169/300\n",
            "1/1 [==============================] - 0s 115ms/step - loss: 0.0066 - mse: 0.0066 - val_loss: 0.0195 - val_mse: 0.0195\n",
            "Epoch 170/300\n",
            "1/1 [==============================] - 0s 63ms/step - loss: 0.0065 - mse: 0.0065 - val_loss: 0.0196 - val_mse: 0.0196\n",
            "Epoch 171/300\n",
            "1/1 [==============================] - 0s 37ms/step - loss: 0.0065 - mse: 0.0065 - val_loss: 0.0196 - val_mse: 0.0196\n",
            "Epoch 172/300\n",
            "1/1 [==============================] - 0s 53ms/step - loss: 0.0065 - mse: 0.0065 - val_loss: 0.0196 - val_mse: 0.0196\n",
            "Epoch 173/300\n",
            "1/1 [==============================] - 0s 46ms/step - loss: 0.0065 - mse: 0.0065 - val_loss: 0.0197 - val_mse: 0.0197\n",
            "Epoch 174/300\n",
            "1/1 [==============================] - 0s 53ms/step - loss: 0.0065 - mse: 0.0065 - val_loss: 0.0197 - val_mse: 0.0197\n",
            "Epoch 175/300\n",
            "1/1 [==============================] - 0s 97ms/step - loss: 0.0065 - mse: 0.0065 - val_loss: 0.0198 - val_mse: 0.0198\n",
            "Epoch 176/300\n",
            "1/1 [==============================] - 0s 43ms/step - loss: 0.0065 - mse: 0.0065 - val_loss: 0.0198 - val_mse: 0.0198\n",
            "Epoch 177/300\n",
            "1/1 [==============================] - 0s 60ms/step - loss: 0.0065 - mse: 0.0065 - val_loss: 0.0198 - val_mse: 0.0198\n",
            "Epoch 178/300\n",
            "1/1 [==============================] - 0s 66ms/step - loss: 0.0064 - mse: 0.0064 - val_loss: 0.0199 - val_mse: 0.0199\n",
            "Epoch 179/300\n",
            "1/1 [==============================] - 0s 52ms/step - loss: 0.0064 - mse: 0.0064 - val_loss: 0.0199 - val_mse: 0.0199\n",
            "Epoch 180/300\n",
            "1/1 [==============================] - 0s 35ms/step - loss: 0.0064 - mse: 0.0064 - val_loss: 0.0199 - val_mse: 0.0199\n",
            "Epoch 181/300\n",
            "1/1 [==============================] - 0s 28ms/step - loss: 0.0064 - mse: 0.0064 - val_loss: 0.0199 - val_mse: 0.0199\n",
            "Epoch 182/300\n",
            "1/1 [==============================] - 0s 27ms/step - loss: 0.0064 - mse: 0.0064 - val_loss: 0.0200 - val_mse: 0.0200\n",
            "Epoch 183/300\n",
            "1/1 [==============================] - 0s 31ms/step - loss: 0.0064 - mse: 0.0064 - val_loss: 0.0200 - val_mse: 0.0200\n",
            "Epoch 184/300\n",
            "1/1 [==============================] - 0s 26ms/step - loss: 0.0064 - mse: 0.0064 - val_loss: 0.0200 - val_mse: 0.0200\n",
            "Epoch 185/300\n",
            "1/1 [==============================] - 0s 26ms/step - loss: 0.0064 - mse: 0.0064 - val_loss: 0.0201 - val_mse: 0.0201\n",
            "Epoch 186/300\n",
            "1/1 [==============================] - 0s 28ms/step - loss: 0.0064 - mse: 0.0064 - val_loss: 0.0201 - val_mse: 0.0201\n",
            "Epoch 187/300\n",
            "1/1 [==============================] - 0s 38ms/step - loss: 0.0063 - mse: 0.0063 - val_loss: 0.0201 - val_mse: 0.0201\n",
            "Epoch 188/300\n",
            "1/1 [==============================] - 0s 25ms/step - loss: 0.0063 - mse: 0.0063 - val_loss: 0.0202 - val_mse: 0.0202\n",
            "Epoch 189/300\n",
            "1/1 [==============================] - 0s 24ms/step - loss: 0.0063 - mse: 0.0063 - val_loss: 0.0202 - val_mse: 0.0202\n",
            "Epoch 190/300\n",
            "1/1 [==============================] - 0s 27ms/step - loss: 0.0063 - mse: 0.0063 - val_loss: 0.0202 - val_mse: 0.0202\n",
            "Epoch 191/300\n",
            "1/1 [==============================] - 0s 25ms/step - loss: 0.0063 - mse: 0.0063 - val_loss: 0.0203 - val_mse: 0.0203\n",
            "Epoch 192/300\n",
            "1/1 [==============================] - 0s 26ms/step - loss: 0.0063 - mse: 0.0063 - val_loss: 0.0203 - val_mse: 0.0203\n",
            "Epoch 193/300\n",
            "1/1 [==============================] - 0s 25ms/step - loss: 0.0063 - mse: 0.0063 - val_loss: 0.0203 - val_mse: 0.0203\n",
            "Epoch 194/300\n",
            "1/1 [==============================] - 0s 33ms/step - loss: 0.0063 - mse: 0.0063 - val_loss: 0.0203 - val_mse: 0.0203\n",
            "Epoch 195/300\n",
            "1/1 [==============================] - 0s 26ms/step - loss: 0.0063 - mse: 0.0063 - val_loss: 0.0204 - val_mse: 0.0204\n",
            "Epoch 196/300\n",
            "1/1 [==============================] - 0s 27ms/step - loss: 0.0062 - mse: 0.0062 - val_loss: 0.0204 - val_mse: 0.0204\n",
            "Epoch 197/300\n",
            "1/1 [==============================] - 0s 32ms/step - loss: 0.0062 - mse: 0.0062 - val_loss: 0.0204 - val_mse: 0.0204\n",
            "Epoch 198/300\n",
            "1/1 [==============================] - 0s 30ms/step - loss: 0.0062 - mse: 0.0062 - val_loss: 0.0204 - val_mse: 0.0204\n",
            "Epoch 199/300\n",
            "1/1 [==============================] - 0s 25ms/step - loss: 0.0062 - mse: 0.0062 - val_loss: 0.0205 - val_mse: 0.0205\n",
            "Epoch 200/300\n",
            "1/1 [==============================] - 0s 28ms/step - loss: 0.0062 - mse: 0.0062 - val_loss: 0.0205 - val_mse: 0.0205\n",
            "Epoch 201/300\n",
            "1/1 [==============================] - 0s 25ms/step - loss: 0.0062 - mse: 0.0062 - val_loss: 0.0205 - val_mse: 0.0205\n",
            "Epoch 202/300\n",
            "1/1 [==============================] - 0s 29ms/step - loss: 0.0062 - mse: 0.0062 - val_loss: 0.0205 - val_mse: 0.0205\n",
            "Epoch 203/300\n",
            "1/1 [==============================] - 0s 28ms/step - loss: 0.0062 - mse: 0.0062 - val_loss: 0.0205 - val_mse: 0.0205\n",
            "Epoch 204/300\n",
            "1/1 [==============================] - 0s 38ms/step - loss: 0.0062 - mse: 0.0062 - val_loss: 0.0206 - val_mse: 0.0206\n",
            "Epoch 205/300\n",
            "1/1 [==============================] - 0s 44ms/step - loss: 0.0061 - mse: 0.0061 - val_loss: 0.0206 - val_mse: 0.0206\n",
            "Epoch 206/300\n",
            "1/1 [==============================] - 0s 26ms/step - loss: 0.0061 - mse: 0.0061 - val_loss: 0.0206 - val_mse: 0.0206\n",
            "Epoch 207/300\n",
            "1/1 [==============================] - 0s 29ms/step - loss: 0.0061 - mse: 0.0061 - val_loss: 0.0206 - val_mse: 0.0206\n",
            "Epoch 208/300\n",
            "1/1 [==============================] - 0s 26ms/step - loss: 0.0061 - mse: 0.0061 - val_loss: 0.0206 - val_mse: 0.0206\n",
            "Epoch 209/300\n",
            "1/1 [==============================] - 0s 26ms/step - loss: 0.0061 - mse: 0.0061 - val_loss: 0.0207 - val_mse: 0.0207\n",
            "Epoch 210/300\n",
            "1/1 [==============================] - 0s 47ms/step - loss: 0.0061 - mse: 0.0061 - val_loss: 0.0207 - val_mse: 0.0207\n",
            "Epoch 211/300\n",
            "1/1 [==============================] - 0s 27ms/step - loss: 0.0061 - mse: 0.0061 - val_loss: 0.0207 - val_mse: 0.0207\n",
            "Epoch 212/300\n",
            "1/1 [==============================] - 0s 28ms/step - loss: 0.0061 - mse: 0.0061 - val_loss: 0.0207 - val_mse: 0.0207\n",
            "Epoch 213/300\n",
            "1/1 [==============================] - 0s 26ms/step - loss: 0.0061 - mse: 0.0061 - val_loss: 0.0207 - val_mse: 0.0207\n",
            "Epoch 214/300\n",
            "1/1 [==============================] - 0s 28ms/step - loss: 0.0061 - mse: 0.0061 - val_loss: 0.0207 - val_mse: 0.0207\n",
            "Epoch 215/300\n",
            "1/1 [==============================] - 0s 27ms/step - loss: 0.0060 - mse: 0.0060 - val_loss: 0.0208 - val_mse: 0.0208\n",
            "Epoch 216/300\n",
            "1/1 [==============================] - 0s 37ms/step - loss: 0.0060 - mse: 0.0060 - val_loss: 0.0208 - val_mse: 0.0208\n",
            "Epoch 217/300\n",
            "1/1 [==============================] - 0s 29ms/step - loss: 0.0060 - mse: 0.0060 - val_loss: 0.0208 - val_mse: 0.0208\n",
            "Epoch 218/300\n",
            "1/1 [==============================] - 0s 28ms/step - loss: 0.0060 - mse: 0.0060 - val_loss: 0.0208 - val_mse: 0.0208\n",
            "Epoch 219/300\n",
            "1/1 [==============================] - 0s 26ms/step - loss: 0.0060 - mse: 0.0060 - val_loss: 0.0208 - val_mse: 0.0208\n",
            "Epoch 220/300\n",
            "1/1 [==============================] - 0s 35ms/step - loss: 0.0060 - mse: 0.0060 - val_loss: 0.0208 - val_mse: 0.0208\n",
            "Epoch 221/300\n",
            "1/1 [==============================] - 0s 27ms/step - loss: 0.0060 - mse: 0.0060 - val_loss: 0.0208 - val_mse: 0.0208\n",
            "Epoch 222/300\n",
            "1/1 [==============================] - 0s 28ms/step - loss: 0.0060 - mse: 0.0060 - val_loss: 0.0209 - val_mse: 0.0209\n",
            "Epoch 223/300\n",
            "1/1 [==============================] - 0s 27ms/step - loss: 0.0060 - mse: 0.0060 - val_loss: 0.0209 - val_mse: 0.0209\n",
            "Epoch 224/300\n",
            "1/1 [==============================] - 0s 31ms/step - loss: 0.0059 - mse: 0.0059 - val_loss: 0.0209 - val_mse: 0.0209\n",
            "Epoch 225/300\n",
            "1/1 [==============================] - 0s 27ms/step - loss: 0.0059 - mse: 0.0059 - val_loss: 0.0209 - val_mse: 0.0209\n",
            "Epoch 226/300\n",
            "1/1 [==============================] - 0s 25ms/step - loss: 0.0059 - mse: 0.0059 - val_loss: 0.0209 - val_mse: 0.0209\n",
            "Epoch 227/300\n",
            "1/1 [==============================] - 0s 30ms/step - loss: 0.0059 - mse: 0.0059 - val_loss: 0.0209 - val_mse: 0.0209\n",
            "Epoch 228/300\n",
            "1/1 [==============================] - 0s 27ms/step - loss: 0.0059 - mse: 0.0059 - val_loss: 0.0209 - val_mse: 0.0209\n",
            "Epoch 229/300\n",
            "1/1 [==============================] - 0s 28ms/step - loss: 0.0059 - mse: 0.0059 - val_loss: 0.0209 - val_mse: 0.0209\n",
            "Epoch 230/300\n",
            "1/1 [==============================] - 0s 28ms/step - loss: 0.0059 - mse: 0.0059 - val_loss: 0.0210 - val_mse: 0.0210\n",
            "Epoch 231/300\n",
            "1/1 [==============================] - 0s 34ms/step - loss: 0.0059 - mse: 0.0059 - val_loss: 0.0210 - val_mse: 0.0210\n",
            "Epoch 232/300\n",
            "1/1 [==============================] - 0s 38ms/step - loss: 0.0059 - mse: 0.0059 - val_loss: 0.0210 - val_mse: 0.0210\n",
            "Epoch 233/300\n",
            "1/1 [==============================] - 0s 37ms/step - loss: 0.0059 - mse: 0.0059 - val_loss: 0.0210 - val_mse: 0.0210\n",
            "Epoch 234/300\n",
            "1/1 [==============================] - 0s 34ms/step - loss: 0.0058 - mse: 0.0058 - val_loss: 0.0210 - val_mse: 0.0210\n",
            "Epoch 235/300\n",
            "1/1 [==============================] - 0s 26ms/step - loss: 0.0058 - mse: 0.0058 - val_loss: 0.0210 - val_mse: 0.0210\n",
            "Epoch 236/300\n",
            "1/1 [==============================] - 0s 25ms/step - loss: 0.0058 - mse: 0.0058 - val_loss: 0.0210 - val_mse: 0.0210\n",
            "Epoch 237/300\n",
            "1/1 [==============================] - 0s 27ms/step - loss: 0.0058 - mse: 0.0058 - val_loss: 0.0210 - val_mse: 0.0210\n",
            "Epoch 238/300\n",
            "1/1 [==============================] - 0s 26ms/step - loss: 0.0058 - mse: 0.0058 - val_loss: 0.0210 - val_mse: 0.0210\n",
            "Epoch 239/300\n",
            "1/1 [==============================] - 0s 29ms/step - loss: 0.0058 - mse: 0.0058 - val_loss: 0.0210 - val_mse: 0.0210\n",
            "Epoch 240/300\n",
            "1/1 [==============================] - 0s 25ms/step - loss: 0.0058 - mse: 0.0058 - val_loss: 0.0210 - val_mse: 0.0210\n",
            "Epoch 241/300\n",
            "1/1 [==============================] - 0s 25ms/step - loss: 0.0058 - mse: 0.0058 - val_loss: 0.0210 - val_mse: 0.0210\n",
            "Epoch 242/300\n",
            "1/1 [==============================] - 0s 25ms/step - loss: 0.0058 - mse: 0.0058 - val_loss: 0.0210 - val_mse: 0.0210\n",
            "Epoch 243/300\n",
            "1/1 [==============================] - 0s 28ms/step - loss: 0.0058 - mse: 0.0058 - val_loss: 0.0210 - val_mse: 0.0210\n",
            "Epoch 244/300\n",
            "1/1 [==============================] - 0s 28ms/step - loss: 0.0057 - mse: 0.0057 - val_loss: 0.0210 - val_mse: 0.0210\n",
            "Epoch 245/300\n",
            "1/1 [==============================] - 0s 25ms/step - loss: 0.0057 - mse: 0.0057 - val_loss: 0.0210 - val_mse: 0.0210\n",
            "Epoch 246/300\n",
            "1/1 [==============================] - 0s 39ms/step - loss: 0.0057 - mse: 0.0057 - val_loss: 0.0210 - val_mse: 0.0210\n",
            "Epoch 247/300\n",
            "1/1 [==============================] - 0s 25ms/step - loss: 0.0057 - mse: 0.0057 - val_loss: 0.0210 - val_mse: 0.0210\n",
            "Epoch 248/300\n",
            "1/1 [==============================] - 0s 26ms/step - loss: 0.0057 - mse: 0.0057 - val_loss: 0.0211 - val_mse: 0.0211\n",
            "Epoch 249/300\n",
            "1/1 [==============================] - 0s 26ms/step - loss: 0.0057 - mse: 0.0057 - val_loss: 0.0211 - val_mse: 0.0211\n",
            "Epoch 250/300\n",
            "1/1 [==============================] - 0s 34ms/step - loss: 0.0057 - mse: 0.0057 - val_loss: 0.0211 - val_mse: 0.0211\n",
            "Epoch 251/300\n",
            "1/1 [==============================] - 0s 29ms/step - loss: 0.0057 - mse: 0.0057 - val_loss: 0.0211 - val_mse: 0.0211\n",
            "Epoch 252/300\n",
            "1/1 [==============================] - 0s 26ms/step - loss: 0.0057 - mse: 0.0057 - val_loss: 0.0211 - val_mse: 0.0211\n",
            "Epoch 253/300\n",
            "1/1 [==============================] - 0s 30ms/step - loss: 0.0057 - mse: 0.0057 - val_loss: 0.0211 - val_mse: 0.0211\n",
            "Epoch 254/300\n",
            "1/1 [==============================] - 0s 30ms/step - loss: 0.0057 - mse: 0.0057 - val_loss: 0.0211 - val_mse: 0.0211\n",
            "Epoch 255/300\n",
            "1/1 [==============================] - 0s 25ms/step - loss: 0.0056 - mse: 0.0056 - val_loss: 0.0211 - val_mse: 0.0211\n",
            "Epoch 256/300\n",
            "1/1 [==============================] - 0s 26ms/step - loss: 0.0056 - mse: 0.0056 - val_loss: 0.0211 - val_mse: 0.0211\n",
            "Epoch 257/300\n",
            "1/1 [==============================] - 0s 24ms/step - loss: 0.0056 - mse: 0.0056 - val_loss: 0.0211 - val_mse: 0.0211\n",
            "Epoch 258/300\n",
            "1/1 [==============================] - 0s 32ms/step - loss: 0.0056 - mse: 0.0056 - val_loss: 0.0211 - val_mse: 0.0211\n",
            "Epoch 259/300\n",
            "1/1 [==============================] - 0s 31ms/step - loss: 0.0056 - mse: 0.0056 - val_loss: 0.0211 - val_mse: 0.0211\n",
            "Epoch 260/300\n",
            "1/1 [==============================] - 0s 28ms/step - loss: 0.0056 - mse: 0.0056 - val_loss: 0.0211 - val_mse: 0.0211\n",
            "Epoch 261/300\n",
            "1/1 [==============================] - 0s 31ms/step - loss: 0.0056 - mse: 0.0056 - val_loss: 0.0211 - val_mse: 0.0211\n",
            "Epoch 262/300\n",
            "1/1 [==============================] - 0s 29ms/step - loss: 0.0056 - mse: 0.0056 - val_loss: 0.0210 - val_mse: 0.0210\n",
            "Epoch 263/300\n",
            "1/1 [==============================] - 0s 26ms/step - loss: 0.0056 - mse: 0.0056 - val_loss: 0.0210 - val_mse: 0.0210\n",
            "Epoch 264/300\n",
            "1/1 [==============================] - 0s 32ms/step - loss: 0.0056 - mse: 0.0056 - val_loss: 0.0210 - val_mse: 0.0210\n",
            "Epoch 265/300\n",
            "1/1 [==============================] - 0s 27ms/step - loss: 0.0055 - mse: 0.0055 - val_loss: 0.0210 - val_mse: 0.0210\n",
            "Epoch 266/300\n",
            "1/1 [==============================] - 0s 30ms/step - loss: 0.0055 - mse: 0.0055 - val_loss: 0.0210 - val_mse: 0.0210\n",
            "Epoch 267/300\n",
            "1/1 [==============================] - 0s 27ms/step - loss: 0.0055 - mse: 0.0055 - val_loss: 0.0210 - val_mse: 0.0210\n",
            "Epoch 268/300\n",
            "1/1 [==============================] - 0s 28ms/step - loss: 0.0055 - mse: 0.0055 - val_loss: 0.0210 - val_mse: 0.0210\n",
            "Epoch 269/300\n",
            "1/1 [==============================] - 0s 30ms/step - loss: 0.0055 - mse: 0.0055 - val_loss: 0.0210 - val_mse: 0.0210\n",
            "Epoch 270/300\n",
            "1/1 [==============================] - 0s 27ms/step - loss: 0.0055 - mse: 0.0055 - val_loss: 0.0210 - val_mse: 0.0210\n",
            "Epoch 271/300\n",
            "1/1 [==============================] - 0s 28ms/step - loss: 0.0055 - mse: 0.0055 - val_loss: 0.0210 - val_mse: 0.0210\n",
            "Epoch 272/300\n",
            "1/1 [==============================] - 0s 26ms/step - loss: 0.0055 - mse: 0.0055 - val_loss: 0.0210 - val_mse: 0.0210\n",
            "Epoch 273/300\n",
            "1/1 [==============================] - 0s 28ms/step - loss: 0.0055 - mse: 0.0055 - val_loss: 0.0210 - val_mse: 0.0210\n",
            "Epoch 274/300\n",
            "1/1 [==============================] - 0s 26ms/step - loss: 0.0055 - mse: 0.0055 - val_loss: 0.0210 - val_mse: 0.0210\n",
            "Epoch 275/300\n",
            "1/1 [==============================] - 0s 37ms/step - loss: 0.0055 - mse: 0.0055 - val_loss: 0.0210 - val_mse: 0.0210\n",
            "Epoch 276/300\n",
            "1/1 [==============================] - 0s 25ms/step - loss: 0.0054 - mse: 0.0054 - val_loss: 0.0210 - val_mse: 0.0210\n",
            "Epoch 277/300\n",
            "1/1 [==============================] - 0s 27ms/step - loss: 0.0054 - mse: 0.0054 - val_loss: 0.0210 - val_mse: 0.0210\n",
            "Epoch 278/300\n",
            "1/1 [==============================] - 0s 28ms/step - loss: 0.0054 - mse: 0.0054 - val_loss: 0.0210 - val_mse: 0.0210\n",
            "Epoch 279/300\n",
            "1/1 [==============================] - 0s 27ms/step - loss: 0.0054 - mse: 0.0054 - val_loss: 0.0210 - val_mse: 0.0210\n",
            "Epoch 280/300\n",
            "1/1 [==============================] - 0s 28ms/step - loss: 0.0054 - mse: 0.0054 - val_loss: 0.0210 - val_mse: 0.0210\n",
            "Epoch 281/300\n",
            "1/1 [==============================] - 0s 27ms/step - loss: 0.0054 - mse: 0.0054 - val_loss: 0.0210 - val_mse: 0.0210\n",
            "Epoch 282/300\n",
            "1/1 [==============================] - 0s 26ms/step - loss: 0.0054 - mse: 0.0054 - val_loss: 0.0209 - val_mse: 0.0209\n",
            "Epoch 283/300\n",
            "1/1 [==============================] - 0s 35ms/step - loss: 0.0054 - mse: 0.0054 - val_loss: 0.0209 - val_mse: 0.0209\n",
            "Epoch 284/300\n",
            "1/1 [==============================] - 0s 28ms/step - loss: 0.0054 - mse: 0.0054 - val_loss: 0.0209 - val_mse: 0.0209\n",
            "Epoch 285/300\n",
            "1/1 [==============================] - 0s 28ms/step - loss: 0.0054 - mse: 0.0054 - val_loss: 0.0209 - val_mse: 0.0209\n",
            "Epoch 286/300\n",
            "1/1 [==============================] - 0s 27ms/step - loss: 0.0054 - mse: 0.0054 - val_loss: 0.0209 - val_mse: 0.0209\n",
            "Epoch 287/300\n",
            "1/1 [==============================] - 0s 33ms/step - loss: 0.0053 - mse: 0.0053 - val_loss: 0.0209 - val_mse: 0.0209\n",
            "Epoch 288/300\n",
            "1/1 [==============================] - 0s 27ms/step - loss: 0.0053 - mse: 0.0053 - val_loss: 0.0209 - val_mse: 0.0209\n",
            "Epoch 289/300\n",
            "1/1 [==============================] - 0s 29ms/step - loss: 0.0053 - mse: 0.0053 - val_loss: 0.0209 - val_mse: 0.0209\n",
            "Epoch 290/300\n",
            "1/1 [==============================] - 0s 34ms/step - loss: 0.0053 - mse: 0.0053 - val_loss: 0.0209 - val_mse: 0.0209\n",
            "Epoch 291/300\n",
            "1/1 [==============================] - 0s 56ms/step - loss: 0.0053 - mse: 0.0053 - val_loss: 0.0209 - val_mse: 0.0209\n",
            "Epoch 292/300\n",
            "1/1 [==============================] - 0s 29ms/step - loss: 0.0053 - mse: 0.0053 - val_loss: 0.0209 - val_mse: 0.0209\n",
            "Epoch 293/300\n",
            "1/1 [==============================] - 0s 29ms/step - loss: 0.0053 - mse: 0.0053 - val_loss: 0.0209 - val_mse: 0.0209\n",
            "Epoch 294/300\n",
            "1/1 [==============================] - 0s 30ms/step - loss: 0.0053 - mse: 0.0053 - val_loss: 0.0208 - val_mse: 0.0208\n",
            "Epoch 295/300\n",
            "1/1 [==============================] - 0s 25ms/step - loss: 0.0053 - mse: 0.0053 - val_loss: 0.0208 - val_mse: 0.0208\n",
            "Epoch 296/300\n",
            "1/1 [==============================] - 0s 30ms/step - loss: 0.0053 - mse: 0.0053 - val_loss: 0.0208 - val_mse: 0.0208\n",
            "Epoch 297/300\n",
            "1/1 [==============================] - 0s 33ms/step - loss: 0.0053 - mse: 0.0053 - val_loss: 0.0208 - val_mse: 0.0208\n",
            "Epoch 298/300\n",
            "1/1 [==============================] - 0s 28ms/step - loss: 0.0053 - mse: 0.0053 - val_loss: 0.0208 - val_mse: 0.0208\n",
            "Epoch 299/300\n",
            "1/1 [==============================] - 0s 28ms/step - loss: 0.0052 - mse: 0.0052 - val_loss: 0.0208 - val_mse: 0.0208\n",
            "Epoch 300/300\n",
            "1/1 [==============================] - 0s 29ms/step - loss: 0.0052 - mse: 0.0052 - val_loss: 0.0208 - val_mse: 0.0208\n",
            "1/1 [==============================] - 0s 30ms/step - loss: 0.0188 - mse: 0.0188\n"
          ]
        },
        {
          "output_type": "execute_result",
          "data": {
            "text/plain": [
              "[0.01877516135573387, 0.01877516135573387]"
            ]
          },
          "metadata": {},
          "execution_count": 20
        }
      ]
    },
    {
      "cell_type": "code",
      "source": [
        "print(history.history.keys())\n",
        "# \"Loss\"\n",
        "plt.plot(history.history['loss'])\n",
        "plt.plot(history.history['val_loss'])\n",
        "plt.title('model loss')\n",
        "plt.ylabel('loss')\n",
        "plt.xlabel('epoch')\n",
        "plt.legend(['train', 'validation'], loc='upper left')\n",
        "plt.show()"
      ],
      "metadata": {
        "colab": {
          "base_uri": "https://localhost:8080/",
          "height": 400
        },
        "id": "tvMUIg5SHsEF",
        "outputId": "9388f91e-004b-4ab8-c723-8ac80ef88f2a"
      },
      "execution_count": 21,
      "outputs": [
        {
          "output_type": "stream",
          "name": "stdout",
          "text": [
            "dict_keys(['loss', 'mse', 'val_loss', 'val_mse'])\n"
          ]
        },
        {
          "output_type": "display_data",
          "data": {
            "text/plain": [
              "<Figure size 720x360 with 1 Axes>"
            ],
            "image/png": "[encoded data removed]"
          },
          "metadata": {}
        }
      ]
    },
    {
      "cell_type": "code",
      "source": [
        "mse_cnn = cnn_model.evaluate(X_test, y_test)"
      ],
      "metadata": {
        "colab": {
          "base_uri": "https://localhost:8080/"
        },
        "id": "ImssP1C-YLO6",
        "outputId": "f71b2161-65d5-4986-ae8f-8428bc9710cb"
      },
      "execution_count": 22,
      "outputs": [
        {
          "output_type": "stream",
          "name": "stdout",
          "text": [
            "1/1 [==============================] - 0s 20ms/step - loss: 0.0188 - mse: 0.0188\n"
          ]
        }
      ]
    },
    {
      "cell_type": "markdown",
      "source": [
        "####Baseline MSE = 0.0188"
      ],
      "metadata": {
        "id": "kaLutRuWgU4K"
      }
    },
    {
      "cell_type": "code",
      "source": [
        "cnn_model.summary()"
      ],
      "metadata": {
        "colab": {
          "base_uri": "https://localhost:8080/"
        },
        "id": "A8XbxYQeiCoj",
        "outputId": "8f253ee2-6cbe-4384-e462-4b72da350f6b"
      },
      "execution_count": 23,
      "outputs": [
        {
          "output_type": "stream",
          "name": "stdout",
          "text": [
            "Model: \"sequential_1\"\n",
            "_________________________________________________________________\n",
            " Layer (type)                Output Shape              Param #   \n",
            "=================================================================\n",
            " conv1d (Conv1D)             (None, 2, 64)             960       \n",
            "                                                                 \n",
            " max_pooling1d (MaxPooling1D  (None, 1, 64)            0         \n",
            " )                                                               \n",
            "                                                                 \n",
            " flatten (Flatten)           (None, 64)                0         \n",
            "                                                                 \n",
            " dense (Dense)               (None, 64)                4160      \n",
            "                                                                 \n",
            " dense_1 (Dense)             (None, 1)                 65        \n",
            "                                                                 \n",
            "=================================================================\n",
            "Total params: 5,185\n",
            "Trainable params: 5,185\n",
            "Non-trainable params: 0\n",
            "_________________________________________________________________\n"
          ]
        }
      ]
    },
    {
      "cell_type": "markdown",
      "source": [
        "###Predict the Test without Hyperparameter Tuning"
      ],
      "metadata": {
        "id": "bNFFP1sSleo-"
      }
    },
    {
      "cell_type": "code",
      "source": [
        "y_pred = cnn_model.predict(X_test)\n",
        "y_pred"
      ],
      "metadata": {
        "colab": {
          "base_uri": "https://localhost:8080/"
        },
        "id": "wujQ6JNuiCyl",
        "outputId": "bd944c1a-d6a0-44e1-c0a0-e227d7947630"
      },
      "execution_count": 24,
      "outputs": [
        {
          "output_type": "stream",
          "name": "stdout",
          "text": [
            "1/1 [==============================] - 0s 319ms/step\n"
          ]
        },
        {
          "output_type": "execute_result",
          "data": {
            "text/plain": [
              "array([[ 0.10916665],\n",
              "       [ 0.09319495],\n",
              "       [ 0.16884217],\n",
              "       [ 0.14781743],\n",
              "       [ 0.07189636],\n",
              "       [ 0.07150527],\n",
              "       [ 0.071688  ],\n",
              "       [ 0.06214266],\n",
              "       [-0.0021312 ],\n",
              "       [-0.03077122],\n",
              "       [-0.03607095],\n",
              "       [ 0.008587  ],\n",
              "       [-0.02474797],\n",
              "       [-0.02574386],\n",
              "       [-0.01997088],\n",
              "       [-0.04379547],\n",
              "       [-0.06112783],\n",
              "       [ 0.05929445],\n",
              "       [ 0.1391766 ],\n",
              "       [ 0.1137409 ],\n",
              "       [ 0.04029384],\n",
              "       [ 0.05299789]], dtype=float32)"
            ]
          },
          "metadata": {},
          "execution_count": 24
        }
      ]
    },
    {
      "cell_type": "code",
      "source": [
        "y_pred.reshape(1,-1)"
      ],
      "metadata": {
        "colab": {
          "base_uri": "https://localhost:8080/"
        },
        "id": "GI8XYmymlslh",
        "outputId": "d1670681-0a0c-407b-f538-b2a64f3410ec"
      },
      "execution_count": 25,
      "outputs": [
        {
          "output_type": "execute_result",
          "data": {
            "text/plain": [
              "array([[ 0.10916665,  0.09319495,  0.16884217,  0.14781743,  0.07189636,\n",
              "         0.07150527,  0.071688  ,  0.06214266, -0.0021312 , -0.03077122,\n",
              "        -0.03607095,  0.008587  , -0.02474797, -0.02574386, -0.01997088,\n",
              "        -0.04379547, -0.06112783,  0.05929445,  0.1391766 ,  0.1137409 ,\n",
              "         0.04029384,  0.05299789]], dtype=float32)"
            ]
          },
          "metadata": {},
          "execution_count": 25
        }
      ]
    },
    {
      "cell_type": "markdown",
      "source": [
        "###Invert Transformed Data"
      ],
      "metadata": {
        "id": "jrtmvrZ_l2__"
      }
    },
    {
      "cell_type": "code",
      "source": [
        "y_train_inv = cpo_pri_transformer.inverse_transform(y_train.reshape(1, -1))\n",
        "y_test_inv = cpo_pri_transformer.inverse_transform(y_test.reshape(1, -1))\n",
        "y_pred_inv = cpo_pri_transformer.inverse_transform(y_pred.reshape(1,-1))\n",
        "print(y_train_inv)\n",
        "print(y_test_inv)\n",
        "print(y_pred_inv)"
      ],
      "metadata": {
        "colab": {
          "base_uri": "https://localhost:8080/"
        },
        "id": "FVSGGT57lxHw",
        "outputId": "c620447b-5fc6-496b-9e60-8c6572029863"
      },
      "execution_count": 26,
      "outputs": [
        {
          "output_type": "stream",
          "name": "stdout",
          "text": [
            "[[376. 383. 382. 396. 402. 390. 404. 382. 382. 391. 396. 413. 401. 410.\n",
            "  425. 408. 392. 371. 356. 362. 356. 352. 333. 357. 411. 404. 387. 395.\n",
            "  434. 488. 508. 494. 575. 614. 616. 707. 719. 655. 661. 687. 625. 611.\n",
            "  631. 655. 616. 586. 615. 607. 590. 535. 518. 519. 562. 552. 508. 476.\n",
            "  513. 545. 532. 550. 561. 567. 580. 559. 562. 553. 533. 498. 504. 525.\n",
            "  547. 556. 566. 621. 659. 671. 688. 705. 633. 661. 674. 703. 694. 681.\n",
            "  663. 632. 561. 497. 509. 475. 392. 319. 354. 388. 381. 370.]]\n",
            "[[349. 372. 324. 315. 312. 306. 288. 255. 257. 265. 254. 240. 254. 251.\n",
            "  234. 255. 330. 362. 310. 277. 323. 360.]]\n",
            "[[362.66666 356.27798 386.53687 378.12698 347.75854 347.6021  347.6752\n",
            "  343.8571  318.14752 306.6915  304.57162 322.4348  309.10083 308.70245\n",
            "  311.01166 301.4818  294.54886 342.7178  374.67065 364.49634 335.11752\n",
            "  340.19916]]\n"
          ]
        }
      ]
    },
    {
      "cell_type": "markdown",
      "source": [
        "###Plot History, Actual and Predicted Value"
      ],
      "metadata": {
        "id": "PxYTgRmhmDtL"
      }
    },
    {
      "cell_type": "code",
      "source": [
        "y_train_inv = y_train_inv.flatten()\n",
        "y_train_inv"
      ],
      "metadata": {
        "colab": {
          "base_uri": "https://localhost:8080/"
        },
        "id": "YXY0nwhElxLo",
        "outputId": "b183f0c5-d04e-4e7e-ac67-8d5dcd4891eb"
      },
      "execution_count": 27,
      "outputs": [
        {
          "output_type": "execute_result",
          "data": {
            "text/plain": [
              "array([376., 383., 382., 396., 402., 390., 404., 382., 382., 391., 396.,\n",
              "       413., 401., 410., 425., 408., 392., 371., 356., 362., 356., 352.,\n",
              "       333., 357., 411., 404., 387., 395., 434., 488., 508., 494., 575.,\n",
              "       614., 616., 707., 719., 655., 661., 687., 625., 611., 631., 655.,\n",
              "       616., 586., 615., 607., 590., 535., 518., 519., 562., 552., 508.,\n",
              "       476., 513., 545., 532., 550., 561., 567., 580., 559., 562., 553.,\n",
              "       533., 498., 504., 525., 547., 556., 566., 621., 659., 671., 688.,\n",
              "       705., 633., 661., 674., 703., 694., 681., 663., 632., 561., 497.,\n",
              "       509., 475., 392., 319., 354., 388., 381., 370.])"
            ]
          },
          "metadata": {},
          "execution_count": 27
        }
      ]
    },
    {
      "cell_type": "code",
      "source": [
        "y_test_inv = y_test_inv.flatten()\n",
        "y_test_inv"
      ],
      "metadata": {
        "colab": {
          "base_uri": "https://localhost:8080/"
        },
        "id": "z_zQn_rpl_MC",
        "outputId": "9f020d28-1b06-4ed9-da15-ce1011690563"
      },
      "execution_count": 28,
      "outputs": [
        {
          "output_type": "execute_result",
          "data": {
            "text/plain": [
              "array([349., 372., 324., 315., 312., 306., 288., 255., 257., 265., 254.,\n",
              "       240., 254., 251., 234., 255., 330., 362., 310., 277., 323., 360.])"
            ]
          },
          "metadata": {},
          "execution_count": 28
        }
      ]
    },
    {
      "cell_type": "code",
      "source": [
        "y_pred_inv = y_pred_inv.flatten()\n",
        "y_pred_inv"
      ],
      "metadata": {
        "colab": {
          "base_uri": "https://localhost:8080/"
        },
        "id": "X4GInUagmJUO",
        "outputId": "d9045038-14c0-41e0-e072-0bf95b3add24"
      },
      "execution_count": 29,
      "outputs": [
        {
          "output_type": "execute_result",
          "data": {
            "text/plain": [
              "array([362.66666, 356.27798, 386.53687, 378.12698, 347.75854, 347.6021 ,\n",
              "       347.6752 , 343.8571 , 318.14752, 306.6915 , 304.57162, 322.4348 ,\n",
              "       309.10083, 308.70245, 311.01166, 301.4818 , 294.54886, 342.7178 ,\n",
              "       374.67065, 364.49634, 335.11752, 340.19916], dtype=float32)"
            ]
          },
          "metadata": {},
          "execution_count": 29
        }
      ]
    },
    {
      "cell_type": "code",
      "source": [
        "plt.figure(figsize=(17,9))\n",
        "#plt.grid()\n",
        "#plt.plot(np.arange(0, len(y_train)), y_train_inv, color='green', label=\"History\")\n",
        "plt.plot(np.arange(len(y_train), len(y_train) + len(y_test)), y_test_inv, color='blue', marker='.', label=\"Actual\")\n",
        "plt.plot(np.arange(len(y_train), len(y_train) + len(y_test)), y_pred_inv, color='red', label=\"CNN Prediction\")\n",
        "plt.ylabel('Crude Palm Oil Price')\n",
        "plt.xlabel('Time')\n",
        "plt.legend()\n",
        "ax.grid()\n",
        "#plt.grid()\n",
        "#plt.show();"
      ],
      "metadata": {
        "colab": {
          "base_uri": "https://localhost:8080/",
          "height": 596
        },
        "id": "vHGNO1xAmJYI",
        "outputId": "ad19c86a-9e5e-484b-bd7f-a605c2640c5b"
      },
      "execution_count": 30,
      "outputs": [
        {
          "output_type": "display_data",
          "data": {
            "text/plain": [
              "<Figure size 1224x648 with 1 Axes>"
            ],
            "image/png": "[encoded data removed]"
          },
          "metadata": {}
        }
      ]
    },
    {
      "cell_type": "markdown",
      "source": [
        "###Evaluate CNN Model Accuracy"
      ],
      "metadata": {
        "id": "1NImON2RmyWF"
      }
    },
    {
      "cell_type": "code",
      "source": [
        "MAE_cnn = mean_absolute_error(y_test_inv, y_pred_inv)\n",
        "print('MAE value of the CNN Model is:', MAE_cnn)\n",
        "\n",
        "MDA_cnn = mda(y_test_inv, y_pred_inv)\n",
        "print('MDA value of the CNN Model is:', MDA_cnn)\n",
        "\n",
        "MAPE_cnn = mean_absolute_percentage_error(y_test_inv, y_pred_inv)\n",
        "print('MAPE value of the CNN Model is:', MAPE_cnn)\n",
        "\n",
        "RMSE_cnn = mean_squared_error(y_test_inv,y_pred_inv, squared=False)\n",
        "print('RMSE value of the CNN Model is:', RMSE_cnn)\n",
        "\n",
        "MSE_cnn = mean_squared_error(y_test_inv,y_pred_inv)\n",
        "print('MSE value of the CNN Model is:', MSE_cnn)\n",
        "\n",
        "#EVS_cnn = explained_variance_score(y_test_inv, y_pred_inv)\n",
        "#print('EVS score of the CNN Model is:', EVS_cnn)"
      ],
      "metadata": {
        "colab": {
          "base_uri": "https://localhost:8080/"
        },
        "id": "fIc5ITw4m2QJ",
        "outputId": "23f731e2-a530-4c21-d7fa-8646d259cf0b"
      },
      "execution_count": 31,
      "outputs": [
        {
          "output_type": "stream",
          "name": "stdout",
          "text": [
            "MAE value of the CNN Model is: 49.63210782137784\n",
            "MDA value of the CNN Model is: 0.42857142857142855\n",
            "MAPE value of the CNN Model is: 17.976438421916143\n",
            "RMSE value of the CNN Model is: 54.80899460448748\n",
            "MSE value of the CNN Model is: 3004.025889554738\n"
          ]
        }
      ]
    },
    {
      "cell_type": "markdown",
      "source": [
        "###Tuning CNN with Keras Tuner"
      ],
      "metadata": {
        "id": "fs98oM36Yw_r"
      }
    },
    {
      "cell_type": "code",
      "source": [
        "class ANNhypermodel(HyperModel):\n",
        "#class CNNHyperModel(HyperModel):\n",
        "    \n",
        "    def __init__(self, input_shape):\n",
        "        self.input_shape= input_shape\n",
        "        \n",
        "    def build(self, hp):\n",
        "        model= keras.Sequential()\n",
        "        \n",
        "        # Tune the number of units in the first Dense layer\n",
        "        # Defining dense units as a close approx to the original neural network to perform a fair comparision!\n",
        "        \n",
        "        \n",
        "        hp_units_1= hp.Int('units_1', min_value=128, max_value= 160, step=32)\n",
        "        hp_units_2= hp.Int('units_2', min_value=64, max_value= 128, step=32)\n",
        "        hp_units_3= hp.Int('units_3', min_value=32, max_value= 64, step=16)\n",
        "\n",
        "        model.add(keras.layers.Dense(units=hp_units_1, activation='tanh', input_shape= self.input_shape))\n",
        "        model.add(keras.layers.Dense(units=hp_units_2, activation='tanh'))\n",
        "        model.add(keras.layers.Dense(units=hp_units_3, activation='tanh'))\n",
        "        model.add(keras.layers.Dense(1))\n",
        "\n",
        "        #Tune the dropout\n",
        "        model.add(\n",
        "            Dropout(\n",
        "                rate=hp.Float(\n",
        "                    'dropout',\n",
        "                    min_value=0.0,\n",
        "                    max_value=0.5,\n",
        "                    default=0.25,\n",
        "                    step=0.05\n",
        "                )\n",
        "            )\n",
        "        )\n",
        "\n",
        "        # Tune the learning rate for the optimizer \n",
        "        hp_learning_rate=hp.Float('learning_rate', min_value=1e-4, max_value=1e-2, sampling='LOG', default= 0.0005)\n",
        "       # -------------------------------------------------------\n",
        "        #model.add(\n",
        "            #layers.Dense(\n",
        "                #hp.Float(\n",
        "                    #'batch_size',\n",
        "                    #'type\": \"range', ###########\n",
        "                     #min_value= 10, \n",
        "                     #max_value=60,\n",
        "                     #default=1,\n",
        "                     #step=20)\n",
        "                    #'value_type': \"int\" ###########\n",
        "            #)\n",
        "        #)\n",
        "       #---------------------------------------------------------\n",
        "        model.compile(loss='mse',\n",
        "                    optimizer= keras.optimizers.Adam(learning_rate=hp_learning_rate),\n",
        "                    metrics= ['mae','mse']\n",
        "                     )\n",
        "\n",
        "        return model\n",
        "\n",
        "hypermodel= ANNhypermodel(input_shape = (X_test.shape[1], X_test.shape[2]))\n",
        "#hypermodel = CNNHyperModel(input_shape = (X_test.shape[1], X_test.shape[2]))"
      ],
      "metadata": {
        "id": "6sH3KVfoj7jq"
      },
      "execution_count": 33,
      "outputs": []
    },
    {
      "cell_type": "markdown",
      "source": [
        "###Build Random Search Tuner"
      ],
      "metadata": {
        "id": "Vw6sRopRkNq-"
      }
    },
    {
      "cell_type": "code",
      "source": [
        "tuner_rs = RandomSearch(\n",
        "            hypermodel,\n",
        "            objective='mse',\n",
        "            seed=42,\n",
        "            max_trials=10,\n",
        "            executions_per_trial=2, overwrite=True\n",
        "        )"
      ],
      "metadata": {
        "id": "oPWNkr_dj7ng"
      },
      "execution_count": 34,
      "outputs": []
    },
    {
      "cell_type": "markdown",
      "source": [
        "###Run Random Search"
      ],
      "metadata": {
        "id": "UH8vIpuOkl0V"
      }
    },
    {
      "cell_type": "code",
      "source": [
        "tuner_rs.search(X_train, y_train, epochs=10, validation_split=0.2, verbose=0)"
      ],
      "metadata": {
        "id": "XC6nlTF4j7rN"
      },
      "execution_count": 35,
      "outputs": []
    },
    {
      "cell_type": "markdown",
      "source": [
        "###Evaluate Random Search"
      ],
      "metadata": {
        "id": "ZWc0whe7l-_0"
      }
    },
    {
      "cell_type": "code",
      "source": [
        "best_model = tuner_rs.get_best_models(num_models=1)[0]\n",
        "mse_rs = best_model.evaluate(X_test, y_test)[1]"
      ],
      "metadata": {
        "colab": {
          "base_uri": "https://localhost:8080/"
        },
        "id": "V0u8mTuTj7wl",
        "outputId": "a1bba315-3dda-4ddb-bdb7-c88aadc6480c"
      },
      "execution_count": 36,
      "outputs": [
        {
          "output_type": "stream",
          "name": "stdout",
          "text": [
            "1/1 [==============================] - 0s 289ms/step - loss: 0.1198 - mae: 0.3272 - mse: 0.1198\n"
          ]
        }
      ]
    },
    {
      "cell_type": "markdown",
      "source": [
        "####Random Search MSE = 0.1198"
      ],
      "metadata": {
        "id": "9jgCzQ74mQjM"
      }
    },
    {
      "cell_type": "code",
      "source": [
        "best_params = tuner_rs.get_best_hyperparameters()\n",
        "\n",
        "best_params[0].values"
      ],
      "metadata": {
        "colab": {
          "base_uri": "https://localhost:8080/"
        },
        "id": "jJ5NIqxpj72V",
        "outputId": "98f39018-6c3d-4a14-bdfb-aa24becdd88f"
      },
      "execution_count": 37,
      "outputs": [
        {
          "output_type": "execute_result",
          "data": {
            "text/plain": [
              "{'units_1': 128,\n",
              " 'units_2': 96,\n",
              " 'units_3': 48,\n",
              " 'dropout': 0.1,\n",
              " 'learning_rate': 0.0038287047044982298}"
            ]
          },
          "metadata": {},
          "execution_count": 37
        }
      ]
    },
    {
      "cell_type": "markdown",
      "source": [
        "###Build Bayesian Optimization"
      ],
      "metadata": {
        "id": "AxWQfBYpnLjI"
      }
    },
    {
      "cell_type": "code",
      "source": [
        "tuner_bo = BayesianOptimization(\n",
        "            hypermodel,\n",
        "            objective='val_mse',\n",
        "            max_trials=10,\n",
        "            seed=42,\n",
        "            executions_per_trial=2,\n",
        "            directory='bo'\n",
        "        )"
      ],
      "metadata": {
        "id": "uixpiCLPmsaZ"
      },
      "execution_count": 38,
      "outputs": []
    },
    {
      "cell_type": "markdown",
      "source": [
        "###Run Bayesian Optimization"
      ],
      "metadata": {
        "id": "_lTWVuDcoYU9"
      }
    },
    {
      "cell_type": "code",
      "source": [
        "tuner_bo.search(X_train, y_train, epochs=10, validation_split=0.2, verbose=0)\n",
        "\n",
        "best_model = tuner_bo.get_best_models(num_models=1)[0]\n",
        "mse_bo = best_model.evaluate(X_test, y_test)[1]"
      ],
      "metadata": {
        "id": "L6qZa1Kvmsgn",
        "outputId": "a3d99780-4d34-40c3-d8cb-afffbf55963b",
        "colab": {
          "base_uri": "https://localhost:8080/"
        }
      },
      "execution_count": 39,
      "outputs": [
        {
          "output_type": "stream",
          "name": "stdout",
          "text": [
            "1/1 [==============================] - 0s 275ms/step - loss: 0.3479 - mae: 0.5791 - mse: 0.3479\n"
          ]
        }
      ]
    },
    {
      "cell_type": "markdown",
      "source": [
        "###Bayesian Optimization Search MSE = 0.3479"
      ],
      "metadata": {
        "id": "KiNYUG96ZUIz"
      }
    },
    {
      "cell_type": "markdown",
      "source": [
        "###Evaluate Bayesian Optimization"
      ],
      "metadata": {
        "id": "Ppb8qezeoe7c"
      }
    },
    {
      "cell_type": "code",
      "source": [
        "best_params = tuner_bo.get_best_hyperparameters()\n",
        "\n",
        "best_params[0].values"
      ],
      "metadata": {
        "colab": {
          "base_uri": "https://localhost:8080/"
        },
        "id": "0bDWDTrOmsm1",
        "outputId": "28880536-5a3e-46d0-ee38-8ca110893bfd"
      },
      "execution_count": 40,
      "outputs": [
        {
          "output_type": "execute_result",
          "data": {
            "text/plain": [
              "{'units_1': 160,\n",
              " 'units_2': 64,\n",
              " 'units_3': 32,\n",
              " 'dropout': 0.0,\n",
              " 'learning_rate': 0.01}"
            ]
          },
          "metadata": {},
          "execution_count": 40
        }
      ]
    },
    {
      "cell_type": "code",
      "source": [
        "best_model = tuner_bo.get_best_models(num_models=1)[0]\n",
        "mse_bo = best_model.evaluate(X_test, y_test)[1]"
      ],
      "metadata": {
        "colab": {
          "base_uri": "https://localhost:8080/"
        },
        "id": "odraTQ8KbUw9",
        "outputId": "3c4b1c36-b630-4522-a7ce-0df0d300d61f"
      },
      "execution_count": 41,
      "outputs": [
        {
          "output_type": "stream",
          "name": "stderr",
          "text": [
            "WARNING:tensorflow:Detecting that an object or model or tf.train.Checkpoint is being deleted with unrestored values. See the following logs for the specific values in question. To silence these warnings, use `status.expect_partial()`. See https://www.tensorflow.org/api_docs/python/tf/train/Checkpoint#restorefor details about the status object returned by the restore function.\n",
            "WARNING:tensorflow:Value in checkpoint could not be found in the restored object: (root).optimizer.iter\n",
            "WARNING:tensorflow:Value in checkpoint could not be found in the restored object: (root).optimizer.beta_1\n",
            "WARNING:tensorflow:Value in checkpoint could not be found in the restored object: (root).optimizer.beta_2\n",
            "WARNING:tensorflow:Value in checkpoint could not be found in the restored object: (root).optimizer.decay\n",
            "WARNING:tensorflow:Value in checkpoint could not be found in the restored object: (root).optimizer.learning_rate\n"
          ]
        },
        {
          "output_type": "stream",
          "name": "stdout",
          "text": [
            "1/1 [==============================] - 0s 295ms/step - loss: 0.3479 - mae: 0.5791 - mse: 0.3479\n"
          ]
        }
      ]
    },
    {
      "cell_type": "markdown",
      "source": [
        "###Build HYPERBAND optimization"
      ],
      "metadata": {
        "id": "9rYL672xrXtU"
      }
    },
    {
      "cell_type": "code",
      "source": [
        "MAX_TRIALS = 20\n",
        "tuner= RandomSearch(hypermodel,\n",
        "               objective= 'val_mse',\n",
        "               max_trials= MAX_TRIALS,\n",
        "               executions_per_trial= 2,\n",
        "               directory= 'random_search',\n",
        "               project_name='randomsearch',\n",
        "               overwrite=True)"
      ],
      "metadata": {
        "id": "CqxbIHGxmstL"
      },
      "execution_count": 53,
      "outputs": []
    },
    {
      "cell_type": "code",
      "source": [
        "HYPERBAND_MAX_EPOCHS = 150\n",
        "EXECUTION_PER_TRIAL = 2\n",
        "\n",
        "tuner= Hyperband(hypermodel,\n",
        "                   objective= 'val_mse',\n",
        "                   max_epochs=HYPERBAND_MAX_EPOCHS, #Set 100+ for good results\n",
        "                   executions_per_trial=EXECUTION_PER_TRIAL,\n",
        "                   directory= 'hyperband',\n",
        "                   project_name='hyper',\n",
        "                   overwrite=True)\n",
        "\n",
        "# tuner.search_space_summary()"
      ],
      "metadata": {
        "id": "eaGs4DAFosPl"
      },
      "execution_count": 54,
      "outputs": []
    },
    {
      "cell_type": "code",
      "source": [
        "print('searching for the best params!')\n",
        "\n",
        "t0 = time()\n",
        "tuner.search(x= X_train,\n",
        "             y= y_train,\n",
        "             epochs=100,\n",
        "             batch_size= 64,\n",
        "             validation_data= (X_test, y_test),\n",
        "             verbose=0,\n",
        "             callbacks= []\n",
        "            )\n",
        "print(time()- t0,\" secs\")\n",
        "\n",
        "# Retreive the optimal hyperparameters\n",
        "best_hps= tuner.get_best_hyperparameters(num_trials=1)[0]\n",
        "\n",
        "# Retrieve the best model\n",
        "best_model = tuner.get_best_models(num_models=1)[0]"
      ],
      "metadata": {
        "colab": {
          "base_uri": "https://localhost:8080/"
        },
        "id": "NXf_LR3mosWn",
        "outputId": "d1928ceb-b796-4d8d-9226-766754c66cfd"
      },
      "execution_count": 55,
      "outputs": [
        {
          "output_type": "stream",
          "name": "stderr",
          "text": [
            "WARNING:tensorflow:Detecting that an object or model or tf.train.Checkpoint is being deleted with unrestored values. See the following logs for the specific values in question. To silence these warnings, use `status.expect_partial()`. See https://www.tensorflow.org/api_docs/python/tf/train/Checkpoint#restorefor details about the status object returned by the restore function.\n",
            "WARNING:tensorflow:Value in checkpoint could not be found in the restored object: (root).optimizer.iter\n",
            "WARNING:tensorflow:Value in checkpoint could not be found in the restored object: (root).optimizer.beta_1\n",
            "WARNING:tensorflow:Value in checkpoint could not be found in the restored object: (root).optimizer.beta_2\n",
            "WARNING:tensorflow:Value in checkpoint could not be found in the restored object: (root).optimizer.decay\n",
            "WARNING:tensorflow:Value in checkpoint could not be found in the restored object: (root).optimizer.learning_rate\n"
          ]
        },
        {
          "output_type": "stream",
          "name": "stdout",
          "text": [
            "searching for the best params!\n"
          ]
        },
        {
          "output_type": "stream",
          "name": "stderr",
          "text": [
            "WARNING:tensorflow:5 out of the last 15 calls to <function Model.make_test_function.<locals>.test_function at 0x7fadd0333560> triggered tf.function retracing. Tracing is expensive and the excessive number of tracings could be due to (1) creating @tf.function repeatedly in a loop, (2) passing tensors with different shapes, (3) passing Python objects instead of tensors. For (1), please define your @tf.function outside of the loop. For (2), @tf.function has reduce_retracing=True option that can avoid unnecessary retracing. For (3), please refer to https://www.tensorflow.org/guide/function#controlling_retracing and https://www.tensorflow.org/api_docs/python/tf/function for  more details.\n",
            "WARNING:tensorflow:6 out of the last 17 calls to <function Model.make_test_function.<locals>.test_function at 0x7fad76356dd0> triggered tf.function retracing. Tracing is expensive and the excessive number of tracings could be due to (1) creating @tf.function repeatedly in a loop, (2) passing tensors with different shapes, (3) passing Python objects instead of tensors. For (1), please define your @tf.function outside of the loop. For (2), @tf.function has reduce_retracing=True option that can avoid unnecessary retracing. For (3), please refer to https://www.tensorflow.org/guide/function#controlling_retracing and https://www.tensorflow.org/api_docs/python/tf/function for  more details.\n"
          ]
        },
        {
          "output_type": "stream",
          "name": "stdout",
          "text": [
            "789.8020212650299  secs\n"
          ]
        }
      ]
    },
    {
      "cell_type": "code",
      "source": [
        "print(f\"\"\"\n",
        "The hyperparameter search is complete. The optimal number of units in the \n",
        "first densely-connected layer is {best_hps.get('units_1')},\n",
        "second layer is {best_hps.get('units_2')} \n",
        "third layer is {best_hps.get('units_3')} \n",
        "drop out is {best_hps.get('dropout')}\n",
        "#learning rate is {best_hps.get('learning_rate')}                                        \n",
        "\n",
        "and the optimal learning rate for the optimizer\n",
        "is {best_hps.get('learning_rate')}.\n",
        "\"\"\")\n",
        "\n",
        "# Evaluate the best model.\n",
        "print(best_model.metrics_names)\n",
        "loss, mae, mse = best_model.evaluate(X_test, y_test)\n",
        "print(f'loss:{loss} mae: {mae} mse: {mse}')\n",
        "\n",
        "'''\n",
        "print(best_hps.get('units'))\n",
        "print(best_hps.get('layers'))\n",
        "print(best_hps.get('window'))\n",
        "print(best_hps.get('learning_rate'))\n",
        "'''"
      ],
      "metadata": {
        "colab": {
          "base_uri": "https://localhost:8080/",
          "height": 269
        },
        "id": "UcOC-csfrvmH",
        "outputId": "522350b9-fbdd-43a0-edcd-97a1f56bbc79"
      },
      "execution_count": 56,
      "outputs": [
        {
          "output_type": "stream",
          "name": "stdout",
          "text": [
            "\n",
            "The hyperparameter search is complete. The optimal number of units in the \n",
            "first densely-connected layer is 128,\n",
            "second layer is 96 \n",
            "third layer is 48 \n",
            "drop out is 0.45\n",
            "#learning rate is 0.007588827342097074                                        \n",
            "\n",
            "and the optimal learning rate for the optimizer\n",
            "is 0.007588827342097074.\n",
            "\n",
            "[]\n",
            "1/1 [==============================] - 0s 319ms/step - loss: 0.0114 - mae: 0.0948 - mse: 0.0114\n",
            "loss:0.01140345074236393 mae: 0.09478043019771576 mse: 0.01140345074236393\n"
          ]
        },
        {
          "output_type": "execute_result",
          "data": {
            "text/plain": [
              "\"\\nprint(best_hps.get('units'))\\nprint(best_hps.get('layers'))\\nprint(best_hps.get('window'))\\nprint(best_hps.get('learning_rate'))\\n\""
            ],
            "application/vnd.google.colaboratory.intrinsic+json": {
              "type": "string"
            }
          },
          "metadata": {},
          "execution_count": 56
        }
      ]
    },
    {
      "cell_type": "code",
      "source": [
        "# Get the optimal hyperparameters\n",
        "best_hps = tuner.get_best_hyperparameters(num_trials = 1)[0]\n",
        "print(best_hps.values)"
      ],
      "metadata": {
        "colab": {
          "base_uri": "https://localhost:8080/"
        },
        "id": "q0e8tSIulgh_",
        "outputId": "11fddf29-bef3-4d93-f6ff-c01adc3ed288"
      },
      "execution_count": 92,
      "outputs": [
        {
          "output_type": "stream",
          "name": "stdout",
          "text": [
            "{'units_1': 128, 'units_2': 96, 'units_3': 48, 'dropout': 0.45, 'learning_rate': 0.007588827342097074, 'tuner/epochs': 150, 'tuner/initial_epoch': 50, 'tuner/bracket': 1, 'tuner/round': 1, 'tuner/trial_id': '0239'}\n"
          ]
        }
      ]
    },
    {
      "cell_type": "markdown",
      "source": [
        "###Apply the trained parameters to the CNN"
      ],
      "metadata": {
        "id": "oggNSpcVpofH"
      }
    },
    {
      "cell_type": "code",
      "source": [
        "TUcnn_model = tf.keras.Sequential()\n",
        "TUcnn_model.add(tf.keras.layers.Conv1D(filters=128, kernel_size=2, activation='tanh', input_shape=(X_test.shape[1], X_test.shape[2])))\n",
        "TUcnn_model.add(tf.keras.layers.Dense(96, activation='tanh'))\n",
        "TUcnn_model.add(tf.keras.layers.MaxPooling1D(pool_size=2))\n",
        "TUcnn_model.add(tf.keras.layers.Flatten())\n",
        "TUcnn_model.add(tf.keras.layers.Dense(48, activation='tanh'))\n",
        "TUcnn_model.add(layers.Dropout(0.45))\n",
        "\n",
        "TUcnn_model.add(tf.keras.layers.Dense(1))\n",
        "# compile model using adam\n",
        "#opt = tf.keras.optimizers.Adam(learning_rate=0.01)\n",
        "TUcnn_model.compile(loss = 'mse', optimizer= tf.keras.optimizers.Adam(learning_rate=0.003021691068008031), metrics= ['mae', 'mse'])\n",
        "TUcnn_model.compile(optimizer='rmsprop',loss='mse',metrics=['mse']),\n",
        "\n",
        "history = TUcnn_model.fit(X_train, y_train, epochs=160, batch_size = 120, validation_split=0.2) #epochs =200, bs = 128 , RMSE=46\n",
        "#epochs =200, bs = 144 , RMSE=51.72\n",
        "#epochs =200, bs = 144 , opt = rmsprop, RMSE=38.76/44.25\n",
        "#epochs =100, bs = 144 , opt = rmsprop, RMSE=41.62\n",
        "#epochs =200, bs = 160 , opt = rmsprop, RMSE=40\n",
        "#epochs =300, bs = 160 , opt = SGD,     RMSE = 37.87 jag\n",
        "#epochs =300, bs = 160 , opt = AdaMax,  RMSE = 42.13 smoo\n",
        "#epochs =200, bs = 128 , opt = rmsprop,  RMSE = 36.24 smoo\n",
        "\n",
        "#rmsprop\n",
        "\n",
        "# model evaluation\n",
        "TUcnn_model.evaluate(X_test, y_test)"
      ],
      "metadata": {
        "colab": {
          "base_uri": "https://localhost:8080/"
        },
        "id": "CQ6kXmu0pRGf",
        "outputId": "1b27e7c2-e4a3-4d1e-da74-436d15280b58"
      },
      "execution_count": 42,
      "outputs": [
        {
          "output_type": "stream",
          "name": "stdout",
          "text": [
            "Epoch 1/160\n",
            "1/1 [==============================] - 1s 773ms/step - loss: 0.3339 - mse: 0.3339 - val_loss: 0.6203 - val_mse: 0.6203\n",
            "Epoch 2/160\n",
            "1/1 [==============================] - 0s 28ms/step - loss: 0.6701 - mse: 0.6701 - val_loss: 0.1834 - val_mse: 0.1834\n",
            "Epoch 3/160\n",
            "1/1 [==============================] - 0s 33ms/step - loss: 0.1332 - mse: 0.1332 - val_loss: 0.0706 - val_mse: 0.0706\n",
            "Epoch 4/160\n",
            "1/1 [==============================] - 0s 24ms/step - loss: 0.0708 - mse: 0.0708 - val_loss: 0.0754 - val_mse: 0.0754\n",
            "Epoch 5/160\n",
            "1/1 [==============================] - 0s 26ms/step - loss: 0.0643 - mse: 0.0643 - val_loss: 0.0556 - val_mse: 0.0556\n",
            "Epoch 6/160\n",
            "1/1 [==============================] - 0s 25ms/step - loss: 0.0663 - mse: 0.0663 - val_loss: 0.0501 - val_mse: 0.0501\n",
            "Epoch 7/160\n",
            "1/1 [==============================] - 0s 25ms/step - loss: 0.0512 - mse: 0.0512 - val_loss: 0.0467 - val_mse: 0.0467\n",
            "Epoch 8/160\n",
            "1/1 [==============================] - 0s 27ms/step - loss: 0.0449 - mse: 0.0449 - val_loss: 0.0404 - val_mse: 0.0404\n",
            "Epoch 9/160\n",
            "1/1 [==============================] - 0s 38ms/step - loss: 0.0431 - mse: 0.0431 - val_loss: 0.0378 - val_mse: 0.0378\n",
            "Epoch 10/160\n",
            "1/1 [==============================] - 0s 24ms/step - loss: 0.0374 - mse: 0.0374 - val_loss: 0.0383 - val_mse: 0.0383\n",
            "Epoch 11/160\n",
            "1/1 [==============================] - 0s 24ms/step - loss: 0.0258 - mse: 0.0258 - val_loss: 0.0350 - val_mse: 0.0350\n",
            "Epoch 12/160\n",
            "1/1 [==============================] - 0s 24ms/step - loss: 0.0330 - mse: 0.0330 - val_loss: 0.0354 - val_mse: 0.0354\n",
            "Epoch 13/160\n",
            "1/1 [==============================] - 0s 32ms/step - loss: 0.0358 - mse: 0.0358 - val_loss: 0.0483 - val_mse: 0.0483\n",
            "Epoch 14/160\n",
            "1/1 [==============================] - 0s 25ms/step - loss: 0.0322 - mse: 0.0322 - val_loss: 0.0335 - val_mse: 0.0335\n",
            "Epoch 15/160\n",
            "1/1 [==============================] - 0s 25ms/step - loss: 0.0386 - mse: 0.0386 - val_loss: 0.0459 - val_mse: 0.0459\n",
            "Epoch 16/160\n",
            "1/1 [==============================] - 0s 25ms/step - loss: 0.0293 - mse: 0.0293 - val_loss: 0.0483 - val_mse: 0.0483\n",
            "Epoch 17/160\n",
            "1/1 [==============================] - 0s 26ms/step - loss: 0.0530 - mse: 0.0530 - val_loss: 0.0722 - val_mse: 0.0722\n",
            "Epoch 18/160\n",
            "1/1 [==============================] - 0s 26ms/step - loss: 0.0643 - mse: 0.0643 - val_loss: 0.0570 - val_mse: 0.0570\n",
            "Epoch 19/160\n",
            "1/1 [==============================] - 0s 27ms/step - loss: 0.0546 - mse: 0.0546 - val_loss: 0.0636 - val_mse: 0.0636\n",
            "Epoch 20/160\n",
            "1/1 [==============================] - 0s 25ms/step - loss: 0.0508 - mse: 0.0508 - val_loss: 0.0450 - val_mse: 0.0450\n",
            "Epoch 21/160\n",
            "1/1 [==============================] - 0s 25ms/step - loss: 0.0497 - mse: 0.0497 - val_loss: 0.0569 - val_mse: 0.0569\n",
            "Epoch 22/160\n",
            "1/1 [==============================] - 0s 32ms/step - loss: 0.0572 - mse: 0.0572 - val_loss: 0.0643 - val_mse: 0.0643\n",
            "Epoch 23/160\n",
            "1/1 [==============================] - 0s 24ms/step - loss: 0.0706 - mse: 0.0706 - val_loss: 0.0895 - val_mse: 0.0895\n",
            "Epoch 24/160\n",
            "1/1 [==============================] - 0s 25ms/step - loss: 0.0927 - mse: 0.0927 - val_loss: 0.0635 - val_mse: 0.0635\n",
            "Epoch 25/160\n",
            "1/1 [==============================] - 0s 25ms/step - loss: 0.0585 - mse: 0.0585 - val_loss: 0.0383 - val_mse: 0.0383\n",
            "Epoch 26/160\n",
            "1/1 [==============================] - 0s 27ms/step - loss: 0.0281 - mse: 0.0281 - val_loss: 0.0269 - val_mse: 0.0269\n",
            "Epoch 27/160\n",
            "1/1 [==============================] - 0s 25ms/step - loss: 0.0326 - mse: 0.0326 - val_loss: 0.0323 - val_mse: 0.0323\n",
            "Epoch 28/160\n",
            "1/1 [==============================] - 0s 29ms/step - loss: 0.0291 - mse: 0.0291 - val_loss: 0.0274 - val_mse: 0.0274\n",
            "Epoch 29/160\n",
            "1/1 [==============================] - 0s 26ms/step - loss: 0.0266 - mse: 0.0266 - val_loss: 0.0236 - val_mse: 0.0236\n",
            "Epoch 30/160\n",
            "1/1 [==============================] - 0s 25ms/step - loss: 0.0235 - mse: 0.0235 - val_loss: 0.0251 - val_mse: 0.0251\n",
            "Epoch 31/160\n",
            "1/1 [==============================] - 0s 28ms/step - loss: 0.0206 - mse: 0.0206 - val_loss: 0.0196 - val_mse: 0.0196\n",
            "Epoch 32/160\n",
            "1/1 [==============================] - 0s 29ms/step - loss: 0.0185 - mse: 0.0185 - val_loss: 0.0308 - val_mse: 0.0308\n",
            "Epoch 33/160\n",
            "1/1 [==============================] - 0s 25ms/step - loss: 0.0342 - mse: 0.0342 - val_loss: 0.0508 - val_mse: 0.0508\n",
            "Epoch 34/160\n",
            "1/1 [==============================] - 0s 25ms/step - loss: 0.0487 - mse: 0.0487 - val_loss: 0.0619 - val_mse: 0.0619\n",
            "Epoch 35/160\n",
            "1/1 [==============================] - 0s 25ms/step - loss: 0.0630 - mse: 0.0630 - val_loss: 0.0538 - val_mse: 0.0538\n",
            "Epoch 36/160\n",
            "1/1 [==============================] - 0s 33ms/step - loss: 0.0521 - mse: 0.0521 - val_loss: 0.0410 - val_mse: 0.0410\n",
            "Epoch 37/160\n",
            "1/1 [==============================] - 0s 29ms/step - loss: 0.0394 - mse: 0.0394 - val_loss: 0.0358 - val_mse: 0.0358\n",
            "Epoch 38/160\n",
            "1/1 [==============================] - 0s 25ms/step - loss: 0.0365 - mse: 0.0365 - val_loss: 0.0265 - val_mse: 0.0265\n",
            "Epoch 39/160\n",
            "1/1 [==============================] - 0s 24ms/step - loss: 0.0242 - mse: 0.0242 - val_loss: 0.0301 - val_mse: 0.0301\n",
            "Epoch 40/160\n",
            "1/1 [==============================] - 0s 32ms/step - loss: 0.0381 - mse: 0.0381 - val_loss: 0.0414 - val_mse: 0.0414\n",
            "Epoch 41/160\n",
            "1/1 [==============================] - 0s 29ms/step - loss: 0.0353 - mse: 0.0353 - val_loss: 0.0253 - val_mse: 0.0253\n",
            "Epoch 42/160\n",
            "1/1 [==============================] - 0s 25ms/step - loss: 0.0272 - mse: 0.0272 - val_loss: 0.0297 - val_mse: 0.0297\n",
            "Epoch 43/160\n",
            "1/1 [==============================] - 0s 25ms/step - loss: 0.0244 - mse: 0.0244 - val_loss: 0.0284 - val_mse: 0.0284\n",
            "Epoch 44/160\n",
            "1/1 [==============================] - 0s 34ms/step - loss: 0.0366 - mse: 0.0366 - val_loss: 0.0380 - val_mse: 0.0380\n",
            "Epoch 45/160\n",
            "1/1 [==============================] - 0s 26ms/step - loss: 0.0378 - mse: 0.0378 - val_loss: 0.0265 - val_mse: 0.0265\n",
            "Epoch 46/160\n",
            "1/1 [==============================] - 0s 28ms/step - loss: 0.0299 - mse: 0.0299 - val_loss: 0.0390 - val_mse: 0.0390\n",
            "Epoch 47/160\n",
            "1/1 [==============================] - 0s 25ms/step - loss: 0.0301 - mse: 0.0301 - val_loss: 0.0264 - val_mse: 0.0264\n",
            "Epoch 48/160\n",
            "1/1 [==============================] - 0s 25ms/step - loss: 0.0300 - mse: 0.0300 - val_loss: 0.0388 - val_mse: 0.0388\n",
            "Epoch 49/160\n",
            "1/1 [==============================] - 0s 25ms/step - loss: 0.0373 - mse: 0.0373 - val_loss: 0.0370 - val_mse: 0.0370\n",
            "Epoch 50/160\n",
            "1/1 [==============================] - 0s 27ms/step - loss: 0.0445 - mse: 0.0445 - val_loss: 0.0501 - val_mse: 0.0501\n",
            "Epoch 51/160\n",
            "1/1 [==============================] - 0s 28ms/step - loss: 0.0420 - mse: 0.0420 - val_loss: 0.0286 - val_mse: 0.0286\n",
            "Epoch 52/160\n",
            "1/1 [==============================] - 0s 24ms/step - loss: 0.0327 - mse: 0.0327 - val_loss: 0.0343 - val_mse: 0.0343\n",
            "Epoch 53/160\n",
            "1/1 [==============================] - 0s 26ms/step - loss: 0.0279 - mse: 0.0279 - val_loss: 0.0195 - val_mse: 0.0195\n",
            "Epoch 54/160\n",
            "1/1 [==============================] - 0s 26ms/step - loss: 0.0211 - mse: 0.0211 - val_loss: 0.0211 - val_mse: 0.0211\n",
            "Epoch 55/160\n",
            "1/1 [==============================] - 0s 25ms/step - loss: 0.0334 - mse: 0.0334 - val_loss: 0.0174 - val_mse: 0.0174\n",
            "Epoch 56/160\n",
            "1/1 [==============================] - 0s 26ms/step - loss: 0.0203 - mse: 0.0203 - val_loss: 0.0226 - val_mse: 0.0226\n",
            "Epoch 57/160\n",
            "1/1 [==============================] - 0s 26ms/step - loss: 0.0209 - mse: 0.0209 - val_loss: 0.0174 - val_mse: 0.0174\n",
            "Epoch 58/160\n",
            "1/1 [==============================] - 0s 30ms/step - loss: 0.0228 - mse: 0.0228 - val_loss: 0.0368 - val_mse: 0.0368\n",
            "Epoch 59/160\n",
            "1/1 [==============================] - 0s 25ms/step - loss: 0.0288 - mse: 0.0288 - val_loss: 0.0295 - val_mse: 0.0295\n",
            "Epoch 60/160\n",
            "1/1 [==============================] - 0s 27ms/step - loss: 0.0399 - mse: 0.0399 - val_loss: 0.0689 - val_mse: 0.0689\n",
            "Epoch 61/160\n",
            "1/1 [==============================] - 0s 30ms/step - loss: 0.0487 - mse: 0.0487 - val_loss: 0.0357 - val_mse: 0.0357\n",
            "Epoch 62/160\n",
            "1/1 [==============================] - 0s 27ms/step - loss: 0.0436 - mse: 0.0436 - val_loss: 0.0629 - val_mse: 0.0629\n",
            "Epoch 63/160\n",
            "1/1 [==============================] - 0s 36ms/step - loss: 0.0479 - mse: 0.0479 - val_loss: 0.0364 - val_mse: 0.0364\n",
            "Epoch 64/160\n",
            "1/1 [==============================] - 0s 26ms/step - loss: 0.0446 - mse: 0.0446 - val_loss: 0.0424 - val_mse: 0.0424\n",
            "Epoch 65/160\n",
            "1/1 [==============================] - 0s 25ms/step - loss: 0.0273 - mse: 0.0273 - val_loss: 0.0183 - val_mse: 0.0183\n",
            "Epoch 66/160\n",
            "1/1 [==============================] - 0s 26ms/step - loss: 0.0202 - mse: 0.0202 - val_loss: 0.0283 - val_mse: 0.0283\n",
            "Epoch 67/160\n",
            "1/1 [==============================] - 0s 30ms/step - loss: 0.0248 - mse: 0.0248 - val_loss: 0.0192 - val_mse: 0.0192\n",
            "Epoch 68/160\n",
            "1/1 [==============================] - 0s 26ms/step - loss: 0.0249 - mse: 0.0249 - val_loss: 0.0348 - val_mse: 0.0348\n",
            "Epoch 69/160\n",
            "1/1 [==============================] - 0s 26ms/step - loss: 0.0305 - mse: 0.0305 - val_loss: 0.0265 - val_mse: 0.0265\n",
            "Epoch 70/160\n",
            "1/1 [==============================] - 0s 33ms/step - loss: 0.0232 - mse: 0.0232 - val_loss: 0.0322 - val_mse: 0.0322\n",
            "Epoch 71/160\n",
            "1/1 [==============================] - 0s 32ms/step - loss: 0.0249 - mse: 0.0249 - val_loss: 0.0227 - val_mse: 0.0227\n",
            "Epoch 72/160\n",
            "1/1 [==============================] - 0s 28ms/step - loss: 0.0244 - mse: 0.0244 - val_loss: 0.0423 - val_mse: 0.0423\n",
            "Epoch 73/160\n",
            "1/1 [==============================] - 0s 26ms/step - loss: 0.0345 - mse: 0.0345 - val_loss: 0.0300 - val_mse: 0.0300\n",
            "Epoch 74/160\n",
            "1/1 [==============================] - 0s 25ms/step - loss: 0.0339 - mse: 0.0339 - val_loss: 0.0439 - val_mse: 0.0439\n",
            "Epoch 75/160\n",
            "1/1 [==============================] - 0s 25ms/step - loss: 0.0343 - mse: 0.0343 - val_loss: 0.0270 - val_mse: 0.0270\n",
            "Epoch 76/160\n",
            "1/1 [==============================] - 0s 30ms/step - loss: 0.0337 - mse: 0.0337 - val_loss: 0.0391 - val_mse: 0.0391\n",
            "Epoch 77/160\n",
            "1/1 [==============================] - 0s 27ms/step - loss: 0.0246 - mse: 0.0246 - val_loss: 0.0205 - val_mse: 0.0205\n",
            "Epoch 78/160\n",
            "1/1 [==============================] - 0s 30ms/step - loss: 0.0258 - mse: 0.0258 - val_loss: 0.0373 - val_mse: 0.0373\n",
            "Epoch 79/160\n",
            "1/1 [==============================] - 0s 30ms/step - loss: 0.0220 - mse: 0.0220 - val_loss: 0.0210 - val_mse: 0.0210\n",
            "Epoch 80/160\n",
            "1/1 [==============================] - 0s 32ms/step - loss: 0.0207 - mse: 0.0207 - val_loss: 0.0319 - val_mse: 0.0319\n",
            "Epoch 81/160\n",
            "1/1 [==============================] - 0s 25ms/step - loss: 0.0185 - mse: 0.0185 - val_loss: 0.0187 - val_mse: 0.0187\n",
            "Epoch 82/160\n",
            "1/1 [==============================] - 0s 25ms/step - loss: 0.0201 - mse: 0.0201 - val_loss: 0.0222 - val_mse: 0.0222\n",
            "Epoch 83/160\n",
            "1/1 [==============================] - 0s 29ms/step - loss: 0.0204 - mse: 0.0204 - val_loss: 0.0182 - val_mse: 0.0182\n",
            "Epoch 84/160\n",
            "1/1 [==============================] - 0s 27ms/step - loss: 0.0180 - mse: 0.0180 - val_loss: 0.0220 - val_mse: 0.0220\n",
            "Epoch 85/160\n",
            "1/1 [==============================] - 0s 27ms/step - loss: 0.0131 - mse: 0.0131 - val_loss: 0.0161 - val_mse: 0.0161\n",
            "Epoch 86/160\n",
            "1/1 [==============================] - 0s 27ms/step - loss: 0.0176 - mse: 0.0176 - val_loss: 0.0294 - val_mse: 0.0294\n",
            "Epoch 87/160\n",
            "1/1 [==============================] - 0s 26ms/step - loss: 0.0177 - mse: 0.0177 - val_loss: 0.0149 - val_mse: 0.0149\n",
            "Epoch 88/160\n",
            "1/1 [==============================] - 0s 28ms/step - loss: 0.0183 - mse: 0.0183 - val_loss: 0.0294 - val_mse: 0.0294\n",
            "Epoch 89/160\n",
            "1/1 [==============================] - 0s 26ms/step - loss: 0.0227 - mse: 0.0227 - val_loss: 0.0318 - val_mse: 0.0318\n",
            "Epoch 90/160\n",
            "1/1 [==============================] - 0s 26ms/step - loss: 0.0456 - mse: 0.0456 - val_loss: 0.0926 - val_mse: 0.0926\n",
            "Epoch 91/160\n",
            "1/1 [==============================] - 0s 30ms/step - loss: 0.0855 - mse: 0.0855 - val_loss: 0.0723 - val_mse: 0.0723\n",
            "Epoch 92/160\n",
            "1/1 [==============================] - 0s 31ms/step - loss: 0.0716 - mse: 0.0716 - val_loss: 0.0339 - val_mse: 0.0339\n",
            "Epoch 93/160\n",
            "1/1 [==============================] - 0s 28ms/step - loss: 0.0198 - mse: 0.0198 - val_loss: 0.0214 - val_mse: 0.0214\n",
            "Epoch 94/160\n",
            "1/1 [==============================] - 0s 25ms/step - loss: 0.0121 - mse: 0.0121 - val_loss: 0.0207 - val_mse: 0.0207\n",
            "Epoch 95/160\n",
            "1/1 [==============================] - 0s 34ms/step - loss: 0.0119 - mse: 0.0119 - val_loss: 0.0199 - val_mse: 0.0199\n",
            "Epoch 96/160\n",
            "1/1 [==============================] - 0s 30ms/step - loss: 0.0119 - mse: 0.0119 - val_loss: 0.0206 - val_mse: 0.0206\n",
            "Epoch 97/160\n",
            "1/1 [==============================] - 0s 27ms/step - loss: 0.0154 - mse: 0.0154 - val_loss: 0.0194 - val_mse: 0.0194\n",
            "Epoch 98/160\n",
            "1/1 [==============================] - 0s 49ms/step - loss: 0.0130 - mse: 0.0130 - val_loss: 0.0217 - val_mse: 0.0217\n",
            "Epoch 99/160\n",
            "1/1 [==============================] - 0s 33ms/step - loss: 0.0187 - mse: 0.0187 - val_loss: 0.0186 - val_mse: 0.0186\n",
            "Epoch 100/160\n",
            "1/1 [==============================] - 0s 30ms/step - loss: 0.0177 - mse: 0.0177 - val_loss: 0.0347 - val_mse: 0.0347\n",
            "Epoch 101/160\n",
            "1/1 [==============================] - 0s 30ms/step - loss: 0.0299 - mse: 0.0299 - val_loss: 0.0295 - val_mse: 0.0295\n",
            "Epoch 102/160\n",
            "1/1 [==============================] - 0s 32ms/step - loss: 0.0355 - mse: 0.0355 - val_loss: 0.0516 - val_mse: 0.0516\n",
            "Epoch 103/160\n",
            "1/1 [==============================] - 0s 26ms/step - loss: 0.0357 - mse: 0.0357 - val_loss: 0.0271 - val_mse: 0.0271\n",
            "Epoch 104/160\n",
            "1/1 [==============================] - 0s 29ms/step - loss: 0.0310 - mse: 0.0310 - val_loss: 0.0349 - val_mse: 0.0349\n",
            "Epoch 105/160\n",
            "1/1 [==============================] - 0s 27ms/step - loss: 0.0162 - mse: 0.0162 - val_loss: 0.0196 - val_mse: 0.0196\n",
            "Epoch 106/160\n",
            "1/1 [==============================] - 0s 26ms/step - loss: 0.0147 - mse: 0.0147 - val_loss: 0.0251 - val_mse: 0.0251\n",
            "Epoch 107/160\n",
            "1/1 [==============================] - 0s 29ms/step - loss: 0.0145 - mse: 0.0145 - val_loss: 0.0177 - val_mse: 0.0177\n",
            "Epoch 108/160\n",
            "1/1 [==============================] - 0s 26ms/step - loss: 0.0153 - mse: 0.0153 - val_loss: 0.0185 - val_mse: 0.0185\n",
            "Epoch 109/160\n",
            "1/1 [==============================] - 0s 27ms/step - loss: 0.0151 - mse: 0.0151 - val_loss: 0.0170 - val_mse: 0.0170\n",
            "Epoch 110/160\n",
            "1/1 [==============================] - 0s 29ms/step - loss: 0.0140 - mse: 0.0140 - val_loss: 0.0219 - val_mse: 0.0219\n",
            "Epoch 111/160\n",
            "1/1 [==============================] - 0s 30ms/step - loss: 0.0133 - mse: 0.0133 - val_loss: 0.0179 - val_mse: 0.0179\n",
            "Epoch 112/160\n",
            "1/1 [==============================] - 0s 25ms/step - loss: 0.0167 - mse: 0.0167 - val_loss: 0.0209 - val_mse: 0.0209\n",
            "Epoch 113/160\n",
            "1/1 [==============================] - 0s 27ms/step - loss: 0.0111 - mse: 0.0111 - val_loss: 0.0200 - val_mse: 0.0200\n",
            "Epoch 114/160\n",
            "1/1 [==============================] - 0s 25ms/step - loss: 0.0124 - mse: 0.0124 - val_loss: 0.0212 - val_mse: 0.0212\n",
            "Epoch 115/160\n",
            "1/1 [==============================] - 0s 30ms/step - loss: 0.0164 - mse: 0.0164 - val_loss: 0.0161 - val_mse: 0.0161\n",
            "Epoch 116/160\n",
            "1/1 [==============================] - 0s 27ms/step - loss: 0.0189 - mse: 0.0189 - val_loss: 0.0522 - val_mse: 0.0522\n",
            "Epoch 117/160\n",
            "1/1 [==============================] - 0s 44ms/step - loss: 0.0267 - mse: 0.0267 - val_loss: 0.0360 - val_mse: 0.0360\n",
            "Epoch 118/160\n",
            "1/1 [==============================] - 0s 27ms/step - loss: 0.0441 - mse: 0.0441 - val_loss: 0.0623 - val_mse: 0.0623\n",
            "Epoch 119/160\n",
            "1/1 [==============================] - 0s 28ms/step - loss: 0.0475 - mse: 0.0475 - val_loss: 0.0331 - val_mse: 0.0331\n",
            "Epoch 120/160\n",
            "1/1 [==============================] - 0s 27ms/step - loss: 0.0324 - mse: 0.0324 - val_loss: 0.0338 - val_mse: 0.0338\n",
            "Epoch 121/160\n",
            "1/1 [==============================] - 0s 30ms/step - loss: 0.0210 - mse: 0.0210 - val_loss: 0.0196 - val_mse: 0.0196\n",
            "Epoch 122/160\n",
            "1/1 [==============================] - 0s 27ms/step - loss: 0.0184 - mse: 0.0184 - val_loss: 0.0255 - val_mse: 0.0255\n",
            "Epoch 123/160\n",
            "1/1 [==============================] - 0s 33ms/step - loss: 0.0225 - mse: 0.0225 - val_loss: 0.0178 - val_mse: 0.0178\n",
            "Epoch 124/160\n",
            "1/1 [==============================] - 0s 27ms/step - loss: 0.0158 - mse: 0.0158 - val_loss: 0.0251 - val_mse: 0.0251\n",
            "Epoch 125/160\n",
            "1/1 [==============================] - 0s 29ms/step - loss: 0.0180 - mse: 0.0180 - val_loss: 0.0165 - val_mse: 0.0165\n",
            "Epoch 126/160\n",
            "1/1 [==============================] - 0s 29ms/step - loss: 0.0152 - mse: 0.0152 - val_loss: 0.0277 - val_mse: 0.0277\n",
            "Epoch 127/160\n",
            "1/1 [==============================] - 0s 33ms/step - loss: 0.0219 - mse: 0.0219 - val_loss: 0.0182 - val_mse: 0.0182\n",
            "Epoch 128/160\n",
            "1/1 [==============================] - 0s 29ms/step - loss: 0.0160 - mse: 0.0160 - val_loss: 0.0276 - val_mse: 0.0276\n",
            "Epoch 129/160\n",
            "1/1 [==============================] - 0s 31ms/step - loss: 0.0206 - mse: 0.0206 - val_loss: 0.0203 - val_mse: 0.0203\n",
            "Epoch 130/160\n",
            "1/1 [==============================] - 0s 40ms/step - loss: 0.0168 - mse: 0.0168 - val_loss: 0.0335 - val_mse: 0.0335\n",
            "Epoch 131/160\n",
            "1/1 [==============================] - 0s 32ms/step - loss: 0.0179 - mse: 0.0179 - val_loss: 0.0176 - val_mse: 0.0176\n",
            "Epoch 132/160\n",
            "1/1 [==============================] - 0s 26ms/step - loss: 0.0208 - mse: 0.0208 - val_loss: 0.0394 - val_mse: 0.0394\n",
            "Epoch 133/160\n",
            "1/1 [==============================] - 0s 26ms/step - loss: 0.0289 - mse: 0.0289 - val_loss: 0.0378 - val_mse: 0.0378\n",
            "Epoch 134/160\n",
            "1/1 [==============================] - 0s 33ms/step - loss: 0.0380 - mse: 0.0380 - val_loss: 0.0380 - val_mse: 0.0380\n",
            "Epoch 135/160\n",
            "1/1 [==============================] - 0s 31ms/step - loss: 0.0211 - mse: 0.0211 - val_loss: 0.0195 - val_mse: 0.0195\n",
            "Epoch 136/160\n",
            "1/1 [==============================] - 0s 30ms/step - loss: 0.0143 - mse: 0.0143 - val_loss: 0.0244 - val_mse: 0.0244\n",
            "Epoch 137/160\n",
            "1/1 [==============================] - 0s 29ms/step - loss: 0.0127 - mse: 0.0127 - val_loss: 0.0182 - val_mse: 0.0182\n",
            "Epoch 138/160\n",
            "1/1 [==============================] - 0s 27ms/step - loss: 0.0106 - mse: 0.0106 - val_loss: 0.0200 - val_mse: 0.0200\n",
            "Epoch 139/160\n",
            "1/1 [==============================] - 0s 26ms/step - loss: 0.0146 - mse: 0.0146 - val_loss: 0.0173 - val_mse: 0.0173\n",
            "Epoch 140/160\n",
            "1/1 [==============================] - 0s 26ms/step - loss: 0.0165 - mse: 0.0165 - val_loss: 0.0291 - val_mse: 0.0291\n",
            "Epoch 141/160\n",
            "1/1 [==============================] - 0s 26ms/step - loss: 0.0193 - mse: 0.0193 - val_loss: 0.0201 - val_mse: 0.0201\n",
            "Epoch 142/160\n",
            "1/1 [==============================] - 0s 27ms/step - loss: 0.0218 - mse: 0.0218 - val_loss: 0.0466 - val_mse: 0.0466\n",
            "Epoch 143/160\n",
            "1/1 [==============================] - 0s 27ms/step - loss: 0.0301 - mse: 0.0301 - val_loss: 0.0282 - val_mse: 0.0282\n",
            "Epoch 144/160\n",
            "1/1 [==============================] - 0s 33ms/step - loss: 0.0321 - mse: 0.0321 - val_loss: 0.0432 - val_mse: 0.0432\n",
            "Epoch 145/160\n",
            "1/1 [==============================] - 0s 47ms/step - loss: 0.0261 - mse: 0.0261 - val_loss: 0.0212 - val_mse: 0.0212\n",
            "Epoch 146/160\n",
            "1/1 [==============================] - 0s 26ms/step - loss: 0.0261 - mse: 0.0261 - val_loss: 0.0296 - val_mse: 0.0296\n",
            "Epoch 147/160\n",
            "1/1 [==============================] - 0s 28ms/step - loss: 0.0165 - mse: 0.0165 - val_loss: 0.0185 - val_mse: 0.0185\n",
            "Epoch 148/160\n",
            "1/1 [==============================] - 0s 36ms/step - loss: 0.0179 - mse: 0.0179 - val_loss: 0.0281 - val_mse: 0.0281\n",
            "Epoch 149/160\n",
            "1/1 [==============================] - 0s 28ms/step - loss: 0.0132 - mse: 0.0132 - val_loss: 0.0184 - val_mse: 0.0184\n",
            "Epoch 150/160\n",
            "1/1 [==============================] - 0s 28ms/step - loss: 0.0123 - mse: 0.0123 - val_loss: 0.0180 - val_mse: 0.0180\n",
            "Epoch 151/160\n",
            "1/1 [==============================] - 0s 28ms/step - loss: 0.0111 - mse: 0.0111 - val_loss: 0.0196 - val_mse: 0.0196\n",
            "Epoch 152/160\n",
            "1/1 [==============================] - 0s 33ms/step - loss: 0.0204 - mse: 0.0204 - val_loss: 0.0214 - val_mse: 0.0214\n",
            "Epoch 153/160\n",
            "1/1 [==============================] - 0s 28ms/step - loss: 0.0161 - mse: 0.0161 - val_loss: 0.0317 - val_mse: 0.0317\n",
            "Epoch 154/160\n",
            "1/1 [==============================] - 0s 28ms/step - loss: 0.0211 - mse: 0.0211 - val_loss: 0.0219 - val_mse: 0.0219\n",
            "Epoch 155/160\n",
            "1/1 [==============================] - 0s 53ms/step - loss: 0.0158 - mse: 0.0158 - val_loss: 0.0327 - val_mse: 0.0327\n",
            "Epoch 156/160\n",
            "1/1 [==============================] - 0s 30ms/step - loss: 0.0199 - mse: 0.0199 - val_loss: 0.0214 - val_mse: 0.0214\n",
            "Epoch 157/160\n",
            "1/1 [==============================] - 0s 30ms/step - loss: 0.0184 - mse: 0.0184 - val_loss: 0.0313 - val_mse: 0.0313\n",
            "Epoch 158/160\n",
            "1/1 [==============================] - 0s 27ms/step - loss: 0.0187 - mse: 0.0187 - val_loss: 0.0208 - val_mse: 0.0208\n",
            "Epoch 159/160\n",
            "1/1 [==============================] - 0s 40ms/step - loss: 0.0216 - mse: 0.0216 - val_loss: 0.0454 - val_mse: 0.0454\n",
            "Epoch 160/160\n",
            "1/1 [==============================] - 0s 28ms/step - loss: 0.0234 - mse: 0.0234 - val_loss: 0.0220 - val_mse: 0.0220\n",
            "1/1 [==============================] - 0s 37ms/step - loss: 0.0085 - mse: 0.0085\n"
          ]
        },
        {
          "output_type": "execute_result",
          "data": {
            "text/plain": [
              "[0.008494284935295582, 0.008494284935295582]"
            ]
          },
          "metadata": {},
          "execution_count": 42
        }
      ]
    },
    {
      "cell_type": "code",
      "source": [
        "plt.plot(history.history['loss'], label='train')\n",
        "plt.plot(history.history['val_loss'], label='validation')\n",
        "plt.legend()\n",
        "plt.show()"
      ],
      "metadata": {
        "colab": {
          "base_uri": "https://localhost:8080/",
          "height": 345
        },
        "id": "ZsEmIQjJpRMB",
        "outputId": "c0075dcd-393c-46ac-cd6a-11c9e65850af"
      },
      "execution_count": 43,
      "outputs": [
        {
          "output_type": "display_data",
          "data": {
            "text/plain": [
              "<Figure size 720x360 with 1 Axes>"
            ],
            "image/png": "[encoded data removed]"
          },
          "metadata": {}
        }
      ]
    },
    {
      "cell_type": "code",
      "source": [
        "y_predTU = TUcnn_model.predict(X_test)\n",
        "y_predTU"
      ],
      "metadata": {
        "colab": {
          "base_uri": "https://localhost:8080/"
        },
        "id": "lHiuk7B6iQVK",
        "outputId": "302913a9-1a7e-4318-939f-3e221e3b849a"
      },
      "execution_count": 44,
      "outputs": [
        {
          "output_type": "stream",
          "name": "stdout",
          "text": [
            "1/1 [==============================] - 0s 77ms/step\n"
          ]
        },
        {
          "output_type": "execute_result",
          "data": {
            "text/plain": [
              "array([[ 0.04773451],\n",
              "       [ 0.00213994],\n",
              "       [ 0.02364346],\n",
              "       [ 0.03938057],\n",
              "       [ 0.00855441],\n",
              "       [-0.00316344],\n",
              "       [-0.00980202],\n",
              "       [-0.02807424],\n",
              "       [-0.06684397],\n",
              "       [-0.10228083],\n",
              "       [-0.10274419],\n",
              "       [-0.09801818],\n",
              "       [-0.10063002],\n",
              "       [-0.09872901],\n",
              "       [-0.0939144 ],\n",
              "       [-0.12548731],\n",
              "       [-0.14113927],\n",
              "       [-0.03879087],\n",
              "       [ 0.04808079],\n",
              "       [ 0.05237688],\n",
              "       [-0.01646077],\n",
              "       [-0.02512271]], dtype=float32)"
            ]
          },
          "metadata": {},
          "execution_count": 44
        }
      ]
    },
    {
      "cell_type": "code",
      "source": [
        "y_predTU.reshape(1,-1)"
      ],
      "metadata": {
        "colab": {
          "base_uri": "https://localhost:8080/"
        },
        "id": "JbqyY5OriQYh",
        "outputId": "ee656966-d7b6-4020-fad3-032eeedac8cc"
      },
      "execution_count": 45,
      "outputs": [
        {
          "output_type": "execute_result",
          "data": {
            "text/plain": [
              "array([[ 0.04773451,  0.00213994,  0.02364346,  0.03938057,  0.00855441,\n",
              "        -0.00316344, -0.00980202, -0.02807424, -0.06684397, -0.10228083,\n",
              "        -0.10274419, -0.09801818, -0.10063002, -0.09872901, -0.0939144 ,\n",
              "        -0.12548731, -0.14113927, -0.03879087,  0.04808079,  0.05237688,\n",
              "        -0.01646077, -0.02512271]], dtype=float32)"
            ]
          },
          "metadata": {},
          "execution_count": 45
        }
      ]
    },
    {
      "cell_type": "markdown",
      "source": [
        "###Invert Transformed Tuned Data"
      ],
      "metadata": {
        "id": "XXPkM7CFsB5U"
      }
    },
    {
      "cell_type": "code",
      "source": [
        "y_train_inv = cpo_pri_transformer.inverse_transform(y_train.reshape(1, -1))\n",
        "y_test_inv = cpo_pri_transformer.inverse_transform(y_test.reshape(1, -1))\n",
        "y_pred_inv = cpo_pri_transformer.inverse_transform(y_predTU.reshape(1,-1))\n",
        "print(y_train_inv)\n",
        "print(y_test_inv)\n",
        "print(y_pred_inv)"
      ],
      "metadata": {
        "colab": {
          "base_uri": "https://localhost:8080/"
        },
        "id": "gZ8inWeYy64m",
        "outputId": "71f99e03-ce3f-40d7-dd27-6b3e65a66d13"
      },
      "execution_count": 46,
      "outputs": [
        {
          "output_type": "stream",
          "name": "stdout",
          "text": [
            "[[376. 383. 382. 396. 402. 390. 404. 382. 382. 391. 396. 413. 401. 410.\n",
            "  425. 408. 392. 371. 356. 362. 356. 352. 333. 357. 411. 404. 387. 395.\n",
            "  434. 488. 508. 494. 575. 614. 616. 707. 719. 655. 661. 687. 625. 611.\n",
            "  631. 655. 616. 586. 615. 607. 590. 535. 518. 519. 562. 552. 508. 476.\n",
            "  513. 545. 532. 550. 561. 567. 580. 559. 562. 553. 533. 498. 504. 525.\n",
            "  547. 556. 566. 621. 659. 671. 688. 705. 633. 661. 674. 703. 694. 681.\n",
            "  663. 632. 561. 497. 509. 475. 392. 319. 354. 388. 381. 370.]]\n",
            "[[349. 372. 324. 315. 312. 306. 288. 255. 257. 265. 254. 240. 254. 251.\n",
            "  234. 255. 330. 362. 310. 277. 323. 360.]]\n",
            "[[338.0938  319.856   328.45737 334.75223 322.42175 317.73462 315.0792\n",
            "  307.7703  292.26242 278.08768 277.9023  279.79272 278.748   279.5084\n",
            "  281.43427 268.80508 262.5443  303.48364 338.23233 339.95074 312.4157\n",
            "  308.95093]]\n"
          ]
        }
      ]
    },
    {
      "cell_type": "code",
      "source": [
        "y_train_inv = y_train_inv.flatten()\n",
        "y_train_inv"
      ],
      "metadata": {
        "colab": {
          "base_uri": "https://localhost:8080/"
        },
        "id": "2g9TLmgHy7Hw",
        "outputId": "b1193e00-6e8d-4daa-a5e6-c1b7f847b181"
      },
      "execution_count": 47,
      "outputs": [
        {
          "output_type": "execute_result",
          "data": {
            "text/plain": [
              "array([376., 383., 382., 396., 402., 390., 404., 382., 382., 391., 396.,\n",
              "       413., 401., 410., 425., 408., 392., 371., 356., 362., 356., 352.,\n",
              "       333., 357., 411., 404., 387., 395., 434., 488., 508., 494., 575.,\n",
              "       614., 616., 707., 719., 655., 661., 687., 625., 611., 631., 655.,\n",
              "       616., 586., 615., 607., 590., 535., 518., 519., 562., 552., 508.,\n",
              "       476., 513., 545., 532., 550., 561., 567., 580., 559., 562., 553.,\n",
              "       533., 498., 504., 525., 547., 556., 566., 621., 659., 671., 688.,\n",
              "       705., 633., 661., 674., 703., 694., 681., 663., 632., 561., 497.,\n",
              "       509., 475., 392., 319., 354., 388., 381., 370.])"
            ]
          },
          "metadata": {},
          "execution_count": 47
        }
      ]
    },
    {
      "cell_type": "code",
      "source": [
        "y_test_inv = y_test_inv.flatten()\n",
        "y_test_inv"
      ],
      "metadata": {
        "colab": {
          "base_uri": "https://localhost:8080/"
        },
        "id": "PDdnZUrXy7L4",
        "outputId": "e17c32a0-e5e2-4892-a059-e70a0610ac72"
      },
      "execution_count": 48,
      "outputs": [
        {
          "output_type": "execute_result",
          "data": {
            "text/plain": [
              "array([349., 372., 324., 315., 312., 306., 288., 255., 257., 265., 254.,\n",
              "       240., 254., 251., 234., 255., 330., 362., 310., 277., 323., 360.])"
            ]
          },
          "metadata": {},
          "execution_count": 48
        }
      ]
    },
    {
      "cell_type": "code",
      "source": [
        "TU_CNN_Pred = y_pred_inv.flatten()   #y_pred_inv = TU_CNN_Pred\n",
        "TU_CNN_Pred"
      ],
      "metadata": {
        "colab": {
          "base_uri": "https://localhost:8080/"
        },
        "id": "fqq4-3-lsuEy",
        "outputId": "db16f714-b11e-49ea-9756-70f3e190b536"
      },
      "execution_count": 49,
      "outputs": [
        {
          "output_type": "execute_result",
          "data": {
            "text/plain": [
              "array([338.0938 , 319.856  , 328.45737, 334.75223, 322.42175, 317.73462,\n",
              "       315.0792 , 307.7703 , 292.26242, 278.08768, 277.9023 , 279.79272,\n",
              "       278.748  , 279.5084 , 281.43427, 268.80508, 262.5443 , 303.48364,\n",
              "       338.23233, 339.95074, 312.4157 , 308.95093], dtype=float32)"
            ]
          },
          "metadata": {},
          "execution_count": 49
        }
      ]
    },
    {
      "cell_type": "code",
      "source": [
        "plt.plot(np.arange(0, len(y_train)), y_train_inv, color='green', label=\"History\")\n",
        "plt.plot(np.arange(len(y_train), len(y_train) + len(y_test)), y_test_inv, color='blue', marker='.', label=\"Actual\")\n",
        "plt.plot(np.arange(len(y_train), len(y_train) + len(y_test)), TU_CNN_Pred, color='red', label=\"Tuned CNN Prediction\")\n",
        "plt.ylabel('Crude Palm Oil Price')\n",
        "plt.xlabel('Time')\n",
        "plt.legend()\n",
        "plt.show();"
      ],
      "metadata": {
        "colab": {
          "base_uri": "https://localhost:8080/",
          "height": 363
        },
        "id": "nBN919VXsuNq",
        "outputId": "0e32c38b-cbff-4a31-cad6-8189890b09ee"
      },
      "execution_count": 50,
      "outputs": [
        {
          "output_type": "display_data",
          "data": {
            "text/plain": [
              "<Figure size 720x360 with 1 Axes>"
            ],
            "image/png": "[encoded data removed]"
          },
          "metadata": {}
        }
      ]
    },
    {
      "cell_type": "code",
      "source": [
        "TUMAE_cnn = mean_absolute_error(y_test_inv, TU_CNN_Pred)\n",
        "print('MAE value of the CNN Model is:', TUMAE_cnn)\n",
        "\n",
        "TUMDA_cnn = mda(y_test_inv, TU_CNN_Pred)\n",
        "print('MDA value of the CNN Model is:', TUMDA_cnn)\n",
        "\n",
        "TUMAPE_cnn = mean_absolute_percentage_error(y_test_inv, TU_CNN_Pred)\n",
        "print('MAPE value of the CNN Model is:', TUMAPE_cnn)\n",
        "\n",
        "TURMSE_cnn = mean_squared_error(y_test_inv,TU_CNN_Pred, squared=False)\n",
        "print('RMSE value of the CNN Model is:', TURMSE_cnn)\n",
        "\n",
        "TUMSE_cnn = mean_squared_error(y_test_inv,TU_CNN_Pred)\n",
        "print('MSE value of the CNN Model is:', TUMSE_cnn)"
      ],
      "metadata": {
        "colab": {
          "base_uri": "https://localhost:8080/"
        },
        "id": "FqciJO0esuRc",
        "outputId": "0fb43854-007f-4369-b9b9-87c964925ee6"
      },
      "execution_count": 51,
      "outputs": [
        {
          "output_type": "stream",
          "name": "stdout",
          "text": [
            "MAE value of the CNN Model is: 31.572500055486504\n",
            "MDA value of the CNN Model is: 0.2857142857142857\n",
            "MAPE value of the CNN Model is: 10.881486797063818\n",
            "RMSE value of the CNN Model is: 36.86577642577578\n",
            "MSE value of the CNN Model is: 1359.085471475285\n"
          ]
        }
      ]
    },
    {
      "cell_type": "markdown",
      "source": [
        "Tuned CNN Actual VS Predicted Zoomed-IN"
      ],
      "metadata": {
        "id": "oczznVkQihRI"
      }
    },
    {
      "cell_type": "code",
      "source": [
        "plt.figure(figsize=(17,9))\n",
        "#plt.grid()\n",
        "#plt.plot(np.arange(0, len(y_train)), y_train_inv, color='green', label=\"History\")\n",
        "plt.plot(np.arange(len(y_train), len(y_train) + len(y_test)), y_test_inv, color='blue', marker='.', label=\"Actual\")\n",
        "plt.plot(np.arange(len(y_train), len(y_train) + len(y_test)), TU_CNN_Pred, color='red', label=\"Tuned CNN Prediction\")\n",
        "plt.ylabel('Crude Palm Oil Price')\n",
        "plt.xlabel('Time')\n",
        "plt.legend()\n",
        "ax.grid()\n",
        "#plt.grid()\n",
        "#plt.show();"
      ],
      "metadata": {
        "colab": {
          "base_uri": "https://localhost:8080/",
          "height": 596
        },
        "id": "RmqyhCu_iV_w",
        "outputId": "484ef2c9-b1e4-4c4e-fe6e-1158e2ea7397"
      },
      "execution_count": 52,
      "outputs": [
        {
          "output_type": "display_data",
          "data": {
            "text/plain": [
              "<Figure size 1224x648 with 1 Axes>"
            ],
            "image/png": "[encoded data removed]"
          },
          "metadata": {}
        }
      ]
    },
    {
      "cell_type": "markdown",
      "source": [
        "##Results\n",
        "\n",
        "Baseline MSE         = 0.0188\n",
        "\n",
        "Random search MSE    = 0.1198\n",
        "\n",
        "Bayesian search MAE  = 0.3479\n",
        "\n",
        "Hyperband search MSE = \n",
        "\n",
        "Tuned CNN MSE        ="
      ],
      "metadata": {
        "id": "xMdKc2DKj1e-"
      }
    },
    {
      "cell_type": "code",
      "source": [
        "TU_CNN_Pred"
      ],
      "metadata": {
        "colab": {
          "base_uri": "https://localhost:8080/"
        },
        "id": "LShDk-P_jNRO",
        "outputId": "41266de6-05d6-4a3a-f5e3-5880b3109eda"
      },
      "execution_count": 56,
      "outputs": [
        {
          "output_type": "execute_result",
          "data": {
            "text/plain": [
              "array([338.0938 , 319.856  , 328.45737, 334.75223, 322.42175, 317.73462,\n",
              "       315.0792 , 307.7703 , 292.26242, 278.08768, 277.9023 , 279.79272,\n",
              "       278.748  , 279.5084 , 281.43427, 268.80508, 262.5443 , 303.48364,\n",
              "       338.23233, 339.95074, 312.4157 , 308.95093], dtype=float32)"
            ]
          },
          "metadata": {},
          "execution_count": 56
        }
      ]
    },
    {
      "cell_type": "code",
      "source": [],
      "metadata": {
        "id": "5nYTPO1aVX9x"
      },
      "execution_count": null,
      "outputs": []
    },
    {
      "cell_type": "code",
      "source": [],
      "metadata": {
        "id": "hv93aOpUVYLh"
      },
      "execution_count": null,
      "outputs": []
    },
    {
      "cell_type": "code",
      "source": [],
      "metadata": {
        "id": "L0ewVCYKjNot"
      },
      "execution_count": null,
      "outputs": []
    }
  ]
}