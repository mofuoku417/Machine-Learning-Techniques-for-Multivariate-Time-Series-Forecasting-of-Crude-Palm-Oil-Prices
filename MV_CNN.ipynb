{
  "nbformat": 4,
  "nbformat_minor": 0,
  "metadata": {
    "colab": {
      "name": "MV_CNN.ipynb",
      "provenance": [],
      "authorship_tag": "ABX9TyPlMzSWtP8SfKacv5Y8Zj/g",
      "include_colab_link": true
    },
    "kernelspec": {
      "name": "python3",
      "display_name": "Python 3"
    },
    "language_info": {
      "name": "python"
    },
    "gpuClass": "standard",
    "accelerator": "GPU"
  },
  "cells": [
    {
      "cell_type": "markdown",
      "metadata": {
        "id": "view-in-github",
        "colab_type": "text"
      },
      "source": [
        "<a href=\"https://colab.research.google.com/github/mofuoku417/Machine-Learning-Techniques-for-Multivariate-Time-Series-Forecasting-of-Crude-Palm-Oil-Prices/blob/main/MV_CNN.ipynb\" target=\"_parent\"><img src=\"https://colab.research.google.com/assets/colab-badge.svg\" alt=\"Open In Colab\"/></a>"
      ]
    },
    {
      "cell_type": "markdown",
      "source": [
        "##Objective: Predict Monthly Crude Palm Oil Price Using Convolutional Neural Network (CNN)"
      ],
      "metadata": {
        "id": "tt6Yvzr3gZ-g"
      }
    },
    {
      "cell_type": "code",
      "source": [
        "!pip install scikeras\n",
        "!pip install bayesian-optimization\n",
        "!pip install keras-tuner --upgrade"
      ],
      "metadata": {
        "id": "gGw0m6TUdgMM",
        "outputId": "74a5c5c6-83a7-4496-dbb0-0aa6e58711f5",
        "colab": {
          "base_uri": "https://localhost:8080/"
        }
      },
      "execution_count": null,
      "outputs": [
        {
          "output_type": "stream",
          "name": "stdout",
          "text": [
            "Looking in indexes: https://pypi.org/simple, https://us-python.pkg.dev/colab-wheels/public/simple/\n",
            "Collecting scikeras\n",
            "  Downloading scikeras-0.10.0-py3-none-any.whl (27 kB)\n",
            "Requirement already satisfied: packaging>=0.21 in /usr/local/lib/python3.8/dist-packages (from scikeras) (21.3)\n",
            "Requirement already satisfied: scikit-learn>=1.0.0 in /usr/local/lib/python3.8/dist-packages (from scikeras) (1.0.2)\n",
            "Requirement already satisfied: pyparsing!=3.0.5,>=2.0.2 in /usr/local/lib/python3.8/dist-packages (from packaging>=0.21->scikeras) (3.0.9)\n",
            "Requirement already satisfied: scipy>=1.1.0 in /usr/local/lib/python3.8/dist-packages (from scikit-learn>=1.0.0->scikeras) (1.7.3)\n",
            "Requirement already satisfied: numpy>=1.14.6 in /usr/local/lib/python3.8/dist-packages (from scikit-learn>=1.0.0->scikeras) (1.21.6)\n",
            "Requirement already satisfied: joblib>=0.11 in /usr/local/lib/python3.8/dist-packages (from scikit-learn>=1.0.0->scikeras) (1.2.0)\n",
            "Requirement already satisfied: threadpoolctl>=2.0.0 in /usr/local/lib/python3.8/dist-packages (from scikit-learn>=1.0.0->scikeras) (3.1.0)\n",
            "Installing collected packages: scikeras\n",
            "Successfully installed scikeras-0.10.0\n",
            "Looking in indexes: https://pypi.org/simple, https://us-python.pkg.dev/colab-wheels/public/simple/\n",
            "Collecting bayesian-optimization\n",
            "  Downloading bayesian_optimization-1.4.2-py3-none-any.whl (17 kB)\n",
            "Requirement already satisfied: numpy>=1.9.0 in /usr/local/lib/python3.8/dist-packages (from bayesian-optimization) (1.21.6)\n",
            "Collecting colorama>=0.4.6\n",
            "  Downloading colorama-0.4.6-py2.py3-none-any.whl (25 kB)\n",
            "Requirement already satisfied: scikit-learn>=0.18.0 in /usr/local/lib/python3.8/dist-packages (from bayesian-optimization) (1.0.2)\n",
            "Requirement already satisfied: scipy>=1.0.0 in /usr/local/lib/python3.8/dist-packages (from bayesian-optimization) (1.7.3)\n",
            "Requirement already satisfied: threadpoolctl>=2.0.0 in /usr/local/lib/python3.8/dist-packages (from scikit-learn>=0.18.0->bayesian-optimization) (3.1.0)\n",
            "Requirement already satisfied: joblib>=0.11 in /usr/local/lib/python3.8/dist-packages (from scikit-learn>=0.18.0->bayesian-optimization) (1.2.0)\n",
            "Installing collected packages: colorama, bayesian-optimization\n",
            "Successfully installed bayesian-optimization-1.4.2 colorama-0.4.6\n",
            "Looking in indexes: https://pypi.org/simple, https://us-python.pkg.dev/colab-wheels/public/simple/\n",
            "Collecting keras-tuner\n",
            "  Downloading keras_tuner-1.1.3-py3-none-any.whl (135 kB)\n",
            "\u001b[2K     \u001b[90m━━━━━━━━━━━━━━━━━━━━━━━━━━━━━━━━━━━━━━━\u001b[0m \u001b[32m135.7/135.7 KB\u001b[0m \u001b[31m9.7 MB/s\u001b[0m eta \u001b[36m0:00:00\u001b[0m\n",
            "\u001b[?25hRequirement already satisfied: numpy in /usr/local/lib/python3.8/dist-packages (from keras-tuner) (1.21.6)\n",
            "Requirement already satisfied: packaging in /usr/local/lib/python3.8/dist-packages (from keras-tuner) (21.3)\n",
            "Requirement already satisfied: tensorboard in /usr/local/lib/python3.8/dist-packages (from keras-tuner) (2.9.1)\n",
            "Requirement already satisfied: ipython in /usr/local/lib/python3.8/dist-packages (from keras-tuner) (7.9.0)\n",
            "Requirement already satisfied: requests in /usr/local/lib/python3.8/dist-packages (from keras-tuner) (2.25.1)\n",
            "Collecting kt-legacy\n",
            "  Downloading kt_legacy-1.0.4-py3-none-any.whl (9.6 kB)\n",
            "Requirement already satisfied: setuptools>=18.5 in /usr/local/lib/python3.8/dist-packages (from ipython->keras-tuner) (57.4.0)\n",
            "Requirement already satisfied: pickleshare in /usr/local/lib/python3.8/dist-packages (from ipython->keras-tuner) (0.7.5)\n",
            "Requirement already satisfied: pexpect in /usr/local/lib/python3.8/dist-packages (from ipython->keras-tuner) (4.8.0)\n",
            "Requirement already satisfied: prompt-toolkit<2.1.0,>=2.0.0 in /usr/local/lib/python3.8/dist-packages (from ipython->keras-tuner) (2.0.10)\n",
            "Requirement already satisfied: decorator in /usr/local/lib/python3.8/dist-packages (from ipython->keras-tuner) (4.4.2)\n",
            "Requirement already satisfied: pygments in /usr/local/lib/python3.8/dist-packages (from ipython->keras-tuner) (2.6.1)\n",
            "Requirement already satisfied: traitlets>=4.2 in /usr/local/lib/python3.8/dist-packages (from ipython->keras-tuner) (5.7.1)\n",
            "Requirement already satisfied: backcall in /usr/local/lib/python3.8/dist-packages (from ipython->keras-tuner) (0.2.0)\n",
            "Collecting jedi>=0.10\n",
            "  Downloading jedi-0.18.2-py2.py3-none-any.whl (1.6 MB)\n",
            "\u001b[2K     \u001b[90m━━━━━━━━━━━━━━━━━━━━━━━━━━━━━━━━━━━━━━━━\u001b[0m \u001b[32m1.6/1.6 MB\u001b[0m \u001b[31m48.7 MB/s\u001b[0m eta \u001b[36m0:00:00\u001b[0m\n",
            "\u001b[?25hRequirement already satisfied: pyparsing!=3.0.5,>=2.0.2 in /usr/local/lib/python3.8/dist-packages (from packaging->keras-tuner) (3.0.9)\n",
            "Requirement already satisfied: certifi>=2017.4.17 in /usr/local/lib/python3.8/dist-packages (from requests->keras-tuner) (2022.12.7)\n",
            "Requirement already satisfied: idna<3,>=2.5 in /usr/local/lib/python3.8/dist-packages (from requests->keras-tuner) (2.10)\n",
            "Requirement already satisfied: chardet<5,>=3.0.2 in /usr/local/lib/python3.8/dist-packages (from requests->keras-tuner) (4.0.0)\n",
            "Requirement already satisfied: urllib3<1.27,>=1.21.1 in /usr/local/lib/python3.8/dist-packages (from requests->keras-tuner) (1.24.3)\n",
            "Requirement already satisfied: google-auth-oauthlib<0.5,>=0.4.1 in /usr/local/lib/python3.8/dist-packages (from tensorboard->keras-tuner) (0.4.6)\n",
            "Requirement already satisfied: google-auth<3,>=1.6.3 in /usr/local/lib/python3.8/dist-packages (from tensorboard->keras-tuner) (2.15.0)\n",
            "Requirement already satisfied: tensorboard-plugin-wit>=1.6.0 in /usr/local/lib/python3.8/dist-packages (from tensorboard->keras-tuner) (1.8.1)\n",
            "Requirement already satisfied: grpcio>=1.24.3 in /usr/local/lib/python3.8/dist-packages (from tensorboard->keras-tuner) (1.51.1)\n",
            "Requirement already satisfied: protobuf<3.20,>=3.9.2 in /usr/local/lib/python3.8/dist-packages (from tensorboard->keras-tuner) (3.19.6)\n",
            "Requirement already satisfied: absl-py>=0.4 in /usr/local/lib/python3.8/dist-packages (from tensorboard->keras-tuner) (1.3.0)\n",
            "Requirement already satisfied: tensorboard-data-server<0.7.0,>=0.6.0 in /usr/local/lib/python3.8/dist-packages (from tensorboard->keras-tuner) (0.6.1)\n",
            "Requirement already satisfied: werkzeug>=1.0.1 in /usr/local/lib/python3.8/dist-packages (from tensorboard->keras-tuner) (1.0.1)\n",
            "Requirement already satisfied: markdown>=2.6.8 in /usr/local/lib/python3.8/dist-packages (from tensorboard->keras-tuner) (3.4.1)\n",
            "Requirement already satisfied: wheel>=0.26 in /usr/local/lib/python3.8/dist-packages (from tensorboard->keras-tuner) (0.38.4)\n",
            "Requirement already satisfied: rsa<5,>=3.1.4 in /usr/local/lib/python3.8/dist-packages (from google-auth<3,>=1.6.3->tensorboard->keras-tuner) (4.9)\n",
            "Requirement already satisfied: cachetools<6.0,>=2.0.0 in /usr/local/lib/python3.8/dist-packages (from google-auth<3,>=1.6.3->tensorboard->keras-tuner) (5.2.0)\n",
            "Requirement already satisfied: pyasn1-modules>=0.2.1 in /usr/local/lib/python3.8/dist-packages (from google-auth<3,>=1.6.3->tensorboard->keras-tuner) (0.2.8)\n",
            "Requirement already satisfied: six>=1.9.0 in /usr/local/lib/python3.8/dist-packages (from google-auth<3,>=1.6.3->tensorboard->keras-tuner) (1.15.0)\n",
            "Requirement already satisfied: requests-oauthlib>=0.7.0 in /usr/local/lib/python3.8/dist-packages (from google-auth-oauthlib<0.5,>=0.4.1->tensorboard->keras-tuner) (1.3.1)\n",
            "Requirement already satisfied: parso<0.9.0,>=0.8.0 in /usr/local/lib/python3.8/dist-packages (from jedi>=0.10->ipython->keras-tuner) (0.8.3)\n",
            "Requirement already satisfied: importlib-metadata>=4.4 in /usr/local/lib/python3.8/dist-packages (from markdown>=2.6.8->tensorboard->keras-tuner) (6.0.0)\n",
            "Requirement already satisfied: wcwidth in /usr/local/lib/python3.8/dist-packages (from prompt-toolkit<2.1.0,>=2.0.0->ipython->keras-tuner) (0.2.5)\n",
            "Requirement already satisfied: ptyprocess>=0.5 in /usr/local/lib/python3.8/dist-packages (from pexpect->ipython->keras-tuner) (0.7.0)\n",
            "Requirement already satisfied: zipp>=0.5 in /usr/local/lib/python3.8/dist-packages (from importlib-metadata>=4.4->markdown>=2.6.8->tensorboard->keras-tuner) (3.11.0)\n",
            "Requirement already satisfied: pyasn1<0.5.0,>=0.4.6 in /usr/local/lib/python3.8/dist-packages (from pyasn1-modules>=0.2.1->google-auth<3,>=1.6.3->tensorboard->keras-tuner) (0.4.8)\n",
            "Requirement already satisfied: oauthlib>=3.0.0 in /usr/local/lib/python3.8/dist-packages (from requests-oauthlib>=0.7.0->google-auth-oauthlib<0.5,>=0.4.1->tensorboard->keras-tuner) (3.2.2)\n",
            "Installing collected packages: kt-legacy, jedi, keras-tuner\n",
            "Successfully installed jedi-0.18.2 keras-tuner-1.1.3 kt-legacy-1.0.4\n"
          ]
        }
      ]
    },
    {
      "cell_type": "markdown",
      "source": [
        "###Load Libraries"
      ],
      "metadata": {
        "id": "r_2Cswg0sYN8"
      }
    },
    {
      "cell_type": "code",
      "source": [
        "from numpy.random import seed\n",
        "seed(1)\n",
        "import tensorflow as tf\n",
        "tf.random.set_seed(1)\n",
        "\n",
        "import pandas as pd\n",
        "import numpy as np\n",
        "import matplotlib.pyplot as plt\n",
        "import seaborn as sns\n",
        "plt.rcParams['figure.figsize'] = (10, 5)\n",
        "plt.style.use('fivethirtyeight')\n",
        "from plotly.subplots import make_subplots\n",
        "import plotly.graph_objects as go\n",
        "import tensorflow as tf\n",
        "from tensorflow.keras import layers\n",
        "from sklearn.metrics import mean_absolute_error\n",
        "from sklearn.metrics import make_scorer, mean_squared_error\n",
        "from keras.layers import Dense, Dropout\n",
        "from sklearn.metrics import explained_variance_score\n",
        "from sklearn.neural_network import MLPRegressor\n",
        "from sklearn.model_selection import GridSearchCV, RandomizedSearchCV\n",
        "import warnings\n",
        "warnings.filterwarnings('ignore')\n",
        "from keras.models import Sequential\n",
        "from keras.layers import Dense\n",
        "from keras.wrappers.scikit_learn import KerasRegressor\n",
        "from keras.wrappers.scikit_learn import KerasClassifier\n",
        "from sklearn.model_selection import KFold, cross_val_score\n",
        "from scikeras.wrappers import KerasRegressor\n",
        "from tensorflow import keras\n",
        "from kerastuner.tuners import RandomSearch\n",
        "from kerastuner import HyperModel, RandomSearch, Hyperband, BayesianOptimization\n",
        "from keras.callbacks import EarlyStopping\n",
        "from time import time\n",
        "import pickle\n",
        "\n",
        "import matplotlib.dates as mdates\n",
        "from sklearn.preprocessing import RobustScaler\n",
        "from sklearn.preprocessing import MinMaxScaler"
      ],
      "metadata": {
        "id": "eJUaw5qy34It"
      },
      "execution_count": null,
      "outputs": []
    },
    {
      "cell_type": "markdown",
      "source": [
        "###Define Functions to Facilitate Metrics Evaluation"
      ],
      "metadata": {
        "id": "Gzu9V2o2gfZG"
      }
    },
    {
      "cell_type": "code",
      "source": [
        "#To compute Mean Directional Accuracy\n",
        "def mda(actual: np.ndarray, predicted: np.ndarray):\n",
        "    \"\"\" Mean Directional Accuracy \"\"\"\n",
        "    return np.mean((np.sign(actual[1:] - actual[:-1]) == np.sign(predicted[1:] - predicted[:-1])).astype(int))\n",
        "\n",
        "#Calculate the Mean Absolute Percentage Error\n",
        "#def MAPE(y_true, y_pred): \n",
        "    #mape = np.mean(np.abs((np.array(y_true) - np.array(y_pred)) / np.array(y_true))) * 100\n",
        "    #return mape\n",
        "\n",
        "def mean_absolute_percentage_error(y_true, y_pred): \n",
        "    y_true, y_pred = np.array(y_true), np.array(y_pred)\n",
        "    return np.mean(np.abs((y_true - y_pred) / y_true)) * 100\n",
        "\n",
        "def MAPE(y_true, y_pred): \n",
        "    y_true, y_pred = np.array(y_true), np.array(y_pred)\n",
        "    return np.mean(np.abs((y_true - y_pred) / y_true)) * 100\n",
        "\n",
        "#Calculate the Root Mean Squared Error:\n",
        "def RMSE(y_true, y_pred): \n",
        "    rmse = np.sqrt(mean_squared_error(y_true, y_pred))\n",
        "    return rmse"
      ],
      "metadata": {
        "id": "k7RYx1rN_Yf_"
      },
      "execution_count": null,
      "outputs": []
    },
    {
      "cell_type": "markdown",
      "source": [
        "###Load the Cleaned Data from Github"
      ],
      "metadata": {
        "id": "FVpIGyF7g4od"
      }
    },
    {
      "cell_type": "code",
      "source": [
        "from pandas import read_csv\n",
        "path = 'https://raw.githubusercontent.com/mofuoku417/Machine-Learning-Techniques-for-Multivariate-Time-Series-Forecasting-of-Crude-Palm-Oil-Prices/main/Cleaned_data/FS_2.csv'\n",
        "df = read_csv(path)\n",
        "df.head()"
      ],
      "metadata": {
        "colab": {
          "base_uri": "https://localhost:8080/",
          "height": 201
        },
        "id": "z_6wFR8b3xZf",
        "outputId": "3e465ed0-e278-4a40-a0f7-7ddbf311b12f"
      },
      "execution_count": null,
      "outputs": [
        {
          "output_type": "execute_result",
          "data": {
            "text/plain": [
              "      date  cpo_pri  cno_pri  oli_pri  rps_pri  pno_pri  sbo_pri  sfo_pri\n",
              "0  12/1/10      323      455  3102.61   423.45    844.0    468.0    578.0\n",
              "1   1/1/11      345      546  3100.45   415.85    799.0    485.0    557.0\n",
              "2   2/1/11      362      595  3199.41   410.77    718.0    466.0    552.0\n",
              "3   3/1/11      376      636  3281.67   414.82    614.0    442.0    574.0\n",
              "4   4/1/11      383      738  3261.65   451.04    619.0    429.0    595.0"
            ],
            "text/html": [
              "\n",
              "  <div id=\"df-9085116c-59ff-4bf3-944b-26f65e05e67c\">\n",
              "    <div class=\"colab-df-container\">\n",
              "      <div>\n",
              "<style scoped>\n",
              "    .dataframe tbody tr th:only-of-type {\n",
              "        vertical-align: middle;\n",
              "    }\n",
              "\n",
              "    .dataframe tbody tr th {\n",
              "        vertical-align: top;\n",
              "    }\n",
              "\n",
              "    .dataframe thead th {\n",
              "        text-align: right;\n",
              "    }\n",
              "</style>\n",
              "<table border=\"1\" class=\"dataframe\">\n",
              "  <thead>\n",
              "    <tr style=\"text-align: right;\">\n",
              "      <th></th>\n",
              "      <th>date</th>\n",
              "      <th>cpo_pri</th>\n",
              "      <th>cno_pri</th>\n",
              "      <th>oli_pri</th>\n",
              "      <th>rps_pri</th>\n",
              "      <th>pno_pri</th>\n",
              "      <th>sbo_pri</th>\n",
              "      <th>sfo_pri</th>\n",
              "    </tr>\n",
              "  </thead>\n",
              "  <tbody>\n",
              "    <tr>\n",
              "      <th>0</th>\n",
              "      <td>12/1/10</td>\n",
              "      <td>323</td>\n",
              "      <td>455</td>\n",
              "      <td>3102.61</td>\n",
              "      <td>423.45</td>\n",
              "      <td>844.0</td>\n",
              "      <td>468.0</td>\n",
              "      <td>578.0</td>\n",
              "    </tr>\n",
              "    <tr>\n",
              "      <th>1</th>\n",
              "      <td>1/1/11</td>\n",
              "      <td>345</td>\n",
              "      <td>546</td>\n",
              "      <td>3100.45</td>\n",
              "      <td>415.85</td>\n",
              "      <td>799.0</td>\n",
              "      <td>485.0</td>\n",
              "      <td>557.0</td>\n",
              "    </tr>\n",
              "    <tr>\n",
              "      <th>2</th>\n",
              "      <td>2/1/11</td>\n",
              "      <td>362</td>\n",
              "      <td>595</td>\n",
              "      <td>3199.41</td>\n",
              "      <td>410.77</td>\n",
              "      <td>718.0</td>\n",
              "      <td>466.0</td>\n",
              "      <td>552.0</td>\n",
              "    </tr>\n",
              "    <tr>\n",
              "      <th>3</th>\n",
              "      <td>3/1/11</td>\n",
              "      <td>376</td>\n",
              "      <td>636</td>\n",
              "      <td>3281.67</td>\n",
              "      <td>414.82</td>\n",
              "      <td>614.0</td>\n",
              "      <td>442.0</td>\n",
              "      <td>574.0</td>\n",
              "    </tr>\n",
              "    <tr>\n",
              "      <th>4</th>\n",
              "      <td>4/1/11</td>\n",
              "      <td>383</td>\n",
              "      <td>738</td>\n",
              "      <td>3261.65</td>\n",
              "      <td>451.04</td>\n",
              "      <td>619.0</td>\n",
              "      <td>429.0</td>\n",
              "      <td>595.0</td>\n",
              "    </tr>\n",
              "  </tbody>\n",
              "</table>\n",
              "</div>\n",
              "      <button class=\"colab-df-convert\" onclick=\"convertToInteractive('df-9085116c-59ff-4bf3-944b-26f65e05e67c')\"\n",
              "              title=\"Convert this dataframe to an interactive table.\"\n",
              "              style=\"display:none;\">\n",
              "        \n",
              "  <svg xmlns=\"http://www.w3.org/2000/svg\" height=\"24px\"viewBox=\"0 0 24 24\"\n",
              "       width=\"24px\">\n",
              "    <path d=\"M0 0h24v24H0V0z\" fill=\"none\"/>\n",
              "    <path d=\"M18.56 5.44l.94 2.06.94-2.06 2.06-.94-2.06-.94-.94-2.06-.94 2.06-2.06.94zm-11 1L8.5 8.5l.94-2.06 2.06-.94-2.06-.94L8.5 2.5l-.94 2.06-2.06.94zm10 10l.94 2.06.94-2.06 2.06-.94-2.06-.94-.94-2.06-.94 2.06-2.06.94z\"/><path d=\"M17.41 7.96l-1.37-1.37c-.4-.4-.92-.59-1.43-.59-.52 0-1.04.2-1.43.59L10.3 9.45l-7.72 7.72c-.78.78-.78 2.05 0 2.83L4 21.41c.39.39.9.59 1.41.59.51 0 1.02-.2 1.41-.59l7.78-7.78 2.81-2.81c.8-.78.8-2.07 0-2.86zM5.41 20L4 18.59l7.72-7.72 1.47 1.35L5.41 20z\"/>\n",
              "  </svg>\n",
              "      </button>\n",
              "      \n",
              "  <style>\n",
              "    .colab-df-container {\n",
              "      display:flex;\n",
              "      flex-wrap:wrap;\n",
              "      gap: 12px;\n",
              "    }\n",
              "\n",
              "    .colab-df-convert {\n",
              "      background-color: #E8F0FE;\n",
              "      border: none;\n",
              "      border-radius: 50%;\n",
              "      cursor: pointer;\n",
              "      display: none;\n",
              "      fill: #1967D2;\n",
              "      height: 32px;\n",
              "      padding: 0 0 0 0;\n",
              "      width: 32px;\n",
              "    }\n",
              "\n",
              "    .colab-df-convert:hover {\n",
              "      background-color: #E2EBFA;\n",
              "      box-shadow: 0px 1px 2px rgba(60, 64, 67, 0.3), 0px 1px 3px 1px rgba(60, 64, 67, 0.15);\n",
              "      fill: #174EA6;\n",
              "    }\n",
              "\n",
              "    [theme=dark] .colab-df-convert {\n",
              "      background-color: #3B4455;\n",
              "      fill: #D2E3FC;\n",
              "    }\n",
              "\n",
              "    [theme=dark] .colab-df-convert:hover {\n",
              "      background-color: #434B5C;\n",
              "      box-shadow: 0px 1px 3px 1px rgba(0, 0, 0, 0.15);\n",
              "      filter: drop-shadow(0px 1px 2px rgba(0, 0, 0, 0.3));\n",
              "      fill: #FFFFFF;\n",
              "    }\n",
              "  </style>\n",
              "\n",
              "      <script>\n",
              "        const buttonEl =\n",
              "          document.querySelector('#df-9085116c-59ff-4bf3-944b-26f65e05e67c button.colab-df-convert');\n",
              "        buttonEl.style.display =\n",
              "          google.colab.kernel.accessAllowed ? 'block' : 'none';\n",
              "\n",
              "        async function convertToInteractive(key) {\n",
              "          const element = document.querySelector('#df-9085116c-59ff-4bf3-944b-26f65e05e67c');\n",
              "          const dataTable =\n",
              "            await google.colab.kernel.invokeFunction('convertToInteractive',\n",
              "                                                     [key], {});\n",
              "          if (!dataTable) return;\n",
              "\n",
              "          const docLinkHtml = 'Like what you see? Visit the ' +\n",
              "            '<a target=\"_blank\" href=https://colab.research.google.com/notebooks/data_table.ipynb>data table notebook</a>'\n",
              "            + ' to learn more about interactive tables.';\n",
              "          element.innerHTML = '';\n",
              "          dataTable['output_type'] = 'display_data';\n",
              "          await google.colab.output.renderOutput(dataTable, element);\n",
              "          const docLink = document.createElement('div');\n",
              "          docLink.innerHTML = docLinkHtml;\n",
              "          element.appendChild(docLink);\n",
              "        }\n",
              "      </script>\n",
              "    </div>\n",
              "  </div>\n",
              "  "
            ]
          },
          "metadata": {},
          "execution_count": 4
        }
      ]
    },
    {
      "cell_type": "code",
      "source": [
        "df['date']=pd.to_datetime(df['date'])\n",
        "#del df['date']"
      ],
      "metadata": {
        "id": "bABFH7Kd4nBN"
      },
      "execution_count": null,
      "outputs": []
    },
    {
      "cell_type": "code",
      "source": [
        "df.set_index('date', inplace=True)\n",
        "df.info()"
      ],
      "metadata": {
        "colab": {
          "base_uri": "https://localhost:8080/"
        },
        "id": "nZ-LB-rFdF5N",
        "outputId": "bf91ed03-1efc-46f0-a6d0-42638bde45e3"
      },
      "execution_count": null,
      "outputs": [
        {
          "output_type": "stream",
          "name": "stdout",
          "text": [
            "<class 'pandas.core.frame.DataFrame'>\n",
            "DatetimeIndex: 124 entries, 2010-12-01 to 2021-03-01\n",
            "Data columns (total 7 columns):\n",
            " #   Column   Non-Null Count  Dtype  \n",
            "---  ------   --------------  -----  \n",
            " 0   cpo_pri  124 non-null    int64  \n",
            " 1   cno_pri  124 non-null    int64  \n",
            " 2   oli_pri  124 non-null    float64\n",
            " 3   rps_pri  124 non-null    float64\n",
            " 4   pno_pri  124 non-null    float64\n",
            " 5   sbo_pri  124 non-null    float64\n",
            " 6   sfo_pri  124 non-null    float64\n",
            "dtypes: float64(5), int64(2)\n",
            "memory usage: 7.8 KB\n"
          ]
        }
      ]
    },
    {
      "cell_type": "code",
      "source": [
        "df.head()"
      ],
      "metadata": {
        "colab": {
          "base_uri": "https://localhost:8080/",
          "height": 232
        },
        "id": "PLpdJChY4wex",
        "outputId": "199aa68e-eb6c-4b73-e53c-3f5ba4b12f9f"
      },
      "execution_count": null,
      "outputs": [
        {
          "output_type": "execute_result",
          "data": {
            "text/plain": [
              "            cpo_pri  cno_pri  oli_pri  rps_pri  pno_pri  sbo_pri  sfo_pri\n",
              "date                                                                     \n",
              "2010-12-01      323      455  3102.61   423.45    844.0    468.0    578.0\n",
              "2011-01-01      345      546  3100.45   415.85    799.0    485.0    557.0\n",
              "2011-02-01      362      595  3199.41   410.77    718.0    466.0    552.0\n",
              "2011-03-01      376      636  3281.67   414.82    614.0    442.0    574.0\n",
              "2011-04-01      383      738  3261.65   451.04    619.0    429.0    595.0"
            ],
            "text/html": [
              "\n",
              "  <div id=\"df-e5df0bd6-d957-43ae-91e5-b86c0e36b042\">\n",
              "    <div class=\"colab-df-container\">\n",
              "      <div>\n",
              "<style scoped>\n",
              "    .dataframe tbody tr th:only-of-type {\n",
              "        vertical-align: middle;\n",
              "    }\n",
              "\n",
              "    .dataframe tbody tr th {\n",
              "        vertical-align: top;\n",
              "    }\n",
              "\n",
              "    .dataframe thead th {\n",
              "        text-align: right;\n",
              "    }\n",
              "</style>\n",
              "<table border=\"1\" class=\"dataframe\">\n",
              "  <thead>\n",
              "    <tr style=\"text-align: right;\">\n",
              "      <th></th>\n",
              "      <th>cpo_pri</th>\n",
              "      <th>cno_pri</th>\n",
              "      <th>oli_pri</th>\n",
              "      <th>rps_pri</th>\n",
              "      <th>pno_pri</th>\n",
              "      <th>sbo_pri</th>\n",
              "      <th>sfo_pri</th>\n",
              "    </tr>\n",
              "    <tr>\n",
              "      <th>date</th>\n",
              "      <th></th>\n",
              "      <th></th>\n",
              "      <th></th>\n",
              "      <th></th>\n",
              "      <th></th>\n",
              "      <th></th>\n",
              "      <th></th>\n",
              "    </tr>\n",
              "  </thead>\n",
              "  <tbody>\n",
              "    <tr>\n",
              "      <th>2010-12-01</th>\n",
              "      <td>323</td>\n",
              "      <td>455</td>\n",
              "      <td>3102.61</td>\n",
              "      <td>423.45</td>\n",
              "      <td>844.0</td>\n",
              "      <td>468.0</td>\n",
              "      <td>578.0</td>\n",
              "    </tr>\n",
              "    <tr>\n",
              "      <th>2011-01-01</th>\n",
              "      <td>345</td>\n",
              "      <td>546</td>\n",
              "      <td>3100.45</td>\n",
              "      <td>415.85</td>\n",
              "      <td>799.0</td>\n",
              "      <td>485.0</td>\n",
              "      <td>557.0</td>\n",
              "    </tr>\n",
              "    <tr>\n",
              "      <th>2011-02-01</th>\n",
              "      <td>362</td>\n",
              "      <td>595</td>\n",
              "      <td>3199.41</td>\n",
              "      <td>410.77</td>\n",
              "      <td>718.0</td>\n",
              "      <td>466.0</td>\n",
              "      <td>552.0</td>\n",
              "    </tr>\n",
              "    <tr>\n",
              "      <th>2011-03-01</th>\n",
              "      <td>376</td>\n",
              "      <td>636</td>\n",
              "      <td>3281.67</td>\n",
              "      <td>414.82</td>\n",
              "      <td>614.0</td>\n",
              "      <td>442.0</td>\n",
              "      <td>574.0</td>\n",
              "    </tr>\n",
              "    <tr>\n",
              "      <th>2011-04-01</th>\n",
              "      <td>383</td>\n",
              "      <td>738</td>\n",
              "      <td>3261.65</td>\n",
              "      <td>451.04</td>\n",
              "      <td>619.0</td>\n",
              "      <td>429.0</td>\n",
              "      <td>595.0</td>\n",
              "    </tr>\n",
              "  </tbody>\n",
              "</table>\n",
              "</div>\n",
              "      <button class=\"colab-df-convert\" onclick=\"convertToInteractive('df-e5df0bd6-d957-43ae-91e5-b86c0e36b042')\"\n",
              "              title=\"Convert this dataframe to an interactive table.\"\n",
              "              style=\"display:none;\">\n",
              "        \n",
              "  <svg xmlns=\"http://www.w3.org/2000/svg\" height=\"24px\"viewBox=\"0 0 24 24\"\n",
              "       width=\"24px\">\n",
              "    <path d=\"M0 0h24v24H0V0z\" fill=\"none\"/>\n",
              "    <path d=\"M18.56 5.44l.94 2.06.94-2.06 2.06-.94-2.06-.94-.94-2.06-.94 2.06-2.06.94zm-11 1L8.5 8.5l.94-2.06 2.06-.94-2.06-.94L8.5 2.5l-.94 2.06-2.06.94zm10 10l.94 2.06.94-2.06 2.06-.94-2.06-.94-.94-2.06-.94 2.06-2.06.94z\"/><path d=\"M17.41 7.96l-1.37-1.37c-.4-.4-.92-.59-1.43-.59-.52 0-1.04.2-1.43.59L10.3 9.45l-7.72 7.72c-.78.78-.78 2.05 0 2.83L4 21.41c.39.39.9.59 1.41.59.51 0 1.02-.2 1.41-.59l7.78-7.78 2.81-2.81c.8-.78.8-2.07 0-2.86zM5.41 20L4 18.59l7.72-7.72 1.47 1.35L5.41 20z\"/>\n",
              "  </svg>\n",
              "      </button>\n",
              "      \n",
              "  <style>\n",
              "    .colab-df-container {\n",
              "      display:flex;\n",
              "      flex-wrap:wrap;\n",
              "      gap: 12px;\n",
              "    }\n",
              "\n",
              "    .colab-df-convert {\n",
              "      background-color: #E8F0FE;\n",
              "      border: none;\n",
              "      border-radius: 50%;\n",
              "      cursor: pointer;\n",
              "      display: none;\n",
              "      fill: #1967D2;\n",
              "      height: 32px;\n",
              "      padding: 0 0 0 0;\n",
              "      width: 32px;\n",
              "    }\n",
              "\n",
              "    .colab-df-convert:hover {\n",
              "      background-color: #E2EBFA;\n",
              "      box-shadow: 0px 1px 2px rgba(60, 64, 67, 0.3), 0px 1px 3px 1px rgba(60, 64, 67, 0.15);\n",
              "      fill: #174EA6;\n",
              "    }\n",
              "\n",
              "    [theme=dark] .colab-df-convert {\n",
              "      background-color: #3B4455;\n",
              "      fill: #D2E3FC;\n",
              "    }\n",
              "\n",
              "    [theme=dark] .colab-df-convert:hover {\n",
              "      background-color: #434B5C;\n",
              "      box-shadow: 0px 1px 3px 1px rgba(0, 0, 0, 0.15);\n",
              "      filter: drop-shadow(0px 1px 2px rgba(0, 0, 0, 0.3));\n",
              "      fill: #FFFFFF;\n",
              "    }\n",
              "  </style>\n",
              "\n",
              "      <script>\n",
              "        const buttonEl =\n",
              "          document.querySelector('#df-e5df0bd6-d957-43ae-91e5-b86c0e36b042 button.colab-df-convert');\n",
              "        buttonEl.style.display =\n",
              "          google.colab.kernel.accessAllowed ? 'block' : 'none';\n",
              "\n",
              "        async function convertToInteractive(key) {\n",
              "          const element = document.querySelector('#df-e5df0bd6-d957-43ae-91e5-b86c0e36b042');\n",
              "          const dataTable =\n",
              "            await google.colab.kernel.invokeFunction('convertToInteractive',\n",
              "                                                     [key], {});\n",
              "          if (!dataTable) return;\n",
              "\n",
              "          const docLinkHtml = 'Like what you see? Visit the ' +\n",
              "            '<a target=\"_blank\" href=https://colab.research.google.com/notebooks/data_table.ipynb>data table notebook</a>'\n",
              "            + ' to learn more about interactive tables.';\n",
              "          element.innerHTML = '';\n",
              "          dataTable['output_type'] = 'display_data';\n",
              "          await google.colab.output.renderOutput(dataTable, element);\n",
              "          const docLink = document.createElement('div');\n",
              "          docLink.innerHTML = docLinkHtml;\n",
              "          element.appendChild(docLink);\n",
              "        }\n",
              "      </script>\n",
              "    </div>\n",
              "  </div>\n",
              "  "
            ]
          },
          "metadata": {},
          "execution_count": 7
        }
      ]
    },
    {
      "cell_type": "code",
      "source": [
        "# Plot an area chart\n",
        "plt.figure(figsize=(25,10))\n",
        "ax = df.plot.area(fontsize=12);\n",
        "\n",
        "# Additional customizations\n",
        "ax.set_xlabel('date');\n",
        "ax.legend(fontsize=12);"
      ],
      "metadata": {
        "colab": {
          "base_uri": "https://localhost:8080/",
          "height": 379
        },
        "id": "pnKg-SfY6j9g",
        "outputId": "1855d70d-e61d-4be2-cbb6-54cbbec97cd5"
      },
      "execution_count": null,
      "outputs": [
        {
          "output_type": "display_data",
          "data": {
            "text/plain": [
              "<Figure size 1800x720 with 0 Axes>"
            ]
          },
          "metadata": {}
        },
        {
          "output_type": "display_data",
          "data": {
            "text/plain": [
              "<Figure size 720x360 with 1 Axes>"
            ],
            "image/png": "[encoded data removed]"
          },
          "metadata": {}
        }
      ]
    },
    {
      "cell_type": "markdown",
      "source": [
        "##**Convolutional Neural Network Forecasting Technique (CNN)**"
      ],
      "metadata": {
        "id": "dPoGjuS366Cc"
      }
    },
    {
      "cell_type": "markdown",
      "source": [
        "###**Split Data into Train Test Segments**"
      ],
      "metadata": {
        "id": "vFpT6OrD7KRv"
      }
    },
    {
      "cell_type": "code",
      "source": [
        "train_size = int(len(df) * 0.8)\n",
        "test_size = len(df) - train_size\n",
        "train, test = df.iloc[0:train_size], df.iloc[train_size:len(df)]\n",
        "print('Train size:',len(train))\n",
        "print('Test size:', len(test))"
      ],
      "metadata": {
        "colab": {
          "base_uri": "https://localhost:8080/"
        },
        "id": "nYZL-9Sy3xpJ",
        "outputId": "604ae388-d7ac-46c3-d65f-33174af2ca24"
      },
      "execution_count": null,
      "outputs": [
        {
          "output_type": "stream",
          "name": "stdout",
          "text": [
            "Train size: 99\n",
            "Test size: 25\n"
          ]
        }
      ]
    },
    {
      "cell_type": "code",
      "source": [
        "split_date = '2019-02'\n",
        "df_training = df.loc[df.index <= split_date]\n",
        "df_test = df.loc[df.index > split_date]\n",
        "print(f\"{len(df_training)} days of training data \\n {len(df_test)} days of testing data \")"
      ],
      "metadata": {
        "colab": {
          "base_uri": "https://localhost:8080/"
        },
        "id": "qKDDSdp_JVu6",
        "outputId": "340b89e2-9672-4161-c36f-041df596f595"
      },
      "execution_count": null,
      "outputs": [
        {
          "output_type": "stream",
          "name": "stdout",
          "text": [
            "99 days of training data \n",
            " 25 days of testing data \n"
          ]
        }
      ]
    },
    {
      "cell_type": "code",
      "source": [
        "train, test = df.iloc[0:train_size], df.iloc[train_size:len(df)]\n",
        "print(len(train), len(test))"
      ],
      "metadata": {
        "colab": {
          "base_uri": "https://localhost:8080/"
        },
        "id": "DGrD2nxFmNSu",
        "outputId": "688e14eb-4cdd-4ad9-c2b3-9d6b8934ead4"
      },
      "execution_count": null,
      "outputs": [
        {
          "output_type": "stream",
          "name": "stdout",
          "text": [
            "99 25\n"
          ]
        }
      ]
    },
    {
      "cell_type": "code",
      "source": [
        "print(train.shape)\n",
        "train.head()"
      ],
      "metadata": {
        "colab": {
          "base_uri": "https://localhost:8080/",
          "height": 248
        },
        "id": "QvbHy-5RmPuI",
        "outputId": "f73db4ea-9b6d-41ff-fc42-83f977c10537"
      },
      "execution_count": null,
      "outputs": [
        {
          "output_type": "stream",
          "name": "stdout",
          "text": [
            "(99, 7)\n"
          ]
        },
        {
          "output_type": "execute_result",
          "data": {
            "text/plain": [
              "            cpo_pri  cno_pri  oli_pri  rps_pri  pno_pri  sbo_pri  sfo_pri\n",
              "date                                                                     \n",
              "2010-12-01      323      455  3102.61   423.45    844.0    468.0    578.0\n",
              "2011-01-01      345      546  3100.45   415.85    799.0    485.0    557.0\n",
              "2011-02-01      362      595  3199.41   410.77    718.0    466.0    552.0\n",
              "2011-03-01      376      636  3281.67   414.82    614.0    442.0    574.0\n",
              "2011-04-01      383      738  3261.65   451.04    619.0    429.0    595.0"
            ],
            "text/html": [
              "\n",
              "  <div id=\"df-d45a873f-487d-4093-b95f-e0a177c22a2d\">\n",
              "    <div class=\"colab-df-container\">\n",
              "      <div>\n",
              "<style scoped>\n",
              "    .dataframe tbody tr th:only-of-type {\n",
              "        vertical-align: middle;\n",
              "    }\n",
              "\n",
              "    .dataframe tbody tr th {\n",
              "        vertical-align: top;\n",
              "    }\n",
              "\n",
              "    .dataframe thead th {\n",
              "        text-align: right;\n",
              "    }\n",
              "</style>\n",
              "<table border=\"1\" class=\"dataframe\">\n",
              "  <thead>\n",
              "    <tr style=\"text-align: right;\">\n",
              "      <th></th>\n",
              "      <th>cpo_pri</th>\n",
              "      <th>cno_pri</th>\n",
              "      <th>oli_pri</th>\n",
              "      <th>rps_pri</th>\n",
              "      <th>pno_pri</th>\n",
              "      <th>sbo_pri</th>\n",
              "      <th>sfo_pri</th>\n",
              "    </tr>\n",
              "    <tr>\n",
              "      <th>date</th>\n",
              "      <th></th>\n",
              "      <th></th>\n",
              "      <th></th>\n",
              "      <th></th>\n",
              "      <th></th>\n",
              "      <th></th>\n",
              "      <th></th>\n",
              "    </tr>\n",
              "  </thead>\n",
              "  <tbody>\n",
              "    <tr>\n",
              "      <th>2010-12-01</th>\n",
              "      <td>323</td>\n",
              "      <td>455</td>\n",
              "      <td>3102.61</td>\n",
              "      <td>423.45</td>\n",
              "      <td>844.0</td>\n",
              "      <td>468.0</td>\n",
              "      <td>578.0</td>\n",
              "    </tr>\n",
              "    <tr>\n",
              "      <th>2011-01-01</th>\n",
              "      <td>345</td>\n",
              "      <td>546</td>\n",
              "      <td>3100.45</td>\n",
              "      <td>415.85</td>\n",
              "      <td>799.0</td>\n",
              "      <td>485.0</td>\n",
              "      <td>557.0</td>\n",
              "    </tr>\n",
              "    <tr>\n",
              "      <th>2011-02-01</th>\n",
              "      <td>362</td>\n",
              "      <td>595</td>\n",
              "      <td>3199.41</td>\n",
              "      <td>410.77</td>\n",
              "      <td>718.0</td>\n",
              "      <td>466.0</td>\n",
              "      <td>552.0</td>\n",
              "    </tr>\n",
              "    <tr>\n",
              "      <th>2011-03-01</th>\n",
              "      <td>376</td>\n",
              "      <td>636</td>\n",
              "      <td>3281.67</td>\n",
              "      <td>414.82</td>\n",
              "      <td>614.0</td>\n",
              "      <td>442.0</td>\n",
              "      <td>574.0</td>\n",
              "    </tr>\n",
              "    <tr>\n",
              "      <th>2011-04-01</th>\n",
              "      <td>383</td>\n",
              "      <td>738</td>\n",
              "      <td>3261.65</td>\n",
              "      <td>451.04</td>\n",
              "      <td>619.0</td>\n",
              "      <td>429.0</td>\n",
              "      <td>595.0</td>\n",
              "    </tr>\n",
              "  </tbody>\n",
              "</table>\n",
              "</div>\n",
              "      <button class=\"colab-df-convert\" onclick=\"convertToInteractive('df-d45a873f-487d-4093-b95f-e0a177c22a2d')\"\n",
              "              title=\"Convert this dataframe to an interactive table.\"\n",
              "              style=\"display:none;\">\n",
              "        \n",
              "  <svg xmlns=\"http://www.w3.org/2000/svg\" height=\"24px\"viewBox=\"0 0 24 24\"\n",
              "       width=\"24px\">\n",
              "    <path d=\"M0 0h24v24H0V0z\" fill=\"none\"/>\n",
              "    <path d=\"M18.56 5.44l.94 2.06.94-2.06 2.06-.94-2.06-.94-.94-2.06-.94 2.06-2.06.94zm-11 1L8.5 8.5l.94-2.06 2.06-.94-2.06-.94L8.5 2.5l-.94 2.06-2.06.94zm10 10l.94 2.06.94-2.06 2.06-.94-2.06-.94-.94-2.06-.94 2.06-2.06.94z\"/><path d=\"M17.41 7.96l-1.37-1.37c-.4-.4-.92-.59-1.43-.59-.52 0-1.04.2-1.43.59L10.3 9.45l-7.72 7.72c-.78.78-.78 2.05 0 2.83L4 21.41c.39.39.9.59 1.41.59.51 0 1.02-.2 1.41-.59l7.78-7.78 2.81-2.81c.8-.78.8-2.07 0-2.86zM5.41 20L4 18.59l7.72-7.72 1.47 1.35L5.41 20z\"/>\n",
              "  </svg>\n",
              "      </button>\n",
              "      \n",
              "  <style>\n",
              "    .colab-df-container {\n",
              "      display:flex;\n",
              "      flex-wrap:wrap;\n",
              "      gap: 12px;\n",
              "    }\n",
              "\n",
              "    .colab-df-convert {\n",
              "      background-color: #E8F0FE;\n",
              "      border: none;\n",
              "      border-radius: 50%;\n",
              "      cursor: pointer;\n",
              "      display: none;\n",
              "      fill: #1967D2;\n",
              "      height: 32px;\n",
              "      padding: 0 0 0 0;\n",
              "      width: 32px;\n",
              "    }\n",
              "\n",
              "    .colab-df-convert:hover {\n",
              "      background-color: #E2EBFA;\n",
              "      box-shadow: 0px 1px 2px rgba(60, 64, 67, 0.3), 0px 1px 3px 1px rgba(60, 64, 67, 0.15);\n",
              "      fill: #174EA6;\n",
              "    }\n",
              "\n",
              "    [theme=dark] .colab-df-convert {\n",
              "      background-color: #3B4455;\n",
              "      fill: #D2E3FC;\n",
              "    }\n",
              "\n",
              "    [theme=dark] .colab-df-convert:hover {\n",
              "      background-color: #434B5C;\n",
              "      box-shadow: 0px 1px 3px 1px rgba(0, 0, 0, 0.15);\n",
              "      filter: drop-shadow(0px 1px 2px rgba(0, 0, 0, 0.3));\n",
              "      fill: #FFFFFF;\n",
              "    }\n",
              "  </style>\n",
              "\n",
              "      <script>\n",
              "        const buttonEl =\n",
              "          document.querySelector('#df-d45a873f-487d-4093-b95f-e0a177c22a2d button.colab-df-convert');\n",
              "        buttonEl.style.display =\n",
              "          google.colab.kernel.accessAllowed ? 'block' : 'none';\n",
              "\n",
              "        async function convertToInteractive(key) {\n",
              "          const element = document.querySelector('#df-d45a873f-487d-4093-b95f-e0a177c22a2d');\n",
              "          const dataTable =\n",
              "            await google.colab.kernel.invokeFunction('convertToInteractive',\n",
              "                                                     [key], {});\n",
              "          if (!dataTable) return;\n",
              "\n",
              "          const docLinkHtml = 'Like what you see? Visit the ' +\n",
              "            '<a target=\"_blank\" href=https://colab.research.google.com/notebooks/data_table.ipynb>data table notebook</a>'\n",
              "            + ' to learn more about interactive tables.';\n",
              "          element.innerHTML = '';\n",
              "          dataTable['output_type'] = 'display_data';\n",
              "          await google.colab.output.renderOutput(dataTable, element);\n",
              "          const docLink = document.createElement('div');\n",
              "          docLink.innerHTML = docLinkHtml;\n",
              "          element.appendChild(docLink);\n",
              "        }\n",
              "      </script>\n",
              "    </div>\n",
              "  </div>\n",
              "  "
            ]
          },
          "metadata": {},
          "execution_count": 12
        }
      ]
    },
    {
      "cell_type": "markdown",
      "source": [
        "###Rescaling Training Data"
      ],
      "metadata": {
        "id": "Z5F4OyT2mwRs"
      }
    },
    {
      "cell_type": "code",
      "source": [
        "f_transformer = MinMaxScaler()\n",
        "feature_columns = ['cno_pri', 'oli_pri', 'rps_pri', 'pno_pri', 'sbo_pri', 'sfo_pri']\n",
        "f_transformer = f_transformer.fit(train[feature_columns].to_numpy())\n",
        "train.loc[:, feature_columns] = f_transformer.transform(train[feature_columns].to_numpy())\n",
        "train.head()"
      ],
      "metadata": {
        "colab": {
          "base_uri": "https://localhost:8080/",
          "height": 232
        },
        "id": "Lg-AQuNBmvZK",
        "outputId": "202f92bf-27de-467b-ea91-aa23676ab8c5"
      },
      "execution_count": null,
      "outputs": [
        {
          "output_type": "execute_result",
          "data": {
            "text/plain": [
              "            cpo_pri   cno_pri   oli_pri   rps_pri   pno_pri   sbo_pri  \\\n",
              "date                                                                    \n",
              "2010-12-01      323  0.112288  0.140918  0.010736  0.528090  0.253193   \n",
              "2011-01-01      345  0.305085  0.140327  0.004301  0.443820  0.306536   \n",
              "2011-02-01      362  0.408898  0.167408  0.000000  0.292135  0.246917   \n",
              "2011-03-01      376  0.495763  0.189919  0.003429  0.097378  0.171609   \n",
              "2011-04-01      383  0.711864  0.184440  0.034095  0.106742  0.130817   \n",
              "\n",
              "             sfo_pri  \n",
              "date                  \n",
              "2010-12-01  0.023302  \n",
              "2011-01-01  0.009321  \n",
              "2011-02-01  0.005992  \n",
              "2011-03-01  0.020639  \n",
              "2011-04-01  0.034621  "
            ],
            "text/html": [
              "\n",
              "  <div id=\"df-06b67068-8040-40f0-81d3-00c12827e46b\">\n",
              "    <div class=\"colab-df-container\">\n",
              "      <div>\n",
              "<style scoped>\n",
              "    .dataframe tbody tr th:only-of-type {\n",
              "        vertical-align: middle;\n",
              "    }\n",
              "\n",
              "    .dataframe tbody tr th {\n",
              "        vertical-align: top;\n",
              "    }\n",
              "\n",
              "    .dataframe thead th {\n",
              "        text-align: right;\n",
              "    }\n",
              "</style>\n",
              "<table border=\"1\" class=\"dataframe\">\n",
              "  <thead>\n",
              "    <tr style=\"text-align: right;\">\n",
              "      <th></th>\n",
              "      <th>cpo_pri</th>\n",
              "      <th>cno_pri</th>\n",
              "      <th>oli_pri</th>\n",
              "      <th>rps_pri</th>\n",
              "      <th>pno_pri</th>\n",
              "      <th>sbo_pri</th>\n",
              "      <th>sfo_pri</th>\n",
              "    </tr>\n",
              "    <tr>\n",
              "      <th>date</th>\n",
              "      <th></th>\n",
              "      <th></th>\n",
              "      <th></th>\n",
              "      <th></th>\n",
              "      <th></th>\n",
              "      <th></th>\n",
              "      <th></th>\n",
              "    </tr>\n",
              "  </thead>\n",
              "  <tbody>\n",
              "    <tr>\n",
              "      <th>2010-12-01</th>\n",
              "      <td>323</td>\n",
              "      <td>0.112288</td>\n",
              "      <td>0.140918</td>\n",
              "      <td>0.010736</td>\n",
              "      <td>0.528090</td>\n",
              "      <td>0.253193</td>\n",
              "      <td>0.023302</td>\n",
              "    </tr>\n",
              "    <tr>\n",
              "      <th>2011-01-01</th>\n",
              "      <td>345</td>\n",
              "      <td>0.305085</td>\n",
              "      <td>0.140327</td>\n",
              "      <td>0.004301</td>\n",
              "      <td>0.443820</td>\n",
              "      <td>0.306536</td>\n",
              "      <td>0.009321</td>\n",
              "    </tr>\n",
              "    <tr>\n",
              "      <th>2011-02-01</th>\n",
              "      <td>362</td>\n",
              "      <td>0.408898</td>\n",
              "      <td>0.167408</td>\n",
              "      <td>0.000000</td>\n",
              "      <td>0.292135</td>\n",
              "      <td>0.246917</td>\n",
              "      <td>0.005992</td>\n",
              "    </tr>\n",
              "    <tr>\n",
              "      <th>2011-03-01</th>\n",
              "      <td>376</td>\n",
              "      <td>0.495763</td>\n",
              "      <td>0.189919</td>\n",
              "      <td>0.003429</td>\n",
              "      <td>0.097378</td>\n",
              "      <td>0.171609</td>\n",
              "      <td>0.020639</td>\n",
              "    </tr>\n",
              "    <tr>\n",
              "      <th>2011-04-01</th>\n",
              "      <td>383</td>\n",
              "      <td>0.711864</td>\n",
              "      <td>0.184440</td>\n",
              "      <td>0.034095</td>\n",
              "      <td>0.106742</td>\n",
              "      <td>0.130817</td>\n",
              "      <td>0.034621</td>\n",
              "    </tr>\n",
              "  </tbody>\n",
              "</table>\n",
              "</div>\n",
              "      <button class=\"colab-df-convert\" onclick=\"convertToInteractive('df-06b67068-8040-40f0-81d3-00c12827e46b')\"\n",
              "              title=\"Convert this dataframe to an interactive table.\"\n",
              "              style=\"display:none;\">\n",
              "        \n",
              "  <svg xmlns=\"http://www.w3.org/2000/svg\" height=\"24px\"viewBox=\"0 0 24 24\"\n",
              "       width=\"24px\">\n",
              "    <path d=\"M0 0h24v24H0V0z\" fill=\"none\"/>\n",
              "    <path d=\"M18.56 5.44l.94 2.06.94-2.06 2.06-.94-2.06-.94-.94-2.06-.94 2.06-2.06.94zm-11 1L8.5 8.5l.94-2.06 2.06-.94-2.06-.94L8.5 2.5l-.94 2.06-2.06.94zm10 10l.94 2.06.94-2.06 2.06-.94-2.06-.94-.94-2.06-.94 2.06-2.06.94z\"/><path d=\"M17.41 7.96l-1.37-1.37c-.4-.4-.92-.59-1.43-.59-.52 0-1.04.2-1.43.59L10.3 9.45l-7.72 7.72c-.78.78-.78 2.05 0 2.83L4 21.41c.39.39.9.59 1.41.59.51 0 1.02-.2 1.41-.59l7.78-7.78 2.81-2.81c.8-.78.8-2.07 0-2.86zM5.41 20L4 18.59l7.72-7.72 1.47 1.35L5.41 20z\"/>\n",
              "  </svg>\n",
              "      </button>\n",
              "      \n",
              "  <style>\n",
              "    .colab-df-container {\n",
              "      display:flex;\n",
              "      flex-wrap:wrap;\n",
              "      gap: 12px;\n",
              "    }\n",
              "\n",
              "    .colab-df-convert {\n",
              "      background-color: #E8F0FE;\n",
              "      border: none;\n",
              "      border-radius: 50%;\n",
              "      cursor: pointer;\n",
              "      display: none;\n",
              "      fill: #1967D2;\n",
              "      height: 32px;\n",
              "      padding: 0 0 0 0;\n",
              "      width: 32px;\n",
              "    }\n",
              "\n",
              "    .colab-df-convert:hover {\n",
              "      background-color: #E2EBFA;\n",
              "      box-shadow: 0px 1px 2px rgba(60, 64, 67, 0.3), 0px 1px 3px 1px rgba(60, 64, 67, 0.15);\n",
              "      fill: #174EA6;\n",
              "    }\n",
              "\n",
              "    [theme=dark] .colab-df-convert {\n",
              "      background-color: #3B4455;\n",
              "      fill: #D2E3FC;\n",
              "    }\n",
              "\n",
              "    [theme=dark] .colab-df-convert:hover {\n",
              "      background-color: #434B5C;\n",
              "      box-shadow: 0px 1px 3px 1px rgba(0, 0, 0, 0.15);\n",
              "      filter: drop-shadow(0px 1px 2px rgba(0, 0, 0, 0.3));\n",
              "      fill: #FFFFFF;\n",
              "    }\n",
              "  </style>\n",
              "\n",
              "      <script>\n",
              "        const buttonEl =\n",
              "          document.querySelector('#df-06b67068-8040-40f0-81d3-00c12827e46b button.colab-df-convert');\n",
              "        buttonEl.style.display =\n",
              "          google.colab.kernel.accessAllowed ? 'block' : 'none';\n",
              "\n",
              "        async function convertToInteractive(key) {\n",
              "          const element = document.querySelector('#df-06b67068-8040-40f0-81d3-00c12827e46b');\n",
              "          const dataTable =\n",
              "            await google.colab.kernel.invokeFunction('convertToInteractive',\n",
              "                                                     [key], {});\n",
              "          if (!dataTable) return;\n",
              "\n",
              "          const docLinkHtml = 'Like what you see? Visit the ' +\n",
              "            '<a target=\"_blank\" href=https://colab.research.google.com/notebooks/data_table.ipynb>data table notebook</a>'\n",
              "            + ' to learn more about interactive tables.';\n",
              "          element.innerHTML = '';\n",
              "          dataTable['output_type'] = 'display_data';\n",
              "          await google.colab.output.renderOutput(dataTable, element);\n",
              "          const docLink = document.createElement('div');\n",
              "          docLink.innerHTML = docLinkHtml;\n",
              "          element.appendChild(docLink);\n",
              "        }\n",
              "      </script>\n",
              "    </div>\n",
              "  </div>\n",
              "  "
            ]
          },
          "metadata": {},
          "execution_count": 13
        }
      ]
    },
    {
      "cell_type": "code",
      "source": [
        "cpo_pri_transformer = MinMaxScaler()\n",
        "cpo_pri_transformer = cpo_pri_transformer.fit(train[['cpo_pri']])\n",
        "train['cpo_pri'] = cpo_pri_transformer.transform(train[['cpo_pri']])\n",
        "train['cpo_pri'].head()"
      ],
      "metadata": {
        "colab": {
          "base_uri": "https://localhost:8080/"
        },
        "id": "XNkE4gN9nJLt",
        "outputId": "20e872a8-37e2-45c7-bdc8-9fd8888ea873"
      },
      "execution_count": null,
      "outputs": [
        {
          "output_type": "execute_result",
          "data": {
            "text/plain": [
              "date\n",
              "2010-12-01    0.0100\n",
              "2011-01-01    0.0650\n",
              "2011-02-01    0.1075\n",
              "2011-03-01    0.1425\n",
              "2011-04-01    0.1600\n",
              "Name: cpo_pri, dtype: float64"
            ]
          },
          "metadata": {},
          "execution_count": 14
        }
      ]
    },
    {
      "cell_type": "code",
      "source": [
        "test.loc[:, feature_columns] = f_transformer.transform(test[feature_columns].to_numpy())\n",
        "test.head()"
      ],
      "metadata": {
        "colab": {
          "base_uri": "https://localhost:8080/",
          "height": 232
        },
        "id": "aouQuJG5n6k8",
        "outputId": "5b53694d-b0b5-4cf4-aab9-fd21ec972d58"
      },
      "execution_count": null,
      "outputs": [
        {
          "output_type": "execute_result",
          "data": {
            "text/plain": [
              "            cpo_pri   cno_pri   oli_pri   rps_pri   pno_pri   sbo_pri  \\\n",
              "date                                                                    \n",
              "2019-03-01      354  0.637712  0.194855  0.382454  0.381292 -0.039662   \n",
              "2019-04-01      348  0.533898  0.264388  0.393951  0.213633 -0.054975   \n",
              "2019-05-01      332  0.400424  0.246417  0.453802  0.235262 -0.092159   \n",
              "2019-06-01      349  0.317797  0.234308  0.509834  0.320749 -0.074743   \n",
              "2019-07-01      372  0.313559  0.223422  0.526454  0.426610 -0.066114   \n",
              "\n",
              "             sfo_pri  \n",
              "date                  \n",
              "2019-03-01  0.493342  \n",
              "2019-04-01  0.597870  \n",
              "2019-05-01  0.606525  \n",
              "2019-06-01  0.631824  \n",
              "2019-07-01  0.773462  "
            ],
            "text/html": [
              "\n",
              "  <div id=\"df-06c78789-2ef3-42a9-abec-172c797990b7\">\n",
              "    <div class=\"colab-df-container\">\n",
              "      <div>\n",
              "<style scoped>\n",
              "    .dataframe tbody tr th:only-of-type {\n",
              "        vertical-align: middle;\n",
              "    }\n",
              "\n",
              "    .dataframe tbody tr th {\n",
              "        vertical-align: top;\n",
              "    }\n",
              "\n",
              "    .dataframe thead th {\n",
              "        text-align: right;\n",
              "    }\n",
              "</style>\n",
              "<table border=\"1\" class=\"dataframe\">\n",
              "  <thead>\n",
              "    <tr style=\"text-align: right;\">\n",
              "      <th></th>\n",
              "      <th>cpo_pri</th>\n",
              "      <th>cno_pri</th>\n",
              "      <th>oli_pri</th>\n",
              "      <th>rps_pri</th>\n",
              "      <th>pno_pri</th>\n",
              "      <th>sbo_pri</th>\n",
              "      <th>sfo_pri</th>\n",
              "    </tr>\n",
              "    <tr>\n",
              "      <th>date</th>\n",
              "      <th></th>\n",
              "      <th></th>\n",
              "      <th></th>\n",
              "      <th></th>\n",
              "      <th></th>\n",
              "      <th></th>\n",
              "      <th></th>\n",
              "    </tr>\n",
              "  </thead>\n",
              "  <tbody>\n",
              "    <tr>\n",
              "      <th>2019-03-01</th>\n",
              "      <td>354</td>\n",
              "      <td>0.637712</td>\n",
              "      <td>0.194855</td>\n",
              "      <td>0.382454</td>\n",
              "      <td>0.381292</td>\n",
              "      <td>-0.039662</td>\n",
              "      <td>0.493342</td>\n",
              "    </tr>\n",
              "    <tr>\n",
              "      <th>2019-04-01</th>\n",
              "      <td>348</td>\n",
              "      <td>0.533898</td>\n",
              "      <td>0.264388</td>\n",
              "      <td>0.393951</td>\n",
              "      <td>0.213633</td>\n",
              "      <td>-0.054975</td>\n",
              "      <td>0.597870</td>\n",
              "    </tr>\n",
              "    <tr>\n",
              "      <th>2019-05-01</th>\n",
              "      <td>332</td>\n",
              "      <td>0.400424</td>\n",
              "      <td>0.246417</td>\n",
              "      <td>0.453802</td>\n",
              "      <td>0.235262</td>\n",
              "      <td>-0.092159</td>\n",
              "      <td>0.606525</td>\n",
              "    </tr>\n",
              "    <tr>\n",
              "      <th>2019-06-01</th>\n",
              "      <td>349</td>\n",
              "      <td>0.317797</td>\n",
              "      <td>0.234308</td>\n",
              "      <td>0.509834</td>\n",
              "      <td>0.320749</td>\n",
              "      <td>-0.074743</td>\n",
              "      <td>0.631824</td>\n",
              "    </tr>\n",
              "    <tr>\n",
              "      <th>2019-07-01</th>\n",
              "      <td>372</td>\n",
              "      <td>0.313559</td>\n",
              "      <td>0.223422</td>\n",
              "      <td>0.526454</td>\n",
              "      <td>0.426610</td>\n",
              "      <td>-0.066114</td>\n",
              "      <td>0.773462</td>\n",
              "    </tr>\n",
              "  </tbody>\n",
              "</table>\n",
              "</div>\n",
              "      <button class=\"colab-df-convert\" onclick=\"convertToInteractive('df-06c78789-2ef3-42a9-abec-172c797990b7')\"\n",
              "              title=\"Convert this dataframe to an interactive table.\"\n",
              "              style=\"display:none;\">\n",
              "        \n",
              "  <svg xmlns=\"http://www.w3.org/2000/svg\" height=\"24px\"viewBox=\"0 0 24 24\"\n",
              "       width=\"24px\">\n",
              "    <path d=\"M0 0h24v24H0V0z\" fill=\"none\"/>\n",
              "    <path d=\"M18.56 5.44l.94 2.06.94-2.06 2.06-.94-2.06-.94-.94-2.06-.94 2.06-2.06.94zm-11 1L8.5 8.5l.94-2.06 2.06-.94-2.06-.94L8.5 2.5l-.94 2.06-2.06.94zm10 10l.94 2.06.94-2.06 2.06-.94-2.06-.94-.94-2.06-.94 2.06-2.06.94z\"/><path d=\"M17.41 7.96l-1.37-1.37c-.4-.4-.92-.59-1.43-.59-.52 0-1.04.2-1.43.59L10.3 9.45l-7.72 7.72c-.78.78-.78 2.05 0 2.83L4 21.41c.39.39.9.59 1.41.59.51 0 1.02-.2 1.41-.59l7.78-7.78 2.81-2.81c.8-.78.8-2.07 0-2.86zM5.41 20L4 18.59l7.72-7.72 1.47 1.35L5.41 20z\"/>\n",
              "  </svg>\n",
              "      </button>\n",
              "      \n",
              "  <style>\n",
              "    .colab-df-container {\n",
              "      display:flex;\n",
              "      flex-wrap:wrap;\n",
              "      gap: 12px;\n",
              "    }\n",
              "\n",
              "    .colab-df-convert {\n",
              "      background-color: #E8F0FE;\n",
              "      border: none;\n",
              "      border-radius: 50%;\n",
              "      cursor: pointer;\n",
              "      display: none;\n",
              "      fill: #1967D2;\n",
              "      height: 32px;\n",
              "      padding: 0 0 0 0;\n",
              "      width: 32px;\n",
              "    }\n",
              "\n",
              "    .colab-df-convert:hover {\n",
              "      background-color: #E2EBFA;\n",
              "      box-shadow: 0px 1px 2px rgba(60, 64, 67, 0.3), 0px 1px 3px 1px rgba(60, 64, 67, 0.15);\n",
              "      fill: #174EA6;\n",
              "    }\n",
              "\n",
              "    [theme=dark] .colab-df-convert {\n",
              "      background-color: #3B4455;\n",
              "      fill: #D2E3FC;\n",
              "    }\n",
              "\n",
              "    [theme=dark] .colab-df-convert:hover {\n",
              "      background-color: #434B5C;\n",
              "      box-shadow: 0px 1px 3px 1px rgba(0, 0, 0, 0.15);\n",
              "      filter: drop-shadow(0px 1px 2px rgba(0, 0, 0, 0.3));\n",
              "      fill: #FFFFFF;\n",
              "    }\n",
              "  </style>\n",
              "\n",
              "      <script>\n",
              "        const buttonEl =\n",
              "          document.querySelector('#df-06c78789-2ef3-42a9-abec-172c797990b7 button.colab-df-convert');\n",
              "        buttonEl.style.display =\n",
              "          google.colab.kernel.accessAllowed ? 'block' : 'none';\n",
              "\n",
              "        async function convertToInteractive(key) {\n",
              "          const element = document.querySelector('#df-06c78789-2ef3-42a9-abec-172c797990b7');\n",
              "          const dataTable =\n",
              "            await google.colab.kernel.invokeFunction('convertToInteractive',\n",
              "                                                     [key], {});\n",
              "          if (!dataTable) return;\n",
              "\n",
              "          const docLinkHtml = 'Like what you see? Visit the ' +\n",
              "            '<a target=\"_blank\" href=https://colab.research.google.com/notebooks/data_table.ipynb>data table notebook</a>'\n",
              "            + ' to learn more about interactive tables.';\n",
              "          element.innerHTML = '';\n",
              "          dataTable['output_type'] = 'display_data';\n",
              "          await google.colab.output.renderOutput(dataTable, element);\n",
              "          const docLink = document.createElement('div');\n",
              "          docLink.innerHTML = docLinkHtml;\n",
              "          element.appendChild(docLink);\n",
              "        }\n",
              "      </script>\n",
              "    </div>\n",
              "  </div>\n",
              "  "
            ]
          },
          "metadata": {},
          "execution_count": 15
        }
      ]
    },
    {
      "cell_type": "code",
      "source": [
        "test['cpo_pri'] = cpo_pri_transformer.transform(test[['cpo_pri']])\n",
        "test['cpo_pri'].head()"
      ],
      "metadata": {
        "colab": {
          "base_uri": "https://localhost:8080/"
        },
        "id": "GXgFSrz3n6o5",
        "outputId": "dec520b4-5aa9-436f-fb82-35f901207860"
      },
      "execution_count": null,
      "outputs": [
        {
          "output_type": "execute_result",
          "data": {
            "text/plain": [
              "date\n",
              "2019-03-01    0.0875\n",
              "2019-04-01    0.0725\n",
              "2019-05-01    0.0325\n",
              "2019-06-01    0.0750\n",
              "2019-07-01    0.1325\n",
              "Name: cpo_pri, dtype: float64"
            ]
          },
          "metadata": {},
          "execution_count": 16
        }
      ]
    },
    {
      "cell_type": "markdown",
      "source": [
        "###Create X_train, y_train, X_test and y_test"
      ],
      "metadata": {
        "id": "p_2s3AO-ohCD"
      }
    },
    {
      "cell_type": "code",
      "source": [
        "def createDataset(X, y, time_steps):\n",
        "    Xs, ys = [], []\n",
        "    for i in range(len(X) - time_steps):\n",
        "        data = X.iloc[i:(i + time_steps)].values\n",
        "        Xs.append(data)        \n",
        "        ys.append(y.iloc[i + time_steps])\n",
        "        \n",
        "    return np.array(Xs), np.array(ys)\n",
        "\n",
        "time_steps = 3\n",
        "X_train, y_train = createDataset(train, train.cpo_pri, time_steps)\n",
        "X_test, y_test = createDataset(test, test.cpo_pri, time_steps)\n",
        "print(X_train.shape, y_train.shape)"
      ],
      "metadata": {
        "colab": {
          "base_uri": "https://localhost:8080/"
        },
        "id": "fGTyTKiYoJIb",
        "outputId": "cc62b4e7-c850-4b9c-b1d6-5334731c8978"
      },
      "execution_count": null,
      "outputs": [
        {
          "output_type": "stream",
          "name": "stdout",
          "text": [
            "(96, 3, 7) (96,)\n"
          ]
        }
      ]
    },
    {
      "cell_type": "code",
      "source": [
        "#test_lag = test[1:23]\n",
        "#len(test) - 1"
      ],
      "metadata": {
        "id": "dt_elxfcLh_b"
      },
      "execution_count": null,
      "outputs": []
    },
    {
      "cell_type": "code",
      "source": [
        "#decrement naturally.\n",
        "#shifted = test.set_index([\"date\"]).unstack().shift(3).stack()"
      ],
      "metadata": {
        "id": "BqpvIj_hKO30"
      },
      "execution_count": null,
      "outputs": []
    },
    {
      "cell_type": "code",
      "source": [
        "cnn_model = tf.keras.Sequential()\n",
        "cnn_model.add(tf.keras.layers.Conv1D(filters=64, kernel_size=2, activation='tanh', input_shape=(X_test.shape[1], X_test.shape[2])))\n",
        "cnn_model.add(tf.keras.layers.MaxPooling1D(pool_size=2))\n",
        "cnn_model.add(tf.keras.layers.Flatten())\n",
        "cnn_model.add(tf.keras.layers.Dense(64, activation='tanh'))\n",
        "cnn_model.add(tf.keras.layers.Dense(1, 'linear'))\n",
        "\n",
        "# compile model using adam\n",
        "cnn_model.compile(optimizer='adam',loss='mse',metrics=['mse'])\n",
        "# model training\n",
        "history = cnn_model.fit(X_train, y_train, epochs=300, batch_size = 128, validation_split=0.2) #epochs = 30, batch_size = 60\n",
        "\n",
        "# model evaluation\n",
        "cnn_model.evaluate(X_test, y_test)\n",
        "\n",
        "\n",
        "#cnn_model.compile(loss='mse', optimizer='adam')\n",
        "#cnn_model.summary()\n",
        "#bst -> epochs = 300, batch_size = 128, RMSE = 32\n",
        "#bst -> epochs = 350, batch_size = 100, RMSE = 36\n",
        "#bst -> epochs = 400, batch_size = 128, RMSE = 39"
      ],
      "metadata": {
        "id": "EkQPUIAQOvX9",
        "outputId": "0f47cc11-b747-494f-b95b-d57cac766a17",
        "colab": {
          "base_uri": "https://localhost:8080/"
        }
      },
      "execution_count": null,
      "outputs": [
        {
          "output_type": "stream",
          "name": "stdout",
          "text": [
            "Epoch 1/300\n",
            "1/1 [==============================] - 9s 9s/step - loss: 0.4581 - mse: 0.4581 - val_loss: 0.6216 - val_mse: 0.6216\n",
            "Epoch 2/300\n",
            "1/1 [==============================] - 0s 29ms/step - loss: 0.2858 - mse: 0.2858 - val_loss: 0.4097 - val_mse: 0.4097\n",
            "Epoch 3/300\n",
            "1/1 [==============================] - 0s 26ms/step - loss: 0.1590 - mse: 0.1590 - val_loss: 0.2525 - val_mse: 0.2525\n",
            "Epoch 4/300\n",
            "1/1 [==============================] - 0s 27ms/step - loss: 0.0762 - mse: 0.0762 - val_loss: 0.1470 - val_mse: 0.1470\n",
            "Epoch 5/300\n",
            "1/1 [==============================] - 0s 27ms/step - loss: 0.0336 - mse: 0.0336 - val_loss: 0.0872 - val_mse: 0.0872\n",
            "Epoch 6/300\n",
            "1/1 [==============================] - 0s 25ms/step - loss: 0.0245 - mse: 0.0245 - val_loss: 0.0629 - val_mse: 0.0629\n",
            "Epoch 7/300\n",
            "1/1 [==============================] - 0s 25ms/step - loss: 0.0385 - mse: 0.0385 - val_loss: 0.0601 - val_mse: 0.0601\n",
            "Epoch 8/300\n",
            "1/1 [==============================] - 0s 30ms/step - loss: 0.0618 - mse: 0.0618 - val_loss: 0.0649 - val_mse: 0.0649\n",
            "Epoch 9/300\n",
            "1/1 [==============================] - 0s 26ms/step - loss: 0.0821 - mse: 0.0821 - val_loss: 0.0679 - val_mse: 0.0679\n",
            "Epoch 10/300\n",
            "1/1 [==============================] - 0s 25ms/step - loss: 0.0922 - mse: 0.0922 - val_loss: 0.0659 - val_mse: 0.0659\n",
            "Epoch 11/300\n",
            "1/1 [==============================] - 0s 24ms/step - loss: 0.0909 - mse: 0.0909 - val_loss: 0.0598 - val_mse: 0.0598\n",
            "Epoch 12/300\n",
            "1/1 [==============================] - 0s 24ms/step - loss: 0.0807 - mse: 0.0807 - val_loss: 0.0523 - val_mse: 0.0523\n",
            "Epoch 13/300\n",
            "1/1 [==============================] - 0s 26ms/step - loss: 0.0653 - mse: 0.0653 - val_loss: 0.0467 - val_mse: 0.0467\n",
            "Epoch 14/300\n",
            "1/1 [==============================] - 0s 25ms/step - loss: 0.0489 - mse: 0.0489 - val_loss: 0.0453 - val_mse: 0.0453\n",
            "Epoch 15/300\n",
            "1/1 [==============================] - 0s 24ms/step - loss: 0.0346 - mse: 0.0346 - val_loss: 0.0491 - val_mse: 0.0491\n",
            "Epoch 16/300\n",
            "1/1 [==============================] - 0s 25ms/step - loss: 0.0243 - mse: 0.0243 - val_loss: 0.0580 - val_mse: 0.0580\n",
            "Epoch 17/300\n",
            "1/1 [==============================] - 0s 25ms/step - loss: 0.0188 - mse: 0.0188 - val_loss: 0.0708 - val_mse: 0.0708\n",
            "Epoch 18/300\n",
            "1/1 [==============================] - 0s 26ms/step - loss: 0.0179 - mse: 0.0179 - val_loss: 0.0854 - val_mse: 0.0854\n",
            "Epoch 19/300\n",
            "1/1 [==============================] - 0s 27ms/step - loss: 0.0203 - mse: 0.0203 - val_loss: 0.0993 - val_mse: 0.0993\n",
            "Epoch 20/300\n",
            "1/1 [==============================] - 0s 32ms/step - loss: 0.0246 - mse: 0.0246 - val_loss: 0.1106 - val_mse: 0.1106\n",
            "Epoch 21/300\n",
            "1/1 [==============================] - 0s 26ms/step - loss: 0.0290 - mse: 0.0290 - val_loss: 0.1174 - val_mse: 0.1174\n",
            "Epoch 22/300\n",
            "1/1 [==============================] - 0s 27ms/step - loss: 0.0324 - mse: 0.0324 - val_loss: 0.1190 - val_mse: 0.1190\n",
            "Epoch 23/300\n",
            "1/1 [==============================] - 0s 31ms/step - loss: 0.0338 - mse: 0.0338 - val_loss: 0.1156 - val_mse: 0.1156\n",
            "Epoch 24/300\n",
            "1/1 [==============================] - 0s 27ms/step - loss: 0.0331 - mse: 0.0331 - val_loss: 0.1078 - val_mse: 0.1078\n",
            "Epoch 25/300\n",
            "1/1 [==============================] - 0s 25ms/step - loss: 0.0305 - mse: 0.0305 - val_loss: 0.0969 - val_mse: 0.0969\n",
            "Epoch 26/300\n",
            "1/1 [==============================] - 0s 30ms/step - loss: 0.0269 - mse: 0.0269 - val_loss: 0.0843 - val_mse: 0.0843\n",
            "Epoch 27/300\n",
            "1/1 [==============================] - 0s 28ms/step - loss: 0.0228 - mse: 0.0228 - val_loss: 0.0715 - val_mse: 0.0715\n",
            "Epoch 28/300\n",
            "1/1 [==============================] - 0s 25ms/step - loss: 0.0191 - mse: 0.0191 - val_loss: 0.0595 - val_mse: 0.0595\n",
            "Epoch 29/300\n",
            "1/1 [==============================] - 0s 26ms/step - loss: 0.0164 - mse: 0.0164 - val_loss: 0.0492 - val_mse: 0.0492\n",
            "Epoch 30/300\n",
            "1/1 [==============================] - 0s 31ms/step - loss: 0.0148 - mse: 0.0148 - val_loss: 0.0410 - val_mse: 0.0410\n",
            "Epoch 31/300\n",
            "1/1 [==============================] - 0s 26ms/step - loss: 0.0144 - mse: 0.0144 - val_loss: 0.0349 - val_mse: 0.0349\n",
            "Epoch 32/300\n",
            "1/1 [==============================] - 0s 26ms/step - loss: 0.0150 - mse: 0.0150 - val_loss: 0.0306 - val_mse: 0.0306\n",
            "Epoch 33/300\n",
            "1/1 [==============================] - 0s 26ms/step - loss: 0.0160 - mse: 0.0160 - val_loss: 0.0278 - val_mse: 0.0278\n",
            "Epoch 34/300\n",
            "1/1 [==============================] - 0s 28ms/step - loss: 0.0171 - mse: 0.0171 - val_loss: 0.0261 - val_mse: 0.0261\n",
            "Epoch 35/300\n",
            "1/1 [==============================] - 0s 29ms/step - loss: 0.0179 - mse: 0.0179 - val_loss: 0.0251 - val_mse: 0.0251\n",
            "Epoch 36/300\n",
            "1/1 [==============================] - 0s 31ms/step - loss: 0.0181 - mse: 0.0181 - val_loss: 0.0246 - val_mse: 0.0246\n",
            "Epoch 37/300\n",
            "1/1 [==============================] - 0s 28ms/step - loss: 0.0176 - mse: 0.0176 - val_loss: 0.0246 - val_mse: 0.0246\n",
            "Epoch 38/300\n",
            "1/1 [==============================] - 0s 25ms/step - loss: 0.0166 - mse: 0.0166 - val_loss: 0.0250 - val_mse: 0.0250\n",
            "Epoch 39/300\n",
            "1/1 [==============================] - 0s 26ms/step - loss: 0.0153 - mse: 0.0153 - val_loss: 0.0260 - val_mse: 0.0260\n",
            "Epoch 40/300\n",
            "1/1 [==============================] - 0s 29ms/step - loss: 0.0140 - mse: 0.0140 - val_loss: 0.0275 - val_mse: 0.0275\n",
            "Epoch 41/300\n",
            "1/1 [==============================] - 0s 28ms/step - loss: 0.0129 - mse: 0.0129 - val_loss: 0.0294 - val_mse: 0.0294\n",
            "Epoch 42/300\n",
            "1/1 [==============================] - 0s 26ms/step - loss: 0.0122 - mse: 0.0122 - val_loss: 0.0315 - val_mse: 0.0315\n",
            "Epoch 43/300\n",
            "1/1 [==============================] - 0s 33ms/step - loss: 0.0119 - mse: 0.0119 - val_loss: 0.0336 - val_mse: 0.0336\n",
            "Epoch 44/300\n",
            "1/1 [==============================] - 0s 36ms/step - loss: 0.0119 - mse: 0.0119 - val_loss: 0.0354 - val_mse: 0.0354\n",
            "Epoch 45/300\n",
            "1/1 [==============================] - 0s 26ms/step - loss: 0.0121 - mse: 0.0121 - val_loss: 0.0366 - val_mse: 0.0366\n",
            "Epoch 46/300\n",
            "1/1 [==============================] - 0s 26ms/step - loss: 0.0124 - mse: 0.0124 - val_loss: 0.0371 - val_mse: 0.0371\n",
            "Epoch 47/300\n",
            "1/1 [==============================] - 0s 26ms/step - loss: 0.0125 - mse: 0.0125 - val_loss: 0.0366 - val_mse: 0.0366\n",
            "Epoch 48/300\n",
            "1/1 [==============================] - 0s 25ms/step - loss: 0.0125 - mse: 0.0125 - val_loss: 0.0354 - val_mse: 0.0354\n",
            "Epoch 49/300\n",
            "1/1 [==============================] - 0s 25ms/step - loss: 0.0122 - mse: 0.0122 - val_loss: 0.0336 - val_mse: 0.0336\n",
            "Epoch 50/300\n",
            "1/1 [==============================] - 0s 28ms/step - loss: 0.0118 - mse: 0.0118 - val_loss: 0.0313 - val_mse: 0.0313\n",
            "Epoch 51/300\n",
            "1/1 [==============================] - 0s 30ms/step - loss: 0.0113 - mse: 0.0113 - val_loss: 0.0288 - val_mse: 0.0288\n",
            "Epoch 52/300\n",
            "1/1 [==============================] - 0s 28ms/step - loss: 0.0108 - mse: 0.0108 - val_loss: 0.0264 - val_mse: 0.0264\n",
            "Epoch 53/300\n",
            "1/1 [==============================] - 0s 30ms/step - loss: 0.0104 - mse: 0.0104 - val_loss: 0.0242 - val_mse: 0.0242\n",
            "Epoch 54/300\n",
            "1/1 [==============================] - 0s 43ms/step - loss: 0.0102 - mse: 0.0102 - val_loss: 0.0224 - val_mse: 0.0224\n",
            "Epoch 55/300\n",
            "1/1 [==============================] - 0s 37ms/step - loss: 0.0101 - mse: 0.0101 - val_loss: 0.0209 - val_mse: 0.0209\n",
            "Epoch 56/300\n",
            "1/1 [==============================] - 0s 29ms/step - loss: 0.0101 - mse: 0.0101 - val_loss: 0.0198 - val_mse: 0.0198\n",
            "Epoch 57/300\n",
            "1/1 [==============================] - 0s 28ms/step - loss: 0.0101 - mse: 0.0101 - val_loss: 0.0191 - val_mse: 0.0191\n",
            "Epoch 58/300\n",
            "1/1 [==============================] - 0s 29ms/step - loss: 0.0101 - mse: 0.0101 - val_loss: 0.0186 - val_mse: 0.0186\n",
            "Epoch 59/300\n",
            "1/1 [==============================] - 0s 28ms/step - loss: 0.0101 - mse: 0.0101 - val_loss: 0.0183 - val_mse: 0.0183\n",
            "Epoch 60/300\n",
            "1/1 [==============================] - 0s 39ms/step - loss: 0.0100 - mse: 0.0100 - val_loss: 0.0181 - val_mse: 0.0181\n",
            "Epoch 61/300\n",
            "1/1 [==============================] - 0s 37ms/step - loss: 0.0098 - mse: 0.0098 - val_loss: 0.0181 - val_mse: 0.0181\n",
            "Epoch 62/300\n",
            "1/1 [==============================] - 0s 34ms/step - loss: 0.0095 - mse: 0.0095 - val_loss: 0.0182 - val_mse: 0.0182\n",
            "Epoch 63/300\n",
            "1/1 [==============================] - 0s 41ms/step - loss: 0.0093 - mse: 0.0093 - val_loss: 0.0184 - val_mse: 0.0184\n",
            "Epoch 64/300\n",
            "1/1 [==============================] - 0s 32ms/step - loss: 0.0092 - mse: 0.0092 - val_loss: 0.0186 - val_mse: 0.0186\n",
            "Epoch 65/300\n",
            "1/1 [==============================] - 0s 31ms/step - loss: 0.0090 - mse: 0.0090 - val_loss: 0.0188 - val_mse: 0.0188\n",
            "Epoch 66/300\n",
            "1/1 [==============================] - 0s 31ms/step - loss: 0.0090 - mse: 0.0090 - val_loss: 0.0189 - val_mse: 0.0189\n",
            "Epoch 67/300\n",
            "1/1 [==============================] - 0s 32ms/step - loss: 0.0090 - mse: 0.0090 - val_loss: 0.0189 - val_mse: 0.0189\n",
            "Epoch 68/300\n",
            "1/1 [==============================] - 0s 32ms/step - loss: 0.0089 - mse: 0.0089 - val_loss: 0.0187 - val_mse: 0.0187\n",
            "Epoch 69/300\n",
            "1/1 [==============================] - 0s 30ms/step - loss: 0.0089 - mse: 0.0089 - val_loss: 0.0184 - val_mse: 0.0184\n",
            "Epoch 70/300\n",
            "1/1 [==============================] - 0s 50ms/step - loss: 0.0088 - mse: 0.0088 - val_loss: 0.0180 - val_mse: 0.0180\n",
            "Epoch 71/300\n",
            "1/1 [==============================] - 0s 40ms/step - loss: 0.0088 - mse: 0.0088 - val_loss: 0.0175 - val_mse: 0.0175\n",
            "Epoch 72/300\n",
            "1/1 [==============================] - 0s 31ms/step - loss: 0.0087 - mse: 0.0087 - val_loss: 0.0169 - val_mse: 0.0169\n",
            "Epoch 73/300\n",
            "1/1 [==============================] - 0s 31ms/step - loss: 0.0085 - mse: 0.0085 - val_loss: 0.0164 - val_mse: 0.0164\n",
            "Epoch 74/300\n",
            "1/1 [==============================] - 0s 33ms/step - loss: 0.0085 - mse: 0.0085 - val_loss: 0.0159 - val_mse: 0.0159\n",
            "Epoch 75/300\n",
            "1/1 [==============================] - 0s 31ms/step - loss: 0.0084 - mse: 0.0084 - val_loss: 0.0156 - val_mse: 0.0156\n",
            "Epoch 76/300\n",
            "1/1 [==============================] - 0s 49ms/step - loss: 0.0083 - mse: 0.0083 - val_loss: 0.0153 - val_mse: 0.0153\n",
            "Epoch 77/300\n",
            "1/1 [==============================] - 0s 61ms/step - loss: 0.0083 - mse: 0.0083 - val_loss: 0.0151 - val_mse: 0.0151\n",
            "Epoch 78/300\n",
            "1/1 [==============================] - 0s 32ms/step - loss: 0.0083 - mse: 0.0083 - val_loss: 0.0150 - val_mse: 0.0150\n",
            "Epoch 79/300\n",
            "1/1 [==============================] - 0s 38ms/step - loss: 0.0083 - mse: 0.0083 - val_loss: 0.0149 - val_mse: 0.0149\n",
            "Epoch 80/300\n",
            "1/1 [==============================] - 0s 37ms/step - loss: 0.0082 - mse: 0.0082 - val_loss: 0.0148 - val_mse: 0.0148\n",
            "Epoch 81/300\n",
            "1/1 [==============================] - 0s 51ms/step - loss: 0.0082 - mse: 0.0082 - val_loss: 0.0148 - val_mse: 0.0148\n",
            "Epoch 82/300\n",
            "1/1 [==============================] - 0s 54ms/step - loss: 0.0081 - mse: 0.0081 - val_loss: 0.0148 - val_mse: 0.0148\n",
            "Epoch 83/300\n",
            "1/1 [==============================] - 0s 53ms/step - loss: 0.0080 - mse: 0.0080 - val_loss: 0.0147 - val_mse: 0.0147\n",
            "Epoch 84/300\n",
            "1/1 [==============================] - 0s 50ms/step - loss: 0.0080 - mse: 0.0080 - val_loss: 0.0147 - val_mse: 0.0147\n",
            "Epoch 85/300\n",
            "1/1 [==============================] - 0s 42ms/step - loss: 0.0080 - mse: 0.0080 - val_loss: 0.0147 - val_mse: 0.0147\n",
            "Epoch 86/300\n",
            "1/1 [==============================] - 0s 38ms/step - loss: 0.0079 - mse: 0.0079 - val_loss: 0.0147 - val_mse: 0.0147\n",
            "Epoch 87/300\n",
            "1/1 [==============================] - 0s 35ms/step - loss: 0.0079 - mse: 0.0079 - val_loss: 0.0147 - val_mse: 0.0147\n",
            "Epoch 88/300\n",
            "1/1 [==============================] - 0s 31ms/step - loss: 0.0079 - mse: 0.0079 - val_loss: 0.0147 - val_mse: 0.0147\n",
            "Epoch 89/300\n",
            "1/1 [==============================] - 0s 29ms/step - loss: 0.0079 - mse: 0.0079 - val_loss: 0.0146 - val_mse: 0.0146\n",
            "Epoch 90/300\n",
            "1/1 [==============================] - 0s 30ms/step - loss: 0.0078 - mse: 0.0078 - val_loss: 0.0146 - val_mse: 0.0146\n",
            "Epoch 91/300\n",
            "1/1 [==============================] - 0s 30ms/step - loss: 0.0078 - mse: 0.0078 - val_loss: 0.0146 - val_mse: 0.0146\n",
            "Epoch 92/300\n",
            "1/1 [==============================] - 0s 30ms/step - loss: 0.0078 - mse: 0.0078 - val_loss: 0.0146 - val_mse: 0.0146\n",
            "Epoch 93/300\n",
            "1/1 [==============================] - 0s 29ms/step - loss: 0.0077 - mse: 0.0077 - val_loss: 0.0146 - val_mse: 0.0146\n",
            "Epoch 94/300\n",
            "1/1 [==============================] - 0s 29ms/step - loss: 0.0077 - mse: 0.0077 - val_loss: 0.0147 - val_mse: 0.0147\n",
            "Epoch 95/300\n",
            "1/1 [==============================] - 0s 51ms/step - loss: 0.0077 - mse: 0.0077 - val_loss: 0.0147 - val_mse: 0.0147\n",
            "Epoch 96/300\n",
            "1/1 [==============================] - 0s 30ms/step - loss: 0.0077 - mse: 0.0077 - val_loss: 0.0148 - val_mse: 0.0148\n",
            "Epoch 97/300\n",
            "1/1 [==============================] - 0s 55ms/step - loss: 0.0076 - mse: 0.0076 - val_loss: 0.0148 - val_mse: 0.0148\n",
            "Epoch 98/300\n",
            "1/1 [==============================] - 0s 53ms/step - loss: 0.0076 - mse: 0.0076 - val_loss: 0.0149 - val_mse: 0.0149\n",
            "Epoch 99/300\n",
            "1/1 [==============================] - 0s 33ms/step - loss: 0.0076 - mse: 0.0076 - val_loss: 0.0149 - val_mse: 0.0149\n",
            "Epoch 100/300\n",
            "1/1 [==============================] - 0s 49ms/step - loss: 0.0076 - mse: 0.0076 - val_loss: 0.0150 - val_mse: 0.0150\n",
            "Epoch 101/300\n",
            "1/1 [==============================] - 0s 41ms/step - loss: 0.0075 - mse: 0.0075 - val_loss: 0.0150 - val_mse: 0.0150\n",
            "Epoch 102/300\n",
            "1/1 [==============================] - 0s 32ms/step - loss: 0.0075 - mse: 0.0075 - val_loss: 0.0151 - val_mse: 0.0151\n",
            "Epoch 103/300\n",
            "1/1 [==============================] - 0s 34ms/step - loss: 0.0075 - mse: 0.0075 - val_loss: 0.0151 - val_mse: 0.0151\n",
            "Epoch 104/300\n",
            "1/1 [==============================] - 0s 58ms/step - loss: 0.0075 - mse: 0.0075 - val_loss: 0.0151 - val_mse: 0.0151\n",
            "Epoch 105/300\n",
            "1/1 [==============================] - 0s 33ms/step - loss: 0.0075 - mse: 0.0075 - val_loss: 0.0152 - val_mse: 0.0152\n",
            "Epoch 106/300\n",
            "1/1 [==============================] - 0s 38ms/step - loss: 0.0074 - mse: 0.0074 - val_loss: 0.0153 - val_mse: 0.0153\n",
            "Epoch 107/300\n",
            "1/1 [==============================] - 0s 33ms/step - loss: 0.0074 - mse: 0.0074 - val_loss: 0.0153 - val_mse: 0.0153\n",
            "Epoch 108/300\n",
            "1/1 [==============================] - 0s 53ms/step - loss: 0.0074 - mse: 0.0074 - val_loss: 0.0154 - val_mse: 0.0154\n",
            "Epoch 109/300\n",
            "1/1 [==============================] - 0s 40ms/step - loss: 0.0074 - mse: 0.0074 - val_loss: 0.0155 - val_mse: 0.0155\n",
            "Epoch 110/300\n",
            "1/1 [==============================] - 0s 39ms/step - loss: 0.0074 - mse: 0.0074 - val_loss: 0.0157 - val_mse: 0.0157\n",
            "Epoch 111/300\n",
            "1/1 [==============================] - 0s 33ms/step - loss: 0.0074 - mse: 0.0074 - val_loss: 0.0158 - val_mse: 0.0158\n",
            "Epoch 112/300\n",
            "1/1 [==============================] - 0s 41ms/step - loss: 0.0073 - mse: 0.0073 - val_loss: 0.0159 - val_mse: 0.0159\n",
            "Epoch 113/300\n",
            "1/1 [==============================] - 0s 33ms/step - loss: 0.0073 - mse: 0.0073 - val_loss: 0.0160 - val_mse: 0.0160\n",
            "Epoch 114/300\n",
            "1/1 [==============================] - 0s 31ms/step - loss: 0.0073 - mse: 0.0073 - val_loss: 0.0161 - val_mse: 0.0161\n",
            "Epoch 115/300\n",
            "1/1 [==============================] - 0s 35ms/step - loss: 0.0073 - mse: 0.0073 - val_loss: 0.0162 - val_mse: 0.0162\n",
            "Epoch 116/300\n",
            "1/1 [==============================] - 0s 31ms/step - loss: 0.0073 - mse: 0.0073 - val_loss: 0.0162 - val_mse: 0.0162\n",
            "Epoch 117/300\n",
            "1/1 [==============================] - 0s 31ms/step - loss: 0.0073 - mse: 0.0073 - val_loss: 0.0163 - val_mse: 0.0163\n",
            "Epoch 118/300\n",
            "1/1 [==============================] - 0s 31ms/step - loss: 0.0072 - mse: 0.0072 - val_loss: 0.0163 - val_mse: 0.0163\n",
            "Epoch 119/300\n",
            "1/1 [==============================] - 0s 34ms/step - loss: 0.0072 - mse: 0.0072 - val_loss: 0.0164 - val_mse: 0.0164\n",
            "Epoch 120/300\n",
            "1/1 [==============================] - 0s 39ms/step - loss: 0.0072 - mse: 0.0072 - val_loss: 0.0165 - val_mse: 0.0165\n",
            "Epoch 121/300\n",
            "1/1 [==============================] - 0s 32ms/step - loss: 0.0072 - mse: 0.0072 - val_loss: 0.0165 - val_mse: 0.0165\n",
            "Epoch 122/300\n",
            "1/1 [==============================] - 0s 31ms/step - loss: 0.0072 - mse: 0.0072 - val_loss: 0.0166 - val_mse: 0.0166\n",
            "Epoch 123/300\n",
            "1/1 [==============================] - 0s 32ms/step - loss: 0.0072 - mse: 0.0072 - val_loss: 0.0167 - val_mse: 0.0167\n",
            "Epoch 124/300\n",
            "1/1 [==============================] - 0s 36ms/step - loss: 0.0071 - mse: 0.0071 - val_loss: 0.0168 - val_mse: 0.0168\n",
            "Epoch 125/300\n",
            "1/1 [==============================] - 0s 31ms/step - loss: 0.0071 - mse: 0.0071 - val_loss: 0.0169 - val_mse: 0.0169\n",
            "Epoch 126/300\n",
            "1/1 [==============================] - 0s 28ms/step - loss: 0.0071 - mse: 0.0071 - val_loss: 0.0170 - val_mse: 0.0170\n",
            "Epoch 127/300\n",
            "1/1 [==============================] - 0s 27ms/step - loss: 0.0071 - mse: 0.0071 - val_loss: 0.0171 - val_mse: 0.0171\n",
            "Epoch 128/300\n",
            "1/1 [==============================] - 0s 27ms/step - loss: 0.0071 - mse: 0.0071 - val_loss: 0.0172 - val_mse: 0.0172\n",
            "Epoch 129/300\n",
            "1/1 [==============================] - 0s 31ms/step - loss: 0.0071 - mse: 0.0071 - val_loss: 0.0173 - val_mse: 0.0173\n",
            "Epoch 130/300\n",
            "1/1 [==============================] - 0s 31ms/step - loss: 0.0071 - mse: 0.0071 - val_loss: 0.0173 - val_mse: 0.0173\n",
            "Epoch 131/300\n",
            "1/1 [==============================] - 0s 26ms/step - loss: 0.0070 - mse: 0.0070 - val_loss: 0.0174 - val_mse: 0.0174\n",
            "Epoch 132/300\n",
            "1/1 [==============================] - 0s 27ms/step - loss: 0.0070 - mse: 0.0070 - val_loss: 0.0175 - val_mse: 0.0175\n",
            "Epoch 133/300\n",
            "1/1 [==============================] - 0s 27ms/step - loss: 0.0070 - mse: 0.0070 - val_loss: 0.0175 - val_mse: 0.0175\n",
            "Epoch 134/300\n",
            "1/1 [==============================] - 0s 27ms/step - loss: 0.0070 - mse: 0.0070 - val_loss: 0.0176 - val_mse: 0.0176\n",
            "Epoch 135/300\n",
            "1/1 [==============================] - 0s 27ms/step - loss: 0.0070 - mse: 0.0070 - val_loss: 0.0176 - val_mse: 0.0176\n",
            "Epoch 136/300\n",
            "1/1 [==============================] - 0s 26ms/step - loss: 0.0070 - mse: 0.0070 - val_loss: 0.0177 - val_mse: 0.0177\n",
            "Epoch 137/300\n",
            "1/1 [==============================] - 0s 29ms/step - loss: 0.0070 - mse: 0.0070 - val_loss: 0.0178 - val_mse: 0.0178\n",
            "Epoch 138/300\n",
            "1/1 [==============================] - 0s 27ms/step - loss: 0.0069 - mse: 0.0069 - val_loss: 0.0178 - val_mse: 0.0178\n",
            "Epoch 139/300\n",
            "1/1 [==============================] - 0s 26ms/step - loss: 0.0069 - mse: 0.0069 - val_loss: 0.0179 - val_mse: 0.0179\n",
            "Epoch 140/300\n",
            "1/1 [==============================] - 0s 25ms/step - loss: 0.0069 - mse: 0.0069 - val_loss: 0.0180 - val_mse: 0.0180\n",
            "Epoch 141/300\n",
            "1/1 [==============================] - 0s 29ms/step - loss: 0.0069 - mse: 0.0069 - val_loss: 0.0180 - val_mse: 0.0180\n",
            "Epoch 142/300\n",
            "1/1 [==============================] - 0s 26ms/step - loss: 0.0069 - mse: 0.0069 - val_loss: 0.0181 - val_mse: 0.0181\n",
            "Epoch 143/300\n",
            "1/1 [==============================] - 0s 32ms/step - loss: 0.0069 - mse: 0.0069 - val_loss: 0.0182 - val_mse: 0.0182\n",
            "Epoch 144/300\n",
            "1/1 [==============================] - 0s 27ms/step - loss: 0.0069 - mse: 0.0069 - val_loss: 0.0183 - val_mse: 0.0183\n",
            "Epoch 145/300\n",
            "1/1 [==============================] - 0s 46ms/step - loss: 0.0069 - mse: 0.0069 - val_loss: 0.0183 - val_mse: 0.0183\n",
            "Epoch 146/300\n",
            "1/1 [==============================] - 0s 26ms/step - loss: 0.0068 - mse: 0.0068 - val_loss: 0.0184 - val_mse: 0.0184\n",
            "Epoch 147/300\n",
            "1/1 [==============================] - 0s 26ms/step - loss: 0.0068 - mse: 0.0068 - val_loss: 0.0185 - val_mse: 0.0185\n",
            "Epoch 148/300\n",
            "1/1 [==============================] - 0s 27ms/step - loss: 0.0068 - mse: 0.0068 - val_loss: 0.0185 - val_mse: 0.0185\n",
            "Epoch 149/300\n",
            "1/1 [==============================] - 0s 31ms/step - loss: 0.0068 - mse: 0.0068 - val_loss: 0.0186 - val_mse: 0.0186\n",
            "Epoch 150/300\n",
            "1/1 [==============================] - 0s 26ms/step - loss: 0.0068 - mse: 0.0068 - val_loss: 0.0186 - val_mse: 0.0186\n",
            "Epoch 151/300\n",
            "1/1 [==============================] - 0s 29ms/step - loss: 0.0068 - mse: 0.0068 - val_loss: 0.0187 - val_mse: 0.0187\n",
            "Epoch 152/300\n",
            "1/1 [==============================] - 0s 30ms/step - loss: 0.0068 - mse: 0.0068 - val_loss: 0.0187 - val_mse: 0.0187\n",
            "Epoch 153/300\n",
            "1/1 [==============================] - 0s 31ms/step - loss: 0.0068 - mse: 0.0068 - val_loss: 0.0188 - val_mse: 0.0188\n",
            "Epoch 154/300\n",
            "1/1 [==============================] - 0s 27ms/step - loss: 0.0067 - mse: 0.0067 - val_loss: 0.0188 - val_mse: 0.0188\n",
            "Epoch 155/300\n",
            "1/1 [==============================] - 0s 30ms/step - loss: 0.0067 - mse: 0.0067 - val_loss: 0.0189 - val_mse: 0.0189\n",
            "Epoch 156/300\n",
            "1/1 [==============================] - 0s 27ms/step - loss: 0.0067 - mse: 0.0067 - val_loss: 0.0189 - val_mse: 0.0189\n",
            "Epoch 157/300\n",
            "1/1 [==============================] - 0s 30ms/step - loss: 0.0067 - mse: 0.0067 - val_loss: 0.0190 - val_mse: 0.0190\n",
            "Epoch 158/300\n",
            "1/1 [==============================] - 0s 28ms/step - loss: 0.0067 - mse: 0.0067 - val_loss: 0.0190 - val_mse: 0.0190\n",
            "Epoch 159/300\n",
            "1/1 [==============================] - 0s 40ms/step - loss: 0.0067 - mse: 0.0067 - val_loss: 0.0191 - val_mse: 0.0191\n",
            "Epoch 160/300\n",
            "1/1 [==============================] - 0s 26ms/step - loss: 0.0067 - mse: 0.0067 - val_loss: 0.0191 - val_mse: 0.0191\n",
            "Epoch 161/300\n",
            "1/1 [==============================] - 0s 27ms/step - loss: 0.0067 - mse: 0.0067 - val_loss: 0.0192 - val_mse: 0.0192\n",
            "Epoch 162/300\n",
            "1/1 [==============================] - 0s 26ms/step - loss: 0.0066 - mse: 0.0066 - val_loss: 0.0192 - val_mse: 0.0192\n",
            "Epoch 163/300\n",
            "1/1 [==============================] - 0s 28ms/step - loss: 0.0066 - mse: 0.0066 - val_loss: 0.0193 - val_mse: 0.0193\n",
            "Epoch 164/300\n",
            "1/1 [==============================] - 0s 26ms/step - loss: 0.0066 - mse: 0.0066 - val_loss: 0.0193 - val_mse: 0.0193\n",
            "Epoch 165/300\n",
            "1/1 [==============================] - 0s 31ms/step - loss: 0.0066 - mse: 0.0066 - val_loss: 0.0194 - val_mse: 0.0194\n",
            "Epoch 166/300\n",
            "1/1 [==============================] - 0s 28ms/step - loss: 0.0066 - mse: 0.0066 - val_loss: 0.0194 - val_mse: 0.0194\n",
            "Epoch 167/300\n",
            "1/1 [==============================] - 0s 37ms/step - loss: 0.0066 - mse: 0.0066 - val_loss: 0.0194 - val_mse: 0.0194\n",
            "Epoch 168/300\n",
            "1/1 [==============================] - 0s 32ms/step - loss: 0.0066 - mse: 0.0066 - val_loss: 0.0195 - val_mse: 0.0195\n",
            "Epoch 169/300\n",
            "1/1 [==============================] - 0s 39ms/step - loss: 0.0066 - mse: 0.0066 - val_loss: 0.0195 - val_mse: 0.0195\n",
            "Epoch 170/300\n",
            "1/1 [==============================] - 0s 31ms/step - loss: 0.0065 - mse: 0.0065 - val_loss: 0.0196 - val_mse: 0.0196\n",
            "Epoch 171/300\n",
            "1/1 [==============================] - 0s 31ms/step - loss: 0.0065 - mse: 0.0065 - val_loss: 0.0196 - val_mse: 0.0196\n",
            "Epoch 172/300\n",
            "1/1 [==============================] - 0s 29ms/step - loss: 0.0065 - mse: 0.0065 - val_loss: 0.0196 - val_mse: 0.0196\n",
            "Epoch 173/300\n",
            "1/1 [==============================] - 0s 30ms/step - loss: 0.0065 - mse: 0.0065 - val_loss: 0.0197 - val_mse: 0.0197\n",
            "Epoch 174/300\n",
            "1/1 [==============================] - 0s 27ms/step - loss: 0.0065 - mse: 0.0065 - val_loss: 0.0197 - val_mse: 0.0197\n",
            "Epoch 175/300\n",
            "1/1 [==============================] - 0s 31ms/step - loss: 0.0065 - mse: 0.0065 - val_loss: 0.0198 - val_mse: 0.0198\n",
            "Epoch 176/300\n",
            "1/1 [==============================] - 0s 27ms/step - loss: 0.0065 - mse: 0.0065 - val_loss: 0.0198 - val_mse: 0.0198\n",
            "Epoch 177/300\n",
            "1/1 [==============================] - 0s 27ms/step - loss: 0.0065 - mse: 0.0065 - val_loss: 0.0198 - val_mse: 0.0198\n",
            "Epoch 178/300\n",
            "1/1 [==============================] - 0s 28ms/step - loss: 0.0064 - mse: 0.0064 - val_loss: 0.0199 - val_mse: 0.0199\n",
            "Epoch 179/300\n",
            "1/1 [==============================] - 0s 29ms/step - loss: 0.0064 - mse: 0.0064 - val_loss: 0.0199 - val_mse: 0.0199\n",
            "Epoch 180/300\n",
            "1/1 [==============================] - 0s 32ms/step - loss: 0.0064 - mse: 0.0064 - val_loss: 0.0199 - val_mse: 0.0199\n",
            "Epoch 181/300\n",
            "1/1 [==============================] - 0s 33ms/step - loss: 0.0064 - mse: 0.0064 - val_loss: 0.0199 - val_mse: 0.0199\n",
            "Epoch 182/300\n",
            "1/1 [==============================] - 0s 32ms/step - loss: 0.0064 - mse: 0.0064 - val_loss: 0.0200 - val_mse: 0.0200\n",
            "Epoch 183/300\n",
            "1/1 [==============================] - 0s 40ms/step - loss: 0.0064 - mse: 0.0064 - val_loss: 0.0200 - val_mse: 0.0200\n",
            "Epoch 184/300\n",
            "1/1 [==============================] - 0s 34ms/step - loss: 0.0064 - mse: 0.0064 - val_loss: 0.0200 - val_mse: 0.0200\n",
            "Epoch 185/300\n",
            "1/1 [==============================] - 0s 37ms/step - loss: 0.0064 - mse: 0.0064 - val_loss: 0.0201 - val_mse: 0.0201\n",
            "Epoch 186/300\n",
            "1/1 [==============================] - 0s 28ms/step - loss: 0.0064 - mse: 0.0064 - val_loss: 0.0201 - val_mse: 0.0201\n",
            "Epoch 187/300\n",
            "1/1 [==============================] - 0s 36ms/step - loss: 0.0063 - mse: 0.0063 - val_loss: 0.0201 - val_mse: 0.0201\n",
            "Epoch 188/300\n",
            "1/1 [==============================] - 0s 28ms/step - loss: 0.0063 - mse: 0.0063 - val_loss: 0.0202 - val_mse: 0.0202\n",
            "Epoch 189/300\n",
            "1/1 [==============================] - 0s 31ms/step - loss: 0.0063 - mse: 0.0063 - val_loss: 0.0202 - val_mse: 0.0202\n",
            "Epoch 190/300\n",
            "1/1 [==============================] - 0s 33ms/step - loss: 0.0063 - mse: 0.0063 - val_loss: 0.0202 - val_mse: 0.0202\n",
            "Epoch 191/300\n",
            "1/1 [==============================] - 0s 30ms/step - loss: 0.0063 - mse: 0.0063 - val_loss: 0.0203 - val_mse: 0.0203\n",
            "Epoch 192/300\n",
            "1/1 [==============================] - 0s 32ms/step - loss: 0.0063 - mse: 0.0063 - val_loss: 0.0203 - val_mse: 0.0203\n",
            "Epoch 193/300\n",
            "1/1 [==============================] - 0s 29ms/step - loss: 0.0063 - mse: 0.0063 - val_loss: 0.0203 - val_mse: 0.0203\n",
            "Epoch 194/300\n",
            "1/1 [==============================] - 0s 31ms/step - loss: 0.0063 - mse: 0.0063 - val_loss: 0.0203 - val_mse: 0.0203\n",
            "Epoch 195/300\n",
            "1/1 [==============================] - 0s 30ms/step - loss: 0.0063 - mse: 0.0063 - val_loss: 0.0204 - val_mse: 0.0204\n",
            "Epoch 196/300\n",
            "1/1 [==============================] - 0s 26ms/step - loss: 0.0062 - mse: 0.0062 - val_loss: 0.0204 - val_mse: 0.0204\n",
            "Epoch 197/300\n",
            "1/1 [==============================] - 0s 26ms/step - loss: 0.0062 - mse: 0.0062 - val_loss: 0.0204 - val_mse: 0.0204\n",
            "Epoch 198/300\n",
            "1/1 [==============================] - 0s 27ms/step - loss: 0.0062 - mse: 0.0062 - val_loss: 0.0204 - val_mse: 0.0204\n",
            "Epoch 199/300\n",
            "1/1 [==============================] - 0s 28ms/step - loss: 0.0062 - mse: 0.0062 - val_loss: 0.0205 - val_mse: 0.0205\n",
            "Epoch 200/300\n",
            "1/1 [==============================] - 0s 25ms/step - loss: 0.0062 - mse: 0.0062 - val_loss: 0.0205 - val_mse: 0.0205\n",
            "Epoch 201/300\n",
            "1/1 [==============================] - 0s 28ms/step - loss: 0.0062 - mse: 0.0062 - val_loss: 0.0205 - val_mse: 0.0205\n",
            "Epoch 202/300\n",
            "1/1 [==============================] - 0s 26ms/step - loss: 0.0062 - mse: 0.0062 - val_loss: 0.0205 - val_mse: 0.0205\n",
            "Epoch 203/300\n",
            "1/1 [==============================] - 0s 34ms/step - loss: 0.0062 - mse: 0.0062 - val_loss: 0.0205 - val_mse: 0.0205\n",
            "Epoch 204/300\n",
            "1/1 [==============================] - 0s 30ms/step - loss: 0.0062 - mse: 0.0062 - val_loss: 0.0206 - val_mse: 0.0206\n",
            "Epoch 205/300\n",
            "1/1 [==============================] - 0s 26ms/step - loss: 0.0061 - mse: 0.0061 - val_loss: 0.0206 - val_mse: 0.0206\n",
            "Epoch 206/300\n",
            "1/1 [==============================] - 0s 35ms/step - loss: 0.0061 - mse: 0.0061 - val_loss: 0.0206 - val_mse: 0.0206\n",
            "Epoch 207/300\n",
            "1/1 [==============================] - 0s 28ms/step - loss: 0.0061 - mse: 0.0061 - val_loss: 0.0206 - val_mse: 0.0206\n",
            "Epoch 208/300\n",
            "1/1 [==============================] - 0s 49ms/step - loss: 0.0061 - mse: 0.0061 - val_loss: 0.0206 - val_mse: 0.0206\n",
            "Epoch 209/300\n",
            "1/1 [==============================] - 0s 38ms/step - loss: 0.0061 - mse: 0.0061 - val_loss: 0.0207 - val_mse: 0.0207\n",
            "Epoch 210/300\n",
            "1/1 [==============================] - 0s 26ms/step - loss: 0.0061 - mse: 0.0061 - val_loss: 0.0207 - val_mse: 0.0207\n",
            "Epoch 211/300\n",
            "1/1 [==============================] - 0s 26ms/step - loss: 0.0061 - mse: 0.0061 - val_loss: 0.0207 - val_mse: 0.0207\n",
            "Epoch 212/300\n",
            "1/1 [==============================] - 0s 31ms/step - loss: 0.0061 - mse: 0.0061 - val_loss: 0.0207 - val_mse: 0.0207\n",
            "Epoch 213/300\n",
            "1/1 [==============================] - 0s 28ms/step - loss: 0.0061 - mse: 0.0061 - val_loss: 0.0207 - val_mse: 0.0207\n",
            "Epoch 214/300\n",
            "1/1 [==============================] - 0s 42ms/step - loss: 0.0061 - mse: 0.0061 - val_loss: 0.0207 - val_mse: 0.0207\n",
            "Epoch 215/300\n",
            "1/1 [==============================] - 0s 29ms/step - loss: 0.0060 - mse: 0.0060 - val_loss: 0.0208 - val_mse: 0.0208\n",
            "Epoch 216/300\n",
            "1/1 [==============================] - 0s 27ms/step - loss: 0.0060 - mse: 0.0060 - val_loss: 0.0208 - val_mse: 0.0208\n",
            "Epoch 217/300\n",
            "1/1 [==============================] - 0s 27ms/step - loss: 0.0060 - mse: 0.0060 - val_loss: 0.0208 - val_mse: 0.0208\n",
            "Epoch 218/300\n",
            "1/1 [==============================] - 0s 31ms/step - loss: 0.0060 - mse: 0.0060 - val_loss: 0.0208 - val_mse: 0.0208\n",
            "Epoch 219/300\n",
            "1/1 [==============================] - 0s 25ms/step - loss: 0.0060 - mse: 0.0060 - val_loss: 0.0208 - val_mse: 0.0208\n",
            "Epoch 220/300\n",
            "1/1 [==============================] - 0s 28ms/step - loss: 0.0060 - mse: 0.0060 - val_loss: 0.0208 - val_mse: 0.0208\n",
            "Epoch 221/300\n",
            "1/1 [==============================] - 0s 28ms/step - loss: 0.0060 - mse: 0.0060 - val_loss: 0.0208 - val_mse: 0.0208\n",
            "Epoch 222/300\n",
            "1/1 [==============================] - 0s 26ms/step - loss: 0.0060 - mse: 0.0060 - val_loss: 0.0209 - val_mse: 0.0209\n",
            "Epoch 223/300\n",
            "1/1 [==============================] - 0s 32ms/step - loss: 0.0060 - mse: 0.0060 - val_loss: 0.0209 - val_mse: 0.0209\n",
            "Epoch 224/300\n",
            "1/1 [==============================] - 0s 29ms/step - loss: 0.0059 - mse: 0.0059 - val_loss: 0.0209 - val_mse: 0.0209\n",
            "Epoch 225/300\n",
            "1/1 [==============================] - 0s 26ms/step - loss: 0.0059 - mse: 0.0059 - val_loss: 0.0209 - val_mse: 0.0209\n",
            "Epoch 226/300\n",
            "1/1 [==============================] - 0s 33ms/step - loss: 0.0059 - mse: 0.0059 - val_loss: 0.0209 - val_mse: 0.0209\n",
            "Epoch 227/300\n",
            "1/1 [==============================] - 0s 27ms/step - loss: 0.0059 - mse: 0.0059 - val_loss: 0.0209 - val_mse: 0.0209\n",
            "Epoch 228/300\n",
            "1/1 [==============================] - 0s 27ms/step - loss: 0.0059 - mse: 0.0059 - val_loss: 0.0209 - val_mse: 0.0209\n",
            "Epoch 229/300\n",
            "1/1 [==============================] - 0s 26ms/step - loss: 0.0059 - mse: 0.0059 - val_loss: 0.0209 - val_mse: 0.0209\n",
            "Epoch 230/300\n",
            "1/1 [==============================] - 0s 26ms/step - loss: 0.0059 - mse: 0.0059 - val_loss: 0.0210 - val_mse: 0.0210\n",
            "Epoch 231/300\n",
            "1/1 [==============================] - 0s 26ms/step - loss: 0.0059 - mse: 0.0059 - val_loss: 0.0210 - val_mse: 0.0210\n",
            "Epoch 232/300\n",
            "1/1 [==============================] - 0s 30ms/step - loss: 0.0059 - mse: 0.0059 - val_loss: 0.0210 - val_mse: 0.0210\n",
            "Epoch 233/300\n",
            "1/1 [==============================] - 0s 29ms/step - loss: 0.0059 - mse: 0.0059 - val_loss: 0.0210 - val_mse: 0.0210\n",
            "Epoch 234/300\n",
            "1/1 [==============================] - 0s 26ms/step - loss: 0.0058 - mse: 0.0058 - val_loss: 0.0210 - val_mse: 0.0210\n",
            "Epoch 235/300\n",
            "1/1 [==============================] - 0s 27ms/step - loss: 0.0058 - mse: 0.0058 - val_loss: 0.0210 - val_mse: 0.0210\n",
            "Epoch 236/300\n",
            "1/1 [==============================] - 0s 29ms/step - loss: 0.0058 - mse: 0.0058 - val_loss: 0.0210 - val_mse: 0.0210\n",
            "Epoch 237/300\n",
            "1/1 [==============================] - 0s 30ms/step - loss: 0.0058 - mse: 0.0058 - val_loss: 0.0210 - val_mse: 0.0210\n",
            "Epoch 238/300\n",
            "1/1 [==============================] - 0s 27ms/step - loss: 0.0058 - mse: 0.0058 - val_loss: 0.0210 - val_mse: 0.0210\n",
            "Epoch 239/300\n",
            "1/1 [==============================] - 0s 24ms/step - loss: 0.0058 - mse: 0.0058 - val_loss: 0.0210 - val_mse: 0.0210\n",
            "Epoch 240/300\n",
            "1/1 [==============================] - 0s 26ms/step - loss: 0.0058 - mse: 0.0058 - val_loss: 0.0210 - val_mse: 0.0210\n",
            "Epoch 241/300\n",
            "1/1 [==============================] - 0s 28ms/step - loss: 0.0058 - mse: 0.0058 - val_loss: 0.0210 - val_mse: 0.0210\n",
            "Epoch 242/300\n",
            "1/1 [==============================] - 0s 31ms/step - loss: 0.0058 - mse: 0.0058 - val_loss: 0.0210 - val_mse: 0.0210\n",
            "Epoch 243/300\n",
            "1/1 [==============================] - 0s 26ms/step - loss: 0.0058 - mse: 0.0058 - val_loss: 0.0210 - val_mse: 0.0210\n",
            "Epoch 244/300\n",
            "1/1 [==============================] - 0s 34ms/step - loss: 0.0057 - mse: 0.0057 - val_loss: 0.0210 - val_mse: 0.0210\n",
            "Epoch 245/300\n",
            "1/1 [==============================] - 0s 34ms/step - loss: 0.0057 - mse: 0.0057 - val_loss: 0.0210 - val_mse: 0.0210\n",
            "Epoch 246/300\n",
            "1/1 [==============================] - 0s 26ms/step - loss: 0.0057 - mse: 0.0057 - val_loss: 0.0210 - val_mse: 0.0210\n",
            "Epoch 247/300\n",
            "1/1 [==============================] - 0s 28ms/step - loss: 0.0057 - mse: 0.0057 - val_loss: 0.0210 - val_mse: 0.0210\n",
            "Epoch 248/300\n",
            "1/1 [==============================] - 0s 27ms/step - loss: 0.0057 - mse: 0.0057 - val_loss: 0.0211 - val_mse: 0.0211\n",
            "Epoch 249/300\n",
            "1/1 [==============================] - 0s 28ms/step - loss: 0.0057 - mse: 0.0057 - val_loss: 0.0211 - val_mse: 0.0211\n",
            "Epoch 250/300\n",
            "1/1 [==============================] - 0s 28ms/step - loss: 0.0057 - mse: 0.0057 - val_loss: 0.0211 - val_mse: 0.0211\n",
            "Epoch 251/300\n",
            "1/1 [==============================] - 0s 29ms/step - loss: 0.0057 - mse: 0.0057 - val_loss: 0.0211 - val_mse: 0.0211\n",
            "Epoch 252/300\n",
            "1/1 [==============================] - 0s 24ms/step - loss: 0.0057 - mse: 0.0057 - val_loss: 0.0211 - val_mse: 0.0211\n",
            "Epoch 253/300\n",
            "1/1 [==============================] - 0s 26ms/step - loss: 0.0057 - mse: 0.0057 - val_loss: 0.0211 - val_mse: 0.0211\n",
            "Epoch 254/300\n",
            "1/1 [==============================] - 0s 25ms/step - loss: 0.0057 - mse: 0.0057 - val_loss: 0.0211 - val_mse: 0.0211\n",
            "Epoch 255/300\n",
            "1/1 [==============================] - 0s 27ms/step - loss: 0.0056 - mse: 0.0056 - val_loss: 0.0211 - val_mse: 0.0211\n",
            "Epoch 256/300\n",
            "1/1 [==============================] - 0s 26ms/step - loss: 0.0056 - mse: 0.0056 - val_loss: 0.0211 - val_mse: 0.0211\n",
            "Epoch 257/300\n",
            "1/1 [==============================] - 0s 27ms/step - loss: 0.0056 - mse: 0.0056 - val_loss: 0.0211 - val_mse: 0.0211\n",
            "Epoch 258/300\n",
            "1/1 [==============================] - 0s 25ms/step - loss: 0.0056 - mse: 0.0056 - val_loss: 0.0211 - val_mse: 0.0211\n",
            "Epoch 259/300\n",
            "1/1 [==============================] - 0s 28ms/step - loss: 0.0056 - mse: 0.0056 - val_loss: 0.0211 - val_mse: 0.0211\n",
            "Epoch 260/300\n",
            "1/1 [==============================] - 0s 28ms/step - loss: 0.0056 - mse: 0.0056 - val_loss: 0.0211 - val_mse: 0.0211\n",
            "Epoch 261/300\n",
            "1/1 [==============================] - 0s 28ms/step - loss: 0.0056 - mse: 0.0056 - val_loss: 0.0211 - val_mse: 0.0211\n",
            "Epoch 262/300\n",
            "1/1 [==============================] - 0s 27ms/step - loss: 0.0056 - mse: 0.0056 - val_loss: 0.0210 - val_mse: 0.0210\n",
            "Epoch 263/300\n",
            "1/1 [==============================] - 0s 29ms/step - loss: 0.0056 - mse: 0.0056 - val_loss: 0.0210 - val_mse: 0.0210\n",
            "Epoch 264/300\n",
            "1/1 [==============================] - 0s 29ms/step - loss: 0.0056 - mse: 0.0056 - val_loss: 0.0210 - val_mse: 0.0210\n",
            "Epoch 265/300\n",
            "1/1 [==============================] - 0s 25ms/step - loss: 0.0055 - mse: 0.0055 - val_loss: 0.0210 - val_mse: 0.0210\n",
            "Epoch 266/300\n",
            "1/1 [==============================] - 0s 25ms/step - loss: 0.0055 - mse: 0.0055 - val_loss: 0.0210 - val_mse: 0.0210\n",
            "Epoch 267/300\n",
            "1/1 [==============================] - 0s 32ms/step - loss: 0.0055 - mse: 0.0055 - val_loss: 0.0210 - val_mse: 0.0210\n",
            "Epoch 268/300\n",
            "1/1 [==============================] - 0s 30ms/step - loss: 0.0055 - mse: 0.0055 - val_loss: 0.0210 - val_mse: 0.0210\n",
            "Epoch 269/300\n",
            "1/1 [==============================] - 0s 28ms/step - loss: 0.0055 - mse: 0.0055 - val_loss: 0.0210 - val_mse: 0.0210\n",
            "Epoch 270/300\n",
            "1/1 [==============================] - 0s 27ms/step - loss: 0.0055 - mse: 0.0055 - val_loss: 0.0210 - val_mse: 0.0210\n",
            "Epoch 271/300\n",
            "1/1 [==============================] - 0s 29ms/step - loss: 0.0055 - mse: 0.0055 - val_loss: 0.0210 - val_mse: 0.0210\n",
            "Epoch 272/300\n",
            "1/1 [==============================] - 0s 26ms/step - loss: 0.0055 - mse: 0.0055 - val_loss: 0.0210 - val_mse: 0.0210\n",
            "Epoch 273/300\n",
            "1/1 [==============================] - 0s 28ms/step - loss: 0.0055 - mse: 0.0055 - val_loss: 0.0210 - val_mse: 0.0210\n",
            "Epoch 274/300\n",
            "1/1 [==============================] - 0s 30ms/step - loss: 0.0055 - mse: 0.0055 - val_loss: 0.0210 - val_mse: 0.0210\n",
            "Epoch 275/300\n",
            "1/1 [==============================] - 0s 33ms/step - loss: 0.0055 - mse: 0.0055 - val_loss: 0.0210 - val_mse: 0.0210\n",
            "Epoch 276/300\n",
            "1/1 [==============================] - 0s 32ms/step - loss: 0.0054 - mse: 0.0054 - val_loss: 0.0210 - val_mse: 0.0210\n",
            "Epoch 277/300\n",
            "1/1 [==============================] - 0s 29ms/step - loss: 0.0054 - mse: 0.0054 - val_loss: 0.0210 - val_mse: 0.0210\n",
            "Epoch 278/300\n",
            "1/1 [==============================] - 0s 28ms/step - loss: 0.0054 - mse: 0.0054 - val_loss: 0.0210 - val_mse: 0.0210\n",
            "Epoch 279/300\n",
            "1/1 [==============================] - 0s 30ms/step - loss: 0.0054 - mse: 0.0054 - val_loss: 0.0210 - val_mse: 0.0210\n",
            "Epoch 280/300\n",
            "1/1 [==============================] - 0s 29ms/step - loss: 0.0054 - mse: 0.0054 - val_loss: 0.0210 - val_mse: 0.0210\n",
            "Epoch 281/300\n",
            "1/1 [==============================] - 0s 27ms/step - loss: 0.0054 - mse: 0.0054 - val_loss: 0.0210 - val_mse: 0.0210\n",
            "Epoch 282/300\n",
            "1/1 [==============================] - 0s 26ms/step - loss: 0.0054 - mse: 0.0054 - val_loss: 0.0209 - val_mse: 0.0209\n",
            "Epoch 283/300\n",
            "1/1 [==============================] - 0s 27ms/step - loss: 0.0054 - mse: 0.0054 - val_loss: 0.0209 - val_mse: 0.0209\n",
            "Epoch 284/300\n",
            "1/1 [==============================] - 0s 28ms/step - loss: 0.0054 - mse: 0.0054 - val_loss: 0.0209 - val_mse: 0.0209\n",
            "Epoch 285/300\n",
            "1/1 [==============================] - 0s 29ms/step - loss: 0.0054 - mse: 0.0054 - val_loss: 0.0209 - val_mse: 0.0209\n",
            "Epoch 286/300\n",
            "1/1 [==============================] - 0s 27ms/step - loss: 0.0054 - mse: 0.0054 - val_loss: 0.0209 - val_mse: 0.0209\n",
            "Epoch 287/300\n",
            "1/1 [==============================] - 0s 31ms/step - loss: 0.0053 - mse: 0.0053 - val_loss: 0.0209 - val_mse: 0.0209\n",
            "Epoch 288/300\n",
            "1/1 [==============================] - 0s 30ms/step - loss: 0.0053 - mse: 0.0053 - val_loss: 0.0209 - val_mse: 0.0209\n",
            "Epoch 289/300\n",
            "1/1 [==============================] - 0s 28ms/step - loss: 0.0053 - mse: 0.0053 - val_loss: 0.0209 - val_mse: 0.0209\n",
            "Epoch 290/300\n",
            "1/1 [==============================] - 0s 31ms/step - loss: 0.0053 - mse: 0.0053 - val_loss: 0.0209 - val_mse: 0.0209\n",
            "Epoch 291/300\n",
            "1/1 [==============================] - 0s 29ms/step - loss: 0.0053 - mse: 0.0053 - val_loss: 0.0209 - val_mse: 0.0209\n",
            "Epoch 292/300\n",
            "1/1 [==============================] - 0s 30ms/step - loss: 0.0053 - mse: 0.0053 - val_loss: 0.0209 - val_mse: 0.0209\n",
            "Epoch 293/300\n",
            "1/1 [==============================] - 0s 32ms/step - loss: 0.0053 - mse: 0.0053 - val_loss: 0.0209 - val_mse: 0.0209\n",
            "Epoch 294/300\n",
            "1/1 [==============================] - 0s 35ms/step - loss: 0.0053 - mse: 0.0053 - val_loss: 0.0208 - val_mse: 0.0208\n",
            "Epoch 295/300\n",
            "1/1 [==============================] - 0s 30ms/step - loss: 0.0053 - mse: 0.0053 - val_loss: 0.0208 - val_mse: 0.0208\n",
            "Epoch 296/300\n",
            "1/1 [==============================] - 0s 25ms/step - loss: 0.0053 - mse: 0.0053 - val_loss: 0.0208 - val_mse: 0.0208\n",
            "Epoch 297/300\n",
            "1/1 [==============================] - 0s 30ms/step - loss: 0.0053 - mse: 0.0053 - val_loss: 0.0208 - val_mse: 0.0208\n",
            "Epoch 298/300\n",
            "1/1 [==============================] - 0s 31ms/step - loss: 0.0053 - mse: 0.0053 - val_loss: 0.0208 - val_mse: 0.0208\n",
            "Epoch 299/300\n",
            "1/1 [==============================] - 0s 28ms/step - loss: 0.0052 - mse: 0.0052 - val_loss: 0.0208 - val_mse: 0.0208\n",
            "Epoch 300/300\n",
            "1/1 [==============================] - 0s 30ms/step - loss: 0.0052 - mse: 0.0052 - val_loss: 0.0208 - val_mse: 0.0208\n",
            "1/1 [==============================] - 0s 27ms/step - loss: 0.0188 - mse: 0.0188\n"
          ]
        },
        {
          "output_type": "execute_result",
          "data": {
            "text/plain": [
              "[0.01877513714134693, 0.01877513714134693]"
            ]
          },
          "metadata": {},
          "execution_count": 18
        }
      ]
    },
    {
      "cell_type": "code",
      "source": [
        "print(history.history.keys())\n",
        "# \"Loss\"\n",
        "plt.plot(history.history['loss'])\n",
        "plt.plot(history.history['val_loss'])\n",
        "plt.title('model loss')\n",
        "plt.ylabel('loss')\n",
        "plt.xlabel('epoch')\n",
        "plt.legend(['train', 'validation'], loc='upper left')\n",
        "plt.show()"
      ],
      "metadata": {
        "colab": {
          "base_uri": "https://localhost:8080/",
          "height": 400
        },
        "id": "tvMUIg5SHsEF",
        "outputId": "c448f6cf-1dad-48ad-94b7-a686b147a264"
      },
      "execution_count": null,
      "outputs": [
        {
          "output_type": "stream",
          "name": "stdout",
          "text": [
            "dict_keys(['loss', 'mse', 'val_loss', 'val_mse'])\n"
          ]
        },
        {
          "output_type": "display_data",
          "data": {
            "text/plain": [
              "<Figure size 720x360 with 1 Axes>"
            ],
            "image/png": "[encoded data removed]"
          },
          "metadata": {}
        }
      ]
    },
    {
      "cell_type": "code",
      "source": [
        "mse_cnn = cnn_model.evaluate(X_test, y_test)"
      ],
      "metadata": {
        "colab": {
          "base_uri": "https://localhost:8080/"
        },
        "id": "ImssP1C-YLO6",
        "outputId": "5b9031e2-a8b1-4e47-ccdf-9adeba1414c2"
      },
      "execution_count": null,
      "outputs": [
        {
          "output_type": "stream",
          "name": "stdout",
          "text": [
            "1/1 [==============================] - 0s 17ms/step - loss: 0.0188 - mse: 0.0188\n"
          ]
        }
      ]
    },
    {
      "cell_type": "markdown",
      "source": [
        "####Baseline MSE = 0.0188"
      ],
      "metadata": {
        "id": "kaLutRuWgU4K"
      }
    },
    {
      "cell_type": "code",
      "source": [
        "cnn_model.summary()"
      ],
      "metadata": {
        "colab": {
          "base_uri": "https://localhost:8080/"
        },
        "id": "A8XbxYQeiCoj",
        "outputId": "7cd9b3f6-6c34-4d36-8637-07832700793c"
      },
      "execution_count": null,
      "outputs": [
        {
          "output_type": "stream",
          "name": "stdout",
          "text": [
            "Model: \"sequential\"\n",
            "_________________________________________________________________\n",
            " Layer (type)                Output Shape              Param #   \n",
            "=================================================================\n",
            " conv1d (Conv1D)             (None, 2, 64)             960       \n",
            "                                                                 \n",
            " max_pooling1d (MaxPooling1D  (None, 1, 64)            0         \n",
            " )                                                               \n",
            "                                                                 \n",
            " flatten (Flatten)           (None, 64)                0         \n",
            "                                                                 \n",
            " dense (Dense)               (None, 64)                4160      \n",
            "                                                                 \n",
            " dense_1 (Dense)             (None, 1)                 65        \n",
            "                                                                 \n",
            "=================================================================\n",
            "Total params: 5,185\n",
            "Trainable params: 5,185\n",
            "Non-trainable params: 0\n",
            "_________________________________________________________________\n"
          ]
        }
      ]
    },
    {
      "cell_type": "markdown",
      "source": [
        "###Predict the Test without Hyperparameter Tuning"
      ],
      "metadata": {
        "id": "bNFFP1sSleo-"
      }
    },
    {
      "cell_type": "code",
      "source": [
        "y_pred = cnn_model.predict(X_test)\n",
        "y_pred"
      ],
      "metadata": {
        "colab": {
          "base_uri": "https://localhost:8080/"
        },
        "id": "wujQ6JNuiCyl",
        "outputId": "b83a2a14-7ec4-405d-b574-ae78b2e2b9bc"
      },
      "execution_count": null,
      "outputs": [
        {
          "output_type": "stream",
          "name": "stdout",
          "text": [
            "1/1 [==============================] - 0s 71ms/step\n"
          ]
        },
        {
          "output_type": "execute_result",
          "data": {
            "text/plain": [
              "array([[ 0.10916633],\n",
              "       [ 0.09319466],\n",
              "       [ 0.16884193],\n",
              "       [ 0.14781721],\n",
              "       [ 0.07189617],\n",
              "       [ 0.0715051 ],\n",
              "       [ 0.07168792],\n",
              "       [ 0.06214266],\n",
              "       [-0.00213122],\n",
              "       [-0.03077139],\n",
              "       [-0.03607107],\n",
              "       [ 0.00858695],\n",
              "       [-0.02474815],\n",
              "       [-0.02574399],\n",
              "       [-0.01997097],\n",
              "       [-0.04379559],\n",
              "       [-0.06112794],\n",
              "       [ 0.05929438],\n",
              "       [ 0.1391767 ],\n",
              "       [ 0.11374087],\n",
              "       [ 0.04029384],\n",
              "       [ 0.05299789]], dtype=float32)"
            ]
          },
          "metadata": {},
          "execution_count": 22
        }
      ]
    },
    {
      "cell_type": "code",
      "source": [
        "y_pred.reshape(1,-1)"
      ],
      "metadata": {
        "colab": {
          "base_uri": "https://localhost:8080/"
        },
        "id": "GI8XYmymlslh",
        "outputId": "a678e863-c2ef-42c4-e982-6449809c203b"
      },
      "execution_count": null,
      "outputs": [
        {
          "output_type": "execute_result",
          "data": {
            "text/plain": [
              "array([[ 0.10916633,  0.09319466,  0.16884193,  0.14781721,  0.07189617,\n",
              "         0.0715051 ,  0.07168792,  0.06214266, -0.00213122, -0.03077139,\n",
              "        -0.03607107,  0.00858695, -0.02474815, -0.02574399, -0.01997097,\n",
              "        -0.04379559, -0.06112794,  0.05929438,  0.1391767 ,  0.11374087,\n",
              "         0.04029384,  0.05299789]], dtype=float32)"
            ]
          },
          "metadata": {},
          "execution_count": 23
        }
      ]
    },
    {
      "cell_type": "markdown",
      "source": [
        "###Invert Transformed Data"
      ],
      "metadata": {
        "id": "jrtmvrZ_l2__"
      }
    },
    {
      "cell_type": "code",
      "source": [
        "y_train_inv = cpo_pri_transformer.inverse_transform(y_train.reshape(1, -1))\n",
        "y_test_inv = cpo_pri_transformer.inverse_transform(y_test.reshape(1, -1))\n",
        "y_pred_inv = cpo_pri_transformer.inverse_transform(y_pred.reshape(1,-1))\n",
        "print(y_train_inv)\n",
        "print(y_test_inv)\n",
        "print(y_pred_inv)"
      ],
      "metadata": {
        "colab": {
          "base_uri": "https://localhost:8080/"
        },
        "id": "FVSGGT57lxHw",
        "outputId": "88bc1e94-d646-4c97-8fe1-b7cd629e4f29"
      },
      "execution_count": null,
      "outputs": [
        {
          "output_type": "stream",
          "name": "stdout",
          "text": [
            "[[376. 383. 382. 396. 402. 390. 404. 382. 382. 391. 396. 413. 401. 410.\n",
            "  425. 408. 392. 371. 356. 362. 356. 352. 333. 357. 411. 404. 387. 395.\n",
            "  434. 488. 508. 494. 575. 614. 616. 707. 719. 655. 661. 687. 625. 611.\n",
            "  631. 655. 616. 586. 615. 607. 590. 535. 518. 519. 562. 552. 508. 476.\n",
            "  513. 545. 532. 550. 561. 567. 580. 559. 562. 553. 533. 498. 504. 525.\n",
            "  547. 556. 566. 621. 659. 671. 688. 705. 633. 661. 674. 703. 694. 681.\n",
            "  663. 632. 561. 497. 509. 475. 392. 319. 354. 388. 381. 370.]]\n",
            "[[349. 372. 324. 315. 312. 306. 288. 255. 257. 265. 254. 240. 254. 251.\n",
            "  234. 255. 330. 362. 310. 277. 323. 360.]]\n",
            "[[362.66653 356.27786 386.53677 378.1269  347.75845 347.60202 347.67517\n",
            "  343.8571  318.14752 306.69147 304.5716  322.43478 309.10074 308.7024\n",
            "  311.0116  301.48178 294.54883 342.71774 374.6707  364.49634 335.11752\n",
            "  340.19916]]\n"
          ]
        }
      ]
    },
    {
      "cell_type": "markdown",
      "source": [
        "###Plot History, Actual and Predicted Value"
      ],
      "metadata": {
        "id": "PxYTgRmhmDtL"
      }
    },
    {
      "cell_type": "code",
      "source": [
        "y_train_inv = y_train_inv.flatten()\n",
        "y_train_inv"
      ],
      "metadata": {
        "colab": {
          "base_uri": "https://localhost:8080/"
        },
        "id": "YXY0nwhElxLo",
        "outputId": "69502204-2904-4ea2-8161-dd4f914ae949"
      },
      "execution_count": null,
      "outputs": [
        {
          "output_type": "execute_result",
          "data": {
            "text/plain": [
              "array([376., 383., 382., 396., 402., 390., 404., 382., 382., 391., 396.,\n",
              "       413., 401., 410., 425., 408., 392., 371., 356., 362., 356., 352.,\n",
              "       333., 357., 411., 404., 387., 395., 434., 488., 508., 494., 575.,\n",
              "       614., 616., 707., 719., 655., 661., 687., 625., 611., 631., 655.,\n",
              "       616., 586., 615., 607., 590., 535., 518., 519., 562., 552., 508.,\n",
              "       476., 513., 545., 532., 550., 561., 567., 580., 559., 562., 553.,\n",
              "       533., 498., 504., 525., 547., 556., 566., 621., 659., 671., 688.,\n",
              "       705., 633., 661., 674., 703., 694., 681., 663., 632., 561., 497.,\n",
              "       509., 475., 392., 319., 354., 388., 381., 370.])"
            ]
          },
          "metadata": {},
          "execution_count": 25
        }
      ]
    },
    {
      "cell_type": "code",
      "source": [
        "y_test_inv = y_test_inv.flatten()\n",
        "y_test_inv"
      ],
      "metadata": {
        "colab": {
          "base_uri": "https://localhost:8080/"
        },
        "id": "z_zQn_rpl_MC",
        "outputId": "43cc4bc5-5f4b-4bba-afdc-7e4f18db9a52"
      },
      "execution_count": null,
      "outputs": [
        {
          "output_type": "execute_result",
          "data": {
            "text/plain": [
              "array([349., 372., 324., 315., 312., 306., 288., 255., 257., 265., 254.,\n",
              "       240., 254., 251., 234., 255., 330., 362., 310., 277., 323., 360.])"
            ]
          },
          "metadata": {},
          "execution_count": 26
        }
      ]
    },
    {
      "cell_type": "code",
      "source": [
        "y_pred_inv = y_pred_inv.flatten()\n",
        "y_pred_inv"
      ],
      "metadata": {
        "colab": {
          "base_uri": "https://localhost:8080/"
        },
        "id": "X4GInUagmJUO",
        "outputId": "249e06ab-a403-4ed3-b5c8-385d37bad3b1"
      },
      "execution_count": null,
      "outputs": [
        {
          "output_type": "execute_result",
          "data": {
            "text/plain": [
              "array([362.66653, 356.27786, 386.53677, 378.1269 , 347.75845, 347.60202,\n",
              "       347.67517, 343.8571 , 318.14752, 306.69147, 304.5716 , 322.43478,\n",
              "       309.10074, 308.7024 , 311.0116 , 301.48178, 294.54883, 342.71774,\n",
              "       374.6707 , 364.49634, 335.11752, 340.19916], dtype=float32)"
            ]
          },
          "metadata": {},
          "execution_count": 27
        }
      ]
    },
    {
      "cell_type": "code",
      "source": [
        "plt.figure(figsize=(17,9))\n",
        "#plt.grid()\n",
        "#plt.plot(np.arange(0, len(y_train)), y_train_inv, color='green', label=\"History\")\n",
        "plt.plot(np.arange(len(y_train), len(y_train) + len(y_test)), y_test_inv, color='blue', marker='.', label=\"Actual\")\n",
        "plt.plot(np.arange(len(y_train), len(y_train) + len(y_test)), y_pred_inv, color='red', label=\"CNN Prediction\")\n",
        "plt.ylabel('Crude Palm Oil Price')\n",
        "plt.xlabel('Time')\n",
        "plt.legend()\n",
        "ax.grid()\n",
        "#plt.grid()\n",
        "#plt.show();"
      ],
      "metadata": {
        "colab": {
          "base_uri": "https://localhost:8080/",
          "height": 596
        },
        "id": "vHGNO1xAmJYI",
        "outputId": "ca807574-e657-4e0f-be68-291add29bdb2"
      },
      "execution_count": null,
      "outputs": [
        {
          "output_type": "display_data",
          "data": {
            "text/plain": [
              "<Figure size 1224x648 with 1 Axes>"
            ],
            "image/png": "[encoded data removed]"
          },
          "metadata": {}
        }
      ]
    },
    {
      "cell_type": "markdown",
      "source": [
        "###Evaluate CNN Model Accuracy"
      ],
      "metadata": {
        "id": "1NImON2RmyWF"
      }
    },
    {
      "cell_type": "code",
      "source": [
        "MAE_cnn = mean_absolute_error(y_test_inv, y_pred_inv)\n",
        "print('MAE value of the CNN Model is:', MAE_cnn)\n",
        "\n",
        "MDA_cnn = mda(y_test_inv, y_pred_inv)\n",
        "print('MDA value of the CNN Model is:', MDA_cnn)\n",
        "\n",
        "MAPE_cnn = mean_absolute_percentage_error(y_test_inv, y_pred_inv)\n",
        "print('MAPE value of the CNN Model is:', MAPE_cnn)\n",
        "\n",
        "RMSE_cnn = mean_squared_error(y_test_inv,y_pred_inv, squared=False)\n",
        "print('RMSE value of the CNN Model is:', RMSE_cnn)\n",
        "\n",
        "MSE_cnn = mean_squared_error(y_test_inv,y_pred_inv)\n",
        "print('MSE value of the CNN Model is:', MSE_cnn)\n",
        "\n",
        "#EVS_cnn = explained_variance_score(y_test_inv, y_pred_inv)\n",
        "#print('EVS score of the CNN Model is:', EVS_cnn)"
      ],
      "metadata": {
        "colab": {
          "base_uri": "https://localhost:8080/"
        },
        "id": "fIc5ITw4m2QJ",
        "outputId": "583313fa-f27e-430b-e5eb-3d4f8943a620"
      },
      "execution_count": null,
      "outputs": [
        {
          "output_type": "stream",
          "name": "stdout",
          "text": [
            "MAE value of the CNN Model is: 49.632080078125\n",
            "MDA value of the CNN Model is: 0.42857142857142855\n",
            "MAPE value of the CNN Model is: 17.976428056032095\n",
            "RMSE value of the CNN Model is: 54.80896479676369\n",
            "MSE value of the CNN Model is: 3004.022622092881\n"
          ]
        }
      ]
    },
    {
      "cell_type": "markdown",
      "source": [
        "###Tuning CNN with Keras Tuner"
      ],
      "metadata": {
        "id": "fs98oM36Yw_r"
      }
    },
    {
      "cell_type": "code",
      "source": [
        "class ANNhypermodel(HyperModel):\n",
        "#class CNNHyperModel(HyperModel):\n",
        "    \n",
        "    def __init__(self, input_shape):\n",
        "        self.input_shape= input_shape\n",
        "        \n",
        "    def build(self, hp):\n",
        "        model= keras.Sequential()\n",
        "        \n",
        "        # Tune the number of units in the first Dense layer\n",
        "        # Defining dense units as a close approx to the original neural network to perform a fair comparision!\n",
        "        \n",
        "        \n",
        "        hp_units_1= hp.Int('units_1', min_value=128, max_value= 160, step=32)\n",
        "        hp_units_2= hp.Int('units_2', min_value=64, max_value= 128, step=32)\n",
        "        hp_units_3= hp.Int('units_3', min_value=32, max_value= 64, step=16)\n",
        "\n",
        "        model.add(keras.layers.Dense(units=hp_units_1, activation='tanh', input_shape= self.input_shape))\n",
        "        model.add(keras.layers.Dense(units=hp_units_2, activation='tanh'))\n",
        "        model.add(keras.layers.Dense(units=hp_units_3, activation='tanh'))\n",
        "        model.add(keras.layers.Dense(1))\n",
        "\n",
        "        #Tune the dropout\n",
        "        model.add(\n",
        "            Dropout(\n",
        "                rate=hp.Float(\n",
        "                    'dropout',\n",
        "                    min_value=0.0,\n",
        "                    max_value=0.5,\n",
        "                    default=0.25,\n",
        "                    step=0.05\n",
        "                )\n",
        "            )\n",
        "        )\n",
        "\n",
        "        # Tune the learning rate for the optimizer \n",
        "        hp_learning_rate=hp.Float('learning_rate', min_value=1e-4, max_value=1e-2, sampling='LOG', default= 0.0005)\n",
        "       # -------------------------------------------------------\n",
        "        #model.add(\n",
        "            #layers.Dense(\n",
        "                #hp.Float(\n",
        "                    #'batch_size',\n",
        "                    #'type\": \"range', ###########\n",
        "                     #min_value= 10, \n",
        "                     #max_value=60,\n",
        "                     #default=1,\n",
        "                     #step=20)\n",
        "                    #'value_type': \"int\" ###########\n",
        "            #)\n",
        "        #)\n",
        "       #---------------------------------------------------------\n",
        "        model.compile(loss='mse',\n",
        "                    optimizer= keras.optimizers.Adam(learning_rate=hp_learning_rate),\n",
        "                    metrics= ['mae','mse']\n",
        "                     )\n",
        "\n",
        "        return model\n",
        "\n",
        "hypermodel= ANNhypermodel(input_shape = (X_test.shape[1], X_test.shape[2]))\n",
        "#hypermodel = CNNHyperModel(input_shape = (X_test.shape[1], X_test.shape[2]))"
      ],
      "metadata": {
        "id": "6sH3KVfoj7jq"
      },
      "execution_count": null,
      "outputs": []
    },
    {
      "cell_type": "markdown",
      "source": [
        "###Build Random Search Tuner"
      ],
      "metadata": {
        "id": "Vw6sRopRkNq-"
      }
    },
    {
      "cell_type": "code",
      "source": [
        "tuner_rs = RandomSearch(\n",
        "            hypermodel,\n",
        "            objective='mse',\n",
        "            seed=42,\n",
        "            max_trials=10,\n",
        "            executions_per_trial=2, overwrite=True\n",
        "        )"
      ],
      "metadata": {
        "id": "oPWNkr_dj7ng"
      },
      "execution_count": null,
      "outputs": []
    },
    {
      "cell_type": "markdown",
      "source": [
        "###Run Random Search"
      ],
      "metadata": {
        "id": "UH8vIpuOkl0V"
      }
    },
    {
      "cell_type": "code",
      "source": [
        "tuner_rs.search(X_train, y_train, epochs=10, validation_split=0.2, verbose=0)"
      ],
      "metadata": {
        "id": "XC6nlTF4j7rN"
      },
      "execution_count": null,
      "outputs": []
    },
    {
      "cell_type": "markdown",
      "source": [
        "###Evaluate Random Search"
      ],
      "metadata": {
        "id": "ZWc0whe7l-_0"
      }
    },
    {
      "cell_type": "code",
      "source": [
        "best_model = tuner_rs.get_best_models(num_models=1)[0]\n",
        "mse_rs = best_model.evaluate(X_test, y_test)[1]"
      ],
      "metadata": {
        "colab": {
          "base_uri": "https://localhost:8080/"
        },
        "id": "V0u8mTuTj7wl",
        "outputId": "614abe9c-c28d-41cd-b36a-cc16d3ed91b3"
      },
      "execution_count": null,
      "outputs": [
        {
          "output_type": "stream",
          "name": "stdout",
          "text": [
            "1/1 [==============================] - 0s 343ms/step - loss: 0.1068 - mae: 0.3057 - mse: 0.1068\n"
          ]
        }
      ]
    },
    {
      "cell_type": "markdown",
      "source": [
        "####Random Search MSE = 0.1198"
      ],
      "metadata": {
        "id": "9jgCzQ74mQjM"
      }
    },
    {
      "cell_type": "code",
      "source": [
        "best_params = tuner_rs.get_best_hyperparameters()\n",
        "\n",
        "best_params[0].values"
      ],
      "metadata": {
        "colab": {
          "base_uri": "https://localhost:8080/"
        },
        "id": "jJ5NIqxpj72V",
        "outputId": "bf86028c-ef4e-4bba-cc01-d7eea7aa80f6"
      },
      "execution_count": null,
      "outputs": [
        {
          "output_type": "execute_result",
          "data": {
            "text/plain": [
              "{'units_1': 128,\n",
              " 'units_2': 96,\n",
              " 'units_3': 48,\n",
              " 'dropout': 0.1,\n",
              " 'learning_rate': 0.0038287047044982298}"
            ]
          },
          "metadata": {},
          "execution_count": 86
        }
      ]
    },
    {
      "cell_type": "markdown",
      "source": [
        "###Build Bayesian Optimization"
      ],
      "metadata": {
        "id": "AxWQfBYpnLjI"
      }
    },
    {
      "cell_type": "code",
      "source": [
        "tuner_bo = BayesianOptimization(\n",
        "            hypermodel,\n",
        "            objective='val_mse',\n",
        "            max_trials=10,\n",
        "            seed=42,\n",
        "            executions_per_trial=2,\n",
        "            directory='bo'\n",
        "        )"
      ],
      "metadata": {
        "id": "uixpiCLPmsaZ"
      },
      "execution_count": null,
      "outputs": []
    },
    {
      "cell_type": "markdown",
      "source": [
        "###Run Bayesian Optimization"
      ],
      "metadata": {
        "id": "_lTWVuDcoYU9"
      }
    },
    {
      "cell_type": "code",
      "source": [
        "tuner_bo.search(X_train, y_train, epochs=10, validation_split=0.2, verbose=0)\n",
        "\n",
        "best_model = tuner_bo.get_best_models(num_models=1)[0]\n",
        "mse_bo = best_model.evaluate(X_test, y_test)[1]"
      ],
      "metadata": {
        "id": "L6qZa1Kvmsgn",
        "outputId": "3a618b26-f47b-4ac3-b6a1-9f0e5c027e74",
        "colab": {
          "base_uri": "https://localhost:8080/"
        }
      },
      "execution_count": null,
      "outputs": [
        {
          "output_type": "stream",
          "name": "stdout",
          "text": [
            "1/1 [==============================] - 0s 300ms/step - loss: 0.2367 - mae: 0.4740 - mse: 0.2367\n"
          ]
        }
      ]
    },
    {
      "cell_type": "markdown",
      "source": [
        "###Bayesian Optimization Search MSE = 0.3479"
      ],
      "metadata": {
        "id": "KiNYUG96ZUIz"
      }
    },
    {
      "cell_type": "markdown",
      "source": [
        "###Evaluate Bayesian Optimization"
      ],
      "metadata": {
        "id": "Ppb8qezeoe7c"
      }
    },
    {
      "cell_type": "code",
      "source": [
        "best_params = tuner_bo.get_best_hyperparameters()\n",
        "\n",
        "best_params[0].values"
      ],
      "metadata": {
        "colab": {
          "base_uri": "https://localhost:8080/"
        },
        "id": "0bDWDTrOmsm1",
        "outputId": "70f3d571-273d-4852-e562-2ab0eee3b888"
      },
      "execution_count": null,
      "outputs": [
        {
          "output_type": "execute_result",
          "data": {
            "text/plain": [
              "{'units_1': 160,\n",
              " 'units_2': 128,\n",
              " 'units_3': 64,\n",
              " 'dropout': 0.0,\n",
              " 'learning_rate': 0.01}"
            ]
          },
          "metadata": {},
          "execution_count": 89
        }
      ]
    },
    {
      "cell_type": "code",
      "source": [
        "best_model = tuner_bo.get_best_models(num_models=1)[0]\n",
        "mse_bo = best_model.evaluate(X_test, y_test)[1]"
      ],
      "metadata": {
        "colab": {
          "base_uri": "https://localhost:8080/"
        },
        "id": "odraTQ8KbUw9",
        "outputId": "fc96ff34-47e5-44c4-fbb6-ba5fce16f66a"
      },
      "execution_count": null,
      "outputs": [
        {
          "output_type": "stream",
          "name": "stderr",
          "text": [
            "WARNING:tensorflow:Detecting that an object or model or tf.train.Checkpoint is being deleted with unrestored values. See the following logs for the specific values in question. To silence these warnings, use `status.expect_partial()`. See https://www.tensorflow.org/api_docs/python/tf/train/Checkpoint#restorefor details about the status object returned by the restore function.\n",
            "WARNING:tensorflow:Value in checkpoint could not be found in the restored object: (root).optimizer.iter\n",
            "WARNING:tensorflow:Value in checkpoint could not be found in the restored object: (root).optimizer.beta_1\n",
            "WARNING:tensorflow:Value in checkpoint could not be found in the restored object: (root).optimizer.beta_2\n",
            "WARNING:tensorflow:Value in checkpoint could not be found in the restored object: (root).optimizer.decay\n",
            "WARNING:tensorflow:Value in checkpoint could not be found in the restored object: (root).optimizer.learning_rate\n"
          ]
        },
        {
          "output_type": "stream",
          "name": "stdout",
          "text": [
            "1/1 [==============================] - 0s 301ms/step - loss: 0.2367 - mae: 0.4740 - mse: 0.2367\n"
          ]
        }
      ]
    },
    {
      "cell_type": "markdown",
      "source": [
        "###Build HYPERBAND optimization"
      ],
      "metadata": {
        "id": "9rYL672xrXtU"
      }
    },
    {
      "cell_type": "code",
      "source": [
        "MAX_TRIALS = 20\n",
        "tuner= RandomSearch(hypermodel,\n",
        "               objective= 'val_mse',\n",
        "               max_trials= MAX_TRIALS,\n",
        "               executions_per_trial= 2,\n",
        "               directory= 'random_search',\n",
        "               project_name='randomsearch',\n",
        "               overwrite=True)"
      ],
      "metadata": {
        "id": "CqxbIHGxmstL"
      },
      "execution_count": null,
      "outputs": []
    },
    {
      "cell_type": "code",
      "source": [
        "HYPERBAND_MAX_EPOCHS = 150\n",
        "EXECUTION_PER_TRIAL = 2\n",
        "\n",
        "tuner= Hyperband(hypermodel,\n",
        "                   objective= 'val_mse',\n",
        "                   max_epochs=HYPERBAND_MAX_EPOCHS, #Set 100+ for good results\n",
        "                   executions_per_trial=EXECUTION_PER_TRIAL,\n",
        "                   directory= 'hyperband',\n",
        "                   project_name='hyper',\n",
        "                   overwrite=True)\n",
        "\n",
        "# tuner.search_space_summary()"
      ],
      "metadata": {
        "id": "eaGs4DAFosPl"
      },
      "execution_count": null,
      "outputs": []
    },
    {
      "cell_type": "code",
      "source": [
        "print('searching for the best params!')\n",
        "\n",
        "t0 = time()\n",
        "tuner.search(x= X_train,\n",
        "             y= y_train,\n",
        "             epochs=100,\n",
        "             batch_size= 64,\n",
        "             validation_data= (X_test, y_test),\n",
        "             verbose=0,\n",
        "             callbacks= []\n",
        "            )\n",
        "print(time()- t0,\" secs\")\n",
        "\n",
        "# Retreive the optimal hyperparameters\n",
        "best_hps= tuner.get_best_hyperparameters(num_trials=1)[0]\n",
        "\n",
        "# Retrieve the best model\n",
        "best_model = tuner.get_best_models(num_models=1)[0]"
      ],
      "metadata": {
        "colab": {
          "base_uri": "https://localhost:8080/"
        },
        "id": "NXf_LR3mosWn",
        "outputId": "d1928ceb-b796-4d8d-9226-766754c66cfd"
      },
      "execution_count": null,
      "outputs": [
        {
          "output_type": "stream",
          "name": "stderr",
          "text": [
            "WARNING:tensorflow:Detecting that an object or model or tf.train.Checkpoint is being deleted with unrestored values. See the following logs for the specific values in question. To silence these warnings, use `status.expect_partial()`. See https://www.tensorflow.org/api_docs/python/tf/train/Checkpoint#restorefor details about the status object returned by the restore function.\n",
            "WARNING:tensorflow:Value in checkpoint could not be found in the restored object: (root).optimizer.iter\n",
            "WARNING:tensorflow:Value in checkpoint could not be found in the restored object: (root).optimizer.beta_1\n",
            "WARNING:tensorflow:Value in checkpoint could not be found in the restored object: (root).optimizer.beta_2\n",
            "WARNING:tensorflow:Value in checkpoint could not be found in the restored object: (root).optimizer.decay\n",
            "WARNING:tensorflow:Value in checkpoint could not be found in the restored object: (root).optimizer.learning_rate\n"
          ]
        },
        {
          "output_type": "stream",
          "name": "stdout",
          "text": [
            "searching for the best params!\n"
          ]
        },
        {
          "output_type": "stream",
          "name": "stderr",
          "text": [
            "WARNING:tensorflow:5 out of the last 15 calls to <function Model.make_test_function.<locals>.test_function at 0x7fadd0333560> triggered tf.function retracing. Tracing is expensive and the excessive number of tracings could be due to (1) creating @tf.function repeatedly in a loop, (2) passing tensors with different shapes, (3) passing Python objects instead of tensors. For (1), please define your @tf.function outside of the loop. For (2), @tf.function has reduce_retracing=True option that can avoid unnecessary retracing. For (3), please refer to https://www.tensorflow.org/guide/function#controlling_retracing and https://www.tensorflow.org/api_docs/python/tf/function for  more details.\n",
            "WARNING:tensorflow:6 out of the last 17 calls to <function Model.make_test_function.<locals>.test_function at 0x7fad76356dd0> triggered tf.function retracing. Tracing is expensive and the excessive number of tracings could be due to (1) creating @tf.function repeatedly in a loop, (2) passing tensors with different shapes, (3) passing Python objects instead of tensors. For (1), please define your @tf.function outside of the loop. For (2), @tf.function has reduce_retracing=True option that can avoid unnecessary retracing. For (3), please refer to https://www.tensorflow.org/guide/function#controlling_retracing and https://www.tensorflow.org/api_docs/python/tf/function for  more details.\n"
          ]
        },
        {
          "output_type": "stream",
          "name": "stdout",
          "text": [
            "789.8020212650299  secs\n"
          ]
        }
      ]
    },
    {
      "cell_type": "code",
      "source": [
        "print(f\"\"\"\n",
        "The hyperparameter search is complete. The optimal number of units in the \n",
        "first densely-connected layer is {best_hps.get('units_1')},\n",
        "second layer is {best_hps.get('units_2')} \n",
        "third layer is {best_hps.get('units_3')} \n",
        "drop out is {best_hps.get('dropout')}\n",
        "#learning rate is {best_hps.get('learning_rate')}                                        \n",
        "\n",
        "and the optimal learning rate for the optimizer\n",
        "is {best_hps.get('learning_rate')}.\n",
        "\"\"\")\n",
        "\n",
        "# Evaluate the best model.\n",
        "print(best_model.metrics_names)\n",
        "loss, mae, mse = best_model.evaluate(X_test, y_test)\n",
        "print(f'loss:{loss} mae: {mae} mse: {mse}')\n",
        "\n",
        "'''\n",
        "print(best_hps.get('units'))\n",
        "print(best_hps.get('layers'))\n",
        "print(best_hps.get('window'))\n",
        "print(best_hps.get('learning_rate'))\n",
        "'''"
      ],
      "metadata": {
        "colab": {
          "base_uri": "https://localhost:8080/",
          "height": 269
        },
        "id": "UcOC-csfrvmH",
        "outputId": "522350b9-fbdd-43a0-edcd-97a1f56bbc79"
      },
      "execution_count": null,
      "outputs": [
        {
          "output_type": "stream",
          "name": "stdout",
          "text": [
            "\n",
            "The hyperparameter search is complete. The optimal number of units in the \n",
            "first densely-connected layer is 128,\n",
            "second layer is 96 \n",
            "third layer is 48 \n",
            "drop out is 0.45\n",
            "#learning rate is 0.007588827342097074                                        \n",
            "\n",
            "and the optimal learning rate for the optimizer\n",
            "is 0.007588827342097074.\n",
            "\n",
            "[]\n",
            "1/1 [==============================] - 0s 319ms/step - loss: 0.0114 - mae: 0.0948 - mse: 0.0114\n",
            "loss:0.01140345074236393 mae: 0.09478043019771576 mse: 0.01140345074236393\n"
          ]
        },
        {
          "output_type": "execute_result",
          "data": {
            "text/plain": [
              "\"\\nprint(best_hps.get('units'))\\nprint(best_hps.get('layers'))\\nprint(best_hps.get('window'))\\nprint(best_hps.get('learning_rate'))\\n\""
            ],
            "application/vnd.google.colaboratory.intrinsic+json": {
              "type": "string"
            }
          },
          "metadata": {},
          "execution_count": 56
        }
      ]
    },
    {
      "cell_type": "code",
      "source": [
        "# Get the optimal hyperparameters\n",
        "best_hps = tuner.get_best_hyperparameters(num_trials = 1)[0]\n",
        "print(best_hps.values)"
      ],
      "metadata": {
        "colab": {
          "base_uri": "https://localhost:8080/"
        },
        "id": "q0e8tSIulgh_",
        "outputId": "11fddf29-bef3-4d93-f6ff-c01adc3ed288"
      },
      "execution_count": null,
      "outputs": [
        {
          "output_type": "stream",
          "name": "stdout",
          "text": [
            "{'units_1': 128, 'units_2': 96, 'units_3': 48, 'dropout': 0.45, 'learning_rate': 0.007588827342097074, 'tuner/epochs': 150, 'tuner/initial_epoch': 50, 'tuner/bracket': 1, 'tuner/round': 1, 'tuner/trial_id': '0239'}\n"
          ]
        }
      ]
    },
    {
      "cell_type": "markdown",
      "source": [
        "###Apply the trained parameters to the CNN"
      ],
      "metadata": {
        "id": "oggNSpcVpofH"
      }
    },
    {
      "cell_type": "code",
      "source": [
        "TUcnn_model = tf.keras.Sequential()\n",
        "TUcnn_model.add(tf.keras.layers.Conv1D(filters=128, kernel_size=2, activation='tanh', input_shape=(X_test.shape[1], X_test.shape[2])))\n",
        "TUcnn_model.add(tf.keras.layers.Dense(96, activation='tanh'))\n",
        "TUcnn_model.add(tf.keras.layers.MaxPooling1D(pool_size=2))\n",
        "TUcnn_model.add(tf.keras.layers.Flatten())\n",
        "\n",
        "##Hidden Layer\n",
        "TUcnn_model.add(tf.keras.layers.Dense(48))\n",
        "#TUcnn_model.add(layers.Dropout(0.45))\n",
        "\n",
        "#Output layer of model\n",
        "TUcnn_model.add(tf.keras.layers.Dense(1))"
      ],
      "metadata": {
        "id": "exKbi-BBYxAt"
      },
      "execution_count": null,
      "outputs": []
    },
    {
      "cell_type": "code",
      "source": [
        "TUcnn_model.compile(loss = 'mse', optimizer= tf.keras.optimizers.Adam(learning_rate=0.003021691068008031), metrics= ['mae', 'mse'])\n",
        "#TUcnn_model.compile(optimizer='rmsprop',loss='mse',metrics=['mse']),\n",
        "history = TUcnn_model.fit(X_train, y_train, epochs=80, batch_size=160,validation_split=0.2,shuffle=False)"
      ],
      "metadata": {
        "colab": {
          "base_uri": "https://localhost:8080/"
        },
        "id": "2OVvMjqyY2kW",
        "outputId": "0f7c6803-55ee-4b52-8e57-731605b33758"
      },
      "execution_count": null,
      "outputs": [
        {
          "output_type": "stream",
          "name": "stdout",
          "text": [
            "Epoch 1/80\n",
            "1/1 [==============================] - 1s 686ms/step - loss: 0.0554 - mae: 0.1671 - mse: 0.0554 - val_loss: 1.5625 - val_mae: 1.2298 - val_mse: 1.5625\n",
            "Epoch 2/80\n",
            "1/1 [==============================] - 0s 28ms/step - loss: 1.7345 - mae: 1.2127 - mse: 1.7345 - val_loss: 0.1388 - val_mae: 0.2867 - val_mse: 0.1388\n",
            "Epoch 3/80\n",
            "1/1 [==============================] - 0s 27ms/step - loss: 0.1405 - mae: 0.3186 - mse: 0.1405 - val_loss: 0.4897 - val_mae: 0.6016 - val_mse: 0.4897\n",
            "Epoch 4/80\n",
            "1/1 [==============================] - 0s 29ms/step - loss: 0.2520 - mae: 0.4360 - mse: 0.2520 - val_loss: 0.9490 - val_mae: 0.8974 - val_mse: 0.9490\n",
            "Epoch 5/80\n",
            "1/1 [==============================] - 0s 37ms/step - loss: 0.6277 - mae: 0.7139 - mse: 0.6277 - val_loss: 0.7642 - val_mae: 0.8021 - val_mse: 0.7642\n",
            "Epoch 6/80\n",
            "1/1 [==============================] - 0s 25ms/step - loss: 0.5036 - mae: 0.6369 - mse: 0.5036 - val_loss: 0.3718 - val_mae: 0.5331 - val_mse: 0.3718\n",
            "Epoch 7/80\n",
            "1/1 [==============================] - 0s 27ms/step - loss: 0.2129 - mae: 0.4023 - mse: 0.2129 - val_loss: 0.1033 - val_mae: 0.2747 - val_mse: 0.1033\n",
            "Epoch 8/80\n",
            "1/1 [==============================] - 0s 28ms/step - loss: 0.0350 - mae: 0.1483 - mse: 0.0350 - val_loss: 0.0494 - val_mae: 0.1832 - val_mse: 0.0494\n",
            "Epoch 9/80\n",
            "1/1 [==============================] - 0s 27ms/step - loss: 0.0421 - mae: 0.1701 - mse: 0.0421 - val_loss: 0.1248 - val_mae: 0.3087 - val_mse: 0.1248\n",
            "Epoch 10/80\n",
            "1/1 [==============================] - 0s 26ms/step - loss: 0.1468 - mae: 0.3387 - mse: 0.1468 - val_loss: 0.1638 - val_mae: 0.3711 - val_mse: 0.1638\n",
            "Epoch 11/80\n",
            "1/1 [==============================] - 0s 32ms/step - loss: 0.1931 - mae: 0.3929 - mse: 0.1931 - val_loss: 0.1192 - val_mae: 0.3044 - val_mse: 0.1192\n",
            "Epoch 12/80\n",
            "1/1 [==============================] - 0s 27ms/step - loss: 0.1437 - mae: 0.3336 - mse: 0.1437 - val_loss: 0.0555 - val_mae: 0.1945 - val_mse: 0.0555\n",
            "Epoch 13/80\n",
            "1/1 [==============================] - 0s 27ms/step - loss: 0.0646 - mae: 0.2151 - mse: 0.0646 - val_loss: 0.0348 - val_mae: 0.1581 - val_mse: 0.0348\n",
            "Epoch 14/80\n",
            "1/1 [==============================] - 0s 28ms/step - loss: 0.0184 - mae: 0.1085 - mse: 0.0184 - val_loss: 0.0692 - val_mae: 0.2194 - val_mse: 0.0692\n",
            "Epoch 15/80\n",
            "1/1 [==============================] - 0s 28ms/step - loss: 0.0224 - mae: 0.1179 - mse: 0.0224 - val_loss: 0.1303 - val_mae: 0.3029 - val_mse: 0.1303\n",
            "Epoch 16/80\n",
            "1/1 [==============================] - 0s 31ms/step - loss: 0.0566 - mae: 0.2018 - mse: 0.0566 - val_loss: 0.1765 - val_mae: 0.3637 - val_mse: 0.1765\n",
            "Epoch 17/80\n",
            "1/1 [==============================] - 0s 32ms/step - loss: 0.0877 - mae: 0.2570 - mse: 0.0877 - val_loss: 0.1831 - val_mae: 0.3719 - val_mse: 0.1831\n",
            "Epoch 18/80\n",
            "1/1 [==============================] - 0s 27ms/step - loss: 0.0939 - mae: 0.2668 - mse: 0.0939 - val_loss: 0.1530 - val_mae: 0.3355 - val_mse: 0.1530\n",
            "Epoch 19/80\n",
            "1/1 [==============================] - 0s 31ms/step - loss: 0.0756 - mae: 0.2369 - mse: 0.0756 - val_loss: 0.1062 - val_mae: 0.2706 - val_mse: 0.1062\n",
            "Epoch 20/80\n",
            "1/1 [==============================] - 0s 27ms/step - loss: 0.0468 - mae: 0.1818 - mse: 0.0468 - val_loss: 0.0636 - val_mae: 0.2066 - val_mse: 0.0636\n",
            "Epoch 21/80\n",
            "1/1 [==============================] - 0s 26ms/step - loss: 0.0229 - mae: 0.1223 - mse: 0.0229 - val_loss: 0.0376 - val_mae: 0.1650 - val_mse: 0.0376\n",
            "Epoch 22/80\n",
            "1/1 [==============================] - 0s 27ms/step - loss: 0.0124 - mae: 0.0838 - mse: 0.0124 - val_loss: 0.0299 - val_mae: 0.1505 - val_mse: 0.0299\n",
            "Epoch 23/80\n",
            "1/1 [==============================] - 0s 28ms/step - loss: 0.0154 - mae: 0.0952 - mse: 0.0154 - val_loss: 0.0346 - val_mae: 0.1543 - val_mse: 0.0346\n",
            "Epoch 24/80\n",
            "1/1 [==============================] - 0s 27ms/step - loss: 0.0260 - mae: 0.1329 - mse: 0.0260 - val_loss: 0.0425 - val_mae: 0.1666 - val_mse: 0.0425\n",
            "Epoch 25/80\n",
            "1/1 [==============================] - 0s 28ms/step - loss: 0.0360 - mae: 0.1611 - mse: 0.0360 - val_loss: 0.0462 - val_mae: 0.1722 - val_mse: 0.0462\n",
            "Epoch 26/80\n",
            "1/1 [==============================] - 0s 27ms/step - loss: 0.0395 - mae: 0.1699 - mse: 0.0395 - val_loss: 0.0436 - val_mae: 0.1674 - val_mse: 0.0436\n",
            "Epoch 27/80\n",
            "1/1 [==============================] - 0s 27ms/step - loss: 0.0351 - mae: 0.1593 - mse: 0.0351 - val_loss: 0.0371 - val_mae: 0.1572 - val_mse: 0.0371\n",
            "Epoch 28/80\n",
            "1/1 [==============================] - 0s 37ms/step - loss: 0.0261 - mae: 0.1343 - mse: 0.0261 - val_loss: 0.0311 - val_mae: 0.1486 - val_mse: 0.0311\n",
            "Epoch 29/80\n",
            "1/1 [==============================] - 0s 28ms/step - loss: 0.0171 - mae: 0.1038 - mse: 0.0171 - val_loss: 0.0287 - val_mae: 0.1468 - val_mse: 0.0287\n",
            "Epoch 30/80\n",
            "1/1 [==============================] - 0s 27ms/step - loss: 0.0116 - mae: 0.0790 - mse: 0.0116 - val_loss: 0.0305 - val_mae: 0.1493 - val_mse: 0.0305\n",
            "Epoch 31/80\n",
            "1/1 [==============================] - 0s 26ms/step - loss: 0.0105 - mae: 0.0764 - mse: 0.0105 - val_loss: 0.0352 - val_mae: 0.1559 - val_mse: 0.0352\n",
            "Epoch 32/80\n",
            "1/1 [==============================] - 0s 30ms/step - loss: 0.0129 - mae: 0.0890 - mse: 0.0129 - val_loss: 0.0403 - val_mae: 0.1656 - val_mse: 0.0403\n",
            "Epoch 33/80\n",
            "1/1 [==============================] - 0s 27ms/step - loss: 0.0167 - mae: 0.1029 - mse: 0.0167 - val_loss: 0.0437 - val_mae: 0.1720 - val_mse: 0.0437\n",
            "Epoch 34/80\n",
            "1/1 [==============================] - 0s 26ms/step - loss: 0.0198 - mae: 0.1127 - mse: 0.0198 - val_loss: 0.0440 - val_mae: 0.1723 - val_mse: 0.0440\n",
            "Epoch 35/80\n",
            "1/1 [==============================] - 0s 26ms/step - loss: 0.0208 - mae: 0.1158 - mse: 0.0208 - val_loss: 0.0412 - val_mae: 0.1667 - val_mse: 0.0412\n",
            "Epoch 36/80\n",
            "1/1 [==============================] - 0s 30ms/step - loss: 0.0195 - mae: 0.1121 - mse: 0.0195 - val_loss: 0.0363 - val_mae: 0.1560 - val_mse: 0.0363\n",
            "Epoch 37/80\n",
            "1/1 [==============================] - 0s 27ms/step - loss: 0.0165 - mae: 0.1025 - mse: 0.0165 - val_loss: 0.0307 - val_mae: 0.1431 - val_mse: 0.0307\n",
            "Epoch 38/80\n",
            "1/1 [==============================] - 0s 25ms/step - loss: 0.0130 - mae: 0.0899 - mse: 0.0130 - val_loss: 0.0260 - val_mae: 0.1337 - val_mse: 0.0260\n",
            "Epoch 39/80\n",
            "1/1 [==============================] - 0s 29ms/step - loss: 0.0102 - mae: 0.0781 - mse: 0.0102 - val_loss: 0.0231 - val_mae: 0.1282 - val_mse: 0.0231\n",
            "Epoch 40/80\n",
            "1/1 [==============================] - 0s 31ms/step - loss: 0.0088 - mae: 0.0702 - mse: 0.0088 - val_loss: 0.0223 - val_mae: 0.1250 - val_mse: 0.0223\n",
            "Epoch 41/80\n",
            "1/1 [==============================] - 0s 27ms/step - loss: 0.0091 - mae: 0.0703 - mse: 0.0091 - val_loss: 0.0230 - val_mae: 0.1252 - val_mse: 0.0230\n",
            "Epoch 42/80\n",
            "1/1 [==============================] - 0s 27ms/step - loss: 0.0104 - mae: 0.0765 - mse: 0.0104 - val_loss: 0.0242 - val_mae: 0.1267 - val_mse: 0.0242\n",
            "Epoch 43/80\n",
            "1/1 [==============================] - 0s 31ms/step - loss: 0.0118 - mae: 0.0833 - mse: 0.0118 - val_loss: 0.0248 - val_mae: 0.1265 - val_mse: 0.0248\n",
            "Epoch 44/80\n",
            "1/1 [==============================] - 0s 44ms/step - loss: 0.0125 - mae: 0.0864 - mse: 0.0125 - val_loss: 0.0242 - val_mae: 0.1245 - val_mse: 0.0242\n",
            "Epoch 45/80\n",
            "1/1 [==============================] - 0s 27ms/step - loss: 0.0121 - mae: 0.0849 - mse: 0.0121 - val_loss: 0.0226 - val_mae: 0.1210 - val_mse: 0.0226\n",
            "Epoch 46/80\n",
            "1/1 [==============================] - 0s 25ms/step - loss: 0.0109 - mae: 0.0794 - mse: 0.0109 - val_loss: 0.0206 - val_mae: 0.1163 - val_mse: 0.0206\n",
            "Epoch 47/80\n",
            "1/1 [==============================] - 0s 26ms/step - loss: 0.0094 - mae: 0.0724 - mse: 0.0094 - val_loss: 0.0189 - val_mae: 0.1109 - val_mse: 0.0189\n",
            "Epoch 48/80\n",
            "1/1 [==============================] - 0s 26ms/step - loss: 0.0082 - mae: 0.0682 - mse: 0.0082 - val_loss: 0.0178 - val_mae: 0.1079 - val_mse: 0.0178\n",
            "Epoch 49/80\n",
            "1/1 [==============================] - 0s 27ms/step - loss: 0.0077 - mae: 0.0673 - mse: 0.0077 - val_loss: 0.0174 - val_mae: 0.1081 - val_mse: 0.0174\n",
            "Epoch 50/80\n",
            "1/1 [==============================] - 0s 26ms/step - loss: 0.0080 - mae: 0.0694 - mse: 0.0080 - val_loss: 0.0174 - val_mae: 0.1081 - val_mse: 0.0174\n",
            "Epoch 51/80\n",
            "1/1 [==============================] - 0s 26ms/step - loss: 0.0086 - mae: 0.0729 - mse: 0.0086 - val_loss: 0.0174 - val_mae: 0.1084 - val_mse: 0.0174\n",
            "Epoch 52/80\n",
            "1/1 [==============================] - 0s 28ms/step - loss: 0.0091 - mae: 0.0759 - mse: 0.0091 - val_loss: 0.0171 - val_mae: 0.1078 - val_mse: 0.0171\n",
            "Epoch 53/80\n",
            "1/1 [==============================] - 0s 31ms/step - loss: 0.0093 - mae: 0.0769 - mse: 0.0093 - val_loss: 0.0165 - val_mae: 0.1059 - val_mse: 0.0165\n",
            "Epoch 54/80\n",
            "1/1 [==============================] - 0s 29ms/step - loss: 0.0090 - mae: 0.0755 - mse: 0.0090 - val_loss: 0.0158 - val_mae: 0.1035 - val_mse: 0.0158\n",
            "Epoch 55/80\n",
            "1/1 [==============================] - 0s 28ms/step - loss: 0.0083 - mae: 0.0725 - mse: 0.0083 - val_loss: 0.0153 - val_mae: 0.1004 - val_mse: 0.0153\n",
            "Epoch 56/80\n",
            "1/1 [==============================] - 0s 27ms/step - loss: 0.0077 - mae: 0.0696 - mse: 0.0077 - val_loss: 0.0153 - val_mae: 0.0984 - val_mse: 0.0153\n",
            "Epoch 57/80\n",
            "1/1 [==============================] - 0s 34ms/step - loss: 0.0073 - mae: 0.0674 - mse: 0.0073 - val_loss: 0.0157 - val_mae: 0.0993 - val_mse: 0.0157\n",
            "Epoch 58/80\n",
            "1/1 [==============================] - 0s 33ms/step - loss: 0.0072 - mae: 0.0662 - mse: 0.0072 - val_loss: 0.0165 - val_mae: 0.1002 - val_mse: 0.0165\n",
            "Epoch 59/80\n",
            "1/1 [==============================] - 0s 30ms/step - loss: 0.0074 - mae: 0.0669 - mse: 0.0074 - val_loss: 0.0173 - val_mae: 0.1009 - val_mse: 0.0173\n",
            "Epoch 60/80\n",
            "1/1 [==============================] - 0s 28ms/step - loss: 0.0077 - mae: 0.0678 - mse: 0.0077 - val_loss: 0.0178 - val_mae: 0.1016 - val_mse: 0.0178\n",
            "Epoch 61/80\n",
            "1/1 [==============================] - 0s 30ms/step - loss: 0.0079 - mae: 0.0685 - mse: 0.0079 - val_loss: 0.0177 - val_mae: 0.1013 - val_mse: 0.0177\n",
            "Epoch 62/80\n",
            "1/1 [==============================] - 0s 28ms/step - loss: 0.0078 - mae: 0.0682 - mse: 0.0078 - val_loss: 0.0171 - val_mae: 0.1000 - val_mse: 0.0171\n",
            "Epoch 63/80\n",
            "1/1 [==============================] - 0s 32ms/step - loss: 0.0075 - mae: 0.0674 - mse: 0.0075 - val_loss: 0.0163 - val_mae: 0.0981 - val_mse: 0.0163\n",
            "Epoch 64/80\n",
            "1/1 [==============================] - 0s 28ms/step - loss: 0.0072 - mae: 0.0666 - mse: 0.0072 - val_loss: 0.0155 - val_mae: 0.0973 - val_mse: 0.0155\n",
            "Epoch 65/80\n",
            "1/1 [==============================] - 0s 27ms/step - loss: 0.0070 - mae: 0.0660 - mse: 0.0070 - val_loss: 0.0148 - val_mae: 0.0966 - val_mse: 0.0148\n",
            "Epoch 66/80\n",
            "1/1 [==============================] - 0s 27ms/step - loss: 0.0070 - mae: 0.0664 - mse: 0.0070 - val_loss: 0.0144 - val_mae: 0.0960 - val_mse: 0.0144\n",
            "Epoch 67/80\n",
            "1/1 [==============================] - 0s 27ms/step - loss: 0.0071 - mae: 0.0673 - mse: 0.0071 - val_loss: 0.0142 - val_mae: 0.0957 - val_mse: 0.0142\n",
            "Epoch 68/80\n",
            "1/1 [==============================] - 0s 28ms/step - loss: 0.0072 - mae: 0.0682 - mse: 0.0072 - val_loss: 0.0141 - val_mae: 0.0956 - val_mse: 0.0141\n",
            "Epoch 69/80\n",
            "1/1 [==============================] - 0s 34ms/step - loss: 0.0073 - mae: 0.0685 - mse: 0.0073 - val_loss: 0.0142 - val_mae: 0.0957 - val_mse: 0.0142\n",
            "Epoch 70/80\n",
            "1/1 [==============================] - 0s 27ms/step - loss: 0.0072 - mae: 0.0682 - mse: 0.0072 - val_loss: 0.0144 - val_mae: 0.0960 - val_mse: 0.0144\n",
            "Epoch 71/80\n",
            "1/1 [==============================] - 0s 33ms/step - loss: 0.0071 - mae: 0.0673 - mse: 0.0071 - val_loss: 0.0149 - val_mae: 0.0964 - val_mse: 0.0149\n",
            "Epoch 72/80\n",
            "1/1 [==============================] - 0s 27ms/step - loss: 0.0069 - mae: 0.0662 - mse: 0.0069 - val_loss: 0.0155 - val_mae: 0.0970 - val_mse: 0.0155\n",
            "Epoch 73/80\n",
            "1/1 [==============================] - 0s 30ms/step - loss: 0.0068 - mae: 0.0655 - mse: 0.0068 - val_loss: 0.0162 - val_mae: 0.0980 - val_mse: 0.0162\n",
            "Epoch 74/80\n",
            "1/1 [==============================] - 0s 29ms/step - loss: 0.0068 - mae: 0.0653 - mse: 0.0068 - val_loss: 0.0168 - val_mae: 0.0991 - val_mse: 0.0168\n",
            "Epoch 75/80\n",
            "1/1 [==============================] - 0s 28ms/step - loss: 0.0069 - mae: 0.0655 - mse: 0.0069 - val_loss: 0.0173 - val_mae: 0.1000 - val_mse: 0.0173\n",
            "Epoch 76/80\n",
            "1/1 [==============================] - 0s 28ms/step - loss: 0.0069 - mae: 0.0655 - mse: 0.0069 - val_loss: 0.0174 - val_mae: 0.1004 - val_mse: 0.0174\n",
            "Epoch 77/80\n",
            "1/1 [==============================] - 0s 27ms/step - loss: 0.0069 - mae: 0.0655 - mse: 0.0069 - val_loss: 0.0173 - val_mae: 0.1003 - val_mse: 0.0173\n",
            "Epoch 78/80\n",
            "1/1 [==============================] - 0s 30ms/step - loss: 0.0068 - mae: 0.0652 - mse: 0.0068 - val_loss: 0.0170 - val_mae: 0.0996 - val_mse: 0.0170\n",
            "Epoch 79/80\n",
            "1/1 [==============================] - 0s 28ms/step - loss: 0.0068 - mae: 0.0649 - mse: 0.0068 - val_loss: 0.0165 - val_mae: 0.0989 - val_mse: 0.0165\n",
            "Epoch 80/80\n",
            "1/1 [==============================] - 0s 27ms/step - loss: 0.0067 - mae: 0.0646 - mse: 0.0067 - val_loss: 0.0161 - val_mae: 0.0982 - val_mse: 0.0161\n"
          ]
        }
      ]
    },
    {
      "cell_type": "code",
      "source": [
        "loss = history.history['loss']\n",
        "val_loss = history.history['val_loss']\n",
        "\n",
        "epochs=range(len(loss)) # Get number of epochs\n",
        "\n",
        "\n",
        "#------------------------------------------------\n",
        "# Plot training and validation loss per epoch\n",
        "#------------------------------------------------\n",
        "plt.plot(epochs, loss, 'r',label='loss')\n",
        "plt.plot(epochs,val_loss,'blue',label='val loss')\n",
        "plt.title('Training loss & Val Loss by Epochs')\n",
        "plt.xlabel(\"Epochs\")\n",
        "plt.ylabel(\"Loss\")\n",
        "plt.legend()\n",
        "\n",
        "plt.figure()"
      ],
      "metadata": {
        "colab": {
          "base_uri": "https://localhost:8080/",
          "height": 417
        },
        "id": "DXBeY_MGZSMP",
        "outputId": "7c100030-fb8b-4b36-807a-874f1a4f8fc8"
      },
      "execution_count": null,
      "outputs": [
        {
          "output_type": "execute_result",
          "data": {
            "text/plain": [
              "<Figure size 720x360 with 0 Axes>"
            ]
          },
          "metadata": {},
          "execution_count": 32
        },
        {
          "output_type": "display_data",
          "data": {
            "text/plain": [
              "<Figure size 720x360 with 1 Axes>"
            ],
            "image/png": "[encoded data removed]"
          },
          "metadata": {}
        },
        {
          "output_type": "display_data",
          "data": {
            "text/plain": [
              "<Figure size 720x360 with 0 Axes>"
            ]
          },
          "metadata": {}
        }
      ]
    },
    {
      "cell_type": "code",
      "source": [
        "y_predTU = TUcnn_model.predict(X_test)\n",
        "y_predTU"
      ],
      "metadata": {
        "colab": {
          "base_uri": "https://localhost:8080/"
        },
        "id": "lHiuk7B6iQVK",
        "outputId": "c9908aa1-c19d-475a-c6bb-01319903f78b"
      },
      "execution_count": null,
      "outputs": [
        {
          "output_type": "stream",
          "name": "stdout",
          "text": [
            "1/1 [==============================] - 0s 146ms/step\n"
          ]
        },
        {
          "output_type": "execute_result",
          "data": {
            "text/plain": [
              "array([[ 0.07615135],\n",
              "       [ 0.06741606],\n",
              "       [ 0.09730785],\n",
              "       [ 0.10995597],\n",
              "       [ 0.07063163],\n",
              "       [ 0.04522405],\n",
              "       [ 0.0418721 ],\n",
              "       [ 0.02853487],\n",
              "       [-0.0252347 ],\n",
              "       [-0.06814944],\n",
              "       [-0.06166863],\n",
              "       [-0.05054574],\n",
              "       [-0.06469169],\n",
              "       [-0.08116759],\n",
              "       [-0.07776129],\n",
              "       [-0.0892655 ],\n",
              "       [-0.11773991],\n",
              "       [-0.0800552 ],\n",
              "       [ 0.04924294],\n",
              "       [ 0.10740765],\n",
              "       [ 0.04930274],\n",
              "       [ 0.01942046]], dtype=float32)"
            ]
          },
          "metadata": {},
          "execution_count": 33
        }
      ]
    },
    {
      "cell_type": "code",
      "source": [
        "y_predTU.reshape(1,-1)"
      ],
      "metadata": {
        "colab": {
          "base_uri": "https://localhost:8080/"
        },
        "id": "JbqyY5OriQYh",
        "outputId": "9f1b90d9-9743-43e1-9aec-01eec7f41900"
      },
      "execution_count": null,
      "outputs": [
        {
          "output_type": "execute_result",
          "data": {
            "text/plain": [
              "array([[ 0.07615135,  0.06741606,  0.09730785,  0.10995597,  0.07063163,\n",
              "         0.04522405,  0.0418721 ,  0.02853487, -0.0252347 , -0.06814944,\n",
              "        -0.06166863, -0.05054574, -0.06469169, -0.08116759, -0.07776129,\n",
              "        -0.0892655 , -0.11773991, -0.0800552 ,  0.04924294,  0.10740765,\n",
              "         0.04930274,  0.01942046]], dtype=float32)"
            ]
          },
          "metadata": {},
          "execution_count": 34
        }
      ]
    },
    {
      "cell_type": "markdown",
      "source": [
        "###Invert Transformed Tuned Data"
      ],
      "metadata": {
        "id": "XXPkM7CFsB5U"
      }
    },
    {
      "cell_type": "code",
      "source": [
        "y_train_inv = cpo_pri_transformer.inverse_transform(y_train.reshape(1, -1))\n",
        "y_test_inv = cpo_pri_transformer.inverse_transform(y_test.reshape(1, -1))\n",
        "y_pred_inv = cpo_pri_transformer.inverse_transform(y_predTU.reshape(1,-1))\n",
        "print(y_train_inv)\n",
        "print(y_test_inv)\n",
        "print(y_pred_inv)"
      ],
      "metadata": {
        "colab": {
          "base_uri": "https://localhost:8080/"
        },
        "id": "gZ8inWeYy64m",
        "outputId": "550a044b-9e07-4a82-db96-8e0afd337005"
      },
      "execution_count": null,
      "outputs": [
        {
          "output_type": "stream",
          "name": "stdout",
          "text": [
            "[[376. 383. 382. 396. 402. 390. 404. 382. 382. 391. 396. 413. 401. 410.\n",
            "  425. 408. 392. 371. 356. 362. 356. 352. 333. 357. 411. 404. 387. 395.\n",
            "  434. 488. 508. 494. 575. 614. 616. 707. 719. 655. 661. 687. 625. 611.\n",
            "  631. 655. 616. 586. 615. 607. 590. 535. 518. 519. 562. 552. 508. 476.\n",
            "  513. 545. 532. 550. 561. 567. 580. 559. 562. 553. 533. 498. 504. 525.\n",
            "  547. 556. 566. 621. 659. 671. 688. 705. 633. 661. 674. 703. 694. 681.\n",
            "  663. 632. 561. 497. 509. 475. 392. 319. 354. 388. 381. 370.]]\n",
            "[[349. 372. 324. 315. 312. 306. 288. 255. 257. 265. 254. 240. 254. 251.\n",
            "  234. 255. 330. 362. 310. 277. 323. 360.]]\n",
            "[[349.46054 345.96643 357.92316 362.9824  347.25266 337.0896  335.74884\n",
            "  330.41394 308.90613 291.74023 294.33255 298.7817  293.12332 286.53296\n",
            "  287.89548 283.2938  271.90405 286.9779  338.69717 361.96304 338.7211\n",
            "  326.7682 ]]\n"
          ]
        }
      ]
    },
    {
      "cell_type": "code",
      "source": [
        "y_train_inv = y_train_inv.flatten()\n",
        "y_train_inv"
      ],
      "metadata": {
        "colab": {
          "base_uri": "https://localhost:8080/"
        },
        "id": "2g9TLmgHy7Hw",
        "outputId": "5e0167d3-1ec2-4672-ecb0-d84125a2d9d7"
      },
      "execution_count": null,
      "outputs": [
        {
          "output_type": "execute_result",
          "data": {
            "text/plain": [
              "array([376., 383., 382., 396., 402., 390., 404., 382., 382., 391., 396.,\n",
              "       413., 401., 410., 425., 408., 392., 371., 356., 362., 356., 352.,\n",
              "       333., 357., 411., 404., 387., 395., 434., 488., 508., 494., 575.,\n",
              "       614., 616., 707., 719., 655., 661., 687., 625., 611., 631., 655.,\n",
              "       616., 586., 615., 607., 590., 535., 518., 519., 562., 552., 508.,\n",
              "       476., 513., 545., 532., 550., 561., 567., 580., 559., 562., 553.,\n",
              "       533., 498., 504., 525., 547., 556., 566., 621., 659., 671., 688.,\n",
              "       705., 633., 661., 674., 703., 694., 681., 663., 632., 561., 497.,\n",
              "       509., 475., 392., 319., 354., 388., 381., 370.])"
            ]
          },
          "metadata": {},
          "execution_count": 36
        }
      ]
    },
    {
      "cell_type": "code",
      "source": [
        "y_test_inv = y_test_inv.flatten()\n",
        "y_test_inv"
      ],
      "metadata": {
        "colab": {
          "base_uri": "https://localhost:8080/"
        },
        "id": "PDdnZUrXy7L4",
        "outputId": "800a23f2-922e-4996-fd7f-160e895d8905"
      },
      "execution_count": null,
      "outputs": [
        {
          "output_type": "execute_result",
          "data": {
            "text/plain": [
              "array([349., 372., 324., 315., 312., 306., 288., 255., 257., 265., 254.,\n",
              "       240., 254., 251., 234., 255., 330., 362., 310., 277., 323., 360.])"
            ]
          },
          "metadata": {},
          "execution_count": 37
        }
      ]
    },
    {
      "cell_type": "code",
      "source": [
        "TU_CNN_Pred = y_pred_inv.flatten()   #y_pred_inv = TU_CNN_Pred\n",
        "TU_CNN_Pred"
      ],
      "metadata": {
        "colab": {
          "base_uri": "https://localhost:8080/"
        },
        "id": "fqq4-3-lsuEy",
        "outputId": "a0cab6ad-83d0-42ef-e0e7-bc828095688c"
      },
      "execution_count": null,
      "outputs": [
        {
          "output_type": "execute_result",
          "data": {
            "text/plain": [
              "array([349.46054, 345.96643, 357.92316, 362.9824 , 347.25266, 337.0896 ,\n",
              "       335.74884, 330.41394, 308.90613, 291.74023, 294.33255, 298.7817 ,\n",
              "       293.12332, 286.53296, 287.89548, 283.2938 , 271.90405, 286.9779 ,\n",
              "       338.69717, 361.96304, 338.7211 , 326.7682 ], dtype=float32)"
            ]
          },
          "metadata": {},
          "execution_count": 38
        }
      ]
    },
    {
      "cell_type": "code",
      "source": [
        "plt.plot(np.arange(0, len(y_train)), y_train_inv, color='green', label=\"History\")\n",
        "plt.plot(np.arange(len(y_train), len(y_train) + len(y_test)), y_test_inv, color='blue', marker='.', label=\"Actual\")\n",
        "plt.plot(np.arange(len(y_train), len(y_train) + len(y_test)), TU_CNN_Pred, color='red', label=\"Tuned CNN Prediction\")\n",
        "plt.ylabel('Crude Palm Oil Price')\n",
        "plt.xlabel('Time')\n",
        "plt.legend()\n",
        "plt.show();"
      ],
      "metadata": {
        "colab": {
          "base_uri": "https://localhost:8080/",
          "height": 363
        },
        "id": "nBN919VXsuNq",
        "outputId": "124db0ab-bf50-477c-b97a-ee3eaa797ade"
      },
      "execution_count": null,
      "outputs": [
        {
          "output_type": "display_data",
          "data": {
            "text/plain": [
              "<Figure size 720x360 with 1 Axes>"
            ],
            "image/png": "[encoded data removed]"
          },
          "metadata": {}
        }
      ]
    },
    {
      "cell_type": "code",
      "source": [
        "TUMAE_cnn = mean_absolute_error(y_test_inv, TU_CNN_Pred)\n",
        "print('MAE value of the CNN Model is:', TUMAE_cnn)\n",
        "\n",
        "TUMDA_cnn = mda(y_test_inv, TU_CNN_Pred)\n",
        "print('MDA value of the CNN Model is:', TUMDA_cnn)\n",
        "\n",
        "TUMAPE_cnn = mean_absolute_percentage_error(y_test_inv, TU_CNN_Pred)\n",
        "print('MAPE value of the CNN Model is:', TUMAPE_cnn)\n",
        "\n",
        "TURMSE_cnn = mean_squared_error(y_test_inv,TU_CNN_Pred, squared=False)\n",
        "print('RMSE value of the CNN Model is:', TURMSE_cnn)\n",
        "\n",
        "TUMSE_cnn = mean_squared_error(y_test_inv,TU_CNN_Pred)\n",
        "print('MSE value of the CNN Model is:', TUMSE_cnn)"
      ],
      "metadata": {
        "colab": {
          "base_uri": "https://localhost:8080/"
        },
        "id": "FqciJO0esuRc",
        "outputId": "aa2653a0-dec1-4321-d36f-a56f3e87b272"
      },
      "execution_count": null,
      "outputs": [
        {
          "output_type": "stream",
          "name": "stdout",
          "text": [
            "MAE value of the CNN Model is: 42.19281976873224\n",
            "MDA value of the CNN Model is: 0.2857142857142857\n",
            "MAPE value of the CNN Model is: 14.870396627325075\n",
            "RMSE value of the CNN Model is: 46.561083807543966\n",
            "MSE value of the CNN Model is: 2167.934525333133\n"
          ]
        }
      ]
    },
    {
      "cell_type": "markdown",
      "source": [
        "Tuned CNN Actual VS Predicted Zoomed-IN"
      ],
      "metadata": {
        "id": "oczznVkQihRI"
      }
    },
    {
      "cell_type": "code",
      "source": [
        "plt.figure(figsize=(17,9))\n",
        "#plt.grid()\n",
        "#plt.plot(np.arange(0, len(y_train)), y_train_inv, color='green', label=\"History\")\n",
        "plt.plot(np.arange(len(y_train), len(y_train) + len(y_test)), y_test_inv, color='blue', marker='.', label=\"Actual\")\n",
        "plt.plot(np.arange(len(y_train), len(y_train) + len(y_test)), TU_CNN_Pred, color='red', label=\"Tuned CNN Prediction\")\n",
        "plt.ylabel('Crude Palm Oil Price')\n",
        "plt.xlabel('Time')\n",
        "plt.legend()\n",
        "ax.grid()\n",
        "#plt.grid()\n",
        "#plt.show();"
      ],
      "metadata": {
        "colab": {
          "base_uri": "https://localhost:8080/",
          "height": 596
        },
        "id": "RmqyhCu_iV_w",
        "outputId": "398ce3d8-0b7b-436a-b296-9641ed90950d"
      },
      "execution_count": null,
      "outputs": [
        {
          "output_type": "display_data",
          "data": {
            "text/plain": [
              "<Figure size 1224x648 with 1 Axes>"
            ],
            "image/png": "[encoded data removed]"
          },
          "metadata": {}
        }
      ]
    },
    {
      "cell_type": "markdown",
      "source": [
        "##Results\n",
        "\n",
        "Baseline MSE         = 0.0188\n",
        "\n",
        "Random search MSE    = 0.1198\n",
        "\n",
        "Bayesian search MAE  = 0.3479\n",
        "\n",
        "Hyperband search MSE = \n",
        "\n",
        "Tuned CNN MSE        ="
      ],
      "metadata": {
        "id": "xMdKc2DKj1e-"
      }
    },
    {
      "cell_type": "code",
      "source": [],
      "metadata": {
        "id": "LShDk-P_jNRO"
      },
      "execution_count": null,
      "outputs": []
    },
    {
      "cell_type": "code",
      "source": [],
      "metadata": {
        "id": "5nYTPO1aVX9x"
      },
      "execution_count": null,
      "outputs": []
    },
    {
      "cell_type": "code",
      "source": [],
      "metadata": {
        "id": "hv93aOpUVYLh"
      },
      "execution_count": null,
      "outputs": []
    },
    {
      "cell_type": "code",
      "source": [],
      "metadata": {
        "id": "L0ewVCYKjNot"
      },
      "execution_count": null,
      "outputs": []
    }
  ]
}