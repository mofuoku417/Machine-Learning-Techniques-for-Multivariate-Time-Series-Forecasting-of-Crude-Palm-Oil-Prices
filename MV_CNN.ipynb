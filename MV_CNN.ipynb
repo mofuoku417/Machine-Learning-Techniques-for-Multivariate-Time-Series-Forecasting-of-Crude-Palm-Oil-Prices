{
  "nbformat": 4,
  "nbformat_minor": 0,
  "metadata": {
    "colab": {
      "name": "MV_CNN.ipynb",
      "provenance": [],
      "authorship_tag": "ABX9TyMwt/C7lJhTfbm+PimWofez",
      "include_colab_link": true
    },
    "kernelspec": {
      "name": "python3",
      "display_name": "Python 3"
    },
    "language_info": {
      "name": "python"
    },
    "gpuClass": "standard",
    "accelerator": "GPU"
  },
  "cells": [
    {
      "cell_type": "markdown",
      "metadata": {
        "id": "view-in-github",
        "colab_type": "text"
      },
      "source": [
        "<a href=\"https://colab.research.google.com/github/mofuoku417/Machine-Learning-Techniques-for-Multivariate-Time-Series-Forecasting-of-Crude-Palm-Oil-Prices/blob/main/MV_CNN.ipynb\" target=\"_parent\"><img src=\"https://colab.research.google.com/assets/colab-badge.svg\" alt=\"Open In Colab\"/></a>"
      ]
    },
    {
      "cell_type": "markdown",
      "source": [
        "##Objective: Predict Monthly Crude Palm Oil Price Using Convolutional Neural Network (CNN)"
      ],
      "metadata": {
        "id": "tt6Yvzr3gZ-g"
      }
    },
    {
      "cell_type": "code",
      "source": [
        "!pip install scikeras\n",
        "!pip install bayesian-optimization\n",
        "!pip install keras-tuner --upgrade"
      ],
      "metadata": {
        "id": "gGw0m6TUdgMM",
        "outputId": "a39cb4e0-9882-46f8-82fe-d032d7f26c81",
        "colab": {
          "base_uri": "https://localhost:8080/"
        }
      },
      "execution_count": 1,
      "outputs": [
        {
          "output_type": "stream",
          "name": "stdout",
          "text": [
            "Looking in indexes: https://pypi.org/simple, https://us-python.pkg.dev/colab-wheels/public/simple/\n",
            "Collecting scikeras\n",
            "  Downloading scikeras-0.9.0-py3-none-any.whl (27 kB)\n",
            "Requirement already satisfied: scikit-learn>=1.0.0 in /usr/local/lib/python3.7/dist-packages (from scikeras) (1.0.2)\n",
            "Requirement already satisfied: importlib-metadata>=3 in /usr/local/lib/python3.7/dist-packages (from scikeras) (4.13.0)\n",
            "Requirement already satisfied: packaging>=0.21 in /usr/local/lib/python3.7/dist-packages (from scikeras) (21.3)\n",
            "Requirement already satisfied: typing-extensions>=3.6.4 in /usr/local/lib/python3.7/dist-packages (from importlib-metadata>=3->scikeras) (4.1.1)\n",
            "Requirement already satisfied: zipp>=0.5 in /usr/local/lib/python3.7/dist-packages (from importlib-metadata>=3->scikeras) (3.10.0)\n",
            "Requirement already satisfied: pyparsing!=3.0.5,>=2.0.2 in /usr/local/lib/python3.7/dist-packages (from packaging>=0.21->scikeras) (3.0.9)\n",
            "Requirement already satisfied: joblib>=0.11 in /usr/local/lib/python3.7/dist-packages (from scikit-learn>=1.0.0->scikeras) (1.2.0)\n",
            "Requirement already satisfied: numpy>=1.14.6 in /usr/local/lib/python3.7/dist-packages (from scikit-learn>=1.0.0->scikeras) (1.21.6)\n",
            "Requirement already satisfied: scipy>=1.1.0 in /usr/local/lib/python3.7/dist-packages (from scikit-learn>=1.0.0->scikeras) (1.7.3)\n",
            "Requirement already satisfied: threadpoolctl>=2.0.0 in /usr/local/lib/python3.7/dist-packages (from scikit-learn>=1.0.0->scikeras) (3.1.0)\n",
            "Installing collected packages: scikeras\n",
            "Successfully installed scikeras-0.9.0\n",
            "Looking in indexes: https://pypi.org/simple, https://us-python.pkg.dev/colab-wheels/public/simple/\n",
            "Collecting bayesian-optimization\n",
            "  Downloading bayesian_optimization-1.3.1-py3-none-any.whl (16 kB)\n",
            "Requirement already satisfied: scipy>=1.0.0 in /usr/local/lib/python3.7/dist-packages (from bayesian-optimization) (1.7.3)\n",
            "Requirement already satisfied: scikit-learn>=0.18.0 in /usr/local/lib/python3.7/dist-packages (from bayesian-optimization) (1.0.2)\n",
            "Requirement already satisfied: numpy>=1.9.0 in /usr/local/lib/python3.7/dist-packages (from bayesian-optimization) (1.21.6)\n",
            "Requirement already satisfied: joblib>=0.11 in /usr/local/lib/python3.7/dist-packages (from scikit-learn>=0.18.0->bayesian-optimization) (1.2.0)\n",
            "Requirement already satisfied: threadpoolctl>=2.0.0 in /usr/local/lib/python3.7/dist-packages (from scikit-learn>=0.18.0->bayesian-optimization) (3.1.0)\n",
            "Installing collected packages: bayesian-optimization\n",
            "Successfully installed bayesian-optimization-1.3.1\n",
            "Looking in indexes: https://pypi.org/simple, https://us-python.pkg.dev/colab-wheels/public/simple/\n",
            "Collecting keras-tuner\n",
            "  Downloading keras_tuner-1.1.3-py3-none-any.whl (135 kB)\n",
            "\u001b[K     |████████████████████████████████| 135 kB 32.3 MB/s \n",
            "\u001b[?25hRequirement already satisfied: numpy in /usr/local/lib/python3.7/dist-packages (from keras-tuner) (1.21.6)\n",
            "Collecting kt-legacy\n",
            "  Downloading kt_legacy-1.0.4-py3-none-any.whl (9.6 kB)\n",
            "Requirement already satisfied: tensorboard in /usr/local/lib/python3.7/dist-packages (from keras-tuner) (2.9.1)\n",
            "Requirement already satisfied: ipython in /usr/local/lib/python3.7/dist-packages (from keras-tuner) (7.9.0)\n",
            "Requirement already satisfied: packaging in /usr/local/lib/python3.7/dist-packages (from keras-tuner) (21.3)\n",
            "Requirement already satisfied: requests in /usr/local/lib/python3.7/dist-packages (from keras-tuner) (2.23.0)\n",
            "Collecting jedi>=0.10\n",
            "  Downloading jedi-0.18.2-py2.py3-none-any.whl (1.6 MB)\n",
            "\u001b[K     |████████████████████████████████| 1.6 MB 51.2 MB/s \n",
            "\u001b[?25hRequirement already satisfied: prompt-toolkit<2.1.0,>=2.0.0 in /usr/local/lib/python3.7/dist-packages (from ipython->keras-tuner) (2.0.10)\n",
            "Requirement already satisfied: decorator in /usr/local/lib/python3.7/dist-packages (from ipython->keras-tuner) (4.4.2)\n",
            "Requirement already satisfied: pygments in /usr/local/lib/python3.7/dist-packages (from ipython->keras-tuner) (2.6.1)\n",
            "Requirement already satisfied: pickleshare in /usr/local/lib/python3.7/dist-packages (from ipython->keras-tuner) (0.7.5)\n",
            "Requirement already satisfied: pexpect in /usr/local/lib/python3.7/dist-packages (from ipython->keras-tuner) (4.8.0)\n",
            "Requirement already satisfied: traitlets>=4.2 in /usr/local/lib/python3.7/dist-packages (from ipython->keras-tuner) (5.1.1)\n",
            "Requirement already satisfied: setuptools>=18.5 in /usr/local/lib/python3.7/dist-packages (from ipython->keras-tuner) (57.4.0)\n",
            "Requirement already satisfied: backcall in /usr/local/lib/python3.7/dist-packages (from ipython->keras-tuner) (0.2.0)\n",
            "Requirement already satisfied: parso<0.9.0,>=0.8.0 in /usr/local/lib/python3.7/dist-packages (from jedi>=0.10->ipython->keras-tuner) (0.8.3)\n",
            "Requirement already satisfied: wcwidth in /usr/local/lib/python3.7/dist-packages (from prompt-toolkit<2.1.0,>=2.0.0->ipython->keras-tuner) (0.2.5)\n",
            "Requirement already satisfied: six>=1.9.0 in /usr/local/lib/python3.7/dist-packages (from prompt-toolkit<2.1.0,>=2.0.0->ipython->keras-tuner) (1.15.0)\n",
            "Requirement already satisfied: pyparsing!=3.0.5,>=2.0.2 in /usr/local/lib/python3.7/dist-packages (from packaging->keras-tuner) (3.0.9)\n",
            "Requirement already satisfied: ptyprocess>=0.5 in /usr/local/lib/python3.7/dist-packages (from pexpect->ipython->keras-tuner) (0.7.0)\n",
            "Requirement already satisfied: idna<3,>=2.5 in /usr/local/lib/python3.7/dist-packages (from requests->keras-tuner) (2.10)\n",
            "Requirement already satisfied: urllib3!=1.25.0,!=1.25.1,<1.26,>=1.21.1 in /usr/local/lib/python3.7/dist-packages (from requests->keras-tuner) (1.24.3)\n",
            "Requirement already satisfied: certifi>=2017.4.17 in /usr/local/lib/python3.7/dist-packages (from requests->keras-tuner) (2022.9.24)\n",
            "Requirement already satisfied: chardet<4,>=3.0.2 in /usr/local/lib/python3.7/dist-packages (from requests->keras-tuner) (3.0.4)\n",
            "Requirement already satisfied: wheel>=0.26 in /usr/local/lib/python3.7/dist-packages (from tensorboard->keras-tuner) (0.38.4)\n",
            "Requirement already satisfied: google-auth-oauthlib<0.5,>=0.4.1 in /usr/local/lib/python3.7/dist-packages (from tensorboard->keras-tuner) (0.4.6)\n",
            "Requirement already satisfied: protobuf<3.20,>=3.9.2 in /usr/local/lib/python3.7/dist-packages (from tensorboard->keras-tuner) (3.19.6)\n",
            "Requirement already satisfied: absl-py>=0.4 in /usr/local/lib/python3.7/dist-packages (from tensorboard->keras-tuner) (1.3.0)\n",
            "Requirement already satisfied: grpcio>=1.24.3 in /usr/local/lib/python3.7/dist-packages (from tensorboard->keras-tuner) (1.50.0)\n",
            "Requirement already satisfied: tensorboard-data-server<0.7.0,>=0.6.0 in /usr/local/lib/python3.7/dist-packages (from tensorboard->keras-tuner) (0.6.1)\n",
            "Requirement already satisfied: werkzeug>=1.0.1 in /usr/local/lib/python3.7/dist-packages (from tensorboard->keras-tuner) (1.0.1)\n",
            "Requirement already satisfied: markdown>=2.6.8 in /usr/local/lib/python3.7/dist-packages (from tensorboard->keras-tuner) (3.4.1)\n",
            "Requirement already satisfied: google-auth<3,>=1.6.3 in /usr/local/lib/python3.7/dist-packages (from tensorboard->keras-tuner) (2.14.1)\n",
            "Requirement already satisfied: tensorboard-plugin-wit>=1.6.0 in /usr/local/lib/python3.7/dist-packages (from tensorboard->keras-tuner) (1.8.1)\n",
            "Requirement already satisfied: pyasn1-modules>=0.2.1 in /usr/local/lib/python3.7/dist-packages (from google-auth<3,>=1.6.3->tensorboard->keras-tuner) (0.2.8)\n",
            "Requirement already satisfied: rsa<5,>=3.1.4 in /usr/local/lib/python3.7/dist-packages (from google-auth<3,>=1.6.3->tensorboard->keras-tuner) (4.9)\n",
            "Requirement already satisfied: cachetools<6.0,>=2.0.0 in /usr/local/lib/python3.7/dist-packages (from google-auth<3,>=1.6.3->tensorboard->keras-tuner) (5.2.0)\n",
            "Requirement already satisfied: requests-oauthlib>=0.7.0 in /usr/local/lib/python3.7/dist-packages (from google-auth-oauthlib<0.5,>=0.4.1->tensorboard->keras-tuner) (1.3.1)\n",
            "Requirement already satisfied: importlib-metadata>=4.4 in /usr/local/lib/python3.7/dist-packages (from markdown>=2.6.8->tensorboard->keras-tuner) (4.13.0)\n",
            "Requirement already satisfied: typing-extensions>=3.6.4 in /usr/local/lib/python3.7/dist-packages (from importlib-metadata>=4.4->markdown>=2.6.8->tensorboard->keras-tuner) (4.1.1)\n",
            "Requirement already satisfied: zipp>=0.5 in /usr/local/lib/python3.7/dist-packages (from importlib-metadata>=4.4->markdown>=2.6.8->tensorboard->keras-tuner) (3.10.0)\n",
            "Requirement already satisfied: pyasn1<0.5.0,>=0.4.6 in /usr/local/lib/python3.7/dist-packages (from pyasn1-modules>=0.2.1->google-auth<3,>=1.6.3->tensorboard->keras-tuner) (0.4.8)\n",
            "Requirement already satisfied: oauthlib>=3.0.0 in /usr/local/lib/python3.7/dist-packages (from requests-oauthlib>=0.7.0->google-auth-oauthlib<0.5,>=0.4.1->tensorboard->keras-tuner) (3.2.2)\n",
            "Installing collected packages: jedi, kt-legacy, keras-tuner\n",
            "Successfully installed jedi-0.18.2 keras-tuner-1.1.3 kt-legacy-1.0.4\n"
          ]
        }
      ]
    },
    {
      "cell_type": "markdown",
      "source": [
        "###Load Libraries"
      ],
      "metadata": {
        "id": "r_2Cswg0sYN8"
      }
    },
    {
      "cell_type": "code",
      "source": [
        "from numpy.random import seed\n",
        "seed(1)\n",
        "import tensorflow as tf\n",
        "tf.random.set_seed(1)\n",
        "\n",
        "import pandas as pd\n",
        "import numpy as np\n",
        "import matplotlib.pyplot as plt\n",
        "import seaborn as sns\n",
        "plt.rcParams['figure.figsize'] = (10, 5)\n",
        "plt.style.use('fivethirtyeight')\n",
        "from plotly.subplots import make_subplots\n",
        "import plotly.graph_objects as go\n",
        "import tensorflow as tf\n",
        "from tensorflow.keras import layers\n",
        "from sklearn.metrics import mean_absolute_error\n",
        "from sklearn.metrics import make_scorer, mean_squared_error\n",
        "from keras.layers import Dense, Dropout\n",
        "from sklearn.metrics import explained_variance_score\n",
        "from sklearn.neural_network import MLPRegressor\n",
        "from sklearn.model_selection import GridSearchCV, RandomizedSearchCV\n",
        "import warnings\n",
        "warnings.filterwarnings('ignore')\n",
        "from keras.models import Sequential\n",
        "from keras.layers import Dense\n",
        "from keras.wrappers.scikit_learn import KerasRegressor\n",
        "from keras.wrappers.scikit_learn import KerasClassifier\n",
        "from sklearn.model_selection import KFold, cross_val_score\n",
        "from scikeras.wrappers import KerasRegressor\n",
        "from tensorflow import keras\n",
        "from kerastuner.tuners import RandomSearch\n",
        "from kerastuner import HyperModel, RandomSearch, Hyperband, BayesianOptimization\n",
        "from keras.callbacks import EarlyStopping\n",
        "from time import time\n",
        "import pickle\n",
        "\n",
        "import matplotlib.dates as mdates\n",
        "from sklearn.preprocessing import RobustScaler\n",
        "from sklearn.preprocessing import MinMaxScaler"
      ],
      "metadata": {
        "id": "eJUaw5qy34It"
      },
      "execution_count": 2,
      "outputs": []
    },
    {
      "cell_type": "markdown",
      "source": [
        "###Define Functions to Facilitate Metrics Evaluation"
      ],
      "metadata": {
        "id": "Gzu9V2o2gfZG"
      }
    },
    {
      "cell_type": "code",
      "source": [
        "#To compute Mean Directional Accuracy\n",
        "def mda(actual: np.ndarray, predicted: np.ndarray):\n",
        "    \"\"\" Mean Directional Accuracy \"\"\"\n",
        "    return np.mean((np.sign(actual[1:] - actual[:-1]) == np.sign(predicted[1:] - predicted[:-1])).astype(int))\n",
        "\n",
        "#Calculate the Mean Absolute Percentage Error\n",
        "#def MAPE(y_true, y_pred): \n",
        "    #mape = np.mean(np.abs((np.array(y_true) - np.array(y_pred)) / np.array(y_true))) * 100\n",
        "    #return mape\n",
        "\n",
        "def mean_absolute_percentage_error(y_true, y_pred): \n",
        "    y_true, y_pred = np.array(y_true), np.array(y_pred)\n",
        "    return np.mean(np.abs((y_true - y_pred) / y_true)) * 100\n",
        "\n",
        "def MAPE(y_true, y_pred): \n",
        "    y_true, y_pred = np.array(y_true), np.array(y_pred)\n",
        "    return np.mean(np.abs((y_true - y_pred) / y_true)) * 100\n",
        "\n",
        "#Calculate the Root Mean Squared Error:\n",
        "def RMSE(y_true, y_pred): \n",
        "    rmse = np.sqrt(mean_squared_error(y_true, y_pred))\n",
        "    return rmse"
      ],
      "metadata": {
        "id": "k7RYx1rN_Yf_"
      },
      "execution_count": 3,
      "outputs": []
    },
    {
      "cell_type": "markdown",
      "source": [
        "###Load the Cleaned Data from Github"
      ],
      "metadata": {
        "id": "FVpIGyF7g4od"
      }
    },
    {
      "cell_type": "code",
      "source": [
        "from pandas import read_csv\n",
        "path = 'https://raw.githubusercontent.com/mofuoku417/Machine-Learning-Techniques-for-Multivariate-Time-Series-Forecasting-of-Crude-Palm-Oil-Prices/main/Cleaned_data/FS_2.csv'\n",
        "df = read_csv(path)\n",
        "df.head()"
      ],
      "metadata": {
        "colab": {
          "base_uri": "https://localhost:8080/",
          "height": 201
        },
        "id": "z_6wFR8b3xZf",
        "outputId": "904516d6-40ed-445f-da5a-fbf77a88b214"
      },
      "execution_count": 9,
      "outputs": [
        {
          "output_type": "execute_result",
          "data": {
            "text/plain": [
              "      date  cpo_pri  cno_pri  oli_pri  rps_pri  pno_pri  sbo_pri  sfo_pri\n",
              "0  12/1/10      323      455  3102.61   423.45    844.0    468.0    578.0\n",
              "1   1/1/11      345      546  3100.45   415.85    799.0    485.0    557.0\n",
              "2   2/1/11      362      595  3199.41   410.77    718.0    466.0    552.0\n",
              "3   3/1/11      376      636  3281.67   414.82    614.0    442.0    574.0\n",
              "4   4/1/11      383      738  3261.65   451.04    619.0    429.0    595.0"
            ],
            "text/html": [
              "\n",
              "  <div id=\"df-89875b25-a6fd-429a-8b0d-97ad7c50edc0\">\n",
              "    <div class=\"colab-df-container\">\n",
              "      <div>\n",
              "<style scoped>\n",
              "    .dataframe tbody tr th:only-of-type {\n",
              "        vertical-align: middle;\n",
              "    }\n",
              "\n",
              "    .dataframe tbody tr th {\n",
              "        vertical-align: top;\n",
              "    }\n",
              "\n",
              "    .dataframe thead th {\n",
              "        text-align: right;\n",
              "    }\n",
              "</style>\n",
              "<table border=\"1\" class=\"dataframe\">\n",
              "  <thead>\n",
              "    <tr style=\"text-align: right;\">\n",
              "      <th></th>\n",
              "      <th>date</th>\n",
              "      <th>cpo_pri</th>\n",
              "      <th>cno_pri</th>\n",
              "      <th>oli_pri</th>\n",
              "      <th>rps_pri</th>\n",
              "      <th>pno_pri</th>\n",
              "      <th>sbo_pri</th>\n",
              "      <th>sfo_pri</th>\n",
              "    </tr>\n",
              "  </thead>\n",
              "  <tbody>\n",
              "    <tr>\n",
              "      <th>0</th>\n",
              "      <td>12/1/10</td>\n",
              "      <td>323</td>\n",
              "      <td>455</td>\n",
              "      <td>3102.61</td>\n",
              "      <td>423.45</td>\n",
              "      <td>844.0</td>\n",
              "      <td>468.0</td>\n",
              "      <td>578.0</td>\n",
              "    </tr>\n",
              "    <tr>\n",
              "      <th>1</th>\n",
              "      <td>1/1/11</td>\n",
              "      <td>345</td>\n",
              "      <td>546</td>\n",
              "      <td>3100.45</td>\n",
              "      <td>415.85</td>\n",
              "      <td>799.0</td>\n",
              "      <td>485.0</td>\n",
              "      <td>557.0</td>\n",
              "    </tr>\n",
              "    <tr>\n",
              "      <th>2</th>\n",
              "      <td>2/1/11</td>\n",
              "      <td>362</td>\n",
              "      <td>595</td>\n",
              "      <td>3199.41</td>\n",
              "      <td>410.77</td>\n",
              "      <td>718.0</td>\n",
              "      <td>466.0</td>\n",
              "      <td>552.0</td>\n",
              "    </tr>\n",
              "    <tr>\n",
              "      <th>3</th>\n",
              "      <td>3/1/11</td>\n",
              "      <td>376</td>\n",
              "      <td>636</td>\n",
              "      <td>3281.67</td>\n",
              "      <td>414.82</td>\n",
              "      <td>614.0</td>\n",
              "      <td>442.0</td>\n",
              "      <td>574.0</td>\n",
              "    </tr>\n",
              "    <tr>\n",
              "      <th>4</th>\n",
              "      <td>4/1/11</td>\n",
              "      <td>383</td>\n",
              "      <td>738</td>\n",
              "      <td>3261.65</td>\n",
              "      <td>451.04</td>\n",
              "      <td>619.0</td>\n",
              "      <td>429.0</td>\n",
              "      <td>595.0</td>\n",
              "    </tr>\n",
              "  </tbody>\n",
              "</table>\n",
              "</div>\n",
              "      <button class=\"colab-df-convert\" onclick=\"convertToInteractive('df-89875b25-a6fd-429a-8b0d-97ad7c50edc0')\"\n",
              "              title=\"Convert this dataframe to an interactive table.\"\n",
              "              style=\"display:none;\">\n",
              "        \n",
              "  <svg xmlns=\"http://www.w3.org/2000/svg\" height=\"24px\"viewBox=\"0 0 24 24\"\n",
              "       width=\"24px\">\n",
              "    <path d=\"M0 0h24v24H0V0z\" fill=\"none\"/>\n",
              "    <path d=\"M18.56 5.44l.94 2.06.94-2.06 2.06-.94-2.06-.94-.94-2.06-.94 2.06-2.06.94zm-11 1L8.5 8.5l.94-2.06 2.06-.94-2.06-.94L8.5 2.5l-.94 2.06-2.06.94zm10 10l.94 2.06.94-2.06 2.06-.94-2.06-.94-.94-2.06-.94 2.06-2.06.94z\"/><path d=\"M17.41 7.96l-1.37-1.37c-.4-.4-.92-.59-1.43-.59-.52 0-1.04.2-1.43.59L10.3 9.45l-7.72 7.72c-.78.78-.78 2.05 0 2.83L4 21.41c.39.39.9.59 1.41.59.51 0 1.02-.2 1.41-.59l7.78-7.78 2.81-2.81c.8-.78.8-2.07 0-2.86zM5.41 20L4 18.59l7.72-7.72 1.47 1.35L5.41 20z\"/>\n",
              "  </svg>\n",
              "      </button>\n",
              "      \n",
              "  <style>\n",
              "    .colab-df-container {\n",
              "      display:flex;\n",
              "      flex-wrap:wrap;\n",
              "      gap: 12px;\n",
              "    }\n",
              "\n",
              "    .colab-df-convert {\n",
              "      background-color: #E8F0FE;\n",
              "      border: none;\n",
              "      border-radius: 50%;\n",
              "      cursor: pointer;\n",
              "      display: none;\n",
              "      fill: #1967D2;\n",
              "      height: 32px;\n",
              "      padding: 0 0 0 0;\n",
              "      width: 32px;\n",
              "    }\n",
              "\n",
              "    .colab-df-convert:hover {\n",
              "      background-color: #E2EBFA;\n",
              "      box-shadow: 0px 1px 2px rgba(60, 64, 67, 0.3), 0px 1px 3px 1px rgba(60, 64, 67, 0.15);\n",
              "      fill: #174EA6;\n",
              "    }\n",
              "\n",
              "    [theme=dark] .colab-df-convert {\n",
              "      background-color: #3B4455;\n",
              "      fill: #D2E3FC;\n",
              "    }\n",
              "\n",
              "    [theme=dark] .colab-df-convert:hover {\n",
              "      background-color: #434B5C;\n",
              "      box-shadow: 0px 1px 3px 1px rgba(0, 0, 0, 0.15);\n",
              "      filter: drop-shadow(0px 1px 2px rgba(0, 0, 0, 0.3));\n",
              "      fill: #FFFFFF;\n",
              "    }\n",
              "  </style>\n",
              "\n",
              "      <script>\n",
              "        const buttonEl =\n",
              "          document.querySelector('#df-89875b25-a6fd-429a-8b0d-97ad7c50edc0 button.colab-df-convert');\n",
              "        buttonEl.style.display =\n",
              "          google.colab.kernel.accessAllowed ? 'block' : 'none';\n",
              "\n",
              "        async function convertToInteractive(key) {\n",
              "          const element = document.querySelector('#df-89875b25-a6fd-429a-8b0d-97ad7c50edc0');\n",
              "          const dataTable =\n",
              "            await google.colab.kernel.invokeFunction('convertToInteractive',\n",
              "                                                     [key], {});\n",
              "          if (!dataTable) return;\n",
              "\n",
              "          const docLinkHtml = 'Like what you see? Visit the ' +\n",
              "            '<a target=\"_blank\" href=https://colab.research.google.com/notebooks/data_table.ipynb>data table notebook</a>'\n",
              "            + ' to learn more about interactive tables.';\n",
              "          element.innerHTML = '';\n",
              "          dataTable['output_type'] = 'display_data';\n",
              "          await google.colab.output.renderOutput(dataTable, element);\n",
              "          const docLink = document.createElement('div');\n",
              "          docLink.innerHTML = docLinkHtml;\n",
              "          element.appendChild(docLink);\n",
              "        }\n",
              "      </script>\n",
              "    </div>\n",
              "  </div>\n",
              "  "
            ]
          },
          "metadata": {},
          "execution_count": 9
        }
      ]
    },
    {
      "cell_type": "code",
      "source": [
        "df['date']=pd.to_datetime(df['date'])\n",
        "#del df['date']"
      ],
      "metadata": {
        "id": "bABFH7Kd4nBN"
      },
      "execution_count": 10,
      "outputs": []
    },
    {
      "cell_type": "code",
      "source": [
        "df.set_index('date', inplace=True)\n",
        "df.info()"
      ],
      "metadata": {
        "colab": {
          "base_uri": "https://localhost:8080/"
        },
        "id": "nZ-LB-rFdF5N",
        "outputId": "0024bf63-3193-4b99-de00-5c12e4daed1d"
      },
      "execution_count": 11,
      "outputs": [
        {
          "output_type": "stream",
          "name": "stdout",
          "text": [
            "<class 'pandas.core.frame.DataFrame'>\n",
            "DatetimeIndex: 124 entries, 2010-12-01 to 2021-03-01\n",
            "Data columns (total 7 columns):\n",
            " #   Column   Non-Null Count  Dtype  \n",
            "---  ------   --------------  -----  \n",
            " 0   cpo_pri  124 non-null    int64  \n",
            " 1   cno_pri  124 non-null    int64  \n",
            " 2   oli_pri  124 non-null    float64\n",
            " 3   rps_pri  124 non-null    float64\n",
            " 4   pno_pri  124 non-null    float64\n",
            " 5   sbo_pri  124 non-null    float64\n",
            " 6   sfo_pri  124 non-null    float64\n",
            "dtypes: float64(5), int64(2)\n",
            "memory usage: 7.8 KB\n"
          ]
        }
      ]
    },
    {
      "cell_type": "code",
      "source": [
        "df.head()"
      ],
      "metadata": {
        "colab": {
          "base_uri": "https://localhost:8080/",
          "height": 232
        },
        "id": "PLpdJChY4wex",
        "outputId": "ee2e7937-82e6-4c45-88d8-6adcec9414d6"
      },
      "execution_count": 12,
      "outputs": [
        {
          "output_type": "execute_result",
          "data": {
            "text/plain": [
              "            cpo_pri  cno_pri  oli_pri  rps_pri  pno_pri  sbo_pri  sfo_pri\n",
              "date                                                                     \n",
              "2010-12-01      323      455  3102.61   423.45    844.0    468.0    578.0\n",
              "2011-01-01      345      546  3100.45   415.85    799.0    485.0    557.0\n",
              "2011-02-01      362      595  3199.41   410.77    718.0    466.0    552.0\n",
              "2011-03-01      376      636  3281.67   414.82    614.0    442.0    574.0\n",
              "2011-04-01      383      738  3261.65   451.04    619.0    429.0    595.0"
            ],
            "text/html": [
              "\n",
              "  <div id=\"df-8f0dc39d-2f2e-47ea-a1f5-a9099880a75b\">\n",
              "    <div class=\"colab-df-container\">\n",
              "      <div>\n",
              "<style scoped>\n",
              "    .dataframe tbody tr th:only-of-type {\n",
              "        vertical-align: middle;\n",
              "    }\n",
              "\n",
              "    .dataframe tbody tr th {\n",
              "        vertical-align: top;\n",
              "    }\n",
              "\n",
              "    .dataframe thead th {\n",
              "        text-align: right;\n",
              "    }\n",
              "</style>\n",
              "<table border=\"1\" class=\"dataframe\">\n",
              "  <thead>\n",
              "    <tr style=\"text-align: right;\">\n",
              "      <th></th>\n",
              "      <th>cpo_pri</th>\n",
              "      <th>cno_pri</th>\n",
              "      <th>oli_pri</th>\n",
              "      <th>rps_pri</th>\n",
              "      <th>pno_pri</th>\n",
              "      <th>sbo_pri</th>\n",
              "      <th>sfo_pri</th>\n",
              "    </tr>\n",
              "    <tr>\n",
              "      <th>date</th>\n",
              "      <th></th>\n",
              "      <th></th>\n",
              "      <th></th>\n",
              "      <th></th>\n",
              "      <th></th>\n",
              "      <th></th>\n",
              "      <th></th>\n",
              "    </tr>\n",
              "  </thead>\n",
              "  <tbody>\n",
              "    <tr>\n",
              "      <th>2010-12-01</th>\n",
              "      <td>323</td>\n",
              "      <td>455</td>\n",
              "      <td>3102.61</td>\n",
              "      <td>423.45</td>\n",
              "      <td>844.0</td>\n",
              "      <td>468.0</td>\n",
              "      <td>578.0</td>\n",
              "    </tr>\n",
              "    <tr>\n",
              "      <th>2011-01-01</th>\n",
              "      <td>345</td>\n",
              "      <td>546</td>\n",
              "      <td>3100.45</td>\n",
              "      <td>415.85</td>\n",
              "      <td>799.0</td>\n",
              "      <td>485.0</td>\n",
              "      <td>557.0</td>\n",
              "    </tr>\n",
              "    <tr>\n",
              "      <th>2011-02-01</th>\n",
              "      <td>362</td>\n",
              "      <td>595</td>\n",
              "      <td>3199.41</td>\n",
              "      <td>410.77</td>\n",
              "      <td>718.0</td>\n",
              "      <td>466.0</td>\n",
              "      <td>552.0</td>\n",
              "    </tr>\n",
              "    <tr>\n",
              "      <th>2011-03-01</th>\n",
              "      <td>376</td>\n",
              "      <td>636</td>\n",
              "      <td>3281.67</td>\n",
              "      <td>414.82</td>\n",
              "      <td>614.0</td>\n",
              "      <td>442.0</td>\n",
              "      <td>574.0</td>\n",
              "    </tr>\n",
              "    <tr>\n",
              "      <th>2011-04-01</th>\n",
              "      <td>383</td>\n",
              "      <td>738</td>\n",
              "      <td>3261.65</td>\n",
              "      <td>451.04</td>\n",
              "      <td>619.0</td>\n",
              "      <td>429.0</td>\n",
              "      <td>595.0</td>\n",
              "    </tr>\n",
              "  </tbody>\n",
              "</table>\n",
              "</div>\n",
              "      <button class=\"colab-df-convert\" onclick=\"convertToInteractive('df-8f0dc39d-2f2e-47ea-a1f5-a9099880a75b')\"\n",
              "              title=\"Convert this dataframe to an interactive table.\"\n",
              "              style=\"display:none;\">\n",
              "        \n",
              "  <svg xmlns=\"http://www.w3.org/2000/svg\" height=\"24px\"viewBox=\"0 0 24 24\"\n",
              "       width=\"24px\">\n",
              "    <path d=\"M0 0h24v24H0V0z\" fill=\"none\"/>\n",
              "    <path d=\"M18.56 5.44l.94 2.06.94-2.06 2.06-.94-2.06-.94-.94-2.06-.94 2.06-2.06.94zm-11 1L8.5 8.5l.94-2.06 2.06-.94-2.06-.94L8.5 2.5l-.94 2.06-2.06.94zm10 10l.94 2.06.94-2.06 2.06-.94-2.06-.94-.94-2.06-.94 2.06-2.06.94z\"/><path d=\"M17.41 7.96l-1.37-1.37c-.4-.4-.92-.59-1.43-.59-.52 0-1.04.2-1.43.59L10.3 9.45l-7.72 7.72c-.78.78-.78 2.05 0 2.83L4 21.41c.39.39.9.59 1.41.59.51 0 1.02-.2 1.41-.59l7.78-7.78 2.81-2.81c.8-.78.8-2.07 0-2.86zM5.41 20L4 18.59l7.72-7.72 1.47 1.35L5.41 20z\"/>\n",
              "  </svg>\n",
              "      </button>\n",
              "      \n",
              "  <style>\n",
              "    .colab-df-container {\n",
              "      display:flex;\n",
              "      flex-wrap:wrap;\n",
              "      gap: 12px;\n",
              "    }\n",
              "\n",
              "    .colab-df-convert {\n",
              "      background-color: #E8F0FE;\n",
              "      border: none;\n",
              "      border-radius: 50%;\n",
              "      cursor: pointer;\n",
              "      display: none;\n",
              "      fill: #1967D2;\n",
              "      height: 32px;\n",
              "      padding: 0 0 0 0;\n",
              "      width: 32px;\n",
              "    }\n",
              "\n",
              "    .colab-df-convert:hover {\n",
              "      background-color: #E2EBFA;\n",
              "      box-shadow: 0px 1px 2px rgba(60, 64, 67, 0.3), 0px 1px 3px 1px rgba(60, 64, 67, 0.15);\n",
              "      fill: #174EA6;\n",
              "    }\n",
              "\n",
              "    [theme=dark] .colab-df-convert {\n",
              "      background-color: #3B4455;\n",
              "      fill: #D2E3FC;\n",
              "    }\n",
              "\n",
              "    [theme=dark] .colab-df-convert:hover {\n",
              "      background-color: #434B5C;\n",
              "      box-shadow: 0px 1px 3px 1px rgba(0, 0, 0, 0.15);\n",
              "      filter: drop-shadow(0px 1px 2px rgba(0, 0, 0, 0.3));\n",
              "      fill: #FFFFFF;\n",
              "    }\n",
              "  </style>\n",
              "\n",
              "      <script>\n",
              "        const buttonEl =\n",
              "          document.querySelector('#df-8f0dc39d-2f2e-47ea-a1f5-a9099880a75b button.colab-df-convert');\n",
              "        buttonEl.style.display =\n",
              "          google.colab.kernel.accessAllowed ? 'block' : 'none';\n",
              "\n",
              "        async function convertToInteractive(key) {\n",
              "          const element = document.querySelector('#df-8f0dc39d-2f2e-47ea-a1f5-a9099880a75b');\n",
              "          const dataTable =\n",
              "            await google.colab.kernel.invokeFunction('convertToInteractive',\n",
              "                                                     [key], {});\n",
              "          if (!dataTable) return;\n",
              "\n",
              "          const docLinkHtml = 'Like what you see? Visit the ' +\n",
              "            '<a target=\"_blank\" href=https://colab.research.google.com/notebooks/data_table.ipynb>data table notebook</a>'\n",
              "            + ' to learn more about interactive tables.';\n",
              "          element.innerHTML = '';\n",
              "          dataTable['output_type'] = 'display_data';\n",
              "          await google.colab.output.renderOutput(dataTable, element);\n",
              "          const docLink = document.createElement('div');\n",
              "          docLink.innerHTML = docLinkHtml;\n",
              "          element.appendChild(docLink);\n",
              "        }\n",
              "      </script>\n",
              "    </div>\n",
              "  </div>\n",
              "  "
            ]
          },
          "metadata": {},
          "execution_count": 12
        }
      ]
    },
    {
      "cell_type": "code",
      "source": [
        "# Plot an area chart\n",
        "plt.figure(figsize=(25,10))\n",
        "ax = df.plot.area(fontsize=12);\n",
        "\n",
        "# Additional customizations\n",
        "ax.set_xlabel('date');\n",
        "ax.legend(fontsize=12);"
      ],
      "metadata": {
        "colab": {
          "base_uri": "https://localhost:8080/",
          "height": 379
        },
        "id": "pnKg-SfY6j9g",
        "outputId": "1d04070f-8ea1-4bda-e271-c379ec1cf083"
      },
      "execution_count": 13,
      "outputs": [
        {
          "output_type": "display_data",
          "data": {
            "text/plain": [
              "<Figure size 1800x720 with 0 Axes>"
            ]
          },
          "metadata": {}
        },
        {
          "output_type": "display_data",
          "data": {
            "text/plain": [
              "<Figure size 720x360 with 1 Axes>"
            ],
            "image/png": "[encoded data removed]"
          },
          "metadata": {}
        }
      ]
    },
    {
      "cell_type": "markdown",
      "source": [
        "##**Convolutional Neural Network Forecasting Technique (CNN)**"
      ],
      "metadata": {
        "id": "dPoGjuS366Cc"
      }
    },
    {
      "cell_type": "markdown",
      "source": [
        "###**Split Data into Train Test Segments**"
      ],
      "metadata": {
        "id": "vFpT6OrD7KRv"
      }
    },
    {
      "cell_type": "code",
      "source": [
        "train_size = int(len(df) * 0.8)\n",
        "test_size = len(df) - train_size\n",
        "train, test = df.iloc[0:train_size], df.iloc[train_size:len(df)]\n",
        "print('Train size:',len(train))\n",
        "print('Test size:', len(test))"
      ],
      "metadata": {
        "colab": {
          "base_uri": "https://localhost:8080/"
        },
        "id": "nYZL-9Sy3xpJ",
        "outputId": "0562e3a8-62bf-4796-a565-bb6f1f222616"
      },
      "execution_count": 14,
      "outputs": [
        {
          "output_type": "stream",
          "name": "stdout",
          "text": [
            "Train size: 99\n",
            "Test size: 25\n"
          ]
        }
      ]
    },
    {
      "cell_type": "code",
      "source": [
        "train, test = df.iloc[0:train_size], df.iloc[train_size:len(df)]\n",
        "print(len(train), len(test))"
      ],
      "metadata": {
        "colab": {
          "base_uri": "https://localhost:8080/"
        },
        "id": "DGrD2nxFmNSu",
        "outputId": "665e3c1e-633a-468d-9c33-3595b04776da"
      },
      "execution_count": 15,
      "outputs": [
        {
          "output_type": "stream",
          "name": "stdout",
          "text": [
            "99 25\n"
          ]
        }
      ]
    },
    {
      "cell_type": "code",
      "source": [
        "print(train.shape)\n",
        "train.head()"
      ],
      "metadata": {
        "colab": {
          "base_uri": "https://localhost:8080/",
          "height": 248
        },
        "id": "QvbHy-5RmPuI",
        "outputId": "59dcc779-ce88-4add-e5c1-3bb94c2fdfc1"
      },
      "execution_count": 16,
      "outputs": [
        {
          "output_type": "stream",
          "name": "stdout",
          "text": [
            "(99, 7)\n"
          ]
        },
        {
          "output_type": "execute_result",
          "data": {
            "text/plain": [
              "            cpo_pri  cno_pri  oli_pri  rps_pri  pno_pri  sbo_pri  sfo_pri\n",
              "date                                                                     \n",
              "2010-12-01      323      455  3102.61   423.45    844.0    468.0    578.0\n",
              "2011-01-01      345      546  3100.45   415.85    799.0    485.0    557.0\n",
              "2011-02-01      362      595  3199.41   410.77    718.0    466.0    552.0\n",
              "2011-03-01      376      636  3281.67   414.82    614.0    442.0    574.0\n",
              "2011-04-01      383      738  3261.65   451.04    619.0    429.0    595.0"
            ],
            "text/html": [
              "\n",
              "  <div id=\"df-dd09b196-64cb-4b3f-aa97-4c0ab39f9d9f\">\n",
              "    <div class=\"colab-df-container\">\n",
              "      <div>\n",
              "<style scoped>\n",
              "    .dataframe tbody tr th:only-of-type {\n",
              "        vertical-align: middle;\n",
              "    }\n",
              "\n",
              "    .dataframe tbody tr th {\n",
              "        vertical-align: top;\n",
              "    }\n",
              "\n",
              "    .dataframe thead th {\n",
              "        text-align: right;\n",
              "    }\n",
              "</style>\n",
              "<table border=\"1\" class=\"dataframe\">\n",
              "  <thead>\n",
              "    <tr style=\"text-align: right;\">\n",
              "      <th></th>\n",
              "      <th>cpo_pri</th>\n",
              "      <th>cno_pri</th>\n",
              "      <th>oli_pri</th>\n",
              "      <th>rps_pri</th>\n",
              "      <th>pno_pri</th>\n",
              "      <th>sbo_pri</th>\n",
              "      <th>sfo_pri</th>\n",
              "    </tr>\n",
              "    <tr>\n",
              "      <th>date</th>\n",
              "      <th></th>\n",
              "      <th></th>\n",
              "      <th></th>\n",
              "      <th></th>\n",
              "      <th></th>\n",
              "      <th></th>\n",
              "      <th></th>\n",
              "    </tr>\n",
              "  </thead>\n",
              "  <tbody>\n",
              "    <tr>\n",
              "      <th>2010-12-01</th>\n",
              "      <td>323</td>\n",
              "      <td>455</td>\n",
              "      <td>3102.61</td>\n",
              "      <td>423.45</td>\n",
              "      <td>844.0</td>\n",
              "      <td>468.0</td>\n",
              "      <td>578.0</td>\n",
              "    </tr>\n",
              "    <tr>\n",
              "      <th>2011-01-01</th>\n",
              "      <td>345</td>\n",
              "      <td>546</td>\n",
              "      <td>3100.45</td>\n",
              "      <td>415.85</td>\n",
              "      <td>799.0</td>\n",
              "      <td>485.0</td>\n",
              "      <td>557.0</td>\n",
              "    </tr>\n",
              "    <tr>\n",
              "      <th>2011-02-01</th>\n",
              "      <td>362</td>\n",
              "      <td>595</td>\n",
              "      <td>3199.41</td>\n",
              "      <td>410.77</td>\n",
              "      <td>718.0</td>\n",
              "      <td>466.0</td>\n",
              "      <td>552.0</td>\n",
              "    </tr>\n",
              "    <tr>\n",
              "      <th>2011-03-01</th>\n",
              "      <td>376</td>\n",
              "      <td>636</td>\n",
              "      <td>3281.67</td>\n",
              "      <td>414.82</td>\n",
              "      <td>614.0</td>\n",
              "      <td>442.0</td>\n",
              "      <td>574.0</td>\n",
              "    </tr>\n",
              "    <tr>\n",
              "      <th>2011-04-01</th>\n",
              "      <td>383</td>\n",
              "      <td>738</td>\n",
              "      <td>3261.65</td>\n",
              "      <td>451.04</td>\n",
              "      <td>619.0</td>\n",
              "      <td>429.0</td>\n",
              "      <td>595.0</td>\n",
              "    </tr>\n",
              "  </tbody>\n",
              "</table>\n",
              "</div>\n",
              "      <button class=\"colab-df-convert\" onclick=\"convertToInteractive('df-dd09b196-64cb-4b3f-aa97-4c0ab39f9d9f')\"\n",
              "              title=\"Convert this dataframe to an interactive table.\"\n",
              "              style=\"display:none;\">\n",
              "        \n",
              "  <svg xmlns=\"http://www.w3.org/2000/svg\" height=\"24px\"viewBox=\"0 0 24 24\"\n",
              "       width=\"24px\">\n",
              "    <path d=\"M0 0h24v24H0V0z\" fill=\"none\"/>\n",
              "    <path d=\"M18.56 5.44l.94 2.06.94-2.06 2.06-.94-2.06-.94-.94-2.06-.94 2.06-2.06.94zm-11 1L8.5 8.5l.94-2.06 2.06-.94-2.06-.94L8.5 2.5l-.94 2.06-2.06.94zm10 10l.94 2.06.94-2.06 2.06-.94-2.06-.94-.94-2.06-.94 2.06-2.06.94z\"/><path d=\"M17.41 7.96l-1.37-1.37c-.4-.4-.92-.59-1.43-.59-.52 0-1.04.2-1.43.59L10.3 9.45l-7.72 7.72c-.78.78-.78 2.05 0 2.83L4 21.41c.39.39.9.59 1.41.59.51 0 1.02-.2 1.41-.59l7.78-7.78 2.81-2.81c.8-.78.8-2.07 0-2.86zM5.41 20L4 18.59l7.72-7.72 1.47 1.35L5.41 20z\"/>\n",
              "  </svg>\n",
              "      </button>\n",
              "      \n",
              "  <style>\n",
              "    .colab-df-container {\n",
              "      display:flex;\n",
              "      flex-wrap:wrap;\n",
              "      gap: 12px;\n",
              "    }\n",
              "\n",
              "    .colab-df-convert {\n",
              "      background-color: #E8F0FE;\n",
              "      border: none;\n",
              "      border-radius: 50%;\n",
              "      cursor: pointer;\n",
              "      display: none;\n",
              "      fill: #1967D2;\n",
              "      height: 32px;\n",
              "      padding: 0 0 0 0;\n",
              "      width: 32px;\n",
              "    }\n",
              "\n",
              "    .colab-df-convert:hover {\n",
              "      background-color: #E2EBFA;\n",
              "      box-shadow: 0px 1px 2px rgba(60, 64, 67, 0.3), 0px 1px 3px 1px rgba(60, 64, 67, 0.15);\n",
              "      fill: #174EA6;\n",
              "    }\n",
              "\n",
              "    [theme=dark] .colab-df-convert {\n",
              "      background-color: #3B4455;\n",
              "      fill: #D2E3FC;\n",
              "    }\n",
              "\n",
              "    [theme=dark] .colab-df-convert:hover {\n",
              "      background-color: #434B5C;\n",
              "      box-shadow: 0px 1px 3px 1px rgba(0, 0, 0, 0.15);\n",
              "      filter: drop-shadow(0px 1px 2px rgba(0, 0, 0, 0.3));\n",
              "      fill: #FFFFFF;\n",
              "    }\n",
              "  </style>\n",
              "\n",
              "      <script>\n",
              "        const buttonEl =\n",
              "          document.querySelector('#df-dd09b196-64cb-4b3f-aa97-4c0ab39f9d9f button.colab-df-convert');\n",
              "        buttonEl.style.display =\n",
              "          google.colab.kernel.accessAllowed ? 'block' : 'none';\n",
              "\n",
              "        async function convertToInteractive(key) {\n",
              "          const element = document.querySelector('#df-dd09b196-64cb-4b3f-aa97-4c0ab39f9d9f');\n",
              "          const dataTable =\n",
              "            await google.colab.kernel.invokeFunction('convertToInteractive',\n",
              "                                                     [key], {});\n",
              "          if (!dataTable) return;\n",
              "\n",
              "          const docLinkHtml = 'Like what you see? Visit the ' +\n",
              "            '<a target=\"_blank\" href=https://colab.research.google.com/notebooks/data_table.ipynb>data table notebook</a>'\n",
              "            + ' to learn more about interactive tables.';\n",
              "          element.innerHTML = '';\n",
              "          dataTable['output_type'] = 'display_data';\n",
              "          await google.colab.output.renderOutput(dataTable, element);\n",
              "          const docLink = document.createElement('div');\n",
              "          docLink.innerHTML = docLinkHtml;\n",
              "          element.appendChild(docLink);\n",
              "        }\n",
              "      </script>\n",
              "    </div>\n",
              "  </div>\n",
              "  "
            ]
          },
          "metadata": {},
          "execution_count": 16
        }
      ]
    },
    {
      "cell_type": "markdown",
      "source": [
        "###Rescaling Training Data"
      ],
      "metadata": {
        "id": "Z5F4OyT2mwRs"
      }
    },
    {
      "cell_type": "code",
      "source": [
        "f_transformer = MinMaxScaler()\n",
        "feature_columns = ['cno_pri', 'oli_pri', 'rps_pri', 'pno_pri', 'sbo_pri', 'sfo_pri']\n",
        "f_transformer = f_transformer.fit(train[feature_columns].to_numpy())\n",
        "train.loc[:, feature_columns] = f_transformer.transform(train[feature_columns].to_numpy())\n",
        "train.head()"
      ],
      "metadata": {
        "colab": {
          "base_uri": "https://localhost:8080/",
          "height": 232
        },
        "id": "Lg-AQuNBmvZK",
        "outputId": "bd80ea3d-bd67-4d76-a80d-28626857948c"
      },
      "execution_count": 17,
      "outputs": [
        {
          "output_type": "execute_result",
          "data": {
            "text/plain": [
              "            cpo_pri   cno_pri   oli_pri   rps_pri   pno_pri   sbo_pri  \\\n",
              "date                                                                    \n",
              "2010-12-01      323  0.112288  0.140918  0.010736  0.528090  0.253193   \n",
              "2011-01-01      345  0.305085  0.140327  0.004301  0.443820  0.306536   \n",
              "2011-02-01      362  0.408898  0.167408  0.000000  0.292135  0.246917   \n",
              "2011-03-01      376  0.495763  0.189919  0.003429  0.097378  0.171609   \n",
              "2011-04-01      383  0.711864  0.184440  0.034095  0.106742  0.130817   \n",
              "\n",
              "             sfo_pri  \n",
              "date                  \n",
              "2010-12-01  0.023302  \n",
              "2011-01-01  0.009321  \n",
              "2011-02-01  0.005992  \n",
              "2011-03-01  0.020639  \n",
              "2011-04-01  0.034621  "
            ],
            "text/html": [
              "\n",
              "  <div id=\"df-2c6b9043-821f-4ebe-a79f-0f1ad2aa1178\">\n",
              "    <div class=\"colab-df-container\">\n",
              "      <div>\n",
              "<style scoped>\n",
              "    .dataframe tbody tr th:only-of-type {\n",
              "        vertical-align: middle;\n",
              "    }\n",
              "\n",
              "    .dataframe tbody tr th {\n",
              "        vertical-align: top;\n",
              "    }\n",
              "\n",
              "    .dataframe thead th {\n",
              "        text-align: right;\n",
              "    }\n",
              "</style>\n",
              "<table border=\"1\" class=\"dataframe\">\n",
              "  <thead>\n",
              "    <tr style=\"text-align: right;\">\n",
              "      <th></th>\n",
              "      <th>cpo_pri</th>\n",
              "      <th>cno_pri</th>\n",
              "      <th>oli_pri</th>\n",
              "      <th>rps_pri</th>\n",
              "      <th>pno_pri</th>\n",
              "      <th>sbo_pri</th>\n",
              "      <th>sfo_pri</th>\n",
              "    </tr>\n",
              "    <tr>\n",
              "      <th>date</th>\n",
              "      <th></th>\n",
              "      <th></th>\n",
              "      <th></th>\n",
              "      <th></th>\n",
              "      <th></th>\n",
              "      <th></th>\n",
              "      <th></th>\n",
              "    </tr>\n",
              "  </thead>\n",
              "  <tbody>\n",
              "    <tr>\n",
              "      <th>2010-12-01</th>\n",
              "      <td>323</td>\n",
              "      <td>0.112288</td>\n",
              "      <td>0.140918</td>\n",
              "      <td>0.010736</td>\n",
              "      <td>0.528090</td>\n",
              "      <td>0.253193</td>\n",
              "      <td>0.023302</td>\n",
              "    </tr>\n",
              "    <tr>\n",
              "      <th>2011-01-01</th>\n",
              "      <td>345</td>\n",
              "      <td>0.305085</td>\n",
              "      <td>0.140327</td>\n",
              "      <td>0.004301</td>\n",
              "      <td>0.443820</td>\n",
              "      <td>0.306536</td>\n",
              "      <td>0.009321</td>\n",
              "    </tr>\n",
              "    <tr>\n",
              "      <th>2011-02-01</th>\n",
              "      <td>362</td>\n",
              "      <td>0.408898</td>\n",
              "      <td>0.167408</td>\n",
              "      <td>0.000000</td>\n",
              "      <td>0.292135</td>\n",
              "      <td>0.246917</td>\n",
              "      <td>0.005992</td>\n",
              "    </tr>\n",
              "    <tr>\n",
              "      <th>2011-03-01</th>\n",
              "      <td>376</td>\n",
              "      <td>0.495763</td>\n",
              "      <td>0.189919</td>\n",
              "      <td>0.003429</td>\n",
              "      <td>0.097378</td>\n",
              "      <td>0.171609</td>\n",
              "      <td>0.020639</td>\n",
              "    </tr>\n",
              "    <tr>\n",
              "      <th>2011-04-01</th>\n",
              "      <td>383</td>\n",
              "      <td>0.711864</td>\n",
              "      <td>0.184440</td>\n",
              "      <td>0.034095</td>\n",
              "      <td>0.106742</td>\n",
              "      <td>0.130817</td>\n",
              "      <td>0.034621</td>\n",
              "    </tr>\n",
              "  </tbody>\n",
              "</table>\n",
              "</div>\n",
              "      <button class=\"colab-df-convert\" onclick=\"convertToInteractive('df-2c6b9043-821f-4ebe-a79f-0f1ad2aa1178')\"\n",
              "              title=\"Convert this dataframe to an interactive table.\"\n",
              "              style=\"display:none;\">\n",
              "        \n",
              "  <svg xmlns=\"http://www.w3.org/2000/svg\" height=\"24px\"viewBox=\"0 0 24 24\"\n",
              "       width=\"24px\">\n",
              "    <path d=\"M0 0h24v24H0V0z\" fill=\"none\"/>\n",
              "    <path d=\"M18.56 5.44l.94 2.06.94-2.06 2.06-.94-2.06-.94-.94-2.06-.94 2.06-2.06.94zm-11 1L8.5 8.5l.94-2.06 2.06-.94-2.06-.94L8.5 2.5l-.94 2.06-2.06.94zm10 10l.94 2.06.94-2.06 2.06-.94-2.06-.94-.94-2.06-.94 2.06-2.06.94z\"/><path d=\"M17.41 7.96l-1.37-1.37c-.4-.4-.92-.59-1.43-.59-.52 0-1.04.2-1.43.59L10.3 9.45l-7.72 7.72c-.78.78-.78 2.05 0 2.83L4 21.41c.39.39.9.59 1.41.59.51 0 1.02-.2 1.41-.59l7.78-7.78 2.81-2.81c.8-.78.8-2.07 0-2.86zM5.41 20L4 18.59l7.72-7.72 1.47 1.35L5.41 20z\"/>\n",
              "  </svg>\n",
              "      </button>\n",
              "      \n",
              "  <style>\n",
              "    .colab-df-container {\n",
              "      display:flex;\n",
              "      flex-wrap:wrap;\n",
              "      gap: 12px;\n",
              "    }\n",
              "\n",
              "    .colab-df-convert {\n",
              "      background-color: #E8F0FE;\n",
              "      border: none;\n",
              "      border-radius: 50%;\n",
              "      cursor: pointer;\n",
              "      display: none;\n",
              "      fill: #1967D2;\n",
              "      height: 32px;\n",
              "      padding: 0 0 0 0;\n",
              "      width: 32px;\n",
              "    }\n",
              "\n",
              "    .colab-df-convert:hover {\n",
              "      background-color: #E2EBFA;\n",
              "      box-shadow: 0px 1px 2px rgba(60, 64, 67, 0.3), 0px 1px 3px 1px rgba(60, 64, 67, 0.15);\n",
              "      fill: #174EA6;\n",
              "    }\n",
              "\n",
              "    [theme=dark] .colab-df-convert {\n",
              "      background-color: #3B4455;\n",
              "      fill: #D2E3FC;\n",
              "    }\n",
              "\n",
              "    [theme=dark] .colab-df-convert:hover {\n",
              "      background-color: #434B5C;\n",
              "      box-shadow: 0px 1px 3px 1px rgba(0, 0, 0, 0.15);\n",
              "      filter: drop-shadow(0px 1px 2px rgba(0, 0, 0, 0.3));\n",
              "      fill: #FFFFFF;\n",
              "    }\n",
              "  </style>\n",
              "\n",
              "      <script>\n",
              "        const buttonEl =\n",
              "          document.querySelector('#df-2c6b9043-821f-4ebe-a79f-0f1ad2aa1178 button.colab-df-convert');\n",
              "        buttonEl.style.display =\n",
              "          google.colab.kernel.accessAllowed ? 'block' : 'none';\n",
              "\n",
              "        async function convertToInteractive(key) {\n",
              "          const element = document.querySelector('#df-2c6b9043-821f-4ebe-a79f-0f1ad2aa1178');\n",
              "          const dataTable =\n",
              "            await google.colab.kernel.invokeFunction('convertToInteractive',\n",
              "                                                     [key], {});\n",
              "          if (!dataTable) return;\n",
              "\n",
              "          const docLinkHtml = 'Like what you see? Visit the ' +\n",
              "            '<a target=\"_blank\" href=https://colab.research.google.com/notebooks/data_table.ipynb>data table notebook</a>'\n",
              "            + ' to learn more about interactive tables.';\n",
              "          element.innerHTML = '';\n",
              "          dataTable['output_type'] = 'display_data';\n",
              "          await google.colab.output.renderOutput(dataTable, element);\n",
              "          const docLink = document.createElement('div');\n",
              "          docLink.innerHTML = docLinkHtml;\n",
              "          element.appendChild(docLink);\n",
              "        }\n",
              "      </script>\n",
              "    </div>\n",
              "  </div>\n",
              "  "
            ]
          },
          "metadata": {},
          "execution_count": 17
        }
      ]
    },
    {
      "cell_type": "code",
      "source": [
        "cpo_pri_transformer = MinMaxScaler()\n",
        "cpo_pri_transformer = cpo_pri_transformer.fit(train[['cpo_pri']])\n",
        "train['cpo_pri'] = cpo_pri_transformer.transform(train[['cpo_pri']])\n",
        "train['cpo_pri'].head()"
      ],
      "metadata": {
        "colab": {
          "base_uri": "https://localhost:8080/"
        },
        "id": "XNkE4gN9nJLt",
        "outputId": "e52c244d-a909-4519-c09e-b0bcbaf38cf4"
      },
      "execution_count": 18,
      "outputs": [
        {
          "output_type": "execute_result",
          "data": {
            "text/plain": [
              "date\n",
              "2010-12-01    0.0100\n",
              "2011-01-01    0.0650\n",
              "2011-02-01    0.1075\n",
              "2011-03-01    0.1425\n",
              "2011-04-01    0.1600\n",
              "Name: cpo_pri, dtype: float64"
            ]
          },
          "metadata": {},
          "execution_count": 18
        }
      ]
    },
    {
      "cell_type": "code",
      "source": [
        "test.loc[:, feature_columns] = f_transformer.transform(test[feature_columns].to_numpy())\n",
        "test.head()"
      ],
      "metadata": {
        "colab": {
          "base_uri": "https://localhost:8080/",
          "height": 232
        },
        "id": "aouQuJG5n6k8",
        "outputId": "afdb0cdf-5a6e-403b-e6c2-cc32462b11a0"
      },
      "execution_count": 19,
      "outputs": [
        {
          "output_type": "execute_result",
          "data": {
            "text/plain": [
              "            cpo_pri   cno_pri   oli_pri   rps_pri   pno_pri   sbo_pri  \\\n",
              "date                                                                    \n",
              "2019-03-01      354  0.637712  0.194855  0.382454  0.381292 -0.039662   \n",
              "2019-04-01      348  0.533898  0.264388  0.393951  0.213633 -0.054975   \n",
              "2019-05-01      332  0.400424  0.246417  0.453802  0.235262 -0.092159   \n",
              "2019-06-01      349  0.317797  0.234308  0.509834  0.320749 -0.074743   \n",
              "2019-07-01      372  0.313559  0.223422  0.526454  0.426610 -0.066114   \n",
              "\n",
              "             sfo_pri  \n",
              "date                  \n",
              "2019-03-01  0.493342  \n",
              "2019-04-01  0.597870  \n",
              "2019-05-01  0.606525  \n",
              "2019-06-01  0.631824  \n",
              "2019-07-01  0.773462  "
            ],
            "text/html": [
              "\n",
              "  <div id=\"df-a744a2a6-485e-46ef-9880-98532e69227f\">\n",
              "    <div class=\"colab-df-container\">\n",
              "      <div>\n",
              "<style scoped>\n",
              "    .dataframe tbody tr th:only-of-type {\n",
              "        vertical-align: middle;\n",
              "    }\n",
              "\n",
              "    .dataframe tbody tr th {\n",
              "        vertical-align: top;\n",
              "    }\n",
              "\n",
              "    .dataframe thead th {\n",
              "        text-align: right;\n",
              "    }\n",
              "</style>\n",
              "<table border=\"1\" class=\"dataframe\">\n",
              "  <thead>\n",
              "    <tr style=\"text-align: right;\">\n",
              "      <th></th>\n",
              "      <th>cpo_pri</th>\n",
              "      <th>cno_pri</th>\n",
              "      <th>oli_pri</th>\n",
              "      <th>rps_pri</th>\n",
              "      <th>pno_pri</th>\n",
              "      <th>sbo_pri</th>\n",
              "      <th>sfo_pri</th>\n",
              "    </tr>\n",
              "    <tr>\n",
              "      <th>date</th>\n",
              "      <th></th>\n",
              "      <th></th>\n",
              "      <th></th>\n",
              "      <th></th>\n",
              "      <th></th>\n",
              "      <th></th>\n",
              "      <th></th>\n",
              "    </tr>\n",
              "  </thead>\n",
              "  <tbody>\n",
              "    <tr>\n",
              "      <th>2019-03-01</th>\n",
              "      <td>354</td>\n",
              "      <td>0.637712</td>\n",
              "      <td>0.194855</td>\n",
              "      <td>0.382454</td>\n",
              "      <td>0.381292</td>\n",
              "      <td>-0.039662</td>\n",
              "      <td>0.493342</td>\n",
              "    </tr>\n",
              "    <tr>\n",
              "      <th>2019-04-01</th>\n",
              "      <td>348</td>\n",
              "      <td>0.533898</td>\n",
              "      <td>0.264388</td>\n",
              "      <td>0.393951</td>\n",
              "      <td>0.213633</td>\n",
              "      <td>-0.054975</td>\n",
              "      <td>0.597870</td>\n",
              "    </tr>\n",
              "    <tr>\n",
              "      <th>2019-05-01</th>\n",
              "      <td>332</td>\n",
              "      <td>0.400424</td>\n",
              "      <td>0.246417</td>\n",
              "      <td>0.453802</td>\n",
              "      <td>0.235262</td>\n",
              "      <td>-0.092159</td>\n",
              "      <td>0.606525</td>\n",
              "    </tr>\n",
              "    <tr>\n",
              "      <th>2019-06-01</th>\n",
              "      <td>349</td>\n",
              "      <td>0.317797</td>\n",
              "      <td>0.234308</td>\n",
              "      <td>0.509834</td>\n",
              "      <td>0.320749</td>\n",
              "      <td>-0.074743</td>\n",
              "      <td>0.631824</td>\n",
              "    </tr>\n",
              "    <tr>\n",
              "      <th>2019-07-01</th>\n",
              "      <td>372</td>\n",
              "      <td>0.313559</td>\n",
              "      <td>0.223422</td>\n",
              "      <td>0.526454</td>\n",
              "      <td>0.426610</td>\n",
              "      <td>-0.066114</td>\n",
              "      <td>0.773462</td>\n",
              "    </tr>\n",
              "  </tbody>\n",
              "</table>\n",
              "</div>\n",
              "      <button class=\"colab-df-convert\" onclick=\"convertToInteractive('df-a744a2a6-485e-46ef-9880-98532e69227f')\"\n",
              "              title=\"Convert this dataframe to an interactive table.\"\n",
              "              style=\"display:none;\">\n",
              "        \n",
              "  <svg xmlns=\"http://www.w3.org/2000/svg\" height=\"24px\"viewBox=\"0 0 24 24\"\n",
              "       width=\"24px\">\n",
              "    <path d=\"M0 0h24v24H0V0z\" fill=\"none\"/>\n",
              "    <path d=\"M18.56 5.44l.94 2.06.94-2.06 2.06-.94-2.06-.94-.94-2.06-.94 2.06-2.06.94zm-11 1L8.5 8.5l.94-2.06 2.06-.94-2.06-.94L8.5 2.5l-.94 2.06-2.06.94zm10 10l.94 2.06.94-2.06 2.06-.94-2.06-.94-.94-2.06-.94 2.06-2.06.94z\"/><path d=\"M17.41 7.96l-1.37-1.37c-.4-.4-.92-.59-1.43-.59-.52 0-1.04.2-1.43.59L10.3 9.45l-7.72 7.72c-.78.78-.78 2.05 0 2.83L4 21.41c.39.39.9.59 1.41.59.51 0 1.02-.2 1.41-.59l7.78-7.78 2.81-2.81c.8-.78.8-2.07 0-2.86zM5.41 20L4 18.59l7.72-7.72 1.47 1.35L5.41 20z\"/>\n",
              "  </svg>\n",
              "      </button>\n",
              "      \n",
              "  <style>\n",
              "    .colab-df-container {\n",
              "      display:flex;\n",
              "      flex-wrap:wrap;\n",
              "      gap: 12px;\n",
              "    }\n",
              "\n",
              "    .colab-df-convert {\n",
              "      background-color: #E8F0FE;\n",
              "      border: none;\n",
              "      border-radius: 50%;\n",
              "      cursor: pointer;\n",
              "      display: none;\n",
              "      fill: #1967D2;\n",
              "      height: 32px;\n",
              "      padding: 0 0 0 0;\n",
              "      width: 32px;\n",
              "    }\n",
              "\n",
              "    .colab-df-convert:hover {\n",
              "      background-color: #E2EBFA;\n",
              "      box-shadow: 0px 1px 2px rgba(60, 64, 67, 0.3), 0px 1px 3px 1px rgba(60, 64, 67, 0.15);\n",
              "      fill: #174EA6;\n",
              "    }\n",
              "\n",
              "    [theme=dark] .colab-df-convert {\n",
              "      background-color: #3B4455;\n",
              "      fill: #D2E3FC;\n",
              "    }\n",
              "\n",
              "    [theme=dark] .colab-df-convert:hover {\n",
              "      background-color: #434B5C;\n",
              "      box-shadow: 0px 1px 3px 1px rgba(0, 0, 0, 0.15);\n",
              "      filter: drop-shadow(0px 1px 2px rgba(0, 0, 0, 0.3));\n",
              "      fill: #FFFFFF;\n",
              "    }\n",
              "  </style>\n",
              "\n",
              "      <script>\n",
              "        const buttonEl =\n",
              "          document.querySelector('#df-a744a2a6-485e-46ef-9880-98532e69227f button.colab-df-convert');\n",
              "        buttonEl.style.display =\n",
              "          google.colab.kernel.accessAllowed ? 'block' : 'none';\n",
              "\n",
              "        async function convertToInteractive(key) {\n",
              "          const element = document.querySelector('#df-a744a2a6-485e-46ef-9880-98532e69227f');\n",
              "          const dataTable =\n",
              "            await google.colab.kernel.invokeFunction('convertToInteractive',\n",
              "                                                     [key], {});\n",
              "          if (!dataTable) return;\n",
              "\n",
              "          const docLinkHtml = 'Like what you see? Visit the ' +\n",
              "            '<a target=\"_blank\" href=https://colab.research.google.com/notebooks/data_table.ipynb>data table notebook</a>'\n",
              "            + ' to learn more about interactive tables.';\n",
              "          element.innerHTML = '';\n",
              "          dataTable['output_type'] = 'display_data';\n",
              "          await google.colab.output.renderOutput(dataTable, element);\n",
              "          const docLink = document.createElement('div');\n",
              "          docLink.innerHTML = docLinkHtml;\n",
              "          element.appendChild(docLink);\n",
              "        }\n",
              "      </script>\n",
              "    </div>\n",
              "  </div>\n",
              "  "
            ]
          },
          "metadata": {},
          "execution_count": 19
        }
      ]
    },
    {
      "cell_type": "code",
      "source": [
        "test['cpo_pri'] = cpo_pri_transformer.transform(test[['cpo_pri']])\n",
        "test['cpo_pri'].head()"
      ],
      "metadata": {
        "colab": {
          "base_uri": "https://localhost:8080/"
        },
        "id": "GXgFSrz3n6o5",
        "outputId": "671e497f-c366-4124-edd3-4572675b4f8c"
      },
      "execution_count": 20,
      "outputs": [
        {
          "output_type": "execute_result",
          "data": {
            "text/plain": [
              "date\n",
              "2019-03-01    0.0875\n",
              "2019-04-01    0.0725\n",
              "2019-05-01    0.0325\n",
              "2019-06-01    0.0750\n",
              "2019-07-01    0.1325\n",
              "Name: cpo_pri, dtype: float64"
            ]
          },
          "metadata": {},
          "execution_count": 20
        }
      ]
    },
    {
      "cell_type": "markdown",
      "source": [
        "###Create X_train, y_train, X_test and y_test"
      ],
      "metadata": {
        "id": "p_2s3AO-ohCD"
      }
    },
    {
      "cell_type": "code",
      "source": [
        "def createDataset(X, y, time_steps):\n",
        "    Xs, ys = [], []\n",
        "    for i in range(len(X) - time_steps):\n",
        "        data = X.iloc[i:(i + time_steps)].values\n",
        "        Xs.append(data)        \n",
        "        ys.append(y.iloc[i + time_steps])\n",
        "        \n",
        "    return np.array(Xs), np.array(ys)\n",
        "\n",
        "time_steps = 3\n",
        "X_train, y_train = createDataset(train, train.cpo_pri, time_steps)\n",
        "X_test, y_test = createDataset(test, test.cpo_pri, time_steps)\n",
        "print(X_train.shape, y_train.shape)"
      ],
      "metadata": {
        "colab": {
          "base_uri": "https://localhost:8080/"
        },
        "id": "fGTyTKiYoJIb",
        "outputId": "c4f02b3b-7e88-4caf-e522-2ff3675b44c6"
      },
      "execution_count": 57,
      "outputs": [
        {
          "output_type": "stream",
          "name": "stdout",
          "text": [
            "(96, 3, 7) (96,)\n"
          ]
        }
      ]
    },
    {
      "cell_type": "code",
      "source": [
        "#test_lag = test[1:23]\n",
        "#len(test) - 1"
      ],
      "metadata": {
        "id": "dt_elxfcLh_b"
      },
      "execution_count": null,
      "outputs": []
    },
    {
      "cell_type": "code",
      "source": [
        "#decrement naturally.\n",
        "#shifted = test.set_index([\"date\"]).unstack().shift(3).stack()"
      ],
      "metadata": {
        "id": "BqpvIj_hKO30"
      },
      "execution_count": null,
      "outputs": []
    },
    {
      "cell_type": "code",
      "source": [
        "cnn_model = tf.keras.Sequential()\n",
        "cnn_model.add(tf.keras.layers.Conv1D(filters=64, kernel_size=2, activation='tanh', input_shape=(X_test.shape[1], X_test.shape[2])))\n",
        "cnn_model.add(tf.keras.layers.MaxPooling1D(pool_size=2))\n",
        "cnn_model.add(tf.keras.layers.Flatten())\n",
        "cnn_model.add(tf.keras.layers.Dense(64, activation='tanh'))\n",
        "cnn_model.add(tf.keras.layers.Dense(1, 'linear'))\n",
        "\n",
        "# compile model using adam\n",
        "cnn_model.compile(optimizer='adam',loss='mse',metrics=['mse'])\n",
        "# model training\n",
        "history = cnn_model.fit(X_train, y_train, epochs=300, batch_size = 128, validation_split=0.2) #epochs = 30, batch_size = 60\n",
        "\n",
        "# model evaluation\n",
        "cnn_model.evaluate(X_test, y_test)\n",
        "\n",
        "\n",
        "#cnn_model.compile(loss='mse', optimizer='adam')\n",
        "#cnn_model.summary()\n",
        "#bst -> epochs = 300, batch_size = 128, RMSE = 32\n",
        "#bst -> epochs = 350, batch_size = 100, RMSE = 36\n",
        "#bst -> epochs = 400, batch_size = 128, RMSE = 39"
      ],
      "metadata": {
        "id": "EkQPUIAQOvX9",
        "outputId": "3b5c1f85-4573-4329-a4d5-8a2dc5164bb0",
        "colab": {
          "base_uri": "https://localhost:8080/"
        }
      },
      "execution_count": 64,
      "outputs": [
        {
          "output_type": "stream",
          "name": "stdout",
          "text": [
            "Epoch 1/300\n",
            "1/1 [==============================] - 1s 593ms/step - loss: 0.3976 - mse: 0.3976 - val_loss: 0.2252 - val_mse: 0.2252\n",
            "Epoch 2/300\n",
            "1/1 [==============================] - 0s 27ms/step - loss: 0.2199 - mse: 0.2199 - val_loss: 0.1040 - val_mse: 0.1040\n",
            "Epoch 3/300\n",
            "1/1 [==============================] - 0s 25ms/step - loss: 0.0990 - mse: 0.0990 - val_loss: 0.0455 - val_mse: 0.0455\n",
            "Epoch 4/300\n",
            "1/1 [==============================] - 0s 44ms/step - loss: 0.0331 - mse: 0.0331 - val_loss: 0.0417 - val_mse: 0.0417\n",
            "Epoch 5/300\n",
            "1/1 [==============================] - 0s 27ms/step - loss: 0.0157 - mse: 0.0157 - val_loss: 0.0750 - val_mse: 0.0750\n",
            "Epoch 6/300\n",
            "1/1 [==============================] - 0s 26ms/step - loss: 0.0327 - mse: 0.0327 - val_loss: 0.1188 - val_mse: 0.1188\n",
            "Epoch 7/300\n",
            "1/1 [==============================] - 0s 33ms/step - loss: 0.0624 - mse: 0.0624 - val_loss: 0.1499 - val_mse: 0.1499\n",
            "Epoch 8/300\n",
            "1/1 [==============================] - 0s 28ms/step - loss: 0.0850 - mse: 0.0850 - val_loss: 0.1585 - val_mse: 0.1585\n",
            "Epoch 9/300\n",
            "1/1 [==============================] - 0s 26ms/step - loss: 0.0917 - mse: 0.0917 - val_loss: 0.1470 - val_mse: 0.1470\n",
            "Epoch 10/300\n",
            "1/1 [==============================] - 0s 25ms/step - loss: 0.0835 - mse: 0.0835 - val_loss: 0.1230 - val_mse: 0.1230\n",
            "Epoch 11/300\n",
            "1/1 [==============================] - 0s 27ms/step - loss: 0.0661 - mse: 0.0661 - val_loss: 0.0949 - val_mse: 0.0949\n",
            "Epoch 12/300\n",
            "1/1 [==============================] - 0s 24ms/step - loss: 0.0460 - mse: 0.0460 - val_loss: 0.0694 - val_mse: 0.0694\n",
            "Epoch 13/300\n",
            "1/1 [==============================] - 0s 26ms/step - loss: 0.0286 - mse: 0.0286 - val_loss: 0.0507 - val_mse: 0.0507\n",
            "Epoch 14/300\n",
            "1/1 [==============================] - 0s 27ms/step - loss: 0.0170 - mse: 0.0170 - val_loss: 0.0403 - val_mse: 0.0403\n",
            "Epoch 15/300\n",
            "1/1 [==============================] - 0s 26ms/step - loss: 0.0122 - mse: 0.0122 - val_loss: 0.0374 - val_mse: 0.0374\n",
            "Epoch 16/300\n",
            "1/1 [==============================] - 0s 27ms/step - loss: 0.0132 - mse: 0.0132 - val_loss: 0.0397 - val_mse: 0.0397\n",
            "Epoch 17/300\n",
            "1/1 [==============================] - 0s 26ms/step - loss: 0.0181 - mse: 0.0181 - val_loss: 0.0444 - val_mse: 0.0444\n",
            "Epoch 18/300\n",
            "1/1 [==============================] - 0s 30ms/step - loss: 0.0242 - mse: 0.0242 - val_loss: 0.0489 - val_mse: 0.0489\n",
            "Epoch 19/300\n",
            "1/1 [==============================] - 0s 27ms/step - loss: 0.0293 - mse: 0.0293 - val_loss: 0.0514 - val_mse: 0.0514\n",
            "Epoch 20/300\n",
            "1/1 [==============================] - 0s 28ms/step - loss: 0.0318 - mse: 0.0318 - val_loss: 0.0512 - val_mse: 0.0512\n",
            "Epoch 21/300\n",
            "1/1 [==============================] - 0s 27ms/step - loss: 0.0314 - mse: 0.0314 - val_loss: 0.0486 - val_mse: 0.0486\n",
            "Epoch 22/300\n",
            "1/1 [==============================] - 0s 28ms/step - loss: 0.0283 - mse: 0.0283 - val_loss: 0.0446 - val_mse: 0.0446\n",
            "Epoch 23/300\n",
            "1/1 [==============================] - 0s 28ms/step - loss: 0.0235 - mse: 0.0235 - val_loss: 0.0405 - val_mse: 0.0405\n",
            "Epoch 24/300\n",
            "1/1 [==============================] - 0s 27ms/step - loss: 0.0183 - mse: 0.0183 - val_loss: 0.0373 - val_mse: 0.0373\n",
            "Epoch 25/300\n",
            "1/1 [==============================] - 0s 30ms/step - loss: 0.0139 - mse: 0.0139 - val_loss: 0.0359 - val_mse: 0.0359\n",
            "Epoch 26/300\n",
            "1/1 [==============================] - 0s 28ms/step - loss: 0.0110 - mse: 0.0110 - val_loss: 0.0365 - val_mse: 0.0365\n",
            "Epoch 27/300\n",
            "1/1 [==============================] - 0s 25ms/step - loss: 0.0099 - mse: 0.0099 - val_loss: 0.0388 - val_mse: 0.0388\n",
            "Epoch 28/300\n",
            "1/1 [==============================] - 0s 26ms/step - loss: 0.0105 - mse: 0.0105 - val_loss: 0.0419 - val_mse: 0.0419\n",
            "Epoch 29/300\n",
            "1/1 [==============================] - 0s 27ms/step - loss: 0.0121 - mse: 0.0121 - val_loss: 0.0449 - val_mse: 0.0449\n",
            "Epoch 30/300\n",
            "1/1 [==============================] - 0s 29ms/step - loss: 0.0140 - mse: 0.0140 - val_loss: 0.0470 - val_mse: 0.0470\n",
            "Epoch 31/300\n",
            "1/1 [==============================] - 0s 28ms/step - loss: 0.0154 - mse: 0.0154 - val_loss: 0.0475 - val_mse: 0.0475\n",
            "Epoch 32/300\n",
            "1/1 [==============================] - 0s 27ms/step - loss: 0.0159 - mse: 0.0159 - val_loss: 0.0465 - val_mse: 0.0465\n",
            "Epoch 33/300\n",
            "1/1 [==============================] - 0s 25ms/step - loss: 0.0154 - mse: 0.0154 - val_loss: 0.0441 - val_mse: 0.0441\n",
            "Epoch 34/300\n",
            "1/1 [==============================] - 0s 25ms/step - loss: 0.0140 - mse: 0.0140 - val_loss: 0.0410 - val_mse: 0.0410\n",
            "Epoch 35/300\n",
            "1/1 [==============================] - 0s 27ms/step - loss: 0.0123 - mse: 0.0123 - val_loss: 0.0378 - val_mse: 0.0378\n",
            "Epoch 36/300\n",
            "1/1 [==============================] - 0s 26ms/step - loss: 0.0106 - mse: 0.0106 - val_loss: 0.0351 - val_mse: 0.0351\n",
            "Epoch 37/300\n",
            "1/1 [==============================] - 0s 26ms/step - loss: 0.0094 - mse: 0.0094 - val_loss: 0.0330 - val_mse: 0.0330\n",
            "Epoch 38/300\n",
            "1/1 [==============================] - 0s 36ms/step - loss: 0.0089 - mse: 0.0089 - val_loss: 0.0316 - val_mse: 0.0316\n",
            "Epoch 39/300\n",
            "1/1 [==============================] - 0s 28ms/step - loss: 0.0090 - mse: 0.0090 - val_loss: 0.0309 - val_mse: 0.0309\n",
            "Epoch 40/300\n",
            "1/1 [==============================] - 0s 26ms/step - loss: 0.0095 - mse: 0.0095 - val_loss: 0.0306 - val_mse: 0.0306\n",
            "Epoch 41/300\n",
            "1/1 [==============================] - 0s 28ms/step - loss: 0.0101 - mse: 0.0101 - val_loss: 0.0303 - val_mse: 0.0303\n",
            "Epoch 42/300\n",
            "1/1 [==============================] - 0s 27ms/step - loss: 0.0106 - mse: 0.0106 - val_loss: 0.0300 - val_mse: 0.0300\n",
            "Epoch 43/300\n",
            "1/1 [==============================] - 0s 27ms/step - loss: 0.0108 - mse: 0.0108 - val_loss: 0.0296 - val_mse: 0.0296\n",
            "Epoch 44/300\n",
            "1/1 [==============================] - 0s 28ms/step - loss: 0.0106 - mse: 0.0106 - val_loss: 0.0291 - val_mse: 0.0291\n",
            "Epoch 45/300\n",
            "1/1 [==============================] - 0s 28ms/step - loss: 0.0101 - mse: 0.0101 - val_loss: 0.0287 - val_mse: 0.0287\n",
            "Epoch 46/300\n",
            "1/1 [==============================] - 0s 26ms/step - loss: 0.0094 - mse: 0.0094 - val_loss: 0.0286 - val_mse: 0.0286\n",
            "Epoch 47/300\n",
            "1/1 [==============================] - 0s 29ms/step - loss: 0.0088 - mse: 0.0088 - val_loss: 0.0287 - val_mse: 0.0287\n",
            "Epoch 48/300\n",
            "1/1 [==============================] - 0s 26ms/step - loss: 0.0084 - mse: 0.0084 - val_loss: 0.0292 - val_mse: 0.0292\n",
            "Epoch 49/300\n",
            "1/1 [==============================] - 0s 28ms/step - loss: 0.0083 - mse: 0.0083 - val_loss: 0.0298 - val_mse: 0.0298\n",
            "Epoch 50/300\n",
            "1/1 [==============================] - 0s 28ms/step - loss: 0.0084 - mse: 0.0084 - val_loss: 0.0305 - val_mse: 0.0305\n",
            "Epoch 51/300\n",
            "1/1 [==============================] - 0s 30ms/step - loss: 0.0086 - mse: 0.0086 - val_loss: 0.0310 - val_mse: 0.0310\n",
            "Epoch 52/300\n",
            "1/1 [==============================] - 0s 28ms/step - loss: 0.0088 - mse: 0.0088 - val_loss: 0.0312 - val_mse: 0.0312\n",
            "Epoch 53/300\n",
            "1/1 [==============================] - 0s 26ms/step - loss: 0.0089 - mse: 0.0089 - val_loss: 0.0310 - val_mse: 0.0310\n",
            "Epoch 54/300\n",
            "1/1 [==============================] - 0s 26ms/step - loss: 0.0088 - mse: 0.0088 - val_loss: 0.0305 - val_mse: 0.0305\n",
            "Epoch 55/300\n",
            "1/1 [==============================] - 0s 27ms/step - loss: 0.0087 - mse: 0.0087 - val_loss: 0.0297 - val_mse: 0.0297\n",
            "Epoch 56/300\n",
            "1/1 [==============================] - 0s 30ms/step - loss: 0.0084 - mse: 0.0084 - val_loss: 0.0287 - val_mse: 0.0287\n",
            "Epoch 57/300\n",
            "1/1 [==============================] - 0s 30ms/step - loss: 0.0082 - mse: 0.0082 - val_loss: 0.0278 - val_mse: 0.0278\n",
            "Epoch 58/300\n",
            "1/1 [==============================] - 0s 28ms/step - loss: 0.0080 - mse: 0.0080 - val_loss: 0.0269 - val_mse: 0.0269\n",
            "Epoch 59/300\n",
            "1/1 [==============================] - 0s 26ms/step - loss: 0.0079 - mse: 0.0079 - val_loss: 0.0262 - val_mse: 0.0262\n",
            "Epoch 60/300\n",
            "1/1 [==============================] - 0s 27ms/step - loss: 0.0080 - mse: 0.0080 - val_loss: 0.0256 - val_mse: 0.0256\n",
            "Epoch 61/300\n",
            "1/1 [==============================] - 0s 28ms/step - loss: 0.0080 - mse: 0.0080 - val_loss: 0.0252 - val_mse: 0.0252\n",
            "Epoch 62/300\n",
            "1/1 [==============================] - 0s 29ms/step - loss: 0.0081 - mse: 0.0081 - val_loss: 0.0250 - val_mse: 0.0250\n",
            "Epoch 63/300\n",
            "1/1 [==============================] - 0s 29ms/step - loss: 0.0081 - mse: 0.0081 - val_loss: 0.0248 - val_mse: 0.0248\n",
            "Epoch 64/300\n",
            "1/1 [==============================] - 0s 29ms/step - loss: 0.0081 - mse: 0.0081 - val_loss: 0.0248 - val_mse: 0.0248\n",
            "Epoch 65/300\n",
            "1/1 [==============================] - 0s 29ms/step - loss: 0.0080 - mse: 0.0080 - val_loss: 0.0249 - val_mse: 0.0249\n",
            "Epoch 66/300\n",
            "1/1 [==============================] - 0s 30ms/step - loss: 0.0079 - mse: 0.0079 - val_loss: 0.0251 - val_mse: 0.0251\n",
            "Epoch 67/300\n",
            "1/1 [==============================] - 0s 26ms/step - loss: 0.0078 - mse: 0.0078 - val_loss: 0.0254 - val_mse: 0.0254\n",
            "Epoch 68/300\n",
            "1/1 [==============================] - 0s 28ms/step - loss: 0.0078 - mse: 0.0078 - val_loss: 0.0258 - val_mse: 0.0258\n",
            "Epoch 69/300\n",
            "1/1 [==============================] - 0s 28ms/step - loss: 0.0077 - mse: 0.0077 - val_loss: 0.0261 - val_mse: 0.0261\n",
            "Epoch 70/300\n",
            "1/1 [==============================] - 0s 31ms/step - loss: 0.0077 - mse: 0.0077 - val_loss: 0.0264 - val_mse: 0.0264\n",
            "Epoch 71/300\n",
            "1/1 [==============================] - 0s 26ms/step - loss: 0.0078 - mse: 0.0078 - val_loss: 0.0266 - val_mse: 0.0266\n",
            "Epoch 72/300\n",
            "1/1 [==============================] - 0s 28ms/step - loss: 0.0078 - mse: 0.0078 - val_loss: 0.0266 - val_mse: 0.0266\n",
            "Epoch 73/300\n",
            "1/1 [==============================] - 0s 28ms/step - loss: 0.0078 - mse: 0.0078 - val_loss: 0.0265 - val_mse: 0.0265\n",
            "Epoch 74/300\n",
            "1/1 [==============================] - 0s 25ms/step - loss: 0.0077 - mse: 0.0077 - val_loss: 0.0263 - val_mse: 0.0263\n",
            "Epoch 75/300\n",
            "1/1 [==============================] - 0s 26ms/step - loss: 0.0077 - mse: 0.0077 - val_loss: 0.0259 - val_mse: 0.0259\n",
            "Epoch 76/300\n",
            "1/1 [==============================] - 0s 25ms/step - loss: 0.0077 - mse: 0.0077 - val_loss: 0.0256 - val_mse: 0.0256\n",
            "Epoch 77/300\n",
            "1/1 [==============================] - 0s 25ms/step - loss: 0.0076 - mse: 0.0076 - val_loss: 0.0252 - val_mse: 0.0252\n",
            "Epoch 78/300\n",
            "1/1 [==============================] - 0s 26ms/step - loss: 0.0076 - mse: 0.0076 - val_loss: 0.0249 - val_mse: 0.0249\n",
            "Epoch 79/300\n",
            "1/1 [==============================] - 0s 26ms/step - loss: 0.0076 - mse: 0.0076 - val_loss: 0.0246 - val_mse: 0.0246\n",
            "Epoch 80/300\n",
            "1/1 [==============================] - 0s 27ms/step - loss: 0.0076 - mse: 0.0076 - val_loss: 0.0244 - val_mse: 0.0244\n",
            "Epoch 81/300\n",
            "1/1 [==============================] - 0s 26ms/step - loss: 0.0076 - mse: 0.0076 - val_loss: 0.0244 - val_mse: 0.0244\n",
            "Epoch 82/300\n",
            "1/1 [==============================] - 0s 26ms/step - loss: 0.0076 - mse: 0.0076 - val_loss: 0.0244 - val_mse: 0.0244\n",
            "Epoch 83/300\n",
            "1/1 [==============================] - 0s 26ms/step - loss: 0.0076 - mse: 0.0076 - val_loss: 0.0244 - val_mse: 0.0244\n",
            "Epoch 84/300\n",
            "1/1 [==============================] - 0s 25ms/step - loss: 0.0076 - mse: 0.0076 - val_loss: 0.0246 - val_mse: 0.0246\n",
            "Epoch 85/300\n",
            "1/1 [==============================] - 0s 27ms/step - loss: 0.0075 - mse: 0.0075 - val_loss: 0.0248 - val_mse: 0.0248\n",
            "Epoch 86/300\n",
            "1/1 [==============================] - 0s 28ms/step - loss: 0.0075 - mse: 0.0075 - val_loss: 0.0250 - val_mse: 0.0250\n",
            "Epoch 87/300\n",
            "1/1 [==============================] - 0s 35ms/step - loss: 0.0075 - mse: 0.0075 - val_loss: 0.0252 - val_mse: 0.0252\n",
            "Epoch 88/300\n",
            "1/1 [==============================] - 0s 28ms/step - loss: 0.0075 - mse: 0.0075 - val_loss: 0.0254 - val_mse: 0.0254\n",
            "Epoch 89/300\n",
            "1/1 [==============================] - 0s 27ms/step - loss: 0.0075 - mse: 0.0075 - val_loss: 0.0255 - val_mse: 0.0255\n",
            "Epoch 90/300\n",
            "1/1 [==============================] - 0s 25ms/step - loss: 0.0075 - mse: 0.0075 - val_loss: 0.0255 - val_mse: 0.0255\n",
            "Epoch 91/300\n",
            "1/1 [==============================] - 0s 29ms/step - loss: 0.0075 - mse: 0.0075 - val_loss: 0.0255 - val_mse: 0.0255\n",
            "Epoch 92/300\n",
            "1/1 [==============================] - 0s 27ms/step - loss: 0.0075 - mse: 0.0075 - val_loss: 0.0254 - val_mse: 0.0254\n",
            "Epoch 93/300\n",
            "1/1 [==============================] - 0s 28ms/step - loss: 0.0075 - mse: 0.0075 - val_loss: 0.0252 - val_mse: 0.0252\n",
            "Epoch 94/300\n",
            "1/1 [==============================] - 0s 28ms/step - loss: 0.0074 - mse: 0.0074 - val_loss: 0.0251 - val_mse: 0.0251\n",
            "Epoch 95/300\n",
            "1/1 [==============================] - 0s 29ms/step - loss: 0.0074 - mse: 0.0074 - val_loss: 0.0249 - val_mse: 0.0249\n",
            "Epoch 96/300\n",
            "1/1 [==============================] - 0s 28ms/step - loss: 0.0074 - mse: 0.0074 - val_loss: 0.0248 - val_mse: 0.0248\n",
            "Epoch 97/300\n",
            "1/1 [==============================] - 0s 29ms/step - loss: 0.0074 - mse: 0.0074 - val_loss: 0.0247 - val_mse: 0.0247\n",
            "Epoch 98/300\n",
            "1/1 [==============================] - 0s 28ms/step - loss: 0.0074 - mse: 0.0074 - val_loss: 0.0247 - val_mse: 0.0247\n",
            "Epoch 99/300\n",
            "1/1 [==============================] - 0s 28ms/step - loss: 0.0074 - mse: 0.0074 - val_loss: 0.0247 - val_mse: 0.0247\n",
            "Epoch 100/300\n",
            "1/1 [==============================] - 0s 33ms/step - loss: 0.0074 - mse: 0.0074 - val_loss: 0.0247 - val_mse: 0.0247\n",
            "Epoch 101/300\n",
            "1/1 [==============================] - 0s 34ms/step - loss: 0.0074 - mse: 0.0074 - val_loss: 0.0248 - val_mse: 0.0248\n",
            "Epoch 102/300\n",
            "1/1 [==============================] - 0s 27ms/step - loss: 0.0074 - mse: 0.0074 - val_loss: 0.0249 - val_mse: 0.0249\n",
            "Epoch 103/300\n",
            "1/1 [==============================] - 0s 30ms/step - loss: 0.0074 - mse: 0.0074 - val_loss: 0.0250 - val_mse: 0.0250\n",
            "Epoch 104/300\n",
            "1/1 [==============================] - 0s 27ms/step - loss: 0.0074 - mse: 0.0074 - val_loss: 0.0251 - val_mse: 0.0251\n",
            "Epoch 105/300\n",
            "1/1 [==============================] - 0s 26ms/step - loss: 0.0074 - mse: 0.0074 - val_loss: 0.0252 - val_mse: 0.0252\n",
            "Epoch 106/300\n",
            "1/1 [==============================] - 0s 26ms/step - loss: 0.0073 - mse: 0.0073 - val_loss: 0.0253 - val_mse: 0.0253\n",
            "Epoch 107/300\n",
            "1/1 [==============================] - 0s 29ms/step - loss: 0.0073 - mse: 0.0073 - val_loss: 0.0254 - val_mse: 0.0254\n",
            "Epoch 108/300\n",
            "1/1 [==============================] - 0s 33ms/step - loss: 0.0073 - mse: 0.0073 - val_loss: 0.0254 - val_mse: 0.0254\n",
            "Epoch 109/300\n",
            "1/1 [==============================] - 0s 28ms/step - loss: 0.0073 - mse: 0.0073 - val_loss: 0.0253 - val_mse: 0.0253\n",
            "Epoch 110/300\n",
            "1/1 [==============================] - 0s 28ms/step - loss: 0.0073 - mse: 0.0073 - val_loss: 0.0253 - val_mse: 0.0253\n",
            "Epoch 111/300\n",
            "1/1 [==============================] - 0s 28ms/step - loss: 0.0073 - mse: 0.0073 - val_loss: 0.0252 - val_mse: 0.0252\n",
            "Epoch 112/300\n",
            "1/1 [==============================] - 0s 30ms/step - loss: 0.0073 - mse: 0.0073 - val_loss: 0.0252 - val_mse: 0.0252\n",
            "Epoch 113/300\n",
            "1/1 [==============================] - 0s 33ms/step - loss: 0.0073 - mse: 0.0073 - val_loss: 0.0251 - val_mse: 0.0251\n",
            "Epoch 114/300\n",
            "1/1 [==============================] - 0s 28ms/step - loss: 0.0073 - mse: 0.0073 - val_loss: 0.0251 - val_mse: 0.0251\n",
            "Epoch 115/300\n",
            "1/1 [==============================] - 0s 29ms/step - loss: 0.0073 - mse: 0.0073 - val_loss: 0.0251 - val_mse: 0.0251\n",
            "Epoch 116/300\n",
            "1/1 [==============================] - 0s 31ms/step - loss: 0.0073 - mse: 0.0073 - val_loss: 0.0252 - val_mse: 0.0252\n",
            "Epoch 117/300\n",
            "1/1 [==============================] - 0s 27ms/step - loss: 0.0073 - mse: 0.0073 - val_loss: 0.0252 - val_mse: 0.0252\n",
            "Epoch 118/300\n",
            "1/1 [==============================] - 0s 29ms/step - loss: 0.0073 - mse: 0.0073 - val_loss: 0.0253 - val_mse: 0.0253\n",
            "Epoch 119/300\n",
            "1/1 [==============================] - 0s 27ms/step - loss: 0.0072 - mse: 0.0072 - val_loss: 0.0254 - val_mse: 0.0254\n",
            "Epoch 120/300\n",
            "1/1 [==============================] - 0s 28ms/step - loss: 0.0072 - mse: 0.0072 - val_loss: 0.0255 - val_mse: 0.0255\n",
            "Epoch 121/300\n",
            "1/1 [==============================] - 0s 27ms/step - loss: 0.0072 - mse: 0.0072 - val_loss: 0.0255 - val_mse: 0.0255\n",
            "Epoch 122/300\n",
            "1/1 [==============================] - 0s 28ms/step - loss: 0.0072 - mse: 0.0072 - val_loss: 0.0256 - val_mse: 0.0256\n",
            "Epoch 123/300\n",
            "1/1 [==============================] - 0s 28ms/step - loss: 0.0072 - mse: 0.0072 - val_loss: 0.0256 - val_mse: 0.0256\n",
            "Epoch 124/300\n",
            "1/1 [==============================] - 0s 28ms/step - loss: 0.0072 - mse: 0.0072 - val_loss: 0.0256 - val_mse: 0.0256\n",
            "Epoch 125/300\n",
            "1/1 [==============================] - 0s 29ms/step - loss: 0.0072 - mse: 0.0072 - val_loss: 0.0257 - val_mse: 0.0257\n",
            "Epoch 126/300\n",
            "1/1 [==============================] - 0s 29ms/step - loss: 0.0072 - mse: 0.0072 - val_loss: 0.0256 - val_mse: 0.0256\n",
            "Epoch 127/300\n",
            "1/1 [==============================] - 0s 27ms/step - loss: 0.0072 - mse: 0.0072 - val_loss: 0.0256 - val_mse: 0.0256\n",
            "Epoch 128/300\n",
            "1/1 [==============================] - 0s 28ms/step - loss: 0.0072 - mse: 0.0072 - val_loss: 0.0256 - val_mse: 0.0256\n",
            "Epoch 129/300\n",
            "1/1 [==============================] - 0s 28ms/step - loss: 0.0072 - mse: 0.0072 - val_loss: 0.0256 - val_mse: 0.0256\n",
            "Epoch 130/300\n",
            "1/1 [==============================] - 0s 27ms/step - loss: 0.0072 - mse: 0.0072 - val_loss: 0.0256 - val_mse: 0.0256\n",
            "Epoch 131/300\n",
            "1/1 [==============================] - 0s 37ms/step - loss: 0.0071 - mse: 0.0071 - val_loss: 0.0257 - val_mse: 0.0257\n",
            "Epoch 132/300\n",
            "1/1 [==============================] - 0s 30ms/step - loss: 0.0071 - mse: 0.0071 - val_loss: 0.0257 - val_mse: 0.0257\n",
            "Epoch 133/300\n",
            "1/1 [==============================] - 0s 27ms/step - loss: 0.0071 - mse: 0.0071 - val_loss: 0.0257 - val_mse: 0.0257\n",
            "Epoch 134/300\n",
            "1/1 [==============================] - 0s 27ms/step - loss: 0.0071 - mse: 0.0071 - val_loss: 0.0258 - val_mse: 0.0258\n",
            "Epoch 135/300\n",
            "1/1 [==============================] - 0s 28ms/step - loss: 0.0071 - mse: 0.0071 - val_loss: 0.0259 - val_mse: 0.0259\n",
            "Epoch 136/300\n",
            "1/1 [==============================] - 0s 28ms/step - loss: 0.0071 - mse: 0.0071 - val_loss: 0.0259 - val_mse: 0.0259\n",
            "Epoch 137/300\n",
            "1/1 [==============================] - 0s 29ms/step - loss: 0.0071 - mse: 0.0071 - val_loss: 0.0259 - val_mse: 0.0259\n",
            "Epoch 138/300\n",
            "1/1 [==============================] - 0s 27ms/step - loss: 0.0071 - mse: 0.0071 - val_loss: 0.0260 - val_mse: 0.0260\n",
            "Epoch 139/300\n",
            "1/1 [==============================] - 0s 27ms/step - loss: 0.0071 - mse: 0.0071 - val_loss: 0.0260 - val_mse: 0.0260\n",
            "Epoch 140/300\n",
            "1/1 [==============================] - 0s 31ms/step - loss: 0.0071 - mse: 0.0071 - val_loss: 0.0260 - val_mse: 0.0260\n",
            "Epoch 141/300\n",
            "1/1 [==============================] - 0s 32ms/step - loss: 0.0071 - mse: 0.0071 - val_loss: 0.0260 - val_mse: 0.0260\n",
            "Epoch 142/300\n",
            "1/1 [==============================] - 0s 30ms/step - loss: 0.0071 - mse: 0.0071 - val_loss: 0.0260 - val_mse: 0.0260\n",
            "Epoch 143/300\n",
            "1/1 [==============================] - 0s 33ms/step - loss: 0.0071 - mse: 0.0071 - val_loss: 0.0261 - val_mse: 0.0261\n",
            "Epoch 144/300\n",
            "1/1 [==============================] - 0s 31ms/step - loss: 0.0070 - mse: 0.0070 - val_loss: 0.0261 - val_mse: 0.0261\n",
            "Epoch 145/300\n",
            "1/1 [==============================] - 0s 32ms/step - loss: 0.0070 - mse: 0.0070 - val_loss: 0.0261 - val_mse: 0.0261\n",
            "Epoch 146/300\n",
            "1/1 [==============================] - 0s 27ms/step - loss: 0.0070 - mse: 0.0070 - val_loss: 0.0261 - val_mse: 0.0261\n",
            "Epoch 147/300\n",
            "1/1 [==============================] - 0s 32ms/step - loss: 0.0070 - mse: 0.0070 - val_loss: 0.0261 - val_mse: 0.0261\n",
            "Epoch 148/300\n",
            "1/1 [==============================] - 0s 26ms/step - loss: 0.0070 - mse: 0.0070 - val_loss: 0.0261 - val_mse: 0.0261\n",
            "Epoch 149/300\n",
            "1/1 [==============================] - 0s 27ms/step - loss: 0.0070 - mse: 0.0070 - val_loss: 0.0262 - val_mse: 0.0262\n",
            "Epoch 150/300\n",
            "1/1 [==============================] - 0s 27ms/step - loss: 0.0070 - mse: 0.0070 - val_loss: 0.0262 - val_mse: 0.0262\n",
            "Epoch 151/300\n",
            "1/1 [==============================] - 0s 30ms/step - loss: 0.0070 - mse: 0.0070 - val_loss: 0.0263 - val_mse: 0.0263\n",
            "Epoch 152/300\n",
            "1/1 [==============================] - 0s 28ms/step - loss: 0.0070 - mse: 0.0070 - val_loss: 0.0263 - val_mse: 0.0263\n",
            "Epoch 153/300\n",
            "1/1 [==============================] - 0s 26ms/step - loss: 0.0070 - mse: 0.0070 - val_loss: 0.0263 - val_mse: 0.0263\n",
            "Epoch 154/300\n",
            "1/1 [==============================] - 0s 27ms/step - loss: 0.0070 - mse: 0.0070 - val_loss: 0.0263 - val_mse: 0.0263\n",
            "Epoch 155/300\n",
            "1/1 [==============================] - 0s 26ms/step - loss: 0.0070 - mse: 0.0070 - val_loss: 0.0263 - val_mse: 0.0263\n",
            "Epoch 156/300\n",
            "1/1 [==============================] - 0s 27ms/step - loss: 0.0070 - mse: 0.0070 - val_loss: 0.0264 - val_mse: 0.0264\n",
            "Epoch 157/300\n",
            "1/1 [==============================] - 0s 29ms/step - loss: 0.0069 - mse: 0.0069 - val_loss: 0.0264 - val_mse: 0.0264\n",
            "Epoch 158/300\n",
            "1/1 [==============================] - 0s 29ms/step - loss: 0.0069 - mse: 0.0069 - val_loss: 0.0264 - val_mse: 0.0264\n",
            "Epoch 159/300\n",
            "1/1 [==============================] - 0s 27ms/step - loss: 0.0069 - mse: 0.0069 - val_loss: 0.0264 - val_mse: 0.0264\n",
            "Epoch 160/300\n",
            "1/1 [==============================] - 0s 39ms/step - loss: 0.0069 - mse: 0.0069 - val_loss: 0.0264 - val_mse: 0.0264\n",
            "Epoch 161/300\n",
            "1/1 [==============================] - 0s 29ms/step - loss: 0.0069 - mse: 0.0069 - val_loss: 0.0264 - val_mse: 0.0264\n",
            "Epoch 162/300\n",
            "1/1 [==============================] - 0s 28ms/step - loss: 0.0069 - mse: 0.0069 - val_loss: 0.0264 - val_mse: 0.0264\n",
            "Epoch 163/300\n",
            "1/1 [==============================] - 0s 31ms/step - loss: 0.0069 - mse: 0.0069 - val_loss: 0.0265 - val_mse: 0.0265\n",
            "Epoch 164/300\n",
            "1/1 [==============================] - 0s 28ms/step - loss: 0.0069 - mse: 0.0069 - val_loss: 0.0265 - val_mse: 0.0265\n",
            "Epoch 165/300\n",
            "1/1 [==============================] - 0s 29ms/step - loss: 0.0069 - mse: 0.0069 - val_loss: 0.0265 - val_mse: 0.0265\n",
            "Epoch 166/300\n",
            "1/1 [==============================] - 0s 27ms/step - loss: 0.0069 - mse: 0.0069 - val_loss: 0.0265 - val_mse: 0.0265\n",
            "Epoch 167/300\n",
            "1/1 [==============================] - 0s 28ms/step - loss: 0.0069 - mse: 0.0069 - val_loss: 0.0265 - val_mse: 0.0265\n",
            "Epoch 168/300\n",
            "1/1 [==============================] - 0s 28ms/step - loss: 0.0069 - mse: 0.0069 - val_loss: 0.0266 - val_mse: 0.0266\n",
            "Epoch 169/300\n",
            "1/1 [==============================] - 0s 28ms/step - loss: 0.0069 - mse: 0.0069 - val_loss: 0.0266 - val_mse: 0.0266\n",
            "Epoch 170/300\n",
            "1/1 [==============================] - 0s 28ms/step - loss: 0.0068 - mse: 0.0068 - val_loss: 0.0266 - val_mse: 0.0266\n",
            "Epoch 171/300\n",
            "1/1 [==============================] - 0s 27ms/step - loss: 0.0068 - mse: 0.0068 - val_loss: 0.0266 - val_mse: 0.0266\n",
            "Epoch 172/300\n",
            "1/1 [==============================] - 0s 30ms/step - loss: 0.0068 - mse: 0.0068 - val_loss: 0.0266 - val_mse: 0.0266\n",
            "Epoch 173/300\n",
            "1/1 [==============================] - 0s 29ms/step - loss: 0.0068 - mse: 0.0068 - val_loss: 0.0266 - val_mse: 0.0266\n",
            "Epoch 174/300\n",
            "1/1 [==============================] - 0s 30ms/step - loss: 0.0068 - mse: 0.0068 - val_loss: 0.0266 - val_mse: 0.0266\n",
            "Epoch 175/300\n",
            "1/1 [==============================] - 0s 33ms/step - loss: 0.0068 - mse: 0.0068 - val_loss: 0.0267 - val_mse: 0.0267\n",
            "Epoch 176/300\n",
            "1/1 [==============================] - 0s 26ms/step - loss: 0.0068 - mse: 0.0068 - val_loss: 0.0267 - val_mse: 0.0267\n",
            "Epoch 177/300\n",
            "1/1 [==============================] - 0s 28ms/step - loss: 0.0068 - mse: 0.0068 - val_loss: 0.0267 - val_mse: 0.0267\n",
            "Epoch 178/300\n",
            "1/1 [==============================] - 0s 28ms/step - loss: 0.0068 - mse: 0.0068 - val_loss: 0.0267 - val_mse: 0.0267\n",
            "Epoch 179/300\n",
            "1/1 [==============================] - 0s 26ms/step - loss: 0.0068 - mse: 0.0068 - val_loss: 0.0267 - val_mse: 0.0267\n",
            "Epoch 180/300\n",
            "1/1 [==============================] - 0s 25ms/step - loss: 0.0068 - mse: 0.0068 - val_loss: 0.0267 - val_mse: 0.0267\n",
            "Epoch 181/300\n",
            "1/1 [==============================] - 0s 31ms/step - loss: 0.0068 - mse: 0.0068 - val_loss: 0.0267 - val_mse: 0.0267\n",
            "Epoch 182/300\n",
            "1/1 [==============================] - 0s 29ms/step - loss: 0.0068 - mse: 0.0068 - val_loss: 0.0268 - val_mse: 0.0268\n",
            "Epoch 183/300\n",
            "1/1 [==============================] - 0s 28ms/step - loss: 0.0067 - mse: 0.0067 - val_loss: 0.0268 - val_mse: 0.0268\n",
            "Epoch 184/300\n",
            "1/1 [==============================] - 0s 28ms/step - loss: 0.0067 - mse: 0.0067 - val_loss: 0.0268 - val_mse: 0.0268\n",
            "Epoch 185/300\n",
            "1/1 [==============================] - 0s 28ms/step - loss: 0.0067 - mse: 0.0067 - val_loss: 0.0268 - val_mse: 0.0268\n",
            "Epoch 186/300\n",
            "1/1 [==============================] - 0s 30ms/step - loss: 0.0067 - mse: 0.0067 - val_loss: 0.0268 - val_mse: 0.0268\n",
            "Epoch 187/300\n",
            "1/1 [==============================] - 0s 34ms/step - loss: 0.0067 - mse: 0.0067 - val_loss: 0.0268 - val_mse: 0.0268\n",
            "Epoch 188/300\n",
            "1/1 [==============================] - 0s 31ms/step - loss: 0.0067 - mse: 0.0067 - val_loss: 0.0268 - val_mse: 0.0268\n",
            "Epoch 189/300\n",
            "1/1 [==============================] - 0s 36ms/step - loss: 0.0067 - mse: 0.0067 - val_loss: 0.0268 - val_mse: 0.0268\n",
            "Epoch 190/300\n",
            "1/1 [==============================] - 0s 35ms/step - loss: 0.0067 - mse: 0.0067 - val_loss: 0.0268 - val_mse: 0.0268\n",
            "Epoch 191/300\n",
            "1/1 [==============================] - 0s 31ms/step - loss: 0.0067 - mse: 0.0067 - val_loss: 0.0269 - val_mse: 0.0269\n",
            "Epoch 192/300\n",
            "1/1 [==============================] - 0s 29ms/step - loss: 0.0067 - mse: 0.0067 - val_loss: 0.0269 - val_mse: 0.0269\n",
            "Epoch 193/300\n",
            "1/1 [==============================] - 0s 34ms/step - loss: 0.0067 - mse: 0.0067 - val_loss: 0.0269 - val_mse: 0.0269\n",
            "Epoch 194/300\n",
            "1/1 [==============================] - 0s 27ms/step - loss: 0.0067 - mse: 0.0067 - val_loss: 0.0269 - val_mse: 0.0269\n",
            "Epoch 195/300\n",
            "1/1 [==============================] - 0s 28ms/step - loss: 0.0067 - mse: 0.0067 - val_loss: 0.0269 - val_mse: 0.0269\n",
            "Epoch 196/300\n",
            "1/1 [==============================] - 0s 31ms/step - loss: 0.0066 - mse: 0.0066 - val_loss: 0.0269 - val_mse: 0.0269\n",
            "Epoch 197/300\n",
            "1/1 [==============================] - 0s 30ms/step - loss: 0.0066 - mse: 0.0066 - val_loss: 0.0269 - val_mse: 0.0269\n",
            "Epoch 198/300\n",
            "1/1 [==============================] - 0s 32ms/step - loss: 0.0066 - mse: 0.0066 - val_loss: 0.0269 - val_mse: 0.0269\n",
            "Epoch 199/300\n",
            "1/1 [==============================] - 0s 30ms/step - loss: 0.0066 - mse: 0.0066 - val_loss: 0.0269 - val_mse: 0.0269\n",
            "Epoch 200/300\n",
            "1/1 [==============================] - 0s 31ms/step - loss: 0.0066 - mse: 0.0066 - val_loss: 0.0269 - val_mse: 0.0269\n",
            "Epoch 201/300\n",
            "1/1 [==============================] - 0s 33ms/step - loss: 0.0066 - mse: 0.0066 - val_loss: 0.0270 - val_mse: 0.0270\n",
            "Epoch 202/300\n",
            "1/1 [==============================] - 0s 32ms/step - loss: 0.0066 - mse: 0.0066 - val_loss: 0.0270 - val_mse: 0.0270\n",
            "Epoch 203/300\n",
            "1/1 [==============================] - 0s 34ms/step - loss: 0.0066 - mse: 0.0066 - val_loss: 0.0270 - val_mse: 0.0270\n",
            "Epoch 204/300\n",
            "1/1 [==============================] - 0s 29ms/step - loss: 0.0066 - mse: 0.0066 - val_loss: 0.0270 - val_mse: 0.0270\n",
            "Epoch 205/300\n",
            "1/1 [==============================] - 0s 29ms/step - loss: 0.0066 - mse: 0.0066 - val_loss: 0.0270 - val_mse: 0.0270\n",
            "Epoch 206/300\n",
            "1/1 [==============================] - 0s 29ms/step - loss: 0.0066 - mse: 0.0066 - val_loss: 0.0270 - val_mse: 0.0270\n",
            "Epoch 207/300\n",
            "1/1 [==============================] - 0s 28ms/step - loss: 0.0066 - mse: 0.0066 - val_loss: 0.0270 - val_mse: 0.0270\n",
            "Epoch 208/300\n",
            "1/1 [==============================] - 0s 33ms/step - loss: 0.0066 - mse: 0.0066 - val_loss: 0.0270 - val_mse: 0.0270\n",
            "Epoch 209/300\n",
            "1/1 [==============================] - 0s 30ms/step - loss: 0.0065 - mse: 0.0065 - val_loss: 0.0270 - val_mse: 0.0270\n",
            "Epoch 210/300\n",
            "1/1 [==============================] - 0s 29ms/step - loss: 0.0065 - mse: 0.0065 - val_loss: 0.0270 - val_mse: 0.0270\n",
            "Epoch 211/300\n",
            "1/1 [==============================] - 0s 32ms/step - loss: 0.0065 - mse: 0.0065 - val_loss: 0.0270 - val_mse: 0.0270\n",
            "Epoch 212/300\n",
            "1/1 [==============================] - 0s 31ms/step - loss: 0.0065 - mse: 0.0065 - val_loss: 0.0270 - val_mse: 0.0270\n",
            "Epoch 213/300\n",
            "1/1 [==============================] - 0s 32ms/step - loss: 0.0065 - mse: 0.0065 - val_loss: 0.0270 - val_mse: 0.0270\n",
            "Epoch 214/300\n",
            "1/1 [==============================] - 0s 31ms/step - loss: 0.0065 - mse: 0.0065 - val_loss: 0.0271 - val_mse: 0.0271\n",
            "Epoch 215/300\n",
            "1/1 [==============================] - 0s 31ms/step - loss: 0.0065 - mse: 0.0065 - val_loss: 0.0271 - val_mse: 0.0271\n",
            "Epoch 216/300\n",
            "1/1 [==============================] - 0s 38ms/step - loss: 0.0065 - mse: 0.0065 - val_loss: 0.0271 - val_mse: 0.0271\n",
            "Epoch 217/300\n",
            "1/1 [==============================] - 0s 31ms/step - loss: 0.0065 - mse: 0.0065 - val_loss: 0.0271 - val_mse: 0.0271\n",
            "Epoch 218/300\n",
            "1/1 [==============================] - 0s 31ms/step - loss: 0.0065 - mse: 0.0065 - val_loss: 0.0271 - val_mse: 0.0271\n",
            "Epoch 219/300\n",
            "1/1 [==============================] - 0s 30ms/step - loss: 0.0065 - mse: 0.0065 - val_loss: 0.0271 - val_mse: 0.0271\n",
            "Epoch 220/300\n",
            "1/1 [==============================] - 0s 28ms/step - loss: 0.0065 - mse: 0.0065 - val_loss: 0.0271 - val_mse: 0.0271\n",
            "Epoch 221/300\n",
            "1/1 [==============================] - 0s 26ms/step - loss: 0.0065 - mse: 0.0065 - val_loss: 0.0271 - val_mse: 0.0271\n",
            "Epoch 222/300\n",
            "1/1 [==============================] - 0s 28ms/step - loss: 0.0064 - mse: 0.0064 - val_loss: 0.0271 - val_mse: 0.0271\n",
            "Epoch 223/300\n",
            "1/1 [==============================] - 0s 31ms/step - loss: 0.0064 - mse: 0.0064 - val_loss: 0.0271 - val_mse: 0.0271\n",
            "Epoch 224/300\n",
            "1/1 [==============================] - 0s 26ms/step - loss: 0.0064 - mse: 0.0064 - val_loss: 0.0271 - val_mse: 0.0271\n",
            "Epoch 225/300\n",
            "1/1 [==============================] - 0s 28ms/step - loss: 0.0064 - mse: 0.0064 - val_loss: 0.0271 - val_mse: 0.0271\n",
            "Epoch 226/300\n",
            "1/1 [==============================] - 0s 32ms/step - loss: 0.0064 - mse: 0.0064 - val_loss: 0.0271 - val_mse: 0.0271\n",
            "Epoch 227/300\n",
            "1/1 [==============================] - 0s 32ms/step - loss: 0.0064 - mse: 0.0064 - val_loss: 0.0271 - val_mse: 0.0271\n",
            "Epoch 228/300\n",
            "1/1 [==============================] - 0s 31ms/step - loss: 0.0064 - mse: 0.0064 - val_loss: 0.0271 - val_mse: 0.0271\n",
            "Epoch 229/300\n",
            "1/1 [==============================] - 0s 30ms/step - loss: 0.0064 - mse: 0.0064 - val_loss: 0.0271 - val_mse: 0.0271\n",
            "Epoch 230/300\n",
            "1/1 [==============================] - 0s 29ms/step - loss: 0.0064 - mse: 0.0064 - val_loss: 0.0271 - val_mse: 0.0271\n",
            "Epoch 231/300\n",
            "1/1 [==============================] - 0s 28ms/step - loss: 0.0064 - mse: 0.0064 - val_loss: 0.0271 - val_mse: 0.0271\n",
            "Epoch 232/300\n",
            "1/1 [==============================] - 0s 31ms/step - loss: 0.0064 - mse: 0.0064 - val_loss: 0.0271 - val_mse: 0.0271\n",
            "Epoch 233/300\n",
            "1/1 [==============================] - 0s 28ms/step - loss: 0.0064 - mse: 0.0064 - val_loss: 0.0271 - val_mse: 0.0271\n",
            "Epoch 234/300\n",
            "1/1 [==============================] - 0s 28ms/step - loss: 0.0064 - mse: 0.0064 - val_loss: 0.0271 - val_mse: 0.0271\n",
            "Epoch 235/300\n",
            "1/1 [==============================] - 0s 28ms/step - loss: 0.0063 - mse: 0.0063 - val_loss: 0.0271 - val_mse: 0.0271\n",
            "Epoch 236/300\n",
            "1/1 [==============================] - 0s 31ms/step - loss: 0.0063 - mse: 0.0063 - val_loss: 0.0271 - val_mse: 0.0271\n",
            "Epoch 237/300\n",
            "1/1 [==============================] - 0s 33ms/step - loss: 0.0063 - mse: 0.0063 - val_loss: 0.0271 - val_mse: 0.0271\n",
            "Epoch 238/300\n",
            "1/1 [==============================] - 0s 31ms/step - loss: 0.0063 - mse: 0.0063 - val_loss: 0.0271 - val_mse: 0.0271\n",
            "Epoch 239/300\n",
            "1/1 [==============================] - 0s 31ms/step - loss: 0.0063 - mse: 0.0063 - val_loss: 0.0271 - val_mse: 0.0271\n",
            "Epoch 240/300\n",
            "1/1 [==============================] - 0s 31ms/step - loss: 0.0063 - mse: 0.0063 - val_loss: 0.0272 - val_mse: 0.0272\n",
            "Epoch 241/300\n",
            "1/1 [==============================] - 0s 29ms/step - loss: 0.0063 - mse: 0.0063 - val_loss: 0.0272 - val_mse: 0.0272\n",
            "Epoch 242/300\n",
            "1/1 [==============================] - 0s 35ms/step - loss: 0.0063 - mse: 0.0063 - val_loss: 0.0272 - val_mse: 0.0272\n",
            "Epoch 243/300\n",
            "1/1 [==============================] - 0s 35ms/step - loss: 0.0063 - mse: 0.0063 - val_loss: 0.0272 - val_mse: 0.0272\n",
            "Epoch 244/300\n",
            "1/1 [==============================] - 0s 34ms/step - loss: 0.0063 - mse: 0.0063 - val_loss: 0.0272 - val_mse: 0.0272\n",
            "Epoch 245/300\n",
            "1/1 [==============================] - 0s 29ms/step - loss: 0.0063 - mse: 0.0063 - val_loss: 0.0272 - val_mse: 0.0272\n",
            "Epoch 246/300\n",
            "1/1 [==============================] - 0s 28ms/step - loss: 0.0063 - mse: 0.0063 - val_loss: 0.0272 - val_mse: 0.0272\n",
            "Epoch 247/300\n",
            "1/1 [==============================] - 0s 29ms/step - loss: 0.0063 - mse: 0.0063 - val_loss: 0.0272 - val_mse: 0.0272\n",
            "Epoch 248/300\n",
            "1/1 [==============================] - 0s 29ms/step - loss: 0.0062 - mse: 0.0062 - val_loss: 0.0272 - val_mse: 0.0272\n",
            "Epoch 249/300\n",
            "1/1 [==============================] - 0s 27ms/step - loss: 0.0062 - mse: 0.0062 - val_loss: 0.0272 - val_mse: 0.0272\n",
            "Epoch 250/300\n",
            "1/1 [==============================] - 0s 27ms/step - loss: 0.0062 - mse: 0.0062 - val_loss: 0.0272 - val_mse: 0.0272\n",
            "Epoch 251/300\n",
            "1/1 [==============================] - 0s 27ms/step - loss: 0.0062 - mse: 0.0062 - val_loss: 0.0272 - val_mse: 0.0272\n",
            "Epoch 252/300\n",
            "1/1 [==============================] - 0s 37ms/step - loss: 0.0062 - mse: 0.0062 - val_loss: 0.0272 - val_mse: 0.0272\n",
            "Epoch 253/300\n",
            "1/1 [==============================] - 0s 29ms/step - loss: 0.0062 - mse: 0.0062 - val_loss: 0.0271 - val_mse: 0.0271\n",
            "Epoch 254/300\n",
            "1/1 [==============================] - 0s 29ms/step - loss: 0.0062 - mse: 0.0062 - val_loss: 0.0271 - val_mse: 0.0271\n",
            "Epoch 255/300\n",
            "1/1 [==============================] - 0s 29ms/step - loss: 0.0062 - mse: 0.0062 - val_loss: 0.0271 - val_mse: 0.0271\n",
            "Epoch 256/300\n",
            "1/1 [==============================] - 0s 31ms/step - loss: 0.0062 - mse: 0.0062 - val_loss: 0.0271 - val_mse: 0.0271\n",
            "Epoch 257/300\n",
            "1/1 [==============================] - 0s 38ms/step - loss: 0.0062 - mse: 0.0062 - val_loss: 0.0271 - val_mse: 0.0271\n",
            "Epoch 258/300\n",
            "1/1 [==============================] - 0s 41ms/step - loss: 0.0062 - mse: 0.0062 - val_loss: 0.0271 - val_mse: 0.0271\n",
            "Epoch 259/300\n",
            "1/1 [==============================] - 0s 33ms/step - loss: 0.0062 - mse: 0.0062 - val_loss: 0.0271 - val_mse: 0.0271\n",
            "Epoch 260/300\n",
            "1/1 [==============================] - 0s 32ms/step - loss: 0.0062 - mse: 0.0062 - val_loss: 0.0271 - val_mse: 0.0271\n",
            "Epoch 261/300\n",
            "1/1 [==============================] - 0s 54ms/step - loss: 0.0061 - mse: 0.0061 - val_loss: 0.0271 - val_mse: 0.0271\n",
            "Epoch 262/300\n",
            "1/1 [==============================] - 0s 45ms/step - loss: 0.0061 - mse: 0.0061 - val_loss: 0.0271 - val_mse: 0.0271\n",
            "Epoch 263/300\n",
            "1/1 [==============================] - 0s 38ms/step - loss: 0.0061 - mse: 0.0061 - val_loss: 0.0271 - val_mse: 0.0271\n",
            "Epoch 264/300\n",
            "1/1 [==============================] - 0s 42ms/step - loss: 0.0061 - mse: 0.0061 - val_loss: 0.0271 - val_mse: 0.0271\n",
            "Epoch 265/300\n",
            "1/1 [==============================] - 0s 46ms/step - loss: 0.0061 - mse: 0.0061 - val_loss: 0.0271 - val_mse: 0.0271\n",
            "Epoch 266/300\n",
            "1/1 [==============================] - 0s 37ms/step - loss: 0.0061 - mse: 0.0061 - val_loss: 0.0271 - val_mse: 0.0271\n",
            "Epoch 267/300\n",
            "1/1 [==============================] - 0s 32ms/step - loss: 0.0061 - mse: 0.0061 - val_loss: 0.0271 - val_mse: 0.0271\n",
            "Epoch 268/300\n",
            "1/1 [==============================] - 0s 31ms/step - loss: 0.0061 - mse: 0.0061 - val_loss: 0.0271 - val_mse: 0.0271\n",
            "Epoch 269/300\n",
            "1/1 [==============================] - 0s 45ms/step - loss: 0.0061 - mse: 0.0061 - val_loss: 0.0271 - val_mse: 0.0271\n",
            "Epoch 270/300\n",
            "1/1 [==============================] - 0s 51ms/step - loss: 0.0061 - mse: 0.0061 - val_loss: 0.0271 - val_mse: 0.0271\n",
            "Epoch 271/300\n",
            "1/1 [==============================] - 0s 52ms/step - loss: 0.0061 - mse: 0.0061 - val_loss: 0.0271 - val_mse: 0.0271\n",
            "Epoch 272/300\n",
            "1/1 [==============================] - 0s 42ms/step - loss: 0.0061 - mse: 0.0061 - val_loss: 0.0271 - val_mse: 0.0271\n",
            "Epoch 273/300\n",
            "1/1 [==============================] - 0s 36ms/step - loss: 0.0061 - mse: 0.0061 - val_loss: 0.0271 - val_mse: 0.0271\n",
            "Epoch 274/300\n",
            "1/1 [==============================] - 0s 43ms/step - loss: 0.0060 - mse: 0.0060 - val_loss: 0.0271 - val_mse: 0.0271\n",
            "Epoch 275/300\n",
            "1/1 [==============================] - 0s 40ms/step - loss: 0.0060 - mse: 0.0060 - val_loss: 0.0271 - val_mse: 0.0271\n",
            "Epoch 276/300\n",
            "1/1 [==============================] - 0s 67ms/step - loss: 0.0060 - mse: 0.0060 - val_loss: 0.0271 - val_mse: 0.0271\n",
            "Epoch 277/300\n",
            "1/1 [==============================] - 0s 34ms/step - loss: 0.0060 - mse: 0.0060 - val_loss: 0.0271 - val_mse: 0.0271\n",
            "Epoch 278/300\n",
            "1/1 [==============================] - 0s 35ms/step - loss: 0.0060 - mse: 0.0060 - val_loss: 0.0271 - val_mse: 0.0271\n",
            "Epoch 279/300\n",
            "1/1 [==============================] - 0s 34ms/step - loss: 0.0060 - mse: 0.0060 - val_loss: 0.0270 - val_mse: 0.0270\n",
            "Epoch 280/300\n",
            "1/1 [==============================] - 0s 34ms/step - loss: 0.0060 - mse: 0.0060 - val_loss: 0.0270 - val_mse: 0.0270\n",
            "Epoch 281/300\n",
            "1/1 [==============================] - 0s 33ms/step - loss: 0.0060 - mse: 0.0060 - val_loss: 0.0270 - val_mse: 0.0270\n",
            "Epoch 282/300\n",
            "1/1 [==============================] - 0s 33ms/step - loss: 0.0060 - mse: 0.0060 - val_loss: 0.0270 - val_mse: 0.0270\n",
            "Epoch 283/300\n",
            "1/1 [==============================] - 0s 49ms/step - loss: 0.0060 - mse: 0.0060 - val_loss: 0.0270 - val_mse: 0.0270\n",
            "Epoch 284/300\n",
            "1/1 [==============================] - 0s 36ms/step - loss: 0.0060 - mse: 0.0060 - val_loss: 0.0270 - val_mse: 0.0270\n",
            "Epoch 285/300\n",
            "1/1 [==============================] - 0s 45ms/step - loss: 0.0060 - mse: 0.0060 - val_loss: 0.0270 - val_mse: 0.0270\n",
            "Epoch 286/300\n",
            "1/1 [==============================] - 0s 53ms/step - loss: 0.0060 - mse: 0.0060 - val_loss: 0.0270 - val_mse: 0.0270\n",
            "Epoch 287/300\n",
            "1/1 [==============================] - 0s 44ms/step - loss: 0.0060 - mse: 0.0060 - val_loss: 0.0270 - val_mse: 0.0270\n",
            "Epoch 288/300\n",
            "1/1 [==============================] - 0s 49ms/step - loss: 0.0059 - mse: 0.0059 - val_loss: 0.0270 - val_mse: 0.0270\n",
            "Epoch 289/300\n",
            "1/1 [==============================] - 0s 49ms/step - loss: 0.0059 - mse: 0.0059 - val_loss: 0.0270 - val_mse: 0.0270\n",
            "Epoch 290/300\n",
            "1/1 [==============================] - 0s 50ms/step - loss: 0.0059 - mse: 0.0059 - val_loss: 0.0270 - val_mse: 0.0270\n",
            "Epoch 291/300\n",
            "1/1 [==============================] - 0s 52ms/step - loss: 0.0059 - mse: 0.0059 - val_loss: 0.0270 - val_mse: 0.0270\n",
            "Epoch 292/300\n",
            "1/1 [==============================] - 0s 43ms/step - loss: 0.0059 - mse: 0.0059 - val_loss: 0.0270 - val_mse: 0.0270\n",
            "Epoch 293/300\n",
            "1/1 [==============================] - 0s 59ms/step - loss: 0.0059 - mse: 0.0059 - val_loss: 0.0269 - val_mse: 0.0269\n",
            "Epoch 294/300\n",
            "1/1 [==============================] - 0s 48ms/step - loss: 0.0059 - mse: 0.0059 - val_loss: 0.0269 - val_mse: 0.0269\n",
            "Epoch 295/300\n",
            "1/1 [==============================] - 0s 47ms/step - loss: 0.0059 - mse: 0.0059 - val_loss: 0.0269 - val_mse: 0.0269\n",
            "Epoch 296/300\n",
            "1/1 [==============================] - 0s 35ms/step - loss: 0.0059 - mse: 0.0059 - val_loss: 0.0269 - val_mse: 0.0269\n",
            "Epoch 297/300\n",
            "1/1 [==============================] - 0s 47ms/step - loss: 0.0059 - mse: 0.0059 - val_loss: 0.0269 - val_mse: 0.0269\n",
            "Epoch 298/300\n",
            "1/1 [==============================] - 0s 51ms/step - loss: 0.0059 - mse: 0.0059 - val_loss: 0.0269 - val_mse: 0.0269\n",
            "Epoch 299/300\n",
            "1/1 [==============================] - 0s 47ms/step - loss: 0.0059 - mse: 0.0059 - val_loss: 0.0269 - val_mse: 0.0269\n",
            "Epoch 300/300\n",
            "1/1 [==============================] - 0s 33ms/step - loss: 0.0059 - mse: 0.0059 - val_loss: 0.0269 - val_mse: 0.0269\n",
            "1/1 [==============================] - 0s 30ms/step - loss: 0.0169 - mse: 0.0169\n"
          ]
        },
        {
          "output_type": "execute_result",
          "data": {
            "text/plain": [
              "[0.01690441183745861, 0.01690441183745861]"
            ]
          },
          "metadata": {},
          "execution_count": 64
        }
      ]
    },
    {
      "cell_type": "code",
      "source": [
        "plt.plot(history.history['loss'], label='train')\n",
        "plt.plot(history.history['val_loss'], label='validation')\n",
        "plt.legend()\n",
        "plt.show()"
      ],
      "metadata": {
        "colab": {
          "base_uri": "https://localhost:8080/",
          "height": 340
        },
        "id": "sQZg42EiXK8n",
        "outputId": "88d67d02-811c-442e-933e-4c227f8edb84"
      },
      "execution_count": 67,
      "outputs": [
        {
          "output_type": "display_data",
          "data": {
            "text/plain": [
              "<Figure size 720x360 with 1 Axes>"
            ],
            "image/png": "[encoded data removed]"
          },
          "metadata": {}
        }
      ]
    },
    {
      "cell_type": "code",
      "source": [
        "mse_cnn = cnn_model.evaluate(X_test, y_test)"
      ],
      "metadata": {
        "colab": {
          "base_uri": "https://localhost:8080/"
        },
        "id": "ImssP1C-YLO6",
        "outputId": "fe3754d6-0e9c-4da2-e1af-d82f2b3ad6b8"
      },
      "execution_count": 68,
      "outputs": [
        {
          "output_type": "stream",
          "name": "stdout",
          "text": [
            "1/1 [==============================] - 0s 20ms/step - loss: 0.0169 - mse: 0.0169\n"
          ]
        }
      ]
    },
    {
      "cell_type": "markdown",
      "source": [
        "####Baseline MSE = 0.0169"
      ],
      "metadata": {
        "id": "kaLutRuWgU4K"
      }
    },
    {
      "cell_type": "code",
      "source": [
        "cnn_model.summary()"
      ],
      "metadata": {
        "colab": {
          "base_uri": "https://localhost:8080/"
        },
        "id": "A8XbxYQeiCoj",
        "outputId": "9be1573a-dcb3-4d3e-fa64-e5d1ead209b6"
      },
      "execution_count": 69,
      "outputs": [
        {
          "output_type": "stream",
          "name": "stdout",
          "text": [
            "Model: \"sequential_3\"\n",
            "_________________________________________________________________\n",
            " Layer (type)                Output Shape              Param #   \n",
            "=================================================================\n",
            " conv1d_2 (Conv1D)           (None, 2, 64)             960       \n",
            "                                                                 \n",
            " max_pooling1d_2 (MaxPooling  (None, 1, 64)            0         \n",
            " 1D)                                                             \n",
            "                                                                 \n",
            " flatten_2 (Flatten)         (None, 64)                0         \n",
            "                                                                 \n",
            " dense_9 (Dense)             (None, 64)                4160      \n",
            "                                                                 \n",
            " dense_10 (Dense)            (None, 1)                 65        \n",
            "                                                                 \n",
            "=================================================================\n",
            "Total params: 5,185\n",
            "Trainable params: 5,185\n",
            "Non-trainable params: 0\n",
            "_________________________________________________________________\n"
          ]
        }
      ]
    },
    {
      "cell_type": "markdown",
      "source": [
        "###Predict the Test without Hyperparameter Tuning"
      ],
      "metadata": {
        "id": "bNFFP1sSleo-"
      }
    },
    {
      "cell_type": "code",
      "source": [
        "y_pred = cnn_model.predict(X_test)\n",
        "y_pred"
      ],
      "metadata": {
        "colab": {
          "base_uri": "https://localhost:8080/"
        },
        "id": "wujQ6JNuiCyl",
        "outputId": "656e0bf4-0558-4ac6-934a-b7686d5d6c4e"
      },
      "execution_count": 70,
      "outputs": [
        {
          "output_type": "stream",
          "name": "stdout",
          "text": [
            "1/1 [==============================] - 0s 57ms/step\n"
          ]
        },
        {
          "output_type": "execute_result",
          "data": {
            "text/plain": [
              "array([[ 0.09477703],\n",
              "       [ 0.09873489],\n",
              "       [ 0.12301685],\n",
              "       [ 0.11723491],\n",
              "       [ 0.13253102],\n",
              "       [ 0.10627772],\n",
              "       [ 0.0976567 ],\n",
              "       [ 0.04862951],\n",
              "       [-0.01441155],\n",
              "       [-0.03395047],\n",
              "       [-0.05177804],\n",
              "       [-0.02480905],\n",
              "       [-0.03990883],\n",
              "       [-0.0330333 ],\n",
              "       [-0.04474574],\n",
              "       [-0.08742907],\n",
              "       [-0.08945786],\n",
              "       [ 0.00957403],\n",
              "       [ 0.10102498],\n",
              "       [ 0.09531772],\n",
              "       [ 0.00234727],\n",
              "       [ 0.01293722]], dtype=float32)"
            ]
          },
          "metadata": {},
          "execution_count": 70
        }
      ]
    },
    {
      "cell_type": "code",
      "source": [
        "y_pred.reshape(1,-1)"
      ],
      "metadata": {
        "colab": {
          "base_uri": "https://localhost:8080/"
        },
        "id": "GI8XYmymlslh",
        "outputId": "9d7f8277-adea-4799-ec42-63f5d1894904"
      },
      "execution_count": 71,
      "outputs": [
        {
          "output_type": "execute_result",
          "data": {
            "text/plain": [
              "array([[ 0.09477703,  0.09873489,  0.12301685,  0.11723491,  0.13253102,\n",
              "         0.10627772,  0.0976567 ,  0.04862951, -0.01441155, -0.03395047,\n",
              "        -0.05177804, -0.02480905, -0.03990883, -0.0330333 , -0.04474574,\n",
              "        -0.08742907, -0.08945786,  0.00957403,  0.10102498,  0.09531772,\n",
              "         0.00234727,  0.01293722]], dtype=float32)"
            ]
          },
          "metadata": {},
          "execution_count": 71
        }
      ]
    },
    {
      "cell_type": "markdown",
      "source": [
        "###Invert Transformed Data"
      ],
      "metadata": {
        "id": "jrtmvrZ_l2__"
      }
    },
    {
      "cell_type": "code",
      "source": [
        "y_train_inv = cpo_pri_transformer.inverse_transform(y_train.reshape(1, -1))\n",
        "y_test_inv = cpo_pri_transformer.inverse_transform(y_test.reshape(1, -1))\n",
        "y_pred_inv = cpo_pri_transformer.inverse_transform(y_pred.reshape(1,-1))\n",
        "print(y_train_inv)\n",
        "print(y_test_inv)\n",
        "print(y_pred_inv)"
      ],
      "metadata": {
        "colab": {
          "base_uri": "https://localhost:8080/"
        },
        "id": "FVSGGT57lxHw",
        "outputId": "f0001a69-2258-4c23-a0a1-1f7dbc029718"
      },
      "execution_count": 72,
      "outputs": [
        {
          "output_type": "stream",
          "name": "stdout",
          "text": [
            "[[376. 383. 382. 396. 402. 390. 404. 382. 382. 391. 396. 413. 401. 410.\n",
            "  425. 408. 392. 371. 356. 362. 356. 352. 333. 357. 411. 404. 387. 395.\n",
            "  434. 488. 508. 494. 575. 614. 616. 707. 719. 655. 661. 687. 625. 611.\n",
            "  631. 655. 616. 586. 615. 607. 590. 535. 518. 519. 562. 552. 508. 476.\n",
            "  513. 545. 532. 550. 561. 567. 580. 559. 562. 553. 533. 498. 504. 525.\n",
            "  547. 556. 566. 621. 659. 671. 688. 705. 633. 661. 674. 703. 694. 681.\n",
            "  663. 632. 561. 497. 509. 475. 392. 319. 354. 388. 381. 370.]]\n",
            "[[349. 372. 324. 315. 312. 306. 288. 255. 257. 265. 254. 240. 254. 251.\n",
            "  234. 255. 330. 362. 310. 277. 323. 360.]]\n",
            "[[356.9108  358.49396 368.20673 365.89395 372.0124  361.51108 358.06268\n",
            "  338.4518  313.23538 305.4198  298.2888  309.0764  303.03647 305.78668\n",
            "  301.1017  284.02835 283.21686 322.8296  359.41    357.1271  319.9389\n",
            "  324.17487]]\n"
          ]
        }
      ]
    },
    {
      "cell_type": "markdown",
      "source": [
        "###Plot History, Actual and Predicted Value"
      ],
      "metadata": {
        "id": "PxYTgRmhmDtL"
      }
    },
    {
      "cell_type": "code",
      "source": [
        "y_train_inv = y_train_inv.flatten()\n",
        "y_train_inv"
      ],
      "metadata": {
        "colab": {
          "base_uri": "https://localhost:8080/"
        },
        "id": "YXY0nwhElxLo",
        "outputId": "965cc547-e34e-4823-aa06-29e5232df277"
      },
      "execution_count": 73,
      "outputs": [
        {
          "output_type": "execute_result",
          "data": {
            "text/plain": [
              "array([376., 383., 382., 396., 402., 390., 404., 382., 382., 391., 396.,\n",
              "       413., 401., 410., 425., 408., 392., 371., 356., 362., 356., 352.,\n",
              "       333., 357., 411., 404., 387., 395., 434., 488., 508., 494., 575.,\n",
              "       614., 616., 707., 719., 655., 661., 687., 625., 611., 631., 655.,\n",
              "       616., 586., 615., 607., 590., 535., 518., 519., 562., 552., 508.,\n",
              "       476., 513., 545., 532., 550., 561., 567., 580., 559., 562., 553.,\n",
              "       533., 498., 504., 525., 547., 556., 566., 621., 659., 671., 688.,\n",
              "       705., 633., 661., 674., 703., 694., 681., 663., 632., 561., 497.,\n",
              "       509., 475., 392., 319., 354., 388., 381., 370.])"
            ]
          },
          "metadata": {},
          "execution_count": 73
        }
      ]
    },
    {
      "cell_type": "code",
      "source": [
        "y_test_inv = y_test_inv.flatten()\n",
        "y_test_inv"
      ],
      "metadata": {
        "colab": {
          "base_uri": "https://localhost:8080/"
        },
        "id": "z_zQn_rpl_MC",
        "outputId": "52775fc1-b267-407a-eefe-3e866285bc38"
      },
      "execution_count": 74,
      "outputs": [
        {
          "output_type": "execute_result",
          "data": {
            "text/plain": [
              "array([349., 372., 324., 315., 312., 306., 288., 255., 257., 265., 254.,\n",
              "       240., 254., 251., 234., 255., 330., 362., 310., 277., 323., 360.])"
            ]
          },
          "metadata": {},
          "execution_count": 74
        }
      ]
    },
    {
      "cell_type": "code",
      "source": [
        "y_pred_inv = y_pred_inv.flatten()\n",
        "y_pred_inv"
      ],
      "metadata": {
        "colab": {
          "base_uri": "https://localhost:8080/"
        },
        "id": "X4GInUagmJUO",
        "outputId": "74214ce4-44d9-464d-c656-0c8859ee3bb7"
      },
      "execution_count": 75,
      "outputs": [
        {
          "output_type": "execute_result",
          "data": {
            "text/plain": [
              "array([356.9108 , 358.49396, 368.20673, 365.89395, 372.0124 , 361.51108,\n",
              "       358.06268, 338.4518 , 313.23538, 305.4198 , 298.2888 , 309.0764 ,\n",
              "       303.03647, 305.78668, 301.1017 , 284.02835, 283.21686, 322.8296 ,\n",
              "       359.41   , 357.1271 , 319.9389 , 324.17487], dtype=float32)"
            ]
          },
          "metadata": {},
          "execution_count": 75
        }
      ]
    },
    {
      "cell_type": "code",
      "source": [
        "plt.plot(np.arange(0, len(y_train)), y_train_inv, color='green', label=\"History\")\n",
        "plt.plot(np.arange(len(y_train), len(y_train) + len(y_test)), y_test_inv, color='blue', marker='.', label=\"Actual\")\n",
        "plt.plot(np.arange(len(y_train), len(y_train) + len(y_test)), y_pred_inv, color='red', label=\"CNN Prediction\")\n",
        "plt.ylabel('Crude Palm Oil Price')\n",
        "plt.xlabel('Time step')\n",
        "plt.legend()\n",
        "plt.show();"
      ],
      "metadata": {
        "colab": {
          "base_uri": "https://localhost:8080/",
          "height": 363
        },
        "id": "vHGNO1xAmJYI",
        "outputId": "1163a438-9087-4fb3-a8d6-81929c7bc1d1"
      },
      "execution_count": 76,
      "outputs": [
        {
          "output_type": "display_data",
          "data": {
            "text/plain": [
              "<Figure size 720x360 with 1 Axes>"
            ],
            "image/png": "[encoded data removed]"
          },
          "metadata": {}
        }
      ]
    },
    {
      "cell_type": "markdown",
      "source": [
        "###Evaluate CNN Model Accuracy"
      ],
      "metadata": {
        "id": "1NImON2RmyWF"
      }
    },
    {
      "cell_type": "code",
      "source": [
        "MAE_cnn = mean_absolute_error(y_test_inv, y_pred_inv)\n",
        "print('MAE value of the CNN Model is:', MAE_cnn)\n",
        "\n",
        "MDA_cnn = mda(y_test_inv, y_pred_inv)\n",
        "print('MDA value of the CNN Model is:', MDA_cnn)\n",
        "\n",
        "MAPE_cnn = mean_absolute_percentage_error(y_test_inv, y_pred_inv)\n",
        "print('MAPE value of the CNN Model is:', MAPE_cnn)\n",
        "\n",
        "RMSE_cnn = mean_squared_error(y_test_inv,y_pred_inv, squared=False)\n",
        "print('RMSE value of the CNN Model is:', RMSE_cnn)\n",
        "\n",
        "MSE_cnn = mean_squared_error(y_test_inv,y_pred_inv)\n",
        "print('MSE value of the CNN Model is:', MSE_cnn)\n",
        "\n",
        "#EVS_cnn = explained_variance_score(y_test_inv, y_pred_inv)\n",
        "#print('EVS score of the CNN Model is:', EVS_cnn)"
      ],
      "metadata": {
        "colab": {
          "base_uri": "https://localhost:8080/"
        },
        "id": "fIc5ITw4m2QJ",
        "outputId": "417529aa-4109-4b91-a0e0-a5956d57a2af"
      },
      "execution_count": 77,
      "outputs": [
        {
          "output_type": "stream",
          "name": "stdout",
          "text": [
            "MAE value of the CNN Model is: 47.722997492009945\n",
            "MDA value of the CNN Model is: 0.47619047619047616\n",
            "MAPE value of the CNN Model is: 17.065203605182834\n",
            "RMSE value of the CNN Model is: 52.006788432860596\n",
            "MSE value of the CNN Model is: 2704.706043100323\n"
          ]
        }
      ]
    },
    {
      "cell_type": "markdown",
      "source": [
        "####Actual VS Predicted CNN Model"
      ],
      "metadata": {
        "id": "eKMI38Fvmo5t"
      }
    },
    {
      "cell_type": "code",
      "source": [
        "plt.plot(y_test_inv, marker='.', label=\"Actual\")\n",
        "plt.plot(y_pred_inv, color='red', label=\"CNN Prediction\")\n",
        "plt.ylabel('Crude Palm Oil Price')\n",
        "plt.xlabel('Time Step')\n",
        "plt.legend()\n",
        "plt.show();"
      ],
      "metadata": {
        "colab": {
          "base_uri": "https://localhost:8080/",
          "height": 363
        },
        "id": "U_NZ9TEumJb8",
        "outputId": "b4441149-dba8-4866-8608-2e27066ca3b8"
      },
      "execution_count": 78,
      "outputs": [
        {
          "output_type": "display_data",
          "data": {
            "text/plain": [
              "<Figure size 720x360 with 1 Axes>"
            ],
            "image/png": "[encoded data removed]"
          },
          "metadata": {}
        }
      ]
    },
    {
      "cell_type": "markdown",
      "source": [
        "###Tuning CNN with Keras Tuner"
      ],
      "metadata": {
        "id": "fs98oM36Yw_r"
      }
    },
    {
      "cell_type": "code",
      "source": [
        "class ANNhypermodel(HyperModel):\n",
        "#class CNNHyperModel(HyperModel):\n",
        "    \n",
        "    def __init__(self, input_shape):\n",
        "        self.input_shape= input_shape\n",
        "        \n",
        "    def build(self, hp):\n",
        "        model= keras.Sequential()\n",
        "        \n",
        "        # Tune the number of units in the first Dense layer\n",
        "        # Defining dense units as a close approx to the original neural network to perform a fair comparision!\n",
        "        \n",
        "        \n",
        "        hp_units_1= hp.Int('units_1', min_value=128, max_value= 160, step=32)\n",
        "        hp_units_2= hp.Int('units_2', min_value=64, max_value= 128, step=32)\n",
        "        hp_units_3= hp.Int('units_3', min_value=32, max_value= 64, step=16)\n",
        "\n",
        "        model.add(keras.layers.Dense(units=hp_units_1, activation='tanh', input_shape= self.input_shape))\n",
        "        model.add(keras.layers.Dense(units=hp_units_2, activation='tanh'))\n",
        "        model.add(keras.layers.Dense(units=hp_units_3, activation='tanh'))\n",
        "        model.add(keras.layers.Dense(1))\n",
        "\n",
        "        #Tune the dropout\n",
        "        model.add(\n",
        "            Dropout(\n",
        "                rate=hp.Float(\n",
        "                    'dropout',\n",
        "                    min_value=0.0,\n",
        "                    max_value=0.5,\n",
        "                    default=0.25,\n",
        "                    step=0.05\n",
        "                )\n",
        "            )\n",
        "        )\n",
        "\n",
        "        # Tune the learning rate for the optimizer \n",
        "        hp_learning_rate=hp.Float('learning_rate', min_value=1e-4, max_value=1e-2, sampling='LOG', default= 0.0005)\n",
        "       # -------------------------------------------------------\n",
        "        #model.add(\n",
        "            #layers.Dense(\n",
        "                #hp.Float(\n",
        "                    #'batch_size',\n",
        "                    #'type\": \"range', ###########\n",
        "                     #min_value= 10, \n",
        "                     #max_value=60,\n",
        "                     #default=1,\n",
        "                     #step=20)\n",
        "                    #'value_type': \"int\" ###########\n",
        "            #)\n",
        "        #)\n",
        "       #---------------------------------------------------------\n",
        "        model.compile(loss='mse',\n",
        "                    optimizer= keras.optimizers.Adam(learning_rate=hp_learning_rate),\n",
        "                    metrics= ['mae','mse']\n",
        "                     )\n",
        "\n",
        "        return model\n",
        "\n",
        "hypermodel= ANNhypermodel(input_shape = (X_test.shape[1], X_test.shape[2]))\n",
        "#hypermodel = CNNHyperModel(input_shape = (X_test.shape[1], X_test.shape[2]))"
      ],
      "metadata": {
        "id": "6sH3KVfoj7jq"
      },
      "execution_count": 81,
      "outputs": []
    },
    {
      "cell_type": "markdown",
      "source": [
        "###Build Random Search Tuner"
      ],
      "metadata": {
        "id": "Vw6sRopRkNq-"
      }
    },
    {
      "cell_type": "code",
      "source": [
        "tuner_rs = RandomSearch(\n",
        "            hypermodel,\n",
        "            objective='mse',\n",
        "            seed=42,\n",
        "            max_trials=10,\n",
        "            executions_per_trial=2, overwrite=True\n",
        "        )"
      ],
      "metadata": {
        "id": "oPWNkr_dj7ng"
      },
      "execution_count": 82,
      "outputs": []
    },
    {
      "cell_type": "markdown",
      "source": [
        "###Run Random Search"
      ],
      "metadata": {
        "id": "UH8vIpuOkl0V"
      }
    },
    {
      "cell_type": "code",
      "source": [
        "tuner_rs.search(X_train, y_train, epochs=10, validation_split=0.2, verbose=0)"
      ],
      "metadata": {
        "id": "XC6nlTF4j7rN",
        "colab": {
          "base_uri": "https://localhost:8080/"
        },
        "outputId": "18e7c164-3a9e-48d8-9c68-1c6381fbf208"
      },
      "execution_count": 83,
      "outputs": [
        {
          "output_type": "stream",
          "name": "stderr",
          "text": [
            "WARNING:tensorflow:Detecting that an object or model or tf.train.Checkpoint is being deleted with unrestored values. See the following logs for the specific values in question. To silence these warnings, use `status.expect_partial()`. See https://www.tensorflow.org/api_docs/python/tf/train/Checkpoint#restorefor details about the status object returned by the restore function.\n",
            "WARNING:tensorflow:Value in checkpoint could not be found in the restored object: (root).optimizer.iter\n",
            "WARNING:tensorflow:Value in checkpoint could not be found in the restored object: (root).optimizer.beta_1\n",
            "WARNING:tensorflow:Value in checkpoint could not be found in the restored object: (root).optimizer.beta_2\n",
            "WARNING:tensorflow:Value in checkpoint could not be found in the restored object: (root).optimizer.decay\n",
            "WARNING:tensorflow:Value in checkpoint could not be found in the restored object: (root).optimizer.learning_rate\n"
          ]
        }
      ]
    },
    {
      "cell_type": "markdown",
      "source": [
        "###Evaluate Random Search"
      ],
      "metadata": {
        "id": "ZWc0whe7l-_0"
      }
    },
    {
      "cell_type": "code",
      "source": [
        "best_model = tuner_rs.get_best_models(num_models=1)[0]\n",
        "mse_rs = best_model.evaluate(X_test, y_test)[1]"
      ],
      "metadata": {
        "colab": {
          "base_uri": "https://localhost:8080/"
        },
        "id": "V0u8mTuTj7wl",
        "outputId": "3e83085a-0ba0-4cd4-9dc8-d0f4b9265159"
      },
      "execution_count": 84,
      "outputs": [
        {
          "output_type": "stream",
          "name": "stdout",
          "text": [
            "1/1 [==============================] - 0s 302ms/step - loss: 0.0919 - mae: 0.2840 - mse: 0.0919\n"
          ]
        }
      ]
    },
    {
      "cell_type": "markdown",
      "source": [
        "####Random Search MSE = 0.0919"
      ],
      "metadata": {
        "id": "9jgCzQ74mQjM"
      }
    },
    {
      "cell_type": "code",
      "source": [
        "best_params = tuner_rs.get_best_hyperparameters()\n",
        "\n",
        "best_params[0].values"
      ],
      "metadata": {
        "colab": {
          "base_uri": "https://localhost:8080/"
        },
        "id": "jJ5NIqxpj72V",
        "outputId": "6c5f576f-2185-46f9-bac0-9439c6b0ba6a"
      },
      "execution_count": 85,
      "outputs": [
        {
          "output_type": "execute_result",
          "data": {
            "text/plain": [
              "{'units_1': 160,\n",
              " 'units_2': 96,\n",
              " 'units_3': 64,\n",
              " 'dropout': 0.05,\n",
              " 'learning_rate': 0.008547485565344062}"
            ]
          },
          "metadata": {},
          "execution_count": 85
        }
      ]
    },
    {
      "cell_type": "markdown",
      "source": [
        "###Build Bayesian Optimization"
      ],
      "metadata": {
        "id": "AxWQfBYpnLjI"
      }
    },
    {
      "cell_type": "code",
      "source": [
        "tuner_bo = BayesianOptimization(\n",
        "            hypermodel,\n",
        "            objective='val_mse',\n",
        "            max_trials=10,\n",
        "            seed=42,\n",
        "            executions_per_trial=2,\n",
        "            directory='bo'\n",
        "        )"
      ],
      "metadata": {
        "id": "uixpiCLPmsaZ"
      },
      "execution_count": 88,
      "outputs": []
    },
    {
      "cell_type": "markdown",
      "source": [
        "###Run Bayesian Optimization"
      ],
      "metadata": {
        "id": "_lTWVuDcoYU9"
      }
    },
    {
      "cell_type": "code",
      "source": [
        "tuner_bo.search(X_train, y_train, epochs=10, validation_split=0.2, verbose=0)\n",
        "\n",
        "best_model = tuner_bo.get_best_models(num_models=1)[0]\n",
        "mse_bo = best_model.evaluate(X_test, y_test)[1]"
      ],
      "metadata": {
        "id": "L6qZa1Kvmsgn",
        "outputId": "9b758601-54de-46a1-c711-d1f75014e12e",
        "colab": {
          "base_uri": "https://localhost:8080/"
        }
      },
      "execution_count": 89,
      "outputs": [
        {
          "output_type": "stream",
          "name": "stderr",
          "text": [
            "WARNING:tensorflow:Detecting that an object or model or tf.train.Checkpoint is being deleted with unrestored values. See the following logs for the specific values in question. To silence these warnings, use `status.expect_partial()`. See https://www.tensorflow.org/api_docs/python/tf/train/Checkpoint#restorefor details about the status object returned by the restore function.\n",
            "WARNING:tensorflow:Value in checkpoint could not be found in the restored object: (root).optimizer.iter\n",
            "WARNING:tensorflow:Value in checkpoint could not be found in the restored object: (root).optimizer.beta_1\n",
            "WARNING:tensorflow:Value in checkpoint could not be found in the restored object: (root).optimizer.beta_2\n",
            "WARNING:tensorflow:Value in checkpoint could not be found in the restored object: (root).optimizer.decay\n",
            "WARNING:tensorflow:Value in checkpoint could not be found in the restored object: (root).optimizer.learning_rate\n"
          ]
        },
        {
          "output_type": "stream",
          "name": "stdout",
          "text": [
            "1/1 [==============================] - 0s 302ms/step - loss: 0.2367 - mae: 0.4740 - mse: 0.2367\n"
          ]
        }
      ]
    },
    {
      "cell_type": "markdown",
      "source": [
        "###Bayesian Optimization Search MSE = 0.2367"
      ],
      "metadata": {
        "id": "KiNYUG96ZUIz"
      }
    },
    {
      "cell_type": "markdown",
      "source": [
        "###Evaluate Bayesian Optimization"
      ],
      "metadata": {
        "id": "Ppb8qezeoe7c"
      }
    },
    {
      "cell_type": "code",
      "source": [
        "best_params = tuner_bo.get_best_hyperparameters()\n",
        "\n",
        "best_params[0].values"
      ],
      "metadata": {
        "colab": {
          "base_uri": "https://localhost:8080/"
        },
        "id": "0bDWDTrOmsm1",
        "outputId": "19ee6d5b-0e61-41f1-9232-fa7efe3f5f9a"
      },
      "execution_count": 90,
      "outputs": [
        {
          "output_type": "execute_result",
          "data": {
            "text/plain": [
              "{'units_1': 160,\n",
              " 'units_2': 128,\n",
              " 'units_3': 64,\n",
              " 'dropout': 0.0,\n",
              " 'learning_rate': 0.01}"
            ]
          },
          "metadata": {},
          "execution_count": 90
        }
      ]
    },
    {
      "cell_type": "code",
      "source": [
        "best_model = tuner_bo.get_best_models(num_models=1)[0]\n",
        "mse_bo = best_model.evaluate(X_test, y_test)[1]"
      ],
      "metadata": {
        "colab": {
          "base_uri": "https://localhost:8080/"
        },
        "id": "odraTQ8KbUw9",
        "outputId": "ecd87822-2d01-489d-c539-663bd718809d"
      },
      "execution_count": 91,
      "outputs": [
        {
          "output_type": "stream",
          "name": "stdout",
          "text": [
            "1/1 [==============================] - 0s 302ms/step - loss: 0.2367 - mae: 0.4740 - mse: 0.2367\n"
          ]
        }
      ]
    },
    {
      "cell_type": "markdown",
      "source": [
        "###Build HYPERBAND optimization"
      ],
      "metadata": {
        "id": "9rYL672xrXtU"
      }
    },
    {
      "cell_type": "code",
      "source": [
        "MAX_TRIALS = 20\n",
        "tuner= RandomSearch(hypermodel,\n",
        "               objective= 'val_mse',\n",
        "               max_trials= MAX_TRIALS,\n",
        "               executions_per_trial= 2,\n",
        "               directory= 'random_search',\n",
        "               project_name='randomsearch',\n",
        "               overwrite=True)"
      ],
      "metadata": {
        "id": "CqxbIHGxmstL"
      },
      "execution_count": 53,
      "outputs": []
    },
    {
      "cell_type": "code",
      "source": [
        "HYPERBAND_MAX_EPOCHS = 150\n",
        "EXECUTION_PER_TRIAL = 2\n",
        "\n",
        "tuner= Hyperband(hypermodel,\n",
        "                   objective= 'val_mse',\n",
        "                   max_epochs=HYPERBAND_MAX_EPOCHS, #Set 100+ for good results\n",
        "                   executions_per_trial=EXECUTION_PER_TRIAL,\n",
        "                   directory= 'hyperband',\n",
        "                   project_name='hyper',\n",
        "                   overwrite=True)\n",
        "\n",
        "# tuner.search_space_summary()"
      ],
      "metadata": {
        "id": "eaGs4DAFosPl"
      },
      "execution_count": 54,
      "outputs": []
    },
    {
      "cell_type": "code",
      "source": [
        "print('searching for the best params!')\n",
        "\n",
        "t0 = time()\n",
        "tuner.search(x= X_train,\n",
        "             y= y_train,\n",
        "             epochs=100,\n",
        "             batch_size= 64,\n",
        "             validation_data= (X_test, y_test),\n",
        "             verbose=0,\n",
        "             callbacks= []\n",
        "            )\n",
        "print(time()- t0,\" secs\")\n",
        "\n",
        "# Retreive the optimal hyperparameters\n",
        "best_hps= tuner.get_best_hyperparameters(num_trials=1)[0]\n",
        "\n",
        "# Retrieve the best model\n",
        "best_model = tuner.get_best_models(num_models=1)[0]"
      ],
      "metadata": {
        "colab": {
          "base_uri": "https://localhost:8080/"
        },
        "id": "NXf_LR3mosWn",
        "outputId": "d1928ceb-b796-4d8d-9226-766754c66cfd"
      },
      "execution_count": 55,
      "outputs": [
        {
          "output_type": "stream",
          "name": "stderr",
          "text": [
            "WARNING:tensorflow:Detecting that an object or model or tf.train.Checkpoint is being deleted with unrestored values. See the following logs for the specific values in question. To silence these warnings, use `status.expect_partial()`. See https://www.tensorflow.org/api_docs/python/tf/train/Checkpoint#restorefor details about the status object returned by the restore function.\n",
            "WARNING:tensorflow:Value in checkpoint could not be found in the restored object: (root).optimizer.iter\n",
            "WARNING:tensorflow:Value in checkpoint could not be found in the restored object: (root).optimizer.beta_1\n",
            "WARNING:tensorflow:Value in checkpoint could not be found in the restored object: (root).optimizer.beta_2\n",
            "WARNING:tensorflow:Value in checkpoint could not be found in the restored object: (root).optimizer.decay\n",
            "WARNING:tensorflow:Value in checkpoint could not be found in the restored object: (root).optimizer.learning_rate\n"
          ]
        },
        {
          "output_type": "stream",
          "name": "stdout",
          "text": [
            "searching for the best params!\n"
          ]
        },
        {
          "output_type": "stream",
          "name": "stderr",
          "text": [
            "WARNING:tensorflow:5 out of the last 15 calls to <function Model.make_test_function.<locals>.test_function at 0x7fadd0333560> triggered tf.function retracing. Tracing is expensive and the excessive number of tracings could be due to (1) creating @tf.function repeatedly in a loop, (2) passing tensors with different shapes, (3) passing Python objects instead of tensors. For (1), please define your @tf.function outside of the loop. For (2), @tf.function has reduce_retracing=True option that can avoid unnecessary retracing. For (3), please refer to https://www.tensorflow.org/guide/function#controlling_retracing and https://www.tensorflow.org/api_docs/python/tf/function for  more details.\n",
            "WARNING:tensorflow:6 out of the last 17 calls to <function Model.make_test_function.<locals>.test_function at 0x7fad76356dd0> triggered tf.function retracing. Tracing is expensive and the excessive number of tracings could be due to (1) creating @tf.function repeatedly in a loop, (2) passing tensors with different shapes, (3) passing Python objects instead of tensors. For (1), please define your @tf.function outside of the loop. For (2), @tf.function has reduce_retracing=True option that can avoid unnecessary retracing. For (3), please refer to https://www.tensorflow.org/guide/function#controlling_retracing and https://www.tensorflow.org/api_docs/python/tf/function for  more details.\n"
          ]
        },
        {
          "output_type": "stream",
          "name": "stdout",
          "text": [
            "789.8020212650299  secs\n"
          ]
        }
      ]
    },
    {
      "cell_type": "code",
      "source": [
        "print(f\"\"\"\n",
        "The hyperparameter search is complete. The optimal number of units in the \n",
        "first densely-connected layer is {best_hps.get('units_1')},\n",
        "second layer is {best_hps.get('units_2')} \n",
        "third layer is {best_hps.get('units_3')} \n",
        "drop out is {best_hps.get('dropout')}\n",
        "#learning rate is {best_hps.get('learning_rate')}                                        \n",
        "\n",
        "and the optimal learning rate for the optimizer\n",
        "is {best_hps.get('learning_rate')}.\n",
        "\"\"\")\n",
        "\n",
        "# Evaluate the best model.\n",
        "print(best_model.metrics_names)\n",
        "loss, mae, mse = best_model.evaluate(X_test, y_test)\n",
        "print(f'loss:{loss} mae: {mae} mse: {mse}')\n",
        "\n",
        "'''\n",
        "print(best_hps.get('units'))\n",
        "print(best_hps.get('layers'))\n",
        "print(best_hps.get('window'))\n",
        "print(best_hps.get('learning_rate'))\n",
        "'''"
      ],
      "metadata": {
        "colab": {
          "base_uri": "https://localhost:8080/",
          "height": 269
        },
        "id": "UcOC-csfrvmH",
        "outputId": "522350b9-fbdd-43a0-edcd-97a1f56bbc79"
      },
      "execution_count": 56,
      "outputs": [
        {
          "output_type": "stream",
          "name": "stdout",
          "text": [
            "\n",
            "The hyperparameter search is complete. The optimal number of units in the \n",
            "first densely-connected layer is 128,\n",
            "second layer is 96 \n",
            "third layer is 48 \n",
            "drop out is 0.45\n",
            "#learning rate is 0.007588827342097074                                        \n",
            "\n",
            "and the optimal learning rate for the optimizer\n",
            "is 0.007588827342097074.\n",
            "\n",
            "[]\n",
            "1/1 [==============================] - 0s 319ms/step - loss: 0.0114 - mae: 0.0948 - mse: 0.0114\n",
            "loss:0.01140345074236393 mae: 0.09478043019771576 mse: 0.01140345074236393\n"
          ]
        },
        {
          "output_type": "execute_result",
          "data": {
            "text/plain": [
              "\"\\nprint(best_hps.get('units'))\\nprint(best_hps.get('layers'))\\nprint(best_hps.get('window'))\\nprint(best_hps.get('learning_rate'))\\n\""
            ],
            "application/vnd.google.colaboratory.intrinsic+json": {
              "type": "string"
            }
          },
          "metadata": {},
          "execution_count": 56
        }
      ]
    },
    {
      "cell_type": "code",
      "source": [
        "# Get the optimal hyperparameters\n",
        "best_hps = tuner.get_best_hyperparameters(num_trials = 1)[0]\n",
        "print(best_hps.values)"
      ],
      "metadata": {
        "colab": {
          "base_uri": "https://localhost:8080/"
        },
        "id": "q0e8tSIulgh_",
        "outputId": "11fddf29-bef3-4d93-f6ff-c01adc3ed288"
      },
      "execution_count": 92,
      "outputs": [
        {
          "output_type": "stream",
          "name": "stdout",
          "text": [
            "{'units_1': 128, 'units_2': 96, 'units_3': 48, 'dropout': 0.45, 'learning_rate': 0.007588827342097074, 'tuner/epochs': 150, 'tuner/initial_epoch': 50, 'tuner/bracket': 1, 'tuner/round': 1, 'tuner/trial_id': '0239'}\n"
          ]
        }
      ]
    },
    {
      "cell_type": "markdown",
      "source": [
        "###Apply the trained parameters to the CNN"
      ],
      "metadata": {
        "id": "oggNSpcVpofH"
      }
    },
    {
      "cell_type": "code",
      "source": [
        "TUcnn_model = tf.keras.Sequential()\n",
        "TUcnn_model.add(tf.keras.layers.Conv1D(filters=128, kernel_size=2, activation='tanh', input_shape=(X_test.shape[1], X_test.shape[2])))\n",
        "TUcnn_model.add(tf.keras.layers.Dense(96, activation='tanh'))\n",
        "TUcnn_model.add(tf.keras.layers.MaxPooling1D(pool_size=2))\n",
        "TUcnn_model.add(tf.keras.layers.Flatten())\n",
        "TUcnn_model.add(tf.keras.layers.Dense(48, activation='tanh'))\n",
        "TUcnn_model.add(layers.Dropout(0.45))\n",
        "\n",
        "TUcnn_model.add(tf.keras.layers.Dense(1))\n",
        "# compile model using adam\n",
        "#opt = tf.keras.optimizers.Adam(learning_rate=0.01)\n",
        "TUcnn_model.compile(loss = 'mse', optimizer= tf.keras.optimizers.Adam(learning_rate=0.003021691068008031), metrics= ['mae', 'mse'])\n",
        "TUcnn_model.compile(optimizer='rmsprop',loss='mse',metrics=['mse']),\n",
        "\n",
        "history = TUcnn_model.fit(X_train, y_train, epochs=200, batch_size = 128, validation_split=0.2) #epochs =200, bs = 128 , RMSE=46\n",
        "#epochs =200, bs = 144 , RMSE=51.72\n",
        "#epochs =200, bs = 144 , opt = rmsprop, RMSE=38.76/44.25\n",
        "#epochs =100, bs = 144 , opt = rmsprop, RMSE=41.62\n",
        "#epochs =200, bs = 160 , opt = rmsprop, RMSE=40\n",
        "#epochs =300, bs = 160 , opt = SGD,     RMSE = 37.87 jag\n",
        "#epochs =300, bs = 160 , opt = AdaMax,  RMSE = 42.13 smoo\n",
        "#epochs =200, bs = 128 , opt = rmsprop,  RMSE = 36.24 smoo\n",
        "\n",
        "#rmsprop\n",
        "\n",
        "# model evaluation\n",
        "TUcnn_model.evaluate(X_test, y_test)"
      ],
      "metadata": {
        "colab": {
          "base_uri": "https://localhost:8080/"
        },
        "id": "CQ6kXmu0pRGf",
        "outputId": "80c21c5b-185e-4d9e-b8b4-ce161c3c98b1"
      },
      "execution_count": 349,
      "outputs": [
        {
          "output_type": "stream",
          "name": "stdout",
          "text": [
            "Epoch 1/200\n",
            "1/1 [==============================] - 1s 794ms/step - loss: 1.2351 - mse: 1.2351 - val_loss: 0.2008 - val_mse: 0.2008\n",
            "Epoch 2/200\n",
            "1/1 [==============================] - 0s 28ms/step - loss: 0.3379 - mse: 0.3379 - val_loss: 0.2633 - val_mse: 0.2633\n",
            "Epoch 3/200\n",
            "1/1 [==============================] - 0s 45ms/step - loss: 0.1866 - mse: 0.1866 - val_loss: 0.0797 - val_mse: 0.0797\n",
            "Epoch 4/200\n",
            "1/1 [==============================] - 0s 26ms/step - loss: 0.0935 - mse: 0.0935 - val_loss: 0.1243 - val_mse: 0.1243\n",
            "Epoch 5/200\n",
            "1/1 [==============================] - 0s 50ms/step - loss: 0.0582 - mse: 0.0582 - val_loss: 0.0957 - val_mse: 0.0957\n",
            "Epoch 6/200\n",
            "1/1 [==============================] - 0s 26ms/step - loss: 0.0828 - mse: 0.0828 - val_loss: 0.0581 - val_mse: 0.0581\n",
            "Epoch 7/200\n",
            "1/1 [==============================] - 0s 25ms/step - loss: 0.0691 - mse: 0.0691 - val_loss: 0.1221 - val_mse: 0.1221\n",
            "Epoch 8/200\n",
            "1/1 [==============================] - 0s 26ms/step - loss: 0.0703 - mse: 0.0703 - val_loss: 0.0549 - val_mse: 0.0549\n",
            "Epoch 9/200\n",
            "1/1 [==============================] - 0s 27ms/step - loss: 0.0666 - mse: 0.0666 - val_loss: 0.0950 - val_mse: 0.0950\n",
            "Epoch 10/200\n",
            "1/1 [==============================] - 0s 35ms/step - loss: 0.0680 - mse: 0.0680 - val_loss: 0.0428 - val_mse: 0.0428\n",
            "Epoch 11/200\n",
            "1/1 [==============================] - 0s 27ms/step - loss: 0.0404 - mse: 0.0404 - val_loss: 0.0788 - val_mse: 0.0788\n",
            "Epoch 12/200\n",
            "1/1 [==============================] - 0s 33ms/step - loss: 0.0332 - mse: 0.0332 - val_loss: 0.0328 - val_mse: 0.0328\n",
            "Epoch 13/200\n",
            "1/1 [==============================] - 0s 27ms/step - loss: 0.0418 - mse: 0.0418 - val_loss: 0.0861 - val_mse: 0.0861\n",
            "Epoch 14/200\n",
            "1/1 [==============================] - 0s 26ms/step - loss: 0.0522 - mse: 0.0522 - val_loss: 0.0257 - val_mse: 0.0257\n",
            "Epoch 15/200\n",
            "1/1 [==============================] - 0s 26ms/step - loss: 0.0423 - mse: 0.0423 - val_loss: 0.0863 - val_mse: 0.0863\n",
            "Epoch 16/200\n",
            "1/1 [==============================] - 0s 26ms/step - loss: 0.0533 - mse: 0.0533 - val_loss: 0.0354 - val_mse: 0.0354\n",
            "Epoch 17/200\n",
            "1/1 [==============================] - 0s 28ms/step - loss: 0.0685 - mse: 0.0685 - val_loss: 0.1605 - val_mse: 0.1605\n",
            "Epoch 18/200\n",
            "1/1 [==============================] - 0s 28ms/step - loss: 0.0951 - mse: 0.0951 - val_loss: 0.0513 - val_mse: 0.0513\n",
            "Epoch 19/200\n",
            "1/1 [==============================] - 0s 27ms/step - loss: 0.1022 - mse: 0.1022 - val_loss: 0.1671 - val_mse: 0.1671\n",
            "Epoch 20/200\n",
            "1/1 [==============================] - 0s 27ms/step - loss: 0.1030 - mse: 0.1030 - val_loss: 0.0530 - val_mse: 0.0530\n",
            "Epoch 21/200\n",
            "1/1 [==============================] - 0s 27ms/step - loss: 0.0901 - mse: 0.0901 - val_loss: 0.1081 - val_mse: 0.1081\n",
            "Epoch 22/200\n",
            "1/1 [==============================] - 0s 27ms/step - loss: 0.0775 - mse: 0.0775 - val_loss: 0.0311 - val_mse: 0.0311\n",
            "Epoch 23/200\n",
            "1/1 [==============================] - 0s 27ms/step - loss: 0.0481 - mse: 0.0481 - val_loss: 0.0717 - val_mse: 0.0717\n",
            "Epoch 24/200\n",
            "1/1 [==============================] - 0s 26ms/step - loss: 0.0457 - mse: 0.0457 - val_loss: 0.0238 - val_mse: 0.0238\n",
            "Epoch 25/200\n",
            "1/1 [==============================] - 0s 27ms/step - loss: 0.0386 - mse: 0.0386 - val_loss: 0.0588 - val_mse: 0.0588\n",
            "Epoch 26/200\n",
            "1/1 [==============================] - 0s 29ms/step - loss: 0.0338 - mse: 0.0338 - val_loss: 0.0233 - val_mse: 0.0233\n",
            "Epoch 27/200\n",
            "1/1 [==============================] - 0s 27ms/step - loss: 0.0368 - mse: 0.0368 - val_loss: 0.0600 - val_mse: 0.0600\n",
            "Epoch 28/200\n",
            "1/1 [==============================] - 0s 28ms/step - loss: 0.0343 - mse: 0.0343 - val_loss: 0.0232 - val_mse: 0.0232\n",
            "Epoch 29/200\n",
            "1/1 [==============================] - 0s 30ms/step - loss: 0.0451 - mse: 0.0451 - val_loss: 0.0944 - val_mse: 0.0944\n",
            "Epoch 30/200\n",
            "1/1 [==============================] - 0s 27ms/step - loss: 0.0744 - mse: 0.0744 - val_loss: 0.0552 - val_mse: 0.0552\n",
            "Epoch 31/200\n",
            "1/1 [==============================] - 0s 28ms/step - loss: 0.0760 - mse: 0.0760 - val_loss: 0.0946 - val_mse: 0.0946\n",
            "Epoch 32/200\n",
            "1/1 [==============================] - 0s 27ms/step - loss: 0.0688 - mse: 0.0688 - val_loss: 0.0375 - val_mse: 0.0375\n",
            "Epoch 33/200\n",
            "1/1 [==============================] - 0s 27ms/step - loss: 0.0614 - mse: 0.0614 - val_loss: 0.0756 - val_mse: 0.0756\n",
            "Epoch 34/200\n",
            "1/1 [==============================] - 0s 27ms/step - loss: 0.0493 - mse: 0.0493 - val_loss: 0.0289 - val_mse: 0.0289\n",
            "Epoch 35/200\n",
            "1/1 [==============================] - 0s 26ms/step - loss: 0.0369 - mse: 0.0369 - val_loss: 0.0488 - val_mse: 0.0488\n",
            "Epoch 36/200\n",
            "1/1 [==============================] - 0s 25ms/step - loss: 0.0343 - mse: 0.0343 - val_loss: 0.0231 - val_mse: 0.0231\n",
            "Epoch 37/200\n",
            "1/1 [==============================] - 0s 26ms/step - loss: 0.0301 - mse: 0.0301 - val_loss: 0.0326 - val_mse: 0.0326\n",
            "Epoch 38/200\n",
            "1/1 [==============================] - 0s 28ms/step - loss: 0.0243 - mse: 0.0243 - val_loss: 0.0219 - val_mse: 0.0219\n",
            "Epoch 39/200\n",
            "1/1 [==============================] - 0s 26ms/step - loss: 0.0275 - mse: 0.0275 - val_loss: 0.0504 - val_mse: 0.0504\n",
            "Epoch 40/200\n",
            "1/1 [==============================] - 0s 29ms/step - loss: 0.0559 - mse: 0.0559 - val_loss: 0.0711 - val_mse: 0.0711\n",
            "Epoch 41/200\n",
            "1/1 [==============================] - 0s 33ms/step - loss: 0.0733 - mse: 0.0733 - val_loss: 0.0703 - val_mse: 0.0703\n",
            "Epoch 42/200\n",
            "1/1 [==============================] - 0s 29ms/step - loss: 0.0451 - mse: 0.0451 - val_loss: 0.0327 - val_mse: 0.0327\n",
            "Epoch 43/200\n",
            "1/1 [==============================] - 0s 27ms/step - loss: 0.0413 - mse: 0.0413 - val_loss: 0.0592 - val_mse: 0.0592\n",
            "Epoch 44/200\n",
            "1/1 [==============================] - 0s 26ms/step - loss: 0.0472 - mse: 0.0472 - val_loss: 0.0298 - val_mse: 0.0298\n",
            "Epoch 45/200\n",
            "1/1 [==============================] - 0s 25ms/step - loss: 0.0441 - mse: 0.0441 - val_loss: 0.0442 - val_mse: 0.0442\n",
            "Epoch 46/200\n",
            "1/1 [==============================] - 0s 25ms/step - loss: 0.0371 - mse: 0.0371 - val_loss: 0.0254 - val_mse: 0.0254\n",
            "Epoch 47/200\n",
            "1/1 [==============================] - 0s 27ms/step - loss: 0.0262 - mse: 0.0262 - val_loss: 0.0286 - val_mse: 0.0286\n",
            "Epoch 48/200\n",
            "1/1 [==============================] - 0s 26ms/step - loss: 0.0279 - mse: 0.0279 - val_loss: 0.0210 - val_mse: 0.0210\n",
            "Epoch 49/200\n",
            "1/1 [==============================] - 0s 29ms/step - loss: 0.0303 - mse: 0.0303 - val_loss: 0.0490 - val_mse: 0.0490\n",
            "Epoch 50/200\n",
            "1/1 [==============================] - 0s 25ms/step - loss: 0.0477 - mse: 0.0477 - val_loss: 0.0421 - val_mse: 0.0421\n",
            "Epoch 51/200\n",
            "1/1 [==============================] - 0s 26ms/step - loss: 0.0436 - mse: 0.0436 - val_loss: 0.0319 - val_mse: 0.0319\n",
            "Epoch 52/200\n",
            "1/1 [==============================] - 0s 28ms/step - loss: 0.0265 - mse: 0.0265 - val_loss: 0.0208 - val_mse: 0.0208\n",
            "Epoch 53/200\n",
            "1/1 [==============================] - 0s 29ms/step - loss: 0.0294 - mse: 0.0294 - val_loss: 0.0249 - val_mse: 0.0249\n",
            "Epoch 54/200\n",
            "1/1 [==============================] - 0s 30ms/step - loss: 0.0308 - mse: 0.0308 - val_loss: 0.0337 - val_mse: 0.0337\n",
            "Epoch 55/200\n",
            "1/1 [==============================] - 0s 27ms/step - loss: 0.0430 - mse: 0.0430 - val_loss: 0.0461 - val_mse: 0.0461\n",
            "Epoch 56/200\n",
            "1/1 [==============================] - 0s 27ms/step - loss: 0.0461 - mse: 0.0461 - val_loss: 0.0593 - val_mse: 0.0593\n",
            "Epoch 57/200\n",
            "1/1 [==============================] - 0s 27ms/step - loss: 0.0693 - mse: 0.0693 - val_loss: 0.0828 - val_mse: 0.0828\n",
            "Epoch 58/200\n",
            "1/1 [==============================] - 0s 26ms/step - loss: 0.0907 - mse: 0.0907 - val_loss: 0.0625 - val_mse: 0.0625\n",
            "Epoch 59/200\n",
            "1/1 [==============================] - 0s 30ms/step - loss: 0.0675 - mse: 0.0675 - val_loss: 0.0488 - val_mse: 0.0488\n",
            "Epoch 60/200\n",
            "1/1 [==============================] - 0s 26ms/step - loss: 0.0409 - mse: 0.0409 - val_loss: 0.0212 - val_mse: 0.0212\n",
            "Epoch 61/200\n",
            "1/1 [==============================] - 0s 28ms/step - loss: 0.0207 - mse: 0.0207 - val_loss: 0.0201 - val_mse: 0.0201\n",
            "Epoch 62/200\n",
            "1/1 [==============================] - 0s 26ms/step - loss: 0.0189 - mse: 0.0189 - val_loss: 0.0169 - val_mse: 0.0169\n",
            "Epoch 63/200\n",
            "1/1 [==============================] - 0s 28ms/step - loss: 0.0142 - mse: 0.0142 - val_loss: 0.0169 - val_mse: 0.0169\n",
            "Epoch 64/200\n",
            "1/1 [==============================] - 0s 26ms/step - loss: 0.0159 - mse: 0.0159 - val_loss: 0.0172 - val_mse: 0.0172\n",
            "Epoch 65/200\n",
            "1/1 [==============================] - 0s 27ms/step - loss: 0.0162 - mse: 0.0162 - val_loss: 0.0152 - val_mse: 0.0152\n",
            "Epoch 66/200\n",
            "1/1 [==============================] - 0s 27ms/step - loss: 0.0133 - mse: 0.0133 - val_loss: 0.0130 - val_mse: 0.0130\n",
            "Epoch 67/200\n",
            "1/1 [==============================] - 0s 44ms/step - loss: 0.0149 - mse: 0.0149 - val_loss: 0.0135 - val_mse: 0.0135\n",
            "Epoch 68/200\n",
            "1/1 [==============================] - 0s 26ms/step - loss: 0.0169 - mse: 0.0169 - val_loss: 0.0184 - val_mse: 0.0184\n",
            "Epoch 69/200\n",
            "1/1 [==============================] - 0s 26ms/step - loss: 0.0161 - mse: 0.0161 - val_loss: 0.0217 - val_mse: 0.0217\n",
            "Epoch 70/200\n",
            "1/1 [==============================] - 0s 27ms/step - loss: 0.0235 - mse: 0.0235 - val_loss: 0.0317 - val_mse: 0.0317\n",
            "Epoch 71/200\n",
            "1/1 [==============================] - 0s 27ms/step - loss: 0.0288 - mse: 0.0288 - val_loss: 0.0511 - val_mse: 0.0511\n",
            "Epoch 72/200\n",
            "1/1 [==============================] - 0s 34ms/step - loss: 0.0534 - mse: 0.0534 - val_loss: 0.0822 - val_mse: 0.0822\n",
            "Epoch 73/200\n",
            "1/1 [==============================] - 0s 30ms/step - loss: 0.0891 - mse: 0.0891 - val_loss: 0.0940 - val_mse: 0.0940\n",
            "Epoch 74/200\n",
            "1/1 [==============================] - 0s 26ms/step - loss: 0.0864 - mse: 0.0864 - val_loss: 0.0402 - val_mse: 0.0402\n",
            "Epoch 75/200\n",
            "1/1 [==============================] - 0s 28ms/step - loss: 0.0349 - mse: 0.0349 - val_loss: 0.0339 - val_mse: 0.0339\n",
            "Epoch 76/200\n",
            "1/1 [==============================] - 0s 26ms/step - loss: 0.0272 - mse: 0.0272 - val_loss: 0.0228 - val_mse: 0.0228\n",
            "Epoch 77/200\n",
            "1/1 [==============================] - 0s 29ms/step - loss: 0.0173 - mse: 0.0173 - val_loss: 0.0206 - val_mse: 0.0206\n",
            "Epoch 78/200\n",
            "1/1 [==============================] - 0s 28ms/step - loss: 0.0171 - mse: 0.0171 - val_loss: 0.0186 - val_mse: 0.0186\n",
            "Epoch 79/200\n",
            "1/1 [==============================] - 0s 26ms/step - loss: 0.0162 - mse: 0.0162 - val_loss: 0.0163 - val_mse: 0.0163\n",
            "Epoch 80/200\n",
            "1/1 [==============================] - 0s 26ms/step - loss: 0.0164 - mse: 0.0164 - val_loss: 0.0156 - val_mse: 0.0156\n",
            "Epoch 81/200\n",
            "1/1 [==============================] - 0s 27ms/step - loss: 0.0139 - mse: 0.0139 - val_loss: 0.0157 - val_mse: 0.0157\n",
            "Epoch 82/200\n",
            "1/1 [==============================] - 0s 30ms/step - loss: 0.0181 - mse: 0.0181 - val_loss: 0.0157 - val_mse: 0.0157\n",
            "Epoch 83/200\n",
            "1/1 [==============================] - 0s 26ms/step - loss: 0.0191 - mse: 0.0191 - val_loss: 0.0172 - val_mse: 0.0172\n",
            "Epoch 84/200\n",
            "1/1 [==============================] - 0s 26ms/step - loss: 0.0152 - mse: 0.0152 - val_loss: 0.0173 - val_mse: 0.0173\n",
            "Epoch 85/200\n",
            "1/1 [==============================] - 0s 26ms/step - loss: 0.0148 - mse: 0.0148 - val_loss: 0.0167 - val_mse: 0.0167\n",
            "Epoch 86/200\n",
            "1/1 [==============================] - 0s 30ms/step - loss: 0.0210 - mse: 0.0210 - val_loss: 0.0448 - val_mse: 0.0448\n",
            "Epoch 87/200\n",
            "1/1 [==============================] - 0s 26ms/step - loss: 0.0270 - mse: 0.0270 - val_loss: 0.0309 - val_mse: 0.0309\n",
            "Epoch 88/200\n",
            "1/1 [==============================] - 0s 26ms/step - loss: 0.0388 - mse: 0.0388 - val_loss: 0.0792 - val_mse: 0.0792\n",
            "Epoch 89/200\n",
            "1/1 [==============================] - 0s 27ms/step - loss: 0.0771 - mse: 0.0771 - val_loss: 0.0932 - val_mse: 0.0932\n",
            "Epoch 90/200\n",
            "1/1 [==============================] - 0s 26ms/step - loss: 0.0905 - mse: 0.0905 - val_loss: 0.0460 - val_mse: 0.0460\n",
            "Epoch 91/200\n",
            "1/1 [==============================] - 0s 27ms/step - loss: 0.0486 - mse: 0.0486 - val_loss: 0.0423 - val_mse: 0.0423\n",
            "Epoch 92/200\n",
            "1/1 [==============================] - 0s 27ms/step - loss: 0.0359 - mse: 0.0359 - val_loss: 0.0245 - val_mse: 0.0245\n",
            "Epoch 93/200\n",
            "1/1 [==============================] - 0s 30ms/step - loss: 0.0192 - mse: 0.0192 - val_loss: 0.0213 - val_mse: 0.0213\n",
            "Epoch 94/200\n",
            "1/1 [==============================] - 0s 27ms/step - loss: 0.0136 - mse: 0.0136 - val_loss: 0.0209 - val_mse: 0.0209\n",
            "Epoch 95/200\n",
            "1/1 [==============================] - 0s 28ms/step - loss: 0.0185 - mse: 0.0185 - val_loss: 0.0174 - val_mse: 0.0174\n",
            "Epoch 96/200\n",
            "1/1 [==============================] - 0s 26ms/step - loss: 0.0139 - mse: 0.0139 - val_loss: 0.0182 - val_mse: 0.0182\n",
            "Epoch 97/200\n",
            "1/1 [==============================] - 0s 26ms/step - loss: 0.0177 - mse: 0.0177 - val_loss: 0.0192 - val_mse: 0.0192\n",
            "Epoch 98/200\n",
            "1/1 [==============================] - 0s 37ms/step - loss: 0.0144 - mse: 0.0144 - val_loss: 0.0190 - val_mse: 0.0190\n",
            "Epoch 99/200\n",
            "1/1 [==============================] - 0s 27ms/step - loss: 0.0190 - mse: 0.0190 - val_loss: 0.0220 - val_mse: 0.0220\n",
            "Epoch 100/200\n",
            "1/1 [==============================] - 0s 27ms/step - loss: 0.0172 - mse: 0.0172 - val_loss: 0.0238 - val_mse: 0.0238\n",
            "Epoch 101/200\n",
            "1/1 [==============================] - 0s 29ms/step - loss: 0.0213 - mse: 0.0213 - val_loss: 0.0212 - val_mse: 0.0212\n",
            "Epoch 102/200\n",
            "1/1 [==============================] - 0s 27ms/step - loss: 0.0188 - mse: 0.0188 - val_loss: 0.0221 - val_mse: 0.0221\n",
            "Epoch 103/200\n",
            "1/1 [==============================] - 0s 35ms/step - loss: 0.0176 - mse: 0.0176 - val_loss: 0.0166 - val_mse: 0.0166\n",
            "Epoch 104/200\n",
            "1/1 [==============================] - 0s 27ms/step - loss: 0.0185 - mse: 0.0185 - val_loss: 0.0231 - val_mse: 0.0231\n",
            "Epoch 105/200\n",
            "1/1 [==============================] - 0s 28ms/step - loss: 0.0173 - mse: 0.0173 - val_loss: 0.0234 - val_mse: 0.0234\n",
            "Epoch 106/200\n",
            "1/1 [==============================] - 0s 29ms/step - loss: 0.0207 - mse: 0.0207 - val_loss: 0.0402 - val_mse: 0.0402\n",
            "Epoch 107/200\n",
            "1/1 [==============================] - 0s 27ms/step - loss: 0.0293 - mse: 0.0293 - val_loss: 0.0456 - val_mse: 0.0456\n",
            "Epoch 108/200\n",
            "1/1 [==============================] - 0s 30ms/step - loss: 0.0466 - mse: 0.0466 - val_loss: 0.0548 - val_mse: 0.0548\n",
            "Epoch 109/200\n",
            "1/1 [==============================] - 0s 31ms/step - loss: 0.0602 - mse: 0.0602 - val_loss: 0.0598 - val_mse: 0.0598\n",
            "Epoch 110/200\n",
            "1/1 [==============================] - 0s 27ms/step - loss: 0.0514 - mse: 0.0514 - val_loss: 0.0296 - val_mse: 0.0296\n",
            "Epoch 111/200\n",
            "1/1 [==============================] - 0s 28ms/step - loss: 0.0257 - mse: 0.0257 - val_loss: 0.0237 - val_mse: 0.0237\n",
            "Epoch 112/200\n",
            "1/1 [==============================] - 0s 27ms/step - loss: 0.0150 - mse: 0.0150 - val_loss: 0.0196 - val_mse: 0.0196\n",
            "Epoch 113/200\n",
            "1/1 [==============================] - 0s 27ms/step - loss: 0.0128 - mse: 0.0128 - val_loss: 0.0203 - val_mse: 0.0203\n",
            "Epoch 114/200\n",
            "1/1 [==============================] - 0s 28ms/step - loss: 0.0140 - mse: 0.0140 - val_loss: 0.0193 - val_mse: 0.0193\n",
            "Epoch 115/200\n",
            "1/1 [==============================] - 0s 27ms/step - loss: 0.0151 - mse: 0.0151 - val_loss: 0.0165 - val_mse: 0.0165\n",
            "Epoch 116/200\n",
            "1/1 [==============================] - 0s 30ms/step - loss: 0.0122 - mse: 0.0122 - val_loss: 0.0153 - val_mse: 0.0153\n",
            "Epoch 117/200\n",
            "1/1 [==============================] - 0s 27ms/step - loss: 0.0139 - mse: 0.0139 - val_loss: 0.0195 - val_mse: 0.0195\n",
            "Epoch 118/200\n",
            "1/1 [==============================] - 0s 27ms/step - loss: 0.0199 - mse: 0.0199 - val_loss: 0.0264 - val_mse: 0.0264\n",
            "Epoch 119/200\n",
            "1/1 [==============================] - 0s 26ms/step - loss: 0.0326 - mse: 0.0326 - val_loss: 0.0400 - val_mse: 0.0400\n",
            "Epoch 120/200\n",
            "1/1 [==============================] - 0s 27ms/step - loss: 0.0354 - mse: 0.0354 - val_loss: 0.0425 - val_mse: 0.0425\n",
            "Epoch 121/200\n",
            "1/1 [==============================] - 0s 28ms/step - loss: 0.0400 - mse: 0.0400 - val_loss: 0.0366 - val_mse: 0.0366\n",
            "Epoch 122/200\n",
            "1/1 [==============================] - 0s 30ms/step - loss: 0.0231 - mse: 0.0231 - val_loss: 0.0201 - val_mse: 0.0201\n",
            "Epoch 123/200\n",
            "1/1 [==============================] - 0s 29ms/step - loss: 0.0253 - mse: 0.0253 - val_loss: 0.0202 - val_mse: 0.0202\n",
            "Epoch 124/200\n",
            "1/1 [==============================] - 0s 26ms/step - loss: 0.0149 - mse: 0.0149 - val_loss: 0.0178 - val_mse: 0.0178\n",
            "Epoch 125/200\n",
            "1/1 [==============================] - 0s 28ms/step - loss: 0.0150 - mse: 0.0150 - val_loss: 0.0168 - val_mse: 0.0168\n",
            "Epoch 126/200\n",
            "1/1 [==============================] - 0s 29ms/step - loss: 0.0127 - mse: 0.0127 - val_loss: 0.0166 - val_mse: 0.0166\n",
            "Epoch 127/200\n",
            "1/1 [==============================] - 0s 27ms/step - loss: 0.0195 - mse: 0.0195 - val_loss: 0.0180 - val_mse: 0.0180\n",
            "Epoch 128/200\n",
            "1/1 [==============================] - 0s 31ms/step - loss: 0.0134 - mse: 0.0134 - val_loss: 0.0189 - val_mse: 0.0189\n",
            "Epoch 129/200\n",
            "1/1 [==============================] - 0s 28ms/step - loss: 0.0169 - mse: 0.0169 - val_loss: 0.0146 - val_mse: 0.0146\n",
            "Epoch 130/200\n",
            "1/1 [==============================] - 0s 28ms/step - loss: 0.0122 - mse: 0.0122 - val_loss: 0.0275 - val_mse: 0.0275\n",
            "Epoch 131/200\n",
            "1/1 [==============================] - 0s 30ms/step - loss: 0.0173 - mse: 0.0173 - val_loss: 0.0223 - val_mse: 0.0223\n",
            "Epoch 132/200\n",
            "1/1 [==============================] - 0s 27ms/step - loss: 0.0347 - mse: 0.0347 - val_loss: 0.0709 - val_mse: 0.0709\n",
            "Epoch 133/200\n",
            "1/1 [==============================] - 0s 35ms/step - loss: 0.0608 - mse: 0.0608 - val_loss: 0.0626 - val_mse: 0.0626\n",
            "Epoch 134/200\n",
            "1/1 [==============================] - 0s 27ms/step - loss: 0.0557 - mse: 0.0557 - val_loss: 0.0294 - val_mse: 0.0294\n",
            "Epoch 135/200\n",
            "1/1 [==============================] - 0s 27ms/step - loss: 0.0224 - mse: 0.0224 - val_loss: 0.0178 - val_mse: 0.0178\n",
            "Epoch 136/200\n",
            "1/1 [==============================] - 0s 28ms/step - loss: 0.0146 - mse: 0.0146 - val_loss: 0.0177 - val_mse: 0.0177\n",
            "Epoch 137/200\n",
            "1/1 [==============================] - 0s 27ms/step - loss: 0.0134 - mse: 0.0134 - val_loss: 0.0177 - val_mse: 0.0177\n",
            "Epoch 138/200\n",
            "1/1 [==============================] - 0s 28ms/step - loss: 0.0114 - mse: 0.0114 - val_loss: 0.0168 - val_mse: 0.0168\n",
            "Epoch 139/200\n",
            "1/1 [==============================] - 0s 27ms/step - loss: 0.0160 - mse: 0.0160 - val_loss: 0.0160 - val_mse: 0.0160\n",
            "Epoch 140/200\n",
            "1/1 [==============================] - 0s 27ms/step - loss: 0.0161 - mse: 0.0161 - val_loss: 0.0179 - val_mse: 0.0179\n",
            "Epoch 141/200\n",
            "1/1 [==============================] - 0s 26ms/step - loss: 0.0151 - mse: 0.0151 - val_loss: 0.0153 - val_mse: 0.0153\n",
            "Epoch 142/200\n",
            "1/1 [==============================] - 0s 45ms/step - loss: 0.0097 - mse: 0.0097 - val_loss: 0.0173 - val_mse: 0.0173\n",
            "Epoch 143/200\n",
            "1/1 [==============================] - 0s 41ms/step - loss: 0.0149 - mse: 0.0149 - val_loss: 0.0151 - val_mse: 0.0151\n",
            "Epoch 144/200\n",
            "1/1 [==============================] - 0s 31ms/step - loss: 0.0155 - mse: 0.0155 - val_loss: 0.0278 - val_mse: 0.0278\n",
            "Epoch 145/200\n",
            "1/1 [==============================] - 0s 27ms/step - loss: 0.0166 - mse: 0.0166 - val_loss: 0.0250 - val_mse: 0.0250\n",
            "Epoch 146/200\n",
            "1/1 [==============================] - 0s 28ms/step - loss: 0.0288 - mse: 0.0288 - val_loss: 0.0530 - val_mse: 0.0530\n",
            "Epoch 147/200\n",
            "1/1 [==============================] - 0s 28ms/step - loss: 0.0427 - mse: 0.0427 - val_loss: 0.0484 - val_mse: 0.0484\n",
            "Epoch 148/200\n",
            "1/1 [==============================] - 0s 32ms/step - loss: 0.0499 - mse: 0.0499 - val_loss: 0.0334 - val_mse: 0.0334\n",
            "Epoch 149/200\n",
            "1/1 [==============================] - 0s 30ms/step - loss: 0.0237 - mse: 0.0237 - val_loss: 0.0180 - val_mse: 0.0180\n",
            "Epoch 150/200\n",
            "1/1 [==============================] - 0s 28ms/step - loss: 0.0163 - mse: 0.0163 - val_loss: 0.0183 - val_mse: 0.0183\n",
            "Epoch 151/200\n",
            "1/1 [==============================] - 0s 34ms/step - loss: 0.0110 - mse: 0.0110 - val_loss: 0.0166 - val_mse: 0.0166\n",
            "Epoch 152/200\n",
            "1/1 [==============================] - 0s 29ms/step - loss: 0.0191 - mse: 0.0191 - val_loss: 0.0177 - val_mse: 0.0177\n",
            "Epoch 153/200\n",
            "1/1 [==============================] - 0s 28ms/step - loss: 0.0109 - mse: 0.0109 - val_loss: 0.0190 - val_mse: 0.0190\n",
            "Epoch 154/200\n",
            "1/1 [==============================] - 0s 26ms/step - loss: 0.0138 - mse: 0.0138 - val_loss: 0.0189 - val_mse: 0.0189\n",
            "Epoch 155/200\n",
            "1/1 [==============================] - 0s 27ms/step - loss: 0.0123 - mse: 0.0123 - val_loss: 0.0165 - val_mse: 0.0165\n",
            "Epoch 156/200\n",
            "1/1 [==============================] - 0s 27ms/step - loss: 0.0141 - mse: 0.0141 - val_loss: 0.0174 - val_mse: 0.0174\n",
            "Epoch 157/200\n",
            "1/1 [==============================] - 0s 27ms/step - loss: 0.0113 - mse: 0.0113 - val_loss: 0.0207 - val_mse: 0.0207\n",
            "Epoch 158/200\n",
            "1/1 [==============================] - 0s 29ms/step - loss: 0.0122 - mse: 0.0122 - val_loss: 0.0153 - val_mse: 0.0153\n",
            "Epoch 159/200\n",
            "1/1 [==============================] - 0s 30ms/step - loss: 0.0185 - mse: 0.0185 - val_loss: 0.0347 - val_mse: 0.0347\n",
            "Epoch 160/200\n",
            "1/1 [==============================] - 0s 27ms/step - loss: 0.0180 - mse: 0.0180 - val_loss: 0.0238 - val_mse: 0.0238\n",
            "Epoch 161/200\n",
            "1/1 [==============================] - 0s 31ms/step - loss: 0.0271 - mse: 0.0271 - val_loss: 0.0502 - val_mse: 0.0502\n",
            "Epoch 162/200\n",
            "1/1 [==============================] - 0s 34ms/step - loss: 0.0487 - mse: 0.0487 - val_loss: 0.0655 - val_mse: 0.0655\n",
            "Epoch 163/200\n",
            "1/1 [==============================] - 0s 30ms/step - loss: 0.0607 - mse: 0.0607 - val_loss: 0.0264 - val_mse: 0.0264\n",
            "Epoch 164/200\n",
            "1/1 [==============================] - 0s 31ms/step - loss: 0.0172 - mse: 0.0172 - val_loss: 0.0190 - val_mse: 0.0190\n",
            "Epoch 165/200\n",
            "1/1 [==============================] - 0s 27ms/step - loss: 0.0173 - mse: 0.0173 - val_loss: 0.0182 - val_mse: 0.0182\n",
            "Epoch 166/200\n",
            "1/1 [==============================] - 0s 29ms/step - loss: 0.0139 - mse: 0.0139 - val_loss: 0.0192 - val_mse: 0.0192\n",
            "Epoch 167/200\n",
            "1/1 [==============================] - 0s 27ms/step - loss: 0.0196 - mse: 0.0196 - val_loss: 0.0184 - val_mse: 0.0184\n",
            "Epoch 168/200\n",
            "1/1 [==============================] - 0s 27ms/step - loss: 0.0149 - mse: 0.0149 - val_loss: 0.0168 - val_mse: 0.0168\n",
            "Epoch 169/200\n",
            "1/1 [==============================] - 0s 30ms/step - loss: 0.0131 - mse: 0.0131 - val_loss: 0.0228 - val_mse: 0.0228\n",
            "Epoch 170/200\n",
            "1/1 [==============================] - 0s 26ms/step - loss: 0.0187 - mse: 0.0187 - val_loss: 0.0210 - val_mse: 0.0210\n",
            "Epoch 171/200\n",
            "1/1 [==============================] - 0s 30ms/step - loss: 0.0164 - mse: 0.0164 - val_loss: 0.0282 - val_mse: 0.0282\n",
            "Epoch 172/200\n",
            "1/1 [==============================] - 0s 32ms/step - loss: 0.0162 - mse: 0.0162 - val_loss: 0.0140 - val_mse: 0.0140\n",
            "Epoch 173/200\n",
            "1/1 [==============================] - 0s 29ms/step - loss: 0.0158 - mse: 0.0158 - val_loss: 0.0253 - val_mse: 0.0253\n",
            "Epoch 174/200\n",
            "1/1 [==============================] - 0s 31ms/step - loss: 0.0142 - mse: 0.0142 - val_loss: 0.0158 - val_mse: 0.0158\n",
            "Epoch 175/200\n",
            "1/1 [==============================] - 0s 29ms/step - loss: 0.0180 - mse: 0.0180 - val_loss: 0.0248 - val_mse: 0.0248\n",
            "Epoch 176/200\n",
            "1/1 [==============================] - 0s 33ms/step - loss: 0.0175 - mse: 0.0175 - val_loss: 0.0195 - val_mse: 0.0195\n",
            "Epoch 177/200\n",
            "1/1 [==============================] - 0s 29ms/step - loss: 0.0226 - mse: 0.0226 - val_loss: 0.0320 - val_mse: 0.0320\n",
            "Epoch 178/200\n",
            "1/1 [==============================] - 0s 29ms/step - loss: 0.0246 - mse: 0.0246 - val_loss: 0.0188 - val_mse: 0.0188\n",
            "Epoch 179/200\n",
            "1/1 [==============================] - 0s 32ms/step - loss: 0.0184 - mse: 0.0184 - val_loss: 0.0316 - val_mse: 0.0316\n",
            "Epoch 180/200\n",
            "1/1 [==============================] - 0s 29ms/step - loss: 0.0211 - mse: 0.0211 - val_loss: 0.0240 - val_mse: 0.0240\n",
            "Epoch 181/200\n",
            "1/1 [==============================] - 0s 29ms/step - loss: 0.0256 - mse: 0.0256 - val_loss: 0.0343 - val_mse: 0.0343\n",
            "Epoch 182/200\n",
            "1/1 [==============================] - 0s 28ms/step - loss: 0.0197 - mse: 0.0197 - val_loss: 0.0219 - val_mse: 0.0219\n",
            "Epoch 183/200\n",
            "1/1 [==============================] - 0s 32ms/step - loss: 0.0184 - mse: 0.0184 - val_loss: 0.0221 - val_mse: 0.0221\n",
            "Epoch 184/200\n",
            "1/1 [==============================] - 0s 28ms/step - loss: 0.0160 - mse: 0.0160 - val_loss: 0.0145 - val_mse: 0.0145\n",
            "Epoch 185/200\n",
            "1/1 [==============================] - 0s 28ms/step - loss: 0.0133 - mse: 0.0133 - val_loss: 0.0193 - val_mse: 0.0193\n",
            "Epoch 186/200\n",
            "1/1 [==============================] - 0s 29ms/step - loss: 0.0133 - mse: 0.0133 - val_loss: 0.0167 - val_mse: 0.0167\n",
            "Epoch 187/200\n",
            "1/1 [==============================] - 0s 30ms/step - loss: 0.0171 - mse: 0.0171 - val_loss: 0.0230 - val_mse: 0.0230\n",
            "Epoch 188/200\n",
            "1/1 [==============================] - 0s 29ms/step - loss: 0.0165 - mse: 0.0165 - val_loss: 0.0188 - val_mse: 0.0188\n",
            "Epoch 189/200\n",
            "1/1 [==============================] - 0s 29ms/step - loss: 0.0171 - mse: 0.0171 - val_loss: 0.0251 - val_mse: 0.0251\n",
            "Epoch 190/200\n",
            "1/1 [==============================] - 0s 28ms/step - loss: 0.0221 - mse: 0.0221 - val_loss: 0.0255 - val_mse: 0.0255\n",
            "Epoch 191/200\n",
            "1/1 [==============================] - 0s 37ms/step - loss: 0.0357 - mse: 0.0357 - val_loss: 0.0313 - val_mse: 0.0313\n",
            "Epoch 192/200\n",
            "1/1 [==============================] - 0s 27ms/step - loss: 0.0196 - mse: 0.0196 - val_loss: 0.0181 - val_mse: 0.0181\n",
            "Epoch 193/200\n",
            "1/1 [==============================] - 0s 29ms/step - loss: 0.0105 - mse: 0.0105 - val_loss: 0.0192 - val_mse: 0.0192\n",
            "Epoch 194/200\n",
            "1/1 [==============================] - 0s 29ms/step - loss: 0.0117 - mse: 0.0117 - val_loss: 0.0163 - val_mse: 0.0163\n",
            "Epoch 195/200\n",
            "1/1 [==============================] - 0s 29ms/step - loss: 0.0140 - mse: 0.0140 - val_loss: 0.0176 - val_mse: 0.0176\n",
            "Epoch 196/200\n",
            "1/1 [==============================] - 0s 28ms/step - loss: 0.0098 - mse: 0.0098 - val_loss: 0.0168 - val_mse: 0.0168\n",
            "Epoch 197/200\n",
            "1/1 [==============================] - 0s 28ms/step - loss: 0.0149 - mse: 0.0149 - val_loss: 0.0287 - val_mse: 0.0287\n",
            "Epoch 198/200\n",
            "1/1 [==============================] - 0s 34ms/step - loss: 0.0207 - mse: 0.0207 - val_loss: 0.0254 - val_mse: 0.0254\n",
            "Epoch 199/200\n",
            "1/1 [==============================] - 0s 28ms/step - loss: 0.0272 - mse: 0.0272 - val_loss: 0.0339 - val_mse: 0.0339\n",
            "Epoch 200/200\n",
            "1/1 [==============================] - 0s 27ms/step - loss: 0.0203 - mse: 0.0203 - val_loss: 0.0164 - val_mse: 0.0164\n",
            "1/1 [==============================] - 0s 18ms/step - loss: 0.0082 - mse: 0.0082\n"
          ]
        },
        {
          "output_type": "execute_result",
          "data": {
            "text/plain": [
              "[0.008210805244743824, 0.008210805244743824]"
            ]
          },
          "metadata": {},
          "execution_count": 349
        }
      ]
    },
    {
      "cell_type": "code",
      "source": [
        "plt.plot(history.history['loss'], label='train')\n",
        "plt.plot(history.history['val_loss'], label='validation')\n",
        "plt.legend()\n",
        "plt.show()"
      ],
      "metadata": {
        "colab": {
          "base_uri": "https://localhost:8080/",
          "height": 340
        },
        "id": "ZsEmIQjJpRMB",
        "outputId": "77cd48c5-9a08-4c45-f586-4aee56a0bbd0"
      },
      "execution_count": 350,
      "outputs": [
        {
          "output_type": "display_data",
          "data": {
            "text/plain": [
              "<Figure size 720x360 with 1 Axes>"
            ],
            "image/png": "[encoded data removed]"
          },
          "metadata": {}
        }
      ]
    },
    {
      "cell_type": "code",
      "source": [
        "y_predTU = TUcnn_model.predict(X_test)\n",
        "y_predTU"
      ],
      "metadata": {
        "colab": {
          "base_uri": "https://localhost:8080/"
        },
        "id": "lHiuk7B6iQVK",
        "outputId": "8e4c5aeb-8bf8-4178-809d-151531268be2"
      },
      "execution_count": 351,
      "outputs": [
        {
          "output_type": "stream",
          "name": "stdout",
          "text": [
            "1/1 [==============================] - 0s 82ms/step\n"
          ]
        },
        {
          "output_type": "execute_result",
          "data": {
            "text/plain": [
              "array([[-0.0128962 ],\n",
              "       [-0.01242284],\n",
              "       [ 0.02234464],\n",
              "       [ 0.03052329],\n",
              "       [-0.02588973],\n",
              "       [-0.02338238],\n",
              "       [-0.02480039],\n",
              "       [-0.04600213],\n",
              "       [-0.09565192],\n",
              "       [-0.11925226],\n",
              "       [-0.11066308],\n",
              "       [-0.0964523 ],\n",
              "       [-0.1163192 ],\n",
              "       [-0.11617807],\n",
              "       [-0.10387967],\n",
              "       [-0.13025609],\n",
              "       [-0.14034875],\n",
              "       [-0.04693694],\n",
              "       [ 0.04161637],\n",
              "       [ 0.0622838 ],\n",
              "       [-0.03280625],\n",
              "       [-0.01545106]], dtype=float32)"
            ]
          },
          "metadata": {},
          "execution_count": 351
        }
      ]
    },
    {
      "cell_type": "code",
      "source": [
        "y_predTU.reshape(1,-1)"
      ],
      "metadata": {
        "colab": {
          "base_uri": "https://localhost:8080/"
        },
        "id": "JbqyY5OriQYh",
        "outputId": "e78f28ef-8867-42c6-f714-5db52cbae3d9"
      },
      "execution_count": 352,
      "outputs": [
        {
          "output_type": "execute_result",
          "data": {
            "text/plain": [
              "array([[-0.0128962 , -0.01242284,  0.02234464,  0.03052329, -0.02588973,\n",
              "        -0.02338238, -0.02480039, -0.04600213, -0.09565192, -0.11925226,\n",
              "        -0.11066308, -0.0964523 , -0.1163192 , -0.11617807, -0.10387967,\n",
              "        -0.13025609, -0.14034875, -0.04693694,  0.04161637,  0.0622838 ,\n",
              "        -0.03280625, -0.01545106]], dtype=float32)"
            ]
          },
          "metadata": {},
          "execution_count": 352
        }
      ]
    },
    {
      "cell_type": "markdown",
      "source": [
        "###Invert Transformed Tuned Data"
      ],
      "metadata": {
        "id": "XXPkM7CFsB5U"
      }
    },
    {
      "cell_type": "code",
      "source": [
        "y_train_inv = cpo_pri_transformer.inverse_transform(y_train.reshape(1, -1))\n",
        "y_test_inv = cpo_pri_transformer.inverse_transform(y_test.reshape(1, -1))\n",
        "y_pred_inv = cpo_pri_transformer.inverse_transform(y_predTU.reshape(1,-1))\n",
        "print(y_train_inv)\n",
        "print(y_test_inv)\n",
        "print(y_pred_inv)"
      ],
      "metadata": {
        "colab": {
          "base_uri": "https://localhost:8080/"
        },
        "id": "gZ8inWeYy64m",
        "outputId": "9f32b318-05c0-4846-fab9-a13e7145a126"
      },
      "execution_count": 353,
      "outputs": [
        {
          "output_type": "stream",
          "name": "stdout",
          "text": [
            "[[376. 383. 382. 396. 402. 390. 404. 382. 382. 391. 396. 413. 401. 410.\n",
            "  425. 408. 392. 371. 356. 362. 356. 352. 333. 357. 411. 404. 387. 395.\n",
            "  434. 488. 508. 494. 575. 614. 616. 707. 719. 655. 661. 687. 625. 611.\n",
            "  631. 655. 616. 586. 615. 607. 590. 535. 518. 519. 562. 552. 508. 476.\n",
            "  513. 545. 532. 550. 561. 567. 580. 559. 562. 553. 533. 498. 504. 525.\n",
            "  547. 556. 566. 621. 659. 671. 688. 705. 633. 661. 674. 703. 694. 681.\n",
            "  663. 632. 561. 497. 509. 475. 392. 319. 354. 388. 381. 370.]]\n",
            "[[349. 372. 324. 315. 312. 306. 288. 255. 257. 265. 254. 240. 254. 251.\n",
            "  234. 255. 330. 362. 310. 277. 323. 360.]]\n",
            "[[313.84152 314.03085 327.93787 331.20932 308.6441  309.64703 309.07983\n",
            "  300.59915 280.73923 271.2991  274.73477 280.4191  272.47232 272.52878\n",
            "  277.44812 266.89755 262.8605  300.22522 335.64655 343.91354 305.8775\n",
            "  312.81958]]\n"
          ]
        }
      ]
    },
    {
      "cell_type": "code",
      "source": [
        "y_train_inv = y_train_inv.flatten()\n",
        "y_train_inv"
      ],
      "metadata": {
        "colab": {
          "base_uri": "https://localhost:8080/"
        },
        "id": "2g9TLmgHy7Hw",
        "outputId": "13619edc-73e5-445d-eb0e-60cac6b2ff28"
      },
      "execution_count": 354,
      "outputs": [
        {
          "output_type": "execute_result",
          "data": {
            "text/plain": [
              "array([376., 383., 382., 396., 402., 390., 404., 382., 382., 391., 396.,\n",
              "       413., 401., 410., 425., 408., 392., 371., 356., 362., 356., 352.,\n",
              "       333., 357., 411., 404., 387., 395., 434., 488., 508., 494., 575.,\n",
              "       614., 616., 707., 719., 655., 661., 687., 625., 611., 631., 655.,\n",
              "       616., 586., 615., 607., 590., 535., 518., 519., 562., 552., 508.,\n",
              "       476., 513., 545., 532., 550., 561., 567., 580., 559., 562., 553.,\n",
              "       533., 498., 504., 525., 547., 556., 566., 621., 659., 671., 688.,\n",
              "       705., 633., 661., 674., 703., 694., 681., 663., 632., 561., 497.,\n",
              "       509., 475., 392., 319., 354., 388., 381., 370.])"
            ]
          },
          "metadata": {},
          "execution_count": 354
        }
      ]
    },
    {
      "cell_type": "code",
      "source": [
        "y_test_inv = y_test_inv.flatten()\n",
        "y_test_inv"
      ],
      "metadata": {
        "colab": {
          "base_uri": "https://localhost:8080/"
        },
        "id": "PDdnZUrXy7L4",
        "outputId": "c3407a18-bc95-4587-b121-ccee67cc357c"
      },
      "execution_count": 355,
      "outputs": [
        {
          "output_type": "execute_result",
          "data": {
            "text/plain": [
              "array([349., 372., 324., 315., 312., 306., 288., 255., 257., 265., 254.,\n",
              "       240., 254., 251., 234., 255., 330., 362., 310., 277., 323., 360.])"
            ]
          },
          "metadata": {},
          "execution_count": 355
        }
      ]
    },
    {
      "cell_type": "code",
      "source": [
        "y_pred_inv = y_pred_inv.flatten()\n",
        "y_pred_inv"
      ],
      "metadata": {
        "id": "fqq4-3-lsuEy",
        "outputId": "0db9274a-d3a6-442f-9313-2eda92001ce2",
        "colab": {
          "base_uri": "https://localhost:8080/"
        }
      },
      "execution_count": 356,
      "outputs": [
        {
          "output_type": "execute_result",
          "data": {
            "text/plain": [
              "array([313.84152, 314.03085, 327.93787, 331.20932, 308.6441 , 309.64703,\n",
              "       309.07983, 300.59915, 280.73923, 271.2991 , 274.73477, 280.4191 ,\n",
              "       272.47232, 272.52878, 277.44812, 266.89755, 262.8605 , 300.22522,\n",
              "       335.64655, 343.91354, 305.8775 , 312.81958], dtype=float32)"
            ]
          },
          "metadata": {},
          "execution_count": 356
        }
      ]
    },
    {
      "cell_type": "code",
      "source": [
        "plt.plot(np.arange(0, len(y_train)), y_train_inv, color='green', label=\"History\")\n",
        "plt.plot(np.arange(len(y_train), len(y_train) + len(y_test)), y_test_inv, color='blue', marker='.', label=\"Actual\")\n",
        "plt.plot(np.arange(len(y_train), len(y_train) + len(y_test)), y_pred_inv, color='red', label=\"Tuned CNN Prediction\")\n",
        "plt.ylabel('Crude Palm Oil Price')\n",
        "plt.xlabel('Time')\n",
        "plt.legend()\n",
        "plt.show();"
      ],
      "metadata": {
        "id": "nBN919VXsuNq",
        "outputId": "a1a75abe-fd4e-4c6f-f6dd-26af5313f3de",
        "colab": {
          "base_uri": "https://localhost:8080/",
          "height": 363
        }
      },
      "execution_count": 357,
      "outputs": [
        {
          "output_type": "display_data",
          "data": {
            "text/plain": [
              "<Figure size 720x360 with 1 Axes>"
            ],
            "image/png": "[encoded data removed]"
          },
          "metadata": {}
        }
      ]
    },
    {
      "cell_type": "code",
      "source": [
        "TURMSE_cnn = mean_squared_error(y_test_inv,y_pred_inv, squared=False)\n",
        "print('RMSE value of the CNN Model is:', TURMSE_cnn)"
      ],
      "metadata": {
        "id": "6XjFC2dXtj0L",
        "outputId": "940357e3-a2c6-4f28-863a-a1f7820df2d3",
        "colab": {
          "base_uri": "https://localhost:8080/"
        }
      },
      "execution_count": 358,
      "outputs": [
        {
          "output_type": "stream",
          "name": "stdout",
          "text": [
            "RMSE value of the CNN Model is: 36.245400273608475\n"
          ]
        }
      ]
    },
    {
      "cell_type": "code",
      "source": [
        "TUMAE_cnn = mean_absolute_error(y_test_inv, y_pred_inv)\n",
        "print('MAE value of the CNN Model is:', TUMAE_cnn)\n",
        "\n",
        "'''\n",
        "MDA_cnn = mda(y_test_inv, y_pred_inv)\n",
        "print('MDA value of the CNN Model is:', MDA_cnn)\n",
        "\n",
        "MAPE_cnn = mean_absolute_percentage_error(y_test_inv, y_pred_inv)\n",
        "print('MAPE value of the CNN Model is:', MAPE_cnn)\n",
        "\n",
        "RMSE_cnn = mean_squared_error(y_test_inv,y_pred_inv, squared=False)\n",
        "print('RMSE value of the CNN Model is:', RMSE_cnn)\n",
        "\n",
        "MSE_cnn = mean_squared_error(y_test_inv,y_pred_inv)\n",
        "print('MSE value of the CNN Model is:', MSE_cnn)\n",
        "\n",
        "#EVS_cnn = explained_variance_score(y_test_inv, y_pred_inv)\n",
        "#print('EVS score of the CNN Model is:', EVS_cnn)\n",
        "'''"
      ],
      "metadata": {
        "id": "FqciJO0esuRc",
        "outputId": "fca0e06b-8478-46ae-bf78-f23e5d71a06a",
        "colab": {
          "base_uri": "https://localhost:8080/",
          "height": 104
        }
      },
      "execution_count": 200,
      "outputs": [
        {
          "output_type": "stream",
          "name": "stdout",
          "text": [
            "MAE value of the CNN Model is: 34.13608065518466\n"
          ]
        },
        {
          "output_type": "execute_result",
          "data": {
            "text/plain": [
              "\"\\nMDA_cnn = mda(y_test_inv, y_pred_inv)\\nprint('MDA value of the CNN Model is:', MDA_cnn)\\n\\nMAPE_cnn = mean_absolute_percentage_error(y_test_inv, y_pred_inv)\\nprint('MAPE value of the CNN Model is:', MAPE_cnn)\\n\\nRMSE_cnn = mean_squared_error(y_test_inv,y_pred_inv, squared=False)\\nprint('RMSE value of the CNN Model is:', RMSE_cnn)\\n\\nMSE_cnn = mean_squared_error(y_test_inv,y_pred_inv)\\nprint('MSE value of the CNN Model is:', MSE_cnn)\\n\\n#EVS_cnn = explained_variance_score(y_test_inv, y_pred_inv)\\n#print('EVS score of the CNN Model is:', EVS_cnn)\\n\""
            ],
            "application/vnd.google.colaboratory.intrinsic+json": {
              "type": "string"
            }
          },
          "metadata": {},
          "execution_count": 200
        }
      ]
    },
    {
      "cell_type": "code",
      "source": [
        "plt.plot(y_test_inv, marker='.', label=\"Actual\")\n",
        "plt.plot(y_pred_inv, color='red', label=\"Tuned CNN Prediction\")\n",
        "plt.ylabel('Crude Palm Oil Price')\n",
        "plt.xlabel('Time')\n",
        "plt.legend()\n",
        "plt.show();"
      ],
      "metadata": {
        "colab": {
          "base_uri": "https://localhost:8080/",
          "height": 363
        },
        "id": "PAiy1NGphWK8",
        "outputId": "ad5be896-503f-474b-97b6-06c7575687aa"
      },
      "execution_count": 346,
      "outputs": [
        {
          "output_type": "display_data",
          "data": {
            "text/plain": [
              "<Figure size 720x360 with 1 Axes>"
            ],
            "image/png": "[encoded data removed]"
          },
          "metadata": {}
        }
      ]
    },
    {
      "cell_type": "code",
      "source": [],
      "metadata": {
        "id": "qa_1B4QQ1gtz"
      },
      "execution_count": null,
      "outputs": []
    },
    {
      "cell_type": "code",
      "source": [],
      "metadata": {
        "id": "EMHJVh1V1gx_"
      },
      "execution_count": null,
      "outputs": []
    }
  ]
}