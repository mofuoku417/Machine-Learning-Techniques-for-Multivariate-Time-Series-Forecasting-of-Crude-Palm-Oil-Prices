{
  "nbformat": 4,
  "nbformat_minor": 0,
  "metadata": {
    "colab": {
      "name": "MV_CNN.ipynb",
      "provenance": [],
      "authorship_tag": "ABX9TyPUkxZ66Ujyod5CkwXpju1a",
      "include_colab_link": true
    },
    "kernelspec": {
      "name": "python3",
      "display_name": "Python 3"
    },
    "language_info": {
      "name": "python"
    },
    "gpuClass": "standard",
    "accelerator": "GPU"
  },
  "cells": [
    {
      "cell_type": "markdown",
      "metadata": {
        "id": "view-in-github",
        "colab_type": "text"
      },
      "source": [
        "<a href=\"https://colab.research.google.com/github/mofuoku417/Machine-Learning-Techniques-for-Multivariate-Time-Series-Forecasting-of-Crude-Palm-Oil-Prices/blob/main/MV_CNN.ipynb\" target=\"_parent\"><img src=\"https://colab.research.google.com/assets/colab-badge.svg\" alt=\"Open In Colab\"/></a>"
      ]
    },
    {
      "cell_type": "markdown",
      "source": [
        "##Objective: Predict Monthly Crude Palm Oil Price Using Convolutional Neural Network (CNN)"
      ],
      "metadata": {
        "id": "tt6Yvzr3gZ-g"
      }
    },
    {
      "cell_type": "code",
      "source": [
        "!pip install scikeras\n",
        "!pip install bayesian-optimization\n",
        "!pip install keras-tuner --upgrade"
      ],
      "metadata": {
        "id": "gGw0m6TUdgMM",
        "outputId": "304f790a-0eb8-4f0b-d0e9-9ee71cf3b2f5",
        "colab": {
          "base_uri": "https://localhost:8080/"
        }
      },
      "execution_count": 1,
      "outputs": [
        {
          "output_type": "stream",
          "name": "stdout",
          "text": [
            "Looking in indexes: https://pypi.org/simple, https://us-python.pkg.dev/colab-wheels/public/simple/\n",
            "Collecting scikeras\n",
            "  Downloading scikeras-0.10.0-py3-none-any.whl (27 kB)\n",
            "Requirement already satisfied: packaging>=0.21 in /usr/local/lib/python3.8/dist-packages (from scikeras) (23.0)\n",
            "Requirement already satisfied: scikit-learn>=1.0.0 in /usr/local/lib/python3.8/dist-packages (from scikeras) (1.0.2)\n",
            "Requirement already satisfied: scipy>=1.1.0 in /usr/local/lib/python3.8/dist-packages (from scikit-learn>=1.0.0->scikeras) (1.7.3)\n",
            "Requirement already satisfied: joblib>=0.11 in /usr/local/lib/python3.8/dist-packages (from scikit-learn>=1.0.0->scikeras) (1.2.0)\n",
            "Requirement already satisfied: numpy>=1.14.6 in /usr/local/lib/python3.8/dist-packages (from scikit-learn>=1.0.0->scikeras) (1.21.6)\n",
            "Requirement already satisfied: threadpoolctl>=2.0.0 in /usr/local/lib/python3.8/dist-packages (from scikit-learn>=1.0.0->scikeras) (3.1.0)\n",
            "Installing collected packages: scikeras\n",
            "Successfully installed scikeras-0.10.0\n",
            "Looking in indexes: https://pypi.org/simple, https://us-python.pkg.dev/colab-wheels/public/simple/\n",
            "Collecting bayesian-optimization\n",
            "  Downloading bayesian_optimization-1.4.2-py3-none-any.whl (17 kB)\n",
            "Requirement already satisfied: numpy>=1.9.0 in /usr/local/lib/python3.8/dist-packages (from bayesian-optimization) (1.21.6)\n",
            "Collecting colorama>=0.4.6\n",
            "  Downloading colorama-0.4.6-py2.py3-none-any.whl (25 kB)\n",
            "Requirement already satisfied: scipy>=1.0.0 in /usr/local/lib/python3.8/dist-packages (from bayesian-optimization) (1.7.3)\n",
            "Requirement already satisfied: scikit-learn>=0.18.0 in /usr/local/lib/python3.8/dist-packages (from bayesian-optimization) (1.0.2)\n",
            "Requirement already satisfied: threadpoolctl>=2.0.0 in /usr/local/lib/python3.8/dist-packages (from scikit-learn>=0.18.0->bayesian-optimization) (3.1.0)\n",
            "Requirement already satisfied: joblib>=0.11 in /usr/local/lib/python3.8/dist-packages (from scikit-learn>=0.18.0->bayesian-optimization) (1.2.0)\n",
            "Installing collected packages: colorama, bayesian-optimization\n",
            "Successfully installed bayesian-optimization-1.4.2 colorama-0.4.6\n",
            "Looking in indexes: https://pypi.org/simple, https://us-python.pkg.dev/colab-wheels/public/simple/\n",
            "Collecting keras-tuner\n",
            "  Downloading keras_tuner-1.2.0-py3-none-any.whl (168 kB)\n",
            "\u001b[2K     \u001b[90m━━━━━━━━━━━━━━━━━━━━━━━━━━━━━━━━━━━━━━━\u001b[0m \u001b[32m168.1/168.1 KB\u001b[0m \u001b[31m6.9 MB/s\u001b[0m eta \u001b[36m0:00:00\u001b[0m\n",
            "\u001b[?25hRequirement already satisfied: packaging in /usr/local/lib/python3.8/dist-packages (from keras-tuner) (23.0)\n",
            "Requirement already satisfied: ipython in /usr/local/lib/python3.8/dist-packages (from keras-tuner) (7.9.0)\n",
            "Requirement already satisfied: tensorflow>=2.0 in /usr/local/lib/python3.8/dist-packages (from keras-tuner) (2.9.2)\n",
            "Requirement already satisfied: requests in /usr/local/lib/python3.8/dist-packages (from keras-tuner) (2.25.1)\n",
            "Collecting kt-legacy\n",
            "  Downloading kt_legacy-1.0.4-py3-none-any.whl (9.6 kB)\n",
            "Requirement already satisfied: keras<2.10.0,>=2.9.0rc0 in /usr/local/lib/python3.8/dist-packages (from tensorflow>=2.0->keras-tuner) (2.9.0)\n",
            "Requirement already satisfied: opt-einsum>=2.3.2 in /usr/local/lib/python3.8/dist-packages (from tensorflow>=2.0->keras-tuner) (3.3.0)\n",
            "Requirement already satisfied: libclang>=13.0.0 in /usr/local/lib/python3.8/dist-packages (from tensorflow>=2.0->keras-tuner) (15.0.6.1)\n",
            "Requirement already satisfied: typing-extensions>=3.6.6 in /usr/local/lib/python3.8/dist-packages (from tensorflow>=2.0->keras-tuner) (4.4.0)\n",
            "Requirement already satisfied: grpcio<2.0,>=1.24.3 in /usr/local/lib/python3.8/dist-packages (from tensorflow>=2.0->keras-tuner) (1.51.1)\n",
            "Requirement already satisfied: six>=1.12.0 in /usr/local/lib/python3.8/dist-packages (from tensorflow>=2.0->keras-tuner) (1.15.0)\n",
            "Requirement already satisfied: google-pasta>=0.1.1 in /usr/local/lib/python3.8/dist-packages (from tensorflow>=2.0->keras-tuner) (0.2.0)\n",
            "Requirement already satisfied: keras-preprocessing>=1.1.1 in /usr/local/lib/python3.8/dist-packages (from tensorflow>=2.0->keras-tuner) (1.1.2)\n",
            "Requirement already satisfied: flatbuffers<2,>=1.12 in /usr/local/lib/python3.8/dist-packages (from tensorflow>=2.0->keras-tuner) (1.12)\n",
            "Requirement already satisfied: gast<=0.4.0,>=0.2.1 in /usr/local/lib/python3.8/dist-packages (from tensorflow>=2.0->keras-tuner) (0.4.0)\n",
            "Requirement already satisfied: numpy>=1.20 in /usr/local/lib/python3.8/dist-packages (from tensorflow>=2.0->keras-tuner) (1.21.6)\n",
            "Requirement already satisfied: termcolor>=1.1.0 in /usr/local/lib/python3.8/dist-packages (from tensorflow>=2.0->keras-tuner) (2.2.0)\n",
            "Requirement already satisfied: h5py>=2.9.0 in /usr/local/lib/python3.8/dist-packages (from tensorflow>=2.0->keras-tuner) (3.1.0)\n",
            "Requirement already satisfied: astunparse>=1.6.0 in /usr/local/lib/python3.8/dist-packages (from tensorflow>=2.0->keras-tuner) (1.6.3)\n",
            "Requirement already satisfied: protobuf<3.20,>=3.9.2 in /usr/local/lib/python3.8/dist-packages (from tensorflow>=2.0->keras-tuner) (3.19.6)\n",
            "Requirement already satisfied: tensorboard<2.10,>=2.9 in /usr/local/lib/python3.8/dist-packages (from tensorflow>=2.0->keras-tuner) (2.9.1)\n",
            "Requirement already satisfied: setuptools in /usr/local/lib/python3.8/dist-packages (from tensorflow>=2.0->keras-tuner) (57.4.0)\n",
            "Requirement already satisfied: wrapt>=1.11.0 in /usr/local/lib/python3.8/dist-packages (from tensorflow>=2.0->keras-tuner) (1.14.1)\n",
            "Requirement already satisfied: absl-py>=1.0.0 in /usr/local/lib/python3.8/dist-packages (from tensorflow>=2.0->keras-tuner) (1.4.0)\n",
            "Requirement already satisfied: tensorflow-estimator<2.10.0,>=2.9.0rc0 in /usr/local/lib/python3.8/dist-packages (from tensorflow>=2.0->keras-tuner) (2.9.0)\n",
            "Requirement already satisfied: tensorflow-io-gcs-filesystem>=0.23.1 in /usr/local/lib/python3.8/dist-packages (from tensorflow>=2.0->keras-tuner) (0.30.0)\n",
            "Requirement already satisfied: traitlets>=4.2 in /usr/local/lib/python3.8/dist-packages (from ipython->keras-tuner) (5.7.1)\n",
            "Requirement already satisfied: pygments in /usr/local/lib/python3.8/dist-packages (from ipython->keras-tuner) (2.6.1)\n",
            "Requirement already satisfied: prompt-toolkit<2.1.0,>=2.0.0 in /usr/local/lib/python3.8/dist-packages (from ipython->keras-tuner) (2.0.10)\n",
            "Requirement already satisfied: pickleshare in /usr/local/lib/python3.8/dist-packages (from ipython->keras-tuner) (0.7.5)\n",
            "Requirement already satisfied: decorator in /usr/local/lib/python3.8/dist-packages (from ipython->keras-tuner) (4.4.2)\n",
            "Collecting jedi>=0.10\n",
            "  Downloading jedi-0.18.2-py2.py3-none-any.whl (1.6 MB)\n",
            "\u001b[2K     \u001b[90m━━━━━━━━━━━━━━━━━━━━━━━━━━━━━━━━━━━━━━━━\u001b[0m \u001b[32m1.6/1.6 MB\u001b[0m \u001b[31m57.1 MB/s\u001b[0m eta \u001b[36m0:00:00\u001b[0m\n",
            "\u001b[?25hRequirement already satisfied: backcall in /usr/local/lib/python3.8/dist-packages (from ipython->keras-tuner) (0.2.0)\n",
            "Requirement already satisfied: pexpect in /usr/local/lib/python3.8/dist-packages (from ipython->keras-tuner) (4.8.0)\n",
            "Requirement already satisfied: idna<3,>=2.5 in /usr/local/lib/python3.8/dist-packages (from requests->keras-tuner) (2.10)\n",
            "Requirement already satisfied: chardet<5,>=3.0.2 in /usr/local/lib/python3.8/dist-packages (from requests->keras-tuner) (4.0.0)\n",
            "Requirement already satisfied: certifi>=2017.4.17 in /usr/local/lib/python3.8/dist-packages (from requests->keras-tuner) (2022.12.7)\n",
            "Requirement already satisfied: urllib3<1.27,>=1.21.1 in /usr/local/lib/python3.8/dist-packages (from requests->keras-tuner) (1.24.3)\n",
            "Requirement already satisfied: wheel<1.0,>=0.23.0 in /usr/local/lib/python3.8/dist-packages (from astunparse>=1.6.0->tensorflow>=2.0->keras-tuner) (0.38.4)\n",
            "Requirement already satisfied: parso<0.9.0,>=0.8.0 in /usr/local/lib/python3.8/dist-packages (from jedi>=0.10->ipython->keras-tuner) (0.8.3)\n",
            "Requirement already satisfied: wcwidth in /usr/local/lib/python3.8/dist-packages (from prompt-toolkit<2.1.0,>=2.0.0->ipython->keras-tuner) (0.2.6)\n",
            "Requirement already satisfied: werkzeug>=1.0.1 in /usr/local/lib/python3.8/dist-packages (from tensorboard<2.10,>=2.9->tensorflow>=2.0->keras-tuner) (1.0.1)\n",
            "Requirement already satisfied: markdown>=2.6.8 in /usr/local/lib/python3.8/dist-packages (from tensorboard<2.10,>=2.9->tensorflow>=2.0->keras-tuner) (3.4.1)\n",
            "Requirement already satisfied: google-auth<3,>=1.6.3 in /usr/local/lib/python3.8/dist-packages (from tensorboard<2.10,>=2.9->tensorflow>=2.0->keras-tuner) (2.16.0)\n",
            "Requirement already satisfied: tensorboard-data-server<0.7.0,>=0.6.0 in /usr/local/lib/python3.8/dist-packages (from tensorboard<2.10,>=2.9->tensorflow>=2.0->keras-tuner) (0.6.1)\n",
            "Requirement already satisfied: tensorboard-plugin-wit>=1.6.0 in /usr/local/lib/python3.8/dist-packages (from tensorboard<2.10,>=2.9->tensorflow>=2.0->keras-tuner) (1.8.1)\n",
            "Requirement already satisfied: google-auth-oauthlib<0.5,>=0.4.1 in /usr/local/lib/python3.8/dist-packages (from tensorboard<2.10,>=2.9->tensorflow>=2.0->keras-tuner) (0.4.6)\n",
            "Requirement already satisfied: ptyprocess>=0.5 in /usr/local/lib/python3.8/dist-packages (from pexpect->ipython->keras-tuner) (0.7.0)\n",
            "Requirement already satisfied: pyasn1-modules>=0.2.1 in /usr/local/lib/python3.8/dist-packages (from google-auth<3,>=1.6.3->tensorboard<2.10,>=2.9->tensorflow>=2.0->keras-tuner) (0.2.8)\n",
            "Requirement already satisfied: rsa<5,>=3.1.4 in /usr/local/lib/python3.8/dist-packages (from google-auth<3,>=1.6.3->tensorboard<2.10,>=2.9->tensorflow>=2.0->keras-tuner) (4.9)\n",
            "Requirement already satisfied: cachetools<6.0,>=2.0.0 in /usr/local/lib/python3.8/dist-packages (from google-auth<3,>=1.6.3->tensorboard<2.10,>=2.9->tensorflow>=2.0->keras-tuner) (5.3.0)\n",
            "Requirement already satisfied: requests-oauthlib>=0.7.0 in /usr/local/lib/python3.8/dist-packages (from google-auth-oauthlib<0.5,>=0.4.1->tensorboard<2.10,>=2.9->tensorflow>=2.0->keras-tuner) (1.3.1)\n",
            "Requirement already satisfied: importlib-metadata>=4.4 in /usr/local/lib/python3.8/dist-packages (from markdown>=2.6.8->tensorboard<2.10,>=2.9->tensorflow>=2.0->keras-tuner) (6.0.0)\n",
            "Requirement already satisfied: zipp>=0.5 in /usr/local/lib/python3.8/dist-packages (from importlib-metadata>=4.4->markdown>=2.6.8->tensorboard<2.10,>=2.9->tensorflow>=2.0->keras-tuner) (3.12.0)\n",
            "Requirement already satisfied: pyasn1<0.5.0,>=0.4.6 in /usr/local/lib/python3.8/dist-packages (from pyasn1-modules>=0.2.1->google-auth<3,>=1.6.3->tensorboard<2.10,>=2.9->tensorflow>=2.0->keras-tuner) (0.4.8)\n",
            "Requirement already satisfied: oauthlib>=3.0.0 in /usr/local/lib/python3.8/dist-packages (from requests-oauthlib>=0.7.0->google-auth-oauthlib<0.5,>=0.4.1->tensorboard<2.10,>=2.9->tensorflow>=2.0->keras-tuner) (3.2.2)\n",
            "Installing collected packages: kt-legacy, jedi, keras-tuner\n",
            "Successfully installed jedi-0.18.2 keras-tuner-1.2.0 kt-legacy-1.0.4\n"
          ]
        }
      ]
    },
    {
      "cell_type": "markdown",
      "source": [
        "###Load Libraries"
      ],
      "metadata": {
        "id": "r_2Cswg0sYN8"
      }
    },
    {
      "cell_type": "code",
      "source": [
        "from numpy.random import seed\n",
        "seed(1)\n",
        "import tensorflow as tf\n",
        "tf.random.set_seed(1)\n",
        "\n",
        "import pandas as pd\n",
        "import numpy as np\n",
        "import matplotlib.pyplot as plt\n",
        "import seaborn as sns\n",
        "plt.rcParams['figure.figsize'] = (10, 5)\n",
        "plt.style.use('fivethirtyeight')\n",
        "from plotly.subplots import make_subplots\n",
        "import plotly.graph_objects as go\n",
        "import tensorflow as tf\n",
        "from tensorflow.keras import layers\n",
        "from sklearn.metrics import mean_absolute_error\n",
        "from sklearn.metrics import make_scorer, mean_squared_error\n",
        "from keras.layers import Dense, Dropout\n",
        "from sklearn.metrics import explained_variance_score\n",
        "from sklearn.neural_network import MLPRegressor\n",
        "from sklearn.model_selection import GridSearchCV, RandomizedSearchCV\n",
        "import warnings\n",
        "warnings.filterwarnings('ignore')\n",
        "from keras.models import Sequential\n",
        "from keras.layers import Dense\n",
        "from keras.wrappers.scikit_learn import KerasRegressor\n",
        "from keras.wrappers.scikit_learn import KerasClassifier\n",
        "from sklearn.model_selection import KFold, cross_val_score\n",
        "from scikeras.wrappers import KerasRegressor\n",
        "from tensorflow import keras\n",
        "from kerastuner.tuners import RandomSearch\n",
        "from kerastuner import HyperModel, RandomSearch, Hyperband, BayesianOptimization\n",
        "from keras.callbacks import EarlyStopping\n",
        "from time import time\n",
        "import pickle\n",
        "\n",
        "import matplotlib.dates as mdates\n",
        "from sklearn.preprocessing import RobustScaler\n",
        "from sklearn.preprocessing import MinMaxScaler"
      ],
      "metadata": {
        "id": "eJUaw5qy34It"
      },
      "execution_count": 2,
      "outputs": []
    },
    {
      "cell_type": "markdown",
      "source": [
        "###Define Functions to Facilitate Metrics Evaluation"
      ],
      "metadata": {
        "id": "Gzu9V2o2gfZG"
      }
    },
    {
      "cell_type": "code",
      "source": [
        "#To compute Mean Directional Accuracy\n",
        "def mda(actual: np.ndarray, predicted: np.ndarray):\n",
        "    \"\"\" Mean Directional Accuracy \"\"\"\n",
        "    return np.mean((np.sign(actual[1:] - actual[:-1]) == np.sign(predicted[1:] - predicted[:-1])).astype(int))\n",
        "\n",
        "#Calculate the Mean Absolute Percentage Error\n",
        "#def MAPE(y_true, y_pred): \n",
        "    #mape = np.mean(np.abs((np.array(y_true) - np.array(y_pred)) / np.array(y_true))) * 100\n",
        "    #return mape\n",
        "\n",
        "def mean_absolute_percentage_error(y_true, y_pred): \n",
        "    y_true, y_pred = np.array(y_true), np.array(y_pred)\n",
        "    return np.mean(np.abs((y_true - y_pred) / y_true)) * 100\n",
        "\n",
        "def MAPE(y_true, y_pred): \n",
        "    y_true, y_pred = np.array(y_true), np.array(y_pred)\n",
        "    return np.mean(np.abs((y_true - y_pred) / y_true)) * 100\n",
        "\n",
        "#Calculate the Root Mean Squared Error:\n",
        "def RMSE(y_true, y_pred): \n",
        "    rmse = np.sqrt(mean_squared_error(y_true, y_pred))\n",
        "    return rmse"
      ],
      "metadata": {
        "id": "k7RYx1rN_Yf_"
      },
      "execution_count": 3,
      "outputs": []
    },
    {
      "cell_type": "markdown",
      "source": [
        "###Load the Cleaned Data from Github"
      ],
      "metadata": {
        "id": "FVpIGyF7g4od"
      }
    },
    {
      "cell_type": "code",
      "source": [
        "from pandas import read_csv\n",
        "path = 'https://raw.githubusercontent.com/mofuoku417/Machine-Learning-Techniques-for-Multivariate-Time-Series-Forecasting-of-Crude-Palm-Oil-Prices/main/Cleaned_data/FS_2.csv'\n",
        "df = read_csv(path)\n",
        "df.head()"
      ],
      "metadata": {
        "colab": {
          "base_uri": "https://localhost:8080/",
          "height": 228
        },
        "id": "z_6wFR8b3xZf",
        "outputId": "e5d595b6-b23c-42e9-d1ea-f9fd3d582d70"
      },
      "execution_count": 4,
      "outputs": [
        {
          "output_type": "execute_result",
          "data": {
            "text/plain": [
              "      date  cpo_pri  cno_pri  oli_pri  rps_pri  pno_pri  sbo_pri  sfo_pri\n",
              "0  12/1/10      323      455  3102.61   423.45    844.0    468.0    578.0\n",
              "1   1/1/11      345      546  3100.45   415.85    799.0    485.0    557.0\n",
              "2   2/1/11      362      595  3199.41   410.77    718.0    466.0    552.0\n",
              "3   3/1/11      376      636  3281.67   414.82    614.0    442.0    574.0\n",
              "4   4/1/11      383      738  3261.65   451.04    619.0    429.0    595.0"
            ],
            "text/html": [
              "\n",
              "  <div id=\"df-5ed18e84-824d-4fc5-9ad1-542bb5c73e35\">\n",
              "    <div class=\"colab-df-container\">\n",
              "      <div>\n",
              "<style scoped>\n",
              "    .dataframe tbody tr th:only-of-type {\n",
              "        vertical-align: middle;\n",
              "    }\n",
              "\n",
              "    .dataframe tbody tr th {\n",
              "        vertical-align: top;\n",
              "    }\n",
              "\n",
              "    .dataframe thead th {\n",
              "        text-align: right;\n",
              "    }\n",
              "</style>\n",
              "<table border=\"1\" class=\"dataframe\">\n",
              "  <thead>\n",
              "    <tr style=\"text-align: right;\">\n",
              "      <th></th>\n",
              "      <th>date</th>\n",
              "      <th>cpo_pri</th>\n",
              "      <th>cno_pri</th>\n",
              "      <th>oli_pri</th>\n",
              "      <th>rps_pri</th>\n",
              "      <th>pno_pri</th>\n",
              "      <th>sbo_pri</th>\n",
              "      <th>sfo_pri</th>\n",
              "    </tr>\n",
              "  </thead>\n",
              "  <tbody>\n",
              "    <tr>\n",
              "      <th>0</th>\n",
              "      <td>12/1/10</td>\n",
              "      <td>323</td>\n",
              "      <td>455</td>\n",
              "      <td>3102.61</td>\n",
              "      <td>423.45</td>\n",
              "      <td>844.0</td>\n",
              "      <td>468.0</td>\n",
              "      <td>578.0</td>\n",
              "    </tr>\n",
              "    <tr>\n",
              "      <th>1</th>\n",
              "      <td>1/1/11</td>\n",
              "      <td>345</td>\n",
              "      <td>546</td>\n",
              "      <td>3100.45</td>\n",
              "      <td>415.85</td>\n",
              "      <td>799.0</td>\n",
              "      <td>485.0</td>\n",
              "      <td>557.0</td>\n",
              "    </tr>\n",
              "    <tr>\n",
              "      <th>2</th>\n",
              "      <td>2/1/11</td>\n",
              "      <td>362</td>\n",
              "      <td>595</td>\n",
              "      <td>3199.41</td>\n",
              "      <td>410.77</td>\n",
              "      <td>718.0</td>\n",
              "      <td>466.0</td>\n",
              "      <td>552.0</td>\n",
              "    </tr>\n",
              "    <tr>\n",
              "      <th>3</th>\n",
              "      <td>3/1/11</td>\n",
              "      <td>376</td>\n",
              "      <td>636</td>\n",
              "      <td>3281.67</td>\n",
              "      <td>414.82</td>\n",
              "      <td>614.0</td>\n",
              "      <td>442.0</td>\n",
              "      <td>574.0</td>\n",
              "    </tr>\n",
              "    <tr>\n",
              "      <th>4</th>\n",
              "      <td>4/1/11</td>\n",
              "      <td>383</td>\n",
              "      <td>738</td>\n",
              "      <td>3261.65</td>\n",
              "      <td>451.04</td>\n",
              "      <td>619.0</td>\n",
              "      <td>429.0</td>\n",
              "      <td>595.0</td>\n",
              "    </tr>\n",
              "  </tbody>\n",
              "</table>\n",
              "</div>\n",
              "      <button class=\"colab-df-convert\" onclick=\"convertToInteractive('df-5ed18e84-824d-4fc5-9ad1-542bb5c73e35')\"\n",
              "              title=\"Convert this dataframe to an interactive table.\"\n",
              "              style=\"display:none;\">\n",
              "        \n",
              "  <svg xmlns=\"http://www.w3.org/2000/svg\" height=\"24px\"viewBox=\"0 0 24 24\"\n",
              "       width=\"24px\">\n",
              "    <path d=\"M0 0h24v24H0V0z\" fill=\"none\"/>\n",
              "    <path d=\"M18.56 5.44l.94 2.06.94-2.06 2.06-.94-2.06-.94-.94-2.06-.94 2.06-2.06.94zm-11 1L8.5 8.5l.94-2.06 2.06-.94-2.06-.94L8.5 2.5l-.94 2.06-2.06.94zm10 10l.94 2.06.94-2.06 2.06-.94-2.06-.94-.94-2.06-.94 2.06-2.06.94z\"/><path d=\"M17.41 7.96l-1.37-1.37c-.4-.4-.92-.59-1.43-.59-.52 0-1.04.2-1.43.59L10.3 9.45l-7.72 7.72c-.78.78-.78 2.05 0 2.83L4 21.41c.39.39.9.59 1.41.59.51 0 1.02-.2 1.41-.59l7.78-7.78 2.81-2.81c.8-.78.8-2.07 0-2.86zM5.41 20L4 18.59l7.72-7.72 1.47 1.35L5.41 20z\"/>\n",
              "  </svg>\n",
              "      </button>\n",
              "      \n",
              "  <style>\n",
              "    .colab-df-container {\n",
              "      display:flex;\n",
              "      flex-wrap:wrap;\n",
              "      gap: 12px;\n",
              "    }\n",
              "\n",
              "    .colab-df-convert {\n",
              "      background-color: #E8F0FE;\n",
              "      border: none;\n",
              "      border-radius: 50%;\n",
              "      cursor: pointer;\n",
              "      display: none;\n",
              "      fill: #1967D2;\n",
              "      height: 32px;\n",
              "      padding: 0 0 0 0;\n",
              "      width: 32px;\n",
              "    }\n",
              "\n",
              "    .colab-df-convert:hover {\n",
              "      background-color: #E2EBFA;\n",
              "      box-shadow: 0px 1px 2px rgba(60, 64, 67, 0.3), 0px 1px 3px 1px rgba(60, 64, 67, 0.15);\n",
              "      fill: #174EA6;\n",
              "    }\n",
              "\n",
              "    [theme=dark] .colab-df-convert {\n",
              "      background-color: #3B4455;\n",
              "      fill: #D2E3FC;\n",
              "    }\n",
              "\n",
              "    [theme=dark] .colab-df-convert:hover {\n",
              "      background-color: #434B5C;\n",
              "      box-shadow: 0px 1px 3px 1px rgba(0, 0, 0, 0.15);\n",
              "      filter: drop-shadow(0px 1px 2px rgba(0, 0, 0, 0.3));\n",
              "      fill: #FFFFFF;\n",
              "    }\n",
              "  </style>\n",
              "\n",
              "      <script>\n",
              "        const buttonEl =\n",
              "          document.querySelector('#df-5ed18e84-824d-4fc5-9ad1-542bb5c73e35 button.colab-df-convert');\n",
              "        buttonEl.style.display =\n",
              "          google.colab.kernel.accessAllowed ? 'block' : 'none';\n",
              "\n",
              "        async function convertToInteractive(key) {\n",
              "          const element = document.querySelector('#df-5ed18e84-824d-4fc5-9ad1-542bb5c73e35');\n",
              "          const dataTable =\n",
              "            await google.colab.kernel.invokeFunction('convertToInteractive',\n",
              "                                                     [key], {});\n",
              "          if (!dataTable) return;\n",
              "\n",
              "          const docLinkHtml = 'Like what you see? Visit the ' +\n",
              "            '<a target=\"_blank\" href=https://colab.research.google.com/notebooks/data_table.ipynb>data table notebook</a>'\n",
              "            + ' to learn more about interactive tables.';\n",
              "          element.innerHTML = '';\n",
              "          dataTable['output_type'] = 'display_data';\n",
              "          await google.colab.output.renderOutput(dataTable, element);\n",
              "          const docLink = document.createElement('div');\n",
              "          docLink.innerHTML = docLinkHtml;\n",
              "          element.appendChild(docLink);\n",
              "        }\n",
              "      </script>\n",
              "    </div>\n",
              "  </div>\n",
              "  "
            ]
          },
          "metadata": {},
          "execution_count": 4
        }
      ]
    },
    {
      "cell_type": "code",
      "source": [
        "df['date']=pd.to_datetime(df['date'])\n",
        "#del df['date']"
      ],
      "metadata": {
        "id": "bABFH7Kd4nBN"
      },
      "execution_count": 5,
      "outputs": []
    },
    {
      "cell_type": "code",
      "source": [
        "df.set_index('date', inplace=True)\n",
        "df.info()"
      ],
      "metadata": {
        "colab": {
          "base_uri": "https://localhost:8080/"
        },
        "id": "nZ-LB-rFdF5N",
        "outputId": "ff5ef489-765f-448f-a554-938c815003c0"
      },
      "execution_count": 6,
      "outputs": [
        {
          "output_type": "stream",
          "name": "stdout",
          "text": [
            "<class 'pandas.core.frame.DataFrame'>\n",
            "DatetimeIndex: 124 entries, 2010-12-01 to 2021-03-01\n",
            "Data columns (total 7 columns):\n",
            " #   Column   Non-Null Count  Dtype  \n",
            "---  ------   --------------  -----  \n",
            " 0   cpo_pri  124 non-null    int64  \n",
            " 1   cno_pri  124 non-null    int64  \n",
            " 2   oli_pri  124 non-null    float64\n",
            " 3   rps_pri  124 non-null    float64\n",
            " 4   pno_pri  124 non-null    float64\n",
            " 5   sbo_pri  124 non-null    float64\n",
            " 6   sfo_pri  124 non-null    float64\n",
            "dtypes: float64(5), int64(2)\n",
            "memory usage: 7.8 KB\n"
          ]
        }
      ]
    },
    {
      "cell_type": "code",
      "source": [
        "df.head()"
      ],
      "metadata": {
        "colab": {
          "base_uri": "https://localhost:8080/",
          "height": 260
        },
        "id": "PLpdJChY4wex",
        "outputId": "208b61ea-68b5-4481-d052-d2c55defa86e"
      },
      "execution_count": 7,
      "outputs": [
        {
          "output_type": "execute_result",
          "data": {
            "text/plain": [
              "            cpo_pri  cno_pri  oli_pri  rps_pri  pno_pri  sbo_pri  sfo_pri\n",
              "date                                                                     \n",
              "2010-12-01      323      455  3102.61   423.45    844.0    468.0    578.0\n",
              "2011-01-01      345      546  3100.45   415.85    799.0    485.0    557.0\n",
              "2011-02-01      362      595  3199.41   410.77    718.0    466.0    552.0\n",
              "2011-03-01      376      636  3281.67   414.82    614.0    442.0    574.0\n",
              "2011-04-01      383      738  3261.65   451.04    619.0    429.0    595.0"
            ],
            "text/html": [
              "\n",
              "  <div id=\"df-eb66ffc3-775d-4c1d-bf53-437d4bf7096b\">\n",
              "    <div class=\"colab-df-container\">\n",
              "      <div>\n",
              "<style scoped>\n",
              "    .dataframe tbody tr th:only-of-type {\n",
              "        vertical-align: middle;\n",
              "    }\n",
              "\n",
              "    .dataframe tbody tr th {\n",
              "        vertical-align: top;\n",
              "    }\n",
              "\n",
              "    .dataframe thead th {\n",
              "        text-align: right;\n",
              "    }\n",
              "</style>\n",
              "<table border=\"1\" class=\"dataframe\">\n",
              "  <thead>\n",
              "    <tr style=\"text-align: right;\">\n",
              "      <th></th>\n",
              "      <th>cpo_pri</th>\n",
              "      <th>cno_pri</th>\n",
              "      <th>oli_pri</th>\n",
              "      <th>rps_pri</th>\n",
              "      <th>pno_pri</th>\n",
              "      <th>sbo_pri</th>\n",
              "      <th>sfo_pri</th>\n",
              "    </tr>\n",
              "    <tr>\n",
              "      <th>date</th>\n",
              "      <th></th>\n",
              "      <th></th>\n",
              "      <th></th>\n",
              "      <th></th>\n",
              "      <th></th>\n",
              "      <th></th>\n",
              "      <th></th>\n",
              "    </tr>\n",
              "  </thead>\n",
              "  <tbody>\n",
              "    <tr>\n",
              "      <th>2010-12-01</th>\n",
              "      <td>323</td>\n",
              "      <td>455</td>\n",
              "      <td>3102.61</td>\n",
              "      <td>423.45</td>\n",
              "      <td>844.0</td>\n",
              "      <td>468.0</td>\n",
              "      <td>578.0</td>\n",
              "    </tr>\n",
              "    <tr>\n",
              "      <th>2011-01-01</th>\n",
              "      <td>345</td>\n",
              "      <td>546</td>\n",
              "      <td>3100.45</td>\n",
              "      <td>415.85</td>\n",
              "      <td>799.0</td>\n",
              "      <td>485.0</td>\n",
              "      <td>557.0</td>\n",
              "    </tr>\n",
              "    <tr>\n",
              "      <th>2011-02-01</th>\n",
              "      <td>362</td>\n",
              "      <td>595</td>\n",
              "      <td>3199.41</td>\n",
              "      <td>410.77</td>\n",
              "      <td>718.0</td>\n",
              "      <td>466.0</td>\n",
              "      <td>552.0</td>\n",
              "    </tr>\n",
              "    <tr>\n",
              "      <th>2011-03-01</th>\n",
              "      <td>376</td>\n",
              "      <td>636</td>\n",
              "      <td>3281.67</td>\n",
              "      <td>414.82</td>\n",
              "      <td>614.0</td>\n",
              "      <td>442.0</td>\n",
              "      <td>574.0</td>\n",
              "    </tr>\n",
              "    <tr>\n",
              "      <th>2011-04-01</th>\n",
              "      <td>383</td>\n",
              "      <td>738</td>\n",
              "      <td>3261.65</td>\n",
              "      <td>451.04</td>\n",
              "      <td>619.0</td>\n",
              "      <td>429.0</td>\n",
              "      <td>595.0</td>\n",
              "    </tr>\n",
              "  </tbody>\n",
              "</table>\n",
              "</div>\n",
              "      <button class=\"colab-df-convert\" onclick=\"convertToInteractive('df-eb66ffc3-775d-4c1d-bf53-437d4bf7096b')\"\n",
              "              title=\"Convert this dataframe to an interactive table.\"\n",
              "              style=\"display:none;\">\n",
              "        \n",
              "  <svg xmlns=\"http://www.w3.org/2000/svg\" height=\"24px\"viewBox=\"0 0 24 24\"\n",
              "       width=\"24px\">\n",
              "    <path d=\"M0 0h24v24H0V0z\" fill=\"none\"/>\n",
              "    <path d=\"M18.56 5.44l.94 2.06.94-2.06 2.06-.94-2.06-.94-.94-2.06-.94 2.06-2.06.94zm-11 1L8.5 8.5l.94-2.06 2.06-.94-2.06-.94L8.5 2.5l-.94 2.06-2.06.94zm10 10l.94 2.06.94-2.06 2.06-.94-2.06-.94-.94-2.06-.94 2.06-2.06.94z\"/><path d=\"M17.41 7.96l-1.37-1.37c-.4-.4-.92-.59-1.43-.59-.52 0-1.04.2-1.43.59L10.3 9.45l-7.72 7.72c-.78.78-.78 2.05 0 2.83L4 21.41c.39.39.9.59 1.41.59.51 0 1.02-.2 1.41-.59l7.78-7.78 2.81-2.81c.8-.78.8-2.07 0-2.86zM5.41 20L4 18.59l7.72-7.72 1.47 1.35L5.41 20z\"/>\n",
              "  </svg>\n",
              "      </button>\n",
              "      \n",
              "  <style>\n",
              "    .colab-df-container {\n",
              "      display:flex;\n",
              "      flex-wrap:wrap;\n",
              "      gap: 12px;\n",
              "    }\n",
              "\n",
              "    .colab-df-convert {\n",
              "      background-color: #E8F0FE;\n",
              "      border: none;\n",
              "      border-radius: 50%;\n",
              "      cursor: pointer;\n",
              "      display: none;\n",
              "      fill: #1967D2;\n",
              "      height: 32px;\n",
              "      padding: 0 0 0 0;\n",
              "      width: 32px;\n",
              "    }\n",
              "\n",
              "    .colab-df-convert:hover {\n",
              "      background-color: #E2EBFA;\n",
              "      box-shadow: 0px 1px 2px rgba(60, 64, 67, 0.3), 0px 1px 3px 1px rgba(60, 64, 67, 0.15);\n",
              "      fill: #174EA6;\n",
              "    }\n",
              "\n",
              "    [theme=dark] .colab-df-convert {\n",
              "      background-color: #3B4455;\n",
              "      fill: #D2E3FC;\n",
              "    }\n",
              "\n",
              "    [theme=dark] .colab-df-convert:hover {\n",
              "      background-color: #434B5C;\n",
              "      box-shadow: 0px 1px 3px 1px rgba(0, 0, 0, 0.15);\n",
              "      filter: drop-shadow(0px 1px 2px rgba(0, 0, 0, 0.3));\n",
              "      fill: #FFFFFF;\n",
              "    }\n",
              "  </style>\n",
              "\n",
              "      <script>\n",
              "        const buttonEl =\n",
              "          document.querySelector('#df-eb66ffc3-775d-4c1d-bf53-437d4bf7096b button.colab-df-convert');\n",
              "        buttonEl.style.display =\n",
              "          google.colab.kernel.accessAllowed ? 'block' : 'none';\n",
              "\n",
              "        async function convertToInteractive(key) {\n",
              "          const element = document.querySelector('#df-eb66ffc3-775d-4c1d-bf53-437d4bf7096b');\n",
              "          const dataTable =\n",
              "            await google.colab.kernel.invokeFunction('convertToInteractive',\n",
              "                                                     [key], {});\n",
              "          if (!dataTable) return;\n",
              "\n",
              "          const docLinkHtml = 'Like what you see? Visit the ' +\n",
              "            '<a target=\"_blank\" href=https://colab.research.google.com/notebooks/data_table.ipynb>data table notebook</a>'\n",
              "            + ' to learn more about interactive tables.';\n",
              "          element.innerHTML = '';\n",
              "          dataTable['output_type'] = 'display_data';\n",
              "          await google.colab.output.renderOutput(dataTable, element);\n",
              "          const docLink = document.createElement('div');\n",
              "          docLink.innerHTML = docLinkHtml;\n",
              "          element.appendChild(docLink);\n",
              "        }\n",
              "      </script>\n",
              "    </div>\n",
              "  </div>\n",
              "  "
            ]
          },
          "metadata": {},
          "execution_count": 7
        }
      ]
    },
    {
      "cell_type": "code",
      "source": [
        "# Plot an area chart\n",
        "plt.figure(figsize=(25,10))\n",
        "ax = df.plot.area(fontsize=12);\n",
        "\n",
        "# Additional customizations\n",
        "ax.set_xlabel('date');\n",
        "ax.legend(fontsize=12);"
      ],
      "metadata": {
        "colab": {
          "base_uri": "https://localhost:8080/",
          "height": 399
        },
        "id": "pnKg-SfY6j9g",
        "outputId": "351be3b0-7cde-4ad2-8fe6-189c667ce5ca"
      },
      "execution_count": 8,
      "outputs": [
        {
          "output_type": "display_data",
          "data": {
            "text/plain": [
              "<Figure size 1800x720 with 0 Axes>"
            ]
          },
          "metadata": {}
        },
        {
          "output_type": "display_data",
          "data": {
            "text/plain": [
              "<Figure size 720x360 with 1 Axes>"
            ],
            "image/png": "[encoded data removed]"
          },
          "metadata": {}
        }
      ]
    },
    {
      "cell_type": "markdown",
      "source": [
        "##**Convolutional Neural Network Forecasting Technique (CNN)**"
      ],
      "metadata": {
        "id": "dPoGjuS366Cc"
      }
    },
    {
      "cell_type": "markdown",
      "source": [
        "###**Split Data into Train Test Segments**"
      ],
      "metadata": {
        "id": "vFpT6OrD7KRv"
      }
    },
    {
      "cell_type": "code",
      "source": [
        "train_size = int(len(df) * 0.8)\n",
        "test_size = len(df) - train_size\n",
        "train, test = df.iloc[0:train_size], df.iloc[train_size:len(df)]\n",
        "print('Train size:',len(train))\n",
        "print('Test size:', len(test))"
      ],
      "metadata": {
        "colab": {
          "base_uri": "https://localhost:8080/"
        },
        "id": "nYZL-9Sy3xpJ",
        "outputId": "4028ef47-0008-4606-f3ef-6f37a066c659"
      },
      "execution_count": 9,
      "outputs": [
        {
          "output_type": "stream",
          "name": "stdout",
          "text": [
            "Train size: 99\n",
            "Test size: 25\n"
          ]
        }
      ]
    },
    {
      "cell_type": "code",
      "source": [
        "split_date = '2019-02'\n",
        "df_training = df.loc[df.index <= split_date]\n",
        "df_test = df.loc[df.index > split_date]\n",
        "print(f\"{len(df_training)} days of training data \\n {len(df_test)} days of testing data \")"
      ],
      "metadata": {
        "colab": {
          "base_uri": "https://localhost:8080/"
        },
        "id": "qKDDSdp_JVu6",
        "outputId": "0c03a3ea-d82c-4516-9017-126aa7140849"
      },
      "execution_count": 10,
      "outputs": [
        {
          "output_type": "stream",
          "name": "stdout",
          "text": [
            "99 days of training data \n",
            " 25 days of testing data \n"
          ]
        }
      ]
    },
    {
      "cell_type": "code",
      "source": [
        "train, test = df.iloc[0:train_size], df.iloc[train_size:len(df)]\n",
        "print(len(train), len(test))"
      ],
      "metadata": {
        "colab": {
          "base_uri": "https://localhost:8080/"
        },
        "id": "DGrD2nxFmNSu",
        "outputId": "38e20bce-8260-484d-8714-11ad3a013253"
      },
      "execution_count": 11,
      "outputs": [
        {
          "output_type": "stream",
          "name": "stdout",
          "text": [
            "99 25\n"
          ]
        }
      ]
    },
    {
      "cell_type": "code",
      "source": [
        "print(train.shape)\n",
        "train.head()"
      ],
      "metadata": {
        "colab": {
          "base_uri": "https://localhost:8080/",
          "height": 278
        },
        "id": "QvbHy-5RmPuI",
        "outputId": "25305d23-fdd4-4c38-90e3-05499fa84183"
      },
      "execution_count": 12,
      "outputs": [
        {
          "output_type": "stream",
          "name": "stdout",
          "text": [
            "(99, 7)\n"
          ]
        },
        {
          "output_type": "execute_result",
          "data": {
            "text/plain": [
              "            cpo_pri  cno_pri  oli_pri  rps_pri  pno_pri  sbo_pri  sfo_pri\n",
              "date                                                                     \n",
              "2010-12-01      323      455  3102.61   423.45    844.0    468.0    578.0\n",
              "2011-01-01      345      546  3100.45   415.85    799.0    485.0    557.0\n",
              "2011-02-01      362      595  3199.41   410.77    718.0    466.0    552.0\n",
              "2011-03-01      376      636  3281.67   414.82    614.0    442.0    574.0\n",
              "2011-04-01      383      738  3261.65   451.04    619.0    429.0    595.0"
            ],
            "text/html": [
              "\n",
              "  <div id=\"df-d126473a-c36a-4882-ad39-10eb75c9a3f6\">\n",
              "    <div class=\"colab-df-container\">\n",
              "      <div>\n",
              "<style scoped>\n",
              "    .dataframe tbody tr th:only-of-type {\n",
              "        vertical-align: middle;\n",
              "    }\n",
              "\n",
              "    .dataframe tbody tr th {\n",
              "        vertical-align: top;\n",
              "    }\n",
              "\n",
              "    .dataframe thead th {\n",
              "        text-align: right;\n",
              "    }\n",
              "</style>\n",
              "<table border=\"1\" class=\"dataframe\">\n",
              "  <thead>\n",
              "    <tr style=\"text-align: right;\">\n",
              "      <th></th>\n",
              "      <th>cpo_pri</th>\n",
              "      <th>cno_pri</th>\n",
              "      <th>oli_pri</th>\n",
              "      <th>rps_pri</th>\n",
              "      <th>pno_pri</th>\n",
              "      <th>sbo_pri</th>\n",
              "      <th>sfo_pri</th>\n",
              "    </tr>\n",
              "    <tr>\n",
              "      <th>date</th>\n",
              "      <th></th>\n",
              "      <th></th>\n",
              "      <th></th>\n",
              "      <th></th>\n",
              "      <th></th>\n",
              "      <th></th>\n",
              "      <th></th>\n",
              "    </tr>\n",
              "  </thead>\n",
              "  <tbody>\n",
              "    <tr>\n",
              "      <th>2010-12-01</th>\n",
              "      <td>323</td>\n",
              "      <td>455</td>\n",
              "      <td>3102.61</td>\n",
              "      <td>423.45</td>\n",
              "      <td>844.0</td>\n",
              "      <td>468.0</td>\n",
              "      <td>578.0</td>\n",
              "    </tr>\n",
              "    <tr>\n",
              "      <th>2011-01-01</th>\n",
              "      <td>345</td>\n",
              "      <td>546</td>\n",
              "      <td>3100.45</td>\n",
              "      <td>415.85</td>\n",
              "      <td>799.0</td>\n",
              "      <td>485.0</td>\n",
              "      <td>557.0</td>\n",
              "    </tr>\n",
              "    <tr>\n",
              "      <th>2011-02-01</th>\n",
              "      <td>362</td>\n",
              "      <td>595</td>\n",
              "      <td>3199.41</td>\n",
              "      <td>410.77</td>\n",
              "      <td>718.0</td>\n",
              "      <td>466.0</td>\n",
              "      <td>552.0</td>\n",
              "    </tr>\n",
              "    <tr>\n",
              "      <th>2011-03-01</th>\n",
              "      <td>376</td>\n",
              "      <td>636</td>\n",
              "      <td>3281.67</td>\n",
              "      <td>414.82</td>\n",
              "      <td>614.0</td>\n",
              "      <td>442.0</td>\n",
              "      <td>574.0</td>\n",
              "    </tr>\n",
              "    <tr>\n",
              "      <th>2011-04-01</th>\n",
              "      <td>383</td>\n",
              "      <td>738</td>\n",
              "      <td>3261.65</td>\n",
              "      <td>451.04</td>\n",
              "      <td>619.0</td>\n",
              "      <td>429.0</td>\n",
              "      <td>595.0</td>\n",
              "    </tr>\n",
              "  </tbody>\n",
              "</table>\n",
              "</div>\n",
              "      <button class=\"colab-df-convert\" onclick=\"convertToInteractive('df-d126473a-c36a-4882-ad39-10eb75c9a3f6')\"\n",
              "              title=\"Convert this dataframe to an interactive table.\"\n",
              "              style=\"display:none;\">\n",
              "        \n",
              "  <svg xmlns=\"http://www.w3.org/2000/svg\" height=\"24px\"viewBox=\"0 0 24 24\"\n",
              "       width=\"24px\">\n",
              "    <path d=\"M0 0h24v24H0V0z\" fill=\"none\"/>\n",
              "    <path d=\"M18.56 5.44l.94 2.06.94-2.06 2.06-.94-2.06-.94-.94-2.06-.94 2.06-2.06.94zm-11 1L8.5 8.5l.94-2.06 2.06-.94-2.06-.94L8.5 2.5l-.94 2.06-2.06.94zm10 10l.94 2.06.94-2.06 2.06-.94-2.06-.94-.94-2.06-.94 2.06-2.06.94z\"/><path d=\"M17.41 7.96l-1.37-1.37c-.4-.4-.92-.59-1.43-.59-.52 0-1.04.2-1.43.59L10.3 9.45l-7.72 7.72c-.78.78-.78 2.05 0 2.83L4 21.41c.39.39.9.59 1.41.59.51 0 1.02-.2 1.41-.59l7.78-7.78 2.81-2.81c.8-.78.8-2.07 0-2.86zM5.41 20L4 18.59l7.72-7.72 1.47 1.35L5.41 20z\"/>\n",
              "  </svg>\n",
              "      </button>\n",
              "      \n",
              "  <style>\n",
              "    .colab-df-container {\n",
              "      display:flex;\n",
              "      flex-wrap:wrap;\n",
              "      gap: 12px;\n",
              "    }\n",
              "\n",
              "    .colab-df-convert {\n",
              "      background-color: #E8F0FE;\n",
              "      border: none;\n",
              "      border-radius: 50%;\n",
              "      cursor: pointer;\n",
              "      display: none;\n",
              "      fill: #1967D2;\n",
              "      height: 32px;\n",
              "      padding: 0 0 0 0;\n",
              "      width: 32px;\n",
              "    }\n",
              "\n",
              "    .colab-df-convert:hover {\n",
              "      background-color: #E2EBFA;\n",
              "      box-shadow: 0px 1px 2px rgba(60, 64, 67, 0.3), 0px 1px 3px 1px rgba(60, 64, 67, 0.15);\n",
              "      fill: #174EA6;\n",
              "    }\n",
              "\n",
              "    [theme=dark] .colab-df-convert {\n",
              "      background-color: #3B4455;\n",
              "      fill: #D2E3FC;\n",
              "    }\n",
              "\n",
              "    [theme=dark] .colab-df-convert:hover {\n",
              "      background-color: #434B5C;\n",
              "      box-shadow: 0px 1px 3px 1px rgba(0, 0, 0, 0.15);\n",
              "      filter: drop-shadow(0px 1px 2px rgba(0, 0, 0, 0.3));\n",
              "      fill: #FFFFFF;\n",
              "    }\n",
              "  </style>\n",
              "\n",
              "      <script>\n",
              "        const buttonEl =\n",
              "          document.querySelector('#df-d126473a-c36a-4882-ad39-10eb75c9a3f6 button.colab-df-convert');\n",
              "        buttonEl.style.display =\n",
              "          google.colab.kernel.accessAllowed ? 'block' : 'none';\n",
              "\n",
              "        async function convertToInteractive(key) {\n",
              "          const element = document.querySelector('#df-d126473a-c36a-4882-ad39-10eb75c9a3f6');\n",
              "          const dataTable =\n",
              "            await google.colab.kernel.invokeFunction('convertToInteractive',\n",
              "                                                     [key], {});\n",
              "          if (!dataTable) return;\n",
              "\n",
              "          const docLinkHtml = 'Like what you see? Visit the ' +\n",
              "            '<a target=\"_blank\" href=https://colab.research.google.com/notebooks/data_table.ipynb>data table notebook</a>'\n",
              "            + ' to learn more about interactive tables.';\n",
              "          element.innerHTML = '';\n",
              "          dataTable['output_type'] = 'display_data';\n",
              "          await google.colab.output.renderOutput(dataTable, element);\n",
              "          const docLink = document.createElement('div');\n",
              "          docLink.innerHTML = docLinkHtml;\n",
              "          element.appendChild(docLink);\n",
              "        }\n",
              "      </script>\n",
              "    </div>\n",
              "  </div>\n",
              "  "
            ]
          },
          "metadata": {},
          "execution_count": 12
        }
      ]
    },
    {
      "cell_type": "markdown",
      "source": [
        "###Rescaling Training Data"
      ],
      "metadata": {
        "id": "Z5F4OyT2mwRs"
      }
    },
    {
      "cell_type": "code",
      "source": [
        "f_transformer = MinMaxScaler()\n",
        "feature_columns = ['cno_pri', 'oli_pri', 'rps_pri', 'pno_pri', 'sbo_pri', 'sfo_pri']\n",
        "f_transformer = f_transformer.fit(train[feature_columns].to_numpy())\n",
        "train.loc[:, feature_columns] = f_transformer.transform(train[feature_columns].to_numpy())\n",
        "train.head()"
      ],
      "metadata": {
        "colab": {
          "base_uri": "https://localhost:8080/",
          "height": 260
        },
        "id": "Lg-AQuNBmvZK",
        "outputId": "83db918a-3e5c-460b-b1ab-bf65c8296fe9"
      },
      "execution_count": 13,
      "outputs": [
        {
          "output_type": "execute_result",
          "data": {
            "text/plain": [
              "            cpo_pri   cno_pri   oli_pri   rps_pri   pno_pri   sbo_pri  \\\n",
              "date                                                                    \n",
              "2010-12-01      323  0.112288  0.140918  0.010736  0.528090  0.253193   \n",
              "2011-01-01      345  0.305085  0.140327  0.004301  0.443820  0.306536   \n",
              "2011-02-01      362  0.408898  0.167408  0.000000  0.292135  0.246917   \n",
              "2011-03-01      376  0.495763  0.189919  0.003429  0.097378  0.171609   \n",
              "2011-04-01      383  0.711864  0.184440  0.034095  0.106742  0.130817   \n",
              "\n",
              "             sfo_pri  \n",
              "date                  \n",
              "2010-12-01  0.023302  \n",
              "2011-01-01  0.009321  \n",
              "2011-02-01  0.005992  \n",
              "2011-03-01  0.020639  \n",
              "2011-04-01  0.034621  "
            ],
            "text/html": [
              "\n",
              "  <div id=\"df-cf133f06-1d90-4d35-9a1f-293097bbb93e\">\n",
              "    <div class=\"colab-df-container\">\n",
              "      <div>\n",
              "<style scoped>\n",
              "    .dataframe tbody tr th:only-of-type {\n",
              "        vertical-align: middle;\n",
              "    }\n",
              "\n",
              "    .dataframe tbody tr th {\n",
              "        vertical-align: top;\n",
              "    }\n",
              "\n",
              "    .dataframe thead th {\n",
              "        text-align: right;\n",
              "    }\n",
              "</style>\n",
              "<table border=\"1\" class=\"dataframe\">\n",
              "  <thead>\n",
              "    <tr style=\"text-align: right;\">\n",
              "      <th></th>\n",
              "      <th>cpo_pri</th>\n",
              "      <th>cno_pri</th>\n",
              "      <th>oli_pri</th>\n",
              "      <th>rps_pri</th>\n",
              "      <th>pno_pri</th>\n",
              "      <th>sbo_pri</th>\n",
              "      <th>sfo_pri</th>\n",
              "    </tr>\n",
              "    <tr>\n",
              "      <th>date</th>\n",
              "      <th></th>\n",
              "      <th></th>\n",
              "      <th></th>\n",
              "      <th></th>\n",
              "      <th></th>\n",
              "      <th></th>\n",
              "      <th></th>\n",
              "    </tr>\n",
              "  </thead>\n",
              "  <tbody>\n",
              "    <tr>\n",
              "      <th>2010-12-01</th>\n",
              "      <td>323</td>\n",
              "      <td>0.112288</td>\n",
              "      <td>0.140918</td>\n",
              "      <td>0.010736</td>\n",
              "      <td>0.528090</td>\n",
              "      <td>0.253193</td>\n",
              "      <td>0.023302</td>\n",
              "    </tr>\n",
              "    <tr>\n",
              "      <th>2011-01-01</th>\n",
              "      <td>345</td>\n",
              "      <td>0.305085</td>\n",
              "      <td>0.140327</td>\n",
              "      <td>0.004301</td>\n",
              "      <td>0.443820</td>\n",
              "      <td>0.306536</td>\n",
              "      <td>0.009321</td>\n",
              "    </tr>\n",
              "    <tr>\n",
              "      <th>2011-02-01</th>\n",
              "      <td>362</td>\n",
              "      <td>0.408898</td>\n",
              "      <td>0.167408</td>\n",
              "      <td>0.000000</td>\n",
              "      <td>0.292135</td>\n",
              "      <td>0.246917</td>\n",
              "      <td>0.005992</td>\n",
              "    </tr>\n",
              "    <tr>\n",
              "      <th>2011-03-01</th>\n",
              "      <td>376</td>\n",
              "      <td>0.495763</td>\n",
              "      <td>0.189919</td>\n",
              "      <td>0.003429</td>\n",
              "      <td>0.097378</td>\n",
              "      <td>0.171609</td>\n",
              "      <td>0.020639</td>\n",
              "    </tr>\n",
              "    <tr>\n",
              "      <th>2011-04-01</th>\n",
              "      <td>383</td>\n",
              "      <td>0.711864</td>\n",
              "      <td>0.184440</td>\n",
              "      <td>0.034095</td>\n",
              "      <td>0.106742</td>\n",
              "      <td>0.130817</td>\n",
              "      <td>0.034621</td>\n",
              "    </tr>\n",
              "  </tbody>\n",
              "</table>\n",
              "</div>\n",
              "      <button class=\"colab-df-convert\" onclick=\"convertToInteractive('df-cf133f06-1d90-4d35-9a1f-293097bbb93e')\"\n",
              "              title=\"Convert this dataframe to an interactive table.\"\n",
              "              style=\"display:none;\">\n",
              "        \n",
              "  <svg xmlns=\"http://www.w3.org/2000/svg\" height=\"24px\"viewBox=\"0 0 24 24\"\n",
              "       width=\"24px\">\n",
              "    <path d=\"M0 0h24v24H0V0z\" fill=\"none\"/>\n",
              "    <path d=\"M18.56 5.44l.94 2.06.94-2.06 2.06-.94-2.06-.94-.94-2.06-.94 2.06-2.06.94zm-11 1L8.5 8.5l.94-2.06 2.06-.94-2.06-.94L8.5 2.5l-.94 2.06-2.06.94zm10 10l.94 2.06.94-2.06 2.06-.94-2.06-.94-.94-2.06-.94 2.06-2.06.94z\"/><path d=\"M17.41 7.96l-1.37-1.37c-.4-.4-.92-.59-1.43-.59-.52 0-1.04.2-1.43.59L10.3 9.45l-7.72 7.72c-.78.78-.78 2.05 0 2.83L4 21.41c.39.39.9.59 1.41.59.51 0 1.02-.2 1.41-.59l7.78-7.78 2.81-2.81c.8-.78.8-2.07 0-2.86zM5.41 20L4 18.59l7.72-7.72 1.47 1.35L5.41 20z\"/>\n",
              "  </svg>\n",
              "      </button>\n",
              "      \n",
              "  <style>\n",
              "    .colab-df-container {\n",
              "      display:flex;\n",
              "      flex-wrap:wrap;\n",
              "      gap: 12px;\n",
              "    }\n",
              "\n",
              "    .colab-df-convert {\n",
              "      background-color: #E8F0FE;\n",
              "      border: none;\n",
              "      border-radius: 50%;\n",
              "      cursor: pointer;\n",
              "      display: none;\n",
              "      fill: #1967D2;\n",
              "      height: 32px;\n",
              "      padding: 0 0 0 0;\n",
              "      width: 32px;\n",
              "    }\n",
              "\n",
              "    .colab-df-convert:hover {\n",
              "      background-color: #E2EBFA;\n",
              "      box-shadow: 0px 1px 2px rgba(60, 64, 67, 0.3), 0px 1px 3px 1px rgba(60, 64, 67, 0.15);\n",
              "      fill: #174EA6;\n",
              "    }\n",
              "\n",
              "    [theme=dark] .colab-df-convert {\n",
              "      background-color: #3B4455;\n",
              "      fill: #D2E3FC;\n",
              "    }\n",
              "\n",
              "    [theme=dark] .colab-df-convert:hover {\n",
              "      background-color: #434B5C;\n",
              "      box-shadow: 0px 1px 3px 1px rgba(0, 0, 0, 0.15);\n",
              "      filter: drop-shadow(0px 1px 2px rgba(0, 0, 0, 0.3));\n",
              "      fill: #FFFFFF;\n",
              "    }\n",
              "  </style>\n",
              "\n",
              "      <script>\n",
              "        const buttonEl =\n",
              "          document.querySelector('#df-cf133f06-1d90-4d35-9a1f-293097bbb93e button.colab-df-convert');\n",
              "        buttonEl.style.display =\n",
              "          google.colab.kernel.accessAllowed ? 'block' : 'none';\n",
              "\n",
              "        async function convertToInteractive(key) {\n",
              "          const element = document.querySelector('#df-cf133f06-1d90-4d35-9a1f-293097bbb93e');\n",
              "          const dataTable =\n",
              "            await google.colab.kernel.invokeFunction('convertToInteractive',\n",
              "                                                     [key], {});\n",
              "          if (!dataTable) return;\n",
              "\n",
              "          const docLinkHtml = 'Like what you see? Visit the ' +\n",
              "            '<a target=\"_blank\" href=https://colab.research.google.com/notebooks/data_table.ipynb>data table notebook</a>'\n",
              "            + ' to learn more about interactive tables.';\n",
              "          element.innerHTML = '';\n",
              "          dataTable['output_type'] = 'display_data';\n",
              "          await google.colab.output.renderOutput(dataTable, element);\n",
              "          const docLink = document.createElement('div');\n",
              "          docLink.innerHTML = docLinkHtml;\n",
              "          element.appendChild(docLink);\n",
              "        }\n",
              "      </script>\n",
              "    </div>\n",
              "  </div>\n",
              "  "
            ]
          },
          "metadata": {},
          "execution_count": 13
        }
      ]
    },
    {
      "cell_type": "code",
      "source": [
        "cpo_pri_transformer = MinMaxScaler()\n",
        "cpo_pri_transformer = cpo_pri_transformer.fit(train[['cpo_pri']])\n",
        "train['cpo_pri'] = cpo_pri_transformer.transform(train[['cpo_pri']])\n",
        "train['cpo_pri'].head()"
      ],
      "metadata": {
        "colab": {
          "base_uri": "https://localhost:8080/"
        },
        "id": "XNkE4gN9nJLt",
        "outputId": "24b8cab7-46f6-4f8e-fcc2-dba597944f3c"
      },
      "execution_count": 14,
      "outputs": [
        {
          "output_type": "execute_result",
          "data": {
            "text/plain": [
              "date\n",
              "2010-12-01    0.0100\n",
              "2011-01-01    0.0650\n",
              "2011-02-01    0.1075\n",
              "2011-03-01    0.1425\n",
              "2011-04-01    0.1600\n",
              "Name: cpo_pri, dtype: float64"
            ]
          },
          "metadata": {},
          "execution_count": 14
        }
      ]
    },
    {
      "cell_type": "code",
      "source": [
        "test.loc[:, feature_columns] = f_transformer.transform(test[feature_columns].to_numpy())\n",
        "test.head()"
      ],
      "metadata": {
        "colab": {
          "base_uri": "https://localhost:8080/",
          "height": 260
        },
        "id": "aouQuJG5n6k8",
        "outputId": "c0f3ce52-53c7-41ad-ded9-dfcbf655ab01"
      },
      "execution_count": 15,
      "outputs": [
        {
          "output_type": "execute_result",
          "data": {
            "text/plain": [
              "            cpo_pri   cno_pri   oli_pri   rps_pri   pno_pri   sbo_pri  \\\n",
              "date                                                                    \n",
              "2019-03-01      354  0.637712  0.194855  0.382454  0.381292 -0.039662   \n",
              "2019-04-01      348  0.533898  0.264388  0.393951  0.213633 -0.054975   \n",
              "2019-05-01      332  0.400424  0.246417  0.453802  0.235262 -0.092159   \n",
              "2019-06-01      349  0.317797  0.234308  0.509834  0.320749 -0.074743   \n",
              "2019-07-01      372  0.313559  0.223422  0.526454  0.426610 -0.066114   \n",
              "\n",
              "             sfo_pri  \n",
              "date                  \n",
              "2019-03-01  0.493342  \n",
              "2019-04-01  0.597870  \n",
              "2019-05-01  0.606525  \n",
              "2019-06-01  0.631824  \n",
              "2019-07-01  0.773462  "
            ],
            "text/html": [
              "\n",
              "  <div id=\"df-81cca3a0-83bc-4381-8b04-de6ac709017b\">\n",
              "    <div class=\"colab-df-container\">\n",
              "      <div>\n",
              "<style scoped>\n",
              "    .dataframe tbody tr th:only-of-type {\n",
              "        vertical-align: middle;\n",
              "    }\n",
              "\n",
              "    .dataframe tbody tr th {\n",
              "        vertical-align: top;\n",
              "    }\n",
              "\n",
              "    .dataframe thead th {\n",
              "        text-align: right;\n",
              "    }\n",
              "</style>\n",
              "<table border=\"1\" class=\"dataframe\">\n",
              "  <thead>\n",
              "    <tr style=\"text-align: right;\">\n",
              "      <th></th>\n",
              "      <th>cpo_pri</th>\n",
              "      <th>cno_pri</th>\n",
              "      <th>oli_pri</th>\n",
              "      <th>rps_pri</th>\n",
              "      <th>pno_pri</th>\n",
              "      <th>sbo_pri</th>\n",
              "      <th>sfo_pri</th>\n",
              "    </tr>\n",
              "    <tr>\n",
              "      <th>date</th>\n",
              "      <th></th>\n",
              "      <th></th>\n",
              "      <th></th>\n",
              "      <th></th>\n",
              "      <th></th>\n",
              "      <th></th>\n",
              "      <th></th>\n",
              "    </tr>\n",
              "  </thead>\n",
              "  <tbody>\n",
              "    <tr>\n",
              "      <th>2019-03-01</th>\n",
              "      <td>354</td>\n",
              "      <td>0.637712</td>\n",
              "      <td>0.194855</td>\n",
              "      <td>0.382454</td>\n",
              "      <td>0.381292</td>\n",
              "      <td>-0.039662</td>\n",
              "      <td>0.493342</td>\n",
              "    </tr>\n",
              "    <tr>\n",
              "      <th>2019-04-01</th>\n",
              "      <td>348</td>\n",
              "      <td>0.533898</td>\n",
              "      <td>0.264388</td>\n",
              "      <td>0.393951</td>\n",
              "      <td>0.213633</td>\n",
              "      <td>-0.054975</td>\n",
              "      <td>0.597870</td>\n",
              "    </tr>\n",
              "    <tr>\n",
              "      <th>2019-05-01</th>\n",
              "      <td>332</td>\n",
              "      <td>0.400424</td>\n",
              "      <td>0.246417</td>\n",
              "      <td>0.453802</td>\n",
              "      <td>0.235262</td>\n",
              "      <td>-0.092159</td>\n",
              "      <td>0.606525</td>\n",
              "    </tr>\n",
              "    <tr>\n",
              "      <th>2019-06-01</th>\n",
              "      <td>349</td>\n",
              "      <td>0.317797</td>\n",
              "      <td>0.234308</td>\n",
              "      <td>0.509834</td>\n",
              "      <td>0.320749</td>\n",
              "      <td>-0.074743</td>\n",
              "      <td>0.631824</td>\n",
              "    </tr>\n",
              "    <tr>\n",
              "      <th>2019-07-01</th>\n",
              "      <td>372</td>\n",
              "      <td>0.313559</td>\n",
              "      <td>0.223422</td>\n",
              "      <td>0.526454</td>\n",
              "      <td>0.426610</td>\n",
              "      <td>-0.066114</td>\n",
              "      <td>0.773462</td>\n",
              "    </tr>\n",
              "  </tbody>\n",
              "</table>\n",
              "</div>\n",
              "      <button class=\"colab-df-convert\" onclick=\"convertToInteractive('df-81cca3a0-83bc-4381-8b04-de6ac709017b')\"\n",
              "              title=\"Convert this dataframe to an interactive table.\"\n",
              "              style=\"display:none;\">\n",
              "        \n",
              "  <svg xmlns=\"http://www.w3.org/2000/svg\" height=\"24px\"viewBox=\"0 0 24 24\"\n",
              "       width=\"24px\">\n",
              "    <path d=\"M0 0h24v24H0V0z\" fill=\"none\"/>\n",
              "    <path d=\"M18.56 5.44l.94 2.06.94-2.06 2.06-.94-2.06-.94-.94-2.06-.94 2.06-2.06.94zm-11 1L8.5 8.5l.94-2.06 2.06-.94-2.06-.94L8.5 2.5l-.94 2.06-2.06.94zm10 10l.94 2.06.94-2.06 2.06-.94-2.06-.94-.94-2.06-.94 2.06-2.06.94z\"/><path d=\"M17.41 7.96l-1.37-1.37c-.4-.4-.92-.59-1.43-.59-.52 0-1.04.2-1.43.59L10.3 9.45l-7.72 7.72c-.78.78-.78 2.05 0 2.83L4 21.41c.39.39.9.59 1.41.59.51 0 1.02-.2 1.41-.59l7.78-7.78 2.81-2.81c.8-.78.8-2.07 0-2.86zM5.41 20L4 18.59l7.72-7.72 1.47 1.35L5.41 20z\"/>\n",
              "  </svg>\n",
              "      </button>\n",
              "      \n",
              "  <style>\n",
              "    .colab-df-container {\n",
              "      display:flex;\n",
              "      flex-wrap:wrap;\n",
              "      gap: 12px;\n",
              "    }\n",
              "\n",
              "    .colab-df-convert {\n",
              "      background-color: #E8F0FE;\n",
              "      border: none;\n",
              "      border-radius: 50%;\n",
              "      cursor: pointer;\n",
              "      display: none;\n",
              "      fill: #1967D2;\n",
              "      height: 32px;\n",
              "      padding: 0 0 0 0;\n",
              "      width: 32px;\n",
              "    }\n",
              "\n",
              "    .colab-df-convert:hover {\n",
              "      background-color: #E2EBFA;\n",
              "      box-shadow: 0px 1px 2px rgba(60, 64, 67, 0.3), 0px 1px 3px 1px rgba(60, 64, 67, 0.15);\n",
              "      fill: #174EA6;\n",
              "    }\n",
              "\n",
              "    [theme=dark] .colab-df-convert {\n",
              "      background-color: #3B4455;\n",
              "      fill: #D2E3FC;\n",
              "    }\n",
              "\n",
              "    [theme=dark] .colab-df-convert:hover {\n",
              "      background-color: #434B5C;\n",
              "      box-shadow: 0px 1px 3px 1px rgba(0, 0, 0, 0.15);\n",
              "      filter: drop-shadow(0px 1px 2px rgba(0, 0, 0, 0.3));\n",
              "      fill: #FFFFFF;\n",
              "    }\n",
              "  </style>\n",
              "\n",
              "      <script>\n",
              "        const buttonEl =\n",
              "          document.querySelector('#df-81cca3a0-83bc-4381-8b04-de6ac709017b button.colab-df-convert');\n",
              "        buttonEl.style.display =\n",
              "          google.colab.kernel.accessAllowed ? 'block' : 'none';\n",
              "\n",
              "        async function convertToInteractive(key) {\n",
              "          const element = document.querySelector('#df-81cca3a0-83bc-4381-8b04-de6ac709017b');\n",
              "          const dataTable =\n",
              "            await google.colab.kernel.invokeFunction('convertToInteractive',\n",
              "                                                     [key], {});\n",
              "          if (!dataTable) return;\n",
              "\n",
              "          const docLinkHtml = 'Like what you see? Visit the ' +\n",
              "            '<a target=\"_blank\" href=https://colab.research.google.com/notebooks/data_table.ipynb>data table notebook</a>'\n",
              "            + ' to learn more about interactive tables.';\n",
              "          element.innerHTML = '';\n",
              "          dataTable['output_type'] = 'display_data';\n",
              "          await google.colab.output.renderOutput(dataTable, element);\n",
              "          const docLink = document.createElement('div');\n",
              "          docLink.innerHTML = docLinkHtml;\n",
              "          element.appendChild(docLink);\n",
              "        }\n",
              "      </script>\n",
              "    </div>\n",
              "  </div>\n",
              "  "
            ]
          },
          "metadata": {},
          "execution_count": 15
        }
      ]
    },
    {
      "cell_type": "code",
      "source": [
        "test['cpo_pri'] = cpo_pri_transformer.transform(test[['cpo_pri']])\n",
        "test['cpo_pri'].head()"
      ],
      "metadata": {
        "colab": {
          "base_uri": "https://localhost:8080/"
        },
        "id": "GXgFSrz3n6o5",
        "outputId": "b15499a8-780e-47b4-9b44-0a69d8b14805"
      },
      "execution_count": 16,
      "outputs": [
        {
          "output_type": "execute_result",
          "data": {
            "text/plain": [
              "date\n",
              "2019-03-01    0.0875\n",
              "2019-04-01    0.0725\n",
              "2019-05-01    0.0325\n",
              "2019-06-01    0.0750\n",
              "2019-07-01    0.1325\n",
              "Name: cpo_pri, dtype: float64"
            ]
          },
          "metadata": {},
          "execution_count": 16
        }
      ]
    },
    {
      "cell_type": "markdown",
      "source": [
        "###Create X_train, y_train, X_test and y_test"
      ],
      "metadata": {
        "id": "p_2s3AO-ohCD"
      }
    },
    {
      "cell_type": "code",
      "source": [
        "def createDataset(X, y, time_steps):\n",
        "    Xs, ys = [], []\n",
        "    for i in range(len(X) - time_steps):\n",
        "        data = X.iloc[i:(i + time_steps)].values\n",
        "        Xs.append(data)        \n",
        "        ys.append(y.iloc[i + time_steps])\n",
        "        \n",
        "    return np.array(Xs), np.array(ys)\n",
        "\n",
        "time_steps = 3\n",
        "X_train, y_train = createDataset(train, train.cpo_pri, time_steps)\n",
        "X_test, y_test = createDataset(test, test.cpo_pri, time_steps)\n",
        "print(X_train.shape, y_train.shape)"
      ],
      "metadata": {
        "colab": {
          "base_uri": "https://localhost:8080/"
        },
        "id": "fGTyTKiYoJIb",
        "outputId": "6d119183-f5ca-481e-bfc8-7fa339799a01"
      },
      "execution_count": 17,
      "outputs": [
        {
          "output_type": "stream",
          "name": "stdout",
          "text": [
            "(96, 3, 7) (96,)\n"
          ]
        }
      ]
    },
    {
      "cell_type": "code",
      "source": [
        "#test_lag = test[1:23]\n",
        "#len(test) - 1"
      ],
      "metadata": {
        "id": "dt_elxfcLh_b"
      },
      "execution_count": 19,
      "outputs": []
    },
    {
      "cell_type": "code",
      "source": [
        "#decrement naturally.\n",
        "#shifted = test.set_index([\"date\"]).unstack().shift(3).stack()"
      ],
      "metadata": {
        "id": "BqpvIj_hKO30"
      },
      "execution_count": 20,
      "outputs": []
    },
    {
      "cell_type": "code",
      "source": [
        "cnn_model = tf.keras.Sequential()\n",
        "cnn_model.add(tf.keras.layers.Conv1D(filters=64, kernel_size=2, activation='tanh', input_shape=(X_test.shape[1], X_test.shape[2])))\n",
        "cnn_model.add(tf.keras.layers.MaxPooling1D(pool_size=2))\n",
        "cnn_model.add(tf.keras.layers.Flatten())\n",
        "cnn_model.add(tf.keras.layers.Dense(64, activation='tanh'))\n",
        "cnn_model.add(tf.keras.layers.Dense(1, 'linear'))\n",
        "\n",
        "# compile model using adam\n",
        "cnn_model.compile(optimizer='adam',loss='mse',metrics=['mse'])\n",
        "# model training\n",
        "history = cnn_model.fit(X_train, y_train, epochs=300, batch_size = 128, validation_split=0.2) #epochs = 30, batch_size = 60\n",
        "\n",
        "# model evaluation\n",
        "cnn_model.evaluate(X_test, y_test)\n",
        "\n",
        "\n",
        "#cnn_model.compile(loss='mse', optimizer='adam')\n",
        "#cnn_model.summary()\n",
        "#bst -> epochs = 300, batch_size = 128, RMSE = 32\n",
        "#bst -> epochs = 350, batch_size = 100, RMSE = 36\n",
        "#bst -> epochs = 400, batch_size = 128, RMSE = 39"
      ],
      "metadata": {
        "id": "EkQPUIAQOvX9",
        "outputId": "0e495d2a-4253-40a7-9919-67f42011a9da",
        "colab": {
          "base_uri": "https://localhost:8080/"
        }
      },
      "execution_count": 19,
      "outputs": [
        {
          "output_type": "stream",
          "name": "stdout",
          "text": [
            "Epoch 1/300\n",
            "1/1 [==============================] - 0s 476ms/step - loss: 0.3423 - mse: 0.3423 - val_loss: 0.2980 - val_mse: 0.2980\n",
            "Epoch 2/300\n",
            "1/1 [==============================] - 0s 42ms/step - loss: 0.1818 - mse: 0.1818 - val_loss: 0.1487 - val_mse: 0.1487\n",
            "Epoch 3/300\n",
            "1/1 [==============================] - 0s 23ms/step - loss: 0.0778 - mse: 0.0778 - val_loss: 0.0632 - val_mse: 0.0632\n",
            "Epoch 4/300\n",
            "1/1 [==============================] - 0s 23ms/step - loss: 0.0271 - mse: 0.0271 - val_loss: 0.0318 - val_mse: 0.0318\n",
            "Epoch 5/300\n",
            "1/1 [==============================] - 0s 23ms/step - loss: 0.0205 - mse: 0.0205 - val_loss: 0.0363 - val_mse: 0.0363\n",
            "Epoch 6/300\n",
            "1/1 [==============================] - 0s 29ms/step - loss: 0.0407 - mse: 0.0407 - val_loss: 0.0535 - val_mse: 0.0535\n",
            "Epoch 7/300\n",
            "1/1 [==============================] - 0s 23ms/step - loss: 0.0662 - mse: 0.0662 - val_loss: 0.0654 - val_mse: 0.0654\n",
            "Epoch 8/300\n",
            "1/1 [==============================] - 0s 26ms/step - loss: 0.0811 - mse: 0.0811 - val_loss: 0.0654 - val_mse: 0.0654\n",
            "Epoch 9/300\n",
            "1/1 [==============================] - 0s 23ms/step - loss: 0.0807 - mse: 0.0807 - val_loss: 0.0558 - val_mse: 0.0558\n",
            "Epoch 10/300\n",
            "1/1 [==============================] - 0s 23ms/step - loss: 0.0685 - mse: 0.0685 - val_loss: 0.0423 - val_mse: 0.0423\n",
            "Epoch 11/300\n",
            "1/1 [==============================] - 0s 23ms/step - loss: 0.0505 - mse: 0.0505 - val_loss: 0.0305 - val_mse: 0.0305\n",
            "Epoch 12/300\n",
            "1/1 [==============================] - 0s 35ms/step - loss: 0.0327 - mse: 0.0327 - val_loss: 0.0243 - val_mse: 0.0243\n",
            "Epoch 13/300\n",
            "1/1 [==============================] - 0s 23ms/step - loss: 0.0192 - mse: 0.0192 - val_loss: 0.0254 - val_mse: 0.0254\n",
            "Epoch 14/300\n",
            "1/1 [==============================] - 0s 27ms/step - loss: 0.0121 - mse: 0.0121 - val_loss: 0.0331 - val_mse: 0.0331\n",
            "Epoch 15/300\n",
            "1/1 [==============================] - 0s 22ms/step - loss: 0.0115 - mse: 0.0115 - val_loss: 0.0447 - val_mse: 0.0447\n",
            "Epoch 16/300\n",
            "1/1 [==============================] - 0s 22ms/step - loss: 0.0156 - mse: 0.0156 - val_loss: 0.0569 - val_mse: 0.0569\n",
            "Epoch 17/300\n",
            "1/1 [==============================] - 0s 23ms/step - loss: 0.0217 - mse: 0.0217 - val_loss: 0.0663 - val_mse: 0.0663\n",
            "Epoch 18/300\n",
            "1/1 [==============================] - 0s 22ms/step - loss: 0.0271 - mse: 0.0271 - val_loss: 0.0706 - val_mse: 0.0706\n",
            "Epoch 19/300\n",
            "1/1 [==============================] - 0s 23ms/step - loss: 0.0300 - mse: 0.0300 - val_loss: 0.0694 - val_mse: 0.0694\n",
            "Epoch 20/300\n",
            "1/1 [==============================] - 0s 24ms/step - loss: 0.0297 - mse: 0.0297 - val_loss: 0.0633 - val_mse: 0.0633\n",
            "Epoch 21/300\n",
            "1/1 [==============================] - 0s 23ms/step - loss: 0.0265 - mse: 0.0265 - val_loss: 0.0540 - val_mse: 0.0540\n",
            "Epoch 22/300\n",
            "1/1 [==============================] - 0s 24ms/step - loss: 0.0217 - mse: 0.0217 - val_loss: 0.0435 - val_mse: 0.0435\n",
            "Epoch 23/300\n",
            "1/1 [==============================] - 0s 23ms/step - loss: 0.0166 - mse: 0.0166 - val_loss: 0.0338 - val_mse: 0.0338\n",
            "Epoch 24/300\n",
            "1/1 [==============================] - 0s 24ms/step - loss: 0.0125 - mse: 0.0125 - val_loss: 0.0262 - val_mse: 0.0262\n",
            "Epoch 25/300\n",
            "1/1 [==============================] - 0s 24ms/step - loss: 0.0102 - mse: 0.0102 - val_loss: 0.0211 - val_mse: 0.0211\n",
            "Epoch 26/300\n",
            "1/1 [==============================] - 0s 24ms/step - loss: 0.0098 - mse: 0.0098 - val_loss: 0.0184 - val_mse: 0.0184\n",
            "Epoch 27/300\n",
            "1/1 [==============================] - 0s 24ms/step - loss: 0.0110 - mse: 0.0110 - val_loss: 0.0175 - val_mse: 0.0175\n",
            "Epoch 28/300\n",
            "1/1 [==============================] - 0s 27ms/step - loss: 0.0130 - mse: 0.0130 - val_loss: 0.0174 - val_mse: 0.0174\n",
            "Epoch 29/300\n",
            "1/1 [==============================] - 0s 24ms/step - loss: 0.0148 - mse: 0.0148 - val_loss: 0.0173 - val_mse: 0.0173\n",
            "Epoch 30/300\n",
            "1/1 [==============================] - 0s 24ms/step - loss: 0.0157 - mse: 0.0157 - val_loss: 0.0170 - val_mse: 0.0170\n",
            "Epoch 31/300\n",
            "1/1 [==============================] - 0s 28ms/step - loss: 0.0156 - mse: 0.0156 - val_loss: 0.0163 - val_mse: 0.0163\n",
            "Epoch 32/300\n",
            "1/1 [==============================] - 0s 24ms/step - loss: 0.0144 - mse: 0.0144 - val_loss: 0.0157 - val_mse: 0.0157\n",
            "Epoch 33/300\n",
            "1/1 [==============================] - 0s 23ms/step - loss: 0.0126 - mse: 0.0126 - val_loss: 0.0154 - val_mse: 0.0154\n",
            "Epoch 34/300\n",
            "1/1 [==============================] - 0s 24ms/step - loss: 0.0108 - mse: 0.0108 - val_loss: 0.0159 - val_mse: 0.0159\n",
            "Epoch 35/300\n",
            "1/1 [==============================] - 0s 23ms/step - loss: 0.0093 - mse: 0.0093 - val_loss: 0.0173 - val_mse: 0.0173\n",
            "Epoch 36/300\n",
            "1/1 [==============================] - 0s 24ms/step - loss: 0.0086 - mse: 0.0086 - val_loss: 0.0192 - val_mse: 0.0192\n",
            "Epoch 37/300\n",
            "1/1 [==============================] - 0s 24ms/step - loss: 0.0087 - mse: 0.0087 - val_loss: 0.0214 - val_mse: 0.0214\n",
            "Epoch 38/300\n",
            "1/1 [==============================] - 0s 25ms/step - loss: 0.0092 - mse: 0.0092 - val_loss: 0.0232 - val_mse: 0.0232\n",
            "Epoch 39/300\n",
            "1/1 [==============================] - 0s 23ms/step - loss: 0.0099 - mse: 0.0099 - val_loss: 0.0242 - val_mse: 0.0242\n",
            "Epoch 40/300\n",
            "1/1 [==============================] - 0s 24ms/step - loss: 0.0104 - mse: 0.0104 - val_loss: 0.0243 - val_mse: 0.0243\n",
            "Epoch 41/300\n",
            "1/1 [==============================] - 0s 33ms/step - loss: 0.0105 - mse: 0.0105 - val_loss: 0.0232 - val_mse: 0.0232\n",
            "Epoch 42/300\n",
            "1/1 [==============================] - 0s 24ms/step - loss: 0.0102 - mse: 0.0102 - val_loss: 0.0214 - val_mse: 0.0214\n",
            "Epoch 43/300\n",
            "1/1 [==============================] - 0s 23ms/step - loss: 0.0096 - mse: 0.0096 - val_loss: 0.0192 - val_mse: 0.0192\n",
            "Epoch 44/300\n",
            "1/1 [==============================] - 0s 23ms/step - loss: 0.0088 - mse: 0.0088 - val_loss: 0.0169 - val_mse: 0.0169\n",
            "Epoch 45/300\n",
            "1/1 [==============================] - 0s 23ms/step - loss: 0.0082 - mse: 0.0082 - val_loss: 0.0149 - val_mse: 0.0149\n",
            "Epoch 46/300\n",
            "1/1 [==============================] - 0s 23ms/step - loss: 0.0079 - mse: 0.0079 - val_loss: 0.0134 - val_mse: 0.0134\n",
            "Epoch 47/300\n",
            "1/1 [==============================] - 0s 30ms/step - loss: 0.0079 - mse: 0.0079 - val_loss: 0.0123 - val_mse: 0.0123\n",
            "Epoch 48/300\n",
            "1/1 [==============================] - 0s 26ms/step - loss: 0.0080 - mse: 0.0080 - val_loss: 0.0117 - val_mse: 0.0117\n",
            "Epoch 49/300\n",
            "1/1 [==============================] - 0s 37ms/step - loss: 0.0083 - mse: 0.0083 - val_loss: 0.0113 - val_mse: 0.0113\n",
            "Epoch 50/300\n",
            "1/1 [==============================] - 0s 24ms/step - loss: 0.0085 - mse: 0.0085 - val_loss: 0.0110 - val_mse: 0.0110\n",
            "Epoch 51/300\n",
            "1/1 [==============================] - 0s 25ms/step - loss: 0.0085 - mse: 0.0085 - val_loss: 0.0109 - val_mse: 0.0109\n",
            "Epoch 52/300\n",
            "1/1 [==============================] - 0s 43ms/step - loss: 0.0084 - mse: 0.0084 - val_loss: 0.0109 - val_mse: 0.0109\n",
            "Epoch 53/300\n",
            "1/1 [==============================] - 0s 25ms/step - loss: 0.0081 - mse: 0.0081 - val_loss: 0.0110 - val_mse: 0.0110\n",
            "Epoch 54/300\n",
            "1/1 [==============================] - 0s 24ms/step - loss: 0.0078 - mse: 0.0078 - val_loss: 0.0113 - val_mse: 0.0113\n",
            "Epoch 55/300\n",
            "1/1 [==============================] - 0s 27ms/step - loss: 0.0076 - mse: 0.0076 - val_loss: 0.0118 - val_mse: 0.0118\n",
            "Epoch 56/300\n",
            "1/1 [==============================] - 0s 25ms/step - loss: 0.0075 - mse: 0.0075 - val_loss: 0.0122 - val_mse: 0.0122\n",
            "Epoch 57/300\n",
            "1/1 [==============================] - 0s 24ms/step - loss: 0.0075 - mse: 0.0075 - val_loss: 0.0127 - val_mse: 0.0127\n",
            "Epoch 58/300\n",
            "1/1 [==============================] - 0s 23ms/step - loss: 0.0076 - mse: 0.0076 - val_loss: 0.0129 - val_mse: 0.0129\n",
            "Epoch 59/300\n",
            "1/1 [==============================] - 0s 25ms/step - loss: 0.0076 - mse: 0.0076 - val_loss: 0.0129 - val_mse: 0.0129\n",
            "Epoch 60/300\n",
            "1/1 [==============================] - 0s 23ms/step - loss: 0.0077 - mse: 0.0077 - val_loss: 0.0127 - val_mse: 0.0127\n",
            "Epoch 61/300\n",
            "1/1 [==============================] - 0s 24ms/step - loss: 0.0076 - mse: 0.0076 - val_loss: 0.0122 - val_mse: 0.0122\n",
            "Epoch 62/300\n",
            "1/1 [==============================] - 0s 24ms/step - loss: 0.0075 - mse: 0.0075 - val_loss: 0.0116 - val_mse: 0.0116\n",
            "Epoch 63/300\n",
            "1/1 [==============================] - 0s 23ms/step - loss: 0.0074 - mse: 0.0074 - val_loss: 0.0110 - val_mse: 0.0110\n",
            "Epoch 64/300\n",
            "1/1 [==============================] - 0s 23ms/step - loss: 0.0072 - mse: 0.0072 - val_loss: 0.0105 - val_mse: 0.0105\n",
            "Epoch 65/300\n",
            "1/1 [==============================] - 0s 22ms/step - loss: 0.0072 - mse: 0.0072 - val_loss: 0.0101 - val_mse: 0.0101\n",
            "Epoch 66/300\n",
            "1/1 [==============================] - 0s 24ms/step - loss: 0.0072 - mse: 0.0072 - val_loss: 0.0099 - val_mse: 0.0099\n",
            "Epoch 67/300\n",
            "1/1 [==============================] - 0s 24ms/step - loss: 0.0072 - mse: 0.0072 - val_loss: 0.0097 - val_mse: 0.0097\n",
            "Epoch 68/300\n",
            "1/1 [==============================] - 0s 24ms/step - loss: 0.0072 - mse: 0.0072 - val_loss: 0.0096 - val_mse: 0.0096\n",
            "Epoch 69/300\n",
            "1/1 [==============================] - 0s 26ms/step - loss: 0.0072 - mse: 0.0072 - val_loss: 0.0096 - val_mse: 0.0096\n",
            "Epoch 70/300\n",
            "1/1 [==============================] - 0s 24ms/step - loss: 0.0072 - mse: 0.0072 - val_loss: 0.0096 - val_mse: 0.0096\n",
            "Epoch 71/300\n",
            "1/1 [==============================] - 0s 24ms/step - loss: 0.0071 - mse: 0.0071 - val_loss: 0.0096 - val_mse: 0.0096\n",
            "Epoch 72/300\n",
            "1/1 [==============================] - 0s 23ms/step - loss: 0.0071 - mse: 0.0071 - val_loss: 0.0097 - val_mse: 0.0097\n",
            "Epoch 73/300\n",
            "1/1 [==============================] - 0s 24ms/step - loss: 0.0070 - mse: 0.0070 - val_loss: 0.0098 - val_mse: 0.0098\n",
            "Epoch 74/300\n",
            "1/1 [==============================] - 0s 41ms/step - loss: 0.0070 - mse: 0.0070 - val_loss: 0.0099 - val_mse: 0.0099\n",
            "Epoch 75/300\n",
            "1/1 [==============================] - 0s 26ms/step - loss: 0.0070 - mse: 0.0070 - val_loss: 0.0100 - val_mse: 0.0100\n",
            "Epoch 76/300\n",
            "1/1 [==============================] - 0s 24ms/step - loss: 0.0070 - mse: 0.0070 - val_loss: 0.0100 - val_mse: 0.0100\n",
            "Epoch 77/300\n",
            "1/1 [==============================] - 0s 25ms/step - loss: 0.0070 - mse: 0.0070 - val_loss: 0.0099 - val_mse: 0.0099\n",
            "Epoch 78/300\n",
            "1/1 [==============================] - 0s 24ms/step - loss: 0.0069 - mse: 0.0069 - val_loss: 0.0098 - val_mse: 0.0098\n",
            "Epoch 79/300\n",
            "1/1 [==============================] - 0s 26ms/step - loss: 0.0069 - mse: 0.0069 - val_loss: 0.0097 - val_mse: 0.0097\n",
            "Epoch 80/300\n",
            "1/1 [==============================] - 0s 26ms/step - loss: 0.0069 - mse: 0.0069 - val_loss: 0.0096 - val_mse: 0.0096\n",
            "Epoch 81/300\n",
            "1/1 [==============================] - 0s 25ms/step - loss: 0.0068 - mse: 0.0068 - val_loss: 0.0095 - val_mse: 0.0095\n",
            "Epoch 82/300\n",
            "1/1 [==============================] - 0s 31ms/step - loss: 0.0068 - mse: 0.0068 - val_loss: 0.0094 - val_mse: 0.0094\n",
            "Epoch 83/300\n",
            "1/1 [==============================] - 0s 26ms/step - loss: 0.0068 - mse: 0.0068 - val_loss: 0.0093 - val_mse: 0.0093\n",
            "Epoch 84/300\n",
            "1/1 [==============================] - 0s 24ms/step - loss: 0.0068 - mse: 0.0068 - val_loss: 0.0093 - val_mse: 0.0093\n",
            "Epoch 85/300\n",
            "1/1 [==============================] - 0s 24ms/step - loss: 0.0068 - mse: 0.0068 - val_loss: 0.0093 - val_mse: 0.0093\n",
            "Epoch 86/300\n",
            "1/1 [==============================] - 0s 25ms/step - loss: 0.0067 - mse: 0.0067 - val_loss: 0.0093 - val_mse: 0.0093\n",
            "Epoch 87/300\n",
            "1/1 [==============================] - 0s 24ms/step - loss: 0.0067 - mse: 0.0067 - val_loss: 0.0093 - val_mse: 0.0093\n",
            "Epoch 88/300\n",
            "1/1 [==============================] - 0s 26ms/step - loss: 0.0067 - mse: 0.0067 - val_loss: 0.0093 - val_mse: 0.0093\n",
            "Epoch 89/300\n",
            "1/1 [==============================] - 0s 26ms/step - loss: 0.0067 - mse: 0.0067 - val_loss: 0.0094 - val_mse: 0.0094\n",
            "Epoch 90/300\n",
            "1/1 [==============================] - 0s 29ms/step - loss: 0.0066 - mse: 0.0066 - val_loss: 0.0094 - val_mse: 0.0094\n",
            "Epoch 91/300\n",
            "1/1 [==============================] - 0s 25ms/step - loss: 0.0066 - mse: 0.0066 - val_loss: 0.0094 - val_mse: 0.0094\n",
            "Epoch 92/300\n",
            "1/1 [==============================] - 0s 33ms/step - loss: 0.0066 - mse: 0.0066 - val_loss: 0.0094 - val_mse: 0.0094\n",
            "Epoch 93/300\n",
            "1/1 [==============================] - 0s 25ms/step - loss: 0.0066 - mse: 0.0066 - val_loss: 0.0094 - val_mse: 0.0094\n",
            "Epoch 94/300\n",
            "1/1 [==============================] - 0s 26ms/step - loss: 0.0066 - mse: 0.0066 - val_loss: 0.0094 - val_mse: 0.0094\n",
            "Epoch 95/300\n",
            "1/1 [==============================] - 0s 23ms/step - loss: 0.0066 - mse: 0.0066 - val_loss: 0.0094 - val_mse: 0.0094\n",
            "Epoch 96/300\n",
            "1/1 [==============================] - 0s 25ms/step - loss: 0.0065 - mse: 0.0065 - val_loss: 0.0094 - val_mse: 0.0094\n",
            "Epoch 97/300\n",
            "1/1 [==============================] - 0s 24ms/step - loss: 0.0065 - mse: 0.0065 - val_loss: 0.0094 - val_mse: 0.0094\n",
            "Epoch 98/300\n",
            "1/1 [==============================] - 0s 26ms/step - loss: 0.0065 - mse: 0.0065 - val_loss: 0.0094 - val_mse: 0.0094\n",
            "Epoch 99/300\n",
            "1/1 [==============================] - 0s 25ms/step - loss: 0.0065 - mse: 0.0065 - val_loss: 0.0095 - val_mse: 0.0095\n",
            "Epoch 100/300\n",
            "1/1 [==============================] - 0s 24ms/step - loss: 0.0065 - mse: 0.0065 - val_loss: 0.0095 - val_mse: 0.0095\n",
            "Epoch 101/300\n",
            "1/1 [==============================] - 0s 30ms/step - loss: 0.0065 - mse: 0.0065 - val_loss: 0.0095 - val_mse: 0.0095\n",
            "Epoch 102/300\n",
            "1/1 [==============================] - 0s 25ms/step - loss: 0.0064 - mse: 0.0064 - val_loss: 0.0095 - val_mse: 0.0095\n",
            "Epoch 103/300\n",
            "1/1 [==============================] - 0s 27ms/step - loss: 0.0064 - mse: 0.0064 - val_loss: 0.0096 - val_mse: 0.0096\n",
            "Epoch 104/300\n",
            "1/1 [==============================] - 0s 32ms/step - loss: 0.0064 - mse: 0.0064 - val_loss: 0.0096 - val_mse: 0.0096\n",
            "Epoch 105/300\n",
            "1/1 [==============================] - 0s 24ms/step - loss: 0.0064 - mse: 0.0064 - val_loss: 0.0096 - val_mse: 0.0096\n",
            "Epoch 106/300\n",
            "1/1 [==============================] - 0s 24ms/step - loss: 0.0064 - mse: 0.0064 - val_loss: 0.0096 - val_mse: 0.0096\n",
            "Epoch 107/300\n",
            "1/1 [==============================] - 0s 43ms/step - loss: 0.0064 - mse: 0.0064 - val_loss: 0.0096 - val_mse: 0.0096\n",
            "Epoch 108/300\n",
            "1/1 [==============================] - 0s 34ms/step - loss: 0.0063 - mse: 0.0063 - val_loss: 0.0096 - val_mse: 0.0096\n",
            "Epoch 109/300\n",
            "1/1 [==============================] - 0s 25ms/step - loss: 0.0063 - mse: 0.0063 - val_loss: 0.0096 - val_mse: 0.0096\n",
            "Epoch 110/300\n",
            "1/1 [==============================] - 0s 25ms/step - loss: 0.0063 - mse: 0.0063 - val_loss: 0.0097 - val_mse: 0.0097\n",
            "Epoch 111/300\n",
            "1/1 [==============================] - 0s 26ms/step - loss: 0.0063 - mse: 0.0063 - val_loss: 0.0097 - val_mse: 0.0097\n",
            "Epoch 112/300\n",
            "1/1 [==============================] - 0s 26ms/step - loss: 0.0063 - mse: 0.0063 - val_loss: 0.0097 - val_mse: 0.0097\n",
            "Epoch 113/300\n",
            "1/1 [==============================] - 0s 24ms/step - loss: 0.0063 - mse: 0.0063 - val_loss: 0.0098 - val_mse: 0.0098\n",
            "Epoch 114/300\n",
            "1/1 [==============================] - 0s 26ms/step - loss: 0.0062 - mse: 0.0062 - val_loss: 0.0098 - val_mse: 0.0098\n",
            "Epoch 115/300\n",
            "1/1 [==============================] - 0s 25ms/step - loss: 0.0062 - mse: 0.0062 - val_loss: 0.0098 - val_mse: 0.0098\n",
            "Epoch 116/300\n",
            "1/1 [==============================] - 0s 25ms/step - loss: 0.0062 - mse: 0.0062 - val_loss: 0.0098 - val_mse: 0.0098\n",
            "Epoch 117/300\n",
            "1/1 [==============================] - 0s 25ms/step - loss: 0.0062 - mse: 0.0062 - val_loss: 0.0099 - val_mse: 0.0099\n",
            "Epoch 118/300\n",
            "1/1 [==============================] - 0s 25ms/step - loss: 0.0062 - mse: 0.0062 - val_loss: 0.0099 - val_mse: 0.0099\n",
            "Epoch 119/300\n",
            "1/1 [==============================] - 0s 27ms/step - loss: 0.0062 - mse: 0.0062 - val_loss: 0.0099 - val_mse: 0.0099\n",
            "Epoch 120/300\n",
            "1/1 [==============================] - 0s 25ms/step - loss: 0.0062 - mse: 0.0062 - val_loss: 0.0099 - val_mse: 0.0099\n",
            "Epoch 121/300\n",
            "1/1 [==============================] - 0s 28ms/step - loss: 0.0062 - mse: 0.0062 - val_loss: 0.0099 - val_mse: 0.0099\n",
            "Epoch 122/300\n",
            "1/1 [==============================] - 0s 25ms/step - loss: 0.0061 - mse: 0.0061 - val_loss: 0.0099 - val_mse: 0.0099\n",
            "Epoch 123/300\n",
            "1/1 [==============================] - 0s 25ms/step - loss: 0.0061 - mse: 0.0061 - val_loss: 0.0099 - val_mse: 0.0099\n",
            "Epoch 124/300\n",
            "1/1 [==============================] - 0s 25ms/step - loss: 0.0061 - mse: 0.0061 - val_loss: 0.0099 - val_mse: 0.0099\n",
            "Epoch 125/300\n",
            "1/1 [==============================] - 0s 25ms/step - loss: 0.0061 - mse: 0.0061 - val_loss: 0.0100 - val_mse: 0.0100\n",
            "Epoch 126/300\n",
            "1/1 [==============================] - 0s 25ms/step - loss: 0.0061 - mse: 0.0061 - val_loss: 0.0100 - val_mse: 0.0100\n",
            "Epoch 127/300\n",
            "1/1 [==============================] - 0s 25ms/step - loss: 0.0061 - mse: 0.0061 - val_loss: 0.0100 - val_mse: 0.0100\n",
            "Epoch 128/300\n",
            "1/1 [==============================] - 0s 27ms/step - loss: 0.0061 - mse: 0.0061 - val_loss: 0.0100 - val_mse: 0.0100\n",
            "Epoch 129/300\n",
            "1/1 [==============================] - 0s 25ms/step - loss: 0.0060 - mse: 0.0060 - val_loss: 0.0101 - val_mse: 0.0101\n",
            "Epoch 130/300\n",
            "1/1 [==============================] - 0s 25ms/step - loss: 0.0060 - mse: 0.0060 - val_loss: 0.0101 - val_mse: 0.0101\n",
            "Epoch 131/300\n",
            "1/1 [==============================] - 0s 27ms/step - loss: 0.0060 - mse: 0.0060 - val_loss: 0.0101 - val_mse: 0.0101\n",
            "Epoch 132/300\n",
            "1/1 [==============================] - 0s 25ms/step - loss: 0.0060 - mse: 0.0060 - val_loss: 0.0101 - val_mse: 0.0101\n",
            "Epoch 133/300\n",
            "1/1 [==============================] - 0s 23ms/step - loss: 0.0060 - mse: 0.0060 - val_loss: 0.0101 - val_mse: 0.0101\n",
            "Epoch 134/300\n",
            "1/1 [==============================] - 0s 23ms/step - loss: 0.0060 - mse: 0.0060 - val_loss: 0.0101 - val_mse: 0.0101\n",
            "Epoch 135/300\n",
            "1/1 [==============================] - 0s 24ms/step - loss: 0.0060 - mse: 0.0060 - val_loss: 0.0102 - val_mse: 0.0102\n",
            "Epoch 136/300\n",
            "1/1 [==============================] - 0s 33ms/step - loss: 0.0060 - mse: 0.0060 - val_loss: 0.0102 - val_mse: 0.0102\n",
            "Epoch 137/300\n",
            "1/1 [==============================] - 0s 24ms/step - loss: 0.0059 - mse: 0.0059 - val_loss: 0.0102 - val_mse: 0.0102\n",
            "Epoch 138/300\n",
            "1/1 [==============================] - 0s 25ms/step - loss: 0.0059 - mse: 0.0059 - val_loss: 0.0102 - val_mse: 0.0102\n",
            "Epoch 139/300\n",
            "1/1 [==============================] - 0s 44ms/step - loss: 0.0059 - mse: 0.0059 - val_loss: 0.0102 - val_mse: 0.0102\n",
            "Epoch 140/300\n",
            "1/1 [==============================] - 0s 32ms/step - loss: 0.0059 - mse: 0.0059 - val_loss: 0.0102 - val_mse: 0.0102\n",
            "Epoch 141/300\n",
            "1/1 [==============================] - 0s 29ms/step - loss: 0.0059 - mse: 0.0059 - val_loss: 0.0103 - val_mse: 0.0103\n",
            "Epoch 142/300\n",
            "1/1 [==============================] - 0s 25ms/step - loss: 0.0059 - mse: 0.0059 - val_loss: 0.0103 - val_mse: 0.0103\n",
            "Epoch 143/300\n",
            "1/1 [==============================] - 0s 43ms/step - loss: 0.0059 - mse: 0.0059 - val_loss: 0.0103 - val_mse: 0.0103\n",
            "Epoch 144/300\n",
            "1/1 [==============================] - 0s 25ms/step - loss: 0.0059 - mse: 0.0059 - val_loss: 0.0103 - val_mse: 0.0103\n",
            "Epoch 145/300\n",
            "1/1 [==============================] - 0s 28ms/step - loss: 0.0059 - mse: 0.0059 - val_loss: 0.0103 - val_mse: 0.0103\n",
            "Epoch 146/300\n",
            "1/1 [==============================] - 0s 28ms/step - loss: 0.0058 - mse: 0.0058 - val_loss: 0.0103 - val_mse: 0.0103\n",
            "Epoch 147/300\n",
            "1/1 [==============================] - 0s 25ms/step - loss: 0.0058 - mse: 0.0058 - val_loss: 0.0104 - val_mse: 0.0104\n",
            "Epoch 148/300\n",
            "1/1 [==============================] - 0s 25ms/step - loss: 0.0058 - mse: 0.0058 - val_loss: 0.0104 - val_mse: 0.0104\n",
            "Epoch 149/300\n",
            "1/1 [==============================] - 0s 27ms/step - loss: 0.0058 - mse: 0.0058 - val_loss: 0.0104 - val_mse: 0.0104\n",
            "Epoch 150/300\n",
            "1/1 [==============================] - 0s 25ms/step - loss: 0.0058 - mse: 0.0058 - val_loss: 0.0104 - val_mse: 0.0104\n",
            "Epoch 151/300\n",
            "1/1 [==============================] - 0s 26ms/step - loss: 0.0058 - mse: 0.0058 - val_loss: 0.0104 - val_mse: 0.0104\n",
            "Epoch 152/300\n",
            "1/1 [==============================] - 0s 25ms/step - loss: 0.0058 - mse: 0.0058 - val_loss: 0.0104 - val_mse: 0.0104\n",
            "Epoch 153/300\n",
            "1/1 [==============================] - 0s 26ms/step - loss: 0.0058 - mse: 0.0058 - val_loss: 0.0104 - val_mse: 0.0104\n",
            "Epoch 154/300\n",
            "1/1 [==============================] - 0s 26ms/step - loss: 0.0058 - mse: 0.0058 - val_loss: 0.0104 - val_mse: 0.0104\n",
            "Epoch 155/300\n",
            "1/1 [==============================] - 0s 27ms/step - loss: 0.0057 - mse: 0.0057 - val_loss: 0.0105 - val_mse: 0.0105\n",
            "Epoch 156/300\n",
            "1/1 [==============================] - 0s 25ms/step - loss: 0.0057 - mse: 0.0057 - val_loss: 0.0105 - val_mse: 0.0105\n",
            "Epoch 157/300\n",
            "1/1 [==============================] - 0s 31ms/step - loss: 0.0057 - mse: 0.0057 - val_loss: 0.0105 - val_mse: 0.0105\n",
            "Epoch 158/300\n",
            "1/1 [==============================] - 0s 27ms/step - loss: 0.0057 - mse: 0.0057 - val_loss: 0.0105 - val_mse: 0.0105\n",
            "Epoch 159/300\n",
            "1/1 [==============================] - 0s 25ms/step - loss: 0.0057 - mse: 0.0057 - val_loss: 0.0105 - val_mse: 0.0105\n",
            "Epoch 160/300\n",
            "1/1 [==============================] - 0s 26ms/step - loss: 0.0057 - mse: 0.0057 - val_loss: 0.0105 - val_mse: 0.0105\n",
            "Epoch 161/300\n",
            "1/1 [==============================] - 0s 26ms/step - loss: 0.0057 - mse: 0.0057 - val_loss: 0.0105 - val_mse: 0.0105\n",
            "Epoch 162/300\n",
            "1/1 [==============================] - 0s 27ms/step - loss: 0.0057 - mse: 0.0057 - val_loss: 0.0105 - val_mse: 0.0105\n",
            "Epoch 163/300\n",
            "1/1 [==============================] - 0s 29ms/step - loss: 0.0057 - mse: 0.0057 - val_loss: 0.0105 - val_mse: 0.0105\n",
            "Epoch 164/300\n",
            "1/1 [==============================] - 0s 26ms/step - loss: 0.0056 - mse: 0.0056 - val_loss: 0.0105 - val_mse: 0.0105\n",
            "Epoch 165/300\n",
            "1/1 [==============================] - 0s 26ms/step - loss: 0.0056 - mse: 0.0056 - val_loss: 0.0106 - val_mse: 0.0106\n",
            "Epoch 166/300\n",
            "1/1 [==============================] - 0s 26ms/step - loss: 0.0056 - mse: 0.0056 - val_loss: 0.0106 - val_mse: 0.0106\n",
            "Epoch 167/300\n",
            "1/1 [==============================] - 0s 24ms/step - loss: 0.0056 - mse: 0.0056 - val_loss: 0.0106 - val_mse: 0.0106\n",
            "Epoch 168/300\n",
            "1/1 [==============================] - 0s 25ms/step - loss: 0.0056 - mse: 0.0056 - val_loss: 0.0106 - val_mse: 0.0106\n",
            "Epoch 169/300\n",
            "1/1 [==============================] - 0s 28ms/step - loss: 0.0056 - mse: 0.0056 - val_loss: 0.0106 - val_mse: 0.0106\n",
            "Epoch 170/300\n",
            "1/1 [==============================] - 0s 27ms/step - loss: 0.0056 - mse: 0.0056 - val_loss: 0.0106 - val_mse: 0.0106\n",
            "Epoch 171/300\n",
            "1/1 [==============================] - 0s 26ms/step - loss: 0.0056 - mse: 0.0056 - val_loss: 0.0106 - val_mse: 0.0106\n",
            "Epoch 172/300\n",
            "1/1 [==============================] - 0s 33ms/step - loss: 0.0056 - mse: 0.0056 - val_loss: 0.0106 - val_mse: 0.0106\n",
            "Epoch 173/300\n",
            "1/1 [==============================] - 0s 26ms/step - loss: 0.0056 - mse: 0.0056 - val_loss: 0.0106 - val_mse: 0.0106\n",
            "Epoch 174/300\n",
            "1/1 [==============================] - 0s 28ms/step - loss: 0.0055 - mse: 0.0055 - val_loss: 0.0106 - val_mse: 0.0106\n",
            "Epoch 175/300\n",
            "1/1 [==============================] - 0s 25ms/step - loss: 0.0055 - mse: 0.0055 - val_loss: 0.0106 - val_mse: 0.0106\n",
            "Epoch 176/300\n",
            "1/1 [==============================] - 0s 28ms/step - loss: 0.0055 - mse: 0.0055 - val_loss: 0.0106 - val_mse: 0.0106\n",
            "Epoch 177/300\n",
            "1/1 [==============================] - 0s 26ms/step - loss: 0.0055 - mse: 0.0055 - val_loss: 0.0107 - val_mse: 0.0107\n",
            "Epoch 178/300\n",
            "1/1 [==============================] - 0s 29ms/step - loss: 0.0055 - mse: 0.0055 - val_loss: 0.0107 - val_mse: 0.0107\n",
            "Epoch 179/300\n",
            "1/1 [==============================] - 0s 23ms/step - loss: 0.0055 - mse: 0.0055 - val_loss: 0.0107 - val_mse: 0.0107\n",
            "Epoch 180/300\n",
            "1/1 [==============================] - 0s 25ms/step - loss: 0.0055 - mse: 0.0055 - val_loss: 0.0107 - val_mse: 0.0107\n",
            "Epoch 181/300\n",
            "1/1 [==============================] - 0s 25ms/step - loss: 0.0055 - mse: 0.0055 - val_loss: 0.0107 - val_mse: 0.0107\n",
            "Epoch 182/300\n",
            "1/1 [==============================] - 0s 28ms/step - loss: 0.0055 - mse: 0.0055 - val_loss: 0.0107 - val_mse: 0.0107\n",
            "Epoch 183/300\n",
            "1/1 [==============================] - 0s 27ms/step - loss: 0.0055 - mse: 0.0055 - val_loss: 0.0107 - val_mse: 0.0107\n",
            "Epoch 184/300\n",
            "1/1 [==============================] - 0s 26ms/step - loss: 0.0055 - mse: 0.0055 - val_loss: 0.0107 - val_mse: 0.0107\n",
            "Epoch 185/300\n",
            "1/1 [==============================] - 0s 38ms/step - loss: 0.0054 - mse: 0.0054 - val_loss: 0.0107 - val_mse: 0.0107\n",
            "Epoch 186/300\n",
            "1/1 [==============================] - 0s 26ms/step - loss: 0.0054 - mse: 0.0054 - val_loss: 0.0107 - val_mse: 0.0107\n",
            "Epoch 187/300\n",
            "1/1 [==============================] - 0s 25ms/step - loss: 0.0054 - mse: 0.0054 - val_loss: 0.0107 - val_mse: 0.0107\n",
            "Epoch 188/300\n",
            "1/1 [==============================] - 0s 26ms/step - loss: 0.0054 - mse: 0.0054 - val_loss: 0.0107 - val_mse: 0.0107\n",
            "Epoch 189/300\n",
            "1/1 [==============================] - 0s 25ms/step - loss: 0.0054 - mse: 0.0054 - val_loss: 0.0107 - val_mse: 0.0107\n",
            "Epoch 190/300\n",
            "1/1 [==============================] - 0s 27ms/step - loss: 0.0054 - mse: 0.0054 - val_loss: 0.0107 - val_mse: 0.0107\n",
            "Epoch 191/300\n",
            "1/1 [==============================] - 0s 26ms/step - loss: 0.0054 - mse: 0.0054 - val_loss: 0.0107 - val_mse: 0.0107\n",
            "Epoch 192/300\n",
            "1/1 [==============================] - 0s 29ms/step - loss: 0.0054 - mse: 0.0054 - val_loss: 0.0107 - val_mse: 0.0107\n",
            "Epoch 193/300\n",
            "1/1 [==============================] - 0s 27ms/step - loss: 0.0054 - mse: 0.0054 - val_loss: 0.0107 - val_mse: 0.0107\n",
            "Epoch 194/300\n",
            "1/1 [==============================] - 0s 26ms/step - loss: 0.0054 - mse: 0.0054 - val_loss: 0.0107 - val_mse: 0.0107\n",
            "Epoch 195/300\n",
            "1/1 [==============================] - 0s 30ms/step - loss: 0.0054 - mse: 0.0054 - val_loss: 0.0107 - val_mse: 0.0107\n",
            "Epoch 196/300\n",
            "1/1 [==============================] - 0s 27ms/step - loss: 0.0053 - mse: 0.0053 - val_loss: 0.0107 - val_mse: 0.0107\n",
            "Epoch 197/300\n",
            "1/1 [==============================] - 0s 24ms/step - loss: 0.0053 - mse: 0.0053 - val_loss: 0.0108 - val_mse: 0.0108\n",
            "Epoch 198/300\n",
            "1/1 [==============================] - 0s 25ms/step - loss: 0.0053 - mse: 0.0053 - val_loss: 0.0108 - val_mse: 0.0108\n",
            "Epoch 199/300\n",
            "1/1 [==============================] - 0s 25ms/step - loss: 0.0053 - mse: 0.0053 - val_loss: 0.0108 - val_mse: 0.0108\n",
            "Epoch 200/300\n",
            "1/1 [==============================] - 0s 27ms/step - loss: 0.0053 - mse: 0.0053 - val_loss: 0.0108 - val_mse: 0.0108\n",
            "Epoch 201/300\n",
            "1/1 [==============================] - 0s 29ms/step - loss: 0.0053 - mse: 0.0053 - val_loss: 0.0108 - val_mse: 0.0108\n",
            "Epoch 202/300\n",
            "1/1 [==============================] - 0s 24ms/step - loss: 0.0053 - mse: 0.0053 - val_loss: 0.0108 - val_mse: 0.0108\n",
            "Epoch 203/300\n",
            "1/1 [==============================] - 0s 33ms/step - loss: 0.0053 - mse: 0.0053 - val_loss: 0.0108 - val_mse: 0.0108\n",
            "Epoch 204/300\n",
            "1/1 [==============================] - 0s 31ms/step - loss: 0.0053 - mse: 0.0053 - val_loss: 0.0108 - val_mse: 0.0108\n",
            "Epoch 205/300\n",
            "1/1 [==============================] - 0s 32ms/step - loss: 0.0053 - mse: 0.0053 - val_loss: 0.0108 - val_mse: 0.0108\n",
            "Epoch 206/300\n",
            "1/1 [==============================] - 0s 26ms/step - loss: 0.0053 - mse: 0.0053 - val_loss: 0.0108 - val_mse: 0.0108\n",
            "Epoch 207/300\n",
            "1/1 [==============================] - 0s 25ms/step - loss: 0.0052 - mse: 0.0052 - val_loss: 0.0108 - val_mse: 0.0108\n",
            "Epoch 208/300\n",
            "1/1 [==============================] - 0s 27ms/step - loss: 0.0052 - mse: 0.0052 - val_loss: 0.0108 - val_mse: 0.0108\n",
            "Epoch 209/300\n",
            "1/1 [==============================] - 0s 29ms/step - loss: 0.0052 - mse: 0.0052 - val_loss: 0.0108 - val_mse: 0.0108\n",
            "Epoch 210/300\n",
            "1/1 [==============================] - 0s 26ms/step - loss: 0.0052 - mse: 0.0052 - val_loss: 0.0108 - val_mse: 0.0108\n",
            "Epoch 211/300\n",
            "1/1 [==============================] - 0s 27ms/step - loss: 0.0052 - mse: 0.0052 - val_loss: 0.0108 - val_mse: 0.0108\n",
            "Epoch 212/300\n",
            "1/1 [==============================] - 0s 26ms/step - loss: 0.0052 - mse: 0.0052 - val_loss: 0.0108 - val_mse: 0.0108\n",
            "Epoch 213/300\n",
            "1/1 [==============================] - 0s 28ms/step - loss: 0.0052 - mse: 0.0052 - val_loss: 0.0108 - val_mse: 0.0108\n",
            "Epoch 214/300\n",
            "1/1 [==============================] - 0s 28ms/step - loss: 0.0052 - mse: 0.0052 - val_loss: 0.0108 - val_mse: 0.0108\n",
            "Epoch 215/300\n",
            "1/1 [==============================] - 0s 27ms/step - loss: 0.0052 - mse: 0.0052 - val_loss: 0.0108 - val_mse: 0.0108\n",
            "Epoch 216/300\n",
            "1/1 [==============================] - 0s 25ms/step - loss: 0.0052 - mse: 0.0052 - val_loss: 0.0108 - val_mse: 0.0108\n",
            "Epoch 217/300\n",
            "1/1 [==============================] - 0s 27ms/step - loss: 0.0052 - mse: 0.0052 - val_loss: 0.0108 - val_mse: 0.0108\n",
            "Epoch 218/300\n",
            "1/1 [==============================] - 0s 26ms/step - loss: 0.0052 - mse: 0.0052 - val_loss: 0.0108 - val_mse: 0.0108\n",
            "Epoch 219/300\n",
            "1/1 [==============================] - 0s 26ms/step - loss: 0.0051 - mse: 0.0051 - val_loss: 0.0108 - val_mse: 0.0108\n",
            "Epoch 220/300\n",
            "1/1 [==============================] - 0s 25ms/step - loss: 0.0051 - mse: 0.0051 - val_loss: 0.0108 - val_mse: 0.0108\n",
            "Epoch 221/300\n",
            "1/1 [==============================] - 0s 25ms/step - loss: 0.0051 - mse: 0.0051 - val_loss: 0.0108 - val_mse: 0.0108\n",
            "Epoch 222/300\n",
            "1/1 [==============================] - 0s 26ms/step - loss: 0.0051 - mse: 0.0051 - val_loss: 0.0108 - val_mse: 0.0108\n",
            "Epoch 223/300\n",
            "1/1 [==============================] - 0s 32ms/step - loss: 0.0051 - mse: 0.0051 - val_loss: 0.0108 - val_mse: 0.0108\n",
            "Epoch 224/300\n",
            "1/1 [==============================] - 0s 28ms/step - loss: 0.0051 - mse: 0.0051 - val_loss: 0.0108 - val_mse: 0.0108\n",
            "Epoch 225/300\n",
            "1/1 [==============================] - 0s 27ms/step - loss: 0.0051 - mse: 0.0051 - val_loss: 0.0108 - val_mse: 0.0108\n",
            "Epoch 226/300\n",
            "1/1 [==============================] - 0s 29ms/step - loss: 0.0051 - mse: 0.0051 - val_loss: 0.0108 - val_mse: 0.0108\n",
            "Epoch 227/300\n",
            "1/1 [==============================] - 0s 27ms/step - loss: 0.0051 - mse: 0.0051 - val_loss: 0.0108 - val_mse: 0.0108\n",
            "Epoch 228/300\n",
            "1/1 [==============================] - 0s 28ms/step - loss: 0.0051 - mse: 0.0051 - val_loss: 0.0108 - val_mse: 0.0108\n",
            "Epoch 229/300\n",
            "1/1 [==============================] - 0s 28ms/step - loss: 0.0051 - mse: 0.0051 - val_loss: 0.0108 - val_mse: 0.0108\n",
            "Epoch 230/300\n",
            "1/1 [==============================] - 0s 26ms/step - loss: 0.0051 - mse: 0.0051 - val_loss: 0.0108 - val_mse: 0.0108\n",
            "Epoch 231/300\n",
            "1/1 [==============================] - 0s 27ms/step - loss: 0.0051 - mse: 0.0051 - val_loss: 0.0108 - val_mse: 0.0108\n",
            "Epoch 232/300\n",
            "1/1 [==============================] - 0s 27ms/step - loss: 0.0050 - mse: 0.0050 - val_loss: 0.0108 - val_mse: 0.0108\n",
            "Epoch 233/300\n",
            "1/1 [==============================] - 0s 27ms/step - loss: 0.0050 - mse: 0.0050 - val_loss: 0.0108 - val_mse: 0.0108\n",
            "Epoch 234/300\n",
            "1/1 [==============================] - 0s 30ms/step - loss: 0.0050 - mse: 0.0050 - val_loss: 0.0108 - val_mse: 0.0108\n",
            "Epoch 235/300\n",
            "1/1 [==============================] - 0s 29ms/step - loss: 0.0050 - mse: 0.0050 - val_loss: 0.0108 - val_mse: 0.0108\n",
            "Epoch 236/300\n",
            "1/1 [==============================] - 0s 30ms/step - loss: 0.0050 - mse: 0.0050 - val_loss: 0.0108 - val_mse: 0.0108\n",
            "Epoch 237/300\n",
            "1/1 [==============================] - 0s 26ms/step - loss: 0.0050 - mse: 0.0050 - val_loss: 0.0108 - val_mse: 0.0108\n",
            "Epoch 238/300\n",
            "1/1 [==============================] - 0s 29ms/step - loss: 0.0050 - mse: 0.0050 - val_loss: 0.0108 - val_mse: 0.0108\n",
            "Epoch 239/300\n",
            "1/1 [==============================] - 0s 33ms/step - loss: 0.0050 - mse: 0.0050 - val_loss: 0.0108 - val_mse: 0.0108\n",
            "Epoch 240/300\n",
            "1/1 [==============================] - 0s 41ms/step - loss: 0.0050 - mse: 0.0050 - val_loss: 0.0108 - val_mse: 0.0108\n",
            "Epoch 241/300\n",
            "1/1 [==============================] - 0s 27ms/step - loss: 0.0050 - mse: 0.0050 - val_loss: 0.0108 - val_mse: 0.0108\n",
            "Epoch 242/300\n",
            "1/1 [==============================] - 0s 26ms/step - loss: 0.0050 - mse: 0.0050 - val_loss: 0.0108 - val_mse: 0.0108\n",
            "Epoch 243/300\n",
            "1/1 [==============================] - 0s 26ms/step - loss: 0.0050 - mse: 0.0050 - val_loss: 0.0108 - val_mse: 0.0108\n",
            "Epoch 244/300\n",
            "1/1 [==============================] - 0s 24ms/step - loss: 0.0050 - mse: 0.0050 - val_loss: 0.0108 - val_mse: 0.0108\n",
            "Epoch 245/300\n",
            "1/1 [==============================] - 0s 26ms/step - loss: 0.0049 - mse: 0.0049 - val_loss: 0.0108 - val_mse: 0.0108\n",
            "Epoch 246/300\n",
            "1/1 [==============================] - 0s 27ms/step - loss: 0.0049 - mse: 0.0049 - val_loss: 0.0108 - val_mse: 0.0108\n",
            "Epoch 247/300\n",
            "1/1 [==============================] - 0s 25ms/step - loss: 0.0049 - mse: 0.0049 - val_loss: 0.0108 - val_mse: 0.0108\n",
            "Epoch 248/300\n",
            "1/1 [==============================] - 0s 29ms/step - loss: 0.0049 - mse: 0.0049 - val_loss: 0.0108 - val_mse: 0.0108\n",
            "Epoch 249/300\n",
            "1/1 [==============================] - 0s 26ms/step - loss: 0.0049 - mse: 0.0049 - val_loss: 0.0108 - val_mse: 0.0108\n",
            "Epoch 250/300\n",
            "1/1 [==============================] - 0s 26ms/step - loss: 0.0049 - mse: 0.0049 - val_loss: 0.0108 - val_mse: 0.0108\n",
            "Epoch 251/300\n",
            "1/1 [==============================] - 0s 25ms/step - loss: 0.0049 - mse: 0.0049 - val_loss: 0.0108 - val_mse: 0.0108\n",
            "Epoch 252/300\n",
            "1/1 [==============================] - 0s 24ms/step - loss: 0.0049 - mse: 0.0049 - val_loss: 0.0108 - val_mse: 0.0108\n",
            "Epoch 253/300\n",
            "1/1 [==============================] - 0s 26ms/step - loss: 0.0049 - mse: 0.0049 - val_loss: 0.0108 - val_mse: 0.0108\n",
            "Epoch 254/300\n",
            "1/1 [==============================] - 0s 27ms/step - loss: 0.0049 - mse: 0.0049 - val_loss: 0.0108 - val_mse: 0.0108\n",
            "Epoch 255/300\n",
            "1/1 [==============================] - 0s 26ms/step - loss: 0.0049 - mse: 0.0049 - val_loss: 0.0108 - val_mse: 0.0108\n",
            "Epoch 256/300\n",
            "1/1 [==============================] - 0s 30ms/step - loss: 0.0049 - mse: 0.0049 - val_loss: 0.0108 - val_mse: 0.0108\n",
            "Epoch 257/300\n",
            "1/1 [==============================] - 0s 26ms/step - loss: 0.0049 - mse: 0.0049 - val_loss: 0.0108 - val_mse: 0.0108\n",
            "Epoch 258/300\n",
            "1/1 [==============================] - 0s 28ms/step - loss: 0.0049 - mse: 0.0049 - val_loss: 0.0108 - val_mse: 0.0108\n",
            "Epoch 259/300\n",
            "1/1 [==============================] - 0s 26ms/step - loss: 0.0048 - mse: 0.0048 - val_loss: 0.0108 - val_mse: 0.0108\n",
            "Epoch 260/300\n",
            "1/1 [==============================] - 0s 27ms/step - loss: 0.0048 - mse: 0.0048 - val_loss: 0.0108 - val_mse: 0.0108\n",
            "Epoch 261/300\n",
            "1/1 [==============================] - 0s 30ms/step - loss: 0.0048 - mse: 0.0048 - val_loss: 0.0108 - val_mse: 0.0108\n",
            "Epoch 262/300\n",
            "1/1 [==============================] - 0s 25ms/step - loss: 0.0048 - mse: 0.0048 - val_loss: 0.0108 - val_mse: 0.0108\n",
            "Epoch 263/300\n",
            "1/1 [==============================] - 0s 55ms/step - loss: 0.0048 - mse: 0.0048 - val_loss: 0.0108 - val_mse: 0.0108\n",
            "Epoch 264/300\n",
            "1/1 [==============================] - 0s 27ms/step - loss: 0.0048 - mse: 0.0048 - val_loss: 0.0108 - val_mse: 0.0108\n",
            "Epoch 265/300\n",
            "1/1 [==============================] - 0s 30ms/step - loss: 0.0048 - mse: 0.0048 - val_loss: 0.0108 - val_mse: 0.0108\n",
            "Epoch 266/300\n",
            "1/1 [==============================] - 0s 27ms/step - loss: 0.0048 - mse: 0.0048 - val_loss: 0.0108 - val_mse: 0.0108\n",
            "Epoch 267/300\n",
            "1/1 [==============================] - 0s 27ms/step - loss: 0.0048 - mse: 0.0048 - val_loss: 0.0108 - val_mse: 0.0108\n",
            "Epoch 268/300\n",
            "1/1 [==============================] - 0s 28ms/step - loss: 0.0048 - mse: 0.0048 - val_loss: 0.0108 - val_mse: 0.0108\n",
            "Epoch 269/300\n",
            "1/1 [==============================] - 0s 27ms/step - loss: 0.0048 - mse: 0.0048 - val_loss: 0.0108 - val_mse: 0.0108\n",
            "Epoch 270/300\n",
            "1/1 [==============================] - 0s 27ms/step - loss: 0.0048 - mse: 0.0048 - val_loss: 0.0108 - val_mse: 0.0108\n",
            "Epoch 271/300\n",
            "1/1 [==============================] - 0s 29ms/step - loss: 0.0048 - mse: 0.0048 - val_loss: 0.0108 - val_mse: 0.0108\n",
            "Epoch 272/300\n",
            "1/1 [==============================] - 0s 28ms/step - loss: 0.0048 - mse: 0.0048 - val_loss: 0.0108 - val_mse: 0.0108\n",
            "Epoch 273/300\n",
            "1/1 [==============================] - 0s 46ms/step - loss: 0.0048 - mse: 0.0048 - val_loss: 0.0108 - val_mse: 0.0108\n",
            "Epoch 274/300\n",
            "1/1 [==============================] - 0s 31ms/step - loss: 0.0047 - mse: 0.0047 - val_loss: 0.0108 - val_mse: 0.0108\n",
            "Epoch 275/300\n",
            "1/1 [==============================] - 0s 34ms/step - loss: 0.0047 - mse: 0.0047 - val_loss: 0.0108 - val_mse: 0.0108\n",
            "Epoch 276/300\n",
            "1/1 [==============================] - 0s 31ms/step - loss: 0.0047 - mse: 0.0047 - val_loss: 0.0108 - val_mse: 0.0108\n",
            "Epoch 277/300\n",
            "1/1 [==============================] - 0s 31ms/step - loss: 0.0047 - mse: 0.0047 - val_loss: 0.0108 - val_mse: 0.0108\n",
            "Epoch 278/300\n",
            "1/1 [==============================] - 0s 30ms/step - loss: 0.0047 - mse: 0.0047 - val_loss: 0.0108 - val_mse: 0.0108\n",
            "Epoch 279/300\n",
            "1/1 [==============================] - 0s 28ms/step - loss: 0.0047 - mse: 0.0047 - val_loss: 0.0108 - val_mse: 0.0108\n",
            "Epoch 280/300\n",
            "1/1 [==============================] - 0s 27ms/step - loss: 0.0047 - mse: 0.0047 - val_loss: 0.0108 - val_mse: 0.0108\n",
            "Epoch 281/300\n",
            "1/1 [==============================] - 0s 27ms/step - loss: 0.0047 - mse: 0.0047 - val_loss: 0.0108 - val_mse: 0.0108\n",
            "Epoch 282/300\n",
            "1/1 [==============================] - 0s 28ms/step - loss: 0.0047 - mse: 0.0047 - val_loss: 0.0108 - val_mse: 0.0108\n",
            "Epoch 283/300\n",
            "1/1 [==============================] - 0s 29ms/step - loss: 0.0047 - mse: 0.0047 - val_loss: 0.0108 - val_mse: 0.0108\n",
            "Epoch 284/300\n",
            "1/1 [==============================] - 0s 32ms/step - loss: 0.0047 - mse: 0.0047 - val_loss: 0.0108 - val_mse: 0.0108\n",
            "Epoch 285/300\n",
            "1/1 [==============================] - 0s 32ms/step - loss: 0.0047 - mse: 0.0047 - val_loss: 0.0108 - val_mse: 0.0108\n",
            "Epoch 286/300\n",
            "1/1 [==============================] - 0s 25ms/step - loss: 0.0047 - mse: 0.0047 - val_loss: 0.0108 - val_mse: 0.0108\n",
            "Epoch 287/300\n",
            "1/1 [==============================] - 0s 32ms/step - loss: 0.0047 - mse: 0.0047 - val_loss: 0.0108 - val_mse: 0.0108\n",
            "Epoch 288/300\n",
            "1/1 [==============================] - 0s 46ms/step - loss: 0.0047 - mse: 0.0047 - val_loss: 0.0108 - val_mse: 0.0108\n",
            "Epoch 289/300\n",
            "1/1 [==============================] - 0s 25ms/step - loss: 0.0047 - mse: 0.0047 - val_loss: 0.0108 - val_mse: 0.0108\n",
            "Epoch 290/300\n",
            "1/1 [==============================] - 0s 24ms/step - loss: 0.0046 - mse: 0.0046 - val_loss: 0.0108 - val_mse: 0.0108\n",
            "Epoch 291/300\n",
            "1/1 [==============================] - 0s 33ms/step - loss: 0.0046 - mse: 0.0046 - val_loss: 0.0108 - val_mse: 0.0108\n",
            "Epoch 292/300\n",
            "1/1 [==============================] - 0s 27ms/step - loss: 0.0046 - mse: 0.0046 - val_loss: 0.0108 - val_mse: 0.0108\n",
            "Epoch 293/300\n",
            "1/1 [==============================] - 0s 27ms/step - loss: 0.0046 - mse: 0.0046 - val_loss: 0.0109 - val_mse: 0.0109\n",
            "Epoch 294/300\n",
            "1/1 [==============================] - 0s 28ms/step - loss: 0.0046 - mse: 0.0046 - val_loss: 0.0109 - val_mse: 0.0109\n",
            "Epoch 295/300\n",
            "1/1 [==============================] - 0s 32ms/step - loss: 0.0046 - mse: 0.0046 - val_loss: 0.0109 - val_mse: 0.0109\n",
            "Epoch 296/300\n",
            "1/1 [==============================] - 0s 30ms/step - loss: 0.0046 - mse: 0.0046 - val_loss: 0.0109 - val_mse: 0.0109\n",
            "Epoch 297/300\n",
            "1/1 [==============================] - 0s 26ms/step - loss: 0.0046 - mse: 0.0046 - val_loss: 0.0109 - val_mse: 0.0109\n",
            "Epoch 298/300\n",
            "1/1 [==============================] - 0s 30ms/step - loss: 0.0046 - mse: 0.0046 - val_loss: 0.0109 - val_mse: 0.0109\n",
            "Epoch 299/300\n",
            "1/1 [==============================] - 0s 29ms/step - loss: 0.0046 - mse: 0.0046 - val_loss: 0.0109 - val_mse: 0.0109\n",
            "Epoch 300/300\n",
            "1/1 [==============================] - 0s 29ms/step - loss: 0.0046 - mse: 0.0046 - val_loss: 0.0109 - val_mse: 0.0109\n",
            "1/1 [==============================] - 0s 17ms/step - loss: 0.0125 - mse: 0.0125\n"
          ]
        },
        {
          "output_type": "execute_result",
          "data": {
            "text/plain": [
              "[0.01253081951290369, 0.01253081951290369]"
            ]
          },
          "metadata": {},
          "execution_count": 19
        }
      ]
    },
    {
      "cell_type": "code",
      "source": [
        "print(history.history.keys())\n",
        "# \"Loss\"\n",
        "plt.plot(history.history['loss'])\n",
        "plt.plot(history.history['val_loss'])\n",
        "plt.title('model loss')\n",
        "plt.ylabel('loss')\n",
        "plt.xlabel('epoch')\n",
        "plt.legend(['train', 'validation'], loc='upper left')\n",
        "plt.show()"
      ],
      "metadata": {
        "colab": {
          "base_uri": "https://localhost:8080/",
          "height": 421
        },
        "id": "tvMUIg5SHsEF",
        "outputId": "06b65bbd-b901-4cd9-e0a8-32b1285956c5"
      },
      "execution_count": 20,
      "outputs": [
        {
          "output_type": "stream",
          "name": "stdout",
          "text": [
            "dict_keys(['loss', 'mse', 'val_loss', 'val_mse'])\n"
          ]
        },
        {
          "output_type": "display_data",
          "data": {
            "text/plain": [
              "<Figure size 720x360 with 1 Axes>"
            ],
            "image/png": "[encoded data removed]"
          },
          "metadata": {}
        }
      ]
    },
    {
      "cell_type": "code",
      "source": [
        "mse_cnn = cnn_model.evaluate(X_test, y_test)"
      ],
      "metadata": {
        "colab": {
          "base_uri": "https://localhost:8080/"
        },
        "id": "ImssP1C-YLO6",
        "outputId": "8f98b0a4-1311-49e9-8881-bb4656001f28"
      },
      "execution_count": 35,
      "outputs": [
        {
          "output_type": "stream",
          "name": "stdout",
          "text": [
            "1/1 [==============================] - 0s 44ms/step - loss: 0.0125 - mse: 0.0125\n"
          ]
        }
      ]
    },
    {
      "cell_type": "markdown",
      "source": [
        "####Baseline MSE = 0.0188"
      ],
      "metadata": {
        "id": "kaLutRuWgU4K"
      }
    },
    {
      "cell_type": "code",
      "source": [
        "cnn_model.summary()"
      ],
      "metadata": {
        "colab": {
          "base_uri": "https://localhost:8080/"
        },
        "id": "A8XbxYQeiCoj",
        "outputId": "32a2f27e-c161-4547-fdfd-d0938aae6bcf"
      },
      "execution_count": 36,
      "outputs": [
        {
          "output_type": "stream",
          "name": "stdout",
          "text": [
            "Model: \"sequential_1\"\n",
            "_________________________________________________________________\n",
            " Layer (type)                Output Shape              Param #   \n",
            "=================================================================\n",
            " conv1d_1 (Conv1D)           (None, 2, 64)             960       \n",
            "                                                                 \n",
            " max_pooling1d_1 (MaxPooling  (None, 1, 64)            0         \n",
            " 1D)                                                             \n",
            "                                                                 \n",
            " flatten_1 (Flatten)         (None, 64)                0         \n",
            "                                                                 \n",
            " dense_2 (Dense)             (None, 64)                4160      \n",
            "                                                                 \n",
            " dense_3 (Dense)             (None, 1)                 65        \n",
            "                                                                 \n",
            "=================================================================\n",
            "Total params: 5,185\n",
            "Trainable params: 5,185\n",
            "Non-trainable params: 0\n",
            "_________________________________________________________________\n"
          ]
        }
      ]
    },
    {
      "cell_type": "markdown",
      "source": [
        "###Predict the Test without Hyperparameter Tuning"
      ],
      "metadata": {
        "id": "bNFFP1sSleo-"
      }
    },
    {
      "cell_type": "code",
      "source": [
        "y_pred = cnn_model.predict(X_test)\n",
        "y_pred"
      ],
      "metadata": {
        "colab": {
          "base_uri": "https://localhost:8080/"
        },
        "id": "wujQ6JNuiCyl",
        "outputId": "8c725c75-74aa-4c5b-c0c0-1e6d57bdbee4"
      },
      "execution_count": 37,
      "outputs": [
        {
          "output_type": "stream",
          "name": "stdout",
          "text": [
            "1/1 [==============================] - 0s 26ms/step\n"
          ]
        },
        {
          "output_type": "execute_result",
          "data": {
            "text/plain": [
              "array([[ 0.13109925],\n",
              "       [ 0.06925816],\n",
              "       [ 0.08601277],\n",
              "       [ 0.09840007],\n",
              "       [ 0.0799836 ],\n",
              "       [ 0.08922915],\n",
              "       [ 0.06605554],\n",
              "       [ 0.01927472],\n",
              "       [-0.04879097],\n",
              "       [-0.0838734 ],\n",
              "       [-0.07225774],\n",
              "       [-0.08581333],\n",
              "       [-0.08644181],\n",
              "       [-0.07667782],\n",
              "       [-0.06711221],\n",
              "       [-0.10727847],\n",
              "       [-0.12495013],\n",
              "       [-0.02348812],\n",
              "       [ 0.1072665 ],\n",
              "       [ 0.07720658],\n",
              "       [-0.02632605],\n",
              "       [ 0.00437754]], dtype=float32)"
            ]
          },
          "metadata": {},
          "execution_count": 37
        }
      ]
    },
    {
      "cell_type": "code",
      "source": [
        "y_pred.reshape(1,-1)"
      ],
      "metadata": {
        "colab": {
          "base_uri": "https://localhost:8080/"
        },
        "id": "GI8XYmymlslh",
        "outputId": "f7c5c669-7164-4215-893b-cde289ba3811"
      },
      "execution_count": 38,
      "outputs": [
        {
          "output_type": "execute_result",
          "data": {
            "text/plain": [
              "array([[ 0.13109925,  0.06925816,  0.08601277,  0.09840007,  0.0799836 ,\n",
              "         0.08922915,  0.06605554,  0.01927472, -0.04879097, -0.0838734 ,\n",
              "        -0.07225774, -0.08581333, -0.08644181, -0.07667782, -0.06711221,\n",
              "        -0.10727847, -0.12495013, -0.02348812,  0.1072665 ,  0.07720658,\n",
              "        -0.02632605,  0.00437754]], dtype=float32)"
            ]
          },
          "metadata": {},
          "execution_count": 38
        }
      ]
    },
    {
      "cell_type": "markdown",
      "source": [
        "###Invert Transformed Data"
      ],
      "metadata": {
        "id": "jrtmvrZ_l2__"
      }
    },
    {
      "cell_type": "code",
      "source": [
        "y_train_inv = cpo_pri_transformer.inverse_transform(y_train.reshape(1, -1))\n",
        "y_test_inv = cpo_pri_transformer.inverse_transform(y_test.reshape(1, -1))\n",
        "y_pred_inv = cpo_pri_transformer.inverse_transform(y_pred.reshape(1,-1))\n",
        "print(y_train_inv)\n",
        "print(y_test_inv)\n",
        "print(y_pred_inv)"
      ],
      "metadata": {
        "colab": {
          "base_uri": "https://localhost:8080/"
        },
        "id": "FVSGGT57lxHw",
        "outputId": "633cb5ca-667e-40e7-aff5-a33ccdc490be"
      },
      "execution_count": 39,
      "outputs": [
        {
          "output_type": "stream",
          "name": "stdout",
          "text": [
            "[[376. 383. 382. 396. 402. 390. 404. 382. 382. 391. 396. 413. 401. 410.\n",
            "  425. 408. 392. 371. 356. 362. 356. 352. 333. 357. 411. 404. 387. 395.\n",
            "  434. 488. 508. 494. 575. 614. 616. 707. 719. 655. 661. 687. 625. 611.\n",
            "  631. 655. 616. 586. 615. 607. 590. 535. 518. 519. 562. 552. 508. 476.\n",
            "  513. 545. 532. 550. 561. 567. 580. 559. 562. 553. 533. 498. 504. 525.\n",
            "  547. 556. 566. 621. 659. 671. 688. 705. 633. 661. 674. 703. 694. 681.\n",
            "  663. 632. 561. 497. 509. 475. 392. 319. 354. 388. 381. 370.]]\n",
            "[[349. 372. 324. 315. 312. 306. 288. 255. 257. 265. 254. 240. 254. 251.\n",
            "  234. 255. 330. 362. 310. 277. 323. 360.]]\n",
            "[[371.4397  346.70328 353.40512 358.36002 350.99344 354.69168 345.4222\n",
            "  326.7099  299.4836  285.45065 290.0969  284.67468 284.42328 288.32886\n",
            "  292.15512 276.08862 269.01996 309.60477 361.9066  349.88263 308.46957\n",
            "  320.75104]]\n"
          ]
        }
      ]
    },
    {
      "cell_type": "markdown",
      "source": [
        "###Plot History, Actual and Predicted Value"
      ],
      "metadata": {
        "id": "PxYTgRmhmDtL"
      }
    },
    {
      "cell_type": "code",
      "source": [
        "y_train_inv = y_train_inv.flatten()\n",
        "y_train_inv"
      ],
      "metadata": {
        "colab": {
          "base_uri": "https://localhost:8080/"
        },
        "id": "YXY0nwhElxLo",
        "outputId": "186497d2-cf58-44df-ede2-3c8cb4e540e0"
      },
      "execution_count": 40,
      "outputs": [
        {
          "output_type": "execute_result",
          "data": {
            "text/plain": [
              "array([376., 383., 382., 396., 402., 390., 404., 382., 382., 391., 396.,\n",
              "       413., 401., 410., 425., 408., 392., 371., 356., 362., 356., 352.,\n",
              "       333., 357., 411., 404., 387., 395., 434., 488., 508., 494., 575.,\n",
              "       614., 616., 707., 719., 655., 661., 687., 625., 611., 631., 655.,\n",
              "       616., 586., 615., 607., 590., 535., 518., 519., 562., 552., 508.,\n",
              "       476., 513., 545., 532., 550., 561., 567., 580., 559., 562., 553.,\n",
              "       533., 498., 504., 525., 547., 556., 566., 621., 659., 671., 688.,\n",
              "       705., 633., 661., 674., 703., 694., 681., 663., 632., 561., 497.,\n",
              "       509., 475., 392., 319., 354., 388., 381., 370.])"
            ]
          },
          "metadata": {},
          "execution_count": 40
        }
      ]
    },
    {
      "cell_type": "code",
      "source": [
        "y_test_inv = y_test_inv.flatten()\n",
        "y_test_inv"
      ],
      "metadata": {
        "colab": {
          "base_uri": "https://localhost:8080/"
        },
        "id": "z_zQn_rpl_MC",
        "outputId": "5db35b21-a1da-4dec-f67e-34f561a3e762"
      },
      "execution_count": 41,
      "outputs": [
        {
          "output_type": "execute_result",
          "data": {
            "text/plain": [
              "array([349., 372., 324., 315., 312., 306., 288., 255., 257., 265., 254.,\n",
              "       240., 254., 251., 234., 255., 330., 362., 310., 277., 323., 360.])"
            ]
          },
          "metadata": {},
          "execution_count": 41
        }
      ]
    },
    {
      "cell_type": "code",
      "source": [
        "y_pred_inv = y_pred_inv.flatten()\n",
        "y_pred_inv"
      ],
      "metadata": {
        "colab": {
          "base_uri": "https://localhost:8080/"
        },
        "id": "X4GInUagmJUO",
        "outputId": "b6f0a9d4-9ac0-48bf-993d-38958ab27ef6"
      },
      "execution_count": 42,
      "outputs": [
        {
          "output_type": "execute_result",
          "data": {
            "text/plain": [
              "array([371.4397 , 346.70328, 353.40512, 358.36002, 350.99344, 354.69168,\n",
              "       345.4222 , 326.7099 , 299.4836 , 285.45065, 290.0969 , 284.67468,\n",
              "       284.42328, 288.32886, 292.15512, 276.08862, 269.01996, 309.60477,\n",
              "       361.9066 , 349.88263, 308.46957, 320.75104], dtype=float32)"
            ]
          },
          "metadata": {},
          "execution_count": 42
        }
      ]
    },
    {
      "cell_type": "code",
      "source": [
        "plt.figure(figsize=(17,9))\n",
        "#plt.grid()\n",
        "#plt.plot(np.arange(0, len(y_train)), y_train_inv, color='green', label=\"History\")\n",
        "plt.plot(np.arange(len(y_train), len(y_train) + len(y_test)), y_test_inv, color='red', marker='.', label=\"Actual\")\n",
        "plt.plot(np.arange(len(y_train), len(y_train) + len(y_test)), y_pred_inv, color='green', label=\"Tuned CNN Prediction\")\n",
        "plt.ylabel('Crude Palm Oil Price')\n",
        "plt.xlabel('Time step')\n",
        "plt.legend()\n",
        "ax.grid()\n",
        "#plt.grid()\n",
        "#plt.show();"
      ],
      "metadata": {
        "colab": {
          "base_uri": "https://localhost:8080/",
          "height": 424
        },
        "id": "vHGNO1xAmJYI",
        "outputId": "eaed603d-2803-4c4f-d5db-d1f4cc7c3316"
      },
      "execution_count": 43,
      "outputs": [
        {
          "output_type": "display_data",
          "data": {
            "text/plain": [
              "<Figure size 1224x648 with 1 Axes>"
            ],
            "image/png": "[encoded data removed]"
          },
          "metadata": {}
        }
      ]
    },
    {
      "cell_type": "markdown",
      "source": [
        "###Evaluate CNN Model Accuracy"
      ],
      "metadata": {
        "id": "1NImON2RmyWF"
      }
    },
    {
      "cell_type": "code",
      "source": [
        "MAE_cnn = mean_absolute_error(y_test_inv, y_pred_inv)\n",
        "print('MAE value of the CNN Model is:', MAE_cnn)\n",
        "\n",
        "MDA_cnn = mda(y_test_inv, y_pred_inv)\n",
        "print('MDA value of the CNN Model is:', MDA_cnn)\n",
        "\n",
        "MAPE_cnn = mean_absolute_percentage_error(y_test_inv, y_pred_inv)\n",
        "print('MAPE value of the CNN Model is:', MAPE_cnn)\n",
        "\n",
        "RMSE_cnn = mean_squared_error(y_test_inv,y_pred_inv, squared=False)\n",
        "print('RMSE value of the CNN Model is:', RMSE_cnn)\n",
        "\n",
        "MSE_cnn = mean_squared_error(y_test_inv,y_pred_inv)\n",
        "print('MSE value of the CNN Model is:', MSE_cnn)\n",
        "\n",
        "#EVS_cnn = explained_variance_score(y_test_inv, y_pred_inv)\n",
        "#print('EVS score of the CNN Model is:', EVS_cnn)"
      ],
      "metadata": {
        "colab": {
          "base_uri": "https://localhost:8080/"
        },
        "id": "fIc5ITw4m2QJ",
        "outputId": "e9022231-89e7-4f77-cea1-39b16865a2a7"
      },
      "execution_count": 44,
      "outputs": [
        {
          "output_type": "stream",
          "name": "stdout",
          "text": [
            "MAE value of the CNN Model is: 41.816562999378554\n",
            "MDA value of the CNN Model is: 0.3333333333333333\n",
            "MAPE value of the CNN Model is: 14.590720794928602\n",
            "RMSE value of the CNN Model is: 44.776456369862764\n",
            "MSE value of the CNN Model is: 2004.9310450422238\n"
          ]
        }
      ]
    },
    {
      "cell_type": "markdown",
      "source": [
        "###Tuning CNN with Keras Tuner"
      ],
      "metadata": {
        "id": "fs98oM36Yw_r"
      }
    },
    {
      "cell_type": "code",
      "source": [
        "class ANNhypermodel(HyperModel):\n",
        "#class CNNHyperModel(HyperModel):\n",
        "    \n",
        "    def __init__(self, input_shape):\n",
        "        self.input_shape= input_shape\n",
        "        \n",
        "    def build(self, hp):\n",
        "        model= keras.Sequential()\n",
        "        \n",
        "        # Tune the number of units in the first Dense layer\n",
        "        # Defining dense units as a close approx to the original neural network to perform a fair comparision!\n",
        "        \n",
        "        \n",
        "        hp_units_1= hp.Int('units_1', min_value=128, max_value= 160, step=32)\n",
        "        hp_units_2= hp.Int('units_2', min_value=64, max_value= 128, step=32)\n",
        "        hp_units_3= hp.Int('units_3', min_value=32, max_value= 64, step=16)\n",
        "        hp_units_4= hp.Int('units_4', min_value=16, max_value= 32, step=8)\n",
        "\n",
        "        model.add(keras.layers.Dense(units=hp_units_1, activation='tanh', input_shape= self.input_shape))\n",
        "        model.add(keras.layers.Dense(units=hp_units_2, activation='tanh'))\n",
        "        model.add(keras.layers.Dense(units=hp_units_3, activation='tanh'))\n",
        "        model.add(keras.layers.Dense(units=hp_units_4, activation='tanh'))\n",
        "        model.add(keras.layers.Dense(1))\n",
        "        #Tune the dropout\n",
        "        model.add(\n",
        "            Dropout(\n",
        "                rate=hp.Float(\n",
        "                    'dropout',\n",
        "                    min_value=0.0,\n",
        "                    max_value=0.5,\n",
        "                    default=0.25,\n",
        "                    step=0.05\n",
        "                )\n",
        "            )\n",
        "        )\n",
        "        \n",
        "        # Tune the epoch for the optimizer\n",
        "\n",
        "        #batch_size = hp.Int('batch_size',8,16,24,32,40,48,56,64,72,80,88,96, step=8)\n",
        "        \n",
        "        optimizers = hp.Choice('optimizer',values=['rmsprop','adam','sgd','adadelta','adagrad'])\n",
        "\n",
        "        # Tune the batch size for the optimizer \n",
        "        hp_batch_size = hp.Int('batch_size', min_value = 8, max_value = 96, step = 8, default=8)\n",
        "        \n",
        "        # Tune the epoch for the optimizer\n",
        "        hp_epoch = hp.Int('epoch', min_value = 5, max_value = 100, step = 5, default=5)\n",
        "\n",
        "        # Tune the learning rate for the optimizer \n",
        "        hp_learning_rate=hp.Float('learning_rate', min_value=1e-4, max_value=1e-2, sampling='LOG', default= 0.0005)\n",
        "       # -------------------------------------------------------\n",
        "        model.compile(loss='mse',\n",
        "                    optimizer= keras.optimizers.Adam(learning_rate=hp_learning_rate),\n",
        "                    metrics= ['mae','mse']\n",
        "                     )\n",
        "\n",
        "        return model\n",
        "\n",
        "hypermodel= ANNhypermodel(input_shape = (X_test.shape[1], X_test.shape[2]))\n",
        "#hypermodel = CNNHyperModel(input_shape = (X_test.shape[1], X_test.shape[2]))"
      ],
      "metadata": {
        "id": "6sH3KVfoj7jq"
      },
      "execution_count": 45,
      "outputs": []
    },
    {
      "cell_type": "markdown",
      "source": [
        "###Build Random Search Tuner"
      ],
      "metadata": {
        "id": "Vw6sRopRkNq-"
      }
    },
    {
      "cell_type": "code",
      "source": [
        "tuner_rs = RandomSearch(\n",
        "            hypermodel,\n",
        "            objective='mse',\n",
        "            seed=42,\n",
        "            max_trials=10,\n",
        "            executions_per_trial=2, overwrite=True\n",
        "        )"
      ],
      "metadata": {
        "id": "oPWNkr_dj7ng"
      },
      "execution_count": 46,
      "outputs": []
    },
    {
      "cell_type": "markdown",
      "source": [
        "###Run Random Search"
      ],
      "metadata": {
        "id": "UH8vIpuOkl0V"
      }
    },
    {
      "cell_type": "code",
      "source": [
        "tuner_rs.search(X_train, y_train, epochs=16, validation_split=0.2, verbose=0)"
      ],
      "metadata": {
        "id": "XC6nlTF4j7rN"
      },
      "execution_count": 47,
      "outputs": []
    },
    {
      "cell_type": "markdown",
      "source": [
        "###Evaluate Random Search"
      ],
      "metadata": {
        "id": "ZWc0whe7l-_0"
      }
    },
    {
      "cell_type": "code",
      "source": [
        "best_model = tuner_rs.get_best_models(num_models=1)[0]\n",
        "mse_rs = best_model.evaluate(X_test, y_test)[1]"
      ],
      "metadata": {
        "colab": {
          "base_uri": "https://localhost:8080/"
        },
        "id": "V0u8mTuTj7wl",
        "outputId": "c5cfd337-203a-434d-b2ca-b3e0248b2aba"
      },
      "execution_count": 48,
      "outputs": [
        {
          "output_type": "stream",
          "name": "stdout",
          "text": [
            "1/1 [==============================] - 0s 326ms/step - loss: 0.2848 - mae: 0.5200 - mse: 0.2848\n"
          ]
        }
      ]
    },
    {
      "cell_type": "markdown",
      "source": [
        "####Random Search MSE = 0.1198"
      ],
      "metadata": {
        "id": "9jgCzQ74mQjM"
      }
    },
    {
      "cell_type": "code",
      "source": [
        "best_params = tuner_rs.get_best_hyperparameters()\n",
        "\n",
        "best_params[0].values"
      ],
      "metadata": {
        "colab": {
          "base_uri": "https://localhost:8080/"
        },
        "id": "jJ5NIqxpj72V",
        "outputId": "ba1bf259-718c-41a7-d906-4f623cc25a2d"
      },
      "execution_count": 49,
      "outputs": [
        {
          "output_type": "execute_result",
          "data": {
            "text/plain": [
              "{'units_1': 128,\n",
              " 'units_2': 96,\n",
              " 'units_3': 32,\n",
              " 'units_4': 16,\n",
              " 'dropout': 0.0,\n",
              " 'optimizer': 'sgd',\n",
              " 'batch_size': 88,\n",
              " 'epoch': 55,\n",
              " 'learning_rate': 0.0033137745378583987}"
            ]
          },
          "metadata": {},
          "execution_count": 49
        }
      ]
    },
    {
      "cell_type": "markdown",
      "source": [
        "###Build Bayesian Optimization"
      ],
      "metadata": {
        "id": "AxWQfBYpnLjI"
      }
    },
    {
      "cell_type": "code",
      "source": [
        "tuner_bo = BayesianOptimization(\n",
        "            hypermodel,\n",
        "            objective='val_mse',\n",
        "            max_trials=10,\n",
        "            seed=42,\n",
        "            executions_per_trial=2,\n",
        "            directory='bo'\n",
        "        )"
      ],
      "metadata": {
        "id": "uixpiCLPmsaZ"
      },
      "execution_count": 50,
      "outputs": []
    },
    {
      "cell_type": "markdown",
      "source": [
        "###Run Bayesian Optimization"
      ],
      "metadata": {
        "id": "_lTWVuDcoYU9"
      }
    },
    {
      "cell_type": "code",
      "source": [
        "tuner_bo.search(X_train, y_train, epochs=10, validation_split=0.2, verbose=0)\n",
        "\n",
        "best_model = tuner_bo.get_best_models(num_models=1)[0]\n",
        "mse_bo = best_model.evaluate(X_test, y_test)[1]"
      ],
      "metadata": {
        "id": "L6qZa1Kvmsgn",
        "outputId": "5c5091df-83d3-46d7-c9e8-805a9351dcac",
        "colab": {
          "base_uri": "https://localhost:8080/"
        }
      },
      "execution_count": 51,
      "outputs": [
        {
          "output_type": "stream",
          "name": "stdout",
          "text": [
            "1/1 [==============================] - 0s 333ms/step - loss: 0.1671 - mae: 0.3887 - mse: 0.1671\n"
          ]
        }
      ]
    },
    {
      "cell_type": "markdown",
      "source": [
        "###Bayesian Optimization Search MSE = 0.3479"
      ],
      "metadata": {
        "id": "KiNYUG96ZUIz"
      }
    },
    {
      "cell_type": "markdown",
      "source": [
        "###Evaluate Bayesian Optimization"
      ],
      "metadata": {
        "id": "Ppb8qezeoe7c"
      }
    },
    {
      "cell_type": "code",
      "source": [
        "best_params = tuner_bo.get_best_hyperparameters()\n",
        "\n",
        "best_params[0].values"
      ],
      "metadata": {
        "colab": {
          "base_uri": "https://localhost:8080/"
        },
        "id": "0bDWDTrOmsm1",
        "outputId": "6d627e58-b6fd-467f-a649-2ef66e6ea627"
      },
      "execution_count": 52,
      "outputs": [
        {
          "output_type": "execute_result",
          "data": {
            "text/plain": [
              "{'units_1': 160,\n",
              " 'units_2': 64,\n",
              " 'units_3': 32,\n",
              " 'units_4': 24,\n",
              " 'dropout': 0.05,\n",
              " 'optimizer': 'sgd',\n",
              " 'batch_size': 72,\n",
              " 'epoch': 20,\n",
              " 'learning_rate': 0.0038287047044982298}"
            ]
          },
          "metadata": {},
          "execution_count": 52
        }
      ]
    },
    {
      "cell_type": "code",
      "source": [
        "best_model = tuner_bo.get_best_models(num_models=1)[0]\n",
        "mse_bo = best_model.evaluate(X_test, y_test)[1]"
      ],
      "metadata": {
        "colab": {
          "base_uri": "https://localhost:8080/"
        },
        "id": "odraTQ8KbUw9",
        "outputId": "3346f000-4dff-488a-bd8e-9f2dca41bb77"
      },
      "execution_count": 53,
      "outputs": [
        {
          "output_type": "stream",
          "name": "stderr",
          "text": [
            "WARNING:tensorflow:Detecting that an object or model or tf.train.Checkpoint is being deleted with unrestored values. See the following logs for the specific values in question. To silence these warnings, use `status.expect_partial()`. See https://www.tensorflow.org/api_docs/python/tf/train/Checkpoint#restorefor details about the status object returned by the restore function.\n",
            "WARNING:tensorflow:Value in checkpoint could not be found in the restored object: (root).optimizer.iter\n",
            "WARNING:tensorflow:Value in checkpoint could not be found in the restored object: (root).optimizer.beta_1\n",
            "WARNING:tensorflow:Value in checkpoint could not be found in the restored object: (root).optimizer.beta_2\n",
            "WARNING:tensorflow:Value in checkpoint could not be found in the restored object: (root).optimizer.decay\n",
            "WARNING:tensorflow:Value in checkpoint could not be found in the restored object: (root).optimizer.learning_rate\n"
          ]
        },
        {
          "output_type": "stream",
          "name": "stdout",
          "text": [
            "1/1 [==============================] - 0s 312ms/step - loss: 0.1671 - mae: 0.3887 - mse: 0.1671\n"
          ]
        }
      ]
    },
    {
      "cell_type": "markdown",
      "source": [
        "###Build HYPERBAND optimization"
      ],
      "metadata": {
        "id": "9rYL672xrXtU"
      }
    },
    {
      "cell_type": "code",
      "source": [
        "MAX_TRIALS = 20\n",
        "tuner= RandomSearch(hypermodel,\n",
        "               objective= 'val_mse',\n",
        "               max_trials= MAX_TRIALS,\n",
        "               executions_per_trial= 2,\n",
        "               directory= 'random_search',\n",
        "               project_name='randomsearch',\n",
        "               overwrite=True)"
      ],
      "metadata": {
        "id": "CqxbIHGxmstL"
      },
      "execution_count": 54,
      "outputs": []
    },
    {
      "cell_type": "code",
      "source": [
        "HYPERBAND_MAX_EPOCHS = 150\n",
        "EXECUTION_PER_TRIAL = 2\n",
        "\n",
        "tuner= Hyperband(hypermodel,\n",
        "                   objective= 'val_mse',\n",
        "                   max_epochs=HYPERBAND_MAX_EPOCHS, #Set 100+ for good results\n",
        "                   executions_per_trial=EXECUTION_PER_TRIAL,\n",
        "                   directory= 'hyperband',\n",
        "                   project_name='hyper',\n",
        "                   overwrite=True)\n",
        "\n",
        "# tuner.search_space_summary()"
      ],
      "metadata": {
        "id": "eaGs4DAFosPl"
      },
      "execution_count": 55,
      "outputs": []
    },
    {
      "cell_type": "code",
      "source": [
        "print('searching for the best params!')\n",
        "\n",
        "t0 = time()\n",
        "tuner.search(x= X_train,\n",
        "             y= y_train,\n",
        "             epochs=100,\n",
        "             batch_size= 64,\n",
        "             validation_data= (X_test, y_test),\n",
        "             verbose=0,\n",
        "             callbacks= []\n",
        "            )\n",
        "print(time()- t0,\" secs\")\n",
        "\n",
        "# Retreive the optimal hyperparameters\n",
        "best_hps= tuner.get_best_hyperparameters(num_trials=1)[0]\n",
        "\n",
        "# Retrieve the best model\n",
        "best_model = tuner.get_best_models(num_models=1)[0]"
      ],
      "metadata": {
        "colab": {
          "base_uri": "https://localhost:8080/"
        },
        "id": "NXf_LR3mosWn",
        "outputId": "d3c5cc84-9f8f-4364-8ad2-3662464580d9"
      },
      "execution_count": 56,
      "outputs": [
        {
          "metadata": {
            "tags": null
          },
          "name": "stderr",
          "output_type": "stream",
          "text": [
            "WARNING:tensorflow:Detecting that an object or model or tf.train.Checkpoint is being deleted with unrestored values. See the following logs for the specific values in question. To silence these warnings, use `status.expect_partial()`. See https://www.tensorflow.org/api_docs/python/tf/train/Checkpoint#restorefor details about the status object returned by the restore function.\n",
            "WARNING:tensorflow:Value in checkpoint could not be found in the restored object: (root).optimizer.iter\n",
            "WARNING:tensorflow:Value in checkpoint could not be found in the restored object: (root).optimizer.beta_1\n",
            "WARNING:tensorflow:Value in checkpoint could not be found in the restored object: (root).optimizer.beta_2\n",
            "WARNING:tensorflow:Value in checkpoint could not be found in the restored object: (root).optimizer.decay\n",
            "WARNING:tensorflow:Value in checkpoint could not be found in the restored object: (root).optimizer.learning_rate\n"
          ]
        },
        {
          "metadata": {
            "tags": null
          },
          "name": "stdout",
          "output_type": "stream",
          "text": [
            "searching for the best params!\n"
          ]
        },
        {
          "metadata": {
            "tags": null
          },
          "name": "stderr",
          "output_type": "stream",
          "text": [
            "WARNING:tensorflow:5 out of the last 15 calls to <function Model.make_test_function.<locals>.test_function at 0x7f56aa3db8b0> triggered tf.function retracing. Tracing is expensive and the excessive number of tracings could be due to (1) creating @tf.function repeatedly in a loop, (2) passing tensors with different shapes, (3) passing Python objects instead of tensors. For (1), please define your @tf.function outside of the loop. For (2), @tf.function has reduce_retracing=True option that can avoid unnecessary retracing. For (3), please refer to https://www.tensorflow.org/guide/function#controlling_retracing and https://www.tensorflow.org/api_docs/python/tf/function for  more details.\n",
            "WARNING:tensorflow:6 out of the last 17 calls to <function Model.make_test_function.<locals>.test_function at 0x7f5690769670> triggered tf.function retracing. Tracing is expensive and the excessive number of tracings could be due to (1) creating @tf.function repeatedly in a loop, (2) passing tensors with different shapes, (3) passing Python objects instead of tensors. For (1), please define your @tf.function outside of the loop. For (2), @tf.function has reduce_retracing=True option that can avoid unnecessary retracing. For (3), please refer to https://www.tensorflow.org/guide/function#controlling_retracing and https://www.tensorflow.org/api_docs/python/tf/function for  more details.\n"
          ]
        },
        {
          "output_type": "stream",
          "name": "stdout",
          "text": [
            "806.4004509449005  secs\n"
          ]
        }
      ]
    },
    {
      "cell_type": "code",
      "source": [
        "print(f\"\"\"\n",
        "The hyperparameter search is complete. The optimal number of units in the \n",
        "first densely-connected layer is {best_hps.get('units_1')},\n",
        "second layer is {best_hps.get('units_2')} \n",
        "third layer is {best_hps.get('units_3')} \n",
        "fourth layer is {best_hps.get('units_4')}\n",
        "drop out is {best_hps.get('dropout')}\n",
        "batch_size is {best_hps.get('batch_size')}\n",
        "epoch is {best_hps.get('epoch')}\n",
        "optimizer is {best_hps.get('optimizer')}\n",
        "\n",
        "#learning rate is {best_hps.get('learning_rate')}                                        \n",
        "\n",
        "and the optimal learning rate for the optimizer\n",
        "is {best_hps.get('learning_rate')}.\n",
        "\"\"\")\n",
        "\n",
        "# Evaluate the best model.\n",
        "print(best_model.metrics_names)\n",
        "loss, mae, mse = best_model.evaluate(X_test, y_test)\n",
        "print(f'loss:{loss} mae: {mae} mse: {mse}')\n",
        "\n",
        "'''\n",
        "print(best_hps.get('units'))\n",
        "print(best_hps.get('layers'))\n",
        "print(best_hps.get('window'))\n",
        "print(best_hps.get('learning_rate'))\n",
        "'''"
      ],
      "metadata": {
        "colab": {
          "base_uri": "https://localhost:8080/",
          "height": 410
        },
        "id": "UcOC-csfrvmH",
        "outputId": "974c8449-8a8c-4f7f-be37-a0199c51e72f"
      },
      "execution_count": 59,
      "outputs": [
        {
          "output_type": "stream",
          "name": "stdout",
          "text": [
            "\n",
            "The hyperparameter search is complete. The optimal number of units in the \n",
            "first densely-connected layer is 128,\n",
            "second layer is 64 \n",
            "third layer is 64 \n",
            "fourth layer is 24\n",
            "drop out is 0.1\n",
            "batch_size is 16\n",
            "epoch is 55\n",
            "optimizer is adagrad\n",
            "\n",
            "#learning rate is 0.006820026103064649                                        \n",
            "\n",
            "and the optimal learning rate for the optimizer\n",
            "is 0.006820026103064649.\n",
            "\n",
            "['loss', 'mae', 'mse']\n",
            "1/1 [==============================] - 0s 21ms/step - loss: 0.0120 - mae: 0.0957 - mse: 0.0120\n",
            "loss:0.012042706832289696 mae: 0.0957101583480835 mse: 0.012042706832289696\n"
          ]
        },
        {
          "output_type": "execute_result",
          "data": {
            "text/plain": [
              "\"\\nprint(best_hps.get('units'))\\nprint(best_hps.get('layers'))\\nprint(best_hps.get('window'))\\nprint(best_hps.get('learning_rate'))\\n\""
            ],
            "application/vnd.google.colaboratory.intrinsic+json": {
              "type": "string"
            }
          },
          "metadata": {},
          "execution_count": 59
        }
      ]
    },
    {
      "cell_type": "code",
      "source": [
        "# Get the optimal hyperparameters\n",
        "best_hps = tuner.get_best_hyperparameters(num_trials = 1)[0]\n",
        "print(best_hps.values)"
      ],
      "metadata": {
        "id": "q0e8tSIulgh_",
        "outputId": "90c4be46-d4bc-44fc-a1a8-d0d5c300e0eb",
        "colab": {
          "base_uri": "https://localhost:8080/"
        }
      },
      "execution_count": 60,
      "outputs": [
        {
          "output_type": "stream",
          "name": "stdout",
          "text": [
            "{'units_1': 128, 'units_2': 64, 'units_3': 64, 'units_4': 24, 'dropout': 0.1, 'optimizer': 'adagrad', 'batch_size': 16, 'epoch': 55, 'learning_rate': 0.006820026103064649, 'tuner/epochs': 6, 'tuner/initial_epoch': 0, 'tuner/bracket': 3, 'tuner/round': 0}\n"
          ]
        }
      ]
    },
    {
      "cell_type": "markdown",
      "source": [
        "###Apply the trained parameters to the CNN"
      ],
      "metadata": {
        "id": "oggNSpcVpofH"
      }
    },
    {
      "cell_type": "code",
      "source": [
        "TUcnn_model = tf.keras.Sequential()\n",
        "TUcnn_model.add(tf.keras.layers.Conv1D(filters=128, kernel_size=2, activation='tanh', input_shape=(X_test.shape[1], X_test.shape[2])))\n",
        "TUcnn_model.add(tf.keras.layers.Dense(64, activation='tanh'))\n",
        "TUcnn_model.add(tf.keras.layers.MaxPooling1D(pool_size=2))\n",
        "TUcnn_model.add(tf.keras.layers.Flatten())\n",
        "\n",
        "##Hidden Layer\n",
        "TUcnn_model.add(tf.keras.layers.Dense(64))\n",
        "TUcnn_model.add(tf.keras.layers.Dense(24))\n",
        "TUcnn_model.add(layers.Dropout(0.1))\n",
        "\n",
        "#Output layer of model\n",
        "TUcnn_model.add(tf.keras.layers.Dense(1))"
      ],
      "metadata": {
        "id": "exKbi-BBYxAt"
      },
      "execution_count": 84,
      "outputs": []
    },
    {
      "cell_type": "code",
      "source": [
        "TUcnn_model.compile(loss = 'mse', optimizer= tf.keras.optimizers.Adagrad(learning_rate=0.006820026103064649), metrics= ['mae', 'mse'])\n",
        "#TUcnn_model.compile(optimizer='rmsprop',loss='mse',metrics=['mse']),\n",
        "history = TUcnn_model.fit(X_train, y_train, epochs=55, batch_size=16,validation_split=0.2,shuffle=False) # 80/160"
      ],
      "metadata": {
        "colab": {
          "base_uri": "https://localhost:8080/"
        },
        "id": "2OVvMjqyY2kW",
        "outputId": "1ff0f794-fb59-43be-ec67-ab0d689588b9"
      },
      "execution_count": 85,
      "outputs": [
        {
          "output_type": "stream",
          "name": "stdout",
          "text": [
            "Epoch 1/55\n",
            "5/5 [==============================] - 1s 49ms/step - loss: 0.8106 - mae: 0.6585 - mse: 0.8106 - val_loss: 0.1997 - val_mae: 0.4264 - val_mse: 0.1997\n",
            "Epoch 2/55\n",
            "5/5 [==============================] - 0s 9ms/step - loss: 0.0817 - mae: 0.2163 - mse: 0.0817 - val_loss: 0.0811 - val_mae: 0.2370 - val_mse: 0.0811\n",
            "Epoch 3/55\n",
            "5/5 [==============================] - 0s 13ms/step - loss: 0.0580 - mae: 0.2081 - mse: 0.0580 - val_loss: 0.0745 - val_mae: 0.2309 - val_mse: 0.0745\n",
            "Epoch 4/55\n",
            "5/5 [==============================] - 0s 9ms/step - loss: 0.0428 - mae: 0.1712 - mse: 0.0428 - val_loss: 0.0491 - val_mae: 0.1847 - val_mse: 0.0491\n",
            "Epoch 5/55\n",
            "5/5 [==============================] - 0s 9ms/step - loss: 0.0443 - mae: 0.1772 - mse: 0.0443 - val_loss: 0.0235 - val_mae: 0.1226 - val_mse: 0.0235\n",
            "Epoch 6/55\n",
            "5/5 [==============================] - 0s 9ms/step - loss: 0.0376 - mae: 0.1538 - mse: 0.0376 - val_loss: 0.0132 - val_mae: 0.0960 - val_mse: 0.0132\n",
            "Epoch 7/55\n",
            "5/5 [==============================] - 0s 9ms/step - loss: 0.0314 - mae: 0.1387 - mse: 0.0314 - val_loss: 0.0150 - val_mae: 0.1017 - val_mse: 0.0150\n",
            "Epoch 8/55\n",
            "5/5 [==============================] - 0s 9ms/step - loss: 0.0300 - mae: 0.1327 - mse: 0.0300 - val_loss: 0.0124 - val_mae: 0.0935 - val_mse: 0.0124\n",
            "Epoch 9/55\n",
            "5/5 [==============================] - 0s 9ms/step - loss: 0.0270 - mae: 0.1339 - mse: 0.0270 - val_loss: 0.0140 - val_mae: 0.1006 - val_mse: 0.0140\n",
            "Epoch 10/55\n",
            "5/5 [==============================] - 0s 9ms/step - loss: 0.0267 - mae: 0.1255 - mse: 0.0267 - val_loss: 0.0101 - val_mae: 0.0826 - val_mse: 0.0101\n",
            "Epoch 11/55\n",
            "5/5 [==============================] - 0s 9ms/step - loss: 0.0195 - mae: 0.1129 - mse: 0.0195 - val_loss: 0.0126 - val_mae: 0.0967 - val_mse: 0.0126\n",
            "Epoch 12/55\n",
            "5/5 [==============================] - 0s 10ms/step - loss: 0.0196 - mae: 0.1109 - mse: 0.0196 - val_loss: 0.0108 - val_mae: 0.0802 - val_mse: 0.0108\n",
            "Epoch 13/55\n",
            "5/5 [==============================] - 0s 9ms/step - loss: 0.0221 - mae: 0.1113 - mse: 0.0221 - val_loss: 0.0106 - val_mae: 0.0878 - val_mse: 0.0106\n",
            "Epoch 14/55\n",
            "5/5 [==============================] - 0s 9ms/step - loss: 0.0181 - mae: 0.1057 - mse: 0.0181 - val_loss: 0.0113 - val_mae: 0.0922 - val_mse: 0.0113\n",
            "Epoch 15/55\n",
            "5/5 [==============================] - 0s 13ms/step - loss: 0.0210 - mae: 0.1115 - mse: 0.0210 - val_loss: 0.0111 - val_mae: 0.0914 - val_mse: 0.0111\n",
            "Epoch 16/55\n",
            "5/5 [==============================] - 0s 9ms/step - loss: 0.0182 - mae: 0.1082 - mse: 0.0182 - val_loss: 0.0112 - val_mae: 0.0923 - val_mse: 0.0112\n",
            "Epoch 17/55\n",
            "5/5 [==============================] - 0s 12ms/step - loss: 0.0178 - mae: 0.1048 - mse: 0.0178 - val_loss: 0.0106 - val_mae: 0.0888 - val_mse: 0.0106\n",
            "Epoch 18/55\n",
            "5/5 [==============================] - 0s 9ms/step - loss: 0.0176 - mae: 0.1027 - mse: 0.0176 - val_loss: 0.0104 - val_mae: 0.0877 - val_mse: 0.0104\n",
            "Epoch 19/55\n",
            "5/5 [==============================] - 0s 12ms/step - loss: 0.0159 - mae: 0.0953 - mse: 0.0159 - val_loss: 0.0109 - val_mae: 0.0817 - val_mse: 0.0109\n",
            "Epoch 20/55\n",
            "5/5 [==============================] - 0s 10ms/step - loss: 0.0133 - mae: 0.0937 - mse: 0.0133 - val_loss: 0.0108 - val_mae: 0.0824 - val_mse: 0.0108\n",
            "Epoch 21/55\n",
            "5/5 [==============================] - 0s 10ms/step - loss: 0.0188 - mae: 0.1105 - mse: 0.0188 - val_loss: 0.0108 - val_mae: 0.0900 - val_mse: 0.0108\n",
            "Epoch 22/55\n",
            "5/5 [==============================] - 0s 9ms/step - loss: 0.0154 - mae: 0.0997 - mse: 0.0154 - val_loss: 0.0114 - val_mae: 0.0945 - val_mse: 0.0114\n",
            "Epoch 23/55\n",
            "5/5 [==============================] - 0s 9ms/step - loss: 0.0149 - mae: 0.0922 - mse: 0.0149 - val_loss: 0.0107 - val_mae: 0.0876 - val_mse: 0.0107\n",
            "Epoch 24/55\n",
            "5/5 [==============================] - 0s 9ms/step - loss: 0.0149 - mae: 0.0983 - mse: 0.0149 - val_loss: 0.0164 - val_mae: 0.0963 - val_mse: 0.0164\n",
            "Epoch 25/55\n",
            "5/5 [==============================] - 0s 9ms/step - loss: 0.0141 - mae: 0.0926 - mse: 0.0141 - val_loss: 0.0111 - val_mae: 0.0928 - val_mse: 0.0111\n",
            "Epoch 26/55\n",
            "5/5 [==============================] - 0s 9ms/step - loss: 0.0133 - mae: 0.0945 - mse: 0.0133 - val_loss: 0.0112 - val_mae: 0.0835 - val_mse: 0.0112\n",
            "Epoch 27/55\n",
            "5/5 [==============================] - 0s 13ms/step - loss: 0.0160 - mae: 0.0945 - mse: 0.0160 - val_loss: 0.0111 - val_mae: 0.0866 - val_mse: 0.0111\n",
            "Epoch 28/55\n",
            "5/5 [==============================] - 0s 9ms/step - loss: 0.0147 - mae: 0.0943 - mse: 0.0147 - val_loss: 0.0129 - val_mae: 0.0842 - val_mse: 0.0129\n",
            "Epoch 29/55\n",
            "5/5 [==============================] - 0s 9ms/step - loss: 0.0137 - mae: 0.0892 - mse: 0.0137 - val_loss: 0.0113 - val_mae: 0.0865 - val_mse: 0.0113\n",
            "Epoch 30/55\n",
            "5/5 [==============================] - 0s 9ms/step - loss: 0.0128 - mae: 0.0902 - mse: 0.0128 - val_loss: 0.0114 - val_mae: 0.0865 - val_mse: 0.0114\n",
            "Epoch 31/55\n",
            "5/5 [==============================] - 0s 9ms/step - loss: 0.0132 - mae: 0.0858 - mse: 0.0132 - val_loss: 0.0124 - val_mae: 0.0842 - val_mse: 0.0124\n",
            "Epoch 32/55\n",
            "5/5 [==============================] - 0s 9ms/step - loss: 0.0142 - mae: 0.0895 - mse: 0.0142 - val_loss: 0.0121 - val_mae: 0.0863 - val_mse: 0.0121\n",
            "Epoch 33/55\n",
            "5/5 [==============================] - 0s 9ms/step - loss: 0.0127 - mae: 0.0856 - mse: 0.0127 - val_loss: 0.0158 - val_mae: 0.0954 - val_mse: 0.0158\n",
            "Epoch 34/55\n",
            "5/5 [==============================] - 0s 9ms/step - loss: 0.0104 - mae: 0.0797 - mse: 0.0104 - val_loss: 0.0123 - val_mae: 0.0856 - val_mse: 0.0123\n",
            "Epoch 35/55\n",
            "5/5 [==============================] - 0s 9ms/step - loss: 0.0216 - mae: 0.1108 - mse: 0.0216 - val_loss: 0.0194 - val_mae: 0.1084 - val_mse: 0.0194\n",
            "Epoch 36/55\n",
            "5/5 [==============================] - 0s 13ms/step - loss: 0.0159 - mae: 0.0941 - mse: 0.0159 - val_loss: 0.0129 - val_mae: 0.0869 - val_mse: 0.0129\n",
            "Epoch 37/55\n",
            "5/5 [==============================] - 0s 9ms/step - loss: 0.0122 - mae: 0.0842 - mse: 0.0122 - val_loss: 0.0134 - val_mae: 0.0886 - val_mse: 0.0134\n",
            "Epoch 38/55\n",
            "5/5 [==============================] - 0s 9ms/step - loss: 0.0139 - mae: 0.0925 - mse: 0.0139 - val_loss: 0.0130 - val_mae: 0.0893 - val_mse: 0.0130\n",
            "Epoch 39/55\n",
            "5/5 [==============================] - 0s 11ms/step - loss: 0.0135 - mae: 0.0911 - mse: 0.0135 - val_loss: 0.0131 - val_mae: 0.0903 - val_mse: 0.0131\n",
            "Epoch 40/55\n",
            "5/5 [==============================] - 0s 10ms/step - loss: 0.0128 - mae: 0.0871 - mse: 0.0128 - val_loss: 0.0128 - val_mae: 0.0914 - val_mse: 0.0128\n",
            "Epoch 41/55\n",
            "5/5 [==============================] - 0s 9ms/step - loss: 0.0109 - mae: 0.0845 - mse: 0.0109 - val_loss: 0.0145 - val_mae: 0.0923 - val_mse: 0.0145\n",
            "Epoch 42/55\n",
            "5/5 [==============================] - 0s 9ms/step - loss: 0.0120 - mae: 0.0842 - mse: 0.0120 - val_loss: 0.0175 - val_mae: 0.1037 - val_mse: 0.0175\n",
            "Epoch 43/55\n",
            "5/5 [==============================] - 0s 9ms/step - loss: 0.0096 - mae: 0.0795 - mse: 0.0096 - val_loss: 0.0148 - val_mae: 0.0928 - val_mse: 0.0148\n",
            "Epoch 44/55\n",
            "5/5 [==============================] - 0s 11ms/step - loss: 0.0108 - mae: 0.0784 - mse: 0.0108 - val_loss: 0.0165 - val_mae: 0.1006 - val_mse: 0.0165\n",
            "Epoch 45/55\n",
            "5/5 [==============================] - 0s 9ms/step - loss: 0.0112 - mae: 0.0848 - mse: 0.0112 - val_loss: 0.0153 - val_mae: 0.0957 - val_mse: 0.0153\n",
            "Epoch 46/55\n",
            "5/5 [==============================] - 0s 9ms/step - loss: 0.0118 - mae: 0.0828 - mse: 0.0118 - val_loss: 0.0149 - val_mae: 0.0945 - val_mse: 0.0149\n",
            "Epoch 47/55\n",
            "5/5 [==============================] - 0s 9ms/step - loss: 0.0088 - mae: 0.0722 - mse: 0.0088 - val_loss: 0.0136 - val_mae: 0.0917 - val_mse: 0.0136\n",
            "Epoch 48/55\n",
            "5/5 [==============================] - 0s 9ms/step - loss: 0.0125 - mae: 0.0771 - mse: 0.0125 - val_loss: 0.0181 - val_mae: 0.1063 - val_mse: 0.0181\n",
            "Epoch 49/55\n",
            "5/5 [==============================] - 0s 9ms/step - loss: 0.0117 - mae: 0.0872 - mse: 0.0117 - val_loss: 0.0145 - val_mae: 0.0923 - val_mse: 0.0145\n",
            "Epoch 50/55\n",
            "5/5 [==============================] - 0s 9ms/step - loss: 0.0085 - mae: 0.0771 - mse: 0.0085 - val_loss: 0.0161 - val_mae: 0.0982 - val_mse: 0.0161\n",
            "Epoch 51/55\n",
            "5/5 [==============================] - 0s 9ms/step - loss: 0.0146 - mae: 0.0907 - mse: 0.0146 - val_loss: 0.0163 - val_mae: 0.0988 - val_mse: 0.0163\n",
            "Epoch 52/55\n",
            "5/5 [==============================] - 0s 9ms/step - loss: 0.0123 - mae: 0.0844 - mse: 0.0123 - val_loss: 0.0138 - val_mae: 0.0909 - val_mse: 0.0138\n",
            "Epoch 53/55\n",
            "5/5 [==============================] - 0s 9ms/step - loss: 0.0122 - mae: 0.0875 - mse: 0.0122 - val_loss: 0.0133 - val_mae: 0.0906 - val_mse: 0.0133\n",
            "Epoch 54/55\n",
            "5/5 [==============================] - 0s 9ms/step - loss: 0.0083 - mae: 0.0734 - mse: 0.0083 - val_loss: 0.0166 - val_mae: 0.1011 - val_mse: 0.0166\n",
            "Epoch 55/55\n",
            "5/5 [==============================] - 0s 9ms/step - loss: 0.0109 - mae: 0.0796 - mse: 0.0109 - val_loss: 0.0141 - val_mae: 0.0908 - val_mse: 0.0141\n"
          ]
        }
      ]
    },
    {
      "cell_type": "code",
      "source": [
        "loss = history.history['loss']\n",
        "val_loss = history.history['val_loss']\n",
        "\n",
        "epochs=range(len(loss)) \n",
        "\n",
        "\n",
        "#------------------------------------------------\n",
        "# Plot training and validation loss per epoch\n",
        "#------------------------------------------------\n",
        "plt.plot(epochs, loss, 'r',label='loss')\n",
        "plt.plot(epochs,val_loss,'blue',label='val loss')\n",
        "plt.title('Training loss & Val Loss by Epochs')\n",
        "plt.xlabel(\"Epochs\")\n",
        "plt.ylabel(\"Loss\")\n",
        "plt.legend()\n",
        "\n",
        "plt.figure()"
      ],
      "metadata": {
        "colab": {
          "base_uri": "https://localhost:8080/",
          "height": 439
        },
        "id": "DXBeY_MGZSMP",
        "outputId": "67b3d2d8-4af6-449e-b0d4-ae3c4f9a6d2e"
      },
      "execution_count": 86,
      "outputs": [
        {
          "output_type": "execute_result",
          "data": {
            "text/plain": [
              "<Figure size 720x360 with 0 Axes>"
            ]
          },
          "metadata": {},
          "execution_count": 86
        },
        {
          "output_type": "display_data",
          "data": {
            "text/plain": [
              "<Figure size 720x360 with 1 Axes>"
            ],
            "image/png": "[encoded data removed]"
          },
          "metadata": {}
        },
        {
          "output_type": "display_data",
          "data": {
            "text/plain": [
              "<Figure size 720x360 with 0 Axes>"
            ]
          },
          "metadata": {}
        }
      ]
    },
    {
      "cell_type": "code",
      "source": [
        "y_predTU = TUcnn_model.predict(X_test)\n",
        "y_predTU"
      ],
      "metadata": {
        "colab": {
          "base_uri": "https://localhost:8080/"
        },
        "id": "lHiuk7B6iQVK",
        "outputId": "dc27b4f4-cd90-4012-f6ba-cd86258b99fe"
      },
      "execution_count": 75,
      "outputs": [
        {
          "output_type": "stream",
          "name": "stdout",
          "text": [
            "1/1 [==============================] - 0s 93ms/step\n"
          ]
        },
        {
          "output_type": "execute_result",
          "data": {
            "text/plain": [
              "array([[ 0.07278336],\n",
              "       [ 0.05576514],\n",
              "       [ 0.08758725],\n",
              "       [ 0.10826534],\n",
              "       [ 0.07180464],\n",
              "       [ 0.0653912 ],\n",
              "       [ 0.07258113],\n",
              "       [ 0.04653414],\n",
              "       [-0.00751439],\n",
              "       [-0.03723916],\n",
              "       [-0.02954669],\n",
              "       [-0.01406082],\n",
              "       [-0.0205175 ],\n",
              "       [-0.02137334],\n",
              "       [-0.01926403],\n",
              "       [-0.055294  ],\n",
              "       [-0.0730314 ],\n",
              "       [-0.00672579],\n",
              "       [ 0.06909354],\n",
              "       [ 0.11787214],\n",
              "       [ 0.04200826],\n",
              "       [ 0.04830032]], dtype=float32)"
            ]
          },
          "metadata": {},
          "execution_count": 75
        }
      ]
    },
    {
      "cell_type": "code",
      "source": [
        "y_predTU.reshape(1,-1)"
      ],
      "metadata": {
        "colab": {
          "base_uri": "https://localhost:8080/"
        },
        "id": "JbqyY5OriQYh",
        "outputId": "1896801d-aab5-4f70-c000-f88bd1aea692"
      },
      "execution_count": 76,
      "outputs": [
        {
          "output_type": "execute_result",
          "data": {
            "text/plain": [
              "array([[ 0.07278336,  0.05576514,  0.08758725,  0.10826534,  0.07180464,\n",
              "         0.0653912 ,  0.07258113,  0.04653414, -0.00751439, -0.03723916,\n",
              "        -0.02954669, -0.01406082, -0.0205175 , -0.02137334, -0.01926403,\n",
              "        -0.055294  , -0.0730314 , -0.00672579,  0.06909354,  0.11787214,\n",
              "         0.04200826,  0.04830032]], dtype=float32)"
            ]
          },
          "metadata": {},
          "execution_count": 76
        }
      ]
    },
    {
      "cell_type": "markdown",
      "source": [
        "###Invert Transformed Tuned Data"
      ],
      "metadata": {
        "id": "XXPkM7CFsB5U"
      }
    },
    {
      "cell_type": "code",
      "source": [
        "y_train_inv = cpo_pri_transformer.inverse_transform(y_train.reshape(1, -1))\n",
        "y_test_inv = cpo_pri_transformer.inverse_transform(y_test.reshape(1, -1))\n",
        "y_pred_inv = cpo_pri_transformer.inverse_transform(y_predTU.reshape(1,-1))\n",
        "print(y_train_inv)\n",
        "print(y_test_inv)\n",
        "print(y_pred_inv)"
      ],
      "metadata": {
        "colab": {
          "base_uri": "https://localhost:8080/"
        },
        "id": "gZ8inWeYy64m",
        "outputId": "4a12a6a7-2240-406b-94e1-7fbd5b618e1a"
      },
      "execution_count": 77,
      "outputs": [
        {
          "output_type": "stream",
          "name": "stdout",
          "text": [
            "[[376. 383. 382. 396. 402. 390. 404. 382. 382. 391. 396. 413. 401. 410.\n",
            "  425. 408. 392. 371. 356. 362. 356. 352. 333. 357. 411. 404. 387. 395.\n",
            "  434. 488. 508. 494. 575. 614. 616. 707. 719. 655. 661. 687. 625. 611.\n",
            "  631. 655. 616. 586. 615. 607. 590. 535. 518. 519. 562. 552. 508. 476.\n",
            "  513. 545. 532. 550. 561. 567. 580. 559. 562. 553. 533. 498. 504. 525.\n",
            "  547. 556. 566. 621. 659. 671. 688. 705. 633. 661. 674. 703. 694. 681.\n",
            "  663. 632. 561. 497. 509. 475. 392. 319. 354. 388. 381. 370.]]\n",
            "[[349. 372. 324. 315. 312. 306. 288. 255. 257. 265. 254. 240. 254. 251.\n",
            "  234. 255. 330. 362. 310. 277. 323. 360.]]\n",
            "[[348.11334 341.30606 354.0349  362.30615 347.72186 345.1565  348.03244\n",
            "  337.61365 315.99423 304.10434 307.18134 313.37567 310.793   310.45068\n",
            "  311.2944  296.8824  289.78745 316.3097  346.63742 366.14886 335.80328\n",
            "  338.32013]]\n"
          ]
        }
      ]
    },
    {
      "cell_type": "code",
      "source": [
        "y_train_inv = y_train_inv.flatten()\n",
        "y_train_inv"
      ],
      "metadata": {
        "colab": {
          "base_uri": "https://localhost:8080/"
        },
        "id": "2g9TLmgHy7Hw",
        "outputId": "ceeae365-412b-4e55-cc8f-def3930f261b"
      },
      "execution_count": 78,
      "outputs": [
        {
          "output_type": "execute_result",
          "data": {
            "text/plain": [
              "array([376., 383., 382., 396., 402., 390., 404., 382., 382., 391., 396.,\n",
              "       413., 401., 410., 425., 408., 392., 371., 356., 362., 356., 352.,\n",
              "       333., 357., 411., 404., 387., 395., 434., 488., 508., 494., 575.,\n",
              "       614., 616., 707., 719., 655., 661., 687., 625., 611., 631., 655.,\n",
              "       616., 586., 615., 607., 590., 535., 518., 519., 562., 552., 508.,\n",
              "       476., 513., 545., 532., 550., 561., 567., 580., 559., 562., 553.,\n",
              "       533., 498., 504., 525., 547., 556., 566., 621., 659., 671., 688.,\n",
              "       705., 633., 661., 674., 703., 694., 681., 663., 632., 561., 497.,\n",
              "       509., 475., 392., 319., 354., 388., 381., 370.])"
            ]
          },
          "metadata": {},
          "execution_count": 78
        }
      ]
    },
    {
      "cell_type": "code",
      "source": [
        "y_test_inv = y_test_inv.flatten()\n",
        "y_test_inv"
      ],
      "metadata": {
        "colab": {
          "base_uri": "https://localhost:8080/"
        },
        "id": "PDdnZUrXy7L4",
        "outputId": "d4e3786d-54ff-4121-c0fd-3fb9d3f9316c"
      },
      "execution_count": 79,
      "outputs": [
        {
          "output_type": "execute_result",
          "data": {
            "text/plain": [
              "array([349., 372., 324., 315., 312., 306., 288., 255., 257., 265., 254.,\n",
              "       240., 254., 251., 234., 255., 330., 362., 310., 277., 323., 360.])"
            ]
          },
          "metadata": {},
          "execution_count": 79
        }
      ]
    },
    {
      "cell_type": "code",
      "source": [
        "TU_CNN_Pred = y_pred_inv.flatten()   #y_pred_inv = TU_CNN_Pred\n",
        "TU_CNN_Pred"
      ],
      "metadata": {
        "colab": {
          "base_uri": "https://localhost:8080/"
        },
        "id": "fqq4-3-lsuEy",
        "outputId": "dfa68efe-9d9b-47d2-d40e-fa3792bc67c8"
      },
      "execution_count": 80,
      "outputs": [
        {
          "output_type": "execute_result",
          "data": {
            "text/plain": [
              "array([348.11334, 341.30606, 354.0349 , 362.30615, 347.72186, 345.1565 ,\n",
              "       348.03244, 337.61365, 315.99423, 304.10434, 307.18134, 313.37567,\n",
              "       310.793  , 310.45068, 311.2944 , 296.8824 , 289.78745, 316.3097 ,\n",
              "       346.63742, 366.14886, 335.80328, 338.32013], dtype=float32)"
            ]
          },
          "metadata": {},
          "execution_count": 80
        }
      ]
    },
    {
      "cell_type": "code",
      "source": [
        "plt.plot(np.arange(0, len(y_train)), y_train_inv, color='green', label=\"History\")\n",
        "plt.plot(np.arange(len(y_train), len(y_train) + len(y_test)), y_test_inv, color='blue', marker='.', label=\"Actual\")\n",
        "plt.plot(np.arange(len(y_train), len(y_train) + len(y_test)), TU_CNN_Pred, color='red', label=\"Tuned CNN Prediction\")\n",
        "plt.ylabel('Crude Palm Oil Price')\n",
        "plt.xlabel('Time step')\n",
        "plt.legend()\n",
        "plt.show();"
      ],
      "metadata": {
        "colab": {
          "base_uri": "https://localhost:8080/",
          "height": 382
        },
        "id": "nBN919VXsuNq",
        "outputId": "c487e3d9-81ae-4918-876b-28c00f5d07bb"
      },
      "execution_count": 81,
      "outputs": [
        {
          "output_type": "display_data",
          "data": {
            "text/plain": [
              "<Figure size 720x360 with 1 Axes>"
            ],
            "image/png": "[encoded data removed]"
          },
          "metadata": {}
        }
      ]
    },
    {
      "cell_type": "code",
      "source": [
        "TUMAE_cnn = mean_absolute_error(y_test_inv, TU_CNN_Pred)\n",
        "print('MAE value of the CNN Model is:', TUMAE_cnn)\n",
        "\n",
        "TUMDA_cnn = mda(y_test_inv, TU_CNN_Pred)\n",
        "print('MDA value of the CNN Model is:', TUMDA_cnn)\n",
        "\n",
        "TUMAPE_cnn = mean_absolute_percentage_error(y_test_inv, TU_CNN_Pred)\n",
        "print('MAPE value of the CNN Model is:', TUMAPE_cnn)\n",
        "\n",
        "TURMSE_cnn = mean_squared_error(y_test_inv,TU_CNN_Pred, squared=False)\n",
        "print('RMSE value of the CNN Model is:', TURMSE_cnn)\n",
        "\n",
        "TUMSE_cnn = mean_squared_error(y_test_inv,TU_CNN_Pred)\n",
        "print('MSE value of the CNN Model is:', TUMSE_cnn)"
      ],
      "metadata": {
        "colab": {
          "base_uri": "https://localhost:8080/"
        },
        "id": "FqciJO0esuRc",
        "outputId": "48f496d1-1546-4665-cc38-0ec74f451f01"
      },
      "execution_count": 82,
      "outputs": [
        {
          "output_type": "stream",
          "name": "stdout",
          "text": [
            "MAE value of the CNN Model is: 46.9406571821733\n",
            "MDA value of the CNN Model is: 0.2857142857142857\n",
            "MAPE value of the CNN Model is: 16.99088414807523\n",
            "RMSE value of the CNN Model is: 51.63665822862262\n",
            "MSE value of the CNN Model is: 2666.3444730195806\n"
          ]
        }
      ]
    },
    {
      "cell_type": "markdown",
      "source": [
        "Tuned CNN Actual VS Predicted Zoomed-IN"
      ],
      "metadata": {
        "id": "oczznVkQihRI"
      }
    },
    {
      "cell_type": "code",
      "source": [
        "plt.figure(figsize=(17,9))\n",
        "#plt.grid()\n",
        "#plt.plot(np.arange(0, len(y_train)), y_train_inv, color='green', label=\"History\")\n",
        "plt.plot(np.arange(len(y_train), len(y_train) + len(y_test)), y_test_inv, color='red', marker='.', label=\"Actual\")\n",
        "plt.plot(np.arange(len(y_train), len(y_train) + len(y_test)), TU_CNN_Pred, color='green', label=\"Tuned CNN Prediction\")\n",
        "plt.ylabel('Crude Palm Oil Price')\n",
        "plt.xlabel('Time step')\n",
        "plt.legend()\n",
        "ax.grid()\n",
        "#plt.grid()\n",
        "#plt.show();"
      ],
      "metadata": {
        "colab": {
          "base_uri": "https://localhost:8080/",
          "height": 424
        },
        "id": "RmqyhCu_iV_w",
        "outputId": "bcb1de20-adfa-4a9e-b355-7d2f29817413"
      },
      "execution_count": 83,
      "outputs": [
        {
          "output_type": "display_data",
          "data": {
            "text/plain": [
              "<Figure size 1224x648 with 1 Axes>"
            ],
            "image/png": "[encoded data removed]"
          },
          "metadata": {}
        }
      ]
    },
    {
      "cell_type": "markdown",
      "source": [
        "##Results\n",
        "\n",
        "Baseline MSE         = 0.0188\n",
        "\n",
        "Random search MSE    = 0.1198\n",
        "\n",
        "Bayesian search MSE  = 0.3479\n",
        "\n",
        "Hyperband search MSE = 0.0114\n",
        "\n",
        "Baseline RSME        = 54.80\n",
        "\n",
        "Tuned CNN RSME       = 46.57"
      ],
      "metadata": {
        "id": "xMdKc2DKj1e-"
      }
    },
    {
      "cell_type": "code",
      "source": [
        "#Plot the graph between actual vs predicted values\n",
        "plt.figure(figsize=(15,7))  #(10,6))\n",
        "plt.plot(TU_CNN_Pred, color= 'green',marker='.',label = 'Tuned CNN Predicted for cpo_pri')\n",
        "plt.plot(y_test_inv, color = 'red',marker='.',label = 'Actual cpo_pri ')\n",
        "plt.title(\"Tuned CNN Crude Palm Oil Price Prediction (Multivariate)\")\n",
        "plt.xlabel(\"Date\")\n",
        "plt.ylabel(\"Crude Palm Oil Price\")\n",
        "plt.legend()\n",
        "plt.show()\n",
        "plt.savefig('graph_cnn.png')"
      ],
      "metadata": {
        "colab": {
          "base_uri": "https://localhost:8080/",
          "height": 517
        },
        "id": "p2ROa7tdIDw1",
        "outputId": "1a338844-fc2d-4f95-bb07-dcb0c72cf0e5"
      },
      "execution_count": null,
      "outputs": [
        {
          "output_type": "display_data",
          "data": {
            "text/plain": [
              "<Figure size 1080x504 with 1 Axes>"
            ],
            "image/png": "[encoded data removed]"
          },
          "metadata": {}
        },
        {
          "output_type": "display_data",
          "data": {
            "text/plain": [
              "<Figure size 720x360 with 0 Axes>"
            ]
          },
          "metadata": {}
        }
      ]
    },
    {
      "cell_type": "code",
      "source": [
        "dataframe1=pd.DataFrame(y_test_inv, columns=['Actual']) \n",
        "print (dataframe1)"
      ],
      "metadata": {
        "colab": {
          "base_uri": "https://localhost:8080/"
        },
        "id": "Ikde_3HIRxN1",
        "outputId": "2ad63d3c-7149-4e13-96ea-bad13627d2fe"
      },
      "execution_count": null,
      "outputs": [
        {
          "output_type": "stream",
          "name": "stdout",
          "text": [
            "    Actual\n",
            "0    349.0\n",
            "1    372.0\n",
            "2    324.0\n",
            "3    315.0\n",
            "4    312.0\n",
            "5    306.0\n",
            "6    288.0\n",
            "7    255.0\n",
            "8    257.0\n",
            "9    265.0\n",
            "10   254.0\n",
            "11   240.0\n",
            "12   254.0\n",
            "13   251.0\n",
            "14   234.0\n",
            "15   255.0\n",
            "16   330.0\n",
            "17   362.0\n",
            "18   310.0\n",
            "19   277.0\n",
            "20   323.0\n",
            "21   360.0\n"
          ]
        }
      ]
    },
    {
      "cell_type": "code",
      "source": [
        "dataframe2=pd.DataFrame(TU_CNN_Pred, columns=['TU_CNN_Pred']) \n",
        "print (dataframe2)"
      ],
      "metadata": {
        "id": "hv93aOpUVYLh",
        "colab": {
          "base_uri": "https://localhost:8080/"
        },
        "outputId": "51202fd7-9731-4ad5-ab73-ded7ff7817a8"
      },
      "execution_count": null,
      "outputs": [
        {
          "output_type": "stream",
          "name": "stdout",
          "text": [
            "    TU_CNN_Pred\n",
            "0    344.218903\n",
            "1    341.584686\n",
            "2    353.894501\n",
            "3    355.339630\n",
            "4    342.074219\n",
            "5    335.313416\n",
            "6    333.718719\n",
            "7    329.926910\n",
            "8    309.756226\n",
            "9    291.540192\n",
            "10   295.723907\n",
            "11   301.633362\n",
            "12   295.315063\n",
            "13   288.760864\n",
            "14   291.093109\n",
            "15   286.227875\n",
            "16   273.371735\n",
            "17   289.342834\n",
            "18   337.855591\n",
            "19   365.395325\n",
            "20   342.059265\n",
            "21   329.132385\n"
          ]
        }
      ]
    },
    {
      "cell_type": "code",
      "source": [
        " df.to_csv('actual.csv', index=False)"
      ],
      "metadata": {
        "id": "L0ewVCYKjNot"
      },
      "execution_count": null,
      "outputs": []
    },
    {
      "cell_type": "code",
      "source": [
        "df.to_csv('TU_CNN_Pred.csv', index=False)"
      ],
      "metadata": {
        "id": "qSmTNvAnTfID"
      },
      "execution_count": null,
      "outputs": []
    },
    {
      "cell_type": "code",
      "source": [
        "  '''\n",
        "        model.add(\n",
        "            Dense(\n",
        "                units=hp.Int(\n",
        "                    'batch_size',\n",
        "                    min_value=10,\n",
        "                    max_value=128,\n",
        "                    step=16,\n",
        "                    default=16\n",
        "                )\n",
        "\n",
        "            )\n",
        "\n",
        "       )\n",
        "       '''"
      ],
      "metadata": {
        "id": "EggPIIPvTfL6"
      },
      "execution_count": null,
      "outputs": []
    },
    {
      "cell_type": "code",
      "source": [
        "model.add(\n",
        "            Dense(\n",
        "                units=hp.Int(\n",
        "                    'units',\n",
        "                    min_value=32,\n",
        "                    max_value=512,\n",
        "                    step=32,\n",
        "                    default=128\n",
        "                ),"
      ],
      "metadata": {
        "id": "IN4SwmYDTfP8"
      },
      "execution_count": null,
      "outputs": []
    },
    {
      "cell_type": "code",
      "source": [
        "hp.Float(\n",
        "                    'learning_rate',\n",
        "                    min_value=1e-4,\n",
        "                    max_value=1e-2,\n",
        "                    sampling='LOG',\n",
        "                    default=1e-3\n",
        "                )\n",
        "            ),"
      ],
      "metadata": {
        "id": "_anfdAx0TfT7"
      },
      "execution_count": null,
      "outputs": []
    },
    {
      "cell_type": "code",
      "source": [],
      "metadata": {
        "id": "EFRIlqZ7EX-o"
      },
      "execution_count": null,
      "outputs": []
    },
    {
      "cell_type": "code",
      "source": [],
      "metadata": {
        "id": "SHAZ3NF6EYCY"
      },
      "execution_count": null,
      "outputs": []
    }
  ]
}