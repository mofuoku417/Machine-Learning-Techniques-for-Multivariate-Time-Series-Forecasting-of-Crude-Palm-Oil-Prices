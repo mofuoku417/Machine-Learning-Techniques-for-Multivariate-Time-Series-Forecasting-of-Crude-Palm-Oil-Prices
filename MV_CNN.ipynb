{
  "nbformat": 4,
  "nbformat_minor": 0,
  "metadata": {
    "colab": {
      "name": "MV_CNN.ipynb",
      "provenance": [],
      "authorship_tag": "ABX9TyNyVrISEI/DkJUOHsPH8APR",
      "include_colab_link": true
    },
    "kernelspec": {
      "name": "python3",
      "display_name": "Python 3"
    },
    "language_info": {
      "name": "python"
    },
    "gpuClass": "standard",
    "accelerator": "GPU"
  },
  "cells": [
    {
      "cell_type": "markdown",
      "metadata": {
        "id": "view-in-github",
        "colab_type": "text"
      },
      "source": [
        "<a href=\"https://colab.research.google.com/github/mofuoku417/Machine-Learning-Techniques-for-Multivariate-Time-Series-Forecasting-of-Crude-Palm-Oil-Prices/blob/main/MV_CNN.ipynb\" target=\"_parent\"><img src=\"https://colab.research.google.com/assets/colab-badge.svg\" alt=\"Open In Colab\"/></a>"
      ]
    },
    {
      "cell_type": "markdown",
      "source": [
        "##Objective: Predict Monthly Crude Palm Oil Price Using Convolutional Neural Network (CNN)"
      ],
      "metadata": {
        "id": "tt6Yvzr3gZ-g"
      }
    },
    {
      "cell_type": "markdown",
      "source": [
        "###Install dependencies"
      ],
      "metadata": {
        "id": "TvRmatc1Lo4v"
      }
    },
    {
      "cell_type": "code",
      "source": [
        "!pip install scikeras\n",
        "!pip install bayesian-optimization\n",
        "!pip install keras-tuner --upgrade"
      ],
      "metadata": {
        "id": "gGw0m6TUdgMM",
        "outputId": "03b44b7b-7df6-49b8-f6eb-619f838bd194",
        "colab": {
          "base_uri": "https://localhost:8080/"
        }
      },
      "execution_count": 1,
      "outputs": [
        {
          "output_type": "stream",
          "name": "stdout",
          "text": [
            "Looking in indexes: https://pypi.org/simple, https://us-python.pkg.dev/colab-wheels/public/simple/\n",
            "Collecting scikeras\n",
            "  Downloading scikeras-0.10.0-py3-none-any.whl (27 kB)\n",
            "Requirement already satisfied: scikit-learn>=1.0.0 in /usr/local/lib/python3.8/dist-packages (from scikeras) (1.0.2)\n",
            "Requirement already satisfied: packaging>=0.21 in /usr/local/lib/python3.8/dist-packages (from scikeras) (23.0)\n",
            "Requirement already satisfied: threadpoolctl>=2.0.0 in /usr/local/lib/python3.8/dist-packages (from scikit-learn>=1.0.0->scikeras) (3.1.0)\n",
            "Requirement already satisfied: numpy>=1.14.6 in /usr/local/lib/python3.8/dist-packages (from scikit-learn>=1.0.0->scikeras) (1.21.6)\n",
            "Requirement already satisfied: joblib>=0.11 in /usr/local/lib/python3.8/dist-packages (from scikit-learn>=1.0.0->scikeras) (1.2.0)\n",
            "Requirement already satisfied: scipy>=1.1.0 in /usr/local/lib/python3.8/dist-packages (from scikit-learn>=1.0.0->scikeras) (1.7.3)\n",
            "Installing collected packages: scikeras\n",
            "Successfully installed scikeras-0.10.0\n",
            "Looking in indexes: https://pypi.org/simple, https://us-python.pkg.dev/colab-wheels/public/simple/\n",
            "Collecting bayesian-optimization\n",
            "  Downloading bayesian_optimization-1.4.2-py3-none-any.whl (17 kB)\n",
            "Requirement already satisfied: scikit-learn>=0.18.0 in /usr/local/lib/python3.8/dist-packages (from bayesian-optimization) (1.0.2)\n",
            "Requirement already satisfied: numpy>=1.9.0 in /usr/local/lib/python3.8/dist-packages (from bayesian-optimization) (1.21.6)\n",
            "Collecting colorama>=0.4.6\n",
            "  Downloading colorama-0.4.6-py2.py3-none-any.whl (25 kB)\n",
            "Requirement already satisfied: scipy>=1.0.0 in /usr/local/lib/python3.8/dist-packages (from bayesian-optimization) (1.7.3)\n",
            "Requirement already satisfied: threadpoolctl>=2.0.0 in /usr/local/lib/python3.8/dist-packages (from scikit-learn>=0.18.0->bayesian-optimization) (3.1.0)\n",
            "Requirement already satisfied: joblib>=0.11 in /usr/local/lib/python3.8/dist-packages (from scikit-learn>=0.18.0->bayesian-optimization) (1.2.0)\n",
            "Installing collected packages: colorama, bayesian-optimization\n",
            "Successfully installed bayesian-optimization-1.4.2 colorama-0.4.6\n",
            "Looking in indexes: https://pypi.org/simple, https://us-python.pkg.dev/colab-wheels/public/simple/\n",
            "Collecting keras-tuner\n",
            "  Downloading keras_tuner-1.2.0-py3-none-any.whl (168 kB)\n",
            "\u001b[2K     \u001b[90m━━━━━━━━━━━━━━━━━━━━━━━━━━━━━━━━━━━━━━━\u001b[0m \u001b[32m168.1/168.1 KB\u001b[0m \u001b[31m3.2 MB/s\u001b[0m eta \u001b[36m0:00:00\u001b[0m\n",
            "\u001b[?25hRequirement already satisfied: tensorflow>=2.0 in /usr/local/lib/python3.8/dist-packages (from keras-tuner) (2.9.2)\n",
            "Collecting kt-legacy\n",
            "  Downloading kt_legacy-1.0.4-py3-none-any.whl (9.6 kB)\n",
            "Requirement already satisfied: packaging in /usr/local/lib/python3.8/dist-packages (from keras-tuner) (23.0)\n",
            "Requirement already satisfied: requests in /usr/local/lib/python3.8/dist-packages (from keras-tuner) (2.25.1)\n",
            "Requirement already satisfied: ipython in /usr/local/lib/python3.8/dist-packages (from keras-tuner) (7.9.0)\n",
            "Requirement already satisfied: astunparse>=1.6.0 in /usr/local/lib/python3.8/dist-packages (from tensorflow>=2.0->keras-tuner) (1.6.3)\n",
            "Requirement already satisfied: gast<=0.4.0,>=0.2.1 in /usr/local/lib/python3.8/dist-packages (from tensorflow>=2.0->keras-tuner) (0.4.0)\n",
            "Requirement already satisfied: h5py>=2.9.0 in /usr/local/lib/python3.8/dist-packages (from tensorflow>=2.0->keras-tuner) (3.1.0)\n",
            "Requirement already satisfied: tensorboard<2.10,>=2.9 in /usr/local/lib/python3.8/dist-packages (from tensorflow>=2.0->keras-tuner) (2.9.1)\n",
            "Requirement already satisfied: google-pasta>=0.1.1 in /usr/local/lib/python3.8/dist-packages (from tensorflow>=2.0->keras-tuner) (0.2.0)\n",
            "Requirement already satisfied: absl-py>=1.0.0 in /usr/local/lib/python3.8/dist-packages (from tensorflow>=2.0->keras-tuner) (1.4.0)\n",
            "Requirement already satisfied: wrapt>=1.11.0 in /usr/local/lib/python3.8/dist-packages (from tensorflow>=2.0->keras-tuner) (1.14.1)\n",
            "Requirement already satisfied: grpcio<2.0,>=1.24.3 in /usr/local/lib/python3.8/dist-packages (from tensorflow>=2.0->keras-tuner) (1.51.1)\n",
            "Requirement already satisfied: termcolor>=1.1.0 in /usr/local/lib/python3.8/dist-packages (from tensorflow>=2.0->keras-tuner) (2.2.0)\n",
            "Requirement already satisfied: flatbuffers<2,>=1.12 in /usr/local/lib/python3.8/dist-packages (from tensorflow>=2.0->keras-tuner) (1.12)\n",
            "Requirement already satisfied: protobuf<3.20,>=3.9.2 in /usr/local/lib/python3.8/dist-packages (from tensorflow>=2.0->keras-tuner) (3.19.6)\n",
            "Requirement already satisfied: libclang>=13.0.0 in /usr/local/lib/python3.8/dist-packages (from tensorflow>=2.0->keras-tuner) (15.0.6.1)\n",
            "Requirement already satisfied: setuptools in /usr/local/lib/python3.8/dist-packages (from tensorflow>=2.0->keras-tuner) (57.4.0)\n",
            "Requirement already satisfied: six>=1.12.0 in /usr/local/lib/python3.8/dist-packages (from tensorflow>=2.0->keras-tuner) (1.15.0)\n",
            "Requirement already satisfied: typing-extensions>=3.6.6 in /usr/local/lib/python3.8/dist-packages (from tensorflow>=2.0->keras-tuner) (4.4.0)\n",
            "Requirement already satisfied: tensorflow-io-gcs-filesystem>=0.23.1 in /usr/local/lib/python3.8/dist-packages (from tensorflow>=2.0->keras-tuner) (0.30.0)\n",
            "Requirement already satisfied: numpy>=1.20 in /usr/local/lib/python3.8/dist-packages (from tensorflow>=2.0->keras-tuner) (1.21.6)\n",
            "Requirement already satisfied: tensorflow-estimator<2.10.0,>=2.9.0rc0 in /usr/local/lib/python3.8/dist-packages (from tensorflow>=2.0->keras-tuner) (2.9.0)\n",
            "Requirement already satisfied: keras-preprocessing>=1.1.1 in /usr/local/lib/python3.8/dist-packages (from tensorflow>=2.0->keras-tuner) (1.1.2)\n",
            "Requirement already satisfied: opt-einsum>=2.3.2 in /usr/local/lib/python3.8/dist-packages (from tensorflow>=2.0->keras-tuner) (3.3.0)\n",
            "Requirement already satisfied: keras<2.10.0,>=2.9.0rc0 in /usr/local/lib/python3.8/dist-packages (from tensorflow>=2.0->keras-tuner) (2.9.0)\n",
            "Requirement already satisfied: backcall in /usr/local/lib/python3.8/dist-packages (from ipython->keras-tuner) (0.2.0)\n",
            "Collecting jedi>=0.10\n",
            "  Downloading jedi-0.18.2-py2.py3-none-any.whl (1.6 MB)\n",
            "\u001b[2K     \u001b[90m━━━━━━━━━━━━━━━━━━━━━━━━━━━━━━━━━━━━━━━━\u001b[0m \u001b[32m1.6/1.6 MB\u001b[0m \u001b[31m11.4 MB/s\u001b[0m eta \u001b[36m0:00:00\u001b[0m\n",
            "\u001b[?25hRequirement already satisfied: prompt-toolkit<2.1.0,>=2.0.0 in /usr/local/lib/python3.8/dist-packages (from ipython->keras-tuner) (2.0.10)\n",
            "Requirement already satisfied: decorator in /usr/local/lib/python3.8/dist-packages (from ipython->keras-tuner) (4.4.2)\n",
            "Requirement already satisfied: pickleshare in /usr/local/lib/python3.8/dist-packages (from ipython->keras-tuner) (0.7.5)\n",
            "Requirement already satisfied: pygments in /usr/local/lib/python3.8/dist-packages (from ipython->keras-tuner) (2.6.1)\n",
            "Requirement already satisfied: pexpect in /usr/local/lib/python3.8/dist-packages (from ipython->keras-tuner) (4.8.0)\n",
            "Requirement already satisfied: traitlets>=4.2 in /usr/local/lib/python3.8/dist-packages (from ipython->keras-tuner) (5.7.1)\n",
            "Requirement already satisfied: idna<3,>=2.5 in /usr/local/lib/python3.8/dist-packages (from requests->keras-tuner) (2.10)\n",
            "Requirement already satisfied: urllib3<1.27,>=1.21.1 in /usr/local/lib/python3.8/dist-packages (from requests->keras-tuner) (1.24.3)\n",
            "Requirement already satisfied: certifi>=2017.4.17 in /usr/local/lib/python3.8/dist-packages (from requests->keras-tuner) (2022.12.7)\n",
            "Requirement already satisfied: chardet<5,>=3.0.2 in /usr/local/lib/python3.8/dist-packages (from requests->keras-tuner) (4.0.0)\n",
            "Requirement already satisfied: wheel<1.0,>=0.23.0 in /usr/local/lib/python3.8/dist-packages (from astunparse>=1.6.0->tensorflow>=2.0->keras-tuner) (0.38.4)\n",
            "Requirement already satisfied: parso<0.9.0,>=0.8.0 in /usr/local/lib/python3.8/dist-packages (from jedi>=0.10->ipython->keras-tuner) (0.8.3)\n",
            "Requirement already satisfied: wcwidth in /usr/local/lib/python3.8/dist-packages (from prompt-toolkit<2.1.0,>=2.0.0->ipython->keras-tuner) (0.2.6)\n",
            "Requirement already satisfied: werkzeug>=1.0.1 in /usr/local/lib/python3.8/dist-packages (from tensorboard<2.10,>=2.9->tensorflow>=2.0->keras-tuner) (1.0.1)\n",
            "Requirement already satisfied: google-auth<3,>=1.6.3 in /usr/local/lib/python3.8/dist-packages (from tensorboard<2.10,>=2.9->tensorflow>=2.0->keras-tuner) (2.16.0)\n",
            "Requirement already satisfied: google-auth-oauthlib<0.5,>=0.4.1 in /usr/local/lib/python3.8/dist-packages (from tensorboard<2.10,>=2.9->tensorflow>=2.0->keras-tuner) (0.4.6)\n",
            "Requirement already satisfied: tensorboard-plugin-wit>=1.6.0 in /usr/local/lib/python3.8/dist-packages (from tensorboard<2.10,>=2.9->tensorflow>=2.0->keras-tuner) (1.8.1)\n",
            "Requirement already satisfied: tensorboard-data-server<0.7.0,>=0.6.0 in /usr/local/lib/python3.8/dist-packages (from tensorboard<2.10,>=2.9->tensorflow>=2.0->keras-tuner) (0.6.1)\n",
            "Requirement already satisfied: markdown>=2.6.8 in /usr/local/lib/python3.8/dist-packages (from tensorboard<2.10,>=2.9->tensorflow>=2.0->keras-tuner) (3.4.1)\n",
            "Requirement already satisfied: ptyprocess>=0.5 in /usr/local/lib/python3.8/dist-packages (from pexpect->ipython->keras-tuner) (0.7.0)\n",
            "Requirement already satisfied: rsa<5,>=3.1.4 in /usr/local/lib/python3.8/dist-packages (from google-auth<3,>=1.6.3->tensorboard<2.10,>=2.9->tensorflow>=2.0->keras-tuner) (4.9)\n",
            "Requirement already satisfied: cachetools<6.0,>=2.0.0 in /usr/local/lib/python3.8/dist-packages (from google-auth<3,>=1.6.3->tensorboard<2.10,>=2.9->tensorflow>=2.0->keras-tuner) (5.3.0)\n",
            "Requirement already satisfied: pyasn1-modules>=0.2.1 in /usr/local/lib/python3.8/dist-packages (from google-auth<3,>=1.6.3->tensorboard<2.10,>=2.9->tensorflow>=2.0->keras-tuner) (0.2.8)\n",
            "Requirement already satisfied: requests-oauthlib>=0.7.0 in /usr/local/lib/python3.8/dist-packages (from google-auth-oauthlib<0.5,>=0.4.1->tensorboard<2.10,>=2.9->tensorflow>=2.0->keras-tuner) (1.3.1)\n",
            "Requirement already satisfied: importlib-metadata>=4.4 in /usr/local/lib/python3.8/dist-packages (from markdown>=2.6.8->tensorboard<2.10,>=2.9->tensorflow>=2.0->keras-tuner) (6.0.0)\n",
            "Requirement already satisfied: zipp>=0.5 in /usr/local/lib/python3.8/dist-packages (from importlib-metadata>=4.4->markdown>=2.6.8->tensorboard<2.10,>=2.9->tensorflow>=2.0->keras-tuner) (3.12.0)\n",
            "Requirement already satisfied: pyasn1<0.5.0,>=0.4.6 in /usr/local/lib/python3.8/dist-packages (from pyasn1-modules>=0.2.1->google-auth<3,>=1.6.3->tensorboard<2.10,>=2.9->tensorflow>=2.0->keras-tuner) (0.4.8)\n",
            "Requirement already satisfied: oauthlib>=3.0.0 in /usr/local/lib/python3.8/dist-packages (from requests-oauthlib>=0.7.0->google-auth-oauthlib<0.5,>=0.4.1->tensorboard<2.10,>=2.9->tensorflow>=2.0->keras-tuner) (3.2.2)\n",
            "Installing collected packages: kt-legacy, jedi, keras-tuner\n",
            "Successfully installed jedi-0.18.2 keras-tuner-1.2.0 kt-legacy-1.0.4\n"
          ]
        }
      ]
    },
    {
      "cell_type": "markdown",
      "source": [
        "###Load Libraries"
      ],
      "metadata": {
        "id": "r_2Cswg0sYN8"
      }
    },
    {
      "cell_type": "code",
      "source": [
        "from numpy.random import seed\n",
        "seed(1)\n",
        "import tensorflow as tf\n",
        "tf.random.set_seed(1)\n",
        "\n",
        "import pandas as pd\n",
        "import numpy as np\n",
        "import matplotlib.pyplot as plt\n",
        "import pickle\n",
        "import os\n",
        "import seaborn as sns\n",
        "plt.rcParams['figure.figsize'] = (10, 5)\n",
        "plt.style.use('fivethirtyeight')\n",
        "from plotly.subplots import make_subplots\n",
        "import plotly.graph_objects as go\n",
        "import tensorflow as tf\n",
        "from tensorflow.keras import layers\n",
        "from sklearn.metrics import mean_absolute_error\n",
        "from sklearn.metrics import make_scorer, mean_squared_error\n",
        "from keras.layers import Dense, Dropout\n",
        "from sklearn.metrics import explained_variance_score\n",
        "from sklearn.neural_network import MLPRegressor\n",
        "from sklearn.model_selection import GridSearchCV, RandomizedSearchCV\n",
        "import warnings\n",
        "warnings.filterwarnings('ignore')\n",
        "from keras.models import Sequential\n",
        "from keras.layers import Dense\n",
        "from keras.wrappers.scikit_learn import KerasRegressor\n",
        "from keras.wrappers.scikit_learn import KerasClassifier\n",
        "from sklearn.model_selection import KFold, cross_val_score\n",
        "from scikeras.wrappers import KerasRegressor\n",
        "from tensorflow import keras\n",
        "from kerastuner.tuners import RandomSearch\n",
        "from kerastuner import HyperModel, RandomSearch, Hyperband, BayesianOptimization\n",
        "from keras.callbacks import EarlyStopping\n",
        "from time import time\n",
        "import pickle\n",
        "\n",
        "import matplotlib.dates as mdates\n",
        "from sklearn.preprocessing import RobustScaler\n",
        "from sklearn.preprocessing import MinMaxScaler"
      ],
      "metadata": {
        "id": "eJUaw5qy34It"
      },
      "execution_count": 2,
      "outputs": []
    },
    {
      "cell_type": "markdown",
      "source": [
        "###Define Functions to Facilitate Metrics Evaluation"
      ],
      "metadata": {
        "id": "Gzu9V2o2gfZG"
      }
    },
    {
      "cell_type": "code",
      "source": [
        "#To compute Mean Directional Accuracy\n",
        "def mda(actual: np.ndarray, predicted: np.ndarray):\n",
        "    \"\"\" Mean Directional Accuracy \"\"\"\n",
        "    return np.mean((np.sign(actual[1:] - actual[:-1]) == np.sign(predicted[1:] - predicted[:-1])).astype(int))\n",
        "\n",
        "#Calculate the Mean Absolute Percentage Error\n",
        "#def MAPE(y_true, y_pred): \n",
        "    #mape = np.mean(np.abs((np.array(y_true) - np.array(y_pred)) / np.array(y_true))) * 100\n",
        "    #return mape\n",
        "\n",
        "def mean_absolute_percentage_error(y_true, y_pred): \n",
        "    y_true, y_pred = np.array(y_true), np.array(y_pred)\n",
        "    return np.mean(np.abs((y_true - y_pred) / y_true)) * 100\n",
        "\n",
        "def MAPE(y_true, y_pred): \n",
        "    y_true, y_pred = np.array(y_true), np.array(y_pred)\n",
        "    return np.mean(np.abs((y_true - y_pred) / y_true)) * 100\n",
        "\n",
        "#Calculate the Root Mean Squared Error:\n",
        "def RMSE(y_true, y_pred): \n",
        "    rmse = np.sqrt(mean_squared_error(y_true, y_pred))\n",
        "    return rmse"
      ],
      "metadata": {
        "id": "k7RYx1rN_Yf_"
      },
      "execution_count": 3,
      "outputs": []
    },
    {
      "cell_type": "markdown",
      "source": [
        "###Load the Cleaned Data from Github"
      ],
      "metadata": {
        "id": "FVpIGyF7g4od"
      }
    },
    {
      "cell_type": "code",
      "source": [
        "from pandas import read_csv\n",
        "path = 'https://raw.githubusercontent.com/mofuoku417/Machine-Learning-Techniques-for-Multivariate-Time-Series-Forecasting-of-Crude-Palm-Oil-Prices/main/Cleaned_data/FS_2.csv'\n",
        "df = read_csv(path)\n",
        "df.head()"
      ],
      "metadata": {
        "colab": {
          "base_uri": "https://localhost:8080/",
          "height": 226
        },
        "id": "z_6wFR8b3xZf",
        "outputId": "685ed5c9-327a-44e1-9131-bedcf22e9297"
      },
      "execution_count": 4,
      "outputs": [
        {
          "output_type": "execute_result",
          "data": {
            "text/plain": [
              "      date  cpo_pri  cno_pri  oli_pri  rps_pri  pno_pri  sbo_pri  sfo_pri\n",
              "0  12/1/10      323      455  3102.61   423.45    844.0    468.0    578.0\n",
              "1   1/1/11      345      546  3100.45   415.85    799.0    485.0    557.0\n",
              "2   2/1/11      362      595  3199.41   410.77    718.0    466.0    552.0\n",
              "3   3/1/11      376      636  3281.67   414.82    614.0    442.0    574.0\n",
              "4   4/1/11      383      738  3261.65   451.04    619.0    429.0    595.0"
            ],
            "text/html": [
              "\n",
              "  <div id=\"df-8f2ae2cd-3b9a-4f65-b8e5-0fd6af58a990\">\n",
              "    <div class=\"colab-df-container\">\n",
              "      <div>\n",
              "<style scoped>\n",
              "    .dataframe tbody tr th:only-of-type {\n",
              "        vertical-align: middle;\n",
              "    }\n",
              "\n",
              "    .dataframe tbody tr th {\n",
              "        vertical-align: top;\n",
              "    }\n",
              "\n",
              "    .dataframe thead th {\n",
              "        text-align: right;\n",
              "    }\n",
              "</style>\n",
              "<table border=\"1\" class=\"dataframe\">\n",
              "  <thead>\n",
              "    <tr style=\"text-align: right;\">\n",
              "      <th></th>\n",
              "      <th>date</th>\n",
              "      <th>cpo_pri</th>\n",
              "      <th>cno_pri</th>\n",
              "      <th>oli_pri</th>\n",
              "      <th>rps_pri</th>\n",
              "      <th>pno_pri</th>\n",
              "      <th>sbo_pri</th>\n",
              "      <th>sfo_pri</th>\n",
              "    </tr>\n",
              "  </thead>\n",
              "  <tbody>\n",
              "    <tr>\n",
              "      <th>0</th>\n",
              "      <td>12/1/10</td>\n",
              "      <td>323</td>\n",
              "      <td>455</td>\n",
              "      <td>3102.61</td>\n",
              "      <td>423.45</td>\n",
              "      <td>844.0</td>\n",
              "      <td>468.0</td>\n",
              "      <td>578.0</td>\n",
              "    </tr>\n",
              "    <tr>\n",
              "      <th>1</th>\n",
              "      <td>1/1/11</td>\n",
              "      <td>345</td>\n",
              "      <td>546</td>\n",
              "      <td>3100.45</td>\n",
              "      <td>415.85</td>\n",
              "      <td>799.0</td>\n",
              "      <td>485.0</td>\n",
              "      <td>557.0</td>\n",
              "    </tr>\n",
              "    <tr>\n",
              "      <th>2</th>\n",
              "      <td>2/1/11</td>\n",
              "      <td>362</td>\n",
              "      <td>595</td>\n",
              "      <td>3199.41</td>\n",
              "      <td>410.77</td>\n",
              "      <td>718.0</td>\n",
              "      <td>466.0</td>\n",
              "      <td>552.0</td>\n",
              "    </tr>\n",
              "    <tr>\n",
              "      <th>3</th>\n",
              "      <td>3/1/11</td>\n",
              "      <td>376</td>\n",
              "      <td>636</td>\n",
              "      <td>3281.67</td>\n",
              "      <td>414.82</td>\n",
              "      <td>614.0</td>\n",
              "      <td>442.0</td>\n",
              "      <td>574.0</td>\n",
              "    </tr>\n",
              "    <tr>\n",
              "      <th>4</th>\n",
              "      <td>4/1/11</td>\n",
              "      <td>383</td>\n",
              "      <td>738</td>\n",
              "      <td>3261.65</td>\n",
              "      <td>451.04</td>\n",
              "      <td>619.0</td>\n",
              "      <td>429.0</td>\n",
              "      <td>595.0</td>\n",
              "    </tr>\n",
              "  </tbody>\n",
              "</table>\n",
              "</div>\n",
              "      <button class=\"colab-df-convert\" onclick=\"convertToInteractive('df-8f2ae2cd-3b9a-4f65-b8e5-0fd6af58a990')\"\n",
              "              title=\"Convert this dataframe to an interactive table.\"\n",
              "              style=\"display:none;\">\n",
              "        \n",
              "  <svg xmlns=\"http://www.w3.org/2000/svg\" height=\"24px\"viewBox=\"0 0 24 24\"\n",
              "       width=\"24px\">\n",
              "    <path d=\"M0 0h24v24H0V0z\" fill=\"none\"/>\n",
              "    <path d=\"M18.56 5.44l.94 2.06.94-2.06 2.06-.94-2.06-.94-.94-2.06-.94 2.06-2.06.94zm-11 1L8.5 8.5l.94-2.06 2.06-.94-2.06-.94L8.5 2.5l-.94 2.06-2.06.94zm10 10l.94 2.06.94-2.06 2.06-.94-2.06-.94-.94-2.06-.94 2.06-2.06.94z\"/><path d=\"M17.41 7.96l-1.37-1.37c-.4-.4-.92-.59-1.43-.59-.52 0-1.04.2-1.43.59L10.3 9.45l-7.72 7.72c-.78.78-.78 2.05 0 2.83L4 21.41c.39.39.9.59 1.41.59.51 0 1.02-.2 1.41-.59l7.78-7.78 2.81-2.81c.8-.78.8-2.07 0-2.86zM5.41 20L4 18.59l7.72-7.72 1.47 1.35L5.41 20z\"/>\n",
              "  </svg>\n",
              "      </button>\n",
              "      \n",
              "  <style>\n",
              "    .colab-df-container {\n",
              "      display:flex;\n",
              "      flex-wrap:wrap;\n",
              "      gap: 12px;\n",
              "    }\n",
              "\n",
              "    .colab-df-convert {\n",
              "      background-color: #E8F0FE;\n",
              "      border: none;\n",
              "      border-radius: 50%;\n",
              "      cursor: pointer;\n",
              "      display: none;\n",
              "      fill: #1967D2;\n",
              "      height: 32px;\n",
              "      padding: 0 0 0 0;\n",
              "      width: 32px;\n",
              "    }\n",
              "\n",
              "    .colab-df-convert:hover {\n",
              "      background-color: #E2EBFA;\n",
              "      box-shadow: 0px 1px 2px rgba(60, 64, 67, 0.3), 0px 1px 3px 1px rgba(60, 64, 67, 0.15);\n",
              "      fill: #174EA6;\n",
              "    }\n",
              "\n",
              "    [theme=dark] .colab-df-convert {\n",
              "      background-color: #3B4455;\n",
              "      fill: #D2E3FC;\n",
              "    }\n",
              "\n",
              "    [theme=dark] .colab-df-convert:hover {\n",
              "      background-color: #434B5C;\n",
              "      box-shadow: 0px 1px 3px 1px rgba(0, 0, 0, 0.15);\n",
              "      filter: drop-shadow(0px 1px 2px rgba(0, 0, 0, 0.3));\n",
              "      fill: #FFFFFF;\n",
              "    }\n",
              "  </style>\n",
              "\n",
              "      <script>\n",
              "        const buttonEl =\n",
              "          document.querySelector('#df-8f2ae2cd-3b9a-4f65-b8e5-0fd6af58a990 button.colab-df-convert');\n",
              "        buttonEl.style.display =\n",
              "          google.colab.kernel.accessAllowed ? 'block' : 'none';\n",
              "\n",
              "        async function convertToInteractive(key) {\n",
              "          const element = document.querySelector('#df-8f2ae2cd-3b9a-4f65-b8e5-0fd6af58a990');\n",
              "          const dataTable =\n",
              "            await google.colab.kernel.invokeFunction('convertToInteractive',\n",
              "                                                     [key], {});\n",
              "          if (!dataTable) return;\n",
              "\n",
              "          const docLinkHtml = 'Like what you see? Visit the ' +\n",
              "            '<a target=\"_blank\" href=https://colab.research.google.com/notebooks/data_table.ipynb>data table notebook</a>'\n",
              "            + ' to learn more about interactive tables.';\n",
              "          element.innerHTML = '';\n",
              "          dataTable['output_type'] = 'display_data';\n",
              "          await google.colab.output.renderOutput(dataTable, element);\n",
              "          const docLink = document.createElement('div');\n",
              "          docLink.innerHTML = docLinkHtml;\n",
              "          element.appendChild(docLink);\n",
              "        }\n",
              "      </script>\n",
              "    </div>\n",
              "  </div>\n",
              "  "
            ]
          },
          "metadata": {},
          "execution_count": 4
        }
      ]
    },
    {
      "cell_type": "code",
      "source": [
        "df['date']=pd.to_datetime(df['date'])\n",
        "#del df['date']"
      ],
      "metadata": {
        "id": "bABFH7Kd4nBN"
      },
      "execution_count": 5,
      "outputs": []
    },
    {
      "cell_type": "code",
      "source": [
        "df.set_index('date', inplace=True)\n",
        "df.info()"
      ],
      "metadata": {
        "colab": {
          "base_uri": "https://localhost:8080/"
        },
        "id": "nZ-LB-rFdF5N",
        "outputId": "d6233355-32c4-4ed1-fa0b-cab171ea15f0"
      },
      "execution_count": 6,
      "outputs": [
        {
          "output_type": "stream",
          "name": "stdout",
          "text": [
            "<class 'pandas.core.frame.DataFrame'>\n",
            "DatetimeIndex: 124 entries, 2010-12-01 to 2021-03-01\n",
            "Data columns (total 7 columns):\n",
            " #   Column   Non-Null Count  Dtype  \n",
            "---  ------   --------------  -----  \n",
            " 0   cpo_pri  124 non-null    int64  \n",
            " 1   cno_pri  124 non-null    int64  \n",
            " 2   oli_pri  124 non-null    float64\n",
            " 3   rps_pri  124 non-null    float64\n",
            " 4   pno_pri  124 non-null    float64\n",
            " 5   sbo_pri  124 non-null    float64\n",
            " 6   sfo_pri  124 non-null    float64\n",
            "dtypes: float64(5), int64(2)\n",
            "memory usage: 7.8 KB\n"
          ]
        }
      ]
    },
    {
      "cell_type": "code",
      "source": [
        "df.head()"
      ],
      "metadata": {
        "colab": {
          "base_uri": "https://localhost:8080/",
          "height": 258
        },
        "id": "PLpdJChY4wex",
        "outputId": "ad33b81f-1e20-49d7-a18f-66a0ed13ad25"
      },
      "execution_count": 7,
      "outputs": [
        {
          "output_type": "execute_result",
          "data": {
            "text/plain": [
              "            cpo_pri  cno_pri  oli_pri  rps_pri  pno_pri  sbo_pri  sfo_pri\n",
              "date                                                                     \n",
              "2010-12-01      323      455  3102.61   423.45    844.0    468.0    578.0\n",
              "2011-01-01      345      546  3100.45   415.85    799.0    485.0    557.0\n",
              "2011-02-01      362      595  3199.41   410.77    718.0    466.0    552.0\n",
              "2011-03-01      376      636  3281.67   414.82    614.0    442.0    574.0\n",
              "2011-04-01      383      738  3261.65   451.04    619.0    429.0    595.0"
            ],
            "text/html": [
              "\n",
              "  <div id=\"df-6d128ad4-a84c-4a1c-ad7d-94994872604e\">\n",
              "    <div class=\"colab-df-container\">\n",
              "      <div>\n",
              "<style scoped>\n",
              "    .dataframe tbody tr th:only-of-type {\n",
              "        vertical-align: middle;\n",
              "    }\n",
              "\n",
              "    .dataframe tbody tr th {\n",
              "        vertical-align: top;\n",
              "    }\n",
              "\n",
              "    .dataframe thead th {\n",
              "        text-align: right;\n",
              "    }\n",
              "</style>\n",
              "<table border=\"1\" class=\"dataframe\">\n",
              "  <thead>\n",
              "    <tr style=\"text-align: right;\">\n",
              "      <th></th>\n",
              "      <th>cpo_pri</th>\n",
              "      <th>cno_pri</th>\n",
              "      <th>oli_pri</th>\n",
              "      <th>rps_pri</th>\n",
              "      <th>pno_pri</th>\n",
              "      <th>sbo_pri</th>\n",
              "      <th>sfo_pri</th>\n",
              "    </tr>\n",
              "    <tr>\n",
              "      <th>date</th>\n",
              "      <th></th>\n",
              "      <th></th>\n",
              "      <th></th>\n",
              "      <th></th>\n",
              "      <th></th>\n",
              "      <th></th>\n",
              "      <th></th>\n",
              "    </tr>\n",
              "  </thead>\n",
              "  <tbody>\n",
              "    <tr>\n",
              "      <th>2010-12-01</th>\n",
              "      <td>323</td>\n",
              "      <td>455</td>\n",
              "      <td>3102.61</td>\n",
              "      <td>423.45</td>\n",
              "      <td>844.0</td>\n",
              "      <td>468.0</td>\n",
              "      <td>578.0</td>\n",
              "    </tr>\n",
              "    <tr>\n",
              "      <th>2011-01-01</th>\n",
              "      <td>345</td>\n",
              "      <td>546</td>\n",
              "      <td>3100.45</td>\n",
              "      <td>415.85</td>\n",
              "      <td>799.0</td>\n",
              "      <td>485.0</td>\n",
              "      <td>557.0</td>\n",
              "    </tr>\n",
              "    <tr>\n",
              "      <th>2011-02-01</th>\n",
              "      <td>362</td>\n",
              "      <td>595</td>\n",
              "      <td>3199.41</td>\n",
              "      <td>410.77</td>\n",
              "      <td>718.0</td>\n",
              "      <td>466.0</td>\n",
              "      <td>552.0</td>\n",
              "    </tr>\n",
              "    <tr>\n",
              "      <th>2011-03-01</th>\n",
              "      <td>376</td>\n",
              "      <td>636</td>\n",
              "      <td>3281.67</td>\n",
              "      <td>414.82</td>\n",
              "      <td>614.0</td>\n",
              "      <td>442.0</td>\n",
              "      <td>574.0</td>\n",
              "    </tr>\n",
              "    <tr>\n",
              "      <th>2011-04-01</th>\n",
              "      <td>383</td>\n",
              "      <td>738</td>\n",
              "      <td>3261.65</td>\n",
              "      <td>451.04</td>\n",
              "      <td>619.0</td>\n",
              "      <td>429.0</td>\n",
              "      <td>595.0</td>\n",
              "    </tr>\n",
              "  </tbody>\n",
              "</table>\n",
              "</div>\n",
              "      <button class=\"colab-df-convert\" onclick=\"convertToInteractive('df-6d128ad4-a84c-4a1c-ad7d-94994872604e')\"\n",
              "              title=\"Convert this dataframe to an interactive table.\"\n",
              "              style=\"display:none;\">\n",
              "        \n",
              "  <svg xmlns=\"http://www.w3.org/2000/svg\" height=\"24px\"viewBox=\"0 0 24 24\"\n",
              "       width=\"24px\">\n",
              "    <path d=\"M0 0h24v24H0V0z\" fill=\"none\"/>\n",
              "    <path d=\"M18.56 5.44l.94 2.06.94-2.06 2.06-.94-2.06-.94-.94-2.06-.94 2.06-2.06.94zm-11 1L8.5 8.5l.94-2.06 2.06-.94-2.06-.94L8.5 2.5l-.94 2.06-2.06.94zm10 10l.94 2.06.94-2.06 2.06-.94-2.06-.94-.94-2.06-.94 2.06-2.06.94z\"/><path d=\"M17.41 7.96l-1.37-1.37c-.4-.4-.92-.59-1.43-.59-.52 0-1.04.2-1.43.59L10.3 9.45l-7.72 7.72c-.78.78-.78 2.05 0 2.83L4 21.41c.39.39.9.59 1.41.59.51 0 1.02-.2 1.41-.59l7.78-7.78 2.81-2.81c.8-.78.8-2.07 0-2.86zM5.41 20L4 18.59l7.72-7.72 1.47 1.35L5.41 20z\"/>\n",
              "  </svg>\n",
              "      </button>\n",
              "      \n",
              "  <style>\n",
              "    .colab-df-container {\n",
              "      display:flex;\n",
              "      flex-wrap:wrap;\n",
              "      gap: 12px;\n",
              "    }\n",
              "\n",
              "    .colab-df-convert {\n",
              "      background-color: #E8F0FE;\n",
              "      border: none;\n",
              "      border-radius: 50%;\n",
              "      cursor: pointer;\n",
              "      display: none;\n",
              "      fill: #1967D2;\n",
              "      height: 32px;\n",
              "      padding: 0 0 0 0;\n",
              "      width: 32px;\n",
              "    }\n",
              "\n",
              "    .colab-df-convert:hover {\n",
              "      background-color: #E2EBFA;\n",
              "      box-shadow: 0px 1px 2px rgba(60, 64, 67, 0.3), 0px 1px 3px 1px rgba(60, 64, 67, 0.15);\n",
              "      fill: #174EA6;\n",
              "    }\n",
              "\n",
              "    [theme=dark] .colab-df-convert {\n",
              "      background-color: #3B4455;\n",
              "      fill: #D2E3FC;\n",
              "    }\n",
              "\n",
              "    [theme=dark] .colab-df-convert:hover {\n",
              "      background-color: #434B5C;\n",
              "      box-shadow: 0px 1px 3px 1px rgba(0, 0, 0, 0.15);\n",
              "      filter: drop-shadow(0px 1px 2px rgba(0, 0, 0, 0.3));\n",
              "      fill: #FFFFFF;\n",
              "    }\n",
              "  </style>\n",
              "\n",
              "      <script>\n",
              "        const buttonEl =\n",
              "          document.querySelector('#df-6d128ad4-a84c-4a1c-ad7d-94994872604e button.colab-df-convert');\n",
              "        buttonEl.style.display =\n",
              "          google.colab.kernel.accessAllowed ? 'block' : 'none';\n",
              "\n",
              "        async function convertToInteractive(key) {\n",
              "          const element = document.querySelector('#df-6d128ad4-a84c-4a1c-ad7d-94994872604e');\n",
              "          const dataTable =\n",
              "            await google.colab.kernel.invokeFunction('convertToInteractive',\n",
              "                                                     [key], {});\n",
              "          if (!dataTable) return;\n",
              "\n",
              "          const docLinkHtml = 'Like what you see? Visit the ' +\n",
              "            '<a target=\"_blank\" href=https://colab.research.google.com/notebooks/data_table.ipynb>data table notebook</a>'\n",
              "            + ' to learn more about interactive tables.';\n",
              "          element.innerHTML = '';\n",
              "          dataTable['output_type'] = 'display_data';\n",
              "          await google.colab.output.renderOutput(dataTable, element);\n",
              "          const docLink = document.createElement('div');\n",
              "          docLink.innerHTML = docLinkHtml;\n",
              "          element.appendChild(docLink);\n",
              "        }\n",
              "      </script>\n",
              "    </div>\n",
              "  </div>\n",
              "  "
            ]
          },
          "metadata": {},
          "execution_count": 7
        }
      ]
    },
    {
      "cell_type": "code",
      "source": [
        "# Plot an area chart\n",
        "plt.figure(figsize=(25,10))\n",
        "ax = df.plot.area(fontsize=12);\n",
        "\n",
        "# Additional customizations\n",
        "ax.set_xlabel('date');\n",
        "ax.legend(fontsize=12);"
      ],
      "metadata": {
        "colab": {
          "base_uri": "https://localhost:8080/",
          "height": 399
        },
        "id": "pnKg-SfY6j9g",
        "outputId": "fb2b4ff9-7a14-47a7-a0ee-5de461d74a32"
      },
      "execution_count": 8,
      "outputs": [
        {
          "output_type": "display_data",
          "data": {
            "text/plain": [
              "<Figure size 1800x720 with 0 Axes>"
            ]
          },
          "metadata": {}
        },
        {
          "output_type": "display_data",
          "data": {
            "text/plain": [
              "<Figure size 720x360 with 1 Axes>"
            ],
            "image/png": "[encoded data removed]"
          },
          "metadata": {}
        }
      ]
    },
    {
      "cell_type": "markdown",
      "source": [
        "##**Convolutional Neural Network Forecasting Technique (CNN)**"
      ],
      "metadata": {
        "id": "dPoGjuS366Cc"
      }
    },
    {
      "cell_type": "markdown",
      "source": [
        "###**Split Data into Train Test Segments**"
      ],
      "metadata": {
        "id": "vFpT6OrD7KRv"
      }
    },
    {
      "cell_type": "code",
      "source": [
        "train_size = int(len(df) * 0.8)\n",
        "test_size = len(df) - train_size\n",
        "train, test = df.iloc[0:train_size], df.iloc[train_size:len(df)]\n",
        "print('Train size:',len(train))\n",
        "print('Test size:', len(test))"
      ],
      "metadata": {
        "colab": {
          "base_uri": "https://localhost:8080/"
        },
        "id": "nYZL-9Sy3xpJ",
        "outputId": "face3ac6-7546-47bf-ec39-326c5a11b1ac"
      },
      "execution_count": 9,
      "outputs": [
        {
          "output_type": "stream",
          "name": "stdout",
          "text": [
            "Train size: 99\n",
            "Test size: 25\n"
          ]
        }
      ]
    },
    {
      "cell_type": "code",
      "source": [
        "split_date = '2019-02'\n",
        "df_training = df.loc[df.index <= split_date]\n",
        "df_test = df.loc[df.index > split_date]\n",
        "print(f\"{len(df_training)} days of training data \\n {len(df_test)} days of testing data \")"
      ],
      "metadata": {
        "colab": {
          "base_uri": "https://localhost:8080/"
        },
        "id": "qKDDSdp_JVu6",
        "outputId": "709c6b2f-1211-42eb-95e7-147810afab11"
      },
      "execution_count": 10,
      "outputs": [
        {
          "output_type": "stream",
          "name": "stdout",
          "text": [
            "99 days of training data \n",
            " 25 days of testing data \n"
          ]
        }
      ]
    },
    {
      "cell_type": "code",
      "source": [
        "train, test = df.iloc[0:train_size], df.iloc[train_size:len(df)]\n",
        "print(len(train), len(test))"
      ],
      "metadata": {
        "colab": {
          "base_uri": "https://localhost:8080/"
        },
        "id": "DGrD2nxFmNSu",
        "outputId": "bd50deca-5f1b-4b44-ff77-f5039fc56e8a"
      },
      "execution_count": 11,
      "outputs": [
        {
          "output_type": "stream",
          "name": "stdout",
          "text": [
            "99 25\n"
          ]
        }
      ]
    },
    {
      "cell_type": "code",
      "source": [
        "print(train.shape)\n",
        "train.head()"
      ],
      "metadata": {
        "colab": {
          "base_uri": "https://localhost:8080/",
          "height": 275
        },
        "id": "QvbHy-5RmPuI",
        "outputId": "f4993c82-23b4-4656-cf5b-4c6d843d8d3c"
      },
      "execution_count": 12,
      "outputs": [
        {
          "output_type": "stream",
          "name": "stdout",
          "text": [
            "(99, 7)\n"
          ]
        },
        {
          "output_type": "execute_result",
          "data": {
            "text/plain": [
              "            cpo_pri  cno_pri  oli_pri  rps_pri  pno_pri  sbo_pri  sfo_pri\n",
              "date                                                                     \n",
              "2010-12-01      323      455  3102.61   423.45    844.0    468.0    578.0\n",
              "2011-01-01      345      546  3100.45   415.85    799.0    485.0    557.0\n",
              "2011-02-01      362      595  3199.41   410.77    718.0    466.0    552.0\n",
              "2011-03-01      376      636  3281.67   414.82    614.0    442.0    574.0\n",
              "2011-04-01      383      738  3261.65   451.04    619.0    429.0    595.0"
            ],
            "text/html": [
              "\n",
              "  <div id=\"df-a827a553-5c49-4f0c-83b7-590167a29e1d\">\n",
              "    <div class=\"colab-df-container\">\n",
              "      <div>\n",
              "<style scoped>\n",
              "    .dataframe tbody tr th:only-of-type {\n",
              "        vertical-align: middle;\n",
              "    }\n",
              "\n",
              "    .dataframe tbody tr th {\n",
              "        vertical-align: top;\n",
              "    }\n",
              "\n",
              "    .dataframe thead th {\n",
              "        text-align: right;\n",
              "    }\n",
              "</style>\n",
              "<table border=\"1\" class=\"dataframe\">\n",
              "  <thead>\n",
              "    <tr style=\"text-align: right;\">\n",
              "      <th></th>\n",
              "      <th>cpo_pri</th>\n",
              "      <th>cno_pri</th>\n",
              "      <th>oli_pri</th>\n",
              "      <th>rps_pri</th>\n",
              "      <th>pno_pri</th>\n",
              "      <th>sbo_pri</th>\n",
              "      <th>sfo_pri</th>\n",
              "    </tr>\n",
              "    <tr>\n",
              "      <th>date</th>\n",
              "      <th></th>\n",
              "      <th></th>\n",
              "      <th></th>\n",
              "      <th></th>\n",
              "      <th></th>\n",
              "      <th></th>\n",
              "      <th></th>\n",
              "    </tr>\n",
              "  </thead>\n",
              "  <tbody>\n",
              "    <tr>\n",
              "      <th>2010-12-01</th>\n",
              "      <td>323</td>\n",
              "      <td>455</td>\n",
              "      <td>3102.61</td>\n",
              "      <td>423.45</td>\n",
              "      <td>844.0</td>\n",
              "      <td>468.0</td>\n",
              "      <td>578.0</td>\n",
              "    </tr>\n",
              "    <tr>\n",
              "      <th>2011-01-01</th>\n",
              "      <td>345</td>\n",
              "      <td>546</td>\n",
              "      <td>3100.45</td>\n",
              "      <td>415.85</td>\n",
              "      <td>799.0</td>\n",
              "      <td>485.0</td>\n",
              "      <td>557.0</td>\n",
              "    </tr>\n",
              "    <tr>\n",
              "      <th>2011-02-01</th>\n",
              "      <td>362</td>\n",
              "      <td>595</td>\n",
              "      <td>3199.41</td>\n",
              "      <td>410.77</td>\n",
              "      <td>718.0</td>\n",
              "      <td>466.0</td>\n",
              "      <td>552.0</td>\n",
              "    </tr>\n",
              "    <tr>\n",
              "      <th>2011-03-01</th>\n",
              "      <td>376</td>\n",
              "      <td>636</td>\n",
              "      <td>3281.67</td>\n",
              "      <td>414.82</td>\n",
              "      <td>614.0</td>\n",
              "      <td>442.0</td>\n",
              "      <td>574.0</td>\n",
              "    </tr>\n",
              "    <tr>\n",
              "      <th>2011-04-01</th>\n",
              "      <td>383</td>\n",
              "      <td>738</td>\n",
              "      <td>3261.65</td>\n",
              "      <td>451.04</td>\n",
              "      <td>619.0</td>\n",
              "      <td>429.0</td>\n",
              "      <td>595.0</td>\n",
              "    </tr>\n",
              "  </tbody>\n",
              "</table>\n",
              "</div>\n",
              "      <button class=\"colab-df-convert\" onclick=\"convertToInteractive('df-a827a553-5c49-4f0c-83b7-590167a29e1d')\"\n",
              "              title=\"Convert this dataframe to an interactive table.\"\n",
              "              style=\"display:none;\">\n",
              "        \n",
              "  <svg xmlns=\"http://www.w3.org/2000/svg\" height=\"24px\"viewBox=\"0 0 24 24\"\n",
              "       width=\"24px\">\n",
              "    <path d=\"M0 0h24v24H0V0z\" fill=\"none\"/>\n",
              "    <path d=\"M18.56 5.44l.94 2.06.94-2.06 2.06-.94-2.06-.94-.94-2.06-.94 2.06-2.06.94zm-11 1L8.5 8.5l.94-2.06 2.06-.94-2.06-.94L8.5 2.5l-.94 2.06-2.06.94zm10 10l.94 2.06.94-2.06 2.06-.94-2.06-.94-.94-2.06-.94 2.06-2.06.94z\"/><path d=\"M17.41 7.96l-1.37-1.37c-.4-.4-.92-.59-1.43-.59-.52 0-1.04.2-1.43.59L10.3 9.45l-7.72 7.72c-.78.78-.78 2.05 0 2.83L4 21.41c.39.39.9.59 1.41.59.51 0 1.02-.2 1.41-.59l7.78-7.78 2.81-2.81c.8-.78.8-2.07 0-2.86zM5.41 20L4 18.59l7.72-7.72 1.47 1.35L5.41 20z\"/>\n",
              "  </svg>\n",
              "      </button>\n",
              "      \n",
              "  <style>\n",
              "    .colab-df-container {\n",
              "      display:flex;\n",
              "      flex-wrap:wrap;\n",
              "      gap: 12px;\n",
              "    }\n",
              "\n",
              "    .colab-df-convert {\n",
              "      background-color: #E8F0FE;\n",
              "      border: none;\n",
              "      border-radius: 50%;\n",
              "      cursor: pointer;\n",
              "      display: none;\n",
              "      fill: #1967D2;\n",
              "      height: 32px;\n",
              "      padding: 0 0 0 0;\n",
              "      width: 32px;\n",
              "    }\n",
              "\n",
              "    .colab-df-convert:hover {\n",
              "      background-color: #E2EBFA;\n",
              "      box-shadow: 0px 1px 2px rgba(60, 64, 67, 0.3), 0px 1px 3px 1px rgba(60, 64, 67, 0.15);\n",
              "      fill: #174EA6;\n",
              "    }\n",
              "\n",
              "    [theme=dark] .colab-df-convert {\n",
              "      background-color: #3B4455;\n",
              "      fill: #D2E3FC;\n",
              "    }\n",
              "\n",
              "    [theme=dark] .colab-df-convert:hover {\n",
              "      background-color: #434B5C;\n",
              "      box-shadow: 0px 1px 3px 1px rgba(0, 0, 0, 0.15);\n",
              "      filter: drop-shadow(0px 1px 2px rgba(0, 0, 0, 0.3));\n",
              "      fill: #FFFFFF;\n",
              "    }\n",
              "  </style>\n",
              "\n",
              "      <script>\n",
              "        const buttonEl =\n",
              "          document.querySelector('#df-a827a553-5c49-4f0c-83b7-590167a29e1d button.colab-df-convert');\n",
              "        buttonEl.style.display =\n",
              "          google.colab.kernel.accessAllowed ? 'block' : 'none';\n",
              "\n",
              "        async function convertToInteractive(key) {\n",
              "          const element = document.querySelector('#df-a827a553-5c49-4f0c-83b7-590167a29e1d');\n",
              "          const dataTable =\n",
              "            await google.colab.kernel.invokeFunction('convertToInteractive',\n",
              "                                                     [key], {});\n",
              "          if (!dataTable) return;\n",
              "\n",
              "          const docLinkHtml = 'Like what you see? Visit the ' +\n",
              "            '<a target=\"_blank\" href=https://colab.research.google.com/notebooks/data_table.ipynb>data table notebook</a>'\n",
              "            + ' to learn more about interactive tables.';\n",
              "          element.innerHTML = '';\n",
              "          dataTable['output_type'] = 'display_data';\n",
              "          await google.colab.output.renderOutput(dataTable, element);\n",
              "          const docLink = document.createElement('div');\n",
              "          docLink.innerHTML = docLinkHtml;\n",
              "          element.appendChild(docLink);\n",
              "        }\n",
              "      </script>\n",
              "    </div>\n",
              "  </div>\n",
              "  "
            ]
          },
          "metadata": {},
          "execution_count": 12
        }
      ]
    },
    {
      "cell_type": "markdown",
      "source": [
        "###Rescaling Training Data"
      ],
      "metadata": {
        "id": "Z5F4OyT2mwRs"
      }
    },
    {
      "cell_type": "code",
      "source": [
        "f_transformer = MinMaxScaler()\n",
        "feature_columns = ['cno_pri', 'oli_pri', 'rps_pri', 'pno_pri', 'sbo_pri', 'sfo_pri']\n",
        "f_transformer = f_transformer.fit(train[feature_columns].to_numpy())\n",
        "train.loc[:, feature_columns] = f_transformer.transform(train[feature_columns].to_numpy())\n",
        "train.head()"
      ],
      "metadata": {
        "colab": {
          "base_uri": "https://localhost:8080/",
          "height": 258
        },
        "id": "Lg-AQuNBmvZK",
        "outputId": "92aaa968-58aa-44f7-db15-ba875dc35fc2"
      },
      "execution_count": 13,
      "outputs": [
        {
          "output_type": "execute_result",
          "data": {
            "text/plain": [
              "            cpo_pri   cno_pri   oli_pri   rps_pri   pno_pri   sbo_pri  \\\n",
              "date                                                                    \n",
              "2010-12-01      323  0.112288  0.140918  0.010736  0.528090  0.253193   \n",
              "2011-01-01      345  0.305085  0.140327  0.004301  0.443820  0.306536   \n",
              "2011-02-01      362  0.408898  0.167408  0.000000  0.292135  0.246917   \n",
              "2011-03-01      376  0.495763  0.189919  0.003429  0.097378  0.171609   \n",
              "2011-04-01      383  0.711864  0.184440  0.034095  0.106742  0.130817   \n",
              "\n",
              "             sfo_pri  \n",
              "date                  \n",
              "2010-12-01  0.023302  \n",
              "2011-01-01  0.009321  \n",
              "2011-02-01  0.005992  \n",
              "2011-03-01  0.020639  \n",
              "2011-04-01  0.034621  "
            ],
            "text/html": [
              "\n",
              "  <div id=\"df-9ace59af-0e79-4c3c-bb7f-92cb2ce957b2\">\n",
              "    <div class=\"colab-df-container\">\n",
              "      <div>\n",
              "<style scoped>\n",
              "    .dataframe tbody tr th:only-of-type {\n",
              "        vertical-align: middle;\n",
              "    }\n",
              "\n",
              "    .dataframe tbody tr th {\n",
              "        vertical-align: top;\n",
              "    }\n",
              "\n",
              "    .dataframe thead th {\n",
              "        text-align: right;\n",
              "    }\n",
              "</style>\n",
              "<table border=\"1\" class=\"dataframe\">\n",
              "  <thead>\n",
              "    <tr style=\"text-align: right;\">\n",
              "      <th></th>\n",
              "      <th>cpo_pri</th>\n",
              "      <th>cno_pri</th>\n",
              "      <th>oli_pri</th>\n",
              "      <th>rps_pri</th>\n",
              "      <th>pno_pri</th>\n",
              "      <th>sbo_pri</th>\n",
              "      <th>sfo_pri</th>\n",
              "    </tr>\n",
              "    <tr>\n",
              "      <th>date</th>\n",
              "      <th></th>\n",
              "      <th></th>\n",
              "      <th></th>\n",
              "      <th></th>\n",
              "      <th></th>\n",
              "      <th></th>\n",
              "      <th></th>\n",
              "    </tr>\n",
              "  </thead>\n",
              "  <tbody>\n",
              "    <tr>\n",
              "      <th>2010-12-01</th>\n",
              "      <td>323</td>\n",
              "      <td>0.112288</td>\n",
              "      <td>0.140918</td>\n",
              "      <td>0.010736</td>\n",
              "      <td>0.528090</td>\n",
              "      <td>0.253193</td>\n",
              "      <td>0.023302</td>\n",
              "    </tr>\n",
              "    <tr>\n",
              "      <th>2011-01-01</th>\n",
              "      <td>345</td>\n",
              "      <td>0.305085</td>\n",
              "      <td>0.140327</td>\n",
              "      <td>0.004301</td>\n",
              "      <td>0.443820</td>\n",
              "      <td>0.306536</td>\n",
              "      <td>0.009321</td>\n",
              "    </tr>\n",
              "    <tr>\n",
              "      <th>2011-02-01</th>\n",
              "      <td>362</td>\n",
              "      <td>0.408898</td>\n",
              "      <td>0.167408</td>\n",
              "      <td>0.000000</td>\n",
              "      <td>0.292135</td>\n",
              "      <td>0.246917</td>\n",
              "      <td>0.005992</td>\n",
              "    </tr>\n",
              "    <tr>\n",
              "      <th>2011-03-01</th>\n",
              "      <td>376</td>\n",
              "      <td>0.495763</td>\n",
              "      <td>0.189919</td>\n",
              "      <td>0.003429</td>\n",
              "      <td>0.097378</td>\n",
              "      <td>0.171609</td>\n",
              "      <td>0.020639</td>\n",
              "    </tr>\n",
              "    <tr>\n",
              "      <th>2011-04-01</th>\n",
              "      <td>383</td>\n",
              "      <td>0.711864</td>\n",
              "      <td>0.184440</td>\n",
              "      <td>0.034095</td>\n",
              "      <td>0.106742</td>\n",
              "      <td>0.130817</td>\n",
              "      <td>0.034621</td>\n",
              "    </tr>\n",
              "  </tbody>\n",
              "</table>\n",
              "</div>\n",
              "      <button class=\"colab-df-convert\" onclick=\"convertToInteractive('df-9ace59af-0e79-4c3c-bb7f-92cb2ce957b2')\"\n",
              "              title=\"Convert this dataframe to an interactive table.\"\n",
              "              style=\"display:none;\">\n",
              "        \n",
              "  <svg xmlns=\"http://www.w3.org/2000/svg\" height=\"24px\"viewBox=\"0 0 24 24\"\n",
              "       width=\"24px\">\n",
              "    <path d=\"M0 0h24v24H0V0z\" fill=\"none\"/>\n",
              "    <path d=\"M18.56 5.44l.94 2.06.94-2.06 2.06-.94-2.06-.94-.94-2.06-.94 2.06-2.06.94zm-11 1L8.5 8.5l.94-2.06 2.06-.94-2.06-.94L8.5 2.5l-.94 2.06-2.06.94zm10 10l.94 2.06.94-2.06 2.06-.94-2.06-.94-.94-2.06-.94 2.06-2.06.94z\"/><path d=\"M17.41 7.96l-1.37-1.37c-.4-.4-.92-.59-1.43-.59-.52 0-1.04.2-1.43.59L10.3 9.45l-7.72 7.72c-.78.78-.78 2.05 0 2.83L4 21.41c.39.39.9.59 1.41.59.51 0 1.02-.2 1.41-.59l7.78-7.78 2.81-2.81c.8-.78.8-2.07 0-2.86zM5.41 20L4 18.59l7.72-7.72 1.47 1.35L5.41 20z\"/>\n",
              "  </svg>\n",
              "      </button>\n",
              "      \n",
              "  <style>\n",
              "    .colab-df-container {\n",
              "      display:flex;\n",
              "      flex-wrap:wrap;\n",
              "      gap: 12px;\n",
              "    }\n",
              "\n",
              "    .colab-df-convert {\n",
              "      background-color: #E8F0FE;\n",
              "      border: none;\n",
              "      border-radius: 50%;\n",
              "      cursor: pointer;\n",
              "      display: none;\n",
              "      fill: #1967D2;\n",
              "      height: 32px;\n",
              "      padding: 0 0 0 0;\n",
              "      width: 32px;\n",
              "    }\n",
              "\n",
              "    .colab-df-convert:hover {\n",
              "      background-color: #E2EBFA;\n",
              "      box-shadow: 0px 1px 2px rgba(60, 64, 67, 0.3), 0px 1px 3px 1px rgba(60, 64, 67, 0.15);\n",
              "      fill: #174EA6;\n",
              "    }\n",
              "\n",
              "    [theme=dark] .colab-df-convert {\n",
              "      background-color: #3B4455;\n",
              "      fill: #D2E3FC;\n",
              "    }\n",
              "\n",
              "    [theme=dark] .colab-df-convert:hover {\n",
              "      background-color: #434B5C;\n",
              "      box-shadow: 0px 1px 3px 1px rgba(0, 0, 0, 0.15);\n",
              "      filter: drop-shadow(0px 1px 2px rgba(0, 0, 0, 0.3));\n",
              "      fill: #FFFFFF;\n",
              "    }\n",
              "  </style>\n",
              "\n",
              "      <script>\n",
              "        const buttonEl =\n",
              "          document.querySelector('#df-9ace59af-0e79-4c3c-bb7f-92cb2ce957b2 button.colab-df-convert');\n",
              "        buttonEl.style.display =\n",
              "          google.colab.kernel.accessAllowed ? 'block' : 'none';\n",
              "\n",
              "        async function convertToInteractive(key) {\n",
              "          const element = document.querySelector('#df-9ace59af-0e79-4c3c-bb7f-92cb2ce957b2');\n",
              "          const dataTable =\n",
              "            await google.colab.kernel.invokeFunction('convertToInteractive',\n",
              "                                                     [key], {});\n",
              "          if (!dataTable) return;\n",
              "\n",
              "          const docLinkHtml = 'Like what you see? Visit the ' +\n",
              "            '<a target=\"_blank\" href=https://colab.research.google.com/notebooks/data_table.ipynb>data table notebook</a>'\n",
              "            + ' to learn more about interactive tables.';\n",
              "          element.innerHTML = '';\n",
              "          dataTable['output_type'] = 'display_data';\n",
              "          await google.colab.output.renderOutput(dataTable, element);\n",
              "          const docLink = document.createElement('div');\n",
              "          docLink.innerHTML = docLinkHtml;\n",
              "          element.appendChild(docLink);\n",
              "        }\n",
              "      </script>\n",
              "    </div>\n",
              "  </div>\n",
              "  "
            ]
          },
          "metadata": {},
          "execution_count": 13
        }
      ]
    },
    {
      "cell_type": "code",
      "source": [
        "cpo_pri_transformer = MinMaxScaler()\n",
        "cpo_pri_transformer = cpo_pri_transformer.fit(train[['cpo_pri']])\n",
        "train['cpo_pri'] = cpo_pri_transformer.transform(train[['cpo_pri']])\n",
        "train['cpo_pri'].head()"
      ],
      "metadata": {
        "colab": {
          "base_uri": "https://localhost:8080/"
        },
        "id": "XNkE4gN9nJLt",
        "outputId": "247a79c9-e8e3-4089-a605-da967dc00baa"
      },
      "execution_count": 14,
      "outputs": [
        {
          "output_type": "execute_result",
          "data": {
            "text/plain": [
              "date\n",
              "2010-12-01    0.0100\n",
              "2011-01-01    0.0650\n",
              "2011-02-01    0.1075\n",
              "2011-03-01    0.1425\n",
              "2011-04-01    0.1600\n",
              "Name: cpo_pri, dtype: float64"
            ]
          },
          "metadata": {},
          "execution_count": 14
        }
      ]
    },
    {
      "cell_type": "code",
      "source": [
        "test.loc[:, feature_columns] = f_transformer.transform(test[feature_columns].to_numpy())\n",
        "test.head()"
      ],
      "metadata": {
        "colab": {
          "base_uri": "https://localhost:8080/",
          "height": 258
        },
        "id": "aouQuJG5n6k8",
        "outputId": "a24611d7-df07-4a1b-e9aa-9566387eb308"
      },
      "execution_count": 15,
      "outputs": [
        {
          "output_type": "execute_result",
          "data": {
            "text/plain": [
              "            cpo_pri   cno_pri   oli_pri   rps_pri   pno_pri   sbo_pri  \\\n",
              "date                                                                    \n",
              "2019-03-01      354  0.637712  0.194855  0.382454  0.381292 -0.039662   \n",
              "2019-04-01      348  0.533898  0.264388  0.393951  0.213633 -0.054975   \n",
              "2019-05-01      332  0.400424  0.246417  0.453802  0.235262 -0.092159   \n",
              "2019-06-01      349  0.317797  0.234308  0.509834  0.320749 -0.074743   \n",
              "2019-07-01      372  0.313559  0.223422  0.526454  0.426610 -0.066114   \n",
              "\n",
              "             sfo_pri  \n",
              "date                  \n",
              "2019-03-01  0.493342  \n",
              "2019-04-01  0.597870  \n",
              "2019-05-01  0.606525  \n",
              "2019-06-01  0.631824  \n",
              "2019-07-01  0.773462  "
            ],
            "text/html": [
              "\n",
              "  <div id=\"df-63eb1347-4876-4926-b971-6222e17816d5\">\n",
              "    <div class=\"colab-df-container\">\n",
              "      <div>\n",
              "<style scoped>\n",
              "    .dataframe tbody tr th:only-of-type {\n",
              "        vertical-align: middle;\n",
              "    }\n",
              "\n",
              "    .dataframe tbody tr th {\n",
              "        vertical-align: top;\n",
              "    }\n",
              "\n",
              "    .dataframe thead th {\n",
              "        text-align: right;\n",
              "    }\n",
              "</style>\n",
              "<table border=\"1\" class=\"dataframe\">\n",
              "  <thead>\n",
              "    <tr style=\"text-align: right;\">\n",
              "      <th></th>\n",
              "      <th>cpo_pri</th>\n",
              "      <th>cno_pri</th>\n",
              "      <th>oli_pri</th>\n",
              "      <th>rps_pri</th>\n",
              "      <th>pno_pri</th>\n",
              "      <th>sbo_pri</th>\n",
              "      <th>sfo_pri</th>\n",
              "    </tr>\n",
              "    <tr>\n",
              "      <th>date</th>\n",
              "      <th></th>\n",
              "      <th></th>\n",
              "      <th></th>\n",
              "      <th></th>\n",
              "      <th></th>\n",
              "      <th></th>\n",
              "      <th></th>\n",
              "    </tr>\n",
              "  </thead>\n",
              "  <tbody>\n",
              "    <tr>\n",
              "      <th>2019-03-01</th>\n",
              "      <td>354</td>\n",
              "      <td>0.637712</td>\n",
              "      <td>0.194855</td>\n",
              "      <td>0.382454</td>\n",
              "      <td>0.381292</td>\n",
              "      <td>-0.039662</td>\n",
              "      <td>0.493342</td>\n",
              "    </tr>\n",
              "    <tr>\n",
              "      <th>2019-04-01</th>\n",
              "      <td>348</td>\n",
              "      <td>0.533898</td>\n",
              "      <td>0.264388</td>\n",
              "      <td>0.393951</td>\n",
              "      <td>0.213633</td>\n",
              "      <td>-0.054975</td>\n",
              "      <td>0.597870</td>\n",
              "    </tr>\n",
              "    <tr>\n",
              "      <th>2019-05-01</th>\n",
              "      <td>332</td>\n",
              "      <td>0.400424</td>\n",
              "      <td>0.246417</td>\n",
              "      <td>0.453802</td>\n",
              "      <td>0.235262</td>\n",
              "      <td>-0.092159</td>\n",
              "      <td>0.606525</td>\n",
              "    </tr>\n",
              "    <tr>\n",
              "      <th>2019-06-01</th>\n",
              "      <td>349</td>\n",
              "      <td>0.317797</td>\n",
              "      <td>0.234308</td>\n",
              "      <td>0.509834</td>\n",
              "      <td>0.320749</td>\n",
              "      <td>-0.074743</td>\n",
              "      <td>0.631824</td>\n",
              "    </tr>\n",
              "    <tr>\n",
              "      <th>2019-07-01</th>\n",
              "      <td>372</td>\n",
              "      <td>0.313559</td>\n",
              "      <td>0.223422</td>\n",
              "      <td>0.526454</td>\n",
              "      <td>0.426610</td>\n",
              "      <td>-0.066114</td>\n",
              "      <td>0.773462</td>\n",
              "    </tr>\n",
              "  </tbody>\n",
              "</table>\n",
              "</div>\n",
              "      <button class=\"colab-df-convert\" onclick=\"convertToInteractive('df-63eb1347-4876-4926-b971-6222e17816d5')\"\n",
              "              title=\"Convert this dataframe to an interactive table.\"\n",
              "              style=\"display:none;\">\n",
              "        \n",
              "  <svg xmlns=\"http://www.w3.org/2000/svg\" height=\"24px\"viewBox=\"0 0 24 24\"\n",
              "       width=\"24px\">\n",
              "    <path d=\"M0 0h24v24H0V0z\" fill=\"none\"/>\n",
              "    <path d=\"M18.56 5.44l.94 2.06.94-2.06 2.06-.94-2.06-.94-.94-2.06-.94 2.06-2.06.94zm-11 1L8.5 8.5l.94-2.06 2.06-.94-2.06-.94L8.5 2.5l-.94 2.06-2.06.94zm10 10l.94 2.06.94-2.06 2.06-.94-2.06-.94-.94-2.06-.94 2.06-2.06.94z\"/><path d=\"M17.41 7.96l-1.37-1.37c-.4-.4-.92-.59-1.43-.59-.52 0-1.04.2-1.43.59L10.3 9.45l-7.72 7.72c-.78.78-.78 2.05 0 2.83L4 21.41c.39.39.9.59 1.41.59.51 0 1.02-.2 1.41-.59l7.78-7.78 2.81-2.81c.8-.78.8-2.07 0-2.86zM5.41 20L4 18.59l7.72-7.72 1.47 1.35L5.41 20z\"/>\n",
              "  </svg>\n",
              "      </button>\n",
              "      \n",
              "  <style>\n",
              "    .colab-df-container {\n",
              "      display:flex;\n",
              "      flex-wrap:wrap;\n",
              "      gap: 12px;\n",
              "    }\n",
              "\n",
              "    .colab-df-convert {\n",
              "      background-color: #E8F0FE;\n",
              "      border: none;\n",
              "      border-radius: 50%;\n",
              "      cursor: pointer;\n",
              "      display: none;\n",
              "      fill: #1967D2;\n",
              "      height: 32px;\n",
              "      padding: 0 0 0 0;\n",
              "      width: 32px;\n",
              "    }\n",
              "\n",
              "    .colab-df-convert:hover {\n",
              "      background-color: #E2EBFA;\n",
              "      box-shadow: 0px 1px 2px rgba(60, 64, 67, 0.3), 0px 1px 3px 1px rgba(60, 64, 67, 0.15);\n",
              "      fill: #174EA6;\n",
              "    }\n",
              "\n",
              "    [theme=dark] .colab-df-convert {\n",
              "      background-color: #3B4455;\n",
              "      fill: #D2E3FC;\n",
              "    }\n",
              "\n",
              "    [theme=dark] .colab-df-convert:hover {\n",
              "      background-color: #434B5C;\n",
              "      box-shadow: 0px 1px 3px 1px rgba(0, 0, 0, 0.15);\n",
              "      filter: drop-shadow(0px 1px 2px rgba(0, 0, 0, 0.3));\n",
              "      fill: #FFFFFF;\n",
              "    }\n",
              "  </style>\n",
              "\n",
              "      <script>\n",
              "        const buttonEl =\n",
              "          document.querySelector('#df-63eb1347-4876-4926-b971-6222e17816d5 button.colab-df-convert');\n",
              "        buttonEl.style.display =\n",
              "          google.colab.kernel.accessAllowed ? 'block' : 'none';\n",
              "\n",
              "        async function convertToInteractive(key) {\n",
              "          const element = document.querySelector('#df-63eb1347-4876-4926-b971-6222e17816d5');\n",
              "          const dataTable =\n",
              "            await google.colab.kernel.invokeFunction('convertToInteractive',\n",
              "                                                     [key], {});\n",
              "          if (!dataTable) return;\n",
              "\n",
              "          const docLinkHtml = 'Like what you see? Visit the ' +\n",
              "            '<a target=\"_blank\" href=https://colab.research.google.com/notebooks/data_table.ipynb>data table notebook</a>'\n",
              "            + ' to learn more about interactive tables.';\n",
              "          element.innerHTML = '';\n",
              "          dataTable['output_type'] = 'display_data';\n",
              "          await google.colab.output.renderOutput(dataTable, element);\n",
              "          const docLink = document.createElement('div');\n",
              "          docLink.innerHTML = docLinkHtml;\n",
              "          element.appendChild(docLink);\n",
              "        }\n",
              "      </script>\n",
              "    </div>\n",
              "  </div>\n",
              "  "
            ]
          },
          "metadata": {},
          "execution_count": 15
        }
      ]
    },
    {
      "cell_type": "code",
      "source": [
        "test['cpo_pri'] = cpo_pri_transformer.transform(test[['cpo_pri']])\n",
        "test['cpo_pri'].head()"
      ],
      "metadata": {
        "colab": {
          "base_uri": "https://localhost:8080/"
        },
        "id": "GXgFSrz3n6o5",
        "outputId": "80af8f20-5403-490a-a5fc-545b686abb76"
      },
      "execution_count": 16,
      "outputs": [
        {
          "output_type": "execute_result",
          "data": {
            "text/plain": [
              "date\n",
              "2019-03-01    0.0875\n",
              "2019-04-01    0.0725\n",
              "2019-05-01    0.0325\n",
              "2019-06-01    0.0750\n",
              "2019-07-01    0.1325\n",
              "Name: cpo_pri, dtype: float64"
            ]
          },
          "metadata": {},
          "execution_count": 16
        }
      ]
    },
    {
      "cell_type": "markdown",
      "source": [
        "###Create X_train, y_train, X_test and y_test"
      ],
      "metadata": {
        "id": "p_2s3AO-ohCD"
      }
    },
    {
      "cell_type": "code",
      "source": [
        "def createDataset(X, y, time_steps):\n",
        "    Xs, ys = [], []\n",
        "    for i in range(len(X) - time_steps):\n",
        "        data = X.iloc[i:(i + time_steps)].values\n",
        "        Xs.append(data)        \n",
        "        ys.append(y.iloc[i + time_steps])\n",
        "        \n",
        "    return np.array(Xs), np.array(ys)\n",
        "\n",
        "time_steps = 3\n",
        "X_train, y_train = createDataset(train, train.cpo_pri, time_steps)\n",
        "X_test, y_test = createDataset(test, test.cpo_pri, time_steps)\n",
        "print(X_train.shape, y_train.shape)"
      ],
      "metadata": {
        "colab": {
          "base_uri": "https://localhost:8080/"
        },
        "id": "fGTyTKiYoJIb",
        "outputId": "92d67be1-2c3e-4614-ca7c-9e7624c5ad9a"
      },
      "execution_count": 17,
      "outputs": [
        {
          "output_type": "stream",
          "name": "stdout",
          "text": [
            "(96, 3, 7) (96,)\n"
          ]
        }
      ]
    },
    {
      "cell_type": "code",
      "source": [
        "#test_lag = test[1:23]\n",
        "#len(test) - 1"
      ],
      "metadata": {
        "id": "dt_elxfcLh_b"
      },
      "execution_count": null,
      "outputs": []
    },
    {
      "cell_type": "code",
      "source": [
        "#decrement naturally.\n",
        "#shifted = test.set_index([\"date\"]).unstack().shift(3).stack()"
      ],
      "metadata": {
        "id": "BqpvIj_hKO30"
      },
      "execution_count": null,
      "outputs": []
    },
    {
      "cell_type": "code",
      "source": [
        "cnn_model = tf.keras.Sequential()\n",
        "cnn_model.add(tf.keras.layers.Conv1D(filters=64, kernel_size=2, activation='tanh', input_shape=(X_test.shape[1], X_test.shape[2])))\n",
        "cnn_model.add(tf.keras.layers.MaxPooling1D(pool_size=2))\n",
        "cnn_model.add(tf.keras.layers.Flatten())\n",
        "cnn_model.add(tf.keras.layers.Dense(64, activation='tanh'))\n",
        "cnn_model.add(tf.keras.layers.Dense(1))\n",
        "\n",
        "# compile model using adam\n",
        "cnn_model.compile(optimizer='adam',loss='mse',metrics=['mse'])\n",
        "# model training\n",
        "history = cnn_model.fit(X_train, y_train, epochs=100, batch_size = 64, validation_split=0.2) #epochs = 30, batch_size = 60\n",
        "\n",
        "# model evaluation\n",
        "cnn_model.evaluate(X_test, y_test)\n",
        "\n",
        "\n",
        "#cnn_model.compile(loss='mse', optimizer='adam')\n",
        "#cnn_model.summary()\n",
        "#bst -> epochs = 300, batch_size = 128, RMSE = 32\n",
        "#bst -> epochs = 350, batch_size = 100, RMSE = 36\n",
        "#bst -> epochs = 400, batch_size = 128, RMSE = 39"
      ],
      "metadata": {
        "id": "EkQPUIAQOvX9",
        "outputId": "0ced64e1-7f44-460b-bdae-48a468edc9e9",
        "colab": {
          "base_uri": "https://localhost:8080/"
        }
      },
      "execution_count": 18,
      "outputs": [
        {
          "output_type": "stream",
          "name": "stdout",
          "text": [
            "Epoch 1/100\n",
            "2/2 [==============================] - 8s 211ms/step - loss: 0.4236 - mse: 0.4236 - val_loss: 0.4072 - val_mse: 0.4072\n",
            "Epoch 2/100\n",
            "2/2 [==============================] - 0s 24ms/step - loss: 0.1441 - mse: 0.1441 - val_loss: 0.1456 - val_mse: 0.1456\n",
            "Epoch 3/100\n",
            "2/2 [==============================] - 0s 26ms/step - loss: 0.0298 - mse: 0.0298 - val_loss: 0.0613 - val_mse: 0.0613\n",
            "Epoch 4/100\n",
            "2/2 [==============================] - 0s 26ms/step - loss: 0.0420 - mse: 0.0420 - val_loss: 0.0655 - val_mse: 0.0655\n",
            "Epoch 5/100\n",
            "2/2 [==============================] - 0s 23ms/step - loss: 0.0897 - mse: 0.0897 - val_loss: 0.0704 - val_mse: 0.0704\n",
            "Epoch 6/100\n",
            "2/2 [==============================] - 0s 23ms/step - loss: 0.1015 - mse: 0.1015 - val_loss: 0.0565 - val_mse: 0.0565\n",
            "Epoch 7/100\n",
            "2/2 [==============================] - 0s 23ms/step - loss: 0.0759 - mse: 0.0759 - val_loss: 0.0442 - val_mse: 0.0442\n",
            "Epoch 8/100\n",
            "2/2 [==============================] - 0s 24ms/step - loss: 0.0417 - mse: 0.0417 - val_loss: 0.0511 - val_mse: 0.0511\n",
            "Epoch 9/100\n",
            "2/2 [==============================] - 0s 25ms/step - loss: 0.0212 - mse: 0.0212 - val_loss: 0.0767 - val_mse: 0.0767\n",
            "Epoch 10/100\n",
            "2/2 [==============================] - 0s 23ms/step - loss: 0.0198 - mse: 0.0198 - val_loss: 0.1046 - val_mse: 0.1046\n",
            "Epoch 11/100\n",
            "2/2 [==============================] - 0s 22ms/step - loss: 0.0272 - mse: 0.0272 - val_loss: 0.1194 - val_mse: 0.1194\n",
            "Epoch 12/100\n",
            "2/2 [==============================] - 0s 23ms/step - loss: 0.0339 - mse: 0.0339 - val_loss: 0.1179 - val_mse: 0.1179\n",
            "Epoch 13/100\n",
            "2/2 [==============================] - 0s 22ms/step - loss: 0.0342 - mse: 0.0342 - val_loss: 0.1019 - val_mse: 0.1019\n",
            "Epoch 14/100\n",
            "2/2 [==============================] - 0s 29ms/step - loss: 0.0281 - mse: 0.0281 - val_loss: 0.0767 - val_mse: 0.0767\n",
            "Epoch 15/100\n",
            "2/2 [==============================] - 0s 27ms/step - loss: 0.0199 - mse: 0.0199 - val_loss: 0.0520 - val_mse: 0.0520\n",
            "Epoch 16/100\n",
            "2/2 [==============================] - 0s 44ms/step - loss: 0.0151 - mse: 0.0151 - val_loss: 0.0351 - val_mse: 0.0351\n",
            "Epoch 17/100\n",
            "2/2 [==============================] - 0s 25ms/step - loss: 0.0158 - mse: 0.0158 - val_loss: 0.0270 - val_mse: 0.0270\n",
            "Epoch 18/100\n",
            "2/2 [==============================] - 0s 24ms/step - loss: 0.0185 - mse: 0.0185 - val_loss: 0.0239 - val_mse: 0.0239\n",
            "Epoch 19/100\n",
            "2/2 [==============================] - 0s 22ms/step - loss: 0.0201 - mse: 0.0201 - val_loss: 0.0231 - val_mse: 0.0231\n",
            "Epoch 20/100\n",
            "2/2 [==============================] - 0s 23ms/step - loss: 0.0188 - mse: 0.0188 - val_loss: 0.0241 - val_mse: 0.0241\n",
            "Epoch 21/100\n",
            "2/2 [==============================] - 0s 24ms/step - loss: 0.0159 - mse: 0.0159 - val_loss: 0.0273 - val_mse: 0.0273\n",
            "Epoch 22/100\n",
            "2/2 [==============================] - 0s 26ms/step - loss: 0.0133 - mse: 0.0133 - val_loss: 0.0322 - val_mse: 0.0322\n",
            "Epoch 23/100\n",
            "2/2 [==============================] - 0s 24ms/step - loss: 0.0129 - mse: 0.0129 - val_loss: 0.0365 - val_mse: 0.0365\n",
            "Epoch 24/100\n",
            "2/2 [==============================] - 0s 25ms/step - loss: 0.0128 - mse: 0.0128 - val_loss: 0.0377 - val_mse: 0.0377\n",
            "Epoch 25/100\n",
            "2/2 [==============================] - 0s 35ms/step - loss: 0.0131 - mse: 0.0131 - val_loss: 0.0370 - val_mse: 0.0370\n",
            "Epoch 26/100\n",
            "2/2 [==============================] - 0s 42ms/step - loss: 0.0129 - mse: 0.0129 - val_loss: 0.0339 - val_mse: 0.0339\n",
            "Epoch 27/100\n",
            "2/2 [==============================] - 0s 52ms/step - loss: 0.0121 - mse: 0.0121 - val_loss: 0.0294 - val_mse: 0.0294\n",
            "Epoch 28/100\n",
            "2/2 [==============================] - 0s 36ms/step - loss: 0.0111 - mse: 0.0111 - val_loss: 0.0254 - val_mse: 0.0254\n",
            "Epoch 29/100\n",
            "2/2 [==============================] - 0s 35ms/step - loss: 0.0106 - mse: 0.0106 - val_loss: 0.0220 - val_mse: 0.0220\n",
            "Epoch 30/100\n",
            "2/2 [==============================] - 0s 46ms/step - loss: 0.0108 - mse: 0.0108 - val_loss: 0.0201 - val_mse: 0.0201\n",
            "Epoch 31/100\n",
            "2/2 [==============================] - 0s 38ms/step - loss: 0.0109 - mse: 0.0109 - val_loss: 0.0194 - val_mse: 0.0194\n",
            "Epoch 32/100\n",
            "2/2 [==============================] - 0s 52ms/step - loss: 0.0108 - mse: 0.0108 - val_loss: 0.0193 - val_mse: 0.0193\n",
            "Epoch 33/100\n",
            "2/2 [==============================] - 0s 41ms/step - loss: 0.0103 - mse: 0.0103 - val_loss: 0.0198 - val_mse: 0.0198\n",
            "Epoch 34/100\n",
            "2/2 [==============================] - 0s 50ms/step - loss: 0.0097 - mse: 0.0097 - val_loss: 0.0215 - val_mse: 0.0215\n",
            "Epoch 35/100\n",
            "2/2 [==============================] - 0s 45ms/step - loss: 0.0096 - mse: 0.0096 - val_loss: 0.0234 - val_mse: 0.0234\n",
            "Epoch 36/100\n",
            "2/2 [==============================] - 0s 40ms/step - loss: 0.0100 - mse: 0.0100 - val_loss: 0.0238 - val_mse: 0.0238\n",
            "Epoch 37/100\n",
            "2/2 [==============================] - 0s 53ms/step - loss: 0.0100 - mse: 0.0100 - val_loss: 0.0221 - val_mse: 0.0221\n",
            "Epoch 38/100\n",
            "2/2 [==============================] - 0s 30ms/step - loss: 0.0096 - mse: 0.0096 - val_loss: 0.0195 - val_mse: 0.0195\n",
            "Epoch 39/100\n",
            "2/2 [==============================] - 0s 30ms/step - loss: 0.0091 - mse: 0.0091 - val_loss: 0.0176 - val_mse: 0.0176\n",
            "Epoch 40/100\n",
            "2/2 [==============================] - 0s 47ms/step - loss: 0.0088 - mse: 0.0088 - val_loss: 0.0166 - val_mse: 0.0166\n",
            "Epoch 41/100\n",
            "2/2 [==============================] - 0s 31ms/step - loss: 0.0088 - mse: 0.0088 - val_loss: 0.0160 - val_mse: 0.0160\n",
            "Epoch 42/100\n",
            "2/2 [==============================] - 0s 31ms/step - loss: 0.0090 - mse: 0.0090 - val_loss: 0.0156 - val_mse: 0.0156\n",
            "Epoch 43/100\n",
            "2/2 [==============================] - 0s 48ms/step - loss: 0.0092 - mse: 0.0092 - val_loss: 0.0154 - val_mse: 0.0154\n",
            "Epoch 44/100\n",
            "2/2 [==============================] - 0s 48ms/step - loss: 0.0090 - mse: 0.0090 - val_loss: 0.0152 - val_mse: 0.0152\n",
            "Epoch 45/100\n",
            "2/2 [==============================] - 0s 36ms/step - loss: 0.0085 - mse: 0.0085 - val_loss: 0.0152 - val_mse: 0.0152\n",
            "Epoch 46/100\n",
            "2/2 [==============================] - 0s 33ms/step - loss: 0.0082 - mse: 0.0082 - val_loss: 0.0155 - val_mse: 0.0155\n",
            "Epoch 47/100\n",
            "2/2 [==============================] - 0s 33ms/step - loss: 0.0083 - mse: 0.0083 - val_loss: 0.0156 - val_mse: 0.0156\n",
            "Epoch 48/100\n",
            "2/2 [==============================] - 0s 42ms/step - loss: 0.0082 - mse: 0.0082 - val_loss: 0.0152 - val_mse: 0.0152\n",
            "Epoch 49/100\n",
            "2/2 [==============================] - 0s 32ms/step - loss: 0.0080 - mse: 0.0080 - val_loss: 0.0150 - val_mse: 0.0150\n",
            "Epoch 50/100\n",
            "2/2 [==============================] - 0s 50ms/step - loss: 0.0079 - mse: 0.0079 - val_loss: 0.0151 - val_mse: 0.0151\n",
            "Epoch 51/100\n",
            "2/2 [==============================] - 0s 53ms/step - loss: 0.0080 - mse: 0.0080 - val_loss: 0.0155 - val_mse: 0.0155\n",
            "Epoch 52/100\n",
            "2/2 [==============================] - 0s 53ms/step - loss: 0.0082 - mse: 0.0082 - val_loss: 0.0155 - val_mse: 0.0155\n",
            "Epoch 53/100\n",
            "2/2 [==============================] - 0s 49ms/step - loss: 0.0081 - mse: 0.0081 - val_loss: 0.0152 - val_mse: 0.0152\n",
            "Epoch 54/100\n",
            "2/2 [==============================] - 0s 57ms/step - loss: 0.0079 - mse: 0.0079 - val_loss: 0.0148 - val_mse: 0.0148\n",
            "Epoch 55/100\n",
            "2/2 [==============================] - 0s 49ms/step - loss: 0.0078 - mse: 0.0078 - val_loss: 0.0146 - val_mse: 0.0146\n",
            "Epoch 56/100\n",
            "2/2 [==============================] - 0s 48ms/step - loss: 0.0076 - mse: 0.0076 - val_loss: 0.0148 - val_mse: 0.0148\n",
            "Epoch 57/100\n",
            "2/2 [==============================] - 0s 55ms/step - loss: 0.0076 - mse: 0.0076 - val_loss: 0.0151 - val_mse: 0.0151\n",
            "Epoch 58/100\n",
            "2/2 [==============================] - 0s 34ms/step - loss: 0.0075 - mse: 0.0075 - val_loss: 0.0154 - val_mse: 0.0154\n",
            "Epoch 59/100\n",
            "2/2 [==============================] - 0s 34ms/step - loss: 0.0075 - mse: 0.0075 - val_loss: 0.0155 - val_mse: 0.0155\n",
            "Epoch 60/100\n",
            "2/2 [==============================] - 0s 34ms/step - loss: 0.0074 - mse: 0.0074 - val_loss: 0.0157 - val_mse: 0.0157\n",
            "Epoch 61/100\n",
            "2/2 [==============================] - 0s 55ms/step - loss: 0.0074 - mse: 0.0074 - val_loss: 0.0158 - val_mse: 0.0158\n",
            "Epoch 62/100\n",
            "2/2 [==============================] - 0s 33ms/step - loss: 0.0074 - mse: 0.0074 - val_loss: 0.0161 - val_mse: 0.0161\n",
            "Epoch 63/100\n",
            "2/2 [==============================] - 0s 30ms/step - loss: 0.0073 - mse: 0.0073 - val_loss: 0.0166 - val_mse: 0.0166\n",
            "Epoch 64/100\n",
            "2/2 [==============================] - 0s 32ms/step - loss: 0.0073 - mse: 0.0073 - val_loss: 0.0170 - val_mse: 0.0170\n",
            "Epoch 65/100\n",
            "2/2 [==============================] - 0s 39ms/step - loss: 0.0073 - mse: 0.0073 - val_loss: 0.0174 - val_mse: 0.0174\n",
            "Epoch 66/100\n",
            "2/2 [==============================] - 0s 31ms/step - loss: 0.0073 - mse: 0.0073 - val_loss: 0.0177 - val_mse: 0.0177\n",
            "Epoch 67/100\n",
            "2/2 [==============================] - 0s 34ms/step - loss: 0.0073 - mse: 0.0073 - val_loss: 0.0181 - val_mse: 0.0181\n",
            "Epoch 68/100\n",
            "2/2 [==============================] - 0s 48ms/step - loss: 0.0073 - mse: 0.0073 - val_loss: 0.0181 - val_mse: 0.0181\n",
            "Epoch 69/100\n",
            "2/2 [==============================] - 0s 38ms/step - loss: 0.0072 - mse: 0.0072 - val_loss: 0.0180 - val_mse: 0.0180\n",
            "Epoch 70/100\n",
            "2/2 [==============================] - 0s 32ms/step - loss: 0.0071 - mse: 0.0071 - val_loss: 0.0176 - val_mse: 0.0176\n",
            "Epoch 71/100\n",
            "2/2 [==============================] - 0s 32ms/step - loss: 0.0072 - mse: 0.0072 - val_loss: 0.0175 - val_mse: 0.0175\n",
            "Epoch 72/100\n",
            "2/2 [==============================] - 0s 33ms/step - loss: 0.0071 - mse: 0.0071 - val_loss: 0.0182 - val_mse: 0.0182\n",
            "Epoch 73/100\n",
            "2/2 [==============================] - 0s 37ms/step - loss: 0.0071 - mse: 0.0071 - val_loss: 0.0189 - val_mse: 0.0189\n",
            "Epoch 74/100\n",
            "2/2 [==============================] - 0s 29ms/step - loss: 0.0070 - mse: 0.0070 - val_loss: 0.0189 - val_mse: 0.0189\n",
            "Epoch 75/100\n",
            "2/2 [==============================] - 0s 25ms/step - loss: 0.0070 - mse: 0.0070 - val_loss: 0.0190 - val_mse: 0.0190\n",
            "Epoch 76/100\n",
            "2/2 [==============================] - 0s 25ms/step - loss: 0.0070 - mse: 0.0070 - val_loss: 0.0186 - val_mse: 0.0186\n",
            "Epoch 77/100\n",
            "2/2 [==============================] - 0s 32ms/step - loss: 0.0070 - mse: 0.0070 - val_loss: 0.0181 - val_mse: 0.0181\n",
            "Epoch 78/100\n",
            "2/2 [==============================] - 0s 25ms/step - loss: 0.0073 - mse: 0.0073 - val_loss: 0.0183 - val_mse: 0.0183\n",
            "Epoch 79/100\n",
            "2/2 [==============================] - 0s 23ms/step - loss: 0.0073 - mse: 0.0073 - val_loss: 0.0192 - val_mse: 0.0192\n",
            "Epoch 80/100\n",
            "2/2 [==============================] - 0s 25ms/step - loss: 0.0070 - mse: 0.0070 - val_loss: 0.0210 - val_mse: 0.0210\n",
            "Epoch 81/100\n",
            "2/2 [==============================] - 0s 24ms/step - loss: 0.0070 - mse: 0.0070 - val_loss: 0.0229 - val_mse: 0.0229\n",
            "Epoch 82/100\n",
            "2/2 [==============================] - 0s 25ms/step - loss: 0.0074 - mse: 0.0074 - val_loss: 0.0234 - val_mse: 0.0234\n",
            "Epoch 83/100\n",
            "2/2 [==============================] - 0s 25ms/step - loss: 0.0075 - mse: 0.0075 - val_loss: 0.0211 - val_mse: 0.0211\n",
            "Epoch 84/100\n",
            "2/2 [==============================] - 0s 25ms/step - loss: 0.0071 - mse: 0.0071 - val_loss: 0.0188 - val_mse: 0.0188\n",
            "Epoch 85/100\n",
            "2/2 [==============================] - 0s 23ms/step - loss: 0.0070 - mse: 0.0070 - val_loss: 0.0183 - val_mse: 0.0183\n",
            "Epoch 86/100\n",
            "2/2 [==============================] - 0s 23ms/step - loss: 0.0072 - mse: 0.0072 - val_loss: 0.0186 - val_mse: 0.0186\n",
            "Epoch 87/100\n",
            "2/2 [==============================] - 0s 23ms/step - loss: 0.0070 - mse: 0.0070 - val_loss: 0.0196 - val_mse: 0.0196\n",
            "Epoch 88/100\n",
            "2/2 [==============================] - 0s 33ms/step - loss: 0.0068 - mse: 0.0068 - val_loss: 0.0210 - val_mse: 0.0210\n",
            "Epoch 89/100\n",
            "2/2 [==============================] - 0s 25ms/step - loss: 0.0068 - mse: 0.0068 - val_loss: 0.0222 - val_mse: 0.0222\n",
            "Epoch 90/100\n",
            "2/2 [==============================] - 0s 23ms/step - loss: 0.0069 - mse: 0.0069 - val_loss: 0.0224 - val_mse: 0.0224\n",
            "Epoch 91/100\n",
            "2/2 [==============================] - 0s 23ms/step - loss: 0.0069 - mse: 0.0069 - val_loss: 0.0215 - val_mse: 0.0215\n",
            "Epoch 92/100\n",
            "2/2 [==============================] - 0s 24ms/step - loss: 0.0068 - mse: 0.0068 - val_loss: 0.0202 - val_mse: 0.0202\n",
            "Epoch 93/100\n",
            "2/2 [==============================] - 0s 23ms/step - loss: 0.0067 - mse: 0.0067 - val_loss: 0.0193 - val_mse: 0.0193\n",
            "Epoch 94/100\n",
            "2/2 [==============================] - 0s 23ms/step - loss: 0.0068 - mse: 0.0068 - val_loss: 0.0189 - val_mse: 0.0189\n",
            "Epoch 95/100\n",
            "2/2 [==============================] - 0s 23ms/step - loss: 0.0069 - mse: 0.0069 - val_loss: 0.0190 - val_mse: 0.0190\n",
            "Epoch 96/100\n",
            "2/2 [==============================] - 0s 23ms/step - loss: 0.0067 - mse: 0.0067 - val_loss: 0.0200 - val_mse: 0.0200\n",
            "Epoch 97/100\n",
            "2/2 [==============================] - 0s 23ms/step - loss: 0.0067 - mse: 0.0067 - val_loss: 0.0218 - val_mse: 0.0218\n",
            "Epoch 98/100\n",
            "2/2 [==============================] - 0s 24ms/step - loss: 0.0068 - mse: 0.0068 - val_loss: 0.0219 - val_mse: 0.0219\n",
            "Epoch 99/100\n",
            "2/2 [==============================] - 0s 24ms/step - loss: 0.0068 - mse: 0.0068 - val_loss: 0.0211 - val_mse: 0.0211\n",
            "Epoch 100/100\n",
            "2/2 [==============================] - 0s 24ms/step - loss: 0.0066 - mse: 0.0066 - val_loss: 0.0201 - val_mse: 0.0201\n",
            "1/1 [==============================] - 0s 32ms/step - loss: 0.0198 - mse: 0.0198\n"
          ]
        },
        {
          "output_type": "execute_result",
          "data": {
            "text/plain": [
              "[0.019830243661999702, 0.019830243661999702]"
            ]
          },
          "metadata": {},
          "execution_count": 18
        }
      ]
    },
    {
      "cell_type": "code",
      "source": [
        "print(history.history.keys())\n",
        "# \"Loss\"\n",
        "plt.plot(history.history['loss'])\n",
        "plt.plot(history.history['val_loss'])\n",
        "plt.title('model loss')\n",
        "plt.ylabel('loss')\n",
        "plt.xlabel('epoch')\n",
        "plt.legend(['train', 'validation'], loc='upper left')\n",
        "plt.show()"
      ],
      "metadata": {
        "colab": {
          "base_uri": "https://localhost:8080/",
          "height": 421
        },
        "id": "tvMUIg5SHsEF",
        "outputId": "f7e017bf-6bd5-4626-e9c0-485a75268782"
      },
      "execution_count": 19,
      "outputs": [
        {
          "output_type": "stream",
          "name": "stdout",
          "text": [
            "dict_keys(['loss', 'mse', 'val_loss', 'val_mse'])\n"
          ]
        },
        {
          "output_type": "display_data",
          "data": {
            "text/plain": [
              "<Figure size 720x360 with 1 Axes>"
            ],
            "image/png": "[encoded data removed]"
          },
          "metadata": {}
        }
      ]
    },
    {
      "cell_type": "code",
      "source": [
        "mse_cnn = cnn_model.evaluate(X_test, y_test)"
      ],
      "metadata": {
        "colab": {
          "base_uri": "https://localhost:8080/"
        },
        "id": "ImssP1C-YLO6",
        "outputId": "6da3b373-054d-4cbe-b85d-6b6a2ed1ee87"
      },
      "execution_count": 20,
      "outputs": [
        {
          "output_type": "stream",
          "name": "stdout",
          "text": [
            "1/1 [==============================] - 0s 20ms/step - loss: 0.0198 - mse: 0.0198\n"
          ]
        }
      ]
    },
    {
      "cell_type": "markdown",
      "source": [
        "####Baseline MSE = 0.01660"
      ],
      "metadata": {
        "id": "kaLutRuWgU4K"
      }
    },
    {
      "cell_type": "code",
      "source": [
        "cnn_model.summary()"
      ],
      "metadata": {
        "colab": {
          "base_uri": "https://localhost:8080/"
        },
        "id": "A8XbxYQeiCoj",
        "outputId": "b3f8f2e8-e1a1-47e1-c206-7b02d9c6537a"
      },
      "execution_count": null,
      "outputs": [
        {
          "output_type": "stream",
          "name": "stdout",
          "text": [
            "Model: \"sequential_31\"\n",
            "_________________________________________________________________\n",
            " Layer (type)                Output Shape              Param #   \n",
            "=================================================================\n",
            " conv1d_30 (Conv1D)          (None, 2, 64)             960       \n",
            "                                                                 \n",
            " max_pooling1d_30 (MaxPoolin  (None, 1, 64)            0         \n",
            " g1D)                                                            \n",
            "                                                                 \n",
            " flatten_30 (Flatten)        (None, 64)                0         \n",
            "                                                                 \n",
            " dense_125 (Dense)           (None, 64)                4160      \n",
            "                                                                 \n",
            " dense_126 (Dense)           (None, 1)                 65        \n",
            "                                                                 \n",
            "=================================================================\n",
            "Total params: 5,185\n",
            "Trainable params: 5,185\n",
            "Non-trainable params: 0\n",
            "_________________________________________________________________\n"
          ]
        }
      ]
    },
    {
      "cell_type": "markdown",
      "source": [
        "###Predict the Test without Hyperparameter Tuning"
      ],
      "metadata": {
        "id": "bNFFP1sSleo-"
      }
    },
    {
      "cell_type": "code",
      "source": [
        "y_pred = cnn_model.predict(X_test)\n",
        "y_pred"
      ],
      "metadata": {
        "colab": {
          "base_uri": "https://localhost:8080/"
        },
        "id": "wujQ6JNuiCyl",
        "outputId": "d1fe9433-8a20-45a0-b451-caee32c41e2e"
      },
      "execution_count": 21,
      "outputs": [
        {
          "output_type": "stream",
          "name": "stdout",
          "text": [
            "1/1 [==============================] - 0s 81ms/step\n"
          ]
        },
        {
          "output_type": "execute_result",
          "data": {
            "text/plain": [
              "array([[ 0.0956049 ],\n",
              "       [ 0.08446067],\n",
              "       [ 0.14943567],\n",
              "       [ 0.14781523],\n",
              "       [ 0.07793472],\n",
              "       [ 0.06686075],\n",
              "       [ 0.07229461],\n",
              "       [ 0.06787024],\n",
              "       [ 0.00876989],\n",
              "       [-0.01855144],\n",
              "       [-0.02550323],\n",
              "       [ 0.01274963],\n",
              "       [-0.02263439],\n",
              "       [-0.0340567 ],\n",
              "       [-0.03088948],\n",
              "       [-0.04009355],\n",
              "       [-0.06641145],\n",
              "       [ 0.0309817 ],\n",
              "       [ 0.12149443],\n",
              "       [ 0.15095262],\n",
              "       [ 0.08419695],\n",
              "       [ 0.06575862]], dtype=float32)"
            ]
          },
          "metadata": {},
          "execution_count": 21
        }
      ]
    },
    {
      "cell_type": "code",
      "source": [
        "y_pred.reshape(1,-1)"
      ],
      "metadata": {
        "colab": {
          "base_uri": "https://localhost:8080/"
        },
        "id": "GI8XYmymlslh",
        "outputId": "7a596fce-dcdf-4ee2-ab5b-33eea584b44d"
      },
      "execution_count": 22,
      "outputs": [
        {
          "output_type": "execute_result",
          "data": {
            "text/plain": [
              "array([[ 0.0956049 ,  0.08446067,  0.14943567,  0.14781523,  0.07793472,\n",
              "         0.06686075,  0.07229461,  0.06787024,  0.00876989, -0.01855144,\n",
              "        -0.02550323,  0.01274963, -0.02263439, -0.0340567 , -0.03088948,\n",
              "        -0.04009355, -0.06641145,  0.0309817 ,  0.12149443,  0.15095262,\n",
              "         0.08419695,  0.06575862]], dtype=float32)"
            ]
          },
          "metadata": {},
          "execution_count": 22
        }
      ]
    },
    {
      "cell_type": "markdown",
      "source": [
        "###Invert Transformed Data"
      ],
      "metadata": {
        "id": "jrtmvrZ_l2__"
      }
    },
    {
      "cell_type": "code",
      "source": [
        "y_train_inv = cpo_pri_transformer.inverse_transform(y_train.reshape(1, -1))\n",
        "y_test_inv = cpo_pri_transformer.inverse_transform(y_test.reshape(1, -1))\n",
        "y_pred_inv = cpo_pri_transformer.inverse_transform(y_pred.reshape(1,-1))\n",
        "print(y_train_inv)\n",
        "print(y_test_inv)\n",
        "print(y_pred_inv)"
      ],
      "metadata": {
        "colab": {
          "base_uri": "https://localhost:8080/"
        },
        "id": "FVSGGT57lxHw",
        "outputId": "a37adc8e-d3c3-48da-d7a0-327a401395a9"
      },
      "execution_count": 23,
      "outputs": [
        {
          "output_type": "stream",
          "name": "stdout",
          "text": [
            "[[376. 383. 382. 396. 402. 390. 404. 382. 382. 391. 396. 413. 401. 410.\n",
            "  425. 408. 392. 371. 356. 362. 356. 352. 333. 357. 411. 404. 387. 395.\n",
            "  434. 488. 508. 494. 575. 614. 616. 707. 719. 655. 661. 687. 625. 611.\n",
            "  631. 655. 616. 586. 615. 607. 590. 535. 518. 519. 562. 552. 508. 476.\n",
            "  513. 545. 532. 550. 561. 567. 580. 559. 562. 553. 533. 498. 504. 525.\n",
            "  547. 556. 566. 621. 659. 671. 688. 705. 633. 661. 674. 703. 694. 681.\n",
            "  663. 632. 561. 497. 509. 475. 392. 319. 354. 388. 381. 370.]]\n",
            "[[349. 372. 324. 315. 312. 306. 288. 255. 257. 265. 254. 240. 254. 251.\n",
            "  234. 255. 330. 362. 310. 277. 323. 360.]]\n",
            "[[357.24197 352.78427 378.77426 378.1261  350.1739  345.7443  347.91785\n",
            "  346.14807 322.50797 311.5794  308.7987  324.09985 309.94626 305.37732\n",
            "  306.6442  302.9626  292.43542 331.39267 367.59778 379.38107 352.67877\n",
            "  345.30344]]\n"
          ]
        }
      ]
    },
    {
      "cell_type": "markdown",
      "source": [
        "###Plot History, Actual and Predicted Value"
      ],
      "metadata": {
        "id": "PxYTgRmhmDtL"
      }
    },
    {
      "cell_type": "code",
      "source": [
        "y_train_inv = y_train_inv.flatten()\n",
        "y_train_inv"
      ],
      "metadata": {
        "colab": {
          "base_uri": "https://localhost:8080/"
        },
        "id": "YXY0nwhElxLo",
        "outputId": "e75c75cd-46c8-466b-e325-1a0f564517ba"
      },
      "execution_count": 24,
      "outputs": [
        {
          "output_type": "execute_result",
          "data": {
            "text/plain": [
              "array([376., 383., 382., 396., 402., 390., 404., 382., 382., 391., 396.,\n",
              "       413., 401., 410., 425., 408., 392., 371., 356., 362., 356., 352.,\n",
              "       333., 357., 411., 404., 387., 395., 434., 488., 508., 494., 575.,\n",
              "       614., 616., 707., 719., 655., 661., 687., 625., 611., 631., 655.,\n",
              "       616., 586., 615., 607., 590., 535., 518., 519., 562., 552., 508.,\n",
              "       476., 513., 545., 532., 550., 561., 567., 580., 559., 562., 553.,\n",
              "       533., 498., 504., 525., 547., 556., 566., 621., 659., 671., 688.,\n",
              "       705., 633., 661., 674., 703., 694., 681., 663., 632., 561., 497.,\n",
              "       509., 475., 392., 319., 354., 388., 381., 370.])"
            ]
          },
          "metadata": {},
          "execution_count": 24
        }
      ]
    },
    {
      "cell_type": "code",
      "source": [
        "y_test_inv = y_test_inv.flatten()\n",
        "y_test_inv"
      ],
      "metadata": {
        "colab": {
          "base_uri": "https://localhost:8080/"
        },
        "id": "z_zQn_rpl_MC",
        "outputId": "224e8c31-5b90-454f-8e00-3302412af9d0"
      },
      "execution_count": 27,
      "outputs": [
        {
          "output_type": "execute_result",
          "data": {
            "text/plain": [
              "array([349., 372., 324., 315., 312., 306., 288., 255., 257., 265., 254.,\n",
              "       240., 254., 251., 234., 255., 330., 362., 310., 277., 323., 360.])"
            ]
          },
          "metadata": {},
          "execution_count": 27
        }
      ]
    },
    {
      "cell_type": "code",
      "source": [
        "y_pred_inv = y_pred_inv.flatten()\n",
        "y_pred_inv"
      ],
      "metadata": {
        "colab": {
          "base_uri": "https://localhost:8080/"
        },
        "id": "X4GInUagmJUO",
        "outputId": "c0d6baed-9831-495d-8d44-3bd713ed0015"
      },
      "execution_count": 28,
      "outputs": [
        {
          "output_type": "execute_result",
          "data": {
            "text/plain": [
              "array([357.24197, 352.78427, 378.77426, 378.1261 , 350.1739 , 345.7443 ,\n",
              "       347.91785, 346.14807, 322.50797, 311.5794 , 308.7987 , 324.09985,\n",
              "       309.94626, 305.37732, 306.6442 , 302.9626 , 292.43542, 331.39267,\n",
              "       367.59778, 379.38107, 352.67877, 345.30344], dtype=float32)"
            ]
          },
          "metadata": {},
          "execution_count": 28
        }
      ]
    },
    {
      "cell_type": "code",
      "source": [
        "plt.figure(figsize=(17,9))\n",
        "#plt.grid()\n",
        "#plt.plot(np.arange(0, len(y_train)), y_train_inv, color='green', label=\"History\")\n",
        "plt.plot(np.arange(len(y_train), len(y_train) + len(y_test)), y_test_inv, color='red', marker='.', label=\"Actual\")\n",
        "plt.plot(np.arange(len(y_train), len(y_train) + len(y_test)), y_pred_inv, color='green', label=\"Tuned CNN Prediction\")\n",
        "plt.ylabel('Crude Palm Oil Price')\n",
        "plt.xlabel('Time step')\n",
        "plt.legend()\n",
        "ax.grid()\n",
        "#plt.grid()\n",
        "#plt.show();"
      ],
      "metadata": {
        "colab": {
          "base_uri": "https://localhost:8080/",
          "height": 616
        },
        "id": "vHGNO1xAmJYI",
        "outputId": "d82e1c80-abe7-4d7f-de2e-948431df6289"
      },
      "execution_count": 29,
      "outputs": [
        {
          "output_type": "display_data",
          "data": {
            "text/plain": [
              "<Figure size 1224x648 with 1 Axes>"
            ],
            "image/png": "[encoded data removed]"
          },
          "metadata": {}
        }
      ]
    },
    {
      "cell_type": "markdown",
      "source": [
        "###Evaluate CNN Model Accuracy"
      ],
      "metadata": {
        "id": "1NImON2RmyWF"
      }
    },
    {
      "cell_type": "code",
      "source": [
        "MAE_cnn = mean_absolute_error(y_test_inv, y_pred_inv)\n",
        "print('MAE value of the CNN Model is:', MAE_cnn)\n",
        "\n",
        "MDA_cnn = mda(y_test_inv, y_pred_inv)\n",
        "print('MDA value of the CNN Model is:', MDA_cnn)\n",
        "\n",
        "MAPE_cnn = mean_absolute_percentage_error(y_test_inv, y_pred_inv)\n",
        "print('MAPE value of the CNN Model is:', MAPE_cnn)\n",
        "\n",
        "RMSE_cnn = mean_squared_error(y_test_inv,y_pred_inv, squared=False)\n",
        "print('RMSE value of the CNN Model is:', RMSE_cnn)\n",
        "\n",
        "MSE_cnn = mean_squared_error(y_test_inv,y_pred_inv)\n",
        "print('MSE value of the CNN Model is:', MSE_cnn)\n",
        "\n",
        "#EVS_cnn = explained_variance_score(y_test_inv, y_pred_inv)\n",
        "#print('EVS score of the CNN Model is:', EVS_cnn)"
      ],
      "metadata": {
        "colab": {
          "base_uri": "https://localhost:8080/"
        },
        "id": "fIc5ITw4m2QJ",
        "outputId": "87f8659b-4127-4ba0-8d43-60b77751b2a0"
      },
      "execution_count": 30,
      "outputs": [
        {
          "output_type": "stream",
          "name": "stdout",
          "text": [
            "MAE value of the CNN Model is: 51.30838844992898\n",
            "MDA value of the CNN Model is: 0.3333333333333333\n",
            "MAPE value of the CNN Model is: 18.55097577305223\n",
            "RMSE value of the CNN Model is: 56.327963582476194\n",
            "MSE value of the CNN Model is: 3172.8394813487644\n"
          ]
        }
      ]
    },
    {
      "cell_type": "markdown",
      "source": [
        "###Tuning CNN with Keras Tuner"
      ],
      "metadata": {
        "id": "fs98oM36Yw_r"
      }
    },
    {
      "cell_type": "markdown",
      "source": [
        "Define A Model-Building Class"
      ],
      "metadata": {
        "id": "UHH-Phuz1M-L"
      }
    },
    {
      "cell_type": "code",
      "source": [
        "#class ANNhypermodel(HyperModel):\n",
        "class CNNHyperModel(HyperModel):\n",
        "    \n",
        "    def __init__(self, input_shape):\n",
        "        self.input_shape= input_shape\n",
        "        \n",
        "    def build(self, hp):\n",
        "        model= keras.Sequential()\n",
        "        \n",
        "        # Tune the number of units in the first Dense layer\n",
        "        # Defining dense units as a close approx to the original neural network to perform a fair comparision!\n",
        "      \n",
        "        hp_units_1= hp.Int('units_1', min_value=128, max_value= 160, step=32)\n",
        "        hp_units_2= hp.Int('units_2', min_value=64, max_value= 128, step=32)\n",
        "        hp_units_3= hp.Int('units_3', min_value=32, max_value= 64, step=16)\n",
        "        hp_units_4= hp.Int('units_4', min_value=16, max_value= 32, step=8)\n",
        "\n",
        "        model.add(keras.layers.Dense(units=hp_units_1, activation='tanh', input_shape= self.input_shape))\n",
        "        model.add(keras.layers.Dense(units=hp_units_2, activation='tanh'))\n",
        "        model.add(keras.layers.Dense(units=hp_units_3, activation='tanh'))\n",
        "        model.add(keras.layers.Dense(units=hp_units_4, activation='tanh'))\n",
        "        model.add(keras.layers.Dense(1))\n",
        "        #Tune the dropout\n",
        "        model.add(\n",
        "            Dropout(\n",
        "                rate=hp.Float(\n",
        "                    'dropout',\n",
        "                    min_value=0.0,\n",
        "                    max_value=0.5,\n",
        "                    default=0.25,\n",
        "                    step=0.05\n",
        "                )\n",
        "            )\n",
        "        )\n",
        "        \n",
        "        # Tune the epoch for the optimizer\n",
        "\n",
        "        #batch_size = hp.Int('batch_size',8,16,24,32,40,48,56,64,72,80,88,96, step=8)\n",
        "        \n",
        "        optimizers = hp.Choice('optimizer',values=['rmsprop','adam', 'AdamW', 'nadam','sgd','adadelta','adagrad'])\n",
        "\n",
        "        hp_dense_activation = hp.Choice('activation',values=['relu', 'tanh', 'sigmoid', 'linear', 'Softmax', 'ELU', 'linear'])\n",
        "\n",
        "        # Tune the batch size for the optimizer \n",
        "        hp_batch_size = hp.Int('batch_size', min_value = 8, max_value = 96, step = 8, default=8)\n",
        "        \n",
        "        # Tune the epoch for the optimizer\n",
        "        hp_epoch = hp.Int('epoch', min_value = 5, max_value = 100, step = 5, default=5)\n",
        "\n",
        "        # Tune the epoch for the momentum\n",
        "        hp_momentum = hp.Float('momentum', min_value = 0.8, max_value = 0.99, step = 0.01, default=0.9)\n",
        "\n",
        "        # Tune the epoch for the decay\n",
        "        hp_decay = hp.Float('decay', min_value = 1e-9, max_value = 1e-3, step= 0.0001, default=1e-7)\n",
        "\n",
        "        # Tune the learning rate for the optimizer \n",
        "        hp_learning_rate=hp.Float('learning_rate', min_value=1e-4, max_value=1e-2, sampling='LOG', default= 0.0005)\n",
        "       # -------------------------------------------------------\n",
        "        model.compile(loss='mse',\n",
        "                    optimizer= keras.optimizers.Adam(learning_rate=hp_learning_rate),\n",
        "                    metrics= ['mae','mse']\n",
        "                     )\n",
        "\n",
        "        return model\n",
        "\n",
        "#hypermodel= ANNhypermodel(input_shape = (X_test.shape[1], X_test.shape[2]))\n",
        "hypermodel = CNNHyperModel(input_shape = (X_test.shape[1], X_test.shape[2]))"
      ],
      "metadata": {
        "id": "6sH3KVfoj7jq"
      },
      "execution_count": 117,
      "outputs": []
    },
    {
      "cell_type": "markdown",
      "source": [
        "###Build Random Search Tuner"
      ],
      "metadata": {
        "id": "Vw6sRopRkNq-"
      }
    },
    {
      "cell_type": "code",
      "source": [
        "tuner_rs = RandomSearch(\n",
        "            hypermodel,\n",
        "            objective='mse',\n",
        "            seed=42,\n",
        "            max_trials=10,\n",
        "            executions_per_trial=2, overwrite=True\n",
        "        )"
      ],
      "metadata": {
        "id": "oPWNkr_dj7ng"
      },
      "execution_count": 118,
      "outputs": []
    },
    {
      "cell_type": "markdown",
      "source": [
        "###Run Random Search"
      ],
      "metadata": {
        "id": "UH8vIpuOkl0V"
      }
    },
    {
      "cell_type": "code",
      "source": [
        "tuner_rs.search(X_train, y_train, epochs=16, validation_split=0.2, verbose=0)"
      ],
      "metadata": {
        "id": "XC6nlTF4j7rN",
        "colab": {
          "base_uri": "https://localhost:8080/"
        },
        "outputId": "83b5fd92-7e60-4d5d-d749-ed08a69a9f93"
      },
      "execution_count": 119,
      "outputs": [
        {
          "output_type": "stream",
          "name": "stderr",
          "text": [
            "WARNING:tensorflow:Detecting that an object or model or tf.train.Checkpoint is being deleted with unrestored values. See the following logs for the specific values in question. To silence these warnings, use `status.expect_partial()`. See https://www.tensorflow.org/api_docs/python/tf/train/Checkpoint#restorefor details about the status object returned by the restore function.\n",
            "WARNING:tensorflow:Value in checkpoint could not be found in the restored object: (root).optimizer.iter\n",
            "WARNING:tensorflow:Value in checkpoint could not be found in the restored object: (root).optimizer.beta_1\n",
            "WARNING:tensorflow:Value in checkpoint could not be found in the restored object: (root).optimizer.beta_2\n",
            "WARNING:tensorflow:Value in checkpoint could not be found in the restored object: (root).optimizer.decay\n",
            "WARNING:tensorflow:Value in checkpoint could not be found in the restored object: (root).optimizer.learning_rate\n"
          ]
        }
      ]
    },
    {
      "cell_type": "markdown",
      "source": [
        "###Evaluate Random Search"
      ],
      "metadata": {
        "id": "ZWc0whe7l-_0"
      }
    },
    {
      "cell_type": "code",
      "source": [
        "best_model = tuner_rs.get_best_models(num_models=1)[0]\n",
        "mse_rs = best_model.evaluate(X_test, y_test)[1]"
      ],
      "metadata": {
        "colab": {
          "base_uri": "https://localhost:8080/"
        },
        "id": "V0u8mTuTj7wl",
        "outputId": "b8c1148f-956f-4459-cba7-d411702d0499"
      },
      "execution_count": 120,
      "outputs": [
        {
          "output_type": "stream",
          "name": "stderr",
          "text": [
            "WARNING:tensorflow:Detecting that an object or model or tf.train.Checkpoint is being deleted with unrestored values. See the following logs for the specific values in question. To silence these warnings, use `status.expect_partial()`. See https://www.tensorflow.org/api_docs/python/tf/train/Checkpoint#restorefor details about the status object returned by the restore function.\n",
            "WARNING:tensorflow:Value in checkpoint could not be found in the restored object: (root).optimizer.iter\n",
            "WARNING:tensorflow:Value in checkpoint could not be found in the restored object: (root).optimizer.beta_1\n",
            "WARNING:tensorflow:Value in checkpoint could not be found in the restored object: (root).optimizer.beta_2\n",
            "WARNING:tensorflow:Value in checkpoint could not be found in the restored object: (root).optimizer.decay\n",
            "WARNING:tensorflow:Value in checkpoint could not be found in the restored object: (root).optimizer.learning_rate\n",
            "WARNING:tensorflow:Detecting that an object or model or tf.train.Checkpoint is being deleted with unrestored values. See the following logs for the specific values in question. To silence these warnings, use `status.expect_partial()`. See https://www.tensorflow.org/api_docs/python/tf/train/Checkpoint#restorefor details about the status object returned by the restore function.\n",
            "WARNING:tensorflow:Value in checkpoint could not be found in the restored object: (root).optimizer.iter\n",
            "WARNING:tensorflow:Value in checkpoint could not be found in the restored object: (root).optimizer.beta_1\n",
            "WARNING:tensorflow:Value in checkpoint could not be found in the restored object: (root).optimizer.beta_2\n",
            "WARNING:tensorflow:Value in checkpoint could not be found in the restored object: (root).optimizer.decay\n",
            "WARNING:tensorflow:Value in checkpoint could not be found in the restored object: (root).optimizer.learning_rate\n"
          ]
        },
        {
          "output_type": "stream",
          "name": "stdout",
          "text": [
            "1/1 [==============================] - 1s 546ms/step - loss: 0.1623 - mae: 0.3871 - mse: 0.1623\n"
          ]
        }
      ]
    },
    {
      "cell_type": "markdown",
      "source": [
        "####Random Search MSE = 0.2369"
      ],
      "metadata": {
        "id": "9jgCzQ74mQjM"
      }
    },
    {
      "cell_type": "code",
      "source": [
        "best_params = tuner_rs.get_best_hyperparameters()\n",
        "\n",
        "best_params[0].values"
      ],
      "metadata": {
        "colab": {
          "base_uri": "https://localhost:8080/"
        },
        "id": "jJ5NIqxpj72V",
        "outputId": "0b4a8451-f41f-40bc-fc29-0be89b1fc8ca"
      },
      "execution_count": 121,
      "outputs": [
        {
          "output_type": "execute_result",
          "data": {
            "text/plain": [
              "{'units_1': 160,\n",
              " 'units_2': 128,\n",
              " 'units_3': 64,\n",
              " 'units_4': 32,\n",
              " 'dropout': 0.1,\n",
              " 'optimizer': 'sgd',\n",
              " 'activation': 'linear',\n",
              " 'batch_size': 64,\n",
              " 'epoch': 70,\n",
              " 'momentum': 0.8700000000000001,\n",
              " 'decay': 0.00010000100000000001,\n",
              " 'learning_rate': 0.0010874771484415556}"
            ]
          },
          "metadata": {},
          "execution_count": 121
        }
      ]
    },
    {
      "cell_type": "markdown",
      "source": [
        "###Build Bayesian Optimization"
      ],
      "metadata": {
        "id": "AxWQfBYpnLjI"
      }
    },
    {
      "cell_type": "code",
      "source": [
        "tuner_bo = BayesianOptimization(\n",
        "            hypermodel,\n",
        "            objective='val_mse',\n",
        "            max_trials=10,\n",
        "            seed=42,\n",
        "            executions_per_trial=2,\n",
        "            directory='bo'\n",
        "        )"
      ],
      "metadata": {
        "id": "uixpiCLPmsaZ"
      },
      "execution_count": 122,
      "outputs": []
    },
    {
      "cell_type": "markdown",
      "source": [
        "###Run Bayesian Optimization"
      ],
      "metadata": {
        "id": "_lTWVuDcoYU9"
      }
    },
    {
      "cell_type": "code",
      "source": [
        "tuner_bo.search(X_train, y_train, epochs=10, validation_split=0.2, verbose=0)\n",
        "\n",
        "best_model = tuner_bo.get_best_models(num_models=1)[0]\n",
        "mse_bo = best_model.evaluate(X_test, y_test)[1]"
      ],
      "metadata": {
        "id": "L6qZa1Kvmsgn",
        "outputId": "43b7c9b3-d5ab-498c-c261-711711307031",
        "colab": {
          "base_uri": "https://localhost:8080/"
        }
      },
      "execution_count": 123,
      "outputs": [
        {
          "output_type": "stream",
          "name": "stdout",
          "text": [
            "1/1 [==============================] - 0s 360ms/step - loss: 0.2290 - mae: 0.4630 - mse: 0.2290\n"
          ]
        }
      ]
    },
    {
      "cell_type": "markdown",
      "source": [
        "###Bayesian Optimization Search MSE = 0.3562"
      ],
      "metadata": {
        "id": "KiNYUG96ZUIz"
      }
    },
    {
      "cell_type": "markdown",
      "source": [
        "###Evaluate Bayesian Optimization"
      ],
      "metadata": {
        "id": "Ppb8qezeoe7c"
      }
    },
    {
      "cell_type": "code",
      "source": [
        "best_params = tuner_bo.get_best_hyperparameters()\n",
        "\n",
        "best_params[0].values"
      ],
      "metadata": {
        "colab": {
          "base_uri": "https://localhost:8080/"
        },
        "id": "0bDWDTrOmsm1",
        "outputId": "c9b3044d-a1a8-4afc-8df4-1609524418a8"
      },
      "execution_count": 124,
      "outputs": [
        {
          "output_type": "execute_result",
          "data": {
            "text/plain": [
              "{'units_1': 160,\n",
              " 'units_2': 96,\n",
              " 'units_3': 32,\n",
              " 'units_4': 24,\n",
              " 'dropout': 0.0,\n",
              " 'optimizer': 'adagrad',\n",
              " 'batch_size': 88,\n",
              " 'epoch': 60,\n",
              " 'momentum': 0.8,\n",
              " 'decay': 0.0009000010000000001,\n",
              " 'learning_rate': 0.0014866048211473926,\n",
              " 'activation': 'relu'}"
            ]
          },
          "metadata": {},
          "execution_count": 124
        }
      ]
    },
    {
      "cell_type": "code",
      "source": [
        "best_model = tuner_bo.get_best_models(num_models=1)[0]\n",
        "mse_bo = best_model.evaluate(X_test, y_test)[1]"
      ],
      "metadata": {
        "colab": {
          "base_uri": "https://localhost:8080/"
        },
        "id": "odraTQ8KbUw9",
        "outputId": "271ecc1a-e9b3-472d-e55d-f92401aa553c"
      },
      "execution_count": 125,
      "outputs": [
        {
          "output_type": "stream",
          "name": "stderr",
          "text": [
            "WARNING:tensorflow:Detecting that an object or model or tf.train.Checkpoint is being deleted with unrestored values. See the following logs for the specific values in question. To silence these warnings, use `status.expect_partial()`. See https://www.tensorflow.org/api_docs/python/tf/train/Checkpoint#restorefor details about the status object returned by the restore function.\n",
            "WARNING:tensorflow:Value in checkpoint could not be found in the restored object: (root).optimizer.iter\n",
            "WARNING:tensorflow:Value in checkpoint could not be found in the restored object: (root).optimizer.beta_1\n",
            "WARNING:tensorflow:Value in checkpoint could not be found in the restored object: (root).optimizer.beta_2\n",
            "WARNING:tensorflow:Value in checkpoint could not be found in the restored object: (root).optimizer.decay\n",
            "WARNING:tensorflow:Value in checkpoint could not be found in the restored object: (root).optimizer.learning_rate\n"
          ]
        },
        {
          "output_type": "stream",
          "name": "stdout",
          "text": [
            "1/1 [==============================] - 0s 441ms/step - loss: 0.2290 - mae: 0.4630 - mse: 0.2290\n"
          ]
        }
      ]
    },
    {
      "cell_type": "markdown",
      "source": [
        "###Build HYPERBAND optimization"
      ],
      "metadata": {
        "id": "9rYL672xrXtU"
      }
    },
    {
      "cell_type": "code",
      "source": [
        "MAX_TRIALS = 20\n",
        "tuner= RandomSearch(hypermodel,\n",
        "               objective= 'val_mse',\n",
        "               max_trials= MAX_TRIALS,\n",
        "               executions_per_trial= 2,\n",
        "               directory= 'random_search',\n",
        "               project_name='randomsearch',\n",
        "               overwrite=True)"
      ],
      "metadata": {
        "id": "CqxbIHGxmstL"
      },
      "execution_count": 126,
      "outputs": []
    },
    {
      "cell_type": "code",
      "source": [
        "HYPERBAND_MAX_EPOCHS = 150\n",
        "EXECUTION_PER_TRIAL = 2\n",
        "\n",
        "tuner= Hyperband(hypermodel,\n",
        "                   objective= 'val_mse',\n",
        "                   max_epochs=HYPERBAND_MAX_EPOCHS, #Set 100+ for good results\n",
        "                   executions_per_trial=EXECUTION_PER_TRIAL,\n",
        "                   directory= 'hyperband',\n",
        "                   project_name='hyper',\n",
        "                   overwrite=True)\n",
        "\n",
        "# tuner.search_space_summary()"
      ],
      "metadata": {
        "id": "eaGs4DAFosPl"
      },
      "execution_count": 127,
      "outputs": []
    },
    {
      "cell_type": "code",
      "source": [
        "print('searching for the best params!')\n",
        "\n",
        "t0 = time()\n",
        "tuner.search(x= X_train,\n",
        "             y= y_train,\n",
        "             epochs=100,\n",
        "             batch_size= 64,\n",
        "             validation_data= (X_test, y_test),\n",
        "             verbose=0,\n",
        "             callbacks= []\n",
        "            )\n",
        "print(time()- t0,\" secs\")\n",
        "\n",
        "# Retreive the optimal hyperparameters\n",
        "best_hps= tuner.get_best_hyperparameters(num_trials=1)[0]\n",
        "\n",
        "# Retrieve the best model\n",
        "best_model = tuner.get_best_models(num_models=1)[0]"
      ],
      "metadata": {
        "colab": {
          "base_uri": "https://localhost:8080/"
        },
        "id": "NXf_LR3mosWn",
        "outputId": "7767b80a-5a9e-48a7-ae72-0db12438eedc"
      },
      "execution_count": 128,
      "outputs": [
        {
          "metadata": {
            "tags": null
          },
          "name": "stdout",
          "output_type": "stream",
          "text": [
            "searching for the best params!\n"
          ]
        },
        {
          "metadata": {
            "tags": null
          },
          "name": "stderr",
          "output_type": "stream",
          "text": [
            "WARNING:tensorflow:Detecting that an object or model or tf.train.Checkpoint is being deleted with unrestored values. See the following logs for the specific values in question. To silence these warnings, use `status.expect_partial()`. See https://www.tensorflow.org/api_docs/python/tf/train/Checkpoint#restorefor details about the status object returned by the restore function.\n",
            "WARNING:tensorflow:Value in checkpoint could not be found in the restored object: (root).optimizer.iter\n",
            "WARNING:tensorflow:Value in checkpoint could not be found in the restored object: (root).optimizer.beta_1\n",
            "WARNING:tensorflow:Value in checkpoint could not be found in the restored object: (root).optimizer.beta_2\n",
            "WARNING:tensorflow:Value in checkpoint could not be found in the restored object: (root).optimizer.decay\n",
            "WARNING:tensorflow:Value in checkpoint could not be found in the restored object: (root).optimizer.learning_rate\n"
          ]
        },
        {
          "output_type": "stream",
          "name": "stdout",
          "text": [
            "985.7413971424103  secs\n"
          ]
        }
      ]
    },
    {
      "cell_type": "code",
      "source": [
        "print(f\"\"\"\n",
        "The hyperparameter search is complete. The optimal number of units in the \n",
        "first densely-connected layer is {best_hps.get('units_1')},\n",
        "second layer is {best_hps.get('units_2')} \n",
        "third layer is {best_hps.get('units_3')} \n",
        "fourth layer is {best_hps.get('units_4')}\n",
        "drop out is {best_hps.get('dropout')}\n",
        "batch_size is {best_hps.get('batch_size')}\n",
        "epoch is {best_hps.get('epoch')}\n",
        "optimizer is {best_hps.get('optimizer')}\n",
        "activation is {best_hps.get('activation')}\n",
        "\n",
        "momentum is {best_hps.get('momentum')}\n",
        "decay is {best_hps.get('decay')}\n",
        "\n",
        "#learning rate is {best_hps.get('learning_rate')}                                        \n",
        "\n",
        "and the optimal learning rate for the optimizer\n",
        "is {best_hps.get('learning_rate')}.\n",
        "\"\"\")\n",
        "\n",
        "# Evaluate the best model.\n",
        "print(best_model.metrics_names)\n",
        "loss, mae, mse = best_model.evaluate(X_test, y_test)\n",
        "print(f'loss:{loss} mae: {mae} mse: {mse}')"
      ],
      "metadata": {
        "colab": {
          "base_uri": "https://localhost:8080/"
        },
        "id": "UcOC-csfrvmH",
        "outputId": "6d593cb7-96bf-416c-9ff6-f293fd725e4f"
      },
      "execution_count": 129,
      "outputs": [
        {
          "output_type": "stream",
          "name": "stdout",
          "text": [
            "\n",
            "The hyperparameter search is complete. The optimal number of units in the \n",
            "first densely-connected layer is 160,\n",
            "second layer is 96 \n",
            "third layer is 64 \n",
            "fourth layer is 16\n",
            "drop out is 0.05\n",
            "batch_size is 16\n",
            "epoch is 80\n",
            "optimizer is adagrad\n",
            "activation is tanh\n",
            "\n",
            "momentum is 0.8200000000000001\n",
            "decay is 0.000500001\n",
            "\n",
            "#learning rate is 0.004423920770740319                                        \n",
            "\n",
            "and the optimal learning rate for the optimizer\n",
            "is 0.004423920770740319.\n",
            "\n",
            "[]\n",
            "1/1 [==============================] - 0s 406ms/step - loss: 0.0122 - mae: 0.0959 - mse: 0.0122\n",
            "loss:0.012198645621538162 mae: 0.09587270021438599 mse: 0.012198646552860737\n"
          ]
        }
      ]
    },
    {
      "cell_type": "code",
      "source": [
        "# Get the optimal hyperparameters\n",
        "best_hps = tuner.get_best_hyperparameters(num_trials = 1)[0]\n",
        "print(best_hps.values)"
      ],
      "metadata": {
        "id": "q0e8tSIulgh_",
        "colab": {
          "base_uri": "https://localhost:8080/"
        },
        "outputId": "44567dd2-211b-42c5-993e-c3b5c2b94a87"
      },
      "execution_count": 59,
      "outputs": [
        {
          "output_type": "stream",
          "name": "stdout",
          "text": [
            "{'units_1': 160, 'units_2': 96, 'units_3': 48, 'units_4': 32, 'dropout': 0.35000000000000003, 'optimizer': 'adam', 'activation': 'sigmoid', 'batch_size': 72, 'epoch': 35, 'momentum': 0.8700000000000001, 'decay': 0.00010000100000000001, 'learning_rate': 0.0020428411416533315, 'tuner/epochs': 2, 'tuner/initial_epoch': 0, 'tuner/bracket': 4, 'tuner/round': 0}\n"
          ]
        }
      ]
    },
    {
      "cell_type": "markdown",
      "source": [
        "###Apply the trained parameters to the CNN"
      ],
      "metadata": {
        "id": "oggNSpcVpofH"
      }
    },
    {
      "cell_type": "code",
      "source": [
        "TUcnn_model = tf.keras.Sequential()\n",
        "TUcnn_model.add(tf.keras.layers.Conv1D(filters=160, kernel_size=2, activation='tanh', input_shape=(X_test.shape[1], X_test.shape[2])))\n",
        "TUcnn_model.add(tf.keras.layers.Dense(96, activation='tanh'))\n",
        "TUcnn_model.add(layers.Dropout(0.05))\n",
        "TUcnn_model.add(tf.keras.layers.MaxPooling1D(pool_size=2))\n",
        "TUcnn_model.add(tf.keras.layers.Flatten())\n",
        "#TUcnn_model.add(layers.Dropout(0.05))\n",
        "\n",
        "TUcnn_model.add(tf.keras.layers.Dense(64, activation='tanh'))\n",
        "\n",
        "TUcnn_model.add(tf.keras.layers.Dense(16, 'linear'))\n",
        "\n",
        "\n",
        "#Output layer of model\n",
        "TUcnn_model.add(tf.keras.layers.Dense(1))"
      ],
      "metadata": {
        "id": "exKbi-BBYxAt"
      },
      "execution_count": 341,
      "outputs": []
    },
    {
      "cell_type": "code",
      "source": [
        "TUcnn_model.compile(loss = 'mse', optimizer= tf.keras.optimizers.Adagrad(lr=0.00442, decay = 0.00050), metrics= ['mae', 'mse'])\n",
        "#TUcnn_model.compile(optimizer='rmsprop',loss='mse',metrics=['mse']),\n",
        "history = TUcnn_model.fit(X_train, y_train, epochs=80, batch_size=16,validation_split=0.2,shuffle=False) # 80/160"
      ],
      "metadata": {
        "colab": {
          "base_uri": "https://localhost:8080/"
        },
        "id": "2OVvMjqyY2kW",
        "outputId": "d360134c-eac7-457d-ca7e-62d3cb0c6520"
      },
      "execution_count": 342,
      "outputs": [
        {
          "output_type": "stream",
          "name": "stdout",
          "text": [
            "Epoch 1/80\n",
            "5/5 [==============================] - 1s 49ms/step - loss: 0.1228 - mae: 0.2804 - mse: 0.1228 - val_loss: 0.0351 - val_mae: 0.1564 - val_mse: 0.0351\n",
            "Epoch 2/80\n",
            "5/5 [==============================] - 0s 11ms/step - loss: 0.0371 - mae: 0.1699 - mse: 0.0371 - val_loss: 0.0319 - val_mae: 0.1497 - val_mse: 0.0319\n",
            "Epoch 3/80\n",
            "5/5 [==============================] - 0s 9ms/step - loss: 0.0338 - mae: 0.1528 - mse: 0.0338 - val_loss: 0.0297 - val_mae: 0.1447 - val_mse: 0.0297\n",
            "Epoch 4/80\n",
            "5/5 [==============================] - 0s 9ms/step - loss: 0.0307 - mae: 0.1487 - mse: 0.0307 - val_loss: 0.0283 - val_mae: 0.1406 - val_mse: 0.0283\n",
            "Epoch 5/80\n",
            "5/5 [==============================] - 0s 15ms/step - loss: 0.0262 - mae: 0.1325 - mse: 0.0262 - val_loss: 0.0274 - val_mae: 0.1419 - val_mse: 0.0274\n",
            "Epoch 6/80\n",
            "5/5 [==============================] - 0s 12ms/step - loss: 0.0216 - mae: 0.1217 - mse: 0.0216 - val_loss: 0.0249 - val_mae: 0.1330 - val_mse: 0.0249\n",
            "Epoch 7/80\n",
            "5/5 [==============================] - 0s 15ms/step - loss: 0.0209 - mae: 0.1195 - mse: 0.0209 - val_loss: 0.0234 - val_mae: 0.1291 - val_mse: 0.0234\n",
            "Epoch 8/80\n",
            "5/5 [==============================] - 0s 19ms/step - loss: 0.0204 - mae: 0.1112 - mse: 0.0204 - val_loss: 0.0227 - val_mae: 0.1270 - val_mse: 0.0227\n",
            "Epoch 9/80\n",
            "5/5 [==============================] - 0s 34ms/step - loss: 0.0176 - mae: 0.1058 - mse: 0.0176 - val_loss: 0.0223 - val_mae: 0.1256 - val_mse: 0.0223\n",
            "Epoch 10/80\n",
            "5/5 [==============================] - 0s 24ms/step - loss: 0.0171 - mae: 0.1051 - mse: 0.0171 - val_loss: 0.0231 - val_mae: 0.1273 - val_mse: 0.0231\n",
            "Epoch 11/80\n",
            "5/5 [==============================] - 0s 28ms/step - loss: 0.0187 - mae: 0.1061 - mse: 0.0187 - val_loss: 0.0214 - val_mae: 0.1217 - val_mse: 0.0214\n",
            "Epoch 12/80\n",
            "5/5 [==============================] - 0s 25ms/step - loss: 0.0194 - mae: 0.1055 - mse: 0.0194 - val_loss: 0.0204 - val_mae: 0.1188 - val_mse: 0.0204\n",
            "Epoch 13/80\n",
            "5/5 [==============================] - 0s 15ms/step - loss: 0.0155 - mae: 0.0966 - mse: 0.0155 - val_loss: 0.0197 - val_mae: 0.1163 - val_mse: 0.0197\n",
            "Epoch 14/80\n",
            "5/5 [==============================] - 0s 16ms/step - loss: 0.0188 - mae: 0.1049 - mse: 0.0188 - val_loss: 0.0189 - val_mae: 0.1135 - val_mse: 0.0189\n",
            "Epoch 15/80\n",
            "5/5 [==============================] - 0s 16ms/step - loss: 0.0132 - mae: 0.0885 - mse: 0.0132 - val_loss: 0.0194 - val_mae: 0.1144 - val_mse: 0.0194\n",
            "Epoch 16/80\n",
            "5/5 [==============================] - 0s 17ms/step - loss: 0.0153 - mae: 0.0962 - mse: 0.0153 - val_loss: 0.0191 - val_mae: 0.1133 - val_mse: 0.0191\n",
            "Epoch 17/80\n",
            "5/5 [==============================] - 0s 20ms/step - loss: 0.0140 - mae: 0.0868 - mse: 0.0140 - val_loss: 0.0183 - val_mae: 0.1107 - val_mse: 0.0183\n",
            "Epoch 18/80\n",
            "5/5 [==============================] - 0s 16ms/step - loss: 0.0144 - mae: 0.0919 - mse: 0.0144 - val_loss: 0.0181 - val_mae: 0.1097 - val_mse: 0.0181\n",
            "Epoch 19/80\n",
            "5/5 [==============================] - 0s 30ms/step - loss: 0.0123 - mae: 0.0880 - mse: 0.0123 - val_loss: 0.0186 - val_mae: 0.1112 - val_mse: 0.0186\n",
            "Epoch 20/80\n",
            "5/5 [==============================] - 0s 45ms/step - loss: 0.0117 - mae: 0.0821 - mse: 0.0117 - val_loss: 0.0182 - val_mae: 0.1100 - val_mse: 0.0182\n",
            "Epoch 21/80\n",
            "5/5 [==============================] - 0s 14ms/step - loss: 0.0131 - mae: 0.0880 - mse: 0.0131 - val_loss: 0.0182 - val_mae: 0.1100 - val_mse: 0.0182\n",
            "Epoch 22/80\n",
            "5/5 [==============================] - 0s 13ms/step - loss: 0.0116 - mae: 0.0840 - mse: 0.0116 - val_loss: 0.0190 - val_mae: 0.1139 - val_mse: 0.0190\n",
            "Epoch 23/80\n",
            "5/5 [==============================] - 0s 13ms/step - loss: 0.0111 - mae: 0.0844 - mse: 0.0111 - val_loss: 0.0178 - val_mae: 0.1080 - val_mse: 0.0178\n",
            "Epoch 24/80\n",
            "5/5 [==============================] - 0s 17ms/step - loss: 0.0117 - mae: 0.0809 - mse: 0.0117 - val_loss: 0.0176 - val_mae: 0.1082 - val_mse: 0.0176\n",
            "Epoch 25/80\n",
            "5/5 [==============================] - 0s 13ms/step - loss: 0.0127 - mae: 0.0876 - mse: 0.0127 - val_loss: 0.0199 - val_mae: 0.1174 - val_mse: 0.0199\n",
            "Epoch 26/80\n",
            "5/5 [==============================] - 0s 13ms/step - loss: 0.0131 - mae: 0.0928 - mse: 0.0131 - val_loss: 0.0178 - val_mae: 0.1098 - val_mse: 0.0178\n",
            "Epoch 27/80\n",
            "5/5 [==============================] - 0s 16ms/step - loss: 0.0125 - mae: 0.0844 - mse: 0.0125 - val_loss: 0.0175 - val_mae: 0.1089 - val_mse: 0.0175\n",
            "Epoch 28/80\n",
            "5/5 [==============================] - 0s 14ms/step - loss: 0.0130 - mae: 0.0890 - mse: 0.0130 - val_loss: 0.0170 - val_mae: 0.1067 - val_mse: 0.0170\n",
            "Epoch 29/80\n",
            "5/5 [==============================] - 0s 15ms/step - loss: 0.0112 - mae: 0.0840 - mse: 0.0112 - val_loss: 0.0167 - val_mae: 0.1043 - val_mse: 0.0167\n",
            "Epoch 30/80\n",
            "5/5 [==============================] - 0s 13ms/step - loss: 0.0121 - mae: 0.0897 - mse: 0.0121 - val_loss: 0.0162 - val_mae: 0.1018 - val_mse: 0.0162\n",
            "Epoch 31/80\n",
            "5/5 [==============================] - 0s 13ms/step - loss: 0.0134 - mae: 0.0913 - mse: 0.0134 - val_loss: 0.0164 - val_mae: 0.1037 - val_mse: 0.0164\n",
            "Epoch 32/80\n",
            "5/5 [==============================] - 0s 17ms/step - loss: 0.0117 - mae: 0.0883 - mse: 0.0117 - val_loss: 0.0173 - val_mae: 0.1091 - val_mse: 0.0173\n",
            "Epoch 33/80\n",
            "5/5 [==============================] - 0s 13ms/step - loss: 0.0093 - mae: 0.0758 - mse: 0.0093 - val_loss: 0.0166 - val_mae: 0.1061 - val_mse: 0.0166\n",
            "Epoch 34/80\n",
            "5/5 [==============================] - 0s 16ms/step - loss: 0.0129 - mae: 0.0886 - mse: 0.0129 - val_loss: 0.0162 - val_mae: 0.1039 - val_mse: 0.0162\n",
            "Epoch 35/80\n",
            "5/5 [==============================] - 0s 13ms/step - loss: 0.0131 - mae: 0.0937 - mse: 0.0131 - val_loss: 0.0168 - val_mae: 0.1072 - val_mse: 0.0168\n",
            "Epoch 36/80\n",
            "5/5 [==============================] - 0s 13ms/step - loss: 0.0104 - mae: 0.0805 - mse: 0.0104 - val_loss: 0.0159 - val_mae: 0.1014 - val_mse: 0.0159\n",
            "Epoch 37/80\n",
            "5/5 [==============================] - 0s 17ms/step - loss: 0.0116 - mae: 0.0870 - mse: 0.0116 - val_loss: 0.0163 - val_mae: 0.1047 - val_mse: 0.0163\n",
            "Epoch 38/80\n",
            "5/5 [==============================] - 0s 17ms/step - loss: 0.0123 - mae: 0.0864 - mse: 0.0123 - val_loss: 0.0160 - val_mae: 0.1025 - val_mse: 0.0160\n",
            "Epoch 39/80\n",
            "5/5 [==============================] - 0s 14ms/step - loss: 0.0126 - mae: 0.0886 - mse: 0.0126 - val_loss: 0.0156 - val_mae: 0.0991 - val_mse: 0.0156\n",
            "Epoch 40/80\n",
            "5/5 [==============================] - 0s 14ms/step - loss: 0.0127 - mae: 0.0878 - mse: 0.0127 - val_loss: 0.0160 - val_mae: 0.1025 - val_mse: 0.0160\n",
            "Epoch 41/80\n",
            "5/5 [==============================] - 0s 15ms/step - loss: 0.0114 - mae: 0.0829 - mse: 0.0114 - val_loss: 0.0156 - val_mae: 0.0997 - val_mse: 0.0156\n",
            "Epoch 42/80\n",
            "5/5 [==============================] - 0s 14ms/step - loss: 0.0109 - mae: 0.0802 - mse: 0.0109 - val_loss: 0.0155 - val_mae: 0.0985 - val_mse: 0.0155\n",
            "Epoch 43/80\n",
            "5/5 [==============================] - 0s 14ms/step - loss: 0.0116 - mae: 0.0836 - mse: 0.0116 - val_loss: 0.0154 - val_mae: 0.0962 - val_mse: 0.0154\n",
            "Epoch 44/80\n",
            "5/5 [==============================] - 0s 16ms/step - loss: 0.0111 - mae: 0.0782 - mse: 0.0111 - val_loss: 0.0153 - val_mae: 0.0990 - val_mse: 0.0153\n",
            "Epoch 45/80\n",
            "5/5 [==============================] - 0s 13ms/step - loss: 0.0130 - mae: 0.0898 - mse: 0.0130 - val_loss: 0.0155 - val_mae: 0.1013 - val_mse: 0.0155\n",
            "Epoch 46/80\n",
            "5/5 [==============================] - 0s 12ms/step - loss: 0.0105 - mae: 0.0797 - mse: 0.0105 - val_loss: 0.0153 - val_mae: 0.1000 - val_mse: 0.0153\n",
            "Epoch 47/80\n",
            "5/5 [==============================] - 0s 13ms/step - loss: 0.0109 - mae: 0.0815 - mse: 0.0109 - val_loss: 0.0152 - val_mae: 0.0980 - val_mse: 0.0152\n",
            "Epoch 48/80\n",
            "5/5 [==============================] - 0s 14ms/step - loss: 0.0103 - mae: 0.0797 - mse: 0.0103 - val_loss: 0.0154 - val_mae: 0.0984 - val_mse: 0.0154\n",
            "Epoch 49/80\n",
            "5/5 [==============================] - 0s 15ms/step - loss: 0.0102 - mae: 0.0800 - mse: 0.0102 - val_loss: 0.0157 - val_mae: 0.1018 - val_mse: 0.0157\n",
            "Epoch 50/80\n",
            "5/5 [==============================] - 0s 15ms/step - loss: 0.0133 - mae: 0.0871 - mse: 0.0133 - val_loss: 0.0153 - val_mae: 0.0999 - val_mse: 0.0153\n",
            "Epoch 51/80\n",
            "5/5 [==============================] - 0s 18ms/step - loss: 0.0105 - mae: 0.0808 - mse: 0.0105 - val_loss: 0.0150 - val_mae: 0.0965 - val_mse: 0.0150\n",
            "Epoch 52/80\n",
            "5/5 [==============================] - 0s 14ms/step - loss: 0.0100 - mae: 0.0798 - mse: 0.0100 - val_loss: 0.0150 - val_mae: 0.0964 - val_mse: 0.0150\n",
            "Epoch 53/80\n",
            "5/5 [==============================] - 0s 9ms/step - loss: 0.0118 - mae: 0.0819 - mse: 0.0118 - val_loss: 0.0150 - val_mae: 0.0977 - val_mse: 0.0150\n",
            "Epoch 54/80\n",
            "5/5 [==============================] - 0s 10ms/step - loss: 0.0107 - mae: 0.0846 - mse: 0.0107 - val_loss: 0.0152 - val_mae: 0.0992 - val_mse: 0.0152\n",
            "Epoch 55/80\n",
            "5/5 [==============================] - 0s 10ms/step - loss: 0.0110 - mae: 0.0826 - mse: 0.0110 - val_loss: 0.0154 - val_mae: 0.1007 - val_mse: 0.0154\n",
            "Epoch 56/80\n",
            "5/5 [==============================] - 0s 9ms/step - loss: 0.0111 - mae: 0.0870 - mse: 0.0111 - val_loss: 0.0150 - val_mae: 0.0968 - val_mse: 0.0150\n",
            "Epoch 57/80\n",
            "5/5 [==============================] - 0s 11ms/step - loss: 0.0085 - mae: 0.0730 - mse: 0.0085 - val_loss: 0.0150 - val_mae: 0.0977 - val_mse: 0.0150\n",
            "Epoch 58/80\n",
            "5/5 [==============================] - 0s 10ms/step - loss: 0.0107 - mae: 0.0825 - mse: 0.0107 - val_loss: 0.0151 - val_mae: 0.0983 - val_mse: 0.0151\n",
            "Epoch 59/80\n",
            "5/5 [==============================] - 0s 9ms/step - loss: 0.0094 - mae: 0.0787 - mse: 0.0094 - val_loss: 0.0149 - val_mae: 0.0951 - val_mse: 0.0149\n",
            "Epoch 60/80\n",
            "5/5 [==============================] - 0s 10ms/step - loss: 0.0101 - mae: 0.0778 - mse: 0.0101 - val_loss: 0.0149 - val_mae: 0.0965 - val_mse: 0.0149\n",
            "Epoch 61/80\n",
            "5/5 [==============================] - 0s 13ms/step - loss: 0.0097 - mae: 0.0781 - mse: 0.0097 - val_loss: 0.0149 - val_mae: 0.0963 - val_mse: 0.0149\n",
            "Epoch 62/80\n",
            "5/5 [==============================] - 0s 9ms/step - loss: 0.0099 - mae: 0.0810 - mse: 0.0099 - val_loss: 0.0151 - val_mae: 0.0953 - val_mse: 0.0151\n",
            "Epoch 63/80\n",
            "5/5 [==============================] - 0s 11ms/step - loss: 0.0098 - mae: 0.0788 - mse: 0.0098 - val_loss: 0.0152 - val_mae: 0.0967 - val_mse: 0.0152\n",
            "Epoch 64/80\n",
            "5/5 [==============================] - 0s 10ms/step - loss: 0.0092 - mae: 0.0748 - mse: 0.0092 - val_loss: 0.0153 - val_mae: 0.0969 - val_mse: 0.0153\n",
            "Epoch 65/80\n",
            "5/5 [==============================] - 0s 9ms/step - loss: 0.0113 - mae: 0.0844 - mse: 0.0113 - val_loss: 0.0151 - val_mae: 0.0963 - val_mse: 0.0151\n",
            "Epoch 66/80\n",
            "5/5 [==============================] - 0s 11ms/step - loss: 0.0117 - mae: 0.0861 - mse: 0.0117 - val_loss: 0.0150 - val_mae: 0.0967 - val_mse: 0.0150\n",
            "Epoch 67/80\n",
            "5/5 [==============================] - 0s 9ms/step - loss: 0.0101 - mae: 0.0801 - mse: 0.0101 - val_loss: 0.0150 - val_mae: 0.0972 - val_mse: 0.0150\n",
            "Epoch 68/80\n",
            "5/5 [==============================] - 0s 9ms/step - loss: 0.0101 - mae: 0.0814 - mse: 0.0101 - val_loss: 0.0150 - val_mae: 0.0947 - val_mse: 0.0150\n",
            "Epoch 69/80\n",
            "5/5 [==============================] - 0s 10ms/step - loss: 0.0102 - mae: 0.0794 - mse: 0.0102 - val_loss: 0.0150 - val_mae: 0.0956 - val_mse: 0.0150\n",
            "Epoch 70/80\n",
            "5/5 [==============================] - 0s 10ms/step - loss: 0.0102 - mae: 0.0823 - mse: 0.0102 - val_loss: 0.0152 - val_mae: 0.0987 - val_mse: 0.0152\n",
            "Epoch 71/80\n",
            "5/5 [==============================] - 0s 10ms/step - loss: 0.0106 - mae: 0.0840 - mse: 0.0106 - val_loss: 0.0151 - val_mae: 0.0954 - val_mse: 0.0151\n",
            "Epoch 72/80\n",
            "5/5 [==============================] - 0s 10ms/step - loss: 0.0101 - mae: 0.0842 - mse: 0.0101 - val_loss: 0.0153 - val_mae: 0.0957 - val_mse: 0.0153\n",
            "Epoch 73/80\n",
            "5/5 [==============================] - 0s 10ms/step - loss: 0.0088 - mae: 0.0731 - mse: 0.0088 - val_loss: 0.0152 - val_mae: 0.0972 - val_mse: 0.0152\n",
            "Epoch 74/80\n",
            "5/5 [==============================] - 0s 9ms/step - loss: 0.0107 - mae: 0.0801 - mse: 0.0107 - val_loss: 0.0154 - val_mae: 0.0960 - val_mse: 0.0154\n",
            "Epoch 75/80\n",
            "5/5 [==============================] - 0s 9ms/step - loss: 0.0101 - mae: 0.0812 - mse: 0.0101 - val_loss: 0.0153 - val_mae: 0.0963 - val_mse: 0.0153\n",
            "Epoch 76/80\n",
            "5/5 [==============================] - 0s 12ms/step - loss: 0.0086 - mae: 0.0737 - mse: 0.0086 - val_loss: 0.0151 - val_mae: 0.0965 - val_mse: 0.0151\n",
            "Epoch 77/80\n",
            "5/5 [==============================] - 0s 14ms/step - loss: 0.0106 - mae: 0.0807 - mse: 0.0106 - val_loss: 0.0150 - val_mae: 0.0955 - val_mse: 0.0150\n",
            "Epoch 78/80\n",
            "5/5 [==============================] - 0s 10ms/step - loss: 0.0108 - mae: 0.0807 - mse: 0.0108 - val_loss: 0.0148 - val_mae: 0.0959 - val_mse: 0.0148\n",
            "Epoch 79/80\n",
            "5/5 [==============================] - 0s 9ms/step - loss: 0.0086 - mae: 0.0748 - mse: 0.0086 - val_loss: 0.0149 - val_mae: 0.0945 - val_mse: 0.0149\n",
            "Epoch 80/80\n",
            "5/5 [==============================] - 0s 9ms/step - loss: 0.0094 - mae: 0.0778 - mse: 0.0094 - val_loss: 0.0147 - val_mae: 0.0949 - val_mse: 0.0147\n"
          ]
        }
      ]
    },
    {
      "cell_type": "markdown",
      "source": [
        "Plot Model Loss"
      ],
      "metadata": {
        "id": "4KLve2-WilBF"
      }
    },
    {
      "cell_type": "code",
      "source": [
        "loss = history.history['loss']\n",
        "val_loss = history.history['val_loss']\n",
        "\n",
        "epochs=range(len(loss)) \n",
        "\n",
        "\n",
        "#------------------------------------------------\n",
        "# Plot training and validation loss per epoch\n",
        "#------------------------------------------------\n",
        "plt.plot(epochs, loss, 'r',label='loss')\n",
        "plt.plot(epochs,val_loss,'blue',label='val loss')\n",
        "plt.title('Training loss & Val Loss by Epochs')\n",
        "plt.xlabel(\"Epochs\")\n",
        "plt.ylabel(\"Loss\")\n",
        "plt.legend()\n",
        "\n",
        "plt.figure()"
      ],
      "metadata": {
        "colab": {
          "base_uri": "https://localhost:8080/",
          "height": 438
        },
        "id": "DXBeY_MGZSMP",
        "outputId": "f35d75f6-d7cb-433f-beca-411e0959236b"
      },
      "execution_count": 343,
      "outputs": [
        {
          "output_type": "execute_result",
          "data": {
            "text/plain": [
              "<Figure size 720x360 with 0 Axes>"
            ]
          },
          "metadata": {},
          "execution_count": 343
        },
        {
          "output_type": "display_data",
          "data": {
            "text/plain": [
              "<Figure size 720x360 with 1 Axes>"
            ],
            "image/png": "[encoded data removed]"
          },
          "metadata": {}
        },
        {
          "output_type": "display_data",
          "data": {
            "text/plain": [
              "<Figure size 720x360 with 0 Axes>"
            ]
          },
          "metadata": {}
        }
      ]
    },
    {
      "cell_type": "code",
      "source": [
        "y_predTU = TUcnn_model.predict(X_test)\n",
        "y_predTU"
      ],
      "metadata": {
        "colab": {
          "base_uri": "https://localhost:8080/"
        },
        "id": "lHiuk7B6iQVK",
        "outputId": "a8c679f9-bfd9-4d7b-84b7-eb8074139e3a"
      },
      "execution_count": 344,
      "outputs": [
        {
          "output_type": "stream",
          "name": "stdout",
          "text": [
            "1/1 [==============================] - 0s 124ms/step\n"
          ]
        },
        {
          "output_type": "execute_result",
          "data": {
            "text/plain": [
              "array([[ 0.00546572],\n",
              "       [ 0.0165812 ],\n",
              "       [ 0.03978847],\n",
              "       [ 0.06120689],\n",
              "       [ 0.00222187],\n",
              "       [-0.00165096],\n",
              "       [-0.01046579],\n",
              "       [-0.03348706],\n",
              "       [-0.07239317],\n",
              "       [-0.10421136],\n",
              "       [-0.09402699],\n",
              "       [-0.09702002],\n",
              "       [-0.11779732],\n",
              "       [-0.1095286 ],\n",
              "       [-0.12970062],\n",
              "       [-0.14781317],\n",
              "       [-0.174248  ],\n",
              "       [-0.0560968 ],\n",
              "       [ 0.06180786],\n",
              "       [ 0.10106263],\n",
              "       [ 0.02863697],\n",
              "       [-0.00106315]], dtype=float32)"
            ]
          },
          "metadata": {},
          "execution_count": 344
        }
      ]
    },
    {
      "cell_type": "code",
      "source": [
        "y_predTU.reshape(1,-1)"
      ],
      "metadata": {
        "colab": {
          "base_uri": "https://localhost:8080/"
        },
        "id": "JbqyY5OriQYh",
        "outputId": "1d839484-35f7-4e49-f9fc-115309adb214"
      },
      "execution_count": 345,
      "outputs": [
        {
          "output_type": "execute_result",
          "data": {
            "text/plain": [
              "array([[ 0.00546572,  0.0165812 ,  0.03978847,  0.06120689,  0.00222187,\n",
              "        -0.00165096, -0.01046579, -0.03348706, -0.07239317, -0.10421136,\n",
              "        -0.09402699, -0.09702002, -0.11779732, -0.1095286 , -0.12970062,\n",
              "        -0.14781317, -0.174248  , -0.0560968 ,  0.06180786,  0.10106263,\n",
              "         0.02863697, -0.00106315]], dtype=float32)"
            ]
          },
          "metadata": {},
          "execution_count": 345
        }
      ]
    },
    {
      "cell_type": "markdown",
      "source": [
        "###Invert Transformed Tuned Data"
      ],
      "metadata": {
        "id": "XXPkM7CFsB5U"
      }
    },
    {
      "cell_type": "code",
      "source": [
        "y_train_inv = cpo_pri_transformer.inverse_transform(y_train.reshape(1, -1))\n",
        "y_test_inv = cpo_pri_transformer.inverse_transform(y_test.reshape(1, -1))\n",
        "y_pred_inv = cpo_pri_transformer.inverse_transform(y_predTU.reshape(1,-1))\n",
        "print(y_train_inv)\n",
        "print(y_test_inv)\n",
        "print(y_pred_inv)"
      ],
      "metadata": {
        "colab": {
          "base_uri": "https://localhost:8080/"
        },
        "id": "gZ8inWeYy64m",
        "outputId": "051ff90a-ca3e-42a7-d744-8205b17a4a8e"
      },
      "execution_count": 346,
      "outputs": [
        {
          "output_type": "stream",
          "name": "stdout",
          "text": [
            "[[376. 383. 382. 396. 402. 390. 404. 382. 382. 391. 396. 413. 401. 410.\n",
            "  425. 408. 392. 371. 356. 362. 356. 352. 333. 357. 411. 404. 387. 395.\n",
            "  434. 488. 508. 494. 575. 614. 616. 707. 719. 655. 661. 687. 625. 611.\n",
            "  631. 655. 616. 586. 615. 607. 590. 535. 518. 519. 562. 552. 508. 476.\n",
            "  513. 545. 532. 550. 561. 567. 580. 559. 562. 553. 533. 498. 504. 525.\n",
            "  547. 556. 566. 621. 659. 671. 688. 705. 633. 661. 674. 703. 694. 681.\n",
            "  663. 632. 561. 497. 509. 475. 392. 319. 354. 388. 381. 370.]]\n",
            "[[349. 372. 324. 315. 312. 306. 288. 255. 257. 265. 254. 240. 254. 251.\n",
            "  234. 255. 330. 362. 310. 277. 323. 360.]]\n",
            "[[321.18628 325.63248 334.9154  343.48276 319.88876 318.3396  314.8137\n",
            "  305.60516 290.04272 277.31546 281.38922 280.192   271.88107 275.18857\n",
            "  267.11975 259.87473 249.30081 296.56128 343.72314 359.42505 330.45477\n",
            "  318.57474]]\n"
          ]
        }
      ]
    },
    {
      "cell_type": "code",
      "source": [
        "y_train_inv = y_train_inv.flatten()\n",
        "y_train_inv"
      ],
      "metadata": {
        "colab": {
          "base_uri": "https://localhost:8080/"
        },
        "id": "2g9TLmgHy7Hw",
        "outputId": "fa26f171-7361-4c31-e2e8-92f185ff8cbc"
      },
      "execution_count": 347,
      "outputs": [
        {
          "output_type": "execute_result",
          "data": {
            "text/plain": [
              "array([376., 383., 382., 396., 402., 390., 404., 382., 382., 391., 396.,\n",
              "       413., 401., 410., 425., 408., 392., 371., 356., 362., 356., 352.,\n",
              "       333., 357., 411., 404., 387., 395., 434., 488., 508., 494., 575.,\n",
              "       614., 616., 707., 719., 655., 661., 687., 625., 611., 631., 655.,\n",
              "       616., 586., 615., 607., 590., 535., 518., 519., 562., 552., 508.,\n",
              "       476., 513., 545., 532., 550., 561., 567., 580., 559., 562., 553.,\n",
              "       533., 498., 504., 525., 547., 556., 566., 621., 659., 671., 688.,\n",
              "       705., 633., 661., 674., 703., 694., 681., 663., 632., 561., 497.,\n",
              "       509., 475., 392., 319., 354., 388., 381., 370.])"
            ]
          },
          "metadata": {},
          "execution_count": 347
        }
      ]
    },
    {
      "cell_type": "code",
      "source": [
        "y_test_inv = y_test_inv.flatten()\n",
        "y_test_inv"
      ],
      "metadata": {
        "colab": {
          "base_uri": "https://localhost:8080/"
        },
        "id": "PDdnZUrXy7L4",
        "outputId": "002fb296-9fb7-4272-82ae-17c5ca3a379b"
      },
      "execution_count": 348,
      "outputs": [
        {
          "output_type": "execute_result",
          "data": {
            "text/plain": [
              "array([349., 372., 324., 315., 312., 306., 288., 255., 257., 265., 254.,\n",
              "       240., 254., 251., 234., 255., 330., 362., 310., 277., 323., 360.])"
            ]
          },
          "metadata": {},
          "execution_count": 348
        }
      ]
    },
    {
      "cell_type": "code",
      "source": [
        "TU_CNN_Pred = y_pred_inv.flatten()   #y_pred_inv = TU_CNN_Pred\n",
        "TU_CNN_Pred"
      ],
      "metadata": {
        "colab": {
          "base_uri": "https://localhost:8080/"
        },
        "id": "fqq4-3-lsuEy",
        "outputId": "359edfe5-f946-4c9f-80d4-b1c4ae01055f"
      },
      "execution_count": 349,
      "outputs": [
        {
          "output_type": "execute_result",
          "data": {
            "text/plain": [
              "array([321.18628, 325.63248, 334.9154 , 343.48276, 319.88876, 318.3396 ,\n",
              "       314.8137 , 305.60516, 290.04272, 277.31546, 281.38922, 280.192  ,\n",
              "       271.88107, 275.18857, 267.11975, 259.87473, 249.30081, 296.56128,\n",
              "       343.72314, 359.42505, 330.45477, 318.57474], dtype=float32)"
            ]
          },
          "metadata": {},
          "execution_count": 349
        }
      ]
    },
    {
      "cell_type": "code",
      "source": [
        "plt.plot(np.arange(0, len(y_train)), y_train_inv, color='green', label=\"History\")\n",
        "plt.plot(np.arange(len(y_train), len(y_train) + len(y_test)), y_test_inv, color='blue', marker='.', label=\"Actual\")\n",
        "plt.plot(np.arange(len(y_train), len(y_train) + len(y_test)), TU_CNN_Pred, color='red', label=\"Tuned CNN Prediction\")\n",
        "plt.ylabel('Crude Palm Oil Price')\n",
        "plt.xlabel('Time step')\n",
        "plt.legend()\n",
        "plt.show();"
      ],
      "metadata": {
        "colab": {
          "base_uri": "https://localhost:8080/",
          "height": 383
        },
        "id": "nBN919VXsuNq",
        "outputId": "90f4904b-c3fd-4a69-a00f-ead8db3953f7"
      },
      "execution_count": 350,
      "outputs": [
        {
          "output_type": "display_data",
          "data": {
            "text/plain": [
              "<Figure size 720x360 with 1 Axes>"
            ],
            "image/png": "[encoded data removed]"
          },
          "metadata": {}
        }
      ]
    },
    {
      "cell_type": "code",
      "source": [
        "TUMAE_cnn = mean_absolute_error(y_test_inv, TU_CNN_Pred)\n",
        "print('MAE value of the CNN Model is:', TUMAE_cnn)\n",
        "\n",
        "TUMDA_cnn = mda(y_test_inv, TU_CNN_Pred)\n",
        "print('MDA value of the CNN Model is:', TUMDA_cnn)\n",
        "\n",
        "TUMAPE_cnn = mean_absolute_percentage_error(y_test_inv, TU_CNN_Pred)\n",
        "print('MAPE value of the CNN Model is:', TUMAPE_cnn)\n",
        "\n",
        "TURMSE_cnn = mean_squared_error(y_test_inv,TU_CNN_Pred, squared=False)\n",
        "print('RMSE value of the CNN Model is:', TURMSE_cnn)\n",
        "\n",
        "TUMSE_cnn = mean_squared_error(y_test_inv,TU_CNN_Pred)\n",
        "print('MSE value of the CNN Model is:', TUMSE_cnn)"
      ],
      "metadata": {
        "colab": {
          "base_uri": "https://localhost:8080/"
        },
        "id": "FqciJO0esuRc",
        "outputId": "5cc0c7d5-10c7-4395-9e98-37e89647a887"
      },
      "execution_count": 351,
      "outputs": [
        {
          "output_type": "stream",
          "name": "stdout",
          "text": [
            "MAE value of the CNN Model is: 32.51801230690696\n",
            "MDA value of the CNN Model is: 0.38095238095238093\n",
            "MAPE value of the CNN Model is: 11.059949329125955\n",
            "RMSE value of the CNN Model is: 39.010620254707376\n",
            "MSE value of the CNN Model is: 1521.8284926569852\n"
          ]
        }
      ]
    },
    {
      "cell_type": "markdown",
      "source": [
        "Compare tuned CNN Actual VS Predicted (Zoomed-IN)"
      ],
      "metadata": {
        "id": "oczznVkQihRI"
      }
    },
    {
      "cell_type": "code",
      "source": [
        "#Plot the graph between actual vs predicted values\n",
        "plt.figure(figsize=(15,7))  #(10,6))\n",
        "plt.plot(TU_CNN_Pred, color= 'green',marker='.',label = 'Tuned CNN Predicted for cpo_pri')\n",
        "plt.plot(y_test_inv, color = 'red',marker='.',label = 'Actual cpo_pri ')\n",
        "plt.title(\"Tuned CNN Crude Palm Oil Price Prediction (Multivariate)\")\n",
        "plt.xlabel(\"Time step\")\n",
        "plt.ylabel(\"Crude Palm Oil Price\")\n",
        "plt.legend()\n",
        "plt.show()\n",
        "plt.savefig('graph_TUcnn.png')"
      ],
      "metadata": {
        "colab": {
          "base_uri": "https://localhost:8080/",
          "height": 538
        },
        "id": "RmqyhCu_iV_w",
        "outputId": "6f5a8888-9e2b-4c72-89ca-162288776da8"
      },
      "execution_count": 352,
      "outputs": [
        {
          "output_type": "display_data",
          "data": {
            "text/plain": [
              "<Figure size 1080x504 with 1 Axes>"
            ],
            "image/png": "[encoded data removed]"
          },
          "metadata": {}
        },
        {
          "output_type": "display_data",
          "data": {
            "text/plain": [
              "<Figure size 720x360 with 0 Axes>"
            ]
          },
          "metadata": {}
        }
      ]
    },
    {
      "cell_type": "markdown",
      "source": [
        "##Results\n",
        "\n",
        "Baseline MSE         = 0.0160\n",
        "\n",
        "Random search MSE    = 0.2349\n",
        "\n",
        "Bayesian search MSE  = 0.3562\n",
        "\n",
        "Hyperband search MSE = 0.0118\n",
        "\n",
        "Baseline RSME        = 50.6\n",
        "\n",
        "Tuned CNN RSME       = 42.18"
      ],
      "metadata": {
        "id": "xMdKc2DKj1e-"
      }
    },
    {
      "cell_type": "markdown",
      "source": [
        "The tuned CNN is superior to the basseline based on the RSME result"
      ],
      "metadata": {
        "id": "J9SI5KHvtAsT"
      }
    },
    {
      "cell_type": "code",
      "source": [
        "TU_CNN_Pred"
      ],
      "metadata": {
        "id": "TZ39HAx1d0RJ",
        "outputId": "6f2c1296-93f5-4ded-d847-ffa45963c22f",
        "colab": {
          "base_uri": "https://localhost:8080/"
        }
      },
      "execution_count": null,
      "outputs": [
        {
          "output_type": "execute_result",
          "data": {
            "text/plain": [
              "array([347.44516, 340.68094, 350.3727 , 349.47916, 338.25525, 325.55246,\n",
              "       326.9378 , 325.72952, 309.97247, 299.66055, 303.72882, 307.1458 ,\n",
              "       296.03058, 283.43015, 286.5078 , 285.74634, 274.33182, 275.08328,\n",
              "       328.6628 , 367.21143, 348.66684, 324.47903], dtype=float32)"
            ]
          },
          "metadata": {},
          "execution_count": 502
        }
      ]
    },
    {
      "cell_type": "code",
      "source": [
        "df.to_csv(r'Path where you want to store the exported CSV file\\File Name.csv', index=False"
      ],
      "metadata": {
        "id": "egdGXKYRkqnB"
      },
      "execution_count": null,
      "outputs": []
    },
    {
      "cell_type": "code",
      "source": [
        "dataframe=pd.DataFrame(TU_CNN_Pred, columns=['CNN_tuned']) \n",
        "print (dataframe)\n",
        "\n",
        "df.to_csv('TU_CNN_Pred.csv', index = False)"
      ],
      "metadata": {
        "id": "a7C0daffgS-N",
        "outputId": "34874edd-74ab-4766-b6a0-daddec8b7720",
        "colab": {
          "base_uri": "https://localhost:8080/"
        }
      },
      "execution_count": null,
      "outputs": [
        {
          "output_type": "stream",
          "name": "stdout",
          "text": [
            "     CNN_tuned\n",
            "0   347.445160\n",
            "1   340.680939\n",
            "2   350.372711\n",
            "3   349.479156\n",
            "4   338.255249\n",
            "5   325.552460\n",
            "6   326.937805\n",
            "7   325.729523\n",
            "8   309.972473\n",
            "9   299.660553\n",
            "10  303.728821\n",
            "11  307.145813\n",
            "12  296.030579\n",
            "13  283.430145\n",
            "14  286.507812\n",
            "15  285.746338\n",
            "16  274.331818\n",
            "17  275.083282\n",
            "18  328.662811\n",
            "19  367.211426\n",
            "20  348.666840\n",
            "21  324.479034\n"
          ]
        }
      ]
    },
    {
      "cell_type": "code",
      "source": [
        "df = pd.DataFrame(TU_CNN_Pred)"
      ],
      "metadata": {
        "id": "vKbfqTf-lUhZ"
      },
      "execution_count": null,
      "outputs": []
    },
    {
      "cell_type": "code",
      "source": [
        "\n",
        "import pandas as pd\n",
        "\n",
        "data = {'product': ['computer', 'tablet', 'printer', 'laptop'],\n",
        "        'price': [850, 200, 150, 1300]\n",
        "        }\n",
        "\n",
        "df = pd.DataFrame(data)\n",
        "\n",
        "print(df)"
      ],
      "metadata": {
        "id": "NjWtkZ3ddyM1",
        "outputId": "51044d32-f22f-4015-d0d5-1e731383319a",
        "colab": {
          "base_uri": "https://localhost:8080/"
        }
      },
      "execution_count": null,
      "outputs": [
        {
          "output_type": "stream",
          "name": "stdout",
          "text": [
            "    product  price\n",
            "0  computer    850\n",
            "1    tablet    200\n",
            "2   printer    150\n",
            "3    laptop   1300\n"
          ]
        }
      ]
    },
    {
      "cell_type": "code",
      "source": [
        "df = pd.DataFrame(TU_CNN_Pred)\n",
        "\n",
        "print(df)"
      ],
      "metadata": {
        "id": "CyZ4HpcBdydh",
        "outputId": "23d7865b-406b-440b-9fef-f24fc737b4db",
        "colab": {
          "base_uri": "https://localhost:8080/"
        }
      },
      "execution_count": null,
      "outputs": [
        {
          "output_type": "stream",
          "name": "stdout",
          "text": [
            "             0\n",
            "0   347.445160\n",
            "1   340.680939\n",
            "2   350.372711\n",
            "3   349.479156\n",
            "4   338.255249\n",
            "5   325.552460\n",
            "6   326.937805\n",
            "7   325.729523\n",
            "8   309.972473\n",
            "9   299.660553\n",
            "10  303.728821\n",
            "11  307.145813\n",
            "12  296.030579\n",
            "13  283.430145\n",
            "14  286.507812\n",
            "15  285.746338\n",
            "16  274.331818\n",
            "17  275.083282\n",
            "18  328.662811\n",
            "19  367.211426\n",
            "20  348.666840\n",
            "21  324.479034\n"
          ]
        }
      ]
    },
    {
      "cell_type": "code",
      "source": [
        "r‘C:/content/TU_CNN_Pred.csv‘"
      ],
      "metadata": {
        "id": "O026IhBMmT9E",
        "outputId": "8a5a5bdf-18e4-4513-cd37-ed1970b84a4f",
        "colab": {
          "base_uri": "https://localhost:8080/",
          "height": 153
        }
      },
      "execution_count": null,
      "outputs": [
        {
          "output_type": "error",
          "ename": "SyntaxError",
          "evalue": "ignored",
          "traceback": [
            "\u001b[0;36m  File \u001b[0;32m\"<ipython-input-507-2b161623c050>\"\u001b[0;36m, line \u001b[0;32m1\u001b[0m\n\u001b[0;31m    r‘C:/content/TU_CNN_Pred.csv‘\u001b[0m\n\u001b[0m      ^\u001b[0m\n\u001b[0;31mSyntaxError\u001b[0m\u001b[0;31m:\u001b[0m invalid character in identifier\n"
          ]
        }
      ]
    },
    {
      "cell_type": "code",
      "source": [
        "/content/TU_CNN_Pred.csv"
      ],
      "metadata": {
        "id": "hXyxsJl8mUJf"
      },
      "execution_count": null,
      "outputs": []
    }
  ]
}