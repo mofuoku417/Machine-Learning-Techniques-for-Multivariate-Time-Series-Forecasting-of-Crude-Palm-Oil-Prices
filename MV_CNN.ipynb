{
  "nbformat": 4,
  "nbformat_minor": 0,
  "metadata": {
    "colab": {
      "name": "MV_CNN.ipynb",
      "provenance": [],
      "authorship_tag": "ABX9TyOfUNoq4OKPBfwPkdM0z5J2",
      "include_colab_link": true
    },
    "kernelspec": {
      "name": "python3",
      "display_name": "Python 3"
    },
    "language_info": {
      "name": "python"
    },
    "gpuClass": "standard",
    "accelerator": "GPU"
  },
  "cells": [
    {
      "cell_type": "markdown",
      "metadata": {
        "id": "view-in-github",
        "colab_type": "text"
      },
      "source": [
        "<a href=\"https://colab.research.google.com/github/mofuoku417/Machine-Learning-Techniques-for-Multivariate-Time-Series-Forecasting-of-Crude-Palm-Oil-Prices/blob/main/MV_CNN.ipynb\" target=\"_parent\"><img src=\"https://colab.research.google.com/assets/colab-badge.svg\" alt=\"Open In Colab\"/></a>"
      ]
    },
    {
      "cell_type": "markdown",
      "source": [
        "##Objective: Predict Monthly Crude Palm Oil Price Using Convolutional Neural Network (CNN)"
      ],
      "metadata": {
        "id": "tt6Yvzr3gZ-g"
      }
    },
    {
      "cell_type": "markdown",
      "source": [
        "###Install dependencies"
      ],
      "metadata": {
        "id": "TvRmatc1Lo4v"
      }
    },
    {
      "cell_type": "code",
      "source": [
        "!pip install scikeras\n",
        "!pip install bayesian-optimization\n",
        "!pip install keras-tuner --upgrade"
      ],
      "metadata": {
        "id": "gGw0m6TUdgMM",
        "outputId": "87f4a03d-cc78-49b5-85b3-0c8a8f77d202",
        "colab": {
          "base_uri": "https://localhost:8080/"
        }
      },
      "execution_count": 2,
      "outputs": [
        {
          "output_type": "stream",
          "name": "stdout",
          "text": [
            "Looking in indexes: https://pypi.org/simple, https://us-python.pkg.dev/colab-wheels/public/simple/\n",
            "Requirement already satisfied: scikeras in /usr/local/lib/python3.8/dist-packages (0.10.0)\n",
            "Requirement already satisfied: packaging>=0.21 in /usr/local/lib/python3.8/dist-packages (from scikeras) (23.0)\n",
            "Requirement already satisfied: scikit-learn>=1.0.0 in /usr/local/lib/python3.8/dist-packages (from scikeras) (1.0.2)\n",
            "Requirement already satisfied: numpy>=1.14.6 in /usr/local/lib/python3.8/dist-packages (from scikit-learn>=1.0.0->scikeras) (1.21.6)\n",
            "Requirement already satisfied: joblib>=0.11 in /usr/local/lib/python3.8/dist-packages (from scikit-learn>=1.0.0->scikeras) (1.2.0)\n",
            "Requirement already satisfied: scipy>=1.1.0 in /usr/local/lib/python3.8/dist-packages (from scikit-learn>=1.0.0->scikeras) (1.7.3)\n",
            "Requirement already satisfied: threadpoolctl>=2.0.0 in /usr/local/lib/python3.8/dist-packages (from scikit-learn>=1.0.0->scikeras) (3.1.0)\n",
            "Looking in indexes: https://pypi.org/simple, https://us-python.pkg.dev/colab-wheels/public/simple/\n",
            "Requirement already satisfied: bayesian-optimization in /usr/local/lib/python3.8/dist-packages (1.4.2)\n",
            "Requirement already satisfied: colorama>=0.4.6 in /usr/local/lib/python3.8/dist-packages (from bayesian-optimization) (0.4.6)\n",
            "Requirement already satisfied: numpy>=1.9.0 in /usr/local/lib/python3.8/dist-packages (from bayesian-optimization) (1.21.6)\n",
            "Requirement already satisfied: scikit-learn>=0.18.0 in /usr/local/lib/python3.8/dist-packages (from bayesian-optimization) (1.0.2)\n",
            "Requirement already satisfied: scipy>=1.0.0 in /usr/local/lib/python3.8/dist-packages (from bayesian-optimization) (1.7.3)\n",
            "Requirement already satisfied: joblib>=0.11 in /usr/local/lib/python3.8/dist-packages (from scikit-learn>=0.18.0->bayesian-optimization) (1.2.0)\n",
            "Requirement already satisfied: threadpoolctl>=2.0.0 in /usr/local/lib/python3.8/dist-packages (from scikit-learn>=0.18.0->bayesian-optimization) (3.1.0)\n",
            "Looking in indexes: https://pypi.org/simple, https://us-python.pkg.dev/colab-wheels/public/simple/\n",
            "Requirement already satisfied: keras-tuner in /usr/local/lib/python3.8/dist-packages (1.2.0)\n",
            "Requirement already satisfied: kt-legacy in /usr/local/lib/python3.8/dist-packages (from keras-tuner) (1.0.4)\n",
            "Requirement already satisfied: ipython in /usr/local/lib/python3.8/dist-packages (from keras-tuner) (7.9.0)\n",
            "Requirement already satisfied: requests in /usr/local/lib/python3.8/dist-packages (from keras-tuner) (2.25.1)\n",
            "Requirement already satisfied: tensorflow>=2.0 in /usr/local/lib/python3.8/dist-packages (from keras-tuner) (2.9.2)\n",
            "Requirement already satisfied: packaging in /usr/local/lib/python3.8/dist-packages (from keras-tuner) (23.0)\n",
            "Requirement already satisfied: h5py>=2.9.0 in /usr/local/lib/python3.8/dist-packages (from tensorflow>=2.0->keras-tuner) (3.1.0)\n",
            "Requirement already satisfied: termcolor>=1.1.0 in /usr/local/lib/python3.8/dist-packages (from tensorflow>=2.0->keras-tuner) (2.2.0)\n",
            "Requirement already satisfied: astunparse>=1.6.0 in /usr/local/lib/python3.8/dist-packages (from tensorflow>=2.0->keras-tuner) (1.6.3)\n",
            "Requirement already satisfied: absl-py>=1.0.0 in /usr/local/lib/python3.8/dist-packages (from tensorflow>=2.0->keras-tuner) (1.4.0)\n",
            "Requirement already satisfied: flatbuffers<2,>=1.12 in /usr/local/lib/python3.8/dist-packages (from tensorflow>=2.0->keras-tuner) (1.12)\n",
            "Requirement already satisfied: gast<=0.4.0,>=0.2.1 in /usr/local/lib/python3.8/dist-packages (from tensorflow>=2.0->keras-tuner) (0.4.0)\n",
            "Requirement already satisfied: six>=1.12.0 in /usr/local/lib/python3.8/dist-packages (from tensorflow>=2.0->keras-tuner) (1.15.0)\n",
            "Requirement already satisfied: grpcio<2.0,>=1.24.3 in /usr/local/lib/python3.8/dist-packages (from tensorflow>=2.0->keras-tuner) (1.51.1)\n",
            "Requirement already satisfied: setuptools in /usr/local/lib/python3.8/dist-packages (from tensorflow>=2.0->keras-tuner) (57.4.0)\n",
            "Requirement already satisfied: numpy>=1.20 in /usr/local/lib/python3.8/dist-packages (from tensorflow>=2.0->keras-tuner) (1.21.6)\n",
            "Requirement already satisfied: tensorboard<2.10,>=2.9 in /usr/local/lib/python3.8/dist-packages (from tensorflow>=2.0->keras-tuner) (2.9.1)\n",
            "Requirement already satisfied: libclang>=13.0.0 in /usr/local/lib/python3.8/dist-packages (from tensorflow>=2.0->keras-tuner) (15.0.6.1)\n",
            "Requirement already satisfied: google-pasta>=0.1.1 in /usr/local/lib/python3.8/dist-packages (from tensorflow>=2.0->keras-tuner) (0.2.0)\n",
            "Requirement already satisfied: wrapt>=1.11.0 in /usr/local/lib/python3.8/dist-packages (from tensorflow>=2.0->keras-tuner) (1.14.1)\n",
            "Requirement already satisfied: tensorflow-estimator<2.10.0,>=2.9.0rc0 in /usr/local/lib/python3.8/dist-packages (from tensorflow>=2.0->keras-tuner) (2.9.0)\n",
            "Requirement already satisfied: protobuf<3.20,>=3.9.2 in /usr/local/lib/python3.8/dist-packages (from tensorflow>=2.0->keras-tuner) (3.19.6)\n",
            "Requirement already satisfied: tensorflow-io-gcs-filesystem>=0.23.1 in /usr/local/lib/python3.8/dist-packages (from tensorflow>=2.0->keras-tuner) (0.30.0)\n",
            "Requirement already satisfied: opt-einsum>=2.3.2 in /usr/local/lib/python3.8/dist-packages (from tensorflow>=2.0->keras-tuner) (3.3.0)\n",
            "Requirement already satisfied: keras<2.10.0,>=2.9.0rc0 in /usr/local/lib/python3.8/dist-packages (from tensorflow>=2.0->keras-tuner) (2.9.0)\n",
            "Requirement already satisfied: keras-preprocessing>=1.1.1 in /usr/local/lib/python3.8/dist-packages (from tensorflow>=2.0->keras-tuner) (1.1.2)\n",
            "Requirement already satisfied: typing-extensions>=3.6.6 in /usr/local/lib/python3.8/dist-packages (from tensorflow>=2.0->keras-tuner) (4.4.0)\n",
            "Requirement already satisfied: decorator in /usr/local/lib/python3.8/dist-packages (from ipython->keras-tuner) (4.4.2)\n",
            "Requirement already satisfied: jedi>=0.10 in /usr/local/lib/python3.8/dist-packages (from ipython->keras-tuner) (0.18.2)\n",
            "Requirement already satisfied: pickleshare in /usr/local/lib/python3.8/dist-packages (from ipython->keras-tuner) (0.7.5)\n",
            "Requirement already satisfied: backcall in /usr/local/lib/python3.8/dist-packages (from ipython->keras-tuner) (0.2.0)\n",
            "Requirement already satisfied: pexpect in /usr/local/lib/python3.8/dist-packages (from ipython->keras-tuner) (4.8.0)\n",
            "Requirement already satisfied: prompt-toolkit<2.1.0,>=2.0.0 in /usr/local/lib/python3.8/dist-packages (from ipython->keras-tuner) (2.0.10)\n",
            "Requirement already satisfied: traitlets>=4.2 in /usr/local/lib/python3.8/dist-packages (from ipython->keras-tuner) (5.7.1)\n",
            "Requirement already satisfied: pygments in /usr/local/lib/python3.8/dist-packages (from ipython->keras-tuner) (2.6.1)\n",
            "Requirement already satisfied: urllib3<1.27,>=1.21.1 in /usr/local/lib/python3.8/dist-packages (from requests->keras-tuner) (1.24.3)\n",
            "Requirement already satisfied: certifi>=2017.4.17 in /usr/local/lib/python3.8/dist-packages (from requests->keras-tuner) (2022.12.7)\n",
            "Requirement already satisfied: idna<3,>=2.5 in /usr/local/lib/python3.8/dist-packages (from requests->keras-tuner) (2.10)\n",
            "Requirement already satisfied: chardet<5,>=3.0.2 in /usr/local/lib/python3.8/dist-packages (from requests->keras-tuner) (4.0.0)\n",
            "Requirement already satisfied: wheel<1.0,>=0.23.0 in /usr/local/lib/python3.8/dist-packages (from astunparse>=1.6.0->tensorflow>=2.0->keras-tuner) (0.38.4)\n",
            "Requirement already satisfied: parso<0.9.0,>=0.8.0 in /usr/local/lib/python3.8/dist-packages (from jedi>=0.10->ipython->keras-tuner) (0.8.3)\n",
            "Requirement already satisfied: wcwidth in /usr/local/lib/python3.8/dist-packages (from prompt-toolkit<2.1.0,>=2.0.0->ipython->keras-tuner) (0.2.6)\n",
            "Requirement already satisfied: tensorboard-plugin-wit>=1.6.0 in /usr/local/lib/python3.8/dist-packages (from tensorboard<2.10,>=2.9->tensorflow>=2.0->keras-tuner) (1.8.1)\n",
            "Requirement already satisfied: werkzeug>=1.0.1 in /usr/local/lib/python3.8/dist-packages (from tensorboard<2.10,>=2.9->tensorflow>=2.0->keras-tuner) (1.0.1)\n",
            "Requirement already satisfied: google-auth-oauthlib<0.5,>=0.4.1 in /usr/local/lib/python3.8/dist-packages (from tensorboard<2.10,>=2.9->tensorflow>=2.0->keras-tuner) (0.4.6)\n",
            "Requirement already satisfied: google-auth<3,>=1.6.3 in /usr/local/lib/python3.8/dist-packages (from tensorboard<2.10,>=2.9->tensorflow>=2.0->keras-tuner) (2.16.0)\n",
            "Requirement already satisfied: tensorboard-data-server<0.7.0,>=0.6.0 in /usr/local/lib/python3.8/dist-packages (from tensorboard<2.10,>=2.9->tensorflow>=2.0->keras-tuner) (0.6.1)\n",
            "Requirement already satisfied: markdown>=2.6.8 in /usr/local/lib/python3.8/dist-packages (from tensorboard<2.10,>=2.9->tensorflow>=2.0->keras-tuner) (3.4.1)\n",
            "Requirement already satisfied: ptyprocess>=0.5 in /usr/local/lib/python3.8/dist-packages (from pexpect->ipython->keras-tuner) (0.7.0)\n",
            "Requirement already satisfied: cachetools<6.0,>=2.0.0 in /usr/local/lib/python3.8/dist-packages (from google-auth<3,>=1.6.3->tensorboard<2.10,>=2.9->tensorflow>=2.0->keras-tuner) (5.3.0)\n",
            "Requirement already satisfied: rsa<5,>=3.1.4 in /usr/local/lib/python3.8/dist-packages (from google-auth<3,>=1.6.3->tensorboard<2.10,>=2.9->tensorflow>=2.0->keras-tuner) (4.9)\n",
            "Requirement already satisfied: pyasn1-modules>=0.2.1 in /usr/local/lib/python3.8/dist-packages (from google-auth<3,>=1.6.3->tensorboard<2.10,>=2.9->tensorflow>=2.0->keras-tuner) (0.2.8)\n",
            "Requirement already satisfied: requests-oauthlib>=0.7.0 in /usr/local/lib/python3.8/dist-packages (from google-auth-oauthlib<0.5,>=0.4.1->tensorboard<2.10,>=2.9->tensorflow>=2.0->keras-tuner) (1.3.1)\n",
            "Requirement already satisfied: importlib-metadata>=4.4 in /usr/local/lib/python3.8/dist-packages (from markdown>=2.6.8->tensorboard<2.10,>=2.9->tensorflow>=2.0->keras-tuner) (6.0.0)\n",
            "Requirement already satisfied: zipp>=0.5 in /usr/local/lib/python3.8/dist-packages (from importlib-metadata>=4.4->markdown>=2.6.8->tensorboard<2.10,>=2.9->tensorflow>=2.0->keras-tuner) (3.12.0)\n",
            "Requirement already satisfied: pyasn1<0.5.0,>=0.4.6 in /usr/local/lib/python3.8/dist-packages (from pyasn1-modules>=0.2.1->google-auth<3,>=1.6.3->tensorboard<2.10,>=2.9->tensorflow>=2.0->keras-tuner) (0.4.8)\n",
            "Requirement already satisfied: oauthlib>=3.0.0 in /usr/local/lib/python3.8/dist-packages (from requests-oauthlib>=0.7.0->google-auth-oauthlib<0.5,>=0.4.1->tensorboard<2.10,>=2.9->tensorflow>=2.0->keras-tuner) (3.2.2)\n"
          ]
        }
      ]
    },
    {
      "cell_type": "markdown",
      "source": [
        "###Load Libraries"
      ],
      "metadata": {
        "id": "r_2Cswg0sYN8"
      }
    },
    {
      "cell_type": "code",
      "source": [
        "from numpy.random import seed\n",
        "seed(1)\n",
        "import tensorflow as tf\n",
        "tf.random.set_seed(1)\n",
        "\n",
        "import pandas as pd\n",
        "import numpy as np\n",
        "import matplotlib.pyplot as plt\n",
        "import pickle\n",
        "import os\n",
        "import seaborn as sns\n",
        "plt.rcParams['figure.figsize'] = (10, 5)\n",
        "plt.style.use('fivethirtyeight')\n",
        "from plotly.subplots import make_subplots\n",
        "import plotly.graph_objects as go\n",
        "import tensorflow as tf\n",
        "from tensorflow.keras import layers\n",
        "from sklearn.metrics import mean_absolute_error\n",
        "from sklearn.metrics import make_scorer, mean_squared_error\n",
        "from keras.layers import Dense, Dropout\n",
        "from sklearn.metrics import explained_variance_score\n",
        "from sklearn.neural_network import MLPRegressor\n",
        "from sklearn.model_selection import GridSearchCV, RandomizedSearchCV\n",
        "import warnings\n",
        "warnings.filterwarnings('ignore')\n",
        "from keras.models import Sequential\n",
        "from keras.layers import Dense\n",
        "from keras.wrappers.scikit_learn import KerasRegressor\n",
        "from keras.wrappers.scikit_learn import KerasClassifier\n",
        "from sklearn.model_selection import KFold, cross_val_score\n",
        "from scikeras.wrappers import KerasRegressor\n",
        "from tensorflow import keras\n",
        "from kerastuner.tuners import RandomSearch\n",
        "from kerastuner import HyperModel, RandomSearch, Hyperband, BayesianOptimization\n",
        "from keras.callbacks import EarlyStopping\n",
        "from time import time\n",
        "import pickle\n",
        "\n",
        "import matplotlib.dates as mdates\n",
        "from sklearn.preprocessing import RobustScaler\n",
        "from sklearn.preprocessing import MinMaxScaler"
      ],
      "metadata": {
        "id": "eJUaw5qy34It"
      },
      "execution_count": 44,
      "outputs": []
    },
    {
      "cell_type": "markdown",
      "source": [
        "###Define Functions to Facilitate Metrics Evaluation"
      ],
      "metadata": {
        "id": "Gzu9V2o2gfZG"
      }
    },
    {
      "cell_type": "code",
      "source": [
        "#To compute Mean Directional Accuracy\n",
        "def mda(actual: np.ndarray, predicted: np.ndarray):\n",
        "    \"\"\" Mean Directional Accuracy \"\"\"\n",
        "    return np.mean((np.sign(actual[1:] - actual[:-1]) == np.sign(predicted[1:] - predicted[:-1])).astype(int))\n",
        "\n",
        "#Calculate the Mean Absolute Percentage Error\n",
        "#def MAPE(y_true, y_pred): \n",
        "    #mape = np.mean(np.abs((np.array(y_true) - np.array(y_pred)) / np.array(y_true))) * 100\n",
        "    #return mape\n",
        "\n",
        "def mean_absolute_percentage_error(y_true, y_pred): \n",
        "    y_true, y_pred = np.array(y_true), np.array(y_pred)\n",
        "    return np.mean(np.abs((y_true - y_pred) / y_true)) * 100\n",
        "\n",
        "def MAPE(y_true, y_pred): \n",
        "    y_true, y_pred = np.array(y_true), np.array(y_pred)\n",
        "    return np.mean(np.abs((y_true - y_pred) / y_true)) * 100\n",
        "\n",
        "#Calculate the Root Mean Squared Error:\n",
        "def RMSE(y_true, y_pred): \n",
        "    rmse = np.sqrt(mean_squared_error(y_true, y_pred))\n",
        "    return rmse"
      ],
      "metadata": {
        "id": "k7RYx1rN_Yf_"
      },
      "execution_count": 4,
      "outputs": []
    },
    {
      "cell_type": "markdown",
      "source": [
        "###Load the Cleaned Data from Github"
      ],
      "metadata": {
        "id": "FVpIGyF7g4od"
      }
    },
    {
      "cell_type": "code",
      "source": [
        "from pandas import read_csv\n",
        "path = 'https://raw.githubusercontent.com/mofuoku417/Machine-Learning-Techniques-for-Multivariate-Time-Series-Forecasting-of-Crude-Palm-Oil-Prices/main/Cleaned_data/FS_2.csv'\n",
        "df = read_csv(path)\n",
        "df.head()"
      ],
      "metadata": {
        "colab": {
          "base_uri": "https://localhost:8080/",
          "height": 208
        },
        "id": "z_6wFR8b3xZf",
        "outputId": "8e3e02ab-d912-42da-aabd-a1326b9d5021"
      },
      "execution_count": 5,
      "outputs": [
        {
          "output_type": "execute_result",
          "data": {
            "text/plain": [
              "      date  cpo_pri  cno_pri  oli_pri  rps_pri  pno_pri  sbo_pri  sfo_pri\n",
              "0  12/1/10      323      455  3102.61   423.45    844.0    468.0    578.0\n",
              "1   1/1/11      345      546  3100.45   415.85    799.0    485.0    557.0\n",
              "2   2/1/11      362      595  3199.41   410.77    718.0    466.0    552.0\n",
              "3   3/1/11      376      636  3281.67   414.82    614.0    442.0    574.0\n",
              "4   4/1/11      383      738  3261.65   451.04    619.0    429.0    595.0"
            ],
            "text/html": [
              "\n",
              "  <div id=\"df-0fae2f75-94bc-408d-95ed-9857430cd3c0\">\n",
              "    <div class=\"colab-df-container\">\n",
              "      <div>\n",
              "<style scoped>\n",
              "    .dataframe tbody tr th:only-of-type {\n",
              "        vertical-align: middle;\n",
              "    }\n",
              "\n",
              "    .dataframe tbody tr th {\n",
              "        vertical-align: top;\n",
              "    }\n",
              "\n",
              "    .dataframe thead th {\n",
              "        text-align: right;\n",
              "    }\n",
              "</style>\n",
              "<table border=\"1\" class=\"dataframe\">\n",
              "  <thead>\n",
              "    <tr style=\"text-align: right;\">\n",
              "      <th></th>\n",
              "      <th>date</th>\n",
              "      <th>cpo_pri</th>\n",
              "      <th>cno_pri</th>\n",
              "      <th>oli_pri</th>\n",
              "      <th>rps_pri</th>\n",
              "      <th>pno_pri</th>\n",
              "      <th>sbo_pri</th>\n",
              "      <th>sfo_pri</th>\n",
              "    </tr>\n",
              "  </thead>\n",
              "  <tbody>\n",
              "    <tr>\n",
              "      <th>0</th>\n",
              "      <td>12/1/10</td>\n",
              "      <td>323</td>\n",
              "      <td>455</td>\n",
              "      <td>3102.61</td>\n",
              "      <td>423.45</td>\n",
              "      <td>844.0</td>\n",
              "      <td>468.0</td>\n",
              "      <td>578.0</td>\n",
              "    </tr>\n",
              "    <tr>\n",
              "      <th>1</th>\n",
              "      <td>1/1/11</td>\n",
              "      <td>345</td>\n",
              "      <td>546</td>\n",
              "      <td>3100.45</td>\n",
              "      <td>415.85</td>\n",
              "      <td>799.0</td>\n",
              "      <td>485.0</td>\n",
              "      <td>557.0</td>\n",
              "    </tr>\n",
              "    <tr>\n",
              "      <th>2</th>\n",
              "      <td>2/1/11</td>\n",
              "      <td>362</td>\n",
              "      <td>595</td>\n",
              "      <td>3199.41</td>\n",
              "      <td>410.77</td>\n",
              "      <td>718.0</td>\n",
              "      <td>466.0</td>\n",
              "      <td>552.0</td>\n",
              "    </tr>\n",
              "    <tr>\n",
              "      <th>3</th>\n",
              "      <td>3/1/11</td>\n",
              "      <td>376</td>\n",
              "      <td>636</td>\n",
              "      <td>3281.67</td>\n",
              "      <td>414.82</td>\n",
              "      <td>614.0</td>\n",
              "      <td>442.0</td>\n",
              "      <td>574.0</td>\n",
              "    </tr>\n",
              "    <tr>\n",
              "      <th>4</th>\n",
              "      <td>4/1/11</td>\n",
              "      <td>383</td>\n",
              "      <td>738</td>\n",
              "      <td>3261.65</td>\n",
              "      <td>451.04</td>\n",
              "      <td>619.0</td>\n",
              "      <td>429.0</td>\n",
              "      <td>595.0</td>\n",
              "    </tr>\n",
              "  </tbody>\n",
              "</table>\n",
              "</div>\n",
              "      <button class=\"colab-df-convert\" onclick=\"convertToInteractive('df-0fae2f75-94bc-408d-95ed-9857430cd3c0')\"\n",
              "              title=\"Convert this dataframe to an interactive table.\"\n",
              "              style=\"display:none;\">\n",
              "        \n",
              "  <svg xmlns=\"http://www.w3.org/2000/svg\" height=\"24px\"viewBox=\"0 0 24 24\"\n",
              "       width=\"24px\">\n",
              "    <path d=\"M0 0h24v24H0V0z\" fill=\"none\"/>\n",
              "    <path d=\"M18.56 5.44l.94 2.06.94-2.06 2.06-.94-2.06-.94-.94-2.06-.94 2.06-2.06.94zm-11 1L8.5 8.5l.94-2.06 2.06-.94-2.06-.94L8.5 2.5l-.94 2.06-2.06.94zm10 10l.94 2.06.94-2.06 2.06-.94-2.06-.94-.94-2.06-.94 2.06-2.06.94z\"/><path d=\"M17.41 7.96l-1.37-1.37c-.4-.4-.92-.59-1.43-.59-.52 0-1.04.2-1.43.59L10.3 9.45l-7.72 7.72c-.78.78-.78 2.05 0 2.83L4 21.41c.39.39.9.59 1.41.59.51 0 1.02-.2 1.41-.59l7.78-7.78 2.81-2.81c.8-.78.8-2.07 0-2.86zM5.41 20L4 18.59l7.72-7.72 1.47 1.35L5.41 20z\"/>\n",
              "  </svg>\n",
              "      </button>\n",
              "      \n",
              "  <style>\n",
              "    .colab-df-container {\n",
              "      display:flex;\n",
              "      flex-wrap:wrap;\n",
              "      gap: 12px;\n",
              "    }\n",
              "\n",
              "    .colab-df-convert {\n",
              "      background-color: #E8F0FE;\n",
              "      border: none;\n",
              "      border-radius: 50%;\n",
              "      cursor: pointer;\n",
              "      display: none;\n",
              "      fill: #1967D2;\n",
              "      height: 32px;\n",
              "      padding: 0 0 0 0;\n",
              "      width: 32px;\n",
              "    }\n",
              "\n",
              "    .colab-df-convert:hover {\n",
              "      background-color: #E2EBFA;\n",
              "      box-shadow: 0px 1px 2px rgba(60, 64, 67, 0.3), 0px 1px 3px 1px rgba(60, 64, 67, 0.15);\n",
              "      fill: #174EA6;\n",
              "    }\n",
              "\n",
              "    [theme=dark] .colab-df-convert {\n",
              "      background-color: #3B4455;\n",
              "      fill: #D2E3FC;\n",
              "    }\n",
              "\n",
              "    [theme=dark] .colab-df-convert:hover {\n",
              "      background-color: #434B5C;\n",
              "      box-shadow: 0px 1px 3px 1px rgba(0, 0, 0, 0.15);\n",
              "      filter: drop-shadow(0px 1px 2px rgba(0, 0, 0, 0.3));\n",
              "      fill: #FFFFFF;\n",
              "    }\n",
              "  </style>\n",
              "\n",
              "      <script>\n",
              "        const buttonEl =\n",
              "          document.querySelector('#df-0fae2f75-94bc-408d-95ed-9857430cd3c0 button.colab-df-convert');\n",
              "        buttonEl.style.display =\n",
              "          google.colab.kernel.accessAllowed ? 'block' : 'none';\n",
              "\n",
              "        async function convertToInteractive(key) {\n",
              "          const element = document.querySelector('#df-0fae2f75-94bc-408d-95ed-9857430cd3c0');\n",
              "          const dataTable =\n",
              "            await google.colab.kernel.invokeFunction('convertToInteractive',\n",
              "                                                     [key], {});\n",
              "          if (!dataTable) return;\n",
              "\n",
              "          const docLinkHtml = 'Like what you see? Visit the ' +\n",
              "            '<a target=\"_blank\" href=https://colab.research.google.com/notebooks/data_table.ipynb>data table notebook</a>'\n",
              "            + ' to learn more about interactive tables.';\n",
              "          element.innerHTML = '';\n",
              "          dataTable['output_type'] = 'display_data';\n",
              "          await google.colab.output.renderOutput(dataTable, element);\n",
              "          const docLink = document.createElement('div');\n",
              "          docLink.innerHTML = docLinkHtml;\n",
              "          element.appendChild(docLink);\n",
              "        }\n",
              "      </script>\n",
              "    </div>\n",
              "  </div>\n",
              "  "
            ]
          },
          "metadata": {},
          "execution_count": 5
        }
      ]
    },
    {
      "cell_type": "code",
      "source": [
        "df['date']=pd.to_datetime(df['date'])\n",
        "#del df['date']"
      ],
      "metadata": {
        "id": "bABFH7Kd4nBN"
      },
      "execution_count": 6,
      "outputs": []
    },
    {
      "cell_type": "code",
      "source": [
        "df.set_index('date', inplace=True)\n",
        "df.info()"
      ],
      "metadata": {
        "colab": {
          "base_uri": "https://localhost:8080/"
        },
        "id": "nZ-LB-rFdF5N",
        "outputId": "68c49e0a-2cc7-4798-a0d8-7cc875affcaf"
      },
      "execution_count": 7,
      "outputs": [
        {
          "output_type": "stream",
          "name": "stdout",
          "text": [
            "<class 'pandas.core.frame.DataFrame'>\n",
            "DatetimeIndex: 124 entries, 2010-12-01 to 2021-03-01\n",
            "Data columns (total 7 columns):\n",
            " #   Column   Non-Null Count  Dtype  \n",
            "---  ------   --------------  -----  \n",
            " 0   cpo_pri  124 non-null    int64  \n",
            " 1   cno_pri  124 non-null    int64  \n",
            " 2   oli_pri  124 non-null    float64\n",
            " 3   rps_pri  124 non-null    float64\n",
            " 4   pno_pri  124 non-null    float64\n",
            " 5   sbo_pri  124 non-null    float64\n",
            " 6   sfo_pri  124 non-null    float64\n",
            "dtypes: float64(5), int64(2)\n",
            "memory usage: 7.8 KB\n"
          ]
        }
      ]
    },
    {
      "cell_type": "code",
      "source": [
        "df.head()"
      ],
      "metadata": {
        "colab": {
          "base_uri": "https://localhost:8080/",
          "height": 240
        },
        "id": "PLpdJChY4wex",
        "outputId": "87a8ba35-8495-43c2-8a30-356b810692a0"
      },
      "execution_count": 8,
      "outputs": [
        {
          "output_type": "execute_result",
          "data": {
            "text/plain": [
              "            cpo_pri  cno_pri  oli_pri  rps_pri  pno_pri  sbo_pri  sfo_pri\n",
              "date                                                                     \n",
              "2010-12-01      323      455  3102.61   423.45    844.0    468.0    578.0\n",
              "2011-01-01      345      546  3100.45   415.85    799.0    485.0    557.0\n",
              "2011-02-01      362      595  3199.41   410.77    718.0    466.0    552.0\n",
              "2011-03-01      376      636  3281.67   414.82    614.0    442.0    574.0\n",
              "2011-04-01      383      738  3261.65   451.04    619.0    429.0    595.0"
            ],
            "text/html": [
              "\n",
              "  <div id=\"df-dedb0e8b-d73d-4cf5-95ee-515fc608303e\">\n",
              "    <div class=\"colab-df-container\">\n",
              "      <div>\n",
              "<style scoped>\n",
              "    .dataframe tbody tr th:only-of-type {\n",
              "        vertical-align: middle;\n",
              "    }\n",
              "\n",
              "    .dataframe tbody tr th {\n",
              "        vertical-align: top;\n",
              "    }\n",
              "\n",
              "    .dataframe thead th {\n",
              "        text-align: right;\n",
              "    }\n",
              "</style>\n",
              "<table border=\"1\" class=\"dataframe\">\n",
              "  <thead>\n",
              "    <tr style=\"text-align: right;\">\n",
              "      <th></th>\n",
              "      <th>cpo_pri</th>\n",
              "      <th>cno_pri</th>\n",
              "      <th>oli_pri</th>\n",
              "      <th>rps_pri</th>\n",
              "      <th>pno_pri</th>\n",
              "      <th>sbo_pri</th>\n",
              "      <th>sfo_pri</th>\n",
              "    </tr>\n",
              "    <tr>\n",
              "      <th>date</th>\n",
              "      <th></th>\n",
              "      <th></th>\n",
              "      <th></th>\n",
              "      <th></th>\n",
              "      <th></th>\n",
              "      <th></th>\n",
              "      <th></th>\n",
              "    </tr>\n",
              "  </thead>\n",
              "  <tbody>\n",
              "    <tr>\n",
              "      <th>2010-12-01</th>\n",
              "      <td>323</td>\n",
              "      <td>455</td>\n",
              "      <td>3102.61</td>\n",
              "      <td>423.45</td>\n",
              "      <td>844.0</td>\n",
              "      <td>468.0</td>\n",
              "      <td>578.0</td>\n",
              "    </tr>\n",
              "    <tr>\n",
              "      <th>2011-01-01</th>\n",
              "      <td>345</td>\n",
              "      <td>546</td>\n",
              "      <td>3100.45</td>\n",
              "      <td>415.85</td>\n",
              "      <td>799.0</td>\n",
              "      <td>485.0</td>\n",
              "      <td>557.0</td>\n",
              "    </tr>\n",
              "    <tr>\n",
              "      <th>2011-02-01</th>\n",
              "      <td>362</td>\n",
              "      <td>595</td>\n",
              "      <td>3199.41</td>\n",
              "      <td>410.77</td>\n",
              "      <td>718.0</td>\n",
              "      <td>466.0</td>\n",
              "      <td>552.0</td>\n",
              "    </tr>\n",
              "    <tr>\n",
              "      <th>2011-03-01</th>\n",
              "      <td>376</td>\n",
              "      <td>636</td>\n",
              "      <td>3281.67</td>\n",
              "      <td>414.82</td>\n",
              "      <td>614.0</td>\n",
              "      <td>442.0</td>\n",
              "      <td>574.0</td>\n",
              "    </tr>\n",
              "    <tr>\n",
              "      <th>2011-04-01</th>\n",
              "      <td>383</td>\n",
              "      <td>738</td>\n",
              "      <td>3261.65</td>\n",
              "      <td>451.04</td>\n",
              "      <td>619.0</td>\n",
              "      <td>429.0</td>\n",
              "      <td>595.0</td>\n",
              "    </tr>\n",
              "  </tbody>\n",
              "</table>\n",
              "</div>\n",
              "      <button class=\"colab-df-convert\" onclick=\"convertToInteractive('df-dedb0e8b-d73d-4cf5-95ee-515fc608303e')\"\n",
              "              title=\"Convert this dataframe to an interactive table.\"\n",
              "              style=\"display:none;\">\n",
              "        \n",
              "  <svg xmlns=\"http://www.w3.org/2000/svg\" height=\"24px\"viewBox=\"0 0 24 24\"\n",
              "       width=\"24px\">\n",
              "    <path d=\"M0 0h24v24H0V0z\" fill=\"none\"/>\n",
              "    <path d=\"M18.56 5.44l.94 2.06.94-2.06 2.06-.94-2.06-.94-.94-2.06-.94 2.06-2.06.94zm-11 1L8.5 8.5l.94-2.06 2.06-.94-2.06-.94L8.5 2.5l-.94 2.06-2.06.94zm10 10l.94 2.06.94-2.06 2.06-.94-2.06-.94-.94-2.06-.94 2.06-2.06.94z\"/><path d=\"M17.41 7.96l-1.37-1.37c-.4-.4-.92-.59-1.43-.59-.52 0-1.04.2-1.43.59L10.3 9.45l-7.72 7.72c-.78.78-.78 2.05 0 2.83L4 21.41c.39.39.9.59 1.41.59.51 0 1.02-.2 1.41-.59l7.78-7.78 2.81-2.81c.8-.78.8-2.07 0-2.86zM5.41 20L4 18.59l7.72-7.72 1.47 1.35L5.41 20z\"/>\n",
              "  </svg>\n",
              "      </button>\n",
              "      \n",
              "  <style>\n",
              "    .colab-df-container {\n",
              "      display:flex;\n",
              "      flex-wrap:wrap;\n",
              "      gap: 12px;\n",
              "    }\n",
              "\n",
              "    .colab-df-convert {\n",
              "      background-color: #E8F0FE;\n",
              "      border: none;\n",
              "      border-radius: 50%;\n",
              "      cursor: pointer;\n",
              "      display: none;\n",
              "      fill: #1967D2;\n",
              "      height: 32px;\n",
              "      padding: 0 0 0 0;\n",
              "      width: 32px;\n",
              "    }\n",
              "\n",
              "    .colab-df-convert:hover {\n",
              "      background-color: #E2EBFA;\n",
              "      box-shadow: 0px 1px 2px rgba(60, 64, 67, 0.3), 0px 1px 3px 1px rgba(60, 64, 67, 0.15);\n",
              "      fill: #174EA6;\n",
              "    }\n",
              "\n",
              "    [theme=dark] .colab-df-convert {\n",
              "      background-color: #3B4455;\n",
              "      fill: #D2E3FC;\n",
              "    }\n",
              "\n",
              "    [theme=dark] .colab-df-convert:hover {\n",
              "      background-color: #434B5C;\n",
              "      box-shadow: 0px 1px 3px 1px rgba(0, 0, 0, 0.15);\n",
              "      filter: drop-shadow(0px 1px 2px rgba(0, 0, 0, 0.3));\n",
              "      fill: #FFFFFF;\n",
              "    }\n",
              "  </style>\n",
              "\n",
              "      <script>\n",
              "        const buttonEl =\n",
              "          document.querySelector('#df-dedb0e8b-d73d-4cf5-95ee-515fc608303e button.colab-df-convert');\n",
              "        buttonEl.style.display =\n",
              "          google.colab.kernel.accessAllowed ? 'block' : 'none';\n",
              "\n",
              "        async function convertToInteractive(key) {\n",
              "          const element = document.querySelector('#df-dedb0e8b-d73d-4cf5-95ee-515fc608303e');\n",
              "          const dataTable =\n",
              "            await google.colab.kernel.invokeFunction('convertToInteractive',\n",
              "                                                     [key], {});\n",
              "          if (!dataTable) return;\n",
              "\n",
              "          const docLinkHtml = 'Like what you see? Visit the ' +\n",
              "            '<a target=\"_blank\" href=https://colab.research.google.com/notebooks/data_table.ipynb>data table notebook</a>'\n",
              "            + ' to learn more about interactive tables.';\n",
              "          element.innerHTML = '';\n",
              "          dataTable['output_type'] = 'display_data';\n",
              "          await google.colab.output.renderOutput(dataTable, element);\n",
              "          const docLink = document.createElement('div');\n",
              "          docLink.innerHTML = docLinkHtml;\n",
              "          element.appendChild(docLink);\n",
              "        }\n",
              "      </script>\n",
              "    </div>\n",
              "  </div>\n",
              "  "
            ]
          },
          "metadata": {},
          "execution_count": 8
        }
      ]
    },
    {
      "cell_type": "code",
      "source": [
        "# Plot an area chart\n",
        "plt.figure(figsize=(25,10))\n",
        "ax = df.plot.area(fontsize=12);\n",
        "\n",
        "# Additional customizations\n",
        "ax.set_xlabel('date');\n",
        "ax.legend(fontsize=12);"
      ],
      "metadata": {
        "colab": {
          "base_uri": "https://localhost:8080/",
          "height": 379
        },
        "id": "pnKg-SfY6j9g",
        "outputId": "20001381-f887-4cbd-bdf0-51c1101050ca"
      },
      "execution_count": 9,
      "outputs": [
        {
          "output_type": "display_data",
          "data": {
            "text/plain": [
              "<Figure size 1800x720 with 0 Axes>"
            ]
          },
          "metadata": {}
        },
        {
          "output_type": "display_data",
          "data": {
            "text/plain": [
              "<Figure size 720x360 with 1 Axes>"
            ],
            "image/png": "[encoded data removed]"
          },
          "metadata": {}
        }
      ]
    },
    {
      "cell_type": "markdown",
      "source": [
        "##**Convolutional Neural Network Forecasting Technique (CNN)**"
      ],
      "metadata": {
        "id": "dPoGjuS366Cc"
      }
    },
    {
      "cell_type": "markdown",
      "source": [
        "###**Split Data into Train Test Segments**"
      ],
      "metadata": {
        "id": "vFpT6OrD7KRv"
      }
    },
    {
      "cell_type": "code",
      "source": [
        "train_size = int(len(df) * 0.8)\n",
        "test_size = len(df) - train_size\n",
        "train, test = df.iloc[0:train_size], df.iloc[train_size:len(df)]\n",
        "print('Train size:',len(train))\n",
        "print('Test size:', len(test))"
      ],
      "metadata": {
        "colab": {
          "base_uri": "https://localhost:8080/"
        },
        "id": "nYZL-9Sy3xpJ",
        "outputId": "a0a524a9-cba3-445e-87ea-279d34fbca05"
      },
      "execution_count": 10,
      "outputs": [
        {
          "output_type": "stream",
          "name": "stdout",
          "text": [
            "Train size: 99\n",
            "Test size: 25\n"
          ]
        }
      ]
    },
    {
      "cell_type": "code",
      "source": [
        "split_date = '2019-02'\n",
        "df_training = df.loc[df.index <= split_date]\n",
        "df_test = df.loc[df.index > split_date]\n",
        "print(f\"{len(df_training)} days of training data \\n {len(df_test)} days of testing data \")"
      ],
      "metadata": {
        "colab": {
          "base_uri": "https://localhost:8080/"
        },
        "id": "qKDDSdp_JVu6",
        "outputId": "6d77abb8-53d9-4ffb-b4b3-32f59b3cddcd"
      },
      "execution_count": 11,
      "outputs": [
        {
          "output_type": "stream",
          "name": "stdout",
          "text": [
            "99 days of training data \n",
            " 25 days of testing data \n"
          ]
        }
      ]
    },
    {
      "cell_type": "code",
      "source": [
        "train, test = df.iloc[0:train_size], df.iloc[train_size:len(df)]\n",
        "print(len(train), len(test))"
      ],
      "metadata": {
        "colab": {
          "base_uri": "https://localhost:8080/"
        },
        "id": "DGrD2nxFmNSu",
        "outputId": "ed115d20-ce5a-4473-b403-01896ee526f7"
      },
      "execution_count": 12,
      "outputs": [
        {
          "output_type": "stream",
          "name": "stdout",
          "text": [
            "99 25\n"
          ]
        }
      ]
    },
    {
      "cell_type": "code",
      "source": [
        "print(train.shape)\n",
        "train.head()"
      ],
      "metadata": {
        "colab": {
          "base_uri": "https://localhost:8080/",
          "height": 258
        },
        "id": "QvbHy-5RmPuI",
        "outputId": "9085917b-b222-4801-8aab-e0f08892cbd6"
      },
      "execution_count": 13,
      "outputs": [
        {
          "output_type": "stream",
          "name": "stdout",
          "text": [
            "(99, 7)\n"
          ]
        },
        {
          "output_type": "execute_result",
          "data": {
            "text/plain": [
              "            cpo_pri  cno_pri  oli_pri  rps_pri  pno_pri  sbo_pri  sfo_pri\n",
              "date                                                                     \n",
              "2010-12-01      323      455  3102.61   423.45    844.0    468.0    578.0\n",
              "2011-01-01      345      546  3100.45   415.85    799.0    485.0    557.0\n",
              "2011-02-01      362      595  3199.41   410.77    718.0    466.0    552.0\n",
              "2011-03-01      376      636  3281.67   414.82    614.0    442.0    574.0\n",
              "2011-04-01      383      738  3261.65   451.04    619.0    429.0    595.0"
            ],
            "text/html": [
              "\n",
              "  <div id=\"df-0e2b0301-9677-4cf6-95ec-68edae87f650\">\n",
              "    <div class=\"colab-df-container\">\n",
              "      <div>\n",
              "<style scoped>\n",
              "    .dataframe tbody tr th:only-of-type {\n",
              "        vertical-align: middle;\n",
              "    }\n",
              "\n",
              "    .dataframe tbody tr th {\n",
              "        vertical-align: top;\n",
              "    }\n",
              "\n",
              "    .dataframe thead th {\n",
              "        text-align: right;\n",
              "    }\n",
              "</style>\n",
              "<table border=\"1\" class=\"dataframe\">\n",
              "  <thead>\n",
              "    <tr style=\"text-align: right;\">\n",
              "      <th></th>\n",
              "      <th>cpo_pri</th>\n",
              "      <th>cno_pri</th>\n",
              "      <th>oli_pri</th>\n",
              "      <th>rps_pri</th>\n",
              "      <th>pno_pri</th>\n",
              "      <th>sbo_pri</th>\n",
              "      <th>sfo_pri</th>\n",
              "    </tr>\n",
              "    <tr>\n",
              "      <th>date</th>\n",
              "      <th></th>\n",
              "      <th></th>\n",
              "      <th></th>\n",
              "      <th></th>\n",
              "      <th></th>\n",
              "      <th></th>\n",
              "      <th></th>\n",
              "    </tr>\n",
              "  </thead>\n",
              "  <tbody>\n",
              "    <tr>\n",
              "      <th>2010-12-01</th>\n",
              "      <td>323</td>\n",
              "      <td>455</td>\n",
              "      <td>3102.61</td>\n",
              "      <td>423.45</td>\n",
              "      <td>844.0</td>\n",
              "      <td>468.0</td>\n",
              "      <td>578.0</td>\n",
              "    </tr>\n",
              "    <tr>\n",
              "      <th>2011-01-01</th>\n",
              "      <td>345</td>\n",
              "      <td>546</td>\n",
              "      <td>3100.45</td>\n",
              "      <td>415.85</td>\n",
              "      <td>799.0</td>\n",
              "      <td>485.0</td>\n",
              "      <td>557.0</td>\n",
              "    </tr>\n",
              "    <tr>\n",
              "      <th>2011-02-01</th>\n",
              "      <td>362</td>\n",
              "      <td>595</td>\n",
              "      <td>3199.41</td>\n",
              "      <td>410.77</td>\n",
              "      <td>718.0</td>\n",
              "      <td>466.0</td>\n",
              "      <td>552.0</td>\n",
              "    </tr>\n",
              "    <tr>\n",
              "      <th>2011-03-01</th>\n",
              "      <td>376</td>\n",
              "      <td>636</td>\n",
              "      <td>3281.67</td>\n",
              "      <td>414.82</td>\n",
              "      <td>614.0</td>\n",
              "      <td>442.0</td>\n",
              "      <td>574.0</td>\n",
              "    </tr>\n",
              "    <tr>\n",
              "      <th>2011-04-01</th>\n",
              "      <td>383</td>\n",
              "      <td>738</td>\n",
              "      <td>3261.65</td>\n",
              "      <td>451.04</td>\n",
              "      <td>619.0</td>\n",
              "      <td>429.0</td>\n",
              "      <td>595.0</td>\n",
              "    </tr>\n",
              "  </tbody>\n",
              "</table>\n",
              "</div>\n",
              "      <button class=\"colab-df-convert\" onclick=\"convertToInteractive('df-0e2b0301-9677-4cf6-95ec-68edae87f650')\"\n",
              "              title=\"Convert this dataframe to an interactive table.\"\n",
              "              style=\"display:none;\">\n",
              "        \n",
              "  <svg xmlns=\"http://www.w3.org/2000/svg\" height=\"24px\"viewBox=\"0 0 24 24\"\n",
              "       width=\"24px\">\n",
              "    <path d=\"M0 0h24v24H0V0z\" fill=\"none\"/>\n",
              "    <path d=\"M18.56 5.44l.94 2.06.94-2.06 2.06-.94-2.06-.94-.94-2.06-.94 2.06-2.06.94zm-11 1L8.5 8.5l.94-2.06 2.06-.94-2.06-.94L8.5 2.5l-.94 2.06-2.06.94zm10 10l.94 2.06.94-2.06 2.06-.94-2.06-.94-.94-2.06-.94 2.06-2.06.94z\"/><path d=\"M17.41 7.96l-1.37-1.37c-.4-.4-.92-.59-1.43-.59-.52 0-1.04.2-1.43.59L10.3 9.45l-7.72 7.72c-.78.78-.78 2.05 0 2.83L4 21.41c.39.39.9.59 1.41.59.51 0 1.02-.2 1.41-.59l7.78-7.78 2.81-2.81c.8-.78.8-2.07 0-2.86zM5.41 20L4 18.59l7.72-7.72 1.47 1.35L5.41 20z\"/>\n",
              "  </svg>\n",
              "      </button>\n",
              "      \n",
              "  <style>\n",
              "    .colab-df-container {\n",
              "      display:flex;\n",
              "      flex-wrap:wrap;\n",
              "      gap: 12px;\n",
              "    }\n",
              "\n",
              "    .colab-df-convert {\n",
              "      background-color: #E8F0FE;\n",
              "      border: none;\n",
              "      border-radius: 50%;\n",
              "      cursor: pointer;\n",
              "      display: none;\n",
              "      fill: #1967D2;\n",
              "      height: 32px;\n",
              "      padding: 0 0 0 0;\n",
              "      width: 32px;\n",
              "    }\n",
              "\n",
              "    .colab-df-convert:hover {\n",
              "      background-color: #E2EBFA;\n",
              "      box-shadow: 0px 1px 2px rgba(60, 64, 67, 0.3), 0px 1px 3px 1px rgba(60, 64, 67, 0.15);\n",
              "      fill: #174EA6;\n",
              "    }\n",
              "\n",
              "    [theme=dark] .colab-df-convert {\n",
              "      background-color: #3B4455;\n",
              "      fill: #D2E3FC;\n",
              "    }\n",
              "\n",
              "    [theme=dark] .colab-df-convert:hover {\n",
              "      background-color: #434B5C;\n",
              "      box-shadow: 0px 1px 3px 1px rgba(0, 0, 0, 0.15);\n",
              "      filter: drop-shadow(0px 1px 2px rgba(0, 0, 0, 0.3));\n",
              "      fill: #FFFFFF;\n",
              "    }\n",
              "  </style>\n",
              "\n",
              "      <script>\n",
              "        const buttonEl =\n",
              "          document.querySelector('#df-0e2b0301-9677-4cf6-95ec-68edae87f650 button.colab-df-convert');\n",
              "        buttonEl.style.display =\n",
              "          google.colab.kernel.accessAllowed ? 'block' : 'none';\n",
              "\n",
              "        async function convertToInteractive(key) {\n",
              "          const element = document.querySelector('#df-0e2b0301-9677-4cf6-95ec-68edae87f650');\n",
              "          const dataTable =\n",
              "            await google.colab.kernel.invokeFunction('convertToInteractive',\n",
              "                                                     [key], {});\n",
              "          if (!dataTable) return;\n",
              "\n",
              "          const docLinkHtml = 'Like what you see? Visit the ' +\n",
              "            '<a target=\"_blank\" href=https://colab.research.google.com/notebooks/data_table.ipynb>data table notebook</a>'\n",
              "            + ' to learn more about interactive tables.';\n",
              "          element.innerHTML = '';\n",
              "          dataTable['output_type'] = 'display_data';\n",
              "          await google.colab.output.renderOutput(dataTable, element);\n",
              "          const docLink = document.createElement('div');\n",
              "          docLink.innerHTML = docLinkHtml;\n",
              "          element.appendChild(docLink);\n",
              "        }\n",
              "      </script>\n",
              "    </div>\n",
              "  </div>\n",
              "  "
            ]
          },
          "metadata": {},
          "execution_count": 13
        }
      ]
    },
    {
      "cell_type": "markdown",
      "source": [
        "###Rescaling Training Data"
      ],
      "metadata": {
        "id": "Z5F4OyT2mwRs"
      }
    },
    {
      "cell_type": "code",
      "source": [
        "f_transformer = MinMaxScaler()\n",
        "feature_columns = ['cno_pri', 'oli_pri', 'rps_pri', 'pno_pri', 'sbo_pri', 'sfo_pri']\n",
        "f_transformer = f_transformer.fit(train[feature_columns].to_numpy())\n",
        "train.loc[:, feature_columns] = f_transformer.transform(train[feature_columns].to_numpy())\n",
        "train.head()"
      ],
      "metadata": {
        "colab": {
          "base_uri": "https://localhost:8080/",
          "height": 240
        },
        "id": "Lg-AQuNBmvZK",
        "outputId": "ef839c94-a7c3-4bba-ca63-89e32995ba95"
      },
      "execution_count": 14,
      "outputs": [
        {
          "output_type": "execute_result",
          "data": {
            "text/plain": [
              "            cpo_pri   cno_pri   oli_pri   rps_pri   pno_pri   sbo_pri  \\\n",
              "date                                                                    \n",
              "2010-12-01      323  0.112288  0.140918  0.010736  0.528090  0.253193   \n",
              "2011-01-01      345  0.305085  0.140327  0.004301  0.443820  0.306536   \n",
              "2011-02-01      362  0.408898  0.167408  0.000000  0.292135  0.246917   \n",
              "2011-03-01      376  0.495763  0.189919  0.003429  0.097378  0.171609   \n",
              "2011-04-01      383  0.711864  0.184440  0.034095  0.106742  0.130817   \n",
              "\n",
              "             sfo_pri  \n",
              "date                  \n",
              "2010-12-01  0.023302  \n",
              "2011-01-01  0.009321  \n",
              "2011-02-01  0.005992  \n",
              "2011-03-01  0.020639  \n",
              "2011-04-01  0.034621  "
            ],
            "text/html": [
              "\n",
              "  <div id=\"df-ed8f47eb-4000-4c15-9fe9-45e1a051cbbb\">\n",
              "    <div class=\"colab-df-container\">\n",
              "      <div>\n",
              "<style scoped>\n",
              "    .dataframe tbody tr th:only-of-type {\n",
              "        vertical-align: middle;\n",
              "    }\n",
              "\n",
              "    .dataframe tbody tr th {\n",
              "        vertical-align: top;\n",
              "    }\n",
              "\n",
              "    .dataframe thead th {\n",
              "        text-align: right;\n",
              "    }\n",
              "</style>\n",
              "<table border=\"1\" class=\"dataframe\">\n",
              "  <thead>\n",
              "    <tr style=\"text-align: right;\">\n",
              "      <th></th>\n",
              "      <th>cpo_pri</th>\n",
              "      <th>cno_pri</th>\n",
              "      <th>oli_pri</th>\n",
              "      <th>rps_pri</th>\n",
              "      <th>pno_pri</th>\n",
              "      <th>sbo_pri</th>\n",
              "      <th>sfo_pri</th>\n",
              "    </tr>\n",
              "    <tr>\n",
              "      <th>date</th>\n",
              "      <th></th>\n",
              "      <th></th>\n",
              "      <th></th>\n",
              "      <th></th>\n",
              "      <th></th>\n",
              "      <th></th>\n",
              "      <th></th>\n",
              "    </tr>\n",
              "  </thead>\n",
              "  <tbody>\n",
              "    <tr>\n",
              "      <th>2010-12-01</th>\n",
              "      <td>323</td>\n",
              "      <td>0.112288</td>\n",
              "      <td>0.140918</td>\n",
              "      <td>0.010736</td>\n",
              "      <td>0.528090</td>\n",
              "      <td>0.253193</td>\n",
              "      <td>0.023302</td>\n",
              "    </tr>\n",
              "    <tr>\n",
              "      <th>2011-01-01</th>\n",
              "      <td>345</td>\n",
              "      <td>0.305085</td>\n",
              "      <td>0.140327</td>\n",
              "      <td>0.004301</td>\n",
              "      <td>0.443820</td>\n",
              "      <td>0.306536</td>\n",
              "      <td>0.009321</td>\n",
              "    </tr>\n",
              "    <tr>\n",
              "      <th>2011-02-01</th>\n",
              "      <td>362</td>\n",
              "      <td>0.408898</td>\n",
              "      <td>0.167408</td>\n",
              "      <td>0.000000</td>\n",
              "      <td>0.292135</td>\n",
              "      <td>0.246917</td>\n",
              "      <td>0.005992</td>\n",
              "    </tr>\n",
              "    <tr>\n",
              "      <th>2011-03-01</th>\n",
              "      <td>376</td>\n",
              "      <td>0.495763</td>\n",
              "      <td>0.189919</td>\n",
              "      <td>0.003429</td>\n",
              "      <td>0.097378</td>\n",
              "      <td>0.171609</td>\n",
              "      <td>0.020639</td>\n",
              "    </tr>\n",
              "    <tr>\n",
              "      <th>2011-04-01</th>\n",
              "      <td>383</td>\n",
              "      <td>0.711864</td>\n",
              "      <td>0.184440</td>\n",
              "      <td>0.034095</td>\n",
              "      <td>0.106742</td>\n",
              "      <td>0.130817</td>\n",
              "      <td>0.034621</td>\n",
              "    </tr>\n",
              "  </tbody>\n",
              "</table>\n",
              "</div>\n",
              "      <button class=\"colab-df-convert\" onclick=\"convertToInteractive('df-ed8f47eb-4000-4c15-9fe9-45e1a051cbbb')\"\n",
              "              title=\"Convert this dataframe to an interactive table.\"\n",
              "              style=\"display:none;\">\n",
              "        \n",
              "  <svg xmlns=\"http://www.w3.org/2000/svg\" height=\"24px\"viewBox=\"0 0 24 24\"\n",
              "       width=\"24px\">\n",
              "    <path d=\"M0 0h24v24H0V0z\" fill=\"none\"/>\n",
              "    <path d=\"M18.56 5.44l.94 2.06.94-2.06 2.06-.94-2.06-.94-.94-2.06-.94 2.06-2.06.94zm-11 1L8.5 8.5l.94-2.06 2.06-.94-2.06-.94L8.5 2.5l-.94 2.06-2.06.94zm10 10l.94 2.06.94-2.06 2.06-.94-2.06-.94-.94-2.06-.94 2.06-2.06.94z\"/><path d=\"M17.41 7.96l-1.37-1.37c-.4-.4-.92-.59-1.43-.59-.52 0-1.04.2-1.43.59L10.3 9.45l-7.72 7.72c-.78.78-.78 2.05 0 2.83L4 21.41c.39.39.9.59 1.41.59.51 0 1.02-.2 1.41-.59l7.78-7.78 2.81-2.81c.8-.78.8-2.07 0-2.86zM5.41 20L4 18.59l7.72-7.72 1.47 1.35L5.41 20z\"/>\n",
              "  </svg>\n",
              "      </button>\n",
              "      \n",
              "  <style>\n",
              "    .colab-df-container {\n",
              "      display:flex;\n",
              "      flex-wrap:wrap;\n",
              "      gap: 12px;\n",
              "    }\n",
              "\n",
              "    .colab-df-convert {\n",
              "      background-color: #E8F0FE;\n",
              "      border: none;\n",
              "      border-radius: 50%;\n",
              "      cursor: pointer;\n",
              "      display: none;\n",
              "      fill: #1967D2;\n",
              "      height: 32px;\n",
              "      padding: 0 0 0 0;\n",
              "      width: 32px;\n",
              "    }\n",
              "\n",
              "    .colab-df-convert:hover {\n",
              "      background-color: #E2EBFA;\n",
              "      box-shadow: 0px 1px 2px rgba(60, 64, 67, 0.3), 0px 1px 3px 1px rgba(60, 64, 67, 0.15);\n",
              "      fill: #174EA6;\n",
              "    }\n",
              "\n",
              "    [theme=dark] .colab-df-convert {\n",
              "      background-color: #3B4455;\n",
              "      fill: #D2E3FC;\n",
              "    }\n",
              "\n",
              "    [theme=dark] .colab-df-convert:hover {\n",
              "      background-color: #434B5C;\n",
              "      box-shadow: 0px 1px 3px 1px rgba(0, 0, 0, 0.15);\n",
              "      filter: drop-shadow(0px 1px 2px rgba(0, 0, 0, 0.3));\n",
              "      fill: #FFFFFF;\n",
              "    }\n",
              "  </style>\n",
              "\n",
              "      <script>\n",
              "        const buttonEl =\n",
              "          document.querySelector('#df-ed8f47eb-4000-4c15-9fe9-45e1a051cbbb button.colab-df-convert');\n",
              "        buttonEl.style.display =\n",
              "          google.colab.kernel.accessAllowed ? 'block' : 'none';\n",
              "\n",
              "        async function convertToInteractive(key) {\n",
              "          const element = document.querySelector('#df-ed8f47eb-4000-4c15-9fe9-45e1a051cbbb');\n",
              "          const dataTable =\n",
              "            await google.colab.kernel.invokeFunction('convertToInteractive',\n",
              "                                                     [key], {});\n",
              "          if (!dataTable) return;\n",
              "\n",
              "          const docLinkHtml = 'Like what you see? Visit the ' +\n",
              "            '<a target=\"_blank\" href=https://colab.research.google.com/notebooks/data_table.ipynb>data table notebook</a>'\n",
              "            + ' to learn more about interactive tables.';\n",
              "          element.innerHTML = '';\n",
              "          dataTable['output_type'] = 'display_data';\n",
              "          await google.colab.output.renderOutput(dataTable, element);\n",
              "          const docLink = document.createElement('div');\n",
              "          docLink.innerHTML = docLinkHtml;\n",
              "          element.appendChild(docLink);\n",
              "        }\n",
              "      </script>\n",
              "    </div>\n",
              "  </div>\n",
              "  "
            ]
          },
          "metadata": {},
          "execution_count": 14
        }
      ]
    },
    {
      "cell_type": "code",
      "source": [
        "cpo_pri_transformer = MinMaxScaler()\n",
        "cpo_pri_transformer = cpo_pri_transformer.fit(train[['cpo_pri']])\n",
        "train['cpo_pri'] = cpo_pri_transformer.transform(train[['cpo_pri']])\n",
        "train['cpo_pri'].head()"
      ],
      "metadata": {
        "colab": {
          "base_uri": "https://localhost:8080/"
        },
        "id": "XNkE4gN9nJLt",
        "outputId": "0c14fa22-ec4b-4d25-f5be-195e8deb1a03"
      },
      "execution_count": 15,
      "outputs": [
        {
          "output_type": "execute_result",
          "data": {
            "text/plain": [
              "date\n",
              "2010-12-01    0.0100\n",
              "2011-01-01    0.0650\n",
              "2011-02-01    0.1075\n",
              "2011-03-01    0.1425\n",
              "2011-04-01    0.1600\n",
              "Name: cpo_pri, dtype: float64"
            ]
          },
          "metadata": {},
          "execution_count": 15
        }
      ]
    },
    {
      "cell_type": "code",
      "source": [
        "test.loc[:, feature_columns] = f_transformer.transform(test[feature_columns].to_numpy())\n",
        "test.head()"
      ],
      "metadata": {
        "colab": {
          "base_uri": "https://localhost:8080/",
          "height": 240
        },
        "id": "aouQuJG5n6k8",
        "outputId": "85e76d95-3b7b-4139-f382-c444d033a7ab"
      },
      "execution_count": 16,
      "outputs": [
        {
          "output_type": "execute_result",
          "data": {
            "text/plain": [
              "            cpo_pri   cno_pri   oli_pri   rps_pri   pno_pri   sbo_pri  \\\n",
              "date                                                                    \n",
              "2019-03-01      354  0.637712  0.194855  0.382454  0.381292 -0.039662   \n",
              "2019-04-01      348  0.533898  0.264388  0.393951  0.213633 -0.054975   \n",
              "2019-05-01      332  0.400424  0.246417  0.453802  0.235262 -0.092159   \n",
              "2019-06-01      349  0.317797  0.234308  0.509834  0.320749 -0.074743   \n",
              "2019-07-01      372  0.313559  0.223422  0.526454  0.426610 -0.066114   \n",
              "\n",
              "             sfo_pri  \n",
              "date                  \n",
              "2019-03-01  0.493342  \n",
              "2019-04-01  0.597870  \n",
              "2019-05-01  0.606525  \n",
              "2019-06-01  0.631824  \n",
              "2019-07-01  0.773462  "
            ],
            "text/html": [
              "\n",
              "  <div id=\"df-3e7bd961-3a25-41a4-b236-95f5c80e4930\">\n",
              "    <div class=\"colab-df-container\">\n",
              "      <div>\n",
              "<style scoped>\n",
              "    .dataframe tbody tr th:only-of-type {\n",
              "        vertical-align: middle;\n",
              "    }\n",
              "\n",
              "    .dataframe tbody tr th {\n",
              "        vertical-align: top;\n",
              "    }\n",
              "\n",
              "    .dataframe thead th {\n",
              "        text-align: right;\n",
              "    }\n",
              "</style>\n",
              "<table border=\"1\" class=\"dataframe\">\n",
              "  <thead>\n",
              "    <tr style=\"text-align: right;\">\n",
              "      <th></th>\n",
              "      <th>cpo_pri</th>\n",
              "      <th>cno_pri</th>\n",
              "      <th>oli_pri</th>\n",
              "      <th>rps_pri</th>\n",
              "      <th>pno_pri</th>\n",
              "      <th>sbo_pri</th>\n",
              "      <th>sfo_pri</th>\n",
              "    </tr>\n",
              "    <tr>\n",
              "      <th>date</th>\n",
              "      <th></th>\n",
              "      <th></th>\n",
              "      <th></th>\n",
              "      <th></th>\n",
              "      <th></th>\n",
              "      <th></th>\n",
              "      <th></th>\n",
              "    </tr>\n",
              "  </thead>\n",
              "  <tbody>\n",
              "    <tr>\n",
              "      <th>2019-03-01</th>\n",
              "      <td>354</td>\n",
              "      <td>0.637712</td>\n",
              "      <td>0.194855</td>\n",
              "      <td>0.382454</td>\n",
              "      <td>0.381292</td>\n",
              "      <td>-0.039662</td>\n",
              "      <td>0.493342</td>\n",
              "    </tr>\n",
              "    <tr>\n",
              "      <th>2019-04-01</th>\n",
              "      <td>348</td>\n",
              "      <td>0.533898</td>\n",
              "      <td>0.264388</td>\n",
              "      <td>0.393951</td>\n",
              "      <td>0.213633</td>\n",
              "      <td>-0.054975</td>\n",
              "      <td>0.597870</td>\n",
              "    </tr>\n",
              "    <tr>\n",
              "      <th>2019-05-01</th>\n",
              "      <td>332</td>\n",
              "      <td>0.400424</td>\n",
              "      <td>0.246417</td>\n",
              "      <td>0.453802</td>\n",
              "      <td>0.235262</td>\n",
              "      <td>-0.092159</td>\n",
              "      <td>0.606525</td>\n",
              "    </tr>\n",
              "    <tr>\n",
              "      <th>2019-06-01</th>\n",
              "      <td>349</td>\n",
              "      <td>0.317797</td>\n",
              "      <td>0.234308</td>\n",
              "      <td>0.509834</td>\n",
              "      <td>0.320749</td>\n",
              "      <td>-0.074743</td>\n",
              "      <td>0.631824</td>\n",
              "    </tr>\n",
              "    <tr>\n",
              "      <th>2019-07-01</th>\n",
              "      <td>372</td>\n",
              "      <td>0.313559</td>\n",
              "      <td>0.223422</td>\n",
              "      <td>0.526454</td>\n",
              "      <td>0.426610</td>\n",
              "      <td>-0.066114</td>\n",
              "      <td>0.773462</td>\n",
              "    </tr>\n",
              "  </tbody>\n",
              "</table>\n",
              "</div>\n",
              "      <button class=\"colab-df-convert\" onclick=\"convertToInteractive('df-3e7bd961-3a25-41a4-b236-95f5c80e4930')\"\n",
              "              title=\"Convert this dataframe to an interactive table.\"\n",
              "              style=\"display:none;\">\n",
              "        \n",
              "  <svg xmlns=\"http://www.w3.org/2000/svg\" height=\"24px\"viewBox=\"0 0 24 24\"\n",
              "       width=\"24px\">\n",
              "    <path d=\"M0 0h24v24H0V0z\" fill=\"none\"/>\n",
              "    <path d=\"M18.56 5.44l.94 2.06.94-2.06 2.06-.94-2.06-.94-.94-2.06-.94 2.06-2.06.94zm-11 1L8.5 8.5l.94-2.06 2.06-.94-2.06-.94L8.5 2.5l-.94 2.06-2.06.94zm10 10l.94 2.06.94-2.06 2.06-.94-2.06-.94-.94-2.06-.94 2.06-2.06.94z\"/><path d=\"M17.41 7.96l-1.37-1.37c-.4-.4-.92-.59-1.43-.59-.52 0-1.04.2-1.43.59L10.3 9.45l-7.72 7.72c-.78.78-.78 2.05 0 2.83L4 21.41c.39.39.9.59 1.41.59.51 0 1.02-.2 1.41-.59l7.78-7.78 2.81-2.81c.8-.78.8-2.07 0-2.86zM5.41 20L4 18.59l7.72-7.72 1.47 1.35L5.41 20z\"/>\n",
              "  </svg>\n",
              "      </button>\n",
              "      \n",
              "  <style>\n",
              "    .colab-df-container {\n",
              "      display:flex;\n",
              "      flex-wrap:wrap;\n",
              "      gap: 12px;\n",
              "    }\n",
              "\n",
              "    .colab-df-convert {\n",
              "      background-color: #E8F0FE;\n",
              "      border: none;\n",
              "      border-radius: 50%;\n",
              "      cursor: pointer;\n",
              "      display: none;\n",
              "      fill: #1967D2;\n",
              "      height: 32px;\n",
              "      padding: 0 0 0 0;\n",
              "      width: 32px;\n",
              "    }\n",
              "\n",
              "    .colab-df-convert:hover {\n",
              "      background-color: #E2EBFA;\n",
              "      box-shadow: 0px 1px 2px rgba(60, 64, 67, 0.3), 0px 1px 3px 1px rgba(60, 64, 67, 0.15);\n",
              "      fill: #174EA6;\n",
              "    }\n",
              "\n",
              "    [theme=dark] .colab-df-convert {\n",
              "      background-color: #3B4455;\n",
              "      fill: #D2E3FC;\n",
              "    }\n",
              "\n",
              "    [theme=dark] .colab-df-convert:hover {\n",
              "      background-color: #434B5C;\n",
              "      box-shadow: 0px 1px 3px 1px rgba(0, 0, 0, 0.15);\n",
              "      filter: drop-shadow(0px 1px 2px rgba(0, 0, 0, 0.3));\n",
              "      fill: #FFFFFF;\n",
              "    }\n",
              "  </style>\n",
              "\n",
              "      <script>\n",
              "        const buttonEl =\n",
              "          document.querySelector('#df-3e7bd961-3a25-41a4-b236-95f5c80e4930 button.colab-df-convert');\n",
              "        buttonEl.style.display =\n",
              "          google.colab.kernel.accessAllowed ? 'block' : 'none';\n",
              "\n",
              "        async function convertToInteractive(key) {\n",
              "          const element = document.querySelector('#df-3e7bd961-3a25-41a4-b236-95f5c80e4930');\n",
              "          const dataTable =\n",
              "            await google.colab.kernel.invokeFunction('convertToInteractive',\n",
              "                                                     [key], {});\n",
              "          if (!dataTable) return;\n",
              "\n",
              "          const docLinkHtml = 'Like what you see? Visit the ' +\n",
              "            '<a target=\"_blank\" href=https://colab.research.google.com/notebooks/data_table.ipynb>data table notebook</a>'\n",
              "            + ' to learn more about interactive tables.';\n",
              "          element.innerHTML = '';\n",
              "          dataTable['output_type'] = 'display_data';\n",
              "          await google.colab.output.renderOutput(dataTable, element);\n",
              "          const docLink = document.createElement('div');\n",
              "          docLink.innerHTML = docLinkHtml;\n",
              "          element.appendChild(docLink);\n",
              "        }\n",
              "      </script>\n",
              "    </div>\n",
              "  </div>\n",
              "  "
            ]
          },
          "metadata": {},
          "execution_count": 16
        }
      ]
    },
    {
      "cell_type": "code",
      "source": [
        "test['cpo_pri'] = cpo_pri_transformer.transform(test[['cpo_pri']])\n",
        "test['cpo_pri'].head()"
      ],
      "metadata": {
        "colab": {
          "base_uri": "https://localhost:8080/"
        },
        "id": "GXgFSrz3n6o5",
        "outputId": "2e1dd1da-99fd-418a-98e6-d681ea84e5c3"
      },
      "execution_count": 17,
      "outputs": [
        {
          "output_type": "execute_result",
          "data": {
            "text/plain": [
              "date\n",
              "2019-03-01    0.0875\n",
              "2019-04-01    0.0725\n",
              "2019-05-01    0.0325\n",
              "2019-06-01    0.0750\n",
              "2019-07-01    0.1325\n",
              "Name: cpo_pri, dtype: float64"
            ]
          },
          "metadata": {},
          "execution_count": 17
        }
      ]
    },
    {
      "cell_type": "markdown",
      "source": [
        "###Create X_train, y_train, X_test and y_test"
      ],
      "metadata": {
        "id": "p_2s3AO-ohCD"
      }
    },
    {
      "cell_type": "code",
      "source": [
        "def createDataset(X, y, time_steps):\n",
        "    Xs, ys = [], []\n",
        "    for i in range(len(X) - time_steps):\n",
        "        data = X.iloc[i:(i + time_steps)].values\n",
        "        Xs.append(data)        \n",
        "        ys.append(y.iloc[i + time_steps])\n",
        "        \n",
        "    return np.array(Xs), np.array(ys)\n",
        "\n",
        "time_steps = 3\n",
        "X_train, y_train = createDataset(train, train.cpo_pri, time_steps)\n",
        "X_test, y_test = createDataset(test, test.cpo_pri, time_steps)\n",
        "print(X_train.shape, y_train.shape)"
      ],
      "metadata": {
        "colab": {
          "base_uri": "https://localhost:8080/"
        },
        "id": "fGTyTKiYoJIb",
        "outputId": "e197d6bc-39eb-4df8-a116-2c391dfeaa7b"
      },
      "execution_count": 18,
      "outputs": [
        {
          "output_type": "stream",
          "name": "stdout",
          "text": [
            "(96, 3, 7) (96,)\n"
          ]
        }
      ]
    },
    {
      "cell_type": "code",
      "source": [
        "#test_lag = test[1:23]\n",
        "#len(test) - 1"
      ],
      "metadata": {
        "id": "dt_elxfcLh_b"
      },
      "execution_count": null,
      "outputs": []
    },
    {
      "cell_type": "code",
      "source": [
        "#decrement naturally.\n",
        "#shifted = test.set_index([\"date\"]).unstack().shift(3).stack()"
      ],
      "metadata": {
        "id": "BqpvIj_hKO30"
      },
      "execution_count": null,
      "outputs": []
    },
    {
      "cell_type": "code",
      "source": [
        "cnn_model = tf.keras.Sequential()\n",
        "cnn_model.add(tf.keras.layers.Conv1D(filters=64, kernel_size=2, activation='tanh', input_shape=(X_test.shape[1], X_test.shape[2])))\n",
        "cnn_model.add(tf.keras.layers.MaxPooling1D(pool_size=2))\n",
        "cnn_model.add(tf.keras.layers.Flatten())\n",
        "cnn_model.add(tf.keras.layers.Dense(64, activation='tanh'))\n",
        "cnn_model.add(tf.keras.layers.Dense(1))\n",
        "\n",
        "# compile model using adam\n",
        "cnn_model.compile(optimizer='adam',loss='mse',metrics=['mse'])\n",
        "# model training\n",
        "history = cnn_model.fit(X_train, y_train, epochs=100, batch_size = 64, validation_split=0.2) #epochs = 30, batch_size = 60\n",
        "\n",
        "# model evaluation\n",
        "cnn_model.evaluate(X_test, y_test)\n",
        "\n",
        "\n",
        "#cnn_model.compile(loss='mse', optimizer='adam')\n",
        "#cnn_model.summary()\n",
        "#bst -> epochs = 300, batch_size = 128, RMSE = 32\n",
        "#bst -> epochs = 350, batch_size = 100, RMSE = 36\n",
        "#bst -> epochs = 400, batch_size = 128, RMSE = 39"
      ],
      "metadata": {
        "id": "EkQPUIAQOvX9",
        "outputId": "e79a3456-7953-400a-8cbb-4592eb069053",
        "colab": {
          "base_uri": "https://localhost:8080/"
        }
      },
      "execution_count": 19,
      "outputs": [
        {
          "output_type": "stream",
          "name": "stdout",
          "text": [
            "Epoch 1/100\n",
            "2/2 [==============================] - 2s 427ms/step - loss: 0.4236 - mse: 0.4236 - val_loss: 0.4072 - val_mse: 0.4072\n",
            "Epoch 2/100\n",
            "2/2 [==============================] - 0s 56ms/step - loss: 0.1441 - mse: 0.1441 - val_loss: 0.1456 - val_mse: 0.1456\n",
            "Epoch 3/100\n",
            "2/2 [==============================] - 0s 70ms/step - loss: 0.0298 - mse: 0.0298 - val_loss: 0.0613 - val_mse: 0.0613\n",
            "Epoch 4/100\n",
            "2/2 [==============================] - 0s 82ms/step - loss: 0.0420 - mse: 0.0420 - val_loss: 0.0655 - val_mse: 0.0655\n",
            "Epoch 5/100\n",
            "2/2 [==============================] - 0s 39ms/step - loss: 0.0897 - mse: 0.0897 - val_loss: 0.0704 - val_mse: 0.0704\n",
            "Epoch 6/100\n",
            "2/2 [==============================] - 0s 62ms/step - loss: 0.1015 - mse: 0.1015 - val_loss: 0.0565 - val_mse: 0.0565\n",
            "Epoch 7/100\n",
            "2/2 [==============================] - 0s 60ms/step - loss: 0.0759 - mse: 0.0759 - val_loss: 0.0442 - val_mse: 0.0442\n",
            "Epoch 8/100\n",
            "2/2 [==============================] - 0s 62ms/step - loss: 0.0417 - mse: 0.0417 - val_loss: 0.0511 - val_mse: 0.0511\n",
            "Epoch 9/100\n",
            "2/2 [==============================] - 0s 51ms/step - loss: 0.0212 - mse: 0.0212 - val_loss: 0.0767 - val_mse: 0.0767\n",
            "Epoch 10/100\n",
            "2/2 [==============================] - 0s 76ms/step - loss: 0.0198 - mse: 0.0198 - val_loss: 0.1046 - val_mse: 0.1046\n",
            "Epoch 11/100\n",
            "2/2 [==============================] - 0s 121ms/step - loss: 0.0272 - mse: 0.0272 - val_loss: 0.1194 - val_mse: 0.1194\n",
            "Epoch 12/100\n",
            "2/2 [==============================] - 0s 53ms/step - loss: 0.0339 - mse: 0.0339 - val_loss: 0.1179 - val_mse: 0.1179\n",
            "Epoch 13/100\n",
            "2/2 [==============================] - 0s 49ms/step - loss: 0.0342 - mse: 0.0342 - val_loss: 0.1019 - val_mse: 0.1019\n",
            "Epoch 14/100\n",
            "2/2 [==============================] - 0s 48ms/step - loss: 0.0281 - mse: 0.0281 - val_loss: 0.0767 - val_mse: 0.0767\n",
            "Epoch 15/100\n",
            "2/2 [==============================] - 0s 191ms/step - loss: 0.0199 - mse: 0.0199 - val_loss: 0.0520 - val_mse: 0.0520\n",
            "Epoch 16/100\n",
            "2/2 [==============================] - 0s 95ms/step - loss: 0.0151 - mse: 0.0151 - val_loss: 0.0351 - val_mse: 0.0351\n",
            "Epoch 17/100\n",
            "2/2 [==============================] - 0s 56ms/step - loss: 0.0158 - mse: 0.0158 - val_loss: 0.0270 - val_mse: 0.0270\n",
            "Epoch 18/100\n",
            "2/2 [==============================] - 0s 40ms/step - loss: 0.0185 - mse: 0.0185 - val_loss: 0.0239 - val_mse: 0.0239\n",
            "Epoch 19/100\n",
            "2/2 [==============================] - 0s 45ms/step - loss: 0.0201 - mse: 0.0201 - val_loss: 0.0231 - val_mse: 0.0231\n",
            "Epoch 20/100\n",
            "2/2 [==============================] - 0s 36ms/step - loss: 0.0188 - mse: 0.0188 - val_loss: 0.0241 - val_mse: 0.0241\n",
            "Epoch 21/100\n",
            "2/2 [==============================] - 0s 60ms/step - loss: 0.0159 - mse: 0.0159 - val_loss: 0.0273 - val_mse: 0.0273\n",
            "Epoch 22/100\n",
            "2/2 [==============================] - 0s 39ms/step - loss: 0.0133 - mse: 0.0133 - val_loss: 0.0322 - val_mse: 0.0322\n",
            "Epoch 23/100\n",
            "2/2 [==============================] - 0s 47ms/step - loss: 0.0129 - mse: 0.0129 - val_loss: 0.0365 - val_mse: 0.0365\n",
            "Epoch 24/100\n",
            "2/2 [==============================] - 0s 65ms/step - loss: 0.0128 - mse: 0.0128 - val_loss: 0.0377 - val_mse: 0.0377\n",
            "Epoch 25/100\n",
            "2/2 [==============================] - 0s 99ms/step - loss: 0.0131 - mse: 0.0131 - val_loss: 0.0370 - val_mse: 0.0370\n",
            "Epoch 26/100\n",
            "2/2 [==============================] - 0s 41ms/step - loss: 0.0129 - mse: 0.0129 - val_loss: 0.0339 - val_mse: 0.0339\n",
            "Epoch 27/100\n",
            "2/2 [==============================] - 0s 39ms/step - loss: 0.0121 - mse: 0.0121 - val_loss: 0.0294 - val_mse: 0.0294\n",
            "Epoch 28/100\n",
            "2/2 [==============================] - 0s 52ms/step - loss: 0.0111 - mse: 0.0111 - val_loss: 0.0254 - val_mse: 0.0254\n",
            "Epoch 29/100\n",
            "2/2 [==============================] - 0s 57ms/step - loss: 0.0106 - mse: 0.0106 - val_loss: 0.0220 - val_mse: 0.0220\n",
            "Epoch 30/100\n",
            "2/2 [==============================] - 0s 46ms/step - loss: 0.0108 - mse: 0.0108 - val_loss: 0.0201 - val_mse: 0.0201\n",
            "Epoch 31/100\n",
            "2/2 [==============================] - 0s 67ms/step - loss: 0.0109 - mse: 0.0109 - val_loss: 0.0194 - val_mse: 0.0194\n",
            "Epoch 32/100\n",
            "2/2 [==============================] - 0s 37ms/step - loss: 0.0108 - mse: 0.0108 - val_loss: 0.0193 - val_mse: 0.0193\n",
            "Epoch 33/100\n",
            "2/2 [==============================] - 0s 43ms/step - loss: 0.0103 - mse: 0.0103 - val_loss: 0.0198 - val_mse: 0.0198\n",
            "Epoch 34/100\n",
            "2/2 [==============================] - 0s 36ms/step - loss: 0.0097 - mse: 0.0097 - val_loss: 0.0215 - val_mse: 0.0215\n",
            "Epoch 35/100\n",
            "2/2 [==============================] - 0s 39ms/step - loss: 0.0096 - mse: 0.0096 - val_loss: 0.0234 - val_mse: 0.0234\n",
            "Epoch 36/100\n",
            "2/2 [==============================] - 0s 76ms/step - loss: 0.0100 - mse: 0.0100 - val_loss: 0.0238 - val_mse: 0.0238\n",
            "Epoch 37/100\n",
            "2/2 [==============================] - 0s 117ms/step - loss: 0.0100 - mse: 0.0100 - val_loss: 0.0221 - val_mse: 0.0221\n",
            "Epoch 38/100\n",
            "2/2 [==============================] - 0s 80ms/step - loss: 0.0096 - mse: 0.0096 - val_loss: 0.0195 - val_mse: 0.0195\n",
            "Epoch 39/100\n",
            "2/2 [==============================] - 0s 50ms/step - loss: 0.0091 - mse: 0.0091 - val_loss: 0.0176 - val_mse: 0.0176\n",
            "Epoch 40/100\n",
            "2/2 [==============================] - 0s 71ms/step - loss: 0.0088 - mse: 0.0088 - val_loss: 0.0166 - val_mse: 0.0166\n",
            "Epoch 41/100\n",
            "2/2 [==============================] - 0s 64ms/step - loss: 0.0088 - mse: 0.0088 - val_loss: 0.0160 - val_mse: 0.0160\n",
            "Epoch 42/100\n",
            "2/2 [==============================] - 0s 104ms/step - loss: 0.0090 - mse: 0.0090 - val_loss: 0.0156 - val_mse: 0.0156\n",
            "Epoch 43/100\n",
            "2/2 [==============================] - 0s 50ms/step - loss: 0.0092 - mse: 0.0092 - val_loss: 0.0154 - val_mse: 0.0154\n",
            "Epoch 44/100\n",
            "2/2 [==============================] - 0s 66ms/step - loss: 0.0090 - mse: 0.0090 - val_loss: 0.0152 - val_mse: 0.0152\n",
            "Epoch 45/100\n",
            "2/2 [==============================] - 0s 90ms/step - loss: 0.0085 - mse: 0.0085 - val_loss: 0.0152 - val_mse: 0.0152\n",
            "Epoch 46/100\n",
            "2/2 [==============================] - 0s 54ms/step - loss: 0.0082 - mse: 0.0082 - val_loss: 0.0155 - val_mse: 0.0155\n",
            "Epoch 47/100\n",
            "2/2 [==============================] - 0s 116ms/step - loss: 0.0083 - mse: 0.0083 - val_loss: 0.0156 - val_mse: 0.0156\n",
            "Epoch 48/100\n",
            "2/2 [==============================] - 0s 80ms/step - loss: 0.0082 - mse: 0.0082 - val_loss: 0.0152 - val_mse: 0.0152\n",
            "Epoch 49/100\n",
            "2/2 [==============================] - 0s 47ms/step - loss: 0.0080 - mse: 0.0080 - val_loss: 0.0150 - val_mse: 0.0150\n",
            "Epoch 50/100\n",
            "2/2 [==============================] - 0s 42ms/step - loss: 0.0079 - mse: 0.0079 - val_loss: 0.0151 - val_mse: 0.0151\n",
            "Epoch 51/100\n",
            "2/2 [==============================] - 0s 41ms/step - loss: 0.0080 - mse: 0.0080 - val_loss: 0.0155 - val_mse: 0.0155\n",
            "Epoch 52/100\n",
            "2/2 [==============================] - 0s 53ms/step - loss: 0.0082 - mse: 0.0082 - val_loss: 0.0155 - val_mse: 0.0155\n",
            "Epoch 53/100\n",
            "2/2 [==============================] - 0s 46ms/step - loss: 0.0081 - mse: 0.0081 - val_loss: 0.0152 - val_mse: 0.0152\n",
            "Epoch 54/100\n",
            "2/2 [==============================] - 0s 55ms/step - loss: 0.0079 - mse: 0.0079 - val_loss: 0.0148 - val_mse: 0.0148\n",
            "Epoch 55/100\n",
            "2/2 [==============================] - 0s 60ms/step - loss: 0.0078 - mse: 0.0078 - val_loss: 0.0146 - val_mse: 0.0146\n",
            "Epoch 56/100\n",
            "2/2 [==============================] - 0s 55ms/step - loss: 0.0076 - mse: 0.0076 - val_loss: 0.0148 - val_mse: 0.0148\n",
            "Epoch 57/100\n",
            "2/2 [==============================] - 0s 46ms/step - loss: 0.0076 - mse: 0.0076 - val_loss: 0.0151 - val_mse: 0.0151\n",
            "Epoch 58/100\n",
            "2/2 [==============================] - 0s 62ms/step - loss: 0.0075 - mse: 0.0075 - val_loss: 0.0154 - val_mse: 0.0154\n",
            "Epoch 59/100\n",
            "2/2 [==============================] - 0s 51ms/step - loss: 0.0075 - mse: 0.0075 - val_loss: 0.0155 - val_mse: 0.0155\n",
            "Epoch 60/100\n",
            "2/2 [==============================] - 0s 59ms/step - loss: 0.0074 - mse: 0.0074 - val_loss: 0.0157 - val_mse: 0.0157\n",
            "Epoch 61/100\n",
            "2/2 [==============================] - 0s 42ms/step - loss: 0.0074 - mse: 0.0074 - val_loss: 0.0158 - val_mse: 0.0158\n",
            "Epoch 62/100\n",
            "2/2 [==============================] - 0s 43ms/step - loss: 0.0074 - mse: 0.0074 - val_loss: 0.0161 - val_mse: 0.0161\n",
            "Epoch 63/100\n",
            "2/2 [==============================] - 0s 61ms/step - loss: 0.0073 - mse: 0.0073 - val_loss: 0.0166 - val_mse: 0.0166\n",
            "Epoch 64/100\n",
            "2/2 [==============================] - 0s 47ms/step - loss: 0.0073 - mse: 0.0073 - val_loss: 0.0170 - val_mse: 0.0170\n",
            "Epoch 65/100\n",
            "2/2 [==============================] - 0s 38ms/step - loss: 0.0073 - mse: 0.0073 - val_loss: 0.0174 - val_mse: 0.0174\n",
            "Epoch 66/100\n",
            "2/2 [==============================] - 0s 35ms/step - loss: 0.0073 - mse: 0.0073 - val_loss: 0.0177 - val_mse: 0.0177\n",
            "Epoch 67/100\n",
            "2/2 [==============================] - 0s 49ms/step - loss: 0.0073 - mse: 0.0073 - val_loss: 0.0181 - val_mse: 0.0181\n",
            "Epoch 68/100\n",
            "2/2 [==============================] - 0s 97ms/step - loss: 0.0073 - mse: 0.0073 - val_loss: 0.0181 - val_mse: 0.0181\n",
            "Epoch 69/100\n",
            "2/2 [==============================] - 0s 49ms/step - loss: 0.0072 - mse: 0.0072 - val_loss: 0.0180 - val_mse: 0.0180\n",
            "Epoch 70/100\n",
            "2/2 [==============================] - 0s 48ms/step - loss: 0.0071 - mse: 0.0071 - val_loss: 0.0176 - val_mse: 0.0176\n",
            "Epoch 71/100\n",
            "2/2 [==============================] - 0s 63ms/step - loss: 0.0072 - mse: 0.0072 - val_loss: 0.0175 - val_mse: 0.0175\n",
            "Epoch 72/100\n",
            "2/2 [==============================] - 0s 36ms/step - loss: 0.0071 - mse: 0.0071 - val_loss: 0.0182 - val_mse: 0.0182\n",
            "Epoch 73/100\n",
            "2/2 [==============================] - 0s 49ms/step - loss: 0.0071 - mse: 0.0071 - val_loss: 0.0189 - val_mse: 0.0189\n",
            "Epoch 74/100\n",
            "2/2 [==============================] - 0s 77ms/step - loss: 0.0070 - mse: 0.0070 - val_loss: 0.0189 - val_mse: 0.0189\n",
            "Epoch 75/100\n",
            "2/2 [==============================] - 0s 80ms/step - loss: 0.0070 - mse: 0.0070 - val_loss: 0.0190 - val_mse: 0.0190\n",
            "Epoch 76/100\n",
            "2/2 [==============================] - 0s 38ms/step - loss: 0.0070 - mse: 0.0070 - val_loss: 0.0186 - val_mse: 0.0186\n",
            "Epoch 77/100\n",
            "2/2 [==============================] - 0s 99ms/step - loss: 0.0070 - mse: 0.0070 - val_loss: 0.0181 - val_mse: 0.0181\n",
            "Epoch 78/100\n",
            "2/2 [==============================] - 0s 69ms/step - loss: 0.0073 - mse: 0.0073 - val_loss: 0.0183 - val_mse: 0.0183\n",
            "Epoch 79/100\n",
            "2/2 [==============================] - 0s 107ms/step - loss: 0.0073 - mse: 0.0073 - val_loss: 0.0192 - val_mse: 0.0192\n",
            "Epoch 80/100\n",
            "2/2 [==============================] - 0s 46ms/step - loss: 0.0070 - mse: 0.0070 - val_loss: 0.0210 - val_mse: 0.0210\n",
            "Epoch 81/100\n",
            "2/2 [==============================] - 0s 67ms/step - loss: 0.0070 - mse: 0.0070 - val_loss: 0.0229 - val_mse: 0.0229\n",
            "Epoch 82/100\n",
            "2/2 [==============================] - 0s 54ms/step - loss: 0.0074 - mse: 0.0074 - val_loss: 0.0234 - val_mse: 0.0234\n",
            "Epoch 83/100\n",
            "2/2 [==============================] - 0s 41ms/step - loss: 0.0075 - mse: 0.0075 - val_loss: 0.0211 - val_mse: 0.0211\n",
            "Epoch 84/100\n",
            "2/2 [==============================] - 0s 43ms/step - loss: 0.0071 - mse: 0.0071 - val_loss: 0.0188 - val_mse: 0.0188\n",
            "Epoch 85/100\n",
            "2/2 [==============================] - 0s 67ms/step - loss: 0.0070 - mse: 0.0070 - val_loss: 0.0183 - val_mse: 0.0183\n",
            "Epoch 86/100\n",
            "2/2 [==============================] - 0s 51ms/step - loss: 0.0072 - mse: 0.0072 - val_loss: 0.0186 - val_mse: 0.0186\n",
            "Epoch 87/100\n",
            "2/2 [==============================] - 0s 66ms/step - loss: 0.0070 - mse: 0.0070 - val_loss: 0.0196 - val_mse: 0.0196\n",
            "Epoch 88/100\n",
            "2/2 [==============================] - 0s 100ms/step - loss: 0.0068 - mse: 0.0068 - val_loss: 0.0210 - val_mse: 0.0210\n",
            "Epoch 89/100\n",
            "2/2 [==============================] - 0s 84ms/step - loss: 0.0068 - mse: 0.0068 - val_loss: 0.0222 - val_mse: 0.0222\n",
            "Epoch 90/100\n",
            "2/2 [==============================] - 0s 143ms/step - loss: 0.0069 - mse: 0.0069 - val_loss: 0.0224 - val_mse: 0.0224\n",
            "Epoch 91/100\n",
            "2/2 [==============================] - 0s 116ms/step - loss: 0.0069 - mse: 0.0069 - val_loss: 0.0215 - val_mse: 0.0215\n",
            "Epoch 92/100\n",
            "2/2 [==============================] - 0s 99ms/step - loss: 0.0068 - mse: 0.0068 - val_loss: 0.0202 - val_mse: 0.0202\n",
            "Epoch 93/100\n",
            "2/2 [==============================] - 0s 57ms/step - loss: 0.0067 - mse: 0.0067 - val_loss: 0.0193 - val_mse: 0.0193\n",
            "Epoch 94/100\n",
            "2/2 [==============================] - 0s 95ms/step - loss: 0.0068 - mse: 0.0068 - val_loss: 0.0189 - val_mse: 0.0189\n",
            "Epoch 95/100\n",
            "2/2 [==============================] - 0s 83ms/step - loss: 0.0069 - mse: 0.0069 - val_loss: 0.0190 - val_mse: 0.0190\n",
            "Epoch 96/100\n",
            "2/2 [==============================] - 0s 73ms/step - loss: 0.0067 - mse: 0.0067 - val_loss: 0.0200 - val_mse: 0.0200\n",
            "Epoch 97/100\n",
            "2/2 [==============================] - 0s 101ms/step - loss: 0.0067 - mse: 0.0067 - val_loss: 0.0218 - val_mse: 0.0218\n",
            "Epoch 98/100\n",
            "2/2 [==============================] - 0s 174ms/step - loss: 0.0068 - mse: 0.0068 - val_loss: 0.0219 - val_mse: 0.0219\n",
            "Epoch 99/100\n",
            "2/2 [==============================] - 0s 113ms/step - loss: 0.0068 - mse: 0.0068 - val_loss: 0.0211 - val_mse: 0.0211\n",
            "Epoch 100/100\n",
            "2/2 [==============================] - 0s 139ms/step - loss: 0.0066 - mse: 0.0066 - val_loss: 0.0201 - val_mse: 0.0201\n",
            "1/1 [==============================] - 0s 114ms/step - loss: 0.0198 - mse: 0.0198\n"
          ]
        },
        {
          "output_type": "execute_result",
          "data": {
            "text/plain": [
              "[0.019830260425806046, 0.019830260425806046]"
            ]
          },
          "metadata": {},
          "execution_count": 19
        }
      ]
    },
    {
      "cell_type": "code",
      "source": [
        "print(history.history.keys())\n",
        "# \"Loss\"\n",
        "plt.plot(history.history['loss'])\n",
        "plt.plot(history.history['val_loss'])\n",
        "plt.title('model loss')\n",
        "plt.ylabel('loss')\n",
        "plt.xlabel('epoch')\n",
        "plt.legend(['train', 'validation'], loc='upper left')\n",
        "plt.show()"
      ],
      "metadata": {
        "colab": {
          "base_uri": "https://localhost:8080/",
          "height": 401
        },
        "id": "tvMUIg5SHsEF",
        "outputId": "6b6167bc-38ef-4cd2-a4f7-48a152a4093e"
      },
      "execution_count": 20,
      "outputs": [
        {
          "output_type": "stream",
          "name": "stdout",
          "text": [
            "dict_keys(['loss', 'mse', 'val_loss', 'val_mse'])\n"
          ]
        },
        {
          "output_type": "display_data",
          "data": {
            "text/plain": [
              "<Figure size 720x360 with 1 Axes>"
            ],
            "image/png": "[encoded data removed]"
          },
          "metadata": {}
        }
      ]
    },
    {
      "cell_type": "code",
      "source": [
        "mse_cnn = cnn_model.evaluate(X_test, y_test)"
      ],
      "metadata": {
        "colab": {
          "base_uri": "https://localhost:8080/"
        },
        "id": "ImssP1C-YLO6",
        "outputId": "1ed91328-7f15-4e8f-eaa5-519b8b06ba2d"
      },
      "execution_count": 21,
      "outputs": [
        {
          "output_type": "stream",
          "name": "stdout",
          "text": [
            "1/1 [==============================] - 0s 62ms/step - loss: 0.0198 - mse: 0.0198\n"
          ]
        }
      ]
    },
    {
      "cell_type": "markdown",
      "source": [
        "####Baseline MSE = 0.01660"
      ],
      "metadata": {
        "id": "kaLutRuWgU4K"
      }
    },
    {
      "cell_type": "code",
      "source": [
        "cnn_model.summary()"
      ],
      "metadata": {
        "colab": {
          "base_uri": "https://localhost:8080/"
        },
        "id": "A8XbxYQeiCoj",
        "outputId": "0d6c29d2-2483-4df9-d4d5-201d1c99dcba"
      },
      "execution_count": 22,
      "outputs": [
        {
          "output_type": "stream",
          "name": "stdout",
          "text": [
            "Model: \"sequential\"\n",
            "_________________________________________________________________\n",
            " Layer (type)                Output Shape              Param #   \n",
            "=================================================================\n",
            " conv1d (Conv1D)             (None, 2, 64)             960       \n",
            "                                                                 \n",
            " max_pooling1d (MaxPooling1D  (None, 1, 64)            0         \n",
            " )                                                               \n",
            "                                                                 \n",
            " flatten (Flatten)           (None, 64)                0         \n",
            "                                                                 \n",
            " dense (Dense)               (None, 64)                4160      \n",
            "                                                                 \n",
            " dense_1 (Dense)             (None, 1)                 65        \n",
            "                                                                 \n",
            "=================================================================\n",
            "Total params: 5,185\n",
            "Trainable params: 5,185\n",
            "Non-trainable params: 0\n",
            "_________________________________________________________________\n"
          ]
        }
      ]
    },
    {
      "cell_type": "markdown",
      "source": [
        "###Predict the Test without Hyperparameter Tuning"
      ],
      "metadata": {
        "id": "bNFFP1sSleo-"
      }
    },
    {
      "cell_type": "code",
      "source": [
        "y_pred = cnn_model.predict(X_test)\n",
        "y_pred"
      ],
      "metadata": {
        "colab": {
          "base_uri": "https://localhost:8080/"
        },
        "id": "wujQ6JNuiCyl",
        "outputId": "23a49de3-3c41-43e2-ff90-64d82a7ee5a4"
      },
      "execution_count": 23,
      "outputs": [
        {
          "output_type": "stream",
          "name": "stdout",
          "text": [
            "1/1 [==============================] - 0s 151ms/step\n"
          ]
        },
        {
          "output_type": "execute_result",
          "data": {
            "text/plain": [
              "array([[ 0.09560499],\n",
              "       [ 0.08446082],\n",
              "       [ 0.14943573],\n",
              "       [ 0.14781535],\n",
              "       [ 0.07793486],\n",
              "       [ 0.06686095],\n",
              "       [ 0.07229463],\n",
              "       [ 0.06787021],\n",
              "       [ 0.00877   ],\n",
              "       [-0.01855137],\n",
              "       [-0.02550316],\n",
              "       [ 0.01274959],\n",
              "       [-0.02263447],\n",
              "       [-0.03405682],\n",
              "       [-0.0308895 ],\n",
              "       [-0.04009353],\n",
              "       [-0.06641146],\n",
              "       [ 0.03098159],\n",
              "       [ 0.12149444],\n",
              "       [ 0.15095301],\n",
              "       [ 0.08419728],\n",
              "       [ 0.06575878]], dtype=float32)"
            ]
          },
          "metadata": {},
          "execution_count": 23
        }
      ]
    },
    {
      "cell_type": "code",
      "source": [
        "y_pred.reshape(1,-1)"
      ],
      "metadata": {
        "colab": {
          "base_uri": "https://localhost:8080/"
        },
        "id": "GI8XYmymlslh",
        "outputId": "ab39c99e-8dac-4858-a899-127f58436e93"
      },
      "execution_count": 24,
      "outputs": [
        {
          "output_type": "execute_result",
          "data": {
            "text/plain": [
              "array([[ 0.09560499,  0.08446082,  0.14943573,  0.14781535,  0.07793486,\n",
              "         0.06686095,  0.07229463,  0.06787021,  0.00877   , -0.01855137,\n",
              "        -0.02550316,  0.01274959, -0.02263447, -0.03405682, -0.0308895 ,\n",
              "        -0.04009353, -0.06641146,  0.03098159,  0.12149444,  0.15095301,\n",
              "         0.08419728,  0.06575878]], dtype=float32)"
            ]
          },
          "metadata": {},
          "execution_count": 24
        }
      ]
    },
    {
      "cell_type": "markdown",
      "source": [
        "###Invert Transformed Data"
      ],
      "metadata": {
        "id": "jrtmvrZ_l2__"
      }
    },
    {
      "cell_type": "code",
      "source": [
        "y_train_inv = cpo_pri_transformer.inverse_transform(y_train.reshape(1, -1))\n",
        "y_test_inv = cpo_pri_transformer.inverse_transform(y_test.reshape(1, -1))\n",
        "y_pred_inv = cpo_pri_transformer.inverse_transform(y_pred.reshape(1,-1))\n",
        "print(y_train_inv)\n",
        "print(y_test_inv)\n",
        "print(y_pred_inv)"
      ],
      "metadata": {
        "colab": {
          "base_uri": "https://localhost:8080/"
        },
        "id": "FVSGGT57lxHw",
        "outputId": "f4027691-94d4-4573-c993-371791db1bc3"
      },
      "execution_count": 25,
      "outputs": [
        {
          "output_type": "stream",
          "name": "stdout",
          "text": [
            "[[376. 383. 382. 396. 402. 390. 404. 382. 382. 391. 396. 413. 401. 410.\n",
            "  425. 408. 392. 371. 356. 362. 356. 352. 333. 357. 411. 404. 387. 395.\n",
            "  434. 488. 508. 494. 575. 614. 616. 707. 719. 655. 661. 687. 625. 611.\n",
            "  631. 655. 616. 586. 615. 607. 590. 535. 518. 519. 562. 552. 508. 476.\n",
            "  513. 545. 532. 550. 561. 567. 580. 559. 562. 553. 533. 498. 504. 525.\n",
            "  547. 556. 566. 621. 659. 671. 688. 705. 633. 661. 674. 703. 694. 681.\n",
            "  663. 632. 561. 497. 509. 475. 392. 319. 354. 388. 381. 370.]]\n",
            "[[349. 372. 324. 315. 312. 306. 288. 255. 257. 265. 254. 240. 254. 251.\n",
            "  234. 255. 330. 362. 310. 277. 323. 360.]]\n",
            "[[357.24197 352.78433 378.7743  378.12616 350.17395 345.7444  347.91785\n",
            "  346.14807 322.508   311.57944 308.79874 324.09982 309.9462  305.37726\n",
            "  306.6442  302.9626  292.4354  331.39264 367.59778 379.3812  352.67892\n",
            "  345.3035 ]]\n"
          ]
        }
      ]
    },
    {
      "cell_type": "markdown",
      "source": [
        "###Plot History, Actual and Predicted Value"
      ],
      "metadata": {
        "id": "PxYTgRmhmDtL"
      }
    },
    {
      "cell_type": "code",
      "source": [
        "y_train_inv = y_train_inv.flatten()\n",
        "y_train_inv"
      ],
      "metadata": {
        "colab": {
          "base_uri": "https://localhost:8080/"
        },
        "id": "YXY0nwhElxLo",
        "outputId": "31bac4a3-757b-4400-8411-4f078ea6b44d"
      },
      "execution_count": 26,
      "outputs": [
        {
          "output_type": "execute_result",
          "data": {
            "text/plain": [
              "array([376., 383., 382., 396., 402., 390., 404., 382., 382., 391., 396.,\n",
              "       413., 401., 410., 425., 408., 392., 371., 356., 362., 356., 352.,\n",
              "       333., 357., 411., 404., 387., 395., 434., 488., 508., 494., 575.,\n",
              "       614., 616., 707., 719., 655., 661., 687., 625., 611., 631., 655.,\n",
              "       616., 586., 615., 607., 590., 535., 518., 519., 562., 552., 508.,\n",
              "       476., 513., 545., 532., 550., 561., 567., 580., 559., 562., 553.,\n",
              "       533., 498., 504., 525., 547., 556., 566., 621., 659., 671., 688.,\n",
              "       705., 633., 661., 674., 703., 694., 681., 663., 632., 561., 497.,\n",
              "       509., 475., 392., 319., 354., 388., 381., 370.])"
            ]
          },
          "metadata": {},
          "execution_count": 26
        }
      ]
    },
    {
      "cell_type": "code",
      "source": [
        "y_test_inv = y_test_inv.flatten()\n",
        "y_test_inv"
      ],
      "metadata": {
        "colab": {
          "base_uri": "https://localhost:8080/"
        },
        "id": "z_zQn_rpl_MC",
        "outputId": "acc00442-340d-45cc-c85c-d5a097a8fa60"
      },
      "execution_count": 27,
      "outputs": [
        {
          "output_type": "execute_result",
          "data": {
            "text/plain": [
              "array([349., 372., 324., 315., 312., 306., 288., 255., 257., 265., 254.,\n",
              "       240., 254., 251., 234., 255., 330., 362., 310., 277., 323., 360.])"
            ]
          },
          "metadata": {},
          "execution_count": 27
        }
      ]
    },
    {
      "cell_type": "code",
      "source": [
        "y_pred_inv = y_pred_inv.flatten()\n",
        "y_pred_inv"
      ],
      "metadata": {
        "colab": {
          "base_uri": "https://localhost:8080/"
        },
        "id": "X4GInUagmJUO",
        "outputId": "43d28450-a88b-4543-e011-5aaa8db09336"
      },
      "execution_count": 28,
      "outputs": [
        {
          "output_type": "execute_result",
          "data": {
            "text/plain": [
              "array([357.24197, 352.78433, 378.7743 , 378.12616, 350.17395, 345.7444 ,\n",
              "       347.91785, 346.14807, 322.508  , 311.57944, 308.79874, 324.09982,\n",
              "       309.9462 , 305.37726, 306.6442 , 302.9626 , 292.4354 , 331.39264,\n",
              "       367.59778, 379.3812 , 352.67892, 345.3035 ], dtype=float32)"
            ]
          },
          "metadata": {},
          "execution_count": 28
        }
      ]
    },
    {
      "cell_type": "code",
      "source": [
        "plt.figure(figsize=(17,9))\n",
        "#plt.grid()\n",
        "#plt.plot(np.arange(0, len(y_train)), y_train_inv, color='green', label=\"History\")\n",
        "plt.plot(np.arange(len(y_train), len(y_train) + len(y_test)), y_test_inv, color='red', marker='.', label=\"Actual\")\n",
        "plt.plot(np.arange(len(y_train), len(y_train) + len(y_test)), y_pred_inv, color='green', label=\"Tuned CNN Prediction\")\n",
        "plt.ylabel('Crude Palm Oil Price')\n",
        "plt.xlabel('Time step')\n",
        "plt.legend()\n",
        "ax.grid()\n",
        "#plt.grid()\n",
        "#plt.show();"
      ],
      "metadata": {
        "colab": {
          "base_uri": "https://localhost:8080/",
          "height": 430
        },
        "id": "vHGNO1xAmJYI",
        "outputId": "f8d3d0b5-3835-485e-cff3-4c083fec17a8"
      },
      "execution_count": 29,
      "outputs": [
        {
          "output_type": "display_data",
          "data": {
            "text/plain": [
              "<Figure size 1224x648 with 1 Axes>"
            ],
            "image/png": "[encoded data removed]"
          },
          "metadata": {}
        }
      ]
    },
    {
      "cell_type": "markdown",
      "source": [
        "###Evaluate CNN Model Accuracy"
      ],
      "metadata": {
        "id": "1NImON2RmyWF"
      }
    },
    {
      "cell_type": "code",
      "source": [
        "MAE_cnn = mean_absolute_error(y_test_inv, y_pred_inv)\n",
        "print('MAE value of the CNN Model is:', MAE_cnn)\n",
        "\n",
        "MDA_cnn = mda(y_test_inv, y_pred_inv)\n",
        "print('MDA value of the CNN Model is:', MDA_cnn)\n",
        "\n",
        "MAPE_cnn = mean_absolute_percentage_error(y_test_inv, y_pred_inv)\n",
        "print('MAPE value of the CNN Model is:', MAPE_cnn)\n",
        "\n",
        "RMSE_cnn = mean_squared_error(y_test_inv,y_pred_inv, squared=False)\n",
        "print('RMSE value of the CNN Model is:', RMSE_cnn)\n",
        "\n",
        "MSE_cnn = mean_squared_error(y_test_inv,y_pred_inv)\n",
        "print('MSE value of the CNN Model is:', MSE_cnn)\n",
        "\n",
        "#EVS_cnn = explained_variance_score(y_test_inv, y_pred_inv)\n",
        "#print('EVS score of the CNN Model is:', EVS_cnn)"
      ],
      "metadata": {
        "colab": {
          "base_uri": "https://localhost:8080/"
        },
        "id": "fIc5ITw4m2QJ",
        "outputId": "c53d5736-fc52-431a-d5f1-e80aebc1e51c"
      },
      "execution_count": 30,
      "outputs": [
        {
          "output_type": "stream",
          "name": "stdout",
          "text": [
            "MAE value of the CNN Model is: 51.30840648304332\n",
            "MDA value of the CNN Model is: 0.3333333333333333\n",
            "MAPE value of the CNN Model is: 18.550981602434174\n",
            "RMSE value of the CNN Model is: 56.32798321013976\n",
            "MSE value of the CNN Model is: 3172.841692521787\n"
          ]
        }
      ]
    },
    {
      "cell_type": "markdown",
      "source": [
        "###Tuning CNN with Keras Tuner"
      ],
      "metadata": {
        "id": "fs98oM36Yw_r"
      }
    },
    {
      "cell_type": "markdown",
      "source": [
        "Define A Model-Building Class"
      ],
      "metadata": {
        "id": "UHH-Phuz1M-L"
      }
    },
    {
      "cell_type": "code",
      "source": [
        "class ANNhypermodel(HyperModel):\n",
        "#class CNNHyperModel(HyperModel):\n",
        "    \n",
        "    def __init__(self, input_shape):\n",
        "        self.input_shape= input_shape\n",
        "        \n",
        "    def build(self, hp):\n",
        "        model= keras.Sequential()\n",
        "        \n",
        "        # Tune the number of units in the first Dense layer\n",
        "        # Defining dense units as a close approx to the original neural network to perform a fair comparision!\n",
        "      \n",
        "        hp_units_1= hp.Int('units_1', min_value=128, max_value= 160, step=32)\n",
        "        hp_units_2= hp.Int('units_2', min_value=64, max_value= 128, step=32)\n",
        "        hp_units_3= hp.Int('units_3', min_value=32, max_value= 64, step=16)\n",
        "        hp_units_4= hp.Int('units_4', min_value=16, max_value= 32, step=8)\n",
        "\n",
        "        model.add(keras.layers.Dense(units=hp_units_1, activation='tanh', input_shape= self.input_shape))\n",
        "        model.add(keras.layers.Dense(units=hp_units_2, activation='tanh'))\n",
        "        model.add(keras.layers.Dense(units=hp_units_3, activation='tanh'))\n",
        "        model.add(keras.layers.Dense(units=hp_units_4, activation='tanh'))\n",
        "        model.add(keras.layers.Dense(1))\n",
        "        #Tune the dropout\n",
        "        model.add(\n",
        "            Dropout(\n",
        "                rate=hp.Float(\n",
        "                    'dropout',\n",
        "                    min_value=0.0,\n",
        "                    max_value=0.5,\n",
        "                    default=0.25,\n",
        "                    step=0.05\n",
        "                )\n",
        "            )\n",
        "        )\n",
        "        \n",
        "        # Tune the epoch for the optimizer\n",
        "\n",
        "        #batch_size = hp.Int('batch_size',8,16,24,32,40,48,56,64,72,80,88,96, step=8)\n",
        "        \n",
        "        optimizers = hp.Choice('optimizer',values=['rmsprop','adam','sgd','adadelta','adagrad'])\n",
        "\n",
        "        # Tune the batch size for the optimizer \n",
        "        hp_batch_size = hp.Int('batch_size', min_value = 8, max_value = 96, step = 8, default=8)\n",
        "        \n",
        "        # Tune the epoch for the optimizer\n",
        "        hp_epoch = hp.Int('epoch', min_value = 5, max_value = 100, step = 5, default=5)\n",
        "\n",
        "        # Tune the learning rate for the optimizer \n",
        "        hp_learning_rate=hp.Float('learning_rate', min_value=1e-4, max_value=1e-2, sampling='LOG', default= 0.0005)\n",
        "       # -------------------------------------------------------\n",
        "        model.compile(loss='mse',\n",
        "                    optimizer= keras.optimizers.Adam(learning_rate=hp_learning_rate),\n",
        "                    metrics= ['mae','mse']\n",
        "                     )\n",
        "\n",
        "        return model\n",
        "\n",
        "hypermodel= ANNhypermodel(input_shape = (X_test.shape[1], X_test.shape[2]))\n",
        "#hypermodel = CNNHyperModel(input_shape = (X_test.shape[1], X_test.shape[2]))"
      ],
      "metadata": {
        "id": "6sH3KVfoj7jq"
      },
      "execution_count": 32,
      "outputs": []
    },
    {
      "cell_type": "markdown",
      "source": [
        "###Build Random Search Tuner"
      ],
      "metadata": {
        "id": "Vw6sRopRkNq-"
      }
    },
    {
      "cell_type": "code",
      "source": [
        "tuner_rs = RandomSearch(\n",
        "            hypermodel,\n",
        "            objective='mse',\n",
        "            seed=42,\n",
        "            max_trials=10,\n",
        "            executions_per_trial=2, overwrite=True\n",
        "        )"
      ],
      "metadata": {
        "id": "oPWNkr_dj7ng"
      },
      "execution_count": 33,
      "outputs": []
    },
    {
      "cell_type": "markdown",
      "source": [
        "###Run Random Search"
      ],
      "metadata": {
        "id": "UH8vIpuOkl0V"
      }
    },
    {
      "cell_type": "code",
      "source": [
        "tuner_rs.search(X_train, y_train, epochs=16, validation_split=0.2, verbose=0)"
      ],
      "metadata": {
        "id": "XC6nlTF4j7rN"
      },
      "execution_count": 34,
      "outputs": []
    },
    {
      "cell_type": "markdown",
      "source": [
        "###Evaluate Random Search"
      ],
      "metadata": {
        "id": "ZWc0whe7l-_0"
      }
    },
    {
      "cell_type": "code",
      "source": [
        "best_model = tuner_rs.get_best_models(num_models=1)[0]\n",
        "mse_rs = best_model.evaluate(X_test, y_test)[1]"
      ],
      "metadata": {
        "colab": {
          "base_uri": "https://localhost:8080/"
        },
        "id": "V0u8mTuTj7wl",
        "outputId": "2fa5d477-1195-4b77-f07d-76e98f8288a1"
      },
      "execution_count": 35,
      "outputs": [
        {
          "output_type": "stream",
          "name": "stdout",
          "text": [
            "1/1 [==============================] - 0s 477ms/step - loss: 0.2936 - mae: 0.5288 - mse: 0.2936\n"
          ]
        }
      ]
    },
    {
      "cell_type": "markdown",
      "source": [
        "####Random Search MSE = 0.2369"
      ],
      "metadata": {
        "id": "9jgCzQ74mQjM"
      }
    },
    {
      "cell_type": "code",
      "source": [
        "best_params = tuner_rs.get_best_hyperparameters()\n",
        "\n",
        "best_params[0].values"
      ],
      "metadata": {
        "colab": {
          "base_uri": "https://localhost:8080/"
        },
        "id": "jJ5NIqxpj72V",
        "outputId": "4fe35f0e-21b7-4a73-eb95-0204cb6b6992"
      },
      "execution_count": 36,
      "outputs": [
        {
          "output_type": "execute_result",
          "data": {
            "text/plain": [
              "{'units_1': 128,\n",
              " 'units_2': 96,\n",
              " 'units_3': 32,\n",
              " 'units_4': 16,\n",
              " 'dropout': 0.0,\n",
              " 'optimizer': 'sgd',\n",
              " 'batch_size': 88,\n",
              " 'epoch': 55,\n",
              " 'learning_rate': 0.0033137745378583987}"
            ]
          },
          "metadata": {},
          "execution_count": 36
        }
      ]
    },
    {
      "cell_type": "markdown",
      "source": [
        "###Build Bayesian Optimization"
      ],
      "metadata": {
        "id": "AxWQfBYpnLjI"
      }
    },
    {
      "cell_type": "code",
      "source": [
        "tuner_bo = BayesianOptimization(\n",
        "            hypermodel,\n",
        "            objective='val_mse',\n",
        "            max_trials=10,\n",
        "            seed=42,\n",
        "            executions_per_trial=2,\n",
        "            directory='bo'\n",
        "        )"
      ],
      "metadata": {
        "id": "uixpiCLPmsaZ"
      },
      "execution_count": 37,
      "outputs": []
    },
    {
      "cell_type": "markdown",
      "source": [
        "###Run Bayesian Optimization"
      ],
      "metadata": {
        "id": "_lTWVuDcoYU9"
      }
    },
    {
      "cell_type": "code",
      "source": [
        "tuner_bo.search(X_train, y_train, epochs=10, validation_split=0.2, verbose=0)\n",
        "\n",
        "best_model = tuner_bo.get_best_models(num_models=1)[0]\n",
        "mse_bo = best_model.evaluate(X_test, y_test)[1]"
      ],
      "metadata": {
        "id": "L6qZa1Kvmsgn",
        "outputId": "bce6d4b8-1fd8-49c4-af69-25a47462289f",
        "colab": {
          "base_uri": "https://localhost:8080/"
        }
      },
      "execution_count": 38,
      "outputs": [
        {
          "output_type": "stream",
          "name": "stdout",
          "text": [
            "1/1 [==============================] - 0s 448ms/step - loss: 0.3562 - mae: 0.5867 - mse: 0.3562\n"
          ]
        }
      ]
    },
    {
      "cell_type": "markdown",
      "source": [
        "###Bayesian Optimization Search MSE = 0.3562"
      ],
      "metadata": {
        "id": "KiNYUG96ZUIz"
      }
    },
    {
      "cell_type": "markdown",
      "source": [
        "###Evaluate Bayesian Optimization"
      ],
      "metadata": {
        "id": "Ppb8qezeoe7c"
      }
    },
    {
      "cell_type": "code",
      "source": [
        "best_params = tuner_bo.get_best_hyperparameters()\n",
        "\n",
        "best_params[0].values"
      ],
      "metadata": {
        "colab": {
          "base_uri": "https://localhost:8080/"
        },
        "id": "0bDWDTrOmsm1",
        "outputId": "ef2df5c4-da5d-4e15-c075-ea192378bd0e"
      },
      "execution_count": 39,
      "outputs": [
        {
          "output_type": "execute_result",
          "data": {
            "text/plain": [
              "{'units_1': 128,\n",
              " 'units_2': 96,\n",
              " 'units_3': 32,\n",
              " 'units_4': 16,\n",
              " 'dropout': 0.0,\n",
              " 'optimizer': 'sgd',\n",
              " 'batch_size': 88,\n",
              " 'epoch': 55,\n",
              " 'learning_rate': 0.0033137745378583987}"
            ]
          },
          "metadata": {},
          "execution_count": 39
        }
      ]
    },
    {
      "cell_type": "code",
      "source": [
        "best_model = tuner_bo.get_best_models(num_models=1)[0]\n",
        "mse_bo = best_model.evaluate(X_test, y_test)[1]"
      ],
      "metadata": {
        "colab": {
          "base_uri": "https://localhost:8080/"
        },
        "id": "odraTQ8KbUw9",
        "outputId": "f97e65b5-291a-49d8-c16f-ed64db6bdbba"
      },
      "execution_count": 40,
      "outputs": [
        {
          "output_type": "stream",
          "name": "stderr",
          "text": [
            "WARNING:tensorflow:Detecting that an object or model or tf.train.Checkpoint is being deleted with unrestored values. See the following logs for the specific values in question. To silence these warnings, use `status.expect_partial()`. See https://www.tensorflow.org/api_docs/python/tf/train/Checkpoint#restorefor details about the status object returned by the restore function.\n",
            "WARNING:tensorflow:Value in checkpoint could not be found in the restored object: (root).optimizer.iter\n",
            "WARNING:tensorflow:Value in checkpoint could not be found in the restored object: (root).optimizer.beta_1\n",
            "WARNING:tensorflow:Value in checkpoint could not be found in the restored object: (root).optimizer.beta_2\n",
            "WARNING:tensorflow:Value in checkpoint could not be found in the restored object: (root).optimizer.decay\n",
            "WARNING:tensorflow:Value in checkpoint could not be found in the restored object: (root).optimizer.learning_rate\n"
          ]
        },
        {
          "output_type": "stream",
          "name": "stdout",
          "text": [
            "1/1 [==============================] - 1s 653ms/step - loss: 0.3562 - mae: 0.5867 - mse: 0.3562\n"
          ]
        }
      ]
    },
    {
      "cell_type": "markdown",
      "source": [
        "###Build HYPERBAND optimization"
      ],
      "metadata": {
        "id": "9rYL672xrXtU"
      }
    },
    {
      "cell_type": "code",
      "source": [
        "MAX_TRIALS = 20\n",
        "tuner= RandomSearch(hypermodel,\n",
        "               objective= 'val_mse',\n",
        "               max_trials= MAX_TRIALS,\n",
        "               executions_per_trial= 2,\n",
        "               directory= 'random_search',\n",
        "               project_name='randomsearch',\n",
        "               overwrite=True)"
      ],
      "metadata": {
        "id": "CqxbIHGxmstL"
      },
      "execution_count": 41,
      "outputs": []
    },
    {
      "cell_type": "code",
      "source": [
        "HYPERBAND_MAX_EPOCHS = 150\n",
        "EXECUTION_PER_TRIAL = 2\n",
        "\n",
        "tuner= Hyperband(hypermodel,\n",
        "                   objective= 'val_mse',\n",
        "                   max_epochs=HYPERBAND_MAX_EPOCHS, #Set 100+ for good results\n",
        "                   executions_per_trial=EXECUTION_PER_TRIAL,\n",
        "                   directory= 'hyperband',\n",
        "                   project_name='hyper',\n",
        "                   overwrite=True)\n",
        "\n",
        "# tuner.search_space_summary()"
      ],
      "metadata": {
        "id": "eaGs4DAFosPl"
      },
      "execution_count": 42,
      "outputs": []
    },
    {
      "cell_type": "code",
      "source": [
        "print('searching for the best params!')\n",
        "\n",
        "t0 = time()\n",
        "tuner.search(x= X_train,\n",
        "             y= y_train,\n",
        "             epochs=100,\n",
        "             batch_size= 64,\n",
        "             validation_data= (X_test, y_test),\n",
        "             verbose=0,\n",
        "             callbacks= []\n",
        "            )\n",
        "print(time()- t0,\" secs\")\n",
        "\n",
        "# Retreive the optimal hyperparameters\n",
        "best_hps= tuner.get_best_hyperparameters(num_trials=1)[0]\n",
        "\n",
        "# Retrieve the best model\n",
        "best_model = tuner.get_best_models(num_models=1)[0]"
      ],
      "metadata": {
        "colab": {
          "base_uri": "https://localhost:8080/"
        },
        "id": "NXf_LR3mosWn",
        "outputId": "3c363502-3891-424d-b878-b701260f131e"
      },
      "execution_count": 43,
      "outputs": [
        {
          "output_type": "stream",
          "name": "stdout",
          "text": [
            "searching for the best params!\n"
          ]
        },
        {
          "output_type": "stream",
          "name": "stderr",
          "text": [
            "WARNING:tensorflow:Detecting that an object or model or tf.train.Checkpoint is being deleted with unrestored values. See the following logs for the specific values in question. To silence these warnings, use `status.expect_partial()`. See https://www.tensorflow.org/api_docs/python/tf/train/Checkpoint#restorefor details about the status object returned by the restore function.\n",
            "WARNING:tensorflow:Value in checkpoint could not be found in the restored object: (root).optimizer.iter\n",
            "WARNING:tensorflow:Value in checkpoint could not be found in the restored object: (root).optimizer.beta_1\n",
            "WARNING:tensorflow:Value in checkpoint could not be found in the restored object: (root).optimizer.beta_2\n",
            "WARNING:tensorflow:Value in checkpoint could not be found in the restored object: (root).optimizer.decay\n",
            "WARNING:tensorflow:Value in checkpoint could not be found in the restored object: (root).optimizer.learning_rate\n",
            "WARNING:tensorflow:5 out of the last 15 calls to <function Model.make_test_function.<locals>.test_function at 0x7fa82cf56040> triggered tf.function retracing. Tracing is expensive and the excessive number of tracings could be due to (1) creating @tf.function repeatedly in a loop, (2) passing tensors with different shapes, (3) passing Python objects instead of tensors. For (1), please define your @tf.function outside of the loop. For (2), @tf.function has reduce_retracing=True option that can avoid unnecessary retracing. For (3), please refer to https://www.tensorflow.org/guide/function#controlling_retracing and https://www.tensorflow.org/api_docs/python/tf/function for  more details.\n",
            "WARNING:tensorflow:6 out of the last 17 calls to <function Model.make_test_function.<locals>.test_function at 0x7fa82ccd3dc0> triggered tf.function retracing. Tracing is expensive and the excessive number of tracings could be due to (1) creating @tf.function repeatedly in a loop, (2) passing tensors with different shapes, (3) passing Python objects instead of tensors. For (1), please define your @tf.function outside of the loop. For (2), @tf.function has reduce_retracing=True option that can avoid unnecessary retracing. For (3), please refer to https://www.tensorflow.org/guide/function#controlling_retracing and https://www.tensorflow.org/api_docs/python/tf/function for  more details.\n"
          ]
        },
        {
          "output_type": "stream",
          "name": "stdout",
          "text": [
            "1194.9775717258453  secs\n"
          ]
        }
      ]
    },
    {
      "cell_type": "code",
      "source": [
        "print(f\"\"\"\n",
        "The hyperparameter search is complete. The optimal number of units in the \n",
        "first densely-connected layer is {best_hps.get('units_1')},\n",
        "second layer is {best_hps.get('units_2')} \n",
        "third layer is {best_hps.get('units_3')} \n",
        "fourth layer is {best_hps.get('units_4')}\n",
        "drop out is {best_hps.get('dropout')}\n",
        "batch_size is {best_hps.get('batch_size')}\n",
        "epoch is {best_hps.get('epoch')}\n",
        "optimizer is {best_hps.get('optimizer')}\n",
        "\n",
        "#learning rate is {best_hps.get('learning_rate')}                                        \n",
        "\n",
        "and the optimal learning rate for the optimizer\n",
        "is {best_hps.get('learning_rate')}.\n",
        "\"\"\")\n",
        "\n",
        "# Evaluate the best model.\n",
        "print(best_model.metrics_names)\n",
        "loss, mae, mse = best_model.evaluate(X_test, y_test)\n",
        "print(f'loss:{loss} mae: {mae} mse: {mse}')"
      ],
      "metadata": {
        "colab": {
          "base_uri": "https://localhost:8080/"
        },
        "id": "UcOC-csfrvmH",
        "outputId": "1902c328-be70-4aaf-b7e3-04fd40ac81e3"
      },
      "execution_count": 45,
      "outputs": [
        {
          "output_type": "stream",
          "name": "stdout",
          "text": [
            "\n",
            "The hyperparameter search is complete. The optimal number of units in the \n",
            "first densely-connected layer is 160,\n",
            "second layer is 64 \n",
            "third layer is 64 \n",
            "fourth layer is 24\n",
            "drop out is 0.30000000000000004\n",
            "batch_size is 40\n",
            "epoch is 45\n",
            "optimizer is rmsprop\n",
            "\n",
            "#learning rate is 0.006526328879826285                                        \n",
            "\n",
            "and the optimal learning rate for the optimizer\n",
            "is 0.006526328879826285.\n",
            "\n",
            "[]\n",
            "1/1 [==============================] - 1s 626ms/step - loss: 0.0114 - mae: 0.0948 - mse: 0.0114\n",
            "loss:0.01140082161873579 mae: 0.09483126550912857 mse: 0.01140082161873579\n"
          ]
        }
      ]
    },
    {
      "cell_type": "code",
      "source": [
        "# Get the optimal hyperparameters\n",
        "best_hps = tuner.get_best_hyperparameters(num_trials = 1)[0]\n",
        "print(best_hps.values)"
      ],
      "metadata": {
        "id": "q0e8tSIulgh_",
        "colab": {
          "base_uri": "https://localhost:8080/"
        },
        "outputId": "90c4be46-d4bc-44fc-a1a8-d0d5c300e0eb"
      },
      "execution_count": null,
      "outputs": [
        {
          "output_type": "stream",
          "name": "stdout",
          "text": [
            "{'units_1': 128, 'units_2': 64, 'units_3': 64, 'units_4': 24, 'dropout': 0.1, 'optimizer': 'adagrad', 'batch_size': 16, 'epoch': 55, 'learning_rate': 0.006820026103064649, 'tuner/epochs': 6, 'tuner/initial_epoch': 0, 'tuner/bracket': 3, 'tuner/round': 0}\n"
          ]
        }
      ]
    },
    {
      "cell_type": "markdown",
      "source": [
        "###Apply the trained parameters to the CNN"
      ],
      "metadata": {
        "id": "oggNSpcVpofH"
      }
    },
    {
      "cell_type": "code",
      "source": [
        "TUcnn_model = tf.keras.Sequential()\n",
        "TUcnn_model.add(tf.keras.layers.Conv1D(filters=160, kernel_size=2, activation='tanh', input_shape=(X_test.shape[1], X_test.shape[2])))\n",
        "TUcnn_model.add(tf.keras.layers.Dense(64, activation='tanh'))\n",
        "TUcnn_model.add(layers.Dropout(0.3))\n",
        "TUcnn_model.add(tf.keras.layers.MaxPooling1D(pool_size=2))\n",
        "TUcnn_model.add(tf.keras.layers.Flatten())\n",
        "\n",
        "TUcnn_model.add(tf.keras.layers.Dense(64, activation='tanh'))\n",
        "TUcnn_model.add(layers.Dropout(0.3))\n",
        "TUcnn_model.add(tf.keras.layers.Dense(24, activation='tanh'))\n",
        "TUcnn_model.add(layers.Dropout(0.3))\n",
        "\n",
        "#Output layer of model\n",
        "TUcnn_model.add(tf.keras.layers.Dense(1, activation='linear'))"
      ],
      "metadata": {
        "id": "exKbi-BBYxAt"
      },
      "execution_count": 85,
      "outputs": []
    },
    {
      "cell_type": "code",
      "source": [
        "TUcnn_model.compile(loss = 'mse', optimizer= tf.keras.optimizers.RMSprop(learning_rate=0.0065), metrics= ['mae', 'mse'])\n",
        "#TUcnn_model.compile(optimizer='rmsprop',loss='mse',metrics=['mse']),\n",
        "history = TUcnn_model.fit(X_train, y_train, epochs=45, batch_size=40,validation_split=0.2,shuffle=False) # 80/160"
      ],
      "metadata": {
        "colab": {
          "base_uri": "https://localhost:8080/"
        },
        "id": "2OVvMjqyY2kW",
        "outputId": "b7d09b29-34a7-4552-dfdc-f4128035c8ab"
      },
      "execution_count": 98,
      "outputs": [
        {
          "output_type": "stream",
          "name": "stderr",
          "text": [
            "WARNING:tensorflow:Detecting that an object or model or tf.train.Checkpoint is being deleted with unrestored values. See the following logs for the specific values in question. To silence these warnings, use `status.expect_partial()`. See https://www.tensorflow.org/api_docs/python/tf/train/Checkpoint#restorefor details about the status object returned by the restore function.\n",
            "WARNING:tensorflow:Value in checkpoint could not be found in the restored object: (root).optimizer.iter\n",
            "WARNING:tensorflow:Value in checkpoint could not be found in the restored object: (root).optimizer.beta_1\n",
            "WARNING:tensorflow:Value in checkpoint could not be found in the restored object: (root).optimizer.beta_2\n",
            "WARNING:tensorflow:Value in checkpoint could not be found in the restored object: (root).optimizer.decay\n",
            "WARNING:tensorflow:Value in checkpoint could not be found in the restored object: (root).optimizer.learning_rate\n"
          ]
        },
        {
          "output_type": "stream",
          "name": "stdout",
          "text": [
            "Epoch 1/45\n",
            "2/2 [==============================] - 1s 245ms/step - loss: 0.2944 - mae: 0.3869 - mse: 0.2944 - val_loss: 4.5523 - val_mae: 2.1010 - val_mse: 4.5523\n",
            "Epoch 2/45\n",
            "2/2 [==============================] - 0s 27ms/step - loss: 3.5020 - mae: 1.7914 - mse: 3.5020 - val_loss: 0.2583 - val_mae: 0.4249 - val_mse: 0.2583\n",
            "Epoch 3/45\n",
            "2/2 [==============================] - 0s 33ms/step - loss: 0.2831 - mae: 0.4503 - mse: 0.2831 - val_loss: 0.1647 - val_mae: 0.3125 - val_mse: 0.1647\n",
            "Epoch 4/45\n",
            "2/2 [==============================] - 0s 27ms/step - loss: 0.1447 - mae: 0.3141 - mse: 0.1447 - val_loss: 0.0642 - val_mae: 0.2303 - val_mse: 0.0642\n",
            "Epoch 5/45\n",
            "2/2 [==============================] - 0s 45ms/step - loss: 0.1927 - mae: 0.3315 - mse: 0.1927 - val_loss: 0.0801 - val_mae: 0.2439 - val_mse: 0.0801\n",
            "Epoch 6/45\n",
            "2/2 [==============================] - 0s 29ms/step - loss: 0.1116 - mae: 0.2748 - mse: 0.1116 - val_loss: 0.0654 - val_mae: 0.2338 - val_mse: 0.0654\n",
            "Epoch 7/45\n",
            "2/2 [==============================] - 0s 26ms/step - loss: 0.1266 - mae: 0.2881 - mse: 0.1266 - val_loss: 0.1185 - val_mae: 0.2861 - val_mse: 0.1185\n",
            "Epoch 8/45\n",
            "2/2 [==============================] - 0s 27ms/step - loss: 0.0941 - mae: 0.2387 - mse: 0.0941 - val_loss: 0.0468 - val_mae: 0.1828 - val_mse: 0.0468\n",
            "Epoch 9/45\n",
            "2/2 [==============================] - 0s 29ms/step - loss: 0.0693 - mae: 0.2043 - mse: 0.0693 - val_loss: 0.0352 - val_mae: 0.1548 - val_mse: 0.0352\n",
            "Epoch 10/45\n",
            "2/2 [==============================] - 0s 25ms/step - loss: 0.0580 - mae: 0.1752 - mse: 0.0580 - val_loss: 0.0360 - val_mae: 0.1560 - val_mse: 0.0360\n",
            "Epoch 11/45\n",
            "2/2 [==============================] - 0s 27ms/step - loss: 0.0899 - mae: 0.2143 - mse: 0.0899 - val_loss: 0.1776 - val_mae: 0.3513 - val_mse: 0.1776\n",
            "Epoch 12/45\n",
            "2/2 [==============================] - 0s 26ms/step - loss: 0.0811 - mae: 0.1972 - mse: 0.0811 - val_loss: 0.0228 - val_mae: 0.1305 - val_mse: 0.0228\n",
            "Epoch 13/45\n",
            "2/2 [==============================] - 0s 44ms/step - loss: 0.0623 - mae: 0.1979 - mse: 0.0623 - val_loss: 0.0132 - val_mae: 0.0946 - val_mse: 0.0132\n",
            "Epoch 14/45\n",
            "2/2 [==============================] - 0s 27ms/step - loss: 0.0386 - mae: 0.1563 - mse: 0.0386 - val_loss: 0.0143 - val_mae: 0.1013 - val_mse: 0.0143\n",
            "Epoch 15/45\n",
            "2/2 [==============================] - 0s 27ms/step - loss: 0.0270 - mae: 0.1205 - mse: 0.0270 - val_loss: 0.0508 - val_mae: 0.1884 - val_mse: 0.0508\n",
            "Epoch 16/45\n",
            "2/2 [==============================] - 0s 29ms/step - loss: 0.0411 - mae: 0.1526 - mse: 0.0411 - val_loss: 0.0177 - val_mae: 0.1121 - val_mse: 0.0177\n",
            "Epoch 17/45\n",
            "2/2 [==============================] - 0s 30ms/step - loss: 0.0287 - mae: 0.1340 - mse: 0.0287 - val_loss: 0.0574 - val_mae: 0.2083 - val_mse: 0.0574\n",
            "Epoch 18/45\n",
            "2/2 [==============================] - 0s 41ms/step - loss: 0.0882 - mae: 0.2441 - mse: 0.0882 - val_loss: 0.3013 - val_mae: 0.4556 - val_mse: 0.3013\n",
            "Epoch 19/45\n",
            "2/2 [==============================] - 0s 27ms/step - loss: 0.1147 - mae: 0.2507 - mse: 0.1147 - val_loss: 0.0558 - val_mae: 0.1980 - val_mse: 0.0558\n",
            "Epoch 20/45\n",
            "2/2 [==============================] - 0s 27ms/step - loss: 0.0844 - mae: 0.2475 - mse: 0.0844 - val_loss: 0.0964 - val_mae: 0.2608 - val_mse: 0.0964\n",
            "Epoch 21/45\n",
            "2/2 [==============================] - 0s 32ms/step - loss: 0.0451 - mae: 0.1692 - mse: 0.0451 - val_loss: 0.0224 - val_mae: 0.1310 - val_mse: 0.0224\n",
            "Epoch 22/45\n",
            "2/2 [==============================] - 0s 30ms/step - loss: 0.0679 - mae: 0.1906 - mse: 0.0679 - val_loss: 0.2801 - val_mae: 0.4590 - val_mse: 0.2801\n",
            "Epoch 23/45\n",
            "2/2 [==============================] - 0s 29ms/step - loss: 0.1217 - mae: 0.2796 - mse: 0.1217 - val_loss: 0.0854 - val_mae: 0.2529 - val_mse: 0.0854\n",
            "Epoch 24/45\n",
            "2/2 [==============================] - 0s 35ms/step - loss: 0.1087 - mae: 0.2847 - mse: 0.1087 - val_loss: 0.0810 - val_mae: 0.2267 - val_mse: 0.0810\n",
            "Epoch 25/45\n",
            "2/2 [==============================] - 0s 28ms/step - loss: 0.0519 - mae: 0.1839 - mse: 0.0519 - val_loss: 0.1146 - val_mae: 0.2997 - val_mse: 0.1146\n",
            "Epoch 26/45\n",
            "2/2 [==============================] - 0s 28ms/step - loss: 0.0358 - mae: 0.1559 - mse: 0.0358 - val_loss: 0.0935 - val_mae: 0.2556 - val_mse: 0.0935\n",
            "Epoch 27/45\n",
            "2/2 [==============================] - 0s 33ms/step - loss: 0.0469 - mae: 0.1630 - mse: 0.0469 - val_loss: 0.0963 - val_mae: 0.2631 - val_mse: 0.0963\n",
            "Epoch 28/45\n",
            "2/2 [==============================] - 0s 32ms/step - loss: 0.0432 - mae: 0.1592 - mse: 0.0432 - val_loss: 0.0735 - val_mae: 0.2298 - val_mse: 0.0735\n",
            "Epoch 29/45\n",
            "2/2 [==============================] - 0s 30ms/step - loss: 0.0570 - mae: 0.1968 - mse: 0.0570 - val_loss: 0.1498 - val_mae: 0.3610 - val_mse: 0.1498\n",
            "Epoch 30/45\n",
            "2/2 [==============================] - 0s 34ms/step - loss: 0.0371 - mae: 0.1559 - mse: 0.0371 - val_loss: 0.0790 - val_mae: 0.2459 - val_mse: 0.0790\n",
            "Epoch 31/45\n",
            "2/2 [==============================] - 0s 28ms/step - loss: 0.1014 - mae: 0.2359 - mse: 0.1014 - val_loss: 0.2288 - val_mae: 0.4090 - val_mse: 0.2288\n",
            "Epoch 32/45\n",
            "2/2 [==============================] - 0s 28ms/step - loss: 0.1060 - mae: 0.2592 - mse: 0.1060 - val_loss: 0.1836 - val_mae: 0.3350 - val_mse: 0.1836\n",
            "Epoch 33/45\n",
            "2/2 [==============================] - 0s 29ms/step - loss: 0.2216 - mae: 0.4316 - mse: 0.2216 - val_loss: 0.0670 - val_mae: 0.2243 - val_mse: 0.0670\n",
            "Epoch 34/45\n",
            "2/2 [==============================] - 0s 30ms/step - loss: 0.0405 - mae: 0.1461 - mse: 0.0405 - val_loss: 0.0371 - val_mae: 0.1603 - val_mse: 0.0371\n",
            "Epoch 35/45\n",
            "2/2 [==============================] - 0s 28ms/step - loss: 0.0425 - mae: 0.1512 - mse: 0.0425 - val_loss: 0.1445 - val_mae: 0.3300 - val_mse: 0.1445\n",
            "Epoch 36/45\n",
            "2/2 [==============================] - 0s 29ms/step - loss: 0.0671 - mae: 0.1967 - mse: 0.0671 - val_loss: 0.0672 - val_mae: 0.2192 - val_mse: 0.0672\n",
            "Epoch 37/45\n",
            "2/2 [==============================] - 0s 29ms/step - loss: 0.0302 - mae: 0.1420 - mse: 0.0302 - val_loss: 0.0165 - val_mae: 0.0982 - val_mse: 0.0165\n",
            "Epoch 38/45\n",
            "2/2 [==============================] - 0s 28ms/step - loss: 0.0356 - mae: 0.1480 - mse: 0.0356 - val_loss: 0.1171 - val_mae: 0.2870 - val_mse: 0.1171\n",
            "Epoch 39/45\n",
            "2/2 [==============================] - 0s 29ms/step - loss: 0.0502 - mae: 0.1697 - mse: 0.0502 - val_loss: 0.0314 - val_mae: 0.1525 - val_mse: 0.0314\n",
            "Epoch 40/45\n",
            "2/2 [==============================] - 0s 28ms/step - loss: 0.0232 - mae: 0.1259 - mse: 0.0232 - val_loss: 0.0518 - val_mae: 0.1928 - val_mse: 0.0518\n",
            "Epoch 41/45\n",
            "2/2 [==============================] - 0s 39ms/step - loss: 0.0287 - mae: 0.1306 - mse: 0.0287 - val_loss: 0.0365 - val_mae: 0.1567 - val_mse: 0.0365\n",
            "Epoch 42/45\n",
            "2/2 [==============================] - 0s 27ms/step - loss: 0.0376 - mae: 0.1543 - mse: 0.0376 - val_loss: 0.0392 - val_mae: 0.1661 - val_mse: 0.0392\n",
            "Epoch 43/45\n",
            "2/2 [==============================] - 0s 30ms/step - loss: 0.0316 - mae: 0.1417 - mse: 0.0316 - val_loss: 0.1528 - val_mae: 0.3305 - val_mse: 0.1528\n",
            "Epoch 44/45\n",
            "2/2 [==============================] - 0s 39ms/step - loss: 0.0513 - mae: 0.1684 - mse: 0.0513 - val_loss: 0.0371 - val_mae: 0.1528 - val_mse: 0.0371\n",
            "Epoch 45/45\n",
            "2/2 [==============================] - 0s 28ms/step - loss: 0.0289 - mae: 0.1350 - mse: 0.0289 - val_loss: 0.0575 - val_mae: 0.2021 - val_mse: 0.0575\n"
          ]
        }
      ]
    },
    {
      "cell_type": "markdown",
      "source": [
        "Plot Model Loss"
      ],
      "metadata": {
        "id": "4KLve2-WilBF"
      }
    },
    {
      "cell_type": "code",
      "source": [
        "loss = history.history['loss']\n",
        "val_loss = history.history['val_loss']\n",
        "\n",
        "epochs=range(len(loss)) \n",
        "\n",
        "\n",
        "#------------------------------------------------\n",
        "# Plot training and validation loss per epoch\n",
        "#------------------------------------------------\n",
        "plt.plot(epochs, loss, 'r',label='loss')\n",
        "plt.plot(epochs,val_loss,'blue',label='val loss')\n",
        "plt.title('Training loss & Val Loss by Epochs')\n",
        "plt.xlabel(\"Epochs\")\n",
        "plt.ylabel(\"Loss\")\n",
        "plt.legend()\n",
        "\n",
        "plt.figure()"
      ],
      "metadata": {
        "colab": {
          "base_uri": "https://localhost:8080/",
          "height": 419
        },
        "id": "DXBeY_MGZSMP",
        "outputId": "7f19a953-a9ab-4520-a968-87406b2bf159"
      },
      "execution_count": 99,
      "outputs": [
        {
          "output_type": "execute_result",
          "data": {
            "text/plain": [
              "<Figure size 720x360 with 0 Axes>"
            ]
          },
          "metadata": {},
          "execution_count": 99
        },
        {
          "output_type": "display_data",
          "data": {
            "text/plain": [
              "<Figure size 720x360 with 1 Axes>"
            ],
            "image/png": "[encoded data removed]"
          },
          "metadata": {}
        },
        {
          "output_type": "display_data",
          "data": {
            "text/plain": [
              "<Figure size 720x360 with 0 Axes>"
            ]
          },
          "metadata": {}
        }
      ]
    },
    {
      "cell_type": "code",
      "source": [
        "y_predTU = TUcnn_model.predict(X_test)\n",
        "y_predTU"
      ],
      "metadata": {
        "colab": {
          "base_uri": "https://localhost:8080/"
        },
        "id": "lHiuk7B6iQVK",
        "outputId": "d0b48e90-48c2-4f70-9d96-88ca6361e5d5"
      },
      "execution_count": 100,
      "outputs": [
        {
          "output_type": "stream",
          "name": "stdout",
          "text": [
            "1/1 [==============================] - 0s 192ms/step\n"
          ]
        },
        {
          "output_type": "execute_result",
          "data": {
            "text/plain": [
              "array([[ 0.06406382],\n",
              "       [ 0.05813763],\n",
              "       [ 0.10863137],\n",
              "       [ 0.13525648],\n",
              "       [ 0.07245117],\n",
              "       [ 0.03441322],\n",
              "       [ 0.02317252],\n",
              "       [ 0.00454845],\n",
              "       [-0.04655883],\n",
              "       [-0.10154656],\n",
              "       [-0.10568494],\n",
              "       [-0.09086502],\n",
              "       [-0.10474554],\n",
              "       [-0.11264448],\n",
              "       [-0.10622633],\n",
              "       [-0.12801072],\n",
              "       [-0.15956792],\n",
              "       [-0.08548753],\n",
              "       [ 0.06729075],\n",
              "       [ 0.13012318],\n",
              "       [ 0.05935032],\n",
              "       [ 0.02597594]], dtype=float32)"
            ]
          },
          "metadata": {},
          "execution_count": 100
        }
      ]
    },
    {
      "cell_type": "code",
      "source": [
        "y_predTU.reshape(1,-1)"
      ],
      "metadata": {
        "colab": {
          "base_uri": "https://localhost:8080/"
        },
        "id": "JbqyY5OriQYh",
        "outputId": "3ea914a7-a5eb-4b4d-ca92-f8d141f3d820"
      },
      "execution_count": 101,
      "outputs": [
        {
          "output_type": "execute_result",
          "data": {
            "text/plain": [
              "array([[ 0.06406382,  0.05813763,  0.10863137,  0.13525648,  0.07245117,\n",
              "         0.03441322,  0.02317252,  0.00454845, -0.04655883, -0.10154656,\n",
              "        -0.10568494, -0.09086502, -0.10474554, -0.11264448, -0.10622633,\n",
              "        -0.12801072, -0.15956792, -0.08548753,  0.06729075,  0.13012318,\n",
              "         0.05935032,  0.02597594]], dtype=float32)"
            ]
          },
          "metadata": {},
          "execution_count": 101
        }
      ]
    },
    {
      "cell_type": "markdown",
      "source": [
        "###Invert Transformed Tuned Data"
      ],
      "metadata": {
        "id": "XXPkM7CFsB5U"
      }
    },
    {
      "cell_type": "code",
      "source": [
        "y_train_inv = cpo_pri_transformer.inverse_transform(y_train.reshape(1, -1))\n",
        "y_test_inv = cpo_pri_transformer.inverse_transform(y_test.reshape(1, -1))\n",
        "y_pred_inv = cpo_pri_transformer.inverse_transform(y_predTU.reshape(1,-1))\n",
        "print(y_train_inv)\n",
        "print(y_test_inv)\n",
        "print(y_pred_inv)"
      ],
      "metadata": {
        "colab": {
          "base_uri": "https://localhost:8080/"
        },
        "id": "gZ8inWeYy64m",
        "outputId": "d1d12153-d0ce-4f9e-ab64-aad6aabbe617"
      },
      "execution_count": 102,
      "outputs": [
        {
          "output_type": "stream",
          "name": "stdout",
          "text": [
            "[[376. 383. 382. 396. 402. 390. 404. 382. 382. 391. 396. 413. 401. 410.\n",
            "  425. 408. 392. 371. 356. 362. 356. 352. 333. 357. 411. 404. 387. 395.\n",
            "  434. 488. 508. 494. 575. 614. 616. 707. 719. 655. 661. 687. 625. 611.\n",
            "  631. 655. 616. 586. 615. 607. 590. 535. 518. 519. 562. 552. 508. 476.\n",
            "  513. 545. 532. 550. 561. 567. 580. 559. 562. 553. 533. 498. 504. 525.\n",
            "  547. 556. 566. 621. 659. 671. 688. 705. 633. 661. 674. 703. 694. 681.\n",
            "  663. 632. 561. 497. 509. 475. 392. 319. 354. 388. 381. 370.]]\n",
            "[[349. 372. 324. 315. 312. 306. 288. 255. 257. 265. 254. 240. 254. 251.\n",
            "  234. 255. 330. 362. 310. 277. 323. 360.]]\n",
            "[[344.62552 342.25504 362.45255 373.1026  347.98047 332.7653  328.269\n",
            "  320.81937 300.37646 278.38138 276.72604 282.654   277.10178 273.9422\n",
            "  276.50946 267.79572 255.17282 284.805   345.9163  371.0493  342.74014\n",
            "  329.39038]]\n"
          ]
        }
      ]
    },
    {
      "cell_type": "code",
      "source": [
        "y_train_inv = y_train_inv.flatten()\n",
        "y_train_inv"
      ],
      "metadata": {
        "colab": {
          "base_uri": "https://localhost:8080/"
        },
        "id": "2g9TLmgHy7Hw",
        "outputId": "1032ee4d-9a19-4180-c736-abf0918ff805"
      },
      "execution_count": 103,
      "outputs": [
        {
          "output_type": "execute_result",
          "data": {
            "text/plain": [
              "array([376., 383., 382., 396., 402., 390., 404., 382., 382., 391., 396.,\n",
              "       413., 401., 410., 425., 408., 392., 371., 356., 362., 356., 352.,\n",
              "       333., 357., 411., 404., 387., 395., 434., 488., 508., 494., 575.,\n",
              "       614., 616., 707., 719., 655., 661., 687., 625., 611., 631., 655.,\n",
              "       616., 586., 615., 607., 590., 535., 518., 519., 562., 552., 508.,\n",
              "       476., 513., 545., 532., 550., 561., 567., 580., 559., 562., 553.,\n",
              "       533., 498., 504., 525., 547., 556., 566., 621., 659., 671., 688.,\n",
              "       705., 633., 661., 674., 703., 694., 681., 663., 632., 561., 497.,\n",
              "       509., 475., 392., 319., 354., 388., 381., 370.])"
            ]
          },
          "metadata": {},
          "execution_count": 103
        }
      ]
    },
    {
      "cell_type": "code",
      "source": [
        "y_test_inv = y_test_inv.flatten()\n",
        "y_test_inv"
      ],
      "metadata": {
        "colab": {
          "base_uri": "https://localhost:8080/"
        },
        "id": "PDdnZUrXy7L4",
        "outputId": "8a1979c2-df6c-4ee7-9c3b-81dc4f973bd1"
      },
      "execution_count": 104,
      "outputs": [
        {
          "output_type": "execute_result",
          "data": {
            "text/plain": [
              "array([349., 372., 324., 315., 312., 306., 288., 255., 257., 265., 254.,\n",
              "       240., 254., 251., 234., 255., 330., 362., 310., 277., 323., 360.])"
            ]
          },
          "metadata": {},
          "execution_count": 104
        }
      ]
    },
    {
      "cell_type": "code",
      "source": [
        "TU_CNN_Pred = y_pred_inv.flatten()   #y_pred_inv = TU_CNN_Pred\n",
        "TU_CNN_Pred"
      ],
      "metadata": {
        "colab": {
          "base_uri": "https://localhost:8080/"
        },
        "id": "fqq4-3-lsuEy",
        "outputId": "c717aa59-cf0d-4376-d351-c7f33fdc1ef2"
      },
      "execution_count": 105,
      "outputs": [
        {
          "output_type": "execute_result",
          "data": {
            "text/plain": [
              "array([344.62552, 342.25504, 362.45255, 373.1026 , 347.98047, 332.7653 ,\n",
              "       328.269  , 320.81937, 300.37646, 278.38138, 276.72604, 282.654  ,\n",
              "       277.10178, 273.9422 , 276.50946, 267.79572, 255.17282, 284.805  ,\n",
              "       345.9163 , 371.0493 , 342.74014, 329.39038], dtype=float32)"
            ]
          },
          "metadata": {},
          "execution_count": 105
        }
      ]
    },
    {
      "cell_type": "code",
      "source": [
        "plt.plot(np.arange(0, len(y_train)), y_train_inv, color='green', label=\"History\")\n",
        "plt.plot(np.arange(len(y_train), len(y_train) + len(y_test)), y_test_inv, color='blue', marker='.', label=\"Actual\")\n",
        "plt.plot(np.arange(len(y_train), len(y_train) + len(y_test)), TU_CNN_Pred, color='red', label=\"Tuned CNN Prediction\")\n",
        "plt.ylabel('Crude Palm Oil Price')\n",
        "plt.xlabel('Time step')\n",
        "plt.legend()\n",
        "plt.show();"
      ],
      "metadata": {
        "colab": {
          "base_uri": "https://localhost:8080/",
          "height": 362
        },
        "id": "nBN919VXsuNq",
        "outputId": "abcc9b8f-9a9e-4e0e-dd1a-3d08155bdacf"
      },
      "execution_count": 106,
      "outputs": [
        {
          "output_type": "display_data",
          "data": {
            "text/plain": [
              "<Figure size 720x360 with 1 Axes>"
            ],
            "image/png": "[encoded data removed]"
          },
          "metadata": {}
        }
      ]
    },
    {
      "cell_type": "code",
      "source": [
        "TUMAE_cnn = mean_absolute_error(y_test_inv, TU_CNN_Pred)\n",
        "print('MAE value of the CNN Model is:', TUMAE_cnn)\n",
        "\n",
        "TUMDA_cnn = mda(y_test_inv, TU_CNN_Pred)\n",
        "print('MDA value of the CNN Model is:', TUMDA_cnn)\n",
        "\n",
        "TUMAPE_cnn = mean_absolute_percentage_error(y_test_inv, TU_CNN_Pred)\n",
        "print('MAPE value of the CNN Model is:', TUMAPE_cnn)\n",
        "\n",
        "TURMSE_cnn = mean_squared_error(y_test_inv,TU_CNN_Pred, squared=False)\n",
        "print('RMSE value of the CNN Model is:', TURMSE_cnn)\n",
        "\n",
        "TUMSE_cnn = mean_squared_error(y_test_inv,TU_CNN_Pred)\n",
        "print('MSE value of the CNN Model is:', TUMSE_cnn)"
      ],
      "metadata": {
        "colab": {
          "base_uri": "https://localhost:8080/"
        },
        "id": "FqciJO0esuRc",
        "outputId": "5ee096d7-4319-45ff-9a61-073adb269b24"
      },
      "execution_count": 107,
      "outputs": [
        {
          "output_type": "stream",
          "name": "stdout",
          "text": [
            "MAE value of the CNN Model is: 38.87878556685014\n",
            "MDA value of the CNN Model is: 0.3333333333333333\n",
            "MAPE value of the CNN Model is: 13.357052255903346\n",
            "RMSE value of the CNN Model is: 44.8078974132368\n",
            "MSE value of the CNN Model is: 2007.747670595153\n"
          ]
        }
      ]
    },
    {
      "cell_type": "markdown",
      "source": [
        "Compare tuned CNN Actual VS Predicted (Zoomed-IN)"
      ],
      "metadata": {
        "id": "oczznVkQihRI"
      }
    },
    {
      "cell_type": "code",
      "source": [
        "#Plot the graph between actual vs predicted values\n",
        "plt.figure(figsize=(15,7))  #(10,6))\n",
        "plt.plot(TU_CNN_Pred, color= 'green',marker='.',label = 'Tuned CNN Predicted for cpo_pri')\n",
        "plt.plot(y_test_inv, color = 'red',marker='.',label = 'Actual cpo_pri ')\n",
        "plt.title(\"Tuned CNN Crude Palm Oil Price Prediction (Multivariate)\")\n",
        "plt.xlabel(\"Time step\")\n",
        "plt.ylabel(\"Crude Palm Oil Price\")\n",
        "plt.legend()\n",
        "plt.show()\n",
        "plt.savefig('graph_cnn.png')"
      ],
      "metadata": {
        "colab": {
          "base_uri": "https://localhost:8080/",
          "height": 422
        },
        "id": "RmqyhCu_iV_w",
        "outputId": "facea048-deff-4e11-f831-e3f582aa774d"
      },
      "execution_count": 108,
      "outputs": [
        {
          "output_type": "display_data",
          "data": {
            "text/plain": [
              "<Figure size 1080x504 with 1 Axes>"
            ],
            "image/png": "[encoded data removed]"
          },
          "metadata": {}
        },
        {
          "output_type": "display_data",
          "data": {
            "text/plain": [
              "<Figure size 720x360 with 0 Axes>"
            ]
          },
          "metadata": {}
        }
      ]
    },
    {
      "cell_type": "code",
      "source": [],
      "metadata": {
        "id": "gponvbTvKmKq"
      },
      "execution_count": null,
      "outputs": []
    },
    {
      "cell_type": "code",
      "source": [],
      "metadata": {
        "id": "COX5mcxIKmYl"
      },
      "execution_count": null,
      "outputs": []
    },
    {
      "cell_type": "markdown",
      "source": [
        "##Results\n",
        "\n",
        "Baseline MSE         = 0.0160\n",
        "\n",
        "Random search MSE    = 0.2349\n",
        "\n",
        "Bayesian search MSE  = 0.3562\n",
        "\n",
        "Hyperband search MSE = 0.0118\n",
        "\n",
        "Baseline RSME        = 50.6\n",
        "\n",
        "Tuned CNN RSME       = 39.05"
      ],
      "metadata": {
        "id": "xMdKc2DKj1e-"
      }
    },
    {
      "cell_type": "markdown",
      "source": [
        "The tuned CNN is superior to the basseline based on the RSME result"
      ],
      "metadata": {
        "id": "J9SI5KHvtAsT"
      }
    }
  ]
}