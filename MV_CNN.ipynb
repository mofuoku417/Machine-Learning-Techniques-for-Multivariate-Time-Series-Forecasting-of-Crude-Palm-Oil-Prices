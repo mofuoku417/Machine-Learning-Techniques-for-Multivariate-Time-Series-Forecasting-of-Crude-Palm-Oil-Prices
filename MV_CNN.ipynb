{
  "nbformat": 4,
  "nbformat_minor": 0,
  "metadata": {
    "colab": {
      "name": "MV_CNN.ipynb",
      "provenance": [],
      "authorship_tag": "ABX9TyPG/FxcUWm73aOS8wANT5XX",
      "include_colab_link": true
    },
    "kernelspec": {
      "name": "python3",
      "display_name": "Python 3"
    },
    "language_info": {
      "name": "python"
    },
    "gpuClass": "standard",
    "accelerator": "GPU"
  },
  "cells": [
    {
      "cell_type": "markdown",
      "metadata": {
        "id": "view-in-github",
        "colab_type": "text"
      },
      "source": [
        "<a href=\"https://colab.research.google.com/github/mofuoku417/Machine-Learning-Techniques-for-Multivariate-Time-Series-Forecasting-of-Crude-Palm-Oil-Prices/blob/main/MV_CNN.ipynb\" target=\"_parent\"><img src=\"https://colab.research.google.com/assets/colab-badge.svg\" alt=\"Open In Colab\"/></a>"
      ]
    },
    {
      "cell_type": "markdown",
      "source": [
        "##Objective: Predict Monthly Crude Palm Oil Price Using Convolutional Neural Network (CNN)"
      ],
      "metadata": {
        "id": "tt6Yvzr3gZ-g"
      }
    },
    {
      "cell_type": "code",
      "source": [
        "!pip install scikeras\n",
        "!pip install bayesian-optimization\n",
        "!pip install keras-tuner --upgrade"
      ],
      "metadata": {
        "id": "gGw0m6TUdgMM",
        "outputId": "f6484c0c-89f5-4a0c-a5fd-b712413f0ed7",
        "colab": {
          "base_uri": "https://localhost:8080/"
        }
      },
      "execution_count": 1,
      "outputs": [
        {
          "output_type": "stream",
          "name": "stdout",
          "text": [
            "Looking in indexes: https://pypi.org/simple, https://us-python.pkg.dev/colab-wheels/public/simple/\n",
            "Collecting scikeras\n",
            "  Downloading scikeras-0.10.0-py3-none-any.whl (27 kB)\n",
            "Requirement already satisfied: scikit-learn>=1.0.0 in /usr/local/lib/python3.8/dist-packages (from scikeras) (1.0.2)\n",
            "Requirement already satisfied: packaging>=0.21 in /usr/local/lib/python3.8/dist-packages (from scikeras) (21.3)\n",
            "Requirement already satisfied: pyparsing!=3.0.5,>=2.0.2 in /usr/local/lib/python3.8/dist-packages (from packaging>=0.21->scikeras) (3.0.9)\n",
            "Requirement already satisfied: threadpoolctl>=2.0.0 in /usr/local/lib/python3.8/dist-packages (from scikit-learn>=1.0.0->scikeras) (3.1.0)\n",
            "Requirement already satisfied: joblib>=0.11 in /usr/local/lib/python3.8/dist-packages (from scikit-learn>=1.0.0->scikeras) (1.2.0)\n",
            "Requirement already satisfied: numpy>=1.14.6 in /usr/local/lib/python3.8/dist-packages (from scikit-learn>=1.0.0->scikeras) (1.21.6)\n",
            "Requirement already satisfied: scipy>=1.1.0 in /usr/local/lib/python3.8/dist-packages (from scikit-learn>=1.0.0->scikeras) (1.7.3)\n",
            "Installing collected packages: scikeras\n",
            "Successfully installed scikeras-0.10.0\n",
            "Looking in indexes: https://pypi.org/simple, https://us-python.pkg.dev/colab-wheels/public/simple/\n",
            "Collecting bayesian-optimization\n",
            "  Downloading bayesian_optimization-1.4.2-py3-none-any.whl (17 kB)\n",
            "Requirement already satisfied: scikit-learn>=0.18.0 in /usr/local/lib/python3.8/dist-packages (from bayesian-optimization) (1.0.2)\n",
            "Collecting colorama>=0.4.6\n",
            "  Downloading colorama-0.4.6-py2.py3-none-any.whl (25 kB)\n",
            "Requirement already satisfied: numpy>=1.9.0 in /usr/local/lib/python3.8/dist-packages (from bayesian-optimization) (1.21.6)\n",
            "Requirement already satisfied: scipy>=1.0.0 in /usr/local/lib/python3.8/dist-packages (from bayesian-optimization) (1.7.3)\n",
            "Requirement already satisfied: threadpoolctl>=2.0.0 in /usr/local/lib/python3.8/dist-packages (from scikit-learn>=0.18.0->bayesian-optimization) (3.1.0)\n",
            "Requirement already satisfied: joblib>=0.11 in /usr/local/lib/python3.8/dist-packages (from scikit-learn>=0.18.0->bayesian-optimization) (1.2.0)\n",
            "Installing collected packages: colorama, bayesian-optimization\n",
            "Successfully installed bayesian-optimization-1.4.2 colorama-0.4.6\n",
            "Looking in indexes: https://pypi.org/simple, https://us-python.pkg.dev/colab-wheels/public/simple/\n",
            "Collecting keras-tuner\n",
            "  Downloading keras_tuner-1.1.3-py3-none-any.whl (135 kB)\n",
            "\u001b[2K     \u001b[90m━━━━━━━━━━━━━━━━━━━━━━━━━━━━━━━━━━━━━━━\u001b[0m \u001b[32m135.7/135.7 KB\u001b[0m \u001b[31m7.4 MB/s\u001b[0m eta \u001b[36m0:00:00\u001b[0m\n",
            "\u001b[?25hRequirement already satisfied: numpy in /usr/local/lib/python3.8/dist-packages (from keras-tuner) (1.21.6)\n",
            "Requirement already satisfied: ipython in /usr/local/lib/python3.8/dist-packages (from keras-tuner) (7.9.0)\n",
            "Requirement already satisfied: requests in /usr/local/lib/python3.8/dist-packages (from keras-tuner) (2.25.1)\n",
            "Requirement already satisfied: packaging in /usr/local/lib/python3.8/dist-packages (from keras-tuner) (21.3)\n",
            "Requirement already satisfied: tensorboard in /usr/local/lib/python3.8/dist-packages (from keras-tuner) (2.9.1)\n",
            "Collecting kt-legacy\n",
            "  Downloading kt_legacy-1.0.4-py3-none-any.whl (9.6 kB)\n",
            "Requirement already satisfied: backcall in /usr/local/lib/python3.8/dist-packages (from ipython->keras-tuner) (0.2.0)\n",
            "Requirement already satisfied: pygments in /usr/local/lib/python3.8/dist-packages (from ipython->keras-tuner) (2.6.1)\n",
            "Collecting jedi>=0.10\n",
            "  Downloading jedi-0.18.2-py2.py3-none-any.whl (1.6 MB)\n",
            "\u001b[2K     \u001b[90m━━━━━━━━━━━━━━━━━━━━━━━━━━━━━━━━━━━━━━━━\u001b[0m \u001b[32m1.6/1.6 MB\u001b[0m \u001b[31m49.4 MB/s\u001b[0m eta \u001b[36m0:00:00\u001b[0m\n",
            "\u001b[?25hRequirement already satisfied: decorator in /usr/local/lib/python3.8/dist-packages (from ipython->keras-tuner) (4.4.2)\n",
            "Requirement already satisfied: setuptools>=18.5 in /usr/local/lib/python3.8/dist-packages (from ipython->keras-tuner) (57.4.0)\n",
            "Requirement already satisfied: pexpect in /usr/local/lib/python3.8/dist-packages (from ipython->keras-tuner) (4.8.0)\n",
            "Requirement already satisfied: prompt-toolkit<2.1.0,>=2.0.0 in /usr/local/lib/python3.8/dist-packages (from ipython->keras-tuner) (2.0.10)\n",
            "Requirement already satisfied: traitlets>=4.2 in /usr/local/lib/python3.8/dist-packages (from ipython->keras-tuner) (5.7.1)\n",
            "Requirement already satisfied: pickleshare in /usr/local/lib/python3.8/dist-packages (from ipython->keras-tuner) (0.7.5)\n",
            "Requirement already satisfied: pyparsing!=3.0.5,>=2.0.2 in /usr/local/lib/python3.8/dist-packages (from packaging->keras-tuner) (3.0.9)\n",
            "Requirement already satisfied: idna<3,>=2.5 in /usr/local/lib/python3.8/dist-packages (from requests->keras-tuner) (2.10)\n",
            "Requirement already satisfied: certifi>=2017.4.17 in /usr/local/lib/python3.8/dist-packages (from requests->keras-tuner) (2022.12.7)\n",
            "Requirement already satisfied: urllib3<1.27,>=1.21.1 in /usr/local/lib/python3.8/dist-packages (from requests->keras-tuner) (1.24.3)\n",
            "Requirement already satisfied: chardet<5,>=3.0.2 in /usr/local/lib/python3.8/dist-packages (from requests->keras-tuner) (4.0.0)\n",
            "Requirement already satisfied: markdown>=2.6.8 in /usr/local/lib/python3.8/dist-packages (from tensorboard->keras-tuner) (3.4.1)\n",
            "Requirement already satisfied: wheel>=0.26 in /usr/local/lib/python3.8/dist-packages (from tensorboard->keras-tuner) (0.38.4)\n",
            "Requirement already satisfied: werkzeug>=1.0.1 in /usr/local/lib/python3.8/dist-packages (from tensorboard->keras-tuner) (1.0.1)\n",
            "Requirement already satisfied: google-auth-oauthlib<0.5,>=0.4.1 in /usr/local/lib/python3.8/dist-packages (from tensorboard->keras-tuner) (0.4.6)\n",
            "Requirement already satisfied: absl-py>=0.4 in /usr/local/lib/python3.8/dist-packages (from tensorboard->keras-tuner) (1.3.0)\n",
            "Requirement already satisfied: tensorboard-plugin-wit>=1.6.0 in /usr/local/lib/python3.8/dist-packages (from tensorboard->keras-tuner) (1.8.1)\n",
            "Requirement already satisfied: protobuf<3.20,>=3.9.2 in /usr/local/lib/python3.8/dist-packages (from tensorboard->keras-tuner) (3.19.6)\n",
            "Requirement already satisfied: tensorboard-data-server<0.7.0,>=0.6.0 in /usr/local/lib/python3.8/dist-packages (from tensorboard->keras-tuner) (0.6.1)\n",
            "Requirement already satisfied: grpcio>=1.24.3 in /usr/local/lib/python3.8/dist-packages (from tensorboard->keras-tuner) (1.51.1)\n",
            "Requirement already satisfied: google-auth<3,>=1.6.3 in /usr/local/lib/python3.8/dist-packages (from tensorboard->keras-tuner) (2.15.0)\n",
            "Requirement already satisfied: six>=1.9.0 in /usr/local/lib/python3.8/dist-packages (from google-auth<3,>=1.6.3->tensorboard->keras-tuner) (1.15.0)\n",
            "Requirement already satisfied: rsa<5,>=3.1.4 in /usr/local/lib/python3.8/dist-packages (from google-auth<3,>=1.6.3->tensorboard->keras-tuner) (4.9)\n",
            "Requirement already satisfied: cachetools<6.0,>=2.0.0 in /usr/local/lib/python3.8/dist-packages (from google-auth<3,>=1.6.3->tensorboard->keras-tuner) (5.2.0)\n",
            "Requirement already satisfied: pyasn1-modules>=0.2.1 in /usr/local/lib/python3.8/dist-packages (from google-auth<3,>=1.6.3->tensorboard->keras-tuner) (0.2.8)\n",
            "Requirement already satisfied: requests-oauthlib>=0.7.0 in /usr/local/lib/python3.8/dist-packages (from google-auth-oauthlib<0.5,>=0.4.1->tensorboard->keras-tuner) (1.3.1)\n",
            "Requirement already satisfied: parso<0.9.0,>=0.8.0 in /usr/local/lib/python3.8/dist-packages (from jedi>=0.10->ipython->keras-tuner) (0.8.3)\n",
            "Requirement already satisfied: importlib-metadata>=4.4 in /usr/local/lib/python3.8/dist-packages (from markdown>=2.6.8->tensorboard->keras-tuner) (6.0.0)\n",
            "Requirement already satisfied: wcwidth in /usr/local/lib/python3.8/dist-packages (from prompt-toolkit<2.1.0,>=2.0.0->ipython->keras-tuner) (0.2.5)\n",
            "Requirement already satisfied: ptyprocess>=0.5 in /usr/local/lib/python3.8/dist-packages (from pexpect->ipython->keras-tuner) (0.7.0)\n",
            "Requirement already satisfied: zipp>=0.5 in /usr/local/lib/python3.8/dist-packages (from importlib-metadata>=4.4->markdown>=2.6.8->tensorboard->keras-tuner) (3.11.0)\n",
            "Requirement already satisfied: pyasn1<0.5.0,>=0.4.6 in /usr/local/lib/python3.8/dist-packages (from pyasn1-modules>=0.2.1->google-auth<3,>=1.6.3->tensorboard->keras-tuner) (0.4.8)\n",
            "Requirement already satisfied: oauthlib>=3.0.0 in /usr/local/lib/python3.8/dist-packages (from requests-oauthlib>=0.7.0->google-auth-oauthlib<0.5,>=0.4.1->tensorboard->keras-tuner) (3.2.2)\n",
            "Installing collected packages: kt-legacy, jedi, keras-tuner\n",
            "Successfully installed jedi-0.18.2 keras-tuner-1.1.3 kt-legacy-1.0.4\n"
          ]
        }
      ]
    },
    {
      "cell_type": "markdown",
      "source": [
        "###Load Libraries"
      ],
      "metadata": {
        "id": "r_2Cswg0sYN8"
      }
    },
    {
      "cell_type": "code",
      "source": [
        "from numpy.random import seed\n",
        "seed(1)\n",
        "import tensorflow as tf\n",
        "tf.random.set_seed(1)\n",
        "\n",
        "import pandas as pd\n",
        "import numpy as np\n",
        "import matplotlib.pyplot as plt\n",
        "import seaborn as sns\n",
        "plt.rcParams['figure.figsize'] = (10, 5)\n",
        "plt.style.use('fivethirtyeight')\n",
        "from plotly.subplots import make_subplots\n",
        "import plotly.graph_objects as go\n",
        "import tensorflow as tf\n",
        "from tensorflow.keras import layers\n",
        "from sklearn.metrics import mean_absolute_error\n",
        "from sklearn.metrics import make_scorer, mean_squared_error\n",
        "from keras.layers import Dense, Dropout\n",
        "from sklearn.metrics import explained_variance_score\n",
        "from sklearn.neural_network import MLPRegressor\n",
        "from sklearn.model_selection import GridSearchCV, RandomizedSearchCV\n",
        "import warnings\n",
        "warnings.filterwarnings('ignore')\n",
        "from keras.models import Sequential\n",
        "from keras.layers import Dense\n",
        "from keras.wrappers.scikit_learn import KerasRegressor\n",
        "from keras.wrappers.scikit_learn import KerasClassifier\n",
        "from sklearn.model_selection import KFold, cross_val_score\n",
        "from scikeras.wrappers import KerasRegressor\n",
        "from tensorflow import keras\n",
        "from kerastuner.tuners import RandomSearch\n",
        "from kerastuner import HyperModel, RandomSearch, Hyperband, BayesianOptimization\n",
        "from keras.callbacks import EarlyStopping\n",
        "from time import time\n",
        "import pickle\n",
        "\n",
        "import matplotlib.dates as mdates\n",
        "from sklearn.preprocessing import RobustScaler\n",
        "from sklearn.preprocessing import MinMaxScaler"
      ],
      "metadata": {
        "id": "eJUaw5qy34It"
      },
      "execution_count": 2,
      "outputs": []
    },
    {
      "cell_type": "markdown",
      "source": [
        "###Define Functions to Facilitate Metrics Evaluation"
      ],
      "metadata": {
        "id": "Gzu9V2o2gfZG"
      }
    },
    {
      "cell_type": "code",
      "source": [
        "#To compute Mean Directional Accuracy\n",
        "def mda(actual: np.ndarray, predicted: np.ndarray):\n",
        "    \"\"\" Mean Directional Accuracy \"\"\"\n",
        "    return np.mean((np.sign(actual[1:] - actual[:-1]) == np.sign(predicted[1:] - predicted[:-1])).astype(int))\n",
        "\n",
        "#Calculate the Mean Absolute Percentage Error\n",
        "#def MAPE(y_true, y_pred): \n",
        "    #mape = np.mean(np.abs((np.array(y_true) - np.array(y_pred)) / np.array(y_true))) * 100\n",
        "    #return mape\n",
        "\n",
        "def mean_absolute_percentage_error(y_true, y_pred): \n",
        "    y_true, y_pred = np.array(y_true), np.array(y_pred)\n",
        "    return np.mean(np.abs((y_true - y_pred) / y_true)) * 100\n",
        "\n",
        "def MAPE(y_true, y_pred): \n",
        "    y_true, y_pred = np.array(y_true), np.array(y_pred)\n",
        "    return np.mean(np.abs((y_true - y_pred) / y_true)) * 100\n",
        "\n",
        "#Calculate the Root Mean Squared Error:\n",
        "def RMSE(y_true, y_pred): \n",
        "    rmse = np.sqrt(mean_squared_error(y_true, y_pred))\n",
        "    return rmse"
      ],
      "metadata": {
        "id": "k7RYx1rN_Yf_"
      },
      "execution_count": 3,
      "outputs": []
    },
    {
      "cell_type": "markdown",
      "source": [
        "###Load the Cleaned Data from Github"
      ],
      "metadata": {
        "id": "FVpIGyF7g4od"
      }
    },
    {
      "cell_type": "code",
      "source": [
        "from pandas import read_csv\n",
        "path = 'https://raw.githubusercontent.com/mofuoku417/Machine-Learning-Techniques-for-Multivariate-Time-Series-Forecasting-of-Crude-Palm-Oil-Prices/main/Cleaned_data/FS_2.csv'\n",
        "df = read_csv(path)\n",
        "df.head()"
      ],
      "metadata": {
        "colab": {
          "base_uri": "https://localhost:8080/",
          "height": 201
        },
        "id": "z_6wFR8b3xZf",
        "outputId": "051f60bd-16cb-4ea6-f52e-d76d1e708272"
      },
      "execution_count": 4,
      "outputs": [
        {
          "output_type": "execute_result",
          "data": {
            "text/plain": [
              "      date  cpo_pri  cno_pri  oli_pri  rps_pri  pno_pri  sbo_pri  sfo_pri\n",
              "0  12/1/10      323      455  3102.61   423.45    844.0    468.0    578.0\n",
              "1   1/1/11      345      546  3100.45   415.85    799.0    485.0    557.0\n",
              "2   2/1/11      362      595  3199.41   410.77    718.0    466.0    552.0\n",
              "3   3/1/11      376      636  3281.67   414.82    614.0    442.0    574.0\n",
              "4   4/1/11      383      738  3261.65   451.04    619.0    429.0    595.0"
            ],
            "text/html": [
              "\n",
              "  <div id=\"df-f9ec6eeb-cc3a-46e1-8280-4374d427e2f3\">\n",
              "    <div class=\"colab-df-container\">\n",
              "      <div>\n",
              "<style scoped>\n",
              "    .dataframe tbody tr th:only-of-type {\n",
              "        vertical-align: middle;\n",
              "    }\n",
              "\n",
              "    .dataframe tbody tr th {\n",
              "        vertical-align: top;\n",
              "    }\n",
              "\n",
              "    .dataframe thead th {\n",
              "        text-align: right;\n",
              "    }\n",
              "</style>\n",
              "<table border=\"1\" class=\"dataframe\">\n",
              "  <thead>\n",
              "    <tr style=\"text-align: right;\">\n",
              "      <th></th>\n",
              "      <th>date</th>\n",
              "      <th>cpo_pri</th>\n",
              "      <th>cno_pri</th>\n",
              "      <th>oli_pri</th>\n",
              "      <th>rps_pri</th>\n",
              "      <th>pno_pri</th>\n",
              "      <th>sbo_pri</th>\n",
              "      <th>sfo_pri</th>\n",
              "    </tr>\n",
              "  </thead>\n",
              "  <tbody>\n",
              "    <tr>\n",
              "      <th>0</th>\n",
              "      <td>12/1/10</td>\n",
              "      <td>323</td>\n",
              "      <td>455</td>\n",
              "      <td>3102.61</td>\n",
              "      <td>423.45</td>\n",
              "      <td>844.0</td>\n",
              "      <td>468.0</td>\n",
              "      <td>578.0</td>\n",
              "    </tr>\n",
              "    <tr>\n",
              "      <th>1</th>\n",
              "      <td>1/1/11</td>\n",
              "      <td>345</td>\n",
              "      <td>546</td>\n",
              "      <td>3100.45</td>\n",
              "      <td>415.85</td>\n",
              "      <td>799.0</td>\n",
              "      <td>485.0</td>\n",
              "      <td>557.0</td>\n",
              "    </tr>\n",
              "    <tr>\n",
              "      <th>2</th>\n",
              "      <td>2/1/11</td>\n",
              "      <td>362</td>\n",
              "      <td>595</td>\n",
              "      <td>3199.41</td>\n",
              "      <td>410.77</td>\n",
              "      <td>718.0</td>\n",
              "      <td>466.0</td>\n",
              "      <td>552.0</td>\n",
              "    </tr>\n",
              "    <tr>\n",
              "      <th>3</th>\n",
              "      <td>3/1/11</td>\n",
              "      <td>376</td>\n",
              "      <td>636</td>\n",
              "      <td>3281.67</td>\n",
              "      <td>414.82</td>\n",
              "      <td>614.0</td>\n",
              "      <td>442.0</td>\n",
              "      <td>574.0</td>\n",
              "    </tr>\n",
              "    <tr>\n",
              "      <th>4</th>\n",
              "      <td>4/1/11</td>\n",
              "      <td>383</td>\n",
              "      <td>738</td>\n",
              "      <td>3261.65</td>\n",
              "      <td>451.04</td>\n",
              "      <td>619.0</td>\n",
              "      <td>429.0</td>\n",
              "      <td>595.0</td>\n",
              "    </tr>\n",
              "  </tbody>\n",
              "</table>\n",
              "</div>\n",
              "      <button class=\"colab-df-convert\" onclick=\"convertToInteractive('df-f9ec6eeb-cc3a-46e1-8280-4374d427e2f3')\"\n",
              "              title=\"Convert this dataframe to an interactive table.\"\n",
              "              style=\"display:none;\">\n",
              "        \n",
              "  <svg xmlns=\"http://www.w3.org/2000/svg\" height=\"24px\"viewBox=\"0 0 24 24\"\n",
              "       width=\"24px\">\n",
              "    <path d=\"M0 0h24v24H0V0z\" fill=\"none\"/>\n",
              "    <path d=\"M18.56 5.44l.94 2.06.94-2.06 2.06-.94-2.06-.94-.94-2.06-.94 2.06-2.06.94zm-11 1L8.5 8.5l.94-2.06 2.06-.94-2.06-.94L8.5 2.5l-.94 2.06-2.06.94zm10 10l.94 2.06.94-2.06 2.06-.94-2.06-.94-.94-2.06-.94 2.06-2.06.94z\"/><path d=\"M17.41 7.96l-1.37-1.37c-.4-.4-.92-.59-1.43-.59-.52 0-1.04.2-1.43.59L10.3 9.45l-7.72 7.72c-.78.78-.78 2.05 0 2.83L4 21.41c.39.39.9.59 1.41.59.51 0 1.02-.2 1.41-.59l7.78-7.78 2.81-2.81c.8-.78.8-2.07 0-2.86zM5.41 20L4 18.59l7.72-7.72 1.47 1.35L5.41 20z\"/>\n",
              "  </svg>\n",
              "      </button>\n",
              "      \n",
              "  <style>\n",
              "    .colab-df-container {\n",
              "      display:flex;\n",
              "      flex-wrap:wrap;\n",
              "      gap: 12px;\n",
              "    }\n",
              "\n",
              "    .colab-df-convert {\n",
              "      background-color: #E8F0FE;\n",
              "      border: none;\n",
              "      border-radius: 50%;\n",
              "      cursor: pointer;\n",
              "      display: none;\n",
              "      fill: #1967D2;\n",
              "      height: 32px;\n",
              "      padding: 0 0 0 0;\n",
              "      width: 32px;\n",
              "    }\n",
              "\n",
              "    .colab-df-convert:hover {\n",
              "      background-color: #E2EBFA;\n",
              "      box-shadow: 0px 1px 2px rgba(60, 64, 67, 0.3), 0px 1px 3px 1px rgba(60, 64, 67, 0.15);\n",
              "      fill: #174EA6;\n",
              "    }\n",
              "\n",
              "    [theme=dark] .colab-df-convert {\n",
              "      background-color: #3B4455;\n",
              "      fill: #D2E3FC;\n",
              "    }\n",
              "\n",
              "    [theme=dark] .colab-df-convert:hover {\n",
              "      background-color: #434B5C;\n",
              "      box-shadow: 0px 1px 3px 1px rgba(0, 0, 0, 0.15);\n",
              "      filter: drop-shadow(0px 1px 2px rgba(0, 0, 0, 0.3));\n",
              "      fill: #FFFFFF;\n",
              "    }\n",
              "  </style>\n",
              "\n",
              "      <script>\n",
              "        const buttonEl =\n",
              "          document.querySelector('#df-f9ec6eeb-cc3a-46e1-8280-4374d427e2f3 button.colab-df-convert');\n",
              "        buttonEl.style.display =\n",
              "          google.colab.kernel.accessAllowed ? 'block' : 'none';\n",
              "\n",
              "        async function convertToInteractive(key) {\n",
              "          const element = document.querySelector('#df-f9ec6eeb-cc3a-46e1-8280-4374d427e2f3');\n",
              "          const dataTable =\n",
              "            await google.colab.kernel.invokeFunction('convertToInteractive',\n",
              "                                                     [key], {});\n",
              "          if (!dataTable) return;\n",
              "\n",
              "          const docLinkHtml = 'Like what you see? Visit the ' +\n",
              "            '<a target=\"_blank\" href=https://colab.research.google.com/notebooks/data_table.ipynb>data table notebook</a>'\n",
              "            + ' to learn more about interactive tables.';\n",
              "          element.innerHTML = '';\n",
              "          dataTable['output_type'] = 'display_data';\n",
              "          await google.colab.output.renderOutput(dataTable, element);\n",
              "          const docLink = document.createElement('div');\n",
              "          docLink.innerHTML = docLinkHtml;\n",
              "          element.appendChild(docLink);\n",
              "        }\n",
              "      </script>\n",
              "    </div>\n",
              "  </div>\n",
              "  "
            ]
          },
          "metadata": {},
          "execution_count": 4
        }
      ]
    },
    {
      "cell_type": "code",
      "source": [
        "df['date']=pd.to_datetime(df['date'])\n",
        "#del df['date']"
      ],
      "metadata": {
        "id": "bABFH7Kd4nBN"
      },
      "execution_count": 5,
      "outputs": []
    },
    {
      "cell_type": "code",
      "source": [
        "df.set_index('date', inplace=True)\n",
        "df.info()"
      ],
      "metadata": {
        "colab": {
          "base_uri": "https://localhost:8080/"
        },
        "id": "nZ-LB-rFdF5N",
        "outputId": "9c2525e3-7b10-4353-c097-e677f9f220fc"
      },
      "execution_count": 6,
      "outputs": [
        {
          "output_type": "stream",
          "name": "stdout",
          "text": [
            "<class 'pandas.core.frame.DataFrame'>\n",
            "DatetimeIndex: 124 entries, 2010-12-01 to 2021-03-01\n",
            "Data columns (total 7 columns):\n",
            " #   Column   Non-Null Count  Dtype  \n",
            "---  ------   --------------  -----  \n",
            " 0   cpo_pri  124 non-null    int64  \n",
            " 1   cno_pri  124 non-null    int64  \n",
            " 2   oli_pri  124 non-null    float64\n",
            " 3   rps_pri  124 non-null    float64\n",
            " 4   pno_pri  124 non-null    float64\n",
            " 5   sbo_pri  124 non-null    float64\n",
            " 6   sfo_pri  124 non-null    float64\n",
            "dtypes: float64(5), int64(2)\n",
            "memory usage: 7.8 KB\n"
          ]
        }
      ]
    },
    {
      "cell_type": "code",
      "source": [
        "df.head()"
      ],
      "metadata": {
        "colab": {
          "base_uri": "https://localhost:8080/",
          "height": 232
        },
        "id": "PLpdJChY4wex",
        "outputId": "0d459034-1a20-4e06-d9d4-77e5b4529ff6"
      },
      "execution_count": 7,
      "outputs": [
        {
          "output_type": "execute_result",
          "data": {
            "text/plain": [
              "            cpo_pri  cno_pri  oli_pri  rps_pri  pno_pri  sbo_pri  sfo_pri\n",
              "date                                                                     \n",
              "2010-12-01      323      455  3102.61   423.45    844.0    468.0    578.0\n",
              "2011-01-01      345      546  3100.45   415.85    799.0    485.0    557.0\n",
              "2011-02-01      362      595  3199.41   410.77    718.0    466.0    552.0\n",
              "2011-03-01      376      636  3281.67   414.82    614.0    442.0    574.0\n",
              "2011-04-01      383      738  3261.65   451.04    619.0    429.0    595.0"
            ],
            "text/html": [
              "\n",
              "  <div id=\"df-45abcaa7-0776-4645-9553-f966969a500c\">\n",
              "    <div class=\"colab-df-container\">\n",
              "      <div>\n",
              "<style scoped>\n",
              "    .dataframe tbody tr th:only-of-type {\n",
              "        vertical-align: middle;\n",
              "    }\n",
              "\n",
              "    .dataframe tbody tr th {\n",
              "        vertical-align: top;\n",
              "    }\n",
              "\n",
              "    .dataframe thead th {\n",
              "        text-align: right;\n",
              "    }\n",
              "</style>\n",
              "<table border=\"1\" class=\"dataframe\">\n",
              "  <thead>\n",
              "    <tr style=\"text-align: right;\">\n",
              "      <th></th>\n",
              "      <th>cpo_pri</th>\n",
              "      <th>cno_pri</th>\n",
              "      <th>oli_pri</th>\n",
              "      <th>rps_pri</th>\n",
              "      <th>pno_pri</th>\n",
              "      <th>sbo_pri</th>\n",
              "      <th>sfo_pri</th>\n",
              "    </tr>\n",
              "    <tr>\n",
              "      <th>date</th>\n",
              "      <th></th>\n",
              "      <th></th>\n",
              "      <th></th>\n",
              "      <th></th>\n",
              "      <th></th>\n",
              "      <th></th>\n",
              "      <th></th>\n",
              "    </tr>\n",
              "  </thead>\n",
              "  <tbody>\n",
              "    <tr>\n",
              "      <th>2010-12-01</th>\n",
              "      <td>323</td>\n",
              "      <td>455</td>\n",
              "      <td>3102.61</td>\n",
              "      <td>423.45</td>\n",
              "      <td>844.0</td>\n",
              "      <td>468.0</td>\n",
              "      <td>578.0</td>\n",
              "    </tr>\n",
              "    <tr>\n",
              "      <th>2011-01-01</th>\n",
              "      <td>345</td>\n",
              "      <td>546</td>\n",
              "      <td>3100.45</td>\n",
              "      <td>415.85</td>\n",
              "      <td>799.0</td>\n",
              "      <td>485.0</td>\n",
              "      <td>557.0</td>\n",
              "    </tr>\n",
              "    <tr>\n",
              "      <th>2011-02-01</th>\n",
              "      <td>362</td>\n",
              "      <td>595</td>\n",
              "      <td>3199.41</td>\n",
              "      <td>410.77</td>\n",
              "      <td>718.0</td>\n",
              "      <td>466.0</td>\n",
              "      <td>552.0</td>\n",
              "    </tr>\n",
              "    <tr>\n",
              "      <th>2011-03-01</th>\n",
              "      <td>376</td>\n",
              "      <td>636</td>\n",
              "      <td>3281.67</td>\n",
              "      <td>414.82</td>\n",
              "      <td>614.0</td>\n",
              "      <td>442.0</td>\n",
              "      <td>574.0</td>\n",
              "    </tr>\n",
              "    <tr>\n",
              "      <th>2011-04-01</th>\n",
              "      <td>383</td>\n",
              "      <td>738</td>\n",
              "      <td>3261.65</td>\n",
              "      <td>451.04</td>\n",
              "      <td>619.0</td>\n",
              "      <td>429.0</td>\n",
              "      <td>595.0</td>\n",
              "    </tr>\n",
              "  </tbody>\n",
              "</table>\n",
              "</div>\n",
              "      <button class=\"colab-df-convert\" onclick=\"convertToInteractive('df-45abcaa7-0776-4645-9553-f966969a500c')\"\n",
              "              title=\"Convert this dataframe to an interactive table.\"\n",
              "              style=\"display:none;\">\n",
              "        \n",
              "  <svg xmlns=\"http://www.w3.org/2000/svg\" height=\"24px\"viewBox=\"0 0 24 24\"\n",
              "       width=\"24px\">\n",
              "    <path d=\"M0 0h24v24H0V0z\" fill=\"none\"/>\n",
              "    <path d=\"M18.56 5.44l.94 2.06.94-2.06 2.06-.94-2.06-.94-.94-2.06-.94 2.06-2.06.94zm-11 1L8.5 8.5l.94-2.06 2.06-.94-2.06-.94L8.5 2.5l-.94 2.06-2.06.94zm10 10l.94 2.06.94-2.06 2.06-.94-2.06-.94-.94-2.06-.94 2.06-2.06.94z\"/><path d=\"M17.41 7.96l-1.37-1.37c-.4-.4-.92-.59-1.43-.59-.52 0-1.04.2-1.43.59L10.3 9.45l-7.72 7.72c-.78.78-.78 2.05 0 2.83L4 21.41c.39.39.9.59 1.41.59.51 0 1.02-.2 1.41-.59l7.78-7.78 2.81-2.81c.8-.78.8-2.07 0-2.86zM5.41 20L4 18.59l7.72-7.72 1.47 1.35L5.41 20z\"/>\n",
              "  </svg>\n",
              "      </button>\n",
              "      \n",
              "  <style>\n",
              "    .colab-df-container {\n",
              "      display:flex;\n",
              "      flex-wrap:wrap;\n",
              "      gap: 12px;\n",
              "    }\n",
              "\n",
              "    .colab-df-convert {\n",
              "      background-color: #E8F0FE;\n",
              "      border: none;\n",
              "      border-radius: 50%;\n",
              "      cursor: pointer;\n",
              "      display: none;\n",
              "      fill: #1967D2;\n",
              "      height: 32px;\n",
              "      padding: 0 0 0 0;\n",
              "      width: 32px;\n",
              "    }\n",
              "\n",
              "    .colab-df-convert:hover {\n",
              "      background-color: #E2EBFA;\n",
              "      box-shadow: 0px 1px 2px rgba(60, 64, 67, 0.3), 0px 1px 3px 1px rgba(60, 64, 67, 0.15);\n",
              "      fill: #174EA6;\n",
              "    }\n",
              "\n",
              "    [theme=dark] .colab-df-convert {\n",
              "      background-color: #3B4455;\n",
              "      fill: #D2E3FC;\n",
              "    }\n",
              "\n",
              "    [theme=dark] .colab-df-convert:hover {\n",
              "      background-color: #434B5C;\n",
              "      box-shadow: 0px 1px 3px 1px rgba(0, 0, 0, 0.15);\n",
              "      filter: drop-shadow(0px 1px 2px rgba(0, 0, 0, 0.3));\n",
              "      fill: #FFFFFF;\n",
              "    }\n",
              "  </style>\n",
              "\n",
              "      <script>\n",
              "        const buttonEl =\n",
              "          document.querySelector('#df-45abcaa7-0776-4645-9553-f966969a500c button.colab-df-convert');\n",
              "        buttonEl.style.display =\n",
              "          google.colab.kernel.accessAllowed ? 'block' : 'none';\n",
              "\n",
              "        async function convertToInteractive(key) {\n",
              "          const element = document.querySelector('#df-45abcaa7-0776-4645-9553-f966969a500c');\n",
              "          const dataTable =\n",
              "            await google.colab.kernel.invokeFunction('convertToInteractive',\n",
              "                                                     [key], {});\n",
              "          if (!dataTable) return;\n",
              "\n",
              "          const docLinkHtml = 'Like what you see? Visit the ' +\n",
              "            '<a target=\"_blank\" href=https://colab.research.google.com/notebooks/data_table.ipynb>data table notebook</a>'\n",
              "            + ' to learn more about interactive tables.';\n",
              "          element.innerHTML = '';\n",
              "          dataTable['output_type'] = 'display_data';\n",
              "          await google.colab.output.renderOutput(dataTable, element);\n",
              "          const docLink = document.createElement('div');\n",
              "          docLink.innerHTML = docLinkHtml;\n",
              "          element.appendChild(docLink);\n",
              "        }\n",
              "      </script>\n",
              "    </div>\n",
              "  </div>\n",
              "  "
            ]
          },
          "metadata": {},
          "execution_count": 7
        }
      ]
    },
    {
      "cell_type": "code",
      "source": [
        "# Plot an area chart\n",
        "plt.figure(figsize=(25,10))\n",
        "ax = df.plot.area(fontsize=12);\n",
        "\n",
        "# Additional customizations\n",
        "ax.set_xlabel('date');\n",
        "ax.legend(fontsize=12);"
      ],
      "metadata": {
        "colab": {
          "base_uri": "https://localhost:8080/",
          "height": 379
        },
        "id": "pnKg-SfY6j9g",
        "outputId": "29bd3528-b271-43d7-cb64-c2bf2fcb4e17"
      },
      "execution_count": 8,
      "outputs": [
        {
          "output_type": "display_data",
          "data": {
            "text/plain": [
              "<Figure size 1800x720 with 0 Axes>"
            ]
          },
          "metadata": {}
        },
        {
          "output_type": "display_data",
          "data": {
            "text/plain": [
              "<Figure size 720x360 with 1 Axes>"
            ],
            "image/png": "[encoded data removed]"
          },
          "metadata": {}
        }
      ]
    },
    {
      "cell_type": "markdown",
      "source": [
        "##**Convolutional Neural Network Forecasting Technique (CNN)**"
      ],
      "metadata": {
        "id": "dPoGjuS366Cc"
      }
    },
    {
      "cell_type": "markdown",
      "source": [
        "###**Split Data into Train Test Segments**"
      ],
      "metadata": {
        "id": "vFpT6OrD7KRv"
      }
    },
    {
      "cell_type": "code",
      "source": [
        "train_size = int(len(df) * 0.8)\n",
        "test_size = len(df) - train_size\n",
        "train, test = df.iloc[0:train_size], df.iloc[train_size:len(df)]\n",
        "print('Train size:',len(train))\n",
        "print('Test size:', len(test))"
      ],
      "metadata": {
        "colab": {
          "base_uri": "https://localhost:8080/"
        },
        "id": "nYZL-9Sy3xpJ",
        "outputId": "ddec6a64-9071-4ebd-ffca-53320baac760"
      },
      "execution_count": 9,
      "outputs": [
        {
          "output_type": "stream",
          "name": "stdout",
          "text": [
            "Train size: 99\n",
            "Test size: 25\n"
          ]
        }
      ]
    },
    {
      "cell_type": "code",
      "source": [
        "split_date = '2019-02'\n",
        "df_training = df.loc[df.index <= split_date]\n",
        "df_test = df.loc[df.index > split_date]\n",
        "print(f\"{len(df_training)} days of training data \\n {len(df_test)} days of testing data \")"
      ],
      "metadata": {
        "colab": {
          "base_uri": "https://localhost:8080/"
        },
        "id": "qKDDSdp_JVu6",
        "outputId": "98ff7185-5d40-4ce5-8b47-474c8b57ce26"
      },
      "execution_count": 10,
      "outputs": [
        {
          "output_type": "stream",
          "name": "stdout",
          "text": [
            "99 days of training data \n",
            " 25 days of testing data \n"
          ]
        }
      ]
    },
    {
      "cell_type": "code",
      "source": [
        "train, test = df.iloc[0:train_size], df.iloc[train_size:len(df)]\n",
        "print(len(train), len(test))"
      ],
      "metadata": {
        "colab": {
          "base_uri": "https://localhost:8080/"
        },
        "id": "DGrD2nxFmNSu",
        "outputId": "5e7fc353-8e44-484e-d13b-35b89da49313"
      },
      "execution_count": 11,
      "outputs": [
        {
          "output_type": "stream",
          "name": "stdout",
          "text": [
            "99 25\n"
          ]
        }
      ]
    },
    {
      "cell_type": "code",
      "source": [
        "print(train.shape)\n",
        "train.head()"
      ],
      "metadata": {
        "colab": {
          "base_uri": "https://localhost:8080/",
          "height": 248
        },
        "id": "QvbHy-5RmPuI",
        "outputId": "509eb1b1-a301-4238-a0e9-95a5acd9963f"
      },
      "execution_count": 12,
      "outputs": [
        {
          "output_type": "stream",
          "name": "stdout",
          "text": [
            "(99, 7)\n"
          ]
        },
        {
          "output_type": "execute_result",
          "data": {
            "text/plain": [
              "            cpo_pri  cno_pri  oli_pri  rps_pri  pno_pri  sbo_pri  sfo_pri\n",
              "date                                                                     \n",
              "2010-12-01      323      455  3102.61   423.45    844.0    468.0    578.0\n",
              "2011-01-01      345      546  3100.45   415.85    799.0    485.0    557.0\n",
              "2011-02-01      362      595  3199.41   410.77    718.0    466.0    552.0\n",
              "2011-03-01      376      636  3281.67   414.82    614.0    442.0    574.0\n",
              "2011-04-01      383      738  3261.65   451.04    619.0    429.0    595.0"
            ],
            "text/html": [
              "\n",
              "  <div id=\"df-598f5672-310a-4f3e-b2bd-684a842bdbb8\">\n",
              "    <div class=\"colab-df-container\">\n",
              "      <div>\n",
              "<style scoped>\n",
              "    .dataframe tbody tr th:only-of-type {\n",
              "        vertical-align: middle;\n",
              "    }\n",
              "\n",
              "    .dataframe tbody tr th {\n",
              "        vertical-align: top;\n",
              "    }\n",
              "\n",
              "    .dataframe thead th {\n",
              "        text-align: right;\n",
              "    }\n",
              "</style>\n",
              "<table border=\"1\" class=\"dataframe\">\n",
              "  <thead>\n",
              "    <tr style=\"text-align: right;\">\n",
              "      <th></th>\n",
              "      <th>cpo_pri</th>\n",
              "      <th>cno_pri</th>\n",
              "      <th>oli_pri</th>\n",
              "      <th>rps_pri</th>\n",
              "      <th>pno_pri</th>\n",
              "      <th>sbo_pri</th>\n",
              "      <th>sfo_pri</th>\n",
              "    </tr>\n",
              "    <tr>\n",
              "      <th>date</th>\n",
              "      <th></th>\n",
              "      <th></th>\n",
              "      <th></th>\n",
              "      <th></th>\n",
              "      <th></th>\n",
              "      <th></th>\n",
              "      <th></th>\n",
              "    </tr>\n",
              "  </thead>\n",
              "  <tbody>\n",
              "    <tr>\n",
              "      <th>2010-12-01</th>\n",
              "      <td>323</td>\n",
              "      <td>455</td>\n",
              "      <td>3102.61</td>\n",
              "      <td>423.45</td>\n",
              "      <td>844.0</td>\n",
              "      <td>468.0</td>\n",
              "      <td>578.0</td>\n",
              "    </tr>\n",
              "    <tr>\n",
              "      <th>2011-01-01</th>\n",
              "      <td>345</td>\n",
              "      <td>546</td>\n",
              "      <td>3100.45</td>\n",
              "      <td>415.85</td>\n",
              "      <td>799.0</td>\n",
              "      <td>485.0</td>\n",
              "      <td>557.0</td>\n",
              "    </tr>\n",
              "    <tr>\n",
              "      <th>2011-02-01</th>\n",
              "      <td>362</td>\n",
              "      <td>595</td>\n",
              "      <td>3199.41</td>\n",
              "      <td>410.77</td>\n",
              "      <td>718.0</td>\n",
              "      <td>466.0</td>\n",
              "      <td>552.0</td>\n",
              "    </tr>\n",
              "    <tr>\n",
              "      <th>2011-03-01</th>\n",
              "      <td>376</td>\n",
              "      <td>636</td>\n",
              "      <td>3281.67</td>\n",
              "      <td>414.82</td>\n",
              "      <td>614.0</td>\n",
              "      <td>442.0</td>\n",
              "      <td>574.0</td>\n",
              "    </tr>\n",
              "    <tr>\n",
              "      <th>2011-04-01</th>\n",
              "      <td>383</td>\n",
              "      <td>738</td>\n",
              "      <td>3261.65</td>\n",
              "      <td>451.04</td>\n",
              "      <td>619.0</td>\n",
              "      <td>429.0</td>\n",
              "      <td>595.0</td>\n",
              "    </tr>\n",
              "  </tbody>\n",
              "</table>\n",
              "</div>\n",
              "      <button class=\"colab-df-convert\" onclick=\"convertToInteractive('df-598f5672-310a-4f3e-b2bd-684a842bdbb8')\"\n",
              "              title=\"Convert this dataframe to an interactive table.\"\n",
              "              style=\"display:none;\">\n",
              "        \n",
              "  <svg xmlns=\"http://www.w3.org/2000/svg\" height=\"24px\"viewBox=\"0 0 24 24\"\n",
              "       width=\"24px\">\n",
              "    <path d=\"M0 0h24v24H0V0z\" fill=\"none\"/>\n",
              "    <path d=\"M18.56 5.44l.94 2.06.94-2.06 2.06-.94-2.06-.94-.94-2.06-.94 2.06-2.06.94zm-11 1L8.5 8.5l.94-2.06 2.06-.94-2.06-.94L8.5 2.5l-.94 2.06-2.06.94zm10 10l.94 2.06.94-2.06 2.06-.94-2.06-.94-.94-2.06-.94 2.06-2.06.94z\"/><path d=\"M17.41 7.96l-1.37-1.37c-.4-.4-.92-.59-1.43-.59-.52 0-1.04.2-1.43.59L10.3 9.45l-7.72 7.72c-.78.78-.78 2.05 0 2.83L4 21.41c.39.39.9.59 1.41.59.51 0 1.02-.2 1.41-.59l7.78-7.78 2.81-2.81c.8-.78.8-2.07 0-2.86zM5.41 20L4 18.59l7.72-7.72 1.47 1.35L5.41 20z\"/>\n",
              "  </svg>\n",
              "      </button>\n",
              "      \n",
              "  <style>\n",
              "    .colab-df-container {\n",
              "      display:flex;\n",
              "      flex-wrap:wrap;\n",
              "      gap: 12px;\n",
              "    }\n",
              "\n",
              "    .colab-df-convert {\n",
              "      background-color: #E8F0FE;\n",
              "      border: none;\n",
              "      border-radius: 50%;\n",
              "      cursor: pointer;\n",
              "      display: none;\n",
              "      fill: #1967D2;\n",
              "      height: 32px;\n",
              "      padding: 0 0 0 0;\n",
              "      width: 32px;\n",
              "    }\n",
              "\n",
              "    .colab-df-convert:hover {\n",
              "      background-color: #E2EBFA;\n",
              "      box-shadow: 0px 1px 2px rgba(60, 64, 67, 0.3), 0px 1px 3px 1px rgba(60, 64, 67, 0.15);\n",
              "      fill: #174EA6;\n",
              "    }\n",
              "\n",
              "    [theme=dark] .colab-df-convert {\n",
              "      background-color: #3B4455;\n",
              "      fill: #D2E3FC;\n",
              "    }\n",
              "\n",
              "    [theme=dark] .colab-df-convert:hover {\n",
              "      background-color: #434B5C;\n",
              "      box-shadow: 0px 1px 3px 1px rgba(0, 0, 0, 0.15);\n",
              "      filter: drop-shadow(0px 1px 2px rgba(0, 0, 0, 0.3));\n",
              "      fill: #FFFFFF;\n",
              "    }\n",
              "  </style>\n",
              "\n",
              "      <script>\n",
              "        const buttonEl =\n",
              "          document.querySelector('#df-598f5672-310a-4f3e-b2bd-684a842bdbb8 button.colab-df-convert');\n",
              "        buttonEl.style.display =\n",
              "          google.colab.kernel.accessAllowed ? 'block' : 'none';\n",
              "\n",
              "        async function convertToInteractive(key) {\n",
              "          const element = document.querySelector('#df-598f5672-310a-4f3e-b2bd-684a842bdbb8');\n",
              "          const dataTable =\n",
              "            await google.colab.kernel.invokeFunction('convertToInteractive',\n",
              "                                                     [key], {});\n",
              "          if (!dataTable) return;\n",
              "\n",
              "          const docLinkHtml = 'Like what you see? Visit the ' +\n",
              "            '<a target=\"_blank\" href=https://colab.research.google.com/notebooks/data_table.ipynb>data table notebook</a>'\n",
              "            + ' to learn more about interactive tables.';\n",
              "          element.innerHTML = '';\n",
              "          dataTable['output_type'] = 'display_data';\n",
              "          await google.colab.output.renderOutput(dataTable, element);\n",
              "          const docLink = document.createElement('div');\n",
              "          docLink.innerHTML = docLinkHtml;\n",
              "          element.appendChild(docLink);\n",
              "        }\n",
              "      </script>\n",
              "    </div>\n",
              "  </div>\n",
              "  "
            ]
          },
          "metadata": {},
          "execution_count": 12
        }
      ]
    },
    {
      "cell_type": "markdown",
      "source": [
        "###Rescaling Training Data"
      ],
      "metadata": {
        "id": "Z5F4OyT2mwRs"
      }
    },
    {
      "cell_type": "code",
      "source": [
        "f_transformer = MinMaxScaler()\n",
        "feature_columns = ['cno_pri', 'oli_pri', 'rps_pri', 'pno_pri', 'sbo_pri', 'sfo_pri']\n",
        "f_transformer = f_transformer.fit(train[feature_columns].to_numpy())\n",
        "train.loc[:, feature_columns] = f_transformer.transform(train[feature_columns].to_numpy())\n",
        "train.head()"
      ],
      "metadata": {
        "colab": {
          "base_uri": "https://localhost:8080/",
          "height": 232
        },
        "id": "Lg-AQuNBmvZK",
        "outputId": "985255d5-187d-4c72-f9c1-a5c36c7c721b"
      },
      "execution_count": 13,
      "outputs": [
        {
          "output_type": "execute_result",
          "data": {
            "text/plain": [
              "            cpo_pri   cno_pri   oli_pri   rps_pri   pno_pri   sbo_pri  \\\n",
              "date                                                                    \n",
              "2010-12-01      323  0.112288  0.140918  0.010736  0.528090  0.253193   \n",
              "2011-01-01      345  0.305085  0.140327  0.004301  0.443820  0.306536   \n",
              "2011-02-01      362  0.408898  0.167408  0.000000  0.292135  0.246917   \n",
              "2011-03-01      376  0.495763  0.189919  0.003429  0.097378  0.171609   \n",
              "2011-04-01      383  0.711864  0.184440  0.034095  0.106742  0.130817   \n",
              "\n",
              "             sfo_pri  \n",
              "date                  \n",
              "2010-12-01  0.023302  \n",
              "2011-01-01  0.009321  \n",
              "2011-02-01  0.005992  \n",
              "2011-03-01  0.020639  \n",
              "2011-04-01  0.034621  "
            ],
            "text/html": [
              "\n",
              "  <div id=\"df-6aa43465-e827-4b3e-840c-689b7155b5e2\">\n",
              "    <div class=\"colab-df-container\">\n",
              "      <div>\n",
              "<style scoped>\n",
              "    .dataframe tbody tr th:only-of-type {\n",
              "        vertical-align: middle;\n",
              "    }\n",
              "\n",
              "    .dataframe tbody tr th {\n",
              "        vertical-align: top;\n",
              "    }\n",
              "\n",
              "    .dataframe thead th {\n",
              "        text-align: right;\n",
              "    }\n",
              "</style>\n",
              "<table border=\"1\" class=\"dataframe\">\n",
              "  <thead>\n",
              "    <tr style=\"text-align: right;\">\n",
              "      <th></th>\n",
              "      <th>cpo_pri</th>\n",
              "      <th>cno_pri</th>\n",
              "      <th>oli_pri</th>\n",
              "      <th>rps_pri</th>\n",
              "      <th>pno_pri</th>\n",
              "      <th>sbo_pri</th>\n",
              "      <th>sfo_pri</th>\n",
              "    </tr>\n",
              "    <tr>\n",
              "      <th>date</th>\n",
              "      <th></th>\n",
              "      <th></th>\n",
              "      <th></th>\n",
              "      <th></th>\n",
              "      <th></th>\n",
              "      <th></th>\n",
              "      <th></th>\n",
              "    </tr>\n",
              "  </thead>\n",
              "  <tbody>\n",
              "    <tr>\n",
              "      <th>2010-12-01</th>\n",
              "      <td>323</td>\n",
              "      <td>0.112288</td>\n",
              "      <td>0.140918</td>\n",
              "      <td>0.010736</td>\n",
              "      <td>0.528090</td>\n",
              "      <td>0.253193</td>\n",
              "      <td>0.023302</td>\n",
              "    </tr>\n",
              "    <tr>\n",
              "      <th>2011-01-01</th>\n",
              "      <td>345</td>\n",
              "      <td>0.305085</td>\n",
              "      <td>0.140327</td>\n",
              "      <td>0.004301</td>\n",
              "      <td>0.443820</td>\n",
              "      <td>0.306536</td>\n",
              "      <td>0.009321</td>\n",
              "    </tr>\n",
              "    <tr>\n",
              "      <th>2011-02-01</th>\n",
              "      <td>362</td>\n",
              "      <td>0.408898</td>\n",
              "      <td>0.167408</td>\n",
              "      <td>0.000000</td>\n",
              "      <td>0.292135</td>\n",
              "      <td>0.246917</td>\n",
              "      <td>0.005992</td>\n",
              "    </tr>\n",
              "    <tr>\n",
              "      <th>2011-03-01</th>\n",
              "      <td>376</td>\n",
              "      <td>0.495763</td>\n",
              "      <td>0.189919</td>\n",
              "      <td>0.003429</td>\n",
              "      <td>0.097378</td>\n",
              "      <td>0.171609</td>\n",
              "      <td>0.020639</td>\n",
              "    </tr>\n",
              "    <tr>\n",
              "      <th>2011-04-01</th>\n",
              "      <td>383</td>\n",
              "      <td>0.711864</td>\n",
              "      <td>0.184440</td>\n",
              "      <td>0.034095</td>\n",
              "      <td>0.106742</td>\n",
              "      <td>0.130817</td>\n",
              "      <td>0.034621</td>\n",
              "    </tr>\n",
              "  </tbody>\n",
              "</table>\n",
              "</div>\n",
              "      <button class=\"colab-df-convert\" onclick=\"convertToInteractive('df-6aa43465-e827-4b3e-840c-689b7155b5e2')\"\n",
              "              title=\"Convert this dataframe to an interactive table.\"\n",
              "              style=\"display:none;\">\n",
              "        \n",
              "  <svg xmlns=\"http://www.w3.org/2000/svg\" height=\"24px\"viewBox=\"0 0 24 24\"\n",
              "       width=\"24px\">\n",
              "    <path d=\"M0 0h24v24H0V0z\" fill=\"none\"/>\n",
              "    <path d=\"M18.56 5.44l.94 2.06.94-2.06 2.06-.94-2.06-.94-.94-2.06-.94 2.06-2.06.94zm-11 1L8.5 8.5l.94-2.06 2.06-.94-2.06-.94L8.5 2.5l-.94 2.06-2.06.94zm10 10l.94 2.06.94-2.06 2.06-.94-2.06-.94-.94-2.06-.94 2.06-2.06.94z\"/><path d=\"M17.41 7.96l-1.37-1.37c-.4-.4-.92-.59-1.43-.59-.52 0-1.04.2-1.43.59L10.3 9.45l-7.72 7.72c-.78.78-.78 2.05 0 2.83L4 21.41c.39.39.9.59 1.41.59.51 0 1.02-.2 1.41-.59l7.78-7.78 2.81-2.81c.8-.78.8-2.07 0-2.86zM5.41 20L4 18.59l7.72-7.72 1.47 1.35L5.41 20z\"/>\n",
              "  </svg>\n",
              "      </button>\n",
              "      \n",
              "  <style>\n",
              "    .colab-df-container {\n",
              "      display:flex;\n",
              "      flex-wrap:wrap;\n",
              "      gap: 12px;\n",
              "    }\n",
              "\n",
              "    .colab-df-convert {\n",
              "      background-color: #E8F0FE;\n",
              "      border: none;\n",
              "      border-radius: 50%;\n",
              "      cursor: pointer;\n",
              "      display: none;\n",
              "      fill: #1967D2;\n",
              "      height: 32px;\n",
              "      padding: 0 0 0 0;\n",
              "      width: 32px;\n",
              "    }\n",
              "\n",
              "    .colab-df-convert:hover {\n",
              "      background-color: #E2EBFA;\n",
              "      box-shadow: 0px 1px 2px rgba(60, 64, 67, 0.3), 0px 1px 3px 1px rgba(60, 64, 67, 0.15);\n",
              "      fill: #174EA6;\n",
              "    }\n",
              "\n",
              "    [theme=dark] .colab-df-convert {\n",
              "      background-color: #3B4455;\n",
              "      fill: #D2E3FC;\n",
              "    }\n",
              "\n",
              "    [theme=dark] .colab-df-convert:hover {\n",
              "      background-color: #434B5C;\n",
              "      box-shadow: 0px 1px 3px 1px rgba(0, 0, 0, 0.15);\n",
              "      filter: drop-shadow(0px 1px 2px rgba(0, 0, 0, 0.3));\n",
              "      fill: #FFFFFF;\n",
              "    }\n",
              "  </style>\n",
              "\n",
              "      <script>\n",
              "        const buttonEl =\n",
              "          document.querySelector('#df-6aa43465-e827-4b3e-840c-689b7155b5e2 button.colab-df-convert');\n",
              "        buttonEl.style.display =\n",
              "          google.colab.kernel.accessAllowed ? 'block' : 'none';\n",
              "\n",
              "        async function convertToInteractive(key) {\n",
              "          const element = document.querySelector('#df-6aa43465-e827-4b3e-840c-689b7155b5e2');\n",
              "          const dataTable =\n",
              "            await google.colab.kernel.invokeFunction('convertToInteractive',\n",
              "                                                     [key], {});\n",
              "          if (!dataTable) return;\n",
              "\n",
              "          const docLinkHtml = 'Like what you see? Visit the ' +\n",
              "            '<a target=\"_blank\" href=https://colab.research.google.com/notebooks/data_table.ipynb>data table notebook</a>'\n",
              "            + ' to learn more about interactive tables.';\n",
              "          element.innerHTML = '';\n",
              "          dataTable['output_type'] = 'display_data';\n",
              "          await google.colab.output.renderOutput(dataTable, element);\n",
              "          const docLink = document.createElement('div');\n",
              "          docLink.innerHTML = docLinkHtml;\n",
              "          element.appendChild(docLink);\n",
              "        }\n",
              "      </script>\n",
              "    </div>\n",
              "  </div>\n",
              "  "
            ]
          },
          "metadata": {},
          "execution_count": 13
        }
      ]
    },
    {
      "cell_type": "code",
      "source": [
        "cpo_pri_transformer = MinMaxScaler()\n",
        "cpo_pri_transformer = cpo_pri_transformer.fit(train[['cpo_pri']])\n",
        "train['cpo_pri'] = cpo_pri_transformer.transform(train[['cpo_pri']])\n",
        "train['cpo_pri'].head()"
      ],
      "metadata": {
        "colab": {
          "base_uri": "https://localhost:8080/"
        },
        "id": "XNkE4gN9nJLt",
        "outputId": "10ce3847-91f6-4856-b7c5-991fdc986154"
      },
      "execution_count": 14,
      "outputs": [
        {
          "output_type": "execute_result",
          "data": {
            "text/plain": [
              "date\n",
              "2010-12-01    0.0100\n",
              "2011-01-01    0.0650\n",
              "2011-02-01    0.1075\n",
              "2011-03-01    0.1425\n",
              "2011-04-01    0.1600\n",
              "Name: cpo_pri, dtype: float64"
            ]
          },
          "metadata": {},
          "execution_count": 14
        }
      ]
    },
    {
      "cell_type": "code",
      "source": [
        "test.loc[:, feature_columns] = f_transformer.transform(test[feature_columns].to_numpy())\n",
        "test.head()"
      ],
      "metadata": {
        "colab": {
          "base_uri": "https://localhost:8080/",
          "height": 232
        },
        "id": "aouQuJG5n6k8",
        "outputId": "63aaa969-c608-41ac-beea-053e635b9c95"
      },
      "execution_count": 15,
      "outputs": [
        {
          "output_type": "execute_result",
          "data": {
            "text/plain": [
              "            cpo_pri   cno_pri   oli_pri   rps_pri   pno_pri   sbo_pri  \\\n",
              "date                                                                    \n",
              "2019-03-01      354  0.637712  0.194855  0.382454  0.381292 -0.039662   \n",
              "2019-04-01      348  0.533898  0.264388  0.393951  0.213633 -0.054975   \n",
              "2019-05-01      332  0.400424  0.246417  0.453802  0.235262 -0.092159   \n",
              "2019-06-01      349  0.317797  0.234308  0.509834  0.320749 -0.074743   \n",
              "2019-07-01      372  0.313559  0.223422  0.526454  0.426610 -0.066114   \n",
              "\n",
              "             sfo_pri  \n",
              "date                  \n",
              "2019-03-01  0.493342  \n",
              "2019-04-01  0.597870  \n",
              "2019-05-01  0.606525  \n",
              "2019-06-01  0.631824  \n",
              "2019-07-01  0.773462  "
            ],
            "text/html": [
              "\n",
              "  <div id=\"df-6c0ede7b-ad62-420a-a425-83659d811fad\">\n",
              "    <div class=\"colab-df-container\">\n",
              "      <div>\n",
              "<style scoped>\n",
              "    .dataframe tbody tr th:only-of-type {\n",
              "        vertical-align: middle;\n",
              "    }\n",
              "\n",
              "    .dataframe tbody tr th {\n",
              "        vertical-align: top;\n",
              "    }\n",
              "\n",
              "    .dataframe thead th {\n",
              "        text-align: right;\n",
              "    }\n",
              "</style>\n",
              "<table border=\"1\" class=\"dataframe\">\n",
              "  <thead>\n",
              "    <tr style=\"text-align: right;\">\n",
              "      <th></th>\n",
              "      <th>cpo_pri</th>\n",
              "      <th>cno_pri</th>\n",
              "      <th>oli_pri</th>\n",
              "      <th>rps_pri</th>\n",
              "      <th>pno_pri</th>\n",
              "      <th>sbo_pri</th>\n",
              "      <th>sfo_pri</th>\n",
              "    </tr>\n",
              "    <tr>\n",
              "      <th>date</th>\n",
              "      <th></th>\n",
              "      <th></th>\n",
              "      <th></th>\n",
              "      <th></th>\n",
              "      <th></th>\n",
              "      <th></th>\n",
              "      <th></th>\n",
              "    </tr>\n",
              "  </thead>\n",
              "  <tbody>\n",
              "    <tr>\n",
              "      <th>2019-03-01</th>\n",
              "      <td>354</td>\n",
              "      <td>0.637712</td>\n",
              "      <td>0.194855</td>\n",
              "      <td>0.382454</td>\n",
              "      <td>0.381292</td>\n",
              "      <td>-0.039662</td>\n",
              "      <td>0.493342</td>\n",
              "    </tr>\n",
              "    <tr>\n",
              "      <th>2019-04-01</th>\n",
              "      <td>348</td>\n",
              "      <td>0.533898</td>\n",
              "      <td>0.264388</td>\n",
              "      <td>0.393951</td>\n",
              "      <td>0.213633</td>\n",
              "      <td>-0.054975</td>\n",
              "      <td>0.597870</td>\n",
              "    </tr>\n",
              "    <tr>\n",
              "      <th>2019-05-01</th>\n",
              "      <td>332</td>\n",
              "      <td>0.400424</td>\n",
              "      <td>0.246417</td>\n",
              "      <td>0.453802</td>\n",
              "      <td>0.235262</td>\n",
              "      <td>-0.092159</td>\n",
              "      <td>0.606525</td>\n",
              "    </tr>\n",
              "    <tr>\n",
              "      <th>2019-06-01</th>\n",
              "      <td>349</td>\n",
              "      <td>0.317797</td>\n",
              "      <td>0.234308</td>\n",
              "      <td>0.509834</td>\n",
              "      <td>0.320749</td>\n",
              "      <td>-0.074743</td>\n",
              "      <td>0.631824</td>\n",
              "    </tr>\n",
              "    <tr>\n",
              "      <th>2019-07-01</th>\n",
              "      <td>372</td>\n",
              "      <td>0.313559</td>\n",
              "      <td>0.223422</td>\n",
              "      <td>0.526454</td>\n",
              "      <td>0.426610</td>\n",
              "      <td>-0.066114</td>\n",
              "      <td>0.773462</td>\n",
              "    </tr>\n",
              "  </tbody>\n",
              "</table>\n",
              "</div>\n",
              "      <button class=\"colab-df-convert\" onclick=\"convertToInteractive('df-6c0ede7b-ad62-420a-a425-83659d811fad')\"\n",
              "              title=\"Convert this dataframe to an interactive table.\"\n",
              "              style=\"display:none;\">\n",
              "        \n",
              "  <svg xmlns=\"http://www.w3.org/2000/svg\" height=\"24px\"viewBox=\"0 0 24 24\"\n",
              "       width=\"24px\">\n",
              "    <path d=\"M0 0h24v24H0V0z\" fill=\"none\"/>\n",
              "    <path d=\"M18.56 5.44l.94 2.06.94-2.06 2.06-.94-2.06-.94-.94-2.06-.94 2.06-2.06.94zm-11 1L8.5 8.5l.94-2.06 2.06-.94-2.06-.94L8.5 2.5l-.94 2.06-2.06.94zm10 10l.94 2.06.94-2.06 2.06-.94-2.06-.94-.94-2.06-.94 2.06-2.06.94z\"/><path d=\"M17.41 7.96l-1.37-1.37c-.4-.4-.92-.59-1.43-.59-.52 0-1.04.2-1.43.59L10.3 9.45l-7.72 7.72c-.78.78-.78 2.05 0 2.83L4 21.41c.39.39.9.59 1.41.59.51 0 1.02-.2 1.41-.59l7.78-7.78 2.81-2.81c.8-.78.8-2.07 0-2.86zM5.41 20L4 18.59l7.72-7.72 1.47 1.35L5.41 20z\"/>\n",
              "  </svg>\n",
              "      </button>\n",
              "      \n",
              "  <style>\n",
              "    .colab-df-container {\n",
              "      display:flex;\n",
              "      flex-wrap:wrap;\n",
              "      gap: 12px;\n",
              "    }\n",
              "\n",
              "    .colab-df-convert {\n",
              "      background-color: #E8F0FE;\n",
              "      border: none;\n",
              "      border-radius: 50%;\n",
              "      cursor: pointer;\n",
              "      display: none;\n",
              "      fill: #1967D2;\n",
              "      height: 32px;\n",
              "      padding: 0 0 0 0;\n",
              "      width: 32px;\n",
              "    }\n",
              "\n",
              "    .colab-df-convert:hover {\n",
              "      background-color: #E2EBFA;\n",
              "      box-shadow: 0px 1px 2px rgba(60, 64, 67, 0.3), 0px 1px 3px 1px rgba(60, 64, 67, 0.15);\n",
              "      fill: #174EA6;\n",
              "    }\n",
              "\n",
              "    [theme=dark] .colab-df-convert {\n",
              "      background-color: #3B4455;\n",
              "      fill: #D2E3FC;\n",
              "    }\n",
              "\n",
              "    [theme=dark] .colab-df-convert:hover {\n",
              "      background-color: #434B5C;\n",
              "      box-shadow: 0px 1px 3px 1px rgba(0, 0, 0, 0.15);\n",
              "      filter: drop-shadow(0px 1px 2px rgba(0, 0, 0, 0.3));\n",
              "      fill: #FFFFFF;\n",
              "    }\n",
              "  </style>\n",
              "\n",
              "      <script>\n",
              "        const buttonEl =\n",
              "          document.querySelector('#df-6c0ede7b-ad62-420a-a425-83659d811fad button.colab-df-convert');\n",
              "        buttonEl.style.display =\n",
              "          google.colab.kernel.accessAllowed ? 'block' : 'none';\n",
              "\n",
              "        async function convertToInteractive(key) {\n",
              "          const element = document.querySelector('#df-6c0ede7b-ad62-420a-a425-83659d811fad');\n",
              "          const dataTable =\n",
              "            await google.colab.kernel.invokeFunction('convertToInteractive',\n",
              "                                                     [key], {});\n",
              "          if (!dataTable) return;\n",
              "\n",
              "          const docLinkHtml = 'Like what you see? Visit the ' +\n",
              "            '<a target=\"_blank\" href=https://colab.research.google.com/notebooks/data_table.ipynb>data table notebook</a>'\n",
              "            + ' to learn more about interactive tables.';\n",
              "          element.innerHTML = '';\n",
              "          dataTable['output_type'] = 'display_data';\n",
              "          await google.colab.output.renderOutput(dataTable, element);\n",
              "          const docLink = document.createElement('div');\n",
              "          docLink.innerHTML = docLinkHtml;\n",
              "          element.appendChild(docLink);\n",
              "        }\n",
              "      </script>\n",
              "    </div>\n",
              "  </div>\n",
              "  "
            ]
          },
          "metadata": {},
          "execution_count": 15
        }
      ]
    },
    {
      "cell_type": "code",
      "source": [
        "test['cpo_pri'] = cpo_pri_transformer.transform(test[['cpo_pri']])\n",
        "test['cpo_pri'].head()"
      ],
      "metadata": {
        "colab": {
          "base_uri": "https://localhost:8080/"
        },
        "id": "GXgFSrz3n6o5",
        "outputId": "32d9e15a-6672-429b-c496-9a2a3cf7ff2a"
      },
      "execution_count": 16,
      "outputs": [
        {
          "output_type": "execute_result",
          "data": {
            "text/plain": [
              "date\n",
              "2019-03-01    0.0875\n",
              "2019-04-01    0.0725\n",
              "2019-05-01    0.0325\n",
              "2019-06-01    0.0750\n",
              "2019-07-01    0.1325\n",
              "Name: cpo_pri, dtype: float64"
            ]
          },
          "metadata": {},
          "execution_count": 16
        }
      ]
    },
    {
      "cell_type": "markdown",
      "source": [
        "###Create X_train, y_train, X_test and y_test"
      ],
      "metadata": {
        "id": "p_2s3AO-ohCD"
      }
    },
    {
      "cell_type": "code",
      "source": [
        "def createDataset(X, y, time_steps):\n",
        "    Xs, ys = [], []\n",
        "    for i in range(len(X) - time_steps):\n",
        "        data = X.iloc[i:(i + time_steps)].values\n",
        "        Xs.append(data)        \n",
        "        ys.append(y.iloc[i + time_steps])\n",
        "        \n",
        "    return np.array(Xs), np.array(ys)\n",
        "\n",
        "time_steps = 3\n",
        "X_train, y_train = createDataset(train, train.cpo_pri, time_steps)\n",
        "X_test, y_test = createDataset(test, test.cpo_pri, time_steps)\n",
        "print(X_train.shape, y_train.shape)"
      ],
      "metadata": {
        "colab": {
          "base_uri": "https://localhost:8080/"
        },
        "id": "fGTyTKiYoJIb",
        "outputId": "7521d8ee-c1ae-422c-cb93-fde06214e87b"
      },
      "execution_count": 28,
      "outputs": [
        {
          "output_type": "stream",
          "name": "stdout",
          "text": [
            "(96, 3, 7) (96,)\n"
          ]
        }
      ]
    },
    {
      "cell_type": "code",
      "source": [
        "#test_lag = test[1:23]\n",
        "#len(test) - 1"
      ],
      "metadata": {
        "id": "dt_elxfcLh_b"
      },
      "execution_count": null,
      "outputs": []
    },
    {
      "cell_type": "code",
      "source": [
        "#decrement naturally.\n",
        "#shifted = test.set_index([\"date\"]).unstack().shift(3).stack()"
      ],
      "metadata": {
        "id": "BqpvIj_hKO30"
      },
      "execution_count": null,
      "outputs": []
    },
    {
      "cell_type": "code",
      "source": [
        "cnn_model = tf.keras.Sequential()\n",
        "cnn_model.add(tf.keras.layers.Conv1D(filters=64, kernel_size=2, activation='tanh', input_shape=(X_test.shape[1], X_test.shape[2])))\n",
        "cnn_model.add(tf.keras.layers.MaxPooling1D(pool_size=2))\n",
        "cnn_model.add(tf.keras.layers.Flatten())\n",
        "cnn_model.add(tf.keras.layers.Dense(64, activation='tanh'))\n",
        "cnn_model.add(tf.keras.layers.Dense(1, 'linear'))\n",
        "\n",
        "# compile model using adam\n",
        "cnn_model.compile(optimizer='adam',loss='mse',metrics=['mse'])\n",
        "# model training\n",
        "history = cnn_model.fit(X_train, y_train, epochs=300, batch_size = 128, validation_split=0.2) #epochs = 30, batch_size = 60\n",
        "\n",
        "# model evaluation\n",
        "cnn_model.evaluate(X_test, y_test)\n",
        "\n",
        "\n",
        "#cnn_model.compile(loss='mse', optimizer='adam')\n",
        "#cnn_model.summary()\n",
        "#bst -> epochs = 300, batch_size = 128, RMSE = 32\n",
        "#bst -> epochs = 350, batch_size = 100, RMSE = 36\n",
        "#bst -> epochs = 400, batch_size = 128, RMSE = 39"
      ],
      "metadata": {
        "id": "EkQPUIAQOvX9",
        "outputId": "fd3526f3-1704-4156-a8cf-ccd4bdc60c4c",
        "colab": {
          "base_uri": "https://localhost:8080/"
        }
      },
      "execution_count": 29,
      "outputs": [
        {
          "output_type": "stream",
          "name": "stdout",
          "text": [
            "Epoch 1/300\n",
            "1/1 [==============================] - 1s 515ms/step - loss: 0.3423 - mse: 0.3423 - val_loss: 0.2980 - val_mse: 0.2980\n",
            "Epoch 2/300\n",
            "1/1 [==============================] - 0s 25ms/step - loss: 0.1818 - mse: 0.1818 - val_loss: 0.1487 - val_mse: 0.1487\n",
            "Epoch 3/300\n",
            "1/1 [==============================] - 0s 30ms/step - loss: 0.0778 - mse: 0.0778 - val_loss: 0.0632 - val_mse: 0.0632\n",
            "Epoch 4/300\n",
            "1/1 [==============================] - 0s 27ms/step - loss: 0.0271 - mse: 0.0271 - val_loss: 0.0318 - val_mse: 0.0318\n",
            "Epoch 5/300\n",
            "1/1 [==============================] - 0s 26ms/step - loss: 0.0205 - mse: 0.0205 - val_loss: 0.0363 - val_mse: 0.0363\n",
            "Epoch 6/300\n",
            "1/1 [==============================] - 0s 25ms/step - loss: 0.0407 - mse: 0.0407 - val_loss: 0.0535 - val_mse: 0.0535\n",
            "Epoch 7/300\n",
            "1/1 [==============================] - 0s 25ms/step - loss: 0.0662 - mse: 0.0662 - val_loss: 0.0654 - val_mse: 0.0654\n",
            "Epoch 8/300\n",
            "1/1 [==============================] - 0s 25ms/step - loss: 0.0811 - mse: 0.0811 - val_loss: 0.0654 - val_mse: 0.0654\n",
            "Epoch 9/300\n",
            "1/1 [==============================] - 0s 26ms/step - loss: 0.0807 - mse: 0.0807 - val_loss: 0.0558 - val_mse: 0.0558\n",
            "Epoch 10/300\n",
            "1/1 [==============================] - 0s 26ms/step - loss: 0.0685 - mse: 0.0685 - val_loss: 0.0423 - val_mse: 0.0423\n",
            "Epoch 11/300\n",
            "1/1 [==============================] - 0s 24ms/step - loss: 0.0505 - mse: 0.0505 - val_loss: 0.0305 - val_mse: 0.0305\n",
            "Epoch 12/300\n",
            "1/1 [==============================] - 0s 25ms/step - loss: 0.0327 - mse: 0.0327 - val_loss: 0.0243 - val_mse: 0.0243\n",
            "Epoch 13/300\n",
            "1/1 [==============================] - 0s 26ms/step - loss: 0.0192 - mse: 0.0192 - val_loss: 0.0254 - val_mse: 0.0254\n",
            "Epoch 14/300\n",
            "1/1 [==============================] - 0s 26ms/step - loss: 0.0121 - mse: 0.0121 - val_loss: 0.0331 - val_mse: 0.0331\n",
            "Epoch 15/300\n",
            "1/1 [==============================] - 0s 31ms/step - loss: 0.0115 - mse: 0.0115 - val_loss: 0.0447 - val_mse: 0.0447\n",
            "Epoch 16/300\n",
            "1/1 [==============================] - 0s 25ms/step - loss: 0.0156 - mse: 0.0156 - val_loss: 0.0569 - val_mse: 0.0569\n",
            "Epoch 17/300\n",
            "1/1 [==============================] - 0s 33ms/step - loss: 0.0217 - mse: 0.0217 - val_loss: 0.0663 - val_mse: 0.0663\n",
            "Epoch 18/300\n",
            "1/1 [==============================] - 0s 25ms/step - loss: 0.0271 - mse: 0.0271 - val_loss: 0.0706 - val_mse: 0.0706\n",
            "Epoch 19/300\n",
            "1/1 [==============================] - 0s 24ms/step - loss: 0.0300 - mse: 0.0300 - val_loss: 0.0694 - val_mse: 0.0694\n",
            "Epoch 20/300\n",
            "1/1 [==============================] - 0s 25ms/step - loss: 0.0297 - mse: 0.0297 - val_loss: 0.0633 - val_mse: 0.0633\n",
            "Epoch 21/300\n",
            "1/1 [==============================] - 0s 26ms/step - loss: 0.0265 - mse: 0.0265 - val_loss: 0.0540 - val_mse: 0.0540\n",
            "Epoch 22/300\n",
            "1/1 [==============================] - 0s 25ms/step - loss: 0.0217 - mse: 0.0217 - val_loss: 0.0435 - val_mse: 0.0435\n",
            "Epoch 23/300\n",
            "1/1 [==============================] - 0s 25ms/step - loss: 0.0166 - mse: 0.0166 - val_loss: 0.0338 - val_mse: 0.0338\n",
            "Epoch 24/300\n",
            "1/1 [==============================] - 0s 28ms/step - loss: 0.0125 - mse: 0.0125 - val_loss: 0.0262 - val_mse: 0.0262\n",
            "Epoch 25/300\n",
            "1/1 [==============================] - 0s 26ms/step - loss: 0.0102 - mse: 0.0102 - val_loss: 0.0211 - val_mse: 0.0211\n",
            "Epoch 26/300\n",
            "1/1 [==============================] - 0s 24ms/step - loss: 0.0098 - mse: 0.0098 - val_loss: 0.0184 - val_mse: 0.0184\n",
            "Epoch 27/300\n",
            "1/1 [==============================] - 0s 25ms/step - loss: 0.0110 - mse: 0.0110 - val_loss: 0.0175 - val_mse: 0.0175\n",
            "Epoch 28/300\n",
            "1/1 [==============================] - 0s 23ms/step - loss: 0.0130 - mse: 0.0130 - val_loss: 0.0174 - val_mse: 0.0174\n",
            "Epoch 29/300\n",
            "1/1 [==============================] - 0s 30ms/step - loss: 0.0148 - mse: 0.0148 - val_loss: 0.0173 - val_mse: 0.0173\n",
            "Epoch 30/300\n",
            "1/1 [==============================] - 0s 25ms/step - loss: 0.0157 - mse: 0.0157 - val_loss: 0.0170 - val_mse: 0.0170\n",
            "Epoch 31/300\n",
            "1/1 [==============================] - 0s 25ms/step - loss: 0.0156 - mse: 0.0156 - val_loss: 0.0163 - val_mse: 0.0163\n",
            "Epoch 32/300\n",
            "1/1 [==============================] - 0s 24ms/step - loss: 0.0144 - mse: 0.0144 - val_loss: 0.0157 - val_mse: 0.0157\n",
            "Epoch 33/300\n",
            "1/1 [==============================] - 0s 30ms/step - loss: 0.0126 - mse: 0.0126 - val_loss: 0.0154 - val_mse: 0.0154\n",
            "Epoch 34/300\n",
            "1/1 [==============================] - 0s 25ms/step - loss: 0.0108 - mse: 0.0108 - val_loss: 0.0159 - val_mse: 0.0159\n",
            "Epoch 35/300\n",
            "1/1 [==============================] - 0s 26ms/step - loss: 0.0093 - mse: 0.0093 - val_loss: 0.0173 - val_mse: 0.0173\n",
            "Epoch 36/300\n",
            "1/1 [==============================] - 0s 24ms/step - loss: 0.0086 - mse: 0.0086 - val_loss: 0.0192 - val_mse: 0.0192\n",
            "Epoch 37/300\n",
            "1/1 [==============================] - 0s 29ms/step - loss: 0.0087 - mse: 0.0087 - val_loss: 0.0214 - val_mse: 0.0214\n",
            "Epoch 38/300\n",
            "1/1 [==============================] - 0s 25ms/step - loss: 0.0092 - mse: 0.0092 - val_loss: 0.0232 - val_mse: 0.0232\n",
            "Epoch 39/300\n",
            "1/1 [==============================] - 0s 25ms/step - loss: 0.0099 - mse: 0.0099 - val_loss: 0.0242 - val_mse: 0.0242\n",
            "Epoch 40/300\n",
            "1/1 [==============================] - 0s 29ms/step - loss: 0.0104 - mse: 0.0104 - val_loss: 0.0243 - val_mse: 0.0243\n",
            "Epoch 41/300\n",
            "1/1 [==============================] - 0s 27ms/step - loss: 0.0105 - mse: 0.0105 - val_loss: 0.0232 - val_mse: 0.0232\n",
            "Epoch 42/300\n",
            "1/1 [==============================] - 0s 26ms/step - loss: 0.0102 - mse: 0.0102 - val_loss: 0.0214 - val_mse: 0.0214\n",
            "Epoch 43/300\n",
            "1/1 [==============================] - 0s 25ms/step - loss: 0.0096 - mse: 0.0096 - val_loss: 0.0192 - val_mse: 0.0192\n",
            "Epoch 44/300\n",
            "1/1 [==============================] - 0s 25ms/step - loss: 0.0088 - mse: 0.0088 - val_loss: 0.0169 - val_mse: 0.0169\n",
            "Epoch 45/300\n",
            "1/1 [==============================] - 0s 25ms/step - loss: 0.0082 - mse: 0.0082 - val_loss: 0.0149 - val_mse: 0.0149\n",
            "Epoch 46/300\n",
            "1/1 [==============================] - 0s 44ms/step - loss: 0.0079 - mse: 0.0079 - val_loss: 0.0134 - val_mse: 0.0134\n",
            "Epoch 47/300\n",
            "1/1 [==============================] - 0s 33ms/step - loss: 0.0079 - mse: 0.0079 - val_loss: 0.0123 - val_mse: 0.0123\n",
            "Epoch 48/300\n",
            "1/1 [==============================] - 0s 26ms/step - loss: 0.0080 - mse: 0.0080 - val_loss: 0.0117 - val_mse: 0.0117\n",
            "Epoch 49/300\n",
            "1/1 [==============================] - 0s 26ms/step - loss: 0.0083 - mse: 0.0083 - val_loss: 0.0113 - val_mse: 0.0113\n",
            "Epoch 50/300\n",
            "1/1 [==============================] - 0s 25ms/step - loss: 0.0085 - mse: 0.0085 - val_loss: 0.0110 - val_mse: 0.0110\n",
            "Epoch 51/300\n",
            "1/1 [==============================] - 0s 25ms/step - loss: 0.0085 - mse: 0.0085 - val_loss: 0.0109 - val_mse: 0.0109\n",
            "Epoch 52/300\n",
            "1/1 [==============================] - 0s 25ms/step - loss: 0.0084 - mse: 0.0084 - val_loss: 0.0109 - val_mse: 0.0109\n",
            "Epoch 53/300\n",
            "1/1 [==============================] - 0s 32ms/step - loss: 0.0081 - mse: 0.0081 - val_loss: 0.0110 - val_mse: 0.0110\n",
            "Epoch 54/300\n",
            "1/1 [==============================] - 0s 25ms/step - loss: 0.0078 - mse: 0.0078 - val_loss: 0.0113 - val_mse: 0.0113\n",
            "Epoch 55/300\n",
            "1/1 [==============================] - 0s 29ms/step - loss: 0.0076 - mse: 0.0076 - val_loss: 0.0118 - val_mse: 0.0118\n",
            "Epoch 56/300\n",
            "1/1 [==============================] - 0s 30ms/step - loss: 0.0075 - mse: 0.0075 - val_loss: 0.0122 - val_mse: 0.0122\n",
            "Epoch 57/300\n",
            "1/1 [==============================] - 0s 26ms/step - loss: 0.0075 - mse: 0.0075 - val_loss: 0.0127 - val_mse: 0.0127\n",
            "Epoch 58/300\n",
            "1/1 [==============================] - 0s 26ms/step - loss: 0.0076 - mse: 0.0076 - val_loss: 0.0129 - val_mse: 0.0129\n",
            "Epoch 59/300\n",
            "1/1 [==============================] - 0s 24ms/step - loss: 0.0076 - mse: 0.0076 - val_loss: 0.0129 - val_mse: 0.0129\n",
            "Epoch 60/300\n",
            "1/1 [==============================] - 0s 25ms/step - loss: 0.0077 - mse: 0.0077 - val_loss: 0.0127 - val_mse: 0.0127\n",
            "Epoch 61/300\n",
            "1/1 [==============================] - 0s 24ms/step - loss: 0.0076 - mse: 0.0076 - val_loss: 0.0122 - val_mse: 0.0122\n",
            "Epoch 62/300\n",
            "1/1 [==============================] - 0s 25ms/step - loss: 0.0075 - mse: 0.0075 - val_loss: 0.0116 - val_mse: 0.0116\n",
            "Epoch 63/300\n",
            "1/1 [==============================] - 0s 27ms/step - loss: 0.0074 - mse: 0.0074 - val_loss: 0.0110 - val_mse: 0.0110\n",
            "Epoch 64/300\n",
            "1/1 [==============================] - 0s 30ms/step - loss: 0.0072 - mse: 0.0072 - val_loss: 0.0105 - val_mse: 0.0105\n",
            "Epoch 65/300\n",
            "1/1 [==============================] - 0s 25ms/step - loss: 0.0072 - mse: 0.0072 - val_loss: 0.0101 - val_mse: 0.0101\n",
            "Epoch 66/300\n",
            "1/1 [==============================] - 0s 28ms/step - loss: 0.0072 - mse: 0.0072 - val_loss: 0.0099 - val_mse: 0.0099\n",
            "Epoch 67/300\n",
            "1/1 [==============================] - 0s 26ms/step - loss: 0.0072 - mse: 0.0072 - val_loss: 0.0097 - val_mse: 0.0097\n",
            "Epoch 68/300\n",
            "1/1 [==============================] - 0s 25ms/step - loss: 0.0072 - mse: 0.0072 - val_loss: 0.0096 - val_mse: 0.0096\n",
            "Epoch 69/300\n",
            "1/1 [==============================] - 0s 25ms/step - loss: 0.0072 - mse: 0.0072 - val_loss: 0.0096 - val_mse: 0.0096\n",
            "Epoch 70/300\n",
            "1/1 [==============================] - 0s 28ms/step - loss: 0.0072 - mse: 0.0072 - val_loss: 0.0096 - val_mse: 0.0096\n",
            "Epoch 71/300\n",
            "1/1 [==============================] - 0s 26ms/step - loss: 0.0071 - mse: 0.0071 - val_loss: 0.0096 - val_mse: 0.0096\n",
            "Epoch 72/300\n",
            "1/1 [==============================] - 0s 33ms/step - loss: 0.0071 - mse: 0.0071 - val_loss: 0.0097 - val_mse: 0.0097\n",
            "Epoch 73/300\n",
            "1/1 [==============================] - 0s 25ms/step - loss: 0.0070 - mse: 0.0070 - val_loss: 0.0098 - val_mse: 0.0098\n",
            "Epoch 74/300\n",
            "1/1 [==============================] - 0s 30ms/step - loss: 0.0070 - mse: 0.0070 - val_loss: 0.0099 - val_mse: 0.0099\n",
            "Epoch 75/300\n",
            "1/1 [==============================] - 0s 25ms/step - loss: 0.0070 - mse: 0.0070 - val_loss: 0.0100 - val_mse: 0.0100\n",
            "Epoch 76/300\n",
            "1/1 [==============================] - 0s 27ms/step - loss: 0.0070 - mse: 0.0070 - val_loss: 0.0100 - val_mse: 0.0100\n",
            "Epoch 77/300\n",
            "1/1 [==============================] - 0s 29ms/step - loss: 0.0070 - mse: 0.0070 - val_loss: 0.0099 - val_mse: 0.0099\n",
            "Epoch 78/300\n",
            "1/1 [==============================] - 0s 26ms/step - loss: 0.0069 - mse: 0.0069 - val_loss: 0.0098 - val_mse: 0.0098\n",
            "Epoch 79/300\n",
            "1/1 [==============================] - 0s 31ms/step - loss: 0.0069 - mse: 0.0069 - val_loss: 0.0097 - val_mse: 0.0097\n",
            "Epoch 80/300\n",
            "1/1 [==============================] - 0s 25ms/step - loss: 0.0069 - mse: 0.0069 - val_loss: 0.0096 - val_mse: 0.0096\n",
            "Epoch 81/300\n",
            "1/1 [==============================] - 0s 25ms/step - loss: 0.0068 - mse: 0.0068 - val_loss: 0.0095 - val_mse: 0.0095\n",
            "Epoch 82/300\n",
            "1/1 [==============================] - 0s 28ms/step - loss: 0.0068 - mse: 0.0068 - val_loss: 0.0094 - val_mse: 0.0094\n",
            "Epoch 83/300\n",
            "1/1 [==============================] - 0s 29ms/step - loss: 0.0068 - mse: 0.0068 - val_loss: 0.0093 - val_mse: 0.0093\n",
            "Epoch 84/300\n",
            "1/1 [==============================] - 0s 26ms/step - loss: 0.0068 - mse: 0.0068 - val_loss: 0.0093 - val_mse: 0.0093\n",
            "Epoch 85/300\n",
            "1/1 [==============================] - 0s 25ms/step - loss: 0.0068 - mse: 0.0068 - val_loss: 0.0093 - val_mse: 0.0093\n",
            "Epoch 86/300\n",
            "1/1 [==============================] - 0s 26ms/step - loss: 0.0067 - mse: 0.0067 - val_loss: 0.0093 - val_mse: 0.0093\n",
            "Epoch 87/300\n",
            "1/1 [==============================] - 0s 25ms/step - loss: 0.0067 - mse: 0.0067 - val_loss: 0.0093 - val_mse: 0.0093\n",
            "Epoch 88/300\n",
            "1/1 [==============================] - 0s 26ms/step - loss: 0.0067 - mse: 0.0067 - val_loss: 0.0093 - val_mse: 0.0093\n",
            "Epoch 89/300\n",
            "1/1 [==============================] - 0s 24ms/step - loss: 0.0067 - mse: 0.0067 - val_loss: 0.0094 - val_mse: 0.0094\n",
            "Epoch 90/300\n",
            "1/1 [==============================] - 0s 26ms/step - loss: 0.0066 - mse: 0.0066 - val_loss: 0.0094 - val_mse: 0.0094\n",
            "Epoch 91/300\n",
            "1/1 [==============================] - 0s 33ms/step - loss: 0.0066 - mse: 0.0066 - val_loss: 0.0094 - val_mse: 0.0094\n",
            "Epoch 92/300\n",
            "1/1 [==============================] - 0s 25ms/step - loss: 0.0066 - mse: 0.0066 - val_loss: 0.0094 - val_mse: 0.0094\n",
            "Epoch 93/300\n",
            "1/1 [==============================] - 0s 29ms/step - loss: 0.0066 - mse: 0.0066 - val_loss: 0.0094 - val_mse: 0.0094\n",
            "Epoch 94/300\n",
            "1/1 [==============================] - 0s 28ms/step - loss: 0.0066 - mse: 0.0066 - val_loss: 0.0094 - val_mse: 0.0094\n",
            "Epoch 95/300\n",
            "1/1 [==============================] - 0s 25ms/step - loss: 0.0066 - mse: 0.0066 - val_loss: 0.0094 - val_mse: 0.0094\n",
            "Epoch 96/300\n",
            "1/1 [==============================] - 0s 31ms/step - loss: 0.0065 - mse: 0.0065 - val_loss: 0.0094 - val_mse: 0.0094\n",
            "Epoch 97/300\n",
            "1/1 [==============================] - 0s 25ms/step - loss: 0.0065 - mse: 0.0065 - val_loss: 0.0094 - val_mse: 0.0094\n",
            "Epoch 98/300\n",
            "1/1 [==============================] - 0s 25ms/step - loss: 0.0065 - mse: 0.0065 - val_loss: 0.0094 - val_mse: 0.0094\n",
            "Epoch 99/300\n",
            "1/1 [==============================] - 0s 25ms/step - loss: 0.0065 - mse: 0.0065 - val_loss: 0.0095 - val_mse: 0.0095\n",
            "Epoch 100/300\n",
            "1/1 [==============================] - 0s 24ms/step - loss: 0.0065 - mse: 0.0065 - val_loss: 0.0095 - val_mse: 0.0095\n",
            "Epoch 101/300\n",
            "1/1 [==============================] - 0s 25ms/step - loss: 0.0065 - mse: 0.0065 - val_loss: 0.0095 - val_mse: 0.0095\n",
            "Epoch 102/300\n",
            "1/1 [==============================] - 0s 27ms/step - loss: 0.0064 - mse: 0.0064 - val_loss: 0.0095 - val_mse: 0.0095\n",
            "Epoch 103/300\n",
            "1/1 [==============================] - 0s 25ms/step - loss: 0.0064 - mse: 0.0064 - val_loss: 0.0096 - val_mse: 0.0096\n",
            "Epoch 104/300\n",
            "1/1 [==============================] - 0s 26ms/step - loss: 0.0064 - mse: 0.0064 - val_loss: 0.0096 - val_mse: 0.0096\n",
            "Epoch 105/300\n",
            "1/1 [==============================] - 0s 25ms/step - loss: 0.0064 - mse: 0.0064 - val_loss: 0.0096 - val_mse: 0.0096\n",
            "Epoch 106/300\n",
            "1/1 [==============================] - 0s 30ms/step - loss: 0.0064 - mse: 0.0064 - val_loss: 0.0096 - val_mse: 0.0096\n",
            "Epoch 107/300\n",
            "1/1 [==============================] - 0s 27ms/step - loss: 0.0064 - mse: 0.0064 - val_loss: 0.0096 - val_mse: 0.0096\n",
            "Epoch 108/300\n",
            "1/1 [==============================] - 0s 28ms/step - loss: 0.0063 - mse: 0.0063 - val_loss: 0.0096 - val_mse: 0.0096\n",
            "Epoch 109/300\n",
            "1/1 [==============================] - 0s 28ms/step - loss: 0.0063 - mse: 0.0063 - val_loss: 0.0096 - val_mse: 0.0096\n",
            "Epoch 110/300\n",
            "1/1 [==============================] - 0s 34ms/step - loss: 0.0063 - mse: 0.0063 - val_loss: 0.0097 - val_mse: 0.0097\n",
            "Epoch 111/300\n",
            "1/1 [==============================] - 0s 31ms/step - loss: 0.0063 - mse: 0.0063 - val_loss: 0.0097 - val_mse: 0.0097\n",
            "Epoch 112/300\n",
            "1/1 [==============================] - 0s 29ms/step - loss: 0.0063 - mse: 0.0063 - val_loss: 0.0097 - val_mse: 0.0097\n",
            "Epoch 113/300\n",
            "1/1 [==============================] - 0s 28ms/step - loss: 0.0063 - mse: 0.0063 - val_loss: 0.0098 - val_mse: 0.0098\n",
            "Epoch 114/300\n",
            "1/1 [==============================] - 0s 28ms/step - loss: 0.0062 - mse: 0.0062 - val_loss: 0.0098 - val_mse: 0.0098\n",
            "Epoch 115/300\n",
            "1/1 [==============================] - 0s 31ms/step - loss: 0.0062 - mse: 0.0062 - val_loss: 0.0098 - val_mse: 0.0098\n",
            "Epoch 116/300\n",
            "1/1 [==============================] - 0s 27ms/step - loss: 0.0062 - mse: 0.0062 - val_loss: 0.0098 - val_mse: 0.0098\n",
            "Epoch 117/300\n",
            "1/1 [==============================] - 0s 28ms/step - loss: 0.0062 - mse: 0.0062 - val_loss: 0.0099 - val_mse: 0.0099\n",
            "Epoch 118/300\n",
            "1/1 [==============================] - 0s 25ms/step - loss: 0.0062 - mse: 0.0062 - val_loss: 0.0099 - val_mse: 0.0099\n",
            "Epoch 119/300\n",
            "1/1 [==============================] - 0s 27ms/step - loss: 0.0062 - mse: 0.0062 - val_loss: 0.0099 - val_mse: 0.0099\n",
            "Epoch 120/300\n",
            "1/1 [==============================] - 0s 28ms/step - loss: 0.0062 - mse: 0.0062 - val_loss: 0.0099 - val_mse: 0.0099\n",
            "Epoch 121/300\n",
            "1/1 [==============================] - 0s 26ms/step - loss: 0.0062 - mse: 0.0062 - val_loss: 0.0099 - val_mse: 0.0099\n",
            "Epoch 122/300\n",
            "1/1 [==============================] - 0s 29ms/step - loss: 0.0061 - mse: 0.0061 - val_loss: 0.0099 - val_mse: 0.0099\n",
            "Epoch 123/300\n",
            "1/1 [==============================] - 0s 26ms/step - loss: 0.0061 - mse: 0.0061 - val_loss: 0.0099 - val_mse: 0.0099\n",
            "Epoch 124/300\n",
            "1/1 [==============================] - 0s 29ms/step - loss: 0.0061 - mse: 0.0061 - val_loss: 0.0099 - val_mse: 0.0099\n",
            "Epoch 125/300\n",
            "1/1 [==============================] - 0s 26ms/step - loss: 0.0061 - mse: 0.0061 - val_loss: 0.0100 - val_mse: 0.0100\n",
            "Epoch 126/300\n",
            "1/1 [==============================] - 0s 29ms/step - loss: 0.0061 - mse: 0.0061 - val_loss: 0.0100 - val_mse: 0.0100\n",
            "Epoch 127/300\n",
            "1/1 [==============================] - 0s 29ms/step - loss: 0.0061 - mse: 0.0061 - val_loss: 0.0100 - val_mse: 0.0100\n",
            "Epoch 128/300\n",
            "1/1 [==============================] - 0s 25ms/step - loss: 0.0061 - mse: 0.0061 - val_loss: 0.0100 - val_mse: 0.0100\n",
            "Epoch 129/300\n",
            "1/1 [==============================] - 0s 26ms/step - loss: 0.0060 - mse: 0.0060 - val_loss: 0.0101 - val_mse: 0.0101\n",
            "Epoch 130/300\n",
            "1/1 [==============================] - 0s 25ms/step - loss: 0.0060 - mse: 0.0060 - val_loss: 0.0101 - val_mse: 0.0101\n",
            "Epoch 131/300\n",
            "1/1 [==============================] - 0s 26ms/step - loss: 0.0060 - mse: 0.0060 - val_loss: 0.0101 - val_mse: 0.0101\n",
            "Epoch 132/300\n",
            "1/1 [==============================] - 0s 28ms/step - loss: 0.0060 - mse: 0.0060 - val_loss: 0.0101 - val_mse: 0.0101\n",
            "Epoch 133/300\n",
            "1/1 [==============================] - 0s 25ms/step - loss: 0.0060 - mse: 0.0060 - val_loss: 0.0101 - val_mse: 0.0101\n",
            "Epoch 134/300\n",
            "1/1 [==============================] - 0s 31ms/step - loss: 0.0060 - mse: 0.0060 - val_loss: 0.0101 - val_mse: 0.0101\n",
            "Epoch 135/300\n",
            "1/1 [==============================] - 0s 34ms/step - loss: 0.0060 - mse: 0.0060 - val_loss: 0.0102 - val_mse: 0.0102\n",
            "Epoch 136/300\n",
            "1/1 [==============================] - 0s 25ms/step - loss: 0.0060 - mse: 0.0060 - val_loss: 0.0102 - val_mse: 0.0102\n",
            "Epoch 137/300\n",
            "1/1 [==============================] - 0s 26ms/step - loss: 0.0059 - mse: 0.0059 - val_loss: 0.0102 - val_mse: 0.0102\n",
            "Epoch 138/300\n",
            "1/1 [==============================] - 0s 27ms/step - loss: 0.0059 - mse: 0.0059 - val_loss: 0.0102 - val_mse: 0.0102\n",
            "Epoch 139/300\n",
            "1/1 [==============================] - 0s 28ms/step - loss: 0.0059 - mse: 0.0059 - val_loss: 0.0102 - val_mse: 0.0102\n",
            "Epoch 140/300\n",
            "1/1 [==============================] - 0s 29ms/step - loss: 0.0059 - mse: 0.0059 - val_loss: 0.0102 - val_mse: 0.0102\n",
            "Epoch 141/300\n",
            "1/1 [==============================] - 0s 30ms/step - loss: 0.0059 - mse: 0.0059 - val_loss: 0.0103 - val_mse: 0.0103\n",
            "Epoch 142/300\n",
            "1/1 [==============================] - 0s 27ms/step - loss: 0.0059 - mse: 0.0059 - val_loss: 0.0103 - val_mse: 0.0103\n",
            "Epoch 143/300\n",
            "1/1 [==============================] - 0s 27ms/step - loss: 0.0059 - mse: 0.0059 - val_loss: 0.0103 - val_mse: 0.0103\n",
            "Epoch 144/300\n",
            "1/1 [==============================] - 0s 26ms/step - loss: 0.0059 - mse: 0.0059 - val_loss: 0.0103 - val_mse: 0.0103\n",
            "Epoch 145/300\n",
            "1/1 [==============================] - 0s 27ms/step - loss: 0.0059 - mse: 0.0059 - val_loss: 0.0103 - val_mse: 0.0103\n",
            "Epoch 146/300\n",
            "1/1 [==============================] - 0s 24ms/step - loss: 0.0058 - mse: 0.0058 - val_loss: 0.0103 - val_mse: 0.0103\n",
            "Epoch 147/300\n",
            "1/1 [==============================] - 0s 25ms/step - loss: 0.0058 - mse: 0.0058 - val_loss: 0.0104 - val_mse: 0.0104\n",
            "Epoch 148/300\n",
            "1/1 [==============================] - 0s 31ms/step - loss: 0.0058 - mse: 0.0058 - val_loss: 0.0104 - val_mse: 0.0104\n",
            "Epoch 149/300\n",
            "1/1 [==============================] - 0s 25ms/step - loss: 0.0058 - mse: 0.0058 - val_loss: 0.0104 - val_mse: 0.0104\n",
            "Epoch 150/300\n",
            "1/1 [==============================] - 0s 26ms/step - loss: 0.0058 - mse: 0.0058 - val_loss: 0.0104 - val_mse: 0.0104\n",
            "Epoch 151/300\n",
            "1/1 [==============================] - 0s 28ms/step - loss: 0.0058 - mse: 0.0058 - val_loss: 0.0104 - val_mse: 0.0104\n",
            "Epoch 152/300\n",
            "1/1 [==============================] - 0s 27ms/step - loss: 0.0058 - mse: 0.0058 - val_loss: 0.0104 - val_mse: 0.0104\n",
            "Epoch 153/300\n",
            "1/1 [==============================] - 0s 27ms/step - loss: 0.0058 - mse: 0.0058 - val_loss: 0.0104 - val_mse: 0.0104\n",
            "Epoch 154/300\n",
            "1/1 [==============================] - 0s 29ms/step - loss: 0.0058 - mse: 0.0058 - val_loss: 0.0104 - val_mse: 0.0104\n",
            "Epoch 155/300\n",
            "1/1 [==============================] - 0s 27ms/step - loss: 0.0057 - mse: 0.0057 - val_loss: 0.0105 - val_mse: 0.0105\n",
            "Epoch 156/300\n",
            "1/1 [==============================] - 0s 28ms/step - loss: 0.0057 - mse: 0.0057 - val_loss: 0.0105 - val_mse: 0.0105\n",
            "Epoch 157/300\n",
            "1/1 [==============================] - 0s 26ms/step - loss: 0.0057 - mse: 0.0057 - val_loss: 0.0105 - val_mse: 0.0105\n",
            "Epoch 158/300\n",
            "1/1 [==============================] - 0s 26ms/step - loss: 0.0057 - mse: 0.0057 - val_loss: 0.0105 - val_mse: 0.0105\n",
            "Epoch 159/300\n",
            "1/1 [==============================] - 0s 28ms/step - loss: 0.0057 - mse: 0.0057 - val_loss: 0.0105 - val_mse: 0.0105\n",
            "Epoch 160/300\n",
            "1/1 [==============================] - 0s 31ms/step - loss: 0.0057 - mse: 0.0057 - val_loss: 0.0105 - val_mse: 0.0105\n",
            "Epoch 161/300\n",
            "1/1 [==============================] - 0s 27ms/step - loss: 0.0057 - mse: 0.0057 - val_loss: 0.0105 - val_mse: 0.0105\n",
            "Epoch 162/300\n",
            "1/1 [==============================] - 0s 35ms/step - loss: 0.0057 - mse: 0.0057 - val_loss: 0.0105 - val_mse: 0.0105\n",
            "Epoch 163/300\n",
            "1/1 [==============================] - 0s 29ms/step - loss: 0.0057 - mse: 0.0057 - val_loss: 0.0105 - val_mse: 0.0105\n",
            "Epoch 164/300\n",
            "1/1 [==============================] - 0s 45ms/step - loss: 0.0056 - mse: 0.0056 - val_loss: 0.0105 - val_mse: 0.0105\n",
            "Epoch 165/300\n",
            "1/1 [==============================] - 0s 29ms/step - loss: 0.0056 - mse: 0.0056 - val_loss: 0.0106 - val_mse: 0.0106\n",
            "Epoch 166/300\n",
            "1/1 [==============================] - 0s 29ms/step - loss: 0.0056 - mse: 0.0056 - val_loss: 0.0106 - val_mse: 0.0106\n",
            "Epoch 167/300\n",
            "1/1 [==============================] - 0s 27ms/step - loss: 0.0056 - mse: 0.0056 - val_loss: 0.0106 - val_mse: 0.0106\n",
            "Epoch 168/300\n",
            "1/1 [==============================] - 0s 31ms/step - loss: 0.0056 - mse: 0.0056 - val_loss: 0.0106 - val_mse: 0.0106\n",
            "Epoch 169/300\n",
            "1/1 [==============================] - 0s 31ms/step - loss: 0.0056 - mse: 0.0056 - val_loss: 0.0106 - val_mse: 0.0106\n",
            "Epoch 170/300\n",
            "1/1 [==============================] - 0s 33ms/step - loss: 0.0056 - mse: 0.0056 - val_loss: 0.0106 - val_mse: 0.0106\n",
            "Epoch 171/300\n",
            "1/1 [==============================] - 0s 33ms/step - loss: 0.0056 - mse: 0.0056 - val_loss: 0.0106 - val_mse: 0.0106\n",
            "Epoch 172/300\n",
            "1/1 [==============================] - 0s 28ms/step - loss: 0.0056 - mse: 0.0056 - val_loss: 0.0106 - val_mse: 0.0106\n",
            "Epoch 173/300\n",
            "1/1 [==============================] - 0s 27ms/step - loss: 0.0056 - mse: 0.0056 - val_loss: 0.0106 - val_mse: 0.0106\n",
            "Epoch 174/300\n",
            "1/1 [==============================] - 0s 28ms/step - loss: 0.0055 - mse: 0.0055 - val_loss: 0.0106 - val_mse: 0.0106\n",
            "Epoch 175/300\n",
            "1/1 [==============================] - 0s 28ms/step - loss: 0.0055 - mse: 0.0055 - val_loss: 0.0106 - val_mse: 0.0106\n",
            "Epoch 176/300\n",
            "1/1 [==============================] - 0s 28ms/step - loss: 0.0055 - mse: 0.0055 - val_loss: 0.0106 - val_mse: 0.0106\n",
            "Epoch 177/300\n",
            "1/1 [==============================] - 0s 28ms/step - loss: 0.0055 - mse: 0.0055 - val_loss: 0.0107 - val_mse: 0.0107\n",
            "Epoch 178/300\n",
            "1/1 [==============================] - 0s 29ms/step - loss: 0.0055 - mse: 0.0055 - val_loss: 0.0107 - val_mse: 0.0107\n",
            "Epoch 179/300\n",
            "1/1 [==============================] - 0s 29ms/step - loss: 0.0055 - mse: 0.0055 - val_loss: 0.0107 - val_mse: 0.0107\n",
            "Epoch 180/300\n",
            "1/1 [==============================] - 0s 29ms/step - loss: 0.0055 - mse: 0.0055 - val_loss: 0.0107 - val_mse: 0.0107\n",
            "Epoch 181/300\n",
            "1/1 [==============================] - 0s 31ms/step - loss: 0.0055 - mse: 0.0055 - val_loss: 0.0107 - val_mse: 0.0107\n",
            "Epoch 182/300\n",
            "1/1 [==============================] - 0s 28ms/step - loss: 0.0055 - mse: 0.0055 - val_loss: 0.0107 - val_mse: 0.0107\n",
            "Epoch 183/300\n",
            "1/1 [==============================] - 0s 27ms/step - loss: 0.0055 - mse: 0.0055 - val_loss: 0.0107 - val_mse: 0.0107\n",
            "Epoch 184/300\n",
            "1/1 [==============================] - 0s 36ms/step - loss: 0.0055 - mse: 0.0055 - val_loss: 0.0107 - val_mse: 0.0107\n",
            "Epoch 185/300\n",
            "1/1 [==============================] - 0s 33ms/step - loss: 0.0054 - mse: 0.0054 - val_loss: 0.0107 - val_mse: 0.0107\n",
            "Epoch 186/300\n",
            "1/1 [==============================] - 0s 27ms/step - loss: 0.0054 - mse: 0.0054 - val_loss: 0.0107 - val_mse: 0.0107\n",
            "Epoch 187/300\n",
            "1/1 [==============================] - 0s 27ms/step - loss: 0.0054 - mse: 0.0054 - val_loss: 0.0107 - val_mse: 0.0107\n",
            "Epoch 188/300\n",
            "1/1 [==============================] - 0s 31ms/step - loss: 0.0054 - mse: 0.0054 - val_loss: 0.0107 - val_mse: 0.0107\n",
            "Epoch 189/300\n",
            "1/1 [==============================] - 0s 31ms/step - loss: 0.0054 - mse: 0.0054 - val_loss: 0.0107 - val_mse: 0.0107\n",
            "Epoch 190/300\n",
            "1/1 [==============================] - 0s 31ms/step - loss: 0.0054 - mse: 0.0054 - val_loss: 0.0107 - val_mse: 0.0107\n",
            "Epoch 191/300\n",
            "1/1 [==============================] - 0s 32ms/step - loss: 0.0054 - mse: 0.0054 - val_loss: 0.0107 - val_mse: 0.0107\n",
            "Epoch 192/300\n",
            "1/1 [==============================] - 0s 28ms/step - loss: 0.0054 - mse: 0.0054 - val_loss: 0.0107 - val_mse: 0.0107\n",
            "Epoch 193/300\n",
            "1/1 [==============================] - 0s 31ms/step - loss: 0.0054 - mse: 0.0054 - val_loss: 0.0107 - val_mse: 0.0107\n",
            "Epoch 194/300\n",
            "1/1 [==============================] - 0s 30ms/step - loss: 0.0054 - mse: 0.0054 - val_loss: 0.0107 - val_mse: 0.0107\n",
            "Epoch 195/300\n",
            "1/1 [==============================] - 0s 29ms/step - loss: 0.0054 - mse: 0.0054 - val_loss: 0.0107 - val_mse: 0.0107\n",
            "Epoch 196/300\n",
            "1/1 [==============================] - 0s 28ms/step - loss: 0.0053 - mse: 0.0053 - val_loss: 0.0107 - val_mse: 0.0107\n",
            "Epoch 197/300\n",
            "1/1 [==============================] - 0s 30ms/step - loss: 0.0053 - mse: 0.0053 - val_loss: 0.0108 - val_mse: 0.0108\n",
            "Epoch 198/300\n",
            "1/1 [==============================] - 0s 29ms/step - loss: 0.0053 - mse: 0.0053 - val_loss: 0.0108 - val_mse: 0.0108\n",
            "Epoch 199/300\n",
            "1/1 [==============================] - 0s 32ms/step - loss: 0.0053 - mse: 0.0053 - val_loss: 0.0108 - val_mse: 0.0108\n",
            "Epoch 200/300\n",
            "1/1 [==============================] - 0s 33ms/step - loss: 0.0053 - mse: 0.0053 - val_loss: 0.0108 - val_mse: 0.0108\n",
            "Epoch 201/300\n",
            "1/1 [==============================] - 0s 31ms/step - loss: 0.0053 - mse: 0.0053 - val_loss: 0.0108 - val_mse: 0.0108\n",
            "Epoch 202/300\n",
            "1/1 [==============================] - 0s 27ms/step - loss: 0.0053 - mse: 0.0053 - val_loss: 0.0108 - val_mse: 0.0108\n",
            "Epoch 203/300\n",
            "1/1 [==============================] - 0s 29ms/step - loss: 0.0053 - mse: 0.0053 - val_loss: 0.0108 - val_mse: 0.0108\n",
            "Epoch 204/300\n",
            "1/1 [==============================] - 0s 29ms/step - loss: 0.0053 - mse: 0.0053 - val_loss: 0.0108 - val_mse: 0.0108\n",
            "Epoch 205/300\n",
            "1/1 [==============================] - 0s 28ms/step - loss: 0.0053 - mse: 0.0053 - val_loss: 0.0108 - val_mse: 0.0108\n",
            "Epoch 206/300\n",
            "1/1 [==============================] - 0s 29ms/step - loss: 0.0053 - mse: 0.0053 - val_loss: 0.0108 - val_mse: 0.0108\n",
            "Epoch 207/300\n",
            "1/1 [==============================] - 0s 26ms/step - loss: 0.0052 - mse: 0.0052 - val_loss: 0.0108 - val_mse: 0.0108\n",
            "Epoch 208/300\n",
            "1/1 [==============================] - 0s 29ms/step - loss: 0.0052 - mse: 0.0052 - val_loss: 0.0108 - val_mse: 0.0108\n",
            "Epoch 209/300\n",
            "1/1 [==============================] - 0s 29ms/step - loss: 0.0052 - mse: 0.0052 - val_loss: 0.0108 - val_mse: 0.0108\n",
            "Epoch 210/300\n",
            "1/1 [==============================] - 0s 35ms/step - loss: 0.0052 - mse: 0.0052 - val_loss: 0.0108 - val_mse: 0.0108\n",
            "Epoch 211/300\n",
            "1/1 [==============================] - 0s 32ms/step - loss: 0.0052 - mse: 0.0052 - val_loss: 0.0108 - val_mse: 0.0108\n",
            "Epoch 212/300\n",
            "1/1 [==============================] - 0s 29ms/step - loss: 0.0052 - mse: 0.0052 - val_loss: 0.0108 - val_mse: 0.0108\n",
            "Epoch 213/300\n",
            "1/1 [==============================] - 0s 31ms/step - loss: 0.0052 - mse: 0.0052 - val_loss: 0.0108 - val_mse: 0.0108\n",
            "Epoch 214/300\n",
            "1/1 [==============================] - 0s 29ms/step - loss: 0.0052 - mse: 0.0052 - val_loss: 0.0108 - val_mse: 0.0108\n",
            "Epoch 215/300\n",
            "1/1 [==============================] - 0s 31ms/step - loss: 0.0052 - mse: 0.0052 - val_loss: 0.0108 - val_mse: 0.0108\n",
            "Epoch 216/300\n",
            "1/1 [==============================] - 0s 29ms/step - loss: 0.0052 - mse: 0.0052 - val_loss: 0.0108 - val_mse: 0.0108\n",
            "Epoch 217/300\n",
            "1/1 [==============================] - 0s 28ms/step - loss: 0.0052 - mse: 0.0052 - val_loss: 0.0108 - val_mse: 0.0108\n",
            "Epoch 218/300\n",
            "1/1 [==============================] - 0s 30ms/step - loss: 0.0052 - mse: 0.0052 - val_loss: 0.0108 - val_mse: 0.0108\n",
            "Epoch 219/300\n",
            "1/1 [==============================] - 0s 30ms/step - loss: 0.0051 - mse: 0.0051 - val_loss: 0.0108 - val_mse: 0.0108\n",
            "Epoch 220/300\n",
            "1/1 [==============================] - 0s 37ms/step - loss: 0.0051 - mse: 0.0051 - val_loss: 0.0108 - val_mse: 0.0108\n",
            "Epoch 221/300\n",
            "1/1 [==============================] - 0s 29ms/step - loss: 0.0051 - mse: 0.0051 - val_loss: 0.0108 - val_mse: 0.0108\n",
            "Epoch 222/300\n",
            "1/1 [==============================] - 0s 29ms/step - loss: 0.0051 - mse: 0.0051 - val_loss: 0.0108 - val_mse: 0.0108\n",
            "Epoch 223/300\n",
            "1/1 [==============================] - 0s 32ms/step - loss: 0.0051 - mse: 0.0051 - val_loss: 0.0108 - val_mse: 0.0108\n",
            "Epoch 224/300\n",
            "1/1 [==============================] - 0s 28ms/step - loss: 0.0051 - mse: 0.0051 - val_loss: 0.0108 - val_mse: 0.0108\n",
            "Epoch 225/300\n",
            "1/1 [==============================] - 0s 30ms/step - loss: 0.0051 - mse: 0.0051 - val_loss: 0.0108 - val_mse: 0.0108\n",
            "Epoch 226/300\n",
            "1/1 [==============================] - 0s 29ms/step - loss: 0.0051 - mse: 0.0051 - val_loss: 0.0108 - val_mse: 0.0108\n",
            "Epoch 227/300\n",
            "1/1 [==============================] - 0s 31ms/step - loss: 0.0051 - mse: 0.0051 - val_loss: 0.0108 - val_mse: 0.0108\n",
            "Epoch 228/300\n",
            "1/1 [==============================] - 0s 36ms/step - loss: 0.0051 - mse: 0.0051 - val_loss: 0.0108 - val_mse: 0.0108\n",
            "Epoch 229/300\n",
            "1/1 [==============================] - 0s 27ms/step - loss: 0.0051 - mse: 0.0051 - val_loss: 0.0108 - val_mse: 0.0108\n",
            "Epoch 230/300\n",
            "1/1 [==============================] - 0s 27ms/step - loss: 0.0051 - mse: 0.0051 - val_loss: 0.0108 - val_mse: 0.0108\n",
            "Epoch 231/300\n",
            "1/1 [==============================] - 0s 28ms/step - loss: 0.0051 - mse: 0.0051 - val_loss: 0.0108 - val_mse: 0.0108\n",
            "Epoch 232/300\n",
            "1/1 [==============================] - 0s 28ms/step - loss: 0.0050 - mse: 0.0050 - val_loss: 0.0108 - val_mse: 0.0108\n",
            "Epoch 233/300\n",
            "1/1 [==============================] - 0s 35ms/step - loss: 0.0050 - mse: 0.0050 - val_loss: 0.0108 - val_mse: 0.0108\n",
            "Epoch 234/300\n",
            "1/1 [==============================] - 0s 31ms/step - loss: 0.0050 - mse: 0.0050 - val_loss: 0.0108 - val_mse: 0.0108\n",
            "Epoch 235/300\n",
            "1/1 [==============================] - 0s 33ms/step - loss: 0.0050 - mse: 0.0050 - val_loss: 0.0108 - val_mse: 0.0108\n",
            "Epoch 236/300\n",
            "1/1 [==============================] - 0s 27ms/step - loss: 0.0050 - mse: 0.0050 - val_loss: 0.0108 - val_mse: 0.0108\n",
            "Epoch 237/300\n",
            "1/1 [==============================] - 0s 28ms/step - loss: 0.0050 - mse: 0.0050 - val_loss: 0.0108 - val_mse: 0.0108\n",
            "Epoch 238/300\n",
            "1/1 [==============================] - 0s 32ms/step - loss: 0.0050 - mse: 0.0050 - val_loss: 0.0108 - val_mse: 0.0108\n",
            "Epoch 239/300\n",
            "1/1 [==============================] - 0s 27ms/step - loss: 0.0050 - mse: 0.0050 - val_loss: 0.0108 - val_mse: 0.0108\n",
            "Epoch 240/300\n",
            "1/1 [==============================] - 0s 31ms/step - loss: 0.0050 - mse: 0.0050 - val_loss: 0.0108 - val_mse: 0.0108\n",
            "Epoch 241/300\n",
            "1/1 [==============================] - 0s 29ms/step - loss: 0.0050 - mse: 0.0050 - val_loss: 0.0108 - val_mse: 0.0108\n",
            "Epoch 242/300\n",
            "1/1 [==============================] - 0s 28ms/step - loss: 0.0050 - mse: 0.0050 - val_loss: 0.0108 - val_mse: 0.0108\n",
            "Epoch 243/300\n",
            "1/1 [==============================] - 0s 28ms/step - loss: 0.0050 - mse: 0.0050 - val_loss: 0.0108 - val_mse: 0.0108\n",
            "Epoch 244/300\n",
            "1/1 [==============================] - 0s 28ms/step - loss: 0.0050 - mse: 0.0050 - val_loss: 0.0108 - val_mse: 0.0108\n",
            "Epoch 245/300\n",
            "1/1 [==============================] - 0s 37ms/step - loss: 0.0049 - mse: 0.0049 - val_loss: 0.0108 - val_mse: 0.0108\n",
            "Epoch 246/300\n",
            "1/1 [==============================] - 0s 27ms/step - loss: 0.0049 - mse: 0.0049 - val_loss: 0.0108 - val_mse: 0.0108\n",
            "Epoch 247/300\n",
            "1/1 [==============================] - 0s 26ms/step - loss: 0.0049 - mse: 0.0049 - val_loss: 0.0108 - val_mse: 0.0108\n",
            "Epoch 248/300\n",
            "1/1 [==============================] - 0s 27ms/step - loss: 0.0049 - mse: 0.0049 - val_loss: 0.0108 - val_mse: 0.0108\n",
            "Epoch 249/300\n",
            "1/1 [==============================] - 0s 29ms/step - loss: 0.0049 - mse: 0.0049 - val_loss: 0.0108 - val_mse: 0.0108\n",
            "Epoch 250/300\n",
            "1/1 [==============================] - 0s 29ms/step - loss: 0.0049 - mse: 0.0049 - val_loss: 0.0108 - val_mse: 0.0108\n",
            "Epoch 251/300\n",
            "1/1 [==============================] - 0s 26ms/step - loss: 0.0049 - mse: 0.0049 - val_loss: 0.0108 - val_mse: 0.0108\n",
            "Epoch 252/300\n",
            "1/1 [==============================] - 0s 28ms/step - loss: 0.0049 - mse: 0.0049 - val_loss: 0.0108 - val_mse: 0.0108\n",
            "Epoch 253/300\n",
            "1/1 [==============================] - 0s 32ms/step - loss: 0.0049 - mse: 0.0049 - val_loss: 0.0108 - val_mse: 0.0108\n",
            "Epoch 254/300\n",
            "1/1 [==============================] - 0s 29ms/step - loss: 0.0049 - mse: 0.0049 - val_loss: 0.0108 - val_mse: 0.0108\n",
            "Epoch 255/300\n",
            "1/1 [==============================] - 0s 28ms/step - loss: 0.0049 - mse: 0.0049 - val_loss: 0.0108 - val_mse: 0.0108\n",
            "Epoch 256/300\n",
            "1/1 [==============================] - 0s 39ms/step - loss: 0.0049 - mse: 0.0049 - val_loss: 0.0108 - val_mse: 0.0108\n",
            "Epoch 257/300\n",
            "1/1 [==============================] - 0s 30ms/step - loss: 0.0049 - mse: 0.0049 - val_loss: 0.0108 - val_mse: 0.0108\n",
            "Epoch 258/300\n",
            "1/1 [==============================] - 0s 32ms/step - loss: 0.0049 - mse: 0.0049 - val_loss: 0.0108 - val_mse: 0.0108\n",
            "Epoch 259/300\n",
            "1/1 [==============================] - 0s 30ms/step - loss: 0.0048 - mse: 0.0048 - val_loss: 0.0108 - val_mse: 0.0108\n",
            "Epoch 260/300\n",
            "1/1 [==============================] - 0s 34ms/step - loss: 0.0048 - mse: 0.0048 - val_loss: 0.0108 - val_mse: 0.0108\n",
            "Epoch 261/300\n",
            "1/1 [==============================] - 0s 26ms/step - loss: 0.0048 - mse: 0.0048 - val_loss: 0.0108 - val_mse: 0.0108\n",
            "Epoch 262/300\n",
            "1/1 [==============================] - 0s 34ms/step - loss: 0.0048 - mse: 0.0048 - val_loss: 0.0108 - val_mse: 0.0108\n",
            "Epoch 263/300\n",
            "1/1 [==============================] - 0s 30ms/step - loss: 0.0048 - mse: 0.0048 - val_loss: 0.0108 - val_mse: 0.0108\n",
            "Epoch 264/300\n",
            "1/1 [==============================] - 0s 27ms/step - loss: 0.0048 - mse: 0.0048 - val_loss: 0.0108 - val_mse: 0.0108\n",
            "Epoch 265/300\n",
            "1/1 [==============================] - 0s 30ms/step - loss: 0.0048 - mse: 0.0048 - val_loss: 0.0108 - val_mse: 0.0108\n",
            "Epoch 266/300\n",
            "1/1 [==============================] - 0s 29ms/step - loss: 0.0048 - mse: 0.0048 - val_loss: 0.0108 - val_mse: 0.0108\n",
            "Epoch 267/300\n",
            "1/1 [==============================] - 0s 30ms/step - loss: 0.0048 - mse: 0.0048 - val_loss: 0.0108 - val_mse: 0.0108\n",
            "Epoch 268/300\n",
            "1/1 [==============================] - 0s 27ms/step - loss: 0.0048 - mse: 0.0048 - val_loss: 0.0108 - val_mse: 0.0108\n",
            "Epoch 269/300\n",
            "1/1 [==============================] - 0s 31ms/step - loss: 0.0048 - mse: 0.0048 - val_loss: 0.0108 - val_mse: 0.0108\n",
            "Epoch 270/300\n",
            "1/1 [==============================] - 0s 25ms/step - loss: 0.0048 - mse: 0.0048 - val_loss: 0.0108 - val_mse: 0.0108\n",
            "Epoch 271/300\n",
            "1/1 [==============================] - 0s 31ms/step - loss: 0.0048 - mse: 0.0048 - val_loss: 0.0108 - val_mse: 0.0108\n",
            "Epoch 272/300\n",
            "1/1 [==============================] - 0s 29ms/step - loss: 0.0048 - mse: 0.0048 - val_loss: 0.0108 - val_mse: 0.0108\n",
            "Epoch 273/300\n",
            "1/1 [==============================] - 0s 28ms/step - loss: 0.0048 - mse: 0.0048 - val_loss: 0.0108 - val_mse: 0.0108\n",
            "Epoch 274/300\n",
            "1/1 [==============================] - 0s 29ms/step - loss: 0.0047 - mse: 0.0047 - val_loss: 0.0108 - val_mse: 0.0108\n",
            "Epoch 275/300\n",
            "1/1 [==============================] - 0s 28ms/step - loss: 0.0047 - mse: 0.0047 - val_loss: 0.0108 - val_mse: 0.0108\n",
            "Epoch 276/300\n",
            "1/1 [==============================] - 0s 27ms/step - loss: 0.0047 - mse: 0.0047 - val_loss: 0.0108 - val_mse: 0.0108\n",
            "Epoch 277/300\n",
            "1/1 [==============================] - 0s 32ms/step - loss: 0.0047 - mse: 0.0047 - val_loss: 0.0108 - val_mse: 0.0108\n",
            "Epoch 278/300\n",
            "1/1 [==============================] - 0s 35ms/step - loss: 0.0047 - mse: 0.0047 - val_loss: 0.0108 - val_mse: 0.0108\n",
            "Epoch 279/300\n",
            "1/1 [==============================] - 0s 27ms/step - loss: 0.0047 - mse: 0.0047 - val_loss: 0.0108 - val_mse: 0.0108\n",
            "Epoch 280/300\n",
            "1/1 [==============================] - 0s 25ms/step - loss: 0.0047 - mse: 0.0047 - val_loss: 0.0108 - val_mse: 0.0108\n",
            "Epoch 281/300\n",
            "1/1 [==============================] - 0s 29ms/step - loss: 0.0047 - mse: 0.0047 - val_loss: 0.0108 - val_mse: 0.0108\n",
            "Epoch 282/300\n",
            "1/1 [==============================] - 0s 29ms/step - loss: 0.0047 - mse: 0.0047 - val_loss: 0.0108 - val_mse: 0.0108\n",
            "Epoch 283/300\n",
            "1/1 [==============================] - 0s 35ms/step - loss: 0.0047 - mse: 0.0047 - val_loss: 0.0108 - val_mse: 0.0108\n",
            "Epoch 284/300\n",
            "1/1 [==============================] - 0s 34ms/step - loss: 0.0047 - mse: 0.0047 - val_loss: 0.0108 - val_mse: 0.0108\n",
            "Epoch 285/300\n",
            "1/1 [==============================] - 0s 30ms/step - loss: 0.0047 - mse: 0.0047 - val_loss: 0.0108 - val_mse: 0.0108\n",
            "Epoch 286/300\n",
            "1/1 [==============================] - 0s 32ms/step - loss: 0.0047 - mse: 0.0047 - val_loss: 0.0108 - val_mse: 0.0108\n",
            "Epoch 287/300\n",
            "1/1 [==============================] - 0s 30ms/step - loss: 0.0047 - mse: 0.0047 - val_loss: 0.0108 - val_mse: 0.0108\n",
            "Epoch 288/300\n",
            "1/1 [==============================] - 0s 29ms/step - loss: 0.0047 - mse: 0.0047 - val_loss: 0.0108 - val_mse: 0.0108\n",
            "Epoch 289/300\n",
            "1/1 [==============================] - 0s 33ms/step - loss: 0.0047 - mse: 0.0047 - val_loss: 0.0108 - val_mse: 0.0108\n",
            "Epoch 290/300\n",
            "1/1 [==============================] - 0s 35ms/step - loss: 0.0046 - mse: 0.0046 - val_loss: 0.0108 - val_mse: 0.0108\n",
            "Epoch 291/300\n",
            "1/1 [==============================] - 0s 51ms/step - loss: 0.0046 - mse: 0.0046 - val_loss: 0.0108 - val_mse: 0.0108\n",
            "Epoch 292/300\n",
            "1/1 [==============================] - 0s 34ms/step - loss: 0.0046 - mse: 0.0046 - val_loss: 0.0108 - val_mse: 0.0108\n",
            "Epoch 293/300\n",
            "1/1 [==============================] - 0s 30ms/step - loss: 0.0046 - mse: 0.0046 - val_loss: 0.0109 - val_mse: 0.0109\n",
            "Epoch 294/300\n",
            "1/1 [==============================] - 0s 32ms/step - loss: 0.0046 - mse: 0.0046 - val_loss: 0.0109 - val_mse: 0.0109\n",
            "Epoch 295/300\n",
            "1/1 [==============================] - 0s 26ms/step - loss: 0.0046 - mse: 0.0046 - val_loss: 0.0109 - val_mse: 0.0109\n",
            "Epoch 296/300\n",
            "1/1 [==============================] - 0s 34ms/step - loss: 0.0046 - mse: 0.0046 - val_loss: 0.0109 - val_mse: 0.0109\n",
            "Epoch 297/300\n",
            "1/1 [==============================] - 0s 28ms/step - loss: 0.0046 - mse: 0.0046 - val_loss: 0.0109 - val_mse: 0.0109\n",
            "Epoch 298/300\n",
            "1/1 [==============================] - 0s 28ms/step - loss: 0.0046 - mse: 0.0046 - val_loss: 0.0109 - val_mse: 0.0109\n",
            "Epoch 299/300\n",
            "1/1 [==============================] - 0s 29ms/step - loss: 0.0046 - mse: 0.0046 - val_loss: 0.0109 - val_mse: 0.0109\n",
            "Epoch 300/300\n",
            "1/1 [==============================] - 0s 28ms/step - loss: 0.0046 - mse: 0.0046 - val_loss: 0.0109 - val_mse: 0.0109\n",
            "1/1 [==============================] - 0s 19ms/step - loss: 0.0125 - mse: 0.0125\n"
          ]
        },
        {
          "output_type": "execute_result",
          "data": {
            "text/plain": [
              "[0.01253083348274231, 0.01253083348274231]"
            ]
          },
          "metadata": {},
          "execution_count": 29
        }
      ]
    },
    {
      "cell_type": "code",
      "source": [
        "print(history.history.keys())\n",
        "# \"Loss\"\n",
        "plt.plot(history.history['loss'])\n",
        "plt.plot(history.history['val_loss'])\n",
        "plt.title('model loss')\n",
        "plt.ylabel('loss')\n",
        "plt.xlabel('epoch')\n",
        "plt.legend(['train', 'validation'], loc='upper left')\n",
        "plt.show()"
      ],
      "metadata": {
        "colab": {
          "base_uri": "https://localhost:8080/",
          "height": 400
        },
        "id": "tvMUIg5SHsEF",
        "outputId": "01115610-868c-4e37-c467-f0b2b8a54733"
      },
      "execution_count": 30,
      "outputs": [
        {
          "output_type": "stream",
          "name": "stdout",
          "text": [
            "dict_keys(['loss', 'mse', 'val_loss', 'val_mse'])\n"
          ]
        },
        {
          "output_type": "display_data",
          "data": {
            "text/plain": [
              "<Figure size 720x360 with 1 Axes>"
            ],
            "image/png": "[encoded data removed]"
          },
          "metadata": {}
        }
      ]
    },
    {
      "cell_type": "code",
      "source": [
        "mse_cnn = cnn_model.evaluate(X_test, y_test)"
      ],
      "metadata": {
        "colab": {
          "base_uri": "https://localhost:8080/"
        },
        "id": "ImssP1C-YLO6",
        "outputId": "86e8b1bd-cb5d-4c9d-c8ae-26de05d51de7"
      },
      "execution_count": 32,
      "outputs": [
        {
          "output_type": "stream",
          "name": "stdout",
          "text": [
            "1/1 [==============================] - 0s 17ms/step - loss: 0.0125 - mse: 0.0125\n"
          ]
        }
      ]
    },
    {
      "cell_type": "markdown",
      "source": [
        "####Baseline MSE = 0.0188"
      ],
      "metadata": {
        "id": "kaLutRuWgU4K"
      }
    },
    {
      "cell_type": "code",
      "source": [
        "cnn_model.summary()"
      ],
      "metadata": {
        "colab": {
          "base_uri": "https://localhost:8080/"
        },
        "id": "A8XbxYQeiCoj",
        "outputId": "62f2cd39-eeff-4745-ffab-0697dc6e8d16"
      },
      "execution_count": 33,
      "outputs": [
        {
          "output_type": "stream",
          "name": "stdout",
          "text": [
            "Model: \"sequential_1\"\n",
            "_________________________________________________________________\n",
            " Layer (type)                Output Shape              Param #   \n",
            "=================================================================\n",
            " conv1d_1 (Conv1D)           (None, 2, 64)             960       \n",
            "                                                                 \n",
            " max_pooling1d_1 (MaxPooling  (None, 1, 64)            0         \n",
            " 1D)                                                             \n",
            "                                                                 \n",
            " flatten_1 (Flatten)         (None, 64)                0         \n",
            "                                                                 \n",
            " dense_2 (Dense)             (None, 64)                4160      \n",
            "                                                                 \n",
            " dense_3 (Dense)             (None, 1)                 65        \n",
            "                                                                 \n",
            "=================================================================\n",
            "Total params: 5,185\n",
            "Trainable params: 5,185\n",
            "Non-trainable params: 0\n",
            "_________________________________________________________________\n"
          ]
        }
      ]
    },
    {
      "cell_type": "markdown",
      "source": [
        "###Predict the Test without Hyperparameter Tuning"
      ],
      "metadata": {
        "id": "bNFFP1sSleo-"
      }
    },
    {
      "cell_type": "code",
      "source": [
        "y_pred = cnn_model.predict(X_test)\n",
        "y_pred"
      ],
      "metadata": {
        "colab": {
          "base_uri": "https://localhost:8080/"
        },
        "id": "wujQ6JNuiCyl",
        "outputId": "66882112-775a-4e52-d5b5-66f3f2138685"
      },
      "execution_count": 34,
      "outputs": [
        {
          "output_type": "stream",
          "name": "stdout",
          "text": [
            "1/1 [==============================] - 0s 52ms/step\n"
          ]
        },
        {
          "output_type": "execute_result",
          "data": {
            "text/plain": [
              "array([[ 0.13109937],\n",
              "       [ 0.06925832],\n",
              "       [ 0.08601297],\n",
              "       [ 0.09840015],\n",
              "       [ 0.07998376],\n",
              "       [ 0.08922925],\n",
              "       [ 0.06605564],\n",
              "       [ 0.01927478],\n",
              "       [-0.04879086],\n",
              "       [-0.08387326],\n",
              "       [-0.07225758],\n",
              "       [-0.08581309],\n",
              "       [-0.08644167],\n",
              "       [-0.07667762],\n",
              "       [-0.0671121 ],\n",
              "       [-0.10727815],\n",
              "       [-0.12494996],\n",
              "       [-0.02348789],\n",
              "       [ 0.1072666 ],\n",
              "       [ 0.07720673],\n",
              "       [-0.02632583],\n",
              "       [ 0.00437776]], dtype=float32)"
            ]
          },
          "metadata": {},
          "execution_count": 34
        }
      ]
    },
    {
      "cell_type": "code",
      "source": [
        "y_pred.reshape(1,-1)"
      ],
      "metadata": {
        "colab": {
          "base_uri": "https://localhost:8080/"
        },
        "id": "GI8XYmymlslh",
        "outputId": "09cc07c4-07d8-4189-c487-23bf1efbc1fe"
      },
      "execution_count": 35,
      "outputs": [
        {
          "output_type": "execute_result",
          "data": {
            "text/plain": [
              "array([[ 0.13109937,  0.06925832,  0.08601297,  0.09840015,  0.07998376,\n",
              "         0.08922925,  0.06605564,  0.01927478, -0.04879086, -0.08387326,\n",
              "        -0.07225758, -0.08581309, -0.08644167, -0.07667762, -0.0671121 ,\n",
              "        -0.10727815, -0.12494996, -0.02348789,  0.1072666 ,  0.07720673,\n",
              "        -0.02632583,  0.00437776]], dtype=float32)"
            ]
          },
          "metadata": {},
          "execution_count": 35
        }
      ]
    },
    {
      "cell_type": "markdown",
      "source": [
        "###Invert Transformed Data"
      ],
      "metadata": {
        "id": "jrtmvrZ_l2__"
      }
    },
    {
      "cell_type": "code",
      "source": [
        "y_train_inv = cpo_pri_transformer.inverse_transform(y_train.reshape(1, -1))\n",
        "y_test_inv = cpo_pri_transformer.inverse_transform(y_test.reshape(1, -1))\n",
        "y_pred_inv = cpo_pri_transformer.inverse_transform(y_pred.reshape(1,-1))\n",
        "print(y_train_inv)\n",
        "print(y_test_inv)\n",
        "print(y_pred_inv)"
      ],
      "metadata": {
        "colab": {
          "base_uri": "https://localhost:8080/"
        },
        "id": "FVSGGT57lxHw",
        "outputId": "5ab08b7e-ff99-45a1-f53b-6cb98214d504"
      },
      "execution_count": 36,
      "outputs": [
        {
          "output_type": "stream",
          "name": "stdout",
          "text": [
            "[[376. 383. 382. 396. 402. 390. 404. 382. 382. 391. 396. 413. 401. 410.\n",
            "  425. 408. 392. 371. 356. 362. 356. 352. 333. 357. 411. 404. 387. 395.\n",
            "  434. 488. 508. 494. 575. 614. 616. 707. 719. 655. 661. 687. 625. 611.\n",
            "  631. 655. 616. 586. 615. 607. 590. 535. 518. 519. 562. 552. 508. 476.\n",
            "  513. 545. 532. 550. 561. 567. 580. 559. 562. 553. 533. 498. 504. 525.\n",
            "  547. 556. 566. 621. 659. 671. 688. 705. 633. 661. 674. 703. 694. 681.\n",
            "  663. 632. 561. 497. 509. 475. 392. 319. 354. 388. 381. 370.]]\n",
            "[[349. 372. 324. 315. 312. 306. 288. 255. 257. 265. 254. 240. 254. 251.\n",
            "  234. 255. 330. 362. 310. 277. 323. 360.]]\n",
            "[[371.43976 346.70334 353.40518 358.36005 350.9935  354.6917  345.42227\n",
            "  326.7099  299.48364 285.45068 290.097   284.67477 284.42334 288.32895\n",
            "  292.15518 276.08875 269.02002 309.60483 361.90665 349.8827  308.46967\n",
            "  320.7511 ]]\n"
          ]
        }
      ]
    },
    {
      "cell_type": "markdown",
      "source": [
        "###Plot History, Actual and Predicted Value"
      ],
      "metadata": {
        "id": "PxYTgRmhmDtL"
      }
    },
    {
      "cell_type": "code",
      "source": [
        "y_train_inv = y_train_inv.flatten()\n",
        "y_train_inv"
      ],
      "metadata": {
        "colab": {
          "base_uri": "https://localhost:8080/"
        },
        "id": "YXY0nwhElxLo",
        "outputId": "514db686-958f-483d-c7b9-209c0501bbfc"
      },
      "execution_count": 37,
      "outputs": [
        {
          "output_type": "execute_result",
          "data": {
            "text/plain": [
              "array([376., 383., 382., 396., 402., 390., 404., 382., 382., 391., 396.,\n",
              "       413., 401., 410., 425., 408., 392., 371., 356., 362., 356., 352.,\n",
              "       333., 357., 411., 404., 387., 395., 434., 488., 508., 494., 575.,\n",
              "       614., 616., 707., 719., 655., 661., 687., 625., 611., 631., 655.,\n",
              "       616., 586., 615., 607., 590., 535., 518., 519., 562., 552., 508.,\n",
              "       476., 513., 545., 532., 550., 561., 567., 580., 559., 562., 553.,\n",
              "       533., 498., 504., 525., 547., 556., 566., 621., 659., 671., 688.,\n",
              "       705., 633., 661., 674., 703., 694., 681., 663., 632., 561., 497.,\n",
              "       509., 475., 392., 319., 354., 388., 381., 370.])"
            ]
          },
          "metadata": {},
          "execution_count": 37
        }
      ]
    },
    {
      "cell_type": "code",
      "source": [
        "y_test_inv = y_test_inv.flatten()\n",
        "y_test_inv"
      ],
      "metadata": {
        "colab": {
          "base_uri": "https://localhost:8080/"
        },
        "id": "z_zQn_rpl_MC",
        "outputId": "ea364e76-9abe-40d9-fc85-6fc6d2acbfb3"
      },
      "execution_count": 38,
      "outputs": [
        {
          "output_type": "execute_result",
          "data": {
            "text/plain": [
              "array([349., 372., 324., 315., 312., 306., 288., 255., 257., 265., 254.,\n",
              "       240., 254., 251., 234., 255., 330., 362., 310., 277., 323., 360.])"
            ]
          },
          "metadata": {},
          "execution_count": 38
        }
      ]
    },
    {
      "cell_type": "code",
      "source": [
        "y_pred_inv = y_pred_inv.flatten()\n",
        "y_pred_inv"
      ],
      "metadata": {
        "colab": {
          "base_uri": "https://localhost:8080/"
        },
        "id": "X4GInUagmJUO",
        "outputId": "b50c9d14-1398-409a-af1f-d748659b3707"
      },
      "execution_count": 39,
      "outputs": [
        {
          "output_type": "execute_result",
          "data": {
            "text/plain": [
              "array([371.43976, 346.70334, 353.40518, 358.36005, 350.9935 , 354.6917 ,\n",
              "       345.42227, 326.7099 , 299.48364, 285.45068, 290.097  , 284.67477,\n",
              "       284.42334, 288.32895, 292.15518, 276.08875, 269.02002, 309.60483,\n",
              "       361.90665, 349.8827 , 308.46967, 320.7511 ], dtype=float32)"
            ]
          },
          "metadata": {},
          "execution_count": 39
        }
      ]
    },
    {
      "cell_type": "code",
      "source": [
        "plt.figure(figsize=(17,9))\n",
        "#plt.grid()\n",
        "#plt.plot(np.arange(0, len(y_train)), y_train_inv, color='green', label=\"History\")\n",
        "plt.plot(np.arange(len(y_train), len(y_train) + len(y_test)), y_test_inv, color='red', marker='.', label=\"Actual\")\n",
        "plt.plot(np.arange(len(y_train), len(y_train) + len(y_test)), y_pred_inv, color='green', label=\"Tuned CNN Prediction\")\n",
        "plt.ylabel('Crude Palm Oil Price')\n",
        "plt.xlabel('Time step')\n",
        "plt.legend()\n",
        "ax.grid()\n",
        "#plt.grid()\n",
        "#plt.show();"
      ],
      "metadata": {
        "colab": {
          "base_uri": "https://localhost:8080/",
          "height": 596
        },
        "id": "vHGNO1xAmJYI",
        "outputId": "b84a00b8-7b5c-4d0b-ef43-9b6d04c6a801"
      },
      "execution_count": 41,
      "outputs": [
        {
          "output_type": "display_data",
          "data": {
            "text/plain": [
              "<Figure size 1224x648 with 1 Axes>"
            ],
            "image/png": "[encoded data removed]"
          },
          "metadata": {}
        }
      ]
    },
    {
      "cell_type": "markdown",
      "source": [
        "###Evaluate CNN Model Accuracy"
      ],
      "metadata": {
        "id": "1NImON2RmyWF"
      }
    },
    {
      "cell_type": "code",
      "source": [
        "MAE_cnn = mean_absolute_error(y_test_inv, y_pred_inv)\n",
        "print('MAE value of the CNN Model is:', MAE_cnn)\n",
        "\n",
        "MDA_cnn = mda(y_test_inv, y_pred_inv)\n",
        "print('MDA value of the CNN Model is:', MDA_cnn)\n",
        "\n",
        "MAPE_cnn = mean_absolute_percentage_error(y_test_inv, y_pred_inv)\n",
        "print('MAPE value of the CNN Model is:', MAPE_cnn)\n",
        "\n",
        "RMSE_cnn = mean_squared_error(y_test_inv,y_pred_inv, squared=False)\n",
        "print('RMSE value of the CNN Model is:', RMSE_cnn)\n",
        "\n",
        "MSE_cnn = mean_squared_error(y_test_inv,y_pred_inv)\n",
        "print('MSE value of the CNN Model is:', MSE_cnn)\n",
        "\n",
        "#EVS_cnn = explained_variance_score(y_test_inv, y_pred_inv)\n",
        "#print('EVS score of the CNN Model is:', EVS_cnn)"
      ],
      "metadata": {
        "colab": {
          "base_uri": "https://localhost:8080/"
        },
        "id": "fIc5ITw4m2QJ",
        "outputId": "4247d0c5-ffcb-4671-836a-82779b6c35f9"
      },
      "execution_count": 42,
      "outputs": [
        {
          "output_type": "stream",
          "name": "stdout",
          "text": [
            "MAE value of the CNN Model is: 41.81659351695668\n",
            "MDA value of the CNN Model is: 0.3333333333333333\n",
            "MAPE value of the CNN Model is: 14.590733224247368\n",
            "RMSE value of the CNN Model is: 44.77648479271459\n",
            "MSE value of the CNN Model is: 2004.933590392201\n"
          ]
        }
      ]
    },
    {
      "cell_type": "markdown",
      "source": [
        "###Tuning CNN with Keras Tuner"
      ],
      "metadata": {
        "id": "fs98oM36Yw_r"
      }
    },
    {
      "cell_type": "code",
      "source": [
        "class ANNhypermodel(HyperModel):\n",
        "#class CNNHyperModel(HyperModel):\n",
        "    \n",
        "    def __init__(self, input_shape):\n",
        "        self.input_shape= input_shape\n",
        "        \n",
        "    def build(self, hp):\n",
        "        model= keras.Sequential()\n",
        "        \n",
        "        # Tune the number of units in the first Dense layer\n",
        "        # Defining dense units as a close approx to the original neural network to perform a fair comparision!\n",
        "        \n",
        "        \n",
        "        hp_units_1= hp.Int('units_1', min_value=128, max_value= 160, step=32)\n",
        "        hp_units_2= hp.Int('units_2', min_value=64, max_value= 128, step=32)\n",
        "        hp_units_3= hp.Int('units_3', min_value=32, max_value= 64, step=16)\n",
        "\n",
        "        model.add(keras.layers.Dense(units=hp_units_1, activation='tanh', input_shape= self.input_shape))\n",
        "        model.add(keras.layers.Dense(units=hp_units_2, activation='tanh'))\n",
        "        model.add(keras.layers.Dense(units=hp_units_3, activation='tanh'))\n",
        "        model.add(keras.layers.Dense(1))\n",
        "\n",
        "        #Tune the dropout\n",
        "        model.add(\n",
        "            Dropout(\n",
        "                rate=hp.Float(\n",
        "                    'dropout',\n",
        "                    min_value=0.0,\n",
        "                    max_value=0.5,\n",
        "                    default=0.25,\n",
        "                    step=0.05\n",
        "                )\n",
        "            )\n",
        "        )\n",
        "\n",
        "        # Tune the learning rate for the optimizer \n",
        "        hp_learning_rate=hp.Float('learning_rate', min_value=1e-4, max_value=1e-2, sampling='LOG', default= 0.0005)\n",
        "       # -------------------------------------------------------\n",
        "        #model.add(\n",
        "            #layers.Dense(\n",
        "                #hp.Float(\n",
        "                    #'batch_size',\n",
        "                    #'type\": \"range', ###########\n",
        "                     #min_value= 10, \n",
        "                     #max_value=60,\n",
        "                     #default=1,\n",
        "                     #step=20)\n",
        "                    #'value_type': \"int\" ###########\n",
        "            #)\n",
        "        #)\n",
        "       #---------------------------------------------------------\n",
        "        model.compile(loss='mse',\n",
        "                    optimizer= keras.optimizers.Adam(learning_rate=hp_learning_rate),\n",
        "                    metrics= ['mae','mse']\n",
        "                     )\n",
        "\n",
        "        return model\n",
        "\n",
        "hypermodel= ANNhypermodel(input_shape = (X_test.shape[1], X_test.shape[2]))\n",
        "#hypermodel = CNNHyperModel(input_shape = (X_test.shape[1], X_test.shape[2]))"
      ],
      "metadata": {
        "id": "6sH3KVfoj7jq"
      },
      "execution_count": 43,
      "outputs": []
    },
    {
      "cell_type": "markdown",
      "source": [
        "###Build Random Search Tuner"
      ],
      "metadata": {
        "id": "Vw6sRopRkNq-"
      }
    },
    {
      "cell_type": "code",
      "source": [
        "tuner_rs = RandomSearch(\n",
        "            hypermodel,\n",
        "            objective='mse',\n",
        "            seed=42,\n",
        "            max_trials=10,\n",
        "            executions_per_trial=2, overwrite=True\n",
        "        )"
      ],
      "metadata": {
        "id": "oPWNkr_dj7ng"
      },
      "execution_count": null,
      "outputs": []
    },
    {
      "cell_type": "markdown",
      "source": [
        "###Run Random Search"
      ],
      "metadata": {
        "id": "UH8vIpuOkl0V"
      }
    },
    {
      "cell_type": "code",
      "source": [
        "tuner_rs.search(X_train, y_train, epochs=10, validation_split=0.2, verbose=0)"
      ],
      "metadata": {
        "id": "XC6nlTF4j7rN"
      },
      "execution_count": null,
      "outputs": []
    },
    {
      "cell_type": "markdown",
      "source": [
        "###Evaluate Random Search"
      ],
      "metadata": {
        "id": "ZWc0whe7l-_0"
      }
    },
    {
      "cell_type": "code",
      "source": [
        "best_model = tuner_rs.get_best_models(num_models=1)[0]\n",
        "mse_rs = best_model.evaluate(X_test, y_test)[1]"
      ],
      "metadata": {
        "colab": {
          "base_uri": "https://localhost:8080/"
        },
        "id": "V0u8mTuTj7wl",
        "outputId": "614abe9c-c28d-41cd-b36a-cc16d3ed91b3"
      },
      "execution_count": null,
      "outputs": [
        {
          "output_type": "stream",
          "name": "stdout",
          "text": [
            "1/1 [==============================] - 0s 343ms/step - loss: 0.1068 - mae: 0.3057 - mse: 0.1068\n"
          ]
        }
      ]
    },
    {
      "cell_type": "markdown",
      "source": [
        "####Random Search MSE = 0.1198"
      ],
      "metadata": {
        "id": "9jgCzQ74mQjM"
      }
    },
    {
      "cell_type": "code",
      "source": [
        "best_params = tuner_rs.get_best_hyperparameters()\n",
        "\n",
        "best_params[0].values"
      ],
      "metadata": {
        "colab": {
          "base_uri": "https://localhost:8080/"
        },
        "id": "jJ5NIqxpj72V",
        "outputId": "bf86028c-ef4e-4bba-cc01-d7eea7aa80f6"
      },
      "execution_count": null,
      "outputs": [
        {
          "output_type": "execute_result",
          "data": {
            "text/plain": [
              "{'units_1': 128,\n",
              " 'units_2': 96,\n",
              " 'units_3': 48,\n",
              " 'dropout': 0.1,\n",
              " 'learning_rate': 0.0038287047044982298}"
            ]
          },
          "metadata": {},
          "execution_count": 86
        }
      ]
    },
    {
      "cell_type": "markdown",
      "source": [
        "###Build Bayesian Optimization"
      ],
      "metadata": {
        "id": "AxWQfBYpnLjI"
      }
    },
    {
      "cell_type": "code",
      "source": [
        "tuner_bo = BayesianOptimization(\n",
        "            hypermodel,\n",
        "            objective='val_mse',\n",
        "            max_trials=10,\n",
        "            seed=42,\n",
        "            executions_per_trial=2,\n",
        "            directory='bo'\n",
        "        )"
      ],
      "metadata": {
        "id": "uixpiCLPmsaZ"
      },
      "execution_count": null,
      "outputs": []
    },
    {
      "cell_type": "markdown",
      "source": [
        "###Run Bayesian Optimization"
      ],
      "metadata": {
        "id": "_lTWVuDcoYU9"
      }
    },
    {
      "cell_type": "code",
      "source": [
        "tuner_bo.search(X_train, y_train, epochs=10, validation_split=0.2, verbose=0)\n",
        "\n",
        "best_model = tuner_bo.get_best_models(num_models=1)[0]\n",
        "mse_bo = best_model.evaluate(X_test, y_test)[1]"
      ],
      "metadata": {
        "id": "L6qZa1Kvmsgn",
        "outputId": "3a618b26-f47b-4ac3-b6a1-9f0e5c027e74",
        "colab": {
          "base_uri": "https://localhost:8080/"
        }
      },
      "execution_count": null,
      "outputs": [
        {
          "output_type": "stream",
          "name": "stdout",
          "text": [
            "1/1 [==============================] - 0s 300ms/step - loss: 0.2367 - mae: 0.4740 - mse: 0.2367\n"
          ]
        }
      ]
    },
    {
      "cell_type": "markdown",
      "source": [
        "###Bayesian Optimization Search MSE = 0.3479"
      ],
      "metadata": {
        "id": "KiNYUG96ZUIz"
      }
    },
    {
      "cell_type": "markdown",
      "source": [
        "###Evaluate Bayesian Optimization"
      ],
      "metadata": {
        "id": "Ppb8qezeoe7c"
      }
    },
    {
      "cell_type": "code",
      "source": [
        "best_params = tuner_bo.get_best_hyperparameters()\n",
        "\n",
        "best_params[0].values"
      ],
      "metadata": {
        "colab": {
          "base_uri": "https://localhost:8080/"
        },
        "id": "0bDWDTrOmsm1",
        "outputId": "70f3d571-273d-4852-e562-2ab0eee3b888"
      },
      "execution_count": null,
      "outputs": [
        {
          "output_type": "execute_result",
          "data": {
            "text/plain": [
              "{'units_1': 160,\n",
              " 'units_2': 128,\n",
              " 'units_3': 64,\n",
              " 'dropout': 0.0,\n",
              " 'learning_rate': 0.01}"
            ]
          },
          "metadata": {},
          "execution_count": 89
        }
      ]
    },
    {
      "cell_type": "code",
      "source": [
        "best_model = tuner_bo.get_best_models(num_models=1)[0]\n",
        "mse_bo = best_model.evaluate(X_test, y_test)[1]"
      ],
      "metadata": {
        "colab": {
          "base_uri": "https://localhost:8080/"
        },
        "id": "odraTQ8KbUw9",
        "outputId": "fc96ff34-47e5-44c4-fbb6-ba5fce16f66a"
      },
      "execution_count": null,
      "outputs": [
        {
          "output_type": "stream",
          "name": "stderr",
          "text": [
            "WARNING:tensorflow:Detecting that an object or model or tf.train.Checkpoint is being deleted with unrestored values. See the following logs for the specific values in question. To silence these warnings, use `status.expect_partial()`. See https://www.tensorflow.org/api_docs/python/tf/train/Checkpoint#restorefor details about the status object returned by the restore function.\n",
            "WARNING:tensorflow:Value in checkpoint could not be found in the restored object: (root).optimizer.iter\n",
            "WARNING:tensorflow:Value in checkpoint could not be found in the restored object: (root).optimizer.beta_1\n",
            "WARNING:tensorflow:Value in checkpoint could not be found in the restored object: (root).optimizer.beta_2\n",
            "WARNING:tensorflow:Value in checkpoint could not be found in the restored object: (root).optimizer.decay\n",
            "WARNING:tensorflow:Value in checkpoint could not be found in the restored object: (root).optimizer.learning_rate\n"
          ]
        },
        {
          "output_type": "stream",
          "name": "stdout",
          "text": [
            "1/1 [==============================] - 0s 301ms/step - loss: 0.2367 - mae: 0.4740 - mse: 0.2367\n"
          ]
        }
      ]
    },
    {
      "cell_type": "markdown",
      "source": [
        "###Build HYPERBAND optimization"
      ],
      "metadata": {
        "id": "9rYL672xrXtU"
      }
    },
    {
      "cell_type": "code",
      "source": [
        "MAX_TRIALS = 20\n",
        "tuner= RandomSearch(hypermodel,\n",
        "               objective= 'val_mse',\n",
        "               max_trials= MAX_TRIALS,\n",
        "               executions_per_trial= 2,\n",
        "               directory= 'random_search',\n",
        "               project_name='randomsearch',\n",
        "               overwrite=True)"
      ],
      "metadata": {
        "id": "CqxbIHGxmstL"
      },
      "execution_count": null,
      "outputs": []
    },
    {
      "cell_type": "code",
      "source": [
        "HYPERBAND_MAX_EPOCHS = 150\n",
        "EXECUTION_PER_TRIAL = 2\n",
        "\n",
        "tuner= Hyperband(hypermodel,\n",
        "                   objective= 'val_mse',\n",
        "                   max_epochs=HYPERBAND_MAX_EPOCHS, #Set 100+ for good results\n",
        "                   executions_per_trial=EXECUTION_PER_TRIAL,\n",
        "                   directory= 'hyperband',\n",
        "                   project_name='hyper',\n",
        "                   overwrite=True)\n",
        "\n",
        "# tuner.search_space_summary()"
      ],
      "metadata": {
        "id": "eaGs4DAFosPl"
      },
      "execution_count": null,
      "outputs": []
    },
    {
      "cell_type": "code",
      "source": [
        "print('searching for the best params!')\n",
        "\n",
        "t0 = time()\n",
        "tuner.search(x= X_train,\n",
        "             y= y_train,\n",
        "             epochs=100,\n",
        "             batch_size= 64,\n",
        "             validation_data= (X_test, y_test),\n",
        "             verbose=0,\n",
        "             callbacks= []\n",
        "            )\n",
        "print(time()- t0,\" secs\")\n",
        "\n",
        "# Retreive the optimal hyperparameters\n",
        "best_hps= tuner.get_best_hyperparameters(num_trials=1)[0]\n",
        "\n",
        "# Retrieve the best model\n",
        "best_model = tuner.get_best_models(num_models=1)[0]"
      ],
      "metadata": {
        "colab": {
          "base_uri": "https://localhost:8080/"
        },
        "id": "NXf_LR3mosWn",
        "outputId": "d1928ceb-b796-4d8d-9226-766754c66cfd"
      },
      "execution_count": null,
      "outputs": [
        {
          "output_type": "stream",
          "name": "stderr",
          "text": [
            "WARNING:tensorflow:Detecting that an object or model or tf.train.Checkpoint is being deleted with unrestored values. See the following logs for the specific values in question. To silence these warnings, use `status.expect_partial()`. See https://www.tensorflow.org/api_docs/python/tf/train/Checkpoint#restorefor details about the status object returned by the restore function.\n",
            "WARNING:tensorflow:Value in checkpoint could not be found in the restored object: (root).optimizer.iter\n",
            "WARNING:tensorflow:Value in checkpoint could not be found in the restored object: (root).optimizer.beta_1\n",
            "WARNING:tensorflow:Value in checkpoint could not be found in the restored object: (root).optimizer.beta_2\n",
            "WARNING:tensorflow:Value in checkpoint could not be found in the restored object: (root).optimizer.decay\n",
            "WARNING:tensorflow:Value in checkpoint could not be found in the restored object: (root).optimizer.learning_rate\n"
          ]
        },
        {
          "output_type": "stream",
          "name": "stdout",
          "text": [
            "searching for the best params!\n"
          ]
        },
        {
          "output_type": "stream",
          "name": "stderr",
          "text": [
            "WARNING:tensorflow:5 out of the last 15 calls to <function Model.make_test_function.<locals>.test_function at 0x7fadd0333560> triggered tf.function retracing. Tracing is expensive and the excessive number of tracings could be due to (1) creating @tf.function repeatedly in a loop, (2) passing tensors with different shapes, (3) passing Python objects instead of tensors. For (1), please define your @tf.function outside of the loop. For (2), @tf.function has reduce_retracing=True option that can avoid unnecessary retracing. For (3), please refer to https://www.tensorflow.org/guide/function#controlling_retracing and https://www.tensorflow.org/api_docs/python/tf/function for  more details.\n",
            "WARNING:tensorflow:6 out of the last 17 calls to <function Model.make_test_function.<locals>.test_function at 0x7fad76356dd0> triggered tf.function retracing. Tracing is expensive and the excessive number of tracings could be due to (1) creating @tf.function repeatedly in a loop, (2) passing tensors with different shapes, (3) passing Python objects instead of tensors. For (1), please define your @tf.function outside of the loop. For (2), @tf.function has reduce_retracing=True option that can avoid unnecessary retracing. For (3), please refer to https://www.tensorflow.org/guide/function#controlling_retracing and https://www.tensorflow.org/api_docs/python/tf/function for  more details.\n"
          ]
        },
        {
          "output_type": "stream",
          "name": "stdout",
          "text": [
            "789.8020212650299  secs\n"
          ]
        }
      ]
    },
    {
      "cell_type": "code",
      "source": [
        "print(f\"\"\"\n",
        "The hyperparameter search is complete. The optimal number of units in the \n",
        "first densely-connected layer is {best_hps.get('units_1')},\n",
        "second layer is {best_hps.get('units_2')} \n",
        "third layer is {best_hps.get('units_3')} \n",
        "drop out is {best_hps.get('dropout')}\n",
        "#learning rate is {best_hps.get('learning_rate')}                                        \n",
        "\n",
        "and the optimal learning rate for the optimizer\n",
        "is {best_hps.get('learning_rate')}.\n",
        "\"\"\")\n",
        "\n",
        "# Evaluate the best model.\n",
        "print(best_model.metrics_names)\n",
        "loss, mae, mse = best_model.evaluate(X_test, y_test)\n",
        "print(f'loss:{loss} mae: {mae} mse: {mse}')\n",
        "\n",
        "'''\n",
        "print(best_hps.get('units'))\n",
        "print(best_hps.get('layers'))\n",
        "print(best_hps.get('window'))\n",
        "print(best_hps.get('learning_rate'))\n",
        "'''"
      ],
      "metadata": {
        "colab": {
          "base_uri": "https://localhost:8080/",
          "height": 269
        },
        "id": "UcOC-csfrvmH",
        "outputId": "522350b9-fbdd-43a0-edcd-97a1f56bbc79"
      },
      "execution_count": null,
      "outputs": [
        {
          "output_type": "stream",
          "name": "stdout",
          "text": [
            "\n",
            "The hyperparameter search is complete. The optimal number of units in the \n",
            "first densely-connected layer is 128,\n",
            "second layer is 96 \n",
            "third layer is 48 \n",
            "drop out is 0.45\n",
            "#learning rate is 0.007588827342097074                                        \n",
            "\n",
            "and the optimal learning rate for the optimizer\n",
            "is 0.007588827342097074.\n",
            "\n",
            "[]\n",
            "1/1 [==============================] - 0s 319ms/step - loss: 0.0114 - mae: 0.0948 - mse: 0.0114\n",
            "loss:0.01140345074236393 mae: 0.09478043019771576 mse: 0.01140345074236393\n"
          ]
        },
        {
          "output_type": "execute_result",
          "data": {
            "text/plain": [
              "\"\\nprint(best_hps.get('units'))\\nprint(best_hps.get('layers'))\\nprint(best_hps.get('window'))\\nprint(best_hps.get('learning_rate'))\\n\""
            ],
            "application/vnd.google.colaboratory.intrinsic+json": {
              "type": "string"
            }
          },
          "metadata": {},
          "execution_count": 56
        }
      ]
    },
    {
      "cell_type": "code",
      "source": [
        "# Get the optimal hyperparameters\n",
        "best_hps = tuner.get_best_hyperparameters(num_trials = 1)[0]\n",
        "print(best_hps.values)"
      ],
      "metadata": {
        "id": "q0e8tSIulgh_"
      },
      "execution_count": null,
      "outputs": []
    },
    {
      "cell_type": "markdown",
      "source": [
        "###Apply the trained parameters to the CNN"
      ],
      "metadata": {
        "id": "oggNSpcVpofH"
      }
    },
    {
      "cell_type": "code",
      "source": [
        "TUcnn_model = tf.keras.Sequential()\n",
        "TUcnn_model.add(tf.keras.layers.Conv1D(filters=128, kernel_size=2, activation='tanh', input_shape=(X_test.shape[1], X_test.shape[2])))\n",
        "TUcnn_model.add(tf.keras.layers.Dense(96, activation='tanh'))\n",
        "TUcnn_model.add(tf.keras.layers.MaxPooling1D(pool_size=2))\n",
        "TUcnn_model.add(tf.keras.layers.Flatten())\n",
        "\n",
        "##Hidden Layer\n",
        "TUcnn_model.add(tf.keras.layers.Dense(48))\n",
        "#TUcnn_model.add(layers.Dropout(0.45))\n",
        "\n",
        "#Output layer of model\n",
        "TUcnn_model.add(tf.keras.layers.Dense(1))"
      ],
      "metadata": {
        "id": "exKbi-BBYxAt"
      },
      "execution_count": 57,
      "outputs": []
    },
    {
      "cell_type": "code",
      "source": [
        "TUcnn_model.compile(loss = 'mse', optimizer= tf.keras.optimizers.Adam(learning_rate=0.003021691068008031), metrics= ['mae', 'mse'])\n",
        "#TUcnn_model.compile(optimizer='rmsprop',loss='mse',metrics=['mse']),\n",
        "history = TUcnn_model.fit(X_train, y_train, epochs=40, batch_size=32,validation_split=0.2,shuffle=False) # 80/160"
      ],
      "metadata": {
        "colab": {
          "base_uri": "https://localhost:8080/"
        },
        "id": "2OVvMjqyY2kW",
        "outputId": "474143b8-9e5c-43e7-a2db-86bc5c964ff5"
      },
      "execution_count": 58,
      "outputs": [
        {
          "output_type": "stream",
          "name": "stdout",
          "text": [
            "Epoch 1/40\n",
            "3/3 [==============================] - 1s 118ms/step - loss: 0.5720 - mae: 0.5856 - mse: 0.5720 - val_loss: 0.6606 - val_mae: 0.7255 - val_mse: 0.6606\n",
            "Epoch 2/40\n",
            "3/3 [==============================] - 0s 14ms/step - loss: 0.9500 - mae: 0.8391 - mse: 0.9500 - val_loss: 0.4164 - val_mae: 0.5637 - val_mse: 0.4164\n",
            "Epoch 3/40\n",
            "3/3 [==============================] - 0s 18ms/step - loss: 0.0760 - mae: 0.2444 - mse: 0.0760 - val_loss: 0.0970 - val_mae: 0.2554 - val_mse: 0.0970\n",
            "Epoch 4/40\n",
            "3/3 [==============================] - 0s 14ms/step - loss: 0.1795 - mae: 0.3728 - mse: 0.1795 - val_loss: 0.1112 - val_mae: 0.2857 - val_mse: 0.1112\n",
            "Epoch 5/40\n",
            "3/3 [==============================] - 0s 14ms/step - loss: 0.0576 - mae: 0.2084 - mse: 0.0576 - val_loss: 0.0554 - val_mae: 0.2016 - val_mse: 0.0554\n",
            "Epoch 6/40\n",
            "3/3 [==============================] - 0s 14ms/step - loss: 0.0568 - mae: 0.1947 - mse: 0.0568 - val_loss: 0.1638 - val_mae: 0.3421 - val_mse: 0.1638\n",
            "Epoch 7/40\n",
            "3/3 [==============================] - 0s 13ms/step - loss: 0.0925 - mae: 0.2570 - mse: 0.0925 - val_loss: 0.1054 - val_mae: 0.2677 - val_mse: 0.1054\n",
            "Epoch 8/40\n",
            "3/3 [==============================] - 0s 15ms/step - loss: 0.0275 - mae: 0.1337 - mse: 0.0275 - val_loss: 0.0330 - val_mae: 0.1573 - val_mse: 0.0330\n",
            "Epoch 9/40\n",
            "3/3 [==============================] - 0s 14ms/step - loss: 0.0157 - mae: 0.0972 - mse: 0.0157 - val_loss: 0.0357 - val_mae: 0.1518 - val_mse: 0.0357\n",
            "Epoch 10/40\n",
            "3/3 [==============================] - 0s 13ms/step - loss: 0.0358 - mae: 0.1634 - mse: 0.0358 - val_loss: 0.0335 - val_mae: 0.1464 - val_mse: 0.0335\n",
            "Epoch 11/40\n",
            "3/3 [==============================] - 0s 13ms/step - loss: 0.0242 - mae: 0.1276 - mse: 0.0242 - val_loss: 0.0238 - val_mae: 0.1325 - val_mse: 0.0238\n",
            "Epoch 12/40\n",
            "3/3 [==============================] - 0s 14ms/step - loss: 0.0134 - mae: 0.0890 - mse: 0.0134 - val_loss: 0.0322 - val_mae: 0.1468 - val_mse: 0.0322\n",
            "Epoch 13/40\n",
            "3/3 [==============================] - 0s 14ms/step - loss: 0.0173 - mae: 0.1067 - mse: 0.0173 - val_loss: 0.0372 - val_mae: 0.1594 - val_mse: 0.0372\n",
            "Epoch 14/40\n",
            "3/3 [==============================] - 0s 15ms/step - loss: 0.0164 - mae: 0.1039 - mse: 0.0164 - val_loss: 0.0284 - val_mae: 0.1383 - val_mse: 0.0284\n",
            "Epoch 15/40\n",
            "3/3 [==============================] - 0s 14ms/step - loss: 0.0106 - mae: 0.0816 - mse: 0.0106 - val_loss: 0.0203 - val_mae: 0.1187 - val_mse: 0.0203\n",
            "Epoch 16/40\n",
            "3/3 [==============================] - 0s 13ms/step - loss: 0.0105 - mae: 0.0762 - mse: 0.0105 - val_loss: 0.0196 - val_mae: 0.1141 - val_mse: 0.0196\n",
            "Epoch 17/40\n",
            "3/3 [==============================] - 0s 15ms/step - loss: 0.0130 - mae: 0.0873 - mse: 0.0130 - val_loss: 0.0190 - val_mae: 0.1109 - val_mse: 0.0190\n",
            "Epoch 18/40\n",
            "3/3 [==============================] - 0s 14ms/step - loss: 0.0115 - mae: 0.0800 - mse: 0.0115 - val_loss: 0.0178 - val_mae: 0.1084 - val_mse: 0.0178\n",
            "Epoch 19/40\n",
            "3/3 [==============================] - 0s 19ms/step - loss: 0.0099 - mae: 0.0759 - mse: 0.0099 - val_loss: 0.0186 - val_mae: 0.1112 - val_mse: 0.0186\n",
            "Epoch 20/40\n",
            "3/3 [==============================] - 0s 14ms/step - loss: 0.0101 - mae: 0.0791 - mse: 0.0101 - val_loss: 0.0185 - val_mae: 0.1121 - val_mse: 0.0185\n",
            "Epoch 21/40\n",
            "3/3 [==============================] - 0s 18ms/step - loss: 0.0095 - mae: 0.0771 - mse: 0.0095 - val_loss: 0.0166 - val_mae: 0.1049 - val_mse: 0.0166\n",
            "Epoch 22/40\n",
            "3/3 [==============================] - 0s 14ms/step - loss: 0.0086 - mae: 0.0713 - mse: 0.0086 - val_loss: 0.0156 - val_mae: 0.0975 - val_mse: 0.0156\n",
            "Epoch 23/40\n",
            "3/3 [==============================] - 0s 15ms/step - loss: 0.0088 - mae: 0.0702 - mse: 0.0088 - val_loss: 0.0156 - val_mae: 0.0954 - val_mse: 0.0156\n",
            "Epoch 24/40\n",
            "3/3 [==============================] - 0s 14ms/step - loss: 0.0088 - mae: 0.0705 - mse: 0.0088 - val_loss: 0.0150 - val_mae: 0.0942 - val_mse: 0.0150\n",
            "Epoch 25/40\n",
            "3/3 [==============================] - 0s 14ms/step - loss: 0.0084 - mae: 0.0704 - mse: 0.0084 - val_loss: 0.0145 - val_mae: 0.0953 - val_mse: 0.0145\n",
            "Epoch 26/40\n",
            "3/3 [==============================] - 0s 14ms/step - loss: 0.0083 - mae: 0.0718 - mse: 0.0083 - val_loss: 0.0143 - val_mae: 0.0953 - val_mse: 0.0143\n",
            "Epoch 27/40\n",
            "3/3 [==============================] - 0s 13ms/step - loss: 0.0081 - mae: 0.0715 - mse: 0.0081 - val_loss: 0.0141 - val_mae: 0.0924 - val_mse: 0.0141\n",
            "Epoch 28/40\n",
            "3/3 [==============================] - 0s 13ms/step - loss: 0.0079 - mae: 0.0695 - mse: 0.0079 - val_loss: 0.0143 - val_mae: 0.0927 - val_mse: 0.0143\n",
            "Epoch 29/40\n",
            "3/3 [==============================] - 0s 14ms/step - loss: 0.0079 - mae: 0.0689 - mse: 0.0079 - val_loss: 0.0145 - val_mae: 0.0928 - val_mse: 0.0145\n",
            "Epoch 30/40\n",
            "3/3 [==============================] - 0s 18ms/step - loss: 0.0079 - mae: 0.0691 - mse: 0.0079 - val_loss: 0.0142 - val_mae: 0.0924 - val_mse: 0.0142\n",
            "Epoch 31/40\n",
            "3/3 [==============================] - 0s 15ms/step - loss: 0.0078 - mae: 0.0694 - mse: 0.0078 - val_loss: 0.0140 - val_mae: 0.0920 - val_mse: 0.0140\n",
            "Epoch 32/40\n",
            "3/3 [==============================] - 0s 14ms/step - loss: 0.0077 - mae: 0.0696 - mse: 0.0077 - val_loss: 0.0140 - val_mae: 0.0921 - val_mse: 0.0140\n",
            "Epoch 33/40\n",
            "3/3 [==============================] - 0s 22ms/step - loss: 0.0076 - mae: 0.0690 - mse: 0.0076 - val_loss: 0.0144 - val_mae: 0.0927 - val_mse: 0.0144\n",
            "Epoch 34/40\n",
            "3/3 [==============================] - 0s 14ms/step - loss: 0.0076 - mae: 0.0683 - mse: 0.0076 - val_loss: 0.0147 - val_mae: 0.0932 - val_mse: 0.0147\n",
            "Epoch 35/40\n",
            "3/3 [==============================] - 0s 13ms/step - loss: 0.0075 - mae: 0.0681 - mse: 0.0075 - val_loss: 0.0148 - val_mae: 0.0933 - val_mse: 0.0148\n",
            "Epoch 36/40\n",
            "3/3 [==============================] - 0s 13ms/step - loss: 0.0075 - mae: 0.0682 - mse: 0.0075 - val_loss: 0.0147 - val_mae: 0.0934 - val_mse: 0.0147\n",
            "Epoch 37/40\n",
            "3/3 [==============================] - 0s 14ms/step - loss: 0.0074 - mae: 0.0681 - mse: 0.0074 - val_loss: 0.0148 - val_mae: 0.0937 - val_mse: 0.0148\n",
            "Epoch 38/40\n",
            "3/3 [==============================] - 0s 13ms/step - loss: 0.0074 - mae: 0.0677 - mse: 0.0074 - val_loss: 0.0151 - val_mae: 0.0942 - val_mse: 0.0151\n",
            "Epoch 39/40\n",
            "3/3 [==============================] - 0s 14ms/step - loss: 0.0073 - mae: 0.0673 - mse: 0.0073 - val_loss: 0.0154 - val_mae: 0.0947 - val_mse: 0.0154\n",
            "Epoch 40/40\n",
            "3/3 [==============================] - 0s 13ms/step - loss: 0.0073 - mae: 0.0670 - mse: 0.0073 - val_loss: 0.0154 - val_mae: 0.0950 - val_mse: 0.0154\n"
          ]
        }
      ]
    },
    {
      "cell_type": "code",
      "source": [
        "loss = history.history['loss']\n",
        "val_loss = history.history['val_loss']\n",
        "\n",
        "epochs=range(len(loss)) \n",
        "\n",
        "\n",
        "#------------------------------------------------\n",
        "# Plot training and validation loss per epoch\n",
        "#------------------------------------------------\n",
        "plt.plot(epochs, loss, 'r',label='loss')\n",
        "plt.plot(epochs,val_loss,'blue',label='val loss')\n",
        "plt.title('Training loss & Val Loss by Epochs')\n",
        "plt.xlabel(\"Epochs\")\n",
        "plt.ylabel(\"Loss\")\n",
        "plt.legend()\n",
        "\n",
        "plt.figure()"
      ],
      "metadata": {
        "colab": {
          "base_uri": "https://localhost:8080/",
          "height": 417
        },
        "id": "DXBeY_MGZSMP",
        "outputId": "db855a03-1875-4c88-9d12-7dcbfd2a8411"
      },
      "execution_count": 59,
      "outputs": [
        {
          "output_type": "execute_result",
          "data": {
            "text/plain": [
              "<Figure size 720x360 with 0 Axes>"
            ]
          },
          "metadata": {},
          "execution_count": 59
        },
        {
          "output_type": "display_data",
          "data": {
            "text/plain": [
              "<Figure size 720x360 with 1 Axes>"
            ],
            "image/png": "[encoded data removed]"
          },
          "metadata": {}
        },
        {
          "output_type": "display_data",
          "data": {
            "text/plain": [
              "<Figure size 720x360 with 0 Axes>"
            ]
          },
          "metadata": {}
        }
      ]
    },
    {
      "cell_type": "code",
      "source": [
        "y_predTU = TUcnn_model.predict(X_test)\n",
        "y_predTU"
      ],
      "metadata": {
        "colab": {
          "base_uri": "https://localhost:8080/"
        },
        "id": "lHiuk7B6iQVK",
        "outputId": "a5e1a581-cb00-4a88-8caf-63f532e564d4"
      },
      "execution_count": 60,
      "outputs": [
        {
          "output_type": "stream",
          "name": "stdout",
          "text": [
            "1/1 [==============================] - 0s 72ms/step\n"
          ]
        },
        {
          "output_type": "execute_result",
          "data": {
            "text/plain": [
              "array([[ 0.02739051],\n",
              "       [ 0.02475598],\n",
              "       [ 0.05366591],\n",
              "       [ 0.06730174],\n",
              "       [ 0.04382813],\n",
              "       [ 0.02705536],\n",
              "       [ 0.01592903],\n",
              "       [-0.00856877],\n",
              "       [-0.04298469],\n",
              "       [-0.08368729],\n",
              "       [-0.08575425],\n",
              "       [-0.07252766],\n",
              "       [-0.0882172 ],\n",
              "       [-0.09449257],\n",
              "       [-0.09285624],\n",
              "       [-0.11190889],\n",
              "       [-0.13935459],\n",
              "       [-0.06251094],\n",
              "       [ 0.0708921 ],\n",
              "       [ 0.10622822],\n",
              "       [ 0.05270298],\n",
              "       [ 0.01000641]], dtype=float32)"
            ]
          },
          "metadata": {},
          "execution_count": 60
        }
      ]
    },
    {
      "cell_type": "code",
      "source": [
        "y_predTU.reshape(1,-1)"
      ],
      "metadata": {
        "colab": {
          "base_uri": "https://localhost:8080/"
        },
        "id": "JbqyY5OriQYh",
        "outputId": "42928a5a-e727-4ab2-f6cd-fff549e58687"
      },
      "execution_count": 61,
      "outputs": [
        {
          "output_type": "execute_result",
          "data": {
            "text/plain": [
              "array([[ 0.02739051,  0.02475598,  0.05366591,  0.06730174,  0.04382813,\n",
              "         0.02705536,  0.01592903, -0.00856877, -0.04298469, -0.08368729,\n",
              "        -0.08575425, -0.07252766, -0.0882172 , -0.09449257, -0.09285624,\n",
              "        -0.11190889, -0.13935459, -0.06251094,  0.0708921 ,  0.10622822,\n",
              "         0.05270298,  0.01000641]], dtype=float32)"
            ]
          },
          "metadata": {},
          "execution_count": 61
        }
      ]
    },
    {
      "cell_type": "markdown",
      "source": [
        "###Invert Transformed Tuned Data"
      ],
      "metadata": {
        "id": "XXPkM7CFsB5U"
      }
    },
    {
      "cell_type": "code",
      "source": [
        "y_train_inv = cpo_pri_transformer.inverse_transform(y_train.reshape(1, -1))\n",
        "y_test_inv = cpo_pri_transformer.inverse_transform(y_test.reshape(1, -1))\n",
        "y_pred_inv = cpo_pri_transformer.inverse_transform(y_predTU.reshape(1,-1))\n",
        "print(y_train_inv)\n",
        "print(y_test_inv)\n",
        "print(y_pred_inv)"
      ],
      "metadata": {
        "colab": {
          "base_uri": "https://localhost:8080/"
        },
        "id": "gZ8inWeYy64m",
        "outputId": "e7e7b4d4-b894-4aec-94de-3f6aa35c9590"
      },
      "execution_count": 62,
      "outputs": [
        {
          "output_type": "stream",
          "name": "stdout",
          "text": [
            "[[376. 383. 382. 396. 402. 390. 404. 382. 382. 391. 396. 413. 401. 410.\n",
            "  425. 408. 392. 371. 356. 362. 356. 352. 333. 357. 411. 404. 387. 395.\n",
            "  434. 488. 508. 494. 575. 614. 616. 707. 719. 655. 661. 687. 625. 611.\n",
            "  631. 655. 616. 586. 615. 607. 590. 535. 518. 519. 562. 552. 508. 476.\n",
            "  513. 545. 532. 550. 561. 567. 580. 559. 562. 553. 533. 498. 504. 525.\n",
            "  547. 556. 566. 621. 659. 671. 688. 705. 633. 661. 674. 703. 694. 681.\n",
            "  663. 632. 561. 497. 509. 475. 392. 319. 354. 388. 381. 370.]]\n",
            "[[349. 372. 324. 315. 312. 306. 288. 255. 257. 265. 254. 240. 254. 251.\n",
            "  234. 255. 330. 362. 310. 277. 323. 360.]]\n",
            "[[329.9562  328.90237 340.46637 345.92072 336.53125 329.82214 325.3716\n",
            "  315.5725  301.80612 285.5251  284.6983  289.98895 283.71313 281.20297\n",
            "  281.8575  274.23645 263.25818 293.9956  347.35684 361.4913  340.08118\n",
            "  323.00256]]\n"
          ]
        }
      ]
    },
    {
      "cell_type": "code",
      "source": [
        "y_train_inv = y_train_inv.flatten()\n",
        "y_train_inv"
      ],
      "metadata": {
        "colab": {
          "base_uri": "https://localhost:8080/"
        },
        "id": "2g9TLmgHy7Hw",
        "outputId": "faa16099-bd65-457a-8f47-98f9e72b05b4"
      },
      "execution_count": 63,
      "outputs": [
        {
          "output_type": "execute_result",
          "data": {
            "text/plain": [
              "array([376., 383., 382., 396., 402., 390., 404., 382., 382., 391., 396.,\n",
              "       413., 401., 410., 425., 408., 392., 371., 356., 362., 356., 352.,\n",
              "       333., 357., 411., 404., 387., 395., 434., 488., 508., 494., 575.,\n",
              "       614., 616., 707., 719., 655., 661., 687., 625., 611., 631., 655.,\n",
              "       616., 586., 615., 607., 590., 535., 518., 519., 562., 552., 508.,\n",
              "       476., 513., 545., 532., 550., 561., 567., 580., 559., 562., 553.,\n",
              "       533., 498., 504., 525., 547., 556., 566., 621., 659., 671., 688.,\n",
              "       705., 633., 661., 674., 703., 694., 681., 663., 632., 561., 497.,\n",
              "       509., 475., 392., 319., 354., 388., 381., 370.])"
            ]
          },
          "metadata": {},
          "execution_count": 63
        }
      ]
    },
    {
      "cell_type": "code",
      "source": [
        "y_test_inv = y_test_inv.flatten()\n",
        "y_test_inv"
      ],
      "metadata": {
        "colab": {
          "base_uri": "https://localhost:8080/"
        },
        "id": "PDdnZUrXy7L4",
        "outputId": "d0e1015f-035b-44df-fb8b-90bc42de69cb"
      },
      "execution_count": 64,
      "outputs": [
        {
          "output_type": "execute_result",
          "data": {
            "text/plain": [
              "array([349., 372., 324., 315., 312., 306., 288., 255., 257., 265., 254.,\n",
              "       240., 254., 251., 234., 255., 330., 362., 310., 277., 323., 360.])"
            ]
          },
          "metadata": {},
          "execution_count": 64
        }
      ]
    },
    {
      "cell_type": "code",
      "source": [
        "TU_CNN_Pred = y_pred_inv.flatten()   #y_pred_inv = TU_CNN_Pred\n",
        "TU_CNN_Pred"
      ],
      "metadata": {
        "colab": {
          "base_uri": "https://localhost:8080/"
        },
        "id": "fqq4-3-lsuEy",
        "outputId": "f49b6e63-b90f-4003-8f26-b17ba22675a2"
      },
      "execution_count": 65,
      "outputs": [
        {
          "output_type": "execute_result",
          "data": {
            "text/plain": [
              "array([329.9562 , 328.90237, 340.46637, 345.92072, 336.53125, 329.82214,\n",
              "       325.3716 , 315.5725 , 301.80612, 285.5251 , 284.6983 , 289.98895,\n",
              "       283.71313, 281.20297, 281.8575 , 274.23645, 263.25818, 293.9956 ,\n",
              "       347.35684, 361.4913 , 340.08118, 323.00256], dtype=float32)"
            ]
          },
          "metadata": {},
          "execution_count": 65
        }
      ]
    },
    {
      "cell_type": "code",
      "source": [
        "plt.plot(np.arange(0, len(y_train)), y_train_inv, color='green', label=\"History\")\n",
        "plt.plot(np.arange(len(y_train), len(y_train) + len(y_test)), y_test_inv, color='blue', marker='.', label=\"Actual\")\n",
        "plt.plot(np.arange(len(y_train), len(y_train) + len(y_test)), TU_CNN_Pred, color='red', label=\"Tuned CNN Prediction\")\n",
        "plt.ylabel('Crude Palm Oil Price')\n",
        "plt.xlabel('Time step')\n",
        "plt.legend()\n",
        "plt.show();"
      ],
      "metadata": {
        "colab": {
          "base_uri": "https://localhost:8080/",
          "height": 363
        },
        "id": "nBN919VXsuNq",
        "outputId": "1167a288-e703-49b8-8d21-79785aea6112"
      },
      "execution_count": 66,
      "outputs": [
        {
          "output_type": "display_data",
          "data": {
            "text/plain": [
              "<Figure size 720x360 with 1 Axes>"
            ],
            "image/png": "[encoded data removed]"
          },
          "metadata": {}
        }
      ]
    },
    {
      "cell_type": "code",
      "source": [
        "TUMAE_cnn = mean_absolute_error(y_test_inv, TU_CNN_Pred)\n",
        "print('MAE value of the CNN Model is:', TUMAE_cnn)\n",
        "\n",
        "TUMDA_cnn = mda(y_test_inv, TU_CNN_Pred)\n",
        "print('MDA value of the CNN Model is:', TUMDA_cnn)\n",
        "\n",
        "TUMAPE_cnn = mean_absolute_percentage_error(y_test_inv, TU_CNN_Pred)\n",
        "print('MAPE value of the CNN Model is:', TUMAPE_cnn)\n",
        "\n",
        "TURMSE_cnn = mean_squared_error(y_test_inv,TU_CNN_Pred, squared=False)\n",
        "print('RMSE value of the CNN Model is:', TURMSE_cnn)\n",
        "\n",
        "TUMSE_cnn = mean_squared_error(y_test_inv,TU_CNN_Pred)\n",
        "print('MSE value of the CNN Model is:', TUMSE_cnn)"
      ],
      "metadata": {
        "colab": {
          "base_uri": "https://localhost:8080/"
        },
        "id": "FqciJO0esuRc",
        "outputId": "772544e0-abfd-412b-df86-630be681d969"
      },
      "execution_count": 67,
      "outputs": [
        {
          "output_type": "stream",
          "name": "stdout",
          "text": [
            "MAE value of the CNN Model is: 38.16034212979403\n",
            "MDA value of the CNN Model is: 0.3333333333333333\n",
            "MAPE value of the CNN Model is: 13.239452942172985\n",
            "RMSE value of the CNN Model is: 42.255622015122775\n",
            "MSE value of the CNN Model is: 1785.5375918849286\n"
          ]
        }
      ]
    },
    {
      "cell_type": "markdown",
      "source": [
        "Tuned CNN Actual VS Predicted Zoomed-IN"
      ],
      "metadata": {
        "id": "oczznVkQihRI"
      }
    },
    {
      "cell_type": "code",
      "source": [
        "plt.figure(figsize=(17,9))\n",
        "#plt.grid()\n",
        "#plt.plot(np.arange(0, len(y_train)), y_train_inv, color='green', label=\"History\")\n",
        "plt.plot(np.arange(len(y_train), len(y_train) + len(y_test)), y_test_inv, color='red', marker='.', label=\"Actual\")\n",
        "plt.plot(np.arange(len(y_train), len(y_train) + len(y_test)), TU_CNN_Pred, color='green', label=\"Tuned CNN Prediction\")\n",
        "plt.ylabel('Crude Palm Oil Price')\n",
        "plt.xlabel('Time step')\n",
        "plt.legend()\n",
        "ax.grid()\n",
        "#plt.grid()\n",
        "#plt.show();"
      ],
      "metadata": {
        "colab": {
          "base_uri": "https://localhost:8080/",
          "height": 596
        },
        "id": "RmqyhCu_iV_w",
        "outputId": "ecd52e38-3bbc-45e6-bd7d-ae875410649f"
      },
      "execution_count": 68,
      "outputs": [
        {
          "output_type": "display_data",
          "data": {
            "text/plain": [
              "<Figure size 1224x648 with 1 Axes>"
            ],
            "image/png": "[encoded data removed]"
          },
          "metadata": {}
        }
      ]
    },
    {
      "cell_type": "markdown",
      "source": [
        "##Results\n",
        "\n",
        "Baseline MSE         = 0.0188\n",
        "\n",
        "Random search MSE    = 0.1198\n",
        "\n",
        "Bayesian search MSE  = 0.3479\n",
        "\n",
        "Hyperband search MSE = 0.0114\n",
        "\n",
        "Baseline RSME        = 54.80\n",
        "\n",
        "Tuned CNN RSME       = 46.57"
      ],
      "metadata": {
        "id": "xMdKc2DKj1e-"
      }
    },
    {
      "cell_type": "code",
      "source": [
        "12-5"
      ],
      "metadata": {
        "id": "GbY2FbAlZmED",
        "outputId": "5620398c-979e-47fb-fd5e-4d7afdc3b28c",
        "colab": {
          "base_uri": "https://localhost:8080/"
        }
      },
      "execution_count": 70,
      "outputs": [
        {
          "output_type": "execute_result",
          "data": {
            "text/plain": [
              "7"
            ]
          },
          "metadata": {},
          "execution_count": 70
        }
      ]
    },
    {
      "cell_type": "code",
      "source": [
        "#Plot the graph between actual vs predicted values\n",
        "plt.figure(figsize=(15,7))  #(10,6))\n",
        "plt.plot(TU_CNN_Pred, color= 'green',marker='.',label = 'Tuned CNN Predicted for cpo_pri')\n",
        "plt.plot(y_test_inv, color = 'red',marker='.',label = 'Actual cpo_pri ')\n",
        "plt.title(\"Tuned CNN Crude Palm Oil Price Prediction (Multivariate)\")\n",
        "plt.xlabel(\"Date\")\n",
        "plt.ylabel(\"Crude Palm Oil Price\")\n",
        "plt.legend()\n",
        "plt.show()\n",
        "plt.savefig('graph_cnn.png')"
      ],
      "metadata": {
        "colab": {
          "base_uri": "https://localhost:8080/",
          "height": 517
        },
        "id": "p2ROa7tdIDw1",
        "outputId": "1a338844-fc2d-4f95-bb07-dcb0c72cf0e5"
      },
      "execution_count": 71,
      "outputs": [
        {
          "output_type": "display_data",
          "data": {
            "text/plain": [
              "<Figure size 1080x504 with 1 Axes>"
            ],
            "image/png": "[encoded data removed]"
          },
          "metadata": {}
        },
        {
          "output_type": "display_data",
          "data": {
            "text/plain": [
              "<Figure size 720x360 with 0 Axes>"
            ]
          },
          "metadata": {}
        }
      ]
    },
    {
      "cell_type": "code",
      "source": [
        "dataframe1=pd.DataFrame(y_test_inv, columns=['Actual']) \n",
        "print (dataframe1)"
      ],
      "metadata": {
        "colab": {
          "base_uri": "https://localhost:8080/"
        },
        "id": "Ikde_3HIRxN1",
        "outputId": "2ad63d3c-7149-4e13-96ea-bad13627d2fe"
      },
      "execution_count": 73,
      "outputs": [
        {
          "output_type": "stream",
          "name": "stdout",
          "text": [
            "    Actual\n",
            "0    349.0\n",
            "1    372.0\n",
            "2    324.0\n",
            "3    315.0\n",
            "4    312.0\n",
            "5    306.0\n",
            "6    288.0\n",
            "7    255.0\n",
            "8    257.0\n",
            "9    265.0\n",
            "10   254.0\n",
            "11   240.0\n",
            "12   254.0\n",
            "13   251.0\n",
            "14   234.0\n",
            "15   255.0\n",
            "16   330.0\n",
            "17   362.0\n",
            "18   310.0\n",
            "19   277.0\n",
            "20   323.0\n",
            "21   360.0\n"
          ]
        }
      ]
    },
    {
      "cell_type": "code",
      "source": [
        "dataframe2=pd.DataFrame(TU_CNN_Pred, columns=['TU_CNN_Pred']) \n",
        "print (dataframe2)"
      ],
      "metadata": {
        "id": "hv93aOpUVYLh",
        "colab": {
          "base_uri": "https://localhost:8080/"
        },
        "outputId": "51202fd7-9731-4ad5-ab73-ded7ff7817a8"
      },
      "execution_count": 70,
      "outputs": [
        {
          "output_type": "stream",
          "name": "stdout",
          "text": [
            "    TU_CNN_Pred\n",
            "0    344.218903\n",
            "1    341.584686\n",
            "2    353.894501\n",
            "3    355.339630\n",
            "4    342.074219\n",
            "5    335.313416\n",
            "6    333.718719\n",
            "7    329.926910\n",
            "8    309.756226\n",
            "9    291.540192\n",
            "10   295.723907\n",
            "11   301.633362\n",
            "12   295.315063\n",
            "13   288.760864\n",
            "14   291.093109\n",
            "15   286.227875\n",
            "16   273.371735\n",
            "17   289.342834\n",
            "18   337.855591\n",
            "19   365.395325\n",
            "20   342.059265\n",
            "21   329.132385\n"
          ]
        }
      ]
    },
    {
      "cell_type": "code",
      "source": [
        " df.to_csv('actual.csv', index=False)"
      ],
      "metadata": {
        "id": "L0ewVCYKjNot"
      },
      "execution_count": 73,
      "outputs": []
    },
    {
      "cell_type": "code",
      "source": [
        "df.to_csv('TU_CNN_Pred.csv', index=False)"
      ],
      "metadata": {
        "id": "qSmTNvAnTfID"
      },
      "execution_count": 72,
      "outputs": []
    },
    {
      "cell_type": "code",
      "source": [],
      "metadata": {
        "id": "EggPIIPvTfL6"
      },
      "execution_count": null,
      "outputs": []
    },
    {
      "cell_type": "code",
      "source": [],
      "metadata": {
        "id": "IN4SwmYDTfP8"
      },
      "execution_count": null,
      "outputs": []
    },
    {
      "cell_type": "code",
      "source": [],
      "metadata": {
        "id": "_anfdAx0TfT7"
      },
      "execution_count": null,
      "outputs": []
    }
  ]
}