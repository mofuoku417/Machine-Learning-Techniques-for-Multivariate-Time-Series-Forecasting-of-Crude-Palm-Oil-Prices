{
  "nbformat": 4,
  "nbformat_minor": 0,
  "metadata": {
    "colab": {
      "name": "MV_CNN.ipynb",
      "provenance": [],
      "authorship_tag": "ABX9TyPvb1q2HdnNI4jaYlcmhTrc",
      "include_colab_link": true
    },
    "kernelspec": {
      "name": "python3",
      "display_name": "Python 3"
    },
    "language_info": {
      "name": "python"
    }
  },
  "cells": [
    {
      "cell_type": "markdown",
      "metadata": {
        "id": "view-in-github",
        "colab_type": "text"
      },
      "source": [
        "<a href=\"https://colab.research.google.com/github/mofuoku417/Machine-Learning-Techniques-for-Multivariate-Time-Series-Forecasting-of-Crude-Palm-Oil-Prices/blob/main/MV_CNN.ipynb\" target=\"_parent\"><img src=\"https://colab.research.google.com/assets/colab-badge.svg\" alt=\"Open In Colab\"/></a>"
      ]
    },
    {
      "cell_type": "markdown",
      "source": [
        "##Objective: Predict Monthly Crude Palm Oil Price Using Convolutional Neural Network (CNN)"
      ],
      "metadata": {
        "id": "tt6Yvzr3gZ-g"
      }
    },
    {
      "cell_type": "code",
      "source": [
        "!pip install scikeras\n",
        "!pip install bayesian-optimization\n",
        "!pip install keras-tuner --upgrade"
      ],
      "metadata": {
        "id": "gGw0m6TUdgMM",
        "outputId": "64589519-c802-4fe1-9ada-486326d2c08f",
        "colab": {
          "base_uri": "https://localhost:8080/"
        }
      },
      "execution_count": 2,
      "outputs": [
        {
          "output_type": "stream",
          "name": "stdout",
          "text": [
            "Collecting scikeras\n",
            "  Downloading scikeras-0.7.0-py3-none-any.whl (27 kB)\n",
            "Requirement already satisfied: packaging<22.0,>=0.21 in /usr/local/lib/python3.7/dist-packages (from scikeras) (21.3)\n",
            "Requirement already satisfied: scikit-learn>=1.0.0 in /usr/local/lib/python3.7/dist-packages (from scikeras) (1.0.2)\n",
            "Requirement already satisfied: importlib-metadata>=3 in /usr/local/lib/python3.7/dist-packages (from scikeras) (4.11.3)\n",
            "Requirement already satisfied: typing-extensions>=3.6.4 in /usr/local/lib/python3.7/dist-packages (from importlib-metadata>=3->scikeras) (4.2.0)\n",
            "Requirement already satisfied: zipp>=0.5 in /usr/local/lib/python3.7/dist-packages (from importlib-metadata>=3->scikeras) (3.8.0)\n",
            "Requirement already satisfied: pyparsing!=3.0.5,>=2.0.2 in /usr/local/lib/python3.7/dist-packages (from packaging<22.0,>=0.21->scikeras) (3.0.8)\n",
            "Requirement already satisfied: scipy>=1.1.0 in /usr/local/lib/python3.7/dist-packages (from scikit-learn>=1.0.0->scikeras) (1.4.1)\n",
            "Requirement already satisfied: numpy>=1.14.6 in /usr/local/lib/python3.7/dist-packages (from scikit-learn>=1.0.0->scikeras) (1.21.6)\n",
            "Requirement already satisfied: threadpoolctl>=2.0.0 in /usr/local/lib/python3.7/dist-packages (from scikit-learn>=1.0.0->scikeras) (3.1.0)\n",
            "Requirement already satisfied: joblib>=0.11 in /usr/local/lib/python3.7/dist-packages (from scikit-learn>=1.0.0->scikeras) (1.1.0)\n",
            "Installing collected packages: scikeras\n",
            "Successfully installed scikeras-0.7.0\n",
            "Collecting bayesian-optimization\n",
            "  Downloading bayesian-optimization-1.2.0.tar.gz (14 kB)\n",
            "Requirement already satisfied: numpy>=1.9.0 in /usr/local/lib/python3.7/dist-packages (from bayesian-optimization) (1.21.6)\n",
            "Requirement already satisfied: scipy>=0.14.0 in /usr/local/lib/python3.7/dist-packages (from bayesian-optimization) (1.4.1)\n",
            "Requirement already satisfied: scikit-learn>=0.18.0 in /usr/local/lib/python3.7/dist-packages (from bayesian-optimization) (1.0.2)\n",
            "Requirement already satisfied: joblib>=0.11 in /usr/local/lib/python3.7/dist-packages (from scikit-learn>=0.18.0->bayesian-optimization) (1.1.0)\n",
            "Requirement already satisfied: threadpoolctl>=2.0.0 in /usr/local/lib/python3.7/dist-packages (from scikit-learn>=0.18.0->bayesian-optimization) (3.1.0)\n",
            "Building wheels for collected packages: bayesian-optimization\n",
            "  Building wheel for bayesian-optimization (setup.py) ... \u001b[?25l\u001b[?25hdone\n",
            "  Created wheel for bayesian-optimization: filename=bayesian_optimization-1.2.0-py3-none-any.whl size=11685 sha256=b2e4fedff6d2eb5034a968b140f85809ade9fe4d7baa8004a4057c974ba3a07f\n",
            "  Stored in directory: /root/.cache/pip/wheels/fd/9b/71/f127d694e02eb40bcf18c7ae9613b88a6be4470f57a8528c5b\n",
            "Successfully built bayesian-optimization\n",
            "Installing collected packages: bayesian-optimization\n",
            "Successfully installed bayesian-optimization-1.2.0\n",
            "Collecting keras-tuner\n",
            "  Downloading keras_tuner-1.1.2-py3-none-any.whl (133 kB)\n",
            "\u001b[K     |████████████████████████████████| 133 kB 6.3 MB/s \n",
            "\u001b[?25hRequirement already satisfied: packaging in /usr/local/lib/python3.7/dist-packages (from keras-tuner) (21.3)\n",
            "Collecting kt-legacy\n",
            "  Downloading kt_legacy-1.0.4-py3-none-any.whl (9.6 kB)\n",
            "Requirement already satisfied: requests in /usr/local/lib/python3.7/dist-packages (from keras-tuner) (2.23.0)\n",
            "Requirement already satisfied: ipython in /usr/local/lib/python3.7/dist-packages (from keras-tuner) (5.5.0)\n",
            "Requirement already satisfied: tensorboard in /usr/local/lib/python3.7/dist-packages (from keras-tuner) (2.8.0)\n",
            "Requirement already satisfied: numpy in /usr/local/lib/python3.7/dist-packages (from keras-tuner) (1.21.6)\n",
            "Requirement already satisfied: pickleshare in /usr/local/lib/python3.7/dist-packages (from ipython->keras-tuner) (0.7.5)\n",
            "Requirement already satisfied: pexpect in /usr/local/lib/python3.7/dist-packages (from ipython->keras-tuner) (4.8.0)\n",
            "Requirement already satisfied: decorator in /usr/local/lib/python3.7/dist-packages (from ipython->keras-tuner) (4.4.2)\n",
            "Requirement already satisfied: traitlets>=4.2 in /usr/local/lib/python3.7/dist-packages (from ipython->keras-tuner) (5.1.1)\n",
            "Requirement already satisfied: setuptools>=18.5 in /usr/local/lib/python3.7/dist-packages (from ipython->keras-tuner) (57.4.0)\n",
            "Requirement already satisfied: prompt-toolkit<2.0.0,>=1.0.4 in /usr/local/lib/python3.7/dist-packages (from ipython->keras-tuner) (1.0.18)\n",
            "Requirement already satisfied: pygments in /usr/local/lib/python3.7/dist-packages (from ipython->keras-tuner) (2.6.1)\n",
            "Requirement already satisfied: simplegeneric>0.8 in /usr/local/lib/python3.7/dist-packages (from ipython->keras-tuner) (0.8.1)\n",
            "Requirement already satisfied: six>=1.9.0 in /usr/local/lib/python3.7/dist-packages (from prompt-toolkit<2.0.0,>=1.0.4->ipython->keras-tuner) (1.15.0)\n",
            "Requirement already satisfied: wcwidth in /usr/local/lib/python3.7/dist-packages (from prompt-toolkit<2.0.0,>=1.0.4->ipython->keras-tuner) (0.2.5)\n",
            "Requirement already satisfied: pyparsing!=3.0.5,>=2.0.2 in /usr/local/lib/python3.7/dist-packages (from packaging->keras-tuner) (3.0.8)\n",
            "Requirement already satisfied: ptyprocess>=0.5 in /usr/local/lib/python3.7/dist-packages (from pexpect->ipython->keras-tuner) (0.7.0)\n",
            "Requirement already satisfied: idna<3,>=2.5 in /usr/local/lib/python3.7/dist-packages (from requests->keras-tuner) (2.10)\n",
            "Requirement already satisfied: certifi>=2017.4.17 in /usr/local/lib/python3.7/dist-packages (from requests->keras-tuner) (2021.10.8)\n",
            "Requirement already satisfied: chardet<4,>=3.0.2 in /usr/local/lib/python3.7/dist-packages (from requests->keras-tuner) (3.0.4)\n",
            "Requirement already satisfied: urllib3!=1.25.0,!=1.25.1,<1.26,>=1.21.1 in /usr/local/lib/python3.7/dist-packages (from requests->keras-tuner) (1.24.3)\n",
            "Requirement already satisfied: markdown>=2.6.8 in /usr/local/lib/python3.7/dist-packages (from tensorboard->keras-tuner) (3.3.6)\n",
            "Requirement already satisfied: wheel>=0.26 in /usr/local/lib/python3.7/dist-packages (from tensorboard->keras-tuner) (0.37.1)\n",
            "Requirement already satisfied: grpcio>=1.24.3 in /usr/local/lib/python3.7/dist-packages (from tensorboard->keras-tuner) (1.44.0)\n",
            "Requirement already satisfied: google-auth-oauthlib<0.5,>=0.4.1 in /usr/local/lib/python3.7/dist-packages (from tensorboard->keras-tuner) (0.4.6)\n",
            "Requirement already satisfied: tensorboard-plugin-wit>=1.6.0 in /usr/local/lib/python3.7/dist-packages (from tensorboard->keras-tuner) (1.8.1)\n",
            "Requirement already satisfied: google-auth<3,>=1.6.3 in /usr/local/lib/python3.7/dist-packages (from tensorboard->keras-tuner) (1.35.0)\n",
            "Requirement already satisfied: absl-py>=0.4 in /usr/local/lib/python3.7/dist-packages (from tensorboard->keras-tuner) (1.0.0)\n",
            "Requirement already satisfied: protobuf>=3.6.0 in /usr/local/lib/python3.7/dist-packages (from tensorboard->keras-tuner) (3.17.3)\n",
            "Requirement already satisfied: tensorboard-data-server<0.7.0,>=0.6.0 in /usr/local/lib/python3.7/dist-packages (from tensorboard->keras-tuner) (0.6.1)\n",
            "Requirement already satisfied: werkzeug>=0.11.15 in /usr/local/lib/python3.7/dist-packages (from tensorboard->keras-tuner) (1.0.1)\n",
            "Requirement already satisfied: pyasn1-modules>=0.2.1 in /usr/local/lib/python3.7/dist-packages (from google-auth<3,>=1.6.3->tensorboard->keras-tuner) (0.2.8)\n",
            "Requirement already satisfied: rsa<5,>=3.1.4 in /usr/local/lib/python3.7/dist-packages (from google-auth<3,>=1.6.3->tensorboard->keras-tuner) (4.8)\n",
            "Requirement already satisfied: cachetools<5.0,>=2.0.0 in /usr/local/lib/python3.7/dist-packages (from google-auth<3,>=1.6.3->tensorboard->keras-tuner) (4.2.4)\n",
            "Requirement already satisfied: requests-oauthlib>=0.7.0 in /usr/local/lib/python3.7/dist-packages (from google-auth-oauthlib<0.5,>=0.4.1->tensorboard->keras-tuner) (1.3.1)\n",
            "Requirement already satisfied: importlib-metadata>=4.4 in /usr/local/lib/python3.7/dist-packages (from markdown>=2.6.8->tensorboard->keras-tuner) (4.11.3)\n",
            "Requirement already satisfied: zipp>=0.5 in /usr/local/lib/python3.7/dist-packages (from importlib-metadata>=4.4->markdown>=2.6.8->tensorboard->keras-tuner) (3.8.0)\n",
            "Requirement already satisfied: typing-extensions>=3.6.4 in /usr/local/lib/python3.7/dist-packages (from importlib-metadata>=4.4->markdown>=2.6.8->tensorboard->keras-tuner) (4.2.0)\n",
            "Requirement already satisfied: pyasn1<0.5.0,>=0.4.6 in /usr/local/lib/python3.7/dist-packages (from pyasn1-modules>=0.2.1->google-auth<3,>=1.6.3->tensorboard->keras-tuner) (0.4.8)\n",
            "Requirement already satisfied: oauthlib>=3.0.0 in /usr/local/lib/python3.7/dist-packages (from requests-oauthlib>=0.7.0->google-auth-oauthlib<0.5,>=0.4.1->tensorboard->keras-tuner) (3.2.0)\n",
            "Installing collected packages: kt-legacy, keras-tuner\n",
            "Successfully installed keras-tuner-1.1.2 kt-legacy-1.0.4\n"
          ]
        }
      ]
    },
    {
      "cell_type": "markdown",
      "source": [
        "###Load Libraries"
      ],
      "metadata": {
        "id": "r_2Cswg0sYN8"
      }
    },
    {
      "cell_type": "code",
      "source": [
        "from numpy.random import seed\n",
        "seed(1)\n",
        "import tensorflow as tf\n",
        "tf.random.set_seed(1)\n",
        "\n",
        "import pandas as pd\n",
        "import numpy as np\n",
        "import matplotlib.pyplot as plt\n",
        "import seaborn as sns\n",
        "plt.rcParams['figure.figsize'] = (10, 5)\n",
        "plt.style.use('fivethirtyeight')\n",
        "from plotly.subplots import make_subplots\n",
        "import plotly.graph_objects as go\n",
        "import tensorflow as tf\n",
        "from tensorflow.keras import layers\n",
        "from sklearn.metrics import mean_absolute_error\n",
        "from sklearn.metrics import make_scorer, mean_squared_error\n",
        "from keras.layers import Dense, Dropout\n",
        "from sklearn.metrics import explained_variance_score\n",
        "from sklearn.neural_network import MLPRegressor\n",
        "from sklearn.model_selection import GridSearchCV, RandomizedSearchCV\n",
        "import warnings\n",
        "warnings.filterwarnings('ignore')\n",
        "from keras.models import Sequential\n",
        "from keras.layers import Dense\n",
        "from keras.wrappers.scikit_learn import KerasRegressor\n",
        "from keras.wrappers.scikit_learn import KerasClassifier\n",
        "from sklearn.model_selection import KFold, cross_val_score\n",
        "from scikeras.wrappers import KerasRegressor\n",
        "from tensorflow import keras\n",
        "from kerastuner.tuners import RandomSearch\n",
        "from kerastuner import HyperModel, RandomSearch, Hyperband, BayesianOptimization\n",
        "\n",
        "import matplotlib.dates as mdates\n",
        "from sklearn.preprocessing import RobustScaler\n",
        "from sklearn.preprocessing import MinMaxScaler"
      ],
      "metadata": {
        "id": "eJUaw5qy34It"
      },
      "execution_count": 52,
      "outputs": []
    },
    {
      "cell_type": "markdown",
      "source": [
        "###Define Functions to Facilitate Metrics Evaluation"
      ],
      "metadata": {
        "id": "Gzu9V2o2gfZG"
      }
    },
    {
      "cell_type": "code",
      "source": [
        "#To compute Mean Directional Accuracy\n",
        "def mda(actual: np.ndarray, predicted: np.ndarray):\n",
        "    \"\"\" Mean Directional Accuracy \"\"\"\n",
        "    return np.mean((np.sign(actual[1:] - actual[:-1]) == np.sign(predicted[1:] - predicted[:-1])).astype(int))\n",
        "\n",
        "#Calculate the Mean Absolute Percentage Error\n",
        "#def MAPE(y_true, y_pred): \n",
        "    #mape = np.mean(np.abs((np.array(y_true) - np.array(y_pred)) / np.array(y_true))) * 100\n",
        "    #return mape\n",
        "\n",
        "def mean_absolute_percentage_error(y_true, y_pred): \n",
        "    y_true, y_pred = np.array(y_true), np.array(y_pred)\n",
        "    return np.mean(np.abs((y_true - y_pred) / y_true)) * 100\n",
        "\n",
        "def MAPE(y_true, y_pred): \n",
        "    y_true, y_pred = np.array(y_true), np.array(y_pred)\n",
        "    return np.mean(np.abs((y_true - y_pred) / y_true)) * 100\n",
        "\n",
        "#Calculate the Root Mean Squared Error:\n",
        "def RMSE(y_true, y_pred): \n",
        "    rmse = np.sqrt(mean_squared_error(y_true, y_pred))\n",
        "    return rmse"
      ],
      "metadata": {
        "id": "k7RYx1rN_Yf_"
      },
      "execution_count": 53,
      "outputs": []
    },
    {
      "cell_type": "markdown",
      "source": [
        "###Load the Cleaned Data from Github"
      ],
      "metadata": {
        "id": "FVpIGyF7g4od"
      }
    },
    {
      "cell_type": "code",
      "source": [
        "from pandas import read_csv\n",
        "path = 'https://raw.githubusercontent.com/mofuoku417/Machine-Learning-Techniques-for-Multivariate-Time-Series-Forecasting-of-Crude-Palm-Oil-Prices/main/Cleaned_data/df_final.csv'\n",
        "df = read_csv(path)\n",
        "df.head()"
      ],
      "metadata": {
        "colab": {
          "base_uri": "https://localhost:8080/",
          "height": 198
        },
        "id": "z_6wFR8b3xZf",
        "outputId": "47aec988-ca74-4737-a2d0-8c49bd20dea9"
      },
      "execution_count": 54,
      "outputs": [
        {
          "output_type": "execute_result",
          "data": {
            "text/plain": [
              "         date  cpo_pri  cno_pri  oli_pri  rps_pri  pno_pri  sbo_pri  sfo_pri  \\\n",
              "0  2010-12-01      323      455  3102.61   423.45    844.0    468.0    578.0   \n",
              "1  2011-01-01      345      546  3100.45   415.85    799.0    485.0    557.0   \n",
              "2  2011-02-01      362      595  3199.41   410.77    718.0    466.0    552.0   \n",
              "3  2011-03-01      376      636  3281.67   414.82    614.0    442.0    574.0   \n",
              "4  2011-04-01      383      738  3261.65   451.04    619.0    429.0    595.0   \n",
              "\n",
              "   wti_spri       srad   q_mm   humidity  \n",
              "0     28.67  207.70504  117.7  79.261905  \n",
              "1     24.49  228.94287    4.5  82.193548  \n",
              "2     22.06  238.41747   25.1  74.839286  \n",
              "3     21.64  218.47599   53.6  77.935484  \n",
              "4     22.30  226.15010  166.0  80.450000  "
            ],
            "text/html": [
              "\n",
              "  <div id=\"df-df6f26e7-9fc0-40aa-81fe-e8781becedf0\">\n",
              "    <div class=\"colab-df-container\">\n",
              "      <div>\n",
              "<style scoped>\n",
              "    .dataframe tbody tr th:only-of-type {\n",
              "        vertical-align: middle;\n",
              "    }\n",
              "\n",
              "    .dataframe tbody tr th {\n",
              "        vertical-align: top;\n",
              "    }\n",
              "\n",
              "    .dataframe thead th {\n",
              "        text-align: right;\n",
              "    }\n",
              "</style>\n",
              "<table border=\"1\" class=\"dataframe\">\n",
              "  <thead>\n",
              "    <tr style=\"text-align: right;\">\n",
              "      <th></th>\n",
              "      <th>date</th>\n",
              "      <th>cpo_pri</th>\n",
              "      <th>cno_pri</th>\n",
              "      <th>oli_pri</th>\n",
              "      <th>rps_pri</th>\n",
              "      <th>pno_pri</th>\n",
              "      <th>sbo_pri</th>\n",
              "      <th>sfo_pri</th>\n",
              "      <th>wti_spri</th>\n",
              "      <th>srad</th>\n",
              "      <th>q_mm</th>\n",
              "      <th>humidity</th>\n",
              "    </tr>\n",
              "  </thead>\n",
              "  <tbody>\n",
              "    <tr>\n",
              "      <th>0</th>\n",
              "      <td>2010-12-01</td>\n",
              "      <td>323</td>\n",
              "      <td>455</td>\n",
              "      <td>3102.61</td>\n",
              "      <td>423.45</td>\n",
              "      <td>844.0</td>\n",
              "      <td>468.0</td>\n",
              "      <td>578.0</td>\n",
              "      <td>28.67</td>\n",
              "      <td>207.70504</td>\n",
              "      <td>117.7</td>\n",
              "      <td>79.261905</td>\n",
              "    </tr>\n",
              "    <tr>\n",
              "      <th>1</th>\n",
              "      <td>2011-01-01</td>\n",
              "      <td>345</td>\n",
              "      <td>546</td>\n",
              "      <td>3100.45</td>\n",
              "      <td>415.85</td>\n",
              "      <td>799.0</td>\n",
              "      <td>485.0</td>\n",
              "      <td>557.0</td>\n",
              "      <td>24.49</td>\n",
              "      <td>228.94287</td>\n",
              "      <td>4.5</td>\n",
              "      <td>82.193548</td>\n",
              "    </tr>\n",
              "    <tr>\n",
              "      <th>2</th>\n",
              "      <td>2011-02-01</td>\n",
              "      <td>362</td>\n",
              "      <td>595</td>\n",
              "      <td>3199.41</td>\n",
              "      <td>410.77</td>\n",
              "      <td>718.0</td>\n",
              "      <td>466.0</td>\n",
              "      <td>552.0</td>\n",
              "      <td>22.06</td>\n",
              "      <td>238.41747</td>\n",
              "      <td>25.1</td>\n",
              "      <td>74.839286</td>\n",
              "    </tr>\n",
              "    <tr>\n",
              "      <th>3</th>\n",
              "      <td>2011-03-01</td>\n",
              "      <td>376</td>\n",
              "      <td>636</td>\n",
              "      <td>3281.67</td>\n",
              "      <td>414.82</td>\n",
              "      <td>614.0</td>\n",
              "      <td>442.0</td>\n",
              "      <td>574.0</td>\n",
              "      <td>21.64</td>\n",
              "      <td>218.47599</td>\n",
              "      <td>53.6</td>\n",
              "      <td>77.935484</td>\n",
              "    </tr>\n",
              "    <tr>\n",
              "      <th>4</th>\n",
              "      <td>2011-04-01</td>\n",
              "      <td>383</td>\n",
              "      <td>738</td>\n",
              "      <td>3261.65</td>\n",
              "      <td>451.04</td>\n",
              "      <td>619.0</td>\n",
              "      <td>429.0</td>\n",
              "      <td>595.0</td>\n",
              "      <td>22.30</td>\n",
              "      <td>226.15010</td>\n",
              "      <td>166.0</td>\n",
              "      <td>80.450000</td>\n",
              "    </tr>\n",
              "  </tbody>\n",
              "</table>\n",
              "</div>\n",
              "      <button class=\"colab-df-convert\" onclick=\"convertToInteractive('df-df6f26e7-9fc0-40aa-81fe-e8781becedf0')\"\n",
              "              title=\"Convert this dataframe to an interactive table.\"\n",
              "              style=\"display:none;\">\n",
              "        \n",
              "  <svg xmlns=\"http://www.w3.org/2000/svg\" height=\"24px\"viewBox=\"0 0 24 24\"\n",
              "       width=\"24px\">\n",
              "    <path d=\"M0 0h24v24H0V0z\" fill=\"none\"/>\n",
              "    <path d=\"M18.56 5.44l.94 2.06.94-2.06 2.06-.94-2.06-.94-.94-2.06-.94 2.06-2.06.94zm-11 1L8.5 8.5l.94-2.06 2.06-.94-2.06-.94L8.5 2.5l-.94 2.06-2.06.94zm10 10l.94 2.06.94-2.06 2.06-.94-2.06-.94-.94-2.06-.94 2.06-2.06.94z\"/><path d=\"M17.41 7.96l-1.37-1.37c-.4-.4-.92-.59-1.43-.59-.52 0-1.04.2-1.43.59L10.3 9.45l-7.72 7.72c-.78.78-.78 2.05 0 2.83L4 21.41c.39.39.9.59 1.41.59.51 0 1.02-.2 1.41-.59l7.78-7.78 2.81-2.81c.8-.78.8-2.07 0-2.86zM5.41 20L4 18.59l7.72-7.72 1.47 1.35L5.41 20z\"/>\n",
              "  </svg>\n",
              "      </button>\n",
              "      \n",
              "  <style>\n",
              "    .colab-df-container {\n",
              "      display:flex;\n",
              "      flex-wrap:wrap;\n",
              "      gap: 12px;\n",
              "    }\n",
              "\n",
              "    .colab-df-convert {\n",
              "      background-color: #E8F0FE;\n",
              "      border: none;\n",
              "      border-radius: 50%;\n",
              "      cursor: pointer;\n",
              "      display: none;\n",
              "      fill: #1967D2;\n",
              "      height: 32px;\n",
              "      padding: 0 0 0 0;\n",
              "      width: 32px;\n",
              "    }\n",
              "\n",
              "    .colab-df-convert:hover {\n",
              "      background-color: #E2EBFA;\n",
              "      box-shadow: 0px 1px 2px rgba(60, 64, 67, 0.3), 0px 1px 3px 1px rgba(60, 64, 67, 0.15);\n",
              "      fill: #174EA6;\n",
              "    }\n",
              "\n",
              "    [theme=dark] .colab-df-convert {\n",
              "      background-color: #3B4455;\n",
              "      fill: #D2E3FC;\n",
              "    }\n",
              "\n",
              "    [theme=dark] .colab-df-convert:hover {\n",
              "      background-color: #434B5C;\n",
              "      box-shadow: 0px 1px 3px 1px rgba(0, 0, 0, 0.15);\n",
              "      filter: drop-shadow(0px 1px 2px rgba(0, 0, 0, 0.3));\n",
              "      fill: #FFFFFF;\n",
              "    }\n",
              "  </style>\n",
              "\n",
              "      <script>\n",
              "        const buttonEl =\n",
              "          document.querySelector('#df-df6f26e7-9fc0-40aa-81fe-e8781becedf0 button.colab-df-convert');\n",
              "        buttonEl.style.display =\n",
              "          google.colab.kernel.accessAllowed ? 'block' : 'none';\n",
              "\n",
              "        async function convertToInteractive(key) {\n",
              "          const element = document.querySelector('#df-df6f26e7-9fc0-40aa-81fe-e8781becedf0');\n",
              "          const dataTable =\n",
              "            await google.colab.kernel.invokeFunction('convertToInteractive',\n",
              "                                                     [key], {});\n",
              "          if (!dataTable) return;\n",
              "\n",
              "          const docLinkHtml = 'Like what you see? Visit the ' +\n",
              "            '<a target=\"_blank\" href=https://colab.research.google.com/notebooks/data_table.ipynb>data table notebook</a>'\n",
              "            + ' to learn more about interactive tables.';\n",
              "          element.innerHTML = '';\n",
              "          dataTable['output_type'] = 'display_data';\n",
              "          await google.colab.output.renderOutput(dataTable, element);\n",
              "          const docLink = document.createElement('div');\n",
              "          docLink.innerHTML = docLinkHtml;\n",
              "          element.appendChild(docLink);\n",
              "        }\n",
              "      </script>\n",
              "    </div>\n",
              "  </div>\n",
              "  "
            ]
          },
          "metadata": {},
          "execution_count": 54
        }
      ]
    },
    {
      "cell_type": "code",
      "source": [
        "df.index = pd.to_datetime(df['date'], format='%Y.%m.%d')\n",
        "del df['date']"
      ],
      "metadata": {
        "id": "bABFH7Kd4nBN"
      },
      "execution_count": 55,
      "outputs": []
    },
    {
      "cell_type": "code",
      "source": [
        "df.head()"
      ],
      "metadata": {
        "colab": {
          "base_uri": "https://localhost:8080/",
          "height": 228
        },
        "id": "PLpdJChY4wex",
        "outputId": "c9b9aa48-77f5-4d11-ae1f-b847f77b6695"
      },
      "execution_count": 56,
      "outputs": [
        {
          "output_type": "execute_result",
          "data": {
            "text/plain": [
              "            cpo_pri  cno_pri  oli_pri  rps_pri  pno_pri  sbo_pri  sfo_pri  \\\n",
              "date                                                                        \n",
              "2010-12-01      323      455  3102.61   423.45    844.0    468.0    578.0   \n",
              "2011-01-01      345      546  3100.45   415.85    799.0    485.0    557.0   \n",
              "2011-02-01      362      595  3199.41   410.77    718.0    466.0    552.0   \n",
              "2011-03-01      376      636  3281.67   414.82    614.0    442.0    574.0   \n",
              "2011-04-01      383      738  3261.65   451.04    619.0    429.0    595.0   \n",
              "\n",
              "            wti_spri       srad   q_mm   humidity  \n",
              "date                                               \n",
              "2010-12-01     28.67  207.70504  117.7  79.261905  \n",
              "2011-01-01     24.49  228.94287    4.5  82.193548  \n",
              "2011-02-01     22.06  238.41747   25.1  74.839286  \n",
              "2011-03-01     21.64  218.47599   53.6  77.935484  \n",
              "2011-04-01     22.30  226.15010  166.0  80.450000  "
            ],
            "text/html": [
              "\n",
              "  <div id=\"df-d197e944-e17f-44b9-b303-2e48e49d8243\">\n",
              "    <div class=\"colab-df-container\">\n",
              "      <div>\n",
              "<style scoped>\n",
              "    .dataframe tbody tr th:only-of-type {\n",
              "        vertical-align: middle;\n",
              "    }\n",
              "\n",
              "    .dataframe tbody tr th {\n",
              "        vertical-align: top;\n",
              "    }\n",
              "\n",
              "    .dataframe thead th {\n",
              "        text-align: right;\n",
              "    }\n",
              "</style>\n",
              "<table border=\"1\" class=\"dataframe\">\n",
              "  <thead>\n",
              "    <tr style=\"text-align: right;\">\n",
              "      <th></th>\n",
              "      <th>cpo_pri</th>\n",
              "      <th>cno_pri</th>\n",
              "      <th>oli_pri</th>\n",
              "      <th>rps_pri</th>\n",
              "      <th>pno_pri</th>\n",
              "      <th>sbo_pri</th>\n",
              "      <th>sfo_pri</th>\n",
              "      <th>wti_spri</th>\n",
              "      <th>srad</th>\n",
              "      <th>q_mm</th>\n",
              "      <th>humidity</th>\n",
              "    </tr>\n",
              "    <tr>\n",
              "      <th>date</th>\n",
              "      <th></th>\n",
              "      <th></th>\n",
              "      <th></th>\n",
              "      <th></th>\n",
              "      <th></th>\n",
              "      <th></th>\n",
              "      <th></th>\n",
              "      <th></th>\n",
              "      <th></th>\n",
              "      <th></th>\n",
              "      <th></th>\n",
              "    </tr>\n",
              "  </thead>\n",
              "  <tbody>\n",
              "    <tr>\n",
              "      <th>2010-12-01</th>\n",
              "      <td>323</td>\n",
              "      <td>455</td>\n",
              "      <td>3102.61</td>\n",
              "      <td>423.45</td>\n",
              "      <td>844.0</td>\n",
              "      <td>468.0</td>\n",
              "      <td>578.0</td>\n",
              "      <td>28.67</td>\n",
              "      <td>207.70504</td>\n",
              "      <td>117.7</td>\n",
              "      <td>79.261905</td>\n",
              "    </tr>\n",
              "    <tr>\n",
              "      <th>2011-01-01</th>\n",
              "      <td>345</td>\n",
              "      <td>546</td>\n",
              "      <td>3100.45</td>\n",
              "      <td>415.85</td>\n",
              "      <td>799.0</td>\n",
              "      <td>485.0</td>\n",
              "      <td>557.0</td>\n",
              "      <td>24.49</td>\n",
              "      <td>228.94287</td>\n",
              "      <td>4.5</td>\n",
              "      <td>82.193548</td>\n",
              "    </tr>\n",
              "    <tr>\n",
              "      <th>2011-02-01</th>\n",
              "      <td>362</td>\n",
              "      <td>595</td>\n",
              "      <td>3199.41</td>\n",
              "      <td>410.77</td>\n",
              "      <td>718.0</td>\n",
              "      <td>466.0</td>\n",
              "      <td>552.0</td>\n",
              "      <td>22.06</td>\n",
              "      <td>238.41747</td>\n",
              "      <td>25.1</td>\n",
              "      <td>74.839286</td>\n",
              "    </tr>\n",
              "    <tr>\n",
              "      <th>2011-03-01</th>\n",
              "      <td>376</td>\n",
              "      <td>636</td>\n",
              "      <td>3281.67</td>\n",
              "      <td>414.82</td>\n",
              "      <td>614.0</td>\n",
              "      <td>442.0</td>\n",
              "      <td>574.0</td>\n",
              "      <td>21.64</td>\n",
              "      <td>218.47599</td>\n",
              "      <td>53.6</td>\n",
              "      <td>77.935484</td>\n",
              "    </tr>\n",
              "    <tr>\n",
              "      <th>2011-04-01</th>\n",
              "      <td>383</td>\n",
              "      <td>738</td>\n",
              "      <td>3261.65</td>\n",
              "      <td>451.04</td>\n",
              "      <td>619.0</td>\n",
              "      <td>429.0</td>\n",
              "      <td>595.0</td>\n",
              "      <td>22.30</td>\n",
              "      <td>226.15010</td>\n",
              "      <td>166.0</td>\n",
              "      <td>80.450000</td>\n",
              "    </tr>\n",
              "  </tbody>\n",
              "</table>\n",
              "</div>\n",
              "      <button class=\"colab-df-convert\" onclick=\"convertToInteractive('df-d197e944-e17f-44b9-b303-2e48e49d8243')\"\n",
              "              title=\"Convert this dataframe to an interactive table.\"\n",
              "              style=\"display:none;\">\n",
              "        \n",
              "  <svg xmlns=\"http://www.w3.org/2000/svg\" height=\"24px\"viewBox=\"0 0 24 24\"\n",
              "       width=\"24px\">\n",
              "    <path d=\"M0 0h24v24H0V0z\" fill=\"none\"/>\n",
              "    <path d=\"M18.56 5.44l.94 2.06.94-2.06 2.06-.94-2.06-.94-.94-2.06-.94 2.06-2.06.94zm-11 1L8.5 8.5l.94-2.06 2.06-.94-2.06-.94L8.5 2.5l-.94 2.06-2.06.94zm10 10l.94 2.06.94-2.06 2.06-.94-2.06-.94-.94-2.06-.94 2.06-2.06.94z\"/><path d=\"M17.41 7.96l-1.37-1.37c-.4-.4-.92-.59-1.43-.59-.52 0-1.04.2-1.43.59L10.3 9.45l-7.72 7.72c-.78.78-.78 2.05 0 2.83L4 21.41c.39.39.9.59 1.41.59.51 0 1.02-.2 1.41-.59l7.78-7.78 2.81-2.81c.8-.78.8-2.07 0-2.86zM5.41 20L4 18.59l7.72-7.72 1.47 1.35L5.41 20z\"/>\n",
              "  </svg>\n",
              "      </button>\n",
              "      \n",
              "  <style>\n",
              "    .colab-df-container {\n",
              "      display:flex;\n",
              "      flex-wrap:wrap;\n",
              "      gap: 12px;\n",
              "    }\n",
              "\n",
              "    .colab-df-convert {\n",
              "      background-color: #E8F0FE;\n",
              "      border: none;\n",
              "      border-radius: 50%;\n",
              "      cursor: pointer;\n",
              "      display: none;\n",
              "      fill: #1967D2;\n",
              "      height: 32px;\n",
              "      padding: 0 0 0 0;\n",
              "      width: 32px;\n",
              "    }\n",
              "\n",
              "    .colab-df-convert:hover {\n",
              "      background-color: #E2EBFA;\n",
              "      box-shadow: 0px 1px 2px rgba(60, 64, 67, 0.3), 0px 1px 3px 1px rgba(60, 64, 67, 0.15);\n",
              "      fill: #174EA6;\n",
              "    }\n",
              "\n",
              "    [theme=dark] .colab-df-convert {\n",
              "      background-color: #3B4455;\n",
              "      fill: #D2E3FC;\n",
              "    }\n",
              "\n",
              "    [theme=dark] .colab-df-convert:hover {\n",
              "      background-color: #434B5C;\n",
              "      box-shadow: 0px 1px 3px 1px rgba(0, 0, 0, 0.15);\n",
              "      filter: drop-shadow(0px 1px 2px rgba(0, 0, 0, 0.3));\n",
              "      fill: #FFFFFF;\n",
              "    }\n",
              "  </style>\n",
              "\n",
              "      <script>\n",
              "        const buttonEl =\n",
              "          document.querySelector('#df-d197e944-e17f-44b9-b303-2e48e49d8243 button.colab-df-convert');\n",
              "        buttonEl.style.display =\n",
              "          google.colab.kernel.accessAllowed ? 'block' : 'none';\n",
              "\n",
              "        async function convertToInteractive(key) {\n",
              "          const element = document.querySelector('#df-d197e944-e17f-44b9-b303-2e48e49d8243');\n",
              "          const dataTable =\n",
              "            await google.colab.kernel.invokeFunction('convertToInteractive',\n",
              "                                                     [key], {});\n",
              "          if (!dataTable) return;\n",
              "\n",
              "          const docLinkHtml = 'Like what you see? Visit the ' +\n",
              "            '<a target=\"_blank\" href=https://colab.research.google.com/notebooks/data_table.ipynb>data table notebook</a>'\n",
              "            + ' to learn more about interactive tables.';\n",
              "          element.innerHTML = '';\n",
              "          dataTable['output_type'] = 'display_data';\n",
              "          await google.colab.output.renderOutput(dataTable, element);\n",
              "          const docLink = document.createElement('div');\n",
              "          docLink.innerHTML = docLinkHtml;\n",
              "          element.appendChild(docLink);\n",
              "        }\n",
              "      </script>\n",
              "    </div>\n",
              "  </div>\n",
              "  "
            ]
          },
          "metadata": {},
          "execution_count": 56
        }
      ]
    },
    {
      "cell_type": "code",
      "source": [
        "# Plot an area chart\n",
        "plt.figure(figsize=(25,10))\n",
        "ax = df.plot.area(fontsize=12);\n",
        "\n",
        "# Additional customizations\n",
        "ax.set_xlabel('date');\n",
        "ax.legend(fontsize=12);"
      ],
      "metadata": {
        "colab": {
          "base_uri": "https://localhost:8080/",
          "height": 378
        },
        "id": "pnKg-SfY6j9g",
        "outputId": "af2df4a7-a575-4f2f-bfcf-7021ae10c82c"
      },
      "execution_count": 57,
      "outputs": [
        {
          "output_type": "display_data",
          "data": {
            "text/plain": [
              "<Figure size 1800x720 with 0 Axes>"
            ]
          },
          "metadata": {}
        },
        {
          "output_type": "display_data",
          "data": {
            "text/plain": [
              "<Figure size 720x360 with 1 Axes>"
            ],
            "image/png": "[encoded data removed]"
          },
          "metadata": {}
        }
      ]
    },
    {
      "cell_type": "markdown",
      "source": [
        "##**Convolutional Neural Network Forecasting Technique (CNN)**"
      ],
      "metadata": {
        "id": "dPoGjuS366Cc"
      }
    },
    {
      "cell_type": "markdown",
      "source": [
        "###**Split Data into Train Test Segments**"
      ],
      "metadata": {
        "id": "vFpT6OrD7KRv"
      }
    },
    {
      "cell_type": "code",
      "source": [
        "train_size = int(len(df) * 0.8)\n",
        "test_size = len(df) - train_size\n",
        "train, test = df.iloc[0:train_size], df.iloc[train_size:len(df)]\n",
        "print('Train size:',len(train))\n",
        "print('Test size:', len(test))"
      ],
      "metadata": {
        "colab": {
          "base_uri": "https://localhost:8080/"
        },
        "id": "nYZL-9Sy3xpJ",
        "outputId": "7b41a549-69a4-4a91-ea8e-a740df80f962"
      },
      "execution_count": 58,
      "outputs": [
        {
          "output_type": "stream",
          "name": "stdout",
          "text": [
            "Train size: 99\n",
            "Test size: 25\n"
          ]
        }
      ]
    },
    {
      "cell_type": "code",
      "source": [
        "train, test = df.iloc[0:train_size], df.iloc[train_size:len(df)]\n",
        "print(len(train), len(test))"
      ],
      "metadata": {
        "colab": {
          "base_uri": "https://localhost:8080/"
        },
        "id": "DGrD2nxFmNSu",
        "outputId": "5389f374-44af-4e1a-fd82-378fe35a70e7"
      },
      "execution_count": 59,
      "outputs": [
        {
          "output_type": "stream",
          "name": "stdout",
          "text": [
            "99 25\n"
          ]
        }
      ]
    },
    {
      "cell_type": "code",
      "source": [
        "print(train.shape)\n",
        "train.head()"
      ],
      "metadata": {
        "colab": {
          "base_uri": "https://localhost:8080/",
          "height": 245
        },
        "id": "QvbHy-5RmPuI",
        "outputId": "c7b3783c-c292-4ea8-d40e-c2b6bf22c82b"
      },
      "execution_count": 60,
      "outputs": [
        {
          "output_type": "stream",
          "name": "stdout",
          "text": [
            "(99, 11)\n"
          ]
        },
        {
          "output_type": "execute_result",
          "data": {
            "text/plain": [
              "            cpo_pri  cno_pri  oli_pri  rps_pri  pno_pri  sbo_pri  sfo_pri  \\\n",
              "date                                                                        \n",
              "2010-12-01      323      455  3102.61   423.45    844.0    468.0    578.0   \n",
              "2011-01-01      345      546  3100.45   415.85    799.0    485.0    557.0   \n",
              "2011-02-01      362      595  3199.41   410.77    718.0    466.0    552.0   \n",
              "2011-03-01      376      636  3281.67   414.82    614.0    442.0    574.0   \n",
              "2011-04-01      383      738  3261.65   451.04    619.0    429.0    595.0   \n",
              "\n",
              "            wti_spri       srad   q_mm   humidity  \n",
              "date                                               \n",
              "2010-12-01     28.67  207.70504  117.7  79.261905  \n",
              "2011-01-01     24.49  228.94287    4.5  82.193548  \n",
              "2011-02-01     22.06  238.41747   25.1  74.839286  \n",
              "2011-03-01     21.64  218.47599   53.6  77.935484  \n",
              "2011-04-01     22.30  226.15010  166.0  80.450000  "
            ],
            "text/html": [
              "\n",
              "  <div id=\"df-fa929dac-8193-49c1-9157-219a2ddca295\">\n",
              "    <div class=\"colab-df-container\">\n",
              "      <div>\n",
              "<style scoped>\n",
              "    .dataframe tbody tr th:only-of-type {\n",
              "        vertical-align: middle;\n",
              "    }\n",
              "\n",
              "    .dataframe tbody tr th {\n",
              "        vertical-align: top;\n",
              "    }\n",
              "\n",
              "    .dataframe thead th {\n",
              "        text-align: right;\n",
              "    }\n",
              "</style>\n",
              "<table border=\"1\" class=\"dataframe\">\n",
              "  <thead>\n",
              "    <tr style=\"text-align: right;\">\n",
              "      <th></th>\n",
              "      <th>cpo_pri</th>\n",
              "      <th>cno_pri</th>\n",
              "      <th>oli_pri</th>\n",
              "      <th>rps_pri</th>\n",
              "      <th>pno_pri</th>\n",
              "      <th>sbo_pri</th>\n",
              "      <th>sfo_pri</th>\n",
              "      <th>wti_spri</th>\n",
              "      <th>srad</th>\n",
              "      <th>q_mm</th>\n",
              "      <th>humidity</th>\n",
              "    </tr>\n",
              "    <tr>\n",
              "      <th>date</th>\n",
              "      <th></th>\n",
              "      <th></th>\n",
              "      <th></th>\n",
              "      <th></th>\n",
              "      <th></th>\n",
              "      <th></th>\n",
              "      <th></th>\n",
              "      <th></th>\n",
              "      <th></th>\n",
              "      <th></th>\n",
              "      <th></th>\n",
              "    </tr>\n",
              "  </thead>\n",
              "  <tbody>\n",
              "    <tr>\n",
              "      <th>2010-12-01</th>\n",
              "      <td>323</td>\n",
              "      <td>455</td>\n",
              "      <td>3102.61</td>\n",
              "      <td>423.45</td>\n",
              "      <td>844.0</td>\n",
              "      <td>468.0</td>\n",
              "      <td>578.0</td>\n",
              "      <td>28.67</td>\n",
              "      <td>207.70504</td>\n",
              "      <td>117.7</td>\n",
              "      <td>79.261905</td>\n",
              "    </tr>\n",
              "    <tr>\n",
              "      <th>2011-01-01</th>\n",
              "      <td>345</td>\n",
              "      <td>546</td>\n",
              "      <td>3100.45</td>\n",
              "      <td>415.85</td>\n",
              "      <td>799.0</td>\n",
              "      <td>485.0</td>\n",
              "      <td>557.0</td>\n",
              "      <td>24.49</td>\n",
              "      <td>228.94287</td>\n",
              "      <td>4.5</td>\n",
              "      <td>82.193548</td>\n",
              "    </tr>\n",
              "    <tr>\n",
              "      <th>2011-02-01</th>\n",
              "      <td>362</td>\n",
              "      <td>595</td>\n",
              "      <td>3199.41</td>\n",
              "      <td>410.77</td>\n",
              "      <td>718.0</td>\n",
              "      <td>466.0</td>\n",
              "      <td>552.0</td>\n",
              "      <td>22.06</td>\n",
              "      <td>238.41747</td>\n",
              "      <td>25.1</td>\n",
              "      <td>74.839286</td>\n",
              "    </tr>\n",
              "    <tr>\n",
              "      <th>2011-03-01</th>\n",
              "      <td>376</td>\n",
              "      <td>636</td>\n",
              "      <td>3281.67</td>\n",
              "      <td>414.82</td>\n",
              "      <td>614.0</td>\n",
              "      <td>442.0</td>\n",
              "      <td>574.0</td>\n",
              "      <td>21.64</td>\n",
              "      <td>218.47599</td>\n",
              "      <td>53.6</td>\n",
              "      <td>77.935484</td>\n",
              "    </tr>\n",
              "    <tr>\n",
              "      <th>2011-04-01</th>\n",
              "      <td>383</td>\n",
              "      <td>738</td>\n",
              "      <td>3261.65</td>\n",
              "      <td>451.04</td>\n",
              "      <td>619.0</td>\n",
              "      <td>429.0</td>\n",
              "      <td>595.0</td>\n",
              "      <td>22.30</td>\n",
              "      <td>226.15010</td>\n",
              "      <td>166.0</td>\n",
              "      <td>80.450000</td>\n",
              "    </tr>\n",
              "  </tbody>\n",
              "</table>\n",
              "</div>\n",
              "      <button class=\"colab-df-convert\" onclick=\"convertToInteractive('df-fa929dac-8193-49c1-9157-219a2ddca295')\"\n",
              "              title=\"Convert this dataframe to an interactive table.\"\n",
              "              style=\"display:none;\">\n",
              "        \n",
              "  <svg xmlns=\"http://www.w3.org/2000/svg\" height=\"24px\"viewBox=\"0 0 24 24\"\n",
              "       width=\"24px\">\n",
              "    <path d=\"M0 0h24v24H0V0z\" fill=\"none\"/>\n",
              "    <path d=\"M18.56 5.44l.94 2.06.94-2.06 2.06-.94-2.06-.94-.94-2.06-.94 2.06-2.06.94zm-11 1L8.5 8.5l.94-2.06 2.06-.94-2.06-.94L8.5 2.5l-.94 2.06-2.06.94zm10 10l.94 2.06.94-2.06 2.06-.94-2.06-.94-.94-2.06-.94 2.06-2.06.94z\"/><path d=\"M17.41 7.96l-1.37-1.37c-.4-.4-.92-.59-1.43-.59-.52 0-1.04.2-1.43.59L10.3 9.45l-7.72 7.72c-.78.78-.78 2.05 0 2.83L4 21.41c.39.39.9.59 1.41.59.51 0 1.02-.2 1.41-.59l7.78-7.78 2.81-2.81c.8-.78.8-2.07 0-2.86zM5.41 20L4 18.59l7.72-7.72 1.47 1.35L5.41 20z\"/>\n",
              "  </svg>\n",
              "      </button>\n",
              "      \n",
              "  <style>\n",
              "    .colab-df-container {\n",
              "      display:flex;\n",
              "      flex-wrap:wrap;\n",
              "      gap: 12px;\n",
              "    }\n",
              "\n",
              "    .colab-df-convert {\n",
              "      background-color: #E8F0FE;\n",
              "      border: none;\n",
              "      border-radius: 50%;\n",
              "      cursor: pointer;\n",
              "      display: none;\n",
              "      fill: #1967D2;\n",
              "      height: 32px;\n",
              "      padding: 0 0 0 0;\n",
              "      width: 32px;\n",
              "    }\n",
              "\n",
              "    .colab-df-convert:hover {\n",
              "      background-color: #E2EBFA;\n",
              "      box-shadow: 0px 1px 2px rgba(60, 64, 67, 0.3), 0px 1px 3px 1px rgba(60, 64, 67, 0.15);\n",
              "      fill: #174EA6;\n",
              "    }\n",
              "\n",
              "    [theme=dark] .colab-df-convert {\n",
              "      background-color: #3B4455;\n",
              "      fill: #D2E3FC;\n",
              "    }\n",
              "\n",
              "    [theme=dark] .colab-df-convert:hover {\n",
              "      background-color: #434B5C;\n",
              "      box-shadow: 0px 1px 3px 1px rgba(0, 0, 0, 0.15);\n",
              "      filter: drop-shadow(0px 1px 2px rgba(0, 0, 0, 0.3));\n",
              "      fill: #FFFFFF;\n",
              "    }\n",
              "  </style>\n",
              "\n",
              "      <script>\n",
              "        const buttonEl =\n",
              "          document.querySelector('#df-fa929dac-8193-49c1-9157-219a2ddca295 button.colab-df-convert');\n",
              "        buttonEl.style.display =\n",
              "          google.colab.kernel.accessAllowed ? 'block' : 'none';\n",
              "\n",
              "        async function convertToInteractive(key) {\n",
              "          const element = document.querySelector('#df-fa929dac-8193-49c1-9157-219a2ddca295');\n",
              "          const dataTable =\n",
              "            await google.colab.kernel.invokeFunction('convertToInteractive',\n",
              "                                                     [key], {});\n",
              "          if (!dataTable) return;\n",
              "\n",
              "          const docLinkHtml = 'Like what you see? Visit the ' +\n",
              "            '<a target=\"_blank\" href=https://colab.research.google.com/notebooks/data_table.ipynb>data table notebook</a>'\n",
              "            + ' to learn more about interactive tables.';\n",
              "          element.innerHTML = '';\n",
              "          dataTable['output_type'] = 'display_data';\n",
              "          await google.colab.output.renderOutput(dataTable, element);\n",
              "          const docLink = document.createElement('div');\n",
              "          docLink.innerHTML = docLinkHtml;\n",
              "          element.appendChild(docLink);\n",
              "        }\n",
              "      </script>\n",
              "    </div>\n",
              "  </div>\n",
              "  "
            ]
          },
          "metadata": {},
          "execution_count": 60
        }
      ]
    },
    {
      "cell_type": "markdown",
      "source": [
        "###Rescaling Training Data"
      ],
      "metadata": {
        "id": "Z5F4OyT2mwRs"
      }
    },
    {
      "cell_type": "code",
      "source": [
        "f_transformer = MinMaxScaler()\n",
        "feature_columns = ['cno_pri', 'oli_pri', 'rps_pri', 'pno_pri', 'sbo_pri', 'sfo_pri',\n",
        "                   'wti_spri', 'srad', 'q_mm', 'humidity']\n",
        "f_transformer = f_transformer.fit(train[feature_columns].to_numpy())\n",
        "train.loc[:, feature_columns] = f_transformer.transform(train[feature_columns].to_numpy())\n",
        "train.head()"
      ],
      "metadata": {
        "colab": {
          "base_uri": "https://localhost:8080/",
          "height": 228
        },
        "id": "Lg-AQuNBmvZK",
        "outputId": "a9346913-78bd-402f-ea02-c1c205dfb9dc"
      },
      "execution_count": 61,
      "outputs": [
        {
          "output_type": "execute_result",
          "data": {
            "text/plain": [
              "            cpo_pri   cno_pri   oli_pri   rps_pri   pno_pri   sbo_pri  \\\n",
              "date                                                                    \n",
              "2010-12-01      323  0.112288  0.140918  0.010736  0.528090  0.253193   \n",
              "2011-01-01      345  0.305085  0.140327  0.004301  0.443820  0.306536   \n",
              "2011-02-01      362  0.408898  0.167408  0.000000  0.292135  0.246917   \n",
              "2011-03-01      376  0.495763  0.189919  0.003429  0.097378  0.171609   \n",
              "2011-04-01      383  0.711864  0.184440  0.034095  0.106742  0.130817   \n",
              "\n",
              "             sfo_pri  wti_spri      srad      q_mm  humidity  \n",
              "date                                                          \n",
              "2010-12-01  0.023302  0.109026  0.617026  0.366984  0.843364  \n",
              "2011-01-01  0.009321  0.044200  0.815738  0.007619  0.983088  \n",
              "2011-02-01  0.005992  0.006514  0.904388  0.073016  0.632580  \n",
              "2011-03-01  0.020639  0.000000  0.717805  0.163492  0.780147  \n",
              "2011-04-01  0.034621  0.010236  0.789608  0.520317  0.899990  "
            ],
            "text/html": [
              "\n",
              "  <div id=\"df-06ee12f7-8c02-48e7-9bba-d93fad13f52b\">\n",
              "    <div class=\"colab-df-container\">\n",
              "      <div>\n",
              "<style scoped>\n",
              "    .dataframe tbody tr th:only-of-type {\n",
              "        vertical-align: middle;\n",
              "    }\n",
              "\n",
              "    .dataframe tbody tr th {\n",
              "        vertical-align: top;\n",
              "    }\n",
              "\n",
              "    .dataframe thead th {\n",
              "        text-align: right;\n",
              "    }\n",
              "</style>\n",
              "<table border=\"1\" class=\"dataframe\">\n",
              "  <thead>\n",
              "    <tr style=\"text-align: right;\">\n",
              "      <th></th>\n",
              "      <th>cpo_pri</th>\n",
              "      <th>cno_pri</th>\n",
              "      <th>oli_pri</th>\n",
              "      <th>rps_pri</th>\n",
              "      <th>pno_pri</th>\n",
              "      <th>sbo_pri</th>\n",
              "      <th>sfo_pri</th>\n",
              "      <th>wti_spri</th>\n",
              "      <th>srad</th>\n",
              "      <th>q_mm</th>\n",
              "      <th>humidity</th>\n",
              "    </tr>\n",
              "    <tr>\n",
              "      <th>date</th>\n",
              "      <th></th>\n",
              "      <th></th>\n",
              "      <th></th>\n",
              "      <th></th>\n",
              "      <th></th>\n",
              "      <th></th>\n",
              "      <th></th>\n",
              "      <th></th>\n",
              "      <th></th>\n",
              "      <th></th>\n",
              "      <th></th>\n",
              "    </tr>\n",
              "  </thead>\n",
              "  <tbody>\n",
              "    <tr>\n",
              "      <th>2010-12-01</th>\n",
              "      <td>323</td>\n",
              "      <td>0.112288</td>\n",
              "      <td>0.140918</td>\n",
              "      <td>0.010736</td>\n",
              "      <td>0.528090</td>\n",
              "      <td>0.253193</td>\n",
              "      <td>0.023302</td>\n",
              "      <td>0.109026</td>\n",
              "      <td>0.617026</td>\n",
              "      <td>0.366984</td>\n",
              "      <td>0.843364</td>\n",
              "    </tr>\n",
              "    <tr>\n",
              "      <th>2011-01-01</th>\n",
              "      <td>345</td>\n",
              "      <td>0.305085</td>\n",
              "      <td>0.140327</td>\n",
              "      <td>0.004301</td>\n",
              "      <td>0.443820</td>\n",
              "      <td>0.306536</td>\n",
              "      <td>0.009321</td>\n",
              "      <td>0.044200</td>\n",
              "      <td>0.815738</td>\n",
              "      <td>0.007619</td>\n",
              "      <td>0.983088</td>\n",
              "    </tr>\n",
              "    <tr>\n",
              "      <th>2011-02-01</th>\n",
              "      <td>362</td>\n",
              "      <td>0.408898</td>\n",
              "      <td>0.167408</td>\n",
              "      <td>0.000000</td>\n",
              "      <td>0.292135</td>\n",
              "      <td>0.246917</td>\n",
              "      <td>0.005992</td>\n",
              "      <td>0.006514</td>\n",
              "      <td>0.904388</td>\n",
              "      <td>0.073016</td>\n",
              "      <td>0.632580</td>\n",
              "    </tr>\n",
              "    <tr>\n",
              "      <th>2011-03-01</th>\n",
              "      <td>376</td>\n",
              "      <td>0.495763</td>\n",
              "      <td>0.189919</td>\n",
              "      <td>0.003429</td>\n",
              "      <td>0.097378</td>\n",
              "      <td>0.171609</td>\n",
              "      <td>0.020639</td>\n",
              "      <td>0.000000</td>\n",
              "      <td>0.717805</td>\n",
              "      <td>0.163492</td>\n",
              "      <td>0.780147</td>\n",
              "    </tr>\n",
              "    <tr>\n",
              "      <th>2011-04-01</th>\n",
              "      <td>383</td>\n",
              "      <td>0.711864</td>\n",
              "      <td>0.184440</td>\n",
              "      <td>0.034095</td>\n",
              "      <td>0.106742</td>\n",
              "      <td>0.130817</td>\n",
              "      <td>0.034621</td>\n",
              "      <td>0.010236</td>\n",
              "      <td>0.789608</td>\n",
              "      <td>0.520317</td>\n",
              "      <td>0.899990</td>\n",
              "    </tr>\n",
              "  </tbody>\n",
              "</table>\n",
              "</div>\n",
              "      <button class=\"colab-df-convert\" onclick=\"convertToInteractive('df-06ee12f7-8c02-48e7-9bba-d93fad13f52b')\"\n",
              "              title=\"Convert this dataframe to an interactive table.\"\n",
              "              style=\"display:none;\">\n",
              "        \n",
              "  <svg xmlns=\"http://www.w3.org/2000/svg\" height=\"24px\"viewBox=\"0 0 24 24\"\n",
              "       width=\"24px\">\n",
              "    <path d=\"M0 0h24v24H0V0z\" fill=\"none\"/>\n",
              "    <path d=\"M18.56 5.44l.94 2.06.94-2.06 2.06-.94-2.06-.94-.94-2.06-.94 2.06-2.06.94zm-11 1L8.5 8.5l.94-2.06 2.06-.94-2.06-.94L8.5 2.5l-.94 2.06-2.06.94zm10 10l.94 2.06.94-2.06 2.06-.94-2.06-.94-.94-2.06-.94 2.06-2.06.94z\"/><path d=\"M17.41 7.96l-1.37-1.37c-.4-.4-.92-.59-1.43-.59-.52 0-1.04.2-1.43.59L10.3 9.45l-7.72 7.72c-.78.78-.78 2.05 0 2.83L4 21.41c.39.39.9.59 1.41.59.51 0 1.02-.2 1.41-.59l7.78-7.78 2.81-2.81c.8-.78.8-2.07 0-2.86zM5.41 20L4 18.59l7.72-7.72 1.47 1.35L5.41 20z\"/>\n",
              "  </svg>\n",
              "      </button>\n",
              "      \n",
              "  <style>\n",
              "    .colab-df-container {\n",
              "      display:flex;\n",
              "      flex-wrap:wrap;\n",
              "      gap: 12px;\n",
              "    }\n",
              "\n",
              "    .colab-df-convert {\n",
              "      background-color: #E8F0FE;\n",
              "      border: none;\n",
              "      border-radius: 50%;\n",
              "      cursor: pointer;\n",
              "      display: none;\n",
              "      fill: #1967D2;\n",
              "      height: 32px;\n",
              "      padding: 0 0 0 0;\n",
              "      width: 32px;\n",
              "    }\n",
              "\n",
              "    .colab-df-convert:hover {\n",
              "      background-color: #E2EBFA;\n",
              "      box-shadow: 0px 1px 2px rgba(60, 64, 67, 0.3), 0px 1px 3px 1px rgba(60, 64, 67, 0.15);\n",
              "      fill: #174EA6;\n",
              "    }\n",
              "\n",
              "    [theme=dark] .colab-df-convert {\n",
              "      background-color: #3B4455;\n",
              "      fill: #D2E3FC;\n",
              "    }\n",
              "\n",
              "    [theme=dark] .colab-df-convert:hover {\n",
              "      background-color: #434B5C;\n",
              "      box-shadow: 0px 1px 3px 1px rgba(0, 0, 0, 0.15);\n",
              "      filter: drop-shadow(0px 1px 2px rgba(0, 0, 0, 0.3));\n",
              "      fill: #FFFFFF;\n",
              "    }\n",
              "  </style>\n",
              "\n",
              "      <script>\n",
              "        const buttonEl =\n",
              "          document.querySelector('#df-06ee12f7-8c02-48e7-9bba-d93fad13f52b button.colab-df-convert');\n",
              "        buttonEl.style.display =\n",
              "          google.colab.kernel.accessAllowed ? 'block' : 'none';\n",
              "\n",
              "        async function convertToInteractive(key) {\n",
              "          const element = document.querySelector('#df-06ee12f7-8c02-48e7-9bba-d93fad13f52b');\n",
              "          const dataTable =\n",
              "            await google.colab.kernel.invokeFunction('convertToInteractive',\n",
              "                                                     [key], {});\n",
              "          if (!dataTable) return;\n",
              "\n",
              "          const docLinkHtml = 'Like what you see? Visit the ' +\n",
              "            '<a target=\"_blank\" href=https://colab.research.google.com/notebooks/data_table.ipynb>data table notebook</a>'\n",
              "            + ' to learn more about interactive tables.';\n",
              "          element.innerHTML = '';\n",
              "          dataTable['output_type'] = 'display_data';\n",
              "          await google.colab.output.renderOutput(dataTable, element);\n",
              "          const docLink = document.createElement('div');\n",
              "          docLink.innerHTML = docLinkHtml;\n",
              "          element.appendChild(docLink);\n",
              "        }\n",
              "      </script>\n",
              "    </div>\n",
              "  </div>\n",
              "  "
            ]
          },
          "metadata": {},
          "execution_count": 61
        }
      ]
    },
    {
      "cell_type": "code",
      "source": [
        "cpo_pri_transformer = MinMaxScaler()\n",
        "cpo_pri_transformer = cpo_pri_transformer.fit(train[['cpo_pri']])\n",
        "train['cpo_pri'] = cpo_pri_transformer.transform(train[['cpo_pri']])\n",
        "train['cpo_pri'].head()"
      ],
      "metadata": {
        "colab": {
          "base_uri": "https://localhost:8080/"
        },
        "id": "XNkE4gN9nJLt",
        "outputId": "84b44c6c-2c60-43f4-91b1-5b9832eaf0eb"
      },
      "execution_count": 62,
      "outputs": [
        {
          "output_type": "execute_result",
          "data": {
            "text/plain": [
              "date\n",
              "2010-12-01    0.0100\n",
              "2011-01-01    0.0650\n",
              "2011-02-01    0.1075\n",
              "2011-03-01    0.1425\n",
              "2011-04-01    0.1600\n",
              "Name: cpo_pri, dtype: float64"
            ]
          },
          "metadata": {},
          "execution_count": 62
        }
      ]
    },
    {
      "cell_type": "code",
      "source": [
        "test.loc[:, feature_columns] = f_transformer.transform(test[feature_columns].to_numpy())\n",
        "test.head()"
      ],
      "metadata": {
        "colab": {
          "base_uri": "https://localhost:8080/",
          "height": 228
        },
        "id": "aouQuJG5n6k8",
        "outputId": "c2bc3906-4e0e-4c06-9caf-0f47dea3dd5e"
      },
      "execution_count": 63,
      "outputs": [
        {
          "output_type": "execute_result",
          "data": {
            "text/plain": [
              "            cpo_pri   cno_pri   oli_pri   rps_pri   pno_pri   sbo_pri  \\\n",
              "date                                                                    \n",
              "2019-03-01      354  0.637712  0.194855  0.382454  0.381292 -0.039662   \n",
              "2019-04-01      348  0.533898  0.264388  0.393951  0.213633 -0.054975   \n",
              "2019-05-01      332  0.400424  0.246417  0.453802  0.235262 -0.092159   \n",
              "2019-06-01      349  0.317797  0.234308  0.509834  0.320749 -0.074743   \n",
              "2019-07-01      372  0.313559  0.223422  0.526454  0.426610 -0.066114   \n",
              "\n",
              "             sfo_pri  wti_spri      srad      q_mm  humidity  \n",
              "date                                                          \n",
              "2019-03-01  0.493342  0.455180  0.707023  0.548889  0.265874  \n",
              "2019-04-01  0.597870  0.515974  0.732180  0.017143  0.437683  \n",
              "2019-05-01  0.606525  0.530397  0.708895  0.444127  0.349664  \n",
              "2019-06-01  0.631824  0.593207  0.808476  0.181905  0.645800  \n",
              "2019-07-01  0.773462  0.641749  0.866202  0.436825  0.577974  "
            ],
            "text/html": [
              "\n",
              "  <div id=\"df-1aab5316-d245-4083-b8dd-57ff8e91f643\">\n",
              "    <div class=\"colab-df-container\">\n",
              "      <div>\n",
              "<style scoped>\n",
              "    .dataframe tbody tr th:only-of-type {\n",
              "        vertical-align: middle;\n",
              "    }\n",
              "\n",
              "    .dataframe tbody tr th {\n",
              "        vertical-align: top;\n",
              "    }\n",
              "\n",
              "    .dataframe thead th {\n",
              "        text-align: right;\n",
              "    }\n",
              "</style>\n",
              "<table border=\"1\" class=\"dataframe\">\n",
              "  <thead>\n",
              "    <tr style=\"text-align: right;\">\n",
              "      <th></th>\n",
              "      <th>cpo_pri</th>\n",
              "      <th>cno_pri</th>\n",
              "      <th>oli_pri</th>\n",
              "      <th>rps_pri</th>\n",
              "      <th>pno_pri</th>\n",
              "      <th>sbo_pri</th>\n",
              "      <th>sfo_pri</th>\n",
              "      <th>wti_spri</th>\n",
              "      <th>srad</th>\n",
              "      <th>q_mm</th>\n",
              "      <th>humidity</th>\n",
              "    </tr>\n",
              "    <tr>\n",
              "      <th>date</th>\n",
              "      <th></th>\n",
              "      <th></th>\n",
              "      <th></th>\n",
              "      <th></th>\n",
              "      <th></th>\n",
              "      <th></th>\n",
              "      <th></th>\n",
              "      <th></th>\n",
              "      <th></th>\n",
              "      <th></th>\n",
              "      <th></th>\n",
              "    </tr>\n",
              "  </thead>\n",
              "  <tbody>\n",
              "    <tr>\n",
              "      <th>2019-03-01</th>\n",
              "      <td>354</td>\n",
              "      <td>0.637712</td>\n",
              "      <td>0.194855</td>\n",
              "      <td>0.382454</td>\n",
              "      <td>0.381292</td>\n",
              "      <td>-0.039662</td>\n",
              "      <td>0.493342</td>\n",
              "      <td>0.455180</td>\n",
              "      <td>0.707023</td>\n",
              "      <td>0.548889</td>\n",
              "      <td>0.265874</td>\n",
              "    </tr>\n",
              "    <tr>\n",
              "      <th>2019-04-01</th>\n",
              "      <td>348</td>\n",
              "      <td>0.533898</td>\n",
              "      <td>0.264388</td>\n",
              "      <td>0.393951</td>\n",
              "      <td>0.213633</td>\n",
              "      <td>-0.054975</td>\n",
              "      <td>0.597870</td>\n",
              "      <td>0.515974</td>\n",
              "      <td>0.732180</td>\n",
              "      <td>0.017143</td>\n",
              "      <td>0.437683</td>\n",
              "    </tr>\n",
              "    <tr>\n",
              "      <th>2019-05-01</th>\n",
              "      <td>332</td>\n",
              "      <td>0.400424</td>\n",
              "      <td>0.246417</td>\n",
              "      <td>0.453802</td>\n",
              "      <td>0.235262</td>\n",
              "      <td>-0.092159</td>\n",
              "      <td>0.606525</td>\n",
              "      <td>0.530397</td>\n",
              "      <td>0.708895</td>\n",
              "      <td>0.444127</td>\n",
              "      <td>0.349664</td>\n",
              "    </tr>\n",
              "    <tr>\n",
              "      <th>2019-06-01</th>\n",
              "      <td>349</td>\n",
              "      <td>0.317797</td>\n",
              "      <td>0.234308</td>\n",
              "      <td>0.509834</td>\n",
              "      <td>0.320749</td>\n",
              "      <td>-0.074743</td>\n",
              "      <td>0.631824</td>\n",
              "      <td>0.593207</td>\n",
              "      <td>0.808476</td>\n",
              "      <td>0.181905</td>\n",
              "      <td>0.645800</td>\n",
              "    </tr>\n",
              "    <tr>\n",
              "      <th>2019-07-01</th>\n",
              "      <td>372</td>\n",
              "      <td>0.313559</td>\n",
              "      <td>0.223422</td>\n",
              "      <td>0.526454</td>\n",
              "      <td>0.426610</td>\n",
              "      <td>-0.066114</td>\n",
              "      <td>0.773462</td>\n",
              "      <td>0.641749</td>\n",
              "      <td>0.866202</td>\n",
              "      <td>0.436825</td>\n",
              "      <td>0.577974</td>\n",
              "    </tr>\n",
              "  </tbody>\n",
              "</table>\n",
              "</div>\n",
              "      <button class=\"colab-df-convert\" onclick=\"convertToInteractive('df-1aab5316-d245-4083-b8dd-57ff8e91f643')\"\n",
              "              title=\"Convert this dataframe to an interactive table.\"\n",
              "              style=\"display:none;\">\n",
              "        \n",
              "  <svg xmlns=\"http://www.w3.org/2000/svg\" height=\"24px\"viewBox=\"0 0 24 24\"\n",
              "       width=\"24px\">\n",
              "    <path d=\"M0 0h24v24H0V0z\" fill=\"none\"/>\n",
              "    <path d=\"M18.56 5.44l.94 2.06.94-2.06 2.06-.94-2.06-.94-.94-2.06-.94 2.06-2.06.94zm-11 1L8.5 8.5l.94-2.06 2.06-.94-2.06-.94L8.5 2.5l-.94 2.06-2.06.94zm10 10l.94 2.06.94-2.06 2.06-.94-2.06-.94-.94-2.06-.94 2.06-2.06.94z\"/><path d=\"M17.41 7.96l-1.37-1.37c-.4-.4-.92-.59-1.43-.59-.52 0-1.04.2-1.43.59L10.3 9.45l-7.72 7.72c-.78.78-.78 2.05 0 2.83L4 21.41c.39.39.9.59 1.41.59.51 0 1.02-.2 1.41-.59l7.78-7.78 2.81-2.81c.8-.78.8-2.07 0-2.86zM5.41 20L4 18.59l7.72-7.72 1.47 1.35L5.41 20z\"/>\n",
              "  </svg>\n",
              "      </button>\n",
              "      \n",
              "  <style>\n",
              "    .colab-df-container {\n",
              "      display:flex;\n",
              "      flex-wrap:wrap;\n",
              "      gap: 12px;\n",
              "    }\n",
              "\n",
              "    .colab-df-convert {\n",
              "      background-color: #E8F0FE;\n",
              "      border: none;\n",
              "      border-radius: 50%;\n",
              "      cursor: pointer;\n",
              "      display: none;\n",
              "      fill: #1967D2;\n",
              "      height: 32px;\n",
              "      padding: 0 0 0 0;\n",
              "      width: 32px;\n",
              "    }\n",
              "\n",
              "    .colab-df-convert:hover {\n",
              "      background-color: #E2EBFA;\n",
              "      box-shadow: 0px 1px 2px rgba(60, 64, 67, 0.3), 0px 1px 3px 1px rgba(60, 64, 67, 0.15);\n",
              "      fill: #174EA6;\n",
              "    }\n",
              "\n",
              "    [theme=dark] .colab-df-convert {\n",
              "      background-color: #3B4455;\n",
              "      fill: #D2E3FC;\n",
              "    }\n",
              "\n",
              "    [theme=dark] .colab-df-convert:hover {\n",
              "      background-color: #434B5C;\n",
              "      box-shadow: 0px 1px 3px 1px rgba(0, 0, 0, 0.15);\n",
              "      filter: drop-shadow(0px 1px 2px rgba(0, 0, 0, 0.3));\n",
              "      fill: #FFFFFF;\n",
              "    }\n",
              "  </style>\n",
              "\n",
              "      <script>\n",
              "        const buttonEl =\n",
              "          document.querySelector('#df-1aab5316-d245-4083-b8dd-57ff8e91f643 button.colab-df-convert');\n",
              "        buttonEl.style.display =\n",
              "          google.colab.kernel.accessAllowed ? 'block' : 'none';\n",
              "\n",
              "        async function convertToInteractive(key) {\n",
              "          const element = document.querySelector('#df-1aab5316-d245-4083-b8dd-57ff8e91f643');\n",
              "          const dataTable =\n",
              "            await google.colab.kernel.invokeFunction('convertToInteractive',\n",
              "                                                     [key], {});\n",
              "          if (!dataTable) return;\n",
              "\n",
              "          const docLinkHtml = 'Like what you see? Visit the ' +\n",
              "            '<a target=\"_blank\" href=https://colab.research.google.com/notebooks/data_table.ipynb>data table notebook</a>'\n",
              "            + ' to learn more about interactive tables.';\n",
              "          element.innerHTML = '';\n",
              "          dataTable['output_type'] = 'display_data';\n",
              "          await google.colab.output.renderOutput(dataTable, element);\n",
              "          const docLink = document.createElement('div');\n",
              "          docLink.innerHTML = docLinkHtml;\n",
              "          element.appendChild(docLink);\n",
              "        }\n",
              "      </script>\n",
              "    </div>\n",
              "  </div>\n",
              "  "
            ]
          },
          "metadata": {},
          "execution_count": 63
        }
      ]
    },
    {
      "cell_type": "code",
      "source": [
        "test['cpo_pri'] = cpo_pri_transformer.transform(test[['cpo_pri']])\n",
        "test['cpo_pri'].head()"
      ],
      "metadata": {
        "colab": {
          "base_uri": "https://localhost:8080/"
        },
        "id": "GXgFSrz3n6o5",
        "outputId": "5f640ad5-2c28-4d41-d083-bf41453b28fa"
      },
      "execution_count": 64,
      "outputs": [
        {
          "output_type": "execute_result",
          "data": {
            "text/plain": [
              "date\n",
              "2019-03-01    0.0875\n",
              "2019-04-01    0.0725\n",
              "2019-05-01    0.0325\n",
              "2019-06-01    0.0750\n",
              "2019-07-01    0.1325\n",
              "Name: cpo_pri, dtype: float64"
            ]
          },
          "metadata": {},
          "execution_count": 64
        }
      ]
    },
    {
      "cell_type": "markdown",
      "source": [
        "###Create X_train, y_train, X_test and y_test"
      ],
      "metadata": {
        "id": "p_2s3AO-ohCD"
      }
    },
    {
      "cell_type": "code",
      "source": [
        "def createDataset(X, y, time_steps):\n",
        "    Xs, ys = [], []\n",
        "    for i in range(len(X) - time_steps):\n",
        "        data = X.iloc[i:(i + time_steps)].values\n",
        "        Xs.append(data)        \n",
        "        ys.append(y.iloc[i + time_steps])\n",
        "        \n",
        "    return np.array(Xs), np.array(ys)\n",
        "\n",
        "time_steps = 3\n",
        "X_train, y_train = createDataset(train, train.cpo_pri, time_steps)\n",
        "X_test, y_test = createDataset(test, test.cpo_pri, time_steps)\n",
        "print(X_train.shape, y_train.shape)"
      ],
      "metadata": {
        "colab": {
          "base_uri": "https://localhost:8080/"
        },
        "id": "fGTyTKiYoJIb",
        "outputId": "577aa9bf-c7e6-4a14-d023-37476960cea4"
      },
      "execution_count": 65,
      "outputs": [
        {
          "output_type": "stream",
          "name": "stdout",
          "text": [
            "(96, 3, 11) (96,)\n"
          ]
        }
      ]
    },
    {
      "cell_type": "code",
      "source": [
        "#test_lag = test[1:23]\n",
        "#len(test) - 1"
      ],
      "metadata": {
        "id": "dt_elxfcLh_b"
      },
      "execution_count": null,
      "outputs": []
    },
    {
      "cell_type": "code",
      "source": [
        "#decrement naturally.\n",
        "#shifted = test.set_index([\"date\"]).unstack().shift(3).stack()"
      ],
      "metadata": {
        "id": "BqpvIj_hKO30"
      },
      "execution_count": null,
      "outputs": []
    },
    {
      "cell_type": "markdown",
      "source": [
        "###Create Model"
      ],
      "metadata": {
        "id": "TVTF_aQ5o7m7"
      }
    },
    {
      "cell_type": "code",
      "source": [
        "cnn_model = tf.keras.Sequential()\n",
        "cnn_model.add(tf.keras.layers.Conv1D(filters=64, kernel_size=2, activation='relu', input_shape=(X_test.shape[1], X_test.shape[2])))\n",
        "cnn_model.add(tf.keras.layers.MaxPooling1D(pool_size=2))\n",
        "cnn_model.add(tf.keras.layers.Flatten())\n",
        "cnn_model.add(tf.keras.layers.Dense(50, activation='relu'))\n",
        "cnn_model.add(tf.keras.layers.Dense(1))\n",
        "\n",
        "# compile model using adam\n",
        "cnn_model.compile(optimizer='adam',loss='mse',metrics=['mse'])\n",
        "# model training\n",
        "history = cnn_model.fit(X_train, y_train, validation_split=0.2, epochs=10)\n",
        "\n",
        "# model evaluation\n",
        "cnn_model.evaluate(X_test, y_test)\n",
        "\n",
        "\n",
        "#cnn_model.compile(loss='mse', optimizer='adam')\n",
        "#cnn_model.summary()"
      ],
      "metadata": {
        "id": "EkQPUIAQOvX9",
        "outputId": "09b33ccf-c39a-4704-b2e3-845759ed41b1",
        "colab": {
          "base_uri": "https://localhost:8080/"
        }
      },
      "execution_count": 66,
      "outputs": [
        {
          "output_type": "stream",
          "name": "stdout",
          "text": [
            "Epoch 1/10\n",
            "3/3 [==============================] - 1s 94ms/step - loss: 0.1406 - mse: 0.1406 - val_loss: 0.1604 - val_mse: 0.1604\n",
            "Epoch 2/10\n",
            "3/3 [==============================] - 0s 18ms/step - loss: 0.0457 - mse: 0.0457 - val_loss: 0.0844 - val_mse: 0.0844\n",
            "Epoch 3/10\n",
            "3/3 [==============================] - 0s 15ms/step - loss: 0.0370 - mse: 0.0370 - val_loss: 0.0761 - val_mse: 0.0761\n",
            "Epoch 4/10\n",
            "3/3 [==============================] - 0s 20ms/step - loss: 0.0471 - mse: 0.0471 - val_loss: 0.0693 - val_mse: 0.0693\n",
            "Epoch 5/10\n",
            "3/3 [==============================] - 0s 25ms/step - loss: 0.0344 - mse: 0.0344 - val_loss: 0.0645 - val_mse: 0.0645\n",
            "Epoch 6/10\n",
            "3/3 [==============================] - 0s 19ms/step - loss: 0.0211 - mse: 0.0211 - val_loss: 0.0693 - val_mse: 0.0693\n",
            "Epoch 7/10\n",
            "3/3 [==============================] - 0s 79ms/step - loss: 0.0162 - mse: 0.0162 - val_loss: 0.0739 - val_mse: 0.0739\n",
            "Epoch 8/10\n",
            "3/3 [==============================] - 0s 59ms/step - loss: 0.0170 - mse: 0.0170 - val_loss: 0.0703 - val_mse: 0.0703\n",
            "Epoch 9/10\n",
            "3/3 [==============================] - 0s 65ms/step - loss: 0.0157 - mse: 0.0157 - val_loss: 0.0606 - val_mse: 0.0606\n",
            "Epoch 10/10\n",
            "3/3 [==============================] - 0s 62ms/step - loss: 0.0124 - mse: 0.0124 - val_loss: 0.0505 - val_mse: 0.0505\n",
            "1/1 [==============================] - 0s 76ms/step - loss: 0.1155 - mse: 0.1155\n"
          ]
        },
        {
          "output_type": "execute_result",
          "data": {
            "text/plain": [
              "[0.11547019332647324, 0.11547019332647324]"
            ]
          },
          "metadata": {},
          "execution_count": 66
        }
      ]
    },
    {
      "cell_type": "code",
      "source": [
        "plt.plot(history.history['loss'], label='train')\n",
        "plt.plot(history.history['val_loss'], label='validation')\n",
        "plt.legend()\n",
        "plt.show()"
      ],
      "metadata": {
        "colab": {
          "base_uri": "https://localhost:8080/",
          "height": 340
        },
        "id": "sQZg42EiXK8n",
        "outputId": "6f831cd6-7713-4bdd-fe65-29bfe72966a5"
      },
      "execution_count": 67,
      "outputs": [
        {
          "output_type": "display_data",
          "data": {
            "text/plain": [
              "<Figure size 720x360 with 1 Axes>"
            ],
            "image/png": "[encoded data removed]"
          },
          "metadata": {}
        }
      ]
    },
    {
      "cell_type": "code",
      "source": [
        "mse_cnn = cnn_model.evaluate(X_test, y_test)"
      ],
      "metadata": {
        "colab": {
          "base_uri": "https://localhost:8080/"
        },
        "id": "ImssP1C-YLO6",
        "outputId": "5bf279f0-13e4-4de8-b2d2-533e6950227c"
      },
      "execution_count": 68,
      "outputs": [
        {
          "output_type": "stream",
          "name": "stdout",
          "text": [
            "1/1 [==============================] - 0s 20ms/step - loss: 0.1155 - mse: 0.1155\n"
          ]
        }
      ]
    },
    {
      "cell_type": "code",
      "source": [
        "cnn_model.summary()"
      ],
      "metadata": {
        "colab": {
          "base_uri": "https://localhost:8080/"
        },
        "id": "A8XbxYQeiCoj",
        "outputId": "b38ace29-d260-42b6-d468-821ca8f93d2f"
      },
      "execution_count": 69,
      "outputs": [
        {
          "output_type": "stream",
          "name": "stdout",
          "text": [
            "Model: \"sequential_2\"\n",
            "_________________________________________________________________\n",
            " Layer (type)                Output Shape              Param #   \n",
            "=================================================================\n",
            " conv1d_2 (Conv1D)           (None, 2, 64)             1472      \n",
            "                                                                 \n",
            " max_pooling1d_2 (MaxPooling  (None, 1, 64)            0         \n",
            " 1D)                                                             \n",
            "                                                                 \n",
            " flatten_2 (Flatten)         (None, 64)                0         \n",
            "                                                                 \n",
            " dense_4 (Dense)             (None, 50)                3250      \n",
            "                                                                 \n",
            " dense_5 (Dense)             (None, 1)                 51        \n",
            "                                                                 \n",
            "=================================================================\n",
            "Total params: 4,773\n",
            "Trainable params: 4,773\n",
            "Non-trainable params: 0\n",
            "_________________________________________________________________\n"
          ]
        }
      ]
    },
    {
      "cell_type": "markdown",
      "source": [
        "###Predict the Test without Hyperparameter Tuning"
      ],
      "metadata": {
        "id": "bNFFP1sSleo-"
      }
    },
    {
      "cell_type": "code",
      "source": [
        "y_pred = cnn_model.predict(X_test)\n",
        "y_pred"
      ],
      "metadata": {
        "colab": {
          "base_uri": "https://localhost:8080/"
        },
        "id": "wujQ6JNuiCyl",
        "outputId": "53228b70-a2f6-4a99-8a9f-b26f3a9f23ea"
      },
      "execution_count": 70,
      "outputs": [
        {
          "output_type": "execute_result",
          "data": {
            "text/plain": [
              "array([[0.35475647],\n",
              "       [0.33886096],\n",
              "       [0.35528824],\n",
              "       [0.3416614 ],\n",
              "       [0.28222412],\n",
              "       [0.22123435],\n",
              "       [0.1947877 ],\n",
              "       [0.20402813],\n",
              "       [0.24251261],\n",
              "       [0.29773188],\n",
              "       [0.30868548],\n",
              "       [0.24522278],\n",
              "       [0.23051873],\n",
              "       [0.2325189 ],\n",
              "       [0.22084355],\n",
              "       [0.2170849 ],\n",
              "       [0.1778547 ],\n",
              "       [0.14408647],\n",
              "       [0.15570387],\n",
              "       [0.32959914],\n",
              "       [0.32795942],\n",
              "       [0.3515381 ]], dtype=float32)"
            ]
          },
          "metadata": {},
          "execution_count": 70
        }
      ]
    },
    {
      "cell_type": "code",
      "source": [
        "y_pred.reshape(1,-1)"
      ],
      "metadata": {
        "colab": {
          "base_uri": "https://localhost:8080/"
        },
        "id": "GI8XYmymlslh",
        "outputId": "16af42c1-0839-472f-c44a-0515b22e65cb"
      },
      "execution_count": 71,
      "outputs": [
        {
          "output_type": "execute_result",
          "data": {
            "text/plain": [
              "array([[0.35475647, 0.33886096, 0.35528824, 0.3416614 , 0.28222412,\n",
              "        0.22123435, 0.1947877 , 0.20402813, 0.24251261, 0.29773188,\n",
              "        0.30868548, 0.24522278, 0.23051873, 0.2325189 , 0.22084355,\n",
              "        0.2170849 , 0.1778547 , 0.14408647, 0.15570387, 0.32959914,\n",
              "        0.32795942, 0.3515381 ]], dtype=float32)"
            ]
          },
          "metadata": {},
          "execution_count": 71
        }
      ]
    },
    {
      "cell_type": "markdown",
      "source": [
        "###Invert Transformed Data"
      ],
      "metadata": {
        "id": "jrtmvrZ_l2__"
      }
    },
    {
      "cell_type": "code",
      "source": [
        "y_train_inv = cpo_pri_transformer.inverse_transform(y_train.reshape(1, -1))\n",
        "y_test_inv = cpo_pri_transformer.inverse_transform(y_test.reshape(1, -1))\n",
        "y_pred_inv = cpo_pri_transformer.inverse_transform(y_pred.reshape(1,-1))\n",
        "print(y_train_inv)\n",
        "print(y_test_inv)\n",
        "print(y_pred_inv)"
      ],
      "metadata": {
        "colab": {
          "base_uri": "https://localhost:8080/"
        },
        "id": "FVSGGT57lxHw",
        "outputId": "35a27580-d3c3-4002-9055-3d569be26408"
      },
      "execution_count": 72,
      "outputs": [
        {
          "output_type": "stream",
          "name": "stdout",
          "text": [
            "[[376. 383. 382. 396. 402. 390. 404. 382. 382. 391. 396. 413. 401. 410.\n",
            "  425. 408. 392. 371. 356. 362. 356. 352. 333. 357. 411. 404. 387. 395.\n",
            "  434. 488. 508. 494. 575. 614. 616. 707. 719. 655. 661. 687. 625. 611.\n",
            "  631. 655. 616. 586. 615. 607. 590. 535. 518. 519. 562. 552. 508. 476.\n",
            "  513. 545. 532. 550. 561. 567. 580. 559. 562. 553. 533. 498. 504. 525.\n",
            "  547. 556. 566. 621. 659. 671. 688. 705. 633. 661. 674. 703. 694. 681.\n",
            "  663. 632. 561. 497. 509. 475. 392. 319. 354. 388. 381. 370.]]\n",
            "[[349. 372. 324. 315. 312. 306. 288. 255. 257. 265. 254. 240. 254. 251.\n",
            "  234. 255. 330. 362. 310. 277. 323. 360.]]\n",
            "[[460.9026  454.5444  461.11533 455.66455 431.88962 407.49374 396.91507\n",
            "  400.61127 416.00504 438.09274 442.47418 417.08914 411.2075  412.00757\n",
            "  407.33743 405.83395 390.1419  376.63458 381.28156 450.83966 450.18378\n",
            "  459.61523]]\n"
          ]
        }
      ]
    },
    {
      "cell_type": "markdown",
      "source": [
        "###Plot History, Actual and Predicted Value"
      ],
      "metadata": {
        "id": "PxYTgRmhmDtL"
      }
    },
    {
      "cell_type": "code",
      "source": [
        "y_train_inv = y_train_inv.flatten()\n",
        "y_train_inv"
      ],
      "metadata": {
        "colab": {
          "base_uri": "https://localhost:8080/"
        },
        "id": "YXY0nwhElxLo",
        "outputId": "bf99622e-1d6c-4f19-d3e5-23b60216d167"
      },
      "execution_count": 73,
      "outputs": [
        {
          "output_type": "execute_result",
          "data": {
            "text/plain": [
              "array([376., 383., 382., 396., 402., 390., 404., 382., 382., 391., 396.,\n",
              "       413., 401., 410., 425., 408., 392., 371., 356., 362., 356., 352.,\n",
              "       333., 357., 411., 404., 387., 395., 434., 488., 508., 494., 575.,\n",
              "       614., 616., 707., 719., 655., 661., 687., 625., 611., 631., 655.,\n",
              "       616., 586., 615., 607., 590., 535., 518., 519., 562., 552., 508.,\n",
              "       476., 513., 545., 532., 550., 561., 567., 580., 559., 562., 553.,\n",
              "       533., 498., 504., 525., 547., 556., 566., 621., 659., 671., 688.,\n",
              "       705., 633., 661., 674., 703., 694., 681., 663., 632., 561., 497.,\n",
              "       509., 475., 392., 319., 354., 388., 381., 370.])"
            ]
          },
          "metadata": {},
          "execution_count": 73
        }
      ]
    },
    {
      "cell_type": "code",
      "source": [
        "y_test_inv = y_test_inv.flatten()\n",
        "y_test_inv"
      ],
      "metadata": {
        "colab": {
          "base_uri": "https://localhost:8080/"
        },
        "id": "z_zQn_rpl_MC",
        "outputId": "59b4f999-55ae-4b3f-d08e-69586f1f0a2c"
      },
      "execution_count": 74,
      "outputs": [
        {
          "output_type": "execute_result",
          "data": {
            "text/plain": [
              "array([349., 372., 324., 315., 312., 306., 288., 255., 257., 265., 254.,\n",
              "       240., 254., 251., 234., 255., 330., 362., 310., 277., 323., 360.])"
            ]
          },
          "metadata": {},
          "execution_count": 74
        }
      ]
    },
    {
      "cell_type": "code",
      "source": [
        "y_pred_inv = y_pred_inv.flatten()\n",
        "y_pred_inv"
      ],
      "metadata": {
        "colab": {
          "base_uri": "https://localhost:8080/"
        },
        "id": "X4GInUagmJUO",
        "outputId": "7ffb44ea-cd22-4674-fe99-5bf0460e6177"
      },
      "execution_count": 75,
      "outputs": [
        {
          "output_type": "execute_result",
          "data": {
            "text/plain": [
              "array([460.9026 , 454.5444 , 461.11533, 455.66455, 431.88962, 407.49374,\n",
              "       396.91507, 400.61127, 416.00504, 438.09274, 442.47418, 417.08914,\n",
              "       411.2075 , 412.00757, 407.33743, 405.83395, 390.1419 , 376.63458,\n",
              "       381.28156, 450.83966, 450.18378, 459.61523], dtype=float32)"
            ]
          },
          "metadata": {},
          "execution_count": 75
        }
      ]
    },
    {
      "cell_type": "code",
      "source": [
        "plt.plot(np.arange(0, len(y_train)), y_train_inv, color='green', label=\"History\")\n",
        "plt.plot(np.arange(len(y_train), len(y_train) + len(y_test)), y_test_inv, color='blue', marker='.', label=\"Actual\")\n",
        "plt.plot(np.arange(len(y_train), len(y_train) + len(y_test)), y_pred_inv, color='red', label=\"Prediction\")\n",
        "plt.ylabel('Crude Palm Oil Price')\n",
        "plt.xlabel('time')\n",
        "plt.legend()\n",
        "plt.show();"
      ],
      "metadata": {
        "colab": {
          "base_uri": "https://localhost:8080/",
          "height": 362
        },
        "id": "vHGNO1xAmJYI",
        "outputId": "d70b30dc-4875-4bdc-adff-0008fb65b49e"
      },
      "execution_count": 76,
      "outputs": [
        {
          "output_type": "display_data",
          "data": {
            "text/plain": [
              "<Figure size 720x360 with 1 Axes>"
            ],
            "image/png": "[encoded data removed]"
          },
          "metadata": {}
        }
      ]
    },
    {
      "cell_type": "markdown",
      "source": [
        "###Evaluate CNN Model Accuracy"
      ],
      "metadata": {
        "id": "1NImON2RmyWF"
      }
    },
    {
      "cell_type": "code",
      "source": [
        "MAE_cnn = mean_absolute_error(y_test_inv, y_pred_inv)\n",
        "print('MAE value of the CNN Model is:', MAE_cnn)\n",
        "\n",
        "MDA_cnn = mda(y_test_inv, y_pred_inv)\n",
        "print('MDA value of the CNN Model is:', MDA_cnn)\n",
        "\n",
        "MAPE_cnn = mean_absolute_percentage_error(y_test_inv, y_pred_inv)\n",
        "print('MAPE value of the CNN Model is:', MAPE_cnn)\n",
        "\n",
        "RMSE_cnn = mean_squared_error(y_test_inv,y_pred_inv, squared=False)\n",
        "print('RMSE value of the CNN Model is:', RMSE_cnn)\n",
        "\n",
        "MSE_cnn = mean_squared_error(y_test_inv,y_pred_inv)\n",
        "print('MSE value of the CNN Model is:', MSE_cnn)\n",
        "\n",
        "EVS_cnn = explained_variance_score(y_test_inv, y_pred_inv)\n",
        "print('EVS score of the CNN Model is:', EVS_cnn)"
      ],
      "metadata": {
        "colab": {
          "base_uri": "https://localhost:8080/"
        },
        "id": "fIc5ITw4m2QJ",
        "outputId": "2eed9aa2-a4db-4f50-8670-39637c7e1d4c"
      },
      "execution_count": 77,
      "outputs": [
        {
          "output_type": "stream",
          "name": "stdout",
          "text": [
            "MAE value of the CNN Model is: 128.8582194935192\n",
            "MDA value of the CNN Model is: 0.42857142857142855\n",
            "MAPE value of the CNN Model is: 46.238699636999556\n",
            "RMSE value of the CNN Model is: 135.92362581039802\n",
            "MSE value of the CNN Model is: 18475.232053445103\n",
            "EVS score of the CNN Model is: -0.044482588028028625\n"
          ]
        }
      ]
    },
    {
      "cell_type": "markdown",
      "source": [
        "####Actual VS Predicted CNN Model"
      ],
      "metadata": {
        "id": "eKMI38Fvmo5t"
      }
    },
    {
      "cell_type": "code",
      "source": [
        "plt.plot(y_test_inv, marker='.', label=\"Actual\")\n",
        "plt.plot(y_pred_inv, color='red', label=\"Prediction\")\n",
        "plt.ylabel('Crude Palm Oil Price')\n",
        "plt.xlabel('Time Step')\n",
        "plt.legend()\n",
        "plt.show();"
      ],
      "metadata": {
        "colab": {
          "base_uri": "https://localhost:8080/",
          "height": 362
        },
        "id": "U_NZ9TEumJb8",
        "outputId": "5a68ec90-b1be-4024-bcca-9d62af1994fc"
      },
      "execution_count": 78,
      "outputs": [
        {
          "output_type": "display_data",
          "data": {
            "text/plain": [
              "<Figure size 720x360 with 1 Axes>"
            ],
            "image/png": "[encoded data removed]"
          },
          "metadata": {}
        }
      ]
    },
    {
      "cell_type": "markdown",
      "source": [
        "###Tuning CNN with Keras Tuner"
      ],
      "metadata": {
        "id": "fs98oM36Yw_r"
      }
    },
    {
      "cell_type": "code",
      "source": [
        "input_shape = (X_test.shape[1], X_test.shape[2])"
      ],
      "metadata": {
        "id": "n6LiQnmpZP4t"
      },
      "execution_count": 79,
      "outputs": []
    },
    {
      "cell_type": "code",
      "source": [
        "from kerastuner import HyperModel\n",
        "class CNNHyperModel(HyperModel):\n",
        "    def __init__(self, input_shape):\n",
        "        self.input_shape = input_shape\n",
        "    def build(self, hp):\n",
        "        model = Sequential()\n",
        "################################################################################ACTIVATION\n",
        "        model.add(\n",
        "            layers.Dense(\n",
        "                units=hp.Int('units', 8, 64, 4, default=8),\n",
        "                activation=hp.Choice(\n",
        "                    'dense_activation',\n",
        "                    values=['relu', 'tanh', 'sigmoid'],\n",
        "                    default='relu'),\n",
        "                input_shape=input_shape\n",
        "            )\n",
        "        )\n",
        "################################################################################\n",
        "        model.add(\n",
        "            layers.Dense(\n",
        "                units=hp.Int('units', 16, 64, 4, default=16),\n",
        "                activation=hp.Choice(\n",
        "                    'dense_activation',\n",
        "                    values=['relu', 'tanh', 'sigmoid'],\n",
        "                    default='relu')\n",
        "            )\n",
        "        )\n",
        "################################################################################### DROPOUT\n",
        "        model.add(\n",
        "            layers.Dropout(\n",
        "                hp.Float(\n",
        "                    'dropout',\n",
        "                    min_value=0.0,\n",
        "                    max_value=0.1,\n",
        "                    default=0.005,\n",
        "                    step=0.01)\n",
        "            )\n",
        "        )\n",
        "################################################################################### HIDDEN LAYER\n",
        "        model.add(\n",
        "            layers.Dense(\n",
        "                hp.Float(\n",
        "                    'num_hidden_layers',\n",
        "                    #'type\": \"range',\n",
        "                     min_value= 1,\n",
        "                     max_value=10,\n",
        "                     default=1,\n",
        "                     step=1)\n",
        "                    #'value_type': \"int\"\n",
        "            )\n",
        "        )\n",
        "################################################################################### Neurons_Per_Layer\n",
        "        model.add(\n",
        "            layers.Dense(\n",
        "                hp.Float(\n",
        "                    'neurons_per_layer',\n",
        "                    #'type\": \"range',\n",
        "                     min_value= 1,\n",
        "                     max_value=300,\n",
        "                     default=1,\n",
        "                     step=16)\n",
        "                    #'value_type': \"int\"\n",
        "            )\n",
        "        )\n",
        "##################################################################################  DENSE = 1\n",
        "\n",
        "        model.add(layers.Dense(1))\n",
        "\n",
        "################################################################################# LEARNING RATE\n",
        "        model.compile(\n",
        "            optimizer=keras.optimizers.Adam(\n",
        "                hp.Float(\n",
        "                    'learning_rate',\n",
        "                    min_value=1e-4,\n",
        "                    max_value=1e-2,\n",
        "                    sampling='LOG',\n",
        "                    default=1e-3\n",
        "                )\n",
        "            ),\n",
        "            loss='binary_crossentropy',\n",
        "            metrics=['mse']\n",
        "        )\n",
        "        return model\n",
        "hypermodel = CNNHyperModel(input_shape=(X_test.shape[1], X_test.shape[2]))"
      ],
      "metadata": {
        "id": "ME9YwvDMYXET"
      },
      "execution_count": 80,
      "outputs": []
    },
    {
      "cell_type": "markdown",
      "source": [
        "###Build Random Search Tuner"
      ],
      "metadata": {
        "id": "1oIJQwVhefkM"
      }
    },
    {
      "cell_type": "code",
      "source": [
        "tuner_rs = RandomSearch( hypermodel,\n",
        "objective='mse',\n",
        "seed=42,\n",
        "max_trials=10,\n",
        "executions_per_trial=2, overwrite=True\n",
        ")"
      ],
      "metadata": {
        "id": "sMU2aDt-YXN_"
      },
      "execution_count": 81,
      "outputs": []
    },
    {
      "cell_type": "markdown",
      "source": [
        "###Run Random Search"
      ],
      "metadata": {
        "id": "qMmFNeZShHzW"
      }
    },
    {
      "cell_type": "code",
      "source": [
        " tuner_rs.search(X_train, y_train, epochs=10, validation_split=0.2, verbose=0)"
      ],
      "metadata": {
        "colab": {
          "base_uri": "https://localhost:8080/"
        },
        "id": "JgnsjqbRfu3B",
        "outputId": "02860849-90f4-4ebc-96f6-094dc6a08bcd"
      },
      "execution_count": 82,
      "outputs": [
        {
          "output_type": "stream",
          "name": "stdout",
          "text": [
            "INFO:tensorflow:Oracle triggered exit\n"
          ]
        }
      ]
    },
    {
      "cell_type": "markdown",
      "source": [
        "###Evaluate Random Search"
      ],
      "metadata": {
        "id": "RRQYrFWwjGJh"
      }
    },
    {
      "cell_type": "code",
      "source": [
        " best_model = tuner_rs.get_best_models(num_models=1)[0] \n",
        " mse_rs = best_model.evaluate(X_test, y_test)[1]"
      ],
      "metadata": {
        "colab": {
          "base_uri": "https://localhost:8080/"
        },
        "id": "kVZbTR3wfu6D",
        "outputId": "c68de5b1-d9bf-4b9d-c596-3e654a814f04"
      },
      "execution_count": 83,
      "outputs": [
        {
          "output_type": "stream",
          "name": "stdout",
          "text": [
            "1/1 [==============================] - 0s 428ms/step - loss: 0.6481 - mse: 0.3020\n"
          ]
        }
      ]
    },
    {
      "cell_type": "code",
      "source": [
        "# Get the optimal hyperparameters of random search\n",
        "best_hps = tuner_rs.get_best_hyperparameters(num_trials = 1)[0]\n",
        "print(best_hps.values)"
      ],
      "metadata": {
        "colab": {
          "base_uri": "https://localhost:8080/"
        },
        "id": "jAT4O1fXmO4M",
        "outputId": "04d53d80-6f79-4d9d-db55-9b2b2d3aa870"
      },
      "execution_count": 84,
      "outputs": [
        {
          "output_type": "stream",
          "name": "stdout",
          "text": [
            "{'units': 52, 'dense_activation': 'relu', 'dropout': 0.03, 'num_hidden_layers': 6.0, 'neurons_per_layer': 49.0, 'learning_rate': 0.0009824542588158123}\n"
          ]
        }
      ]
    },
    {
      "cell_type": "markdown",
      "source": [
        "###Build, Run and Evaluate Hyperband Tuner"
      ],
      "metadata": {
        "id": "RVAVUxdPjoJM"
      }
    },
    {
      "cell_type": "code",
      "source": [
        "tuner_hb = Hyperband( hypermodel,\n",
        "max_epochs=5, objective='mse', seed=42, executions_per_trial=2, directory='hb')\n",
        "tuner_hb.search(X_train, y_train, epochs=10, validation_split=0.2, verbose=0)\n",
        "best_model = tuner_hb.get_best_models(num_models=1)[0] \n",
        "mse_hb = best_model.evaluate(X_test, y_test)[1]"
      ],
      "metadata": {
        "colab": {
          "base_uri": "https://localhost:8080/"
        },
        "id": "nh8H4OYEjdV8",
        "outputId": "c0e0f794-b6c8-4b0d-faf2-2613664366fb"
      },
      "execution_count": 86,
      "outputs": [
        {
          "output_type": "stream",
          "name": "stdout",
          "text": [
            "WARNING:tensorflow:5 out of the last 16 calls to <function Model.make_test_function.<locals>.test_function at 0x7fdbc5769cb0> triggered tf.function retracing. Tracing is expensive and the excessive number of tracings could be due to (1) creating @tf.function repeatedly in a loop, (2) passing tensors with different shapes, (3) passing Python objects instead of tensors. For (1), please define your @tf.function outside of the loop. For (2), @tf.function has experimental_relax_shapes=True option that relaxes argument shapes that can avoid unnecessary retracing. For (3), please refer to https://www.tensorflow.org/guide/function#controlling_retracing and https://www.tensorflow.org/api_docs/python/tf/function for  more details.\n",
            "WARNING:tensorflow:6 out of the last 18 calls to <function Model.make_test_function.<locals>.test_function at 0x7fdbcc7990e0> triggered tf.function retracing. Tracing is expensive and the excessive number of tracings could be due to (1) creating @tf.function repeatedly in a loop, (2) passing tensors with different shapes, (3) passing Python objects instead of tensors. For (1), please define your @tf.function outside of the loop. For (2), @tf.function has experimental_relax_shapes=True option that relaxes argument shapes that can avoid unnecessary retracing. For (3), please refer to https://www.tensorflow.org/guide/function#controlling_retracing and https://www.tensorflow.org/api_docs/python/tf/function for  more details.\n",
            "INFO:tensorflow:Oracle triggered exit\n",
            "1/1 [==============================] - 0s 402ms/step - loss: 0.1243 - mse: 0.0773\n"
          ]
        }
      ]
    },
    {
      "cell_type": "markdown",
      "source": [
        "###Build, Run and Evaluate Bayesian Optimization Tuner"
      ],
      "metadata": {
        "id": "SJBCmQ8bkz7M"
      }
    },
    {
      "cell_type": "code",
      "source": [
        "tuner_bo = BayesianOptimization(hypermodel,\n",
        "objective='mse', max_trials=10,\n",
        "seed=42, executions_per_trial=2, directory='bo')\n",
        "tuner_bo.search(X_train, y_train, epochs=10, validation_split=0.2, verbose=0)\n",
        "best_model = tuner_bo.get_best_models(num_models=1)[0] \n",
        "mse_bo = best_model.evaluate(X_test, y_test)[1]"
      ],
      "metadata": {
        "colab": {
          "base_uri": "https://localhost:8080/"
        },
        "id": "qbhvbA-zjvo0",
        "outputId": "32205af0-b0e9-42c7-d050-1a41e739fe23"
      },
      "execution_count": 87,
      "outputs": [
        {
          "output_type": "stream",
          "name": "stdout",
          "text": [
            "WARNING:tensorflow:Detecting that an object or model or tf.train.Checkpoint is being deleted with unrestored values. See the following logs for the specific values in question. To silence these warnings, use `status.expect_partial()`. See https://www.tensorflow.org/api_docs/python/tf/train/Checkpoint#restorefor details about the status object returned by the restore function.\n",
            "WARNING:tensorflow:Value in checkpoint could not be found in the restored object: (root).optimizer.iter\n",
            "WARNING:tensorflow:Value in checkpoint could not be found in the restored object: (root).optimizer.beta_1\n",
            "WARNING:tensorflow:Value in checkpoint could not be found in the restored object: (root).optimizer.beta_2\n",
            "WARNING:tensorflow:Value in checkpoint could not be found in the restored object: (root).optimizer.decay\n",
            "WARNING:tensorflow:Value in checkpoint could not be found in the restored object: (root).optimizer.learning_rate\n",
            "INFO:tensorflow:Oracle triggered exit\n",
            "1/1 [==============================] - 0s 427ms/step - loss: 0.5936 - mse: 0.2748\n"
          ]
        }
      ]
    },
    {
      "cell_type": "code",
      "source": [
        "# Get the optimal hyperparameters bayesian search\n",
        "best_bo = tuner_bo.get_best_hyperparameters(num_trials = 1)[0]\n",
        "print(best_bo.values)"
      ],
      "metadata": {
        "colab": {
          "base_uri": "https://localhost:8080/"
        },
        "id": "dFD1zI93jvsX",
        "outputId": "6235883d-b6a4-4eb0-bc29-13bed84a4921"
      },
      "execution_count": 88,
      "outputs": [
        {
          "output_type": "stream",
          "name": "stdout",
          "text": [
            "{'units': 40, 'dense_activation': 'relu', 'dropout': 0.05, 'num_hidden_layers': 3.0, 'neurons_per_layer': 289.0, 'learning_rate': 0.001715074355925934}\n"
          ]
        }
      ]
    },
    {
      "cell_type": "markdown",
      "source": [
        "###Get optimal hyperparameters and models from the tuner"
      ],
      "metadata": {
        "id": "Sc9qtD7WtTaj"
      }
    },
    {
      "cell_type": "code",
      "source": [
        "import kerastuner\n",
        "from kerastuner.tuners import RandomSearch, Hyperband, BayesianOptimization"
      ],
      "metadata": {
        "id": "Rr598iUsr0HO"
      },
      "execution_count": 97,
      "outputs": []
    },
    {
      "cell_type": "code",
      "source": [
        "'''\n",
        "cnn_model = tf.keras.Sequential()\n",
        "cnn_model.add(tf.keras.layers.Conv1D(filters=8, kernel_size=1, activation='relu', input_shape=(X_test.shape[1], X_test.shape[2]))) #64,32, 16, 8 (best so far)\n",
        "cnn_model.add(Dropout(0.1))\n",
        "cnn_model.add(tf.keras.layers.MaxPooling1D(pool_size=1))\n",
        "cnn_model.add(tf.keras.layers.Flatten())\n",
        "cnn_model.add(tf.keras.layers.Dense(4, activation='relu')) #32, 8,4\n",
        "#cnn_model.add(Dropout(0.1))\n",
        "cnn_model.add(tf.keras.layers.Dense(1))\n",
        "#cnn_model.add(Dropout(0.25))\n",
        "#Dropout(droprate)\n",
        "cnn_model.compile(loss='mse', optimizer='adam')\n",
        "cnn_model.summary()\n",
        "'''"
      ],
      "metadata": {
        "colab": {
          "base_uri": "https://localhost:8080/"
        },
        "id": "eSbCZ-H-ps5f",
        "outputId": "96645117-4cb1-4c20-83d5-7781f882de16"
      },
      "execution_count": null,
      "outputs": [
        {
          "output_type": "stream",
          "name": "stdout",
          "text": [
            "Model: \"sequential_7\"\n",
            "_________________________________________________________________\n",
            " Layer (type)                Output Shape              Param #   \n",
            "=================================================================\n",
            " conv1d_7 (Conv1D)           (None, 3, 8)              56        \n",
            "                                                                 \n",
            " dropout_1 (Dropout)         (None, 3, 8)              0         \n",
            "                                                                 \n",
            " max_pooling1d_4 (MaxPooling  (None, 3, 8)             0         \n",
            " 1D)                                                             \n",
            "                                                                 \n",
            " flatten_3 (Flatten)         (None, 24)                0         \n",
            "                                                                 \n",
            " dense_6 (Dense)             (None, 4)                 100       \n",
            "                                                                 \n",
            " dense_7 (Dense)             (None, 1)                 5         \n",
            "                                                                 \n",
            "=================================================================\n",
            "Total params: 161\n",
            "Trainable params: 161\n",
            "Non-trainable params: 0\n",
            "_________________________________________________________________\n"
          ]
        }
      ]
    },
    {
      "cell_type": "markdown",
      "source": [
        "The best so far is Hyperband Tuner"
      ],
      "metadata": {
        "id": "q-4DgCQ8Jk5p"
      }
    },
    {
      "cell_type": "code",
      "source": [
        "#...updating"
      ],
      "metadata": {
        "id": "1tagrjQllQHl"
      },
      "execution_count": null,
      "outputs": []
    }
  ]
}