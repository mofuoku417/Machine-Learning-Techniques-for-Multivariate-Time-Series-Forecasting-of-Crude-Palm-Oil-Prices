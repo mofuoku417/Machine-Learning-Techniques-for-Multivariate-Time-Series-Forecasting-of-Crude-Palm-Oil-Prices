{
  "nbformat": 4,
  "nbformat_minor": 0,
  "metadata": {
    "colab": {
      "provenance": [],
      "authorship_tag": "ABX9TyOgV/TEEPlBji+84uxq+VOI",
      "include_colab_link": true
    },
    "kernelspec": {
      "name": "python3",
      "display_name": "Python 3"
    },
    "language_info": {
      "name": "python"
    },
    "gpuClass": "standard",
    "accelerator": "GPU"
  },
  "cells": [
    {
      "cell_type": "markdown",
      "metadata": {
        "id": "view-in-github",
        "colab_type": "text"
      },
      "source": [
        "<a href=\"https://colab.research.google.com/github/mofuoku417/Machine-Learning-Techniques-for-Multivariate-Time-Series-Forecasting-of-Crude-Palm-Oil-Prices/blob/main/MV_MLP.ipynb\" target=\"_parent\"><img src=\"https://colab.research.google.com/assets/colab-badge.svg\" alt=\"Open In Colab\"/></a>"
      ]
    },
    {
      "cell_type": "markdown",
      "source": [
        "##Objective: Predict Monthly Crude Palm Oil Price Using Multi-layer Perceptron (MLP)"
      ],
      "metadata": {
        "id": "tt6Yvzr3gZ-g"
      }
    },
    {
      "cell_type": "markdown",
      "source": [
        "###Install dependencies"
      ],
      "metadata": {
        "id": "TvRmatc1Lo4v"
      }
    },
    {
      "cell_type": "code",
      "source": [
        "!pip install scikeras\n",
        "!pip install bayesian-optimization\n",
        "!pip install keras-tuner --upgrade"
      ],
      "metadata": {
        "id": "gGw0m6TUdgMM",
        "outputId": "a3492b5b-0c02-4e65-8bb4-ec87a10c7c4b",
        "colab": {
          "base_uri": "https://localhost:8080/"
        }
      },
      "execution_count": 1,
      "outputs": [
        {
          "output_type": "stream",
          "name": "stdout",
          "text": [
            "Looking in indexes: https://pypi.org/simple, https://us-python.pkg.dev/colab-wheels/public/simple/\n",
            "Collecting scikeras\n",
            "  Downloading scikeras-0.10.0-py3-none-any.whl (27 kB)\n",
            "Requirement already satisfied: scikit-learn>=1.0.0 in /usr/local/lib/python3.8/dist-packages (from scikeras) (1.0.2)\n",
            "Requirement already satisfied: packaging>=0.21 in /usr/local/lib/python3.8/dist-packages (from scikeras) (23.0)\n",
            "Requirement already satisfied: scipy>=1.1.0 in /usr/local/lib/python3.8/dist-packages (from scikit-learn>=1.0.0->scikeras) (1.7.3)\n",
            "Requirement already satisfied: threadpoolctl>=2.0.0 in /usr/local/lib/python3.8/dist-packages (from scikit-learn>=1.0.0->scikeras) (3.1.0)\n",
            "Requirement already satisfied: numpy>=1.14.6 in /usr/local/lib/python3.8/dist-packages (from scikit-learn>=1.0.0->scikeras) (1.21.6)\n",
            "Requirement already satisfied: joblib>=0.11 in /usr/local/lib/python3.8/dist-packages (from scikit-learn>=1.0.0->scikeras) (1.2.0)\n",
            "Installing collected packages: scikeras\n",
            "Successfully installed scikeras-0.10.0\n",
            "Looking in indexes: https://pypi.org/simple, https://us-python.pkg.dev/colab-wheels/public/simple/\n",
            "Collecting bayesian-optimization\n",
            "  Downloading bayesian_optimization-1.4.2-py3-none-any.whl (17 kB)\n",
            "Requirement already satisfied: numpy>=1.9.0 in /usr/local/lib/python3.8/dist-packages (from bayesian-optimization) (1.21.6)\n",
            "Collecting colorama>=0.4.6\n",
            "  Downloading colorama-0.4.6-py2.py3-none-any.whl (25 kB)\n",
            "Requirement already satisfied: scikit-learn>=0.18.0 in /usr/local/lib/python3.8/dist-packages (from bayesian-optimization) (1.0.2)\n",
            "Requirement already satisfied: scipy>=1.0.0 in /usr/local/lib/python3.8/dist-packages (from bayesian-optimization) (1.7.3)\n",
            "Requirement already satisfied: threadpoolctl>=2.0.0 in /usr/local/lib/python3.8/dist-packages (from scikit-learn>=0.18.0->bayesian-optimization) (3.1.0)\n",
            "Requirement already satisfied: joblib>=0.11 in /usr/local/lib/python3.8/dist-packages (from scikit-learn>=0.18.0->bayesian-optimization) (1.2.0)\n",
            "Installing collected packages: colorama, bayesian-optimization\n",
            "Successfully installed bayesian-optimization-1.4.2 colorama-0.4.6\n",
            "Looking in indexes: https://pypi.org/simple, https://us-python.pkg.dev/colab-wheels/public/simple/\n",
            "Collecting keras-tuner\n",
            "  Downloading keras_tuner-1.2.1-py3-none-any.whl (169 kB)\n",
            "\u001b[2K     \u001b[90m━━━━━━━━━━━━━━━━━━━━━━━━━━━━━━━━━━━━━━━\u001b[0m \u001b[32m169.6/169.6 KB\u001b[0m \u001b[31m9.4 MB/s\u001b[0m eta \u001b[36m0:00:00\u001b[0m\n",
            "\u001b[?25hRequirement already satisfied: requests in /usr/local/lib/python3.8/dist-packages (from keras-tuner) (2.25.1)\n",
            "Requirement already satisfied: ipython in /usr/local/lib/python3.8/dist-packages (from keras-tuner) (7.9.0)\n",
            "Requirement already satisfied: packaging in /usr/local/lib/python3.8/dist-packages (from keras-tuner) (23.0)\n",
            "Requirement already satisfied: tensorflow>=2.0 in /usr/local/lib/python3.8/dist-packages (from keras-tuner) (2.11.0)\n",
            "Collecting kt-legacy\n",
            "  Downloading kt_legacy-1.0.4-py3-none-any.whl (9.6 kB)\n",
            "Requirement already satisfied: numpy>=1.20 in /usr/local/lib/python3.8/dist-packages (from tensorflow>=2.0->keras-tuner) (1.21.6)\n",
            "Requirement already satisfied: astunparse>=1.6.0 in /usr/local/lib/python3.8/dist-packages (from tensorflow>=2.0->keras-tuner) (1.6.3)\n",
            "Requirement already satisfied: gast<=0.4.0,>=0.2.1 in /usr/local/lib/python3.8/dist-packages (from tensorflow>=2.0->keras-tuner) (0.4.0)\n",
            "Requirement already satisfied: libclang>=13.0.0 in /usr/local/lib/python3.8/dist-packages (from tensorflow>=2.0->keras-tuner) (15.0.6.1)\n",
            "Requirement already satisfied: termcolor>=1.1.0 in /usr/local/lib/python3.8/dist-packages (from tensorflow>=2.0->keras-tuner) (2.2.0)\n",
            "Requirement already satisfied: grpcio<2.0,>=1.24.3 in /usr/local/lib/python3.8/dist-packages (from tensorflow>=2.0->keras-tuner) (1.51.1)\n",
            "Requirement already satisfied: tensorflow-io-gcs-filesystem>=0.23.1 in /usr/local/lib/python3.8/dist-packages (from tensorflow>=2.0->keras-tuner) (0.30.0)\n",
            "Requirement already satisfied: wrapt>=1.11.0 in /usr/local/lib/python3.8/dist-packages (from tensorflow>=2.0->keras-tuner) (1.14.1)\n",
            "Requirement already satisfied: opt-einsum>=2.3.2 in /usr/local/lib/python3.8/dist-packages (from tensorflow>=2.0->keras-tuner) (3.3.0)\n",
            "Requirement already satisfied: typing-extensions>=3.6.6 in /usr/local/lib/python3.8/dist-packages (from tensorflow>=2.0->keras-tuner) (4.5.0)\n",
            "Requirement already satisfied: google-pasta>=0.1.1 in /usr/local/lib/python3.8/dist-packages (from tensorflow>=2.0->keras-tuner) (0.2.0)\n",
            "Requirement already satisfied: absl-py>=1.0.0 in /usr/local/lib/python3.8/dist-packages (from tensorflow>=2.0->keras-tuner) (1.4.0)\n",
            "Requirement already satisfied: six>=1.12.0 in /usr/local/lib/python3.8/dist-packages (from tensorflow>=2.0->keras-tuner) (1.15.0)\n",
            "Requirement already satisfied: tensorflow-estimator<2.12,>=2.11.0 in /usr/local/lib/python3.8/dist-packages (from tensorflow>=2.0->keras-tuner) (2.11.0)\n",
            "Requirement already satisfied: tensorboard<2.12,>=2.11 in /usr/local/lib/python3.8/dist-packages (from tensorflow>=2.0->keras-tuner) (2.11.2)\n",
            "Requirement already satisfied: h5py>=2.9.0 in /usr/local/lib/python3.8/dist-packages (from tensorflow>=2.0->keras-tuner) (3.1.0)\n",
            "Requirement already satisfied: protobuf<3.20,>=3.9.2 in /usr/local/lib/python3.8/dist-packages (from tensorflow>=2.0->keras-tuner) (3.19.6)\n",
            "Requirement already satisfied: keras<2.12,>=2.11.0 in /usr/local/lib/python3.8/dist-packages (from tensorflow>=2.0->keras-tuner) (2.11.0)\n",
            "Requirement already satisfied: flatbuffers>=2.0 in /usr/local/lib/python3.8/dist-packages (from tensorflow>=2.0->keras-tuner) (23.1.21)\n",
            "Requirement already satisfied: setuptools in /usr/local/lib/python3.8/dist-packages (from tensorflow>=2.0->keras-tuner) (57.4.0)\n",
            "Requirement already satisfied: prompt-toolkit<2.1.0,>=2.0.0 in /usr/local/lib/python3.8/dist-packages (from ipython->keras-tuner) (2.0.10)\n",
            "Requirement already satisfied: traitlets>=4.2 in /usr/local/lib/python3.8/dist-packages (from ipython->keras-tuner) (5.7.1)\n",
            "Requirement already satisfied: backcall in /usr/local/lib/python3.8/dist-packages (from ipython->keras-tuner) (0.2.0)\n",
            "Requirement already satisfied: pygments in /usr/local/lib/python3.8/dist-packages (from ipython->keras-tuner) (2.6.1)\n",
            "Requirement already satisfied: pickleshare in /usr/local/lib/python3.8/dist-packages (from ipython->keras-tuner) (0.7.5)\n",
            "Requirement already satisfied: pexpect in /usr/local/lib/python3.8/dist-packages (from ipython->keras-tuner) (4.8.0)\n",
            "Requirement already satisfied: decorator in /usr/local/lib/python3.8/dist-packages (from ipython->keras-tuner) (4.4.2)\n",
            "Collecting jedi>=0.10\n",
            "  Downloading jedi-0.18.2-py2.py3-none-any.whl (1.6 MB)\n",
            "\u001b[2K     \u001b[90m━━━━━━━━━━━━━━━━━━━━━━━━━━━━━━━━━━━━━━━━\u001b[0m \u001b[32m1.6/1.6 MB\u001b[0m \u001b[31m20.4 MB/s\u001b[0m eta \u001b[36m0:00:00\u001b[0m\n",
            "\u001b[?25hRequirement already satisfied: idna<3,>=2.5 in /usr/local/lib/python3.8/dist-packages (from requests->keras-tuner) (2.10)\n",
            "Requirement already satisfied: certifi>=2017.4.17 in /usr/local/lib/python3.8/dist-packages (from requests->keras-tuner) (2022.12.7)\n",
            "Requirement already satisfied: chardet<5,>=3.0.2 in /usr/local/lib/python3.8/dist-packages (from requests->keras-tuner) (4.0.0)\n",
            "Requirement already satisfied: urllib3<1.27,>=1.21.1 in /usr/local/lib/python3.8/dist-packages (from requests->keras-tuner) (1.24.3)\n",
            "Requirement already satisfied: wheel<1.0,>=0.23.0 in /usr/local/lib/python3.8/dist-packages (from astunparse>=1.6.0->tensorflow>=2.0->keras-tuner) (0.38.4)\n",
            "Requirement already satisfied: parso<0.9.0,>=0.8.0 in /usr/local/lib/python3.8/dist-packages (from jedi>=0.10->ipython->keras-tuner) (0.8.3)\n",
            "Requirement already satisfied: wcwidth in /usr/local/lib/python3.8/dist-packages (from prompt-toolkit<2.1.0,>=2.0.0->ipython->keras-tuner) (0.2.6)\n",
            "Requirement already satisfied: markdown>=2.6.8 in /usr/local/lib/python3.8/dist-packages (from tensorboard<2.12,>=2.11->tensorflow>=2.0->keras-tuner) (3.4.1)\n",
            "Requirement already satisfied: google-auth<3,>=1.6.3 in /usr/local/lib/python3.8/dist-packages (from tensorboard<2.12,>=2.11->tensorflow>=2.0->keras-tuner) (2.16.0)\n",
            "Requirement already satisfied: werkzeug>=1.0.1 in /usr/local/lib/python3.8/dist-packages (from tensorboard<2.12,>=2.11->tensorflow>=2.0->keras-tuner) (1.0.1)\n",
            "Requirement already satisfied: google-auth-oauthlib<0.5,>=0.4.1 in /usr/local/lib/python3.8/dist-packages (from tensorboard<2.12,>=2.11->tensorflow>=2.0->keras-tuner) (0.4.6)\n",
            "Requirement already satisfied: tensorboard-plugin-wit>=1.6.0 in /usr/local/lib/python3.8/dist-packages (from tensorboard<2.12,>=2.11->tensorflow>=2.0->keras-tuner) (1.8.1)\n",
            "Requirement already satisfied: tensorboard-data-server<0.7.0,>=0.6.0 in /usr/local/lib/python3.8/dist-packages (from tensorboard<2.12,>=2.11->tensorflow>=2.0->keras-tuner) (0.6.1)\n",
            "Requirement already satisfied: ptyprocess>=0.5 in /usr/local/lib/python3.8/dist-packages (from pexpect->ipython->keras-tuner) (0.7.0)\n",
            "Requirement already satisfied: pyasn1-modules>=0.2.1 in /usr/local/lib/python3.8/dist-packages (from google-auth<3,>=1.6.3->tensorboard<2.12,>=2.11->tensorflow>=2.0->keras-tuner) (0.2.8)\n",
            "Requirement already satisfied: cachetools<6.0,>=2.0.0 in /usr/local/lib/python3.8/dist-packages (from google-auth<3,>=1.6.3->tensorboard<2.12,>=2.11->tensorflow>=2.0->keras-tuner) (5.3.0)\n",
            "Requirement already satisfied: rsa<5,>=3.1.4 in /usr/local/lib/python3.8/dist-packages (from google-auth<3,>=1.6.3->tensorboard<2.12,>=2.11->tensorflow>=2.0->keras-tuner) (4.9)\n",
            "Requirement already satisfied: requests-oauthlib>=0.7.0 in /usr/local/lib/python3.8/dist-packages (from google-auth-oauthlib<0.5,>=0.4.1->tensorboard<2.12,>=2.11->tensorflow>=2.0->keras-tuner) (1.3.1)\n",
            "Requirement already satisfied: importlib-metadata>=4.4 in /usr/local/lib/python3.8/dist-packages (from markdown>=2.6.8->tensorboard<2.12,>=2.11->tensorflow>=2.0->keras-tuner) (6.0.0)\n",
            "Requirement already satisfied: zipp>=0.5 in /usr/local/lib/python3.8/dist-packages (from importlib-metadata>=4.4->markdown>=2.6.8->tensorboard<2.12,>=2.11->tensorflow>=2.0->keras-tuner) (3.13.0)\n",
            "Requirement already satisfied: pyasn1<0.5.0,>=0.4.6 in /usr/local/lib/python3.8/dist-packages (from pyasn1-modules>=0.2.1->google-auth<3,>=1.6.3->tensorboard<2.12,>=2.11->tensorflow>=2.0->keras-tuner) (0.4.8)\n",
            "Requirement already satisfied: oauthlib>=3.0.0 in /usr/local/lib/python3.8/dist-packages (from requests-oauthlib>=0.7.0->google-auth-oauthlib<0.5,>=0.4.1->tensorboard<2.12,>=2.11->tensorflow>=2.0->keras-tuner) (3.2.2)\n",
            "Installing collected packages: kt-legacy, jedi, keras-tuner\n",
            "Successfully installed jedi-0.18.2 keras-tuner-1.2.1 kt-legacy-1.0.4\n"
          ]
        }
      ]
    },
    {
      "cell_type": "markdown",
      "source": [
        "###Load Libraries"
      ],
      "metadata": {
        "id": "r_2Cswg0sYN8"
      }
    },
    {
      "cell_type": "code",
      "source": [
        "import pandas as pd\n",
        "import numpy as np\n",
        "import matplotlib.pyplot as plt\n",
        "import pickle\n",
        "import os\n",
        "import seaborn as sns\n",
        "plt.rcParams['figure.figsize'] = (10, 5)\n",
        "plt.style.use('fivethirtyeight')\n",
        "from plotly.subplots import make_subplots\n",
        "import plotly.graph_objects as go\n",
        "import tensorflow as tf\n",
        "from tensorflow.keras import layers\n",
        "from sklearn.metrics import mean_absolute_error\n",
        "from sklearn.metrics import make_scorer, mean_squared_error\n",
        "from keras.layers import Dense, Dropout\n",
        "from sklearn.metrics import explained_variance_score\n",
        "from sklearn.neural_network import MLPRegressor\n",
        "from sklearn.model_selection import GridSearchCV, RandomizedSearchCV\n",
        "import warnings\n",
        "warnings.filterwarnings('ignore')\n",
        "from keras.models import Sequential\n",
        "from keras.layers import Dense\n",
        "from keras.wrappers.scikit_learn import KerasRegressor\n",
        "from keras.wrappers.scikit_learn import KerasClassifier\n",
        "from sklearn.model_selection import KFold, cross_val_score\n",
        "from scikeras.wrappers import KerasRegressor\n",
        "from tensorflow import keras\n",
        "from kerastuner.tuners import RandomSearch\n",
        "from kerastuner import HyperModel, RandomSearch, Hyperband, BayesianOptimization\n",
        "from keras.callbacks import EarlyStopping\n",
        "from time import time\n",
        "import pickle\n",
        "\n",
        "import matplotlib.dates as mdates\n",
        "from sklearn.preprocessing import RobustScaler\n",
        "from sklearn.preprocessing import MinMaxScaler"
      ],
      "metadata": {
        "id": "eJUaw5qy34It"
      },
      "execution_count": 2,
      "outputs": []
    },
    {
      "cell_type": "code",
      "source": [
        "import random as python_random\n",
        "def reset_seeds():\n",
        "   np.random.seed(123) \n",
        "   python_random.seed(123)\n",
        "   tf.random.set_seed(1234)\n",
        "\n",
        "reset_seeds()"
      ],
      "metadata": {
        "id": "0clMydegB8NR"
      },
      "execution_count": 3,
      "outputs": []
    },
    {
      "cell_type": "markdown",
      "source": [
        "###Define Functions to Facilitate Metrics Evaluation"
      ],
      "metadata": {
        "id": "Gzu9V2o2gfZG"
      }
    },
    {
      "cell_type": "code",
      "source": [
        "#To compute Mean Directional Accuracy\n",
        "def mda(actual: np.ndarray, predicted: np.ndarray):\n",
        "    \"\"\" Mean Directional Accuracy \"\"\"\n",
        "    return np.mean((np.sign(actual[1:] - actual[:-1]) == np.sign(predicted[1:] - predicted[:-1])).astype(int))\n",
        "\n",
        "#Calculate the Mean Absolute Percentage Error\n",
        "#def MAPE(y_true, y_pred): \n",
        "    #mape = np.mean(np.abs((np.array(y_true) - np.array(y_pred)) / np.array(y_true))) * 100\n",
        "    #return mape\n",
        "\n",
        "def mean_absolute_percentage_error(y_true, y_pred): \n",
        "    y_true, y_pred = np.array(y_true), np.array(y_pred)\n",
        "    return np.mean(np.abs((y_true - y_pred) / y_true)) * 100\n",
        "\n",
        "def MAPE(y_true, y_pred): \n",
        "    y_true, y_pred = np.array(y_true), np.array(y_pred)\n",
        "    return np.mean(np.abs((y_true - y_pred) / y_true)) * 100\n",
        "\n",
        "#Calculate the Root Mean Squared Error:\n",
        "def RMSE(y_true, y_pred): \n",
        "    rmse = np.sqrt(mean_squared_error(y_true, y_pred))\n",
        "    return rmse"
      ],
      "metadata": {
        "id": "k7RYx1rN_Yf_"
      },
      "execution_count": 4,
      "outputs": []
    },
    {
      "cell_type": "markdown",
      "source": [
        "###Load the Cleaned Data from Github"
      ],
      "metadata": {
        "id": "FVpIGyF7g4od"
      }
    },
    {
      "cell_type": "code",
      "source": [
        "from pandas import read_csv\n",
        "path = 'https://raw.githubusercontent.com/mofuoku417/Machine-Learning-Techniques-for-Multivariate-Time-Series-Forecasting-of-Crude-Palm-Oil-Prices/main/Cleaned_data/FS_2.csv'\n",
        "df = read_csv(path)\n",
        "df.head()"
      ],
      "metadata": {
        "colab": {
          "base_uri": "https://localhost:8080/",
          "height": 208
        },
        "id": "z_6wFR8b3xZf",
        "outputId": "50eb571a-797f-451e-8bea-8283c1aedb68"
      },
      "execution_count": 5,
      "outputs": [
        {
          "output_type": "execute_result",
          "data": {
            "text/plain": [
              "      date  cpo_pri  cno_pri  oli_pri  rps_pri  pno_pri  sbo_pri  sfo_pri\n",
              "0  12/1/10      323      455  3102.61   423.45    844.0    468.0    578.0\n",
              "1   1/1/11      345      546  3100.45   415.85    799.0    485.0    557.0\n",
              "2   2/1/11      362      595  3199.41   410.77    718.0    466.0    552.0\n",
              "3   3/1/11      376      636  3281.67   414.82    614.0    442.0    574.0\n",
              "4   4/1/11      383      738  3261.65   451.04    619.0    429.0    595.0"
            ],
            "text/html": [
              "\n",
              "  <div id=\"df-0d18f25f-4c44-4fa3-9549-f231e6016b3e\">\n",
              "    <div class=\"colab-df-container\">\n",
              "      <div>\n",
              "<style scoped>\n",
              "    .dataframe tbody tr th:only-of-type {\n",
              "        vertical-align: middle;\n",
              "    }\n",
              "\n",
              "    .dataframe tbody tr th {\n",
              "        vertical-align: top;\n",
              "    }\n",
              "\n",
              "    .dataframe thead th {\n",
              "        text-align: right;\n",
              "    }\n",
              "</style>\n",
              "<table border=\"1\" class=\"dataframe\">\n",
              "  <thead>\n",
              "    <tr style=\"text-align: right;\">\n",
              "      <th></th>\n",
              "      <th>date</th>\n",
              "      <th>cpo_pri</th>\n",
              "      <th>cno_pri</th>\n",
              "      <th>oli_pri</th>\n",
              "      <th>rps_pri</th>\n",
              "      <th>pno_pri</th>\n",
              "      <th>sbo_pri</th>\n",
              "      <th>sfo_pri</th>\n",
              "    </tr>\n",
              "  </thead>\n",
              "  <tbody>\n",
              "    <tr>\n",
              "      <th>0</th>\n",
              "      <td>12/1/10</td>\n",
              "      <td>323</td>\n",
              "      <td>455</td>\n",
              "      <td>3102.61</td>\n",
              "      <td>423.45</td>\n",
              "      <td>844.0</td>\n",
              "      <td>468.0</td>\n",
              "      <td>578.0</td>\n",
              "    </tr>\n",
              "    <tr>\n",
              "      <th>1</th>\n",
              "      <td>1/1/11</td>\n",
              "      <td>345</td>\n",
              "      <td>546</td>\n",
              "      <td>3100.45</td>\n",
              "      <td>415.85</td>\n",
              "      <td>799.0</td>\n",
              "      <td>485.0</td>\n",
              "      <td>557.0</td>\n",
              "    </tr>\n",
              "    <tr>\n",
              "      <th>2</th>\n",
              "      <td>2/1/11</td>\n",
              "      <td>362</td>\n",
              "      <td>595</td>\n",
              "      <td>3199.41</td>\n",
              "      <td>410.77</td>\n",
              "      <td>718.0</td>\n",
              "      <td>466.0</td>\n",
              "      <td>552.0</td>\n",
              "    </tr>\n",
              "    <tr>\n",
              "      <th>3</th>\n",
              "      <td>3/1/11</td>\n",
              "      <td>376</td>\n",
              "      <td>636</td>\n",
              "      <td>3281.67</td>\n",
              "      <td>414.82</td>\n",
              "      <td>614.0</td>\n",
              "      <td>442.0</td>\n",
              "      <td>574.0</td>\n",
              "    </tr>\n",
              "    <tr>\n",
              "      <th>4</th>\n",
              "      <td>4/1/11</td>\n",
              "      <td>383</td>\n",
              "      <td>738</td>\n",
              "      <td>3261.65</td>\n",
              "      <td>451.04</td>\n",
              "      <td>619.0</td>\n",
              "      <td>429.0</td>\n",
              "      <td>595.0</td>\n",
              "    </tr>\n",
              "  </tbody>\n",
              "</table>\n",
              "</div>\n",
              "      <button class=\"colab-df-convert\" onclick=\"convertToInteractive('df-0d18f25f-4c44-4fa3-9549-f231e6016b3e')\"\n",
              "              title=\"Convert this dataframe to an interactive table.\"\n",
              "              style=\"display:none;\">\n",
              "        \n",
              "  <svg xmlns=\"http://www.w3.org/2000/svg\" height=\"24px\"viewBox=\"0 0 24 24\"\n",
              "       width=\"24px\">\n",
              "    <path d=\"M0 0h24v24H0V0z\" fill=\"none\"/>\n",
              "    <path d=\"M18.56 5.44l.94 2.06.94-2.06 2.06-.94-2.06-.94-.94-2.06-.94 2.06-2.06.94zm-11 1L8.5 8.5l.94-2.06 2.06-.94-2.06-.94L8.5 2.5l-.94 2.06-2.06.94zm10 10l.94 2.06.94-2.06 2.06-.94-2.06-.94-.94-2.06-.94 2.06-2.06.94z\"/><path d=\"M17.41 7.96l-1.37-1.37c-.4-.4-.92-.59-1.43-.59-.52 0-1.04.2-1.43.59L10.3 9.45l-7.72 7.72c-.78.78-.78 2.05 0 2.83L4 21.41c.39.39.9.59 1.41.59.51 0 1.02-.2 1.41-.59l7.78-7.78 2.81-2.81c.8-.78.8-2.07 0-2.86zM5.41 20L4 18.59l7.72-7.72 1.47 1.35L5.41 20z\"/>\n",
              "  </svg>\n",
              "      </button>\n",
              "      \n",
              "  <style>\n",
              "    .colab-df-container {\n",
              "      display:flex;\n",
              "      flex-wrap:wrap;\n",
              "      gap: 12px;\n",
              "    }\n",
              "\n",
              "    .colab-df-convert {\n",
              "      background-color: #E8F0FE;\n",
              "      border: none;\n",
              "      border-radius: 50%;\n",
              "      cursor: pointer;\n",
              "      display: none;\n",
              "      fill: #1967D2;\n",
              "      height: 32px;\n",
              "      padding: 0 0 0 0;\n",
              "      width: 32px;\n",
              "    }\n",
              "\n",
              "    .colab-df-convert:hover {\n",
              "      background-color: #E2EBFA;\n",
              "      box-shadow: 0px 1px 2px rgba(60, 64, 67, 0.3), 0px 1px 3px 1px rgba(60, 64, 67, 0.15);\n",
              "      fill: #174EA6;\n",
              "    }\n",
              "\n",
              "    [theme=dark] .colab-df-convert {\n",
              "      background-color: #3B4455;\n",
              "      fill: #D2E3FC;\n",
              "    }\n",
              "\n",
              "    [theme=dark] .colab-df-convert:hover {\n",
              "      background-color: #434B5C;\n",
              "      box-shadow: 0px 1px 3px 1px rgba(0, 0, 0, 0.15);\n",
              "      filter: drop-shadow(0px 1px 2px rgba(0, 0, 0, 0.3));\n",
              "      fill: #FFFFFF;\n",
              "    }\n",
              "  </style>\n",
              "\n",
              "      <script>\n",
              "        const buttonEl =\n",
              "          document.querySelector('#df-0d18f25f-4c44-4fa3-9549-f231e6016b3e button.colab-df-convert');\n",
              "        buttonEl.style.display =\n",
              "          google.colab.kernel.accessAllowed ? 'block' : 'none';\n",
              "\n",
              "        async function convertToInteractive(key) {\n",
              "          const element = document.querySelector('#df-0d18f25f-4c44-4fa3-9549-f231e6016b3e');\n",
              "          const dataTable =\n",
              "            await google.colab.kernel.invokeFunction('convertToInteractive',\n",
              "                                                     [key], {});\n",
              "          if (!dataTable) return;\n",
              "\n",
              "          const docLinkHtml = 'Like what you see? Visit the ' +\n",
              "            '<a target=\"_blank\" href=https://colab.research.google.com/notebooks/data_table.ipynb>data table notebook</a>'\n",
              "            + ' to learn more about interactive tables.';\n",
              "          element.innerHTML = '';\n",
              "          dataTable['output_type'] = 'display_data';\n",
              "          await google.colab.output.renderOutput(dataTable, element);\n",
              "          const docLink = document.createElement('div');\n",
              "          docLink.innerHTML = docLinkHtml;\n",
              "          element.appendChild(docLink);\n",
              "        }\n",
              "      </script>\n",
              "    </div>\n",
              "  </div>\n",
              "  "
            ]
          },
          "metadata": {},
          "execution_count": 5
        }
      ]
    },
    {
      "cell_type": "code",
      "source": [
        "df['date']=pd.to_datetime(df['date'])\n",
        "#del df['date']"
      ],
      "metadata": {
        "id": "bABFH7Kd4nBN"
      },
      "execution_count": 6,
      "outputs": []
    },
    {
      "cell_type": "code",
      "source": [
        "df.set_index('date', inplace=True)\n",
        "df.info()"
      ],
      "metadata": {
        "colab": {
          "base_uri": "https://localhost:8080/"
        },
        "id": "nZ-LB-rFdF5N",
        "outputId": "de70472e-2f8a-4c82-d96b-2c77cd27219f"
      },
      "execution_count": 7,
      "outputs": [
        {
          "output_type": "stream",
          "name": "stdout",
          "text": [
            "<class 'pandas.core.frame.DataFrame'>\n",
            "DatetimeIndex: 124 entries, 2010-12-01 to 2021-03-01\n",
            "Data columns (total 7 columns):\n",
            " #   Column   Non-Null Count  Dtype  \n",
            "---  ------   --------------  -----  \n",
            " 0   cpo_pri  124 non-null    int64  \n",
            " 1   cno_pri  124 non-null    int64  \n",
            " 2   oli_pri  124 non-null    float64\n",
            " 3   rps_pri  124 non-null    float64\n",
            " 4   pno_pri  124 non-null    float64\n",
            " 5   sbo_pri  124 non-null    float64\n",
            " 6   sfo_pri  124 non-null    float64\n",
            "dtypes: float64(5), int64(2)\n",
            "memory usage: 7.8 KB\n"
          ]
        }
      ]
    },
    {
      "cell_type": "code",
      "source": [
        "df.head()"
      ],
      "metadata": {
        "colab": {
          "base_uri": "https://localhost:8080/",
          "height": 240
        },
        "id": "PLpdJChY4wex",
        "outputId": "da9b86d2-f9ac-4ef7-e09d-ebcd0ec61c66"
      },
      "execution_count": 8,
      "outputs": [
        {
          "output_type": "execute_result",
          "data": {
            "text/plain": [
              "            cpo_pri  cno_pri  oli_pri  rps_pri  pno_pri  sbo_pri  sfo_pri\n",
              "date                                                                     \n",
              "2010-12-01      323      455  3102.61   423.45    844.0    468.0    578.0\n",
              "2011-01-01      345      546  3100.45   415.85    799.0    485.0    557.0\n",
              "2011-02-01      362      595  3199.41   410.77    718.0    466.0    552.0\n",
              "2011-03-01      376      636  3281.67   414.82    614.0    442.0    574.0\n",
              "2011-04-01      383      738  3261.65   451.04    619.0    429.0    595.0"
            ],
            "text/html": [
              "\n",
              "  <div id=\"df-4ccaca12-4598-4c8d-b6e9-d5e417482cbd\">\n",
              "    <div class=\"colab-df-container\">\n",
              "      <div>\n",
              "<style scoped>\n",
              "    .dataframe tbody tr th:only-of-type {\n",
              "        vertical-align: middle;\n",
              "    }\n",
              "\n",
              "    .dataframe tbody tr th {\n",
              "        vertical-align: top;\n",
              "    }\n",
              "\n",
              "    .dataframe thead th {\n",
              "        text-align: right;\n",
              "    }\n",
              "</style>\n",
              "<table border=\"1\" class=\"dataframe\">\n",
              "  <thead>\n",
              "    <tr style=\"text-align: right;\">\n",
              "      <th></th>\n",
              "      <th>cpo_pri</th>\n",
              "      <th>cno_pri</th>\n",
              "      <th>oli_pri</th>\n",
              "      <th>rps_pri</th>\n",
              "      <th>pno_pri</th>\n",
              "      <th>sbo_pri</th>\n",
              "      <th>sfo_pri</th>\n",
              "    </tr>\n",
              "    <tr>\n",
              "      <th>date</th>\n",
              "      <th></th>\n",
              "      <th></th>\n",
              "      <th></th>\n",
              "      <th></th>\n",
              "      <th></th>\n",
              "      <th></th>\n",
              "      <th></th>\n",
              "    </tr>\n",
              "  </thead>\n",
              "  <tbody>\n",
              "    <tr>\n",
              "      <th>2010-12-01</th>\n",
              "      <td>323</td>\n",
              "      <td>455</td>\n",
              "      <td>3102.61</td>\n",
              "      <td>423.45</td>\n",
              "      <td>844.0</td>\n",
              "      <td>468.0</td>\n",
              "      <td>578.0</td>\n",
              "    </tr>\n",
              "    <tr>\n",
              "      <th>2011-01-01</th>\n",
              "      <td>345</td>\n",
              "      <td>546</td>\n",
              "      <td>3100.45</td>\n",
              "      <td>415.85</td>\n",
              "      <td>799.0</td>\n",
              "      <td>485.0</td>\n",
              "      <td>557.0</td>\n",
              "    </tr>\n",
              "    <tr>\n",
              "      <th>2011-02-01</th>\n",
              "      <td>362</td>\n",
              "      <td>595</td>\n",
              "      <td>3199.41</td>\n",
              "      <td>410.77</td>\n",
              "      <td>718.0</td>\n",
              "      <td>466.0</td>\n",
              "      <td>552.0</td>\n",
              "    </tr>\n",
              "    <tr>\n",
              "      <th>2011-03-01</th>\n",
              "      <td>376</td>\n",
              "      <td>636</td>\n",
              "      <td>3281.67</td>\n",
              "      <td>414.82</td>\n",
              "      <td>614.0</td>\n",
              "      <td>442.0</td>\n",
              "      <td>574.0</td>\n",
              "    </tr>\n",
              "    <tr>\n",
              "      <th>2011-04-01</th>\n",
              "      <td>383</td>\n",
              "      <td>738</td>\n",
              "      <td>3261.65</td>\n",
              "      <td>451.04</td>\n",
              "      <td>619.0</td>\n",
              "      <td>429.0</td>\n",
              "      <td>595.0</td>\n",
              "    </tr>\n",
              "  </tbody>\n",
              "</table>\n",
              "</div>\n",
              "      <button class=\"colab-df-convert\" onclick=\"convertToInteractive('df-4ccaca12-4598-4c8d-b6e9-d5e417482cbd')\"\n",
              "              title=\"Convert this dataframe to an interactive table.\"\n",
              "              style=\"display:none;\">\n",
              "        \n",
              "  <svg xmlns=\"http://www.w3.org/2000/svg\" height=\"24px\"viewBox=\"0 0 24 24\"\n",
              "       width=\"24px\">\n",
              "    <path d=\"M0 0h24v24H0V0z\" fill=\"none\"/>\n",
              "    <path d=\"M18.56 5.44l.94 2.06.94-2.06 2.06-.94-2.06-.94-.94-2.06-.94 2.06-2.06.94zm-11 1L8.5 8.5l.94-2.06 2.06-.94-2.06-.94L8.5 2.5l-.94 2.06-2.06.94zm10 10l.94 2.06.94-2.06 2.06-.94-2.06-.94-.94-2.06-.94 2.06-2.06.94z\"/><path d=\"M17.41 7.96l-1.37-1.37c-.4-.4-.92-.59-1.43-.59-.52 0-1.04.2-1.43.59L10.3 9.45l-7.72 7.72c-.78.78-.78 2.05 0 2.83L4 21.41c.39.39.9.59 1.41.59.51 0 1.02-.2 1.41-.59l7.78-7.78 2.81-2.81c.8-.78.8-2.07 0-2.86zM5.41 20L4 18.59l7.72-7.72 1.47 1.35L5.41 20z\"/>\n",
              "  </svg>\n",
              "      </button>\n",
              "      \n",
              "  <style>\n",
              "    .colab-df-container {\n",
              "      display:flex;\n",
              "      flex-wrap:wrap;\n",
              "      gap: 12px;\n",
              "    }\n",
              "\n",
              "    .colab-df-convert {\n",
              "      background-color: #E8F0FE;\n",
              "      border: none;\n",
              "      border-radius: 50%;\n",
              "      cursor: pointer;\n",
              "      display: none;\n",
              "      fill: #1967D2;\n",
              "      height: 32px;\n",
              "      padding: 0 0 0 0;\n",
              "      width: 32px;\n",
              "    }\n",
              "\n",
              "    .colab-df-convert:hover {\n",
              "      background-color: #E2EBFA;\n",
              "      box-shadow: 0px 1px 2px rgba(60, 64, 67, 0.3), 0px 1px 3px 1px rgba(60, 64, 67, 0.15);\n",
              "      fill: #174EA6;\n",
              "    }\n",
              "\n",
              "    [theme=dark] .colab-df-convert {\n",
              "      background-color: #3B4455;\n",
              "      fill: #D2E3FC;\n",
              "    }\n",
              "\n",
              "    [theme=dark] .colab-df-convert:hover {\n",
              "      background-color: #434B5C;\n",
              "      box-shadow: 0px 1px 3px 1px rgba(0, 0, 0, 0.15);\n",
              "      filter: drop-shadow(0px 1px 2px rgba(0, 0, 0, 0.3));\n",
              "      fill: #FFFFFF;\n",
              "    }\n",
              "  </style>\n",
              "\n",
              "      <script>\n",
              "        const buttonEl =\n",
              "          document.querySelector('#df-4ccaca12-4598-4c8d-b6e9-d5e417482cbd button.colab-df-convert');\n",
              "        buttonEl.style.display =\n",
              "          google.colab.kernel.accessAllowed ? 'block' : 'none';\n",
              "\n",
              "        async function convertToInteractive(key) {\n",
              "          const element = document.querySelector('#df-4ccaca12-4598-4c8d-b6e9-d5e417482cbd');\n",
              "          const dataTable =\n",
              "            await google.colab.kernel.invokeFunction('convertToInteractive',\n",
              "                                                     [key], {});\n",
              "          if (!dataTable) return;\n",
              "\n",
              "          const docLinkHtml = 'Like what you see? Visit the ' +\n",
              "            '<a target=\"_blank\" href=https://colab.research.google.com/notebooks/data_table.ipynb>data table notebook</a>'\n",
              "            + ' to learn more about interactive tables.';\n",
              "          element.innerHTML = '';\n",
              "          dataTable['output_type'] = 'display_data';\n",
              "          await google.colab.output.renderOutput(dataTable, element);\n",
              "          const docLink = document.createElement('div');\n",
              "          docLink.innerHTML = docLinkHtml;\n",
              "          element.appendChild(docLink);\n",
              "        }\n",
              "      </script>\n",
              "    </div>\n",
              "  </div>\n",
              "  "
            ]
          },
          "metadata": {},
          "execution_count": 8
        }
      ]
    },
    {
      "cell_type": "code",
      "source": [
        "# Plot an area chart\n",
        "plt.figure(figsize=(25,10))\n",
        "ax = df.plot.area(fontsize=12);\n",
        "\n",
        "# Additional customizations\n",
        "ax.set_xlabel('date');\n",
        "ax.legend(fontsize=12);"
      ],
      "metadata": {
        "colab": {
          "base_uri": "https://localhost:8080/",
          "height": 379
        },
        "id": "pnKg-SfY6j9g",
        "outputId": "a8419318-0e8b-4985-96f7-e4a6c1b96dd3"
      },
      "execution_count": 9,
      "outputs": [
        {
          "output_type": "display_data",
          "data": {
            "text/plain": [
              "<Figure size 1800x720 with 0 Axes>"
            ]
          },
          "metadata": {}
        },
        {
          "output_type": "display_data",
          "data": {
            "text/plain": [
              "<Figure size 720x360 with 1 Axes>"
            ],
            "image/png": "[encoded data removed]"
          },
          "metadata": {}
        }
      ]
    },
    {
      "cell_type": "markdown",
      "source": [
        "##**Multi-layer Perceptron Forecasting Technique (MLP)**"
      ],
      "metadata": {
        "id": "dPoGjuS366Cc"
      }
    },
    {
      "cell_type": "markdown",
      "source": [
        "###**Split Data into Train Test Segments**"
      ],
      "metadata": {
        "id": "vFpT6OrD7KRv"
      }
    },
    {
      "cell_type": "code",
      "source": [
        "train_size = int(len(df) * 0.8)\n",
        "test_size = len(df) - train_size\n",
        "train, test = df.iloc[0:train_size], df.iloc[train_size:len(df)]\n",
        "print('Train size:',len(train))\n",
        "print('Test size:', len(test))"
      ],
      "metadata": {
        "colab": {
          "base_uri": "https://localhost:8080/"
        },
        "id": "nYZL-9Sy3xpJ",
        "outputId": "d8b7ba54-c5f5-4fc8-9e42-296af8d9990a"
      },
      "execution_count": 10,
      "outputs": [
        {
          "output_type": "stream",
          "name": "stdout",
          "text": [
            "Train size: 99\n",
            "Test size: 25\n"
          ]
        }
      ]
    },
    {
      "cell_type": "code",
      "source": [
        "split_date = '2019-02'\n",
        "df_training = df.loc[df.index <= split_date]\n",
        "df_test = df.loc[df.index > split_date]\n",
        "print(f\"{len(df_training)} days of training data \\n {len(df_test)} days of testing data \")"
      ],
      "metadata": {
        "colab": {
          "base_uri": "https://localhost:8080/"
        },
        "id": "qKDDSdp_JVu6",
        "outputId": "f866f68c-8553-4254-86bd-36776f44d56c"
      },
      "execution_count": 11,
      "outputs": [
        {
          "output_type": "stream",
          "name": "stdout",
          "text": [
            "99 days of training data \n",
            " 25 days of testing data \n"
          ]
        }
      ]
    },
    {
      "cell_type": "code",
      "source": [
        "train, test = df.iloc[0:train_size], df.iloc[train_size:len(df)]\n",
        "print(len(train), len(test))"
      ],
      "metadata": {
        "colab": {
          "base_uri": "https://localhost:8080/"
        },
        "id": "DGrD2nxFmNSu",
        "outputId": "d8a4d8c1-3826-4ebb-fce6-75fb17d51de0"
      },
      "execution_count": 12,
      "outputs": [
        {
          "output_type": "stream",
          "name": "stdout",
          "text": [
            "99 25\n"
          ]
        }
      ]
    },
    {
      "cell_type": "code",
      "source": [
        "print(train.shape)\n",
        "train.head()"
      ],
      "metadata": {
        "colab": {
          "base_uri": "https://localhost:8080/",
          "height": 258
        },
        "id": "QvbHy-5RmPuI",
        "outputId": "2ea86d41-8573-49c4-ea30-89b3ecef5e77"
      },
      "execution_count": 13,
      "outputs": [
        {
          "output_type": "stream",
          "name": "stdout",
          "text": [
            "(99, 7)\n"
          ]
        },
        {
          "output_type": "execute_result",
          "data": {
            "text/plain": [
              "            cpo_pri  cno_pri  oli_pri  rps_pri  pno_pri  sbo_pri  sfo_pri\n",
              "date                                                                     \n",
              "2010-12-01      323      455  3102.61   423.45    844.0    468.0    578.0\n",
              "2011-01-01      345      546  3100.45   415.85    799.0    485.0    557.0\n",
              "2011-02-01      362      595  3199.41   410.77    718.0    466.0    552.0\n",
              "2011-03-01      376      636  3281.67   414.82    614.0    442.0    574.0\n",
              "2011-04-01      383      738  3261.65   451.04    619.0    429.0    595.0"
            ],
            "text/html": [
              "\n",
              "  <div id=\"df-ec97798f-848b-4803-a210-a4c29a643951\">\n",
              "    <div class=\"colab-df-container\">\n",
              "      <div>\n",
              "<style scoped>\n",
              "    .dataframe tbody tr th:only-of-type {\n",
              "        vertical-align: middle;\n",
              "    }\n",
              "\n",
              "    .dataframe tbody tr th {\n",
              "        vertical-align: top;\n",
              "    }\n",
              "\n",
              "    .dataframe thead th {\n",
              "        text-align: right;\n",
              "    }\n",
              "</style>\n",
              "<table border=\"1\" class=\"dataframe\">\n",
              "  <thead>\n",
              "    <tr style=\"text-align: right;\">\n",
              "      <th></th>\n",
              "      <th>cpo_pri</th>\n",
              "      <th>cno_pri</th>\n",
              "      <th>oli_pri</th>\n",
              "      <th>rps_pri</th>\n",
              "      <th>pno_pri</th>\n",
              "      <th>sbo_pri</th>\n",
              "      <th>sfo_pri</th>\n",
              "    </tr>\n",
              "    <tr>\n",
              "      <th>date</th>\n",
              "      <th></th>\n",
              "      <th></th>\n",
              "      <th></th>\n",
              "      <th></th>\n",
              "      <th></th>\n",
              "      <th></th>\n",
              "      <th></th>\n",
              "    </tr>\n",
              "  </thead>\n",
              "  <tbody>\n",
              "    <tr>\n",
              "      <th>2010-12-01</th>\n",
              "      <td>323</td>\n",
              "      <td>455</td>\n",
              "      <td>3102.61</td>\n",
              "      <td>423.45</td>\n",
              "      <td>844.0</td>\n",
              "      <td>468.0</td>\n",
              "      <td>578.0</td>\n",
              "    </tr>\n",
              "    <tr>\n",
              "      <th>2011-01-01</th>\n",
              "      <td>345</td>\n",
              "      <td>546</td>\n",
              "      <td>3100.45</td>\n",
              "      <td>415.85</td>\n",
              "      <td>799.0</td>\n",
              "      <td>485.0</td>\n",
              "      <td>557.0</td>\n",
              "    </tr>\n",
              "    <tr>\n",
              "      <th>2011-02-01</th>\n",
              "      <td>362</td>\n",
              "      <td>595</td>\n",
              "      <td>3199.41</td>\n",
              "      <td>410.77</td>\n",
              "      <td>718.0</td>\n",
              "      <td>466.0</td>\n",
              "      <td>552.0</td>\n",
              "    </tr>\n",
              "    <tr>\n",
              "      <th>2011-03-01</th>\n",
              "      <td>376</td>\n",
              "      <td>636</td>\n",
              "      <td>3281.67</td>\n",
              "      <td>414.82</td>\n",
              "      <td>614.0</td>\n",
              "      <td>442.0</td>\n",
              "      <td>574.0</td>\n",
              "    </tr>\n",
              "    <tr>\n",
              "      <th>2011-04-01</th>\n",
              "      <td>383</td>\n",
              "      <td>738</td>\n",
              "      <td>3261.65</td>\n",
              "      <td>451.04</td>\n",
              "      <td>619.0</td>\n",
              "      <td>429.0</td>\n",
              "      <td>595.0</td>\n",
              "    </tr>\n",
              "  </tbody>\n",
              "</table>\n",
              "</div>\n",
              "      <button class=\"colab-df-convert\" onclick=\"convertToInteractive('df-ec97798f-848b-4803-a210-a4c29a643951')\"\n",
              "              title=\"Convert this dataframe to an interactive table.\"\n",
              "              style=\"display:none;\">\n",
              "        \n",
              "  <svg xmlns=\"http://www.w3.org/2000/svg\" height=\"24px\"viewBox=\"0 0 24 24\"\n",
              "       width=\"24px\">\n",
              "    <path d=\"M0 0h24v24H0V0z\" fill=\"none\"/>\n",
              "    <path d=\"M18.56 5.44l.94 2.06.94-2.06 2.06-.94-2.06-.94-.94-2.06-.94 2.06-2.06.94zm-11 1L8.5 8.5l.94-2.06 2.06-.94-2.06-.94L8.5 2.5l-.94 2.06-2.06.94zm10 10l.94 2.06.94-2.06 2.06-.94-2.06-.94-.94-2.06-.94 2.06-2.06.94z\"/><path d=\"M17.41 7.96l-1.37-1.37c-.4-.4-.92-.59-1.43-.59-.52 0-1.04.2-1.43.59L10.3 9.45l-7.72 7.72c-.78.78-.78 2.05 0 2.83L4 21.41c.39.39.9.59 1.41.59.51 0 1.02-.2 1.41-.59l7.78-7.78 2.81-2.81c.8-.78.8-2.07 0-2.86zM5.41 20L4 18.59l7.72-7.72 1.47 1.35L5.41 20z\"/>\n",
              "  </svg>\n",
              "      </button>\n",
              "      \n",
              "  <style>\n",
              "    .colab-df-container {\n",
              "      display:flex;\n",
              "      flex-wrap:wrap;\n",
              "      gap: 12px;\n",
              "    }\n",
              "\n",
              "    .colab-df-convert {\n",
              "      background-color: #E8F0FE;\n",
              "      border: none;\n",
              "      border-radius: 50%;\n",
              "      cursor: pointer;\n",
              "      display: none;\n",
              "      fill: #1967D2;\n",
              "      height: 32px;\n",
              "      padding: 0 0 0 0;\n",
              "      width: 32px;\n",
              "    }\n",
              "\n",
              "    .colab-df-convert:hover {\n",
              "      background-color: #E2EBFA;\n",
              "      box-shadow: 0px 1px 2px rgba(60, 64, 67, 0.3), 0px 1px 3px 1px rgba(60, 64, 67, 0.15);\n",
              "      fill: #174EA6;\n",
              "    }\n",
              "\n",
              "    [theme=dark] .colab-df-convert {\n",
              "      background-color: #3B4455;\n",
              "      fill: #D2E3FC;\n",
              "    }\n",
              "\n",
              "    [theme=dark] .colab-df-convert:hover {\n",
              "      background-color: #434B5C;\n",
              "      box-shadow: 0px 1px 3px 1px rgba(0, 0, 0, 0.15);\n",
              "      filter: drop-shadow(0px 1px 2px rgba(0, 0, 0, 0.3));\n",
              "      fill: #FFFFFF;\n",
              "    }\n",
              "  </style>\n",
              "\n",
              "      <script>\n",
              "        const buttonEl =\n",
              "          document.querySelector('#df-ec97798f-848b-4803-a210-a4c29a643951 button.colab-df-convert');\n",
              "        buttonEl.style.display =\n",
              "          google.colab.kernel.accessAllowed ? 'block' : 'none';\n",
              "\n",
              "        async function convertToInteractive(key) {\n",
              "          const element = document.querySelector('#df-ec97798f-848b-4803-a210-a4c29a643951');\n",
              "          const dataTable =\n",
              "            await google.colab.kernel.invokeFunction('convertToInteractive',\n",
              "                                                     [key], {});\n",
              "          if (!dataTable) return;\n",
              "\n",
              "          const docLinkHtml = 'Like what you see? Visit the ' +\n",
              "            '<a target=\"_blank\" href=https://colab.research.google.com/notebooks/data_table.ipynb>data table notebook</a>'\n",
              "            + ' to learn more about interactive tables.';\n",
              "          element.innerHTML = '';\n",
              "          dataTable['output_type'] = 'display_data';\n",
              "          await google.colab.output.renderOutput(dataTable, element);\n",
              "          const docLink = document.createElement('div');\n",
              "          docLink.innerHTML = docLinkHtml;\n",
              "          element.appendChild(docLink);\n",
              "        }\n",
              "      </script>\n",
              "    </div>\n",
              "  </div>\n",
              "  "
            ]
          },
          "metadata": {},
          "execution_count": 13
        }
      ]
    },
    {
      "cell_type": "markdown",
      "source": [
        "###Rescaling Training Data"
      ],
      "metadata": {
        "id": "Z5F4OyT2mwRs"
      }
    },
    {
      "cell_type": "code",
      "source": [
        "f_transformer = MinMaxScaler()\n",
        "feature_columns = ['cno_pri', 'oli_pri', 'rps_pri', 'pno_pri', 'sbo_pri', 'sfo_pri']\n",
        "f_transformer = f_transformer.fit(train[feature_columns].to_numpy())\n",
        "train.loc[:, feature_columns] = f_transformer.transform(train[feature_columns].to_numpy())\n",
        "train.head()"
      ],
      "metadata": {
        "colab": {
          "base_uri": "https://localhost:8080/",
          "height": 240
        },
        "id": "Lg-AQuNBmvZK",
        "outputId": "ad79a596-56c3-4443-8576-c5b86b75db2d"
      },
      "execution_count": 14,
      "outputs": [
        {
          "output_type": "execute_result",
          "data": {
            "text/plain": [
              "            cpo_pri   cno_pri   oli_pri   rps_pri   pno_pri   sbo_pri  \\\n",
              "date                                                                    \n",
              "2010-12-01      323  0.112288  0.140918  0.010736  0.528090  0.253193   \n",
              "2011-01-01      345  0.305085  0.140327  0.004301  0.443820  0.306536   \n",
              "2011-02-01      362  0.408898  0.167408  0.000000  0.292135  0.246917   \n",
              "2011-03-01      376  0.495763  0.189919  0.003429  0.097378  0.171609   \n",
              "2011-04-01      383  0.711864  0.184440  0.034095  0.106742  0.130817   \n",
              "\n",
              "             sfo_pri  \n",
              "date                  \n",
              "2010-12-01  0.023302  \n",
              "2011-01-01  0.009321  \n",
              "2011-02-01  0.005992  \n",
              "2011-03-01  0.020639  \n",
              "2011-04-01  0.034621  "
            ],
            "text/html": [
              "\n",
              "  <div id=\"df-988ff870-c7b9-4108-b6c6-b87ab76b1dbe\">\n",
              "    <div class=\"colab-df-container\">\n",
              "      <div>\n",
              "<style scoped>\n",
              "    .dataframe tbody tr th:only-of-type {\n",
              "        vertical-align: middle;\n",
              "    }\n",
              "\n",
              "    .dataframe tbody tr th {\n",
              "        vertical-align: top;\n",
              "    }\n",
              "\n",
              "    .dataframe thead th {\n",
              "        text-align: right;\n",
              "    }\n",
              "</style>\n",
              "<table border=\"1\" class=\"dataframe\">\n",
              "  <thead>\n",
              "    <tr style=\"text-align: right;\">\n",
              "      <th></th>\n",
              "      <th>cpo_pri</th>\n",
              "      <th>cno_pri</th>\n",
              "      <th>oli_pri</th>\n",
              "      <th>rps_pri</th>\n",
              "      <th>pno_pri</th>\n",
              "      <th>sbo_pri</th>\n",
              "      <th>sfo_pri</th>\n",
              "    </tr>\n",
              "    <tr>\n",
              "      <th>date</th>\n",
              "      <th></th>\n",
              "      <th></th>\n",
              "      <th></th>\n",
              "      <th></th>\n",
              "      <th></th>\n",
              "      <th></th>\n",
              "      <th></th>\n",
              "    </tr>\n",
              "  </thead>\n",
              "  <tbody>\n",
              "    <tr>\n",
              "      <th>2010-12-01</th>\n",
              "      <td>323</td>\n",
              "      <td>0.112288</td>\n",
              "      <td>0.140918</td>\n",
              "      <td>0.010736</td>\n",
              "      <td>0.528090</td>\n",
              "      <td>0.253193</td>\n",
              "      <td>0.023302</td>\n",
              "    </tr>\n",
              "    <tr>\n",
              "      <th>2011-01-01</th>\n",
              "      <td>345</td>\n",
              "      <td>0.305085</td>\n",
              "      <td>0.140327</td>\n",
              "      <td>0.004301</td>\n",
              "      <td>0.443820</td>\n",
              "      <td>0.306536</td>\n",
              "      <td>0.009321</td>\n",
              "    </tr>\n",
              "    <tr>\n",
              "      <th>2011-02-01</th>\n",
              "      <td>362</td>\n",
              "      <td>0.408898</td>\n",
              "      <td>0.167408</td>\n",
              "      <td>0.000000</td>\n",
              "      <td>0.292135</td>\n",
              "      <td>0.246917</td>\n",
              "      <td>0.005992</td>\n",
              "    </tr>\n",
              "    <tr>\n",
              "      <th>2011-03-01</th>\n",
              "      <td>376</td>\n",
              "      <td>0.495763</td>\n",
              "      <td>0.189919</td>\n",
              "      <td>0.003429</td>\n",
              "      <td>0.097378</td>\n",
              "      <td>0.171609</td>\n",
              "      <td>0.020639</td>\n",
              "    </tr>\n",
              "    <tr>\n",
              "      <th>2011-04-01</th>\n",
              "      <td>383</td>\n",
              "      <td>0.711864</td>\n",
              "      <td>0.184440</td>\n",
              "      <td>0.034095</td>\n",
              "      <td>0.106742</td>\n",
              "      <td>0.130817</td>\n",
              "      <td>0.034621</td>\n",
              "    </tr>\n",
              "  </tbody>\n",
              "</table>\n",
              "</div>\n",
              "      <button class=\"colab-df-convert\" onclick=\"convertToInteractive('df-988ff870-c7b9-4108-b6c6-b87ab76b1dbe')\"\n",
              "              title=\"Convert this dataframe to an interactive table.\"\n",
              "              style=\"display:none;\">\n",
              "        \n",
              "  <svg xmlns=\"http://www.w3.org/2000/svg\" height=\"24px\"viewBox=\"0 0 24 24\"\n",
              "       width=\"24px\">\n",
              "    <path d=\"M0 0h24v24H0V0z\" fill=\"none\"/>\n",
              "    <path d=\"M18.56 5.44l.94 2.06.94-2.06 2.06-.94-2.06-.94-.94-2.06-.94 2.06-2.06.94zm-11 1L8.5 8.5l.94-2.06 2.06-.94-2.06-.94L8.5 2.5l-.94 2.06-2.06.94zm10 10l.94 2.06.94-2.06 2.06-.94-2.06-.94-.94-2.06-.94 2.06-2.06.94z\"/><path d=\"M17.41 7.96l-1.37-1.37c-.4-.4-.92-.59-1.43-.59-.52 0-1.04.2-1.43.59L10.3 9.45l-7.72 7.72c-.78.78-.78 2.05 0 2.83L4 21.41c.39.39.9.59 1.41.59.51 0 1.02-.2 1.41-.59l7.78-7.78 2.81-2.81c.8-.78.8-2.07 0-2.86zM5.41 20L4 18.59l7.72-7.72 1.47 1.35L5.41 20z\"/>\n",
              "  </svg>\n",
              "      </button>\n",
              "      \n",
              "  <style>\n",
              "    .colab-df-container {\n",
              "      display:flex;\n",
              "      flex-wrap:wrap;\n",
              "      gap: 12px;\n",
              "    }\n",
              "\n",
              "    .colab-df-convert {\n",
              "      background-color: #E8F0FE;\n",
              "      border: none;\n",
              "      border-radius: 50%;\n",
              "      cursor: pointer;\n",
              "      display: none;\n",
              "      fill: #1967D2;\n",
              "      height: 32px;\n",
              "      padding: 0 0 0 0;\n",
              "      width: 32px;\n",
              "    }\n",
              "\n",
              "    .colab-df-convert:hover {\n",
              "      background-color: #E2EBFA;\n",
              "      box-shadow: 0px 1px 2px rgba(60, 64, 67, 0.3), 0px 1px 3px 1px rgba(60, 64, 67, 0.15);\n",
              "      fill: #174EA6;\n",
              "    }\n",
              "\n",
              "    [theme=dark] .colab-df-convert {\n",
              "      background-color: #3B4455;\n",
              "      fill: #D2E3FC;\n",
              "    }\n",
              "\n",
              "    [theme=dark] .colab-df-convert:hover {\n",
              "      background-color: #434B5C;\n",
              "      box-shadow: 0px 1px 3px 1px rgba(0, 0, 0, 0.15);\n",
              "      filter: drop-shadow(0px 1px 2px rgba(0, 0, 0, 0.3));\n",
              "      fill: #FFFFFF;\n",
              "    }\n",
              "  </style>\n",
              "\n",
              "      <script>\n",
              "        const buttonEl =\n",
              "          document.querySelector('#df-988ff870-c7b9-4108-b6c6-b87ab76b1dbe button.colab-df-convert');\n",
              "        buttonEl.style.display =\n",
              "          google.colab.kernel.accessAllowed ? 'block' : 'none';\n",
              "\n",
              "        async function convertToInteractive(key) {\n",
              "          const element = document.querySelector('#df-988ff870-c7b9-4108-b6c6-b87ab76b1dbe');\n",
              "          const dataTable =\n",
              "            await google.colab.kernel.invokeFunction('convertToInteractive',\n",
              "                                                     [key], {});\n",
              "          if (!dataTable) return;\n",
              "\n",
              "          const docLinkHtml = 'Like what you see? Visit the ' +\n",
              "            '<a target=\"_blank\" href=https://colab.research.google.com/notebooks/data_table.ipynb>data table notebook</a>'\n",
              "            + ' to learn more about interactive tables.';\n",
              "          element.innerHTML = '';\n",
              "          dataTable['output_type'] = 'display_data';\n",
              "          await google.colab.output.renderOutput(dataTable, element);\n",
              "          const docLink = document.createElement('div');\n",
              "          docLink.innerHTML = docLinkHtml;\n",
              "          element.appendChild(docLink);\n",
              "        }\n",
              "      </script>\n",
              "    </div>\n",
              "  </div>\n",
              "  "
            ]
          },
          "metadata": {},
          "execution_count": 14
        }
      ]
    },
    {
      "cell_type": "code",
      "source": [
        "cpo_pri_transformer = MinMaxScaler()\n",
        "cpo_pri_transformer = cpo_pri_transformer.fit(train[['cpo_pri']])\n",
        "train['cpo_pri'] = cpo_pri_transformer.transform(train[['cpo_pri']])\n",
        "train['cpo_pri'].head()"
      ],
      "metadata": {
        "colab": {
          "base_uri": "https://localhost:8080/"
        },
        "id": "XNkE4gN9nJLt",
        "outputId": "3c6d8845-0795-475c-f1bc-09e11c477efb"
      },
      "execution_count": 15,
      "outputs": [
        {
          "output_type": "execute_result",
          "data": {
            "text/plain": [
              "date\n",
              "2010-12-01    0.0100\n",
              "2011-01-01    0.0650\n",
              "2011-02-01    0.1075\n",
              "2011-03-01    0.1425\n",
              "2011-04-01    0.1600\n",
              "Name: cpo_pri, dtype: float64"
            ]
          },
          "metadata": {},
          "execution_count": 15
        }
      ]
    },
    {
      "cell_type": "code",
      "source": [
        "test.loc[:, feature_columns] = f_transformer.transform(test[feature_columns].to_numpy())\n",
        "test.head()"
      ],
      "metadata": {
        "colab": {
          "base_uri": "https://localhost:8080/",
          "height": 240
        },
        "id": "aouQuJG5n6k8",
        "outputId": "d9b00007-3ea8-4f00-ecd3-3eefb00b6ce9"
      },
      "execution_count": 16,
      "outputs": [
        {
          "output_type": "execute_result",
          "data": {
            "text/plain": [
              "            cpo_pri   cno_pri   oli_pri   rps_pri   pno_pri   sbo_pri  \\\n",
              "date                                                                    \n",
              "2019-03-01      354  0.637712  0.194855  0.382454  0.381292 -0.039662   \n",
              "2019-04-01      348  0.533898  0.264388  0.393951  0.213633 -0.054975   \n",
              "2019-05-01      332  0.400424  0.246417  0.453802  0.235262 -0.092159   \n",
              "2019-06-01      349  0.317797  0.234308  0.509834  0.320749 -0.074743   \n",
              "2019-07-01      372  0.313559  0.223422  0.526454  0.426610 -0.066114   \n",
              "\n",
              "             sfo_pri  \n",
              "date                  \n",
              "2019-03-01  0.493342  \n",
              "2019-04-01  0.597870  \n",
              "2019-05-01  0.606525  \n",
              "2019-06-01  0.631824  \n",
              "2019-07-01  0.773462  "
            ],
            "text/html": [
              "\n",
              "  <div id=\"df-3270bba1-2ba8-469f-a6ce-659afc87a2ad\">\n",
              "    <div class=\"colab-df-container\">\n",
              "      <div>\n",
              "<style scoped>\n",
              "    .dataframe tbody tr th:only-of-type {\n",
              "        vertical-align: middle;\n",
              "    }\n",
              "\n",
              "    .dataframe tbody tr th {\n",
              "        vertical-align: top;\n",
              "    }\n",
              "\n",
              "    .dataframe thead th {\n",
              "        text-align: right;\n",
              "    }\n",
              "</style>\n",
              "<table border=\"1\" class=\"dataframe\">\n",
              "  <thead>\n",
              "    <tr style=\"text-align: right;\">\n",
              "      <th></th>\n",
              "      <th>cpo_pri</th>\n",
              "      <th>cno_pri</th>\n",
              "      <th>oli_pri</th>\n",
              "      <th>rps_pri</th>\n",
              "      <th>pno_pri</th>\n",
              "      <th>sbo_pri</th>\n",
              "      <th>sfo_pri</th>\n",
              "    </tr>\n",
              "    <tr>\n",
              "      <th>date</th>\n",
              "      <th></th>\n",
              "      <th></th>\n",
              "      <th></th>\n",
              "      <th></th>\n",
              "      <th></th>\n",
              "      <th></th>\n",
              "      <th></th>\n",
              "    </tr>\n",
              "  </thead>\n",
              "  <tbody>\n",
              "    <tr>\n",
              "      <th>2019-03-01</th>\n",
              "      <td>354</td>\n",
              "      <td>0.637712</td>\n",
              "      <td>0.194855</td>\n",
              "      <td>0.382454</td>\n",
              "      <td>0.381292</td>\n",
              "      <td>-0.039662</td>\n",
              "      <td>0.493342</td>\n",
              "    </tr>\n",
              "    <tr>\n",
              "      <th>2019-04-01</th>\n",
              "      <td>348</td>\n",
              "      <td>0.533898</td>\n",
              "      <td>0.264388</td>\n",
              "      <td>0.393951</td>\n",
              "      <td>0.213633</td>\n",
              "      <td>-0.054975</td>\n",
              "      <td>0.597870</td>\n",
              "    </tr>\n",
              "    <tr>\n",
              "      <th>2019-05-01</th>\n",
              "      <td>332</td>\n",
              "      <td>0.400424</td>\n",
              "      <td>0.246417</td>\n",
              "      <td>0.453802</td>\n",
              "      <td>0.235262</td>\n",
              "      <td>-0.092159</td>\n",
              "      <td>0.606525</td>\n",
              "    </tr>\n",
              "    <tr>\n",
              "      <th>2019-06-01</th>\n",
              "      <td>349</td>\n",
              "      <td>0.317797</td>\n",
              "      <td>0.234308</td>\n",
              "      <td>0.509834</td>\n",
              "      <td>0.320749</td>\n",
              "      <td>-0.074743</td>\n",
              "      <td>0.631824</td>\n",
              "    </tr>\n",
              "    <tr>\n",
              "      <th>2019-07-01</th>\n",
              "      <td>372</td>\n",
              "      <td>0.313559</td>\n",
              "      <td>0.223422</td>\n",
              "      <td>0.526454</td>\n",
              "      <td>0.426610</td>\n",
              "      <td>-0.066114</td>\n",
              "      <td>0.773462</td>\n",
              "    </tr>\n",
              "  </tbody>\n",
              "</table>\n",
              "</div>\n",
              "      <button class=\"colab-df-convert\" onclick=\"convertToInteractive('df-3270bba1-2ba8-469f-a6ce-659afc87a2ad')\"\n",
              "              title=\"Convert this dataframe to an interactive table.\"\n",
              "              style=\"display:none;\">\n",
              "        \n",
              "  <svg xmlns=\"http://www.w3.org/2000/svg\" height=\"24px\"viewBox=\"0 0 24 24\"\n",
              "       width=\"24px\">\n",
              "    <path d=\"M0 0h24v24H0V0z\" fill=\"none\"/>\n",
              "    <path d=\"M18.56 5.44l.94 2.06.94-2.06 2.06-.94-2.06-.94-.94-2.06-.94 2.06-2.06.94zm-11 1L8.5 8.5l.94-2.06 2.06-.94-2.06-.94L8.5 2.5l-.94 2.06-2.06.94zm10 10l.94 2.06.94-2.06 2.06-.94-2.06-.94-.94-2.06-.94 2.06-2.06.94z\"/><path d=\"M17.41 7.96l-1.37-1.37c-.4-.4-.92-.59-1.43-.59-.52 0-1.04.2-1.43.59L10.3 9.45l-7.72 7.72c-.78.78-.78 2.05 0 2.83L4 21.41c.39.39.9.59 1.41.59.51 0 1.02-.2 1.41-.59l7.78-7.78 2.81-2.81c.8-.78.8-2.07 0-2.86zM5.41 20L4 18.59l7.72-7.72 1.47 1.35L5.41 20z\"/>\n",
              "  </svg>\n",
              "      </button>\n",
              "      \n",
              "  <style>\n",
              "    .colab-df-container {\n",
              "      display:flex;\n",
              "      flex-wrap:wrap;\n",
              "      gap: 12px;\n",
              "    }\n",
              "\n",
              "    .colab-df-convert {\n",
              "      background-color: #E8F0FE;\n",
              "      border: none;\n",
              "      border-radius: 50%;\n",
              "      cursor: pointer;\n",
              "      display: none;\n",
              "      fill: #1967D2;\n",
              "      height: 32px;\n",
              "      padding: 0 0 0 0;\n",
              "      width: 32px;\n",
              "    }\n",
              "\n",
              "    .colab-df-convert:hover {\n",
              "      background-color: #E2EBFA;\n",
              "      box-shadow: 0px 1px 2px rgba(60, 64, 67, 0.3), 0px 1px 3px 1px rgba(60, 64, 67, 0.15);\n",
              "      fill: #174EA6;\n",
              "    }\n",
              "\n",
              "    [theme=dark] .colab-df-convert {\n",
              "      background-color: #3B4455;\n",
              "      fill: #D2E3FC;\n",
              "    }\n",
              "\n",
              "    [theme=dark] .colab-df-convert:hover {\n",
              "      background-color: #434B5C;\n",
              "      box-shadow: 0px 1px 3px 1px rgba(0, 0, 0, 0.15);\n",
              "      filter: drop-shadow(0px 1px 2px rgba(0, 0, 0, 0.3));\n",
              "      fill: #FFFFFF;\n",
              "    }\n",
              "  </style>\n",
              "\n",
              "      <script>\n",
              "        const buttonEl =\n",
              "          document.querySelector('#df-3270bba1-2ba8-469f-a6ce-659afc87a2ad button.colab-df-convert');\n",
              "        buttonEl.style.display =\n",
              "          google.colab.kernel.accessAllowed ? 'block' : 'none';\n",
              "\n",
              "        async function convertToInteractive(key) {\n",
              "          const element = document.querySelector('#df-3270bba1-2ba8-469f-a6ce-659afc87a2ad');\n",
              "          const dataTable =\n",
              "            await google.colab.kernel.invokeFunction('convertToInteractive',\n",
              "                                                     [key], {});\n",
              "          if (!dataTable) return;\n",
              "\n",
              "          const docLinkHtml = 'Like what you see? Visit the ' +\n",
              "            '<a target=\"_blank\" href=https://colab.research.google.com/notebooks/data_table.ipynb>data table notebook</a>'\n",
              "            + ' to learn more about interactive tables.';\n",
              "          element.innerHTML = '';\n",
              "          dataTable['output_type'] = 'display_data';\n",
              "          await google.colab.output.renderOutput(dataTable, element);\n",
              "          const docLink = document.createElement('div');\n",
              "          docLink.innerHTML = docLinkHtml;\n",
              "          element.appendChild(docLink);\n",
              "        }\n",
              "      </script>\n",
              "    </div>\n",
              "  </div>\n",
              "  "
            ]
          },
          "metadata": {},
          "execution_count": 16
        }
      ]
    },
    {
      "cell_type": "code",
      "source": [
        "test['cpo_pri'] = cpo_pri_transformer.transform(test[['cpo_pri']])\n",
        "test['cpo_pri'].head()"
      ],
      "metadata": {
        "colab": {
          "base_uri": "https://localhost:8080/"
        },
        "id": "GXgFSrz3n6o5",
        "outputId": "e36ced54-4031-47c6-8fe2-c5132b1bab14"
      },
      "execution_count": 17,
      "outputs": [
        {
          "output_type": "execute_result",
          "data": {
            "text/plain": [
              "date\n",
              "2019-03-01    0.0875\n",
              "2019-04-01    0.0725\n",
              "2019-05-01    0.0325\n",
              "2019-06-01    0.0750\n",
              "2019-07-01    0.1325\n",
              "Name: cpo_pri, dtype: float64"
            ]
          },
          "metadata": {},
          "execution_count": 17
        }
      ]
    },
    {
      "cell_type": "markdown",
      "source": [
        "###Create X_train, y_train, X_test and y_test"
      ],
      "metadata": {
        "id": "p_2s3AO-ohCD"
      }
    },
    {
      "cell_type": "code",
      "source": [
        "def createDataset(X, y, time_steps):\n",
        "    Xs, ys = [], []\n",
        "    for i in range(len(X) - time_steps):\n",
        "        data = X.iloc[i:(i + time_steps)].values\n",
        "        Xs.append(data)        \n",
        "        ys.append(y.iloc[i + time_steps])\n",
        "        \n",
        "    return np.array(Xs), np.array(ys)\n",
        "\n",
        "time_steps = 3\n",
        "X_train, y_train = createDataset(train, train.cpo_pri, time_steps)\n",
        "X_test, y_test = createDataset(test, test.cpo_pri, time_steps)\n",
        "print(X_train.shape, y_train.shape)"
      ],
      "metadata": {
        "colab": {
          "base_uri": "https://localhost:8080/"
        },
        "id": "fGTyTKiYoJIb",
        "outputId": "6767114c-4131-473c-9b1a-7dd8aac6c8cd"
      },
      "execution_count": 27,
      "outputs": [
        {
          "output_type": "stream",
          "name": "stdout",
          "text": [
            "(96, 3, 7) (96,)\n"
          ]
        }
      ]
    },
    {
      "cell_type": "code",
      "source": [
        "X_train_mlp = X_train[:, :, 0]\n",
        "X_test_mlp = X_test[:, :, 0]\n",
        "mlp_model = tf.keras.Sequential()\n",
        "mlp_model.add(tf.keras.layers.Dense(85, input_dim=X_train.shape[1], activation='relu'))\n",
        "mlp_model.add(tf.keras.layers.Dense(64, activation = 'relu'))\n",
        "mlp_model.add(tf.keras.layers.Dense(1))"
      ],
      "metadata": {
        "id": "j1pHIl40ZFE7"
      },
      "execution_count": 28,
      "outputs": []
    },
    {
      "cell_type": "code",
      "source": [
        "mlp_model.compile(loss='mse',metrics=['mse'], optimizer='adam')\n",
        "mlp_model\n",
        "\n",
        "# model training\n",
        "mlp_history = mlp_model.fit(\n",
        "    X_train_mlp, y_train, \n",
        "    epochs=100, \n",
        "    batch_size=32, \n",
        "    validation_split=0.1,\n",
        "    shuffle=False\n",
        ")\n",
        "\n",
        "# model evaluation\n",
        "mlp_model.evaluate(X_test_mlp, y_test)"
      ],
      "metadata": {
        "colab": {
          "base_uri": "https://localhost:8080/"
        },
        "id": "ZA7BhiZtZN9P",
        "outputId": "4b962316-bcb3-4248-ee4a-7a0d2cf1990f"
      },
      "execution_count": 29,
      "outputs": [
        {
          "output_type": "stream",
          "name": "stdout",
          "text": [
            "Epoch 1/100\n",
            "3/3 [==============================] - 2s 196ms/step - loss: 0.3618 - mse: 0.3618 - val_loss: 0.0778 - val_mse: 0.0778\n",
            "Epoch 2/100\n",
            "3/3 [==============================] - 0s 31ms/step - loss: 0.2118 - mse: 0.2118 - val_loss: 0.0316 - val_mse: 0.0316\n",
            "Epoch 3/100\n",
            "3/3 [==============================] - 0s 31ms/step - loss: 0.1065 - mse: 0.1065 - val_loss: 0.0146 - val_mse: 0.0146\n",
            "Epoch 4/100\n",
            "3/3 [==============================] - 0s 32ms/step - loss: 0.0424 - mse: 0.0424 - val_loss: 0.0227 - val_mse: 0.0227\n",
            "Epoch 5/100\n",
            "3/3 [==============================] - 0s 34ms/step - loss: 0.0136 - mse: 0.0136 - val_loss: 0.0488 - val_mse: 0.0488\n",
            "Epoch 6/100\n",
            "3/3 [==============================] - 0s 30ms/step - loss: 0.0125 - mse: 0.0125 - val_loss: 0.0794 - val_mse: 0.0794\n",
            "Epoch 7/100\n",
            "3/3 [==============================] - 0s 23ms/step - loss: 0.0234 - mse: 0.0234 - val_loss: 0.0981 - val_mse: 0.0981\n",
            "Epoch 8/100\n",
            "3/3 [==============================] - 0s 23ms/step - loss: 0.0299 - mse: 0.0299 - val_loss: 0.0997 - val_mse: 0.0997\n",
            "Epoch 9/100\n",
            "3/3 [==============================] - 0s 31ms/step - loss: 0.0277 - mse: 0.0277 - val_loss: 0.0889 - val_mse: 0.0889\n",
            "Epoch 10/100\n",
            "3/3 [==============================] - 0s 22ms/step - loss: 0.0209 - mse: 0.0209 - val_loss: 0.0732 - val_mse: 0.0732\n",
            "Epoch 11/100\n",
            "3/3 [==============================] - 0s 23ms/step - loss: 0.0145 - mse: 0.0145 - val_loss: 0.0576 - val_mse: 0.0576\n",
            "Epoch 12/100\n",
            "3/3 [==============================] - 0s 23ms/step - loss: 0.0108 - mse: 0.0108 - val_loss: 0.0453 - val_mse: 0.0453\n",
            "Epoch 13/100\n",
            "3/3 [==============================] - 0s 43ms/step - loss: 0.0100 - mse: 0.0100 - val_loss: 0.0373 - val_mse: 0.0373\n",
            "Epoch 14/100\n",
            "3/3 [==============================] - 0s 23ms/step - loss: 0.0106 - mse: 0.0106 - val_loss: 0.0332 - val_mse: 0.0332\n",
            "Epoch 15/100\n",
            "3/3 [==============================] - 0s 16ms/step - loss: 0.0109 - mse: 0.0109 - val_loss: 0.0319 - val_mse: 0.0319\n",
            "Epoch 16/100\n",
            "3/3 [==============================] - 0s 16ms/step - loss: 0.0106 - mse: 0.0106 - val_loss: 0.0328 - val_mse: 0.0328\n",
            "Epoch 17/100\n",
            "3/3 [==============================] - 0s 16ms/step - loss: 0.0098 - mse: 0.0098 - val_loss: 0.0351 - val_mse: 0.0351\n",
            "Epoch 18/100\n",
            "3/3 [==============================] - 0s 20ms/step - loss: 0.0090 - mse: 0.0090 - val_loss: 0.0381 - val_mse: 0.0381\n",
            "Epoch 19/100\n",
            "3/3 [==============================] - 0s 16ms/step - loss: 0.0086 - mse: 0.0086 - val_loss: 0.0408 - val_mse: 0.0408\n",
            "Epoch 20/100\n",
            "3/3 [==============================] - 0s 17ms/step - loss: 0.0085 - mse: 0.0085 - val_loss: 0.0424 - val_mse: 0.0424\n",
            "Epoch 21/100\n",
            "3/3 [==============================] - 0s 19ms/step - loss: 0.0084 - mse: 0.0084 - val_loss: 0.0422 - val_mse: 0.0422\n",
            "Epoch 22/100\n",
            "3/3 [==============================] - 0s 16ms/step - loss: 0.0082 - mse: 0.0082 - val_loss: 0.0401 - val_mse: 0.0401\n",
            "Epoch 23/100\n",
            "3/3 [==============================] - 0s 20ms/step - loss: 0.0078 - mse: 0.0078 - val_loss: 0.0371 - val_mse: 0.0371\n",
            "Epoch 24/100\n",
            "3/3 [==============================] - 0s 17ms/step - loss: 0.0076 - mse: 0.0076 - val_loss: 0.0349 - val_mse: 0.0349\n",
            "Epoch 25/100\n",
            "3/3 [==============================] - 0s 19ms/step - loss: 0.0075 - mse: 0.0075 - val_loss: 0.0343 - val_mse: 0.0343\n",
            "Epoch 26/100\n",
            "3/3 [==============================] - 0s 17ms/step - loss: 0.0073 - mse: 0.0073 - val_loss: 0.0347 - val_mse: 0.0347\n",
            "Epoch 27/100\n",
            "3/3 [==============================] - 0s 16ms/step - loss: 0.0072 - mse: 0.0072 - val_loss: 0.0350 - val_mse: 0.0350\n",
            "Epoch 28/100\n",
            "3/3 [==============================] - 0s 16ms/step - loss: 0.0071 - mse: 0.0071 - val_loss: 0.0342 - val_mse: 0.0342\n",
            "Epoch 29/100\n",
            "3/3 [==============================] - 0s 16ms/step - loss: 0.0069 - mse: 0.0069 - val_loss: 0.0321 - val_mse: 0.0321\n",
            "Epoch 30/100\n",
            "3/3 [==============================] - 0s 17ms/step - loss: 0.0068 - mse: 0.0068 - val_loss: 0.0303 - val_mse: 0.0303\n",
            "Epoch 31/100\n",
            "3/3 [==============================] - 0s 17ms/step - loss: 0.0066 - mse: 0.0066 - val_loss: 0.0299 - val_mse: 0.0299\n",
            "Epoch 32/100\n",
            "3/3 [==============================] - 0s 17ms/step - loss: 0.0065 - mse: 0.0065 - val_loss: 0.0301 - val_mse: 0.0301\n",
            "Epoch 33/100\n",
            "3/3 [==============================] - 0s 17ms/step - loss: 0.0064 - mse: 0.0064 - val_loss: 0.0297 - val_mse: 0.0297\n",
            "Epoch 34/100\n",
            "3/3 [==============================] - 0s 16ms/step - loss: 0.0063 - mse: 0.0063 - val_loss: 0.0284 - val_mse: 0.0284\n",
            "Epoch 35/100\n",
            "3/3 [==============================] - 0s 16ms/step - loss: 0.0061 - mse: 0.0061 - val_loss: 0.0273 - val_mse: 0.0273\n",
            "Epoch 36/100\n",
            "3/3 [==============================] - 0s 16ms/step - loss: 0.0059 - mse: 0.0059 - val_loss: 0.0268 - val_mse: 0.0268\n",
            "Epoch 37/100\n",
            "3/3 [==============================] - 0s 15ms/step - loss: 0.0058 - mse: 0.0058 - val_loss: 0.0262 - val_mse: 0.0262\n",
            "Epoch 38/100\n",
            "3/3 [==============================] - 0s 16ms/step - loss: 0.0056 - mse: 0.0056 - val_loss: 0.0249 - val_mse: 0.0249\n",
            "Epoch 39/100\n",
            "3/3 [==============================] - 0s 16ms/step - loss: 0.0055 - mse: 0.0055 - val_loss: 0.0235 - val_mse: 0.0235\n",
            "Epoch 40/100\n",
            "3/3 [==============================] - 0s 20ms/step - loss: 0.0054 - mse: 0.0054 - val_loss: 0.0230 - val_mse: 0.0230\n",
            "Epoch 41/100\n",
            "3/3 [==============================] - 0s 16ms/step - loss: 0.0053 - mse: 0.0053 - val_loss: 0.0226 - val_mse: 0.0226\n",
            "Epoch 42/100\n",
            "3/3 [==============================] - 0s 16ms/step - loss: 0.0053 - mse: 0.0053 - val_loss: 0.0216 - val_mse: 0.0216\n",
            "Epoch 43/100\n",
            "3/3 [==============================] - 0s 16ms/step - loss: 0.0052 - mse: 0.0052 - val_loss: 0.0207 - val_mse: 0.0207\n",
            "Epoch 44/100\n",
            "3/3 [==============================] - 0s 18ms/step - loss: 0.0051 - mse: 0.0051 - val_loss: 0.0204 - val_mse: 0.0204\n",
            "Epoch 45/100\n",
            "3/3 [==============================] - 0s 18ms/step - loss: 0.0050 - mse: 0.0050 - val_loss: 0.0199 - val_mse: 0.0199\n",
            "Epoch 46/100\n",
            "3/3 [==============================] - 0s 19ms/step - loss: 0.0050 - mse: 0.0050 - val_loss: 0.0191 - val_mse: 0.0191\n",
            "Epoch 47/100\n",
            "3/3 [==============================] - 0s 17ms/step - loss: 0.0049 - mse: 0.0049 - val_loss: 0.0188 - val_mse: 0.0188\n",
            "Epoch 48/100\n",
            "3/3 [==============================] - 0s 16ms/step - loss: 0.0049 - mse: 0.0049 - val_loss: 0.0185 - val_mse: 0.0185\n",
            "Epoch 49/100\n",
            "3/3 [==============================] - 0s 17ms/step - loss: 0.0049 - mse: 0.0049 - val_loss: 0.0179 - val_mse: 0.0179\n",
            "Epoch 50/100\n",
            "3/3 [==============================] - 0s 23ms/step - loss: 0.0048 - mse: 0.0048 - val_loss: 0.0177 - val_mse: 0.0177\n",
            "Epoch 51/100\n",
            "3/3 [==============================] - 0s 16ms/step - loss: 0.0048 - mse: 0.0048 - val_loss: 0.0175 - val_mse: 0.0175\n",
            "Epoch 52/100\n",
            "3/3 [==============================] - 0s 16ms/step - loss: 0.0048 - mse: 0.0048 - val_loss: 0.0171 - val_mse: 0.0171\n",
            "Epoch 53/100\n",
            "3/3 [==============================] - 0s 25ms/step - loss: 0.0048 - mse: 0.0048 - val_loss: 0.0168 - val_mse: 0.0168\n",
            "Epoch 54/100\n",
            "3/3 [==============================] - 0s 26ms/step - loss: 0.0048 - mse: 0.0048 - val_loss: 0.0167 - val_mse: 0.0167\n",
            "Epoch 55/100\n",
            "3/3 [==============================] - 0s 17ms/step - loss: 0.0047 - mse: 0.0047 - val_loss: 0.0165 - val_mse: 0.0165\n",
            "Epoch 56/100\n",
            "3/3 [==============================] - 0s 17ms/step - loss: 0.0047 - mse: 0.0047 - val_loss: 0.0163 - val_mse: 0.0163\n",
            "Epoch 57/100\n",
            "3/3 [==============================] - 0s 16ms/step - loss: 0.0047 - mse: 0.0047 - val_loss: 0.0162 - val_mse: 0.0162\n",
            "Epoch 58/100\n",
            "3/3 [==============================] - 0s 20ms/step - loss: 0.0047 - mse: 0.0047 - val_loss: 0.0160 - val_mse: 0.0160\n",
            "Epoch 59/100\n",
            "3/3 [==============================] - 0s 25ms/step - loss: 0.0047 - mse: 0.0047 - val_loss: 0.0159 - val_mse: 0.0159\n",
            "Epoch 60/100\n",
            "3/3 [==============================] - 0s 20ms/step - loss: 0.0047 - mse: 0.0047 - val_loss: 0.0158 - val_mse: 0.0158\n",
            "Epoch 61/100\n",
            "3/3 [==============================] - 0s 17ms/step - loss: 0.0047 - mse: 0.0047 - val_loss: 0.0157 - val_mse: 0.0157\n",
            "Epoch 62/100\n",
            "3/3 [==============================] - 0s 17ms/step - loss: 0.0047 - mse: 0.0047 - val_loss: 0.0156 - val_mse: 0.0156\n",
            "Epoch 63/100\n",
            "3/3 [==============================] - 0s 16ms/step - loss: 0.0047 - mse: 0.0047 - val_loss: 0.0155 - val_mse: 0.0155\n",
            "Epoch 64/100\n",
            "3/3 [==============================] - 0s 16ms/step - loss: 0.0047 - mse: 0.0047 - val_loss: 0.0155 - val_mse: 0.0155\n",
            "Epoch 65/100\n",
            "3/3 [==============================] - 0s 17ms/step - loss: 0.0046 - mse: 0.0046 - val_loss: 0.0154 - val_mse: 0.0154\n",
            "Epoch 66/100\n",
            "3/3 [==============================] - 0s 16ms/step - loss: 0.0046 - mse: 0.0046 - val_loss: 0.0154 - val_mse: 0.0154\n",
            "Epoch 67/100\n",
            "3/3 [==============================] - 0s 18ms/step - loss: 0.0046 - mse: 0.0046 - val_loss: 0.0153 - val_mse: 0.0153\n",
            "Epoch 68/100\n",
            "3/3 [==============================] - 0s 16ms/step - loss: 0.0046 - mse: 0.0046 - val_loss: 0.0152 - val_mse: 0.0152\n",
            "Epoch 69/100\n",
            "3/3 [==============================] - 0s 17ms/step - loss: 0.0046 - mse: 0.0046 - val_loss: 0.0152 - val_mse: 0.0152\n",
            "Epoch 70/100\n",
            "3/3 [==============================] - 0s 18ms/step - loss: 0.0046 - mse: 0.0046 - val_loss: 0.0152 - val_mse: 0.0152\n",
            "Epoch 71/100\n",
            "3/3 [==============================] - 0s 17ms/step - loss: 0.0046 - mse: 0.0046 - val_loss: 0.0152 - val_mse: 0.0152\n",
            "Epoch 72/100\n",
            "3/3 [==============================] - 0s 16ms/step - loss: 0.0046 - mse: 0.0046 - val_loss: 0.0152 - val_mse: 0.0152\n",
            "Epoch 73/100\n",
            "3/3 [==============================] - 0s 17ms/step - loss: 0.0046 - mse: 0.0046 - val_loss: 0.0151 - val_mse: 0.0151\n",
            "Epoch 74/100\n",
            "3/3 [==============================] - 0s 17ms/step - loss: 0.0046 - mse: 0.0046 - val_loss: 0.0151 - val_mse: 0.0151\n",
            "Epoch 75/100\n",
            "3/3 [==============================] - 0s 16ms/step - loss: 0.0046 - mse: 0.0046 - val_loss: 0.0151 - val_mse: 0.0151\n",
            "Epoch 76/100\n",
            "3/3 [==============================] - 0s 17ms/step - loss: 0.0046 - mse: 0.0046 - val_loss: 0.0151 - val_mse: 0.0151\n",
            "Epoch 77/100\n",
            "3/3 [==============================] - 0s 18ms/step - loss: 0.0046 - mse: 0.0046 - val_loss: 0.0151 - val_mse: 0.0151\n",
            "Epoch 78/100\n",
            "3/3 [==============================] - 0s 20ms/step - loss: 0.0046 - mse: 0.0046 - val_loss: 0.0150 - val_mse: 0.0150\n",
            "Epoch 79/100\n",
            "3/3 [==============================] - 0s 16ms/step - loss: 0.0046 - mse: 0.0046 - val_loss: 0.0150 - val_mse: 0.0150\n",
            "Epoch 80/100\n",
            "3/3 [==============================] - 0s 17ms/step - loss: 0.0046 - mse: 0.0046 - val_loss: 0.0150 - val_mse: 0.0150\n",
            "Epoch 81/100\n",
            "3/3 [==============================] - 0s 17ms/step - loss: 0.0046 - mse: 0.0046 - val_loss: 0.0150 - val_mse: 0.0150\n",
            "Epoch 82/100\n",
            "3/3 [==============================] - 0s 28ms/step - loss: 0.0046 - mse: 0.0046 - val_loss: 0.0150 - val_mse: 0.0150\n",
            "Epoch 83/100\n",
            "3/3 [==============================] - 0s 17ms/step - loss: 0.0046 - mse: 0.0046 - val_loss: 0.0150 - val_mse: 0.0150\n",
            "Epoch 84/100\n",
            "3/3 [==============================] - 0s 16ms/step - loss: 0.0046 - mse: 0.0046 - val_loss: 0.0150 - val_mse: 0.0150\n",
            "Epoch 85/100\n",
            "3/3 [==============================] - 0s 17ms/step - loss: 0.0046 - mse: 0.0046 - val_loss: 0.0150 - val_mse: 0.0150\n",
            "Epoch 86/100\n",
            "3/3 [==============================] - 0s 16ms/step - loss: 0.0046 - mse: 0.0046 - val_loss: 0.0150 - val_mse: 0.0150\n",
            "Epoch 87/100\n",
            "3/3 [==============================] - 0s 21ms/step - loss: 0.0046 - mse: 0.0046 - val_loss: 0.0150 - val_mse: 0.0150\n",
            "Epoch 88/100\n",
            "3/3 [==============================] - 0s 17ms/step - loss: 0.0046 - mse: 0.0046 - val_loss: 0.0150 - val_mse: 0.0150\n",
            "Epoch 89/100\n",
            "3/3 [==============================] - 0s 16ms/step - loss: 0.0046 - mse: 0.0046 - val_loss: 0.0150 - val_mse: 0.0150\n",
            "Epoch 90/100\n",
            "3/3 [==============================] - 0s 17ms/step - loss: 0.0046 - mse: 0.0046 - val_loss: 0.0150 - val_mse: 0.0150\n",
            "Epoch 91/100\n",
            "3/3 [==============================] - 0s 17ms/step - loss: 0.0046 - mse: 0.0046 - val_loss: 0.0149 - val_mse: 0.0149\n",
            "Epoch 92/100\n",
            "3/3 [==============================] - 0s 17ms/step - loss: 0.0046 - mse: 0.0046 - val_loss: 0.0150 - val_mse: 0.0150\n",
            "Epoch 93/100\n",
            "3/3 [==============================] - 0s 17ms/step - loss: 0.0046 - mse: 0.0046 - val_loss: 0.0150 - val_mse: 0.0150\n",
            "Epoch 94/100\n",
            "3/3 [==============================] - 0s 16ms/step - loss: 0.0046 - mse: 0.0046 - val_loss: 0.0149 - val_mse: 0.0149\n",
            "Epoch 95/100\n",
            "3/3 [==============================] - 0s 17ms/step - loss: 0.0046 - mse: 0.0046 - val_loss: 0.0149 - val_mse: 0.0149\n",
            "Epoch 96/100\n",
            "3/3 [==============================] - 0s 22ms/step - loss: 0.0046 - mse: 0.0046 - val_loss: 0.0150 - val_mse: 0.0150\n",
            "Epoch 97/100\n",
            "3/3 [==============================] - 0s 16ms/step - loss: 0.0046 - mse: 0.0046 - val_loss: 0.0149 - val_mse: 0.0149\n",
            "Epoch 98/100\n",
            "3/3 [==============================] - 0s 17ms/step - loss: 0.0046 - mse: 0.0046 - val_loss: 0.0149 - val_mse: 0.0149\n",
            "Epoch 99/100\n",
            "3/3 [==============================] - 0s 17ms/step - loss: 0.0046 - mse: 0.0046 - val_loss: 0.0149 - val_mse: 0.0149\n",
            "Epoch 100/100\n",
            "3/3 [==============================] - 0s 17ms/step - loss: 0.0046 - mse: 0.0046 - val_loss: 0.0149 - val_mse: 0.0149\n",
            "1/1 [==============================] - 0s 28ms/step - loss: 0.0201 - mse: 0.0201\n"
          ]
        },
        {
          "output_type": "execute_result",
          "data": {
            "text/plain": [
              "[0.020143277943134308, 0.020143277943134308]"
            ]
          },
          "metadata": {},
          "execution_count": 29
        }
      ]
    },
    {
      "cell_type": "code",
      "source": [
        "print(mlp_history.history.keys())\n",
        "plt.plot(mlp_history.history['loss'])\n",
        "plt.plot(mlp_history.history['val_loss'])\n",
        "plt.title('model loss')\n",
        "plt.ylabel('loss')\n",
        "plt.xlabel('epoch')\n",
        "plt.legend(['train', 'validation'], loc='upper left')\n",
        "plt.show()"
      ],
      "metadata": {
        "id": "EkQPUIAQOvX9",
        "outputId": "4d9a3e62-7dc4-4690-9c01-d553319d3fb6",
        "colab": {
          "base_uri": "https://localhost:8080/",
          "height": 401
        }
      },
      "execution_count": 30,
      "outputs": [
        {
          "output_type": "stream",
          "name": "stdout",
          "text": [
            "dict_keys(['loss', 'mse', 'val_loss', 'val_mse'])\n"
          ]
        },
        {
          "output_type": "display_data",
          "data": {
            "text/plain": [
              "<Figure size 720x360 with 1 Axes>"
            ],
            "image/png": "[encoded data removed]"
          },
          "metadata": {}
        }
      ]
    },
    {
      "cell_type": "code",
      "source": [
        "mse_mlp = mlp_model.evaluate(X_test_mlp, y_test)"
      ],
      "metadata": {
        "colab": {
          "base_uri": "https://localhost:8080/"
        },
        "id": "ImssP1C-YLO6",
        "outputId": "3c3f9b11-d25b-4288-a9b7-9aacfece7832"
      },
      "execution_count": 31,
      "outputs": [
        {
          "output_type": "stream",
          "name": "stdout",
          "text": [
            "1/1 [==============================] - 0s 25ms/step - loss: 0.0201 - mse: 0.0201\n"
          ]
        }
      ]
    },
    {
      "cell_type": "markdown",
      "source": [
        "Baseline MSE = 0.0201"
      ],
      "metadata": {
        "id": "9zvQ7itTokLh"
      }
    },
    {
      "cell_type": "code",
      "source": [
        "mlp_model.summary()"
      ],
      "metadata": {
        "colab": {
          "base_uri": "https://localhost:8080/"
        },
        "id": "A8XbxYQeiCoj",
        "outputId": "4eb1d773-a771-4996-cbf0-6c0b69e8bebc"
      },
      "execution_count": 32,
      "outputs": [
        {
          "output_type": "stream",
          "name": "stdout",
          "text": [
            "Model: \"sequential_2\"\n",
            "_________________________________________________________________\n",
            " Layer (type)                Output Shape              Param #   \n",
            "=================================================================\n",
            " dense_6 (Dense)             (None, 85)                340       \n",
            "                                                                 \n",
            " dense_7 (Dense)             (None, 64)                5504      \n",
            "                                                                 \n",
            " dense_8 (Dense)             (None, 1)                 65        \n",
            "                                                                 \n",
            "=================================================================\n",
            "Total params: 5,909\n",
            "Trainable params: 5,909\n",
            "Non-trainable params: 0\n",
            "_________________________________________________________________\n"
          ]
        }
      ]
    },
    {
      "cell_type": "markdown",
      "source": [
        "###Predict the Test without Hyperparameter Tuning"
      ],
      "metadata": {
        "id": "sL0yhTxOpQDx"
      }
    },
    {
      "cell_type": "code",
      "source": [
        "y_pred = mlp_model.predict(X_test_mlp)\n",
        "y_pred"
      ],
      "metadata": {
        "colab": {
          "base_uri": "https://localhost:8080/"
        },
        "id": "VVUKy0PVoxoD",
        "outputId": "4686ddae-ec6b-4240-be5b-ed5b4e227022"
      },
      "execution_count": 33,
      "outputs": [
        {
          "output_type": "stream",
          "name": "stdout",
          "text": [
            "1/1 [==============================] - 0s 79ms/step\n"
          ]
        },
        {
          "output_type": "execute_result",
          "data": {
            "text/plain": [
              "array([[ 0.05506507],\n",
              "       [ 0.10693558],\n",
              "       [ 0.15263079],\n",
              "       [ 0.02604022],\n",
              "       [ 0.02698061],\n",
              "       [ 0.02282983],\n",
              "       [ 0.01438005],\n",
              "       [ 0.0008309 ],\n",
              "       [-0.01491748],\n",
              "       [ 0.04113096],\n",
              "       [ 0.05446173],\n",
              "       [ 0.03484177],\n",
              "       [ 0.03193814],\n",
              "       [ 0.06638189],\n",
              "       [ 0.04638808],\n",
              "       [ 0.03307782],\n",
              "       [ 0.074045  ],\n",
              "       [ 0.11569221],\n",
              "       [ 0.11050653],\n",
              "       [-0.00454815],\n",
              "       [-0.02794061],\n",
              "       [ 0.07646514]], dtype=float32)"
            ]
          },
          "metadata": {},
          "execution_count": 33
        }
      ]
    },
    {
      "cell_type": "code",
      "source": [
        "y_pred.reshape(1,-1)"
      ],
      "metadata": {
        "colab": {
          "base_uri": "https://localhost:8080/"
        },
        "id": "hwPNWceFoxvZ",
        "outputId": "6e3d4962-616c-477e-a6eb-48ec678e20f1"
      },
      "execution_count": 34,
      "outputs": [
        {
          "output_type": "execute_result",
          "data": {
            "text/plain": [
              "array([[ 0.05506507,  0.10693558,  0.15263079,  0.02604022,  0.02698061,\n",
              "         0.02282983,  0.01438005,  0.0008309 , -0.01491748,  0.04113096,\n",
              "         0.05446173,  0.03484177,  0.03193814,  0.06638189,  0.04638808,\n",
              "         0.03307782,  0.074045  ,  0.11569221,  0.11050653, -0.00454815,\n",
              "        -0.02794061,  0.07646514]], dtype=float32)"
            ]
          },
          "metadata": {},
          "execution_count": 34
        }
      ]
    },
    {
      "cell_type": "markdown",
      "source": [
        "###Invert Transformed Data"
      ],
      "metadata": {
        "id": "SzXCbMs_pqsX"
      }
    },
    {
      "cell_type": "code",
      "source": [
        "y_train_inv = cpo_pri_transformer.inverse_transform(y_train.reshape(1, -1))\n",
        "y_test_inv = cpo_pri_transformer.inverse_transform(y_test.reshape(1, -1))\n",
        "y_pred_inv = cpo_pri_transformer.inverse_transform(y_pred.reshape(1,-1))\n",
        "print(y_train_inv)\n",
        "print(y_test_inv)\n",
        "print(y_pred_inv)"
      ],
      "metadata": {
        "colab": {
          "base_uri": "https://localhost:8080/"
        },
        "id": "iQCmZG07pmfY",
        "outputId": "b13efb64-1c32-4aa3-a765-70f6ce9d3c53"
      },
      "execution_count": 35,
      "outputs": [
        {
          "output_type": "stream",
          "name": "stdout",
          "text": [
            "[[376. 383. 382. 396. 402. 390. 404. 382. 382. 391. 396. 413. 401. 410.\n",
            "  425. 408. 392. 371. 356. 362. 356. 352. 333. 357. 411. 404. 387. 395.\n",
            "  434. 488. 508. 494. 575. 614. 616. 707. 719. 655. 661. 687. 625. 611.\n",
            "  631. 655. 616. 586. 615. 607. 590. 535. 518. 519. 562. 552. 508. 476.\n",
            "  513. 545. 532. 550. 561. 567. 580. 559. 562. 553. 533. 498. 504. 525.\n",
            "  547. 556. 566. 621. 659. 671. 688. 705. 633. 661. 674. 703. 694. 681.\n",
            "  663. 632. 561. 497. 509. 475. 392. 319. 354. 388. 381. 370.]]\n",
            "[[349. 372. 324. 315. 312. 306. 288. 255. 257. 265. 254. 240. 254. 251.\n",
            "  234. 255. 330. 362. 310. 277. 323. 360.]]\n",
            "[[341.02603 361.77423 380.05234 329.41608 329.79224 328.13193 324.752\n",
            "  319.33237 313.03302 335.4524  340.7847  332.9367  331.77527 345.55276\n",
            "  337.55524 332.23114 348.618   365.2769  363.2026  317.18073 307.82376\n",
            "  349.58606]]\n"
          ]
        }
      ]
    },
    {
      "cell_type": "markdown",
      "source": [
        "###Plot History, Actual and Predicted Value"
      ],
      "metadata": {
        "id": "SXOkiqFYqJaq"
      }
    },
    {
      "cell_type": "code",
      "source": [
        "y_train_inv = y_train_inv.flatten()\n",
        "y_train_inv"
      ],
      "metadata": {
        "colab": {
          "base_uri": "https://localhost:8080/"
        },
        "id": "FMzl80nEpmml",
        "outputId": "eeb21c03-85cb-4a65-f4f8-05ecb273ac2e"
      },
      "execution_count": 36,
      "outputs": [
        {
          "output_type": "execute_result",
          "data": {
            "text/plain": [
              "array([376., 383., 382., 396., 402., 390., 404., 382., 382., 391., 396.,\n",
              "       413., 401., 410., 425., 408., 392., 371., 356., 362., 356., 352.,\n",
              "       333., 357., 411., 404., 387., 395., 434., 488., 508., 494., 575.,\n",
              "       614., 616., 707., 719., 655., 661., 687., 625., 611., 631., 655.,\n",
              "       616., 586., 615., 607., 590., 535., 518., 519., 562., 552., 508.,\n",
              "       476., 513., 545., 532., 550., 561., 567., 580., 559., 562., 553.,\n",
              "       533., 498., 504., 525., 547., 556., 566., 621., 659., 671., 688.,\n",
              "       705., 633., 661., 674., 703., 694., 681., 663., 632., 561., 497.,\n",
              "       509., 475., 392., 319., 354., 388., 381., 370.])"
            ]
          },
          "metadata": {},
          "execution_count": 36
        }
      ]
    },
    {
      "cell_type": "code",
      "source": [
        "y_test_inv = y_test_inv.flatten()\n",
        "y_test_inv"
      ],
      "metadata": {
        "colab": {
          "base_uri": "https://localhost:8080/"
        },
        "id": "terz87GDp0C6",
        "outputId": "a133892d-85d0-43c0-f91e-0fa2b2c64e88"
      },
      "execution_count": 37,
      "outputs": [
        {
          "output_type": "execute_result",
          "data": {
            "text/plain": [
              "array([349., 372., 324., 315., 312., 306., 288., 255., 257., 265., 254.,\n",
              "       240., 254., 251., 234., 255., 330., 362., 310., 277., 323., 360.])"
            ]
          },
          "metadata": {},
          "execution_count": 37
        }
      ]
    },
    {
      "cell_type": "code",
      "source": [
        "y_pred_inv = y_pred_inv.flatten()\n",
        "y_pred_inv"
      ],
      "metadata": {
        "colab": {
          "base_uri": "https://localhost:8080/"
        },
        "id": "Kc4XOLKfp0Gf",
        "outputId": "80c0f559-799a-488a-f391-2471c78c07b1"
      },
      "execution_count": 38,
      "outputs": [
        {
          "output_type": "execute_result",
          "data": {
            "text/plain": [
              "array([341.02603, 361.77423, 380.05234, 329.41608, 329.79224, 328.13193,\n",
              "       324.752  , 319.33237, 313.03302, 335.4524 , 340.7847 , 332.9367 ,\n",
              "       331.77527, 345.55276, 337.55524, 332.23114, 348.618  , 365.2769 ,\n",
              "       363.2026 , 317.18073, 307.82376, 349.58606], dtype=float32)"
            ]
          },
          "metadata": {},
          "execution_count": 38
        }
      ]
    },
    {
      "cell_type": "code",
      "source": [
        "plt.figure(figsize=(17,9))\n",
        "#plt.grid()\n",
        "#plt.plot(np.arange(0, len(y_train)), y_train_inv, color='green', label=\"History\")\n",
        "plt.plot(np.arange(len(y_train), len(y_train) + len(y_test)), y_test_inv, color='red', marker='.', label=\"Actual\")\n",
        "plt.plot(np.arange(len(y_train), len(y_train) + len(y_test)), y_pred_inv, color='green', label=\"MLP Prediction\")\n",
        "plt.title(\"MLP Crude Palm Oil Price Prediction (Multivariate)\")\n",
        "plt.ylabel('Crude Palm Oil Price')\n",
        "plt.xlabel('Time step')\n",
        "plt.legend()\n",
        "ax.grid()\n",
        "plt.savefig('graph_MLP.png')"
      ],
      "metadata": {
        "colab": {
          "base_uri": "https://localhost:8080/",
          "height": 547
        },
        "id": "fewGwXaRqZ6t",
        "outputId": "d0ac2af9-592d-4aed-d4d7-35bf05e4aba6"
      },
      "execution_count": 39,
      "outputs": [
        {
          "output_type": "display_data",
          "data": {
            "text/plain": [
              "<Figure size 1224x648 with 1 Axes>"
            ],
            "image/png": "[encoded data removed]"
          },
          "metadata": {}
        }
      ]
    },
    {
      "cell_type": "code",
      "source": [
        "y_pred_inv"
      ],
      "metadata": {
        "colab": {
          "base_uri": "https://localhost:8080/"
        },
        "id": "OKeQZjDOqaB1",
        "outputId": "fae1d66a-3022-47e0-a9bc-8fb7320ea6bb"
      },
      "execution_count": 40,
      "outputs": [
        {
          "output_type": "execute_result",
          "data": {
            "text/plain": [
              "array([341.02603, 361.77423, 380.05234, 329.41608, 329.79224, 328.13193,\n",
              "       324.752  , 319.33237, 313.03302, 335.4524 , 340.7847 , 332.9367 ,\n",
              "       331.77527, 345.55276, 337.55524, 332.23114, 348.618  , 365.2769 ,\n",
              "       363.2026 , 317.18073, 307.82376, 349.58606], dtype=float32)"
            ]
          },
          "metadata": {},
          "execution_count": 40
        }
      ]
    },
    {
      "cell_type": "code",
      "source": [
        "MLP = y_pred_inv \n",
        "dfmlp=pd.DataFrame(MLP, columns=['MLP_Prediction']) \n",
        "print (dfmlp)"
      ],
      "metadata": {
        "colab": {
          "base_uri": "https://localhost:8080/"
        },
        "id": "R9SW360DrQOb",
        "outputId": "e636a5eb-3e89-43e1-ef6b-6a95cb8c8480"
      },
      "execution_count": 43,
      "outputs": [
        {
          "output_type": "stream",
          "name": "stdout",
          "text": [
            "    MLP_Prediction\n",
            "0       341.026031\n",
            "1       361.774231\n",
            "2       380.052338\n",
            "3       329.416077\n",
            "4       329.792236\n",
            "5       328.131927\n",
            "6       324.752014\n",
            "7       319.332367\n",
            "8       313.033020\n",
            "9       335.452393\n",
            "10      340.784698\n",
            "11      332.936707\n",
            "12      331.775269\n",
            "13      345.552765\n",
            "14      337.555237\n",
            "15      332.231140\n",
            "16      348.618011\n",
            "17      365.276886\n",
            "18      363.202606\n",
            "19      317.180725\n",
            "20      307.823761\n",
            "21      349.586060\n"
          ]
        }
      ]
    },
    {
      "cell_type": "code",
      "source": [
        "#Save MLP prediction to csv file\n",
        "dfmlp.to_csv(\"MLP_Prediction.csv\")"
      ],
      "metadata": {
        "id": "aumHHMhOr8HP"
      },
      "execution_count": 44,
      "outputs": []
    },
    {
      "cell_type": "markdown",
      "source": [
        "###Evaluate MLP Model Accuracy"
      ],
      "metadata": {
        "id": "7wCSFOOrsK7x"
      }
    },
    {
      "cell_type": "code",
      "source": [
        "MAE_MLP = mean_absolute_error(y_test_inv, y_pred_inv)\n",
        "print('MAE value of the MLP Model is:', MAE_MLP)\n",
        "\n",
        "MDA_MLP = mda(y_test_inv, y_pred_inv)\n",
        "print('MDA value of the MLP Model is:', MDA_MLP)\n",
        "\n",
        "MAPE_MLP = mean_absolute_percentage_error(y_test_inv, y_pred_inv)\n",
        "print('MAPE value of the MLP Model is:', MAPE_MLP)\n",
        "\n",
        "RMSE_MLP = mean_squared_error(y_test_inv,y_pred_inv, squared=False)\n",
        "print('RMSE value of the MLP Model is:', RMSE_MLP)\n",
        "\n",
        "MSE_MLP = mean_squared_error(y_test_inv,y_pred_inv)\n",
        "print('MSE value of the MLP Model is:', MSE_MLP)"
      ],
      "metadata": {
        "colab": {
          "base_uri": "https://localhost:8080/"
        },
        "id": "WxFz92aHsGoS",
        "outputId": "6000ada8-9ea2-4d9c-9ec8-ff9d27d7f8a9"
      },
      "execution_count": 45,
      "outputs": [
        {
          "output_type": "stream",
          "name": "stdout",
          "text": [
            "MAE value of the MLP Model is: 46.81210604580966\n",
            "MDA value of the MLP Model is: 0.6190476190476191\n",
            "MAPE value of the MLP Model is: 17.625104814530786\n",
            "RMSE value of the MLP Model is: 56.770807561394705\n",
            "MSE value of the MLP Model is: 3222.92459117291\n"
          ]
        }
      ]
    },
    {
      "cell_type": "markdown",
      "source": [
        "###Tuning MLP with Keras Tuner"
      ],
      "metadata": {
        "id": "OkL00EQrsoLG"
      }
    },
    {
      "cell_type": "markdown",
      "source": [
        "Define A Model-Building Class"
      ],
      "metadata": {
        "id": "Ys7VdAOQszEm"
      }
    },
    {
      "cell_type": "code",
      "source": [
        "class MLPHyperModel(HyperModel):\n",
        "    \n",
        "    def __init__(self, input_shape):\n",
        "        self.input_shape= input_shape\n",
        "        \n",
        "    def build(self, hp):\n",
        "        model= keras.Sequential()\n",
        "        \n",
        "        # Tune the number of units in the first Dense layer\n",
        "        # Defining dense units as a close approx to the original neural network to perform a fair comparision!\n",
        "      \n",
        "        hp_units_1= hp.Int('units_1', min_value=64, max_value= 256, step=8)\n",
        "        hp_units_2= hp.Int('units_2', min_value=32, max_value= 128, step=8)\n",
        "        #hp_units_3= hp.Int('units_3', min_value=32, max_value= 64, step=8)\n",
        "        #hp_units_4= hp.Int('units_4', min_value=16, max_value= 32, step=8)\n",
        "\n",
        "        model.add(keras.layers.Dense(units=hp_units_1, input_shape= self.input_shape))\n",
        "        model.add(keras.layers.Dense(units=hp_units_2))\n",
        "        #model.add(keras.layers.Dense(units=hp_units_3, activation='tanh'))\n",
        "        #model.add(keras.layers.Dense(units=hp_units_4, activation='tanh'))\n",
        "        model.add(keras.layers.Dense(1))\n",
        "        #Tune the dropout\n",
        "        model.add(\n",
        "            Dropout(\n",
        "                rate=hp.Float(\n",
        "                    'dropout',\n",
        "                    min_value=0.0,\n",
        "                    max_value=0.5,\n",
        "                    default=0.25,\n",
        "                    step=0.05\n",
        "                )\n",
        "            )\n",
        "        )\n",
        "        \n",
        "        # Tune the epoch for the optimizer\n",
        "\n",
        "        #batch_size = hp.Int('batch_size',8,16,24,32,40,48,56,64,72,80,88,96, step=8)\n",
        "        \n",
        "        optimizers = hp.Choice('optimizer',values=['rmsprop','adam', 'AdamW', 'nadam','sgd','adadelta','adagrad'])\n",
        "\n",
        "        hp_dense_activation = hp.Choice('activation',values=['relu', 'tanh', 'sigmoid', 'linear', 'Softmax', 'ELU', 'linear'])\n",
        "\n",
        "        # Tune the batch size for the optimizer \n",
        "        hp_batch_size = hp.Int('batch_size', min_value = 8, max_value = 96, step = 8, default=8)\n",
        "        \n",
        "        # Tune the epoch for the optimizer\n",
        "        hp_epoch = hp.Int('epoch', min_value = 5, max_value = 100, step = 5, default=5)\n",
        "\n",
        "        # Tune the epoch for the momentum\n",
        "        hp_momentum = hp.Float('momentum', min_value = 0.8, max_value = 0.99, step = 0.01, default=0.9)\n",
        "\n",
        "        # Tune the epoch for the decay\n",
        "        hp_decay = hp.Float('decay', min_value = 1e-9, max_value = 1e-3, step= 0.0001, default=1e-7)\n",
        "\n",
        "        # Tune the learning rate for the optimizer \n",
        "        hp_learning_rate=hp.Float('learning_rate', min_value=1e-4, max_value=1e-2, sampling='LOG', default= 0.0005)\n",
        "       # -------------------------------------------------------\n",
        "        model.compile(loss='mse',\n",
        "                    optimizer= keras.optimizers.Adam(learning_rate=hp_learning_rate),\n",
        "                    metrics= ['mae','mse']\n",
        "                     )\n",
        "\n",
        "        return model\n",
        "hypermodel = MLPHyperModel(input_shape = (X_test.shape[1], X_test.shape[2]))"
      ],
      "metadata": {
        "id": "ekcFXPaAsGwK"
      },
      "execution_count": 46,
      "outputs": []
    },
    {
      "cell_type": "markdown",
      "source": [
        "###Build Random Search Tuner"
      ],
      "metadata": {
        "id": "2_KRfHsAuR5R"
      }
    },
    {
      "cell_type": "code",
      "source": [
        "tuner_rs = RandomSearch(\n",
        "            hypermodel,\n",
        "            objective='mse',\n",
        "            seed=42,\n",
        "            max_trials=10,\n",
        "            executions_per_trial=2, overwrite=True\n",
        "        )"
      ],
      "metadata": {
        "id": "xECfdd58uYXp"
      },
      "execution_count": 47,
      "outputs": []
    },
    {
      "cell_type": "code",
      "source": [
        "tuner_rs.search(X_test, y_train, epochs=16, validation_split=0.2, verbose=0)"
      ],
      "metadata": {
        "id": "yJEWvPB_ukID"
      },
      "execution_count": 48,
      "outputs": []
    },
    {
      "cell_type": "code",
      "source": [
        "X_train_mlp = X_train[:, :, 0]\n",
        "X_test_mlp = X_test[:, :, 0]\n",
        "mlp_model = tf.keras.Sequential()\n",
        "mlp_model.add(tf.keras.layers.Dense(85, input_dim=X_train.shape[1], activation='relu'))\n",
        "mlp_model.add(tf.keras.layers.Dense(64, activation = 'relu'))\n",
        "mlp_model.add(tf.keras.layers.Dense(1))"
      ],
      "metadata": {
        "id": "4yjpz2Vev5se"
      },
      "execution_count": null,
      "outputs": []
    },
    {
      "cell_type": "markdown",
      "source": [
        "###Build HYPERBAND optimization"
      ],
      "metadata": {
        "id": "Z3OyMY6ywzch"
      }
    },
    {
      "cell_type": "code",
      "source": [
        "MAX_TRIALS = 20\n",
        "tuner= RandomSearch(hypermodel,\n",
        "               objective= 'val_mse',\n",
        "               max_trials= MAX_TRIALS,\n",
        "               executions_per_trial= 2,\n",
        "               directory= 'random_search',\n",
        "               project_name='randomsearch',\n",
        "               overwrite=True)"
      ],
      "metadata": {
        "id": "MEYY_9SpwsX5"
      },
      "execution_count": 49,
      "outputs": []
    },
    {
      "cell_type": "code",
      "source": [
        "print('searching for the best params!')\n",
        "\n",
        "t0 = time()\n",
        "tuner.search(x= X_train,\n",
        "             y= y_train,\n",
        "             epochs=100,\n",
        "             batch_size= 64,\n",
        "             validation_data= (X_test, y_test),\n",
        "             verbose=0,\n",
        "             callbacks= []\n",
        "            )\n",
        "print(time()- t0,\" secs\")\n",
        "\n",
        "# Retreive the optimal hyperparameters\n",
        "best_hps= tuner.get_best_hyperparameters(num_trials=1)[0]\n",
        "\n",
        "# Retrieve the best model\n",
        "best_model = tuner.get_best_models(num_models=1)[0]"
      ],
      "metadata": {
        "colab": {
          "base_uri": "https://localhost:8080/"
        },
        "id": "KQc-d1REw8I5",
        "outputId": "04296bcc-fb90-4ee7-8901-e34ba33a4f6a"
      },
      "execution_count": 50,
      "outputs": [
        {
          "output_type": "stream",
          "name": "stdout",
          "text": [
            "searching for the best params!\n",
            "315.4679501056671  secs\n"
          ]
        }
      ]
    },
    {
      "cell_type": "code",
      "source": [
        "print(f\"\"\"\n",
        "The hyperparameter search is complete. The optimal number of units in the \n",
        "first densely-connected layer is {best_hps.get('units_1')},\n",
        "second layer is {best_hps.get('units_2')} \n",
        "\n",
        "drop out is {best_hps.get('dropout')}\n",
        "batch_size is {best_hps.get('batch_size')}\n",
        "epoch is {best_hps.get('epoch')}\n",
        "optimizer is {best_hps.get('optimizer')}\n",
        "activation is {best_hps.get('activation')}\n",
        "\n",
        "momentum is {best_hps.get('momentum')}\n",
        "decay is {best_hps.get('decay')}\n",
        "\n",
        "#learning rate is {best_hps.get('learning_rate')}                                        \n",
        "\n",
        "and the optimal learning rate for the optimizer\n",
        "is {best_hps.get('learning_rate')}.\n",
        "\"\"\")\n",
        "\n",
        "# Evaluate the best model.\n",
        "print(best_model.metrics_names)\n",
        "loss, mae, mse = best_model.evaluate(X_test, y_test)\n",
        "print(f'loss:{loss} mae: {mae} mse: {mse}')"
      ],
      "metadata": {
        "colab": {
          "base_uri": "https://localhost:8080/"
        },
        "id": "pTKODfgZw8OM",
        "outputId": "974f3730-5b28-41ef-c13d-6302ced83d71"
      },
      "execution_count": 51,
      "outputs": [
        {
          "output_type": "stream",
          "name": "stdout",
          "text": [
            "\n",
            "The hyperparameter search is complete. The optimal number of units in the \n",
            "first densely-connected layer is 256,\n",
            "second layer is 48 \n",
            "\n",
            "drop out is 0.35000000000000003\n",
            "batch_size is 48\n",
            "epoch is 100\n",
            "optimizer is rmsprop\n",
            "activation is ELU\n",
            "\n",
            "momentum is 0.8300000000000001\n",
            "decay is 0.00010000100000000001\n",
            "\n",
            "#learning rate is 0.00330588674286921                                        \n",
            "\n",
            "and the optimal learning rate for the optimizer\n",
            "is 0.00330588674286921.\n",
            "\n",
            "[]\n",
            "1/1 [==============================] - 0s 325ms/step - loss: 0.0119 - mae: 0.0954 - mse: 0.0119\n",
            "loss:0.011854633688926697 mae: 0.09537635743618011 mse: 0.011854633688926697\n"
          ]
        }
      ]
    },
    {
      "cell_type": "code",
      "source": [
        "# Get the optimal hyperparameters\n",
        "best_hps = tuner.get_best_hyperparameters(num_trials = 1)[0]\n",
        "print(best_hps.values)"
      ],
      "metadata": {
        "colab": {
          "base_uri": "https://localhost:8080/"
        },
        "id": "IoaVdda637_r",
        "outputId": "e298c3e3-e0f3-448c-b258-03fbaa3cdf7e"
      },
      "execution_count": 52,
      "outputs": [
        {
          "output_type": "stream",
          "name": "stdout",
          "text": [
            "{'units_1': 256, 'units_2': 48, 'dropout': 0.35000000000000003, 'optimizer': 'rmsprop', 'activation': 'ELU', 'batch_size': 48, 'epoch': 100, 'momentum': 0.8300000000000001, 'decay': 0.00010000100000000001, 'learning_rate': 0.00330588674286921}\n"
          ]
        }
      ]
    },
    {
      "cell_type": "markdown",
      "source": [
        "###Apply the trained parameters to the MLP"
      ],
      "metadata": {
        "id": "evJaWpWz4Ead"
      }
    },
    {
      "cell_type": "code",
      "source": [
        "#X_train_mlp = X_train[:, :, 0]\n",
        "#X_test_mlp = X_test[:, :, 0]\n",
        "tumlp_model = tf.keras.Sequential()\n",
        "tumlp_model.add(tf.keras.layers.Dense(256,activation='ELU', input_dim=X_train.shape[1]))\n",
        "tumlp_model.add(tf.keras.layers.Dense(48, activation = 'ELU'))\n",
        "tumlp_model.add(tf.keras.layers.Dense(1))"
      ],
      "metadata": {
        "id": "0_7nsVx5t7yF"
      },
      "execution_count": 63,
      "outputs": []
    },
    {
      "cell_type": "code",
      "source": [
        "TUMLP_model = tf.keras.Sequential()\n",
        "TUMLP_model.add(tf.keras.layers.GRU(128, activation='Softmax', input_shape=(X_test.shape[1])))\n",
        "TUMLP_model.add(tf.keras.layers.Dense(128, activation='Softmax'))\n",
        "TUMLP_model.add(layers.Dropout(0.45))\n",
        "#TUGRU_model.add(layers.Dropout(0.35))\n",
        "#TUGRU_model.add(tf.keras.layers.Dense(16, 'tanh'))\n",
        "#TUGRU_model.add(layers.Dropout(0.35))\n",
        "\n",
        "#Output layer of model\n",
        "TUMLP_model.add(tf.keras.layers.Dense(1, 'linear'))"
      ],
      "metadata": {
        "colab": {
          "base_uri": "https://localhost:8080/",
          "height": 405
        },
        "id": "bQjAdrZZ38FO",
        "outputId": "039beddc-4864-42ae-97df-7becd59d3efd"
      },
      "execution_count": 60,
      "outputs": [
        {
          "output_type": "error",
          "ename": "TypeError",
          "evalue": "ignored",
          "traceback": [
            "\u001b[0;31m---------------------------------------------------------------------------\u001b[0m",
            "\u001b[0;31mTypeError\u001b[0m                                 Traceback (most recent call last)",
            "\u001b[0;32m<ipython-input-60-5782d82d4256>\u001b[0m in \u001b[0;36m<module>\u001b[0;34m\u001b[0m\n\u001b[1;32m      1\u001b[0m \u001b[0mTUMLP_model\u001b[0m \u001b[0;34m=\u001b[0m \u001b[0mtf\u001b[0m\u001b[0;34m.\u001b[0m\u001b[0mkeras\u001b[0m\u001b[0;34m.\u001b[0m\u001b[0mSequential\u001b[0m\u001b[0;34m(\u001b[0m\u001b[0;34m)\u001b[0m\u001b[0;34m\u001b[0m\u001b[0;34m\u001b[0m\u001b[0m\n\u001b[0;32m----> 2\u001b[0;31m \u001b[0mTUMLP_model\u001b[0m\u001b[0;34m.\u001b[0m\u001b[0madd\u001b[0m\u001b[0;34m(\u001b[0m\u001b[0mtf\u001b[0m\u001b[0;34m.\u001b[0m\u001b[0mkeras\u001b[0m\u001b[0;34m.\u001b[0m\u001b[0mlayers\u001b[0m\u001b[0;34m.\u001b[0m\u001b[0mGRU\u001b[0m\u001b[0;34m(\u001b[0m\u001b[0;36m128\u001b[0m\u001b[0;34m,\u001b[0m \u001b[0mactivation\u001b[0m\u001b[0;34m=\u001b[0m\u001b[0;34m'Softmax'\u001b[0m\u001b[0;34m,\u001b[0m \u001b[0minput_shape\u001b[0m\u001b[0;34m=\u001b[0m\u001b[0;34m(\u001b[0m\u001b[0mX_test\u001b[0m\u001b[0;34m.\u001b[0m\u001b[0mshape\u001b[0m\u001b[0;34m[\u001b[0m\u001b[0;36m1\u001b[0m\u001b[0;34m]\u001b[0m\u001b[0;34m)\u001b[0m\u001b[0;34m)\u001b[0m\u001b[0;34m)\u001b[0m\u001b[0;34m\u001b[0m\u001b[0;34m\u001b[0m\u001b[0m\n\u001b[0m\u001b[1;32m      3\u001b[0m \u001b[0mTUMLP_model\u001b[0m\u001b[0;34m.\u001b[0m\u001b[0madd\u001b[0m\u001b[0;34m(\u001b[0m\u001b[0mtf\u001b[0m\u001b[0;34m.\u001b[0m\u001b[0mkeras\u001b[0m\u001b[0;34m.\u001b[0m\u001b[0mlayers\u001b[0m\u001b[0;34m.\u001b[0m\u001b[0mDense\u001b[0m\u001b[0;34m(\u001b[0m\u001b[0;36m128\u001b[0m\u001b[0;34m,\u001b[0m \u001b[0mactivation\u001b[0m\u001b[0;34m=\u001b[0m\u001b[0;34m'Softmax'\u001b[0m\u001b[0;34m)\u001b[0m\u001b[0;34m)\u001b[0m\u001b[0;34m\u001b[0m\u001b[0;34m\u001b[0m\u001b[0m\n\u001b[1;32m      4\u001b[0m \u001b[0mTUMLP_model\u001b[0m\u001b[0;34m.\u001b[0m\u001b[0madd\u001b[0m\u001b[0;34m(\u001b[0m\u001b[0mlayers\u001b[0m\u001b[0;34m.\u001b[0m\u001b[0mDropout\u001b[0m\u001b[0;34m(\u001b[0m\u001b[0;36m0.45\u001b[0m\u001b[0;34m)\u001b[0m\u001b[0;34m)\u001b[0m\u001b[0;34m\u001b[0m\u001b[0;34m\u001b[0m\u001b[0m\n\u001b[1;32m      5\u001b[0m \u001b[0;31m#TUGRU_model.add(layers.Dropout(0.35))\u001b[0m\u001b[0;34m\u001b[0m\u001b[0;34m\u001b[0m\u001b[0;34m\u001b[0m\u001b[0m\n",
            "\u001b[0;32m/usr/local/lib/python3.8/dist-packages/keras/layers/rnn/gru.py\u001b[0m in \u001b[0;36m__init__\u001b[0;34m(self, units, activation, recurrent_activation, use_bias, kernel_initializer, recurrent_initializer, bias_initializer, kernel_regularizer, recurrent_regularizer, bias_regularizer, activity_regularizer, kernel_constraint, recurrent_constraint, bias_constraint, dropout, recurrent_dropout, return_sequences, return_state, go_backwards, stateful, unroll, time_major, reset_after, **kwargs)\u001b[0m\n\u001b[1;32m    586\u001b[0m             \u001b[0;34m**\u001b[0m\u001b[0mcell_kwargs\u001b[0m\u001b[0;34m,\u001b[0m\u001b[0;34m\u001b[0m\u001b[0;34m\u001b[0m\u001b[0m\n\u001b[1;32m    587\u001b[0m         )\n\u001b[0;32m--> 588\u001b[0;31m         super().__init__(\n\u001b[0m\u001b[1;32m    589\u001b[0m             \u001b[0mcell\u001b[0m\u001b[0;34m,\u001b[0m\u001b[0;34m\u001b[0m\u001b[0;34m\u001b[0m\u001b[0m\n\u001b[1;32m    590\u001b[0m             \u001b[0mreturn_sequences\u001b[0m\u001b[0;34m=\u001b[0m\u001b[0mreturn_sequences\u001b[0m\u001b[0;34m,\u001b[0m\u001b[0;34m\u001b[0m\u001b[0;34m\u001b[0m\u001b[0m\n",
            "\u001b[0;32m/usr/local/lib/python3.8/dist-packages/keras/layers/rnn/dropout_rnn_cell_mixin.py\u001b[0m in \u001b[0;36m__init__\u001b[0;34m(self, *args, **kwargs)\u001b[0m\n\u001b[1;32m     41\u001b[0m     \u001b[0;32mdef\u001b[0m \u001b[0m__init__\u001b[0m\u001b[0;34m(\u001b[0m\u001b[0mself\u001b[0m\u001b[0;34m,\u001b[0m \u001b[0;34m*\u001b[0m\u001b[0margs\u001b[0m\u001b[0;34m,\u001b[0m \u001b[0;34m**\u001b[0m\u001b[0mkwargs\u001b[0m\u001b[0;34m)\u001b[0m\u001b[0;34m:\u001b[0m\u001b[0;34m\u001b[0m\u001b[0;34m\u001b[0m\u001b[0m\n\u001b[1;32m     42\u001b[0m         \u001b[0mself\u001b[0m\u001b[0;34m.\u001b[0m\u001b[0m_create_non_trackable_mask_cache\u001b[0m\u001b[0;34m(\u001b[0m\u001b[0;34m)\u001b[0m\u001b[0;34m\u001b[0m\u001b[0;34m\u001b[0m\u001b[0m\n\u001b[0;32m---> 43\u001b[0;31m         \u001b[0msuper\u001b[0m\u001b[0;34m(\u001b[0m\u001b[0;34m)\u001b[0m\u001b[0;34m.\u001b[0m\u001b[0m__init__\u001b[0m\u001b[0;34m(\u001b[0m\u001b[0;34m*\u001b[0m\u001b[0margs\u001b[0m\u001b[0;34m,\u001b[0m \u001b[0;34m**\u001b[0m\u001b[0mkwargs\u001b[0m\u001b[0;34m)\u001b[0m\u001b[0;34m\u001b[0m\u001b[0;34m\u001b[0m\u001b[0m\n\u001b[0m\u001b[1;32m     44\u001b[0m \u001b[0;34m\u001b[0m\u001b[0m\n\u001b[1;32m     45\u001b[0m     \u001b[0;34m@\u001b[0m\u001b[0mtf\u001b[0m\u001b[0;34m.\u001b[0m\u001b[0m__internal__\u001b[0m\u001b[0;34m.\u001b[0m\u001b[0mtracking\u001b[0m\u001b[0;34m.\u001b[0m\u001b[0mno_automatic_dependency_tracking\u001b[0m\u001b[0;34m\u001b[0m\u001b[0;34m\u001b[0m\u001b[0m\n",
            "\u001b[0;32m/usr/local/lib/python3.8/dist-packages/keras/layers/rnn/base_rnn.py\u001b[0m in \u001b[0;36m__init__\u001b[0;34m(self, cell, return_sequences, return_state, go_backwards, stateful, unroll, time_major, **kwargs)\u001b[0m\n\u001b[1;32m    269\u001b[0m             \u001b[0mkwargs\u001b[0m\u001b[0;34m[\u001b[0m\u001b[0;34m\"input_shape\"\u001b[0m\u001b[0;34m]\u001b[0m \u001b[0;34m=\u001b[0m \u001b[0minput_shape\u001b[0m\u001b[0;34m\u001b[0m\u001b[0;34m\u001b[0m\u001b[0m\n\u001b[1;32m    270\u001b[0m \u001b[0;34m\u001b[0m\u001b[0m\n\u001b[0;32m--> 271\u001b[0;31m         \u001b[0msuper\u001b[0m\u001b[0;34m(\u001b[0m\u001b[0;34m)\u001b[0m\u001b[0;34m.\u001b[0m\u001b[0m__init__\u001b[0m\u001b[0;34m(\u001b[0m\u001b[0;34m**\u001b[0m\u001b[0mkwargs\u001b[0m\u001b[0;34m)\u001b[0m\u001b[0;34m\u001b[0m\u001b[0;34m\u001b[0m\u001b[0m\n\u001b[0m\u001b[1;32m    272\u001b[0m         \u001b[0mself\u001b[0m\u001b[0;34m.\u001b[0m\u001b[0mcell\u001b[0m \u001b[0;34m=\u001b[0m \u001b[0mcell\u001b[0m\u001b[0;34m\u001b[0m\u001b[0;34m\u001b[0m\u001b[0m\n\u001b[1;32m    273\u001b[0m         \u001b[0mself\u001b[0m\u001b[0;34m.\u001b[0m\u001b[0mreturn_sequences\u001b[0m \u001b[0;34m=\u001b[0m \u001b[0mreturn_sequences\u001b[0m\u001b[0;34m\u001b[0m\u001b[0;34m\u001b[0m\u001b[0m\n",
            "\u001b[0;32m/usr/local/lib/python3.8/dist-packages/tensorflow/python/trackable/base.py\u001b[0m in \u001b[0;36m_method_wrapper\u001b[0;34m(self, *args, **kwargs)\u001b[0m\n\u001b[1;32m    203\u001b[0m     \u001b[0mself\u001b[0m\u001b[0;34m.\u001b[0m\u001b[0m_self_setattr_tracking\u001b[0m \u001b[0;34m=\u001b[0m \u001b[0;32mFalse\u001b[0m  \u001b[0;31m# pylint: disable=protected-access\u001b[0m\u001b[0;34m\u001b[0m\u001b[0;34m\u001b[0m\u001b[0m\n\u001b[1;32m    204\u001b[0m     \u001b[0;32mtry\u001b[0m\u001b[0;34m:\u001b[0m\u001b[0;34m\u001b[0m\u001b[0;34m\u001b[0m\u001b[0m\n\u001b[0;32m--> 205\u001b[0;31m       \u001b[0mresult\u001b[0m \u001b[0;34m=\u001b[0m \u001b[0mmethod\u001b[0m\u001b[0;34m(\u001b[0m\u001b[0mself\u001b[0m\u001b[0;34m,\u001b[0m \u001b[0;34m*\u001b[0m\u001b[0margs\u001b[0m\u001b[0;34m,\u001b[0m \u001b[0;34m**\u001b[0m\u001b[0mkwargs\u001b[0m\u001b[0;34m)\u001b[0m\u001b[0;34m\u001b[0m\u001b[0;34m\u001b[0m\u001b[0m\n\u001b[0m\u001b[1;32m    206\u001b[0m     \u001b[0;32mfinally\u001b[0m\u001b[0;34m:\u001b[0m\u001b[0;34m\u001b[0m\u001b[0;34m\u001b[0m\u001b[0m\n\u001b[1;32m    207\u001b[0m       \u001b[0mself\u001b[0m\u001b[0;34m.\u001b[0m\u001b[0m_self_setattr_tracking\u001b[0m \u001b[0;34m=\u001b[0m \u001b[0mprevious_value\u001b[0m  \u001b[0;31m# pylint: disable=protected-access\u001b[0m\u001b[0;34m\u001b[0m\u001b[0;34m\u001b[0m\u001b[0m\n",
            "\u001b[0;32m/usr/local/lib/python3.8/dist-packages/keras/engine/base_layer.py\u001b[0m in \u001b[0;36m__init__\u001b[0;34m(self, seed, force_generator, rng_type, **kwargs)\u001b[0m\n\u001b[1;32m   3714\u001b[0m             \u001b[0;34m*\u001b[0m\u001b[0;32mclass\u001b[0m\u001b[0;34m\u001b[0m\u001b[0;34m\u001b[0m\u001b[0m\n\u001b[1;32m   3715\u001b[0m         \"\"\"\n\u001b[0;32m-> 3716\u001b[0;31m         \u001b[0msuper\u001b[0m\u001b[0;34m(\u001b[0m\u001b[0;34m)\u001b[0m\u001b[0;34m.\u001b[0m\u001b[0m__init__\u001b[0m\u001b[0;34m(\u001b[0m\u001b[0;34m**\u001b[0m\u001b[0mkwargs\u001b[0m\u001b[0;34m)\u001b[0m\u001b[0;34m\u001b[0m\u001b[0;34m\u001b[0m\u001b[0m\n\u001b[0m\u001b[1;32m   3717\u001b[0m         self._random_generator = backend.RandomGenerator(\n\u001b[1;32m   3718\u001b[0m             \u001b[0mseed\u001b[0m\u001b[0;34m,\u001b[0m \u001b[0mforce_generator\u001b[0m\u001b[0;34m=\u001b[0m\u001b[0mforce_generator\u001b[0m\u001b[0;34m,\u001b[0m \u001b[0mrng_type\u001b[0m\u001b[0;34m=\u001b[0m\u001b[0mrng_type\u001b[0m\u001b[0;34m\u001b[0m\u001b[0;34m\u001b[0m\u001b[0m\n",
            "\u001b[0;32m/usr/local/lib/python3.8/dist-packages/tensorflow/python/trackable/base.py\u001b[0m in \u001b[0;36m_method_wrapper\u001b[0;34m(self, *args, **kwargs)\u001b[0m\n\u001b[1;32m    203\u001b[0m     \u001b[0mself\u001b[0m\u001b[0;34m.\u001b[0m\u001b[0m_self_setattr_tracking\u001b[0m \u001b[0;34m=\u001b[0m \u001b[0;32mFalse\u001b[0m  \u001b[0;31m# pylint: disable=protected-access\u001b[0m\u001b[0;34m\u001b[0m\u001b[0;34m\u001b[0m\u001b[0m\n\u001b[1;32m    204\u001b[0m     \u001b[0;32mtry\u001b[0m\u001b[0;34m:\u001b[0m\u001b[0;34m\u001b[0m\u001b[0;34m\u001b[0m\u001b[0m\n\u001b[0;32m--> 205\u001b[0;31m       \u001b[0mresult\u001b[0m \u001b[0;34m=\u001b[0m \u001b[0mmethod\u001b[0m\u001b[0;34m(\u001b[0m\u001b[0mself\u001b[0m\u001b[0;34m,\u001b[0m \u001b[0;34m*\u001b[0m\u001b[0margs\u001b[0m\u001b[0;34m,\u001b[0m \u001b[0;34m**\u001b[0m\u001b[0mkwargs\u001b[0m\u001b[0;34m)\u001b[0m\u001b[0;34m\u001b[0m\u001b[0;34m\u001b[0m\u001b[0m\n\u001b[0m\u001b[1;32m    206\u001b[0m     \u001b[0;32mfinally\u001b[0m\u001b[0;34m:\u001b[0m\u001b[0;34m\u001b[0m\u001b[0;34m\u001b[0m\u001b[0m\n\u001b[1;32m    207\u001b[0m       \u001b[0mself\u001b[0m\u001b[0;34m.\u001b[0m\u001b[0m_self_setattr_tracking\u001b[0m \u001b[0;34m=\u001b[0m \u001b[0mprevious_value\u001b[0m  \u001b[0;31m# pylint: disable=protected-access\u001b[0m\u001b[0;34m\u001b[0m\u001b[0;34m\u001b[0m\u001b[0m\n",
            "\u001b[0;32m/usr/local/lib/python3.8/dist-packages/keras/engine/base_layer.py\u001b[0m in \u001b[0;36m__init__\u001b[0;34m(self, trainable, name, dtype, dynamic, **kwargs)\u001b[0m\n\u001b[1;32m    450\u001b[0m                 \u001b[0;32melse\u001b[0m\u001b[0;34m:\u001b[0m\u001b[0;34m\u001b[0m\u001b[0;34m\u001b[0m\u001b[0m\n\u001b[1;32m    451\u001b[0m                     \u001b[0mbatch_size\u001b[0m \u001b[0;34m=\u001b[0m \u001b[0;32mNone\u001b[0m\u001b[0;34m\u001b[0m\u001b[0;34m\u001b[0m\u001b[0m\n\u001b[0;32m--> 452\u001b[0;31m                 \u001b[0mbatch_input_shape\u001b[0m \u001b[0;34m=\u001b[0m \u001b[0;34m(\u001b[0m\u001b[0mbatch_size\u001b[0m\u001b[0;34m,\u001b[0m\u001b[0;34m)\u001b[0m \u001b[0;34m+\u001b[0m \u001b[0mtuple\u001b[0m\u001b[0;34m(\u001b[0m\u001b[0mkwargs\u001b[0m\u001b[0;34m[\u001b[0m\u001b[0;34m\"input_shape\"\u001b[0m\u001b[0;34m]\u001b[0m\u001b[0;34m)\u001b[0m\u001b[0;34m\u001b[0m\u001b[0;34m\u001b[0m\u001b[0m\n\u001b[0m\u001b[1;32m    453\u001b[0m             \u001b[0mself\u001b[0m\u001b[0;34m.\u001b[0m\u001b[0m_batch_input_shape\u001b[0m \u001b[0;34m=\u001b[0m \u001b[0mbatch_input_shape\u001b[0m\u001b[0;34m\u001b[0m\u001b[0;34m\u001b[0m\u001b[0m\n\u001b[1;32m    454\u001b[0m \u001b[0;34m\u001b[0m\u001b[0m\n",
            "\u001b[0;31mTypeError\u001b[0m: 'int' object is not iterable"
          ]
        }
      ]
    },
    {
      "cell_type": "code",
      "source": [
        "tumlp_model.compile(loss = 'mse', optimizer= tf.keras.optimizers.RMSprop(learning_rate=0.003305, momentum = 0.83), metrics= ['mae', 'mse'])\n",
        "history = tumlp_model.fit(X_train_mlp, y_train, epochs=100, batch_size=48,validation_split=0.2,shuffle=False) # 80/160"
      ],
      "metadata": {
        "colab": {
          "base_uri": "https://localhost:8080/"
        },
        "id": "ON5m7zgM38JJ",
        "outputId": "f67ade98-380c-45dd-bda7-48ab176e648e"
      },
      "execution_count": 65,
      "outputs": [
        {
          "output_type": "stream",
          "name": "stdout",
          "text": [
            "Epoch 1/100\n",
            "2/2 [==============================] - 1s 182ms/step - loss: 1.0321 - mae: 0.7949 - mse: 1.0321 - val_loss: 1.3257 - val_mae: 1.0715 - val_mse: 1.3257\n",
            "Epoch 2/100\n",
            "2/2 [==============================] - 0s 31ms/step - loss: 0.4804 - mae: 0.6114 - mse: 0.4804 - val_loss: 0.8653 - val_mae: 0.8802 - val_mse: 0.8653\n",
            "Epoch 3/100\n",
            "2/2 [==============================] - 0s 37ms/step - loss: 0.4168 - mae: 0.5260 - mse: 0.4168 - val_loss: 0.8900 - val_mae: 0.8974 - val_mse: 0.8900\n",
            "Epoch 4/100\n",
            "2/2 [==============================] - 0s 48ms/step - loss: 0.4034 - mae: 0.5927 - mse: 0.4034 - val_loss: 0.1477 - val_mae: 0.3488 - val_mse: 0.1477\n",
            "Epoch 5/100\n",
            "2/2 [==============================] - 0s 31ms/step - loss: 0.3221 - mae: 0.5202 - mse: 0.3221 - val_loss: 0.0738 - val_mae: 0.2356 - val_mse: 0.0738\n",
            "Epoch 6/100\n",
            "2/2 [==============================] - 0s 31ms/step - loss: 0.0863 - mae: 0.2696 - mse: 0.0863 - val_loss: 0.2934 - val_mae: 0.5180 - val_mse: 0.2934\n",
            "Epoch 7/100\n",
            "2/2 [==============================] - 0s 55ms/step - loss: 0.1237 - mae: 0.3315 - mse: 0.1237 - val_loss: 0.0321 - val_mae: 0.1520 - val_mse: 0.0321\n",
            "Epoch 8/100\n",
            "2/2 [==============================] - 0s 40ms/step - loss: 0.0502 - mae: 0.1751 - mse: 0.0502 - val_loss: 0.0934 - val_mae: 0.2572 - val_mse: 0.0934\n",
            "Epoch 9/100\n",
            "2/2 [==============================] - 0s 32ms/step - loss: 0.0450 - mae: 0.1647 - mse: 0.0450 - val_loss: 0.0454 - val_mae: 0.1637 - val_mse: 0.0454\n",
            "Epoch 10/100\n",
            "2/2 [==============================] - 0s 31ms/step - loss: 0.0331 - mae: 0.1594 - mse: 0.0331 - val_loss: 0.0515 - val_mae: 0.1768 - val_mse: 0.0515\n",
            "Epoch 11/100\n",
            "2/2 [==============================] - 0s 32ms/step - loss: 0.0165 - mae: 0.1091 - mse: 0.0165 - val_loss: 0.0334 - val_mae: 0.1522 - val_mse: 0.0334\n",
            "Epoch 12/100\n",
            "2/2 [==============================] - 0s 32ms/step - loss: 0.0212 - mae: 0.1118 - mse: 0.0212 - val_loss: 0.0237 - val_mae: 0.1297 - val_mse: 0.0237\n",
            "Epoch 13/100\n",
            "2/2 [==============================] - 0s 36ms/step - loss: 0.0111 - mae: 0.0784 - mse: 0.0111 - val_loss: 0.0355 - val_mae: 0.1405 - val_mse: 0.0355\n",
            "Epoch 14/100\n",
            "2/2 [==============================] - 0s 31ms/step - loss: 0.0118 - mae: 0.0930 - mse: 0.0118 - val_loss: 0.0200 - val_mae: 0.1157 - val_mse: 0.0200\n",
            "Epoch 15/100\n",
            "2/2 [==============================] - 0s 31ms/step - loss: 0.0085 - mae: 0.0701 - mse: 0.0085 - val_loss: 0.0191 - val_mae: 0.1146 - val_mse: 0.0191\n",
            "Epoch 16/100\n",
            "2/2 [==============================] - 0s 31ms/step - loss: 0.0089 - mae: 0.0681 - mse: 0.0089 - val_loss: 0.0235 - val_mae: 0.1138 - val_mse: 0.0235\n",
            "Epoch 17/100\n",
            "2/2 [==============================] - 0s 49ms/step - loss: 0.0075 - mae: 0.0698 - mse: 0.0075 - val_loss: 0.0171 - val_mae: 0.1062 - val_mse: 0.0171\n",
            "Epoch 18/100\n",
            "2/2 [==============================] - 0s 50ms/step - loss: 0.0071 - mae: 0.0637 - mse: 0.0071 - val_loss: 0.0166 - val_mae: 0.1034 - val_mse: 0.0166\n",
            "Epoch 19/100\n",
            "2/2 [==============================] - 0s 48ms/step - loss: 0.0074 - mae: 0.0652 - mse: 0.0074 - val_loss: 0.0171 - val_mae: 0.1009 - val_mse: 0.0171\n",
            "Epoch 20/100\n",
            "2/2 [==============================] - 0s 33ms/step - loss: 0.0057 - mae: 0.0585 - mse: 0.0057 - val_loss: 0.0153 - val_mae: 0.1015 - val_mse: 0.0153\n",
            "Epoch 21/100\n",
            "2/2 [==============================] - 0s 49ms/step - loss: 0.0065 - mae: 0.0600 - mse: 0.0065 - val_loss: 0.0153 - val_mae: 0.0977 - val_mse: 0.0153\n",
            "Epoch 22/100\n",
            "2/2 [==============================] - 0s 34ms/step - loss: 0.0057 - mae: 0.0576 - mse: 0.0057 - val_loss: 0.0143 - val_mae: 0.0987 - val_mse: 0.0143\n",
            "Epoch 23/100\n",
            "2/2 [==============================] - 0s 32ms/step - loss: 0.0061 - mae: 0.0580 - mse: 0.0061 - val_loss: 0.0139 - val_mae: 0.0963 - val_mse: 0.0139\n",
            "Epoch 24/100\n",
            "2/2 [==============================] - 0s 45ms/step - loss: 0.0056 - mae: 0.0574 - mse: 0.0056 - val_loss: 0.0138 - val_mae: 0.1012 - val_mse: 0.0138\n",
            "Epoch 25/100\n",
            "2/2 [==============================] - 0s 63ms/step - loss: 0.0065 - mae: 0.0594 - mse: 0.0065 - val_loss: 0.0127 - val_mae: 0.0951 - val_mse: 0.0127\n",
            "Epoch 26/100\n",
            "2/2 [==============================] - 0s 58ms/step - loss: 0.0055 - mae: 0.0564 - mse: 0.0055 - val_loss: 0.0141 - val_mae: 0.1049 - val_mse: 0.0141\n",
            "Epoch 27/100\n",
            "2/2 [==============================] - 0s 62ms/step - loss: 0.0076 - mae: 0.0652 - mse: 0.0076 - val_loss: 0.0150 - val_mae: 0.1087 - val_mse: 0.0150\n",
            "Epoch 28/100\n",
            "2/2 [==============================] - 0s 49ms/step - loss: 0.0077 - mae: 0.0645 - mse: 0.0077 - val_loss: 0.0142 - val_mae: 0.1072 - val_mse: 0.0142\n",
            "Epoch 29/100\n",
            "2/2 [==============================] - 0s 58ms/step - loss: 0.0069 - mae: 0.0614 - mse: 0.0069 - val_loss: 0.0160 - val_mae: 0.1120 - val_mse: 0.0160\n",
            "Epoch 30/100\n",
            "2/2 [==============================] - 0s 42ms/step - loss: 0.0088 - mae: 0.0701 - mse: 0.0088 - val_loss: 0.0250 - val_mae: 0.1300 - val_mse: 0.0250\n",
            "Epoch 31/100\n",
            "2/2 [==============================] - 0s 43ms/step - loss: 0.0138 - mae: 0.0894 - mse: 0.0138 - val_loss: 0.0219 - val_mae: 0.1253 - val_mse: 0.0219\n",
            "Epoch 32/100\n",
            "2/2 [==============================] - 0s 43ms/step - loss: 0.0096 - mae: 0.0690 - mse: 0.0096 - val_loss: 0.0132 - val_mae: 0.0942 - val_mse: 0.0132\n",
            "Epoch 33/100\n",
            "2/2 [==============================] - 0s 47ms/step - loss: 0.0061 - mae: 0.0658 - mse: 0.0061 - val_loss: 0.0142 - val_mae: 0.0921 - val_mse: 0.0142\n",
            "Epoch 34/100\n",
            "2/2 [==============================] - 0s 59ms/step - loss: 0.0051 - mae: 0.0567 - mse: 0.0051 - val_loss: 0.0197 - val_mae: 0.1216 - val_mse: 0.0197\n",
            "Epoch 35/100\n",
            "2/2 [==============================] - 0s 55ms/step - loss: 0.0295 - mae: 0.1525 - mse: 0.0295 - val_loss: 0.0472 - val_mae: 0.1869 - val_mse: 0.0472\n",
            "Epoch 36/100\n",
            "2/2 [==============================] - 0s 57ms/step - loss: 0.0278 - mae: 0.1403 - mse: 0.0278 - val_loss: 0.0634 - val_mae: 0.2237 - val_mse: 0.0634\n",
            "Epoch 37/100\n",
            "2/2 [==============================] - 0s 61ms/step - loss: 0.0381 - mae: 0.1803 - mse: 0.0381 - val_loss: 0.0487 - val_mae: 0.1788 - val_mse: 0.0487\n",
            "Epoch 38/100\n",
            "2/2 [==============================] - 0s 65ms/step - loss: 0.0358 - mae: 0.1516 - mse: 0.0358 - val_loss: 0.0217 - val_mae: 0.1109 - val_mse: 0.0217\n",
            "Epoch 39/100\n",
            "2/2 [==============================] - 0s 61ms/step - loss: 0.0269 - mae: 0.1339 - mse: 0.0269 - val_loss: 0.0180 - val_mae: 0.1047 - val_mse: 0.0180\n",
            "Epoch 40/100\n",
            "2/2 [==============================] - 0s 61ms/step - loss: 0.0119 - mae: 0.0860 - mse: 0.0119 - val_loss: 0.0246 - val_mae: 0.1312 - val_mse: 0.0246\n",
            "Epoch 41/100\n",
            "2/2 [==============================] - 0s 60ms/step - loss: 0.0122 - mae: 0.0806 - mse: 0.0122 - val_loss: 0.0286 - val_mae: 0.1249 - val_mse: 0.0286\n",
            "Epoch 42/100\n",
            "2/2 [==============================] - 0s 56ms/step - loss: 0.0109 - mae: 0.0906 - mse: 0.0109 - val_loss: 0.0169 - val_mae: 0.1074 - val_mse: 0.0169\n",
            "Epoch 43/100\n",
            "2/2 [==============================] - 0s 47ms/step - loss: 0.0088 - mae: 0.0706 - mse: 0.0088 - val_loss: 0.0155 - val_mae: 0.1034 - val_mse: 0.0155\n",
            "Epoch 44/100\n",
            "2/2 [==============================] - 0s 55ms/step - loss: 0.0083 - mae: 0.0688 - mse: 0.0083 - val_loss: 0.0178 - val_mae: 0.0995 - val_mse: 0.0178\n",
            "Epoch 45/100\n",
            "2/2 [==============================] - 0s 57ms/step - loss: 0.0052 - mae: 0.0571 - mse: 0.0052 - val_loss: 0.0148 - val_mae: 0.1039 - val_mse: 0.0148\n",
            "Epoch 46/100\n",
            "2/2 [==============================] - 0s 70ms/step - loss: 0.0069 - mae: 0.0618 - mse: 0.0069 - val_loss: 0.0146 - val_mae: 0.0961 - val_mse: 0.0146\n",
            "Epoch 47/100\n",
            "2/2 [==============================] - 0s 44ms/step - loss: 0.0060 - mae: 0.0610 - mse: 0.0060 - val_loss: 0.0137 - val_mae: 0.1014 - val_mse: 0.0137\n",
            "Epoch 48/100\n",
            "2/2 [==============================] - 0s 59ms/step - loss: 0.0062 - mae: 0.0587 - mse: 0.0062 - val_loss: 0.0134 - val_mae: 0.0945 - val_mse: 0.0134\n",
            "Epoch 49/100\n",
            "2/2 [==============================] - 0s 57ms/step - loss: 0.0065 - mae: 0.0639 - mse: 0.0065 - val_loss: 0.0152 - val_mae: 0.1080 - val_mse: 0.0152\n",
            "Epoch 50/100\n",
            "2/2 [==============================] - 0s 52ms/step - loss: 0.0077 - mae: 0.0652 - mse: 0.0077 - val_loss: 0.0155 - val_mae: 0.0956 - val_mse: 0.0155\n",
            "Epoch 51/100\n",
            "2/2 [==============================] - 0s 50ms/step - loss: 0.0074 - mae: 0.0719 - mse: 0.0074 - val_loss: 0.0204 - val_mae: 0.1230 - val_mse: 0.0204\n",
            "Epoch 52/100\n",
            "2/2 [==============================] - 0s 46ms/step - loss: 0.0114 - mae: 0.0824 - mse: 0.0114 - val_loss: 0.0203 - val_mae: 0.1050 - val_mse: 0.0203\n",
            "Epoch 53/100\n",
            "2/2 [==============================] - 0s 64ms/step - loss: 0.0108 - mae: 0.0885 - mse: 0.0108 - val_loss: 0.0209 - val_mae: 0.1246 - val_mse: 0.0209\n",
            "Epoch 54/100\n",
            "2/2 [==============================] - 0s 62ms/step - loss: 0.0142 - mae: 0.0936 - mse: 0.0142 - val_loss: 0.0165 - val_mae: 0.0995 - val_mse: 0.0165\n",
            "Epoch 55/100\n",
            "2/2 [==============================] - 0s 44ms/step - loss: 0.0130 - mae: 0.0928 - mse: 0.0130 - val_loss: 0.0147 - val_mae: 0.1006 - val_mse: 0.0147\n",
            "Epoch 56/100\n",
            "2/2 [==============================] - 0s 54ms/step - loss: 0.0081 - mae: 0.0693 - mse: 0.0081 - val_loss: 0.0158 - val_mae: 0.1055 - val_mse: 0.0158\n",
            "Epoch 57/100\n",
            "2/2 [==============================] - 0s 57ms/step - loss: 0.0087 - mae: 0.0700 - mse: 0.0087 - val_loss: 0.0172 - val_mae: 0.1005 - val_mse: 0.0172\n",
            "Epoch 58/100\n",
            "2/2 [==============================] - 0s 64ms/step - loss: 0.0052 - mae: 0.0592 - mse: 0.0052 - val_loss: 0.0147 - val_mae: 0.1046 - val_mse: 0.0147\n",
            "Epoch 59/100\n",
            "2/2 [==============================] - 0s 44ms/step - loss: 0.0071 - mae: 0.0623 - mse: 0.0071 - val_loss: 0.0142 - val_mae: 0.0947 - val_mse: 0.0142\n",
            "Epoch 60/100\n",
            "2/2 [==============================] - 0s 44ms/step - loss: 0.0054 - mae: 0.0569 - mse: 0.0054 - val_loss: 0.0139 - val_mae: 0.1027 - val_mse: 0.0139\n",
            "Epoch 61/100\n",
            "2/2 [==============================] - 0s 32ms/step - loss: 0.0064 - mae: 0.0594 - mse: 0.0064 - val_loss: 0.0135 - val_mae: 0.0938 - val_mse: 0.0135\n",
            "Epoch 62/100\n",
            "2/2 [==============================] - 0s 32ms/step - loss: 0.0059 - mae: 0.0624 - mse: 0.0059 - val_loss: 0.0159 - val_mae: 0.1099 - val_mse: 0.0159\n",
            "Epoch 63/100\n",
            "2/2 [==============================] - 0s 32ms/step - loss: 0.0081 - mae: 0.0664 - mse: 0.0081 - val_loss: 0.0158 - val_mae: 0.0963 - val_mse: 0.0158\n",
            "Epoch 64/100\n",
            "2/2 [==============================] - 0s 33ms/step - loss: 0.0070 - mae: 0.0696 - mse: 0.0070 - val_loss: 0.0196 - val_mae: 0.1202 - val_mse: 0.0196\n",
            "Epoch 65/100\n",
            "2/2 [==============================] - 0s 36ms/step - loss: 0.0113 - mae: 0.0821 - mse: 0.0113 - val_loss: 0.0191 - val_mae: 0.1021 - val_mse: 0.0191\n",
            "Epoch 66/100\n",
            "2/2 [==============================] - 0s 50ms/step - loss: 0.0108 - mae: 0.0878 - mse: 0.0108 - val_loss: 0.0174 - val_mae: 0.1131 - val_mse: 0.0174\n",
            "Epoch 67/100\n",
            "2/2 [==============================] - 0s 50ms/step - loss: 0.0119 - mae: 0.0844 - mse: 0.0119 - val_loss: 0.0145 - val_mae: 0.0973 - val_mse: 0.0145\n",
            "Epoch 68/100\n",
            "2/2 [==============================] - 0s 34ms/step - loss: 0.0110 - mae: 0.0834 - mse: 0.0110 - val_loss: 0.0139 - val_mae: 0.0997 - val_mse: 0.0139\n",
            "Epoch 69/100\n",
            "2/2 [==============================] - 0s 33ms/step - loss: 0.0084 - mae: 0.0699 - mse: 0.0084 - val_loss: 0.0148 - val_mae: 0.0976 - val_mse: 0.0148\n",
            "Epoch 70/100\n",
            "2/2 [==============================] - 0s 31ms/step - loss: 0.0093 - mae: 0.0764 - mse: 0.0093 - val_loss: 0.0135 - val_mae: 0.0961 - val_mse: 0.0135\n",
            "Epoch 71/100\n",
            "2/2 [==============================] - 0s 31ms/step - loss: 0.0060 - mae: 0.0594 - mse: 0.0060 - val_loss: 0.0132 - val_mae: 0.0964 - val_mse: 0.0132\n",
            "Epoch 72/100\n",
            "2/2 [==============================] - 0s 32ms/step - loss: 0.0071 - mae: 0.0645 - mse: 0.0071 - val_loss: 0.0141 - val_mae: 0.0953 - val_mse: 0.0141\n",
            "Epoch 73/100\n",
            "2/2 [==============================] - 0s 32ms/step - loss: 0.0047 - mae: 0.0551 - mse: 0.0047 - val_loss: 0.0126 - val_mae: 0.0972 - val_mse: 0.0126\n",
            "Epoch 74/100\n",
            "2/2 [==============================] - 0s 33ms/step - loss: 0.0059 - mae: 0.0578 - mse: 0.0059 - val_loss: 0.0122 - val_mae: 0.0902 - val_mse: 0.0122\n",
            "Epoch 75/100\n",
            "2/2 [==============================] - 0s 32ms/step - loss: 0.0048 - mae: 0.0532 - mse: 0.0048 - val_loss: 0.0119 - val_mae: 0.0967 - val_mse: 0.0119\n",
            "Epoch 76/100\n",
            "2/2 [==============================] - 0s 55ms/step - loss: 0.0057 - mae: 0.0564 - mse: 0.0057 - val_loss: 0.0115 - val_mae: 0.0899 - val_mse: 0.0115\n",
            "Epoch 77/100\n",
            "2/2 [==============================] - 0s 57ms/step - loss: 0.0049 - mae: 0.0541 - mse: 0.0049 - val_loss: 0.0126 - val_mae: 0.0999 - val_mse: 0.0126\n",
            "Epoch 78/100\n",
            "2/2 [==============================] - 0s 48ms/step - loss: 0.0064 - mae: 0.0592 - mse: 0.0064 - val_loss: 0.0114 - val_mae: 0.0879 - val_mse: 0.0114\n",
            "Epoch 79/100\n",
            "2/2 [==============================] - 0s 33ms/step - loss: 0.0047 - mae: 0.0534 - mse: 0.0047 - val_loss: 0.0120 - val_mae: 0.0970 - val_mse: 0.0120\n",
            "Epoch 80/100\n",
            "2/2 [==============================] - 0s 32ms/step - loss: 0.0066 - mae: 0.0609 - mse: 0.0066 - val_loss: 0.0109 - val_mae: 0.0910 - val_mse: 0.0109\n",
            "Epoch 81/100\n",
            "2/2 [==============================] - 0s 32ms/step - loss: 0.0048 - mae: 0.0522 - mse: 0.0048 - val_loss: 0.0104 - val_mae: 0.0880 - val_mse: 0.0104\n",
            "Epoch 82/100\n",
            "2/2 [==============================] - 0s 32ms/step - loss: 0.0051 - mae: 0.0544 - mse: 0.0051 - val_loss: 0.0125 - val_mae: 0.0987 - val_mse: 0.0125\n",
            "Epoch 83/100\n",
            "2/2 [==============================] - 0s 35ms/step - loss: 0.0069 - mae: 0.0605 - mse: 0.0069 - val_loss: 0.0120 - val_mae: 0.0873 - val_mse: 0.0120\n",
            "Epoch 84/100\n",
            "2/2 [==============================] - 0s 37ms/step - loss: 0.0049 - mae: 0.0560 - mse: 0.0049 - val_loss: 0.0102 - val_mae: 0.0884 - val_mse: 0.0102\n",
            "Epoch 85/100\n",
            "2/2 [==============================] - 0s 32ms/step - loss: 0.0065 - mae: 0.0612 - mse: 0.0065 - val_loss: 0.0117 - val_mae: 0.0957 - val_mse: 0.0117\n",
            "Epoch 86/100\n",
            "2/2 [==============================] - 0s 32ms/step - loss: 0.0058 - mae: 0.0563 - mse: 0.0058 - val_loss: 0.0137 - val_mae: 0.0904 - val_mse: 0.0137\n",
            "Epoch 87/100\n",
            "2/2 [==============================] - 0s 51ms/step - loss: 0.0054 - mae: 0.0594 - mse: 0.0054 - val_loss: 0.0129 - val_mae: 0.1011 - val_mse: 0.0129\n",
            "Epoch 88/100\n",
            "2/2 [==============================] - 0s 48ms/step - loss: 0.0085 - mae: 0.0698 - mse: 0.0085 - val_loss: 0.0131 - val_mae: 0.0877 - val_mse: 0.0131\n",
            "Epoch 89/100\n",
            "2/2 [==============================] - 0s 33ms/step - loss: 0.0048 - mae: 0.0547 - mse: 0.0048 - val_loss: 0.0128 - val_mae: 0.0998 - val_mse: 0.0128\n",
            "Epoch 90/100\n",
            "2/2 [==============================] - 0s 33ms/step - loss: 0.0070 - mae: 0.0609 - mse: 0.0070 - val_loss: 0.0100 - val_mae: 0.0862 - val_mse: 0.0100\n",
            "Epoch 91/100\n",
            "2/2 [==============================] - 0s 50ms/step - loss: 0.0049 - mae: 0.0528 - mse: 0.0049 - val_loss: 0.0103 - val_mae: 0.0819 - val_mse: 0.0103\n",
            "Epoch 92/100\n",
            "2/2 [==============================] - 0s 32ms/step - loss: 0.0047 - mae: 0.0516 - mse: 0.0047 - val_loss: 0.0120 - val_mae: 0.0967 - val_mse: 0.0120\n",
            "Epoch 93/100\n",
            "2/2 [==============================] - 0s 33ms/step - loss: 0.0064 - mae: 0.0576 - mse: 0.0064 - val_loss: 0.0123 - val_mae: 0.0857 - val_mse: 0.0123\n",
            "Epoch 94/100\n",
            "2/2 [==============================] - 0s 33ms/step - loss: 0.0047 - mae: 0.0542 - mse: 0.0047 - val_loss: 0.0099 - val_mae: 0.0870 - val_mse: 0.0099\n",
            "Epoch 95/100\n",
            "2/2 [==============================] - 0s 38ms/step - loss: 0.0067 - mae: 0.0619 - mse: 0.0067 - val_loss: 0.0109 - val_mae: 0.0917 - val_mse: 0.0109\n",
            "Epoch 96/100\n",
            "2/2 [==============================] - 0s 33ms/step - loss: 0.0053 - mae: 0.0547 - mse: 0.0053 - val_loss: 0.0136 - val_mae: 0.0912 - val_mse: 0.0136\n",
            "Epoch 97/100\n",
            "2/2 [==============================] - 0s 37ms/step - loss: 0.0053 - mae: 0.0577 - mse: 0.0053 - val_loss: 0.0122 - val_mae: 0.0986 - val_mse: 0.0122\n",
            "Epoch 98/100\n",
            "2/2 [==============================] - 0s 32ms/step - loss: 0.0087 - mae: 0.0718 - mse: 0.0087 - val_loss: 0.0139 - val_mae: 0.0921 - val_mse: 0.0139\n",
            "Epoch 99/100\n",
            "2/2 [==============================] - 0s 34ms/step - loss: 0.0049 - mae: 0.0554 - mse: 0.0049 - val_loss: 0.0127 - val_mae: 0.0983 - val_mse: 0.0127\n",
            "Epoch 100/100\n",
            "2/2 [==============================] - 0s 38ms/step - loss: 0.0069 - mae: 0.0602 - mse: 0.0069 - val_loss: 0.0097 - val_mae: 0.0837 - val_mse: 0.0097\n"
          ]
        }
      ]
    },
    {
      "cell_type": "code",
      "source": [
        "loss = history.history['loss']\n",
        "val_loss = history.history['val_loss']\n",
        "\n",
        "epochs=range(len(loss)) \n",
        "\n",
        "\n",
        "#------------------------------------------------\n",
        "# Plot training and validation loss per epoch\n",
        "#------------------------------------------------\n",
        "plt.plot(epochs, loss, 'r',label='loss')\n",
        "plt.plot(epochs,val_loss,'blue',label='val loss')\n",
        "plt.title('Training loss & Val Loss by Epochs')\n",
        "plt.xlabel(\"Epochs\")\n",
        "plt.ylabel(\"Loss\")\n",
        "plt.legend()\n",
        "plt.figure()\n",
        "plt.savefig('OptTLV.png')"
      ],
      "metadata": {
        "colab": {
          "base_uri": "https://localhost:8080/",
          "height": 401
        },
        "id": "111Wk34x4Ikr",
        "outputId": "d66936f1-338e-4984-c7ef-cb405ad72988"
      },
      "execution_count": 66,
      "outputs": [
        {
          "output_type": "display_data",
          "data": {
            "text/plain": [
              "<Figure size 720x360 with 1 Axes>"
            ],
            "image/png": "[encoded data removed]"
          },
          "metadata": {}
        },
        {
          "output_type": "display_data",
          "data": {
            "text/plain": [
              "<Figure size 720x360 with 0 Axes>"
            ]
          },
          "metadata": {}
        }
      ]
    },
    {
      "cell_type": "code",
      "source": [
        "y_predTU = tumlp_model.predict(X_test_mlp)\n",
        "y_predTU"
      ],
      "metadata": {
        "colab": {
          "base_uri": "https://localhost:8080/"
        },
        "id": "sQb5XKIk4Ipc",
        "outputId": "d8725d94-ffc6-4731-b9fd-f00d0e3cfd37"
      },
      "execution_count": 74,
      "outputs": [
        {
          "output_type": "stream",
          "name": "stdout",
          "text": [
            "1/1 [==============================] - 1s 526ms/step\n"
          ]
        },
        {
          "output_type": "execute_result",
          "data": {
            "text/plain": [
              "array([[ 0.02882143],\n",
              "       [ 0.09401076],\n",
              "       [ 0.14195369],\n",
              "       [-0.02122882],\n",
              "       [ 0.00624708],\n",
              "       [-0.011721  ],\n",
              "       [-0.03052041],\n",
              "       [-0.0812713 ],\n",
              "       [-0.1677808 ],\n",
              "       [-0.13453399],\n",
              "       [-0.12363759],\n",
              "       [-0.1650558 ],\n",
              "       [-0.19432425],\n",
              "       [-0.14069307],\n",
              "       [-0.16916952],\n",
              "       [-0.21376623],\n",
              "       [-0.13261858],\n",
              "       [ 0.06823392],\n",
              "       [ 0.10126897],\n",
              "       [-0.06206907],\n",
              "       [-0.10115486],\n",
              "       [ 0.05339438]], dtype=float32)"
            ]
          },
          "metadata": {},
          "execution_count": 74
        }
      ]
    },
    {
      "cell_type": "code",
      "source": [
        "y_predTU.reshape(1,-1)"
      ],
      "metadata": {
        "colab": {
          "base_uri": "https://localhost:8080/"
        },
        "id": "NRcTp1Zc6C3p",
        "outputId": "c3a2a78d-6386-4dc9-c915-787f25241b1e"
      },
      "execution_count": 75,
      "outputs": [
        {
          "output_type": "execute_result",
          "data": {
            "text/plain": [
              "array([[ 0.02882143,  0.09401076,  0.14195369, -0.02122882,  0.00624708,\n",
              "        -0.011721  , -0.03052041, -0.0812713 , -0.1677808 , -0.13453399,\n",
              "        -0.12363759, -0.1650558 , -0.19432425, -0.14069307, -0.16916952,\n",
              "        -0.21376623, -0.13261858,  0.06823392,  0.10126897, -0.06206907,\n",
              "        -0.10115486,  0.05339438]], dtype=float32)"
            ]
          },
          "metadata": {},
          "execution_count": 75
        }
      ]
    },
    {
      "cell_type": "code",
      "source": [
        "y_train_inv = cpo_pri_transformer.inverse_transform(y_train.reshape(1, -1))\n",
        "y_test_inv = cpo_pri_transformer.inverse_transform(y_test.reshape(1, -1))\n",
        "y_pred_inv = cpo_pri_transformer.inverse_transform(y_predTU.reshape(1,-1))\n",
        "print(y_train_inv)\n",
        "print(y_test_inv)\n",
        "print(y_pred_inv)"
      ],
      "metadata": {
        "colab": {
          "base_uri": "https://localhost:8080/"
        },
        "id": "n1DAOeoS6PZz",
        "outputId": "6012cb31-a394-4456-8e0a-99b8ff637efe"
      },
      "execution_count": 76,
      "outputs": [
        {
          "output_type": "stream",
          "name": "stdout",
          "text": [
            "[[376. 383. 382. 396. 402. 390. 404. 382. 382. 391. 396. 413. 401. 410.\n",
            "  425. 408. 392. 371. 356. 362. 356. 352. 333. 357. 411. 404. 387. 395.\n",
            "  434. 488. 508. 494. 575. 614. 616. 707. 719. 655. 661. 687. 625. 611.\n",
            "  631. 655. 616. 586. 615. 607. 590. 535. 518. 519. 562. 552. 508. 476.\n",
            "  513. 545. 532. 550. 561. 567. 580. 559. 562. 553. 533. 498. 504. 525.\n",
            "  547. 556. 566. 621. 659. 671. 688. 705. 633. 661. 674. 703. 694. 681.\n",
            "  663. 632. 561. 497. 509. 475. 392. 319. 354. 388. 381. 370.]]\n",
            "[[349. 372. 324. 315. 312. 306. 288. 255. 257. 265. 254. 240. 254. 251.\n",
            "  234. 255. 330. 362. 310. 277. 323. 360.]]\n",
            "[[330.52856 356.6043  375.7815  310.50845 321.4988  314.31158 306.79184\n",
            "  286.4915  251.88768 265.1864  269.54495 252.97768 241.27031 262.72278\n",
            "  251.33218 233.49352 265.95258 346.29358 359.5076  294.1724  278.53806\n",
            "  340.35776]]\n"
          ]
        }
      ]
    },
    {
      "cell_type": "code",
      "source": [
        "y_train_inv = y_train_inv.flatten()\n",
        "y_train_inv"
      ],
      "metadata": {
        "colab": {
          "base_uri": "https://localhost:8080/"
        },
        "id": "VTgpPe5A6Ped",
        "outputId": "86e2ede9-949d-4e01-9303-e9264ddeec92"
      },
      "execution_count": 77,
      "outputs": [
        {
          "output_type": "execute_result",
          "data": {
            "text/plain": [
              "array([376., 383., 382., 396., 402., 390., 404., 382., 382., 391., 396.,\n",
              "       413., 401., 410., 425., 408., 392., 371., 356., 362., 356., 352.,\n",
              "       333., 357., 411., 404., 387., 395., 434., 488., 508., 494., 575.,\n",
              "       614., 616., 707., 719., 655., 661., 687., 625., 611., 631., 655.,\n",
              "       616., 586., 615., 607., 590., 535., 518., 519., 562., 552., 508.,\n",
              "       476., 513., 545., 532., 550., 561., 567., 580., 559., 562., 553.,\n",
              "       533., 498., 504., 525., 547., 556., 566., 621., 659., 671., 688.,\n",
              "       705., 633., 661., 674., 703., 694., 681., 663., 632., 561., 497.,\n",
              "       509., 475., 392., 319., 354., 388., 381., 370.])"
            ]
          },
          "metadata": {},
          "execution_count": 77
        }
      ]
    },
    {
      "cell_type": "code",
      "source": [
        "y_test_inv = y_test_inv.flatten()\n",
        "y_test_inv"
      ],
      "metadata": {
        "colab": {
          "base_uri": "https://localhost:8080/"
        },
        "id": "XfPm6D_g6PjI",
        "outputId": "aa69bc1c-fdc2-42c9-8c71-65d760c72722"
      },
      "execution_count": 78,
      "outputs": [
        {
          "output_type": "execute_result",
          "data": {
            "text/plain": [
              "array([349., 372., 324., 315., 312., 306., 288., 255., 257., 265., 254.,\n",
              "       240., 254., 251., 234., 255., 330., 362., 310., 277., 323., 360.])"
            ]
          },
          "metadata": {},
          "execution_count": 78
        }
      ]
    },
    {
      "cell_type": "code",
      "source": [
        "TU_MLP_Pred = y_pred_inv.flatten()   \n",
        "TU_MLP_Pred"
      ],
      "metadata": {
        "colab": {
          "base_uri": "https://localhost:8080/"
        },
        "id": "XGN_nrk-6Z5i",
        "outputId": "a8b52c2f-b926-4b6e-ea04-51c328f49250"
      },
      "execution_count": 79,
      "outputs": [
        {
          "output_type": "execute_result",
          "data": {
            "text/plain": [
              "array([330.52856, 356.6043 , 375.7815 , 310.50845, 321.4988 , 314.31158,\n",
              "       306.79184, 286.4915 , 251.88768, 265.1864 , 269.54495, 252.97768,\n",
              "       241.27031, 262.72278, 251.33218, 233.49352, 265.95258, 346.29358,\n",
              "       359.5076 , 294.1724 , 278.53806, 340.35776], dtype=float32)"
            ]
          },
          "metadata": {},
          "execution_count": 79
        }
      ]
    },
    {
      "cell_type": "code",
      "source": [
        "plt.plot(np.arange(0, len(y_train)), y_train_inv, color='green', label=\"History\")\n",
        "plt.plot(np.arange(len(y_train), len(y_train) + len(y_test)), y_test_inv, color='blue', marker='.', label=\"Actual\")\n",
        "plt.plot(np.arange(len(y_train), len(y_train) + len(y_test)), TU_MLP_Pred, color='red', label=\"Optimized MLP Prediction\")\n",
        "plt.ylabel('Crude Palm Oil Price')\n",
        "plt.xlabel('Time step')\n",
        "plt.legend()\n",
        "plt.show();\n",
        "plt.savefig('MLPOpt.png')"
      ],
      "metadata": {
        "colab": {
          "base_uri": "https://localhost:8080/",
          "height": 380
        },
        "id": "uywRyWjf6Z90",
        "outputId": "a3beb082-0cd2-4e79-fdef-75cc9783a636"
      },
      "execution_count": 82,
      "outputs": [
        {
          "output_type": "display_data",
          "data": {
            "text/plain": [
              "<Figure size 720x360 with 1 Axes>"
            ],
            "image/png": "[encoded data removed]"
          },
          "metadata": {}
        },
        {
          "output_type": "display_data",
          "data": {
            "text/plain": [
              "<Figure size 720x360 with 0 Axes>"
            ]
          },
          "metadata": {}
        }
      ]
    },
    {
      "cell_type": "markdown",
      "source": [
        "###Evaluate MLP Model Accuracy"
      ],
      "metadata": {
        "id": "1NImON2RmyWF"
      }
    },
    {
      "cell_type": "code",
      "source": [
        "MAE_MLP = mean_absolute_error(y_test_inv, y_pred_inv)\n",
        "print('MAE value of the MLP Model is:', MAE_MLP)\n",
        "\n",
        "MDA_MLP = mda(y_test_inv, y_pred_inv)\n",
        "print('MDA value of the MLP Model is:', MDA_MLP)\n",
        "\n",
        "MAPE_MLP = mean_absolute_percentage_error(y_test_inv, y_pred_inv)\n",
        "print('MAPE value of the MLP Model is:', MAPE_MLP)\n",
        "\n",
        "RMSE_MLP = mean_squared_error(y_test_inv,y_pred_inv, squared=False)\n",
        "print('RMSE value of the MLP Model is:', RMSE_MLP)\n",
        "\n",
        "MSE_MLP = mean_squared_error(y_test_inv,y_pred_inv)\n",
        "print('MSE value of the MLP Model is:', MSE_MLP)\n",
        "\n",
        "#EVS_MLP = explained_variance_score(y_test_inv, y_pred_inv)\n",
        "#print('EVS score of the MLP Model is:', EVS_MLP)"
      ],
      "metadata": {
        "colab": {
          "base_uri": "https://localhost:8080/",
          "height": 387
        },
        "id": "fIc5ITw4m2QJ",
        "outputId": "fd6c737d-714c-4c90-8293-a32a7dd5ebe5"
      },
      "execution_count": 81,
      "outputs": [
        {
          "output_type": "error",
          "ename": "ValueError",
          "evalue": "ignored",
          "traceback": [
            "\u001b[0;31m---------------------------------------------------------------------------\u001b[0m",
            "\u001b[0;31mValueError\u001b[0m                                Traceback (most recent call last)",
            "\u001b[0;32m<ipython-input-81-5624e94a1443>\u001b[0m in \u001b[0;36m<module>\u001b[0;34m\u001b[0m\n\u001b[0;32m----> 1\u001b[0;31m \u001b[0mMAE_MLP\u001b[0m \u001b[0;34m=\u001b[0m \u001b[0mmean_absolute_error\u001b[0m\u001b[0;34m(\u001b[0m\u001b[0my_test_inv\u001b[0m\u001b[0;34m,\u001b[0m \u001b[0my_pred_inv\u001b[0m\u001b[0;34m)\u001b[0m\u001b[0;34m\u001b[0m\u001b[0;34m\u001b[0m\u001b[0m\n\u001b[0m\u001b[1;32m      2\u001b[0m \u001b[0mprint\u001b[0m\u001b[0;34m(\u001b[0m\u001b[0;34m'MAE value of the MLP Model is:'\u001b[0m\u001b[0;34m,\u001b[0m \u001b[0mMAE_MLP\u001b[0m\u001b[0;34m)\u001b[0m\u001b[0;34m\u001b[0m\u001b[0;34m\u001b[0m\u001b[0m\n\u001b[1;32m      3\u001b[0m \u001b[0;34m\u001b[0m\u001b[0m\n\u001b[1;32m      4\u001b[0m \u001b[0mMDA_MLP\u001b[0m \u001b[0;34m=\u001b[0m \u001b[0mmda\u001b[0m\u001b[0;34m(\u001b[0m\u001b[0my_test_inv\u001b[0m\u001b[0;34m,\u001b[0m \u001b[0my_pred_inv\u001b[0m\u001b[0;34m)\u001b[0m\u001b[0;34m\u001b[0m\u001b[0;34m\u001b[0m\u001b[0m\n\u001b[1;32m      5\u001b[0m \u001b[0mprint\u001b[0m\u001b[0;34m(\u001b[0m\u001b[0;34m'MDA value of the MLP Model is:'\u001b[0m\u001b[0;34m,\u001b[0m \u001b[0mMDA_MLP\u001b[0m\u001b[0;34m)\u001b[0m\u001b[0;34m\u001b[0m\u001b[0;34m\u001b[0m\u001b[0m\n",
            "\u001b[0;32m/usr/local/lib/python3.8/dist-packages/sklearn/metrics/_regression.py\u001b[0m in \u001b[0;36mmean_absolute_error\u001b[0;34m(y_true, y_pred, sample_weight, multioutput)\u001b[0m\n\u001b[1;32m    189\u001b[0m     \u001b[0;36m0.85\u001b[0m\u001b[0;34m...\u001b[0m\u001b[0;34m\u001b[0m\u001b[0;34m\u001b[0m\u001b[0m\n\u001b[1;32m    190\u001b[0m     \"\"\"\n\u001b[0;32m--> 191\u001b[0;31m     y_type, y_true, y_pred, multioutput = _check_reg_targets(\n\u001b[0m\u001b[1;32m    192\u001b[0m         \u001b[0my_true\u001b[0m\u001b[0;34m,\u001b[0m \u001b[0my_pred\u001b[0m\u001b[0;34m,\u001b[0m \u001b[0mmultioutput\u001b[0m\u001b[0;34m\u001b[0m\u001b[0;34m\u001b[0m\u001b[0m\n\u001b[1;32m    193\u001b[0m     )\n",
            "\u001b[0;32m/usr/local/lib/python3.8/dist-packages/sklearn/metrics/_regression.py\u001b[0m in \u001b[0;36m_check_reg_targets\u001b[0;34m(y_true, y_pred, multioutput, dtype)\u001b[0m\n\u001b[1;32m     92\u001b[0m         \u001b[0mthe\u001b[0m \u001b[0mdtype\u001b[0m \u001b[0margument\u001b[0m \u001b[0mpassed\u001b[0m \u001b[0mto\u001b[0m \u001b[0mcheck_array\u001b[0m\u001b[0;34m.\u001b[0m\u001b[0;34m\u001b[0m\u001b[0;34m\u001b[0m\u001b[0m\n\u001b[1;32m     93\u001b[0m     \"\"\"\n\u001b[0;32m---> 94\u001b[0;31m     \u001b[0mcheck_consistent_length\u001b[0m\u001b[0;34m(\u001b[0m\u001b[0my_true\u001b[0m\u001b[0;34m,\u001b[0m \u001b[0my_pred\u001b[0m\u001b[0;34m)\u001b[0m\u001b[0;34m\u001b[0m\u001b[0;34m\u001b[0m\u001b[0m\n\u001b[0m\u001b[1;32m     95\u001b[0m     \u001b[0my_true\u001b[0m \u001b[0;34m=\u001b[0m \u001b[0mcheck_array\u001b[0m\u001b[0;34m(\u001b[0m\u001b[0my_true\u001b[0m\u001b[0;34m,\u001b[0m \u001b[0mensure_2d\u001b[0m\u001b[0;34m=\u001b[0m\u001b[0;32mFalse\u001b[0m\u001b[0;34m,\u001b[0m \u001b[0mdtype\u001b[0m\u001b[0;34m=\u001b[0m\u001b[0mdtype\u001b[0m\u001b[0;34m)\u001b[0m\u001b[0;34m\u001b[0m\u001b[0;34m\u001b[0m\u001b[0m\n\u001b[1;32m     96\u001b[0m     \u001b[0my_pred\u001b[0m \u001b[0;34m=\u001b[0m \u001b[0mcheck_array\u001b[0m\u001b[0;34m(\u001b[0m\u001b[0my_pred\u001b[0m\u001b[0;34m,\u001b[0m \u001b[0mensure_2d\u001b[0m\u001b[0;34m=\u001b[0m\u001b[0;32mFalse\u001b[0m\u001b[0;34m,\u001b[0m \u001b[0mdtype\u001b[0m\u001b[0;34m=\u001b[0m\u001b[0mdtype\u001b[0m\u001b[0;34m)\u001b[0m\u001b[0;34m\u001b[0m\u001b[0;34m\u001b[0m\u001b[0m\n",
            "\u001b[0;32m/usr/local/lib/python3.8/dist-packages/sklearn/utils/validation.py\u001b[0m in \u001b[0;36mcheck_consistent_length\u001b[0;34m(*arrays)\u001b[0m\n\u001b[1;32m    330\u001b[0m     \u001b[0muniques\u001b[0m \u001b[0;34m=\u001b[0m \u001b[0mnp\u001b[0m\u001b[0;34m.\u001b[0m\u001b[0munique\u001b[0m\u001b[0;34m(\u001b[0m\u001b[0mlengths\u001b[0m\u001b[0;34m)\u001b[0m\u001b[0;34m\u001b[0m\u001b[0;34m\u001b[0m\u001b[0m\n\u001b[1;32m    331\u001b[0m     \u001b[0;32mif\u001b[0m \u001b[0mlen\u001b[0m\u001b[0;34m(\u001b[0m\u001b[0muniques\u001b[0m\u001b[0;34m)\u001b[0m \u001b[0;34m>\u001b[0m \u001b[0;36m1\u001b[0m\u001b[0;34m:\u001b[0m\u001b[0;34m\u001b[0m\u001b[0;34m\u001b[0m\u001b[0m\n\u001b[0;32m--> 332\u001b[0;31m         raise ValueError(\n\u001b[0m\u001b[1;32m    333\u001b[0m             \u001b[0;34m\"Found input variables with inconsistent numbers of samples: %r\"\u001b[0m\u001b[0;34m\u001b[0m\u001b[0;34m\u001b[0m\u001b[0m\n\u001b[1;32m    334\u001b[0m             \u001b[0;34m%\u001b[0m \u001b[0;34m[\u001b[0m\u001b[0mint\u001b[0m\u001b[0;34m(\u001b[0m\u001b[0ml\u001b[0m\u001b[0;34m)\u001b[0m \u001b[0;32mfor\u001b[0m \u001b[0ml\u001b[0m \u001b[0;32min\u001b[0m \u001b[0mlengths\u001b[0m\u001b[0;34m]\u001b[0m\u001b[0;34m\u001b[0m\u001b[0;34m\u001b[0m\u001b[0m\n",
            "\u001b[0;31mValueError\u001b[0m: Found input variables with inconsistent numbers of samples: [22, 1]"
          ]
        }
      ]
    },
    {
      "cell_type": "markdown",
      "source": [
        "###Tuning MLP with Keras Tuner"
      ],
      "metadata": {
        "id": "fs98oM36Yw_r"
      }
    },
    {
      "cell_type": "markdown",
      "source": [
        "Define A Model-Building Class"
      ],
      "metadata": {
        "id": "UHH-Phuz1M-L"
      }
    },
    {
      "cell_type": "code",
      "source": [
        "#class ANNhypermodel(HyperModel):\n",
        "class MLPHyperModel(HyperModel):\n",
        "    \n",
        "    def __init__(self, input_shape):\n",
        "        self.input_shape= input_shape\n",
        "        \n",
        "    def build(self, hp):\n",
        "        model= keras.Sequential()\n",
        "        \n",
        "        # Tune the number of units in the first Dense layer\n",
        "        # Defining dense units as a close approx to the original neural network to perform a fair comparision!\n",
        "      \n",
        "        hp_units_1= hp.Int('units_1', min_value=128, max_value= 160, step=32)\n",
        "        hp_units_2= hp.Int('units_2', min_value=64, max_value= 128, step=32)\n",
        "        #hp_units_3= hp.Int('units_3', min_value=32, max_value= 64, step=16)\n",
        "        #hp_units_4= hp.Int('units_4', min_value=16, max_value= 32, step=8)\n",
        "\n",
        "        model.add(keras.layers.Dense(units=hp_units_1, input_shape= self.input_shape))\n",
        "        model.add(keras.layers.Dense(units=hp_units_2))\n",
        "        #model.add(keras.layers.Dense(units=hp_units_3, activation='tanh'))\n",
        "        #model.add(keras.layers.Dense(units=hp_units_4, activation='tanh'))\n",
        "        model.add(keras.layers.Dense(1))\n",
        "        #Tune the dropout\n",
        "        model.add(\n",
        "            Dropout(\n",
        "                rate=hp.Float(\n",
        "                    'dropout',\n",
        "                    min_value=0.0,\n",
        "                    max_value=0.5,\n",
        "                    default=0.25,\n",
        "                    step=0.05\n",
        "                )\n",
        "            )\n",
        "        )\n",
        "        \n",
        "        # Tune the epoch for the optimizer\n",
        "\n",
        "        #batch_size = hp.Int('batch_size',8,16,24,32,40,48,56,64,72,80,88,96, step=8)\n",
        "        \n",
        "        optimizers = hp.Choice('optimizer',values=['rmsprop','adam', 'AdamW', 'nadam','sgd','adadelta','adagrad'])\n",
        "\n",
        "        hp_dense_activation = hp.Choice('activation',values=['relu', 'tanh', 'sigmoid', 'linear', 'Softmax', 'ELU', 'linear'])\n",
        "\n",
        "        # Tune the batch size for the optimizer \n",
        "        hp_batch_size = hp.Int('batch_size', min_value = 8, max_value = 96, step = 8, default=8)\n",
        "        \n",
        "        # Tune the epoch for the optimizer\n",
        "        hp_epoch = hp.Int('epoch', min_value = 5, max_value = 100, step = 5, default=5)\n",
        "\n",
        "        # Tune the epoch for the momentum\n",
        "        hp_momentum = hp.Float('momentum', min_value = 0.8, max_value = 0.99, step = 0.01, default=0.9)\n",
        "\n",
        "        # Tune the epoch for the decay\n",
        "        hp_decay = hp.Float('decay', min_value = 1e-9, max_value = 1e-3, step= 0.0001, default=1e-7)\n",
        "\n",
        "        # Tune the learning rate for the optimizer \n",
        "        hp_learning_rate=hp.Float('learning_rate', min_value=1e-4, max_value=1e-2, sampling='LOG', default= 0.0005)\n",
        "       # -------------------------------------------------------\n",
        "        model.compile(loss='mse',\n",
        "                    optimizer= keras.optimizers.Adam(learning_rate=hp_learning_rate),\n",
        "                    metrics= ['mae','mse']\n",
        "                     )\n",
        "\n",
        "        return model\n",
        "\n",
        "#hypermodel= ANNhypermodel(input_shape = (X_test.shape[1], X_test.shape[2]))\n",
        "hypermodel = MLPHyperModel(input_shape = (X_test.shape[1], X_test.shape[2]))"
      ],
      "metadata": {
        "id": "6sH3KVfoj7jq"
      },
      "execution_count": null,
      "outputs": []
    },
    {
      "cell_type": "markdown",
      "source": [
        "###Build Random Search Tuner"
      ],
      "metadata": {
        "id": "Vw6sRopRkNq-"
      }
    },
    {
      "cell_type": "code",
      "source": [
        "tuner_rs = RandomSearch(\n",
        "            hypermodel,\n",
        "            objective='mse',\n",
        "            seed=42,\n",
        "            max_trials=10,\n",
        "            executions_per_trial=2, overwrite=True\n",
        "        )"
      ],
      "metadata": {
        "id": "oPWNkr_dj7ng"
      },
      "execution_count": null,
      "outputs": []
    },
    {
      "cell_type": "markdown",
      "source": [
        "###Run Random Search"
      ],
      "metadata": {
        "id": "UH8vIpuOkl0V"
      }
    },
    {
      "cell_type": "code",
      "source": [
        "tuner_rs.search(X_train, y_train, epochs=16, validation_split=0.2, verbose=0)"
      ],
      "metadata": {
        "id": "XC6nlTF4j7rN"
      },
      "execution_count": null,
      "outputs": []
    },
    {
      "cell_type": "markdown",
      "source": [
        "###Evaluate Random Search"
      ],
      "metadata": {
        "id": "ZWc0whe7l-_0"
      }
    },
    {
      "cell_type": "code",
      "source": [
        "best_model = tuner_rs.get_best_models(num_models=1)[0]\n",
        "mse_rs = best_model.evaluate(X_test, y_test)[1]"
      ],
      "metadata": {
        "colab": {
          "base_uri": "https://localhost:8080/"
        },
        "id": "V0u8mTuTj7wl",
        "outputId": "fc8eb57b-ecf7-4b09-c667-7f44c57c647f"
      },
      "execution_count": null,
      "outputs": [
        {
          "output_type": "stream",
          "name": "stdout",
          "text": [
            "1/1 [==============================] - 1s 1s/step - loss: 0.0511 - mae: 0.1861 - mse: 0.0511\n"
          ]
        }
      ]
    },
    {
      "cell_type": "markdown",
      "source": [
        "####Random Search MSE = 0.0511"
      ],
      "metadata": {
        "id": "9jgCzQ74mQjM"
      }
    },
    {
      "cell_type": "code",
      "source": [
        "best_params = tuner_rs.get_best_hyperparameters()\n",
        "\n",
        "best_params[0].values"
      ],
      "metadata": {
        "colab": {
          "base_uri": "https://localhost:8080/"
        },
        "id": "jJ5NIqxpj72V",
        "outputId": "2bc8df62-e22a-4fd2-bca6-31e6ae0a62bd"
      },
      "execution_count": null,
      "outputs": [
        {
          "output_type": "execute_result",
          "data": {
            "text/plain": [
              "{'units_1': 128,\n",
              " 'units_2': 64,\n",
              " 'dropout': 0.1,\n",
              " 'optimizer': 'adagrad',\n",
              " 'activation': 'ELU',\n",
              " 'batch_size': 24,\n",
              " 'epoch': 75,\n",
              " 'momentum': 0.9700000000000001,\n",
              " 'decay': 0.000500001,\n",
              " 'learning_rate': 0.00014948684422968163}"
            ]
          },
          "metadata": {},
          "execution_count": 83
        }
      ]
    },
    {
      "cell_type": "markdown",
      "source": [
        "###Build Bayesian Optimization"
      ],
      "metadata": {
        "id": "AxWQfBYpnLjI"
      }
    },
    {
      "cell_type": "code",
      "source": [
        "tuner_bo = BayesianOptimization(\n",
        "            hypermodel,\n",
        "            objective='val_mse',\n",
        "            max_trials=10,\n",
        "            seed=42,\n",
        "            executions_per_trial=2,\n",
        "            directory='bo'\n",
        "        )"
      ],
      "metadata": {
        "id": "uixpiCLPmsaZ"
      },
      "execution_count": null,
      "outputs": []
    },
    {
      "cell_type": "markdown",
      "source": [
        "###Run Bayesian Optimization"
      ],
      "metadata": {
        "id": "_lTWVuDcoYU9"
      }
    },
    {
      "cell_type": "code",
      "source": [
        "tuner_bo.search(X_train, y_train, epochs=10, validation_split=0.2, verbose=0)\n",
        "\n",
        "best_model = tuner_bo.get_best_models(num_models=1)[0]\n",
        "mse_bo = best_model.evaluate(X_test, y_test)[1]"
      ],
      "metadata": {
        "id": "L6qZa1Kvmsgn",
        "outputId": "8febab6f-68f0-49a0-ec65-f58318b0fd1a",
        "colab": {
          "base_uri": "https://localhost:8080/"
        }
      },
      "execution_count": null,
      "outputs": [
        {
          "output_type": "stream",
          "name": "stdout",
          "text": [
            "1/1 [==============================] - 0s 302ms/step - loss: 0.1467 - mae: 0.3637 - mse: 0.1467\n"
          ]
        }
      ]
    },
    {
      "cell_type": "markdown",
      "source": [
        "###Bayesian Optimization Search MSE = 0.1467"
      ],
      "metadata": {
        "id": "KiNYUG96ZUIz"
      }
    },
    {
      "cell_type": "markdown",
      "source": [
        "###Evaluate Bayesian Optimization"
      ],
      "metadata": {
        "id": "Ppb8qezeoe7c"
      }
    },
    {
      "cell_type": "code",
      "source": [
        "best_params = tuner_bo.get_best_hyperparameters()\n",
        "\n",
        "best_params[0].values"
      ],
      "metadata": {
        "colab": {
          "base_uri": "https://localhost:8080/"
        },
        "id": "0bDWDTrOmsm1",
        "outputId": "b39742dc-8abe-4d01-f6c7-077ddeefa9b8"
      },
      "execution_count": null,
      "outputs": [
        {
          "output_type": "execute_result",
          "data": {
            "text/plain": [
              "{'units_1': 128,\n",
              " 'units_2': 128,\n",
              " 'dropout': 0.25,\n",
              " 'optimizer': 'adadelta',\n",
              " 'activation': 'sigmoid',\n",
              " 'batch_size': 24,\n",
              " 'epoch': 40,\n",
              " 'momentum': 0.8700000000000001,\n",
              " 'decay': 0.00010000100000000001,\n",
              " 'learning_rate': 0.001453129317743269}"
            ]
          },
          "metadata": {},
          "execution_count": 86
        }
      ]
    },
    {
      "cell_type": "code",
      "source": [
        "best_model = tuner_bo.get_best_models(num_models=1)[0]\n",
        "mse_bo = best_model.evaluate(X_test, y_test)[1]"
      ],
      "metadata": {
        "colab": {
          "base_uri": "https://localhost:8080/"
        },
        "id": "odraTQ8KbUw9",
        "outputId": "e02351ca-e97e-414d-bf1c-787e47212271"
      },
      "execution_count": null,
      "outputs": [
        {
          "output_type": "stream",
          "name": "stderr",
          "text": [
            "WARNING:tensorflow:Detecting that an object or model or tf.train.Checkpoint is being deleted with unrestored values. See the following logs for the specific values in question. To silence these warnings, use `status.expect_partial()`. See https://www.tensorflow.org/api_docs/python/tf/train/Checkpoint#restorefor details about the status object returned by the restore function.\n",
            "WARNING:tensorflow:Value in checkpoint could not be found in the restored object: (root).optimizer._variables.1\n",
            "WARNING:tensorflow:Value in checkpoint could not be found in the restored object: (root).optimizer._variables.2\n",
            "WARNING:tensorflow:Value in checkpoint could not be found in the restored object: (root).optimizer._variables.3\n",
            "WARNING:tensorflow:Value in checkpoint could not be found in the restored object: (root).optimizer._variables.4\n",
            "WARNING:tensorflow:Value in checkpoint could not be found in the restored object: (root).optimizer._variables.5\n",
            "WARNING:tensorflow:Value in checkpoint could not be found in the restored object: (root).optimizer._variables.6\n",
            "WARNING:tensorflow:Value in checkpoint could not be found in the restored object: (root).optimizer._variables.7\n",
            "WARNING:tensorflow:Value in checkpoint could not be found in the restored object: (root).optimizer._variables.8\n",
            "WARNING:tensorflow:Value in checkpoint could not be found in the restored object: (root).optimizer._variables.9\n",
            "WARNING:tensorflow:Value in checkpoint could not be found in the restored object: (root).optimizer._variables.10\n",
            "WARNING:tensorflow:Value in checkpoint could not be found in the restored object: (root).optimizer._variables.11\n",
            "WARNING:tensorflow:Value in checkpoint could not be found in the restored object: (root).optimizer._variables.12\n"
          ]
        },
        {
          "output_type": "stream",
          "name": "stdout",
          "text": [
            "1/1 [==============================] - 0s 305ms/step - loss: 0.1467 - mae: 0.3637 - mse: 0.1467\n"
          ]
        }
      ]
    },
    {
      "cell_type": "markdown",
      "source": [
        "###Build HYPERBAND optimization"
      ],
      "metadata": {
        "id": "9rYL672xrXtU"
      }
    },
    {
      "cell_type": "code",
      "source": [
        "MAX_TRIALS = 20\n",
        "tuner= RandomSearch(hypermodel,\n",
        "               objective= 'val_mse',\n",
        "               max_trials= MAX_TRIALS,\n",
        "               executions_per_trial= 2,\n",
        "               directory= 'random_search',\n",
        "               project_name='randomsearch',\n",
        "               overwrite=True)"
      ],
      "metadata": {
        "id": "CqxbIHGxmstL"
      },
      "execution_count": null,
      "outputs": []
    },
    {
      "cell_type": "code",
      "source": [
        "HYPERBAND_MAX_EPOCHS = 150\n",
        "EXECUTION_PER_TRIAL = 2\n",
        "\n",
        "tuner= Hyperband(hypermodel,\n",
        "                   objective= 'val_mse',\n",
        "                   max_epochs=HYPERBAND_MAX_EPOCHS, #Set 100+ for good results\n",
        "                   executions_per_trial=EXECUTION_PER_TRIAL,\n",
        "                   directory= 'hyperband',\n",
        "                   project_name='hyper',\n",
        "                   overwrite=True)\n",
        "\n",
        "# tuner.search_space_summary()"
      ],
      "metadata": {
        "id": "eaGs4DAFosPl"
      },
      "execution_count": null,
      "outputs": []
    },
    {
      "cell_type": "code",
      "source": [
        "print('searching for the best params!')\n",
        "\n",
        "t0 = time()\n",
        "tuner.search(x= X_train,\n",
        "             y= y_train,\n",
        "             epochs=100,\n",
        "             batch_size= 64,\n",
        "             validation_data= (X_test, y_test),\n",
        "             verbose=0,\n",
        "             callbacks= []\n",
        "            )\n",
        "print(time()- t0,\" secs\")\n",
        "\n",
        "# Retreive the optimal hyperparameters\n",
        "best_hps= tuner.get_best_hyperparameters(num_trials=1)[0]\n",
        "\n",
        "# Retrieve the best model\n",
        "best_model = tuner.get_best_models(num_models=1)[0]"
      ],
      "metadata": {
        "colab": {
          "base_uri": "https://localhost:8080/"
        },
        "id": "NXf_LR3mosWn",
        "outputId": "53c19f96-8ee4-4df0-acae-b31a16974ea0"
      },
      "execution_count": null,
      "outputs": [
        {
          "output_type": "stream",
          "name": "stdout",
          "text": [
            "searching for the best params!\n"
          ]
        },
        {
          "output_type": "stream",
          "name": "stderr",
          "text": [
            "WARNING:tensorflow:Detecting that an object or model or tf.train.Checkpoint is being deleted with unrestored values. See the following logs for the specific values in question. To silence these warnings, use `status.expect_partial()`. See https://www.tensorflow.org/api_docs/python/tf/train/Checkpoint#restorefor details about the status object returned by the restore function.\n",
            "WARNING:tensorflow:Value in checkpoint could not be found in the restored object: (root).optimizer._variables.1\n",
            "WARNING:tensorflow:Value in checkpoint could not be found in the restored object: (root).optimizer._variables.2\n",
            "WARNING:tensorflow:Value in checkpoint could not be found in the restored object: (root).optimizer._variables.3\n",
            "WARNING:tensorflow:Value in checkpoint could not be found in the restored object: (root).optimizer._variables.4\n",
            "WARNING:tensorflow:Value in checkpoint could not be found in the restored object: (root).optimizer._variables.5\n",
            "WARNING:tensorflow:Value in checkpoint could not be found in the restored object: (root).optimizer._variables.6\n",
            "WARNING:tensorflow:Value in checkpoint could not be found in the restored object: (root).optimizer._variables.7\n",
            "WARNING:tensorflow:Value in checkpoint could not be found in the restored object: (root).optimizer._variables.8\n",
            "WARNING:tensorflow:Value in checkpoint could not be found in the restored object: (root).optimizer._variables.9\n",
            "WARNING:tensorflow:Value in checkpoint could not be found in the restored object: (root).optimizer._variables.10\n",
            "WARNING:tensorflow:Value in checkpoint could not be found in the restored object: (root).optimizer._variables.11\n",
            "WARNING:tensorflow:Value in checkpoint could not be found in the restored object: (root).optimizer._variables.12\n",
            "WARNING:tensorflow:5 out of the last 15 calls to <function Model.make_test_function.<locals>.test_function at 0x7f89ef976790> triggered tf.function retracing. Tracing is expensive and the excessive number of tracings could be due to (1) creating @tf.function repeatedly in a loop, (2) passing tensors with different shapes, (3) passing Python objects instead of tensors. For (1), please define your @tf.function outside of the loop. For (2), @tf.function has reduce_retracing=True option that can avoid unnecessary retracing. For (3), please refer to https://www.tensorflow.org/guide/function#controlling_retracing and https://www.tensorflow.org/api_docs/python/tf/function for  more details.\n",
            "WARNING:tensorflow:6 out of the last 17 calls to <function Model.make_test_function.<locals>.test_function at 0x7f89e01a2af0> triggered tf.function retracing. Tracing is expensive and the excessive number of tracings could be due to (1) creating @tf.function repeatedly in a loop, (2) passing tensors with different shapes, (3) passing Python objects instead of tensors. For (1), please define your @tf.function outside of the loop. For (2), @tf.function has reduce_retracing=True option that can avoid unnecessary retracing. For (3), please refer to https://www.tensorflow.org/guide/function#controlling_retracing and https://www.tensorflow.org/api_docs/python/tf/function for  more details.\n"
          ]
        },
        {
          "output_type": "stream",
          "name": "stdout",
          "text": [
            "1447.0631687641144  secs\n"
          ]
        }
      ]
    },
    {
      "cell_type": "markdown",
      "source": [
        "###Hyperband MSE = 0.01193"
      ],
      "metadata": {
        "id": "NRvRh21YWNJ0"
      }
    },
    {
      "cell_type": "code",
      "source": [
        "print(f\"\"\"\n",
        "The hyperparameter search is complete. The optimal number of units in the \n",
        "first densely-connected layer is {best_hps.get('units_1')},\n",
        "second layer is {best_hps.get('units_2')} \n",
        "\n",
        "\n",
        "drop out is {best_hps.get('dropout')}\n",
        "batch_size is {best_hps.get('batch_size')}\n",
        "epoch is {best_hps.get('epoch')}\n",
        "optimizer is {best_hps.get('optimizer')}\n",
        "activation is {best_hps.get('activation')}\n",
        "\n",
        "momentum is {best_hps.get('momentum')}\n",
        "decay is {best_hps.get('decay')}\n",
        "\n",
        "#learning rate is {best_hps.get('learning_rate')}                                        \n",
        "\n",
        "and the optimal learning rate for the optimizer\n",
        "is {best_hps.get('learning_rate')}.\n",
        "\"\"\")\n",
        "\n",
        "# Evaluate the best model.\n",
        "print(best_model.metrics_names)\n",
        "loss, mae, mse = best_model.evaluate(X_test, y_test)\n",
        "print(f'loss:{loss} mae: {mae} mse: {mse}')"
      ],
      "metadata": {
        "colab": {
          "base_uri": "https://localhost:8080/"
        },
        "id": "UcOC-csfrvmH",
        "outputId": "a062baf6-b67e-4882-b46d-fe981318fe50"
      },
      "execution_count": null,
      "outputs": [
        {
          "output_type": "stream",
          "name": "stdout",
          "text": [
            "\n",
            "The hyperparameter search is complete. The optimal number of units in the \n",
            "first densely-connected layer is 160,\n",
            "second layer is 96 \n",
            "\n",
            "\n",
            "drop out is 0.35000000000000003\n",
            "batch_size is 16\n",
            "epoch is 95\n",
            "optimizer is nadam\n",
            "activation is linear\n",
            "\n",
            "momentum is 0.93\n",
            "decay is 0.000700001\n",
            "\n",
            "#learning rate is 0.005469451505533658                                        \n",
            "\n",
            "and the optimal learning rate for the optimizer\n",
            "is 0.005469451505533658.\n",
            "\n",
            "[]\n",
            "1/1 [==============================] - 0s 478ms/step - loss: 0.0119 - mae: 0.0957 - mse: 0.0119\n",
            "loss:0.011934570036828518 mae: 0.09570423513650894 mse: 0.011934570968151093\n"
          ]
        }
      ]
    },
    {
      "cell_type": "code",
      "source": [
        "# Get the optimal hyperparameters\n",
        "best_hps = tuner.get_best_hyperparameters(num_trials = 1)[0]\n",
        "print(best_hps.values)"
      ],
      "metadata": {
        "id": "q0e8tSIulgh_",
        "colab": {
          "base_uri": "https://localhost:8080/"
        },
        "outputId": "460497e3-4052-4f3f-a0e7-bf5f07f04492"
      },
      "execution_count": null,
      "outputs": [
        {
          "output_type": "stream",
          "name": "stdout",
          "text": [
            "{'units_1': 160, 'units_2': 96, 'dropout': 0.35000000000000003, 'optimizer': 'nadam', 'activation': 'linear', 'batch_size': 16, 'epoch': 95, 'momentum': 0.93, 'decay': 0.000700001, 'learning_rate': 0.005469451505533658, 'tuner/epochs': 17, 'tuner/initial_epoch': 6, 'tuner/bracket': 3, 'tuner/round': 1, 'tuner/trial_id': '0176'}\n"
          ]
        }
      ]
    },
    {
      "cell_type": "markdown",
      "source": [
        "###Apply the trained parameters to the MLP"
      ],
      "metadata": {
        "id": "oggNSpcVpofH"
      }
    },
    {
      "cell_type": "code",
      "source": [
        "TUMLP_model = tf.keras.Sequential()\n",
        "TUMLP_model.add(tf.keras.layers.MLP(160, activation='linear', input_shape=(X_test.shape[1], X_test.shape[2])))\n",
        "TUMLP_model.add(tf.keras.layers.Dense(96, activation='linear'))\n",
        "#TUMLP_model.add(layers.Dropout(0.35))\n",
        "\n",
        "TUMLP_model.add(tf.keras.layers.Dense(48, activation='linear'))\n",
        "#TUMLP_model.add(layers.Dropout(0.35))\n",
        "#TUMLP_model.add(tf.keras.layers.Dense(16, 'tanh'))\n",
        "#TUMLP_model.add(layers.Dropout(0.35))\n",
        "\n",
        "#Output layer of model\n",
        "TUMLP_model.add(tf.keras.layers.Dense(1))"
      ],
      "metadata": {
        "id": "exKbi-BBYxAt",
        "colab": {
          "base_uri": "https://localhost:8080/"
        },
        "outputId": "6e76562f-505a-4b9b-d9f5-40f064fceb4c"
      },
      "execution_count": null,
      "outputs": [
        {
          "output_type": "stream",
          "name": "stderr",
          "text": [
            "WARNING:tensorflow:Layer gru_3 will not use cuDNN kernels since it doesn't meet the criteria. It will use a generic GPU kernel as fallback when running on GPU.\n"
          ]
        }
      ]
    },
    {
      "cell_type": "code",
      "source": [
        "TUMLP_model.compile(loss = 'mse', optimizer= tf.keras.optimizers.Nadam(learning_rate=0.0054), metrics= ['mae', 'mse'])\n",
        "#TUMLP_model.compile(optimizer='rmsprop',loss='mse',metrics=['mse']),\n",
        "history = TUMLP_model.fit(X_train, y_train, epochs=95, batch_size=16,validation_split=0.2,shuffle=False) # 80/160"
      ],
      "metadata": {
        "colab": {
          "base_uri": "https://localhost:8080/"
        },
        "id": "2OVvMjqyY2kW",
        "outputId": "9d053da0-2143-404c-9d2f-bb92c777db89"
      },
      "execution_count": null,
      "outputs": [
        {
          "output_type": "stream",
          "name": "stdout",
          "text": [
            "Epoch 1/95\n",
            "5/5 [==============================] - 3s 77ms/step - loss: 0.5411 - mae: 0.6608 - mse: 0.5411 - val_loss: 0.0611 - val_mae: 0.2156 - val_mse: 0.0611\n",
            "Epoch 2/95\n",
            "5/5 [==============================] - 0s 21ms/step - loss: 0.0387 - mae: 0.1463 - mse: 0.0387 - val_loss: 0.0441 - val_mae: 0.1751 - val_mse: 0.0441\n",
            "Epoch 3/95\n",
            "5/5 [==============================] - 0s 24ms/step - loss: 0.0300 - mae: 0.1382 - mse: 0.0300 - val_loss: 0.0181 - val_mae: 0.1150 - val_mse: 0.0181\n",
            "Epoch 4/95\n",
            "5/5 [==============================] - 0s 18ms/step - loss: 0.0174 - mae: 0.1045 - mse: 0.0174 - val_loss: 0.0158 - val_mae: 0.0962 - val_mse: 0.0158\n",
            "Epoch 5/95\n",
            "5/5 [==============================] - 0s 21ms/step - loss: 0.0164 - mae: 0.1046 - mse: 0.0164 - val_loss: 0.0205 - val_mae: 0.1075 - val_mse: 0.0205\n",
            "Epoch 6/95\n",
            "5/5 [==============================] - 0s 22ms/step - loss: 0.0149 - mae: 0.1005 - mse: 0.0149 - val_loss: 0.0144 - val_mae: 0.0912 - val_mse: 0.0144\n",
            "Epoch 7/95\n",
            "5/5 [==============================] - 0s 18ms/step - loss: 0.0103 - mae: 0.0790 - mse: 0.0103 - val_loss: 0.0143 - val_mae: 0.1013 - val_mse: 0.0143\n",
            "Epoch 8/95\n",
            "5/5 [==============================] - 0s 19ms/step - loss: 0.0102 - mae: 0.0808 - mse: 0.0102 - val_loss: 0.0139 - val_mae: 0.1036 - val_mse: 0.0139\n",
            "Epoch 9/95\n",
            "5/5 [==============================] - 0s 22ms/step - loss: 0.0115 - mae: 0.0880 - mse: 0.0115 - val_loss: 0.0097 - val_mae: 0.0815 - val_mse: 0.0097\n",
            "Epoch 10/95\n",
            "5/5 [==============================] - 0s 18ms/step - loss: 0.0088 - mae: 0.0787 - mse: 0.0088 - val_loss: 0.0156 - val_mae: 0.0934 - val_mse: 0.0156\n",
            "Epoch 11/95\n",
            "5/5 [==============================] - 0s 19ms/step - loss: 0.0088 - mae: 0.0778 - mse: 0.0088 - val_loss: 0.0181 - val_mae: 0.0996 - val_mse: 0.0181\n",
            "Epoch 12/95\n",
            "5/5 [==============================] - 0s 18ms/step - loss: 0.0079 - mae: 0.0706 - mse: 0.0079 - val_loss: 0.0147 - val_mae: 0.0917 - val_mse: 0.0147\n",
            "Epoch 13/95\n",
            "5/5 [==============================] - 0s 22ms/step - loss: 0.0077 - mae: 0.0650 - mse: 0.0077 - val_loss: 0.0134 - val_mae: 0.0914 - val_mse: 0.0134\n",
            "Epoch 14/95\n",
            "5/5 [==============================] - 0s 20ms/step - loss: 0.0082 - mae: 0.0684 - mse: 0.0082 - val_loss: 0.0120 - val_mae: 0.0810 - val_mse: 0.0120\n",
            "Epoch 15/95\n",
            "5/5 [==============================] - 0s 22ms/step - loss: 0.0073 - mae: 0.0690 - mse: 0.0073 - val_loss: 0.0152 - val_mae: 0.0907 - val_mse: 0.0152\n",
            "Epoch 16/95\n",
            "5/5 [==============================] - 0s 22ms/step - loss: 0.0072 - mae: 0.0694 - mse: 0.0072 - val_loss: 0.0176 - val_mae: 0.0988 - val_mse: 0.0176\n",
            "Epoch 17/95\n",
            "5/5 [==============================] - 0s 23ms/step - loss: 0.0070 - mae: 0.0668 - mse: 0.0070 - val_loss: 0.0147 - val_mae: 0.0900 - val_mse: 0.0147\n",
            "Epoch 18/95\n",
            "5/5 [==============================] - 0s 21ms/step - loss: 0.0067 - mae: 0.0622 - mse: 0.0067 - val_loss: 0.0134 - val_mae: 0.0901 - val_mse: 0.0134\n",
            "Epoch 19/95\n",
            "5/5 [==============================] - 0s 19ms/step - loss: 0.0075 - mae: 0.0653 - mse: 0.0075 - val_loss: 0.0122 - val_mae: 0.0818 - val_mse: 0.0122\n",
            "Epoch 20/95\n",
            "5/5 [==============================] - 0s 19ms/step - loss: 0.0069 - mae: 0.0662 - mse: 0.0069 - val_loss: 0.0149 - val_mae: 0.0893 - val_mse: 0.0149\n",
            "Epoch 21/95\n",
            "5/5 [==============================] - 0s 22ms/step - loss: 0.0068 - mae: 0.0673 - mse: 0.0068 - val_loss: 0.0179 - val_mae: 0.0994 - val_mse: 0.0179\n",
            "Epoch 22/95\n",
            "5/5 [==============================] - 0s 18ms/step - loss: 0.0068 - mae: 0.0659 - mse: 0.0068 - val_loss: 0.0147 - val_mae: 0.0898 - val_mse: 0.0147\n",
            "Epoch 23/95\n",
            "5/5 [==============================] - 0s 23ms/step - loss: 0.0065 - mae: 0.0611 - mse: 0.0065 - val_loss: 0.0132 - val_mae: 0.0910 - val_mse: 0.0132\n",
            "Epoch 24/95\n",
            "5/5 [==============================] - 0s 18ms/step - loss: 0.0079 - mae: 0.0671 - mse: 0.0079 - val_loss: 0.0115 - val_mae: 0.0807 - val_mse: 0.0115\n",
            "Epoch 25/95\n",
            "5/5 [==============================] - 0s 22ms/step - loss: 0.0071 - mae: 0.0668 - mse: 0.0071 - val_loss: 0.0160 - val_mae: 0.0936 - val_mse: 0.0160\n",
            "Epoch 26/95\n",
            "5/5 [==============================] - 0s 17ms/step - loss: 0.0075 - mae: 0.0703 - mse: 0.0075 - val_loss: 0.0195 - val_mae: 0.1067 - val_mse: 0.0195\n",
            "Epoch 27/95\n",
            "5/5 [==============================] - 0s 21ms/step - loss: 0.0075 - mae: 0.0687 - mse: 0.0075 - val_loss: 0.0142 - val_mae: 0.0940 - val_mse: 0.0142\n",
            "Epoch 28/95\n",
            "5/5 [==============================] - 0s 20ms/step - loss: 0.0077 - mae: 0.0665 - mse: 0.0077 - val_loss: 0.0142 - val_mae: 0.0987 - val_mse: 0.0142\n",
            "Epoch 29/95\n",
            "5/5 [==============================] - 0s 18ms/step - loss: 0.0104 - mae: 0.0785 - mse: 0.0104 - val_loss: 0.0106 - val_mae: 0.0775 - val_mse: 0.0106\n",
            "Epoch 30/95\n",
            "5/5 [==============================] - 0s 19ms/step - loss: 0.0076 - mae: 0.0690 - mse: 0.0076 - val_loss: 0.0178 - val_mae: 0.1035 - val_mse: 0.0178\n",
            "Epoch 31/95\n",
            "5/5 [==============================] - 0s 18ms/step - loss: 0.0098 - mae: 0.0814 - mse: 0.0098 - val_loss: 0.0167 - val_mae: 0.0959 - val_mse: 0.0167\n",
            "Epoch 32/95\n",
            "5/5 [==============================] - 0s 20ms/step - loss: 0.0077 - mae: 0.0691 - mse: 0.0077 - val_loss: 0.0142 - val_mae: 0.0973 - val_mse: 0.0142\n",
            "Epoch 33/95\n",
            "5/5 [==============================] - 0s 18ms/step - loss: 0.0087 - mae: 0.0700 - mse: 0.0087 - val_loss: 0.0143 - val_mae: 0.1002 - val_mse: 0.0143\n",
            "Epoch 34/95\n",
            "5/5 [==============================] - 0s 22ms/step - loss: 0.0097 - mae: 0.0744 - mse: 0.0097 - val_loss: 0.0107 - val_mae: 0.0785 - val_mse: 0.0107\n",
            "Epoch 35/95\n",
            "5/5 [==============================] - 0s 18ms/step - loss: 0.0066 - mae: 0.0652 - mse: 0.0066 - val_loss: 0.0136 - val_mae: 0.0855 - val_mse: 0.0136\n",
            "Epoch 36/95\n",
            "5/5 [==============================] - 0s 20ms/step - loss: 0.0077 - mae: 0.0714 - mse: 0.0077 - val_loss: 0.0146 - val_mae: 0.0889 - val_mse: 0.0146\n",
            "Epoch 37/95\n",
            "5/5 [==============================] - 0s 20ms/step - loss: 0.0069 - mae: 0.0662 - mse: 0.0069 - val_loss: 0.0121 - val_mae: 0.0858 - val_mse: 0.0121\n",
            "Epoch 38/95\n",
            "5/5 [==============================] - 0s 19ms/step - loss: 0.0064 - mae: 0.0601 - mse: 0.0064 - val_loss: 0.0127 - val_mae: 0.0921 - val_mse: 0.0127\n",
            "Epoch 39/95\n",
            "5/5 [==============================] - 0s 19ms/step - loss: 0.0080 - mae: 0.0666 - mse: 0.0080 - val_loss: 0.0109 - val_mae: 0.0818 - val_mse: 0.0109\n",
            "Epoch 40/95\n",
            "5/5 [==============================] - 0s 17ms/step - loss: 0.0064 - mae: 0.0621 - mse: 0.0064 - val_loss: 0.0120 - val_mae: 0.0789 - val_mse: 0.0120\n",
            "Epoch 41/95\n",
            "5/5 [==============================] - 0s 25ms/step - loss: 0.0061 - mae: 0.0632 - mse: 0.0061 - val_loss: 0.0149 - val_mae: 0.0916 - val_mse: 0.0149\n",
            "Epoch 42/95\n",
            "5/5 [==============================] - 0s 19ms/step - loss: 0.0068 - mae: 0.0666 - mse: 0.0068 - val_loss: 0.0122 - val_mae: 0.0806 - val_mse: 0.0122\n",
            "Epoch 43/95\n",
            "5/5 [==============================] - 0s 18ms/step - loss: 0.0055 - mae: 0.0562 - mse: 0.0055 - val_loss: 0.0119 - val_mae: 0.0887 - val_mse: 0.0119\n",
            "Epoch 44/95\n",
            "5/5 [==============================] - 0s 25ms/step - loss: 0.0071 - mae: 0.0626 - mse: 0.0071 - val_loss: 0.0109 - val_mae: 0.0846 - val_mse: 0.0109\n",
            "Epoch 45/95\n",
            "5/5 [==============================] - 0s 19ms/step - loss: 0.0069 - mae: 0.0634 - mse: 0.0069 - val_loss: 0.0106 - val_mae: 0.0742 - val_mse: 0.0106\n",
            "Epoch 46/95\n",
            "5/5 [==============================] - 0s 22ms/step - loss: 0.0056 - mae: 0.0598 - mse: 0.0056 - val_loss: 0.0145 - val_mae: 0.0913 - val_mse: 0.0145\n",
            "Epoch 47/95\n",
            "5/5 [==============================] - 0s 20ms/step - loss: 0.0070 - mae: 0.0682 - mse: 0.0070 - val_loss: 0.0127 - val_mae: 0.0817 - val_mse: 0.0127\n",
            "Epoch 48/95\n",
            "5/5 [==============================] - 0s 23ms/step - loss: 0.0056 - mae: 0.0570 - mse: 0.0056 - val_loss: 0.0116 - val_mae: 0.0885 - val_mse: 0.0116\n",
            "Epoch 49/95\n",
            "5/5 [==============================] - 0s 23ms/step - loss: 0.0069 - mae: 0.0622 - mse: 0.0069 - val_loss: 0.0115 - val_mae: 0.0907 - val_mse: 0.0115\n",
            "Epoch 50/95\n",
            "5/5 [==============================] - 0s 19ms/step - loss: 0.0081 - mae: 0.0684 - mse: 0.0081 - val_loss: 0.0094 - val_mae: 0.0742 - val_mse: 0.0094\n",
            "Epoch 51/95\n",
            "5/5 [==============================] - 0s 19ms/step - loss: 0.0057 - mae: 0.0592 - mse: 0.0057 - val_loss: 0.0131 - val_mae: 0.0863 - val_mse: 0.0131\n",
            "Epoch 52/95\n",
            "5/5 [==============================] - 0s 19ms/step - loss: 0.0073 - mae: 0.0695 - mse: 0.0073 - val_loss: 0.0133 - val_mae: 0.0860 - val_mse: 0.0133\n",
            "Epoch 53/95\n",
            "5/5 [==============================] - 0s 18ms/step - loss: 0.0065 - mae: 0.0642 - mse: 0.0065 - val_loss: 0.0109 - val_mae: 0.0850 - val_mse: 0.0109\n",
            "Epoch 54/95\n",
            "5/5 [==============================] - 0s 24ms/step - loss: 0.0063 - mae: 0.0599 - mse: 0.0063 - val_loss: 0.0122 - val_mae: 0.0945 - val_mse: 0.0122\n",
            "Epoch 55/95\n",
            "5/5 [==============================] - 0s 21ms/step - loss: 0.0087 - mae: 0.0699 - mse: 0.0087 - val_loss: 0.0095 - val_mae: 0.0806 - val_mse: 0.0095\n",
            "Epoch 56/95\n",
            "5/5 [==============================] - 0s 19ms/step - loss: 0.0066 - mae: 0.0617 - mse: 0.0066 - val_loss: 0.0099 - val_mae: 0.0714 - val_mse: 0.0099\n",
            "Epoch 57/95\n",
            "5/5 [==============================] - 0s 21ms/step - loss: 0.0059 - mae: 0.0628 - mse: 0.0059 - val_loss: 0.0129 - val_mae: 0.0864 - val_mse: 0.0129\n",
            "Epoch 58/95\n",
            "5/5 [==============================] - 0s 19ms/step - loss: 0.0074 - mae: 0.0695 - mse: 0.0074 - val_loss: 0.0100 - val_mae: 0.0749 - val_mse: 0.0100\n",
            "Epoch 59/95\n",
            "5/5 [==============================] - 0s 18ms/step - loss: 0.0052 - mae: 0.0534 - mse: 0.0052 - val_loss: 0.0112 - val_mae: 0.0897 - val_mse: 0.0112\n",
            "Epoch 60/95\n",
            "5/5 [==============================] - 0s 22ms/step - loss: 0.0072 - mae: 0.0627 - mse: 0.0072 - val_loss: 0.0104 - val_mae: 0.0868 - val_mse: 0.0104\n",
            "Epoch 61/95\n",
            "5/5 [==============================] - 0s 23ms/step - loss: 0.0074 - mae: 0.0656 - mse: 0.0074 - val_loss: 0.0082 - val_mae: 0.0700 - val_mse: 0.0082\n",
            "Epoch 62/95\n",
            "5/5 [==============================] - 0s 18ms/step - loss: 0.0052 - mae: 0.0556 - mse: 0.0052 - val_loss: 0.0104 - val_mae: 0.0741 - val_mse: 0.0104\n",
            "Epoch 63/95\n",
            "5/5 [==============================] - 0s 19ms/step - loss: 0.0062 - mae: 0.0634 - mse: 0.0062 - val_loss: 0.0109 - val_mae: 0.0766 - val_mse: 0.0109\n",
            "Epoch 64/95\n",
            "5/5 [==============================] - 0s 22ms/step - loss: 0.0060 - mae: 0.0615 - mse: 0.0060 - val_loss: 0.0094 - val_mae: 0.0778 - val_mse: 0.0094\n",
            "Epoch 65/95\n",
            "5/5 [==============================] - 0s 21ms/step - loss: 0.0051 - mae: 0.0531 - mse: 0.0051 - val_loss: 0.0104 - val_mae: 0.0872 - val_mse: 0.0104\n",
            "Epoch 66/95\n",
            "5/5 [==============================] - 0s 26ms/step - loss: 0.0069 - mae: 0.0615 - mse: 0.0069 - val_loss: 0.0088 - val_mae: 0.0787 - val_mse: 0.0088\n",
            "Epoch 67/95\n",
            "5/5 [==============================] - 0s 20ms/step - loss: 0.0062 - mae: 0.0603 - mse: 0.0062 - val_loss: 0.0079 - val_mae: 0.0661 - val_mse: 0.0079\n",
            "Epoch 68/95\n",
            "5/5 [==============================] - 0s 18ms/step - loss: 0.0048 - mae: 0.0538 - mse: 0.0048 - val_loss: 0.0104 - val_mae: 0.0759 - val_mse: 0.0104\n",
            "Epoch 69/95\n",
            "5/5 [==============================] - 0s 19ms/step - loss: 0.0062 - mae: 0.0633 - mse: 0.0062 - val_loss: 0.0096 - val_mae: 0.0704 - val_mse: 0.0096\n",
            "Epoch 70/95\n",
            "5/5 [==============================] - 0s 19ms/step - loss: 0.0051 - mae: 0.0545 - mse: 0.0051 - val_loss: 0.0093 - val_mae: 0.0802 - val_mse: 0.0093\n",
            "Epoch 71/95\n",
            "5/5 [==============================] - 0s 19ms/step - loss: 0.0053 - mae: 0.0534 - mse: 0.0053 - val_loss: 0.0097 - val_mae: 0.0840 - val_mse: 0.0097\n",
            "Epoch 72/95\n",
            "5/5 [==============================] - 0s 17ms/step - loss: 0.0067 - mae: 0.0614 - mse: 0.0067 - val_loss: 0.0079 - val_mae: 0.0724 - val_mse: 0.0079\n",
            "Epoch 73/95\n",
            "5/5 [==============================] - 0s 22ms/step - loss: 0.0055 - mae: 0.0563 - mse: 0.0055 - val_loss: 0.0081 - val_mae: 0.0641 - val_mse: 0.0081\n",
            "Epoch 74/95\n",
            "5/5 [==============================] - 0s 26ms/step - loss: 0.0048 - mae: 0.0540 - mse: 0.0048 - val_loss: 0.0103 - val_mae: 0.0769 - val_mse: 0.0103\n",
            "Epoch 75/95\n",
            "5/5 [==============================] - 0s 24ms/step - loss: 0.0061 - mae: 0.0628 - mse: 0.0061 - val_loss: 0.0089 - val_mae: 0.0695 - val_mse: 0.0089\n",
            "Epoch 76/95\n",
            "5/5 [==============================] - 0s 36ms/step - loss: 0.0047 - mae: 0.0495 - mse: 0.0047 - val_loss: 0.0093 - val_mae: 0.0813 - val_mse: 0.0093\n",
            "Epoch 77/95\n",
            "5/5 [==============================] - 0s 35ms/step - loss: 0.0055 - mae: 0.0542 - mse: 0.0055 - val_loss: 0.0091 - val_mae: 0.0808 - val_mse: 0.0091\n",
            "Epoch 78/95\n",
            "5/5 [==============================] - 0s 33ms/step - loss: 0.0064 - mae: 0.0604 - mse: 0.0064 - val_loss: 0.0073 - val_mae: 0.0673 - val_mse: 0.0073\n",
            "Epoch 79/95\n",
            "5/5 [==============================] - 0s 34ms/step - loss: 0.0050 - mae: 0.0530 - mse: 0.0050 - val_loss: 0.0082 - val_mae: 0.0658 - val_mse: 0.0082\n",
            "Epoch 80/95\n",
            "5/5 [==============================] - 0s 34ms/step - loss: 0.0049 - mae: 0.0542 - mse: 0.0049 - val_loss: 0.0099 - val_mae: 0.0755 - val_mse: 0.0099\n",
            "Epoch 81/95\n",
            "5/5 [==============================] - 0s 28ms/step - loss: 0.0058 - mae: 0.0611 - mse: 0.0058 - val_loss: 0.0085 - val_mae: 0.0703 - val_mse: 0.0085\n",
            "Epoch 82/95\n",
            "5/5 [==============================] - 0s 37ms/step - loss: 0.0045 - mae: 0.0479 - mse: 0.0045 - val_loss: 0.0093 - val_mae: 0.0813 - val_mse: 0.0093\n",
            "Epoch 83/95\n",
            "5/5 [==============================] - 0s 32ms/step - loss: 0.0055 - mae: 0.0538 - mse: 0.0055 - val_loss: 0.0086 - val_mae: 0.0779 - val_mse: 0.0086\n",
            "Epoch 84/95\n",
            "5/5 [==============================] - 0s 34ms/step - loss: 0.0061 - mae: 0.0588 - mse: 0.0061 - val_loss: 0.0069 - val_mae: 0.0650 - val_mse: 0.0069\n",
            "Epoch 85/95\n",
            "5/5 [==============================] - 0s 35ms/step - loss: 0.0046 - mae: 0.0509 - mse: 0.0046 - val_loss: 0.0080 - val_mae: 0.0664 - val_mse: 0.0080\n",
            "Epoch 86/95\n",
            "5/5 [==============================] - 0s 32ms/step - loss: 0.0049 - mae: 0.0544 - mse: 0.0049 - val_loss: 0.0092 - val_mae: 0.0724 - val_mse: 0.0092\n",
            "Epoch 87/95\n",
            "5/5 [==============================] - 0s 34ms/step - loss: 0.0055 - mae: 0.0585 - mse: 0.0055 - val_loss: 0.0082 - val_mae: 0.0710 - val_mse: 0.0082\n",
            "Epoch 88/95\n",
            "5/5 [==============================] - 0s 33ms/step - loss: 0.0044 - mae: 0.0472 - mse: 0.0044 - val_loss: 0.0091 - val_mae: 0.0806 - val_mse: 0.0091\n",
            "Epoch 89/95\n",
            "5/5 [==============================] - 0s 37ms/step - loss: 0.0053 - mae: 0.0530 - mse: 0.0053 - val_loss: 0.0081 - val_mae: 0.0755 - val_mse: 0.0081\n",
            "Epoch 90/95\n",
            "5/5 [==============================] - 0s 30ms/step - loss: 0.0057 - mae: 0.0572 - mse: 0.0057 - val_loss: 0.0066 - val_mae: 0.0635 - val_mse: 0.0066\n",
            "Epoch 91/95\n",
            "5/5 [==============================] - 0s 19ms/step - loss: 0.0044 - mae: 0.0494 - mse: 0.0044 - val_loss: 0.0078 - val_mae: 0.0664 - val_mse: 0.0078\n",
            "Epoch 92/95\n",
            "5/5 [==============================] - 0s 17ms/step - loss: 0.0048 - mae: 0.0543 - mse: 0.0048 - val_loss: 0.0087 - val_mae: 0.0698 - val_mse: 0.0087\n",
            "Epoch 93/95\n",
            "5/5 [==============================] - 0s 19ms/step - loss: 0.0051 - mae: 0.0561 - mse: 0.0051 - val_loss: 0.0082 - val_mae: 0.0717 - val_mse: 0.0082\n",
            "Epoch 94/95\n",
            "5/5 [==============================] - 0s 21ms/step - loss: 0.0043 - mae: 0.0469 - mse: 0.0043 - val_loss: 0.0090 - val_mae: 0.0801 - val_mse: 0.0090\n",
            "Epoch 95/95\n",
            "5/5 [==============================] - 0s 22ms/step - loss: 0.0052 - mae: 0.0525 - mse: 0.0052 - val_loss: 0.0078 - val_mae: 0.0740 - val_mse: 0.0078\n"
          ]
        }
      ]
    },
    {
      "cell_type": "markdown",
      "source": [
        "Plot Model Loss"
      ],
      "metadata": {
        "id": "4KLve2-WilBF"
      }
    },
    {
      "cell_type": "code",
      "source": [
        "loss = history.history['loss']\n",
        "val_loss = history.history['val_loss']\n",
        "\n",
        "epochs=range(len(loss)) \n",
        "\n",
        "\n",
        "#------------------------------------------------\n",
        "# Plot training and validation loss per epoch\n",
        "#------------------------------------------------\n",
        "plt.plot(epochs, loss, 'r',label='loss')\n",
        "plt.plot(epochs,val_loss,'blue',label='val loss')\n",
        "plt.title('Training loss & Val Loss by Epochs')\n",
        "plt.xlabel(\"Epochs\")\n",
        "plt.ylabel(\"Loss\")\n",
        "plt.legend()\n",
        "plt.figure()\n",
        "plt.savefig('OptMLPTLV.png')"
      ],
      "metadata": {
        "colab": {
          "base_uri": "https://localhost:8080/",
          "height": 421
        },
        "id": "DXBeY_MGZSMP",
        "outputId": "23650fc2-73a4-4ecf-97c1-99439500e7c9"
      },
      "execution_count": null,
      "outputs": [
        {
          "output_type": "display_data",
          "data": {
            "text/plain": [
              "<Figure size 720x360 with 1 Axes>"
            ],
            "image/png": "[encoded data removed]"
          },
          "metadata": {}
        },
        {
          "output_type": "display_data",
          "data": {
            "text/plain": [
              "<Figure size 720x360 with 0 Axes>"
            ]
          },
          "metadata": {}
        }
      ]
    },
    {
      "cell_type": "code",
      "source": [
        "y_predTU = TUMLP_model.predict(X_test)\n",
        "y_predTU"
      ],
      "metadata": {
        "colab": {
          "base_uri": "https://localhost:8080/"
        },
        "id": "JbqyY5OriQYh",
        "outputId": "4093d462-3ae7-4ff5-f633-4413c30e8d50"
      },
      "execution_count": null,
      "outputs": [
        {
          "output_type": "stream",
          "name": "stdout",
          "text": [
            "1/1 [==============================] - 0s 236ms/step\n"
          ]
        },
        {
          "output_type": "execute_result",
          "data": {
            "text/plain": [
              "array([[ 4.6107493e-02],\n",
              "       [ 5.7388116e-02],\n",
              "       [ 9.6546784e-02],\n",
              "       [ 5.4676086e-05],\n",
              "       [-1.1077775e-02],\n",
              "       [-2.2343714e-02],\n",
              "       [-4.0800724e-02],\n",
              "       [-9.4636649e-02],\n",
              "       [-1.7590389e-01],\n",
              "       [-1.8414673e-01],\n",
              "       [-1.5936276e-01],\n",
              "       [-1.7143460e-01],\n",
              "       [-1.9409403e-01],\n",
              "       [-1.5373334e-01],\n",
              "       [-1.6159666e-01],\n",
              "       [-2.1800807e-01],\n",
              "       [-1.9117294e-01],\n",
              "       [ 1.5981626e-03],\n",
              "       [ 8.7964788e-02],\n",
              "       [-2.8456923e-02],\n",
              "       [-9.9525958e-02],\n",
              "       [ 2.5059525e-03]], dtype=float32)"
            ]
          },
          "metadata": {},
          "execution_count": 99
        }
      ]
    },
    {
      "cell_type": "code",
      "source": [
        "y_predTU.reshape(1,-1)"
      ],
      "metadata": {
        "colab": {
          "base_uri": "https://localhost:8080/"
        },
        "id": "rVI1OXjV8qOL",
        "outputId": "23587322-3e3a-419c-d859-e9fb707e0f65"
      },
      "execution_count": null,
      "outputs": [
        {
          "output_type": "execute_result",
          "data": {
            "text/plain": [
              "array([[ 4.6107493e-02,  5.7388116e-02,  9.6546784e-02,  5.4676086e-05,\n",
              "        -1.1077775e-02, -2.2343714e-02, -4.0800724e-02, -9.4636649e-02,\n",
              "        -1.7590389e-01, -1.8414673e-01, -1.5936276e-01, -1.7143460e-01,\n",
              "        -1.9409403e-01, -1.5373334e-01, -1.6159666e-01, -2.1800807e-01,\n",
              "        -1.9117294e-01,  1.5981626e-03,  8.7964788e-02, -2.8456923e-02,\n",
              "        -9.9525958e-02,  2.5059525e-03]], dtype=float32)"
            ]
          },
          "metadata": {},
          "execution_count": 100
        }
      ]
    },
    {
      "cell_type": "markdown",
      "source": [
        "###Invert Transformed Tuned Data"
      ],
      "metadata": {
        "id": "XXPkM7CFsB5U"
      }
    },
    {
      "cell_type": "code",
      "source": [
        "y_train_inv = cpo_pri_transformer.inverse_transform(y_train.reshape(1, -1))\n",
        "y_test_inv = cpo_pri_transformer.inverse_transform(y_test.reshape(1, -1))\n",
        "y_pred_inv = cpo_pri_transformer.inverse_transform(y_predTU.reshape(1,-1))\n",
        "print(y_train_inv)\n",
        "print(y_test_inv)\n",
        "print(y_pred_inv)"
      ],
      "metadata": {
        "colab": {
          "base_uri": "https://localhost:8080/"
        },
        "id": "gZ8inWeYy64m",
        "outputId": "54688d0a-9c6b-4a22-9f62-151825413a74"
      },
      "execution_count": null,
      "outputs": [
        {
          "output_type": "stream",
          "name": "stdout",
          "text": [
            "[[376. 383. 382. 396. 402. 390. 404. 382. 382. 391. 396. 413. 401. 410.\n",
            "  425. 408. 392. 371. 356. 362. 356. 352. 333. 357. 411. 404. 387. 395.\n",
            "  434. 488. 508. 494. 575. 614. 616. 707. 719. 655. 661. 687. 625. 611.\n",
            "  631. 655. 616. 586. 615. 607. 590. 535. 518. 519. 562. 552. 508. 476.\n",
            "  513. 545. 532. 550. 561. 567. 580. 559. 562. 553. 533. 498. 504. 525.\n",
            "  547. 556. 566. 621. 659. 671. 688. 705. 633. 661. 674. 703. 694. 681.\n",
            "  663. 632. 561. 497. 509. 475. 392. 319. 354. 388. 381. 370.]]\n",
            "[[349. 372. 324. 315. 312. 306. 288. 255. 257. 265. 254. 240. 254. 251.\n",
            "  234. 255. 330. 362. 310. 277. 323. 360.]]\n",
            "[[337.443   341.95526 357.6187  319.02188 314.5689  310.0625  302.67972\n",
            "  281.14532 248.63844 245.34131 255.25488 250.42618 241.36238 257.50665\n",
            "  254.36134 231.79677 242.53082 319.63925 354.1859  307.61725 279.1896\n",
            "  320.00238]]\n"
          ]
        }
      ]
    },
    {
      "cell_type": "code",
      "source": [
        "y_train_inv = y_train_inv.flatten()\n",
        "y_train_inv"
      ],
      "metadata": {
        "colab": {
          "base_uri": "https://localhost:8080/"
        },
        "id": "2g9TLmgHy7Hw",
        "outputId": "715b00fc-9251-4f71-cc0e-35c72e5cc4c3"
      },
      "execution_count": null,
      "outputs": [
        {
          "output_type": "execute_result",
          "data": {
            "text/plain": [
              "array([376., 383., 382., 396., 402., 390., 404., 382., 382., 391., 396.,\n",
              "       413., 401., 410., 425., 408., 392., 371., 356., 362., 356., 352.,\n",
              "       333., 357., 411., 404., 387., 395., 434., 488., 508., 494., 575.,\n",
              "       614., 616., 707., 719., 655., 661., 687., 625., 611., 631., 655.,\n",
              "       616., 586., 615., 607., 590., 535., 518., 519., 562., 552., 508.,\n",
              "       476., 513., 545., 532., 550., 561., 567., 580., 559., 562., 553.,\n",
              "       533., 498., 504., 525., 547., 556., 566., 621., 659., 671., 688.,\n",
              "       705., 633., 661., 674., 703., 694., 681., 663., 632., 561., 497.,\n",
              "       509., 475., 392., 319., 354., 388., 381., 370.])"
            ]
          },
          "metadata": {},
          "execution_count": 102
        }
      ]
    },
    {
      "cell_type": "code",
      "source": [
        "y_test_inv = y_test_inv.flatten()\n",
        "y_test_inv"
      ],
      "metadata": {
        "colab": {
          "base_uri": "https://localhost:8080/"
        },
        "id": "PDdnZUrXy7L4",
        "outputId": "2bf0f9af-6757-4d2a-f2af-d335a853a77d"
      },
      "execution_count": null,
      "outputs": [
        {
          "output_type": "execute_result",
          "data": {
            "text/plain": [
              "array([349., 372., 324., 315., 312., 306., 288., 255., 257., 265., 254.,\n",
              "       240., 254., 251., 234., 255., 330., 362., 310., 277., 323., 360.])"
            ]
          },
          "metadata": {},
          "execution_count": 103
        }
      ]
    },
    {
      "cell_type": "code",
      "source": [
        "TU_MLP_Pred = y_pred_inv.flatten()   #y_pred_inv = TU_MLP_Pred\n",
        "TU_MLP_Pred"
      ],
      "metadata": {
        "colab": {
          "base_uri": "https://localhost:8080/"
        },
        "id": "fqq4-3-lsuEy",
        "outputId": "f67651f0-a30e-4881-aabd-8800f1e9f51b"
      },
      "execution_count": null,
      "outputs": [
        {
          "output_type": "execute_result",
          "data": {
            "text/plain": [
              "array([337.443  , 341.95526, 357.6187 , 319.02188, 314.5689 , 310.0625 ,\n",
              "       302.67972, 281.14532, 248.63844, 245.34131, 255.25488, 250.42618,\n",
              "       241.36238, 257.50665, 254.36134, 231.79677, 242.53082, 319.63925,\n",
              "       354.1859 , 307.61725, 279.1896 , 320.00238], dtype=float32)"
            ]
          },
          "metadata": {},
          "execution_count": 104
        }
      ]
    },
    {
      "cell_type": "code",
      "source": [
        "plt.plot(np.arange(0, len(y_train)), y_train_inv, color='green', label=\"History\")\n",
        "plt.plot(np.arange(len(y_train), len(y_train) + len(y_test)), y_test_inv, color='blue', marker='.', label=\"Actual\")\n",
        "plt.plot(np.arange(len(y_train), len(y_train) + len(y_test)), TU_MLP_Pred, color='red', label=\"Optimized MLP Prediction\")\n",
        "plt.ylabel('Crude Palm Oil Price')\n",
        "plt.xlabel('Time step')\n",
        "plt.legend()\n",
        "plt.show();\n",
        "plt.savefig('MLPOpt.png')"
      ],
      "metadata": {
        "colab": {
          "base_uri": "https://localhost:8080/",
          "height": 400
        },
        "id": "nBN919VXsuNq",
        "outputId": "a7a76773-1660-4c0b-a1b4-1ed64a8b9527"
      },
      "execution_count": null,
      "outputs": [
        {
          "output_type": "display_data",
          "data": {
            "text/plain": [
              "<Figure size 720x360 with 1 Axes>"
            ],
            "image/png": "[encoded data removed]"
          },
          "metadata": {}
        },
        {
          "output_type": "display_data",
          "data": {
            "text/plain": [
              "<Figure size 720x360 with 0 Axes>"
            ]
          },
          "metadata": {}
        }
      ]
    },
    {
      "cell_type": "markdown",
      "source": [
        "### Optimized MLP Model Metric"
      ],
      "metadata": {
        "id": "gVFw8nYtGl1Q"
      }
    },
    {
      "cell_type": "code",
      "source": [
        "TUMAE_MLP = mean_absolute_error(y_test_inv, TU_MLP_Pred)\n",
        "print('MAE value of the MLP Model is:', TUMAE_MLP)\n",
        "\n",
        "TUMDA_MLP = mda(y_test_inv, TU_MLP_Pred)\n",
        "print('MDA value of the tuned MLP Model is:', TUMDA_MLP)\n",
        "\n",
        "TUMAPE_MLP = mean_absolute_percentage_error(y_test_inv, TU_MLP_Pred)\n",
        "print('MAPE value of the tuned MLP Model is:', TUMAPE_MLP)\n",
        "\n",
        "TURMSE_MLP = mean_squared_error(y_test_inv,TU_MLP_Pred, squared=False)\n",
        "print('RMSE value of the tuned MLP Model is:', TURMSE_MLP)\n",
        "\n",
        "TUMSE_MLP = mean_squared_error(y_test_inv,TU_MLP_Pred)\n",
        "print('MSE value of the tuned MLP Model is:', TUMSE_MLP)"
      ],
      "metadata": {
        "colab": {
          "base_uri": "https://localhost:8080/"
        },
        "id": "FqciJO0esuRc",
        "outputId": "a8fd3dfe-be88-4712-92ac-3147e2423c5b"
      },
      "execution_count": null,
      "outputs": [
        {
          "output_type": "stream",
          "name": "stdout",
          "text": [
            "MAE value of the GRU Model is: 23.525002219460227\n",
            "MDA value of the tuned GRU Model is: 0.5714285714285714\n",
            "MAPE value of the tuned GRU Model is: 7.709507454513364\n",
            "RMSE value of the tuned GRU Model is: 30.65998310153814\n",
            "MSE value of the tuned GRU Model is: 940.0345637866042\n"
          ]
        }
      ]
    },
    {
      "cell_type": "markdown",
      "source": [
        "###Optimized MLP model prediction visualization"
      ],
      "metadata": {
        "id": "sAxPKJkoGEIO"
      }
    },
    {
      "cell_type": "markdown",
      "source": [
        "Comparing tuned MLP Actual VS Predicted (Zoomed-IN)"
      ],
      "metadata": {
        "id": "oczznVkQihRI"
      }
    },
    {
      "cell_type": "code",
      "source": [
        "#Plot the graph between actual vs predicted values\n",
        "#plt.figure(figsize=(15,7))  #(10,6))\n",
        "plt.figure(figsize=(16,8), dpi= 100, facecolor='w', edgecolor='k')\n",
        "plt.plot(TU_MLP_Pred, color= 'green',marker='.',label = 'Tuned MLP Predicted - cpo_pri')\n",
        "plt.plot(y_test_inv, color = 'red',marker='.',label = 'Actual cpo_pri ')\n",
        "plt.title(\"Optimized MLP Crude Palm Oil Price Prediction (Multivariate)\")\n",
        "plt.xlabel(\"Time step\")\n",
        "plt.ylabel(\"Crude Palm Oil Price\")\n",
        "plt.legend()\n",
        "plt.show()\n",
        "plt.savefig('graph_TUMLP.png')"
      ],
      "metadata": {
        "colab": {
          "base_uri": "https://localhost:8080/",
          "height": 805
        },
        "id": "RmqyhCu_iV_w",
        "outputId": "ccafcca6-4e9d-44dd-cda1-2b2767f78f38"
      },
      "execution_count": null,
      "outputs": [
        {
          "output_type": "display_data",
          "data": {
            "text/plain": [
              "<Figure size 1600x800 with 1 Axes>"
            ],
            "image/png": "[encoded data removed]"
          },
          "metadata": {}
        },
        {
          "output_type": "display_data",
          "data": {
            "text/plain": [
              "<Figure size 720x360 with 0 Axes>"
            ]
          },
          "metadata": {}
        }
      ]
    },
    {
      "cell_type": "markdown",
      "source": [
        "###Comparing the optimized MLP, MLP, Bayesian and Random search models"
      ],
      "metadata": {
        "id": "xoeTrMBsDemZ"
      }
    },
    {
      "cell_type": "markdown",
      "source": [
        "* Baseline MLP MSE = 0.0153\n",
        "* Random search MSE = 0.0511\n",
        "* Bayesian search MSE = 0.1467\n",
        "* Hyperband search MSE = 0.0119\n",
        "* Baseline MLP RSME = 45.29\n",
        "* Optimized MLP RSME = 30.65"
      ],
      "metadata": {
        "id": "LBS5TctUReDx"
      }
    },
    {
      "cell_type": "markdown",
      "source": [
        "The tuned MLP is superior to the basseline based on the RSME result"
      ],
      "metadata": {
        "id": "J9SI5KHvtAsT"
      }
    },
    {
      "cell_type": "code",
      "source": [],
      "metadata": {
        "id": "JLZgaBe6uWbe"
      },
      "execution_count": null,
      "outputs": []
    }
  ]
}