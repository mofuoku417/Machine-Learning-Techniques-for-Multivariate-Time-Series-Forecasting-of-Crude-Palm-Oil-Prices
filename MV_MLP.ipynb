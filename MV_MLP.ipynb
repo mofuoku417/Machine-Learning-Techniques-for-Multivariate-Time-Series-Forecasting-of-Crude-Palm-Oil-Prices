{
  "nbformat": 4,
  "nbformat_minor": 0,
  "metadata": {
    "colab": {
      "provenance": [],
      "authorship_tag": "ABX9TyMHRx+nOLK9WT+mjEk2MfMg",
      "include_colab_link": true
    },
    "kernelspec": {
      "name": "python3",
      "display_name": "Python 3"
    },
    "language_info": {
      "name": "python"
    },
    "gpuClass": "standard",
    "accelerator": "GPU"
  },
  "cells": [
    {
      "cell_type": "markdown",
      "metadata": {
        "id": "view-in-github",
        "colab_type": "text"
      },
      "source": [
        "<a href=\"https://colab.research.google.com/github/mofuoku417/Machine-Learning-Techniques-for-Multivariate-Time-Series-Forecasting-of-Crude-Palm-Oil-Prices/blob/main/MV_MLP.ipynb\" target=\"_parent\"><img src=\"https://colab.research.google.com/assets/colab-badge.svg\" alt=\"Open In Colab\"/></a>"
      ]
    },
    {
      "cell_type": "markdown",
      "source": [
        "##Objective: Predict Monthly Crude Palm Oil Price Using Multi-layer Perceptron (MLP)"
      ],
      "metadata": {
        "id": "tt6Yvzr3gZ-g"
      }
    },
    {
      "cell_type": "markdown",
      "source": [
        "###Install dependencies"
      ],
      "metadata": {
        "id": "TvRmatc1Lo4v"
      }
    },
    {
      "cell_type": "code",
      "source": [
        "!pip install scikeras\n",
        "!pip install bayesian-optimization\n",
        "!pip install keras-tuner --upgrade"
      ],
      "metadata": {
        "id": "gGw0m6TUdgMM",
        "outputId": "387fd89c-ec4f-4416-8f81-866d4bf9157a",
        "colab": {
          "base_uri": "https://localhost:8080/"
        }
      },
      "execution_count": 1,
      "outputs": [
        {
          "output_type": "stream",
          "name": "stdout",
          "text": [
            "Looking in indexes: https://pypi.org/simple, https://us-python.pkg.dev/colab-wheels/public/simple/\n",
            "Collecting scikeras\n",
            "  Downloading scikeras-0.10.0-py3-none-any.whl (27 kB)\n",
            "Requirement already satisfied: scikit-learn>=1.0.0 in /usr/local/lib/python3.8/dist-packages (from scikeras) (1.0.2)\n",
            "Requirement already satisfied: packaging>=0.21 in /usr/local/lib/python3.8/dist-packages (from scikeras) (23.0)\n",
            "Requirement already satisfied: numpy>=1.14.6 in /usr/local/lib/python3.8/dist-packages (from scikit-learn>=1.0.0->scikeras) (1.21.6)\n",
            "Requirement already satisfied: joblib>=0.11 in /usr/local/lib/python3.8/dist-packages (from scikit-learn>=1.0.0->scikeras) (1.2.0)\n",
            "Requirement already satisfied: threadpoolctl>=2.0.0 in /usr/local/lib/python3.8/dist-packages (from scikit-learn>=1.0.0->scikeras) (3.1.0)\n",
            "Requirement already satisfied: scipy>=1.1.0 in /usr/local/lib/python3.8/dist-packages (from scikit-learn>=1.0.0->scikeras) (1.7.3)\n",
            "Installing collected packages: scikeras\n",
            "Successfully installed scikeras-0.10.0\n",
            "Looking in indexes: https://pypi.org/simple, https://us-python.pkg.dev/colab-wheels/public/simple/\n",
            "Collecting bayesian-optimization\n",
            "  Downloading bayesian_optimization-1.4.2-py3-none-any.whl (17 kB)\n",
            "Requirement already satisfied: scipy>=1.0.0 in /usr/local/lib/python3.8/dist-packages (from bayesian-optimization) (1.7.3)\n",
            "Collecting colorama>=0.4.6\n",
            "  Downloading colorama-0.4.6-py2.py3-none-any.whl (25 kB)\n",
            "Requirement already satisfied: scikit-learn>=0.18.0 in /usr/local/lib/python3.8/dist-packages (from bayesian-optimization) (1.0.2)\n",
            "Requirement already satisfied: numpy>=1.9.0 in /usr/local/lib/python3.8/dist-packages (from bayesian-optimization) (1.21.6)\n",
            "Requirement already satisfied: joblib>=0.11 in /usr/local/lib/python3.8/dist-packages (from scikit-learn>=0.18.0->bayesian-optimization) (1.2.0)\n",
            "Requirement already satisfied: threadpoolctl>=2.0.0 in /usr/local/lib/python3.8/dist-packages (from scikit-learn>=0.18.0->bayesian-optimization) (3.1.0)\n",
            "Installing collected packages: colorama, bayesian-optimization\n",
            "Successfully installed bayesian-optimization-1.4.2 colorama-0.4.6\n",
            "Looking in indexes: https://pypi.org/simple, https://us-python.pkg.dev/colab-wheels/public/simple/\n",
            "Collecting keras-tuner\n",
            "  Downloading keras_tuner-1.2.1-py3-none-any.whl (169 kB)\n",
            "\u001b[2K     \u001b[90m━━━━━━━━━━━━━━━━━━━━━━━━━━━━━━━━━━━━━━━\u001b[0m \u001b[32m169.6/169.6 KB\u001b[0m \u001b[31m4.2 MB/s\u001b[0m eta \u001b[36m0:00:00\u001b[0m\n",
            "\u001b[?25hRequirement already satisfied: tensorflow>=2.0 in /usr/local/lib/python3.8/dist-packages (from keras-tuner) (2.11.0)\n",
            "Requirement already satisfied: ipython in /usr/local/lib/python3.8/dist-packages (from keras-tuner) (7.9.0)\n",
            "Collecting kt-legacy\n",
            "  Downloading kt_legacy-1.0.4-py3-none-any.whl (9.6 kB)\n",
            "Requirement already satisfied: requests in /usr/local/lib/python3.8/dist-packages (from keras-tuner) (2.25.1)\n",
            "Requirement already satisfied: packaging in /usr/local/lib/python3.8/dist-packages (from keras-tuner) (23.0)\n",
            "Requirement already satisfied: grpcio<2.0,>=1.24.3 in /usr/local/lib/python3.8/dist-packages (from tensorflow>=2.0->keras-tuner) (1.51.1)\n",
            "Requirement already satisfied: gast<=0.4.0,>=0.2.1 in /usr/local/lib/python3.8/dist-packages (from tensorflow>=2.0->keras-tuner) (0.4.0)\n",
            "Requirement already satisfied: six>=1.12.0 in /usr/local/lib/python3.8/dist-packages (from tensorflow>=2.0->keras-tuner) (1.15.0)\n",
            "Requirement already satisfied: termcolor>=1.1.0 in /usr/local/lib/python3.8/dist-packages (from tensorflow>=2.0->keras-tuner) (2.2.0)\n",
            "Requirement already satisfied: tensorflow-io-gcs-filesystem>=0.23.1 in /usr/local/lib/python3.8/dist-packages (from tensorflow>=2.0->keras-tuner) (0.30.0)\n",
            "Requirement already satisfied: libclang>=13.0.0 in /usr/local/lib/python3.8/dist-packages (from tensorflow>=2.0->keras-tuner) (15.0.6.1)\n",
            "Requirement already satisfied: opt-einsum>=2.3.2 in /usr/local/lib/python3.8/dist-packages (from tensorflow>=2.0->keras-tuner) (3.3.0)\n",
            "Requirement already satisfied: flatbuffers>=2.0 in /usr/local/lib/python3.8/dist-packages (from tensorflow>=2.0->keras-tuner) (23.1.21)\n",
            "Requirement already satisfied: wrapt>=1.11.0 in /usr/local/lib/python3.8/dist-packages (from tensorflow>=2.0->keras-tuner) (1.14.1)\n",
            "Requirement already satisfied: protobuf<3.20,>=3.9.2 in /usr/local/lib/python3.8/dist-packages (from tensorflow>=2.0->keras-tuner) (3.19.6)\n",
            "Requirement already satisfied: h5py>=2.9.0 in /usr/local/lib/python3.8/dist-packages (from tensorflow>=2.0->keras-tuner) (3.1.0)\n",
            "Requirement already satisfied: absl-py>=1.0.0 in /usr/local/lib/python3.8/dist-packages (from tensorflow>=2.0->keras-tuner) (1.4.0)\n",
            "Requirement already satisfied: google-pasta>=0.1.1 in /usr/local/lib/python3.8/dist-packages (from tensorflow>=2.0->keras-tuner) (0.2.0)\n",
            "Requirement already satisfied: typing-extensions>=3.6.6 in /usr/local/lib/python3.8/dist-packages (from tensorflow>=2.0->keras-tuner) (4.5.0)\n",
            "Requirement already satisfied: tensorboard<2.12,>=2.11 in /usr/local/lib/python3.8/dist-packages (from tensorflow>=2.0->keras-tuner) (2.11.2)\n",
            "Requirement already satisfied: tensorflow-estimator<2.12,>=2.11.0 in /usr/local/lib/python3.8/dist-packages (from tensorflow>=2.0->keras-tuner) (2.11.0)\n",
            "Requirement already satisfied: setuptools in /usr/local/lib/python3.8/dist-packages (from tensorflow>=2.0->keras-tuner) (57.4.0)\n",
            "Requirement already satisfied: astunparse>=1.6.0 in /usr/local/lib/python3.8/dist-packages (from tensorflow>=2.0->keras-tuner) (1.6.3)\n",
            "Requirement already satisfied: numpy>=1.20 in /usr/local/lib/python3.8/dist-packages (from tensorflow>=2.0->keras-tuner) (1.21.6)\n",
            "Requirement already satisfied: keras<2.12,>=2.11.0 in /usr/local/lib/python3.8/dist-packages (from tensorflow>=2.0->keras-tuner) (2.11.0)\n",
            "Requirement already satisfied: prompt-toolkit<2.1.0,>=2.0.0 in /usr/local/lib/python3.8/dist-packages (from ipython->keras-tuner) (2.0.10)\n",
            "Requirement already satisfied: traitlets>=4.2 in /usr/local/lib/python3.8/dist-packages (from ipython->keras-tuner) (5.7.1)\n",
            "Requirement already satisfied: pygments in /usr/local/lib/python3.8/dist-packages (from ipython->keras-tuner) (2.6.1)\n",
            "Requirement already satisfied: backcall in /usr/local/lib/python3.8/dist-packages (from ipython->keras-tuner) (0.2.0)\n",
            "Requirement already satisfied: decorator in /usr/local/lib/python3.8/dist-packages (from ipython->keras-tuner) (4.4.2)\n",
            "Requirement already satisfied: pickleshare in /usr/local/lib/python3.8/dist-packages (from ipython->keras-tuner) (0.7.5)\n",
            "Requirement already satisfied: pexpect in /usr/local/lib/python3.8/dist-packages (from ipython->keras-tuner) (4.8.0)\n",
            "Collecting jedi>=0.10\n",
            "  Downloading jedi-0.18.2-py2.py3-none-any.whl (1.6 MB)\n",
            "\u001b[2K     \u001b[90m━━━━━━━━━━━━━━━━━━━━━━━━━━━━━━━━━━━━━━━━\u001b[0m \u001b[32m1.6/1.6 MB\u001b[0m \u001b[31m29.5 MB/s\u001b[0m eta \u001b[36m0:00:00\u001b[0m\n",
            "\u001b[?25hRequirement already satisfied: certifi>=2017.4.17 in /usr/local/lib/python3.8/dist-packages (from requests->keras-tuner) (2022.12.7)\n",
            "Requirement already satisfied: chardet<5,>=3.0.2 in /usr/local/lib/python3.8/dist-packages (from requests->keras-tuner) (4.0.0)\n",
            "Requirement already satisfied: urllib3<1.27,>=1.21.1 in /usr/local/lib/python3.8/dist-packages (from requests->keras-tuner) (1.24.3)\n",
            "Requirement already satisfied: idna<3,>=2.5 in /usr/local/lib/python3.8/dist-packages (from requests->keras-tuner) (2.10)\n",
            "Requirement already satisfied: wheel<1.0,>=0.23.0 in /usr/local/lib/python3.8/dist-packages (from astunparse>=1.6.0->tensorflow>=2.0->keras-tuner) (0.38.4)\n",
            "Requirement already satisfied: parso<0.9.0,>=0.8.0 in /usr/local/lib/python3.8/dist-packages (from jedi>=0.10->ipython->keras-tuner) (0.8.3)\n",
            "Requirement already satisfied: wcwidth in /usr/local/lib/python3.8/dist-packages (from prompt-toolkit<2.1.0,>=2.0.0->ipython->keras-tuner) (0.2.6)\n",
            "Requirement already satisfied: google-auth-oauthlib<0.5,>=0.4.1 in /usr/local/lib/python3.8/dist-packages (from tensorboard<2.12,>=2.11->tensorflow>=2.0->keras-tuner) (0.4.6)\n",
            "Requirement already satisfied: werkzeug>=1.0.1 in /usr/local/lib/python3.8/dist-packages (from tensorboard<2.12,>=2.11->tensorflow>=2.0->keras-tuner) (1.0.1)\n",
            "Requirement already satisfied: google-auth<3,>=1.6.3 in /usr/local/lib/python3.8/dist-packages (from tensorboard<2.12,>=2.11->tensorflow>=2.0->keras-tuner) (2.16.0)\n",
            "Requirement already satisfied: tensorboard-data-server<0.7.0,>=0.6.0 in /usr/local/lib/python3.8/dist-packages (from tensorboard<2.12,>=2.11->tensorflow>=2.0->keras-tuner) (0.6.1)\n",
            "Requirement already satisfied: tensorboard-plugin-wit>=1.6.0 in /usr/local/lib/python3.8/dist-packages (from tensorboard<2.12,>=2.11->tensorflow>=2.0->keras-tuner) (1.8.1)\n",
            "Requirement already satisfied: markdown>=2.6.8 in /usr/local/lib/python3.8/dist-packages (from tensorboard<2.12,>=2.11->tensorflow>=2.0->keras-tuner) (3.4.1)\n",
            "Requirement already satisfied: ptyprocess>=0.5 in /usr/local/lib/python3.8/dist-packages (from pexpect->ipython->keras-tuner) (0.7.0)\n",
            "Requirement already satisfied: pyasn1-modules>=0.2.1 in /usr/local/lib/python3.8/dist-packages (from google-auth<3,>=1.6.3->tensorboard<2.12,>=2.11->tensorflow>=2.0->keras-tuner) (0.2.8)\n",
            "Requirement already satisfied: cachetools<6.0,>=2.0.0 in /usr/local/lib/python3.8/dist-packages (from google-auth<3,>=1.6.3->tensorboard<2.12,>=2.11->tensorflow>=2.0->keras-tuner) (5.3.0)\n",
            "Requirement already satisfied: rsa<5,>=3.1.4 in /usr/local/lib/python3.8/dist-packages (from google-auth<3,>=1.6.3->tensorboard<2.12,>=2.11->tensorflow>=2.0->keras-tuner) (4.9)\n",
            "Requirement already satisfied: requests-oauthlib>=0.7.0 in /usr/local/lib/python3.8/dist-packages (from google-auth-oauthlib<0.5,>=0.4.1->tensorboard<2.12,>=2.11->tensorflow>=2.0->keras-tuner) (1.3.1)\n",
            "Requirement already satisfied: importlib-metadata>=4.4 in /usr/local/lib/python3.8/dist-packages (from markdown>=2.6.8->tensorboard<2.12,>=2.11->tensorflow>=2.0->keras-tuner) (6.0.0)\n",
            "Requirement already satisfied: zipp>=0.5 in /usr/local/lib/python3.8/dist-packages (from importlib-metadata>=4.4->markdown>=2.6.8->tensorboard<2.12,>=2.11->tensorflow>=2.0->keras-tuner) (3.13.0)\n",
            "Requirement already satisfied: pyasn1<0.5.0,>=0.4.6 in /usr/local/lib/python3.8/dist-packages (from pyasn1-modules>=0.2.1->google-auth<3,>=1.6.3->tensorboard<2.12,>=2.11->tensorflow>=2.0->keras-tuner) (0.4.8)\n",
            "Requirement already satisfied: oauthlib>=3.0.0 in /usr/local/lib/python3.8/dist-packages (from requests-oauthlib>=0.7.0->google-auth-oauthlib<0.5,>=0.4.1->tensorboard<2.12,>=2.11->tensorflow>=2.0->keras-tuner) (3.2.2)\n",
            "Installing collected packages: kt-legacy, jedi, keras-tuner\n",
            "Successfully installed jedi-0.18.2 keras-tuner-1.2.1 kt-legacy-1.0.4\n"
          ]
        }
      ]
    },
    {
      "cell_type": "markdown",
      "source": [
        "###Load Libraries"
      ],
      "metadata": {
        "id": "r_2Cswg0sYN8"
      }
    },
    {
      "cell_type": "code",
      "source": [
        "import pandas as pd\n",
        "import numpy as np\n",
        "import matplotlib.pyplot as plt\n",
        "import pickle\n",
        "import os\n",
        "import seaborn as sns\n",
        "plt.rcParams['figure.figsize'] = (10, 5)\n",
        "plt.style.use('fivethirtyeight')\n",
        "from plotly.subplots import make_subplots\n",
        "import plotly.graph_objects as go\n",
        "import tensorflow as tf\n",
        "from tensorflow.keras import layers\n",
        "from sklearn.metrics import mean_absolute_error\n",
        "from sklearn.metrics import make_scorer, mean_squared_error\n",
        "from keras.layers import Dense, Dropout\n",
        "from sklearn.metrics import explained_variance_score\n",
        "from sklearn.neural_network import MLPRegressor\n",
        "from sklearn.model_selection import GridSearchCV, RandomizedSearchCV\n",
        "import warnings\n",
        "warnings.filterwarnings('ignore')\n",
        "from keras.models import Sequential\n",
        "from keras.layers import Dense\n",
        "from keras.wrappers.scikit_learn import KerasRegressor\n",
        "from keras.wrappers.scikit_learn import KerasClassifier\n",
        "from sklearn.model_selection import KFold, cross_val_score\n",
        "from scikeras.wrappers import KerasRegressor\n",
        "from tensorflow import keras\n",
        "from kerastuner.tuners import RandomSearch\n",
        "from kerastuner import HyperModel, RandomSearch, Hyperband, BayesianOptimization\n",
        "from keras.callbacks import EarlyStopping\n",
        "from time import time\n",
        "import pickle\n",
        "\n",
        "import matplotlib.dates as mdates\n",
        "from sklearn.preprocessing import RobustScaler\n",
        "from sklearn.preprocessing import MinMaxScaler"
      ],
      "metadata": {
        "id": "eJUaw5qy34It"
      },
      "execution_count": 2,
      "outputs": []
    },
    {
      "cell_type": "code",
      "source": [
        "import random as python_random\n",
        "def reset_seeds():\n",
        "   np.random.seed(123) \n",
        "   python_random.seed(123)\n",
        "   tf.random.set_seed(1234)\n",
        "\n",
        "reset_seeds()"
      ],
      "metadata": {
        "id": "0clMydegB8NR"
      },
      "execution_count": 3,
      "outputs": []
    },
    {
      "cell_type": "markdown",
      "source": [
        "###Define Functions to Facilitate Metrics Evaluation"
      ],
      "metadata": {
        "id": "Gzu9V2o2gfZG"
      }
    },
    {
      "cell_type": "code",
      "source": [
        "#To compute Mean Directional Accuracy\n",
        "def mda(actual: np.ndarray, predicted: np.ndarray):\n",
        "    \"\"\" Mean Directional Accuracy \"\"\"\n",
        "    return np.mean((np.sign(actual[1:] - actual[:-1]) == np.sign(predicted[1:] - predicted[:-1])).astype(int))\n",
        "\n",
        "#Calculate the Mean Absolute Percentage Error\n",
        "#def MAPE(y_true, y_pred): \n",
        "    #mape = np.mean(np.abs((np.array(y_true) - np.array(y_pred)) / np.array(y_true))) * 100\n",
        "    #return mape\n",
        "\n",
        "def mean_absolute_percentage_error(y_true, y_pred): \n",
        "    y_true, y_pred = np.array(y_true), np.array(y_pred)\n",
        "    return np.mean(np.abs((y_true - y_pred) / y_true)) * 100\n",
        "\n",
        "def MAPE(y_true, y_pred): \n",
        "    y_true, y_pred = np.array(y_true), np.array(y_pred)\n",
        "    return np.mean(np.abs((y_true - y_pred) / y_true)) * 100\n",
        "\n",
        "#Calculate the Root Mean Squared Error:\n",
        "def RMSE(y_true, y_pred): \n",
        "    rmse = np.sqrt(mean_squared_error(y_true, y_pred))\n",
        "    return rmse"
      ],
      "metadata": {
        "id": "k7RYx1rN_Yf_"
      },
      "execution_count": 4,
      "outputs": []
    },
    {
      "cell_type": "markdown",
      "source": [
        "###Load the Cleaned Data from Github"
      ],
      "metadata": {
        "id": "FVpIGyF7g4od"
      }
    },
    {
      "cell_type": "code",
      "source": [
        "from pandas import read_csv\n",
        "path = 'https://raw.githubusercontent.com/mofuoku417/Machine-Learning-Techniques-for-Multivariate-Time-Series-Forecasting-of-Crude-Palm-Oil-Prices/main/Cleaned_data/FS_2.csv'\n",
        "df = read_csv(path)\n",
        "df.head()"
      ],
      "metadata": {
        "colab": {
          "base_uri": "https://localhost:8080/",
          "height": 208
        },
        "id": "z_6wFR8b3xZf",
        "outputId": "d579c6e1-17ca-4321-ae9d-f2586755c029"
      },
      "execution_count": 5,
      "outputs": [
        {
          "output_type": "execute_result",
          "data": {
            "text/plain": [
              "      date  cpo_pri  cno_pri  oli_pri  rps_pri  pno_pri  sbo_pri  sfo_pri\n",
              "0  12/1/10      323      455  3102.61   423.45    844.0    468.0    578.0\n",
              "1   1/1/11      345      546  3100.45   415.85    799.0    485.0    557.0\n",
              "2   2/1/11      362      595  3199.41   410.77    718.0    466.0    552.0\n",
              "3   3/1/11      376      636  3281.67   414.82    614.0    442.0    574.0\n",
              "4   4/1/11      383      738  3261.65   451.04    619.0    429.0    595.0"
            ],
            "text/html": [
              "\n",
              "  <div id=\"df-06ef182b-049c-49c7-b175-bc950766b0c0\">\n",
              "    <div class=\"colab-df-container\">\n",
              "      <div>\n",
              "<style scoped>\n",
              "    .dataframe tbody tr th:only-of-type {\n",
              "        vertical-align: middle;\n",
              "    }\n",
              "\n",
              "    .dataframe tbody tr th {\n",
              "        vertical-align: top;\n",
              "    }\n",
              "\n",
              "    .dataframe thead th {\n",
              "        text-align: right;\n",
              "    }\n",
              "</style>\n",
              "<table border=\"1\" class=\"dataframe\">\n",
              "  <thead>\n",
              "    <tr style=\"text-align: right;\">\n",
              "      <th></th>\n",
              "      <th>date</th>\n",
              "      <th>cpo_pri</th>\n",
              "      <th>cno_pri</th>\n",
              "      <th>oli_pri</th>\n",
              "      <th>rps_pri</th>\n",
              "      <th>pno_pri</th>\n",
              "      <th>sbo_pri</th>\n",
              "      <th>sfo_pri</th>\n",
              "    </tr>\n",
              "  </thead>\n",
              "  <tbody>\n",
              "    <tr>\n",
              "      <th>0</th>\n",
              "      <td>12/1/10</td>\n",
              "      <td>323</td>\n",
              "      <td>455</td>\n",
              "      <td>3102.61</td>\n",
              "      <td>423.45</td>\n",
              "      <td>844.0</td>\n",
              "      <td>468.0</td>\n",
              "      <td>578.0</td>\n",
              "    </tr>\n",
              "    <tr>\n",
              "      <th>1</th>\n",
              "      <td>1/1/11</td>\n",
              "      <td>345</td>\n",
              "      <td>546</td>\n",
              "      <td>3100.45</td>\n",
              "      <td>415.85</td>\n",
              "      <td>799.0</td>\n",
              "      <td>485.0</td>\n",
              "      <td>557.0</td>\n",
              "    </tr>\n",
              "    <tr>\n",
              "      <th>2</th>\n",
              "      <td>2/1/11</td>\n",
              "      <td>362</td>\n",
              "      <td>595</td>\n",
              "      <td>3199.41</td>\n",
              "      <td>410.77</td>\n",
              "      <td>718.0</td>\n",
              "      <td>466.0</td>\n",
              "      <td>552.0</td>\n",
              "    </tr>\n",
              "    <tr>\n",
              "      <th>3</th>\n",
              "      <td>3/1/11</td>\n",
              "      <td>376</td>\n",
              "      <td>636</td>\n",
              "      <td>3281.67</td>\n",
              "      <td>414.82</td>\n",
              "      <td>614.0</td>\n",
              "      <td>442.0</td>\n",
              "      <td>574.0</td>\n",
              "    </tr>\n",
              "    <tr>\n",
              "      <th>4</th>\n",
              "      <td>4/1/11</td>\n",
              "      <td>383</td>\n",
              "      <td>738</td>\n",
              "      <td>3261.65</td>\n",
              "      <td>451.04</td>\n",
              "      <td>619.0</td>\n",
              "      <td>429.0</td>\n",
              "      <td>595.0</td>\n",
              "    </tr>\n",
              "  </tbody>\n",
              "</table>\n",
              "</div>\n",
              "      <button class=\"colab-df-convert\" onclick=\"convertToInteractive('df-06ef182b-049c-49c7-b175-bc950766b0c0')\"\n",
              "              title=\"Convert this dataframe to an interactive table.\"\n",
              "              style=\"display:none;\">\n",
              "        \n",
              "  <svg xmlns=\"http://www.w3.org/2000/svg\" height=\"24px\"viewBox=\"0 0 24 24\"\n",
              "       width=\"24px\">\n",
              "    <path d=\"M0 0h24v24H0V0z\" fill=\"none\"/>\n",
              "    <path d=\"M18.56 5.44l.94 2.06.94-2.06 2.06-.94-2.06-.94-.94-2.06-.94 2.06-2.06.94zm-11 1L8.5 8.5l.94-2.06 2.06-.94-2.06-.94L8.5 2.5l-.94 2.06-2.06.94zm10 10l.94 2.06.94-2.06 2.06-.94-2.06-.94-.94-2.06-.94 2.06-2.06.94z\"/><path d=\"M17.41 7.96l-1.37-1.37c-.4-.4-.92-.59-1.43-.59-.52 0-1.04.2-1.43.59L10.3 9.45l-7.72 7.72c-.78.78-.78 2.05 0 2.83L4 21.41c.39.39.9.59 1.41.59.51 0 1.02-.2 1.41-.59l7.78-7.78 2.81-2.81c.8-.78.8-2.07 0-2.86zM5.41 20L4 18.59l7.72-7.72 1.47 1.35L5.41 20z\"/>\n",
              "  </svg>\n",
              "      </button>\n",
              "      \n",
              "  <style>\n",
              "    .colab-df-container {\n",
              "      display:flex;\n",
              "      flex-wrap:wrap;\n",
              "      gap: 12px;\n",
              "    }\n",
              "\n",
              "    .colab-df-convert {\n",
              "      background-color: #E8F0FE;\n",
              "      border: none;\n",
              "      border-radius: 50%;\n",
              "      cursor: pointer;\n",
              "      display: none;\n",
              "      fill: #1967D2;\n",
              "      height: 32px;\n",
              "      padding: 0 0 0 0;\n",
              "      width: 32px;\n",
              "    }\n",
              "\n",
              "    .colab-df-convert:hover {\n",
              "      background-color: #E2EBFA;\n",
              "      box-shadow: 0px 1px 2px rgba(60, 64, 67, 0.3), 0px 1px 3px 1px rgba(60, 64, 67, 0.15);\n",
              "      fill: #174EA6;\n",
              "    }\n",
              "\n",
              "    [theme=dark] .colab-df-convert {\n",
              "      background-color: #3B4455;\n",
              "      fill: #D2E3FC;\n",
              "    }\n",
              "\n",
              "    [theme=dark] .colab-df-convert:hover {\n",
              "      background-color: #434B5C;\n",
              "      box-shadow: 0px 1px 3px 1px rgba(0, 0, 0, 0.15);\n",
              "      filter: drop-shadow(0px 1px 2px rgba(0, 0, 0, 0.3));\n",
              "      fill: #FFFFFF;\n",
              "    }\n",
              "  </style>\n",
              "\n",
              "      <script>\n",
              "        const buttonEl =\n",
              "          document.querySelector('#df-06ef182b-049c-49c7-b175-bc950766b0c0 button.colab-df-convert');\n",
              "        buttonEl.style.display =\n",
              "          google.colab.kernel.accessAllowed ? 'block' : 'none';\n",
              "\n",
              "        async function convertToInteractive(key) {\n",
              "          const element = document.querySelector('#df-06ef182b-049c-49c7-b175-bc950766b0c0');\n",
              "          const dataTable =\n",
              "            await google.colab.kernel.invokeFunction('convertToInteractive',\n",
              "                                                     [key], {});\n",
              "          if (!dataTable) return;\n",
              "\n",
              "          const docLinkHtml = 'Like what you see? Visit the ' +\n",
              "            '<a target=\"_blank\" href=https://colab.research.google.com/notebooks/data_table.ipynb>data table notebook</a>'\n",
              "            + ' to learn more about interactive tables.';\n",
              "          element.innerHTML = '';\n",
              "          dataTable['output_type'] = 'display_data';\n",
              "          await google.colab.output.renderOutput(dataTable, element);\n",
              "          const docLink = document.createElement('div');\n",
              "          docLink.innerHTML = docLinkHtml;\n",
              "          element.appendChild(docLink);\n",
              "        }\n",
              "      </script>\n",
              "    </div>\n",
              "  </div>\n",
              "  "
            ]
          },
          "metadata": {},
          "execution_count": 5
        }
      ]
    },
    {
      "cell_type": "code",
      "source": [
        "df['date']=pd.to_datetime(df['date'])\n",
        "#del df['date']"
      ],
      "metadata": {
        "id": "bABFH7Kd4nBN"
      },
      "execution_count": 6,
      "outputs": []
    },
    {
      "cell_type": "code",
      "source": [
        "df.set_index('date', inplace=True)\n",
        "df.info()"
      ],
      "metadata": {
        "colab": {
          "base_uri": "https://localhost:8080/"
        },
        "id": "nZ-LB-rFdF5N",
        "outputId": "e144efce-abfe-4aac-d35c-9a33f261cbfd"
      },
      "execution_count": 7,
      "outputs": [
        {
          "output_type": "stream",
          "name": "stdout",
          "text": [
            "<class 'pandas.core.frame.DataFrame'>\n",
            "DatetimeIndex: 124 entries, 2010-12-01 to 2021-03-01\n",
            "Data columns (total 7 columns):\n",
            " #   Column   Non-Null Count  Dtype  \n",
            "---  ------   --------------  -----  \n",
            " 0   cpo_pri  124 non-null    int64  \n",
            " 1   cno_pri  124 non-null    int64  \n",
            " 2   oli_pri  124 non-null    float64\n",
            " 3   rps_pri  124 non-null    float64\n",
            " 4   pno_pri  124 non-null    float64\n",
            " 5   sbo_pri  124 non-null    float64\n",
            " 6   sfo_pri  124 non-null    float64\n",
            "dtypes: float64(5), int64(2)\n",
            "memory usage: 7.8 KB\n"
          ]
        }
      ]
    },
    {
      "cell_type": "code",
      "source": [
        "df.head()"
      ],
      "metadata": {
        "colab": {
          "base_uri": "https://localhost:8080/",
          "height": 240
        },
        "id": "PLpdJChY4wex",
        "outputId": "912c536f-1318-42fd-a6f1-c50dc28a5c9c"
      },
      "execution_count": 8,
      "outputs": [
        {
          "output_type": "execute_result",
          "data": {
            "text/plain": [
              "            cpo_pri  cno_pri  oli_pri  rps_pri  pno_pri  sbo_pri  sfo_pri\n",
              "date                                                                     \n",
              "2010-12-01      323      455  3102.61   423.45    844.0    468.0    578.0\n",
              "2011-01-01      345      546  3100.45   415.85    799.0    485.0    557.0\n",
              "2011-02-01      362      595  3199.41   410.77    718.0    466.0    552.0\n",
              "2011-03-01      376      636  3281.67   414.82    614.0    442.0    574.0\n",
              "2011-04-01      383      738  3261.65   451.04    619.0    429.0    595.0"
            ],
            "text/html": [
              "\n",
              "  <div id=\"df-373b7f01-a9ed-44e2-9e3d-70e4ebf09ca8\">\n",
              "    <div class=\"colab-df-container\">\n",
              "      <div>\n",
              "<style scoped>\n",
              "    .dataframe tbody tr th:only-of-type {\n",
              "        vertical-align: middle;\n",
              "    }\n",
              "\n",
              "    .dataframe tbody tr th {\n",
              "        vertical-align: top;\n",
              "    }\n",
              "\n",
              "    .dataframe thead th {\n",
              "        text-align: right;\n",
              "    }\n",
              "</style>\n",
              "<table border=\"1\" class=\"dataframe\">\n",
              "  <thead>\n",
              "    <tr style=\"text-align: right;\">\n",
              "      <th></th>\n",
              "      <th>cpo_pri</th>\n",
              "      <th>cno_pri</th>\n",
              "      <th>oli_pri</th>\n",
              "      <th>rps_pri</th>\n",
              "      <th>pno_pri</th>\n",
              "      <th>sbo_pri</th>\n",
              "      <th>sfo_pri</th>\n",
              "    </tr>\n",
              "    <tr>\n",
              "      <th>date</th>\n",
              "      <th></th>\n",
              "      <th></th>\n",
              "      <th></th>\n",
              "      <th></th>\n",
              "      <th></th>\n",
              "      <th></th>\n",
              "      <th></th>\n",
              "    </tr>\n",
              "  </thead>\n",
              "  <tbody>\n",
              "    <tr>\n",
              "      <th>2010-12-01</th>\n",
              "      <td>323</td>\n",
              "      <td>455</td>\n",
              "      <td>3102.61</td>\n",
              "      <td>423.45</td>\n",
              "      <td>844.0</td>\n",
              "      <td>468.0</td>\n",
              "      <td>578.0</td>\n",
              "    </tr>\n",
              "    <tr>\n",
              "      <th>2011-01-01</th>\n",
              "      <td>345</td>\n",
              "      <td>546</td>\n",
              "      <td>3100.45</td>\n",
              "      <td>415.85</td>\n",
              "      <td>799.0</td>\n",
              "      <td>485.0</td>\n",
              "      <td>557.0</td>\n",
              "    </tr>\n",
              "    <tr>\n",
              "      <th>2011-02-01</th>\n",
              "      <td>362</td>\n",
              "      <td>595</td>\n",
              "      <td>3199.41</td>\n",
              "      <td>410.77</td>\n",
              "      <td>718.0</td>\n",
              "      <td>466.0</td>\n",
              "      <td>552.0</td>\n",
              "    </tr>\n",
              "    <tr>\n",
              "      <th>2011-03-01</th>\n",
              "      <td>376</td>\n",
              "      <td>636</td>\n",
              "      <td>3281.67</td>\n",
              "      <td>414.82</td>\n",
              "      <td>614.0</td>\n",
              "      <td>442.0</td>\n",
              "      <td>574.0</td>\n",
              "    </tr>\n",
              "    <tr>\n",
              "      <th>2011-04-01</th>\n",
              "      <td>383</td>\n",
              "      <td>738</td>\n",
              "      <td>3261.65</td>\n",
              "      <td>451.04</td>\n",
              "      <td>619.0</td>\n",
              "      <td>429.0</td>\n",
              "      <td>595.0</td>\n",
              "    </tr>\n",
              "  </tbody>\n",
              "</table>\n",
              "</div>\n",
              "      <button class=\"colab-df-convert\" onclick=\"convertToInteractive('df-373b7f01-a9ed-44e2-9e3d-70e4ebf09ca8')\"\n",
              "              title=\"Convert this dataframe to an interactive table.\"\n",
              "              style=\"display:none;\">\n",
              "        \n",
              "  <svg xmlns=\"http://www.w3.org/2000/svg\" height=\"24px\"viewBox=\"0 0 24 24\"\n",
              "       width=\"24px\">\n",
              "    <path d=\"M0 0h24v24H0V0z\" fill=\"none\"/>\n",
              "    <path d=\"M18.56 5.44l.94 2.06.94-2.06 2.06-.94-2.06-.94-.94-2.06-.94 2.06-2.06.94zm-11 1L8.5 8.5l.94-2.06 2.06-.94-2.06-.94L8.5 2.5l-.94 2.06-2.06.94zm10 10l.94 2.06.94-2.06 2.06-.94-2.06-.94-.94-2.06-.94 2.06-2.06.94z\"/><path d=\"M17.41 7.96l-1.37-1.37c-.4-.4-.92-.59-1.43-.59-.52 0-1.04.2-1.43.59L10.3 9.45l-7.72 7.72c-.78.78-.78 2.05 0 2.83L4 21.41c.39.39.9.59 1.41.59.51 0 1.02-.2 1.41-.59l7.78-7.78 2.81-2.81c.8-.78.8-2.07 0-2.86zM5.41 20L4 18.59l7.72-7.72 1.47 1.35L5.41 20z\"/>\n",
              "  </svg>\n",
              "      </button>\n",
              "      \n",
              "  <style>\n",
              "    .colab-df-container {\n",
              "      display:flex;\n",
              "      flex-wrap:wrap;\n",
              "      gap: 12px;\n",
              "    }\n",
              "\n",
              "    .colab-df-convert {\n",
              "      background-color: #E8F0FE;\n",
              "      border: none;\n",
              "      border-radius: 50%;\n",
              "      cursor: pointer;\n",
              "      display: none;\n",
              "      fill: #1967D2;\n",
              "      height: 32px;\n",
              "      padding: 0 0 0 0;\n",
              "      width: 32px;\n",
              "    }\n",
              "\n",
              "    .colab-df-convert:hover {\n",
              "      background-color: #E2EBFA;\n",
              "      box-shadow: 0px 1px 2px rgba(60, 64, 67, 0.3), 0px 1px 3px 1px rgba(60, 64, 67, 0.15);\n",
              "      fill: #174EA6;\n",
              "    }\n",
              "\n",
              "    [theme=dark] .colab-df-convert {\n",
              "      background-color: #3B4455;\n",
              "      fill: #D2E3FC;\n",
              "    }\n",
              "\n",
              "    [theme=dark] .colab-df-convert:hover {\n",
              "      background-color: #434B5C;\n",
              "      box-shadow: 0px 1px 3px 1px rgba(0, 0, 0, 0.15);\n",
              "      filter: drop-shadow(0px 1px 2px rgba(0, 0, 0, 0.3));\n",
              "      fill: #FFFFFF;\n",
              "    }\n",
              "  </style>\n",
              "\n",
              "      <script>\n",
              "        const buttonEl =\n",
              "          document.querySelector('#df-373b7f01-a9ed-44e2-9e3d-70e4ebf09ca8 button.colab-df-convert');\n",
              "        buttonEl.style.display =\n",
              "          google.colab.kernel.accessAllowed ? 'block' : 'none';\n",
              "\n",
              "        async function convertToInteractive(key) {\n",
              "          const element = document.querySelector('#df-373b7f01-a9ed-44e2-9e3d-70e4ebf09ca8');\n",
              "          const dataTable =\n",
              "            await google.colab.kernel.invokeFunction('convertToInteractive',\n",
              "                                                     [key], {});\n",
              "          if (!dataTable) return;\n",
              "\n",
              "          const docLinkHtml = 'Like what you see? Visit the ' +\n",
              "            '<a target=\"_blank\" href=https://colab.research.google.com/notebooks/data_table.ipynb>data table notebook</a>'\n",
              "            + ' to learn more about interactive tables.';\n",
              "          element.innerHTML = '';\n",
              "          dataTable['output_type'] = 'display_data';\n",
              "          await google.colab.output.renderOutput(dataTable, element);\n",
              "          const docLink = document.createElement('div');\n",
              "          docLink.innerHTML = docLinkHtml;\n",
              "          element.appendChild(docLink);\n",
              "        }\n",
              "      </script>\n",
              "    </div>\n",
              "  </div>\n",
              "  "
            ]
          },
          "metadata": {},
          "execution_count": 8
        }
      ]
    },
    {
      "cell_type": "code",
      "source": [
        "# Plot an area chart\n",
        "plt.figure(figsize=(25,10))\n",
        "ax = df.plot.area(fontsize=12);\n",
        "\n",
        "# Additional customizations\n",
        "ax.set_xlabel('date');\n",
        "ax.legend(fontsize=12);"
      ],
      "metadata": {
        "colab": {
          "base_uri": "https://localhost:8080/",
          "height": 379
        },
        "id": "pnKg-SfY6j9g",
        "outputId": "4edb4678-64c0-4313-b0b9-009feadd264a"
      },
      "execution_count": 9,
      "outputs": [
        {
          "output_type": "display_data",
          "data": {
            "text/plain": [
              "<Figure size 1800x720 with 0 Axes>"
            ]
          },
          "metadata": {}
        },
        {
          "output_type": "display_data",
          "data": {
            "text/plain": [
              "<Figure size 720x360 with 1 Axes>"
            ],
            "image/png": "[encoded data removed]"
          },
          "metadata": {}
        }
      ]
    },
    {
      "cell_type": "markdown",
      "source": [
        "##**Multi-layer Perceptron Forecasting Technique (MLP)**"
      ],
      "metadata": {
        "id": "dPoGjuS366Cc"
      }
    },
    {
      "cell_type": "markdown",
      "source": [
        "###**Split Data into Train Test Segments**"
      ],
      "metadata": {
        "id": "vFpT6OrD7KRv"
      }
    },
    {
      "cell_type": "code",
      "source": [
        "train_size = int(len(df) * 0.8)\n",
        "test_size = len(df) - train_size\n",
        "train, test = df.iloc[0:train_size], df.iloc[train_size:len(df)]\n",
        "print('Train size:',len(train))\n",
        "print('Test size:', len(test))"
      ],
      "metadata": {
        "colab": {
          "base_uri": "https://localhost:8080/"
        },
        "id": "nYZL-9Sy3xpJ",
        "outputId": "212c7996-43c5-4e2d-ac71-90a56a6de509"
      },
      "execution_count": 10,
      "outputs": [
        {
          "output_type": "stream",
          "name": "stdout",
          "text": [
            "Train size: 99\n",
            "Test size: 25\n"
          ]
        }
      ]
    },
    {
      "cell_type": "code",
      "source": [
        "split_date = '2019-02'\n",
        "df_training = df.loc[df.index <= split_date]\n",
        "df_test = df.loc[df.index > split_date]\n",
        "print(f\"{len(df_training)} days of training data \\n {len(df_test)} days of testing data \")"
      ],
      "metadata": {
        "colab": {
          "base_uri": "https://localhost:8080/"
        },
        "id": "qKDDSdp_JVu6",
        "outputId": "136322c5-7f61-481d-d1b9-8cefac2f6ebd"
      },
      "execution_count": 11,
      "outputs": [
        {
          "output_type": "stream",
          "name": "stdout",
          "text": [
            "99 days of training data \n",
            " 25 days of testing data \n"
          ]
        }
      ]
    },
    {
      "cell_type": "code",
      "source": [
        "train, test = df.iloc[0:train_size], df.iloc[train_size:len(df)]\n",
        "print(len(train), len(test))"
      ],
      "metadata": {
        "colab": {
          "base_uri": "https://localhost:8080/"
        },
        "id": "DGrD2nxFmNSu",
        "outputId": "a21d80a3-f67b-45f4-e21e-695883b581df"
      },
      "execution_count": 12,
      "outputs": [
        {
          "output_type": "stream",
          "name": "stdout",
          "text": [
            "99 25\n"
          ]
        }
      ]
    },
    {
      "cell_type": "code",
      "source": [
        "print(train.shape)\n",
        "train.head()"
      ],
      "metadata": {
        "colab": {
          "base_uri": "https://localhost:8080/",
          "height": 258
        },
        "id": "QvbHy-5RmPuI",
        "outputId": "2d907495-2a1c-4396-fa64-aabb514de899"
      },
      "execution_count": 13,
      "outputs": [
        {
          "output_type": "stream",
          "name": "stdout",
          "text": [
            "(99, 7)\n"
          ]
        },
        {
          "output_type": "execute_result",
          "data": {
            "text/plain": [
              "            cpo_pri  cno_pri  oli_pri  rps_pri  pno_pri  sbo_pri  sfo_pri\n",
              "date                                                                     \n",
              "2010-12-01      323      455  3102.61   423.45    844.0    468.0    578.0\n",
              "2011-01-01      345      546  3100.45   415.85    799.0    485.0    557.0\n",
              "2011-02-01      362      595  3199.41   410.77    718.0    466.0    552.0\n",
              "2011-03-01      376      636  3281.67   414.82    614.0    442.0    574.0\n",
              "2011-04-01      383      738  3261.65   451.04    619.0    429.0    595.0"
            ],
            "text/html": [
              "\n",
              "  <div id=\"df-e522039f-154b-4817-8f83-5ec46a0ad08a\">\n",
              "    <div class=\"colab-df-container\">\n",
              "      <div>\n",
              "<style scoped>\n",
              "    .dataframe tbody tr th:only-of-type {\n",
              "        vertical-align: middle;\n",
              "    }\n",
              "\n",
              "    .dataframe tbody tr th {\n",
              "        vertical-align: top;\n",
              "    }\n",
              "\n",
              "    .dataframe thead th {\n",
              "        text-align: right;\n",
              "    }\n",
              "</style>\n",
              "<table border=\"1\" class=\"dataframe\">\n",
              "  <thead>\n",
              "    <tr style=\"text-align: right;\">\n",
              "      <th></th>\n",
              "      <th>cpo_pri</th>\n",
              "      <th>cno_pri</th>\n",
              "      <th>oli_pri</th>\n",
              "      <th>rps_pri</th>\n",
              "      <th>pno_pri</th>\n",
              "      <th>sbo_pri</th>\n",
              "      <th>sfo_pri</th>\n",
              "    </tr>\n",
              "    <tr>\n",
              "      <th>date</th>\n",
              "      <th></th>\n",
              "      <th></th>\n",
              "      <th></th>\n",
              "      <th></th>\n",
              "      <th></th>\n",
              "      <th></th>\n",
              "      <th></th>\n",
              "    </tr>\n",
              "  </thead>\n",
              "  <tbody>\n",
              "    <tr>\n",
              "      <th>2010-12-01</th>\n",
              "      <td>323</td>\n",
              "      <td>455</td>\n",
              "      <td>3102.61</td>\n",
              "      <td>423.45</td>\n",
              "      <td>844.0</td>\n",
              "      <td>468.0</td>\n",
              "      <td>578.0</td>\n",
              "    </tr>\n",
              "    <tr>\n",
              "      <th>2011-01-01</th>\n",
              "      <td>345</td>\n",
              "      <td>546</td>\n",
              "      <td>3100.45</td>\n",
              "      <td>415.85</td>\n",
              "      <td>799.0</td>\n",
              "      <td>485.0</td>\n",
              "      <td>557.0</td>\n",
              "    </tr>\n",
              "    <tr>\n",
              "      <th>2011-02-01</th>\n",
              "      <td>362</td>\n",
              "      <td>595</td>\n",
              "      <td>3199.41</td>\n",
              "      <td>410.77</td>\n",
              "      <td>718.0</td>\n",
              "      <td>466.0</td>\n",
              "      <td>552.0</td>\n",
              "    </tr>\n",
              "    <tr>\n",
              "      <th>2011-03-01</th>\n",
              "      <td>376</td>\n",
              "      <td>636</td>\n",
              "      <td>3281.67</td>\n",
              "      <td>414.82</td>\n",
              "      <td>614.0</td>\n",
              "      <td>442.0</td>\n",
              "      <td>574.0</td>\n",
              "    </tr>\n",
              "    <tr>\n",
              "      <th>2011-04-01</th>\n",
              "      <td>383</td>\n",
              "      <td>738</td>\n",
              "      <td>3261.65</td>\n",
              "      <td>451.04</td>\n",
              "      <td>619.0</td>\n",
              "      <td>429.0</td>\n",
              "      <td>595.0</td>\n",
              "    </tr>\n",
              "  </tbody>\n",
              "</table>\n",
              "</div>\n",
              "      <button class=\"colab-df-convert\" onclick=\"convertToInteractive('df-e522039f-154b-4817-8f83-5ec46a0ad08a')\"\n",
              "              title=\"Convert this dataframe to an interactive table.\"\n",
              "              style=\"display:none;\">\n",
              "        \n",
              "  <svg xmlns=\"http://www.w3.org/2000/svg\" height=\"24px\"viewBox=\"0 0 24 24\"\n",
              "       width=\"24px\">\n",
              "    <path d=\"M0 0h24v24H0V0z\" fill=\"none\"/>\n",
              "    <path d=\"M18.56 5.44l.94 2.06.94-2.06 2.06-.94-2.06-.94-.94-2.06-.94 2.06-2.06.94zm-11 1L8.5 8.5l.94-2.06 2.06-.94-2.06-.94L8.5 2.5l-.94 2.06-2.06.94zm10 10l.94 2.06.94-2.06 2.06-.94-2.06-.94-.94-2.06-.94 2.06-2.06.94z\"/><path d=\"M17.41 7.96l-1.37-1.37c-.4-.4-.92-.59-1.43-.59-.52 0-1.04.2-1.43.59L10.3 9.45l-7.72 7.72c-.78.78-.78 2.05 0 2.83L4 21.41c.39.39.9.59 1.41.59.51 0 1.02-.2 1.41-.59l7.78-7.78 2.81-2.81c.8-.78.8-2.07 0-2.86zM5.41 20L4 18.59l7.72-7.72 1.47 1.35L5.41 20z\"/>\n",
              "  </svg>\n",
              "      </button>\n",
              "      \n",
              "  <style>\n",
              "    .colab-df-container {\n",
              "      display:flex;\n",
              "      flex-wrap:wrap;\n",
              "      gap: 12px;\n",
              "    }\n",
              "\n",
              "    .colab-df-convert {\n",
              "      background-color: #E8F0FE;\n",
              "      border: none;\n",
              "      border-radius: 50%;\n",
              "      cursor: pointer;\n",
              "      display: none;\n",
              "      fill: #1967D2;\n",
              "      height: 32px;\n",
              "      padding: 0 0 0 0;\n",
              "      width: 32px;\n",
              "    }\n",
              "\n",
              "    .colab-df-convert:hover {\n",
              "      background-color: #E2EBFA;\n",
              "      box-shadow: 0px 1px 2px rgba(60, 64, 67, 0.3), 0px 1px 3px 1px rgba(60, 64, 67, 0.15);\n",
              "      fill: #174EA6;\n",
              "    }\n",
              "\n",
              "    [theme=dark] .colab-df-convert {\n",
              "      background-color: #3B4455;\n",
              "      fill: #D2E3FC;\n",
              "    }\n",
              "\n",
              "    [theme=dark] .colab-df-convert:hover {\n",
              "      background-color: #434B5C;\n",
              "      box-shadow: 0px 1px 3px 1px rgba(0, 0, 0, 0.15);\n",
              "      filter: drop-shadow(0px 1px 2px rgba(0, 0, 0, 0.3));\n",
              "      fill: #FFFFFF;\n",
              "    }\n",
              "  </style>\n",
              "\n",
              "      <script>\n",
              "        const buttonEl =\n",
              "          document.querySelector('#df-e522039f-154b-4817-8f83-5ec46a0ad08a button.colab-df-convert');\n",
              "        buttonEl.style.display =\n",
              "          google.colab.kernel.accessAllowed ? 'block' : 'none';\n",
              "\n",
              "        async function convertToInteractive(key) {\n",
              "          const element = document.querySelector('#df-e522039f-154b-4817-8f83-5ec46a0ad08a');\n",
              "          const dataTable =\n",
              "            await google.colab.kernel.invokeFunction('convertToInteractive',\n",
              "                                                     [key], {});\n",
              "          if (!dataTable) return;\n",
              "\n",
              "          const docLinkHtml = 'Like what you see? Visit the ' +\n",
              "            '<a target=\"_blank\" href=https://colab.research.google.com/notebooks/data_table.ipynb>data table notebook</a>'\n",
              "            + ' to learn more about interactive tables.';\n",
              "          element.innerHTML = '';\n",
              "          dataTable['output_type'] = 'display_data';\n",
              "          await google.colab.output.renderOutput(dataTable, element);\n",
              "          const docLink = document.createElement('div');\n",
              "          docLink.innerHTML = docLinkHtml;\n",
              "          element.appendChild(docLink);\n",
              "        }\n",
              "      </script>\n",
              "    </div>\n",
              "  </div>\n",
              "  "
            ]
          },
          "metadata": {},
          "execution_count": 13
        }
      ]
    },
    {
      "cell_type": "markdown",
      "source": [
        "###Rescaling Training Data"
      ],
      "metadata": {
        "id": "Z5F4OyT2mwRs"
      }
    },
    {
      "cell_type": "code",
      "source": [
        "f_transformer = MinMaxScaler()\n",
        "feature_columns = ['cno_pri', 'oli_pri', 'rps_pri', 'pno_pri', 'sbo_pri', 'sfo_pri']\n",
        "f_transformer = f_transformer.fit(train[feature_columns].to_numpy())\n",
        "train.loc[:, feature_columns] = f_transformer.transform(train[feature_columns].to_numpy())\n",
        "train.head()"
      ],
      "metadata": {
        "colab": {
          "base_uri": "https://localhost:8080/",
          "height": 240
        },
        "id": "Lg-AQuNBmvZK",
        "outputId": "d314c3e4-8bdd-4669-ff6c-0b6d952877f2"
      },
      "execution_count": 14,
      "outputs": [
        {
          "output_type": "execute_result",
          "data": {
            "text/plain": [
              "            cpo_pri   cno_pri   oli_pri   rps_pri   pno_pri   sbo_pri  \\\n",
              "date                                                                    \n",
              "2010-12-01      323  0.112288  0.140918  0.010736  0.528090  0.253193   \n",
              "2011-01-01      345  0.305085  0.140327  0.004301  0.443820  0.306536   \n",
              "2011-02-01      362  0.408898  0.167408  0.000000  0.292135  0.246917   \n",
              "2011-03-01      376  0.495763  0.189919  0.003429  0.097378  0.171609   \n",
              "2011-04-01      383  0.711864  0.184440  0.034095  0.106742  0.130817   \n",
              "\n",
              "             sfo_pri  \n",
              "date                  \n",
              "2010-12-01  0.023302  \n",
              "2011-01-01  0.009321  \n",
              "2011-02-01  0.005992  \n",
              "2011-03-01  0.020639  \n",
              "2011-04-01  0.034621  "
            ],
            "text/html": [
              "\n",
              "  <div id=\"df-980540ec-cd17-481b-bf3e-cdb1d29c9d0c\">\n",
              "    <div class=\"colab-df-container\">\n",
              "      <div>\n",
              "<style scoped>\n",
              "    .dataframe tbody tr th:only-of-type {\n",
              "        vertical-align: middle;\n",
              "    }\n",
              "\n",
              "    .dataframe tbody tr th {\n",
              "        vertical-align: top;\n",
              "    }\n",
              "\n",
              "    .dataframe thead th {\n",
              "        text-align: right;\n",
              "    }\n",
              "</style>\n",
              "<table border=\"1\" class=\"dataframe\">\n",
              "  <thead>\n",
              "    <tr style=\"text-align: right;\">\n",
              "      <th></th>\n",
              "      <th>cpo_pri</th>\n",
              "      <th>cno_pri</th>\n",
              "      <th>oli_pri</th>\n",
              "      <th>rps_pri</th>\n",
              "      <th>pno_pri</th>\n",
              "      <th>sbo_pri</th>\n",
              "      <th>sfo_pri</th>\n",
              "    </tr>\n",
              "    <tr>\n",
              "      <th>date</th>\n",
              "      <th></th>\n",
              "      <th></th>\n",
              "      <th></th>\n",
              "      <th></th>\n",
              "      <th></th>\n",
              "      <th></th>\n",
              "      <th></th>\n",
              "    </tr>\n",
              "  </thead>\n",
              "  <tbody>\n",
              "    <tr>\n",
              "      <th>2010-12-01</th>\n",
              "      <td>323</td>\n",
              "      <td>0.112288</td>\n",
              "      <td>0.140918</td>\n",
              "      <td>0.010736</td>\n",
              "      <td>0.528090</td>\n",
              "      <td>0.253193</td>\n",
              "      <td>0.023302</td>\n",
              "    </tr>\n",
              "    <tr>\n",
              "      <th>2011-01-01</th>\n",
              "      <td>345</td>\n",
              "      <td>0.305085</td>\n",
              "      <td>0.140327</td>\n",
              "      <td>0.004301</td>\n",
              "      <td>0.443820</td>\n",
              "      <td>0.306536</td>\n",
              "      <td>0.009321</td>\n",
              "    </tr>\n",
              "    <tr>\n",
              "      <th>2011-02-01</th>\n",
              "      <td>362</td>\n",
              "      <td>0.408898</td>\n",
              "      <td>0.167408</td>\n",
              "      <td>0.000000</td>\n",
              "      <td>0.292135</td>\n",
              "      <td>0.246917</td>\n",
              "      <td>0.005992</td>\n",
              "    </tr>\n",
              "    <tr>\n",
              "      <th>2011-03-01</th>\n",
              "      <td>376</td>\n",
              "      <td>0.495763</td>\n",
              "      <td>0.189919</td>\n",
              "      <td>0.003429</td>\n",
              "      <td>0.097378</td>\n",
              "      <td>0.171609</td>\n",
              "      <td>0.020639</td>\n",
              "    </tr>\n",
              "    <tr>\n",
              "      <th>2011-04-01</th>\n",
              "      <td>383</td>\n",
              "      <td>0.711864</td>\n",
              "      <td>0.184440</td>\n",
              "      <td>0.034095</td>\n",
              "      <td>0.106742</td>\n",
              "      <td>0.130817</td>\n",
              "      <td>0.034621</td>\n",
              "    </tr>\n",
              "  </tbody>\n",
              "</table>\n",
              "</div>\n",
              "      <button class=\"colab-df-convert\" onclick=\"convertToInteractive('df-980540ec-cd17-481b-bf3e-cdb1d29c9d0c')\"\n",
              "              title=\"Convert this dataframe to an interactive table.\"\n",
              "              style=\"display:none;\">\n",
              "        \n",
              "  <svg xmlns=\"http://www.w3.org/2000/svg\" height=\"24px\"viewBox=\"0 0 24 24\"\n",
              "       width=\"24px\">\n",
              "    <path d=\"M0 0h24v24H0V0z\" fill=\"none\"/>\n",
              "    <path d=\"M18.56 5.44l.94 2.06.94-2.06 2.06-.94-2.06-.94-.94-2.06-.94 2.06-2.06.94zm-11 1L8.5 8.5l.94-2.06 2.06-.94-2.06-.94L8.5 2.5l-.94 2.06-2.06.94zm10 10l.94 2.06.94-2.06 2.06-.94-2.06-.94-.94-2.06-.94 2.06-2.06.94z\"/><path d=\"M17.41 7.96l-1.37-1.37c-.4-.4-.92-.59-1.43-.59-.52 0-1.04.2-1.43.59L10.3 9.45l-7.72 7.72c-.78.78-.78 2.05 0 2.83L4 21.41c.39.39.9.59 1.41.59.51 0 1.02-.2 1.41-.59l7.78-7.78 2.81-2.81c.8-.78.8-2.07 0-2.86zM5.41 20L4 18.59l7.72-7.72 1.47 1.35L5.41 20z\"/>\n",
              "  </svg>\n",
              "      </button>\n",
              "      \n",
              "  <style>\n",
              "    .colab-df-container {\n",
              "      display:flex;\n",
              "      flex-wrap:wrap;\n",
              "      gap: 12px;\n",
              "    }\n",
              "\n",
              "    .colab-df-convert {\n",
              "      background-color: #E8F0FE;\n",
              "      border: none;\n",
              "      border-radius: 50%;\n",
              "      cursor: pointer;\n",
              "      display: none;\n",
              "      fill: #1967D2;\n",
              "      height: 32px;\n",
              "      padding: 0 0 0 0;\n",
              "      width: 32px;\n",
              "    }\n",
              "\n",
              "    .colab-df-convert:hover {\n",
              "      background-color: #E2EBFA;\n",
              "      box-shadow: 0px 1px 2px rgba(60, 64, 67, 0.3), 0px 1px 3px 1px rgba(60, 64, 67, 0.15);\n",
              "      fill: #174EA6;\n",
              "    }\n",
              "\n",
              "    [theme=dark] .colab-df-convert {\n",
              "      background-color: #3B4455;\n",
              "      fill: #D2E3FC;\n",
              "    }\n",
              "\n",
              "    [theme=dark] .colab-df-convert:hover {\n",
              "      background-color: #434B5C;\n",
              "      box-shadow: 0px 1px 3px 1px rgba(0, 0, 0, 0.15);\n",
              "      filter: drop-shadow(0px 1px 2px rgba(0, 0, 0, 0.3));\n",
              "      fill: #FFFFFF;\n",
              "    }\n",
              "  </style>\n",
              "\n",
              "      <script>\n",
              "        const buttonEl =\n",
              "          document.querySelector('#df-980540ec-cd17-481b-bf3e-cdb1d29c9d0c button.colab-df-convert');\n",
              "        buttonEl.style.display =\n",
              "          google.colab.kernel.accessAllowed ? 'block' : 'none';\n",
              "\n",
              "        async function convertToInteractive(key) {\n",
              "          const element = document.querySelector('#df-980540ec-cd17-481b-bf3e-cdb1d29c9d0c');\n",
              "          const dataTable =\n",
              "            await google.colab.kernel.invokeFunction('convertToInteractive',\n",
              "                                                     [key], {});\n",
              "          if (!dataTable) return;\n",
              "\n",
              "          const docLinkHtml = 'Like what you see? Visit the ' +\n",
              "            '<a target=\"_blank\" href=https://colab.research.google.com/notebooks/data_table.ipynb>data table notebook</a>'\n",
              "            + ' to learn more about interactive tables.';\n",
              "          element.innerHTML = '';\n",
              "          dataTable['output_type'] = 'display_data';\n",
              "          await google.colab.output.renderOutput(dataTable, element);\n",
              "          const docLink = document.createElement('div');\n",
              "          docLink.innerHTML = docLinkHtml;\n",
              "          element.appendChild(docLink);\n",
              "        }\n",
              "      </script>\n",
              "    </div>\n",
              "  </div>\n",
              "  "
            ]
          },
          "metadata": {},
          "execution_count": 14
        }
      ]
    },
    {
      "cell_type": "code",
      "source": [
        "cpo_pri_transformer = MinMaxScaler()\n",
        "cpo_pri_transformer = cpo_pri_transformer.fit(train[['cpo_pri']])\n",
        "train['cpo_pri'] = cpo_pri_transformer.transform(train[['cpo_pri']])\n",
        "train['cpo_pri'].head()"
      ],
      "metadata": {
        "colab": {
          "base_uri": "https://localhost:8080/"
        },
        "id": "XNkE4gN9nJLt",
        "outputId": "e64432b2-558f-49a3-d68f-e7e20ec4d575"
      },
      "execution_count": 15,
      "outputs": [
        {
          "output_type": "execute_result",
          "data": {
            "text/plain": [
              "date\n",
              "2010-12-01    0.0100\n",
              "2011-01-01    0.0650\n",
              "2011-02-01    0.1075\n",
              "2011-03-01    0.1425\n",
              "2011-04-01    0.1600\n",
              "Name: cpo_pri, dtype: float64"
            ]
          },
          "metadata": {},
          "execution_count": 15
        }
      ]
    },
    {
      "cell_type": "code",
      "source": [
        "test.loc[:, feature_columns] = f_transformer.transform(test[feature_columns].to_numpy())\n",
        "test.head()"
      ],
      "metadata": {
        "colab": {
          "base_uri": "https://localhost:8080/",
          "height": 240
        },
        "id": "aouQuJG5n6k8",
        "outputId": "aa9cf127-b55e-45b8-e440-04cd2d2a7451"
      },
      "execution_count": 16,
      "outputs": [
        {
          "output_type": "execute_result",
          "data": {
            "text/plain": [
              "            cpo_pri   cno_pri   oli_pri   rps_pri   pno_pri   sbo_pri  \\\n",
              "date                                                                    \n",
              "2019-03-01      354  0.637712  0.194855  0.382454  0.381292 -0.039662   \n",
              "2019-04-01      348  0.533898  0.264388  0.393951  0.213633 -0.054975   \n",
              "2019-05-01      332  0.400424  0.246417  0.453802  0.235262 -0.092159   \n",
              "2019-06-01      349  0.317797  0.234308  0.509834  0.320749 -0.074743   \n",
              "2019-07-01      372  0.313559  0.223422  0.526454  0.426610 -0.066114   \n",
              "\n",
              "             sfo_pri  \n",
              "date                  \n",
              "2019-03-01  0.493342  \n",
              "2019-04-01  0.597870  \n",
              "2019-05-01  0.606525  \n",
              "2019-06-01  0.631824  \n",
              "2019-07-01  0.773462  "
            ],
            "text/html": [
              "\n",
              "  <div id=\"df-9063a15f-4b7f-4182-a140-80bbeec4cba2\">\n",
              "    <div class=\"colab-df-container\">\n",
              "      <div>\n",
              "<style scoped>\n",
              "    .dataframe tbody tr th:only-of-type {\n",
              "        vertical-align: middle;\n",
              "    }\n",
              "\n",
              "    .dataframe tbody tr th {\n",
              "        vertical-align: top;\n",
              "    }\n",
              "\n",
              "    .dataframe thead th {\n",
              "        text-align: right;\n",
              "    }\n",
              "</style>\n",
              "<table border=\"1\" class=\"dataframe\">\n",
              "  <thead>\n",
              "    <tr style=\"text-align: right;\">\n",
              "      <th></th>\n",
              "      <th>cpo_pri</th>\n",
              "      <th>cno_pri</th>\n",
              "      <th>oli_pri</th>\n",
              "      <th>rps_pri</th>\n",
              "      <th>pno_pri</th>\n",
              "      <th>sbo_pri</th>\n",
              "      <th>sfo_pri</th>\n",
              "    </tr>\n",
              "    <tr>\n",
              "      <th>date</th>\n",
              "      <th></th>\n",
              "      <th></th>\n",
              "      <th></th>\n",
              "      <th></th>\n",
              "      <th></th>\n",
              "      <th></th>\n",
              "      <th></th>\n",
              "    </tr>\n",
              "  </thead>\n",
              "  <tbody>\n",
              "    <tr>\n",
              "      <th>2019-03-01</th>\n",
              "      <td>354</td>\n",
              "      <td>0.637712</td>\n",
              "      <td>0.194855</td>\n",
              "      <td>0.382454</td>\n",
              "      <td>0.381292</td>\n",
              "      <td>-0.039662</td>\n",
              "      <td>0.493342</td>\n",
              "    </tr>\n",
              "    <tr>\n",
              "      <th>2019-04-01</th>\n",
              "      <td>348</td>\n",
              "      <td>0.533898</td>\n",
              "      <td>0.264388</td>\n",
              "      <td>0.393951</td>\n",
              "      <td>0.213633</td>\n",
              "      <td>-0.054975</td>\n",
              "      <td>0.597870</td>\n",
              "    </tr>\n",
              "    <tr>\n",
              "      <th>2019-05-01</th>\n",
              "      <td>332</td>\n",
              "      <td>0.400424</td>\n",
              "      <td>0.246417</td>\n",
              "      <td>0.453802</td>\n",
              "      <td>0.235262</td>\n",
              "      <td>-0.092159</td>\n",
              "      <td>0.606525</td>\n",
              "    </tr>\n",
              "    <tr>\n",
              "      <th>2019-06-01</th>\n",
              "      <td>349</td>\n",
              "      <td>0.317797</td>\n",
              "      <td>0.234308</td>\n",
              "      <td>0.509834</td>\n",
              "      <td>0.320749</td>\n",
              "      <td>-0.074743</td>\n",
              "      <td>0.631824</td>\n",
              "    </tr>\n",
              "    <tr>\n",
              "      <th>2019-07-01</th>\n",
              "      <td>372</td>\n",
              "      <td>0.313559</td>\n",
              "      <td>0.223422</td>\n",
              "      <td>0.526454</td>\n",
              "      <td>0.426610</td>\n",
              "      <td>-0.066114</td>\n",
              "      <td>0.773462</td>\n",
              "    </tr>\n",
              "  </tbody>\n",
              "</table>\n",
              "</div>\n",
              "      <button class=\"colab-df-convert\" onclick=\"convertToInteractive('df-9063a15f-4b7f-4182-a140-80bbeec4cba2')\"\n",
              "              title=\"Convert this dataframe to an interactive table.\"\n",
              "              style=\"display:none;\">\n",
              "        \n",
              "  <svg xmlns=\"http://www.w3.org/2000/svg\" height=\"24px\"viewBox=\"0 0 24 24\"\n",
              "       width=\"24px\">\n",
              "    <path d=\"M0 0h24v24H0V0z\" fill=\"none\"/>\n",
              "    <path d=\"M18.56 5.44l.94 2.06.94-2.06 2.06-.94-2.06-.94-.94-2.06-.94 2.06-2.06.94zm-11 1L8.5 8.5l.94-2.06 2.06-.94-2.06-.94L8.5 2.5l-.94 2.06-2.06.94zm10 10l.94 2.06.94-2.06 2.06-.94-2.06-.94-.94-2.06-.94 2.06-2.06.94z\"/><path d=\"M17.41 7.96l-1.37-1.37c-.4-.4-.92-.59-1.43-.59-.52 0-1.04.2-1.43.59L10.3 9.45l-7.72 7.72c-.78.78-.78 2.05 0 2.83L4 21.41c.39.39.9.59 1.41.59.51 0 1.02-.2 1.41-.59l7.78-7.78 2.81-2.81c.8-.78.8-2.07 0-2.86zM5.41 20L4 18.59l7.72-7.72 1.47 1.35L5.41 20z\"/>\n",
              "  </svg>\n",
              "      </button>\n",
              "      \n",
              "  <style>\n",
              "    .colab-df-container {\n",
              "      display:flex;\n",
              "      flex-wrap:wrap;\n",
              "      gap: 12px;\n",
              "    }\n",
              "\n",
              "    .colab-df-convert {\n",
              "      background-color: #E8F0FE;\n",
              "      border: none;\n",
              "      border-radius: 50%;\n",
              "      cursor: pointer;\n",
              "      display: none;\n",
              "      fill: #1967D2;\n",
              "      height: 32px;\n",
              "      padding: 0 0 0 0;\n",
              "      width: 32px;\n",
              "    }\n",
              "\n",
              "    .colab-df-convert:hover {\n",
              "      background-color: #E2EBFA;\n",
              "      box-shadow: 0px 1px 2px rgba(60, 64, 67, 0.3), 0px 1px 3px 1px rgba(60, 64, 67, 0.15);\n",
              "      fill: #174EA6;\n",
              "    }\n",
              "\n",
              "    [theme=dark] .colab-df-convert {\n",
              "      background-color: #3B4455;\n",
              "      fill: #D2E3FC;\n",
              "    }\n",
              "\n",
              "    [theme=dark] .colab-df-convert:hover {\n",
              "      background-color: #434B5C;\n",
              "      box-shadow: 0px 1px 3px 1px rgba(0, 0, 0, 0.15);\n",
              "      filter: drop-shadow(0px 1px 2px rgba(0, 0, 0, 0.3));\n",
              "      fill: #FFFFFF;\n",
              "    }\n",
              "  </style>\n",
              "\n",
              "      <script>\n",
              "        const buttonEl =\n",
              "          document.querySelector('#df-9063a15f-4b7f-4182-a140-80bbeec4cba2 button.colab-df-convert');\n",
              "        buttonEl.style.display =\n",
              "          google.colab.kernel.accessAllowed ? 'block' : 'none';\n",
              "\n",
              "        async function convertToInteractive(key) {\n",
              "          const element = document.querySelector('#df-9063a15f-4b7f-4182-a140-80bbeec4cba2');\n",
              "          const dataTable =\n",
              "            await google.colab.kernel.invokeFunction('convertToInteractive',\n",
              "                                                     [key], {});\n",
              "          if (!dataTable) return;\n",
              "\n",
              "          const docLinkHtml = 'Like what you see? Visit the ' +\n",
              "            '<a target=\"_blank\" href=https://colab.research.google.com/notebooks/data_table.ipynb>data table notebook</a>'\n",
              "            + ' to learn more about interactive tables.';\n",
              "          element.innerHTML = '';\n",
              "          dataTable['output_type'] = 'display_data';\n",
              "          await google.colab.output.renderOutput(dataTable, element);\n",
              "          const docLink = document.createElement('div');\n",
              "          docLink.innerHTML = docLinkHtml;\n",
              "          element.appendChild(docLink);\n",
              "        }\n",
              "      </script>\n",
              "    </div>\n",
              "  </div>\n",
              "  "
            ]
          },
          "metadata": {},
          "execution_count": 16
        }
      ]
    },
    {
      "cell_type": "code",
      "source": [
        "test['cpo_pri'] = cpo_pri_transformer.transform(test[['cpo_pri']])\n",
        "test['cpo_pri'].head()"
      ],
      "metadata": {
        "colab": {
          "base_uri": "https://localhost:8080/"
        },
        "id": "GXgFSrz3n6o5",
        "outputId": "0877f29f-17eb-4c03-a7d2-33cbeee40450"
      },
      "execution_count": 17,
      "outputs": [
        {
          "output_type": "execute_result",
          "data": {
            "text/plain": [
              "date\n",
              "2019-03-01    0.0875\n",
              "2019-04-01    0.0725\n",
              "2019-05-01    0.0325\n",
              "2019-06-01    0.0750\n",
              "2019-07-01    0.1325\n",
              "Name: cpo_pri, dtype: float64"
            ]
          },
          "metadata": {},
          "execution_count": 17
        }
      ]
    },
    {
      "cell_type": "markdown",
      "source": [
        "###Create X_train, y_train, X_test and y_test"
      ],
      "metadata": {
        "id": "p_2s3AO-ohCD"
      }
    },
    {
      "cell_type": "code",
      "source": [
        "def createDataset(X, y, time_steps):\n",
        "    Xs, ys = [], []\n",
        "    for i in range(len(X) - time_steps):\n",
        "        data = X.iloc[i:(i + time_steps)].values\n",
        "        Xs.append(data)        \n",
        "        ys.append(y.iloc[i + time_steps])\n",
        "        \n",
        "    return np.array(Xs), np.array(ys)\n",
        "\n",
        "time_steps = 3\n",
        "X_train, y_train = createDataset(train, train.cpo_pri, time_steps)\n",
        "X_test, y_test = createDataset(test, test.cpo_pri, time_steps)\n",
        "print(X_train.shape, y_train.shape)"
      ],
      "metadata": {
        "colab": {
          "base_uri": "https://localhost:8080/"
        },
        "id": "fGTyTKiYoJIb",
        "outputId": "b621b272-58d7-4027-9ccf-1e129e4ae09d"
      },
      "execution_count": 18,
      "outputs": [
        {
          "output_type": "stream",
          "name": "stdout",
          "text": [
            "(96, 3, 7) (96,)\n"
          ]
        }
      ]
    },
    {
      "cell_type": "code",
      "source": [
        "X_train_mlp = X_train[:, :, 0]\n",
        "X_test_mlp = X_test[:, :, 0]\n",
        "mlp_model = tf.keras.Sequential()\n",
        "mlp_model.add(tf.keras.layers.Dense(85, input_dim=X_train.shape[1], activation='relu'))\n",
        "mlp_model.add(tf.keras.layers.Dense(64, activation = 'relu'))\n",
        "mlp_model.add(tf.keras.layers.Dense(1))"
      ],
      "metadata": {
        "id": "j1pHIl40ZFE7"
      },
      "execution_count": 19,
      "outputs": []
    },
    {
      "cell_type": "code",
      "source": [
        "mlp_model.compile(loss='mse',metrics=['mse'], optimizer='adam')\n",
        "mlp_model\n",
        "\n",
        "# model training\n",
        "mlp_history = mlp_model.fit(\n",
        "    X_train_mlp, y_train, \n",
        "    epochs=100, \n",
        "    batch_size=32, \n",
        "    validation_split=0.1,\n",
        "    shuffle=False\n",
        ")\n",
        "\n",
        "# model evaluation\n",
        "mlp_model.evaluate(X_test_mlp, y_test)"
      ],
      "metadata": {
        "colab": {
          "base_uri": "https://localhost:8080/"
        },
        "id": "ZA7BhiZtZN9P",
        "outputId": "aa55480f-2e31-433d-f35b-fd80edfab971"
      },
      "execution_count": 20,
      "outputs": [
        {
          "output_type": "stream",
          "name": "stdout",
          "text": [
            "Epoch 1/100\n",
            "3/3 [==============================] - 1s 110ms/step - loss: 0.1994 - mse: 0.1994 - val_loss: 0.0228 - val_mse: 0.0228\n",
            "Epoch 2/100\n",
            "3/3 [==============================] - 0s 20ms/step - loss: 0.1121 - mse: 0.1121 - val_loss: 0.0103 - val_mse: 0.0103\n",
            "Epoch 3/100\n",
            "3/3 [==============================] - 0s 19ms/step - loss: 0.0514 - mse: 0.0514 - val_loss: 0.0156 - val_mse: 0.0156\n",
            "Epoch 4/100\n",
            "3/3 [==============================] - 0s 19ms/step - loss: 0.0190 - mse: 0.0190 - val_loss: 0.0350 - val_mse: 0.0350\n",
            "Epoch 5/100\n",
            "3/3 [==============================] - 0s 18ms/step - loss: 0.0088 - mse: 0.0088 - val_loss: 0.0619 - val_mse: 0.0619\n",
            "Epoch 6/100\n",
            "3/3 [==============================] - 0s 18ms/step - loss: 0.0121 - mse: 0.0121 - val_loss: 0.0849 - val_mse: 0.0849\n",
            "Epoch 7/100\n",
            "3/3 [==============================] - 0s 19ms/step - loss: 0.0182 - mse: 0.0182 - val_loss: 0.0944 - val_mse: 0.0944\n",
            "Epoch 8/100\n",
            "3/3 [==============================] - 0s 27ms/step - loss: 0.0196 - mse: 0.0196 - val_loss: 0.0898 - val_mse: 0.0898\n",
            "Epoch 9/100\n",
            "3/3 [==============================] - 0s 31ms/step - loss: 0.0164 - mse: 0.0164 - val_loss: 0.0769 - val_mse: 0.0769\n",
            "Epoch 10/100\n",
            "3/3 [==============================] - 0s 19ms/step - loss: 0.0121 - mse: 0.0121 - val_loss: 0.0624 - val_mse: 0.0624\n",
            "Epoch 11/100\n",
            "3/3 [==============================] - 0s 19ms/step - loss: 0.0094 - mse: 0.0094 - val_loss: 0.0505 - val_mse: 0.0505\n",
            "Epoch 12/100\n",
            "3/3 [==============================] - 0s 28ms/step - loss: 0.0088 - mse: 0.0088 - val_loss: 0.0424 - val_mse: 0.0424\n",
            "Epoch 13/100\n",
            "3/3 [==============================] - 0s 30ms/step - loss: 0.0091 - mse: 0.0091 - val_loss: 0.0382 - val_mse: 0.0382\n",
            "Epoch 14/100\n",
            "3/3 [==============================] - 0s 19ms/step - loss: 0.0093 - mse: 0.0093 - val_loss: 0.0373 - val_mse: 0.0373\n",
            "Epoch 15/100\n",
            "3/3 [==============================] - 0s 18ms/step - loss: 0.0089 - mse: 0.0089 - val_loss: 0.0387 - val_mse: 0.0387\n",
            "Epoch 16/100\n",
            "3/3 [==============================] - 0s 21ms/step - loss: 0.0082 - mse: 0.0082 - val_loss: 0.0417 - val_mse: 0.0417\n",
            "Epoch 17/100\n",
            "3/3 [==============================] - 0s 19ms/step - loss: 0.0077 - mse: 0.0077 - val_loss: 0.0450 - val_mse: 0.0450\n",
            "Epoch 18/100\n",
            "3/3 [==============================] - 0s 20ms/step - loss: 0.0075 - mse: 0.0075 - val_loss: 0.0477 - val_mse: 0.0477\n",
            "Epoch 19/100\n",
            "3/3 [==============================] - 0s 18ms/step - loss: 0.0076 - mse: 0.0076 - val_loss: 0.0487 - val_mse: 0.0487\n",
            "Epoch 20/100\n",
            "3/3 [==============================] - 0s 17ms/step - loss: 0.0077 - mse: 0.0077 - val_loss: 0.0477 - val_mse: 0.0477\n",
            "Epoch 21/100\n",
            "3/3 [==============================] - 0s 18ms/step - loss: 0.0075 - mse: 0.0075 - val_loss: 0.0453 - val_mse: 0.0453\n",
            "Epoch 22/100\n",
            "3/3 [==============================] - 0s 22ms/step - loss: 0.0072 - mse: 0.0072 - val_loss: 0.0424 - val_mse: 0.0424\n",
            "Epoch 23/100\n",
            "3/3 [==============================] - 0s 20ms/step - loss: 0.0070 - mse: 0.0070 - val_loss: 0.0400 - val_mse: 0.0400\n",
            "Epoch 24/100\n",
            "3/3 [==============================] - 0s 19ms/step - loss: 0.0069 - mse: 0.0069 - val_loss: 0.0385 - val_mse: 0.0385\n",
            "Epoch 25/100\n",
            "3/3 [==============================] - 0s 28ms/step - loss: 0.0068 - mse: 0.0068 - val_loss: 0.0381 - val_mse: 0.0381\n",
            "Epoch 26/100\n",
            "3/3 [==============================] - 0s 33ms/step - loss: 0.0067 - mse: 0.0067 - val_loss: 0.0382 - val_mse: 0.0382\n",
            "Epoch 27/100\n",
            "3/3 [==============================] - 0s 37ms/step - loss: 0.0066 - mse: 0.0066 - val_loss: 0.0386 - val_mse: 0.0386\n",
            "Epoch 28/100\n",
            "3/3 [==============================] - 0s 26ms/step - loss: 0.0065 - mse: 0.0065 - val_loss: 0.0386 - val_mse: 0.0386\n",
            "Epoch 29/100\n",
            "3/3 [==============================] - 0s 35ms/step - loss: 0.0064 - mse: 0.0064 - val_loss: 0.0382 - val_mse: 0.0382\n",
            "Epoch 30/100\n",
            "3/3 [==============================] - 0s 35ms/step - loss: 0.0064 - mse: 0.0064 - val_loss: 0.0372 - val_mse: 0.0372\n",
            "Epoch 31/100\n",
            "3/3 [==============================] - 0s 26ms/step - loss: 0.0063 - mse: 0.0063 - val_loss: 0.0360 - val_mse: 0.0360\n",
            "Epoch 32/100\n",
            "3/3 [==============================] - 0s 35ms/step - loss: 0.0062 - mse: 0.0062 - val_loss: 0.0350 - val_mse: 0.0350\n",
            "Epoch 33/100\n",
            "3/3 [==============================] - 0s 34ms/step - loss: 0.0061 - mse: 0.0061 - val_loss: 0.0344 - val_mse: 0.0344\n",
            "Epoch 34/100\n",
            "3/3 [==============================] - 0s 33ms/step - loss: 0.0060 - mse: 0.0060 - val_loss: 0.0341 - val_mse: 0.0341\n",
            "Epoch 35/100\n",
            "3/3 [==============================] - 0s 34ms/step - loss: 0.0059 - mse: 0.0059 - val_loss: 0.0340 - val_mse: 0.0340\n",
            "Epoch 36/100\n",
            "3/3 [==============================] - 0s 31ms/step - loss: 0.0058 - mse: 0.0058 - val_loss: 0.0338 - val_mse: 0.0338\n",
            "Epoch 37/100\n",
            "3/3 [==============================] - 0s 30ms/step - loss: 0.0058 - mse: 0.0058 - val_loss: 0.0332 - val_mse: 0.0332\n",
            "Epoch 38/100\n",
            "3/3 [==============================] - 0s 35ms/step - loss: 0.0057 - mse: 0.0057 - val_loss: 0.0326 - val_mse: 0.0326\n",
            "Epoch 39/100\n",
            "3/3 [==============================] - 0s 34ms/step - loss: 0.0056 - mse: 0.0056 - val_loss: 0.0320 - val_mse: 0.0320\n",
            "Epoch 40/100\n",
            "3/3 [==============================] - 0s 32ms/step - loss: 0.0056 - mse: 0.0056 - val_loss: 0.0315 - val_mse: 0.0315\n",
            "Epoch 41/100\n",
            "3/3 [==============================] - 0s 34ms/step - loss: 0.0055 - mse: 0.0055 - val_loss: 0.0312 - val_mse: 0.0312\n",
            "Epoch 42/100\n",
            "3/3 [==============================] - 0s 36ms/step - loss: 0.0055 - mse: 0.0055 - val_loss: 0.0309 - val_mse: 0.0309\n",
            "Epoch 43/100\n",
            "3/3 [==============================] - 0s 32ms/step - loss: 0.0054 - mse: 0.0054 - val_loss: 0.0305 - val_mse: 0.0305\n",
            "Epoch 44/100\n",
            "3/3 [==============================] - 0s 35ms/step - loss: 0.0054 - mse: 0.0054 - val_loss: 0.0300 - val_mse: 0.0300\n",
            "Epoch 45/100\n",
            "3/3 [==============================] - 0s 26ms/step - loss: 0.0053 - mse: 0.0053 - val_loss: 0.0295 - val_mse: 0.0295\n",
            "Epoch 46/100\n",
            "3/3 [==============================] - 0s 34ms/step - loss: 0.0053 - mse: 0.0053 - val_loss: 0.0291 - val_mse: 0.0291\n",
            "Epoch 47/100\n",
            "3/3 [==============================] - 0s 32ms/step - loss: 0.0052 - mse: 0.0052 - val_loss: 0.0288 - val_mse: 0.0288\n",
            "Epoch 48/100\n",
            "3/3 [==============================] - 0s 33ms/step - loss: 0.0052 - mse: 0.0052 - val_loss: 0.0285 - val_mse: 0.0285\n",
            "Epoch 49/100\n",
            "3/3 [==============================] - 0s 34ms/step - loss: 0.0051 - mse: 0.0051 - val_loss: 0.0281 - val_mse: 0.0281\n",
            "Epoch 50/100\n",
            "3/3 [==============================] - 0s 25ms/step - loss: 0.0051 - mse: 0.0051 - val_loss: 0.0277 - val_mse: 0.0277\n",
            "Epoch 51/100\n",
            "3/3 [==============================] - 0s 25ms/step - loss: 0.0051 - mse: 0.0051 - val_loss: 0.0273 - val_mse: 0.0273\n",
            "Epoch 52/100\n",
            "3/3 [==============================] - 0s 32ms/step - loss: 0.0050 - mse: 0.0050 - val_loss: 0.0270 - val_mse: 0.0270\n",
            "Epoch 53/100\n",
            "3/3 [==============================] - 0s 35ms/step - loss: 0.0050 - mse: 0.0050 - val_loss: 0.0267 - val_mse: 0.0267\n",
            "Epoch 54/100\n",
            "3/3 [==============================] - 0s 45ms/step - loss: 0.0050 - mse: 0.0050 - val_loss: 0.0264 - val_mse: 0.0264\n",
            "Epoch 55/100\n",
            "3/3 [==============================] - 0s 35ms/step - loss: 0.0050 - mse: 0.0050 - val_loss: 0.0261 - val_mse: 0.0261\n",
            "Epoch 56/100\n",
            "3/3 [==============================] - 0s 39ms/step - loss: 0.0049 - mse: 0.0049 - val_loss: 0.0259 - val_mse: 0.0259\n",
            "Epoch 57/100\n",
            "3/3 [==============================] - 0s 33ms/step - loss: 0.0049 - mse: 0.0049 - val_loss: 0.0256 - val_mse: 0.0256\n",
            "Epoch 58/100\n",
            "3/3 [==============================] - 0s 38ms/step - loss: 0.0049 - mse: 0.0049 - val_loss: 0.0253 - val_mse: 0.0253\n",
            "Epoch 59/100\n",
            "3/3 [==============================] - 0s 26ms/step - loss: 0.0049 - mse: 0.0049 - val_loss: 0.0251 - val_mse: 0.0251\n",
            "Epoch 60/100\n",
            "3/3 [==============================] - 0s 33ms/step - loss: 0.0049 - mse: 0.0049 - val_loss: 0.0249 - val_mse: 0.0249\n",
            "Epoch 61/100\n",
            "3/3 [==============================] - 0s 48ms/step - loss: 0.0048 - mse: 0.0048 - val_loss: 0.0246 - val_mse: 0.0246\n",
            "Epoch 62/100\n",
            "3/3 [==============================] - 0s 38ms/step - loss: 0.0048 - mse: 0.0048 - val_loss: 0.0244 - val_mse: 0.0244\n",
            "Epoch 63/100\n",
            "3/3 [==============================] - 0s 29ms/step - loss: 0.0048 - mse: 0.0048 - val_loss: 0.0242 - val_mse: 0.0242\n",
            "Epoch 64/100\n",
            "3/3 [==============================] - 0s 38ms/step - loss: 0.0048 - mse: 0.0048 - val_loss: 0.0241 - val_mse: 0.0241\n",
            "Epoch 65/100\n",
            "3/3 [==============================] - 0s 29ms/step - loss: 0.0048 - mse: 0.0048 - val_loss: 0.0239 - val_mse: 0.0239\n",
            "Epoch 66/100\n",
            "3/3 [==============================] - 0s 25ms/step - loss: 0.0048 - mse: 0.0048 - val_loss: 0.0237 - val_mse: 0.0237\n",
            "Epoch 67/100\n",
            "3/3 [==============================] - 0s 28ms/step - loss: 0.0048 - mse: 0.0048 - val_loss: 0.0236 - val_mse: 0.0236\n",
            "Epoch 68/100\n",
            "3/3 [==============================] - 0s 26ms/step - loss: 0.0048 - mse: 0.0048 - val_loss: 0.0234 - val_mse: 0.0234\n",
            "Epoch 69/100\n",
            "3/3 [==============================] - 0s 20ms/step - loss: 0.0047 - mse: 0.0047 - val_loss: 0.0233 - val_mse: 0.0233\n",
            "Epoch 70/100\n",
            "3/3 [==============================] - 0s 27ms/step - loss: 0.0047 - mse: 0.0047 - val_loss: 0.0232 - val_mse: 0.0232\n",
            "Epoch 71/100\n",
            "3/3 [==============================] - 0s 30ms/step - loss: 0.0047 - mse: 0.0047 - val_loss: 0.0231 - val_mse: 0.0231\n",
            "Epoch 72/100\n",
            "3/3 [==============================] - 0s 20ms/step - loss: 0.0047 - mse: 0.0047 - val_loss: 0.0230 - val_mse: 0.0230\n",
            "Epoch 73/100\n",
            "3/3 [==============================] - 0s 23ms/step - loss: 0.0047 - mse: 0.0047 - val_loss: 0.0229 - val_mse: 0.0229\n",
            "Epoch 74/100\n",
            "3/3 [==============================] - 0s 20ms/step - loss: 0.0047 - mse: 0.0047 - val_loss: 0.0228 - val_mse: 0.0228\n",
            "Epoch 75/100\n",
            "3/3 [==============================] - 0s 19ms/step - loss: 0.0047 - mse: 0.0047 - val_loss: 0.0227 - val_mse: 0.0227\n",
            "Epoch 76/100\n",
            "3/3 [==============================] - 0s 20ms/step - loss: 0.0047 - mse: 0.0047 - val_loss: 0.0226 - val_mse: 0.0226\n",
            "Epoch 77/100\n",
            "3/3 [==============================] - 0s 19ms/step - loss: 0.0047 - mse: 0.0047 - val_loss: 0.0226 - val_mse: 0.0226\n",
            "Epoch 78/100\n",
            "3/3 [==============================] - 0s 20ms/step - loss: 0.0047 - mse: 0.0047 - val_loss: 0.0225 - val_mse: 0.0225\n",
            "Epoch 79/100\n",
            "3/3 [==============================] - 0s 21ms/step - loss: 0.0047 - mse: 0.0047 - val_loss: 0.0225 - val_mse: 0.0225\n",
            "Epoch 80/100\n",
            "3/3 [==============================] - 0s 21ms/step - loss: 0.0047 - mse: 0.0047 - val_loss: 0.0224 - val_mse: 0.0224\n",
            "Epoch 81/100\n",
            "3/3 [==============================] - 0s 22ms/step - loss: 0.0047 - mse: 0.0047 - val_loss: 0.0223 - val_mse: 0.0223\n",
            "Epoch 82/100\n",
            "3/3 [==============================] - 0s 22ms/step - loss: 0.0047 - mse: 0.0047 - val_loss: 0.0223 - val_mse: 0.0223\n",
            "Epoch 83/100\n",
            "3/3 [==============================] - 0s 21ms/step - loss: 0.0046 - mse: 0.0046 - val_loss: 0.0222 - val_mse: 0.0222\n",
            "Epoch 84/100\n",
            "3/3 [==============================] - 0s 19ms/step - loss: 0.0046 - mse: 0.0046 - val_loss: 0.0221 - val_mse: 0.0221\n",
            "Epoch 85/100\n",
            "3/3 [==============================] - 0s 30ms/step - loss: 0.0046 - mse: 0.0046 - val_loss: 0.0220 - val_mse: 0.0220\n",
            "Epoch 86/100\n",
            "3/3 [==============================] - 0s 19ms/step - loss: 0.0046 - mse: 0.0046 - val_loss: 0.0220 - val_mse: 0.0220\n",
            "Epoch 87/100\n",
            "3/3 [==============================] - 0s 19ms/step - loss: 0.0046 - mse: 0.0046 - val_loss: 0.0219 - val_mse: 0.0219\n",
            "Epoch 88/100\n",
            "3/3 [==============================] - 0s 19ms/step - loss: 0.0046 - mse: 0.0046 - val_loss: 0.0219 - val_mse: 0.0219\n",
            "Epoch 89/100\n",
            "3/3 [==============================] - 0s 20ms/step - loss: 0.0046 - mse: 0.0046 - val_loss: 0.0218 - val_mse: 0.0218\n",
            "Epoch 90/100\n",
            "3/3 [==============================] - 0s 28ms/step - loss: 0.0046 - mse: 0.0046 - val_loss: 0.0218 - val_mse: 0.0218\n",
            "Epoch 91/100\n",
            "3/3 [==============================] - 0s 19ms/step - loss: 0.0046 - mse: 0.0046 - val_loss: 0.0218 - val_mse: 0.0218\n",
            "Epoch 92/100\n",
            "3/3 [==============================] - 0s 18ms/step - loss: 0.0046 - mse: 0.0046 - val_loss: 0.0217 - val_mse: 0.0217\n",
            "Epoch 93/100\n",
            "3/3 [==============================] - 0s 18ms/step - loss: 0.0046 - mse: 0.0046 - val_loss: 0.0216 - val_mse: 0.0216\n",
            "Epoch 94/100\n",
            "3/3 [==============================] - 0s 20ms/step - loss: 0.0046 - mse: 0.0046 - val_loss: 0.0216 - val_mse: 0.0216\n",
            "Epoch 95/100\n",
            "3/3 [==============================] - 0s 18ms/step - loss: 0.0046 - mse: 0.0046 - val_loss: 0.0216 - val_mse: 0.0216\n",
            "Epoch 96/100\n",
            "3/3 [==============================] - 0s 18ms/step - loss: 0.0046 - mse: 0.0046 - val_loss: 0.0216 - val_mse: 0.0216\n",
            "Epoch 97/100\n",
            "3/3 [==============================] - 0s 20ms/step - loss: 0.0046 - mse: 0.0046 - val_loss: 0.0215 - val_mse: 0.0215\n",
            "Epoch 98/100\n",
            "3/3 [==============================] - 0s 22ms/step - loss: 0.0046 - mse: 0.0046 - val_loss: 0.0215 - val_mse: 0.0215\n",
            "Epoch 99/100\n",
            "3/3 [==============================] - 0s 20ms/step - loss: 0.0046 - mse: 0.0046 - val_loss: 0.0215 - val_mse: 0.0215\n",
            "Epoch 100/100\n",
            "3/3 [==============================] - 0s 19ms/step - loss: 0.0046 - mse: 0.0046 - val_loss: 0.0214 - val_mse: 0.0214\n",
            "1/1 [==============================] - 0s 29ms/step - loss: 0.0296 - mse: 0.0296\n"
          ]
        },
        {
          "output_type": "execute_result",
          "data": {
            "text/plain": [
              "[0.029579782858490944, 0.029579782858490944]"
            ]
          },
          "metadata": {},
          "execution_count": 20
        }
      ]
    },
    {
      "cell_type": "code",
      "source": [
        "print(mlp_history.history.keys())\n",
        "plt.plot(mlp_history.history['loss'])\n",
        "plt.plot(mlp_history.history['val_loss'])\n",
        "plt.title('model loss')\n",
        "plt.ylabel('loss')\n",
        "plt.xlabel('epoch')\n",
        "plt.legend(['train', 'validation'], loc='upper left')\n",
        "plt.show()"
      ],
      "metadata": {
        "id": "EkQPUIAQOvX9",
        "outputId": "8624995e-ed27-437a-f0c2-3605df5e38af",
        "colab": {
          "base_uri": "https://localhost:8080/",
          "height": 401
        }
      },
      "execution_count": 21,
      "outputs": [
        {
          "output_type": "stream",
          "name": "stdout",
          "text": [
            "dict_keys(['loss', 'mse', 'val_loss', 'val_mse'])\n"
          ]
        },
        {
          "output_type": "display_data",
          "data": {
            "text/plain": [
              "<Figure size 720x360 with 1 Axes>"
            ],
            "image/png": "[encoded data removed]"
          },
          "metadata": {}
        }
      ]
    },
    {
      "cell_type": "code",
      "source": [
        "mse_mlp = mlp_model.evaluate(X_test_mlp, y_test)"
      ],
      "metadata": {
        "colab": {
          "base_uri": "https://localhost:8080/"
        },
        "id": "ImssP1C-YLO6",
        "outputId": "1eb237c5-2263-494c-97d1-c952b2339681"
      },
      "execution_count": 22,
      "outputs": [
        {
          "output_type": "stream",
          "name": "stdout",
          "text": [
            "1/1 [==============================] - 0s 29ms/step - loss: 0.0296 - mse: 0.0296\n"
          ]
        }
      ]
    },
    {
      "cell_type": "markdown",
      "source": [
        "Baseline MSE = 0.0296"
      ],
      "metadata": {
        "id": "9zvQ7itTokLh"
      }
    },
    {
      "cell_type": "code",
      "source": [
        "mlp_model.summary()"
      ],
      "metadata": {
        "colab": {
          "base_uri": "https://localhost:8080/"
        },
        "id": "A8XbxYQeiCoj",
        "outputId": "ff682aa8-ba24-430b-ebd2-21a374f1196e"
      },
      "execution_count": 23,
      "outputs": [
        {
          "output_type": "stream",
          "name": "stdout",
          "text": [
            "Model: \"sequential\"\n",
            "_________________________________________________________________\n",
            " Layer (type)                Output Shape              Param #   \n",
            "=================================================================\n",
            " dense (Dense)               (None, 85)                340       \n",
            "                                                                 \n",
            " dense_1 (Dense)             (None, 64)                5504      \n",
            "                                                                 \n",
            " dense_2 (Dense)             (None, 1)                 65        \n",
            "                                                                 \n",
            "=================================================================\n",
            "Total params: 5,909\n",
            "Trainable params: 5,909\n",
            "Non-trainable params: 0\n",
            "_________________________________________________________________\n"
          ]
        }
      ]
    },
    {
      "cell_type": "markdown",
      "source": [
        "###Predict the Test without Hyperparameter Tuning"
      ],
      "metadata": {
        "id": "sL0yhTxOpQDx"
      }
    },
    {
      "cell_type": "code",
      "source": [
        "y_pred = mlp_model.predict(X_test_mlp)\n",
        "y_pred"
      ],
      "metadata": {
        "colab": {
          "base_uri": "https://localhost:8080/"
        },
        "id": "VVUKy0PVoxoD",
        "outputId": "1c443c49-6e6e-4a61-c8cb-807cc418a72a"
      },
      "execution_count": 24,
      "outputs": [
        {
          "output_type": "stream",
          "name": "stdout",
          "text": [
            "1/1 [==============================] - 0s 290ms/step\n"
          ]
        },
        {
          "output_type": "execute_result",
          "data": {
            "text/plain": [
              "array([[0.07942095],\n",
              "       [0.13575   ],\n",
              "       [0.15953703],\n",
              "       [0.05364507],\n",
              "       [0.10107293],\n",
              "       [0.06679922],\n",
              "       [0.05723274],\n",
              "       [0.0508674 ],\n",
              "       [0.05790282],\n",
              "       [0.0718729 ],\n",
              "       [0.07823094],\n",
              "       [0.06669975],\n",
              "       [0.0697319 ],\n",
              "       [0.08306781],\n",
              "       [0.07405718],\n",
              "       [0.06996139],\n",
              "       [0.08776607],\n",
              "       [0.15313038],\n",
              "       [0.16665159],\n",
              "       [0.05009599],\n",
              "       [0.07168632],\n",
              "       [0.12025078]], dtype=float32)"
            ]
          },
          "metadata": {},
          "execution_count": 24
        }
      ]
    },
    {
      "cell_type": "code",
      "source": [
        "y_pred.reshape(1,-1)"
      ],
      "metadata": {
        "colab": {
          "base_uri": "https://localhost:8080/"
        },
        "id": "hwPNWceFoxvZ",
        "outputId": "e7645390-cf46-4552-8dbe-541cc7826736"
      },
      "execution_count": 25,
      "outputs": [
        {
          "output_type": "execute_result",
          "data": {
            "text/plain": [
              "array([[0.07942095, 0.13575   , 0.15953703, 0.05364507, 0.10107293,\n",
              "        0.06679922, 0.05723274, 0.0508674 , 0.05790282, 0.0718729 ,\n",
              "        0.07823094, 0.06669975, 0.0697319 , 0.08306781, 0.07405718,\n",
              "        0.06996139, 0.08776607, 0.15313038, 0.16665159, 0.05009599,\n",
              "        0.07168632, 0.12025078]], dtype=float32)"
            ]
          },
          "metadata": {},
          "execution_count": 25
        }
      ]
    },
    {
      "cell_type": "markdown",
      "source": [
        "###Invert Transformed Data"
      ],
      "metadata": {
        "id": "SzXCbMs_pqsX"
      }
    },
    {
      "cell_type": "code",
      "source": [
        "y_train_inv = cpo_pri_transformer.inverse_transform(y_train.reshape(1, -1))\n",
        "y_test_inv = cpo_pri_transformer.inverse_transform(y_test.reshape(1, -1))\n",
        "y_pred_inv = cpo_pri_transformer.inverse_transform(y_pred.reshape(1,-1))\n",
        "print(y_train_inv)\n",
        "print(y_test_inv)\n",
        "print(y_pred_inv)"
      ],
      "metadata": {
        "colab": {
          "base_uri": "https://localhost:8080/"
        },
        "id": "iQCmZG07pmfY",
        "outputId": "df0e97d8-626e-469c-cf25-c5eeea7a8fb0"
      },
      "execution_count": 26,
      "outputs": [
        {
          "output_type": "stream",
          "name": "stdout",
          "text": [
            "[[376. 383. 382. 396. 402. 390. 404. 382. 382. 391. 396. 413. 401. 410.\n",
            "  425. 408. 392. 371. 356. 362. 356. 352. 333. 357. 411. 404. 387. 395.\n",
            "  434. 488. 508. 494. 575. 614. 616. 707. 719. 655. 661. 687. 625. 611.\n",
            "  631. 655. 616. 586. 615. 607. 590. 535. 518. 519. 562. 552. 508. 476.\n",
            "  513. 545. 532. 550. 561. 567. 580. 559. 562. 553. 533. 498. 504. 525.\n",
            "  547. 556. 566. 621. 659. 671. 688. 705. 633. 661. 674. 703. 694. 681.\n",
            "  663. 632. 561. 497. 509. 475. 392. 319. 354. 388. 381. 370.]]\n",
            "[[349. 372. 324. 315. 312. 306. 288. 255. 257. 265. 254. 240. 254. 251.\n",
            "  234. 255. 330. 362. 310. 277. 323. 360.]]\n",
            "[[350.76837 373.30002 382.81482 340.45804 359.42917 345.7197  341.8931\n",
            "  339.34695 342.16113 347.74918 350.29236 345.6799  346.89276 352.2271\n",
            "  348.62286 346.98456 354.1064  380.25214 385.66064 339.0384  347.67453\n",
            "  367.1003 ]]\n"
          ]
        }
      ]
    },
    {
      "cell_type": "markdown",
      "source": [
        "###Plot History, Actual and Predicted Value"
      ],
      "metadata": {
        "id": "SXOkiqFYqJaq"
      }
    },
    {
      "cell_type": "code",
      "source": [
        "y_train_inv = y_train_inv.flatten()\n",
        "y_train_inv"
      ],
      "metadata": {
        "colab": {
          "base_uri": "https://localhost:8080/"
        },
        "id": "FMzl80nEpmml",
        "outputId": "28551c28-a4d4-4b0b-e456-42fc095b9b36"
      },
      "execution_count": 27,
      "outputs": [
        {
          "output_type": "execute_result",
          "data": {
            "text/plain": [
              "array([376., 383., 382., 396., 402., 390., 404., 382., 382., 391., 396.,\n",
              "       413., 401., 410., 425., 408., 392., 371., 356., 362., 356., 352.,\n",
              "       333., 357., 411., 404., 387., 395., 434., 488., 508., 494., 575.,\n",
              "       614., 616., 707., 719., 655., 661., 687., 625., 611., 631., 655.,\n",
              "       616., 586., 615., 607., 590., 535., 518., 519., 562., 552., 508.,\n",
              "       476., 513., 545., 532., 550., 561., 567., 580., 559., 562., 553.,\n",
              "       533., 498., 504., 525., 547., 556., 566., 621., 659., 671., 688.,\n",
              "       705., 633., 661., 674., 703., 694., 681., 663., 632., 561., 497.,\n",
              "       509., 475., 392., 319., 354., 388., 381., 370.])"
            ]
          },
          "metadata": {},
          "execution_count": 27
        }
      ]
    },
    {
      "cell_type": "code",
      "source": [
        "y_test_inv = y_test_inv.flatten()\n",
        "y_test_inv"
      ],
      "metadata": {
        "colab": {
          "base_uri": "https://localhost:8080/"
        },
        "id": "terz87GDp0C6",
        "outputId": "1c264610-370b-4c65-b1ed-1eb0837a5b9e"
      },
      "execution_count": 28,
      "outputs": [
        {
          "output_type": "execute_result",
          "data": {
            "text/plain": [
              "array([349., 372., 324., 315., 312., 306., 288., 255., 257., 265., 254.,\n",
              "       240., 254., 251., 234., 255., 330., 362., 310., 277., 323., 360.])"
            ]
          },
          "metadata": {},
          "execution_count": 28
        }
      ]
    },
    {
      "cell_type": "code",
      "source": [
        "y_pred_inv = y_pred_inv.flatten()\n",
        "y_pred_inv"
      ],
      "metadata": {
        "colab": {
          "base_uri": "https://localhost:8080/"
        },
        "id": "Kc4XOLKfp0Gf",
        "outputId": "2156505d-4e20-48a3-84c1-3e34c24fb6df"
      },
      "execution_count": 29,
      "outputs": [
        {
          "output_type": "execute_result",
          "data": {
            "text/plain": [
              "array([350.76837, 373.30002, 382.81482, 340.45804, 359.42917, 345.7197 ,\n",
              "       341.8931 , 339.34695, 342.16113, 347.74918, 350.29236, 345.6799 ,\n",
              "       346.89276, 352.2271 , 348.62286, 346.98456, 354.1064 , 380.25214,\n",
              "       385.66064, 339.0384 , 347.67453, 367.1003 ], dtype=float32)"
            ]
          },
          "metadata": {},
          "execution_count": 29
        }
      ]
    },
    {
      "cell_type": "code",
      "source": [
        "plt.figure(figsize=(17,9))\n",
        "#plt.grid()\n",
        "#plt.plot(np.arange(0, len(y_train)), y_train_inv, color='green', label=\"History\")\n",
        "plt.plot(np.arange(len(y_train), len(y_train) + len(y_test)), y_test_inv, color='red', marker='.', label=\"Actual\")\n",
        "plt.plot(np.arange(len(y_train), len(y_train) + len(y_test)), y_pred_inv, color='green', label=\"MLP Prediction\")\n",
        "plt.title(\"MLP Crude Palm Oil Price Prediction (Multivariate)\")\n",
        "plt.ylabel('Crude Palm Oil Price')\n",
        "plt.xlabel('Time step')\n",
        "plt.legend()\n",
        "ax.grid()\n",
        "plt.savefig('graph_MLP.png')"
      ],
      "metadata": {
        "colab": {
          "base_uri": "https://localhost:8080/",
          "height": 547
        },
        "id": "fewGwXaRqZ6t",
        "outputId": "1168f345-37b7-402a-faea-6261caf6a5a7"
      },
      "execution_count": 30,
      "outputs": [
        {
          "output_type": "display_data",
          "data": {
            "text/plain": [
              "<Figure size 1224x648 with 1 Axes>"
            ],
            "image/png": "[encoded data removed]"
          },
          "metadata": {}
        }
      ]
    },
    {
      "cell_type": "code",
      "source": [
        "y_pred_inv"
      ],
      "metadata": {
        "colab": {
          "base_uri": "https://localhost:8080/"
        },
        "id": "OKeQZjDOqaB1",
        "outputId": "dd57c118-383b-436e-f03b-063d98168683"
      },
      "execution_count": 31,
      "outputs": [
        {
          "output_type": "execute_result",
          "data": {
            "text/plain": [
              "array([350.76837, 373.30002, 382.81482, 340.45804, 359.42917, 345.7197 ,\n",
              "       341.8931 , 339.34695, 342.16113, 347.74918, 350.29236, 345.6799 ,\n",
              "       346.89276, 352.2271 , 348.62286, 346.98456, 354.1064 , 380.25214,\n",
              "       385.66064, 339.0384 , 347.67453, 367.1003 ], dtype=float32)"
            ]
          },
          "metadata": {},
          "execution_count": 31
        }
      ]
    },
    {
      "cell_type": "code",
      "source": [
        "MLP = y_pred_inv \n",
        "dfmlp=pd.DataFrame(MLP, columns=['MLP_Prediction']) \n",
        "print (dfmlp)"
      ],
      "metadata": {
        "colab": {
          "base_uri": "https://localhost:8080/"
        },
        "id": "R9SW360DrQOb",
        "outputId": "ebf7287d-7f58-4c9e-ec21-2e65c539d2e3"
      },
      "execution_count": 32,
      "outputs": [
        {
          "output_type": "stream",
          "name": "stdout",
          "text": [
            "    MLP_Prediction\n",
            "0       350.768372\n",
            "1       373.300018\n",
            "2       382.814819\n",
            "3       340.458038\n",
            "4       359.429169\n",
            "5       345.719696\n",
            "6       341.893097\n",
            "7       339.346954\n",
            "8       342.161133\n",
            "9       347.749176\n",
            "10      350.292358\n",
            "11      345.679901\n",
            "12      346.892761\n",
            "13      352.227112\n",
            "14      348.622864\n",
            "15      346.984558\n",
            "16      354.106415\n",
            "17      380.252136\n",
            "18      385.660645\n",
            "19      339.038391\n",
            "20      347.674530\n",
            "21      367.100311\n"
          ]
        }
      ]
    },
    {
      "cell_type": "code",
      "source": [
        "#Save MLP prediction to csv file\n",
        "dfmlp.to_csv(\"MLP_Prediction.csv\")"
      ],
      "metadata": {
        "id": "aumHHMhOr8HP"
      },
      "execution_count": 33,
      "outputs": []
    },
    {
      "cell_type": "markdown",
      "source": [
        "###Evaluate MLP Model Accuracy"
      ],
      "metadata": {
        "id": "7wCSFOOrsK7x"
      }
    },
    {
      "cell_type": "code",
      "source": [
        "MAE_MLP = mean_absolute_error(y_test_inv, y_pred_inv)\n",
        "print('MAE value of the MLP Model is:', MAE_MLP)\n",
        "\n",
        "MDA_MLP = mda(y_test_inv, y_pred_inv)\n",
        "print('MDA value of the MLP Model is:', MDA_MLP)\n",
        "\n",
        "MAPE_MLP = mean_absolute_percentage_error(y_test_inv, y_pred_inv)\n",
        "print('MAPE value of the MLP Model is:', MAPE_MLP)\n",
        "\n",
        "RMSE_MLP = mean_squared_error(y_test_inv,y_pred_inv, squared=False)\n",
        "print('RMSE value of the MLP Model is:', RMSE_MLP)\n",
        "\n",
        "MSE_MLP = mean_squared_error(y_test_inv,y_pred_inv)\n",
        "print('MSE value of the MLP Model is:', MSE_MLP)"
      ],
      "metadata": {
        "colab": {
          "base_uri": "https://localhost:8080/"
        },
        "id": "WxFz92aHsGoS",
        "outputId": "609bd7a7-f329-4e8d-94e0-1a3184245f28"
      },
      "execution_count": 34,
      "outputs": [
        {
          "output_type": "stream",
          "name": "stdout",
          "text": [
            "MAE value of the MLP Model is: 58.87147521972656\n",
            "MDA value of the MLP Model is: 0.7142857142857143\n",
            "MAPE value of the MLP Model is: 22.004042287410037\n",
            "RMSE value of the MLP Model is: 68.7950929766645\n",
            "MSE value of the MLP Model is: 4732.764817667913\n"
          ]
        }
      ]
    },
    {
      "cell_type": "markdown",
      "source": [
        "###Tuning MLP with Keras Tuner"
      ],
      "metadata": {
        "id": "OkL00EQrsoLG"
      }
    },
    {
      "cell_type": "markdown",
      "source": [
        "Define A Model-Building Class"
      ],
      "metadata": {
        "id": "Ys7VdAOQszEm"
      }
    },
    {
      "cell_type": "code",
      "source": [
        "class MLPHyperModel(HyperModel):\n",
        "    \n",
        "    def __init__(self, input_shape):\n",
        "        self.input_shape= input_shape\n",
        "        \n",
        "    def build(self, hp):\n",
        "        model= keras.Sequential()\n",
        "        \n",
        "        # Tune the number of units in the first Dense layer\n",
        "        # Defining dense units as a close approx to the original neural network to perform a fair comparision!\n",
        "      \n",
        "        hp_units_1= hp.Int('units_1', min_value=64, max_value= 256, step=8)\n",
        "        hp_units_2= hp.Int('units_2', min_value=32, max_value= 128, step=8)\n",
        "        #hp_units_3= hp.Int('units_3', min_value=32, max_value= 64, step=8)\n",
        "        #hp_units_4= hp.Int('units_4', min_value=16, max_value= 32, step=8)\n",
        "\n",
        "        model.add(keras.layers.Dense(units=hp_units_1, input_shape= self.input_shape))\n",
        "        model.add(keras.layers.Dense(units=hp_units_2))\n",
        "        #model.add(keras.layers.Dense(units=hp_units_3, activation='tanh'))\n",
        "        #model.add(keras.layers.Dense(units=hp_units_4, activation='tanh'))\n",
        "        model.add(keras.layers.Dense(1))\n",
        "        #Tune the dropout\n",
        "        model.add(\n",
        "            Dropout(\n",
        "                rate=hp.Float(\n",
        "                    'dropout',\n",
        "                    min_value=0.0,\n",
        "                    max_value=0.5,\n",
        "                    default=0.25,\n",
        "                    step=0.05\n",
        "                )\n",
        "            )\n",
        "        )\n",
        "        \n",
        "        # Tune the epoch for the optimizer\n",
        "\n",
        "        #batch_size = hp.Int('batch_size',8,16,24,32,40,48,56,64,72,80,88,96, step=8)\n",
        "        \n",
        "        optimizers = hp.Choice('optimizer',values=['rmsprop','adam', 'AdamW', 'nadam','sgd','adadelta','adagrad'])\n",
        "\n",
        "        hp_dense_activation = hp.Choice('activation',values=['relu', 'tanh', 'sigmoid', 'linear', 'Softmax', 'ELU', 'linear'])\n",
        "\n",
        "        # Tune the batch size for the optimizer \n",
        "        hp_batch_size = hp.Int('batch_size', min_value = 8, max_value = 96, step = 8, default=8)\n",
        "        \n",
        "        # Tune the epoch for the optimizer\n",
        "        hp_epoch = hp.Int('epoch', min_value = 5, max_value = 100, step = 5, default=5)\n",
        "\n",
        "        # Tune the epoch for the momentum\n",
        "        hp_momentum = hp.Float('momentum', min_value = 0.8, max_value = 0.99, step = 0.01, default=0.9)\n",
        "\n",
        "        # Tune the epoch for the decay\n",
        "        hp_decay = hp.Float('decay', min_value = 1e-9, max_value = 1e-3, step= 0.0001, default=1e-7)\n",
        "\n",
        "        # Tune the learning rate for the optimizer \n",
        "        hp_learning_rate=hp.Float('learning_rate', min_value=1e-4, max_value=1e-2, sampling='LOG', default= 0.0005)\n",
        "       # -------------------------------------------------------\n",
        "        model.compile(loss='mse',\n",
        "                    optimizer= keras.optimizers.Adam(learning_rate=hp_learning_rate),\n",
        "                    metrics= ['mae','mse']\n",
        "                     )\n",
        "\n",
        "        return model\n",
        "hypermodel = MLPHyperModel(input_shape = (X_test.shape[1], X_test.shape[2]))"
      ],
      "metadata": {
        "id": "ekcFXPaAsGwK"
      },
      "execution_count": 35,
      "outputs": []
    },
    {
      "cell_type": "markdown",
      "source": [
        "###Build Random Search Tuner"
      ],
      "metadata": {
        "id": "2_KRfHsAuR5R"
      }
    },
    {
      "cell_type": "code",
      "source": [
        "tuner_rs = RandomSearch(\n",
        "            hypermodel,\n",
        "            objective='mse',\n",
        "            seed=42,\n",
        "            max_trials=10,\n",
        "            executions_per_trial=2, overwrite=True\n",
        "        )"
      ],
      "metadata": {
        "id": "xECfdd58uYXp"
      },
      "execution_count": 36,
      "outputs": []
    },
    {
      "cell_type": "code",
      "source": [
        "tuner_rs.search(X_test, y_train, epochs=16, validation_split=0.2, verbose=0)"
      ],
      "metadata": {
        "id": "yJEWvPB_ukID"
      },
      "execution_count": 37,
      "outputs": []
    },
    {
      "cell_type": "code",
      "source": [
        "best_model = tuner_rs.get_best_models(num_models=1)[0]\n",
        "mse_rs = best_model.evaluate(X_test, y_test)[1]"
      ],
      "metadata": {
        "colab": {
          "base_uri": "https://localhost:8080/"
        },
        "id": "Fki0c-0kKvJw",
        "outputId": "812ea766-a486-4027-8871-762fbe5ad76e"
      },
      "execution_count": 60,
      "outputs": [
        {
          "output_type": "stream",
          "name": "stdout",
          "text": [
            "1/1 [==============================] - 0s 364ms/step - loss: 0.0706 - mae: 0.2432 - mse: 0.0706\n"
          ]
        }
      ]
    },
    {
      "cell_type": "code",
      "source": [
        "X_train_mlp = X_train[:, :, 0]\n",
        "X_test_mlp = X_test[:, :, 0]\n",
        "mlp_model = tf.keras.Sequential()\n",
        "mlp_model.add(tf.keras.layers.Dense(85, input_dim=X_train.shape[1], activation='relu'))\n",
        "mlp_model.add(tf.keras.layers.Dense(64, activation = 'relu'))\n",
        "mlp_model.add(tf.keras.layers.Dense(1))"
      ],
      "metadata": {
        "id": "4yjpz2Vev5se"
      },
      "execution_count": 38,
      "outputs": []
    },
    {
      "cell_type": "markdown",
      "source": [
        "###Build HYPERBAND optimization"
      ],
      "metadata": {
        "id": "Z3OyMY6ywzch"
      }
    },
    {
      "cell_type": "code",
      "source": [
        "MAX_TRIALS = 20\n",
        "tuner= RandomSearch(hypermodel,\n",
        "               objective= 'val_mse',\n",
        "               max_trials= MAX_TRIALS,\n",
        "               executions_per_trial= 2,\n",
        "               directory= 'random_search',\n",
        "               project_name='randomsearch',\n",
        "               overwrite=True)"
      ],
      "metadata": {
        "id": "MEYY_9SpwsX5"
      },
      "execution_count": 39,
      "outputs": []
    },
    {
      "cell_type": "code",
      "source": [
        "print('searching for the best params!')\n",
        "\n",
        "t0 = time()\n",
        "tuner.search(x= X_train,\n",
        "             y= y_train,\n",
        "             epochs=100,\n",
        "             batch_size= 64,\n",
        "             validation_data= (X_test, y_test),\n",
        "             verbose=0,\n",
        "             callbacks= []\n",
        "            )\n",
        "print(time()- t0,\" secs\")\n",
        "\n",
        "# Retreive the optimal hyperparameters\n",
        "best_hps= tuner.get_best_hyperparameters(num_trials=1)[0]\n",
        "\n",
        "# Retrieve the best model\n",
        "best_model = tuner.get_best_models(num_models=1)[0]"
      ],
      "metadata": {
        "id": "KQc-d1REw8I5"
      },
      "execution_count": null,
      "outputs": []
    },
    {
      "cell_type": "code",
      "source": [
        "print(f\"\"\"\n",
        "The hyperparameter search is complete. The optimal number of units in the \n",
        "first densely-connected layer is {best_hps.get('units_1')},\n",
        "second layer is {best_hps.get('units_2')} \n",
        "\n",
        "drop out is {best_hps.get('dropout')}\n",
        "batch_size is {best_hps.get('batch_size')}\n",
        "epoch is {best_hps.get('epoch')}\n",
        "optimizer is {best_hps.get('optimizer')}\n",
        "activation is {best_hps.get('activation')}\n",
        "\n",
        "momentum is {best_hps.get('momentum')}\n",
        "decay is {best_hps.get('decay')}\n",
        "\n",
        "#learning rate is {best_hps.get('learning_rate')}                                        \n",
        "\n",
        "and the optimal learning rate for the optimizer\n",
        "is {best_hps.get('learning_rate')}.\n",
        "\"\"\")\n",
        "\n",
        "# Evaluate the best model.\n",
        "print(best_model.metrics_names)\n",
        "loss, mae, mse = best_model.evaluate(X_test, y_test)\n",
        "print(f'loss:{loss} mae: {mae} mse: {mse}')"
      ],
      "metadata": {
        "colab": {
          "base_uri": "https://localhost:8080/"
        },
        "id": "pTKODfgZw8OM",
        "outputId": "974f3730-5b28-41ef-c13d-6302ced83d71"
      },
      "execution_count": 51,
      "outputs": [
        {
          "output_type": "stream",
          "name": "stdout",
          "text": [
            "\n",
            "The hyperparameter search is complete. The optimal number of units in the \n",
            "first densely-connected layer is 256,\n",
            "second layer is 48 \n",
            "\n",
            "drop out is 0.35000000000000003\n",
            "batch_size is 48\n",
            "epoch is 100\n",
            "optimizer is rmsprop\n",
            "activation is ELU\n",
            "\n",
            "momentum is 0.8300000000000001\n",
            "decay is 0.00010000100000000001\n",
            "\n",
            "#learning rate is 0.00330588674286921                                        \n",
            "\n",
            "and the optimal learning rate for the optimizer\n",
            "is 0.00330588674286921.\n",
            "\n",
            "[]\n",
            "1/1 [==============================] - 0s 325ms/step - loss: 0.0119 - mae: 0.0954 - mse: 0.0119\n",
            "loss:0.011854633688926697 mae: 0.09537635743618011 mse: 0.011854633688926697\n"
          ]
        }
      ]
    },
    {
      "cell_type": "code",
      "source": [
        "# Get the optimal hyperparameters\n",
        "best_hps = tuner.get_best_hyperparameters(num_trials = 1)[0]\n",
        "print(best_hps.values)"
      ],
      "metadata": {
        "colab": {
          "base_uri": "https://localhost:8080/"
        },
        "id": "IoaVdda637_r",
        "outputId": "e298c3e3-e0f3-448c-b258-03fbaa3cdf7e"
      },
      "execution_count": 52,
      "outputs": [
        {
          "output_type": "stream",
          "name": "stdout",
          "text": [
            "{'units_1': 256, 'units_2': 48, 'dropout': 0.35000000000000003, 'optimizer': 'rmsprop', 'activation': 'ELU', 'batch_size': 48, 'epoch': 100, 'momentum': 0.8300000000000001, 'decay': 0.00010000100000000001, 'learning_rate': 0.00330588674286921}\n"
          ]
        }
      ]
    },
    {
      "cell_type": "markdown",
      "source": [
        "###Apply the trained parameters to the MLP"
      ],
      "metadata": {
        "id": "evJaWpWz4Ead"
      }
    },
    {
      "cell_type": "code",
      "source": [
        "#X_train_mlp = X_train[:, :, 0]\n",
        "#X_test_mlp = X_test[:, :, 0]\n",
        "tumlp_model = tf.keras.Sequential()\n",
        "tumlp_model.add(tf.keras.layers.Dense(256,activation='ELU', input_dim=X_train.shape[1]))\n",
        "tumlp_model.add(tf.keras.layers.Dense(48, activation = 'ELU'))\n",
        "tumlp_model.add(tf.keras.layers.Dense(1))"
      ],
      "metadata": {
        "id": "0_7nsVx5t7yF"
      },
      "execution_count": 41,
      "outputs": []
    },
    {
      "cell_type": "code",
      "source": [
        "tumlp_model.compile(loss = 'mse', optimizer= tf.keras.optimizers.RMSprop(learning_rate=0.003305, momentum = 0.83), metrics= ['mae', 'mse'])\n",
        "history = tumlp_model.fit(X_train_mlp, y_train, epochs=100, batch_size=48,validation_split=0.2,shuffle=False) # 80/160"
      ],
      "metadata": {
        "colab": {
          "base_uri": "https://localhost:8080/"
        },
        "id": "ON5m7zgM38JJ",
        "outputId": "21c142b5-ba1f-4adf-a92a-83526320a66a"
      },
      "execution_count": 42,
      "outputs": [
        {
          "output_type": "stream",
          "name": "stdout",
          "text": [
            "Epoch 1/100\n",
            "2/2 [==============================] - 1s 219ms/step - loss: 1.2851 - mae: 0.8304 - mse: 1.2851 - val_loss: 1.9002 - val_mae: 1.2812 - val_mse: 1.9002\n",
            "Epoch 2/100\n",
            "2/2 [==============================] - 0s 37ms/step - loss: 0.5560 - mae: 0.6048 - mse: 0.5560 - val_loss: 1.0003 - val_mae: 0.9512 - val_mse: 1.0003\n",
            "Epoch 3/100\n",
            "2/2 [==============================] - 0s 59ms/step - loss: 0.4706 - mae: 0.6091 - mse: 0.4706 - val_loss: 1.0090 - val_mae: 0.9728 - val_mse: 1.0090\n",
            "Epoch 4/100\n",
            "2/2 [==============================] - 0s 58ms/step - loss: 0.6264 - mae: 0.7631 - mse: 0.6264 - val_loss: 0.0965 - val_mae: 0.2677 - val_mse: 0.0965\n",
            "Epoch 5/100\n",
            "2/2 [==============================] - 0s 40ms/step - loss: 0.3373 - mae: 0.4608 - mse: 0.3373 - val_loss: 0.3768 - val_mae: 0.5548 - val_mse: 0.3768\n",
            "Epoch 6/100\n",
            "2/2 [==============================] - 0s 57ms/step - loss: 0.1506 - mae: 0.2936 - mse: 0.1506 - val_loss: 0.2676 - val_mae: 0.5000 - val_mse: 0.2676\n",
            "Epoch 7/100\n",
            "2/2 [==============================] - 0s 61ms/step - loss: 0.1909 - mae: 0.4239 - mse: 0.1909 - val_loss: 0.0490 - val_mae: 0.1764 - val_mse: 0.0490\n",
            "Epoch 8/100\n",
            "2/2 [==============================] - 0s 40ms/step - loss: 0.0342 - mae: 0.1668 - mse: 0.0342 - val_loss: 0.1381 - val_mae: 0.3176 - val_mse: 0.1381\n",
            "Epoch 9/100\n",
            "2/2 [==============================] - 0s 42ms/step - loss: 0.0877 - mae: 0.2586 - mse: 0.0877 - val_loss: 0.0266 - val_mae: 0.1374 - val_mse: 0.0266\n",
            "Epoch 10/100\n",
            "2/2 [==============================] - 0s 38ms/step - loss: 0.0180 - mae: 0.1059 - mse: 0.0180 - val_loss: 0.0806 - val_mae: 0.2525 - val_mse: 0.0806\n",
            "Epoch 11/100\n",
            "2/2 [==============================] - 0s 38ms/step - loss: 0.0370 - mae: 0.1753 - mse: 0.0370 - val_loss: 0.0224 - val_mae: 0.1191 - val_mse: 0.0224\n",
            "Epoch 12/100\n",
            "2/2 [==============================] - 0s 55ms/step - loss: 0.0121 - mae: 0.0909 - mse: 0.0121 - val_loss: 0.0337 - val_mae: 0.1495 - val_mse: 0.0337\n",
            "Epoch 13/100\n",
            "2/2 [==============================] - 0s 38ms/step - loss: 0.0191 - mae: 0.1056 - mse: 0.0191 - val_loss: 0.0205 - val_mae: 0.1122 - val_mse: 0.0205\n",
            "Epoch 14/100\n",
            "2/2 [==============================] - 0s 55ms/step - loss: 0.0105 - mae: 0.0824 - mse: 0.0105 - val_loss: 0.0312 - val_mae: 0.1336 - val_mse: 0.0312\n",
            "Epoch 15/100\n",
            "2/2 [==============================] - 0s 54ms/step - loss: 0.0090 - mae: 0.0795 - mse: 0.0090 - val_loss: 0.0168 - val_mae: 0.1060 - val_mse: 0.0168\n",
            "Epoch 16/100\n",
            "2/2 [==============================] - 0s 43ms/step - loss: 0.0090 - mae: 0.0714 - mse: 0.0090 - val_loss: 0.0157 - val_mae: 0.1015 - val_mse: 0.0157\n",
            "Epoch 17/100\n",
            "2/2 [==============================] - 0s 51ms/step - loss: 0.0074 - mae: 0.0635 - mse: 0.0074 - val_loss: 0.0213 - val_mae: 0.1077 - val_mse: 0.0213\n",
            "Epoch 18/100\n",
            "2/2 [==============================] - 0s 38ms/step - loss: 0.0066 - mae: 0.0644 - mse: 0.0066 - val_loss: 0.0143 - val_mae: 0.0963 - val_mse: 0.0143\n",
            "Epoch 19/100\n",
            "2/2 [==============================] - 0s 56ms/step - loss: 0.0065 - mae: 0.0614 - mse: 0.0065 - val_loss: 0.0142 - val_mae: 0.0931 - val_mse: 0.0142\n",
            "Epoch 20/100\n",
            "2/2 [==============================] - 0s 54ms/step - loss: 0.0063 - mae: 0.0607 - mse: 0.0063 - val_loss: 0.0149 - val_mae: 0.0930 - val_mse: 0.0149\n",
            "Epoch 21/100\n",
            "2/2 [==============================] - 0s 69ms/step - loss: 0.0053 - mae: 0.0569 - mse: 0.0053 - val_loss: 0.0127 - val_mae: 0.0917 - val_mse: 0.0127\n",
            "Epoch 22/100\n",
            "2/2 [==============================] - 0s 112ms/step - loss: 0.0058 - mae: 0.0578 - mse: 0.0058 - val_loss: 0.0133 - val_mae: 0.0904 - val_mse: 0.0133\n",
            "Epoch 23/100\n",
            "2/2 [==============================] - 0s 39ms/step - loss: 0.0052 - mae: 0.0561 - mse: 0.0052 - val_loss: 0.0120 - val_mae: 0.0921 - val_mse: 0.0120\n",
            "Epoch 24/100\n",
            "2/2 [==============================] - 0s 38ms/step - loss: 0.0054 - mae: 0.0563 - mse: 0.0054 - val_loss: 0.0123 - val_mae: 0.0885 - val_mse: 0.0123\n",
            "Epoch 25/100\n",
            "2/2 [==============================] - 0s 59ms/step - loss: 0.0052 - mae: 0.0558 - mse: 0.0052 - val_loss: 0.0116 - val_mae: 0.0939 - val_mse: 0.0116\n",
            "Epoch 26/100\n",
            "2/2 [==============================] - 0s 61ms/step - loss: 0.0057 - mae: 0.0567 - mse: 0.0057 - val_loss: 0.0117 - val_mae: 0.0876 - val_mse: 0.0117\n",
            "Epoch 27/100\n",
            "2/2 [==============================] - 0s 40ms/step - loss: 0.0050 - mae: 0.0549 - mse: 0.0050 - val_loss: 0.0118 - val_mae: 0.0970 - val_mse: 0.0118\n",
            "Epoch 28/100\n",
            "2/2 [==============================] - 0s 41ms/step - loss: 0.0065 - mae: 0.0604 - mse: 0.0065 - val_loss: 0.0112 - val_mae: 0.0946 - val_mse: 0.0112\n",
            "Epoch 29/100\n",
            "2/2 [==============================] - 0s 55ms/step - loss: 0.0057 - mae: 0.0569 - mse: 0.0057 - val_loss: 0.0112 - val_mae: 0.0946 - val_mse: 0.0112\n",
            "Epoch 30/100\n",
            "2/2 [==============================] - 0s 41ms/step - loss: 0.0059 - mae: 0.0577 - mse: 0.0059 - val_loss: 0.0146 - val_mae: 0.1065 - val_mse: 0.0146\n",
            "Epoch 31/100\n",
            "2/2 [==============================] - 0s 36ms/step - loss: 0.0092 - mae: 0.0724 - mse: 0.0092 - val_loss: 0.0248 - val_mae: 0.1283 - val_mse: 0.0248\n",
            "Epoch 32/100\n",
            "2/2 [==============================] - 0s 36ms/step - loss: 0.0131 - mae: 0.0857 - mse: 0.0131 - val_loss: 0.0142 - val_mae: 0.1065 - val_mse: 0.0142\n",
            "Epoch 33/100\n",
            "2/2 [==============================] - 0s 43ms/step - loss: 0.0064 - mae: 0.0588 - mse: 0.0064 - val_loss: 0.0144 - val_mae: 0.0912 - val_mse: 0.0144\n",
            "Epoch 34/100\n",
            "2/2 [==============================] - 0s 66ms/step - loss: 0.0064 - mae: 0.0680 - mse: 0.0064 - val_loss: 0.0162 - val_mae: 0.0974 - val_mse: 0.0162\n",
            "Epoch 35/100\n",
            "2/2 [==============================] - 0s 43ms/step - loss: 0.0052 - mae: 0.0552 - mse: 0.0052 - val_loss: 0.0135 - val_mae: 0.1058 - val_mse: 0.0135\n",
            "Epoch 36/100\n",
            "2/2 [==============================] - 0s 56ms/step - loss: 0.0240 - mae: 0.1330 - mse: 0.0240 - val_loss: 0.0684 - val_mae: 0.2278 - val_mse: 0.0684\n",
            "Epoch 37/100\n",
            "2/2 [==============================] - 0s 56ms/step - loss: 0.0390 - mae: 0.1718 - mse: 0.0390 - val_loss: 0.0852 - val_mae: 0.2722 - val_mse: 0.0852\n",
            "Epoch 38/100\n",
            "2/2 [==============================] - 0s 39ms/step - loss: 0.0448 - mae: 0.1970 - mse: 0.0448 - val_loss: 0.0574 - val_mae: 0.1944 - val_mse: 0.0574\n",
            "Epoch 39/100\n",
            "2/2 [==============================] - 0s 59ms/step - loss: 0.0436 - mae: 0.1673 - mse: 0.0436 - val_loss: 0.0192 - val_mae: 0.1116 - val_mse: 0.0192\n",
            "Epoch 40/100\n",
            "2/2 [==============================] - 0s 56ms/step - loss: 0.0252 - mae: 0.1294 - mse: 0.0252 - val_loss: 0.0189 - val_mae: 0.1057 - val_mse: 0.0189\n",
            "Epoch 41/100\n",
            "2/2 [==============================] - 0s 40ms/step - loss: 0.0132 - mae: 0.0932 - mse: 0.0132 - val_loss: 0.0205 - val_mae: 0.1190 - val_mse: 0.0205\n",
            "Epoch 42/100\n",
            "2/2 [==============================] - 0s 38ms/step - loss: 0.0112 - mae: 0.0779 - mse: 0.0112 - val_loss: 0.0283 - val_mae: 0.1266 - val_mse: 0.0283\n",
            "Epoch 43/100\n",
            "2/2 [==============================] - 0s 57ms/step - loss: 0.0090 - mae: 0.0804 - mse: 0.0090 - val_loss: 0.0150 - val_mae: 0.1035 - val_mse: 0.0150\n",
            "Epoch 44/100\n",
            "2/2 [==============================] - 0s 40ms/step - loss: 0.0091 - mae: 0.0718 - mse: 0.0091 - val_loss: 0.0141 - val_mae: 0.0925 - val_mse: 0.0141\n",
            "Epoch 45/100\n",
            "2/2 [==============================] - 0s 42ms/step - loss: 0.0080 - mae: 0.0698 - mse: 0.0080 - val_loss: 0.0133 - val_mae: 0.0911 - val_mse: 0.0133\n",
            "Epoch 46/100\n",
            "2/2 [==============================] - 0s 38ms/step - loss: 0.0055 - mae: 0.0584 - mse: 0.0055 - val_loss: 0.0121 - val_mae: 0.0931 - val_mse: 0.0121\n",
            "Epoch 47/100\n",
            "2/2 [==============================] - 0s 36ms/step - loss: 0.0062 - mae: 0.0596 - mse: 0.0062 - val_loss: 0.0129 - val_mae: 0.0896 - val_mse: 0.0129\n",
            "Epoch 48/100\n",
            "2/2 [==============================] - 0s 52ms/step - loss: 0.0047 - mae: 0.0543 - mse: 0.0047 - val_loss: 0.0114 - val_mae: 0.0921 - val_mse: 0.0114\n",
            "Epoch 49/100\n",
            "2/2 [==============================] - 0s 56ms/step - loss: 0.0054 - mae: 0.0553 - mse: 0.0054 - val_loss: 0.0113 - val_mae: 0.0877 - val_mse: 0.0113\n",
            "Epoch 50/100\n",
            "2/2 [==============================] - 0s 36ms/step - loss: 0.0047 - mae: 0.0525 - mse: 0.0047 - val_loss: 0.0107 - val_mae: 0.0909 - val_mse: 0.0107\n",
            "Epoch 51/100\n",
            "2/2 [==============================] - 0s 39ms/step - loss: 0.0052 - mae: 0.0546 - mse: 0.0052 - val_loss: 0.0106 - val_mae: 0.0896 - val_mse: 0.0106\n",
            "Epoch 52/100\n",
            "2/2 [==============================] - 0s 41ms/step - loss: 0.0049 - mae: 0.0529 - mse: 0.0049 - val_loss: 0.0106 - val_mae: 0.0913 - val_mse: 0.0106\n",
            "Epoch 53/100\n",
            "2/2 [==============================] - 0s 55ms/step - loss: 0.0053 - mae: 0.0548 - mse: 0.0053 - val_loss: 0.0111 - val_mae: 0.0946 - val_mse: 0.0111\n",
            "Epoch 54/100\n",
            "2/2 [==============================] - 0s 60ms/step - loss: 0.0057 - mae: 0.0562 - mse: 0.0057 - val_loss: 0.0111 - val_mae: 0.0943 - val_mse: 0.0111\n",
            "Epoch 55/100\n",
            "2/2 [==============================] - 0s 50ms/step - loss: 0.0056 - mae: 0.0553 - mse: 0.0056 - val_loss: 0.0112 - val_mae: 0.0946 - val_mse: 0.0112\n",
            "Epoch 56/100\n",
            "2/2 [==============================] - 0s 37ms/step - loss: 0.0059 - mae: 0.0573 - mse: 0.0059 - val_loss: 0.0124 - val_mae: 0.0985 - val_mse: 0.0124\n",
            "Epoch 57/100\n",
            "2/2 [==============================] - 0s 40ms/step - loss: 0.0067 - mae: 0.0604 - mse: 0.0067 - val_loss: 0.0116 - val_mae: 0.0957 - val_mse: 0.0116\n",
            "Epoch 58/100\n",
            "2/2 [==============================] - 0s 39ms/step - loss: 0.0057 - mae: 0.0549 - mse: 0.0057 - val_loss: 0.0104 - val_mae: 0.0874 - val_mse: 0.0104\n",
            "Epoch 59/100\n",
            "2/2 [==============================] - 0s 46ms/step - loss: 0.0049 - mae: 0.0530 - mse: 0.0049 - val_loss: 0.0111 - val_mae: 0.0930 - val_mse: 0.0111\n",
            "Epoch 60/100\n",
            "2/2 [==============================] - 0s 39ms/step - loss: 0.0082 - mae: 0.0692 - mse: 0.0082 - val_loss: 0.0174 - val_mae: 0.1101 - val_mse: 0.0174\n",
            "Epoch 61/100\n",
            "2/2 [==============================] - 0s 58ms/step - loss: 0.0086 - mae: 0.0668 - mse: 0.0086 - val_loss: 0.0225 - val_mae: 0.1171 - val_mse: 0.0225\n",
            "Epoch 62/100\n",
            "2/2 [==============================] - 0s 61ms/step - loss: 0.0094 - mae: 0.0813 - mse: 0.0094 - val_loss: 0.0120 - val_mae: 0.0979 - val_mse: 0.0120\n",
            "Epoch 63/100\n",
            "2/2 [==============================] - 0s 38ms/step - loss: 0.0083 - mae: 0.0686 - mse: 0.0083 - val_loss: 0.0103 - val_mae: 0.0831 - val_mse: 0.0103\n",
            "Epoch 64/100\n",
            "2/2 [==============================] - 0s 39ms/step - loss: 0.0050 - mae: 0.0542 - mse: 0.0050 - val_loss: 0.0117 - val_mae: 0.0852 - val_mse: 0.0117\n",
            "Epoch 65/100\n",
            "2/2 [==============================] - 0s 61ms/step - loss: 0.0049 - mae: 0.0542 - mse: 0.0049 - val_loss: 0.0127 - val_mae: 0.0994 - val_mse: 0.0127\n",
            "Epoch 66/100\n",
            "2/2 [==============================] - 0s 70ms/step - loss: 0.0064 - mae: 0.0575 - mse: 0.0064 - val_loss: 0.0123 - val_mae: 0.0858 - val_mse: 0.0123\n",
            "Epoch 67/100\n",
            "2/2 [==============================] - 0s 59ms/step - loss: 0.0046 - mae: 0.0530 - mse: 0.0046 - val_loss: 0.0101 - val_mae: 0.0878 - val_mse: 0.0101\n",
            "Epoch 68/100\n",
            "2/2 [==============================] - 0s 65ms/step - loss: 0.0070 - mae: 0.0639 - mse: 0.0070 - val_loss: 0.0145 - val_mae: 0.1037 - val_mse: 0.0145\n",
            "Epoch 69/100\n",
            "2/2 [==============================] - 0s 55ms/step - loss: 0.0076 - mae: 0.0629 - mse: 0.0076 - val_loss: 0.0187 - val_mae: 0.1058 - val_mse: 0.0187\n",
            "Epoch 70/100\n",
            "2/2 [==============================] - 0s 64ms/step - loss: 0.0071 - mae: 0.0695 - mse: 0.0071 - val_loss: 0.0113 - val_mae: 0.0932 - val_mse: 0.0113\n",
            "Epoch 71/100\n",
            "2/2 [==============================] - 0s 77ms/step - loss: 0.0072 - mae: 0.0629 - mse: 0.0072 - val_loss: 0.0099 - val_mae: 0.0848 - val_mse: 0.0099\n",
            "Epoch 72/100\n",
            "2/2 [==============================] - 0s 76ms/step - loss: 0.0051 - mae: 0.0540 - mse: 0.0051 - val_loss: 0.0116 - val_mae: 0.0829 - val_mse: 0.0116\n",
            "Epoch 73/100\n",
            "2/2 [==============================] - 0s 68ms/step - loss: 0.0046 - mae: 0.0522 - mse: 0.0046 - val_loss: 0.0115 - val_mae: 0.0943 - val_mse: 0.0115\n",
            "Epoch 74/100\n",
            "2/2 [==============================] - 0s 69ms/step - loss: 0.0064 - mae: 0.0584 - mse: 0.0064 - val_loss: 0.0101 - val_mae: 0.0837 - val_mse: 0.0101\n",
            "Epoch 75/100\n",
            "2/2 [==============================] - 0s 67ms/step - loss: 0.0045 - mae: 0.0515 - mse: 0.0045 - val_loss: 0.0096 - val_mae: 0.0823 - val_mse: 0.0096\n",
            "Epoch 76/100\n",
            "2/2 [==============================] - 0s 51ms/step - loss: 0.0050 - mae: 0.0534 - mse: 0.0050 - val_loss: 0.0132 - val_mae: 0.0995 - val_mse: 0.0132\n",
            "Epoch 77/100\n",
            "2/2 [==============================] - 0s 67ms/step - loss: 0.0077 - mae: 0.0637 - mse: 0.0077 - val_loss: 0.0107 - val_mae: 0.0850 - val_mse: 0.0107\n",
            "Epoch 78/100\n",
            "2/2 [==============================] - 0s 69ms/step - loss: 0.0049 - mae: 0.0555 - mse: 0.0049 - val_loss: 0.0114 - val_mae: 0.0835 - val_mse: 0.0114\n",
            "Epoch 79/100\n",
            "2/2 [==============================] - 0s 68ms/step - loss: 0.0046 - mae: 0.0509 - mse: 0.0046 - val_loss: 0.0124 - val_mae: 0.0992 - val_mse: 0.0124\n",
            "Epoch 80/100\n",
            "2/2 [==============================] - 0s 64ms/step - loss: 0.0100 - mae: 0.0787 - mse: 0.0100 - val_loss: 0.0117 - val_mae: 0.0947 - val_mse: 0.0117\n",
            "Epoch 81/100\n",
            "2/2 [==============================] - 0s 71ms/step - loss: 0.0061 - mae: 0.0577 - mse: 0.0061 - val_loss: 0.0197 - val_mae: 0.1088 - val_mse: 0.0197\n",
            "Epoch 82/100\n",
            "2/2 [==============================] - 0s 77ms/step - loss: 0.0075 - mae: 0.0714 - mse: 0.0075 - val_loss: 0.0138 - val_mae: 0.1028 - val_mse: 0.0138\n",
            "Epoch 83/100\n",
            "2/2 [==============================] - 0s 76ms/step - loss: 0.0083 - mae: 0.0678 - mse: 0.0083 - val_loss: 0.0189 - val_mae: 0.1078 - val_mse: 0.0189\n",
            "Epoch 84/100\n",
            "2/2 [==============================] - 0s 79ms/step - loss: 0.0055 - mae: 0.0572 - mse: 0.0055 - val_loss: 0.0124 - val_mae: 0.0971 - val_mse: 0.0124\n",
            "Epoch 85/100\n",
            "2/2 [==============================] - 0s 86ms/step - loss: 0.0078 - mae: 0.0651 - mse: 0.0078 - val_loss: 0.0105 - val_mae: 0.0863 - val_mse: 0.0105\n",
            "Epoch 86/100\n",
            "2/2 [==============================] - 0s 75ms/step - loss: 0.0049 - mae: 0.0537 - mse: 0.0049 - val_loss: 0.0122 - val_mae: 0.0848 - val_mse: 0.0122\n",
            "Epoch 87/100\n",
            "2/2 [==============================] - 0s 57ms/step - loss: 0.0050 - mae: 0.0544 - mse: 0.0050 - val_loss: 0.0123 - val_mae: 0.0981 - val_mse: 0.0123\n",
            "Epoch 88/100\n",
            "2/2 [==============================] - 0s 72ms/step - loss: 0.0075 - mae: 0.0638 - mse: 0.0075 - val_loss: 0.0150 - val_mae: 0.0953 - val_mse: 0.0150\n",
            "Epoch 89/100\n",
            "2/2 [==============================] - 0s 69ms/step - loss: 0.0052 - mae: 0.0574 - mse: 0.0052 - val_loss: 0.0118 - val_mae: 0.0957 - val_mse: 0.0118\n",
            "Epoch 90/100\n",
            "2/2 [==============================] - 0s 82ms/step - loss: 0.0066 - mae: 0.0591 - mse: 0.0066 - val_loss: 0.0100 - val_mae: 0.0809 - val_mse: 0.0100\n",
            "Epoch 91/100\n",
            "2/2 [==============================] - 0s 77ms/step - loss: 0.0044 - mae: 0.0504 - mse: 0.0044 - val_loss: 0.0096 - val_mae: 0.0809 - val_mse: 0.0096\n",
            "Epoch 92/100\n",
            "2/2 [==============================] - 0s 75ms/step - loss: 0.0049 - mae: 0.0527 - mse: 0.0049 - val_loss: 0.0109 - val_mae: 0.0918 - val_mse: 0.0109\n",
            "Epoch 93/100\n",
            "2/2 [==============================] - 0s 76ms/step - loss: 0.0060 - mae: 0.0563 - mse: 0.0060 - val_loss: 0.0113 - val_mae: 0.0825 - val_mse: 0.0113\n",
            "Epoch 94/100\n",
            "2/2 [==============================] - 0s 75ms/step - loss: 0.0046 - mae: 0.0529 - mse: 0.0046 - val_loss: 0.0093 - val_mae: 0.0809 - val_mse: 0.0093\n",
            "Epoch 95/100\n",
            "2/2 [==============================] - 0s 68ms/step - loss: 0.0055 - mae: 0.0562 - mse: 0.0055 - val_loss: 0.0128 - val_mae: 0.0981 - val_mse: 0.0128\n",
            "Epoch 96/100\n",
            "2/2 [==============================] - 0s 69ms/step - loss: 0.0074 - mae: 0.0629 - mse: 0.0074 - val_loss: 0.0172 - val_mae: 0.1033 - val_mse: 0.0172\n",
            "Epoch 97/100\n",
            "2/2 [==============================] - 0s 59ms/step - loss: 0.0063 - mae: 0.0647 - mse: 0.0063 - val_loss: 0.0106 - val_mae: 0.0899 - val_mse: 0.0106\n",
            "Epoch 98/100\n",
            "2/2 [==============================] - 0s 68ms/step - loss: 0.0069 - mae: 0.0622 - mse: 0.0069 - val_loss: 0.0097 - val_mae: 0.0850 - val_mse: 0.0097\n",
            "Epoch 99/100\n",
            "2/2 [==============================] - 0s 74ms/step - loss: 0.0056 - mae: 0.0563 - mse: 0.0056 - val_loss: 0.0150 - val_mae: 0.0949 - val_mse: 0.0150\n",
            "Epoch 100/100\n",
            "2/2 [==============================] - 0s 81ms/step - loss: 0.0053 - mae: 0.0555 - mse: 0.0053 - val_loss: 0.0138 - val_mae: 0.1011 - val_mse: 0.0138\n"
          ]
        }
      ]
    },
    {
      "cell_type": "code",
      "source": [
        "loss = history.history['loss']\n",
        "val_loss = history.history['val_loss']\n",
        "\n",
        "epochs=range(len(loss)) \n",
        "\n",
        "\n",
        "#------------------------------------------------\n",
        "# Plot training and validation loss per epoch\n",
        "#------------------------------------------------\n",
        "plt.plot(epochs, loss, 'r',label='loss')\n",
        "plt.plot(epochs,val_loss,'blue',label='val loss')\n",
        "plt.title('Training loss & Val Loss by Epochs')\n",
        "plt.xlabel(\"Epochs\")\n",
        "plt.ylabel(\"Loss\")\n",
        "plt.legend()\n",
        "plt.figure()\n",
        "plt.savefig('OptTLV.png')"
      ],
      "metadata": {
        "colab": {
          "base_uri": "https://localhost:8080/",
          "height": 401
        },
        "id": "111Wk34x4Ikr",
        "outputId": "53c230e2-82e5-4eea-add2-5df0b3aa9888"
      },
      "execution_count": 43,
      "outputs": [
        {
          "output_type": "display_data",
          "data": {
            "text/plain": [
              "<Figure size 720x360 with 1 Axes>"
            ],
            "image/png": "[encoded data removed]"
          },
          "metadata": {}
        },
        {
          "output_type": "display_data",
          "data": {
            "text/plain": [
              "<Figure size 720x360 with 0 Axes>"
            ]
          },
          "metadata": {}
        }
      ]
    },
    {
      "cell_type": "code",
      "source": [
        "y_predTU = tumlp_model.predict(X_test_mlp)\n",
        "y_predTU"
      ],
      "metadata": {
        "colab": {
          "base_uri": "https://localhost:8080/"
        },
        "id": "sQb5XKIk4Ipc",
        "outputId": "6a6e9eea-816c-45e2-c627-8bb7f795497d"
      },
      "execution_count": 51,
      "outputs": [
        {
          "output_type": "stream",
          "name": "stdout",
          "text": [
            "1/1 [==============================] - 0s 30ms/step\n"
          ]
        },
        {
          "output_type": "execute_result",
          "data": {
            "text/plain": [
              "array([[ 0.01911789],\n",
              "       [ 0.07763793],\n",
              "       [ 0.1222849 ],\n",
              "       [-0.02449256],\n",
              "       [-0.00233294],\n",
              "       [-0.01628591],\n",
              "       [-0.03256489],\n",
              "       [-0.07725553],\n",
              "       [-0.15292323],\n",
              "       [-0.12422776],\n",
              "       [-0.1128822 ],\n",
              "       [-0.14863239],\n",
              "       [-0.17483045],\n",
              "       [-0.12830348],\n",
              "       [-0.15165181],\n",
              "       [-0.1910697 ],\n",
              "       [-0.12133919],\n",
              "       [ 0.05762442],\n",
              "       [ 0.0883431 ],\n",
              "       [-0.05968565],\n",
              "       [-0.09717448],\n",
              "       [ 0.04156507]], dtype=float32)"
            ]
          },
          "metadata": {},
          "execution_count": 51
        }
      ]
    },
    {
      "cell_type": "code",
      "source": [
        "y_predTU.reshape(1,-1)"
      ],
      "metadata": {
        "colab": {
          "base_uri": "https://localhost:8080/"
        },
        "id": "NRcTp1Zc6C3p",
        "outputId": "c9b4a71f-ab75-4f2d-d20f-8475aa5bb663"
      },
      "execution_count": 52,
      "outputs": [
        {
          "output_type": "execute_result",
          "data": {
            "text/plain": [
              "array([[ 0.01911789,  0.07763793,  0.1222849 , -0.02449256, -0.00233294,\n",
              "        -0.01628591, -0.03256489, -0.07725553, -0.15292323, -0.12422776,\n",
              "        -0.1128822 , -0.14863239, -0.17483045, -0.12830348, -0.15165181,\n",
              "        -0.1910697 , -0.12133919,  0.05762442,  0.0883431 , -0.05968565,\n",
              "        -0.09717448,  0.04156507]], dtype=float32)"
            ]
          },
          "metadata": {},
          "execution_count": 52
        }
      ]
    },
    {
      "cell_type": "code",
      "source": [
        "y_train_inv = cpo_pri_transformer.inverse_transform(y_train.reshape(1, -1))\n",
        "y_test_inv = cpo_pri_transformer.inverse_transform(y_test.reshape(1, -1))\n",
        "y_pred_inv = cpo_pri_transformer.inverse_transform(y_predTU.reshape(1,-1))\n",
        "print(y_train_inv)\n",
        "print(y_test_inv)\n",
        "print(y_pred_inv)"
      ],
      "metadata": {
        "colab": {
          "base_uri": "https://localhost:8080/"
        },
        "id": "n1DAOeoS6PZz",
        "outputId": "28c95d0d-ae88-4b2a-f028-2cee797ad834"
      },
      "execution_count": 53,
      "outputs": [
        {
          "output_type": "stream",
          "name": "stdout",
          "text": [
            "[[376. 383. 382. 396. 402. 390. 404. 382. 382. 391. 396. 413. 401. 410.\n",
            "  425. 408. 392. 371. 356. 362. 356. 352. 333. 357. 411. 404. 387. 395.\n",
            "  434. 488. 508. 494. 575. 614. 616. 707. 719. 655. 661. 687. 625. 611.\n",
            "  631. 655. 616. 586. 615. 607. 590. 535. 518. 519. 562. 552. 508. 476.\n",
            "  513. 545. 532. 550. 561. 567. 580. 559. 562. 553. 533. 498. 504. 525.\n",
            "  547. 556. 566. 621. 659. 671. 688. 705. 633. 661. 674. 703. 694. 681.\n",
            "  663. 632. 561. 497. 509. 475. 392. 319. 354. 388. 381. 370.]]\n",
            "[[349. 372. 324. 315. 312. 306. 288. 255. 257. 265. 254. 240. 254. 251.\n",
            "  234. 255. 330. 362. 310. 277. 323. 360.]]\n",
            "[[326.64716 350.05518 367.91397 309.20297 318.06683 312.48563 305.97406\n",
            "  288.09778 257.83072 269.3089  273.84714 259.54706 249.06783 267.67862\n",
            "  258.3393  242.57211 270.46432 342.04977 354.33725 295.12573 280.13022\n",
            "  335.62604]]\n"
          ]
        }
      ]
    },
    {
      "cell_type": "code",
      "source": [
        "y_train_inv = y_train_inv.flatten()\n",
        "y_train_inv"
      ],
      "metadata": {
        "colab": {
          "base_uri": "https://localhost:8080/"
        },
        "id": "VTgpPe5A6Ped",
        "outputId": "b1eae8aa-a3e9-4164-91ce-22cb7611873e"
      },
      "execution_count": 54,
      "outputs": [
        {
          "output_type": "execute_result",
          "data": {
            "text/plain": [
              "array([376., 383., 382., 396., 402., 390., 404., 382., 382., 391., 396.,\n",
              "       413., 401., 410., 425., 408., 392., 371., 356., 362., 356., 352.,\n",
              "       333., 357., 411., 404., 387., 395., 434., 488., 508., 494., 575.,\n",
              "       614., 616., 707., 719., 655., 661., 687., 625., 611., 631., 655.,\n",
              "       616., 586., 615., 607., 590., 535., 518., 519., 562., 552., 508.,\n",
              "       476., 513., 545., 532., 550., 561., 567., 580., 559., 562., 553.,\n",
              "       533., 498., 504., 525., 547., 556., 566., 621., 659., 671., 688.,\n",
              "       705., 633., 661., 674., 703., 694., 681., 663., 632., 561., 497.,\n",
              "       509., 475., 392., 319., 354., 388., 381., 370.])"
            ]
          },
          "metadata": {},
          "execution_count": 54
        }
      ]
    },
    {
      "cell_type": "code",
      "source": [
        "y_test_inv = y_test_inv.flatten()\n",
        "y_test_inv"
      ],
      "metadata": {
        "colab": {
          "base_uri": "https://localhost:8080/"
        },
        "id": "XfPm6D_g6PjI",
        "outputId": "ee4136a6-0343-4aca-aad7-3addeb3a67be"
      },
      "execution_count": 55,
      "outputs": [
        {
          "output_type": "execute_result",
          "data": {
            "text/plain": [
              "array([349., 372., 324., 315., 312., 306., 288., 255., 257., 265., 254.,\n",
              "       240., 254., 251., 234., 255., 330., 362., 310., 277., 323., 360.])"
            ]
          },
          "metadata": {},
          "execution_count": 55
        }
      ]
    },
    {
      "cell_type": "code",
      "source": [
        "TU_MLP_Pred = y_pred_inv.flatten()   \n",
        "TU_MLP_Pred"
      ],
      "metadata": {
        "colab": {
          "base_uri": "https://localhost:8080/"
        },
        "id": "XGN_nrk-6Z5i",
        "outputId": "ada01486-4e27-4e86-b4c6-7bb567b16472"
      },
      "execution_count": 56,
      "outputs": [
        {
          "output_type": "execute_result",
          "data": {
            "text/plain": [
              "array([326.64716, 350.05518, 367.91397, 309.20297, 318.06683, 312.48563,\n",
              "       305.97406, 288.09778, 257.83072, 269.3089 , 273.84714, 259.54706,\n",
              "       249.06783, 267.67862, 258.3393 , 242.57211, 270.46432, 342.04977,\n",
              "       354.33725, 295.12573, 280.13022, 335.62604], dtype=float32)"
            ]
          },
          "metadata": {},
          "execution_count": 56
        }
      ]
    },
    {
      "cell_type": "code",
      "source": [
        "plt.plot(np.arange(0, len(y_train)), y_train_inv, color='green', label=\"History\")\n",
        "plt.plot(np.arange(len(y_train), len(y_train) + len(y_test)), y_test_inv, color='blue', marker='.', label=\"Actual\")\n",
        "plt.plot(np.arange(len(y_train), len(y_train) + len(y_test)), TU_MLP_Pred, color='red', label=\"Optimized MLP Prediction\")\n",
        "plt.ylabel('Crude Palm Oil Price')\n",
        "plt.xlabel('Time step')\n",
        "plt.legend()\n",
        "plt.show();\n",
        "plt.savefig('MLPOpt.png')"
      ],
      "metadata": {
        "colab": {
          "base_uri": "https://localhost:8080/",
          "height": 380
        },
        "id": "uywRyWjf6Z90",
        "outputId": "375adde7-3710-47da-daa1-b4bac6a3598f"
      },
      "execution_count": 57,
      "outputs": [
        {
          "output_type": "display_data",
          "data": {
            "text/plain": [
              "<Figure size 720x360 with 1 Axes>"
            ],
            "image/png": "[encoded data removed]"
          },
          "metadata": {}
        },
        {
          "output_type": "display_data",
          "data": {
            "text/plain": [
              "<Figure size 720x360 with 0 Axes>"
            ]
          },
          "metadata": {}
        }
      ]
    },
    {
      "cell_type": "markdown",
      "source": [
        "###Evaluate MLP Model Accuracy"
      ],
      "metadata": {
        "id": "1NImON2RmyWF"
      }
    },
    {
      "cell_type": "code",
      "source": [
        "TUMAE_mlp = mean_absolute_error(y_test_inv, TU_MLP_Pred)\n",
        "print('MAE value of the MLP Model is:', TUMAE_mlp)\n",
        "\n",
        "TUMDA_mlp = mda(y_test_inv, TU_MLP_Pred)\n",
        "print('MDA value of the tuned MLP Model is:', TUMDA_mlp)\n",
        "\n",
        "TUMAPE_mlp = mean_absolute_percentage_error(y_test_inv, TU_MLP_Pred)\n",
        "print('MAPE value of the tuned MLP Model is:', TUMAPE_mlp)\n",
        "\n",
        "TURMSE_mlp = mean_squared_error(y_test_inv,TU_MLP_Pred, squared=False)\n",
        "print('RMSE value of the tuned MLP Model is:', TURMSE_mlp)\n",
        "\n",
        "TUMSE_mlp = mean_squared_error(y_test_inv,TU_MLP_Pred)\n",
        "print('MSE value of the tuned MLP Model is:', TUMSE_mlp)"
      ],
      "metadata": {
        "colab": {
          "base_uri": "https://localhost:8080/"
        },
        "id": "w0Zr80xkEIpX",
        "outputId": "3a1d13b1-0f62-4c9a-9915-2938b644ea12"
      },
      "execution_count": 58,
      "outputs": [
        {
          "output_type": "stream",
          "name": "stdout",
          "text": [
            "MAE value of the MLP Model is: 21.351699135520242\n",
            "MDA value of the tuned MLP Model is: 0.5714285714285714\n",
            "MAPE value of the tuned MLP Model is: 7.145136399049895\n",
            "RMSE value of the tuned MLP Model is: 26.07160288447993\n",
            "MSE value of the tuned MLP Model is: 679.7284769660222\n"
          ]
        }
      ]
    },
    {
      "cell_type": "markdown",
      "source": [
        "###Comparing tuned MLP Actual VS Predicted (Zoomed-IN)"
      ],
      "metadata": {
        "id": "wXb87Y7bHQC7"
      }
    },
    {
      "cell_type": "code",
      "source": [
        "#Plot the graph between actual vs predicted values\n",
        "#plt.figure(figsize=(15,7))  #(10,6))\n",
        "plt.figure(figsize=(16,8), dpi= 100, facecolor='w', edgecolor='k')\n",
        "plt.plot(TU_MLP_Pred, color= 'green',marker='.',label = 'Tuned MLP Predicted for cpo_pri')\n",
        "plt.plot(y_test_inv, color = 'red',marker='.',label = 'Actual cpo_pri ')\n",
        "plt.title(\"Tuned MLP Crude Palm Oil Price Prediction (Multivariate)\")\n",
        "plt.xlabel(\"Time step\")\n",
        "plt.ylabel(\"Crude Palm Oil Price\")\n",
        "plt.legend()\n",
        "plt.show()\n",
        "plt.savefig('graph_TUmlp.png')"
      ],
      "metadata": {
        "colab": {
          "base_uri": "https://localhost:8080/",
          "height": 805
        },
        "id": "fIc5ITw4m2QJ",
        "outputId": "877d8f7f-7365-40d2-ee29-694bb2272ecd"
      },
      "execution_count": 59,
      "outputs": [
        {
          "output_type": "display_data",
          "data": {
            "text/plain": [
              "<Figure size 1600x800 with 1 Axes>"
            ],
            "image/png": "[encoded data removed]"
          },
          "metadata": {}
        },
        {
          "output_type": "display_data",
          "data": {
            "text/plain": [
              "<Figure size 720x360 with 0 Axes>"
            ]
          },
          "metadata": {}
        }
      ]
    },
    {
      "cell_type": "markdown",
      "source": [
        "###Results"
      ],
      "metadata": {
        "id": "U4Nt6hqpH8XQ"
      }
    },
    {
      "cell_type": "markdown",
      "source": [
        "* Baseline MSE = 0.0296\n",
        "* Random search MSE = 0.0706\n",
        "* Hyperband MSE = 0.01185\n",
        "* Baseline (CNN) RSME = 68.79\n",
        "* Tuned CNN RSME = 26.07\n",
        "\n"
      ],
      "metadata": {
        "id": "mF9yC4z7IfTx"
      }
    },
    {
      "cell_type": "code",
      "source": [],
      "metadata": {
        "id": "JLZgaBe6uWbe"
      },
      "execution_count": null,
      "outputs": []
    },
    {
      "cell_type": "code",
      "source": [],
      "metadata": {
        "id": "gtfs2YBfH-pG"
      },
      "execution_count": null,
      "outputs": []
    }
  ]
}