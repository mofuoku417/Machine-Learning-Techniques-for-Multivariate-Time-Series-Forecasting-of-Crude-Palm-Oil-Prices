{
  "cells": [
    {
      "cell_type": "markdown",
      "metadata": {
        "id": "view-in-github",
        "colab_type": "text"
      },
      "source": [
        "<a href=\"https://colab.research.google.com/github/mofuoku417/Machine-Learning-Techniques-for-Multivariate-Time-Series-Forecasting-of-Crude-Palm-Oil-Prices/blob/main/MV_GRU.ipynb\" target=\"_parent\"><img src=\"https://colab.research.google.com/assets/colab-badge.svg\" alt=\"Open In Colab\"/></a>"
      ]
    },
    {
      "cell_type": "markdown",
      "metadata": {
        "id": "tt6Yvzr3gZ-g"
      },
      "source": [
        "##Objective: Predict Monthly Crude Palm Oil Price Using Gated Response Unit (GRU)"
      ]
    },
    {
      "cell_type": "markdown",
      "metadata": {
        "id": "TvRmatc1Lo4v"
      },
      "source": [
        "###Install dependencies"
      ]
    },
    {
      "cell_type": "code",
      "execution_count": 1,
      "metadata": {
        "id": "gGw0m6TUdgMM",
        "outputId": "a38678fa-dbe4-4856-a05b-12f8237d1bc1",
        "colab": {
          "base_uri": "https://localhost:8080/"
        }
      },
      "outputs": [
        {
          "output_type": "stream",
          "name": "stdout",
          "text": [
            "Looking in indexes: https://pypi.org/simple, https://us-python.pkg.dev/colab-wheels/public/simple/\n",
            "Collecting scikeras\n",
            "  Downloading scikeras-0.10.0-py3-none-any.whl (27 kB)\n",
            "Requirement already satisfied: scikit-learn>=1.0.0 in /usr/local/lib/python3.8/dist-packages (from scikeras) (1.0.2)\n",
            "Requirement already satisfied: packaging>=0.21 in /usr/local/lib/python3.8/dist-packages (from scikeras) (23.0)\n",
            "Requirement already satisfied: numpy>=1.14.6 in /usr/local/lib/python3.8/dist-packages (from scikit-learn>=1.0.0->scikeras) (1.21.6)\n",
            "Requirement already satisfied: scipy>=1.1.0 in /usr/local/lib/python3.8/dist-packages (from scikit-learn>=1.0.0->scikeras) (1.7.3)\n",
            "Requirement already satisfied: joblib>=0.11 in /usr/local/lib/python3.8/dist-packages (from scikit-learn>=1.0.0->scikeras) (1.2.0)\n",
            "Requirement already satisfied: threadpoolctl>=2.0.0 in /usr/local/lib/python3.8/dist-packages (from scikit-learn>=1.0.0->scikeras) (3.1.0)\n",
            "Installing collected packages: scikeras\n",
            "Successfully installed scikeras-0.10.0\n",
            "Looking in indexes: https://pypi.org/simple, https://us-python.pkg.dev/colab-wheels/public/simple/\n",
            "Collecting bayesian-optimization\n",
            "  Downloading bayesian_optimization-1.4.2-py3-none-any.whl (17 kB)\n",
            "Requirement already satisfied: scipy>=1.0.0 in /usr/local/lib/python3.8/dist-packages (from bayesian-optimization) (1.7.3)\n",
            "Collecting colorama>=0.4.6\n",
            "  Downloading colorama-0.4.6-py2.py3-none-any.whl (25 kB)\n",
            "Requirement already satisfied: numpy>=1.9.0 in /usr/local/lib/python3.8/dist-packages (from bayesian-optimization) (1.21.6)\n",
            "Requirement already satisfied: scikit-learn>=0.18.0 in /usr/local/lib/python3.8/dist-packages (from bayesian-optimization) (1.0.2)\n",
            "Requirement already satisfied: threadpoolctl>=2.0.0 in /usr/local/lib/python3.8/dist-packages (from scikit-learn>=0.18.0->bayesian-optimization) (3.1.0)\n",
            "Requirement already satisfied: joblib>=0.11 in /usr/local/lib/python3.8/dist-packages (from scikit-learn>=0.18.0->bayesian-optimization) (1.2.0)\n",
            "Installing collected packages: colorama, bayesian-optimization\n",
            "Successfully installed bayesian-optimization-1.4.2 colorama-0.4.6\n",
            "Looking in indexes: https://pypi.org/simple, https://us-python.pkg.dev/colab-wheels/public/simple/\n",
            "Collecting keras-tuner\n",
            "  Downloading keras_tuner-1.2.1-py3-none-any.whl (169 kB)\n",
            "\u001b[2K     \u001b[90m━━━━━━━━━━━━━━━━━━━━━━━━━━━━━━━━━━━━━━━\u001b[0m \u001b[32m169.6/169.6 KB\u001b[0m \u001b[31m3.8 MB/s\u001b[0m eta \u001b[36m0:00:00\u001b[0m\n",
            "\u001b[?25hCollecting kt-legacy\n",
            "  Downloading kt_legacy-1.0.4-py3-none-any.whl (9.6 kB)\n",
            "Requirement already satisfied: tensorflow>=2.0 in /usr/local/lib/python3.8/dist-packages (from keras-tuner) (2.11.0)\n",
            "Requirement already satisfied: packaging in /usr/local/lib/python3.8/dist-packages (from keras-tuner) (23.0)\n",
            "Requirement already satisfied: requests in /usr/local/lib/python3.8/dist-packages (from keras-tuner) (2.25.1)\n",
            "Requirement already satisfied: ipython in /usr/local/lib/python3.8/dist-packages (from keras-tuner) (7.9.0)\n",
            "Requirement already satisfied: astunparse>=1.6.0 in /usr/local/lib/python3.8/dist-packages (from tensorflow>=2.0->keras-tuner) (1.6.3)\n",
            "Requirement already satisfied: typing-extensions>=3.6.6 in /usr/local/lib/python3.8/dist-packages (from tensorflow>=2.0->keras-tuner) (4.4.0)\n",
            "Requirement already satisfied: opt-einsum>=2.3.2 in /usr/local/lib/python3.8/dist-packages (from tensorflow>=2.0->keras-tuner) (3.3.0)\n",
            "Requirement already satisfied: google-pasta>=0.1.1 in /usr/local/lib/python3.8/dist-packages (from tensorflow>=2.0->keras-tuner) (0.2.0)\n",
            "Requirement already satisfied: libclang>=13.0.0 in /usr/local/lib/python3.8/dist-packages (from tensorflow>=2.0->keras-tuner) (15.0.6.1)\n",
            "Requirement already satisfied: grpcio<2.0,>=1.24.3 in /usr/local/lib/python3.8/dist-packages (from tensorflow>=2.0->keras-tuner) (1.51.1)\n",
            "Requirement already satisfied: tensorflow-estimator<2.12,>=2.11.0 in /usr/local/lib/python3.8/dist-packages (from tensorflow>=2.0->keras-tuner) (2.11.0)\n",
            "Requirement already satisfied: setuptools in /usr/local/lib/python3.8/dist-packages (from tensorflow>=2.0->keras-tuner) (57.4.0)\n",
            "Requirement already satisfied: numpy>=1.20 in /usr/local/lib/python3.8/dist-packages (from tensorflow>=2.0->keras-tuner) (1.21.6)\n",
            "Requirement already satisfied: keras<2.12,>=2.11.0 in /usr/local/lib/python3.8/dist-packages (from tensorflow>=2.0->keras-tuner) (2.11.0)\n",
            "Requirement already satisfied: gast<=0.4.0,>=0.2.1 in /usr/local/lib/python3.8/dist-packages (from tensorflow>=2.0->keras-tuner) (0.4.0)\n",
            "Requirement already satisfied: flatbuffers>=2.0 in /usr/local/lib/python3.8/dist-packages (from tensorflow>=2.0->keras-tuner) (23.1.21)\n",
            "Requirement already satisfied: h5py>=2.9.0 in /usr/local/lib/python3.8/dist-packages (from tensorflow>=2.0->keras-tuner) (3.1.0)\n",
            "Requirement already satisfied: protobuf<3.20,>=3.9.2 in /usr/local/lib/python3.8/dist-packages (from tensorflow>=2.0->keras-tuner) (3.19.6)\n",
            "Requirement already satisfied: wrapt>=1.11.0 in /usr/local/lib/python3.8/dist-packages (from tensorflow>=2.0->keras-tuner) (1.14.1)\n",
            "Requirement already satisfied: termcolor>=1.1.0 in /usr/local/lib/python3.8/dist-packages (from tensorflow>=2.0->keras-tuner) (2.2.0)\n",
            "Requirement already satisfied: six>=1.12.0 in /usr/local/lib/python3.8/dist-packages (from tensorflow>=2.0->keras-tuner) (1.15.0)\n",
            "Requirement already satisfied: absl-py>=1.0.0 in /usr/local/lib/python3.8/dist-packages (from tensorflow>=2.0->keras-tuner) (1.4.0)\n",
            "Requirement already satisfied: tensorflow-io-gcs-filesystem>=0.23.1 in /usr/local/lib/python3.8/dist-packages (from tensorflow>=2.0->keras-tuner) (0.30.0)\n",
            "Requirement already satisfied: tensorboard<2.12,>=2.11 in /usr/local/lib/python3.8/dist-packages (from tensorflow>=2.0->keras-tuner) (2.11.2)\n",
            "Requirement already satisfied: pickleshare in /usr/local/lib/python3.8/dist-packages (from ipython->keras-tuner) (0.7.5)\n",
            "Requirement already satisfied: pygments in /usr/local/lib/python3.8/dist-packages (from ipython->keras-tuner) (2.6.1)\n",
            "Collecting jedi>=0.10\n",
            "  Downloading jedi-0.18.2-py2.py3-none-any.whl (1.6 MB)\n",
            "\u001b[2K     \u001b[90m━━━━━━━━━━━━━━━━━━━━━━━━━━━━━━━━━━━━━━━━\u001b[0m \u001b[32m1.6/1.6 MB\u001b[0m \u001b[31m20.4 MB/s\u001b[0m eta \u001b[36m0:00:00\u001b[0m\n",
            "\u001b[?25hRequirement already satisfied: backcall in /usr/local/lib/python3.8/dist-packages (from ipython->keras-tuner) (0.2.0)\n",
            "Requirement already satisfied: pexpect in /usr/local/lib/python3.8/dist-packages (from ipython->keras-tuner) (4.8.0)\n",
            "Requirement already satisfied: traitlets>=4.2 in /usr/local/lib/python3.8/dist-packages (from ipython->keras-tuner) (5.7.1)\n",
            "Requirement already satisfied: decorator in /usr/local/lib/python3.8/dist-packages (from ipython->keras-tuner) (4.4.2)\n",
            "Requirement already satisfied: prompt-toolkit<2.1.0,>=2.0.0 in /usr/local/lib/python3.8/dist-packages (from ipython->keras-tuner) (2.0.10)\n",
            "Requirement already satisfied: idna<3,>=2.5 in /usr/local/lib/python3.8/dist-packages (from requests->keras-tuner) (2.10)\n",
            "Requirement already satisfied: urllib3<1.27,>=1.21.1 in /usr/local/lib/python3.8/dist-packages (from requests->keras-tuner) (1.24.3)\n",
            "Requirement already satisfied: chardet<5,>=3.0.2 in /usr/local/lib/python3.8/dist-packages (from requests->keras-tuner) (4.0.0)\n",
            "Requirement already satisfied: certifi>=2017.4.17 in /usr/local/lib/python3.8/dist-packages (from requests->keras-tuner) (2022.12.7)\n",
            "Requirement already satisfied: wheel<1.0,>=0.23.0 in /usr/local/lib/python3.8/dist-packages (from astunparse>=1.6.0->tensorflow>=2.0->keras-tuner) (0.38.4)\n",
            "Requirement already satisfied: parso<0.9.0,>=0.8.0 in /usr/local/lib/python3.8/dist-packages (from jedi>=0.10->ipython->keras-tuner) (0.8.3)\n",
            "Requirement already satisfied: wcwidth in /usr/local/lib/python3.8/dist-packages (from prompt-toolkit<2.1.0,>=2.0.0->ipython->keras-tuner) (0.2.6)\n",
            "Requirement already satisfied: tensorboard-data-server<0.7.0,>=0.6.0 in /usr/local/lib/python3.8/dist-packages (from tensorboard<2.12,>=2.11->tensorflow>=2.0->keras-tuner) (0.6.1)\n",
            "Requirement already satisfied: google-auth<3,>=1.6.3 in /usr/local/lib/python3.8/dist-packages (from tensorboard<2.12,>=2.11->tensorflow>=2.0->keras-tuner) (2.16.0)\n",
            "Requirement already satisfied: markdown>=2.6.8 in /usr/local/lib/python3.8/dist-packages (from tensorboard<2.12,>=2.11->tensorflow>=2.0->keras-tuner) (3.4.1)\n",
            "Requirement already satisfied: google-auth-oauthlib<0.5,>=0.4.1 in /usr/local/lib/python3.8/dist-packages (from tensorboard<2.12,>=2.11->tensorflow>=2.0->keras-tuner) (0.4.6)\n",
            "Requirement already satisfied: werkzeug>=1.0.1 in /usr/local/lib/python3.8/dist-packages (from tensorboard<2.12,>=2.11->tensorflow>=2.0->keras-tuner) (1.0.1)\n",
            "Requirement already satisfied: tensorboard-plugin-wit>=1.6.0 in /usr/local/lib/python3.8/dist-packages (from tensorboard<2.12,>=2.11->tensorflow>=2.0->keras-tuner) (1.8.1)\n",
            "Requirement already satisfied: ptyprocess>=0.5 in /usr/local/lib/python3.8/dist-packages (from pexpect->ipython->keras-tuner) (0.7.0)\n",
            "Requirement already satisfied: cachetools<6.0,>=2.0.0 in /usr/local/lib/python3.8/dist-packages (from google-auth<3,>=1.6.3->tensorboard<2.12,>=2.11->tensorflow>=2.0->keras-tuner) (5.3.0)\n",
            "Requirement already satisfied: rsa<5,>=3.1.4 in /usr/local/lib/python3.8/dist-packages (from google-auth<3,>=1.6.3->tensorboard<2.12,>=2.11->tensorflow>=2.0->keras-tuner) (4.9)\n",
            "Requirement already satisfied: pyasn1-modules>=0.2.1 in /usr/local/lib/python3.8/dist-packages (from google-auth<3,>=1.6.3->tensorboard<2.12,>=2.11->tensorflow>=2.0->keras-tuner) (0.2.8)\n",
            "Requirement already satisfied: requests-oauthlib>=0.7.0 in /usr/local/lib/python3.8/dist-packages (from google-auth-oauthlib<0.5,>=0.4.1->tensorboard<2.12,>=2.11->tensorflow>=2.0->keras-tuner) (1.3.1)\n",
            "Requirement already satisfied: importlib-metadata>=4.4 in /usr/local/lib/python3.8/dist-packages (from markdown>=2.6.8->tensorboard<2.12,>=2.11->tensorflow>=2.0->keras-tuner) (6.0.0)\n",
            "Requirement already satisfied: zipp>=0.5 in /usr/local/lib/python3.8/dist-packages (from importlib-metadata>=4.4->markdown>=2.6.8->tensorboard<2.12,>=2.11->tensorflow>=2.0->keras-tuner) (3.12.1)\n",
            "Requirement already satisfied: pyasn1<0.5.0,>=0.4.6 in /usr/local/lib/python3.8/dist-packages (from pyasn1-modules>=0.2.1->google-auth<3,>=1.6.3->tensorboard<2.12,>=2.11->tensorflow>=2.0->keras-tuner) (0.4.8)\n",
            "Requirement already satisfied: oauthlib>=3.0.0 in /usr/local/lib/python3.8/dist-packages (from requests-oauthlib>=0.7.0->google-auth-oauthlib<0.5,>=0.4.1->tensorboard<2.12,>=2.11->tensorflow>=2.0->keras-tuner) (3.2.2)\n",
            "Installing collected packages: kt-legacy, jedi, keras-tuner\n",
            "Successfully installed jedi-0.18.2 keras-tuner-1.2.1 kt-legacy-1.0.4\n"
          ]
        }
      ],
      "source": [
        "!pip install scikeras\n",
        "!pip install bayesian-optimization\n",
        "!pip install keras-tuner --upgrade"
      ]
    },
    {
      "cell_type": "markdown",
      "metadata": {
        "id": "r_2Cswg0sYN8"
      },
      "source": [
        "###Load Libraries"
      ]
    },
    {
      "cell_type": "code",
      "execution_count": 2,
      "metadata": {
        "id": "eJUaw5qy34It"
      },
      "outputs": [],
      "source": [
        "from numpy.random import seed\n",
        "seed(1)\n",
        "import tensorflow as tf\n",
        "tf.random.set_seed(1)\n",
        "\n",
        "import pandas as pd\n",
        "import numpy as np\n",
        "import matplotlib.pyplot as plt\n",
        "import pickle\n",
        "import os\n",
        "import seaborn as sns\n",
        "plt.rcParams['figure.figsize'] = (10, 5)\n",
        "plt.style.use('fivethirtyeight')\n",
        "from plotly.subplots import make_subplots\n",
        "import plotly.graph_objects as go\n",
        "import tensorflow as tf\n",
        "from tensorflow.keras import layers\n",
        "from sklearn.metrics import mean_absolute_error\n",
        "from sklearn.metrics import make_scorer, mean_squared_error\n",
        "from keras.layers import Dense, Dropout, GRU\n",
        "from sklearn.metrics import explained_variance_score\n",
        "import warnings\n",
        "warnings.filterwarnings('ignore')\n",
        "from keras.models import Sequential\n",
        "from keras.wrappers.scikit_learn import KerasRegressor\n",
        "from keras.wrappers.scikit_learn import KerasClassifier\n",
        "from sklearn.model_selection import KFold, cross_val_score\n",
        "from scikeras.wrappers import KerasRegressor\n",
        "from tensorflow import keras\n",
        "from kerastuner.tuners import RandomSearch\n",
        "from kerastuner import HyperModel, RandomSearch, Hyperband, BayesianOptimization\n",
        "from keras.callbacks import EarlyStopping\n",
        "from time import time\n",
        "import pickle\n",
        "\n",
        "import matplotlib.dates as mdates\n",
        "from sklearn.preprocessing import RobustScaler\n",
        "from sklearn.preprocessing import MinMaxScaler"
      ]
    },
    {
      "cell_type": "markdown",
      "metadata": {
        "id": "Gzu9V2o2gfZG"
      },
      "source": [
        "###Define Functions to Facilitate Metrics Evaluation"
      ]
    },
    {
      "cell_type": "code",
      "execution_count": 3,
      "metadata": {
        "id": "k7RYx1rN_Yf_"
      },
      "outputs": [],
      "source": [
        "#To compute Mean Directional Accuracy\n",
        "def mda(actual: np.ndarray, predicted: np.ndarray):\n",
        "    \"\"\" Mean Directional Accuracy \"\"\"\n",
        "    return np.mean((np.sign(actual[1:] - actual[:-1]) == np.sign(predicted[1:] - predicted[:-1])).astype(int))\n",
        "\n",
        "#Calculate the Mean Absolute Percentage Error\n",
        "#def MAPE(y_true, y_pred): \n",
        "    #mape = np.mean(np.abs((np.array(y_true) - np.array(y_pred)) / np.array(y_true))) * 100\n",
        "    #return mape\n",
        "\n",
        "def mean_absolute_percentage_error(y_true, y_pred): \n",
        "    y_true, y_pred = np.array(y_true), np.array(y_pred)\n",
        "    return np.mean(np.abs((y_true - y_pred) / y_true)) * 100\n",
        "\n",
        "def MAPE(y_true, y_pred): \n",
        "    y_true, y_pred = np.array(y_true), np.array(y_pred)\n",
        "    return np.mean(np.abs((y_true - y_pred) / y_true)) * 100\n",
        "\n",
        "#Calculate the Root Mean Squared Error:\n",
        "def RMSE(y_true, y_pred): \n",
        "    rmse = np.sqrt(mean_squared_error(y_true, y_pred))\n",
        "    return rmse"
      ]
    },
    {
      "cell_type": "markdown",
      "metadata": {
        "id": "FVpIGyF7g4od"
      },
      "source": [
        "###Load the Cleaned Data from Github"
      ]
    },
    {
      "cell_type": "code",
      "execution_count": 4,
      "metadata": {
        "colab": {
          "base_uri": "https://localhost:8080/",
          "height": 226
        },
        "id": "z_6wFR8b3xZf",
        "outputId": "82c8c7ac-af5f-48bb-9625-67440abd78e1"
      },
      "outputs": [
        {
          "output_type": "execute_result",
          "data": {
            "text/plain": [
              "      date  cpo_pri  cno_pri  oli_pri  rps_pri  pno_pri  sbo_pri  sfo_pri\n",
              "0  12/1/10      323      455  3102.61   423.45    844.0    468.0    578.0\n",
              "1   1/1/11      345      546  3100.45   415.85    799.0    485.0    557.0\n",
              "2   2/1/11      362      595  3199.41   410.77    718.0    466.0    552.0\n",
              "3   3/1/11      376      636  3281.67   414.82    614.0    442.0    574.0\n",
              "4   4/1/11      383      738  3261.65   451.04    619.0    429.0    595.0"
            ],
            "text/html": [
              "\n",
              "  <div id=\"df-55d34225-fda0-4e8c-a43f-1c2195ac80d3\">\n",
              "    <div class=\"colab-df-container\">\n",
              "      <div>\n",
              "<style scoped>\n",
              "    .dataframe tbody tr th:only-of-type {\n",
              "        vertical-align: middle;\n",
              "    }\n",
              "\n",
              "    .dataframe tbody tr th {\n",
              "        vertical-align: top;\n",
              "    }\n",
              "\n",
              "    .dataframe thead th {\n",
              "        text-align: right;\n",
              "    }\n",
              "</style>\n",
              "<table border=\"1\" class=\"dataframe\">\n",
              "  <thead>\n",
              "    <tr style=\"text-align: right;\">\n",
              "      <th></th>\n",
              "      <th>date</th>\n",
              "      <th>cpo_pri</th>\n",
              "      <th>cno_pri</th>\n",
              "      <th>oli_pri</th>\n",
              "      <th>rps_pri</th>\n",
              "      <th>pno_pri</th>\n",
              "      <th>sbo_pri</th>\n",
              "      <th>sfo_pri</th>\n",
              "    </tr>\n",
              "  </thead>\n",
              "  <tbody>\n",
              "    <tr>\n",
              "      <th>0</th>\n",
              "      <td>12/1/10</td>\n",
              "      <td>323</td>\n",
              "      <td>455</td>\n",
              "      <td>3102.61</td>\n",
              "      <td>423.45</td>\n",
              "      <td>844.0</td>\n",
              "      <td>468.0</td>\n",
              "      <td>578.0</td>\n",
              "    </tr>\n",
              "    <tr>\n",
              "      <th>1</th>\n",
              "      <td>1/1/11</td>\n",
              "      <td>345</td>\n",
              "      <td>546</td>\n",
              "      <td>3100.45</td>\n",
              "      <td>415.85</td>\n",
              "      <td>799.0</td>\n",
              "      <td>485.0</td>\n",
              "      <td>557.0</td>\n",
              "    </tr>\n",
              "    <tr>\n",
              "      <th>2</th>\n",
              "      <td>2/1/11</td>\n",
              "      <td>362</td>\n",
              "      <td>595</td>\n",
              "      <td>3199.41</td>\n",
              "      <td>410.77</td>\n",
              "      <td>718.0</td>\n",
              "      <td>466.0</td>\n",
              "      <td>552.0</td>\n",
              "    </tr>\n",
              "    <tr>\n",
              "      <th>3</th>\n",
              "      <td>3/1/11</td>\n",
              "      <td>376</td>\n",
              "      <td>636</td>\n",
              "      <td>3281.67</td>\n",
              "      <td>414.82</td>\n",
              "      <td>614.0</td>\n",
              "      <td>442.0</td>\n",
              "      <td>574.0</td>\n",
              "    </tr>\n",
              "    <tr>\n",
              "      <th>4</th>\n",
              "      <td>4/1/11</td>\n",
              "      <td>383</td>\n",
              "      <td>738</td>\n",
              "      <td>3261.65</td>\n",
              "      <td>451.04</td>\n",
              "      <td>619.0</td>\n",
              "      <td>429.0</td>\n",
              "      <td>595.0</td>\n",
              "    </tr>\n",
              "  </tbody>\n",
              "</table>\n",
              "</div>\n",
              "      <button class=\"colab-df-convert\" onclick=\"convertToInteractive('df-55d34225-fda0-4e8c-a43f-1c2195ac80d3')\"\n",
              "              title=\"Convert this dataframe to an interactive table.\"\n",
              "              style=\"display:none;\">\n",
              "        \n",
              "  <svg xmlns=\"http://www.w3.org/2000/svg\" height=\"24px\"viewBox=\"0 0 24 24\"\n",
              "       width=\"24px\">\n",
              "    <path d=\"M0 0h24v24H0V0z\" fill=\"none\"/>\n",
              "    <path d=\"M18.56 5.44l.94 2.06.94-2.06 2.06-.94-2.06-.94-.94-2.06-.94 2.06-2.06.94zm-11 1L8.5 8.5l.94-2.06 2.06-.94-2.06-.94L8.5 2.5l-.94 2.06-2.06.94zm10 10l.94 2.06.94-2.06 2.06-.94-2.06-.94-.94-2.06-.94 2.06-2.06.94z\"/><path d=\"M17.41 7.96l-1.37-1.37c-.4-.4-.92-.59-1.43-.59-.52 0-1.04.2-1.43.59L10.3 9.45l-7.72 7.72c-.78.78-.78 2.05 0 2.83L4 21.41c.39.39.9.59 1.41.59.51 0 1.02-.2 1.41-.59l7.78-7.78 2.81-2.81c.8-.78.8-2.07 0-2.86zM5.41 20L4 18.59l7.72-7.72 1.47 1.35L5.41 20z\"/>\n",
              "  </svg>\n",
              "      </button>\n",
              "      \n",
              "  <style>\n",
              "    .colab-df-container {\n",
              "      display:flex;\n",
              "      flex-wrap:wrap;\n",
              "      gap: 12px;\n",
              "    }\n",
              "\n",
              "    .colab-df-convert {\n",
              "      background-color: #E8F0FE;\n",
              "      border: none;\n",
              "      border-radius: 50%;\n",
              "      cursor: pointer;\n",
              "      display: none;\n",
              "      fill: #1967D2;\n",
              "      height: 32px;\n",
              "      padding: 0 0 0 0;\n",
              "      width: 32px;\n",
              "    }\n",
              "\n",
              "    .colab-df-convert:hover {\n",
              "      background-color: #E2EBFA;\n",
              "      box-shadow: 0px 1px 2px rgba(60, 64, 67, 0.3), 0px 1px 3px 1px rgba(60, 64, 67, 0.15);\n",
              "      fill: #174EA6;\n",
              "    }\n",
              "\n",
              "    [theme=dark] .colab-df-convert {\n",
              "      background-color: #3B4455;\n",
              "      fill: #D2E3FC;\n",
              "    }\n",
              "\n",
              "    [theme=dark] .colab-df-convert:hover {\n",
              "      background-color: #434B5C;\n",
              "      box-shadow: 0px 1px 3px 1px rgba(0, 0, 0, 0.15);\n",
              "      filter: drop-shadow(0px 1px 2px rgba(0, 0, 0, 0.3));\n",
              "      fill: #FFFFFF;\n",
              "    }\n",
              "  </style>\n",
              "\n",
              "      <script>\n",
              "        const buttonEl =\n",
              "          document.querySelector('#df-55d34225-fda0-4e8c-a43f-1c2195ac80d3 button.colab-df-convert');\n",
              "        buttonEl.style.display =\n",
              "          google.colab.kernel.accessAllowed ? 'block' : 'none';\n",
              "\n",
              "        async function convertToInteractive(key) {\n",
              "          const element = document.querySelector('#df-55d34225-fda0-4e8c-a43f-1c2195ac80d3');\n",
              "          const dataTable =\n",
              "            await google.colab.kernel.invokeFunction('convertToInteractive',\n",
              "                                                     [key], {});\n",
              "          if (!dataTable) return;\n",
              "\n",
              "          const docLinkHtml = 'Like what you see? Visit the ' +\n",
              "            '<a target=\"_blank\" href=https://colab.research.google.com/notebooks/data_table.ipynb>data table notebook</a>'\n",
              "            + ' to learn more about interactive tables.';\n",
              "          element.innerHTML = '';\n",
              "          dataTable['output_type'] = 'display_data';\n",
              "          await google.colab.output.renderOutput(dataTable, element);\n",
              "          const docLink = document.createElement('div');\n",
              "          docLink.innerHTML = docLinkHtml;\n",
              "          element.appendChild(docLink);\n",
              "        }\n",
              "      </script>\n",
              "    </div>\n",
              "  </div>\n",
              "  "
            ]
          },
          "metadata": {},
          "execution_count": 4
        }
      ],
      "source": [
        "from pandas import read_csv\n",
        "path = 'https://raw.githubusercontent.com/mofuoku417/Machine-Learning-Techniques-for-Multivariate-Time-Series-Forecasting-of-Crude-Palm-Oil-Prices/main/Cleaned_data/FS_2.csv'\n",
        "df = read_csv(path)\n",
        "df.head()"
      ]
    },
    {
      "cell_type": "code",
      "execution_count": 5,
      "metadata": {
        "id": "bABFH7Kd4nBN"
      },
      "outputs": [],
      "source": [
        "df['date']=pd.to_datetime(df['date'])\n",
        "#del df['date']"
      ]
    },
    {
      "cell_type": "code",
      "execution_count": 6,
      "metadata": {
        "colab": {
          "base_uri": "https://localhost:8080/"
        },
        "id": "nZ-LB-rFdF5N",
        "outputId": "e1c56726-6011-43ae-bc74-91cfefecc84d"
      },
      "outputs": [
        {
          "output_type": "stream",
          "name": "stdout",
          "text": [
            "<class 'pandas.core.frame.DataFrame'>\n",
            "DatetimeIndex: 124 entries, 2010-12-01 to 2021-03-01\n",
            "Data columns (total 7 columns):\n",
            " #   Column   Non-Null Count  Dtype  \n",
            "---  ------   --------------  -----  \n",
            " 0   cpo_pri  124 non-null    int64  \n",
            " 1   cno_pri  124 non-null    int64  \n",
            " 2   oli_pri  124 non-null    float64\n",
            " 3   rps_pri  124 non-null    float64\n",
            " 4   pno_pri  124 non-null    float64\n",
            " 5   sbo_pri  124 non-null    float64\n",
            " 6   sfo_pri  124 non-null    float64\n",
            "dtypes: float64(5), int64(2)\n",
            "memory usage: 7.8 KB\n"
          ]
        }
      ],
      "source": [
        "df.set_index('date', inplace=True)\n",
        "df.info()"
      ]
    },
    {
      "cell_type": "code",
      "execution_count": 7,
      "metadata": {
        "colab": {
          "base_uri": "https://localhost:8080/",
          "height": 258
        },
        "id": "PLpdJChY4wex",
        "outputId": "4ebb3a59-92c5-4072-d0a3-c7b1f90bfb48"
      },
      "outputs": [
        {
          "output_type": "execute_result",
          "data": {
            "text/plain": [
              "            cpo_pri  cno_pri  oli_pri  rps_pri  pno_pri  sbo_pri  sfo_pri\n",
              "date                                                                     \n",
              "2010-12-01      323      455  3102.61   423.45    844.0    468.0    578.0\n",
              "2011-01-01      345      546  3100.45   415.85    799.0    485.0    557.0\n",
              "2011-02-01      362      595  3199.41   410.77    718.0    466.0    552.0\n",
              "2011-03-01      376      636  3281.67   414.82    614.0    442.0    574.0\n",
              "2011-04-01      383      738  3261.65   451.04    619.0    429.0    595.0"
            ],
            "text/html": [
              "\n",
              "  <div id=\"df-48a0456c-ebfd-47dc-b898-15e012d6e45c\">\n",
              "    <div class=\"colab-df-container\">\n",
              "      <div>\n",
              "<style scoped>\n",
              "    .dataframe tbody tr th:only-of-type {\n",
              "        vertical-align: middle;\n",
              "    }\n",
              "\n",
              "    .dataframe tbody tr th {\n",
              "        vertical-align: top;\n",
              "    }\n",
              "\n",
              "    .dataframe thead th {\n",
              "        text-align: right;\n",
              "    }\n",
              "</style>\n",
              "<table border=\"1\" class=\"dataframe\">\n",
              "  <thead>\n",
              "    <tr style=\"text-align: right;\">\n",
              "      <th></th>\n",
              "      <th>cpo_pri</th>\n",
              "      <th>cno_pri</th>\n",
              "      <th>oli_pri</th>\n",
              "      <th>rps_pri</th>\n",
              "      <th>pno_pri</th>\n",
              "      <th>sbo_pri</th>\n",
              "      <th>sfo_pri</th>\n",
              "    </tr>\n",
              "    <tr>\n",
              "      <th>date</th>\n",
              "      <th></th>\n",
              "      <th></th>\n",
              "      <th></th>\n",
              "      <th></th>\n",
              "      <th></th>\n",
              "      <th></th>\n",
              "      <th></th>\n",
              "    </tr>\n",
              "  </thead>\n",
              "  <tbody>\n",
              "    <tr>\n",
              "      <th>2010-12-01</th>\n",
              "      <td>323</td>\n",
              "      <td>455</td>\n",
              "      <td>3102.61</td>\n",
              "      <td>423.45</td>\n",
              "      <td>844.0</td>\n",
              "      <td>468.0</td>\n",
              "      <td>578.0</td>\n",
              "    </tr>\n",
              "    <tr>\n",
              "      <th>2011-01-01</th>\n",
              "      <td>345</td>\n",
              "      <td>546</td>\n",
              "      <td>3100.45</td>\n",
              "      <td>415.85</td>\n",
              "      <td>799.0</td>\n",
              "      <td>485.0</td>\n",
              "      <td>557.0</td>\n",
              "    </tr>\n",
              "    <tr>\n",
              "      <th>2011-02-01</th>\n",
              "      <td>362</td>\n",
              "      <td>595</td>\n",
              "      <td>3199.41</td>\n",
              "      <td>410.77</td>\n",
              "      <td>718.0</td>\n",
              "      <td>466.0</td>\n",
              "      <td>552.0</td>\n",
              "    </tr>\n",
              "    <tr>\n",
              "      <th>2011-03-01</th>\n",
              "      <td>376</td>\n",
              "      <td>636</td>\n",
              "      <td>3281.67</td>\n",
              "      <td>414.82</td>\n",
              "      <td>614.0</td>\n",
              "      <td>442.0</td>\n",
              "      <td>574.0</td>\n",
              "    </tr>\n",
              "    <tr>\n",
              "      <th>2011-04-01</th>\n",
              "      <td>383</td>\n",
              "      <td>738</td>\n",
              "      <td>3261.65</td>\n",
              "      <td>451.04</td>\n",
              "      <td>619.0</td>\n",
              "      <td>429.0</td>\n",
              "      <td>595.0</td>\n",
              "    </tr>\n",
              "  </tbody>\n",
              "</table>\n",
              "</div>\n",
              "      <button class=\"colab-df-convert\" onclick=\"convertToInteractive('df-48a0456c-ebfd-47dc-b898-15e012d6e45c')\"\n",
              "              title=\"Convert this dataframe to an interactive table.\"\n",
              "              style=\"display:none;\">\n",
              "        \n",
              "  <svg xmlns=\"http://www.w3.org/2000/svg\" height=\"24px\"viewBox=\"0 0 24 24\"\n",
              "       width=\"24px\">\n",
              "    <path d=\"M0 0h24v24H0V0z\" fill=\"none\"/>\n",
              "    <path d=\"M18.56 5.44l.94 2.06.94-2.06 2.06-.94-2.06-.94-.94-2.06-.94 2.06-2.06.94zm-11 1L8.5 8.5l.94-2.06 2.06-.94-2.06-.94L8.5 2.5l-.94 2.06-2.06.94zm10 10l.94 2.06.94-2.06 2.06-.94-2.06-.94-.94-2.06-.94 2.06-2.06.94z\"/><path d=\"M17.41 7.96l-1.37-1.37c-.4-.4-.92-.59-1.43-.59-.52 0-1.04.2-1.43.59L10.3 9.45l-7.72 7.72c-.78.78-.78 2.05 0 2.83L4 21.41c.39.39.9.59 1.41.59.51 0 1.02-.2 1.41-.59l7.78-7.78 2.81-2.81c.8-.78.8-2.07 0-2.86zM5.41 20L4 18.59l7.72-7.72 1.47 1.35L5.41 20z\"/>\n",
              "  </svg>\n",
              "      </button>\n",
              "      \n",
              "  <style>\n",
              "    .colab-df-container {\n",
              "      display:flex;\n",
              "      flex-wrap:wrap;\n",
              "      gap: 12px;\n",
              "    }\n",
              "\n",
              "    .colab-df-convert {\n",
              "      background-color: #E8F0FE;\n",
              "      border: none;\n",
              "      border-radius: 50%;\n",
              "      cursor: pointer;\n",
              "      display: none;\n",
              "      fill: #1967D2;\n",
              "      height: 32px;\n",
              "      padding: 0 0 0 0;\n",
              "      width: 32px;\n",
              "    }\n",
              "\n",
              "    .colab-df-convert:hover {\n",
              "      background-color: #E2EBFA;\n",
              "      box-shadow: 0px 1px 2px rgba(60, 64, 67, 0.3), 0px 1px 3px 1px rgba(60, 64, 67, 0.15);\n",
              "      fill: #174EA6;\n",
              "    }\n",
              "\n",
              "    [theme=dark] .colab-df-convert {\n",
              "      background-color: #3B4455;\n",
              "      fill: #D2E3FC;\n",
              "    }\n",
              "\n",
              "    [theme=dark] .colab-df-convert:hover {\n",
              "      background-color: #434B5C;\n",
              "      box-shadow: 0px 1px 3px 1px rgba(0, 0, 0, 0.15);\n",
              "      filter: drop-shadow(0px 1px 2px rgba(0, 0, 0, 0.3));\n",
              "      fill: #FFFFFF;\n",
              "    }\n",
              "  </style>\n",
              "\n",
              "      <script>\n",
              "        const buttonEl =\n",
              "          document.querySelector('#df-48a0456c-ebfd-47dc-b898-15e012d6e45c button.colab-df-convert');\n",
              "        buttonEl.style.display =\n",
              "          google.colab.kernel.accessAllowed ? 'block' : 'none';\n",
              "\n",
              "        async function convertToInteractive(key) {\n",
              "          const element = document.querySelector('#df-48a0456c-ebfd-47dc-b898-15e012d6e45c');\n",
              "          const dataTable =\n",
              "            await google.colab.kernel.invokeFunction('convertToInteractive',\n",
              "                                                     [key], {});\n",
              "          if (!dataTable) return;\n",
              "\n",
              "          const docLinkHtml = 'Like what you see? Visit the ' +\n",
              "            '<a target=\"_blank\" href=https://colab.research.google.com/notebooks/data_table.ipynb>data table notebook</a>'\n",
              "            + ' to learn more about interactive tables.';\n",
              "          element.innerHTML = '';\n",
              "          dataTable['output_type'] = 'display_data';\n",
              "          await google.colab.output.renderOutput(dataTable, element);\n",
              "          const docLink = document.createElement('div');\n",
              "          docLink.innerHTML = docLinkHtml;\n",
              "          element.appendChild(docLink);\n",
              "        }\n",
              "      </script>\n",
              "    </div>\n",
              "  </div>\n",
              "  "
            ]
          },
          "metadata": {},
          "execution_count": 7
        }
      ],
      "source": [
        "df.head()"
      ]
    },
    {
      "cell_type": "code",
      "execution_count": 8,
      "metadata": {
        "colab": {
          "base_uri": "https://localhost:8080/",
          "height": 399
        },
        "id": "pnKg-SfY6j9g",
        "outputId": "738b5cec-4488-44e1-e5f1-852125904479"
      },
      "outputs": [
        {
          "output_type": "display_data",
          "data": {
            "text/plain": [
              "<Figure size 1800x720 with 0 Axes>"
            ]
          },
          "metadata": {}
        },
        {
          "output_type": "display_data",
          "data": {
            "text/plain": [
              "<Figure size 720x360 with 1 Axes>"
            ],
            "image/png": "[encoded data removed]"
          },
          "metadata": {}
        }
      ],
      "source": [
        "# Plot an area chart\n",
        "plt.figure(figsize=(25,10))\n",
        "ax = df.plot.area(fontsize=12);\n",
        "\n",
        "# Additional customizations\n",
        "ax.set_xlabel('date');\n",
        "ax.legend(fontsize=12);"
      ]
    },
    {
      "cell_type": "markdown",
      "metadata": {
        "id": "dPoGjuS366Cc"
      },
      "source": [
        "##**Gated Response Unit Forecasting Technique (GRU)**"
      ]
    },
    {
      "cell_type": "markdown",
      "metadata": {
        "id": "vFpT6OrD7KRv"
      },
      "source": [
        "###**Split Data into Train Test Segments**"
      ]
    },
    {
      "cell_type": "code",
      "execution_count": 9,
      "metadata": {
        "colab": {
          "base_uri": "https://localhost:8080/"
        },
        "id": "nYZL-9Sy3xpJ",
        "outputId": "99f58a8c-4363-4689-ee06-a023eb49dc2b"
      },
      "outputs": [
        {
          "output_type": "stream",
          "name": "stdout",
          "text": [
            "Train size: 99\n",
            "Test size: 25\n"
          ]
        }
      ],
      "source": [
        "train_size = int(len(df) * 0.8)\n",
        "test_size = len(df) - train_size\n",
        "train, test = df.iloc[0:train_size], df.iloc[train_size:len(df)]\n",
        "print('Train size:',len(train))\n",
        "print('Test size:', len(test))"
      ]
    },
    {
      "cell_type": "code",
      "execution_count": 10,
      "metadata": {
        "colab": {
          "base_uri": "https://localhost:8080/"
        },
        "id": "qKDDSdp_JVu6",
        "outputId": "aec833fe-9692-45d1-88a2-f77dabfd3d53"
      },
      "outputs": [
        {
          "output_type": "stream",
          "name": "stdout",
          "text": [
            "99 days of training data \n",
            " 25 days of testing data \n"
          ]
        }
      ],
      "source": [
        "split_date = '2019-02'\n",
        "df_training = df.loc[df.index <= split_date]\n",
        "df_test = df.loc[df.index > split_date]\n",
        "print(f\"{len(df_training)} days of training data \\n {len(df_test)} days of testing data \")"
      ]
    },
    {
      "cell_type": "code",
      "execution_count": 11,
      "metadata": {
        "colab": {
          "base_uri": "https://localhost:8080/"
        },
        "id": "DGrD2nxFmNSu",
        "outputId": "3681a99d-0022-4589-990e-17cad3468a4f"
      },
      "outputs": [
        {
          "output_type": "stream",
          "name": "stdout",
          "text": [
            "99 25\n"
          ]
        }
      ],
      "source": [
        "train, test = df.iloc[0:train_size], df.iloc[train_size:len(df)]\n",
        "print(len(train), len(test))"
      ]
    },
    {
      "cell_type": "code",
      "execution_count": 12,
      "metadata": {
        "colab": {
          "base_uri": "https://localhost:8080/",
          "height": 275
        },
        "id": "QvbHy-5RmPuI",
        "outputId": "c75cd17f-a2a2-4215-97b2-da47f294c5fc"
      },
      "outputs": [
        {
          "output_type": "stream",
          "name": "stdout",
          "text": [
            "(99, 7)\n"
          ]
        },
        {
          "output_type": "execute_result",
          "data": {
            "text/plain": [
              "            cpo_pri  cno_pri  oli_pri  rps_pri  pno_pri  sbo_pri  sfo_pri\n",
              "date                                                                     \n",
              "2010-12-01      323      455  3102.61   423.45    844.0    468.0    578.0\n",
              "2011-01-01      345      546  3100.45   415.85    799.0    485.0    557.0\n",
              "2011-02-01      362      595  3199.41   410.77    718.0    466.0    552.0\n",
              "2011-03-01      376      636  3281.67   414.82    614.0    442.0    574.0\n",
              "2011-04-01      383      738  3261.65   451.04    619.0    429.0    595.0"
            ],
            "text/html": [
              "\n",
              "  <div id=\"df-aa0ec316-6c89-4ac4-bf65-8c862a362ce5\">\n",
              "    <div class=\"colab-df-container\">\n",
              "      <div>\n",
              "<style scoped>\n",
              "    .dataframe tbody tr th:only-of-type {\n",
              "        vertical-align: middle;\n",
              "    }\n",
              "\n",
              "    .dataframe tbody tr th {\n",
              "        vertical-align: top;\n",
              "    }\n",
              "\n",
              "    .dataframe thead th {\n",
              "        text-align: right;\n",
              "    }\n",
              "</style>\n",
              "<table border=\"1\" class=\"dataframe\">\n",
              "  <thead>\n",
              "    <tr style=\"text-align: right;\">\n",
              "      <th></th>\n",
              "      <th>cpo_pri</th>\n",
              "      <th>cno_pri</th>\n",
              "      <th>oli_pri</th>\n",
              "      <th>rps_pri</th>\n",
              "      <th>pno_pri</th>\n",
              "      <th>sbo_pri</th>\n",
              "      <th>sfo_pri</th>\n",
              "    </tr>\n",
              "    <tr>\n",
              "      <th>date</th>\n",
              "      <th></th>\n",
              "      <th></th>\n",
              "      <th></th>\n",
              "      <th></th>\n",
              "      <th></th>\n",
              "      <th></th>\n",
              "      <th></th>\n",
              "    </tr>\n",
              "  </thead>\n",
              "  <tbody>\n",
              "    <tr>\n",
              "      <th>2010-12-01</th>\n",
              "      <td>323</td>\n",
              "      <td>455</td>\n",
              "      <td>3102.61</td>\n",
              "      <td>423.45</td>\n",
              "      <td>844.0</td>\n",
              "      <td>468.0</td>\n",
              "      <td>578.0</td>\n",
              "    </tr>\n",
              "    <tr>\n",
              "      <th>2011-01-01</th>\n",
              "      <td>345</td>\n",
              "      <td>546</td>\n",
              "      <td>3100.45</td>\n",
              "      <td>415.85</td>\n",
              "      <td>799.0</td>\n",
              "      <td>485.0</td>\n",
              "      <td>557.0</td>\n",
              "    </tr>\n",
              "    <tr>\n",
              "      <th>2011-02-01</th>\n",
              "      <td>362</td>\n",
              "      <td>595</td>\n",
              "      <td>3199.41</td>\n",
              "      <td>410.77</td>\n",
              "      <td>718.0</td>\n",
              "      <td>466.0</td>\n",
              "      <td>552.0</td>\n",
              "    </tr>\n",
              "    <tr>\n",
              "      <th>2011-03-01</th>\n",
              "      <td>376</td>\n",
              "      <td>636</td>\n",
              "      <td>3281.67</td>\n",
              "      <td>414.82</td>\n",
              "      <td>614.0</td>\n",
              "      <td>442.0</td>\n",
              "      <td>574.0</td>\n",
              "    </tr>\n",
              "    <tr>\n",
              "      <th>2011-04-01</th>\n",
              "      <td>383</td>\n",
              "      <td>738</td>\n",
              "      <td>3261.65</td>\n",
              "      <td>451.04</td>\n",
              "      <td>619.0</td>\n",
              "      <td>429.0</td>\n",
              "      <td>595.0</td>\n",
              "    </tr>\n",
              "  </tbody>\n",
              "</table>\n",
              "</div>\n",
              "      <button class=\"colab-df-convert\" onclick=\"convertToInteractive('df-aa0ec316-6c89-4ac4-bf65-8c862a362ce5')\"\n",
              "              title=\"Convert this dataframe to an interactive table.\"\n",
              "              style=\"display:none;\">\n",
              "        \n",
              "  <svg xmlns=\"http://www.w3.org/2000/svg\" height=\"24px\"viewBox=\"0 0 24 24\"\n",
              "       width=\"24px\">\n",
              "    <path d=\"M0 0h24v24H0V0z\" fill=\"none\"/>\n",
              "    <path d=\"M18.56 5.44l.94 2.06.94-2.06 2.06-.94-2.06-.94-.94-2.06-.94 2.06-2.06.94zm-11 1L8.5 8.5l.94-2.06 2.06-.94-2.06-.94L8.5 2.5l-.94 2.06-2.06.94zm10 10l.94 2.06.94-2.06 2.06-.94-2.06-.94-.94-2.06-.94 2.06-2.06.94z\"/><path d=\"M17.41 7.96l-1.37-1.37c-.4-.4-.92-.59-1.43-.59-.52 0-1.04.2-1.43.59L10.3 9.45l-7.72 7.72c-.78.78-.78 2.05 0 2.83L4 21.41c.39.39.9.59 1.41.59.51 0 1.02-.2 1.41-.59l7.78-7.78 2.81-2.81c.8-.78.8-2.07 0-2.86zM5.41 20L4 18.59l7.72-7.72 1.47 1.35L5.41 20z\"/>\n",
              "  </svg>\n",
              "      </button>\n",
              "      \n",
              "  <style>\n",
              "    .colab-df-container {\n",
              "      display:flex;\n",
              "      flex-wrap:wrap;\n",
              "      gap: 12px;\n",
              "    }\n",
              "\n",
              "    .colab-df-convert {\n",
              "      background-color: #E8F0FE;\n",
              "      border: none;\n",
              "      border-radius: 50%;\n",
              "      cursor: pointer;\n",
              "      display: none;\n",
              "      fill: #1967D2;\n",
              "      height: 32px;\n",
              "      padding: 0 0 0 0;\n",
              "      width: 32px;\n",
              "    }\n",
              "\n",
              "    .colab-df-convert:hover {\n",
              "      background-color: #E2EBFA;\n",
              "      box-shadow: 0px 1px 2px rgba(60, 64, 67, 0.3), 0px 1px 3px 1px rgba(60, 64, 67, 0.15);\n",
              "      fill: #174EA6;\n",
              "    }\n",
              "\n",
              "    [theme=dark] .colab-df-convert {\n",
              "      background-color: #3B4455;\n",
              "      fill: #D2E3FC;\n",
              "    }\n",
              "\n",
              "    [theme=dark] .colab-df-convert:hover {\n",
              "      background-color: #434B5C;\n",
              "      box-shadow: 0px 1px 3px 1px rgba(0, 0, 0, 0.15);\n",
              "      filter: drop-shadow(0px 1px 2px rgba(0, 0, 0, 0.3));\n",
              "      fill: #FFFFFF;\n",
              "    }\n",
              "  </style>\n",
              "\n",
              "      <script>\n",
              "        const buttonEl =\n",
              "          document.querySelector('#df-aa0ec316-6c89-4ac4-bf65-8c862a362ce5 button.colab-df-convert');\n",
              "        buttonEl.style.display =\n",
              "          google.colab.kernel.accessAllowed ? 'block' : 'none';\n",
              "\n",
              "        async function convertToInteractive(key) {\n",
              "          const element = document.querySelector('#df-aa0ec316-6c89-4ac4-bf65-8c862a362ce5');\n",
              "          const dataTable =\n",
              "            await google.colab.kernel.invokeFunction('convertToInteractive',\n",
              "                                                     [key], {});\n",
              "          if (!dataTable) return;\n",
              "\n",
              "          const docLinkHtml = 'Like what you see? Visit the ' +\n",
              "            '<a target=\"_blank\" href=https://colab.research.google.com/notebooks/data_table.ipynb>data table notebook</a>'\n",
              "            + ' to learn more about interactive tables.';\n",
              "          element.innerHTML = '';\n",
              "          dataTable['output_type'] = 'display_data';\n",
              "          await google.colab.output.renderOutput(dataTable, element);\n",
              "          const docLink = document.createElement('div');\n",
              "          docLink.innerHTML = docLinkHtml;\n",
              "          element.appendChild(docLink);\n",
              "        }\n",
              "      </script>\n",
              "    </div>\n",
              "  </div>\n",
              "  "
            ]
          },
          "metadata": {},
          "execution_count": 12
        }
      ],
      "source": [
        "print(train.shape)\n",
        "train.head()"
      ]
    },
    {
      "cell_type": "markdown",
      "metadata": {
        "id": "Z5F4OyT2mwRs"
      },
      "source": [
        "###Rescaling Training Data"
      ]
    },
    {
      "cell_type": "code",
      "execution_count": 13,
      "metadata": {
        "colab": {
          "base_uri": "https://localhost:8080/",
          "height": 258
        },
        "id": "Lg-AQuNBmvZK",
        "outputId": "561831f8-f8b2-4014-e56e-4fdba3f0078c"
      },
      "outputs": [
        {
          "output_type": "execute_result",
          "data": {
            "text/plain": [
              "            cpo_pri   cno_pri   oli_pri   rps_pri   pno_pri   sbo_pri  \\\n",
              "date                                                                    \n",
              "2010-12-01      323  0.112288  0.140918  0.010736  0.528090  0.253193   \n",
              "2011-01-01      345  0.305085  0.140327  0.004301  0.443820  0.306536   \n",
              "2011-02-01      362  0.408898  0.167408  0.000000  0.292135  0.246917   \n",
              "2011-03-01      376  0.495763  0.189919  0.003429  0.097378  0.171609   \n",
              "2011-04-01      383  0.711864  0.184440  0.034095  0.106742  0.130817   \n",
              "\n",
              "             sfo_pri  \n",
              "date                  \n",
              "2010-12-01  0.023302  \n",
              "2011-01-01  0.009321  \n",
              "2011-02-01  0.005992  \n",
              "2011-03-01  0.020639  \n",
              "2011-04-01  0.034621  "
            ],
            "text/html": [
              "\n",
              "  <div id=\"df-d142c76f-6d88-41d3-9478-aefc5a1c4dcf\">\n",
              "    <div class=\"colab-df-container\">\n",
              "      <div>\n",
              "<style scoped>\n",
              "    .dataframe tbody tr th:only-of-type {\n",
              "        vertical-align: middle;\n",
              "    }\n",
              "\n",
              "    .dataframe tbody tr th {\n",
              "        vertical-align: top;\n",
              "    }\n",
              "\n",
              "    .dataframe thead th {\n",
              "        text-align: right;\n",
              "    }\n",
              "</style>\n",
              "<table border=\"1\" class=\"dataframe\">\n",
              "  <thead>\n",
              "    <tr style=\"text-align: right;\">\n",
              "      <th></th>\n",
              "      <th>cpo_pri</th>\n",
              "      <th>cno_pri</th>\n",
              "      <th>oli_pri</th>\n",
              "      <th>rps_pri</th>\n",
              "      <th>pno_pri</th>\n",
              "      <th>sbo_pri</th>\n",
              "      <th>sfo_pri</th>\n",
              "    </tr>\n",
              "    <tr>\n",
              "      <th>date</th>\n",
              "      <th></th>\n",
              "      <th></th>\n",
              "      <th></th>\n",
              "      <th></th>\n",
              "      <th></th>\n",
              "      <th></th>\n",
              "      <th></th>\n",
              "    </tr>\n",
              "  </thead>\n",
              "  <tbody>\n",
              "    <tr>\n",
              "      <th>2010-12-01</th>\n",
              "      <td>323</td>\n",
              "      <td>0.112288</td>\n",
              "      <td>0.140918</td>\n",
              "      <td>0.010736</td>\n",
              "      <td>0.528090</td>\n",
              "      <td>0.253193</td>\n",
              "      <td>0.023302</td>\n",
              "    </tr>\n",
              "    <tr>\n",
              "      <th>2011-01-01</th>\n",
              "      <td>345</td>\n",
              "      <td>0.305085</td>\n",
              "      <td>0.140327</td>\n",
              "      <td>0.004301</td>\n",
              "      <td>0.443820</td>\n",
              "      <td>0.306536</td>\n",
              "      <td>0.009321</td>\n",
              "    </tr>\n",
              "    <tr>\n",
              "      <th>2011-02-01</th>\n",
              "      <td>362</td>\n",
              "      <td>0.408898</td>\n",
              "      <td>0.167408</td>\n",
              "      <td>0.000000</td>\n",
              "      <td>0.292135</td>\n",
              "      <td>0.246917</td>\n",
              "      <td>0.005992</td>\n",
              "    </tr>\n",
              "    <tr>\n",
              "      <th>2011-03-01</th>\n",
              "      <td>376</td>\n",
              "      <td>0.495763</td>\n",
              "      <td>0.189919</td>\n",
              "      <td>0.003429</td>\n",
              "      <td>0.097378</td>\n",
              "      <td>0.171609</td>\n",
              "      <td>0.020639</td>\n",
              "    </tr>\n",
              "    <tr>\n",
              "      <th>2011-04-01</th>\n",
              "      <td>383</td>\n",
              "      <td>0.711864</td>\n",
              "      <td>0.184440</td>\n",
              "      <td>0.034095</td>\n",
              "      <td>0.106742</td>\n",
              "      <td>0.130817</td>\n",
              "      <td>0.034621</td>\n",
              "    </tr>\n",
              "  </tbody>\n",
              "</table>\n",
              "</div>\n",
              "      <button class=\"colab-df-convert\" onclick=\"convertToInteractive('df-d142c76f-6d88-41d3-9478-aefc5a1c4dcf')\"\n",
              "              title=\"Convert this dataframe to an interactive table.\"\n",
              "              style=\"display:none;\">\n",
              "        \n",
              "  <svg xmlns=\"http://www.w3.org/2000/svg\" height=\"24px\"viewBox=\"0 0 24 24\"\n",
              "       width=\"24px\">\n",
              "    <path d=\"M0 0h24v24H0V0z\" fill=\"none\"/>\n",
              "    <path d=\"M18.56 5.44l.94 2.06.94-2.06 2.06-.94-2.06-.94-.94-2.06-.94 2.06-2.06.94zm-11 1L8.5 8.5l.94-2.06 2.06-.94-2.06-.94L8.5 2.5l-.94 2.06-2.06.94zm10 10l.94 2.06.94-2.06 2.06-.94-2.06-.94-.94-2.06-.94 2.06-2.06.94z\"/><path d=\"M17.41 7.96l-1.37-1.37c-.4-.4-.92-.59-1.43-.59-.52 0-1.04.2-1.43.59L10.3 9.45l-7.72 7.72c-.78.78-.78 2.05 0 2.83L4 21.41c.39.39.9.59 1.41.59.51 0 1.02-.2 1.41-.59l7.78-7.78 2.81-2.81c.8-.78.8-2.07 0-2.86zM5.41 20L4 18.59l7.72-7.72 1.47 1.35L5.41 20z\"/>\n",
              "  </svg>\n",
              "      </button>\n",
              "      \n",
              "  <style>\n",
              "    .colab-df-container {\n",
              "      display:flex;\n",
              "      flex-wrap:wrap;\n",
              "      gap: 12px;\n",
              "    }\n",
              "\n",
              "    .colab-df-convert {\n",
              "      background-color: #E8F0FE;\n",
              "      border: none;\n",
              "      border-radius: 50%;\n",
              "      cursor: pointer;\n",
              "      display: none;\n",
              "      fill: #1967D2;\n",
              "      height: 32px;\n",
              "      padding: 0 0 0 0;\n",
              "      width: 32px;\n",
              "    }\n",
              "\n",
              "    .colab-df-convert:hover {\n",
              "      background-color: #E2EBFA;\n",
              "      box-shadow: 0px 1px 2px rgba(60, 64, 67, 0.3), 0px 1px 3px 1px rgba(60, 64, 67, 0.15);\n",
              "      fill: #174EA6;\n",
              "    }\n",
              "\n",
              "    [theme=dark] .colab-df-convert {\n",
              "      background-color: #3B4455;\n",
              "      fill: #D2E3FC;\n",
              "    }\n",
              "\n",
              "    [theme=dark] .colab-df-convert:hover {\n",
              "      background-color: #434B5C;\n",
              "      box-shadow: 0px 1px 3px 1px rgba(0, 0, 0, 0.15);\n",
              "      filter: drop-shadow(0px 1px 2px rgba(0, 0, 0, 0.3));\n",
              "      fill: #FFFFFF;\n",
              "    }\n",
              "  </style>\n",
              "\n",
              "      <script>\n",
              "        const buttonEl =\n",
              "          document.querySelector('#df-d142c76f-6d88-41d3-9478-aefc5a1c4dcf button.colab-df-convert');\n",
              "        buttonEl.style.display =\n",
              "          google.colab.kernel.accessAllowed ? 'block' : 'none';\n",
              "\n",
              "        async function convertToInteractive(key) {\n",
              "          const element = document.querySelector('#df-d142c76f-6d88-41d3-9478-aefc5a1c4dcf');\n",
              "          const dataTable =\n",
              "            await google.colab.kernel.invokeFunction('convertToInteractive',\n",
              "                                                     [key], {});\n",
              "          if (!dataTable) return;\n",
              "\n",
              "          const docLinkHtml = 'Like what you see? Visit the ' +\n",
              "            '<a target=\"_blank\" href=https://colab.research.google.com/notebooks/data_table.ipynb>data table notebook</a>'\n",
              "            + ' to learn more about interactive tables.';\n",
              "          element.innerHTML = '';\n",
              "          dataTable['output_type'] = 'display_data';\n",
              "          await google.colab.output.renderOutput(dataTable, element);\n",
              "          const docLink = document.createElement('div');\n",
              "          docLink.innerHTML = docLinkHtml;\n",
              "          element.appendChild(docLink);\n",
              "        }\n",
              "      </script>\n",
              "    </div>\n",
              "  </div>\n",
              "  "
            ]
          },
          "metadata": {},
          "execution_count": 13
        }
      ],
      "source": [
        "f_transformer = MinMaxScaler()\n",
        "feature_columns = ['cno_pri', 'oli_pri', 'rps_pri', 'pno_pri', 'sbo_pri', 'sfo_pri']\n",
        "f_transformer = f_transformer.fit(train[feature_columns].to_numpy())\n",
        "train.loc[:, feature_columns] = f_transformer.transform(train[feature_columns].to_numpy())\n",
        "train.head()"
      ]
    },
    {
      "cell_type": "code",
      "execution_count": 14,
      "metadata": {
        "colab": {
          "base_uri": "https://localhost:8080/"
        },
        "id": "XNkE4gN9nJLt",
        "outputId": "a38e9a69-103d-4459-8d06-a439b4a556dd"
      },
      "outputs": [
        {
          "output_type": "execute_result",
          "data": {
            "text/plain": [
              "date\n",
              "2010-12-01    0.0100\n",
              "2011-01-01    0.0650\n",
              "2011-02-01    0.1075\n",
              "2011-03-01    0.1425\n",
              "2011-04-01    0.1600\n",
              "Name: cpo_pri, dtype: float64"
            ]
          },
          "metadata": {},
          "execution_count": 14
        }
      ],
      "source": [
        "cpo_pri_transformer = MinMaxScaler()\n",
        "cpo_pri_transformer = cpo_pri_transformer.fit(train[['cpo_pri']])\n",
        "train['cpo_pri'] = cpo_pri_transformer.transform(train[['cpo_pri']])\n",
        "train['cpo_pri'].head()"
      ]
    },
    {
      "cell_type": "code",
      "execution_count": 15,
      "metadata": {
        "colab": {
          "base_uri": "https://localhost:8080/",
          "height": 258
        },
        "id": "aouQuJG5n6k8",
        "outputId": "40af7e58-98df-407f-d590-39e0236a6425"
      },
      "outputs": [
        {
          "output_type": "execute_result",
          "data": {
            "text/plain": [
              "            cpo_pri   cno_pri   oli_pri   rps_pri   pno_pri   sbo_pri  \\\n",
              "date                                                                    \n",
              "2019-03-01      354  0.637712  0.194855  0.382454  0.381292 -0.039662   \n",
              "2019-04-01      348  0.533898  0.264388  0.393951  0.213633 -0.054975   \n",
              "2019-05-01      332  0.400424  0.246417  0.453802  0.235262 -0.092159   \n",
              "2019-06-01      349  0.317797  0.234308  0.509834  0.320749 -0.074743   \n",
              "2019-07-01      372  0.313559  0.223422  0.526454  0.426610 -0.066114   \n",
              "\n",
              "             sfo_pri  \n",
              "date                  \n",
              "2019-03-01  0.493342  \n",
              "2019-04-01  0.597870  \n",
              "2019-05-01  0.606525  \n",
              "2019-06-01  0.631824  \n",
              "2019-07-01  0.773462  "
            ],
            "text/html": [
              "\n",
              "  <div id=\"df-8e94b988-1cce-4fd5-803a-93b8e7b4842c\">\n",
              "    <div class=\"colab-df-container\">\n",
              "      <div>\n",
              "<style scoped>\n",
              "    .dataframe tbody tr th:only-of-type {\n",
              "        vertical-align: middle;\n",
              "    }\n",
              "\n",
              "    .dataframe tbody tr th {\n",
              "        vertical-align: top;\n",
              "    }\n",
              "\n",
              "    .dataframe thead th {\n",
              "        text-align: right;\n",
              "    }\n",
              "</style>\n",
              "<table border=\"1\" class=\"dataframe\">\n",
              "  <thead>\n",
              "    <tr style=\"text-align: right;\">\n",
              "      <th></th>\n",
              "      <th>cpo_pri</th>\n",
              "      <th>cno_pri</th>\n",
              "      <th>oli_pri</th>\n",
              "      <th>rps_pri</th>\n",
              "      <th>pno_pri</th>\n",
              "      <th>sbo_pri</th>\n",
              "      <th>sfo_pri</th>\n",
              "    </tr>\n",
              "    <tr>\n",
              "      <th>date</th>\n",
              "      <th></th>\n",
              "      <th></th>\n",
              "      <th></th>\n",
              "      <th></th>\n",
              "      <th></th>\n",
              "      <th></th>\n",
              "      <th></th>\n",
              "    </tr>\n",
              "  </thead>\n",
              "  <tbody>\n",
              "    <tr>\n",
              "      <th>2019-03-01</th>\n",
              "      <td>354</td>\n",
              "      <td>0.637712</td>\n",
              "      <td>0.194855</td>\n",
              "      <td>0.382454</td>\n",
              "      <td>0.381292</td>\n",
              "      <td>-0.039662</td>\n",
              "      <td>0.493342</td>\n",
              "    </tr>\n",
              "    <tr>\n",
              "      <th>2019-04-01</th>\n",
              "      <td>348</td>\n",
              "      <td>0.533898</td>\n",
              "      <td>0.264388</td>\n",
              "      <td>0.393951</td>\n",
              "      <td>0.213633</td>\n",
              "      <td>-0.054975</td>\n",
              "      <td>0.597870</td>\n",
              "    </tr>\n",
              "    <tr>\n",
              "      <th>2019-05-01</th>\n",
              "      <td>332</td>\n",
              "      <td>0.400424</td>\n",
              "      <td>0.246417</td>\n",
              "      <td>0.453802</td>\n",
              "      <td>0.235262</td>\n",
              "      <td>-0.092159</td>\n",
              "      <td>0.606525</td>\n",
              "    </tr>\n",
              "    <tr>\n",
              "      <th>2019-06-01</th>\n",
              "      <td>349</td>\n",
              "      <td>0.317797</td>\n",
              "      <td>0.234308</td>\n",
              "      <td>0.509834</td>\n",
              "      <td>0.320749</td>\n",
              "      <td>-0.074743</td>\n",
              "      <td>0.631824</td>\n",
              "    </tr>\n",
              "    <tr>\n",
              "      <th>2019-07-01</th>\n",
              "      <td>372</td>\n",
              "      <td>0.313559</td>\n",
              "      <td>0.223422</td>\n",
              "      <td>0.526454</td>\n",
              "      <td>0.426610</td>\n",
              "      <td>-0.066114</td>\n",
              "      <td>0.773462</td>\n",
              "    </tr>\n",
              "  </tbody>\n",
              "</table>\n",
              "</div>\n",
              "      <button class=\"colab-df-convert\" onclick=\"convertToInteractive('df-8e94b988-1cce-4fd5-803a-93b8e7b4842c')\"\n",
              "              title=\"Convert this dataframe to an interactive table.\"\n",
              "              style=\"display:none;\">\n",
              "        \n",
              "  <svg xmlns=\"http://www.w3.org/2000/svg\" height=\"24px\"viewBox=\"0 0 24 24\"\n",
              "       width=\"24px\">\n",
              "    <path d=\"M0 0h24v24H0V0z\" fill=\"none\"/>\n",
              "    <path d=\"M18.56 5.44l.94 2.06.94-2.06 2.06-.94-2.06-.94-.94-2.06-.94 2.06-2.06.94zm-11 1L8.5 8.5l.94-2.06 2.06-.94-2.06-.94L8.5 2.5l-.94 2.06-2.06.94zm10 10l.94 2.06.94-2.06 2.06-.94-2.06-.94-.94-2.06-.94 2.06-2.06.94z\"/><path d=\"M17.41 7.96l-1.37-1.37c-.4-.4-.92-.59-1.43-.59-.52 0-1.04.2-1.43.59L10.3 9.45l-7.72 7.72c-.78.78-.78 2.05 0 2.83L4 21.41c.39.39.9.59 1.41.59.51 0 1.02-.2 1.41-.59l7.78-7.78 2.81-2.81c.8-.78.8-2.07 0-2.86zM5.41 20L4 18.59l7.72-7.72 1.47 1.35L5.41 20z\"/>\n",
              "  </svg>\n",
              "      </button>\n",
              "      \n",
              "  <style>\n",
              "    .colab-df-container {\n",
              "      display:flex;\n",
              "      flex-wrap:wrap;\n",
              "      gap: 12px;\n",
              "    }\n",
              "\n",
              "    .colab-df-convert {\n",
              "      background-color: #E8F0FE;\n",
              "      border: none;\n",
              "      border-radius: 50%;\n",
              "      cursor: pointer;\n",
              "      display: none;\n",
              "      fill: #1967D2;\n",
              "      height: 32px;\n",
              "      padding: 0 0 0 0;\n",
              "      width: 32px;\n",
              "    }\n",
              "\n",
              "    .colab-df-convert:hover {\n",
              "      background-color: #E2EBFA;\n",
              "      box-shadow: 0px 1px 2px rgba(60, 64, 67, 0.3), 0px 1px 3px 1px rgba(60, 64, 67, 0.15);\n",
              "      fill: #174EA6;\n",
              "    }\n",
              "\n",
              "    [theme=dark] .colab-df-convert {\n",
              "      background-color: #3B4455;\n",
              "      fill: #D2E3FC;\n",
              "    }\n",
              "\n",
              "    [theme=dark] .colab-df-convert:hover {\n",
              "      background-color: #434B5C;\n",
              "      box-shadow: 0px 1px 3px 1px rgba(0, 0, 0, 0.15);\n",
              "      filter: drop-shadow(0px 1px 2px rgba(0, 0, 0, 0.3));\n",
              "      fill: #FFFFFF;\n",
              "    }\n",
              "  </style>\n",
              "\n",
              "      <script>\n",
              "        const buttonEl =\n",
              "          document.querySelector('#df-8e94b988-1cce-4fd5-803a-93b8e7b4842c button.colab-df-convert');\n",
              "        buttonEl.style.display =\n",
              "          google.colab.kernel.accessAllowed ? 'block' : 'none';\n",
              "\n",
              "        async function convertToInteractive(key) {\n",
              "          const element = document.querySelector('#df-8e94b988-1cce-4fd5-803a-93b8e7b4842c');\n",
              "          const dataTable =\n",
              "            await google.colab.kernel.invokeFunction('convertToInteractive',\n",
              "                                                     [key], {});\n",
              "          if (!dataTable) return;\n",
              "\n",
              "          const docLinkHtml = 'Like what you see? Visit the ' +\n",
              "            '<a target=\"_blank\" href=https://colab.research.google.com/notebooks/data_table.ipynb>data table notebook</a>'\n",
              "            + ' to learn more about interactive tables.';\n",
              "          element.innerHTML = '';\n",
              "          dataTable['output_type'] = 'display_data';\n",
              "          await google.colab.output.renderOutput(dataTable, element);\n",
              "          const docLink = document.createElement('div');\n",
              "          docLink.innerHTML = docLinkHtml;\n",
              "          element.appendChild(docLink);\n",
              "        }\n",
              "      </script>\n",
              "    </div>\n",
              "  </div>\n",
              "  "
            ]
          },
          "metadata": {},
          "execution_count": 15
        }
      ],
      "source": [
        "test.loc[:, feature_columns] = f_transformer.transform(test[feature_columns].to_numpy())\n",
        "test.head()"
      ]
    },
    {
      "cell_type": "code",
      "execution_count": 16,
      "metadata": {
        "colab": {
          "base_uri": "https://localhost:8080/"
        },
        "id": "GXgFSrz3n6o5",
        "outputId": "24937778-35a7-4bf8-d236-806fdb233880"
      },
      "outputs": [
        {
          "output_type": "execute_result",
          "data": {
            "text/plain": [
              "date\n",
              "2019-03-01    0.0875\n",
              "2019-04-01    0.0725\n",
              "2019-05-01    0.0325\n",
              "2019-06-01    0.0750\n",
              "2019-07-01    0.1325\n",
              "Name: cpo_pri, dtype: float64"
            ]
          },
          "metadata": {},
          "execution_count": 16
        }
      ],
      "source": [
        "test['cpo_pri'] = cpo_pri_transformer.transform(test[['cpo_pri']])\n",
        "test['cpo_pri'].head()"
      ]
    },
    {
      "cell_type": "markdown",
      "metadata": {
        "id": "p_2s3AO-ohCD"
      },
      "source": [
        "###Create X_train, y_train, X_test and y_test"
      ]
    },
    {
      "cell_type": "code",
      "execution_count": 17,
      "metadata": {
        "colab": {
          "base_uri": "https://localhost:8080/"
        },
        "id": "fGTyTKiYoJIb",
        "outputId": "fa72fa5d-c0a9-4b1a-fbaf-e502cd97f782"
      },
      "outputs": [
        {
          "output_type": "stream",
          "name": "stdout",
          "text": [
            "(96, 3, 7) (96,)\n"
          ]
        }
      ],
      "source": [
        "def createDataset(X, y, time_steps):\n",
        "    Xs, ys = [], []\n",
        "    for i in range(len(X) - time_steps):\n",
        "        data = X.iloc[i:(i + time_steps)].values\n",
        "        Xs.append(data)        \n",
        "        ys.append(y.iloc[i + time_steps])\n",
        "        \n",
        "    return np.array(Xs), np.array(ys)\n",
        "\n",
        "time_steps = 3\n",
        "X_train, y_train = createDataset(train, train.cpo_pri, time_steps)\n",
        "X_test, y_test = createDataset(test, test.cpo_pri, time_steps)\n",
        "print(X_train.shape, y_train.shape)"
      ]
    },
    {
      "cell_type": "code",
      "execution_count": 19,
      "metadata": {
        "colab": {
          "base_uri": "https://localhost:8080/"
        },
        "id": "EkQPUIAQOvX9",
        "outputId": "521711c7-c702-40a4-b297-879c39179a91"
      },
      "outputs": [
        {
          "output_type": "stream",
          "name": "stdout",
          "text": [
            "Epoch 1/100\n",
            "2/2 [==============================] - 9s 2s/step - loss: 0.2224 - mse: 0.2224 - val_loss: 0.2435 - val_mse: 0.2435\n",
            "Epoch 2/100\n",
            "2/2 [==============================] - 0s 73ms/step - loss: 0.1289 - mse: 0.1289 - val_loss: 0.2187 - val_mse: 0.2187\n",
            "Epoch 3/100\n",
            "2/2 [==============================] - 0s 74ms/step - loss: 0.0950 - mse: 0.0950 - val_loss: 0.0778 - val_mse: 0.0778\n",
            "Epoch 4/100\n",
            "2/2 [==============================] - 0s 90ms/step - loss: 0.0410 - mse: 0.0410 - val_loss: 0.0689 - val_mse: 0.0689\n",
            "Epoch 5/100\n",
            "2/2 [==============================] - 0s 79ms/step - loss: 0.0444 - mse: 0.0444 - val_loss: 0.1116 - val_mse: 0.1116\n",
            "Epoch 6/100\n",
            "2/2 [==============================] - 0s 63ms/step - loss: 0.0532 - mse: 0.0532 - val_loss: 0.0765 - val_mse: 0.0765\n",
            "Epoch 7/100\n",
            "2/2 [==============================] - 0s 63ms/step - loss: 0.0326 - mse: 0.0326 - val_loss: 0.0410 - val_mse: 0.0410\n",
            "Epoch 8/100\n",
            "2/2 [==============================] - 0s 50ms/step - loss: 0.0379 - mse: 0.0379 - val_loss: 0.0374 - val_mse: 0.0374\n",
            "Epoch 9/100\n",
            "2/2 [==============================] - 0s 40ms/step - loss: 0.0197 - mse: 0.0197 - val_loss: 0.0670 - val_mse: 0.0670\n",
            "Epoch 10/100\n",
            "2/2 [==============================] - 0s 60ms/step - loss: 0.0279 - mse: 0.0279 - val_loss: 0.0333 - val_mse: 0.0333\n",
            "Epoch 11/100\n",
            "2/2 [==============================] - 0s 42ms/step - loss: 0.0173 - mse: 0.0173 - val_loss: 0.0169 - val_mse: 0.0169\n",
            "Epoch 12/100\n",
            "2/2 [==============================] - 0s 46ms/step - loss: 0.0179 - mse: 0.0179 - val_loss: 0.0208 - val_mse: 0.0208\n",
            "Epoch 13/100\n",
            "2/2 [==============================] - 0s 40ms/step - loss: 0.0159 - mse: 0.0159 - val_loss: 0.0294 - val_mse: 0.0294\n",
            "Epoch 14/100\n",
            "2/2 [==============================] - 0s 37ms/step - loss: 0.0208 - mse: 0.0208 - val_loss: 0.0141 - val_mse: 0.0141\n",
            "Epoch 15/100\n",
            "2/2 [==============================] - 0s 39ms/step - loss: 0.0127 - mse: 0.0127 - val_loss: 0.0144 - val_mse: 0.0144\n",
            "Epoch 16/100\n",
            "2/2 [==============================] - 0s 39ms/step - loss: 0.0190 - mse: 0.0190 - val_loss: 0.0179 - val_mse: 0.0179\n",
            "Epoch 17/100\n",
            "2/2 [==============================] - 0s 44ms/step - loss: 0.0119 - mse: 0.0119 - val_loss: 0.0236 - val_mse: 0.0236\n",
            "Epoch 18/100\n",
            "2/2 [==============================] - 0s 39ms/step - loss: 0.0125 - mse: 0.0125 - val_loss: 0.0203 - val_mse: 0.0203\n",
            "Epoch 19/100\n",
            "2/2 [==============================] - 0s 50ms/step - loss: 0.0129 - mse: 0.0129 - val_loss: 0.0212 - val_mse: 0.0212\n",
            "Epoch 20/100\n",
            "2/2 [==============================] - 0s 45ms/step - loss: 0.0128 - mse: 0.0128 - val_loss: 0.0208 - val_mse: 0.0208\n",
            "Epoch 21/100\n",
            "2/2 [==============================] - 0s 52ms/step - loss: 0.0117 - mse: 0.0117 - val_loss: 0.0237 - val_mse: 0.0237\n",
            "Epoch 22/100\n",
            "2/2 [==============================] - 0s 41ms/step - loss: 0.0114 - mse: 0.0114 - val_loss: 0.0210 - val_mse: 0.0210\n",
            "Epoch 23/100\n",
            "2/2 [==============================] - 0s 66ms/step - loss: 0.0104 - mse: 0.0104 - val_loss: 0.0194 - val_mse: 0.0194\n",
            "Epoch 24/100\n",
            "2/2 [==============================] - 0s 43ms/step - loss: 0.0140 - mse: 0.0140 - val_loss: 0.0221 - val_mse: 0.0221\n",
            "Epoch 25/100\n",
            "2/2 [==============================] - 0s 55ms/step - loss: 0.0146 - mse: 0.0146 - val_loss: 0.0161 - val_mse: 0.0161\n",
            "Epoch 26/100\n",
            "2/2 [==============================] - 0s 38ms/step - loss: 0.0135 - mse: 0.0135 - val_loss: 0.0165 - val_mse: 0.0165\n",
            "Epoch 27/100\n",
            "2/2 [==============================] - 0s 40ms/step - loss: 0.0134 - mse: 0.0134 - val_loss: 0.0223 - val_mse: 0.0223\n",
            "Epoch 28/100\n",
            "2/2 [==============================] - 0s 36ms/step - loss: 0.0113 - mse: 0.0113 - val_loss: 0.0221 - val_mse: 0.0221\n",
            "Epoch 29/100\n",
            "2/2 [==============================] - 0s 49ms/step - loss: 0.0154 - mse: 0.0154 - val_loss: 0.0182 - val_mse: 0.0182\n",
            "Epoch 30/100\n",
            "2/2 [==============================] - 0s 39ms/step - loss: 0.0148 - mse: 0.0148 - val_loss: 0.0177 - val_mse: 0.0177\n",
            "Epoch 31/100\n",
            "2/2 [==============================] - 0s 46ms/step - loss: 0.0103 - mse: 0.0103 - val_loss: 0.0207 - val_mse: 0.0207\n",
            "Epoch 32/100\n",
            "2/2 [==============================] - 0s 41ms/step - loss: 0.0112 - mse: 0.0112 - val_loss: 0.0200 - val_mse: 0.0200\n",
            "Epoch 33/100\n",
            "2/2 [==============================] - 0s 59ms/step - loss: 0.0114 - mse: 0.0114 - val_loss: 0.0177 - val_mse: 0.0177\n",
            "Epoch 34/100\n",
            "2/2 [==============================] - 0s 41ms/step - loss: 0.0111 - mse: 0.0111 - val_loss: 0.0180 - val_mse: 0.0180\n",
            "Epoch 35/100\n",
            "2/2 [==============================] - 0s 43ms/step - loss: 0.0145 - mse: 0.0145 - val_loss: 0.0224 - val_mse: 0.0224\n",
            "Epoch 36/100\n",
            "2/2 [==============================] - 0s 43ms/step - loss: 0.0101 - mse: 0.0101 - val_loss: 0.0280 - val_mse: 0.0280\n",
            "Epoch 37/100\n",
            "2/2 [==============================] - 0s 39ms/step - loss: 0.0112 - mse: 0.0112 - val_loss: 0.0221 - val_mse: 0.0221\n",
            "Epoch 38/100\n",
            "2/2 [==============================] - 0s 47ms/step - loss: 0.0127 - mse: 0.0127 - val_loss: 0.0201 - val_mse: 0.0201\n",
            "Epoch 39/100\n",
            "2/2 [==============================] - 0s 65ms/step - loss: 0.0112 - mse: 0.0112 - val_loss: 0.0197 - val_mse: 0.0197\n",
            "Epoch 40/100\n",
            "2/2 [==============================] - 0s 58ms/step - loss: 0.0107 - mse: 0.0107 - val_loss: 0.0199 - val_mse: 0.0199\n",
            "Epoch 41/100\n",
            "2/2 [==============================] - 0s 40ms/step - loss: 0.0079 - mse: 0.0079 - val_loss: 0.0262 - val_mse: 0.0262\n",
            "Epoch 42/100\n",
            "2/2 [==============================] - 0s 38ms/step - loss: 0.0139 - mse: 0.0139 - val_loss: 0.0201 - val_mse: 0.0201\n",
            "Epoch 43/100\n",
            "2/2 [==============================] - 0s 36ms/step - loss: 0.0097 - mse: 0.0097 - val_loss: 0.0163 - val_mse: 0.0163\n",
            "Epoch 44/100\n",
            "2/2 [==============================] - 0s 45ms/step - loss: 0.0108 - mse: 0.0108 - val_loss: 0.0178 - val_mse: 0.0178\n",
            "Epoch 45/100\n",
            "2/2 [==============================] - 0s 39ms/step - loss: 0.0101 - mse: 0.0101 - val_loss: 0.0190 - val_mse: 0.0190\n",
            "Epoch 46/100\n",
            "2/2 [==============================] - 0s 43ms/step - loss: 0.0085 - mse: 0.0085 - val_loss: 0.0202 - val_mse: 0.0202\n",
            "Epoch 47/100\n",
            "2/2 [==============================] - 0s 40ms/step - loss: 0.0102 - mse: 0.0102 - val_loss: 0.0299 - val_mse: 0.0299\n",
            "Epoch 48/100\n",
            "2/2 [==============================] - 0s 41ms/step - loss: 0.0126 - mse: 0.0126 - val_loss: 0.0266 - val_mse: 0.0266\n",
            "Epoch 49/100\n",
            "2/2 [==============================] - 0s 42ms/step - loss: 0.0095 - mse: 0.0095 - val_loss: 0.0205 - val_mse: 0.0205\n",
            "Epoch 50/100\n",
            "2/2 [==============================] - 0s 40ms/step - loss: 0.0080 - mse: 0.0080 - val_loss: 0.0193 - val_mse: 0.0193\n",
            "Epoch 51/100\n",
            "2/2 [==============================] - 0s 40ms/step - loss: 0.0076 - mse: 0.0076 - val_loss: 0.0258 - val_mse: 0.0258\n",
            "Epoch 52/100\n",
            "2/2 [==============================] - 0s 41ms/step - loss: 0.0119 - mse: 0.0119 - val_loss: 0.0263 - val_mse: 0.0263\n",
            "Epoch 53/100\n",
            "2/2 [==============================] - 0s 46ms/step - loss: 0.0089 - mse: 0.0089 - val_loss: 0.0187 - val_mse: 0.0187\n",
            "Epoch 54/100\n",
            "2/2 [==============================] - 0s 60ms/step - loss: 0.0097 - mse: 0.0097 - val_loss: 0.0174 - val_mse: 0.0174\n",
            "Epoch 55/100\n",
            "2/2 [==============================] - 0s 43ms/step - loss: 0.0081 - mse: 0.0081 - val_loss: 0.0249 - val_mse: 0.0249\n",
            "Epoch 56/100\n",
            "2/2 [==============================] - 0s 40ms/step - loss: 0.0117 - mse: 0.0117 - val_loss: 0.0241 - val_mse: 0.0241\n",
            "Epoch 57/100\n",
            "2/2 [==============================] - 0s 44ms/step - loss: 0.0120 - mse: 0.0120 - val_loss: 0.0200 - val_mse: 0.0200\n",
            "Epoch 58/100\n",
            "2/2 [==============================] - 0s 39ms/step - loss: 0.0071 - mse: 0.0071 - val_loss: 0.0227 - val_mse: 0.0227\n",
            "Epoch 59/100\n",
            "2/2 [==============================] - 0s 42ms/step - loss: 0.0086 - mse: 0.0086 - val_loss: 0.0266 - val_mse: 0.0266\n",
            "Epoch 60/100\n",
            "2/2 [==============================] - 0s 39ms/step - loss: 0.0091 - mse: 0.0091 - val_loss: 0.0295 - val_mse: 0.0295\n",
            "Epoch 61/100\n",
            "2/2 [==============================] - 0s 40ms/step - loss: 0.0103 - mse: 0.0103 - val_loss: 0.0213 - val_mse: 0.0213\n",
            "Epoch 62/100\n",
            "2/2 [==============================] - 0s 40ms/step - loss: 0.0088 - mse: 0.0088 - val_loss: 0.0213 - val_mse: 0.0213\n",
            "Epoch 63/100\n",
            "2/2 [==============================] - 0s 42ms/step - loss: 0.0094 - mse: 0.0094 - val_loss: 0.0256 - val_mse: 0.0256\n",
            "Epoch 64/100\n",
            "2/2 [==============================] - 0s 47ms/step - loss: 0.0088 - mse: 0.0088 - val_loss: 0.0266 - val_mse: 0.0266\n",
            "Epoch 65/100\n",
            "2/2 [==============================] - 0s 39ms/step - loss: 0.0089 - mse: 0.0089 - val_loss: 0.0228 - val_mse: 0.0228\n",
            "Epoch 66/100\n",
            "2/2 [==============================] - 0s 44ms/step - loss: 0.0083 - mse: 0.0083 - val_loss: 0.0238 - val_mse: 0.0238\n",
            "Epoch 67/100\n",
            "2/2 [==============================] - 0s 39ms/step - loss: 0.0094 - mse: 0.0094 - val_loss: 0.0245 - val_mse: 0.0245\n",
            "Epoch 68/100\n",
            "2/2 [==============================] - 0s 37ms/step - loss: 0.0076 - mse: 0.0076 - val_loss: 0.0189 - val_mse: 0.0189\n",
            "Epoch 69/100\n",
            "2/2 [==============================] - 0s 43ms/step - loss: 0.0085 - mse: 0.0085 - val_loss: 0.0159 - val_mse: 0.0159\n",
            "Epoch 70/100\n",
            "2/2 [==============================] - 0s 58ms/step - loss: 0.0106 - mse: 0.0106 - val_loss: 0.0178 - val_mse: 0.0178\n",
            "Epoch 71/100\n",
            "2/2 [==============================] - 0s 40ms/step - loss: 0.0080 - mse: 0.0080 - val_loss: 0.0264 - val_mse: 0.0264\n",
            "Epoch 72/100\n",
            "2/2 [==============================] - 0s 39ms/step - loss: 0.0115 - mse: 0.0115 - val_loss: 0.0237 - val_mse: 0.0237\n",
            "Epoch 73/100\n",
            "2/2 [==============================] - 0s 45ms/step - loss: 0.0087 - mse: 0.0087 - val_loss: 0.0202 - val_mse: 0.0202\n",
            "Epoch 74/100\n",
            "2/2 [==============================] - 0s 40ms/step - loss: 0.0122 - mse: 0.0122 - val_loss: 0.0197 - val_mse: 0.0197\n",
            "Epoch 75/100\n",
            "2/2 [==============================] - 0s 49ms/step - loss: 0.0083 - mse: 0.0083 - val_loss: 0.0305 - val_mse: 0.0305\n",
            "Epoch 76/100\n",
            "2/2 [==============================] - 0s 39ms/step - loss: 0.0110 - mse: 0.0110 - val_loss: 0.0232 - val_mse: 0.0232\n",
            "Epoch 77/100\n",
            "2/2 [==============================] - 0s 43ms/step - loss: 0.0071 - mse: 0.0071 - val_loss: 0.0267 - val_mse: 0.0267\n",
            "Epoch 78/100\n",
            "2/2 [==============================] - 0s 40ms/step - loss: 0.0132 - mse: 0.0132 - val_loss: 0.0265 - val_mse: 0.0265\n",
            "Epoch 79/100\n",
            "2/2 [==============================] - 0s 45ms/step - loss: 0.0085 - mse: 0.0085 - val_loss: 0.0321 - val_mse: 0.0321\n",
            "Epoch 80/100\n",
            "2/2 [==============================] - 0s 39ms/step - loss: 0.0112 - mse: 0.0112 - val_loss: 0.0251 - val_mse: 0.0251\n",
            "Epoch 81/100\n",
            "2/2 [==============================] - 0s 46ms/step - loss: 0.0085 - mse: 0.0085 - val_loss: 0.0224 - val_mse: 0.0224\n",
            "Epoch 82/100\n",
            "2/2 [==============================] - 0s 38ms/step - loss: 0.0092 - mse: 0.0092 - val_loss: 0.0216 - val_mse: 0.0216\n",
            "Epoch 83/100\n",
            "2/2 [==============================] - 0s 45ms/step - loss: 0.0105 - mse: 0.0105 - val_loss: 0.0232 - val_mse: 0.0232\n",
            "Epoch 84/100\n",
            "2/2 [==============================] - 0s 42ms/step - loss: 0.0080 - mse: 0.0080 - val_loss: 0.0217 - val_mse: 0.0217\n",
            "Epoch 85/100\n",
            "2/2 [==============================] - 0s 44ms/step - loss: 0.0087 - mse: 0.0087 - val_loss: 0.0199 - val_mse: 0.0199\n",
            "Epoch 86/100\n",
            "2/2 [==============================] - 0s 63ms/step - loss: 0.0089 - mse: 0.0089 - val_loss: 0.0183 - val_mse: 0.0183\n",
            "Epoch 87/100\n",
            "2/2 [==============================] - 0s 40ms/step - loss: 0.0082 - mse: 0.0082 - val_loss: 0.0185 - val_mse: 0.0185\n",
            "Epoch 88/100\n",
            "2/2 [==============================] - 0s 44ms/step - loss: 0.0068 - mse: 0.0068 - val_loss: 0.0202 - val_mse: 0.0202\n",
            "Epoch 89/100\n",
            "2/2 [==============================] - 0s 41ms/step - loss: 0.0094 - mse: 0.0094 - val_loss: 0.0183 - val_mse: 0.0183\n",
            "Epoch 90/100\n",
            "2/2 [==============================] - 0s 40ms/step - loss: 0.0077 - mse: 0.0077 - val_loss: 0.0174 - val_mse: 0.0174\n",
            "Epoch 91/100\n",
            "2/2 [==============================] - 0s 37ms/step - loss: 0.0078 - mse: 0.0078 - val_loss: 0.0211 - val_mse: 0.0211\n",
            "Epoch 92/100\n",
            "2/2 [==============================] - 0s 41ms/step - loss: 0.0078 - mse: 0.0078 - val_loss: 0.0196 - val_mse: 0.0196\n",
            "Epoch 93/100\n",
            "2/2 [==============================] - 0s 41ms/step - loss: 0.0080 - mse: 0.0080 - val_loss: 0.0207 - val_mse: 0.0207\n",
            "Epoch 94/100\n",
            "2/2 [==============================] - 0s 43ms/step - loss: 0.0093 - mse: 0.0093 - val_loss: 0.0198 - val_mse: 0.0198\n",
            "Epoch 95/100\n",
            "2/2 [==============================] - 0s 41ms/step - loss: 0.0087 - mse: 0.0087 - val_loss: 0.0219 - val_mse: 0.0219\n",
            "Epoch 96/100\n",
            "2/2 [==============================] - 0s 48ms/step - loss: 0.0080 - mse: 0.0080 - val_loss: 0.0219 - val_mse: 0.0219\n",
            "Epoch 97/100\n",
            "2/2 [==============================] - 0s 38ms/step - loss: 0.0078 - mse: 0.0078 - val_loss: 0.0150 - val_mse: 0.0150\n",
            "Epoch 98/100\n",
            "2/2 [==============================] - 0s 48ms/step - loss: 0.0079 - mse: 0.0079 - val_loss: 0.0147 - val_mse: 0.0147\n",
            "Epoch 99/100\n",
            "2/2 [==============================] - 0s 41ms/step - loss: 0.0085 - mse: 0.0085 - val_loss: 0.0223 - val_mse: 0.0223\n",
            "Epoch 100/100\n",
            "2/2 [==============================] - 0s 48ms/step - loss: 0.0078 - mse: 0.0078 - val_loss: 0.0225 - val_mse: 0.0225\n",
            "1/1 [==============================] - 0s 27ms/step - loss: 0.0114 - mse: 0.0114\n"
          ]
        },
        {
          "output_type": "execute_result",
          "data": {
            "text/plain": [
              "[0.011426705867052078, 0.011426705867052078]"
            ]
          },
          "metadata": {},
          "execution_count": 19
        }
      ],
      "source": [
        "import tensorflow as tf\n",
        "tf.random.set_seed(1)\n",
        "\n",
        "#The GRU architecture\n",
        "GRU_model = tf.keras.Sequential()\n",
        "# First GRU layer\n",
        "GRU_model.add(tf.keras.layers.GRU(75, return_sequences=True,activation='tanh', input_shape=(X_test.shape[1], X_test.shape[2])))\n",
        "GRU_model.add(Dropout(0.2))\n",
        "\n",
        "# Second GRU layer\n",
        "GRU_model.add(tf.keras.layers.GRU(64, return_sequences=True))\n",
        "GRU_model.add(Dropout(0.2))\n",
        "\n",
        "# Third GRU layer\n",
        "GRU_model.add(tf.keras.layers.GRU(64))\n",
        "GRU_model.add(Dropout(0.2))\n",
        "\n",
        "#The output layer\n",
        "GRU_model.add(tf.keras.layers.Dense(units=1))\n",
        "\n",
        "# compiling the GRU network\n",
        "GRU_model.compile(optimizer=tf.keras.optimizers.Adam(learning_rate=0.01), loss='mse',metrics=['mse'])\n",
        "\n",
        "# model training\n",
        "history = GRU_model.fit(X_train, y_train, epochs=100, batch_size = 64, validation_split=0.2) #epochs = 30, batch_size = 60\n",
        "\n",
        "# model evaluation\n",
        "GRU_model.evaluate(X_test, y_test)"
      ]
    },
    {
      "cell_type": "code",
      "execution_count": 20,
      "metadata": {
        "colab": {
          "base_uri": "https://localhost:8080/",
          "height": 421
        },
        "id": "tvMUIg5SHsEF",
        "outputId": "5b718d00-2809-4496-dba8-76bab6a8e37a"
      },
      "outputs": [
        {
          "output_type": "stream",
          "name": "stdout",
          "text": [
            "dict_keys(['loss', 'mse', 'val_loss', 'val_mse'])\n"
          ]
        },
        {
          "output_type": "display_data",
          "data": {
            "text/plain": [
              "<Figure size 720x360 with 1 Axes>"
            ],
            "image/png": "[encoded data removed]"
          },
          "metadata": {}
        }
      ],
      "source": [
        "print(history.history.keys())\n",
        "# \"Loss\"\n",
        "plt.plot(history.history['loss'])\n",
        "plt.plot(history.history['val_loss'])\n",
        "plt.title('model loss')\n",
        "plt.ylabel('loss')\n",
        "plt.xlabel('epoch')\n",
        "plt.legend(['train', 'validation'], loc='upper left')\n",
        "plt.show()"
      ]
    },
    {
      "cell_type": "code",
      "execution_count": 21,
      "metadata": {
        "colab": {
          "base_uri": "https://localhost:8080/"
        },
        "id": "ImssP1C-YLO6",
        "outputId": "6f241562-d01a-4ca0-cfba-b336e26f9bde"
      },
      "outputs": [
        {
          "output_type": "stream",
          "name": "stdout",
          "text": [
            "1/1 [==============================] - 0s 42ms/step - loss: 0.0114 - mse: 0.0114\n"
          ]
        }
      ],
      "source": [
        "mse_GRU = GRU_model.evaluate(X_test, y_test)"
      ]
    },
    {
      "cell_type": "markdown",
      "metadata": {
        "id": "kaLutRuWgU4K"
      },
      "source": [
        "####Baseline MSE = 0.01660"
      ]
    },
    {
      "cell_type": "code",
      "execution_count": 22,
      "metadata": {
        "colab": {
          "base_uri": "https://localhost:8080/"
        },
        "id": "A8XbxYQeiCoj",
        "outputId": "06d27d1f-8d17-4b3e-8564-de5028e267de"
      },
      "outputs": [
        {
          "output_type": "stream",
          "name": "stdout",
          "text": [
            "Model: \"sequential_1\"\n",
            "_________________________________________________________________\n",
            " Layer (type)                Output Shape              Param #   \n",
            "=================================================================\n",
            " gru_3 (GRU)                 (None, 3, 75)             18900     \n",
            "                                                                 \n",
            " dropout_3 (Dropout)         (None, 3, 75)             0         \n",
            "                                                                 \n",
            " gru_4 (GRU)                 (None, 3, 64)             27072     \n",
            "                                                                 \n",
            " dropout_4 (Dropout)         (None, 3, 64)             0         \n",
            "                                                                 \n",
            " gru_5 (GRU)                 (None, 64)                24960     \n",
            "                                                                 \n",
            " dropout_5 (Dropout)         (None, 64)                0         \n",
            "                                                                 \n",
            " dense_1 (Dense)             (None, 1)                 65        \n",
            "                                                                 \n",
            "=================================================================\n",
            "Total params: 70,997\n",
            "Trainable params: 70,997\n",
            "Non-trainable params: 0\n",
            "_________________________________________________________________\n"
          ]
        }
      ],
      "source": [
        "GRU_model.summary()"
      ]
    },
    {
      "cell_type": "markdown",
      "metadata": {
        "id": "bNFFP1sSleo-"
      },
      "source": [
        "###Predict the Test without Hyperparameter Tuning"
      ]
    },
    {
      "cell_type": "code",
      "execution_count": 23,
      "metadata": {
        "colab": {
          "base_uri": "https://localhost:8080/"
        },
        "id": "wujQ6JNuiCyl",
        "outputId": "95b69ffa-d475-4325-dd88-9a43ae462419"
      },
      "outputs": [
        {
          "output_type": "stream",
          "name": "stdout",
          "text": [
            "1/1 [==============================] - 1s 1s/step\n"
          ]
        },
        {
          "output_type": "execute_result",
          "data": {
            "text/plain": [
              "array([[ 0.1301786 ],\n",
              "       [ 0.11324514],\n",
              "       [ 0.12520711],\n",
              "       [ 0.10698395],\n",
              "       [ 0.05941937],\n",
              "       [ 0.00640428],\n",
              "       [-0.03290395],\n",
              "       [-0.09258106],\n",
              "       [-0.16515332],\n",
              "       [-0.20511323],\n",
              "       [-0.20345753],\n",
              "       [-0.19318244],\n",
              "       [-0.20826879],\n",
              "       [-0.2073111 ],\n",
              "       [-0.21713528],\n",
              "       [-0.25842324],\n",
              "       [-0.26427534],\n",
              "       [-0.1397013 ],\n",
              "       [-0.00659293],\n",
              "       [ 0.01241878],\n",
              "       [-0.04996869],\n",
              "       [-0.05187383]], dtype=float32)"
            ]
          },
          "metadata": {},
          "execution_count": 23
        }
      ],
      "source": [
        "y_pred = GRU_model.predict(X_test)\n",
        "y_pred"
      ]
    },
    {
      "cell_type": "code",
      "execution_count": 24,
      "metadata": {
        "colab": {
          "base_uri": "https://localhost:8080/"
        },
        "id": "GI8XYmymlslh",
        "outputId": "82e5e89a-19ee-474c-e3d4-16f75586f71e"
      },
      "outputs": [
        {
          "output_type": "execute_result",
          "data": {
            "text/plain": [
              "array([[ 0.1301786 ,  0.11324514,  0.12520711,  0.10698395,  0.05941937,\n",
              "         0.00640428, -0.03290395, -0.09258106, -0.16515332, -0.20511323,\n",
              "        -0.20345753, -0.19318244, -0.20826879, -0.2073111 , -0.21713528,\n",
              "        -0.25842324, -0.26427534, -0.1397013 , -0.00659293,  0.01241878,\n",
              "        -0.04996869, -0.05187383]], dtype=float32)"
            ]
          },
          "metadata": {},
          "execution_count": 24
        }
      ],
      "source": [
        "y_pred.reshape(1,-1)"
      ]
    },
    {
      "cell_type": "markdown",
      "metadata": {
        "id": "jrtmvrZ_l2__"
      },
      "source": [
        "###Invert Transformed Data"
      ]
    },
    {
      "cell_type": "code",
      "execution_count": 26,
      "metadata": {
        "colab": {
          "base_uri": "https://localhost:8080/"
        },
        "id": "FVSGGT57lxHw",
        "outputId": "6996ffbc-ace0-441e-a85b-b049cde92e0a"
      },
      "outputs": [
        {
          "output_type": "stream",
          "name": "stdout",
          "text": [
            "[[376. 383. 382. 396. 402. 390. 404. 382. 382. 391. 396. 413. 401. 410.\n",
            "  425. 408. 392. 371. 356. 362. 356. 352. 333. 357. 411. 404. 387. 395.\n",
            "  434. 488. 508. 494. 575. 614. 616. 707. 719. 655. 661. 687. 625. 611.\n",
            "  631. 655. 616. 586. 615. 607. 590. 535. 518. 519. 562. 552. 508. 476.\n",
            "  513. 545. 532. 550. 561. 567. 580. 559. 562. 553. 533. 498. 504. 525.\n",
            "  547. 556. 566. 621. 659. 671. 688. 705. 633. 661. 674. 703. 694. 681.\n",
            "  663. 632. 561. 497. 509. 475. 392. 319. 354. 388. 381. 370.]]\n",
            "[[349. 372. 324. 315. 312. 306. 288. 255. 257. 265. 254. 240. 254. 251.\n",
            "  234. 255. 330. 362. 310. 277. 323. 360.]]\n",
            "[[371.07144 364.29807 369.08286 361.79358 342.76773 321.5617  305.8384\n",
            "  281.96756 252.93867 236.95471 237.61699 241.72702 235.69247 236.07556\n",
            "  232.14587 215.63069 213.28986 263.11948 316.36282 323.9675  299.0125\n",
            "  298.25046]]\n"
          ]
        }
      ],
      "source": [
        "y_train_inv = cpo_pri_transformer.inverse_transform(y_train.reshape(1, -1))\n",
        "y_test_inv = cpo_pri_transformer.inverse_transform(y_test.reshape(1, -1))\n",
        "y_pred_inv = cpo_pri_transformer.inverse_transform(y_pred.reshape(1,-1))\n",
        "print(y_train_inv)\n",
        "print(y_test_inv)\n",
        "print(y_pred_inv)"
      ]
    },
    {
      "cell_type": "markdown",
      "metadata": {
        "id": "PxYTgRmhmDtL"
      },
      "source": [
        "###Plot History, Actual and Predicted Value"
      ]
    },
    {
      "cell_type": "code",
      "execution_count": 27,
      "metadata": {
        "colab": {
          "base_uri": "https://localhost:8080/"
        },
        "id": "YXY0nwhElxLo",
        "outputId": "6f1ecea3-d52c-42a5-9981-d8c7909d8b0c"
      },
      "outputs": [
        {
          "output_type": "execute_result",
          "data": {
            "text/plain": [
              "array([376., 383., 382., 396., 402., 390., 404., 382., 382., 391., 396.,\n",
              "       413., 401., 410., 425., 408., 392., 371., 356., 362., 356., 352.,\n",
              "       333., 357., 411., 404., 387., 395., 434., 488., 508., 494., 575.,\n",
              "       614., 616., 707., 719., 655., 661., 687., 625., 611., 631., 655.,\n",
              "       616., 586., 615., 607., 590., 535., 518., 519., 562., 552., 508.,\n",
              "       476., 513., 545., 532., 550., 561., 567., 580., 559., 562., 553.,\n",
              "       533., 498., 504., 525., 547., 556., 566., 621., 659., 671., 688.,\n",
              "       705., 633., 661., 674., 703., 694., 681., 663., 632., 561., 497.,\n",
              "       509., 475., 392., 319., 354., 388., 381., 370.])"
            ]
          },
          "metadata": {},
          "execution_count": 27
        }
      ],
      "source": [
        "y_train_inv = y_train_inv.flatten()\n",
        "y_train_inv"
      ]
    },
    {
      "cell_type": "code",
      "execution_count": 28,
      "metadata": {
        "colab": {
          "base_uri": "https://localhost:8080/"
        },
        "id": "z_zQn_rpl_MC",
        "outputId": "c752f8e7-0569-43a3-b13c-337d72f3b297"
      },
      "outputs": [
        {
          "output_type": "execute_result",
          "data": {
            "text/plain": [
              "array([349., 372., 324., 315., 312., 306., 288., 255., 257., 265., 254.,\n",
              "       240., 254., 251., 234., 255., 330., 362., 310., 277., 323., 360.])"
            ]
          },
          "metadata": {},
          "execution_count": 28
        }
      ],
      "source": [
        "y_test_inv = y_test_inv.flatten()\n",
        "y_test_inv"
      ]
    },
    {
      "cell_type": "code",
      "execution_count": 29,
      "metadata": {
        "colab": {
          "base_uri": "https://localhost:8080/"
        },
        "id": "X4GInUagmJUO",
        "outputId": "99ad89ce-a3c7-43b4-ef06-0730c41e1fb0"
      },
      "outputs": [
        {
          "output_type": "execute_result",
          "data": {
            "text/plain": [
              "array([371.07144, 364.29807, 369.08286, 361.79358, 342.76773, 321.5617 ,\n",
              "       305.8384 , 281.96756, 252.93867, 236.95471, 237.61699, 241.72702,\n",
              "       235.69247, 236.07556, 232.14587, 215.63069, 213.28986, 263.11948,\n",
              "       316.36282, 323.9675 , 299.0125 , 298.25046], dtype=float32)"
            ]
          },
          "metadata": {},
          "execution_count": 29
        }
      ],
      "source": [
        "y_pred_inv = y_pred_inv.flatten()\n",
        "y_pred_inv"
      ]
    },
    {
      "cell_type": "code",
      "execution_count": 30,
      "metadata": {
        "colab": {
          "base_uri": "https://localhost:8080/",
          "height": 532
        },
        "id": "vHGNO1xAmJYI",
        "outputId": "327c3fb2-cad6-4666-a409-0a96f808a805"
      },
      "outputs": [
        {
          "output_type": "display_data",
          "data": {
            "text/plain": [
              "<Figure size 1224x648 with 1 Axes>"
            ],
            "image/png": "[encoded data removed]"
          },
          "metadata": {}
        }
      ],
      "source": [
        "plt.figure(figsize=(17,9))\n",
        "#plt.grid()\n",
        "#plt.plot(np.arange(0, len(y_train)), y_train_inv, color='green', label=\"History\")\n",
        "plt.plot(np.arange(len(y_train), len(y_train) + len(y_test)), y_test_inv, color='red', marker='.', label=\"Actual\")\n",
        "plt.plot(np.arange(len(y_train), len(y_train) + len(y_test)), y_pred_inv, color='green', label=\"Tuned GRU Prediction\")\n",
        "plt.ylabel('Crude Palm Oil Price')\n",
        "plt.xlabel('Time step')\n",
        "plt.legend()\n",
        "ax.grid()\n",
        "#plt.grid()\n",
        "#plt.show();"
      ]
    },
    {
      "cell_type": "markdown",
      "metadata": {
        "id": "1NImON2RmyWF"
      },
      "source": [
        "###Evaluating GRU Model Performance"
      ]
    },
    {
      "cell_type": "code",
      "execution_count": 32,
      "metadata": {
        "colab": {
          "base_uri": "https://localhost:8080/"
        },
        "id": "fIc5ITw4m2QJ",
        "outputId": "131f674d-f391-4d9b-ee89-4ee4eaa040bd"
      },
      "outputs": [
        {
          "output_type": "stream",
          "name": "stdout",
          "text": [
            "MAE value of the GRU Model is: 31.45978546142578\n",
            "MDA value of the GRU Model is: 0.3333333333333333\n",
            "MAPE value of the GRU Model is: 10.175806195113097\n",
            "RMSE value of the GRU Model is: 42.75830848637212\n",
            "MSE value of the GRU Model is: 1828.2729446157623\n"
          ]
        }
      ],
      "source": [
        "MAE_GRU = mean_absolute_error(y_test_inv, y_pred_inv)\n",
        "print('MAE value of the GRU Model is:', MAE_GRU)\n",
        "\n",
        "MDA_GRU = mda(y_test_inv, y_pred_inv)\n",
        "print('MDA value of the GRU Model is:', MDA_GRU)\n",
        "\n",
        "MAPE_GRU = mean_absolute_percentage_error(y_test_inv, y_pred_inv)\n",
        "print('MAPE value of the GRU Model is:', MAPE_GRU)\n",
        "\n",
        "RMSE_GRU = mean_squared_error(y_test_inv,y_pred_inv, squared=False)\n",
        "print('RMSE value of the GRU Model is:', RMSE_GRU)\n",
        "\n",
        "MSE_GRU = mean_squared_error(y_test_inv,y_pred_inv)\n",
        "print('MSE value of the GRU Model is:', MSE_GRU)\n",
        "\n",
        "#EVS_GRU = explained_variance_score(y_test_inv, y_pred_inv)\n",
        "#print('EVS score of the GRU Model is:', EVS_GRU)"
      ]
    },
    {
      "cell_type": "markdown",
      "metadata": {
        "id": "fs98oM36Yw_r"
      },
      "source": [
        "###Tuning GRU with Keras Tuner"
      ]
    },
    {
      "cell_type": "markdown",
      "metadata": {
        "id": "UHH-Phuz1M-L"
      },
      "source": [
        "Define A Model-Building Class"
      ]
    },
    {
      "cell_type": "code",
      "execution_count": 33,
      "metadata": {
        "id": "6sH3KVfoj7jq"
      },
      "outputs": [],
      "source": [
        "class GRUhypermodel(HyperModel):\n",
        "#class GRUHyperModel(HyperModel):\n",
        "    \n",
        "    def __init__(self, input_shape):\n",
        "        self.input_shape= input_shape\n",
        "        \n",
        "    def build(self, hp):\n",
        "        model= keras.Sequential()\n",
        "        \n",
        "        # Tune the number of units in the first Dense layer\n",
        "        # Defining dense units as a close approx to the original neural network to perform a fair comparision!\n",
        "      \n",
        "        hp_units_1= hp.Int('units_1', min_value=128, max_value= 160, step=32)\n",
        "        hp_units_2= hp.Int('units_2', min_value=64, max_value= 128, step=32)\n",
        "        hp_units_3= hp.Int('units_3', min_value=32, max_value= 64, step=16)\n",
        "        hp_units_4= hp.Int('units_4', min_value=16, max_value= 32, step=8)\n",
        "\n",
        "        model.add(keras.layers.Dense(units=hp_units_1, activation='tanh', input_shape= self.input_shape))\n",
        "        model.add(keras.layers.Dense(units=hp_units_2, activation='tanh'))\n",
        "        model.add(keras.layers.Dense(units=hp_units_3, activation='tanh'))\n",
        "        model.add(keras.layers.Dense(units=hp_units_4, activation='tanh'))\n",
        "        model.add(keras.layers.Dense(1))\n",
        "        #Tune the dropout\n",
        "        model.add(\n",
        "            Dropout(\n",
        "                rate=hp.Float(\n",
        "                    'dropout',\n",
        "                    min_value=0.0,\n",
        "                    max_value=0.5,\n",
        "                    default=0.25,\n",
        "                    step=0.05\n",
        "                )\n",
        "            )\n",
        "        )\n",
        "        \n",
        "        # Tune the epoch for the optimizer\n",
        "\n",
        "        Kernel_initializer = hp.Choice('kernel_initializer', values= ['Kernel_initializer', 'lecun_uniform', 'zero', 'ones', 'glorot_normal', 'glorot_uniform', 'he_normal', 'he_uniform', 'uniform', 'normal', 'orthogonal', 'constant', 'random_normal', 'random_uniform'])\n",
        "        \n",
        "        optimizers = hp.Choice('optimizer',values=['rmsprop','adam', 'AdamW', 'nadam','sgd','adadelta','adagrad'])\n",
        "\n",
        "        hp_dense_activation = hp.Choice('activation',values=['relu', 'tanh', 'sigmoid', 'linear', 'Softmax', 'ELU', 'linear'])\n",
        "\n",
        "        # Tune the batch size for the optimizer \n",
        "        hp_batch_size = hp.Int('batch_size', min_value = 8, max_value = 96, step = 8, default=8)\n",
        "        \n",
        "        # Tune the epoch for the optimizer\n",
        "        hp_epoch = hp.Int('epoch', min_value = 5, max_value = 100, step = 5, default=5)\n",
        "\n",
        "        # Tune the epoch for the momentum\n",
        "        hp_momentum = hp.Float('momentum', min_value = 0.8, max_value = 0.99, step = 0.01, default=0.9)\n",
        "\n",
        "        # Tune the epoch for the decay\n",
        "        hp_decay = hp.Float('decay', min_value = 1e-9, max_value = 1e-3, step= 0.0001, default=1e-7)\n",
        "\n",
        "        # Tune the learning rate for the optimizer \n",
        "        hp_learning_rate=hp.Float('learning_rate', min_value=1e-4, max_value=1e-2, sampling='LOG', default= 0.0005)\n",
        "       # -------------------------------------------------------\n",
        "        model.compile(loss='mse',\n",
        "                    optimizer= keras.optimizers.Adam(learning_rate=hp_learning_rate),\n",
        "                    metrics= ['mae','mse']\n",
        "                     )\n",
        "\n",
        "        return model\n",
        "\n",
        "hypermodel= GRUhypermodel(input_shape = (X_test.shape[1], X_test.shape[2]))\n",
        "#hypermodel = GRUHyperModel(input_shape = (X_test.shape[1], X_test.shape[2]))"
      ]
    },
    {
      "cell_type": "markdown",
      "metadata": {
        "id": "Vw6sRopRkNq-"
      },
      "source": [
        "###Build Random Search Tuner"
      ]
    },
    {
      "cell_type": "code",
      "execution_count": 34,
      "metadata": {
        "id": "oPWNkr_dj7ng"
      },
      "outputs": [],
      "source": [
        "tuner_rs = RandomSearch(\n",
        "            hypermodel,\n",
        "            objective='mse',\n",
        "            seed=42,\n",
        "            max_trials=10,\n",
        "            executions_per_trial=2, overwrite=True\n",
        "        )"
      ]
    },
    {
      "cell_type": "markdown",
      "metadata": {
        "id": "UH8vIpuOkl0V"
      },
      "source": [
        "###Run Random Search"
      ]
    },
    {
      "cell_type": "code",
      "execution_count": 36,
      "metadata": {
        "id": "XC6nlTF4j7rN"
      },
      "outputs": [],
      "source": [
        "tuner_rs.search(X_train, y_train, epochs=16, validation_split=0.2, verbose=0)"
      ]
    },
    {
      "cell_type": "markdown",
      "metadata": {
        "id": "ZWc0whe7l-_0"
      },
      "source": [
        "###Evaluate Random Search"
      ]
    },
    {
      "cell_type": "code",
      "execution_count": 37,
      "metadata": {
        "colab": {
          "base_uri": "https://localhost:8080/"
        },
        "id": "V0u8mTuTj7wl",
        "outputId": "f1f3b8ec-8b11-4a7a-f635-e743a5029686"
      },
      "outputs": [
        {
          "output_type": "stream",
          "name": "stdout",
          "text": [
            "1/1 [==============================] - 0s 400ms/step - loss: 0.4318 - mae: 0.6480 - mse: 0.4318\n"
          ]
        }
      ],
      "source": [
        "best_model = tuner_rs.get_best_models(num_models=1)[0]\n",
        "mse_rs = best_model.evaluate(X_test, y_test)[1]"
      ]
    },
    {
      "cell_type": "markdown",
      "metadata": {
        "id": "9jgCzQ74mQjM"
      },
      "source": [
        "####Random Search MSE = 0.4318"
      ]
    },
    {
      "cell_type": "code",
      "execution_count": 38,
      "metadata": {
        "colab": {
          "base_uri": "https://localhost:8080/"
        },
        "id": "jJ5NIqxpj72V",
        "outputId": "d8978157-e956-4a52-f188-77649330083c"
      },
      "outputs": [
        {
          "output_type": "execute_result",
          "data": {
            "text/plain": [
              "{'units_1': 128,\n",
              " 'units_2': 96,\n",
              " 'units_3': 64,\n",
              " 'units_4': 24,\n",
              " 'dropout': 0.0,\n",
              " 'kernel_initializer': 'zero',\n",
              " 'optimizer': 'rmsprop',\n",
              " 'activation': 'ELU',\n",
              " 'batch_size': 56,\n",
              " 'epoch': 60,\n",
              " 'momentum': 0.9700000000000001,\n",
              " 'decay': 0.00040000100000000003,\n",
              " 'learning_rate': 0.005507461185174967}"
            ]
          },
          "metadata": {},
          "execution_count": 38
        }
      ],
      "source": [
        "best_params = tuner_rs.get_best_hyperparameters()\n",
        "\n",
        "best_params[0].values"
      ]
    },
    {
      "cell_type": "markdown",
      "metadata": {
        "id": "AxWQfBYpnLjI"
      },
      "source": [
        "###Build Bayesian Optimization"
      ]
    },
    {
      "cell_type": "code",
      "execution_count": 39,
      "metadata": {
        "id": "uixpiCLPmsaZ"
      },
      "outputs": [],
      "source": [
        "tuner_bo = BayesianOptimization(\n",
        "            hypermodel,\n",
        "            objective='val_mse',\n",
        "            max_trials=10,\n",
        "            seed=42,\n",
        "            executions_per_trial=2,\n",
        "            directory='bo'\n",
        "        )"
      ]
    },
    {
      "cell_type": "markdown",
      "metadata": {
        "id": "_lTWVuDcoYU9"
      },
      "source": [
        "###Run Bayesian Optimization"
      ]
    },
    {
      "cell_type": "code",
      "execution_count": 40,
      "metadata": {
        "colab": {
          "base_uri": "https://localhost:8080/"
        },
        "id": "L6qZa1Kvmsgn",
        "outputId": "486eb148-ad79-46d9-afe3-bdebb73fc39e"
      },
      "outputs": [
        {
          "output_type": "stream",
          "name": "stdout",
          "text": [
            "1/1 [==============================] - 0s 407ms/step - loss: 0.2356 - mae: 0.4716 - mse: 0.2356\n"
          ]
        }
      ],
      "source": [
        "tuner_bo.search(X_train, y_train, epochs=10, validation_split=0.2, verbose=0)\n",
        "\n",
        "best_model = tuner_bo.get_best_models(num_models=1)[0]\n",
        "mse_bo = best_model.evaluate(X_test, y_test)[1]"
      ]
    },
    {
      "cell_type": "markdown",
      "metadata": {
        "id": "KiNYUG96ZUIz"
      },
      "source": [
        "###Bayesian Optimization Search MSE = 0.2356"
      ]
    },
    {
      "cell_type": "markdown",
      "metadata": {
        "id": "Ppb8qezeoe7c"
      },
      "source": [
        "###Evaluate Bayesian Optimization"
      ]
    },
    {
      "cell_type": "code",
      "execution_count": 41,
      "metadata": {
        "colab": {
          "base_uri": "https://localhost:8080/"
        },
        "id": "0bDWDTrOmsm1",
        "outputId": "86500b24-e7ea-439e-f6c9-33f74d3cb00b"
      },
      "outputs": [
        {
          "output_type": "execute_result",
          "data": {
            "text/plain": [
              "{'units_1': 160,\n",
              " 'units_2': 64,\n",
              " 'units_3': 48,\n",
              " 'units_4': 32,\n",
              " 'dropout': 0.05,\n",
              " 'kernel_initializer': 'constant',\n",
              " 'optimizer': 'adam',\n",
              " 'activation': 'sigmoid',\n",
              " 'batch_size': 8,\n",
              " 'epoch': 25,\n",
              " 'momentum': 0.81,\n",
              " 'decay': 0.00040000100000000003,\n",
              " 'learning_rate': 0.006678619769811224}"
            ]
          },
          "metadata": {},
          "execution_count": 41
        }
      ],
      "source": [
        "best_params = tuner_bo.get_best_hyperparameters()\n",
        "\n",
        "best_params[0].values"
      ]
    },
    {
      "cell_type": "code",
      "execution_count": 42,
      "metadata": {
        "colab": {
          "base_uri": "https://localhost:8080/"
        },
        "id": "odraTQ8KbUw9",
        "outputId": "cda830f5-b2a1-4b40-b03c-f93b89d84259"
      },
      "outputs": [
        {
          "output_type": "stream",
          "name": "stderr",
          "text": [
            "WARNING:tensorflow:Detecting that an object or model or tf.train.Checkpoint is being deleted with unrestored values. See the following logs for the specific values in question. To silence these warnings, use `status.expect_partial()`. See https://www.tensorflow.org/api_docs/python/tf/train/Checkpoint#restorefor details about the status object returned by the restore function.\n",
            "WARNING:tensorflow:Value in checkpoint could not be found in the restored object: (root).optimizer._variables.1\n",
            "WARNING:tensorflow:Value in checkpoint could not be found in the restored object: (root).optimizer._variables.2\n",
            "WARNING:tensorflow:Value in checkpoint could not be found in the restored object: (root).optimizer._variables.3\n",
            "WARNING:tensorflow:Value in checkpoint could not be found in the restored object: (root).optimizer._variables.4\n",
            "WARNING:tensorflow:Value in checkpoint could not be found in the restored object: (root).optimizer._variables.5\n",
            "WARNING:tensorflow:Value in checkpoint could not be found in the restored object: (root).optimizer._variables.6\n",
            "WARNING:tensorflow:Value in checkpoint could not be found in the restored object: (root).optimizer._variables.7\n",
            "WARNING:tensorflow:Value in checkpoint could not be found in the restored object: (root).optimizer._variables.8\n",
            "WARNING:tensorflow:Value in checkpoint could not be found in the restored object: (root).optimizer._variables.9\n",
            "WARNING:tensorflow:Value in checkpoint could not be found in the restored object: (root).optimizer._variables.10\n",
            "WARNING:tensorflow:Value in checkpoint could not be found in the restored object: (root).optimizer._variables.11\n",
            "WARNING:tensorflow:Value in checkpoint could not be found in the restored object: (root).optimizer._variables.12\n",
            "WARNING:tensorflow:Value in checkpoint could not be found in the restored object: (root).optimizer._variables.13\n",
            "WARNING:tensorflow:Value in checkpoint could not be found in the restored object: (root).optimizer._variables.14\n",
            "WARNING:tensorflow:Value in checkpoint could not be found in the restored object: (root).optimizer._variables.15\n",
            "WARNING:tensorflow:Value in checkpoint could not be found in the restored object: (root).optimizer._variables.16\n",
            "WARNING:tensorflow:Value in checkpoint could not be found in the restored object: (root).optimizer._variables.17\n",
            "WARNING:tensorflow:Value in checkpoint could not be found in the restored object: (root).optimizer._variables.18\n",
            "WARNING:tensorflow:Value in checkpoint could not be found in the restored object: (root).optimizer._variables.19\n",
            "WARNING:tensorflow:Value in checkpoint could not be found in the restored object: (root).optimizer._variables.20\n"
          ]
        },
        {
          "output_type": "stream",
          "name": "stdout",
          "text": [
            "1/1 [==============================] - 1s 684ms/step - loss: 0.2356 - mae: 0.4716 - mse: 0.2356\n"
          ]
        }
      ],
      "source": [
        "best_model = tuner_bo.get_best_models(num_models=1)[0]\n",
        "mse_bo = best_model.evaluate(X_test, y_test)[1]"
      ]
    },
    {
      "cell_type": "markdown",
      "metadata": {
        "id": "9rYL672xrXtU"
      },
      "source": [
        "###Build HYPERBAND optimization"
      ]
    },
    {
      "cell_type": "code",
      "execution_count": 43,
      "metadata": {
        "id": "CqxbIHGxmstL"
      },
      "outputs": [],
      "source": [
        "MAX_TRIALS = 20\n",
        "tuner= RandomSearch(hypermodel,\n",
        "               objective= 'val_mse',\n",
        "               max_trials= MAX_TRIALS,\n",
        "               executions_per_trial= 2,\n",
        "               directory= 'random_search',\n",
        "               project_name='randomsearch',\n",
        "               overwrite=True)"
      ]
    },
    {
      "cell_type": "code",
      "execution_count": 44,
      "metadata": {
        "id": "eaGs4DAFosPl"
      },
      "outputs": [],
      "source": [
        "HYPERBAND_MAX_EPOCHS = 150\n",
        "EXECUTION_PER_TRIAL = 2\n",
        "\n",
        "tuner= Hyperband(hypermodel,\n",
        "                   objective= 'val_mse',\n",
        "                   max_epochs=HYPERBAND_MAX_EPOCHS, #Set 100+ for good results\n",
        "                   executions_per_trial=EXECUTION_PER_TRIAL,\n",
        "                   directory= 'hyperband',\n",
        "                   project_name='hyper',\n",
        "                   overwrite=True)\n",
        "\n",
        "# tuner.search_space_summary()"
      ]
    },
    {
      "cell_type": "code",
      "execution_count": 45,
      "metadata": {
        "colab": {
          "base_uri": "https://localhost:8080/"
        },
        "id": "NXf_LR3mosWn",
        "outputId": "1ed899ee-e014-4b8f-a798-52040c48f738"
      },
      "outputs": [
        {
          "output_type": "stream",
          "name": "stdout",
          "text": [
            "searching for the best params!\n"
          ]
        },
        {
          "output_type": "stream",
          "name": "stderr",
          "text": [
            "WARNING:tensorflow:Detecting that an object or model or tf.train.Checkpoint is being deleted with unrestored values. See the following logs for the specific values in question. To silence these warnings, use `status.expect_partial()`. See https://www.tensorflow.org/api_docs/python/tf/train/Checkpoint#restorefor details about the status object returned by the restore function.\n",
            "WARNING:tensorflow:Value in checkpoint could not be found in the restored object: (root).optimizer._variables.1\n",
            "WARNING:tensorflow:Value in checkpoint could not be found in the restored object: (root).optimizer._variables.2\n",
            "WARNING:tensorflow:Value in checkpoint could not be found in the restored object: (root).optimizer._variables.3\n",
            "WARNING:tensorflow:Value in checkpoint could not be found in the restored object: (root).optimizer._variables.4\n",
            "WARNING:tensorflow:Value in checkpoint could not be found in the restored object: (root).optimizer._variables.5\n",
            "WARNING:tensorflow:Value in checkpoint could not be found in the restored object: (root).optimizer._variables.6\n",
            "WARNING:tensorflow:Value in checkpoint could not be found in the restored object: (root).optimizer._variables.7\n",
            "WARNING:tensorflow:Value in checkpoint could not be found in the restored object: (root).optimizer._variables.8\n",
            "WARNING:tensorflow:Value in checkpoint could not be found in the restored object: (root).optimizer._variables.9\n",
            "WARNING:tensorflow:Value in checkpoint could not be found in the restored object: (root).optimizer._variables.10\n",
            "WARNING:tensorflow:Value in checkpoint could not be found in the restored object: (root).optimizer._variables.11\n",
            "WARNING:tensorflow:Value in checkpoint could not be found in the restored object: (root).optimizer._variables.12\n",
            "WARNING:tensorflow:Value in checkpoint could not be found in the restored object: (root).optimizer._variables.13\n",
            "WARNING:tensorflow:Value in checkpoint could not be found in the restored object: (root).optimizer._variables.14\n",
            "WARNING:tensorflow:Value in checkpoint could not be found in the restored object: (root).optimizer._variables.15\n",
            "WARNING:tensorflow:Value in checkpoint could not be found in the restored object: (root).optimizer._variables.16\n",
            "WARNING:tensorflow:Value in checkpoint could not be found in the restored object: (root).optimizer._variables.17\n",
            "WARNING:tensorflow:Value in checkpoint could not be found in the restored object: (root).optimizer._variables.18\n",
            "WARNING:tensorflow:Value in checkpoint could not be found in the restored object: (root).optimizer._variables.19\n",
            "WARNING:tensorflow:Value in checkpoint could not be found in the restored object: (root).optimizer._variables.20\n",
            "WARNING:tensorflow:5 out of the last 15 calls to <function Model.make_test_function.<locals>.test_function at 0x7f1c63ae30d0> triggered tf.function retracing. Tracing is expensive and the excessive number of tracings could be due to (1) creating @tf.function repeatedly in a loop, (2) passing tensors with different shapes, (3) passing Python objects instead of tensors. For (1), please define your @tf.function outside of the loop. For (2), @tf.function has reduce_retracing=True option that can avoid unnecessary retracing. For (3), please refer to https://www.tensorflow.org/guide/function#controlling_retracing and https://www.tensorflow.org/api_docs/python/tf/function for  more details.\n",
            "WARNING:tensorflow:6 out of the last 17 calls to <function Model.make_test_function.<locals>.test_function at 0x7f1c6818caf0> triggered tf.function retracing. Tracing is expensive and the excessive number of tracings could be due to (1) creating @tf.function repeatedly in a loop, (2) passing tensors with different shapes, (3) passing Python objects instead of tensors. For (1), please define your @tf.function outside of the loop. For (2), @tf.function has reduce_retracing=True option that can avoid unnecessary retracing. For (3), please refer to https://www.tensorflow.org/guide/function#controlling_retracing and https://www.tensorflow.org/api_docs/python/tf/function for  more details.\n"
          ]
        },
        {
          "output_type": "stream",
          "name": "stdout",
          "text": [
            "1711.4100823402405  secs\n"
          ]
        }
      ],
      "source": [
        "print('searching for the best params!')\n",
        "\n",
        "t0 = time()\n",
        "tuner.search(x= X_train,\n",
        "             y= y_train,\n",
        "             epochs=100,\n",
        "             batch_size= 64,\n",
        "             validation_data= (X_test, y_test),\n",
        "             verbose=0,\n",
        "             callbacks= []\n",
        "            )\n",
        "print(time()- t0,\" secs\")\n",
        "\n",
        "# Retreive the optimal hyperparameters\n",
        "best_hps= tuner.get_best_hyperparameters(num_trials=1)[0]\n",
        "\n",
        "# Retrieve the best model\n",
        "best_model = tuner.get_best_models(num_models=1)[0]"
      ]
    },
    {
      "cell_type": "code",
      "execution_count": 46,
      "metadata": {
        "colab": {
          "base_uri": "https://localhost:8080/"
        },
        "id": "UcOC-csfrvmH",
        "outputId": "dc357cc7-f3f7-4df8-8040-8b7a9319eaa5"
      },
      "outputs": [
        {
          "output_type": "stream",
          "name": "stdout",
          "text": [
            "\n",
            "The hyperparameter search is complete. The optimal number of units in the \n",
            "first densely-connected layer is 128,\n",
            "second layer is 96 \n",
            "third layer is 48 \n",
            "fourth layer is 32\n",
            "drop out is 0.1\n",
            "batch_size is 16\n",
            "epoch is 100\n",
            "optimizer is adagrad\n",
            "activation is relu\n",
            "\n",
            "momentum is 0.8\n",
            "decay is 0.000200001\n",
            "\n",
            "#learning rate is 0.005697142087257759                                        \n",
            "\n",
            "and the optimal learning rate for the optimizer\n",
            "is 0.005697142087257759.\n",
            "\n",
            "[]\n",
            "1/1 [==============================] - 0s 493ms/step - loss: 0.0116 - mae: 0.0947 - mse: 0.0116\n",
            "loss:0.011553892865777016 mae: 0.09474045783281326 mse: 0.011553892865777016\n"
          ]
        }
      ],
      "source": [
        "print(f\"\"\"\n",
        "The hyperparameter search is complete. The optimal number of units in the \n",
        "first densely-connected layer is {best_hps.get('units_1')},\n",
        "second layer is {best_hps.get('units_2')} \n",
        "third layer is {best_hps.get('units_3')} \n",
        "fourth layer is {best_hps.get('units_4')}\n",
        "drop out is {best_hps.get('dropout')}\n",
        "batch_size is {best_hps.get('batch_size')}\n",
        "epoch is {best_hps.get('epoch')}\n",
        "optimizer is {best_hps.get('optimizer')}\n",
        "activation is {best_hps.get('activation')}\n",
        "\n",
        "momentum is {best_hps.get('momentum')}\n",
        "decay is {best_hps.get('decay')}\n",
        "\n",
        "#learning rate is {best_hps.get('learning_rate')}                                        \n",
        "\n",
        "and the optimal learning rate for the optimizer\n",
        "is {best_hps.get('learning_rate')}.\n",
        "\"\"\")\n",
        "\n",
        "# Evaluate the best model.\n",
        "print(best_model.metrics_names)\n",
        "loss, mae, mse = best_model.evaluate(X_test, y_test)\n",
        "print(f'loss:{loss} mae: {mae} mse: {mse}')"
      ]
    },
    {
      "cell_type": "code",
      "execution_count": 47,
      "metadata": {
        "colab": {
          "base_uri": "https://localhost:8080/"
        },
        "id": "q0e8tSIulgh_",
        "outputId": "07eb78b2-0195-427a-9de2-9e76779abd64"
      },
      "outputs": [
        {
          "output_type": "stream",
          "name": "stdout",
          "text": [
            "{'units_1': 128, 'units_2': 96, 'units_3': 48, 'units_4': 32, 'dropout': 0.1, 'kernel_initializer': 'random_normal', 'optimizer': 'adagrad', 'activation': 'relu', 'batch_size': 16, 'epoch': 100, 'momentum': 0.8, 'decay': 0.000200001, 'learning_rate': 0.005697142087257759, 'tuner/epochs': 50, 'tuner/initial_epoch': 17, 'tuner/bracket': 2, 'tuner/round': 1, 'tuner/trial_id': '0215'}\n"
          ]
        }
      ],
      "source": [
        "# Get the optimal hyperparameters\n",
        "best_hps = tuner.get_best_hyperparameters(num_trials = 1)[0]\n",
        "print(best_hps.values)"
      ]
    },
    {
      "cell_type": "markdown",
      "metadata": {
        "id": "oggNSpcVpofH"
      },
      "source": [
        "###Apply the trained parameters to the GRU"
      ]
    },
    {
      "cell_type": "code",
      "execution_count": 104,
      "metadata": {
        "id": "exKbi-BBYxAt"
      },
      "outputs": [],
      "source": [
        "import tensorflow as tf\n",
        "tf.random.set_seed(1)\n",
        "\n",
        "#The TUGRU architecture\n",
        "TUGRU_model = tf.keras.Sequential()\n",
        "# First GRU layer\n",
        "TUGRU_model.add(tf.keras.layers.GRU(128, return_sequences=True,activation='relu', input_shape=(X_test.shape[1], X_test.shape[2])))\n",
        "TUGRU_model.add(tf.keras.layers.GRU(96, return_sequences=True))\n",
        "TUGRU_model.add(Dropout(0.1))\n",
        "\n",
        "# Second TUGRU layer\n",
        "#TUGRU_model.add(tf.keras.layers.GRU(96, activation='relu', return_sequences=True))\n",
        "TUGRU_model.add(Dropout(0.1))\n",
        "\n",
        "# Third TUGRU layer\n",
        "TUGRU_model.add(tf.keras.layers.GRU(46))\n",
        "TUGRU_model.add(Dropout(0.1))\n",
        "\n",
        "# Fourth TUGRU layer\n",
        "#TUGRU_model.add(tf.keras.layers.GRU(32, activation='relu'))\n",
        "#TUGRU_model.add(Dropout(0.1))\n",
        "\n",
        "#The output layer\n",
        "GRU_model.add(tf.keras.layers.Dense(1))"
      ]
    },
    {
      "cell_type": "code",
      "execution_count": 105,
      "metadata": {
        "colab": {
          "base_uri": "https://localhost:8080/"
        },
        "id": "2OVvMjqyY2kW",
        "outputId": "fc637b20-e049-4e89-fbac-d75738fce7f8"
      },
      "outputs": [
        {
          "output_type": "stream",
          "name": "stdout",
          "text": [
            "Epoch 1/100\n",
            "5/5 [==============================] - 7s 272ms/step - loss: 0.2904 - mae: 0.4695 - mse: 0.2904 - val_loss: 0.4518 - val_mae: 0.5793 - val_mse: 0.4518\n",
            "Epoch 2/100\n",
            "5/5 [==============================] - 0s 22ms/step - loss: 0.2900 - mae: 0.4692 - mse: 0.2900 - val_loss: 0.4518 - val_mae: 0.5792 - val_mse: 0.4518\n",
            "Epoch 3/100\n",
            "5/5 [==============================] - 0s 20ms/step - loss: 0.2904 - mae: 0.4694 - mse: 0.2904 - val_loss: 0.4517 - val_mae: 0.5792 - val_mse: 0.4517\n",
            "Epoch 4/100\n",
            "5/5 [==============================] - 0s 22ms/step - loss: 0.2904 - mae: 0.4694 - mse: 0.2904 - val_loss: 0.4517 - val_mae: 0.5791 - val_mse: 0.4517\n",
            "Epoch 5/100\n",
            "5/5 [==============================] - 0s 21ms/step - loss: 0.2901 - mae: 0.4692 - mse: 0.2901 - val_loss: 0.4516 - val_mae: 0.5791 - val_mse: 0.4516\n",
            "Epoch 6/100\n",
            "5/5 [==============================] - 0s 22ms/step - loss: 0.2900 - mae: 0.4691 - mse: 0.2900 - val_loss: 0.4515 - val_mae: 0.5791 - val_mse: 0.4515\n",
            "Epoch 7/100\n",
            "5/5 [==============================] - 0s 23ms/step - loss: 0.2897 - mae: 0.4689 - mse: 0.2897 - val_loss: 0.4515 - val_mae: 0.5790 - val_mse: 0.4515\n",
            "Epoch 8/100\n",
            "5/5 [==============================] - 0s 23ms/step - loss: 0.2898 - mae: 0.4690 - mse: 0.2898 - val_loss: 0.4514 - val_mae: 0.5790 - val_mse: 0.4514\n",
            "Epoch 9/100\n",
            "5/5 [==============================] - 0s 20ms/step - loss: 0.2898 - mae: 0.4689 - mse: 0.2898 - val_loss: 0.4514 - val_mae: 0.5789 - val_mse: 0.4514\n",
            "Epoch 10/100\n",
            "5/5 [==============================] - 0s 23ms/step - loss: 0.2896 - mae: 0.4689 - mse: 0.2896 - val_loss: 0.4513 - val_mae: 0.5789 - val_mse: 0.4513\n",
            "Epoch 11/100\n",
            "5/5 [==============================] - 0s 24ms/step - loss: 0.2896 - mae: 0.4687 - mse: 0.2896 - val_loss: 0.4513 - val_mae: 0.5788 - val_mse: 0.4513\n",
            "Epoch 12/100\n",
            "5/5 [==============================] - 0s 24ms/step - loss: 0.2894 - mae: 0.4686 - mse: 0.2894 - val_loss: 0.4512 - val_mae: 0.5788 - val_mse: 0.4512\n",
            "Epoch 13/100\n",
            "5/5 [==============================] - 0s 20ms/step - loss: 0.2898 - mae: 0.4688 - mse: 0.2898 - val_loss: 0.4511 - val_mae: 0.5787 - val_mse: 0.4511\n",
            "Epoch 14/100\n",
            "5/5 [==============================] - 0s 23ms/step - loss: 0.2894 - mae: 0.4685 - mse: 0.2894 - val_loss: 0.4511 - val_mae: 0.5787 - val_mse: 0.4511\n",
            "Epoch 15/100\n",
            "5/5 [==============================] - 0s 24ms/step - loss: 0.2898 - mae: 0.4688 - mse: 0.2898 - val_loss: 0.4510 - val_mae: 0.5786 - val_mse: 0.4510\n",
            "Epoch 16/100\n",
            "5/5 [==============================] - 0s 26ms/step - loss: 0.2893 - mae: 0.4685 - mse: 0.2893 - val_loss: 0.4510 - val_mae: 0.5786 - val_mse: 0.4510\n",
            "Epoch 17/100\n",
            "5/5 [==============================] - 0s 26ms/step - loss: 0.2893 - mae: 0.4684 - mse: 0.2893 - val_loss: 0.4509 - val_mae: 0.5785 - val_mse: 0.4509\n",
            "Epoch 18/100\n",
            "5/5 [==============================] - 0s 19ms/step - loss: 0.2895 - mae: 0.4687 - mse: 0.2895 - val_loss: 0.4509 - val_mae: 0.5785 - val_mse: 0.4509\n",
            "Epoch 19/100\n",
            "5/5 [==============================] - 0s 21ms/step - loss: 0.2892 - mae: 0.4684 - mse: 0.2892 - val_loss: 0.4508 - val_mae: 0.5784 - val_mse: 0.4508\n",
            "Epoch 20/100\n",
            "5/5 [==============================] - 0s 28ms/step - loss: 0.2891 - mae: 0.4682 - mse: 0.2891 - val_loss: 0.4508 - val_mae: 0.5784 - val_mse: 0.4508\n",
            "Epoch 21/100\n",
            "5/5 [==============================] - 0s 23ms/step - loss: 0.2884 - mae: 0.4676 - mse: 0.2884 - val_loss: 0.4507 - val_mae: 0.5784 - val_mse: 0.4507\n",
            "Epoch 22/100\n",
            "5/5 [==============================] - 0s 25ms/step - loss: 0.2895 - mae: 0.4685 - mse: 0.2895 - val_loss: 0.4506 - val_mae: 0.5783 - val_mse: 0.4506\n",
            "Epoch 23/100\n",
            "5/5 [==============================] - 0s 24ms/step - loss: 0.2896 - mae: 0.4686 - mse: 0.2896 - val_loss: 0.4506 - val_mae: 0.5783 - val_mse: 0.4506\n",
            "Epoch 24/100\n",
            "5/5 [==============================] - 0s 29ms/step - loss: 0.2890 - mae: 0.4681 - mse: 0.2890 - val_loss: 0.4505 - val_mae: 0.5782 - val_mse: 0.4505\n",
            "Epoch 25/100\n",
            "5/5 [==============================] - 0s 27ms/step - loss: 0.2898 - mae: 0.4687 - mse: 0.2898 - val_loss: 0.4505 - val_mae: 0.5782 - val_mse: 0.4505\n",
            "Epoch 26/100\n",
            "5/5 [==============================] - 0s 20ms/step - loss: 0.2892 - mae: 0.4682 - mse: 0.2892 - val_loss: 0.4504 - val_mae: 0.5781 - val_mse: 0.4504\n",
            "Epoch 27/100\n",
            "5/5 [==============================] - 0s 21ms/step - loss: 0.2887 - mae: 0.4679 - mse: 0.2887 - val_loss: 0.4504 - val_mae: 0.5781 - val_mse: 0.4504\n",
            "Epoch 28/100\n",
            "5/5 [==============================] - 0s 20ms/step - loss: 0.2892 - mae: 0.4683 - mse: 0.2892 - val_loss: 0.4503 - val_mae: 0.5780 - val_mse: 0.4503\n",
            "Epoch 29/100\n",
            "5/5 [==============================] - 0s 25ms/step - loss: 0.2884 - mae: 0.4677 - mse: 0.2884 - val_loss: 0.4503 - val_mae: 0.5780 - val_mse: 0.4503\n",
            "Epoch 30/100\n",
            "5/5 [==============================] - 0s 20ms/step - loss: 0.2892 - mae: 0.4684 - mse: 0.2892 - val_loss: 0.4502 - val_mae: 0.5780 - val_mse: 0.4502\n",
            "Epoch 31/100\n",
            "5/5 [==============================] - 0s 25ms/step - loss: 0.2887 - mae: 0.4679 - mse: 0.2887 - val_loss: 0.4502 - val_mae: 0.5779 - val_mse: 0.4502\n",
            "Epoch 32/100\n",
            "5/5 [==============================] - 0s 20ms/step - loss: 0.2888 - mae: 0.4680 - mse: 0.2888 - val_loss: 0.4501 - val_mae: 0.5779 - val_mse: 0.4501\n",
            "Epoch 33/100\n",
            "5/5 [==============================] - 0s 26ms/step - loss: 0.2890 - mae: 0.4680 - mse: 0.2890 - val_loss: 0.4501 - val_mae: 0.5778 - val_mse: 0.4501\n",
            "Epoch 34/100\n",
            "5/5 [==============================] - 0s 21ms/step - loss: 0.2887 - mae: 0.4679 - mse: 0.2887 - val_loss: 0.4500 - val_mae: 0.5778 - val_mse: 0.4500\n",
            "Epoch 35/100\n",
            "5/5 [==============================] - 0s 23ms/step - loss: 0.2890 - mae: 0.4680 - mse: 0.2890 - val_loss: 0.4500 - val_mae: 0.5777 - val_mse: 0.4500\n",
            "Epoch 36/100\n",
            "5/5 [==============================] - 0s 23ms/step - loss: 0.2888 - mae: 0.4678 - mse: 0.2888 - val_loss: 0.4499 - val_mae: 0.5777 - val_mse: 0.4499\n",
            "Epoch 37/100\n",
            "5/5 [==============================] - 0s 24ms/step - loss: 0.2885 - mae: 0.4675 - mse: 0.2885 - val_loss: 0.4499 - val_mae: 0.5777 - val_mse: 0.4499\n",
            "Epoch 38/100\n",
            "5/5 [==============================] - 0s 29ms/step - loss: 0.2880 - mae: 0.4673 - mse: 0.2880 - val_loss: 0.4498 - val_mae: 0.5776 - val_mse: 0.4498\n",
            "Epoch 39/100\n",
            "5/5 [==============================] - 0s 24ms/step - loss: 0.2886 - mae: 0.4678 - mse: 0.2886 - val_loss: 0.4498 - val_mae: 0.5776 - val_mse: 0.4498\n",
            "Epoch 40/100\n",
            "5/5 [==============================] - 0s 19ms/step - loss: 0.2885 - mae: 0.4677 - mse: 0.2885 - val_loss: 0.4497 - val_mae: 0.5775 - val_mse: 0.4497\n",
            "Epoch 41/100\n",
            "5/5 [==============================] - 0s 21ms/step - loss: 0.2885 - mae: 0.4677 - mse: 0.2885 - val_loss: 0.4496 - val_mae: 0.5775 - val_mse: 0.4496\n",
            "Epoch 42/100\n",
            "5/5 [==============================] - 0s 23ms/step - loss: 0.2884 - mae: 0.4675 - mse: 0.2884 - val_loss: 0.4496 - val_mae: 0.5775 - val_mse: 0.4496\n",
            "Epoch 43/100\n",
            "5/5 [==============================] - 0s 28ms/step - loss: 0.2886 - mae: 0.4677 - mse: 0.2886 - val_loss: 0.4495 - val_mae: 0.5774 - val_mse: 0.4495\n",
            "Epoch 44/100\n",
            "5/5 [==============================] - 0s 32ms/step - loss: 0.2882 - mae: 0.4674 - mse: 0.2882 - val_loss: 0.4495 - val_mae: 0.5774 - val_mse: 0.4495\n",
            "Epoch 45/100\n",
            "5/5 [==============================] - 0s 32ms/step - loss: 0.2884 - mae: 0.4675 - mse: 0.2884 - val_loss: 0.4494 - val_mae: 0.5773 - val_mse: 0.4494\n",
            "Epoch 46/100\n",
            "5/5 [==============================] - 0s 33ms/step - loss: 0.2884 - mae: 0.4675 - mse: 0.2884 - val_loss: 0.4494 - val_mae: 0.5773 - val_mse: 0.4494\n",
            "Epoch 47/100\n",
            "5/5 [==============================] - 0s 36ms/step - loss: 0.2877 - mae: 0.4669 - mse: 0.2877 - val_loss: 0.4493 - val_mae: 0.5773 - val_mse: 0.4493\n",
            "Epoch 48/100\n",
            "5/5 [==============================] - 0s 35ms/step - loss: 0.2883 - mae: 0.4673 - mse: 0.2883 - val_loss: 0.4493 - val_mae: 0.5772 - val_mse: 0.4493\n",
            "Epoch 49/100\n",
            "5/5 [==============================] - 0s 37ms/step - loss: 0.2881 - mae: 0.4672 - mse: 0.2881 - val_loss: 0.4493 - val_mae: 0.5772 - val_mse: 0.4493\n",
            "Epoch 50/100\n",
            "5/5 [==============================] - 0s 34ms/step - loss: 0.2879 - mae: 0.4671 - mse: 0.2879 - val_loss: 0.4492 - val_mae: 0.5771 - val_mse: 0.4492\n",
            "Epoch 51/100\n",
            "5/5 [==============================] - 0s 35ms/step - loss: 0.2875 - mae: 0.4667 - mse: 0.2875 - val_loss: 0.4492 - val_mae: 0.5771 - val_mse: 0.4492\n",
            "Epoch 52/100\n",
            "5/5 [==============================] - 0s 35ms/step - loss: 0.2877 - mae: 0.4670 - mse: 0.2877 - val_loss: 0.4491 - val_mae: 0.5771 - val_mse: 0.4491\n",
            "Epoch 53/100\n",
            "5/5 [==============================] - 0s 30ms/step - loss: 0.2880 - mae: 0.4671 - mse: 0.2880 - val_loss: 0.4491 - val_mae: 0.5770 - val_mse: 0.4491\n",
            "Epoch 54/100\n",
            "5/5 [==============================] - 0s 33ms/step - loss: 0.2879 - mae: 0.4669 - mse: 0.2879 - val_loss: 0.4490 - val_mae: 0.5770 - val_mse: 0.4490\n",
            "Epoch 55/100\n",
            "5/5 [==============================] - 0s 30ms/step - loss: 0.2881 - mae: 0.4671 - mse: 0.2881 - val_loss: 0.4490 - val_mae: 0.5769 - val_mse: 0.4490\n",
            "Epoch 56/100\n",
            "5/5 [==============================] - 0s 29ms/step - loss: 0.2876 - mae: 0.4668 - mse: 0.2876 - val_loss: 0.4489 - val_mae: 0.5769 - val_mse: 0.4489\n",
            "Epoch 57/100\n",
            "5/5 [==============================] - 0s 33ms/step - loss: 0.2878 - mae: 0.4669 - mse: 0.2878 - val_loss: 0.4489 - val_mae: 0.5769 - val_mse: 0.4489\n",
            "Epoch 58/100\n",
            "5/5 [==============================] - 0s 34ms/step - loss: 0.2878 - mae: 0.4668 - mse: 0.2878 - val_loss: 0.4488 - val_mae: 0.5768 - val_mse: 0.4488\n",
            "Epoch 59/100\n",
            "5/5 [==============================] - 0s 33ms/step - loss: 0.2881 - mae: 0.4671 - mse: 0.2881 - val_loss: 0.4488 - val_mae: 0.5768 - val_mse: 0.4488\n",
            "Epoch 60/100\n",
            "5/5 [==============================] - 0s 30ms/step - loss: 0.2882 - mae: 0.4671 - mse: 0.2882 - val_loss: 0.4487 - val_mae: 0.5767 - val_mse: 0.4487\n",
            "Epoch 61/100\n",
            "5/5 [==============================] - 0s 34ms/step - loss: 0.2873 - mae: 0.4665 - mse: 0.2873 - val_loss: 0.4487 - val_mae: 0.5767 - val_mse: 0.4487\n",
            "Epoch 62/100\n",
            "5/5 [==============================] - 0s 31ms/step - loss: 0.2875 - mae: 0.4667 - mse: 0.2875 - val_loss: 0.4486 - val_mae: 0.5767 - val_mse: 0.4486\n",
            "Epoch 63/100\n",
            "5/5 [==============================] - 0s 35ms/step - loss: 0.2871 - mae: 0.4663 - mse: 0.2871 - val_loss: 0.4486 - val_mae: 0.5766 - val_mse: 0.4486\n",
            "Epoch 64/100\n",
            "5/5 [==============================] - 0s 24ms/step - loss: 0.2872 - mae: 0.4664 - mse: 0.2872 - val_loss: 0.4485 - val_mae: 0.5766 - val_mse: 0.4485\n",
            "Epoch 65/100\n",
            "5/5 [==============================] - 0s 25ms/step - loss: 0.2871 - mae: 0.4663 - mse: 0.2871 - val_loss: 0.4485 - val_mae: 0.5765 - val_mse: 0.4485\n",
            "Epoch 66/100\n",
            "5/5 [==============================] - 0s 28ms/step - loss: 0.2880 - mae: 0.4669 - mse: 0.2880 - val_loss: 0.4484 - val_mae: 0.5765 - val_mse: 0.4484\n",
            "Epoch 67/100\n",
            "5/5 [==============================] - 0s 21ms/step - loss: 0.2878 - mae: 0.4668 - mse: 0.2878 - val_loss: 0.4484 - val_mae: 0.5765 - val_mse: 0.4484\n",
            "Epoch 68/100\n",
            "5/5 [==============================] - 0s 22ms/step - loss: 0.2870 - mae: 0.4661 - mse: 0.2870 - val_loss: 0.4483 - val_mae: 0.5764 - val_mse: 0.4483\n",
            "Epoch 69/100\n",
            "5/5 [==============================] - 0s 27ms/step - loss: 0.2874 - mae: 0.4664 - mse: 0.2874 - val_loss: 0.4483 - val_mae: 0.5764 - val_mse: 0.4483\n",
            "Epoch 70/100\n",
            "5/5 [==============================] - 0s 23ms/step - loss: 0.2873 - mae: 0.4664 - mse: 0.2873 - val_loss: 0.4483 - val_mae: 0.5764 - val_mse: 0.4483\n",
            "Epoch 71/100\n",
            "5/5 [==============================] - 0s 27ms/step - loss: 0.2869 - mae: 0.4662 - mse: 0.2869 - val_loss: 0.4482 - val_mae: 0.5763 - val_mse: 0.4482\n",
            "Epoch 72/100\n",
            "5/5 [==============================] - 0s 21ms/step - loss: 0.2871 - mae: 0.4662 - mse: 0.2871 - val_loss: 0.4482 - val_mae: 0.5763 - val_mse: 0.4482\n",
            "Epoch 73/100\n",
            "5/5 [==============================] - 0s 24ms/step - loss: 0.2874 - mae: 0.4664 - mse: 0.2874 - val_loss: 0.4481 - val_mae: 0.5762 - val_mse: 0.4481\n",
            "Epoch 74/100\n",
            "5/5 [==============================] - 0s 21ms/step - loss: 0.2871 - mae: 0.4661 - mse: 0.2871 - val_loss: 0.4481 - val_mae: 0.5762 - val_mse: 0.4481\n",
            "Epoch 75/100\n",
            "5/5 [==============================] - 0s 27ms/step - loss: 0.2863 - mae: 0.4657 - mse: 0.2863 - val_loss: 0.4480 - val_mae: 0.5762 - val_mse: 0.4480\n",
            "Epoch 76/100\n",
            "5/5 [==============================] - 0s 21ms/step - loss: 0.2867 - mae: 0.4658 - mse: 0.2867 - val_loss: 0.4480 - val_mae: 0.5761 - val_mse: 0.4480\n",
            "Epoch 77/100\n",
            "5/5 [==============================] - 0s 21ms/step - loss: 0.2873 - mae: 0.4663 - mse: 0.2873 - val_loss: 0.4479 - val_mae: 0.5761 - val_mse: 0.4479\n",
            "Epoch 78/100\n",
            "5/5 [==============================] - 0s 20ms/step - loss: 0.2869 - mae: 0.4660 - mse: 0.2869 - val_loss: 0.4479 - val_mae: 0.5761 - val_mse: 0.4479\n",
            "Epoch 79/100\n",
            "5/5 [==============================] - 0s 21ms/step - loss: 0.2873 - mae: 0.4663 - mse: 0.2873 - val_loss: 0.4478 - val_mae: 0.5760 - val_mse: 0.4478\n",
            "Epoch 80/100\n",
            "5/5 [==============================] - 0s 21ms/step - loss: 0.2865 - mae: 0.4656 - mse: 0.2865 - val_loss: 0.4478 - val_mae: 0.5760 - val_mse: 0.4478\n",
            "Epoch 81/100\n",
            "5/5 [==============================] - 0s 23ms/step - loss: 0.2864 - mae: 0.4656 - mse: 0.2864 - val_loss: 0.4477 - val_mae: 0.5759 - val_mse: 0.4477\n",
            "Epoch 82/100\n",
            "5/5 [==============================] - 0s 23ms/step - loss: 0.2869 - mae: 0.4659 - mse: 0.2869 - val_loss: 0.4477 - val_mae: 0.5759 - val_mse: 0.4477\n",
            "Epoch 83/100\n",
            "5/5 [==============================] - 0s 24ms/step - loss: 0.2872 - mae: 0.4662 - mse: 0.2872 - val_loss: 0.4477 - val_mae: 0.5759 - val_mse: 0.4477\n",
            "Epoch 84/100\n",
            "5/5 [==============================] - 0s 26ms/step - loss: 0.2862 - mae: 0.4654 - mse: 0.2862 - val_loss: 0.4476 - val_mae: 0.5758 - val_mse: 0.4476\n",
            "Epoch 85/100\n",
            "5/5 [==============================] - 0s 25ms/step - loss: 0.2868 - mae: 0.4658 - mse: 0.2868 - val_loss: 0.4476 - val_mae: 0.5758 - val_mse: 0.4476\n",
            "Epoch 86/100\n",
            "5/5 [==============================] - 0s 26ms/step - loss: 0.2861 - mae: 0.4654 - mse: 0.2861 - val_loss: 0.4475 - val_mae: 0.5758 - val_mse: 0.4475\n",
            "Epoch 87/100\n",
            "5/5 [==============================] - 0s 27ms/step - loss: 0.2866 - mae: 0.4657 - mse: 0.2866 - val_loss: 0.4475 - val_mae: 0.5757 - val_mse: 0.4475\n",
            "Epoch 88/100\n",
            "5/5 [==============================] - 0s 24ms/step - loss: 0.2865 - mae: 0.4656 - mse: 0.2865 - val_loss: 0.4474 - val_mae: 0.5757 - val_mse: 0.4474\n",
            "Epoch 89/100\n",
            "5/5 [==============================] - 0s 21ms/step - loss: 0.2867 - mae: 0.4657 - mse: 0.2867 - val_loss: 0.4474 - val_mae: 0.5757 - val_mse: 0.4474\n",
            "Epoch 90/100\n",
            "5/5 [==============================] - 0s 24ms/step - loss: 0.2861 - mae: 0.4655 - mse: 0.2861 - val_loss: 0.4474 - val_mae: 0.5756 - val_mse: 0.4474\n",
            "Epoch 91/100\n",
            "5/5 [==============================] - 0s 21ms/step - loss: 0.2866 - mae: 0.4656 - mse: 0.2866 - val_loss: 0.4473 - val_mae: 0.5756 - val_mse: 0.4473\n",
            "Epoch 92/100\n",
            "5/5 [==============================] - 0s 20ms/step - loss: 0.2868 - mae: 0.4658 - mse: 0.2868 - val_loss: 0.4473 - val_mae: 0.5755 - val_mse: 0.4473\n",
            "Epoch 93/100\n",
            "5/5 [==============================] - 0s 26ms/step - loss: 0.2863 - mae: 0.4653 - mse: 0.2863 - val_loss: 0.4472 - val_mae: 0.5755 - val_mse: 0.4472\n",
            "Epoch 94/100\n",
            "5/5 [==============================] - 0s 28ms/step - loss: 0.2863 - mae: 0.4654 - mse: 0.2863 - val_loss: 0.4472 - val_mae: 0.5755 - val_mse: 0.4472\n",
            "Epoch 95/100\n",
            "5/5 [==============================] - 0s 25ms/step - loss: 0.2859 - mae: 0.4651 - mse: 0.2859 - val_loss: 0.4471 - val_mae: 0.5754 - val_mse: 0.4471\n",
            "Epoch 96/100\n",
            "5/5 [==============================] - 0s 25ms/step - loss: 0.2866 - mae: 0.4656 - mse: 0.2866 - val_loss: 0.4471 - val_mae: 0.5754 - val_mse: 0.4471\n",
            "Epoch 97/100\n",
            "5/5 [==============================] - 0s 25ms/step - loss: 0.2860 - mae: 0.4651 - mse: 0.2860 - val_loss: 0.4470 - val_mae: 0.5754 - val_mse: 0.4470\n",
            "Epoch 98/100\n",
            "5/5 [==============================] - 0s 25ms/step - loss: 0.2860 - mae: 0.4652 - mse: 0.2860 - val_loss: 0.4470 - val_mae: 0.5753 - val_mse: 0.4470\n",
            "Epoch 99/100\n",
            "5/5 [==============================] - 0s 20ms/step - loss: 0.2860 - mae: 0.4651 - mse: 0.2860 - val_loss: 0.4470 - val_mae: 0.5753 - val_mse: 0.4470\n",
            "Epoch 100/100\n",
            "5/5 [==============================] - 0s 20ms/step - loss: 0.2862 - mae: 0.4653 - mse: 0.2862 - val_loss: 0.4469 - val_mae: 0.5753 - val_mse: 0.4469\n"
          ]
        }
      ],
      "source": [
        "TUGRU_model.compile(loss = 'mse', optimizer= tf.keras.optimizers.Adagrad(learning_rate=0.00010), metrics= ['mae', 'mse'])\n",
        "#TUGRU_model.compile(optimizer='rmsprop',loss='mse',metrics=['mse']),\n",
        "history = TUGRU_model.fit(X_train, y_train, epochs=100, batch_size=16,validation_split=0.2,shuffle=False) # 80/160"
      ]
    },
    {
      "cell_type": "markdown",
      "metadata": {
        "id": "4KLve2-WilBF"
      },
      "source": [
        "Plot Model Loss"
      ]
    },
    {
      "cell_type": "code",
      "execution_count": 106,
      "metadata": {
        "colab": {
          "base_uri": "https://localhost:8080/",
          "height": 438
        },
        "id": "DXBeY_MGZSMP",
        "outputId": "9db17082-9a37-4da1-f24e-66a04d63ee6d"
      },
      "outputs": [
        {
          "output_type": "execute_result",
          "data": {
            "text/plain": [
              "<Figure size 720x360 with 0 Axes>"
            ]
          },
          "metadata": {},
          "execution_count": 106
        },
        {
          "output_type": "display_data",
          "data": {
            "text/plain": [
              "<Figure size 720x360 with 1 Axes>"
            ],
            "image/png": "[encoded data removed]"
          },
          "metadata": {}
        },
        {
          "output_type": "display_data",
          "data": {
            "text/plain": [
              "<Figure size 720x360 with 0 Axes>"
            ]
          },
          "metadata": {}
        }
      ],
      "source": [
        "loss = history.history['loss']\n",
        "val_loss = history.history['val_loss']\n",
        "\n",
        "epochs=range(len(loss)) \n",
        "\n",
        "\n",
        "#------------------------------------------------\n",
        "# Plot training and validation loss per epoch\n",
        "#------------------------------------------------\n",
        "plt.plot(epochs, loss, 'r',label='loss')\n",
        "plt.plot(epochs,val_loss,'blue',label='val loss')\n",
        "plt.title('Training loss & Val Loss by Epochs')\n",
        "plt.xlabel(\"Epochs\")\n",
        "plt.ylabel(\"Loss\")\n",
        "plt.legend()\n",
        "\n",
        "plt.figure()"
      ]
    },
    {
      "cell_type": "code",
      "execution_count": 107,
      "metadata": {
        "colab": {
          "base_uri": "https://localhost:8080/"
        },
        "id": "lHiuk7B6iQVK",
        "outputId": "f3ae9c3b-5b9d-41a3-8859-43a8bc2fdc60"
      },
      "outputs": [
        {
          "output_type": "stream",
          "name": "stderr",
          "text": [
            "WARNING:tensorflow:5 out of the last 5 calls to <function Model.make_predict_function.<locals>.predict_function at 0x7f1c5af36430> triggered tf.function retracing. Tracing is expensive and the excessive number of tracings could be due to (1) creating @tf.function repeatedly in a loop, (2) passing tensors with different shapes, (3) passing Python objects instead of tensors. For (1), please define your @tf.function outside of the loop. For (2), @tf.function has reduce_retracing=True option that can avoid unnecessary retracing. For (3), please refer to https://www.tensorflow.org/guide/function#controlling_retracing and https://www.tensorflow.org/api_docs/python/tf/function for  more details.\n"
          ]
        },
        {
          "output_type": "stream",
          "name": "stdout",
          "text": [
            "1/1 [==============================] - 3s 3s/step\n"
          ]
        },
        {
          "output_type": "execute_result",
          "data": {
            "text/plain": [
              "array([[ 0.01096811,  0.01855623,  0.00199695, ..., -0.01446886,\n",
              "         0.05269959,  0.02961335],\n",
              "       [ 0.0089967 ,  0.01741239,  0.00406117, ..., -0.01328213,\n",
              "         0.05121772,  0.02870728],\n",
              "       [ 0.01036966,  0.01718417,  0.00591581, ..., -0.01219559,\n",
              "         0.05372265,  0.02838765],\n",
              "       ...,\n",
              "       [ 0.01332157,  0.02040021,  0.01048873, ..., -0.00312519,\n",
              "         0.03747742,  0.01913496],\n",
              "       [ 0.01480518,  0.01999473,  0.01157657, ..., -0.00279807,\n",
              "         0.03899818,  0.01869722],\n",
              "       [ 0.01487106,  0.01949716,  0.01158787, ..., -0.0031056 ,\n",
              "         0.04278177,  0.01916537]], dtype=float32)"
            ]
          },
          "metadata": {},
          "execution_count": 107
        }
      ],
      "source": [
        "y_predTU = TUGRU_model.predict(X_test)\n",
        "y_predTU"
      ]
    },
    {
      "cell_type": "code",
      "execution_count": 108,
      "metadata": {
        "colab": {
          "base_uri": "https://localhost:8080/"
        },
        "id": "JbqyY5OriQYh",
        "outputId": "28d0794f-557c-49a6-b9db-ea2a15a87637"
      },
      "outputs": [
        {
          "output_type": "execute_result",
          "data": {
            "text/plain": [
              "array([[ 0.01096811,  0.01855623,  0.00199695, ..., -0.0031056 ,\n",
              "         0.04278177,  0.01916537]], dtype=float32)"
            ]
          },
          "metadata": {},
          "execution_count": 108
        }
      ],
      "source": [
        "y_predTU.reshape(1,-1)"
      ]
    },
    {
      "cell_type": "markdown",
      "metadata": {
        "id": "XXPkM7CFsB5U"
      },
      "source": [
        "###Invert Transformed Tuned Data"
      ]
    },
    {
      "cell_type": "code",
      "execution_count": 109,
      "metadata": {
        "colab": {
          "base_uri": "https://localhost:8080/"
        },
        "id": "gZ8inWeYy64m",
        "outputId": "f3eb53cb-aeb5-4aaf-b8b3-ff75f2e1ef5c"
      },
      "outputs": [
        {
          "output_type": "stream",
          "name": "stdout",
          "text": [
            "[[376. 383. 382. 396. 402. 390. 404. 382. 382. 391. 396. 413. 401. 410.\n",
            "  425. 408. 392. 371. 356. 362. 356. 352. 333. 357. 411. 404. 387. 395.\n",
            "  434. 488. 508. 494. 575. 614. 616. 707. 719. 655. 661. 687. 625. 611.\n",
            "  631. 655. 616. 586. 615. 607. 590. 535. 518. 519. 562. 552. 508. 476.\n",
            "  513. 545. 532. 550. 561. 567. 580. 559. 562. 553. 533. 498. 504. 525.\n",
            "  547. 556. 566. 621. 659. 671. 688. 705. 633. 661. 674. 703. 694. 681.\n",
            "  663. 632. 561. 497. 509. 475. 392. 319. 354. 388. 381. 370.]]\n",
            "[[349. 372. 324. 315. 312. 306. 288. 255. 257. 265. 254. 240. 254. 251.\n",
            "  234. 255. 330. 362. 310. 277. 323. 360.]]\n",
            "[[323.38724 326.4225  319.79877 ... 317.75775 336.1127  326.66614]]\n"
          ]
        }
      ],
      "source": [
        "y_train_inv = cpo_pri_transformer.inverse_transform(y_train.reshape(1, -1))\n",
        "y_test_inv = cpo_pri_transformer.inverse_transform(y_test.reshape(1, -1))\n",
        "y_pred_inv = cpo_pri_transformer.inverse_transform(y_predTU.reshape(1,-1))\n",
        "print(y_train_inv)\n",
        "print(y_test_inv)\n",
        "print(y_pred_inv)"
      ]
    },
    {
      "cell_type": "code",
      "execution_count": 110,
      "metadata": {
        "id": "2g9TLmgHy7Hw",
        "outputId": "ddaf11d4-30d7-48d4-c360-0e10243ba5a3",
        "colab": {
          "base_uri": "https://localhost:8080/"
        }
      },
      "outputs": [
        {
          "output_type": "execute_result",
          "data": {
            "text/plain": [
              "array([376., 383., 382., 396., 402., 390., 404., 382., 382., 391., 396.,\n",
              "       413., 401., 410., 425., 408., 392., 371., 356., 362., 356., 352.,\n",
              "       333., 357., 411., 404., 387., 395., 434., 488., 508., 494., 575.,\n",
              "       614., 616., 707., 719., 655., 661., 687., 625., 611., 631., 655.,\n",
              "       616., 586., 615., 607., 590., 535., 518., 519., 562., 552., 508.,\n",
              "       476., 513., 545., 532., 550., 561., 567., 580., 559., 562., 553.,\n",
              "       533., 498., 504., 525., 547., 556., 566., 621., 659., 671., 688.,\n",
              "       705., 633., 661., 674., 703., 694., 681., 663., 632., 561., 497.,\n",
              "       509., 475., 392., 319., 354., 388., 381., 370.])"
            ]
          },
          "metadata": {},
          "execution_count": 110
        }
      ],
      "source": [
        "y_train_inv = y_train_inv.flatten()\n",
        "y_train_inv"
      ]
    },
    {
      "cell_type": "code",
      "execution_count": 111,
      "metadata": {
        "colab": {
          "base_uri": "https://localhost:8080/"
        },
        "id": "PDdnZUrXy7L4",
        "outputId": "0737b24b-e59e-4dab-c91f-16181c39a295"
      },
      "outputs": [
        {
          "output_type": "execute_result",
          "data": {
            "text/plain": [
              "array([349., 372., 324., 315., 312., 306., 288., 255., 257., 265., 254.,\n",
              "       240., 254., 251., 234., 255., 330., 362., 310., 277., 323., 360.])"
            ]
          },
          "metadata": {},
          "execution_count": 111
        }
      ],
      "source": [
        "y_test_inv = y_test_inv.flatten()\n",
        "y_test_inv"
      ]
    },
    {
      "cell_type": "code",
      "execution_count": 112,
      "metadata": {
        "colab": {
          "base_uri": "https://localhost:8080/"
        },
        "id": "fqq4-3-lsuEy",
        "outputId": "cfe79ecc-9647-4230-a5b1-d2a66f8b93d6"
      },
      "outputs": [
        {
          "output_type": "execute_result",
          "data": {
            "text/plain": [
              "array([323.38724, 326.4225 , 319.79877, ..., 317.75775, 336.1127 ,\n",
              "       326.66614], dtype=float32)"
            ]
          },
          "metadata": {},
          "execution_count": 112
        }
      ],
      "source": [
        "TU_GRU_Pred = y_pred_inv.flatten()   #y_pred_inv = TU_GRU_Pred\n",
        "TU_GRU_Pred"
      ]
    },
    {
      "cell_type": "code",
      "execution_count": 113,
      "metadata": {
        "colab": {
          "base_uri": "https://localhost:8080/",
          "height": 760
        },
        "id": "nBN919VXsuNq",
        "outputId": "af9d6499-dfee-47be-db1d-e908ec675114"
      },
      "outputs": [
        {
          "output_type": "error",
          "ename": "ValueError",
          "evalue": "ignored",
          "traceback": [
            "\u001b[0;31m---------------------------------------------------------------------------\u001b[0m",
            "\u001b[0;31mValueError\u001b[0m                                Traceback (most recent call last)",
            "\u001b[0;32m<ipython-input-113-455549a2e1f3>\u001b[0m in \u001b[0;36m<module>\u001b[0;34m\u001b[0m\n\u001b[1;32m      1\u001b[0m \u001b[0mplt\u001b[0m\u001b[0;34m.\u001b[0m\u001b[0mplot\u001b[0m\u001b[0;34m(\u001b[0m\u001b[0mnp\u001b[0m\u001b[0;34m.\u001b[0m\u001b[0marange\u001b[0m\u001b[0;34m(\u001b[0m\u001b[0;36m0\u001b[0m\u001b[0;34m,\u001b[0m \u001b[0mlen\u001b[0m\u001b[0;34m(\u001b[0m\u001b[0my_train\u001b[0m\u001b[0;34m)\u001b[0m\u001b[0;34m)\u001b[0m\u001b[0;34m,\u001b[0m \u001b[0my_train_inv\u001b[0m\u001b[0;34m,\u001b[0m \u001b[0mcolor\u001b[0m\u001b[0;34m=\u001b[0m\u001b[0;34m'green'\u001b[0m\u001b[0;34m,\u001b[0m \u001b[0mlabel\u001b[0m\u001b[0;34m=\u001b[0m\u001b[0;34m\"History\"\u001b[0m\u001b[0;34m)\u001b[0m\u001b[0;34m\u001b[0m\u001b[0;34m\u001b[0m\u001b[0m\n\u001b[1;32m      2\u001b[0m \u001b[0mplt\u001b[0m\u001b[0;34m.\u001b[0m\u001b[0mplot\u001b[0m\u001b[0;34m(\u001b[0m\u001b[0mnp\u001b[0m\u001b[0;34m.\u001b[0m\u001b[0marange\u001b[0m\u001b[0;34m(\u001b[0m\u001b[0mlen\u001b[0m\u001b[0;34m(\u001b[0m\u001b[0my_train\u001b[0m\u001b[0;34m)\u001b[0m\u001b[0;34m,\u001b[0m \u001b[0mlen\u001b[0m\u001b[0;34m(\u001b[0m\u001b[0my_train\u001b[0m\u001b[0;34m)\u001b[0m \u001b[0;34m+\u001b[0m \u001b[0mlen\u001b[0m\u001b[0;34m(\u001b[0m\u001b[0my_test\u001b[0m\u001b[0;34m)\u001b[0m\u001b[0;34m)\u001b[0m\u001b[0;34m,\u001b[0m \u001b[0my_test_inv\u001b[0m\u001b[0;34m,\u001b[0m \u001b[0mcolor\u001b[0m\u001b[0;34m=\u001b[0m\u001b[0;34m'blue'\u001b[0m\u001b[0;34m,\u001b[0m \u001b[0mmarker\u001b[0m\u001b[0;34m=\u001b[0m\u001b[0;34m'.'\u001b[0m\u001b[0;34m,\u001b[0m \u001b[0mlabel\u001b[0m\u001b[0;34m=\u001b[0m\u001b[0;34m\"Actual\"\u001b[0m\u001b[0;34m)\u001b[0m\u001b[0;34m\u001b[0m\u001b[0;34m\u001b[0m\u001b[0m\n\u001b[0;32m----> 3\u001b[0;31m \u001b[0mplt\u001b[0m\u001b[0;34m.\u001b[0m\u001b[0mplot\u001b[0m\u001b[0;34m(\u001b[0m\u001b[0mnp\u001b[0m\u001b[0;34m.\u001b[0m\u001b[0marange\u001b[0m\u001b[0;34m(\u001b[0m\u001b[0mlen\u001b[0m\u001b[0;34m(\u001b[0m\u001b[0my_train\u001b[0m\u001b[0;34m)\u001b[0m\u001b[0;34m,\u001b[0m \u001b[0mlen\u001b[0m\u001b[0;34m(\u001b[0m\u001b[0my_train\u001b[0m\u001b[0;34m)\u001b[0m \u001b[0;34m+\u001b[0m \u001b[0mlen\u001b[0m\u001b[0;34m(\u001b[0m\u001b[0my_test\u001b[0m\u001b[0;34m)\u001b[0m\u001b[0;34m)\u001b[0m\u001b[0;34m,\u001b[0m \u001b[0mTU_GRU_Pred\u001b[0m\u001b[0;34m,\u001b[0m \u001b[0mcolor\u001b[0m\u001b[0;34m=\u001b[0m\u001b[0;34m'red'\u001b[0m\u001b[0;34m,\u001b[0m \u001b[0mlabel\u001b[0m\u001b[0;34m=\u001b[0m\u001b[0;34m\"Tuned GRU Prediction\"\u001b[0m\u001b[0;34m)\u001b[0m\u001b[0;34m\u001b[0m\u001b[0;34m\u001b[0m\u001b[0m\n\u001b[0m\u001b[1;32m      4\u001b[0m \u001b[0mplt\u001b[0m\u001b[0;34m.\u001b[0m\u001b[0mylabel\u001b[0m\u001b[0;34m(\u001b[0m\u001b[0;34m'Crude Palm Oil Price'\u001b[0m\u001b[0;34m)\u001b[0m\u001b[0;34m\u001b[0m\u001b[0;34m\u001b[0m\u001b[0m\n\u001b[1;32m      5\u001b[0m \u001b[0mplt\u001b[0m\u001b[0;34m.\u001b[0m\u001b[0mxlabel\u001b[0m\u001b[0;34m(\u001b[0m\u001b[0;34m'Time step'\u001b[0m\u001b[0;34m)\u001b[0m\u001b[0;34m\u001b[0m\u001b[0;34m\u001b[0m\u001b[0m\n",
            "\u001b[0;32m/usr/local/lib/python3.8/dist-packages/matplotlib/pyplot.py\u001b[0m in \u001b[0;36mplot\u001b[0;34m(scalex, scaley, data, *args, **kwargs)\u001b[0m\n\u001b[1;32m   2759\u001b[0m \u001b[0;34m@\u001b[0m\u001b[0mdocstring\u001b[0m\u001b[0;34m.\u001b[0m\u001b[0mcopy\u001b[0m\u001b[0;34m(\u001b[0m\u001b[0mAxes\u001b[0m\u001b[0;34m.\u001b[0m\u001b[0mplot\u001b[0m\u001b[0;34m)\u001b[0m\u001b[0;34m\u001b[0m\u001b[0;34m\u001b[0m\u001b[0m\n\u001b[1;32m   2760\u001b[0m \u001b[0;32mdef\u001b[0m \u001b[0mplot\u001b[0m\u001b[0;34m(\u001b[0m\u001b[0;34m*\u001b[0m\u001b[0margs\u001b[0m\u001b[0;34m,\u001b[0m \u001b[0mscalex\u001b[0m\u001b[0;34m=\u001b[0m\u001b[0;32mTrue\u001b[0m\u001b[0;34m,\u001b[0m \u001b[0mscaley\u001b[0m\u001b[0;34m=\u001b[0m\u001b[0;32mTrue\u001b[0m\u001b[0;34m,\u001b[0m \u001b[0mdata\u001b[0m\u001b[0;34m=\u001b[0m\u001b[0;32mNone\u001b[0m\u001b[0;34m,\u001b[0m \u001b[0;34m**\u001b[0m\u001b[0mkwargs\u001b[0m\u001b[0;34m)\u001b[0m\u001b[0;34m:\u001b[0m\u001b[0;34m\u001b[0m\u001b[0;34m\u001b[0m\u001b[0m\n\u001b[0;32m-> 2761\u001b[0;31m     return gca().plot(\n\u001b[0m\u001b[1;32m   2762\u001b[0m         *args, scalex=scalex, scaley=scaley, **({\"data\": data} if data\n\u001b[1;32m   2763\u001b[0m         is not None else {}), **kwargs)\n",
            "\u001b[0;32m/usr/local/lib/python3.8/dist-packages/matplotlib/axes/_axes.py\u001b[0m in \u001b[0;36mplot\u001b[0;34m(self, scalex, scaley, data, *args, **kwargs)\u001b[0m\n\u001b[1;32m   1645\u001b[0m         \"\"\"\n\u001b[1;32m   1646\u001b[0m         \u001b[0mkwargs\u001b[0m \u001b[0;34m=\u001b[0m \u001b[0mcbook\u001b[0m\u001b[0;34m.\u001b[0m\u001b[0mnormalize_kwargs\u001b[0m\u001b[0;34m(\u001b[0m\u001b[0mkwargs\u001b[0m\u001b[0;34m,\u001b[0m \u001b[0mmlines\u001b[0m\u001b[0;34m.\u001b[0m\u001b[0mLine2D\u001b[0m\u001b[0;34m)\u001b[0m\u001b[0;34m\u001b[0m\u001b[0;34m\u001b[0m\u001b[0m\n\u001b[0;32m-> 1647\u001b[0;31m         \u001b[0mlines\u001b[0m \u001b[0;34m=\u001b[0m \u001b[0;34m[\u001b[0m\u001b[0;34m*\u001b[0m\u001b[0mself\u001b[0m\u001b[0;34m.\u001b[0m\u001b[0m_get_lines\u001b[0m\u001b[0;34m(\u001b[0m\u001b[0;34m*\u001b[0m\u001b[0margs\u001b[0m\u001b[0;34m,\u001b[0m \u001b[0mdata\u001b[0m\u001b[0;34m=\u001b[0m\u001b[0mdata\u001b[0m\u001b[0;34m,\u001b[0m \u001b[0;34m**\u001b[0m\u001b[0mkwargs\u001b[0m\u001b[0;34m)\u001b[0m\u001b[0;34m]\u001b[0m\u001b[0;34m\u001b[0m\u001b[0;34m\u001b[0m\u001b[0m\n\u001b[0m\u001b[1;32m   1648\u001b[0m         \u001b[0;32mfor\u001b[0m \u001b[0mline\u001b[0m \u001b[0;32min\u001b[0m \u001b[0mlines\u001b[0m\u001b[0;34m:\u001b[0m\u001b[0;34m\u001b[0m\u001b[0;34m\u001b[0m\u001b[0m\n\u001b[1;32m   1649\u001b[0m             \u001b[0mself\u001b[0m\u001b[0;34m.\u001b[0m\u001b[0madd_line\u001b[0m\u001b[0;34m(\u001b[0m\u001b[0mline\u001b[0m\u001b[0;34m)\u001b[0m\u001b[0;34m\u001b[0m\u001b[0;34m\u001b[0m\u001b[0m\n",
            "\u001b[0;32m/usr/local/lib/python3.8/dist-packages/matplotlib/axes/_base.py\u001b[0m in \u001b[0;36m__call__\u001b[0;34m(self, *args, **kwargs)\u001b[0m\n\u001b[1;32m    214\u001b[0m                 \u001b[0mthis\u001b[0m \u001b[0;34m+=\u001b[0m \u001b[0margs\u001b[0m\u001b[0;34m[\u001b[0m\u001b[0;36m0\u001b[0m\u001b[0;34m]\u001b[0m\u001b[0;34m,\u001b[0m\u001b[0;34m\u001b[0m\u001b[0;34m\u001b[0m\u001b[0m\n\u001b[1;32m    215\u001b[0m                 \u001b[0margs\u001b[0m \u001b[0;34m=\u001b[0m \u001b[0margs\u001b[0m\u001b[0;34m[\u001b[0m\u001b[0;36m1\u001b[0m\u001b[0;34m:\u001b[0m\u001b[0;34m]\u001b[0m\u001b[0;34m\u001b[0m\u001b[0;34m\u001b[0m\u001b[0m\n\u001b[0;32m--> 216\u001b[0;31m             \u001b[0;32myield\u001b[0m \u001b[0;32mfrom\u001b[0m \u001b[0mself\u001b[0m\u001b[0;34m.\u001b[0m\u001b[0m_plot_args\u001b[0m\u001b[0;34m(\u001b[0m\u001b[0mthis\u001b[0m\u001b[0;34m,\u001b[0m \u001b[0mkwargs\u001b[0m\u001b[0;34m)\u001b[0m\u001b[0;34m\u001b[0m\u001b[0;34m\u001b[0m\u001b[0m\n\u001b[0m\u001b[1;32m    217\u001b[0m \u001b[0;34m\u001b[0m\u001b[0m\n\u001b[1;32m    218\u001b[0m     \u001b[0;32mdef\u001b[0m \u001b[0mget_next_color\u001b[0m\u001b[0;34m(\u001b[0m\u001b[0mself\u001b[0m\u001b[0;34m)\u001b[0m\u001b[0;34m:\u001b[0m\u001b[0;34m\u001b[0m\u001b[0;34m\u001b[0m\u001b[0m\n",
            "\u001b[0;32m/usr/local/lib/python3.8/dist-packages/matplotlib/axes/_base.py\u001b[0m in \u001b[0;36m_plot_args\u001b[0;34m(self, tup, kwargs)\u001b[0m\n\u001b[1;32m    340\u001b[0m \u001b[0;34m\u001b[0m\u001b[0m\n\u001b[1;32m    341\u001b[0m         \u001b[0;32mif\u001b[0m \u001b[0mx\u001b[0m\u001b[0;34m.\u001b[0m\u001b[0mshape\u001b[0m\u001b[0;34m[\u001b[0m\u001b[0;36m0\u001b[0m\u001b[0;34m]\u001b[0m \u001b[0;34m!=\u001b[0m \u001b[0my\u001b[0m\u001b[0;34m.\u001b[0m\u001b[0mshape\u001b[0m\u001b[0;34m[\u001b[0m\u001b[0;36m0\u001b[0m\u001b[0;34m]\u001b[0m\u001b[0;34m:\u001b[0m\u001b[0;34m\u001b[0m\u001b[0;34m\u001b[0m\u001b[0m\n\u001b[0;32m--> 342\u001b[0;31m             raise ValueError(f\"x and y must have same first dimension, but \"\n\u001b[0m\u001b[1;32m    343\u001b[0m                              f\"have shapes {x.shape} and {y.shape}\")\n\u001b[1;32m    344\u001b[0m         \u001b[0;32mif\u001b[0m \u001b[0mx\u001b[0m\u001b[0;34m.\u001b[0m\u001b[0mndim\u001b[0m \u001b[0;34m>\u001b[0m \u001b[0;36m2\u001b[0m \u001b[0;32mor\u001b[0m \u001b[0my\u001b[0m\u001b[0;34m.\u001b[0m\u001b[0mndim\u001b[0m \u001b[0;34m>\u001b[0m \u001b[0;36m2\u001b[0m\u001b[0;34m:\u001b[0m\u001b[0;34m\u001b[0m\u001b[0;34m\u001b[0m\u001b[0m\n",
            "\u001b[0;31mValueError\u001b[0m: x and y must have same first dimension, but have shapes (22,) and (1012,)"
          ]
        },
        {
          "output_type": "display_data",
          "data": {
            "text/plain": [
              "<Figure size 720x360 with 1 Axes>"
            ],
            "image/png": "[encoded data removed]"
          },
          "metadata": {}
        }
      ],
      "source": [
        "plt.plot(np.arange(0, len(y_train)), y_train_inv, color='green', label=\"History\")\n",
        "plt.plot(np.arange(len(y_train), len(y_train) + len(y_test)), y_test_inv, color='blue', marker='.', label=\"Actual\")\n",
        "plt.plot(np.arange(len(y_train), len(y_train) + len(y_test)), TU_GRU_Pred, color='red', label=\"Tuned GRU Prediction\")\n",
        "plt.ylabel('Crude Palm Oil Price')\n",
        "plt.xlabel('Time step')\n",
        "plt.legend()\n",
        "plt.show();"
      ]
    },
    {
      "cell_type": "code",
      "execution_count": 82,
      "metadata": {
        "colab": {
          "base_uri": "https://localhost:8080/",
          "height": 402
        },
        "id": "FqciJO0esuRc",
        "outputId": "68c0fdb5-0bcc-4400-994f-ae57fc8c07ce"
      },
      "outputs": [
        {
          "output_type": "error",
          "ename": "ValueError",
          "evalue": "ignored",
          "traceback": [
            "\u001b[0;31m---------------------------------------------------------------------------\u001b[0m",
            "\u001b[0;31mValueError\u001b[0m                                Traceback (most recent call last)",
            "\u001b[0;32m<ipython-input-82-2b6c159aee95>\u001b[0m in \u001b[0;36m<module>\u001b[0;34m\u001b[0m\n\u001b[0;32m----> 1\u001b[0;31m \u001b[0mTUMAE_GRU\u001b[0m \u001b[0;34m=\u001b[0m \u001b[0mmean_absolute_error\u001b[0m\u001b[0;34m(\u001b[0m\u001b[0my_test_inv\u001b[0m\u001b[0;34m,\u001b[0m \u001b[0mTU_GRU_Pred\u001b[0m\u001b[0;34m)\u001b[0m\u001b[0;34m\u001b[0m\u001b[0;34m\u001b[0m\u001b[0m\n\u001b[0m\u001b[1;32m      2\u001b[0m \u001b[0mprint\u001b[0m\u001b[0;34m(\u001b[0m\u001b[0;34m'MAE value of the GRU Model is:'\u001b[0m\u001b[0;34m,\u001b[0m \u001b[0mTUMAE_GRU\u001b[0m\u001b[0;34m)\u001b[0m\u001b[0;34m\u001b[0m\u001b[0;34m\u001b[0m\u001b[0m\n\u001b[1;32m      3\u001b[0m \u001b[0;34m\u001b[0m\u001b[0m\n\u001b[1;32m      4\u001b[0m \u001b[0mTUMDA_GRU\u001b[0m \u001b[0;34m=\u001b[0m \u001b[0mmda\u001b[0m\u001b[0;34m(\u001b[0m\u001b[0my_test_inv\u001b[0m\u001b[0;34m,\u001b[0m \u001b[0mTU_GRU_Pred\u001b[0m\u001b[0;34m)\u001b[0m\u001b[0;34m\u001b[0m\u001b[0;34m\u001b[0m\u001b[0m\n\u001b[1;32m      5\u001b[0m \u001b[0mprint\u001b[0m\u001b[0;34m(\u001b[0m\u001b[0;34m'MDA value of the tuned GRU Model is:'\u001b[0m\u001b[0;34m,\u001b[0m \u001b[0mTUMDA_GRU\u001b[0m\u001b[0;34m)\u001b[0m\u001b[0;34m\u001b[0m\u001b[0;34m\u001b[0m\u001b[0m\n",
            "\u001b[0;32m/usr/local/lib/python3.8/dist-packages/sklearn/metrics/_regression.py\u001b[0m in \u001b[0;36mmean_absolute_error\u001b[0;34m(y_true, y_pred, sample_weight, multioutput)\u001b[0m\n\u001b[1;32m    189\u001b[0m     \u001b[0;36m0.85\u001b[0m\u001b[0;34m...\u001b[0m\u001b[0;34m\u001b[0m\u001b[0;34m\u001b[0m\u001b[0m\n\u001b[1;32m    190\u001b[0m     \"\"\"\n\u001b[0;32m--> 191\u001b[0;31m     y_type, y_true, y_pred, multioutput = _check_reg_targets(\n\u001b[0m\u001b[1;32m    192\u001b[0m         \u001b[0my_true\u001b[0m\u001b[0;34m,\u001b[0m \u001b[0my_pred\u001b[0m\u001b[0;34m,\u001b[0m \u001b[0mmultioutput\u001b[0m\u001b[0;34m\u001b[0m\u001b[0;34m\u001b[0m\u001b[0m\n\u001b[1;32m    193\u001b[0m     )\n",
            "\u001b[0;32m/usr/local/lib/python3.8/dist-packages/sklearn/metrics/_regression.py\u001b[0m in \u001b[0;36m_check_reg_targets\u001b[0;34m(y_true, y_pred, multioutput, dtype)\u001b[0m\n\u001b[1;32m     92\u001b[0m         \u001b[0mthe\u001b[0m \u001b[0mdtype\u001b[0m \u001b[0margument\u001b[0m \u001b[0mpassed\u001b[0m \u001b[0mto\u001b[0m \u001b[0mcheck_array\u001b[0m\u001b[0;34m.\u001b[0m\u001b[0;34m\u001b[0m\u001b[0;34m\u001b[0m\u001b[0m\n\u001b[1;32m     93\u001b[0m     \"\"\"\n\u001b[0;32m---> 94\u001b[0;31m     \u001b[0mcheck_consistent_length\u001b[0m\u001b[0;34m(\u001b[0m\u001b[0my_true\u001b[0m\u001b[0;34m,\u001b[0m \u001b[0my_pred\u001b[0m\u001b[0;34m)\u001b[0m\u001b[0;34m\u001b[0m\u001b[0;34m\u001b[0m\u001b[0m\n\u001b[0m\u001b[1;32m     95\u001b[0m     \u001b[0my_true\u001b[0m \u001b[0;34m=\u001b[0m \u001b[0mcheck_array\u001b[0m\u001b[0;34m(\u001b[0m\u001b[0my_true\u001b[0m\u001b[0;34m,\u001b[0m \u001b[0mensure_2d\u001b[0m\u001b[0;34m=\u001b[0m\u001b[0;32mFalse\u001b[0m\u001b[0;34m,\u001b[0m \u001b[0mdtype\u001b[0m\u001b[0;34m=\u001b[0m\u001b[0mdtype\u001b[0m\u001b[0;34m)\u001b[0m\u001b[0;34m\u001b[0m\u001b[0;34m\u001b[0m\u001b[0m\n\u001b[1;32m     96\u001b[0m     \u001b[0my_pred\u001b[0m \u001b[0;34m=\u001b[0m \u001b[0mcheck_array\u001b[0m\u001b[0;34m(\u001b[0m\u001b[0my_pred\u001b[0m\u001b[0;34m,\u001b[0m \u001b[0mensure_2d\u001b[0m\u001b[0;34m=\u001b[0m\u001b[0;32mFalse\u001b[0m\u001b[0;34m,\u001b[0m \u001b[0mdtype\u001b[0m\u001b[0;34m=\u001b[0m\u001b[0mdtype\u001b[0m\u001b[0;34m)\u001b[0m\u001b[0;34m\u001b[0m\u001b[0;34m\u001b[0m\u001b[0m\n",
            "\u001b[0;32m/usr/local/lib/python3.8/dist-packages/sklearn/utils/validation.py\u001b[0m in \u001b[0;36mcheck_consistent_length\u001b[0;34m(*arrays)\u001b[0m\n\u001b[1;32m    330\u001b[0m     \u001b[0muniques\u001b[0m \u001b[0;34m=\u001b[0m \u001b[0mnp\u001b[0m\u001b[0;34m.\u001b[0m\u001b[0munique\u001b[0m\u001b[0;34m(\u001b[0m\u001b[0mlengths\u001b[0m\u001b[0;34m)\u001b[0m\u001b[0;34m\u001b[0m\u001b[0;34m\u001b[0m\u001b[0m\n\u001b[1;32m    331\u001b[0m     \u001b[0;32mif\u001b[0m \u001b[0mlen\u001b[0m\u001b[0;34m(\u001b[0m\u001b[0muniques\u001b[0m\u001b[0;34m)\u001b[0m \u001b[0;34m>\u001b[0m \u001b[0;36m1\u001b[0m\u001b[0;34m:\u001b[0m\u001b[0;34m\u001b[0m\u001b[0;34m\u001b[0m\u001b[0m\n\u001b[0;32m--> 332\u001b[0;31m         raise ValueError(\n\u001b[0m\u001b[1;32m    333\u001b[0m             \u001b[0;34m\"Found input variables with inconsistent numbers of samples: %r\"\u001b[0m\u001b[0;34m\u001b[0m\u001b[0;34m\u001b[0m\u001b[0m\n\u001b[1;32m    334\u001b[0m             \u001b[0;34m%\u001b[0m \u001b[0;34m[\u001b[0m\u001b[0mint\u001b[0m\u001b[0;34m(\u001b[0m\u001b[0ml\u001b[0m\u001b[0;34m)\u001b[0m \u001b[0;32mfor\u001b[0m \u001b[0ml\u001b[0m \u001b[0;32min\u001b[0m \u001b[0mlengths\u001b[0m\u001b[0;34m]\u001b[0m\u001b[0;34m\u001b[0m\u001b[0;34m\u001b[0m\u001b[0m\n",
            "\u001b[0;31mValueError\u001b[0m: Found input variables with inconsistent numbers of samples: [22, 1012]"
          ]
        }
      ],
      "source": [
        "TUMAE_GRU = mean_absolute_error(y_test_inv, TU_GRU_Pred)\n",
        "print('MAE value of the GRU Model is:', TUMAE_GRU)\n",
        "\n",
        "TUMDA_GRU = mda(y_test_inv, TU_GRU_Pred)\n",
        "print('MDA value of the tuned GRU Model is:', TUMDA_GRU)\n",
        "\n",
        "TUMAPE_GRU = mean_absolute_percentage_error(y_test_inv, TU_GRU_Pred)\n",
        "print('MAPE value of the tuned GRU Model is:', TUMAPE_GRU)\n",
        "\n",
        "TURMSE_GRU = mean_squared_error(y_test_inv,TU_GRU_Pred, squared=False)\n",
        "print('RMSE value of the tuned GRU Model is:', TURMSE_GRU)\n",
        "\n",
        "TUMSE_GRU = mean_squared_error(y_test_inv,TU_GRU_Pred)\n",
        "print('MSE value of the tuned GRU Model is:', TUMSE_GRU)"
      ]
    },
    {
      "cell_type": "markdown",
      "metadata": {
        "id": "oczznVkQihRI"
      },
      "source": [
        "Compare tuned GRU Actual VS Predicted (Zoomed-IN)"
      ]
    },
    {
      "cell_type": "code",
      "execution_count": null,
      "metadata": {
        "colab": {
          "base_uri": "https://localhost:8080/",
          "height": 704
        },
        "id": "RmqyhCu_iV_w",
        "outputId": "9a3b881a-5965-4e7a-b7db-bca5043a4376"
      },
      "outputs": [
        {
          "data": {
            "image/png": "[encoded data removed]",
            "text/plain": [
              "<Figure size 1600x800 with 1 Axes>"
            ]
          },
          "metadata": {},
          "output_type": "display_data"
        },
        {
          "data": {
            "text/plain": [
              "<Figure size 720x360 with 0 Axes>"
            ]
          },
          "metadata": {},
          "output_type": "display_data"
        }
      ],
      "source": [
        "#Plot the graph between actual vs predicted values\n",
        "#plt.figure(figsize=(15,7))  #(10,6))\n",
        "plt.figure(figsize=(16,8), dpi= 100, facecolor='w', edgecolor='k')\n",
        "plt.plot(TU_GRU_Pred, color= 'green',marker='.',label = 'Tuned GRU Predicted for cpo_pri')\n",
        "plt.plot(y_test_inv, color = 'red',marker='.',label = 'Actual cpo_pri ')\n",
        "plt.title(\"Tuned GRU Crude Palm Oil Price Prediction (Multivariate)\")\n",
        "plt.xlabel(\"Time step\")\n",
        "plt.ylabel(\"Crude Palm Oil Price\")\n",
        "plt.legend()\n",
        "plt.show()\n",
        "plt.savefig('graph_TUGRU.png')"
      ]
    },
    {
      "cell_type": "markdown",
      "metadata": {
        "id": "xMdKc2DKj1e-"
      },
      "source": [
        "##Results\n",
        "\n",
        "Baseline MSE         = 0.0160\n",
        "\n",
        "Random search MSE    = 0.2349\n",
        "\n",
        "Bayesian search MSE  = 0.3562\n",
        "\n",
        "Hyperband search MSE = 0.0118\n",
        "\n",
        "Baseline RSME        = 50.6\n",
        "\n",
        "Tuned GRU RSME       = 50"
      ]
    },
    {
      "cell_type": "markdown",
      "metadata": {
        "id": "J9SI5KHvtAsT"
      },
      "source": [
        "The tuned GRU is superior to the basseline based on the RSME result"
      ]
    },
    {
      "cell_type": "code",
      "execution_count": null,
      "metadata": {
        "colab": {
          "base_uri": "https://localhost:8080/"
        },
        "id": "TZ39HAx1d0RJ",
        "outputId": "b8999760-f54d-4b66-8312-5e99cb6400a4"
      },
      "outputs": [
        {
          "data": {
            "text/plain": [
              "array([351.39633, 347.6665 , 343.99362, 345.20425, 341.2525 , 337.43933,\n",
              "       330.63617, 323.23892, 320.77472, 323.42755, 323.79852, 321.35092,\n",
              "       317.82602, 317.85577, 317.28708, 314.74396, 314.7602 , 318.7627 ,\n",
              "       322.80365, 325.78122, 317.8231 , 317.70853], dtype=float32)"
            ]
          },
          "execution_count": 136,
          "metadata": {},
          "output_type": "execute_result"
        }
      ],
      "source": [
        "TU_GRU_Pred"
      ]
    },
    {
      "cell_type": "code",
      "execution_count": null,
      "metadata": {
        "id": "CyZ4HpcBdydh"
      },
      "outputs": [],
      "source": []
    },
    {
      "cell_type": "code",
      "execution_count": null,
      "metadata": {
        "id": "JLZgaBe6uWbe"
      },
      "outputs": [],
      "source": []
    }
  ],
  "metadata": {
    "accelerator": "TPU",
    "colab": {
      "provenance": [],
      "authorship_tag": "ABX9TyPBfsvoi6rwBqyh2m+FKsKt",
      "include_colab_link": true
    },
    "gpuClass": "standard",
    "kernelspec": {
      "display_name": "Python 3",
      "name": "python3"
    },
    "language_info": {
      "name": "python"
    }
  },
  "nbformat": 4,
  "nbformat_minor": 0
}