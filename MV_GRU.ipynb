{
  "cells": [
    {
      "cell_type": "markdown",
      "metadata": {
        "id": "view-in-github",
        "colab_type": "text"
      },
      "source": [
        "<a href=\"https://colab.research.google.com/github/mofuoku417/Machine-Learning-Techniques-for-Multivariate-Time-Series-Forecasting-of-Crude-Palm-Oil-Prices/blob/main/MV_GRU.ipynb\" target=\"_parent\"><img src=\"https://colab.research.google.com/assets/colab-badge.svg\" alt=\"Open In Colab\"/></a>"
      ]
    },
    {
      "cell_type": "markdown",
      "metadata": {
        "id": "tt6Yvzr3gZ-g"
      },
      "source": [
        "##Objective: Predict Monthly Crude Palm Oil Price Using Gated Response Unit (GRU)"
      ]
    },
    {
      "cell_type": "markdown",
      "metadata": {
        "id": "TvRmatc1Lo4v"
      },
      "source": [
        "###Install dependencies"
      ]
    },
    {
      "cell_type": "code",
      "execution_count": null,
      "metadata": {
        "id": "gGw0m6TUdgMM"
      },
      "outputs": [],
      "source": [
        "!pip install scikeras\n",
        "!pip install bayesian-optimization\n",
        "!pip install keras-tuner --upgrade"
      ]
    },
    {
      "cell_type": "markdown",
      "metadata": {
        "id": "r_2Cswg0sYN8"
      },
      "source": [
        "###Load Libraries"
      ]
    },
    {
      "cell_type": "code",
      "execution_count": null,
      "metadata": {
        "id": "eJUaw5qy34It"
      },
      "outputs": [],
      "source": [
        "from numpy.random import seed\n",
        "seed(1)\n",
        "import tensorflow as tf\n",
        "tf.random.set_seed(1)\n",
        "\n",
        "import pandas as pd\n",
        "import numpy as np\n",
        "import matplotlib.pyplot as plt\n",
        "import pickle\n",
        "import os\n",
        "import seaborn as sns\n",
        "plt.rcParams['figure.figsize'] = (10, 5)\n",
        "plt.style.use('fivethirtyeight')\n",
        "from plotly.subplots import make_subplots\n",
        "import plotly.graph_objects as go\n",
        "import tensorflow as tf\n",
        "from tensorflow.keras import layers\n",
        "from sklearn.metrics import mean_absolute_error\n",
        "from sklearn.metrics import make_scorer, mean_squared_error\n",
        "from keras.layers import Dense, Dropout, GRU\n",
        "from sklearn.metrics import explained_variance_score\n",
        "import warnings\n",
        "warnings.filterwarnings('ignore')\n",
        "from keras.models import Sequential\n",
        "from keras.wrappers.scikit_learn import KerasRegressor\n",
        "from keras.wrappers.scikit_learn import KerasClassifier\n",
        "from sklearn.model_selection import KFold, cross_val_score\n",
        "from scikeras.wrappers import KerasRegressor\n",
        "from tensorflow import keras\n",
        "from kerastuner.tuners import RandomSearch\n",
        "from kerastuner import HyperModel, RandomSearch, Hyperband, BayesianOptimization\n",
        "from keras.callbacks import EarlyStopping\n",
        "from time import time\n",
        "import pickle\n",
        "\n",
        "import matplotlib.dates as mdates\n",
        "from sklearn.preprocessing import RobustScaler\n",
        "from sklearn.preprocessing import MinMaxScaler"
      ]
    },
    {
      "cell_type": "markdown",
      "metadata": {
        "id": "Gzu9V2o2gfZG"
      },
      "source": [
        "###Define Functions to Facilitate Metrics Evaluation"
      ]
    },
    {
      "cell_type": "code",
      "execution_count": null,
      "metadata": {
        "id": "k7RYx1rN_Yf_"
      },
      "outputs": [],
      "source": [
        "#To compute Mean Directional Accuracy\n",
        "def mda(actual: np.ndarray, predicted: np.ndarray):\n",
        "    \"\"\" Mean Directional Accuracy \"\"\"\n",
        "    return np.mean((np.sign(actual[1:] - actual[:-1]) == np.sign(predicted[1:] - predicted[:-1])).astype(int))\n",
        "\n",
        "#Calculate the Mean Absolute Percentage Error\n",
        "#def MAPE(y_true, y_pred): \n",
        "    #mape = np.mean(np.abs((np.array(y_true) - np.array(y_pred)) / np.array(y_true))) * 100\n",
        "    #return mape\n",
        "\n",
        "def mean_absolute_percentage_error(y_true, y_pred): \n",
        "    y_true, y_pred = np.array(y_true), np.array(y_pred)\n",
        "    return np.mean(np.abs((y_true - y_pred) / y_true)) * 100\n",
        "\n",
        "def MAPE(y_true, y_pred): \n",
        "    y_true, y_pred = np.array(y_true), np.array(y_pred)\n",
        "    return np.mean(np.abs((y_true - y_pred) / y_true)) * 100\n",
        "\n",
        "#Calculate the Root Mean Squared Error:\n",
        "def RMSE(y_true, y_pred): \n",
        "    rmse = np.sqrt(mean_squared_error(y_true, y_pred))\n",
        "    return rmse"
      ]
    },
    {
      "cell_type": "markdown",
      "metadata": {
        "id": "FVpIGyF7g4od"
      },
      "source": [
        "###Load the Cleaned Data from Github"
      ]
    },
    {
      "cell_type": "code",
      "execution_count": null,
      "metadata": {
        "colab": {
          "base_uri": "https://localhost:8080/",
          "height": 226
        },
        "id": "z_6wFR8b3xZf",
        "outputId": "10f0af22-b36d-47cf-faf1-8e5164231394"
      },
      "outputs": [
        {
          "data": {
            "text/html": [
              "\n",
              "  <div id=\"df-7ecfacd2-ad7f-4136-b396-237330a08efe\">\n",
              "    <div class=\"colab-df-container\">\n",
              "      <div>\n",
              "<style scoped>\n",
              "    .dataframe tbody tr th:only-of-type {\n",
              "        vertical-align: middle;\n",
              "    }\n",
              "\n",
              "    .dataframe tbody tr th {\n",
              "        vertical-align: top;\n",
              "    }\n",
              "\n",
              "    .dataframe thead th {\n",
              "        text-align: right;\n",
              "    }\n",
              "</style>\n",
              "<table border=\"1\" class=\"dataframe\">\n",
              "  <thead>\n",
              "    <tr style=\"text-align: right;\">\n",
              "      <th></th>\n",
              "      <th>date</th>\n",
              "      <th>cpo_pri</th>\n",
              "      <th>cno_pri</th>\n",
              "      <th>oli_pri</th>\n",
              "      <th>rps_pri</th>\n",
              "      <th>pno_pri</th>\n",
              "      <th>sbo_pri</th>\n",
              "      <th>sfo_pri</th>\n",
              "    </tr>\n",
              "  </thead>\n",
              "  <tbody>\n",
              "    <tr>\n",
              "      <th>0</th>\n",
              "      <td>12/1/10</td>\n",
              "      <td>323</td>\n",
              "      <td>455</td>\n",
              "      <td>3102.61</td>\n",
              "      <td>423.45</td>\n",
              "      <td>844.0</td>\n",
              "      <td>468.0</td>\n",
              "      <td>578.0</td>\n",
              "    </tr>\n",
              "    <tr>\n",
              "      <th>1</th>\n",
              "      <td>1/1/11</td>\n",
              "      <td>345</td>\n",
              "      <td>546</td>\n",
              "      <td>3100.45</td>\n",
              "      <td>415.85</td>\n",
              "      <td>799.0</td>\n",
              "      <td>485.0</td>\n",
              "      <td>557.0</td>\n",
              "    </tr>\n",
              "    <tr>\n",
              "      <th>2</th>\n",
              "      <td>2/1/11</td>\n",
              "      <td>362</td>\n",
              "      <td>595</td>\n",
              "      <td>3199.41</td>\n",
              "      <td>410.77</td>\n",
              "      <td>718.0</td>\n",
              "      <td>466.0</td>\n",
              "      <td>552.0</td>\n",
              "    </tr>\n",
              "    <tr>\n",
              "      <th>3</th>\n",
              "      <td>3/1/11</td>\n",
              "      <td>376</td>\n",
              "      <td>636</td>\n",
              "      <td>3281.67</td>\n",
              "      <td>414.82</td>\n",
              "      <td>614.0</td>\n",
              "      <td>442.0</td>\n",
              "      <td>574.0</td>\n",
              "    </tr>\n",
              "    <tr>\n",
              "      <th>4</th>\n",
              "      <td>4/1/11</td>\n",
              "      <td>383</td>\n",
              "      <td>738</td>\n",
              "      <td>3261.65</td>\n",
              "      <td>451.04</td>\n",
              "      <td>619.0</td>\n",
              "      <td>429.0</td>\n",
              "      <td>595.0</td>\n",
              "    </tr>\n",
              "  </tbody>\n",
              "</table>\n",
              "</div>\n",
              "      <button class=\"colab-df-convert\" onclick=\"convertToInteractive('df-7ecfacd2-ad7f-4136-b396-237330a08efe')\"\n",
              "              title=\"Convert this dataframe to an interactive table.\"\n",
              "              style=\"display:none;\">\n",
              "        \n",
              "  <svg xmlns=\"http://www.w3.org/2000/svg\" height=\"24px\"viewBox=\"0 0 24 24\"\n",
              "       width=\"24px\">\n",
              "    <path d=\"M0 0h24v24H0V0z\" fill=\"none\"/>\n",
              "    <path d=\"M18.56 5.44l.94 2.06.94-2.06 2.06-.94-2.06-.94-.94-2.06-.94 2.06-2.06.94zm-11 1L8.5 8.5l.94-2.06 2.06-.94-2.06-.94L8.5 2.5l-.94 2.06-2.06.94zm10 10l.94 2.06.94-2.06 2.06-.94-2.06-.94-.94-2.06-.94 2.06-2.06.94z\"/><path d=\"M17.41 7.96l-1.37-1.37c-.4-.4-.92-.59-1.43-.59-.52 0-1.04.2-1.43.59L10.3 9.45l-7.72 7.72c-.78.78-.78 2.05 0 2.83L4 21.41c.39.39.9.59 1.41.59.51 0 1.02-.2 1.41-.59l7.78-7.78 2.81-2.81c.8-.78.8-2.07 0-2.86zM5.41 20L4 18.59l7.72-7.72 1.47 1.35L5.41 20z\"/>\n",
              "  </svg>\n",
              "      </button>\n",
              "      \n",
              "  <style>\n",
              "    .colab-df-container {\n",
              "      display:flex;\n",
              "      flex-wrap:wrap;\n",
              "      gap: 12px;\n",
              "    }\n",
              "\n",
              "    .colab-df-convert {\n",
              "      background-color: #E8F0FE;\n",
              "      border: none;\n",
              "      border-radius: 50%;\n",
              "      cursor: pointer;\n",
              "      display: none;\n",
              "      fill: #1967D2;\n",
              "      height: 32px;\n",
              "      padding: 0 0 0 0;\n",
              "      width: 32px;\n",
              "    }\n",
              "\n",
              "    .colab-df-convert:hover {\n",
              "      background-color: #E2EBFA;\n",
              "      box-shadow: 0px 1px 2px rgba(60, 64, 67, 0.3), 0px 1px 3px 1px rgba(60, 64, 67, 0.15);\n",
              "      fill: #174EA6;\n",
              "    }\n",
              "\n",
              "    [theme=dark] .colab-df-convert {\n",
              "      background-color: #3B4455;\n",
              "      fill: #D2E3FC;\n",
              "    }\n",
              "\n",
              "    [theme=dark] .colab-df-convert:hover {\n",
              "      background-color: #434B5C;\n",
              "      box-shadow: 0px 1px 3px 1px rgba(0, 0, 0, 0.15);\n",
              "      filter: drop-shadow(0px 1px 2px rgba(0, 0, 0, 0.3));\n",
              "      fill: #FFFFFF;\n",
              "    }\n",
              "  </style>\n",
              "\n",
              "      <script>\n",
              "        const buttonEl =\n",
              "          document.querySelector('#df-7ecfacd2-ad7f-4136-b396-237330a08efe button.colab-df-convert');\n",
              "        buttonEl.style.display =\n",
              "          google.colab.kernel.accessAllowed ? 'block' : 'none';\n",
              "\n",
              "        async function convertToInteractive(key) {\n",
              "          const element = document.querySelector('#df-7ecfacd2-ad7f-4136-b396-237330a08efe');\n",
              "          const dataTable =\n",
              "            await google.colab.kernel.invokeFunction('convertToInteractive',\n",
              "                                                     [key], {});\n",
              "          if (!dataTable) return;\n",
              "\n",
              "          const docLinkHtml = 'Like what you see? Visit the ' +\n",
              "            '<a target=\"_blank\" href=https://colab.research.google.com/notebooks/data_table.ipynb>data table notebook</a>'\n",
              "            + ' to learn more about interactive tables.';\n",
              "          element.innerHTML = '';\n",
              "          dataTable['output_type'] = 'display_data';\n",
              "          await google.colab.output.renderOutput(dataTable, element);\n",
              "          const docLink = document.createElement('div');\n",
              "          docLink.innerHTML = docLinkHtml;\n",
              "          element.appendChild(docLink);\n",
              "        }\n",
              "      </script>\n",
              "    </div>\n",
              "  </div>\n",
              "  "
            ],
            "text/plain": [
              "      date  cpo_pri  cno_pri  oli_pri  rps_pri  pno_pri  sbo_pri  sfo_pri\n",
              "0  12/1/10      323      455  3102.61   423.45    844.0    468.0    578.0\n",
              "1   1/1/11      345      546  3100.45   415.85    799.0    485.0    557.0\n",
              "2   2/1/11      362      595  3199.41   410.77    718.0    466.0    552.0\n",
              "3   3/1/11      376      636  3281.67   414.82    614.0    442.0    574.0\n",
              "4   4/1/11      383      738  3261.65   451.04    619.0    429.0    595.0"
            ]
          },
          "execution_count": 4,
          "metadata": {},
          "output_type": "execute_result"
        }
      ],
      "source": [
        "from pandas import read_csv\n",
        "path = 'https://raw.githubusercontent.com/mofuoku417/Machine-Learning-Techniques-for-Multivariate-Time-Series-Forecasting-of-Crude-Palm-Oil-Prices/main/Cleaned_data/FS_2.csv'\n",
        "df = read_csv(path)\n",
        "df.head()"
      ]
    },
    {
      "cell_type": "code",
      "execution_count": null,
      "metadata": {
        "id": "bABFH7Kd4nBN"
      },
      "outputs": [],
      "source": [
        "df['date']=pd.to_datetime(df['date'])\n",
        "#del df['date']"
      ]
    },
    {
      "cell_type": "code",
      "execution_count": null,
      "metadata": {
        "colab": {
          "base_uri": "https://localhost:8080/"
        },
        "id": "nZ-LB-rFdF5N",
        "outputId": "43f2d14d-57e6-458b-97be-711ff4cd8e35"
      },
      "outputs": [
        {
          "name": "stdout",
          "output_type": "stream",
          "text": [
            "<class 'pandas.core.frame.DataFrame'>\n",
            "DatetimeIndex: 124 entries, 2010-12-01 to 2021-03-01\n",
            "Data columns (total 7 columns):\n",
            " #   Column   Non-Null Count  Dtype  \n",
            "---  ------   --------------  -----  \n",
            " 0   cpo_pri  124 non-null    int64  \n",
            " 1   cno_pri  124 non-null    int64  \n",
            " 2   oli_pri  124 non-null    float64\n",
            " 3   rps_pri  124 non-null    float64\n",
            " 4   pno_pri  124 non-null    float64\n",
            " 5   sbo_pri  124 non-null    float64\n",
            " 6   sfo_pri  124 non-null    float64\n",
            "dtypes: float64(5), int64(2)\n",
            "memory usage: 7.8 KB\n"
          ]
        }
      ],
      "source": [
        "df.set_index('date', inplace=True)\n",
        "df.info()"
      ]
    },
    {
      "cell_type": "code",
      "execution_count": null,
      "metadata": {
        "colab": {
          "base_uri": "https://localhost:8080/",
          "height": 258
        },
        "id": "PLpdJChY4wex",
        "outputId": "12797027-7aeb-4dff-d8cd-3bbd3a7bcacf"
      },
      "outputs": [
        {
          "data": {
            "text/html": [
              "\n",
              "  <div id=\"df-35a3b5fe-57a5-4156-9483-8845cc4a5cee\">\n",
              "    <div class=\"colab-df-container\">\n",
              "      <div>\n",
              "<style scoped>\n",
              "    .dataframe tbody tr th:only-of-type {\n",
              "        vertical-align: middle;\n",
              "    }\n",
              "\n",
              "    .dataframe tbody tr th {\n",
              "        vertical-align: top;\n",
              "    }\n",
              "\n",
              "    .dataframe thead th {\n",
              "        text-align: right;\n",
              "    }\n",
              "</style>\n",
              "<table border=\"1\" class=\"dataframe\">\n",
              "  <thead>\n",
              "    <tr style=\"text-align: right;\">\n",
              "      <th></th>\n",
              "      <th>cpo_pri</th>\n",
              "      <th>cno_pri</th>\n",
              "      <th>oli_pri</th>\n",
              "      <th>rps_pri</th>\n",
              "      <th>pno_pri</th>\n",
              "      <th>sbo_pri</th>\n",
              "      <th>sfo_pri</th>\n",
              "    </tr>\n",
              "    <tr>\n",
              "      <th>date</th>\n",
              "      <th></th>\n",
              "      <th></th>\n",
              "      <th></th>\n",
              "      <th></th>\n",
              "      <th></th>\n",
              "      <th></th>\n",
              "      <th></th>\n",
              "    </tr>\n",
              "  </thead>\n",
              "  <tbody>\n",
              "    <tr>\n",
              "      <th>2010-12-01</th>\n",
              "      <td>323</td>\n",
              "      <td>455</td>\n",
              "      <td>3102.61</td>\n",
              "      <td>423.45</td>\n",
              "      <td>844.0</td>\n",
              "      <td>468.0</td>\n",
              "      <td>578.0</td>\n",
              "    </tr>\n",
              "    <tr>\n",
              "      <th>2011-01-01</th>\n",
              "      <td>345</td>\n",
              "      <td>546</td>\n",
              "      <td>3100.45</td>\n",
              "      <td>415.85</td>\n",
              "      <td>799.0</td>\n",
              "      <td>485.0</td>\n",
              "      <td>557.0</td>\n",
              "    </tr>\n",
              "    <tr>\n",
              "      <th>2011-02-01</th>\n",
              "      <td>362</td>\n",
              "      <td>595</td>\n",
              "      <td>3199.41</td>\n",
              "      <td>410.77</td>\n",
              "      <td>718.0</td>\n",
              "      <td>466.0</td>\n",
              "      <td>552.0</td>\n",
              "    </tr>\n",
              "    <tr>\n",
              "      <th>2011-03-01</th>\n",
              "      <td>376</td>\n",
              "      <td>636</td>\n",
              "      <td>3281.67</td>\n",
              "      <td>414.82</td>\n",
              "      <td>614.0</td>\n",
              "      <td>442.0</td>\n",
              "      <td>574.0</td>\n",
              "    </tr>\n",
              "    <tr>\n",
              "      <th>2011-04-01</th>\n",
              "      <td>383</td>\n",
              "      <td>738</td>\n",
              "      <td>3261.65</td>\n",
              "      <td>451.04</td>\n",
              "      <td>619.0</td>\n",
              "      <td>429.0</td>\n",
              "      <td>595.0</td>\n",
              "    </tr>\n",
              "  </tbody>\n",
              "</table>\n",
              "</div>\n",
              "      <button class=\"colab-df-convert\" onclick=\"convertToInteractive('df-35a3b5fe-57a5-4156-9483-8845cc4a5cee')\"\n",
              "              title=\"Convert this dataframe to an interactive table.\"\n",
              "              style=\"display:none;\">\n",
              "        \n",
              "  <svg xmlns=\"http://www.w3.org/2000/svg\" height=\"24px\"viewBox=\"0 0 24 24\"\n",
              "       width=\"24px\">\n",
              "    <path d=\"M0 0h24v24H0V0z\" fill=\"none\"/>\n",
              "    <path d=\"M18.56 5.44l.94 2.06.94-2.06 2.06-.94-2.06-.94-.94-2.06-.94 2.06-2.06.94zm-11 1L8.5 8.5l.94-2.06 2.06-.94-2.06-.94L8.5 2.5l-.94 2.06-2.06.94zm10 10l.94 2.06.94-2.06 2.06-.94-2.06-.94-.94-2.06-.94 2.06-2.06.94z\"/><path d=\"M17.41 7.96l-1.37-1.37c-.4-.4-.92-.59-1.43-.59-.52 0-1.04.2-1.43.59L10.3 9.45l-7.72 7.72c-.78.78-.78 2.05 0 2.83L4 21.41c.39.39.9.59 1.41.59.51 0 1.02-.2 1.41-.59l7.78-7.78 2.81-2.81c.8-.78.8-2.07 0-2.86zM5.41 20L4 18.59l7.72-7.72 1.47 1.35L5.41 20z\"/>\n",
              "  </svg>\n",
              "      </button>\n",
              "      \n",
              "  <style>\n",
              "    .colab-df-container {\n",
              "      display:flex;\n",
              "      flex-wrap:wrap;\n",
              "      gap: 12px;\n",
              "    }\n",
              "\n",
              "    .colab-df-convert {\n",
              "      background-color: #E8F0FE;\n",
              "      border: none;\n",
              "      border-radius: 50%;\n",
              "      cursor: pointer;\n",
              "      display: none;\n",
              "      fill: #1967D2;\n",
              "      height: 32px;\n",
              "      padding: 0 0 0 0;\n",
              "      width: 32px;\n",
              "    }\n",
              "\n",
              "    .colab-df-convert:hover {\n",
              "      background-color: #E2EBFA;\n",
              "      box-shadow: 0px 1px 2px rgba(60, 64, 67, 0.3), 0px 1px 3px 1px rgba(60, 64, 67, 0.15);\n",
              "      fill: #174EA6;\n",
              "    }\n",
              "\n",
              "    [theme=dark] .colab-df-convert {\n",
              "      background-color: #3B4455;\n",
              "      fill: #D2E3FC;\n",
              "    }\n",
              "\n",
              "    [theme=dark] .colab-df-convert:hover {\n",
              "      background-color: #434B5C;\n",
              "      box-shadow: 0px 1px 3px 1px rgba(0, 0, 0, 0.15);\n",
              "      filter: drop-shadow(0px 1px 2px rgba(0, 0, 0, 0.3));\n",
              "      fill: #FFFFFF;\n",
              "    }\n",
              "  </style>\n",
              "\n",
              "      <script>\n",
              "        const buttonEl =\n",
              "          document.querySelector('#df-35a3b5fe-57a5-4156-9483-8845cc4a5cee button.colab-df-convert');\n",
              "        buttonEl.style.display =\n",
              "          google.colab.kernel.accessAllowed ? 'block' : 'none';\n",
              "\n",
              "        async function convertToInteractive(key) {\n",
              "          const element = document.querySelector('#df-35a3b5fe-57a5-4156-9483-8845cc4a5cee');\n",
              "          const dataTable =\n",
              "            await google.colab.kernel.invokeFunction('convertToInteractive',\n",
              "                                                     [key], {});\n",
              "          if (!dataTable) return;\n",
              "\n",
              "          const docLinkHtml = 'Like what you see? Visit the ' +\n",
              "            '<a target=\"_blank\" href=https://colab.research.google.com/notebooks/data_table.ipynb>data table notebook</a>'\n",
              "            + ' to learn more about interactive tables.';\n",
              "          element.innerHTML = '';\n",
              "          dataTable['output_type'] = 'display_data';\n",
              "          await google.colab.output.renderOutput(dataTable, element);\n",
              "          const docLink = document.createElement('div');\n",
              "          docLink.innerHTML = docLinkHtml;\n",
              "          element.appendChild(docLink);\n",
              "        }\n",
              "      </script>\n",
              "    </div>\n",
              "  </div>\n",
              "  "
            ],
            "text/plain": [
              "            cpo_pri  cno_pri  oli_pri  rps_pri  pno_pri  sbo_pri  sfo_pri\n",
              "date                                                                     \n",
              "2010-12-01      323      455  3102.61   423.45    844.0    468.0    578.0\n",
              "2011-01-01      345      546  3100.45   415.85    799.0    485.0    557.0\n",
              "2011-02-01      362      595  3199.41   410.77    718.0    466.0    552.0\n",
              "2011-03-01      376      636  3281.67   414.82    614.0    442.0    574.0\n",
              "2011-04-01      383      738  3261.65   451.04    619.0    429.0    595.0"
            ]
          },
          "execution_count": 7,
          "metadata": {},
          "output_type": "execute_result"
        }
      ],
      "source": [
        "df.head()"
      ]
    },
    {
      "cell_type": "code",
      "execution_count": null,
      "metadata": {
        "colab": {
          "base_uri": "https://localhost:8080/",
          "height": 399
        },
        "id": "pnKg-SfY6j9g",
        "outputId": "fff8908d-1ace-47c9-e9c9-14d27fb89aef"
      },
      "outputs": [
        {
          "data": {
            "text/plain": [
              "<Figure size 1800x720 with 0 Axes>"
            ]
          },
          "metadata": {},
          "output_type": "display_data"
        },
        {
          "data": {
            "image/png": "[encoded data removed]",
            "text/plain": [
              "<Figure size 720x360 with 1 Axes>"
            ]
          },
          "metadata": {},
          "output_type": "display_data"
        }
      ],
      "source": [
        "# Plot an area chart\n",
        "plt.figure(figsize=(25,10))\n",
        "ax = df.plot.area(fontsize=12);\n",
        "\n",
        "# Additional customizations\n",
        "ax.set_xlabel('date');\n",
        "ax.legend(fontsize=12);"
      ]
    },
    {
      "cell_type": "markdown",
      "metadata": {
        "id": "dPoGjuS366Cc"
      },
      "source": [
        "##**Gated Response Unit Forecasting Technique (GRU)**"
      ]
    },
    {
      "cell_type": "markdown",
      "metadata": {
        "id": "vFpT6OrD7KRv"
      },
      "source": [
        "###**Split Data into Train Test Segments**"
      ]
    },
    {
      "cell_type": "code",
      "execution_count": null,
      "metadata": {
        "colab": {
          "base_uri": "https://localhost:8080/"
        },
        "id": "nYZL-9Sy3xpJ",
        "outputId": "0b5ed78c-eb39-4c5e-991c-ab067d4a4138"
      },
      "outputs": [
        {
          "name": "stdout",
          "output_type": "stream",
          "text": [
            "Train size: 99\n",
            "Test size: 25\n"
          ]
        }
      ],
      "source": [
        "train_size = int(len(df) * 0.8)\n",
        "test_size = len(df) - train_size\n",
        "train, test = df.iloc[0:train_size], df.iloc[train_size:len(df)]\n",
        "print('Train size:',len(train))\n",
        "print('Test size:', len(test))"
      ]
    },
    {
      "cell_type": "code",
      "execution_count": null,
      "metadata": {
        "colab": {
          "base_uri": "https://localhost:8080/"
        },
        "id": "qKDDSdp_JVu6",
        "outputId": "ead8f17e-bb72-4a31-b568-35294f674ff9"
      },
      "outputs": [
        {
          "name": "stdout",
          "output_type": "stream",
          "text": [
            "99 days of training data \n",
            " 25 days of testing data \n"
          ]
        }
      ],
      "source": [
        "split_date = '2019-02'\n",
        "df_training = df.loc[df.index <= split_date]\n",
        "df_test = df.loc[df.index > split_date]\n",
        "print(f\"{len(df_training)} days of training data \\n {len(df_test)} days of testing data \")"
      ]
    },
    {
      "cell_type": "code",
      "execution_count": null,
      "metadata": {
        "colab": {
          "base_uri": "https://localhost:8080/"
        },
        "id": "DGrD2nxFmNSu",
        "outputId": "c9932828-2912-403f-fed9-aa964899b485"
      },
      "outputs": [
        {
          "name": "stdout",
          "output_type": "stream",
          "text": [
            "99 25\n"
          ]
        }
      ],
      "source": [
        "train, test = df.iloc[0:train_size], df.iloc[train_size:len(df)]\n",
        "print(len(train), len(test))"
      ]
    },
    {
      "cell_type": "code",
      "execution_count": null,
      "metadata": {
        "colab": {
          "base_uri": "https://localhost:8080/",
          "height": 275
        },
        "id": "QvbHy-5RmPuI",
        "outputId": "9a15dae7-f7dc-4559-b5c8-ef300b77619d"
      },
      "outputs": [
        {
          "name": "stdout",
          "output_type": "stream",
          "text": [
            "(99, 7)\n"
          ]
        },
        {
          "data": {
            "text/html": [
              "\n",
              "  <div id=\"df-fc8a2756-3619-4c34-af8e-e817ff6a18c5\">\n",
              "    <div class=\"colab-df-container\">\n",
              "      <div>\n",
              "<style scoped>\n",
              "    .dataframe tbody tr th:only-of-type {\n",
              "        vertical-align: middle;\n",
              "    }\n",
              "\n",
              "    .dataframe tbody tr th {\n",
              "        vertical-align: top;\n",
              "    }\n",
              "\n",
              "    .dataframe thead th {\n",
              "        text-align: right;\n",
              "    }\n",
              "</style>\n",
              "<table border=\"1\" class=\"dataframe\">\n",
              "  <thead>\n",
              "    <tr style=\"text-align: right;\">\n",
              "      <th></th>\n",
              "      <th>cpo_pri</th>\n",
              "      <th>cno_pri</th>\n",
              "      <th>oli_pri</th>\n",
              "      <th>rps_pri</th>\n",
              "      <th>pno_pri</th>\n",
              "      <th>sbo_pri</th>\n",
              "      <th>sfo_pri</th>\n",
              "    </tr>\n",
              "    <tr>\n",
              "      <th>date</th>\n",
              "      <th></th>\n",
              "      <th></th>\n",
              "      <th></th>\n",
              "      <th></th>\n",
              "      <th></th>\n",
              "      <th></th>\n",
              "      <th></th>\n",
              "    </tr>\n",
              "  </thead>\n",
              "  <tbody>\n",
              "    <tr>\n",
              "      <th>2010-12-01</th>\n",
              "      <td>323</td>\n",
              "      <td>455</td>\n",
              "      <td>3102.61</td>\n",
              "      <td>423.45</td>\n",
              "      <td>844.0</td>\n",
              "      <td>468.0</td>\n",
              "      <td>578.0</td>\n",
              "    </tr>\n",
              "    <tr>\n",
              "      <th>2011-01-01</th>\n",
              "      <td>345</td>\n",
              "      <td>546</td>\n",
              "      <td>3100.45</td>\n",
              "      <td>415.85</td>\n",
              "      <td>799.0</td>\n",
              "      <td>485.0</td>\n",
              "      <td>557.0</td>\n",
              "    </tr>\n",
              "    <tr>\n",
              "      <th>2011-02-01</th>\n",
              "      <td>362</td>\n",
              "      <td>595</td>\n",
              "      <td>3199.41</td>\n",
              "      <td>410.77</td>\n",
              "      <td>718.0</td>\n",
              "      <td>466.0</td>\n",
              "      <td>552.0</td>\n",
              "    </tr>\n",
              "    <tr>\n",
              "      <th>2011-03-01</th>\n",
              "      <td>376</td>\n",
              "      <td>636</td>\n",
              "      <td>3281.67</td>\n",
              "      <td>414.82</td>\n",
              "      <td>614.0</td>\n",
              "      <td>442.0</td>\n",
              "      <td>574.0</td>\n",
              "    </tr>\n",
              "    <tr>\n",
              "      <th>2011-04-01</th>\n",
              "      <td>383</td>\n",
              "      <td>738</td>\n",
              "      <td>3261.65</td>\n",
              "      <td>451.04</td>\n",
              "      <td>619.0</td>\n",
              "      <td>429.0</td>\n",
              "      <td>595.0</td>\n",
              "    </tr>\n",
              "  </tbody>\n",
              "</table>\n",
              "</div>\n",
              "      <button class=\"colab-df-convert\" onclick=\"convertToInteractive('df-fc8a2756-3619-4c34-af8e-e817ff6a18c5')\"\n",
              "              title=\"Convert this dataframe to an interactive table.\"\n",
              "              style=\"display:none;\">\n",
              "        \n",
              "  <svg xmlns=\"http://www.w3.org/2000/svg\" height=\"24px\"viewBox=\"0 0 24 24\"\n",
              "       width=\"24px\">\n",
              "    <path d=\"M0 0h24v24H0V0z\" fill=\"none\"/>\n",
              "    <path d=\"M18.56 5.44l.94 2.06.94-2.06 2.06-.94-2.06-.94-.94-2.06-.94 2.06-2.06.94zm-11 1L8.5 8.5l.94-2.06 2.06-.94-2.06-.94L8.5 2.5l-.94 2.06-2.06.94zm10 10l.94 2.06.94-2.06 2.06-.94-2.06-.94-.94-2.06-.94 2.06-2.06.94z\"/><path d=\"M17.41 7.96l-1.37-1.37c-.4-.4-.92-.59-1.43-.59-.52 0-1.04.2-1.43.59L10.3 9.45l-7.72 7.72c-.78.78-.78 2.05 0 2.83L4 21.41c.39.39.9.59 1.41.59.51 0 1.02-.2 1.41-.59l7.78-7.78 2.81-2.81c.8-.78.8-2.07 0-2.86zM5.41 20L4 18.59l7.72-7.72 1.47 1.35L5.41 20z\"/>\n",
              "  </svg>\n",
              "      </button>\n",
              "      \n",
              "  <style>\n",
              "    .colab-df-container {\n",
              "      display:flex;\n",
              "      flex-wrap:wrap;\n",
              "      gap: 12px;\n",
              "    }\n",
              "\n",
              "    .colab-df-convert {\n",
              "      background-color: #E8F0FE;\n",
              "      border: none;\n",
              "      border-radius: 50%;\n",
              "      cursor: pointer;\n",
              "      display: none;\n",
              "      fill: #1967D2;\n",
              "      height: 32px;\n",
              "      padding: 0 0 0 0;\n",
              "      width: 32px;\n",
              "    }\n",
              "\n",
              "    .colab-df-convert:hover {\n",
              "      background-color: #E2EBFA;\n",
              "      box-shadow: 0px 1px 2px rgba(60, 64, 67, 0.3), 0px 1px 3px 1px rgba(60, 64, 67, 0.15);\n",
              "      fill: #174EA6;\n",
              "    }\n",
              "\n",
              "    [theme=dark] .colab-df-convert {\n",
              "      background-color: #3B4455;\n",
              "      fill: #D2E3FC;\n",
              "    }\n",
              "\n",
              "    [theme=dark] .colab-df-convert:hover {\n",
              "      background-color: #434B5C;\n",
              "      box-shadow: 0px 1px 3px 1px rgba(0, 0, 0, 0.15);\n",
              "      filter: drop-shadow(0px 1px 2px rgba(0, 0, 0, 0.3));\n",
              "      fill: #FFFFFF;\n",
              "    }\n",
              "  </style>\n",
              "\n",
              "      <script>\n",
              "        const buttonEl =\n",
              "          document.querySelector('#df-fc8a2756-3619-4c34-af8e-e817ff6a18c5 button.colab-df-convert');\n",
              "        buttonEl.style.display =\n",
              "          google.colab.kernel.accessAllowed ? 'block' : 'none';\n",
              "\n",
              "        async function convertToInteractive(key) {\n",
              "          const element = document.querySelector('#df-fc8a2756-3619-4c34-af8e-e817ff6a18c5');\n",
              "          const dataTable =\n",
              "            await google.colab.kernel.invokeFunction('convertToInteractive',\n",
              "                                                     [key], {});\n",
              "          if (!dataTable) return;\n",
              "\n",
              "          const docLinkHtml = 'Like what you see? Visit the ' +\n",
              "            '<a target=\"_blank\" href=https://colab.research.google.com/notebooks/data_table.ipynb>data table notebook</a>'\n",
              "            + ' to learn more about interactive tables.';\n",
              "          element.innerHTML = '';\n",
              "          dataTable['output_type'] = 'display_data';\n",
              "          await google.colab.output.renderOutput(dataTable, element);\n",
              "          const docLink = document.createElement('div');\n",
              "          docLink.innerHTML = docLinkHtml;\n",
              "          element.appendChild(docLink);\n",
              "        }\n",
              "      </script>\n",
              "    </div>\n",
              "  </div>\n",
              "  "
            ],
            "text/plain": [
              "            cpo_pri  cno_pri  oli_pri  rps_pri  pno_pri  sbo_pri  sfo_pri\n",
              "date                                                                     \n",
              "2010-12-01      323      455  3102.61   423.45    844.0    468.0    578.0\n",
              "2011-01-01      345      546  3100.45   415.85    799.0    485.0    557.0\n",
              "2011-02-01      362      595  3199.41   410.77    718.0    466.0    552.0\n",
              "2011-03-01      376      636  3281.67   414.82    614.0    442.0    574.0\n",
              "2011-04-01      383      738  3261.65   451.04    619.0    429.0    595.0"
            ]
          },
          "execution_count": 12,
          "metadata": {},
          "output_type": "execute_result"
        }
      ],
      "source": [
        "print(train.shape)\n",
        "train.head()"
      ]
    },
    {
      "cell_type": "markdown",
      "metadata": {
        "id": "Z5F4OyT2mwRs"
      },
      "source": [
        "###Rescaling Training Data"
      ]
    },
    {
      "cell_type": "code",
      "execution_count": null,
      "metadata": {
        "colab": {
          "base_uri": "https://localhost:8080/",
          "height": 258
        },
        "id": "Lg-AQuNBmvZK",
        "outputId": "dcaa9002-c71f-4b92-ef07-2f3c7df1f14b"
      },
      "outputs": [
        {
          "data": {
            "text/html": [
              "\n",
              "  <div id=\"df-670f7623-8a7d-4888-b2f7-4916377faa39\">\n",
              "    <div class=\"colab-df-container\">\n",
              "      <div>\n",
              "<style scoped>\n",
              "    .dataframe tbody tr th:only-of-type {\n",
              "        vertical-align: middle;\n",
              "    }\n",
              "\n",
              "    .dataframe tbody tr th {\n",
              "        vertical-align: top;\n",
              "    }\n",
              "\n",
              "    .dataframe thead th {\n",
              "        text-align: right;\n",
              "    }\n",
              "</style>\n",
              "<table border=\"1\" class=\"dataframe\">\n",
              "  <thead>\n",
              "    <tr style=\"text-align: right;\">\n",
              "      <th></th>\n",
              "      <th>cpo_pri</th>\n",
              "      <th>cno_pri</th>\n",
              "      <th>oli_pri</th>\n",
              "      <th>rps_pri</th>\n",
              "      <th>pno_pri</th>\n",
              "      <th>sbo_pri</th>\n",
              "      <th>sfo_pri</th>\n",
              "    </tr>\n",
              "    <tr>\n",
              "      <th>date</th>\n",
              "      <th></th>\n",
              "      <th></th>\n",
              "      <th></th>\n",
              "      <th></th>\n",
              "      <th></th>\n",
              "      <th></th>\n",
              "      <th></th>\n",
              "    </tr>\n",
              "  </thead>\n",
              "  <tbody>\n",
              "    <tr>\n",
              "      <th>2010-12-01</th>\n",
              "      <td>323</td>\n",
              "      <td>0.112288</td>\n",
              "      <td>0.140918</td>\n",
              "      <td>0.010736</td>\n",
              "      <td>0.528090</td>\n",
              "      <td>0.253193</td>\n",
              "      <td>0.023302</td>\n",
              "    </tr>\n",
              "    <tr>\n",
              "      <th>2011-01-01</th>\n",
              "      <td>345</td>\n",
              "      <td>0.305085</td>\n",
              "      <td>0.140327</td>\n",
              "      <td>0.004301</td>\n",
              "      <td>0.443820</td>\n",
              "      <td>0.306536</td>\n",
              "      <td>0.009321</td>\n",
              "    </tr>\n",
              "    <tr>\n",
              "      <th>2011-02-01</th>\n",
              "      <td>362</td>\n",
              "      <td>0.408898</td>\n",
              "      <td>0.167408</td>\n",
              "      <td>0.000000</td>\n",
              "      <td>0.292135</td>\n",
              "      <td>0.246917</td>\n",
              "      <td>0.005992</td>\n",
              "    </tr>\n",
              "    <tr>\n",
              "      <th>2011-03-01</th>\n",
              "      <td>376</td>\n",
              "      <td>0.495763</td>\n",
              "      <td>0.189919</td>\n",
              "      <td>0.003429</td>\n",
              "      <td>0.097378</td>\n",
              "      <td>0.171609</td>\n",
              "      <td>0.020639</td>\n",
              "    </tr>\n",
              "    <tr>\n",
              "      <th>2011-04-01</th>\n",
              "      <td>383</td>\n",
              "      <td>0.711864</td>\n",
              "      <td>0.184440</td>\n",
              "      <td>0.034095</td>\n",
              "      <td>0.106742</td>\n",
              "      <td>0.130817</td>\n",
              "      <td>0.034621</td>\n",
              "    </tr>\n",
              "  </tbody>\n",
              "</table>\n",
              "</div>\n",
              "      <button class=\"colab-df-convert\" onclick=\"convertToInteractive('df-670f7623-8a7d-4888-b2f7-4916377faa39')\"\n",
              "              title=\"Convert this dataframe to an interactive table.\"\n",
              "              style=\"display:none;\">\n",
              "        \n",
              "  <svg xmlns=\"http://www.w3.org/2000/svg\" height=\"24px\"viewBox=\"0 0 24 24\"\n",
              "       width=\"24px\">\n",
              "    <path d=\"M0 0h24v24H0V0z\" fill=\"none\"/>\n",
              "    <path d=\"M18.56 5.44l.94 2.06.94-2.06 2.06-.94-2.06-.94-.94-2.06-.94 2.06-2.06.94zm-11 1L8.5 8.5l.94-2.06 2.06-.94-2.06-.94L8.5 2.5l-.94 2.06-2.06.94zm10 10l.94 2.06.94-2.06 2.06-.94-2.06-.94-.94-2.06-.94 2.06-2.06.94z\"/><path d=\"M17.41 7.96l-1.37-1.37c-.4-.4-.92-.59-1.43-.59-.52 0-1.04.2-1.43.59L10.3 9.45l-7.72 7.72c-.78.78-.78 2.05 0 2.83L4 21.41c.39.39.9.59 1.41.59.51 0 1.02-.2 1.41-.59l7.78-7.78 2.81-2.81c.8-.78.8-2.07 0-2.86zM5.41 20L4 18.59l7.72-7.72 1.47 1.35L5.41 20z\"/>\n",
              "  </svg>\n",
              "      </button>\n",
              "      \n",
              "  <style>\n",
              "    .colab-df-container {\n",
              "      display:flex;\n",
              "      flex-wrap:wrap;\n",
              "      gap: 12px;\n",
              "    }\n",
              "\n",
              "    .colab-df-convert {\n",
              "      background-color: #E8F0FE;\n",
              "      border: none;\n",
              "      border-radius: 50%;\n",
              "      cursor: pointer;\n",
              "      display: none;\n",
              "      fill: #1967D2;\n",
              "      height: 32px;\n",
              "      padding: 0 0 0 0;\n",
              "      width: 32px;\n",
              "    }\n",
              "\n",
              "    .colab-df-convert:hover {\n",
              "      background-color: #E2EBFA;\n",
              "      box-shadow: 0px 1px 2px rgba(60, 64, 67, 0.3), 0px 1px 3px 1px rgba(60, 64, 67, 0.15);\n",
              "      fill: #174EA6;\n",
              "    }\n",
              "\n",
              "    [theme=dark] .colab-df-convert {\n",
              "      background-color: #3B4455;\n",
              "      fill: #D2E3FC;\n",
              "    }\n",
              "\n",
              "    [theme=dark] .colab-df-convert:hover {\n",
              "      background-color: #434B5C;\n",
              "      box-shadow: 0px 1px 3px 1px rgba(0, 0, 0, 0.15);\n",
              "      filter: drop-shadow(0px 1px 2px rgba(0, 0, 0, 0.3));\n",
              "      fill: #FFFFFF;\n",
              "    }\n",
              "  </style>\n",
              "\n",
              "      <script>\n",
              "        const buttonEl =\n",
              "          document.querySelector('#df-670f7623-8a7d-4888-b2f7-4916377faa39 button.colab-df-convert');\n",
              "        buttonEl.style.display =\n",
              "          google.colab.kernel.accessAllowed ? 'block' : 'none';\n",
              "\n",
              "        async function convertToInteractive(key) {\n",
              "          const element = document.querySelector('#df-670f7623-8a7d-4888-b2f7-4916377faa39');\n",
              "          const dataTable =\n",
              "            await google.colab.kernel.invokeFunction('convertToInteractive',\n",
              "                                                     [key], {});\n",
              "          if (!dataTable) return;\n",
              "\n",
              "          const docLinkHtml = 'Like what you see? Visit the ' +\n",
              "            '<a target=\"_blank\" href=https://colab.research.google.com/notebooks/data_table.ipynb>data table notebook</a>'\n",
              "            + ' to learn more about interactive tables.';\n",
              "          element.innerHTML = '';\n",
              "          dataTable['output_type'] = 'display_data';\n",
              "          await google.colab.output.renderOutput(dataTable, element);\n",
              "          const docLink = document.createElement('div');\n",
              "          docLink.innerHTML = docLinkHtml;\n",
              "          element.appendChild(docLink);\n",
              "        }\n",
              "      </script>\n",
              "    </div>\n",
              "  </div>\n",
              "  "
            ],
            "text/plain": [
              "            cpo_pri   cno_pri   oli_pri   rps_pri   pno_pri   sbo_pri  \\\n",
              "date                                                                    \n",
              "2010-12-01      323  0.112288  0.140918  0.010736  0.528090  0.253193   \n",
              "2011-01-01      345  0.305085  0.140327  0.004301  0.443820  0.306536   \n",
              "2011-02-01      362  0.408898  0.167408  0.000000  0.292135  0.246917   \n",
              "2011-03-01      376  0.495763  0.189919  0.003429  0.097378  0.171609   \n",
              "2011-04-01      383  0.711864  0.184440  0.034095  0.106742  0.130817   \n",
              "\n",
              "             sfo_pri  \n",
              "date                  \n",
              "2010-12-01  0.023302  \n",
              "2011-01-01  0.009321  \n",
              "2011-02-01  0.005992  \n",
              "2011-03-01  0.020639  \n",
              "2011-04-01  0.034621  "
            ]
          },
          "execution_count": 13,
          "metadata": {},
          "output_type": "execute_result"
        }
      ],
      "source": [
        "f_transformer = MinMaxScaler()\n",
        "feature_columns = ['cno_pri', 'oli_pri', 'rps_pri', 'pno_pri', 'sbo_pri', 'sfo_pri']\n",
        "f_transformer = f_transformer.fit(train[feature_columns].to_numpy())\n",
        "train.loc[:, feature_columns] = f_transformer.transform(train[feature_columns].to_numpy())\n",
        "train.head()"
      ]
    },
    {
      "cell_type": "code",
      "execution_count": null,
      "metadata": {
        "colab": {
          "base_uri": "https://localhost:8080/"
        },
        "id": "XNkE4gN9nJLt",
        "outputId": "83ca21e5-f8ee-474b-9c9f-f7149b1a82de"
      },
      "outputs": [
        {
          "data": {
            "text/plain": [
              "date\n",
              "2010-12-01    0.0100\n",
              "2011-01-01    0.0650\n",
              "2011-02-01    0.1075\n",
              "2011-03-01    0.1425\n",
              "2011-04-01    0.1600\n",
              "Name: cpo_pri, dtype: float64"
            ]
          },
          "execution_count": 14,
          "metadata": {},
          "output_type": "execute_result"
        }
      ],
      "source": [
        "cpo_pri_transformer = MinMaxScaler()\n",
        "cpo_pri_transformer = cpo_pri_transformer.fit(train[['cpo_pri']])\n",
        "train['cpo_pri'] = cpo_pri_transformer.transform(train[['cpo_pri']])\n",
        "train['cpo_pri'].head()"
      ]
    },
    {
      "cell_type": "code",
      "execution_count": null,
      "metadata": {
        "colab": {
          "base_uri": "https://localhost:8080/",
          "height": 258
        },
        "id": "aouQuJG5n6k8",
        "outputId": "6d2f175d-1ecc-4511-d13b-e15c7510fe72"
      },
      "outputs": [
        {
          "data": {
            "text/html": [
              "\n",
              "  <div id=\"df-bd94ae08-7135-4bc8-a1e2-2e86072a5b87\">\n",
              "    <div class=\"colab-df-container\">\n",
              "      <div>\n",
              "<style scoped>\n",
              "    .dataframe tbody tr th:only-of-type {\n",
              "        vertical-align: middle;\n",
              "    }\n",
              "\n",
              "    .dataframe tbody tr th {\n",
              "        vertical-align: top;\n",
              "    }\n",
              "\n",
              "    .dataframe thead th {\n",
              "        text-align: right;\n",
              "    }\n",
              "</style>\n",
              "<table border=\"1\" class=\"dataframe\">\n",
              "  <thead>\n",
              "    <tr style=\"text-align: right;\">\n",
              "      <th></th>\n",
              "      <th>cpo_pri</th>\n",
              "      <th>cno_pri</th>\n",
              "      <th>oli_pri</th>\n",
              "      <th>rps_pri</th>\n",
              "      <th>pno_pri</th>\n",
              "      <th>sbo_pri</th>\n",
              "      <th>sfo_pri</th>\n",
              "    </tr>\n",
              "    <tr>\n",
              "      <th>date</th>\n",
              "      <th></th>\n",
              "      <th></th>\n",
              "      <th></th>\n",
              "      <th></th>\n",
              "      <th></th>\n",
              "      <th></th>\n",
              "      <th></th>\n",
              "    </tr>\n",
              "  </thead>\n",
              "  <tbody>\n",
              "    <tr>\n",
              "      <th>2019-03-01</th>\n",
              "      <td>354</td>\n",
              "      <td>0.637712</td>\n",
              "      <td>0.194855</td>\n",
              "      <td>0.382454</td>\n",
              "      <td>0.381292</td>\n",
              "      <td>-0.039662</td>\n",
              "      <td>0.493342</td>\n",
              "    </tr>\n",
              "    <tr>\n",
              "      <th>2019-04-01</th>\n",
              "      <td>348</td>\n",
              "      <td>0.533898</td>\n",
              "      <td>0.264388</td>\n",
              "      <td>0.393951</td>\n",
              "      <td>0.213633</td>\n",
              "      <td>-0.054975</td>\n",
              "      <td>0.597870</td>\n",
              "    </tr>\n",
              "    <tr>\n",
              "      <th>2019-05-01</th>\n",
              "      <td>332</td>\n",
              "      <td>0.400424</td>\n",
              "      <td>0.246417</td>\n",
              "      <td>0.453802</td>\n",
              "      <td>0.235262</td>\n",
              "      <td>-0.092159</td>\n",
              "      <td>0.606525</td>\n",
              "    </tr>\n",
              "    <tr>\n",
              "      <th>2019-06-01</th>\n",
              "      <td>349</td>\n",
              "      <td>0.317797</td>\n",
              "      <td>0.234308</td>\n",
              "      <td>0.509834</td>\n",
              "      <td>0.320749</td>\n",
              "      <td>-0.074743</td>\n",
              "      <td>0.631824</td>\n",
              "    </tr>\n",
              "    <tr>\n",
              "      <th>2019-07-01</th>\n",
              "      <td>372</td>\n",
              "      <td>0.313559</td>\n",
              "      <td>0.223422</td>\n",
              "      <td>0.526454</td>\n",
              "      <td>0.426610</td>\n",
              "      <td>-0.066114</td>\n",
              "      <td>0.773462</td>\n",
              "    </tr>\n",
              "  </tbody>\n",
              "</table>\n",
              "</div>\n",
              "      <button class=\"colab-df-convert\" onclick=\"convertToInteractive('df-bd94ae08-7135-4bc8-a1e2-2e86072a5b87')\"\n",
              "              title=\"Convert this dataframe to an interactive table.\"\n",
              "              style=\"display:none;\">\n",
              "        \n",
              "  <svg xmlns=\"http://www.w3.org/2000/svg\" height=\"24px\"viewBox=\"0 0 24 24\"\n",
              "       width=\"24px\">\n",
              "    <path d=\"M0 0h24v24H0V0z\" fill=\"none\"/>\n",
              "    <path d=\"M18.56 5.44l.94 2.06.94-2.06 2.06-.94-2.06-.94-.94-2.06-.94 2.06-2.06.94zm-11 1L8.5 8.5l.94-2.06 2.06-.94-2.06-.94L8.5 2.5l-.94 2.06-2.06.94zm10 10l.94 2.06.94-2.06 2.06-.94-2.06-.94-.94-2.06-.94 2.06-2.06.94z\"/><path d=\"M17.41 7.96l-1.37-1.37c-.4-.4-.92-.59-1.43-.59-.52 0-1.04.2-1.43.59L10.3 9.45l-7.72 7.72c-.78.78-.78 2.05 0 2.83L4 21.41c.39.39.9.59 1.41.59.51 0 1.02-.2 1.41-.59l7.78-7.78 2.81-2.81c.8-.78.8-2.07 0-2.86zM5.41 20L4 18.59l7.72-7.72 1.47 1.35L5.41 20z\"/>\n",
              "  </svg>\n",
              "      </button>\n",
              "      \n",
              "  <style>\n",
              "    .colab-df-container {\n",
              "      display:flex;\n",
              "      flex-wrap:wrap;\n",
              "      gap: 12px;\n",
              "    }\n",
              "\n",
              "    .colab-df-convert {\n",
              "      background-color: #E8F0FE;\n",
              "      border: none;\n",
              "      border-radius: 50%;\n",
              "      cursor: pointer;\n",
              "      display: none;\n",
              "      fill: #1967D2;\n",
              "      height: 32px;\n",
              "      padding: 0 0 0 0;\n",
              "      width: 32px;\n",
              "    }\n",
              "\n",
              "    .colab-df-convert:hover {\n",
              "      background-color: #E2EBFA;\n",
              "      box-shadow: 0px 1px 2px rgba(60, 64, 67, 0.3), 0px 1px 3px 1px rgba(60, 64, 67, 0.15);\n",
              "      fill: #174EA6;\n",
              "    }\n",
              "\n",
              "    [theme=dark] .colab-df-convert {\n",
              "      background-color: #3B4455;\n",
              "      fill: #D2E3FC;\n",
              "    }\n",
              "\n",
              "    [theme=dark] .colab-df-convert:hover {\n",
              "      background-color: #434B5C;\n",
              "      box-shadow: 0px 1px 3px 1px rgba(0, 0, 0, 0.15);\n",
              "      filter: drop-shadow(0px 1px 2px rgba(0, 0, 0, 0.3));\n",
              "      fill: #FFFFFF;\n",
              "    }\n",
              "  </style>\n",
              "\n",
              "      <script>\n",
              "        const buttonEl =\n",
              "          document.querySelector('#df-bd94ae08-7135-4bc8-a1e2-2e86072a5b87 button.colab-df-convert');\n",
              "        buttonEl.style.display =\n",
              "          google.colab.kernel.accessAllowed ? 'block' : 'none';\n",
              "\n",
              "        async function convertToInteractive(key) {\n",
              "          const element = document.querySelector('#df-bd94ae08-7135-4bc8-a1e2-2e86072a5b87');\n",
              "          const dataTable =\n",
              "            await google.colab.kernel.invokeFunction('convertToInteractive',\n",
              "                                                     [key], {});\n",
              "          if (!dataTable) return;\n",
              "\n",
              "          const docLinkHtml = 'Like what you see? Visit the ' +\n",
              "            '<a target=\"_blank\" href=https://colab.research.google.com/notebooks/data_table.ipynb>data table notebook</a>'\n",
              "            + ' to learn more about interactive tables.';\n",
              "          element.innerHTML = '';\n",
              "          dataTable['output_type'] = 'display_data';\n",
              "          await google.colab.output.renderOutput(dataTable, element);\n",
              "          const docLink = document.createElement('div');\n",
              "          docLink.innerHTML = docLinkHtml;\n",
              "          element.appendChild(docLink);\n",
              "        }\n",
              "      </script>\n",
              "    </div>\n",
              "  </div>\n",
              "  "
            ],
            "text/plain": [
              "            cpo_pri   cno_pri   oli_pri   rps_pri   pno_pri   sbo_pri  \\\n",
              "date                                                                    \n",
              "2019-03-01      354  0.637712  0.194855  0.382454  0.381292 -0.039662   \n",
              "2019-04-01      348  0.533898  0.264388  0.393951  0.213633 -0.054975   \n",
              "2019-05-01      332  0.400424  0.246417  0.453802  0.235262 -0.092159   \n",
              "2019-06-01      349  0.317797  0.234308  0.509834  0.320749 -0.074743   \n",
              "2019-07-01      372  0.313559  0.223422  0.526454  0.426610 -0.066114   \n",
              "\n",
              "             sfo_pri  \n",
              "date                  \n",
              "2019-03-01  0.493342  \n",
              "2019-04-01  0.597870  \n",
              "2019-05-01  0.606525  \n",
              "2019-06-01  0.631824  \n",
              "2019-07-01  0.773462  "
            ]
          },
          "execution_count": 15,
          "metadata": {},
          "output_type": "execute_result"
        }
      ],
      "source": [
        "test.loc[:, feature_columns] = f_transformer.transform(test[feature_columns].to_numpy())\n",
        "test.head()"
      ]
    },
    {
      "cell_type": "code",
      "execution_count": null,
      "metadata": {
        "colab": {
          "base_uri": "https://localhost:8080/"
        },
        "id": "GXgFSrz3n6o5",
        "outputId": "31b4a708-15cf-487e-e27e-a066c89e2fc4"
      },
      "outputs": [
        {
          "data": {
            "text/plain": [
              "date\n",
              "2019-03-01    0.0875\n",
              "2019-04-01    0.0725\n",
              "2019-05-01    0.0325\n",
              "2019-06-01    0.0750\n",
              "2019-07-01    0.1325\n",
              "Name: cpo_pri, dtype: float64"
            ]
          },
          "execution_count": 16,
          "metadata": {},
          "output_type": "execute_result"
        }
      ],
      "source": [
        "test['cpo_pri'] = cpo_pri_transformer.transform(test[['cpo_pri']])\n",
        "test['cpo_pri'].head()"
      ]
    },
    {
      "cell_type": "markdown",
      "metadata": {
        "id": "p_2s3AO-ohCD"
      },
      "source": [
        "###Create X_train, y_train, X_test and y_test"
      ]
    },
    {
      "cell_type": "code",
      "execution_count": null,
      "metadata": {
        "colab": {
          "base_uri": "https://localhost:8080/"
        },
        "id": "fGTyTKiYoJIb",
        "outputId": "c9ef459e-7230-436f-a16c-789a76ca0509"
      },
      "outputs": [
        {
          "name": "stdout",
          "output_type": "stream",
          "text": [
            "(96, 3, 7) (96,)\n"
          ]
        }
      ],
      "source": [
        "def createDataset(X, y, time_steps):\n",
        "    Xs, ys = [], []\n",
        "    for i in range(len(X) - time_steps):\n",
        "        data = X.iloc[i:(i + time_steps)].values\n",
        "        Xs.append(data)        \n",
        "        ys.append(y.iloc[i + time_steps])\n",
        "        \n",
        "    return np.array(Xs), np.array(ys)\n",
        "\n",
        "time_steps = 3\n",
        "X_train, y_train = createDataset(train, train.cpo_pri, time_steps)\n",
        "X_test, y_test = createDataset(test, test.cpo_pri, time_steps)\n",
        "print(X_train.shape, y_train.shape)"
      ]
    },
    {
      "cell_type": "code",
      "execution_count": null,
      "metadata": {
        "colab": {
          "base_uri": "https://localhost:8080/"
        },
        "id": "EkQPUIAQOvX9",
        "outputId": "d117bda0-301c-441f-f095-e7f1da4d74cc"
      },
      "outputs": [
        {
          "name": "stdout",
          "output_type": "stream",
          "text": [
            "Epoch 1/100\n",
            "2/2 [==============================] - 10s 894ms/step - loss: 0.2767 - mse: 0.2767 - val_loss: 0.2581 - val_mse: 0.2581\n",
            "Epoch 2/100\n",
            "2/2 [==============================] - 0s 29ms/step - loss: 0.1231 - mse: 0.1231 - val_loss: 0.1278 - val_mse: 0.1278\n",
            "Epoch 3/100\n",
            "2/2 [==============================] - 0s 33ms/step - loss: 0.0440 - mse: 0.0440 - val_loss: 0.0908 - val_mse: 0.0908\n",
            "Epoch 4/100\n",
            "2/2 [==============================] - 0s 29ms/step - loss: 0.0699 - mse: 0.0699 - val_loss: 0.0792 - val_mse: 0.0792\n",
            "Epoch 5/100\n",
            "2/2 [==============================] - 0s 28ms/step - loss: 0.0316 - mse: 0.0316 - val_loss: 0.1433 - val_mse: 0.1433\n",
            "Epoch 6/100\n",
            "2/2 [==============================] - 0s 27ms/step - loss: 0.0586 - mse: 0.0586 - val_loss: 0.0698 - val_mse: 0.0698\n",
            "Epoch 7/100\n",
            "2/2 [==============================] - 0s 27ms/step - loss: 0.0250 - mse: 0.0250 - val_loss: 0.0514 - val_mse: 0.0514\n",
            "Epoch 8/100\n",
            "2/2 [==============================] - 0s 26ms/step - loss: 0.0445 - mse: 0.0445 - val_loss: 0.0414 - val_mse: 0.0414\n",
            "Epoch 9/100\n",
            "2/2 [==============================] - 0s 27ms/step - loss: 0.0211 - mse: 0.0211 - val_loss: 0.0862 - val_mse: 0.0862\n",
            "Epoch 10/100\n",
            "2/2 [==============================] - 0s 28ms/step - loss: 0.0395 - mse: 0.0395 - val_loss: 0.0601 - val_mse: 0.0601\n",
            "Epoch 11/100\n",
            "2/2 [==============================] - 0s 26ms/step - loss: 0.0212 - mse: 0.0212 - val_loss: 0.0244 - val_mse: 0.0244\n",
            "Epoch 12/100\n",
            "2/2 [==============================] - 0s 27ms/step - loss: 0.0173 - mse: 0.0173 - val_loss: 0.0214 - val_mse: 0.0214\n",
            "Epoch 13/100\n",
            "2/2 [==============================] - 0s 27ms/step - loss: 0.0190 - mse: 0.0190 - val_loss: 0.0202 - val_mse: 0.0202\n",
            "Epoch 14/100\n",
            "2/2 [==============================] - 0s 27ms/step - loss: 0.0159 - mse: 0.0159 - val_loss: 0.0264 - val_mse: 0.0264\n",
            "Epoch 15/100\n",
            "2/2 [==============================] - 0s 27ms/step - loss: 0.0165 - mse: 0.0165 - val_loss: 0.0201 - val_mse: 0.0201\n",
            "Epoch 16/100\n",
            "2/2 [==============================] - 0s 27ms/step - loss: 0.0158 - mse: 0.0158 - val_loss: 0.0187 - val_mse: 0.0187\n",
            "Epoch 17/100\n",
            "2/2 [==============================] - 0s 27ms/step - loss: 0.0171 - mse: 0.0171 - val_loss: 0.0203 - val_mse: 0.0203\n",
            "Epoch 18/100\n",
            "2/2 [==============================] - 0s 26ms/step - loss: 0.0132 - mse: 0.0132 - val_loss: 0.0197 - val_mse: 0.0197\n",
            "Epoch 19/100\n",
            "2/2 [==============================] - 0s 27ms/step - loss: 0.0111 - mse: 0.0111 - val_loss: 0.0198 - val_mse: 0.0198\n",
            "Epoch 20/100\n",
            "2/2 [==============================] - 0s 31ms/step - loss: 0.0105 - mse: 0.0105 - val_loss: 0.0200 - val_mse: 0.0200\n",
            "Epoch 21/100\n",
            "2/2 [==============================] - 0s 27ms/step - loss: 0.0125 - mse: 0.0125 - val_loss: 0.0193 - val_mse: 0.0193\n",
            "Epoch 22/100\n",
            "2/2 [==============================] - 0s 28ms/step - loss: 0.0093 - mse: 0.0093 - val_loss: 0.0183 - val_mse: 0.0183\n",
            "Epoch 23/100\n",
            "2/2 [==============================] - 0s 27ms/step - loss: 0.0094 - mse: 0.0094 - val_loss: 0.0204 - val_mse: 0.0204\n",
            "Epoch 24/100\n",
            "2/2 [==============================] - 0s 27ms/step - loss: 0.0111 - mse: 0.0111 - val_loss: 0.0230 - val_mse: 0.0230\n",
            "Epoch 25/100\n",
            "2/2 [==============================] - 0s 26ms/step - loss: 0.0112 - mse: 0.0112 - val_loss: 0.0195 - val_mse: 0.0195\n",
            "Epoch 26/100\n",
            "2/2 [==============================] - 0s 27ms/step - loss: 0.0123 - mse: 0.0123 - val_loss: 0.0199 - val_mse: 0.0199\n",
            "Epoch 27/100\n",
            "2/2 [==============================] - 0s 26ms/step - loss: 0.0091 - mse: 0.0091 - val_loss: 0.0226 - val_mse: 0.0226\n",
            "Epoch 28/100\n",
            "2/2 [==============================] - 0s 28ms/step - loss: 0.0109 - mse: 0.0109 - val_loss: 0.0230 - val_mse: 0.0230\n",
            "Epoch 29/100\n",
            "2/2 [==============================] - 0s 26ms/step - loss: 0.0144 - mse: 0.0144 - val_loss: 0.0237 - val_mse: 0.0237\n",
            "Epoch 30/100\n",
            "2/2 [==============================] - 0s 26ms/step - loss: 0.0103 - mse: 0.0103 - val_loss: 0.0234 - val_mse: 0.0234\n",
            "Epoch 31/100\n",
            "2/2 [==============================] - 0s 31ms/step - loss: 0.0104 - mse: 0.0104 - val_loss: 0.0209 - val_mse: 0.0209\n",
            "Epoch 32/100\n",
            "2/2 [==============================] - 0s 26ms/step - loss: 0.0090 - mse: 0.0090 - val_loss: 0.0242 - val_mse: 0.0242\n",
            "Epoch 33/100\n",
            "2/2 [==============================] - 0s 26ms/step - loss: 0.0102 - mse: 0.0102 - val_loss: 0.0216 - val_mse: 0.0216\n",
            "Epoch 34/100\n",
            "2/2 [==============================] - 0s 27ms/step - loss: 0.0090 - mse: 0.0090 - val_loss: 0.0191 - val_mse: 0.0191\n",
            "Epoch 35/100\n",
            "2/2 [==============================] - 0s 29ms/step - loss: 0.0125 - mse: 0.0125 - val_loss: 0.0205 - val_mse: 0.0205\n",
            "Epoch 36/100\n",
            "2/2 [==============================] - 0s 26ms/step - loss: 0.0101 - mse: 0.0101 - val_loss: 0.0252 - val_mse: 0.0252\n",
            "Epoch 37/100\n",
            "2/2 [==============================] - 0s 26ms/step - loss: 0.0090 - mse: 0.0090 - val_loss: 0.0267 - val_mse: 0.0267\n",
            "Epoch 38/100\n",
            "2/2 [==============================] - 0s 29ms/step - loss: 0.0117 - mse: 0.0117 - val_loss: 0.0231 - val_mse: 0.0231\n",
            "Epoch 39/100\n",
            "2/2 [==============================] - 0s 27ms/step - loss: 0.0097 - mse: 0.0097 - val_loss: 0.0202 - val_mse: 0.0202\n",
            "Epoch 40/100\n",
            "2/2 [==============================] - 0s 26ms/step - loss: 0.0110 - mse: 0.0110 - val_loss: 0.0210 - val_mse: 0.0210\n",
            "Epoch 41/100\n",
            "2/2 [==============================] - 0s 26ms/step - loss: 0.0071 - mse: 0.0071 - val_loss: 0.0339 - val_mse: 0.0339\n",
            "Epoch 42/100\n",
            "2/2 [==============================] - 0s 26ms/step - loss: 0.0158 - mse: 0.0158 - val_loss: 0.0257 - val_mse: 0.0257\n",
            "Epoch 43/100\n",
            "2/2 [==============================] - 0s 27ms/step - loss: 0.0095 - mse: 0.0095 - val_loss: 0.0188 - val_mse: 0.0188\n",
            "Epoch 44/100\n",
            "2/2 [==============================] - 0s 29ms/step - loss: 0.0119 - mse: 0.0119 - val_loss: 0.0191 - val_mse: 0.0191\n",
            "Epoch 45/100\n",
            "2/2 [==============================] - 0s 28ms/step - loss: 0.0086 - mse: 0.0086 - val_loss: 0.0232 - val_mse: 0.0232\n",
            "Epoch 46/100\n",
            "2/2 [==============================] - 0s 28ms/step - loss: 0.0087 - mse: 0.0087 - val_loss: 0.0222 - val_mse: 0.0222\n",
            "Epoch 47/100\n",
            "2/2 [==============================] - 0s 27ms/step - loss: 0.0097 - mse: 0.0097 - val_loss: 0.0228 - val_mse: 0.0228\n",
            "Epoch 48/100\n",
            "2/2 [==============================] - 0s 29ms/step - loss: 0.0094 - mse: 0.0094 - val_loss: 0.0235 - val_mse: 0.0235\n",
            "Epoch 49/100\n",
            "2/2 [==============================] - 0s 28ms/step - loss: 0.0088 - mse: 0.0088 - val_loss: 0.0231 - val_mse: 0.0231\n",
            "Epoch 50/100\n",
            "2/2 [==============================] - 0s 35ms/step - loss: 0.0069 - mse: 0.0069 - val_loss: 0.0194 - val_mse: 0.0194\n",
            "Epoch 51/100\n",
            "2/2 [==============================] - 0s 29ms/step - loss: 0.0086 - mse: 0.0086 - val_loss: 0.0176 - val_mse: 0.0176\n",
            "Epoch 52/100\n",
            "2/2 [==============================] - 0s 33ms/step - loss: 0.0093 - mse: 0.0093 - val_loss: 0.0250 - val_mse: 0.0250\n",
            "Epoch 53/100\n",
            "2/2 [==============================] - 0s 28ms/step - loss: 0.0102 - mse: 0.0102 - val_loss: 0.0212 - val_mse: 0.0212\n",
            "Epoch 54/100\n",
            "2/2 [==============================] - 0s 27ms/step - loss: 0.0080 - mse: 0.0080 - val_loss: 0.0171 - val_mse: 0.0171\n",
            "Epoch 55/100\n",
            "2/2 [==============================] - 0s 27ms/step - loss: 0.0079 - mse: 0.0079 - val_loss: 0.0240 - val_mse: 0.0240\n",
            "Epoch 56/100\n",
            "2/2 [==============================] - 0s 26ms/step - loss: 0.0082 - mse: 0.0082 - val_loss: 0.0317 - val_mse: 0.0317\n",
            "Epoch 57/100\n",
            "2/2 [==============================] - 0s 27ms/step - loss: 0.0106 - mse: 0.0106 - val_loss: 0.0232 - val_mse: 0.0232\n",
            "Epoch 58/100\n",
            "2/2 [==============================] - 0s 28ms/step - loss: 0.0085 - mse: 0.0085 - val_loss: 0.0243 - val_mse: 0.0243\n",
            "Epoch 59/100\n",
            "2/2 [==============================] - 0s 27ms/step - loss: 0.0093 - mse: 0.0093 - val_loss: 0.0254 - val_mse: 0.0254\n",
            "Epoch 60/100\n",
            "2/2 [==============================] - 0s 27ms/step - loss: 0.0082 - mse: 0.0082 - val_loss: 0.0314 - val_mse: 0.0314\n",
            "Epoch 61/100\n",
            "2/2 [==============================] - 0s 27ms/step - loss: 0.0115 - mse: 0.0115 - val_loss: 0.0182 - val_mse: 0.0182\n",
            "Epoch 62/100\n",
            "2/2 [==============================] - 0s 27ms/step - loss: 0.0104 - mse: 0.0104 - val_loss: 0.0213 - val_mse: 0.0213\n",
            "Epoch 63/100\n",
            "2/2 [==============================] - 0s 26ms/step - loss: 0.0122 - mse: 0.0122 - val_loss: 0.0235 - val_mse: 0.0235\n",
            "Epoch 64/100\n",
            "2/2 [==============================] - 0s 34ms/step - loss: 0.0088 - mse: 0.0088 - val_loss: 0.0261 - val_mse: 0.0261\n",
            "Epoch 65/100\n",
            "2/2 [==============================] - 0s 29ms/step - loss: 0.0084 - mse: 0.0084 - val_loss: 0.0225 - val_mse: 0.0225\n",
            "Epoch 66/100\n",
            "2/2 [==============================] - 0s 29ms/step - loss: 0.0074 - mse: 0.0074 - val_loss: 0.0227 - val_mse: 0.0227\n",
            "Epoch 67/100\n",
            "2/2 [==============================] - 0s 28ms/step - loss: 0.0079 - mse: 0.0079 - val_loss: 0.0226 - val_mse: 0.0226\n",
            "Epoch 68/100\n",
            "2/2 [==============================] - 0s 26ms/step - loss: 0.0076 - mse: 0.0076 - val_loss: 0.0185 - val_mse: 0.0185\n",
            "Epoch 69/100\n",
            "2/2 [==============================] - 0s 27ms/step - loss: 0.0073 - mse: 0.0073 - val_loss: 0.0178 - val_mse: 0.0178\n",
            "Epoch 70/100\n",
            "2/2 [==============================] - 0s 28ms/step - loss: 0.0099 - mse: 0.0099 - val_loss: 0.0177 - val_mse: 0.0177\n",
            "Epoch 71/100\n",
            "2/2 [==============================] - 0s 27ms/step - loss: 0.0078 - mse: 0.0078 - val_loss: 0.0197 - val_mse: 0.0197\n",
            "Epoch 72/100\n",
            "2/2 [==============================] - 0s 29ms/step - loss: 0.0076 - mse: 0.0076 - val_loss: 0.0200 - val_mse: 0.0200\n",
            "Epoch 73/100\n",
            "2/2 [==============================] - 0s 27ms/step - loss: 0.0069 - mse: 0.0069 - val_loss: 0.0159 - val_mse: 0.0159\n",
            "Epoch 74/100\n",
            "2/2 [==============================] - 0s 29ms/step - loss: 0.0068 - mse: 0.0068 - val_loss: 0.0179 - val_mse: 0.0179\n",
            "Epoch 75/100\n",
            "2/2 [==============================] - 0s 28ms/step - loss: 0.0073 - mse: 0.0073 - val_loss: 0.0229 - val_mse: 0.0229\n",
            "Epoch 76/100\n",
            "2/2 [==============================] - 0s 32ms/step - loss: 0.0079 - mse: 0.0079 - val_loss: 0.0207 - val_mse: 0.0207\n",
            "Epoch 77/100\n",
            "2/2 [==============================] - 0s 28ms/step - loss: 0.0071 - mse: 0.0071 - val_loss: 0.0234 - val_mse: 0.0234\n",
            "Epoch 78/100\n",
            "2/2 [==============================] - 0s 27ms/step - loss: 0.0095 - mse: 0.0095 - val_loss: 0.0248 - val_mse: 0.0248\n",
            "Epoch 79/100\n",
            "2/2 [==============================] - 0s 31ms/step - loss: 0.0084 - mse: 0.0084 - val_loss: 0.0253 - val_mse: 0.0253\n",
            "Epoch 80/100\n",
            "2/2 [==============================] - 0s 27ms/step - loss: 0.0084 - mse: 0.0084 - val_loss: 0.0175 - val_mse: 0.0175\n",
            "Epoch 81/100\n",
            "2/2 [==============================] - 0s 27ms/step - loss: 0.0090 - mse: 0.0090 - val_loss: 0.0180 - val_mse: 0.0180\n",
            "Epoch 82/100\n",
            "2/2 [==============================] - 0s 27ms/step - loss: 0.0067 - mse: 0.0067 - val_loss: 0.0201 - val_mse: 0.0201\n",
            "Epoch 83/100\n",
            "2/2 [==============================] - 0s 27ms/step - loss: 0.0090 - mse: 0.0090 - val_loss: 0.0212 - val_mse: 0.0212\n",
            "Epoch 84/100\n",
            "2/2 [==============================] - 0s 32ms/step - loss: 0.0083 - mse: 0.0083 - val_loss: 0.0215 - val_mse: 0.0215\n",
            "Epoch 85/100\n",
            "2/2 [==============================] - 0s 27ms/step - loss: 0.0082 - mse: 0.0082 - val_loss: 0.0198 - val_mse: 0.0198\n",
            "Epoch 86/100\n",
            "2/2 [==============================] - 0s 26ms/step - loss: 0.0071 - mse: 0.0071 - val_loss: 0.0189 - val_mse: 0.0189\n",
            "Epoch 87/100\n",
            "2/2 [==============================] - 0s 26ms/step - loss: 0.0066 - mse: 0.0066 - val_loss: 0.0188 - val_mse: 0.0188\n",
            "Epoch 88/100\n",
            "2/2 [==============================] - 0s 27ms/step - loss: 0.0066 - mse: 0.0066 - val_loss: 0.0196 - val_mse: 0.0196\n",
            "Epoch 89/100\n",
            "2/2 [==============================] - 0s 26ms/step - loss: 0.0083 - mse: 0.0083 - val_loss: 0.0211 - val_mse: 0.0211\n",
            "Epoch 90/100\n",
            "2/2 [==============================] - 0s 26ms/step - loss: 0.0072 - mse: 0.0072 - val_loss: 0.0204 - val_mse: 0.0204\n",
            "Epoch 91/100\n",
            "2/2 [==============================] - 0s 27ms/step - loss: 0.0065 - mse: 0.0065 - val_loss: 0.0194 - val_mse: 0.0194\n",
            "Epoch 92/100\n",
            "2/2 [==============================] - 0s 27ms/step - loss: 0.0069 - mse: 0.0069 - val_loss: 0.0183 - val_mse: 0.0183\n",
            "Epoch 93/100\n",
            "2/2 [==============================] - 0s 27ms/step - loss: 0.0061 - mse: 0.0061 - val_loss: 0.0165 - val_mse: 0.0165\n",
            "Epoch 94/100\n",
            "2/2 [==============================] - 0s 28ms/step - loss: 0.0067 - mse: 0.0067 - val_loss: 0.0145 - val_mse: 0.0145\n",
            "Epoch 95/100\n",
            "2/2 [==============================] - 0s 28ms/step - loss: 0.0070 - mse: 0.0070 - val_loss: 0.0136 - val_mse: 0.0136\n",
            "Epoch 96/100\n",
            "2/2 [==============================] - 0s 28ms/step - loss: 0.0060 - mse: 0.0060 - val_loss: 0.0163 - val_mse: 0.0163\n",
            "Epoch 97/100\n",
            "2/2 [==============================] - 0s 28ms/step - loss: 0.0072 - mse: 0.0072 - val_loss: 0.0150 - val_mse: 0.0150\n",
            "Epoch 98/100\n",
            "2/2 [==============================] - 0s 29ms/step - loss: 0.0065 - mse: 0.0065 - val_loss: 0.0228 - val_mse: 0.0228\n",
            "Epoch 99/100\n",
            "2/2 [==============================] - 0s 30ms/step - loss: 0.0087 - mse: 0.0087 - val_loss: 0.0276 - val_mse: 0.0276\n",
            "Epoch 100/100\n",
            "2/2 [==============================] - 0s 36ms/step - loss: 0.0099 - mse: 0.0099 - val_loss: 0.0262 - val_mse: 0.0262\n",
            "1/1 [==============================] - 0s 28ms/step - loss: 0.0142 - mse: 0.0142\n"
          ]
        },
        {
          "data": {
            "text/plain": [
              "[0.014212548732757568, 0.014212548732757568]"
            ]
          },
          "execution_count": 18,
          "metadata": {},
          "output_type": "execute_result"
        }
      ],
      "source": [
        "import tensorflow as tf\n",
        "tf.random.set_seed(1)\n",
        "\n",
        "#The GRU architecture\n",
        "GRU_model = tf.keras.Sequential()\n",
        "# First GRU layer\n",
        "GRU_model.add(tf.keras.layers.GRU(75, return_sequences=True,activation='tanh', input_shape=(X_test.shape[1], X_test.shape[2])))\n",
        "GRU_model.add(Dropout(0.2))\n",
        "\n",
        "# Second GRU layer\n",
        "GRU_model.add(tf.keras.layers.GRU(64, return_sequences=True))\n",
        "GRU_model.add(Dropout(0.2))\n",
        "\n",
        "# Third GRU layer\n",
        "GRU_model.add(tf.keras.layers.GRU(64))\n",
        "GRU_model.add(Dropout(0.2))\n",
        "\n",
        "#The output layer\n",
        "GRU_model.add(tf.keras.layers.Dense(units=1))\n",
        "\n",
        "# compiling the GRU network\n",
        "GRU_model.compile(optimizer=tf.keras.optimizers.Adam(learning_rate=0.01,decay=1e-7), loss='mse',metrics=['mse'])\n",
        "\n",
        "# model training\n",
        "history = GRU_model.fit(X_train, y_train, epochs=100, batch_size = 64, validation_split=0.2) #epochs = 30, batch_size = 60\n",
        "\n",
        "# model evaluation\n",
        "GRU_model.evaluate(X_test, y_test)"
      ]
    },
    {
      "cell_type": "code",
      "execution_count": null,
      "metadata": {
        "colab": {
          "base_uri": "https://localhost:8080/",
          "height": 421
        },
        "id": "tvMUIg5SHsEF",
        "outputId": "ab091486-17e2-42e0-bd79-e28983ab57ae"
      },
      "outputs": [
        {
          "name": "stdout",
          "output_type": "stream",
          "text": [
            "dict_keys(['loss', 'mse', 'val_loss', 'val_mse'])\n"
          ]
        },
        {
          "data": {
            "image/png": "[encoded data removed]",
            "text/plain": [
              "<Figure size 720x360 with 1 Axes>"
            ]
          },
          "metadata": {},
          "output_type": "display_data"
        }
      ],
      "source": [
        "print(history.history.keys())\n",
        "# \"Loss\"\n",
        "plt.plot(history.history['loss'])\n",
        "plt.plot(history.history['val_loss'])\n",
        "plt.title('model loss')\n",
        "plt.ylabel('loss')\n",
        "plt.xlabel('epoch')\n",
        "plt.legend(['train', 'validation'], loc='upper left')\n",
        "plt.show()"
      ]
    },
    {
      "cell_type": "code",
      "execution_count": null,
      "metadata": {
        "colab": {
          "base_uri": "https://localhost:8080/"
        },
        "id": "ImssP1C-YLO6",
        "outputId": "691f6a65-dccc-4a91-bb67-528e6ceca488"
      },
      "outputs": [
        {
          "name": "stdout",
          "output_type": "stream",
          "text": [
            "1/1 [==============================] - 0s 28ms/step - loss: 0.0142 - mse: 0.0142\n"
          ]
        }
      ],
      "source": [
        "mse_GRU = GRU_model.evaluate(X_test, y_test)"
      ]
    },
    {
      "cell_type": "markdown",
      "metadata": {
        "id": "kaLutRuWgU4K"
      },
      "source": [
        "####Baseline MSE = 0.01660"
      ]
    },
    {
      "cell_type": "code",
      "execution_count": null,
      "metadata": {
        "colab": {
          "base_uri": "https://localhost:8080/"
        },
        "id": "A8XbxYQeiCoj",
        "outputId": "38fda816-5dae-43d8-ca01-ca5cd868bca8"
      },
      "outputs": [
        {
          "name": "stdout",
          "output_type": "stream",
          "text": [
            "Model: \"sequential\"\n",
            "_________________________________________________________________\n",
            " Layer (type)                Output Shape              Param #   \n",
            "=================================================================\n",
            " gru (GRU)                   (None, 3, 75)             18900     \n",
            "                                                                 \n",
            " dropout (Dropout)           (None, 3, 75)             0         \n",
            "                                                                 \n",
            " gru_1 (GRU)                 (None, 3, 64)             27072     \n",
            "                                                                 \n",
            " dropout_1 (Dropout)         (None, 3, 64)             0         \n",
            "                                                                 \n",
            " gru_2 (GRU)                 (None, 64)                24960     \n",
            "                                                                 \n",
            " dropout_2 (Dropout)         (None, 64)                0         \n",
            "                                                                 \n",
            " dense (Dense)               (None, 1)                 65        \n",
            "                                                                 \n",
            "=================================================================\n",
            "Total params: 70,997\n",
            "Trainable params: 70,997\n",
            "Non-trainable params: 0\n",
            "_________________________________________________________________\n"
          ]
        }
      ],
      "source": [
        "GRU_model.summary()"
      ]
    },
    {
      "cell_type": "markdown",
      "metadata": {
        "id": "bNFFP1sSleo-"
      },
      "source": [
        "###Predict the Test without Hyperparameter Tuning"
      ]
    },
    {
      "cell_type": "code",
      "execution_count": null,
      "metadata": {
        "colab": {
          "base_uri": "https://localhost:8080/"
        },
        "id": "wujQ6JNuiCyl",
        "outputId": "c4a9ba51-eb3a-420c-9339-96828dfc8cec"
      },
      "outputs": [
        {
          "name": "stdout",
          "output_type": "stream",
          "text": [
            "1/1 [==============================] - 1s 947ms/step\n"
          ]
        },
        {
          "data": {
            "text/plain": [
              "array([[ 0.16161472],\n",
              "       [ 0.14549376],\n",
              "       [ 0.15924609],\n",
              "       [ 0.11283181],\n",
              "       [ 0.05114257],\n",
              "       [-0.01440528],\n",
              "       [-0.08414642],\n",
              "       [-0.16399282],\n",
              "       [-0.23225585],\n",
              "       [-0.25891367],\n",
              "       [-0.2517686 ],\n",
              "       [-0.24029619],\n",
              "       [-0.25231156],\n",
              "       [-0.223871  ],\n",
              "       [-0.2418516 ],\n",
              "       [-0.2953647 ],\n",
              "       [-0.2619426 ],\n",
              "       [-0.10031132],\n",
              "       [-0.04316289],\n",
              "       [-0.10577179],\n",
              "       [-0.16667634],\n",
              "       [-0.10583218]], dtype=float32)"
            ]
          },
          "execution_count": 22,
          "metadata": {},
          "output_type": "execute_result"
        }
      ],
      "source": [
        "y_pred = GRU_model.predict(X_test)\n",
        "y_pred"
      ]
    },
    {
      "cell_type": "code",
      "execution_count": null,
      "metadata": {
        "colab": {
          "base_uri": "https://localhost:8080/"
        },
        "id": "GI8XYmymlslh",
        "outputId": "090ee4a9-3dc9-4178-8451-afa6f5fe99c2"
      },
      "outputs": [
        {
          "data": {
            "text/plain": [
              "array([[ 0.16161472,  0.14549376,  0.15924609,  0.11283181,  0.05114257,\n",
              "        -0.01440528, -0.08414642, -0.16399282, -0.23225585, -0.25891367,\n",
              "        -0.2517686 , -0.24029619, -0.25231156, -0.223871  , -0.2418516 ,\n",
              "        -0.2953647 , -0.2619426 , -0.10031132, -0.04316289, -0.10577179,\n",
              "        -0.16667634, -0.10583218]], dtype=float32)"
            ]
          },
          "execution_count": 23,
          "metadata": {},
          "output_type": "execute_result"
        }
      ],
      "source": [
        "y_pred.reshape(1,-1)"
      ]
    },
    {
      "cell_type": "markdown",
      "metadata": {
        "id": "jrtmvrZ_l2__"
      },
      "source": [
        "###Invert Transformed Data"
      ]
    },
    {
      "cell_type": "code",
      "execution_count": null,
      "metadata": {
        "colab": {
          "base_uri": "https://localhost:8080/"
        },
        "id": "FVSGGT57lxHw",
        "outputId": "e09c1874-3083-4d5f-96b4-fd1f68736825"
      },
      "outputs": [
        {
          "name": "stdout",
          "output_type": "stream",
          "text": [
            "[[376. 383. 382. 396. 402. 390. 404. 382. 382. 391. 396. 413. 401. 410.\n",
            "  425. 408. 392. 371. 356. 362. 356. 352. 333. 357. 411. 404. 387. 395.\n",
            "  434. 488. 508. 494. 575. 614. 616. 707. 719. 655. 661. 687. 625. 611.\n",
            "  631. 655. 616. 586. 615. 607. 590. 535. 518. 519. 562. 552. 508. 476.\n",
            "  513. 545. 532. 550. 561. 567. 580. 559. 562. 553. 533. 498. 504. 525.\n",
            "  547. 556. 566. 621. 659. 671. 688. 705. 633. 661. 674. 703. 694. 681.\n",
            "  663. 632. 561. 497. 509. 475. 392. 319. 354. 388. 381. 370.]]\n",
            "[[349. 372. 324. 315. 312. 306. 288. 255. 257. 265. 254. 240. 254. 251.\n",
            "  234. 255. 330. 362. 310. 277. 323. 360.]]\n",
            "[[383.6459  377.1975  382.69843 364.13272 339.45703 313.23788 285.34143\n",
            "  253.40288 226.09766 215.43452 218.29257 222.88153 218.07538 229.45161\n",
            "  222.25935 200.85411 214.22296 278.87546 301.73486 276.69128 252.32947\n",
            "  276.6671 ]]\n"
          ]
        }
      ],
      "source": [
        "y_train_inv = cpo_pri_transformer.inverse_transform(y_train.reshape(1, -1))\n",
        "y_test_inv = cpo_pri_transformer.inverse_transform(y_test.reshape(1, -1))\n",
        "y_pred_inv = cpo_pri_transformer.inverse_transform(y_pred.reshape(1,-1))\n",
        "print(y_train_inv)\n",
        "print(y_test_inv)\n",
        "print(y_pred_inv)"
      ]
    },
    {
      "cell_type": "markdown",
      "metadata": {
        "id": "PxYTgRmhmDtL"
      },
      "source": [
        "###Plot History, Actual and Predicted Value"
      ]
    },
    {
      "cell_type": "code",
      "execution_count": null,
      "metadata": {
        "colab": {
          "base_uri": "https://localhost:8080/"
        },
        "id": "YXY0nwhElxLo",
        "outputId": "65278598-0e18-47a1-c249-b175e5ee06b8"
      },
      "outputs": [
        {
          "data": {
            "text/plain": [
              "array([376., 383., 382., 396., 402., 390., 404., 382., 382., 391., 396.,\n",
              "       413., 401., 410., 425., 408., 392., 371., 356., 362., 356., 352.,\n",
              "       333., 357., 411., 404., 387., 395., 434., 488., 508., 494., 575.,\n",
              "       614., 616., 707., 719., 655., 661., 687., 625., 611., 631., 655.,\n",
              "       616., 586., 615., 607., 590., 535., 518., 519., 562., 552., 508.,\n",
              "       476., 513., 545., 532., 550., 561., 567., 580., 559., 562., 553.,\n",
              "       533., 498., 504., 525., 547., 556., 566., 621., 659., 671., 688.,\n",
              "       705., 633., 661., 674., 703., 694., 681., 663., 632., 561., 497.,\n",
              "       509., 475., 392., 319., 354., 388., 381., 370.])"
            ]
          },
          "execution_count": 25,
          "metadata": {},
          "output_type": "execute_result"
        }
      ],
      "source": [
        "y_train_inv = y_train_inv.flatten()\n",
        "y_train_inv"
      ]
    },
    {
      "cell_type": "code",
      "execution_count": null,
      "metadata": {
        "colab": {
          "base_uri": "https://localhost:8080/"
        },
        "id": "z_zQn_rpl_MC",
        "outputId": "1530041f-947c-4cb3-e46b-815b8a39cd09"
      },
      "outputs": [
        {
          "data": {
            "text/plain": [
              "array([349., 372., 324., 315., 312., 306., 288., 255., 257., 265., 254.,\n",
              "       240., 254., 251., 234., 255., 330., 362., 310., 277., 323., 360.])"
            ]
          },
          "execution_count": 26,
          "metadata": {},
          "output_type": "execute_result"
        }
      ],
      "source": [
        "y_test_inv = y_test_inv.flatten()\n",
        "y_test_inv"
      ]
    },
    {
      "cell_type": "code",
      "execution_count": null,
      "metadata": {
        "colab": {
          "base_uri": "https://localhost:8080/"
        },
        "id": "X4GInUagmJUO",
        "outputId": "f619d04f-060e-4dc5-bb94-735f54a5acf0"
      },
      "outputs": [
        {
          "data": {
            "text/plain": [
              "array([383.6459 , 377.1975 , 382.69843, 364.13272, 339.45703, 313.23788,\n",
              "       285.34143, 253.40288, 226.09766, 215.43452, 218.29257, 222.88153,\n",
              "       218.07538, 229.45161, 222.25935, 200.85411, 214.22296, 278.87546,\n",
              "       301.73486, 276.69128, 252.32947, 276.6671 ], dtype=float32)"
            ]
          },
          "execution_count": 27,
          "metadata": {},
          "output_type": "execute_result"
        }
      ],
      "source": [
        "y_pred_inv = y_pred_inv.flatten()\n",
        "y_pred_inv"
      ]
    },
    {
      "cell_type": "code",
      "execution_count": null,
      "metadata": {
        "colab": {
          "base_uri": "https://localhost:8080/",
          "height": 616
        },
        "id": "vHGNO1xAmJYI",
        "outputId": "246530c0-11a8-4363-b262-5e97f6817d92"
      },
      "outputs": [
        {
          "data": {
            "image/png": "[encoded data removed]",
            "text/plain": [
              "<Figure size 1224x648 with 1 Axes>"
            ]
          },
          "metadata": {},
          "output_type": "display_data"
        }
      ],
      "source": [
        "plt.figure(figsize=(17,9))\n",
        "#plt.grid()\n",
        "#plt.plot(np.arange(0, len(y_train)), y_train_inv, color='green', label=\"History\")\n",
        "plt.plot(np.arange(len(y_train), len(y_train) + len(y_test)), y_test_inv, color='red', marker='.', label=\"Actual\")\n",
        "plt.plot(np.arange(len(y_train), len(y_train) + len(y_test)), y_pred_inv, color='green', label=\"Tuned GRU Prediction\")\n",
        "plt.ylabel('Crude Palm Oil Price')\n",
        "plt.xlabel('Time step')\n",
        "plt.legend()\n",
        "ax.grid()\n",
        "#plt.grid()\n",
        "#plt.show();"
      ]
    },
    {
      "cell_type": "markdown",
      "metadata": {
        "id": "1NImON2RmyWF"
      },
      "source": [
        "###Evaluating GRU Model Performance"
      ]
    },
    {
      "cell_type": "code",
      "execution_count": null,
      "metadata": {
        "colab": {
          "base_uri": "https://localhost:8080/"
        },
        "id": "fIc5ITw4m2QJ",
        "outputId": "a9c5e446-cdc2-41da-cdf9-35a37492dd96"
      },
      "outputs": [
        {
          "name": "stdout",
          "output_type": "stream",
          "text": [
            "MAE value of the GRU Model is: 36.579876292835586\n",
            "MDA value of the GRU Model is: 0.47619047619047616\n",
            "MAPE value of the GRU Model is: 12.022914425432857\n",
            "RMSE value of the GRU Model is: 47.686559737940364\n",
            "MSE value of the GRU Model is: 2274.007979640155\n"
          ]
        }
      ],
      "source": [
        "MAE_GRU = mean_absolute_error(y_test_inv, y_pred_inv)\n",
        "print('MAE value of the GRU Model is:', MAE_GRU)\n",
        "\n",
        "MDA_GRU = mda(y_test_inv, y_pred_inv)\n",
        "print('MDA value of the GRU Model is:', MDA_GRU)\n",
        "\n",
        "MAPE_GRU = mean_absolute_percentage_error(y_test_inv, y_pred_inv)\n",
        "print('MAPE value of the GRU Model is:', MAPE_GRU)\n",
        "\n",
        "RMSE_GRU = mean_squared_error(y_test_inv,y_pred_inv, squared=False)\n",
        "print('RMSE value of the GRU Model is:', RMSE_GRU)\n",
        "\n",
        "MSE_GRU = mean_squared_error(y_test_inv,y_pred_inv)\n",
        "print('MSE value of the GRU Model is:', MSE_GRU)\n",
        "\n",
        "#EVS_GRU = explained_variance_score(y_test_inv, y_pred_inv)\n",
        "#print('EVS score of the GRU Model is:', EVS_GRU)"
      ]
    },
    {
      "cell_type": "markdown",
      "metadata": {
        "id": "fs98oM36Yw_r"
      },
      "source": [
        "###Tuning GRU with Keras Tuner"
      ]
    },
    {
      "cell_type": "markdown",
      "metadata": {
        "id": "UHH-Phuz1M-L"
      },
      "source": [
        "Define A Model-Building Class"
      ]
    },
    {
      "cell_type": "code",
      "execution_count": null,
      "metadata": {
        "id": "6sH3KVfoj7jq"
      },
      "outputs": [],
      "source": [
        "class GRUhypermodel(HyperModel):\n",
        "#class GRUHyperModel(HyperModel):\n",
        "    \n",
        "    def __init__(self, input_shape):\n",
        "        self.input_shape= input_shape\n",
        "        \n",
        "    def build(self, hp):\n",
        "        model= keras.Sequential()\n",
        "        \n",
        "        # Tune the number of units in the first Dense layer\n",
        "        # Defining dense units as a close approx to the original neural network to perform a fair comparision!\n",
        "      \n",
        "        hp_units_1= hp.Int('units_1', min_value=128, max_value= 160, step=32)\n",
        "        hp_units_2= hp.Int('units_2', min_value=64, max_value= 128, step=32)\n",
        "        hp_units_3= hp.Int('units_3', min_value=32, max_value= 64, step=16)\n",
        "        hp_units_4= hp.Int('units_4', min_value=16, max_value= 32, step=8)\n",
        "\n",
        "        model.add(keras.layers.Dense(units=hp_units_1, activation='tanh', input_shape= self.input_shape))\n",
        "        model.add(keras.layers.Dense(units=hp_units_2, activation='tanh'))\n",
        "        model.add(keras.layers.Dense(units=hp_units_3, activation='tanh'))\n",
        "        model.add(keras.layers.Dense(units=hp_units_4, activation='tanh'))\n",
        "        model.add(keras.layers.Dense(1))\n",
        "        #Tune the dropout\n",
        "        model.add(\n",
        "            Dropout(\n",
        "                rate=hp.Float(\n",
        "                    'dropout',\n",
        "                    min_value=0.0,\n",
        "                    max_value=0.5,\n",
        "                    default=0.25,\n",
        "                    step=0.05\n",
        "                )\n",
        "            )\n",
        "        )\n",
        "        \n",
        "        # Tune the epoch for the optimizer\n",
        "\n",
        "        Kernel_initializer = hp.Choice('kernel_initializer', values= ['Kernel_initializer', 'lecun_uniform', 'zero', 'ones', 'glorot_normal', 'glorot_uniform', 'he_normal', 'he_uniform', 'uniform', 'normal', 'orthogonal', 'constant', 'random_normal', 'random_uniform'])\n",
        "        \n",
        "        optimizers = hp.Choice('optimizer',values=['rmsprop','adam', 'AdamW', 'nadam','sgd','adadelta','adagrad'])\n",
        "\n",
        "        hp_dense_activation = hp.Choice('activation',values=['relu', 'tanh', 'sigmoid', 'linear', 'Softmax', 'ELU', 'linear'])\n",
        "\n",
        "        # Tune the batch size for the optimizer \n",
        "        hp_batch_size = hp.Int('batch_size', min_value = 8, max_value = 96, step = 8, default=8)\n",
        "        \n",
        "        # Tune the epoch for the optimizer\n",
        "        hp_epoch = hp.Int('epoch', min_value = 5, max_value = 100, step = 5, default=5)\n",
        "\n",
        "        # Tune the epoch for the momentum\n",
        "        hp_momentum = hp.Float('momentum', min_value = 0.8, max_value = 0.99, step = 0.01, default=0.9)\n",
        "\n",
        "        # Tune the epoch for the decay\n",
        "        hp_decay = hp.Float('decay', min_value = 1e-9, max_value = 1e-3, step= 0.0001, default=1e-7)\n",
        "\n",
        "        # Tune the learning rate for the optimizer \n",
        "        hp_learning_rate=hp.Float('learning_rate', min_value=1e-4, max_value=1e-2, sampling='LOG', default= 0.0005)\n",
        "       # -------------------------------------------------------\n",
        "        model.compile(loss='mse',\n",
        "                    optimizer= keras.optimizers.Adam(learning_rate=hp_learning_rate),\n",
        "                    metrics= ['mae','mse']\n",
        "                     )\n",
        "\n",
        "        return model\n",
        "\n",
        "hypermodel= GRUhypermodel(input_shape = (X_test.shape[1], X_test.shape[2]))\n",
        "#hypermodel = GRUHyperModel(input_shape = (X_test.shape[1], X_test.shape[2]))"
      ]
    },
    {
      "cell_type": "markdown",
      "metadata": {
        "id": "Vw6sRopRkNq-"
      },
      "source": [
        "###Build Random Search Tuner"
      ]
    },
    {
      "cell_type": "code",
      "execution_count": null,
      "metadata": {
        "id": "oPWNkr_dj7ng"
      },
      "outputs": [],
      "source": [
        "tuner_rs = RandomSearch(\n",
        "            hypermodel,\n",
        "            objective='mse',\n",
        "            seed=42,\n",
        "            max_trials=10,\n",
        "            executions_per_trial=2, overwrite=True\n",
        "        )"
      ]
    },
    {
      "cell_type": "markdown",
      "metadata": {
        "id": "UH8vIpuOkl0V"
      },
      "source": [
        "###Run Random Search"
      ]
    },
    {
      "cell_type": "code",
      "execution_count": null,
      "metadata": {
        "id": "XC6nlTF4j7rN"
      },
      "outputs": [],
      "source": [
        "tuner_rs.search(X_train, y_train, epochs=16, validation_split=0.2, verbose=0)"
      ]
    },
    {
      "cell_type": "markdown",
      "metadata": {
        "id": "ZWc0whe7l-_0"
      },
      "source": [
        "###Evaluate Random Search"
      ]
    },
    {
      "cell_type": "code",
      "execution_count": null,
      "metadata": {
        "colab": {
          "base_uri": "https://localhost:8080/"
        },
        "id": "V0u8mTuTj7wl",
        "outputId": "b9ad5383-49b0-418b-869c-b4310289cd9f"
      },
      "outputs": [
        {
          "name": "stdout",
          "output_type": "stream",
          "text": [
            "1/1 [==============================] - 0s 332ms/step - loss: 0.2093 - mae: 0.4391 - mse: 0.2093\n"
          ]
        }
      ],
      "source": [
        "best_model = tuner_rs.get_best_models(num_models=1)[0]\n",
        "mse_rs = best_model.evaluate(X_test, y_test)[1]"
      ]
    },
    {
      "cell_type": "markdown",
      "metadata": {
        "id": "9jgCzQ74mQjM"
      },
      "source": [
        "####Random Search MSE = 0.1436"
      ]
    },
    {
      "cell_type": "code",
      "execution_count": null,
      "metadata": {
        "colab": {
          "base_uri": "https://localhost:8080/"
        },
        "id": "jJ5NIqxpj72V",
        "outputId": "3cd009de-a030-4238-d39d-0de25c42458e"
      },
      "outputs": [
        {
          "data": {
            "text/plain": [
              "{'units_1': 128,\n",
              " 'units_2': 96,\n",
              " 'units_3': 64,\n",
              " 'units_4': 24,\n",
              " 'dropout': 0.0,\n",
              " 'kernel_initializer': 'zero',\n",
              " 'optimizer': 'rmsprop',\n",
              " 'activation': 'ELU',\n",
              " 'batch_size': 56,\n",
              " 'epoch': 60,\n",
              " 'momentum': 0.9700000000000001,\n",
              " 'decay': 0.00040000100000000003,\n",
              " 'learning_rate': 0.005507461185174967}"
            ]
          },
          "execution_count": 40,
          "metadata": {},
          "output_type": "execute_result"
        }
      ],
      "source": [
        "best_params = tuner_rs.get_best_hyperparameters()\n",
        "\n",
        "best_params[0].values"
      ]
    },
    {
      "cell_type": "markdown",
      "metadata": {
        "id": "AxWQfBYpnLjI"
      },
      "source": [
        "###Build Bayesian Optimization"
      ]
    },
    {
      "cell_type": "code",
      "execution_count": null,
      "metadata": {
        "id": "uixpiCLPmsaZ"
      },
      "outputs": [],
      "source": [
        "tuner_bo = BayesianOptimization(\n",
        "            hypermodel,\n",
        "            objective='val_mse',\n",
        "            max_trials=10,\n",
        "            seed=42,\n",
        "            executions_per_trial=2,\n",
        "            directory='bo'\n",
        "        )"
      ]
    },
    {
      "cell_type": "markdown",
      "metadata": {
        "id": "_lTWVuDcoYU9"
      },
      "source": [
        "###Run Bayesian Optimization"
      ]
    },
    {
      "cell_type": "code",
      "execution_count": null,
      "metadata": {
        "colab": {
          "base_uri": "https://localhost:8080/"
        },
        "id": "L6qZa1Kvmsgn",
        "outputId": "6eb11f34-8853-4eb5-aa2d-142ca80731b5"
      },
      "outputs": [
        {
          "name": "stdout",
          "output_type": "stream",
          "text": [
            "1/1 [==============================] - 0s 345ms/step - loss: 0.2257 - mae: 0.4581 - mse: 0.2257\n"
          ]
        }
      ],
      "source": [
        "tuner_bo.search(X_train, y_train, epochs=10, validation_split=0.2, verbose=0)\n",
        "\n",
        "best_model = tuner_bo.get_best_models(num_models=1)[0]\n",
        "mse_bo = best_model.evaluate(X_test, y_test)[1]"
      ]
    },
    {
      "cell_type": "markdown",
      "metadata": {
        "id": "KiNYUG96ZUIz"
      },
      "source": [
        "###Bayesian Optimization Search MSE = 0.2257"
      ]
    },
    {
      "cell_type": "markdown",
      "metadata": {
        "id": "Ppb8qezeoe7c"
      },
      "source": [
        "###Evaluate Bayesian Optimization"
      ]
    },
    {
      "cell_type": "code",
      "execution_count": null,
      "metadata": {
        "colab": {
          "base_uri": "https://localhost:8080/"
        },
        "id": "0bDWDTrOmsm1",
        "outputId": "efb71161-577e-41c8-d23e-f742b0afdc2a"
      },
      "outputs": [
        {
          "data": {
            "text/plain": [
              "{'units_1': 160,\n",
              " 'units_2': 64,\n",
              " 'units_3': 48,\n",
              " 'units_4': 32,\n",
              " 'dropout': 0.05,\n",
              " 'kernel_initializer': 'constant',\n",
              " 'optimizer': 'adam',\n",
              " 'activation': 'sigmoid',\n",
              " 'batch_size': 8,\n",
              " 'epoch': 25,\n",
              " 'momentum': 0.81,\n",
              " 'decay': 0.00040000100000000003,\n",
              " 'learning_rate': 0.006678619769811224}"
            ]
          },
          "execution_count": 43,
          "metadata": {},
          "output_type": "execute_result"
        }
      ],
      "source": [
        "best_params = tuner_bo.get_best_hyperparameters()\n",
        "\n",
        "best_params[0].values"
      ]
    },
    {
      "cell_type": "code",
      "execution_count": null,
      "metadata": {
        "colab": {
          "base_uri": "https://localhost:8080/"
        },
        "id": "odraTQ8KbUw9",
        "outputId": "2024bc31-fc1d-4d6d-b3e9-2ec7ff6f1438"
      },
      "outputs": [
        {
          "name": "stderr",
          "output_type": "stream",
          "text": [
            "WARNING:tensorflow:Detecting that an object or model or tf.train.Checkpoint is being deleted with unrestored values. See the following logs for the specific values in question. To silence these warnings, use `status.expect_partial()`. See https://www.tensorflow.org/api_docs/python/tf/train/Checkpoint#restorefor details about the status object returned by the restore function.\n",
            "WARNING:tensorflow:Value in checkpoint could not be found in the restored object: (root).optimizer.iter\n",
            "WARNING:tensorflow:Value in checkpoint could not be found in the restored object: (root).optimizer.beta_1\n",
            "WARNING:tensorflow:Value in checkpoint could not be found in the restored object: (root).optimizer.beta_2\n",
            "WARNING:tensorflow:Value in checkpoint could not be found in the restored object: (root).optimizer.decay\n",
            "WARNING:tensorflow:Value in checkpoint could not be found in the restored object: (root).optimizer.learning_rate\n"
          ]
        },
        {
          "name": "stdout",
          "output_type": "stream",
          "text": [
            "1/1 [==============================] - 0s 320ms/step - loss: 0.2257 - mae: 0.4581 - mse: 0.2257\n"
          ]
        }
      ],
      "source": [
        "best_model = tuner_bo.get_best_models(num_models=1)[0]\n",
        "mse_bo = best_model.evaluate(X_test, y_test)[1]"
      ]
    },
    {
      "cell_type": "markdown",
      "metadata": {
        "id": "9rYL672xrXtU"
      },
      "source": [
        "###Build HYPERBAND optimization"
      ]
    },
    {
      "cell_type": "code",
      "execution_count": null,
      "metadata": {
        "id": "CqxbIHGxmstL"
      },
      "outputs": [],
      "source": [
        "MAX_TRIALS = 20\n",
        "tuner= RandomSearch(hypermodel,\n",
        "               objective= 'val_mse',\n",
        "               max_trials= MAX_TRIALS,\n",
        "               executions_per_trial= 2,\n",
        "               directory= 'random_search',\n",
        "               project_name='randomsearch',\n",
        "               overwrite=True)"
      ]
    },
    {
      "cell_type": "code",
      "execution_count": null,
      "metadata": {
        "id": "eaGs4DAFosPl"
      },
      "outputs": [],
      "source": [
        "HYPERBAND_MAX_EPOCHS = 150\n",
        "EXECUTION_PER_TRIAL = 2\n",
        "\n",
        "tuner= Hyperband(hypermodel,\n",
        "                   objective= 'val_mse',\n",
        "                   max_epochs=HYPERBAND_MAX_EPOCHS, #Set 100+ for good results\n",
        "                   executions_per_trial=EXECUTION_PER_TRIAL,\n",
        "                   directory= 'hyperband',\n",
        "                   project_name='hyper',\n",
        "                   overwrite=True)\n",
        "\n",
        "# tuner.search_space_summary()"
      ]
    },
    {
      "cell_type": "code",
      "execution_count": null,
      "metadata": {
        "colab": {
          "background_save": true,
          "base_uri": "https://localhost:8080/"
        },
        "id": "NXf_LR3mosWn",
        "outputId": "f602db80-5da1-4226-d012-fbf5d2e6cf8a"
      },
      "outputs": [
        {
          "metadata": {
            "tags": null
          },
          "name": "stdout",
          "output_type": "stream",
          "text": [
            "searching for the best params!\n"
          ]
        },
        {
          "metadata": {
            "tags": null
          },
          "name": "stderr",
          "output_type": "stream",
          "text": [
            "WARNING:tensorflow:Detecting that an object or model or tf.train.Checkpoint is being deleted with unrestored values. See the following logs for the specific values in question. To silence these warnings, use `status.expect_partial()`. See https://www.tensorflow.org/api_docs/python/tf/train/Checkpoint#restorefor details about the status object returned by the restore function.\n",
            "WARNING:tensorflow:Value in checkpoint could not be found in the restored object: (root).optimizer._variables.1\n",
            "WARNING:tensorflow:Value in checkpoint could not be found in the restored object: (root).optimizer._variables.2\n",
            "WARNING:tensorflow:Value in checkpoint could not be found in the restored object: (root).optimizer._variables.3\n",
            "WARNING:tensorflow:Value in checkpoint could not be found in the restored object: (root).optimizer._variables.4\n",
            "WARNING:tensorflow:Value in checkpoint could not be found in the restored object: (root).optimizer._variables.5\n",
            "WARNING:tensorflow:Value in checkpoint could not be found in the restored object: (root).optimizer._variables.6\n",
            "WARNING:tensorflow:Value in checkpoint could not be found in the restored object: (root).optimizer._variables.7\n",
            "WARNING:tensorflow:Value in checkpoint could not be found in the restored object: (root).optimizer._variables.8\n",
            "WARNING:tensorflow:Value in checkpoint could not be found in the restored object: (root).optimizer._variables.9\n",
            "WARNING:tensorflow:Value in checkpoint could not be found in the restored object: (root).optimizer._variables.10\n",
            "WARNING:tensorflow:Value in checkpoint could not be found in the restored object: (root).optimizer._variables.11\n",
            "WARNING:tensorflow:Value in checkpoint could not be found in the restored object: (root).optimizer._variables.12\n",
            "WARNING:tensorflow:Value in checkpoint could not be found in the restored object: (root).optimizer._variables.13\n",
            "WARNING:tensorflow:Value in checkpoint could not be found in the restored object: (root).optimizer._variables.14\n",
            "WARNING:tensorflow:Value in checkpoint could not be found in the restored object: (root).optimizer._variables.15\n",
            "WARNING:tensorflow:Value in checkpoint could not be found in the restored object: (root).optimizer._variables.16\n",
            "WARNING:tensorflow:Value in checkpoint could not be found in the restored object: (root).optimizer._variables.17\n",
            "WARNING:tensorflow:Value in checkpoint could not be found in the restored object: (root).optimizer._variables.18\n",
            "WARNING:tensorflow:Value in checkpoint could not be found in the restored object: (root).optimizer._variables.19\n",
            "WARNING:tensorflow:Value in checkpoint could not be found in the restored object: (root).optimizer._variables.20\n"
          ]
        }
      ],
      "source": [
        "print('searching for the best params!')\n",
        "\n",
        "t0 = time()\n",
        "tuner.search(x= X_train,\n",
        "             y= y_train,\n",
        "             epochs=100,\n",
        "             batch_size= 64,\n",
        "             validation_data= (X_test, y_test),\n",
        "             verbose=0,\n",
        "             callbacks= []\n",
        "            )\n",
        "print(time()- t0,\" secs\")\n",
        "\n",
        "# Retreive the optimal hyperparameters\n",
        "best_hps= tuner.get_best_hyperparameters(num_trials=1)[0]\n",
        "\n",
        "# Retrieve the best model\n",
        "best_model = tuner.get_best_models(num_models=1)[0]"
      ]
    },
    {
      "cell_type": "code",
      "execution_count": null,
      "metadata": {
        "colab": {
          "base_uri": "https://localhost:8080/"
        },
        "id": "UcOC-csfrvmH",
        "outputId": "6ac6f9a7-58da-4804-fbd1-1404f018d225"
      },
      "outputs": [
        {
          "name": "stdout",
          "output_type": "stream",
          "text": [
            "\n",
            "The hyperparameter search is complete. The optimal number of units in the \n",
            "first densely-connected layer is 128,\n",
            "second layer is 64 \n",
            "third layer is 64 \n",
            "fourth layer is 24\n",
            "drop out is 0.4\n",
            "batch_size is 72\n",
            "epoch is 35\n",
            "optimizer is adagrad\n",
            "activation is relu\n",
            "\n",
            "momentum is 0.8500000000000001\n",
            "decay is 0.00010000100000000001\n",
            "\n",
            "#learning rate is 0.00010137583660859015                                        \n",
            "\n",
            "and the optimal learning rate for the optimizer\n",
            "is 0.00010137583660859015.\n",
            "\n",
            "[]\n",
            "1/1 [==============================] - 0s 410ms/step - loss: 0.0126 - mae: 0.0968 - mse: 0.0126\n",
            "loss:0.012643430382013321 mae: 0.09684735536575317 mse: 0.012643430382013321\n"
          ]
        }
      ],
      "source": [
        "print(f\"\"\"\n",
        "The hyperparameter search is complete. The optimal number of units in the \n",
        "first densely-connected layer is {best_hps.get('units_1')},\n",
        "second layer is {best_hps.get('units_2')} \n",
        "third layer is {best_hps.get('units_3')} \n",
        "fourth layer is {best_hps.get('units_4')}\n",
        "drop out is {best_hps.get('dropout')}\n",
        "batch_size is {best_hps.get('batch_size')}\n",
        "epoch is {best_hps.get('epoch')}\n",
        "optimizer is {best_hps.get('optimizer')}\n",
        "activation is {best_hps.get('activation')}\n",
        "\n",
        "momentum is {best_hps.get('momentum')}\n",
        "decay is {best_hps.get('decay')}\n",
        "\n",
        "#learning rate is {best_hps.get('learning_rate')}                                        \n",
        "\n",
        "and the optimal learning rate for the optimizer\n",
        "is {best_hps.get('learning_rate')}.\n",
        "\"\"\")\n",
        "\n",
        "# Evaluate the best model.\n",
        "print(best_model.metrics_names)\n",
        "loss, mae, mse = best_model.evaluate(X_test, y_test)\n",
        "print(f'loss:{loss} mae: {mae} mse: {mse}')"
      ]
    },
    {
      "cell_type": "code",
      "execution_count": null,
      "metadata": {
        "colab": {
          "base_uri": "https://localhost:8080/"
        },
        "id": "q0e8tSIulgh_",
        "outputId": "0bc6d1e8-1800-49f5-85e6-63794e4a500f"
      },
      "outputs": [
        {
          "name": "stdout",
          "output_type": "stream",
          "text": [
            "{'units_1': 128, 'units_2': 64, 'units_3': 64, 'units_4': 24, 'dropout': 0.4, 'optimizer': 'adagrad', 'activation': 'relu', 'batch_size': 72, 'epoch': 35, 'momentum': 0.8500000000000001, 'decay': 0.00010000100000000001, 'learning_rate': 0.00010137583660859015, 'tuner/epochs': 6, 'tuner/initial_epoch': 2, 'tuner/bracket': 4, 'tuner/round': 1, 'tuner/trial_id': '0013'}\n"
          ]
        }
      ],
      "source": [
        "# Get the optimal hyperparameters\n",
        "best_hps = tuner.get_best_hyperparameters(num_trials = 1)[0]\n",
        "print(best_hps.values)"
      ]
    },
    {
      "cell_type": "markdown",
      "metadata": {
        "id": "oggNSpcVpofH"
      },
      "source": [
        "###Apply the trained parameters to the GRU"
      ]
    },
    {
      "cell_type": "code",
      "execution_count": null,
      "metadata": {
        "id": "exKbi-BBYxAt"
      },
      "outputs": [],
      "source": [
        "TUGRU_model = tf.keras.Sequential()\n",
        "TUGRU_model.add(tf.keras.layers.GRU(128, activation='tahn',return_sequences=True, input_shape= input_shape=(X_test.shape[1], X_test.shape[2]),\n",
        "                     dropout=0.2, recurrent_dropout=0.2),\n",
        "\n",
        "TUGRU_model.add(tf.keras.layers.GRU(64,activation='tahn', return_sequences=True,\n",
        "                     dropout=0.2, recurrent_dropout=0.2),\n",
        "TUGRU_model.add(tf.keras.layers.Dense(1))\n",
        "\n",
        "'''\n",
        "TUGRU_model = tf.keras.Sequential()\n",
        "TUGRU_model.add(tf.keras.layers.Conv1D(filters=128, kernel_size=2, activation='relu', input_shape=(X_test.shape[1], X_test.shape[2])))\n",
        "TUGRU_model.add(tf.keras.layers.Dense(64, activation='relu'))\n",
        "#TUGRU_model.add(layers.Dropout(0.4))\n",
        "TUGRU_model.add(tf.keras.layers.MaxPooling1D(pool_size=2))\n",
        "TUGRU_model.add(tf.keras.layers.Flatten())\n",
        "#TUGRU_model.add(layers.Dropout(0.05))\n",
        "\n",
        "TUGRU_model.add(tf.keras.layers.Dense(64, activation='relu'))\n",
        "#TUGRU_model.add(layers.Dropout(0.4))\n",
        "TUGRU_model.add(tf.keras.layers.Dense(24, 'relu'))\n",
        "#TUGRU_model.add(layers.Dropout(0.4))\n",
        "\n",
        "#Output layer of model\n",
        "TUGRU_model.add(tf.keras.layers.Dense(1))\n",
        "'''"
      ]
    },
    {
      "cell_type": "code",
      "execution_count": null,
      "metadata": {
        "colab": {
          "base_uri": "https://localhost:8080/"
        },
        "id": "2OVvMjqyY2kW",
        "outputId": "d1968dd8-12fb-4610-d74b-3dfc36720352"
      },
      "outputs": [
        {
          "name": "stdout",
          "output_type": "stream",
          "text": [
            "Epoch 1/35\n",
            "2/2 [==============================] - 1s 218ms/step - loss: 0.1393 - mae: 0.3120 - mse: 0.1393 - val_loss: 0.2584 - val_mae: 0.4198 - val_mse: 0.2584\n",
            "Epoch 2/35\n",
            "2/2 [==============================] - 0s 32ms/step - loss: 0.1375 - mae: 0.3095 - mse: 0.1375 - val_loss: 0.2561 - val_mae: 0.4179 - val_mse: 0.2561\n",
            "Epoch 3/35\n",
            "2/2 [==============================] - 0s 28ms/step - loss: 0.1359 - mae: 0.3073 - mse: 0.1359 - val_loss: 0.2540 - val_mae: 0.4161 - val_mse: 0.2540\n",
            "Epoch 4/35\n",
            "2/2 [==============================] - 0s 29ms/step - loss: 0.1345 - mae: 0.3054 - mse: 0.1345 - val_loss: 0.2521 - val_mae: 0.4144 - val_mse: 0.2521\n",
            "Epoch 5/35\n",
            "2/2 [==============================] - 0s 29ms/step - loss: 0.1332 - mae: 0.3036 - mse: 0.1332 - val_loss: 0.2503 - val_mae: 0.4129 - val_mse: 0.2503\n",
            "Epoch 6/35\n",
            "2/2 [==============================] - 0s 29ms/step - loss: 0.1320 - mae: 0.3019 - mse: 0.1320 - val_loss: 0.2486 - val_mae: 0.4114 - val_mse: 0.2486\n",
            "Epoch 7/35\n",
            "2/2 [==============================] - 0s 29ms/step - loss: 0.1309 - mae: 0.3003 - mse: 0.1309 - val_loss: 0.2470 - val_mae: 0.4100 - val_mse: 0.2470\n",
            "Epoch 8/35\n",
            "2/2 [==============================] - 0s 32ms/step - loss: 0.1298 - mae: 0.2988 - mse: 0.1298 - val_loss: 0.2455 - val_mae: 0.4087 - val_mse: 0.2455\n",
            "Epoch 9/35\n",
            "2/2 [==============================] - 0s 29ms/step - loss: 0.1287 - mae: 0.2973 - mse: 0.1287 - val_loss: 0.2440 - val_mae: 0.4074 - val_mse: 0.2440\n",
            "Epoch 10/35\n",
            "2/2 [==============================] - 0s 29ms/step - loss: 0.1277 - mae: 0.2959 - mse: 0.1277 - val_loss: 0.2426 - val_mae: 0.4062 - val_mse: 0.2426\n",
            "Epoch 11/35\n",
            "2/2 [==============================] - 0s 32ms/step - loss: 0.1267 - mae: 0.2945 - mse: 0.1267 - val_loss: 0.2413 - val_mae: 0.4050 - val_mse: 0.2413\n",
            "Epoch 12/35\n",
            "2/2 [==============================] - 0s 32ms/step - loss: 0.1258 - mae: 0.2932 - mse: 0.1258 - val_loss: 0.2400 - val_mae: 0.4038 - val_mse: 0.2400\n",
            "Epoch 13/35\n",
            "2/2 [==============================] - 0s 32ms/step - loss: 0.1249 - mae: 0.2918 - mse: 0.1249 - val_loss: 0.2387 - val_mae: 0.4027 - val_mse: 0.2387\n",
            "Epoch 14/35\n",
            "2/2 [==============================] - 0s 30ms/step - loss: 0.1240 - mae: 0.2906 - mse: 0.1240 - val_loss: 0.2375 - val_mae: 0.4017 - val_mse: 0.2375\n",
            "Epoch 15/35\n",
            "2/2 [==============================] - 0s 30ms/step - loss: 0.1232 - mae: 0.2894 - mse: 0.1232 - val_loss: 0.2364 - val_mae: 0.4006 - val_mse: 0.2364\n",
            "Epoch 16/35\n",
            "2/2 [==============================] - 0s 42ms/step - loss: 0.1223 - mae: 0.2882 - mse: 0.1223 - val_loss: 0.2352 - val_mae: 0.3996 - val_mse: 0.2352\n",
            "Epoch 17/35\n",
            "2/2 [==============================] - 0s 28ms/step - loss: 0.1215 - mae: 0.2870 - mse: 0.1215 - val_loss: 0.2341 - val_mae: 0.3986 - val_mse: 0.2341\n",
            "Epoch 18/35\n",
            "2/2 [==============================] - 0s 29ms/step - loss: 0.1207 - mae: 0.2859 - mse: 0.1207 - val_loss: 0.2330 - val_mae: 0.3976 - val_mse: 0.2330\n",
            "Epoch 19/35\n",
            "2/2 [==============================] - 0s 28ms/step - loss: 0.1199 - mae: 0.2848 - mse: 0.1199 - val_loss: 0.2319 - val_mae: 0.3966 - val_mse: 0.2319\n",
            "Epoch 20/35\n",
            "2/2 [==============================] - 0s 29ms/step - loss: 0.1192 - mae: 0.2837 - mse: 0.1192 - val_loss: 0.2309 - val_mae: 0.3957 - val_mse: 0.2309\n",
            "Epoch 21/35\n",
            "2/2 [==============================] - 0s 29ms/step - loss: 0.1184 - mae: 0.2826 - mse: 0.1184 - val_loss: 0.2298 - val_mae: 0.3947 - val_mse: 0.2298\n",
            "Epoch 22/35\n",
            "2/2 [==============================] - 0s 35ms/step - loss: 0.1177 - mae: 0.2815 - mse: 0.1177 - val_loss: 0.2288 - val_mae: 0.3938 - val_mse: 0.2288\n",
            "Epoch 23/35\n",
            "2/2 [==============================] - 0s 29ms/step - loss: 0.1170 - mae: 0.2805 - mse: 0.1170 - val_loss: 0.2278 - val_mae: 0.3929 - val_mse: 0.2278\n",
            "Epoch 24/35\n",
            "2/2 [==============================] - 0s 41ms/step - loss: 0.1163 - mae: 0.2794 - mse: 0.1163 - val_loss: 0.2268 - val_mae: 0.3920 - val_mse: 0.2268\n",
            "Epoch 25/35\n",
            "2/2 [==============================] - 0s 53ms/step - loss: 0.1156 - mae: 0.2784 - mse: 0.1156 - val_loss: 0.2259 - val_mae: 0.3911 - val_mse: 0.2259\n",
            "Epoch 26/35\n",
            "2/2 [==============================] - 0s 41ms/step - loss: 0.1149 - mae: 0.2774 - mse: 0.1149 - val_loss: 0.2249 - val_mae: 0.3903 - val_mse: 0.2249\n",
            "Epoch 27/35\n",
            "2/2 [==============================] - 0s 45ms/step - loss: 0.1142 - mae: 0.2764 - mse: 0.1142 - val_loss: 0.2240 - val_mae: 0.3896 - val_mse: 0.2240\n",
            "Epoch 28/35\n",
            "2/2 [==============================] - 0s 43ms/step - loss: 0.1135 - mae: 0.2754 - mse: 0.1135 - val_loss: 0.2231 - val_mae: 0.3889 - val_mse: 0.2231\n",
            "Epoch 29/35\n",
            "2/2 [==============================] - 0s 49ms/step - loss: 0.1129 - mae: 0.2744 - mse: 0.1129 - val_loss: 0.2222 - val_mae: 0.3882 - val_mse: 0.2222\n",
            "Epoch 30/35\n",
            "2/2 [==============================] - 0s 40ms/step - loss: 0.1122 - mae: 0.2735 - mse: 0.1122 - val_loss: 0.2213 - val_mae: 0.3875 - val_mse: 0.2213\n",
            "Epoch 31/35\n",
            "2/2 [==============================] - 0s 46ms/step - loss: 0.1116 - mae: 0.2725 - mse: 0.1116 - val_loss: 0.2204 - val_mae: 0.3868 - val_mse: 0.2204\n",
            "Epoch 32/35\n",
            "2/2 [==============================] - 0s 56ms/step - loss: 0.1110 - mae: 0.2716 - mse: 0.1110 - val_loss: 0.2195 - val_mae: 0.3861 - val_mse: 0.2195\n",
            "Epoch 33/35\n",
            "2/2 [==============================] - 0s 55ms/step - loss: 0.1104 - mae: 0.2707 - mse: 0.1104 - val_loss: 0.2187 - val_mae: 0.3854 - val_mse: 0.2187\n",
            "Epoch 34/35\n",
            "2/2 [==============================] - 0s 37ms/step - loss: 0.1097 - mae: 0.2698 - mse: 0.1097 - val_loss: 0.2178 - val_mae: 0.3847 - val_mse: 0.2178\n",
            "Epoch 35/35\n",
            "2/2 [==============================] - 0s 53ms/step - loss: 0.1092 - mae: 0.2689 - mse: 0.1092 - val_loss: 0.2170 - val_mae: 0.3841 - val_mse: 0.2170\n"
          ]
        }
      ],
      "source": [
        "TUGRU_model.compile(loss = 'mse', optimizer= tf.keras.optimizers.Adagrad(lr=0.00010, decay = 0.00010), metrics= ['mae', 'mse'])\n",
        "#TUGRU_model.compile(optimizer='rmsprop',loss='mse',metrics=['mse']),\n",
        "history = TUGRU_model.fit(X_train, y_train, epochs=35, batch_size=72,validation_split=0.2,shuffle=False) # 80/160"
      ]
    },
    {
      "cell_type": "markdown",
      "metadata": {
        "id": "4KLve2-WilBF"
      },
      "source": [
        "Plot Model Loss"
      ]
    },
    {
      "cell_type": "code",
      "execution_count": null,
      "metadata": {
        "colab": {
          "base_uri": "https://localhost:8080/",
          "height": 438
        },
        "id": "DXBeY_MGZSMP",
        "outputId": "e630092f-1f21-4cf9-c931-f2a2e3893db8"
      },
      "outputs": [
        {
          "data": {
            "text/plain": [
              "<Figure size 720x360 with 0 Axes>"
            ]
          },
          "execution_count": 176,
          "metadata": {},
          "output_type": "execute_result"
        },
        {
          "data": {
            "image/png": "[encoded data removed]",
            "text/plain": [
              "<Figure size 720x360 with 1 Axes>"
            ]
          },
          "metadata": {},
          "output_type": "display_data"
        },
        {
          "data": {
            "text/plain": [
              "<Figure size 720x360 with 0 Axes>"
            ]
          },
          "metadata": {},
          "output_type": "display_data"
        }
      ],
      "source": [
        "loss = history.history['loss']\n",
        "val_loss = history.history['val_loss']\n",
        "\n",
        "epochs=range(len(loss)) \n",
        "\n",
        "\n",
        "#------------------------------------------------\n",
        "# Plot training and validation loss per epoch\n",
        "#------------------------------------------------\n",
        "plt.plot(epochs, loss, 'r',label='loss')\n",
        "plt.plot(epochs,val_loss,'blue',label='val loss')\n",
        "plt.title('Training loss & Val Loss by Epochs')\n",
        "plt.xlabel(\"Epochs\")\n",
        "plt.ylabel(\"Loss\")\n",
        "plt.legend()\n",
        "\n",
        "plt.figure()"
      ]
    },
    {
      "cell_type": "code",
      "execution_count": null,
      "metadata": {
        "colab": {
          "base_uri": "https://localhost:8080/"
        },
        "id": "lHiuk7B6iQVK",
        "outputId": "d66386b4-8c88-46a2-dc93-1c4de31f29e0"
      },
      "outputs": [
        {
          "name": "stdout",
          "output_type": "stream",
          "text": [
            "1/1 [==============================] - 0s 90ms/step\n"
          ]
        },
        {
          "data": {
            "text/plain": [
              "array([[0.15596682],\n",
              "       [0.14056024],\n",
              "       [0.14083505],\n",
              "       [0.13727838],\n",
              "       [0.13338019],\n",
              "       [0.12715599],\n",
              "       [0.13903278],\n",
              "       [0.14755286],\n",
              "       [0.14644124],\n",
              "       [0.14777078],\n",
              "       [0.14641148],\n",
              "       [0.14286572],\n",
              "       [0.14250787],\n",
              "       [0.14607827],\n",
              "       [0.14427854],\n",
              "       [0.14438076],\n",
              "       [0.13622889],\n",
              "       [0.13118845],\n",
              "       [0.1354319 ],\n",
              "       [0.126913  ],\n",
              "       [0.1378098 ],\n",
              "       [0.13502002]], dtype=float32)"
            ]
          },
          "execution_count": 177,
          "metadata": {},
          "output_type": "execute_result"
        }
      ],
      "source": [
        "y_predTU = TUGRU_model.predict(X_test)\n",
        "y_predTU"
      ]
    },
    {
      "cell_type": "code",
      "execution_count": null,
      "metadata": {
        "colab": {
          "base_uri": "https://localhost:8080/"
        },
        "id": "JbqyY5OriQYh",
        "outputId": "9ed23b57-0e6e-4898-b580-57b9a56c6bf9"
      },
      "outputs": [
        {
          "data": {
            "text/plain": [
              "array([[0.15596682, 0.14056024, 0.14083505, 0.13727838, 0.13338019,\n",
              "        0.12715599, 0.13903278, 0.14755286, 0.14644124, 0.14777078,\n",
              "        0.14641148, 0.14286572, 0.14250787, 0.14607827, 0.14427854,\n",
              "        0.14438076, 0.13622889, 0.13118845, 0.1354319 , 0.126913  ,\n",
              "        0.1378098 , 0.13502002]], dtype=float32)"
            ]
          },
          "execution_count": 178,
          "metadata": {},
          "output_type": "execute_result"
        }
      ],
      "source": [
        "y_predTU.reshape(1,-1)"
      ]
    },
    {
      "cell_type": "markdown",
      "metadata": {
        "id": "XXPkM7CFsB5U"
      },
      "source": [
        "###Invert Transformed Tuned Data"
      ]
    },
    {
      "cell_type": "code",
      "execution_count": null,
      "metadata": {
        "colab": {
          "base_uri": "https://localhost:8080/"
        },
        "id": "gZ8inWeYy64m",
        "outputId": "65513288-645e-45ed-fc23-d4676c4b0251"
      },
      "outputs": [
        {
          "name": "stdout",
          "output_type": "stream",
          "text": [
            "[[376. 383. 382. 396. 402. 390. 404. 382. 382. 391. 396. 413. 401. 410.\n",
            "  425. 408. 392. 371. 356. 362. 356. 352. 333. 357. 411. 404. 387. 395.\n",
            "  434. 488. 508. 494. 575. 614. 616. 707. 719. 655. 661. 687. 625. 611.\n",
            "  631. 655. 616. 586. 615. 607. 590. 535. 518. 519. 562. 552. 508. 476.\n",
            "  513. 545. 532. 550. 561. 567. 580. 559. 562. 553. 533. 498. 504. 525.\n",
            "  547. 556. 566. 621. 659. 671. 688. 705. 633. 661. 674. 703. 694. 681.\n",
            "  663. 632. 561. 497. 509. 475. 392. 319. 354. 388. 381. 370.]]\n",
            "[[349. 372. 324. 315. 312. 306. 288. 255. 257. 265. 254. 240. 254. 251.\n",
            "  234. 255. 330. 362. 310. 277. 323. 360.]]\n",
            "[[381.38672 375.2241  375.334   373.91135 372.35208 369.8624  374.61313\n",
            "  378.02115 377.5765  378.1083  377.5646  376.1463  376.00314 377.43134\n",
            "  376.71143 376.75232 373.49155 371.47537 373.17276 369.7652  374.12393\n",
            "  373.00803]]\n"
          ]
        }
      ],
      "source": [
        "y_train_inv = cpo_pri_transformer.inverse_transform(y_train.reshape(1, -1))\n",
        "y_test_inv = cpo_pri_transformer.inverse_transform(y_test.reshape(1, -1))\n",
        "y_pred_inv = cpo_pri_transformer.inverse_transform(y_predTU.reshape(1,-1))\n",
        "print(y_train_inv)\n",
        "print(y_test_inv)\n",
        "print(y_pred_inv)"
      ]
    },
    {
      "cell_type": "code",
      "execution_count": null,
      "metadata": {
        "id": "2g9TLmgHy7Hw"
      },
      "outputs": [],
      "source": [
        "y_train_inv = y_train_inv.flatten()\n",
        "y_train_inv"
      ]
    },
    {
      "cell_type": "code",
      "execution_count": null,
      "metadata": {
        "colab": {
          "base_uri": "https://localhost:8080/"
        },
        "id": "PDdnZUrXy7L4",
        "outputId": "b4970259-fad8-4c7e-85d9-8a09350891c6"
      },
      "outputs": [
        {
          "data": {
            "text/plain": [
              "array([349., 372., 324., 315., 312., 306., 288., 255., 257., 265., 254.,\n",
              "       240., 254., 251., 234., 255., 330., 362., 310., 277., 323., 360.])"
            ]
          },
          "execution_count": 169,
          "metadata": {},
          "output_type": "execute_result"
        }
      ],
      "source": [
        "y_test_inv = y_test_inv.flatten()\n",
        "y_test_inv"
      ]
    },
    {
      "cell_type": "code",
      "execution_count": null,
      "metadata": {
        "colab": {
          "base_uri": "https://localhost:8080/"
        },
        "id": "fqq4-3-lsuEy",
        "outputId": "0f1f6492-38fd-4375-a9f2-cc6cba2c5fff"
      },
      "outputs": [
        {
          "data": {
            "text/plain": [
              "array([331.9628 , 331.3621 , 334.50278, 335.62506, 334.20532, 330.58508,\n",
              "       327.45148, 325.36227, 323.17316, 321.90802, 321.97974, 322.24933,\n",
              "       320.6415 , 320.70242, 321.1674 , 321.83447, 319.4353 , 322.2138 ,\n",
              "       324.94067, 325.57837, 323.5153 , 323.7951 ], dtype=float32)"
            ]
          },
          "execution_count": 170,
          "metadata": {},
          "output_type": "execute_result"
        }
      ],
      "source": [
        "TU_GRU_Pred = y_pred_inv.flatten()   #y_pred_inv = TU_GRU_Pred\n",
        "TU_GRU_Pred"
      ]
    },
    {
      "cell_type": "code",
      "execution_count": null,
      "metadata": {
        "colab": {
          "base_uri": "https://localhost:8080/",
          "height": 383
        },
        "id": "nBN919VXsuNq",
        "outputId": "99f76655-4322-4b26-da77-d82a5be4dde7"
      },
      "outputs": [
        {
          "data": {
            "image/png": "[encoded data removed]",
            "text/plain": [
              "<Figure size 720x360 with 1 Axes>"
            ]
          },
          "metadata": {},
          "output_type": "display_data"
        }
      ],
      "source": [
        "plt.plot(np.arange(0, len(y_train)), y_train_inv, color='green', label=\"History\")\n",
        "plt.plot(np.arange(len(y_train), len(y_train) + len(y_test)), y_test_inv, color='blue', marker='.', label=\"Actual\")\n",
        "plt.plot(np.arange(len(y_train), len(y_train) + len(y_test)), TU_GRU_Pred, color='red', label=\"Tuned GRU Prediction\")\n",
        "plt.ylabel('Crude Palm Oil Price')\n",
        "plt.xlabel('Time step')\n",
        "plt.legend()\n",
        "plt.show();"
      ]
    },
    {
      "cell_type": "code",
      "execution_count": null,
      "metadata": {
        "colab": {
          "base_uri": "https://localhost:8080/"
        },
        "id": "FqciJO0esuRc",
        "outputId": "f9d6dd3a-7c10-447a-be86-459574ab02fb"
      },
      "outputs": [
        {
          "name": "stdout",
          "output_type": "stream",
          "text": [
            "MAE value of the GRU Model is: 43.62060269442472\n",
            "MDA value of the tuned GRU Model is: 0.3333333333333333\n",
            "MAPE value of the tuned GRU Model is: 16.11491103442759\n",
            "RMSE value of the tuned GRU Model is: 50.47006286747385\n",
            "MSE value of the tuned GRU Model is: 2547.227245846763\n"
          ]
        }
      ],
      "source": [
        "TUMAE_GRU = mean_absolute_error(y_test_inv, TU_GRU_Pred)\n",
        "print('MAE value of the GRU Model is:', TUMAE_GRU)\n",
        "\n",
        "TUMDA_GRU = mda(y_test_inv, TU_GRU_Pred)\n",
        "print('MDA value of the tuned GRU Model is:', TUMDA_GRU)\n",
        "\n",
        "TUMAPE_GRU = mean_absolute_percentage_error(y_test_inv, TU_GRU_Pred)\n",
        "print('MAPE value of the tuned GRU Model is:', TUMAPE_GRU)\n",
        "\n",
        "TURMSE_GRU = mean_squared_error(y_test_inv,TU_GRU_Pred, squared=False)\n",
        "print('RMSE value of the tuned GRU Model is:', TURMSE_GRU)\n",
        "\n",
        "TUMSE_GRU = mean_squared_error(y_test_inv,TU_GRU_Pred)\n",
        "print('MSE value of the tuned GRU Model is:', TUMSE_GRU)"
      ]
    },
    {
      "cell_type": "markdown",
      "metadata": {
        "id": "oczznVkQihRI"
      },
      "source": [
        "Compare tuned GRU Actual VS Predicted (Zoomed-IN)"
      ]
    },
    {
      "cell_type": "code",
      "execution_count": null,
      "metadata": {
        "colab": {
          "base_uri": "https://localhost:8080/",
          "height": 704
        },
        "id": "RmqyhCu_iV_w",
        "outputId": "9a3b881a-5965-4e7a-b7db-bca5043a4376"
      },
      "outputs": [
        {
          "data": {
            "image/png": "[encoded data removed]",
            "text/plain": [
              "<Figure size 1600x800 with 1 Axes>"
            ]
          },
          "metadata": {},
          "output_type": "display_data"
        },
        {
          "data": {
            "text/plain": [
              "<Figure size 720x360 with 0 Axes>"
            ]
          },
          "metadata": {},
          "output_type": "display_data"
        }
      ],
      "source": [
        "#Plot the graph between actual vs predicted values\n",
        "#plt.figure(figsize=(15,7))  #(10,6))\n",
        "plt.figure(figsize=(16,8), dpi= 100, facecolor='w', edgecolor='k')\n",
        "plt.plot(TU_GRU_Pred, color= 'green',marker='.',label = 'Tuned GRU Predicted for cpo_pri')\n",
        "plt.plot(y_test_inv, color = 'red',marker='.',label = 'Actual cpo_pri ')\n",
        "plt.title(\"Tuned GRU Crude Palm Oil Price Prediction (Multivariate)\")\n",
        "plt.xlabel(\"Time step\")\n",
        "plt.ylabel(\"Crude Palm Oil Price\")\n",
        "plt.legend()\n",
        "plt.show()\n",
        "plt.savefig('graph_TUGRU.png')"
      ]
    },
    {
      "cell_type": "markdown",
      "metadata": {
        "id": "xMdKc2DKj1e-"
      },
      "source": [
        "##Results\n",
        "\n",
        "Baseline MSE         = 0.0160\n",
        "\n",
        "Random search MSE    = 0.2349\n",
        "\n",
        "Bayesian search MSE  = 0.3562\n",
        "\n",
        "Hyperband search MSE = 0.0118\n",
        "\n",
        "Baseline RSME        = 50.6\n",
        "\n",
        "Tuned GRU RSME       = 50"
      ]
    },
    {
      "cell_type": "markdown",
      "metadata": {
        "id": "J9SI5KHvtAsT"
      },
      "source": [
        "The tuned GRU is superior to the basseline based on the RSME result"
      ]
    },
    {
      "cell_type": "code",
      "execution_count": null,
      "metadata": {
        "colab": {
          "base_uri": "https://localhost:8080/"
        },
        "id": "TZ39HAx1d0RJ",
        "outputId": "b8999760-f54d-4b66-8312-5e99cb6400a4"
      },
      "outputs": [
        {
          "data": {
            "text/plain": [
              "array([351.39633, 347.6665 , 343.99362, 345.20425, 341.2525 , 337.43933,\n",
              "       330.63617, 323.23892, 320.77472, 323.42755, 323.79852, 321.35092,\n",
              "       317.82602, 317.85577, 317.28708, 314.74396, 314.7602 , 318.7627 ,\n",
              "       322.80365, 325.78122, 317.8231 , 317.70853], dtype=float32)"
            ]
          },
          "execution_count": 136,
          "metadata": {},
          "output_type": "execute_result"
        }
      ],
      "source": [
        "TU_GRU_Pred"
      ]
    },
    {
      "cell_type": "code",
      "execution_count": null,
      "metadata": {
        "id": "CyZ4HpcBdydh"
      },
      "outputs": [],
      "source": []
    },
    {
      "cell_type": "code",
      "execution_count": null,
      "metadata": {
        "id": "JLZgaBe6uWbe"
      },
      "outputs": [],
      "source": []
    }
  ],
  "metadata": {
    "accelerator": "TPU",
    "colab": {
      "provenance": [],
      "authorship_tag": "ABX9TyOSYHDkMbV1wjHHb0Albn56",
      "include_colab_link": true
    },
    "gpuClass": "standard",
    "kernelspec": {
      "display_name": "Python 3",
      "name": "python3"
    },
    "language_info": {
      "name": "python"
    }
  },
  "nbformat": 4,
  "nbformat_minor": 0
}