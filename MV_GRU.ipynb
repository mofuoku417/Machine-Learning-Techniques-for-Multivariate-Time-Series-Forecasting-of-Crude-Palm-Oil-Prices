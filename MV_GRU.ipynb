{
  "nbformat": 4,
  "nbformat_minor": 0,
  "metadata": {
    "colab": {
      "provenance": [],
      "authorship_tag": "ABX9TyOC+xJoB5u+bdtgG/5nblKv",
      "include_colab_link": true
    },
    "kernelspec": {
      "name": "python3",
      "display_name": "Python 3"
    },
    "language_info": {
      "name": "python"
    },
    "gpuClass": "standard",
    "accelerator": "GPU"
  },
  "cells": [
    {
      "cell_type": "markdown",
      "metadata": {
        "id": "view-in-github",
        "colab_type": "text"
      },
      "source": [
        "<a href=\"https://colab.research.google.com/github/mofuoku417/Machine-Learning-Techniques-for-Multivariate-Time-Series-Forecasting-of-Crude-Palm-Oil-Prices/blob/main/MV_GRU.ipynb\" target=\"_parent\"><img src=\"https://colab.research.google.com/assets/colab-badge.svg\" alt=\"Open In Colab\"/></a>"
      ]
    },
    {
      "cell_type": "markdown",
      "source": [
        "##Objective: Predict Monthly Crude Palm Oil Price Using Gated Response Unit (GRU)"
      ],
      "metadata": {
        "id": "tt6Yvzr3gZ-g"
      }
    },
    {
      "cell_type": "markdown",
      "source": [
        "###Install dependencies"
      ],
      "metadata": {
        "id": "TvRmatc1Lo4v"
      }
    },
    {
      "cell_type": "code",
      "source": [
        "!pip install scikeras\n",
        "!pip install bayesian-optimization\n",
        "!pip install keras-tuner --upgrade"
      ],
      "metadata": {
        "id": "gGw0m6TUdgMM",
        "outputId": "419e3c19-0ef4-4154-f4b2-5e46513368ba",
        "colab": {
          "base_uri": "https://localhost:8080/"
        }
      },
      "execution_count": 1,
      "outputs": [
        {
          "output_type": "stream",
          "name": "stdout",
          "text": [
            "Looking in indexes: https://pypi.org/simple, https://us-python.pkg.dev/colab-wheels/public/simple/\n",
            "Collecting scikeras\n",
            "  Downloading scikeras-0.10.0-py3-none-any.whl (27 kB)\n",
            "Requirement already satisfied: packaging>=0.21 in /usr/local/lib/python3.8/dist-packages (from scikeras) (23.0)\n",
            "Requirement already satisfied: scikit-learn>=1.0.0 in /usr/local/lib/python3.8/dist-packages (from scikeras) (1.0.2)\n",
            "Requirement already satisfied: scipy>=1.1.0 in /usr/local/lib/python3.8/dist-packages (from scikit-learn>=1.0.0->scikeras) (1.7.3)\n",
            "Requirement already satisfied: joblib>=0.11 in /usr/local/lib/python3.8/dist-packages (from scikit-learn>=1.0.0->scikeras) (1.2.0)\n",
            "Requirement already satisfied: threadpoolctl>=2.0.0 in /usr/local/lib/python3.8/dist-packages (from scikit-learn>=1.0.0->scikeras) (3.1.0)\n",
            "Requirement already satisfied: numpy>=1.14.6 in /usr/local/lib/python3.8/dist-packages (from scikit-learn>=1.0.0->scikeras) (1.21.6)\n",
            "Installing collected packages: scikeras\n",
            "Successfully installed scikeras-0.10.0\n",
            "Looking in indexes: https://pypi.org/simple, https://us-python.pkg.dev/colab-wheels/public/simple/\n",
            "Collecting bayesian-optimization\n",
            "  Downloading bayesian_optimization-1.4.2-py3-none-any.whl (17 kB)\n",
            "Requirement already satisfied: scikit-learn>=0.18.0 in /usr/local/lib/python3.8/dist-packages (from bayesian-optimization) (1.0.2)\n",
            "Requirement already satisfied: scipy>=1.0.0 in /usr/local/lib/python3.8/dist-packages (from bayesian-optimization) (1.7.3)\n",
            "Requirement already satisfied: numpy>=1.9.0 in /usr/local/lib/python3.8/dist-packages (from bayesian-optimization) (1.21.6)\n",
            "Collecting colorama>=0.4.6\n",
            "  Downloading colorama-0.4.6-py2.py3-none-any.whl (25 kB)\n",
            "Requirement already satisfied: threadpoolctl>=2.0.0 in /usr/local/lib/python3.8/dist-packages (from scikit-learn>=0.18.0->bayesian-optimization) (3.1.0)\n",
            "Requirement already satisfied: joblib>=0.11 in /usr/local/lib/python3.8/dist-packages (from scikit-learn>=0.18.0->bayesian-optimization) (1.2.0)\n",
            "Installing collected packages: colorama, bayesian-optimization\n",
            "Successfully installed bayesian-optimization-1.4.2 colorama-0.4.6\n",
            "Looking in indexes: https://pypi.org/simple, https://us-python.pkg.dev/colab-wheels/public/simple/\n",
            "Collecting keras-tuner\n",
            "  Downloading keras_tuner-1.2.1-py3-none-any.whl (169 kB)\n",
            "\u001b[2K     \u001b[90m━━━━━━━━━━━━━━━━━━━━━━━━━━━━━━━━━━━━━━━\u001b[0m \u001b[32m169.6/169.6 KB\u001b[0m \u001b[31m7.7 MB/s\u001b[0m eta \u001b[36m0:00:00\u001b[0m\n",
            "\u001b[?25hRequirement already satisfied: ipython in /usr/local/lib/python3.8/dist-packages (from keras-tuner) (7.9.0)\n",
            "Requirement already satisfied: packaging in /usr/local/lib/python3.8/dist-packages (from keras-tuner) (23.0)\n",
            "Collecting kt-legacy\n",
            "  Downloading kt_legacy-1.0.4-py3-none-any.whl (9.6 kB)\n",
            "Requirement already satisfied: tensorflow>=2.0 in /usr/local/lib/python3.8/dist-packages (from keras-tuner) (2.11.0)\n",
            "Requirement already satisfied: requests in /usr/local/lib/python3.8/dist-packages (from keras-tuner) (2.25.1)\n",
            "Requirement already satisfied: h5py>=2.9.0 in /usr/local/lib/python3.8/dist-packages (from tensorflow>=2.0->keras-tuner) (3.1.0)\n",
            "Requirement already satisfied: gast<=0.4.0,>=0.2.1 in /usr/local/lib/python3.8/dist-packages (from tensorflow>=2.0->keras-tuner) (0.4.0)\n",
            "Requirement already satisfied: wrapt>=1.11.0 in /usr/local/lib/python3.8/dist-packages (from tensorflow>=2.0->keras-tuner) (1.14.1)\n",
            "Requirement already satisfied: setuptools in /usr/local/lib/python3.8/dist-packages (from tensorflow>=2.0->keras-tuner) (57.4.0)\n",
            "Requirement already satisfied: libclang>=13.0.0 in /usr/local/lib/python3.8/dist-packages (from tensorflow>=2.0->keras-tuner) (15.0.6.1)\n",
            "Requirement already satisfied: tensorboard<2.12,>=2.11 in /usr/local/lib/python3.8/dist-packages (from tensorflow>=2.0->keras-tuner) (2.11.2)\n",
            "Requirement already satisfied: typing-extensions>=3.6.6 in /usr/local/lib/python3.8/dist-packages (from tensorflow>=2.0->keras-tuner) (4.5.0)\n",
            "Requirement already satisfied: termcolor>=1.1.0 in /usr/local/lib/python3.8/dist-packages (from tensorflow>=2.0->keras-tuner) (2.2.0)\n",
            "Requirement already satisfied: keras<2.12,>=2.11.0 in /usr/local/lib/python3.8/dist-packages (from tensorflow>=2.0->keras-tuner) (2.11.0)\n",
            "Requirement already satisfied: numpy>=1.20 in /usr/local/lib/python3.8/dist-packages (from tensorflow>=2.0->keras-tuner) (1.21.6)\n",
            "Requirement already satisfied: tensorflow-estimator<2.12,>=2.11.0 in /usr/local/lib/python3.8/dist-packages (from tensorflow>=2.0->keras-tuner) (2.11.0)\n",
            "Requirement already satisfied: flatbuffers>=2.0 in /usr/local/lib/python3.8/dist-packages (from tensorflow>=2.0->keras-tuner) (23.1.21)\n",
            "Requirement already satisfied: tensorflow-io-gcs-filesystem>=0.23.1 in /usr/local/lib/python3.8/dist-packages (from tensorflow>=2.0->keras-tuner) (0.30.0)\n",
            "Requirement already satisfied: astunparse>=1.6.0 in /usr/local/lib/python3.8/dist-packages (from tensorflow>=2.0->keras-tuner) (1.6.3)\n",
            "Requirement already satisfied: six>=1.12.0 in /usr/local/lib/python3.8/dist-packages (from tensorflow>=2.0->keras-tuner) (1.15.0)\n",
            "Requirement already satisfied: grpcio<2.0,>=1.24.3 in /usr/local/lib/python3.8/dist-packages (from tensorflow>=2.0->keras-tuner) (1.51.1)\n",
            "Requirement already satisfied: absl-py>=1.0.0 in /usr/local/lib/python3.8/dist-packages (from tensorflow>=2.0->keras-tuner) (1.4.0)\n",
            "Requirement already satisfied: google-pasta>=0.1.1 in /usr/local/lib/python3.8/dist-packages (from tensorflow>=2.0->keras-tuner) (0.2.0)\n",
            "Requirement already satisfied: protobuf<3.20,>=3.9.2 in /usr/local/lib/python3.8/dist-packages (from tensorflow>=2.0->keras-tuner) (3.19.6)\n",
            "Requirement already satisfied: opt-einsum>=2.3.2 in /usr/local/lib/python3.8/dist-packages (from tensorflow>=2.0->keras-tuner) (3.3.0)\n",
            "Requirement already satisfied: pexpect in /usr/local/lib/python3.8/dist-packages (from ipython->keras-tuner) (4.8.0)\n",
            "Requirement already satisfied: traitlets>=4.2 in /usr/local/lib/python3.8/dist-packages (from ipython->keras-tuner) (5.7.1)\n",
            "Requirement already satisfied: backcall in /usr/local/lib/python3.8/dist-packages (from ipython->keras-tuner) (0.2.0)\n",
            "Collecting jedi>=0.10\n",
            "  Downloading jedi-0.18.2-py2.py3-none-any.whl (1.6 MB)\n",
            "\u001b[2K     \u001b[90m━━━━━━━━━━━━━━━━━━━━━━━━━━━━━━━━━━━━━━━━\u001b[0m \u001b[32m1.6/1.6 MB\u001b[0m \u001b[31m44.0 MB/s\u001b[0m eta \u001b[36m0:00:00\u001b[0m\n",
            "\u001b[?25hRequirement already satisfied: prompt-toolkit<2.1.0,>=2.0.0 in /usr/local/lib/python3.8/dist-packages (from ipython->keras-tuner) (2.0.10)\n",
            "Requirement already satisfied: decorator in /usr/local/lib/python3.8/dist-packages (from ipython->keras-tuner) (4.4.2)\n",
            "Requirement already satisfied: pygments in /usr/local/lib/python3.8/dist-packages (from ipython->keras-tuner) (2.6.1)\n",
            "Requirement already satisfied: pickleshare in /usr/local/lib/python3.8/dist-packages (from ipython->keras-tuner) (0.7.5)\n",
            "Requirement already satisfied: certifi>=2017.4.17 in /usr/local/lib/python3.8/dist-packages (from requests->keras-tuner) (2022.12.7)\n",
            "Requirement already satisfied: chardet<5,>=3.0.2 in /usr/local/lib/python3.8/dist-packages (from requests->keras-tuner) (4.0.0)\n",
            "Requirement already satisfied: idna<3,>=2.5 in /usr/local/lib/python3.8/dist-packages (from requests->keras-tuner) (2.10)\n",
            "Requirement already satisfied: urllib3<1.27,>=1.21.1 in /usr/local/lib/python3.8/dist-packages (from requests->keras-tuner) (1.24.3)\n",
            "Requirement already satisfied: wheel<1.0,>=0.23.0 in /usr/local/lib/python3.8/dist-packages (from astunparse>=1.6.0->tensorflow>=2.0->keras-tuner) (0.38.4)\n",
            "Requirement already satisfied: parso<0.9.0,>=0.8.0 in /usr/local/lib/python3.8/dist-packages (from jedi>=0.10->ipython->keras-tuner) (0.8.3)\n",
            "Requirement already satisfied: wcwidth in /usr/local/lib/python3.8/dist-packages (from prompt-toolkit<2.1.0,>=2.0.0->ipython->keras-tuner) (0.2.6)\n",
            "Requirement already satisfied: google-auth<3,>=1.6.3 in /usr/local/lib/python3.8/dist-packages (from tensorboard<2.12,>=2.11->tensorflow>=2.0->keras-tuner) (2.16.0)\n",
            "Requirement already satisfied: tensorboard-plugin-wit>=1.6.0 in /usr/local/lib/python3.8/dist-packages (from tensorboard<2.12,>=2.11->tensorflow>=2.0->keras-tuner) (1.8.1)\n",
            "Requirement already satisfied: google-auth-oauthlib<0.5,>=0.4.1 in /usr/local/lib/python3.8/dist-packages (from tensorboard<2.12,>=2.11->tensorflow>=2.0->keras-tuner) (0.4.6)\n",
            "Requirement already satisfied: markdown>=2.6.8 in /usr/local/lib/python3.8/dist-packages (from tensorboard<2.12,>=2.11->tensorflow>=2.0->keras-tuner) (3.4.1)\n",
            "Requirement already satisfied: werkzeug>=1.0.1 in /usr/local/lib/python3.8/dist-packages (from tensorboard<2.12,>=2.11->tensorflow>=2.0->keras-tuner) (1.0.1)\n",
            "Requirement already satisfied: tensorboard-data-server<0.7.0,>=0.6.0 in /usr/local/lib/python3.8/dist-packages (from tensorboard<2.12,>=2.11->tensorflow>=2.0->keras-tuner) (0.6.1)\n",
            "Requirement already satisfied: ptyprocess>=0.5 in /usr/local/lib/python3.8/dist-packages (from pexpect->ipython->keras-tuner) (0.7.0)\n",
            "Requirement already satisfied: pyasn1-modules>=0.2.1 in /usr/local/lib/python3.8/dist-packages (from google-auth<3,>=1.6.3->tensorboard<2.12,>=2.11->tensorflow>=2.0->keras-tuner) (0.2.8)\n",
            "Requirement already satisfied: cachetools<6.0,>=2.0.0 in /usr/local/lib/python3.8/dist-packages (from google-auth<3,>=1.6.3->tensorboard<2.12,>=2.11->tensorflow>=2.0->keras-tuner) (5.3.0)\n",
            "Requirement already satisfied: rsa<5,>=3.1.4 in /usr/local/lib/python3.8/dist-packages (from google-auth<3,>=1.6.3->tensorboard<2.12,>=2.11->tensorflow>=2.0->keras-tuner) (4.9)\n",
            "Requirement already satisfied: requests-oauthlib>=0.7.0 in /usr/local/lib/python3.8/dist-packages (from google-auth-oauthlib<0.5,>=0.4.1->tensorboard<2.12,>=2.11->tensorflow>=2.0->keras-tuner) (1.3.1)\n",
            "Requirement already satisfied: importlib-metadata>=4.4 in /usr/local/lib/python3.8/dist-packages (from markdown>=2.6.8->tensorboard<2.12,>=2.11->tensorflow>=2.0->keras-tuner) (6.0.0)\n",
            "Requirement already satisfied: zipp>=0.5 in /usr/local/lib/python3.8/dist-packages (from importlib-metadata>=4.4->markdown>=2.6.8->tensorboard<2.12,>=2.11->tensorflow>=2.0->keras-tuner) (3.13.0)\n",
            "Requirement already satisfied: pyasn1<0.5.0,>=0.4.6 in /usr/local/lib/python3.8/dist-packages (from pyasn1-modules>=0.2.1->google-auth<3,>=1.6.3->tensorboard<2.12,>=2.11->tensorflow>=2.0->keras-tuner) (0.4.8)\n",
            "Requirement already satisfied: oauthlib>=3.0.0 in /usr/local/lib/python3.8/dist-packages (from requests-oauthlib>=0.7.0->google-auth-oauthlib<0.5,>=0.4.1->tensorboard<2.12,>=2.11->tensorflow>=2.0->keras-tuner) (3.2.2)\n",
            "Installing collected packages: kt-legacy, jedi, keras-tuner\n",
            "Successfully installed jedi-0.18.2 keras-tuner-1.2.1 kt-legacy-1.0.4\n"
          ]
        }
      ]
    },
    {
      "cell_type": "markdown",
      "source": [
        "###Load Libraries"
      ],
      "metadata": {
        "id": "r_2Cswg0sYN8"
      }
    },
    {
      "cell_type": "code",
      "source": [
        "import pandas as pd\n",
        "import numpy as np\n",
        "import matplotlib.pyplot as plt\n",
        "import pickle\n",
        "import os\n",
        "import seaborn as sns\n",
        "plt.rcParams['figure.figsize'] = (10, 5)\n",
        "plt.style.use('fivethirtyeight')\n",
        "from plotly.subplots import make_subplots\n",
        "import plotly.graph_objects as go\n",
        "import tensorflow as tf\n",
        "from tensorflow.keras import layers\n",
        "from sklearn.metrics import mean_absolute_error\n",
        "from sklearn.metrics import make_scorer, mean_squared_error\n",
        "from keras.layers import Dense, Dropout\n",
        "from sklearn.metrics import explained_variance_score\n",
        "from sklearn.neural_network import MLPRegressor\n",
        "from sklearn.model_selection import GridSearchCV, RandomizedSearchCV\n",
        "import warnings\n",
        "warnings.filterwarnings('ignore')\n",
        "from keras.models import Sequential\n",
        "from keras.layers import Dense\n",
        "from keras.wrappers.scikit_learn import KerasRegressor\n",
        "from keras.wrappers.scikit_learn import KerasClassifier\n",
        "from sklearn.model_selection import KFold, cross_val_score\n",
        "from scikeras.wrappers import KerasRegressor\n",
        "from tensorflow import keras\n",
        "from kerastuner.tuners import RandomSearch\n",
        "from kerastuner import HyperModel, RandomSearch, Hyperband, BayesianOptimization\n",
        "from keras.callbacks import EarlyStopping\n",
        "from time import time\n",
        "import pickle\n",
        "\n",
        "import matplotlib.dates as mdates\n",
        "from sklearn.preprocessing import RobustScaler\n",
        "from sklearn.preprocessing import MinMaxScaler"
      ],
      "metadata": {
        "id": "eJUaw5qy34It"
      },
      "execution_count": 2,
      "outputs": []
    },
    {
      "cell_type": "code",
      "source": [
        "import random as python_random\n",
        "def reset_seeds():\n",
        "   np.random.seed(123) \n",
        "   python_random.seed(123)\n",
        "   tf.random.set_seed(1234)\n",
        "\n",
        "reset_seeds()"
      ],
      "metadata": {
        "id": "0clMydegB8NR"
      },
      "execution_count": 3,
      "outputs": []
    },
    {
      "cell_type": "markdown",
      "source": [
        "###Define Functions to Facilitate Metrics Evaluation"
      ],
      "metadata": {
        "id": "Gzu9V2o2gfZG"
      }
    },
    {
      "cell_type": "code",
      "source": [
        "#To compute Mean Directional Accuracy\n",
        "def mda(actual: np.ndarray, predicted: np.ndarray):\n",
        "    \"\"\" Mean Directional Accuracy \"\"\"\n",
        "    return np.mean((np.sign(actual[1:] - actual[:-1]) == np.sign(predicted[1:] - predicted[:-1])).astype(int))\n",
        "\n",
        "#Calculate the Mean Absolute Percentage Error\n",
        "#def MAPE(y_true, y_pred): \n",
        "    #mape = np.mean(np.abs((np.array(y_true) - np.array(y_pred)) / np.array(y_true))) * 100\n",
        "    #return mape\n",
        "\n",
        "def mean_absolute_percentage_error(y_true, y_pred): \n",
        "    y_true, y_pred = np.array(y_true), np.array(y_pred)\n",
        "    return np.mean(np.abs((y_true - y_pred) / y_true)) * 100\n",
        "\n",
        "def MAPE(y_true, y_pred): \n",
        "    y_true, y_pred = np.array(y_true), np.array(y_pred)\n",
        "    return np.mean(np.abs((y_true - y_pred) / y_true)) * 100\n",
        "\n",
        "#Calculate the Root Mean Squared Error:\n",
        "def RMSE(y_true, y_pred): \n",
        "    rmse = np.sqrt(mean_squared_error(y_true, y_pred))\n",
        "    return rmse"
      ],
      "metadata": {
        "id": "k7RYx1rN_Yf_"
      },
      "execution_count": 4,
      "outputs": []
    },
    {
      "cell_type": "markdown",
      "source": [
        "###Load the Cleaned Data from Github"
      ],
      "metadata": {
        "id": "FVpIGyF7g4od"
      }
    },
    {
      "cell_type": "code",
      "source": [
        "from pandas import read_csv\n",
        "path = 'https://raw.githubusercontent.com/mofuoku417/Machine-Learning-Techniques-for-Multivariate-Time-Series-Forecasting-of-Crude-Palm-Oil-Prices/main/Cleaned_data/FS_2.csv'\n",
        "df = read_csv(path)\n",
        "df.head()"
      ],
      "metadata": {
        "colab": {
          "base_uri": "https://localhost:8080/",
          "height": 228
        },
        "id": "z_6wFR8b3xZf",
        "outputId": "54373b65-4e74-4ed0-ee09-6760d2e36c8d"
      },
      "execution_count": 5,
      "outputs": [
        {
          "output_type": "execute_result",
          "data": {
            "text/plain": [
              "      date  cpo_pri  cno_pri  oli_pri  rps_pri  pno_pri  sbo_pri  sfo_pri\n",
              "0  12/1/10      323      455  3102.61   423.45    844.0    468.0    578.0\n",
              "1   1/1/11      345      546  3100.45   415.85    799.0    485.0    557.0\n",
              "2   2/1/11      362      595  3199.41   410.77    718.0    466.0    552.0\n",
              "3   3/1/11      376      636  3281.67   414.82    614.0    442.0    574.0\n",
              "4   4/1/11      383      738  3261.65   451.04    619.0    429.0    595.0"
            ],
            "text/html": [
              "\n",
              "  <div id=\"df-1996dad4-7c46-4b70-9a6b-5a76853a681e\">\n",
              "    <div class=\"colab-df-container\">\n",
              "      <div>\n",
              "<style scoped>\n",
              "    .dataframe tbody tr th:only-of-type {\n",
              "        vertical-align: middle;\n",
              "    }\n",
              "\n",
              "    .dataframe tbody tr th {\n",
              "        vertical-align: top;\n",
              "    }\n",
              "\n",
              "    .dataframe thead th {\n",
              "        text-align: right;\n",
              "    }\n",
              "</style>\n",
              "<table border=\"1\" class=\"dataframe\">\n",
              "  <thead>\n",
              "    <tr style=\"text-align: right;\">\n",
              "      <th></th>\n",
              "      <th>date</th>\n",
              "      <th>cpo_pri</th>\n",
              "      <th>cno_pri</th>\n",
              "      <th>oli_pri</th>\n",
              "      <th>rps_pri</th>\n",
              "      <th>pno_pri</th>\n",
              "      <th>sbo_pri</th>\n",
              "      <th>sfo_pri</th>\n",
              "    </tr>\n",
              "  </thead>\n",
              "  <tbody>\n",
              "    <tr>\n",
              "      <th>0</th>\n",
              "      <td>12/1/10</td>\n",
              "      <td>323</td>\n",
              "      <td>455</td>\n",
              "      <td>3102.61</td>\n",
              "      <td>423.45</td>\n",
              "      <td>844.0</td>\n",
              "      <td>468.0</td>\n",
              "      <td>578.0</td>\n",
              "    </tr>\n",
              "    <tr>\n",
              "      <th>1</th>\n",
              "      <td>1/1/11</td>\n",
              "      <td>345</td>\n",
              "      <td>546</td>\n",
              "      <td>3100.45</td>\n",
              "      <td>415.85</td>\n",
              "      <td>799.0</td>\n",
              "      <td>485.0</td>\n",
              "      <td>557.0</td>\n",
              "    </tr>\n",
              "    <tr>\n",
              "      <th>2</th>\n",
              "      <td>2/1/11</td>\n",
              "      <td>362</td>\n",
              "      <td>595</td>\n",
              "      <td>3199.41</td>\n",
              "      <td>410.77</td>\n",
              "      <td>718.0</td>\n",
              "      <td>466.0</td>\n",
              "      <td>552.0</td>\n",
              "    </tr>\n",
              "    <tr>\n",
              "      <th>3</th>\n",
              "      <td>3/1/11</td>\n",
              "      <td>376</td>\n",
              "      <td>636</td>\n",
              "      <td>3281.67</td>\n",
              "      <td>414.82</td>\n",
              "      <td>614.0</td>\n",
              "      <td>442.0</td>\n",
              "      <td>574.0</td>\n",
              "    </tr>\n",
              "    <tr>\n",
              "      <th>4</th>\n",
              "      <td>4/1/11</td>\n",
              "      <td>383</td>\n",
              "      <td>738</td>\n",
              "      <td>3261.65</td>\n",
              "      <td>451.04</td>\n",
              "      <td>619.0</td>\n",
              "      <td>429.0</td>\n",
              "      <td>595.0</td>\n",
              "    </tr>\n",
              "  </tbody>\n",
              "</table>\n",
              "</div>\n",
              "      <button class=\"colab-df-convert\" onclick=\"convertToInteractive('df-1996dad4-7c46-4b70-9a6b-5a76853a681e')\"\n",
              "              title=\"Convert this dataframe to an interactive table.\"\n",
              "              style=\"display:none;\">\n",
              "        \n",
              "  <svg xmlns=\"http://www.w3.org/2000/svg\" height=\"24px\"viewBox=\"0 0 24 24\"\n",
              "       width=\"24px\">\n",
              "    <path d=\"M0 0h24v24H0V0z\" fill=\"none\"/>\n",
              "    <path d=\"M18.56 5.44l.94 2.06.94-2.06 2.06-.94-2.06-.94-.94-2.06-.94 2.06-2.06.94zm-11 1L8.5 8.5l.94-2.06 2.06-.94-2.06-.94L8.5 2.5l-.94 2.06-2.06.94zm10 10l.94 2.06.94-2.06 2.06-.94-2.06-.94-.94-2.06-.94 2.06-2.06.94z\"/><path d=\"M17.41 7.96l-1.37-1.37c-.4-.4-.92-.59-1.43-.59-.52 0-1.04.2-1.43.59L10.3 9.45l-7.72 7.72c-.78.78-.78 2.05 0 2.83L4 21.41c.39.39.9.59 1.41.59.51 0 1.02-.2 1.41-.59l7.78-7.78 2.81-2.81c.8-.78.8-2.07 0-2.86zM5.41 20L4 18.59l7.72-7.72 1.47 1.35L5.41 20z\"/>\n",
              "  </svg>\n",
              "      </button>\n",
              "      \n",
              "  <style>\n",
              "    .colab-df-container {\n",
              "      display:flex;\n",
              "      flex-wrap:wrap;\n",
              "      gap: 12px;\n",
              "    }\n",
              "\n",
              "    .colab-df-convert {\n",
              "      background-color: #E8F0FE;\n",
              "      border: none;\n",
              "      border-radius: 50%;\n",
              "      cursor: pointer;\n",
              "      display: none;\n",
              "      fill: #1967D2;\n",
              "      height: 32px;\n",
              "      padding: 0 0 0 0;\n",
              "      width: 32px;\n",
              "    }\n",
              "\n",
              "    .colab-df-convert:hover {\n",
              "      background-color: #E2EBFA;\n",
              "      box-shadow: 0px 1px 2px rgba(60, 64, 67, 0.3), 0px 1px 3px 1px rgba(60, 64, 67, 0.15);\n",
              "      fill: #174EA6;\n",
              "    }\n",
              "\n",
              "    [theme=dark] .colab-df-convert {\n",
              "      background-color: #3B4455;\n",
              "      fill: #D2E3FC;\n",
              "    }\n",
              "\n",
              "    [theme=dark] .colab-df-convert:hover {\n",
              "      background-color: #434B5C;\n",
              "      box-shadow: 0px 1px 3px 1px rgba(0, 0, 0, 0.15);\n",
              "      filter: drop-shadow(0px 1px 2px rgba(0, 0, 0, 0.3));\n",
              "      fill: #FFFFFF;\n",
              "    }\n",
              "  </style>\n",
              "\n",
              "      <script>\n",
              "        const buttonEl =\n",
              "          document.querySelector('#df-1996dad4-7c46-4b70-9a6b-5a76853a681e button.colab-df-convert');\n",
              "        buttonEl.style.display =\n",
              "          google.colab.kernel.accessAllowed ? 'block' : 'none';\n",
              "\n",
              "        async function convertToInteractive(key) {\n",
              "          const element = document.querySelector('#df-1996dad4-7c46-4b70-9a6b-5a76853a681e');\n",
              "          const dataTable =\n",
              "            await google.colab.kernel.invokeFunction('convertToInteractive',\n",
              "                                                     [key], {});\n",
              "          if (!dataTable) return;\n",
              "\n",
              "          const docLinkHtml = 'Like what you see? Visit the ' +\n",
              "            '<a target=\"_blank\" href=https://colab.research.google.com/notebooks/data_table.ipynb>data table notebook</a>'\n",
              "            + ' to learn more about interactive tables.';\n",
              "          element.innerHTML = '';\n",
              "          dataTable['output_type'] = 'display_data';\n",
              "          await google.colab.output.renderOutput(dataTable, element);\n",
              "          const docLink = document.createElement('div');\n",
              "          docLink.innerHTML = docLinkHtml;\n",
              "          element.appendChild(docLink);\n",
              "        }\n",
              "      </script>\n",
              "    </div>\n",
              "  </div>\n",
              "  "
            ]
          },
          "metadata": {},
          "execution_count": 5
        }
      ]
    },
    {
      "cell_type": "code",
      "source": [
        "df['date']=pd.to_datetime(df['date'])\n",
        "#del df['date']"
      ],
      "metadata": {
        "id": "bABFH7Kd4nBN"
      },
      "execution_count": 6,
      "outputs": []
    },
    {
      "cell_type": "code",
      "source": [
        "df.set_index('date', inplace=True)\n",
        "df.info()"
      ],
      "metadata": {
        "colab": {
          "base_uri": "https://localhost:8080/"
        },
        "id": "nZ-LB-rFdF5N",
        "outputId": "23d463e5-d81f-41ef-af70-3a2d8713b211"
      },
      "execution_count": 7,
      "outputs": [
        {
          "output_type": "stream",
          "name": "stdout",
          "text": [
            "<class 'pandas.core.frame.DataFrame'>\n",
            "DatetimeIndex: 124 entries, 2010-12-01 to 2021-03-01\n",
            "Data columns (total 7 columns):\n",
            " #   Column   Non-Null Count  Dtype  \n",
            "---  ------   --------------  -----  \n",
            " 0   cpo_pri  124 non-null    int64  \n",
            " 1   cno_pri  124 non-null    int64  \n",
            " 2   oli_pri  124 non-null    float64\n",
            " 3   rps_pri  124 non-null    float64\n",
            " 4   pno_pri  124 non-null    float64\n",
            " 5   sbo_pri  124 non-null    float64\n",
            " 6   sfo_pri  124 non-null    float64\n",
            "dtypes: float64(5), int64(2)\n",
            "memory usage: 7.8 KB\n"
          ]
        }
      ]
    },
    {
      "cell_type": "code",
      "source": [
        "df.head()"
      ],
      "metadata": {
        "colab": {
          "base_uri": "https://localhost:8080/",
          "height": 260
        },
        "id": "PLpdJChY4wex",
        "outputId": "1e1dc4d2-5ce1-4195-887c-2dd84929f56d"
      },
      "execution_count": 8,
      "outputs": [
        {
          "output_type": "execute_result",
          "data": {
            "text/plain": [
              "            cpo_pri  cno_pri  oli_pri  rps_pri  pno_pri  sbo_pri  sfo_pri\n",
              "date                                                                     \n",
              "2010-12-01      323      455  3102.61   423.45    844.0    468.0    578.0\n",
              "2011-01-01      345      546  3100.45   415.85    799.0    485.0    557.0\n",
              "2011-02-01      362      595  3199.41   410.77    718.0    466.0    552.0\n",
              "2011-03-01      376      636  3281.67   414.82    614.0    442.0    574.0\n",
              "2011-04-01      383      738  3261.65   451.04    619.0    429.0    595.0"
            ],
            "text/html": [
              "\n",
              "  <div id=\"df-edef39ff-78cf-4627-83ba-91f3adb7caeb\">\n",
              "    <div class=\"colab-df-container\">\n",
              "      <div>\n",
              "<style scoped>\n",
              "    .dataframe tbody tr th:only-of-type {\n",
              "        vertical-align: middle;\n",
              "    }\n",
              "\n",
              "    .dataframe tbody tr th {\n",
              "        vertical-align: top;\n",
              "    }\n",
              "\n",
              "    .dataframe thead th {\n",
              "        text-align: right;\n",
              "    }\n",
              "</style>\n",
              "<table border=\"1\" class=\"dataframe\">\n",
              "  <thead>\n",
              "    <tr style=\"text-align: right;\">\n",
              "      <th></th>\n",
              "      <th>cpo_pri</th>\n",
              "      <th>cno_pri</th>\n",
              "      <th>oli_pri</th>\n",
              "      <th>rps_pri</th>\n",
              "      <th>pno_pri</th>\n",
              "      <th>sbo_pri</th>\n",
              "      <th>sfo_pri</th>\n",
              "    </tr>\n",
              "    <tr>\n",
              "      <th>date</th>\n",
              "      <th></th>\n",
              "      <th></th>\n",
              "      <th></th>\n",
              "      <th></th>\n",
              "      <th></th>\n",
              "      <th></th>\n",
              "      <th></th>\n",
              "    </tr>\n",
              "  </thead>\n",
              "  <tbody>\n",
              "    <tr>\n",
              "      <th>2010-12-01</th>\n",
              "      <td>323</td>\n",
              "      <td>455</td>\n",
              "      <td>3102.61</td>\n",
              "      <td>423.45</td>\n",
              "      <td>844.0</td>\n",
              "      <td>468.0</td>\n",
              "      <td>578.0</td>\n",
              "    </tr>\n",
              "    <tr>\n",
              "      <th>2011-01-01</th>\n",
              "      <td>345</td>\n",
              "      <td>546</td>\n",
              "      <td>3100.45</td>\n",
              "      <td>415.85</td>\n",
              "      <td>799.0</td>\n",
              "      <td>485.0</td>\n",
              "      <td>557.0</td>\n",
              "    </tr>\n",
              "    <tr>\n",
              "      <th>2011-02-01</th>\n",
              "      <td>362</td>\n",
              "      <td>595</td>\n",
              "      <td>3199.41</td>\n",
              "      <td>410.77</td>\n",
              "      <td>718.0</td>\n",
              "      <td>466.0</td>\n",
              "      <td>552.0</td>\n",
              "    </tr>\n",
              "    <tr>\n",
              "      <th>2011-03-01</th>\n",
              "      <td>376</td>\n",
              "      <td>636</td>\n",
              "      <td>3281.67</td>\n",
              "      <td>414.82</td>\n",
              "      <td>614.0</td>\n",
              "      <td>442.0</td>\n",
              "      <td>574.0</td>\n",
              "    </tr>\n",
              "    <tr>\n",
              "      <th>2011-04-01</th>\n",
              "      <td>383</td>\n",
              "      <td>738</td>\n",
              "      <td>3261.65</td>\n",
              "      <td>451.04</td>\n",
              "      <td>619.0</td>\n",
              "      <td>429.0</td>\n",
              "      <td>595.0</td>\n",
              "    </tr>\n",
              "  </tbody>\n",
              "</table>\n",
              "</div>\n",
              "      <button class=\"colab-df-convert\" onclick=\"convertToInteractive('df-edef39ff-78cf-4627-83ba-91f3adb7caeb')\"\n",
              "              title=\"Convert this dataframe to an interactive table.\"\n",
              "              style=\"display:none;\">\n",
              "        \n",
              "  <svg xmlns=\"http://www.w3.org/2000/svg\" height=\"24px\"viewBox=\"0 0 24 24\"\n",
              "       width=\"24px\">\n",
              "    <path d=\"M0 0h24v24H0V0z\" fill=\"none\"/>\n",
              "    <path d=\"M18.56 5.44l.94 2.06.94-2.06 2.06-.94-2.06-.94-.94-2.06-.94 2.06-2.06.94zm-11 1L8.5 8.5l.94-2.06 2.06-.94-2.06-.94L8.5 2.5l-.94 2.06-2.06.94zm10 10l.94 2.06.94-2.06 2.06-.94-2.06-.94-.94-2.06-.94 2.06-2.06.94z\"/><path d=\"M17.41 7.96l-1.37-1.37c-.4-.4-.92-.59-1.43-.59-.52 0-1.04.2-1.43.59L10.3 9.45l-7.72 7.72c-.78.78-.78 2.05 0 2.83L4 21.41c.39.39.9.59 1.41.59.51 0 1.02-.2 1.41-.59l7.78-7.78 2.81-2.81c.8-.78.8-2.07 0-2.86zM5.41 20L4 18.59l7.72-7.72 1.47 1.35L5.41 20z\"/>\n",
              "  </svg>\n",
              "      </button>\n",
              "      \n",
              "  <style>\n",
              "    .colab-df-container {\n",
              "      display:flex;\n",
              "      flex-wrap:wrap;\n",
              "      gap: 12px;\n",
              "    }\n",
              "\n",
              "    .colab-df-convert {\n",
              "      background-color: #E8F0FE;\n",
              "      border: none;\n",
              "      border-radius: 50%;\n",
              "      cursor: pointer;\n",
              "      display: none;\n",
              "      fill: #1967D2;\n",
              "      height: 32px;\n",
              "      padding: 0 0 0 0;\n",
              "      width: 32px;\n",
              "    }\n",
              "\n",
              "    .colab-df-convert:hover {\n",
              "      background-color: #E2EBFA;\n",
              "      box-shadow: 0px 1px 2px rgba(60, 64, 67, 0.3), 0px 1px 3px 1px rgba(60, 64, 67, 0.15);\n",
              "      fill: #174EA6;\n",
              "    }\n",
              "\n",
              "    [theme=dark] .colab-df-convert {\n",
              "      background-color: #3B4455;\n",
              "      fill: #D2E3FC;\n",
              "    }\n",
              "\n",
              "    [theme=dark] .colab-df-convert:hover {\n",
              "      background-color: #434B5C;\n",
              "      box-shadow: 0px 1px 3px 1px rgba(0, 0, 0, 0.15);\n",
              "      filter: drop-shadow(0px 1px 2px rgba(0, 0, 0, 0.3));\n",
              "      fill: #FFFFFF;\n",
              "    }\n",
              "  </style>\n",
              "\n",
              "      <script>\n",
              "        const buttonEl =\n",
              "          document.querySelector('#df-edef39ff-78cf-4627-83ba-91f3adb7caeb button.colab-df-convert');\n",
              "        buttonEl.style.display =\n",
              "          google.colab.kernel.accessAllowed ? 'block' : 'none';\n",
              "\n",
              "        async function convertToInteractive(key) {\n",
              "          const element = document.querySelector('#df-edef39ff-78cf-4627-83ba-91f3adb7caeb');\n",
              "          const dataTable =\n",
              "            await google.colab.kernel.invokeFunction('convertToInteractive',\n",
              "                                                     [key], {});\n",
              "          if (!dataTable) return;\n",
              "\n",
              "          const docLinkHtml = 'Like what you see? Visit the ' +\n",
              "            '<a target=\"_blank\" href=https://colab.research.google.com/notebooks/data_table.ipynb>data table notebook</a>'\n",
              "            + ' to learn more about interactive tables.';\n",
              "          element.innerHTML = '';\n",
              "          dataTable['output_type'] = 'display_data';\n",
              "          await google.colab.output.renderOutput(dataTable, element);\n",
              "          const docLink = document.createElement('div');\n",
              "          docLink.innerHTML = docLinkHtml;\n",
              "          element.appendChild(docLink);\n",
              "        }\n",
              "      </script>\n",
              "    </div>\n",
              "  </div>\n",
              "  "
            ]
          },
          "metadata": {},
          "execution_count": 8
        }
      ]
    },
    {
      "cell_type": "code",
      "source": [
        "# Plot an area chart\n",
        "plt.figure(figsize=(25,10))\n",
        "ax = df.plot.area(fontsize=12);\n",
        "\n",
        "# Additional customizations\n",
        "ax.set_xlabel('date');\n",
        "ax.legend(fontsize=12);"
      ],
      "metadata": {
        "colab": {
          "base_uri": "https://localhost:8080/",
          "height": 399
        },
        "id": "pnKg-SfY6j9g",
        "outputId": "da5a7699-161b-4cdc-8aa4-f7ffadb6444c"
      },
      "execution_count": 9,
      "outputs": [
        {
          "output_type": "display_data",
          "data": {
            "text/plain": [
              "<Figure size 1800x720 with 0 Axes>"
            ]
          },
          "metadata": {}
        },
        {
          "output_type": "display_data",
          "data": {
            "text/plain": [
              "<Figure size 720x360 with 1 Axes>"
            ],
            "image/png": "[encoded data removed]"
          },
          "metadata": {}
        }
      ]
    },
    {
      "cell_type": "markdown",
      "source": [
        "##**Gated Response Unit Forecasting Technique (GRU)**"
      ],
      "metadata": {
        "id": "dPoGjuS366Cc"
      }
    },
    {
      "cell_type": "markdown",
      "source": [
        "###**Split Data into Train Test Segments**"
      ],
      "metadata": {
        "id": "vFpT6OrD7KRv"
      }
    },
    {
      "cell_type": "code",
      "source": [
        "train_size = int(len(df) * 0.8)\n",
        "test_size = len(df) - train_size\n",
        "train, test = df.iloc[0:train_size], df.iloc[train_size:len(df)]\n",
        "print('Train size:',len(train))\n",
        "print('Test size:', len(test))"
      ],
      "metadata": {
        "colab": {
          "base_uri": "https://localhost:8080/"
        },
        "id": "nYZL-9Sy3xpJ",
        "outputId": "b5a29e53-969c-4300-e8ca-0590a6f58802"
      },
      "execution_count": 10,
      "outputs": [
        {
          "output_type": "stream",
          "name": "stdout",
          "text": [
            "Train size: 99\n",
            "Test size: 25\n"
          ]
        }
      ]
    },
    {
      "cell_type": "code",
      "source": [
        "split_date = '2019-02'\n",
        "df_training = df.loc[df.index <= split_date]\n",
        "df_test = df.loc[df.index > split_date]\n",
        "print(f\"{len(df_training)} days of training data \\n {len(df_test)} days of testing data \")"
      ],
      "metadata": {
        "colab": {
          "base_uri": "https://localhost:8080/"
        },
        "id": "qKDDSdp_JVu6",
        "outputId": "938e40ef-746b-4e61-b4bf-1397f8819027"
      },
      "execution_count": 11,
      "outputs": [
        {
          "output_type": "stream",
          "name": "stdout",
          "text": [
            "99 days of training data \n",
            " 25 days of testing data \n"
          ]
        }
      ]
    },
    {
      "cell_type": "code",
      "source": [
        "train, test = df.iloc[0:train_size], df.iloc[train_size:len(df)]\n",
        "print(len(train), len(test))"
      ],
      "metadata": {
        "colab": {
          "base_uri": "https://localhost:8080/"
        },
        "id": "DGrD2nxFmNSu",
        "outputId": "a3de8e98-e9c3-46a3-9c88-b47a4c66fbba"
      },
      "execution_count": 12,
      "outputs": [
        {
          "output_type": "stream",
          "name": "stdout",
          "text": [
            "99 25\n"
          ]
        }
      ]
    },
    {
      "cell_type": "code",
      "source": [
        "print(train.shape)\n",
        "train.head()"
      ],
      "metadata": {
        "colab": {
          "base_uri": "https://localhost:8080/",
          "height": 278
        },
        "id": "QvbHy-5RmPuI",
        "outputId": "4168a8e7-3102-41ec-bc4b-df5a4e81eb6e"
      },
      "execution_count": 13,
      "outputs": [
        {
          "output_type": "stream",
          "name": "stdout",
          "text": [
            "(99, 7)\n"
          ]
        },
        {
          "output_type": "execute_result",
          "data": {
            "text/plain": [
              "            cpo_pri  cno_pri  oli_pri  rps_pri  pno_pri  sbo_pri  sfo_pri\n",
              "date                                                                     \n",
              "2010-12-01      323      455  3102.61   423.45    844.0    468.0    578.0\n",
              "2011-01-01      345      546  3100.45   415.85    799.0    485.0    557.0\n",
              "2011-02-01      362      595  3199.41   410.77    718.0    466.0    552.0\n",
              "2011-03-01      376      636  3281.67   414.82    614.0    442.0    574.0\n",
              "2011-04-01      383      738  3261.65   451.04    619.0    429.0    595.0"
            ],
            "text/html": [
              "\n",
              "  <div id=\"df-e45df86c-d304-4400-bc4f-61a8664c5c26\">\n",
              "    <div class=\"colab-df-container\">\n",
              "      <div>\n",
              "<style scoped>\n",
              "    .dataframe tbody tr th:only-of-type {\n",
              "        vertical-align: middle;\n",
              "    }\n",
              "\n",
              "    .dataframe tbody tr th {\n",
              "        vertical-align: top;\n",
              "    }\n",
              "\n",
              "    .dataframe thead th {\n",
              "        text-align: right;\n",
              "    }\n",
              "</style>\n",
              "<table border=\"1\" class=\"dataframe\">\n",
              "  <thead>\n",
              "    <tr style=\"text-align: right;\">\n",
              "      <th></th>\n",
              "      <th>cpo_pri</th>\n",
              "      <th>cno_pri</th>\n",
              "      <th>oli_pri</th>\n",
              "      <th>rps_pri</th>\n",
              "      <th>pno_pri</th>\n",
              "      <th>sbo_pri</th>\n",
              "      <th>sfo_pri</th>\n",
              "    </tr>\n",
              "    <tr>\n",
              "      <th>date</th>\n",
              "      <th></th>\n",
              "      <th></th>\n",
              "      <th></th>\n",
              "      <th></th>\n",
              "      <th></th>\n",
              "      <th></th>\n",
              "      <th></th>\n",
              "    </tr>\n",
              "  </thead>\n",
              "  <tbody>\n",
              "    <tr>\n",
              "      <th>2010-12-01</th>\n",
              "      <td>323</td>\n",
              "      <td>455</td>\n",
              "      <td>3102.61</td>\n",
              "      <td>423.45</td>\n",
              "      <td>844.0</td>\n",
              "      <td>468.0</td>\n",
              "      <td>578.0</td>\n",
              "    </tr>\n",
              "    <tr>\n",
              "      <th>2011-01-01</th>\n",
              "      <td>345</td>\n",
              "      <td>546</td>\n",
              "      <td>3100.45</td>\n",
              "      <td>415.85</td>\n",
              "      <td>799.0</td>\n",
              "      <td>485.0</td>\n",
              "      <td>557.0</td>\n",
              "    </tr>\n",
              "    <tr>\n",
              "      <th>2011-02-01</th>\n",
              "      <td>362</td>\n",
              "      <td>595</td>\n",
              "      <td>3199.41</td>\n",
              "      <td>410.77</td>\n",
              "      <td>718.0</td>\n",
              "      <td>466.0</td>\n",
              "      <td>552.0</td>\n",
              "    </tr>\n",
              "    <tr>\n",
              "      <th>2011-03-01</th>\n",
              "      <td>376</td>\n",
              "      <td>636</td>\n",
              "      <td>3281.67</td>\n",
              "      <td>414.82</td>\n",
              "      <td>614.0</td>\n",
              "      <td>442.0</td>\n",
              "      <td>574.0</td>\n",
              "    </tr>\n",
              "    <tr>\n",
              "      <th>2011-04-01</th>\n",
              "      <td>383</td>\n",
              "      <td>738</td>\n",
              "      <td>3261.65</td>\n",
              "      <td>451.04</td>\n",
              "      <td>619.0</td>\n",
              "      <td>429.0</td>\n",
              "      <td>595.0</td>\n",
              "    </tr>\n",
              "  </tbody>\n",
              "</table>\n",
              "</div>\n",
              "      <button class=\"colab-df-convert\" onclick=\"convertToInteractive('df-e45df86c-d304-4400-bc4f-61a8664c5c26')\"\n",
              "              title=\"Convert this dataframe to an interactive table.\"\n",
              "              style=\"display:none;\">\n",
              "        \n",
              "  <svg xmlns=\"http://www.w3.org/2000/svg\" height=\"24px\"viewBox=\"0 0 24 24\"\n",
              "       width=\"24px\">\n",
              "    <path d=\"M0 0h24v24H0V0z\" fill=\"none\"/>\n",
              "    <path d=\"M18.56 5.44l.94 2.06.94-2.06 2.06-.94-2.06-.94-.94-2.06-.94 2.06-2.06.94zm-11 1L8.5 8.5l.94-2.06 2.06-.94-2.06-.94L8.5 2.5l-.94 2.06-2.06.94zm10 10l.94 2.06.94-2.06 2.06-.94-2.06-.94-.94-2.06-.94 2.06-2.06.94z\"/><path d=\"M17.41 7.96l-1.37-1.37c-.4-.4-.92-.59-1.43-.59-.52 0-1.04.2-1.43.59L10.3 9.45l-7.72 7.72c-.78.78-.78 2.05 0 2.83L4 21.41c.39.39.9.59 1.41.59.51 0 1.02-.2 1.41-.59l7.78-7.78 2.81-2.81c.8-.78.8-2.07 0-2.86zM5.41 20L4 18.59l7.72-7.72 1.47 1.35L5.41 20z\"/>\n",
              "  </svg>\n",
              "      </button>\n",
              "      \n",
              "  <style>\n",
              "    .colab-df-container {\n",
              "      display:flex;\n",
              "      flex-wrap:wrap;\n",
              "      gap: 12px;\n",
              "    }\n",
              "\n",
              "    .colab-df-convert {\n",
              "      background-color: #E8F0FE;\n",
              "      border: none;\n",
              "      border-radius: 50%;\n",
              "      cursor: pointer;\n",
              "      display: none;\n",
              "      fill: #1967D2;\n",
              "      height: 32px;\n",
              "      padding: 0 0 0 0;\n",
              "      width: 32px;\n",
              "    }\n",
              "\n",
              "    .colab-df-convert:hover {\n",
              "      background-color: #E2EBFA;\n",
              "      box-shadow: 0px 1px 2px rgba(60, 64, 67, 0.3), 0px 1px 3px 1px rgba(60, 64, 67, 0.15);\n",
              "      fill: #174EA6;\n",
              "    }\n",
              "\n",
              "    [theme=dark] .colab-df-convert {\n",
              "      background-color: #3B4455;\n",
              "      fill: #D2E3FC;\n",
              "    }\n",
              "\n",
              "    [theme=dark] .colab-df-convert:hover {\n",
              "      background-color: #434B5C;\n",
              "      box-shadow: 0px 1px 3px 1px rgba(0, 0, 0, 0.15);\n",
              "      filter: drop-shadow(0px 1px 2px rgba(0, 0, 0, 0.3));\n",
              "      fill: #FFFFFF;\n",
              "    }\n",
              "  </style>\n",
              "\n",
              "      <script>\n",
              "        const buttonEl =\n",
              "          document.querySelector('#df-e45df86c-d304-4400-bc4f-61a8664c5c26 button.colab-df-convert');\n",
              "        buttonEl.style.display =\n",
              "          google.colab.kernel.accessAllowed ? 'block' : 'none';\n",
              "\n",
              "        async function convertToInteractive(key) {\n",
              "          const element = document.querySelector('#df-e45df86c-d304-4400-bc4f-61a8664c5c26');\n",
              "          const dataTable =\n",
              "            await google.colab.kernel.invokeFunction('convertToInteractive',\n",
              "                                                     [key], {});\n",
              "          if (!dataTable) return;\n",
              "\n",
              "          const docLinkHtml = 'Like what you see? Visit the ' +\n",
              "            '<a target=\"_blank\" href=https://colab.research.google.com/notebooks/data_table.ipynb>data table notebook</a>'\n",
              "            + ' to learn more about interactive tables.';\n",
              "          element.innerHTML = '';\n",
              "          dataTable['output_type'] = 'display_data';\n",
              "          await google.colab.output.renderOutput(dataTable, element);\n",
              "          const docLink = document.createElement('div');\n",
              "          docLink.innerHTML = docLinkHtml;\n",
              "          element.appendChild(docLink);\n",
              "        }\n",
              "      </script>\n",
              "    </div>\n",
              "  </div>\n",
              "  "
            ]
          },
          "metadata": {},
          "execution_count": 13
        }
      ]
    },
    {
      "cell_type": "markdown",
      "source": [
        "###Rescaling Training Data"
      ],
      "metadata": {
        "id": "Z5F4OyT2mwRs"
      }
    },
    {
      "cell_type": "code",
      "source": [
        "f_transformer = MinMaxScaler()\n",
        "feature_columns = ['cno_pri', 'oli_pri', 'rps_pri', 'pno_pri', 'sbo_pri', 'sfo_pri']\n",
        "f_transformer = f_transformer.fit(train[feature_columns].to_numpy())\n",
        "train.loc[:, feature_columns] = f_transformer.transform(train[feature_columns].to_numpy())\n",
        "train.head()"
      ],
      "metadata": {
        "colab": {
          "base_uri": "https://localhost:8080/",
          "height": 260
        },
        "id": "Lg-AQuNBmvZK",
        "outputId": "e550a9bc-f89e-4cc5-d3e4-4bb2ac31fd49"
      },
      "execution_count": 14,
      "outputs": [
        {
          "output_type": "execute_result",
          "data": {
            "text/plain": [
              "            cpo_pri   cno_pri   oli_pri   rps_pri   pno_pri   sbo_pri  \\\n",
              "date                                                                    \n",
              "2010-12-01      323  0.112288  0.140918  0.010736  0.528090  0.253193   \n",
              "2011-01-01      345  0.305085  0.140327  0.004301  0.443820  0.306536   \n",
              "2011-02-01      362  0.408898  0.167408  0.000000  0.292135  0.246917   \n",
              "2011-03-01      376  0.495763  0.189919  0.003429  0.097378  0.171609   \n",
              "2011-04-01      383  0.711864  0.184440  0.034095  0.106742  0.130817   \n",
              "\n",
              "             sfo_pri  \n",
              "date                  \n",
              "2010-12-01  0.023302  \n",
              "2011-01-01  0.009321  \n",
              "2011-02-01  0.005992  \n",
              "2011-03-01  0.020639  \n",
              "2011-04-01  0.034621  "
            ],
            "text/html": [
              "\n",
              "  <div id=\"df-c6d29b8c-e549-44ff-a610-9e4e96319147\">\n",
              "    <div class=\"colab-df-container\">\n",
              "      <div>\n",
              "<style scoped>\n",
              "    .dataframe tbody tr th:only-of-type {\n",
              "        vertical-align: middle;\n",
              "    }\n",
              "\n",
              "    .dataframe tbody tr th {\n",
              "        vertical-align: top;\n",
              "    }\n",
              "\n",
              "    .dataframe thead th {\n",
              "        text-align: right;\n",
              "    }\n",
              "</style>\n",
              "<table border=\"1\" class=\"dataframe\">\n",
              "  <thead>\n",
              "    <tr style=\"text-align: right;\">\n",
              "      <th></th>\n",
              "      <th>cpo_pri</th>\n",
              "      <th>cno_pri</th>\n",
              "      <th>oli_pri</th>\n",
              "      <th>rps_pri</th>\n",
              "      <th>pno_pri</th>\n",
              "      <th>sbo_pri</th>\n",
              "      <th>sfo_pri</th>\n",
              "    </tr>\n",
              "    <tr>\n",
              "      <th>date</th>\n",
              "      <th></th>\n",
              "      <th></th>\n",
              "      <th></th>\n",
              "      <th></th>\n",
              "      <th></th>\n",
              "      <th></th>\n",
              "      <th></th>\n",
              "    </tr>\n",
              "  </thead>\n",
              "  <tbody>\n",
              "    <tr>\n",
              "      <th>2010-12-01</th>\n",
              "      <td>323</td>\n",
              "      <td>0.112288</td>\n",
              "      <td>0.140918</td>\n",
              "      <td>0.010736</td>\n",
              "      <td>0.528090</td>\n",
              "      <td>0.253193</td>\n",
              "      <td>0.023302</td>\n",
              "    </tr>\n",
              "    <tr>\n",
              "      <th>2011-01-01</th>\n",
              "      <td>345</td>\n",
              "      <td>0.305085</td>\n",
              "      <td>0.140327</td>\n",
              "      <td>0.004301</td>\n",
              "      <td>0.443820</td>\n",
              "      <td>0.306536</td>\n",
              "      <td>0.009321</td>\n",
              "    </tr>\n",
              "    <tr>\n",
              "      <th>2011-02-01</th>\n",
              "      <td>362</td>\n",
              "      <td>0.408898</td>\n",
              "      <td>0.167408</td>\n",
              "      <td>0.000000</td>\n",
              "      <td>0.292135</td>\n",
              "      <td>0.246917</td>\n",
              "      <td>0.005992</td>\n",
              "    </tr>\n",
              "    <tr>\n",
              "      <th>2011-03-01</th>\n",
              "      <td>376</td>\n",
              "      <td>0.495763</td>\n",
              "      <td>0.189919</td>\n",
              "      <td>0.003429</td>\n",
              "      <td>0.097378</td>\n",
              "      <td>0.171609</td>\n",
              "      <td>0.020639</td>\n",
              "    </tr>\n",
              "    <tr>\n",
              "      <th>2011-04-01</th>\n",
              "      <td>383</td>\n",
              "      <td>0.711864</td>\n",
              "      <td>0.184440</td>\n",
              "      <td>0.034095</td>\n",
              "      <td>0.106742</td>\n",
              "      <td>0.130817</td>\n",
              "      <td>0.034621</td>\n",
              "    </tr>\n",
              "  </tbody>\n",
              "</table>\n",
              "</div>\n",
              "      <button class=\"colab-df-convert\" onclick=\"convertToInteractive('df-c6d29b8c-e549-44ff-a610-9e4e96319147')\"\n",
              "              title=\"Convert this dataframe to an interactive table.\"\n",
              "              style=\"display:none;\">\n",
              "        \n",
              "  <svg xmlns=\"http://www.w3.org/2000/svg\" height=\"24px\"viewBox=\"0 0 24 24\"\n",
              "       width=\"24px\">\n",
              "    <path d=\"M0 0h24v24H0V0z\" fill=\"none\"/>\n",
              "    <path d=\"M18.56 5.44l.94 2.06.94-2.06 2.06-.94-2.06-.94-.94-2.06-.94 2.06-2.06.94zm-11 1L8.5 8.5l.94-2.06 2.06-.94-2.06-.94L8.5 2.5l-.94 2.06-2.06.94zm10 10l.94 2.06.94-2.06 2.06-.94-2.06-.94-.94-2.06-.94 2.06-2.06.94z\"/><path d=\"M17.41 7.96l-1.37-1.37c-.4-.4-.92-.59-1.43-.59-.52 0-1.04.2-1.43.59L10.3 9.45l-7.72 7.72c-.78.78-.78 2.05 0 2.83L4 21.41c.39.39.9.59 1.41.59.51 0 1.02-.2 1.41-.59l7.78-7.78 2.81-2.81c.8-.78.8-2.07 0-2.86zM5.41 20L4 18.59l7.72-7.72 1.47 1.35L5.41 20z\"/>\n",
              "  </svg>\n",
              "      </button>\n",
              "      \n",
              "  <style>\n",
              "    .colab-df-container {\n",
              "      display:flex;\n",
              "      flex-wrap:wrap;\n",
              "      gap: 12px;\n",
              "    }\n",
              "\n",
              "    .colab-df-convert {\n",
              "      background-color: #E8F0FE;\n",
              "      border: none;\n",
              "      border-radius: 50%;\n",
              "      cursor: pointer;\n",
              "      display: none;\n",
              "      fill: #1967D2;\n",
              "      height: 32px;\n",
              "      padding: 0 0 0 0;\n",
              "      width: 32px;\n",
              "    }\n",
              "\n",
              "    .colab-df-convert:hover {\n",
              "      background-color: #E2EBFA;\n",
              "      box-shadow: 0px 1px 2px rgba(60, 64, 67, 0.3), 0px 1px 3px 1px rgba(60, 64, 67, 0.15);\n",
              "      fill: #174EA6;\n",
              "    }\n",
              "\n",
              "    [theme=dark] .colab-df-convert {\n",
              "      background-color: #3B4455;\n",
              "      fill: #D2E3FC;\n",
              "    }\n",
              "\n",
              "    [theme=dark] .colab-df-convert:hover {\n",
              "      background-color: #434B5C;\n",
              "      box-shadow: 0px 1px 3px 1px rgba(0, 0, 0, 0.15);\n",
              "      filter: drop-shadow(0px 1px 2px rgba(0, 0, 0, 0.3));\n",
              "      fill: #FFFFFF;\n",
              "    }\n",
              "  </style>\n",
              "\n",
              "      <script>\n",
              "        const buttonEl =\n",
              "          document.querySelector('#df-c6d29b8c-e549-44ff-a610-9e4e96319147 button.colab-df-convert');\n",
              "        buttonEl.style.display =\n",
              "          google.colab.kernel.accessAllowed ? 'block' : 'none';\n",
              "\n",
              "        async function convertToInteractive(key) {\n",
              "          const element = document.querySelector('#df-c6d29b8c-e549-44ff-a610-9e4e96319147');\n",
              "          const dataTable =\n",
              "            await google.colab.kernel.invokeFunction('convertToInteractive',\n",
              "                                                     [key], {});\n",
              "          if (!dataTable) return;\n",
              "\n",
              "          const docLinkHtml = 'Like what you see? Visit the ' +\n",
              "            '<a target=\"_blank\" href=https://colab.research.google.com/notebooks/data_table.ipynb>data table notebook</a>'\n",
              "            + ' to learn more about interactive tables.';\n",
              "          element.innerHTML = '';\n",
              "          dataTable['output_type'] = 'display_data';\n",
              "          await google.colab.output.renderOutput(dataTable, element);\n",
              "          const docLink = document.createElement('div');\n",
              "          docLink.innerHTML = docLinkHtml;\n",
              "          element.appendChild(docLink);\n",
              "        }\n",
              "      </script>\n",
              "    </div>\n",
              "  </div>\n",
              "  "
            ]
          },
          "metadata": {},
          "execution_count": 14
        }
      ]
    },
    {
      "cell_type": "code",
      "source": [
        "cpo_pri_transformer = MinMaxScaler()\n",
        "cpo_pri_transformer = cpo_pri_transformer.fit(train[['cpo_pri']])\n",
        "train['cpo_pri'] = cpo_pri_transformer.transform(train[['cpo_pri']])\n",
        "train['cpo_pri'].head()"
      ],
      "metadata": {
        "colab": {
          "base_uri": "https://localhost:8080/"
        },
        "id": "XNkE4gN9nJLt",
        "outputId": "8e65fcd2-5d09-4068-a0f9-af7ec44fdd01"
      },
      "execution_count": 15,
      "outputs": [
        {
          "output_type": "execute_result",
          "data": {
            "text/plain": [
              "date\n",
              "2010-12-01    0.0100\n",
              "2011-01-01    0.0650\n",
              "2011-02-01    0.1075\n",
              "2011-03-01    0.1425\n",
              "2011-04-01    0.1600\n",
              "Name: cpo_pri, dtype: float64"
            ]
          },
          "metadata": {},
          "execution_count": 15
        }
      ]
    },
    {
      "cell_type": "code",
      "source": [
        "test.loc[:, feature_columns] = f_transformer.transform(test[feature_columns].to_numpy())\n",
        "test.head()"
      ],
      "metadata": {
        "colab": {
          "base_uri": "https://localhost:8080/",
          "height": 260
        },
        "id": "aouQuJG5n6k8",
        "outputId": "5a7dc917-7146-4417-c608-2f5f0be2accc"
      },
      "execution_count": 16,
      "outputs": [
        {
          "output_type": "execute_result",
          "data": {
            "text/plain": [
              "            cpo_pri   cno_pri   oli_pri   rps_pri   pno_pri   sbo_pri  \\\n",
              "date                                                                    \n",
              "2019-03-01      354  0.637712  0.194855  0.382454  0.381292 -0.039662   \n",
              "2019-04-01      348  0.533898  0.264388  0.393951  0.213633 -0.054975   \n",
              "2019-05-01      332  0.400424  0.246417  0.453802  0.235262 -0.092159   \n",
              "2019-06-01      349  0.317797  0.234308  0.509834  0.320749 -0.074743   \n",
              "2019-07-01      372  0.313559  0.223422  0.526454  0.426610 -0.066114   \n",
              "\n",
              "             sfo_pri  \n",
              "date                  \n",
              "2019-03-01  0.493342  \n",
              "2019-04-01  0.597870  \n",
              "2019-05-01  0.606525  \n",
              "2019-06-01  0.631824  \n",
              "2019-07-01  0.773462  "
            ],
            "text/html": [
              "\n",
              "  <div id=\"df-ae4ef1e4-73b6-4a31-ad86-3c2e41ade1e6\">\n",
              "    <div class=\"colab-df-container\">\n",
              "      <div>\n",
              "<style scoped>\n",
              "    .dataframe tbody tr th:only-of-type {\n",
              "        vertical-align: middle;\n",
              "    }\n",
              "\n",
              "    .dataframe tbody tr th {\n",
              "        vertical-align: top;\n",
              "    }\n",
              "\n",
              "    .dataframe thead th {\n",
              "        text-align: right;\n",
              "    }\n",
              "</style>\n",
              "<table border=\"1\" class=\"dataframe\">\n",
              "  <thead>\n",
              "    <tr style=\"text-align: right;\">\n",
              "      <th></th>\n",
              "      <th>cpo_pri</th>\n",
              "      <th>cno_pri</th>\n",
              "      <th>oli_pri</th>\n",
              "      <th>rps_pri</th>\n",
              "      <th>pno_pri</th>\n",
              "      <th>sbo_pri</th>\n",
              "      <th>sfo_pri</th>\n",
              "    </tr>\n",
              "    <tr>\n",
              "      <th>date</th>\n",
              "      <th></th>\n",
              "      <th></th>\n",
              "      <th></th>\n",
              "      <th></th>\n",
              "      <th></th>\n",
              "      <th></th>\n",
              "      <th></th>\n",
              "    </tr>\n",
              "  </thead>\n",
              "  <tbody>\n",
              "    <tr>\n",
              "      <th>2019-03-01</th>\n",
              "      <td>354</td>\n",
              "      <td>0.637712</td>\n",
              "      <td>0.194855</td>\n",
              "      <td>0.382454</td>\n",
              "      <td>0.381292</td>\n",
              "      <td>-0.039662</td>\n",
              "      <td>0.493342</td>\n",
              "    </tr>\n",
              "    <tr>\n",
              "      <th>2019-04-01</th>\n",
              "      <td>348</td>\n",
              "      <td>0.533898</td>\n",
              "      <td>0.264388</td>\n",
              "      <td>0.393951</td>\n",
              "      <td>0.213633</td>\n",
              "      <td>-0.054975</td>\n",
              "      <td>0.597870</td>\n",
              "    </tr>\n",
              "    <tr>\n",
              "      <th>2019-05-01</th>\n",
              "      <td>332</td>\n",
              "      <td>0.400424</td>\n",
              "      <td>0.246417</td>\n",
              "      <td>0.453802</td>\n",
              "      <td>0.235262</td>\n",
              "      <td>-0.092159</td>\n",
              "      <td>0.606525</td>\n",
              "    </tr>\n",
              "    <tr>\n",
              "      <th>2019-06-01</th>\n",
              "      <td>349</td>\n",
              "      <td>0.317797</td>\n",
              "      <td>0.234308</td>\n",
              "      <td>0.509834</td>\n",
              "      <td>0.320749</td>\n",
              "      <td>-0.074743</td>\n",
              "      <td>0.631824</td>\n",
              "    </tr>\n",
              "    <tr>\n",
              "      <th>2019-07-01</th>\n",
              "      <td>372</td>\n",
              "      <td>0.313559</td>\n",
              "      <td>0.223422</td>\n",
              "      <td>0.526454</td>\n",
              "      <td>0.426610</td>\n",
              "      <td>-0.066114</td>\n",
              "      <td>0.773462</td>\n",
              "    </tr>\n",
              "  </tbody>\n",
              "</table>\n",
              "</div>\n",
              "      <button class=\"colab-df-convert\" onclick=\"convertToInteractive('df-ae4ef1e4-73b6-4a31-ad86-3c2e41ade1e6')\"\n",
              "              title=\"Convert this dataframe to an interactive table.\"\n",
              "              style=\"display:none;\">\n",
              "        \n",
              "  <svg xmlns=\"http://www.w3.org/2000/svg\" height=\"24px\"viewBox=\"0 0 24 24\"\n",
              "       width=\"24px\">\n",
              "    <path d=\"M0 0h24v24H0V0z\" fill=\"none\"/>\n",
              "    <path d=\"M18.56 5.44l.94 2.06.94-2.06 2.06-.94-2.06-.94-.94-2.06-.94 2.06-2.06.94zm-11 1L8.5 8.5l.94-2.06 2.06-.94-2.06-.94L8.5 2.5l-.94 2.06-2.06.94zm10 10l.94 2.06.94-2.06 2.06-.94-2.06-.94-.94-2.06-.94 2.06-2.06.94z\"/><path d=\"M17.41 7.96l-1.37-1.37c-.4-.4-.92-.59-1.43-.59-.52 0-1.04.2-1.43.59L10.3 9.45l-7.72 7.72c-.78.78-.78 2.05 0 2.83L4 21.41c.39.39.9.59 1.41.59.51 0 1.02-.2 1.41-.59l7.78-7.78 2.81-2.81c.8-.78.8-2.07 0-2.86zM5.41 20L4 18.59l7.72-7.72 1.47 1.35L5.41 20z\"/>\n",
              "  </svg>\n",
              "      </button>\n",
              "      \n",
              "  <style>\n",
              "    .colab-df-container {\n",
              "      display:flex;\n",
              "      flex-wrap:wrap;\n",
              "      gap: 12px;\n",
              "    }\n",
              "\n",
              "    .colab-df-convert {\n",
              "      background-color: #E8F0FE;\n",
              "      border: none;\n",
              "      border-radius: 50%;\n",
              "      cursor: pointer;\n",
              "      display: none;\n",
              "      fill: #1967D2;\n",
              "      height: 32px;\n",
              "      padding: 0 0 0 0;\n",
              "      width: 32px;\n",
              "    }\n",
              "\n",
              "    .colab-df-convert:hover {\n",
              "      background-color: #E2EBFA;\n",
              "      box-shadow: 0px 1px 2px rgba(60, 64, 67, 0.3), 0px 1px 3px 1px rgba(60, 64, 67, 0.15);\n",
              "      fill: #174EA6;\n",
              "    }\n",
              "\n",
              "    [theme=dark] .colab-df-convert {\n",
              "      background-color: #3B4455;\n",
              "      fill: #D2E3FC;\n",
              "    }\n",
              "\n",
              "    [theme=dark] .colab-df-convert:hover {\n",
              "      background-color: #434B5C;\n",
              "      box-shadow: 0px 1px 3px 1px rgba(0, 0, 0, 0.15);\n",
              "      filter: drop-shadow(0px 1px 2px rgba(0, 0, 0, 0.3));\n",
              "      fill: #FFFFFF;\n",
              "    }\n",
              "  </style>\n",
              "\n",
              "      <script>\n",
              "        const buttonEl =\n",
              "          document.querySelector('#df-ae4ef1e4-73b6-4a31-ad86-3c2e41ade1e6 button.colab-df-convert');\n",
              "        buttonEl.style.display =\n",
              "          google.colab.kernel.accessAllowed ? 'block' : 'none';\n",
              "\n",
              "        async function convertToInteractive(key) {\n",
              "          const element = document.querySelector('#df-ae4ef1e4-73b6-4a31-ad86-3c2e41ade1e6');\n",
              "          const dataTable =\n",
              "            await google.colab.kernel.invokeFunction('convertToInteractive',\n",
              "                                                     [key], {});\n",
              "          if (!dataTable) return;\n",
              "\n",
              "          const docLinkHtml = 'Like what you see? Visit the ' +\n",
              "            '<a target=\"_blank\" href=https://colab.research.google.com/notebooks/data_table.ipynb>data table notebook</a>'\n",
              "            + ' to learn more about interactive tables.';\n",
              "          element.innerHTML = '';\n",
              "          dataTable['output_type'] = 'display_data';\n",
              "          await google.colab.output.renderOutput(dataTable, element);\n",
              "          const docLink = document.createElement('div');\n",
              "          docLink.innerHTML = docLinkHtml;\n",
              "          element.appendChild(docLink);\n",
              "        }\n",
              "      </script>\n",
              "    </div>\n",
              "  </div>\n",
              "  "
            ]
          },
          "metadata": {},
          "execution_count": 16
        }
      ]
    },
    {
      "cell_type": "code",
      "source": [
        "test['cpo_pri'] = cpo_pri_transformer.transform(test[['cpo_pri']])\n",
        "test['cpo_pri'].head()"
      ],
      "metadata": {
        "colab": {
          "base_uri": "https://localhost:8080/"
        },
        "id": "GXgFSrz3n6o5",
        "outputId": "f0858153-808b-4a24-daf7-3b1df5368e58"
      },
      "execution_count": 17,
      "outputs": [
        {
          "output_type": "execute_result",
          "data": {
            "text/plain": [
              "date\n",
              "2019-03-01    0.0875\n",
              "2019-04-01    0.0725\n",
              "2019-05-01    0.0325\n",
              "2019-06-01    0.0750\n",
              "2019-07-01    0.1325\n",
              "Name: cpo_pri, dtype: float64"
            ]
          },
          "metadata": {},
          "execution_count": 17
        }
      ]
    },
    {
      "cell_type": "markdown",
      "source": [
        "###Create X_train, y_train, X_test and y_test"
      ],
      "metadata": {
        "id": "p_2s3AO-ohCD"
      }
    },
    {
      "cell_type": "code",
      "source": [
        "def createDataset(X, y, time_steps):\n",
        "    Xs, ys = [], []\n",
        "    for i in range(len(X) - time_steps):\n",
        "        data = X.iloc[i:(i + time_steps)].values\n",
        "        Xs.append(data)        \n",
        "        ys.append(y.iloc[i + time_steps])\n",
        "        \n",
        "    return np.array(Xs), np.array(ys)\n",
        "\n",
        "time_steps = 3\n",
        "X_train, y_train = createDataset(train, train.cpo_pri, time_steps)\n",
        "X_test, y_test = createDataset(test, test.cpo_pri, time_steps)\n",
        "print(X_train.shape, y_train.shape)"
      ],
      "metadata": {
        "colab": {
          "base_uri": "https://localhost:8080/"
        },
        "id": "fGTyTKiYoJIb",
        "outputId": "0b89b841-4fd0-4e7a-cf3f-f28004868e3a"
      },
      "execution_count": 18,
      "outputs": [
        {
          "output_type": "stream",
          "name": "stdout",
          "text": [
            "(96, 3, 7) (96,)\n"
          ]
        }
      ]
    },
    {
      "cell_type": "markdown",
      "source": [
        "###GRU Baseline Model Architecture"
      ],
      "metadata": {
        "id": "EXf43BL3yN41"
      }
    },
    {
      "cell_type": "markdown",
      "source": [
        "* GRU with 85 neurons in the first visible layer.\n",
        "* GRU with 64 neurons in the second visible layer.\n",
        "* 1 neuron in the output layer for predicting crude palm oil price.\n",
        "* The input shape will be 3 time step with 7 features.\n",
        "* I apply the Mean Squared Error (MSE) loss function and the efficient Adam version of stochastic gradient descent.\n",
        "* Fit the model for 100 training epochs with a batch size of 64."
      ],
      "metadata": {
        "id": "LRVibhvwyXMl"
      }
    },
    {
      "cell_type": "code",
      "source": [
        "GRU_model = tf.keras.Sequential()\n",
        "GRU_model.add(tf.keras.layers.GRU(85, activation='tanh', input_shape=(X_test.shape[1], X_test.shape[2])))\n",
        "GRU_model.add(tf.keras.layers.Dense(64, activation='tanh'))\n",
        "GRU_model.add(tf.keras.layers.Dense(1))\n",
        "\n",
        "# compile model using adam\n",
        "GRU_model.compile(optimizer='adam',loss='mse',metrics=['mse'])\n",
        "# model training\n",
        "history = GRU_model.fit(X_train, y_train, epochs=100, batch_size = 64, validation_split=0.2) #epochs = 30, batch_size = 60\n",
        "\n",
        "# model evaluation\n",
        "GRU_model.evaluate(X_test, y_test)"
      ],
      "metadata": {
        "id": "EkQPUIAQOvX9",
        "outputId": "2876c535-9b8f-4869-f511-86c7ff2aaebb",
        "colab": {
          "base_uri": "https://localhost:8080/"
        }
      },
      "execution_count": 19,
      "outputs": [
        {
          "output_type": "stream",
          "name": "stdout",
          "text": [
            "Epoch 1/100\n",
            "2/2 [==============================] - 11s 2s/step - loss: 0.2392 - mse: 0.2392 - val_loss: 0.2331 - val_mse: 0.2331\n",
            "Epoch 2/100\n",
            "2/2 [==============================] - 0s 141ms/step - loss: 0.0814 - mse: 0.0814 - val_loss: 0.1339 - val_mse: 0.1339\n",
            "Epoch 3/100\n",
            "2/2 [==============================] - 0s 80ms/step - loss: 0.0426 - mse: 0.0426 - val_loss: 0.1211 - val_mse: 0.1211\n",
            "Epoch 4/100\n",
            "2/2 [==============================] - 0s 85ms/step - loss: 0.0612 - mse: 0.0612 - val_loss: 0.1157 - val_mse: 0.1157\n",
            "Epoch 5/100\n",
            "2/2 [==============================] - 0s 79ms/step - loss: 0.0650 - mse: 0.0650 - val_loss: 0.1010 - val_mse: 0.1010\n",
            "Epoch 6/100\n",
            "2/2 [==============================] - 0s 77ms/step - loss: 0.0473 - mse: 0.0473 - val_loss: 0.0926 - val_mse: 0.0926\n",
            "Epoch 7/100\n",
            "2/2 [==============================] - 0s 61ms/step - loss: 0.0287 - mse: 0.0287 - val_loss: 0.0965 - val_mse: 0.0965\n",
            "Epoch 8/100\n",
            "2/2 [==============================] - 0s 76ms/step - loss: 0.0243 - mse: 0.0243 - val_loss: 0.1057 - val_mse: 0.1057\n",
            "Epoch 9/100\n",
            "2/2 [==============================] - 0s 90ms/step - loss: 0.0277 - mse: 0.0277 - val_loss: 0.1074 - val_mse: 0.1074\n",
            "Epoch 10/100\n",
            "2/2 [==============================] - 0s 110ms/step - loss: 0.0295 - mse: 0.0295 - val_loss: 0.0958 - val_mse: 0.0958\n",
            "Epoch 11/100\n",
            "2/2 [==============================] - 0s 64ms/step - loss: 0.0254 - mse: 0.0254 - val_loss: 0.0768 - val_mse: 0.0768\n",
            "Epoch 12/100\n",
            "2/2 [==============================] - 0s 64ms/step - loss: 0.0187 - mse: 0.0187 - val_loss: 0.0587 - val_mse: 0.0587\n",
            "Epoch 13/100\n",
            "2/2 [==============================] - 0s 61ms/step - loss: 0.0152 - mse: 0.0152 - val_loss: 0.0467 - val_mse: 0.0467\n",
            "Epoch 14/100\n",
            "2/2 [==============================] - 0s 97ms/step - loss: 0.0154 - mse: 0.0154 - val_loss: 0.0401 - val_mse: 0.0401\n",
            "Epoch 15/100\n",
            "2/2 [==============================] - 0s 70ms/step - loss: 0.0184 - mse: 0.0184 - val_loss: 0.0358 - val_mse: 0.0358\n",
            "Epoch 16/100\n",
            "2/2 [==============================] - 0s 55ms/step - loss: 0.0192 - mse: 0.0192 - val_loss: 0.0323 - val_mse: 0.0323\n",
            "Epoch 17/100\n",
            "2/2 [==============================] - 0s 65ms/step - loss: 0.0163 - mse: 0.0163 - val_loss: 0.0308 - val_mse: 0.0308\n",
            "Epoch 18/100\n",
            "2/2 [==============================] - 0s 62ms/step - loss: 0.0128 - mse: 0.0128 - val_loss: 0.0325 - val_mse: 0.0325\n",
            "Epoch 19/100\n",
            "2/2 [==============================] - 0s 144ms/step - loss: 0.0115 - mse: 0.0115 - val_loss: 0.0350 - val_mse: 0.0350\n",
            "Epoch 20/100\n",
            "2/2 [==============================] - 0s 95ms/step - loss: 0.0125 - mse: 0.0125 - val_loss: 0.0346 - val_mse: 0.0346\n",
            "Epoch 21/100\n",
            "2/2 [==============================] - 0s 33ms/step - loss: 0.0128 - mse: 0.0128 - val_loss: 0.0292 - val_mse: 0.0292\n",
            "Epoch 22/100\n",
            "2/2 [==============================] - 0s 31ms/step - loss: 0.0114 - mse: 0.0114 - val_loss: 0.0229 - val_mse: 0.0229\n",
            "Epoch 23/100\n",
            "2/2 [==============================] - 0s 32ms/step - loss: 0.0099 - mse: 0.0099 - val_loss: 0.0190 - val_mse: 0.0190\n",
            "Epoch 24/100\n",
            "2/2 [==============================] - 0s 32ms/step - loss: 0.0098 - mse: 0.0098 - val_loss: 0.0170 - val_mse: 0.0170\n",
            "Epoch 25/100\n",
            "2/2 [==============================] - 0s 31ms/step - loss: 0.0103 - mse: 0.0103 - val_loss: 0.0162 - val_mse: 0.0162\n",
            "Epoch 26/100\n",
            "2/2 [==============================] - 0s 34ms/step - loss: 0.0097 - mse: 0.0097 - val_loss: 0.0162 - val_mse: 0.0162\n",
            "Epoch 27/100\n",
            "2/2 [==============================] - 0s 31ms/step - loss: 0.0087 - mse: 0.0087 - val_loss: 0.0169 - val_mse: 0.0169\n",
            "Epoch 28/100\n",
            "2/2 [==============================] - 0s 31ms/step - loss: 0.0082 - mse: 0.0082 - val_loss: 0.0173 - val_mse: 0.0173\n",
            "Epoch 29/100\n",
            "2/2 [==============================] - 0s 31ms/step - loss: 0.0081 - mse: 0.0081 - val_loss: 0.0168 - val_mse: 0.0168\n",
            "Epoch 30/100\n",
            "2/2 [==============================] - 0s 51ms/step - loss: 0.0079 - mse: 0.0079 - val_loss: 0.0157 - val_mse: 0.0157\n",
            "Epoch 31/100\n",
            "2/2 [==============================] - 0s 34ms/step - loss: 0.0076 - mse: 0.0076 - val_loss: 0.0147 - val_mse: 0.0147\n",
            "Epoch 32/100\n",
            "2/2 [==============================] - 0s 33ms/step - loss: 0.0073 - mse: 0.0073 - val_loss: 0.0144 - val_mse: 0.0144\n",
            "Epoch 33/100\n",
            "2/2 [==============================] - 0s 32ms/step - loss: 0.0072 - mse: 0.0072 - val_loss: 0.0144 - val_mse: 0.0144\n",
            "Epoch 34/100\n",
            "2/2 [==============================] - 0s 30ms/step - loss: 0.0071 - mse: 0.0071 - val_loss: 0.0144 - val_mse: 0.0144\n",
            "Epoch 35/100\n",
            "2/2 [==============================] - 0s 30ms/step - loss: 0.0071 - mse: 0.0071 - val_loss: 0.0140 - val_mse: 0.0140\n",
            "Epoch 36/100\n",
            "2/2 [==============================] - 0s 34ms/step - loss: 0.0069 - mse: 0.0069 - val_loss: 0.0135 - val_mse: 0.0135\n",
            "Epoch 37/100\n",
            "2/2 [==============================] - 0s 32ms/step - loss: 0.0068 - mse: 0.0068 - val_loss: 0.0134 - val_mse: 0.0134\n",
            "Epoch 38/100\n",
            "2/2 [==============================] - 0s 32ms/step - loss: 0.0068 - mse: 0.0068 - val_loss: 0.0135 - val_mse: 0.0135\n",
            "Epoch 39/100\n",
            "2/2 [==============================] - 0s 31ms/step - loss: 0.0069 - mse: 0.0069 - val_loss: 0.0139 - val_mse: 0.0139\n",
            "Epoch 40/100\n",
            "2/2 [==============================] - 0s 31ms/step - loss: 0.0071 - mse: 0.0071 - val_loss: 0.0133 - val_mse: 0.0133\n",
            "Epoch 41/100\n",
            "2/2 [==============================] - 0s 48ms/step - loss: 0.0067 - mse: 0.0067 - val_loss: 0.0123 - val_mse: 0.0123\n",
            "Epoch 42/100\n",
            "2/2 [==============================] - 0s 31ms/step - loss: 0.0066 - mse: 0.0066 - val_loss: 0.0119 - val_mse: 0.0119\n",
            "Epoch 43/100\n",
            "2/2 [==============================] - 0s 31ms/step - loss: 0.0064 - mse: 0.0064 - val_loss: 0.0123 - val_mse: 0.0123\n",
            "Epoch 44/100\n",
            "2/2 [==============================] - 0s 30ms/step - loss: 0.0064 - mse: 0.0064 - val_loss: 0.0126 - val_mse: 0.0126\n",
            "Epoch 45/100\n",
            "2/2 [==============================] - 0s 32ms/step - loss: 0.0063 - mse: 0.0063 - val_loss: 0.0122 - val_mse: 0.0122\n",
            "Epoch 46/100\n",
            "2/2 [==============================] - 0s 31ms/step - loss: 0.0063 - mse: 0.0063 - val_loss: 0.0121 - val_mse: 0.0121\n",
            "Epoch 47/100\n",
            "2/2 [==============================] - 0s 31ms/step - loss: 0.0062 - mse: 0.0062 - val_loss: 0.0127 - val_mse: 0.0127\n",
            "Epoch 48/100\n",
            "2/2 [==============================] - 0s 31ms/step - loss: 0.0063 - mse: 0.0063 - val_loss: 0.0133 - val_mse: 0.0133\n",
            "Epoch 49/100\n",
            "2/2 [==============================] - 0s 33ms/step - loss: 0.0063 - mse: 0.0063 - val_loss: 0.0130 - val_mse: 0.0130\n",
            "Epoch 50/100\n",
            "2/2 [==============================] - 0s 33ms/step - loss: 0.0062 - mse: 0.0062 - val_loss: 0.0131 - val_mse: 0.0131\n",
            "Epoch 51/100\n",
            "2/2 [==============================] - 0s 33ms/step - loss: 0.0061 - mse: 0.0061 - val_loss: 0.0142 - val_mse: 0.0142\n",
            "Epoch 52/100\n",
            "2/2 [==============================] - 0s 32ms/step - loss: 0.0063 - mse: 0.0063 - val_loss: 0.0149 - val_mse: 0.0149\n",
            "Epoch 53/100\n",
            "2/2 [==============================] - 0s 34ms/step - loss: 0.0064 - mse: 0.0064 - val_loss: 0.0144 - val_mse: 0.0144\n",
            "Epoch 54/100\n",
            "2/2 [==============================] - 0s 30ms/step - loss: 0.0063 - mse: 0.0063 - val_loss: 0.0137 - val_mse: 0.0137\n",
            "Epoch 55/100\n",
            "2/2 [==============================] - 0s 32ms/step - loss: 0.0061 - mse: 0.0061 - val_loss: 0.0134 - val_mse: 0.0134\n",
            "Epoch 56/100\n",
            "2/2 [==============================] - 0s 31ms/step - loss: 0.0060 - mse: 0.0060 - val_loss: 0.0130 - val_mse: 0.0130\n",
            "Epoch 57/100\n",
            "2/2 [==============================] - 0s 30ms/step - loss: 0.0060 - mse: 0.0060 - val_loss: 0.0124 - val_mse: 0.0124\n",
            "Epoch 58/100\n",
            "2/2 [==============================] - 0s 31ms/step - loss: 0.0061 - mse: 0.0061 - val_loss: 0.0121 - val_mse: 0.0121\n",
            "Epoch 59/100\n",
            "2/2 [==============================] - 0s 31ms/step - loss: 0.0062 - mse: 0.0062 - val_loss: 0.0124 - val_mse: 0.0124\n",
            "Epoch 60/100\n",
            "2/2 [==============================] - 0s 31ms/step - loss: 0.0060 - mse: 0.0060 - val_loss: 0.0131 - val_mse: 0.0131\n",
            "Epoch 61/100\n",
            "2/2 [==============================] - 0s 30ms/step - loss: 0.0058 - mse: 0.0058 - val_loss: 0.0146 - val_mse: 0.0146\n",
            "Epoch 62/100\n",
            "2/2 [==============================] - 0s 32ms/step - loss: 0.0060 - mse: 0.0060 - val_loss: 0.0152 - val_mse: 0.0152\n",
            "Epoch 63/100\n",
            "2/2 [==============================] - 0s 31ms/step - loss: 0.0061 - mse: 0.0061 - val_loss: 0.0132 - val_mse: 0.0132\n",
            "Epoch 64/100\n",
            "2/2 [==============================] - 0s 32ms/step - loss: 0.0058 - mse: 0.0058 - val_loss: 0.0116 - val_mse: 0.0116\n",
            "Epoch 65/100\n",
            "2/2 [==============================] - 0s 31ms/step - loss: 0.0062 - mse: 0.0062 - val_loss: 0.0114 - val_mse: 0.0114\n",
            "Epoch 66/100\n",
            "2/2 [==============================] - 0s 31ms/step - loss: 0.0064 - mse: 0.0064 - val_loss: 0.0119 - val_mse: 0.0119\n",
            "Epoch 67/100\n",
            "2/2 [==============================] - 0s 32ms/step - loss: 0.0059 - mse: 0.0059 - val_loss: 0.0134 - val_mse: 0.0134\n",
            "Epoch 68/100\n",
            "2/2 [==============================] - 0s 31ms/step - loss: 0.0057 - mse: 0.0057 - val_loss: 0.0157 - val_mse: 0.0157\n",
            "Epoch 69/100\n",
            "2/2 [==============================] - 0s 32ms/step - loss: 0.0062 - mse: 0.0062 - val_loss: 0.0158 - val_mse: 0.0158\n",
            "Epoch 70/100\n",
            "2/2 [==============================] - 0s 33ms/step - loss: 0.0062 - mse: 0.0062 - val_loss: 0.0135 - val_mse: 0.0135\n",
            "Epoch 71/100\n",
            "2/2 [==============================] - 0s 31ms/step - loss: 0.0058 - mse: 0.0058 - val_loss: 0.0122 - val_mse: 0.0122\n",
            "Epoch 72/100\n",
            "2/2 [==============================] - 0s 47ms/step - loss: 0.0057 - mse: 0.0057 - val_loss: 0.0124 - val_mse: 0.0124\n",
            "Epoch 73/100\n",
            "2/2 [==============================] - 0s 40ms/step - loss: 0.0057 - mse: 0.0057 - val_loss: 0.0125 - val_mse: 0.0125\n",
            "Epoch 74/100\n",
            "2/2 [==============================] - 0s 31ms/step - loss: 0.0058 - mse: 0.0058 - val_loss: 0.0129 - val_mse: 0.0129\n",
            "Epoch 75/100\n",
            "2/2 [==============================] - 0s 42ms/step - loss: 0.0056 - mse: 0.0056 - val_loss: 0.0147 - val_mse: 0.0147\n",
            "Epoch 76/100\n",
            "2/2 [==============================] - 0s 30ms/step - loss: 0.0057 - mse: 0.0057 - val_loss: 0.0163 - val_mse: 0.0163\n",
            "Epoch 77/100\n",
            "2/2 [==============================] - 0s 32ms/step - loss: 0.0061 - mse: 0.0061 - val_loss: 0.0155 - val_mse: 0.0155\n",
            "Epoch 78/100\n",
            "2/2 [==============================] - 0s 32ms/step - loss: 0.0057 - mse: 0.0057 - val_loss: 0.0127 - val_mse: 0.0127\n",
            "Epoch 79/100\n",
            "2/2 [==============================] - 0s 31ms/step - loss: 0.0056 - mse: 0.0056 - val_loss: 0.0114 - val_mse: 0.0114\n",
            "Epoch 80/100\n",
            "2/2 [==============================] - 0s 32ms/step - loss: 0.0066 - mse: 0.0066 - val_loss: 0.0117 - val_mse: 0.0117\n",
            "Epoch 81/100\n",
            "2/2 [==============================] - 0s 31ms/step - loss: 0.0060 - mse: 0.0060 - val_loss: 0.0139 - val_mse: 0.0139\n",
            "Epoch 82/100\n",
            "2/2 [==============================] - 0s 31ms/step - loss: 0.0055 - mse: 0.0055 - val_loss: 0.0160 - val_mse: 0.0160\n",
            "Epoch 83/100\n",
            "2/2 [==============================] - 0s 31ms/step - loss: 0.0058 - mse: 0.0058 - val_loss: 0.0154 - val_mse: 0.0154\n",
            "Epoch 84/100\n",
            "2/2 [==============================] - 0s 31ms/step - loss: 0.0055 - mse: 0.0055 - val_loss: 0.0129 - val_mse: 0.0129\n",
            "Epoch 85/100\n",
            "2/2 [==============================] - 0s 31ms/step - loss: 0.0055 - mse: 0.0055 - val_loss: 0.0117 - val_mse: 0.0117\n",
            "Epoch 86/100\n",
            "2/2 [==============================] - 0s 32ms/step - loss: 0.0058 - mse: 0.0058 - val_loss: 0.0123 - val_mse: 0.0123\n",
            "Epoch 87/100\n",
            "2/2 [==============================] - 0s 32ms/step - loss: 0.0053 - mse: 0.0053 - val_loss: 0.0145 - val_mse: 0.0145\n",
            "Epoch 88/100\n",
            "2/2 [==============================] - 0s 32ms/step - loss: 0.0053 - mse: 0.0053 - val_loss: 0.0166 - val_mse: 0.0166\n",
            "Epoch 89/100\n",
            "2/2 [==============================] - 0s 33ms/step - loss: 0.0060 - mse: 0.0060 - val_loss: 0.0149 - val_mse: 0.0149\n",
            "Epoch 90/100\n",
            "2/2 [==============================] - 0s 31ms/step - loss: 0.0053 - mse: 0.0053 - val_loss: 0.0111 - val_mse: 0.0111\n",
            "Epoch 91/100\n",
            "2/2 [==============================] - 0s 30ms/step - loss: 0.0054 - mse: 0.0054 - val_loss: 0.0100 - val_mse: 0.0100\n",
            "Epoch 92/100\n",
            "2/2 [==============================] - 0s 30ms/step - loss: 0.0070 - mse: 0.0070 - val_loss: 0.0103 - val_mse: 0.0103\n",
            "Epoch 93/100\n",
            "2/2 [==============================] - 0s 31ms/step - loss: 0.0059 - mse: 0.0059 - val_loss: 0.0140 - val_mse: 0.0140\n",
            "Epoch 94/100\n",
            "2/2 [==============================] - 0s 38ms/step - loss: 0.0056 - mse: 0.0056 - val_loss: 0.0162 - val_mse: 0.0162\n",
            "Epoch 95/100\n",
            "2/2 [==============================] - 0s 32ms/step - loss: 0.0057 - mse: 0.0057 - val_loss: 0.0132 - val_mse: 0.0132\n",
            "Epoch 96/100\n",
            "2/2 [==============================] - 0s 31ms/step - loss: 0.0050 - mse: 0.0050 - val_loss: 0.0114 - val_mse: 0.0114\n",
            "Epoch 97/100\n",
            "2/2 [==============================] - 0s 37ms/step - loss: 0.0056 - mse: 0.0056 - val_loss: 0.0114 - val_mse: 0.0114\n",
            "Epoch 98/100\n",
            "2/2 [==============================] - 0s 33ms/step - loss: 0.0066 - mse: 0.0066 - val_loss: 0.0118 - val_mse: 0.0118\n",
            "Epoch 99/100\n",
            "2/2 [==============================] - 0s 31ms/step - loss: 0.0058 - mse: 0.0058 - val_loss: 0.0143 - val_mse: 0.0143\n",
            "Epoch 100/100\n",
            "2/2 [==============================] - 0s 31ms/step - loss: 0.0051 - mse: 0.0051 - val_loss: 0.0196 - val_mse: 0.0196\n",
            "1/1 [==============================] - 0s 23ms/step - loss: 0.0138 - mse: 0.0138\n"
          ]
        },
        {
          "output_type": "execute_result",
          "data": {
            "text/plain": [
              "[0.01375774946063757, 0.01375774946063757]"
            ]
          },
          "metadata": {},
          "execution_count": 19
        }
      ]
    },
    {
      "cell_type": "code",
      "source": [
        "print(history.history.keys())\n",
        "# \"Loss\"\n",
        "plt.plot(history.history['loss'])\n",
        "plt.plot(history.history['val_loss'])\n",
        "plt.title('model loss')\n",
        "plt.ylabel('loss')\n",
        "plt.xlabel('epoch')\n",
        "plt.legend(['train', 'validation'], loc='upper left')\n",
        "plt.show()\n",
        "plt.savefig('TLV.png')"
      ],
      "metadata": {
        "colab": {
          "base_uri": "https://localhost:8080/",
          "height": 439
        },
        "id": "tvMUIg5SHsEF",
        "outputId": "ce406e7f-f997-4621-dd75-68a6448d31dd"
      },
      "execution_count": 20,
      "outputs": [
        {
          "output_type": "stream",
          "name": "stdout",
          "text": [
            "dict_keys(['loss', 'mse', 'val_loss', 'val_mse'])\n"
          ]
        },
        {
          "output_type": "display_data",
          "data": {
            "text/plain": [
              "<Figure size 720x360 with 1 Axes>"
            ],
            "image/png": "[encoded data removed]"
          },
          "metadata": {}
        },
        {
          "output_type": "display_data",
          "data": {
            "text/plain": [
              "<Figure size 720x360 with 0 Axes>"
            ]
          },
          "metadata": {}
        }
      ]
    },
    {
      "cell_type": "code",
      "source": [
        "mse_GRU = GRU_model.evaluate(X_test, y_test)"
      ],
      "metadata": {
        "colab": {
          "base_uri": "https://localhost:8080/"
        },
        "id": "ImssP1C-YLO6",
        "outputId": "a444131b-e935-408f-ff00-b218cf72ff09"
      },
      "execution_count": 21,
      "outputs": [
        {
          "output_type": "stream",
          "name": "stdout",
          "text": [
            "1/1 [==============================] - 0s 34ms/step - loss: 0.0138 - mse: 0.0138\n"
          ]
        }
      ]
    },
    {
      "cell_type": "markdown",
      "source": [
        "####Baseline MSE = 0.0096"
      ],
      "metadata": {
        "id": "kaLutRuWgU4K"
      }
    },
    {
      "cell_type": "code",
      "source": [
        "GRU_model.summary()"
      ],
      "metadata": {
        "colab": {
          "base_uri": "https://localhost:8080/"
        },
        "id": "A8XbxYQeiCoj",
        "outputId": "fcffa4b5-d593-43c2-9c07-0247b4c63e86"
      },
      "execution_count": 22,
      "outputs": [
        {
          "output_type": "stream",
          "name": "stdout",
          "text": [
            "Model: \"sequential\"\n",
            "_________________________________________________________________\n",
            " Layer (type)                Output Shape              Param #   \n",
            "=================================================================\n",
            " gru (GRU)                   (None, 85)                23970     \n",
            "                                                                 \n",
            " dense (Dense)               (None, 64)                5504      \n",
            "                                                                 \n",
            " dense_1 (Dense)             (None, 1)                 65        \n",
            "                                                                 \n",
            "=================================================================\n",
            "Total params: 29,539\n",
            "Trainable params: 29,539\n",
            "Non-trainable params: 0\n",
            "_________________________________________________________________\n"
          ]
        }
      ]
    },
    {
      "cell_type": "markdown",
      "source": [
        "###Predict the Test without Hyperparameter Tuning"
      ],
      "metadata": {
        "id": "bNFFP1sSleo-"
      }
    },
    {
      "cell_type": "code",
      "source": [
        "y_pred = GRU_model.predict(X_test)\n",
        "y_pred"
      ],
      "metadata": {
        "colab": {
          "base_uri": "https://localhost:8080/"
        },
        "id": "wujQ6JNuiCyl",
        "outputId": "9c37d417-afbd-4b70-bca4-25d13d2638fa"
      },
      "execution_count": 23,
      "outputs": [
        {
          "output_type": "stream",
          "name": "stdout",
          "text": [
            "1/1 [==============================] - 0s 446ms/step\n"
          ]
        },
        {
          "output_type": "execute_result",
          "data": {
            "text/plain": [
              "array([[ 0.13025674],\n",
              "       [ 0.1243805 ],\n",
              "       [ 0.15155001],\n",
              "       [ 0.11525993],\n",
              "       [ 0.08622418],\n",
              "       [ 0.07047047],\n",
              "       [ 0.06131284],\n",
              "       [ 0.02207648],\n",
              "       [-0.02947767],\n",
              "       [-0.04569484],\n",
              "       [-0.04842188],\n",
              "       [-0.05677629],\n",
              "       [-0.07779194],\n",
              "       [-0.06882467],\n",
              "       [-0.06712689],\n",
              "       [-0.09646197],\n",
              "       [-0.09416665],\n",
              "       [ 0.02167179],\n",
              "       [ 0.1255026 ],\n",
              "       [ 0.10769139],\n",
              "       [ 0.04401395],\n",
              "       [ 0.06866765]], dtype=float32)"
            ]
          },
          "metadata": {},
          "execution_count": 23
        }
      ]
    },
    {
      "cell_type": "code",
      "source": [
        "y_pred.reshape(1,-1)"
      ],
      "metadata": {
        "colab": {
          "base_uri": "https://localhost:8080/"
        },
        "id": "GI8XYmymlslh",
        "outputId": "1c869340-41f1-4ff4-dbed-c30d3759a297"
      },
      "execution_count": 24,
      "outputs": [
        {
          "output_type": "execute_result",
          "data": {
            "text/plain": [
              "array([[ 0.13025674,  0.1243805 ,  0.15155001,  0.11525993,  0.08622418,\n",
              "         0.07047047,  0.06131284,  0.02207648, -0.02947767, -0.04569484,\n",
              "        -0.04842188, -0.05677629, -0.07779194, -0.06882467, -0.06712689,\n",
              "        -0.09646197, -0.09416665,  0.02167179,  0.1255026 ,  0.10769139,\n",
              "         0.04401395,  0.06866765]], dtype=float32)"
            ]
          },
          "metadata": {},
          "execution_count": 24
        }
      ]
    },
    {
      "cell_type": "markdown",
      "source": [
        "###Invert Transformed Data"
      ],
      "metadata": {
        "id": "jrtmvrZ_l2__"
      }
    },
    {
      "cell_type": "code",
      "source": [
        "y_train_inv = cpo_pri_transformer.inverse_transform(y_train.reshape(1, -1))\n",
        "y_test_inv = cpo_pri_transformer.inverse_transform(y_test.reshape(1, -1))\n",
        "y_pred_inv = cpo_pri_transformer.inverse_transform(y_pred.reshape(1,-1))\n",
        "print(y_train_inv)\n",
        "print(y_test_inv)\n",
        "print(y_pred_inv)"
      ],
      "metadata": {
        "colab": {
          "base_uri": "https://localhost:8080/"
        },
        "id": "FVSGGT57lxHw",
        "outputId": "ffce1c79-00d1-4591-c962-ed4a51fd110d"
      },
      "execution_count": 25,
      "outputs": [
        {
          "output_type": "stream",
          "name": "stdout",
          "text": [
            "[[376. 383. 382. 396. 402. 390. 404. 382. 382. 391. 396. 413. 401. 410.\n",
            "  425. 408. 392. 371. 356. 362. 356. 352. 333. 357. 411. 404. 387. 395.\n",
            "  434. 488. 508. 494. 575. 614. 616. 707. 719. 655. 661. 687. 625. 611.\n",
            "  631. 655. 616. 586. 615. 607. 590. 535. 518. 519. 562. 552. 508. 476.\n",
            "  513. 545. 532. 550. 561. 567. 580. 559. 562. 553. 533. 498. 504. 525.\n",
            "  547. 556. 566. 621. 659. 671. 688. 705. 633. 661. 674. 703. 694. 681.\n",
            "  663. 632. 561. 497. 509. 475. 392. 319. 354. 388. 381. 370.]]\n",
            "[[349. 372. 324. 315. 312. 306. 288. 255. 257. 265. 254. 240. 254. 251.\n",
            "  234. 255. 330. 362. 310. 277. 323. 360.]]\n",
            "[[371.1027  368.7522  379.62    365.10397 353.4897  347.18817 343.52515\n",
            "  327.8306  307.20892 300.72208 299.63123 296.2895  287.88324 291.47012\n",
            "  292.14926 280.41522 281.33334 327.6687  369.20105 362.07657 336.60556\n",
            "  346.46707]]\n"
          ]
        }
      ]
    },
    {
      "cell_type": "markdown",
      "source": [
        "###Plot History, Actual and Predicted Value"
      ],
      "metadata": {
        "id": "PxYTgRmhmDtL"
      }
    },
    {
      "cell_type": "code",
      "source": [
        "y_train_inv = y_train_inv.flatten()\n",
        "y_train_inv"
      ],
      "metadata": {
        "colab": {
          "base_uri": "https://localhost:8080/"
        },
        "id": "YXY0nwhElxLo",
        "outputId": "a36b2f71-e168-4737-999f-ee8811b3491c"
      },
      "execution_count": 26,
      "outputs": [
        {
          "output_type": "execute_result",
          "data": {
            "text/plain": [
              "array([376., 383., 382., 396., 402., 390., 404., 382., 382., 391., 396.,\n",
              "       413., 401., 410., 425., 408., 392., 371., 356., 362., 356., 352.,\n",
              "       333., 357., 411., 404., 387., 395., 434., 488., 508., 494., 575.,\n",
              "       614., 616., 707., 719., 655., 661., 687., 625., 611., 631., 655.,\n",
              "       616., 586., 615., 607., 590., 535., 518., 519., 562., 552., 508.,\n",
              "       476., 513., 545., 532., 550., 561., 567., 580., 559., 562., 553.,\n",
              "       533., 498., 504., 525., 547., 556., 566., 621., 659., 671., 688.,\n",
              "       705., 633., 661., 674., 703., 694., 681., 663., 632., 561., 497.,\n",
              "       509., 475., 392., 319., 354., 388., 381., 370.])"
            ]
          },
          "metadata": {},
          "execution_count": 26
        }
      ]
    },
    {
      "cell_type": "code",
      "source": [
        "y_test_inv = y_test_inv.flatten()\n",
        "y_test_inv"
      ],
      "metadata": {
        "colab": {
          "base_uri": "https://localhost:8080/"
        },
        "id": "z_zQn_rpl_MC",
        "outputId": "d8e01dd6-caac-4765-f2fd-7341a6658231"
      },
      "execution_count": 27,
      "outputs": [
        {
          "output_type": "execute_result",
          "data": {
            "text/plain": [
              "array([349., 372., 324., 315., 312., 306., 288., 255., 257., 265., 254.,\n",
              "       240., 254., 251., 234., 255., 330., 362., 310., 277., 323., 360.])"
            ]
          },
          "metadata": {},
          "execution_count": 27
        }
      ]
    },
    {
      "cell_type": "code",
      "source": [
        "y_pred_inv = y_pred_inv.flatten()\n",
        "y_pred_inv"
      ],
      "metadata": {
        "colab": {
          "base_uri": "https://localhost:8080/"
        },
        "id": "X4GInUagmJUO",
        "outputId": "56f8708f-26fc-4efb-c524-de2e1f7b8c10"
      },
      "execution_count": 28,
      "outputs": [
        {
          "output_type": "execute_result",
          "data": {
            "text/plain": [
              "array([371.1027 , 368.7522 , 379.62   , 365.10397, 353.4897 , 347.18817,\n",
              "       343.52515, 327.8306 , 307.20892, 300.72208, 299.63123, 296.2895 ,\n",
              "       287.88324, 291.47012, 292.14926, 280.41522, 281.33334, 327.6687 ,\n",
              "       369.20105, 362.07657, 336.60556, 346.46707], dtype=float32)"
            ]
          },
          "metadata": {},
          "execution_count": 28
        }
      ]
    },
    {
      "cell_type": "code",
      "source": [
        "plt.figure(figsize=(17,9))\n",
        "#plt.grid()\n",
        "#plt.plot(np.arange(0, len(y_train)), y_train_inv, color='green', label=\"History\")\n",
        "plt.plot(np.arange(len(y_train), len(y_train) + len(y_test)), y_test_inv, color='red', marker='.', label=\"Actual\")\n",
        "plt.plot(np.arange(len(y_train), len(y_train) + len(y_test)), y_pred_inv, color='green', label=\"GRU Prediction\")\n",
        "plt.title(\"GRU Crude Palm Oil Price Prediction (Multivariate)\")\n",
        "plt.ylabel('Crude Palm Oil Price')\n",
        "plt.xlabel('Time step')\n",
        "plt.legend()\n",
        "ax.grid()\n",
        "plt.savefig('graph_GRU.png')"
      ],
      "metadata": {
        "colab": {
          "base_uri": "https://localhost:8080/",
          "height": 500
        },
        "id": "vHGNO1xAmJYI",
        "outputId": "869e41b8-8da5-499f-ec88-7379be37b4e4"
      },
      "execution_count": 29,
      "outputs": [
        {
          "output_type": "display_data",
          "data": {
            "text/plain": [
              "<Figure size 1224x648 with 1 Axes>"
            ],
            "image/png": "[encoded data removed]"
          },
          "metadata": {}
        }
      ]
    },
    {
      "cell_type": "code",
      "source": [
        "y_pred_inv"
      ],
      "metadata": {
        "colab": {
          "base_uri": "https://localhost:8080/"
        },
        "id": "Be_0S_2Pfj_6",
        "outputId": "e89cba7d-a819-4d48-a930-38c55f4c949c"
      },
      "execution_count": 30,
      "outputs": [
        {
          "output_type": "execute_result",
          "data": {
            "text/plain": [
              "array([371.1027 , 368.7522 , 379.62   , 365.10397, 353.4897 , 347.18817,\n",
              "       343.52515, 327.8306 , 307.20892, 300.72208, 299.63123, 296.2895 ,\n",
              "       287.88324, 291.47012, 292.14926, 280.41522, 281.33334, 327.6687 ,\n",
              "       369.20105, 362.07657, 336.60556, 346.46707], dtype=float32)"
            ]
          },
          "metadata": {},
          "execution_count": 30
        }
      ]
    },
    {
      "cell_type": "code",
      "source": [
        "GRU = y_pred_inv \n",
        "df1=pd.DataFrame(GRU, columns=['GRU_Prediction']) \n",
        "print (df1)"
      ],
      "metadata": {
        "colab": {
          "base_uri": "https://localhost:8080/"
        },
        "id": "hJLR2plHe9qf",
        "outputId": "43d45b16-703a-4203-9598-6370a4e917df"
      },
      "execution_count": 31,
      "outputs": [
        {
          "output_type": "stream",
          "name": "stdout",
          "text": [
            "    GRU_Prediction\n",
            "0       371.102692\n",
            "1       368.752197\n",
            "2       379.619995\n",
            "3       365.103973\n",
            "4       353.489685\n",
            "5       347.188171\n",
            "6       343.525146\n",
            "7       327.830597\n",
            "8       307.208923\n",
            "9       300.722076\n",
            "10      299.631226\n",
            "11      296.289490\n",
            "12      287.883240\n",
            "13      291.470123\n",
            "14      292.149261\n",
            "15      280.415222\n",
            "16      281.333344\n",
            "17      327.668701\n",
            "18      369.201050\n",
            "19      362.076569\n",
            "20      336.605560\n",
            "21      346.467072\n"
          ]
        }
      ]
    },
    {
      "cell_type": "code",
      "source": [
        "#Save GRU prediction to csv file\n",
        "df1.to_csv(\"GRU_Prediction.csv\")"
      ],
      "metadata": {
        "id": "JOeqNFfPemwp"
      },
      "execution_count": 32,
      "outputs": []
    },
    {
      "cell_type": "markdown",
      "source": [
        "###Evaluate GRU Model Accuracy"
      ],
      "metadata": {
        "id": "1NImON2RmyWF"
      }
    },
    {
      "cell_type": "code",
      "source": [
        "MAE_GRU = mean_absolute_error(y_test_inv, y_pred_inv)\n",
        "print('MAE value of the GRU Model is:', MAE_GRU)\n",
        "\n",
        "MDA_GRU = mda(y_test_inv, y_pred_inv)\n",
        "print('MDA value of the GRU Model is:', MDA_GRU)\n",
        "\n",
        "MAPE_GRU = mean_absolute_percentage_error(y_test_inv, y_pred_inv)\n",
        "print('MAPE value of the GRU Model is:', MAPE_GRU)\n",
        "\n",
        "RMSE_GRU = mean_squared_error(y_test_inv,y_pred_inv, squared=False)\n",
        "print('RMSE value of the GRU Model is:', RMSE_GRU)\n",
        "\n",
        "MSE_GRU = mean_squared_error(y_test_inv,y_pred_inv)\n",
        "print('MSE value of the GRU Model is:', MSE_GRU)\n",
        "\n",
        "#EVS_GRU = explained_variance_score(y_test_inv, y_pred_inv)\n",
        "#print('EVS score of the GRU Model is:', EVS_GRU)"
      ],
      "metadata": {
        "colab": {
          "base_uri": "https://localhost:8080/"
        },
        "id": "fIc5ITw4m2QJ",
        "outputId": "3f562fd0-3e63-48a2-8f0b-1242814bf014"
      },
      "execution_count": 33,
      "outputs": [
        {
          "output_type": "stream",
          "name": "stdout",
          "text": [
            "MAE value of the GRU Model is: 42.83144031871449\n",
            "MDA value of the GRU Model is: 0.5238095238095238\n",
            "MAPE value of the GRU Model is: 15.254856007994903\n",
            "RMSE value of the GRU Model is: 46.91737380769725\n",
            "MSE value of the GRU Model is: 2201.239965011196\n"
          ]
        }
      ]
    },
    {
      "cell_type": "markdown",
      "source": [
        "###Tuning GRU with Keras Tuner"
      ],
      "metadata": {
        "id": "fs98oM36Yw_r"
      }
    },
    {
      "cell_type": "markdown",
      "source": [
        "Define A Model-Building Class"
      ],
      "metadata": {
        "id": "UHH-Phuz1M-L"
      }
    },
    {
      "cell_type": "code",
      "source": [
        "#class ANNhypermodel(HyperModel):\n",
        "class GRUHyperModel(HyperModel):\n",
        "    \n",
        "    def __init__(self, input_shape):\n",
        "        self.input_shape= input_shape\n",
        "        \n",
        "    def build(self, hp):\n",
        "        model= keras.Sequential()\n",
        "        \n",
        "        # Tune the number of units in the first Dense layer\n",
        "        # Defining dense units as a close approx to the original neural network to perform a fair comparision!\n",
        "      \n",
        "        hp_units_1= hp.Int('units_1', min_value=128, max_value= 160, step=32)\n",
        "        hp_units_2= hp.Int('units_2', min_value=64, max_value= 128, step=32)\n",
        "        #hp_units_3= hp.Int('units_3', min_value=32, max_value= 64, step=16)\n",
        "        #hp_units_4= hp.Int('units_4', min_value=16, max_value= 32, step=8)\n",
        "\n",
        "        model.add(keras.layers.Dense(units=hp_units_1, input_shape= self.input_shape))\n",
        "        model.add(keras.layers.Dense(units=hp_units_2))\n",
        "        #model.add(keras.layers.Dense(units=hp_units_3, activation='tanh'))\n",
        "        #model.add(keras.layers.Dense(units=hp_units_4, activation='tanh'))\n",
        "        model.add(keras.layers.Dense(1))\n",
        "        #Tune the dropout\n",
        "        model.add(\n",
        "            Dropout(\n",
        "                rate=hp.Float(\n",
        "                    'dropout',\n",
        "                    min_value=0.0,\n",
        "                    max_value=0.5,\n",
        "                    default=0.25,\n",
        "                    step=0.05\n",
        "                )\n",
        "            )\n",
        "        )\n",
        "        \n",
        "        # Tune the epoch for the optimizer\n",
        "\n",
        "        #batch_size = hp.Int('batch_size',8,16,24,32,40,48,56,64,72,80,88,96, step=8)\n",
        "        \n",
        "        optimizers = hp.Choice('optimizer',values=['rmsprop','adam', 'AdamW', 'nadam','sgd','adadelta','adagrad'])\n",
        "\n",
        "        hp_dense_activation = hp.Choice('activation',values=['relu', 'tanh', 'sigmoid', 'linear', 'Softmax', 'ELU', 'linear'])\n",
        "\n",
        "        # Tune the batch size for the optimizer \n",
        "        hp_batch_size = hp.Int('batch_size', min_value = 8, max_value = 96, step = 8, default=8)\n",
        "        \n",
        "        # Tune the epoch for the optimizer\n",
        "        hp_epoch = hp.Int('epoch', min_value = 5, max_value = 100, step = 5, default=5)\n",
        "\n",
        "        # Tune the epoch for the momentum\n",
        "        hp_momentum = hp.Float('momentum', min_value = 0.8, max_value = 0.99, step = 0.01, default=0.9)\n",
        "\n",
        "        # Tune the epoch for the decay\n",
        "        hp_decay = hp.Float('decay', min_value = 1e-9, max_value = 1e-3, step= 0.0001, default=1e-7)\n",
        "\n",
        "        # Tune the learning rate for the optimizer \n",
        "        hp_learning_rate=hp.Float('learning_rate', min_value=1e-4, max_value=1e-2, sampling='LOG', default= 0.0005)\n",
        "       # -------------------------------------------------------\n",
        "        model.compile(loss='mse',\n",
        "                    optimizer= keras.optimizers.Adam(learning_rate=hp_learning_rate),\n",
        "                    metrics= ['mae','mse']\n",
        "                     )\n",
        "\n",
        "        return model\n",
        "\n",
        "#hypermodel= ANNhypermodel(input_shape = (X_test.shape[1], X_test.shape[2]))\n",
        "hypermodel = GRUHyperModel(input_shape = (X_test.shape[1], X_test.shape[2]))"
      ],
      "metadata": {
        "id": "6sH3KVfoj7jq"
      },
      "execution_count": 34,
      "outputs": []
    },
    {
      "cell_type": "markdown",
      "source": [
        "###Applying Keras Tuner to Get Best GRU Hyperparameters"
      ],
      "metadata": {
        "id": "VaMppV5uz8vG"
      }
    },
    {
      "cell_type": "markdown",
      "source": [
        "* Instantiate the tuner to use Random Search\n",
        "* Compare Random Search and Hyperband for the one with the smallest MSE score.\n",
        "* Get optimal hyperparameters from the tuner.\n",
        "* Apply the optimal hyperparameters to the GRU."
      ],
      "metadata": {
        "id": "Wm9uU6x90Dzx"
      }
    },
    {
      "cell_type": "markdown",
      "source": [
        "###Build Random Search Tuner"
      ],
      "metadata": {
        "id": "Vw6sRopRkNq-"
      }
    },
    {
      "cell_type": "code",
      "source": [
        "tuner_rs = RandomSearch(\n",
        "            hypermodel,\n",
        "            objective='mse',\n",
        "            seed=42,\n",
        "            max_trials=10,\n",
        "            executions_per_trial=2, overwrite=True\n",
        "        )"
      ],
      "metadata": {
        "id": "oPWNkr_dj7ng"
      },
      "execution_count": 35,
      "outputs": []
    },
    {
      "cell_type": "markdown",
      "source": [
        "###Run Random Search"
      ],
      "metadata": {
        "id": "UH8vIpuOkl0V"
      }
    },
    {
      "cell_type": "code",
      "source": [
        "tuner_rs.search(X_train, y_train, epochs=16, validation_split=0.2, verbose=0)"
      ],
      "metadata": {
        "id": "XC6nlTF4j7rN"
      },
      "execution_count": 36,
      "outputs": []
    },
    {
      "cell_type": "markdown",
      "source": [
        "###Evaluate Random Search"
      ],
      "metadata": {
        "id": "ZWc0whe7l-_0"
      }
    },
    {
      "cell_type": "code",
      "source": [
        "best_model = tuner_rs.get_best_models(num_models=1)[0]\n",
        "mse_rs = best_model.evaluate(X_test, y_test)[1]"
      ],
      "metadata": {
        "id": "V0u8mTuTj7wl"
      },
      "execution_count": null,
      "outputs": []
    },
    {
      "cell_type": "markdown",
      "source": [
        "####Random Search MSE = 0.0540"
      ],
      "metadata": {
        "id": "9jgCzQ74mQjM"
      }
    },
    {
      "cell_type": "code",
      "source": [
        "best_params = tuner_rs.get_best_hyperparameters()\n",
        "\n",
        "best_params[0].values"
      ],
      "metadata": {
        "colab": {
          "base_uri": "https://localhost:8080/"
        },
        "id": "jJ5NIqxpj72V",
        "outputId": "de7bbbd2-4ad3-4fe7-9b9a-bfbe5d6ede3c"
      },
      "execution_count": 38,
      "outputs": [
        {
          "output_type": "execute_result",
          "data": {
            "text/plain": [
              "{'units_1': 128,\n",
              " 'units_2': 64,\n",
              " 'dropout': 0.1,\n",
              " 'optimizer': 'adagrad',\n",
              " 'activation': 'ELU',\n",
              " 'batch_size': 24,\n",
              " 'epoch': 75,\n",
              " 'momentum': 0.9700000000000001,\n",
              " 'decay': 0.000500001,\n",
              " 'learning_rate': 0.00014948684422968163}"
            ]
          },
          "metadata": {},
          "execution_count": 38
        }
      ]
    },
    {
      "cell_type": "markdown",
      "source": [
        "###Build HYPERBAND optimization"
      ],
      "metadata": {
        "id": "9rYL672xrXtU"
      }
    },
    {
      "cell_type": "code",
      "source": [
        "MAX_TRIALS = 20\n",
        "tuner= RandomSearch(hypermodel,\n",
        "               objective= 'val_mse',\n",
        "               max_trials= MAX_TRIALS,\n",
        "               executions_per_trial= 2,\n",
        "               directory= 'random_search',\n",
        "               project_name='randomsearch',\n",
        "               overwrite=True)"
      ],
      "metadata": {
        "id": "CqxbIHGxmstL"
      },
      "execution_count": null,
      "outputs": []
    },
    {
      "cell_type": "code",
      "source": [
        "HYPERBAND_MAX_EPOCHS = 150\n",
        "EXECUTION_PER_TRIAL = 2\n",
        "\n",
        "tuner= Hyperband(hypermodel,\n",
        "                   objective= 'val_mse',\n",
        "                   max_epochs=HYPERBAND_MAX_EPOCHS, #Set 100+ for good results\n",
        "                   executions_per_trial=EXECUTION_PER_TRIAL,\n",
        "                   directory= 'hyperband',\n",
        "                   project_name='hyper',\n",
        "                   overwrite=True)\n",
        "\n",
        "# tuner.search_space_summary()"
      ],
      "metadata": {
        "id": "eaGs4DAFosPl"
      },
      "execution_count": null,
      "outputs": []
    },
    {
      "cell_type": "code",
      "source": [
        "print('searching for the best params!')\n",
        "\n",
        "t0 = time()\n",
        "tuner.search(x= X_train,\n",
        "             y= y_train,\n",
        "             epochs=100,\n",
        "             batch_size= 64,\n",
        "             validation_data= (X_test, y_test),\n",
        "             verbose=0,\n",
        "             callbacks= []\n",
        "            )\n",
        "print(time()- t0,\" secs\")\n",
        "\n",
        "# Retreive the optimal hyperparameters\n",
        "best_hps= tuner.get_best_hyperparameters(num_trials=1)[0]\n",
        "\n",
        "# Retrieve the best model\n",
        "best_model = tuner.get_best_models(num_models=1)[0]"
      ],
      "metadata": {
        "colab": {
          "base_uri": "https://localhost:8080/"
        },
        "id": "NXf_LR3mosWn",
        "outputId": "53c19f96-8ee4-4df0-acae-b31a16974ea0"
      },
      "execution_count": null,
      "outputs": [
        {
          "output_type": "stream",
          "name": "stdout",
          "text": [
            "searching for the best params!\n"
          ]
        },
        {
          "output_type": "stream",
          "name": "stderr",
          "text": [
            "WARNING:tensorflow:Detecting that an object or model or tf.train.Checkpoint is being deleted with unrestored values. See the following logs for the specific values in question. To silence these warnings, use `status.expect_partial()`. See https://www.tensorflow.org/api_docs/python/tf/train/Checkpoint#restorefor details about the status object returned by the restore function.\n",
            "WARNING:tensorflow:Value in checkpoint could not be found in the restored object: (root).optimizer._variables.1\n",
            "WARNING:tensorflow:Value in checkpoint could not be found in the restored object: (root).optimizer._variables.2\n",
            "WARNING:tensorflow:Value in checkpoint could not be found in the restored object: (root).optimizer._variables.3\n",
            "WARNING:tensorflow:Value in checkpoint could not be found in the restored object: (root).optimizer._variables.4\n",
            "WARNING:tensorflow:Value in checkpoint could not be found in the restored object: (root).optimizer._variables.5\n",
            "WARNING:tensorflow:Value in checkpoint could not be found in the restored object: (root).optimizer._variables.6\n",
            "WARNING:tensorflow:Value in checkpoint could not be found in the restored object: (root).optimizer._variables.7\n",
            "WARNING:tensorflow:Value in checkpoint could not be found in the restored object: (root).optimizer._variables.8\n",
            "WARNING:tensorflow:Value in checkpoint could not be found in the restored object: (root).optimizer._variables.9\n",
            "WARNING:tensorflow:Value in checkpoint could not be found in the restored object: (root).optimizer._variables.10\n",
            "WARNING:tensorflow:Value in checkpoint could not be found in the restored object: (root).optimizer._variables.11\n",
            "WARNING:tensorflow:Value in checkpoint could not be found in the restored object: (root).optimizer._variables.12\n",
            "WARNING:tensorflow:5 out of the last 15 calls to <function Model.make_test_function.<locals>.test_function at 0x7f89ef976790> triggered tf.function retracing. Tracing is expensive and the excessive number of tracings could be due to (1) creating @tf.function repeatedly in a loop, (2) passing tensors with different shapes, (3) passing Python objects instead of tensors. For (1), please define your @tf.function outside of the loop. For (2), @tf.function has reduce_retracing=True option that can avoid unnecessary retracing. For (3), please refer to https://www.tensorflow.org/guide/function#controlling_retracing and https://www.tensorflow.org/api_docs/python/tf/function for  more details.\n",
            "WARNING:tensorflow:6 out of the last 17 calls to <function Model.make_test_function.<locals>.test_function at 0x7f89e01a2af0> triggered tf.function retracing. Tracing is expensive and the excessive number of tracings could be due to (1) creating @tf.function repeatedly in a loop, (2) passing tensors with different shapes, (3) passing Python objects instead of tensors. For (1), please define your @tf.function outside of the loop. For (2), @tf.function has reduce_retracing=True option that can avoid unnecessary retracing. For (3), please refer to https://www.tensorflow.org/guide/function#controlling_retracing and https://www.tensorflow.org/api_docs/python/tf/function for  more details.\n"
          ]
        },
        {
          "output_type": "stream",
          "name": "stdout",
          "text": [
            "1447.0631687641144  secs\n"
          ]
        }
      ]
    },
    {
      "cell_type": "markdown",
      "source": [
        "###Hyperband MSE = 0.01193"
      ],
      "metadata": {
        "id": "NRvRh21YWNJ0"
      }
    },
    {
      "cell_type": "code",
      "source": [
        "print(f\"\"\"\n",
        "The hyperparameter search is complete. The optimal number of units in the \n",
        "first densely-connected layer is {best_hps.get('units_1')},\n",
        "second layer is {best_hps.get('units_2')} \n",
        "drop out is {best_hps.get('dropout')}\n",
        "batch_size is {best_hps.get('batch_size')}\n",
        "epoch is {best_hps.get('epoch')}\n",
        "optimizer is {best_hps.get('optimizer')}\n",
        "activation is {best_hps.get('activation')}\n",
        "momentum is {best_hps.get('momentum')}\n",
        "decay is {best_hps.get('decay')}\n",
        "#learning rate is {best_hps.get('learning_rate')}                                        \n",
        "and the optimal learning rate for the optimizer\n",
        "is {best_hps.get('learning_rate')}.\n",
        "\"\"\")\n",
        "\n",
        "# Evaluate the best model.\n",
        "print(best_model.metrics_names)\n",
        "loss, mae, mse = best_model.evaluate(X_test, y_test)\n",
        "print(f'loss:{loss} mae: {mae} mse: {mse}')"
      ],
      "metadata": {
        "colab": {
          "base_uri": "https://localhost:8080/"
        },
        "id": "UcOC-csfrvmH",
        "outputId": "a062baf6-b67e-4882-b46d-fe981318fe50"
      },
      "execution_count": null,
      "outputs": [
        {
          "output_type": "stream",
          "name": "stdout",
          "text": [
            "\n",
            "The hyperparameter search is complete. The optimal number of units in the \n",
            "first densely-connected layer is 160,\n",
            "second layer is 96 \n",
            "\n",
            "\n",
            "drop out is 0.35000000000000003\n",
            "batch_size is 16\n",
            "epoch is 95\n",
            "optimizer is nadam\n",
            "activation is linear\n",
            "\n",
            "momentum is 0.93\n",
            "decay is 0.000700001\n",
            "\n",
            "#learning rate is 0.005469451505533658                                        \n",
            "\n",
            "and the optimal learning rate for the optimizer\n",
            "is 0.005469451505533658.\n",
            "\n",
            "[]\n",
            "1/1 [==============================] - 0s 478ms/step - loss: 0.0119 - mae: 0.0957 - mse: 0.0119\n",
            "loss:0.011934570036828518 mae: 0.09570423513650894 mse: 0.011934570968151093\n"
          ]
        }
      ]
    },
    {
      "cell_type": "code",
      "source": [
        "# Get the optimal hyperparameters\n",
        "best_hps = tuner.get_best_hyperparameters(num_trials = 1)[0]\n",
        "print(best_hps.values)"
      ],
      "metadata": {
        "id": "q0e8tSIulgh_",
        "colab": {
          "base_uri": "https://localhost:8080/"
        },
        "outputId": "460497e3-4052-4f3f-a0e7-bf5f07f04492"
      },
      "execution_count": null,
      "outputs": [
        {
          "output_type": "stream",
          "name": "stdout",
          "text": [
            "{'units_1': 160, 'units_2': 96, 'dropout': 0.35000000000000003, 'optimizer': 'nadam', 'activation': 'linear', 'batch_size': 16, 'epoch': 95, 'momentum': 0.93, 'decay': 0.000700001, 'learning_rate': 0.005469451505533658, 'tuner/epochs': 17, 'tuner/initial_epoch': 6, 'tuner/bracket': 3, 'tuner/round': 1, 'tuner/trial_id': '0176'}\n"
          ]
        }
      ]
    },
    {
      "cell_type": "markdown",
      "source": [
        "###Apply the trained parameters to the GRU"
      ],
      "metadata": {
        "id": "oggNSpcVpofH"
      }
    },
    {
      "cell_type": "code",
      "source": [
        "TUGRU_model = tf.keras.Sequential()\n",
        "TUGRU_model.add(tf.keras.layers.GRU(160, activation='linear', input_shape=(X_test.shape[1], X_test.shape[2])))\n",
        "TUGRU_model.add(tf.keras.layers.Dense(96, activation='linear'))\n",
        "#TUGRU_model.add(layers.Dropout(0.35))\n",
        "#TUGRU_model.add(tf.keras.layers.Dense(48, activation='linear'))\n",
        "#TUGRU_model.add(layers.Dropout(0.35))\n",
        "#TUGRU_model.add(tf.keras.layers.Dense(16, 'tanh'))\n",
        "#TUGRU_model.add(layers.Dropout(0.35))\n",
        "\n",
        "#Output layer of model\n",
        "TUGRU_model.add(tf.keras.layers.Dense(1))"
      ],
      "metadata": {
        "id": "exKbi-BBYxAt",
        "colab": {
          "base_uri": "https://localhost:8080/"
        },
        "outputId": "d6ba8964-87b0-4dad-c9bd-0ec03e0661d8"
      },
      "execution_count": 39,
      "outputs": [
        {
          "output_type": "stream",
          "name": "stderr",
          "text": [
            "WARNING:tensorflow:Layer gru will not use cuDNN kernels since it doesn't meet the criteria. It will use a generic GPU kernel as fallback when running on GPU.\n"
          ]
        }
      ]
    },
    {
      "cell_type": "code",
      "source": [
        "TUGRU_model.compile(loss = 'mse', optimizer= tf.keras.optimizers.Nadam(learning_rate=0.0054), metrics= ['mae', 'mse'])\n",
        "#TUGRU_model.compile(optimizer='rmsprop',loss='mse',metrics=['mse']),\n",
        "history = TUGRU_model.fit(X_train, y_train, epochs=95, batch_size=16,validation_split=0.2,shuffle=False) # 80/160"
      ],
      "metadata": {
        "colab": {
          "base_uri": "https://localhost:8080/"
        },
        "id": "2OVvMjqyY2kW",
        "outputId": "4ea488a7-cea4-4bbd-cbf0-530e5910de67"
      },
      "execution_count": 40,
      "outputs": [
        {
          "output_type": "stream",
          "name": "stdout",
          "text": [
            "Epoch 1/95\n",
            "5/5 [==============================] - 3s 77ms/step - loss: 0.4126 - mae: 0.5609 - mse: 0.4126 - val_loss: 0.0593 - val_mae: 0.2197 - val_mse: 0.0593\n",
            "Epoch 2/95\n",
            "5/5 [==============================] - 0s 22ms/step - loss: 0.0324 - mae: 0.1407 - mse: 0.0324 - val_loss: 0.0500 - val_mae: 0.1891 - val_mse: 0.0500\n",
            "Epoch 3/95\n",
            "5/5 [==============================] - 0s 18ms/step - loss: 0.0309 - mae: 0.1362 - mse: 0.0309 - val_loss: 0.0192 - val_mae: 0.1182 - val_mse: 0.0192\n",
            "Epoch 4/95\n",
            "5/5 [==============================] - 0s 17ms/step - loss: 0.0163 - mae: 0.1007 - mse: 0.0163 - val_loss: 0.0187 - val_mae: 0.1038 - val_mse: 0.0187\n",
            "Epoch 5/95\n",
            "5/5 [==============================] - 0s 20ms/step - loss: 0.0161 - mae: 0.1043 - mse: 0.0161 - val_loss: 0.0218 - val_mae: 0.1115 - val_mse: 0.0218\n",
            "Epoch 6/95\n",
            "5/5 [==============================] - 0s 21ms/step - loss: 0.0132 - mae: 0.0946 - mse: 0.0132 - val_loss: 0.0140 - val_mae: 0.0891 - val_mse: 0.0140\n",
            "Epoch 7/95\n",
            "5/5 [==============================] - 0s 18ms/step - loss: 0.0084 - mae: 0.0717 - mse: 0.0084 - val_loss: 0.0137 - val_mae: 0.0988 - val_mse: 0.0137\n",
            "Epoch 8/95\n",
            "5/5 [==============================] - 0s 17ms/step - loss: 0.0097 - mae: 0.0789 - mse: 0.0097 - val_loss: 0.0142 - val_mae: 0.1013 - val_mse: 0.0142\n",
            "Epoch 9/95\n",
            "5/5 [==============================] - 0s 17ms/step - loss: 0.0099 - mae: 0.0787 - mse: 0.0099 - val_loss: 0.0118 - val_mae: 0.0846 - val_mse: 0.0118\n",
            "Epoch 10/95\n",
            "5/5 [==============================] - 0s 21ms/step - loss: 0.0071 - mae: 0.0687 - mse: 0.0071 - val_loss: 0.0150 - val_mae: 0.0877 - val_mse: 0.0150\n",
            "Epoch 11/95\n",
            "5/5 [==============================] - 0s 18ms/step - loss: 0.0069 - mae: 0.0680 - mse: 0.0069 - val_loss: 0.0181 - val_mae: 0.0977 - val_mse: 0.0181\n",
            "Epoch 12/95\n",
            "5/5 [==============================] - 0s 19ms/step - loss: 0.0068 - mae: 0.0660 - mse: 0.0068 - val_loss: 0.0164 - val_mae: 0.0919 - val_mse: 0.0164\n",
            "Epoch 13/95\n",
            "5/5 [==============================] - 0s 17ms/step - loss: 0.0062 - mae: 0.0616 - mse: 0.0062 - val_loss: 0.0143 - val_mae: 0.0884 - val_mse: 0.0143\n",
            "Epoch 14/95\n",
            "5/5 [==============================] - 0s 17ms/step - loss: 0.0064 - mae: 0.0620 - mse: 0.0064 - val_loss: 0.0140 - val_mae: 0.0872 - val_mse: 0.0140\n",
            "Epoch 15/95\n",
            "5/5 [==============================] - 0s 44ms/step - loss: 0.0063 - mae: 0.0618 - mse: 0.0063 - val_loss: 0.0150 - val_mae: 0.0885 - val_mse: 0.0150\n",
            "Epoch 16/95\n",
            "5/5 [==============================] - 0s 60ms/step - loss: 0.0060 - mae: 0.0619 - mse: 0.0060 - val_loss: 0.0163 - val_mae: 0.0917 - val_mse: 0.0163\n",
            "Epoch 17/95\n",
            "5/5 [==============================] - 0s 61ms/step - loss: 0.0059 - mae: 0.0618 - mse: 0.0059 - val_loss: 0.0156 - val_mae: 0.0899 - val_mse: 0.0156\n",
            "Epoch 18/95\n",
            "5/5 [==============================] - 0s 51ms/step - loss: 0.0058 - mae: 0.0599 - mse: 0.0058 - val_loss: 0.0143 - val_mae: 0.0874 - val_mse: 0.0143\n",
            "Epoch 19/95\n",
            "5/5 [==============================] - 0s 25ms/step - loss: 0.0059 - mae: 0.0597 - mse: 0.0059 - val_loss: 0.0140 - val_mae: 0.0865 - val_mse: 0.0140\n",
            "Epoch 20/95\n",
            "5/5 [==============================] - 0s 19ms/step - loss: 0.0058 - mae: 0.0597 - mse: 0.0058 - val_loss: 0.0148 - val_mae: 0.0882 - val_mse: 0.0148\n",
            "Epoch 21/95\n",
            "5/5 [==============================] - 0s 18ms/step - loss: 0.0056 - mae: 0.0598 - mse: 0.0056 - val_loss: 0.0156 - val_mae: 0.0908 - val_mse: 0.0156\n",
            "Epoch 22/95\n",
            "5/5 [==============================] - 0s 22ms/step - loss: 0.0056 - mae: 0.0591 - mse: 0.0056 - val_loss: 0.0146 - val_mae: 0.0879 - val_mse: 0.0146\n",
            "Epoch 23/95\n",
            "5/5 [==============================] - 0s 31ms/step - loss: 0.0055 - mae: 0.0579 - mse: 0.0055 - val_loss: 0.0132 - val_mae: 0.0856 - val_mse: 0.0132\n",
            "Epoch 24/95\n",
            "5/5 [==============================] - 0s 53ms/step - loss: 0.0056 - mae: 0.0584 - mse: 0.0056 - val_loss: 0.0132 - val_mae: 0.0849 - val_mse: 0.0132\n",
            "Epoch 25/95\n",
            "5/5 [==============================] - 0s 59ms/step - loss: 0.0054 - mae: 0.0584 - mse: 0.0054 - val_loss: 0.0151 - val_mae: 0.0901 - val_mse: 0.0151\n",
            "Epoch 26/95\n",
            "5/5 [==============================] - 0s 72ms/step - loss: 0.0054 - mae: 0.0585 - mse: 0.0054 - val_loss: 0.0156 - val_mae: 0.0918 - val_mse: 0.0156\n",
            "Epoch 27/95\n",
            "5/5 [==============================] - 0s 49ms/step - loss: 0.0052 - mae: 0.0566 - mse: 0.0052 - val_loss: 0.0125 - val_mae: 0.0862 - val_mse: 0.0125\n",
            "Epoch 28/95\n",
            "5/5 [==============================] - 0s 35ms/step - loss: 0.0056 - mae: 0.0579 - mse: 0.0056 - val_loss: 0.0110 - val_mae: 0.0842 - val_mse: 0.0110\n",
            "Epoch 29/95\n",
            "5/5 [==============================] - 0s 30ms/step - loss: 0.0062 - mae: 0.0607 - mse: 0.0062 - val_loss: 0.0128 - val_mae: 0.0830 - val_mse: 0.0128\n",
            "Epoch 30/95\n",
            "5/5 [==============================] - 0s 33ms/step - loss: 0.0058 - mae: 0.0615 - mse: 0.0058 - val_loss: 0.0242 - val_mae: 0.1271 - val_mse: 0.0242\n",
            "Epoch 31/95\n",
            "5/5 [==============================] - 0s 36ms/step - loss: 0.0080 - mae: 0.0748 - mse: 0.0080 - val_loss: 0.0151 - val_mae: 0.0933 - val_mse: 0.0151\n",
            "Epoch 32/95\n",
            "5/5 [==============================] - 0s 36ms/step - loss: 0.0067 - mae: 0.0636 - mse: 0.0067 - val_loss: 0.0188 - val_mae: 0.1085 - val_mse: 0.0188\n",
            "Epoch 33/95\n",
            "5/5 [==============================] - 0s 33ms/step - loss: 0.0179 - mae: 0.1103 - mse: 0.0179 - val_loss: 0.0115 - val_mae: 0.0900 - val_mse: 0.0115\n",
            "Epoch 34/95\n",
            "5/5 [==============================] - 0s 32ms/step - loss: 0.0111 - mae: 0.0802 - mse: 0.0111 - val_loss: 0.0346 - val_mae: 0.1625 - val_mse: 0.0346\n",
            "Epoch 35/95\n",
            "5/5 [==============================] - 0s 34ms/step - loss: 0.0226 - mae: 0.1321 - mse: 0.0226 - val_loss: 0.0138 - val_mae: 0.0915 - val_mse: 0.0138\n",
            "Epoch 36/95\n",
            "5/5 [==============================] - 0s 37ms/step - loss: 0.0081 - mae: 0.0715 - mse: 0.0081 - val_loss: 0.0176 - val_mae: 0.1108 - val_mse: 0.0176\n",
            "Epoch 37/95\n",
            "5/5 [==============================] - 0s 44ms/step - loss: 0.0130 - mae: 0.0860 - mse: 0.0130 - val_loss: 0.0130 - val_mae: 0.0973 - val_mse: 0.0130\n",
            "Epoch 38/95\n",
            "5/5 [==============================] - 0s 35ms/step - loss: 0.0079 - mae: 0.0674 - mse: 0.0079 - val_loss: 0.0092 - val_mae: 0.0764 - val_mse: 0.0092\n",
            "Epoch 39/95\n",
            "5/5 [==============================] - 0s 27ms/step - loss: 0.0057 - mae: 0.0603 - mse: 0.0057 - val_loss: 0.0092 - val_mae: 0.0673 - val_mse: 0.0092\n",
            "Epoch 40/95\n",
            "5/5 [==============================] - 0s 22ms/step - loss: 0.0063 - mae: 0.0647 - mse: 0.0063 - val_loss: 0.0093 - val_mae: 0.0671 - val_mse: 0.0093\n",
            "Epoch 41/95\n",
            "5/5 [==============================] - 0s 21ms/step - loss: 0.0052 - mae: 0.0565 - mse: 0.0052 - val_loss: 0.0087 - val_mae: 0.0695 - val_mse: 0.0087\n",
            "Epoch 42/95\n",
            "5/5 [==============================] - 0s 18ms/step - loss: 0.0051 - mae: 0.0544 - mse: 0.0051 - val_loss: 0.0086 - val_mae: 0.0702 - val_mse: 0.0086\n",
            "Epoch 43/95\n",
            "5/5 [==============================] - 0s 17ms/step - loss: 0.0054 - mae: 0.0565 - mse: 0.0054 - val_loss: 0.0089 - val_mae: 0.0679 - val_mse: 0.0089\n",
            "Epoch 44/95\n",
            "5/5 [==============================] - 0s 21ms/step - loss: 0.0047 - mae: 0.0529 - mse: 0.0047 - val_loss: 0.0100 - val_mae: 0.0708 - val_mse: 0.0100\n",
            "Epoch 45/95\n",
            "5/5 [==============================] - 0s 18ms/step - loss: 0.0047 - mae: 0.0534 - mse: 0.0047 - val_loss: 0.0101 - val_mae: 0.0714 - val_mse: 0.0101\n",
            "Epoch 46/95\n",
            "5/5 [==============================] - 0s 21ms/step - loss: 0.0046 - mae: 0.0527 - mse: 0.0046 - val_loss: 0.0089 - val_mae: 0.0691 - val_mse: 0.0089\n",
            "Epoch 47/95\n",
            "5/5 [==============================] - 0s 19ms/step - loss: 0.0043 - mae: 0.0498 - mse: 0.0043 - val_loss: 0.0082 - val_mae: 0.0706 - val_mse: 0.0082\n",
            "Epoch 48/95\n",
            "5/5 [==============================] - 0s 18ms/step - loss: 0.0046 - mae: 0.0518 - mse: 0.0046 - val_loss: 0.0080 - val_mae: 0.0692 - val_mse: 0.0080\n",
            "Epoch 49/95\n",
            "5/5 [==============================] - 0s 21ms/step - loss: 0.0044 - mae: 0.0501 - mse: 0.0044 - val_loss: 0.0086 - val_mae: 0.0686 - val_mse: 0.0086\n",
            "Epoch 50/95\n",
            "5/5 [==============================] - 0s 17ms/step - loss: 0.0042 - mae: 0.0498 - mse: 0.0042 - val_loss: 0.0092 - val_mae: 0.0706 - val_mse: 0.0092\n",
            "Epoch 51/95\n",
            "5/5 [==============================] - 0s 21ms/step - loss: 0.0042 - mae: 0.0502 - mse: 0.0042 - val_loss: 0.0085 - val_mae: 0.0704 - val_mse: 0.0085\n",
            "Epoch 52/95\n",
            "5/5 [==============================] - 0s 21ms/step - loss: 0.0040 - mae: 0.0473 - mse: 0.0040 - val_loss: 0.0079 - val_mae: 0.0714 - val_mse: 0.0079\n",
            "Epoch 53/95\n",
            "5/5 [==============================] - 0s 21ms/step - loss: 0.0045 - mae: 0.0508 - mse: 0.0045 - val_loss: 0.0076 - val_mae: 0.0693 - val_mse: 0.0076\n",
            "Epoch 54/95\n",
            "5/5 [==============================] - 0s 21ms/step - loss: 0.0043 - mae: 0.0488 - mse: 0.0043 - val_loss: 0.0091 - val_mae: 0.0698 - val_mse: 0.0091\n",
            "Epoch 55/95\n",
            "5/5 [==============================] - 0s 18ms/step - loss: 0.0042 - mae: 0.0501 - mse: 0.0042 - val_loss: 0.0108 - val_mae: 0.0785 - val_mse: 0.0108\n",
            "Epoch 56/95\n",
            "5/5 [==============================] - 0s 18ms/step - loss: 0.0046 - mae: 0.0532 - mse: 0.0046 - val_loss: 0.0086 - val_mae: 0.0730 - val_mse: 0.0086\n",
            "Epoch 57/95\n",
            "5/5 [==============================] - 0s 19ms/step - loss: 0.0042 - mae: 0.0471 - mse: 0.0042 - val_loss: 0.0082 - val_mae: 0.0773 - val_mse: 0.0082\n",
            "Epoch 58/95\n",
            "5/5 [==============================] - 0s 18ms/step - loss: 0.0064 - mae: 0.0612 - mse: 0.0064 - val_loss: 0.0072 - val_mae: 0.0691 - val_mse: 0.0072\n",
            "Epoch 59/95\n",
            "5/5 [==============================] - 0s 18ms/step - loss: 0.0050 - mae: 0.0516 - mse: 0.0050 - val_loss: 0.0119 - val_mae: 0.0867 - val_mse: 0.0119\n",
            "Epoch 60/95\n",
            "5/5 [==============================] - 0s 21ms/step - loss: 0.0066 - mae: 0.0673 - mse: 0.0066 - val_loss: 0.0119 - val_mae: 0.0853 - val_mse: 0.0119\n",
            "Epoch 61/95\n",
            "5/5 [==============================] - 0s 20ms/step - loss: 0.0061 - mae: 0.0625 - mse: 0.0061 - val_loss: 0.0086 - val_mae: 0.0782 - val_mse: 0.0086\n",
            "Epoch 62/95\n",
            "5/5 [==============================] - 0s 18ms/step - loss: 0.0061 - mae: 0.0590 - mse: 0.0061 - val_loss: 0.0094 - val_mae: 0.0829 - val_mse: 0.0094\n",
            "Epoch 63/95\n",
            "5/5 [==============================] - 0s 17ms/step - loss: 0.0090 - mae: 0.0733 - mse: 0.0090 - val_loss: 0.0069 - val_mae: 0.0653 - val_mse: 0.0069\n",
            "Epoch 64/95\n",
            "5/5 [==============================] - 0s 22ms/step - loss: 0.0048 - mae: 0.0524 - mse: 0.0048 - val_loss: 0.0104 - val_mae: 0.0787 - val_mse: 0.0104\n",
            "Epoch 65/95\n",
            "5/5 [==============================] - 0s 21ms/step - loss: 0.0069 - mae: 0.0693 - mse: 0.0069 - val_loss: 0.0088 - val_mae: 0.0695 - val_mse: 0.0088\n",
            "Epoch 66/95\n",
            "5/5 [==============================] - 0s 17ms/step - loss: 0.0054 - mae: 0.0579 - mse: 0.0054 - val_loss: 0.0072 - val_mae: 0.0717 - val_mse: 0.0072\n",
            "Epoch 67/95\n",
            "5/5 [==============================] - 0s 19ms/step - loss: 0.0049 - mae: 0.0517 - mse: 0.0049 - val_loss: 0.0073 - val_mae: 0.0740 - val_mse: 0.0073\n",
            "Epoch 68/95\n",
            "5/5 [==============================] - 0s 17ms/step - loss: 0.0066 - mae: 0.0623 - mse: 0.0066 - val_loss: 0.0063 - val_mae: 0.0630 - val_mse: 0.0063\n",
            "Epoch 69/95\n",
            "5/5 [==============================] - 0s 18ms/step - loss: 0.0046 - mae: 0.0502 - mse: 0.0046 - val_loss: 0.0084 - val_mae: 0.0681 - val_mse: 0.0084\n",
            "Epoch 70/95\n",
            "5/5 [==============================] - 0s 19ms/step - loss: 0.0048 - mae: 0.0555 - mse: 0.0048 - val_loss: 0.0086 - val_mae: 0.0693 - val_mse: 0.0086\n",
            "Epoch 71/95\n",
            "5/5 [==============================] - 0s 18ms/step - loss: 0.0047 - mae: 0.0542 - mse: 0.0047 - val_loss: 0.0070 - val_mae: 0.0665 - val_mse: 0.0070\n",
            "Epoch 72/95\n",
            "5/5 [==============================] - 0s 21ms/step - loss: 0.0039 - mae: 0.0449 - mse: 0.0039 - val_loss: 0.0066 - val_mae: 0.0682 - val_mse: 0.0066\n",
            "Epoch 73/95\n",
            "5/5 [==============================] - 0s 24ms/step - loss: 0.0049 - mae: 0.0531 - mse: 0.0049 - val_loss: 0.0061 - val_mae: 0.0626 - val_mse: 0.0061\n",
            "Epoch 74/95\n",
            "5/5 [==============================] - 0s 17ms/step - loss: 0.0044 - mae: 0.0498 - mse: 0.0044 - val_loss: 0.0071 - val_mae: 0.0637 - val_mse: 0.0071\n",
            "Epoch 75/95\n",
            "5/5 [==============================] - 0s 19ms/step - loss: 0.0040 - mae: 0.0480 - mse: 0.0040 - val_loss: 0.0083 - val_mae: 0.0692 - val_mse: 0.0083\n",
            "Epoch 76/95\n",
            "5/5 [==============================] - 0s 20ms/step - loss: 0.0045 - mae: 0.0527 - mse: 0.0045 - val_loss: 0.0071 - val_mae: 0.0657 - val_mse: 0.0071\n",
            "Epoch 77/95\n",
            "5/5 [==============================] - 0s 22ms/step - loss: 0.0038 - mae: 0.0436 - mse: 0.0038 - val_loss: 0.0067 - val_mae: 0.0683 - val_mse: 0.0067\n",
            "Epoch 78/95\n",
            "5/5 [==============================] - 0s 21ms/step - loss: 0.0044 - mae: 0.0493 - mse: 0.0044 - val_loss: 0.0063 - val_mae: 0.0655 - val_mse: 0.0063\n",
            "Epoch 79/95\n",
            "5/5 [==============================] - 0s 17ms/step - loss: 0.0045 - mae: 0.0509 - mse: 0.0045 - val_loss: 0.0067 - val_mae: 0.0636 - val_mse: 0.0067\n",
            "Epoch 80/95\n",
            "5/5 [==============================] - 0s 21ms/step - loss: 0.0038 - mae: 0.0463 - mse: 0.0038 - val_loss: 0.0083 - val_mae: 0.0702 - val_mse: 0.0083\n",
            "Epoch 81/95\n",
            "5/5 [==============================] - 0s 18ms/step - loss: 0.0044 - mae: 0.0525 - mse: 0.0044 - val_loss: 0.0074 - val_mae: 0.0667 - val_mse: 0.0074\n",
            "Epoch 82/95\n",
            "5/5 [==============================] - 0s 18ms/step - loss: 0.0038 - mae: 0.0447 - mse: 0.0038 - val_loss: 0.0068 - val_mae: 0.0693 - val_mse: 0.0068\n",
            "Epoch 83/95\n",
            "5/5 [==============================] - 0s 18ms/step - loss: 0.0042 - mae: 0.0481 - mse: 0.0042 - val_loss: 0.0065 - val_mae: 0.0680 - val_mse: 0.0065\n",
            "Epoch 84/95\n",
            "5/5 [==============================] - 0s 22ms/step - loss: 0.0049 - mae: 0.0528 - mse: 0.0049 - val_loss: 0.0064 - val_mae: 0.0630 - val_mse: 0.0064\n",
            "Epoch 85/95\n",
            "5/5 [==============================] - 0s 21ms/step - loss: 0.0038 - mae: 0.0462 - mse: 0.0038 - val_loss: 0.0085 - val_mae: 0.0714 - val_mse: 0.0085\n",
            "Epoch 86/95\n",
            "5/5 [==============================] - 0s 18ms/step - loss: 0.0047 - mae: 0.0545 - mse: 0.0047 - val_loss: 0.0077 - val_mae: 0.0680 - val_mse: 0.0077\n",
            "Epoch 87/95\n",
            "5/5 [==============================] - 0s 18ms/step - loss: 0.0041 - mae: 0.0475 - mse: 0.0041 - val_loss: 0.0070 - val_mae: 0.0707 - val_mse: 0.0070\n",
            "Epoch 88/95\n",
            "5/5 [==============================] - 0s 20ms/step - loss: 0.0043 - mae: 0.0483 - mse: 0.0043 - val_loss: 0.0068 - val_mae: 0.0708 - val_mse: 0.0068\n",
            "Epoch 89/95\n",
            "5/5 [==============================] - 0s 18ms/step - loss: 0.0054 - mae: 0.0562 - mse: 0.0054 - val_loss: 0.0061 - val_mae: 0.0619 - val_mse: 0.0061\n",
            "Epoch 90/95\n",
            "5/5 [==============================] - 0s 21ms/step - loss: 0.0040 - mae: 0.0473 - mse: 0.0040 - val_loss: 0.0085 - val_mae: 0.0717 - val_mse: 0.0085\n",
            "Epoch 91/95\n",
            "5/5 [==============================] - 0s 20ms/step - loss: 0.0049 - mae: 0.0567 - mse: 0.0049 - val_loss: 0.0080 - val_mae: 0.0686 - val_mse: 0.0080\n",
            "Epoch 92/95\n",
            "5/5 [==============================] - 0s 21ms/step - loss: 0.0044 - mae: 0.0507 - mse: 0.0044 - val_loss: 0.0072 - val_mae: 0.0717 - val_mse: 0.0072\n",
            "Epoch 93/95\n",
            "5/5 [==============================] - 0s 21ms/step - loss: 0.0042 - mae: 0.0480 - mse: 0.0042 - val_loss: 0.0071 - val_mae: 0.0728 - val_mse: 0.0071\n",
            "Epoch 94/95\n",
            "5/5 [==============================] - 0s 21ms/step - loss: 0.0057 - mae: 0.0581 - mse: 0.0057 - val_loss: 0.0059 - val_mae: 0.0625 - val_mse: 0.0059\n",
            "Epoch 95/95\n",
            "5/5 [==============================] - 0s 21ms/step - loss: 0.0042 - mae: 0.0486 - mse: 0.0042 - val_loss: 0.0080 - val_mae: 0.0687 - val_mse: 0.0080\n"
          ]
        }
      ]
    },
    {
      "cell_type": "markdown",
      "source": [
        "Plot Model Loss"
      ],
      "metadata": {
        "id": "4KLve2-WilBF"
      }
    },
    {
      "cell_type": "code",
      "source": [
        "loss = history.history['loss']\n",
        "val_loss = history.history['val_loss']\n",
        "\n",
        "epochs=range(len(loss)) \n",
        "\n",
        "\n",
        "#------------------------------------------------\n",
        "# Plot training and validation loss per epoch\n",
        "#------------------------------------------------\n",
        "plt.plot(epochs, loss, 'r',label='loss')\n",
        "plt.plot(epochs,val_loss,'blue',label='val loss')\n",
        "plt.title('Training loss & Val Loss by Epochs')\n",
        "plt.xlabel(\"Epochs\")\n",
        "plt.ylabel(\"Loss\")\n",
        "plt.legend()\n",
        "plt.figure()\n",
        "plt.savefig('OptTLV.png')"
      ],
      "metadata": {
        "colab": {
          "base_uri": "https://localhost:8080/",
          "height": 421
        },
        "id": "DXBeY_MGZSMP",
        "outputId": "4629b457-7ec8-45a8-ce76-09dd9a10f1ff"
      },
      "execution_count": 41,
      "outputs": [
        {
          "output_type": "display_data",
          "data": {
            "text/plain": [
              "<Figure size 720x360 with 1 Axes>"
            ],
            "image/png": "[encoded data removed]"
          },
          "metadata": {}
        },
        {
          "output_type": "display_data",
          "data": {
            "text/plain": [
              "<Figure size 720x360 with 0 Axes>"
            ]
          },
          "metadata": {}
        }
      ]
    },
    {
      "cell_type": "code",
      "source": [
        "y_predTU = TUGRU_model.predict(X_test)\n",
        "y_predTU"
      ],
      "metadata": {
        "colab": {
          "base_uri": "https://localhost:8080/"
        },
        "id": "JbqyY5OriQYh",
        "outputId": "6f27dea7-a6ab-4d32-ea9a-f35124c6b806"
      },
      "execution_count": 42,
      "outputs": [
        {
          "output_type": "stream",
          "name": "stdout",
          "text": [
            "1/1 [==============================] - 0s 150ms/step\n"
          ]
        },
        {
          "output_type": "execute_result",
          "data": {
            "text/plain": [
              "array([[ 0.07189797],\n",
              "       [ 0.08557712],\n",
              "       [ 0.12526073],\n",
              "       [ 0.01553357],\n",
              "       [ 0.01076974],\n",
              "       [ 0.00196782],\n",
              "       [-0.01013614],\n",
              "       [-0.06455691],\n",
              "       [-0.15222038],\n",
              "       [-0.15413363],\n",
              "       [-0.12373114],\n",
              "       [-0.14051463],\n",
              "       [-0.16538107],\n",
              "       [-0.11956879],\n",
              "       [-0.12755364],\n",
              "       [-0.18659152],\n",
              "       [-0.15377282],\n",
              "       [ 0.04290471],\n",
              "       [ 0.12296125],\n",
              "       [-0.00805798],\n",
              "       [-0.08147328],\n",
              "       [ 0.03688107]], dtype=float32)"
            ]
          },
          "metadata": {},
          "execution_count": 42
        }
      ]
    },
    {
      "cell_type": "code",
      "source": [
        "y_predTU.reshape(1,-1)"
      ],
      "metadata": {
        "colab": {
          "base_uri": "https://localhost:8080/"
        },
        "id": "rVI1OXjV8qOL",
        "outputId": "1fc9fbd7-2316-462a-d568-0973886ea9a7"
      },
      "execution_count": 43,
      "outputs": [
        {
          "output_type": "execute_result",
          "data": {
            "text/plain": [
              "array([[ 0.07189797,  0.08557712,  0.12526073,  0.01553357,  0.01076974,\n",
              "         0.00196782, -0.01013614, -0.06455691, -0.15222038, -0.15413363,\n",
              "        -0.12373114, -0.14051463, -0.16538107, -0.11956879, -0.12755364,\n",
              "        -0.18659152, -0.15377282,  0.04290471,  0.12296125, -0.00805798,\n",
              "        -0.08147328,  0.03688107]], dtype=float32)"
            ]
          },
          "metadata": {},
          "execution_count": 43
        }
      ]
    },
    {
      "cell_type": "markdown",
      "source": [
        "###Invert Transformed Tuned Data"
      ],
      "metadata": {
        "id": "XXPkM7CFsB5U"
      }
    },
    {
      "cell_type": "code",
      "source": [
        "y_train_inv = cpo_pri_transformer.inverse_transform(y_train.reshape(1, -1))\n",
        "y_test_inv = cpo_pri_transformer.inverse_transform(y_test.reshape(1, -1))\n",
        "y_pred_inv = cpo_pri_transformer.inverse_transform(y_predTU.reshape(1,-1))\n",
        "print(y_train_inv)\n",
        "print(y_test_inv)\n",
        "print(y_pred_inv)"
      ],
      "metadata": {
        "colab": {
          "base_uri": "https://localhost:8080/"
        },
        "id": "gZ8inWeYy64m",
        "outputId": "e119b181-4657-457b-c659-d6fb579e905c"
      },
      "execution_count": 44,
      "outputs": [
        {
          "output_type": "stream",
          "name": "stdout",
          "text": [
            "[[376. 383. 382. 396. 402. 390. 404. 382. 382. 391. 396. 413. 401. 410.\n",
            "  425. 408. 392. 371. 356. 362. 356. 352. 333. 357. 411. 404. 387. 395.\n",
            "  434. 488. 508. 494. 575. 614. 616. 707. 719. 655. 661. 687. 625. 611.\n",
            "  631. 655. 616. 586. 615. 607. 590. 535. 518. 519. 562. 552. 508. 476.\n",
            "  513. 545. 532. 550. 561. 567. 580. 559. 562. 553. 533. 498. 504. 525.\n",
            "  547. 556. 566. 621. 659. 671. 688. 705. 633. 661. 674. 703. 694. 681.\n",
            "  663. 632. 561. 497. 509. 475. 392. 319. 354. 388. 381. 370.]]\n",
            "[[349. 372. 324. 315. 312. 306. 288. 255. 257. 265. 254. 240. 254. 251.\n",
            "  234. 255. 330. 362. 310. 277. 323. 360.]]\n",
            "[[347.7592  353.23087 369.10428 325.21344 323.3079  319.7871  314.94556\n",
            "  293.17725 258.11185 257.34656 269.50754 262.79416 252.84758 271.1725\n",
            "  267.97855 244.3634  257.49088 336.16187 368.1845  315.7768  286.41068\n",
            "  333.7524 ]]\n"
          ]
        }
      ]
    },
    {
      "cell_type": "code",
      "source": [
        "y_train_inv = y_train_inv.flatten()\n",
        "y_train_inv"
      ],
      "metadata": {
        "colab": {
          "base_uri": "https://localhost:8080/"
        },
        "id": "2g9TLmgHy7Hw",
        "outputId": "ebc2f9b5-112d-4847-af01-d4a643cf2a7f"
      },
      "execution_count": 45,
      "outputs": [
        {
          "output_type": "execute_result",
          "data": {
            "text/plain": [
              "array([376., 383., 382., 396., 402., 390., 404., 382., 382., 391., 396.,\n",
              "       413., 401., 410., 425., 408., 392., 371., 356., 362., 356., 352.,\n",
              "       333., 357., 411., 404., 387., 395., 434., 488., 508., 494., 575.,\n",
              "       614., 616., 707., 719., 655., 661., 687., 625., 611., 631., 655.,\n",
              "       616., 586., 615., 607., 590., 535., 518., 519., 562., 552., 508.,\n",
              "       476., 513., 545., 532., 550., 561., 567., 580., 559., 562., 553.,\n",
              "       533., 498., 504., 525., 547., 556., 566., 621., 659., 671., 688.,\n",
              "       705., 633., 661., 674., 703., 694., 681., 663., 632., 561., 497.,\n",
              "       509., 475., 392., 319., 354., 388., 381., 370.])"
            ]
          },
          "metadata": {},
          "execution_count": 45
        }
      ]
    },
    {
      "cell_type": "code",
      "source": [
        "y_test_inv = y_test_inv.flatten()\n",
        "y_test_inv"
      ],
      "metadata": {
        "colab": {
          "base_uri": "https://localhost:8080/"
        },
        "id": "PDdnZUrXy7L4",
        "outputId": "e1e91b59-b5a7-4893-c52d-a06edfc3a825"
      },
      "execution_count": 46,
      "outputs": [
        {
          "output_type": "execute_result",
          "data": {
            "text/plain": [
              "array([349., 372., 324., 315., 312., 306., 288., 255., 257., 265., 254.,\n",
              "       240., 254., 251., 234., 255., 330., 362., 310., 277., 323., 360.])"
            ]
          },
          "metadata": {},
          "execution_count": 46
        }
      ]
    },
    {
      "cell_type": "code",
      "source": [
        "TU_GRU_Pred = y_pred_inv.flatten()   #y_pred_inv = TU_GRU_Pred\n",
        "TU_GRU_Pred"
      ],
      "metadata": {
        "colab": {
          "base_uri": "https://localhost:8080/"
        },
        "id": "fqq4-3-lsuEy",
        "outputId": "a5f6a514-28d0-4ea4-8e46-e7bfbf4605d6"
      },
      "execution_count": 47,
      "outputs": [
        {
          "output_type": "execute_result",
          "data": {
            "text/plain": [
              "array([347.7592 , 353.23087, 369.10428, 325.21344, 323.3079 , 319.7871 ,\n",
              "       314.94556, 293.17725, 258.11185, 257.34656, 269.50754, 262.79416,\n",
              "       252.84758, 271.1725 , 267.97855, 244.3634 , 257.49088, 336.16187,\n",
              "       368.1845 , 315.7768 , 286.41068, 333.7524 ], dtype=float32)"
            ]
          },
          "metadata": {},
          "execution_count": 47
        }
      ]
    },
    {
      "cell_type": "code",
      "source": [
        "plt.plot(np.arange(0, len(y_train)), y_train_inv, color='green', label=\"History\")\n",
        "plt.plot(np.arange(len(y_train), len(y_train) + len(y_test)), y_test_inv, color='blue', marker='.', label=\"Actual\")\n",
        "plt.plot(np.arange(len(y_train), len(y_train) + len(y_test)), TU_GRU_Pred, color='red', label=\"Optimized GRU Prediction\")\n",
        "plt.ylabel('Crude Palm Oil Price')\n",
        "plt.xlabel('Time step')\n",
        "plt.legend()\n",
        "plt.show();\n",
        "plt.savefig('GRUOpt.png')"
      ],
      "metadata": {
        "colab": {
          "base_uri": "https://localhost:8080/",
          "height": 400
        },
        "id": "nBN919VXsuNq",
        "outputId": "8b270494-2430-4a07-e60b-44fb006dada0"
      },
      "execution_count": 48,
      "outputs": [
        {
          "output_type": "display_data",
          "data": {
            "text/plain": [
              "<Figure size 720x360 with 1 Axes>"
            ],
            "image/png": "[encoded data removed]"
          },
          "metadata": {}
        },
        {
          "output_type": "display_data",
          "data": {
            "text/plain": [
              "<Figure size 720x360 with 0 Axes>"
            ]
          },
          "metadata": {}
        }
      ]
    },
    {
      "cell_type": "markdown",
      "source": [
        "### Optimized GRU Model Metric"
      ],
      "metadata": {
        "id": "gVFw8nYtGl1Q"
      }
    },
    {
      "cell_type": "code",
      "source": [
        "TUMAE_GRU = mean_absolute_error(y_test_inv, TU_GRU_Pred)\n",
        "print('MAE value of the GRU Model is:', TUMAE_GRU)\n",
        "\n",
        "TUMDA_GRU = mda(y_test_inv, TU_GRU_Pred)\n",
        "print('MDA value of the tuned GRU Model is:', TUMDA_GRU)\n",
        "\n",
        "TUMAPE_GRU = mean_absolute_percentage_error(y_test_inv, TU_GRU_Pred)\n",
        "print('MAPE value of the tuned GRU Model is:', TUMAPE_GRU)\n",
        "\n",
        "TURMSE_GRU = mean_squared_error(y_test_inv,TU_GRU_Pred, squared=False)\n",
        "print('RMSE value of the tuned GRU Model is:', TURMSE_GRU)\n",
        "\n",
        "TUMSE_GRU = mean_squared_error(y_test_inv,TU_GRU_Pred)\n",
        "print('MSE value of the tuned GRU Model is:', TUMSE_GRU)"
      ],
      "metadata": {
        "colab": {
          "base_uri": "https://localhost:8080/"
        },
        "id": "FqciJO0esuRc",
        "outputId": "e9587ab4-1159-4891-ccd4-f59e486e1f4b"
      },
      "execution_count": 49,
      "outputs": [
        {
          "output_type": "stream",
          "name": "stdout",
          "text": [
            "MAE value of the GRU Model is: 24.395362854003906\n",
            "MDA value of the tuned GRU Model is: 0.5714285714285714\n",
            "MAPE value of the tuned GRU Model is: 8.255687022485882\n",
            "RMSE value of the tuned GRU Model is: 30.400229527526193\n",
            "MSE value of the tuned GRU Model is: 924.1739553262755\n"
          ]
        }
      ]
    },
    {
      "cell_type": "markdown",
      "source": [
        "###Optimized GRU model prediction visualization"
      ],
      "metadata": {
        "id": "sAxPKJkoGEIO"
      }
    },
    {
      "cell_type": "markdown",
      "source": [
        "Comparing tuned GRU Actual VS Predicted (Zoomed-IN)"
      ],
      "metadata": {
        "id": "oczznVkQihRI"
      }
    },
    {
      "cell_type": "code",
      "source": [
        "#Plot the graph between actual vs predicted values\n",
        "#plt.figure(figsize=(15,7))  #(10,6))\n",
        "plt.figure(figsize=(16,8), dpi= 100, facecolor='w', edgecolor='k')\n",
        "plt.plot(TU_GRU_Pred, color= 'green',marker='.',label = 'Tuned GRU Predicted - cpo_pri')\n",
        "plt.plot(y_test_inv, color = 'red',marker='.',label = 'Actual cpo_pri ')\n",
        "plt.title(\"Optimized GRU Crude Palm Oil Price Prediction (Multivariate)\")\n",
        "plt.xlabel(\"Time step\")\n",
        "plt.ylabel(\"Crude Palm Oil Price\")\n",
        "plt.legend()\n",
        "plt.show()\n",
        "plt.savefig('graph_TUGRU.png')"
      ],
      "metadata": {
        "colab": {
          "base_uri": "https://localhost:8080/",
          "height": 805
        },
        "id": "RmqyhCu_iV_w",
        "outputId": "ccafcca6-4e9d-44dd-cda1-2b2767f78f38"
      },
      "execution_count": null,
      "outputs": [
        {
          "output_type": "display_data",
          "data": {
            "text/plain": [
              "<Figure size 1600x800 with 1 Axes>"
            ],
            "image/png": "[encoded data removed]"
          },
          "metadata": {}
        },
        {
          "output_type": "display_data",
          "data": {
            "text/plain": [
              "<Figure size 720x360 with 0 Axes>"
            ]
          },
          "metadata": {}
        }
      ]
    },
    {
      "cell_type": "markdown",
      "source": [
        "###Comparing the optimized GRU, GRU, Bayesian and Random search models"
      ],
      "metadata": {
        "id": "xoeTrMBsDemZ"
      }
    },
    {
      "cell_type": "markdown",
      "source": [
        "* Baseline GRU MSE = 0.0153\n",
        "* Random search MSE = 0.0511\n",
        "* Bayesian search MSE = 0.1467\n",
        "* Hyperband search MSE = 0.0119\n",
        "* Baseline GRU RSME = 45.29\n",
        "* Optimized GRU RSME = 30.65"
      ],
      "metadata": {
        "id": "LBS5TctUReDx"
      }
    },
    {
      "cell_type": "markdown",
      "source": [
        "The tuned GRU is superior to the basseline based on the RSME result"
      ],
      "metadata": {
        "id": "J9SI5KHvtAsT"
      }
    },
    {
      "cell_type": "code",
      "source": [
        "'''\n",
        "optimizerL = ['SGD', 'Adam', 'RMSprop', 'Adadelta', 'Adagrad', 'Adamax', 'Nadam', 'Ftrl','SGD']\n",
        "    optimizerD= {'Adam':Adam(lr=learning_rate), 'SGD':SGD(lr=learning_rate),\n",
        "                 'RMSprop':RMSprop(lr=learning_rate), 'Adadelta':Adadelta(lr=learning_rate),\n",
        "                 'Adagrad':Adagrad(lr=learning_rate), 'Adamax':Adamax(lr=learning_rate),\n",
        "                 'Nadam':Nadam(lr=learning_rate), 'Ftrl':Ftrl(lr=learning_rate)}\n",
        "\n",
        "    activationL = ['relu', 'sigmoid', 'softplus', 'softsign', 'tanh', 'selu',\n",
        "                   'elu', 'exponential', LeakyReLU,'relu']\n",
        "'''"
      ],
      "metadata": {
        "id": "JLZgaBe6uWbe"
      },
      "execution_count": null,
      "outputs": []
    }
  ]
}