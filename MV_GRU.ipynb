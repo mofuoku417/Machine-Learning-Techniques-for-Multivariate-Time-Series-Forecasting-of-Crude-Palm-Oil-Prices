{
  "nbformat": 4,
  "nbformat_minor": 0,
  "metadata": {
    "colab": {
      "provenance": [],
      "authorship_tag": "ABX9TyMuF/Ti6xxn3jrDX2jAnAUc",
      "include_colab_link": true
    },
    "kernelspec": {
      "name": "python3",
      "display_name": "Python 3"
    },
    "language_info": {
      "name": "python"
    },
    "gpuClass": "standard",
    "accelerator": "GPU"
  },
  "cells": [
    {
      "cell_type": "markdown",
      "metadata": {
        "id": "view-in-github",
        "colab_type": "text"
      },
      "source": [
        "<a href=\"https://colab.research.google.com/github/mofuoku417/Machine-Learning-Techniques-for-Multivariate-Time-Series-Forecasting-of-Crude-Palm-Oil-Prices/blob/main/MV_GRU.ipynb\" target=\"_parent\"><img src=\"https://colab.research.google.com/assets/colab-badge.svg\" alt=\"Open In Colab\"/></a>"
      ]
    },
    {
      "cell_type": "markdown",
      "source": [
        "##Objective: Predict Monthly Crude Palm Oil Price Using Convolutional Neural Network (GRU)"
      ],
      "metadata": {
        "id": "tt6Yvzr3gZ-g"
      }
    },
    {
      "cell_type": "markdown",
      "source": [
        "###Install dependencies"
      ],
      "metadata": {
        "id": "TvRmatc1Lo4v"
      }
    },
    {
      "cell_type": "code",
      "source": [
        "!pip install scikeras\n",
        "!pip install bayesian-optimization\n",
        "!pip install keras-tuner --upgrade"
      ],
      "metadata": {
        "id": "gGw0m6TUdgMM",
        "outputId": "5e6051ec-9330-4df5-ddc6-774593c58a63",
        "colab": {
          "base_uri": "https://localhost:8080/"
        }
      },
      "execution_count": 2,
      "outputs": [
        {
          "output_type": "stream",
          "name": "stdout",
          "text": [
            "Looking in indexes: https://pypi.org/simple, https://us-python.pkg.dev/colab-wheels/public/simple/\n",
            "Collecting scikeras\n",
            "  Downloading scikeras-0.10.0-py3-none-any.whl (27 kB)\n",
            "Requirement already satisfied: packaging>=0.21 in /usr/local/lib/python3.8/dist-packages (from scikeras) (23.0)\n",
            "Requirement already satisfied: scikit-learn>=1.0.0 in /usr/local/lib/python3.8/dist-packages (from scikeras) (1.0.2)\n",
            "Requirement already satisfied: threadpoolctl>=2.0.0 in /usr/local/lib/python3.8/dist-packages (from scikit-learn>=1.0.0->scikeras) (3.1.0)\n",
            "Requirement already satisfied: scipy>=1.1.0 in /usr/local/lib/python3.8/dist-packages (from scikit-learn>=1.0.0->scikeras) (1.7.3)\n",
            "Requirement already satisfied: numpy>=1.14.6 in /usr/local/lib/python3.8/dist-packages (from scikit-learn>=1.0.0->scikeras) (1.21.6)\n",
            "Requirement already satisfied: joblib>=0.11 in /usr/local/lib/python3.8/dist-packages (from scikit-learn>=1.0.0->scikeras) (1.2.0)\n",
            "Installing collected packages: scikeras\n",
            "Successfully installed scikeras-0.10.0\n",
            "Looking in indexes: https://pypi.org/simple, https://us-python.pkg.dev/colab-wheels/public/simple/\n",
            "Collecting bayesian-optimization\n",
            "  Downloading bayesian_optimization-1.4.2-py3-none-any.whl (17 kB)\n",
            "Requirement already satisfied: scikit-learn>=0.18.0 in /usr/local/lib/python3.8/dist-packages (from bayesian-optimization) (1.0.2)\n",
            "Requirement already satisfied: scipy>=1.0.0 in /usr/local/lib/python3.8/dist-packages (from bayesian-optimization) (1.7.3)\n",
            "Requirement already satisfied: numpy>=1.9.0 in /usr/local/lib/python3.8/dist-packages (from bayesian-optimization) (1.21.6)\n",
            "Collecting colorama>=0.4.6\n",
            "  Downloading colorama-0.4.6-py2.py3-none-any.whl (25 kB)\n",
            "Requirement already satisfied: threadpoolctl>=2.0.0 in /usr/local/lib/python3.8/dist-packages (from scikit-learn>=0.18.0->bayesian-optimization) (3.1.0)\n",
            "Requirement already satisfied: joblib>=0.11 in /usr/local/lib/python3.8/dist-packages (from scikit-learn>=0.18.0->bayesian-optimization) (1.2.0)\n",
            "Installing collected packages: colorama, bayesian-optimization\n",
            "Successfully installed bayesian-optimization-1.4.2 colorama-0.4.6\n",
            "Looking in indexes: https://pypi.org/simple, https://us-python.pkg.dev/colab-wheels/public/simple/\n",
            "Collecting keras-tuner\n",
            "  Downloading keras_tuner-1.2.1-py3-none-any.whl (169 kB)\n",
            "\u001b[2K     \u001b[90m━━━━━━━━━━━━━━━━━━━━━━━━━━━━━━━━━━━━━━━\u001b[0m \u001b[32m169.6/169.6 KB\u001b[0m \u001b[31m5.1 MB/s\u001b[0m eta \u001b[36m0:00:00\u001b[0m\n",
            "\u001b[?25hCollecting kt-legacy\n",
            "  Downloading kt_legacy-1.0.4-py3-none-any.whl (9.6 kB)\n",
            "Requirement already satisfied: ipython in /usr/local/lib/python3.8/dist-packages (from keras-tuner) (7.9.0)\n",
            "Requirement already satisfied: packaging in /usr/local/lib/python3.8/dist-packages (from keras-tuner) (23.0)\n",
            "Requirement already satisfied: requests in /usr/local/lib/python3.8/dist-packages (from keras-tuner) (2.25.1)\n",
            "Requirement already satisfied: tensorflow>=2.0 in /usr/local/lib/python3.8/dist-packages (from keras-tuner) (2.11.0)\n",
            "Requirement already satisfied: h5py>=2.9.0 in /usr/local/lib/python3.8/dist-packages (from tensorflow>=2.0->keras-tuner) (3.1.0)\n",
            "Requirement already satisfied: keras<2.12,>=2.11.0 in /usr/local/lib/python3.8/dist-packages (from tensorflow>=2.0->keras-tuner) (2.11.0)\n",
            "Requirement already satisfied: astunparse>=1.6.0 in /usr/local/lib/python3.8/dist-packages (from tensorflow>=2.0->keras-tuner) (1.6.3)\n",
            "Requirement already satisfied: grpcio<2.0,>=1.24.3 in /usr/local/lib/python3.8/dist-packages (from tensorflow>=2.0->keras-tuner) (1.51.1)\n",
            "Requirement already satisfied: libclang>=13.0.0 in /usr/local/lib/python3.8/dist-packages (from tensorflow>=2.0->keras-tuner) (15.0.6.1)\n",
            "Requirement already satisfied: tensorflow-io-gcs-filesystem>=0.23.1 in /usr/local/lib/python3.8/dist-packages (from tensorflow>=2.0->keras-tuner) (0.30.0)\n",
            "Requirement already satisfied: google-pasta>=0.1.1 in /usr/local/lib/python3.8/dist-packages (from tensorflow>=2.0->keras-tuner) (0.2.0)\n",
            "Requirement already satisfied: flatbuffers>=2.0 in /usr/local/lib/python3.8/dist-packages (from tensorflow>=2.0->keras-tuner) (23.1.21)\n",
            "Requirement already satisfied: setuptools in /usr/local/lib/python3.8/dist-packages (from tensorflow>=2.0->keras-tuner) (57.4.0)\n",
            "Requirement already satisfied: absl-py>=1.0.0 in /usr/local/lib/python3.8/dist-packages (from tensorflow>=2.0->keras-tuner) (1.4.0)\n",
            "Requirement already satisfied: wrapt>=1.11.0 in /usr/local/lib/python3.8/dist-packages (from tensorflow>=2.0->keras-tuner) (1.14.1)\n",
            "Requirement already satisfied: protobuf<3.20,>=3.9.2 in /usr/local/lib/python3.8/dist-packages (from tensorflow>=2.0->keras-tuner) (3.19.6)\n",
            "Requirement already satisfied: six>=1.12.0 in /usr/local/lib/python3.8/dist-packages (from tensorflow>=2.0->keras-tuner) (1.15.0)\n",
            "Requirement already satisfied: numpy>=1.20 in /usr/local/lib/python3.8/dist-packages (from tensorflow>=2.0->keras-tuner) (1.21.6)\n",
            "Requirement already satisfied: typing-extensions>=3.6.6 in /usr/local/lib/python3.8/dist-packages (from tensorflow>=2.0->keras-tuner) (4.4.0)\n",
            "Requirement already satisfied: tensorflow-estimator<2.12,>=2.11.0 in /usr/local/lib/python3.8/dist-packages (from tensorflow>=2.0->keras-tuner) (2.11.0)\n",
            "Requirement already satisfied: termcolor>=1.1.0 in /usr/local/lib/python3.8/dist-packages (from tensorflow>=2.0->keras-tuner) (2.2.0)\n",
            "Requirement already satisfied: opt-einsum>=2.3.2 in /usr/local/lib/python3.8/dist-packages (from tensorflow>=2.0->keras-tuner) (3.3.0)\n",
            "Requirement already satisfied: gast<=0.4.0,>=0.2.1 in /usr/local/lib/python3.8/dist-packages (from tensorflow>=2.0->keras-tuner) (0.4.0)\n",
            "Requirement already satisfied: tensorboard<2.12,>=2.11 in /usr/local/lib/python3.8/dist-packages (from tensorflow>=2.0->keras-tuner) (2.11.2)\n",
            "Collecting jedi>=0.10\n",
            "  Downloading jedi-0.18.2-py2.py3-none-any.whl (1.6 MB)\n",
            "\u001b[2K     \u001b[90m━━━━━━━━━━━━━━━━━━━━━━━━━━━━━━━━━━━━━━━━\u001b[0m \u001b[32m1.6/1.6 MB\u001b[0m \u001b[31m39.0 MB/s\u001b[0m eta \u001b[36m0:00:00\u001b[0m\n",
            "\u001b[?25hRequirement already satisfied: decorator in /usr/local/lib/python3.8/dist-packages (from ipython->keras-tuner) (4.4.2)\n",
            "Requirement already satisfied: pexpect in /usr/local/lib/python3.8/dist-packages (from ipython->keras-tuner) (4.8.0)\n",
            "Requirement already satisfied: traitlets>=4.2 in /usr/local/lib/python3.8/dist-packages (from ipython->keras-tuner) (5.7.1)\n",
            "Requirement already satisfied: pygments in /usr/local/lib/python3.8/dist-packages (from ipython->keras-tuner) (2.6.1)\n",
            "Requirement already satisfied: backcall in /usr/local/lib/python3.8/dist-packages (from ipython->keras-tuner) (0.2.0)\n",
            "Requirement already satisfied: prompt-toolkit<2.1.0,>=2.0.0 in /usr/local/lib/python3.8/dist-packages (from ipython->keras-tuner) (2.0.10)\n",
            "Requirement already satisfied: pickleshare in /usr/local/lib/python3.8/dist-packages (from ipython->keras-tuner) (0.7.5)\n",
            "Requirement already satisfied: urllib3<1.27,>=1.21.1 in /usr/local/lib/python3.8/dist-packages (from requests->keras-tuner) (1.24.3)\n",
            "Requirement already satisfied: idna<3,>=2.5 in /usr/local/lib/python3.8/dist-packages (from requests->keras-tuner) (2.10)\n",
            "Requirement already satisfied: certifi>=2017.4.17 in /usr/local/lib/python3.8/dist-packages (from requests->keras-tuner) (2022.12.7)\n",
            "Requirement already satisfied: chardet<5,>=3.0.2 in /usr/local/lib/python3.8/dist-packages (from requests->keras-tuner) (4.0.0)\n",
            "Requirement already satisfied: wheel<1.0,>=0.23.0 in /usr/local/lib/python3.8/dist-packages (from astunparse>=1.6.0->tensorflow>=2.0->keras-tuner) (0.38.4)\n",
            "Requirement already satisfied: parso<0.9.0,>=0.8.0 in /usr/local/lib/python3.8/dist-packages (from jedi>=0.10->ipython->keras-tuner) (0.8.3)\n",
            "Requirement already satisfied: wcwidth in /usr/local/lib/python3.8/dist-packages (from prompt-toolkit<2.1.0,>=2.0.0->ipython->keras-tuner) (0.2.6)\n",
            "Requirement already satisfied: tensorboard-data-server<0.7.0,>=0.6.0 in /usr/local/lib/python3.8/dist-packages (from tensorboard<2.12,>=2.11->tensorflow>=2.0->keras-tuner) (0.6.1)\n",
            "Requirement already satisfied: markdown>=2.6.8 in /usr/local/lib/python3.8/dist-packages (from tensorboard<2.12,>=2.11->tensorflow>=2.0->keras-tuner) (3.4.1)\n",
            "Requirement already satisfied: tensorboard-plugin-wit>=1.6.0 in /usr/local/lib/python3.8/dist-packages (from tensorboard<2.12,>=2.11->tensorflow>=2.0->keras-tuner) (1.8.1)\n",
            "Requirement already satisfied: werkzeug>=1.0.1 in /usr/local/lib/python3.8/dist-packages (from tensorboard<2.12,>=2.11->tensorflow>=2.0->keras-tuner) (1.0.1)\n",
            "Requirement already satisfied: google-auth<3,>=1.6.3 in /usr/local/lib/python3.8/dist-packages (from tensorboard<2.12,>=2.11->tensorflow>=2.0->keras-tuner) (2.16.0)\n",
            "Requirement already satisfied: google-auth-oauthlib<0.5,>=0.4.1 in /usr/local/lib/python3.8/dist-packages (from tensorboard<2.12,>=2.11->tensorflow>=2.0->keras-tuner) (0.4.6)\n",
            "Requirement already satisfied: ptyprocess>=0.5 in /usr/local/lib/python3.8/dist-packages (from pexpect->ipython->keras-tuner) (0.7.0)\n",
            "Requirement already satisfied: rsa<5,>=3.1.4 in /usr/local/lib/python3.8/dist-packages (from google-auth<3,>=1.6.3->tensorboard<2.12,>=2.11->tensorflow>=2.0->keras-tuner) (4.9)\n",
            "Requirement already satisfied: pyasn1-modules>=0.2.1 in /usr/local/lib/python3.8/dist-packages (from google-auth<3,>=1.6.3->tensorboard<2.12,>=2.11->tensorflow>=2.0->keras-tuner) (0.2.8)\n",
            "Requirement already satisfied: cachetools<6.0,>=2.0.0 in /usr/local/lib/python3.8/dist-packages (from google-auth<3,>=1.6.3->tensorboard<2.12,>=2.11->tensorflow>=2.0->keras-tuner) (5.3.0)\n",
            "Requirement already satisfied: requests-oauthlib>=0.7.0 in /usr/local/lib/python3.8/dist-packages (from google-auth-oauthlib<0.5,>=0.4.1->tensorboard<2.12,>=2.11->tensorflow>=2.0->keras-tuner) (1.3.1)\n",
            "Requirement already satisfied: importlib-metadata>=4.4 in /usr/local/lib/python3.8/dist-packages (from markdown>=2.6.8->tensorboard<2.12,>=2.11->tensorflow>=2.0->keras-tuner) (6.0.0)\n",
            "Requirement already satisfied: zipp>=0.5 in /usr/local/lib/python3.8/dist-packages (from importlib-metadata>=4.4->markdown>=2.6.8->tensorboard<2.12,>=2.11->tensorflow>=2.0->keras-tuner) (3.12.1)\n",
            "Requirement already satisfied: pyasn1<0.5.0,>=0.4.6 in /usr/local/lib/python3.8/dist-packages (from pyasn1-modules>=0.2.1->google-auth<3,>=1.6.3->tensorboard<2.12,>=2.11->tensorflow>=2.0->keras-tuner) (0.4.8)\n",
            "Requirement already satisfied: oauthlib>=3.0.0 in /usr/local/lib/python3.8/dist-packages (from requests-oauthlib>=0.7.0->google-auth-oauthlib<0.5,>=0.4.1->tensorboard<2.12,>=2.11->tensorflow>=2.0->keras-tuner) (3.2.2)\n",
            "Installing collected packages: kt-legacy, jedi, keras-tuner\n",
            "Successfully installed jedi-0.18.2 keras-tuner-1.2.1 kt-legacy-1.0.4\n"
          ]
        }
      ]
    },
    {
      "cell_type": "markdown",
      "source": [
        "###Load Libraries"
      ],
      "metadata": {
        "id": "r_2Cswg0sYN8"
      }
    },
    {
      "cell_type": "code",
      "source": [
        "from numpy.random import seed\n",
        "seed(1)\n",
        "import tensorflow as tf\n",
        "tf.random.set_seed(1)\n",
        "\n",
        "import pandas as pd\n",
        "import numpy as np\n",
        "import matplotlib.pyplot as plt\n",
        "import pickle\n",
        "import os\n",
        "import seaborn as sns\n",
        "plt.rcParams['figure.figsize'] = (10, 5)\n",
        "plt.style.use('fivethirtyeight')\n",
        "from plotly.subplots import make_subplots\n",
        "import plotly.graph_objects as go\n",
        "import tensorflow as tf\n",
        "from tensorflow.keras import layers\n",
        "from sklearn.metrics import mean_absolute_error\n",
        "from sklearn.metrics import make_scorer, mean_squared_error\n",
        "from keras.layers import Dense, Dropout\n",
        "from sklearn.metrics import explained_variance_score\n",
        "from sklearn.neural_network import MLPRegressor\n",
        "from sklearn.model_selection import GridSearchCV, RandomizedSearchCV\n",
        "import warnings\n",
        "warnings.filterwarnings('ignore')\n",
        "from keras.models import Sequential\n",
        "from keras.layers import Dense\n",
        "from keras.wrappers.scikit_learn import KerasRegressor\n",
        "from keras.wrappers.scikit_learn import KerasClassifier\n",
        "from sklearn.model_selection import KFold, cross_val_score\n",
        "from scikeras.wrappers import KerasRegressor\n",
        "from tensorflow import keras\n",
        "from kerastuner.tuners import RandomSearch\n",
        "from kerastuner import HyperModel, RandomSearch, Hyperband, BayesianOptimization\n",
        "from keras.callbacks import EarlyStopping\n",
        "from time import time\n",
        "import pickle\n",
        "\n",
        "import matplotlib.dates as mdates\n",
        "from sklearn.preprocessing import RobustScaler\n",
        "from sklearn.preprocessing import MinMaxScaler"
      ],
      "metadata": {
        "id": "eJUaw5qy34It"
      },
      "execution_count": 3,
      "outputs": []
    },
    {
      "cell_type": "markdown",
      "source": [
        "###Define Functions to Facilitate Metrics Evaluation"
      ],
      "metadata": {
        "id": "Gzu9V2o2gfZG"
      }
    },
    {
      "cell_type": "code",
      "source": [
        "#To compute Mean Directional Accuracy\n",
        "def mda(actual: np.ndarray, predicted: np.ndarray):\n",
        "    \"\"\" Mean Directional Accuracy \"\"\"\n",
        "    return np.mean((np.sign(actual[1:] - actual[:-1]) == np.sign(predicted[1:] - predicted[:-1])).astype(int))\n",
        "\n",
        "#Calculate the Mean Absolute Percentage Error\n",
        "#def MAPE(y_true, y_pred): \n",
        "    #mape = np.mean(np.abs((np.array(y_true) - np.array(y_pred)) / np.array(y_true))) * 100\n",
        "    #return mape\n",
        "\n",
        "def mean_absolute_percentage_error(y_true, y_pred): \n",
        "    y_true, y_pred = np.array(y_true), np.array(y_pred)\n",
        "    return np.mean(np.abs((y_true - y_pred) / y_true)) * 100\n",
        "\n",
        "def MAPE(y_true, y_pred): \n",
        "    y_true, y_pred = np.array(y_true), np.array(y_pred)\n",
        "    return np.mean(np.abs((y_true - y_pred) / y_true)) * 100\n",
        "\n",
        "#Calculate the Root Mean Squared Error:\n",
        "def RMSE(y_true, y_pred): \n",
        "    rmse = np.sqrt(mean_squared_error(y_true, y_pred))\n",
        "    return rmse"
      ],
      "metadata": {
        "id": "k7RYx1rN_Yf_"
      },
      "execution_count": 4,
      "outputs": []
    },
    {
      "cell_type": "markdown",
      "source": [
        "###Load the Cleaned Data from Github"
      ],
      "metadata": {
        "id": "FVpIGyF7g4od"
      }
    },
    {
      "cell_type": "code",
      "source": [
        "from pandas import read_csv\n",
        "path = 'https://raw.githubusercontent.com/mofuoku417/Machine-Learning-Techniques-for-Multivariate-Time-Series-Forecasting-of-Crude-Palm-Oil-Prices/main/Cleaned_data/FS_2.csv'\n",
        "df = read_csv(path)\n",
        "df.head()"
      ],
      "metadata": {
        "colab": {
          "base_uri": "https://localhost:8080/",
          "height": 228
        },
        "id": "z_6wFR8b3xZf",
        "outputId": "dfd29715-1b99-4171-ef6e-d75df488baaa"
      },
      "execution_count": 5,
      "outputs": [
        {
          "output_type": "execute_result",
          "data": {
            "text/plain": [
              "      date  cpo_pri  cno_pri  oli_pri  rps_pri  pno_pri  sbo_pri  sfo_pri\n",
              "0  12/1/10      323      455  3102.61   423.45    844.0    468.0    578.0\n",
              "1   1/1/11      345      546  3100.45   415.85    799.0    485.0    557.0\n",
              "2   2/1/11      362      595  3199.41   410.77    718.0    466.0    552.0\n",
              "3   3/1/11      376      636  3281.67   414.82    614.0    442.0    574.0\n",
              "4   4/1/11      383      738  3261.65   451.04    619.0    429.0    595.0"
            ],
            "text/html": [
              "\n",
              "  <div id=\"df-c2d621fa-b597-478d-854d-0bd0048e70be\">\n",
              "    <div class=\"colab-df-container\">\n",
              "      <div>\n",
              "<style scoped>\n",
              "    .dataframe tbody tr th:only-of-type {\n",
              "        vertical-align: middle;\n",
              "    }\n",
              "\n",
              "    .dataframe tbody tr th {\n",
              "        vertical-align: top;\n",
              "    }\n",
              "\n",
              "    .dataframe thead th {\n",
              "        text-align: right;\n",
              "    }\n",
              "</style>\n",
              "<table border=\"1\" class=\"dataframe\">\n",
              "  <thead>\n",
              "    <tr style=\"text-align: right;\">\n",
              "      <th></th>\n",
              "      <th>date</th>\n",
              "      <th>cpo_pri</th>\n",
              "      <th>cno_pri</th>\n",
              "      <th>oli_pri</th>\n",
              "      <th>rps_pri</th>\n",
              "      <th>pno_pri</th>\n",
              "      <th>sbo_pri</th>\n",
              "      <th>sfo_pri</th>\n",
              "    </tr>\n",
              "  </thead>\n",
              "  <tbody>\n",
              "    <tr>\n",
              "      <th>0</th>\n",
              "      <td>12/1/10</td>\n",
              "      <td>323</td>\n",
              "      <td>455</td>\n",
              "      <td>3102.61</td>\n",
              "      <td>423.45</td>\n",
              "      <td>844.0</td>\n",
              "      <td>468.0</td>\n",
              "      <td>578.0</td>\n",
              "    </tr>\n",
              "    <tr>\n",
              "      <th>1</th>\n",
              "      <td>1/1/11</td>\n",
              "      <td>345</td>\n",
              "      <td>546</td>\n",
              "      <td>3100.45</td>\n",
              "      <td>415.85</td>\n",
              "      <td>799.0</td>\n",
              "      <td>485.0</td>\n",
              "      <td>557.0</td>\n",
              "    </tr>\n",
              "    <tr>\n",
              "      <th>2</th>\n",
              "      <td>2/1/11</td>\n",
              "      <td>362</td>\n",
              "      <td>595</td>\n",
              "      <td>3199.41</td>\n",
              "      <td>410.77</td>\n",
              "      <td>718.0</td>\n",
              "      <td>466.0</td>\n",
              "      <td>552.0</td>\n",
              "    </tr>\n",
              "    <tr>\n",
              "      <th>3</th>\n",
              "      <td>3/1/11</td>\n",
              "      <td>376</td>\n",
              "      <td>636</td>\n",
              "      <td>3281.67</td>\n",
              "      <td>414.82</td>\n",
              "      <td>614.0</td>\n",
              "      <td>442.0</td>\n",
              "      <td>574.0</td>\n",
              "    </tr>\n",
              "    <tr>\n",
              "      <th>4</th>\n",
              "      <td>4/1/11</td>\n",
              "      <td>383</td>\n",
              "      <td>738</td>\n",
              "      <td>3261.65</td>\n",
              "      <td>451.04</td>\n",
              "      <td>619.0</td>\n",
              "      <td>429.0</td>\n",
              "      <td>595.0</td>\n",
              "    </tr>\n",
              "  </tbody>\n",
              "</table>\n",
              "</div>\n",
              "      <button class=\"colab-df-convert\" onclick=\"convertToInteractive('df-c2d621fa-b597-478d-854d-0bd0048e70be')\"\n",
              "              title=\"Convert this dataframe to an interactive table.\"\n",
              "              style=\"display:none;\">\n",
              "        \n",
              "  <svg xmlns=\"http://www.w3.org/2000/svg\" height=\"24px\"viewBox=\"0 0 24 24\"\n",
              "       width=\"24px\">\n",
              "    <path d=\"M0 0h24v24H0V0z\" fill=\"none\"/>\n",
              "    <path d=\"M18.56 5.44l.94 2.06.94-2.06 2.06-.94-2.06-.94-.94-2.06-.94 2.06-2.06.94zm-11 1L8.5 8.5l.94-2.06 2.06-.94-2.06-.94L8.5 2.5l-.94 2.06-2.06.94zm10 10l.94 2.06.94-2.06 2.06-.94-2.06-.94-.94-2.06-.94 2.06-2.06.94z\"/><path d=\"M17.41 7.96l-1.37-1.37c-.4-.4-.92-.59-1.43-.59-.52 0-1.04.2-1.43.59L10.3 9.45l-7.72 7.72c-.78.78-.78 2.05 0 2.83L4 21.41c.39.39.9.59 1.41.59.51 0 1.02-.2 1.41-.59l7.78-7.78 2.81-2.81c.8-.78.8-2.07 0-2.86zM5.41 20L4 18.59l7.72-7.72 1.47 1.35L5.41 20z\"/>\n",
              "  </svg>\n",
              "      </button>\n",
              "      \n",
              "  <style>\n",
              "    .colab-df-container {\n",
              "      display:flex;\n",
              "      flex-wrap:wrap;\n",
              "      gap: 12px;\n",
              "    }\n",
              "\n",
              "    .colab-df-convert {\n",
              "      background-color: #E8F0FE;\n",
              "      border: none;\n",
              "      border-radius: 50%;\n",
              "      cursor: pointer;\n",
              "      display: none;\n",
              "      fill: #1967D2;\n",
              "      height: 32px;\n",
              "      padding: 0 0 0 0;\n",
              "      width: 32px;\n",
              "    }\n",
              "\n",
              "    .colab-df-convert:hover {\n",
              "      background-color: #E2EBFA;\n",
              "      box-shadow: 0px 1px 2px rgba(60, 64, 67, 0.3), 0px 1px 3px 1px rgba(60, 64, 67, 0.15);\n",
              "      fill: #174EA6;\n",
              "    }\n",
              "\n",
              "    [theme=dark] .colab-df-convert {\n",
              "      background-color: #3B4455;\n",
              "      fill: #D2E3FC;\n",
              "    }\n",
              "\n",
              "    [theme=dark] .colab-df-convert:hover {\n",
              "      background-color: #434B5C;\n",
              "      box-shadow: 0px 1px 3px 1px rgba(0, 0, 0, 0.15);\n",
              "      filter: drop-shadow(0px 1px 2px rgba(0, 0, 0, 0.3));\n",
              "      fill: #FFFFFF;\n",
              "    }\n",
              "  </style>\n",
              "\n",
              "      <script>\n",
              "        const buttonEl =\n",
              "          document.querySelector('#df-c2d621fa-b597-478d-854d-0bd0048e70be button.colab-df-convert');\n",
              "        buttonEl.style.display =\n",
              "          google.colab.kernel.accessAllowed ? 'block' : 'none';\n",
              "\n",
              "        async function convertToInteractive(key) {\n",
              "          const element = document.querySelector('#df-c2d621fa-b597-478d-854d-0bd0048e70be');\n",
              "          const dataTable =\n",
              "            await google.colab.kernel.invokeFunction('convertToInteractive',\n",
              "                                                     [key], {});\n",
              "          if (!dataTable) return;\n",
              "\n",
              "          const docLinkHtml = 'Like what you see? Visit the ' +\n",
              "            '<a target=\"_blank\" href=https://colab.research.google.com/notebooks/data_table.ipynb>data table notebook</a>'\n",
              "            + ' to learn more about interactive tables.';\n",
              "          element.innerHTML = '';\n",
              "          dataTable['output_type'] = 'display_data';\n",
              "          await google.colab.output.renderOutput(dataTable, element);\n",
              "          const docLink = document.createElement('div');\n",
              "          docLink.innerHTML = docLinkHtml;\n",
              "          element.appendChild(docLink);\n",
              "        }\n",
              "      </script>\n",
              "    </div>\n",
              "  </div>\n",
              "  "
            ]
          },
          "metadata": {},
          "execution_count": 5
        }
      ]
    },
    {
      "cell_type": "code",
      "source": [
        "df['date']=pd.to_datetime(df['date'])\n",
        "#del df['date']"
      ],
      "metadata": {
        "id": "bABFH7Kd4nBN"
      },
      "execution_count": 6,
      "outputs": []
    },
    {
      "cell_type": "code",
      "source": [
        "df.set_index('date', inplace=True)\n",
        "df.info()"
      ],
      "metadata": {
        "colab": {
          "base_uri": "https://localhost:8080/"
        },
        "id": "nZ-LB-rFdF5N",
        "outputId": "2b037e67-078f-4fa9-9ca1-f70329673d6d"
      },
      "execution_count": 7,
      "outputs": [
        {
          "output_type": "stream",
          "name": "stdout",
          "text": [
            "<class 'pandas.core.frame.DataFrame'>\n",
            "DatetimeIndex: 124 entries, 2010-12-01 to 2021-03-01\n",
            "Data columns (total 7 columns):\n",
            " #   Column   Non-Null Count  Dtype  \n",
            "---  ------   --------------  -----  \n",
            " 0   cpo_pri  124 non-null    int64  \n",
            " 1   cno_pri  124 non-null    int64  \n",
            " 2   oli_pri  124 non-null    float64\n",
            " 3   rps_pri  124 non-null    float64\n",
            " 4   pno_pri  124 non-null    float64\n",
            " 5   sbo_pri  124 non-null    float64\n",
            " 6   sfo_pri  124 non-null    float64\n",
            "dtypes: float64(5), int64(2)\n",
            "memory usage: 7.8 KB\n"
          ]
        }
      ]
    },
    {
      "cell_type": "code",
      "source": [
        "df.head()"
      ],
      "metadata": {
        "colab": {
          "base_uri": "https://localhost:8080/",
          "height": 260
        },
        "id": "PLpdJChY4wex",
        "outputId": "0b869e3f-e084-493c-906e-0e58b4ba8dc1"
      },
      "execution_count": 8,
      "outputs": [
        {
          "output_type": "execute_result",
          "data": {
            "text/plain": [
              "            cpo_pri  cno_pri  oli_pri  rps_pri  pno_pri  sbo_pri  sfo_pri\n",
              "date                                                                     \n",
              "2010-12-01      323      455  3102.61   423.45    844.0    468.0    578.0\n",
              "2011-01-01      345      546  3100.45   415.85    799.0    485.0    557.0\n",
              "2011-02-01      362      595  3199.41   410.77    718.0    466.0    552.0\n",
              "2011-03-01      376      636  3281.67   414.82    614.0    442.0    574.0\n",
              "2011-04-01      383      738  3261.65   451.04    619.0    429.0    595.0"
            ],
            "text/html": [
              "\n",
              "  <div id=\"df-99dd712f-9edb-4ae9-bc5b-9db8440c43f4\">\n",
              "    <div class=\"colab-df-container\">\n",
              "      <div>\n",
              "<style scoped>\n",
              "    .dataframe tbody tr th:only-of-type {\n",
              "        vertical-align: middle;\n",
              "    }\n",
              "\n",
              "    .dataframe tbody tr th {\n",
              "        vertical-align: top;\n",
              "    }\n",
              "\n",
              "    .dataframe thead th {\n",
              "        text-align: right;\n",
              "    }\n",
              "</style>\n",
              "<table border=\"1\" class=\"dataframe\">\n",
              "  <thead>\n",
              "    <tr style=\"text-align: right;\">\n",
              "      <th></th>\n",
              "      <th>cpo_pri</th>\n",
              "      <th>cno_pri</th>\n",
              "      <th>oli_pri</th>\n",
              "      <th>rps_pri</th>\n",
              "      <th>pno_pri</th>\n",
              "      <th>sbo_pri</th>\n",
              "      <th>sfo_pri</th>\n",
              "    </tr>\n",
              "    <tr>\n",
              "      <th>date</th>\n",
              "      <th></th>\n",
              "      <th></th>\n",
              "      <th></th>\n",
              "      <th></th>\n",
              "      <th></th>\n",
              "      <th></th>\n",
              "      <th></th>\n",
              "    </tr>\n",
              "  </thead>\n",
              "  <tbody>\n",
              "    <tr>\n",
              "      <th>2010-12-01</th>\n",
              "      <td>323</td>\n",
              "      <td>455</td>\n",
              "      <td>3102.61</td>\n",
              "      <td>423.45</td>\n",
              "      <td>844.0</td>\n",
              "      <td>468.0</td>\n",
              "      <td>578.0</td>\n",
              "    </tr>\n",
              "    <tr>\n",
              "      <th>2011-01-01</th>\n",
              "      <td>345</td>\n",
              "      <td>546</td>\n",
              "      <td>3100.45</td>\n",
              "      <td>415.85</td>\n",
              "      <td>799.0</td>\n",
              "      <td>485.0</td>\n",
              "      <td>557.0</td>\n",
              "    </tr>\n",
              "    <tr>\n",
              "      <th>2011-02-01</th>\n",
              "      <td>362</td>\n",
              "      <td>595</td>\n",
              "      <td>3199.41</td>\n",
              "      <td>410.77</td>\n",
              "      <td>718.0</td>\n",
              "      <td>466.0</td>\n",
              "      <td>552.0</td>\n",
              "    </tr>\n",
              "    <tr>\n",
              "      <th>2011-03-01</th>\n",
              "      <td>376</td>\n",
              "      <td>636</td>\n",
              "      <td>3281.67</td>\n",
              "      <td>414.82</td>\n",
              "      <td>614.0</td>\n",
              "      <td>442.0</td>\n",
              "      <td>574.0</td>\n",
              "    </tr>\n",
              "    <tr>\n",
              "      <th>2011-04-01</th>\n",
              "      <td>383</td>\n",
              "      <td>738</td>\n",
              "      <td>3261.65</td>\n",
              "      <td>451.04</td>\n",
              "      <td>619.0</td>\n",
              "      <td>429.0</td>\n",
              "      <td>595.0</td>\n",
              "    </tr>\n",
              "  </tbody>\n",
              "</table>\n",
              "</div>\n",
              "      <button class=\"colab-df-convert\" onclick=\"convertToInteractive('df-99dd712f-9edb-4ae9-bc5b-9db8440c43f4')\"\n",
              "              title=\"Convert this dataframe to an interactive table.\"\n",
              "              style=\"display:none;\">\n",
              "        \n",
              "  <svg xmlns=\"http://www.w3.org/2000/svg\" height=\"24px\"viewBox=\"0 0 24 24\"\n",
              "       width=\"24px\">\n",
              "    <path d=\"M0 0h24v24H0V0z\" fill=\"none\"/>\n",
              "    <path d=\"M18.56 5.44l.94 2.06.94-2.06 2.06-.94-2.06-.94-.94-2.06-.94 2.06-2.06.94zm-11 1L8.5 8.5l.94-2.06 2.06-.94-2.06-.94L8.5 2.5l-.94 2.06-2.06.94zm10 10l.94 2.06.94-2.06 2.06-.94-2.06-.94-.94-2.06-.94 2.06-2.06.94z\"/><path d=\"M17.41 7.96l-1.37-1.37c-.4-.4-.92-.59-1.43-.59-.52 0-1.04.2-1.43.59L10.3 9.45l-7.72 7.72c-.78.78-.78 2.05 0 2.83L4 21.41c.39.39.9.59 1.41.59.51 0 1.02-.2 1.41-.59l7.78-7.78 2.81-2.81c.8-.78.8-2.07 0-2.86zM5.41 20L4 18.59l7.72-7.72 1.47 1.35L5.41 20z\"/>\n",
              "  </svg>\n",
              "      </button>\n",
              "      \n",
              "  <style>\n",
              "    .colab-df-container {\n",
              "      display:flex;\n",
              "      flex-wrap:wrap;\n",
              "      gap: 12px;\n",
              "    }\n",
              "\n",
              "    .colab-df-convert {\n",
              "      background-color: #E8F0FE;\n",
              "      border: none;\n",
              "      border-radius: 50%;\n",
              "      cursor: pointer;\n",
              "      display: none;\n",
              "      fill: #1967D2;\n",
              "      height: 32px;\n",
              "      padding: 0 0 0 0;\n",
              "      width: 32px;\n",
              "    }\n",
              "\n",
              "    .colab-df-convert:hover {\n",
              "      background-color: #E2EBFA;\n",
              "      box-shadow: 0px 1px 2px rgba(60, 64, 67, 0.3), 0px 1px 3px 1px rgba(60, 64, 67, 0.15);\n",
              "      fill: #174EA6;\n",
              "    }\n",
              "\n",
              "    [theme=dark] .colab-df-convert {\n",
              "      background-color: #3B4455;\n",
              "      fill: #D2E3FC;\n",
              "    }\n",
              "\n",
              "    [theme=dark] .colab-df-convert:hover {\n",
              "      background-color: #434B5C;\n",
              "      box-shadow: 0px 1px 3px 1px rgba(0, 0, 0, 0.15);\n",
              "      filter: drop-shadow(0px 1px 2px rgba(0, 0, 0, 0.3));\n",
              "      fill: #FFFFFF;\n",
              "    }\n",
              "  </style>\n",
              "\n",
              "      <script>\n",
              "        const buttonEl =\n",
              "          document.querySelector('#df-99dd712f-9edb-4ae9-bc5b-9db8440c43f4 button.colab-df-convert');\n",
              "        buttonEl.style.display =\n",
              "          google.colab.kernel.accessAllowed ? 'block' : 'none';\n",
              "\n",
              "        async function convertToInteractive(key) {\n",
              "          const element = document.querySelector('#df-99dd712f-9edb-4ae9-bc5b-9db8440c43f4');\n",
              "          const dataTable =\n",
              "            await google.colab.kernel.invokeFunction('convertToInteractive',\n",
              "                                                     [key], {});\n",
              "          if (!dataTable) return;\n",
              "\n",
              "          const docLinkHtml = 'Like what you see? Visit the ' +\n",
              "            '<a target=\"_blank\" href=https://colab.research.google.com/notebooks/data_table.ipynb>data table notebook</a>'\n",
              "            + ' to learn more about interactive tables.';\n",
              "          element.innerHTML = '';\n",
              "          dataTable['output_type'] = 'display_data';\n",
              "          await google.colab.output.renderOutput(dataTable, element);\n",
              "          const docLink = document.createElement('div');\n",
              "          docLink.innerHTML = docLinkHtml;\n",
              "          element.appendChild(docLink);\n",
              "        }\n",
              "      </script>\n",
              "    </div>\n",
              "  </div>\n",
              "  "
            ]
          },
          "metadata": {},
          "execution_count": 8
        }
      ]
    },
    {
      "cell_type": "code",
      "source": [
        "# Plot an area chart\n",
        "plt.figure(figsize=(25,10))\n",
        "ax = df.plot.area(fontsize=12);\n",
        "\n",
        "# Additional customizations\n",
        "ax.set_xlabel('date');\n",
        "ax.legend(fontsize=12);"
      ],
      "metadata": {
        "colab": {
          "base_uri": "https://localhost:8080/",
          "height": 399
        },
        "id": "pnKg-SfY6j9g",
        "outputId": "488e2d95-b7cd-4900-f314-26d2fe735199"
      },
      "execution_count": 9,
      "outputs": [
        {
          "output_type": "display_data",
          "data": {
            "text/plain": [
              "<Figure size 1800x720 with 0 Axes>"
            ]
          },
          "metadata": {}
        },
        {
          "output_type": "display_data",
          "data": {
            "text/plain": [
              "<Figure size 720x360 with 1 Axes>"
            ],
            "image/png": "[encoded data removed]"
          },
          "metadata": {}
        }
      ]
    },
    {
      "cell_type": "markdown",
      "source": [
        "##**Convolutional Neural Network Forecasting Technique (GRU)**"
      ],
      "metadata": {
        "id": "dPoGjuS366Cc"
      }
    },
    {
      "cell_type": "markdown",
      "source": [
        "###**Split Data into Train Test Segments**"
      ],
      "metadata": {
        "id": "vFpT6OrD7KRv"
      }
    },
    {
      "cell_type": "code",
      "source": [
        "train_size = int(len(df) * 0.8)\n",
        "test_size = len(df) - train_size\n",
        "train, test = df.iloc[0:train_size], df.iloc[train_size:len(df)]\n",
        "print('Train size:',len(train))\n",
        "print('Test size:', len(test))"
      ],
      "metadata": {
        "colab": {
          "base_uri": "https://localhost:8080/"
        },
        "id": "nYZL-9Sy3xpJ",
        "outputId": "2562f811-131d-4b32-ffa4-be590141be6c"
      },
      "execution_count": 10,
      "outputs": [
        {
          "output_type": "stream",
          "name": "stdout",
          "text": [
            "Train size: 99\n",
            "Test size: 25\n"
          ]
        }
      ]
    },
    {
      "cell_type": "code",
      "source": [
        "split_date = '2019-02'\n",
        "df_training = df.loc[df.index <= split_date]\n",
        "df_test = df.loc[df.index > split_date]\n",
        "print(f\"{len(df_training)} days of training data \\n {len(df_test)} days of testing data \")"
      ],
      "metadata": {
        "colab": {
          "base_uri": "https://localhost:8080/"
        },
        "id": "qKDDSdp_JVu6",
        "outputId": "b2002c62-8e79-4e53-a2ac-2530ccfb90ce"
      },
      "execution_count": 11,
      "outputs": [
        {
          "output_type": "stream",
          "name": "stdout",
          "text": [
            "99 days of training data \n",
            " 25 days of testing data \n"
          ]
        }
      ]
    },
    {
      "cell_type": "code",
      "source": [
        "train, test = df.iloc[0:train_size], df.iloc[train_size:len(df)]\n",
        "print(len(train), len(test))"
      ],
      "metadata": {
        "colab": {
          "base_uri": "https://localhost:8080/"
        },
        "id": "DGrD2nxFmNSu",
        "outputId": "87c158c7-61ea-47ef-d7f6-1eda00a79e7d"
      },
      "execution_count": 12,
      "outputs": [
        {
          "output_type": "stream",
          "name": "stdout",
          "text": [
            "99 25\n"
          ]
        }
      ]
    },
    {
      "cell_type": "code",
      "source": [
        "print(train.shape)\n",
        "train.head()"
      ],
      "metadata": {
        "colab": {
          "base_uri": "https://localhost:8080/",
          "height": 277
        },
        "id": "QvbHy-5RmPuI",
        "outputId": "0a196c3b-f7d2-4537-83d3-c098d70dbbdc"
      },
      "execution_count": 13,
      "outputs": [
        {
          "output_type": "stream",
          "name": "stdout",
          "text": [
            "(99, 7)\n"
          ]
        },
        {
          "output_type": "execute_result",
          "data": {
            "text/plain": [
              "            cpo_pri  cno_pri  oli_pri  rps_pri  pno_pri  sbo_pri  sfo_pri\n",
              "date                                                                     \n",
              "2010-12-01      323      455  3102.61   423.45    844.0    468.0    578.0\n",
              "2011-01-01      345      546  3100.45   415.85    799.0    485.0    557.0\n",
              "2011-02-01      362      595  3199.41   410.77    718.0    466.0    552.0\n",
              "2011-03-01      376      636  3281.67   414.82    614.0    442.0    574.0\n",
              "2011-04-01      383      738  3261.65   451.04    619.0    429.0    595.0"
            ],
            "text/html": [
              "\n",
              "  <div id=\"df-649c1d84-113c-487c-a7e7-de120e77f28b\">\n",
              "    <div class=\"colab-df-container\">\n",
              "      <div>\n",
              "<style scoped>\n",
              "    .dataframe tbody tr th:only-of-type {\n",
              "        vertical-align: middle;\n",
              "    }\n",
              "\n",
              "    .dataframe tbody tr th {\n",
              "        vertical-align: top;\n",
              "    }\n",
              "\n",
              "    .dataframe thead th {\n",
              "        text-align: right;\n",
              "    }\n",
              "</style>\n",
              "<table border=\"1\" class=\"dataframe\">\n",
              "  <thead>\n",
              "    <tr style=\"text-align: right;\">\n",
              "      <th></th>\n",
              "      <th>cpo_pri</th>\n",
              "      <th>cno_pri</th>\n",
              "      <th>oli_pri</th>\n",
              "      <th>rps_pri</th>\n",
              "      <th>pno_pri</th>\n",
              "      <th>sbo_pri</th>\n",
              "      <th>sfo_pri</th>\n",
              "    </tr>\n",
              "    <tr>\n",
              "      <th>date</th>\n",
              "      <th></th>\n",
              "      <th></th>\n",
              "      <th></th>\n",
              "      <th></th>\n",
              "      <th></th>\n",
              "      <th></th>\n",
              "      <th></th>\n",
              "    </tr>\n",
              "  </thead>\n",
              "  <tbody>\n",
              "    <tr>\n",
              "      <th>2010-12-01</th>\n",
              "      <td>323</td>\n",
              "      <td>455</td>\n",
              "      <td>3102.61</td>\n",
              "      <td>423.45</td>\n",
              "      <td>844.0</td>\n",
              "      <td>468.0</td>\n",
              "      <td>578.0</td>\n",
              "    </tr>\n",
              "    <tr>\n",
              "      <th>2011-01-01</th>\n",
              "      <td>345</td>\n",
              "      <td>546</td>\n",
              "      <td>3100.45</td>\n",
              "      <td>415.85</td>\n",
              "      <td>799.0</td>\n",
              "      <td>485.0</td>\n",
              "      <td>557.0</td>\n",
              "    </tr>\n",
              "    <tr>\n",
              "      <th>2011-02-01</th>\n",
              "      <td>362</td>\n",
              "      <td>595</td>\n",
              "      <td>3199.41</td>\n",
              "      <td>410.77</td>\n",
              "      <td>718.0</td>\n",
              "      <td>466.0</td>\n",
              "      <td>552.0</td>\n",
              "    </tr>\n",
              "    <tr>\n",
              "      <th>2011-03-01</th>\n",
              "      <td>376</td>\n",
              "      <td>636</td>\n",
              "      <td>3281.67</td>\n",
              "      <td>414.82</td>\n",
              "      <td>614.0</td>\n",
              "      <td>442.0</td>\n",
              "      <td>574.0</td>\n",
              "    </tr>\n",
              "    <tr>\n",
              "      <th>2011-04-01</th>\n",
              "      <td>383</td>\n",
              "      <td>738</td>\n",
              "      <td>3261.65</td>\n",
              "      <td>451.04</td>\n",
              "      <td>619.0</td>\n",
              "      <td>429.0</td>\n",
              "      <td>595.0</td>\n",
              "    </tr>\n",
              "  </tbody>\n",
              "</table>\n",
              "</div>\n",
              "      <button class=\"colab-df-convert\" onclick=\"convertToInteractive('df-649c1d84-113c-487c-a7e7-de120e77f28b')\"\n",
              "              title=\"Convert this dataframe to an interactive table.\"\n",
              "              style=\"display:none;\">\n",
              "        \n",
              "  <svg xmlns=\"http://www.w3.org/2000/svg\" height=\"24px\"viewBox=\"0 0 24 24\"\n",
              "       width=\"24px\">\n",
              "    <path d=\"M0 0h24v24H0V0z\" fill=\"none\"/>\n",
              "    <path d=\"M18.56 5.44l.94 2.06.94-2.06 2.06-.94-2.06-.94-.94-2.06-.94 2.06-2.06.94zm-11 1L8.5 8.5l.94-2.06 2.06-.94-2.06-.94L8.5 2.5l-.94 2.06-2.06.94zm10 10l.94 2.06.94-2.06 2.06-.94-2.06-.94-.94-2.06-.94 2.06-2.06.94z\"/><path d=\"M17.41 7.96l-1.37-1.37c-.4-.4-.92-.59-1.43-.59-.52 0-1.04.2-1.43.59L10.3 9.45l-7.72 7.72c-.78.78-.78 2.05 0 2.83L4 21.41c.39.39.9.59 1.41.59.51 0 1.02-.2 1.41-.59l7.78-7.78 2.81-2.81c.8-.78.8-2.07 0-2.86zM5.41 20L4 18.59l7.72-7.72 1.47 1.35L5.41 20z\"/>\n",
              "  </svg>\n",
              "      </button>\n",
              "      \n",
              "  <style>\n",
              "    .colab-df-container {\n",
              "      display:flex;\n",
              "      flex-wrap:wrap;\n",
              "      gap: 12px;\n",
              "    }\n",
              "\n",
              "    .colab-df-convert {\n",
              "      background-color: #E8F0FE;\n",
              "      border: none;\n",
              "      border-radius: 50%;\n",
              "      cursor: pointer;\n",
              "      display: none;\n",
              "      fill: #1967D2;\n",
              "      height: 32px;\n",
              "      padding: 0 0 0 0;\n",
              "      width: 32px;\n",
              "    }\n",
              "\n",
              "    .colab-df-convert:hover {\n",
              "      background-color: #E2EBFA;\n",
              "      box-shadow: 0px 1px 2px rgba(60, 64, 67, 0.3), 0px 1px 3px 1px rgba(60, 64, 67, 0.15);\n",
              "      fill: #174EA6;\n",
              "    }\n",
              "\n",
              "    [theme=dark] .colab-df-convert {\n",
              "      background-color: #3B4455;\n",
              "      fill: #D2E3FC;\n",
              "    }\n",
              "\n",
              "    [theme=dark] .colab-df-convert:hover {\n",
              "      background-color: #434B5C;\n",
              "      box-shadow: 0px 1px 3px 1px rgba(0, 0, 0, 0.15);\n",
              "      filter: drop-shadow(0px 1px 2px rgba(0, 0, 0, 0.3));\n",
              "      fill: #FFFFFF;\n",
              "    }\n",
              "  </style>\n",
              "\n",
              "      <script>\n",
              "        const buttonEl =\n",
              "          document.querySelector('#df-649c1d84-113c-487c-a7e7-de120e77f28b button.colab-df-convert');\n",
              "        buttonEl.style.display =\n",
              "          google.colab.kernel.accessAllowed ? 'block' : 'none';\n",
              "\n",
              "        async function convertToInteractive(key) {\n",
              "          const element = document.querySelector('#df-649c1d84-113c-487c-a7e7-de120e77f28b');\n",
              "          const dataTable =\n",
              "            await google.colab.kernel.invokeFunction('convertToInteractive',\n",
              "                                                     [key], {});\n",
              "          if (!dataTable) return;\n",
              "\n",
              "          const docLinkHtml = 'Like what you see? Visit the ' +\n",
              "            '<a target=\"_blank\" href=https://colab.research.google.com/notebooks/data_table.ipynb>data table notebook</a>'\n",
              "            + ' to learn more about interactive tables.';\n",
              "          element.innerHTML = '';\n",
              "          dataTable['output_type'] = 'display_data';\n",
              "          await google.colab.output.renderOutput(dataTable, element);\n",
              "          const docLink = document.createElement('div');\n",
              "          docLink.innerHTML = docLinkHtml;\n",
              "          element.appendChild(docLink);\n",
              "        }\n",
              "      </script>\n",
              "    </div>\n",
              "  </div>\n",
              "  "
            ]
          },
          "metadata": {},
          "execution_count": 13
        }
      ]
    },
    {
      "cell_type": "markdown",
      "source": [
        "###Rescaling Training Data"
      ],
      "metadata": {
        "id": "Z5F4OyT2mwRs"
      }
    },
    {
      "cell_type": "code",
      "source": [
        "f_transformer = MinMaxScaler()\n",
        "feature_columns = ['cno_pri', 'oli_pri', 'rps_pri', 'pno_pri', 'sbo_pri', 'sfo_pri']\n",
        "f_transformer = f_transformer.fit(train[feature_columns].to_numpy())\n",
        "train.loc[:, feature_columns] = f_transformer.transform(train[feature_columns].to_numpy())\n",
        "train.head()"
      ],
      "metadata": {
        "colab": {
          "base_uri": "https://localhost:8080/",
          "height": 260
        },
        "id": "Lg-AQuNBmvZK",
        "outputId": "21ed6afd-8b71-461a-b5d7-858815ba67e9"
      },
      "execution_count": 14,
      "outputs": [
        {
          "output_type": "execute_result",
          "data": {
            "text/plain": [
              "            cpo_pri   cno_pri   oli_pri   rps_pri   pno_pri   sbo_pri  \\\n",
              "date                                                                    \n",
              "2010-12-01      323  0.112288  0.140918  0.010736  0.528090  0.253193   \n",
              "2011-01-01      345  0.305085  0.140327  0.004301  0.443820  0.306536   \n",
              "2011-02-01      362  0.408898  0.167408  0.000000  0.292135  0.246917   \n",
              "2011-03-01      376  0.495763  0.189919  0.003429  0.097378  0.171609   \n",
              "2011-04-01      383  0.711864  0.184440  0.034095  0.106742  0.130817   \n",
              "\n",
              "             sfo_pri  \n",
              "date                  \n",
              "2010-12-01  0.023302  \n",
              "2011-01-01  0.009321  \n",
              "2011-02-01  0.005992  \n",
              "2011-03-01  0.020639  \n",
              "2011-04-01  0.034621  "
            ],
            "text/html": [
              "\n",
              "  <div id=\"df-7fee0262-68df-4773-ba29-860d30ca7fc4\">\n",
              "    <div class=\"colab-df-container\">\n",
              "      <div>\n",
              "<style scoped>\n",
              "    .dataframe tbody tr th:only-of-type {\n",
              "        vertical-align: middle;\n",
              "    }\n",
              "\n",
              "    .dataframe tbody tr th {\n",
              "        vertical-align: top;\n",
              "    }\n",
              "\n",
              "    .dataframe thead th {\n",
              "        text-align: right;\n",
              "    }\n",
              "</style>\n",
              "<table border=\"1\" class=\"dataframe\">\n",
              "  <thead>\n",
              "    <tr style=\"text-align: right;\">\n",
              "      <th></th>\n",
              "      <th>cpo_pri</th>\n",
              "      <th>cno_pri</th>\n",
              "      <th>oli_pri</th>\n",
              "      <th>rps_pri</th>\n",
              "      <th>pno_pri</th>\n",
              "      <th>sbo_pri</th>\n",
              "      <th>sfo_pri</th>\n",
              "    </tr>\n",
              "    <tr>\n",
              "      <th>date</th>\n",
              "      <th></th>\n",
              "      <th></th>\n",
              "      <th></th>\n",
              "      <th></th>\n",
              "      <th></th>\n",
              "      <th></th>\n",
              "      <th></th>\n",
              "    </tr>\n",
              "  </thead>\n",
              "  <tbody>\n",
              "    <tr>\n",
              "      <th>2010-12-01</th>\n",
              "      <td>323</td>\n",
              "      <td>0.112288</td>\n",
              "      <td>0.140918</td>\n",
              "      <td>0.010736</td>\n",
              "      <td>0.528090</td>\n",
              "      <td>0.253193</td>\n",
              "      <td>0.023302</td>\n",
              "    </tr>\n",
              "    <tr>\n",
              "      <th>2011-01-01</th>\n",
              "      <td>345</td>\n",
              "      <td>0.305085</td>\n",
              "      <td>0.140327</td>\n",
              "      <td>0.004301</td>\n",
              "      <td>0.443820</td>\n",
              "      <td>0.306536</td>\n",
              "      <td>0.009321</td>\n",
              "    </tr>\n",
              "    <tr>\n",
              "      <th>2011-02-01</th>\n",
              "      <td>362</td>\n",
              "      <td>0.408898</td>\n",
              "      <td>0.167408</td>\n",
              "      <td>0.000000</td>\n",
              "      <td>0.292135</td>\n",
              "      <td>0.246917</td>\n",
              "      <td>0.005992</td>\n",
              "    </tr>\n",
              "    <tr>\n",
              "      <th>2011-03-01</th>\n",
              "      <td>376</td>\n",
              "      <td>0.495763</td>\n",
              "      <td>0.189919</td>\n",
              "      <td>0.003429</td>\n",
              "      <td>0.097378</td>\n",
              "      <td>0.171609</td>\n",
              "      <td>0.020639</td>\n",
              "    </tr>\n",
              "    <tr>\n",
              "      <th>2011-04-01</th>\n",
              "      <td>383</td>\n",
              "      <td>0.711864</td>\n",
              "      <td>0.184440</td>\n",
              "      <td>0.034095</td>\n",
              "      <td>0.106742</td>\n",
              "      <td>0.130817</td>\n",
              "      <td>0.034621</td>\n",
              "    </tr>\n",
              "  </tbody>\n",
              "</table>\n",
              "</div>\n",
              "      <button class=\"colab-df-convert\" onclick=\"convertToInteractive('df-7fee0262-68df-4773-ba29-860d30ca7fc4')\"\n",
              "              title=\"Convert this dataframe to an interactive table.\"\n",
              "              style=\"display:none;\">\n",
              "        \n",
              "  <svg xmlns=\"http://www.w3.org/2000/svg\" height=\"24px\"viewBox=\"0 0 24 24\"\n",
              "       width=\"24px\">\n",
              "    <path d=\"M0 0h24v24H0V0z\" fill=\"none\"/>\n",
              "    <path d=\"M18.56 5.44l.94 2.06.94-2.06 2.06-.94-2.06-.94-.94-2.06-.94 2.06-2.06.94zm-11 1L8.5 8.5l.94-2.06 2.06-.94-2.06-.94L8.5 2.5l-.94 2.06-2.06.94zm10 10l.94 2.06.94-2.06 2.06-.94-2.06-.94-.94-2.06-.94 2.06-2.06.94z\"/><path d=\"M17.41 7.96l-1.37-1.37c-.4-.4-.92-.59-1.43-.59-.52 0-1.04.2-1.43.59L10.3 9.45l-7.72 7.72c-.78.78-.78 2.05 0 2.83L4 21.41c.39.39.9.59 1.41.59.51 0 1.02-.2 1.41-.59l7.78-7.78 2.81-2.81c.8-.78.8-2.07 0-2.86zM5.41 20L4 18.59l7.72-7.72 1.47 1.35L5.41 20z\"/>\n",
              "  </svg>\n",
              "      </button>\n",
              "      \n",
              "  <style>\n",
              "    .colab-df-container {\n",
              "      display:flex;\n",
              "      flex-wrap:wrap;\n",
              "      gap: 12px;\n",
              "    }\n",
              "\n",
              "    .colab-df-convert {\n",
              "      background-color: #E8F0FE;\n",
              "      border: none;\n",
              "      border-radius: 50%;\n",
              "      cursor: pointer;\n",
              "      display: none;\n",
              "      fill: #1967D2;\n",
              "      height: 32px;\n",
              "      padding: 0 0 0 0;\n",
              "      width: 32px;\n",
              "    }\n",
              "\n",
              "    .colab-df-convert:hover {\n",
              "      background-color: #E2EBFA;\n",
              "      box-shadow: 0px 1px 2px rgba(60, 64, 67, 0.3), 0px 1px 3px 1px rgba(60, 64, 67, 0.15);\n",
              "      fill: #174EA6;\n",
              "    }\n",
              "\n",
              "    [theme=dark] .colab-df-convert {\n",
              "      background-color: #3B4455;\n",
              "      fill: #D2E3FC;\n",
              "    }\n",
              "\n",
              "    [theme=dark] .colab-df-convert:hover {\n",
              "      background-color: #434B5C;\n",
              "      box-shadow: 0px 1px 3px 1px rgba(0, 0, 0, 0.15);\n",
              "      filter: drop-shadow(0px 1px 2px rgba(0, 0, 0, 0.3));\n",
              "      fill: #FFFFFF;\n",
              "    }\n",
              "  </style>\n",
              "\n",
              "      <script>\n",
              "        const buttonEl =\n",
              "          document.querySelector('#df-7fee0262-68df-4773-ba29-860d30ca7fc4 button.colab-df-convert');\n",
              "        buttonEl.style.display =\n",
              "          google.colab.kernel.accessAllowed ? 'block' : 'none';\n",
              "\n",
              "        async function convertToInteractive(key) {\n",
              "          const element = document.querySelector('#df-7fee0262-68df-4773-ba29-860d30ca7fc4');\n",
              "          const dataTable =\n",
              "            await google.colab.kernel.invokeFunction('convertToInteractive',\n",
              "                                                     [key], {});\n",
              "          if (!dataTable) return;\n",
              "\n",
              "          const docLinkHtml = 'Like what you see? Visit the ' +\n",
              "            '<a target=\"_blank\" href=https://colab.research.google.com/notebooks/data_table.ipynb>data table notebook</a>'\n",
              "            + ' to learn more about interactive tables.';\n",
              "          element.innerHTML = '';\n",
              "          dataTable['output_type'] = 'display_data';\n",
              "          await google.colab.output.renderOutput(dataTable, element);\n",
              "          const docLink = document.createElement('div');\n",
              "          docLink.innerHTML = docLinkHtml;\n",
              "          element.appendChild(docLink);\n",
              "        }\n",
              "      </script>\n",
              "    </div>\n",
              "  </div>\n",
              "  "
            ]
          },
          "metadata": {},
          "execution_count": 14
        }
      ]
    },
    {
      "cell_type": "code",
      "source": [
        "cpo_pri_transformer = MinMaxScaler()\n",
        "cpo_pri_transformer = cpo_pri_transformer.fit(train[['cpo_pri']])\n",
        "train['cpo_pri'] = cpo_pri_transformer.transform(train[['cpo_pri']])\n",
        "train['cpo_pri'].head()"
      ],
      "metadata": {
        "colab": {
          "base_uri": "https://localhost:8080/"
        },
        "id": "XNkE4gN9nJLt",
        "outputId": "43fffc08-052a-41d1-991a-74f470e1ddd6"
      },
      "execution_count": 15,
      "outputs": [
        {
          "output_type": "execute_result",
          "data": {
            "text/plain": [
              "date\n",
              "2010-12-01    0.0100\n",
              "2011-01-01    0.0650\n",
              "2011-02-01    0.1075\n",
              "2011-03-01    0.1425\n",
              "2011-04-01    0.1600\n",
              "Name: cpo_pri, dtype: float64"
            ]
          },
          "metadata": {},
          "execution_count": 15
        }
      ]
    },
    {
      "cell_type": "code",
      "source": [
        "test.loc[:, feature_columns] = f_transformer.transform(test[feature_columns].to_numpy())\n",
        "test.head()"
      ],
      "metadata": {
        "colab": {
          "base_uri": "https://localhost:8080/",
          "height": 260
        },
        "id": "aouQuJG5n6k8",
        "outputId": "f0f81339-7c1c-4f33-e784-32b5666bcef1"
      },
      "execution_count": 16,
      "outputs": [
        {
          "output_type": "execute_result",
          "data": {
            "text/plain": [
              "            cpo_pri   cno_pri   oli_pri   rps_pri   pno_pri   sbo_pri  \\\n",
              "date                                                                    \n",
              "2019-03-01      354  0.637712  0.194855  0.382454  0.381292 -0.039662   \n",
              "2019-04-01      348  0.533898  0.264388  0.393951  0.213633 -0.054975   \n",
              "2019-05-01      332  0.400424  0.246417  0.453802  0.235262 -0.092159   \n",
              "2019-06-01      349  0.317797  0.234308  0.509834  0.320749 -0.074743   \n",
              "2019-07-01      372  0.313559  0.223422  0.526454  0.426610 -0.066114   \n",
              "\n",
              "             sfo_pri  \n",
              "date                  \n",
              "2019-03-01  0.493342  \n",
              "2019-04-01  0.597870  \n",
              "2019-05-01  0.606525  \n",
              "2019-06-01  0.631824  \n",
              "2019-07-01  0.773462  "
            ],
            "text/html": [
              "\n",
              "  <div id=\"df-929bc386-5b4f-42ef-94d3-91652887e757\">\n",
              "    <div class=\"colab-df-container\">\n",
              "      <div>\n",
              "<style scoped>\n",
              "    .dataframe tbody tr th:only-of-type {\n",
              "        vertical-align: middle;\n",
              "    }\n",
              "\n",
              "    .dataframe tbody tr th {\n",
              "        vertical-align: top;\n",
              "    }\n",
              "\n",
              "    .dataframe thead th {\n",
              "        text-align: right;\n",
              "    }\n",
              "</style>\n",
              "<table border=\"1\" class=\"dataframe\">\n",
              "  <thead>\n",
              "    <tr style=\"text-align: right;\">\n",
              "      <th></th>\n",
              "      <th>cpo_pri</th>\n",
              "      <th>cno_pri</th>\n",
              "      <th>oli_pri</th>\n",
              "      <th>rps_pri</th>\n",
              "      <th>pno_pri</th>\n",
              "      <th>sbo_pri</th>\n",
              "      <th>sfo_pri</th>\n",
              "    </tr>\n",
              "    <tr>\n",
              "      <th>date</th>\n",
              "      <th></th>\n",
              "      <th></th>\n",
              "      <th></th>\n",
              "      <th></th>\n",
              "      <th></th>\n",
              "      <th></th>\n",
              "      <th></th>\n",
              "    </tr>\n",
              "  </thead>\n",
              "  <tbody>\n",
              "    <tr>\n",
              "      <th>2019-03-01</th>\n",
              "      <td>354</td>\n",
              "      <td>0.637712</td>\n",
              "      <td>0.194855</td>\n",
              "      <td>0.382454</td>\n",
              "      <td>0.381292</td>\n",
              "      <td>-0.039662</td>\n",
              "      <td>0.493342</td>\n",
              "    </tr>\n",
              "    <tr>\n",
              "      <th>2019-04-01</th>\n",
              "      <td>348</td>\n",
              "      <td>0.533898</td>\n",
              "      <td>0.264388</td>\n",
              "      <td>0.393951</td>\n",
              "      <td>0.213633</td>\n",
              "      <td>-0.054975</td>\n",
              "      <td>0.597870</td>\n",
              "    </tr>\n",
              "    <tr>\n",
              "      <th>2019-05-01</th>\n",
              "      <td>332</td>\n",
              "      <td>0.400424</td>\n",
              "      <td>0.246417</td>\n",
              "      <td>0.453802</td>\n",
              "      <td>0.235262</td>\n",
              "      <td>-0.092159</td>\n",
              "      <td>0.606525</td>\n",
              "    </tr>\n",
              "    <tr>\n",
              "      <th>2019-06-01</th>\n",
              "      <td>349</td>\n",
              "      <td>0.317797</td>\n",
              "      <td>0.234308</td>\n",
              "      <td>0.509834</td>\n",
              "      <td>0.320749</td>\n",
              "      <td>-0.074743</td>\n",
              "      <td>0.631824</td>\n",
              "    </tr>\n",
              "    <tr>\n",
              "      <th>2019-07-01</th>\n",
              "      <td>372</td>\n",
              "      <td>0.313559</td>\n",
              "      <td>0.223422</td>\n",
              "      <td>0.526454</td>\n",
              "      <td>0.426610</td>\n",
              "      <td>-0.066114</td>\n",
              "      <td>0.773462</td>\n",
              "    </tr>\n",
              "  </tbody>\n",
              "</table>\n",
              "</div>\n",
              "      <button class=\"colab-df-convert\" onclick=\"convertToInteractive('df-929bc386-5b4f-42ef-94d3-91652887e757')\"\n",
              "              title=\"Convert this dataframe to an interactive table.\"\n",
              "              style=\"display:none;\">\n",
              "        \n",
              "  <svg xmlns=\"http://www.w3.org/2000/svg\" height=\"24px\"viewBox=\"0 0 24 24\"\n",
              "       width=\"24px\">\n",
              "    <path d=\"M0 0h24v24H0V0z\" fill=\"none\"/>\n",
              "    <path d=\"M18.56 5.44l.94 2.06.94-2.06 2.06-.94-2.06-.94-.94-2.06-.94 2.06-2.06.94zm-11 1L8.5 8.5l.94-2.06 2.06-.94-2.06-.94L8.5 2.5l-.94 2.06-2.06.94zm10 10l.94 2.06.94-2.06 2.06-.94-2.06-.94-.94-2.06-.94 2.06-2.06.94z\"/><path d=\"M17.41 7.96l-1.37-1.37c-.4-.4-.92-.59-1.43-.59-.52 0-1.04.2-1.43.59L10.3 9.45l-7.72 7.72c-.78.78-.78 2.05 0 2.83L4 21.41c.39.39.9.59 1.41.59.51 0 1.02-.2 1.41-.59l7.78-7.78 2.81-2.81c.8-.78.8-2.07 0-2.86zM5.41 20L4 18.59l7.72-7.72 1.47 1.35L5.41 20z\"/>\n",
              "  </svg>\n",
              "      </button>\n",
              "      \n",
              "  <style>\n",
              "    .colab-df-container {\n",
              "      display:flex;\n",
              "      flex-wrap:wrap;\n",
              "      gap: 12px;\n",
              "    }\n",
              "\n",
              "    .colab-df-convert {\n",
              "      background-color: #E8F0FE;\n",
              "      border: none;\n",
              "      border-radius: 50%;\n",
              "      cursor: pointer;\n",
              "      display: none;\n",
              "      fill: #1967D2;\n",
              "      height: 32px;\n",
              "      padding: 0 0 0 0;\n",
              "      width: 32px;\n",
              "    }\n",
              "\n",
              "    .colab-df-convert:hover {\n",
              "      background-color: #E2EBFA;\n",
              "      box-shadow: 0px 1px 2px rgba(60, 64, 67, 0.3), 0px 1px 3px 1px rgba(60, 64, 67, 0.15);\n",
              "      fill: #174EA6;\n",
              "    }\n",
              "\n",
              "    [theme=dark] .colab-df-convert {\n",
              "      background-color: #3B4455;\n",
              "      fill: #D2E3FC;\n",
              "    }\n",
              "\n",
              "    [theme=dark] .colab-df-convert:hover {\n",
              "      background-color: #434B5C;\n",
              "      box-shadow: 0px 1px 3px 1px rgba(0, 0, 0, 0.15);\n",
              "      filter: drop-shadow(0px 1px 2px rgba(0, 0, 0, 0.3));\n",
              "      fill: #FFFFFF;\n",
              "    }\n",
              "  </style>\n",
              "\n",
              "      <script>\n",
              "        const buttonEl =\n",
              "          document.querySelector('#df-929bc386-5b4f-42ef-94d3-91652887e757 button.colab-df-convert');\n",
              "        buttonEl.style.display =\n",
              "          google.colab.kernel.accessAllowed ? 'block' : 'none';\n",
              "\n",
              "        async function convertToInteractive(key) {\n",
              "          const element = document.querySelector('#df-929bc386-5b4f-42ef-94d3-91652887e757');\n",
              "          const dataTable =\n",
              "            await google.colab.kernel.invokeFunction('convertToInteractive',\n",
              "                                                     [key], {});\n",
              "          if (!dataTable) return;\n",
              "\n",
              "          const docLinkHtml = 'Like what you see? Visit the ' +\n",
              "            '<a target=\"_blank\" href=https://colab.research.google.com/notebooks/data_table.ipynb>data table notebook</a>'\n",
              "            + ' to learn more about interactive tables.';\n",
              "          element.innerHTML = '';\n",
              "          dataTable['output_type'] = 'display_data';\n",
              "          await google.colab.output.renderOutput(dataTable, element);\n",
              "          const docLink = document.createElement('div');\n",
              "          docLink.innerHTML = docLinkHtml;\n",
              "          element.appendChild(docLink);\n",
              "        }\n",
              "      </script>\n",
              "    </div>\n",
              "  </div>\n",
              "  "
            ]
          },
          "metadata": {},
          "execution_count": 16
        }
      ]
    },
    {
      "cell_type": "code",
      "source": [
        "test['cpo_pri'] = cpo_pri_transformer.transform(test[['cpo_pri']])\n",
        "test['cpo_pri'].head()"
      ],
      "metadata": {
        "colab": {
          "base_uri": "https://localhost:8080/"
        },
        "id": "GXgFSrz3n6o5",
        "outputId": "713bda5e-55bb-44d9-b62a-301a14f89c8e"
      },
      "execution_count": 17,
      "outputs": [
        {
          "output_type": "execute_result",
          "data": {
            "text/plain": [
              "date\n",
              "2019-03-01    0.0875\n",
              "2019-04-01    0.0725\n",
              "2019-05-01    0.0325\n",
              "2019-06-01    0.0750\n",
              "2019-07-01    0.1325\n",
              "Name: cpo_pri, dtype: float64"
            ]
          },
          "metadata": {},
          "execution_count": 17
        }
      ]
    },
    {
      "cell_type": "markdown",
      "source": [
        "###Create X_train, y_train, X_test and y_test"
      ],
      "metadata": {
        "id": "p_2s3AO-ohCD"
      }
    },
    {
      "cell_type": "code",
      "source": [
        "def createDataset(X, y, time_steps):\n",
        "    Xs, ys = [], []\n",
        "    for i in range(len(X) - time_steps):\n",
        "        data = X.iloc[i:(i + time_steps)].values\n",
        "        Xs.append(data)        \n",
        "        ys.append(y.iloc[i + time_steps])\n",
        "        \n",
        "    return np.array(Xs), np.array(ys)\n",
        "\n",
        "time_steps = 3\n",
        "X_train, y_train = createDataset(train, train.cpo_pri, time_steps)\n",
        "X_test, y_test = createDataset(test, test.cpo_pri, time_steps)\n",
        "print(X_train.shape, y_train.shape)"
      ],
      "metadata": {
        "colab": {
          "base_uri": "https://localhost:8080/"
        },
        "id": "fGTyTKiYoJIb",
        "outputId": "64669188-c76e-442f-efec-1a9659c3fac0"
      },
      "execution_count": 18,
      "outputs": [
        {
          "output_type": "stream",
          "name": "stdout",
          "text": [
            "(96, 3, 7) (96,)\n"
          ]
        }
      ]
    },
    {
      "cell_type": "code",
      "source": [
        "GRU_model = tf.keras.Sequential()\n",
        "GRU_model.add(tf.keras.layers.GRU(75, activation='tanh', input_shape=(X_test.shape[1], X_test.shape[2])))\n",
        "GRU_model.add(tf.keras.layers.Dense(64, activation='tanh'))\n",
        "GRU_model.add(tf.keras.layers.Dense(1))\n",
        "\n",
        "# compile model using adam\n",
        "GRU_model.compile(optimizer='adam',loss='mse',metrics=['mse'])\n",
        "# model training\n",
        "history = GRU_model.fit(X_train, y_train, epochs=100, batch_size = 64, validation_split=0.2) #epochs = 30, batch_size = 60\n",
        "\n",
        "# model evaluation\n",
        "GRU_model.evaluate(X_test, y_test)"
      ],
      "metadata": {
        "id": "EkQPUIAQOvX9",
        "outputId": "0441bf7d-70b9-4d1e-e3b6-9d990be8a4fa",
        "colab": {
          "base_uri": "https://localhost:8080/"
        }
      },
      "execution_count": 19,
      "outputs": [
        {
          "output_type": "stream",
          "name": "stdout",
          "text": [
            "Epoch 1/100\n",
            "2/2 [==============================] - 5s 799ms/step - loss: 0.2339 - mse: 0.2339 - val_loss: 0.0748 - val_mse: 0.0748\n",
            "Epoch 2/100\n",
            "2/2 [==============================] - 0s 52ms/step - loss: 0.0640 - mse: 0.0640 - val_loss: 0.0306 - val_mse: 0.0306\n",
            "Epoch 3/100\n",
            "2/2 [==============================] - 0s 66ms/step - loss: 0.0192 - mse: 0.0192 - val_loss: 0.0791 - val_mse: 0.0791\n",
            "Epoch 4/100\n",
            "2/2 [==============================] - 0s 63ms/step - loss: 0.0495 - mse: 0.0495 - val_loss: 0.1056 - val_mse: 0.1056\n",
            "Epoch 5/100\n",
            "2/2 [==============================] - 0s 47ms/step - loss: 0.0670 - mse: 0.0670 - val_loss: 0.0828 - val_mse: 0.0828\n",
            "Epoch 6/100\n",
            "2/2 [==============================] - 0s 47ms/step - loss: 0.0490 - mse: 0.0490 - val_loss: 0.0489 - val_mse: 0.0489\n",
            "Epoch 7/100\n",
            "2/2 [==============================] - 0s 68ms/step - loss: 0.0236 - mse: 0.0236 - val_loss: 0.0314 - val_mse: 0.0314\n",
            "Epoch 8/100\n",
            "2/2 [==============================] - 0s 71ms/step - loss: 0.0130 - mse: 0.0130 - val_loss: 0.0309 - val_mse: 0.0309\n",
            "Epoch 9/100\n",
            "2/2 [==============================] - 0s 66ms/step - loss: 0.0153 - mse: 0.0153 - val_loss: 0.0368 - val_mse: 0.0368\n",
            "Epoch 10/100\n",
            "2/2 [==============================] - 0s 69ms/step - loss: 0.0212 - mse: 0.0212 - val_loss: 0.0387 - val_mse: 0.0387\n",
            "Epoch 11/100\n",
            "2/2 [==============================] - 0s 69ms/step - loss: 0.0223 - mse: 0.0223 - val_loss: 0.0351 - val_mse: 0.0351\n",
            "Epoch 12/100\n",
            "2/2 [==============================] - 0s 71ms/step - loss: 0.0185 - mse: 0.0185 - val_loss: 0.0303 - val_mse: 0.0303\n",
            "Epoch 13/100\n",
            "2/2 [==============================] - 0s 91ms/step - loss: 0.0134 - mse: 0.0134 - val_loss: 0.0272 - val_mse: 0.0272\n",
            "Epoch 14/100\n",
            "2/2 [==============================] - 0s 52ms/step - loss: 0.0100 - mse: 0.0100 - val_loss: 0.0269 - val_mse: 0.0269\n",
            "Epoch 15/100\n",
            "2/2 [==============================] - 0s 56ms/step - loss: 0.0098 - mse: 0.0098 - val_loss: 0.0285 - val_mse: 0.0285\n",
            "Epoch 16/100\n",
            "2/2 [==============================] - 0s 70ms/step - loss: 0.0113 - mse: 0.0113 - val_loss: 0.0297 - val_mse: 0.0297\n",
            "Epoch 17/100\n",
            "2/2 [==============================] - 0s 68ms/step - loss: 0.0126 - mse: 0.0126 - val_loss: 0.0284 - val_mse: 0.0284\n",
            "Epoch 18/100\n",
            "2/2 [==============================] - 0s 49ms/step - loss: 0.0118 - mse: 0.0118 - val_loss: 0.0252 - val_mse: 0.0252\n",
            "Epoch 19/100\n",
            "2/2 [==============================] - 0s 40ms/step - loss: 0.0099 - mse: 0.0099 - val_loss: 0.0227 - val_mse: 0.0227\n",
            "Epoch 20/100\n",
            "2/2 [==============================] - 0s 40ms/step - loss: 0.0085 - mse: 0.0085 - val_loss: 0.0214 - val_mse: 0.0214\n",
            "Epoch 21/100\n",
            "2/2 [==============================] - 0s 34ms/step - loss: 0.0083 - mse: 0.0083 - val_loss: 0.0209 - val_mse: 0.0209\n",
            "Epoch 22/100\n",
            "2/2 [==============================] - 0s 35ms/step - loss: 0.0085 - mse: 0.0085 - val_loss: 0.0204 - val_mse: 0.0204\n",
            "Epoch 23/100\n",
            "2/2 [==============================] - 0s 40ms/step - loss: 0.0085 - mse: 0.0085 - val_loss: 0.0196 - val_mse: 0.0196\n",
            "Epoch 24/100\n",
            "2/2 [==============================] - 0s 39ms/step - loss: 0.0081 - mse: 0.0081 - val_loss: 0.0188 - val_mse: 0.0188\n",
            "Epoch 25/100\n",
            "2/2 [==============================] - 0s 36ms/step - loss: 0.0075 - mse: 0.0075 - val_loss: 0.0185 - val_mse: 0.0185\n",
            "Epoch 26/100\n",
            "2/2 [==============================] - 0s 37ms/step - loss: 0.0072 - mse: 0.0072 - val_loss: 0.0186 - val_mse: 0.0186\n",
            "Epoch 27/100\n",
            "2/2 [==============================] - 0s 38ms/step - loss: 0.0073 - mse: 0.0073 - val_loss: 0.0185 - val_mse: 0.0185\n",
            "Epoch 28/100\n",
            "2/2 [==============================] - 0s 34ms/step - loss: 0.0072 - mse: 0.0072 - val_loss: 0.0180 - val_mse: 0.0180\n",
            "Epoch 29/100\n",
            "2/2 [==============================] - 0s 57ms/step - loss: 0.0071 - mse: 0.0071 - val_loss: 0.0174 - val_mse: 0.0174\n",
            "Epoch 30/100\n",
            "2/2 [==============================] - 0s 36ms/step - loss: 0.0069 - mse: 0.0069 - val_loss: 0.0167 - val_mse: 0.0167\n",
            "Epoch 31/100\n",
            "2/2 [==============================] - 0s 36ms/step - loss: 0.0067 - mse: 0.0067 - val_loss: 0.0159 - val_mse: 0.0159\n",
            "Epoch 32/100\n",
            "2/2 [==============================] - 0s 43ms/step - loss: 0.0066 - mse: 0.0066 - val_loss: 0.0155 - val_mse: 0.0155\n",
            "Epoch 33/100\n",
            "2/2 [==============================] - 0s 40ms/step - loss: 0.0066 - mse: 0.0066 - val_loss: 0.0153 - val_mse: 0.0153\n",
            "Epoch 34/100\n",
            "2/2 [==============================] - 0s 36ms/step - loss: 0.0065 - mse: 0.0065 - val_loss: 0.0149 - val_mse: 0.0149\n",
            "Epoch 35/100\n",
            "2/2 [==============================] - 0s 36ms/step - loss: 0.0065 - mse: 0.0065 - val_loss: 0.0147 - val_mse: 0.0147\n",
            "Epoch 36/100\n",
            "2/2 [==============================] - 0s 35ms/step - loss: 0.0065 - mse: 0.0065 - val_loss: 0.0147 - val_mse: 0.0147\n",
            "Epoch 37/100\n",
            "2/2 [==============================] - 0s 53ms/step - loss: 0.0064 - mse: 0.0064 - val_loss: 0.0150 - val_mse: 0.0150\n",
            "Epoch 38/100\n",
            "2/2 [==============================] - 0s 40ms/step - loss: 0.0063 - mse: 0.0063 - val_loss: 0.0155 - val_mse: 0.0155\n",
            "Epoch 39/100\n",
            "2/2 [==============================] - 0s 36ms/step - loss: 0.0063 - mse: 0.0063 - val_loss: 0.0159 - val_mse: 0.0159\n",
            "Epoch 40/100\n",
            "2/2 [==============================] - 0s 44ms/step - loss: 0.0063 - mse: 0.0063 - val_loss: 0.0158 - val_mse: 0.0158\n",
            "Epoch 41/100\n",
            "2/2 [==============================] - 0s 42ms/step - loss: 0.0063 - mse: 0.0063 - val_loss: 0.0157 - val_mse: 0.0157\n",
            "Epoch 42/100\n",
            "2/2 [==============================] - 0s 38ms/step - loss: 0.0062 - mse: 0.0062 - val_loss: 0.0159 - val_mse: 0.0159\n",
            "Epoch 43/100\n",
            "2/2 [==============================] - 0s 39ms/step - loss: 0.0062 - mse: 0.0062 - val_loss: 0.0160 - val_mse: 0.0160\n",
            "Epoch 44/100\n",
            "2/2 [==============================] - 0s 40ms/step - loss: 0.0062 - mse: 0.0062 - val_loss: 0.0155 - val_mse: 0.0155\n",
            "Epoch 45/100\n",
            "2/2 [==============================] - 0s 42ms/step - loss: 0.0061 - mse: 0.0061 - val_loss: 0.0148 - val_mse: 0.0148\n",
            "Epoch 46/100\n",
            "2/2 [==============================] - 0s 37ms/step - loss: 0.0060 - mse: 0.0060 - val_loss: 0.0141 - val_mse: 0.0141\n",
            "Epoch 47/100\n",
            "2/2 [==============================] - 0s 51ms/step - loss: 0.0061 - mse: 0.0061 - val_loss: 0.0140 - val_mse: 0.0140\n",
            "Epoch 48/100\n",
            "2/2 [==============================] - 0s 42ms/step - loss: 0.0060 - mse: 0.0060 - val_loss: 0.0145 - val_mse: 0.0145\n",
            "Epoch 49/100\n",
            "2/2 [==============================] - 0s 35ms/step - loss: 0.0059 - mse: 0.0059 - val_loss: 0.0153 - val_mse: 0.0153\n",
            "Epoch 50/100\n",
            "2/2 [==============================] - 0s 57ms/step - loss: 0.0060 - mse: 0.0060 - val_loss: 0.0159 - val_mse: 0.0159\n",
            "Epoch 51/100\n",
            "2/2 [==============================] - 0s 38ms/step - loss: 0.0060 - mse: 0.0060 - val_loss: 0.0160 - val_mse: 0.0160\n",
            "Epoch 52/100\n",
            "2/2 [==============================] - 0s 35ms/step - loss: 0.0060 - mse: 0.0060 - val_loss: 0.0154 - val_mse: 0.0154\n",
            "Epoch 53/100\n",
            "2/2 [==============================] - 0s 36ms/step - loss: 0.0059 - mse: 0.0059 - val_loss: 0.0144 - val_mse: 0.0144\n",
            "Epoch 54/100\n",
            "2/2 [==============================] - 0s 36ms/step - loss: 0.0059 - mse: 0.0059 - val_loss: 0.0138 - val_mse: 0.0138\n",
            "Epoch 55/100\n",
            "2/2 [==============================] - 0s 41ms/step - loss: 0.0059 - mse: 0.0059 - val_loss: 0.0142 - val_mse: 0.0142\n",
            "Epoch 56/100\n",
            "2/2 [==============================] - 0s 36ms/step - loss: 0.0058 - mse: 0.0058 - val_loss: 0.0156 - val_mse: 0.0156\n",
            "Epoch 57/100\n",
            "2/2 [==============================] - 0s 36ms/step - loss: 0.0059 - mse: 0.0059 - val_loss: 0.0163 - val_mse: 0.0163\n",
            "Epoch 58/100\n",
            "2/2 [==============================] - 0s 36ms/step - loss: 0.0059 - mse: 0.0059 - val_loss: 0.0153 - val_mse: 0.0153\n",
            "Epoch 59/100\n",
            "2/2 [==============================] - 0s 37ms/step - loss: 0.0058 - mse: 0.0058 - val_loss: 0.0141 - val_mse: 0.0141\n",
            "Epoch 60/100\n",
            "2/2 [==============================] - 0s 40ms/step - loss: 0.0059 - mse: 0.0059 - val_loss: 0.0139 - val_mse: 0.0139\n",
            "Epoch 61/100\n",
            "2/2 [==============================] - 0s 36ms/step - loss: 0.0059 - mse: 0.0059 - val_loss: 0.0145 - val_mse: 0.0145\n",
            "Epoch 62/100\n",
            "2/2 [==============================] - 0s 75ms/step - loss: 0.0057 - mse: 0.0057 - val_loss: 0.0155 - val_mse: 0.0155\n",
            "Epoch 63/100\n",
            "2/2 [==============================] - 0s 78ms/step - loss: 0.0057 - mse: 0.0057 - val_loss: 0.0164 - val_mse: 0.0164\n",
            "Epoch 64/100\n",
            "2/2 [==============================] - 0s 47ms/step - loss: 0.0058 - mse: 0.0058 - val_loss: 0.0162 - val_mse: 0.0162\n",
            "Epoch 65/100\n",
            "2/2 [==============================] - 0s 42ms/step - loss: 0.0058 - mse: 0.0058 - val_loss: 0.0156 - val_mse: 0.0156\n",
            "Epoch 66/100\n",
            "2/2 [==============================] - 0s 38ms/step - loss: 0.0057 - mse: 0.0057 - val_loss: 0.0158 - val_mse: 0.0158\n",
            "Epoch 67/100\n",
            "2/2 [==============================] - 0s 35ms/step - loss: 0.0057 - mse: 0.0057 - val_loss: 0.0160 - val_mse: 0.0160\n",
            "Epoch 68/100\n",
            "2/2 [==============================] - 0s 41ms/step - loss: 0.0057 - mse: 0.0057 - val_loss: 0.0157 - val_mse: 0.0157\n",
            "Epoch 69/100\n",
            "2/2 [==============================] - 0s 36ms/step - loss: 0.0056 - mse: 0.0056 - val_loss: 0.0153 - val_mse: 0.0153\n",
            "Epoch 70/100\n",
            "2/2 [==============================] - 0s 41ms/step - loss: 0.0056 - mse: 0.0056 - val_loss: 0.0147 - val_mse: 0.0147\n",
            "Epoch 71/100\n",
            "2/2 [==============================] - 0s 36ms/step - loss: 0.0057 - mse: 0.0057 - val_loss: 0.0145 - val_mse: 0.0145\n",
            "Epoch 72/100\n",
            "2/2 [==============================] - 0s 58ms/step - loss: 0.0056 - mse: 0.0056 - val_loss: 0.0157 - val_mse: 0.0157\n",
            "Epoch 73/100\n",
            "2/2 [==============================] - 0s 36ms/step - loss: 0.0056 - mse: 0.0056 - val_loss: 0.0168 - val_mse: 0.0168\n",
            "Epoch 74/100\n",
            "2/2 [==============================] - 0s 44ms/step - loss: 0.0057 - mse: 0.0057 - val_loss: 0.0164 - val_mse: 0.0164\n",
            "Epoch 75/100\n",
            "2/2 [==============================] - 0s 38ms/step - loss: 0.0056 - mse: 0.0056 - val_loss: 0.0154 - val_mse: 0.0154\n",
            "Epoch 76/100\n",
            "2/2 [==============================] - 0s 41ms/step - loss: 0.0055 - mse: 0.0055 - val_loss: 0.0143 - val_mse: 0.0143\n",
            "Epoch 77/100\n",
            "2/2 [==============================] - 0s 39ms/step - loss: 0.0057 - mse: 0.0057 - val_loss: 0.0139 - val_mse: 0.0139\n",
            "Epoch 78/100\n",
            "2/2 [==============================] - 0s 37ms/step - loss: 0.0061 - mse: 0.0061 - val_loss: 0.0144 - val_mse: 0.0144\n",
            "Epoch 79/100\n",
            "2/2 [==============================] - 0s 38ms/step - loss: 0.0058 - mse: 0.0058 - val_loss: 0.0160 - val_mse: 0.0160\n",
            "Epoch 80/100\n",
            "2/2 [==============================] - 0s 48ms/step - loss: 0.0055 - mse: 0.0055 - val_loss: 0.0183 - val_mse: 0.0183\n",
            "Epoch 81/100\n",
            "2/2 [==============================] - 0s 41ms/step - loss: 0.0059 - mse: 0.0059 - val_loss: 0.0193 - val_mse: 0.0193\n",
            "Epoch 82/100\n",
            "2/2 [==============================] - 0s 43ms/step - loss: 0.0062 - mse: 0.0062 - val_loss: 0.0180 - val_mse: 0.0180\n",
            "Epoch 83/100\n",
            "2/2 [==============================] - 0s 36ms/step - loss: 0.0058 - mse: 0.0058 - val_loss: 0.0150 - val_mse: 0.0150\n",
            "Epoch 84/100\n",
            "2/2 [==============================] - 0s 35ms/step - loss: 0.0056 - mse: 0.0056 - val_loss: 0.0133 - val_mse: 0.0133\n",
            "Epoch 85/100\n",
            "2/2 [==============================] - 0s 41ms/step - loss: 0.0060 - mse: 0.0060 - val_loss: 0.0133 - val_mse: 0.0133\n",
            "Epoch 86/100\n",
            "2/2 [==============================] - 0s 36ms/step - loss: 0.0059 - mse: 0.0059 - val_loss: 0.0143 - val_mse: 0.0143\n",
            "Epoch 87/100\n",
            "2/2 [==============================] - 0s 37ms/step - loss: 0.0054 - mse: 0.0054 - val_loss: 0.0161 - val_mse: 0.0161\n",
            "Epoch 88/100\n",
            "2/2 [==============================] - 0s 37ms/step - loss: 0.0055 - mse: 0.0055 - val_loss: 0.0177 - val_mse: 0.0177\n",
            "Epoch 89/100\n",
            "2/2 [==============================] - 0s 36ms/step - loss: 0.0059 - mse: 0.0059 - val_loss: 0.0176 - val_mse: 0.0176\n",
            "Epoch 90/100\n",
            "2/2 [==============================] - 0s 42ms/step - loss: 0.0058 - mse: 0.0058 - val_loss: 0.0159 - val_mse: 0.0159\n",
            "Epoch 91/100\n",
            "2/2 [==============================] - 0s 37ms/step - loss: 0.0054 - mse: 0.0054 - val_loss: 0.0142 - val_mse: 0.0142\n",
            "Epoch 92/100\n",
            "2/2 [==============================] - 0s 57ms/step - loss: 0.0055 - mse: 0.0055 - val_loss: 0.0134 - val_mse: 0.0134\n",
            "Epoch 93/100\n",
            "2/2 [==============================] - 0s 37ms/step - loss: 0.0057 - mse: 0.0057 - val_loss: 0.0134 - val_mse: 0.0134\n",
            "Epoch 94/100\n",
            "2/2 [==============================] - 0s 37ms/step - loss: 0.0056 - mse: 0.0056 - val_loss: 0.0141 - val_mse: 0.0141\n",
            "Epoch 95/100\n",
            "2/2 [==============================] - 0s 41ms/step - loss: 0.0053 - mse: 0.0053 - val_loss: 0.0156 - val_mse: 0.0156\n",
            "Epoch 96/100\n",
            "2/2 [==============================] - 0s 37ms/step - loss: 0.0053 - mse: 0.0053 - val_loss: 0.0167 - val_mse: 0.0167\n",
            "Epoch 97/100\n",
            "2/2 [==============================] - 0s 54ms/step - loss: 0.0056 - mse: 0.0056 - val_loss: 0.0160 - val_mse: 0.0160\n",
            "Epoch 98/100\n",
            "2/2 [==============================] - 0s 39ms/step - loss: 0.0055 - mse: 0.0055 - val_loss: 0.0138 - val_mse: 0.0138\n",
            "Epoch 99/100\n",
            "2/2 [==============================] - 0s 58ms/step - loss: 0.0054 - mse: 0.0054 - val_loss: 0.0128 - val_mse: 0.0128\n",
            "Epoch 100/100\n",
            "2/2 [==============================] - 0s 40ms/step - loss: 0.0055 - mse: 0.0055 - val_loss: 0.0130 - val_mse: 0.0130\n",
            "1/1 [==============================] - 0s 29ms/step - loss: 0.0087 - mse: 0.0087\n"
          ]
        },
        {
          "output_type": "execute_result",
          "data": {
            "text/plain": [
              "[0.0087389862164855, 0.0087389862164855]"
            ]
          },
          "metadata": {},
          "execution_count": 19
        }
      ]
    },
    {
      "cell_type": "code",
      "source": [
        "print(history.history.keys())\n",
        "# \"Loss\"\n",
        "plt.plot(history.history['loss'])\n",
        "plt.plot(history.history['val_loss'])\n",
        "plt.title('model loss')\n",
        "plt.ylabel('loss')\n",
        "plt.xlabel('epoch')\n",
        "plt.legend(['train', 'validation'], loc='upper left')\n",
        "plt.show()"
      ],
      "metadata": {
        "colab": {
          "base_uri": "https://localhost:8080/",
          "height": 421
        },
        "id": "tvMUIg5SHsEF",
        "outputId": "fd4b622c-1a68-433f-d42e-bfa540029872"
      },
      "execution_count": 20,
      "outputs": [
        {
          "output_type": "stream",
          "name": "stdout",
          "text": [
            "dict_keys(['loss', 'mse', 'val_loss', 'val_mse'])\n"
          ]
        },
        {
          "output_type": "display_data",
          "data": {
            "text/plain": [
              "<Figure size 720x360 with 1 Axes>"
            ],
            "image/png": "[encoded data removed]"
          },
          "metadata": {}
        }
      ]
    },
    {
      "cell_type": "code",
      "source": [
        "mse_GRU = GRU_model.evaluate(X_test, y_test)"
      ],
      "metadata": {
        "colab": {
          "base_uri": "https://localhost:8080/"
        },
        "id": "ImssP1C-YLO6",
        "outputId": "ee4aff45-1570-48eb-8e6c-f19f38ad067e"
      },
      "execution_count": 21,
      "outputs": [
        {
          "output_type": "stream",
          "name": "stdout",
          "text": [
            "1/1 [==============================] - 0s 53ms/step - loss: 0.0087 - mse: 0.0087\n"
          ]
        }
      ]
    },
    {
      "cell_type": "markdown",
      "source": [
        "####Baseline MSE = 0.0087"
      ],
      "metadata": {
        "id": "kaLutRuWgU4K"
      }
    },
    {
      "cell_type": "code",
      "source": [
        "GRU_model.summary()"
      ],
      "metadata": {
        "colab": {
          "base_uri": "https://localhost:8080/"
        },
        "id": "A8XbxYQeiCoj",
        "outputId": "e6df78be-4b85-4e3e-e0cd-18de418a7de6"
      },
      "execution_count": 22,
      "outputs": [
        {
          "output_type": "stream",
          "name": "stdout",
          "text": [
            "Model: \"sequential\"\n",
            "_________________________________________________________________\n",
            " Layer (type)                Output Shape              Param #   \n",
            "=================================================================\n",
            " gru (GRU)                   (None, 75)                18900     \n",
            "                                                                 \n",
            " dense (Dense)               (None, 64)                4864      \n",
            "                                                                 \n",
            " dense_1 (Dense)             (None, 1)                 65        \n",
            "                                                                 \n",
            "=================================================================\n",
            "Total params: 23,829\n",
            "Trainable params: 23,829\n",
            "Non-trainable params: 0\n",
            "_________________________________________________________________\n"
          ]
        }
      ]
    },
    {
      "cell_type": "markdown",
      "source": [
        "###Predict the Test without Hyperparameter Tuning"
      ],
      "metadata": {
        "id": "bNFFP1sSleo-"
      }
    },
    {
      "cell_type": "code",
      "source": [
        "y_pred = GRU_model.predict(X_test)\n",
        "y_pred"
      ],
      "metadata": {
        "colab": {
          "base_uri": "https://localhost:8080/"
        },
        "id": "wujQ6JNuiCyl",
        "outputId": "0a5808cd-ce77-4fd2-cb2a-2e62fe62a354"
      },
      "execution_count": 23,
      "outputs": [
        {
          "output_type": "stream",
          "name": "stdout",
          "text": [
            "1/1 [==============================] - 0s 436ms/step\n"
          ]
        },
        {
          "output_type": "execute_result",
          "data": {
            "text/plain": [
              "array([[ 0.05296203],\n",
              "       [ 0.06009107],\n",
              "       [ 0.09116301],\n",
              "       [ 0.05801881],\n",
              "       [ 0.0350057 ],\n",
              "       [ 0.02692978],\n",
              "       [ 0.01822211],\n",
              "       [-0.01463185],\n",
              "       [-0.06729976],\n",
              "       [-0.08175478],\n",
              "       [-0.07757714],\n",
              "       [-0.08789469],\n",
              "       [-0.10858674],\n",
              "       [-0.10113949],\n",
              "       [-0.1056468 ],\n",
              "       [-0.13836733],\n",
              "       [-0.13417089],\n",
              "       [-0.00818897],\n",
              "       [ 0.0968781 ],\n",
              "       [ 0.06736042],\n",
              "       [-0.00087028],\n",
              "       [ 0.02346343]], dtype=float32)"
            ]
          },
          "metadata": {},
          "execution_count": 23
        }
      ]
    },
    {
      "cell_type": "code",
      "source": [
        "y_pred.reshape(1,-1)"
      ],
      "metadata": {
        "colab": {
          "base_uri": "https://localhost:8080/"
        },
        "id": "GI8XYmymlslh",
        "outputId": "4e09f459-b73c-4bc1-947d-c76308804972"
      },
      "execution_count": 24,
      "outputs": [
        {
          "output_type": "execute_result",
          "data": {
            "text/plain": [
              "array([[ 0.05296203,  0.06009107,  0.09116301,  0.05801881,  0.0350057 ,\n",
              "         0.02692978,  0.01822211, -0.01463185, -0.06729976, -0.08175478,\n",
              "        -0.07757714, -0.08789469, -0.10858674, -0.10113949, -0.1056468 ,\n",
              "        -0.13836733, -0.13417089, -0.00818897,  0.0968781 ,  0.06736042,\n",
              "        -0.00087028,  0.02346343]], dtype=float32)"
            ]
          },
          "metadata": {},
          "execution_count": 24
        }
      ]
    },
    {
      "cell_type": "markdown",
      "source": [
        "###Invert Transformed Data"
      ],
      "metadata": {
        "id": "jrtmvrZ_l2__"
      }
    },
    {
      "cell_type": "code",
      "source": [
        "y_train_inv = cpo_pri_transformer.inverse_transform(y_train.reshape(1, -1))\n",
        "y_test_inv = cpo_pri_transformer.inverse_transform(y_test.reshape(1, -1))\n",
        "y_pred_inv = cpo_pri_transformer.inverse_transform(y_pred.reshape(1,-1))\n",
        "print(y_train_inv)\n",
        "print(y_test_inv)\n",
        "print(y_pred_inv)"
      ],
      "metadata": {
        "colab": {
          "base_uri": "https://localhost:8080/"
        },
        "id": "FVSGGT57lxHw",
        "outputId": "cdd89154-04d7-4af8-cf34-f12e0d242167"
      },
      "execution_count": 25,
      "outputs": [
        {
          "output_type": "stream",
          "name": "stdout",
          "text": [
            "[[376. 383. 382. 396. 402. 390. 404. 382. 382. 391. 396. 413. 401. 410.\n",
            "  425. 408. 392. 371. 356. 362. 356. 352. 333. 357. 411. 404. 387. 395.\n",
            "  434. 488. 508. 494. 575. 614. 616. 707. 719. 655. 661. 687. 625. 611.\n",
            "  631. 655. 616. 586. 615. 607. 590. 535. 518. 519. 562. 552. 508. 476.\n",
            "  513. 545. 532. 550. 561. 567. 580. 559. 562. 553. 533. 498. 504. 525.\n",
            "  547. 556. 566. 621. 659. 671. 688. 705. 633. 661. 674. 703. 694. 681.\n",
            "  663. 632. 561. 497. 509. 475. 392. 319. 354. 388. 381. 370.]]\n",
            "[[349. 372. 324. 315. 312. 306. 288. 255. 257. 265. 254. 240. 254. 251.\n",
            "  234. 255. 330. 362. 310. 277. 323. 360.]]\n",
            "[[340.1848  343.03644 355.4652  342.20752 333.0023  329.7719  326.28885\n",
            "  313.14725 292.08008 286.2981  287.96915 283.84213 275.5653  278.54422\n",
            "  276.7413  263.65308 265.33167 315.72443 357.75125 345.94415 318.6519\n",
            "  328.38538]]\n"
          ]
        }
      ]
    },
    {
      "cell_type": "markdown",
      "source": [
        "###Plot History, Actual and Predicted Value"
      ],
      "metadata": {
        "id": "PxYTgRmhmDtL"
      }
    },
    {
      "cell_type": "code",
      "source": [
        "y_train_inv = y_train_inv.flatten()\n",
        "y_train_inv"
      ],
      "metadata": {
        "colab": {
          "base_uri": "https://localhost:8080/"
        },
        "id": "YXY0nwhElxLo",
        "outputId": "95bdfd28-072d-48ed-9412-36ac2a99138c"
      },
      "execution_count": 26,
      "outputs": [
        {
          "output_type": "execute_result",
          "data": {
            "text/plain": [
              "array([376., 383., 382., 396., 402., 390., 404., 382., 382., 391., 396.,\n",
              "       413., 401., 410., 425., 408., 392., 371., 356., 362., 356., 352.,\n",
              "       333., 357., 411., 404., 387., 395., 434., 488., 508., 494., 575.,\n",
              "       614., 616., 707., 719., 655., 661., 687., 625., 611., 631., 655.,\n",
              "       616., 586., 615., 607., 590., 535., 518., 519., 562., 552., 508.,\n",
              "       476., 513., 545., 532., 550., 561., 567., 580., 559., 562., 553.,\n",
              "       533., 498., 504., 525., 547., 556., 566., 621., 659., 671., 688.,\n",
              "       705., 633., 661., 674., 703., 694., 681., 663., 632., 561., 497.,\n",
              "       509., 475., 392., 319., 354., 388., 381., 370.])"
            ]
          },
          "metadata": {},
          "execution_count": 26
        }
      ]
    },
    {
      "cell_type": "code",
      "source": [
        "y_test_inv = y_test_inv.flatten()\n",
        "y_test_inv"
      ],
      "metadata": {
        "colab": {
          "base_uri": "https://localhost:8080/"
        },
        "id": "z_zQn_rpl_MC",
        "outputId": "ac492bc4-9735-416d-84bb-89a7159a36ae"
      },
      "execution_count": 27,
      "outputs": [
        {
          "output_type": "execute_result",
          "data": {
            "text/plain": [
              "array([349., 372., 324., 315., 312., 306., 288., 255., 257., 265., 254.,\n",
              "       240., 254., 251., 234., 255., 330., 362., 310., 277., 323., 360.])"
            ]
          },
          "metadata": {},
          "execution_count": 27
        }
      ]
    },
    {
      "cell_type": "code",
      "source": [
        "y_pred_inv = y_pred_inv.flatten()\n",
        "y_pred_inv"
      ],
      "metadata": {
        "colab": {
          "base_uri": "https://localhost:8080/"
        },
        "id": "X4GInUagmJUO",
        "outputId": "883bdebd-3d2a-4fc0-836a-b4791141778a"
      },
      "execution_count": 28,
      "outputs": [
        {
          "output_type": "execute_result",
          "data": {
            "text/plain": [
              "array([340.1848 , 343.03644, 355.4652 , 342.20752, 333.0023 , 329.7719 ,\n",
              "       326.28885, 313.14725, 292.08008, 286.2981 , 287.96915, 283.84213,\n",
              "       275.5653 , 278.54422, 276.7413 , 263.65308, 265.33167, 315.72443,\n",
              "       357.75125, 345.94415, 318.6519 , 328.38538], dtype=float32)"
            ]
          },
          "metadata": {},
          "execution_count": 28
        }
      ]
    },
    {
      "cell_type": "code",
      "source": [
        "plt.figure(figsize=(17,9))\n",
        "#plt.grid()\n",
        "#plt.plot(np.arange(0, len(y_train)), y_train_inv, color='green', label=\"History\")\n",
        "plt.plot(np.arange(len(y_train), len(y_train) + len(y_test)), y_test_inv, color='red', marker='.', label=\"Actual\")\n",
        "plt.plot(np.arange(len(y_train), len(y_train) + len(y_test)), y_pred_inv, color='green', label=\"Tuned GRU Prediction\")\n",
        "plt.ylabel('Crude Palm Oil Price')\n",
        "plt.xlabel('Time step')\n",
        "plt.legend()\n",
        "ax.grid()\n",
        "#plt.grid()\n",
        "#plt.show();"
      ],
      "metadata": {
        "colab": {
          "base_uri": "https://localhost:8080/",
          "height": 616
        },
        "id": "vHGNO1xAmJYI",
        "outputId": "806b9d9b-76a9-4435-c64c-63f73df17787"
      },
      "execution_count": 29,
      "outputs": [
        {
          "output_type": "display_data",
          "data": {
            "text/plain": [
              "<Figure size 1224x648 with 1 Axes>"
            ],
            "image/png": "[encoded data removed]"
          },
          "metadata": {}
        }
      ]
    },
    {
      "cell_type": "markdown",
      "source": [
        "###Evaluate GRU Model Accuracy"
      ],
      "metadata": {
        "id": "1NImON2RmyWF"
      }
    },
    {
      "cell_type": "code",
      "source": [
        "MAE_GRU = mean_absolute_error(y_test_inv, y_pred_inv)\n",
        "print('MAE value of the GRU Model is:', MAE_GRU)\n",
        "\n",
        "MDA_GRU = mda(y_test_inv, y_pred_inv)\n",
        "print('MDA value of the GRU Model is:', MDA_GRU)\n",
        "\n",
        "MAPE_GRU = mean_absolute_percentage_error(y_test_inv, y_pred_inv)\n",
        "print('MAPE value of the GRU Model is:', MAPE_GRU)\n",
        "\n",
        "RMSE_GRU = mean_squared_error(y_test_inv,y_pred_inv, squared=False)\n",
        "print('RMSE value of the GRU Model is:', RMSE_GRU)\n",
        "\n",
        "MSE_GRU = mean_squared_error(y_test_inv,y_pred_inv)\n",
        "print('MSE value of the GRU Model is:', MSE_GRU)\n",
        "\n",
        "#EVS_GRU = explained_variance_score(y_test_inv, y_pred_inv)\n",
        "#print('EVS score of the GRU Model is:', EVS_GRU)"
      ],
      "metadata": {
        "colab": {
          "base_uri": "https://localhost:8080/"
        },
        "id": "fIc5ITw4m2QJ",
        "outputId": "308f9640-a63d-4588-ba1e-5987dc236a70"
      },
      "execution_count": 30,
      "outputs": [
        {
          "output_type": "stream",
          "name": "stdout",
          "text": [
            "MAE value of the GRU Model is: 33.452599265358664\n",
            "MDA value of the GRU Model is: 0.5714285714285714\n",
            "MAPE value of the GRU Model is: 11.659556817069152\n",
            "RMSE value of the GRU Model is: 37.393017534094625\n",
            "MSE value of the GRU Model is: 1398.2377603051082\n"
          ]
        }
      ]
    },
    {
      "cell_type": "markdown",
      "source": [
        "###Tuning GRU with Keras Tuner"
      ],
      "metadata": {
        "id": "fs98oM36Yw_r"
      }
    },
    {
      "cell_type": "markdown",
      "source": [
        "Define A Model-Building Class"
      ],
      "metadata": {
        "id": "UHH-Phuz1M-L"
      }
    },
    {
      "cell_type": "code",
      "source": [
        "#class ANNhypermodel(HyperModel):\n",
        "class GRUHyperModel(HyperModel):\n",
        "    \n",
        "    def __init__(self, input_shape):\n",
        "        self.input_shape= input_shape\n",
        "        \n",
        "    def build(self, hp):\n",
        "        model= keras.Sequential()\n",
        "        \n",
        "        # Tune the number of units in the first Dense layer\n",
        "        # Defining dense units as a close approx to the original neural network to perform a fair comparision!\n",
        "      \n",
        "        hp_units_1= hp.Int('units_1', min_value=128, max_value= 160, step=32)\n",
        "        hp_units_2= hp.Int('units_2', min_value=64, max_value= 128, step=32)\n",
        "        hp_units_3= hp.Int('units_3', min_value=32, max_value= 64, step=16)\n",
        "        hp_units_4= hp.Int('units_4', min_value=16, max_value= 32, step=8)\n",
        "\n",
        "        model.add(keras.layers.Dense(units=hp_units_1, activation='tanh', input_shape= self.input_shape))\n",
        "        model.add(keras.layers.Dense(units=hp_units_2, activation='tanh'))\n",
        "        model.add(keras.layers.Dense(units=hp_units_3, activation='tanh'))\n",
        "        model.add(keras.layers.Dense(units=hp_units_4, activation='tanh'))\n",
        "        model.add(keras.layers.Dense(1))\n",
        "        #Tune the dropout\n",
        "        model.add(\n",
        "            Dropout(\n",
        "                rate=hp.Float(\n",
        "                    'dropout',\n",
        "                    min_value=0.0,\n",
        "                    max_value=0.5,\n",
        "                    default=0.25,\n",
        "                    step=0.05\n",
        "                )\n",
        "            )\n",
        "        )\n",
        "        \n",
        "        # Tune the epoch for the optimizer\n",
        "\n",
        "        #batch_size = hp.Int('batch_size',8,16,24,32,40,48,56,64,72,80,88,96, step=8)\n",
        "        \n",
        "        optimizers = hp.Choice('optimizer',values=['rmsprop','adam', 'AdamW', 'nadam','sgd','adadelta','adagrad'])\n",
        "\n",
        "        hp_dense_activation = hp.Choice('activation',values=['relu', 'tanh', 'sigmoid', 'linear', 'Softmax', 'ELU', 'linear'])\n",
        "\n",
        "        # Tune the batch size for the optimizer \n",
        "        hp_batch_size = hp.Int('batch_size', min_value = 8, max_value = 96, step = 8, default=8)\n",
        "        \n",
        "        # Tune the epoch for the optimizer\n",
        "        hp_epoch = hp.Int('epoch', min_value = 5, max_value = 100, step = 5, default=5)\n",
        "\n",
        "        # Tune the epoch for the momentum\n",
        "        hp_momentum = hp.Float('momentum', min_value = 0.8, max_value = 0.99, step = 0.01, default=0.9)\n",
        "\n",
        "        # Tune the epoch for the decay\n",
        "        hp_decay = hp.Float('decay', min_value = 1e-9, max_value = 1e-3, step= 0.0001, default=1e-7)\n",
        "\n",
        "        # Tune the learning rate for the optimizer \n",
        "        hp_learning_rate=hp.Float('learning_rate', min_value=1e-4, max_value=1e-2, sampling='LOG', default= 0.0005)\n",
        "       # -------------------------------------------------------\n",
        "        model.compile(loss='mse',\n",
        "                    optimizer= keras.optimizers.Adam(learning_rate=hp_learning_rate),\n",
        "                    metrics= ['mae','mse']\n",
        "                     )\n",
        "\n",
        "        return model\n",
        "\n",
        "#hypermodel= ANNhypermodel(input_shape = (X_test.shape[1], X_test.shape[2]))\n",
        "hypermodel = GRUHyperModel(input_shape = (X_test.shape[1], X_test.shape[2]))"
      ],
      "metadata": {
        "id": "6sH3KVfoj7jq"
      },
      "execution_count": null,
      "outputs": []
    },
    {
      "cell_type": "markdown",
      "source": [
        "###Build Random Search Tuner"
      ],
      "metadata": {
        "id": "Vw6sRopRkNq-"
      }
    },
    {
      "cell_type": "code",
      "source": [
        "tuner_rs = RandomSearch(\n",
        "            hypermodel,\n",
        "            objective='mse',\n",
        "            seed=42,\n",
        "            max_trials=10,\n",
        "            executions_per_trial=2, overwrite=True\n",
        "        )"
      ],
      "metadata": {
        "id": "oPWNkr_dj7ng"
      },
      "execution_count": null,
      "outputs": []
    },
    {
      "cell_type": "markdown",
      "source": [
        "###Run Random Search"
      ],
      "metadata": {
        "id": "UH8vIpuOkl0V"
      }
    },
    {
      "cell_type": "code",
      "source": [
        "tuner_rs.search(X_train, y_train, epochs=16, validation_split=0.2, verbose=0)"
      ],
      "metadata": {
        "id": "XC6nlTF4j7rN"
      },
      "execution_count": null,
      "outputs": []
    },
    {
      "cell_type": "markdown",
      "source": [
        "###Evaluate Random Search"
      ],
      "metadata": {
        "id": "ZWc0whe7l-_0"
      }
    },
    {
      "cell_type": "code",
      "source": [
        "best_model = tuner_rs.get_best_models(num_models=1)[0]\n",
        "mse_rs = best_model.evaluate(X_test, y_test)[1]"
      ],
      "metadata": {
        "colab": {
          "base_uri": "https://localhost:8080/"
        },
        "id": "V0u8mTuTj7wl",
        "outputId": "9fcff2fa-a223-41c2-8e0c-46b8684c0d3d"
      },
      "execution_count": null,
      "outputs": [
        {
          "output_type": "stream",
          "name": "stdout",
          "text": [
            "1/1 [==============================] - 0s 451ms/step - loss: 0.1215 - mae: 0.3291 - mse: 0.1215\n"
          ]
        }
      ]
    },
    {
      "cell_type": "markdown",
      "source": [
        "####Random Search MSE = 0.1215"
      ],
      "metadata": {
        "id": "9jgCzQ74mQjM"
      }
    },
    {
      "cell_type": "code",
      "source": [
        "best_params = tuner_rs.get_best_hyperparameters()\n",
        "\n",
        "best_params[0].values"
      ],
      "metadata": {
        "colab": {
          "base_uri": "https://localhost:8080/"
        },
        "id": "jJ5NIqxpj72V",
        "outputId": "31179a12-1020-41b6-eba5-b124533bdceb"
      },
      "execution_count": null,
      "outputs": [
        {
          "output_type": "execute_result",
          "data": {
            "text/plain": [
              "{'units_1': 160,\n",
              " 'units_2': 128,\n",
              " 'units_3': 64,\n",
              " 'units_4': 32,\n",
              " 'dropout': 0.1,\n",
              " 'optimizer': 'sgd',\n",
              " 'activation': 'linear',\n",
              " 'batch_size': 64,\n",
              " 'epoch': 70,\n",
              " 'momentum': 0.8700000000000001,\n",
              " 'decay': 0.00010000100000000001,\n",
              " 'learning_rate': 0.0010874771484415556}"
            ]
          },
          "metadata": {},
          "execution_count": 35
        }
      ]
    },
    {
      "cell_type": "markdown",
      "source": [
        "###Build Bayesian Optimization"
      ],
      "metadata": {
        "id": "AxWQfBYpnLjI"
      }
    },
    {
      "cell_type": "code",
      "source": [
        "tuner_bo = BayesianOptimization(\n",
        "            hypermodel,\n",
        "            objective='val_mse',\n",
        "            max_trials=10,\n",
        "            seed=42,\n",
        "            executions_per_trial=2,\n",
        "            directory='bo'\n",
        "        )"
      ],
      "metadata": {
        "id": "uixpiCLPmsaZ"
      },
      "execution_count": null,
      "outputs": []
    },
    {
      "cell_type": "markdown",
      "source": [
        "###Run Bayesian Optimization"
      ],
      "metadata": {
        "id": "_lTWVuDcoYU9"
      }
    },
    {
      "cell_type": "code",
      "source": [
        "tuner_bo.search(X_train, y_train, epochs=10, validation_split=0.2, verbose=0)\n",
        "\n",
        "best_model = tuner_bo.get_best_models(num_models=1)[0]\n",
        "mse_bo = best_model.evaluate(X_test, y_test)[1]"
      ],
      "metadata": {
        "id": "L6qZa1Kvmsgn",
        "outputId": "e13dbf4d-ad77-4fd0-c32d-8243f985a8e9",
        "colab": {
          "base_uri": "https://localhost:8080/"
        }
      },
      "execution_count": null,
      "outputs": [
        {
          "output_type": "stream",
          "name": "stdout",
          "text": [
            "1/1 [==============================] - 0s 439ms/step - loss: 0.2173 - mae: 0.4528 - mse: 0.2173\n"
          ]
        }
      ]
    },
    {
      "cell_type": "markdown",
      "source": [
        "###Bayesian Optimization Search MSE = 0.2173"
      ],
      "metadata": {
        "id": "KiNYUG96ZUIz"
      }
    },
    {
      "cell_type": "markdown",
      "source": [
        "###Evaluate Bayesian Optimization"
      ],
      "metadata": {
        "id": "Ppb8qezeoe7c"
      }
    },
    {
      "cell_type": "code",
      "source": [
        "best_params = tuner_bo.get_best_hyperparameters()\n",
        "\n",
        "best_params[0].values"
      ],
      "metadata": {
        "colab": {
          "base_uri": "https://localhost:8080/"
        },
        "id": "0bDWDTrOmsm1",
        "outputId": "9b4dcb4d-a745-42ad-af80-6e0958fbbb40"
      },
      "execution_count": null,
      "outputs": [
        {
          "output_type": "execute_result",
          "data": {
            "text/plain": [
              "{'units_1': 128,\n",
              " 'units_2': 64,\n",
              " 'units_3': 48,\n",
              " 'units_4': 32,\n",
              " 'dropout': 0.25,\n",
              " 'optimizer': 'adadelta',\n",
              " 'activation': 'sigmoid',\n",
              " 'batch_size': 24,\n",
              " 'epoch': 40,\n",
              " 'momentum': 0.8700000000000001,\n",
              " 'decay': 0.00010000100000000001,\n",
              " 'learning_rate': 0.001453129317743269}"
            ]
          },
          "metadata": {},
          "execution_count": 38
        }
      ]
    },
    {
      "cell_type": "code",
      "source": [
        "best_model = tuner_bo.get_best_models(num_models=1)[0]\n",
        "mse_bo = best_model.evaluate(X_test, y_test)[1]"
      ],
      "metadata": {
        "colab": {
          "base_uri": "https://localhost:8080/"
        },
        "id": "odraTQ8KbUw9",
        "outputId": "ca2b5bd9-2f81-48ac-c97a-0b2a65c6638a"
      },
      "execution_count": null,
      "outputs": [
        {
          "output_type": "stream",
          "name": "stderr",
          "text": [
            "WARNING:tensorflow:Detecting that an object or model or tf.train.Checkpoint is being deleted with unrestored values. See the following logs for the specific values in question. To silence these warnings, use `status.expect_partial()`. See https://www.tensorflow.org/api_docs/python/tf/train/Checkpoint#restorefor details about the status object returned by the restore function.\n",
            "WARNING:tensorflow:Value in checkpoint could not be found in the restored object: (root).optimizer._variables.1\n",
            "WARNING:tensorflow:Value in checkpoint could not be found in the restored object: (root).optimizer._variables.2\n",
            "WARNING:tensorflow:Value in checkpoint could not be found in the restored object: (root).optimizer._variables.3\n",
            "WARNING:tensorflow:Value in checkpoint could not be found in the restored object: (root).optimizer._variables.4\n",
            "WARNING:tensorflow:Value in checkpoint could not be found in the restored object: (root).optimizer._variables.5\n",
            "WARNING:tensorflow:Value in checkpoint could not be found in the restored object: (root).optimizer._variables.6\n",
            "WARNING:tensorflow:Value in checkpoint could not be found in the restored object: (root).optimizer._variables.7\n",
            "WARNING:tensorflow:Value in checkpoint could not be found in the restored object: (root).optimizer._variables.8\n",
            "WARNING:tensorflow:Value in checkpoint could not be found in the restored object: (root).optimizer._variables.9\n",
            "WARNING:tensorflow:Value in checkpoint could not be found in the restored object: (root).optimizer._variables.10\n",
            "WARNING:tensorflow:Value in checkpoint could not be found in the restored object: (root).optimizer._variables.11\n",
            "WARNING:tensorflow:Value in checkpoint could not be found in the restored object: (root).optimizer._variables.12\n",
            "WARNING:tensorflow:Value in checkpoint could not be found in the restored object: (root).optimizer._variables.13\n",
            "WARNING:tensorflow:Value in checkpoint could not be found in the restored object: (root).optimizer._variables.14\n",
            "WARNING:tensorflow:Value in checkpoint could not be found in the restored object: (root).optimizer._variables.15\n",
            "WARNING:tensorflow:Value in checkpoint could not be found in the restored object: (root).optimizer._variables.16\n",
            "WARNING:tensorflow:Value in checkpoint could not be found in the restored object: (root).optimizer._variables.17\n",
            "WARNING:tensorflow:Value in checkpoint could not be found in the restored object: (root).optimizer._variables.18\n",
            "WARNING:tensorflow:Value in checkpoint could not be found in the restored object: (root).optimizer._variables.19\n",
            "WARNING:tensorflow:Value in checkpoint could not be found in the restored object: (root).optimizer._variables.20\n"
          ]
        },
        {
          "output_type": "stream",
          "name": "stdout",
          "text": [
            "1/1 [==============================] - 0s 469ms/step - loss: 0.2173 - mae: 0.4528 - mse: 0.2173\n"
          ]
        }
      ]
    },
    {
      "cell_type": "markdown",
      "source": [
        "###Build HYPERBAND optimization"
      ],
      "metadata": {
        "id": "9rYL672xrXtU"
      }
    },
    {
      "cell_type": "code",
      "source": [
        "MAX_TRIALS = 20\n",
        "tuner= RandomSearch(hypermodel,\n",
        "               objective= 'val_mse',\n",
        "               max_trials= MAX_TRIALS,\n",
        "               executions_per_trial= 2,\n",
        "               directory= 'random_search',\n",
        "               project_name='randomsearch',\n",
        "               overwrite=True)"
      ],
      "metadata": {
        "id": "CqxbIHGxmstL"
      },
      "execution_count": null,
      "outputs": []
    },
    {
      "cell_type": "code",
      "source": [
        "HYPERBAND_MAX_EPOCHS = 150\n",
        "EXECUTION_PER_TRIAL = 2\n",
        "\n",
        "tuner= Hyperband(hypermodel,\n",
        "                   objective= 'val_mse',\n",
        "                   max_epochs=HYPERBAND_MAX_EPOCHS, #Set 100+ for good results\n",
        "                   executions_per_trial=EXECUTION_PER_TRIAL,\n",
        "                   directory= 'hyperband',\n",
        "                   project_name='hyper',\n",
        "                   overwrite=True)\n",
        "\n",
        "# tuner.search_space_summary()"
      ],
      "metadata": {
        "id": "eaGs4DAFosPl"
      },
      "execution_count": null,
      "outputs": []
    },
    {
      "cell_type": "code",
      "source": [
        "print('searching for the best params!')\n",
        "\n",
        "t0 = time()\n",
        "tuner.search(x= X_train,\n",
        "             y= y_train,\n",
        "             epochs=100,\n",
        "             batch_size= 64,\n",
        "             validation_data= (X_test, y_test),\n",
        "             verbose=0,\n",
        "             callbacks= []\n",
        "            )\n",
        "print(time()- t0,\" secs\")\n",
        "\n",
        "# Retreive the optimal hyperparameters\n",
        "best_hps= tuner.get_best_hyperparameters(num_trials=1)[0]\n",
        "\n",
        "# Retrieve the best model\n",
        "best_model = tuner.get_best_models(num_models=1)[0]"
      ],
      "metadata": {
        "colab": {
          "base_uri": "https://localhost:8080/"
        },
        "id": "NXf_LR3mosWn",
        "outputId": "b91b9a0c-2b9e-4b56-f7aa-3321b46a8982"
      },
      "execution_count": null,
      "outputs": [
        {
          "metadata": {
            "tags": null
          },
          "name": "stdout",
          "output_type": "stream",
          "text": [
            "searching for the best params!\n"
          ]
        },
        {
          "metadata": {
            "tags": null
          },
          "name": "stderr",
          "output_type": "stream",
          "text": [
            "WARNING:tensorflow:Detecting that an object or model or tf.train.Checkpoint is being deleted with unrestored values. See the following logs for the specific values in question. To silence these warnings, use `status.expect_partial()`. See https://www.tensorflow.org/api_docs/python/tf/train/Checkpoint#restorefor details about the status object returned by the restore function.\n",
            "WARNING:tensorflow:Value in checkpoint could not be found in the restored object: (root).optimizer._variables.1\n",
            "WARNING:tensorflow:Value in checkpoint could not be found in the restored object: (root).optimizer._variables.2\n",
            "WARNING:tensorflow:Value in checkpoint could not be found in the restored object: (root).optimizer._variables.3\n",
            "WARNING:tensorflow:Value in checkpoint could not be found in the restored object: (root).optimizer._variables.4\n",
            "WARNING:tensorflow:Value in checkpoint could not be found in the restored object: (root).optimizer._variables.5\n",
            "WARNING:tensorflow:Value in checkpoint could not be found in the restored object: (root).optimizer._variables.6\n",
            "WARNING:tensorflow:Value in checkpoint could not be found in the restored object: (root).optimizer._variables.7\n",
            "WARNING:tensorflow:Value in checkpoint could not be found in the restored object: (root).optimizer._variables.8\n",
            "WARNING:tensorflow:Value in checkpoint could not be found in the restored object: (root).optimizer._variables.9\n",
            "WARNING:tensorflow:Value in checkpoint could not be found in the restored object: (root).optimizer._variables.10\n",
            "WARNING:tensorflow:Value in checkpoint could not be found in the restored object: (root).optimizer._variables.11\n",
            "WARNING:tensorflow:Value in checkpoint could not be found in the restored object: (root).optimizer._variables.12\n",
            "WARNING:tensorflow:Value in checkpoint could not be found in the restored object: (root).optimizer._variables.13\n",
            "WARNING:tensorflow:Value in checkpoint could not be found in the restored object: (root).optimizer._variables.14\n",
            "WARNING:tensorflow:Value in checkpoint could not be found in the restored object: (root).optimizer._variables.15\n",
            "WARNING:tensorflow:Value in checkpoint could not be found in the restored object: (root).optimizer._variables.16\n",
            "WARNING:tensorflow:Value in checkpoint could not be found in the restored object: (root).optimizer._variables.17\n",
            "WARNING:tensorflow:Value in checkpoint could not be found in the restored object: (root).optimizer._variables.18\n",
            "WARNING:tensorflow:Value in checkpoint could not be found in the restored object: (root).optimizer._variables.19\n",
            "WARNING:tensorflow:Value in checkpoint could not be found in the restored object: (root).optimizer._variables.20\n",
            "WARNING:tensorflow:5 out of the last 15 calls to <function Model.make_test_function.<locals>.test_function at 0x7f44ffcae9d0> triggered tf.function retracing. Tracing is expensive and the excessive number of tracings could be due to (1) creating @tf.function repeatedly in a loop, (2) passing tensors with different shapes, (3) passing Python objects instead of tensors. For (1), please define your @tf.function outside of the loop. For (2), @tf.function has reduce_retracing=True option that can avoid unnecessary retracing. For (3), please refer to https://www.tensorflow.org/guide/function#controlling_retracing and https://www.tensorflow.org/api_docs/python/tf/function for  more details.\n",
            "WARNING:tensorflow:6 out of the last 17 calls to <function Model.make_test_function.<locals>.test_function at 0x7f44fff77d30> triggered tf.function retracing. Tracing is expensive and the excessive number of tracings could be due to (1) creating @tf.function repeatedly in a loop, (2) passing tensors with different shapes, (3) passing Python objects instead of tensors. For (1), please define your @tf.function outside of the loop. For (2), @tf.function has reduce_retracing=True option that can avoid unnecessary retracing. For (3), please refer to https://www.tensorflow.org/guide/function#controlling_retracing and https://www.tensorflow.org/api_docs/python/tf/function for  more details.\n"
          ]
        },
        {
          "metadata": {
            "tags": null
          },
          "name": "stdout",
          "output_type": "stream",
          "text": [
            "1709.2459781169891  secs\n"
          ]
        }
      ]
    },
    {
      "cell_type": "code",
      "source": [
        "print(f\"\"\"\n",
        "The hyperparameter search is complete. The optimal number of units in the \n",
        "first densely-connected layer is {best_hps.get('units_1')},\n",
        "second layer is {best_hps.get('units_2')} \n",
        "third layer is {best_hps.get('units_3')} \n",
        "fourth layer is {best_hps.get('units_4')}\n",
        "drop out is {best_hps.get('dropout')}\n",
        "batch_size is {best_hps.get('batch_size')}\n",
        "epoch is {best_hps.get('epoch')}\n",
        "optimizer is {best_hps.get('optimizer')}\n",
        "activation is {best_hps.get('activation')}\n",
        "\n",
        "momentum is {best_hps.get('momentum')}\n",
        "decay is {best_hps.get('decay')}\n",
        "\n",
        "#learning rate is {best_hps.get('learning_rate')}                                        \n",
        "\n",
        "and the optimal learning rate for the optimizer\n",
        "is {best_hps.get('learning_rate')}.\n",
        "\"\"\")\n",
        "\n",
        "# Evaluate the best model.\n",
        "print(best_model.metrics_names)\n",
        "loss, mae, mse = best_model.evaluate(X_test, y_test)\n",
        "print(f'loss:{loss} mae: {mae} mse: {mse}')"
      ],
      "metadata": {
        "colab": {
          "base_uri": "https://localhost:8080/"
        },
        "id": "UcOC-csfrvmH",
        "outputId": "6d593cb7-96bf-416c-9ff6-f293fd725e4f"
      },
      "execution_count": null,
      "outputs": [
        {
          "output_type": "stream",
          "name": "stdout",
          "text": [
            "\n",
            "The hyperparameter search is complete. The optimal number of units in the \n",
            "first densely-connected layer is 160,\n",
            "second layer is 96 \n",
            "third layer is 64 \n",
            "fourth layer is 16\n",
            "drop out is 0.05\n",
            "batch_size is 16\n",
            "epoch is 80\n",
            "optimizer is adagrad\n",
            "activation is tanh\n",
            "\n",
            "momentum is 0.8200000000000001\n",
            "decay is 0.000500001\n",
            "\n",
            "#learning rate is 0.004423920770740319                                        \n",
            "\n",
            "and the optimal learning rate for the optimizer\n",
            "is 0.004423920770740319.\n",
            "\n",
            "[]\n",
            "1/1 [==============================] - 0s 406ms/step - loss: 0.0122 - mae: 0.0959 - mse: 0.0122\n",
            "loss:0.012198645621538162 mae: 0.09587270021438599 mse: 0.012198646552860737\n"
          ]
        }
      ]
    },
    {
      "cell_type": "code",
      "source": [
        "# Get the optimal hyperparameters\n",
        "best_hps = tuner.get_best_hyperparameters(num_trials = 1)[0]\n",
        "print(best_hps.values)"
      ],
      "metadata": {
        "id": "q0e8tSIulgh_",
        "colab": {
          "base_uri": "https://localhost:8080/"
        },
        "outputId": "0bc57ec6-9fe6-46c8-cbaa-b400884cffe0"
      },
      "execution_count": null,
      "outputs": [
        {
          "output_type": "stream",
          "name": "stdout",
          "text": [
            "{'units_1': 160, 'units_2': 96, 'units_3': 64, 'units_4': 16, 'dropout': 0.05, 'optimizer': 'adagrad', 'activation': 'tanh', 'batch_size': 16, 'epoch': 80, 'momentum': 0.8200000000000001, 'decay': 0.000500001, 'learning_rate': 0.004423920770740319, 'tuner/epochs': 6, 'tuner/initial_epoch': 2, 'tuner/bracket': 4, 'tuner/round': 1, 'tuner/trial_id': '0068'}\n"
          ]
        }
      ]
    },
    {
      "cell_type": "markdown",
      "source": [
        "###Apply the trained parameters to the GRU"
      ],
      "metadata": {
        "id": "oggNSpcVpofH"
      }
    },
    {
      "cell_type": "code",
      "source": [
        "TUGRU_model = tf.keras.Sequential()\n",
        "TUGRU_model.add(tf.keras.layers.GRU(160, activation='tanh', input_shape=(X_test.shape[1], X_test.shape[2])))\n",
        "TUGRU_model.add(tf.keras.layers.Dense(96, activation='tanh'))\n",
        "TUGRU_model.add(tf.keras.layers.Flatten())\n",
        "TUGRU_model.add(layers.Dropout(0.05))\n",
        "\n",
        "TUGRU_model.add(tf.keras.layers.Dense(64, activation='tanh'))\n",
        "TUGRU_model.add(layers.Dropout(0.05))\n",
        "TUGRU_model.add(tf.keras.layers.Dense(16, 'tanh'))\n",
        "TUGRU_model.add(layers.Dropout(0.05))\n",
        "\n",
        "#Output layer of model\n",
        "TUGRU_model.add(tf.keras.layers.Dense(1))"
      ],
      "metadata": {
        "id": "exKbi-BBYxAt"
      },
      "execution_count": 56,
      "outputs": []
    },
    {
      "cell_type": "code",
      "source": [
        "TUGRU_model.compile(loss = 'mse', optimizer= tf.keras.optimizers.Adagrad(learning_rate=0.00442), metrics= ['mae', 'mse'])\n",
        "#TUGRU_model.compile(optimizer='rmsprop',loss='mse',metrics=['mse']),\n",
        "history = TUGRU_model.fit(X_train, y_train, epochs=80, batch_size=16,validation_split=0.2,shuffle=False) # 80/160"
      ],
      "metadata": {
        "colab": {
          "base_uri": "https://localhost:8080/"
        },
        "id": "2OVvMjqyY2kW",
        "outputId": "2dad46d1-f0b6-4a9c-deb1-383eae0db38b"
      },
      "execution_count": 57,
      "outputs": [
        {
          "output_type": "stream",
          "name": "stdout",
          "text": [
            "Epoch 1/80\n",
            "5/5 [==============================] - 4s 243ms/step - loss: 0.0925 - mae: 0.2274 - mse: 0.0925 - val_loss: 0.0528 - val_mae: 0.2070 - val_mse: 0.0528\n",
            "Epoch 2/80\n",
            "5/5 [==============================] - 0s 18ms/step - loss: 0.0534 - mae: 0.1883 - mse: 0.0534 - val_loss: 0.0499 - val_mae: 0.1976 - val_mse: 0.0499\n",
            "Epoch 3/80\n",
            "5/5 [==============================] - 0s 19ms/step - loss: 0.0382 - mae: 0.1605 - mse: 0.0382 - val_loss: 0.0433 - val_mae: 0.1854 - val_mse: 0.0433\n",
            "Epoch 4/80\n",
            "5/5 [==============================] - 0s 14ms/step - loss: 0.0333 - mae: 0.1563 - mse: 0.0333 - val_loss: 0.0395 - val_mae: 0.1764 - val_mse: 0.0395\n",
            "Epoch 5/80\n",
            "5/5 [==============================] - 0s 19ms/step - loss: 0.0312 - mae: 0.1491 - mse: 0.0312 - val_loss: 0.0368 - val_mae: 0.1686 - val_mse: 0.0368\n",
            "Epoch 6/80\n",
            "5/5 [==============================] - 0s 15ms/step - loss: 0.0313 - mae: 0.1357 - mse: 0.0313 - val_loss: 0.0341 - val_mae: 0.1617 - val_mse: 0.0341\n",
            "Epoch 7/80\n",
            "5/5 [==============================] - 0s 14ms/step - loss: 0.0214 - mae: 0.1191 - mse: 0.0214 - val_loss: 0.0323 - val_mae: 0.1568 - val_mse: 0.0323\n",
            "Epoch 8/80\n",
            "5/5 [==============================] - 0s 16ms/step - loss: 0.0263 - mae: 0.1253 - mse: 0.0263 - val_loss: 0.0319 - val_mae: 0.1559 - val_mse: 0.0319\n",
            "Epoch 9/80\n",
            "5/5 [==============================] - 0s 15ms/step - loss: 0.0286 - mae: 0.1249 - mse: 0.0286 - val_loss: 0.0276 - val_mae: 0.1438 - val_mse: 0.0276\n",
            "Epoch 10/80\n",
            "5/5 [==============================] - 0s 16ms/step - loss: 0.0234 - mae: 0.1169 - mse: 0.0234 - val_loss: 0.0280 - val_mae: 0.1448 - val_mse: 0.0280\n",
            "Epoch 11/80\n",
            "5/5 [==============================] - 0s 14ms/step - loss: 0.0183 - mae: 0.1082 - mse: 0.0183 - val_loss: 0.0259 - val_mae: 0.1376 - val_mse: 0.0259\n",
            "Epoch 12/80\n",
            "5/5 [==============================] - 0s 15ms/step - loss: 0.0163 - mae: 0.0991 - mse: 0.0163 - val_loss: 0.0265 - val_mae: 0.1401 - val_mse: 0.0265\n",
            "Epoch 13/80\n",
            "5/5 [==============================] - 0s 14ms/step - loss: 0.0206 - mae: 0.1114 - mse: 0.0206 - val_loss: 0.0240 - val_mae: 0.1323 - val_mse: 0.0240\n",
            "Epoch 14/80\n",
            "5/5 [==============================] - 0s 16ms/step - loss: 0.0160 - mae: 0.0957 - mse: 0.0160 - val_loss: 0.0253 - val_mae: 0.1361 - val_mse: 0.0253\n",
            "Epoch 15/80\n",
            "5/5 [==============================] - 0s 19ms/step - loss: 0.0204 - mae: 0.1068 - mse: 0.0204 - val_loss: 0.0222 - val_mae: 0.1270 - val_mse: 0.0222\n",
            "Epoch 16/80\n",
            "5/5 [==============================] - 0s 15ms/step - loss: 0.0144 - mae: 0.0928 - mse: 0.0144 - val_loss: 0.0229 - val_mae: 0.1287 - val_mse: 0.0229\n",
            "Epoch 17/80\n",
            "5/5 [==============================] - 0s 18ms/step - loss: 0.0191 - mae: 0.1067 - mse: 0.0191 - val_loss: 0.0216 - val_mae: 0.1251 - val_mse: 0.0216\n",
            "Epoch 18/80\n",
            "5/5 [==============================] - 0s 16ms/step - loss: 0.0156 - mae: 0.0976 - mse: 0.0156 - val_loss: 0.0217 - val_mae: 0.1249 - val_mse: 0.0217\n",
            "Epoch 19/80\n",
            "5/5 [==============================] - 0s 14ms/step - loss: 0.0150 - mae: 0.0965 - mse: 0.0150 - val_loss: 0.0216 - val_mae: 0.1241 - val_mse: 0.0216\n",
            "Epoch 20/80\n",
            "5/5 [==============================] - 0s 15ms/step - loss: 0.0171 - mae: 0.1041 - mse: 0.0171 - val_loss: 0.0214 - val_mae: 0.1227 - val_mse: 0.0214\n",
            "Epoch 21/80\n",
            "5/5 [==============================] - 0s 15ms/step - loss: 0.0136 - mae: 0.0886 - mse: 0.0136 - val_loss: 0.0202 - val_mae: 0.1197 - val_mse: 0.0202\n",
            "Epoch 22/80\n",
            "5/5 [==============================] - 0s 16ms/step - loss: 0.0154 - mae: 0.0968 - mse: 0.0154 - val_loss: 0.0211 - val_mae: 0.1213 - val_mse: 0.0211\n",
            "Epoch 23/80\n",
            "5/5 [==============================] - 0s 14ms/step - loss: 0.0141 - mae: 0.0955 - mse: 0.0141 - val_loss: 0.0195 - val_mae: 0.1171 - val_mse: 0.0195\n",
            "Epoch 24/80\n",
            "5/5 [==============================] - 0s 16ms/step - loss: 0.0105 - mae: 0.0786 - mse: 0.0105 - val_loss: 0.0193 - val_mae: 0.1163 - val_mse: 0.0193\n",
            "Epoch 25/80\n",
            "5/5 [==============================] - 0s 22ms/step - loss: 0.0146 - mae: 0.0941 - mse: 0.0146 - val_loss: 0.0185 - val_mae: 0.1141 - val_mse: 0.0185\n",
            "Epoch 26/80\n",
            "5/5 [==============================] - 0s 15ms/step - loss: 0.0179 - mae: 0.1030 - mse: 0.0179 - val_loss: 0.0182 - val_mae: 0.1128 - val_mse: 0.0182\n",
            "Epoch 27/80\n",
            "5/5 [==============================] - 0s 16ms/step - loss: 0.0182 - mae: 0.1043 - mse: 0.0182 - val_loss: 0.0180 - val_mae: 0.1121 - val_mse: 0.0180\n",
            "Epoch 28/80\n",
            "5/5 [==============================] - 0s 18ms/step - loss: 0.0120 - mae: 0.0902 - mse: 0.0120 - val_loss: 0.0170 - val_mae: 0.1069 - val_mse: 0.0170\n",
            "Epoch 29/80\n",
            "5/5 [==============================] - 0s 20ms/step - loss: 0.0110 - mae: 0.0819 - mse: 0.0110 - val_loss: 0.0175 - val_mae: 0.1107 - val_mse: 0.0175\n",
            "Epoch 30/80\n",
            "5/5 [==============================] - 0s 17ms/step - loss: 0.0189 - mae: 0.1090 - mse: 0.0189 - val_loss: 0.0165 - val_mae: 0.1047 - val_mse: 0.0165\n",
            "Epoch 31/80\n",
            "5/5 [==============================] - 0s 20ms/step - loss: 0.0116 - mae: 0.0791 - mse: 0.0116 - val_loss: 0.0166 - val_mae: 0.1059 - val_mse: 0.0166\n",
            "Epoch 32/80\n",
            "5/5 [==============================] - 0s 16ms/step - loss: 0.0133 - mae: 0.0861 - mse: 0.0133 - val_loss: 0.0166 - val_mae: 0.1071 - val_mse: 0.0166\n",
            "Epoch 33/80\n",
            "5/5 [==============================] - 0s 18ms/step - loss: 0.0113 - mae: 0.0842 - mse: 0.0113 - val_loss: 0.0167 - val_mae: 0.1069 - val_mse: 0.0167\n",
            "Epoch 34/80\n",
            "5/5 [==============================] - 0s 16ms/step - loss: 0.0147 - mae: 0.0956 - mse: 0.0147 - val_loss: 0.0165 - val_mae: 0.1067 - val_mse: 0.0165\n",
            "Epoch 35/80\n",
            "5/5 [==============================] - 0s 16ms/step - loss: 0.0120 - mae: 0.0878 - mse: 0.0120 - val_loss: 0.0161 - val_mae: 0.1037 - val_mse: 0.0161\n",
            "Epoch 36/80\n",
            "5/5 [==============================] - 0s 18ms/step - loss: 0.0094 - mae: 0.0736 - mse: 0.0094 - val_loss: 0.0160 - val_mae: 0.1030 - val_mse: 0.0160\n",
            "Epoch 37/80\n",
            "5/5 [==============================] - 0s 17ms/step - loss: 0.0134 - mae: 0.0914 - mse: 0.0134 - val_loss: 0.0165 - val_mae: 0.1072 - val_mse: 0.0165\n",
            "Epoch 38/80\n",
            "5/5 [==============================] - 0s 15ms/step - loss: 0.0145 - mae: 0.0910 - mse: 0.0145 - val_loss: 0.0162 - val_mae: 0.1053 - val_mse: 0.0162\n",
            "Epoch 39/80\n",
            "5/5 [==============================] - 0s 18ms/step - loss: 0.0147 - mae: 0.0933 - mse: 0.0147 - val_loss: 0.0158 - val_mae: 0.1033 - val_mse: 0.0158\n",
            "Epoch 40/80\n",
            "5/5 [==============================] - 0s 16ms/step - loss: 0.0151 - mae: 0.0996 - mse: 0.0151 - val_loss: 0.0155 - val_mae: 0.1007 - val_mse: 0.0155\n",
            "Epoch 41/80\n",
            "5/5 [==============================] - 0s 15ms/step - loss: 0.0162 - mae: 0.1000 - mse: 0.0162 - val_loss: 0.0151 - val_mae: 0.0981 - val_mse: 0.0151\n",
            "Epoch 42/80\n",
            "5/5 [==============================] - 0s 16ms/step - loss: 0.0116 - mae: 0.0829 - mse: 0.0116 - val_loss: 0.0155 - val_mae: 0.1025 - val_mse: 0.0155\n",
            "Epoch 43/80\n",
            "5/5 [==============================] - 0s 14ms/step - loss: 0.0132 - mae: 0.0940 - mse: 0.0132 - val_loss: 0.0155 - val_mae: 0.1035 - val_mse: 0.0155\n",
            "Epoch 44/80\n",
            "5/5 [==============================] - 0s 15ms/step - loss: 0.0140 - mae: 0.0956 - mse: 0.0140 - val_loss: 0.0149 - val_mae: 0.0981 - val_mse: 0.0149\n",
            "Epoch 45/80\n",
            "5/5 [==============================] - 0s 20ms/step - loss: 0.0152 - mae: 0.0948 - mse: 0.0152 - val_loss: 0.0147 - val_mae: 0.0975 - val_mse: 0.0147\n",
            "Epoch 46/80\n",
            "5/5 [==============================] - 0s 19ms/step - loss: 0.0138 - mae: 0.0958 - mse: 0.0138 - val_loss: 0.0145 - val_mae: 0.0959 - val_mse: 0.0145\n",
            "Epoch 47/80\n",
            "5/5 [==============================] - 0s 14ms/step - loss: 0.0133 - mae: 0.0922 - mse: 0.0133 - val_loss: 0.0145 - val_mae: 0.0972 - val_mse: 0.0145\n",
            "Epoch 48/80\n",
            "5/5 [==============================] - 0s 15ms/step - loss: 0.0122 - mae: 0.0857 - mse: 0.0122 - val_loss: 0.0144 - val_mae: 0.0956 - val_mse: 0.0144\n",
            "Epoch 49/80\n",
            "5/5 [==============================] - 0s 14ms/step - loss: 0.0121 - mae: 0.0854 - mse: 0.0121 - val_loss: 0.0156 - val_mae: 0.1050 - val_mse: 0.0156\n",
            "Epoch 50/80\n",
            "5/5 [==============================] - 0s 16ms/step - loss: 0.0136 - mae: 0.0947 - mse: 0.0136 - val_loss: 0.0143 - val_mae: 0.0948 - val_mse: 0.0143\n",
            "Epoch 51/80\n",
            "5/5 [==============================] - 0s 22ms/step - loss: 0.0146 - mae: 0.0922 - mse: 0.0146 - val_loss: 0.0142 - val_mae: 0.0961 - val_mse: 0.0142\n",
            "Epoch 52/80\n",
            "5/5 [==============================] - 0s 22ms/step - loss: 0.0113 - mae: 0.0826 - mse: 0.0113 - val_loss: 0.0141 - val_mae: 0.0939 - val_mse: 0.0141\n",
            "Epoch 53/80\n",
            "5/5 [==============================] - 0s 21ms/step - loss: 0.0100 - mae: 0.0783 - mse: 0.0100 - val_loss: 0.0138 - val_mae: 0.0945 - val_mse: 0.0138\n",
            "Epoch 54/80\n",
            "5/5 [==============================] - 0s 19ms/step - loss: 0.0135 - mae: 0.0861 - mse: 0.0135 - val_loss: 0.0139 - val_mae: 0.0971 - val_mse: 0.0139\n",
            "Epoch 55/80\n",
            "5/5 [==============================] - 0s 22ms/step - loss: 0.0129 - mae: 0.0827 - mse: 0.0129 - val_loss: 0.0135 - val_mae: 0.0916 - val_mse: 0.0135\n",
            "Epoch 56/80\n",
            "5/5 [==============================] - 0s 22ms/step - loss: 0.0143 - mae: 0.0918 - mse: 0.0143 - val_loss: 0.0134 - val_mae: 0.0920 - val_mse: 0.0134\n",
            "Epoch 57/80\n",
            "5/5 [==============================] - 0s 21ms/step - loss: 0.0142 - mae: 0.0976 - mse: 0.0142 - val_loss: 0.0137 - val_mae: 0.0916 - val_mse: 0.0137\n",
            "Epoch 58/80\n",
            "5/5 [==============================] - 0s 24ms/step - loss: 0.0116 - mae: 0.0814 - mse: 0.0116 - val_loss: 0.0136 - val_mae: 0.0920 - val_mse: 0.0136\n",
            "Epoch 59/80\n",
            "5/5 [==============================] - 0s 22ms/step - loss: 0.0140 - mae: 0.0995 - mse: 0.0140 - val_loss: 0.0138 - val_mae: 0.0917 - val_mse: 0.0138\n",
            "Epoch 60/80\n",
            "5/5 [==============================] - 0s 25ms/step - loss: 0.0135 - mae: 0.0872 - mse: 0.0135 - val_loss: 0.0133 - val_mae: 0.0902 - val_mse: 0.0133\n",
            "Epoch 61/80\n",
            "5/5 [==============================] - 0s 21ms/step - loss: 0.0134 - mae: 0.0897 - mse: 0.0134 - val_loss: 0.0132 - val_mae: 0.0902 - val_mse: 0.0132\n",
            "Epoch 62/80\n",
            "5/5 [==============================] - 0s 21ms/step - loss: 0.0135 - mae: 0.0890 - mse: 0.0135 - val_loss: 0.0136 - val_mae: 0.0967 - val_mse: 0.0136\n",
            "Epoch 63/80\n",
            "5/5 [==============================] - 0s 21ms/step - loss: 0.0136 - mae: 0.0921 - mse: 0.0136 - val_loss: 0.0132 - val_mae: 0.0928 - val_mse: 0.0132\n",
            "Epoch 64/80\n",
            "5/5 [==============================] - 0s 22ms/step - loss: 0.0093 - mae: 0.0725 - mse: 0.0093 - val_loss: 0.0132 - val_mae: 0.0934 - val_mse: 0.0132\n",
            "Epoch 65/80\n",
            "5/5 [==============================] - 0s 22ms/step - loss: 0.0090 - mae: 0.0762 - mse: 0.0090 - val_loss: 0.0132 - val_mae: 0.0907 - val_mse: 0.0132\n",
            "Epoch 66/80\n",
            "5/5 [==============================] - 0s 25ms/step - loss: 0.0108 - mae: 0.0763 - mse: 0.0108 - val_loss: 0.0133 - val_mae: 0.0938 - val_mse: 0.0133\n",
            "Epoch 67/80\n",
            "5/5 [==============================] - 0s 21ms/step - loss: 0.0098 - mae: 0.0800 - mse: 0.0098 - val_loss: 0.0132 - val_mae: 0.0908 - val_mse: 0.0132\n",
            "Epoch 68/80\n",
            "5/5 [==============================] - 0s 21ms/step - loss: 0.0138 - mae: 0.0878 - mse: 0.0138 - val_loss: 0.0132 - val_mae: 0.0917 - val_mse: 0.0132\n",
            "Epoch 69/80\n",
            "5/5 [==============================] - 0s 20ms/step - loss: 0.0106 - mae: 0.0816 - mse: 0.0106 - val_loss: 0.0133 - val_mae: 0.0907 - val_mse: 0.0133\n",
            "Epoch 70/80\n",
            "5/5 [==============================] - 0s 28ms/step - loss: 0.0112 - mae: 0.0814 - mse: 0.0112 - val_loss: 0.0133 - val_mae: 0.0906 - val_mse: 0.0133\n",
            "Epoch 71/80\n",
            "5/5 [==============================] - 0s 23ms/step - loss: 0.0107 - mae: 0.0800 - mse: 0.0107 - val_loss: 0.0140 - val_mae: 0.0921 - val_mse: 0.0140\n",
            "Epoch 72/80\n",
            "5/5 [==============================] - 0s 24ms/step - loss: 0.0116 - mae: 0.0847 - mse: 0.0116 - val_loss: 0.0132 - val_mae: 0.0921 - val_mse: 0.0132\n",
            "Epoch 73/80\n",
            "5/5 [==============================] - 0s 24ms/step - loss: 0.0149 - mae: 0.0949 - mse: 0.0149 - val_loss: 0.0132 - val_mae: 0.0896 - val_mse: 0.0132\n",
            "Epoch 74/80\n",
            "5/5 [==============================] - 0s 25ms/step - loss: 0.0105 - mae: 0.0785 - mse: 0.0105 - val_loss: 0.0128 - val_mae: 0.0906 - val_mse: 0.0128\n",
            "Epoch 75/80\n",
            "5/5 [==============================] - 0s 22ms/step - loss: 0.0100 - mae: 0.0761 - mse: 0.0100 - val_loss: 0.0129 - val_mae: 0.0888 - val_mse: 0.0129\n",
            "Epoch 76/80\n",
            "5/5 [==============================] - 0s 21ms/step - loss: 0.0138 - mae: 0.0920 - mse: 0.0138 - val_loss: 0.0129 - val_mae: 0.0886 - val_mse: 0.0129\n",
            "Epoch 77/80\n",
            "5/5 [==============================] - 0s 26ms/step - loss: 0.0117 - mae: 0.0837 - mse: 0.0117 - val_loss: 0.0128 - val_mae: 0.0883 - val_mse: 0.0128\n",
            "Epoch 78/80\n",
            "5/5 [==============================] - 0s 25ms/step - loss: 0.0138 - mae: 0.0877 - mse: 0.0138 - val_loss: 0.0129 - val_mae: 0.0880 - val_mse: 0.0129\n",
            "Epoch 79/80\n",
            "5/5 [==============================] - 0s 22ms/step - loss: 0.0128 - mae: 0.0902 - mse: 0.0128 - val_loss: 0.0130 - val_mae: 0.0877 - val_mse: 0.0130\n",
            "Epoch 80/80\n",
            "5/5 [==============================] - 0s 16ms/step - loss: 0.0117 - mae: 0.0808 - mse: 0.0117 - val_loss: 0.0124 - val_mae: 0.0880 - val_mse: 0.0124\n"
          ]
        }
      ]
    },
    {
      "cell_type": "markdown",
      "source": [
        "Plot Model Loss"
      ],
      "metadata": {
        "id": "4KLve2-WilBF"
      }
    },
    {
      "cell_type": "code",
      "source": [
        "loss = history.history['loss']\n",
        "val_loss = history.history['val_loss']\n",
        "\n",
        "epochs=range(len(loss)) \n",
        "\n",
        "\n",
        "#------------------------------------------------\n",
        "# Plot training and validation loss per epoch\n",
        "#------------------------------------------------\n",
        "plt.plot(epochs, loss, 'r',label='loss')\n",
        "plt.plot(epochs,val_loss,'blue',label='val loss')\n",
        "plt.title('Training loss & Val Loss by Epochs')\n",
        "plt.xlabel(\"Epochs\")\n",
        "plt.ylabel(\"Loss\")\n",
        "plt.legend()\n",
        "\n",
        "plt.figure()"
      ],
      "metadata": {
        "colab": {
          "base_uri": "https://localhost:8080/",
          "height": 439
        },
        "id": "DXBeY_MGZSMP",
        "outputId": "4813bd0d-9ec1-493c-b989-ac32bafd82ea"
      },
      "execution_count": 58,
      "outputs": [
        {
          "output_type": "execute_result",
          "data": {
            "text/plain": [
              "<Figure size 720x360 with 0 Axes>"
            ]
          },
          "metadata": {},
          "execution_count": 58
        },
        {
          "output_type": "display_data",
          "data": {
            "text/plain": [
              "<Figure size 720x360 with 1 Axes>"
            ],
            "image/png": "[encoded data removed]"
          },
          "metadata": {}
        },
        {
          "output_type": "display_data",
          "data": {
            "text/plain": [
              "<Figure size 720x360 with 0 Axes>"
            ]
          },
          "metadata": {}
        }
      ]
    },
    {
      "cell_type": "code",
      "source": [
        "y_predTU = TUGRU_model.predict(X_test)\n",
        "y_predTU"
      ],
      "metadata": {
        "colab": {
          "base_uri": "https://localhost:8080/"
        },
        "id": "JbqyY5OriQYh",
        "outputId": "322ab28f-b672-41f6-8d11-25228b83c1a1"
      },
      "execution_count": 59,
      "outputs": [
        {
          "output_type": "stream",
          "name": "stdout",
          "text": [
            "1/1 [==============================] - 1s 500ms/step\n"
          ]
        },
        {
          "output_type": "execute_result",
          "data": {
            "text/plain": [
              "array([[ 0.01824951],\n",
              "       [ 0.02237328],\n",
              "       [ 0.0497042 ],\n",
              "       [ 0.01887069],\n",
              "       [-0.01298094],\n",
              "       [-0.03174251],\n",
              "       [-0.04526269],\n",
              "       [-0.0753708 ],\n",
              "       [-0.12080397],\n",
              "       [-0.13848205],\n",
              "       [-0.13144115],\n",
              "       [-0.13862593],\n",
              "       [-0.15721668],\n",
              "       [-0.15213524],\n",
              "       [-0.15542595],\n",
              "       [-0.18576951],\n",
              "       [-0.19175996],\n",
              "       [-0.06806546],\n",
              "       [ 0.0404024 ],\n",
              "       [ 0.03484351],\n",
              "       [-0.02407782],\n",
              "       [-0.01717966]], dtype=float32)"
            ]
          },
          "metadata": {},
          "execution_count": 59
        }
      ]
    },
    {
      "cell_type": "code",
      "source": [
        "y_predTU.reshape(1,-1)"
      ],
      "metadata": {
        "colab": {
          "base_uri": "https://localhost:8080/"
        },
        "id": "rVI1OXjV8qOL",
        "outputId": "4e744fe1-bcd7-4df0-82fc-9305d1bd5904"
      },
      "execution_count": 60,
      "outputs": [
        {
          "output_type": "execute_result",
          "data": {
            "text/plain": [
              "array([[ 0.01824951,  0.02237328,  0.0497042 ,  0.01887069, -0.01298094,\n",
              "        -0.03174251, -0.04526269, -0.0753708 , -0.12080397, -0.13848205,\n",
              "        -0.13144115, -0.13862593, -0.15721668, -0.15213524, -0.15542595,\n",
              "        -0.18576951, -0.19175996, -0.06806546,  0.0404024 ,  0.03484351,\n",
              "        -0.02407782, -0.01717966]], dtype=float32)"
            ]
          },
          "metadata": {},
          "execution_count": 60
        }
      ]
    },
    {
      "cell_type": "markdown",
      "source": [
        "###Invert Transformed Tuned Data"
      ],
      "metadata": {
        "id": "XXPkM7CFsB5U"
      }
    },
    {
      "cell_type": "code",
      "source": [
        "y_train_inv = cpo_pri_transformer.inverse_transform(y_train.reshape(1, -1))\n",
        "y_test_inv = cpo_pri_transformer.inverse_transform(y_test.reshape(1, -1))\n",
        "y_pred_inv = cpo_pri_transformer.inverse_transform(y_predTU.reshape(1,-1))\n",
        "print(y_train_inv)\n",
        "print(y_test_inv)\n",
        "print(y_pred_inv)"
      ],
      "metadata": {
        "colab": {
          "base_uri": "https://localhost:8080/"
        },
        "id": "gZ8inWeYy64m",
        "outputId": "58ae2466-9a0c-42a4-a50a-50bbc2d1eb19"
      },
      "execution_count": 61,
      "outputs": [
        {
          "output_type": "stream",
          "name": "stdout",
          "text": [
            "[[376. 383. 382. 396. 402. 390. 404. 382. 382. 391. 396. 413. 401. 410.\n",
            "  425. 408. 392. 371. 356. 362. 356. 352. 333. 357. 411. 404. 387. 395.\n",
            "  434. 488. 508. 494. 575. 614. 616. 707. 719. 655. 661. 687. 625. 611.\n",
            "  631. 655. 616. 586. 615. 607. 590. 535. 518. 519. 562. 552. 508. 476.\n",
            "  513. 545. 532. 550. 561. 567. 580. 559. 562. 553. 533. 498. 504. 525.\n",
            "  547. 556. 566. 621. 659. 671. 688. 705. 633. 661. 674. 703. 694. 681.\n",
            "  663. 632. 561. 497. 509. 475. 392. 319. 354. 388. 381. 370.]]\n",
            "[[349. 372. 324. 315. 312. 306. 288. 255. 257. 265. 254. 240. 254. 251.\n",
            "  234. 255. 330. 362. 310. 277. 323. 360.]]\n",
            "[[326.2998  327.9493  338.88168 326.54828 313.80762 306.303   300.89493\n",
            "  288.85168 270.67844 263.60718 266.42352 263.54965 256.11334 258.1459\n",
            "  256.82962 244.6922  242.29602 291.77383 335.16098 332.9374  309.36887\n",
            "  312.12814]]\n"
          ]
        }
      ]
    },
    {
      "cell_type": "code",
      "source": [
        "y_train_inv = y_train_inv.flatten()\n",
        "y_train_inv"
      ],
      "metadata": {
        "colab": {
          "base_uri": "https://localhost:8080/"
        },
        "id": "2g9TLmgHy7Hw",
        "outputId": "b48cce27-05cb-45d8-ed66-26c0bb7376ab"
      },
      "execution_count": 62,
      "outputs": [
        {
          "output_type": "execute_result",
          "data": {
            "text/plain": [
              "array([376., 383., 382., 396., 402., 390., 404., 382., 382., 391., 396.,\n",
              "       413., 401., 410., 425., 408., 392., 371., 356., 362., 356., 352.,\n",
              "       333., 357., 411., 404., 387., 395., 434., 488., 508., 494., 575.,\n",
              "       614., 616., 707., 719., 655., 661., 687., 625., 611., 631., 655.,\n",
              "       616., 586., 615., 607., 590., 535., 518., 519., 562., 552., 508.,\n",
              "       476., 513., 545., 532., 550., 561., 567., 580., 559., 562., 553.,\n",
              "       533., 498., 504., 525., 547., 556., 566., 621., 659., 671., 688.,\n",
              "       705., 633., 661., 674., 703., 694., 681., 663., 632., 561., 497.,\n",
              "       509., 475., 392., 319., 354., 388., 381., 370.])"
            ]
          },
          "metadata": {},
          "execution_count": 62
        }
      ]
    },
    {
      "cell_type": "code",
      "source": [
        "y_test_inv = y_test_inv.flatten()\n",
        "y_test_inv"
      ],
      "metadata": {
        "colab": {
          "base_uri": "https://localhost:8080/"
        },
        "id": "PDdnZUrXy7L4",
        "outputId": "76832650-4545-4802-e3c3-6e59c95daec4"
      },
      "execution_count": 63,
      "outputs": [
        {
          "output_type": "execute_result",
          "data": {
            "text/plain": [
              "array([349., 372., 324., 315., 312., 306., 288., 255., 257., 265., 254.,\n",
              "       240., 254., 251., 234., 255., 330., 362., 310., 277., 323., 360.])"
            ]
          },
          "metadata": {},
          "execution_count": 63
        }
      ]
    },
    {
      "cell_type": "code",
      "source": [
        "TU_GRU_Pred = y_pred_inv.flatten()   #y_pred_inv = TU_GRU_Pred\n",
        "TU_GRU_Pred"
      ],
      "metadata": {
        "colab": {
          "base_uri": "https://localhost:8080/"
        },
        "id": "fqq4-3-lsuEy",
        "outputId": "9cfd091f-f01e-4366-cf1e-ebffa0e47413"
      },
      "execution_count": 64,
      "outputs": [
        {
          "output_type": "execute_result",
          "data": {
            "text/plain": [
              "array([326.2998 , 327.9493 , 338.88168, 326.54828, 313.80762, 306.303  ,\n",
              "       300.89493, 288.85168, 270.67844, 263.60718, 266.42352, 263.54965,\n",
              "       256.11334, 258.1459 , 256.82962, 244.6922 , 242.29602, 291.77383,\n",
              "       335.16098, 332.9374 , 309.36887, 312.12814], dtype=float32)"
            ]
          },
          "metadata": {},
          "execution_count": 64
        }
      ]
    },
    {
      "cell_type": "code",
      "source": [
        "plt.plot(np.arange(0, len(y_train)), y_train_inv, color='green', label=\"History\")\n",
        "plt.plot(np.arange(len(y_train), len(y_train) + len(y_test)), y_test_inv, color='blue', marker='.', label=\"Actual\")\n",
        "plt.plot(np.arange(len(y_train), len(y_train) + len(y_test)), TU_GRU_Pred, color='red', label=\"Tuned GRU Prediction\")\n",
        "plt.ylabel('Crude Palm Oil Price')\n",
        "plt.xlabel('Time step')\n",
        "plt.legend()\n",
        "plt.show();"
      ],
      "metadata": {
        "colab": {
          "base_uri": "https://localhost:8080/",
          "height": 382
        },
        "id": "nBN919VXsuNq",
        "outputId": "944a23ea-a3cf-47b7-b01a-2349c7fd3aeb"
      },
      "execution_count": 65,
      "outputs": [
        {
          "output_type": "display_data",
          "data": {
            "text/plain": [
              "<Figure size 720x360 with 1 Axes>"
            ],
            "image/png": "[encoded data removed]"
          },
          "metadata": {}
        }
      ]
    },
    {
      "cell_type": "code",
      "source": [
        "TUMAE_GRU = mean_absolute_error(y_test_inv, TU_GRU_Pred)\n",
        "print('MAE value of the GRU Model is:', TUMAE_GRU)\n",
        "\n",
        "TUMDA_GRU = mda(y_test_inv, TU_GRU_Pred)\n",
        "print('MDA value of the tuned GRU Model is:', TUMDA_GRU)\n",
        "\n",
        "TUMAPE_GRU = mean_absolute_percentage_error(y_test_inv, TU_GRU_Pred)\n",
        "print('MAPE value of the tuned GRU Model is:', TUMAPE_GRU)\n",
        "\n",
        "TURMSE_GRU = mean_squared_error(y_test_inv,TU_GRU_Pred, squared=False)\n",
        "print('RMSE value of the tuned GRU Model is:', TURMSE_GRU)\n",
        "\n",
        "TUMSE_GRU = mean_squared_error(y_test_inv,TU_GRU_Pred)\n",
        "print('MSE value of the tuned GRU Model is:', TUMSE_GRU)"
      ],
      "metadata": {
        "colab": {
          "base_uri": "https://localhost:8080/"
        },
        "id": "FqciJO0esuRc",
        "outputId": "2213d1fc-51e9-4d94-d32c-3d8c0460b5d6"
      },
      "execution_count": 66,
      "outputs": [
        {
          "output_type": "stream",
          "name": "stdout",
          "text": [
            "MAE value of the GRU Model is: 24.364123257723723\n",
            "MDA value of the tuned GRU Model is: 0.5238095238095238\n",
            "MAPE value of the tuned GRU Model is: 7.948632598553665\n",
            "RMSE value of the tuned GRU Model is: 33.419101721874476\n",
            "MSE value of the tuned GRU Model is: 1116.8363598969934\n"
          ]
        }
      ]
    },
    {
      "cell_type": "markdown",
      "source": [
        "Compare tuned GRU Actual VS Predicted (Zoomed-IN)"
      ],
      "metadata": {
        "id": "oczznVkQihRI"
      }
    },
    {
      "cell_type": "code",
      "source": [
        "#Plot the graph between actual vs predicted values\n",
        "#plt.figure(figsize=(15,7))  #(10,6))\n",
        "plt.figure(figsize=(16,8), dpi= 100, facecolor='w', edgecolor='k')\n",
        "plt.plot(TU_GRU_Pred, color= 'green',marker='.',label = 'Tuned GRU Predicted for cpo_pri')\n",
        "plt.plot(y_test_inv, color = 'red',marker='.',label = 'Actual cpo_pri ')\n",
        "plt.title(\"Tuned GRU Crude Palm Oil Price Prediction (Multivariate)\")\n",
        "plt.xlabel(\"Time step\")\n",
        "plt.ylabel(\"Crude Palm Oil Price\")\n",
        "plt.legend()\n",
        "plt.show()\n",
        "plt.savefig('graph_TUGRU.png')"
      ],
      "metadata": {
        "colab": {
          "base_uri": "https://localhost:8080/",
          "height": 655
        },
        "id": "RmqyhCu_iV_w",
        "outputId": "ff43dbfc-4f7f-408e-a9e4-367fbb4e2529"
      },
      "execution_count": 67,
      "outputs": [
        {
          "output_type": "display_data",
          "data": {
            "text/plain": [
              "<Figure size 1600x800 with 1 Axes>"
            ],
            "image/png": "[encoded data removed]"
          },
          "metadata": {}
        },
        {
          "output_type": "display_data",
          "data": {
            "text/plain": [
              "<Figure size 720x360 with 0 Axes>"
            ]
          },
          "metadata": {}
        }
      ]
    },
    {
      "cell_type": "markdown",
      "source": [
        "The tuned GRU is superior to the basseline based on the RSME result"
      ],
      "metadata": {
        "id": "J9SI5KHvtAsT"
      }
    },
    {
      "cell_type": "code",
      "source": [],
      "metadata": {
        "id": "JLZgaBe6uWbe"
      },
      "execution_count": null,
      "outputs": []
    }
  ]
}