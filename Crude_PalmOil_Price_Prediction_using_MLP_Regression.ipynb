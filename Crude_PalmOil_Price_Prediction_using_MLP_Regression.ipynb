{
  "nbformat": 4,
  "nbformat_minor": 0,
  "metadata": {
    "colab": {
      "name": "Crude PalmOil Price Prediction using MLP Regression",
      "provenance": [],
      "authorship_tag": "ABX9TyOBKkWh/jg80hXSgROOqYAP",
      "include_colab_link": true
    },
    "kernelspec": {
      "name": "python3",
      "display_name": "Python 3"
    },
    "language_info": {
      "name": "python"
    }
  },
  "cells": [
    {
      "cell_type": "markdown",
      "metadata": {
        "id": "view-in-github",
        "colab_type": "text"
      },
      "source": [
        "<a href=\"https://colab.research.google.com/github/mofuoku417/Multivariate-Time-Series-Forecasting-of-Crude-Palm-Oil-Price-Using-Machine-Learning-Techniques/blob/main/Crude_PalmOil_Price_Prediction_using_MLP_Regression.ipynb\" target=\"_parent\"><img src=\"https://colab.research.google.com/assets/colab-badge.svg\" alt=\"Open In Colab\"/></a>"
      ]
    },
    {
      "cell_type": "markdown",
      "metadata": {
        "id": "iWwNhi1OVu1A"
      },
      "source": [
        "### Objective\n",
        "The objective of this python notebook is to use MLP regression to predict monthly crude palm oil prices.\n",
        "\n"
      ]
    },
    {
      "cell_type": "markdown",
      "metadata": {
        "id": "CNQWlNb6WL8U"
      },
      "source": [
        "#### Data\n",
        "The dataset is available at the following links:https://www.indexmundi.com/commodities/?commodity=palm-oil&months=300."
      ]
    },
    {
      "cell_type": "markdown",
      "metadata": {
        "id": "2GQVxw0SWoNy"
      },
      "source": [
        "#### Mount Google Drive to Google Colab Notebook"
      ]
    },
    {
      "cell_type": "code",
      "metadata": {
        "colab": {
          "base_uri": "https://localhost:8080/"
        },
        "id": "f3AoYU4GVWgZ",
        "outputId": "00864269-f927-4db1-c6de-14af07ec88aa"
      },
      "source": [
        "from google.colab import drive\n",
        "drive.mount('/content/gdrive')"
      ],
      "execution_count": 1,
      "outputs": [
        {
          "output_type": "stream",
          "name": "stdout",
          "text": [
            "Mounted at /content/gdrive\n"
          ]
        }
      ]
    },
    {
      "cell_type": "markdown",
      "metadata": {
        "id": "81PSdWfNYigs"
      },
      "source": [
        "#### Use pip to install required packages: sklearn"
      ]
    },
    {
      "cell_type": "code",
      "metadata": {
        "colab": {
          "base_uri": "https://localhost:8080/"
        },
        "id": "MAH35QSf6eQW",
        "outputId": "bbc693e5-68bd-437b-e793-4817dca0e2ca"
      },
      "source": [
        "!pip install sklearn"
      ],
      "execution_count": null,
      "outputs": [
        {
          "output_type": "stream",
          "name": "stdout",
          "text": [
            "Requirement already satisfied: sklearn in /usr/local/lib/python3.7/dist-packages (0.0)\n",
            "Requirement already satisfied: scikit-learn in /usr/local/lib/python3.7/dist-packages (from sklearn) (0.22.2.post1)\n",
            "Requirement already satisfied: scipy>=0.17.0 in /usr/local/lib/python3.7/dist-packages (from scikit-learn->sklearn) (1.4.1)\n",
            "Requirement already satisfied: joblib>=0.11 in /usr/local/lib/python3.7/dist-packages (from scikit-learn->sklearn) (1.0.1)\n",
            "Requirement already satisfied: numpy>=1.11.0 in /usr/local/lib/python3.7/dist-packages (from scikit-learn->sklearn) (1.19.5)\n"
          ]
        }
      ]
    },
    {
      "cell_type": "markdown",
      "metadata": {
        "id": "9mTKzynC2-XY"
      },
      "source": [
        "#### Import the required libraries"
      ]
    },
    {
      "cell_type": "code",
      "metadata": {
        "id": "h9FkOpFvjjrE"
      },
      "source": [
        "import math\n",
        "import pandas as pd\n",
        "import numpy as np\n",
        "from sklearn.model_selection import train_test_split"
      ],
      "execution_count": 2,
      "outputs": []
    },
    {
      "cell_type": "markdown",
      "metadata": {
        "id": "Zq3I0tZg48xK"
      },
      "source": [
        "#### Load the dataset using the following code:"
      ]
    },
    {
      "cell_type": "code",
      "metadata": {
        "id": "DFUBsSnKjjvB"
      },
      "source": [
        "data = pd.read_csv(\"/content/gdrive/MyDrive/Univariate Crude Palm Oil Price Prediction/Data/crude_palmoil_price.csv\",usecols=[1])"
      ],
      "execution_count": 3,
      "outputs": []
    },
    {
      "cell_type": "code",
      "metadata": {
        "colab": {
          "base_uri": "https://localhost:8080/",
          "height": 204
        },
        "id": "7VOPyXUKHj1k",
        "outputId": "e94a2ef9-6028-48c2-daea-0aa94c104241"
      },
      "source": [
        "data.head()"
      ],
      "execution_count": 4,
      "outputs": [
        {
          "output_type": "execute_result",
          "data": {
            "text/html": [
              "<div>\n",
              "<style scoped>\n",
              "    .dataframe tbody tr th:only-of-type {\n",
              "        vertical-align: middle;\n",
              "    }\n",
              "\n",
              "    .dataframe tbody tr th {\n",
              "        vertical-align: top;\n",
              "    }\n",
              "\n",
              "    .dataframe thead th {\n",
              "        text-align: right;\n",
              "    }\n",
              "</style>\n",
              "<table border=\"1\" class=\"dataframe\">\n",
              "  <thead>\n",
              "    <tr style=\"text-align: right;\">\n",
              "      <th></th>\n",
              "      <th>cpo_pri</th>\n",
              "    </tr>\n",
              "  </thead>\n",
              "  <tbody>\n",
              "    <tr>\n",
              "      <th>0</th>\n",
              "      <td>281</td>\n",
              "    </tr>\n",
              "    <tr>\n",
              "      <th>1</th>\n",
              "      <td>272</td>\n",
              "    </tr>\n",
              "    <tr>\n",
              "      <th>2</th>\n",
              "      <td>279</td>\n",
              "    </tr>\n",
              "    <tr>\n",
              "      <th>3</th>\n",
              "      <td>291</td>\n",
              "    </tr>\n",
              "    <tr>\n",
              "      <th>4</th>\n",
              "      <td>284</td>\n",
              "    </tr>\n",
              "  </tbody>\n",
              "</table>\n",
              "</div>"
            ],
            "text/plain": [
              "   cpo_pri\n",
              "0      281\n",
              "1      272\n",
              "2      279\n",
              "3      291\n",
              "4      284"
            ]
          },
          "metadata": {},
          "execution_count": 4
        }
      ]
    },
    {
      "cell_type": "code",
      "metadata": {
        "colab": {
          "base_uri": "https://localhost:8080/",
          "height": 391
        },
        "id": "On4rzQVvTZbZ",
        "outputId": "5a2a3108-5cae-4c3d-a424-92976a644de6"
      },
      "source": [
        "import matplotlib.pyplot as plt\n",
        "plt.figure(figsize=(15, 6))\n",
        "plt.plot(data)\n",
        "plt.ylabel('cpo_pri')"
      ],
      "execution_count": 5,
      "outputs": [
        {
          "output_type": "execute_result",
          "data": {
            "text/plain": [
              "Text(0, 0.5, 'cpo_pri')"
            ]
          },
          "metadata": {},
          "execution_count": 5
        },
        {
          "output_type": "display_data",
          "data": {
            "image/png": "[encoded data removed]",
            "text/plain": [
              "<Figure size 1080x432 with 1 Axes>"
            ]
          },
          "metadata": {
            "needs_background": "light"
          }
        }
      ]
    },
    {
      "cell_type": "markdown",
      "metadata": {
        "id": "2bwCFhj8SzI9"
      },
      "source": [
        "#### Split the dataset into test and train sets."
      ]
    },
    {
      "cell_type": "code",
      "metadata": {
        "id": "p0rgiIR8HqIZ"
      },
      "source": [
        "train_size = int(data.shape[0] * 0.70)\n",
        "train_df, test_df = data.iloc[:train_size, :], data.iloc[train_size:, :]"
      ],
      "execution_count": 19,
      "outputs": []
    },
    {
      "cell_type": "code",
      "metadata": {
        "id": "d1ZeSgSBKodd"
      },
      "source": [
        "train = data.iloc[:len(data)-36]\n",
        "test = data.iloc[len(data)-36:] # set one year(36 months) for testing\n",
        "train_data_ts_log = np.log10(train['cpo_pri'])"
      ],
      "execution_count": 9,
      "outputs": []
    },
    {
      "cell_type": "markdown",
      "metadata": {
        "id": "fS_n8OhaS7FN"
      },
      "source": [
        "#### Convert an array of values into a dataset matrix"
      ]
    },
    {
      "cell_type": "code",
      "metadata": {
        "id": "1rUxrPWYH1Ba"
      },
      "source": [
        "def create_data(data, look_back=1):\n",
        "    m = len(data)\n",
        "    X = []\n",
        "    y = []\n",
        "    for i in range(look_back, m):\n",
        "        X.append(data[i - look_back: i, 0])\n",
        "        y.append(data[i, 0])\n",
        "    return np.array(X), np.array(y)"
      ],
      "execution_count": 20,
      "outputs": []
    },
    {
      "cell_type": "code",
      "metadata": {
        "id": "bk-HCYgCILkT"
      },
      "source": [
        "look_back = 3\n",
        "X_train, y_train = create_data(train_df.values, look_back=look_back)\n",
        "X_test, y_test = create_data(test_df.values, look_back=look_back)"
      ],
      "execution_count": 21,
      "outputs": []
    },
    {
      "cell_type": "markdown",
      "metadata": {
        "id": "MWj7xmjdO7n7"
      },
      "source": [
        "#### Build and train the model on our train dataset:"
      ]
    },
    {
      "cell_type": "code",
      "metadata": {
        "id": "94RSkNHDJFos"
      },
      "source": [
        "from keras.models import Sequential\n",
        "from keras.layers import Dense"
      ],
      "execution_count": 22,
      "outputs": []
    },
    {
      "cell_type": "markdown",
      "metadata": {
        "id": "5agjbDzjPiZN"
      },
      "source": [
        "#### Set the hyper-parameters needed to build the model"
      ]
    },
    {
      "cell_type": "code",
      "metadata": {
        "id": "76n7V9uuILvJ"
      },
      "source": [
        "model = Sequential()\n",
        "model.add(Dense(12, input_dim=look_back, activation='relu'))\n",
        "model.add(Dense(18, activation='relu'))\n",
        "model.add(Dense(1))"
      ],
      "execution_count": 23,
      "outputs": []
    },
    {
      "cell_type": "markdown",
      "metadata": {
        "id": "453n-oKeQlzd"
      },
      "source": [
        "#### Build the model and build, compile, and train the model:"
      ]
    },
    {
      "cell_type": "code",
      "metadata": {
        "colab": {
          "base_uri": "https://localhost:8080/"
        },
        "id": "nkIWIN8JQm3t",
        "outputId": "6b4ba218-0a2e-4db0-c710-d51722152894"
      },
      "source": [
        "model.compile(loss='mean_squared_error', optimizer='adam')\n",
        "model.fit(X_train, y_train, epochs=100, batch_size=2, verbose=2)"
      ],
      "execution_count": 28,
      "outputs": [
        {
          "output_type": "stream",
          "name": "stdout",
          "text": [
            "Epoch 1/100\n",
            "124/124 - 0s - loss: 1649.3047\n",
            "Epoch 2/100\n",
            "124/124 - 0s - loss: 1593.5763\n",
            "Epoch 3/100\n",
            "124/124 - 0s - loss: 1565.4202\n",
            "Epoch 4/100\n",
            "124/124 - 0s - loss: 1572.9203\n",
            "Epoch 5/100\n",
            "124/124 - 0s - loss: 1759.9170\n",
            "Epoch 6/100\n",
            "124/124 - 0s - loss: 1698.6460\n",
            "Epoch 7/100\n",
            "124/124 - 0s - loss: 1711.3408\n",
            "Epoch 8/100\n",
            "124/124 - 0s - loss: 1677.4524\n",
            "Epoch 9/100\n",
            "124/124 - 0s - loss: 1565.8094\n",
            "Epoch 10/100\n",
            "124/124 - 0s - loss: 1622.0773\n",
            "Epoch 11/100\n",
            "124/124 - 0s - loss: 1632.8788\n",
            "Epoch 12/100\n",
            "124/124 - 0s - loss: 1621.1200\n",
            "Epoch 13/100\n",
            "124/124 - 0s - loss: 1582.6760\n",
            "Epoch 14/100\n",
            "124/124 - 0s - loss: 1742.9639\n",
            "Epoch 15/100\n",
            "124/124 - 0s - loss: 1735.8441\n",
            "Epoch 16/100\n",
            "124/124 - 0s - loss: 1551.7429\n",
            "Epoch 17/100\n",
            "124/124 - 0s - loss: 1563.6045\n",
            "Epoch 18/100\n",
            "124/124 - 0s - loss: 1556.9320\n",
            "Epoch 19/100\n",
            "124/124 - 0s - loss: 1703.3173\n",
            "Epoch 20/100\n",
            "124/124 - 0s - loss: 1618.4462\n",
            "Epoch 21/100\n",
            "124/124 - 0s - loss: 1561.9009\n",
            "Epoch 22/100\n",
            "124/124 - 0s - loss: 1902.8243\n",
            "Epoch 23/100\n",
            "124/124 - 0s - loss: 1665.2876\n",
            "Epoch 24/100\n",
            "124/124 - 0s - loss: 1713.3529\n",
            "Epoch 25/100\n",
            "124/124 - 0s - loss: 1790.1558\n",
            "Epoch 26/100\n",
            "124/124 - 0s - loss: 1525.2444\n",
            "Epoch 27/100\n",
            "124/124 - 0s - loss: 1581.4453\n",
            "Epoch 28/100\n",
            "124/124 - 0s - loss: 1545.2612\n",
            "Epoch 29/100\n",
            "124/124 - 0s - loss: 1805.2042\n",
            "Epoch 30/100\n",
            "124/124 - 0s - loss: 1678.3724\n",
            "Epoch 31/100\n",
            "124/124 - 0s - loss: 1544.3629\n",
            "Epoch 32/100\n",
            "124/124 - 0s - loss: 1636.5028\n",
            "Epoch 33/100\n",
            "124/124 - 0s - loss: 1642.5465\n",
            "Epoch 34/100\n",
            "124/124 - 0s - loss: 1579.6368\n",
            "Epoch 35/100\n",
            "124/124 - 0s - loss: 1446.1593\n",
            "Epoch 36/100\n",
            "124/124 - 0s - loss: 1716.8444\n",
            "Epoch 37/100\n",
            "124/124 - 0s - loss: 1610.2864\n",
            "Epoch 38/100\n",
            "124/124 - 0s - loss: 1589.2490\n",
            "Epoch 39/100\n",
            "124/124 - 0s - loss: 1631.5537\n",
            "Epoch 40/100\n",
            "124/124 - 0s - loss: 1584.7317\n",
            "Epoch 41/100\n",
            "124/124 - 0s - loss: 1639.6263\n",
            "Epoch 42/100\n",
            "124/124 - 0s - loss: 1564.6740\n",
            "Epoch 43/100\n",
            "124/124 - 0s - loss: 1629.4861\n",
            "Epoch 44/100\n",
            "124/124 - 0s - loss: 1587.6637\n",
            "Epoch 45/100\n",
            "124/124 - 0s - loss: 1553.1636\n",
            "Epoch 46/100\n",
            "124/124 - 0s - loss: 1757.6902\n",
            "Epoch 47/100\n",
            "124/124 - 0s - loss: 1675.3282\n",
            "Epoch 48/100\n",
            "124/124 - 0s - loss: 1580.8962\n",
            "Epoch 49/100\n",
            "124/124 - 0s - loss: 1690.4672\n",
            "Epoch 50/100\n",
            "124/124 - 0s - loss: 1634.2069\n",
            "Epoch 51/100\n",
            "124/124 - 0s - loss: 1707.1311\n",
            "Epoch 52/100\n",
            "124/124 - 0s - loss: 1605.0503\n",
            "Epoch 53/100\n",
            "124/124 - 0s - loss: 1608.9001\n",
            "Epoch 54/100\n",
            "124/124 - 0s - loss: 1661.4344\n",
            "Epoch 55/100\n",
            "124/124 - 0s - loss: 1613.6180\n",
            "Epoch 56/100\n",
            "124/124 - 0s - loss: 1774.5552\n",
            "Epoch 57/100\n",
            "124/124 - 0s - loss: 1723.8717\n",
            "Epoch 58/100\n",
            "124/124 - 0s - loss: 1558.7329\n",
            "Epoch 59/100\n",
            "124/124 - 0s - loss: 1552.8083\n",
            "Epoch 60/100\n",
            "124/124 - 0s - loss: 1589.6333\n",
            "Epoch 61/100\n",
            "124/124 - 0s - loss: 1565.0853\n",
            "Epoch 62/100\n",
            "124/124 - 0s - loss: 1665.2002\n",
            "Epoch 63/100\n",
            "124/124 - 0s - loss: 1632.3085\n",
            "Epoch 64/100\n",
            "124/124 - 0s - loss: 1649.1206\n",
            "Epoch 65/100\n",
            "124/124 - 0s - loss: 1765.6251\n",
            "Epoch 66/100\n",
            "124/124 - 0s - loss: 1669.5774\n",
            "Epoch 67/100\n",
            "124/124 - 0s - loss: 1527.1996\n",
            "Epoch 68/100\n",
            "124/124 - 0s - loss: 1545.5283\n",
            "Epoch 69/100\n",
            "124/124 - 0s - loss: 1518.2620\n",
            "Epoch 70/100\n",
            "124/124 - 0s - loss: 1671.8003\n",
            "Epoch 71/100\n",
            "124/124 - 0s - loss: 1630.0000\n",
            "Epoch 72/100\n",
            "124/124 - 0s - loss: 1617.6622\n",
            "Epoch 73/100\n",
            "124/124 - 0s - loss: 1579.2078\n",
            "Epoch 74/100\n",
            "124/124 - 0s - loss: 1585.6847\n",
            "Epoch 75/100\n",
            "124/124 - 0s - loss: 1606.6254\n",
            "Epoch 76/100\n",
            "124/124 - 0s - loss: 1559.3888\n",
            "Epoch 77/100\n",
            "124/124 - 0s - loss: 1551.4757\n",
            "Epoch 78/100\n",
            "124/124 - 0s - loss: 1564.9647\n",
            "Epoch 79/100\n",
            "124/124 - 0s - loss: 1781.7367\n",
            "Epoch 80/100\n",
            "124/124 - 0s - loss: 1598.2631\n",
            "Epoch 81/100\n",
            "124/124 - 0s - loss: 1695.0968\n",
            "Epoch 82/100\n",
            "124/124 - 0s - loss: 1620.3312\n",
            "Epoch 83/100\n",
            "124/124 - 0s - loss: 1634.5256\n",
            "Epoch 84/100\n",
            "124/124 - 0s - loss: 1654.0740\n",
            "Epoch 85/100\n",
            "124/124 - 0s - loss: 1628.0681\n",
            "Epoch 86/100\n",
            "124/124 - 0s - loss: 1679.1655\n",
            "Epoch 87/100\n",
            "124/124 - 0s - loss: 1671.9248\n",
            "Epoch 88/100\n",
            "124/124 - 0s - loss: 1635.7100\n",
            "Epoch 89/100\n",
            "124/124 - 0s - loss: 1575.2311\n",
            "Epoch 90/100\n",
            "124/124 - 0s - loss: 1533.3893\n",
            "Epoch 91/100\n",
            "124/124 - 0s - loss: 1607.3140\n",
            "Epoch 92/100\n",
            "124/124 - 0s - loss: 1640.5691\n",
            "Epoch 93/100\n",
            "124/124 - 0s - loss: 1619.9200\n",
            "Epoch 94/100\n",
            "124/124 - 0s - loss: 1691.9565\n",
            "Epoch 95/100\n",
            "124/124 - 0s - loss: 1558.5021\n",
            "Epoch 96/100\n",
            "124/124 - 0s - loss: 1659.8022\n",
            "Epoch 97/100\n",
            "124/124 - 0s - loss: 1580.3434\n",
            "Epoch 98/100\n",
            "124/124 - 0s - loss: 1588.7869\n",
            "Epoch 99/100\n",
            "124/124 - 0s - loss: 1675.0278\n",
            "Epoch 100/100\n",
            "124/124 - 0s - loss: 1663.1614\n"
          ]
        },
        {
          "output_type": "execute_result",
          "data": {
            "text/plain": [
              "<keras.callbacks.History at 0x7fd5b8134f50>"
            ]
          },
          "metadata": {},
          "execution_count": 28
        }
      ]
    },
    {
      "cell_type": "markdown",
      "metadata": {
        "id": "1lJg0B-iNA_E"
      },
      "source": [
        "#### Evaluate the model and print the Mean Square Error (MSE) and the Root Mean Square Error (RMSE):"
      ]
    },
    {
      "cell_type": "code",
      "metadata": {
        "colab": {
          "base_uri": "https://localhost:8080/"
        },
        "id": "LaTj1AmEL998",
        "outputId": "b3b85af3-a3d0-4eb8-ec6b-6f2f459b83e3"
      },
      "source": [
        "score = model.evaluate(X_test, y_test)\n",
        "print('\\nTest mse:', score)\n",
        "print('Test rmse:', math.sqrt(score))"
      ],
      "execution_count": 29,
      "outputs": [
        {
          "output_type": "stream",
          "name": "stdout",
          "text": [
            "4/4 [==============================] - 0s 3ms/step - loss: 1558.8857\n",
            "\n",
            "Test mse: 1558.8857421875\n",
            "Test rmse: 39.48272713716088\n"
          ]
        }
      ]
    },
    {
      "cell_type": "markdown",
      "metadata": {
        "id": "nk-HsUlVOBZq"
      },
      "source": [
        "#### Predict the values using the MLP model and plot them, both for test and train datasets:"
      ]
    },
    {
      "cell_type": "code",
      "metadata": {
        "colab": {
          "base_uri": "https://localhost:8080/",
          "height": 483
        },
        "id": "OSy2zKVIIL7F",
        "outputId": "357f196b-cb43-4646-c805-c412a8579745"
      },
      "source": [
        "plt.figure(figsize=(12, 8))\n",
        "train_prediction = model.predict(X_train)\n",
        "train_stamp = np.arange(look_back, look_back + X_train.shape[0])\n",
        "test_prediction = model.predict(X_test)\n",
        "test_stamp = np.arange(2 * look_back + X_train.shape[0], len(data))\n",
        "plt.plot(data, label='true values')\n",
        "plt.plot(train_stamp, train_prediction, label='train prediction')\n",
        "plt.plot(test_stamp, test_prediction, label = 'test_prediction')\n",
        "plt.legend();"
      ],
      "execution_count": 30,
      "outputs": [
        {
          "output_type": "display_data",
          "data": {
            "image/png": "[encoded data removed]",
            "text/plain": [
              "<Figure size 864x576 with 1 Axes>"
            ]
          },
          "metadata": {
            "needs_background": "light"
          }
        }
      ]
    }
  ]
}