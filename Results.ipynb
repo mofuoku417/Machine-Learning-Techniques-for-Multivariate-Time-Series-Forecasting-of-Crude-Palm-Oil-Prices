{
  "nbformat": 4,
  "nbformat_minor": 0,
  "metadata": {
    "colab": {
      "provenance": [],
      "authorship_tag": "ABX9TyPPHiIci/swhBpNGJVnl0z6",
      "include_colab_link": true
    },
    "kernelspec": {
      "name": "python3",
      "display_name": "Python 3"
    },
    "language_info": {
      "name": "python"
    }
  },
  "cells": [
    {
      "cell_type": "markdown",
      "metadata": {
        "id": "view-in-github",
        "colab_type": "text"
      },
      "source": [
        "<a href=\"https://colab.research.google.com/github/mofuoku417/Machine-Learning-Techniques-for-Multivariate-Time-Series-Forecasting-of-Crude-Palm-Oil-Prices/blob/main/Results.ipynb\" target=\"_parent\"><img src=\"https://colab.research.google.com/assets/colab-badge.svg\" alt=\"Open In Colab\"/></a>"
      ]
    },
    {
      "cell_type": "code",
      "source": [
        "#Step 1: Import packages and set the working directory\n",
        "#Change “/mydir” to your desired working directory."
      ],
      "metadata": {
        "id": "8psyAd0dO6El"
      },
      "execution_count": null,
      "outputs": []
    },
    {
      "cell_type": "code",
      "source": [
        "import pandas as pd\n",
        "\n",
        "url = 'https://raw.githubusercontent.com/mofuoku417/Machine-Learning-Techniques-for-Multivariate-Time-Series-Forecasting-of-Crude-Palm-Oil-Prices/main/Results/csv_result.csv'\n",
        "df = pd.read_csv(url)\n",
        "print(df.head(5))"
      ],
      "metadata": {
        "colab": {
          "base_uri": "https://localhost:8080/"
        },
        "id": "NCapeZHeO6Id",
        "outputId": "ab519470-05ec-4aff-bcac-782662b4b6ff"
      },
      "execution_count": 42,
      "outputs": [
        {
          "output_type": "stream",
          "name": "stdout",
          "text": [
            "   Time_step  y_test_inv  TU_MLP_Pred  TU_GRU_Pred  TU_CNN_Pred  TU_LSTM_Pred\n",
            "0          0         349    321.06555    353.47476    363.08370     336.04700\n",
            "1         95         372    348.30386    357.09550    356.63840     333.58157\n",
            "2        100         324    366.70837    376.21460    350.26392     341.34842\n",
            "3        105         315    299.64770    333.67163    360.98650     335.18920\n",
            "4        110         312    313.29855    332.18268    344.91970     324.12228\n"
          ]
        }
      ]
    },
    {
      "cell_type": "code",
      "source": [],
      "metadata": {
        "id": "wZo6xe3LU_Gz"
      },
      "execution_count": null,
      "outputs": []
    }
  ]
}