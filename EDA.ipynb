{
  "nbformat": 4,
  "nbformat_minor": 0,
  "metadata": {
    "colab": {
      "name": "EDA.ipynb",
      "provenance": [],
      "machine_shape": "hm",
      "authorship_tag": "ABX9TyNm3CrfN32VShoh+Y4YkgMK",
      "include_colab_link": true
    },
    "kernelspec": {
      "name": "python3",
      "display_name": "Python 3"
    },
    "language_info": {
      "name": "python"
    },
    "accelerator": "TPU"
  },
  "cells": [
    {
      "cell_type": "markdown",
      "metadata": {
        "id": "view-in-github",
        "colab_type": "text"
      },
      "source": [
        "<a href=\"https://colab.research.google.com/github/mofuoku417/Multivariate-Time-Series-Forecasting-of-Crude-Palm-Oil-Price-Using-Machine-Learning-Techniques/blob/main/EDA.ipynb\" target=\"_parent\"><img src=\"https://colab.research.google.com/assets/colab-badge.svg\" alt=\"Open In Colab\"/></a>"
      ]
    },
    {
      "cell_type": "markdown",
      "metadata": {
        "id": "KnuJnLZBX3sA"
      },
      "source": [
        "#Problem Statement"
      ]
    },
    {
      "cell_type": "markdown",
      "metadata": {
        "id": "ak6ndpn3X_AO"
      },
      "source": [
        "#Data\n"
      ]
    },
    {
      "cell_type": "markdown",
      "metadata": {
        "id": "cUK9L4hgYF1q"
      },
      "source": [
        "#Approach"
      ]
    },
    {
      "cell_type": "markdown",
      "metadata": {
        "id": "V1fnYESqr9I2"
      },
      "source": [
        "####Mount Google Drive to Google Colab Notebook"
      ]
    },
    {
      "cell_type": "code",
      "metadata": {
        "colab": {
          "base_uri": "https://localhost:8080/"
        },
        "id": "za8ZWYTSrOkL",
        "outputId": "c6db2a46-52d5-46c4-8f30-b1abc9d85a67"
      },
      "source": [
        "from google.colab import drive\n",
        "drive.mount('/content/gdrive')"
      ],
      "execution_count": 1,
      "outputs": [
        {
          "output_type": "stream",
          "name": "stdout",
          "text": [
            "Mounted at /content/gdrive\n"
          ]
        }
      ]
    },
    {
      "cell_type": "markdown",
      "metadata": {
        "id": "7BrVpoZkZg8o"
      },
      "source": [
        "### Prep the Data"
      ]
    },
    {
      "cell_type": "code",
      "metadata": {
        "id": "NrPe0F1LZdFb"
      },
      "source": [
        "import pandas as pd\n",
        "import os\n",
        "import glob\n",
        "import numpy as np\n",
        "from pathlib import Path"
      ],
      "execution_count": 18,
      "outputs": []
    },
    {
      "cell_type": "markdown",
      "metadata": {
        "id": "OTPd35SutR_Z"
      },
      "source": [
        "### Load Data from Files in Dask Dataframes"
      ]
    },
    {
      "cell_type": "code",
      "metadata": {
        "id": "2dddORQwaP6U"
      },
      "source": [
        "###############################################################################################################"
      ],
      "execution_count": null,
      "outputs": []
    },
    {
      "cell_type": "code",
      "metadata": {
        "id": "tzkmotHfaP-Y",
        "colab": {
          "base_uri": "https://localhost:8080/"
        },
        "outputId": "fbdad96f-3172-4762-b911-9ba46f214a0c"
      },
      "source": [
        "file_dir = '/content/gdrive/MyDrive/raw_data'\n",
        "!ls $file_dir"
      ],
      "execution_count": 30,
      "outputs": [
        {
          "output_type": "stream",
          "name": "stdout",
          "text": [
            "coconut_oil_pri.csv  olive_oil_.csv\t soybean_oil.csv\n",
            "cpo_pri.csv\t     peanut_oil_pri.csv  sunflower_oil.csv\n",
            "exmaus.csv\t     rapeseed_oil.csv\t wti.csv\n"
          ]
        }
      ]
    },
    {
      "cell_type": "code",
      "metadata": {
        "colab": {
          "base_uri": "https://localhost:8080/"
        },
        "id": "sQA5HHMK0cwF",
        "outputId": "fb39724e-155f-479b-81de-85890d744156"
      },
      "source": [
        "# Number of files we are dealing with\n",
        "!ls $file_dir | wc -l"
      ],
      "execution_count": 31,
      "outputs": [
        {
          "output_type": "stream",
          "name": "stdout",
          "text": [
            "9\n"
          ]
        }
      ]
    },
    {
      "cell_type": "code",
      "metadata": {
        "id": "O0u-0tyP16q1"
      },
      "source": [
        "# Get a python list of csv files\n",
        "files = glob.glob(os.path.join(file_dir, \"*.csv\"))"
      ],
      "execution_count": 32,
      "outputs": []
    },
    {
      "cell_type": "code",
      "metadata": {
        "colab": {
          "base_uri": "https://localhost:8080/"
        },
        "id": "32WDagTE16xE",
        "outputId": "85b58288-d331-4fe3-f28a-1c7a6111bcb8"
      },
      "source": [
        "# Look at a few to see how we can merge them\n",
        "df1 = pd.read_csv(files[0])\n",
        "df2 = pd.read_csv(files[1])\n",
        "df3 = pd.read_csv(files[2])\n",
        "df4 = pd.read_csv(files[3])\n",
        "df5 = pd.read_csv(files[4])\n",
        "df6 = pd.read_csv(files[5])\n",
        "df7 = pd.read_csv(files[6])\n",
        "df8 = pd.read_csv(files[7])\n",
        "df9 = pd.read_csv(files[8])\n",
        "\n",
        "\n",
        "print(df1.head(), \"\\n\")\n",
        "print(df2.head(), \"\\n\")\n",
        "print(df3.head(), \"\\n\")\n",
        "print(df4.head(), \"\\n\")\n",
        "print(df5.head(), \"\\n\")\n",
        "print(df6.head(), \"\\n\")\n",
        "print(df7.head(), \"\\n\")\n",
        "print(df8.head(), \"\\n\")\n",
        "print(df9.head(), \"\\n\")"
      ],
      "execution_count": 33,
      "outputs": [
        {
          "output_type": "stream",
          "name": "stdout",
          "text": [
            "     Month  cno_pri\n",
            "0  1991-09      455\n",
            "1  1991-10      546\n",
            "2  1991-11      595\n",
            "3  1991-12      636\n",
            "4  1992-01      738 \n",
            "\n",
            "     Month  cpo_pri\n",
            "0  1991-09      323\n",
            "1  1991-10      345\n",
            "2  1991-11      362\n",
            "3  1991-12      376\n",
            "4  1992-01      383 \n",
            "\n",
            "     Month  exmaus\n",
            "0  1971-01  3.0755\n",
            "1  1971-02  3.0661\n",
            "2  1971-03  3.0659\n",
            "3  1971-04  3.0671\n",
            "4  1971-05  3.0635 \n",
            "\n",
            "     Month  oli_pri\n",
            "0  1991-09  3102.61\n",
            "1  1991-10  3100.45\n",
            "2  1991-11  3199.41\n",
            "3  1991-12  3281.67\n",
            "4  1992-01  3261.65 \n",
            "\n",
            "     Month  rps_pri\n",
            "0  2002-02   423.45\n",
            "1  2002-03   415.85\n",
            "2  2002-04   410.77\n",
            "3  2002-05   414.82\n",
            "4  2002-06   451.04 \n",
            "\n",
            "     Month  pno_pri\n",
            "0  1991-09    844.0\n",
            "1  1991-10    799.0\n",
            "2  1991-11    718.0\n",
            "3  1991-12    614.0\n",
            "4  1992-01    619.0 \n",
            "\n",
            "     Month  sbo_pri\n",
            "0  1991-09    468.0\n",
            "1  1991-10    485.0\n",
            "2  1991-11    466.0\n",
            "3  1991-12    442.0\n",
            "4  1992-01    429.0 \n",
            "\n",
            "     Month  sfo_pri\n",
            "0  2002-02    578.0\n",
            "1  2002-03    557.0\n",
            "2  2002-04    552.0\n",
            "3  2002-05    574.0\n",
            "4  2002-06    595.0 \n",
            "\n",
            "     Month  wti_spri\n",
            "0  2001-09     28.67\n",
            "1  2001-10     24.49\n",
            "2  2001-11     22.06\n",
            "3  2001-12     21.64\n",
            "4  2002-01     22.30 \n",
            "\n"
          ]
        }
      ]
    },
    {
      "cell_type": "code",
      "metadata": {
        "colab": {
          "base_uri": "https://localhost:8080/"
        },
        "id": "nxiA9izjq061",
        "outputId": "355e65ff-e07d-4188-eb31-8c93c12711e3"
      },
      "source": [
        "df = pd.concat([df1,df2,df3,df4,df5,df6,df7,df8,df9], axis=1, join='inner')\n",
        "df.set_index('Month', inplace=True)\n",
        "\n",
        "print(df.head())\n",
        "df.to_csv('df.csv')"
      ],
      "execution_count": 170,
      "outputs": [
        {
          "output_type": "stream",
          "name": "stdout",
          "text": [
            "                                                    cno_pri  ...  wti_spri\n",
            "Month                                                        ...          \n",
            "(1991-09, 1991-09, 1991-09, 1991-09, 1991-09, 2...      455  ...     28.67\n",
            "(1991-10, 1991-10, 1991-10, 1991-10, 1991-10, 2...      546  ...     24.49\n",
            "(1991-11, 1991-11, 1991-11, 1991-11, 1991-11, 2...      595  ...     22.06\n",
            "(1991-12, 1991-12, 1991-12, 1991-12, 1991-12, 2...      636  ...     21.64\n",
            "(1992-01, 1992-01, 1992-01, 1992-01, 1992-01, 2...      738  ...     22.30\n",
            "\n",
            "[5 rows x 9 columns]\n"
          ]
        }
      ]
    },
    {
      "cell_type": "code",
      "metadata": {
        "id": "nUm-E9-LDA8I"
      },
      "source": [
        "df = pd.read_csv('df.csv')"
      ],
      "execution_count": 171,
      "outputs": []
    },
    {
      "cell_type": "code",
      "metadata": {
        "id": "q5SvtLamDWVK"
      },
      "source": [
        "date_rng = pd.date_range(start='2002-02', end='2021-08', freq='MS')"
      ],
      "execution_count": 172,
      "outputs": []
    },
    {
      "cell_type": "code",
      "metadata": {
        "id": "oyLP72nfrPcN"
      },
      "source": [
        "df['Month'] = pd.DataFrame(date_rng, columns=['Month'])"
      ],
      "execution_count": 173,
      "outputs": []
    },
    {
      "cell_type": "code",
      "metadata": {
        "colab": {
          "base_uri": "https://localhost:8080/"
        },
        "id": "SUgAD6WBrPgL",
        "outputId": "ae13123f-289f-4f82-bb6a-aeb7f6fc18ae"
      },
      "source": [
        "df.info()"
      ],
      "execution_count": 174,
      "outputs": [
        {
          "output_type": "stream",
          "name": "stdout",
          "text": [
            "<class 'pandas.core.frame.DataFrame'>\n",
            "RangeIndex: 230 entries, 0 to 229\n",
            "Data columns (total 10 columns):\n",
            " #   Column    Non-Null Count  Dtype         \n",
            "---  ------    --------------  -----         \n",
            " 0   Month     230 non-null    datetime64[ns]\n",
            " 1   cno_pri   230 non-null    int64         \n",
            " 2   oli_pri   230 non-null    float64       \n",
            " 3   sbo_pri   230 non-null    float64       \n",
            " 4   cpo_pri   230 non-null    int64         \n",
            " 5   pno_pri   230 non-null    float64       \n",
            " 6   sfo_pri   230 non-null    float64       \n",
            " 7   exmaus    230 non-null    float64       \n",
            " 8   rps_pri   230 non-null    float64       \n",
            " 9   wti_spri  230 non-null    float64       \n",
            "dtypes: datetime64[ns](1), float64(7), int64(2)\n",
            "memory usage: 18.1 KB\n"
          ]
        }
      ]
    },
    {
      "cell_type": "code",
      "metadata": {
        "colab": {
          "base_uri": "https://localhost:8080/",
          "height": 198
        },
        "id": "kZbYfK0urPxZ",
        "outputId": "d920bdca-7e7d-4ddb-d6a7-ef004121a317"
      },
      "source": [
        "df.head()"
      ],
      "execution_count": 175,
      "outputs": [
        {
          "output_type": "execute_result",
          "data": {
            "text/html": [
              "<div>\n",
              "<style scoped>\n",
              "    .dataframe tbody tr th:only-of-type {\n",
              "        vertical-align: middle;\n",
              "    }\n",
              "\n",
              "    .dataframe tbody tr th {\n",
              "        vertical-align: top;\n",
              "    }\n",
              "\n",
              "    .dataframe thead th {\n",
              "        text-align: right;\n",
              "    }\n",
              "</style>\n",
              "<table border=\"1\" class=\"dataframe\">\n",
              "  <thead>\n",
              "    <tr style=\"text-align: right;\">\n",
              "      <th></th>\n",
              "      <th>Month</th>\n",
              "      <th>cno_pri</th>\n",
              "      <th>oli_pri</th>\n",
              "      <th>sbo_pri</th>\n",
              "      <th>cpo_pri</th>\n",
              "      <th>pno_pri</th>\n",
              "      <th>sfo_pri</th>\n",
              "      <th>exmaus</th>\n",
              "      <th>rps_pri</th>\n",
              "      <th>wti_spri</th>\n",
              "    </tr>\n",
              "  </thead>\n",
              "  <tbody>\n",
              "    <tr>\n",
              "      <th>0</th>\n",
              "      <td>2002-02-01</td>\n",
              "      <td>455</td>\n",
              "      <td>3102.61</td>\n",
              "      <td>468.0</td>\n",
              "      <td>323</td>\n",
              "      <td>844.0</td>\n",
              "      <td>578.0</td>\n",
              "      <td>3.0755</td>\n",
              "      <td>423.45</td>\n",
              "      <td>28.67</td>\n",
              "    </tr>\n",
              "    <tr>\n",
              "      <th>1</th>\n",
              "      <td>2002-03-01</td>\n",
              "      <td>546</td>\n",
              "      <td>3100.45</td>\n",
              "      <td>485.0</td>\n",
              "      <td>345</td>\n",
              "      <td>799.0</td>\n",
              "      <td>557.0</td>\n",
              "      <td>3.0661</td>\n",
              "      <td>415.85</td>\n",
              "      <td>24.49</td>\n",
              "    </tr>\n",
              "    <tr>\n",
              "      <th>2</th>\n",
              "      <td>2002-04-01</td>\n",
              "      <td>595</td>\n",
              "      <td>3199.41</td>\n",
              "      <td>466.0</td>\n",
              "      <td>362</td>\n",
              "      <td>718.0</td>\n",
              "      <td>552.0</td>\n",
              "      <td>3.0659</td>\n",
              "      <td>410.77</td>\n",
              "      <td>22.06</td>\n",
              "    </tr>\n",
              "    <tr>\n",
              "      <th>3</th>\n",
              "      <td>2002-05-01</td>\n",
              "      <td>636</td>\n",
              "      <td>3281.67</td>\n",
              "      <td>442.0</td>\n",
              "      <td>376</td>\n",
              "      <td>614.0</td>\n",
              "      <td>574.0</td>\n",
              "      <td>3.0671</td>\n",
              "      <td>414.82</td>\n",
              "      <td>21.64</td>\n",
              "    </tr>\n",
              "    <tr>\n",
              "      <th>4</th>\n",
              "      <td>2002-06-01</td>\n",
              "      <td>738</td>\n",
              "      <td>3261.65</td>\n",
              "      <td>429.0</td>\n",
              "      <td>383</td>\n",
              "      <td>619.0</td>\n",
              "      <td>595.0</td>\n",
              "      <td>3.0635</td>\n",
              "      <td>451.04</td>\n",
              "      <td>22.30</td>\n",
              "    </tr>\n",
              "  </tbody>\n",
              "</table>\n",
              "</div>"
            ],
            "text/plain": [
              "       Month  cno_pri  oli_pri  sbo_pri  ...  sfo_pri  exmaus  rps_pri  wti_spri\n",
              "0 2002-02-01      455  3102.61    468.0  ...    578.0  3.0755   423.45     28.67\n",
              "1 2002-03-01      546  3100.45    485.0  ...    557.0  3.0661   415.85     24.49\n",
              "2 2002-04-01      595  3199.41    466.0  ...    552.0  3.0659   410.77     22.06\n",
              "3 2002-05-01      636  3281.67    442.0  ...    574.0  3.0671   414.82     21.64\n",
              "4 2002-06-01      738  3261.65    429.0  ...    595.0  3.0635   451.04     22.30\n",
              "\n",
              "[5 rows x 10 columns]"
            ]
          },
          "metadata": {},
          "execution_count": 175
        }
      ]
    },
    {
      "cell_type": "code",
      "metadata": {
        "colab": {
          "base_uri": "https://localhost:8080/",
          "height": 198
        },
        "id": "h3yCsIcv7hHF",
        "outputId": "1315e6ec-d1dc-4e51-a28b-7a4fd24e3f3c"
      },
      "source": [
        "df.tail()"
      ],
      "execution_count": 176,
      "outputs": [
        {
          "output_type": "execute_result",
          "data": {
            "text/html": [
              "<div>\n",
              "<style scoped>\n",
              "    .dataframe tbody tr th:only-of-type {\n",
              "        vertical-align: middle;\n",
              "    }\n",
              "\n",
              "    .dataframe tbody tr th {\n",
              "        vertical-align: top;\n",
              "    }\n",
              "\n",
              "    .dataframe thead th {\n",
              "        text-align: right;\n",
              "    }\n",
              "</style>\n",
              "<table border=\"1\" class=\"dataframe\">\n",
              "  <thead>\n",
              "    <tr style=\"text-align: right;\">\n",
              "      <th></th>\n",
              "      <th>Month</th>\n",
              "      <th>cno_pri</th>\n",
              "      <th>oli_pri</th>\n",
              "      <th>sbo_pri</th>\n",
              "      <th>cpo_pri</th>\n",
              "      <th>pno_pri</th>\n",
              "      <th>sfo_pri</th>\n",
              "      <th>exmaus</th>\n",
              "      <th>rps_pri</th>\n",
              "      <th>wti_spri</th>\n",
              "    </tr>\n",
              "  </thead>\n",
              "  <tbody>\n",
              "    <tr>\n",
              "      <th>225</th>\n",
              "      <td>2020-11-01</td>\n",
              "      <td>993</td>\n",
              "      <td>2925.80</td>\n",
              "      <td>860.28</td>\n",
              "      <td>826</td>\n",
              "      <td>1366.87</td>\n",
              "      <td>1667.82</td>\n",
              "      <td>2.6945</td>\n",
              "      <td>1047.78</td>\n",
              "      <td>34.03</td>\n",
              "    </tr>\n",
              "    <tr>\n",
              "      <th>226</th>\n",
              "      <td>2020-12-01</td>\n",
              "      <td>1031</td>\n",
              "      <td>2934.73</td>\n",
              "      <td>910.82</td>\n",
              "      <td>844</td>\n",
              "      <td>1366.87</td>\n",
              "      <td>1680.32</td>\n",
              "      <td>2.7028</td>\n",
              "      <td>1097.63</td>\n",
              "      <td>35.50</td>\n",
              "    </tr>\n",
              "    <tr>\n",
              "      <th>227</th>\n",
              "      <td>2021-01-01</td>\n",
              "      <td>1170</td>\n",
              "      <td>3087.55</td>\n",
              "      <td>997.62</td>\n",
              "      <td>944</td>\n",
              "      <td>1383.90</td>\n",
              "      <td>1375.09</td>\n",
              "      <td>2.7032</td>\n",
              "      <td>1138.24</td>\n",
              "      <td>35.81</td>\n",
              "    </tr>\n",
              "    <tr>\n",
              "      <th>228</th>\n",
              "      <td>2021-02-01</td>\n",
              "      <td>1275</td>\n",
              "      <td>3068.01</td>\n",
              "      <td>1035.26</td>\n",
              "      <td>949</td>\n",
              "      <td>1426.71</td>\n",
              "      <td>1359.46</td>\n",
              "      <td>2.7041</td>\n",
              "      <td>1272.13</td>\n",
              "      <td>33.59</td>\n",
              "    </tr>\n",
              "    <tr>\n",
              "      <th>229</th>\n",
              "      <td>2021-03-01</td>\n",
              "      <td>1412</td>\n",
              "      <td>3093.28</td>\n",
              "      <td>1146.75</td>\n",
              "      <td>1026</td>\n",
              "      <td>1471.32</td>\n",
              "      <td>1444.54</td>\n",
              "      <td>2.7032</td>\n",
              "      <td>1321.88</td>\n",
              "      <td>33.57</td>\n",
              "    </tr>\n",
              "  </tbody>\n",
              "</table>\n",
              "</div>"
            ],
            "text/plain": [
              "         Month  cno_pri  oli_pri  sbo_pri  ...  sfo_pri  exmaus  rps_pri  wti_spri\n",
              "225 2020-11-01      993  2925.80   860.28  ...  1667.82  2.6945  1047.78     34.03\n",
              "226 2020-12-01     1031  2934.73   910.82  ...  1680.32  2.7028  1097.63     35.50\n",
              "227 2021-01-01     1170  3087.55   997.62  ...  1375.09  2.7032  1138.24     35.81\n",
              "228 2021-02-01     1275  3068.01  1035.26  ...  1359.46  2.7041  1272.13     33.59\n",
              "229 2021-03-01     1412  3093.28  1146.75  ...  1444.54  2.7032  1321.88     33.57\n",
              "\n",
              "[5 rows x 10 columns]"
            ]
          },
          "metadata": {},
          "execution_count": 176
        }
      ]
    },
    {
      "cell_type": "markdown",
      "metadata": {
        "id": "lEze44rfueBc"
      },
      "source": [
        "###Look for missing values for each column"
      ]
    },
    {
      "cell_type": "code",
      "metadata": {
        "colab": {
          "base_uri": "https://localhost:8080/"
        },
        "id": "nkd5p1u0r4YJ",
        "outputId": "d2174fd5-c33d-41f3-84be-70c08b7a6205"
      },
      "source": [
        "df.isnull().sum()"
      ],
      "execution_count": 177,
      "outputs": [
        {
          "output_type": "execute_result",
          "data": {
            "text/plain": [
              "Month       0\n",
              "cno_pri     0\n",
              "oli_pri     0\n",
              "sbo_pri     0\n",
              "cpo_pri     0\n",
              "pno_pri     0\n",
              "sfo_pri     0\n",
              "exmaus      0\n",
              "rps_pri     0\n",
              "wti_spri    0\n",
              "dtype: int64"
            ]
          },
          "metadata": {},
          "execution_count": 177
        }
      ]
    },
    {
      "cell_type": "markdown",
      "metadata": {
        "id": "1J-2_LqVuxGH"
      },
      "source": [
        "####Inference\n",
        "No missing value in each column"
      ]
    },
    {
      "cell_type": "markdown",
      "metadata": {
        "id": "GpKNYVX-vKO9"
      },
      "source": [
        "###Look for null values for each column"
      ]
    },
    {
      "cell_type": "code",
      "metadata": {
        "colab": {
          "base_uri": "https://localhost:8080/"
        },
        "id": "qKcUcBhnudTI",
        "outputId": "220bb1df-a1ea-4874-b62e-a4f55fa16850"
      },
      "source": [
        "df.isnull().sum()"
      ],
      "execution_count": 179,
      "outputs": [
        {
          "output_type": "execute_result",
          "data": {
            "text/plain": [
              "Month       0\n",
              "cno_pri     0\n",
              "oli_pri     0\n",
              "sbo_pri     0\n",
              "cpo_pri     0\n",
              "pno_pri     0\n",
              "sfo_pri     0\n",
              "exmaus      0\n",
              "rps_pri     0\n",
              "wti_spri    0\n",
              "dtype: int64"
            ]
          },
          "metadata": {},
          "execution_count": 179
        }
      ]
    },
    {
      "cell_type": "code",
      "metadata": {
        "id": "WBSwRCclr4cs"
      },
      "source": [
        ""
      ],
      "execution_count": null,
      "outputs": []
    },
    {
      "cell_type": "code",
      "metadata": {
        "id": "FarSWTORr4hQ"
      },
      "source": [
        ""
      ],
      "execution_count": null,
      "outputs": []
    }
  ]
}