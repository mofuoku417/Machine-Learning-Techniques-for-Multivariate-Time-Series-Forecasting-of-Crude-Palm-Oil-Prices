{
  "nbformat": 4,
  "nbformat_minor": 0,
  "metadata": {
    "colab": {
      "provenance": [],
      "authorship_tag": "ABX9TyPZH0pX2sREenVx9j4dDtPl",
      "include_colab_link": true
    },
    "kernelspec": {
      "name": "python3",
      "display_name": "Python 3"
    },
    "language_info": {
      "name": "python"
    },
    "gpuClass": "standard",
    "accelerator": "GPU"
  },
  "cells": [
    {
      "cell_type": "markdown",
      "metadata": {
        "id": "view-in-github",
        "colab_type": "text"
      },
      "source": [
        "<a href=\"https://colab.research.google.com/github/mofuoku417/Machine-Learning-Techniques-for-Multivariate-Time-Series-Forecasting-of-Crude-Palm-Oil-Prices/blob/main/MV_LSTM.ipynb\" target=\"_parent\"><img src=\"https://colab.research.google.com/assets/colab-badge.svg\" alt=\"Open In Colab\"/></a>"
      ]
    },
    {
      "cell_type": "markdown",
      "source": [
        "##Objective: Predict Monthly Crude Palm Oil Price Using Long Short Term Memory (LSTM)"
      ],
      "metadata": {
        "id": "tt6Yvzr3gZ-g"
      }
    },
    {
      "cell_type": "markdown",
      "source": [
        "###Install dependencies"
      ],
      "metadata": {
        "id": "TvRmatc1Lo4v"
      }
    },
    {
      "cell_type": "code",
      "source": [
        "!pip install scikeras\n",
        "!pip install bayesian-optimization\n",
        "!pip install keras-tuner --upgrade"
      ],
      "metadata": {
        "id": "gGw0m6TUdgMM",
        "outputId": "d3bfbaec-1d6c-4aed-b4a7-c3a87a7a4c7c",
        "colab": {
          "base_uri": "https://localhost:8080/"
        }
      },
      "execution_count": 202,
      "outputs": [
        {
          "output_type": "stream",
          "name": "stdout",
          "text": [
            "Looking in indexes: https://pypi.org/simple, https://us-python.pkg.dev/colab-wheels/public/simple/\n",
            "Requirement already satisfied: scikeras in /usr/local/lib/python3.8/dist-packages (0.10.0)\n",
            "Requirement already satisfied: packaging>=0.21 in /usr/local/lib/python3.8/dist-packages (from scikeras) (23.0)\n",
            "Requirement already satisfied: scikit-learn>=1.0.0 in /usr/local/lib/python3.8/dist-packages (from scikeras) (1.0.2)\n",
            "Requirement already satisfied: numpy>=1.14.6 in /usr/local/lib/python3.8/dist-packages (from scikit-learn>=1.0.0->scikeras) (1.21.6)\n",
            "Requirement already satisfied: threadpoolctl>=2.0.0 in /usr/local/lib/python3.8/dist-packages (from scikit-learn>=1.0.0->scikeras) (3.1.0)\n",
            "Requirement already satisfied: joblib>=0.11 in /usr/local/lib/python3.8/dist-packages (from scikit-learn>=1.0.0->scikeras) (1.2.0)\n",
            "Requirement already satisfied: scipy>=1.1.0 in /usr/local/lib/python3.8/dist-packages (from scikit-learn>=1.0.0->scikeras) (1.7.3)\n",
            "Looking in indexes: https://pypi.org/simple, https://us-python.pkg.dev/colab-wheels/public/simple/\n",
            "Requirement already satisfied: bayesian-optimization in /usr/local/lib/python3.8/dist-packages (1.4.2)\n",
            "Requirement already satisfied: numpy>=1.9.0 in /usr/local/lib/python3.8/dist-packages (from bayesian-optimization) (1.21.6)\n",
            "Requirement already satisfied: colorama>=0.4.6 in /usr/local/lib/python3.8/dist-packages (from bayesian-optimization) (0.4.6)\n",
            "Requirement already satisfied: scipy>=1.0.0 in /usr/local/lib/python3.8/dist-packages (from bayesian-optimization) (1.7.3)\n",
            "Requirement already satisfied: scikit-learn>=0.18.0 in /usr/local/lib/python3.8/dist-packages (from bayesian-optimization) (1.0.2)\n",
            "Requirement already satisfied: joblib>=0.11 in /usr/local/lib/python3.8/dist-packages (from scikit-learn>=0.18.0->bayesian-optimization) (1.2.0)\n",
            "Requirement already satisfied: threadpoolctl>=2.0.0 in /usr/local/lib/python3.8/dist-packages (from scikit-learn>=0.18.0->bayesian-optimization) (3.1.0)\n",
            "Looking in indexes: https://pypi.org/simple, https://us-python.pkg.dev/colab-wheels/public/simple/\n",
            "Requirement already satisfied: keras-tuner in /usr/local/lib/python3.8/dist-packages (1.2.1)\n",
            "Requirement already satisfied: packaging in /usr/local/lib/python3.8/dist-packages (from keras-tuner) (23.0)\n",
            "Requirement already satisfied: ipython in /usr/local/lib/python3.8/dist-packages (from keras-tuner) (7.9.0)\n",
            "Requirement already satisfied: tensorflow>=2.0 in /usr/local/lib/python3.8/dist-packages (from keras-tuner) (2.11.0)\n",
            "Requirement already satisfied: kt-legacy in /usr/local/lib/python3.8/dist-packages (from keras-tuner) (1.0.4)\n",
            "Requirement already satisfied: requests in /usr/local/lib/python3.8/dist-packages (from keras-tuner) (2.25.1)\n",
            "Requirement already satisfied: absl-py>=1.0.0 in /usr/local/lib/python3.8/dist-packages (from tensorflow>=2.0->keras-tuner) (1.4.0)\n",
            "Requirement already satisfied: gast<=0.4.0,>=0.2.1 in /usr/local/lib/python3.8/dist-packages (from tensorflow>=2.0->keras-tuner) (0.4.0)\n",
            "Requirement already satisfied: libclang>=13.0.0 in /usr/local/lib/python3.8/dist-packages (from tensorflow>=2.0->keras-tuner) (15.0.6.1)\n",
            "Requirement already satisfied: numpy>=1.20 in /usr/local/lib/python3.8/dist-packages (from tensorflow>=2.0->keras-tuner) (1.21.6)\n",
            "Requirement already satisfied: wrapt>=1.11.0 in /usr/local/lib/python3.8/dist-packages (from tensorflow>=2.0->keras-tuner) (1.14.1)\n",
            "Requirement already satisfied: termcolor>=1.1.0 in /usr/local/lib/python3.8/dist-packages (from tensorflow>=2.0->keras-tuner) (2.2.0)\n",
            "Requirement already satisfied: protobuf<3.20,>=3.9.2 in /usr/local/lib/python3.8/dist-packages (from tensorflow>=2.0->keras-tuner) (3.19.6)\n",
            "Requirement already satisfied: tensorboard<2.12,>=2.11 in /usr/local/lib/python3.8/dist-packages (from tensorflow>=2.0->keras-tuner) (2.11.2)\n",
            "Requirement already satisfied: astunparse>=1.6.0 in /usr/local/lib/python3.8/dist-packages (from tensorflow>=2.0->keras-tuner) (1.6.3)\n",
            "Requirement already satisfied: h5py>=2.9.0 in /usr/local/lib/python3.8/dist-packages (from tensorflow>=2.0->keras-tuner) (3.1.0)\n",
            "Requirement already satisfied: google-pasta>=0.1.1 in /usr/local/lib/python3.8/dist-packages (from tensorflow>=2.0->keras-tuner) (0.2.0)\n",
            "Requirement already satisfied: grpcio<2.0,>=1.24.3 in /usr/local/lib/python3.8/dist-packages (from tensorflow>=2.0->keras-tuner) (1.51.1)\n",
            "Requirement already satisfied: flatbuffers>=2.0 in /usr/local/lib/python3.8/dist-packages (from tensorflow>=2.0->keras-tuner) (23.1.21)\n",
            "Requirement already satisfied: opt-einsum>=2.3.2 in /usr/local/lib/python3.8/dist-packages (from tensorflow>=2.0->keras-tuner) (3.3.0)\n",
            "Requirement already satisfied: tensorflow-estimator<2.12,>=2.11.0 in /usr/local/lib/python3.8/dist-packages (from tensorflow>=2.0->keras-tuner) (2.11.0)\n",
            "Requirement already satisfied: tensorflow-io-gcs-filesystem>=0.23.1 in /usr/local/lib/python3.8/dist-packages (from tensorflow>=2.0->keras-tuner) (0.30.0)\n",
            "Requirement already satisfied: typing-extensions>=3.6.6 in /usr/local/lib/python3.8/dist-packages (from tensorflow>=2.0->keras-tuner) (4.4.0)\n",
            "Requirement already satisfied: setuptools in /usr/local/lib/python3.8/dist-packages (from tensorflow>=2.0->keras-tuner) (57.4.0)\n",
            "Requirement already satisfied: six>=1.12.0 in /usr/local/lib/python3.8/dist-packages (from tensorflow>=2.0->keras-tuner) (1.15.0)\n",
            "Requirement already satisfied: keras<2.12,>=2.11.0 in /usr/local/lib/python3.8/dist-packages (from tensorflow>=2.0->keras-tuner) (2.11.0)\n",
            "Requirement already satisfied: pickleshare in /usr/local/lib/python3.8/dist-packages (from ipython->keras-tuner) (0.7.5)\n",
            "Requirement already satisfied: decorator in /usr/local/lib/python3.8/dist-packages (from ipython->keras-tuner) (4.4.2)\n",
            "Requirement already satisfied: jedi>=0.10 in /usr/local/lib/python3.8/dist-packages (from ipython->keras-tuner) (0.18.2)\n",
            "Requirement already satisfied: pexpect in /usr/local/lib/python3.8/dist-packages (from ipython->keras-tuner) (4.8.0)\n",
            "Requirement already satisfied: prompt-toolkit<2.1.0,>=2.0.0 in /usr/local/lib/python3.8/dist-packages (from ipython->keras-tuner) (2.0.10)\n",
            "Requirement already satisfied: pygments in /usr/local/lib/python3.8/dist-packages (from ipython->keras-tuner) (2.6.1)\n",
            "Requirement already satisfied: backcall in /usr/local/lib/python3.8/dist-packages (from ipython->keras-tuner) (0.2.0)\n",
            "Requirement already satisfied: traitlets>=4.2 in /usr/local/lib/python3.8/dist-packages (from ipython->keras-tuner) (5.7.1)\n",
            "Requirement already satisfied: certifi>=2017.4.17 in /usr/local/lib/python3.8/dist-packages (from requests->keras-tuner) (2022.12.7)\n",
            "Requirement already satisfied: urllib3<1.27,>=1.21.1 in /usr/local/lib/python3.8/dist-packages (from requests->keras-tuner) (1.24.3)\n",
            "Requirement already satisfied: idna<3,>=2.5 in /usr/local/lib/python3.8/dist-packages (from requests->keras-tuner) (2.10)\n",
            "Requirement already satisfied: chardet<5,>=3.0.2 in /usr/local/lib/python3.8/dist-packages (from requests->keras-tuner) (4.0.0)\n",
            "Requirement already satisfied: wheel<1.0,>=0.23.0 in /usr/local/lib/python3.8/dist-packages (from astunparse>=1.6.0->tensorflow>=2.0->keras-tuner) (0.38.4)\n",
            "Requirement already satisfied: parso<0.9.0,>=0.8.0 in /usr/local/lib/python3.8/dist-packages (from jedi>=0.10->ipython->keras-tuner) (0.8.3)\n",
            "Requirement already satisfied: wcwidth in /usr/local/lib/python3.8/dist-packages (from prompt-toolkit<2.1.0,>=2.0.0->ipython->keras-tuner) (0.2.6)\n",
            "Requirement already satisfied: tensorboard-data-server<0.7.0,>=0.6.0 in /usr/local/lib/python3.8/dist-packages (from tensorboard<2.12,>=2.11->tensorflow>=2.0->keras-tuner) (0.6.1)\n",
            "Requirement already satisfied: markdown>=2.6.8 in /usr/local/lib/python3.8/dist-packages (from tensorboard<2.12,>=2.11->tensorflow>=2.0->keras-tuner) (3.4.1)\n",
            "Requirement already satisfied: tensorboard-plugin-wit>=1.6.0 in /usr/local/lib/python3.8/dist-packages (from tensorboard<2.12,>=2.11->tensorflow>=2.0->keras-tuner) (1.8.1)\n",
            "Requirement already satisfied: google-auth-oauthlib<0.5,>=0.4.1 in /usr/local/lib/python3.8/dist-packages (from tensorboard<2.12,>=2.11->tensorflow>=2.0->keras-tuner) (0.4.6)\n",
            "Requirement already satisfied: werkzeug>=1.0.1 in /usr/local/lib/python3.8/dist-packages (from tensorboard<2.12,>=2.11->tensorflow>=2.0->keras-tuner) (1.0.1)\n",
            "Requirement already satisfied: google-auth<3,>=1.6.3 in /usr/local/lib/python3.8/dist-packages (from tensorboard<2.12,>=2.11->tensorflow>=2.0->keras-tuner) (2.16.0)\n",
            "Requirement already satisfied: ptyprocess>=0.5 in /usr/local/lib/python3.8/dist-packages (from pexpect->ipython->keras-tuner) (0.7.0)\n",
            "Requirement already satisfied: cachetools<6.0,>=2.0.0 in /usr/local/lib/python3.8/dist-packages (from google-auth<3,>=1.6.3->tensorboard<2.12,>=2.11->tensorflow>=2.0->keras-tuner) (5.3.0)\n",
            "Requirement already satisfied: rsa<5,>=3.1.4 in /usr/local/lib/python3.8/dist-packages (from google-auth<3,>=1.6.3->tensorboard<2.12,>=2.11->tensorflow>=2.0->keras-tuner) (4.9)\n",
            "Requirement already satisfied: pyasn1-modules>=0.2.1 in /usr/local/lib/python3.8/dist-packages (from google-auth<3,>=1.6.3->tensorboard<2.12,>=2.11->tensorflow>=2.0->keras-tuner) (0.2.8)\n",
            "Requirement already satisfied: requests-oauthlib>=0.7.0 in /usr/local/lib/python3.8/dist-packages (from google-auth-oauthlib<0.5,>=0.4.1->tensorboard<2.12,>=2.11->tensorflow>=2.0->keras-tuner) (1.3.1)\n",
            "Requirement already satisfied: importlib-metadata>=4.4 in /usr/local/lib/python3.8/dist-packages (from markdown>=2.6.8->tensorboard<2.12,>=2.11->tensorflow>=2.0->keras-tuner) (6.0.0)\n",
            "Requirement already satisfied: zipp>=0.5 in /usr/local/lib/python3.8/dist-packages (from importlib-metadata>=4.4->markdown>=2.6.8->tensorboard<2.12,>=2.11->tensorflow>=2.0->keras-tuner) (3.12.1)\n",
            "Requirement already satisfied: pyasn1<0.5.0,>=0.4.6 in /usr/local/lib/python3.8/dist-packages (from pyasn1-modules>=0.2.1->google-auth<3,>=1.6.3->tensorboard<2.12,>=2.11->tensorflow>=2.0->keras-tuner) (0.4.8)\n",
            "Requirement already satisfied: oauthlib>=3.0.0 in /usr/local/lib/python3.8/dist-packages (from requests-oauthlib>=0.7.0->google-auth-oauthlib<0.5,>=0.4.1->tensorboard<2.12,>=2.11->tensorflow>=2.0->keras-tuner) (3.2.2)\n"
          ]
        }
      ]
    },
    {
      "cell_type": "markdown",
      "source": [
        "###Load Libraries"
      ],
      "metadata": {
        "id": "r_2Cswg0sYN8"
      }
    },
    {
      "cell_type": "code",
      "source": [
        "import pandas as pd\n",
        "import numpy as np\n",
        "import matplotlib.pyplot as plt\n",
        "import pickle\n",
        "import os\n",
        "import seaborn as sns\n",
        "plt.rcParams['figure.figsize'] = (10, 5)\n",
        "plt.style.use('fivethirtyeight')\n",
        "from plotly.subplots import make_subplots\n",
        "import plotly.graph_objects as go\n",
        "import tensorflow as tf\n",
        "from tensorflow.keras import layers\n",
        "from keras.layers import LSTM\n",
        "from sklearn.metrics import mean_absolute_error\n",
        "from sklearn.metrics import make_scorer, mean_squared_error\n",
        "from keras.layers import Dense, Dropout\n",
        "from sklearn.metrics import explained_variance_score\n",
        "import warnings\n",
        "warnings.filterwarnings('ignore')\n",
        "from keras.models import Sequential\n",
        "from keras.layers import Dense\n",
        "from keras.wrappers.scikit_learn import KerasRegressor\n",
        "from keras.wrappers.scikit_learn import KerasClassifier\n",
        "from sklearn.model_selection import KFold, cross_val_score\n",
        "from scikeras.wrappers import KerasRegressor\n",
        "from tensorflow import keras\n",
        "from kerastuner.tuners import RandomSearch\n",
        "from kerastuner import HyperModel, RandomSearch, Hyperband, BayesianOptimization\n",
        "from keras.callbacks import EarlyStopping\n",
        "from time import time\n",
        "import pickle\n",
        "import random as python_random\n",
        "\n",
        "import matplotlib.dates as mdates\n",
        "from sklearn.preprocessing import RobustScaler\n",
        "from sklearn.preprocessing import MinMaxScaler"
      ],
      "metadata": {
        "id": "eJUaw5qy34It"
      },
      "execution_count": 203,
      "outputs": []
    },
    {
      "cell_type": "markdown",
      "source": [
        "###Define a function to get reproducable results in keras"
      ],
      "metadata": {
        "id": "uKHIxLxFDzMn"
      }
    },
    {
      "cell_type": "code",
      "source": [
        "def reset_seeds():\n",
        "   np.random.seed(123) \n",
        "   python_random.seed(123)\n",
        "   tf.random.set_seed(1234)\n",
        "\n",
        "reset_seeds() "
      ],
      "metadata": {
        "id": "1joSzUDYC585"
      },
      "execution_count": 204,
      "outputs": []
    },
    {
      "cell_type": "markdown",
      "source": [
        "###Define Functions to Facilitate Metrics Evaluation"
      ],
      "metadata": {
        "id": "Gzu9V2o2gfZG"
      }
    },
    {
      "cell_type": "code",
      "source": [
        "#To compute Mean Directional Accuracy\n",
        "def mda(actual: np.ndarray, predicted: np.ndarray):\n",
        "    \"\"\" Mean Directional Accuracy \"\"\"\n",
        "    return np.mean((np.sign(actual[1:] - actual[:-1]) == np.sign(predicted[1:] - predicted[:-1])).astype(int))\n",
        "\n",
        "#Calculate the Mean Absolute Percentage Error\n",
        "#def MAPE(y_true, y_pred): \n",
        "    #mape = np.mean(np.abs((np.array(y_true) - np.array(y_pred)) / np.array(y_true))) * 100\n",
        "    #return mape\n",
        "\n",
        "def mean_absolute_percentage_error(y_true, y_pred): \n",
        "    y_true, y_pred = np.array(y_true), np.array(y_pred)\n",
        "    return np.mean(np.abs((y_true - y_pred) / y_true)) * 100\n",
        "\n",
        "def MAPE(y_true, y_pred): \n",
        "    y_true, y_pred = np.array(y_true), np.array(y_pred)\n",
        "    return np.mean(np.abs((y_true - y_pred) / y_true)) * 100\n",
        "\n",
        "#Calculate the Root Mean Squared Error:\n",
        "def RMSE(y_true, y_pred): \n",
        "    rmse = np.sqrt(mean_squared_error(y_true, y_pred))\n",
        "    return rmse"
      ],
      "metadata": {
        "id": "k7RYx1rN_Yf_"
      },
      "execution_count": 205,
      "outputs": []
    },
    {
      "cell_type": "markdown",
      "source": [
        "###Load the Cleaned Data from Github"
      ],
      "metadata": {
        "id": "FVpIGyF7g4od"
      }
    },
    {
      "cell_type": "code",
      "source": [
        "from pandas import read_csv\n",
        "path = 'https://raw.githubusercontent.com/mofuoku417/Machine-Learning-Techniques-for-Multivariate-Time-Series-Forecasting-of-Crude-Palm-Oil-Prices/main/Cleaned_data/FS_2.csv'\n",
        "df = read_csv(path)\n",
        "df.head()"
      ],
      "metadata": {
        "colab": {
          "base_uri": "https://localhost:8080/",
          "height": 226
        },
        "id": "z_6wFR8b3xZf",
        "outputId": "a24369b6-0e56-4780-9037-7f041ce63cf5"
      },
      "execution_count": 206,
      "outputs": [
        {
          "output_type": "execute_result",
          "data": {
            "text/plain": [
              "      date  cpo_pri  cno_pri  oli_pri  rps_pri  pno_pri  sbo_pri  sfo_pri\n",
              "0  12/1/10      323      455  3102.61   423.45    844.0    468.0    578.0\n",
              "1   1/1/11      345      546  3100.45   415.85    799.0    485.0    557.0\n",
              "2   2/1/11      362      595  3199.41   410.77    718.0    466.0    552.0\n",
              "3   3/1/11      376      636  3281.67   414.82    614.0    442.0    574.0\n",
              "4   4/1/11      383      738  3261.65   451.04    619.0    429.0    595.0"
            ],
            "text/html": [
              "\n",
              "  <div id=\"df-d474d47e-e45d-485a-ba18-6f3588c41550\">\n",
              "    <div class=\"colab-df-container\">\n",
              "      <div>\n",
              "<style scoped>\n",
              "    .dataframe tbody tr th:only-of-type {\n",
              "        vertical-align: middle;\n",
              "    }\n",
              "\n",
              "    .dataframe tbody tr th {\n",
              "        vertical-align: top;\n",
              "    }\n",
              "\n",
              "    .dataframe thead th {\n",
              "        text-align: right;\n",
              "    }\n",
              "</style>\n",
              "<table border=\"1\" class=\"dataframe\">\n",
              "  <thead>\n",
              "    <tr style=\"text-align: right;\">\n",
              "      <th></th>\n",
              "      <th>date</th>\n",
              "      <th>cpo_pri</th>\n",
              "      <th>cno_pri</th>\n",
              "      <th>oli_pri</th>\n",
              "      <th>rps_pri</th>\n",
              "      <th>pno_pri</th>\n",
              "      <th>sbo_pri</th>\n",
              "      <th>sfo_pri</th>\n",
              "    </tr>\n",
              "  </thead>\n",
              "  <tbody>\n",
              "    <tr>\n",
              "      <th>0</th>\n",
              "      <td>12/1/10</td>\n",
              "      <td>323</td>\n",
              "      <td>455</td>\n",
              "      <td>3102.61</td>\n",
              "      <td>423.45</td>\n",
              "      <td>844.0</td>\n",
              "      <td>468.0</td>\n",
              "      <td>578.0</td>\n",
              "    </tr>\n",
              "    <tr>\n",
              "      <th>1</th>\n",
              "      <td>1/1/11</td>\n",
              "      <td>345</td>\n",
              "      <td>546</td>\n",
              "      <td>3100.45</td>\n",
              "      <td>415.85</td>\n",
              "      <td>799.0</td>\n",
              "      <td>485.0</td>\n",
              "      <td>557.0</td>\n",
              "    </tr>\n",
              "    <tr>\n",
              "      <th>2</th>\n",
              "      <td>2/1/11</td>\n",
              "      <td>362</td>\n",
              "      <td>595</td>\n",
              "      <td>3199.41</td>\n",
              "      <td>410.77</td>\n",
              "      <td>718.0</td>\n",
              "      <td>466.0</td>\n",
              "      <td>552.0</td>\n",
              "    </tr>\n",
              "    <tr>\n",
              "      <th>3</th>\n",
              "      <td>3/1/11</td>\n",
              "      <td>376</td>\n",
              "      <td>636</td>\n",
              "      <td>3281.67</td>\n",
              "      <td>414.82</td>\n",
              "      <td>614.0</td>\n",
              "      <td>442.0</td>\n",
              "      <td>574.0</td>\n",
              "    </tr>\n",
              "    <tr>\n",
              "      <th>4</th>\n",
              "      <td>4/1/11</td>\n",
              "      <td>383</td>\n",
              "      <td>738</td>\n",
              "      <td>3261.65</td>\n",
              "      <td>451.04</td>\n",
              "      <td>619.0</td>\n",
              "      <td>429.0</td>\n",
              "      <td>595.0</td>\n",
              "    </tr>\n",
              "  </tbody>\n",
              "</table>\n",
              "</div>\n",
              "      <button class=\"colab-df-convert\" onclick=\"convertToInteractive('df-d474d47e-e45d-485a-ba18-6f3588c41550')\"\n",
              "              title=\"Convert this dataframe to an interactive table.\"\n",
              "              style=\"display:none;\">\n",
              "        \n",
              "  <svg xmlns=\"http://www.w3.org/2000/svg\" height=\"24px\"viewBox=\"0 0 24 24\"\n",
              "       width=\"24px\">\n",
              "    <path d=\"M0 0h24v24H0V0z\" fill=\"none\"/>\n",
              "    <path d=\"M18.56 5.44l.94 2.06.94-2.06 2.06-.94-2.06-.94-.94-2.06-.94 2.06-2.06.94zm-11 1L8.5 8.5l.94-2.06 2.06-.94-2.06-.94L8.5 2.5l-.94 2.06-2.06.94zm10 10l.94 2.06.94-2.06 2.06-.94-2.06-.94-.94-2.06-.94 2.06-2.06.94z\"/><path d=\"M17.41 7.96l-1.37-1.37c-.4-.4-.92-.59-1.43-.59-.52 0-1.04.2-1.43.59L10.3 9.45l-7.72 7.72c-.78.78-.78 2.05 0 2.83L4 21.41c.39.39.9.59 1.41.59.51 0 1.02-.2 1.41-.59l7.78-7.78 2.81-2.81c.8-.78.8-2.07 0-2.86zM5.41 20L4 18.59l7.72-7.72 1.47 1.35L5.41 20z\"/>\n",
              "  </svg>\n",
              "      </button>\n",
              "      \n",
              "  <style>\n",
              "    .colab-df-container {\n",
              "      display:flex;\n",
              "      flex-wrap:wrap;\n",
              "      gap: 12px;\n",
              "    }\n",
              "\n",
              "    .colab-df-convert {\n",
              "      background-color: #E8F0FE;\n",
              "      border: none;\n",
              "      border-radius: 50%;\n",
              "      cursor: pointer;\n",
              "      display: none;\n",
              "      fill: #1967D2;\n",
              "      height: 32px;\n",
              "      padding: 0 0 0 0;\n",
              "      width: 32px;\n",
              "    }\n",
              "\n",
              "    .colab-df-convert:hover {\n",
              "      background-color: #E2EBFA;\n",
              "      box-shadow: 0px 1px 2px rgba(60, 64, 67, 0.3), 0px 1px 3px 1px rgba(60, 64, 67, 0.15);\n",
              "      fill: #174EA6;\n",
              "    }\n",
              "\n",
              "    [theme=dark] .colab-df-convert {\n",
              "      background-color: #3B4455;\n",
              "      fill: #D2E3FC;\n",
              "    }\n",
              "\n",
              "    [theme=dark] .colab-df-convert:hover {\n",
              "      background-color: #434B5C;\n",
              "      box-shadow: 0px 1px 3px 1px rgba(0, 0, 0, 0.15);\n",
              "      filter: drop-shadow(0px 1px 2px rgba(0, 0, 0, 0.3));\n",
              "      fill: #FFFFFF;\n",
              "    }\n",
              "  </style>\n",
              "\n",
              "      <script>\n",
              "        const buttonEl =\n",
              "          document.querySelector('#df-d474d47e-e45d-485a-ba18-6f3588c41550 button.colab-df-convert');\n",
              "        buttonEl.style.display =\n",
              "          google.colab.kernel.accessAllowed ? 'block' : 'none';\n",
              "\n",
              "        async function convertToInteractive(key) {\n",
              "          const element = document.querySelector('#df-d474d47e-e45d-485a-ba18-6f3588c41550');\n",
              "          const dataTable =\n",
              "            await google.colab.kernel.invokeFunction('convertToInteractive',\n",
              "                                                     [key], {});\n",
              "          if (!dataTable) return;\n",
              "\n",
              "          const docLinkHtml = 'Like what you see? Visit the ' +\n",
              "            '<a target=\"_blank\" href=https://colab.research.google.com/notebooks/data_table.ipynb>data table notebook</a>'\n",
              "            + ' to learn more about interactive tables.';\n",
              "          element.innerHTML = '';\n",
              "          dataTable['output_type'] = 'display_data';\n",
              "          await google.colab.output.renderOutput(dataTable, element);\n",
              "          const docLink = document.createElement('div');\n",
              "          docLink.innerHTML = docLinkHtml;\n",
              "          element.appendChild(docLink);\n",
              "        }\n",
              "      </script>\n",
              "    </div>\n",
              "  </div>\n",
              "  "
            ]
          },
          "metadata": {},
          "execution_count": 206
        }
      ]
    },
    {
      "cell_type": "code",
      "source": [
        "df['date']=pd.to_datetime(df['date'])\n",
        "#del df['date']"
      ],
      "metadata": {
        "id": "bABFH7Kd4nBN"
      },
      "execution_count": 207,
      "outputs": []
    },
    {
      "cell_type": "code",
      "source": [
        "df.set_index('date', inplace=True)\n",
        "df.info()"
      ],
      "metadata": {
        "colab": {
          "base_uri": "https://localhost:8080/"
        },
        "id": "nZ-LB-rFdF5N",
        "outputId": "fbb5ccaf-9bce-41d6-f452-1eca9122cf5b"
      },
      "execution_count": 208,
      "outputs": [
        {
          "output_type": "stream",
          "name": "stdout",
          "text": [
            "<class 'pandas.core.frame.DataFrame'>\n",
            "DatetimeIndex: 124 entries, 2010-12-01 to 2021-03-01\n",
            "Data columns (total 7 columns):\n",
            " #   Column   Non-Null Count  Dtype  \n",
            "---  ------   --------------  -----  \n",
            " 0   cpo_pri  124 non-null    int64  \n",
            " 1   cno_pri  124 non-null    int64  \n",
            " 2   oli_pri  124 non-null    float64\n",
            " 3   rps_pri  124 non-null    float64\n",
            " 4   pno_pri  124 non-null    float64\n",
            " 5   sbo_pri  124 non-null    float64\n",
            " 6   sfo_pri  124 non-null    float64\n",
            "dtypes: float64(5), int64(2)\n",
            "memory usage: 7.8 KB\n"
          ]
        }
      ]
    },
    {
      "cell_type": "code",
      "source": [
        "df.head()"
      ],
      "metadata": {
        "colab": {
          "base_uri": "https://localhost:8080/",
          "height": 258
        },
        "id": "PLpdJChY4wex",
        "outputId": "ba5a772e-b5e6-4a08-e004-dfe2f85773b1"
      },
      "execution_count": 209,
      "outputs": [
        {
          "output_type": "execute_result",
          "data": {
            "text/plain": [
              "            cpo_pri  cno_pri  oli_pri  rps_pri  pno_pri  sbo_pri  sfo_pri\n",
              "date                                                                     \n",
              "2010-12-01      323      455  3102.61   423.45    844.0    468.0    578.0\n",
              "2011-01-01      345      546  3100.45   415.85    799.0    485.0    557.0\n",
              "2011-02-01      362      595  3199.41   410.77    718.0    466.0    552.0\n",
              "2011-03-01      376      636  3281.67   414.82    614.0    442.0    574.0\n",
              "2011-04-01      383      738  3261.65   451.04    619.0    429.0    595.0"
            ],
            "text/html": [
              "\n",
              "  <div id=\"df-14e1af36-afaf-4ed1-a024-651a846a2446\">\n",
              "    <div class=\"colab-df-container\">\n",
              "      <div>\n",
              "<style scoped>\n",
              "    .dataframe tbody tr th:only-of-type {\n",
              "        vertical-align: middle;\n",
              "    }\n",
              "\n",
              "    .dataframe tbody tr th {\n",
              "        vertical-align: top;\n",
              "    }\n",
              "\n",
              "    .dataframe thead th {\n",
              "        text-align: right;\n",
              "    }\n",
              "</style>\n",
              "<table border=\"1\" class=\"dataframe\">\n",
              "  <thead>\n",
              "    <tr style=\"text-align: right;\">\n",
              "      <th></th>\n",
              "      <th>cpo_pri</th>\n",
              "      <th>cno_pri</th>\n",
              "      <th>oli_pri</th>\n",
              "      <th>rps_pri</th>\n",
              "      <th>pno_pri</th>\n",
              "      <th>sbo_pri</th>\n",
              "      <th>sfo_pri</th>\n",
              "    </tr>\n",
              "    <tr>\n",
              "      <th>date</th>\n",
              "      <th></th>\n",
              "      <th></th>\n",
              "      <th></th>\n",
              "      <th></th>\n",
              "      <th></th>\n",
              "      <th></th>\n",
              "      <th></th>\n",
              "    </tr>\n",
              "  </thead>\n",
              "  <tbody>\n",
              "    <tr>\n",
              "      <th>2010-12-01</th>\n",
              "      <td>323</td>\n",
              "      <td>455</td>\n",
              "      <td>3102.61</td>\n",
              "      <td>423.45</td>\n",
              "      <td>844.0</td>\n",
              "      <td>468.0</td>\n",
              "      <td>578.0</td>\n",
              "    </tr>\n",
              "    <tr>\n",
              "      <th>2011-01-01</th>\n",
              "      <td>345</td>\n",
              "      <td>546</td>\n",
              "      <td>3100.45</td>\n",
              "      <td>415.85</td>\n",
              "      <td>799.0</td>\n",
              "      <td>485.0</td>\n",
              "      <td>557.0</td>\n",
              "    </tr>\n",
              "    <tr>\n",
              "      <th>2011-02-01</th>\n",
              "      <td>362</td>\n",
              "      <td>595</td>\n",
              "      <td>3199.41</td>\n",
              "      <td>410.77</td>\n",
              "      <td>718.0</td>\n",
              "      <td>466.0</td>\n",
              "      <td>552.0</td>\n",
              "    </tr>\n",
              "    <tr>\n",
              "      <th>2011-03-01</th>\n",
              "      <td>376</td>\n",
              "      <td>636</td>\n",
              "      <td>3281.67</td>\n",
              "      <td>414.82</td>\n",
              "      <td>614.0</td>\n",
              "      <td>442.0</td>\n",
              "      <td>574.0</td>\n",
              "    </tr>\n",
              "    <tr>\n",
              "      <th>2011-04-01</th>\n",
              "      <td>383</td>\n",
              "      <td>738</td>\n",
              "      <td>3261.65</td>\n",
              "      <td>451.04</td>\n",
              "      <td>619.0</td>\n",
              "      <td>429.0</td>\n",
              "      <td>595.0</td>\n",
              "    </tr>\n",
              "  </tbody>\n",
              "</table>\n",
              "</div>\n",
              "      <button class=\"colab-df-convert\" onclick=\"convertToInteractive('df-14e1af36-afaf-4ed1-a024-651a846a2446')\"\n",
              "              title=\"Convert this dataframe to an interactive table.\"\n",
              "              style=\"display:none;\">\n",
              "        \n",
              "  <svg xmlns=\"http://www.w3.org/2000/svg\" height=\"24px\"viewBox=\"0 0 24 24\"\n",
              "       width=\"24px\">\n",
              "    <path d=\"M0 0h24v24H0V0z\" fill=\"none\"/>\n",
              "    <path d=\"M18.56 5.44l.94 2.06.94-2.06 2.06-.94-2.06-.94-.94-2.06-.94 2.06-2.06.94zm-11 1L8.5 8.5l.94-2.06 2.06-.94-2.06-.94L8.5 2.5l-.94 2.06-2.06.94zm10 10l.94 2.06.94-2.06 2.06-.94-2.06-.94-.94-2.06-.94 2.06-2.06.94z\"/><path d=\"M17.41 7.96l-1.37-1.37c-.4-.4-.92-.59-1.43-.59-.52 0-1.04.2-1.43.59L10.3 9.45l-7.72 7.72c-.78.78-.78 2.05 0 2.83L4 21.41c.39.39.9.59 1.41.59.51 0 1.02-.2 1.41-.59l7.78-7.78 2.81-2.81c.8-.78.8-2.07 0-2.86zM5.41 20L4 18.59l7.72-7.72 1.47 1.35L5.41 20z\"/>\n",
              "  </svg>\n",
              "      </button>\n",
              "      \n",
              "  <style>\n",
              "    .colab-df-container {\n",
              "      display:flex;\n",
              "      flex-wrap:wrap;\n",
              "      gap: 12px;\n",
              "    }\n",
              "\n",
              "    .colab-df-convert {\n",
              "      background-color: #E8F0FE;\n",
              "      border: none;\n",
              "      border-radius: 50%;\n",
              "      cursor: pointer;\n",
              "      display: none;\n",
              "      fill: #1967D2;\n",
              "      height: 32px;\n",
              "      padding: 0 0 0 0;\n",
              "      width: 32px;\n",
              "    }\n",
              "\n",
              "    .colab-df-convert:hover {\n",
              "      background-color: #E2EBFA;\n",
              "      box-shadow: 0px 1px 2px rgba(60, 64, 67, 0.3), 0px 1px 3px 1px rgba(60, 64, 67, 0.15);\n",
              "      fill: #174EA6;\n",
              "    }\n",
              "\n",
              "    [theme=dark] .colab-df-convert {\n",
              "      background-color: #3B4455;\n",
              "      fill: #D2E3FC;\n",
              "    }\n",
              "\n",
              "    [theme=dark] .colab-df-convert:hover {\n",
              "      background-color: #434B5C;\n",
              "      box-shadow: 0px 1px 3px 1px rgba(0, 0, 0, 0.15);\n",
              "      filter: drop-shadow(0px 1px 2px rgba(0, 0, 0, 0.3));\n",
              "      fill: #FFFFFF;\n",
              "    }\n",
              "  </style>\n",
              "\n",
              "      <script>\n",
              "        const buttonEl =\n",
              "          document.querySelector('#df-14e1af36-afaf-4ed1-a024-651a846a2446 button.colab-df-convert');\n",
              "        buttonEl.style.display =\n",
              "          google.colab.kernel.accessAllowed ? 'block' : 'none';\n",
              "\n",
              "        async function convertToInteractive(key) {\n",
              "          const element = document.querySelector('#df-14e1af36-afaf-4ed1-a024-651a846a2446');\n",
              "          const dataTable =\n",
              "            await google.colab.kernel.invokeFunction('convertToInteractive',\n",
              "                                                     [key], {});\n",
              "          if (!dataTable) return;\n",
              "\n",
              "          const docLinkHtml = 'Like what you see? Visit the ' +\n",
              "            '<a target=\"_blank\" href=https://colab.research.google.com/notebooks/data_table.ipynb>data table notebook</a>'\n",
              "            + ' to learn more about interactive tables.';\n",
              "          element.innerHTML = '';\n",
              "          dataTable['output_type'] = 'display_data';\n",
              "          await google.colab.output.renderOutput(dataTable, element);\n",
              "          const docLink = document.createElement('div');\n",
              "          docLink.innerHTML = docLinkHtml;\n",
              "          element.appendChild(docLink);\n",
              "        }\n",
              "      </script>\n",
              "    </div>\n",
              "  </div>\n",
              "  "
            ]
          },
          "metadata": {},
          "execution_count": 209
        }
      ]
    },
    {
      "cell_type": "code",
      "source": [
        "# Plot an area chart\n",
        "plt.figure(figsize=(25,10))\n",
        "ax = df.plot.area(fontsize=12);\n",
        "\n",
        "# Additional customizations\n",
        "ax.set_xlabel('date');\n",
        "ax.legend(fontsize=12);"
      ],
      "metadata": {
        "colab": {
          "base_uri": "https://localhost:8080/",
          "height": 399
        },
        "id": "pnKg-SfY6j9g",
        "outputId": "cecc6bbc-50f8-4719-8629-a8cbd26f20e4"
      },
      "execution_count": 210,
      "outputs": [
        {
          "output_type": "display_data",
          "data": {
            "text/plain": [
              "<Figure size 1800x720 with 0 Axes>"
            ]
          },
          "metadata": {}
        },
        {
          "output_type": "display_data",
          "data": {
            "text/plain": [
              "<Figure size 720x360 with 1 Axes>"
            ],
            "image/png": "[encoded data removed]"
          },
          "metadata": {}
        }
      ]
    },
    {
      "cell_type": "markdown",
      "source": [
        "##**Long Short Term Memory Forecasting Technique (LSTM)**"
      ],
      "metadata": {
        "id": "dPoGjuS366Cc"
      }
    },
    {
      "cell_type": "markdown",
      "source": [
        "###**Split Data into Train Test Segments**"
      ],
      "metadata": {
        "id": "vFpT6OrD7KRv"
      }
    },
    {
      "cell_type": "code",
      "source": [
        "train_size = int(len(df) * 0.8)\n",
        "test_size = len(df) - train_size\n",
        "train, test = df.iloc[0:train_size], df.iloc[train_size:len(df)]\n",
        "print('Train size:',len(train))\n",
        "print('Test size:', len(test))"
      ],
      "metadata": {
        "colab": {
          "base_uri": "https://localhost:8080/"
        },
        "id": "nYZL-9Sy3xpJ",
        "outputId": "b2efbeff-39e3-4c15-9ed8-f00f71eaac47"
      },
      "execution_count": 211,
      "outputs": [
        {
          "output_type": "stream",
          "name": "stdout",
          "text": [
            "Train size: 99\n",
            "Test size: 25\n"
          ]
        }
      ]
    },
    {
      "cell_type": "code",
      "source": [
        "split_date = '2019-02'\n",
        "df_training = df.loc[df.index <= split_date]\n",
        "df_test = df.loc[df.index > split_date]\n",
        "print(f\"{len(df_training)} days of training data \\n {len(df_test)} days of testing data \")"
      ],
      "metadata": {
        "colab": {
          "base_uri": "https://localhost:8080/"
        },
        "id": "qKDDSdp_JVu6",
        "outputId": "c9d1d5b1-5a40-4a97-f4cf-30a4aaddca67"
      },
      "execution_count": 212,
      "outputs": [
        {
          "output_type": "stream",
          "name": "stdout",
          "text": [
            "99 days of training data \n",
            " 25 days of testing data \n"
          ]
        }
      ]
    },
    {
      "cell_type": "code",
      "source": [
        "train, test = df.iloc[0:train_size], df.iloc[train_size:len(df)]\n",
        "print(len(train), len(test))"
      ],
      "metadata": {
        "colab": {
          "base_uri": "https://localhost:8080/"
        },
        "id": "DGrD2nxFmNSu",
        "outputId": "e6f764e9-6697-4ab9-97b5-a914d8258f42"
      },
      "execution_count": 213,
      "outputs": [
        {
          "output_type": "stream",
          "name": "stdout",
          "text": [
            "99 25\n"
          ]
        }
      ]
    },
    {
      "cell_type": "code",
      "source": [
        "print(train.shape)\n",
        "train.head()"
      ],
      "metadata": {
        "colab": {
          "base_uri": "https://localhost:8080/",
          "height": 275
        },
        "id": "QvbHy-5RmPuI",
        "outputId": "e51bc5ff-7231-44fe-830c-aebea4c0deba"
      },
      "execution_count": 214,
      "outputs": [
        {
          "output_type": "stream",
          "name": "stdout",
          "text": [
            "(99, 7)\n"
          ]
        },
        {
          "output_type": "execute_result",
          "data": {
            "text/plain": [
              "            cpo_pri  cno_pri  oli_pri  rps_pri  pno_pri  sbo_pri  sfo_pri\n",
              "date                                                                     \n",
              "2010-12-01      323      455  3102.61   423.45    844.0    468.0    578.0\n",
              "2011-01-01      345      546  3100.45   415.85    799.0    485.0    557.0\n",
              "2011-02-01      362      595  3199.41   410.77    718.0    466.0    552.0\n",
              "2011-03-01      376      636  3281.67   414.82    614.0    442.0    574.0\n",
              "2011-04-01      383      738  3261.65   451.04    619.0    429.0    595.0"
            ],
            "text/html": [
              "\n",
              "  <div id=\"df-6522af19-7735-491e-a412-7c542c1d1194\">\n",
              "    <div class=\"colab-df-container\">\n",
              "      <div>\n",
              "<style scoped>\n",
              "    .dataframe tbody tr th:only-of-type {\n",
              "        vertical-align: middle;\n",
              "    }\n",
              "\n",
              "    .dataframe tbody tr th {\n",
              "        vertical-align: top;\n",
              "    }\n",
              "\n",
              "    .dataframe thead th {\n",
              "        text-align: right;\n",
              "    }\n",
              "</style>\n",
              "<table border=\"1\" class=\"dataframe\">\n",
              "  <thead>\n",
              "    <tr style=\"text-align: right;\">\n",
              "      <th></th>\n",
              "      <th>cpo_pri</th>\n",
              "      <th>cno_pri</th>\n",
              "      <th>oli_pri</th>\n",
              "      <th>rps_pri</th>\n",
              "      <th>pno_pri</th>\n",
              "      <th>sbo_pri</th>\n",
              "      <th>sfo_pri</th>\n",
              "    </tr>\n",
              "    <tr>\n",
              "      <th>date</th>\n",
              "      <th></th>\n",
              "      <th></th>\n",
              "      <th></th>\n",
              "      <th></th>\n",
              "      <th></th>\n",
              "      <th></th>\n",
              "      <th></th>\n",
              "    </tr>\n",
              "  </thead>\n",
              "  <tbody>\n",
              "    <tr>\n",
              "      <th>2010-12-01</th>\n",
              "      <td>323</td>\n",
              "      <td>455</td>\n",
              "      <td>3102.61</td>\n",
              "      <td>423.45</td>\n",
              "      <td>844.0</td>\n",
              "      <td>468.0</td>\n",
              "      <td>578.0</td>\n",
              "    </tr>\n",
              "    <tr>\n",
              "      <th>2011-01-01</th>\n",
              "      <td>345</td>\n",
              "      <td>546</td>\n",
              "      <td>3100.45</td>\n",
              "      <td>415.85</td>\n",
              "      <td>799.0</td>\n",
              "      <td>485.0</td>\n",
              "      <td>557.0</td>\n",
              "    </tr>\n",
              "    <tr>\n",
              "      <th>2011-02-01</th>\n",
              "      <td>362</td>\n",
              "      <td>595</td>\n",
              "      <td>3199.41</td>\n",
              "      <td>410.77</td>\n",
              "      <td>718.0</td>\n",
              "      <td>466.0</td>\n",
              "      <td>552.0</td>\n",
              "    </tr>\n",
              "    <tr>\n",
              "      <th>2011-03-01</th>\n",
              "      <td>376</td>\n",
              "      <td>636</td>\n",
              "      <td>3281.67</td>\n",
              "      <td>414.82</td>\n",
              "      <td>614.0</td>\n",
              "      <td>442.0</td>\n",
              "      <td>574.0</td>\n",
              "    </tr>\n",
              "    <tr>\n",
              "      <th>2011-04-01</th>\n",
              "      <td>383</td>\n",
              "      <td>738</td>\n",
              "      <td>3261.65</td>\n",
              "      <td>451.04</td>\n",
              "      <td>619.0</td>\n",
              "      <td>429.0</td>\n",
              "      <td>595.0</td>\n",
              "    </tr>\n",
              "  </tbody>\n",
              "</table>\n",
              "</div>\n",
              "      <button class=\"colab-df-convert\" onclick=\"convertToInteractive('df-6522af19-7735-491e-a412-7c542c1d1194')\"\n",
              "              title=\"Convert this dataframe to an interactive table.\"\n",
              "              style=\"display:none;\">\n",
              "        \n",
              "  <svg xmlns=\"http://www.w3.org/2000/svg\" height=\"24px\"viewBox=\"0 0 24 24\"\n",
              "       width=\"24px\">\n",
              "    <path d=\"M0 0h24v24H0V0z\" fill=\"none\"/>\n",
              "    <path d=\"M18.56 5.44l.94 2.06.94-2.06 2.06-.94-2.06-.94-.94-2.06-.94 2.06-2.06.94zm-11 1L8.5 8.5l.94-2.06 2.06-.94-2.06-.94L8.5 2.5l-.94 2.06-2.06.94zm10 10l.94 2.06.94-2.06 2.06-.94-2.06-.94-.94-2.06-.94 2.06-2.06.94z\"/><path d=\"M17.41 7.96l-1.37-1.37c-.4-.4-.92-.59-1.43-.59-.52 0-1.04.2-1.43.59L10.3 9.45l-7.72 7.72c-.78.78-.78 2.05 0 2.83L4 21.41c.39.39.9.59 1.41.59.51 0 1.02-.2 1.41-.59l7.78-7.78 2.81-2.81c.8-.78.8-2.07 0-2.86zM5.41 20L4 18.59l7.72-7.72 1.47 1.35L5.41 20z\"/>\n",
              "  </svg>\n",
              "      </button>\n",
              "      \n",
              "  <style>\n",
              "    .colab-df-container {\n",
              "      display:flex;\n",
              "      flex-wrap:wrap;\n",
              "      gap: 12px;\n",
              "    }\n",
              "\n",
              "    .colab-df-convert {\n",
              "      background-color: #E8F0FE;\n",
              "      border: none;\n",
              "      border-radius: 50%;\n",
              "      cursor: pointer;\n",
              "      display: none;\n",
              "      fill: #1967D2;\n",
              "      height: 32px;\n",
              "      padding: 0 0 0 0;\n",
              "      width: 32px;\n",
              "    }\n",
              "\n",
              "    .colab-df-convert:hover {\n",
              "      background-color: #E2EBFA;\n",
              "      box-shadow: 0px 1px 2px rgba(60, 64, 67, 0.3), 0px 1px 3px 1px rgba(60, 64, 67, 0.15);\n",
              "      fill: #174EA6;\n",
              "    }\n",
              "\n",
              "    [theme=dark] .colab-df-convert {\n",
              "      background-color: #3B4455;\n",
              "      fill: #D2E3FC;\n",
              "    }\n",
              "\n",
              "    [theme=dark] .colab-df-convert:hover {\n",
              "      background-color: #434B5C;\n",
              "      box-shadow: 0px 1px 3px 1px rgba(0, 0, 0, 0.15);\n",
              "      filter: drop-shadow(0px 1px 2px rgba(0, 0, 0, 0.3));\n",
              "      fill: #FFFFFF;\n",
              "    }\n",
              "  </style>\n",
              "\n",
              "      <script>\n",
              "        const buttonEl =\n",
              "          document.querySelector('#df-6522af19-7735-491e-a412-7c542c1d1194 button.colab-df-convert');\n",
              "        buttonEl.style.display =\n",
              "          google.colab.kernel.accessAllowed ? 'block' : 'none';\n",
              "\n",
              "        async function convertToInteractive(key) {\n",
              "          const element = document.querySelector('#df-6522af19-7735-491e-a412-7c542c1d1194');\n",
              "          const dataTable =\n",
              "            await google.colab.kernel.invokeFunction('convertToInteractive',\n",
              "                                                     [key], {});\n",
              "          if (!dataTable) return;\n",
              "\n",
              "          const docLinkHtml = 'Like what you see? Visit the ' +\n",
              "            '<a target=\"_blank\" href=https://colab.research.google.com/notebooks/data_table.ipynb>data table notebook</a>'\n",
              "            + ' to learn more about interactive tables.';\n",
              "          element.innerHTML = '';\n",
              "          dataTable['output_type'] = 'display_data';\n",
              "          await google.colab.output.renderOutput(dataTable, element);\n",
              "          const docLink = document.createElement('div');\n",
              "          docLink.innerHTML = docLinkHtml;\n",
              "          element.appendChild(docLink);\n",
              "        }\n",
              "      </script>\n",
              "    </div>\n",
              "  </div>\n",
              "  "
            ]
          },
          "metadata": {},
          "execution_count": 214
        }
      ]
    },
    {
      "cell_type": "markdown",
      "source": [
        "###Rescaling Training Data"
      ],
      "metadata": {
        "id": "Z5F4OyT2mwRs"
      }
    },
    {
      "cell_type": "code",
      "source": [
        "f_transformer = MinMaxScaler()\n",
        "feature_columns = ['cno_pri', 'oli_pri', 'rps_pri', 'pno_pri', 'sbo_pri', 'sfo_pri']\n",
        "f_transformer = f_transformer.fit(train[feature_columns].to_numpy())\n",
        "train.loc[:, feature_columns] = f_transformer.transform(train[feature_columns].to_numpy())\n",
        "train.head()"
      ],
      "metadata": {
        "colab": {
          "base_uri": "https://localhost:8080/",
          "height": 258
        },
        "id": "Lg-AQuNBmvZK",
        "outputId": "8a50bf10-cc29-4459-d6a8-cb84a98c1890"
      },
      "execution_count": 215,
      "outputs": [
        {
          "output_type": "execute_result",
          "data": {
            "text/plain": [
              "            cpo_pri   cno_pri   oli_pri   rps_pri   pno_pri   sbo_pri  \\\n",
              "date                                                                    \n",
              "2010-12-01      323  0.112288  0.140918  0.010736  0.528090  0.253193   \n",
              "2011-01-01      345  0.305085  0.140327  0.004301  0.443820  0.306536   \n",
              "2011-02-01      362  0.408898  0.167408  0.000000  0.292135  0.246917   \n",
              "2011-03-01      376  0.495763  0.189919  0.003429  0.097378  0.171609   \n",
              "2011-04-01      383  0.711864  0.184440  0.034095  0.106742  0.130817   \n",
              "\n",
              "             sfo_pri  \n",
              "date                  \n",
              "2010-12-01  0.023302  \n",
              "2011-01-01  0.009321  \n",
              "2011-02-01  0.005992  \n",
              "2011-03-01  0.020639  \n",
              "2011-04-01  0.034621  "
            ],
            "text/html": [
              "\n",
              "  <div id=\"df-ffd17f9e-c8a9-4d77-9995-c5d1816b3ef6\">\n",
              "    <div class=\"colab-df-container\">\n",
              "      <div>\n",
              "<style scoped>\n",
              "    .dataframe tbody tr th:only-of-type {\n",
              "        vertical-align: middle;\n",
              "    }\n",
              "\n",
              "    .dataframe tbody tr th {\n",
              "        vertical-align: top;\n",
              "    }\n",
              "\n",
              "    .dataframe thead th {\n",
              "        text-align: right;\n",
              "    }\n",
              "</style>\n",
              "<table border=\"1\" class=\"dataframe\">\n",
              "  <thead>\n",
              "    <tr style=\"text-align: right;\">\n",
              "      <th></th>\n",
              "      <th>cpo_pri</th>\n",
              "      <th>cno_pri</th>\n",
              "      <th>oli_pri</th>\n",
              "      <th>rps_pri</th>\n",
              "      <th>pno_pri</th>\n",
              "      <th>sbo_pri</th>\n",
              "      <th>sfo_pri</th>\n",
              "    </tr>\n",
              "    <tr>\n",
              "      <th>date</th>\n",
              "      <th></th>\n",
              "      <th></th>\n",
              "      <th></th>\n",
              "      <th></th>\n",
              "      <th></th>\n",
              "      <th></th>\n",
              "      <th></th>\n",
              "    </tr>\n",
              "  </thead>\n",
              "  <tbody>\n",
              "    <tr>\n",
              "      <th>2010-12-01</th>\n",
              "      <td>323</td>\n",
              "      <td>0.112288</td>\n",
              "      <td>0.140918</td>\n",
              "      <td>0.010736</td>\n",
              "      <td>0.528090</td>\n",
              "      <td>0.253193</td>\n",
              "      <td>0.023302</td>\n",
              "    </tr>\n",
              "    <tr>\n",
              "      <th>2011-01-01</th>\n",
              "      <td>345</td>\n",
              "      <td>0.305085</td>\n",
              "      <td>0.140327</td>\n",
              "      <td>0.004301</td>\n",
              "      <td>0.443820</td>\n",
              "      <td>0.306536</td>\n",
              "      <td>0.009321</td>\n",
              "    </tr>\n",
              "    <tr>\n",
              "      <th>2011-02-01</th>\n",
              "      <td>362</td>\n",
              "      <td>0.408898</td>\n",
              "      <td>0.167408</td>\n",
              "      <td>0.000000</td>\n",
              "      <td>0.292135</td>\n",
              "      <td>0.246917</td>\n",
              "      <td>0.005992</td>\n",
              "    </tr>\n",
              "    <tr>\n",
              "      <th>2011-03-01</th>\n",
              "      <td>376</td>\n",
              "      <td>0.495763</td>\n",
              "      <td>0.189919</td>\n",
              "      <td>0.003429</td>\n",
              "      <td>0.097378</td>\n",
              "      <td>0.171609</td>\n",
              "      <td>0.020639</td>\n",
              "    </tr>\n",
              "    <tr>\n",
              "      <th>2011-04-01</th>\n",
              "      <td>383</td>\n",
              "      <td>0.711864</td>\n",
              "      <td>0.184440</td>\n",
              "      <td>0.034095</td>\n",
              "      <td>0.106742</td>\n",
              "      <td>0.130817</td>\n",
              "      <td>0.034621</td>\n",
              "    </tr>\n",
              "  </tbody>\n",
              "</table>\n",
              "</div>\n",
              "      <button class=\"colab-df-convert\" onclick=\"convertToInteractive('df-ffd17f9e-c8a9-4d77-9995-c5d1816b3ef6')\"\n",
              "              title=\"Convert this dataframe to an interactive table.\"\n",
              "              style=\"display:none;\">\n",
              "        \n",
              "  <svg xmlns=\"http://www.w3.org/2000/svg\" height=\"24px\"viewBox=\"0 0 24 24\"\n",
              "       width=\"24px\">\n",
              "    <path d=\"M0 0h24v24H0V0z\" fill=\"none\"/>\n",
              "    <path d=\"M18.56 5.44l.94 2.06.94-2.06 2.06-.94-2.06-.94-.94-2.06-.94 2.06-2.06.94zm-11 1L8.5 8.5l.94-2.06 2.06-.94-2.06-.94L8.5 2.5l-.94 2.06-2.06.94zm10 10l.94 2.06.94-2.06 2.06-.94-2.06-.94-.94-2.06-.94 2.06-2.06.94z\"/><path d=\"M17.41 7.96l-1.37-1.37c-.4-.4-.92-.59-1.43-.59-.52 0-1.04.2-1.43.59L10.3 9.45l-7.72 7.72c-.78.78-.78 2.05 0 2.83L4 21.41c.39.39.9.59 1.41.59.51 0 1.02-.2 1.41-.59l7.78-7.78 2.81-2.81c.8-.78.8-2.07 0-2.86zM5.41 20L4 18.59l7.72-7.72 1.47 1.35L5.41 20z\"/>\n",
              "  </svg>\n",
              "      </button>\n",
              "      \n",
              "  <style>\n",
              "    .colab-df-container {\n",
              "      display:flex;\n",
              "      flex-wrap:wrap;\n",
              "      gap: 12px;\n",
              "    }\n",
              "\n",
              "    .colab-df-convert {\n",
              "      background-color: #E8F0FE;\n",
              "      border: none;\n",
              "      border-radius: 50%;\n",
              "      cursor: pointer;\n",
              "      display: none;\n",
              "      fill: #1967D2;\n",
              "      height: 32px;\n",
              "      padding: 0 0 0 0;\n",
              "      width: 32px;\n",
              "    }\n",
              "\n",
              "    .colab-df-convert:hover {\n",
              "      background-color: #E2EBFA;\n",
              "      box-shadow: 0px 1px 2px rgba(60, 64, 67, 0.3), 0px 1px 3px 1px rgba(60, 64, 67, 0.15);\n",
              "      fill: #174EA6;\n",
              "    }\n",
              "\n",
              "    [theme=dark] .colab-df-convert {\n",
              "      background-color: #3B4455;\n",
              "      fill: #D2E3FC;\n",
              "    }\n",
              "\n",
              "    [theme=dark] .colab-df-convert:hover {\n",
              "      background-color: #434B5C;\n",
              "      box-shadow: 0px 1px 3px 1px rgba(0, 0, 0, 0.15);\n",
              "      filter: drop-shadow(0px 1px 2px rgba(0, 0, 0, 0.3));\n",
              "      fill: #FFFFFF;\n",
              "    }\n",
              "  </style>\n",
              "\n",
              "      <script>\n",
              "        const buttonEl =\n",
              "          document.querySelector('#df-ffd17f9e-c8a9-4d77-9995-c5d1816b3ef6 button.colab-df-convert');\n",
              "        buttonEl.style.display =\n",
              "          google.colab.kernel.accessAllowed ? 'block' : 'none';\n",
              "\n",
              "        async function convertToInteractive(key) {\n",
              "          const element = document.querySelector('#df-ffd17f9e-c8a9-4d77-9995-c5d1816b3ef6');\n",
              "          const dataTable =\n",
              "            await google.colab.kernel.invokeFunction('convertToInteractive',\n",
              "                                                     [key], {});\n",
              "          if (!dataTable) return;\n",
              "\n",
              "          const docLinkHtml = 'Like what you see? Visit the ' +\n",
              "            '<a target=\"_blank\" href=https://colab.research.google.com/notebooks/data_table.ipynb>data table notebook</a>'\n",
              "            + ' to learn more about interactive tables.';\n",
              "          element.innerHTML = '';\n",
              "          dataTable['output_type'] = 'display_data';\n",
              "          await google.colab.output.renderOutput(dataTable, element);\n",
              "          const docLink = document.createElement('div');\n",
              "          docLink.innerHTML = docLinkHtml;\n",
              "          element.appendChild(docLink);\n",
              "        }\n",
              "      </script>\n",
              "    </div>\n",
              "  </div>\n",
              "  "
            ]
          },
          "metadata": {},
          "execution_count": 215
        }
      ]
    },
    {
      "cell_type": "code",
      "source": [
        "cpo_pri_transformer = MinMaxScaler()\n",
        "cpo_pri_transformer = cpo_pri_transformer.fit(train[['cpo_pri']])\n",
        "train['cpo_pri'] = cpo_pri_transformer.transform(train[['cpo_pri']])\n",
        "train['cpo_pri'].head()"
      ],
      "metadata": {
        "colab": {
          "base_uri": "https://localhost:8080/"
        },
        "id": "XNkE4gN9nJLt",
        "outputId": "ba453d36-60c2-4210-beb0-c908083e01e9"
      },
      "execution_count": 216,
      "outputs": [
        {
          "output_type": "execute_result",
          "data": {
            "text/plain": [
              "date\n",
              "2010-12-01    0.0100\n",
              "2011-01-01    0.0650\n",
              "2011-02-01    0.1075\n",
              "2011-03-01    0.1425\n",
              "2011-04-01    0.1600\n",
              "Name: cpo_pri, dtype: float64"
            ]
          },
          "metadata": {},
          "execution_count": 216
        }
      ]
    },
    {
      "cell_type": "code",
      "source": [
        "test.loc[:, feature_columns] = f_transformer.transform(test[feature_columns].to_numpy())\n",
        "test.head()"
      ],
      "metadata": {
        "colab": {
          "base_uri": "https://localhost:8080/",
          "height": 258
        },
        "id": "aouQuJG5n6k8",
        "outputId": "fd8b423d-ceeb-4c35-ba81-4e3ce4dbc305"
      },
      "execution_count": 217,
      "outputs": [
        {
          "output_type": "execute_result",
          "data": {
            "text/plain": [
              "            cpo_pri   cno_pri   oli_pri   rps_pri   pno_pri   sbo_pri  \\\n",
              "date                                                                    \n",
              "2019-03-01      354  0.637712  0.194855  0.382454  0.381292 -0.039662   \n",
              "2019-04-01      348  0.533898  0.264388  0.393951  0.213633 -0.054975   \n",
              "2019-05-01      332  0.400424  0.246417  0.453802  0.235262 -0.092159   \n",
              "2019-06-01      349  0.317797  0.234308  0.509834  0.320749 -0.074743   \n",
              "2019-07-01      372  0.313559  0.223422  0.526454  0.426610 -0.066114   \n",
              "\n",
              "             sfo_pri  \n",
              "date                  \n",
              "2019-03-01  0.493342  \n",
              "2019-04-01  0.597870  \n",
              "2019-05-01  0.606525  \n",
              "2019-06-01  0.631824  \n",
              "2019-07-01  0.773462  "
            ],
            "text/html": [
              "\n",
              "  <div id=\"df-4728da9f-8cd6-4773-9951-1f313751df2b\">\n",
              "    <div class=\"colab-df-container\">\n",
              "      <div>\n",
              "<style scoped>\n",
              "    .dataframe tbody tr th:only-of-type {\n",
              "        vertical-align: middle;\n",
              "    }\n",
              "\n",
              "    .dataframe tbody tr th {\n",
              "        vertical-align: top;\n",
              "    }\n",
              "\n",
              "    .dataframe thead th {\n",
              "        text-align: right;\n",
              "    }\n",
              "</style>\n",
              "<table border=\"1\" class=\"dataframe\">\n",
              "  <thead>\n",
              "    <tr style=\"text-align: right;\">\n",
              "      <th></th>\n",
              "      <th>cpo_pri</th>\n",
              "      <th>cno_pri</th>\n",
              "      <th>oli_pri</th>\n",
              "      <th>rps_pri</th>\n",
              "      <th>pno_pri</th>\n",
              "      <th>sbo_pri</th>\n",
              "      <th>sfo_pri</th>\n",
              "    </tr>\n",
              "    <tr>\n",
              "      <th>date</th>\n",
              "      <th></th>\n",
              "      <th></th>\n",
              "      <th></th>\n",
              "      <th></th>\n",
              "      <th></th>\n",
              "      <th></th>\n",
              "      <th></th>\n",
              "    </tr>\n",
              "  </thead>\n",
              "  <tbody>\n",
              "    <tr>\n",
              "      <th>2019-03-01</th>\n",
              "      <td>354</td>\n",
              "      <td>0.637712</td>\n",
              "      <td>0.194855</td>\n",
              "      <td>0.382454</td>\n",
              "      <td>0.381292</td>\n",
              "      <td>-0.039662</td>\n",
              "      <td>0.493342</td>\n",
              "    </tr>\n",
              "    <tr>\n",
              "      <th>2019-04-01</th>\n",
              "      <td>348</td>\n",
              "      <td>0.533898</td>\n",
              "      <td>0.264388</td>\n",
              "      <td>0.393951</td>\n",
              "      <td>0.213633</td>\n",
              "      <td>-0.054975</td>\n",
              "      <td>0.597870</td>\n",
              "    </tr>\n",
              "    <tr>\n",
              "      <th>2019-05-01</th>\n",
              "      <td>332</td>\n",
              "      <td>0.400424</td>\n",
              "      <td>0.246417</td>\n",
              "      <td>0.453802</td>\n",
              "      <td>0.235262</td>\n",
              "      <td>-0.092159</td>\n",
              "      <td>0.606525</td>\n",
              "    </tr>\n",
              "    <tr>\n",
              "      <th>2019-06-01</th>\n",
              "      <td>349</td>\n",
              "      <td>0.317797</td>\n",
              "      <td>0.234308</td>\n",
              "      <td>0.509834</td>\n",
              "      <td>0.320749</td>\n",
              "      <td>-0.074743</td>\n",
              "      <td>0.631824</td>\n",
              "    </tr>\n",
              "    <tr>\n",
              "      <th>2019-07-01</th>\n",
              "      <td>372</td>\n",
              "      <td>0.313559</td>\n",
              "      <td>0.223422</td>\n",
              "      <td>0.526454</td>\n",
              "      <td>0.426610</td>\n",
              "      <td>-0.066114</td>\n",
              "      <td>0.773462</td>\n",
              "    </tr>\n",
              "  </tbody>\n",
              "</table>\n",
              "</div>\n",
              "      <button class=\"colab-df-convert\" onclick=\"convertToInteractive('df-4728da9f-8cd6-4773-9951-1f313751df2b')\"\n",
              "              title=\"Convert this dataframe to an interactive table.\"\n",
              "              style=\"display:none;\">\n",
              "        \n",
              "  <svg xmlns=\"http://www.w3.org/2000/svg\" height=\"24px\"viewBox=\"0 0 24 24\"\n",
              "       width=\"24px\">\n",
              "    <path d=\"M0 0h24v24H0V0z\" fill=\"none\"/>\n",
              "    <path d=\"M18.56 5.44l.94 2.06.94-2.06 2.06-.94-2.06-.94-.94-2.06-.94 2.06-2.06.94zm-11 1L8.5 8.5l.94-2.06 2.06-.94-2.06-.94L8.5 2.5l-.94 2.06-2.06.94zm10 10l.94 2.06.94-2.06 2.06-.94-2.06-.94-.94-2.06-.94 2.06-2.06.94z\"/><path d=\"M17.41 7.96l-1.37-1.37c-.4-.4-.92-.59-1.43-.59-.52 0-1.04.2-1.43.59L10.3 9.45l-7.72 7.72c-.78.78-.78 2.05 0 2.83L4 21.41c.39.39.9.59 1.41.59.51 0 1.02-.2 1.41-.59l7.78-7.78 2.81-2.81c.8-.78.8-2.07 0-2.86zM5.41 20L4 18.59l7.72-7.72 1.47 1.35L5.41 20z\"/>\n",
              "  </svg>\n",
              "      </button>\n",
              "      \n",
              "  <style>\n",
              "    .colab-df-container {\n",
              "      display:flex;\n",
              "      flex-wrap:wrap;\n",
              "      gap: 12px;\n",
              "    }\n",
              "\n",
              "    .colab-df-convert {\n",
              "      background-color: #E8F0FE;\n",
              "      border: none;\n",
              "      border-radius: 50%;\n",
              "      cursor: pointer;\n",
              "      display: none;\n",
              "      fill: #1967D2;\n",
              "      height: 32px;\n",
              "      padding: 0 0 0 0;\n",
              "      width: 32px;\n",
              "    }\n",
              "\n",
              "    .colab-df-convert:hover {\n",
              "      background-color: #E2EBFA;\n",
              "      box-shadow: 0px 1px 2px rgba(60, 64, 67, 0.3), 0px 1px 3px 1px rgba(60, 64, 67, 0.15);\n",
              "      fill: #174EA6;\n",
              "    }\n",
              "\n",
              "    [theme=dark] .colab-df-convert {\n",
              "      background-color: #3B4455;\n",
              "      fill: #D2E3FC;\n",
              "    }\n",
              "\n",
              "    [theme=dark] .colab-df-convert:hover {\n",
              "      background-color: #434B5C;\n",
              "      box-shadow: 0px 1px 3px 1px rgba(0, 0, 0, 0.15);\n",
              "      filter: drop-shadow(0px 1px 2px rgba(0, 0, 0, 0.3));\n",
              "      fill: #FFFFFF;\n",
              "    }\n",
              "  </style>\n",
              "\n",
              "      <script>\n",
              "        const buttonEl =\n",
              "          document.querySelector('#df-4728da9f-8cd6-4773-9951-1f313751df2b button.colab-df-convert');\n",
              "        buttonEl.style.display =\n",
              "          google.colab.kernel.accessAllowed ? 'block' : 'none';\n",
              "\n",
              "        async function convertToInteractive(key) {\n",
              "          const element = document.querySelector('#df-4728da9f-8cd6-4773-9951-1f313751df2b');\n",
              "          const dataTable =\n",
              "            await google.colab.kernel.invokeFunction('convertToInteractive',\n",
              "                                                     [key], {});\n",
              "          if (!dataTable) return;\n",
              "\n",
              "          const docLinkHtml = 'Like what you see? Visit the ' +\n",
              "            '<a target=\"_blank\" href=https://colab.research.google.com/notebooks/data_table.ipynb>data table notebook</a>'\n",
              "            + ' to learn more about interactive tables.';\n",
              "          element.innerHTML = '';\n",
              "          dataTable['output_type'] = 'display_data';\n",
              "          await google.colab.output.renderOutput(dataTable, element);\n",
              "          const docLink = document.createElement('div');\n",
              "          docLink.innerHTML = docLinkHtml;\n",
              "          element.appendChild(docLink);\n",
              "        }\n",
              "      </script>\n",
              "    </div>\n",
              "  </div>\n",
              "  "
            ]
          },
          "metadata": {},
          "execution_count": 217
        }
      ]
    },
    {
      "cell_type": "code",
      "source": [
        "test['cpo_pri'] = cpo_pri_transformer.transform(test[['cpo_pri']])\n",
        "test['cpo_pri'].head()"
      ],
      "metadata": {
        "colab": {
          "base_uri": "https://localhost:8080/"
        },
        "id": "GXgFSrz3n6o5",
        "outputId": "9ca040db-e1e0-4189-ace5-d34122627644"
      },
      "execution_count": 218,
      "outputs": [
        {
          "output_type": "execute_result",
          "data": {
            "text/plain": [
              "date\n",
              "2019-03-01    0.0875\n",
              "2019-04-01    0.0725\n",
              "2019-05-01    0.0325\n",
              "2019-06-01    0.0750\n",
              "2019-07-01    0.1325\n",
              "Name: cpo_pri, dtype: float64"
            ]
          },
          "metadata": {},
          "execution_count": 218
        }
      ]
    },
    {
      "cell_type": "markdown",
      "source": [
        "###Create X_train, y_train, X_test and y_test"
      ],
      "metadata": {
        "id": "p_2s3AO-ohCD"
      }
    },
    {
      "cell_type": "code",
      "source": [
        "def createDataset(X, y, time_steps):\n",
        "    Xs, ys = [], []\n",
        "    for i in range(len(X) - time_steps):\n",
        "        data = X.iloc[i:(i + time_steps)].values\n",
        "        Xs.append(data)        \n",
        "        ys.append(y.iloc[i + time_steps])\n",
        "        \n",
        "    return np.array(Xs), np.array(ys)\n",
        "\n",
        "time_steps = 3\n",
        "X_train, y_train = createDataset(train, train.cpo_pri, time_steps)\n",
        "X_test, y_test = createDataset(test, test.cpo_pri, time_steps)\n",
        "print(X_train.shape, y_train.shape)"
      ],
      "metadata": {
        "colab": {
          "base_uri": "https://localhost:8080/"
        },
        "id": "fGTyTKiYoJIb",
        "outputId": "c4b45100-dfaf-495f-92fa-28ab8cf35b43"
      },
      "execution_count": 224,
      "outputs": [
        {
          "output_type": "stream",
          "name": "stdout",
          "text": [
            "(96, 3, 7) (96,)\n"
          ]
        }
      ]
    },
    {
      "cell_type": "markdown",
      "source": [
        "###LSTM Baseline Model Architecture\n"
      ],
      "metadata": {
        "id": "03nnefNdICgH"
      }
    },
    {
      "cell_type": "markdown",
      "source": [
        "*  LSTM with 85 neurons in the first visible layer.\n",
        "*  LSTM with 64 neurons in the second visible layer.\n",
        "*  1 neuron in the output layer for predicting crude palm oil price.\n",
        "*  The input shape will be 3 time step with 7 features.\n",
        "*   I apply the Mean Squared Error (MSE) loss function and the efficient Adam version of stochastic gradient descent.\n",
        "*  Fit the model for 100 training epochs with a batch size of 64.\n"
      ],
      "metadata": {
        "id": "jzcKThtkH1Ys"
      }
    },
    {
      "cell_type": "code",
      "source": [
        "LSTM_model = tf.keras.Sequential()\n",
        "LSTM_model.add(tf.keras.layers.LSTM(units=85, activation='tanh', input_shape=(X_test.shape[1], X_test.shape[2])))\n",
        "LSTM_model.add(tf.keras.layers.Dense(64, activation='tanh'))\n",
        "LSTM_model.add(tf.keras.layers.Dense(1))\n",
        "\n",
        "# compile model using adam\n",
        "LSTM_model.compile(optimizer='adam',loss='mse',metrics=['mse'])\n",
        "# model training\n",
        "history = LSTM_model.fit(X_train, y_train, epochs=100, batch_size = 64, validation_split=0.2) #epochs = 30, batch_size = 60\n",
        "\n",
        "# model evaluation\n",
        "LSTM_model.evaluate(X_test, y_test)"
      ],
      "metadata": {
        "id": "EkQPUIAQOvX9",
        "outputId": "c4889926-5cb4-43d4-d2ee-6b64708f76eb",
        "colab": {
          "base_uri": "https://localhost:8080/"
        }
      },
      "execution_count": 228,
      "outputs": [
        {
          "output_type": "stream",
          "name": "stdout",
          "text": [
            "Epoch 1/100\n",
            "2/2 [==============================] - 4s 909ms/step - loss: 0.1905 - mse: 0.1905 - val_loss: 0.1973 - val_mse: 0.1973\n",
            "Epoch 2/100\n",
            "2/2 [==============================] - 0s 80ms/step - loss: 0.0811 - mse: 0.0811 - val_loss: 0.1074 - val_mse: 0.1074\n",
            "Epoch 3/100\n",
            "2/2 [==============================] - 0s 60ms/step - loss: 0.0287 - mse: 0.0287 - val_loss: 0.0778 - val_mse: 0.0778\n",
            "Epoch 4/100\n",
            "2/2 [==============================] - 0s 57ms/step - loss: 0.0244 - mse: 0.0244 - val_loss: 0.0847 - val_mse: 0.0847\n",
            "Epoch 5/100\n",
            "2/2 [==============================] - 0s 78ms/step - loss: 0.0465 - mse: 0.0465 - val_loss: 0.0869 - val_mse: 0.0869\n",
            "Epoch 6/100\n",
            "2/2 [==============================] - 0s 142ms/step - loss: 0.0502 - mse: 0.0502 - val_loss: 0.0772 - val_mse: 0.0772\n",
            "Epoch 7/100\n",
            "2/2 [==============================] - 0s 207ms/step - loss: 0.0354 - mse: 0.0354 - val_loss: 0.0702 - val_mse: 0.0702\n",
            "Epoch 8/100\n",
            "2/2 [==============================] - 0s 201ms/step - loss: 0.0224 - mse: 0.0224 - val_loss: 0.0725 - val_mse: 0.0725\n",
            "Epoch 9/100\n",
            "2/2 [==============================] - 0s 148ms/step - loss: 0.0179 - mse: 0.0179 - val_loss: 0.0800 - val_mse: 0.0800\n",
            "Epoch 10/100\n",
            "2/2 [==============================] - 0s 218ms/step - loss: 0.0204 - mse: 0.0204 - val_loss: 0.0845 - val_mse: 0.0845\n",
            "Epoch 11/100\n",
            "2/2 [==============================] - 0s 154ms/step - loss: 0.0234 - mse: 0.0234 - val_loss: 0.0822 - val_mse: 0.0822\n",
            "Epoch 12/100\n",
            "2/2 [==============================] - 0s 201ms/step - loss: 0.0233 - mse: 0.0233 - val_loss: 0.0735 - val_mse: 0.0735\n",
            "Epoch 13/100\n",
            "2/2 [==============================] - 0s 144ms/step - loss: 0.0199 - mse: 0.0199 - val_loss: 0.0615 - val_mse: 0.0615\n",
            "Epoch 14/100\n",
            "2/2 [==============================] - 0s 126ms/step - loss: 0.0151 - mse: 0.0151 - val_loss: 0.0505 - val_mse: 0.0505\n",
            "Epoch 15/100\n",
            "2/2 [==============================] - 0s 211ms/step - loss: 0.0130 - mse: 0.0130 - val_loss: 0.0442 - val_mse: 0.0442\n",
            "Epoch 16/100\n",
            "2/2 [==============================] - 0s 90ms/step - loss: 0.0141 - mse: 0.0141 - val_loss: 0.0420 - val_mse: 0.0420\n",
            "Epoch 17/100\n",
            "2/2 [==============================] - 0s 81ms/step - loss: 0.0174 - mse: 0.0174 - val_loss: 0.0403 - val_mse: 0.0403\n",
            "Epoch 18/100\n",
            "2/2 [==============================] - 0s 135ms/step - loss: 0.0182 - mse: 0.0182 - val_loss: 0.0369 - val_mse: 0.0369\n",
            "Epoch 19/100\n",
            "2/2 [==============================] - 0s 117ms/step - loss: 0.0154 - mse: 0.0154 - val_loss: 0.0336 - val_mse: 0.0336\n",
            "Epoch 20/100\n",
            "2/2 [==============================] - 0s 82ms/step - loss: 0.0120 - mse: 0.0120 - val_loss: 0.0329 - val_mse: 0.0329\n",
            "Epoch 21/100\n",
            "2/2 [==============================] - 0s 168ms/step - loss: 0.0106 - mse: 0.0106 - val_loss: 0.0335 - val_mse: 0.0335\n",
            "Epoch 22/100\n",
            "2/2 [==============================] - 0s 127ms/step - loss: 0.0109 - mse: 0.0109 - val_loss: 0.0334 - val_mse: 0.0334\n",
            "Epoch 23/100\n",
            "2/2 [==============================] - 0s 106ms/step - loss: 0.0116 - mse: 0.0116 - val_loss: 0.0317 - val_mse: 0.0317\n",
            "Epoch 24/100\n",
            "2/2 [==============================] - 0s 76ms/step - loss: 0.0113 - mse: 0.0113 - val_loss: 0.0281 - val_mse: 0.0281\n",
            "Epoch 25/100\n",
            "2/2 [==============================] - 0s 78ms/step - loss: 0.0103 - mse: 0.0103 - val_loss: 0.0248 - val_mse: 0.0248\n",
            "Epoch 26/100\n",
            "2/2 [==============================] - 0s 75ms/step - loss: 0.0093 - mse: 0.0093 - val_loss: 0.0229 - val_mse: 0.0229\n",
            "Epoch 27/100\n",
            "2/2 [==============================] - 0s 125ms/step - loss: 0.0090 - mse: 0.0090 - val_loss: 0.0220 - val_mse: 0.0220\n",
            "Epoch 28/100\n",
            "2/2 [==============================] - 0s 59ms/step - loss: 0.0092 - mse: 0.0092 - val_loss: 0.0215 - val_mse: 0.0215\n",
            "Epoch 29/100\n",
            "2/2 [==============================] - 0s 48ms/step - loss: 0.0092 - mse: 0.0092 - val_loss: 0.0210 - val_mse: 0.0210\n",
            "Epoch 30/100\n",
            "2/2 [==============================] - 0s 48ms/step - loss: 0.0088 - mse: 0.0088 - val_loss: 0.0206 - val_mse: 0.0206\n",
            "Epoch 31/100\n",
            "2/2 [==============================] - 0s 42ms/step - loss: 0.0083 - mse: 0.0083 - val_loss: 0.0206 - val_mse: 0.0206\n",
            "Epoch 32/100\n",
            "2/2 [==============================] - 0s 60ms/step - loss: 0.0081 - mse: 0.0081 - val_loss: 0.0209 - val_mse: 0.0209\n",
            "Epoch 33/100\n",
            "2/2 [==============================] - 0s 43ms/step - loss: 0.0083 - mse: 0.0083 - val_loss: 0.0212 - val_mse: 0.0212\n",
            "Epoch 34/100\n",
            "2/2 [==============================] - 0s 42ms/step - loss: 0.0085 - mse: 0.0085 - val_loss: 0.0210 - val_mse: 0.0210\n",
            "Epoch 35/100\n",
            "2/2 [==============================] - 0s 42ms/step - loss: 0.0082 - mse: 0.0082 - val_loss: 0.0202 - val_mse: 0.0202\n",
            "Epoch 36/100\n",
            "2/2 [==============================] - 0s 59ms/step - loss: 0.0077 - mse: 0.0077 - val_loss: 0.0199 - val_mse: 0.0199\n",
            "Epoch 37/100\n",
            "2/2 [==============================] - 0s 45ms/step - loss: 0.0075 - mse: 0.0075 - val_loss: 0.0203 - val_mse: 0.0203\n",
            "Epoch 38/100\n",
            "2/2 [==============================] - 0s 64ms/step - loss: 0.0076 - mse: 0.0076 - val_loss: 0.0208 - val_mse: 0.0208\n",
            "Epoch 39/100\n",
            "2/2 [==============================] - 0s 43ms/step - loss: 0.0079 - mse: 0.0079 - val_loss: 0.0209 - val_mse: 0.0209\n",
            "Epoch 40/100\n",
            "2/2 [==============================] - 0s 65ms/step - loss: 0.0080 - mse: 0.0080 - val_loss: 0.0200 - val_mse: 0.0200\n",
            "Epoch 41/100\n",
            "2/2 [==============================] - 0s 44ms/step - loss: 0.0076 - mse: 0.0076 - val_loss: 0.0188 - val_mse: 0.0188\n",
            "Epoch 42/100\n",
            "2/2 [==============================] - 0s 43ms/step - loss: 0.0073 - mse: 0.0073 - val_loss: 0.0183 - val_mse: 0.0183\n",
            "Epoch 43/100\n",
            "2/2 [==============================] - 0s 82ms/step - loss: 0.0071 - mse: 0.0071 - val_loss: 0.0183 - val_mse: 0.0183\n",
            "Epoch 44/100\n",
            "2/2 [==============================] - 0s 111ms/step - loss: 0.0071 - mse: 0.0071 - val_loss: 0.0183 - val_mse: 0.0183\n",
            "Epoch 45/100\n",
            "2/2 [==============================] - 0s 72ms/step - loss: 0.0070 - mse: 0.0070 - val_loss: 0.0180 - val_mse: 0.0180\n",
            "Epoch 46/100\n",
            "2/2 [==============================] - 0s 46ms/step - loss: 0.0069 - mse: 0.0069 - val_loss: 0.0179 - val_mse: 0.0179\n",
            "Epoch 47/100\n",
            "2/2 [==============================] - 0s 41ms/step - loss: 0.0069 - mse: 0.0069 - val_loss: 0.0185 - val_mse: 0.0185\n",
            "Epoch 48/100\n",
            "2/2 [==============================] - 0s 50ms/step - loss: 0.0069 - mse: 0.0069 - val_loss: 0.0191 - val_mse: 0.0191\n",
            "Epoch 49/100\n",
            "2/2 [==============================] - 0s 43ms/step - loss: 0.0069 - mse: 0.0069 - val_loss: 0.0189 - val_mse: 0.0189\n",
            "Epoch 50/100\n",
            "2/2 [==============================] - 0s 42ms/step - loss: 0.0069 - mse: 0.0069 - val_loss: 0.0189 - val_mse: 0.0189\n",
            "Epoch 51/100\n",
            "2/2 [==============================] - 0s 44ms/step - loss: 0.0068 - mse: 0.0068 - val_loss: 0.0195 - val_mse: 0.0195\n",
            "Epoch 52/100\n",
            "2/2 [==============================] - 0s 42ms/step - loss: 0.0069 - mse: 0.0069 - val_loss: 0.0200 - val_mse: 0.0200\n",
            "Epoch 53/100\n",
            "2/2 [==============================] - 0s 44ms/step - loss: 0.0069 - mse: 0.0069 - val_loss: 0.0197 - val_mse: 0.0197\n",
            "Epoch 54/100\n",
            "2/2 [==============================] - 0s 41ms/step - loss: 0.0069 - mse: 0.0069 - val_loss: 0.0195 - val_mse: 0.0195\n",
            "Epoch 55/100\n",
            "2/2 [==============================] - 0s 47ms/step - loss: 0.0068 - mse: 0.0068 - val_loss: 0.0194 - val_mse: 0.0194\n",
            "Epoch 56/100\n",
            "2/2 [==============================] - 0s 62ms/step - loss: 0.0067 - mse: 0.0067 - val_loss: 0.0189 - val_mse: 0.0189\n",
            "Epoch 57/100\n",
            "2/2 [==============================] - 0s 43ms/step - loss: 0.0066 - mse: 0.0066 - val_loss: 0.0180 - val_mse: 0.0180\n",
            "Epoch 58/100\n",
            "2/2 [==============================] - 0s 62ms/step - loss: 0.0067 - mse: 0.0067 - val_loss: 0.0173 - val_mse: 0.0173\n",
            "Epoch 59/100\n",
            "2/2 [==============================] - 0s 61ms/step - loss: 0.0068 - mse: 0.0068 - val_loss: 0.0175 - val_mse: 0.0175\n",
            "Epoch 60/100\n",
            "2/2 [==============================] - 0s 55ms/step - loss: 0.0067 - mse: 0.0067 - val_loss: 0.0182 - val_mse: 0.0182\n",
            "Epoch 61/100\n",
            "2/2 [==============================] - 0s 48ms/step - loss: 0.0065 - mse: 0.0065 - val_loss: 0.0199 - val_mse: 0.0199\n",
            "Epoch 62/100\n",
            "2/2 [==============================] - 0s 50ms/step - loss: 0.0066 - mse: 0.0066 - val_loss: 0.0215 - val_mse: 0.0215\n",
            "Epoch 63/100\n",
            "2/2 [==============================] - 0s 47ms/step - loss: 0.0069 - mse: 0.0069 - val_loss: 0.0202 - val_mse: 0.0202\n",
            "Epoch 64/100\n",
            "2/2 [==============================] - 0s 41ms/step - loss: 0.0065 - mse: 0.0065 - val_loss: 0.0178 - val_mse: 0.0178\n",
            "Epoch 65/100\n",
            "2/2 [==============================] - 0s 44ms/step - loss: 0.0065 - mse: 0.0065 - val_loss: 0.0169 - val_mse: 0.0169\n",
            "Epoch 66/100\n",
            "2/2 [==============================] - 0s 80ms/step - loss: 0.0069 - mse: 0.0069 - val_loss: 0.0168 - val_mse: 0.0168\n",
            "Epoch 67/100\n",
            "2/2 [==============================] - 0s 42ms/step - loss: 0.0070 - mse: 0.0070 - val_loss: 0.0176 - val_mse: 0.0176\n",
            "Epoch 68/100\n",
            "2/2 [==============================] - 0s 42ms/step - loss: 0.0065 - mse: 0.0065 - val_loss: 0.0201 - val_mse: 0.0201\n",
            "Epoch 69/100\n",
            "2/2 [==============================] - 0s 54ms/step - loss: 0.0064 - mse: 0.0064 - val_loss: 0.0228 - val_mse: 0.0228\n",
            "Epoch 70/100\n",
            "2/2 [==============================] - 0s 43ms/step - loss: 0.0070 - mse: 0.0070 - val_loss: 0.0227 - val_mse: 0.0227\n",
            "Epoch 71/100\n",
            "2/2 [==============================] - 0s 42ms/step - loss: 0.0070 - mse: 0.0070 - val_loss: 0.0207 - val_mse: 0.0207\n",
            "Epoch 72/100\n",
            "2/2 [==============================] - 0s 53ms/step - loss: 0.0064 - mse: 0.0064 - val_loss: 0.0191 - val_mse: 0.0191\n",
            "Epoch 73/100\n",
            "2/2 [==============================] - 0s 42ms/step - loss: 0.0063 - mse: 0.0063 - val_loss: 0.0177 - val_mse: 0.0177\n",
            "Epoch 74/100\n",
            "2/2 [==============================] - 0s 44ms/step - loss: 0.0068 - mse: 0.0068 - val_loss: 0.0174 - val_mse: 0.0174\n",
            "Epoch 75/100\n",
            "2/2 [==============================] - 0s 52ms/step - loss: 0.0068 - mse: 0.0068 - val_loss: 0.0188 - val_mse: 0.0188\n",
            "Epoch 76/100\n",
            "2/2 [==============================] - 0s 43ms/step - loss: 0.0063 - mse: 0.0063 - val_loss: 0.0218 - val_mse: 0.0218\n",
            "Epoch 77/100\n",
            "2/2 [==============================] - 0s 48ms/step - loss: 0.0066 - mse: 0.0066 - val_loss: 0.0241 - val_mse: 0.0241\n",
            "Epoch 78/100\n",
            "2/2 [==============================] - 0s 57ms/step - loss: 0.0071 - mse: 0.0071 - val_loss: 0.0217 - val_mse: 0.0217\n",
            "Epoch 79/100\n",
            "2/2 [==============================] - 0s 63ms/step - loss: 0.0064 - mse: 0.0064 - val_loss: 0.0181 - val_mse: 0.0181\n",
            "Epoch 80/100\n",
            "2/2 [==============================] - 0s 61ms/step - loss: 0.0065 - mse: 0.0065 - val_loss: 0.0170 - val_mse: 0.0170\n",
            "Epoch 81/100\n",
            "2/2 [==============================] - 0s 46ms/step - loss: 0.0070 - mse: 0.0070 - val_loss: 0.0174 - val_mse: 0.0174\n",
            "Epoch 82/100\n",
            "2/2 [==============================] - 0s 44ms/step - loss: 0.0067 - mse: 0.0067 - val_loss: 0.0187 - val_mse: 0.0187\n",
            "Epoch 83/100\n",
            "2/2 [==============================] - 0s 43ms/step - loss: 0.0062 - mse: 0.0062 - val_loss: 0.0210 - val_mse: 0.0210\n",
            "Epoch 84/100\n",
            "2/2 [==============================] - 0s 43ms/step - loss: 0.0063 - mse: 0.0063 - val_loss: 0.0217 - val_mse: 0.0217\n",
            "Epoch 85/100\n",
            "2/2 [==============================] - 0s 42ms/step - loss: 0.0063 - mse: 0.0063 - val_loss: 0.0202 - val_mse: 0.0202\n",
            "Epoch 86/100\n",
            "2/2 [==============================] - 0s 41ms/step - loss: 0.0061 - mse: 0.0061 - val_loss: 0.0190 - val_mse: 0.0190\n",
            "Epoch 87/100\n",
            "2/2 [==============================] - 0s 43ms/step - loss: 0.0061 - mse: 0.0061 - val_loss: 0.0186 - val_mse: 0.0186\n",
            "Epoch 88/100\n",
            "2/2 [==============================] - 0s 41ms/step - loss: 0.0060 - mse: 0.0060 - val_loss: 0.0196 - val_mse: 0.0196\n",
            "Epoch 89/100\n",
            "2/2 [==============================] - 0s 44ms/step - loss: 0.0060 - mse: 0.0060 - val_loss: 0.0204 - val_mse: 0.0204\n",
            "Epoch 90/100\n",
            "2/2 [==============================] - 0s 66ms/step - loss: 0.0061 - mse: 0.0061 - val_loss: 0.0188 - val_mse: 0.0188\n",
            "Epoch 91/100\n",
            "2/2 [==============================] - 0s 58ms/step - loss: 0.0059 - mse: 0.0059 - val_loss: 0.0165 - val_mse: 0.0165\n",
            "Epoch 92/100\n",
            "2/2 [==============================] - 0s 54ms/step - loss: 0.0064 - mse: 0.0064 - val_loss: 0.0160 - val_mse: 0.0160\n",
            "Epoch 93/100\n",
            "2/2 [==============================] - 0s 61ms/step - loss: 0.0065 - mse: 0.0065 - val_loss: 0.0175 - val_mse: 0.0175\n",
            "Epoch 94/100\n",
            "2/2 [==============================] - 0s 54ms/step - loss: 0.0062 - mse: 0.0062 - val_loss: 0.0192 - val_mse: 0.0192\n",
            "Epoch 95/100\n",
            "2/2 [==============================] - 0s 51ms/step - loss: 0.0059 - mse: 0.0059 - val_loss: 0.0191 - val_mse: 0.0191\n",
            "Epoch 96/100\n",
            "2/2 [==============================] - 0s 47ms/step - loss: 0.0059 - mse: 0.0059 - val_loss: 0.0185 - val_mse: 0.0185\n",
            "Epoch 97/100\n",
            "2/2 [==============================] - 0s 47ms/step - loss: 0.0058 - mse: 0.0058 - val_loss: 0.0175 - val_mse: 0.0175\n",
            "Epoch 98/100\n",
            "2/2 [==============================] - 0s 53ms/step - loss: 0.0063 - mse: 0.0063 - val_loss: 0.0173 - val_mse: 0.0173\n",
            "Epoch 99/100\n",
            "2/2 [==============================] - 0s 64ms/step - loss: 0.0069 - mse: 0.0069 - val_loss: 0.0184 - val_mse: 0.0184\n",
            "Epoch 100/100\n",
            "2/2 [==============================] - 0s 49ms/step - loss: 0.0060 - mse: 0.0060 - val_loss: 0.0225 - val_mse: 0.0225\n",
            "1/1 [==============================] - 0s 30ms/step - loss: 0.0131 - mse: 0.0131\n"
          ]
        },
        {
          "output_type": "execute_result",
          "data": {
            "text/plain": [
              "[0.013051954098045826, 0.013051954098045826]"
            ]
          },
          "metadata": {},
          "execution_count": 228
        }
      ]
    },
    {
      "cell_type": "code",
      "source": [
        "print(history.history.keys())\n",
        "# \"Loss\"\n",
        "plt.plot(history.history['loss'])\n",
        "plt.plot(history.history['val_loss'])\n",
        "plt.title('model loss')\n",
        "plt.ylabel('loss')\n",
        "plt.xlabel('epoch')\n",
        "plt.legend(['train', 'validation'], loc='upper left')\n",
        "plt.show()"
      ],
      "metadata": {
        "colab": {
          "base_uri": "https://localhost:8080/",
          "height": 421
        },
        "id": "tvMUIg5SHsEF",
        "outputId": "164ea332-c654-4c38-96e3-bce78922a6ea"
      },
      "execution_count": 230,
      "outputs": [
        {
          "output_type": "stream",
          "name": "stdout",
          "text": [
            "dict_keys(['loss', 'mse', 'val_loss', 'val_mse'])\n"
          ]
        },
        {
          "output_type": "display_data",
          "data": {
            "text/plain": [
              "<Figure size 720x360 with 1 Axes>"
            ],
            "image/png": "[encoded data removed]"
          },
          "metadata": {}
        }
      ]
    },
    {
      "cell_type": "code",
      "source": [
        "mse_LSTM = LSTM_model.evaluate(X_test, y_test)"
      ],
      "metadata": {
        "colab": {
          "base_uri": "https://localhost:8080/"
        },
        "id": "ImssP1C-YLO6",
        "outputId": "186283fd-3f41-4c55-80b9-806a86b1f722"
      },
      "execution_count": 231,
      "outputs": [
        {
          "output_type": "stream",
          "name": "stdout",
          "text": [
            "1/1 [==============================] - 0s 32ms/step - loss: 0.0131 - mse: 0.0131\n"
          ]
        }
      ]
    },
    {
      "cell_type": "markdown",
      "source": [
        "####Baseline LSTM MSE = 0.0131"
      ],
      "metadata": {
        "id": "kaLutRuWgU4K"
      }
    },
    {
      "cell_type": "code",
      "source": [
        "LSTM_model.summary()"
      ],
      "metadata": {
        "colab": {
          "base_uri": "https://localhost:8080/"
        },
        "id": "A8XbxYQeiCoj",
        "outputId": "5500cc77-68b9-40a5-ca71-70e782e5377c"
      },
      "execution_count": 232,
      "outputs": [
        {
          "output_type": "stream",
          "name": "stdout",
          "text": [
            "Model: \"sequential_15\"\n",
            "_________________________________________________________________\n",
            " Layer (type)                Output Shape              Param #   \n",
            "=================================================================\n",
            " lstm_19 (LSTM)              (None, 85)                31620     \n",
            "                                                                 \n",
            " dense_24 (Dense)            (None, 64)                5504      \n",
            "                                                                 \n",
            " dense_25 (Dense)            (None, 1)                 65        \n",
            "                                                                 \n",
            "=================================================================\n",
            "Total params: 37,189\n",
            "Trainable params: 37,189\n",
            "Non-trainable params: 0\n",
            "_________________________________________________________________\n"
          ]
        }
      ]
    },
    {
      "cell_type": "markdown",
      "source": [
        "###Predict the Test without Hyperparameter Tuning"
      ],
      "metadata": {
        "id": "bNFFP1sSleo-"
      }
    },
    {
      "cell_type": "code",
      "source": [
        "y_pred = LSTM_model.predict(X_test)\n",
        "y_pred"
      ],
      "metadata": {
        "colab": {
          "base_uri": "https://localhost:8080/"
        },
        "id": "wujQ6JNuiCyl",
        "outputId": "653262f4-defd-477a-a965-a38c8f5cf96d"
      },
      "execution_count": 233,
      "outputs": [
        {
          "output_type": "stream",
          "name": "stdout",
          "text": [
            "1/1 [==============================] - 0s 461ms/step\n"
          ]
        },
        {
          "output_type": "execute_result",
          "data": {
            "text/plain": [
              "array([[ 0.12823585],\n",
              "       [ 0.12328459],\n",
              "       [ 0.1433386 ],\n",
              "       [ 0.12368794],\n",
              "       [ 0.09280807],\n",
              "       [ 0.05983951],\n",
              "       [ 0.04285938],\n",
              "       [ 0.0161758 ],\n",
              "       [-0.02609681],\n",
              "       [-0.04843174],\n",
              "       [-0.04938041],\n",
              "       [-0.04967274],\n",
              "       [-0.06553654],\n",
              "       [-0.07062273],\n",
              "       [-0.07711754],\n",
              "       [-0.09555092],\n",
              "       [-0.09778533],\n",
              "       [-0.02232313],\n",
              "       [ 0.06960752],\n",
              "       [ 0.08388764],\n",
              "       [ 0.04015286],\n",
              "       [ 0.03269188]], dtype=float32)"
            ]
          },
          "metadata": {},
          "execution_count": 233
        }
      ]
    },
    {
      "cell_type": "code",
      "source": [
        "y_pred.reshape(1,-1)"
      ],
      "metadata": {
        "colab": {
          "base_uri": "https://localhost:8080/"
        },
        "id": "GI8XYmymlslh",
        "outputId": "fa7f549b-9b8e-477d-998e-117746bcd4d9"
      },
      "execution_count": 234,
      "outputs": [
        {
          "output_type": "execute_result",
          "data": {
            "text/plain": [
              "array([[ 0.12823585,  0.12328459,  0.1433386 ,  0.12368794,  0.09280807,\n",
              "         0.05983951,  0.04285938,  0.0161758 , -0.02609681, -0.04843174,\n",
              "        -0.04938041, -0.04967274, -0.06553654, -0.07062273, -0.07711754,\n",
              "        -0.09555092, -0.09778533, -0.02232313,  0.06960752,  0.08388764,\n",
              "         0.04015286,  0.03269188]], dtype=float32)"
            ]
          },
          "metadata": {},
          "execution_count": 234
        }
      ]
    },
    {
      "cell_type": "markdown",
      "source": [
        "###Invert Transformed Data"
      ],
      "metadata": {
        "id": "jrtmvrZ_l2__"
      }
    },
    {
      "cell_type": "code",
      "source": [
        "y_train_inv = cpo_pri_transformer.inverse_transform(y_train.reshape(1, -1))\n",
        "y_test_inv = cpo_pri_transformer.inverse_transform(y_test.reshape(1, -1))\n",
        "y_pred_inv = cpo_pri_transformer.inverse_transform(y_pred.reshape(1,-1))\n",
        "print(y_train_inv)\n",
        "print(y_test_inv)\n",
        "print(y_pred_inv)"
      ],
      "metadata": {
        "colab": {
          "base_uri": "https://localhost:8080/"
        },
        "id": "FVSGGT57lxHw",
        "outputId": "6f265b7c-1b59-4c8e-bcee-69120d871992"
      },
      "execution_count": 235,
      "outputs": [
        {
          "output_type": "stream",
          "name": "stdout",
          "text": [
            "[[376. 383. 382. 396. 402. 390. 404. 382. 382. 391. 396. 413. 401. 410.\n",
            "  425. 408. 392. 371. 356. 362. 356. 352. 333. 357. 411. 404. 387. 395.\n",
            "  434. 488. 508. 494. 575. 614. 616. 707. 719. 655. 661. 687. 625. 611.\n",
            "  631. 655. 616. 586. 615. 607. 590. 535. 518. 519. 562. 552. 508. 476.\n",
            "  513. 545. 532. 550. 561. 567. 580. 559. 562. 553. 533. 498. 504. 525.\n",
            "  547. 556. 566. 621. 659. 671. 688. 705. 633. 661. 674. 703. 694. 681.\n",
            "  663. 632. 561. 497. 509. 475. 392. 319. 354. 388. 381. 370.]]\n",
            "[[349. 372. 324. 315. 312. 306. 288. 255. 257. 265. 254. 240. 254. 251.\n",
            "  234. 255. 330. 362. 310. 277. 323. 360.]]\n",
            "[[370.29434 368.31384 376.33545 368.4752  356.12323 342.9358  336.14377\n",
            "  325.47034 308.56128 299.62732 299.24783 299.1309  292.78537 290.75092\n",
            "  288.15298 280.77963 279.88586 310.07074 346.84302 352.55505 335.06116\n",
            "  332.07675]]\n"
          ]
        }
      ]
    },
    {
      "cell_type": "markdown",
      "source": [
        "###Plot History, Actual and Predicted Value"
      ],
      "metadata": {
        "id": "PxYTgRmhmDtL"
      }
    },
    {
      "cell_type": "code",
      "source": [
        "y_train_inv = y_train_inv.flatten()\n",
        "y_train_inv"
      ],
      "metadata": {
        "colab": {
          "base_uri": "https://localhost:8080/"
        },
        "id": "YXY0nwhElxLo",
        "outputId": "48af2a4f-a91a-498c-b5ea-a72d45ac3d46"
      },
      "execution_count": 236,
      "outputs": [
        {
          "output_type": "execute_result",
          "data": {
            "text/plain": [
              "array([376., 383., 382., 396., 402., 390., 404., 382., 382., 391., 396.,\n",
              "       413., 401., 410., 425., 408., 392., 371., 356., 362., 356., 352.,\n",
              "       333., 357., 411., 404., 387., 395., 434., 488., 508., 494., 575.,\n",
              "       614., 616., 707., 719., 655., 661., 687., 625., 611., 631., 655.,\n",
              "       616., 586., 615., 607., 590., 535., 518., 519., 562., 552., 508.,\n",
              "       476., 513., 545., 532., 550., 561., 567., 580., 559., 562., 553.,\n",
              "       533., 498., 504., 525., 547., 556., 566., 621., 659., 671., 688.,\n",
              "       705., 633., 661., 674., 703., 694., 681., 663., 632., 561., 497.,\n",
              "       509., 475., 392., 319., 354., 388., 381., 370.])"
            ]
          },
          "metadata": {},
          "execution_count": 236
        }
      ]
    },
    {
      "cell_type": "code",
      "source": [
        "y_test_inv = y_test_inv.flatten()\n",
        "y_test_inv"
      ],
      "metadata": {
        "colab": {
          "base_uri": "https://localhost:8080/"
        },
        "id": "z_zQn_rpl_MC",
        "outputId": "e6c01153-6889-4088-e51f-5d4c6e80ec25"
      },
      "execution_count": 237,
      "outputs": [
        {
          "output_type": "execute_result",
          "data": {
            "text/plain": [
              "array([349., 372., 324., 315., 312., 306., 288., 255., 257., 265., 254.,\n",
              "       240., 254., 251., 234., 255., 330., 362., 310., 277., 323., 360.])"
            ]
          },
          "metadata": {},
          "execution_count": 237
        }
      ]
    },
    {
      "cell_type": "code",
      "source": [
        "y_pred_inv = y_pred_inv.flatten()\n",
        "y_pred_inv"
      ],
      "metadata": {
        "colab": {
          "base_uri": "https://localhost:8080/"
        },
        "id": "X4GInUagmJUO",
        "outputId": "ff8bcba5-afad-41e4-808a-27dfc8b95e17"
      },
      "execution_count": 238,
      "outputs": [
        {
          "output_type": "execute_result",
          "data": {
            "text/plain": [
              "array([370.29434, 368.31384, 376.33545, 368.4752 , 356.12323, 342.9358 ,\n",
              "       336.14377, 325.47034, 308.56128, 299.62732, 299.24783, 299.1309 ,\n",
              "       292.78537, 290.75092, 288.15298, 280.77963, 279.88586, 310.07074,\n",
              "       346.84302, 352.55505, 335.06116, 332.07675], dtype=float32)"
            ]
          },
          "metadata": {},
          "execution_count": 238
        }
      ]
    },
    {
      "cell_type": "code",
      "source": [
        "plt.figure(figsize=(17,9))\n",
        "#plt.grid()\n",
        "#plt.plot(np.arange(0, len(y_train)), y_train_inv, color='green', label=\"History\")\n",
        "plt.plot(np.arange(len(y_train), len(y_train) + len(y_test)), y_test_inv, color='red', marker='.', label=\"Actual\")\n",
        "plt.plot(np.arange(len(y_train), len(y_train) + len(y_test)), y_pred_inv, color='green', label=\"Tuned LSTM Prediction\")\n",
        "plt.ylabel('Crude Palm Oil Price')\n",
        "plt.xlabel('Time step')\n",
        "plt.legend()\n",
        "ax.grid()"
      ],
      "metadata": {
        "colab": {
          "base_uri": "https://localhost:8080/",
          "height": 607
        },
        "id": "vHGNO1xAmJYI",
        "outputId": "237fa3a4-b1bd-43d5-adb6-1cd3806f614e"
      },
      "execution_count": 239,
      "outputs": [
        {
          "output_type": "display_data",
          "data": {
            "text/plain": [
              "<Figure size 1224x648 with 1 Axes>"
            ],
            "image/png": "[encoded data removed]"
          },
          "metadata": {}
        }
      ]
    },
    {
      "cell_type": "markdown",
      "source": [
        "###Evaluate LSTM Model Accuracy"
      ],
      "metadata": {
        "id": "1NImON2RmyWF"
      }
    },
    {
      "cell_type": "code",
      "source": [
        "MAE_LSTM = mean_absolute_error(y_test_inv, y_pred_inv)\n",
        "print('MAE value of the LSTM Model is:', MAE_LSTM)\n",
        "\n",
        "MDA_LSTM = mda(y_test_inv, y_pred_inv)\n",
        "print('MDA value of the LSTM Model is:', MDA_LSTM)\n",
        "\n",
        "MAPE_LSTM = mean_absolute_percentage_error(y_test_inv, y_pred_inv)\n",
        "print('MAPE value of the LSTM Model is:', MAPE_LSTM)\n",
        "\n",
        "RMSE_LSTM = mean_squared_error(y_test_inv,y_pred_inv, squared=False)\n",
        "print('RMSE value of the LSTM Model is:', RMSE_LSTM)\n",
        "\n",
        "MSE_LSTM = mean_squared_error(y_test_inv,y_pred_inv)\n",
        "print('MSE value of the LSTM Model is:', MSE_LSTM)\n",
        "\n",
        "#EVS_LSTM = explained_variance_score(y_test_inv, y_pred_inv)\n",
        "#print('EVS score of the LSTM Model is:', EVS_LSTM)"
      ],
      "metadata": {
        "colab": {
          "base_uri": "https://localhost:8080/"
        },
        "id": "fIc5ITw4m2QJ",
        "outputId": "7d77660b-1e12-41bd-a57b-745f6935f0ae"
      },
      "execution_count": 240,
      "outputs": [
        {
          "output_type": "stream",
          "name": "stdout",
          "text": [
            "MAE value of the LSTM Model is: 42.451198231090196\n",
            "MDA value of the LSTM Model is: 0.47619047619047616\n",
            "MAPE value of the LSTM Model is: 15.041338620383407\n",
            "RMSE value of the LSTM Model is: 45.6980621949803\n",
            "MSE value of the LSTM Model is: 2088.312888376288\n"
          ]
        }
      ]
    },
    {
      "cell_type": "markdown",
      "source": [
        "###Tuning LSTM with Keras Tuner"
      ],
      "metadata": {
        "id": "fs98oM36Yw_r"
      }
    },
    {
      "cell_type": "markdown",
      "source": [
        "Define A Model-Building Class"
      ],
      "metadata": {
        "id": "UHH-Phuz1M-L"
      }
    },
    {
      "cell_type": "code",
      "source": [
        "#class ANNhypermodel(HyperModel):\n",
        "class LSTMHyperModel(HyperModel):\n",
        "    \n",
        "    def __init__(self, input_shape):\n",
        "        self.input_shape= input_shape\n",
        "        \n",
        "    def build(self, hp):\n",
        "        model= keras.Sequential()\n",
        "        \n",
        "        # Tune the number of units in the first Dense layer\n",
        "        # Defining dense units as a close approx to the original neural network to perform a fair comparision!\n",
        "      \n",
        "        hp_units_1= hp.Int('units_1', min_value=128, max_value= 160, step=32)\n",
        "        hp_units_2= hp.Int('units_2', min_value=64, max_value= 128, step=32)\n",
        "        hp_units_3= hp.Int('units_3', min_value=32, max_value= 64, step=16)\n",
        "        hp_units_4= hp.Int('units_4', min_value=16, max_value= 32, step=8)\n",
        "\n",
        "        model.add(keras.layers.Dense(units=hp_units_1, input_shape= self.input_shape))\n",
        "        model.add(keras.layers.Dense(units=hp_units_2))\n",
        "        model.add(keras.layers.Dense(units=hp_units_3))\n",
        "        model.add(keras.layers.Dense(units=hp_units_4, activation='tanh'))\n",
        "        model.add(keras.layers.Dense(1))\n",
        "        #Tune the dropout\n",
        "        model.add(\n",
        "            Dropout(\n",
        "                rate=hp.Float(\n",
        "                    'dropout',\n",
        "                    min_value=0.0,\n",
        "                    max_value=0.5,\n",
        "                    default=0.25,\n",
        "                    step=0.05\n",
        "                )\n",
        "            )\n",
        "        )\n",
        "        \n",
        "        # Tune the epoch for the optimizer\n",
        "\n",
        "        #batch_size = hp.Int('batch_size',8,16,24,32,40,48,56,64,72,80,88,96, step=8)\n",
        "        \n",
        "        optimizers = hp.Choice('optimizer',values=['rmsprop','adam', 'AdamW', 'nadam','sgd','adadelta','adagrad'])\n",
        "\n",
        "        hp_dense_activation = hp.Choice('activation',values=['relu', 'tanh', 'sigmoid', 'linear', 'Softmax', 'ELU', 'linear'])\n",
        "\n",
        "        # Tune the batch size for the optimizer \n",
        "        hp_batch_size = hp.Int('batch_size', min_value = 8, max_value = 96, step = 8, default=8)\n",
        "        \n",
        "        # Tune the epoch for the optimizer\n",
        "        hp_epoch = hp.Int('epoch', min_value = 5, max_value = 100, step = 5, default=5)\n",
        "\n",
        "        # Tune the epoch for the momentum\n",
        "        hp_momentum = hp.Float('momentum', min_value = 0.8, max_value = 0.99, step = 0.01, default=0.9)\n",
        "\n",
        "        # Tune the epoch for the decay\n",
        "        hp_decay = hp.Float('decay', min_value = 1e-9, max_value = 1e-3, step= 0.0001, default=1e-7)\n",
        "\n",
        "        # Tune the learning rate for the optimizer \n",
        "        hp_learning_rate=hp.Float('learning_rate', min_value=1e-4, max_value=1e-2, sampling='LOG', default= 0.0005)\n",
        "       # -------------------------------------------------------\n",
        "        model.compile(loss='mse',\n",
        "                    optimizer= keras.optimizers.Adam(learning_rate=hp_learning_rate),\n",
        "                    metrics= ['mae','mse']\n",
        "                     )\n",
        "\n",
        "        return model\n",
        "\n",
        "#hypermodel= ANNhypermodel(input_shape = (X_test.shape[1], X_test.shape[2]))\n",
        "hypermodel = LSTMHyperModel(input_shape = (X_test.shape[1], X_test.shape[2]))"
      ],
      "metadata": {
        "id": "6sH3KVfoj7jq"
      },
      "execution_count": 241,
      "outputs": []
    },
    {
      "cell_type": "markdown",
      "source": [
        "###Build Random Search Tuner"
      ],
      "metadata": {
        "id": "Vw6sRopRkNq-"
      }
    },
    {
      "cell_type": "code",
      "source": [
        "tuner_rs = RandomSearch(\n",
        "            hypermodel,\n",
        "            objective='mse',\n",
        "            seed=42,\n",
        "            max_trials=10,\n",
        "            executions_per_trial=2, overwrite=True\n",
        "        )"
      ],
      "metadata": {
        "id": "oPWNkr_dj7ng"
      },
      "execution_count": 242,
      "outputs": []
    },
    {
      "cell_type": "markdown",
      "source": [
        "###Run Random Search"
      ],
      "metadata": {
        "id": "UH8vIpuOkl0V"
      }
    },
    {
      "cell_type": "code",
      "source": [
        "tuner_rs.search(X_train, y_train, epochs=16, validation_split=0.2, verbose=0)"
      ],
      "metadata": {
        "id": "XC6nlTF4j7rN"
      },
      "execution_count": 243,
      "outputs": []
    },
    {
      "cell_type": "markdown",
      "source": [
        "###Evaluate Random Search"
      ],
      "metadata": {
        "id": "ZWc0whe7l-_0"
      }
    },
    {
      "cell_type": "code",
      "source": [
        "best_model = tuner_rs.get_best_models(num_models=1)[0]\n",
        "mse_rs = best_model.evaluate(X_test, y_test)[1]"
      ],
      "metadata": {
        "colab": {
          "base_uri": "https://localhost:8080/"
        },
        "id": "V0u8mTuTj7wl",
        "outputId": "f9438295-8465-441d-b60d-00c3af7806ce"
      },
      "execution_count": 117,
      "outputs": [
        {
          "output_type": "stream",
          "name": "stdout",
          "text": [
            "1/1 [==============================] - 0s 445ms/step - loss: 0.2457 - mae: 0.4825 - mse: 0.2457\n"
          ]
        }
      ]
    },
    {
      "cell_type": "markdown",
      "source": [
        "####Random Search MSE = 0.2457"
      ],
      "metadata": {
        "id": "9jgCzQ74mQjM"
      }
    },
    {
      "cell_type": "code",
      "source": [
        "best_params = tuner_rs.get_best_hyperparameters()\n",
        "\n",
        "best_params[0].values"
      ],
      "metadata": {
        "colab": {
          "base_uri": "https://localhost:8080/"
        },
        "id": "jJ5NIqxpj72V",
        "outputId": "b92aeb76-5c9c-4516-a636-0a2d2b4eaf10"
      },
      "execution_count": 118,
      "outputs": [
        {
          "output_type": "execute_result",
          "data": {
            "text/plain": [
              "{'units_1': 128,\n",
              " 'units_2': 96,\n",
              " 'units_3': 32,\n",
              " 'dropout': 0.0,\n",
              " 'optimizer': 'adadelta',\n",
              " 'activation': 'Softmax',\n",
              " 'batch_size': 88,\n",
              " 'epoch': 35,\n",
              " 'momentum': 0.81,\n",
              " 'decay': 0.000200001,\n",
              " 'learning_rate': 0.005241515692754444}"
            ]
          },
          "metadata": {},
          "execution_count": 118
        }
      ]
    },
    {
      "cell_type": "markdown",
      "source": [
        "###Build Bayesian Optimization"
      ],
      "metadata": {
        "id": "AxWQfBYpnLjI"
      }
    },
    {
      "cell_type": "code",
      "source": [
        "tuner_bo = BayesianOptimization(\n",
        "            hypermodel,\n",
        "            objective='val_mse',\n",
        "            max_trials=10,\n",
        "            seed=42,\n",
        "            executions_per_trial=2,\n",
        "            directory='bo'\n",
        "        )"
      ],
      "metadata": {
        "id": "uixpiCLPmsaZ"
      },
      "execution_count": 121,
      "outputs": []
    },
    {
      "cell_type": "markdown",
      "source": [
        "###Run Bayesian Optimization"
      ],
      "metadata": {
        "id": "_lTWVuDcoYU9"
      }
    },
    {
      "cell_type": "code",
      "source": [
        "tuner_bo.search(X_train, y_train, epochs=10, validation_split=0.2, verbose=0)\n",
        "\n",
        "best_model = tuner_bo.get_best_models(num_models=1)[0]\n",
        "mse_bo = best_model.evaluate(X_test, y_test)[1]"
      ],
      "metadata": {
        "id": "L6qZa1Kvmsgn",
        "outputId": "c63563b5-7395-4dd3-84fd-bd9d517d3cfb",
        "colab": {
          "base_uri": "https://localhost:8080/",
          "height": 419
        }
      },
      "execution_count": 122,
      "outputs": [
        {
          "output_type": "error",
          "ename": "ValueError",
          "evalue": "ignored",
          "traceback": [
            "\u001b[0;31m---------------------------------------------------------------------------\u001b[0m",
            "\u001b[0;31mValueError\u001b[0m                                Traceback (most recent call last)",
            "\u001b[0;32m<ipython-input-122-2d8b622ab59d>\u001b[0m in \u001b[0;36m<module>\u001b[0;34m\u001b[0m\n\u001b[1;32m      1\u001b[0m \u001b[0mtuner_bo\u001b[0m\u001b[0;34m.\u001b[0m\u001b[0msearch\u001b[0m\u001b[0;34m(\u001b[0m\u001b[0mX_train\u001b[0m\u001b[0;34m,\u001b[0m \u001b[0my_train\u001b[0m\u001b[0;34m,\u001b[0m \u001b[0mepochs\u001b[0m\u001b[0;34m=\u001b[0m\u001b[0;36m10\u001b[0m\u001b[0;34m,\u001b[0m \u001b[0mvalidation_split\u001b[0m\u001b[0;34m=\u001b[0m\u001b[0;36m0.2\u001b[0m\u001b[0;34m,\u001b[0m \u001b[0mverbose\u001b[0m\u001b[0;34m=\u001b[0m\u001b[0;36m0\u001b[0m\u001b[0;34m)\u001b[0m\u001b[0;34m\u001b[0m\u001b[0;34m\u001b[0m\u001b[0m\n\u001b[1;32m      2\u001b[0m \u001b[0;34m\u001b[0m\u001b[0m\n\u001b[0;32m----> 3\u001b[0;31m \u001b[0mbest_model\u001b[0m \u001b[0;34m=\u001b[0m \u001b[0mtuner_bo\u001b[0m\u001b[0;34m.\u001b[0m\u001b[0mget_best_models\u001b[0m\u001b[0;34m(\u001b[0m\u001b[0mnum_models\u001b[0m\u001b[0;34m=\u001b[0m\u001b[0;36m1\u001b[0m\u001b[0;34m)\u001b[0m\u001b[0;34m[\u001b[0m\u001b[0;36m0\u001b[0m\u001b[0;34m]\u001b[0m\u001b[0;34m\u001b[0m\u001b[0;34m\u001b[0m\u001b[0m\n\u001b[0m\u001b[1;32m      4\u001b[0m \u001b[0mmse_bo\u001b[0m \u001b[0;34m=\u001b[0m \u001b[0mbest_model\u001b[0m\u001b[0;34m.\u001b[0m\u001b[0mevaluate\u001b[0m\u001b[0;34m(\u001b[0m\u001b[0mX_test\u001b[0m\u001b[0;34m,\u001b[0m \u001b[0my_test\u001b[0m\u001b[0;34m)\u001b[0m\u001b[0;34m[\u001b[0m\u001b[0;36m1\u001b[0m\u001b[0;34m]\u001b[0m\u001b[0;34m\u001b[0m\u001b[0;34m\u001b[0m\u001b[0m\n",
            "\u001b[0;32m/usr/local/lib/python3.8/dist-packages/keras_tuner/engine/tuner.py\u001b[0m in \u001b[0;36mget_best_models\u001b[0;34m(self, num_models)\u001b[0m\n\u001b[1;32m    363\u001b[0m         \"\"\"\n\u001b[1;32m    364\u001b[0m         \u001b[0;31m# Method only exists in this class for the docstring override.\u001b[0m\u001b[0;34m\u001b[0m\u001b[0;34m\u001b[0m\u001b[0;34m\u001b[0m\u001b[0m\n\u001b[0;32m--> 365\u001b[0;31m         \u001b[0;32mreturn\u001b[0m \u001b[0msuper\u001b[0m\u001b[0;34m(\u001b[0m\u001b[0;34m)\u001b[0m\u001b[0;34m.\u001b[0m\u001b[0mget_best_models\u001b[0m\u001b[0;34m(\u001b[0m\u001b[0mnum_models\u001b[0m\u001b[0;34m)\u001b[0m\u001b[0;34m\u001b[0m\u001b[0;34m\u001b[0m\u001b[0m\n\u001b[0m\u001b[1;32m    366\u001b[0m \u001b[0;34m\u001b[0m\u001b[0m\n\u001b[1;32m    367\u001b[0m     \u001b[0;32mdef\u001b[0m \u001b[0m_deepcopy_callbacks\u001b[0m\u001b[0;34m(\u001b[0m\u001b[0mself\u001b[0m\u001b[0;34m,\u001b[0m \u001b[0mcallbacks\u001b[0m\u001b[0;34m)\u001b[0m\u001b[0;34m:\u001b[0m\u001b[0;34m\u001b[0m\u001b[0;34m\u001b[0m\u001b[0m\n",
            "\u001b[0;32m/usr/local/lib/python3.8/dist-packages/keras_tuner/engine/base_tuner.py\u001b[0m in \u001b[0;36mget_best_models\u001b[0;34m(self, num_models)\u001b[0m\n\u001b[1;32m    350\u001b[0m         \"\"\"\n\u001b[1;32m    351\u001b[0m         \u001b[0mbest_trials\u001b[0m \u001b[0;34m=\u001b[0m \u001b[0mself\u001b[0m\u001b[0;34m.\u001b[0m\u001b[0moracle\u001b[0m\u001b[0;34m.\u001b[0m\u001b[0mget_best_trials\u001b[0m\u001b[0;34m(\u001b[0m\u001b[0mnum_models\u001b[0m\u001b[0;34m)\u001b[0m\u001b[0;34m\u001b[0m\u001b[0;34m\u001b[0m\u001b[0m\n\u001b[0;32m--> 352\u001b[0;31m         \u001b[0mmodels\u001b[0m \u001b[0;34m=\u001b[0m \u001b[0;34m[\u001b[0m\u001b[0mself\u001b[0m\u001b[0;34m.\u001b[0m\u001b[0mload_model\u001b[0m\u001b[0;34m(\u001b[0m\u001b[0mtrial\u001b[0m\u001b[0;34m)\u001b[0m \u001b[0;32mfor\u001b[0m \u001b[0mtrial\u001b[0m \u001b[0;32min\u001b[0m \u001b[0mbest_trials\u001b[0m\u001b[0;34m]\u001b[0m\u001b[0;34m\u001b[0m\u001b[0;34m\u001b[0m\u001b[0m\n\u001b[0m\u001b[1;32m    353\u001b[0m         \u001b[0;32mreturn\u001b[0m \u001b[0mmodels\u001b[0m\u001b[0;34m\u001b[0m\u001b[0;34m\u001b[0m\u001b[0m\n\u001b[1;32m    354\u001b[0m \u001b[0;34m\u001b[0m\u001b[0m\n",
            "\u001b[0;32m/usr/local/lib/python3.8/dist-packages/keras_tuner/engine/base_tuner.py\u001b[0m in \u001b[0;36m<listcomp>\u001b[0;34m(.0)\u001b[0m\n\u001b[1;32m    350\u001b[0m         \"\"\"\n\u001b[1;32m    351\u001b[0m         \u001b[0mbest_trials\u001b[0m \u001b[0;34m=\u001b[0m \u001b[0mself\u001b[0m\u001b[0;34m.\u001b[0m\u001b[0moracle\u001b[0m\u001b[0;34m.\u001b[0m\u001b[0mget_best_trials\u001b[0m\u001b[0;34m(\u001b[0m\u001b[0mnum_models\u001b[0m\u001b[0;34m)\u001b[0m\u001b[0;34m\u001b[0m\u001b[0;34m\u001b[0m\u001b[0m\n\u001b[0;32m--> 352\u001b[0;31m         \u001b[0mmodels\u001b[0m \u001b[0;34m=\u001b[0m \u001b[0;34m[\u001b[0m\u001b[0mself\u001b[0m\u001b[0;34m.\u001b[0m\u001b[0mload_model\u001b[0m\u001b[0;34m(\u001b[0m\u001b[0mtrial\u001b[0m\u001b[0;34m)\u001b[0m \u001b[0;32mfor\u001b[0m \u001b[0mtrial\u001b[0m \u001b[0;32min\u001b[0m \u001b[0mbest_trials\u001b[0m\u001b[0;34m]\u001b[0m\u001b[0;34m\u001b[0m\u001b[0;34m\u001b[0m\u001b[0m\n\u001b[0m\u001b[1;32m    353\u001b[0m         \u001b[0;32mreturn\u001b[0m \u001b[0mmodels\u001b[0m\u001b[0;34m\u001b[0m\u001b[0;34m\u001b[0m\u001b[0m\n\u001b[1;32m    354\u001b[0m \u001b[0;34m\u001b[0m\u001b[0m\n",
            "\u001b[0;32m/usr/local/lib/python3.8/dist-packages/keras_tuner/engine/tuner.py\u001b[0m in \u001b[0;36mload_model\u001b[0;34m(self, trial)\u001b[0m\n\u001b[1;32m    294\u001b[0m         \u001b[0;31m# Only load weights to avoid loading `custom_objects`.\u001b[0m\u001b[0;34m\u001b[0m\u001b[0;34m\u001b[0m\u001b[0;34m\u001b[0m\u001b[0m\n\u001b[1;32m    295\u001b[0m         \u001b[0;32mwith\u001b[0m \u001b[0mmaybe_distribute\u001b[0m\u001b[0;34m(\u001b[0m\u001b[0mself\u001b[0m\u001b[0;34m.\u001b[0m\u001b[0mdistribution_strategy\u001b[0m\u001b[0;34m)\u001b[0m\u001b[0;34m:\u001b[0m\u001b[0;34m\u001b[0m\u001b[0;34m\u001b[0m\u001b[0m\n\u001b[0;32m--> 296\u001b[0;31m             \u001b[0mmodel\u001b[0m\u001b[0;34m.\u001b[0m\u001b[0mload_weights\u001b[0m\u001b[0;34m(\u001b[0m\u001b[0mself\u001b[0m\u001b[0;34m.\u001b[0m\u001b[0m_get_checkpoint_fname\u001b[0m\u001b[0;34m(\u001b[0m\u001b[0mtrial\u001b[0m\u001b[0;34m.\u001b[0m\u001b[0mtrial_id\u001b[0m\u001b[0;34m)\u001b[0m\u001b[0;34m)\u001b[0m\u001b[0;34m\u001b[0m\u001b[0;34m\u001b[0m\u001b[0m\n\u001b[0m\u001b[1;32m    297\u001b[0m         \u001b[0;32mreturn\u001b[0m \u001b[0mmodel\u001b[0m\u001b[0;34m\u001b[0m\u001b[0;34m\u001b[0m\u001b[0m\n\u001b[1;32m    298\u001b[0m \u001b[0;34m\u001b[0m\u001b[0m\n",
            "\u001b[0;32m/usr/local/lib/python3.8/dist-packages/keras/utils/traceback_utils.py\u001b[0m in \u001b[0;36merror_handler\u001b[0;34m(*args, **kwargs)\u001b[0m\n\u001b[1;32m     68\u001b[0m             \u001b[0;31m# To get the full stack trace, call:\u001b[0m\u001b[0;34m\u001b[0m\u001b[0;34m\u001b[0m\u001b[0;34m\u001b[0m\u001b[0m\n\u001b[1;32m     69\u001b[0m             \u001b[0;31m# `tf.debugging.disable_traceback_filtering()`\u001b[0m\u001b[0;34m\u001b[0m\u001b[0;34m\u001b[0m\u001b[0;34m\u001b[0m\u001b[0m\n\u001b[0;32m---> 70\u001b[0;31m             \u001b[0;32mraise\u001b[0m \u001b[0me\u001b[0m\u001b[0;34m.\u001b[0m\u001b[0mwith_traceback\u001b[0m\u001b[0;34m(\u001b[0m\u001b[0mfiltered_tb\u001b[0m\u001b[0;34m)\u001b[0m \u001b[0;32mfrom\u001b[0m \u001b[0;32mNone\u001b[0m\u001b[0;34m\u001b[0m\u001b[0;34m\u001b[0m\u001b[0m\n\u001b[0m\u001b[1;32m     71\u001b[0m         \u001b[0;32mfinally\u001b[0m\u001b[0;34m:\u001b[0m\u001b[0;34m\u001b[0m\u001b[0;34m\u001b[0m\u001b[0m\n\u001b[1;32m     72\u001b[0m             \u001b[0;32mdel\u001b[0m \u001b[0mfiltered_tb\u001b[0m\u001b[0;34m\u001b[0m\u001b[0;34m\u001b[0m\u001b[0m\n",
            "\u001b[0;32m/usr/local/lib/python3.8/dist-packages/tensorflow/python/training/saving/saveable_object_util.py\u001b[0m in \u001b[0;36mrestore\u001b[0;34m(self, restored_tensors, restored_shapes)\u001b[0m\n\u001b[1;32m    137\u001b[0m             self.handle_op, self._var_shape, restored_tensor)\n\u001b[1;32m    138\u001b[0m       \u001b[0;32mexcept\u001b[0m \u001b[0mValueError\u001b[0m \u001b[0;32mas\u001b[0m \u001b[0me\u001b[0m\u001b[0;34m:\u001b[0m\u001b[0;34m\u001b[0m\u001b[0;34m\u001b[0m\u001b[0m\n\u001b[0;32m--> 139\u001b[0;31m         raise ValueError(\n\u001b[0m\u001b[1;32m    140\u001b[0m             \u001b[0;34mf\"Received incompatible tensor with shape {restored_tensor.shape} \"\u001b[0m\u001b[0;34m\u001b[0m\u001b[0;34m\u001b[0m\u001b[0m\n\u001b[1;32m    141\u001b[0m             \u001b[0;34mf\"when attempting to restore variable with shape {self._var_shape} \"\u001b[0m\u001b[0;34m\u001b[0m\u001b[0;34m\u001b[0m\u001b[0m\n",
            "\u001b[0;31mValueError\u001b[0m: Received incompatible tensor with shape (1,) when attempting to restore variable with shape (32,) and name layer_with_weights-2/bias/.ATTRIBUTES/VARIABLE_VALUE."
          ]
        }
      ]
    },
    {
      "cell_type": "markdown",
      "source": [
        "###Bayesian Optimization Search MSE = 0.1065"
      ],
      "metadata": {
        "id": "KiNYUG96ZUIz"
      }
    },
    {
      "cell_type": "markdown",
      "source": [
        "###Evaluate Bayesian Optimization"
      ],
      "metadata": {
        "id": "Ppb8qezeoe7c"
      }
    },
    {
      "cell_type": "code",
      "source": [
        "best_params = tuner_bo.get_best_hyperparameters()\n",
        "\n",
        "best_params[0].values"
      ],
      "metadata": {
        "colab": {
          "base_uri": "https://localhost:8080/"
        },
        "id": "0bDWDTrOmsm1",
        "outputId": "dedfc23a-cc25-403e-8267-a20e4c3f3d7f"
      },
      "execution_count": 80,
      "outputs": [
        {
          "output_type": "execute_result",
          "data": {
            "text/plain": [
              "{'units_1': 128,\n",
              " 'units_2': 96,\n",
              " 'dropout': 0.2,\n",
              " 'optimizer': 'sgd',\n",
              " 'activation': 'Softmax',\n",
              " 'batch_size': 8,\n",
              " 'epoch': 20,\n",
              " 'momentum': 0.8,\n",
              " 'decay': 0.000700001,\n",
              " 'learning_rate': 0.001083033272419774}"
            ]
          },
          "metadata": {},
          "execution_count": 80
        }
      ]
    },
    {
      "cell_type": "code",
      "source": [
        "best_model = tuner_bo.get_best_models(num_models=1)[0]\n",
        "mse_bo = best_model.evaluate(X_test, y_test)[1]"
      ],
      "metadata": {
        "colab": {
          "base_uri": "https://localhost:8080/",
          "height": 610
        },
        "id": "odraTQ8KbUw9",
        "outputId": "bbab1eba-059f-4b15-cd43-1da141088d97"
      },
      "execution_count": 123,
      "outputs": [
        {
          "output_type": "stream",
          "name": "stderr",
          "text": [
            "WARNING:tensorflow:Detecting that an object or model or tf.train.Checkpoint is being deleted with unrestored values. See the following logs for the specific values in question. To silence these warnings, use `status.expect_partial()`. See https://www.tensorflow.org/api_docs/python/tf/train/Checkpoint#restorefor details about the status object returned by the restore function.\n",
            "WARNING:tensorflow:Value in checkpoint could not be found in the restored object: (root).optimizer._variables.1\n",
            "WARNING:tensorflow:Value in checkpoint could not be found in the restored object: (root).optimizer._variables.2\n",
            "WARNING:tensorflow:Value in checkpoint could not be found in the restored object: (root).optimizer._variables.3\n",
            "WARNING:tensorflow:Value in checkpoint could not be found in the restored object: (root).optimizer._variables.4\n",
            "WARNING:tensorflow:Value in checkpoint could not be found in the restored object: (root).optimizer._variables.5\n",
            "WARNING:tensorflow:Value in checkpoint could not be found in the restored object: (root).optimizer._variables.6\n",
            "WARNING:tensorflow:Value in checkpoint could not be found in the restored object: (root).optimizer._variables.7\n",
            "WARNING:tensorflow:Value in checkpoint could not be found in the restored object: (root).optimizer._variables.8\n",
            "WARNING:tensorflow:Value in checkpoint could not be found in the restored object: (root).optimizer._variables.9\n",
            "WARNING:tensorflow:Value in checkpoint could not be found in the restored object: (root).optimizer._variables.10\n",
            "WARNING:tensorflow:Value in checkpoint could not be found in the restored object: (root).optimizer._variables.11\n",
            "WARNING:tensorflow:Value in checkpoint could not be found in the restored object: (root).optimizer._variables.12\n"
          ]
        },
        {
          "output_type": "error",
          "ename": "ValueError",
          "evalue": "ignored",
          "traceback": [
            "\u001b[0;31m---------------------------------------------------------------------------\u001b[0m",
            "\u001b[0;31mValueError\u001b[0m                                Traceback (most recent call last)",
            "\u001b[0;32m<ipython-input-123-a4568503cafb>\u001b[0m in \u001b[0;36m<module>\u001b[0;34m\u001b[0m\n\u001b[0;32m----> 1\u001b[0;31m \u001b[0mbest_model\u001b[0m \u001b[0;34m=\u001b[0m \u001b[0mtuner_bo\u001b[0m\u001b[0;34m.\u001b[0m\u001b[0mget_best_models\u001b[0m\u001b[0;34m(\u001b[0m\u001b[0mnum_models\u001b[0m\u001b[0;34m=\u001b[0m\u001b[0;36m1\u001b[0m\u001b[0;34m)\u001b[0m\u001b[0;34m[\u001b[0m\u001b[0;36m0\u001b[0m\u001b[0;34m]\u001b[0m\u001b[0;34m\u001b[0m\u001b[0;34m\u001b[0m\u001b[0m\n\u001b[0m\u001b[1;32m      2\u001b[0m \u001b[0mmse_bo\u001b[0m \u001b[0;34m=\u001b[0m \u001b[0mbest_model\u001b[0m\u001b[0;34m.\u001b[0m\u001b[0mevaluate\u001b[0m\u001b[0;34m(\u001b[0m\u001b[0mX_test\u001b[0m\u001b[0;34m,\u001b[0m \u001b[0my_test\u001b[0m\u001b[0;34m)\u001b[0m\u001b[0;34m[\u001b[0m\u001b[0;36m1\u001b[0m\u001b[0;34m]\u001b[0m\u001b[0;34m\u001b[0m\u001b[0;34m\u001b[0m\u001b[0m\n",
            "\u001b[0;32m/usr/local/lib/python3.8/dist-packages/keras_tuner/engine/tuner.py\u001b[0m in \u001b[0;36mget_best_models\u001b[0;34m(self, num_models)\u001b[0m\n\u001b[1;32m    363\u001b[0m         \"\"\"\n\u001b[1;32m    364\u001b[0m         \u001b[0;31m# Method only exists in this class for the docstring override.\u001b[0m\u001b[0;34m\u001b[0m\u001b[0;34m\u001b[0m\u001b[0;34m\u001b[0m\u001b[0m\n\u001b[0;32m--> 365\u001b[0;31m         \u001b[0;32mreturn\u001b[0m \u001b[0msuper\u001b[0m\u001b[0;34m(\u001b[0m\u001b[0;34m)\u001b[0m\u001b[0;34m.\u001b[0m\u001b[0mget_best_models\u001b[0m\u001b[0;34m(\u001b[0m\u001b[0mnum_models\u001b[0m\u001b[0;34m)\u001b[0m\u001b[0;34m\u001b[0m\u001b[0;34m\u001b[0m\u001b[0m\n\u001b[0m\u001b[1;32m    366\u001b[0m \u001b[0;34m\u001b[0m\u001b[0m\n\u001b[1;32m    367\u001b[0m     \u001b[0;32mdef\u001b[0m \u001b[0m_deepcopy_callbacks\u001b[0m\u001b[0;34m(\u001b[0m\u001b[0mself\u001b[0m\u001b[0;34m,\u001b[0m \u001b[0mcallbacks\u001b[0m\u001b[0;34m)\u001b[0m\u001b[0;34m:\u001b[0m\u001b[0;34m\u001b[0m\u001b[0;34m\u001b[0m\u001b[0m\n",
            "\u001b[0;32m/usr/local/lib/python3.8/dist-packages/keras_tuner/engine/base_tuner.py\u001b[0m in \u001b[0;36mget_best_models\u001b[0;34m(self, num_models)\u001b[0m\n\u001b[1;32m    350\u001b[0m         \"\"\"\n\u001b[1;32m    351\u001b[0m         \u001b[0mbest_trials\u001b[0m \u001b[0;34m=\u001b[0m \u001b[0mself\u001b[0m\u001b[0;34m.\u001b[0m\u001b[0moracle\u001b[0m\u001b[0;34m.\u001b[0m\u001b[0mget_best_trials\u001b[0m\u001b[0;34m(\u001b[0m\u001b[0mnum_models\u001b[0m\u001b[0;34m)\u001b[0m\u001b[0;34m\u001b[0m\u001b[0;34m\u001b[0m\u001b[0m\n\u001b[0;32m--> 352\u001b[0;31m         \u001b[0mmodels\u001b[0m \u001b[0;34m=\u001b[0m \u001b[0;34m[\u001b[0m\u001b[0mself\u001b[0m\u001b[0;34m.\u001b[0m\u001b[0mload_model\u001b[0m\u001b[0;34m(\u001b[0m\u001b[0mtrial\u001b[0m\u001b[0;34m)\u001b[0m \u001b[0;32mfor\u001b[0m \u001b[0mtrial\u001b[0m \u001b[0;32min\u001b[0m \u001b[0mbest_trials\u001b[0m\u001b[0;34m]\u001b[0m\u001b[0;34m\u001b[0m\u001b[0;34m\u001b[0m\u001b[0m\n\u001b[0m\u001b[1;32m    353\u001b[0m         \u001b[0;32mreturn\u001b[0m \u001b[0mmodels\u001b[0m\u001b[0;34m\u001b[0m\u001b[0;34m\u001b[0m\u001b[0m\n\u001b[1;32m    354\u001b[0m \u001b[0;34m\u001b[0m\u001b[0m\n",
            "\u001b[0;32m/usr/local/lib/python3.8/dist-packages/keras_tuner/engine/base_tuner.py\u001b[0m in \u001b[0;36m<listcomp>\u001b[0;34m(.0)\u001b[0m\n\u001b[1;32m    350\u001b[0m         \"\"\"\n\u001b[1;32m    351\u001b[0m         \u001b[0mbest_trials\u001b[0m \u001b[0;34m=\u001b[0m \u001b[0mself\u001b[0m\u001b[0;34m.\u001b[0m\u001b[0moracle\u001b[0m\u001b[0;34m.\u001b[0m\u001b[0mget_best_trials\u001b[0m\u001b[0;34m(\u001b[0m\u001b[0mnum_models\u001b[0m\u001b[0;34m)\u001b[0m\u001b[0;34m\u001b[0m\u001b[0;34m\u001b[0m\u001b[0m\n\u001b[0;32m--> 352\u001b[0;31m         \u001b[0mmodels\u001b[0m \u001b[0;34m=\u001b[0m \u001b[0;34m[\u001b[0m\u001b[0mself\u001b[0m\u001b[0;34m.\u001b[0m\u001b[0mload_model\u001b[0m\u001b[0;34m(\u001b[0m\u001b[0mtrial\u001b[0m\u001b[0;34m)\u001b[0m \u001b[0;32mfor\u001b[0m \u001b[0mtrial\u001b[0m \u001b[0;32min\u001b[0m \u001b[0mbest_trials\u001b[0m\u001b[0;34m]\u001b[0m\u001b[0;34m\u001b[0m\u001b[0;34m\u001b[0m\u001b[0m\n\u001b[0m\u001b[1;32m    353\u001b[0m         \u001b[0;32mreturn\u001b[0m \u001b[0mmodels\u001b[0m\u001b[0;34m\u001b[0m\u001b[0;34m\u001b[0m\u001b[0m\n\u001b[1;32m    354\u001b[0m \u001b[0;34m\u001b[0m\u001b[0m\n",
            "\u001b[0;32m/usr/local/lib/python3.8/dist-packages/keras_tuner/engine/tuner.py\u001b[0m in \u001b[0;36mload_model\u001b[0;34m(self, trial)\u001b[0m\n\u001b[1;32m    294\u001b[0m         \u001b[0;31m# Only load weights to avoid loading `custom_objects`.\u001b[0m\u001b[0;34m\u001b[0m\u001b[0;34m\u001b[0m\u001b[0;34m\u001b[0m\u001b[0m\n\u001b[1;32m    295\u001b[0m         \u001b[0;32mwith\u001b[0m \u001b[0mmaybe_distribute\u001b[0m\u001b[0;34m(\u001b[0m\u001b[0mself\u001b[0m\u001b[0;34m.\u001b[0m\u001b[0mdistribution_strategy\u001b[0m\u001b[0;34m)\u001b[0m\u001b[0;34m:\u001b[0m\u001b[0;34m\u001b[0m\u001b[0;34m\u001b[0m\u001b[0m\n\u001b[0;32m--> 296\u001b[0;31m             \u001b[0mmodel\u001b[0m\u001b[0;34m.\u001b[0m\u001b[0mload_weights\u001b[0m\u001b[0;34m(\u001b[0m\u001b[0mself\u001b[0m\u001b[0;34m.\u001b[0m\u001b[0m_get_checkpoint_fname\u001b[0m\u001b[0;34m(\u001b[0m\u001b[0mtrial\u001b[0m\u001b[0;34m.\u001b[0m\u001b[0mtrial_id\u001b[0m\u001b[0;34m)\u001b[0m\u001b[0;34m)\u001b[0m\u001b[0;34m\u001b[0m\u001b[0;34m\u001b[0m\u001b[0m\n\u001b[0m\u001b[1;32m    297\u001b[0m         \u001b[0;32mreturn\u001b[0m \u001b[0mmodel\u001b[0m\u001b[0;34m\u001b[0m\u001b[0;34m\u001b[0m\u001b[0m\n\u001b[1;32m    298\u001b[0m \u001b[0;34m\u001b[0m\u001b[0m\n",
            "\u001b[0;32m/usr/local/lib/python3.8/dist-packages/keras/utils/traceback_utils.py\u001b[0m in \u001b[0;36merror_handler\u001b[0;34m(*args, **kwargs)\u001b[0m\n\u001b[1;32m     68\u001b[0m             \u001b[0;31m# To get the full stack trace, call:\u001b[0m\u001b[0;34m\u001b[0m\u001b[0;34m\u001b[0m\u001b[0;34m\u001b[0m\u001b[0m\n\u001b[1;32m     69\u001b[0m             \u001b[0;31m# `tf.debugging.disable_traceback_filtering()`\u001b[0m\u001b[0;34m\u001b[0m\u001b[0;34m\u001b[0m\u001b[0;34m\u001b[0m\u001b[0m\n\u001b[0;32m---> 70\u001b[0;31m             \u001b[0;32mraise\u001b[0m \u001b[0me\u001b[0m\u001b[0;34m.\u001b[0m\u001b[0mwith_traceback\u001b[0m\u001b[0;34m(\u001b[0m\u001b[0mfiltered_tb\u001b[0m\u001b[0;34m)\u001b[0m \u001b[0;32mfrom\u001b[0m \u001b[0;32mNone\u001b[0m\u001b[0;34m\u001b[0m\u001b[0;34m\u001b[0m\u001b[0m\n\u001b[0m\u001b[1;32m     71\u001b[0m         \u001b[0;32mfinally\u001b[0m\u001b[0;34m:\u001b[0m\u001b[0;34m\u001b[0m\u001b[0;34m\u001b[0m\u001b[0m\n\u001b[1;32m     72\u001b[0m             \u001b[0;32mdel\u001b[0m \u001b[0mfiltered_tb\u001b[0m\u001b[0;34m\u001b[0m\u001b[0;34m\u001b[0m\u001b[0m\n",
            "\u001b[0;32m/usr/local/lib/python3.8/dist-packages/tensorflow/python/training/saving/saveable_object_util.py\u001b[0m in \u001b[0;36mrestore\u001b[0;34m(self, restored_tensors, restored_shapes)\u001b[0m\n\u001b[1;32m    137\u001b[0m             self.handle_op, self._var_shape, restored_tensor)\n\u001b[1;32m    138\u001b[0m       \u001b[0;32mexcept\u001b[0m \u001b[0mValueError\u001b[0m \u001b[0;32mas\u001b[0m \u001b[0me\u001b[0m\u001b[0;34m:\u001b[0m\u001b[0;34m\u001b[0m\u001b[0;34m\u001b[0m\u001b[0m\n\u001b[0;32m--> 139\u001b[0;31m         raise ValueError(\n\u001b[0m\u001b[1;32m    140\u001b[0m             \u001b[0;34mf\"Received incompatible tensor with shape {restored_tensor.shape} \"\u001b[0m\u001b[0;34m\u001b[0m\u001b[0;34m\u001b[0m\u001b[0m\n\u001b[1;32m    141\u001b[0m             \u001b[0;34mf\"when attempting to restore variable with shape {self._var_shape} \"\u001b[0m\u001b[0;34m\u001b[0m\u001b[0;34m\u001b[0m\u001b[0m\n",
            "\u001b[0;31mValueError\u001b[0m: Received incompatible tensor with shape (1,) when attempting to restore variable with shape (32,) and name layer_with_weights-2/bias/.ATTRIBUTES/VARIABLE_VALUE."
          ]
        }
      ]
    },
    {
      "cell_type": "markdown",
      "source": [
        "###Build HYPERBAND optimization"
      ],
      "metadata": {
        "id": "9rYL672xrXtU"
      }
    },
    {
      "cell_type": "code",
      "source": [
        "MAX_TRIALS = 20\n",
        "tuner= RandomSearch(hypermodel,\n",
        "               objective= 'val_mse',\n",
        "               max_trials= MAX_TRIALS,\n",
        "               executions_per_trial= 2,\n",
        "               directory= 'random_search',\n",
        "               project_name='randomsearch',\n",
        "               overwrite=True)"
      ],
      "metadata": {
        "id": "CqxbIHGxmstL"
      },
      "execution_count": 124,
      "outputs": []
    },
    {
      "cell_type": "code",
      "source": [
        "HYPERBAND_MAX_EPOCHS = 150\n",
        "EXECUTION_PER_TRIAL = 2\n",
        "\n",
        "tuner= Hyperband(hypermodel,\n",
        "                   objective= 'val_mse',\n",
        "                   max_epochs=HYPERBAND_MAX_EPOCHS, #Set 100+ for good results\n",
        "                   executions_per_trial=EXECUTION_PER_TRIAL,\n",
        "                   directory= 'hyperband',\n",
        "                   project_name='hyper',\n",
        "                   overwrite=True)\n",
        "\n",
        "# tuner.search_space_summary()"
      ],
      "metadata": {
        "id": "eaGs4DAFosPl"
      },
      "execution_count": 125,
      "outputs": []
    },
    {
      "cell_type": "code",
      "source": [
        "print('searching for the best params!')\n",
        "\n",
        "t0 = time()\n",
        "tuner.search(x= X_train,\n",
        "             y= y_train,\n",
        "             epochs=100,\n",
        "             batch_size= 64,\n",
        "             validation_data= (X_test, y_test),\n",
        "             verbose=0,\n",
        "             callbacks= []\n",
        "            )\n",
        "print(time()- t0,\" secs\")\n",
        "\n",
        "# Retreive the optimal hyperparameters\n",
        "best_hps= tuner.get_best_hyperparameters(num_trials=1)[0]\n",
        "\n",
        "# Retrieve the best model\n",
        "best_model = tuner.get_best_models(num_models=1)[0]"
      ],
      "metadata": {
        "colab": {
          "base_uri": "https://localhost:8080/"
        },
        "id": "NXf_LR3mosWn",
        "outputId": "48585602-3276-4867-a2f5-335088ccf4e3"
      },
      "execution_count": 126,
      "outputs": [
        {
          "output_type": "stream",
          "name": "stdout",
          "text": [
            "searching for the best params!\n"
          ]
        },
        {
          "output_type": "stream",
          "name": "stderr",
          "text": [
            "WARNING:tensorflow:Detecting that an object or model or tf.train.Checkpoint is being deleted with unrestored values. See the following logs for the specific values in question. To silence these warnings, use `status.expect_partial()`. See https://www.tensorflow.org/api_docs/python/tf/train/Checkpoint#restorefor details about the status object returned by the restore function.\n",
            "WARNING:tensorflow:Value in checkpoint could not be found in the restored object: (root).optimizer._variables.1\n",
            "WARNING:tensorflow:Value in checkpoint could not be found in the restored object: (root).optimizer._variables.2\n",
            "WARNING:tensorflow:Value in checkpoint could not be found in the restored object: (root).optimizer._variables.3\n",
            "WARNING:tensorflow:Value in checkpoint could not be found in the restored object: (root).optimizer._variables.4\n",
            "WARNING:tensorflow:Value in checkpoint could not be found in the restored object: (root).optimizer._variables.5\n",
            "WARNING:tensorflow:Value in checkpoint could not be found in the restored object: (root).optimizer._variables.6\n",
            "WARNING:tensorflow:Value in checkpoint could not be found in the restored object: (root).optimizer._variables.7\n",
            "WARNING:tensorflow:Value in checkpoint could not be found in the restored object: (root).optimizer._variables.8\n",
            "WARNING:tensorflow:Value in checkpoint could not be found in the restored object: (root).optimizer._variables.9\n",
            "WARNING:tensorflow:Value in checkpoint could not be found in the restored object: (root).optimizer._variables.10\n",
            "WARNING:tensorflow:Value in checkpoint could not be found in the restored object: (root).optimizer._variables.11\n",
            "WARNING:tensorflow:Value in checkpoint could not be found in the restored object: (root).optimizer._variables.12\n"
          ]
        },
        {
          "output_type": "stream",
          "name": "stdout",
          "text": [
            "1747.5449204444885  secs\n"
          ]
        }
      ]
    },
    {
      "cell_type": "code",
      "source": [
        "print(f\"\"\"\n",
        "The hyperparameter search is complete. The optimal number of units in the \n",
        "first densely-connected layer is {best_hps.get('units_1')},\n",
        "second layer is {best_hps.get('units_2')} \n",
        "third layer is {best_hps.get('units_3')} \n",
        "fourth layer is {best_hps.get('units_4')}\n",
        "drop out is {best_hps.get('dropout')}\n",
        "batch_size is {best_hps.get('batch_size')}\n",
        "epoch is {best_hps.get('epoch')}\n",
        "optimizer is {best_hps.get('optimizer')}\n",
        "activation is {best_hps.get('activation')}\n",
        "\n",
        "momentum is {best_hps.get('momentum')}\n",
        "decay is {best_hps.get('decay')}\n",
        "\n",
        "#learning rate is {best_hps.get('learning_rate')}                                        \n",
        "\n",
        "and the optimal learning rate for the optimizer\n",
        "is {best_hps.get('learning_rate')}.\n",
        "\"\"\")\n",
        "\n",
        "# Evaluate the best model.\n",
        "print(best_model.metrics_names)\n",
        "loss, mae, mse = best_model.evaluate(X_test, y_test)\n",
        "print(f'loss:{loss} mae: {mae} mse: {mse}')"
      ],
      "metadata": {
        "colab": {
          "base_uri": "https://localhost:8080/"
        },
        "id": "UcOC-csfrvmH",
        "outputId": "8a876f8f-5a2d-4aa8-b6dd-898368e883b0"
      },
      "execution_count": 127,
      "outputs": [
        {
          "output_type": "stream",
          "name": "stdout",
          "text": [
            "\n",
            "The hyperparameter search is complete. The optimal number of units in the \n",
            "first densely-connected layer is 128,\n",
            "second layer is 96 \n",
            "third layer is 48 \n",
            "\n",
            "drop out is 0.45\n",
            "batch_size is 88\n",
            "epoch is 95\n",
            "optimizer is adagrad\n",
            "activation is sigmoid\n",
            "\n",
            "momentum is 0.8200000000000001\n",
            "decay is 0.00010000100000000001\n",
            "\n",
            "#learning rate is 0.0060388334626653275                                        \n",
            "\n",
            "and the optimal learning rate for the optimizer\n",
            "is 0.0060388334626653275.\n",
            "\n",
            "[]\n",
            "1/1 [==============================] - 1s 504ms/step - loss: 0.0117 - mae: 0.0953 - mse: 0.0117\n",
            "loss:0.011739805340766907 mae: 0.09529677033424377 mse: 0.011739805340766907\n"
          ]
        }
      ]
    },
    {
      "cell_type": "code",
      "source": [
        "# Get the optimal hyperparameters\n",
        "best_hps = tuner.get_best_hyperparameters(num_trials = 1)[0]\n",
        "print(best_hps.values)"
      ],
      "metadata": {
        "id": "q0e8tSIulgh_",
        "colab": {
          "base_uri": "https://localhost:8080/"
        },
        "outputId": "e810780c-1905-49d1-b9f9-e21e26ba1824"
      },
      "execution_count": 148,
      "outputs": [
        {
          "output_type": "stream",
          "name": "stdout",
          "text": [
            "{'units_1': 128, 'units_2': 96, 'units_3': 48, 'dropout': 0.45, 'optimizer': 'adagrad', 'activation': 'sigmoid', 'batch_size': 88, 'epoch': 95, 'momentum': 0.8200000000000001, 'decay': 0.00010000100000000001, 'learning_rate': 0.0060388334626653275, 'tuner/epochs': 17, 'tuner/initial_epoch': 6, 'tuner/bracket': 3, 'tuner/round': 1, 'tuner/trial_id': '0148'}\n"
          ]
        }
      ]
    },
    {
      "cell_type": "markdown",
      "source": [
        "###Apply the trained parameters to the LSTM"
      ],
      "metadata": {
        "id": "oggNSpcVpofH"
      }
    },
    {
      "cell_type": "code",
      "source": [
        "TULSTM_model = tf.keras.Sequential()\n",
        "TULSTM_model.add(tf.keras.layers.LSTM(units=128, input_shape=(X_train.shape[1], X_train.shape[2])))\n",
        "TULSTM_model.add(tf.keras.layers.Dropout(rate=0.2))\n",
        "TULSTM_model.add(tf.keras.layers.Dense(units=1))\n",
        "TULSTM_model.compile(loss='mse', optimizer='adam')"
      ],
      "metadata": {
        "id": "ldV5FHo6nqUr"
      },
      "execution_count": 180,
      "outputs": []
    },
    {
      "cell_type": "code",
      "source": [
        "TULSTM_model = tf.keras.Sequential()\n",
        "TULSTM_model.add(tf.keras.layers.LSTM(units=128, activation='sigmoid', input_shape=(X_test.shape[1], X_test.shape[2])))\n",
        "#TULSTM_model.add(layers.Dropout(0.45))\n",
        "#TULSTM_model.add(tf.keras.layers.Dense(96, activation='sigmoid'))\n",
        "#TULSTM_model.add(layers.Dropout(0.45))\n",
        "#TULSTM_model.add(layers.Dropout(0.45))\n",
        "\n",
        "#TULSTM_model.add(tf.keras.layers.Dense(48, activation='sigmoid'))\n",
        "#TULSTM_model.add(layers.Dropout(0.45))\n",
        "#TULSTM_model.add(tf.keras.layers.Dense(16))\n",
        "#ULSTM_model.add(layers.Dropout(0.45))\n",
        "\n",
        "#Output layer of model\n",
        "TULSTM_model.add(tf.keras.layers.Dense(1))"
      ],
      "metadata": {
        "id": "exKbi-BBYxAt"
      },
      "execution_count": 191,
      "outputs": []
    },
    {
      "cell_type": "code",
      "source": [
        "TULSTM_model.compile(loss = 'mse', optimizer= tf.keras.optimizers.legacy.Adagrad(learning_rate=0.006038, decay = 0.00010), metrics= ['mae', 'mse'])\n",
        "#TULSTM_model.compile(optimizer='rmsprop',loss='mse',metrics=['mse']),\n",
        "history = TULSTM_model.fit(X_train, y_train, epochs=95, batch_size=88,validation_split=0.2,shuffle=False) # 80/160"
      ],
      "metadata": {
        "colab": {
          "base_uri": "https://localhost:8080/"
        },
        "id": "2OVvMjqyY2kW",
        "outputId": "c34dc96a-26ae-445e-94b3-33c33745cc3d"
      },
      "execution_count": 192,
      "outputs": [
        {
          "output_type": "stream",
          "name": "stdout",
          "text": [
            "Epoch 1/95\n",
            "1/1 [==============================] - 2s 2s/step - loss: 0.1374 - mae: 0.2927 - mse: 0.1374 - val_loss: 0.1685 - val_mae: 0.3605 - val_mse: 0.1685\n",
            "Epoch 2/95\n",
            "1/1 [==============================] - 0s 90ms/step - loss: 0.0821 - mae: 0.2444 - mse: 0.0821 - val_loss: 0.1395 - val_mae: 0.3336 - val_mse: 0.1395\n",
            "Epoch 3/95\n",
            "1/1 [==============================] - 0s 79ms/step - loss: 0.0673 - mae: 0.2284 - mse: 0.0673 - val_loss: 0.1277 - val_mae: 0.3219 - val_mse: 0.1277\n",
            "Epoch 4/95\n",
            "1/1 [==============================] - 0s 95ms/step - loss: 0.0630 - mae: 0.2207 - mse: 0.0630 - val_loss: 0.1224 - val_mae: 0.3160 - val_mse: 0.1224\n",
            "Epoch 5/95\n",
            "1/1 [==============================] - 0s 96ms/step - loss: 0.0617 - mae: 0.2171 - mse: 0.0617 - val_loss: 0.1197 - val_mae: 0.3133 - val_mse: 0.1197\n",
            "Epoch 6/95\n",
            "1/1 [==============================] - 0s 92ms/step - loss: 0.0613 - mae: 0.2157 - mse: 0.0613 - val_loss: 0.1184 - val_mae: 0.3120 - val_mse: 0.1184\n",
            "Epoch 7/95\n",
            "1/1 [==============================] - 0s 103ms/step - loss: 0.0611 - mae: 0.2150 - mse: 0.0611 - val_loss: 0.1176 - val_mae: 0.3113 - val_mse: 0.1176\n",
            "Epoch 8/95\n",
            "1/1 [==============================] - 0s 88ms/step - loss: 0.0610 - mae: 0.2146 - mse: 0.0610 - val_loss: 0.1172 - val_mae: 0.3109 - val_mse: 0.1172\n",
            "Epoch 9/95\n",
            "1/1 [==============================] - 0s 75ms/step - loss: 0.0609 - mae: 0.2142 - mse: 0.0609 - val_loss: 0.1170 - val_mae: 0.3107 - val_mse: 0.1170\n",
            "Epoch 10/95\n",
            "1/1 [==============================] - 0s 69ms/step - loss: 0.0609 - mae: 0.2140 - mse: 0.0609 - val_loss: 0.1168 - val_mae: 0.3105 - val_mse: 0.1168\n",
            "Epoch 11/95\n",
            "1/1 [==============================] - 0s 51ms/step - loss: 0.0608 - mae: 0.2139 - mse: 0.0608 - val_loss: 0.1167 - val_mae: 0.3103 - val_mse: 0.1167\n",
            "Epoch 12/95\n",
            "1/1 [==============================] - 0s 53ms/step - loss: 0.0607 - mae: 0.2137 - mse: 0.0607 - val_loss: 0.1166 - val_mae: 0.3102 - val_mse: 0.1166\n",
            "Epoch 13/95\n",
            "1/1 [==============================] - 0s 61ms/step - loss: 0.0607 - mae: 0.2136 - mse: 0.0607 - val_loss: 0.1165 - val_mae: 0.3101 - val_mse: 0.1165\n",
            "Epoch 14/95\n",
            "1/1 [==============================] - 0s 51ms/step - loss: 0.0606 - mae: 0.2135 - mse: 0.0606 - val_loss: 0.1164 - val_mae: 0.3100 - val_mse: 0.1164\n",
            "Epoch 15/95\n",
            "1/1 [==============================] - 0s 57ms/step - loss: 0.0605 - mae: 0.2133 - mse: 0.0605 - val_loss: 0.1164 - val_mae: 0.3099 - val_mse: 0.1164\n",
            "Epoch 16/95\n",
            "1/1 [==============================] - 0s 66ms/step - loss: 0.0605 - mae: 0.2132 - mse: 0.0605 - val_loss: 0.1163 - val_mae: 0.3098 - val_mse: 0.1163\n",
            "Epoch 17/95\n",
            "1/1 [==============================] - 0s 54ms/step - loss: 0.0604 - mae: 0.2131 - mse: 0.0604 - val_loss: 0.1162 - val_mae: 0.3098 - val_mse: 0.1162\n",
            "Epoch 18/95\n",
            "1/1 [==============================] - 0s 51ms/step - loss: 0.0603 - mae: 0.2129 - mse: 0.0603 - val_loss: 0.1162 - val_mae: 0.3097 - val_mse: 0.1162\n",
            "Epoch 19/95\n",
            "1/1 [==============================] - 0s 53ms/step - loss: 0.0603 - mae: 0.2128 - mse: 0.0603 - val_loss: 0.1161 - val_mae: 0.3096 - val_mse: 0.1161\n",
            "Epoch 20/95\n",
            "1/1 [==============================] - 0s 62ms/step - loss: 0.0602 - mae: 0.2127 - mse: 0.0602 - val_loss: 0.1161 - val_mae: 0.3095 - val_mse: 0.1161\n",
            "Epoch 21/95\n",
            "1/1 [==============================] - 0s 66ms/step - loss: 0.0601 - mae: 0.2126 - mse: 0.0601 - val_loss: 0.1160 - val_mae: 0.3094 - val_mse: 0.1160\n",
            "Epoch 22/95\n",
            "1/1 [==============================] - 0s 51ms/step - loss: 0.0601 - mae: 0.2124 - mse: 0.0601 - val_loss: 0.1159 - val_mae: 0.3093 - val_mse: 0.1159\n",
            "Epoch 23/95\n",
            "1/1 [==============================] - 0s 70ms/step - loss: 0.0600 - mae: 0.2123 - mse: 0.0600 - val_loss: 0.1159 - val_mae: 0.3092 - val_mse: 0.1159\n",
            "Epoch 24/95\n",
            "1/1 [==============================] - 0s 68ms/step - loss: 0.0599 - mae: 0.2122 - mse: 0.0599 - val_loss: 0.1158 - val_mae: 0.3091 - val_mse: 0.1158\n",
            "Epoch 25/95\n",
            "1/1 [==============================] - 0s 71ms/step - loss: 0.0599 - mae: 0.2120 - mse: 0.0599 - val_loss: 0.1157 - val_mae: 0.3091 - val_mse: 0.1157\n",
            "Epoch 26/95\n",
            "1/1 [==============================] - 0s 66ms/step - loss: 0.0598 - mae: 0.2119 - mse: 0.0598 - val_loss: 0.1157 - val_mae: 0.3090 - val_mse: 0.1157\n",
            "Epoch 27/95\n",
            "1/1 [==============================] - 0s 53ms/step - loss: 0.0597 - mae: 0.2118 - mse: 0.0597 - val_loss: 0.1156 - val_mae: 0.3089 - val_mse: 0.1156\n",
            "Epoch 28/95\n",
            "1/1 [==============================] - 0s 54ms/step - loss: 0.0597 - mae: 0.2117 - mse: 0.0597 - val_loss: 0.1156 - val_mae: 0.3088 - val_mse: 0.1156\n",
            "Epoch 29/95\n",
            "1/1 [==============================] - 0s 69ms/step - loss: 0.0596 - mae: 0.2115 - mse: 0.0596 - val_loss: 0.1155 - val_mae: 0.3087 - val_mse: 0.1155\n",
            "Epoch 30/95\n",
            "1/1 [==============================] - 0s 66ms/step - loss: 0.0596 - mae: 0.2114 - mse: 0.0596 - val_loss: 0.1154 - val_mae: 0.3086 - val_mse: 0.1154\n",
            "Epoch 31/95\n",
            "1/1 [==============================] - 0s 67ms/step - loss: 0.0595 - mae: 0.2113 - mse: 0.0595 - val_loss: 0.1154 - val_mae: 0.3086 - val_mse: 0.1154\n",
            "Epoch 32/95\n",
            "1/1 [==============================] - 0s 56ms/step - loss: 0.0594 - mae: 0.2112 - mse: 0.0594 - val_loss: 0.1153 - val_mae: 0.3085 - val_mse: 0.1153\n",
            "Epoch 33/95\n",
            "1/1 [==============================] - 0s 55ms/step - loss: 0.0594 - mae: 0.2110 - mse: 0.0594 - val_loss: 0.1152 - val_mae: 0.3084 - val_mse: 0.1152\n",
            "Epoch 34/95\n",
            "1/1 [==============================] - 0s 56ms/step - loss: 0.0593 - mae: 0.2109 - mse: 0.0593 - val_loss: 0.1152 - val_mae: 0.3083 - val_mse: 0.1152\n",
            "Epoch 35/95\n",
            "1/1 [==============================] - 0s 59ms/step - loss: 0.0592 - mae: 0.2108 - mse: 0.0592 - val_loss: 0.1151 - val_mae: 0.3082 - val_mse: 0.1151\n",
            "Epoch 36/95\n",
            "1/1 [==============================] - 0s 75ms/step - loss: 0.0592 - mae: 0.2107 - mse: 0.0592 - val_loss: 0.1151 - val_mae: 0.3081 - val_mse: 0.1151\n",
            "Epoch 37/95\n",
            "1/1 [==============================] - 0s 71ms/step - loss: 0.0591 - mae: 0.2105 - mse: 0.0591 - val_loss: 0.1150 - val_mae: 0.3080 - val_mse: 0.1150\n",
            "Epoch 38/95\n",
            "1/1 [==============================] - 0s 66ms/step - loss: 0.0590 - mae: 0.2104 - mse: 0.0590 - val_loss: 0.1149 - val_mae: 0.3080 - val_mse: 0.1149\n",
            "Epoch 39/95\n",
            "1/1 [==============================] - 0s 53ms/step - loss: 0.0590 - mae: 0.2103 - mse: 0.0590 - val_loss: 0.1149 - val_mae: 0.3079 - val_mse: 0.1149\n",
            "Epoch 40/95\n",
            "1/1 [==============================] - 0s 60ms/step - loss: 0.0589 - mae: 0.2102 - mse: 0.0589 - val_loss: 0.1148 - val_mae: 0.3078 - val_mse: 0.1148\n",
            "Epoch 41/95\n",
            "1/1 [==============================] - 0s 71ms/step - loss: 0.0589 - mae: 0.2100 - mse: 0.0589 - val_loss: 0.1148 - val_mae: 0.3077 - val_mse: 0.1148\n",
            "Epoch 42/95\n",
            "1/1 [==============================] - 0s 62ms/step - loss: 0.0588 - mae: 0.2099 - mse: 0.0588 - val_loss: 0.1147 - val_mae: 0.3076 - val_mse: 0.1147\n",
            "Epoch 43/95\n",
            "1/1 [==============================] - 0s 70ms/step - loss: 0.0587 - mae: 0.2098 - mse: 0.0587 - val_loss: 0.1146 - val_mae: 0.3075 - val_mse: 0.1146\n",
            "Epoch 44/95\n",
            "1/1 [==============================] - 0s 52ms/step - loss: 0.0587 - mae: 0.2097 - mse: 0.0587 - val_loss: 0.1146 - val_mae: 0.3074 - val_mse: 0.1146\n",
            "Epoch 45/95\n",
            "1/1 [==============================] - 0s 54ms/step - loss: 0.0586 - mae: 0.2095 - mse: 0.0586 - val_loss: 0.1145 - val_mae: 0.3074 - val_mse: 0.1145\n",
            "Epoch 46/95\n",
            "1/1 [==============================] - 0s 54ms/step - loss: 0.0585 - mae: 0.2094 - mse: 0.0585 - val_loss: 0.1144 - val_mae: 0.3073 - val_mse: 0.1144\n",
            "Epoch 47/95\n",
            "1/1 [==============================] - 0s 53ms/step - loss: 0.0585 - mae: 0.2093 - mse: 0.0585 - val_loss: 0.1144 - val_mae: 0.3072 - val_mse: 0.1144\n",
            "Epoch 48/95\n",
            "1/1 [==============================] - 0s 66ms/step - loss: 0.0584 - mae: 0.2092 - mse: 0.0584 - val_loss: 0.1143 - val_mae: 0.3071 - val_mse: 0.1143\n",
            "Epoch 49/95\n",
            "1/1 [==============================] - 0s 72ms/step - loss: 0.0583 - mae: 0.2090 - mse: 0.0583 - val_loss: 0.1143 - val_mae: 0.3070 - val_mse: 0.1143\n",
            "Epoch 50/95\n",
            "1/1 [==============================] - 0s 52ms/step - loss: 0.0583 - mae: 0.2089 - mse: 0.0583 - val_loss: 0.1142 - val_mae: 0.3069 - val_mse: 0.1142\n",
            "Epoch 51/95\n",
            "1/1 [==============================] - 0s 82ms/step - loss: 0.0582 - mae: 0.2088 - mse: 0.0582 - val_loss: 0.1141 - val_mae: 0.3069 - val_mse: 0.1141\n",
            "Epoch 52/95\n",
            "1/1 [==============================] - 0s 53ms/step - loss: 0.0582 - mae: 0.2087 - mse: 0.0582 - val_loss: 0.1141 - val_mae: 0.3068 - val_mse: 0.1141\n",
            "Epoch 53/95\n",
            "1/1 [==============================] - 0s 66ms/step - loss: 0.0581 - mae: 0.2085 - mse: 0.0581 - val_loss: 0.1140 - val_mae: 0.3067 - val_mse: 0.1140\n",
            "Epoch 54/95\n",
            "1/1 [==============================] - 0s 49ms/step - loss: 0.0580 - mae: 0.2084 - mse: 0.0580 - val_loss: 0.1140 - val_mae: 0.3066 - val_mse: 0.1140\n",
            "Epoch 55/95\n",
            "1/1 [==============================] - 0s 70ms/step - loss: 0.0580 - mae: 0.2083 - mse: 0.0580 - val_loss: 0.1139 - val_mae: 0.3065 - val_mse: 0.1139\n",
            "Epoch 56/95\n",
            "1/1 [==============================] - 0s 54ms/step - loss: 0.0579 - mae: 0.2082 - mse: 0.0579 - val_loss: 0.1138 - val_mae: 0.3064 - val_mse: 0.1138\n",
            "Epoch 57/95\n",
            "1/1 [==============================] - 0s 52ms/step - loss: 0.0578 - mae: 0.2080 - mse: 0.0578 - val_loss: 0.1138 - val_mae: 0.3064 - val_mse: 0.1138\n",
            "Epoch 58/95\n",
            "1/1 [==============================] - 0s 53ms/step - loss: 0.0578 - mae: 0.2079 - mse: 0.0578 - val_loss: 0.1137 - val_mae: 0.3063 - val_mse: 0.1137\n",
            "Epoch 59/95\n",
            "1/1 [==============================] - 0s 51ms/step - loss: 0.0577 - mae: 0.2078 - mse: 0.0577 - val_loss: 0.1137 - val_mae: 0.3062 - val_mse: 0.1137\n",
            "Epoch 60/95\n",
            "1/1 [==============================] - 0s 70ms/step - loss: 0.0577 - mae: 0.2077 - mse: 0.0577 - val_loss: 0.1136 - val_mae: 0.3061 - val_mse: 0.1136\n",
            "Epoch 61/95\n",
            "1/1 [==============================] - 0s 53ms/step - loss: 0.0576 - mae: 0.2075 - mse: 0.0576 - val_loss: 0.1135 - val_mae: 0.3060 - val_mse: 0.1135\n",
            "Epoch 62/95\n",
            "1/1 [==============================] - 0s 51ms/step - loss: 0.0575 - mae: 0.2074 - mse: 0.0575 - val_loss: 0.1135 - val_mae: 0.3059 - val_mse: 0.1135\n",
            "Epoch 63/95\n",
            "1/1 [==============================] - 0s 54ms/step - loss: 0.0575 - mae: 0.2073 - mse: 0.0575 - val_loss: 0.1134 - val_mae: 0.3058 - val_mse: 0.1134\n",
            "Epoch 64/95\n",
            "1/1 [==============================] - 0s 70ms/step - loss: 0.0574 - mae: 0.2072 - mse: 0.0574 - val_loss: 0.1134 - val_mae: 0.3058 - val_mse: 0.1134\n",
            "Epoch 65/95\n",
            "1/1 [==============================] - 0s 52ms/step - loss: 0.0574 - mae: 0.2070 - mse: 0.0574 - val_loss: 0.1133 - val_mae: 0.3057 - val_mse: 0.1133\n",
            "Epoch 66/95\n",
            "1/1 [==============================] - 0s 67ms/step - loss: 0.0573 - mae: 0.2069 - mse: 0.0573 - val_loss: 0.1132 - val_mae: 0.3056 - val_mse: 0.1132\n",
            "Epoch 67/95\n",
            "1/1 [==============================] - 0s 61ms/step - loss: 0.0572 - mae: 0.2068 - mse: 0.0572 - val_loss: 0.1132 - val_mae: 0.3055 - val_mse: 0.1132\n",
            "Epoch 68/95\n",
            "1/1 [==============================] - 0s 56ms/step - loss: 0.0572 - mae: 0.2067 - mse: 0.0572 - val_loss: 0.1131 - val_mae: 0.3054 - val_mse: 0.1131\n",
            "Epoch 69/95\n",
            "1/1 [==============================] - 0s 70ms/step - loss: 0.0571 - mae: 0.2065 - mse: 0.0571 - val_loss: 0.1131 - val_mae: 0.3053 - val_mse: 0.1131\n",
            "Epoch 70/95\n",
            "1/1 [==============================] - 0s 70ms/step - loss: 0.0571 - mae: 0.2064 - mse: 0.0571 - val_loss: 0.1130 - val_mae: 0.3053 - val_mse: 0.1130\n",
            "Epoch 71/95\n",
            "1/1 [==============================] - 0s 81ms/step - loss: 0.0570 - mae: 0.2063 - mse: 0.0570 - val_loss: 0.1129 - val_mae: 0.3052 - val_mse: 0.1129\n",
            "Epoch 72/95\n",
            "1/1 [==============================] - 0s 89ms/step - loss: 0.0569 - mae: 0.2062 - mse: 0.0569 - val_loss: 0.1129 - val_mae: 0.3051 - val_mse: 0.1129\n",
            "Epoch 73/95\n",
            "1/1 [==============================] - 0s 79ms/step - loss: 0.0569 - mae: 0.2061 - mse: 0.0569 - val_loss: 0.1128 - val_mae: 0.3050 - val_mse: 0.1128\n",
            "Epoch 74/95\n",
            "1/1 [==============================] - 0s 99ms/step - loss: 0.0568 - mae: 0.2059 - mse: 0.0568 - val_loss: 0.1128 - val_mae: 0.3049 - val_mse: 0.1128\n",
            "Epoch 75/95\n",
            "1/1 [==============================] - 0s 88ms/step - loss: 0.0567 - mae: 0.2058 - mse: 0.0567 - val_loss: 0.1127 - val_mae: 0.3048 - val_mse: 0.1127\n",
            "Epoch 76/95\n",
            "1/1 [==============================] - 0s 92ms/step - loss: 0.0567 - mae: 0.2057 - mse: 0.0567 - val_loss: 0.1126 - val_mae: 0.3048 - val_mse: 0.1126\n",
            "Epoch 77/95\n",
            "1/1 [==============================] - 0s 92ms/step - loss: 0.0566 - mae: 0.2056 - mse: 0.0566 - val_loss: 0.1126 - val_mae: 0.3047 - val_mse: 0.1126\n",
            "Epoch 78/95\n",
            "1/1 [==============================] - 0s 82ms/step - loss: 0.0566 - mae: 0.2054 - mse: 0.0566 - val_loss: 0.1125 - val_mae: 0.3046 - val_mse: 0.1125\n",
            "Epoch 79/95\n",
            "1/1 [==============================] - 0s 101ms/step - loss: 0.0565 - mae: 0.2053 - mse: 0.0565 - val_loss: 0.1125 - val_mae: 0.3045 - val_mse: 0.1125\n",
            "Epoch 80/95\n",
            "1/1 [==============================] - 0s 73ms/step - loss: 0.0564 - mae: 0.2052 - mse: 0.0564 - val_loss: 0.1124 - val_mae: 0.3044 - val_mse: 0.1124\n",
            "Epoch 81/95\n",
            "1/1 [==============================] - 0s 95ms/step - loss: 0.0564 - mae: 0.2051 - mse: 0.0564 - val_loss: 0.1123 - val_mae: 0.3043 - val_mse: 0.1123\n",
            "Epoch 82/95\n",
            "1/1 [==============================] - 0s 107ms/step - loss: 0.0563 - mae: 0.2050 - mse: 0.0563 - val_loss: 0.1123 - val_mae: 0.3043 - val_mse: 0.1123\n",
            "Epoch 83/95\n",
            "1/1 [==============================] - 0s 103ms/step - loss: 0.0563 - mae: 0.2048 - mse: 0.0563 - val_loss: 0.1122 - val_mae: 0.3042 - val_mse: 0.1122\n",
            "Epoch 84/95\n",
            "1/1 [==============================] - 0s 90ms/step - loss: 0.0562 - mae: 0.2047 - mse: 0.0562 - val_loss: 0.1122 - val_mae: 0.3041 - val_mse: 0.1122\n",
            "Epoch 85/95\n",
            "1/1 [==============================] - 0s 86ms/step - loss: 0.0561 - mae: 0.2046 - mse: 0.0561 - val_loss: 0.1121 - val_mae: 0.3040 - val_mse: 0.1121\n",
            "Epoch 86/95\n",
            "1/1 [==============================] - 0s 72ms/step - loss: 0.0561 - mae: 0.2045 - mse: 0.0561 - val_loss: 0.1120 - val_mae: 0.3039 - val_mse: 0.1120\n",
            "Epoch 87/95\n",
            "1/1 [==============================] - 0s 105ms/step - loss: 0.0560 - mae: 0.2043 - mse: 0.0560 - val_loss: 0.1120 - val_mae: 0.3038 - val_mse: 0.1120\n",
            "Epoch 88/95\n",
            "1/1 [==============================] - 0s 84ms/step - loss: 0.0560 - mae: 0.2042 - mse: 0.0560 - val_loss: 0.1119 - val_mae: 0.3038 - val_mse: 0.1119\n",
            "Epoch 89/95\n",
            "1/1 [==============================] - 0s 80ms/step - loss: 0.0559 - mae: 0.2041 - mse: 0.0559 - val_loss: 0.1119 - val_mae: 0.3037 - val_mse: 0.1119\n",
            "Epoch 90/95\n",
            "1/1 [==============================] - 0s 79ms/step - loss: 0.0558 - mae: 0.2040 - mse: 0.0558 - val_loss: 0.1118 - val_mae: 0.3036 - val_mse: 0.1118\n",
            "Epoch 91/95\n",
            "1/1 [==============================] - 0s 101ms/step - loss: 0.0558 - mae: 0.2039 - mse: 0.0558 - val_loss: 0.1117 - val_mae: 0.3035 - val_mse: 0.1117\n",
            "Epoch 92/95\n",
            "1/1 [==============================] - 0s 92ms/step - loss: 0.0557 - mae: 0.2037 - mse: 0.0557 - val_loss: 0.1117 - val_mae: 0.3034 - val_mse: 0.1117\n",
            "Epoch 93/95\n",
            "1/1 [==============================] - 0s 77ms/step - loss: 0.0557 - mae: 0.2036 - mse: 0.0557 - val_loss: 0.1116 - val_mae: 0.3034 - val_mse: 0.1116\n",
            "Epoch 94/95\n",
            "1/1 [==============================] - 0s 97ms/step - loss: 0.0556 - mae: 0.2035 - mse: 0.0556 - val_loss: 0.1116 - val_mae: 0.3033 - val_mse: 0.1116\n",
            "Epoch 95/95\n",
            "1/1 [==============================] - 0s 81ms/step - loss: 0.0555 - mae: 0.2034 - mse: 0.0555 - val_loss: 0.1115 - val_mae: 0.3032 - val_mse: 0.1115\n"
          ]
        }
      ]
    },
    {
      "cell_type": "markdown",
      "source": [
        "Plot Model Loss"
      ],
      "metadata": {
        "id": "4KLve2-WilBF"
      }
    },
    {
      "cell_type": "code",
      "source": [
        "loss = history.history['loss']\n",
        "val_loss = history.history['val_loss']\n",
        "\n",
        "epochs=range(len(loss)) \n",
        "\n",
        "\n",
        "#------------------------------------------------\n",
        "# Plot training and validation loss per epoch\n",
        "#------------------------------------------------\n",
        "plt.plot(epochs, loss, 'r',label='loss')\n",
        "plt.plot(epochs,val_loss,'blue',label='val loss')\n",
        "plt.title('Training loss & Val Loss by Epochs')\n",
        "plt.xlabel(\"Epochs\")\n",
        "plt.ylabel(\"Loss\")\n",
        "plt.legend()\n",
        "\n",
        "plt.figure()"
      ],
      "metadata": {
        "colab": {
          "base_uri": "https://localhost:8080/",
          "height": 438
        },
        "id": "DXBeY_MGZSMP",
        "outputId": "bbeb2571-aba5-4aaf-c7e2-d305710336ff"
      },
      "execution_count": 193,
      "outputs": [
        {
          "output_type": "execute_result",
          "data": {
            "text/plain": [
              "<Figure size 720x360 with 0 Axes>"
            ]
          },
          "metadata": {},
          "execution_count": 193
        },
        {
          "output_type": "display_data",
          "data": {
            "text/plain": [
              "<Figure size 720x360 with 1 Axes>"
            ],
            "image/png": "[encoded data removed]"
          },
          "metadata": {}
        },
        {
          "output_type": "display_data",
          "data": {
            "text/plain": [
              "<Figure size 720x360 with 0 Axes>"
            ]
          },
          "metadata": {}
        }
      ]
    },
    {
      "cell_type": "code",
      "source": [
        "y_predTU = TULSTM_model.predict(X_test)\n",
        "y_predTU"
      ],
      "metadata": {
        "colab": {
          "base_uri": "https://localhost:8080/"
        },
        "id": "lHiuk7B6iQVK",
        "outputId": "7929d512-2871-4dba-9c8f-64c43e0c0dc7"
      },
      "execution_count": 194,
      "outputs": [
        {
          "output_type": "stream",
          "name": "stdout",
          "text": [
            "1/1 [==============================] - 0s 176ms/step\n"
          ]
        },
        {
          "output_type": "execute_result",
          "data": {
            "text/plain": [
              "array([[0.4308604 ],\n",
              "       [0.43530065],\n",
              "       [0.43892527],\n",
              "       [0.4367719 ],\n",
              "       [0.43759358],\n",
              "       [0.44243774],\n",
              "       [0.44304773],\n",
              "       [0.43777388],\n",
              "       [0.4349791 ],\n",
              "       [0.43606383],\n",
              "       [0.43655014],\n",
              "       [0.4341998 ],\n",
              "       [0.4325868 ],\n",
              "       [0.43447766],\n",
              "       [0.43250364],\n",
              "       [0.4256036 ],\n",
              "       [0.42544612],\n",
              "       [0.44531024],\n",
              "       [0.4507335 ],\n",
              "       [0.44504538],\n",
              "       [0.44129592],\n",
              "       [0.44751966]], dtype=float32)"
            ]
          },
          "metadata": {},
          "execution_count": 194
        }
      ]
    },
    {
      "cell_type": "code",
      "source": [
        "y_predTU.reshape(1,-1)"
      ],
      "metadata": {
        "colab": {
          "base_uri": "https://localhost:8080/"
        },
        "id": "JbqyY5OriQYh",
        "outputId": "894cfa29-aba6-4694-8878-7c5c5566ccc8"
      },
      "execution_count": 195,
      "outputs": [
        {
          "output_type": "execute_result",
          "data": {
            "text/plain": [
              "array([[0.4308604 , 0.43530065, 0.43892527, 0.4367719 , 0.43759358,\n",
              "        0.44243774, 0.44304773, 0.43777388, 0.4349791 , 0.43606383,\n",
              "        0.43655014, 0.4341998 , 0.4325868 , 0.43447766, 0.43250364,\n",
              "        0.4256036 , 0.42544612, 0.44531024, 0.4507335 , 0.44504538,\n",
              "        0.44129592, 0.44751966]], dtype=float32)"
            ]
          },
          "metadata": {},
          "execution_count": 195
        }
      ]
    },
    {
      "cell_type": "markdown",
      "source": [
        "###Invert Transformed Tuned Data"
      ],
      "metadata": {
        "id": "XXPkM7CFsB5U"
      }
    },
    {
      "cell_type": "code",
      "source": [
        "y_train_inv = cpo_pri_transformer.inverse_transform(y_train.reshape(1, -1))\n",
        "y_test_inv = cpo_pri_transformer.inverse_transform(y_test.reshape(1, -1))\n",
        "y_pred_inv = cpo_pri_transformer.inverse_transform(y_predTU.reshape(1,-1))\n",
        "print(y_train_inv)\n",
        "print(y_test_inv)\n",
        "print(y_pred_inv)"
      ],
      "metadata": {
        "colab": {
          "base_uri": "https://localhost:8080/"
        },
        "id": "gZ8inWeYy64m",
        "outputId": "b554cf60-edf7-43cf-a3b2-15e5abc6d46b"
      },
      "execution_count": 196,
      "outputs": [
        {
          "output_type": "stream",
          "name": "stdout",
          "text": [
            "[[376. 383. 382. 396. 402. 390. 404. 382. 382. 391. 396. 413. 401. 410.\n",
            "  425. 408. 392. 371. 356. 362. 356. 352. 333. 357. 411. 404. 387. 395.\n",
            "  434. 488. 508. 494. 575. 614. 616. 707. 719. 655. 661. 687. 625. 611.\n",
            "  631. 655. 616. 586. 615. 607. 590. 535. 518. 519. 562. 552. 508. 476.\n",
            "  513. 545. 532. 550. 561. 567. 580. 559. 562. 553. 533. 498. 504. 525.\n",
            "  547. 556. 566. 621. 659. 671. 688. 705. 633. 661. 674. 703. 694. 681.\n",
            "  663. 632. 561. 497. 509. 475. 392. 319. 354. 388. 381. 370.]]\n",
            "[[349. 372. 324. 315. 312. 306. 288. 255. 257. 265. 254. 240. 254. 251.\n",
            "  234. 255. 330. 362. 310. 277. 323. 360.]]\n",
            "[[491.34418 493.12024 494.5701  493.70874 494.03745 495.9751  496.21912\n",
            "  494.10953 492.99164 493.4255  493.62006 492.67993 492.03473 492.79108\n",
            "  492.00143 489.24146 489.17847 497.12408 499.29343 497.01816 495.51834\n",
            "  498.00787]]\n"
          ]
        }
      ]
    },
    {
      "cell_type": "code",
      "source": [
        "y_train_inv = y_train_inv.flatten()\n",
        "y_train_inv"
      ],
      "metadata": {
        "colab": {
          "base_uri": "https://localhost:8080/"
        },
        "id": "2g9TLmgHy7Hw",
        "outputId": "a0c83a07-6617-4d34-f94c-396444bab92b"
      },
      "execution_count": 197,
      "outputs": [
        {
          "output_type": "execute_result",
          "data": {
            "text/plain": [
              "array([376., 383., 382., 396., 402., 390., 404., 382., 382., 391., 396.,\n",
              "       413., 401., 410., 425., 408., 392., 371., 356., 362., 356., 352.,\n",
              "       333., 357., 411., 404., 387., 395., 434., 488., 508., 494., 575.,\n",
              "       614., 616., 707., 719., 655., 661., 687., 625., 611., 631., 655.,\n",
              "       616., 586., 615., 607., 590., 535., 518., 519., 562., 552., 508.,\n",
              "       476., 513., 545., 532., 550., 561., 567., 580., 559., 562., 553.,\n",
              "       533., 498., 504., 525., 547., 556., 566., 621., 659., 671., 688.,\n",
              "       705., 633., 661., 674., 703., 694., 681., 663., 632., 561., 497.,\n",
              "       509., 475., 392., 319., 354., 388., 381., 370.])"
            ]
          },
          "metadata": {},
          "execution_count": 197
        }
      ]
    },
    {
      "cell_type": "code",
      "source": [
        "y_test_inv = y_test_inv.flatten()\n",
        "y_test_inv"
      ],
      "metadata": {
        "colab": {
          "base_uri": "https://localhost:8080/"
        },
        "id": "PDdnZUrXy7L4",
        "outputId": "3e4adcbf-a538-4f3c-ab5b-81fce359a105"
      },
      "execution_count": 198,
      "outputs": [
        {
          "output_type": "execute_result",
          "data": {
            "text/plain": [
              "array([349., 372., 324., 315., 312., 306., 288., 255., 257., 265., 254.,\n",
              "       240., 254., 251., 234., 255., 330., 362., 310., 277., 323., 360.])"
            ]
          },
          "metadata": {},
          "execution_count": 198
        }
      ]
    },
    {
      "cell_type": "code",
      "source": [
        "TU_LSTM_Pred = y_pred_inv.flatten()   #y_pred_inv = TU_LSTM_Pred\n",
        "TU_LSTM_Pred"
      ],
      "metadata": {
        "colab": {
          "base_uri": "https://localhost:8080/"
        },
        "id": "fqq4-3-lsuEy",
        "outputId": "f35e78f8-c22d-4efc-a8b5-681aaedb3731"
      },
      "execution_count": 199,
      "outputs": [
        {
          "output_type": "execute_result",
          "data": {
            "text/plain": [
              "array([491.34418, 493.12024, 494.5701 , 493.70874, 494.03745, 495.9751 ,\n",
              "       496.21912, 494.10953, 492.99164, 493.4255 , 493.62006, 492.67993,\n",
              "       492.03473, 492.79108, 492.00143, 489.24146, 489.17847, 497.12408,\n",
              "       499.29343, 497.01816, 495.51834, 498.00787], dtype=float32)"
            ]
          },
          "metadata": {},
          "execution_count": 199
        }
      ]
    },
    {
      "cell_type": "code",
      "source": [
        "plt.plot(np.arange(0, len(y_train)), y_train_inv, color='green', label=\"History\")\n",
        "plt.plot(np.arange(len(y_train), len(y_train) + len(y_test)), y_test_inv, color='blue', marker='.', label=\"Actual\")\n",
        "plt.plot(np.arange(len(y_train), len(y_train) + len(y_test)), TU_LSTM_Pred, color='red', label=\"Tuned LSTM Prediction\")\n",
        "plt.ylabel('Crude Palm Oil Price')\n",
        "plt.xlabel('Time step')\n",
        "plt.legend()\n",
        "plt.show();"
      ],
      "metadata": {
        "colab": {
          "base_uri": "https://localhost:8080/",
          "height": 383
        },
        "id": "nBN919VXsuNq",
        "outputId": "75e76d65-3631-4a1d-c0e1-6829dd1b63f5"
      },
      "execution_count": 200,
      "outputs": [
        {
          "output_type": "display_data",
          "data": {
            "text/plain": [
              "<Figure size 720x360 with 1 Axes>"
            ],
            "image/png": "[encoded data removed]"
          },
          "metadata": {}
        }
      ]
    },
    {
      "cell_type": "code",
      "source": [
        "TUMAE_LSTM = mean_absolute_error(y_test_inv, TU_LSTM_Pred)\n",
        "print('MAE value of the LSTM Model is:', TUMAE_LSTM)\n",
        "\n",
        "TUMDA_LSTM = mda(y_test_inv, TU_LSTM_Pred)\n",
        "print('MDA value of the tuned LSTM Model is:', TUMDA_LSTM)\n",
        "\n",
        "TUMAPE_LSTM = mean_absolute_percentage_error(y_test_inv, TU_LSTM_Pred)\n",
        "print('MAPE value of the tuned LSTM Model is:', TUMAPE_LSTM)\n",
        "\n",
        "TURMSE_LSTM = mean_squared_error(y_test_inv,TU_LSTM_Pred, squared=False)\n",
        "print('RMSE value of the tuned LSTM Model is:', TURMSE_LSTM)\n",
        "\n",
        "TUMSE_LSTM = mean_squared_error(y_test_inv,TU_LSTM_Pred)\n",
        "print('MSE value of the tuned LSTM Model is:', TUMSE_LSTM)"
      ],
      "metadata": {
        "colab": {
          "base_uri": "https://localhost:8080/"
        },
        "id": "FqciJO0esuRc",
        "outputId": "c36c063d-a15f-487a-8a17-d8a9cec24376"
      },
      "execution_count": 190,
      "outputs": [
        {
          "output_type": "stream",
          "name": "stdout",
          "text": [
            "MAE value of the LSTM Model is: 93.42088456587358\n",
            "MDA value of the tuned LSTM Model is: 0.42857142857142855\n",
            "MAPE value of the tuned LSTM Model is: 33.63980043561035\n",
            "RMSE value of the tuned LSTM Model is: 99.62276726673728\n",
            "MSE value of the tuned LSTM Model is: 9924.6957578825\n"
          ]
        }
      ]
    },
    {
      "cell_type": "markdown",
      "source": [
        "Compare tuned LSTM Actual VS Predicted (Zoomed-IN)"
      ],
      "metadata": {
        "id": "oczznVkQihRI"
      }
    },
    {
      "cell_type": "code",
      "source": [
        "#Plot the graph between actual vs predicted values\n",
        "#plt.figure(figsize=(15,7))  #(10,6))\n",
        "plt.figure(figsize=(16,8), dpi= 100, facecolor='w', edgecolor='k')\n",
        "plt.plot(TU_LSTM_Pred, color= 'green',marker='.',label = 'Tuned LSTM Predicted for cpo_pri')\n",
        "plt.plot(y_test_inv, color = 'red',marker='.',label = 'Actual cpo_pri ')\n",
        "plt.title(\"Tuned LSTM Crude Palm Oil Price Prediction (Multivariate)\")\n",
        "plt.xlabel(\"Time step\")\n",
        "plt.ylabel(\"Crude Palm Oil Price\")\n",
        "plt.legend()\n",
        "plt.show()\n",
        "plt.savefig('graph_TULSTM.png')"
      ],
      "metadata": {
        "colab": {
          "base_uri": "https://localhost:8080/",
          "height": 640
        },
        "id": "RmqyhCu_iV_w",
        "outputId": "81bbb1b8-e75f-4902-ff35-396912df96f1"
      },
      "execution_count": null,
      "outputs": [
        {
          "output_type": "display_data",
          "data": {
            "text/plain": [
              "<Figure size 1600x800 with 1 Axes>"
            ],
            "image/png": "[encoded data removed]"
          },
          "metadata": {}
        },
        {
          "output_type": "display_data",
          "data": {
            "text/plain": [
              "<Figure size 720x360 with 0 Axes>"
            ]
          },
          "metadata": {}
        }
      ]
    },
    {
      "cell_type": "markdown",
      "source": [
        "##Results\n",
        "\n",
        "Baseline MSE         = 0.0160\n",
        "\n",
        "Random search MSE    = 0.2349\n",
        "\n",
        "Bayesian search MSE  = 0.3562\n",
        "\n",
        "Hyperband search MSE = 0.0118\n",
        "\n",
        "Baseline RSME        = 50.6\n",
        "\n",
        "Tuned LSTM RSME       = 39.07"
      ],
      "metadata": {
        "id": "xMdKc2DKj1e-"
      }
    },
    {
      "cell_type": "markdown",
      "source": [
        "The tuned LSTM is superior to the basseline based on the RSME result"
      ],
      "metadata": {
        "id": "J9SI5KHvtAsT"
      }
    },
    {
      "cell_type": "code",
      "source": [
        "TU_LSTM_Pred"
      ],
      "metadata": {
        "id": "TZ39HAx1d0RJ",
        "outputId": "6f2c1296-93f5-4ded-d847-ffa45963c22f",
        "colab": {
          "base_uri": "https://localhost:8080/"
        }
      },
      "execution_count": null,
      "outputs": [
        {
          "output_type": "execute_result",
          "data": {
            "text/plain": [
              "array([347.44516, 340.68094, 350.3727 , 349.47916, 338.25525, 325.55246,\n",
              "       326.9378 , 325.72952, 309.97247, 299.66055, 303.72882, 307.1458 ,\n",
              "       296.03058, 283.43015, 286.5078 , 285.74634, 274.33182, 275.08328,\n",
              "       328.6628 , 367.21143, 348.66684, 324.47903], dtype=float32)"
            ]
          },
          "metadata": {},
          "execution_count": 502
        }
      ]
    },
    {
      "cell_type": "code",
      "source": [
        "dfLSTM = pd.DataFrame(TU_LSTM_Pred)\n",
        "\n",
        "print(df)"
      ],
      "metadata": {
        "id": "CyZ4HpcBdydh",
        "outputId": "498a81e4-2a3e-4faa-eeca-82a65d71d8ab",
        "colab": {
          "base_uri": "https://localhost:8080/"
        }
      },
      "execution_count": null,
      "outputs": [
        {
          "output_type": "stream",
          "name": "stdout",
          "text": [
            "             0\n",
            "0   346.603302\n",
            "1   332.371765\n",
            "2   343.059052\n",
            "3   332.408813\n",
            "4   313.587738\n",
            "5   302.663574\n",
            "6   311.632263\n",
            "7   308.595581\n",
            "8   290.542999\n",
            "9   270.774170\n",
            "10  276.457581\n",
            "11  270.931183\n",
            "12  260.275299\n",
            "13  256.084198\n",
            "14  268.680023\n",
            "15  265.947815\n",
            "16  252.900360\n",
            "17  300.554657\n",
            "18  370.926758\n",
            "19  371.802551\n",
            "20  343.249298\n",
            "21  327.434967\n"
          ]
        }
      ]
    },
    {
      "cell_type": "code",
      "source": [],
      "metadata": {
        "id": "JLZgaBe6uWbe"
      },
      "execution_count": null,
      "outputs": []
    }
  ]
}